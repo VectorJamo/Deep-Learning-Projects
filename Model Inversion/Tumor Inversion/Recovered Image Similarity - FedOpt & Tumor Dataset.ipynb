{
 "cells": [
  {
   "cell_type": "code",
   "execution_count": 1,
   "id": "646b38c2-386a-4f83-a983-ea764ad8267f",
   "metadata": {},
   "outputs": [],
   "source": [
    "# Attempting to recover training data using model's parameters and a DCGAN that was trained on similar data\n",
    "# Author: Suraj Neupane\n",
    "# Written from scratch as a part of a Research Project 2025, Concordia University of Edmonton.\n",
    "import numpy as np\n",
    "\n",
    "import torch\n",
    "from torch import nn\n",
    "from torch.nn import functional\n",
    "\n",
    "from torch.utils import data\n",
    "from torch.utils.data import DataLoader\n",
    "\n",
    "import torchvision\n",
    "from torchvision import datasets\n",
    "from torchvision import transforms\n",
    "\n",
    "import pickle\n",
    "\n",
    "import matplotlib.pyplot as plt\n",
    "%matplotlib inline"
   ]
  },
  {
   "cell_type": "code",
   "execution_count": 2,
   "id": "8b80ddb2-ed75-4870-85b4-9300fce0df7e",
   "metadata": {},
   "outputs": [
    {
     "data": {
      "text/plain": [
       "'2.5.1+cu118'"
      ]
     },
     "execution_count": 2,
     "metadata": {},
     "output_type": "execute_result"
    }
   ],
   "source": [
    "torch.__version__"
   ]
  },
  {
   "cell_type": "code",
   "execution_count": 3,
   "id": "d6950585-eb31-4f61-bd60-5bf8716fcdef",
   "metadata": {},
   "outputs": [],
   "source": [
    "device = 'cuda' if torch.cuda.is_available() else 'cpu'"
   ]
  },
  {
   "cell_type": "code",
   "execution_count": 4,
   "id": "36c47e07-6b7d-4123-a59d-5d465f9ef280",
   "metadata": {},
   "outputs": [
    {
     "data": {
      "text/plain": [
       "'cuda'"
      ]
     },
     "execution_count": 4,
     "metadata": {},
     "output_type": "execute_result"
    }
   ],
   "source": [
    "device"
   ]
  },
  {
   "cell_type": "code",
   "execution_count": 5,
   "id": "b852ca55-f33e-469f-b7b9-e00d21124927",
   "metadata": {},
   "outputs": [],
   "source": [
    "# DCGAN Implementation Class\n",
    "# Discriminator\n",
    "class Discriminator(nn.Module):\n",
    "    def __init__(self, img_channels, features_d):\n",
    "        super().__init__()\n",
    "        self.disc = nn.Sequential(\n",
    "            # Input shape: img_channels x 64 x 64\n",
    "            nn.Conv2d(\n",
    "              in_channels=img_channels, out_channels=features_d, kernel_size=4, stride=2, padding=1\n",
    "            ), # Output shape: features_d x 32 x 32\n",
    "            nn.LeakyReLU(0.2),\n",
    "            self._block(features_d, features_d*2, 4, 2, 1), # Output shape: features_d*2 x 16 x 16\n",
    "            self._block(features_d*2, features_d*4, 4, 2, 1), # Output shape: features_d*4 x 8 x 8\n",
    "            self._block(features_d*4, features_d*8, 4, 2, 1), # Output shape: features_d*8 x 4 x 4\n",
    "           \n",
    "            nn.Conv2d(in_channels=features_d*8, out_channels=1, kernel_size=4, stride=2, padding=0), # Output shape: 1 x 1\n",
    "            nn.Sigmoid(),\n",
    "        )\n",
    "\n",
    "    def _block(self, in_channels, out_channels, kernel_size, stride, padding):\n",
    "        return nn.Sequential(\n",
    "            nn.Conv2d(in_channels, out_channels, kernel_size, stride, padding, bias=False),\n",
    "            nn.BatchNorm2d(out_channels),\n",
    "            nn.LeakyReLU(0.2),\n",
    "        )\n",
    "\n",
    "    def forward(self, X):\n",
    "        return self.disc(X)\n"
   ]
  },
  {
   "cell_type": "code",
   "execution_count": 6,
   "id": "5afe02e5-61d3-4f25-8933-8484e519cd4a",
   "metadata": {},
   "outputs": [],
   "source": [
    "# Generator\n",
    "class Generator(nn.Module):\n",
    "    def __init__(self, z_dim, img_channels, features_g):\n",
    "        super().__init__()\n",
    "        self.gen = nn.Sequential(\n",
    "            self._block(z_dim, features_g*16, 4, 1, 0), # z_dim: (batch_size, 100, 1, 1) -> (batch_size, 1024, 4, 4)\n",
    "            self._block(features_g*16, features_g*8, 4, 2, 1), # z_dim: (batch_size, 1024, 4, 4) -> (batch_size, 512, 8, 8)\n",
    "            self._block(features_g*8, features_g*4, 4, 2, 1), # z_dim: (batch_size, 512, 8, 8) -> (batch_size, 256, 16, 16)\n",
    "            self._block(features_g*4, features_g*2, 4, 2, 1), # z_dim: (batch_size, 128, 16, 16) -> (batch_size, 64, 32, 32)\n",
    "            nn.ConvTranspose2d(\n",
    "                in_channels=features_g*2, out_channels=img_channels, kernel_size=4, stride=2, padding=1 # z_dim: (batch_size, 64, 32, 32) -> (batch_size, 1, 64, 64)\n",
    "            ),\n",
    "            nn.Tanh(),\n",
    "        )\n",
    "        \n",
    "    def _block(self, in_channels, out_channels, kernel_size, stride, padding):\n",
    "        return nn.Sequential(\n",
    "            nn.ConvTranspose2d(\n",
    "                in_channels, out_channels, kernel_size, stride, padding, bias=False,\n",
    "            ),\n",
    "            nn.InstanceNorm2d(out_channels, affine=True),\n",
    "            nn.ReLU(),\n",
    "        )\n",
    "\n",
    "    def forward(self, X):\n",
    "        return self.gen(X)"
   ]
  },
  {
   "cell_type": "code",
   "execution_count": 7,
   "id": "48c1be35-d58a-4d0c-990d-9250fbdbf1b3",
   "metadata": {},
   "outputs": [],
   "source": [
    "# Hyperparams\n",
    "z_dim = 100\n",
    "img_channels = 1\n",
    "features_disc = 64\n",
    "features_gen = 64"
   ]
  },
  {
   "cell_type": "code",
   "execution_count": 8,
   "id": "f2dc1f40-5c2e-4903-b2e7-7abe5cae9772",
   "metadata": {},
   "outputs": [],
   "source": [
    "# Create the model instances\n",
    "gen = Generator(z_dim, img_channels, features_gen).to(device)\n",
    "disc = Discriminator(img_channels, features_disc).to(device)"
   ]
  },
  {
   "cell_type": "code",
   "execution_count": 9,
   "id": "bc7a5deb-f8d8-41d4-aed3-d012d39a84b9",
   "metadata": {},
   "outputs": [
    {
     "data": {
      "text/plain": [
       "<All keys matched successfully>"
      ]
     },
     "execution_count": 9,
     "metadata": {},
     "output_type": "execute_result"
    }
   ],
   "source": [
    "# Load the trained GAN\n",
    "gen.load_state_dict(torch.load('saved models/Generator2.pth', weights_only=True))\n",
    "disc.load_state_dict(torch.load('saved models/Discriminator2.pth', weights_only=True))"
   ]
  },
  {
   "cell_type": "code",
   "execution_count": 10,
   "id": "a504e932-e168-4bb8-88cc-eea0810aafb0",
   "metadata": {},
   "outputs": [],
   "source": [
    "# Generate a random fake image\n",
    "noise = torch.randn(1, z_dim, 1, 1).to(device)\n",
    "fake_img = gen(noise)"
   ]
  },
  {
   "cell_type": "code",
   "execution_count": 11,
   "id": "98b5d73f-b130-4bc1-a868-c225bd2abe62",
   "metadata": {},
   "outputs": [
    {
     "data": {
      "text/plain": [
       "torch.Size([1, 1, 64, 64])"
      ]
     },
     "execution_count": 11,
     "metadata": {},
     "output_type": "execute_result"
    }
   ],
   "source": [
    "fake_img.shape"
   ]
  },
  {
   "cell_type": "code",
   "execution_count": 12,
   "id": "9d19338c-18e4-4b6e-842f-a225718fa8bb",
   "metadata": {},
   "outputs": [
    {
     "name": "stdout",
     "output_type": "stream",
     "text": [
      "torch.Size([64, 64])\n"
     ]
    },
    {
     "data": {
      "text/plain": [
       "<matplotlib.image.AxesImage at 0x1fe2820aa00>"
      ]
     },
     "execution_count": 12,
     "metadata": {},
     "output_type": "execute_result"
    },
    {
     "data": {
      "image/png": "[encoded data removed]",
      "text/plain": [
       "<Figure size 640x480 with 1 Axes>"
      ]
     },
     "metadata": {},
     "output_type": "display_data"
    }
   ],
   "source": [
    "fake_img = fake_img.squeeze()\n",
    "print(fake_img.shape)\n",
    "plt.axis(False)\n",
    "plt.title('Fake Generated Image:')\n",
    "plt.imshow(fake_img.cpu().detach(), cmap='gray')"
   ]
  },
  {
   "cell_type": "code",
   "execution_count": 13,
   "id": "cf2aefac-a759-4335-a3de-2065d6a6a9a5",
   "metadata": {},
   "outputs": [],
   "source": [
    "# Target Model\n",
    "class TFCNN(nn.Module):\n",
    "    def __init__(self, n_classes):\n",
    "        super().__init__()\n",
    "        self.n_classes = n_classes\n",
    "\n",
    "        self.encoder = nn.Sequential(\n",
    "            nn.Conv2d(3, 32, 3, stride=1, padding=1),\n",
    "            nn.ReLU(True),\n",
    "            nn.MaxPool2d(2),\n",
    "            nn.Conv2d(32, 64, 3, stride=1, padding=1),\n",
    "            nn.ReLU(True),\n",
    "            nn.MaxPool2d(2),\n",
    "            nn.Conv2d(64, 64, 3, stride=1, padding=1),\n",
    "            nn.ReLU(True),\n",
    "            nn.MaxPool2d(2),\n",
    "            Reshape(),\n",
    "        )\n",
    "\n",
    "        self.h_size = 64 * 4 * 4\n",
    "\n",
    "        self.classifier = nn.Sequential(\n",
    "            nn.Linear(64 * 4 * 4, 128),\n",
    "            nn.ReLU(True),\n",
    "            nn.Linear(128, n_classes)\n",
    "        )\n",
    "\n",
    "    def forward(self, xs):\n",
    "        code = self.encoder(xs)\n",
    "        logits = self.classifier(code)\n",
    "        return code, logits\n"
   ]
  },
  {
   "cell_type": "code",
   "execution_count": 14,
   "id": "d28876e2-91ee-4ebf-bc52-b71dc82edfa2",
   "metadata": {},
   "outputs": [],
   "source": [
    "class Reshape(nn.Module):\n",
    "    def __init__(self,):\n",
    "        super().__init__()\n",
    "\n",
    "    def forward(self, xs):\n",
    "        return xs.reshape((xs.shape[0], -1))"
   ]
  },
  {
   "cell_type": "code",
   "execution_count": 15,
   "id": "dd57210c-2c18-4651-8f29-be94a7a7a88f",
   "metadata": {},
   "outputs": [],
   "source": [
    "class ClassifyNet(nn.Module):\n",
    "    def __init__(self, net, init_way, n_classes, input_size=None):\n",
    "        super().__init__()\n",
    "        self.net = net\n",
    "        self.init_way = init_way\n",
    "        self.n_classes = n_classes\n",
    "\n",
    "        model = TFCNN(n_classes)\n",
    "\n",
    "        self.h_size = model.h_size\n",
    "\n",
    "        # Convo and pool layers\n",
    "        self.encoder = model.encoder\n",
    "\n",
    "        # Classifier layer\n",
    "        self.classifier = nn.Linear(\n",
    "            self.h_size, self.n_classes, bias=False\n",
    "        )\n",
    "\n",
    "        if self.init_way == \"orth\":\n",
    "            ws = get_orth_weights(self.h_size, self.n_classes)\n",
    "            self.classifier.load_state_dict({\"weight\": ws})\n",
    "\n",
    "    def forward(self, xs):\n",
    "        hs = self.encoder(xs)\n",
    "        logits = self.classifier(hs)\n",
    "        return hs, logits"
   ]
  },
  {
   "cell_type": "code",
   "execution_count": 16,
   "id": "83ea3c08-0470-4c9a-ba15-8328a316b3ab",
   "metadata": {},
   "outputs": [],
   "source": [
    "def load_target_model(base_net, n_classes, path):\n",
    "    # Create the base model\n",
    "    model = ClassifyNet(net=base_net, init_way='none', n_classes=n_classes)\n",
    "    # Load the model\n",
    "    model.load_state_dict(torch.load(path, weights_only=True))\n",
    "\n",
    "    return model"
   ]
  },
  {
   "cell_type": "code",
   "execution_count": 17,
   "id": "0880f1aa-9d08-445a-85ac-f1ff3cebde04",
   "metadata": {},
   "outputs": [
    {
     "name": "stdout",
     "output_type": "stream",
     "text": [
      "Model loaded successfully!\n",
      "Number of parameters in the loaded model: 60416\n"
     ]
    }
   ],
   "source": [
    "# Target Model Loading\n",
    "BASE_NET = 'TFCNN'\n",
    "DATASET = 'tumor4'\n",
    "N_CLASSES = 4\n",
    "\n",
    "target_model = load_target_model(base_net=BASE_NET, n_classes=N_CLASSES, path='saved models/fedopt_global_model.path').to(device)\n",
    "print('Model loaded successfully!')\n",
    "target_model.eval()\n",
    "\n",
    "num_params = sum(p.numel() for p in target_model.parameters())\n",
    "print('Number of parameters in the loaded model:', num_params)\n"
   ]
  },
  {
   "cell_type": "code",
   "execution_count": 18,
   "id": "f843f19e-b2a5-4ffe-b22b-de4ff93c5643",
   "metadata": {},
   "outputs": [],
   "source": [
    "# BEGIN BATCH MODEL INVERSION\n",
    "img_count = 20\n",
    "latent_vectors = torch.randn(img_count, z_dim, 1, 1, requires_grad=True) # Start with 20 random noises"
   ]
  },
  {
   "cell_type": "code",
   "execution_count": 19,
   "id": "c21320ed-d5ac-4919-aaad-8cfa093998a6",
   "metadata": {},
   "outputs": [],
   "source": [
    "def recover_images(count, target_image_class, latent_vectors):\n",
    "    optimized_latent_vectors = []\n",
    "    \n",
    "    for x in range(0, count):\n",
    "        z = latent_vectors[x].unsqueeze(dim=0).clone().detach().requires_grad_(True)\n",
    "        \n",
    "        learning_rate = 0.01\n",
    "        target_class = 1 # The second class\n",
    "        \n",
    "        # Create the optimizer\n",
    "        optimizer = torch.optim.Adam([z], lr=learning_rate)\n",
    "        \n",
    "        # Loss function (e.g., Cross-Entropy with classifier outputs)\n",
    "        loss_fn = nn.CrossEntropyLoss()\n",
    "        target_class = torch.tensor([target_image_class])  # Set the target class\n",
    "    \n",
    "        # Optimization loop to find the best z\n",
    "        rounds = 500\n",
    "        for i in range(rounds):\n",
    "            optimizer.zero_grad()\n",
    "            \n",
    "            generated_image = gen(z.to(device))  # Generate an image from the latent vector\n",
    "            generated_image = generated_image.repeat(1, 3, 1, 1)\n",
    "            generated_image = functional.interpolate(generated_image, size=(32, 32), mode='nearest')\n",
    "            #print(generated_image.shape)\n",
    "            hs, prediction_logits = target_model(generated_image)  # Classifier output\n",
    "            #print(prediction_logits)\n",
    "            #print(type(prediction_logits))\n",
    "            loss = loss_fn(prediction_logits, target_class.to(device))  # Minimize difference with true class\n",
    "            loss.backward()\n",
    "            optimizer.step()\n",
    "            \n",
    "            if i % 50 == 0:\n",
    "                print(f\"Generating Image Number: {x+1} for target class {target_class}. Step {i}, Loss: {loss.item()}\")\n",
    "    \n",
    "        optimized_latent_vectors.append(z)\n",
    "        \n",
    "    return optimized_latent_vectors"
   ]
  },
  {
   "cell_type": "code",
   "execution_count": 20,
   "id": "9ebc9533-23ca-4d44-8aea-9d134281b3a4",
   "metadata": {
    "scrolled": true
   },
   "outputs": [
    {
     "name": "stdout",
     "output_type": "stream",
     "text": [
      "Generating Image Number: 1 for target class tensor([0]). Step 0, Loss: 14.916131019592285\n",
      "Generating Image Number: 1 for target class tensor([0]). Step 50, Loss: 6.892496585845947\n",
      "Generating Image Number: 1 for target class tensor([0]). Step 100, Loss: 6.636787414550781\n",
      "Generating Image Number: 1 for target class tensor([0]). Step 150, Loss: 6.489053249359131\n",
      "Generating Image Number: 1 for target class tensor([0]). Step 200, Loss: 6.357059478759766\n",
      "Generating Image Number: 1 for target class tensor([0]). Step 250, Loss: 6.202422618865967\n",
      "Generating Image Number: 1 for target class tensor([0]). Step 300, Loss: 6.112217426300049\n",
      "Generating Image Number: 1 for target class tensor([0]). Step 350, Loss: 6.039440155029297\n",
      "Generating Image Number: 1 for target class tensor([0]). Step 400, Loss: 5.935506820678711\n",
      "Generating Image Number: 1 for target class tensor([0]). Step 450, Loss: 5.766104698181152\n",
      "Generating Image Number: 2 for target class tensor([0]). Step 0, Loss: 4.97750186920166\n",
      "Generating Image Number: 2 for target class tensor([0]). Step 50, Loss: 0.17281751334667206\n",
      "Generating Image Number: 2 for target class tensor([0]). Step 100, Loss: 0.10454698652029037\n",
      "Generating Image Number: 2 for target class tensor([0]). Step 150, Loss: 0.08622431755065918\n",
      "Generating Image Number: 2 for target class tensor([0]). Step 200, Loss: 0.07471344619989395\n",
      "Generating Image Number: 2 for target class tensor([0]). Step 250, Loss: 0.066607765853405\n",
      "Generating Image Number: 2 for target class tensor([0]). Step 300, Loss: 0.05992898344993591\n",
      "Generating Image Number: 2 for target class tensor([0]). Step 350, Loss: 0.05392584204673767\n",
      "Generating Image Number: 2 for target class tensor([0]). Step 400, Loss: 0.049533482640981674\n",
      "Generating Image Number: 2 for target class tensor([0]). Step 450, Loss: 0.04587489739060402\n",
      "Generating Image Number: 3 for target class tensor([0]). Step 0, Loss: 3.903532028198242\n",
      "Generating Image Number: 3 for target class tensor([0]). Step 50, Loss: 1.4451638460159302\n",
      "Generating Image Number: 3 for target class tensor([0]). Step 100, Loss: 0.186763197183609\n",
      "Generating Image Number: 3 for target class tensor([0]). Step 150, Loss: 0.09903580695390701\n",
      "Generating Image Number: 3 for target class tensor([0]). Step 200, Loss: 0.0673351064324379\n",
      "Generating Image Number: 3 for target class tensor([0]). Step 250, Loss: 0.050060197710990906\n",
      "Generating Image Number: 3 for target class tensor([0]). Step 300, Loss: 0.038912635296583176\n",
      "Generating Image Number: 3 for target class tensor([0]). Step 350, Loss: 0.03210775926709175\n",
      "Generating Image Number: 3 for target class tensor([0]). Step 400, Loss: 0.027938414365053177\n",
      "Generating Image Number: 3 for target class tensor([0]). Step 450, Loss: 0.02516443096101284\n",
      "Generating Image Number: 4 for target class tensor([0]). Step 0, Loss: 7.524090766906738\n",
      "Generating Image Number: 4 for target class tensor([0]). Step 50, Loss: 1.290479302406311\n",
      "Generating Image Number: 4 for target class tensor([0]). Step 100, Loss: 0.5768693685531616\n",
      "Generating Image Number: 4 for target class tensor([0]). Step 150, Loss: 0.2976239323616028\n",
      "Generating Image Number: 4 for target class tensor([0]). Step 200, Loss: 0.2043657898902893\n",
      "Generating Image Number: 4 for target class tensor([0]). Step 250, Loss: 0.15295842289924622\n",
      "Generating Image Number: 4 for target class tensor([0]). Step 300, Loss: 0.12572981417179108\n",
      "Generating Image Number: 4 for target class tensor([0]). Step 350, Loss: 0.10360098630189896\n",
      "Generating Image Number: 4 for target class tensor([0]). Step 400, Loss: 0.08558850735425949\n",
      "Generating Image Number: 4 for target class tensor([0]). Step 450, Loss: 0.07238524407148361\n",
      "Generating Image Number: 5 for target class tensor([0]). Step 0, Loss: 6.45951509475708\n",
      "Generating Image Number: 5 for target class tensor([0]). Step 50, Loss: 2.181636333465576\n",
      "Generating Image Number: 5 for target class tensor([0]). Step 100, Loss: 2.0406572818756104\n",
      "Generating Image Number: 5 for target class tensor([0]). Step 150, Loss: 1.9048248529434204\n",
      "Generating Image Number: 5 for target class tensor([0]). Step 200, Loss: 1.7769615650177002\n",
      "Generating Image Number: 5 for target class tensor([0]). Step 250, Loss: 1.650870442390442\n",
      "Generating Image Number: 5 for target class tensor([0]). Step 300, Loss: 1.550883173942566\n",
      "Generating Image Number: 5 for target class tensor([0]). Step 350, Loss: 1.467416524887085\n",
      "Generating Image Number: 5 for target class tensor([0]). Step 400, Loss: 1.3916364908218384\n",
      "Generating Image Number: 5 for target class tensor([0]). Step 450, Loss: 1.3323198556900024\n",
      "Generating Image Number: 6 for target class tensor([0]). Step 0, Loss: 5.135793685913086\n",
      "Generating Image Number: 6 for target class tensor([0]). Step 50, Loss: 2.639478921890259\n",
      "Generating Image Number: 6 for target class tensor([0]). Step 100, Loss: 1.605965256690979\n",
      "Generating Image Number: 6 for target class tensor([0]). Step 150, Loss: 0.9507970809936523\n",
      "Generating Image Number: 6 for target class tensor([0]). Step 200, Loss: 0.6336395144462585\n",
      "Generating Image Number: 6 for target class tensor([0]). Step 250, Loss: 0.4657788872718811\n",
      "Generating Image Number: 6 for target class tensor([0]). Step 300, Loss: 0.37169989943504333\n",
      "Generating Image Number: 6 for target class tensor([0]). Step 350, Loss: 0.310189813375473\n",
      "Generating Image Number: 6 for target class tensor([0]). Step 400, Loss: 0.26259031891822815\n",
      "Generating Image Number: 6 for target class tensor([0]). Step 450, Loss: 0.229326531291008\n",
      "Generating Image Number: 7 for target class tensor([0]). Step 0, Loss: 8.941987991333008\n",
      "Generating Image Number: 7 for target class tensor([0]). Step 50, Loss: 2.181929588317871\n",
      "Generating Image Number: 7 for target class tensor([0]). Step 100, Loss: 1.2294411659240723\n",
      "Generating Image Number: 7 for target class tensor([0]). Step 150, Loss: 0.8647769689559937\n",
      "Generating Image Number: 7 for target class tensor([0]). Step 200, Loss: 0.6623332500457764\n",
      "Generating Image Number: 7 for target class tensor([0]). Step 250, Loss: 0.5074843764305115\n",
      "Generating Image Number: 7 for target class tensor([0]). Step 300, Loss: 0.40062153339385986\n",
      "Generating Image Number: 7 for target class tensor([0]). Step 350, Loss: 0.2889678478240967\n",
      "Generating Image Number: 7 for target class tensor([0]). Step 400, Loss: 0.16414770483970642\n",
      "Generating Image Number: 7 for target class tensor([0]). Step 450, Loss: 0.1294877976179123\n",
      "Generating Image Number: 8 for target class tensor([0]). Step 0, Loss: 5.128931999206543\n",
      "Generating Image Number: 8 for target class tensor([0]). Step 50, Loss: 1.0068955421447754\n",
      "Generating Image Number: 8 for target class tensor([0]). Step 100, Loss: 0.3998298943042755\n",
      "Generating Image Number: 8 for target class tensor([0]). Step 150, Loss: 0.2443152368068695\n",
      "Generating Image Number: 8 for target class tensor([0]). Step 200, Loss: 0.1606629490852356\n",
      "Generating Image Number: 8 for target class tensor([0]). Step 250, Loss: 0.11637399345636368\n",
      "Generating Image Number: 8 for target class tensor([0]). Step 300, Loss: 0.09550189226865768\n",
      "Generating Image Number: 8 for target class tensor([0]). Step 350, Loss: 0.0811406672000885\n",
      "Generating Image Number: 8 for target class tensor([0]). Step 400, Loss: 0.06871809810400009\n",
      "Generating Image Number: 8 for target class tensor([0]). Step 450, Loss: 0.059490226209163666\n",
      "Generating Image Number: 9 for target class tensor([0]). Step 0, Loss: 8.281861305236816\n",
      "Generating Image Number: 9 for target class tensor([0]). Step 50, Loss: 4.044826507568359\n",
      "Generating Image Number: 9 for target class tensor([0]). Step 100, Loss: 2.4649932384490967\n",
      "Generating Image Number: 9 for target class tensor([0]). Step 150, Loss: 1.4870474338531494\n",
      "Generating Image Number: 9 for target class tensor([0]). Step 200, Loss: 1.0751793384552002\n",
      "Generating Image Number: 9 for target class tensor([0]). Step 250, Loss: 0.7624234557151794\n",
      "Generating Image Number: 9 for target class tensor([0]). Step 300, Loss: 0.5760972499847412\n",
      "Generating Image Number: 9 for target class tensor([0]). Step 350, Loss: 0.45166778564453125\n",
      "Generating Image Number: 9 for target class tensor([0]). Step 400, Loss: 0.39242100715637207\n",
      "Generating Image Number: 9 for target class tensor([0]). Step 450, Loss: 0.34070971608161926\n",
      "Generating Image Number: 10 for target class tensor([0]). Step 0, Loss: 8.0511474609375\n",
      "Generating Image Number: 10 for target class tensor([0]). Step 50, Loss: 2.4804775714874268\n",
      "Generating Image Number: 10 for target class tensor([0]). Step 100, Loss: 1.1815457344055176\n",
      "Generating Image Number: 10 for target class tensor([0]). Step 150, Loss: 0.6066756844520569\n",
      "Generating Image Number: 10 for target class tensor([0]). Step 200, Loss: 0.4093532860279083\n",
      "Generating Image Number: 10 for target class tensor([0]). Step 250, Loss: 0.27168411016464233\n",
      "Generating Image Number: 10 for target class tensor([0]). Step 300, Loss: 0.2046085000038147\n",
      "Generating Image Number: 10 for target class tensor([0]). Step 350, Loss: 0.1610661894083023\n",
      "Generating Image Number: 10 for target class tensor([0]). Step 400, Loss: 0.12458813935518265\n",
      "Generating Image Number: 10 for target class tensor([0]). Step 450, Loss: 0.10387512296438217\n",
      "Generating Image Number: 11 for target class tensor([0]). Step 0, Loss: 4.9499311447143555\n",
      "Generating Image Number: 11 for target class tensor([0]). Step 50, Loss: 0.5634819865226746\n",
      "Generating Image Number: 11 for target class tensor([0]). Step 100, Loss: 0.34967488050460815\n",
      "Generating Image Number: 11 for target class tensor([0]). Step 150, Loss: 0.26663142442703247\n",
      "Generating Image Number: 11 for target class tensor([0]). Step 200, Loss: 0.21073463559150696\n",
      "Generating Image Number: 11 for target class tensor([0]). Step 250, Loss: 0.1663653701543808\n",
      "Generating Image Number: 11 for target class tensor([0]). Step 300, Loss: 0.13995015621185303\n",
      "Generating Image Number: 11 for target class tensor([0]). Step 350, Loss: 0.12225908786058426\n",
      "Generating Image Number: 11 for target class tensor([0]). Step 400, Loss: 0.10749675333499908\n",
      "Generating Image Number: 11 for target class tensor([0]). Step 450, Loss: 0.09499315917491913\n",
      "Generating Image Number: 12 for target class tensor([0]). Step 0, Loss: 0.0\n",
      "Generating Image Number: 12 for target class tensor([0]). Step 50, Loss: 0.0\n",
      "Generating Image Number: 12 for target class tensor([0]). Step 100, Loss: 0.0\n",
      "Generating Image Number: 12 for target class tensor([0]). Step 150, Loss: 0.0\n",
      "Generating Image Number: 12 for target class tensor([0]). Step 200, Loss: 0.0\n",
      "Generating Image Number: 12 for target class tensor([0]). Step 250, Loss: 0.0\n",
      "Generating Image Number: 12 for target class tensor([0]). Step 300, Loss: 0.0\n",
      "Generating Image Number: 12 for target class tensor([0]). Step 350, Loss: 0.0\n",
      "Generating Image Number: 12 for target class tensor([0]). Step 400, Loss: 0.0\n",
      "Generating Image Number: 12 for target class tensor([0]). Step 450, Loss: 0.0\n",
      "Generating Image Number: 13 for target class tensor([0]). Step 0, Loss: 0.30097365379333496\n",
      "Generating Image Number: 13 for target class tensor([0]). Step 50, Loss: 0.07235996425151825\n",
      "Generating Image Number: 13 for target class tensor([0]). Step 100, Loss: 0.04829033836722374\n",
      "Generating Image Number: 13 for target class tensor([0]). Step 150, Loss: 0.03640429303050041\n",
      "Generating Image Number: 13 for target class tensor([0]). Step 200, Loss: 0.02852412685751915\n",
      "Generating Image Number: 13 for target class tensor([0]). Step 250, Loss: 0.02262691594660282\n",
      "Generating Image Number: 13 for target class tensor([0]). Step 300, Loss: 0.01888965629041195\n",
      "Generating Image Number: 13 for target class tensor([0]). Step 350, Loss: 0.01646268367767334\n",
      "Generating Image Number: 13 for target class tensor([0]). Step 400, Loss: 0.014832339249551296\n",
      "Generating Image Number: 13 for target class tensor([0]). Step 450, Loss: 0.01349493395537138\n",
      "Generating Image Number: 14 for target class tensor([0]). Step 0, Loss: 10.253608703613281\n",
      "Generating Image Number: 14 for target class tensor([0]). Step 50, Loss: 2.1998331546783447\n",
      "Generating Image Number: 14 for target class tensor([0]). Step 100, Loss: 1.1352930068969727\n",
      "Generating Image Number: 14 for target class tensor([0]). Step 150, Loss: 0.6051754951477051\n",
      "Generating Image Number: 14 for target class tensor([0]). Step 200, Loss: 0.4002076983451843\n",
      "Generating Image Number: 14 for target class tensor([0]). Step 250, Loss: 0.2758089303970337\n",
      "Generating Image Number: 14 for target class tensor([0]). Step 300, Loss: 0.21013550460338593\n",
      "Generating Image Number: 14 for target class tensor([0]). Step 350, Loss: 0.16630005836486816\n",
      "Generating Image Number: 14 for target class tensor([0]). Step 400, Loss: 0.13467128574848175\n",
      "Generating Image Number: 14 for target class tensor([0]). Step 450, Loss: 0.11759238690137863\n",
      "Generating Image Number: 15 for target class tensor([0]). Step 0, Loss: 9.592713356018066\n",
      "Generating Image Number: 15 for target class tensor([0]). Step 50, Loss: 5.8075032234191895\n",
      "Generating Image Number: 15 for target class tensor([0]). Step 100, Loss: 4.603684902191162\n",
      "Generating Image Number: 15 for target class tensor([0]). Step 150, Loss: 3.912062644958496\n",
      "Generating Image Number: 15 for target class tensor([0]). Step 200, Loss: 3.640073776245117\n",
      "Generating Image Number: 15 for target class tensor([0]). Step 250, Loss: 3.0314600467681885\n",
      "Generating Image Number: 15 for target class tensor([0]). Step 300, Loss: 2.733170747756958\n",
      "Generating Image Number: 15 for target class tensor([0]). Step 350, Loss: 2.4712822437286377\n",
      "Generating Image Number: 15 for target class tensor([0]). Step 400, Loss: 2.0500292778015137\n",
      "Generating Image Number: 15 for target class tensor([0]). Step 450, Loss: 1.7585949897766113\n",
      "Generating Image Number: 16 for target class tensor([0]). Step 0, Loss: 1.3843649625778198\n",
      "Generating Image Number: 16 for target class tensor([0]). Step 50, Loss: 0.2727917432785034\n",
      "Generating Image Number: 16 for target class tensor([0]). Step 100, Loss: 0.17979972064495087\n",
      "Generating Image Number: 16 for target class tensor([0]). Step 150, Loss: 0.1362697333097458\n",
      "Generating Image Number: 16 for target class tensor([0]). Step 200, Loss: 0.10693667083978653\n",
      "Generating Image Number: 16 for target class tensor([0]). Step 250, Loss: 0.08740821480751038\n",
      "Generating Image Number: 16 for target class tensor([0]). Step 300, Loss: 0.07164458930492401\n",
      "Generating Image Number: 16 for target class tensor([0]). Step 350, Loss: 0.06142460182309151\n",
      "Generating Image Number: 16 for target class tensor([0]). Step 400, Loss: 0.05377119779586792\n",
      "Generating Image Number: 16 for target class tensor([0]). Step 450, Loss: 0.047391895204782486\n",
      "Generating Image Number: 17 for target class tensor([0]). Step 0, Loss: 8.114745140075684\n",
      "Generating Image Number: 17 for target class tensor([0]). Step 50, Loss: 2.6156716346740723\n",
      "Generating Image Number: 17 for target class tensor([0]). Step 100, Loss: 1.5436793565750122\n",
      "Generating Image Number: 17 for target class tensor([0]). Step 150, Loss: 0.99820876121521\n",
      "Generating Image Number: 17 for target class tensor([0]). Step 200, Loss: 0.688239336013794\n",
      "Generating Image Number: 17 for target class tensor([0]). Step 250, Loss: 0.43880781531333923\n",
      "Generating Image Number: 17 for target class tensor([0]). Step 300, Loss: 0.3191160559654236\n",
      "Generating Image Number: 17 for target class tensor([0]). Step 350, Loss: 0.24587273597717285\n",
      "Generating Image Number: 17 for target class tensor([0]). Step 400, Loss: 0.19786770641803741\n",
      "Generating Image Number: 17 for target class tensor([0]). Step 450, Loss: 0.16841021180152893\n",
      "Generating Image Number: 18 for target class tensor([0]). Step 0, Loss: 5.022280693054199\n",
      "Generating Image Number: 18 for target class tensor([0]). Step 50, Loss: 2.0721521377563477\n",
      "Generating Image Number: 18 for target class tensor([0]). Step 100, Loss: 1.9032189846038818\n",
      "Generating Image Number: 18 for target class tensor([0]). Step 150, Loss: 1.791879415512085\n",
      "Generating Image Number: 18 for target class tensor([0]). Step 200, Loss: 1.7151591777801514\n",
      "Generating Image Number: 18 for target class tensor([0]). Step 250, Loss: 1.6540131568908691\n",
      "Generating Image Number: 18 for target class tensor([0]). Step 300, Loss: 1.600838303565979\n",
      "Generating Image Number: 18 for target class tensor([0]). Step 350, Loss: 1.5404205322265625\n",
      "Generating Image Number: 18 for target class tensor([0]). Step 400, Loss: 1.5060895681381226\n",
      "Generating Image Number: 18 for target class tensor([0]). Step 450, Loss: 1.4744806289672852\n",
      "Generating Image Number: 19 for target class tensor([0]). Step 0, Loss: 9.579885482788086\n",
      "Generating Image Number: 19 for target class tensor([0]). Step 50, Loss: 2.6273739337921143\n",
      "Generating Image Number: 19 for target class tensor([0]). Step 100, Loss: 2.338670015335083\n",
      "Generating Image Number: 19 for target class tensor([0]). Step 150, Loss: 2.176158905029297\n",
      "Generating Image Number: 19 for target class tensor([0]). Step 200, Loss: 2.069126844406128\n",
      "Generating Image Number: 19 for target class tensor([0]). Step 250, Loss: 1.9822087287902832\n",
      "Generating Image Number: 19 for target class tensor([0]). Step 300, Loss: 1.896051287651062\n",
      "Generating Image Number: 19 for target class tensor([0]). Step 350, Loss: 1.8250582218170166\n",
      "Generating Image Number: 19 for target class tensor([0]). Step 400, Loss: 1.761470913887024\n",
      "Generating Image Number: 19 for target class tensor([0]). Step 450, Loss: 1.7100855112075806\n",
      "Generating Image Number: 20 for target class tensor([0]). Step 0, Loss: 8.779348373413086\n",
      "Generating Image Number: 20 for target class tensor([0]). Step 50, Loss: 3.2266294956207275\n",
      "Generating Image Number: 20 for target class tensor([0]). Step 100, Loss: 1.8422948122024536\n",
      "Generating Image Number: 20 for target class tensor([0]). Step 150, Loss: 1.1460309028625488\n",
      "Generating Image Number: 20 for target class tensor([0]). Step 200, Loss: 0.8987689018249512\n",
      "Generating Image Number: 20 for target class tensor([0]). Step 250, Loss: 0.7408105134963989\n",
      "Generating Image Number: 20 for target class tensor([0]). Step 300, Loss: 0.634676456451416\n",
      "Generating Image Number: 20 for target class tensor([0]). Step 350, Loss: 0.5592870116233826\n",
      "Generating Image Number: 20 for target class tensor([0]). Step 400, Loss: 0.5005457401275635\n",
      "Generating Image Number: 20 for target class tensor([0]). Step 450, Loss: 0.4574856758117676\n"
     ]
    }
   ],
   "source": [
    "class0_optimized_latent_vectors = recover_images(img_count, 0, latent_vectors)"
   ]
  },
  {
   "cell_type": "code",
   "execution_count": 21,
   "id": "6718334c-2bb1-42a3-bd8c-6aea38e6b59c",
   "metadata": {
    "scrolled": true
   },
   "outputs": [
    {
     "name": "stdout",
     "output_type": "stream",
     "text": [
      "Generating Image Number: 1 for target class tensor([1]). Step 0, Loss: 11.434466361999512\n",
      "Generating Image Number: 1 for target class tensor([1]). Step 50, Loss: 6.4174065589904785\n",
      "Generating Image Number: 1 for target class tensor([1]). Step 100, Loss: 5.3940653800964355\n",
      "Generating Image Number: 1 for target class tensor([1]). Step 150, Loss: 4.836791515350342\n",
      "Generating Image Number: 1 for target class tensor([1]). Step 200, Loss: 4.506191730499268\n",
      "Generating Image Number: 1 for target class tensor([1]). Step 250, Loss: 4.226419925689697\n",
      "Generating Image Number: 1 for target class tensor([1]). Step 300, Loss: 4.059365272521973\n",
      "Generating Image Number: 1 for target class tensor([1]). Step 350, Loss: 3.879014730453491\n",
      "Generating Image Number: 1 for target class tensor([1]). Step 400, Loss: 3.7344422340393066\n",
      "Generating Image Number: 1 for target class tensor([1]). Step 450, Loss: 3.5817527770996094\n",
      "Generating Image Number: 2 for target class tensor([1]). Step 0, Loss: 9.023519515991211\n",
      "Generating Image Number: 2 for target class tensor([1]). Step 50, Loss: 6.109818458557129\n",
      "Generating Image Number: 2 for target class tensor([1]). Step 100, Loss: 5.445338249206543\n",
      "Generating Image Number: 2 for target class tensor([1]). Step 150, Loss: 4.864150047302246\n",
      "Generating Image Number: 2 for target class tensor([1]). Step 200, Loss: 4.640678882598877\n",
      "Generating Image Number: 2 for target class tensor([1]). Step 250, Loss: 4.482356071472168\n",
      "Generating Image Number: 2 for target class tensor([1]). Step 300, Loss: 4.297072887420654\n",
      "Generating Image Number: 2 for target class tensor([1]). Step 350, Loss: 4.156996726989746\n",
      "Generating Image Number: 2 for target class tensor([1]). Step 400, Loss: 4.064128875732422\n",
      "Generating Image Number: 2 for target class tensor([1]). Step 450, Loss: 3.9692604541778564\n",
      "Generating Image Number: 3 for target class tensor([1]). Step 0, Loss: 10.195302963256836\n",
      "Generating Image Number: 3 for target class tensor([1]). Step 50, Loss: 4.426020622253418\n",
      "Generating Image Number: 3 for target class tensor([1]). Step 100, Loss: 3.8371477127075195\n",
      "Generating Image Number: 3 for target class tensor([1]). Step 150, Loss: 3.5001730918884277\n",
      "Generating Image Number: 3 for target class tensor([1]). Step 200, Loss: 3.2116544246673584\n",
      "Generating Image Number: 3 for target class tensor([1]). Step 250, Loss: 2.9613492488861084\n",
      "Generating Image Number: 3 for target class tensor([1]). Step 300, Loss: 2.7531440258026123\n",
      "Generating Image Number: 3 for target class tensor([1]). Step 350, Loss: 2.550428867340088\n",
      "Generating Image Number: 3 for target class tensor([1]). Step 400, Loss: 2.357180118560791\n",
      "Generating Image Number: 3 for target class tensor([1]). Step 450, Loss: 2.210855484008789\n",
      "Generating Image Number: 4 for target class tensor([1]). Step 0, Loss: 10.547179222106934\n",
      "Generating Image Number: 4 for target class tensor([1]). Step 50, Loss: 7.402869701385498\n",
      "Generating Image Number: 4 for target class tensor([1]). Step 100, Loss: 7.212191581726074\n",
      "Generating Image Number: 4 for target class tensor([1]). Step 150, Loss: 7.037749767303467\n",
      "Generating Image Number: 4 for target class tensor([1]). Step 200, Loss: 6.910640716552734\n",
      "Generating Image Number: 4 for target class tensor([1]). Step 250, Loss: 6.835525035858154\n",
      "Generating Image Number: 4 for target class tensor([1]). Step 300, Loss: 6.7768874168396\n",
      "Generating Image Number: 4 for target class tensor([1]). Step 350, Loss: 6.727813243865967\n",
      "Generating Image Number: 4 for target class tensor([1]). Step 400, Loss: 6.672922611236572\n",
      "Generating Image Number: 4 for target class tensor([1]). Step 450, Loss: 6.5932745933532715\n",
      "Generating Image Number: 5 for target class tensor([1]). Step 0, Loss: 6.1768622398376465\n",
      "Generating Image Number: 5 for target class tensor([1]). Step 50, Loss: 3.9365053176879883\n",
      "Generating Image Number: 5 for target class tensor([1]). Step 100, Loss: 3.330259323120117\n",
      "Generating Image Number: 5 for target class tensor([1]). Step 150, Loss: 2.9894137382507324\n",
      "Generating Image Number: 5 for target class tensor([1]). Step 200, Loss: 2.7520203590393066\n",
      "Generating Image Number: 5 for target class tensor([1]). Step 250, Loss: 2.51605224609375\n",
      "Generating Image Number: 5 for target class tensor([1]). Step 300, Loss: 2.308899402618408\n",
      "Generating Image Number: 5 for target class tensor([1]). Step 350, Loss: 2.167393684387207\n",
      "Generating Image Number: 5 for target class tensor([1]). Step 400, Loss: 2.0494284629821777\n",
      "Generating Image Number: 5 for target class tensor([1]). Step 450, Loss: 1.9939227104187012\n",
      "Generating Image Number: 6 for target class tensor([1]). Step 0, Loss: 8.25727653503418\n",
      "Generating Image Number: 6 for target class tensor([1]). Step 50, Loss: 4.484209060668945\n",
      "Generating Image Number: 6 for target class tensor([1]). Step 100, Loss: 3.1633410453796387\n",
      "Generating Image Number: 6 for target class tensor([1]). Step 150, Loss: 2.58481764793396\n",
      "Generating Image Number: 6 for target class tensor([1]). Step 200, Loss: 2.2154998779296875\n",
      "Generating Image Number: 6 for target class tensor([1]). Step 250, Loss: 2.003290891647339\n",
      "Generating Image Number: 6 for target class tensor([1]). Step 300, Loss: 1.847358226776123\n",
      "Generating Image Number: 6 for target class tensor([1]). Step 350, Loss: 1.7164453268051147\n",
      "Generating Image Number: 6 for target class tensor([1]). Step 400, Loss: 1.6290203332901\n",
      "Generating Image Number: 6 for target class tensor([1]). Step 450, Loss: 1.5567626953125\n",
      "Generating Image Number: 7 for target class tensor([1]). Step 0, Loss: 68.47048950195312\n",
      "Generating Image Number: 7 for target class tensor([1]). Step 50, Loss: 1.0241825580596924\n",
      "Generating Image Number: 7 for target class tensor([1]). Step 100, Loss: 0.8287408351898193\n",
      "Generating Image Number: 7 for target class tensor([1]). Step 150, Loss: 0.6187523007392883\n",
      "Generating Image Number: 7 for target class tensor([1]). Step 200, Loss: 0.5039260983467102\n",
      "Generating Image Number: 7 for target class tensor([1]). Step 250, Loss: 0.429508239030838\n",
      "Generating Image Number: 7 for target class tensor([1]). Step 300, Loss: 0.335526704788208\n",
      "Generating Image Number: 7 for target class tensor([1]). Step 350, Loss: 0.2854796350002289\n",
      "Generating Image Number: 7 for target class tensor([1]). Step 400, Loss: 0.25702473521232605\n",
      "Generating Image Number: 7 for target class tensor([1]). Step 450, Loss: 0.23556174337863922\n",
      "Generating Image Number: 8 for target class tensor([1]). Step 0, Loss: 84.89286041259766\n",
      "Generating Image Number: 8 for target class tensor([1]). Step 50, Loss: 58.328609466552734\n",
      "Generating Image Number: 8 for target class tensor([1]). Step 100, Loss: 5.052338123321533\n",
      "Generating Image Number: 8 for target class tensor([1]). Step 150, Loss: 4.7216267585754395\n",
      "Generating Image Number: 8 for target class tensor([1]). Step 200, Loss: 4.429757595062256\n",
      "Generating Image Number: 8 for target class tensor([1]). Step 250, Loss: 3.765015125274658\n",
      "Generating Image Number: 8 for target class tensor([1]). Step 300, Loss: 3.4920408725738525\n",
      "Generating Image Number: 8 for target class tensor([1]). Step 350, Loss: 3.2934045791625977\n",
      "Generating Image Number: 8 for target class tensor([1]). Step 400, Loss: 3.1387972831726074\n",
      "Generating Image Number: 8 for target class tensor([1]). Step 450, Loss: 2.9927175045013428\n",
      "Generating Image Number: 9 for target class tensor([1]). Step 0, Loss: 13.320047378540039\n",
      "Generating Image Number: 9 for target class tensor([1]). Step 50, Loss: 11.975640296936035\n",
      "Generating Image Number: 9 for target class tensor([1]). Step 100, Loss: 11.675698280334473\n",
      "Generating Image Number: 9 for target class tensor([1]). Step 150, Loss: 11.47232723236084\n",
      "Generating Image Number: 9 for target class tensor([1]). Step 200, Loss: 11.242963790893555\n",
      "Generating Image Number: 9 for target class tensor([1]). Step 250, Loss: 11.059894561767578\n",
      "Generating Image Number: 9 for target class tensor([1]). Step 300, Loss: 10.892250061035156\n",
      "Generating Image Number: 9 for target class tensor([1]). Step 350, Loss: 10.772281646728516\n",
      "Generating Image Number: 9 for target class tensor([1]). Step 400, Loss: 10.670150756835938\n",
      "Generating Image Number: 9 for target class tensor([1]). Step 450, Loss: 10.541431427001953\n",
      "Generating Image Number: 10 for target class tensor([1]). Step 0, Loss: 14.056669235229492\n",
      "Generating Image Number: 10 for target class tensor([1]). Step 50, Loss: 3.4118993282318115\n",
      "Generating Image Number: 10 for target class tensor([1]). Step 100, Loss: 2.435671329498291\n",
      "Generating Image Number: 10 for target class tensor([1]). Step 150, Loss: 1.7399991750717163\n",
      "Generating Image Number: 10 for target class tensor([1]). Step 200, Loss: 1.1730115413665771\n",
      "Generating Image Number: 10 for target class tensor([1]). Step 250, Loss: 0.843593418598175\n",
      "Generating Image Number: 10 for target class tensor([1]). Step 300, Loss: 0.6148566603660583\n",
      "Generating Image Number: 10 for target class tensor([1]). Step 350, Loss: 0.4861299991607666\n",
      "Generating Image Number: 10 for target class tensor([1]). Step 400, Loss: 0.38815128803253174\n",
      "Generating Image Number: 10 for target class tensor([1]). Step 450, Loss: 0.3129241466522217\n",
      "Generating Image Number: 11 for target class tensor([1]). Step 0, Loss: 11.765071868896484\n",
      "Generating Image Number: 11 for target class tensor([1]). Step 50, Loss: 6.789750576019287\n",
      "Generating Image Number: 11 for target class tensor([1]). Step 100, Loss: 5.981726169586182\n",
      "Generating Image Number: 11 for target class tensor([1]). Step 150, Loss: 4.761758804321289\n",
      "Generating Image Number: 11 for target class tensor([1]). Step 200, Loss: 4.320514678955078\n",
      "Generating Image Number: 11 for target class tensor([1]). Step 250, Loss: 3.6361536979675293\n",
      "Generating Image Number: 11 for target class tensor([1]). Step 300, Loss: 3.5931005477905273\n",
      "Generating Image Number: 11 for target class tensor([1]). Step 350, Loss: 2.612583637237549\n",
      "Generating Image Number: 11 for target class tensor([1]). Step 400, Loss: 2.754384994506836\n",
      "Generating Image Number: 11 for target class tensor([1]). Step 450, Loss: 2.1197092533111572\n",
      "Generating Image Number: 12 for target class tensor([1]). Step 0, Loss: 16.840055465698242\n",
      "Generating Image Number: 12 for target class tensor([1]). Step 50, Loss: 13.160115242004395\n",
      "Generating Image Number: 12 for target class tensor([1]). Step 100, Loss: 12.821806907653809\n",
      "Generating Image Number: 12 for target class tensor([1]). Step 150, Loss: 12.467854499816895\n",
      "Generating Image Number: 12 for target class tensor([1]). Step 200, Loss: 12.293045997619629\n",
      "Generating Image Number: 12 for target class tensor([1]). Step 250, Loss: 12.016507148742676\n",
      "Generating Image Number: 12 for target class tensor([1]). Step 300, Loss: 11.624102592468262\n",
      "Generating Image Number: 12 for target class tensor([1]). Step 350, Loss: 11.398433685302734\n",
      "Generating Image Number: 12 for target class tensor([1]). Step 400, Loss: 11.285601615905762\n",
      "Generating Image Number: 12 for target class tensor([1]). Step 450, Loss: 11.207603454589844\n",
      "Generating Image Number: 13 for target class tensor([1]). Step 0, Loss: 10.322858810424805\n",
      "Generating Image Number: 13 for target class tensor([1]). Step 50, Loss: 5.701039791107178\n",
      "Generating Image Number: 13 for target class tensor([1]). Step 100, Loss: 5.2824883460998535\n",
      "Generating Image Number: 13 for target class tensor([1]). Step 150, Loss: 5.017122745513916\n",
      "Generating Image Number: 13 for target class tensor([1]). Step 200, Loss: 4.7821149826049805\n",
      "Generating Image Number: 13 for target class tensor([1]). Step 250, Loss: 4.541428089141846\n",
      "Generating Image Number: 13 for target class tensor([1]). Step 300, Loss: 4.326217174530029\n",
      "Generating Image Number: 13 for target class tensor([1]). Step 350, Loss: 4.134612083435059\n",
      "Generating Image Number: 13 for target class tensor([1]). Step 400, Loss: 3.9883480072021484\n",
      "Generating Image Number: 13 for target class tensor([1]). Step 450, Loss: 3.836315155029297\n",
      "Generating Image Number: 14 for target class tensor([1]). Step 0, Loss: 7.284373760223389\n",
      "Generating Image Number: 14 for target class tensor([1]). Step 50, Loss: 5.495205879211426\n",
      "Generating Image Number: 14 for target class tensor([1]). Step 100, Loss: 4.648882865905762\n",
      "Generating Image Number: 14 for target class tensor([1]). Step 150, Loss: 3.8163163661956787\n",
      "Generating Image Number: 14 for target class tensor([1]). Step 200, Loss: 3.278210401535034\n",
      "Generating Image Number: 14 for target class tensor([1]). Step 250, Loss: 2.9649603366851807\n",
      "Generating Image Number: 14 for target class tensor([1]). Step 300, Loss: 2.6809284687042236\n",
      "Generating Image Number: 14 for target class tensor([1]). Step 350, Loss: 2.546826124191284\n",
      "Generating Image Number: 14 for target class tensor([1]). Step 400, Loss: 2.428457260131836\n",
      "Generating Image Number: 14 for target class tensor([1]). Step 450, Loss: 2.241513252258301\n",
      "Generating Image Number: 15 for target class tensor([1]). Step 0, Loss: 11.446282386779785\n",
      "Generating Image Number: 15 for target class tensor([1]). Step 50, Loss: 3.6684319972991943\n",
      "Generating Image Number: 15 for target class tensor([1]). Step 100, Loss: 3.285066843032837\n",
      "Generating Image Number: 15 for target class tensor([1]). Step 150, Loss: 3.064669132232666\n",
      "Generating Image Number: 15 for target class tensor([1]). Step 200, Loss: 2.6027896404266357\n",
      "Generating Image Number: 15 for target class tensor([1]). Step 250, Loss: 2.4370455741882324\n",
      "Generating Image Number: 15 for target class tensor([1]). Step 300, Loss: 2.352400541305542\n",
      "Generating Image Number: 15 for target class tensor([1]). Step 350, Loss: 2.1336565017700195\n",
      "Generating Image Number: 15 for target class tensor([1]). Step 400, Loss: 2.026392936706543\n",
      "Generating Image Number: 15 for target class tensor([1]). Step 450, Loss: 1.9205069541931152\n",
      "Generating Image Number: 16 for target class tensor([1]). Step 0, Loss: 66.75973510742188\n",
      "Generating Image Number: 16 for target class tensor([1]). Step 50, Loss: 11.474119186401367\n",
      "Generating Image Number: 16 for target class tensor([1]). Step 100, Loss: 10.70340633392334\n",
      "Generating Image Number: 16 for target class tensor([1]). Step 150, Loss: 10.252965927124023\n",
      "Generating Image Number: 16 for target class tensor([1]). Step 200, Loss: 9.646407127380371\n",
      "Generating Image Number: 16 for target class tensor([1]). Step 250, Loss: 9.099937438964844\n",
      "Generating Image Number: 16 for target class tensor([1]). Step 300, Loss: 8.487652778625488\n",
      "Generating Image Number: 16 for target class tensor([1]). Step 350, Loss: 7.780110836029053\n",
      "Generating Image Number: 16 for target class tensor([1]). Step 400, Loss: 7.218742370605469\n",
      "Generating Image Number: 16 for target class tensor([1]). Step 450, Loss: 6.475455284118652\n",
      "Generating Image Number: 17 for target class tensor([1]). Step 0, Loss: 6.427404403686523\n",
      "Generating Image Number: 17 for target class tensor([1]). Step 50, Loss: 5.235640048980713\n",
      "Generating Image Number: 17 for target class tensor([1]). Step 100, Loss: 4.361983776092529\n",
      "Generating Image Number: 17 for target class tensor([1]). Step 150, Loss: 3.801481246948242\n",
      "Generating Image Number: 17 for target class tensor([1]). Step 200, Loss: 3.431662082672119\n",
      "Generating Image Number: 17 for target class tensor([1]). Step 250, Loss: 3.1391773223876953\n",
      "Generating Image Number: 17 for target class tensor([1]). Step 300, Loss: 2.9428293704986572\n",
      "Generating Image Number: 17 for target class tensor([1]). Step 350, Loss: 2.772242307662964\n",
      "Generating Image Number: 17 for target class tensor([1]). Step 400, Loss: 2.663607597351074\n",
      "Generating Image Number: 17 for target class tensor([1]). Step 450, Loss: 2.567263603210449\n",
      "Generating Image Number: 18 for target class tensor([1]). Step 0, Loss: 13.771781921386719\n",
      "Generating Image Number: 18 for target class tensor([1]). Step 50, Loss: 9.458463668823242\n",
      "Generating Image Number: 18 for target class tensor([1]). Step 100, Loss: 7.5922532081604\n",
      "Generating Image Number: 18 for target class tensor([1]). Step 150, Loss: 5.978759288787842\n",
      "Generating Image Number: 18 for target class tensor([1]). Step 200, Loss: 4.807619094848633\n",
      "Generating Image Number: 18 for target class tensor([1]). Step 250, Loss: 3.838690757751465\n",
      "Generating Image Number: 18 for target class tensor([1]). Step 300, Loss: 3.2790889739990234\n",
      "Generating Image Number: 18 for target class tensor([1]). Step 350, Loss: 2.9862403869628906\n",
      "Generating Image Number: 18 for target class tensor([1]). Step 400, Loss: 2.7657289505004883\n",
      "Generating Image Number: 18 for target class tensor([1]). Step 450, Loss: 2.6337194442749023\n",
      "Generating Image Number: 19 for target class tensor([1]). Step 0, Loss: 9.090424537658691\n",
      "Generating Image Number: 19 for target class tensor([1]). Step 50, Loss: 6.935419082641602\n",
      "Generating Image Number: 19 for target class tensor([1]). Step 100, Loss: 6.393868446350098\n",
      "Generating Image Number: 19 for target class tensor([1]). Step 150, Loss: 6.0784502029418945\n",
      "Generating Image Number: 19 for target class tensor([1]). Step 200, Loss: 5.885799407958984\n",
      "Generating Image Number: 19 for target class tensor([1]). Step 250, Loss: 5.7365570068359375\n",
      "Generating Image Number: 19 for target class tensor([1]). Step 300, Loss: 6.182369232177734\n",
      "Generating Image Number: 19 for target class tensor([1]). Step 350, Loss: 5.142148017883301\n",
      "Generating Image Number: 19 for target class tensor([1]). Step 400, Loss: 4.600973129272461\n",
      "Generating Image Number: 19 for target class tensor([1]). Step 450, Loss: 4.317698001861572\n",
      "Generating Image Number: 20 for target class tensor([1]). Step 0, Loss: 9.27383041381836\n",
      "Generating Image Number: 20 for target class tensor([1]). Step 50, Loss: 6.102579593658447\n",
      "Generating Image Number: 20 for target class tensor([1]). Step 100, Loss: 5.430976867675781\n",
      "Generating Image Number: 20 for target class tensor([1]). Step 150, Loss: 4.903207778930664\n",
      "Generating Image Number: 20 for target class tensor([1]). Step 200, Loss: 4.585757255554199\n",
      "Generating Image Number: 20 for target class tensor([1]). Step 250, Loss: 4.2510762214660645\n",
      "Generating Image Number: 20 for target class tensor([1]). Step 300, Loss: 3.936861276626587\n",
      "Generating Image Number: 20 for target class tensor([1]). Step 350, Loss: 2.7897872924804688\n",
      "Generating Image Number: 20 for target class tensor([1]). Step 400, Loss: 1.691385269165039\n",
      "Generating Image Number: 20 for target class tensor([1]). Step 450, Loss: 1.3464808464050293\n"
     ]
    }
   ],
   "source": [
    "torch.manual_seed(100)\n",
    "latent_vectors = torch.randn(img_count, z_dim, 1, 1, requires_grad=True) # Start with 20 random noises\n",
    "class1_optimized_latent_vectors = recover_images(img_count, 1, latent_vectors)"
   ]
  },
  {
   "cell_type": "code",
   "execution_count": 22,
   "id": "1c8af686-b1ff-419d-946d-2447773e47c9",
   "metadata": {
    "scrolled": true
   },
   "outputs": [
    {
     "name": "stdout",
     "output_type": "stream",
     "text": [
      "Generating Image Number: 1 for target class tensor([2]). Step 0, Loss: 6.261673450469971\n",
      "Generating Image Number: 1 for target class tensor([2]). Step 50, Loss: 0.5024803280830383\n",
      "Generating Image Number: 1 for target class tensor([2]). Step 100, Loss: 0.25856268405914307\n",
      "Generating Image Number: 1 for target class tensor([2]). Step 150, Loss: 0.15743929147720337\n",
      "Generating Image Number: 1 for target class tensor([2]). Step 200, Loss: 0.10075772553682327\n",
      "Generating Image Number: 1 for target class tensor([2]). Step 250, Loss: 0.06738871335983276\n",
      "Generating Image Number: 1 for target class tensor([2]). Step 300, Loss: 0.049870364367961884\n",
      "Generating Image Number: 1 for target class tensor([2]). Step 350, Loss: 0.039706796407699585\n",
      "Generating Image Number: 1 for target class tensor([2]). Step 400, Loss: 0.03204541653394699\n",
      "Generating Image Number: 1 for target class tensor([2]). Step 450, Loss: 0.02589709870517254\n",
      "Generating Image Number: 2 for target class tensor([2]). Step 0, Loss: 5.459306240081787\n",
      "Generating Image Number: 2 for target class tensor([2]). Step 50, Loss: 0.5748315453529358\n",
      "Generating Image Number: 2 for target class tensor([2]). Step 100, Loss: 0.32617735862731934\n",
      "Generating Image Number: 2 for target class tensor([2]). Step 150, Loss: 0.2394595593214035\n",
      "Generating Image Number: 2 for target class tensor([2]). Step 200, Loss: 0.19480454921722412\n",
      "Generating Image Number: 2 for target class tensor([2]). Step 250, Loss: 0.16858819127082825\n",
      "Generating Image Number: 2 for target class tensor([2]). Step 300, Loss: 0.14763577282428741\n",
      "Generating Image Number: 2 for target class tensor([2]). Step 350, Loss: 0.13217377662658691\n",
      "Generating Image Number: 2 for target class tensor([2]). Step 400, Loss: 0.11738124489784241\n",
      "Generating Image Number: 2 for target class tensor([2]). Step 450, Loss: 0.10782686620950699\n",
      "Generating Image Number: 3 for target class tensor([2]). Step 0, Loss: 2.2627336978912354\n",
      "Generating Image Number: 3 for target class tensor([2]). Step 50, Loss: 0.09765176475048065\n",
      "Generating Image Number: 3 for target class tensor([2]). Step 100, Loss: 0.0517345629632473\n",
      "Generating Image Number: 3 for target class tensor([2]). Step 150, Loss: 0.037516940385103226\n",
      "Generating Image Number: 3 for target class tensor([2]). Step 200, Loss: 0.029043611139059067\n",
      "Generating Image Number: 3 for target class tensor([2]). Step 250, Loss: 0.023714128881692886\n",
      "Generating Image Number: 3 for target class tensor([2]). Step 300, Loss: 0.01991737075150013\n",
      "Generating Image Number: 3 for target class tensor([2]). Step 350, Loss: 0.01573139987885952\n",
      "Generating Image Number: 3 for target class tensor([2]). Step 400, Loss: 0.013418013229966164\n",
      "Generating Image Number: 3 for target class tensor([2]). Step 450, Loss: 0.011796360835433006\n",
      "Generating Image Number: 4 for target class tensor([2]). Step 0, Loss: 5.751474380493164\n",
      "Generating Image Number: 4 for target class tensor([2]). Step 50, Loss: 2.992055892944336\n",
      "Generating Image Number: 4 for target class tensor([2]). Step 100, Loss: 2.7566261291503906\n",
      "Generating Image Number: 4 for target class tensor([2]). Step 150, Loss: 2.56821870803833\n",
      "Generating Image Number: 4 for target class tensor([2]). Step 200, Loss: 2.4046096801757812\n",
      "Generating Image Number: 4 for target class tensor([2]). Step 250, Loss: 2.2254037857055664\n",
      "Generating Image Number: 4 for target class tensor([2]). Step 300, Loss: 2.0594542026519775\n",
      "Generating Image Number: 4 for target class tensor([2]). Step 350, Loss: 1.944887638092041\n",
      "Generating Image Number: 4 for target class tensor([2]). Step 400, Loss: 1.7989158630371094\n",
      "Generating Image Number: 4 for target class tensor([2]). Step 450, Loss: 1.5059696435928345\n",
      "Generating Image Number: 5 for target class tensor([2]). Step 0, Loss: 6.630196571350098\n",
      "Generating Image Number: 5 for target class tensor([2]). Step 50, Loss: 0.8752540349960327\n",
      "Generating Image Number: 5 for target class tensor([2]). Step 100, Loss: 0.3992079198360443\n",
      "Generating Image Number: 5 for target class tensor([2]). Step 150, Loss: 0.2503679692745209\n",
      "Generating Image Number: 5 for target class tensor([2]). Step 200, Loss: 0.19019785523414612\n",
      "Generating Image Number: 5 for target class tensor([2]). Step 250, Loss: 0.154314324259758\n",
      "Generating Image Number: 5 for target class tensor([2]). Step 300, Loss: 0.1312124878168106\n",
      "Generating Image Number: 5 for target class tensor([2]). Step 350, Loss: 0.11177381873130798\n",
      "Generating Image Number: 5 for target class tensor([2]). Step 400, Loss: 0.09510047733783722\n",
      "Generating Image Number: 5 for target class tensor([2]). Step 450, Loss: 0.08735349029302597\n",
      "Generating Image Number: 6 for target class tensor([2]). Step 0, Loss: 2.529541254043579\n",
      "Generating Image Number: 6 for target class tensor([2]). Step 50, Loss: 0.28299587965011597\n",
      "Generating Image Number: 6 for target class tensor([2]). Step 100, Loss: 0.15444110333919525\n",
      "Generating Image Number: 6 for target class tensor([2]). Step 150, Loss: 0.0986984521150589\n",
      "Generating Image Number: 6 for target class tensor([2]). Step 200, Loss: 0.06790677458047867\n",
      "Generating Image Number: 6 for target class tensor([2]). Step 250, Loss: 0.05081632360816002\n",
      "Generating Image Number: 6 for target class tensor([2]). Step 300, Loss: 0.03987519443035126\n",
      "Generating Image Number: 6 for target class tensor([2]). Step 350, Loss: 0.03307792916893959\n",
      "Generating Image Number: 6 for target class tensor([2]). Step 400, Loss: 0.02812793478369713\n",
      "Generating Image Number: 6 for target class tensor([2]). Step 450, Loss: 0.023898398503661156\n",
      "Generating Image Number: 7 for target class tensor([2]). Step 0, Loss: 5.587636947631836\n",
      "Generating Image Number: 7 for target class tensor([2]). Step 50, Loss: 1.1262481212615967\n",
      "Generating Image Number: 7 for target class tensor([2]). Step 100, Loss: 0.5737324953079224\n",
      "Generating Image Number: 7 for target class tensor([2]). Step 150, Loss: 0.28782540559768677\n",
      "Generating Image Number: 7 for target class tensor([2]). Step 200, Loss: 0.19926178455352783\n",
      "Generating Image Number: 7 for target class tensor([2]). Step 250, Loss: 0.1445525884628296\n",
      "Generating Image Number: 7 for target class tensor([2]). Step 300, Loss: 0.109855055809021\n",
      "Generating Image Number: 7 for target class tensor([2]). Step 350, Loss: 0.08732607215642929\n",
      "Generating Image Number: 7 for target class tensor([2]). Step 400, Loss: 0.07244113087654114\n",
      "Generating Image Number: 7 for target class tensor([2]). Step 450, Loss: 0.06338388472795486\n",
      "Generating Image Number: 8 for target class tensor([2]). Step 0, Loss: 6.722355842590332\n",
      "Generating Image Number: 8 for target class tensor([2]). Step 50, Loss: 0.09274379909038544\n",
      "Generating Image Number: 8 for target class tensor([2]). Step 100, Loss: 0.041178375482559204\n",
      "Generating Image Number: 8 for target class tensor([2]). Step 150, Loss: 0.03460915386676788\n",
      "Generating Image Number: 8 for target class tensor([2]). Step 200, Loss: 0.02928004041314125\n",
      "Generating Image Number: 8 for target class tensor([2]). Step 250, Loss: 0.02440609782934189\n",
      "Generating Image Number: 8 for target class tensor([2]). Step 300, Loss: 0.020468557253479958\n",
      "Generating Image Number: 8 for target class tensor([2]). Step 350, Loss: 0.01710496097803116\n",
      "Generating Image Number: 8 for target class tensor([2]). Step 400, Loss: 0.014926298521459103\n",
      "Generating Image Number: 8 for target class tensor([2]). Step 450, Loss: 0.013308149762451649\n",
      "Generating Image Number: 9 for target class tensor([2]). Step 0, Loss: 2.4788684844970703\n",
      "Generating Image Number: 9 for target class tensor([2]). Step 50, Loss: 0.18968835473060608\n",
      "Generating Image Number: 9 for target class tensor([2]). Step 100, Loss: 0.1118069738149643\n",
      "Generating Image Number: 9 for target class tensor([2]). Step 150, Loss: 0.07782255113124847\n",
      "Generating Image Number: 9 for target class tensor([2]). Step 200, Loss: 0.05911252275109291\n",
      "Generating Image Number: 9 for target class tensor([2]). Step 250, Loss: 0.04720098897814751\n",
      "Generating Image Number: 9 for target class tensor([2]). Step 300, Loss: 0.03858591616153717\n",
      "Generating Image Number: 9 for target class tensor([2]). Step 350, Loss: 0.032028909772634506\n",
      "Generating Image Number: 9 for target class tensor([2]). Step 400, Loss: 0.0276048444211483\n",
      "Generating Image Number: 9 for target class tensor([2]). Step 450, Loss: 0.024082399904727936\n",
      "Generating Image Number: 10 for target class tensor([2]). Step 0, Loss: 5.390788555145264\n",
      "Generating Image Number: 10 for target class tensor([2]). Step 50, Loss: 2.0202407836914062\n",
      "Generating Image Number: 10 for target class tensor([2]). Step 100, Loss: 0.9572938084602356\n",
      "Generating Image Number: 10 for target class tensor([2]). Step 150, Loss: 0.5425096154212952\n",
      "Generating Image Number: 10 for target class tensor([2]). Step 200, Loss: 0.37687376141548157\n",
      "Generating Image Number: 10 for target class tensor([2]). Step 250, Loss: 0.28071311116218567\n",
      "Generating Image Number: 10 for target class tensor([2]). Step 300, Loss: 0.2268231064081192\n",
      "Generating Image Number: 10 for target class tensor([2]). Step 350, Loss: 0.18200604617595673\n",
      "Generating Image Number: 10 for target class tensor([2]). Step 400, Loss: 0.13761883974075317\n",
      "Generating Image Number: 10 for target class tensor([2]). Step 450, Loss: 0.11122339218854904\n",
      "Generating Image Number: 11 for target class tensor([2]). Step 0, Loss: 3.8424041271209717\n",
      "Generating Image Number: 11 for target class tensor([2]). Step 50, Loss: 3.029604196548462\n",
      "Generating Image Number: 11 for target class tensor([2]). Step 100, Loss: 2.7692208290100098\n",
      "Generating Image Number: 11 for target class tensor([2]). Step 150, Loss: 2.5985326766967773\n",
      "Generating Image Number: 11 for target class tensor([2]). Step 200, Loss: 2.4933812618255615\n",
      "Generating Image Number: 11 for target class tensor([2]). Step 250, Loss: 2.348407745361328\n",
      "Generating Image Number: 11 for target class tensor([2]). Step 300, Loss: 2.1913955211639404\n",
      "Generating Image Number: 11 for target class tensor([2]). Step 350, Loss: 2.06862735748291\n",
      "Generating Image Number: 11 for target class tensor([2]). Step 400, Loss: 1.9337055683135986\n",
      "Generating Image Number: 11 for target class tensor([2]). Step 450, Loss: 1.8124761581420898\n",
      "Generating Image Number: 12 for target class tensor([2]). Step 0, Loss: 69.60516357421875\n",
      "Generating Image Number: 12 for target class tensor([2]). Step 50, Loss: 48.80528259277344\n",
      "Generating Image Number: 12 for target class tensor([2]). Step 100, Loss: 1.9017460346221924\n",
      "Generating Image Number: 12 for target class tensor([2]). Step 150, Loss: 0.8697456121444702\n",
      "Generating Image Number: 12 for target class tensor([2]). Step 200, Loss: 0.7712084650993347\n",
      "Generating Image Number: 12 for target class tensor([2]). Step 250, Loss: 0.7033092379570007\n",
      "Generating Image Number: 12 for target class tensor([2]). Step 300, Loss: 0.6319947242736816\n",
      "Generating Image Number: 12 for target class tensor([2]). Step 350, Loss: 0.5597714781761169\n",
      "Generating Image Number: 12 for target class tensor([2]). Step 400, Loss: 0.4851296544075012\n",
      "Generating Image Number: 12 for target class tensor([2]). Step 450, Loss: 0.43691039085388184\n",
      "Generating Image Number: 13 for target class tensor([2]). Step 0, Loss: 9.789824485778809\n",
      "Generating Image Number: 13 for target class tensor([2]). Step 50, Loss: 0.9072568416595459\n",
      "Generating Image Number: 13 for target class tensor([2]). Step 100, Loss: 0.3264498710632324\n",
      "Generating Image Number: 13 for target class tensor([2]). Step 150, Loss: 0.1750238686800003\n",
      "Generating Image Number: 13 for target class tensor([2]). Step 200, Loss: 0.12041362375020981\n",
      "Generating Image Number: 13 for target class tensor([2]). Step 250, Loss: 0.09368611872196198\n",
      "Generating Image Number: 13 for target class tensor([2]). Step 300, Loss: 0.07669304311275482\n",
      "Generating Image Number: 13 for target class tensor([2]). Step 350, Loss: 0.06533386558294296\n",
      "Generating Image Number: 13 for target class tensor([2]). Step 400, Loss: 0.05940485745668411\n",
      "Generating Image Number: 13 for target class tensor([2]). Step 450, Loss: 0.05181096866726875\n",
      "Generating Image Number: 14 for target class tensor([2]). Step 0, Loss: 5.10775899887085\n",
      "Generating Image Number: 14 for target class tensor([2]). Step 50, Loss: 0.01018658746033907\n",
      "Generating Image Number: 14 for target class tensor([2]). Step 100, Loss: 0.0055127497762441635\n",
      "Generating Image Number: 14 for target class tensor([2]). Step 150, Loss: 0.005078036803752184\n",
      "Generating Image Number: 14 for target class tensor([2]). Step 200, Loss: 0.0046577295288443565\n",
      "Generating Image Number: 14 for target class tensor([2]). Step 250, Loss: 0.00431178929284215\n",
      "Generating Image Number: 14 for target class tensor([2]). Step 300, Loss: 0.004045636393129826\n",
      "Generating Image Number: 14 for target class tensor([2]). Step 350, Loss: 0.0038067272398620844\n",
      "Generating Image Number: 14 for target class tensor([2]). Step 400, Loss: 0.0035507744178175926\n",
      "Generating Image Number: 14 for target class tensor([2]). Step 450, Loss: 0.0033375294879078865\n",
      "Generating Image Number: 15 for target class tensor([2]). Step 0, Loss: 3.4220023155212402\n",
      "Generating Image Number: 15 for target class tensor([2]). Step 50, Loss: 0.0024851649068295956\n",
      "Generating Image Number: 15 for target class tensor([2]). Step 100, Loss: 0.0022250674664974213\n",
      "Generating Image Number: 15 for target class tensor([2]). Step 150, Loss: 0.002048300579190254\n",
      "Generating Image Number: 15 for target class tensor([2]). Step 200, Loss: 0.0018993448466062546\n",
      "Generating Image Number: 15 for target class tensor([2]). Step 250, Loss: 0.0017475108616054058\n",
      "Generating Image Number: 15 for target class tensor([2]). Step 300, Loss: 0.0016142207896336913\n",
      "Generating Image Number: 15 for target class tensor([2]). Step 350, Loss: 0.0014862692914903164\n",
      "Generating Image Number: 15 for target class tensor([2]). Step 400, Loss: 0.0013910388806834817\n",
      "Generating Image Number: 15 for target class tensor([2]). Step 450, Loss: 0.0012861560098826885\n",
      "Generating Image Number: 16 for target class tensor([2]). Step 0, Loss: 3.8631579875946045\n",
      "Generating Image Number: 16 for target class tensor([2]). Step 50, Loss: 0.04339413717389107\n",
      "Generating Image Number: 16 for target class tensor([2]). Step 100, Loss: 0.017347391694784164\n",
      "Generating Image Number: 16 for target class tensor([2]). Step 150, Loss: 0.015024593099951744\n",
      "Generating Image Number: 16 for target class tensor([2]). Step 200, Loss: 0.013329441659152508\n",
      "Generating Image Number: 16 for target class tensor([2]). Step 250, Loss: 0.011917227879166603\n",
      "Generating Image Number: 16 for target class tensor([2]). Step 300, Loss: 0.010656003840267658\n",
      "Generating Image Number: 16 for target class tensor([2]). Step 350, Loss: 0.009746582247316837\n",
      "Generating Image Number: 16 for target class tensor([2]). Step 400, Loss: 0.00883597880601883\n",
      "Generating Image Number: 16 for target class tensor([2]). Step 450, Loss: 0.00808289460837841\n",
      "Generating Image Number: 17 for target class tensor([2]). Step 0, Loss: 0.48356425762176514\n",
      "Generating Image Number: 17 for target class tensor([2]). Step 50, Loss: 0.042497456073760986\n",
      "Generating Image Number: 17 for target class tensor([2]). Step 100, Loss: 0.027234040200710297\n",
      "Generating Image Number: 17 for target class tensor([2]). Step 150, Loss: 0.017191439867019653\n",
      "Generating Image Number: 17 for target class tensor([2]). Step 200, Loss: 0.01163612399250269\n",
      "Generating Image Number: 17 for target class tensor([2]). Step 250, Loss: 0.008604830130934715\n",
      "Generating Image Number: 17 for target class tensor([2]). Step 300, Loss: 0.0065374793484807014\n",
      "Generating Image Number: 17 for target class tensor([2]). Step 350, Loss: 0.005282491911202669\n",
      "Generating Image Number: 17 for target class tensor([2]). Step 400, Loss: 0.004516519606113434\n",
      "Generating Image Number: 17 for target class tensor([2]). Step 450, Loss: 0.004019278567284346\n",
      "Generating Image Number: 18 for target class tensor([2]). Step 0, Loss: 64.85803985595703\n",
      "Generating Image Number: 18 for target class tensor([2]). Step 50, Loss: 58.585487365722656\n",
      "Generating Image Number: 18 for target class tensor([2]). Step 100, Loss: 56.46039962768555\n",
      "Generating Image Number: 18 for target class tensor([2]). Step 150, Loss: 54.35669708251953\n",
      "Generating Image Number: 18 for target class tensor([2]). Step 200, Loss: 26.10526466369629\n",
      "Generating Image Number: 18 for target class tensor([2]). Step 250, Loss: 0.33636415004730225\n",
      "Generating Image Number: 18 for target class tensor([2]). Step 300, Loss: 0.2472693771123886\n",
      "Generating Image Number: 18 for target class tensor([2]). Step 350, Loss: 0.21214888989925385\n",
      "Generating Image Number: 18 for target class tensor([2]). Step 400, Loss: 0.1930672973394394\n",
      "Generating Image Number: 18 for target class tensor([2]). Step 450, Loss: 0.17735904455184937\n",
      "Generating Image Number: 19 for target class tensor([2]). Step 0, Loss: 0.4528157114982605\n",
      "Generating Image Number: 19 for target class tensor([2]). Step 50, Loss: 0.011367199942469597\n",
      "Generating Image Number: 19 for target class tensor([2]). Step 100, Loss: 0.007814668118953705\n",
      "Generating Image Number: 19 for target class tensor([2]). Step 150, Loss: 0.006068139337003231\n",
      "Generating Image Number: 19 for target class tensor([2]). Step 200, Loss: 0.004702935926616192\n",
      "Generating Image Number: 19 for target class tensor([2]). Step 250, Loss: 0.0038456786423921585\n",
      "Generating Image Number: 19 for target class tensor([2]). Step 300, Loss: 0.003303905250504613\n",
      "Generating Image Number: 19 for target class tensor([2]). Step 350, Loss: 0.0029113786295056343\n",
      "Generating Image Number: 19 for target class tensor([2]). Step 400, Loss: 0.002584809437394142\n",
      "Generating Image Number: 19 for target class tensor([2]). Step 450, Loss: 0.0023225971963256598\n",
      "Generating Image Number: 20 for target class tensor([2]). Step 0, Loss: 2.2948312759399414\n",
      "Generating Image Number: 20 for target class tensor([2]). Step 50, Loss: 0.03388814628124237\n",
      "Generating Image Number: 20 for target class tensor([2]). Step 100, Loss: 0.025244638323783875\n",
      "Generating Image Number: 20 for target class tensor([2]). Step 150, Loss: 0.019192233681678772\n",
      "Generating Image Number: 20 for target class tensor([2]). Step 200, Loss: 0.015037980861961842\n",
      "Generating Image Number: 20 for target class tensor([2]). Step 250, Loss: 0.012582441791892052\n",
      "Generating Image Number: 20 for target class tensor([2]). Step 300, Loss: 0.010640316642820835\n",
      "Generating Image Number: 20 for target class tensor([2]). Step 350, Loss: 0.009293392300605774\n",
      "Generating Image Number: 20 for target class tensor([2]). Step 400, Loss: 0.008263682015240192\n",
      "Generating Image Number: 20 for target class tensor([2]). Step 450, Loss: 0.007353027816861868\n"
     ]
    }
   ],
   "source": [
    "torch.manual_seed(200)\n",
    "latent_vectors = torch.randn(img_count, z_dim, 1, 1, requires_grad=True) # Start with 20 random noises\n",
    "class2_optimized_latent_vectors = recover_images(img_count, 2, latent_vectors)"
   ]
  },
  {
   "cell_type": "code",
   "execution_count": 23,
   "id": "0381b36d-6c92-43bc-b776-1eefd3eab451",
   "metadata": {
    "scrolled": true
   },
   "outputs": [
    {
     "name": "stdout",
     "output_type": "stream",
     "text": [
      "Generating Image Number: 1 for target class tensor([3]). Step 0, Loss: 0.00011717586312443018\n",
      "Generating Image Number: 1 for target class tensor([3]). Step 50, Loss: 1.6689286894688848e-06\n",
      "Generating Image Number: 1 for target class tensor([3]). Step 100, Loss: 1.5497195136049413e-06\n",
      "Generating Image Number: 1 for target class tensor([3]). Step 150, Loss: 1.311301275563892e-06\n",
      "Generating Image Number: 1 for target class tensor([3]). Step 200, Loss: 1.1920922133867862e-06\n",
      "Generating Image Number: 1 for target class tensor([3]). Step 250, Loss: 1.0728830375228426e-06\n",
      "Generating Image Number: 1 for target class tensor([3]). Step 300, Loss: 9.536738616588991e-07\n",
      "Generating Image Number: 1 for target class tensor([3]). Step 350, Loss: 7.152555099310121e-07\n",
      "Generating Image Number: 1 for target class tensor([3]). Step 400, Loss: 7.152555099310121e-07\n",
      "Generating Image Number: 1 for target class tensor([3]). Step 450, Loss: 5.960462772236497e-07\n",
      "Generating Image Number: 2 for target class tensor([3]). Step 0, Loss: 0.24034635722637177\n",
      "Generating Image Number: 2 for target class tensor([3]). Step 50, Loss: 0.0533689521253109\n",
      "Generating Image Number: 2 for target class tensor([3]). Step 100, Loss: 0.0016299308044835925\n",
      "Generating Image Number: 2 for target class tensor([3]). Step 150, Loss: 0.00048268112004734576\n",
      "Generating Image Number: 2 for target class tensor([3]). Step 200, Loss: 0.0003393312799744308\n",
      "Generating Image Number: 2 for target class tensor([3]). Step 250, Loss: 0.00028463127091526985\n",
      "Generating Image Number: 2 for target class tensor([3]). Step 300, Loss: 0.00026663561584427953\n",
      "Generating Image Number: 2 for target class tensor([3]). Step 350, Loss: 0.00025233422638848424\n",
      "Generating Image Number: 2 for target class tensor([3]). Step 400, Loss: 0.00024244230007752776\n",
      "Generating Image Number: 2 for target class tensor([3]). Step 450, Loss: 0.0002356490003876388\n",
      "Generating Image Number: 3 for target class tensor([3]). Step 0, Loss: 0.9704069495201111\n",
      "Generating Image Number: 3 for target class tensor([3]). Step 50, Loss: 0.015368374064564705\n",
      "Generating Image Number: 3 for target class tensor([3]). Step 100, Loss: 0.011462898924946785\n",
      "Generating Image Number: 3 for target class tensor([3]). Step 150, Loss: 0.0079257283359766\n",
      "Generating Image Number: 3 for target class tensor([3]). Step 200, Loss: 0.006169086322188377\n",
      "Generating Image Number: 3 for target class tensor([3]). Step 250, Loss: 0.005218574311584234\n",
      "Generating Image Number: 3 for target class tensor([3]). Step 300, Loss: 0.004485426936298609\n",
      "Generating Image Number: 3 for target class tensor([3]). Step 350, Loss: 0.003937588073313236\n",
      "Generating Image Number: 3 for target class tensor([3]). Step 400, Loss: 0.003501714440062642\n",
      "Generating Image Number: 3 for target class tensor([3]). Step 450, Loss: 0.0031396879348903894\n",
      "Generating Image Number: 4 for target class tensor([3]). Step 0, Loss: 0.06605967879295349\n",
      "Generating Image Number: 4 for target class tensor([3]). Step 50, Loss: 0.020449284464120865\n",
      "Generating Image Number: 4 for target class tensor([3]). Step 100, Loss: 0.01390507910400629\n",
      "Generating Image Number: 4 for target class tensor([3]). Step 150, Loss: 0.010870170779526234\n",
      "Generating Image Number: 4 for target class tensor([3]). Step 200, Loss: 0.009099205955862999\n",
      "Generating Image Number: 4 for target class tensor([3]). Step 250, Loss: 0.007777763996273279\n",
      "Generating Image Number: 4 for target class tensor([3]). Step 300, Loss: 0.007003402337431908\n",
      "Generating Image Number: 4 for target class tensor([3]). Step 350, Loss: 0.006341454107314348\n",
      "Generating Image Number: 4 for target class tensor([3]). Step 400, Loss: 0.005624895915389061\n",
      "Generating Image Number: 4 for target class tensor([3]). Step 450, Loss: 0.004897740203887224\n",
      "Generating Image Number: 5 for target class tensor([3]). Step 0, Loss: 0.00016819016309455037\n",
      "Generating Image Number: 5 for target class tensor([3]). Step 50, Loss: 2.610649426060263e-05\n",
      "Generating Image Number: 5 for target class tensor([3]). Step 100, Loss: 1.490105023549404e-05\n",
      "Generating Image Number: 5 for target class tensor([3]). Step 150, Loss: 1.1205610462639015e-05\n",
      "Generating Image Number: 5 for target class tensor([3]). Step 200, Loss: 9.179073458653875e-06\n",
      "Generating Image Number: 5 for target class tensor([3]). Step 250, Loss: 7.510157047363464e-06\n",
      "Generating Image Number: 5 for target class tensor([3]). Step 300, Loss: 6.318072337307967e-06\n",
      "Generating Image Number: 5 for target class tensor([3]). Step 350, Loss: 5.483612312673358e-06\n",
      "Generating Image Number: 5 for target class tensor([3]). Step 400, Loss: 4.887569048150908e-06\n",
      "Generating Image Number: 5 for target class tensor([3]). Step 450, Loss: 4.291525328881107e-06\n",
      "Generating Image Number: 6 for target class tensor([3]). Step 0, Loss: 0.023344209417700768\n",
      "Generating Image Number: 6 for target class tensor([3]). Step 50, Loss: 2.5152843591058627e-05\n",
      "Generating Image Number: 6 for target class tensor([3]). Step 100, Loss: 2.13382354559144e-05\n",
      "Generating Image Number: 6 for target class tensor([3]). Step 150, Loss: 1.9788545614574105e-05\n",
      "Generating Image Number: 6 for target class tensor([3]). Step 200, Loss: 1.8954096958623268e-05\n",
      "Generating Image Number: 6 for target class tensor([3]). Step 250, Loss: 1.7881233361549675e-05\n",
      "Generating Image Number: 6 for target class tensor([3]). Step 300, Loss: 1.7046782886609435e-05\n",
      "Generating Image Number: 6 for target class tensor([3]). Step 350, Loss: 1.6093124941107817e-05\n",
      "Generating Image Number: 6 for target class tensor([3]). Step 400, Loss: 1.5139465176616795e-05\n",
      "Generating Image Number: 6 for target class tensor([3]). Step 450, Loss: 1.4185804502631072e-05\n",
      "Generating Image Number: 7 for target class tensor([3]). Step 0, Loss: 0.0008017186191864312\n",
      "Generating Image Number: 7 for target class tensor([3]). Step 50, Loss: 1.2397689715726301e-05\n",
      "Generating Image Number: 7 for target class tensor([3]). Step 100, Loss: 5.8412379075889476e-06\n",
      "Generating Image Number: 7 for target class tensor([3]). Step 150, Loss: 3.6954811548639555e-06\n",
      "Generating Image Number: 7 for target class tensor([3]). Step 200, Loss: 2.7418097943154862e-06\n",
      "Generating Image Number: 7 for target class tensor([3]). Step 250, Loss: 2.145764938177308e-06\n",
      "Generating Image Number: 7 for target class tensor([3]). Step 300, Loss: 1.6689286894688848e-06\n",
      "Generating Image Number: 7 for target class tensor([3]). Step 350, Loss: 1.4305104514278355e-06\n",
      "Generating Image Number: 7 for target class tensor([3]). Step 400, Loss: 1.311301275563892e-06\n",
      "Generating Image Number: 7 for target class tensor([3]). Step 450, Loss: 1.1920922133867862e-06\n",
      "Generating Image Number: 8 for target class tensor([3]). Step 0, Loss: 0.15582610666751862\n",
      "Generating Image Number: 8 for target class tensor([3]). Step 50, Loss: 0.0004220310365781188\n",
      "Generating Image Number: 8 for target class tensor([3]). Step 100, Loss: 0.00028224775451235473\n",
      "Generating Image Number: 8 for target class tensor([3]). Step 150, Loss: 0.0002728328399825841\n",
      "Generating Image Number: 8 for target class tensor([3]). Step 200, Loss: 0.00026651646476238966\n",
      "Generating Image Number: 8 for target class tensor([3]). Step 250, Loss: 0.00025948495022021234\n",
      "Generating Image Number: 8 for target class tensor([3]). Step 300, Loss: 0.00025388356880284846\n",
      "Generating Image Number: 8 for target class tensor([3]). Step 350, Loss: 0.00024720950750634074\n",
      "Generating Image Number: 8 for target class tensor([3]). Step 400, Loss: 0.00024005869636312127\n",
      "Generating Image Number: 8 for target class tensor([3]). Step 450, Loss: 0.0002329078270122409\n",
      "Generating Image Number: 9 for target class tensor([3]). Step 0, Loss: 0.07429065555334091\n",
      "Generating Image Number: 9 for target class tensor([3]). Step 50, Loss: 0.03487742692232132\n",
      "Generating Image Number: 9 for target class tensor([3]). Step 100, Loss: 0.02677118219435215\n",
      "Generating Image Number: 9 for target class tensor([3]). Step 150, Loss: 0.022814180701971054\n",
      "Generating Image Number: 9 for target class tensor([3]). Step 200, Loss: 0.019608933478593826\n",
      "Generating Image Number: 9 for target class tensor([3]). Step 250, Loss: 0.016828827559947968\n",
      "Generating Image Number: 9 for target class tensor([3]). Step 300, Loss: 0.014819419011473656\n",
      "Generating Image Number: 9 for target class tensor([3]). Step 350, Loss: 0.013627943582832813\n",
      "Generating Image Number: 9 for target class tensor([3]). Step 400, Loss: 0.012963660061359406\n",
      "Generating Image Number: 9 for target class tensor([3]). Step 450, Loss: 0.012376295402646065\n",
      "Generating Image Number: 10 for target class tensor([3]). Step 0, Loss: 0.07061716914176941\n",
      "Generating Image Number: 10 for target class tensor([3]). Step 50, Loss: 0.00023684080224484205\n",
      "Generating Image Number: 10 for target class tensor([3]). Step 100, Loss: 0.0001833270798670128\n",
      "Generating Image Number: 10 for target class tensor([3]). Step 150, Loss: 0.00017510310863144696\n",
      "Generating Image Number: 10 for target class tensor([3]). Step 200, Loss: 0.00016592556494288146\n",
      "Generating Image Number: 10 for target class tensor([3]). Step 250, Loss: 0.0001546025014249608\n",
      "Generating Image Number: 10 for target class tensor([3]). Step 300, Loss: 0.00014733182615600526\n",
      "Generating Image Number: 10 for target class tensor([3]). Step 350, Loss: 0.0001401803019689396\n",
      "Generating Image Number: 10 for target class tensor([3]). Step 400, Loss: 0.00013457823661156\n",
      "Generating Image Number: 10 for target class tensor([3]). Step 450, Loss: 0.0001292145170737058\n",
      "Generating Image Number: 11 for target class tensor([3]). Step 0, Loss: 0.17907492816448212\n",
      "Generating Image Number: 11 for target class tensor([3]). Step 50, Loss: 0.049465522170066833\n",
      "Generating Image Number: 11 for target class tensor([3]). Step 100, Loss: 0.037735648453235626\n",
      "Generating Image Number: 11 for target class tensor([3]). Step 150, Loss: 0.032255515456199646\n",
      "Generating Image Number: 11 for target class tensor([3]). Step 200, Loss: 0.028721876442432404\n",
      "Generating Image Number: 11 for target class tensor([3]). Step 250, Loss: 0.02559933252632618\n",
      "Generating Image Number: 11 for target class tensor([3]). Step 300, Loss: 0.023071657866239548\n",
      "Generating Image Number: 11 for target class tensor([3]). Step 350, Loss: 0.02125905640423298\n",
      "Generating Image Number: 11 for target class tensor([3]). Step 400, Loss: 0.01985064148902893\n",
      "Generating Image Number: 11 for target class tensor([3]). Step 450, Loss: 0.018931416794657707\n",
      "Generating Image Number: 12 for target class tensor([3]). Step 0, Loss: 3.9218897819519043\n",
      "Generating Image Number: 12 for target class tensor([3]). Step 50, Loss: 0.07368341833353043\n",
      "Generating Image Number: 12 for target class tensor([3]). Step 100, Loss: 0.035681355744600296\n",
      "Generating Image Number: 12 for target class tensor([3]). Step 150, Loss: 0.027343427762389183\n",
      "Generating Image Number: 12 for target class tensor([3]). Step 200, Loss: 0.02210000529885292\n",
      "Generating Image Number: 12 for target class tensor([3]). Step 250, Loss: 0.018295813351869583\n",
      "Generating Image Number: 12 for target class tensor([3]). Step 300, Loss: 0.015748649835586548\n",
      "Generating Image Number: 12 for target class tensor([3]). Step 350, Loss: 0.012641416862607002\n",
      "Generating Image Number: 12 for target class tensor([3]). Step 400, Loss: 0.010858849622309208\n",
      "Generating Image Number: 12 for target class tensor([3]). Step 450, Loss: 0.009713409468531609\n",
      "Generating Image Number: 13 for target class tensor([3]). Step 0, Loss: 0.15397129952907562\n",
      "Generating Image Number: 13 for target class tensor([3]). Step 50, Loss: 9.297892393078655e-05\n",
      "Generating Image Number: 13 for target class tensor([3]). Step 100, Loss: 8.010543388081715e-05\n",
      "Generating Image Number: 13 for target class tensor([3]). Step 150, Loss: 7.855583680793643e-05\n",
      "Generating Image Number: 13 for target class tensor([3]). Step 200, Loss: 7.807903602952138e-05\n",
      "Generating Image Number: 13 for target class tensor([3]). Step 250, Loss: 7.712543447269127e-05\n",
      "Generating Image Number: 13 for target class tensor([3]). Step 300, Loss: 7.652943895664066e-05\n",
      "Generating Image Number: 13 for target class tensor([3]). Step 350, Loss: 7.545663538621739e-05\n",
      "Generating Image Number: 13 for target class tensor([3]). Step 400, Loss: 7.438383181579411e-05\n",
      "Generating Image Number: 13 for target class tensor([3]). Step 450, Loss: 7.354942499659956e-05\n",
      "Generating Image Number: 14 for target class tensor([3]). Step 0, Loss: 0.16584327816963196\n",
      "Generating Image Number: 14 for target class tensor([3]). Step 50, Loss: 0.0674469918012619\n",
      "Generating Image Number: 14 for target class tensor([3]). Step 100, Loss: 0.04431750252842903\n",
      "Generating Image Number: 14 for target class tensor([3]). Step 150, Loss: 0.03197303041815758\n",
      "Generating Image Number: 14 for target class tensor([3]). Step 200, Loss: 0.024565579369664192\n",
      "Generating Image Number: 14 for target class tensor([3]). Step 250, Loss: 0.01791369542479515\n",
      "Generating Image Number: 14 for target class tensor([3]). Step 300, Loss: 0.01470677275210619\n",
      "Generating Image Number: 14 for target class tensor([3]). Step 350, Loss: 0.012777718715369701\n",
      "Generating Image Number: 14 for target class tensor([3]). Step 400, Loss: 0.011571315117180347\n",
      "Generating Image Number: 14 for target class tensor([3]). Step 450, Loss: 0.010604459792375565\n",
      "Generating Image Number: 15 for target class tensor([3]). Step 0, Loss: 0.0012400802224874496\n",
      "Generating Image Number: 15 for target class tensor([3]). Step 50, Loss: 0.00028796817059628665\n",
      "Generating Image Number: 15 for target class tensor([3]). Step 100, Loss: 0.00017045476124621928\n",
      "Generating Image Number: 15 for target class tensor([3]). Step 150, Loss: 0.00012432756193447858\n",
      "Generating Image Number: 15 for target class tensor([3]). Step 200, Loss: 0.00010108436981681734\n",
      "Generating Image Number: 15 for target class tensor([3]). Step 250, Loss: 8.427741704508662e-05\n",
      "Generating Image Number: 15 for target class tensor([3]). Step 300, Loss: 7.402622577501461e-05\n",
      "Generating Image Number: 15 for target class tensor([3]). Step 350, Loss: 6.48477507638745e-05\n",
      "Generating Image Number: 15 for target class tensor([3]). Step 400, Loss: 4.768258077092469e-05\n",
      "Generating Image Number: 15 for target class tensor([3]). Step 450, Loss: 4.076874756719917e-05\n",
      "Generating Image Number: 16 for target class tensor([3]). Step 0, Loss: 4.160149097442627\n",
      "Generating Image Number: 16 for target class tensor([3]). Step 50, Loss: 0.6580214500427246\n",
      "Generating Image Number: 16 for target class tensor([3]). Step 100, Loss: 0.3568558692932129\n",
      "Generating Image Number: 16 for target class tensor([3]). Step 150, Loss: 0.2597106993198395\n",
      "Generating Image Number: 16 for target class tensor([3]). Step 200, Loss: 0.21010641753673553\n",
      "Generating Image Number: 16 for target class tensor([3]). Step 250, Loss: 0.17712879180908203\n",
      "Generating Image Number: 16 for target class tensor([3]). Step 300, Loss: 0.1386447697877884\n",
      "Generating Image Number: 16 for target class tensor([3]). Step 350, Loss: 0.12134374678134918\n",
      "Generating Image Number: 16 for target class tensor([3]). Step 400, Loss: 0.11402752250432968\n",
      "Generating Image Number: 16 for target class tensor([3]). Step 450, Loss: 0.08679064363241196\n",
      "Generating Image Number: 17 for target class tensor([3]). Step 0, Loss: 0.09377284348011017\n",
      "Generating Image Number: 17 for target class tensor([3]). Step 50, Loss: 0.0016470688860863447\n",
      "Generating Image Number: 17 for target class tensor([3]). Step 100, Loss: 0.0010704031446948647\n",
      "Generating Image Number: 17 for target class tensor([3]). Step 150, Loss: 0.0009395237429998815\n",
      "Generating Image Number: 17 for target class tensor([3]). Step 200, Loss: 0.0008300673216581345\n",
      "Generating Image Number: 17 for target class tensor([3]). Step 250, Loss: 0.0007269124034792185\n",
      "Generating Image Number: 17 for target class tensor([3]). Step 300, Loss: 0.0006121906917542219\n",
      "Generating Image Number: 17 for target class tensor([3]). Step 350, Loss: 0.0005471401382237673\n",
      "Generating Image Number: 17 for target class tensor([3]). Step 400, Loss: 0.000498289882671088\n",
      "Generating Image Number: 17 for target class tensor([3]). Step 450, Loss: 0.0004522969538811594\n",
      "Generating Image Number: 18 for target class tensor([3]). Step 0, Loss: 1.417107105255127\n",
      "Generating Image Number: 18 for target class tensor([3]). Step 50, Loss: 0.20188629627227783\n",
      "Generating Image Number: 18 for target class tensor([3]). Step 100, Loss: 0.12120404839515686\n",
      "Generating Image Number: 18 for target class tensor([3]). Step 150, Loss: 0.08410429209470749\n",
      "Generating Image Number: 18 for target class tensor([3]). Step 200, Loss: 0.06566011160612106\n",
      "Generating Image Number: 18 for target class tensor([3]). Step 250, Loss: 0.05327152833342552\n",
      "Generating Image Number: 18 for target class tensor([3]). Step 300, Loss: 0.04167132079601288\n",
      "Generating Image Number: 18 for target class tensor([3]). Step 350, Loss: 0.034732017666101456\n",
      "Generating Image Number: 18 for target class tensor([3]). Step 400, Loss: 0.03026197850704193\n",
      "Generating Image Number: 18 for target class tensor([3]). Step 450, Loss: 0.027357926592230797\n",
      "Generating Image Number: 19 for target class tensor([3]). Step 0, Loss: 1.890868902206421\n",
      "Generating Image Number: 19 for target class tensor([3]). Step 50, Loss: 0.26177260279655457\n",
      "Generating Image Number: 19 for target class tensor([3]). Step 100, Loss: 0.11560342460870743\n",
      "Generating Image Number: 19 for target class tensor([3]). Step 150, Loss: 0.07254701107740402\n",
      "Generating Image Number: 19 for target class tensor([3]). Step 200, Loss: 0.0546562559902668\n",
      "Generating Image Number: 19 for target class tensor([3]). Step 250, Loss: 0.04273426532745361\n",
      "Generating Image Number: 19 for target class tensor([3]). Step 300, Loss: 0.03533056378364563\n",
      "Generating Image Number: 19 for target class tensor([3]). Step 350, Loss: 0.02968306839466095\n",
      "Generating Image Number: 19 for target class tensor([3]). Step 400, Loss: 0.025856558233499527\n",
      "Generating Image Number: 19 for target class tensor([3]). Step 450, Loss: 0.02290319837629795\n",
      "Generating Image Number: 20 for target class tensor([3]). Step 0, Loss: 1.8476067781448364\n",
      "Generating Image Number: 20 for target class tensor([3]). Step 50, Loss: 0.0005787128466181457\n",
      "Generating Image Number: 20 for target class tensor([3]). Step 100, Loss: 0.00045074793160893023\n",
      "Generating Image Number: 20 for target class tensor([3]). Step 150, Loss: 0.0003935516288038343\n",
      "Generating Image Number: 20 for target class tensor([3]). Step 200, Loss: 0.0003716255014296621\n",
      "Generating Image Number: 20 for target class tensor([3]). Step 250, Loss: 0.00035422726068645716\n",
      "Generating Image Number: 20 for target class tensor([3]). Step 300, Loss: 0.0003392120997887105\n",
      "Generating Image Number: 20 for target class tensor([3]). Step 350, Loss: 0.00032181330607272685\n",
      "Generating Image Number: 20 for target class tensor([3]). Step 400, Loss: 0.0003079893649555743\n",
      "Generating Image Number: 20 for target class tensor([3]). Step 450, Loss: 0.00029273517429828644\n"
     ]
    }
   ],
   "source": [
    "torch.manual_seed(300)\n",
    "latent_vectors = torch.randn(img_count, z_dim, 1, 1, requires_grad=True) # Start with 20 random noises\n",
    "class3_optimized_latent_vectors = recover_images(img_count, 3, latent_vectors)"
   ]
  },
  {
   "cell_type": "code",
   "execution_count": 24,
   "id": "ae6425a5-dd86-4e87-8112-883336345ac9",
   "metadata": {},
   "outputs": [],
   "source": [
    "z0_1 = class0_optimized_latent_vectors[0]\n",
    "z0_2 = class0_optimized_latent_vectors[1]\n",
    "z0_3 = class0_optimized_latent_vectors[2]"
   ]
  },
  {
   "cell_type": "code",
   "execution_count": 25,
   "id": "3a6ed4fb-b693-4963-afcf-17a512e50b5f",
   "metadata": {},
   "outputs": [
    {
     "name": "stdout",
     "output_type": "stream",
     "text": [
      "torch.Size([64, 64])\n"
     ]
    }
   ],
   "source": [
    "# Display the generated image\n",
    "img = gen(z0_1.to(device)).squeeze(dim=0).squeeze(dim=0)\n",
    "print(img.shape)"
   ]
  },
  {
   "cell_type": "code",
   "execution_count": 26,
   "id": "88fc9416-c6ca-486b-bd72-63885de78d1c",
   "metadata": {},
   "outputs": [
    {
     "data": {
      "text/plain": [
       "<matplotlib.image.AxesImage at 0x1fe36e35f70>"
      ]
     },
     "execution_count": 26,
     "metadata": {},
     "output_type": "execute_result"
    },
    {
     "data": {
      "image/png": "[encoded data removed]",
      "text/plain": [
       "<Figure size 640x480 with 1 Axes>"
      ]
     },
     "metadata": {},
     "output_type": "display_data"
    }
   ],
   "source": [
    "plt.axis(False)\n",
    "plt.title('Recovered Image:')\n",
    "plt.imshow(img.cpu().detach(), cmap='gray')"
   ]
  },
  {
   "cell_type": "code",
   "execution_count": 27,
   "id": "bb0fc370-78c5-495f-b1e7-1239873b4ff8",
   "metadata": {},
   "outputs": [],
   "source": [
    "z1 = class1_optimized_latent_vectors[0]\n",
    "z2 = class1_optimized_latent_vectors[1]\n",
    "z3 = class1_optimized_latent_vectors[2]"
   ]
  },
  {
   "cell_type": "code",
   "execution_count": 28,
   "id": "07f38b7d-14f6-4d63-9efa-cb96ec2e1d35",
   "metadata": {},
   "outputs": [
    {
     "name": "stdout",
     "output_type": "stream",
     "text": [
      "torch.Size([64, 64])\n"
     ]
    }
   ],
   "source": [
    "# Display the generated image\n",
    "img = gen(z1.to(device)).squeeze(dim=0).squeeze(dim=0)\n",
    "print(img.shape)"
   ]
  },
  {
   "cell_type": "code",
   "execution_count": 29,
   "id": "8cad57ff-7961-4078-9dd4-1e0b4879ff56",
   "metadata": {},
   "outputs": [
    {
     "data": {
      "text/plain": [
       "<matplotlib.image.AxesImage at 0x1fe36fc7df0>"
      ]
     },
     "execution_count": 29,
     "metadata": {},
     "output_type": "execute_result"
    },
    {
     "data": {
      "image/png": "[encoded data removed]",
      "text/plain": [
       "<Figure size 640x480 with 1 Axes>"
      ]
     },
     "metadata": {},
     "output_type": "display_data"
    }
   ],
   "source": [
    "plt.axis(False)\n",
    "plt.title('Recovered Image:')\n",
    "plt.imshow(img.cpu().detach(), cmap='gray')"
   ]
  },
  {
   "cell_type": "code",
   "execution_count": 30,
   "id": "52ecd67d-cb2d-44a3-b375-759d63db75b1",
   "metadata": {},
   "outputs": [],
   "source": [
    "                                                            # Dataset Loading\n",
    "# Load the .pkl files in as numpy arrays of pixels\n",
    "def load_tumor_data(file_path):\n",
    "    train_xs = []\n",
    "    train_ys = []\n",
    "    \"\"\" Load Digits Data from pickle data\n",
    "    return:\n",
    "    @xs: numpy.array, (n, c, w, h) \n",
    "    @ys: numpy.array, (n, ), 0-9\n",
    "    \"\"\"\n",
    "    with open(file_path, 'rb') as file:\n",
    "        data = pickle.load(file)\n",
    "        train_xs.append(data[\"data\"])\n",
    "        train_ys.append(data[\"labels\"])\n",
    "    train_xs = np.concatenate(train_xs, axis=0)\n",
    "    train_ys = np.concatenate(train_ys, axis=0)\n",
    "    \n",
    "    return train_xs, train_ys"
   ]
  },
  {
   "cell_type": "code",
   "execution_count": 31,
   "id": "ca72f62f-1eec-4b17-a8ce-fd66781f64f6",
   "metadata": {},
   "outputs": [],
   "source": [
    "# Custom Tumor Dataset\n",
    "class TumorDataset(data.Dataset):\n",
    "    def __init__(self, xs, ys, is_train=True):\n",
    "        self.xs = xs\n",
    "        self.ys = ys\n",
    "\n",
    "        if is_train is True:\n",
    "            self.transform = transforms.Compose([\n",
    "                transforms.ToPILImage(),\n",
    "                transforms.Resize((64, 64)),\n",
    "                transforms.ToTensor(),\n",
    "                transforms.Normalize(\n",
    "                    [0.5],\n",
    "                    [0.5]\n",
    "                )\n",
    "            ])\n",
    "        else:\n",
    "            self.transform = transforms.Compose([\n",
    "                transforms.ToPILImage(),\n",
    "                transforms.Resize((64, 64)),\n",
    "                transforms.ToTensor(),\n",
    "                transforms.Normalize(\n",
    "                    (0.4914, 0.4822, 0.4465),\n",
    "                    (0.2023, 0.1994, 0.2010)\n",
    "                )\n",
    "            ])\n",
    "\n",
    "    def __len__(self):\n",
    "        return len(self.xs)\n",
    "\n",
    "    def __getitem__(self, index):\n",
    "        img = self.xs[index]\n",
    "        #print(img.shape)\n",
    "        label = self.ys[index]\n",
    "\n",
    "        img = img.transpose((1, 2, 0)).astype(np.uint8)\n",
    "        img = self.transform(img)\n",
    "\n",
    "        img = torch.FloatTensor(img)\n",
    "        label = torch.LongTensor([label])[0]\n",
    "        return img, label"
   ]
  },
  {
   "cell_type": "code",
   "execution_count": 32,
   "id": "ceb91588-ef69-4373-b33f-74aed6c246bb",
   "metadata": {},
   "outputs": [],
   "source": [
    "def create_dataset(train_xs, train_ys):\n",
    "    tumor_dataset = TumorDataset(train_xs, train_ys, is_train=True)\n",
    "\n",
    "    return tumor_dataset"
   ]
  },
  {
   "cell_type": "code",
   "execution_count": 33,
   "id": "0415fba0-830c-42c6-bbde-c6958e779fbb",
   "metadata": {},
   "outputs": [],
   "source": [
    "def create_dataloader(dataset):\n",
    "    dataloader = DataLoader(dataset=dataset, batch_size=128, shuffle=True)\n",
    "\n",
    "    return dataloader"
   ]
  },
  {
   "cell_type": "code",
   "execution_count": 34,
   "id": "726d4995-5133-4037-ab0e-f2705470cdc9",
   "metadata": {},
   "outputs": [
    {
     "name": "stdout",
     "output_type": "stream",
     "text": [
      "(13927, 1, 32, 32)\n",
      "<class 'numpy.ndarray'>\n"
     ]
    }
   ],
   "source": [
    "# Load in the pickle dataset file\n",
    "train_xs, train_ys = load_tumor_data('datasets/Tumor/tumor4train.pkl')\n",
    "#train_xs = train_xs[:, 1, :, :]\n",
    "#train_xs = np.expand_dims(train_xs, axis=1)\n",
    "train_xs = train_xs.mean(axis=1, keepdims=True)\n",
    "print(train_xs.shape)\n",
    "print(type(train_xs))"
   ]
  },
  {
   "cell_type": "code",
   "execution_count": 35,
   "id": "a684b01a-eb4a-4210-9f59-d613085a404a",
   "metadata": {},
   "outputs": [],
   "source": [
    "# Create the dataset\n",
    "tumor_dataset = create_dataset(train_xs, train_ys)"
   ]
  },
  {
   "cell_type": "code",
   "execution_count": 36,
   "id": "193f07cc-d34f-425e-aa08-62b6d6adbad6",
   "metadata": {},
   "outputs": [],
   "source": [
    "def visualize_image(image_x):\n",
    "    # We have to visualize by reverting the normalization (just for visualization).\n",
    "    mean = torch.tensor([0.5])\n",
    "    std = torch.tensor([0.5])\n",
    "\n",
    "    image = image_x * std + mean  # Denormalize the image\n",
    "\n",
    "    image = torch.clamp(image, 0, 1) # Clip values to [0, 1] to ensure valid range for display\n",
    "\n",
    "    # Permute the image to (H, W, C) for matplotlib\n",
    "    \n",
    "    image = image.permute(1, 2, 0)\n",
    "\n",
    "    plt.imshow(image, cmap='gray')"
   ]
  },
  {
   "cell_type": "code",
   "execution_count": 37,
   "id": "16e93c17-a89b-46a2-8198-71e66e370f4f",
   "metadata": {},
   "outputs": [
    {
     "name": "stdout",
     "output_type": "stream",
     "text": [
      "torch.Size([1, 64, 64])\n"
     ]
    },
    {
     "data": {
      "image/png": "[encoded data removed]",
      "text/plain": [
       "<Figure size 640x480 with 1 Axes>"
      ]
     },
     "metadata": {},
     "output_type": "display_data"
    }
   ],
   "source": [
    "# Visualize the first tumor sample. \n",
    "image_x, image_y = tumor_dataset[7000]\n",
    "print(image_x.shape)\n",
    "visualize_image(image_x)"
   ]
  },
  {
   "cell_type": "code",
   "execution_count": 38,
   "id": "60e2da47-7cb6-493e-aeda-aa80d7965de7",
   "metadata": {},
   "outputs": [],
   "source": [
    "from scipy.spatial.distance import cosine"
   ]
  },
  {
   "cell_type": "code",
   "execution_count": 39,
   "id": "5a7937e5-b808-4b3e-8288-75dcd9862340",
   "metadata": {},
   "outputs": [],
   "source": [
    "# Get the feature embeddings\n",
    "tfcnn_model = target_model = load_target_model(base_net='TFCNN', n_classes=4, path='saved models/fedavg_global_model.pth').to(device)\n",
    "model_embeddings = tfcnn_model.encoder.to(device)"
   ]
  },
  {
   "cell_type": "code",
   "execution_count": 40,
   "id": "737e3d92-45b6-45f6-9bf2-d51f379d6ac8",
   "metadata": {},
   "outputs": [],
   "source": [
    "# Preprocessing\n",
    "preprocess = transforms.Compose([\n",
    "    transforms.Resize(256),\n",
    "    transforms.CenterCrop(224),\n",
    "    transforms.ToTensor(),\n",
    "])"
   ]
  },
  {
   "cell_type": "code",
   "execution_count": 41,
   "id": "babb1015-bdfb-439b-bea1-81f9f50dd74e",
   "metadata": {},
   "outputs": [],
   "source": [
    "def get_feature(img):\n",
    "    with torch.no_grad():\n",
    "        features = model_embeddings(img).squeeze()\n",
    "    return features.cpu().numpy()"
   ]
  },
  {
   "cell_type": "code",
   "execution_count": 42,
   "id": "79f38654-6670-440d-a322-b2cae18a71d8",
   "metadata": {},
   "outputs": [
    {
     "data": {
      "text/plain": [
       "torch.Size([1, 64, 64])"
      ]
     },
     "execution_count": 42,
     "metadata": {},
     "output_type": "execute_result"
    }
   ],
   "source": [
    "# Send an original image through the model\n",
    "image_x, image_y = tumor_dataset[10]\n",
    "image_x.shape"
   ]
  },
  {
   "cell_type": "code",
   "execution_count": 43,
   "id": "a4a2659e-dcaa-4d4a-b5a5-06b363ce6534",
   "metadata": {},
   "outputs": [],
   "source": [
    "image_x = image_x.unsqueeze(dim=0)"
   ]
  },
  {
   "cell_type": "code",
   "execution_count": 44,
   "id": "14348bfc-5988-48f0-88cf-4761d7a99d89",
   "metadata": {},
   "outputs": [
    {
     "data": {
      "text/plain": [
       "torch.Size([1, 1, 64, 64])"
      ]
     },
     "execution_count": 44,
     "metadata": {},
     "output_type": "execute_result"
    }
   ],
   "source": [
    "image_x.shape"
   ]
  },
  {
   "cell_type": "code",
   "execution_count": 45,
   "id": "66160253-9543-4aba-bb81-031d51ef9623",
   "metadata": {},
   "outputs": [
    {
     "data": {
      "text/plain": [
       "torch.Size([1, 3, 64, 64])"
      ]
     },
     "execution_count": 45,
     "metadata": {},
     "output_type": "execute_result"
    }
   ],
   "source": [
    "image_x = image_x.repeat(1, 3, 1, 1)\n",
    "image_x = image_x.to(device)\n",
    "image_x.shape"
   ]
  },
  {
   "cell_type": "code",
   "execution_count": 46,
   "id": "f615c7d3-2dab-425d-81e1-2595ec59e230",
   "metadata": {},
   "outputs": [
    {
     "data": {
      "text/plain": [
       "(4096,)"
      ]
     },
     "execution_count": 46,
     "metadata": {},
     "output_type": "execute_result"
    }
   ],
   "source": [
    "features = get_feature(image_x)\n",
    "features.shape"
   ]
  },
  {
   "cell_type": "code",
   "execution_count": 47,
   "id": "31b9ddc9-3fc8-4a47-bfc7-74a6df27d672",
   "metadata": {},
   "outputs": [],
   "source": [
    "class0_original_images = []\n",
    "class1_original_images = []\n",
    "class2_original_images = []\n",
    "class3_original_images = []\n",
    "target_num = 20 # 20 images for each class"
   ]
  },
  {
   "cell_type": "code",
   "execution_count": 48,
   "id": "e804c948-2dc8-41df-a633-113300baf12a",
   "metadata": {},
   "outputs": [],
   "source": [
    "for i in range(len(tumor_dataset)):\n",
    "    img_x, img_y = tumor_dataset[i]\n",
    "\n",
    "    if img_y == 0:\n",
    "        if len(class0_original_images) < target_num:\n",
    "            class0_original_images.append(img_x)\n",
    "    elif img_y == 1:\n",
    "        if len(class1_original_images) < target_num:\n",
    "            class1_original_images.append(img_x)\n",
    "    elif img_y == 2:\n",
    "        if len(class2_original_images) < target_num:\n",
    "            class2_original_images.append(img_x)\n",
    "    elif img_y == 3:\n",
    "        if len(class3_original_images) < target_num:\n",
    "            class3_original_images.append(img_x)"
   ]
  },
  {
   "cell_type": "code",
   "execution_count": 49,
   "id": "ef07c896-c4cd-48da-9e59-c9d7bd90a4e8",
   "metadata": {},
   "outputs": [
    {
     "data": {
      "text/plain": [
       "20"
      ]
     },
     "execution_count": 49,
     "metadata": {},
     "output_type": "execute_result"
    }
   ],
   "source": [
    "len(class3_original_images)"
   ]
  },
  {
   "cell_type": "code",
   "execution_count": 50,
   "id": "e102404a-68a3-40c5-99a7-45813eb87f20",
   "metadata": {},
   "outputs": [
    {
     "data": {
      "text/plain": [
       "torch.Size([1, 3, 64, 64])"
      ]
     },
     "execution_count": 50,
     "metadata": {},
     "output_type": "execute_result"
    }
   ],
   "source": [
    "# Testing the cosine similarity\n",
    "class1_original_image = class1_original_images[8]\n",
    "class1_original_image = class1_original_image.unsqueeze(dim=0).to(device)\n",
    "class1_original_image = class1_original_image.repeat(1, 3, 1, 1)\n",
    "class1_original_image.shape"
   ]
  },
  {
   "cell_type": "code",
   "execution_count": 51,
   "id": "d7fe9c85-2c83-4580-be7d-32833b706948",
   "metadata": {},
   "outputs": [],
   "source": [
    "fake1 = class1_optimized_latent_vectors[8]\n",
    "fake1_image = gen(fake1.to(device))\n",
    "fake1_image = fake1_image.repeat(1, 3, 1, 1)"
   ]
  },
  {
   "cell_type": "code",
   "execution_count": 52,
   "id": "74647152-cdcb-4593-a88f-d3ac43fd97d3",
   "metadata": {},
   "outputs": [
    {
     "data": {
      "text/plain": [
       "torch.Size([1, 3, 64, 64])"
      ]
     },
     "execution_count": 52,
     "metadata": {},
     "output_type": "execute_result"
    }
   ],
   "source": [
    "fake1_image.shape"
   ]
  },
  {
   "cell_type": "code",
   "execution_count": 53,
   "id": "e88f6396-0ef2-45f5-96e0-6048be01af25",
   "metadata": {},
   "outputs": [],
   "source": [
    "# Get the features of the images\n",
    "features_original = get_feature(class1_original_image)\n",
    "features_fake = get_feature(fake1_image)"
   ]
  },
  {
   "cell_type": "code",
   "execution_count": 54,
   "id": "b54e2bca-5f2b-41ea-b810-15d1f9d30f86",
   "metadata": {},
   "outputs": [],
   "source": [
    "# Compute cosine similarity\n",
    "similarity = 1 - cosine(features_original, features_fake)"
   ]
  },
  {
   "cell_type": "code",
   "execution_count": 55,
   "id": "983c7e35-27ee-453c-9356-cb9a84fdd4a3",
   "metadata": {},
   "outputs": [
    {
     "data": {
      "text/plain": [
       "np.float32(0.834049)"
      ]
     },
     "execution_count": 55,
     "metadata": {},
     "output_type": "execute_result"
    }
   ],
   "source": [
    "similarity"
   ]
  },
  {
   "cell_type": "code",
   "execution_count": 56,
   "id": "e65e04e8-52b7-4cf2-876c-d9b07a435ec9",
   "metadata": {},
   "outputs": [],
   "source": [
    "def calculate_class0_sim():\n",
    "    similarities = []\n",
    "    for i in range(0, 20):\n",
    "        class0_original = class0_original_images[i].unsqueeze(dim=0).to(device)\n",
    "        class0_original = class0_original.repeat(1, 3, 1, 1)\n",
    "\n",
    "        class0_fake = class0_optimized_latent_vectors[i]\n",
    "        class0_fake_img = gen(class0_fake.to(device))\n",
    "        class0_fake_img = class0_fake_img.repeat(1, 3, 1, 1)\n",
    "\n",
    "        features_original = get_feature(class0_original)\n",
    "        features_fake = get_feature(class0_fake_img)\n",
    "\n",
    "        cosine_similarity = 1 - cosine(features_original, features_fake)\n",
    "\n",
    "        similarities.append(cosine_similarity)\n",
    "        \n",
    "    return similarities"
   ]
  },
  {
   "cell_type": "code",
   "execution_count": 57,
   "id": "10d8f579-0b80-4157-b59b-7b92be9e52f2",
   "metadata": {},
   "outputs": [],
   "source": [
    "def calculate_class1_sim():\n",
    "    similarities = []\n",
    "    for i in range(0, 20):\n",
    "        class1_original = class1_original_images[i].unsqueeze(dim=0).to(device)\n",
    "        class1_original = class1_original.repeat(1, 3, 1, 1)\n",
    "\n",
    "        class1_fake = class1_optimized_latent_vectors[i]\n",
    "        class1_fake_img = gen(class1_fake.to(device))\n",
    "        class1_fake_img = class1_fake_img.repeat(1, 3, 1, 1)\n",
    "\n",
    "        features_original = get_feature(class1_original)\n",
    "        features_fake = get_feature(class1_fake_img)\n",
    "\n",
    "        cosine_similarity = 1 - cosine(features_original, features_fake)\n",
    "        similarities.append(cosine_similarity)\n",
    "\n",
    "    return similarities"
   ]
  },
  {
   "cell_type": "code",
   "execution_count": 58,
   "id": "1bbdc999-fa6d-4005-b785-3c54a7bd89ee",
   "metadata": {},
   "outputs": [],
   "source": [
    "def calculate_class2_sim():\n",
    "    similarities = []\n",
    "    for i in range(0, 20):\n",
    "        class2_original = class2_original_images[i].unsqueeze(dim=0).to(device)\n",
    "        class2_original = class2_original.repeat(1, 3, 1, 1)\n",
    "\n",
    "        class2_fake = class2_optimized_latent_vectors[i]\n",
    "        class2_fake_img = gen(class2_fake.to(device))\n",
    "        class2_fake_img = class2_fake_img.repeat(1, 3, 1, 1)\n",
    "\n",
    "        features_original = get_feature(class2_original)\n",
    "        features_fake = get_feature(class2_fake_img)\n",
    "\n",
    "        cosine_similarity = 1 - cosine(features_original, features_fake)\n",
    "        similarities.append(cosine_similarity)\n",
    "\n",
    "    return similarities"
   ]
  },
  {
   "cell_type": "code",
   "execution_count": 59,
   "id": "33cb8de1-5a87-4dd4-8fc2-d3f27d6ddc9a",
   "metadata": {},
   "outputs": [],
   "source": [
    "def calculate_class3_sim():\n",
    "    similarities = []\n",
    "    for i in range(0, 20):\n",
    "        class3_original = class3_original_images[i].unsqueeze(dim=0).to(device)\n",
    "        class3_original = class3_original.repeat(1, 3, 1, 1)\n",
    "\n",
    "        class3_fake = class3_optimized_latent_vectors[i]\n",
    "        class3_fake_img = gen(class3_fake.to(device))\n",
    "        class3_fake_img = class3_fake_img.repeat(1, 3, 1, 1)\n",
    "\n",
    "        features_original = get_feature(class3_original)\n",
    "        features_fake = get_feature(class3_fake_img)\n",
    "\n",
    "        cosine_similarity = 1 - cosine(features_original, features_fake)\n",
    "        similarities.append(cosine_similarity)\n",
    "\n",
    "    return similarities"
   ]
  },
  {
   "cell_type": "code",
   "execution_count": 60,
   "id": "7868f175-5845-4ee4-b4cf-1c89513375ec",
   "metadata": {},
   "outputs": [],
   "source": [
    "class0_sims = calculate_class0_sim()\n",
    "class1_sims = calculate_class0_sim()\n",
    "class2_sims = calculate_class0_sim()\n",
    "class3_sims = calculate_class0_sim()"
   ]
  },
  {
   "cell_type": "code",
   "execution_count": 61,
   "id": "bbf4597d-a583-4204-a3ce-9085936e0189",
   "metadata": {},
   "outputs": [
    {
     "data": {
      "text/plain": [
       "[np.float32(0.87028956),\n",
       " np.float32(0.53946465),\n",
       " np.float32(0.63457686),\n",
       " np.float32(0.40170294),\n",
       " np.float32(0.74984294),\n",
       " np.float32(0.25064898),\n",
       " np.float32(0.3270085),\n",
       " np.float32(0.7011822),\n",
       " np.float32(0.43513417),\n",
       " np.float32(0.5651817),\n",
       " np.float32(0.42223752),\n",
       " np.float32(0.020956576),\n",
       " np.float32(0.4715507),\n",
       " np.float32(0.67341024),\n",
       " np.float32(0.5436518),\n",
       " np.float32(0.61055756),\n",
       " np.float32(0.44138992),\n",
       " np.float32(0.7896947),\n",
       " np.float32(0.7132532),\n",
       " np.float32(0.508984)]"
      ]
     },
     "execution_count": 61,
     "metadata": {},
     "output_type": "execute_result"
    }
   ],
   "source": [
    "class0_sims"
   ]
  },
  {
   "cell_type": "code",
   "execution_count": 62,
   "id": "acb9d480-a58f-4ce6-8973-eb9c8d6e7253",
   "metadata": {},
   "outputs": [
    {
     "data": {
      "text/plain": [
       "[np.float32(0.87028956),\n",
       " np.float32(0.53946465),\n",
       " np.float32(0.6345768),\n",
       " np.float32(0.40170294),\n",
       " np.float32(0.74984354),\n",
       " np.float32(0.25064898),\n",
       " np.float32(0.3270086),\n",
       " np.float32(0.70118225),\n",
       " np.float32(0.4351346),\n",
       " np.float32(0.5651817),\n",
       " np.float32(0.42223728),\n",
       " np.float32(0.020956576),\n",
       " np.float32(0.47155023),\n",
       " np.float32(0.67341024),\n",
       " np.float32(0.5436518),\n",
       " np.float32(0.61055756),\n",
       " np.float32(0.44138992),\n",
       " np.float32(0.78969467),\n",
       " np.float32(0.7132533),\n",
       " np.float32(0.50898373)]"
      ]
     },
     "execution_count": 62,
     "metadata": {},
     "output_type": "execute_result"
    }
   ],
   "source": [
    "class3_sims"
   ]
  },
  {
   "cell_type": "code",
   "execution_count": 63,
   "id": "58dc103d-1c30-473a-adc3-fcd5ca5100a0",
   "metadata": {},
   "outputs": [
    {
     "ename": "FileNotFoundError",
     "evalue": "[Errno 2] No such file or directory: 'output/fedvg.png'",
     "output_type": "error",
     "traceback": [
      "\u001b[1;31m---------------------------------------------------------------------------\u001b[0m",
      "\u001b[1;31mFileNotFoundError\u001b[0m                         Traceback (most recent call last)",
      "Cell \u001b[1;32mIn[63], line 43\u001b[0m\n\u001b[0;32m     41\u001b[0m plt\u001b[38;5;241m.\u001b[39mtight_layout()\n\u001b[0;32m     42\u001b[0m \u001b[38;5;66;03m# Save the plot to a file\u001b[39;00m\n\u001b[1;32m---> 43\u001b[0m \u001b[43mplt\u001b[49m\u001b[38;5;241;43m.\u001b[39;49m\u001b[43msavefig\u001b[49m\u001b[43m(\u001b[49m\u001b[38;5;124;43m'\u001b[39;49m\u001b[38;5;124;43moutput/fedvg.png\u001b[39;49m\u001b[38;5;124;43m'\u001b[39;49m\u001b[43m,\u001b[49m\u001b[43m \u001b[49m\u001b[43mdpi\u001b[49m\u001b[38;5;241;43m=\u001b[39;49m\u001b[38;5;241;43m300\u001b[39;49m\u001b[43m,\u001b[49m\u001b[43m \u001b[49m\u001b[43mbbox_inches\u001b[49m\u001b[38;5;241;43m=\u001b[39;49m\u001b[38;5;124;43m'\u001b[39;49m\u001b[38;5;124;43mtight\u001b[39;49m\u001b[38;5;124;43m'\u001b[39;49m\u001b[43m)\u001b[49m  \u001b[38;5;66;03m# Save as a PNG file with high resolution\u001b[39;00m\n\u001b[0;32m     45\u001b[0m \u001b[38;5;66;03m# Show the plot\u001b[39;00m\n\u001b[0;32m     46\u001b[0m plt\u001b[38;5;241m.\u001b[39mshow()\n",
      "File \u001b[1;32m~\\AppData\\Local\\Programs\\Python\\Python39\\lib\\site-packages\\matplotlib\\pyplot.py:1228\u001b[0m, in \u001b[0;36msavefig\u001b[1;34m(*args, **kwargs)\u001b[0m\n\u001b[0;32m   1225\u001b[0m fig \u001b[38;5;241m=\u001b[39m gcf()\n\u001b[0;32m   1226\u001b[0m \u001b[38;5;66;03m# savefig default implementation has no return, so mypy is unhappy\u001b[39;00m\n\u001b[0;32m   1227\u001b[0m \u001b[38;5;66;03m# presumably this is here because subclasses can return?\u001b[39;00m\n\u001b[1;32m-> 1228\u001b[0m res \u001b[38;5;241m=\u001b[39m fig\u001b[38;5;241m.\u001b[39msavefig(\u001b[38;5;241m*\u001b[39margs, \u001b[38;5;241m*\u001b[39m\u001b[38;5;241m*\u001b[39mkwargs)  \u001b[38;5;66;03m# type: ignore[func-returns-value]\u001b[39;00m\n\u001b[0;32m   1229\u001b[0m fig\u001b[38;5;241m.\u001b[39mcanvas\u001b[38;5;241m.\u001b[39mdraw_idle()  \u001b[38;5;66;03m# Need this if 'transparent=True', to reset colors.\u001b[39;00m\n\u001b[0;32m   1230\u001b[0m \u001b[38;5;28;01mreturn\u001b[39;00m res\n",
      "File \u001b[1;32m~\\AppData\\Local\\Programs\\Python\\Python39\\lib\\site-packages\\matplotlib\\figure.py:3395\u001b[0m, in \u001b[0;36mFigure.savefig\u001b[1;34m(self, fname, transparent, **kwargs)\u001b[0m\n\u001b[0;32m   3393\u001b[0m     \u001b[38;5;28;01mfor\u001b[39;00m ax \u001b[38;5;129;01min\u001b[39;00m \u001b[38;5;28mself\u001b[39m\u001b[38;5;241m.\u001b[39maxes:\n\u001b[0;32m   3394\u001b[0m         _recursively_make_axes_transparent(stack, ax)\n\u001b[1;32m-> 3395\u001b[0m \u001b[38;5;28mself\u001b[39m\u001b[38;5;241m.\u001b[39mcanvas\u001b[38;5;241m.\u001b[39mprint_figure(fname, \u001b[38;5;241m*\u001b[39m\u001b[38;5;241m*\u001b[39mkwargs)\n",
      "File \u001b[1;32m~\\AppData\\Local\\Programs\\Python\\Python39\\lib\\site-packages\\matplotlib\\backend_bases.py:2204\u001b[0m, in \u001b[0;36mFigureCanvasBase.print_figure\u001b[1;34m(self, filename, dpi, facecolor, edgecolor, orientation, format, bbox_inches, pad_inches, bbox_extra_artists, backend, **kwargs)\u001b[0m\n\u001b[0;32m   2200\u001b[0m \u001b[38;5;28;01mtry\u001b[39;00m:\n\u001b[0;32m   2201\u001b[0m     \u001b[38;5;66;03m# _get_renderer may change the figure dpi (as vector formats\u001b[39;00m\n\u001b[0;32m   2202\u001b[0m     \u001b[38;5;66;03m# force the figure dpi to 72), so we need to set it again here.\u001b[39;00m\n\u001b[0;32m   2203\u001b[0m     \u001b[38;5;28;01mwith\u001b[39;00m cbook\u001b[38;5;241m.\u001b[39m_setattr_cm(\u001b[38;5;28mself\u001b[39m\u001b[38;5;241m.\u001b[39mfigure, dpi\u001b[38;5;241m=\u001b[39mdpi):\n\u001b[1;32m-> 2204\u001b[0m         result \u001b[38;5;241m=\u001b[39m print_method(\n\u001b[0;32m   2205\u001b[0m             filename,\n\u001b[0;32m   2206\u001b[0m             facecolor\u001b[38;5;241m=\u001b[39mfacecolor,\n\u001b[0;32m   2207\u001b[0m             edgecolor\u001b[38;5;241m=\u001b[39medgecolor,\n\u001b[0;32m   2208\u001b[0m             orientation\u001b[38;5;241m=\u001b[39morientation,\n\u001b[0;32m   2209\u001b[0m             bbox_inches_restore\u001b[38;5;241m=\u001b[39m_bbox_inches_restore,\n\u001b[0;32m   2210\u001b[0m             \u001b[38;5;241m*\u001b[39m\u001b[38;5;241m*\u001b[39mkwargs)\n\u001b[0;32m   2211\u001b[0m \u001b[38;5;28;01mfinally\u001b[39;00m:\n\u001b[0;32m   2212\u001b[0m     \u001b[38;5;28;01mif\u001b[39;00m bbox_inches \u001b[38;5;129;01mand\u001b[39;00m restore_bbox:\n",
      "File \u001b[1;32m~\\AppData\\Local\\Programs\\Python\\Python39\\lib\\site-packages\\matplotlib\\backend_bases.py:2054\u001b[0m, in \u001b[0;36mFigureCanvasBase._switch_canvas_and_return_print_method.<locals>.<lambda>\u001b[1;34m(*args, **kwargs)\u001b[0m\n\u001b[0;32m   2050\u001b[0m     optional_kws \u001b[38;5;241m=\u001b[39m {  \u001b[38;5;66;03m# Passed by print_figure for other renderers.\u001b[39;00m\n\u001b[0;32m   2051\u001b[0m         \u001b[38;5;124m\"\u001b[39m\u001b[38;5;124mdpi\u001b[39m\u001b[38;5;124m\"\u001b[39m, \u001b[38;5;124m\"\u001b[39m\u001b[38;5;124mfacecolor\u001b[39m\u001b[38;5;124m\"\u001b[39m, \u001b[38;5;124m\"\u001b[39m\u001b[38;5;124medgecolor\u001b[39m\u001b[38;5;124m\"\u001b[39m, \u001b[38;5;124m\"\u001b[39m\u001b[38;5;124morientation\u001b[39m\u001b[38;5;124m\"\u001b[39m,\n\u001b[0;32m   2052\u001b[0m         \u001b[38;5;124m\"\u001b[39m\u001b[38;5;124mbbox_inches_restore\u001b[39m\u001b[38;5;124m\"\u001b[39m}\n\u001b[0;32m   2053\u001b[0m     skip \u001b[38;5;241m=\u001b[39m optional_kws \u001b[38;5;241m-\u001b[39m {\u001b[38;5;241m*\u001b[39minspect\u001b[38;5;241m.\u001b[39msignature(meth)\u001b[38;5;241m.\u001b[39mparameters}\n\u001b[1;32m-> 2054\u001b[0m     print_method \u001b[38;5;241m=\u001b[39m functools\u001b[38;5;241m.\u001b[39mwraps(meth)(\u001b[38;5;28;01mlambda\u001b[39;00m \u001b[38;5;241m*\u001b[39margs, \u001b[38;5;241m*\u001b[39m\u001b[38;5;241m*\u001b[39mkwargs: meth(\n\u001b[0;32m   2055\u001b[0m         \u001b[38;5;241m*\u001b[39margs, \u001b[38;5;241m*\u001b[39m\u001b[38;5;241m*\u001b[39m{k: v \u001b[38;5;28;01mfor\u001b[39;00m k, v \u001b[38;5;129;01min\u001b[39;00m kwargs\u001b[38;5;241m.\u001b[39mitems() \u001b[38;5;28;01mif\u001b[39;00m k \u001b[38;5;129;01mnot\u001b[39;00m \u001b[38;5;129;01min\u001b[39;00m skip}))\n\u001b[0;32m   2056\u001b[0m \u001b[38;5;28;01melse\u001b[39;00m:  \u001b[38;5;66;03m# Let third-parties do as they see fit.\u001b[39;00m\n\u001b[0;32m   2057\u001b[0m     print_method \u001b[38;5;241m=\u001b[39m meth\n",
      "File \u001b[1;32m~\\AppData\\Local\\Programs\\Python\\Python39\\lib\\site-packages\\matplotlib\\backends\\backend_agg.py:496\u001b[0m, in \u001b[0;36mFigureCanvasAgg.print_png\u001b[1;34m(self, filename_or_obj, metadata, pil_kwargs)\u001b[0m\n\u001b[0;32m    449\u001b[0m \u001b[38;5;28;01mdef\u001b[39;00m\u001b[38;5;250m \u001b[39m\u001b[38;5;21mprint_png\u001b[39m(\u001b[38;5;28mself\u001b[39m, filename_or_obj, \u001b[38;5;241m*\u001b[39m, metadata\u001b[38;5;241m=\u001b[39m\u001b[38;5;28;01mNone\u001b[39;00m, pil_kwargs\u001b[38;5;241m=\u001b[39m\u001b[38;5;28;01mNone\u001b[39;00m):\n\u001b[0;32m    450\u001b[0m \u001b[38;5;250m    \u001b[39m\u001b[38;5;124;03m\"\"\"\u001b[39;00m\n\u001b[0;32m    451\u001b[0m \u001b[38;5;124;03m    Write the figure to a PNG file.\u001b[39;00m\n\u001b[0;32m    452\u001b[0m \n\u001b[1;32m   (...)\u001b[0m\n\u001b[0;32m    494\u001b[0m \u001b[38;5;124;03m        *metadata*, including the default 'Software' key.\u001b[39;00m\n\u001b[0;32m    495\u001b[0m \u001b[38;5;124;03m    \"\"\"\u001b[39;00m\n\u001b[1;32m--> 496\u001b[0m     \u001b[38;5;28;43mself\u001b[39;49m\u001b[38;5;241;43m.\u001b[39;49m\u001b[43m_print_pil\u001b[49m\u001b[43m(\u001b[49m\u001b[43mfilename_or_obj\u001b[49m\u001b[43m,\u001b[49m\u001b[43m \u001b[49m\u001b[38;5;124;43m\"\u001b[39;49m\u001b[38;5;124;43mpng\u001b[39;49m\u001b[38;5;124;43m\"\u001b[39;49m\u001b[43m,\u001b[49m\u001b[43m \u001b[49m\u001b[43mpil_kwargs\u001b[49m\u001b[43m,\u001b[49m\u001b[43m \u001b[49m\u001b[43mmetadata\u001b[49m\u001b[43m)\u001b[49m\n",
      "File \u001b[1;32m~\\AppData\\Local\\Programs\\Python\\Python39\\lib\\site-packages\\matplotlib\\backends\\backend_agg.py:445\u001b[0m, in \u001b[0;36mFigureCanvasAgg._print_pil\u001b[1;34m(self, filename_or_obj, fmt, pil_kwargs, metadata)\u001b[0m\n\u001b[0;32m    440\u001b[0m \u001b[38;5;250m\u001b[39m\u001b[38;5;124;03m\"\"\"\u001b[39;00m\n\u001b[0;32m    441\u001b[0m \u001b[38;5;124;03mDraw the canvas, then save it using `.image.imsave` (to which\u001b[39;00m\n\u001b[0;32m    442\u001b[0m \u001b[38;5;124;03m*pil_kwargs* and *metadata* are forwarded).\u001b[39;00m\n\u001b[0;32m    443\u001b[0m \u001b[38;5;124;03m\"\"\"\u001b[39;00m\n\u001b[0;32m    444\u001b[0m FigureCanvasAgg\u001b[38;5;241m.\u001b[39mdraw(\u001b[38;5;28mself\u001b[39m)\n\u001b[1;32m--> 445\u001b[0m \u001b[43mmpl\u001b[49m\u001b[38;5;241;43m.\u001b[39;49m\u001b[43mimage\u001b[49m\u001b[38;5;241;43m.\u001b[39;49m\u001b[43mimsave\u001b[49m\u001b[43m(\u001b[49m\n\u001b[0;32m    446\u001b[0m \u001b[43m    \u001b[49m\u001b[43mfilename_or_obj\u001b[49m\u001b[43m,\u001b[49m\u001b[43m \u001b[49m\u001b[38;5;28;43mself\u001b[39;49m\u001b[38;5;241;43m.\u001b[39;49m\u001b[43mbuffer_rgba\u001b[49m\u001b[43m(\u001b[49m\u001b[43m)\u001b[49m\u001b[43m,\u001b[49m\u001b[43m \u001b[49m\u001b[38;5;28;43mformat\u001b[39;49m\u001b[38;5;241;43m=\u001b[39;49m\u001b[43mfmt\u001b[49m\u001b[43m,\u001b[49m\u001b[43m \u001b[49m\u001b[43morigin\u001b[49m\u001b[38;5;241;43m=\u001b[39;49m\u001b[38;5;124;43m\"\u001b[39;49m\u001b[38;5;124;43mupper\u001b[39;49m\u001b[38;5;124;43m\"\u001b[39;49m\u001b[43m,\u001b[49m\n\u001b[0;32m    447\u001b[0m \u001b[43m    \u001b[49m\u001b[43mdpi\u001b[49m\u001b[38;5;241;43m=\u001b[39;49m\u001b[38;5;28;43mself\u001b[39;49m\u001b[38;5;241;43m.\u001b[39;49m\u001b[43mfigure\u001b[49m\u001b[38;5;241;43m.\u001b[39;49m\u001b[43mdpi\u001b[49m\u001b[43m,\u001b[49m\u001b[43m \u001b[49m\u001b[43mmetadata\u001b[49m\u001b[38;5;241;43m=\u001b[39;49m\u001b[43mmetadata\u001b[49m\u001b[43m,\u001b[49m\u001b[43m \u001b[49m\u001b[43mpil_kwargs\u001b[49m\u001b[38;5;241;43m=\u001b[39;49m\u001b[43mpil_kwargs\u001b[49m\u001b[43m)\u001b[49m\n",
      "File \u001b[1;32m~\\AppData\\Local\\Programs\\Python\\Python39\\lib\\site-packages\\matplotlib\\image.py:1676\u001b[0m, in \u001b[0;36mimsave\u001b[1;34m(fname, arr, vmin, vmax, cmap, format, origin, dpi, metadata, pil_kwargs)\u001b[0m\n\u001b[0;32m   1674\u001b[0m pil_kwargs\u001b[38;5;241m.\u001b[39msetdefault(\u001b[38;5;124m\"\u001b[39m\u001b[38;5;124mformat\u001b[39m\u001b[38;5;124m\"\u001b[39m, \u001b[38;5;28mformat\u001b[39m)\n\u001b[0;32m   1675\u001b[0m pil_kwargs\u001b[38;5;241m.\u001b[39msetdefault(\u001b[38;5;124m\"\u001b[39m\u001b[38;5;124mdpi\u001b[39m\u001b[38;5;124m\"\u001b[39m, (dpi, dpi))\n\u001b[1;32m-> 1676\u001b[0m image\u001b[38;5;241m.\u001b[39msave(fname, \u001b[38;5;241m*\u001b[39m\u001b[38;5;241m*\u001b[39mpil_kwargs)\n",
      "File \u001b[1;32m~\\AppData\\Local\\Programs\\Python\\Python39\\lib\\site-packages\\PIL\\Image.py:2436\u001b[0m, in \u001b[0;36mImage.save\u001b[1;34m(self, fp, format, **params)\u001b[0m\n\u001b[0;32m   2434\u001b[0m         fp \u001b[38;5;241m=\u001b[39m builtins\u001b[38;5;241m.\u001b[39mopen(filename, \u001b[38;5;124m\"\u001b[39m\u001b[38;5;124mr+b\u001b[39m\u001b[38;5;124m\"\u001b[39m)\n\u001b[0;32m   2435\u001b[0m     \u001b[38;5;28;01melse\u001b[39;00m:\n\u001b[1;32m-> 2436\u001b[0m         fp \u001b[38;5;241m=\u001b[39m \u001b[43mbuiltins\u001b[49m\u001b[38;5;241;43m.\u001b[39;49m\u001b[43mopen\u001b[49m\u001b[43m(\u001b[49m\u001b[43mfilename\u001b[49m\u001b[43m,\u001b[49m\u001b[43m \u001b[49m\u001b[38;5;124;43m\"\u001b[39;49m\u001b[38;5;124;43mw+b\u001b[39;49m\u001b[38;5;124;43m\"\u001b[39;49m\u001b[43m)\u001b[49m\n\u001b[0;32m   2438\u001b[0m \u001b[38;5;28;01mtry\u001b[39;00m:\n\u001b[0;32m   2439\u001b[0m     save_handler(\u001b[38;5;28mself\u001b[39m, fp, filename)\n",
      "\u001b[1;31mFileNotFoundError\u001b[0m: [Errno 2] No such file or directory: 'output/fedvg.png'"
     ]
    },
    {
     "data": {
      "image/png": "[encoded data removed]",
      "text/plain": [
       "<Figure size 650x420 with 1 Axes>"
      ]
     },
     "metadata": {},
     "output_type": "display_data"
    }
   ],
   "source": [
    "                                                        # VISUALIZE\n",
    "# NOTE: Class indexes now start from 1 so, previous class 0 = now class 1 and so on\n",
    "# FIG 1: Raw similarity plot\n",
    "\n",
    "import pandas as pd\n",
    "import numpy as np\n",
    "import matplotlib.pyplot as plt\n",
    "import seaborn as sns\n",
    "\n",
    "# Generate sample similarity data for four classes (each with 20 values in the range 0 to 1)\n",
    "class1_sim = class0_sims\n",
    "class2_sim = class1_sims\n",
    "class3_sim = class2_sims\n",
    "class4_sim = class3_sims\n",
    "\n",
    "# Set figure size\n",
    "plt.figure(figsize=(6.5, 4.2))  # Set the size of the figure (width, height)\n",
    "\n",
    "# Sample DataFrame with four columns\n",
    "data=pd.DataFrame({'Class 1':class1_sim,'Class 2':class2_sim,'Class 3':class3_sim,'Class 4':class4_sim})\n",
    "df = pd.DataFrame(data)\n",
    "\n",
    "# Plot the probability distributions\n",
    "#plt.figure(figsize=(10, 6))\n",
    "\n",
    "# Define colors and line styles for each column\n",
    "colors = ['#1f77b4', '#ff7f0e', '#2ca02c', '#d62728']\n",
    "linestyles = ['-.', '--', '-', '-']\n",
    "\n",
    "# Plot the probability distributions with unique colors and line styles\n",
    "for column, color, linestyle in zip(df.columns, colors, linestyles):\n",
    "    sns.kdeplot(df[column], label=column, color=color, linestyle=linestyle)\n",
    "\n",
    "#plt.title('Probability Distributions of Four Columns')\n",
    "plt.xlabel('Similarity',fontsize=12)\n",
    "plt.ylabel('Density',fontsize=12)\n",
    "plt.yticks(fontsize=12)  # Set y-tick labels font size\n",
    "plt.legend(loc='upper right',fontsize=12)  # Increase legend font size\n",
    "\n",
    "# Optimize layout\n",
    "plt.tight_layout()\n",
    "# Save the plot to a file\n",
    "plt.savefig('output/fedvg.png', dpi=300, bbox_inches='tight')  # Save as a PNG file with high resolution\n",
    "\n",
    "# Show the plot\n",
    "plt.show()\n"
   ]
  },
  {
   "cell_type": "code",
   "execution_count": 64,
   "id": "c71af78e-28e9-4564-9609-3039455bb875",
   "metadata": {},
   "outputs": [
    {
     "data": {
      "image/png": "[encoded data removed]",
      "text/plain": [
       "<Figure size 750x500 with 1 Axes>"
      ]
     },
     "metadata": {},
     "output_type": "display_data"
    }
   ],
   "source": [
    "# FIG 2: DIFFERENCES IN COSINE SIMILARITY\n",
    "\n",
    "# For each class, we have 20 similarity values — one per image — showing how similar fake and real versions are.These values are very close across classes\n",
    "# So, to highlight subtle differences, compute and plot the difference between each pair of classes, value by value.\n",
    "# This gives you 20 values showing how much the similarity differs for each image between class 0 and class 1.\n",
    "# It's a magnified view of the gap between classes.\n",
    "# If the differences are tiny (e.g., 0.003), the plot helps make that visible and comparable.\n",
    "\n",
    "import numpy as np\n",
    "import matplotlib.pyplot as plt\n",
    "import seaborn as sns\n",
    "import pandas as pd\n",
    "\n",
    "# Differences between class distributions (pairwise)\n",
    "diff_12 = np.array(class2_sim) - np.array(class1_sim)\n",
    "diff_13 = np.array(class3_sim) - np.array(class1_sim)\n",
    "diff_14 = np.array(class4_sim) - np.array(class1_sim)\n",
    "diff_23 = np.array(class3_sim) - np.array(class2_sim)\n",
    "diff_24 = np.array(class4_sim) - np.array(class2_sim)\n",
    "diff_34 = np.array(class4_sim) - np.array(class3_sim)\n",
    "\n",
    "# Create a DataFrame\n",
    "diff_df = pd.DataFrame({\n",
    "    'Class 2 - Class 1': diff_12,\n",
    "    'Class 3 - Class 1': diff_13,\n",
    "    'Class 4 - Class 1': diff_14,\n",
    "    'Class 3 - Class 2': diff_23,\n",
    "    'Class 4 - Class 2': diff_24,\n",
    "    'Class 4 - Class 3': diff_34,\n",
    "})\n",
    "\n",
    "# Plot\n",
    "plt.figure(figsize=(7.5, 5))\n",
    "\n",
    "colors = sns.color_palette(\"tab10\", n_colors=6)\n",
    "\n",
    "for column, color in zip(diff_df.columns, colors):\n",
    "    sns.kdeplot(diff_df[column], label=column, color=color, linestyle='-')\n",
    "\n",
    "plt.axvline(0, color='black', linestyle='--', linewidth=1)  # reference line at 0\n",
    "plt.xlabel('Difference in Similarity', fontsize=12)\n",
    "plt.ylabel('Density', fontsize=12)\n",
    "plt.legend(fontsize=10)\n",
    "plt.title(\"Pairwise Differences in Cosine Similarity\", fontsize=13)\n",
    "plt.tight_layout()\n",
    "plt.show()"
   ]
  },
  {
   "cell_type": "code",
   "execution_count": 65,
   "id": "362bf182-7927-4ce2-bf5a-97299d426bc4",
   "metadata": {},
   "outputs": [],
   "source": [
    "def calculate_interclass_similarity(first, second):\n",
    "    similarities = []\n",
    "\n",
    "    first_images = []\n",
    "    second_images = []\n",
    "    if first == 'class1':\n",
    "        first_images = class0_original_images.copy()\n",
    "    elif first == 'class2':\n",
    "        first_images = class1_original_images.copy()\n",
    "    elif first == 'class3':\n",
    "        first_images = class2_original_images.copy()\n",
    "    elif first == 'class4':\n",
    "        first_images = class3_original_images.copy()\n",
    "\n",
    "    if second == 'class1':\n",
    "        second_images = class0_original_images.copy()\n",
    "    elif second == 'class2':\n",
    "        second_images = class1_original_images.copy()\n",
    "    elif second == 'class3':\n",
    "        second_images = class2_original_images.copy()\n",
    "    elif second == 'class4':\n",
    "        second_images = class3_original_images.copy()\n",
    "    \n",
    "    for i in range(0, 20):\n",
    "        first_image = first_images[i].unsqueeze(dim=0).to(device)\n",
    "        first_image = first_image.repeat(1, 3, 1, 1)\n",
    "        \n",
    "        second_image = second_images[i].unsqueeze(dim=0).to(device)\n",
    "        second_image = second_image.repeat(1, 3, 1, 1)\n",
    "        \n",
    "        features_first = get_feature(first_image)\n",
    "        features_second = get_feature(second_image)\n",
    "\n",
    "        cosine_similarity = 1 - cosine(features_first, features_second)\n",
    "        similarities.append(cosine_similarity)\n",
    "\n",
    "    return similarities"
   ]
  },
  {
   "cell_type": "code",
   "execution_count": 66,
   "id": "5954dfe3-cb08-4551-a5f9-d2082ac3d604",
   "metadata": {},
   "outputs": [],
   "source": [
    "class1class2 = calculate_interclass_similarity('class1', 'class2')"
   ]
  },
  {
   "cell_type": "code",
   "execution_count": 67,
   "id": "cd5ab50d-9d9d-443b-bea5-2d6e302e2bf4",
   "metadata": {},
   "outputs": [
    {
     "data": {
      "text/plain": [
       "[np.float32(0.92668736),\n",
       " np.float32(0.9234537),\n",
       " np.float32(0.8914366),\n",
       " np.float32(0.85996324),\n",
       " np.float32(0.9045878),\n",
       " np.float32(0.8661933),\n",
       " np.float32(0.8529511),\n",
       " np.float32(0.8320824),\n",
       " np.float32(0.81313324),\n",
       " np.float32(0.9028811),\n",
       " np.float32(0.9157124),\n",
       " np.float32(0.83247995),\n",
       " np.float32(0.9164997),\n",
       " np.float32(0.84919524),\n",
       " np.float32(0.90398437),\n",
       " np.float32(0.8242637),\n",
       " np.float32(0.78115076),\n",
       " np.float32(0.80533254),\n",
       " np.float32(0.92938054),\n",
       " np.float32(0.89034694)]"
      ]
     },
     "execution_count": 67,
     "metadata": {},
     "output_type": "execute_result"
    }
   ],
   "source": [
    "class1class2"
   ]
  },
  {
   "cell_type": "code",
   "execution_count": 68,
   "id": "29441f40-36a7-4854-98be-5d128bae49cd",
   "metadata": {},
   "outputs": [
    {
     "ename": "FileNotFoundError",
     "evalue": "[Errno 2] No such file or directory: 'output/VoiceDivergenceD3.png'",
     "output_type": "error",
     "traceback": [
      "\u001b[1;31m---------------------------------------------------------------------------\u001b[0m",
      "\u001b[1;31mFileNotFoundError\u001b[0m                         Traceback (most recent call last)",
      "Cell \u001b[1;32mIn[68], line 44\u001b[0m\n\u001b[0;32m     42\u001b[0m plt\u001b[38;5;241m.\u001b[39mtight_layout()\n\u001b[0;32m     43\u001b[0m \u001b[38;5;66;03m# Save the plot to a file\u001b[39;00m\n\u001b[1;32m---> 44\u001b[0m \u001b[43mplt\u001b[49m\u001b[38;5;241;43m.\u001b[39;49m\u001b[43msavefig\u001b[49m\u001b[43m(\u001b[49m\u001b[38;5;124;43m'\u001b[39;49m\u001b[38;5;124;43moutput/VoiceDivergenceD3.png\u001b[39;49m\u001b[38;5;124;43m'\u001b[39;49m\u001b[43m,\u001b[49m\u001b[43m \u001b[49m\u001b[43mdpi\u001b[49m\u001b[38;5;241;43m=\u001b[39;49m\u001b[38;5;241;43m300\u001b[39;49m\u001b[43m,\u001b[49m\u001b[43m \u001b[49m\u001b[43mbbox_inches\u001b[49m\u001b[38;5;241;43m=\u001b[39;49m\u001b[38;5;124;43m'\u001b[39;49m\u001b[38;5;124;43mtight\u001b[39;49m\u001b[38;5;124;43m'\u001b[39;49m\u001b[43m)\u001b[49m  \u001b[38;5;66;03m# Save as a PNG file with high resolution\u001b[39;00m\n\u001b[0;32m     46\u001b[0m \u001b[38;5;66;03m# Show the plot\u001b[39;00m\n\u001b[0;32m     47\u001b[0m plt\u001b[38;5;241m.\u001b[39mshow()\n",
      "File \u001b[1;32m~\\AppData\\Local\\Programs\\Python\\Python39\\lib\\site-packages\\matplotlib\\pyplot.py:1228\u001b[0m, in \u001b[0;36msavefig\u001b[1;34m(*args, **kwargs)\u001b[0m\n\u001b[0;32m   1225\u001b[0m fig \u001b[38;5;241m=\u001b[39m gcf()\n\u001b[0;32m   1226\u001b[0m \u001b[38;5;66;03m# savefig default implementation has no return, so mypy is unhappy\u001b[39;00m\n\u001b[0;32m   1227\u001b[0m \u001b[38;5;66;03m# presumably this is here because subclasses can return?\u001b[39;00m\n\u001b[1;32m-> 1228\u001b[0m res \u001b[38;5;241m=\u001b[39m fig\u001b[38;5;241m.\u001b[39msavefig(\u001b[38;5;241m*\u001b[39margs, \u001b[38;5;241m*\u001b[39m\u001b[38;5;241m*\u001b[39mkwargs)  \u001b[38;5;66;03m# type: ignore[func-returns-value]\u001b[39;00m\n\u001b[0;32m   1229\u001b[0m fig\u001b[38;5;241m.\u001b[39mcanvas\u001b[38;5;241m.\u001b[39mdraw_idle()  \u001b[38;5;66;03m# Need this if 'transparent=True', to reset colors.\u001b[39;00m\n\u001b[0;32m   1230\u001b[0m \u001b[38;5;28;01mreturn\u001b[39;00m res\n",
      "File \u001b[1;32m~\\AppData\\Local\\Programs\\Python\\Python39\\lib\\site-packages\\matplotlib\\figure.py:3395\u001b[0m, in \u001b[0;36mFigure.savefig\u001b[1;34m(self, fname, transparent, **kwargs)\u001b[0m\n\u001b[0;32m   3393\u001b[0m     \u001b[38;5;28;01mfor\u001b[39;00m ax \u001b[38;5;129;01min\u001b[39;00m \u001b[38;5;28mself\u001b[39m\u001b[38;5;241m.\u001b[39maxes:\n\u001b[0;32m   3394\u001b[0m         _recursively_make_axes_transparent(stack, ax)\n\u001b[1;32m-> 3395\u001b[0m \u001b[38;5;28mself\u001b[39m\u001b[38;5;241m.\u001b[39mcanvas\u001b[38;5;241m.\u001b[39mprint_figure(fname, \u001b[38;5;241m*\u001b[39m\u001b[38;5;241m*\u001b[39mkwargs)\n",
      "File \u001b[1;32m~\\AppData\\Local\\Programs\\Python\\Python39\\lib\\site-packages\\matplotlib\\backend_bases.py:2204\u001b[0m, in \u001b[0;36mFigureCanvasBase.print_figure\u001b[1;34m(self, filename, dpi, facecolor, edgecolor, orientation, format, bbox_inches, pad_inches, bbox_extra_artists, backend, **kwargs)\u001b[0m\n\u001b[0;32m   2200\u001b[0m \u001b[38;5;28;01mtry\u001b[39;00m:\n\u001b[0;32m   2201\u001b[0m     \u001b[38;5;66;03m# _get_renderer may change the figure dpi (as vector formats\u001b[39;00m\n\u001b[0;32m   2202\u001b[0m     \u001b[38;5;66;03m# force the figure dpi to 72), so we need to set it again here.\u001b[39;00m\n\u001b[0;32m   2203\u001b[0m     \u001b[38;5;28;01mwith\u001b[39;00m cbook\u001b[38;5;241m.\u001b[39m_setattr_cm(\u001b[38;5;28mself\u001b[39m\u001b[38;5;241m.\u001b[39mfigure, dpi\u001b[38;5;241m=\u001b[39mdpi):\n\u001b[1;32m-> 2204\u001b[0m         result \u001b[38;5;241m=\u001b[39m print_method(\n\u001b[0;32m   2205\u001b[0m             filename,\n\u001b[0;32m   2206\u001b[0m             facecolor\u001b[38;5;241m=\u001b[39mfacecolor,\n\u001b[0;32m   2207\u001b[0m             edgecolor\u001b[38;5;241m=\u001b[39medgecolor,\n\u001b[0;32m   2208\u001b[0m             orientation\u001b[38;5;241m=\u001b[39morientation,\n\u001b[0;32m   2209\u001b[0m             bbox_inches_restore\u001b[38;5;241m=\u001b[39m_bbox_inches_restore,\n\u001b[0;32m   2210\u001b[0m             \u001b[38;5;241m*\u001b[39m\u001b[38;5;241m*\u001b[39mkwargs)\n\u001b[0;32m   2211\u001b[0m \u001b[38;5;28;01mfinally\u001b[39;00m:\n\u001b[0;32m   2212\u001b[0m     \u001b[38;5;28;01mif\u001b[39;00m bbox_inches \u001b[38;5;129;01mand\u001b[39;00m restore_bbox:\n",
      "File \u001b[1;32m~\\AppData\\Local\\Programs\\Python\\Python39\\lib\\site-packages\\matplotlib\\backend_bases.py:2054\u001b[0m, in \u001b[0;36mFigureCanvasBase._switch_canvas_and_return_print_method.<locals>.<lambda>\u001b[1;34m(*args, **kwargs)\u001b[0m\n\u001b[0;32m   2050\u001b[0m     optional_kws \u001b[38;5;241m=\u001b[39m {  \u001b[38;5;66;03m# Passed by print_figure for other renderers.\u001b[39;00m\n\u001b[0;32m   2051\u001b[0m         \u001b[38;5;124m\"\u001b[39m\u001b[38;5;124mdpi\u001b[39m\u001b[38;5;124m\"\u001b[39m, \u001b[38;5;124m\"\u001b[39m\u001b[38;5;124mfacecolor\u001b[39m\u001b[38;5;124m\"\u001b[39m, \u001b[38;5;124m\"\u001b[39m\u001b[38;5;124medgecolor\u001b[39m\u001b[38;5;124m\"\u001b[39m, \u001b[38;5;124m\"\u001b[39m\u001b[38;5;124morientation\u001b[39m\u001b[38;5;124m\"\u001b[39m,\n\u001b[0;32m   2052\u001b[0m         \u001b[38;5;124m\"\u001b[39m\u001b[38;5;124mbbox_inches_restore\u001b[39m\u001b[38;5;124m\"\u001b[39m}\n\u001b[0;32m   2053\u001b[0m     skip \u001b[38;5;241m=\u001b[39m optional_kws \u001b[38;5;241m-\u001b[39m {\u001b[38;5;241m*\u001b[39minspect\u001b[38;5;241m.\u001b[39msignature(meth)\u001b[38;5;241m.\u001b[39mparameters}\n\u001b[1;32m-> 2054\u001b[0m     print_method \u001b[38;5;241m=\u001b[39m functools\u001b[38;5;241m.\u001b[39mwraps(meth)(\u001b[38;5;28;01mlambda\u001b[39;00m \u001b[38;5;241m*\u001b[39margs, \u001b[38;5;241m*\u001b[39m\u001b[38;5;241m*\u001b[39mkwargs: meth(\n\u001b[0;32m   2055\u001b[0m         \u001b[38;5;241m*\u001b[39margs, \u001b[38;5;241m*\u001b[39m\u001b[38;5;241m*\u001b[39m{k: v \u001b[38;5;28;01mfor\u001b[39;00m k, v \u001b[38;5;129;01min\u001b[39;00m kwargs\u001b[38;5;241m.\u001b[39mitems() \u001b[38;5;28;01mif\u001b[39;00m k \u001b[38;5;129;01mnot\u001b[39;00m \u001b[38;5;129;01min\u001b[39;00m skip}))\n\u001b[0;32m   2056\u001b[0m \u001b[38;5;28;01melse\u001b[39;00m:  \u001b[38;5;66;03m# Let third-parties do as they see fit.\u001b[39;00m\n\u001b[0;32m   2057\u001b[0m     print_method \u001b[38;5;241m=\u001b[39m meth\n",
      "File \u001b[1;32m~\\AppData\\Local\\Programs\\Python\\Python39\\lib\\site-packages\\matplotlib\\backends\\backend_agg.py:496\u001b[0m, in \u001b[0;36mFigureCanvasAgg.print_png\u001b[1;34m(self, filename_or_obj, metadata, pil_kwargs)\u001b[0m\n\u001b[0;32m    449\u001b[0m \u001b[38;5;28;01mdef\u001b[39;00m\u001b[38;5;250m \u001b[39m\u001b[38;5;21mprint_png\u001b[39m(\u001b[38;5;28mself\u001b[39m, filename_or_obj, \u001b[38;5;241m*\u001b[39m, metadata\u001b[38;5;241m=\u001b[39m\u001b[38;5;28;01mNone\u001b[39;00m, pil_kwargs\u001b[38;5;241m=\u001b[39m\u001b[38;5;28;01mNone\u001b[39;00m):\n\u001b[0;32m    450\u001b[0m \u001b[38;5;250m    \u001b[39m\u001b[38;5;124;03m\"\"\"\u001b[39;00m\n\u001b[0;32m    451\u001b[0m \u001b[38;5;124;03m    Write the figure to a PNG file.\u001b[39;00m\n\u001b[0;32m    452\u001b[0m \n\u001b[1;32m   (...)\u001b[0m\n\u001b[0;32m    494\u001b[0m \u001b[38;5;124;03m        *metadata*, including the default 'Software' key.\u001b[39;00m\n\u001b[0;32m    495\u001b[0m \u001b[38;5;124;03m    \"\"\"\u001b[39;00m\n\u001b[1;32m--> 496\u001b[0m     \u001b[38;5;28;43mself\u001b[39;49m\u001b[38;5;241;43m.\u001b[39;49m\u001b[43m_print_pil\u001b[49m\u001b[43m(\u001b[49m\u001b[43mfilename_or_obj\u001b[49m\u001b[43m,\u001b[49m\u001b[43m \u001b[49m\u001b[38;5;124;43m\"\u001b[39;49m\u001b[38;5;124;43mpng\u001b[39;49m\u001b[38;5;124;43m\"\u001b[39;49m\u001b[43m,\u001b[49m\u001b[43m \u001b[49m\u001b[43mpil_kwargs\u001b[49m\u001b[43m,\u001b[49m\u001b[43m \u001b[49m\u001b[43mmetadata\u001b[49m\u001b[43m)\u001b[49m\n",
      "File \u001b[1;32m~\\AppData\\Local\\Programs\\Python\\Python39\\lib\\site-packages\\matplotlib\\backends\\backend_agg.py:445\u001b[0m, in \u001b[0;36mFigureCanvasAgg._print_pil\u001b[1;34m(self, filename_or_obj, fmt, pil_kwargs, metadata)\u001b[0m\n\u001b[0;32m    440\u001b[0m \u001b[38;5;250m\u001b[39m\u001b[38;5;124;03m\"\"\"\u001b[39;00m\n\u001b[0;32m    441\u001b[0m \u001b[38;5;124;03mDraw the canvas, then save it using `.image.imsave` (to which\u001b[39;00m\n\u001b[0;32m    442\u001b[0m \u001b[38;5;124;03m*pil_kwargs* and *metadata* are forwarded).\u001b[39;00m\n\u001b[0;32m    443\u001b[0m \u001b[38;5;124;03m\"\"\"\u001b[39;00m\n\u001b[0;32m    444\u001b[0m FigureCanvasAgg\u001b[38;5;241m.\u001b[39mdraw(\u001b[38;5;28mself\u001b[39m)\n\u001b[1;32m--> 445\u001b[0m \u001b[43mmpl\u001b[49m\u001b[38;5;241;43m.\u001b[39;49m\u001b[43mimage\u001b[49m\u001b[38;5;241;43m.\u001b[39;49m\u001b[43mimsave\u001b[49m\u001b[43m(\u001b[49m\n\u001b[0;32m    446\u001b[0m \u001b[43m    \u001b[49m\u001b[43mfilename_or_obj\u001b[49m\u001b[43m,\u001b[49m\u001b[43m \u001b[49m\u001b[38;5;28;43mself\u001b[39;49m\u001b[38;5;241;43m.\u001b[39;49m\u001b[43mbuffer_rgba\u001b[49m\u001b[43m(\u001b[49m\u001b[43m)\u001b[49m\u001b[43m,\u001b[49m\u001b[43m \u001b[49m\u001b[38;5;28;43mformat\u001b[39;49m\u001b[38;5;241;43m=\u001b[39;49m\u001b[43mfmt\u001b[49m\u001b[43m,\u001b[49m\u001b[43m \u001b[49m\u001b[43morigin\u001b[49m\u001b[38;5;241;43m=\u001b[39;49m\u001b[38;5;124;43m\"\u001b[39;49m\u001b[38;5;124;43mupper\u001b[39;49m\u001b[38;5;124;43m\"\u001b[39;49m\u001b[43m,\u001b[49m\n\u001b[0;32m    447\u001b[0m \u001b[43m    \u001b[49m\u001b[43mdpi\u001b[49m\u001b[38;5;241;43m=\u001b[39;49m\u001b[38;5;28;43mself\u001b[39;49m\u001b[38;5;241;43m.\u001b[39;49m\u001b[43mfigure\u001b[49m\u001b[38;5;241;43m.\u001b[39;49m\u001b[43mdpi\u001b[49m\u001b[43m,\u001b[49m\u001b[43m \u001b[49m\u001b[43mmetadata\u001b[49m\u001b[38;5;241;43m=\u001b[39;49m\u001b[43mmetadata\u001b[49m\u001b[43m,\u001b[49m\u001b[43m \u001b[49m\u001b[43mpil_kwargs\u001b[49m\u001b[38;5;241;43m=\u001b[39;49m\u001b[43mpil_kwargs\u001b[49m\u001b[43m)\u001b[49m\n",
      "File \u001b[1;32m~\\AppData\\Local\\Programs\\Python\\Python39\\lib\\site-packages\\matplotlib\\image.py:1676\u001b[0m, in \u001b[0;36mimsave\u001b[1;34m(fname, arr, vmin, vmax, cmap, format, origin, dpi, metadata, pil_kwargs)\u001b[0m\n\u001b[0;32m   1674\u001b[0m pil_kwargs\u001b[38;5;241m.\u001b[39msetdefault(\u001b[38;5;124m\"\u001b[39m\u001b[38;5;124mformat\u001b[39m\u001b[38;5;124m\"\u001b[39m, \u001b[38;5;28mformat\u001b[39m)\n\u001b[0;32m   1675\u001b[0m pil_kwargs\u001b[38;5;241m.\u001b[39msetdefault(\u001b[38;5;124m\"\u001b[39m\u001b[38;5;124mdpi\u001b[39m\u001b[38;5;124m\"\u001b[39m, (dpi, dpi))\n\u001b[1;32m-> 1676\u001b[0m image\u001b[38;5;241m.\u001b[39msave(fname, \u001b[38;5;241m*\u001b[39m\u001b[38;5;241m*\u001b[39mpil_kwargs)\n",
      "File \u001b[1;32m~\\AppData\\Local\\Programs\\Python\\Python39\\lib\\site-packages\\PIL\\Image.py:2436\u001b[0m, in \u001b[0;36mImage.save\u001b[1;34m(self, fp, format, **params)\u001b[0m\n\u001b[0;32m   2434\u001b[0m         fp \u001b[38;5;241m=\u001b[39m builtins\u001b[38;5;241m.\u001b[39mopen(filename, \u001b[38;5;124m\"\u001b[39m\u001b[38;5;124mr+b\u001b[39m\u001b[38;5;124m\"\u001b[39m)\n\u001b[0;32m   2435\u001b[0m     \u001b[38;5;28;01melse\u001b[39;00m:\n\u001b[1;32m-> 2436\u001b[0m         fp \u001b[38;5;241m=\u001b[39m \u001b[43mbuiltins\u001b[49m\u001b[38;5;241;43m.\u001b[39;49m\u001b[43mopen\u001b[49m\u001b[43m(\u001b[49m\u001b[43mfilename\u001b[49m\u001b[43m,\u001b[49m\u001b[43m \u001b[49m\u001b[38;5;124;43m\"\u001b[39;49m\u001b[38;5;124;43mw+b\u001b[39;49m\u001b[38;5;124;43m\"\u001b[39;49m\u001b[43m)\u001b[49m\n\u001b[0;32m   2438\u001b[0m \u001b[38;5;28;01mtry\u001b[39;00m:\n\u001b[0;32m   2439\u001b[0m     save_handler(\u001b[38;5;28mself\u001b[39m, fp, filename)\n",
      "\u001b[1;31mFileNotFoundError\u001b[0m: [Errno 2] No such file or directory: 'output/VoiceDivergenceD3.png'"
     ]
    },
    {
     "data": {
      "image/png": "[encoded data removed]",
      "text/plain": [
       "<Figure size 650x420 with 1 Axes>"
      ]
     },
     "metadata": {},
     "output_type": "display_data"
    }
   ],
   "source": [
    "                                                # FIG: 3 -> INTERCLASS SIMILARITIES\n",
    "\n",
    "import pandas as pd\n",
    "import numpy as np\n",
    "import matplotlib.pyplot as plt\n",
    "import seaborn as sns\n",
    "\n",
    "# Set figure size\n",
    "plt.figure(figsize=(6.5, 4.2))  # Set the size of the figure (width, height)\n",
    "\n",
    "# Generate sample similarity data for four classes (each with 20 values in the range 0 to 1)\n",
    "np.random.seed(42)  # For reproducibility\n",
    "class1class2 = calculate_interclass_similarity('class1', 'class2')\n",
    "class1class3 = calculate_interclass_similarity('class1', 'class3')\n",
    "class1class4 = calculate_interclass_similarity('class1', 'class4')\n",
    "class2class3 = calculate_interclass_similarity('class2', 'class3')\n",
    "class2class4 = calculate_interclass_similarity('class2', 'class4')\n",
    "class3class4 = calculate_interclass_similarity('class3', 'class4')\n",
    "\n",
    "# Sample DataFrame with four columns\n",
    "data=pd.DataFrame({'Class1 vs Class2':class1class2,'Class1 vs Class3':class1class3,'Class1 vs Class4':class1class4,'Class2 vs Class3':class2class3,'Class2 vs Class4':class2class4,'Class3 vs Class4':class3class4})\n",
    "df = pd.DataFrame(data)\n",
    "\n",
    "# Plot the probability distributions\n",
    "#plt.figure(figsize=(10, 6))\n",
    "\n",
    "# Define colors and line styles for each column\n",
    "colors = ['#1f77b4', '#ff7f0e', '#2ca02c', '#d62728', '#9467bd', '#8c564b']\n",
    "linestyles = ['-.', '--', '-', '-', '-.', '--']\n",
    "\n",
    "# Plot the probability distributions with unique colors and line styles\n",
    "for column, color, linestyle in zip(df.columns, colors, linestyles):\n",
    "    sns.kdeplot(df[column], label=column, color=color, linestyle=linestyle)\n",
    "\n",
    "#plt.title('Probability Distributions of Four Columns')\n",
    "plt.xlabel('Similarity',fontsize=12)\n",
    "plt.ylabel('Density',fontsize=12)\n",
    "plt.yticks(fontsize=12)  # Set y-tick labels font size\n",
    "plt.legend(loc='upper right',fontsize=12)  # Increase legend font size\n",
    "\n",
    "# Optimize layout\n",
    "plt.tight_layout()\n",
    "# Save the plot to a file\n",
    "plt.savefig('output/VoiceDivergenceD3.png', dpi=300, bbox_inches='tight')  # Save as a PNG file with high resolution\n",
    "\n",
    "# Show the plot\n",
    "plt.show()"
   ]
  },
  {
   "cell_type": "code",
   "execution_count": null,
   "id": "19754eee-5c1e-47e6-bbaa-b2cef05a1641",
   "metadata": {},
   "outputs": [],
   "source": []
  }
 ],
 "metadata": {
  "kernelspec": {
   "display_name": "Python 3 (ipykernel)",
   "language": "python",
   "name": "python3"
  },
  "language_info": {
   "codemirror_mode": {
    "name": "ipython",
    "version": 3
   },
   "file_extension": ".py",
   "mimetype": "text/x-python",
   "name": "python",
   "nbconvert_exporter": "python",
   "pygments_lexer": "ipython3",
   "version": "3.9.7"
  }
 },
 "nbformat": 4,
 "nbformat_minor": 5
}
