{
 "cells": [
  {
   "cell_type": "code",
   "execution_count": 1,
   "id": "646b38c2-386a-4f83-a983-ea764ad8267f",
   "metadata": {},
   "outputs": [],
   "source": [
    "# Attempting to recover training data using model's parameters and a DCGAN that was trained on similar data\n",
    "# Author: Suraj Neupane\n",
    "# Written from scratch as a part of a Research Project 2025, Concordia University of Edmonton.\n",
    "import numpy as np\n",
    "\n",
    "import torch\n",
    "from torch import nn\n",
    "from torch.nn import functional\n",
    "\n",
    "from torch.utils import data\n",
    "from torch.utils.data import DataLoader\n",
    "\n",
    "import torchvision\n",
    "from torchvision import datasets\n",
    "from torchvision import transforms\n",
    "\n",
    "import pickle\n",
    "\n",
    "import matplotlib.pyplot as plt\n",
    "%matplotlib inline"
   ]
  },
  {
   "cell_type": "code",
   "execution_count": 2,
   "id": "8b80ddb2-ed75-4870-85b4-9300fce0df7e",
   "metadata": {},
   "outputs": [
    {
     "data": {
      "text/plain": [
       "'2.5.1+cu118'"
      ]
     },
     "execution_count": 2,
     "metadata": {},
     "output_type": "execute_result"
    }
   ],
   "source": [
    "torch.__version__"
   ]
  },
  {
   "cell_type": "code",
   "execution_count": 3,
   "id": "d6950585-eb31-4f61-bd60-5bf8716fcdef",
   "metadata": {},
   "outputs": [],
   "source": [
    "device = 'cuda' if torch.cuda.is_available() else 'cpu'"
   ]
  },
  {
   "cell_type": "code",
   "execution_count": 4,
   "id": "36c47e07-6b7d-4123-a59d-5d465f9ef280",
   "metadata": {},
   "outputs": [
    {
     "data": {
      "text/plain": [
       "'cuda'"
      ]
     },
     "execution_count": 4,
     "metadata": {},
     "output_type": "execute_result"
    }
   ],
   "source": [
    "device"
   ]
  },
  {
   "cell_type": "code",
   "execution_count": 5,
   "id": "b852ca55-f33e-469f-b7b9-e00d21124927",
   "metadata": {},
   "outputs": [],
   "source": [
    "# DCGAN Implementation Class\n",
    "# Discriminator\n",
    "class Discriminator(nn.Module):\n",
    "    def __init__(self, img_channels, features_d):\n",
    "        super().__init__()\n",
    "        self.disc = nn.Sequential(\n",
    "            # Input shape: img_channels x 64 x 64\n",
    "            nn.Conv2d(\n",
    "              in_channels=img_channels, out_channels=features_d, kernel_size=4, stride=2, padding=1\n",
    "            ), # Output shape: features_d x 32 x 32\n",
    "            nn.LeakyReLU(0.2),\n",
    "            self._block(features_d, features_d*2, 4, 2, 1), # Output shape: features_d*2 x 16 x 16\n",
    "            self._block(features_d*2, features_d*4, 4, 2, 1), # Output shape: features_d*4 x 8 x 8\n",
    "            self._block(features_d*4, features_d*8, 4, 2, 1), # Output shape: features_d*8 x 4 x 4\n",
    "           \n",
    "            nn.Conv2d(in_channels=features_d*8, out_channels=1, kernel_size=4, stride=2, padding=0), # Output shape: 1 x 1\n",
    "            nn.Sigmoid(),\n",
    "        )\n",
    "\n",
    "    def _block(self, in_channels, out_channels, kernel_size, stride, padding):\n",
    "        return nn.Sequential(\n",
    "            nn.Conv2d(in_channels, out_channels, kernel_size, stride, padding, bias=False),\n",
    "            nn.BatchNorm2d(out_channels),\n",
    "            nn.LeakyReLU(0.2),\n",
    "        )\n",
    "\n",
    "    def forward(self, X):\n",
    "        return self.disc(X)\n"
   ]
  },
  {
   "cell_type": "code",
   "execution_count": 6,
   "id": "5afe02e5-61d3-4f25-8933-8484e519cd4a",
   "metadata": {},
   "outputs": [],
   "source": [
    "# Generator\n",
    "class Generator(nn.Module):\n",
    "    def __init__(self, z_dim, img_channels, features_g):\n",
    "        super().__init__()\n",
    "        self.gen = nn.Sequential(\n",
    "            self._block(z_dim, features_g*16, 4, 1, 0), # z_dim: (batch_size, 100, 1, 1) -> (batch_size, 1024, 4, 4)\n",
    "            self._block(features_g*16, features_g*8, 4, 2, 1), # z_dim: (batch_size, 1024, 4, 4) -> (batch_size, 512, 8, 8)\n",
    "            self._block(features_g*8, features_g*4, 4, 2, 1), # z_dim: (batch_size, 512, 8, 8) -> (batch_size, 256, 16, 16)\n",
    "            self._block(features_g*4, features_g*2, 4, 2, 1), # z_dim: (batch_size, 128, 16, 16) -> (batch_size, 64, 32, 32)\n",
    "            nn.ConvTranspose2d(\n",
    "                in_channels=features_g*2, out_channels=img_channels, kernel_size=4, stride=2, padding=1 # z_dim: (batch_size, 64, 32, 32) -> (batch_size, 1, 64, 64)\n",
    "            ),\n",
    "            nn.Tanh(),\n",
    "        )\n",
    "        \n",
    "    def _block(self, in_channels, out_channels, kernel_size, stride, padding):\n",
    "        return nn.Sequential(\n",
    "            nn.ConvTranspose2d(\n",
    "                in_channels, out_channels, kernel_size, stride, padding, bias=False,\n",
    "            ),\n",
    "            nn.InstanceNorm2d(out_channels, affine=True),\n",
    "            nn.ReLU(),\n",
    "        )\n",
    "\n",
    "    def forward(self, X):\n",
    "        return self.gen(X)"
   ]
  },
  {
   "cell_type": "code",
   "execution_count": 7,
   "id": "48c1be35-d58a-4d0c-990d-9250fbdbf1b3",
   "metadata": {},
   "outputs": [],
   "source": [
    "# Hyperparams\n",
    "z_dim = 100\n",
    "img_channels = 1\n",
    "features_disc = 64\n",
    "features_gen = 64"
   ]
  },
  {
   "cell_type": "code",
   "execution_count": 8,
   "id": "f2dc1f40-5c2e-4903-b2e7-7abe5cae9772",
   "metadata": {},
   "outputs": [],
   "source": [
    "# Create the model instances\n",
    "gen = Generator(z_dim, img_channels, features_gen).to(device)\n",
    "disc = Discriminator(img_channels, features_disc).to(device)"
   ]
  },
  {
   "cell_type": "code",
   "execution_count": 9,
   "id": "bc7a5deb-f8d8-41d4-aed3-d012d39a84b9",
   "metadata": {},
   "outputs": [
    {
     "data": {
      "text/plain": [
       "<All keys matched successfully>"
      ]
     },
     "execution_count": 9,
     "metadata": {},
     "output_type": "execute_result"
    }
   ],
   "source": [
    "# Load the trained GAN\n",
    "gen.load_state_dict(torch.load('saved models/Generator2.pth', weights_only=True))\n",
    "disc.load_state_dict(torch.load('saved models/Discriminator2.pth', weights_only=True))"
   ]
  },
  {
   "cell_type": "code",
   "execution_count": 10,
   "id": "a504e932-e168-4bb8-88cc-eea0810aafb0",
   "metadata": {},
   "outputs": [],
   "source": [
    "# Generate a random fake image\n",
    "noise = torch.randn(1, z_dim, 1, 1).to(device)\n",
    "fake_img = gen(noise)"
   ]
  },
  {
   "cell_type": "code",
   "execution_count": 11,
   "id": "98b5d73f-b130-4bc1-a868-c225bd2abe62",
   "metadata": {},
   "outputs": [
    {
     "data": {
      "text/plain": [
       "torch.Size([1, 1, 64, 64])"
      ]
     },
     "execution_count": 11,
     "metadata": {},
     "output_type": "execute_result"
    }
   ],
   "source": [
    "fake_img.shape"
   ]
  },
  {
   "cell_type": "code",
   "execution_count": 12,
   "id": "9d19338c-18e4-4b6e-842f-a225718fa8bb",
   "metadata": {},
   "outputs": [
    {
     "name": "stdout",
     "output_type": "stream",
     "text": [
      "torch.Size([64, 64])\n"
     ]
    },
    {
     "data": {
      "text/plain": [
       "<matplotlib.image.AxesImage at 0x1bfeec16280>"
      ]
     },
     "execution_count": 12,
     "metadata": {},
     "output_type": "execute_result"
    },
    {
     "data": {
      "image/png": "[encoded data removed]",
      "text/plain": [
       "<Figure size 640x480 with 1 Axes>"
      ]
     },
     "metadata": {},
     "output_type": "display_data"
    }
   ],
   "source": [
    "fake_img = fake_img.squeeze()\n",
    "print(fake_img.shape)\n",
    "plt.axis(False)\n",
    "plt.title('Fake Generated Image:')\n",
    "plt.imshow(fake_img.cpu().detach(), cmap='gray')"
   ]
  },
  {
   "cell_type": "code",
   "execution_count": 13,
   "id": "cf2aefac-a759-4335-a3de-2065d6a6a9a5",
   "metadata": {},
   "outputs": [],
   "source": [
    "# Target Model\n",
    "class TFCNN(nn.Module):\n",
    "    def __init__(self, n_classes):\n",
    "        super().__init__()\n",
    "        self.n_classes = n_classes\n",
    "\n",
    "        self.encoder = nn.Sequential(\n",
    "            nn.Conv2d(3, 32, 3, stride=1, padding=1),\n",
    "            nn.ReLU(True),\n",
    "            nn.MaxPool2d(2),\n",
    "            nn.Conv2d(32, 64, 3, stride=1, padding=1),\n",
    "            nn.ReLU(True),\n",
    "            nn.MaxPool2d(2),\n",
    "            nn.Conv2d(64, 64, 3, stride=1, padding=1),\n",
    "            nn.ReLU(True),\n",
    "            nn.MaxPool2d(2),\n",
    "            Reshape(),\n",
    "        )\n",
    "\n",
    "        self.h_size = 64 * 4 * 4\n",
    "\n",
    "        self.classifier = nn.Sequential(\n",
    "            nn.Linear(64 * 4 * 4, 128),\n",
    "            nn.ReLU(True),\n",
    "            nn.Linear(128, n_classes)\n",
    "        )\n",
    "\n",
    "    def forward(self, xs):\n",
    "        code = self.encoder(xs)\n",
    "        logits = self.classifier(code)\n",
    "        return code, logits\n"
   ]
  },
  {
   "cell_type": "code",
   "execution_count": 14,
   "id": "d28876e2-91ee-4ebf-bc52-b71dc82edfa2",
   "metadata": {},
   "outputs": [],
   "source": [
    "class Reshape(nn.Module):\n",
    "    def __init__(self,):\n",
    "        super().__init__()\n",
    "\n",
    "    def forward(self, xs):\n",
    "        return xs.reshape((xs.shape[0], -1))"
   ]
  },
  {
   "cell_type": "code",
   "execution_count": 15,
   "id": "dd57210c-2c18-4651-8f29-be94a7a7a88f",
   "metadata": {},
   "outputs": [],
   "source": [
    "class ClassifyNet(nn.Module):\n",
    "    def __init__(self, net, init_way, n_classes, input_size=None):\n",
    "        super().__init__()\n",
    "        self.net = net\n",
    "        self.init_way = init_way\n",
    "        self.n_classes = n_classes\n",
    "\n",
    "        model = TFCNN(n_classes)\n",
    "\n",
    "        self.h_size = model.h_size\n",
    "\n",
    "        # Convo and pool layers\n",
    "        self.encoder = model.encoder\n",
    "\n",
    "        # Classifier layer\n",
    "        self.classifier = nn.Linear(\n",
    "            self.h_size, self.n_classes, bias=False\n",
    "        )\n",
    "\n",
    "        if self.init_way == \"orth\":\n",
    "            ws = get_orth_weights(self.h_size, self.n_classes)\n",
    "            self.classifier.load_state_dict({\"weight\": ws})\n",
    "\n",
    "    def forward(self, xs):\n",
    "        hs = self.encoder(xs)\n",
    "        logits = self.classifier(hs)\n",
    "        return hs, logits"
   ]
  },
  {
   "cell_type": "code",
   "execution_count": 16,
   "id": "83ea3c08-0470-4c9a-ba15-8328a316b3ab",
   "metadata": {},
   "outputs": [],
   "source": [
    "def load_target_model(base_net, n_classes, path):\n",
    "    # Create the base model\n",
    "    model = ClassifyNet(net=base_net, init_way='none', n_classes=n_classes)\n",
    "    # Load the model\n",
    "    model.load_state_dict(torch.load(path, weights_only=True))\n",
    "\n",
    "    return model"
   ]
  },
  {
   "cell_type": "code",
   "execution_count": 17,
   "id": "0880f1aa-9d08-445a-85ac-f1ff3cebde04",
   "metadata": {},
   "outputs": [
    {
     "name": "stdout",
     "output_type": "stream",
     "text": [
      "Model loaded successfully!\n",
      "Number of parameters in the loaded model: 60416\n"
     ]
    }
   ],
   "source": [
    "# Target Model Loading\n",
    "BASE_NET = 'TFCNN'\n",
    "DATASET = 'tumor4'\n",
    "N_CLASSES = 4\n",
    "\n",
    "target_model = load_target_model(base_net=BASE_NET, n_classes=N_CLASSES, path='saved models/fedopt_global_model.path').to(device)\n",
    "print('Model loaded successfully!')\n",
    "target_model.eval()\n",
    "\n",
    "num_params = sum(p.numel() for p in target_model.parameters())\n",
    "print('Number of parameters in the loaded model:', num_params)\n"
   ]
  },
  {
   "cell_type": "code",
   "execution_count": 18,
   "id": "f843f19e-b2a5-4ffe-b22b-de4ff93c5643",
   "metadata": {},
   "outputs": [],
   "source": [
    "# BEGIN BATCH MODEL INVERSION\n",
    "img_count = 20\n",
    "latent_vectors = torch.randn(img_count, z_dim, 1, 1, requires_grad=True) # Start with 20 random noises"
   ]
  },
  {
   "cell_type": "code",
   "execution_count": 19,
   "id": "c21320ed-d5ac-4919-aaad-8cfa093998a6",
   "metadata": {},
   "outputs": [],
   "source": [
    "def recover_images(count, target_image_class, latent_vectors):\n",
    "    optimized_latent_vectors = []\n",
    "    \n",
    "    for x in range(0, count):\n",
    "        z = latent_vectors[x].unsqueeze(dim=0).clone().detach().requires_grad_(True)\n",
    "        \n",
    "        learning_rate = 0.01\n",
    "        target_class = 1 # The second class\n",
    "        \n",
    "        # Create the optimizer\n",
    "        optimizer = torch.optim.Adam([z], lr=learning_rate)\n",
    "        \n",
    "        # Loss function (e.g., Cross-Entropy with classifier outputs)\n",
    "        loss_fn = nn.CrossEntropyLoss()\n",
    "        target_class = torch.tensor([target_image_class])  # Set the target class\n",
    "    \n",
    "        # Optimization loop to find the best z\n",
    "        rounds = 500\n",
    "        for i in range(rounds):\n",
    "            optimizer.zero_grad()\n",
    "            \n",
    "            generated_image = gen(z.to(device))  # Generate an image from the latent vector\n",
    "            generated_image = generated_image.repeat(1, 3, 1, 1)\n",
    "            generated_image = functional.interpolate(generated_image, size=(32, 32), mode='nearest')\n",
    "            #print(generated_image.shape)\n",
    "            hs, prediction_logits = target_model(generated_image)  # Classifier output\n",
    "            #print(prediction_logits)\n",
    "            #print(type(prediction_logits))\n",
    "            loss = loss_fn(prediction_logits, target_class.to(device))  # Minimize difference with true class\n",
    "            loss.backward()\n",
    "            optimizer.step()\n",
    "            \n",
    "            if i % 50 == 0:\n",
    "                print(f\"Generating Image Number: {x+1} for target class {target_class}. Step {i}, Loss: {loss.item()}\")\n",
    "    \n",
    "        optimized_latent_vectors.append(z)\n",
    "        \n",
    "    return optimized_latent_vectors"
   ]
  },
  {
   "cell_type": "code",
   "execution_count": 20,
   "id": "9ebc9533-23ca-4d44-8aea-9d134281b3a4",
   "metadata": {
    "scrolled": true
   },
   "outputs": [
    {
     "name": "stdout",
     "output_type": "stream",
     "text": [
      "Generating Image Number: 1 for target class tensor([0]). Step 0, Loss: 6.495889186859131\n",
      "Generating Image Number: 1 for target class tensor([0]). Step 50, Loss: 1.925836443901062\n",
      "Generating Image Number: 1 for target class tensor([0]). Step 100, Loss: 1.8010653257369995\n",
      "Generating Image Number: 1 for target class tensor([0]). Step 150, Loss: 1.701219916343689\n",
      "Generating Image Number: 1 for target class tensor([0]). Step 200, Loss: 1.5989984273910522\n",
      "Generating Image Number: 1 for target class tensor([0]). Step 250, Loss: 1.4868720769882202\n",
      "Generating Image Number: 1 for target class tensor([0]). Step 300, Loss: 1.3909716606140137\n",
      "Generating Image Number: 1 for target class tensor([0]). Step 350, Loss: 1.3278223276138306\n",
      "Generating Image Number: 1 for target class tensor([0]). Step 400, Loss: 1.2710719108581543\n",
      "Generating Image Number: 1 for target class tensor([0]). Step 450, Loss: 1.2281984090805054\n",
      "Generating Image Number: 2 for target class tensor([0]). Step 0, Loss: 10.350443840026855\n",
      "Generating Image Number: 2 for target class tensor([0]). Step 50, Loss: 2.367593765258789\n",
      "Generating Image Number: 2 for target class tensor([0]). Step 100, Loss: 2.235367774963379\n",
      "Generating Image Number: 2 for target class tensor([0]). Step 150, Loss: 2.107302665710449\n",
      "Generating Image Number: 2 for target class tensor([0]). Step 200, Loss: 1.9976853132247925\n",
      "Generating Image Number: 2 for target class tensor([0]). Step 250, Loss: 1.9109530448913574\n",
      "Generating Image Number: 2 for target class tensor([0]). Step 300, Loss: 1.8354334831237793\n",
      "Generating Image Number: 2 for target class tensor([0]). Step 350, Loss: 1.7526963949203491\n",
      "Generating Image Number: 2 for target class tensor([0]). Step 400, Loss: 1.6719554662704468\n",
      "Generating Image Number: 2 for target class tensor([0]). Step 450, Loss: 1.5776641368865967\n",
      "Generating Image Number: 3 for target class tensor([0]). Step 0, Loss: 4.4497809410095215\n",
      "Generating Image Number: 3 for target class tensor([0]). Step 50, Loss: 1.140812873840332\n",
      "Generating Image Number: 3 for target class tensor([0]). Step 100, Loss: 0.23167382180690765\n",
      "Generating Image Number: 3 for target class tensor([0]). Step 150, Loss: 0.1532527059316635\n",
      "Generating Image Number: 3 for target class tensor([0]). Step 200, Loss: 0.11550423502922058\n",
      "Generating Image Number: 3 for target class tensor([0]). Step 250, Loss: 0.09259841591119766\n",
      "Generating Image Number: 3 for target class tensor([0]). Step 300, Loss: 0.07777821272611618\n",
      "Generating Image Number: 3 for target class tensor([0]). Step 350, Loss: 0.06716714799404144\n",
      "Generating Image Number: 3 for target class tensor([0]). Step 400, Loss: 0.06033455207943916\n",
      "Generating Image Number: 3 for target class tensor([0]). Step 450, Loss: 0.05451109632849693\n",
      "Generating Image Number: 4 for target class tensor([0]). Step 0, Loss: 0.8382776379585266\n",
      "Generating Image Number: 4 for target class tensor([0]). Step 50, Loss: 0.2911958694458008\n",
      "Generating Image Number: 4 for target class tensor([0]). Step 100, Loss: 0.19017527997493744\n",
      "Generating Image Number: 4 for target class tensor([0]). Step 150, Loss: 0.12781080603599548\n",
      "Generating Image Number: 4 for target class tensor([0]). Step 200, Loss: 0.07561089843511581\n",
      "Generating Image Number: 4 for target class tensor([0]). Step 250, Loss: 0.05516471341252327\n",
      "Generating Image Number: 4 for target class tensor([0]). Step 300, Loss: 0.04285556077957153\n",
      "Generating Image Number: 4 for target class tensor([0]). Step 350, Loss: 0.03382579982280731\n",
      "Generating Image Number: 4 for target class tensor([0]). Step 400, Loss: 0.02756332792341709\n",
      "Generating Image Number: 4 for target class tensor([0]). Step 450, Loss: 0.02353285439312458\n",
      "Generating Image Number: 5 for target class tensor([0]). Step 0, Loss: 9.159615516662598\n",
      "Generating Image Number: 5 for target class tensor([0]). Step 50, Loss: 1.7651618719100952\n",
      "Generating Image Number: 5 for target class tensor([0]). Step 100, Loss: 1.2066504955291748\n",
      "Generating Image Number: 5 for target class tensor([0]). Step 150, Loss: 0.6635081171989441\n",
      "Generating Image Number: 5 for target class tensor([0]). Step 200, Loss: 0.37020590901374817\n",
      "Generating Image Number: 5 for target class tensor([0]). Step 250, Loss: 0.25809404253959656\n",
      "Generating Image Number: 5 for target class tensor([0]). Step 300, Loss: 0.16615882515907288\n",
      "Generating Image Number: 5 for target class tensor([0]). Step 350, Loss: 0.1226862296462059\n",
      "Generating Image Number: 5 for target class tensor([0]). Step 400, Loss: 0.1020948514342308\n",
      "Generating Image Number: 5 for target class tensor([0]). Step 450, Loss: 0.08695971965789795\n",
      "Generating Image Number: 6 for target class tensor([0]). Step 0, Loss: 8.638198852539062\n",
      "Generating Image Number: 6 for target class tensor([0]). Step 50, Loss: 2.576925754547119\n",
      "Generating Image Number: 6 for target class tensor([0]). Step 100, Loss: 1.9810726642608643\n",
      "Generating Image Number: 6 for target class tensor([0]). Step 150, Loss: 1.6829752922058105\n",
      "Generating Image Number: 6 for target class tensor([0]). Step 200, Loss: 1.384918212890625\n",
      "Generating Image Number: 6 for target class tensor([0]). Step 250, Loss: 1.0420119762420654\n",
      "Generating Image Number: 6 for target class tensor([0]). Step 300, Loss: 0.8403265476226807\n",
      "Generating Image Number: 6 for target class tensor([0]). Step 350, Loss: 0.7036491632461548\n",
      "Generating Image Number: 6 for target class tensor([0]). Step 400, Loss: 0.607679009437561\n",
      "Generating Image Number: 6 for target class tensor([0]). Step 450, Loss: 0.545303463935852\n",
      "Generating Image Number: 7 for target class tensor([0]). Step 0, Loss: 8.453157424926758\n",
      "Generating Image Number: 7 for target class tensor([0]). Step 50, Loss: 1.7200369834899902\n",
      "Generating Image Number: 7 for target class tensor([0]). Step 100, Loss: 0.9006036520004272\n",
      "Generating Image Number: 7 for target class tensor([0]). Step 150, Loss: 0.565202534198761\n",
      "Generating Image Number: 7 for target class tensor([0]). Step 200, Loss: 0.428714781999588\n",
      "Generating Image Number: 7 for target class tensor([0]). Step 250, Loss: 0.32645469903945923\n",
      "Generating Image Number: 7 for target class tensor([0]). Step 300, Loss: 0.26109007000923157\n",
      "Generating Image Number: 7 for target class tensor([0]). Step 350, Loss: 0.215978741645813\n",
      "Generating Image Number: 7 for target class tensor([0]). Step 400, Loss: 0.18363679945468903\n",
      "Generating Image Number: 7 for target class tensor([0]). Step 450, Loss: 0.1601501703262329\n",
      "Generating Image Number: 8 for target class tensor([0]). Step 0, Loss: 4.970614433288574\n",
      "Generating Image Number: 8 for target class tensor([0]). Step 50, Loss: 0.9036728143692017\n",
      "Generating Image Number: 8 for target class tensor([0]). Step 100, Loss: 0.6548526883125305\n",
      "Generating Image Number: 8 for target class tensor([0]). Step 150, Loss: 0.47700387239456177\n",
      "Generating Image Number: 8 for target class tensor([0]). Step 200, Loss: 0.29183855652809143\n",
      "Generating Image Number: 8 for target class tensor([0]). Step 250, Loss: 0.24863208830356598\n",
      "Generating Image Number: 8 for target class tensor([0]). Step 300, Loss: 0.20009809732437134\n",
      "Generating Image Number: 8 for target class tensor([0]). Step 350, Loss: 0.1761721968650818\n",
      "Generating Image Number: 8 for target class tensor([0]). Step 400, Loss: 0.15802544355392456\n",
      "Generating Image Number: 8 for target class tensor([0]). Step 450, Loss: 0.1425747275352478\n",
      "Generating Image Number: 9 for target class tensor([0]). Step 0, Loss: 4.798868656158447\n",
      "Generating Image Number: 9 for target class tensor([0]). Step 50, Loss: 1.8081417083740234\n",
      "Generating Image Number: 9 for target class tensor([0]). Step 100, Loss: 1.0925438404083252\n",
      "Generating Image Number: 9 for target class tensor([0]). Step 150, Loss: 0.6967329978942871\n",
      "Generating Image Number: 9 for target class tensor([0]). Step 200, Loss: 0.48363539576530457\n",
      "Generating Image Number: 9 for target class tensor([0]). Step 250, Loss: 0.3952549397945404\n",
      "Generating Image Number: 9 for target class tensor([0]). Step 300, Loss: 0.3248141407966614\n",
      "Generating Image Number: 9 for target class tensor([0]). Step 350, Loss: 0.2771618664264679\n",
      "Generating Image Number: 9 for target class tensor([0]). Step 400, Loss: 0.2428201138973236\n",
      "Generating Image Number: 9 for target class tensor([0]). Step 450, Loss: 0.21647636592388153\n",
      "Generating Image Number: 10 for target class tensor([0]). Step 0, Loss: 5.9653215408325195\n",
      "Generating Image Number: 10 for target class tensor([0]). Step 50, Loss: 3.641378402709961\n",
      "Generating Image Number: 10 for target class tensor([0]). Step 100, Loss: 2.4215307235717773\n",
      "Generating Image Number: 10 for target class tensor([0]). Step 150, Loss: 1.3899083137512207\n",
      "Generating Image Number: 10 for target class tensor([0]). Step 200, Loss: 0.884249210357666\n",
      "Generating Image Number: 10 for target class tensor([0]). Step 250, Loss: 0.506968080997467\n",
      "Generating Image Number: 10 for target class tensor([0]). Step 300, Loss: 0.39322173595428467\n",
      "Generating Image Number: 10 for target class tensor([0]). Step 350, Loss: 0.3219127058982849\n",
      "Generating Image Number: 10 for target class tensor([0]). Step 400, Loss: 0.26818129420280457\n",
      "Generating Image Number: 10 for target class tensor([0]). Step 450, Loss: 0.2240619957447052\n",
      "Generating Image Number: 11 for target class tensor([0]). Step 0, Loss: 3.8269383907318115\n",
      "Generating Image Number: 11 for target class tensor([0]). Step 50, Loss: 1.6532907485961914\n",
      "Generating Image Number: 11 for target class tensor([0]). Step 100, Loss: 0.7332318425178528\n",
      "Generating Image Number: 11 for target class tensor([0]). Step 150, Loss: 0.3442489206790924\n",
      "Generating Image Number: 11 for target class tensor([0]). Step 200, Loss: 0.1820267140865326\n",
      "Generating Image Number: 11 for target class tensor([0]). Step 250, Loss: 0.12781228125095367\n",
      "Generating Image Number: 11 for target class tensor([0]). Step 300, Loss: 0.095502108335495\n",
      "Generating Image Number: 11 for target class tensor([0]). Step 350, Loss: 0.07475404441356659\n",
      "Generating Image Number: 11 for target class tensor([0]). Step 400, Loss: 0.06153322756290436\n",
      "Generating Image Number: 11 for target class tensor([0]). Step 450, Loss: 0.05236680433154106\n",
      "Generating Image Number: 12 for target class tensor([0]). Step 0, Loss: 8.4140625\n",
      "Generating Image Number: 12 for target class tensor([0]). Step 50, Loss: 2.0987329483032227\n",
      "Generating Image Number: 12 for target class tensor([0]). Step 100, Loss: 1.9272351264953613\n",
      "Generating Image Number: 12 for target class tensor([0]). Step 150, Loss: 1.8713709115982056\n",
      "Generating Image Number: 12 for target class tensor([0]). Step 200, Loss: 1.8245751857757568\n",
      "Generating Image Number: 12 for target class tensor([0]). Step 250, Loss: 1.7734558582305908\n",
      "Generating Image Number: 12 for target class tensor([0]). Step 300, Loss: 1.7235429286956787\n",
      "Generating Image Number: 12 for target class tensor([0]). Step 350, Loss: 1.6786725521087646\n",
      "Generating Image Number: 12 for target class tensor([0]). Step 400, Loss: 1.6372177600860596\n",
      "Generating Image Number: 12 for target class tensor([0]). Step 450, Loss: 1.6006097793579102\n",
      "Generating Image Number: 13 for target class tensor([0]). Step 0, Loss: 8.831841468811035\n",
      "Generating Image Number: 13 for target class tensor([0]). Step 50, Loss: 5.684081554412842\n",
      "Generating Image Number: 13 for target class tensor([0]). Step 100, Loss: 4.741352558135986\n",
      "Generating Image Number: 13 for target class tensor([0]). Step 150, Loss: 3.8385114669799805\n",
      "Generating Image Number: 13 for target class tensor([0]). Step 200, Loss: 2.983729124069214\n",
      "Generating Image Number: 13 for target class tensor([0]). Step 250, Loss: 2.6787595748901367\n",
      "Generating Image Number: 13 for target class tensor([0]). Step 300, Loss: 2.501953363418579\n",
      "Generating Image Number: 13 for target class tensor([0]). Step 350, Loss: 2.2674031257629395\n",
      "Generating Image Number: 13 for target class tensor([0]). Step 400, Loss: 2.108508825302124\n",
      "Generating Image Number: 13 for target class tensor([0]). Step 450, Loss: 2.0018255710601807\n",
      "Generating Image Number: 14 for target class tensor([0]). Step 0, Loss: 7.568077564239502\n",
      "Generating Image Number: 14 for target class tensor([0]). Step 50, Loss: 4.661391735076904\n",
      "Generating Image Number: 14 for target class tensor([0]). Step 100, Loss: 3.270137310028076\n",
      "Generating Image Number: 14 for target class tensor([0]). Step 150, Loss: 2.400538206100464\n",
      "Generating Image Number: 14 for target class tensor([0]). Step 200, Loss: 1.9339017868041992\n",
      "Generating Image Number: 14 for target class tensor([0]). Step 250, Loss: 1.693738579750061\n",
      "Generating Image Number: 14 for target class tensor([0]). Step 300, Loss: 1.541822075843811\n",
      "Generating Image Number: 14 for target class tensor([0]). Step 350, Loss: 1.4182188510894775\n",
      "Generating Image Number: 14 for target class tensor([0]). Step 400, Loss: 1.263930320739746\n",
      "Generating Image Number: 14 for target class tensor([0]). Step 450, Loss: 1.2293400764465332\n",
      "Generating Image Number: 15 for target class tensor([0]). Step 0, Loss: 6.0261993408203125\n",
      "Generating Image Number: 15 for target class tensor([0]). Step 50, Loss: 0.3463006019592285\n",
      "Generating Image Number: 15 for target class tensor([0]). Step 100, Loss: 0.21927283704280853\n",
      "Generating Image Number: 15 for target class tensor([0]). Step 150, Loss: 0.16813649237155914\n",
      "Generating Image Number: 15 for target class tensor([0]). Step 200, Loss: 0.1339193880558014\n",
      "Generating Image Number: 15 for target class tensor([0]). Step 250, Loss: 0.11382637172937393\n",
      "Generating Image Number: 15 for target class tensor([0]). Step 300, Loss: 0.09881541132926941\n",
      "Generating Image Number: 15 for target class tensor([0]). Step 350, Loss: 0.0816996619105339\n",
      "Generating Image Number: 15 for target class tensor([0]). Step 400, Loss: 0.06926961988210678\n",
      "Generating Image Number: 15 for target class tensor([0]). Step 450, Loss: 0.059672288596630096\n",
      "Generating Image Number: 16 for target class tensor([0]). Step 0, Loss: 4.694028854370117\n",
      "Generating Image Number: 16 for target class tensor([0]). Step 50, Loss: 2.105813980102539\n",
      "Generating Image Number: 16 for target class tensor([0]). Step 100, Loss: 1.6492083072662354\n",
      "Generating Image Number: 16 for target class tensor([0]). Step 150, Loss: 1.4019386768341064\n",
      "Generating Image Number: 16 for target class tensor([0]). Step 200, Loss: 1.226799726486206\n",
      "Generating Image Number: 16 for target class tensor([0]). Step 250, Loss: 1.065793752670288\n",
      "Generating Image Number: 16 for target class tensor([0]). Step 300, Loss: 0.9099887609481812\n",
      "Generating Image Number: 16 for target class tensor([0]). Step 350, Loss: 0.7889352440834045\n",
      "Generating Image Number: 16 for target class tensor([0]). Step 400, Loss: 0.7124757766723633\n",
      "Generating Image Number: 16 for target class tensor([0]). Step 450, Loss: 0.6505327224731445\n",
      "Generating Image Number: 17 for target class tensor([0]). Step 0, Loss: 7.656105041503906\n",
      "Generating Image Number: 17 for target class tensor([0]). Step 50, Loss: 6.121300220489502\n",
      "Generating Image Number: 17 for target class tensor([0]). Step 100, Loss: 5.942636489868164\n",
      "Generating Image Number: 17 for target class tensor([0]). Step 150, Loss: 5.64729642868042\n",
      "Generating Image Number: 17 for target class tensor([0]). Step 200, Loss: 5.3963212966918945\n",
      "Generating Image Number: 17 for target class tensor([0]). Step 250, Loss: 5.246447563171387\n",
      "Generating Image Number: 17 for target class tensor([0]). Step 300, Loss: 5.157750129699707\n",
      "Generating Image Number: 17 for target class tensor([0]). Step 350, Loss: 5.108465671539307\n",
      "Generating Image Number: 17 for target class tensor([0]). Step 400, Loss: 5.067566394805908\n",
      "Generating Image Number: 17 for target class tensor([0]). Step 450, Loss: 5.020382404327393\n",
      "Generating Image Number: 18 for target class tensor([0]). Step 0, Loss: 6.336797714233398\n",
      "Generating Image Number: 18 for target class tensor([0]). Step 50, Loss: 0.25851213932037354\n",
      "Generating Image Number: 18 for target class tensor([0]). Step 100, Loss: 0.17259204387664795\n",
      "Generating Image Number: 18 for target class tensor([0]). Step 150, Loss: 0.12389854341745377\n",
      "Generating Image Number: 18 for target class tensor([0]). Step 200, Loss: 0.09508009999990463\n",
      "Generating Image Number: 18 for target class tensor([0]). Step 250, Loss: 0.07747167348861694\n",
      "Generating Image Number: 18 for target class tensor([0]). Step 300, Loss: 0.0646568089723587\n",
      "Generating Image Number: 18 for target class tensor([0]). Step 350, Loss: 0.05504963919520378\n",
      "Generating Image Number: 18 for target class tensor([0]). Step 400, Loss: 0.048189010471105576\n",
      "Generating Image Number: 18 for target class tensor([0]). Step 450, Loss: 0.04350633919239044\n",
      "Generating Image Number: 19 for target class tensor([0]). Step 0, Loss: 3.083847999572754\n",
      "Generating Image Number: 19 for target class tensor([0]). Step 50, Loss: 0.2285165935754776\n",
      "Generating Image Number: 19 for target class tensor([0]). Step 100, Loss: 0.15321239829063416\n",
      "Generating Image Number: 19 for target class tensor([0]). Step 150, Loss: 0.11330867558717728\n",
      "Generating Image Number: 19 for target class tensor([0]). Step 200, Loss: 0.08801830559968948\n",
      "Generating Image Number: 19 for target class tensor([0]). Step 250, Loss: 0.07214692234992981\n",
      "Generating Image Number: 19 for target class tensor([0]). Step 300, Loss: 0.061640720814466476\n",
      "Generating Image Number: 19 for target class tensor([0]). Step 350, Loss: 0.05492258816957474\n",
      "Generating Image Number: 19 for target class tensor([0]). Step 400, Loss: 0.04758754000067711\n",
      "Generating Image Number: 19 for target class tensor([0]). Step 450, Loss: 0.04068942368030548\n",
      "Generating Image Number: 20 for target class tensor([0]). Step 0, Loss: 8.105318069458008\n",
      "Generating Image Number: 20 for target class tensor([0]). Step 50, Loss: 3.5844030380249023\n",
      "Generating Image Number: 20 for target class tensor([0]). Step 100, Loss: 2.012985944747925\n",
      "Generating Image Number: 20 for target class tensor([0]). Step 150, Loss: 1.144638180732727\n",
      "Generating Image Number: 20 for target class tensor([0]). Step 200, Loss: 0.7901673316955566\n",
      "Generating Image Number: 20 for target class tensor([0]). Step 250, Loss: 0.5477885603904724\n",
      "Generating Image Number: 20 for target class tensor([0]). Step 300, Loss: 0.44286680221557617\n",
      "Generating Image Number: 20 for target class tensor([0]). Step 350, Loss: 0.37907999753952026\n",
      "Generating Image Number: 20 for target class tensor([0]). Step 400, Loss: 0.3139166235923767\n",
      "Generating Image Number: 20 for target class tensor([0]). Step 450, Loss: 0.25134342908859253\n"
     ]
    }
   ],
   "source": [
    "class0_optimized_latent_vectors = recover_images(img_count, 0, latent_vectors)"
   ]
  },
  {
   "cell_type": "code",
   "execution_count": 21,
   "id": "6718334c-2bb1-42a3-bd8c-6aea38e6b59c",
   "metadata": {
    "scrolled": true
   },
   "outputs": [
    {
     "name": "stdout",
     "output_type": "stream",
     "text": [
      "Generating Image Number: 1 for target class tensor([1]). Step 0, Loss: 11.434331893920898\n",
      "Generating Image Number: 1 for target class tensor([1]). Step 50, Loss: 6.357443332672119\n",
      "Generating Image Number: 1 for target class tensor([1]). Step 100, Loss: 5.375926971435547\n",
      "Generating Image Number: 1 for target class tensor([1]). Step 150, Loss: 4.86871862411499\n",
      "Generating Image Number: 1 for target class tensor([1]). Step 200, Loss: 4.516414642333984\n",
      "Generating Image Number: 1 for target class tensor([1]). Step 250, Loss: 4.23868989944458\n",
      "Generating Image Number: 1 for target class tensor([1]). Step 300, Loss: 4.0587615966796875\n",
      "Generating Image Number: 1 for target class tensor([1]). Step 350, Loss: 3.9384522438049316\n",
      "Generating Image Number: 1 for target class tensor([1]). Step 400, Loss: 3.725430727005005\n",
      "Generating Image Number: 1 for target class tensor([1]). Step 450, Loss: 3.5975301265716553\n",
      "Generating Image Number: 2 for target class tensor([1]). Step 0, Loss: 9.023519515991211\n",
      "Generating Image Number: 2 for target class tensor([1]). Step 50, Loss: 6.11607551574707\n",
      "Generating Image Number: 2 for target class tensor([1]). Step 100, Loss: 5.396535873413086\n",
      "Generating Image Number: 2 for target class tensor([1]). Step 150, Loss: 4.84497594833374\n",
      "Generating Image Number: 2 for target class tensor([1]). Step 200, Loss: 4.637394428253174\n",
      "Generating Image Number: 2 for target class tensor([1]). Step 250, Loss: 4.508791923522949\n",
      "Generating Image Number: 2 for target class tensor([1]). Step 300, Loss: 4.371857166290283\n",
      "Generating Image Number: 2 for target class tensor([1]). Step 350, Loss: 4.180562496185303\n",
      "Generating Image Number: 2 for target class tensor([1]). Step 400, Loss: 4.0756096839904785\n",
      "Generating Image Number: 2 for target class tensor([1]). Step 450, Loss: 3.994405746459961\n",
      "Generating Image Number: 3 for target class tensor([1]). Step 0, Loss: 10.19532585144043\n",
      "Generating Image Number: 3 for target class tensor([1]). Step 50, Loss: 4.521876811981201\n",
      "Generating Image Number: 3 for target class tensor([1]). Step 100, Loss: 3.69675874710083\n",
      "Generating Image Number: 3 for target class tensor([1]). Step 150, Loss: 3.313469409942627\n",
      "Generating Image Number: 3 for target class tensor([1]). Step 200, Loss: 2.987685203552246\n",
      "Generating Image Number: 3 for target class tensor([1]). Step 250, Loss: 2.7329819202423096\n",
      "Generating Image Number: 3 for target class tensor([1]). Step 300, Loss: 2.5119218826293945\n",
      "Generating Image Number: 3 for target class tensor([1]). Step 350, Loss: 2.3254380226135254\n",
      "Generating Image Number: 3 for target class tensor([1]). Step 400, Loss: 2.1794471740722656\n",
      "Generating Image Number: 3 for target class tensor([1]). Step 450, Loss: 2.066117525100708\n",
      "Generating Image Number: 4 for target class tensor([1]). Step 0, Loss: 10.547179222106934\n",
      "Generating Image Number: 4 for target class tensor([1]). Step 50, Loss: 7.401298522949219\n",
      "Generating Image Number: 4 for target class tensor([1]). Step 100, Loss: 7.212201118469238\n",
      "Generating Image Number: 4 for target class tensor([1]). Step 150, Loss: 7.034914970397949\n",
      "Generating Image Number: 4 for target class tensor([1]). Step 200, Loss: 6.911950588226318\n",
      "Generating Image Number: 4 for target class tensor([1]). Step 250, Loss: 6.836677551269531\n",
      "Generating Image Number: 4 for target class tensor([1]). Step 300, Loss: 6.778692245483398\n",
      "Generating Image Number: 4 for target class tensor([1]). Step 350, Loss: 6.727021217346191\n",
      "Generating Image Number: 4 for target class tensor([1]). Step 400, Loss: 6.674072265625\n",
      "Generating Image Number: 4 for target class tensor([1]). Step 450, Loss: 6.59899377822876\n",
      "Generating Image Number: 5 for target class tensor([1]). Step 0, Loss: 6.1768622398376465\n",
      "Generating Image Number: 5 for target class tensor([1]). Step 50, Loss: 3.9745900630950928\n",
      "Generating Image Number: 5 for target class tensor([1]). Step 100, Loss: 3.4051849842071533\n",
      "Generating Image Number: 5 for target class tensor([1]). Step 150, Loss: 2.9755070209503174\n",
      "Generating Image Number: 5 for target class tensor([1]). Step 200, Loss: 2.6365556716918945\n",
      "Generating Image Number: 5 for target class tensor([1]). Step 250, Loss: 2.3938755989074707\n",
      "Generating Image Number: 5 for target class tensor([1]). Step 300, Loss: 2.2435314655303955\n",
      "Generating Image Number: 5 for target class tensor([1]). Step 350, Loss: 2.140610933303833\n",
      "Generating Image Number: 5 for target class tensor([1]). Step 400, Loss: 2.050352096557617\n",
      "Generating Image Number: 5 for target class tensor([1]). Step 450, Loss: 1.973390817642212\n",
      "Generating Image Number: 6 for target class tensor([1]). Step 0, Loss: 8.25727653503418\n",
      "Generating Image Number: 6 for target class tensor([1]). Step 50, Loss: 4.758825778961182\n",
      "Generating Image Number: 6 for target class tensor([1]). Step 100, Loss: 3.318387746810913\n",
      "Generating Image Number: 6 for target class tensor([1]). Step 150, Loss: 2.8269543647766113\n",
      "Generating Image Number: 6 for target class tensor([1]). Step 200, Loss: 2.571904420852661\n",
      "Generating Image Number: 6 for target class tensor([1]). Step 250, Loss: 2.363330125808716\n",
      "Generating Image Number: 6 for target class tensor([1]). Step 300, Loss: 2.173064708709717\n",
      "Generating Image Number: 6 for target class tensor([1]). Step 350, Loss: 2.0695061683654785\n",
      "Generating Image Number: 6 for target class tensor([1]). Step 400, Loss: 1.9261384010314941\n",
      "Generating Image Number: 6 for target class tensor([1]). Step 450, Loss: 1.8284662961959839\n",
      "Generating Image Number: 7 for target class tensor([1]). Step 0, Loss: 68.47048950195312\n",
      "Generating Image Number: 7 for target class tensor([1]). Step 50, Loss: 1.0357451438903809\n",
      "Generating Image Number: 7 for target class tensor([1]). Step 100, Loss: 0.7539634108543396\n",
      "Generating Image Number: 7 for target class tensor([1]). Step 150, Loss: 0.5869385600090027\n",
      "Generating Image Number: 7 for target class tensor([1]). Step 200, Loss: 0.49424511194229126\n",
      "Generating Image Number: 7 for target class tensor([1]). Step 250, Loss: 0.3981006443500519\n",
      "Generating Image Number: 7 for target class tensor([1]). Step 300, Loss: 0.32181593775749207\n",
      "Generating Image Number: 7 for target class tensor([1]). Step 350, Loss: 0.2815503180027008\n",
      "Generating Image Number: 7 for target class tensor([1]). Step 400, Loss: 0.2560907006263733\n",
      "Generating Image Number: 7 for target class tensor([1]). Step 450, Loss: 0.23170597851276398\n",
      "Generating Image Number: 8 for target class tensor([1]). Step 0, Loss: 84.89286041259766\n",
      "Generating Image Number: 8 for target class tensor([1]). Step 50, Loss: 58.33676528930664\n",
      "Generating Image Number: 8 for target class tensor([1]). Step 100, Loss: 5.053183078765869\n",
      "Generating Image Number: 8 for target class tensor([1]). Step 150, Loss: 4.7422990798950195\n",
      "Generating Image Number: 8 for target class tensor([1]). Step 200, Loss: 4.450122833251953\n",
      "Generating Image Number: 8 for target class tensor([1]). Step 250, Loss: 4.051477909088135\n",
      "Generating Image Number: 8 for target class tensor([1]). Step 300, Loss: 3.5257840156555176\n",
      "Generating Image Number: 8 for target class tensor([1]). Step 350, Loss: 3.3131866455078125\n",
      "Generating Image Number: 8 for target class tensor([1]). Step 400, Loss: 3.151822566986084\n",
      "Generating Image Number: 8 for target class tensor([1]). Step 450, Loss: 3.0093979835510254\n",
      "Generating Image Number: 9 for target class tensor([1]). Step 0, Loss: 13.320049285888672\n",
      "Generating Image Number: 9 for target class tensor([1]). Step 50, Loss: 11.977497100830078\n",
      "Generating Image Number: 9 for target class tensor([1]). Step 100, Loss: 11.670450210571289\n",
      "Generating Image Number: 9 for target class tensor([1]). Step 150, Loss: 11.471684455871582\n",
      "Generating Image Number: 9 for target class tensor([1]). Step 200, Loss: 11.244242668151855\n",
      "Generating Image Number: 9 for target class tensor([1]). Step 250, Loss: 11.052982330322266\n",
      "Generating Image Number: 9 for target class tensor([1]). Step 300, Loss: 10.89148998260498\n",
      "Generating Image Number: 9 for target class tensor([1]). Step 350, Loss: 10.766018867492676\n",
      "Generating Image Number: 9 for target class tensor([1]). Step 400, Loss: 10.67438793182373\n",
      "Generating Image Number: 9 for target class tensor([1]). Step 450, Loss: 10.53788948059082\n",
      "Generating Image Number: 10 for target class tensor([1]). Step 0, Loss: 14.056675910949707\n",
      "Generating Image Number: 10 for target class tensor([1]). Step 50, Loss: 3.363528251647949\n",
      "Generating Image Number: 10 for target class tensor([1]). Step 100, Loss: 2.3787670135498047\n",
      "Generating Image Number: 10 for target class tensor([1]). Step 150, Loss: 1.7613401412963867\n",
      "Generating Image Number: 10 for target class tensor([1]). Step 200, Loss: 1.1820706129074097\n",
      "Generating Image Number: 10 for target class tensor([1]). Step 250, Loss: 0.8570073246955872\n",
      "Generating Image Number: 10 for target class tensor([1]). Step 300, Loss: 0.60955411195755\n",
      "Generating Image Number: 10 for target class tensor([1]). Step 350, Loss: 0.47296249866485596\n",
      "Generating Image Number: 10 for target class tensor([1]). Step 400, Loss: 0.382633775472641\n",
      "Generating Image Number: 10 for target class tensor([1]). Step 450, Loss: 0.3149406611919403\n",
      "Generating Image Number: 11 for target class tensor([1]). Step 0, Loss: 11.765069007873535\n",
      "Generating Image Number: 11 for target class tensor([1]). Step 50, Loss: 6.7313618659973145\n",
      "Generating Image Number: 11 for target class tensor([1]). Step 100, Loss: 5.742972373962402\n",
      "Generating Image Number: 11 for target class tensor([1]). Step 150, Loss: 5.054473400115967\n",
      "Generating Image Number: 11 for target class tensor([1]). Step 200, Loss: 4.485966205596924\n",
      "Generating Image Number: 11 for target class tensor([1]). Step 250, Loss: 3.922222137451172\n",
      "Generating Image Number: 11 for target class tensor([1]). Step 300, Loss: 3.575850486755371\n",
      "Generating Image Number: 11 for target class tensor([1]). Step 350, Loss: 2.9364051818847656\n",
      "Generating Image Number: 11 for target class tensor([1]). Step 400, Loss: 2.5240190029144287\n",
      "Generating Image Number: 11 for target class tensor([1]). Step 450, Loss: 2.2299983501434326\n",
      "Generating Image Number: 12 for target class tensor([1]). Step 0, Loss: 16.840055465698242\n",
      "Generating Image Number: 12 for target class tensor([1]). Step 50, Loss: 13.157403945922852\n",
      "Generating Image Number: 12 for target class tensor([1]). Step 100, Loss: 12.822093963623047\n",
      "Generating Image Number: 12 for target class tensor([1]). Step 150, Loss: 12.465596199035645\n",
      "Generating Image Number: 12 for target class tensor([1]). Step 200, Loss: 12.289794921875\n",
      "Generating Image Number: 12 for target class tensor([1]). Step 250, Loss: 12.01132583618164\n",
      "Generating Image Number: 12 for target class tensor([1]). Step 300, Loss: 11.623024940490723\n",
      "Generating Image Number: 12 for target class tensor([1]). Step 350, Loss: 11.391195297241211\n",
      "Generating Image Number: 12 for target class tensor([1]). Step 400, Loss: 11.282524108886719\n",
      "Generating Image Number: 12 for target class tensor([1]). Step 450, Loss: 11.205855369567871\n",
      "Generating Image Number: 13 for target class tensor([1]). Step 0, Loss: 10.322843551635742\n",
      "Generating Image Number: 13 for target class tensor([1]). Step 50, Loss: 5.717011451721191\n",
      "Generating Image Number: 13 for target class tensor([1]). Step 100, Loss: 5.273042678833008\n",
      "Generating Image Number: 13 for target class tensor([1]). Step 150, Loss: 5.004881858825684\n",
      "Generating Image Number: 13 for target class tensor([1]). Step 200, Loss: 4.763645172119141\n",
      "Generating Image Number: 13 for target class tensor([1]). Step 250, Loss: 4.514702796936035\n",
      "Generating Image Number: 13 for target class tensor([1]). Step 300, Loss: 4.277434825897217\n",
      "Generating Image Number: 13 for target class tensor([1]). Step 350, Loss: 4.097564220428467\n",
      "Generating Image Number: 13 for target class tensor([1]). Step 400, Loss: 3.966326951980591\n",
      "Generating Image Number: 13 for target class tensor([1]). Step 450, Loss: 3.850170612335205\n",
      "Generating Image Number: 14 for target class tensor([1]). Step 0, Loss: 7.284373760223389\n",
      "Generating Image Number: 14 for target class tensor([1]). Step 50, Loss: 5.449678897857666\n",
      "Generating Image Number: 14 for target class tensor([1]). Step 100, Loss: 4.4498772621154785\n",
      "Generating Image Number: 14 for target class tensor([1]). Step 150, Loss: 3.7146434783935547\n",
      "Generating Image Number: 14 for target class tensor([1]). Step 200, Loss: 3.2416772842407227\n",
      "Generating Image Number: 14 for target class tensor([1]). Step 250, Loss: 2.8525588512420654\n",
      "Generating Image Number: 14 for target class tensor([1]). Step 300, Loss: 2.610213279724121\n",
      "Generating Image Number: 14 for target class tensor([1]). Step 350, Loss: 2.5061984062194824\n",
      "Generating Image Number: 14 for target class tensor([1]). Step 400, Loss: 2.362682342529297\n",
      "Generating Image Number: 14 for target class tensor([1]). Step 450, Loss: 2.164543628692627\n",
      "Generating Image Number: 15 for target class tensor([1]). Step 0, Loss: 11.446282386779785\n",
      "Generating Image Number: 15 for target class tensor([1]). Step 50, Loss: 3.6271567344665527\n",
      "Generating Image Number: 15 for target class tensor([1]). Step 100, Loss: 3.127497434616089\n",
      "Generating Image Number: 15 for target class tensor([1]). Step 150, Loss: 2.7418949604034424\n",
      "Generating Image Number: 15 for target class tensor([1]). Step 200, Loss: 2.559983491897583\n",
      "Generating Image Number: 15 for target class tensor([1]). Step 250, Loss: 2.339364767074585\n",
      "Generating Image Number: 15 for target class tensor([1]). Step 300, Loss: 2.1582326889038086\n",
      "Generating Image Number: 15 for target class tensor([1]). Step 350, Loss: 2.0156774520874023\n",
      "Generating Image Number: 15 for target class tensor([1]). Step 400, Loss: 1.9123930931091309\n",
      "Generating Image Number: 15 for target class tensor([1]). Step 450, Loss: 1.8228278160095215\n",
      "Generating Image Number: 16 for target class tensor([1]). Step 0, Loss: 66.75973510742188\n",
      "Generating Image Number: 16 for target class tensor([1]). Step 50, Loss: 11.48144817352295\n",
      "Generating Image Number: 16 for target class tensor([1]). Step 100, Loss: 10.704595565795898\n",
      "Generating Image Number: 16 for target class tensor([1]). Step 150, Loss: 10.240924835205078\n",
      "Generating Image Number: 16 for target class tensor([1]). Step 200, Loss: 9.646950721740723\n",
      "Generating Image Number: 16 for target class tensor([1]). Step 250, Loss: 9.09229564666748\n",
      "Generating Image Number: 16 for target class tensor([1]). Step 300, Loss: 8.45453929901123\n",
      "Generating Image Number: 16 for target class tensor([1]). Step 350, Loss: 7.7526631355285645\n",
      "Generating Image Number: 16 for target class tensor([1]). Step 400, Loss: 7.171087741851807\n",
      "Generating Image Number: 16 for target class tensor([1]). Step 450, Loss: 6.308362007141113\n",
      "Generating Image Number: 17 for target class tensor([1]). Step 0, Loss: 6.427404403686523\n",
      "Generating Image Number: 17 for target class tensor([1]). Step 50, Loss: 5.187026500701904\n",
      "Generating Image Number: 17 for target class tensor([1]). Step 100, Loss: 4.308091163635254\n",
      "Generating Image Number: 17 for target class tensor([1]). Step 150, Loss: 3.7938899993896484\n",
      "Generating Image Number: 17 for target class tensor([1]). Step 200, Loss: 3.4141223430633545\n",
      "Generating Image Number: 17 for target class tensor([1]). Step 250, Loss: 3.126542091369629\n",
      "Generating Image Number: 17 for target class tensor([1]). Step 300, Loss: 2.910160541534424\n",
      "Generating Image Number: 17 for target class tensor([1]). Step 350, Loss: 2.796881675720215\n",
      "Generating Image Number: 17 for target class tensor([1]). Step 400, Loss: 2.6454873085021973\n",
      "Generating Image Number: 17 for target class tensor([1]). Step 450, Loss: 2.547396659851074\n",
      "Generating Image Number: 18 for target class tensor([1]). Step 0, Loss: 13.771781921386719\n",
      "Generating Image Number: 18 for target class tensor([1]). Step 50, Loss: 9.587017059326172\n",
      "Generating Image Number: 18 for target class tensor([1]). Step 100, Loss: 7.858743667602539\n",
      "Generating Image Number: 18 for target class tensor([1]). Step 150, Loss: 6.209412574768066\n",
      "Generating Image Number: 18 for target class tensor([1]). Step 200, Loss: 4.985628128051758\n",
      "Generating Image Number: 18 for target class tensor([1]). Step 250, Loss: 4.005481719970703\n",
      "Generating Image Number: 18 for target class tensor([1]). Step 300, Loss: 3.2903504371643066\n",
      "Generating Image Number: 18 for target class tensor([1]). Step 350, Loss: 2.9852194786071777\n",
      "Generating Image Number: 18 for target class tensor([1]). Step 400, Loss: 2.777688980102539\n",
      "Generating Image Number: 18 for target class tensor([1]). Step 450, Loss: 2.610403060913086\n",
      "Generating Image Number: 19 for target class tensor([1]). Step 0, Loss: 9.090455055236816\n",
      "Generating Image Number: 19 for target class tensor([1]). Step 50, Loss: 7.1021575927734375\n",
      "Generating Image Number: 19 for target class tensor([1]). Step 100, Loss: 6.325190544128418\n",
      "Generating Image Number: 19 for target class tensor([1]). Step 150, Loss: 5.90222692489624\n",
      "Generating Image Number: 19 for target class tensor([1]). Step 200, Loss: 5.536162853240967\n",
      "Generating Image Number: 19 for target class tensor([1]). Step 250, Loss: 5.167949676513672\n",
      "Generating Image Number: 19 for target class tensor([1]). Step 300, Loss: 4.757594585418701\n",
      "Generating Image Number: 19 for target class tensor([1]). Step 350, Loss: 4.252294540405273\n",
      "Generating Image Number: 19 for target class tensor([1]). Step 400, Loss: 3.963107109069824\n",
      "Generating Image Number: 19 for target class tensor([1]). Step 450, Loss: 3.7711844444274902\n",
      "Generating Image Number: 20 for target class tensor([1]). Step 0, Loss: 9.273750305175781\n",
      "Generating Image Number: 20 for target class tensor([1]). Step 50, Loss: 5.982198715209961\n",
      "Generating Image Number: 20 for target class tensor([1]). Step 100, Loss: 5.287275791168213\n",
      "Generating Image Number: 20 for target class tensor([1]). Step 150, Loss: 4.822173595428467\n",
      "Generating Image Number: 20 for target class tensor([1]). Step 200, Loss: 4.5313544273376465\n",
      "Generating Image Number: 20 for target class tensor([1]). Step 250, Loss: 4.232917785644531\n",
      "Generating Image Number: 20 for target class tensor([1]). Step 300, Loss: 3.9268577098846436\n",
      "Generating Image Number: 20 for target class tensor([1]). Step 350, Loss: 3.324429750442505\n",
      "Generating Image Number: 20 for target class tensor([1]). Step 400, Loss: 1.7797552347183228\n",
      "Generating Image Number: 20 for target class tensor([1]). Step 450, Loss: 1.3055706024169922\n"
     ]
    }
   ],
   "source": [
    "torch.manual_seed(100)\n",
    "latent_vectors = torch.randn(img_count, z_dim, 1, 1, requires_grad=True) # Start with 20 random noises\n",
    "class1_optimized_latent_vectors = recover_images(img_count, 1, latent_vectors)"
   ]
  },
  {
   "cell_type": "code",
   "execution_count": 22,
   "id": "1c8af686-b1ff-419d-946d-2447773e47c9",
   "metadata": {
    "scrolled": true
   },
   "outputs": [
    {
     "name": "stdout",
     "output_type": "stream",
     "text": [
      "Generating Image Number: 1 for target class tensor([2]). Step 0, Loss: 6.261673450469971\n",
      "Generating Image Number: 1 for target class tensor([2]). Step 50, Loss: 0.5133105516433716\n",
      "Generating Image Number: 1 for target class tensor([2]). Step 100, Loss: 0.2621472477912903\n",
      "Generating Image Number: 1 for target class tensor([2]). Step 150, Loss: 0.15944615006446838\n",
      "Generating Image Number: 1 for target class tensor([2]). Step 200, Loss: 0.10399148613214493\n",
      "Generating Image Number: 1 for target class tensor([2]). Step 250, Loss: 0.06948471814393997\n",
      "Generating Image Number: 1 for target class tensor([2]). Step 300, Loss: 0.051165465265512466\n",
      "Generating Image Number: 1 for target class tensor([2]). Step 350, Loss: 0.04039900749921799\n",
      "Generating Image Number: 1 for target class tensor([2]). Step 400, Loss: 0.03252199664711952\n",
      "Generating Image Number: 1 for target class tensor([2]). Step 450, Loss: 0.026264915242791176\n",
      "Generating Image Number: 2 for target class tensor([2]). Step 0, Loss: 5.459306240081787\n",
      "Generating Image Number: 2 for target class tensor([2]). Step 50, Loss: 0.541228711605072\n",
      "Generating Image Number: 2 for target class tensor([2]). Step 100, Loss: 0.3177957236766815\n",
      "Generating Image Number: 2 for target class tensor([2]). Step 150, Loss: 0.2304850071668625\n",
      "Generating Image Number: 2 for target class tensor([2]). Step 200, Loss: 0.19107505679130554\n",
      "Generating Image Number: 2 for target class tensor([2]). Step 250, Loss: 0.1595461517572403\n",
      "Generating Image Number: 2 for target class tensor([2]). Step 300, Loss: 0.13813520967960358\n",
      "Generating Image Number: 2 for target class tensor([2]). Step 350, Loss: 0.1227000430226326\n",
      "Generating Image Number: 2 for target class tensor([2]). Step 400, Loss: 0.11081874370574951\n",
      "Generating Image Number: 2 for target class tensor([2]). Step 450, Loss: 0.10267668962478638\n",
      "Generating Image Number: 3 for target class tensor([2]). Step 0, Loss: 2.2627336978912354\n",
      "Generating Image Number: 3 for target class tensor([2]). Step 50, Loss: 0.09722471237182617\n",
      "Generating Image Number: 3 for target class tensor([2]). Step 100, Loss: 0.05213486775755882\n",
      "Generating Image Number: 3 for target class tensor([2]). Step 150, Loss: 0.03742760792374611\n",
      "Generating Image Number: 3 for target class tensor([2]). Step 200, Loss: 0.02918313629925251\n",
      "Generating Image Number: 3 for target class tensor([2]). Step 250, Loss: 0.02359735779464245\n",
      "Generating Image Number: 3 for target class tensor([2]). Step 300, Loss: 0.01975959911942482\n",
      "Generating Image Number: 3 for target class tensor([2]). Step 350, Loss: 0.01559291873127222\n",
      "Generating Image Number: 3 for target class tensor([2]). Step 400, Loss: 0.013307562097907066\n",
      "Generating Image Number: 3 for target class tensor([2]). Step 450, Loss: 0.011773033067584038\n",
      "Generating Image Number: 4 for target class tensor([2]). Step 0, Loss: 5.751474380493164\n",
      "Generating Image Number: 4 for target class tensor([2]). Step 50, Loss: 2.9856505393981934\n",
      "Generating Image Number: 4 for target class tensor([2]). Step 100, Loss: 2.7558138370513916\n",
      "Generating Image Number: 4 for target class tensor([2]). Step 150, Loss: 2.5694353580474854\n",
      "Generating Image Number: 4 for target class tensor([2]). Step 200, Loss: 2.405787944793701\n",
      "Generating Image Number: 4 for target class tensor([2]). Step 250, Loss: 2.226895809173584\n",
      "Generating Image Number: 4 for target class tensor([2]). Step 300, Loss: 2.055044412612915\n",
      "Generating Image Number: 4 for target class tensor([2]). Step 350, Loss: 1.944048523902893\n",
      "Generating Image Number: 4 for target class tensor([2]). Step 400, Loss: 1.793520450592041\n",
      "Generating Image Number: 4 for target class tensor([2]). Step 450, Loss: 1.4994124174118042\n",
      "Generating Image Number: 5 for target class tensor([2]). Step 0, Loss: 6.630183219909668\n",
      "Generating Image Number: 5 for target class tensor([2]). Step 50, Loss: 1.0308467149734497\n",
      "Generating Image Number: 5 for target class tensor([2]). Step 100, Loss: 0.5362470746040344\n",
      "Generating Image Number: 5 for target class tensor([2]). Step 150, Loss: 0.35163697600364685\n",
      "Generating Image Number: 5 for target class tensor([2]). Step 200, Loss: 0.25294029712677\n",
      "Generating Image Number: 5 for target class tensor([2]). Step 250, Loss: 0.18920503556728363\n",
      "Generating Image Number: 5 for target class tensor([2]). Step 300, Loss: 0.1571761965751648\n",
      "Generating Image Number: 5 for target class tensor([2]). Step 350, Loss: 0.12986810505390167\n",
      "Generating Image Number: 5 for target class tensor([2]). Step 400, Loss: 0.1113119125366211\n",
      "Generating Image Number: 5 for target class tensor([2]). Step 450, Loss: 0.09292860329151154\n",
      "Generating Image Number: 6 for target class tensor([2]). Step 0, Loss: 2.529749870300293\n",
      "Generating Image Number: 6 for target class tensor([2]). Step 50, Loss: 0.28565722703933716\n",
      "Generating Image Number: 6 for target class tensor([2]). Step 100, Loss: 0.15363195538520813\n",
      "Generating Image Number: 6 for target class tensor([2]). Step 150, Loss: 0.0957416445016861\n",
      "Generating Image Number: 6 for target class tensor([2]). Step 200, Loss: 0.06787514686584473\n",
      "Generating Image Number: 6 for target class tensor([2]). Step 250, Loss: 0.04897129908204079\n",
      "Generating Image Number: 6 for target class tensor([2]). Step 300, Loss: 0.03915935009717941\n",
      "Generating Image Number: 6 for target class tensor([2]). Step 350, Loss: 0.03319913521409035\n",
      "Generating Image Number: 6 for target class tensor([2]). Step 400, Loss: 0.0272838044911623\n",
      "Generating Image Number: 6 for target class tensor([2]). Step 450, Loss: 0.02345588617026806\n",
      "Generating Image Number: 7 for target class tensor([2]). Step 0, Loss: 5.587636947631836\n",
      "Generating Image Number: 7 for target class tensor([2]). Step 50, Loss: 1.133911371231079\n",
      "Generating Image Number: 7 for target class tensor([2]). Step 100, Loss: 0.5667480826377869\n",
      "Generating Image Number: 7 for target class tensor([2]). Step 150, Loss: 0.28276291489601135\n",
      "Generating Image Number: 7 for target class tensor([2]). Step 200, Loss: 0.20382048189640045\n",
      "Generating Image Number: 7 for target class tensor([2]). Step 250, Loss: 0.1455896943807602\n",
      "Generating Image Number: 7 for target class tensor([2]). Step 300, Loss: 0.11002679169178009\n",
      "Generating Image Number: 7 for target class tensor([2]). Step 350, Loss: 0.08796852827072144\n",
      "Generating Image Number: 7 for target class tensor([2]). Step 400, Loss: 0.07243447750806808\n",
      "Generating Image Number: 7 for target class tensor([2]). Step 450, Loss: 0.06197119876742363\n",
      "Generating Image Number: 8 for target class tensor([2]). Step 0, Loss: 6.722355842590332\n",
      "Generating Image Number: 8 for target class tensor([2]). Step 50, Loss: 0.121254101395607\n",
      "Generating Image Number: 8 for target class tensor([2]). Step 100, Loss: 0.07541203498840332\n",
      "Generating Image Number: 8 for target class tensor([2]). Step 150, Loss: 0.05912836641073227\n",
      "Generating Image Number: 8 for target class tensor([2]). Step 200, Loss: 0.0479528047144413\n",
      "Generating Image Number: 8 for target class tensor([2]). Step 250, Loss: 0.040333859622478485\n",
      "Generating Image Number: 8 for target class tensor([2]). Step 300, Loss: 0.03396131843328476\n",
      "Generating Image Number: 8 for target class tensor([2]). Step 350, Loss: 0.01978706382215023\n",
      "Generating Image Number: 8 for target class tensor([2]). Step 400, Loss: 0.012547360733151436\n",
      "Generating Image Number: 8 for target class tensor([2]). Step 450, Loss: 0.010545836761593819\n",
      "Generating Image Number: 9 for target class tensor([2]). Step 0, Loss: 2.478865385055542\n",
      "Generating Image Number: 9 for target class tensor([2]). Step 50, Loss: 0.1856277585029602\n",
      "Generating Image Number: 9 for target class tensor([2]). Step 100, Loss: 0.11206182092428207\n",
      "Generating Image Number: 9 for target class tensor([2]). Step 150, Loss: 0.07815554738044739\n",
      "Generating Image Number: 9 for target class tensor([2]). Step 200, Loss: 0.05896879360079765\n",
      "Generating Image Number: 9 for target class tensor([2]). Step 250, Loss: 0.04694032296538353\n",
      "Generating Image Number: 9 for target class tensor([2]). Step 300, Loss: 0.03921001777052879\n",
      "Generating Image Number: 9 for target class tensor([2]). Step 350, Loss: 0.03223462402820587\n",
      "Generating Image Number: 9 for target class tensor([2]). Step 400, Loss: 0.027983857318758965\n",
      "Generating Image Number: 9 for target class tensor([2]). Step 450, Loss: 0.024072159081697464\n",
      "Generating Image Number: 10 for target class tensor([2]). Step 0, Loss: 5.390788555145264\n",
      "Generating Image Number: 10 for target class tensor([2]). Step 50, Loss: 1.9904698133468628\n",
      "Generating Image Number: 10 for target class tensor([2]). Step 100, Loss: 0.9555953145027161\n",
      "Generating Image Number: 10 for target class tensor([2]). Step 150, Loss: 0.5432692766189575\n",
      "Generating Image Number: 10 for target class tensor([2]). Step 200, Loss: 0.3788689374923706\n",
      "Generating Image Number: 10 for target class tensor([2]). Step 250, Loss: 0.2776833474636078\n",
      "Generating Image Number: 10 for target class tensor([2]). Step 300, Loss: 0.22235406935214996\n",
      "Generating Image Number: 10 for target class tensor([2]). Step 350, Loss: 0.1834317147731781\n",
      "Generating Image Number: 10 for target class tensor([2]). Step 400, Loss: 0.14189845323562622\n",
      "Generating Image Number: 10 for target class tensor([2]). Step 450, Loss: 0.10889985412359238\n",
      "Generating Image Number: 11 for target class tensor([2]). Step 0, Loss: 3.8424041271209717\n",
      "Generating Image Number: 11 for target class tensor([2]). Step 50, Loss: 3.0213801860809326\n",
      "Generating Image Number: 11 for target class tensor([2]). Step 100, Loss: 2.769212484359741\n",
      "Generating Image Number: 11 for target class tensor([2]). Step 150, Loss: 2.6000823974609375\n",
      "Generating Image Number: 11 for target class tensor([2]). Step 200, Loss: 2.49304461479187\n",
      "Generating Image Number: 11 for target class tensor([2]). Step 250, Loss: 2.3715507984161377\n",
      "Generating Image Number: 11 for target class tensor([2]). Step 300, Loss: 2.2258248329162598\n",
      "Generating Image Number: 11 for target class tensor([2]). Step 350, Loss: 2.10015869140625\n",
      "Generating Image Number: 11 for target class tensor([2]). Step 400, Loss: 1.9935909509658813\n",
      "Generating Image Number: 11 for target class tensor([2]). Step 450, Loss: 1.884378433227539\n",
      "Generating Image Number: 12 for target class tensor([2]). Step 0, Loss: 69.60516357421875\n",
      "Generating Image Number: 12 for target class tensor([2]). Step 50, Loss: 48.979103088378906\n",
      "Generating Image Number: 12 for target class tensor([2]). Step 100, Loss: 2.063991069793701\n",
      "Generating Image Number: 12 for target class tensor([2]). Step 150, Loss: 1.4628533124923706\n",
      "Generating Image Number: 12 for target class tensor([2]). Step 200, Loss: 1.3245539665222168\n",
      "Generating Image Number: 12 for target class tensor([2]). Step 250, Loss: 1.221003532409668\n",
      "Generating Image Number: 12 for target class tensor([2]). Step 300, Loss: 1.0966511964797974\n",
      "Generating Image Number: 12 for target class tensor([2]). Step 350, Loss: 0.9672182202339172\n",
      "Generating Image Number: 12 for target class tensor([2]). Step 400, Loss: 0.8607044816017151\n",
      "Generating Image Number: 12 for target class tensor([2]). Step 450, Loss: 0.767177402973175\n",
      "Generating Image Number: 13 for target class tensor([2]). Step 0, Loss: 9.789824485778809\n",
      "Generating Image Number: 13 for target class tensor([2]). Step 50, Loss: 0.8621843457221985\n",
      "Generating Image Number: 13 for target class tensor([2]). Step 100, Loss: 0.29816296696662903\n",
      "Generating Image Number: 13 for target class tensor([2]). Step 150, Loss: 0.16631156206130981\n",
      "Generating Image Number: 13 for target class tensor([2]). Step 200, Loss: 0.1064201146364212\n",
      "Generating Image Number: 13 for target class tensor([2]). Step 250, Loss: 0.08060147613286972\n",
      "Generating Image Number: 13 for target class tensor([2]). Step 300, Loss: 0.06677024811506271\n",
      "Generating Image Number: 13 for target class tensor([2]). Step 350, Loss: 0.057730019092559814\n",
      "Generating Image Number: 13 for target class tensor([2]). Step 400, Loss: 0.049403008073568344\n",
      "Generating Image Number: 13 for target class tensor([2]). Step 450, Loss: 0.044578053057193756\n",
      "Generating Image Number: 14 for target class tensor([2]). Step 0, Loss: 5.10775899887085\n",
      "Generating Image Number: 14 for target class tensor([2]). Step 50, Loss: 0.010479187592864037\n",
      "Generating Image Number: 14 for target class tensor([2]). Step 100, Loss: 0.005450981669127941\n",
      "Generating Image Number: 14 for target class tensor([2]). Step 150, Loss: 0.005088236648589373\n",
      "Generating Image Number: 14 for target class tensor([2]). Step 200, Loss: 0.0046483553014695644\n",
      "Generating Image Number: 14 for target class tensor([2]). Step 250, Loss: 0.004290779586881399\n",
      "Generating Image Number: 14 for target class tensor([2]). Step 300, Loss: 0.004027470946311951\n",
      "Generating Image Number: 14 for target class tensor([2]). Step 350, Loss: 0.003787725931033492\n",
      "Generating Image Number: 14 for target class tensor([2]). Step 400, Loss: 0.0035296303685754538\n",
      "Generating Image Number: 14 for target class tensor([2]). Step 450, Loss: 0.0033086577896028757\n",
      "Generating Image Number: 15 for target class tensor([2]). Step 0, Loss: 3.4220023155212402\n",
      "Generating Image Number: 15 for target class tensor([2]). Step 50, Loss: 0.010159092955291271\n",
      "Generating Image Number: 15 for target class tensor([2]). Step 100, Loss: 0.005367155186831951\n",
      "Generating Image Number: 15 for target class tensor([2]). Step 150, Loss: 0.0047572762705385685\n",
      "Generating Image Number: 15 for target class tensor([2]). Step 200, Loss: 0.004436531104147434\n",
      "Generating Image Number: 15 for target class tensor([2]). Step 250, Loss: 0.004145244136452675\n",
      "Generating Image Number: 15 for target class tensor([2]). Step 300, Loss: 0.003832021960988641\n",
      "Generating Image Number: 15 for target class tensor([2]). Step 350, Loss: 0.00355124962516129\n",
      "Generating Image Number: 15 for target class tensor([2]). Step 400, Loss: 0.0033004595898091793\n",
      "Generating Image Number: 15 for target class tensor([2]). Step 450, Loss: 0.0030685027595609426\n",
      "Generating Image Number: 16 for target class tensor([2]). Step 0, Loss: 3.86283802986145\n",
      "Generating Image Number: 16 for target class tensor([2]). Step 50, Loss: 0.2369592934846878\n",
      "Generating Image Number: 16 for target class tensor([2]). Step 100, Loss: 0.11250261217355728\n",
      "Generating Image Number: 16 for target class tensor([2]). Step 150, Loss: 0.06921044737100601\n",
      "Generating Image Number: 16 for target class tensor([2]). Step 200, Loss: 0.04850919917225838\n",
      "Generating Image Number: 16 for target class tensor([2]). Step 250, Loss: 0.03439943492412567\n",
      "Generating Image Number: 16 for target class tensor([2]). Step 300, Loss: 0.025289040058851242\n",
      "Generating Image Number: 16 for target class tensor([2]). Step 350, Loss: 0.019192585721611977\n",
      "Generating Image Number: 16 for target class tensor([2]). Step 400, Loss: 0.015640567988157272\n",
      "Generating Image Number: 16 for target class tensor([2]). Step 450, Loss: 0.013104741461575031\n",
      "Generating Image Number: 17 for target class tensor([2]). Step 0, Loss: 0.48356425762176514\n",
      "Generating Image Number: 17 for target class tensor([2]). Step 50, Loss: 0.04385233297944069\n",
      "Generating Image Number: 17 for target class tensor([2]). Step 100, Loss: 0.027624672278761864\n",
      "Generating Image Number: 17 for target class tensor([2]). Step 150, Loss: 0.01724100485444069\n",
      "Generating Image Number: 17 for target class tensor([2]). Step 200, Loss: 0.011612676084041595\n",
      "Generating Image Number: 17 for target class tensor([2]). Step 250, Loss: 0.008531078696250916\n",
      "Generating Image Number: 17 for target class tensor([2]). Step 300, Loss: 0.006494368892163038\n",
      "Generating Image Number: 17 for target class tensor([2]). Step 350, Loss: 0.005233279429376125\n",
      "Generating Image Number: 17 for target class tensor([2]). Step 400, Loss: 0.004486257676035166\n",
      "Generating Image Number: 17 for target class tensor([2]). Step 450, Loss: 0.003983421251177788\n",
      "Generating Image Number: 18 for target class tensor([2]). Step 0, Loss: 64.85803985595703\n",
      "Generating Image Number: 18 for target class tensor([2]). Step 50, Loss: 58.614009857177734\n",
      "Generating Image Number: 18 for target class tensor([2]). Step 100, Loss: 56.396583557128906\n",
      "Generating Image Number: 18 for target class tensor([2]). Step 150, Loss: 54.2122917175293\n",
      "Generating Image Number: 18 for target class tensor([2]). Step 200, Loss: 49.92374801635742\n",
      "Generating Image Number: 18 for target class tensor([2]). Step 250, Loss: 0.17429310083389282\n",
      "Generating Image Number: 18 for target class tensor([2]). Step 300, Loss: 0.0352320596575737\n",
      "Generating Image Number: 18 for target class tensor([2]). Step 350, Loss: 0.00896228477358818\n",
      "Generating Image Number: 18 for target class tensor([2]). Step 400, Loss: 0.006248106714338064\n",
      "Generating Image Number: 18 for target class tensor([2]). Step 450, Loss: 0.004730225075036287\n",
      "Generating Image Number: 19 for target class tensor([2]). Step 0, Loss: 0.4528157114982605\n",
      "Generating Image Number: 19 for target class tensor([2]). Step 50, Loss: 0.010953536257147789\n",
      "Generating Image Number: 19 for target class tensor([2]). Step 100, Loss: 0.007868011482059956\n",
      "Generating Image Number: 19 for target class tensor([2]). Step 150, Loss: 0.006171455606818199\n",
      "Generating Image Number: 19 for target class tensor([2]). Step 200, Loss: 0.0048377132043242455\n",
      "Generating Image Number: 19 for target class tensor([2]). Step 250, Loss: 0.003886884544044733\n",
      "Generating Image Number: 19 for target class tensor([2]). Step 300, Loss: 0.0033333711326122284\n",
      "Generating Image Number: 19 for target class tensor([2]). Step 350, Loss: 0.00295321736484766\n",
      "Generating Image Number: 19 for target class tensor([2]). Step 400, Loss: 0.002585760550573468\n",
      "Generating Image Number: 19 for target class tensor([2]). Step 450, Loss: 0.002300713211297989\n",
      "Generating Image Number: 20 for target class tensor([2]). Step 0, Loss: 2.2955305576324463\n",
      "Generating Image Number: 20 for target class tensor([2]). Step 50, Loss: 0.03514436259865761\n",
      "Generating Image Number: 20 for target class tensor([2]). Step 100, Loss: 0.02533041685819626\n",
      "Generating Image Number: 20 for target class tensor([2]). Step 150, Loss: 0.019183814525604248\n",
      "Generating Image Number: 20 for target class tensor([2]). Step 200, Loss: 0.015048079192638397\n",
      "Generating Image Number: 20 for target class tensor([2]). Step 250, Loss: 0.012498151510953903\n",
      "Generating Image Number: 20 for target class tensor([2]). Step 300, Loss: 0.01065836288034916\n",
      "Generating Image Number: 20 for target class tensor([2]). Step 350, Loss: 0.009259731508791447\n",
      "Generating Image Number: 20 for target class tensor([2]). Step 400, Loss: 0.00829323846846819\n",
      "Generating Image Number: 20 for target class tensor([2]). Step 450, Loss: 0.007416454143822193\n"
     ]
    }
   ],
   "source": [
    "torch.manual_seed(200)\n",
    "latent_vectors = torch.randn(img_count, z_dim, 1, 1, requires_grad=True) # Start with 20 random noises\n",
    "class2_optimized_latent_vectors = recover_images(img_count, 2, latent_vectors)"
   ]
  },
  {
   "cell_type": "code",
   "execution_count": 23,
   "id": "0381b36d-6c92-43bc-b776-1eefd3eab451",
   "metadata": {
    "scrolled": true
   },
   "outputs": [
    {
     "name": "stdout",
     "output_type": "stream",
     "text": [
      "Generating Image Number: 1 for target class tensor([3]). Step 0, Loss: 0.00011717586312443018\n",
      "Generating Image Number: 1 for target class tensor([3]). Step 50, Loss: 1.6689286894688848e-06\n",
      "Generating Image Number: 1 for target class tensor([3]). Step 100, Loss: 1.5497195136049413e-06\n",
      "Generating Image Number: 1 for target class tensor([3]). Step 150, Loss: 1.311301275563892e-06\n",
      "Generating Image Number: 1 for target class tensor([3]). Step 200, Loss: 1.1920922133867862e-06\n",
      "Generating Image Number: 1 for target class tensor([3]). Step 250, Loss: 1.0728830375228426e-06\n",
      "Generating Image Number: 1 for target class tensor([3]). Step 300, Loss: 9.536738616588991e-07\n",
      "Generating Image Number: 1 for target class tensor([3]). Step 350, Loss: 7.152555099310121e-07\n",
      "Generating Image Number: 1 for target class tensor([3]). Step 400, Loss: 7.152555099310121e-07\n",
      "Generating Image Number: 1 for target class tensor([3]). Step 450, Loss: 7.152555099310121e-07\n",
      "Generating Image Number: 2 for target class tensor([3]). Step 0, Loss: 0.24034635722637177\n",
      "Generating Image Number: 2 for target class tensor([3]). Step 50, Loss: 0.05265987664461136\n",
      "Generating Image Number: 2 for target class tensor([3]). Step 100, Loss: 0.0011094611836597323\n",
      "Generating Image Number: 2 for target class tensor([3]). Step 150, Loss: 0.0003649522550404072\n",
      "Generating Image Number: 2 for target class tensor([3]). Step 200, Loss: 0.0002885640424210578\n",
      "Generating Image Number: 2 for target class tensor([3]). Step 250, Loss: 0.00027056847466155887\n",
      "Generating Image Number: 2 for target class tensor([3]). Step 300, Loss: 0.00025340684805996716\n",
      "Generating Image Number: 2 for target class tensor([3]). Step 350, Loss: 0.00024434918304905295\n",
      "Generating Image Number: 2 for target class tensor([3]). Step 400, Loss: 0.00023910524032544345\n",
      "Generating Image Number: 2 for target class tensor([3]). Step 450, Loss: 0.00023266946664080024\n",
      "Generating Image Number: 3 for target class tensor([3]). Step 0, Loss: 0.9704069495201111\n",
      "Generating Image Number: 3 for target class tensor([3]). Step 50, Loss: 0.015413451008498669\n",
      "Generating Image Number: 3 for target class tensor([3]). Step 100, Loss: 0.011448521167039871\n",
      "Generating Image Number: 3 for target class tensor([3]). Step 150, Loss: 0.007890483364462852\n",
      "Generating Image Number: 3 for target class tensor([3]). Step 200, Loss: 0.006176905706524849\n",
      "Generating Image Number: 3 for target class tensor([3]). Step 250, Loss: 0.005218930076807737\n",
      "Generating Image Number: 3 for target class tensor([3]). Step 300, Loss: 0.004490411374717951\n",
      "Generating Image Number: 3 for target class tensor([3]). Step 350, Loss: 0.003919895738363266\n",
      "Generating Image Number: 3 for target class tensor([3]). Step 400, Loss: 0.0035189392510801554\n",
      "Generating Image Number: 3 for target class tensor([3]). Step 450, Loss: 0.0031544233206659555\n",
      "Generating Image Number: 4 for target class tensor([3]). Step 0, Loss: 0.06605967879295349\n",
      "Generating Image Number: 4 for target class tensor([3]). Step 50, Loss: 0.020188095048069954\n",
      "Generating Image Number: 4 for target class tensor([3]). Step 100, Loss: 0.013914600946009159\n",
      "Generating Image Number: 4 for target class tensor([3]). Step 150, Loss: 0.010809911414980888\n",
      "Generating Image Number: 4 for target class tensor([3]). Step 200, Loss: 0.009033051319420338\n",
      "Generating Image Number: 4 for target class tensor([3]). Step 250, Loss: 0.007672838866710663\n",
      "Generating Image Number: 4 for target class tensor([3]). Step 300, Loss: 0.00697972672060132\n",
      "Generating Image Number: 4 for target class tensor([3]). Step 350, Loss: 0.006323330104351044\n",
      "Generating Image Number: 4 for target class tensor([3]). Step 400, Loss: 0.005568468943238258\n",
      "Generating Image Number: 4 for target class tensor([3]). Step 450, Loss: 0.004877336323261261\n",
      "Generating Image Number: 5 for target class tensor([3]). Step 0, Loss: 0.00016819016309455037\n",
      "Generating Image Number: 5 for target class tensor([3]). Step 50, Loss: 2.8729025871143676e-05\n",
      "Generating Image Number: 5 for target class tensor([3]). Step 100, Loss: 1.585470999998506e-05\n",
      "Generating Image Number: 5 for target class tensor([3]). Step 150, Loss: 1.168244216387393e-05\n",
      "Generating Image Number: 5 for target class tensor([3]). Step 200, Loss: 9.65590606938349e-06\n",
      "Generating Image Number: 5 for target class tensor([3]). Step 250, Loss: 7.986990567587782e-06\n",
      "Generating Image Number: 5 for target class tensor([3]). Step 300, Loss: 6.6756979322235566e-06\n",
      "Generating Image Number: 5 for target class tensor([3]). Step 350, Loss: 5.722029527532868e-06\n",
      "Generating Image Number: 5 for target class tensor([3]). Step 400, Loss: 5.125986263010418e-06\n",
      "Generating Image Number: 5 for target class tensor([3]). Step 450, Loss: 4.6491513785440475e-06\n",
      "Generating Image Number: 6 for target class tensor([3]). Step 0, Loss: 0.023343859240412712\n",
      "Generating Image Number: 6 for target class tensor([3]). Step 50, Loss: 2.455681169521995e-05\n",
      "Generating Image Number: 6 for target class tensor([3]). Step 100, Loss: 2.098061486321967e-05\n",
      "Generating Image Number: 6 for target class tensor([3]). Step 150, Loss: 1.9550132492440753e-05\n",
      "Generating Image Number: 6 for target class tensor([3]). Step 200, Loss: 1.8954096958623268e-05\n",
      "Generating Image Number: 6 for target class tensor([3]). Step 250, Loss: 1.7762025890988298e-05\n",
      "Generating Image Number: 6 for target class tensor([3]). Step 300, Loss: 1.6927575416048057e-05\n",
      "Generating Image Number: 6 for target class tensor([3]). Step 350, Loss: 1.6093124941107817e-05\n",
      "Generating Image Number: 6 for target class tensor([3]). Step 400, Loss: 1.5139465176616795e-05\n",
      "Generating Image Number: 6 for target class tensor([3]). Step 450, Loss: 1.4185804502631072e-05\n",
      "Generating Image Number: 7 for target class tensor([3]). Step 0, Loss: 0.0008017186191864312\n",
      "Generating Image Number: 7 for target class tensor([3]). Step 50, Loss: 1.4185804502631072e-05\n",
      "Generating Image Number: 7 for target class tensor([3]). Step 100, Loss: 6.079655122448457e-06\n",
      "Generating Image Number: 7 for target class tensor([3]). Step 150, Loss: 3.814689989667386e-06\n",
      "Generating Image Number: 7 for target class tensor([3]). Step 200, Loss: 2.7418097943154862e-06\n",
      "Generating Image Number: 7 for target class tensor([3]). Step 250, Loss: 2.264974000354414e-06\n",
      "Generating Image Number: 7 for target class tensor([3]). Step 300, Loss: 1.7881377516459906e-06\n",
      "Generating Image Number: 7 for target class tensor([3]). Step 350, Loss: 1.5497195136049413e-06\n",
      "Generating Image Number: 7 for target class tensor([3]). Step 400, Loss: 1.311301275563892e-06\n",
      "Generating Image Number: 7 for target class tensor([3]). Step 450, Loss: 1.1920922133867862e-06\n",
      "Generating Image Number: 8 for target class tensor([3]). Step 0, Loss: 0.15582610666751862\n",
      "Generating Image Number: 8 for target class tensor([3]). Step 50, Loss: 0.0004210777406115085\n",
      "Generating Image Number: 8 for target class tensor([3]). Step 100, Loss: 0.00028272447525523603\n",
      "Generating Image Number: 8 for target class tensor([3]). Step 150, Loss: 0.0002734287118073553\n",
      "Generating Image Number: 8 for target class tensor([3]). Step 200, Loss: 0.00026639728457666934\n",
      "Generating Image Number: 8 for target class tensor([3]). Step 250, Loss: 0.0002598424907773733\n",
      "Generating Image Number: 8 for target class tensor([3]). Step 300, Loss: 0.0002531684876885265\n",
      "Generating Image Number: 8 for target class tensor([3]). Step 350, Loss: 0.00024768622824922204\n",
      "Generating Image Number: 8 for target class tensor([3]). Step 400, Loss: 0.00024041623692028224\n",
      "Generating Image Number: 8 for target class tensor([3]). Step 450, Loss: 0.00023326536756940186\n",
      "Generating Image Number: 9 for target class tensor([3]). Step 0, Loss: 0.07429065555334091\n",
      "Generating Image Number: 9 for target class tensor([3]). Step 50, Loss: 0.03512272611260414\n",
      "Generating Image Number: 9 for target class tensor([3]). Step 100, Loss: 0.026854626834392548\n",
      "Generating Image Number: 9 for target class tensor([3]). Step 150, Loss: 0.023201536387205124\n",
      "Generating Image Number: 9 for target class tensor([3]). Step 200, Loss: 0.019962593913078308\n",
      "Generating Image Number: 9 for target class tensor([3]). Step 250, Loss: 0.01724838651716709\n",
      "Generating Image Number: 9 for target class tensor([3]). Step 300, Loss: 0.01505183707922697\n",
      "Generating Image Number: 9 for target class tensor([3]). Step 350, Loss: 0.013832421973347664\n",
      "Generating Image Number: 9 for target class tensor([3]). Step 400, Loss: 0.012955070473253727\n",
      "Generating Image Number: 9 for target class tensor([3]). Step 450, Loss: 0.01222686842083931\n",
      "Generating Image Number: 10 for target class tensor([3]). Step 0, Loss: 0.07061716914176941\n",
      "Generating Image Number: 10 for target class tensor([3]). Step 50, Loss: 0.00023576818057335913\n",
      "Generating Image Number: 10 for target class tensor([3]). Step 100, Loss: 0.0001829695247579366\n",
      "Generating Image Number: 10 for target class tensor([3]). Step 150, Loss: 0.00017450717859901488\n",
      "Generating Image Number: 10 for target class tensor([3]). Step 200, Loss: 0.0001677133986959234\n",
      "Generating Image Number: 10 for target class tensor([3]). Step 250, Loss: 0.00015567521040793508\n",
      "Generating Image Number: 10 for target class tensor([3]). Step 300, Loss: 0.00014661667228210717\n",
      "Generating Image Number: 10 for target class tensor([3]). Step 350, Loss: 0.00014053787162993103\n",
      "Generating Image Number: 10 for target class tensor([3]). Step 400, Loss: 0.00013469743134919554\n",
      "Generating Image Number: 10 for target class tensor([3]). Step 450, Loss: 0.00012885693286079913\n",
      "Generating Image Number: 11 for target class tensor([3]). Step 0, Loss: 0.17907492816448212\n",
      "Generating Image Number: 11 for target class tensor([3]). Step 50, Loss: 0.04945848882198334\n",
      "Generating Image Number: 11 for target class tensor([3]). Step 100, Loss: 0.03778879716992378\n",
      "Generating Image Number: 11 for target class tensor([3]). Step 150, Loss: 0.03232130408287048\n",
      "Generating Image Number: 11 for target class tensor([3]). Step 200, Loss: 0.02868816815316677\n",
      "Generating Image Number: 11 for target class tensor([3]). Step 250, Loss: 0.025574233382940292\n",
      "Generating Image Number: 11 for target class tensor([3]). Step 300, Loss: 0.023133397102355957\n",
      "Generating Image Number: 11 for target class tensor([3]). Step 350, Loss: 0.02125987410545349\n",
      "Generating Image Number: 11 for target class tensor([3]). Step 400, Loss: 0.019938988611102104\n",
      "Generating Image Number: 11 for target class tensor([3]). Step 450, Loss: 0.01895013265311718\n",
      "Generating Image Number: 12 for target class tensor([3]). Step 0, Loss: 3.9218897819519043\n",
      "Generating Image Number: 12 for target class tensor([3]). Step 50, Loss: 0.07391119003295898\n",
      "Generating Image Number: 12 for target class tensor([3]). Step 100, Loss: 0.036823417991399765\n",
      "Generating Image Number: 12 for target class tensor([3]). Step 150, Loss: 0.02803671360015869\n",
      "Generating Image Number: 12 for target class tensor([3]). Step 200, Loss: 0.022435767576098442\n",
      "Generating Image Number: 12 for target class tensor([3]). Step 250, Loss: 0.0183738823980093\n",
      "Generating Image Number: 12 for target class tensor([3]). Step 300, Loss: 0.015610170550644398\n",
      "Generating Image Number: 12 for target class tensor([3]). Step 350, Loss: 0.013320148922502995\n",
      "Generating Image Number: 12 for target class tensor([3]). Step 400, Loss: 0.011022865772247314\n",
      "Generating Image Number: 12 for target class tensor([3]). Step 450, Loss: 0.009780817665159702\n",
      "Generating Image Number: 13 for target class tensor([3]). Step 0, Loss: 0.15397129952907562\n",
      "Generating Image Number: 13 for target class tensor([3]). Step 50, Loss: 0.00010132275929208845\n",
      "Generating Image Number: 13 for target class tensor([3]). Step 100, Loss: 8.844937838148326e-05\n",
      "Generating Image Number: 13 for target class tensor([3]). Step 150, Loss: 8.070142939686775e-05\n",
      "Generating Image Number: 13 for target class tensor([3]). Step 200, Loss: 7.760223525110632e-05\n",
      "Generating Image Number: 13 for target class tensor([3]). Step 250, Loss: 7.70062324590981e-05\n",
      "Generating Image Number: 13 for target class tensor([3]). Step 300, Loss: 7.60526381782256e-05\n",
      "Generating Image Number: 13 for target class tensor([3]). Step 350, Loss: 7.509902934543788e-05\n",
      "Generating Image Number: 13 for target class tensor([3]). Step 400, Loss: 7.414542778860778e-05\n",
      "Generating Image Number: 13 for target class tensor([3]). Step 450, Loss: 7.319182623177767e-05\n",
      "Generating Image Number: 14 for target class tensor([3]). Step 0, Loss: 0.16584327816963196\n",
      "Generating Image Number: 14 for target class tensor([3]). Step 50, Loss: 0.05994189530611038\n",
      "Generating Image Number: 14 for target class tensor([3]). Step 100, Loss: 0.03703813999891281\n",
      "Generating Image Number: 14 for target class tensor([3]). Step 150, Loss: 0.026160402223467827\n",
      "Generating Image Number: 14 for target class tensor([3]). Step 200, Loss: 0.019966449588537216\n",
      "Generating Image Number: 14 for target class tensor([3]). Step 250, Loss: 0.015231838449835777\n",
      "Generating Image Number: 14 for target class tensor([3]). Step 300, Loss: 0.012623406946659088\n",
      "Generating Image Number: 14 for target class tensor([3]). Step 350, Loss: 0.01091828104108572\n",
      "Generating Image Number: 14 for target class tensor([3]). Step 400, Loss: 0.009448808617889881\n",
      "Generating Image Number: 14 for target class tensor([3]). Step 450, Loss: 0.00839313305914402\n",
      "Generating Image Number: 15 for target class tensor([3]). Step 0, Loss: 0.0012401993153616786\n",
      "Generating Image Number: 15 for target class tensor([3]). Step 50, Loss: 0.00027807659353129566\n",
      "Generating Image Number: 15 for target class tensor([3]). Step 100, Loss: 0.00017331528943032026\n",
      "Generating Image Number: 15 for target class tensor([3]). Step 150, Loss: 0.00012432756193447858\n",
      "Generating Image Number: 15 for target class tensor([3]). Step 200, Loss: 9.929640509653836e-05\n",
      "Generating Image Number: 15 for target class tensor([3]). Step 250, Loss: 8.356221951544285e-05\n",
      "Generating Image Number: 15 for target class tensor([3]). Step 300, Loss: 7.283422019099817e-05\n",
      "Generating Image Number: 15 for target class tensor([3]). Step 350, Loss: 6.496695277746767e-05\n",
      "Generating Image Number: 15 for target class tensor([3]). Step 400, Loss: 5.876845170860179e-05\n",
      "Generating Image Number: 15 for target class tensor([3]). Step 450, Loss: 5.352353764465079e-05\n",
      "Generating Image Number: 16 for target class tensor([3]). Step 0, Loss: 4.160150051116943\n",
      "Generating Image Number: 16 for target class tensor([3]). Step 50, Loss: 0.6323896646499634\n",
      "Generating Image Number: 16 for target class tensor([3]). Step 100, Loss: 0.3469756543636322\n",
      "Generating Image Number: 16 for target class tensor([3]). Step 150, Loss: 0.28306296467781067\n",
      "Generating Image Number: 16 for target class tensor([3]). Step 200, Loss: 0.20859086513519287\n",
      "Generating Image Number: 16 for target class tensor([3]). Step 250, Loss: 0.17325158417224884\n",
      "Generating Image Number: 16 for target class tensor([3]). Step 300, Loss: 0.14956024289131165\n",
      "Generating Image Number: 16 for target class tensor([3]). Step 350, Loss: 0.08039260655641556\n",
      "Generating Image Number: 16 for target class tensor([3]). Step 400, Loss: 0.059371381998062134\n",
      "Generating Image Number: 16 for target class tensor([3]). Step 450, Loss: 0.05083105340600014\n",
      "Generating Image Number: 17 for target class tensor([3]). Step 0, Loss: 0.09377284348011017\n",
      "Generating Image Number: 17 for target class tensor([3]). Step 50, Loss: 0.001679201959632337\n",
      "Generating Image Number: 17 for target class tensor([3]). Step 100, Loss: 0.0010718321427702904\n",
      "Generating Image Number: 17 for target class tensor([3]). Step 150, Loss: 0.0009333306807093322\n",
      "Generating Image Number: 17 for target class tensor([3]). Step 200, Loss: 0.00082601752365008\n",
      "Generating Image Number: 17 for target class tensor([3]). Step 250, Loss: 0.0007269124034792185\n",
      "Generating Image Number: 17 for target class tensor([3]). Step 300, Loss: 0.000614216027315706\n",
      "Generating Image Number: 17 for target class tensor([3]). Step 350, Loss: 0.000547378440387547\n",
      "Generating Image Number: 17 for target class tensor([3]). Step 400, Loss: 0.0004984090337529778\n",
      "Generating Image Number: 17 for target class tensor([3]). Step 450, Loss: 0.00045217780279926956\n",
      "Generating Image Number: 18 for target class tensor([3]). Step 0, Loss: 1.417107105255127\n",
      "Generating Image Number: 18 for target class tensor([3]). Step 50, Loss: 0.1980556696653366\n",
      "Generating Image Number: 18 for target class tensor([3]). Step 100, Loss: 0.13136155903339386\n",
      "Generating Image Number: 18 for target class tensor([3]). Step 150, Loss: 0.08442184329032898\n",
      "Generating Image Number: 18 for target class tensor([3]). Step 200, Loss: 0.0659460797905922\n",
      "Generating Image Number: 18 for target class tensor([3]). Step 250, Loss: 0.05204717069864273\n",
      "Generating Image Number: 18 for target class tensor([3]). Step 300, Loss: 0.04130340740084648\n",
      "Generating Image Number: 18 for target class tensor([3]). Step 350, Loss: 0.03451357036828995\n",
      "Generating Image Number: 18 for target class tensor([3]). Step 400, Loss: 0.030127229169011116\n",
      "Generating Image Number: 18 for target class tensor([3]). Step 450, Loss: 0.02710654027760029\n",
      "Generating Image Number: 19 for target class tensor([3]). Step 0, Loss: 1.890868902206421\n",
      "Generating Image Number: 19 for target class tensor([3]). Step 50, Loss: 0.2569507956504822\n",
      "Generating Image Number: 19 for target class tensor([3]). Step 100, Loss: 0.11810415983200073\n",
      "Generating Image Number: 19 for target class tensor([3]). Step 150, Loss: 0.07372406125068665\n",
      "Generating Image Number: 19 for target class tensor([3]). Step 200, Loss: 0.05570211261510849\n",
      "Generating Image Number: 19 for target class tensor([3]). Step 250, Loss: 0.044211097061634064\n",
      "Generating Image Number: 19 for target class tensor([3]). Step 300, Loss: 0.03685582056641579\n",
      "Generating Image Number: 19 for target class tensor([3]). Step 350, Loss: 0.030597208067774773\n",
      "Generating Image Number: 19 for target class tensor([3]). Step 400, Loss: 0.026553429663181305\n",
      "Generating Image Number: 19 for target class tensor([3]). Step 450, Loss: 0.023545894771814346\n",
      "Generating Image Number: 20 for target class tensor([3]). Step 0, Loss: 1.8476067781448364\n",
      "Generating Image Number: 20 for target class tensor([3]). Step 50, Loss: 0.0005758534534834325\n",
      "Generating Image Number: 20 for target class tensor([3]). Step 100, Loss: 0.00045074793160893023\n",
      "Generating Image Number: 20 for target class tensor([3]). Step 150, Loss: 0.00039295581518672407\n",
      "Generating Image Number: 20 for target class tensor([3]). Step 200, Loss: 0.0003716255014296621\n",
      "Generating Image Number: 20 for target class tensor([3]). Step 250, Loss: 0.0003570872650016099\n",
      "Generating Image Number: 20 for target class tensor([3]). Step 300, Loss: 0.00033909291960299015\n",
      "Generating Image Number: 20 for target class tensor([3]). Step 350, Loss: 0.0003219324571546167\n",
      "Generating Image Number: 20 for target class tensor([3]). Step 400, Loss: 0.00030763185350224376\n",
      "Generating Image Number: 20 for target class tensor([3]). Step 450, Loss: 0.00029345019720494747\n"
     ]
    }
   ],
   "source": [
    "torch.manual_seed(300)\n",
    "latent_vectors = torch.randn(img_count, z_dim, 1, 1, requires_grad=True) # Start with 20 random noises\n",
    "class3_optimized_latent_vectors = recover_images(img_count, 3, latent_vectors)"
   ]
  },
  {
   "cell_type": "code",
   "execution_count": 24,
   "id": "ae6425a5-dd86-4e87-8112-883336345ac9",
   "metadata": {},
   "outputs": [],
   "source": [
    "z0_1 = class0_optimized_latent_vectors[0]\n",
    "z0_2 = class0_optimized_latent_vectors[1]\n",
    "z0_3 = class0_optimized_latent_vectors[2]"
   ]
  },
  {
   "cell_type": "code",
   "execution_count": 25,
   "id": "3a6ed4fb-b693-4963-afcf-17a512e50b5f",
   "metadata": {},
   "outputs": [
    {
     "name": "stdout",
     "output_type": "stream",
     "text": [
      "torch.Size([64, 64])\n"
     ]
    }
   ],
   "source": [
    "# Display the generated image\n",
    "img = gen(z0_1.to(device)).squeeze(dim=0).squeeze(dim=0)\n",
    "print(img.shape)"
   ]
  },
  {
   "cell_type": "code",
   "execution_count": 26,
   "id": "88fc9416-c6ca-486b-bd72-63885de78d1c",
   "metadata": {},
   "outputs": [
    {
     "data": {
      "text/plain": [
       "<matplotlib.image.AxesImage at 0x1bf8104ae80>"
      ]
     },
     "execution_count": 26,
     "metadata": {},
     "output_type": "execute_result"
    },
    {
     "data": {
      "image/png": "[encoded data removed]",
      "text/plain": [
       "<Figure size 640x480 with 1 Axes>"
      ]
     },
     "metadata": {},
     "output_type": "display_data"
    }
   ],
   "source": [
    "plt.axis(False)\n",
    "plt.title('Recovered Image:')\n",
    "plt.imshow(img.cpu().detach(), cmap='gray')"
   ]
  },
  {
   "cell_type": "code",
   "execution_count": 27,
   "id": "bb0fc370-78c5-495f-b1e7-1239873b4ff8",
   "metadata": {},
   "outputs": [],
   "source": [
    "z1 = class1_optimized_latent_vectors[0]\n",
    "z2 = class1_optimized_latent_vectors[1]\n",
    "z3 = class1_optimized_latent_vectors[2]"
   ]
  },
  {
   "cell_type": "code",
   "execution_count": 28,
   "id": "07f38b7d-14f6-4d63-9efa-cb96ec2e1d35",
   "metadata": {},
   "outputs": [
    {
     "name": "stdout",
     "output_type": "stream",
     "text": [
      "torch.Size([64, 64])\n"
     ]
    }
   ],
   "source": [
    "# Display the generated image\n",
    "img = gen(z1.to(device)).squeeze(dim=0).squeeze(dim=0)\n",
    "print(img.shape)"
   ]
  },
  {
   "cell_type": "code",
   "execution_count": 29,
   "id": "8cad57ff-7961-4078-9dd4-1e0b4879ff56",
   "metadata": {},
   "outputs": [
    {
     "data": {
      "text/plain": [
       "<matplotlib.image.AxesImage at 0x1bf811c2e80>"
      ]
     },
     "execution_count": 29,
     "metadata": {},
     "output_type": "execute_result"
    },
    {
     "data": {
      "image/png": "[encoded data removed]",
      "text/plain": [
       "<Figure size 640x480 with 1 Axes>"
      ]
     },
     "metadata": {},
     "output_type": "display_data"
    }
   ],
   "source": [
    "plt.axis(False)\n",
    "plt.title('Recovered Image:')\n",
    "plt.imshow(img.cpu().detach(), cmap='gray')"
   ]
  },
  {
   "cell_type": "code",
   "execution_count": 30,
   "id": "52ecd67d-cb2d-44a3-b375-759d63db75b1",
   "metadata": {},
   "outputs": [],
   "source": [
    "                                                            # Dataset Loading\n",
    "# Load the .pkl files in as numpy arrays of pixels\n",
    "def load_tumor_data(file_path):\n",
    "    train_xs = []\n",
    "    train_ys = []\n",
    "    \"\"\" Load Digits Data from pickle data\n",
    "    return:\n",
    "    @xs: numpy.array, (n, c, w, h) \n",
    "    @ys: numpy.array, (n, ), 0-9\n",
    "    \"\"\"\n",
    "    with open(file_path, 'rb') as file:\n",
    "        data = pickle.load(file)\n",
    "        train_xs.append(data[\"data\"])\n",
    "        train_ys.append(data[\"labels\"])\n",
    "    train_xs = np.concatenate(train_xs, axis=0)\n",
    "    train_ys = np.concatenate(train_ys, axis=0)\n",
    "    \n",
    "    return train_xs, train_ys"
   ]
  },
  {
   "cell_type": "code",
   "execution_count": 31,
   "id": "ca72f62f-1eec-4b17-a8ce-fd66781f64f6",
   "metadata": {},
   "outputs": [],
   "source": [
    "# Custom Tumor Dataset\n",
    "class TumorDataset(data.Dataset):\n",
    "    def __init__(self, xs, ys, is_train=True):\n",
    "        self.xs = xs\n",
    "        self.ys = ys\n",
    "\n",
    "        if is_train is True:\n",
    "            self.transform = transforms.Compose([\n",
    "                transforms.ToPILImage(),\n",
    "                transforms.Resize((64, 64)),\n",
    "                transforms.ToTensor(),\n",
    "                transforms.Normalize(\n",
    "                    [0.5],\n",
    "                    [0.5]\n",
    "                )\n",
    "            ])\n",
    "        else:\n",
    "            self.transform = transforms.Compose([\n",
    "                transforms.ToPILImage(),\n",
    "                transforms.Resize((64, 64)),\n",
    "                transforms.ToTensor(),\n",
    "                transforms.Normalize(\n",
    "                    (0.4914, 0.4822, 0.4465),\n",
    "                    (0.2023, 0.1994, 0.2010)\n",
    "                )\n",
    "            ])\n",
    "\n",
    "    def __len__(self):\n",
    "        return len(self.xs)\n",
    "\n",
    "    def __getitem__(self, index):\n",
    "        img = self.xs[index]\n",
    "        #print(img.shape)\n",
    "        label = self.ys[index]\n",
    "\n",
    "        img = img.transpose((1, 2, 0)).astype(np.uint8)\n",
    "        img = self.transform(img)\n",
    "\n",
    "        img = torch.FloatTensor(img)\n",
    "        label = torch.LongTensor([label])[0]\n",
    "        return img, label"
   ]
  },
  {
   "cell_type": "code",
   "execution_count": 32,
   "id": "ceb91588-ef69-4373-b33f-74aed6c246bb",
   "metadata": {},
   "outputs": [],
   "source": [
    "def create_dataset(train_xs, train_ys):\n",
    "    tumor_dataset = TumorDataset(train_xs, train_ys, is_train=True)\n",
    "\n",
    "    return tumor_dataset"
   ]
  },
  {
   "cell_type": "code",
   "execution_count": 33,
   "id": "0415fba0-830c-42c6-bbde-c6958e779fbb",
   "metadata": {},
   "outputs": [],
   "source": [
    "def create_dataloader(dataset):\n",
    "    dataloader = DataLoader(dataset=dataset, batch_size=128, shuffle=True)\n",
    "\n",
    "    return dataloader"
   ]
  },
  {
   "cell_type": "code",
   "execution_count": 34,
   "id": "726d4995-5133-4037-ab0e-f2705470cdc9",
   "metadata": {},
   "outputs": [
    {
     "name": "stdout",
     "output_type": "stream",
     "text": [
      "(13927, 1, 32, 32)\n",
      "<class 'numpy.ndarray'>\n"
     ]
    }
   ],
   "source": [
    "# Load in the pickle dataset file\n",
    "train_xs, train_ys = load_tumor_data('datasets/Tumor/tumor4train.pkl')\n",
    "#train_xs = train_xs[:, 1, :, :]\n",
    "#train_xs = np.expand_dims(train_xs, axis=1)\n",
    "train_xs = train_xs.mean(axis=1, keepdims=True)\n",
    "print(train_xs.shape)\n",
    "print(type(train_xs))"
   ]
  },
  {
   "cell_type": "code",
   "execution_count": 35,
   "id": "a684b01a-eb4a-4210-9f59-d613085a404a",
   "metadata": {},
   "outputs": [],
   "source": [
    "# Create the dataset\n",
    "tumor_dataset = create_dataset(train_xs, train_ys)"
   ]
  },
  {
   "cell_type": "code",
   "execution_count": 36,
   "id": "193f07cc-d34f-425e-aa08-62b6d6adbad6",
   "metadata": {},
   "outputs": [],
   "source": [
    "def visualize_image(image_x):\n",
    "    # We have to visualize by reverting the normalization (just for visualization).\n",
    "    mean = torch.tensor([0.5])\n",
    "    std = torch.tensor([0.5])\n",
    "\n",
    "    image = image_x * std + mean  # Denormalize the image\n",
    "\n",
    "    image = torch.clamp(image, 0, 1) # Clip values to [0, 1] to ensure valid range for display\n",
    "\n",
    "    # Permute the image to (H, W, C) for matplotlib\n",
    "    \n",
    "    image = image.permute(1, 2, 0)\n",
    "\n",
    "    plt.imshow(image, cmap='gray')"
   ]
  },
  {
   "cell_type": "code",
   "execution_count": 37,
   "id": "16e93c17-a89b-46a2-8198-71e66e370f4f",
   "metadata": {},
   "outputs": [
    {
     "name": "stdout",
     "output_type": "stream",
     "text": [
      "torch.Size([1, 64, 64])\n"
     ]
    },
    {
     "data": {
      "image/png": "[encoded data removed]",
      "text/plain": [
       "<Figure size 640x480 with 1 Axes>"
      ]
     },
     "metadata": {},
     "output_type": "display_data"
    }
   ],
   "source": [
    "# Visualize the first tumor sample. \n",
    "image_x, image_y = tumor_dataset[7000]\n",
    "print(image_x.shape)\n",
    "visualize_image(image_x)"
   ]
  },
  {
   "cell_type": "code",
   "execution_count": 38,
   "id": "60e2da47-7cb6-493e-aeda-aa80d7965de7",
   "metadata": {},
   "outputs": [],
   "source": [
    "from scipy.spatial.distance import cosine"
   ]
  },
  {
   "cell_type": "code",
   "execution_count": 39,
   "id": "5a7937e5-b808-4b3e-8288-75dcd9862340",
   "metadata": {},
   "outputs": [],
   "source": [
    "# Get the feature embeddings\n",
    "tfcnn_model = target_model = load_target_model(base_net='TFCNN', n_classes=4, path='saved models/fedavg_global_model.pth').to(device)\n",
    "model_embeddings = tfcnn_model.encoder.to(device)"
   ]
  },
  {
   "cell_type": "code",
   "execution_count": 40,
   "id": "737e3d92-45b6-45f6-9bf2-d51f379d6ac8",
   "metadata": {},
   "outputs": [],
   "source": [
    "# Preprocessing\n",
    "preprocess = transforms.Compose([\n",
    "    transforms.Resize(256),\n",
    "    transforms.CenterCrop(224),\n",
    "    transforms.ToTensor(),\n",
    "])"
   ]
  },
  {
   "cell_type": "code",
   "execution_count": 41,
   "id": "babb1015-bdfb-439b-bea1-81f9f50dd74e",
   "metadata": {},
   "outputs": [],
   "source": [
    "def get_feature(img):\n",
    "    with torch.no_grad():\n",
    "        features = model_embeddings(img).squeeze()\n",
    "    return features.cpu().numpy()"
   ]
  },
  {
   "cell_type": "code",
   "execution_count": 42,
   "id": "79f38654-6670-440d-a322-b2cae18a71d8",
   "metadata": {},
   "outputs": [
    {
     "data": {
      "text/plain": [
       "torch.Size([1, 64, 64])"
      ]
     },
     "execution_count": 42,
     "metadata": {},
     "output_type": "execute_result"
    }
   ],
   "source": [
    "# Send an original image through the model\n",
    "image_x, image_y = tumor_dataset[10]\n",
    "image_x.shape"
   ]
  },
  {
   "cell_type": "code",
   "execution_count": 43,
   "id": "a4a2659e-dcaa-4d4a-b5a5-06b363ce6534",
   "metadata": {},
   "outputs": [],
   "source": [
    "image_x = image_x.unsqueeze(dim=0)"
   ]
  },
  {
   "cell_type": "code",
   "execution_count": 44,
   "id": "14348bfc-5988-48f0-88cf-4761d7a99d89",
   "metadata": {},
   "outputs": [
    {
     "data": {
      "text/plain": [
       "torch.Size([1, 1, 64, 64])"
      ]
     },
     "execution_count": 44,
     "metadata": {},
     "output_type": "execute_result"
    }
   ],
   "source": [
    "image_x.shape"
   ]
  },
  {
   "cell_type": "code",
   "execution_count": 45,
   "id": "66160253-9543-4aba-bb81-031d51ef9623",
   "metadata": {},
   "outputs": [
    {
     "data": {
      "text/plain": [
       "torch.Size([1, 3, 64, 64])"
      ]
     },
     "execution_count": 45,
     "metadata": {},
     "output_type": "execute_result"
    }
   ],
   "source": [
    "image_x = image_x.repeat(1, 3, 1, 1)\n",
    "image_x = image_x.to(device)\n",
    "image_x.shape"
   ]
  },
  {
   "cell_type": "code",
   "execution_count": 46,
   "id": "f615c7d3-2dab-425d-81e1-2595ec59e230",
   "metadata": {},
   "outputs": [
    {
     "data": {
      "text/plain": [
       "(4096,)"
      ]
     },
     "execution_count": 46,
     "metadata": {},
     "output_type": "execute_result"
    }
   ],
   "source": [
    "features = get_feature(image_x)\n",
    "features.shape"
   ]
  },
  {
   "cell_type": "code",
   "execution_count": 47,
   "id": "31b9ddc9-3fc8-4a47-bfc7-74a6df27d672",
   "metadata": {},
   "outputs": [],
   "source": [
    "class0_original_images = []\n",
    "class1_original_images = []\n",
    "class2_original_images = []\n",
    "class3_original_images = []\n",
    "target_num = 20 # 20 images for each class"
   ]
  },
  {
   "cell_type": "code",
   "execution_count": 48,
   "id": "e804c948-2dc8-41df-a633-113300baf12a",
   "metadata": {},
   "outputs": [],
   "source": [
    "for i in range(len(tumor_dataset)):\n",
    "    img_x, img_y = tumor_dataset[i]\n",
    "\n",
    "    if img_y == 0:\n",
    "        if len(class0_original_images) < target_num:\n",
    "            class0_original_images.append(img_x)\n",
    "    elif img_y == 1:\n",
    "        if len(class1_original_images) < target_num:\n",
    "            class1_original_images.append(img_x)\n",
    "    elif img_y == 2:\n",
    "        if len(class2_original_images) < target_num:\n",
    "            class2_original_images.append(img_x)\n",
    "    elif img_y == 3:\n",
    "        if len(class3_original_images) < target_num:\n",
    "            class3_original_images.append(img_x)"
   ]
  },
  {
   "cell_type": "code",
   "execution_count": 49,
   "id": "ef07c896-c4cd-48da-9e59-c9d7bd90a4e8",
   "metadata": {},
   "outputs": [
    {
     "data": {
      "text/plain": [
       "20"
      ]
     },
     "execution_count": 49,
     "metadata": {},
     "output_type": "execute_result"
    }
   ],
   "source": [
    "len(class3_original_images)"
   ]
  },
  {
   "cell_type": "code",
   "execution_count": 50,
   "id": "e102404a-68a3-40c5-99a7-45813eb87f20",
   "metadata": {},
   "outputs": [
    {
     "data": {
      "text/plain": [
       "torch.Size([1, 3, 64, 64])"
      ]
     },
     "execution_count": 50,
     "metadata": {},
     "output_type": "execute_result"
    }
   ],
   "source": [
    "# Testing the cosine similarity\n",
    "class1_original_image = class1_original_images[8]\n",
    "class1_original_image = class1_original_image.unsqueeze(dim=0).to(device)\n",
    "class1_original_image = class1_original_image.repeat(1, 3, 1, 1)\n",
    "class1_original_image.shape"
   ]
  },
  {
   "cell_type": "code",
   "execution_count": 51,
   "id": "d7fe9c85-2c83-4580-be7d-32833b706948",
   "metadata": {},
   "outputs": [],
   "source": [
    "fake1 = class1_optimized_latent_vectors[8]\n",
    "fake1_image = gen(fake1.to(device))\n",
    "fake1_image = fake1_image.repeat(1, 3, 1, 1)"
   ]
  },
  {
   "cell_type": "code",
   "execution_count": 52,
   "id": "74647152-cdcb-4593-a88f-d3ac43fd97d3",
   "metadata": {},
   "outputs": [
    {
     "data": {
      "text/plain": [
       "torch.Size([1, 3, 64, 64])"
      ]
     },
     "execution_count": 52,
     "metadata": {},
     "output_type": "execute_result"
    }
   ],
   "source": [
    "fake1_image.shape"
   ]
  },
  {
   "cell_type": "code",
   "execution_count": 98,
   "id": "1ff405e5-5e35-4c3f-b34e-1bca88641726",
   "metadata": {},
   "outputs": [
    {
     "name": "stdout",
     "output_type": "stream",
     "text": [
      "torch.Size([1, 64, 64])\n"
     ]
    },
    {
     "data": {
      "image/png": "[encoded data removed]",
      "text/plain": [
       "<Figure size 640x480 with 1 Axes>"
      ]
     },
     "metadata": {},
     "output_type": "display_data"
    }
   ],
   "source": [
    "fake = class3_optimized_latent_vectors[2]\n",
    "fake_img = gen(fake.to(device)).squeeze(dim=0)\n",
    "print(fake_img.shape)\n",
    "visualize_image(fake_img.detach().cpu())"
   ]
  },
  {
   "cell_type": "code",
   "execution_count": 53,
   "id": "e88f6396-0ef2-45f5-96e0-6048be01af25",
   "metadata": {},
   "outputs": [],
   "source": [
    "# Get the features of the images\n",
    "features_original = get_feature(class1_original_image)\n",
    "features_fake = get_feature(fake1_image)"
   ]
  },
  {
   "cell_type": "code",
   "execution_count": 54,
   "id": "b54e2bca-5f2b-41ea-b810-15d1f9d30f86",
   "metadata": {},
   "outputs": [],
   "source": [
    "# Compute cosine similarity\n",
    "similarity = 1 - cosine(features_original, features_fake)"
   ]
  },
  {
   "cell_type": "code",
   "execution_count": 55,
   "id": "983c7e35-27ee-453c-9356-cb9a84fdd4a3",
   "metadata": {},
   "outputs": [
    {
     "data": {
      "text/plain": [
       "np.float32(0.835149)"
      ]
     },
     "execution_count": 55,
     "metadata": {},
     "output_type": "execute_result"
    }
   ],
   "source": [
    "similarity"
   ]
  },
  {
   "cell_type": "code",
   "execution_count": 56,
   "id": "e65e04e8-52b7-4cf2-876c-d9b07a435ec9",
   "metadata": {},
   "outputs": [],
   "source": [
    "def calculate_class0_sim():\n",
    "    similarities = []\n",
    "    for i in range(0, 20):\n",
    "        class0_original = class0_original_images[i].unsqueeze(dim=0).to(device)\n",
    "        class0_original = class0_original.repeat(1, 3, 1, 1)\n",
    "\n",
    "        class0_fake = class0_optimized_latent_vectors[i]\n",
    "        class0_fake_img = gen(class0_fake.to(device))\n",
    "        class0_fake_img = class0_fake_img.repeat(1, 3, 1, 1)\n",
    "\n",
    "        features_original = get_feature(class0_original)\n",
    "        features_fake = get_feature(class0_fake_img)\n",
    "\n",
    "        cosine_similarity = 1 - cosine(features_original, features_fake)\n",
    "\n",
    "        similarities.append(cosine_similarity)\n",
    "        \n",
    "    return similarities"
   ]
  },
  {
   "cell_type": "code",
   "execution_count": 57,
   "id": "10d8f579-0b80-4157-b59b-7b92be9e52f2",
   "metadata": {},
   "outputs": [],
   "source": [
    "def calculate_class1_sim():\n",
    "    similarities = []\n",
    "    for i in range(0, 20):\n",
    "        class1_original = class1_original_images[i].unsqueeze(dim=0).to(device)\n",
    "        class1_original = class1_original.repeat(1, 3, 1, 1)\n",
    "\n",
    "        class1_fake = class1_optimized_latent_vectors[i]\n",
    "        class1_fake_img = gen(class1_fake.to(device))\n",
    "        class1_fake_img = class1_fake_img.repeat(1, 3, 1, 1)\n",
    "\n",
    "        features_original = get_feature(class1_original)\n",
    "        features_fake = get_feature(class1_fake_img)\n",
    "\n",
    "        cosine_similarity = 1 - cosine(features_original, features_fake)\n",
    "        similarities.append(cosine_similarity)\n",
    "\n",
    "    return similarities"
   ]
  },
  {
   "cell_type": "code",
   "execution_count": 58,
   "id": "1bbdc999-fa6d-4005-b785-3c54a7bd89ee",
   "metadata": {},
   "outputs": [],
   "source": [
    "def calculate_class2_sim():\n",
    "    similarities = []\n",
    "    for i in range(0, 20):\n",
    "        class2_original = class2_original_images[i].unsqueeze(dim=0).to(device)\n",
    "        class2_original = class2_original.repeat(1, 3, 1, 1)\n",
    "\n",
    "        class2_fake = class2_optimized_latent_vectors[i]\n",
    "        class2_fake_img = gen(class2_fake.to(device))\n",
    "        class2_fake_img = class2_fake_img.repeat(1, 3, 1, 1)\n",
    "\n",
    "        features_original = get_feature(class2_original)\n",
    "        features_fake = get_feature(class2_fake_img)\n",
    "\n",
    "        cosine_similarity = 1 - cosine(features_original, features_fake)\n",
    "        similarities.append(cosine_similarity)\n",
    "\n",
    "    return similarities"
   ]
  },
  {
   "cell_type": "code",
   "execution_count": 59,
   "id": "33cb8de1-5a87-4dd4-8fc2-d3f27d6ddc9a",
   "metadata": {},
   "outputs": [],
   "source": [
    "def calculate_class3_sim():\n",
    "    similarities = []\n",
    "    for i in range(0, 20):\n",
    "        class3_original = class3_original_images[i].unsqueeze(dim=0).to(device)\n",
    "        class3_original = class3_original.repeat(1, 3, 1, 1)\n",
    "\n",
    "        class3_fake = class3_optimized_latent_vectors[i]\n",
    "        class3_fake_img = gen(class3_fake.to(device))\n",
    "        class3_fake_img = class3_fake_img.repeat(1, 3, 1, 1)\n",
    "\n",
    "        features_original = get_feature(class3_original)\n",
    "        features_fake = get_feature(class3_fake_img)\n",
    "\n",
    "        cosine_similarity = 1 - cosine(features_original, features_fake)\n",
    "        similarities.append(cosine_similarity)\n",
    "\n",
    "    return similarities"
   ]
  },
  {
   "cell_type": "code",
   "execution_count": 60,
   "id": "7868f175-5845-4ee4-b4cf-1c89513375ec",
   "metadata": {},
   "outputs": [],
   "source": [
    "class0_sims = calculate_class0_sim()\n",
    "class1_sims = calculate_class0_sim()\n",
    "class2_sims = calculate_class0_sim()\n",
    "class3_sims = calculate_class0_sim()"
   ]
  },
  {
   "cell_type": "code",
   "execution_count": 61,
   "id": "bbf4597d-a583-4204-a3ce-9085936e0189",
   "metadata": {},
   "outputs": [
    {
     "data": {
      "text/plain": [
       "[np.float32(0.835157),\n",
       " np.float32(0.79982895),\n",
       " np.float32(0.41980672),\n",
       " np.float32(0.40908194),\n",
       " np.float32(0.3302561),\n",
       " np.float32(0.4900943),\n",
       " np.float32(0.59825474),\n",
       " np.float32(0.3622769),\n",
       " np.float32(0.52457535),\n",
       " np.float32(0.44457966),\n",
       " np.float32(0.6402199),\n",
       " np.float32(0.7975241),\n",
       " np.float32(0.8030131),\n",
       " np.float32(0.55842644),\n",
       " np.float32(0.58565885),\n",
       " np.float32(0.74440855),\n",
       " np.float32(0.8850977),\n",
       " np.float32(0.6111903),\n",
       " np.float32(0.595142),\n",
       " np.float32(0.39095712)]"
      ]
     },
     "execution_count": 61,
     "metadata": {},
     "output_type": "execute_result"
    }
   ],
   "source": [
    "class0_sims"
   ]
  },
  {
   "cell_type": "code",
   "execution_count": 62,
   "id": "acb9d480-a58f-4ce6-8973-eb9c8d6e7253",
   "metadata": {},
   "outputs": [
    {
     "data": {
      "text/plain": [
       "[np.float32(0.835157),\n",
       " np.float32(0.79982907),\n",
       " np.float32(0.41980672),\n",
       " np.float32(0.40908194),\n",
       " np.float32(0.3302561),\n",
       " np.float32(0.4900943),\n",
       " np.float32(0.5982546),\n",
       " np.float32(0.36227685),\n",
       " np.float32(0.52457535),\n",
       " np.float32(0.44457972),\n",
       " np.float32(0.64022017),\n",
       " np.float32(0.7975241),\n",
       " np.float32(0.8030131),\n",
       " np.float32(0.5584265),\n",
       " np.float32(0.5856582),\n",
       " np.float32(0.7444085),\n",
       " np.float32(0.88509774),\n",
       " np.float32(0.6111903),\n",
       " np.float32(0.59514177),\n",
       " np.float32(0.39095712)]"
      ]
     },
     "execution_count": 62,
     "metadata": {},
     "output_type": "execute_result"
    }
   ],
   "source": [
    "class3_sims"
   ]
  },
  {
   "cell_type": "code",
   "execution_count": 63,
   "id": "58dc103d-1c30-473a-adc3-fcd5ca5100a0",
   "metadata": {},
   "outputs": [
    {
     "ename": "FileNotFoundError",
     "evalue": "[Errno 2] No such file or directory: 'output/fedvg.png'",
     "output_type": "error",
     "traceback": [
      "\u001b[1;31m---------------------------------------------------------------------------\u001b[0m",
      "\u001b[1;31mFileNotFoundError\u001b[0m                         Traceback (most recent call last)",
      "Cell \u001b[1;32mIn[63], line 43\u001b[0m\n\u001b[0;32m     41\u001b[0m plt\u001b[38;5;241m.\u001b[39mtight_layout()\n\u001b[0;32m     42\u001b[0m \u001b[38;5;66;03m# Save the plot to a file\u001b[39;00m\n\u001b[1;32m---> 43\u001b[0m \u001b[43mplt\u001b[49m\u001b[38;5;241;43m.\u001b[39;49m\u001b[43msavefig\u001b[49m\u001b[43m(\u001b[49m\u001b[38;5;124;43m'\u001b[39;49m\u001b[38;5;124;43moutput/fedvg.png\u001b[39;49m\u001b[38;5;124;43m'\u001b[39;49m\u001b[43m,\u001b[49m\u001b[43m \u001b[49m\u001b[43mdpi\u001b[49m\u001b[38;5;241;43m=\u001b[39;49m\u001b[38;5;241;43m300\u001b[39;49m\u001b[43m,\u001b[49m\u001b[43m \u001b[49m\u001b[43mbbox_inches\u001b[49m\u001b[38;5;241;43m=\u001b[39;49m\u001b[38;5;124;43m'\u001b[39;49m\u001b[38;5;124;43mtight\u001b[39;49m\u001b[38;5;124;43m'\u001b[39;49m\u001b[43m)\u001b[49m  \u001b[38;5;66;03m# Save as a PNG file with high resolution\u001b[39;00m\n\u001b[0;32m     45\u001b[0m \u001b[38;5;66;03m# Show the plot\u001b[39;00m\n\u001b[0;32m     46\u001b[0m plt\u001b[38;5;241m.\u001b[39mshow()\n",
      "File \u001b[1;32m~\\AppData\\Local\\Programs\\Python\\Python39\\lib\\site-packages\\matplotlib\\pyplot.py:1228\u001b[0m, in \u001b[0;36msavefig\u001b[1;34m(*args, **kwargs)\u001b[0m\n\u001b[0;32m   1225\u001b[0m fig \u001b[38;5;241m=\u001b[39m gcf()\n\u001b[0;32m   1226\u001b[0m \u001b[38;5;66;03m# savefig default implementation has no return, so mypy is unhappy\u001b[39;00m\n\u001b[0;32m   1227\u001b[0m \u001b[38;5;66;03m# presumably this is here because subclasses can return?\u001b[39;00m\n\u001b[1;32m-> 1228\u001b[0m res \u001b[38;5;241m=\u001b[39m fig\u001b[38;5;241m.\u001b[39msavefig(\u001b[38;5;241m*\u001b[39margs, \u001b[38;5;241m*\u001b[39m\u001b[38;5;241m*\u001b[39mkwargs)  \u001b[38;5;66;03m# type: ignore[func-returns-value]\u001b[39;00m\n\u001b[0;32m   1229\u001b[0m fig\u001b[38;5;241m.\u001b[39mcanvas\u001b[38;5;241m.\u001b[39mdraw_idle()  \u001b[38;5;66;03m# Need this if 'transparent=True', to reset colors.\u001b[39;00m\n\u001b[0;32m   1230\u001b[0m \u001b[38;5;28;01mreturn\u001b[39;00m res\n",
      "File \u001b[1;32m~\\AppData\\Local\\Programs\\Python\\Python39\\lib\\site-packages\\matplotlib\\figure.py:3395\u001b[0m, in \u001b[0;36mFigure.savefig\u001b[1;34m(self, fname, transparent, **kwargs)\u001b[0m\n\u001b[0;32m   3393\u001b[0m     \u001b[38;5;28;01mfor\u001b[39;00m ax \u001b[38;5;129;01min\u001b[39;00m \u001b[38;5;28mself\u001b[39m\u001b[38;5;241m.\u001b[39maxes:\n\u001b[0;32m   3394\u001b[0m         _recursively_make_axes_transparent(stack, ax)\n\u001b[1;32m-> 3395\u001b[0m \u001b[38;5;28mself\u001b[39m\u001b[38;5;241m.\u001b[39mcanvas\u001b[38;5;241m.\u001b[39mprint_figure(fname, \u001b[38;5;241m*\u001b[39m\u001b[38;5;241m*\u001b[39mkwargs)\n",
      "File \u001b[1;32m~\\AppData\\Local\\Programs\\Python\\Python39\\lib\\site-packages\\matplotlib\\backend_bases.py:2204\u001b[0m, in \u001b[0;36mFigureCanvasBase.print_figure\u001b[1;34m(self, filename, dpi, facecolor, edgecolor, orientation, format, bbox_inches, pad_inches, bbox_extra_artists, backend, **kwargs)\u001b[0m\n\u001b[0;32m   2200\u001b[0m \u001b[38;5;28;01mtry\u001b[39;00m:\n\u001b[0;32m   2201\u001b[0m     \u001b[38;5;66;03m# _get_renderer may change the figure dpi (as vector formats\u001b[39;00m\n\u001b[0;32m   2202\u001b[0m     \u001b[38;5;66;03m# force the figure dpi to 72), so we need to set it again here.\u001b[39;00m\n\u001b[0;32m   2203\u001b[0m     \u001b[38;5;28;01mwith\u001b[39;00m cbook\u001b[38;5;241m.\u001b[39m_setattr_cm(\u001b[38;5;28mself\u001b[39m\u001b[38;5;241m.\u001b[39mfigure, dpi\u001b[38;5;241m=\u001b[39mdpi):\n\u001b[1;32m-> 2204\u001b[0m         result \u001b[38;5;241m=\u001b[39m print_method(\n\u001b[0;32m   2205\u001b[0m             filename,\n\u001b[0;32m   2206\u001b[0m             facecolor\u001b[38;5;241m=\u001b[39mfacecolor,\n\u001b[0;32m   2207\u001b[0m             edgecolor\u001b[38;5;241m=\u001b[39medgecolor,\n\u001b[0;32m   2208\u001b[0m             orientation\u001b[38;5;241m=\u001b[39morientation,\n\u001b[0;32m   2209\u001b[0m             bbox_inches_restore\u001b[38;5;241m=\u001b[39m_bbox_inches_restore,\n\u001b[0;32m   2210\u001b[0m             \u001b[38;5;241m*\u001b[39m\u001b[38;5;241m*\u001b[39mkwargs)\n\u001b[0;32m   2211\u001b[0m \u001b[38;5;28;01mfinally\u001b[39;00m:\n\u001b[0;32m   2212\u001b[0m     \u001b[38;5;28;01mif\u001b[39;00m bbox_inches \u001b[38;5;129;01mand\u001b[39;00m restore_bbox:\n",
      "File \u001b[1;32m~\\AppData\\Local\\Programs\\Python\\Python39\\lib\\site-packages\\matplotlib\\backend_bases.py:2054\u001b[0m, in \u001b[0;36mFigureCanvasBase._switch_canvas_and_return_print_method.<locals>.<lambda>\u001b[1;34m(*args, **kwargs)\u001b[0m\n\u001b[0;32m   2050\u001b[0m     optional_kws \u001b[38;5;241m=\u001b[39m {  \u001b[38;5;66;03m# Passed by print_figure for other renderers.\u001b[39;00m\n\u001b[0;32m   2051\u001b[0m         \u001b[38;5;124m\"\u001b[39m\u001b[38;5;124mdpi\u001b[39m\u001b[38;5;124m\"\u001b[39m, \u001b[38;5;124m\"\u001b[39m\u001b[38;5;124mfacecolor\u001b[39m\u001b[38;5;124m\"\u001b[39m, \u001b[38;5;124m\"\u001b[39m\u001b[38;5;124medgecolor\u001b[39m\u001b[38;5;124m\"\u001b[39m, \u001b[38;5;124m\"\u001b[39m\u001b[38;5;124morientation\u001b[39m\u001b[38;5;124m\"\u001b[39m,\n\u001b[0;32m   2052\u001b[0m         \u001b[38;5;124m\"\u001b[39m\u001b[38;5;124mbbox_inches_restore\u001b[39m\u001b[38;5;124m\"\u001b[39m}\n\u001b[0;32m   2053\u001b[0m     skip \u001b[38;5;241m=\u001b[39m optional_kws \u001b[38;5;241m-\u001b[39m {\u001b[38;5;241m*\u001b[39minspect\u001b[38;5;241m.\u001b[39msignature(meth)\u001b[38;5;241m.\u001b[39mparameters}\n\u001b[1;32m-> 2054\u001b[0m     print_method \u001b[38;5;241m=\u001b[39m functools\u001b[38;5;241m.\u001b[39mwraps(meth)(\u001b[38;5;28;01mlambda\u001b[39;00m \u001b[38;5;241m*\u001b[39margs, \u001b[38;5;241m*\u001b[39m\u001b[38;5;241m*\u001b[39mkwargs: meth(\n\u001b[0;32m   2055\u001b[0m         \u001b[38;5;241m*\u001b[39margs, \u001b[38;5;241m*\u001b[39m\u001b[38;5;241m*\u001b[39m{k: v \u001b[38;5;28;01mfor\u001b[39;00m k, v \u001b[38;5;129;01min\u001b[39;00m kwargs\u001b[38;5;241m.\u001b[39mitems() \u001b[38;5;28;01mif\u001b[39;00m k \u001b[38;5;129;01mnot\u001b[39;00m \u001b[38;5;129;01min\u001b[39;00m skip}))\n\u001b[0;32m   2056\u001b[0m \u001b[38;5;28;01melse\u001b[39;00m:  \u001b[38;5;66;03m# Let third-parties do as they see fit.\u001b[39;00m\n\u001b[0;32m   2057\u001b[0m     print_method \u001b[38;5;241m=\u001b[39m meth\n",
      "File \u001b[1;32m~\\AppData\\Local\\Programs\\Python\\Python39\\lib\\site-packages\\matplotlib\\backends\\backend_agg.py:496\u001b[0m, in \u001b[0;36mFigureCanvasAgg.print_png\u001b[1;34m(self, filename_or_obj, metadata, pil_kwargs)\u001b[0m\n\u001b[0;32m    449\u001b[0m \u001b[38;5;28;01mdef\u001b[39;00m\u001b[38;5;250m \u001b[39m\u001b[38;5;21mprint_png\u001b[39m(\u001b[38;5;28mself\u001b[39m, filename_or_obj, \u001b[38;5;241m*\u001b[39m, metadata\u001b[38;5;241m=\u001b[39m\u001b[38;5;28;01mNone\u001b[39;00m, pil_kwargs\u001b[38;5;241m=\u001b[39m\u001b[38;5;28;01mNone\u001b[39;00m):\n\u001b[0;32m    450\u001b[0m \u001b[38;5;250m    \u001b[39m\u001b[38;5;124;03m\"\"\"\u001b[39;00m\n\u001b[0;32m    451\u001b[0m \u001b[38;5;124;03m    Write the figure to a PNG file.\u001b[39;00m\n\u001b[0;32m    452\u001b[0m \n\u001b[1;32m   (...)\u001b[0m\n\u001b[0;32m    494\u001b[0m \u001b[38;5;124;03m        *metadata*, including the default 'Software' key.\u001b[39;00m\n\u001b[0;32m    495\u001b[0m \u001b[38;5;124;03m    \"\"\"\u001b[39;00m\n\u001b[1;32m--> 496\u001b[0m     \u001b[38;5;28;43mself\u001b[39;49m\u001b[38;5;241;43m.\u001b[39;49m\u001b[43m_print_pil\u001b[49m\u001b[43m(\u001b[49m\u001b[43mfilename_or_obj\u001b[49m\u001b[43m,\u001b[49m\u001b[43m \u001b[49m\u001b[38;5;124;43m\"\u001b[39;49m\u001b[38;5;124;43mpng\u001b[39;49m\u001b[38;5;124;43m\"\u001b[39;49m\u001b[43m,\u001b[49m\u001b[43m \u001b[49m\u001b[43mpil_kwargs\u001b[49m\u001b[43m,\u001b[49m\u001b[43m \u001b[49m\u001b[43mmetadata\u001b[49m\u001b[43m)\u001b[49m\n",
      "File \u001b[1;32m~\\AppData\\Local\\Programs\\Python\\Python39\\lib\\site-packages\\matplotlib\\backends\\backend_agg.py:445\u001b[0m, in \u001b[0;36mFigureCanvasAgg._print_pil\u001b[1;34m(self, filename_or_obj, fmt, pil_kwargs, metadata)\u001b[0m\n\u001b[0;32m    440\u001b[0m \u001b[38;5;250m\u001b[39m\u001b[38;5;124;03m\"\"\"\u001b[39;00m\n\u001b[0;32m    441\u001b[0m \u001b[38;5;124;03mDraw the canvas, then save it using `.image.imsave` (to which\u001b[39;00m\n\u001b[0;32m    442\u001b[0m \u001b[38;5;124;03m*pil_kwargs* and *metadata* are forwarded).\u001b[39;00m\n\u001b[0;32m    443\u001b[0m \u001b[38;5;124;03m\"\"\"\u001b[39;00m\n\u001b[0;32m    444\u001b[0m FigureCanvasAgg\u001b[38;5;241m.\u001b[39mdraw(\u001b[38;5;28mself\u001b[39m)\n\u001b[1;32m--> 445\u001b[0m \u001b[43mmpl\u001b[49m\u001b[38;5;241;43m.\u001b[39;49m\u001b[43mimage\u001b[49m\u001b[38;5;241;43m.\u001b[39;49m\u001b[43mimsave\u001b[49m\u001b[43m(\u001b[49m\n\u001b[0;32m    446\u001b[0m \u001b[43m    \u001b[49m\u001b[43mfilename_or_obj\u001b[49m\u001b[43m,\u001b[49m\u001b[43m \u001b[49m\u001b[38;5;28;43mself\u001b[39;49m\u001b[38;5;241;43m.\u001b[39;49m\u001b[43mbuffer_rgba\u001b[49m\u001b[43m(\u001b[49m\u001b[43m)\u001b[49m\u001b[43m,\u001b[49m\u001b[43m \u001b[49m\u001b[38;5;28;43mformat\u001b[39;49m\u001b[38;5;241;43m=\u001b[39;49m\u001b[43mfmt\u001b[49m\u001b[43m,\u001b[49m\u001b[43m \u001b[49m\u001b[43morigin\u001b[49m\u001b[38;5;241;43m=\u001b[39;49m\u001b[38;5;124;43m\"\u001b[39;49m\u001b[38;5;124;43mupper\u001b[39;49m\u001b[38;5;124;43m\"\u001b[39;49m\u001b[43m,\u001b[49m\n\u001b[0;32m    447\u001b[0m \u001b[43m    \u001b[49m\u001b[43mdpi\u001b[49m\u001b[38;5;241;43m=\u001b[39;49m\u001b[38;5;28;43mself\u001b[39;49m\u001b[38;5;241;43m.\u001b[39;49m\u001b[43mfigure\u001b[49m\u001b[38;5;241;43m.\u001b[39;49m\u001b[43mdpi\u001b[49m\u001b[43m,\u001b[49m\u001b[43m \u001b[49m\u001b[43mmetadata\u001b[49m\u001b[38;5;241;43m=\u001b[39;49m\u001b[43mmetadata\u001b[49m\u001b[43m,\u001b[49m\u001b[43m \u001b[49m\u001b[43mpil_kwargs\u001b[49m\u001b[38;5;241;43m=\u001b[39;49m\u001b[43mpil_kwargs\u001b[49m\u001b[43m)\u001b[49m\n",
      "File \u001b[1;32m~\\AppData\\Local\\Programs\\Python\\Python39\\lib\\site-packages\\matplotlib\\image.py:1676\u001b[0m, in \u001b[0;36mimsave\u001b[1;34m(fname, arr, vmin, vmax, cmap, format, origin, dpi, metadata, pil_kwargs)\u001b[0m\n\u001b[0;32m   1674\u001b[0m pil_kwargs\u001b[38;5;241m.\u001b[39msetdefault(\u001b[38;5;124m\"\u001b[39m\u001b[38;5;124mformat\u001b[39m\u001b[38;5;124m\"\u001b[39m, \u001b[38;5;28mformat\u001b[39m)\n\u001b[0;32m   1675\u001b[0m pil_kwargs\u001b[38;5;241m.\u001b[39msetdefault(\u001b[38;5;124m\"\u001b[39m\u001b[38;5;124mdpi\u001b[39m\u001b[38;5;124m\"\u001b[39m, (dpi, dpi))\n\u001b[1;32m-> 1676\u001b[0m image\u001b[38;5;241m.\u001b[39msave(fname, \u001b[38;5;241m*\u001b[39m\u001b[38;5;241m*\u001b[39mpil_kwargs)\n",
      "File \u001b[1;32m~\\AppData\\Local\\Programs\\Python\\Python39\\lib\\site-packages\\PIL\\Image.py:2436\u001b[0m, in \u001b[0;36mImage.save\u001b[1;34m(self, fp, format, **params)\u001b[0m\n\u001b[0;32m   2434\u001b[0m         fp \u001b[38;5;241m=\u001b[39m builtins\u001b[38;5;241m.\u001b[39mopen(filename, \u001b[38;5;124m\"\u001b[39m\u001b[38;5;124mr+b\u001b[39m\u001b[38;5;124m\"\u001b[39m)\n\u001b[0;32m   2435\u001b[0m     \u001b[38;5;28;01melse\u001b[39;00m:\n\u001b[1;32m-> 2436\u001b[0m         fp \u001b[38;5;241m=\u001b[39m \u001b[43mbuiltins\u001b[49m\u001b[38;5;241;43m.\u001b[39;49m\u001b[43mopen\u001b[49m\u001b[43m(\u001b[49m\u001b[43mfilename\u001b[49m\u001b[43m,\u001b[49m\u001b[43m \u001b[49m\u001b[38;5;124;43m\"\u001b[39;49m\u001b[38;5;124;43mw+b\u001b[39;49m\u001b[38;5;124;43m\"\u001b[39;49m\u001b[43m)\u001b[49m\n\u001b[0;32m   2438\u001b[0m \u001b[38;5;28;01mtry\u001b[39;00m:\n\u001b[0;32m   2439\u001b[0m     save_handler(\u001b[38;5;28mself\u001b[39m, fp, filename)\n",
      "\u001b[1;31mFileNotFoundError\u001b[0m: [Errno 2] No such file or directory: 'output/fedvg.png'"
     ]
    },
    {
     "data": {
      "image/png": "[encoded data removed]",
      "text/plain": [
       "<Figure size 650x420 with 1 Axes>"
      ]
     },
     "metadata": {},
     "output_type": "display_data"
    }
   ],
   "source": [
    "                                                        # VISUALIZE\n",
    "# NOTE: Class indexes now start from 1 so, previous class 0 = now class 1 and so on\n",
    "# FIG 1: Raw similarity plot\n",
    "\n",
    "import pandas as pd\n",
    "import numpy as np\n",
    "import matplotlib.pyplot as plt\n",
    "import seaborn as sns\n",
    "\n",
    "# Generate sample similarity data for four classes (each with 20 values in the range 0 to 1)\n",
    "class1_sim = class0_sims\n",
    "class2_sim = class1_sims\n",
    "class3_sim = class2_sims\n",
    "class4_sim = class3_sims\n",
    "\n",
    "# Set figure size\n",
    "plt.figure(figsize=(6.5, 4.2))  # Set the size of the figure (width, height)\n",
    "\n",
    "# Sample DataFrame with four columns\n",
    "data=pd.DataFrame({'Class 1':class1_sim,'Class 2':class2_sim,'Class 3':class3_sim,'Class 4':class4_sim})\n",
    "df = pd.DataFrame(data)\n",
    "\n",
    "# Plot the probability distributions\n",
    "#plt.figure(figsize=(10, 6))\n",
    "\n",
    "# Define colors and line styles for each column\n",
    "colors = ['#1f77b4', '#ff7f0e', '#2ca02c', '#d62728']\n",
    "linestyles = ['-.', '--', '-', '-']\n",
    "\n",
    "# Plot the probability distributions with unique colors and line styles\n",
    "for column, color, linestyle in zip(df.columns, colors, linestyles):\n",
    "    sns.kdeplot(df[column], label=column, color=color, linestyle=linestyle)\n",
    "\n",
    "#plt.title('Probability Distributions of Four Columns')\n",
    "plt.xlabel('Similarity',fontsize=12)\n",
    "plt.ylabel('Density',fontsize=12)\n",
    "plt.yticks(fontsize=12)  # Set y-tick labels font size\n",
    "plt.legend(loc='upper right',fontsize=12)  # Increase legend font size\n",
    "\n",
    "# Optimize layout\n",
    "plt.tight_layout()\n",
    "# Save the plot to a file\n",
    "plt.savefig('output/fedvg.png', dpi=300, bbox_inches='tight')  # Save as a PNG file with high resolution\n",
    "\n",
    "# Show the plot\n",
    "plt.show()\n"
   ]
  },
  {
   "cell_type": "code",
   "execution_count": null,
   "id": "c71af78e-28e9-4564-9609-3039455bb875",
   "metadata": {},
   "outputs": [],
   "source": [
    "# FIG 2: DIFFERENCES IN COSINE SIMILARITY\n",
    "\n",
    "# For each class, we have 20 similarity values — one per image — showing how similar fake and real versions are.These values are very close across classes\n",
    "# So, to highlight subtle differences, compute and plot the difference between each pair of classes, value by value.\n",
    "# This gives you 20 values showing how much the similarity differs for each image between class 0 and class 1.\n",
    "# It's a magnified view of the gap between classes.\n",
    "# If the differences are tiny (e.g., 0.003), the plot helps make that visible and comparable.\n",
    "\n",
    "import numpy as np\n",
    "import matplotlib.pyplot as plt\n",
    "import seaborn as sns\n",
    "import pandas as pd\n",
    "\n",
    "# Differences between class distributions (pairwise)\n",
    "diff_12 = np.array(class2_sim) - np.array(class1_sim)\n",
    "diff_13 = np.array(class3_sim) - np.array(class1_sim)\n",
    "diff_14 = np.array(class4_sim) - np.array(class1_sim)\n",
    "diff_23 = np.array(class3_sim) - np.array(class2_sim)\n",
    "diff_24 = np.array(class4_sim) - np.array(class2_sim)\n",
    "diff_34 = np.array(class4_sim) - np.array(class3_sim)\n",
    "\n",
    "# Create a DataFrame\n",
    "diff_df = pd.DataFrame({\n",
    "    'Class 2 - Class 1': diff_12,\n",
    "    'Class 3 - Class 1': diff_13,\n",
    "    'Class 4 - Class 1': diff_14,\n",
    "    'Class 3 - Class 2': diff_23,\n",
    "    'Class 4 - Class 2': diff_24,\n",
    "    'Class 4 - Class 3': diff_34,\n",
    "})\n",
    "\n",
    "# Plot\n",
    "plt.figure(figsize=(7.5, 5))\n",
    "\n",
    "colors = sns.color_palette(\"tab10\", n_colors=6)\n",
    "\n",
    "for column, color in zip(diff_df.columns, colors):\n",
    "    sns.kdeplot(diff_df[column], label=column, color=color, linestyle='-')\n",
    "\n",
    "plt.axvline(0, color='black', linestyle='--', linewidth=1)  # reference line at 0\n",
    "plt.xlabel('Difference in Similarity', fontsize=12)\n",
    "plt.ylabel('Density', fontsize=12)\n",
    "plt.legend(fontsize=10)\n",
    "plt.title(\"Pairwise Differences in Cosine Similarity\", fontsize=13)\n",
    "plt.tight_layout()\n",
    "plt.show()"
   ]
  },
  {
   "cell_type": "code",
   "execution_count": null,
   "id": "362bf182-7927-4ce2-bf5a-97299d426bc4",
   "metadata": {},
   "outputs": [],
   "source": [
    "def calculate_interclass_similarity(first, second):\n",
    "    similarities = []\n",
    "\n",
    "    first_images = []\n",
    "    second_images = []\n",
    "    if first == 'class1':\n",
    "        first_images = class0_original_images.copy()\n",
    "    elif first == 'class2':\n",
    "        first_images = class1_original_images.copy()\n",
    "    elif first == 'class3':\n",
    "        first_images = class2_original_images.copy()\n",
    "    elif first == 'class4':\n",
    "        first_images = class3_original_images.copy()\n",
    "\n",
    "    if second == 'class1':\n",
    "        second_images = class0_original_images.copy()\n",
    "    elif second == 'class2':\n",
    "        second_images = class1_original_images.copy()\n",
    "    elif second == 'class3':\n",
    "        second_images = class2_original_images.copy()\n",
    "    elif second == 'class4':\n",
    "        second_images = class3_original_images.copy()\n",
    "    \n",
    "    for i in range(0, 20):\n",
    "        first_image = first_images[i].unsqueeze(dim=0).to(device)\n",
    "        first_image = first_image.repeat(1, 3, 1, 1)\n",
    "        \n",
    "        second_image = second_images[i].unsqueeze(dim=0).to(device)\n",
    "        second_image = second_image.repeat(1, 3, 1, 1)\n",
    "        \n",
    "        features_first = get_feature(first_image)\n",
    "        features_second = get_feature(second_image)\n",
    "\n",
    "        cosine_similarity = 1 - cosine(features_first, features_second)\n",
    "        similarities.append(cosine_similarity)\n",
    "\n",
    "    return similarities"
   ]
  },
  {
   "cell_type": "code",
   "execution_count": null,
   "id": "5954dfe3-cb08-4551-a5f9-d2082ac3d604",
   "metadata": {},
   "outputs": [],
   "source": [
    "class1class2 = calculate_interclass_similarity('class1', 'class2')"
   ]
  },
  {
   "cell_type": "code",
   "execution_count": null,
   "id": "cd5ab50d-9d9d-443b-bea5-2d6e302e2bf4",
   "metadata": {},
   "outputs": [],
   "source": [
    "class1class2"
   ]
  },
  {
   "cell_type": "code",
   "execution_count": null,
   "id": "29441f40-36a7-4854-98be-5d128bae49cd",
   "metadata": {},
   "outputs": [],
   "source": [
    "                                                # FIG: 3 -> INTERCLASS SIMILARITIES\n",
    "\n",
    "import pandas as pd\n",
    "import numpy as np\n",
    "import matplotlib.pyplot as plt\n",
    "import seaborn as sns\n",
    "\n",
    "# Set figure size\n",
    "plt.figure(figsize=(6.5, 4.2))  # Set the size of the figure (width, height)\n",
    "\n",
    "# Generate sample similarity data for four classes (each with 20 values in the range 0 to 1)\n",
    "np.random.seed(42)  # For reproducibility\n",
    "class1class2 = calculate_interclass_similarity('class1', 'class2')\n",
    "class1class3 = calculate_interclass_similarity('class1', 'class3')\n",
    "class1class4 = calculate_interclass_similarity('class1', 'class4')\n",
    "class2class3 = calculate_interclass_similarity('class2', 'class3')\n",
    "class2class4 = calculate_interclass_similarity('class2', 'class4')\n",
    "class3class4 = calculate_interclass_similarity('class3', 'class4')\n",
    "\n",
    "# Sample DataFrame with four columns\n",
    "data=pd.DataFrame({'Class1 vs Class2':class1class2,'Class1 vs Class3':class1class3,'Class1 vs Class4':class1class4,'Class2 vs Class3':class2class3,'Class2 vs Class4':class2class4,'Class3 vs Class4':class3class4})\n",
    "df = pd.DataFrame(data)\n",
    "\n",
    "# Plot the probability distributions\n",
    "#plt.figure(figsize=(10, 6))\n",
    "\n",
    "# Define colors and line styles for each column\n",
    "colors = ['#1f77b4', '#ff7f0e', '#2ca02c', '#d62728', '#9467bd', '#8c564b']\n",
    "linestyles = ['-.', '--', '-', '-', '-.', '--']\n",
    "\n",
    "# Plot the probability distributions with unique colors and line styles\n",
    "for column, color, linestyle in zip(df.columns, colors, linestyles):\n",
    "    sns.kdeplot(df[column], label=column, color=color, linestyle=linestyle)\n",
    "\n",
    "#plt.title('Probability Distributions of Four Columns')\n",
    "plt.xlabel('Similarity',fontsize=12)\n",
    "plt.ylabel('Density',fontsize=12)\n",
    "plt.yticks(fontsize=12)  # Set y-tick labels font size\n",
    "plt.legend(loc='upper right',fontsize=12)  # Increase legend font size\n",
    "\n",
    "# Optimize layout\n",
    "plt.tight_layout()\n",
    "# Save the plot to a file\n",
    "plt.savefig('output/VoiceDivergenceD3.png', dpi=300, bbox_inches='tight')  # Save as a PNG file with high resolution\n",
    "\n",
    "# Show the plot\n",
    "plt.show()"
   ]
  },
  {
   "cell_type": "code",
   "execution_count": null,
   "id": "19754eee-5c1e-47e6-bbaa-b2cef05a1641",
   "metadata": {},
   "outputs": [],
   "source": []
  }
 ],
 "metadata": {
  "kernelspec": {
   "display_name": "Python 3 (ipykernel)",
   "language": "python",
   "name": "python3"
  },
  "language_info": {
   "codemirror_mode": {
    "name": "ipython",
    "version": 3
   },
   "file_extension": ".py",
   "mimetype": "text/x-python",
   "name": "python",
   "nbconvert_exporter": "python",
   "pygments_lexer": "ipython3",
   "version": "3.9.7"
  }
 },
 "nbformat": 4,
 "nbformat_minor": 5
}
