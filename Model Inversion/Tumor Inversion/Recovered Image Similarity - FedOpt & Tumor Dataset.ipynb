{
 "cells": [
  {
   "cell_type": "code",
   "execution_count": 1,
   "id": "646b38c2-386a-4f83-a983-ea764ad8267f",
   "metadata": {},
   "outputs": [],
   "source": [
    "# Attempting to recover training data using model's parameters and a DCGAN that was trained on similar data\n",
    "# Author: Suraj Neupane\n",
    "# Written from scratch as a part of a Research Project 2025, Concordia University of Edmonton.\n",
    "import numpy as np\n",
    "\n",
    "import torch\n",
    "from torch import nn\n",
    "from torch.nn import functional\n",
    "\n",
    "from torch.utils import data\n",
    "from torch.utils.data import DataLoader\n",
    "\n",
    "import torchvision\n",
    "from torchvision import datasets\n",
    "from torchvision import transforms\n",
    "\n",
    "import pickle\n",
    "\n",
    "import matplotlib.pyplot as plt\n",
    "%matplotlib inline"
   ]
  },
  {
   "cell_type": "code",
   "execution_count": 2,
   "id": "8b80ddb2-ed75-4870-85b4-9300fce0df7e",
   "metadata": {},
   "outputs": [
    {
     "data": {
      "text/plain": [
       "'2.5.1+cu118'"
      ]
     },
     "execution_count": 2,
     "metadata": {},
     "output_type": "execute_result"
    }
   ],
   "source": [
    "torch.__version__"
   ]
  },
  {
   "cell_type": "code",
   "execution_count": 3,
   "id": "d6950585-eb31-4f61-bd60-5bf8716fcdef",
   "metadata": {},
   "outputs": [],
   "source": [
    "device = 'cuda' if torch.cuda.is_available() else 'cpu'"
   ]
  },
  {
   "cell_type": "code",
   "execution_count": 4,
   "id": "36c47e07-6b7d-4123-a59d-5d465f9ef280",
   "metadata": {},
   "outputs": [
    {
     "data": {
      "text/plain": [
       "'cuda'"
      ]
     },
     "execution_count": 4,
     "metadata": {},
     "output_type": "execute_result"
    }
   ],
   "source": [
    "device"
   ]
  },
  {
   "cell_type": "code",
   "execution_count": 5,
   "id": "b852ca55-f33e-469f-b7b9-e00d21124927",
   "metadata": {},
   "outputs": [],
   "source": [
    "# DCGAN Implementation Class\n",
    "# Discriminator\n",
    "class Discriminator(nn.Module):\n",
    "    def __init__(self, img_channels, features_d):\n",
    "        super().__init__()\n",
    "        self.disc = nn.Sequential(\n",
    "            # Input shape: img_channels x 64 x 64\n",
    "            nn.Conv2d(\n",
    "              in_channels=img_channels, out_channels=features_d, kernel_size=4, stride=2, padding=1\n",
    "            ), # Output shape: features_d x 32 x 32\n",
    "            nn.LeakyReLU(0.2),\n",
    "            self._block(features_d, features_d*2, 4, 2, 1), # Output shape: features_d*2 x 16 x 16\n",
    "            self._block(features_d*2, features_d*4, 4, 2, 1), # Output shape: features_d*4 x 8 x 8\n",
    "            self._block(features_d*4, features_d*8, 4, 2, 1), # Output shape: features_d*8 x 4 x 4\n",
    "           \n",
    "            nn.Conv2d(in_channels=features_d*8, out_channels=1, kernel_size=4, stride=2, padding=0), # Output shape: 1 x 1\n",
    "            nn.Sigmoid(),\n",
    "        )\n",
    "\n",
    "    def _block(self, in_channels, out_channels, kernel_size, stride, padding):\n",
    "        return nn.Sequential(\n",
    "            nn.Conv2d(in_channels, out_channels, kernel_size, stride, padding, bias=False),\n",
    "            nn.BatchNorm2d(out_channels),\n",
    "            nn.LeakyReLU(0.2),\n",
    "        )\n",
    "\n",
    "    def forward(self, X):\n",
    "        return self.disc(X)\n"
   ]
  },
  {
   "cell_type": "code",
   "execution_count": 6,
   "id": "5afe02e5-61d3-4f25-8933-8484e519cd4a",
   "metadata": {},
   "outputs": [],
   "source": [
    "# Generator\n",
    "class Generator(nn.Module):\n",
    "    def __init__(self, z_dim, img_channels, features_g):\n",
    "        super().__init__()\n",
    "        self.gen = nn.Sequential(\n",
    "            self._block(z_dim, features_g*16, 4, 1, 0), # z_dim: (batch_size, 100, 1, 1) -> (batch_size, 1024, 4, 4)\n",
    "            self._block(features_g*16, features_g*8, 4, 2, 1), # z_dim: (batch_size, 1024, 4, 4) -> (batch_size, 512, 8, 8)\n",
    "            self._block(features_g*8, features_g*4, 4, 2, 1), # z_dim: (batch_size, 512, 8, 8) -> (batch_size, 256, 16, 16)\n",
    "            self._block(features_g*4, features_g*2, 4, 2, 1), # z_dim: (batch_size, 128, 16, 16) -> (batch_size, 64, 32, 32)\n",
    "            nn.ConvTranspose2d(\n",
    "                in_channels=features_g*2, out_channels=img_channels, kernel_size=4, stride=2, padding=1 # z_dim: (batch_size, 64, 32, 32) -> (batch_size, 1, 64, 64)\n",
    "            ),\n",
    "            nn.Tanh(),\n",
    "        )\n",
    "        \n",
    "    def _block(self, in_channels, out_channels, kernel_size, stride, padding):\n",
    "        return nn.Sequential(\n",
    "            nn.ConvTranspose2d(\n",
    "                in_channels, out_channels, kernel_size, stride, padding, bias=False,\n",
    "            ),\n",
    "            nn.BatchNorm2d(out_channels),\n",
    "            nn.ReLU(),\n",
    "        )\n",
    "\n",
    "    def forward(self, X):\n",
    "        return self.gen(X)"
   ]
  },
  {
   "cell_type": "code",
   "execution_count": 7,
   "id": "48c1be35-d58a-4d0c-990d-9250fbdbf1b3",
   "metadata": {},
   "outputs": [],
   "source": [
    "# Hyperparams\n",
    "z_dim = 100\n",
    "img_channels = 1\n",
    "features_disc = 64\n",
    "features_gen = 64"
   ]
  },
  {
   "cell_type": "code",
   "execution_count": 8,
   "id": "f2dc1f40-5c2e-4903-b2e7-7abe5cae9772",
   "metadata": {},
   "outputs": [],
   "source": [
    "# Create the model instances\n",
    "gen = Generator(z_dim, img_channels, features_gen).to(device)\n",
    "disc = Discriminator(img_channels, features_disc).to(device)"
   ]
  },
  {
   "cell_type": "code",
   "execution_count": 9,
   "id": "bc7a5deb-f8d8-41d4-aed3-d012d39a84b9",
   "metadata": {},
   "outputs": [
    {
     "data": {
      "text/plain": [
       "<All keys matched successfully>"
      ]
     },
     "execution_count": 9,
     "metadata": {},
     "output_type": "execute_result"
    }
   ],
   "source": [
    "# Load the trained GAN\n",
    "gen.load_state_dict(torch.load('saved models/Generator.pth', weights_only=True))\n",
    "disc.load_state_dict(torch.load('saved models/Discriminator.pth', weights_only=True))"
   ]
  },
  {
   "cell_type": "code",
   "execution_count": 10,
   "id": "a504e932-e168-4bb8-88cc-eea0810aafb0",
   "metadata": {},
   "outputs": [],
   "source": [
    "# Generate a random fake image\n",
    "noise = torch.randn(1, z_dim, 1, 1).to(device)\n",
    "fake_img = gen(noise)"
   ]
  },
  {
   "cell_type": "code",
   "execution_count": 11,
   "id": "98b5d73f-b130-4bc1-a868-c225bd2abe62",
   "metadata": {},
   "outputs": [
    {
     "data": {
      "text/plain": [
       "torch.Size([1, 1, 64, 64])"
      ]
     },
     "execution_count": 11,
     "metadata": {},
     "output_type": "execute_result"
    }
   ],
   "source": [
    "fake_img.shape"
   ]
  },
  {
   "cell_type": "code",
   "execution_count": 12,
   "id": "9d19338c-18e4-4b6e-842f-a225718fa8bb",
   "metadata": {},
   "outputs": [
    {
     "name": "stdout",
     "output_type": "stream",
     "text": [
      "torch.Size([64, 64])\n"
     ]
    },
    {
     "data": {
      "text/plain": [
       "<matplotlib.image.AxesImage at 0x2878b915a60>"
      ]
     },
     "execution_count": 12,
     "metadata": {},
     "output_type": "execute_result"
    },
    {
     "data": {
      "image/png": "[encoded data removed]",
      "text/plain": [
       "<Figure size 640x480 with 1 Axes>"
      ]
     },
     "metadata": {},
     "output_type": "display_data"
    }
   ],
   "source": [
    "fake_img = fake_img.squeeze()\n",
    "print(fake_img.shape)\n",
    "plt.axis(False)\n",
    "plt.title('Fake Generated Image:')\n",
    "plt.imshow(fake_img.cpu().detach(), cmap='gray')"
   ]
  },
  {
   "cell_type": "code",
   "execution_count": 13,
   "id": "cf2aefac-a759-4335-a3de-2065d6a6a9a5",
   "metadata": {},
   "outputs": [],
   "source": [
    "# Target Model\n",
    "class TFCNN(nn.Module):\n",
    "    def __init__(self, n_classes):\n",
    "        super().__init__()\n",
    "        self.n_classes = n_classes\n",
    "\n",
    "        self.encoder = nn.Sequential(\n",
    "            nn.Conv2d(3, 32, 3, stride=1, padding=1),\n",
    "            nn.ReLU(True),\n",
    "            nn.MaxPool2d(2),\n",
    "            nn.Conv2d(32, 64, 3, stride=1, padding=1),\n",
    "            nn.ReLU(True),\n",
    "            nn.MaxPool2d(2),\n",
    "            nn.Conv2d(64, 64, 3, stride=1, padding=1),\n",
    "            nn.ReLU(True),\n",
    "            nn.MaxPool2d(2),\n",
    "            Reshape(),\n",
    "        )\n",
    "\n",
    "        self.h_size = 64 * 4 * 4\n",
    "\n",
    "        self.classifier = nn.Sequential(\n",
    "            nn.Linear(64 * 4 * 4, 128),\n",
    "            nn.ReLU(True),\n",
    "            nn.Linear(128, n_classes)\n",
    "        )\n",
    "\n",
    "    def forward(self, xs):\n",
    "        code = self.encoder(xs)\n",
    "        logits = self.classifier(code)\n",
    "        return code, logits\n"
   ]
  },
  {
   "cell_type": "code",
   "execution_count": 14,
   "id": "d28876e2-91ee-4ebf-bc52-b71dc82edfa2",
   "metadata": {},
   "outputs": [],
   "source": [
    "class Reshape(nn.Module):\n",
    "    def __init__(self,):\n",
    "        super().__init__()\n",
    "\n",
    "    def forward(self, xs):\n",
    "        return xs.reshape((xs.shape[0], -1))"
   ]
  },
  {
   "cell_type": "code",
   "execution_count": 15,
   "id": "dd57210c-2c18-4651-8f29-be94a7a7a88f",
   "metadata": {},
   "outputs": [],
   "source": [
    "class ClassifyNet(nn.Module):\n",
    "    def __init__(self, net, init_way, n_classes, input_size=None):\n",
    "        super().__init__()\n",
    "        self.net = net\n",
    "        self.init_way = init_way\n",
    "        self.n_classes = n_classes\n",
    "\n",
    "        model = TFCNN(n_classes)\n",
    "\n",
    "        self.h_size = model.h_size\n",
    "\n",
    "        # Convo and pool layers\n",
    "        self.encoder = model.encoder\n",
    "\n",
    "        # Classifier layer\n",
    "        self.classifier = nn.Linear(\n",
    "            self.h_size, self.n_classes, bias=False\n",
    "        )\n",
    "\n",
    "        if self.init_way == \"orth\":\n",
    "            ws = get_orth_weights(self.h_size, self.n_classes)\n",
    "            self.classifier.load_state_dict({\"weight\": ws})\n",
    "\n",
    "    def forward(self, xs):\n",
    "        hs = self.encoder(xs)\n",
    "        logits = self.classifier(hs)\n",
    "        return hs, logits"
   ]
  },
  {
   "cell_type": "code",
   "execution_count": 16,
   "id": "83ea3c08-0470-4c9a-ba15-8328a316b3ab",
   "metadata": {},
   "outputs": [],
   "source": [
    "def load_target_model(base_net, n_classes, path):\n",
    "    # Create the base model\n",
    "    model = ClassifyNet(net=base_net, init_way='none', n_classes=n_classes)\n",
    "    # Load the model\n",
    "    model.load_state_dict(torch.load(path, weights_only=True))\n",
    "\n",
    "    return model"
   ]
  },
  {
   "cell_type": "code",
   "execution_count": 17,
   "id": "0880f1aa-9d08-445a-85ac-f1ff3cebde04",
   "metadata": {},
   "outputs": [
    {
     "name": "stdout",
     "output_type": "stream",
     "text": [
      "Model loaded successfully!\n",
      "Number of parameters in the loaded model: 60416\n"
     ]
    }
   ],
   "source": [
    "# Target Model Loading\n",
    "BASE_NET = 'TFCNN'\n",
    "DATASET = 'tumor4'\n",
    "N_CLASSES = 4\n",
    "\n",
    "target_model = load_target_model(base_net=BASE_NET, n_classes=N_CLASSES, path='saved models/fedopt_global_model.path').to(device)\n",
    "print('Model loaded successfully!')\n",
    "target_model.eval()\n",
    "\n",
    "num_params = sum(p.numel() for p in target_model.parameters())\n",
    "print('Number of parameters in the loaded model:', num_params)\n"
   ]
  },
  {
   "cell_type": "code",
   "execution_count": 18,
   "id": "f843f19e-b2a5-4ffe-b22b-de4ff93c5643",
   "metadata": {},
   "outputs": [],
   "source": [
    "# BEGIN BATCH MODEL INVERSION\n",
    "img_count = 20\n",
    "latent_vectors = torch.randn(img_count, z_dim, 1, 1, requires_grad=True) # Start with 20 random noises"
   ]
  },
  {
   "cell_type": "code",
   "execution_count": 19,
   "id": "c21320ed-d5ac-4919-aaad-8cfa093998a6",
   "metadata": {},
   "outputs": [],
   "source": [
    "def recover_images(count, target_image_class, latent_vectors):\n",
    "    optimized_latent_vectors = []\n",
    "    \n",
    "    for x in range(0, count):\n",
    "        z = latent_vectors[x].unsqueeze(dim=0).clone().detach().requires_grad_(True)\n",
    "        \n",
    "        learning_rate = 0.01\n",
    "        target_class = 1 # The second class\n",
    "        \n",
    "        # Create the optimizer\n",
    "        optimizer = torch.optim.Adam([z], lr=learning_rate)\n",
    "        \n",
    "        # Loss function (e.g., Cross-Entropy with classifier outputs)\n",
    "        loss_fn = nn.CrossEntropyLoss()\n",
    "        target_class = torch.tensor([target_image_class])  # Set the target class\n",
    "    \n",
    "        # Optimization loop to find the best z\n",
    "        rounds = 500\n",
    "        for i in range(rounds):\n",
    "            optimizer.zero_grad()\n",
    "            \n",
    "            generated_image = gen(z.to(device))  # Generate an image from the latent vector\n",
    "            generated_image = generated_image.repeat(1, 3, 1, 1)\n",
    "            generated_image = functional.interpolate(generated_image, size=(32, 32), mode='nearest')\n",
    "            #print(generated_image.shape)\n",
    "            hs, prediction_logits = target_model(generated_image)  # Classifier output\n",
    "            #print(prediction_logits)\n",
    "            #print(type(prediction_logits))\n",
    "            loss = loss_fn(prediction_logits, target_class.to(device))  # Minimize difference with true class\n",
    "            loss.backward()\n",
    "            optimizer.step()\n",
    "            \n",
    "            if i % 50 == 0:\n",
    "                print(f\"Generating Image Number: {x+1} for target class {target_class}. Step {i}, Loss: {loss.item()}\")\n",
    "    \n",
    "        optimized_latent_vectors.append(z)\n",
    "        \n",
    "    return optimized_latent_vectors"
   ]
  },
  {
   "cell_type": "code",
   "execution_count": 20,
   "id": "9ebc9533-23ca-4d44-8aea-9d134281b3a4",
   "metadata": {
    "scrolled": true
   },
   "outputs": [
    {
     "name": "stdout",
     "output_type": "stream",
     "text": [
      "Generating Image Number: 1 for target class tensor([0]). Step 0, Loss: 9.741751670837402\n",
      "Generating Image Number: 1 for target class tensor([0]). Step 50, Loss: 0.13393284380435944\n",
      "Generating Image Number: 1 for target class tensor([0]). Step 100, Loss: 0.03615930676460266\n",
      "Generating Image Number: 1 for target class tensor([0]). Step 150, Loss: 0.024801675230264664\n",
      "Generating Image Number: 1 for target class tensor([0]). Step 200, Loss: 0.017269009724259377\n",
      "Generating Image Number: 1 for target class tensor([0]). Step 250, Loss: 0.012522757053375244\n",
      "Generating Image Number: 1 for target class tensor([0]). Step 300, Loss: 0.00925666093826294\n",
      "Generating Image Number: 1 for target class tensor([0]). Step 350, Loss: 0.007265810389071703\n",
      "Generating Image Number: 1 for target class tensor([0]). Step 400, Loss: 0.0060469298623502254\n",
      "Generating Image Number: 1 for target class tensor([0]). Step 450, Loss: 0.005164614878594875\n",
      "Generating Image Number: 2 for target class tensor([0]). Step 0, Loss: 7.397690296173096\n",
      "Generating Image Number: 2 for target class tensor([0]). Step 50, Loss: 0.011065781116485596\n",
      "Generating Image Number: 2 for target class tensor([0]). Step 100, Loss: 0.005465090274810791\n",
      "Generating Image Number: 2 for target class tensor([0]). Step 150, Loss: 0.004017259925603867\n",
      "Generating Image Number: 2 for target class tensor([0]). Step 200, Loss: 0.003318519564345479\n",
      "Generating Image Number: 2 for target class tensor([0]). Step 250, Loss: 0.0027909635100513697\n",
      "Generating Image Number: 2 for target class tensor([0]). Step 300, Loss: 0.0024221388157457113\n",
      "Generating Image Number: 2 for target class tensor([0]). Step 350, Loss: 0.002146204235032201\n",
      "Generating Image Number: 2 for target class tensor([0]). Step 400, Loss: 0.0018898261478170753\n",
      "Generating Image Number: 2 for target class tensor([0]). Step 450, Loss: 0.0016857474111020565\n",
      "Generating Image Number: 3 for target class tensor([0]). Step 0, Loss: 21.40471649169922\n",
      "Generating Image Number: 3 for target class tensor([0]). Step 50, Loss: 0.007010742090642452\n",
      "Generating Image Number: 3 for target class tensor([0]). Step 100, Loss: 0.002037236699834466\n",
      "Generating Image Number: 3 for target class tensor([0]). Step 150, Loss: 0.0013383012264966965\n",
      "Generating Image Number: 3 for target class tensor([0]). Step 200, Loss: 0.0009521479951217771\n",
      "Generating Image Number: 3 for target class tensor([0]). Step 250, Loss: 0.0007407305529341102\n",
      "Generating Image Number: 3 for target class tensor([0]). Step 300, Loss: 0.0006030171643942595\n",
      "Generating Image Number: 3 for target class tensor([0]). Step 350, Loss: 0.0004998388467356563\n",
      "Generating Image Number: 3 for target class tensor([0]). Step 400, Loss: 0.00041845624218694866\n",
      "Generating Image Number: 3 for target class tensor([0]). Step 450, Loss: 0.00035958975786343217\n",
      "Generating Image Number: 4 for target class tensor([0]). Step 0, Loss: 4.942976474761963\n",
      "Generating Image Number: 4 for target class tensor([0]). Step 50, Loss: 0.020064249634742737\n",
      "Generating Image Number: 4 for target class tensor([0]). Step 100, Loss: 0.012350273318588734\n",
      "Generating Image Number: 4 for target class tensor([0]). Step 150, Loss: 0.009884105063974857\n",
      "Generating Image Number: 4 for target class tensor([0]). Step 200, Loss: 0.007755644153803587\n",
      "Generating Image Number: 4 for target class tensor([0]). Step 250, Loss: 0.006529662758111954\n",
      "Generating Image Number: 4 for target class tensor([0]). Step 300, Loss: 0.0056412541307508945\n",
      "Generating Image Number: 4 for target class tensor([0]). Step 350, Loss: 0.004871760495007038\n",
      "Generating Image Number: 4 for target class tensor([0]). Step 400, Loss: 0.004280096851289272\n",
      "Generating Image Number: 4 for target class tensor([0]). Step 450, Loss: 0.0038124273996800184\n",
      "Generating Image Number: 5 for target class tensor([0]). Step 0, Loss: 4.0247955322265625\n",
      "Generating Image Number: 5 for target class tensor([0]). Step 50, Loss: 0.004872353747487068\n",
      "Generating Image Number: 5 for target class tensor([0]). Step 100, Loss: 0.003197202691808343\n",
      "Generating Image Number: 5 for target class tensor([0]). Step 150, Loss: 0.0024261821527034044\n",
      "Generating Image Number: 5 for target class tensor([0]). Step 200, Loss: 0.001987864263355732\n",
      "Generating Image Number: 5 for target class tensor([0]). Step 250, Loss: 0.0016075557796284556\n",
      "Generating Image Number: 5 for target class tensor([0]). Step 300, Loss: 0.0012868703342974186\n",
      "Generating Image Number: 5 for target class tensor([0]). Step 350, Loss: 0.0010846928926184773\n",
      "Generating Image Number: 5 for target class tensor([0]). Step 400, Loss: 0.0009483369067311287\n",
      "Generating Image Number: 5 for target class tensor([0]). Step 450, Loss: 0.0008373330347239971\n",
      "Generating Image Number: 6 for target class tensor([0]). Step 0, Loss: 6.339385032653809\n",
      "Generating Image Number: 6 for target class tensor([0]). Step 50, Loss: 0.022376667708158493\n",
      "Generating Image Number: 6 for target class tensor([0]). Step 100, Loss: 0.01034564059227705\n",
      "Generating Image Number: 6 for target class tensor([0]). Step 150, Loss: 0.00636384217068553\n",
      "Generating Image Number: 6 for target class tensor([0]). Step 200, Loss: 0.0051356772892177105\n",
      "Generating Image Number: 6 for target class tensor([0]). Step 250, Loss: 0.00428674416616559\n",
      "Generating Image Number: 6 for target class tensor([0]). Step 300, Loss: 0.0037030475214123726\n",
      "Generating Image Number: 6 for target class tensor([0]). Step 350, Loss: 0.0032062334939837456\n",
      "Generating Image Number: 6 for target class tensor([0]). Step 400, Loss: 0.0027473345398902893\n",
      "Generating Image Number: 6 for target class tensor([0]). Step 450, Loss: 0.002377542434260249\n",
      "Generating Image Number: 7 for target class tensor([0]). Step 0, Loss: 13.802388191223145\n",
      "Generating Image Number: 7 for target class tensor([0]). Step 50, Loss: 0.31480151414871216\n",
      "Generating Image Number: 7 for target class tensor([0]). Step 100, Loss: 0.09050058573484421\n",
      "Generating Image Number: 7 for target class tensor([0]). Step 150, Loss: 0.056270550936460495\n",
      "Generating Image Number: 7 for target class tensor([0]). Step 200, Loss: 0.041150692850351334\n",
      "Generating Image Number: 7 for target class tensor([0]). Step 250, Loss: 0.032368049025535583\n",
      "Generating Image Number: 7 for target class tensor([0]). Step 300, Loss: 0.025981545448303223\n",
      "Generating Image Number: 7 for target class tensor([0]). Step 350, Loss: 0.02249591238796711\n",
      "Generating Image Number: 7 for target class tensor([0]). Step 400, Loss: 0.019918538630008698\n",
      "Generating Image Number: 7 for target class tensor([0]). Step 450, Loss: 0.01709851436316967\n",
      "Generating Image Number: 8 for target class tensor([0]). Step 0, Loss: 9.787238121032715\n",
      "Generating Image Number: 8 for target class tensor([0]). Step 50, Loss: 1.1837422847747803\n",
      "Generating Image Number: 8 for target class tensor([0]). Step 100, Loss: 0.40487390756607056\n",
      "Generating Image Number: 8 for target class tensor([0]). Step 150, Loss: 0.12397447228431702\n",
      "Generating Image Number: 8 for target class tensor([0]). Step 200, Loss: 0.07041464745998383\n",
      "Generating Image Number: 8 for target class tensor([0]). Step 250, Loss: 0.050981394946575165\n",
      "Generating Image Number: 8 for target class tensor([0]). Step 300, Loss: 0.04136402904987335\n",
      "Generating Image Number: 8 for target class tensor([0]). Step 350, Loss: 0.034985292702913284\n",
      "Generating Image Number: 8 for target class tensor([0]). Step 400, Loss: 0.029811974614858627\n",
      "Generating Image Number: 8 for target class tensor([0]). Step 450, Loss: 0.02581450343132019\n",
      "Generating Image Number: 9 for target class tensor([0]). Step 0, Loss: 0.3968942165374756\n",
      "Generating Image Number: 9 for target class tensor([0]). Step 50, Loss: 0.006321434862911701\n",
      "Generating Image Number: 9 for target class tensor([0]). Step 100, Loss: 0.003630714723840356\n",
      "Generating Image Number: 9 for target class tensor([0]). Step 150, Loss: 0.0025481870397925377\n",
      "Generating Image Number: 9 for target class tensor([0]). Step 200, Loss: 0.0018954183906316757\n",
      "Generating Image Number: 9 for target class tensor([0]). Step 250, Loss: 0.0015151937259361148\n",
      "Generating Image Number: 9 for target class tensor([0]). Step 300, Loss: 0.0012359131360426545\n",
      "Generating Image Number: 9 for target class tensor([0]). Step 350, Loss: 0.0010007378878071904\n",
      "Generating Image Number: 9 for target class tensor([0]). Step 400, Loss: 0.0007923085941001773\n",
      "Generating Image Number: 9 for target class tensor([0]). Step 450, Loss: 0.0006443570018745959\n",
      "Generating Image Number: 10 for target class tensor([0]). Step 0, Loss: 6.030486583709717\n",
      "Generating Image Number: 10 for target class tensor([0]). Step 50, Loss: 0.029846109449863434\n",
      "Generating Image Number: 10 for target class tensor([0]). Step 100, Loss: 0.012558073736727238\n",
      "Generating Image Number: 10 for target class tensor([0]). Step 150, Loss: 0.009446210227906704\n",
      "Generating Image Number: 10 for target class tensor([0]). Step 200, Loss: 0.0073539745062589645\n",
      "Generating Image Number: 10 for target class tensor([0]). Step 250, Loss: 0.0059889862313866615\n",
      "Generating Image Number: 10 for target class tensor([0]). Step 300, Loss: 0.0050957091152668\n",
      "Generating Image Number: 10 for target class tensor([0]). Step 350, Loss: 0.0043088216334581375\n",
      "Generating Image Number: 10 for target class tensor([0]). Step 400, Loss: 0.003682381473481655\n",
      "Generating Image Number: 10 for target class tensor([0]). Step 450, Loss: 0.0032876271288841963\n",
      "Generating Image Number: 11 for target class tensor([0]). Step 0, Loss: 8.40277099609375\n",
      "Generating Image Number: 11 for target class tensor([0]). Step 50, Loss: 0.0065455324947834015\n",
      "Generating Image Number: 11 for target class tensor([0]). Step 100, Loss: 0.001808556611649692\n",
      "Generating Image Number: 11 for target class tensor([0]). Step 150, Loss: 0.0009991897968575358\n",
      "Generating Image Number: 11 for target class tensor([0]). Step 200, Loss: 0.0006984416977502406\n",
      "Generating Image Number: 11 for target class tensor([0]). Step 250, Loss: 0.0005436849314719439\n",
      "Generating Image Number: 11 for target class tensor([0]). Step 300, Loss: 0.00042846560245379806\n",
      "Generating Image Number: 11 for target class tensor([0]). Step 350, Loss: 0.00035553809721022844\n",
      "Generating Image Number: 11 for target class tensor([0]). Step 400, Loss: 0.0002953569928649813\n",
      "Generating Image Number: 11 for target class tensor([0]). Step 450, Loss: 0.00025138078490272164\n",
      "Generating Image Number: 12 for target class tensor([0]). Step 0, Loss: 19.006420135498047\n",
      "Generating Image Number: 12 for target class tensor([0]). Step 50, Loss: 0.012774305418133736\n",
      "Generating Image Number: 12 for target class tensor([0]). Step 100, Loss: 0.004463471472263336\n",
      "Generating Image Number: 12 for target class tensor([0]). Step 150, Loss: 0.003927376586943865\n",
      "Generating Image Number: 12 for target class tensor([0]). Step 200, Loss: 0.0032721806783229113\n",
      "Generating Image Number: 12 for target class tensor([0]). Step 250, Loss: 0.0027581527829170227\n",
      "Generating Image Number: 12 for target class tensor([0]). Step 300, Loss: 0.0023619630374014378\n",
      "Generating Image Number: 12 for target class tensor([0]). Step 350, Loss: 0.0018945855554193258\n",
      "Generating Image Number: 12 for target class tensor([0]). Step 400, Loss: 0.0015751824248582125\n",
      "Generating Image Number: 12 for target class tensor([0]). Step 450, Loss: 0.0013768726494163275\n",
      "Generating Image Number: 13 for target class tensor([0]). Step 0, Loss: 18.6845645904541\n",
      "Generating Image Number: 13 for target class tensor([0]). Step 50, Loss: 0.17204579710960388\n",
      "Generating Image Number: 13 for target class tensor([0]). Step 100, Loss: 0.044244855642318726\n",
      "Generating Image Number: 13 for target class tensor([0]). Step 150, Loss: 0.02211877889931202\n",
      "Generating Image Number: 13 for target class tensor([0]). Step 200, Loss: 0.01492488943040371\n",
      "Generating Image Number: 13 for target class tensor([0]). Step 250, Loss: 0.011378160677850246\n",
      "Generating Image Number: 13 for target class tensor([0]). Step 300, Loss: 0.009204218164086342\n",
      "Generating Image Number: 13 for target class tensor([0]). Step 350, Loss: 0.007734470535069704\n",
      "Generating Image Number: 13 for target class tensor([0]). Step 400, Loss: 0.006528478115797043\n",
      "Generating Image Number: 13 for target class tensor([0]). Step 450, Loss: 0.005665080156177282\n",
      "Generating Image Number: 14 for target class tensor([0]). Step 0, Loss: 12.710687637329102\n",
      "Generating Image Number: 14 for target class tensor([0]). Step 50, Loss: 0.16935473680496216\n",
      "Generating Image Number: 14 for target class tensor([0]). Step 100, Loss: 0.05325186252593994\n",
      "Generating Image Number: 14 for target class tensor([0]). Step 150, Loss: 0.03042052872478962\n",
      "Generating Image Number: 14 for target class tensor([0]). Step 200, Loss: 0.013576553203165531\n",
      "Generating Image Number: 14 for target class tensor([0]). Step 250, Loss: 0.007987580262124538\n",
      "Generating Image Number: 14 for target class tensor([0]). Step 300, Loss: 0.005760496947914362\n",
      "Generating Image Number: 14 for target class tensor([0]). Step 350, Loss: 0.00486060930415988\n",
      "Generating Image Number: 14 for target class tensor([0]). Step 400, Loss: 0.004007167648524046\n",
      "Generating Image Number: 14 for target class tensor([0]). Step 450, Loss: 0.0028586022090166807\n",
      "Generating Image Number: 15 for target class tensor([0]). Step 0, Loss: 2.750577449798584\n",
      "Generating Image Number: 15 for target class tensor([0]). Step 50, Loss: 0.013798325322568417\n",
      "Generating Image Number: 15 for target class tensor([0]). Step 100, Loss: 0.007919342257082462\n",
      "Generating Image Number: 15 for target class tensor([0]). Step 150, Loss: 0.005109110847115517\n",
      "Generating Image Number: 15 for target class tensor([0]). Step 200, Loss: 0.003630714723840356\n",
      "Generating Image Number: 15 for target class tensor([0]). Step 250, Loss: 0.002814976265653968\n",
      "Generating Image Number: 15 for target class tensor([0]). Step 300, Loss: 0.0024317714851349592\n",
      "Generating Image Number: 15 for target class tensor([0]). Step 350, Loss: 0.002115632640197873\n",
      "Generating Image Number: 15 for target class tensor([0]). Step 400, Loss: 0.001905888901092112\n",
      "Generating Image Number: 15 for target class tensor([0]). Step 450, Loss: 0.0016959820641204715\n",
      "Generating Image Number: 16 for target class tensor([0]). Step 0, Loss: 13.943619728088379\n",
      "Generating Image Number: 16 for target class tensor([0]). Step 50, Loss: 0.23048822581768036\n",
      "Generating Image Number: 16 for target class tensor([0]). Step 100, Loss: 0.05661024525761604\n",
      "Generating Image Number: 16 for target class tensor([0]). Step 150, Loss: 0.03506563603878021\n",
      "Generating Image Number: 16 for target class tensor([0]). Step 200, Loss: 0.026589764282107353\n",
      "Generating Image Number: 16 for target class tensor([0]). Step 250, Loss: 0.0218023881316185\n",
      "Generating Image Number: 16 for target class tensor([0]). Step 300, Loss: 0.018430761992931366\n",
      "Generating Image Number: 16 for target class tensor([0]). Step 350, Loss: 0.015814362093806267\n",
      "Generating Image Number: 16 for target class tensor([0]). Step 400, Loss: 0.013465884141623974\n",
      "Generating Image Number: 16 for target class tensor([0]). Step 450, Loss: 0.010453234426677227\n",
      "Generating Image Number: 17 for target class tensor([0]). Step 0, Loss: 17.315664291381836\n",
      "Generating Image Number: 17 for target class tensor([0]). Step 50, Loss: 4.014082431793213\n",
      "Generating Image Number: 17 for target class tensor([0]). Step 100, Loss: 0.5495728254318237\n",
      "Generating Image Number: 17 for target class tensor([0]). Step 150, Loss: 0.26020869612693787\n",
      "Generating Image Number: 17 for target class tensor([0]). Step 200, Loss: 0.18097203969955444\n",
      "Generating Image Number: 17 for target class tensor([0]). Step 250, Loss: 0.11835454404354095\n",
      "Generating Image Number: 17 for target class tensor([0]). Step 300, Loss: 0.09313573688268661\n",
      "Generating Image Number: 17 for target class tensor([0]). Step 350, Loss: 0.07643289119005203\n",
      "Generating Image Number: 17 for target class tensor([0]). Step 400, Loss: 0.06648363173007965\n",
      "Generating Image Number: 17 for target class tensor([0]). Step 450, Loss: 0.05856256186962128\n",
      "Generating Image Number: 18 for target class tensor([0]). Step 0, Loss: 6.8012309074401855\n",
      "Generating Image Number: 18 for target class tensor([0]). Step 50, Loss: 0.0735546201467514\n",
      "Generating Image Number: 18 for target class tensor([0]). Step 100, Loss: 0.04446232691407204\n",
      "Generating Image Number: 18 for target class tensor([0]). Step 150, Loss: 0.03639371693134308\n",
      "Generating Image Number: 18 for target class tensor([0]). Step 200, Loss: 0.02805769443511963\n",
      "Generating Image Number: 18 for target class tensor([0]). Step 250, Loss: 0.01702444814145565\n",
      "Generating Image Number: 18 for target class tensor([0]). Step 300, Loss: 0.008087861351668835\n",
      "Generating Image Number: 18 for target class tensor([0]). Step 350, Loss: 0.006778223440051079\n",
      "Generating Image Number: 18 for target class tensor([0]). Step 400, Loss: 0.005984483286738396\n",
      "Generating Image Number: 18 for target class tensor([0]). Step 450, Loss: 0.005432841368019581\n",
      "Generating Image Number: 19 for target class tensor([0]). Step 0, Loss: 8.361842155456543\n",
      "Generating Image Number: 19 for target class tensor([0]). Step 50, Loss: 0.09082482010126114\n",
      "Generating Image Number: 19 for target class tensor([0]). Step 100, Loss: 0.017138006165623665\n",
      "Generating Image Number: 19 for target class tensor([0]). Step 150, Loss: 0.01013136189430952\n",
      "Generating Image Number: 19 for target class tensor([0]). Step 200, Loss: 0.007214447017759085\n",
      "Generating Image Number: 19 for target class tensor([0]). Step 250, Loss: 0.005593837704509497\n",
      "Generating Image Number: 19 for target class tensor([0]). Step 300, Loss: 0.004620233550667763\n",
      "Generating Image Number: 19 for target class tensor([0]). Step 350, Loss: 0.003956942819058895\n",
      "Generating Image Number: 19 for target class tensor([0]). Step 400, Loss: 0.003420694498345256\n",
      "Generating Image Number: 19 for target class tensor([0]). Step 450, Loss: 0.003006345359608531\n",
      "Generating Image Number: 20 for target class tensor([0]). Step 0, Loss: 15.452154159545898\n",
      "Generating Image Number: 20 for target class tensor([0]). Step 50, Loss: 1.0108680725097656\n",
      "Generating Image Number: 20 for target class tensor([0]). Step 100, Loss: 0.362428218126297\n",
      "Generating Image Number: 20 for target class tensor([0]). Step 150, Loss: 0.22859379649162292\n",
      "Generating Image Number: 20 for target class tensor([0]). Step 200, Loss: 0.1710411161184311\n",
      "Generating Image Number: 20 for target class tensor([0]). Step 250, Loss: 0.13771356642246246\n",
      "Generating Image Number: 20 for target class tensor([0]). Step 300, Loss: 0.11788252741098404\n",
      "Generating Image Number: 20 for target class tensor([0]). Step 350, Loss: 0.10379002243280411\n",
      "Generating Image Number: 20 for target class tensor([0]). Step 400, Loss: 0.0866927057504654\n",
      "Generating Image Number: 20 for target class tensor([0]). Step 450, Loss: 0.070964016020298\n"
     ]
    }
   ],
   "source": [
    "class0_optimized_latent_vectors = recover_images(img_count, 0, latent_vectors)"
   ]
  },
  {
   "cell_type": "code",
   "execution_count": 21,
   "id": "6718334c-2bb1-42a3-bd8c-6aea38e6b59c",
   "metadata": {
    "scrolled": true
   },
   "outputs": [
    {
     "name": "stdout",
     "output_type": "stream",
     "text": [
      "Generating Image Number: 1 for target class tensor([1]). Step 0, Loss: 5.752497673034668\n",
      "Generating Image Number: 1 for target class tensor([1]). Step 50, Loss: 0.02309332601726055\n",
      "Generating Image Number: 1 for target class tensor([1]). Step 100, Loss: 0.009947961196303368\n",
      "Generating Image Number: 1 for target class tensor([1]). Step 150, Loss: 0.0062425388023257256\n",
      "Generating Image Number: 1 for target class tensor([1]). Step 200, Loss: 0.004466319922357798\n",
      "Generating Image Number: 1 for target class tensor([1]). Step 250, Loss: 0.003605414880439639\n",
      "Generating Image Number: 1 for target class tensor([1]). Step 300, Loss: 0.0030183494091033936\n",
      "Generating Image Number: 1 for target class tensor([1]). Step 350, Loss: 0.0025737513788044453\n",
      "Generating Image Number: 1 for target class tensor([1]). Step 400, Loss: 0.002257182030007243\n",
      "Generating Image Number: 1 for target class tensor([1]). Step 450, Loss: 0.001986198825761676\n",
      "Generating Image Number: 2 for target class tensor([1]). Step 0, Loss: 3.9099841117858887\n",
      "Generating Image Number: 2 for target class tensor([1]). Step 50, Loss: 0.07070647180080414\n",
      "Generating Image Number: 2 for target class tensor([1]). Step 100, Loss: 0.02718682400882244\n",
      "Generating Image Number: 2 for target class tensor([1]). Step 150, Loss: 0.018321212381124496\n",
      "Generating Image Number: 2 for target class tensor([1]). Step 200, Loss: 0.013144743628799915\n",
      "Generating Image Number: 2 for target class tensor([1]). Step 250, Loss: 0.01003317441791296\n",
      "Generating Image Number: 2 for target class tensor([1]). Step 300, Loss: 0.007914611138403416\n",
      "Generating Image Number: 2 for target class tensor([1]). Step 350, Loss: 0.006194202695041895\n",
      "Generating Image Number: 2 for target class tensor([1]). Step 400, Loss: 0.005128680262714624\n",
      "Generating Image Number: 2 for target class tensor([1]). Step 450, Loss: 0.004310127347707748\n",
      "Generating Image Number: 3 for target class tensor([1]). Step 0, Loss: 12.897051811218262\n",
      "Generating Image Number: 3 for target class tensor([1]). Step 50, Loss: 0.014084110967814922\n",
      "Generating Image Number: 3 for target class tensor([1]). Step 100, Loss: 0.005604506470263004\n",
      "Generating Image Number: 3 for target class tensor([1]). Step 150, Loss: 0.0041007245890796185\n",
      "Generating Image Number: 3 for target class tensor([1]). Step 200, Loss: 0.0033182818442583084\n",
      "Generating Image Number: 3 for target class tensor([1]). Step 250, Loss: 0.0027506633196026087\n",
      "Generating Image Number: 3 for target class tensor([1]). Step 300, Loss: 0.0022665781434625387\n",
      "Generating Image Number: 3 for target class tensor([1]). Step 350, Loss: 0.0019239740213379264\n",
      "Generating Image Number: 3 for target class tensor([1]). Step 400, Loss: 0.001662064460106194\n",
      "Generating Image Number: 3 for target class tensor([1]). Step 450, Loss: 0.0014078239910304546\n",
      "Generating Image Number: 4 for target class tensor([1]). Step 0, Loss: 8.196391105651855\n",
      "Generating Image Number: 4 for target class tensor([1]). Step 50, Loss: 0.00121007626876235\n",
      "Generating Image Number: 4 for target class tensor([1]). Step 100, Loss: 0.0009628665866330266\n",
      "Generating Image Number: 4 for target class tensor([1]). Step 150, Loss: 0.0008024332928471267\n",
      "Generating Image Number: 4 for target class tensor([1]). Step 200, Loss: 0.0006841464783065021\n",
      "Generating Image Number: 4 for target class tensor([1]). Step 250, Loss: 0.0005714452126994729\n",
      "Generating Image Number: 4 for target class tensor([1]). Step 300, Loss: 0.00047636605449952185\n",
      "Generating Image Number: 4 for target class tensor([1]). Step 350, Loss: 0.0004076126788277179\n",
      "Generating Image Number: 4 for target class tensor([1]). Step 400, Loss: 0.0003599472693167627\n",
      "Generating Image Number: 4 for target class tensor([1]). Step 450, Loss: 0.0003209791029803455\n",
      "Generating Image Number: 5 for target class tensor([1]). Step 0, Loss: 0.20369136333465576\n",
      "Generating Image Number: 5 for target class tensor([1]). Step 50, Loss: 0.0002169373765354976\n",
      "Generating Image Number: 5 for target class tensor([1]). Step 100, Loss: 0.00012242044613230973\n",
      "Generating Image Number: 5 for target class tensor([1]). Step 150, Loss: 8.260862523457035e-05\n",
      "Generating Image Number: 5 for target class tensor([1]). Step 200, Loss: 6.675497570540756e-05\n",
      "Generating Image Number: 5 for target class tensor([1]). Step 250, Loss: 5.61460001335945e-05\n",
      "Generating Image Number: 5 for target class tensor([1]). Step 300, Loss: 4.815939246327616e-05\n",
      "Generating Image Number: 5 for target class tensor([1]). Step 350, Loss: 4.1960789531003684e-05\n",
      "Generating Image Number: 5 for target class tensor([1]). Step 400, Loss: 3.6238969187252223e-05\n",
      "Generating Image Number: 5 for target class tensor([1]). Step 450, Loss: 3.1709168979432434e-05\n",
      "Generating Image Number: 6 for target class tensor([1]). Step 0, Loss: 4.982045650482178\n",
      "Generating Image Number: 6 for target class tensor([1]). Step 50, Loss: 0.0007645544828847051\n",
      "Generating Image Number: 6 for target class tensor([1]). Step 100, Loss: 0.0005060345865786076\n",
      "Generating Image Number: 6 for target class tensor([1]). Step 150, Loss: 0.00039545822073705494\n",
      "Generating Image Number: 6 for target class tensor([1]). Step 200, Loss: 0.00032586511224508286\n",
      "Generating Image Number: 6 for target class tensor([1]). Step 250, Loss: 0.0002739054325502366\n",
      "Generating Image Number: 6 for target class tensor([1]). Step 300, Loss: 0.0002273062855238095\n",
      "Generating Image Number: 6 for target class tensor([1]). Step 350, Loss: 0.00019095504831057042\n",
      "Generating Image Number: 6 for target class tensor([1]). Step 400, Loss: 0.00016509123088326305\n",
      "Generating Image Number: 6 for target class tensor([1]). Step 450, Loss: 0.00014435203047469258\n",
      "Generating Image Number: 7 for target class tensor([1]). Step 0, Loss: 8.230499267578125\n",
      "Generating Image Number: 7 for target class tensor([1]). Step 50, Loss: 0.0020582936704158783\n",
      "Generating Image Number: 7 for target class tensor([1]). Step 100, Loss: 0.0009531007381156087\n",
      "Generating Image Number: 7 for target class tensor([1]). Step 150, Loss: 0.000714523543138057\n",
      "Generating Image Number: 7 for target class tensor([1]). Step 200, Loss: 0.0006092122639529407\n",
      "Generating Image Number: 7 for target class tensor([1]). Step 250, Loss: 0.0005353448214009404\n",
      "Generating Image Number: 7 for target class tensor([1]). Step 300, Loss: 0.00047791501856409013\n",
      "Generating Image Number: 7 for target class tensor([1]). Step 350, Loss: 0.00043275527423247695\n",
      "Generating Image Number: 7 for target class tensor([1]). Step 400, Loss: 0.0003844952443614602\n",
      "Generating Image Number: 7 for target class tensor([1]). Step 450, Loss: 0.00032634177478030324\n",
      "Generating Image Number: 8 for target class tensor([1]). Step 0, Loss: 13.129294395446777\n",
      "Generating Image Number: 8 for target class tensor([1]). Step 50, Loss: 0.25292548537254333\n",
      "Generating Image Number: 8 for target class tensor([1]). Step 100, Loss: 0.03548808395862579\n",
      "Generating Image Number: 8 for target class tensor([1]). Step 150, Loss: 0.024372708052396774\n",
      "Generating Image Number: 8 for target class tensor([1]). Step 200, Loss: 0.01939242146909237\n",
      "Generating Image Number: 8 for target class tensor([1]). Step 250, Loss: 0.014441258274018764\n",
      "Generating Image Number: 8 for target class tensor([1]). Step 300, Loss: 0.011486350558698177\n",
      "Generating Image Number: 8 for target class tensor([1]). Step 350, Loss: 0.009720374830067158\n",
      "Generating Image Number: 8 for target class tensor([1]). Step 400, Loss: 0.008585919626057148\n",
      "Generating Image Number: 8 for target class tensor([1]). Step 450, Loss: 0.00767946382984519\n",
      "Generating Image Number: 9 for target class tensor([1]). Step 0, Loss: 10.130215644836426\n",
      "Generating Image Number: 9 for target class tensor([1]). Step 50, Loss: 1.0456455945968628\n",
      "Generating Image Number: 9 for target class tensor([1]). Step 100, Loss: 0.13136376440525055\n",
      "Generating Image Number: 9 for target class tensor([1]). Step 150, Loss: 0.053218744695186615\n",
      "Generating Image Number: 9 for target class tensor([1]). Step 200, Loss: 0.032294757664203644\n",
      "Generating Image Number: 9 for target class tensor([1]). Step 250, Loss: 0.020975664258003235\n",
      "Generating Image Number: 9 for target class tensor([1]). Step 300, Loss: 0.013044263236224651\n",
      "Generating Image Number: 9 for target class tensor([1]). Step 350, Loss: 0.009515880607068539\n",
      "Generating Image Number: 9 for target class tensor([1]). Step 400, Loss: 0.007614279631525278\n",
      "Generating Image Number: 9 for target class tensor([1]). Step 450, Loss: 0.006372489035129547\n",
      "Generating Image Number: 10 for target class tensor([1]). Step 0, Loss: 6.573466777801514\n",
      "Generating Image Number: 10 for target class tensor([1]). Step 50, Loss: 0.21980862319469452\n",
      "Generating Image Number: 10 for target class tensor([1]). Step 100, Loss: 0.0743107944726944\n",
      "Generating Image Number: 10 for target class tensor([1]). Step 150, Loss: 0.04502032324671745\n",
      "Generating Image Number: 10 for target class tensor([1]). Step 200, Loss: 0.03496422618627548\n",
      "Generating Image Number: 10 for target class tensor([1]). Step 250, Loss: 0.02963990345597267\n",
      "Generating Image Number: 10 for target class tensor([1]). Step 300, Loss: 0.026527076959609985\n",
      "Generating Image Number: 10 for target class tensor([1]). Step 350, Loss: 0.023762091994285583\n",
      "Generating Image Number: 10 for target class tensor([1]). Step 400, Loss: 0.021630799397826195\n",
      "Generating Image Number: 10 for target class tensor([1]). Step 450, Loss: 0.019957803189754486\n",
      "Generating Image Number: 11 for target class tensor([1]). Step 0, Loss: 20.526123046875\n",
      "Generating Image Number: 11 for target class tensor([1]). Step 50, Loss: 0.010635952465236187\n",
      "Generating Image Number: 11 for target class tensor([1]). Step 100, Loss: 0.0029454915784299374\n",
      "Generating Image Number: 11 for target class tensor([1]). Step 150, Loss: 0.0020525832660496235\n",
      "Generating Image Number: 11 for target class tensor([1]). Step 200, Loss: 0.0014686522772535682\n",
      "Generating Image Number: 11 for target class tensor([1]). Step 250, Loss: 0.0010582567192614079\n",
      "Generating Image Number: 11 for target class tensor([1]). Step 300, Loss: 0.0008261366747319698\n",
      "Generating Image Number: 11 for target class tensor([1]). Step 350, Loss: 0.0007096394547261298\n",
      "Generating Image Number: 11 for target class tensor([1]). Step 400, Loss: 0.000609927112236619\n",
      "Generating Image Number: 11 for target class tensor([1]). Step 450, Loss: 0.0005341533687897027\n",
      "Generating Image Number: 12 for target class tensor([1]). Step 0, Loss: 14.285002708435059\n",
      "Generating Image Number: 12 for target class tensor([1]). Step 50, Loss: 0.1886853575706482\n",
      "Generating Image Number: 12 for target class tensor([1]). Step 100, Loss: 0.03626243770122528\n",
      "Generating Image Number: 12 for target class tensor([1]). Step 150, Loss: 0.020291831344366074\n",
      "Generating Image Number: 12 for target class tensor([1]). Step 200, Loss: 0.014129716902971268\n",
      "Generating Image Number: 12 for target class tensor([1]). Step 250, Loss: 0.01098537165671587\n",
      "Generating Image Number: 12 for target class tensor([1]). Step 300, Loss: 0.006942199543118477\n",
      "Generating Image Number: 12 for target class tensor([1]). Step 350, Loss: 0.004402231890708208\n",
      "Generating Image Number: 12 for target class tensor([1]). Step 400, Loss: 0.003298677271232009\n",
      "Generating Image Number: 12 for target class tensor([1]). Step 450, Loss: 0.0026088273152709007\n",
      "Generating Image Number: 13 for target class tensor([1]). Step 0, Loss: 13.15469741821289\n",
      "Generating Image Number: 13 for target class tensor([1]). Step 50, Loss: 0.0023321115877479315\n",
      "Generating Image Number: 13 for target class tensor([1]). Step 100, Loss: 0.001257224939763546\n",
      "Generating Image Number: 13 for target class tensor([1]). Step 150, Loss: 0.000899982638657093\n",
      "Generating Image Number: 13 for target class tensor([1]). Step 200, Loss: 0.0006742588011547923\n",
      "Generating Image Number: 13 for target class tensor([1]). Step 250, Loss: 0.0005340342177078128\n",
      "Generating Image Number: 13 for target class tensor([1]). Step 300, Loss: 0.0004159538948442787\n",
      "Generating Image Number: 13 for target class tensor([1]). Step 350, Loss: 0.0003405229654163122\n",
      "Generating Image Number: 13 for target class tensor([1]). Step 400, Loss: 0.00028391621890477836\n",
      "Generating Image Number: 13 for target class tensor([1]). Step 450, Loss: 0.00024327656137757003\n",
      "Generating Image Number: 14 for target class tensor([1]). Step 0, Loss: 14.738778114318848\n",
      "Generating Image Number: 14 for target class tensor([1]). Step 50, Loss: 0.04552914574742317\n",
      "Generating Image Number: 14 for target class tensor([1]). Step 100, Loss: 0.017749283462762833\n",
      "Generating Image Number: 14 for target class tensor([1]). Step 150, Loss: 0.012947656214237213\n",
      "Generating Image Number: 14 for target class tensor([1]). Step 200, Loss: 0.010497472248971462\n",
      "Generating Image Number: 14 for target class tensor([1]). Step 250, Loss: 0.008864573203027248\n",
      "Generating Image Number: 14 for target class tensor([1]). Step 300, Loss: 0.007443314418196678\n",
      "Generating Image Number: 14 for target class tensor([1]). Step 350, Loss: 0.006366448011249304\n",
      "Generating Image Number: 14 for target class tensor([1]). Step 400, Loss: 0.00564220268279314\n",
      "Generating Image Number: 14 for target class tensor([1]). Step 450, Loss: 0.005004379898309708\n",
      "Generating Image Number: 15 for target class tensor([1]). Step 0, Loss: 5.670470237731934\n",
      "Generating Image Number: 15 for target class tensor([1]). Step 50, Loss: 0.006311958190053701\n",
      "Generating Image Number: 15 for target class tensor([1]). Step 100, Loss: 0.0026524621061980724\n",
      "Generating Image Number: 15 for target class tensor([1]). Step 150, Loss: 0.0016971721779555082\n",
      "Generating Image Number: 15 for target class tensor([1]). Step 200, Loss: 0.0013338964199647307\n",
      "Generating Image Number: 15 for target class tensor([1]). Step 250, Loss: 0.001128275180235505\n",
      "Generating Image Number: 15 for target class tensor([1]). Step 300, Loss: 0.0009793015196919441\n",
      "Generating Image Number: 15 for target class tensor([1]). Step 350, Loss: 0.0008562712464481592\n",
      "Generating Image Number: 15 for target class tensor([1]). Step 400, Loss: 0.000764792668633163\n",
      "Generating Image Number: 15 for target class tensor([1]). Step 450, Loss: 0.0006914132391102612\n",
      "Generating Image Number: 16 for target class tensor([1]). Step 0, Loss: 21.710683822631836\n",
      "Generating Image Number: 16 for target class tensor([1]). Step 50, Loss: 0.004022484179586172\n",
      "Generating Image Number: 16 for target class tensor([1]). Step 100, Loss: 0.002144657773897052\n",
      "Generating Image Number: 16 for target class tensor([1]). Step 150, Loss: 0.001689436612650752\n",
      "Generating Image Number: 16 for target class tensor([1]). Step 200, Loss: 0.0013704441953450441\n",
      "Generating Image Number: 16 for target class tensor([1]). Step 250, Loss: 0.001157805323600769\n",
      "Generating Image Number: 16 for target class tensor([1]). Step 300, Loss: 0.0009638193296268582\n",
      "Generating Image Number: 16 for target class tensor([1]). Step 350, Loss: 0.0008198237628675997\n",
      "Generating Image Number: 16 for target class tensor([1]). Step 400, Loss: 0.0007053509471006691\n",
      "Generating Image Number: 16 for target class tensor([1]). Step 450, Loss: 0.0006310140597634017\n",
      "Generating Image Number: 17 for target class tensor([1]). Step 0, Loss: 19.615970611572266\n",
      "Generating Image Number: 17 for target class tensor([1]). Step 50, Loss: 0.0\n",
      "Generating Image Number: 17 for target class tensor([1]). Step 100, Loss: 0.0\n",
      "Generating Image Number: 17 for target class tensor([1]). Step 150, Loss: 0.0\n",
      "Generating Image Number: 17 for target class tensor([1]). Step 200, Loss: 0.0\n",
      "Generating Image Number: 17 for target class tensor([1]). Step 250, Loss: 0.0\n",
      "Generating Image Number: 17 for target class tensor([1]). Step 300, Loss: 0.0\n",
      "Generating Image Number: 17 for target class tensor([1]). Step 350, Loss: 0.0\n",
      "Generating Image Number: 17 for target class tensor([1]). Step 400, Loss: 0.0\n",
      "Generating Image Number: 17 for target class tensor([1]). Step 450, Loss: 0.0\n",
      "Generating Image Number: 18 for target class tensor([1]). Step 0, Loss: 10.557805061340332\n",
      "Generating Image Number: 18 for target class tensor([1]). Step 50, Loss: 0.008599747903645039\n",
      "Generating Image Number: 18 for target class tensor([1]). Step 100, Loss: 0.0038224030286073685\n",
      "Generating Image Number: 18 for target class tensor([1]). Step 150, Loss: 0.0026843249797821045\n",
      "Generating Image Number: 18 for target class tensor([1]). Step 200, Loss: 0.0021350225433707237\n",
      "Generating Image Number: 18 for target class tensor([1]). Step 250, Loss: 0.0017675028648227453\n",
      "Generating Image Number: 18 for target class tensor([1]). Step 300, Loss: 0.0015053142560645938\n",
      "Generating Image Number: 18 for target class tensor([1]). Step 350, Loss: 0.001347229932434857\n",
      "Generating Image Number: 18 for target class tensor([1]). Step 400, Loss: 0.001213529147207737\n",
      "Generating Image Number: 18 for target class tensor([1]). Step 450, Loss: 0.001100054127164185\n",
      "Generating Image Number: 19 for target class tensor([1]). Step 0, Loss: 19.730222702026367\n",
      "Generating Image Number: 19 for target class tensor([1]). Step 50, Loss: 0.031788162887096405\n",
      "Generating Image Number: 19 for target class tensor([1]). Step 100, Loss: 0.008969609625637531\n",
      "Generating Image Number: 19 for target class tensor([1]). Step 150, Loss: 0.00572233134880662\n",
      "Generating Image Number: 19 for target class tensor([1]). Step 200, Loss: 0.0038378408644348383\n",
      "Generating Image Number: 19 for target class tensor([1]). Step 250, Loss: 0.0029452538583427668\n",
      "Generating Image Number: 19 for target class tensor([1]). Step 300, Loss: 0.0024372416082769632\n",
      "Generating Image Number: 19 for target class tensor([1]). Step 350, Loss: 0.0021467991173267365\n",
      "Generating Image Number: 19 for target class tensor([1]). Step 400, Loss: 0.0019276624079793692\n",
      "Generating Image Number: 19 for target class tensor([1]). Step 450, Loss: 0.0017561980057507753\n",
      "Generating Image Number: 20 for target class tensor([1]). Step 0, Loss: 16.67868423461914\n",
      "Generating Image Number: 20 for target class tensor([1]). Step 50, Loss: 0.0002740246127359569\n",
      "Generating Image Number: 20 for target class tensor([1]). Step 100, Loss: 0.0003034608089365065\n",
      "Generating Image Number: 20 for target class tensor([1]). Step 150, Loss: 0.00026639728457666934\n",
      "Generating Image Number: 20 for target class tensor([1]). Step 200, Loss: 0.00023719835735391825\n",
      "Generating Image Number: 20 for target class tensor([1]). Step 250, Loss: 0.00021181246847845614\n",
      "Generating Image Number: 20 for target class tensor([1]). Step 300, Loss: 0.00018976318824570626\n",
      "Generating Image Number: 20 for target class tensor([1]). Step 350, Loss: 0.00017069313616957515\n",
      "Generating Image Number: 20 for target class tensor([1]). Step 400, Loss: 0.0001530530134914443\n",
      "Generating Image Number: 20 for target class tensor([1]). Step 450, Loss: 0.00013791563105769455\n"
     ]
    }
   ],
   "source": [
    "torch.manual_seed(100)\n",
    "latent_vectors = torch.randn(img_count, z_dim, 1, 1, requires_grad=True) # Start with 20 random noises\n",
    "class1_optimized_latent_vectors = recover_images(img_count, 1, latent_vectors)"
   ]
  },
  {
   "cell_type": "code",
   "execution_count": 22,
   "id": "1c8af686-b1ff-419d-946d-2447773e47c9",
   "metadata": {
    "scrolled": true
   },
   "outputs": [
    {
     "name": "stdout",
     "output_type": "stream",
     "text": [
      "Generating Image Number: 1 for target class tensor([2]). Step 0, Loss: 3.009739398956299\n",
      "Generating Image Number: 1 for target class tensor([2]). Step 50, Loss: 0.006843698676675558\n",
      "Generating Image Number: 1 for target class tensor([2]). Step 100, Loss: 0.0035507744178175926\n",
      "Generating Image Number: 1 for target class tensor([2]). Step 150, Loss: 0.002623927313834429\n",
      "Generating Image Number: 1 for target class tensor([2]). Step 200, Loss: 0.0020831567235291004\n",
      "Generating Image Number: 1 for target class tensor([2]). Step 250, Loss: 0.0017051455797627568\n",
      "Generating Image Number: 1 for target class tensor([2]). Step 300, Loss: 0.001383539172820747\n",
      "Generating Image Number: 1 for target class tensor([2]). Step 350, Loss: 0.0011595914838835597\n",
      "Generating Image Number: 1 for target class tensor([2]). Step 400, Loss: 0.000979420612566173\n",
      "Generating Image Number: 1 for target class tensor([2]). Step 450, Loss: 0.0008562712464481592\n",
      "Generating Image Number: 2 for target class tensor([2]). Step 0, Loss: 2.7818386554718018\n",
      "Generating Image Number: 2 for target class tensor([2]). Step 50, Loss: 5.340433563105762e-05\n",
      "Generating Image Number: 2 for target class tensor([2]). Step 100, Loss: 4.60137271147687e-05\n",
      "Generating Image Number: 2 for target class tensor([2]). Step 150, Loss: 3.838465272565372e-05\n",
      "Generating Image Number: 2 for target class tensor([2]). Step 200, Loss: 3.158996332786046e-05\n",
      "Generating Image Number: 2 for target class tensor([2]). Step 250, Loss: 2.6225699912174605e-05\n",
      "Generating Image Number: 2 for target class tensor([2]). Step 300, Loss: 2.2172682292875834e-05\n",
      "Generating Image Number: 2 for target class tensor([2]). Step 350, Loss: 1.8954096958623268e-05\n",
      "Generating Image Number: 2 for target class tensor([2]). Step 400, Loss: 1.7165990357170813e-05\n",
      "Generating Image Number: 2 for target class tensor([2]). Step 450, Loss: 1.537788011773955e-05\n",
      "Generating Image Number: 3 for target class tensor([2]). Step 0, Loss: 5.185143947601318\n",
      "Generating Image Number: 3 for target class tensor([2]). Step 50, Loss: 0.002233750419691205\n",
      "Generating Image Number: 3 for target class tensor([2]). Step 100, Loss: 0.0011451836908236146\n",
      "Generating Image Number: 3 for target class tensor([2]). Step 150, Loss: 0.0007414452848024666\n",
      "Generating Image Number: 3 for target class tensor([2]). Step 200, Loss: 0.0005759726045653224\n",
      "Generating Image Number: 3 for target class tensor([2]). Step 250, Loss: 0.00045122456504032016\n",
      "Generating Image Number: 3 for target class tensor([2]). Step 300, Loss: 0.00036173476837575436\n",
      "Generating Image Number: 3 for target class tensor([2]). Step 350, Loss: 0.0002933310461230576\n",
      "Generating Image Number: 3 for target class tensor([2]). Step 400, Loss: 0.00023648326168768108\n",
      "Generating Image Number: 3 for target class tensor([2]). Step 450, Loss: 0.00019667598826345056\n",
      "Generating Image Number: 4 for target class tensor([2]). Step 0, Loss: 6.048709869384766\n",
      "Generating Image Number: 4 for target class tensor([2]). Step 50, Loss: 0.002755180699750781\n",
      "Generating Image Number: 4 for target class tensor([2]). Step 100, Loss: 0.0015589953400194645\n",
      "Generating Image Number: 4 for target class tensor([2]). Step 150, Loss: 0.0011630444787442684\n",
      "Generating Image Number: 4 for target class tensor([2]). Step 200, Loss: 0.0008150592911988497\n",
      "Generating Image Number: 4 for target class tensor([2]). Step 250, Loss: 0.0006622266955673695\n",
      "Generating Image Number: 4 for target class tensor([2]). Step 300, Loss: 0.0005581013392657042\n",
      "Generating Image Number: 4 for target class tensor([2]). Step 350, Loss: 0.000474936212413013\n",
      "Generating Image Number: 4 for target class tensor([2]). Step 400, Loss: 0.0004209585895296186\n",
      "Generating Image Number: 4 for target class tensor([2]). Step 450, Loss: 0.00037067217635922134\n",
      "Generating Image Number: 5 for target class tensor([2]). Step 0, Loss: 4.078547954559326\n",
      "Generating Image Number: 5 for target class tensor([2]). Step 50, Loss: 0.0005322470096871257\n",
      "Generating Image Number: 5 for target class tensor([2]). Step 100, Loss: 0.0003968881501350552\n",
      "Generating Image Number: 5 for target class tensor([2]). Step 150, Loss: 0.00035148640745319426\n",
      "Generating Image Number: 5 for target class tensor([2]). Step 200, Loss: 0.00032085992279462516\n",
      "Generating Image Number: 5 for target class tensor([2]). Step 250, Loss: 0.00029237763374112546\n",
      "Generating Image Number: 5 for target class tensor([2]). Step 300, Loss: 0.00027092601521871984\n",
      "Generating Image Number: 5 for target class tensor([2]). Step 350, Loss: 0.0002526917669456452\n",
      "Generating Image Number: 5 for target class tensor([2]). Step 400, Loss: 0.00023755589791107923\n",
      "Generating Image Number: 5 for target class tensor([2]). Step 450, Loss: 0.0002213471452705562\n",
      "Generating Image Number: 6 for target class tensor([2]). Step 0, Loss: 6.8171234130859375\n",
      "Generating Image Number: 6 for target class tensor([2]). Step 50, Loss: 0.009282171726226807\n",
      "Generating Image Number: 6 for target class tensor([2]). Step 100, Loss: 0.0041391896083951\n",
      "Generating Image Number: 6 for target class tensor([2]). Step 150, Loss: 0.003119960892945528\n",
      "Generating Image Number: 6 for target class tensor([2]). Step 200, Loss: 0.0026085893623530865\n",
      "Generating Image Number: 6 for target class tensor([2]). Step 250, Loss: 0.0022442173212766647\n",
      "Generating Image Number: 6 for target class tensor([2]). Step 300, Loss: 0.0020077326335012913\n",
      "Generating Image Number: 6 for target class tensor([2]). Step 350, Loss: 0.0017840436194092035\n",
      "Generating Image Number: 6 for target class tensor([2]). Step 400, Loss: 0.0015669699059799314\n",
      "Generating Image Number: 6 for target class tensor([2]). Step 450, Loss: 0.0014117523096501827\n",
      "Generating Image Number: 7 for target class tensor([2]). Step 0, Loss: 8.21599006652832\n",
      "Generating Image Number: 7 for target class tensor([2]). Step 50, Loss: 0.008878161199390888\n",
      "Generating Image Number: 7 for target class tensor([2]). Step 100, Loss: 0.00285705691203475\n",
      "Generating Image Number: 7 for target class tensor([2]). Step 150, Loss: 0.001852464396506548\n",
      "Generating Image Number: 7 for target class tensor([2]). Step 200, Loss: 0.0013658013194799423\n",
      "Generating Image Number: 7 for target class tensor([2]). Step 250, Loss: 0.0009781105909496546\n",
      "Generating Image Number: 7 for target class tensor([2]). Step 300, Loss: 0.0007327494095079601\n",
      "Generating Image Number: 7 for target class tensor([2]). Step 350, Loss: 0.0005832401220686734\n",
      "Generating Image Number: 7 for target class tensor([2]). Step 400, Loss: 0.0004800597671419382\n",
      "Generating Image Number: 7 for target class tensor([2]). Step 450, Loss: 0.00037102968781255186\n",
      "Generating Image Number: 8 for target class tensor([2]). Step 0, Loss: 0.9340341091156006\n",
      "Generating Image Number: 8 for target class tensor([2]). Step 50, Loss: 0.01220932137221098\n",
      "Generating Image Number: 8 for target class tensor([2]). Step 100, Loss: 0.006195387803018093\n",
      "Generating Image Number: 8 for target class tensor([2]). Step 150, Loss: 0.004636252298951149\n",
      "Generating Image Number: 8 for target class tensor([2]). Step 200, Loss: 0.0037423591129481792\n",
      "Generating Image Number: 8 for target class tensor([2]). Step 250, Loss: 0.003010148648172617\n",
      "Generating Image Number: 8 for target class tensor([2]). Step 300, Loss: 0.0026003853417932987\n",
      "Generating Image Number: 8 for target class tensor([2]). Step 350, Loss: 0.002253494691103697\n",
      "Generating Image Number: 8 for target class tensor([2]). Step 400, Loss: 0.0018461579456925392\n",
      "Generating Image Number: 8 for target class tensor([2]). Step 450, Loss: 0.0015359044773504138\n",
      "Generating Image Number: 9 for target class tensor([2]). Step 0, Loss: 11.0333833694458\n",
      "Generating Image Number: 9 for target class tensor([2]). Step 50, Loss: 4.368540287017822\n",
      "Generating Image Number: 9 for target class tensor([2]). Step 100, Loss: 1.1395299434661865\n",
      "Generating Image Number: 9 for target class tensor([2]). Step 150, Loss: 0.1676565557718277\n",
      "Generating Image Number: 9 for target class tensor([2]). Step 200, Loss: 0.09067916125059128\n",
      "Generating Image Number: 9 for target class tensor([2]). Step 250, Loss: 0.06622549146413803\n",
      "Generating Image Number: 9 for target class tensor([2]). Step 300, Loss: 0.05509420111775398\n",
      "Generating Image Number: 9 for target class tensor([2]). Step 350, Loss: 0.04634936898946762\n",
      "Generating Image Number: 9 for target class tensor([2]). Step 400, Loss: 0.0398007370531559\n",
      "Generating Image Number: 9 for target class tensor([2]). Step 450, Loss: 0.03442109003663063\n",
      "Generating Image Number: 10 for target class tensor([2]). Step 0, Loss: 7.648179054260254\n",
      "Generating Image Number: 10 for target class tensor([2]). Step 50, Loss: 0.019516348838806152\n",
      "Generating Image Number: 10 for target class tensor([2]). Step 100, Loss: 0.009889770299196243\n",
      "Generating Image Number: 10 for target class tensor([2]). Step 150, Loss: 0.006345481611788273\n",
      "Generating Image Number: 10 for target class tensor([2]). Step 200, Loss: 0.004527437500655651\n",
      "Generating Image Number: 10 for target class tensor([2]). Step 250, Loss: 0.003546379506587982\n",
      "Generating Image Number: 10 for target class tensor([2]). Step 300, Loss: 0.0028641889803111553\n",
      "Generating Image Number: 10 for target class tensor([2]). Step 350, Loss: 0.0024396199733018875\n",
      "Generating Image Number: 10 for target class tensor([2]). Step 400, Loss: 0.002128361025825143\n",
      "Generating Image Number: 10 for target class tensor([2]). Step 450, Loss: 0.001916835200972855\n",
      "Generating Image Number: 11 for target class tensor([2]). Step 0, Loss: 1.4087990522384644\n",
      "Generating Image Number: 11 for target class tensor([2]). Step 50, Loss: 0.004003368318080902\n",
      "Generating Image Number: 11 for target class tensor([2]). Step 100, Loss: 0.0017596489051356912\n",
      "Generating Image Number: 11 for target class tensor([2]). Step 150, Loss: 0.0010336062405258417\n",
      "Generating Image Number: 11 for target class tensor([2]). Step 200, Loss: 0.0007802779437042773\n",
      "Generating Image Number: 11 for target class tensor([2]). Step 250, Loss: 0.0006765222642570734\n",
      "Generating Image Number: 11 for target class tensor([2]). Step 300, Loss: 0.0006036128615960479\n",
      "Generating Image Number: 11 for target class tensor([2]). Step 350, Loss: 0.0005371319712139666\n",
      "Generating Image Number: 11 for target class tensor([2]). Step 400, Loss: 0.0004732680681627244\n",
      "Generating Image Number: 11 for target class tensor([2]). Step 450, Loss: 0.0003999863693024963\n",
      "Generating Image Number: 12 for target class tensor([2]). Step 0, Loss: 14.341663360595703\n",
      "Generating Image Number: 12 for target class tensor([2]). Step 50, Loss: 0.07212729007005692\n",
      "Generating Image Number: 12 for target class tensor([2]). Step 100, Loss: 0.02044309489428997\n",
      "Generating Image Number: 12 for target class tensor([2]). Step 150, Loss: 0.012488498352468014\n",
      "Generating Image Number: 12 for target class tensor([2]). Step 200, Loss: 0.008061490952968597\n",
      "Generating Image Number: 12 for target class tensor([2]). Step 250, Loss: 0.005926772952079773\n",
      "Generating Image Number: 12 for target class tensor([2]). Step 300, Loss: 0.004725123289972544\n",
      "Generating Image Number: 12 for target class tensor([2]). Step 350, Loss: 0.003853278700262308\n",
      "Generating Image Number: 12 for target class tensor([2]). Step 400, Loss: 0.003252931870520115\n",
      "Generating Image Number: 12 for target class tensor([2]). Step 450, Loss: 0.00277527142316103\n",
      "Generating Image Number: 13 for target class tensor([2]). Step 0, Loss: 10.186388969421387\n",
      "Generating Image Number: 13 for target class tensor([2]). Step 50, Loss: 0.02103099599480629\n",
      "Generating Image Number: 13 for target class tensor([2]). Step 100, Loss: 0.007046017330139875\n",
      "Generating Image Number: 13 for target class tensor([2]). Step 150, Loss: 0.005470425356179476\n",
      "Generating Image Number: 13 for target class tensor([2]). Step 200, Loss: 0.004522215574979782\n",
      "Generating Image Number: 13 for target class tensor([2]). Step 250, Loss: 0.0036992470268160105\n",
      "Generating Image Number: 13 for target class tensor([2]). Step 300, Loss: 0.0032222752925008535\n",
      "Generating Image Number: 13 for target class tensor([2]). Step 350, Loss: 0.002872747601941228\n",
      "Generating Image Number: 13 for target class tensor([2]). Step 400, Loss: 0.0025938458275049925\n",
      "Generating Image Number: 13 for target class tensor([2]). Step 450, Loss: 0.002347691683098674\n",
      "Generating Image Number: 14 for target class tensor([2]). Step 0, Loss: 7.312966823577881\n",
      "Generating Image Number: 14 for target class tensor([2]). Step 50, Loss: 0.011092307977378368\n",
      "Generating Image Number: 14 for target class tensor([2]). Step 100, Loss: 0.006520779803395271\n",
      "Generating Image Number: 14 for target class tensor([2]). Step 150, Loss: 0.00507874833419919\n",
      "Generating Image Number: 14 for target class tensor([2]). Step 200, Loss: 0.004029964096844196\n",
      "Generating Image Number: 14 for target class tensor([2]). Step 250, Loss: 0.0033868353348225355\n",
      "Generating Image Number: 14 for target class tensor([2]). Step 300, Loss: 0.002897590398788452\n",
      "Generating Image Number: 14 for target class tensor([2]). Step 350, Loss: 0.0025481870397925377\n",
      "Generating Image Number: 14 for target class tensor([2]). Step 400, Loss: 0.0022420764435082674\n",
      "Generating Image Number: 14 for target class tensor([2]). Step 450, Loss: 0.0019999993965029716\n",
      "Generating Image Number: 15 for target class tensor([2]). Step 0, Loss: 3.257124900817871\n",
      "Generating Image Number: 15 for target class tensor([2]). Step 50, Loss: 0.0005940818227827549\n",
      "Generating Image Number: 15 for target class tensor([2]). Step 100, Loss: 0.00034028460504487157\n",
      "Generating Image Number: 15 for target class tensor([2]). Step 150, Loss: 0.00022897482267580926\n",
      "Generating Image Number: 15 for target class tensor([2]). Step 200, Loss: 0.00017009719158522785\n",
      "Generating Image Number: 15 for target class tensor([2]). Step 250, Loss: 0.00013815402053296566\n",
      "Generating Image Number: 15 for target class tensor([2]). Step 300, Loss: 0.00012015574611723423\n",
      "Generating Image Number: 15 for target class tensor([2]). Step 350, Loss: 0.00010382589971413836\n",
      "Generating Image Number: 15 for target class tensor([2]). Step 400, Loss: 9.047575440490618e-05\n",
      "Generating Image Number: 15 for target class tensor([2]). Step 450, Loss: 8.022463589441031e-05\n",
      "Generating Image Number: 16 for target class tensor([2]). Step 0, Loss: 15.1575927734375\n",
      "Generating Image Number: 16 for target class tensor([2]). Step 50, Loss: 0.07901984453201294\n",
      "Generating Image Number: 16 for target class tensor([2]). Step 100, Loss: 0.013096151873469353\n",
      "Generating Image Number: 16 for target class tensor([2]). Step 150, Loss: 0.008373863995075226\n",
      "Generating Image Number: 16 for target class tensor([2]). Step 200, Loss: 0.0066234576515853405\n",
      "Generating Image Number: 16 for target class tensor([2]). Step 250, Loss: 0.005644217599183321\n",
      "Generating Image Number: 16 for target class tensor([2]). Step 300, Loss: 0.004814342129975557\n",
      "Generating Image Number: 16 for target class tensor([2]). Step 350, Loss: 0.004213622305542231\n",
      "Generating Image Number: 16 for target class tensor([2]). Step 400, Loss: 0.0036912893410772085\n",
      "Generating Image Number: 16 for target class tensor([2]). Step 450, Loss: 0.003324935445562005\n",
      "Generating Image Number: 17 for target class tensor([2]). Step 0, Loss: 7.734427452087402\n",
      "Generating Image Number: 17 for target class tensor([2]). Step 50, Loss: 0.005129747558385134\n",
      "Generating Image Number: 17 for target class tensor([2]). Step 100, Loss: 0.0028994923923164606\n",
      "Generating Image Number: 17 for target class tensor([2]). Step 150, Loss: 0.002153579378500581\n",
      "Generating Image Number: 17 for target class tensor([2]). Step 200, Loss: 0.0017103818245232105\n",
      "Generating Image Number: 17 for target class tensor([2]). Step 250, Loss: 0.0014427024871110916\n",
      "Generating Image Number: 17 for target class tensor([2]). Step 300, Loss: 0.0012513910187408328\n",
      "Generating Image Number: 17 for target class tensor([2]). Step 350, Loss: 0.0011013639159500599\n",
      "Generating Image Number: 17 for target class tensor([2]). Step 400, Loss: 0.0009971652179956436\n",
      "Generating Image Number: 17 for target class tensor([2]). Step 450, Loss: 0.0009105826611630619\n",
      "Generating Image Number: 18 for target class tensor([2]). Step 0, Loss: 11.18030834197998\n",
      "Generating Image Number: 18 for target class tensor([2]). Step 50, Loss: 0.00887260865420103\n",
      "Generating Image Number: 18 for target class tensor([2]). Step 100, Loss: 0.003355232300236821\n",
      "Generating Image Number: 18 for target class tensor([2]). Step 150, Loss: 0.002480051713064313\n",
      "Generating Image Number: 18 for target class tensor([2]). Step 200, Loss: 0.002058888552710414\n",
      "Generating Image Number: 18 for target class tensor([2]). Step 250, Loss: 0.0017456068890169263\n",
      "Generating Image Number: 18 for target class tensor([2]). Step 300, Loss: 0.0015013862866908312\n",
      "Generating Image Number: 18 for target class tensor([2]). Step 350, Loss: 0.0012994902208447456\n",
      "Generating Image Number: 18 for target class tensor([2]). Step 400, Loss: 0.001157567254267633\n",
      "Generating Image Number: 18 for target class tensor([2]). Step 450, Loss: 0.0010145523119717836\n",
      "Generating Image Number: 19 for target class tensor([2]). Step 0, Loss: 12.31128215789795\n",
      "Generating Image Number: 19 for target class tensor([2]). Step 50, Loss: 0.012631647288799286\n",
      "Generating Image Number: 19 for target class tensor([2]). Step 100, Loss: 0.005610315129160881\n",
      "Generating Image Number: 19 for target class tensor([2]). Step 150, Loss: 0.00405679689720273\n",
      "Generating Image Number: 19 for target class tensor([2]). Step 200, Loss: 0.003199579194188118\n",
      "Generating Image Number: 19 for target class tensor([2]). Step 250, Loss: 0.0026376002933830023\n",
      "Generating Image Number: 19 for target class tensor([2]). Step 300, Loss: 0.0021759422961622477\n",
      "Generating Image Number: 19 for target class tensor([2]). Step 350, Loss: 0.0018406844465062022\n",
      "Generating Image Number: 19 for target class tensor([2]). Step 400, Loss: 0.001613506581634283\n",
      "Generating Image Number: 19 for target class tensor([2]). Step 450, Loss: 0.0014177043922245502\n",
      "Generating Image Number: 20 for target class tensor([2]). Step 0, Loss: 8.94444751739502\n",
      "Generating Image Number: 20 for target class tensor([2]). Step 50, Loss: 0.0698779821395874\n",
      "Generating Image Number: 20 for target class tensor([2]). Step 100, Loss: 0.03513135761022568\n",
      "Generating Image Number: 20 for target class tensor([2]). Step 150, Loss: 0.02388547919690609\n",
      "Generating Image Number: 20 for target class tensor([2]). Step 200, Loss: 0.01703757420182228\n",
      "Generating Image Number: 20 for target class tensor([2]). Step 250, Loss: 0.013883447274565697\n",
      "Generating Image Number: 20 for target class tensor([2]). Step 300, Loss: 0.011435911059379578\n",
      "Generating Image Number: 20 for target class tensor([2]). Step 350, Loss: 0.009688262827694416\n",
      "Generating Image Number: 20 for target class tensor([2]). Step 400, Loss: 0.008126173168420792\n",
      "Generating Image Number: 20 for target class tensor([2]). Step 450, Loss: 0.006818006280809641\n"
     ]
    }
   ],
   "source": [
    "torch.manual_seed(200)\n",
    "latent_vectors = torch.randn(img_count, z_dim, 1, 1, requires_grad=True) # Start with 20 random noises\n",
    "class2_optimized_latent_vectors = recover_images(img_count, 2, latent_vectors)"
   ]
  },
  {
   "cell_type": "code",
   "execution_count": 23,
   "id": "0381b36d-6c92-43bc-b776-1eefd3eab451",
   "metadata": {
    "scrolled": true
   },
   "outputs": [
    {
     "name": "stdout",
     "output_type": "stream",
     "text": [
      "Generating Image Number: 1 for target class tensor([3]). Step 0, Loss: 0.01616092026233673\n",
      "Generating Image Number: 1 for target class tensor([3]). Step 50, Loss: 5.722029527532868e-06\n",
      "Generating Image Number: 1 for target class tensor([3]). Step 100, Loss: 3.3378546504536644e-06\n",
      "Generating Image Number: 1 for target class tensor([3]). Step 150, Loss: 2.3841830625315197e-06\n",
      "Generating Image Number: 1 for target class tensor([3]). Step 200, Loss: 1.9073468138230965e-06\n",
      "Generating Image Number: 1 for target class tensor([3]). Step 250, Loss: 1.5497195136049413e-06\n",
      "Generating Image Number: 1 for target class tensor([3]). Step 300, Loss: 1.311301275563892e-06\n",
      "Generating Image Number: 1 for target class tensor([3]). Step 350, Loss: 1.1920922133867862e-06\n",
      "Generating Image Number: 1 for target class tensor([3]). Step 400, Loss: 1.0728830375228426e-06\n",
      "Generating Image Number: 1 for target class tensor([3]). Step 450, Loss: 9.536738616588991e-07\n",
      "Generating Image Number: 2 for target class tensor([3]). Step 0, Loss: 0.9530407786369324\n",
      "Generating Image Number: 2 for target class tensor([3]). Step 50, Loss: 0.002839107532054186\n",
      "Generating Image Number: 2 for target class tensor([3]). Step 100, Loss: 0.0008093419019132853\n",
      "Generating Image Number: 2 for target class tensor([3]). Step 150, Loss: 0.0003694805200211704\n",
      "Generating Image Number: 2 for target class tensor([3]). Step 200, Loss: 0.00023636408150196075\n",
      "Generating Image Number: 2 for target class tensor([3]). Step 250, Loss: 0.00017438798386137933\n",
      "Generating Image Number: 2 for target class tensor([3]). Step 300, Loss: 0.00014578233822248876\n",
      "Generating Image Number: 2 for target class tensor([3]). Step 350, Loss: 0.00012861855793744326\n",
      "Generating Image Number: 2 for target class tensor([3]). Step 400, Loss: 0.00011419598013162613\n",
      "Generating Image Number: 2 for target class tensor([3]). Step 450, Loss: 0.00010513706365600228\n",
      "Generating Image Number: 3 for target class tensor([3]). Step 0, Loss: 0.27649620175361633\n",
      "Generating Image Number: 3 for target class tensor([3]). Step 50, Loss: 0.0004580163804348558\n",
      "Generating Image Number: 3 for target class tensor([3]). Step 100, Loss: 0.0003212174342479557\n",
      "Generating Image Number: 3 for target class tensor([3]). Step 150, Loss: 0.0002598424907773733\n",
      "Generating Image Number: 3 for target class tensor([3]). Step 200, Loss: 0.00017033556650858372\n",
      "Generating Image Number: 3 for target class tensor([3]). Step 250, Loss: 0.00013565097469836473\n",
      "Generating Image Number: 3 for target class tensor([3]). Step 300, Loss: 0.00011407678539399058\n",
      "Generating Image Number: 3 for target class tensor([3]). Step 350, Loss: 0.00010096516780322418\n",
      "Generating Image Number: 3 for target class tensor([3]). Step 400, Loss: 8.844937838148326e-05\n",
      "Generating Image Number: 3 for target class tensor([3]). Step 450, Loss: 7.73638384998776e-05\n",
      "Generating Image Number: 4 for target class tensor([3]). Step 0, Loss: 2.001161575317383\n",
      "Generating Image Number: 4 for target class tensor([3]). Step 50, Loss: 8.260862523457035e-05\n",
      "Generating Image Number: 4 for target class tensor([3]). Step 100, Loss: 6.246371776796877e-05\n",
      "Generating Image Number: 4 for target class tensor([3]). Step 150, Loss: 5.209310256759636e-05\n",
      "Generating Image Number: 4 for target class tensor([3]). Step 200, Loss: 4.339123915997334e-05\n",
      "Generating Image Number: 4 for target class tensor([3]). Step 250, Loss: 3.635817120084539e-05\n",
      "Generating Image Number: 4 for target class tensor([3]). Step 300, Loss: 3.111314072157256e-05\n",
      "Generating Image Number: 4 for target class tensor([3]). Step 350, Loss: 2.8132995794294402e-05\n",
      "Generating Image Number: 4 for target class tensor([3]). Step 400, Loss: 2.5629668016335927e-05\n",
      "Generating Image Number: 4 for target class tensor([3]). Step 450, Loss: 2.3007127310847864e-05\n",
      "Generating Image Number: 5 for target class tensor([3]). Step 0, Loss: 2.13382354559144e-05\n",
      "Generating Image Number: 5 for target class tensor([3]). Step 50, Loss: 0.0\n",
      "Generating Image Number: 5 for target class tensor([3]). Step 100, Loss: 0.0\n",
      "Generating Image Number: 5 for target class tensor([3]). Step 150, Loss: 0.0\n",
      "Generating Image Number: 5 for target class tensor([3]). Step 200, Loss: 0.0\n",
      "Generating Image Number: 5 for target class tensor([3]). Step 250, Loss: 0.0\n",
      "Generating Image Number: 5 for target class tensor([3]). Step 300, Loss: 0.0\n",
      "Generating Image Number: 5 for target class tensor([3]). Step 350, Loss: 0.0\n",
      "Generating Image Number: 5 for target class tensor([3]). Step 400, Loss: 0.0\n",
      "Generating Image Number: 5 for target class tensor([3]). Step 450, Loss: 0.0\n",
      "Generating Image Number: 6 for target class tensor([3]). Step 0, Loss: 0.00639961427077651\n",
      "Generating Image Number: 6 for target class tensor([3]). Step 50, Loss: 8.4638240878121e-06\n",
      "Generating Image Number: 6 for target class tensor([3]). Step 100, Loss: 4.291525328881107e-06\n",
      "Generating Image Number: 6 for target class tensor([3]). Step 150, Loss: 2.861018856492592e-06\n",
      "Generating Image Number: 6 for target class tensor([3]). Step 200, Loss: 1.7881377516459906e-06\n",
      "Generating Image Number: 6 for target class tensor([3]). Step 250, Loss: 1.311301275563892e-06\n",
      "Generating Image Number: 6 for target class tensor([3]). Step 300, Loss: 1.0728830375228426e-06\n",
      "Generating Image Number: 6 for target class tensor([3]). Step 350, Loss: 9.536738616588991e-07\n",
      "Generating Image Number: 6 for target class tensor([3]). Step 400, Loss: 8.344646857949556e-07\n",
      "Generating Image Number: 6 for target class tensor([3]). Step 450, Loss: 7.152555099310121e-07\n",
      "Generating Image Number: 7 for target class tensor([3]). Step 0, Loss: 15.565163612365723\n",
      "Generating Image Number: 7 for target class tensor([3]). Step 50, Loss: 0.000719645875506103\n",
      "Generating Image Number: 7 for target class tensor([3]). Step 100, Loss: 0.0005125877796672285\n",
      "Generating Image Number: 7 for target class tensor([3]). Step 150, Loss: 0.0003424296446610242\n",
      "Generating Image Number: 7 for target class tensor([3]). Step 200, Loss: 0.00023958197562023997\n",
      "Generating Image Number: 7 for target class tensor([3]). Step 250, Loss: 0.00018606838420964777\n",
      "Generating Image Number: 7 for target class tensor([3]). Step 300, Loss: 0.00014995403762441128\n",
      "Generating Image Number: 7 for target class tensor([3]). Step 350, Loss: 0.0001255195093108341\n",
      "Generating Image Number: 7 for target class tensor([3]). Step 400, Loss: 0.0001081169830285944\n",
      "Generating Image Number: 7 for target class tensor([3]). Step 450, Loss: 9.476689592702314e-05\n",
      "Generating Image Number: 8 for target class tensor([3]). Step 0, Loss: 0.012544183060526848\n",
      "Generating Image Number: 8 for target class tensor([3]). Step 50, Loss: 1.1920928244535389e-07\n",
      "Generating Image Number: 8 for target class tensor([3]). Step 100, Loss: 1.1920928244535389e-07\n",
      "Generating Image Number: 8 for target class tensor([3]). Step 150, Loss: 1.1920928244535389e-07\n",
      "Generating Image Number: 8 for target class tensor([3]). Step 200, Loss: 1.1920928244535389e-07\n",
      "Generating Image Number: 8 for target class tensor([3]). Step 250, Loss: 1.1920928244535389e-07\n",
      "Generating Image Number: 8 for target class tensor([3]). Step 300, Loss: 1.1920928244535389e-07\n",
      "Generating Image Number: 8 for target class tensor([3]). Step 350, Loss: 1.1920928244535389e-07\n",
      "Generating Image Number: 8 for target class tensor([3]). Step 400, Loss: 1.1920928244535389e-07\n",
      "Generating Image Number: 8 for target class tensor([3]). Step 450, Loss: 1.1920928244535389e-07\n",
      "Generating Image Number: 9 for target class tensor([3]). Step 0, Loss: 0.0005853846669197083\n",
      "Generating Image Number: 9 for target class tensor([3]). Step 50, Loss: 2.3841855067985307e-07\n",
      "Generating Image Number: 9 for target class tensor([3]). Step 100, Loss: 1.1920928244535389e-07\n",
      "Generating Image Number: 9 for target class tensor([3]). Step 150, Loss: 1.1920928244535389e-07\n",
      "Generating Image Number: 9 for target class tensor([3]). Step 200, Loss: 0.0\n",
      "Generating Image Number: 9 for target class tensor([3]). Step 250, Loss: 0.0\n",
      "Generating Image Number: 9 for target class tensor([3]). Step 300, Loss: 0.0\n",
      "Generating Image Number: 9 for target class tensor([3]). Step 350, Loss: 0.0\n",
      "Generating Image Number: 9 for target class tensor([3]). Step 400, Loss: 0.0\n",
      "Generating Image Number: 9 for target class tensor([3]). Step 450, Loss: 0.0\n",
      "Generating Image Number: 10 for target class tensor([3]). Step 0, Loss: 0.9976206421852112\n",
      "Generating Image Number: 10 for target class tensor([3]). Step 50, Loss: 0.0030208451207727194\n",
      "Generating Image Number: 10 for target class tensor([3]). Step 100, Loss: 0.0017794027226045728\n",
      "Generating Image Number: 10 for target class tensor([3]). Step 150, Loss: 0.0011756658786907792\n",
      "Generating Image Number: 10 for target class tensor([3]). Step 200, Loss: 0.0006730675231665373\n",
      "Generating Image Number: 10 for target class tensor([3]). Step 250, Loss: 0.0004742213059216738\n",
      "Generating Image Number: 10 for target class tensor([3]). Step 300, Loss: 0.00038985759601928294\n",
      "Generating Image Number: 10 for target class tensor([3]). Step 350, Loss: 0.00033706706017255783\n",
      "Generating Image Number: 10 for target class tensor([3]). Step 400, Loss: 0.00029309268575161695\n",
      "Generating Image Number: 10 for target class tensor([3]). Step 450, Loss: 0.0002644904307089746\n",
      "Generating Image Number: 11 for target class tensor([3]). Step 0, Loss: 0.00021205084340181202\n",
      "Generating Image Number: 11 for target class tensor([3]). Step 50, Loss: 5.960462772236497e-07\n",
      "Generating Image Number: 11 for target class tensor([3]). Step 100, Loss: 2.3841855067985307e-07\n",
      "Generating Image Number: 11 for target class tensor([3]). Step 150, Loss: 2.3841855067985307e-07\n",
      "Generating Image Number: 11 for target class tensor([3]). Step 200, Loss: 1.1920928244535389e-07\n",
      "Generating Image Number: 11 for target class tensor([3]). Step 250, Loss: 1.1920928244535389e-07\n",
      "Generating Image Number: 11 for target class tensor([3]). Step 300, Loss: 1.1920928244535389e-07\n",
      "Generating Image Number: 11 for target class tensor([3]). Step 350, Loss: 1.1920928244535389e-07\n",
      "Generating Image Number: 11 for target class tensor([3]). Step 400, Loss: 1.1920928244535389e-07\n",
      "Generating Image Number: 11 for target class tensor([3]). Step 450, Loss: 1.1920928244535389e-07\n",
      "Generating Image Number: 12 for target class tensor([3]). Step 0, Loss: 0.0019819156732410192\n",
      "Generating Image Number: 12 for target class tensor([3]). Step 50, Loss: 2.7418097943154862e-06\n",
      "Generating Image Number: 12 for target class tensor([3]). Step 100, Loss: 1.9073468138230965e-06\n",
      "Generating Image Number: 12 for target class tensor([3]). Step 150, Loss: 1.4305104514278355e-06\n",
      "Generating Image Number: 12 for target class tensor([3]). Step 200, Loss: 1.0728830375228426e-06\n",
      "Generating Image Number: 12 for target class tensor([3]). Step 250, Loss: 8.344646857949556e-07\n",
      "Generating Image Number: 12 for target class tensor([3]). Step 300, Loss: 7.152555099310121e-07\n",
      "Generating Image Number: 12 for target class tensor([3]). Step 350, Loss: 5.960462772236497e-07\n",
      "Generating Image Number: 12 for target class tensor([3]). Step 400, Loss: 4.768370445162873e-07\n",
      "Generating Image Number: 12 for target class tensor([3]). Step 450, Loss: 4.768370445162873e-07\n",
      "Generating Image Number: 13 for target class tensor([3]). Step 0, Loss: 2.264974000354414e-06\n",
      "Generating Image Number: 13 for target class tensor([3]). Step 50, Loss: 0.0\n",
      "Generating Image Number: 13 for target class tensor([3]). Step 100, Loss: 0.0\n",
      "Generating Image Number: 13 for target class tensor([3]). Step 150, Loss: 0.0\n",
      "Generating Image Number: 13 for target class tensor([3]). Step 200, Loss: 0.0\n",
      "Generating Image Number: 13 for target class tensor([3]). Step 250, Loss: 0.0\n",
      "Generating Image Number: 13 for target class tensor([3]). Step 300, Loss: 0.0\n",
      "Generating Image Number: 13 for target class tensor([3]). Step 350, Loss: 0.0\n",
      "Generating Image Number: 13 for target class tensor([3]). Step 400, Loss: 0.0\n",
      "Generating Image Number: 13 for target class tensor([3]). Step 450, Loss: 0.0\n",
      "Generating Image Number: 14 for target class tensor([3]). Step 0, Loss: 4.887569048150908e-06\n",
      "Generating Image Number: 14 for target class tensor([3]). Step 50, Loss: 0.0\n",
      "Generating Image Number: 14 for target class tensor([3]). Step 100, Loss: 0.0\n",
      "Generating Image Number: 14 for target class tensor([3]). Step 150, Loss: 0.0\n",
      "Generating Image Number: 14 for target class tensor([3]). Step 200, Loss: 0.0\n",
      "Generating Image Number: 14 for target class tensor([3]). Step 250, Loss: 0.0\n",
      "Generating Image Number: 14 for target class tensor([3]). Step 300, Loss: 0.0\n",
      "Generating Image Number: 14 for target class tensor([3]). Step 350, Loss: 0.0\n",
      "Generating Image Number: 14 for target class tensor([3]). Step 400, Loss: 0.0\n",
      "Generating Image Number: 14 for target class tensor([3]). Step 450, Loss: 0.0\n",
      "Generating Image Number: 15 for target class tensor([3]). Step 0, Loss: 0.20611806213855743\n",
      "Generating Image Number: 15 for target class tensor([3]). Step 50, Loss: 0.000615407363511622\n",
      "Generating Image Number: 15 for target class tensor([3]). Step 100, Loss: 0.0004389514506328851\n",
      "Generating Image Number: 15 for target class tensor([3]). Step 150, Loss: 0.00036971885128878057\n",
      "Generating Image Number: 15 for target class tensor([3]). Step 200, Loss: 0.00032789100077934563\n",
      "Generating Image Number: 15 for target class tensor([3]). Step 250, Loss: 0.00028784899041056633\n",
      "Generating Image Number: 15 for target class tensor([3]). Step 300, Loss: 0.0002627027570270002\n",
      "Generating Image Number: 15 for target class tensor([3]). Step 350, Loss: 0.00024291902082040906\n",
      "Generating Image Number: 15 for target class tensor([3]). Step 400, Loss: 0.00022504181833937764\n",
      "Generating Image Number: 15 for target class tensor([3]). Step 450, Loss: 0.0002094287920044735\n",
      "Generating Image Number: 16 for target class tensor([3]). Step 0, Loss: 0.062463074922561646\n",
      "Generating Image Number: 16 for target class tensor([3]). Step 50, Loss: 0.0006325627909973264\n",
      "Generating Image Number: 16 for target class tensor([3]). Step 100, Loss: 0.0004138090298511088\n",
      "Generating Image Number: 16 for target class tensor([3]). Step 150, Loss: 0.00031537804170511663\n",
      "Generating Image Number: 16 for target class tensor([3]). Step 200, Loss: 0.00024863966973498464\n",
      "Generating Image Number: 16 for target class tensor([3]). Step 250, Loss: 0.00018761781393550336\n",
      "Generating Image Number: 16 for target class tensor([3]). Step 300, Loss: 0.00013422065239865333\n",
      "Generating Image Number: 16 for target class tensor([3]). Step 350, Loss: 0.00010597144137136638\n",
      "Generating Image Number: 16 for target class tensor([3]). Step 400, Loss: 8.475421054754406e-05\n",
      "Generating Image Number: 16 for target class tensor([3]). Step 450, Loss: 6.83045873302035e-05\n",
      "Generating Image Number: 17 for target class tensor([3]). Step 0, Loss: 0.0\n",
      "Generating Image Number: 17 for target class tensor([3]). Step 50, Loss: 0.0\n",
      "Generating Image Number: 17 for target class tensor([3]). Step 100, Loss: 0.0\n",
      "Generating Image Number: 17 for target class tensor([3]). Step 150, Loss: 0.0\n",
      "Generating Image Number: 17 for target class tensor([3]). Step 200, Loss: 0.0\n",
      "Generating Image Number: 17 for target class tensor([3]). Step 250, Loss: 0.0\n",
      "Generating Image Number: 17 for target class tensor([3]). Step 300, Loss: 0.0\n",
      "Generating Image Number: 17 for target class tensor([3]). Step 350, Loss: 0.0\n",
      "Generating Image Number: 17 for target class tensor([3]). Step 400, Loss: 0.0\n",
      "Generating Image Number: 17 for target class tensor([3]). Step 450, Loss: 0.0\n",
      "Generating Image Number: 18 for target class tensor([3]). Step 0, Loss: 1.1920922133867862e-06\n",
      "Generating Image Number: 18 for target class tensor([3]). Step 50, Loss: 0.0\n",
      "Generating Image Number: 18 for target class tensor([3]). Step 100, Loss: 0.0\n",
      "Generating Image Number: 18 for target class tensor([3]). Step 150, Loss: 0.0\n",
      "Generating Image Number: 18 for target class tensor([3]). Step 200, Loss: 0.0\n",
      "Generating Image Number: 18 for target class tensor([3]). Step 250, Loss: 0.0\n",
      "Generating Image Number: 18 for target class tensor([3]). Step 300, Loss: 0.0\n",
      "Generating Image Number: 18 for target class tensor([3]). Step 350, Loss: 0.0\n",
      "Generating Image Number: 18 for target class tensor([3]). Step 400, Loss: 0.0\n",
      "Generating Image Number: 18 for target class tensor([3]). Step 450, Loss: 0.0\n",
      "Generating Image Number: 19 for target class tensor([3]). Step 0, Loss: 0.9631768465042114\n",
      "Generating Image Number: 19 for target class tensor([3]). Step 50, Loss: 0.00040260792593471706\n",
      "Generating Image Number: 19 for target class tensor([3]). Step 100, Loss: 8.95221673999913e-05\n",
      "Generating Image Number: 19 for target class tensor([3]). Step 150, Loss: 4.327203714638017e-05\n",
      "Generating Image Number: 19 for target class tensor([3]). Step 200, Loss: 3.0874729418428615e-05\n",
      "Generating Image Number: 19 for target class tensor([3]). Step 250, Loss: 2.4914430468925275e-05\n",
      "Generating Image Number: 19 for target class tensor([3]). Step 300, Loss: 2.098061486321967e-05\n",
      "Generating Image Number: 19 for target class tensor([3]). Step 350, Loss: 1.847726889536716e-05\n",
      "Generating Image Number: 19 for target class tensor([3]). Step 400, Loss: 1.6331539882230572e-05\n",
      "Generating Image Number: 19 for target class tensor([3]). Step 450, Loss: 1.4424220353248529e-05\n",
      "Generating Image Number: 20 for target class tensor([3]). Step 0, Loss: 0.04565614089369774\n",
      "Generating Image Number: 20 for target class tensor([3]). Step 50, Loss: 1.1920928244535389e-07\n",
      "Generating Image Number: 20 for target class tensor([3]). Step 100, Loss: 1.1920928244535389e-07\n",
      "Generating Image Number: 20 for target class tensor([3]). Step 150, Loss: 1.1920928244535389e-07\n",
      "Generating Image Number: 20 for target class tensor([3]). Step 200, Loss: 1.1920928244535389e-07\n",
      "Generating Image Number: 20 for target class tensor([3]). Step 250, Loss: 1.1920928244535389e-07\n",
      "Generating Image Number: 20 for target class tensor([3]). Step 300, Loss: 1.1920928244535389e-07\n",
      "Generating Image Number: 20 for target class tensor([3]). Step 350, Loss: 1.1920928244535389e-07\n",
      "Generating Image Number: 20 for target class tensor([3]). Step 400, Loss: 1.1920928244535389e-07\n",
      "Generating Image Number: 20 for target class tensor([3]). Step 450, Loss: 1.1920928244535389e-07\n"
     ]
    }
   ],
   "source": [
    "torch.manual_seed(300)\n",
    "latent_vectors = torch.randn(img_count, z_dim, 1, 1, requires_grad=True) # Start with 20 random noises\n",
    "class3_optimized_latent_vectors = recover_images(img_count, 3, latent_vectors)"
   ]
  },
  {
   "cell_type": "code",
   "execution_count": 24,
   "id": "ae6425a5-dd86-4e87-8112-883336345ac9",
   "metadata": {},
   "outputs": [],
   "source": [
    "z0_1 = class0_optimized_latent_vectors[0]\n",
    "z0_2 = class0_optimized_latent_vectors[1]\n",
    "z0_3 = class0_optimized_latent_vectors[2]"
   ]
  },
  {
   "cell_type": "code",
   "execution_count": 25,
   "id": "3a6ed4fb-b693-4963-afcf-17a512e50b5f",
   "metadata": {},
   "outputs": [
    {
     "name": "stdout",
     "output_type": "stream",
     "text": [
      "torch.Size([64, 64])\n"
     ]
    }
   ],
   "source": [
    "# Display the generated image\n",
    "img = gen(z0_1.to(device)).squeeze(dim=0).squeeze(dim=0)\n",
    "print(img.shape)"
   ]
  },
  {
   "cell_type": "code",
   "execution_count": 26,
   "id": "88fc9416-c6ca-486b-bd72-63885de78d1c",
   "metadata": {},
   "outputs": [
    {
     "data": {
      "text/plain": [
       "<matplotlib.image.AxesImage at 0x287a5ba0d00>"
      ]
     },
     "execution_count": 26,
     "metadata": {},
     "output_type": "execute_result"
    },
    {
     "data": {
      "image/png": "[encoded data removed]",
      "text/plain": [
       "<Figure size 640x480 with 1 Axes>"
      ]
     },
     "metadata": {},
     "output_type": "display_data"
    }
   ],
   "source": [
    "plt.axis(False)\n",
    "plt.title('Recovered Image:')\n",
    "plt.imshow(img.cpu().detach(), cmap='gray')"
   ]
  },
  {
   "cell_type": "code",
   "execution_count": 27,
   "id": "bb0fc370-78c5-495f-b1e7-1239873b4ff8",
   "metadata": {},
   "outputs": [],
   "source": [
    "z1 = class1_optimized_latent_vectors[0]\n",
    "z2 = class1_optimized_latent_vectors[1]\n",
    "z3 = class1_optimized_latent_vectors[2]"
   ]
  },
  {
   "cell_type": "code",
   "execution_count": 28,
   "id": "07f38b7d-14f6-4d63-9efa-cb96ec2e1d35",
   "metadata": {},
   "outputs": [
    {
     "name": "stdout",
     "output_type": "stream",
     "text": [
      "torch.Size([64, 64])\n"
     ]
    }
   ],
   "source": [
    "# Display the generated image\n",
    "img = gen(z1.to(device)).squeeze(dim=0).squeeze(dim=0)\n",
    "print(img.shape)"
   ]
  },
  {
   "cell_type": "code",
   "execution_count": 29,
   "id": "8cad57ff-7961-4078-9dd4-1e0b4879ff56",
   "metadata": {},
   "outputs": [
    {
     "data": {
      "text/plain": [
       "<matplotlib.image.AxesImage at 0x2879a3cf1c0>"
      ]
     },
     "execution_count": 29,
     "metadata": {},
     "output_type": "execute_result"
    },
    {
     "data": {
      "image/png": "[encoded data removed]",
      "text/plain": [
       "<Figure size 640x480 with 1 Axes>"
      ]
     },
     "metadata": {},
     "output_type": "display_data"
    }
   ],
   "source": [
    "plt.axis(False)\n",
    "plt.title('Recovered Image:')\n",
    "plt.imshow(img.cpu().detach(), cmap='gray')"
   ]
  },
  {
   "cell_type": "code",
   "execution_count": 30,
   "id": "52ecd67d-cb2d-44a3-b375-759d63db75b1",
   "metadata": {},
   "outputs": [],
   "source": [
    "                                                            # Dataset Loading\n",
    "# Load the .pkl files in as numpy arrays of pixels\n",
    "def load_tumor_data(file_path):\n",
    "    train_xs = []\n",
    "    train_ys = []\n",
    "    \"\"\" Load Digits Data from pickle data\n",
    "    return:\n",
    "    @xs: numpy.array, (n, c, w, h) \n",
    "    @ys: numpy.array, (n, ), 0-9\n",
    "    \"\"\"\n",
    "    with open(file_path, 'rb') as file:\n",
    "        data = pickle.load(file)\n",
    "        train_xs.append(data[\"data\"])\n",
    "        train_ys.append(data[\"labels\"])\n",
    "    train_xs = np.concatenate(train_xs, axis=0)\n",
    "    train_ys = np.concatenate(train_ys, axis=0)\n",
    "    \n",
    "    return train_xs, train_ys"
   ]
  },
  {
   "cell_type": "code",
   "execution_count": 31,
   "id": "ca72f62f-1eec-4b17-a8ce-fd66781f64f6",
   "metadata": {},
   "outputs": [],
   "source": [
    "# Custom Tumor Dataset\n",
    "class TumorDataset(data.Dataset):\n",
    "    def __init__(self, xs, ys, is_train=True):\n",
    "        self.xs = xs\n",
    "        self.ys = ys\n",
    "\n",
    "        if is_train is True:\n",
    "            self.transform = transforms.Compose([\n",
    "                transforms.ToPILImage(),\n",
    "                transforms.Resize((64, 64)),\n",
    "                transforms.ToTensor(),\n",
    "                transforms.Normalize(\n",
    "                    [0.5],\n",
    "                    [0.5]\n",
    "                )\n",
    "            ])\n",
    "        else:\n",
    "            self.transform = transforms.Compose([\n",
    "                transforms.ToPILImage(),\n",
    "                transforms.Resize((64, 64)),\n",
    "                transforms.ToTensor(),\n",
    "                transforms.Normalize(\n",
    "                    (0.4914, 0.4822, 0.4465),\n",
    "                    (0.2023, 0.1994, 0.2010)\n",
    "                )\n",
    "            ])\n",
    "\n",
    "    def __len__(self):\n",
    "        return len(self.xs)\n",
    "\n",
    "    def __getitem__(self, index):\n",
    "        img = self.xs[index]\n",
    "        #print(img.shape)\n",
    "        label = self.ys[index]\n",
    "\n",
    "        img = img.transpose((1, 2, 0)).astype(np.uint8)\n",
    "        img = self.transform(img)\n",
    "\n",
    "        img = torch.FloatTensor(img)\n",
    "        label = torch.LongTensor([label])[0]\n",
    "        return img, label"
   ]
  },
  {
   "cell_type": "code",
   "execution_count": 32,
   "id": "ceb91588-ef69-4373-b33f-74aed6c246bb",
   "metadata": {},
   "outputs": [],
   "source": [
    "def create_dataset(train_xs, train_ys):\n",
    "    tumor_dataset = TumorDataset(train_xs, train_ys, is_train=True)\n",
    "\n",
    "    return tumor_dataset"
   ]
  },
  {
   "cell_type": "code",
   "execution_count": 33,
   "id": "0415fba0-830c-42c6-bbde-c6958e779fbb",
   "metadata": {},
   "outputs": [],
   "source": [
    "def create_dataloader(dataset):\n",
    "    dataloader = DataLoader(dataset=dataset, batch_size=128, shuffle=True)\n",
    "\n",
    "    return dataloader"
   ]
  },
  {
   "cell_type": "code",
   "execution_count": 34,
   "id": "726d4995-5133-4037-ab0e-f2705470cdc9",
   "metadata": {},
   "outputs": [
    {
     "name": "stdout",
     "output_type": "stream",
     "text": [
      "(13927, 1, 32, 32)\n",
      "<class 'numpy.ndarray'>\n"
     ]
    }
   ],
   "source": [
    "# Load in the pickle dataset file\n",
    "train_xs, train_ys = load_tumor_data('datasets/Tumor/tumor4train.pkl')\n",
    "#train_xs = train_xs[:, 1, :, :]\n",
    "#train_xs = np.expand_dims(train_xs, axis=1)\n",
    "train_xs = train_xs.mean(axis=1, keepdims=True)\n",
    "print(train_xs.shape)\n",
    "print(type(train_xs))"
   ]
  },
  {
   "cell_type": "code",
   "execution_count": 35,
   "id": "a684b01a-eb4a-4210-9f59-d613085a404a",
   "metadata": {},
   "outputs": [],
   "source": [
    "# Create the dataset\n",
    "tumor_dataset = create_dataset(train_xs, train_ys)"
   ]
  },
  {
   "cell_type": "code",
   "execution_count": 36,
   "id": "193f07cc-d34f-425e-aa08-62b6d6adbad6",
   "metadata": {},
   "outputs": [],
   "source": [
    "def visualize_image(image_x):\n",
    "    # We have to visualize by reverting the normalization (just for visualization).\n",
    "    mean = torch.tensor([0.5])\n",
    "    std = torch.tensor([0.5])\n",
    "\n",
    "    image = image_x * std + mean  # Denormalize the image\n",
    "\n",
    "    image = torch.clamp(image, 0, 1) # Clip values to [0, 1] to ensure valid range for display\n",
    "\n",
    "    # Permute the image to (H, W, C) for matplotlib\n",
    "    \n",
    "    image = image.permute(1, 2, 0)\n",
    "\n",
    "    plt.imshow(image, cmap='gray')"
   ]
  },
  {
   "cell_type": "code",
   "execution_count": 37,
   "id": "16e93c17-a89b-46a2-8198-71e66e370f4f",
   "metadata": {},
   "outputs": [
    {
     "name": "stdout",
     "output_type": "stream",
     "text": [
      "torch.Size([1, 64, 64])\n"
     ]
    },
    {
     "data": {
      "image/png": "[encoded data removed]",
      "text/plain": [
       "<Figure size 640x480 with 1 Axes>"
      ]
     },
     "metadata": {},
     "output_type": "display_data"
    }
   ],
   "source": [
    "# Visualize the first tumor sample. \n",
    "image_x, image_y = tumor_dataset[7000]\n",
    "print(image_x.shape)\n",
    "visualize_image(image_x)"
   ]
  },
  {
   "cell_type": "code",
   "execution_count": 38,
   "id": "60e2da47-7cb6-493e-aeda-aa80d7965de7",
   "metadata": {},
   "outputs": [],
   "source": [
    "from scipy.spatial.distance import cosine"
   ]
  },
  {
   "cell_type": "code",
   "execution_count": 39,
   "id": "5a7937e5-b808-4b3e-8288-75dcd9862340",
   "metadata": {},
   "outputs": [],
   "source": [
    "# Get the feature embeddings\n",
    "tfcnn_model = target_model = load_target_model(base_net='TFCNN', n_classes=4, path='saved models/fedavg_global_model.pth').to(device)\n",
    "model_embeddings = tfcnn_model.encoder.to(device)"
   ]
  },
  {
   "cell_type": "code",
   "execution_count": 40,
   "id": "737e3d92-45b6-45f6-9bf2-d51f379d6ac8",
   "metadata": {},
   "outputs": [],
   "source": [
    "# Preprocessing\n",
    "preprocess = transforms.Compose([\n",
    "    transforms.Resize(256),\n",
    "    transforms.CenterCrop(224),\n",
    "    transforms.ToTensor(),\n",
    "])"
   ]
  },
  {
   "cell_type": "code",
   "execution_count": 41,
   "id": "babb1015-bdfb-439b-bea1-81f9f50dd74e",
   "metadata": {},
   "outputs": [],
   "source": [
    "def get_feature(img):\n",
    "    with torch.no_grad():\n",
    "        features = model_embeddings(img).squeeze()\n",
    "    return features.cpu().numpy()"
   ]
  },
  {
   "cell_type": "code",
   "execution_count": 42,
   "id": "79f38654-6670-440d-a322-b2cae18a71d8",
   "metadata": {},
   "outputs": [
    {
     "data": {
      "text/plain": [
       "torch.Size([1, 64, 64])"
      ]
     },
     "execution_count": 42,
     "metadata": {},
     "output_type": "execute_result"
    }
   ],
   "source": [
    "# Send an original image through the model\n",
    "image_x, image_y = tumor_dataset[10]\n",
    "image_x.shape"
   ]
  },
  {
   "cell_type": "code",
   "execution_count": 43,
   "id": "a4a2659e-dcaa-4d4a-b5a5-06b363ce6534",
   "metadata": {},
   "outputs": [],
   "source": [
    "image_x = image_x.unsqueeze(dim=0)"
   ]
  },
  {
   "cell_type": "code",
   "execution_count": 44,
   "id": "14348bfc-5988-48f0-88cf-4761d7a99d89",
   "metadata": {},
   "outputs": [
    {
     "data": {
      "text/plain": [
       "torch.Size([1, 1, 64, 64])"
      ]
     },
     "execution_count": 44,
     "metadata": {},
     "output_type": "execute_result"
    }
   ],
   "source": [
    "image_x.shape"
   ]
  },
  {
   "cell_type": "code",
   "execution_count": 45,
   "id": "66160253-9543-4aba-bb81-031d51ef9623",
   "metadata": {},
   "outputs": [
    {
     "data": {
      "text/plain": [
       "torch.Size([1, 3, 64, 64])"
      ]
     },
     "execution_count": 45,
     "metadata": {},
     "output_type": "execute_result"
    }
   ],
   "source": [
    "image_x = image_x.repeat(1, 3, 1, 1)\n",
    "image_x = image_x.to(device)\n",
    "image_x.shape"
   ]
  },
  {
   "cell_type": "code",
   "execution_count": 46,
   "id": "f615c7d3-2dab-425d-81e1-2595ec59e230",
   "metadata": {},
   "outputs": [
    {
     "data": {
      "text/plain": [
       "(4096,)"
      ]
     },
     "execution_count": 46,
     "metadata": {},
     "output_type": "execute_result"
    }
   ],
   "source": [
    "features = get_feature(image_x)\n",
    "features.shape"
   ]
  },
  {
   "cell_type": "code",
   "execution_count": 47,
   "id": "31b9ddc9-3fc8-4a47-bfc7-74a6df27d672",
   "metadata": {},
   "outputs": [],
   "source": [
    "class0_original_images = []\n",
    "class1_original_images = []\n",
    "class2_original_images = []\n",
    "class3_original_images = []\n",
    "target_num = 20 # 20 images for each class"
   ]
  },
  {
   "cell_type": "code",
   "execution_count": 48,
   "id": "e804c948-2dc8-41df-a633-113300baf12a",
   "metadata": {},
   "outputs": [],
   "source": [
    "for i in range(len(tumor_dataset)):\n",
    "    img_x, img_y = tumor_dataset[i]\n",
    "\n",
    "    if img_y == 0:\n",
    "        if len(class0_original_images) < target_num:\n",
    "            class0_original_images.append(img_x)\n",
    "    elif img_y == 1:\n",
    "        if len(class1_original_images) < target_num:\n",
    "            class1_original_images.append(img_x)\n",
    "    elif img_y == 2:\n",
    "        if len(class2_original_images) < target_num:\n",
    "            class2_original_images.append(img_x)\n",
    "    elif img_y == 3:\n",
    "        if len(class3_original_images) < target_num:\n",
    "            class3_original_images.append(img_x)"
   ]
  },
  {
   "cell_type": "code",
   "execution_count": 49,
   "id": "ef07c896-c4cd-48da-9e59-c9d7bd90a4e8",
   "metadata": {},
   "outputs": [
    {
     "data": {
      "text/plain": [
       "20"
      ]
     },
     "execution_count": 49,
     "metadata": {},
     "output_type": "execute_result"
    }
   ],
   "source": [
    "len(class3_original_images)"
   ]
  },
  {
   "cell_type": "code",
   "execution_count": 50,
   "id": "e102404a-68a3-40c5-99a7-45813eb87f20",
   "metadata": {},
   "outputs": [
    {
     "data": {
      "text/plain": [
       "torch.Size([1, 3, 64, 64])"
      ]
     },
     "execution_count": 50,
     "metadata": {},
     "output_type": "execute_result"
    }
   ],
   "source": [
    "# Testing the cosine similarity\n",
    "class1_original_image = class1_original_images[8]\n",
    "class1_original_image = class1_original_image.unsqueeze(dim=0).to(device)\n",
    "class1_original_image = class1_original_image.repeat(1, 3, 1, 1)\n",
    "class1_original_image.shape"
   ]
  },
  {
   "cell_type": "code",
   "execution_count": 51,
   "id": "d7fe9c85-2c83-4580-be7d-32833b706948",
   "metadata": {},
   "outputs": [],
   "source": [
    "fake1 = class1_optimized_latent_vectors[8]\n",
    "fake1_image = gen(fake1.to(device))\n",
    "fake1_image = fake1_image.repeat(1, 3, 1, 1)"
   ]
  },
  {
   "cell_type": "code",
   "execution_count": 52,
   "id": "74647152-cdcb-4593-a88f-d3ac43fd97d3",
   "metadata": {},
   "outputs": [
    {
     "data": {
      "text/plain": [
       "torch.Size([1, 3, 64, 64])"
      ]
     },
     "execution_count": 52,
     "metadata": {},
     "output_type": "execute_result"
    }
   ],
   "source": [
    "fake1_image.shape"
   ]
  },
  {
   "cell_type": "code",
   "execution_count": 53,
   "id": "e88f6396-0ef2-45f5-96e0-6048be01af25",
   "metadata": {},
   "outputs": [],
   "source": [
    "# Get the features of the images\n",
    "features_original = get_feature(class1_original_image)\n",
    "features_fake = get_feature(fake1_image)"
   ]
  },
  {
   "cell_type": "code",
   "execution_count": 54,
   "id": "b54e2bca-5f2b-41ea-b810-15d1f9d30f86",
   "metadata": {},
   "outputs": [],
   "source": [
    "# Compute cosine similarity\n",
    "similarity = 1 - cosine(features_original, features_fake)"
   ]
  },
  {
   "cell_type": "code",
   "execution_count": 55,
   "id": "983c7e35-27ee-453c-9356-cb9a84fdd4a3",
   "metadata": {},
   "outputs": [
    {
     "data": {
      "text/plain": [
       "np.float32(0.45270002)"
      ]
     },
     "execution_count": 55,
     "metadata": {},
     "output_type": "execute_result"
    }
   ],
   "source": [
    "similarity"
   ]
  },
  {
   "cell_type": "code",
   "execution_count": 56,
   "id": "e65e04e8-52b7-4cf2-876c-d9b07a435ec9",
   "metadata": {},
   "outputs": [],
   "source": [
    "def calculate_class0_sim():\n",
    "    similarities = []\n",
    "    for i in range(0, 20):\n",
    "        class0_original = class0_original_images[i].unsqueeze(dim=0).to(device)\n",
    "        class0_original = class0_original.repeat(1, 3, 1, 1)\n",
    "\n",
    "        class0_fake = class0_optimized_latent_vectors[i]\n",
    "        class0_fake_img = gen(class0_fake.to(device))\n",
    "        class0_fake_img = class0_fake_img.repeat(1, 3, 1, 1)\n",
    "\n",
    "        features_original = get_feature(class0_original)\n",
    "        features_fake = get_feature(class0_fake_img)\n",
    "\n",
    "        cosine_similarity = 1 - cosine(features_original, features_fake)\n",
    "\n",
    "        similarities.append(cosine_similarity)\n",
    "        \n",
    "    return similarities"
   ]
  },
  {
   "cell_type": "code",
   "execution_count": 57,
   "id": "10d8f579-0b80-4157-b59b-7b92be9e52f2",
   "metadata": {},
   "outputs": [],
   "source": [
    "def calculate_class1_sim():\n",
    "    similarities = []\n",
    "    for i in range(0, 20):\n",
    "        class1_original = class1_original_images[i].unsqueeze(dim=0).to(device)\n",
    "        class1_original = class1_original.repeat(1, 3, 1, 1)\n",
    "\n",
    "        class1_fake = class1_optimized_latent_vectors[i]\n",
    "        class1_fake_img = gen(class1_fake.to(device))\n",
    "        class1_fake_img = class1_fake_img.repeat(1, 3, 1, 1)\n",
    "\n",
    "        features_original = get_feature(class1_original)\n",
    "        features_fake = get_feature(class1_fake_img)\n",
    "\n",
    "        cosine_similarity = 1 - cosine(features_original, features_fake)\n",
    "        similarities.append(cosine_similarity)\n",
    "\n",
    "    return similarities"
   ]
  },
  {
   "cell_type": "code",
   "execution_count": 58,
   "id": "1bbdc999-fa6d-4005-b785-3c54a7bd89ee",
   "metadata": {},
   "outputs": [],
   "source": [
    "def calculate_class2_sim():\n",
    "    similarities = []\n",
    "    for i in range(0, 20):\n",
    "        class2_original = class2_original_images[i].unsqueeze(dim=0).to(device)\n",
    "        class2_original = class2_original.repeat(1, 3, 1, 1)\n",
    "\n",
    "        class2_fake = class2_optimized_latent_vectors[i]\n",
    "        class2_fake_img = gen(class2_fake.to(device))\n",
    "        class2_fake_img = class2_fake_img.repeat(1, 3, 1, 1)\n",
    "\n",
    "        features_original = get_feature(class2_original)\n",
    "        features_fake = get_feature(class2_fake_img)\n",
    "\n",
    "        cosine_similarity = 1 - cosine(features_original, features_fake)\n",
    "        similarities.append(cosine_similarity)\n",
    "\n",
    "    return similarities"
   ]
  },
  {
   "cell_type": "code",
   "execution_count": 59,
   "id": "33cb8de1-5a87-4dd4-8fc2-d3f27d6ddc9a",
   "metadata": {},
   "outputs": [],
   "source": [
    "def calculate_class3_sim():\n",
    "    similarities = []\n",
    "    for i in range(0, 20):\n",
    "        class3_original = class3_original_images[i].unsqueeze(dim=0).to(device)\n",
    "        class3_original = class3_original.repeat(1, 3, 1, 1)\n",
    "\n",
    "        class3_fake = class3_optimized_latent_vectors[i]\n",
    "        class3_fake_img = gen(class3_fake.to(device))\n",
    "        class3_fake_img = class3_fake_img.repeat(1, 3, 1, 1)\n",
    "\n",
    "        features_original = get_feature(class3_original)\n",
    "        features_fake = get_feature(class3_fake_img)\n",
    "\n",
    "        cosine_similarity = 1 - cosine(features_original, features_fake)\n",
    "        similarities.append(cosine_similarity)\n",
    "\n",
    "    return similarities"
   ]
  },
  {
   "cell_type": "code",
   "execution_count": 60,
   "id": "7868f175-5845-4ee4-b4cf-1c89513375ec",
   "metadata": {},
   "outputs": [],
   "source": [
    "class0_sims = calculate_class0_sim()\n",
    "class1_sims = calculate_class0_sim()\n",
    "class2_sims = calculate_class0_sim()\n",
    "class3_sims = calculate_class0_sim()"
   ]
  },
  {
   "cell_type": "code",
   "execution_count": 61,
   "id": "bbf4597d-a583-4204-a3ce-9085936e0189",
   "metadata": {},
   "outputs": [
    {
     "data": {
      "text/plain": [
       "[np.float32(0.3430887),\n",
       " np.float32(0.22063297),\n",
       " np.float32(0.4446416),\n",
       " np.float32(0.24707013),\n",
       " np.float32(0.28996813),\n",
       " np.float32(0.40421176),\n",
       " np.float32(0.23404515),\n",
       " np.float32(0.31435955),\n",
       " np.float32(0.3458488),\n",
       " np.float32(0.2746867),\n",
       " np.float32(0.22924948),\n",
       " np.float32(0.3982659),\n",
       " np.float32(0.3012154),\n",
       " np.float32(0.32940102),\n",
       " np.float32(0.38864732),\n",
       " np.float32(0.39165074),\n",
       " np.float32(0.34659225),\n",
       " np.float32(0.34468853),\n",
       " np.float32(0.39277893),\n",
       " np.float32(0.27792066)]"
      ]
     },
     "execution_count": 61,
     "metadata": {},
     "output_type": "execute_result"
    }
   ],
   "source": [
    "class0_sims"
   ]
  },
  {
   "cell_type": "code",
   "execution_count": 62,
   "id": "acb9d480-a58f-4ce6-8973-eb9c8d6e7253",
   "metadata": {},
   "outputs": [
    {
     "data": {
      "text/plain": [
       "[np.float32(0.34308875),\n",
       " np.float32(0.22063303),\n",
       " np.float32(0.4446416),\n",
       " np.float32(0.24707013),\n",
       " np.float32(0.28996778),\n",
       " np.float32(0.40421176),\n",
       " np.float32(0.23404515),\n",
       " np.float32(0.31435966),\n",
       " np.float32(0.3458488),\n",
       " np.float32(0.27468592),\n",
       " np.float32(0.22924948),\n",
       " np.float32(0.39826584),\n",
       " np.float32(0.3012154),\n",
       " np.float32(0.32940173),\n",
       " np.float32(0.38864732),\n",
       " np.float32(0.39165032),\n",
       " np.float32(0.34659237),\n",
       " np.float32(0.34468853),\n",
       " np.float32(0.39277887),\n",
       " np.float32(0.2779206)]"
      ]
     },
     "execution_count": 62,
     "metadata": {},
     "output_type": "execute_result"
    }
   ],
   "source": [
    "class3_sims"
   ]
  },
  {
   "cell_type": "code",
   "execution_count": 63,
   "id": "58dc103d-1c30-473a-adc3-fcd5ca5100a0",
   "metadata": {},
   "outputs": [
    {
     "ename": "FileNotFoundError",
     "evalue": "[Errno 2] No such file or directory: 'output/fedvg.png'",
     "output_type": "error",
     "traceback": [
      "\u001b[1;31m---------------------------------------------------------------------------\u001b[0m",
      "\u001b[1;31mFileNotFoundError\u001b[0m                         Traceback (most recent call last)",
      "Cell \u001b[1;32mIn[63], line 43\u001b[0m\n\u001b[0;32m     41\u001b[0m plt\u001b[38;5;241m.\u001b[39mtight_layout()\n\u001b[0;32m     42\u001b[0m \u001b[38;5;66;03m# Save the plot to a file\u001b[39;00m\n\u001b[1;32m---> 43\u001b[0m \u001b[43mplt\u001b[49m\u001b[38;5;241;43m.\u001b[39;49m\u001b[43msavefig\u001b[49m\u001b[43m(\u001b[49m\u001b[38;5;124;43m'\u001b[39;49m\u001b[38;5;124;43moutput/fedvg.png\u001b[39;49m\u001b[38;5;124;43m'\u001b[39;49m\u001b[43m,\u001b[49m\u001b[43m \u001b[49m\u001b[43mdpi\u001b[49m\u001b[38;5;241;43m=\u001b[39;49m\u001b[38;5;241;43m300\u001b[39;49m\u001b[43m,\u001b[49m\u001b[43m \u001b[49m\u001b[43mbbox_inches\u001b[49m\u001b[38;5;241;43m=\u001b[39;49m\u001b[38;5;124;43m'\u001b[39;49m\u001b[38;5;124;43mtight\u001b[39;49m\u001b[38;5;124;43m'\u001b[39;49m\u001b[43m)\u001b[49m  \u001b[38;5;66;03m# Save as a PNG file with high resolution\u001b[39;00m\n\u001b[0;32m     45\u001b[0m \u001b[38;5;66;03m# Show the plot\u001b[39;00m\n\u001b[0;32m     46\u001b[0m plt\u001b[38;5;241m.\u001b[39mshow()\n",
      "File \u001b[1;32m~\\AppData\\Local\\Programs\\Python\\Python39\\lib\\site-packages\\matplotlib\\pyplot.py:1228\u001b[0m, in \u001b[0;36msavefig\u001b[1;34m(*args, **kwargs)\u001b[0m\n\u001b[0;32m   1225\u001b[0m fig \u001b[38;5;241m=\u001b[39m gcf()\n\u001b[0;32m   1226\u001b[0m \u001b[38;5;66;03m# savefig default implementation has no return, so mypy is unhappy\u001b[39;00m\n\u001b[0;32m   1227\u001b[0m \u001b[38;5;66;03m# presumably this is here because subclasses can return?\u001b[39;00m\n\u001b[1;32m-> 1228\u001b[0m res \u001b[38;5;241m=\u001b[39m fig\u001b[38;5;241m.\u001b[39msavefig(\u001b[38;5;241m*\u001b[39margs, \u001b[38;5;241m*\u001b[39m\u001b[38;5;241m*\u001b[39mkwargs)  \u001b[38;5;66;03m# type: ignore[func-returns-value]\u001b[39;00m\n\u001b[0;32m   1229\u001b[0m fig\u001b[38;5;241m.\u001b[39mcanvas\u001b[38;5;241m.\u001b[39mdraw_idle()  \u001b[38;5;66;03m# Need this if 'transparent=True', to reset colors.\u001b[39;00m\n\u001b[0;32m   1230\u001b[0m \u001b[38;5;28;01mreturn\u001b[39;00m res\n",
      "File \u001b[1;32m~\\AppData\\Local\\Programs\\Python\\Python39\\lib\\site-packages\\matplotlib\\figure.py:3395\u001b[0m, in \u001b[0;36mFigure.savefig\u001b[1;34m(self, fname, transparent, **kwargs)\u001b[0m\n\u001b[0;32m   3393\u001b[0m     \u001b[38;5;28;01mfor\u001b[39;00m ax \u001b[38;5;129;01min\u001b[39;00m \u001b[38;5;28mself\u001b[39m\u001b[38;5;241m.\u001b[39maxes:\n\u001b[0;32m   3394\u001b[0m         _recursively_make_axes_transparent(stack, ax)\n\u001b[1;32m-> 3395\u001b[0m \u001b[38;5;28mself\u001b[39m\u001b[38;5;241m.\u001b[39mcanvas\u001b[38;5;241m.\u001b[39mprint_figure(fname, \u001b[38;5;241m*\u001b[39m\u001b[38;5;241m*\u001b[39mkwargs)\n",
      "File \u001b[1;32m~\\AppData\\Local\\Programs\\Python\\Python39\\lib\\site-packages\\matplotlib\\backend_bases.py:2204\u001b[0m, in \u001b[0;36mFigureCanvasBase.print_figure\u001b[1;34m(self, filename, dpi, facecolor, edgecolor, orientation, format, bbox_inches, pad_inches, bbox_extra_artists, backend, **kwargs)\u001b[0m\n\u001b[0;32m   2200\u001b[0m \u001b[38;5;28;01mtry\u001b[39;00m:\n\u001b[0;32m   2201\u001b[0m     \u001b[38;5;66;03m# _get_renderer may change the figure dpi (as vector formats\u001b[39;00m\n\u001b[0;32m   2202\u001b[0m     \u001b[38;5;66;03m# force the figure dpi to 72), so we need to set it again here.\u001b[39;00m\n\u001b[0;32m   2203\u001b[0m     \u001b[38;5;28;01mwith\u001b[39;00m cbook\u001b[38;5;241m.\u001b[39m_setattr_cm(\u001b[38;5;28mself\u001b[39m\u001b[38;5;241m.\u001b[39mfigure, dpi\u001b[38;5;241m=\u001b[39mdpi):\n\u001b[1;32m-> 2204\u001b[0m         result \u001b[38;5;241m=\u001b[39m print_method(\n\u001b[0;32m   2205\u001b[0m             filename,\n\u001b[0;32m   2206\u001b[0m             facecolor\u001b[38;5;241m=\u001b[39mfacecolor,\n\u001b[0;32m   2207\u001b[0m             edgecolor\u001b[38;5;241m=\u001b[39medgecolor,\n\u001b[0;32m   2208\u001b[0m             orientation\u001b[38;5;241m=\u001b[39morientation,\n\u001b[0;32m   2209\u001b[0m             bbox_inches_restore\u001b[38;5;241m=\u001b[39m_bbox_inches_restore,\n\u001b[0;32m   2210\u001b[0m             \u001b[38;5;241m*\u001b[39m\u001b[38;5;241m*\u001b[39mkwargs)\n\u001b[0;32m   2211\u001b[0m \u001b[38;5;28;01mfinally\u001b[39;00m:\n\u001b[0;32m   2212\u001b[0m     \u001b[38;5;28;01mif\u001b[39;00m bbox_inches \u001b[38;5;129;01mand\u001b[39;00m restore_bbox:\n",
      "File \u001b[1;32m~\\AppData\\Local\\Programs\\Python\\Python39\\lib\\site-packages\\matplotlib\\backend_bases.py:2054\u001b[0m, in \u001b[0;36mFigureCanvasBase._switch_canvas_and_return_print_method.<locals>.<lambda>\u001b[1;34m(*args, **kwargs)\u001b[0m\n\u001b[0;32m   2050\u001b[0m     optional_kws \u001b[38;5;241m=\u001b[39m {  \u001b[38;5;66;03m# Passed by print_figure for other renderers.\u001b[39;00m\n\u001b[0;32m   2051\u001b[0m         \u001b[38;5;124m\"\u001b[39m\u001b[38;5;124mdpi\u001b[39m\u001b[38;5;124m\"\u001b[39m, \u001b[38;5;124m\"\u001b[39m\u001b[38;5;124mfacecolor\u001b[39m\u001b[38;5;124m\"\u001b[39m, \u001b[38;5;124m\"\u001b[39m\u001b[38;5;124medgecolor\u001b[39m\u001b[38;5;124m\"\u001b[39m, \u001b[38;5;124m\"\u001b[39m\u001b[38;5;124morientation\u001b[39m\u001b[38;5;124m\"\u001b[39m,\n\u001b[0;32m   2052\u001b[0m         \u001b[38;5;124m\"\u001b[39m\u001b[38;5;124mbbox_inches_restore\u001b[39m\u001b[38;5;124m\"\u001b[39m}\n\u001b[0;32m   2053\u001b[0m     skip \u001b[38;5;241m=\u001b[39m optional_kws \u001b[38;5;241m-\u001b[39m {\u001b[38;5;241m*\u001b[39minspect\u001b[38;5;241m.\u001b[39msignature(meth)\u001b[38;5;241m.\u001b[39mparameters}\n\u001b[1;32m-> 2054\u001b[0m     print_method \u001b[38;5;241m=\u001b[39m functools\u001b[38;5;241m.\u001b[39mwraps(meth)(\u001b[38;5;28;01mlambda\u001b[39;00m \u001b[38;5;241m*\u001b[39margs, \u001b[38;5;241m*\u001b[39m\u001b[38;5;241m*\u001b[39mkwargs: meth(\n\u001b[0;32m   2055\u001b[0m         \u001b[38;5;241m*\u001b[39margs, \u001b[38;5;241m*\u001b[39m\u001b[38;5;241m*\u001b[39m{k: v \u001b[38;5;28;01mfor\u001b[39;00m k, v \u001b[38;5;129;01min\u001b[39;00m kwargs\u001b[38;5;241m.\u001b[39mitems() \u001b[38;5;28;01mif\u001b[39;00m k \u001b[38;5;129;01mnot\u001b[39;00m \u001b[38;5;129;01min\u001b[39;00m skip}))\n\u001b[0;32m   2056\u001b[0m \u001b[38;5;28;01melse\u001b[39;00m:  \u001b[38;5;66;03m# Let third-parties do as they see fit.\u001b[39;00m\n\u001b[0;32m   2057\u001b[0m     print_method \u001b[38;5;241m=\u001b[39m meth\n",
      "File \u001b[1;32m~\\AppData\\Local\\Programs\\Python\\Python39\\lib\\site-packages\\matplotlib\\backends\\backend_agg.py:496\u001b[0m, in \u001b[0;36mFigureCanvasAgg.print_png\u001b[1;34m(self, filename_or_obj, metadata, pil_kwargs)\u001b[0m\n\u001b[0;32m    449\u001b[0m \u001b[38;5;28;01mdef\u001b[39;00m\u001b[38;5;250m \u001b[39m\u001b[38;5;21mprint_png\u001b[39m(\u001b[38;5;28mself\u001b[39m, filename_or_obj, \u001b[38;5;241m*\u001b[39m, metadata\u001b[38;5;241m=\u001b[39m\u001b[38;5;28;01mNone\u001b[39;00m, pil_kwargs\u001b[38;5;241m=\u001b[39m\u001b[38;5;28;01mNone\u001b[39;00m):\n\u001b[0;32m    450\u001b[0m \u001b[38;5;250m    \u001b[39m\u001b[38;5;124;03m\"\"\"\u001b[39;00m\n\u001b[0;32m    451\u001b[0m \u001b[38;5;124;03m    Write the figure to a PNG file.\u001b[39;00m\n\u001b[0;32m    452\u001b[0m \n\u001b[1;32m   (...)\u001b[0m\n\u001b[0;32m    494\u001b[0m \u001b[38;5;124;03m        *metadata*, including the default 'Software' key.\u001b[39;00m\n\u001b[0;32m    495\u001b[0m \u001b[38;5;124;03m    \"\"\"\u001b[39;00m\n\u001b[1;32m--> 496\u001b[0m     \u001b[38;5;28;43mself\u001b[39;49m\u001b[38;5;241;43m.\u001b[39;49m\u001b[43m_print_pil\u001b[49m\u001b[43m(\u001b[49m\u001b[43mfilename_or_obj\u001b[49m\u001b[43m,\u001b[49m\u001b[43m \u001b[49m\u001b[38;5;124;43m\"\u001b[39;49m\u001b[38;5;124;43mpng\u001b[39;49m\u001b[38;5;124;43m\"\u001b[39;49m\u001b[43m,\u001b[49m\u001b[43m \u001b[49m\u001b[43mpil_kwargs\u001b[49m\u001b[43m,\u001b[49m\u001b[43m \u001b[49m\u001b[43mmetadata\u001b[49m\u001b[43m)\u001b[49m\n",
      "File \u001b[1;32m~\\AppData\\Local\\Programs\\Python\\Python39\\lib\\site-packages\\matplotlib\\backends\\backend_agg.py:445\u001b[0m, in \u001b[0;36mFigureCanvasAgg._print_pil\u001b[1;34m(self, filename_or_obj, fmt, pil_kwargs, metadata)\u001b[0m\n\u001b[0;32m    440\u001b[0m \u001b[38;5;250m\u001b[39m\u001b[38;5;124;03m\"\"\"\u001b[39;00m\n\u001b[0;32m    441\u001b[0m \u001b[38;5;124;03mDraw the canvas, then save it using `.image.imsave` (to which\u001b[39;00m\n\u001b[0;32m    442\u001b[0m \u001b[38;5;124;03m*pil_kwargs* and *metadata* are forwarded).\u001b[39;00m\n\u001b[0;32m    443\u001b[0m \u001b[38;5;124;03m\"\"\"\u001b[39;00m\n\u001b[0;32m    444\u001b[0m FigureCanvasAgg\u001b[38;5;241m.\u001b[39mdraw(\u001b[38;5;28mself\u001b[39m)\n\u001b[1;32m--> 445\u001b[0m \u001b[43mmpl\u001b[49m\u001b[38;5;241;43m.\u001b[39;49m\u001b[43mimage\u001b[49m\u001b[38;5;241;43m.\u001b[39;49m\u001b[43mimsave\u001b[49m\u001b[43m(\u001b[49m\n\u001b[0;32m    446\u001b[0m \u001b[43m    \u001b[49m\u001b[43mfilename_or_obj\u001b[49m\u001b[43m,\u001b[49m\u001b[43m \u001b[49m\u001b[38;5;28;43mself\u001b[39;49m\u001b[38;5;241;43m.\u001b[39;49m\u001b[43mbuffer_rgba\u001b[49m\u001b[43m(\u001b[49m\u001b[43m)\u001b[49m\u001b[43m,\u001b[49m\u001b[43m \u001b[49m\u001b[38;5;28;43mformat\u001b[39;49m\u001b[38;5;241;43m=\u001b[39;49m\u001b[43mfmt\u001b[49m\u001b[43m,\u001b[49m\u001b[43m \u001b[49m\u001b[43morigin\u001b[49m\u001b[38;5;241;43m=\u001b[39;49m\u001b[38;5;124;43m\"\u001b[39;49m\u001b[38;5;124;43mupper\u001b[39;49m\u001b[38;5;124;43m\"\u001b[39;49m\u001b[43m,\u001b[49m\n\u001b[0;32m    447\u001b[0m \u001b[43m    \u001b[49m\u001b[43mdpi\u001b[49m\u001b[38;5;241;43m=\u001b[39;49m\u001b[38;5;28;43mself\u001b[39;49m\u001b[38;5;241;43m.\u001b[39;49m\u001b[43mfigure\u001b[49m\u001b[38;5;241;43m.\u001b[39;49m\u001b[43mdpi\u001b[49m\u001b[43m,\u001b[49m\u001b[43m \u001b[49m\u001b[43mmetadata\u001b[49m\u001b[38;5;241;43m=\u001b[39;49m\u001b[43mmetadata\u001b[49m\u001b[43m,\u001b[49m\u001b[43m \u001b[49m\u001b[43mpil_kwargs\u001b[49m\u001b[38;5;241;43m=\u001b[39;49m\u001b[43mpil_kwargs\u001b[49m\u001b[43m)\u001b[49m\n",
      "File \u001b[1;32m~\\AppData\\Local\\Programs\\Python\\Python39\\lib\\site-packages\\matplotlib\\image.py:1676\u001b[0m, in \u001b[0;36mimsave\u001b[1;34m(fname, arr, vmin, vmax, cmap, format, origin, dpi, metadata, pil_kwargs)\u001b[0m\n\u001b[0;32m   1674\u001b[0m pil_kwargs\u001b[38;5;241m.\u001b[39msetdefault(\u001b[38;5;124m\"\u001b[39m\u001b[38;5;124mformat\u001b[39m\u001b[38;5;124m\"\u001b[39m, \u001b[38;5;28mformat\u001b[39m)\n\u001b[0;32m   1675\u001b[0m pil_kwargs\u001b[38;5;241m.\u001b[39msetdefault(\u001b[38;5;124m\"\u001b[39m\u001b[38;5;124mdpi\u001b[39m\u001b[38;5;124m\"\u001b[39m, (dpi, dpi))\n\u001b[1;32m-> 1676\u001b[0m image\u001b[38;5;241m.\u001b[39msave(fname, \u001b[38;5;241m*\u001b[39m\u001b[38;5;241m*\u001b[39mpil_kwargs)\n",
      "File \u001b[1;32m~\\AppData\\Local\\Programs\\Python\\Python39\\lib\\site-packages\\PIL\\Image.py:2436\u001b[0m, in \u001b[0;36mImage.save\u001b[1;34m(self, fp, format, **params)\u001b[0m\n\u001b[0;32m   2434\u001b[0m         fp \u001b[38;5;241m=\u001b[39m builtins\u001b[38;5;241m.\u001b[39mopen(filename, \u001b[38;5;124m\"\u001b[39m\u001b[38;5;124mr+b\u001b[39m\u001b[38;5;124m\"\u001b[39m)\n\u001b[0;32m   2435\u001b[0m     \u001b[38;5;28;01melse\u001b[39;00m:\n\u001b[1;32m-> 2436\u001b[0m         fp \u001b[38;5;241m=\u001b[39m \u001b[43mbuiltins\u001b[49m\u001b[38;5;241;43m.\u001b[39;49m\u001b[43mopen\u001b[49m\u001b[43m(\u001b[49m\u001b[43mfilename\u001b[49m\u001b[43m,\u001b[49m\u001b[43m \u001b[49m\u001b[38;5;124;43m\"\u001b[39;49m\u001b[38;5;124;43mw+b\u001b[39;49m\u001b[38;5;124;43m\"\u001b[39;49m\u001b[43m)\u001b[49m\n\u001b[0;32m   2438\u001b[0m \u001b[38;5;28;01mtry\u001b[39;00m:\n\u001b[0;32m   2439\u001b[0m     save_handler(\u001b[38;5;28mself\u001b[39m, fp, filename)\n",
      "\u001b[1;31mFileNotFoundError\u001b[0m: [Errno 2] No such file or directory: 'output/fedvg.png'"
     ]
    },
    {
     "data": {
      "image/png": "[encoded data removed]",
      "text/plain": [
       "<Figure size 650x420 with 1 Axes>"
      ]
     },
     "metadata": {},
     "output_type": "display_data"
    }
   ],
   "source": [
    "                                                        # VISUALIZE\n",
    "# NOTE: Class indexes now start from 1 so, previous class 0 = now class 1 and so on\n",
    "# FIG 1: Raw similarity plot\n",
    "\n",
    "import pandas as pd\n",
    "import numpy as np\n",
    "import matplotlib.pyplot as plt\n",
    "import seaborn as sns\n",
    "\n",
    "# Generate sample similarity data for four classes (each with 20 values in the range 0 to 1)\n",
    "class1_sim = class0_sims\n",
    "class2_sim = class1_sims\n",
    "class3_sim = class2_sims\n",
    "class4_sim = class3_sims\n",
    "\n",
    "# Set figure size\n",
    "plt.figure(figsize=(6.5, 4.2))  # Set the size of the figure (width, height)\n",
    "\n",
    "# Sample DataFrame with four columns\n",
    "data=pd.DataFrame({'Class 1':class1_sim,'Class 2':class2_sim,'Class 3':class3_sim,'Class 4':class4_sim})\n",
    "df = pd.DataFrame(data)\n",
    "\n",
    "# Plot the probability distributions\n",
    "#plt.figure(figsize=(10, 6))\n",
    "\n",
    "# Define colors and line styles for each column\n",
    "colors = ['#1f77b4', '#ff7f0e', '#2ca02c', '#d62728']\n",
    "linestyles = ['-.', '--', '-', '-']\n",
    "\n",
    "# Plot the probability distributions with unique colors and line styles\n",
    "for column, color, linestyle in zip(df.columns, colors, linestyles):\n",
    "    sns.kdeplot(df[column], label=column, color=color, linestyle=linestyle)\n",
    "\n",
    "#plt.title('Probability Distributions of Four Columns')\n",
    "plt.xlabel('Similarity',fontsize=12)\n",
    "plt.ylabel('Density',fontsize=12)\n",
    "plt.yticks(fontsize=12)  # Set y-tick labels font size\n",
    "plt.legend(loc='upper right',fontsize=12)  # Increase legend font size\n",
    "\n",
    "# Optimize layout\n",
    "plt.tight_layout()\n",
    "# Save the plot to a file\n",
    "plt.savefig('output/fedvg.png', dpi=300, bbox_inches='tight')  # Save as a PNG file with high resolution\n",
    "\n",
    "# Show the plot\n",
    "plt.show()\n"
   ]
  },
  {
   "cell_type": "code",
   "execution_count": null,
   "id": "c71af78e-28e9-4564-9609-3039455bb875",
   "metadata": {},
   "outputs": [],
   "source": [
    "# FIG 2: DIFFERENCES IN COSINE SIMILARITY\n",
    "\n",
    "# For each class, we have 20 similarity values — one per image — showing how similar fake and real versions are.These values are very close across classes\n",
    "# So, to highlight subtle differences, compute and plot the difference between each pair of classes, value by value.\n",
    "# This gives you 20 values showing how much the similarity differs for each image between class 0 and class 1.\n",
    "# It's a magnified view of the gap between classes.\n",
    "# If the differences are tiny (e.g., 0.003), the plot helps make that visible and comparable.\n",
    "\n",
    "import numpy as np\n",
    "import matplotlib.pyplot as plt\n",
    "import seaborn as sns\n",
    "import pandas as pd\n",
    "\n",
    "# Differences between class distributions (pairwise)\n",
    "diff_12 = np.array(class2_sim) - np.array(class1_sim)\n",
    "diff_13 = np.array(class3_sim) - np.array(class1_sim)\n",
    "diff_14 = np.array(class4_sim) - np.array(class1_sim)\n",
    "diff_23 = np.array(class3_sim) - np.array(class2_sim)\n",
    "diff_24 = np.array(class4_sim) - np.array(class2_sim)\n",
    "diff_34 = np.array(class4_sim) - np.array(class3_sim)\n",
    "\n",
    "# Create a DataFrame\n",
    "diff_df = pd.DataFrame({\n",
    "    'Class 2 - Class 1': diff_12,\n",
    "    'Class 3 - Class 1': diff_13,\n",
    "    'Class 4 - Class 1': diff_14,\n",
    "    'Class 3 - Class 2': diff_23,\n",
    "    'Class 4 - Class 2': diff_24,\n",
    "    'Class 4 - Class 3': diff_34,\n",
    "})\n",
    "\n",
    "# Plot\n",
    "plt.figure(figsize=(7.5, 5))\n",
    "\n",
    "colors = sns.color_palette(\"tab10\", n_colors=6)\n",
    "\n",
    "for column, color in zip(diff_df.columns, colors):\n",
    "    sns.kdeplot(diff_df[column], label=column, color=color, linestyle='-')\n",
    "\n",
    "plt.axvline(0, color='black', linestyle='--', linewidth=1)  # reference line at 0\n",
    "plt.xlabel('Difference in Similarity', fontsize=12)\n",
    "plt.ylabel('Density', fontsize=12)\n",
    "plt.legend(fontsize=10)\n",
    "plt.title(\"Pairwise Differences in Cosine Similarity\", fontsize=13)\n",
    "plt.tight_layout()\n",
    "plt.show()"
   ]
  },
  {
   "cell_type": "code",
   "execution_count": null,
   "id": "362bf182-7927-4ce2-bf5a-97299d426bc4",
   "metadata": {},
   "outputs": [],
   "source": [
    "def calculate_interclass_similarity(first, second):\n",
    "    similarities = []\n",
    "\n",
    "    first_images = []\n",
    "    second_images = []\n",
    "    if first == 'class1':\n",
    "        first_images = class0_original_images.copy()\n",
    "    elif first == 'class2':\n",
    "        first_images = class1_original_images.copy()\n",
    "    elif first == 'class3':\n",
    "        first_images = class2_original_images.copy()\n",
    "    elif first == 'class4':\n",
    "        first_images = class3_original_images.copy()\n",
    "\n",
    "    if second == 'class1':\n",
    "        second_images = class0_original_images.copy()\n",
    "    elif second == 'class2':\n",
    "        second_images = class1_original_images.copy()\n",
    "    elif second == 'class3':\n",
    "        second_images = class2_original_images.copy()\n",
    "    elif second == 'class4':\n",
    "        second_images = class3_original_images.copy()\n",
    "    \n",
    "    for i in range(0, 20):\n",
    "        first_image = first_images[i].unsqueeze(dim=0).to(device)\n",
    "        first_image = first_image.repeat(1, 3, 1, 1)\n",
    "        \n",
    "        second_image = second_images[i].unsqueeze(dim=0).to(device)\n",
    "        second_image = second_image.repeat(1, 3, 1, 1)\n",
    "        \n",
    "        features_first = get_feature(first_image)\n",
    "        features_second = get_feature(second_image)\n",
    "\n",
    "        cosine_similarity = 1 - cosine(features_first, features_second)\n",
    "        similarities.append(cosine_similarity)\n",
    "\n",
    "    return similarities"
   ]
  },
  {
   "cell_type": "code",
   "execution_count": null,
   "id": "5954dfe3-cb08-4551-a5f9-d2082ac3d604",
   "metadata": {},
   "outputs": [],
   "source": [
    "class1class2 = calculate_interclass_similarity('class1', 'class2')"
   ]
  },
  {
   "cell_type": "code",
   "execution_count": null,
   "id": "cd5ab50d-9d9d-443b-bea5-2d6e302e2bf4",
   "metadata": {},
   "outputs": [],
   "source": [
    "class1class2"
   ]
  },
  {
   "cell_type": "code",
   "execution_count": null,
   "id": "29441f40-36a7-4854-98be-5d128bae49cd",
   "metadata": {},
   "outputs": [],
   "source": [
    "                                                # FIG: 3 -> INTERCLASS SIMILARITIES\n",
    "\n",
    "import pandas as pd\n",
    "import numpy as np\n",
    "import matplotlib.pyplot as plt\n",
    "import seaborn as sns\n",
    "\n",
    "# Set figure size\n",
    "plt.figure(figsize=(6.5, 4.2))  # Set the size of the figure (width, height)\n",
    "\n",
    "# Generate sample similarity data for four classes (each with 20 values in the range 0 to 1)\n",
    "np.random.seed(42)  # For reproducibility\n",
    "class1class2 = calculate_interclass_similarity('class1', 'class2')\n",
    "class1class3 = calculate_interclass_similarity('class1', 'class3')\n",
    "class1class4 = calculate_interclass_similarity('class1', 'class4')\n",
    "class2class3 = calculate_interclass_similarity('class2', 'class3')\n",
    "class2class4 = calculate_interclass_similarity('class2', 'class4')\n",
    "class3class4 = calculate_interclass_similarity('class3', 'class4')\n",
    "\n",
    "# Sample DataFrame with four columns\n",
    "data=pd.DataFrame({'Class1 vs Class2':class1class2,'Class1 vs Class3':class1class3,'Class1 vs Class4':class1class4,'Class2 vs Class3':class2class3,'Class2 vs Class4':class2class4,'Class3 vs Class4':class3class4})\n",
    "df = pd.DataFrame(data)\n",
    "\n",
    "# Plot the probability distributions\n",
    "#plt.figure(figsize=(10, 6))\n",
    "\n",
    "# Define colors and line styles for each column\n",
    "colors = ['#1f77b4', '#ff7f0e', '#2ca02c', '#d62728', '#9467bd', '#8c564b']\n",
    "linestyles = ['-.', '--', '-', '-', '-.', '--']\n",
    "\n",
    "# Plot the probability distributions with unique colors and line styles\n",
    "for column, color, linestyle in zip(df.columns, colors, linestyles):\n",
    "    sns.kdeplot(df[column], label=column, color=color, linestyle=linestyle)\n",
    "\n",
    "#plt.title('Probability Distributions of Four Columns')\n",
    "plt.xlabel('Similarity',fontsize=12)\n",
    "plt.ylabel('Density',fontsize=12)\n",
    "plt.yticks(fontsize=12)  # Set y-tick labels font size\n",
    "plt.legend(loc='upper right',fontsize=12)  # Increase legend font size\n",
    "\n",
    "# Optimize layout\n",
    "plt.tight_layout()\n",
    "# Save the plot to a file\n",
    "plt.savefig('output/VoiceDivergenceD3.png', dpi=300, bbox_inches='tight')  # Save as a PNG file with high resolution\n",
    "\n",
    "# Show the plot\n",
    "plt.show()"
   ]
  },
  {
   "cell_type": "code",
   "execution_count": null,
   "id": "19754eee-5c1e-47e6-bbaa-b2cef05a1641",
   "metadata": {},
   "outputs": [],
   "source": []
  }
 ],
 "metadata": {
  "kernelspec": {
   "display_name": "Python 3 (ipykernel)",
   "language": "python",
   "name": "python3"
  },
  "language_info": {
   "codemirror_mode": {
    "name": "ipython",
    "version": 3
   },
   "file_extension": ".py",
   "mimetype": "text/x-python",
   "name": "python",
   "nbconvert_exporter": "python",
   "pygments_lexer": "ipython3",
   "version": "3.9.7"
  }
 },
 "nbformat": 4,
 "nbformat_minor": 5
}
