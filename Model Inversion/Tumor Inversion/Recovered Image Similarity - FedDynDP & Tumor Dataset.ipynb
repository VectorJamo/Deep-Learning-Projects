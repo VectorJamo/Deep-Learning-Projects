{
 "cells": [
  {
   "cell_type": "code",
   "execution_count": 1,
   "id": "646b38c2-386a-4f83-a983-ea764ad8267f",
   "metadata": {},
   "outputs": [],
   "source": [
    "# Attempting to recover training data using model's parameters and a DCGAN that was trained on similar data\n",
    "# Author: Suraj Neupane\n",
    "# Written from scratch as a part of a Research Project 2025, Concordia University of Edmonton.\n",
    "import numpy as np\n",
    "\n",
    "import torch\n",
    "from torch import nn\n",
    "from torch.nn import functional\n",
    "\n",
    "from torch.utils import data\n",
    "from torch.utils.data import DataLoader\n",
    "\n",
    "import torchvision\n",
    "from torchvision import datasets\n",
    "from torchvision import transforms\n",
    "\n",
    "import pickle\n",
    "\n",
    "import matplotlib.pyplot as plt\n",
    "%matplotlib inline"
   ]
  },
  {
   "cell_type": "code",
   "execution_count": 2,
   "id": "8b80ddb2-ed75-4870-85b4-9300fce0df7e",
   "metadata": {},
   "outputs": [
    {
     "data": {
      "text/plain": [
       "'2.5.1+cu118'"
      ]
     },
     "execution_count": 2,
     "metadata": {},
     "output_type": "execute_result"
    }
   ],
   "source": [
    "torch.__version__"
   ]
  },
  {
   "cell_type": "code",
   "execution_count": 3,
   "id": "d6950585-eb31-4f61-bd60-5bf8716fcdef",
   "metadata": {},
   "outputs": [],
   "source": [
    "device = 'cuda' if torch.cuda.is_available() else 'cpu'"
   ]
  },
  {
   "cell_type": "code",
   "execution_count": 4,
   "id": "36c47e07-6b7d-4123-a59d-5d465f9ef280",
   "metadata": {},
   "outputs": [
    {
     "data": {
      "text/plain": [
       "'cuda'"
      ]
     },
     "execution_count": 4,
     "metadata": {},
     "output_type": "execute_result"
    }
   ],
   "source": [
    "device"
   ]
  },
  {
   "cell_type": "code",
   "execution_count": 5,
   "id": "b852ca55-f33e-469f-b7b9-e00d21124927",
   "metadata": {},
   "outputs": [],
   "source": [
    "# DCGAN Implementation Class\n",
    "# Discriminator\n",
    "class Discriminator(nn.Module):\n",
    "    def __init__(self, img_channels, features_d):\n",
    "        super().__init__()\n",
    "        self.disc = nn.Sequential(\n",
    "            # Input shape: img_channels x 64 x 64\n",
    "            nn.Conv2d(\n",
    "              in_channels=img_channels, out_channels=features_d, kernel_size=4, stride=2, padding=1\n",
    "            ), # Output shape: features_d x 32 x 32\n",
    "            nn.LeakyReLU(0.2),\n",
    "            self._block(features_d, features_d*2, 4, 2, 1), # Output shape: features_d*2 x 16 x 16\n",
    "            self._block(features_d*2, features_d*4, 4, 2, 1), # Output shape: features_d*4 x 8 x 8\n",
    "            self._block(features_d*4, features_d*8, 4, 2, 1), # Output shape: features_d*8 x 4 x 4\n",
    "           \n",
    "            nn.Conv2d(in_channels=features_d*8, out_channels=1, kernel_size=4, stride=2, padding=0), # Output shape: 1 x 1\n",
    "            nn.Sigmoid(),\n",
    "        )\n",
    "\n",
    "    def _block(self, in_channels, out_channels, kernel_size, stride, padding):\n",
    "        return nn.Sequential(\n",
    "            nn.Conv2d(in_channels, out_channels, kernel_size, stride, padding, bias=False),\n",
    "            nn.BatchNorm2d(out_channels),\n",
    "            nn.LeakyReLU(0.2),\n",
    "        )\n",
    "\n",
    "    def forward(self, X):\n",
    "        return self.disc(X)\n"
   ]
  },
  {
   "cell_type": "code",
   "execution_count": 6,
   "id": "5afe02e5-61d3-4f25-8933-8484e519cd4a",
   "metadata": {},
   "outputs": [],
   "source": [
    "# Generator\n",
    "class Generator(nn.Module):\n",
    "    def __init__(self, z_dim, img_channels, features_g):\n",
    "        super().__init__()\n",
    "        self.gen = nn.Sequential(\n",
    "            self._block(z_dim, features_g*16, 4, 1, 0), # z_dim: (batch_size, 100, 1, 1) -> (batch_size, 1024, 4, 4)\n",
    "            self._block(features_g*16, features_g*8, 4, 2, 1), # z_dim: (batch_size, 1024, 4, 4) -> (batch_size, 512, 8, 8)\n",
    "            self._block(features_g*8, features_g*4, 4, 2, 1), # z_dim: (batch_size, 512, 8, 8) -> (batch_size, 256, 16, 16)\n",
    "            self._block(features_g*4, features_g*2, 4, 2, 1), # z_dim: (batch_size, 128, 16, 16) -> (batch_size, 64, 32, 32)\n",
    "            nn.ConvTranspose2d(\n",
    "                in_channels=features_g*2, out_channels=img_channels, kernel_size=4, stride=2, padding=1 # z_dim: (batch_size, 64, 32, 32) -> (batch_size, 1, 64, 64)\n",
    "            ),\n",
    "            nn.Tanh(),\n",
    "        )\n",
    "        \n",
    "    def _block(self, in_channels, out_channels, kernel_size, stride, padding):\n",
    "        return nn.Sequential(\n",
    "            nn.ConvTranspose2d(\n",
    "                in_channels, out_channels, kernel_size, stride, padding, bias=False,\n",
    "            ),\n",
    "            nn.InstanceNorm2d(out_channels, affine=True),\n",
    "            nn.ReLU(),\n",
    "        )\n",
    "\n",
    "    def forward(self, X):\n",
    "        return self.gen(X)"
   ]
  },
  {
   "cell_type": "code",
   "execution_count": 7,
   "id": "48c1be35-d58a-4d0c-990d-9250fbdbf1b3",
   "metadata": {},
   "outputs": [],
   "source": [
    "# Hyperparams\n",
    "z_dim = 100\n",
    "img_channels = 1\n",
    "features_disc = 64\n",
    "features_gen = 64"
   ]
  },
  {
   "cell_type": "code",
   "execution_count": 8,
   "id": "f2dc1f40-5c2e-4903-b2e7-7abe5cae9772",
   "metadata": {},
   "outputs": [],
   "source": [
    "# Create the model instances\n",
    "gen = Generator(z_dim, img_channels, features_gen).to(device)\n",
    "disc = Discriminator(img_channels, features_disc).to(device)"
   ]
  },
  {
   "cell_type": "code",
   "execution_count": 9,
   "id": "bc7a5deb-f8d8-41d4-aed3-d012d39a84b9",
   "metadata": {},
   "outputs": [
    {
     "data": {
      "text/plain": [
       "<All keys matched successfully>"
      ]
     },
     "execution_count": 9,
     "metadata": {},
     "output_type": "execute_result"
    }
   ],
   "source": [
    "# Load the trained GAN\n",
    "gen.load_state_dict(torch.load('saved models/Generator2.pth', weights_only=True))\n",
    "disc.load_state_dict(torch.load('saved models/Discriminator2.pth', weights_only=True))"
   ]
  },
  {
   "cell_type": "code",
   "execution_count": 10,
   "id": "a504e932-e168-4bb8-88cc-eea0810aafb0",
   "metadata": {},
   "outputs": [],
   "source": [
    "# Generate a random fake image\n",
    "noise = torch.randn(1, z_dim, 1, 1).to(device)\n",
    "fake_img = gen(noise)"
   ]
  },
  {
   "cell_type": "code",
   "execution_count": 11,
   "id": "98b5d73f-b130-4bc1-a868-c225bd2abe62",
   "metadata": {},
   "outputs": [
    {
     "data": {
      "text/plain": [
       "torch.Size([1, 1, 64, 64])"
      ]
     },
     "execution_count": 11,
     "metadata": {},
     "output_type": "execute_result"
    }
   ],
   "source": [
    "fake_img.shape"
   ]
  },
  {
   "cell_type": "code",
   "execution_count": 12,
   "id": "9d19338c-18e4-4b6e-842f-a225718fa8bb",
   "metadata": {},
   "outputs": [
    {
     "name": "stdout",
     "output_type": "stream",
     "text": [
      "torch.Size([64, 64])\n"
     ]
    },
    {
     "data": {
      "text/plain": [
       "<matplotlib.image.AxesImage at 0x2311bcbc910>"
      ]
     },
     "execution_count": 12,
     "metadata": {},
     "output_type": "execute_result"
    },
    {
     "data": {
      "image/png": "[encoded data removed]",
      "text/plain": [
       "<Figure size 640x480 with 1 Axes>"
      ]
     },
     "metadata": {},
     "output_type": "display_data"
    }
   ],
   "source": [
    "fake_img = fake_img.squeeze()\n",
    "print(fake_img.shape)\n",
    "plt.axis(False)\n",
    "plt.title('Fake Generated Image:')\n",
    "plt.imshow(fake_img.cpu().detach(), cmap='gray')"
   ]
  },
  {
   "cell_type": "code",
   "execution_count": 13,
   "id": "cf2aefac-a759-4335-a3de-2065d6a6a9a5",
   "metadata": {},
   "outputs": [],
   "source": [
    "# Target Model\n",
    "class TFCNN(nn.Module):\n",
    "    def __init__(self, n_classes):\n",
    "        super().__init__()\n",
    "        self.n_classes = n_classes\n",
    "\n",
    "        self.encoder = nn.Sequential(\n",
    "            nn.Conv2d(3, 32, 3, stride=1, padding=1),\n",
    "            nn.ReLU(True),\n",
    "            nn.MaxPool2d(2),\n",
    "            nn.Conv2d(32, 64, 3, stride=1, padding=1),\n",
    "            nn.ReLU(True),\n",
    "            nn.MaxPool2d(2),\n",
    "            nn.Conv2d(64, 64, 3, stride=1, padding=1),\n",
    "            nn.ReLU(True),\n",
    "            nn.MaxPool2d(2),\n",
    "            Reshape(),\n",
    "        )\n",
    "\n",
    "        self.h_size = 64 * 4 * 4\n",
    "\n",
    "        self.classifier = nn.Sequential(\n",
    "            nn.Linear(64 * 4 * 4, 128),\n",
    "            nn.ReLU(True),\n",
    "            nn.Linear(128, n_classes)\n",
    "        )\n",
    "\n",
    "    def forward(self, xs):\n",
    "        code = self.encoder(xs)\n",
    "        logits = self.classifier(code)\n",
    "        return code, logits\n"
   ]
  },
  {
   "cell_type": "code",
   "execution_count": 14,
   "id": "d28876e2-91ee-4ebf-bc52-b71dc82edfa2",
   "metadata": {},
   "outputs": [],
   "source": [
    "class Reshape(nn.Module):\n",
    "    def __init__(self,):\n",
    "        super().__init__()\n",
    "\n",
    "    def forward(self, xs):\n",
    "        return xs.reshape((xs.shape[0], -1))"
   ]
  },
  {
   "cell_type": "code",
   "execution_count": 15,
   "id": "dd57210c-2c18-4651-8f29-be94a7a7a88f",
   "metadata": {},
   "outputs": [],
   "source": [
    "class ClassifyNet(nn.Module):\n",
    "    def __init__(self, net, init_way, n_classes, input_size=None):\n",
    "        super().__init__()\n",
    "        self.net = net\n",
    "        self.init_way = init_way\n",
    "        self.n_classes = n_classes\n",
    "\n",
    "        model = TFCNN(n_classes)\n",
    "\n",
    "        self.h_size = model.h_size\n",
    "\n",
    "        # Convo and pool layers\n",
    "        self.encoder = model.encoder\n",
    "\n",
    "        # Classifier layer\n",
    "        self.classifier = nn.Linear(\n",
    "            self.h_size, self.n_classes, bias=False\n",
    "        )\n",
    "\n",
    "        if self.init_way == \"orth\":\n",
    "            ws = get_orth_weights(self.h_size, self.n_classes)\n",
    "            self.classifier.load_state_dict({\"weight\": ws})\n",
    "\n",
    "    def forward(self, xs):\n",
    "        hs = self.encoder(xs)\n",
    "        logits = self.classifier(hs)\n",
    "        return hs, logits"
   ]
  },
  {
   "cell_type": "code",
   "execution_count": 16,
   "id": "83ea3c08-0470-4c9a-ba15-8328a316b3ab",
   "metadata": {},
   "outputs": [],
   "source": [
    "def load_target_model(base_net, n_classes, path):\n",
    "    # Create the base model\n",
    "    model = ClassifyNet(net=base_net, init_way='none', n_classes=n_classes)\n",
    "    # Load the model\n",
    "    model.load_state_dict(torch.load(path, weights_only=True))\n",
    "\n",
    "    return model"
   ]
  },
  {
   "cell_type": "code",
   "execution_count": 17,
   "id": "0880f1aa-9d08-445a-85ac-f1ff3cebde04",
   "metadata": {},
   "outputs": [
    {
     "name": "stdout",
     "output_type": "stream",
     "text": [
      "Model loaded successfully!\n",
      "Number of parameters in the loaded model: 60416\n"
     ]
    }
   ],
   "source": [
    "# Target Model Loading\n",
    "BASE_NET = 'TFCNN'\n",
    "DATASET = 'tumor4'\n",
    "N_CLASSES = 4\n",
    "\n",
    "target_model = load_target_model(base_net=BASE_NET, n_classes=N_CLASSES, path='saved models/feddynDP_global_model1.path').to(device)\n",
    "print('Model loaded successfully!')\n",
    "target_model.eval()\n",
    "\n",
    "num_params = sum(p.numel() for p in target_model.parameters())\n",
    "print('Number of parameters in the loaded model:', num_params)\n"
   ]
  },
  {
   "cell_type": "code",
   "execution_count": 18,
   "id": "f843f19e-b2a5-4ffe-b22b-de4ff93c5643",
   "metadata": {},
   "outputs": [],
   "source": [
    "# BEGIN BATCH MODEL INVERSION\n",
    "img_count = 20\n",
    "latent_vectors = torch.randn(img_count, z_dim, 1, 1, requires_grad=True) # Start with 20 random noises"
   ]
  },
  {
   "cell_type": "code",
   "execution_count": 19,
   "id": "c21320ed-d5ac-4919-aaad-8cfa093998a6",
   "metadata": {},
   "outputs": [],
   "source": [
    "def recover_images(count, target_image_class, latent_vectors):\n",
    "    optimized_latent_vectors = []\n",
    "    \n",
    "    for x in range(0, count):\n",
    "        z = latent_vectors[x].unsqueeze(dim=0).clone().detach().requires_grad_(True)\n",
    "        \n",
    "        learning_rate = 0.01\n",
    "        target_class = 1 # The second class\n",
    "        \n",
    "        # Create the optimizer\n",
    "        optimizer = torch.optim.Adam([z], lr=learning_rate)\n",
    "        \n",
    "        # Loss function (e.g., Cross-Entropy with classifier outputs)\n",
    "        loss_fn = nn.CrossEntropyLoss()\n",
    "        target_class = torch.tensor([target_image_class])  # Set the target class\n",
    "    \n",
    "        # Optimization loop to find the best z\n",
    "        rounds = 500\n",
    "        for i in range(rounds):\n",
    "            optimizer.zero_grad()\n",
    "            \n",
    "            generated_image = gen(z.to(device))  # Generate an image from the latent vector\n",
    "            generated_image = generated_image.repeat(1, 3, 1, 1)\n",
    "            generated_image = functional.interpolate(generated_image, size=(32, 32), mode='nearest')\n",
    "            #print(generated_image.shape)\n",
    "            hs, prediction_logits = target_model(generated_image)  # Classifier output\n",
    "            #print(prediction_logits)\n",
    "            #print(type(prediction_logits))\n",
    "            loss = loss_fn(prediction_logits, target_class.to(device))  # Minimize difference with true class\n",
    "            loss.backward()\n",
    "            optimizer.step()\n",
    "            \n",
    "            if i % 50 == 0:\n",
    "                print(f\"Generating Image Number: {x+1} for target class {target_class}. Step {i}, Loss: {loss.item()}\")\n",
    "    \n",
    "        optimized_latent_vectors.append(z)\n",
    "        \n",
    "    return optimized_latent_vectors"
   ]
  },
  {
   "cell_type": "code",
   "execution_count": 20,
   "id": "9ebc9533-23ca-4d44-8aea-9d134281b3a4",
   "metadata": {
    "scrolled": true
   },
   "outputs": [
    {
     "name": "stdout",
     "output_type": "stream",
     "text": [
      "Generating Image Number: 1 for target class tensor([0]). Step 0, Loss: 61.92323684692383\n",
      "Generating Image Number: 1 for target class tensor([0]). Step 50, Loss: 35.862159729003906\n",
      "Generating Image Number: 1 for target class tensor([0]). Step 100, Loss: 35.066551208496094\n",
      "Generating Image Number: 1 for target class tensor([0]). Step 150, Loss: 34.40208435058594\n",
      "Generating Image Number: 1 for target class tensor([0]). Step 200, Loss: 33.37135314941406\n",
      "Generating Image Number: 1 for target class tensor([0]). Step 250, Loss: 32.17228317260742\n",
      "Generating Image Number: 1 for target class tensor([0]). Step 300, Loss: 30.282075881958008\n",
      "Generating Image Number: 1 for target class tensor([0]). Step 350, Loss: 28.597095489501953\n",
      "Generating Image Number: 1 for target class tensor([0]). Step 400, Loss: 27.39459228515625\n",
      "Generating Image Number: 1 for target class tensor([0]). Step 450, Loss: 26.722761154174805\n",
      "Generating Image Number: 2 for target class tensor([0]). Step 0, Loss: 37.52802276611328\n",
      "Generating Image Number: 2 for target class tensor([0]). Step 50, Loss: 33.17540740966797\n",
      "Generating Image Number: 2 for target class tensor([0]). Step 100, Loss: 28.028215408325195\n",
      "Generating Image Number: 2 for target class tensor([0]). Step 150, Loss: 26.705766677856445\n",
      "Generating Image Number: 2 for target class tensor([0]). Step 200, Loss: 26.013029098510742\n",
      "Generating Image Number: 2 for target class tensor([0]). Step 250, Loss: 25.497379302978516\n",
      "Generating Image Number: 2 for target class tensor([0]). Step 300, Loss: 25.08321762084961\n",
      "Generating Image Number: 2 for target class tensor([0]). Step 350, Loss: 24.74795913696289\n",
      "Generating Image Number: 2 for target class tensor([0]). Step 400, Loss: 24.41844367980957\n",
      "Generating Image Number: 2 for target class tensor([0]). Step 450, Loss: 23.939855575561523\n",
      "Generating Image Number: 3 for target class tensor([0]). Step 0, Loss: 42.041954040527344\n",
      "Generating Image Number: 3 for target class tensor([0]). Step 50, Loss: 39.74029541015625\n",
      "Generating Image Number: 3 for target class tensor([0]). Step 100, Loss: 39.25794219970703\n",
      "Generating Image Number: 3 for target class tensor([0]). Step 150, Loss: 38.794677734375\n",
      "Generating Image Number: 3 for target class tensor([0]). Step 200, Loss: 38.414634704589844\n",
      "Generating Image Number: 3 for target class tensor([0]). Step 250, Loss: 38.129722595214844\n",
      "Generating Image Number: 3 for target class tensor([0]). Step 300, Loss: 37.86528778076172\n",
      "Generating Image Number: 3 for target class tensor([0]). Step 350, Loss: 37.64482879638672\n",
      "Generating Image Number: 3 for target class tensor([0]). Step 400, Loss: 37.46464538574219\n",
      "Generating Image Number: 3 for target class tensor([0]). Step 450, Loss: 37.327171325683594\n",
      "Generating Image Number: 4 for target class tensor([0]). Step 0, Loss: 69.69876098632812\n",
      "Generating Image Number: 4 for target class tensor([0]). Step 50, Loss: 41.23297882080078\n",
      "Generating Image Number: 4 for target class tensor([0]). Step 100, Loss: 40.306068420410156\n",
      "Generating Image Number: 4 for target class tensor([0]). Step 150, Loss: 39.2900505065918\n",
      "Generating Image Number: 4 for target class tensor([0]). Step 200, Loss: 38.17084503173828\n",
      "Generating Image Number: 4 for target class tensor([0]). Step 250, Loss: 37.1882209777832\n",
      "Generating Image Number: 4 for target class tensor([0]). Step 300, Loss: 36.292274475097656\n",
      "Generating Image Number: 4 for target class tensor([0]). Step 350, Loss: 35.32761764526367\n",
      "Generating Image Number: 4 for target class tensor([0]). Step 400, Loss: 34.52908706665039\n",
      "Generating Image Number: 4 for target class tensor([0]). Step 450, Loss: 33.73506546020508\n",
      "Generating Image Number: 5 for target class tensor([0]). Step 0, Loss: 58.92536926269531\n",
      "Generating Image Number: 5 for target class tensor([0]). Step 50, Loss: 42.76848220825195\n",
      "Generating Image Number: 5 for target class tensor([0]). Step 100, Loss: 39.95682144165039\n",
      "Generating Image Number: 5 for target class tensor([0]). Step 150, Loss: 32.04743576049805\n",
      "Generating Image Number: 5 for target class tensor([0]). Step 200, Loss: 30.60352897644043\n",
      "Generating Image Number: 5 for target class tensor([0]). Step 250, Loss: 29.608966827392578\n",
      "Generating Image Number: 5 for target class tensor([0]). Step 300, Loss: 28.174671173095703\n",
      "Generating Image Number: 5 for target class tensor([0]). Step 350, Loss: 26.075693130493164\n",
      "Generating Image Number: 5 for target class tensor([0]). Step 400, Loss: 24.248937606811523\n",
      "Generating Image Number: 5 for target class tensor([0]). Step 450, Loss: 22.312862396240234\n",
      "Generating Image Number: 6 for target class tensor([0]). Step 0, Loss: 54.497867584228516\n",
      "Generating Image Number: 6 for target class tensor([0]). Step 50, Loss: 43.16026306152344\n",
      "Generating Image Number: 6 for target class tensor([0]). Step 100, Loss: 42.13394546508789\n",
      "Generating Image Number: 6 for target class tensor([0]). Step 150, Loss: 41.67887496948242\n",
      "Generating Image Number: 6 for target class tensor([0]). Step 200, Loss: 41.500587463378906\n",
      "Generating Image Number: 6 for target class tensor([0]). Step 250, Loss: 41.34352111816406\n",
      "Generating Image Number: 6 for target class tensor([0]). Step 300, Loss: 41.11839294433594\n",
      "Generating Image Number: 6 for target class tensor([0]). Step 350, Loss: 40.910945892333984\n",
      "Generating Image Number: 6 for target class tensor([0]). Step 400, Loss: 40.72319793701172\n",
      "Generating Image Number: 6 for target class tensor([0]). Step 450, Loss: 40.488582611083984\n",
      "Generating Image Number: 7 for target class tensor([0]). Step 0, Loss: 60.91960144042969\n",
      "Generating Image Number: 7 for target class tensor([0]). Step 50, Loss: 36.800758361816406\n",
      "Generating Image Number: 7 for target class tensor([0]). Step 100, Loss: 35.732078552246094\n",
      "Generating Image Number: 7 for target class tensor([0]). Step 150, Loss: 33.95964050292969\n",
      "Generating Image Number: 7 for target class tensor([0]). Step 200, Loss: 30.94252586364746\n",
      "Generating Image Number: 7 for target class tensor([0]). Step 250, Loss: 28.585954666137695\n",
      "Generating Image Number: 7 for target class tensor([0]). Step 300, Loss: 27.715574264526367\n",
      "Generating Image Number: 7 for target class tensor([0]). Step 350, Loss: 27.244192123413086\n",
      "Generating Image Number: 7 for target class tensor([0]). Step 400, Loss: 26.90508460998535\n",
      "Generating Image Number: 7 for target class tensor([0]). Step 450, Loss: 26.634052276611328\n",
      "Generating Image Number: 8 for target class tensor([0]). Step 0, Loss: 44.251708984375\n",
      "Generating Image Number: 8 for target class tensor([0]). Step 50, Loss: 34.39008331298828\n",
      "Generating Image Number: 8 for target class tensor([0]). Step 100, Loss: 32.6005859375\n",
      "Generating Image Number: 8 for target class tensor([0]). Step 150, Loss: 30.61168670654297\n",
      "Generating Image Number: 8 for target class tensor([0]). Step 200, Loss: 28.160188674926758\n",
      "Generating Image Number: 8 for target class tensor([0]). Step 250, Loss: 26.25948715209961\n",
      "Generating Image Number: 8 for target class tensor([0]). Step 300, Loss: 25.16950225830078\n",
      "Generating Image Number: 8 for target class tensor([0]). Step 350, Loss: 24.350820541381836\n",
      "Generating Image Number: 8 for target class tensor([0]). Step 400, Loss: 23.755266189575195\n",
      "Generating Image Number: 8 for target class tensor([0]). Step 450, Loss: 23.177881240844727\n",
      "Generating Image Number: 9 for target class tensor([0]). Step 0, Loss: 56.205772399902344\n",
      "Generating Image Number: 9 for target class tensor([0]). Step 50, Loss: 35.24802017211914\n",
      "Generating Image Number: 9 for target class tensor([0]). Step 100, Loss: 33.77029037475586\n",
      "Generating Image Number: 9 for target class tensor([0]). Step 150, Loss: 33.04712677001953\n",
      "Generating Image Number: 9 for target class tensor([0]). Step 200, Loss: 32.37384033203125\n",
      "Generating Image Number: 9 for target class tensor([0]). Step 250, Loss: 31.953420639038086\n",
      "Generating Image Number: 9 for target class tensor([0]). Step 300, Loss: 31.622268676757812\n",
      "Generating Image Number: 9 for target class tensor([0]). Step 350, Loss: 31.44588851928711\n",
      "Generating Image Number: 9 for target class tensor([0]). Step 400, Loss: 31.245328903198242\n",
      "Generating Image Number: 9 for target class tensor([0]). Step 450, Loss: 30.990055084228516\n",
      "Generating Image Number: 10 for target class tensor([0]). Step 0, Loss: 59.08307647705078\n",
      "Generating Image Number: 10 for target class tensor([0]). Step 50, Loss: 36.100730895996094\n",
      "Generating Image Number: 10 for target class tensor([0]). Step 100, Loss: 35.353973388671875\n",
      "Generating Image Number: 10 for target class tensor([0]). Step 150, Loss: 34.68238830566406\n",
      "Generating Image Number: 10 for target class tensor([0]). Step 200, Loss: 33.82118225097656\n",
      "Generating Image Number: 10 for target class tensor([0]). Step 250, Loss: 32.488624572753906\n",
      "Generating Image Number: 10 for target class tensor([0]). Step 300, Loss: 29.861812591552734\n",
      "Generating Image Number: 10 for target class tensor([0]). Step 350, Loss: 27.837032318115234\n",
      "Generating Image Number: 10 for target class tensor([0]). Step 400, Loss: 26.721818923950195\n",
      "Generating Image Number: 10 for target class tensor([0]). Step 450, Loss: 25.73058319091797\n",
      "Generating Image Number: 11 for target class tensor([0]). Step 0, Loss: 69.57527160644531\n",
      "Generating Image Number: 11 for target class tensor([0]). Step 50, Loss: 37.46849060058594\n",
      "Generating Image Number: 11 for target class tensor([0]). Step 100, Loss: 36.14404296875\n",
      "Generating Image Number: 11 for target class tensor([0]). Step 150, Loss: 35.281707763671875\n",
      "Generating Image Number: 11 for target class tensor([0]). Step 200, Loss: 34.41759490966797\n",
      "Generating Image Number: 11 for target class tensor([0]). Step 250, Loss: 31.888399124145508\n",
      "Generating Image Number: 11 for target class tensor([0]). Step 300, Loss: 29.19625473022461\n",
      "Generating Image Number: 11 for target class tensor([0]). Step 350, Loss: 28.384878158569336\n",
      "Generating Image Number: 11 for target class tensor([0]). Step 400, Loss: 27.72738265991211\n",
      "Generating Image Number: 11 for target class tensor([0]). Step 450, Loss: 26.98891258239746\n",
      "Generating Image Number: 12 for target class tensor([0]). Step 0, Loss: 49.75220489501953\n",
      "Generating Image Number: 12 for target class tensor([0]). Step 50, Loss: 44.95203399658203\n",
      "Generating Image Number: 12 for target class tensor([0]). Step 100, Loss: 42.64656448364258\n",
      "Generating Image Number: 12 for target class tensor([0]). Step 150, Loss: 41.17716598510742\n",
      "Generating Image Number: 12 for target class tensor([0]). Step 200, Loss: 40.315338134765625\n",
      "Generating Image Number: 12 for target class tensor([0]). Step 250, Loss: 39.25215148925781\n",
      "Generating Image Number: 12 for target class tensor([0]). Step 300, Loss: 38.3312873840332\n",
      "Generating Image Number: 12 for target class tensor([0]). Step 350, Loss: 37.30524444580078\n",
      "Generating Image Number: 12 for target class tensor([0]). Step 400, Loss: 37.04645538330078\n",
      "Generating Image Number: 12 for target class tensor([0]). Step 450, Loss: 36.65498733520508\n",
      "Generating Image Number: 13 for target class tensor([0]). Step 0, Loss: 42.38831329345703\n",
      "Generating Image Number: 13 for target class tensor([0]). Step 50, Loss: 39.33415222167969\n",
      "Generating Image Number: 13 for target class tensor([0]). Step 100, Loss: 38.594581604003906\n",
      "Generating Image Number: 13 for target class tensor([0]). Step 150, Loss: 37.90234375\n",
      "Generating Image Number: 13 for target class tensor([0]). Step 200, Loss: 37.5694580078125\n",
      "Generating Image Number: 13 for target class tensor([0]). Step 250, Loss: 37.25155258178711\n",
      "Generating Image Number: 13 for target class tensor([0]). Step 300, Loss: 36.145606994628906\n",
      "Generating Image Number: 13 for target class tensor([0]). Step 350, Loss: 35.29559326171875\n",
      "Generating Image Number: 13 for target class tensor([0]). Step 400, Loss: 34.693504333496094\n",
      "Generating Image Number: 13 for target class tensor([0]). Step 450, Loss: 34.178192138671875\n",
      "Generating Image Number: 14 for target class tensor([0]). Step 0, Loss: 47.07293701171875\n",
      "Generating Image Number: 14 for target class tensor([0]). Step 50, Loss: 34.90821838378906\n",
      "Generating Image Number: 14 for target class tensor([0]). Step 100, Loss: 32.570919036865234\n",
      "Generating Image Number: 14 for target class tensor([0]). Step 150, Loss: 29.98118782043457\n",
      "Generating Image Number: 14 for target class tensor([0]). Step 200, Loss: 26.568803787231445\n",
      "Generating Image Number: 14 for target class tensor([0]). Step 250, Loss: 25.246501922607422\n",
      "Generating Image Number: 14 for target class tensor([0]). Step 300, Loss: 24.30304527282715\n",
      "Generating Image Number: 14 for target class tensor([0]). Step 350, Loss: 23.309349060058594\n",
      "Generating Image Number: 14 for target class tensor([0]). Step 400, Loss: 22.52638053894043\n",
      "Generating Image Number: 14 for target class tensor([0]). Step 450, Loss: 22.226024627685547\n",
      "Generating Image Number: 15 for target class tensor([0]). Step 0, Loss: 55.34920883178711\n",
      "Generating Image Number: 15 for target class tensor([0]). Step 50, Loss: 35.58583068847656\n",
      "Generating Image Number: 15 for target class tensor([0]). Step 100, Loss: 34.52956771850586\n",
      "Generating Image Number: 15 for target class tensor([0]). Step 150, Loss: 33.63056945800781\n",
      "Generating Image Number: 15 for target class tensor([0]). Step 200, Loss: 32.60061264038086\n",
      "Generating Image Number: 15 for target class tensor([0]). Step 250, Loss: 31.252721786499023\n",
      "Generating Image Number: 15 for target class tensor([0]). Step 300, Loss: 28.979537963867188\n",
      "Generating Image Number: 15 for target class tensor([0]). Step 350, Loss: 27.76658821105957\n",
      "Generating Image Number: 15 for target class tensor([0]). Step 400, Loss: 26.72379493713379\n",
      "Generating Image Number: 15 for target class tensor([0]). Step 450, Loss: 26.18447494506836\n",
      "Generating Image Number: 16 for target class tensor([0]). Step 0, Loss: 69.90953063964844\n",
      "Generating Image Number: 16 for target class tensor([0]). Step 50, Loss: 37.222068786621094\n",
      "Generating Image Number: 16 for target class tensor([0]). Step 100, Loss: 35.00423812866211\n",
      "Generating Image Number: 16 for target class tensor([0]). Step 150, Loss: 33.88216781616211\n",
      "Generating Image Number: 16 for target class tensor([0]). Step 200, Loss: 32.82471466064453\n",
      "Generating Image Number: 16 for target class tensor([0]). Step 250, Loss: 31.399240493774414\n",
      "Generating Image Number: 16 for target class tensor([0]). Step 300, Loss: 29.510948181152344\n",
      "Generating Image Number: 16 for target class tensor([0]). Step 350, Loss: 28.211841583251953\n",
      "Generating Image Number: 16 for target class tensor([0]). Step 400, Loss: 27.398256301879883\n",
      "Generating Image Number: 16 for target class tensor([0]). Step 450, Loss: 26.851207733154297\n",
      "Generating Image Number: 17 for target class tensor([0]). Step 0, Loss: 55.909706115722656\n",
      "Generating Image Number: 17 for target class tensor([0]). Step 50, Loss: 36.111087799072266\n",
      "Generating Image Number: 17 for target class tensor([0]). Step 100, Loss: 35.14671325683594\n",
      "Generating Image Number: 17 for target class tensor([0]). Step 150, Loss: 33.97473907470703\n",
      "Generating Image Number: 17 for target class tensor([0]). Step 200, Loss: 32.652976989746094\n",
      "Generating Image Number: 17 for target class tensor([0]). Step 250, Loss: 29.447620391845703\n",
      "Generating Image Number: 17 for target class tensor([0]). Step 300, Loss: 28.129905700683594\n",
      "Generating Image Number: 17 for target class tensor([0]). Step 350, Loss: 27.289112091064453\n",
      "Generating Image Number: 17 for target class tensor([0]). Step 400, Loss: 26.151357650756836\n",
      "Generating Image Number: 17 for target class tensor([0]). Step 450, Loss: 24.851980209350586\n",
      "Generating Image Number: 18 for target class tensor([0]). Step 0, Loss: 52.51458740234375\n",
      "Generating Image Number: 18 for target class tensor([0]). Step 50, Loss: 47.75286865234375\n",
      "Generating Image Number: 18 for target class tensor([0]). Step 100, Loss: 46.40192413330078\n",
      "Generating Image Number: 18 for target class tensor([0]). Step 150, Loss: 45.417442321777344\n",
      "Generating Image Number: 18 for target class tensor([0]). Step 200, Loss: 44.923255920410156\n",
      "Generating Image Number: 18 for target class tensor([0]). Step 250, Loss: 44.27185821533203\n",
      "Generating Image Number: 18 for target class tensor([0]). Step 300, Loss: 43.54979705810547\n",
      "Generating Image Number: 18 for target class tensor([0]). Step 350, Loss: 42.9661865234375\n",
      "Generating Image Number: 18 for target class tensor([0]). Step 400, Loss: 42.509971618652344\n",
      "Generating Image Number: 18 for target class tensor([0]). Step 450, Loss: 42.12376403808594\n",
      "Generating Image Number: 19 for target class tensor([0]). Step 0, Loss: 70.21640014648438\n",
      "Generating Image Number: 19 for target class tensor([0]). Step 50, Loss: 38.66326904296875\n",
      "Generating Image Number: 19 for target class tensor([0]). Step 100, Loss: 36.88379669189453\n",
      "Generating Image Number: 19 for target class tensor([0]). Step 150, Loss: 36.144813537597656\n",
      "Generating Image Number: 19 for target class tensor([0]). Step 200, Loss: 35.130027770996094\n",
      "Generating Image Number: 19 for target class tensor([0]). Step 250, Loss: 34.383445739746094\n",
      "Generating Image Number: 19 for target class tensor([0]). Step 300, Loss: 32.9287223815918\n",
      "Generating Image Number: 19 for target class tensor([0]). Step 350, Loss: 31.554039001464844\n",
      "Generating Image Number: 19 for target class tensor([0]). Step 400, Loss: 30.26481056213379\n",
      "Generating Image Number: 19 for target class tensor([0]). Step 450, Loss: 29.29288101196289\n",
      "Generating Image Number: 20 for target class tensor([0]). Step 0, Loss: 70.27873229980469\n",
      "Generating Image Number: 20 for target class tensor([0]). Step 50, Loss: 37.634918212890625\n",
      "Generating Image Number: 20 for target class tensor([0]). Step 100, Loss: 36.43042755126953\n",
      "Generating Image Number: 20 for target class tensor([0]). Step 150, Loss: 34.8721809387207\n",
      "Generating Image Number: 20 for target class tensor([0]). Step 200, Loss: 31.90843963623047\n",
      "Generating Image Number: 20 for target class tensor([0]). Step 250, Loss: 29.096179962158203\n",
      "Generating Image Number: 20 for target class tensor([0]). Step 300, Loss: 27.384326934814453\n",
      "Generating Image Number: 20 for target class tensor([0]). Step 350, Loss: 26.22211265563965\n",
      "Generating Image Number: 20 for target class tensor([0]). Step 400, Loss: 25.4437313079834\n",
      "Generating Image Number: 20 for target class tensor([0]). Step 450, Loss: 24.657865524291992\n"
     ]
    }
   ],
   "source": [
    "class0_optimized_latent_vectors = recover_images(img_count, 0, latent_vectors)"
   ]
  },
  {
   "cell_type": "code",
   "execution_count": 21,
   "id": "6718334c-2bb1-42a3-bd8c-6aea38e6b59c",
   "metadata": {
    "scrolled": true
   },
   "outputs": [
    {
     "name": "stdout",
     "output_type": "stream",
     "text": [
      "Generating Image Number: 1 for target class tensor([1]). Step 0, Loss: 48.0637092590332\n",
      "Generating Image Number: 1 for target class tensor([1]). Step 50, Loss: 22.072561264038086\n",
      "Generating Image Number: 1 for target class tensor([1]). Step 100, Loss: 19.848896026611328\n",
      "Generating Image Number: 1 for target class tensor([1]). Step 150, Loss: 18.07067108154297\n",
      "Generating Image Number: 1 for target class tensor([1]). Step 200, Loss: 16.546598434448242\n",
      "Generating Image Number: 1 for target class tensor([1]). Step 250, Loss: 15.763101577758789\n",
      "Generating Image Number: 1 for target class tensor([1]). Step 300, Loss: 15.167461395263672\n",
      "Generating Image Number: 1 for target class tensor([1]). Step 350, Loss: 14.873750686645508\n",
      "Generating Image Number: 1 for target class tensor([1]). Step 400, Loss: 14.562734603881836\n",
      "Generating Image Number: 1 for target class tensor([1]). Step 450, Loss: 14.267455101013184\n",
      "Generating Image Number: 2 for target class tensor([1]). Step 0, Loss: 46.58203887939453\n",
      "Generating Image Number: 2 for target class tensor([1]). Step 50, Loss: 38.43271255493164\n",
      "Generating Image Number: 2 for target class tensor([1]). Step 100, Loss: 35.04871368408203\n",
      "Generating Image Number: 2 for target class tensor([1]). Step 150, Loss: 31.376230239868164\n",
      "Generating Image Number: 2 for target class tensor([1]). Step 200, Loss: 30.19189453125\n",
      "Generating Image Number: 2 for target class tensor([1]). Step 250, Loss: 29.32296371459961\n",
      "Generating Image Number: 2 for target class tensor([1]). Step 300, Loss: 28.296924591064453\n",
      "Generating Image Number: 2 for target class tensor([1]). Step 350, Loss: 27.664119720458984\n",
      "Generating Image Number: 2 for target class tensor([1]). Step 400, Loss: 26.93934440612793\n",
      "Generating Image Number: 2 for target class tensor([1]). Step 450, Loss: 26.494029998779297\n",
      "Generating Image Number: 3 for target class tensor([1]). Step 0, Loss: 56.68595886230469\n",
      "Generating Image Number: 3 for target class tensor([1]). Step 50, Loss: 40.18583679199219\n",
      "Generating Image Number: 3 for target class tensor([1]). Step 100, Loss: 37.90345764160156\n",
      "Generating Image Number: 3 for target class tensor([1]). Step 150, Loss: 33.39482116699219\n",
      "Generating Image Number: 3 for target class tensor([1]). Step 200, Loss: 30.38128089904785\n",
      "Generating Image Number: 3 for target class tensor([1]). Step 250, Loss: 29.13602638244629\n",
      "Generating Image Number: 3 for target class tensor([1]). Step 300, Loss: 27.699913024902344\n",
      "Generating Image Number: 3 for target class tensor([1]). Step 350, Loss: 26.6949462890625\n",
      "Generating Image Number: 3 for target class tensor([1]). Step 400, Loss: 26.28019142150879\n",
      "Generating Image Number: 3 for target class tensor([1]). Step 450, Loss: 26.02715301513672\n",
      "Generating Image Number: 4 for target class tensor([1]). Step 0, Loss: 65.99687957763672\n",
      "Generating Image Number: 4 for target class tensor([1]). Step 50, Loss: 39.510215759277344\n",
      "Generating Image Number: 4 for target class tensor([1]). Step 100, Loss: 38.645530700683594\n",
      "Generating Image Number: 4 for target class tensor([1]). Step 150, Loss: 37.42521667480469\n",
      "Generating Image Number: 4 for target class tensor([1]). Step 200, Loss: 35.60957336425781\n",
      "Generating Image Number: 4 for target class tensor([1]). Step 250, Loss: 33.42171096801758\n",
      "Generating Image Number: 4 for target class tensor([1]). Step 300, Loss: 31.256013870239258\n",
      "Generating Image Number: 4 for target class tensor([1]). Step 350, Loss: 30.567405700683594\n",
      "Generating Image Number: 4 for target class tensor([1]). Step 400, Loss: 29.896684646606445\n",
      "Generating Image Number: 4 for target class tensor([1]). Step 450, Loss: 29.432294845581055\n",
      "Generating Image Number: 5 for target class tensor([1]). Step 0, Loss: 64.20272827148438\n",
      "Generating Image Number: 5 for target class tensor([1]). Step 50, Loss: 54.28152847290039\n",
      "Generating Image Number: 5 for target class tensor([1]). Step 100, Loss: 53.822540283203125\n",
      "Generating Image Number: 5 for target class tensor([1]). Step 150, Loss: 52.90440368652344\n",
      "Generating Image Number: 5 for target class tensor([1]). Step 200, Loss: 52.143524169921875\n",
      "Generating Image Number: 5 for target class tensor([1]). Step 250, Loss: 51.79084396362305\n",
      "Generating Image Number: 5 for target class tensor([1]). Step 300, Loss: 51.60338592529297\n",
      "Generating Image Number: 5 for target class tensor([1]). Step 350, Loss: 51.388641357421875\n",
      "Generating Image Number: 5 for target class tensor([1]). Step 400, Loss: 51.256752014160156\n",
      "Generating Image Number: 5 for target class tensor([1]). Step 450, Loss: 50.71186065673828\n",
      "Generating Image Number: 6 for target class tensor([1]). Step 0, Loss: 66.57489013671875\n",
      "Generating Image Number: 6 for target class tensor([1]). Step 50, Loss: 54.1641731262207\n",
      "Generating Image Number: 6 for target class tensor([1]). Step 100, Loss: 53.42988586425781\n",
      "Generating Image Number: 6 for target class tensor([1]). Step 150, Loss: 53.0223503112793\n",
      "Generating Image Number: 6 for target class tensor([1]). Step 200, Loss: 52.70277404785156\n",
      "Generating Image Number: 6 for target class tensor([1]). Step 250, Loss: 52.388938903808594\n",
      "Generating Image Number: 6 for target class tensor([1]). Step 300, Loss: 52.1322021484375\n",
      "Generating Image Number: 6 for target class tensor([1]). Step 350, Loss: 52.216678619384766\n",
      "Generating Image Number: 6 for target class tensor([1]). Step 400, Loss: 51.72810745239258\n",
      "Generating Image Number: 6 for target class tensor([1]). Step 450, Loss: 51.656463623046875\n",
      "Generating Image Number: 7 for target class tensor([1]). Step 0, Loss: 72.73695373535156\n",
      "Generating Image Number: 7 for target class tensor([1]). Step 50, Loss: 60.74671173095703\n",
      "Generating Image Number: 7 for target class tensor([1]). Step 100, Loss: 59.206321716308594\n",
      "Generating Image Number: 7 for target class tensor([1]). Step 150, Loss: 57.52537155151367\n",
      "Generating Image Number: 7 for target class tensor([1]). Step 200, Loss: 56.52034378051758\n",
      "Generating Image Number: 7 for target class tensor([1]). Step 250, Loss: 56.08409118652344\n",
      "Generating Image Number: 7 for target class tensor([1]). Step 300, Loss: 55.66361618041992\n",
      "Generating Image Number: 7 for target class tensor([1]). Step 350, Loss: 55.190948486328125\n",
      "Generating Image Number: 7 for target class tensor([1]). Step 400, Loss: 54.72585678100586\n",
      "Generating Image Number: 7 for target class tensor([1]). Step 450, Loss: 54.28343963623047\n",
      "Generating Image Number: 8 for target class tensor([1]). Step 0, Loss: 75.95909118652344\n",
      "Generating Image Number: 8 for target class tensor([1]). Step 50, Loss: 70.7092514038086\n",
      "Generating Image Number: 8 for target class tensor([1]). Step 100, Loss: 69.24598693847656\n",
      "Generating Image Number: 8 for target class tensor([1]). Step 150, Loss: 68.68235778808594\n",
      "Generating Image Number: 8 for target class tensor([1]). Step 200, Loss: 67.95451354980469\n",
      "Generating Image Number: 8 for target class tensor([1]). Step 250, Loss: 67.26747131347656\n",
      "Generating Image Number: 8 for target class tensor([1]). Step 300, Loss: 66.48748779296875\n",
      "Generating Image Number: 8 for target class tensor([1]). Step 350, Loss: 65.21331024169922\n",
      "Generating Image Number: 8 for target class tensor([1]). Step 400, Loss: 64.09437561035156\n",
      "Generating Image Number: 8 for target class tensor([1]). Step 450, Loss: 56.55768585205078\n",
      "Generating Image Number: 9 for target class tensor([1]). Step 0, Loss: 59.19451904296875\n",
      "Generating Image Number: 9 for target class tensor([1]). Step 50, Loss: 38.885162353515625\n",
      "Generating Image Number: 9 for target class tensor([1]). Step 100, Loss: 36.68130111694336\n",
      "Generating Image Number: 9 for target class tensor([1]). Step 150, Loss: 35.231201171875\n",
      "Generating Image Number: 9 for target class tensor([1]). Step 200, Loss: 34.369598388671875\n",
      "Generating Image Number: 9 for target class tensor([1]). Step 250, Loss: 33.56423568725586\n",
      "Generating Image Number: 9 for target class tensor([1]). Step 300, Loss: 32.92011642456055\n",
      "Generating Image Number: 9 for target class tensor([1]). Step 350, Loss: 32.38664245605469\n",
      "Generating Image Number: 9 for target class tensor([1]). Step 400, Loss: 32.04960632324219\n",
      "Generating Image Number: 9 for target class tensor([1]). Step 450, Loss: 31.437911987304688\n",
      "Generating Image Number: 10 for target class tensor([1]). Step 0, Loss: 45.47489929199219\n",
      "Generating Image Number: 10 for target class tensor([1]). Step 50, Loss: 38.036476135253906\n",
      "Generating Image Number: 10 for target class tensor([1]). Step 100, Loss: 35.07524108886719\n",
      "Generating Image Number: 10 for target class tensor([1]). Step 150, Loss: 31.988554000854492\n",
      "Generating Image Number: 10 for target class tensor([1]). Step 200, Loss: 28.716127395629883\n",
      "Generating Image Number: 10 for target class tensor([1]). Step 250, Loss: 26.561264038085938\n",
      "Generating Image Number: 10 for target class tensor([1]). Step 300, Loss: 25.051603317260742\n",
      "Generating Image Number: 10 for target class tensor([1]). Step 350, Loss: 24.084075927734375\n",
      "Generating Image Number: 10 for target class tensor([1]). Step 400, Loss: 23.352672576904297\n",
      "Generating Image Number: 10 for target class tensor([1]). Step 450, Loss: 22.708913803100586\n",
      "Generating Image Number: 11 for target class tensor([1]). Step 0, Loss: 57.77589416503906\n",
      "Generating Image Number: 11 for target class tensor([1]). Step 50, Loss: 52.471439361572266\n",
      "Generating Image Number: 11 for target class tensor([1]). Step 100, Loss: 51.93822479248047\n",
      "Generating Image Number: 11 for target class tensor([1]). Step 150, Loss: 51.39405059814453\n",
      "Generating Image Number: 11 for target class tensor([1]). Step 200, Loss: 51.13755416870117\n",
      "Generating Image Number: 11 for target class tensor([1]). Step 250, Loss: 51.46846008300781\n",
      "Generating Image Number: 11 for target class tensor([1]). Step 300, Loss: 50.823814392089844\n",
      "Generating Image Number: 11 for target class tensor([1]). Step 350, Loss: 50.64499282836914\n",
      "Generating Image Number: 11 for target class tensor([1]). Step 400, Loss: 50.52146911621094\n",
      "Generating Image Number: 11 for target class tensor([1]). Step 450, Loss: 50.36766052246094\n",
      "Generating Image Number: 12 for target class tensor([1]). Step 0, Loss: 58.34204864501953\n",
      "Generating Image Number: 12 for target class tensor([1]). Step 50, Loss: 41.280921936035156\n",
      "Generating Image Number: 12 for target class tensor([1]). Step 100, Loss: 39.4386100769043\n",
      "Generating Image Number: 12 for target class tensor([1]). Step 150, Loss: 37.926673889160156\n",
      "Generating Image Number: 12 for target class tensor([1]). Step 200, Loss: 36.549530029296875\n",
      "Generating Image Number: 12 for target class tensor([1]). Step 250, Loss: 35.14443588256836\n",
      "Generating Image Number: 12 for target class tensor([1]). Step 300, Loss: 33.869266510009766\n",
      "Generating Image Number: 12 for target class tensor([1]). Step 350, Loss: 32.81018829345703\n",
      "Generating Image Number: 12 for target class tensor([1]). Step 400, Loss: 31.613277435302734\n",
      "Generating Image Number: 12 for target class tensor([1]). Step 450, Loss: 30.765710830688477\n",
      "Generating Image Number: 13 for target class tensor([1]). Step 0, Loss: 67.68399047851562\n",
      "Generating Image Number: 13 for target class tensor([1]). Step 50, Loss: 40.636329650878906\n",
      "Generating Image Number: 13 for target class tensor([1]). Step 100, Loss: 39.04942321777344\n",
      "Generating Image Number: 13 for target class tensor([1]). Step 150, Loss: 37.947669982910156\n",
      "Generating Image Number: 13 for target class tensor([1]). Step 200, Loss: 36.47294616699219\n",
      "Generating Image Number: 13 for target class tensor([1]). Step 250, Loss: 33.82837677001953\n",
      "Generating Image Number: 13 for target class tensor([1]). Step 300, Loss: 31.554628372192383\n",
      "Generating Image Number: 13 for target class tensor([1]). Step 350, Loss: 30.20616340637207\n",
      "Generating Image Number: 13 for target class tensor([1]). Step 400, Loss: 28.99260902404785\n",
      "Generating Image Number: 13 for target class tensor([1]). Step 450, Loss: 27.901233673095703\n",
      "Generating Image Number: 14 for target class tensor([1]). Step 0, Loss: 43.565616607666016\n",
      "Generating Image Number: 14 for target class tensor([1]). Step 50, Loss: 37.13910675048828\n",
      "Generating Image Number: 14 for target class tensor([1]). Step 100, Loss: 33.33894729614258\n",
      "Generating Image Number: 14 for target class tensor([1]). Step 150, Loss: 31.158538818359375\n",
      "Generating Image Number: 14 for target class tensor([1]). Step 200, Loss: 30.23891830444336\n",
      "Generating Image Number: 14 for target class tensor([1]). Step 250, Loss: 28.68598175048828\n",
      "Generating Image Number: 14 for target class tensor([1]). Step 300, Loss: 27.820751190185547\n",
      "Generating Image Number: 14 for target class tensor([1]). Step 350, Loss: 27.43789291381836\n",
      "Generating Image Number: 14 for target class tensor([1]). Step 400, Loss: 27.197528839111328\n",
      "Generating Image Number: 14 for target class tensor([1]). Step 450, Loss: 26.904916763305664\n",
      "Generating Image Number: 15 for target class tensor([1]). Step 0, Loss: 41.590965270996094\n",
      "Generating Image Number: 15 for target class tensor([1]). Step 50, Loss: 24.85512924194336\n",
      "Generating Image Number: 15 for target class tensor([1]). Step 100, Loss: 24.164016723632812\n",
      "Generating Image Number: 15 for target class tensor([1]). Step 150, Loss: 23.531578063964844\n",
      "Generating Image Number: 15 for target class tensor([1]). Step 200, Loss: 22.945409774780273\n",
      "Generating Image Number: 15 for target class tensor([1]). Step 250, Loss: 22.394258499145508\n",
      "Generating Image Number: 15 for target class tensor([1]). Step 300, Loss: 21.83531951904297\n",
      "Generating Image Number: 15 for target class tensor([1]). Step 350, Loss: 21.691524505615234\n",
      "Generating Image Number: 15 for target class tensor([1]). Step 400, Loss: 21.347463607788086\n",
      "Generating Image Number: 15 for target class tensor([1]). Step 450, Loss: 21.543163299560547\n",
      "Generating Image Number: 16 for target class tensor([1]). Step 0, Loss: 65.08733367919922\n",
      "Generating Image Number: 16 for target class tensor([1]). Step 50, Loss: 38.677127838134766\n",
      "Generating Image Number: 16 for target class tensor([1]). Step 100, Loss: 34.247676849365234\n",
      "Generating Image Number: 16 for target class tensor([1]). Step 150, Loss: 32.762210845947266\n",
      "Generating Image Number: 16 for target class tensor([1]). Step 200, Loss: 32.05289840698242\n",
      "Generating Image Number: 16 for target class tensor([1]). Step 250, Loss: 28.94253921508789\n",
      "Generating Image Number: 16 for target class tensor([1]). Step 300, Loss: 21.00054359436035\n",
      "Generating Image Number: 16 for target class tensor([1]). Step 350, Loss: 18.914325714111328\n",
      "Generating Image Number: 16 for target class tensor([1]). Step 400, Loss: 17.771944046020508\n",
      "Generating Image Number: 16 for target class tensor([1]). Step 450, Loss: 16.724884033203125\n",
      "Generating Image Number: 17 for target class tensor([1]). Step 0, Loss: 45.358219146728516\n",
      "Generating Image Number: 17 for target class tensor([1]). Step 50, Loss: 39.01776885986328\n",
      "Generating Image Number: 17 for target class tensor([1]). Step 100, Loss: 37.492958068847656\n",
      "Generating Image Number: 17 for target class tensor([1]). Step 150, Loss: 34.52008056640625\n",
      "Generating Image Number: 17 for target class tensor([1]). Step 200, Loss: 31.647445678710938\n",
      "Generating Image Number: 17 for target class tensor([1]). Step 250, Loss: 30.19428825378418\n",
      "Generating Image Number: 17 for target class tensor([1]). Step 300, Loss: 29.056875228881836\n",
      "Generating Image Number: 17 for target class tensor([1]). Step 350, Loss: 27.793577194213867\n",
      "Generating Image Number: 17 for target class tensor([1]). Step 400, Loss: 26.951547622680664\n",
      "Generating Image Number: 17 for target class tensor([1]). Step 450, Loss: 26.573467254638672\n",
      "Generating Image Number: 18 for target class tensor([1]). Step 0, Loss: 58.54255676269531\n",
      "Generating Image Number: 18 for target class tensor([1]). Step 50, Loss: 40.51495361328125\n",
      "Generating Image Number: 18 for target class tensor([1]). Step 100, Loss: 38.82805633544922\n",
      "Generating Image Number: 18 for target class tensor([1]). Step 150, Loss: 35.995445251464844\n",
      "Generating Image Number: 18 for target class tensor([1]). Step 200, Loss: 33.31842041015625\n",
      "Generating Image Number: 18 for target class tensor([1]). Step 250, Loss: 31.189355850219727\n",
      "Generating Image Number: 18 for target class tensor([1]). Step 300, Loss: 29.89018440246582\n",
      "Generating Image Number: 18 for target class tensor([1]). Step 350, Loss: 29.380765914916992\n",
      "Generating Image Number: 18 for target class tensor([1]). Step 400, Loss: 28.9986515045166\n",
      "Generating Image Number: 18 for target class tensor([1]). Step 450, Loss: 28.330591201782227\n",
      "Generating Image Number: 19 for target class tensor([1]). Step 0, Loss: 58.76369094848633\n",
      "Generating Image Number: 19 for target class tensor([1]). Step 50, Loss: 25.83657455444336\n",
      "Generating Image Number: 19 for target class tensor([1]). Step 100, Loss: 21.535520553588867\n",
      "Generating Image Number: 19 for target class tensor([1]). Step 150, Loss: 20.568265914916992\n",
      "Generating Image Number: 19 for target class tensor([1]). Step 200, Loss: 18.79660415649414\n",
      "Generating Image Number: 19 for target class tensor([1]). Step 250, Loss: 17.31073760986328\n",
      "Generating Image Number: 19 for target class tensor([1]). Step 300, Loss: 17.07361602783203\n",
      "Generating Image Number: 19 for target class tensor([1]). Step 350, Loss: 15.581005096435547\n",
      "Generating Image Number: 19 for target class tensor([1]). Step 400, Loss: 14.837300300598145\n",
      "Generating Image Number: 19 for target class tensor([1]). Step 450, Loss: 14.555126190185547\n",
      "Generating Image Number: 20 for target class tensor([1]). Step 0, Loss: 45.69794464111328\n",
      "Generating Image Number: 20 for target class tensor([1]). Step 50, Loss: 38.90996170043945\n",
      "Generating Image Number: 20 for target class tensor([1]). Step 100, Loss: 34.420108795166016\n",
      "Generating Image Number: 20 for target class tensor([1]). Step 150, Loss: 32.25135040283203\n",
      "Generating Image Number: 20 for target class tensor([1]). Step 200, Loss: 28.674243927001953\n",
      "Generating Image Number: 20 for target class tensor([1]). Step 250, Loss: 26.177474975585938\n",
      "Generating Image Number: 20 for target class tensor([1]). Step 300, Loss: 25.577295303344727\n",
      "Generating Image Number: 20 for target class tensor([1]). Step 350, Loss: 24.784297943115234\n",
      "Generating Image Number: 20 for target class tensor([1]). Step 400, Loss: 24.36444664001465\n",
      "Generating Image Number: 20 for target class tensor([1]). Step 450, Loss: 24.06825828552246\n"
     ]
    }
   ],
   "source": [
    "torch.manual_seed(100)\n",
    "latent_vectors = torch.randn(img_count, z_dim, 1, 1, requires_grad=True) # Start with 20 random noises\n",
    "class1_optimized_latent_vectors = recover_images(img_count, 1, latent_vectors)"
   ]
  },
  {
   "cell_type": "code",
   "execution_count": 22,
   "id": "1c8af686-b1ff-419d-946d-2447773e47c9",
   "metadata": {
    "scrolled": true
   },
   "outputs": [
    {
     "name": "stdout",
     "output_type": "stream",
     "text": [
      "Generating Image Number: 1 for target class tensor([2]). Step 0, Loss: 0.0\n",
      "Generating Image Number: 1 for target class tensor([2]). Step 50, Loss: 0.0\n",
      "Generating Image Number: 1 for target class tensor([2]). Step 100, Loss: 0.0\n",
      "Generating Image Number: 1 for target class tensor([2]). Step 150, Loss: 0.0\n",
      "Generating Image Number: 1 for target class tensor([2]). Step 200, Loss: 0.0\n",
      "Generating Image Number: 1 for target class tensor([2]). Step 250, Loss: 0.0\n",
      "Generating Image Number: 1 for target class tensor([2]). Step 300, Loss: 0.0\n",
      "Generating Image Number: 1 for target class tensor([2]). Step 350, Loss: 0.0\n",
      "Generating Image Number: 1 for target class tensor([2]). Step 400, Loss: 0.0\n",
      "Generating Image Number: 1 for target class tensor([2]). Step 450, Loss: 0.0\n",
      "Generating Image Number: 2 for target class tensor([2]). Step 0, Loss: 0.0\n",
      "Generating Image Number: 2 for target class tensor([2]). Step 50, Loss: 0.0\n",
      "Generating Image Number: 2 for target class tensor([2]). Step 100, Loss: 0.0\n",
      "Generating Image Number: 2 for target class tensor([2]). Step 150, Loss: 0.0\n",
      "Generating Image Number: 2 for target class tensor([2]). Step 200, Loss: 0.0\n",
      "Generating Image Number: 2 for target class tensor([2]). Step 250, Loss: 0.0\n",
      "Generating Image Number: 2 for target class tensor([2]). Step 300, Loss: 0.0\n",
      "Generating Image Number: 2 for target class tensor([2]). Step 350, Loss: 0.0\n",
      "Generating Image Number: 2 for target class tensor([2]). Step 400, Loss: 0.0\n",
      "Generating Image Number: 2 for target class tensor([2]). Step 450, Loss: 0.0\n",
      "Generating Image Number: 3 for target class tensor([2]). Step 0, Loss: 0.0\n",
      "Generating Image Number: 3 for target class tensor([2]). Step 50, Loss: 0.0\n",
      "Generating Image Number: 3 for target class tensor([2]). Step 100, Loss: 0.0\n",
      "Generating Image Number: 3 for target class tensor([2]). Step 150, Loss: 0.0\n",
      "Generating Image Number: 3 for target class tensor([2]). Step 200, Loss: 0.0\n",
      "Generating Image Number: 3 for target class tensor([2]). Step 250, Loss: 0.0\n",
      "Generating Image Number: 3 for target class tensor([2]). Step 300, Loss: 0.0\n",
      "Generating Image Number: 3 for target class tensor([2]). Step 350, Loss: 0.0\n",
      "Generating Image Number: 3 for target class tensor([2]). Step 400, Loss: 0.0\n",
      "Generating Image Number: 3 for target class tensor([2]). Step 450, Loss: 0.0\n",
      "Generating Image Number: 4 for target class tensor([2]). Step 0, Loss: 0.0\n",
      "Generating Image Number: 4 for target class tensor([2]). Step 50, Loss: 0.0\n",
      "Generating Image Number: 4 for target class tensor([2]). Step 100, Loss: 0.0\n",
      "Generating Image Number: 4 for target class tensor([2]). Step 150, Loss: 0.0\n",
      "Generating Image Number: 4 for target class tensor([2]). Step 200, Loss: 0.0\n",
      "Generating Image Number: 4 for target class tensor([2]). Step 250, Loss: 0.0\n",
      "Generating Image Number: 4 for target class tensor([2]). Step 300, Loss: 0.0\n",
      "Generating Image Number: 4 for target class tensor([2]). Step 350, Loss: 0.0\n",
      "Generating Image Number: 4 for target class tensor([2]). Step 400, Loss: 0.0\n",
      "Generating Image Number: 4 for target class tensor([2]). Step 450, Loss: 0.0\n",
      "Generating Image Number: 5 for target class tensor([2]). Step 0, Loss: 0.0\n",
      "Generating Image Number: 5 for target class tensor([2]). Step 50, Loss: 0.0\n",
      "Generating Image Number: 5 for target class tensor([2]). Step 100, Loss: 0.0\n",
      "Generating Image Number: 5 for target class tensor([2]). Step 150, Loss: 0.0\n",
      "Generating Image Number: 5 for target class tensor([2]). Step 200, Loss: 0.0\n",
      "Generating Image Number: 5 for target class tensor([2]). Step 250, Loss: 0.0\n",
      "Generating Image Number: 5 for target class tensor([2]). Step 300, Loss: 0.0\n",
      "Generating Image Number: 5 for target class tensor([2]). Step 350, Loss: 0.0\n",
      "Generating Image Number: 5 for target class tensor([2]). Step 400, Loss: 0.0\n",
      "Generating Image Number: 5 for target class tensor([2]). Step 450, Loss: 0.0\n",
      "Generating Image Number: 6 for target class tensor([2]). Step 0, Loss: 0.0\n",
      "Generating Image Number: 6 for target class tensor([2]). Step 50, Loss: 0.0\n",
      "Generating Image Number: 6 for target class tensor([2]). Step 100, Loss: 0.0\n",
      "Generating Image Number: 6 for target class tensor([2]). Step 150, Loss: 0.0\n",
      "Generating Image Number: 6 for target class tensor([2]). Step 200, Loss: 0.0\n",
      "Generating Image Number: 6 for target class tensor([2]). Step 250, Loss: 0.0\n",
      "Generating Image Number: 6 for target class tensor([2]). Step 300, Loss: 0.0\n",
      "Generating Image Number: 6 for target class tensor([2]). Step 350, Loss: 0.0\n",
      "Generating Image Number: 6 for target class tensor([2]). Step 400, Loss: 0.0\n",
      "Generating Image Number: 6 for target class tensor([2]). Step 450, Loss: 0.0\n",
      "Generating Image Number: 7 for target class tensor([2]). Step 0, Loss: 0.0\n",
      "Generating Image Number: 7 for target class tensor([2]). Step 50, Loss: 0.0\n",
      "Generating Image Number: 7 for target class tensor([2]). Step 100, Loss: 0.0\n",
      "Generating Image Number: 7 for target class tensor([2]). Step 150, Loss: 0.0\n",
      "Generating Image Number: 7 for target class tensor([2]). Step 200, Loss: 0.0\n",
      "Generating Image Number: 7 for target class tensor([2]). Step 250, Loss: 0.0\n",
      "Generating Image Number: 7 for target class tensor([2]). Step 300, Loss: 0.0\n",
      "Generating Image Number: 7 for target class tensor([2]). Step 350, Loss: 0.0\n",
      "Generating Image Number: 7 for target class tensor([2]). Step 400, Loss: 0.0\n",
      "Generating Image Number: 7 for target class tensor([2]). Step 450, Loss: 0.0\n",
      "Generating Image Number: 8 for target class tensor([2]). Step 0, Loss: 0.0\n",
      "Generating Image Number: 8 for target class tensor([2]). Step 50, Loss: 0.0\n",
      "Generating Image Number: 8 for target class tensor([2]). Step 100, Loss: 0.0\n",
      "Generating Image Number: 8 for target class tensor([2]). Step 150, Loss: 0.0\n",
      "Generating Image Number: 8 for target class tensor([2]). Step 200, Loss: 0.0\n",
      "Generating Image Number: 8 for target class tensor([2]). Step 250, Loss: 0.0\n",
      "Generating Image Number: 8 for target class tensor([2]). Step 300, Loss: 0.0\n",
      "Generating Image Number: 8 for target class tensor([2]). Step 350, Loss: 0.0\n",
      "Generating Image Number: 8 for target class tensor([2]). Step 400, Loss: 0.0\n",
      "Generating Image Number: 8 for target class tensor([2]). Step 450, Loss: 0.0\n",
      "Generating Image Number: 9 for target class tensor([2]). Step 0, Loss: 0.0\n",
      "Generating Image Number: 9 for target class tensor([2]). Step 50, Loss: 0.0\n",
      "Generating Image Number: 9 for target class tensor([2]). Step 100, Loss: 0.0\n",
      "Generating Image Number: 9 for target class tensor([2]). Step 150, Loss: 0.0\n",
      "Generating Image Number: 9 for target class tensor([2]). Step 200, Loss: 0.0\n",
      "Generating Image Number: 9 for target class tensor([2]). Step 250, Loss: 0.0\n",
      "Generating Image Number: 9 for target class tensor([2]). Step 300, Loss: 0.0\n",
      "Generating Image Number: 9 for target class tensor([2]). Step 350, Loss: 0.0\n",
      "Generating Image Number: 9 for target class tensor([2]). Step 400, Loss: 0.0\n",
      "Generating Image Number: 9 for target class tensor([2]). Step 450, Loss: 0.0\n",
      "Generating Image Number: 10 for target class tensor([2]). Step 0, Loss: 0.0\n",
      "Generating Image Number: 10 for target class tensor([2]). Step 50, Loss: 0.0\n",
      "Generating Image Number: 10 for target class tensor([2]). Step 100, Loss: 0.0\n",
      "Generating Image Number: 10 for target class tensor([2]). Step 150, Loss: 0.0\n",
      "Generating Image Number: 10 for target class tensor([2]). Step 200, Loss: 0.0\n",
      "Generating Image Number: 10 for target class tensor([2]). Step 250, Loss: 0.0\n",
      "Generating Image Number: 10 for target class tensor([2]). Step 300, Loss: 0.0\n",
      "Generating Image Number: 10 for target class tensor([2]). Step 350, Loss: 0.0\n",
      "Generating Image Number: 10 for target class tensor([2]). Step 400, Loss: 0.0\n",
      "Generating Image Number: 10 for target class tensor([2]). Step 450, Loss: 0.0\n",
      "Generating Image Number: 11 for target class tensor([2]). Step 0, Loss: 0.0\n",
      "Generating Image Number: 11 for target class tensor([2]). Step 50, Loss: 0.0\n",
      "Generating Image Number: 11 for target class tensor([2]). Step 100, Loss: 0.0\n",
      "Generating Image Number: 11 for target class tensor([2]). Step 150, Loss: 0.0\n",
      "Generating Image Number: 11 for target class tensor([2]). Step 200, Loss: 0.0\n",
      "Generating Image Number: 11 for target class tensor([2]). Step 250, Loss: 0.0\n",
      "Generating Image Number: 11 for target class tensor([2]). Step 300, Loss: 0.0\n",
      "Generating Image Number: 11 for target class tensor([2]). Step 350, Loss: 0.0\n",
      "Generating Image Number: 11 for target class tensor([2]). Step 400, Loss: 0.0\n",
      "Generating Image Number: 11 for target class tensor([2]). Step 450, Loss: 0.0\n",
      "Generating Image Number: 12 for target class tensor([2]). Step 0, Loss: 0.0\n",
      "Generating Image Number: 12 for target class tensor([2]). Step 50, Loss: 0.0\n",
      "Generating Image Number: 12 for target class tensor([2]). Step 100, Loss: 0.0\n",
      "Generating Image Number: 12 for target class tensor([2]). Step 150, Loss: 0.0\n",
      "Generating Image Number: 12 for target class tensor([2]). Step 200, Loss: 0.0\n",
      "Generating Image Number: 12 for target class tensor([2]). Step 250, Loss: 0.0\n",
      "Generating Image Number: 12 for target class tensor([2]). Step 300, Loss: 0.0\n",
      "Generating Image Number: 12 for target class tensor([2]). Step 350, Loss: 0.0\n",
      "Generating Image Number: 12 for target class tensor([2]). Step 400, Loss: 0.0\n",
      "Generating Image Number: 12 for target class tensor([2]). Step 450, Loss: 0.0\n",
      "Generating Image Number: 13 for target class tensor([2]). Step 0, Loss: 0.0\n",
      "Generating Image Number: 13 for target class tensor([2]). Step 50, Loss: 0.0\n",
      "Generating Image Number: 13 for target class tensor([2]). Step 100, Loss: 0.0\n",
      "Generating Image Number: 13 for target class tensor([2]). Step 150, Loss: 0.0\n",
      "Generating Image Number: 13 for target class tensor([2]). Step 200, Loss: 0.0\n",
      "Generating Image Number: 13 for target class tensor([2]). Step 250, Loss: 0.0\n",
      "Generating Image Number: 13 for target class tensor([2]). Step 300, Loss: 0.0\n",
      "Generating Image Number: 13 for target class tensor([2]). Step 350, Loss: 0.0\n",
      "Generating Image Number: 13 for target class tensor([2]). Step 400, Loss: 0.0\n",
      "Generating Image Number: 13 for target class tensor([2]). Step 450, Loss: 0.0\n",
      "Generating Image Number: 14 for target class tensor([2]). Step 0, Loss: 0.0\n",
      "Generating Image Number: 14 for target class tensor([2]). Step 50, Loss: 0.0\n",
      "Generating Image Number: 14 for target class tensor([2]). Step 100, Loss: 0.0\n",
      "Generating Image Number: 14 for target class tensor([2]). Step 150, Loss: 0.0\n",
      "Generating Image Number: 14 for target class tensor([2]). Step 200, Loss: 0.0\n",
      "Generating Image Number: 14 for target class tensor([2]). Step 250, Loss: 0.0\n",
      "Generating Image Number: 14 for target class tensor([2]). Step 300, Loss: 0.0\n",
      "Generating Image Number: 14 for target class tensor([2]). Step 350, Loss: 0.0\n",
      "Generating Image Number: 14 for target class tensor([2]). Step 400, Loss: 0.0\n",
      "Generating Image Number: 14 for target class tensor([2]). Step 450, Loss: 0.0\n",
      "Generating Image Number: 15 for target class tensor([2]). Step 0, Loss: 0.0\n",
      "Generating Image Number: 15 for target class tensor([2]). Step 50, Loss: 0.0\n",
      "Generating Image Number: 15 for target class tensor([2]). Step 100, Loss: 0.0\n",
      "Generating Image Number: 15 for target class tensor([2]). Step 150, Loss: 0.0\n",
      "Generating Image Number: 15 for target class tensor([2]). Step 200, Loss: 0.0\n",
      "Generating Image Number: 15 for target class tensor([2]). Step 250, Loss: 0.0\n",
      "Generating Image Number: 15 for target class tensor([2]). Step 300, Loss: 0.0\n",
      "Generating Image Number: 15 for target class tensor([2]). Step 350, Loss: 0.0\n",
      "Generating Image Number: 15 for target class tensor([2]). Step 400, Loss: 0.0\n",
      "Generating Image Number: 15 for target class tensor([2]). Step 450, Loss: 0.0\n",
      "Generating Image Number: 16 for target class tensor([2]). Step 0, Loss: 0.0\n",
      "Generating Image Number: 16 for target class tensor([2]). Step 50, Loss: 0.0\n",
      "Generating Image Number: 16 for target class tensor([2]). Step 100, Loss: 0.0\n",
      "Generating Image Number: 16 for target class tensor([2]). Step 150, Loss: 0.0\n",
      "Generating Image Number: 16 for target class tensor([2]). Step 200, Loss: 0.0\n",
      "Generating Image Number: 16 for target class tensor([2]). Step 250, Loss: 0.0\n",
      "Generating Image Number: 16 for target class tensor([2]). Step 300, Loss: 0.0\n",
      "Generating Image Number: 16 for target class tensor([2]). Step 350, Loss: 0.0\n",
      "Generating Image Number: 16 for target class tensor([2]). Step 400, Loss: 0.0\n",
      "Generating Image Number: 16 for target class tensor([2]). Step 450, Loss: 0.0\n",
      "Generating Image Number: 17 for target class tensor([2]). Step 0, Loss: 0.0\n",
      "Generating Image Number: 17 for target class tensor([2]). Step 50, Loss: 0.0\n",
      "Generating Image Number: 17 for target class tensor([2]). Step 100, Loss: 0.0\n",
      "Generating Image Number: 17 for target class tensor([2]). Step 150, Loss: 0.0\n",
      "Generating Image Number: 17 for target class tensor([2]). Step 200, Loss: 0.0\n",
      "Generating Image Number: 17 for target class tensor([2]). Step 250, Loss: 0.0\n",
      "Generating Image Number: 17 for target class tensor([2]). Step 300, Loss: 0.0\n",
      "Generating Image Number: 17 for target class tensor([2]). Step 350, Loss: 0.0\n",
      "Generating Image Number: 17 for target class tensor([2]). Step 400, Loss: 0.0\n",
      "Generating Image Number: 17 for target class tensor([2]). Step 450, Loss: 0.0\n",
      "Generating Image Number: 18 for target class tensor([2]). Step 0, Loss: 0.0\n",
      "Generating Image Number: 18 for target class tensor([2]). Step 50, Loss: 0.0\n",
      "Generating Image Number: 18 for target class tensor([2]). Step 100, Loss: 0.0\n",
      "Generating Image Number: 18 for target class tensor([2]). Step 150, Loss: 0.0\n",
      "Generating Image Number: 18 for target class tensor([2]). Step 200, Loss: 0.0\n",
      "Generating Image Number: 18 for target class tensor([2]). Step 250, Loss: 0.0\n",
      "Generating Image Number: 18 for target class tensor([2]). Step 300, Loss: 0.0\n",
      "Generating Image Number: 18 for target class tensor([2]). Step 350, Loss: 0.0\n",
      "Generating Image Number: 18 for target class tensor([2]). Step 400, Loss: 0.0\n",
      "Generating Image Number: 18 for target class tensor([2]). Step 450, Loss: 0.0\n",
      "Generating Image Number: 19 for target class tensor([2]). Step 0, Loss: 0.0\n",
      "Generating Image Number: 19 for target class tensor([2]). Step 50, Loss: 0.0\n",
      "Generating Image Number: 19 for target class tensor([2]). Step 100, Loss: 0.0\n",
      "Generating Image Number: 19 for target class tensor([2]). Step 150, Loss: 0.0\n",
      "Generating Image Number: 19 for target class tensor([2]). Step 200, Loss: 0.0\n",
      "Generating Image Number: 19 for target class tensor([2]). Step 250, Loss: 0.0\n",
      "Generating Image Number: 19 for target class tensor([2]). Step 300, Loss: 0.0\n",
      "Generating Image Number: 19 for target class tensor([2]). Step 350, Loss: 0.0\n",
      "Generating Image Number: 19 for target class tensor([2]). Step 400, Loss: 0.0\n",
      "Generating Image Number: 19 for target class tensor([2]). Step 450, Loss: 0.0\n",
      "Generating Image Number: 20 for target class tensor([2]). Step 0, Loss: 0.0\n",
      "Generating Image Number: 20 for target class tensor([2]). Step 50, Loss: 0.0\n",
      "Generating Image Number: 20 for target class tensor([2]). Step 100, Loss: 0.0\n",
      "Generating Image Number: 20 for target class tensor([2]). Step 150, Loss: 0.0\n",
      "Generating Image Number: 20 for target class tensor([2]). Step 200, Loss: 0.0\n",
      "Generating Image Number: 20 for target class tensor([2]). Step 250, Loss: 0.0\n",
      "Generating Image Number: 20 for target class tensor([2]). Step 300, Loss: 0.0\n",
      "Generating Image Number: 20 for target class tensor([2]). Step 350, Loss: 0.0\n",
      "Generating Image Number: 20 for target class tensor([2]). Step 400, Loss: 0.0\n",
      "Generating Image Number: 20 for target class tensor([2]). Step 450, Loss: 0.0\n"
     ]
    }
   ],
   "source": [
    "torch.manual_seed(200)\n",
    "latent_vectors = torch.randn(img_count, z_dim, 1, 1, requires_grad=True) # Start with 20 random noises\n",
    "class2_optimized_latent_vectors = recover_images(img_count, 2, latent_vectors)"
   ]
  },
  {
   "cell_type": "code",
   "execution_count": 23,
   "id": "0381b36d-6c92-43bc-b776-1eefd3eab451",
   "metadata": {
    "scrolled": true
   },
   "outputs": [
    {
     "name": "stdout",
     "output_type": "stream",
     "text": [
      "Generating Image Number: 1 for target class tensor([3]). Step 0, Loss: 0.04557812213897705\n",
      "Generating Image Number: 1 for target class tensor([3]). Step 50, Loss: 0.06412643194198608\n",
      "Generating Image Number: 1 for target class tensor([3]). Step 100, Loss: 0.03865186497569084\n",
      "Generating Image Number: 1 for target class tensor([3]). Step 150, Loss: 0.0323958620429039\n",
      "Generating Image Number: 1 for target class tensor([3]). Step 200, Loss: 0.024978650733828545\n",
      "Generating Image Number: 1 for target class tensor([3]). Step 250, Loss: 0.018771033734083176\n",
      "Generating Image Number: 1 for target class tensor([3]). Step 300, Loss: 0.016141096130013466\n",
      "Generating Image Number: 1 for target class tensor([3]). Step 350, Loss: 0.014558046124875546\n",
      "Generating Image Number: 1 for target class tensor([3]). Step 400, Loss: 0.013411544263362885\n",
      "Generating Image Number: 1 for target class tensor([3]). Step 450, Loss: 0.01244964636862278\n",
      "Generating Image Number: 2 for target class tensor([3]). Step 0, Loss: 25.418519973754883\n",
      "Generating Image Number: 2 for target class tensor([3]). Step 50, Loss: 16.50908088684082\n",
      "Generating Image Number: 2 for target class tensor([3]). Step 100, Loss: 14.631771087646484\n",
      "Generating Image Number: 2 for target class tensor([3]). Step 150, Loss: 12.709067344665527\n",
      "Generating Image Number: 2 for target class tensor([3]). Step 200, Loss: 11.506505966186523\n",
      "Generating Image Number: 2 for target class tensor([3]). Step 250, Loss: 10.366175651550293\n",
      "Generating Image Number: 2 for target class tensor([3]). Step 300, Loss: 9.48267650604248\n",
      "Generating Image Number: 2 for target class tensor([3]). Step 350, Loss: 8.279877662658691\n",
      "Generating Image Number: 2 for target class tensor([3]). Step 400, Loss: 7.75909948348999\n",
      "Generating Image Number: 2 for target class tensor([3]). Step 450, Loss: 7.385469913482666\n",
      "Generating Image Number: 3 for target class tensor([3]). Step 0, Loss: 26.14988899230957\n",
      "Generating Image Number: 3 for target class tensor([3]). Step 50, Loss: 19.888988494873047\n",
      "Generating Image Number: 3 for target class tensor([3]). Step 100, Loss: 16.437053680419922\n",
      "Generating Image Number: 3 for target class tensor([3]). Step 150, Loss: 13.293712615966797\n",
      "Generating Image Number: 3 for target class tensor([3]). Step 200, Loss: 10.878791809082031\n",
      "Generating Image Number: 3 for target class tensor([3]). Step 250, Loss: 8.685076713562012\n",
      "Generating Image Number: 3 for target class tensor([3]). Step 300, Loss: 7.028722286224365\n",
      "Generating Image Number: 3 for target class tensor([3]). Step 350, Loss: 6.199112892150879\n",
      "Generating Image Number: 3 for target class tensor([3]). Step 400, Loss: 4.624466896057129\n",
      "Generating Image Number: 3 for target class tensor([3]). Step 450, Loss: 3.0268545150756836\n",
      "Generating Image Number: 4 for target class tensor([3]). Step 0, Loss: 41.43012237548828\n",
      "Generating Image Number: 4 for target class tensor([3]). Step 50, Loss: 39.2202262878418\n",
      "Generating Image Number: 4 for target class tensor([3]). Step 100, Loss: 38.13542938232422\n",
      "Generating Image Number: 4 for target class tensor([3]). Step 150, Loss: 37.41416931152344\n",
      "Generating Image Number: 4 for target class tensor([3]). Step 200, Loss: 36.897090911865234\n",
      "Generating Image Number: 4 for target class tensor([3]). Step 250, Loss: 36.454071044921875\n",
      "Generating Image Number: 4 for target class tensor([3]). Step 300, Loss: 36.11953353881836\n",
      "Generating Image Number: 4 for target class tensor([3]). Step 350, Loss: 35.84391403198242\n",
      "Generating Image Number: 4 for target class tensor([3]). Step 400, Loss: 35.594749450683594\n",
      "Generating Image Number: 4 for target class tensor([3]). Step 450, Loss: 35.275909423828125\n",
      "Generating Image Number: 5 for target class tensor([3]). Step 0, Loss: 36.51728820800781\n",
      "Generating Image Number: 5 for target class tensor([3]). Step 50, Loss: 15.469328880310059\n",
      "Generating Image Number: 5 for target class tensor([3]). Step 100, Loss: 9.553975105285645\n",
      "Generating Image Number: 5 for target class tensor([3]). Step 150, Loss: 4.023791790008545\n",
      "Generating Image Number: 5 for target class tensor([3]). Step 200, Loss: 0.06845764070749283\n",
      "Generating Image Number: 5 for target class tensor([3]). Step 250, Loss: 0.02043328434228897\n",
      "Generating Image Number: 5 for target class tensor([3]). Step 300, Loss: 0.01398384291678667\n",
      "Generating Image Number: 5 for target class tensor([3]). Step 350, Loss: 0.010515166446566582\n",
      "Generating Image Number: 5 for target class tensor([3]). Step 400, Loss: 0.008636740036308765\n",
      "Generating Image Number: 5 for target class tensor([3]). Step 450, Loss: 0.007274331524968147\n",
      "Generating Image Number: 6 for target class tensor([3]). Step 0, Loss: 22.28377914428711\n",
      "Generating Image Number: 6 for target class tensor([3]). Step 50, Loss: 5.61799955368042\n",
      "Generating Image Number: 6 for target class tensor([3]). Step 100, Loss: 1.9532805681228638\n",
      "Generating Image Number: 6 for target class tensor([3]). Step 150, Loss: 0.12189001590013504\n",
      "Generating Image Number: 6 for target class tensor([3]). Step 200, Loss: 0.09554067999124527\n",
      "Generating Image Number: 6 for target class tensor([3]). Step 250, Loss: 0.07002393156290054\n",
      "Generating Image Number: 6 for target class tensor([3]). Step 300, Loss: 0.05699418857693672\n",
      "Generating Image Number: 6 for target class tensor([3]). Step 350, Loss: 0.046336621046066284\n",
      "Generating Image Number: 6 for target class tensor([3]). Step 400, Loss: 0.03715013712644577\n",
      "Generating Image Number: 6 for target class tensor([3]). Step 450, Loss: 0.03250526264309883\n",
      "Generating Image Number: 7 for target class tensor([3]). Step 0, Loss: 24.04245948791504\n",
      "Generating Image Number: 7 for target class tensor([3]). Step 50, Loss: 0.5714015960693359\n",
      "Generating Image Number: 7 for target class tensor([3]). Step 100, Loss: 0.062480319291353226\n",
      "Generating Image Number: 7 for target class tensor([3]). Step 150, Loss: 0.043126657605171204\n",
      "Generating Image Number: 7 for target class tensor([3]). Step 200, Loss: 0.034017086029052734\n",
      "Generating Image Number: 7 for target class tensor([3]). Step 250, Loss: 0.02748284302651882\n",
      "Generating Image Number: 7 for target class tensor([3]). Step 300, Loss: 0.02365347556769848\n",
      "Generating Image Number: 7 for target class tensor([3]). Step 350, Loss: 0.020530221983790398\n",
      "Generating Image Number: 7 for target class tensor([3]). Step 400, Loss: 0.017809361219406128\n",
      "Generating Image Number: 7 for target class tensor([3]). Step 450, Loss: 0.016408154740929604\n",
      "Generating Image Number: 8 for target class tensor([3]). Step 0, Loss: 29.191082000732422\n",
      "Generating Image Number: 8 for target class tensor([3]). Step 50, Loss: 16.126720428466797\n",
      "Generating Image Number: 8 for target class tensor([3]). Step 100, Loss: 13.733290672302246\n",
      "Generating Image Number: 8 for target class tensor([3]). Step 150, Loss: 8.045989990234375\n",
      "Generating Image Number: 8 for target class tensor([3]). Step 200, Loss: 6.232549667358398\n",
      "Generating Image Number: 8 for target class tensor([3]). Step 250, Loss: 2.5108258724212646\n",
      "Generating Image Number: 8 for target class tensor([3]). Step 300, Loss: 0.07611212879419327\n",
      "Generating Image Number: 8 for target class tensor([3]). Step 350, Loss: 0.03208697959780693\n",
      "Generating Image Number: 8 for target class tensor([3]). Step 400, Loss: 0.018859826028347015\n",
      "Generating Image Number: 8 for target class tensor([3]). Step 450, Loss: 0.01334026362746954\n",
      "Generating Image Number: 9 for target class tensor([3]). Step 0, Loss: 33.78546142578125\n",
      "Generating Image Number: 9 for target class tensor([3]). Step 50, Loss: 17.975717544555664\n",
      "Generating Image Number: 9 for target class tensor([3]). Step 100, Loss: 16.37998390197754\n",
      "Generating Image Number: 9 for target class tensor([3]). Step 150, Loss: 14.404860496520996\n",
      "Generating Image Number: 9 for target class tensor([3]). Step 200, Loss: 12.381135940551758\n",
      "Generating Image Number: 9 for target class tensor([3]). Step 250, Loss: 10.56374740600586\n",
      "Generating Image Number: 9 for target class tensor([3]). Step 300, Loss: 9.131169319152832\n",
      "Generating Image Number: 9 for target class tensor([3]). Step 350, Loss: 8.054228782653809\n",
      "Generating Image Number: 9 for target class tensor([3]). Step 400, Loss: 5.704732894897461\n",
      "Generating Image Number: 9 for target class tensor([3]). Step 450, Loss: 3.9455347061157227\n",
      "Generating Image Number: 10 for target class tensor([3]). Step 0, Loss: 20.218860626220703\n",
      "Generating Image Number: 10 for target class tensor([3]). Step 50, Loss: 16.290733337402344\n",
      "Generating Image Number: 10 for target class tensor([3]). Step 100, Loss: 14.317875862121582\n",
      "Generating Image Number: 10 for target class tensor([3]). Step 150, Loss: 9.668798446655273\n",
      "Generating Image Number: 10 for target class tensor([3]). Step 200, Loss: 6.122361660003662\n",
      "Generating Image Number: 10 for target class tensor([3]). Step 250, Loss: 0.10159646719694138\n",
      "Generating Image Number: 10 for target class tensor([3]). Step 300, Loss: 0.02379072830080986\n",
      "Generating Image Number: 10 for target class tensor([3]). Step 350, Loss: 0.012111809104681015\n",
      "Generating Image Number: 10 for target class tensor([3]). Step 400, Loss: 0.008399516344070435\n",
      "Generating Image Number: 10 for target class tensor([3]). Step 450, Loss: 0.006337663624435663\n",
      "Generating Image Number: 11 for target class tensor([3]). Step 0, Loss: 33.52906799316406\n",
      "Generating Image Number: 11 for target class tensor([3]). Step 50, Loss: 20.46442413330078\n",
      "Generating Image Number: 11 for target class tensor([3]). Step 100, Loss: 19.181367874145508\n",
      "Generating Image Number: 11 for target class tensor([3]). Step 150, Loss: 17.9761962890625\n",
      "Generating Image Number: 11 for target class tensor([3]). Step 200, Loss: 16.634443283081055\n",
      "Generating Image Number: 11 for target class tensor([3]). Step 250, Loss: 15.65196704864502\n",
      "Generating Image Number: 11 for target class tensor([3]). Step 300, Loss: 13.170270919799805\n",
      "Generating Image Number: 11 for target class tensor([3]). Step 350, Loss: 7.460277080535889\n",
      "Generating Image Number: 11 for target class tensor([3]). Step 400, Loss: 1.901560664176941\n",
      "Generating Image Number: 11 for target class tensor([3]). Step 450, Loss: 0.16520945727825165\n",
      "Generating Image Number: 12 for target class tensor([3]). Step 0, Loss: 48.378326416015625\n",
      "Generating Image Number: 12 for target class tensor([3]). Step 50, Loss: 38.680877685546875\n",
      "Generating Image Number: 12 for target class tensor([3]). Step 100, Loss: 37.95576477050781\n",
      "Generating Image Number: 12 for target class tensor([3]). Step 150, Loss: 37.058555603027344\n",
      "Generating Image Number: 12 for target class tensor([3]). Step 200, Loss: 36.11684036254883\n",
      "Generating Image Number: 12 for target class tensor([3]). Step 250, Loss: 34.90917205810547\n",
      "Generating Image Number: 12 for target class tensor([3]). Step 300, Loss: 34.167152404785156\n",
      "Generating Image Number: 12 for target class tensor([3]). Step 350, Loss: 33.50971984863281\n",
      "Generating Image Number: 12 for target class tensor([3]). Step 400, Loss: 32.95686721801758\n",
      "Generating Image Number: 12 for target class tensor([3]). Step 450, Loss: 32.71160125732422\n",
      "Generating Image Number: 13 for target class tensor([3]). Step 0, Loss: 42.19529342651367\n",
      "Generating Image Number: 13 for target class tensor([3]). Step 50, Loss: 15.662564277648926\n",
      "Generating Image Number: 13 for target class tensor([3]). Step 100, Loss: 14.272631645202637\n",
      "Generating Image Number: 13 for target class tensor([3]). Step 150, Loss: 12.649378776550293\n",
      "Generating Image Number: 13 for target class tensor([3]). Step 200, Loss: 10.83776569366455\n",
      "Generating Image Number: 13 for target class tensor([3]). Step 250, Loss: 9.304569244384766\n",
      "Generating Image Number: 13 for target class tensor([3]). Step 300, Loss: 6.152123928070068\n",
      "Generating Image Number: 13 for target class tensor([3]). Step 350, Loss: 0.07358928769826889\n",
      "Generating Image Number: 13 for target class tensor([3]). Step 400, Loss: 0.021693676710128784\n",
      "Generating Image Number: 13 for target class tensor([3]). Step 450, Loss: 0.014386618509888649\n",
      "Generating Image Number: 14 for target class tensor([3]). Step 0, Loss: 28.15170669555664\n",
      "Generating Image Number: 14 for target class tensor([3]). Step 50, Loss: 16.671537399291992\n",
      "Generating Image Number: 14 for target class tensor([3]). Step 100, Loss: 15.419963836669922\n",
      "Generating Image Number: 14 for target class tensor([3]). Step 150, Loss: 14.480088233947754\n",
      "Generating Image Number: 14 for target class tensor([3]). Step 200, Loss: 13.565619468688965\n",
      "Generating Image Number: 14 for target class tensor([3]). Step 250, Loss: 12.021992683410645\n",
      "Generating Image Number: 14 for target class tensor([3]). Step 300, Loss: 9.651938438415527\n",
      "Generating Image Number: 14 for target class tensor([3]). Step 350, Loss: 6.612817764282227\n",
      "Generating Image Number: 14 for target class tensor([3]). Step 400, Loss: 5.593291282653809\n",
      "Generating Image Number: 14 for target class tensor([3]). Step 450, Loss: 4.9578471183776855\n",
      "Generating Image Number: 15 for target class tensor([3]). Step 0, Loss: 27.46803855895996\n",
      "Generating Image Number: 15 for target class tensor([3]). Step 50, Loss: 0.3271793723106384\n",
      "Generating Image Number: 15 for target class tensor([3]). Step 100, Loss: 0.12765154242515564\n",
      "Generating Image Number: 15 for target class tensor([3]). Step 150, Loss: 0.08253049850463867\n",
      "Generating Image Number: 15 for target class tensor([3]). Step 200, Loss: 0.07110980153083801\n",
      "Generating Image Number: 15 for target class tensor([3]). Step 250, Loss: 0.0645671859383583\n",
      "Generating Image Number: 15 for target class tensor([3]). Step 300, Loss: 0.059153422713279724\n",
      "Generating Image Number: 15 for target class tensor([3]). Step 350, Loss: 0.0533301867544651\n",
      "Generating Image Number: 15 for target class tensor([3]). Step 400, Loss: 0.04924335330724716\n",
      "Generating Image Number: 15 for target class tensor([3]). Step 450, Loss: 0.04626639932394028\n",
      "Generating Image Number: 16 for target class tensor([3]). Step 0, Loss: 44.709102630615234\n",
      "Generating Image Number: 16 for target class tensor([3]). Step 50, Loss: 56.00381088256836\n",
      "Generating Image Number: 16 for target class tensor([3]). Step 100, Loss: 52.936744689941406\n",
      "Generating Image Number: 16 for target class tensor([3]). Step 150, Loss: 52.007232666015625\n",
      "Generating Image Number: 16 for target class tensor([3]). Step 200, Loss: 51.66401672363281\n",
      "Generating Image Number: 16 for target class tensor([3]). Step 250, Loss: 51.333587646484375\n",
      "Generating Image Number: 16 for target class tensor([3]). Step 300, Loss: 50.93107604980469\n",
      "Generating Image Number: 16 for target class tensor([3]). Step 350, Loss: 50.44129180908203\n",
      "Generating Image Number: 16 for target class tensor([3]). Step 400, Loss: 33.1901741027832\n",
      "Generating Image Number: 16 for target class tensor([3]). Step 450, Loss: 32.190765380859375\n",
      "Generating Image Number: 17 for target class tensor([3]). Step 0, Loss: 25.576976776123047\n",
      "Generating Image Number: 17 for target class tensor([3]). Step 50, Loss: 3.5282161235809326\n",
      "Generating Image Number: 17 for target class tensor([3]). Step 100, Loss: 1.8570009469985962\n",
      "Generating Image Number: 17 for target class tensor([3]). Step 150, Loss: 0.6857829093933105\n",
      "Generating Image Number: 17 for target class tensor([3]). Step 200, Loss: 0.44314220547676086\n",
      "Generating Image Number: 17 for target class tensor([3]). Step 250, Loss: 0.2691340744495392\n",
      "Generating Image Number: 17 for target class tensor([3]). Step 300, Loss: 0.19559204578399658\n",
      "Generating Image Number: 17 for target class tensor([3]). Step 350, Loss: 0.14696909487247467\n",
      "Generating Image Number: 17 for target class tensor([3]). Step 400, Loss: 0.11432061344385147\n",
      "Generating Image Number: 17 for target class tensor([3]). Step 450, Loss: 0.09035564213991165\n",
      "Generating Image Number: 18 for target class tensor([3]). Step 0, Loss: 47.750511169433594\n",
      "Generating Image Number: 18 for target class tensor([3]). Step 50, Loss: 40.00920486450195\n",
      "Generating Image Number: 18 for target class tensor([3]). Step 100, Loss: 38.56010437011719\n",
      "Generating Image Number: 18 for target class tensor([3]). Step 150, Loss: 37.393272399902344\n",
      "Generating Image Number: 18 for target class tensor([3]). Step 200, Loss: 36.392303466796875\n",
      "Generating Image Number: 18 for target class tensor([3]). Step 250, Loss: 35.777557373046875\n",
      "Generating Image Number: 18 for target class tensor([3]). Step 300, Loss: 35.25762939453125\n",
      "Generating Image Number: 18 for target class tensor([3]). Step 350, Loss: 34.66082763671875\n",
      "Generating Image Number: 18 for target class tensor([3]). Step 400, Loss: 34.019317626953125\n",
      "Generating Image Number: 18 for target class tensor([3]). Step 450, Loss: 33.50181579589844\n",
      "Generating Image Number: 19 for target class tensor([3]). Step 0, Loss: 50.55542755126953\n",
      "Generating Image Number: 19 for target class tensor([3]). Step 50, Loss: 41.16284942626953\n",
      "Generating Image Number: 19 for target class tensor([3]). Step 100, Loss: 40.88282012939453\n",
      "Generating Image Number: 19 for target class tensor([3]). Step 150, Loss: 40.68585968017578\n",
      "Generating Image Number: 19 for target class tensor([3]). Step 200, Loss: 40.501625061035156\n",
      "Generating Image Number: 19 for target class tensor([3]). Step 250, Loss: 40.28889465332031\n",
      "Generating Image Number: 19 for target class tensor([3]). Step 300, Loss: 40.083404541015625\n",
      "Generating Image Number: 19 for target class tensor([3]). Step 350, Loss: 39.82408905029297\n",
      "Generating Image Number: 19 for target class tensor([3]). Step 400, Loss: 39.620697021484375\n",
      "Generating Image Number: 19 for target class tensor([3]). Step 450, Loss: 39.416107177734375\n",
      "Generating Image Number: 20 for target class tensor([3]). Step 0, Loss: 32.99726486206055\n",
      "Generating Image Number: 20 for target class tensor([3]). Step 50, Loss: 5.1251606941223145\n",
      "Generating Image Number: 20 for target class tensor([3]). Step 100, Loss: 1.888899326324463\n",
      "Generating Image Number: 20 for target class tensor([3]). Step 150, Loss: 0.8874576091766357\n",
      "Generating Image Number: 20 for target class tensor([3]). Step 200, Loss: 0.3537858724594116\n",
      "Generating Image Number: 20 for target class tensor([3]). Step 250, Loss: 0.18296372890472412\n",
      "Generating Image Number: 20 for target class tensor([3]). Step 300, Loss: 0.12771260738372803\n",
      "Generating Image Number: 20 for target class tensor([3]). Step 350, Loss: 0.10654893517494202\n",
      "Generating Image Number: 20 for target class tensor([3]). Step 400, Loss: 0.08455779403448105\n",
      "Generating Image Number: 20 for target class tensor([3]). Step 450, Loss: 0.07337484508752823\n"
     ]
    }
   ],
   "source": [
    "torch.manual_seed(300)\n",
    "latent_vectors = torch.randn(img_count, z_dim, 1, 1, requires_grad=True) # Start with 20 random noises\n",
    "class3_optimized_latent_vectors = recover_images(img_count, 3, latent_vectors)"
   ]
  },
  {
   "cell_type": "code",
   "execution_count": 24,
   "id": "ae6425a5-dd86-4e87-8112-883336345ac9",
   "metadata": {},
   "outputs": [],
   "source": [
    "z0_1 = class0_optimized_latent_vectors[0]\n",
    "z0_2 = class0_optimized_latent_vectors[1]\n",
    "z0_3 = class0_optimized_latent_vectors[2]"
   ]
  },
  {
   "cell_type": "code",
   "execution_count": 26,
   "id": "07f38b7d-14f6-4d63-9efa-cb96ec2e1d35",
   "metadata": {},
   "outputs": [
    {
     "name": "stdout",
     "output_type": "stream",
     "text": [
      "torch.Size([64, 64])\n"
     ]
    }
   ],
   "source": [
    "# Display the generated image\n",
    "img = gen(z0_1.to(device)).squeeze(dim=0).squeeze(dim=0)\n",
    "print(img.shape)"
   ]
  },
  {
   "cell_type": "code",
   "execution_count": 27,
   "id": "8cad57ff-7961-4078-9dd4-1e0b4879ff56",
   "metadata": {},
   "outputs": [
    {
     "data": {
      "text/plain": [
       "<matplotlib.image.AxesImage at 0x2311b3aa460>"
      ]
     },
     "execution_count": 27,
     "metadata": {},
     "output_type": "execute_result"
    },
    {
     "data": {
      "image/png": "[encoded data removed]",
      "text/plain": [
       "<Figure size 640x480 with 1 Axes>"
      ]
     },
     "metadata": {},
     "output_type": "display_data"
    }
   ],
   "source": [
    "plt.axis(False)\n",
    "plt.title('Recovered Image:')\n",
    "plt.imshow(img.cpu().detach(), cmap='gray')"
   ]
  },
  {
   "cell_type": "code",
   "execution_count": 28,
   "id": "52ecd67d-cb2d-44a3-b375-759d63db75b1",
   "metadata": {},
   "outputs": [],
   "source": [
    "                                                            # Dataset Loading\n",
    "# Load the .pkl files in as numpy arrays of pixels\n",
    "def load_tumor_data(file_path):\n",
    "    train_xs = []\n",
    "    train_ys = []\n",
    "    \"\"\" Load Digits Data from pickle data\n",
    "    return:\n",
    "    @xs: numpy.array, (n, c, w, h) \n",
    "    @ys: numpy.array, (n, ), 0-9\n",
    "    \"\"\"\n",
    "    with open(file_path, 'rb') as file:\n",
    "        data = pickle.load(file)\n",
    "        train_xs.append(data[\"data\"])\n",
    "        train_ys.append(data[\"labels\"])\n",
    "    train_xs = np.concatenate(train_xs, axis=0)\n",
    "    train_ys = np.concatenate(train_ys, axis=0)\n",
    "    \n",
    "    return train_xs, train_ys"
   ]
  },
  {
   "cell_type": "code",
   "execution_count": 29,
   "id": "ca72f62f-1eec-4b17-a8ce-fd66781f64f6",
   "metadata": {},
   "outputs": [],
   "source": [
    "# Custom Tumor Dataset\n",
    "class TumorDataset(data.Dataset):\n",
    "    def __init__(self, xs, ys, is_train=True):\n",
    "        self.xs = xs\n",
    "        self.ys = ys\n",
    "\n",
    "        if is_train is True:\n",
    "            self.transform = transforms.Compose([\n",
    "                transforms.ToPILImage(),\n",
    "                transforms.Resize((64, 64)),\n",
    "                transforms.ToTensor(),\n",
    "                transforms.Normalize(\n",
    "                    [0.5],\n",
    "                    [0.5]\n",
    "                )\n",
    "            ])\n",
    "        else:\n",
    "            self.transform = transforms.Compose([\n",
    "                transforms.ToPILImage(),\n",
    "                transforms.Resize((64, 64)),\n",
    "                transforms.ToTensor(),\n",
    "                transforms.Normalize(\n",
    "                    (0.4914, 0.4822, 0.4465),\n",
    "                    (0.2023, 0.1994, 0.2010)\n",
    "                )\n",
    "            ])\n",
    "\n",
    "    def __len__(self):\n",
    "        return len(self.xs)\n",
    "\n",
    "    def __getitem__(self, index):\n",
    "        img = self.xs[index]\n",
    "        #print(img.shape)\n",
    "        label = self.ys[index]\n",
    "\n",
    "        img = img.transpose((1, 2, 0)).astype(np.uint8)\n",
    "        img = self.transform(img)\n",
    "\n",
    "        img = torch.FloatTensor(img)\n",
    "        label = torch.LongTensor([label])[0]\n",
    "        return img, label"
   ]
  },
  {
   "cell_type": "code",
   "execution_count": 30,
   "id": "ceb91588-ef69-4373-b33f-74aed6c246bb",
   "metadata": {},
   "outputs": [],
   "source": [
    "def create_dataset(train_xs, train_ys):\n",
    "    tumor_dataset = TumorDataset(train_xs, train_ys, is_train=True)\n",
    "\n",
    "    return tumor_dataset"
   ]
  },
  {
   "cell_type": "code",
   "execution_count": 31,
   "id": "0415fba0-830c-42c6-bbde-c6958e779fbb",
   "metadata": {},
   "outputs": [],
   "source": [
    "def create_dataloader(dataset):\n",
    "    dataloader = DataLoader(dataset=dataset, batch_size=128, shuffle=True)\n",
    "\n",
    "    return dataloader"
   ]
  },
  {
   "cell_type": "code",
   "execution_count": 32,
   "id": "726d4995-5133-4037-ab0e-f2705470cdc9",
   "metadata": {},
   "outputs": [
    {
     "name": "stdout",
     "output_type": "stream",
     "text": [
      "(13927, 1, 32, 32)\n",
      "<class 'numpy.ndarray'>\n"
     ]
    }
   ],
   "source": [
    "# Load in the pickle dataset file\n",
    "train_xs, train_ys = load_tumor_data('datasets/Tumor/tumor4train.pkl')\n",
    "#train_xs = train_xs[:, 1, :, :]\n",
    "#train_xs = np.expand_dims(train_xs, axis=1)\n",
    "train_xs = train_xs.mean(axis=1, keepdims=True)\n",
    "print(train_xs.shape)\n",
    "print(type(train_xs))"
   ]
  },
  {
   "cell_type": "code",
   "execution_count": 33,
   "id": "a684b01a-eb4a-4210-9f59-d613085a404a",
   "metadata": {},
   "outputs": [],
   "source": [
    "# Create the dataset\n",
    "tumor_dataset = create_dataset(train_xs, train_ys)"
   ]
  },
  {
   "cell_type": "code",
   "execution_count": 34,
   "id": "193f07cc-d34f-425e-aa08-62b6d6adbad6",
   "metadata": {},
   "outputs": [],
   "source": [
    "def visualize_image(image_x):\n",
    "    # We have to visualize by reverting the normalization (just for visualization).\n",
    "    mean = torch.tensor([0.5])\n",
    "    std = torch.tensor([0.5])\n",
    "\n",
    "    image = image_x * std + mean  # Denormalize the image\n",
    "\n",
    "    image = torch.clamp(image, 0, 1) # Clip values to [0, 1] to ensure valid range for display\n",
    "\n",
    "    # Permute the image to (H, W, C) for matplotlib\n",
    "    \n",
    "    image = image.permute(1, 2, 0)\n",
    "\n",
    "    plt.imshow(image, cmap='gray')"
   ]
  },
  {
   "cell_type": "code",
   "execution_count": 35,
   "id": "16e93c17-a89b-46a2-8198-71e66e370f4f",
   "metadata": {},
   "outputs": [
    {
     "name": "stdout",
     "output_type": "stream",
     "text": [
      "torch.Size([1, 64, 64])\n"
     ]
    },
    {
     "data": {
      "image/png": "[encoded data removed]",
      "text/plain": [
       "<Figure size 640x480 with 1 Axes>"
      ]
     },
     "metadata": {},
     "output_type": "display_data"
    }
   ],
   "source": [
    "# Visualize the first tumor sample. \n",
    "image_x, image_y = tumor_dataset[7000]\n",
    "print(image_x.shape)\n",
    "visualize_image(image_x)"
   ]
  },
  {
   "cell_type": "code",
   "execution_count": 36,
   "id": "60e2da47-7cb6-493e-aeda-aa80d7965de7",
   "metadata": {},
   "outputs": [],
   "source": [
    "from scipy.spatial.distance import cosine"
   ]
  },
  {
   "cell_type": "code",
   "execution_count": 37,
   "id": "5a7937e5-b808-4b3e-8288-75dcd9862340",
   "metadata": {},
   "outputs": [],
   "source": [
    "# Get the feature embeddings\n",
    "tfcnn_model = target_model = load_target_model(base_net='TFCNN', n_classes=4, path='saved models/fedavg_global_model.pth').to(device)\n",
    "model_embeddings = tfcnn_model.encoder.to(device)"
   ]
  },
  {
   "cell_type": "code",
   "execution_count": 38,
   "id": "737e3d92-45b6-45f6-9bf2-d51f379d6ac8",
   "metadata": {},
   "outputs": [],
   "source": [
    "# Preprocessing\n",
    "preprocess = transforms.Compose([\n",
    "    transforms.Resize(256),\n",
    "    transforms.CenterCrop(224),\n",
    "    transforms.ToTensor(),\n",
    "])"
   ]
  },
  {
   "cell_type": "code",
   "execution_count": 39,
   "id": "babb1015-bdfb-439b-bea1-81f9f50dd74e",
   "metadata": {},
   "outputs": [],
   "source": [
    "def get_feature(img):\n",
    "    with torch.no_grad():\n",
    "        features = model_embeddings(img).squeeze()\n",
    "    return features.cpu().numpy()"
   ]
  },
  {
   "cell_type": "code",
   "execution_count": 40,
   "id": "79f38654-6670-440d-a322-b2cae18a71d8",
   "metadata": {},
   "outputs": [
    {
     "data": {
      "text/plain": [
       "torch.Size([1, 64, 64])"
      ]
     },
     "execution_count": 40,
     "metadata": {},
     "output_type": "execute_result"
    }
   ],
   "source": [
    "# Send an original image through the model\n",
    "image_x, image_y = tumor_dataset[10]\n",
    "image_x.shape"
   ]
  },
  {
   "cell_type": "code",
   "execution_count": 41,
   "id": "a4a2659e-dcaa-4d4a-b5a5-06b363ce6534",
   "metadata": {},
   "outputs": [],
   "source": [
    "image_x = image_x.unsqueeze(dim=0)"
   ]
  },
  {
   "cell_type": "code",
   "execution_count": 42,
   "id": "14348bfc-5988-48f0-88cf-4761d7a99d89",
   "metadata": {},
   "outputs": [
    {
     "data": {
      "text/plain": [
       "torch.Size([1, 1, 64, 64])"
      ]
     },
     "execution_count": 42,
     "metadata": {},
     "output_type": "execute_result"
    }
   ],
   "source": [
    "image_x.shape"
   ]
  },
  {
   "cell_type": "code",
   "execution_count": 43,
   "id": "66160253-9543-4aba-bb81-031d51ef9623",
   "metadata": {},
   "outputs": [
    {
     "data": {
      "text/plain": [
       "torch.Size([1, 3, 64, 64])"
      ]
     },
     "execution_count": 43,
     "metadata": {},
     "output_type": "execute_result"
    }
   ],
   "source": [
    "image_x = image_x.repeat(1, 3, 1, 1)\n",
    "image_x = image_x.to(device)\n",
    "image_x.shape"
   ]
  },
  {
   "cell_type": "code",
   "execution_count": 44,
   "id": "f615c7d3-2dab-425d-81e1-2595ec59e230",
   "metadata": {},
   "outputs": [
    {
     "data": {
      "text/plain": [
       "(4096,)"
      ]
     },
     "execution_count": 44,
     "metadata": {},
     "output_type": "execute_result"
    }
   ],
   "source": [
    "features = get_feature(image_x)\n",
    "features.shape"
   ]
  },
  {
   "cell_type": "code",
   "execution_count": 45,
   "id": "31b9ddc9-3fc8-4a47-bfc7-74a6df27d672",
   "metadata": {},
   "outputs": [],
   "source": [
    "class0_original_images = []\n",
    "class1_original_images = []\n",
    "class2_original_images = []\n",
    "class3_original_images = []\n",
    "target_num = 20 # 20 images for each class"
   ]
  },
  {
   "cell_type": "code",
   "execution_count": 46,
   "id": "e804c948-2dc8-41df-a633-113300baf12a",
   "metadata": {},
   "outputs": [],
   "source": [
    "for i in range(len(tumor_dataset)):\n",
    "    img_x, img_y = tumor_dataset[i]\n",
    "\n",
    "    if img_y == 0:\n",
    "        if len(class0_original_images) < target_num:\n",
    "            class0_original_images.append(img_x)\n",
    "    elif img_y == 1:\n",
    "        if len(class1_original_images) < target_num:\n",
    "            class1_original_images.append(img_x)\n",
    "    elif img_y == 2:\n",
    "        if len(class2_original_images) < target_num:\n",
    "            class2_original_images.append(img_x)\n",
    "    elif img_y == 3:\n",
    "        if len(class3_original_images) < target_num:\n",
    "            class3_original_images.append(img_x)"
   ]
  },
  {
   "cell_type": "code",
   "execution_count": 47,
   "id": "ef07c896-c4cd-48da-9e59-c9d7bd90a4e8",
   "metadata": {},
   "outputs": [
    {
     "data": {
      "text/plain": [
       "20"
      ]
     },
     "execution_count": 47,
     "metadata": {},
     "output_type": "execute_result"
    }
   ],
   "source": [
    "len(class3_original_images)"
   ]
  },
  {
   "cell_type": "code",
   "execution_count": 48,
   "id": "e102404a-68a3-40c5-99a7-45813eb87f20",
   "metadata": {},
   "outputs": [
    {
     "data": {
      "text/plain": [
       "torch.Size([1, 3, 64, 64])"
      ]
     },
     "execution_count": 48,
     "metadata": {},
     "output_type": "execute_result"
    }
   ],
   "source": [
    "# Testing the cosine similarity\n",
    "class1_original_image = class1_original_images[8]\n",
    "class1_original_image = class1_original_image.unsqueeze(dim=0).to(device)\n",
    "class1_original_image = class1_original_image.repeat(1, 3, 1, 1)\n",
    "class1_original_image.shape"
   ]
  },
  {
   "cell_type": "code",
   "execution_count": 49,
   "id": "d7fe9c85-2c83-4580-be7d-32833b706948",
   "metadata": {},
   "outputs": [],
   "source": [
    "fake1 = class1_optimized_latent_vectors[8]\n",
    "fake1_image = gen(fake1.to(device))\n",
    "fake1_image = fake1_image.repeat(1, 3, 1, 1)"
   ]
  },
  {
   "cell_type": "code",
   "execution_count": 50,
   "id": "74647152-cdcb-4593-a88f-d3ac43fd97d3",
   "metadata": {},
   "outputs": [
    {
     "data": {
      "text/plain": [
       "torch.Size([1, 3, 64, 64])"
      ]
     },
     "execution_count": 50,
     "metadata": {},
     "output_type": "execute_result"
    }
   ],
   "source": [
    "fake1_image.shape"
   ]
  },
  {
   "cell_type": "code",
   "execution_count": 88,
   "id": "b55933fb-14aa-47c2-bdb7-80844c1cc377",
   "metadata": {},
   "outputs": [
    {
     "name": "stdout",
     "output_type": "stream",
     "text": [
      "torch.Size([1, 64, 64])\n"
     ]
    },
    {
     "data": {
      "image/png": "[encoded data removed]",
      "text/plain": [
       "<Figure size 640x480 with 1 Axes>"
      ]
     },
     "metadata": {},
     "output_type": "display_data"
    }
   ],
   "source": [
    "fake = class2_optimized_latent_vectors[14]\n",
    "fake_img = gen(fake.to(device)).squeeze(dim=0)\n",
    "print(fake_img.shape)\n",
    "visualize_image(fake_img.detach().cpu())"
   ]
  },
  {
   "cell_type": "code",
   "execution_count": 52,
   "id": "e88f6396-0ef2-45f5-96e0-6048be01af25",
   "metadata": {},
   "outputs": [],
   "source": [
    "# Get the features of the images\n",
    "features_original = get_feature(class1_original_image)\n",
    "features_fake = get_feature(fake1_image)"
   ]
  },
  {
   "cell_type": "code",
   "execution_count": 53,
   "id": "b54e2bca-5f2b-41ea-b810-15d1f9d30f86",
   "metadata": {},
   "outputs": [],
   "source": [
    "# Compute cosine similarity\n",
    "similarity = 1 - cosine(features_original, features_fake)"
   ]
  },
  {
   "cell_type": "code",
   "execution_count": 54,
   "id": "983c7e35-27ee-453c-9356-cb9a84fdd4a3",
   "metadata": {},
   "outputs": [
    {
     "data": {
      "text/plain": [
       "np.float32(0.5184297)"
      ]
     },
     "execution_count": 54,
     "metadata": {},
     "output_type": "execute_result"
    }
   ],
   "source": [
    "similarity"
   ]
  },
  {
   "cell_type": "code",
   "execution_count": 55,
   "id": "e65e04e8-52b7-4cf2-876c-d9b07a435ec9",
   "metadata": {},
   "outputs": [],
   "source": [
    "def calculate_class0_sim():\n",
    "    similarities = []\n",
    "    for i in range(0, 20):\n",
    "        class0_original = class0_original_images[i].unsqueeze(dim=0).to(device)\n",
    "        class0_original = class0_original.repeat(1, 3, 1, 1)\n",
    "\n",
    "        class0_fake = class0_optimized_latent_vectors[i]\n",
    "        class0_fake_img = gen(class0_fake.to(device))\n",
    "        class0_fake_img = class0_fake_img.repeat(1, 3, 1, 1)\n",
    "\n",
    "        features_original = get_feature(class0_original)\n",
    "        features_fake = get_feature(class0_fake_img)\n",
    "\n",
    "        cosine_similarity = 1 - cosine(features_original, features_fake)\n",
    "\n",
    "        similarities.append(cosine_similarity)\n",
    "        \n",
    "    return similarities"
   ]
  },
  {
   "cell_type": "code",
   "execution_count": 56,
   "id": "10d8f579-0b80-4157-b59b-7b92be9e52f2",
   "metadata": {},
   "outputs": [],
   "source": [
    "def calculate_class1_sim():\n",
    "    similarities = []\n",
    "    for i in range(0, 20):\n",
    "        class1_original = class1_original_images[i].unsqueeze(dim=0).to(device)\n",
    "        class1_original = class1_original.repeat(1, 3, 1, 1)\n",
    "\n",
    "        class1_fake = class1_optimized_latent_vectors[i]\n",
    "        class1_fake_img = gen(class1_fake.to(device))\n",
    "        class1_fake_img = class1_fake_img.repeat(1, 3, 1, 1)\n",
    "\n",
    "        features_original = get_feature(class1_original)\n",
    "        features_fake = get_feature(class1_fake_img)\n",
    "\n",
    "        cosine_similarity = 1 - cosine(features_original, features_fake)\n",
    "        similarities.append(cosine_similarity)\n",
    "\n",
    "    return similarities"
   ]
  },
  {
   "cell_type": "code",
   "execution_count": 57,
   "id": "1bbdc999-fa6d-4005-b785-3c54a7bd89ee",
   "metadata": {},
   "outputs": [],
   "source": [
    "def calculate_class2_sim():\n",
    "    similarities = []\n",
    "    for i in range(0, 20):\n",
    "        class2_original = class2_original_images[i].unsqueeze(dim=0).to(device)\n",
    "        class2_original = class2_original.repeat(1, 3, 1, 1)\n",
    "\n",
    "        class2_fake = class2_optimized_latent_vectors[i]\n",
    "        class2_fake_img = gen(class2_fake.to(device))\n",
    "        class2_fake_img = class2_fake_img.repeat(1, 3, 1, 1)\n",
    "\n",
    "        features_original = get_feature(class2_original)\n",
    "        features_fake = get_feature(class2_fake_img)\n",
    "\n",
    "        cosine_similarity = 1 - cosine(features_original, features_fake)\n",
    "        similarities.append(cosine_similarity)\n",
    "\n",
    "    return similarities"
   ]
  },
  {
   "cell_type": "code",
   "execution_count": 58,
   "id": "33cb8de1-5a87-4dd4-8fc2-d3f27d6ddc9a",
   "metadata": {},
   "outputs": [],
   "source": [
    "def calculate_class3_sim():\n",
    "    similarities = []\n",
    "    for i in range(0, 20):\n",
    "        class3_original = class3_original_images[i].unsqueeze(dim=0).to(device)\n",
    "        class3_original = class3_original.repeat(1, 3, 1, 1)\n",
    "\n",
    "        class3_fake = class3_optimized_latent_vectors[i]\n",
    "        class3_fake_img = gen(class3_fake.to(device))\n",
    "        class3_fake_img = class3_fake_img.repeat(1, 3, 1, 1)\n",
    "\n",
    "        features_original = get_feature(class3_original)\n",
    "        features_fake = get_feature(class3_fake_img)\n",
    "\n",
    "        cosine_similarity = 1 - cosine(features_original, features_fake)\n",
    "        similarities.append(cosine_similarity)\n",
    "\n",
    "    return similarities"
   ]
  },
  {
   "cell_type": "code",
   "execution_count": 59,
   "id": "7868f175-5845-4ee4-b4cf-1c89513375ec",
   "metadata": {},
   "outputs": [],
   "source": [
    "class0_sims = calculate_class0_sim()\n",
    "class1_sims = calculate_class0_sim()\n",
    "class2_sims = calculate_class0_sim()\n",
    "class3_sims = calculate_class0_sim()"
   ]
  },
  {
   "cell_type": "code",
   "execution_count": 60,
   "id": "bbf4597d-a583-4204-a3ce-9085936e0189",
   "metadata": {},
   "outputs": [
    {
     "data": {
      "text/plain": [
       "[np.float32(0.5279326),\n",
       " np.float32(0.56403035),\n",
       " np.float32(0.428232),\n",
       " np.float32(0.4404956),\n",
       " np.float32(0.3553421),\n",
       " np.float32(0.44561177),\n",
       " np.float32(0.592288),\n",
       " np.float32(0.64224756),\n",
       " np.float32(0.44124168),\n",
       " np.float32(0.5033719),\n",
       " np.float32(0.6026654),\n",
       " np.float32(0.021516204),\n",
       " np.float32(0.4643923),\n",
       " np.float32(0.54280084),\n",
       " np.float32(0.5798246),\n",
       " np.float32(0.6006012),\n",
       " np.float32(0.5385046),\n",
       " np.float32(0.023354113),\n",
       " np.float32(0.6491569),\n",
       " np.float32(0.585007)]"
      ]
     },
     "execution_count": 60,
     "metadata": {},
     "output_type": "execute_result"
    }
   ],
   "source": [
    "class0_sims"
   ]
  },
  {
   "cell_type": "code",
   "execution_count": 61,
   "id": "acb9d480-a58f-4ce6-8973-eb9c8d6e7253",
   "metadata": {},
   "outputs": [
    {
     "data": {
      "text/plain": [
       "[np.float32(0.5279326),\n",
       " np.float32(0.5640304),\n",
       " np.float32(0.42823207),\n",
       " np.float32(0.4404955),\n",
       " np.float32(0.3553421),\n",
       " np.float32(0.44561177),\n",
       " np.float32(0.592288),\n",
       " np.float32(0.64224756),\n",
       " np.float32(0.44124168),\n",
       " np.float32(0.5033719),\n",
       " np.float32(0.60266566),\n",
       " np.float32(0.021516263),\n",
       " np.float32(0.46439326),\n",
       " np.float32(0.5428008),\n",
       " np.float32(0.5798246),\n",
       " np.float32(0.600601),\n",
       " np.float32(0.5385046),\n",
       " np.float32(0.023354053),\n",
       " np.float32(0.6491569),\n",
       " np.float32(0.58500695)]"
      ]
     },
     "execution_count": 61,
     "metadata": {},
     "output_type": "execute_result"
    }
   ],
   "source": [
    "class3_sims"
   ]
  },
  {
   "cell_type": "code",
   "execution_count": 62,
   "id": "58dc103d-1c30-473a-adc3-fcd5ca5100a0",
   "metadata": {},
   "outputs": [
    {
     "ename": "FileNotFoundError",
     "evalue": "[Errno 2] No such file or directory: 'output/fedvg.png'",
     "output_type": "error",
     "traceback": [
      "\u001b[1;31m---------------------------------------------------------------------------\u001b[0m",
      "\u001b[1;31mFileNotFoundError\u001b[0m                         Traceback (most recent call last)",
      "Cell \u001b[1;32mIn[62], line 43\u001b[0m\n\u001b[0;32m     41\u001b[0m plt\u001b[38;5;241m.\u001b[39mtight_layout()\n\u001b[0;32m     42\u001b[0m \u001b[38;5;66;03m# Save the plot to a file\u001b[39;00m\n\u001b[1;32m---> 43\u001b[0m \u001b[43mplt\u001b[49m\u001b[38;5;241;43m.\u001b[39;49m\u001b[43msavefig\u001b[49m\u001b[43m(\u001b[49m\u001b[38;5;124;43m'\u001b[39;49m\u001b[38;5;124;43moutput/fedvg.png\u001b[39;49m\u001b[38;5;124;43m'\u001b[39;49m\u001b[43m,\u001b[49m\u001b[43m \u001b[49m\u001b[43mdpi\u001b[49m\u001b[38;5;241;43m=\u001b[39;49m\u001b[38;5;241;43m300\u001b[39;49m\u001b[43m,\u001b[49m\u001b[43m \u001b[49m\u001b[43mbbox_inches\u001b[49m\u001b[38;5;241;43m=\u001b[39;49m\u001b[38;5;124;43m'\u001b[39;49m\u001b[38;5;124;43mtight\u001b[39;49m\u001b[38;5;124;43m'\u001b[39;49m\u001b[43m)\u001b[49m  \u001b[38;5;66;03m# Save as a PNG file with high resolution\u001b[39;00m\n\u001b[0;32m     45\u001b[0m \u001b[38;5;66;03m# Show the plot\u001b[39;00m\n\u001b[0;32m     46\u001b[0m plt\u001b[38;5;241m.\u001b[39mshow()\n",
      "File \u001b[1;32m~\\AppData\\Local\\Programs\\Python\\Python39\\lib\\site-packages\\matplotlib\\pyplot.py:1228\u001b[0m, in \u001b[0;36msavefig\u001b[1;34m(*args, **kwargs)\u001b[0m\n\u001b[0;32m   1225\u001b[0m fig \u001b[38;5;241m=\u001b[39m gcf()\n\u001b[0;32m   1226\u001b[0m \u001b[38;5;66;03m# savefig default implementation has no return, so mypy is unhappy\u001b[39;00m\n\u001b[0;32m   1227\u001b[0m \u001b[38;5;66;03m# presumably this is here because subclasses can return?\u001b[39;00m\n\u001b[1;32m-> 1228\u001b[0m res \u001b[38;5;241m=\u001b[39m fig\u001b[38;5;241m.\u001b[39msavefig(\u001b[38;5;241m*\u001b[39margs, \u001b[38;5;241m*\u001b[39m\u001b[38;5;241m*\u001b[39mkwargs)  \u001b[38;5;66;03m# type: ignore[func-returns-value]\u001b[39;00m\n\u001b[0;32m   1229\u001b[0m fig\u001b[38;5;241m.\u001b[39mcanvas\u001b[38;5;241m.\u001b[39mdraw_idle()  \u001b[38;5;66;03m# Need this if 'transparent=True', to reset colors.\u001b[39;00m\n\u001b[0;32m   1230\u001b[0m \u001b[38;5;28;01mreturn\u001b[39;00m res\n",
      "File \u001b[1;32m~\\AppData\\Local\\Programs\\Python\\Python39\\lib\\site-packages\\matplotlib\\figure.py:3395\u001b[0m, in \u001b[0;36mFigure.savefig\u001b[1;34m(self, fname, transparent, **kwargs)\u001b[0m\n\u001b[0;32m   3393\u001b[0m     \u001b[38;5;28;01mfor\u001b[39;00m ax \u001b[38;5;129;01min\u001b[39;00m \u001b[38;5;28mself\u001b[39m\u001b[38;5;241m.\u001b[39maxes:\n\u001b[0;32m   3394\u001b[0m         _recursively_make_axes_transparent(stack, ax)\n\u001b[1;32m-> 3395\u001b[0m \u001b[38;5;28mself\u001b[39m\u001b[38;5;241m.\u001b[39mcanvas\u001b[38;5;241m.\u001b[39mprint_figure(fname, \u001b[38;5;241m*\u001b[39m\u001b[38;5;241m*\u001b[39mkwargs)\n",
      "File \u001b[1;32m~\\AppData\\Local\\Programs\\Python\\Python39\\lib\\site-packages\\matplotlib\\backend_bases.py:2204\u001b[0m, in \u001b[0;36mFigureCanvasBase.print_figure\u001b[1;34m(self, filename, dpi, facecolor, edgecolor, orientation, format, bbox_inches, pad_inches, bbox_extra_artists, backend, **kwargs)\u001b[0m\n\u001b[0;32m   2200\u001b[0m \u001b[38;5;28;01mtry\u001b[39;00m:\n\u001b[0;32m   2201\u001b[0m     \u001b[38;5;66;03m# _get_renderer may change the figure dpi (as vector formats\u001b[39;00m\n\u001b[0;32m   2202\u001b[0m     \u001b[38;5;66;03m# force the figure dpi to 72), so we need to set it again here.\u001b[39;00m\n\u001b[0;32m   2203\u001b[0m     \u001b[38;5;28;01mwith\u001b[39;00m cbook\u001b[38;5;241m.\u001b[39m_setattr_cm(\u001b[38;5;28mself\u001b[39m\u001b[38;5;241m.\u001b[39mfigure, dpi\u001b[38;5;241m=\u001b[39mdpi):\n\u001b[1;32m-> 2204\u001b[0m         result \u001b[38;5;241m=\u001b[39m print_method(\n\u001b[0;32m   2205\u001b[0m             filename,\n\u001b[0;32m   2206\u001b[0m             facecolor\u001b[38;5;241m=\u001b[39mfacecolor,\n\u001b[0;32m   2207\u001b[0m             edgecolor\u001b[38;5;241m=\u001b[39medgecolor,\n\u001b[0;32m   2208\u001b[0m             orientation\u001b[38;5;241m=\u001b[39morientation,\n\u001b[0;32m   2209\u001b[0m             bbox_inches_restore\u001b[38;5;241m=\u001b[39m_bbox_inches_restore,\n\u001b[0;32m   2210\u001b[0m             \u001b[38;5;241m*\u001b[39m\u001b[38;5;241m*\u001b[39mkwargs)\n\u001b[0;32m   2211\u001b[0m \u001b[38;5;28;01mfinally\u001b[39;00m:\n\u001b[0;32m   2212\u001b[0m     \u001b[38;5;28;01mif\u001b[39;00m bbox_inches \u001b[38;5;129;01mand\u001b[39;00m restore_bbox:\n",
      "File \u001b[1;32m~\\AppData\\Local\\Programs\\Python\\Python39\\lib\\site-packages\\matplotlib\\backend_bases.py:2054\u001b[0m, in \u001b[0;36mFigureCanvasBase._switch_canvas_and_return_print_method.<locals>.<lambda>\u001b[1;34m(*args, **kwargs)\u001b[0m\n\u001b[0;32m   2050\u001b[0m     optional_kws \u001b[38;5;241m=\u001b[39m {  \u001b[38;5;66;03m# Passed by print_figure for other renderers.\u001b[39;00m\n\u001b[0;32m   2051\u001b[0m         \u001b[38;5;124m\"\u001b[39m\u001b[38;5;124mdpi\u001b[39m\u001b[38;5;124m\"\u001b[39m, \u001b[38;5;124m\"\u001b[39m\u001b[38;5;124mfacecolor\u001b[39m\u001b[38;5;124m\"\u001b[39m, \u001b[38;5;124m\"\u001b[39m\u001b[38;5;124medgecolor\u001b[39m\u001b[38;5;124m\"\u001b[39m, \u001b[38;5;124m\"\u001b[39m\u001b[38;5;124morientation\u001b[39m\u001b[38;5;124m\"\u001b[39m,\n\u001b[0;32m   2052\u001b[0m         \u001b[38;5;124m\"\u001b[39m\u001b[38;5;124mbbox_inches_restore\u001b[39m\u001b[38;5;124m\"\u001b[39m}\n\u001b[0;32m   2053\u001b[0m     skip \u001b[38;5;241m=\u001b[39m optional_kws \u001b[38;5;241m-\u001b[39m {\u001b[38;5;241m*\u001b[39minspect\u001b[38;5;241m.\u001b[39msignature(meth)\u001b[38;5;241m.\u001b[39mparameters}\n\u001b[1;32m-> 2054\u001b[0m     print_method \u001b[38;5;241m=\u001b[39m functools\u001b[38;5;241m.\u001b[39mwraps(meth)(\u001b[38;5;28;01mlambda\u001b[39;00m \u001b[38;5;241m*\u001b[39margs, \u001b[38;5;241m*\u001b[39m\u001b[38;5;241m*\u001b[39mkwargs: meth(\n\u001b[0;32m   2055\u001b[0m         \u001b[38;5;241m*\u001b[39margs, \u001b[38;5;241m*\u001b[39m\u001b[38;5;241m*\u001b[39m{k: v \u001b[38;5;28;01mfor\u001b[39;00m k, v \u001b[38;5;129;01min\u001b[39;00m kwargs\u001b[38;5;241m.\u001b[39mitems() \u001b[38;5;28;01mif\u001b[39;00m k \u001b[38;5;129;01mnot\u001b[39;00m \u001b[38;5;129;01min\u001b[39;00m skip}))\n\u001b[0;32m   2056\u001b[0m \u001b[38;5;28;01melse\u001b[39;00m:  \u001b[38;5;66;03m# Let third-parties do as they see fit.\u001b[39;00m\n\u001b[0;32m   2057\u001b[0m     print_method \u001b[38;5;241m=\u001b[39m meth\n",
      "File \u001b[1;32m~\\AppData\\Local\\Programs\\Python\\Python39\\lib\\site-packages\\matplotlib\\backends\\backend_agg.py:496\u001b[0m, in \u001b[0;36mFigureCanvasAgg.print_png\u001b[1;34m(self, filename_or_obj, metadata, pil_kwargs)\u001b[0m\n\u001b[0;32m    449\u001b[0m \u001b[38;5;28;01mdef\u001b[39;00m\u001b[38;5;250m \u001b[39m\u001b[38;5;21mprint_png\u001b[39m(\u001b[38;5;28mself\u001b[39m, filename_or_obj, \u001b[38;5;241m*\u001b[39m, metadata\u001b[38;5;241m=\u001b[39m\u001b[38;5;28;01mNone\u001b[39;00m, pil_kwargs\u001b[38;5;241m=\u001b[39m\u001b[38;5;28;01mNone\u001b[39;00m):\n\u001b[0;32m    450\u001b[0m \u001b[38;5;250m    \u001b[39m\u001b[38;5;124;03m\"\"\"\u001b[39;00m\n\u001b[0;32m    451\u001b[0m \u001b[38;5;124;03m    Write the figure to a PNG file.\u001b[39;00m\n\u001b[0;32m    452\u001b[0m \n\u001b[1;32m   (...)\u001b[0m\n\u001b[0;32m    494\u001b[0m \u001b[38;5;124;03m        *metadata*, including the default 'Software' key.\u001b[39;00m\n\u001b[0;32m    495\u001b[0m \u001b[38;5;124;03m    \"\"\"\u001b[39;00m\n\u001b[1;32m--> 496\u001b[0m     \u001b[38;5;28;43mself\u001b[39;49m\u001b[38;5;241;43m.\u001b[39;49m\u001b[43m_print_pil\u001b[49m\u001b[43m(\u001b[49m\u001b[43mfilename_or_obj\u001b[49m\u001b[43m,\u001b[49m\u001b[43m \u001b[49m\u001b[38;5;124;43m\"\u001b[39;49m\u001b[38;5;124;43mpng\u001b[39;49m\u001b[38;5;124;43m\"\u001b[39;49m\u001b[43m,\u001b[49m\u001b[43m \u001b[49m\u001b[43mpil_kwargs\u001b[49m\u001b[43m,\u001b[49m\u001b[43m \u001b[49m\u001b[43mmetadata\u001b[49m\u001b[43m)\u001b[49m\n",
      "File \u001b[1;32m~\\AppData\\Local\\Programs\\Python\\Python39\\lib\\site-packages\\matplotlib\\backends\\backend_agg.py:445\u001b[0m, in \u001b[0;36mFigureCanvasAgg._print_pil\u001b[1;34m(self, filename_or_obj, fmt, pil_kwargs, metadata)\u001b[0m\n\u001b[0;32m    440\u001b[0m \u001b[38;5;250m\u001b[39m\u001b[38;5;124;03m\"\"\"\u001b[39;00m\n\u001b[0;32m    441\u001b[0m \u001b[38;5;124;03mDraw the canvas, then save it using `.image.imsave` (to which\u001b[39;00m\n\u001b[0;32m    442\u001b[0m \u001b[38;5;124;03m*pil_kwargs* and *metadata* are forwarded).\u001b[39;00m\n\u001b[0;32m    443\u001b[0m \u001b[38;5;124;03m\"\"\"\u001b[39;00m\n\u001b[0;32m    444\u001b[0m FigureCanvasAgg\u001b[38;5;241m.\u001b[39mdraw(\u001b[38;5;28mself\u001b[39m)\n\u001b[1;32m--> 445\u001b[0m \u001b[43mmpl\u001b[49m\u001b[38;5;241;43m.\u001b[39;49m\u001b[43mimage\u001b[49m\u001b[38;5;241;43m.\u001b[39;49m\u001b[43mimsave\u001b[49m\u001b[43m(\u001b[49m\n\u001b[0;32m    446\u001b[0m \u001b[43m    \u001b[49m\u001b[43mfilename_or_obj\u001b[49m\u001b[43m,\u001b[49m\u001b[43m \u001b[49m\u001b[38;5;28;43mself\u001b[39;49m\u001b[38;5;241;43m.\u001b[39;49m\u001b[43mbuffer_rgba\u001b[49m\u001b[43m(\u001b[49m\u001b[43m)\u001b[49m\u001b[43m,\u001b[49m\u001b[43m \u001b[49m\u001b[38;5;28;43mformat\u001b[39;49m\u001b[38;5;241;43m=\u001b[39;49m\u001b[43mfmt\u001b[49m\u001b[43m,\u001b[49m\u001b[43m \u001b[49m\u001b[43morigin\u001b[49m\u001b[38;5;241;43m=\u001b[39;49m\u001b[38;5;124;43m\"\u001b[39;49m\u001b[38;5;124;43mupper\u001b[39;49m\u001b[38;5;124;43m\"\u001b[39;49m\u001b[43m,\u001b[49m\n\u001b[0;32m    447\u001b[0m \u001b[43m    \u001b[49m\u001b[43mdpi\u001b[49m\u001b[38;5;241;43m=\u001b[39;49m\u001b[38;5;28;43mself\u001b[39;49m\u001b[38;5;241;43m.\u001b[39;49m\u001b[43mfigure\u001b[49m\u001b[38;5;241;43m.\u001b[39;49m\u001b[43mdpi\u001b[49m\u001b[43m,\u001b[49m\u001b[43m \u001b[49m\u001b[43mmetadata\u001b[49m\u001b[38;5;241;43m=\u001b[39;49m\u001b[43mmetadata\u001b[49m\u001b[43m,\u001b[49m\u001b[43m \u001b[49m\u001b[43mpil_kwargs\u001b[49m\u001b[38;5;241;43m=\u001b[39;49m\u001b[43mpil_kwargs\u001b[49m\u001b[43m)\u001b[49m\n",
      "File \u001b[1;32m~\\AppData\\Local\\Programs\\Python\\Python39\\lib\\site-packages\\matplotlib\\image.py:1676\u001b[0m, in \u001b[0;36mimsave\u001b[1;34m(fname, arr, vmin, vmax, cmap, format, origin, dpi, metadata, pil_kwargs)\u001b[0m\n\u001b[0;32m   1674\u001b[0m pil_kwargs\u001b[38;5;241m.\u001b[39msetdefault(\u001b[38;5;124m\"\u001b[39m\u001b[38;5;124mformat\u001b[39m\u001b[38;5;124m\"\u001b[39m, \u001b[38;5;28mformat\u001b[39m)\n\u001b[0;32m   1675\u001b[0m pil_kwargs\u001b[38;5;241m.\u001b[39msetdefault(\u001b[38;5;124m\"\u001b[39m\u001b[38;5;124mdpi\u001b[39m\u001b[38;5;124m\"\u001b[39m, (dpi, dpi))\n\u001b[1;32m-> 1676\u001b[0m image\u001b[38;5;241m.\u001b[39msave(fname, \u001b[38;5;241m*\u001b[39m\u001b[38;5;241m*\u001b[39mpil_kwargs)\n",
      "File \u001b[1;32m~\\AppData\\Local\\Programs\\Python\\Python39\\lib\\site-packages\\PIL\\Image.py:2436\u001b[0m, in \u001b[0;36mImage.save\u001b[1;34m(self, fp, format, **params)\u001b[0m\n\u001b[0;32m   2434\u001b[0m         fp \u001b[38;5;241m=\u001b[39m builtins\u001b[38;5;241m.\u001b[39mopen(filename, \u001b[38;5;124m\"\u001b[39m\u001b[38;5;124mr+b\u001b[39m\u001b[38;5;124m\"\u001b[39m)\n\u001b[0;32m   2435\u001b[0m     \u001b[38;5;28;01melse\u001b[39;00m:\n\u001b[1;32m-> 2436\u001b[0m         fp \u001b[38;5;241m=\u001b[39m \u001b[43mbuiltins\u001b[49m\u001b[38;5;241;43m.\u001b[39;49m\u001b[43mopen\u001b[49m\u001b[43m(\u001b[49m\u001b[43mfilename\u001b[49m\u001b[43m,\u001b[49m\u001b[43m \u001b[49m\u001b[38;5;124;43m\"\u001b[39;49m\u001b[38;5;124;43mw+b\u001b[39;49m\u001b[38;5;124;43m\"\u001b[39;49m\u001b[43m)\u001b[49m\n\u001b[0;32m   2438\u001b[0m \u001b[38;5;28;01mtry\u001b[39;00m:\n\u001b[0;32m   2439\u001b[0m     save_handler(\u001b[38;5;28mself\u001b[39m, fp, filename)\n",
      "\u001b[1;31mFileNotFoundError\u001b[0m: [Errno 2] No such file or directory: 'output/fedvg.png'"
     ]
    },
    {
     "data": {
      "image/png": "[encoded data removed]",
      "text/plain": [
       "<Figure size 650x420 with 1 Axes>"
      ]
     },
     "metadata": {},
     "output_type": "display_data"
    }
   ],
   "source": [
    "                                                        # VISUALIZE\n",
    "# NOTE: Class indexes now start from 1 so, previous class 0 = now class 1 and so on\n",
    "# FIG 1: Raw similarity plot\n",
    "\n",
    "import pandas as pd\n",
    "import numpy as np\n",
    "import matplotlib.pyplot as plt\n",
    "import seaborn as sns\n",
    "\n",
    "# Generate sample similarity data for four classes (each with 20 values in the range 0 to 1)\n",
    "class1_sim = class0_sims\n",
    "class2_sim = class1_sims\n",
    "class3_sim = class2_sims\n",
    "class4_sim = class3_sims\n",
    "\n",
    "# Set figure size\n",
    "plt.figure(figsize=(6.5, 4.2))  # Set the size of the figure (width, height)\n",
    "\n",
    "# Sample DataFrame with four columns\n",
    "data=pd.DataFrame({'Class 1':class1_sim,'Class 2':class2_sim,'Class 3':class3_sim,'Class 4':class4_sim})\n",
    "df = pd.DataFrame(data)\n",
    "\n",
    "# Plot the probability distributions\n",
    "#plt.figure(figsize=(10, 6))\n",
    "\n",
    "# Define colors and line styles for each column\n",
    "colors = ['#1f77b4', '#ff7f0e', '#2ca02c', '#d62728']\n",
    "linestyles = ['-.', '--', '-', '-']\n",
    "\n",
    "# Plot the probability distributions with unique colors and line styles\n",
    "for column, color, linestyle in zip(df.columns, colors, linestyles):\n",
    "    sns.kdeplot(df[column], label=column, color=color, linestyle=linestyle)\n",
    "\n",
    "#plt.title('Probability Distributions of Four Columns')\n",
    "plt.xlabel('Similarity',fontsize=12)\n",
    "plt.ylabel('Density',fontsize=12)\n",
    "plt.yticks(fontsize=12)  # Set y-tick labels font size\n",
    "plt.legend(loc='upper right',fontsize=12)  # Increase legend font size\n",
    "\n",
    "# Optimize layout\n",
    "plt.tight_layout()\n",
    "# Save the plot to a file\n",
    "plt.savefig('output/fedvg.png', dpi=300, bbox_inches='tight')  # Save as a PNG file with high resolution\n",
    "\n",
    "# Show the plot\n",
    "plt.show()\n"
   ]
  },
  {
   "cell_type": "code",
   "execution_count": null,
   "id": "c71af78e-28e9-4564-9609-3039455bb875",
   "metadata": {},
   "outputs": [],
   "source": [
    "# FIG 2: DIFFERENCES IN COSINE SIMILARITY\n",
    "\n",
    "# For each class, we have 20 similarity values — one per image — showing how similar fake and real versions are.These values are very close across classes\n",
    "# So, to highlight subtle differences, compute and plot the difference between each pair of classes, value by value.\n",
    "# This gives you 20 values showing how much the similarity differs for each image between class 0 and class 1.\n",
    "# It's a magnified view of the gap between classes.\n",
    "# If the differences are tiny (e.g., 0.003), the plot helps make that visible and comparable.\n",
    "\n",
    "import numpy as np\n",
    "import matplotlib.pyplot as plt\n",
    "import seaborn as sns\n",
    "import pandas as pd\n",
    "\n",
    "# Differences between class distributions (pairwise)\n",
    "diff_12 = np.array(class2_sim) - np.array(class1_sim)\n",
    "diff_13 = np.array(class3_sim) - np.array(class1_sim)\n",
    "diff_14 = np.array(class4_sim) - np.array(class1_sim)\n",
    "diff_23 = np.array(class3_sim) - np.array(class2_sim)\n",
    "diff_24 = np.array(class4_sim) - np.array(class2_sim)\n",
    "diff_34 = np.array(class4_sim) - np.array(class3_sim)\n",
    "\n",
    "# Create a DataFrame\n",
    "diff_df = pd.DataFrame({\n",
    "    'Class 2 - Class 1': diff_12,\n",
    "    'Class 3 - Class 1': diff_13,\n",
    "    'Class 4 - Class 1': diff_14,\n",
    "    'Class 3 - Class 2': diff_23,\n",
    "    'Class 4 - Class 2': diff_24,\n",
    "    'Class 4 - Class 3': diff_34,\n",
    "})\n",
    "\n",
    "# Plot\n",
    "plt.figure(figsize=(7.5, 5))\n",
    "\n",
    "colors = sns.color_palette(\"tab10\", n_colors=6)\n",
    "\n",
    "for column, color in zip(diff_df.columns, colors):\n",
    "    sns.kdeplot(diff_df[column], label=column, color=color, linestyle='-')\n",
    "\n",
    "plt.axvline(0, color='black', linestyle='--', linewidth=1)  # reference line at 0\n",
    "plt.xlabel('Difference in Similarity', fontsize=12)\n",
    "plt.ylabel('Density', fontsize=12)\n",
    "plt.legend(fontsize=10)\n",
    "plt.title(\"Pairwise Differences in Cosine Similarity\", fontsize=13)\n",
    "plt.tight_layout()\n",
    "plt.show()"
   ]
  },
  {
   "cell_type": "code",
   "execution_count": null,
   "id": "362bf182-7927-4ce2-bf5a-97299d426bc4",
   "metadata": {},
   "outputs": [],
   "source": [
    "def calculate_interclass_similarity(first, second):\n",
    "    similarities = []\n",
    "\n",
    "    first_images = []\n",
    "    second_images = []\n",
    "    if first == 'class1':\n",
    "        first_images = class0_original_images.copy()\n",
    "    elif first == 'class2':\n",
    "        first_images = class1_original_images.copy()\n",
    "    elif first == 'class3':\n",
    "        first_images = class2_original_images.copy()\n",
    "    elif first == 'class4':\n",
    "        first_images = class3_original_images.copy()\n",
    "\n",
    "    if second == 'class1':\n",
    "        second_images = class0_original_images.copy()\n",
    "    elif second == 'class2':\n",
    "        second_images = class1_original_images.copy()\n",
    "    elif second == 'class3':\n",
    "        second_images = class2_original_images.copy()\n",
    "    elif second == 'class4':\n",
    "        second_images = class3_original_images.copy()\n",
    "    \n",
    "    for i in range(0, 20):\n",
    "        first_image = first_images[i].unsqueeze(dim=0).to(device)\n",
    "        first_image = first_image.repeat(1, 3, 1, 1)\n",
    "        \n",
    "        second_image = second_images[i].unsqueeze(dim=0).to(device)\n",
    "        second_image = second_image.repeat(1, 3, 1, 1)\n",
    "        \n",
    "        features_first = get_feature(first_image)\n",
    "        features_second = get_feature(second_image)\n",
    "\n",
    "        cosine_similarity = 1 - cosine(features_first, features_second)\n",
    "        similarities.append(cosine_similarity)\n",
    "\n",
    "    return similarities"
   ]
  },
  {
   "cell_type": "code",
   "execution_count": null,
   "id": "5954dfe3-cb08-4551-a5f9-d2082ac3d604",
   "metadata": {},
   "outputs": [],
   "source": [
    "class1class2 = calculate_interclass_similarity('class1', 'class2')"
   ]
  },
  {
   "cell_type": "code",
   "execution_count": null,
   "id": "cd5ab50d-9d9d-443b-bea5-2d6e302e2bf4",
   "metadata": {},
   "outputs": [],
   "source": [
    "class1class2"
   ]
  },
  {
   "cell_type": "code",
   "execution_count": null,
   "id": "29441f40-36a7-4854-98be-5d128bae49cd",
   "metadata": {},
   "outputs": [],
   "source": [
    "                                                # FIG: 3 -> INTERCLASS SIMILARITIES\n",
    "\n",
    "import pandas as pd\n",
    "import numpy as np\n",
    "import matplotlib.pyplot as plt\n",
    "import seaborn as sns\n",
    "\n",
    "# Set figure size\n",
    "plt.figure(figsize=(6.5, 4.2))  # Set the size of the figure (width, height)\n",
    "\n",
    "# Generate sample similarity data for four classes (each with 20 values in the range 0 to 1)\n",
    "np.random.seed(42)  # For reproducibility\n",
    "class1class2 = calculate_interclass_similarity('class1', 'class2')\n",
    "class1class3 = calculate_interclass_similarity('class1', 'class3')\n",
    "class1class4 = calculate_interclass_similarity('class1', 'class4')\n",
    "class2class3 = calculate_interclass_similarity('class2', 'class3')\n",
    "class2class4 = calculate_interclass_similarity('class2', 'class4')\n",
    "class3class4 = calculate_interclass_similarity('class3', 'class4')\n",
    "\n",
    "# Sample DataFrame with four columns\n",
    "data=pd.DataFrame({'Class1 vs Class2':class1class2,'Class1 vs Class3':class1class3,'Class1 vs Class4':class1class4,'Class2 vs Class3':class2class3,'Class2 vs Class4':class2class4,'Class3 vs Class4':class3class4})\n",
    "df = pd.DataFrame(data)\n",
    "\n",
    "# Plot the probability distributions\n",
    "#plt.figure(figsize=(10, 6))\n",
    "\n",
    "# Define colors and line styles for each column\n",
    "colors = ['#1f77b4', '#ff7f0e', '#2ca02c', '#d62728', '#9467bd', '#8c564b']\n",
    "linestyles = ['-.', '--', '-', '-', '-.', '--']\n",
    "\n",
    "# Plot the probability distributions with unique colors and line styles\n",
    "for column, color, linestyle in zip(df.columns, colors, linestyles):\n",
    "    sns.kdeplot(df[column], label=column, color=color, linestyle=linestyle)\n",
    "\n",
    "#plt.title('Probability Distributions of Four Columns')\n",
    "plt.xlabel('Similarity',fontsize=12)\n",
    "plt.ylabel('Density',fontsize=12)\n",
    "plt.yticks(fontsize=12)  # Set y-tick labels font size\n",
    "plt.legend(loc='upper right',fontsize=12)  # Increase legend font size\n",
    "\n",
    "# Optimize layout\n",
    "plt.tight_layout()\n",
    "# Save the plot to a file\n",
    "plt.savefig('output/VoiceDivergenceD3.png', dpi=300, bbox_inches='tight')  # Save as a PNG file with high resolution\n",
    "\n",
    "# Show the plot\n",
    "plt.show()"
   ]
  }
 ],
 "metadata": {
  "kernelspec": {
   "display_name": "Python 3 (ipykernel)",
   "language": "python",
   "name": "python3"
  },
  "language_info": {
   "codemirror_mode": {
    "name": "ipython",
    "version": 3
   },
   "file_extension": ".py",
   "mimetype": "text/x-python",
   "name": "python",
   "nbconvert_exporter": "python",
   "pygments_lexer": "ipython3",
   "version": "3.9.7"
  }
 },
 "nbformat": 4,
 "nbformat_minor": 5
}
