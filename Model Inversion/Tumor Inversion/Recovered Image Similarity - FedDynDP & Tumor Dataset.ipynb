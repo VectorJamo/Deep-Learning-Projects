{
 "cells": [
  {
   "cell_type": "code",
   "execution_count": 1,
   "id": "646b38c2-386a-4f83-a983-ea764ad8267f",
   "metadata": {},
   "outputs": [],
   "source": [
    "# Attempting to recover training data using model's parameters and a DCGAN that was trained on similar data\n",
    "# Author: Suraj Neupane\n",
    "# Written from scratch as a part of a Research Project 2025, Concordia University of Edmonton.\n",
    "import numpy as np\n",
    "\n",
    "import torch\n",
    "from torch import nn\n",
    "from torch.nn import functional\n",
    "\n",
    "from torch.utils import data\n",
    "from torch.utils.data import DataLoader\n",
    "\n",
    "import torchvision\n",
    "from torchvision import datasets\n",
    "from torchvision import transforms\n",
    "\n",
    "import pickle\n",
    "\n",
    "import matplotlib.pyplot as plt\n",
    "%matplotlib inline"
   ]
  },
  {
   "cell_type": "code",
   "execution_count": 2,
   "id": "8b80ddb2-ed75-4870-85b4-9300fce0df7e",
   "metadata": {},
   "outputs": [
    {
     "data": {
      "text/plain": [
       "'2.5.1+cu118'"
      ]
     },
     "execution_count": 2,
     "metadata": {},
     "output_type": "execute_result"
    }
   ],
   "source": [
    "torch.__version__"
   ]
  },
  {
   "cell_type": "code",
   "execution_count": 3,
   "id": "d6950585-eb31-4f61-bd60-5bf8716fcdef",
   "metadata": {},
   "outputs": [],
   "source": [
    "device = 'cuda' if torch.cuda.is_available() else 'cpu'"
   ]
  },
  {
   "cell_type": "code",
   "execution_count": 4,
   "id": "36c47e07-6b7d-4123-a59d-5d465f9ef280",
   "metadata": {},
   "outputs": [
    {
     "data": {
      "text/plain": [
       "'cuda'"
      ]
     },
     "execution_count": 4,
     "metadata": {},
     "output_type": "execute_result"
    }
   ],
   "source": [
    "device"
   ]
  },
  {
   "cell_type": "code",
   "execution_count": 5,
   "id": "b852ca55-f33e-469f-b7b9-e00d21124927",
   "metadata": {},
   "outputs": [],
   "source": [
    "# DCGAN Implementation Class\n",
    "# Discriminator\n",
    "class Discriminator(nn.Module):\n",
    "    def __init__(self, img_channels, features_d):\n",
    "        super().__init__()\n",
    "        self.disc = nn.Sequential(\n",
    "            # Input shape: img_channels x 64 x 64\n",
    "            nn.Conv2d(\n",
    "              in_channels=img_channels, out_channels=features_d, kernel_size=4, stride=2, padding=1\n",
    "            ), # Output shape: features_d x 32 x 32\n",
    "            nn.LeakyReLU(0.2),\n",
    "            self._block(features_d, features_d*2, 4, 2, 1), # Output shape: features_d*2 x 16 x 16\n",
    "            self._block(features_d*2, features_d*4, 4, 2, 1), # Output shape: features_d*4 x 8 x 8\n",
    "            self._block(features_d*4, features_d*8, 4, 2, 1), # Output shape: features_d*8 x 4 x 4\n",
    "           \n",
    "            nn.Conv2d(in_channels=features_d*8, out_channels=1, kernel_size=4, stride=2, padding=0), # Output shape: 1 x 1\n",
    "            nn.Sigmoid(),\n",
    "        )\n",
    "\n",
    "    def _block(self, in_channels, out_channels, kernel_size, stride, padding):\n",
    "        return nn.Sequential(\n",
    "            nn.Conv2d(in_channels, out_channels, kernel_size, stride, padding, bias=False),\n",
    "            nn.BatchNorm2d(out_channels),\n",
    "            nn.LeakyReLU(0.2),\n",
    "        )\n",
    "\n",
    "    def forward(self, X):\n",
    "        return self.disc(X)\n"
   ]
  },
  {
   "cell_type": "code",
   "execution_count": 6,
   "id": "5afe02e5-61d3-4f25-8933-8484e519cd4a",
   "metadata": {},
   "outputs": [],
   "source": [
    "# Generator\n",
    "class Generator(nn.Module):\n",
    "    def __init__(self, z_dim, img_channels, features_g):\n",
    "        super().__init__()\n",
    "        self.gen = nn.Sequential(\n",
    "            self._block(z_dim, features_g*16, 4, 1, 0), # z_dim: (batch_size, 100, 1, 1) -> (batch_size, 1024, 4, 4)\n",
    "            self._block(features_g*16, features_g*8, 4, 2, 1), # z_dim: (batch_size, 1024, 4, 4) -> (batch_size, 512, 8, 8)\n",
    "            self._block(features_g*8, features_g*4, 4, 2, 1), # z_dim: (batch_size, 512, 8, 8) -> (batch_size, 256, 16, 16)\n",
    "            self._block(features_g*4, features_g*2, 4, 2, 1), # z_dim: (batch_size, 128, 16, 16) -> (batch_size, 64, 32, 32)\n",
    "            nn.ConvTranspose2d(\n",
    "                in_channels=features_g*2, out_channels=img_channels, kernel_size=4, stride=2, padding=1 # z_dim: (batch_size, 64, 32, 32) -> (batch_size, 1, 64, 64)\n",
    "            ),\n",
    "            nn.Tanh(),\n",
    "        )\n",
    "        \n",
    "    def _block(self, in_channels, out_channels, kernel_size, stride, padding):\n",
    "        return nn.Sequential(\n",
    "            nn.ConvTranspose2d(\n",
    "                in_channels, out_channels, kernel_size, stride, padding, bias=False,\n",
    "            ),\n",
    "            nn.InstanceNorm2d(out_channels, affine=True),\n",
    "            nn.ReLU(),\n",
    "        )\n",
    "\n",
    "    def forward(self, X):\n",
    "        return self.gen(X)"
   ]
  },
  {
   "cell_type": "code",
   "execution_count": 7,
   "id": "48c1be35-d58a-4d0c-990d-9250fbdbf1b3",
   "metadata": {},
   "outputs": [],
   "source": [
    "# Hyperparams\n",
    "z_dim = 100\n",
    "img_channels = 1\n",
    "features_disc = 64\n",
    "features_gen = 64"
   ]
  },
  {
   "cell_type": "code",
   "execution_count": 8,
   "id": "f2dc1f40-5c2e-4903-b2e7-7abe5cae9772",
   "metadata": {},
   "outputs": [],
   "source": [
    "# Create the model instances\n",
    "gen = Generator(z_dim, img_channels, features_gen).to(device)\n",
    "disc = Discriminator(img_channels, features_disc).to(device)"
   ]
  },
  {
   "cell_type": "code",
   "execution_count": 9,
   "id": "bc7a5deb-f8d8-41d4-aed3-d012d39a84b9",
   "metadata": {},
   "outputs": [
    {
     "data": {
      "text/plain": [
       "<All keys matched successfully>"
      ]
     },
     "execution_count": 9,
     "metadata": {},
     "output_type": "execute_result"
    }
   ],
   "source": [
    "# Load the trained GAN\n",
    "gen.load_state_dict(torch.load('saved models/Generator2.pth', weights_only=True))\n",
    "disc.load_state_dict(torch.load('saved models/Discriminator2.pth', weights_only=True))"
   ]
  },
  {
   "cell_type": "code",
   "execution_count": 10,
   "id": "a504e932-e168-4bb8-88cc-eea0810aafb0",
   "metadata": {},
   "outputs": [],
   "source": [
    "# Generate a random fake image\n",
    "noise = torch.randn(1, z_dim, 1, 1).to(device)\n",
    "fake_img = gen(noise)"
   ]
  },
  {
   "cell_type": "code",
   "execution_count": 11,
   "id": "98b5d73f-b130-4bc1-a868-c225bd2abe62",
   "metadata": {},
   "outputs": [
    {
     "data": {
      "text/plain": [
       "torch.Size([1, 1, 64, 64])"
      ]
     },
     "execution_count": 11,
     "metadata": {},
     "output_type": "execute_result"
    }
   ],
   "source": [
    "fake_img.shape"
   ]
  },
  {
   "cell_type": "code",
   "execution_count": 12,
   "id": "9d19338c-18e4-4b6e-842f-a225718fa8bb",
   "metadata": {},
   "outputs": [
    {
     "name": "stdout",
     "output_type": "stream",
     "text": [
      "torch.Size([64, 64])\n"
     ]
    },
    {
     "data": {
      "text/plain": [
       "<matplotlib.image.AxesImage at 0x18866367940>"
      ]
     },
     "execution_count": 12,
     "metadata": {},
     "output_type": "execute_result"
    },
    {
     "data": {
      "image/png": "[encoded data removed]",
      "text/plain": [
       "<Figure size 640x480 with 1 Axes>"
      ]
     },
     "metadata": {},
     "output_type": "display_data"
    }
   ],
   "source": [
    "fake_img = fake_img.squeeze()\n",
    "print(fake_img.shape)\n",
    "plt.axis(False)\n",
    "plt.title('Fake Generated Image:')\n",
    "plt.imshow(fake_img.cpu().detach(), cmap='gray')"
   ]
  },
  {
   "cell_type": "code",
   "execution_count": 13,
   "id": "cf2aefac-a759-4335-a3de-2065d6a6a9a5",
   "metadata": {},
   "outputs": [],
   "source": [
    "# Target Model\n",
    "class TFCNN(nn.Module):\n",
    "    def __init__(self, n_classes):\n",
    "        super().__init__()\n",
    "        self.n_classes = n_classes\n",
    "\n",
    "        self.encoder = nn.Sequential(\n",
    "            nn.Conv2d(3, 32, 3, stride=1, padding=1),\n",
    "            nn.ReLU(True),\n",
    "            nn.MaxPool2d(2),\n",
    "            nn.Conv2d(32, 64, 3, stride=1, padding=1),\n",
    "            nn.ReLU(True),\n",
    "            nn.MaxPool2d(2),\n",
    "            nn.Conv2d(64, 64, 3, stride=1, padding=1),\n",
    "            nn.ReLU(True),\n",
    "            nn.MaxPool2d(2),\n",
    "            Reshape(),\n",
    "        )\n",
    "\n",
    "        self.h_size = 64 * 4 * 4\n",
    "\n",
    "        self.classifier = nn.Sequential(\n",
    "            nn.Linear(64 * 4 * 4, 128),\n",
    "            nn.ReLU(True),\n",
    "            nn.Linear(128, n_classes)\n",
    "        )\n",
    "\n",
    "    def forward(self, xs):\n",
    "        code = self.encoder(xs)\n",
    "        logits = self.classifier(code)\n",
    "        return code, logits\n"
   ]
  },
  {
   "cell_type": "code",
   "execution_count": 14,
   "id": "d28876e2-91ee-4ebf-bc52-b71dc82edfa2",
   "metadata": {},
   "outputs": [],
   "source": [
    "class Reshape(nn.Module):\n",
    "    def __init__(self,):\n",
    "        super().__init__()\n",
    "\n",
    "    def forward(self, xs):\n",
    "        return xs.reshape((xs.shape[0], -1))"
   ]
  },
  {
   "cell_type": "code",
   "execution_count": 15,
   "id": "dd57210c-2c18-4651-8f29-be94a7a7a88f",
   "metadata": {},
   "outputs": [],
   "source": [
    "class ClassifyNet(nn.Module):\n",
    "    def __init__(self, net, init_way, n_classes, input_size=None):\n",
    "        super().__init__()\n",
    "        self.net = net\n",
    "        self.init_way = init_way\n",
    "        self.n_classes = n_classes\n",
    "\n",
    "        model = TFCNN(n_classes)\n",
    "\n",
    "        self.h_size = model.h_size\n",
    "\n",
    "        # Convo and pool layers\n",
    "        self.encoder = model.encoder\n",
    "\n",
    "        # Classifier layer\n",
    "        self.classifier = nn.Linear(\n",
    "            self.h_size, self.n_classes, bias=False\n",
    "        )\n",
    "\n",
    "        if self.init_way == \"orth\":\n",
    "            ws = get_orth_weights(self.h_size, self.n_classes)\n",
    "            self.classifier.load_state_dict({\"weight\": ws})\n",
    "\n",
    "    def forward(self, xs):\n",
    "        hs = self.encoder(xs)\n",
    "        logits = self.classifier(hs)\n",
    "        return hs, logits"
   ]
  },
  {
   "cell_type": "code",
   "execution_count": 16,
   "id": "83ea3c08-0470-4c9a-ba15-8328a316b3ab",
   "metadata": {},
   "outputs": [],
   "source": [
    "def load_target_model(base_net, n_classes, path):\n",
    "    # Create the base model\n",
    "    model = ClassifyNet(net=base_net, init_way='none', n_classes=n_classes)\n",
    "    # Load the model\n",
    "    model.load_state_dict(torch.load(path, weights_only=True))\n",
    "\n",
    "    return model"
   ]
  },
  {
   "cell_type": "code",
   "execution_count": 17,
   "id": "0880f1aa-9d08-445a-85ac-f1ff3cebde04",
   "metadata": {},
   "outputs": [
    {
     "name": "stdout",
     "output_type": "stream",
     "text": [
      "Model loaded successfully!\n",
      "Number of parameters in the loaded model: 60416\n"
     ]
    }
   ],
   "source": [
    "# Target Model Loading\n",
    "BASE_NET = 'TFCNN'\n",
    "DATASET = 'tumor4'\n",
    "N_CLASSES = 4\n",
    "\n",
    "target_model = load_target_model(base_net=BASE_NET, n_classes=N_CLASSES, path='saved models/feddynDP_global_model1.path').to(device)\n",
    "print('Model loaded successfully!')\n",
    "target_model.eval()\n",
    "\n",
    "num_params = sum(p.numel() for p in target_model.parameters())\n",
    "print('Number of parameters in the loaded model:', num_params)\n"
   ]
  },
  {
   "cell_type": "code",
   "execution_count": 18,
   "id": "f843f19e-b2a5-4ffe-b22b-de4ff93c5643",
   "metadata": {},
   "outputs": [],
   "source": [
    "# BEGIN BATCH MODEL INVERSION\n",
    "img_count = 20\n",
    "latent_vectors = torch.randn(img_count, z_dim, 1, 1, requires_grad=True) # Start with 20 random noises"
   ]
  },
  {
   "cell_type": "code",
   "execution_count": 19,
   "id": "c21320ed-d5ac-4919-aaad-8cfa093998a6",
   "metadata": {},
   "outputs": [],
   "source": [
    "def recover_images(count, target_image_class, latent_vectors):\n",
    "    optimized_latent_vectors = []\n",
    "    \n",
    "    for x in range(0, count):\n",
    "        z = latent_vectors[x].unsqueeze(dim=0).clone().detach().requires_grad_(True)\n",
    "        \n",
    "        learning_rate = 0.01\n",
    "        target_class = 1 # The second class\n",
    "        \n",
    "        # Create the optimizer\n",
    "        optimizer = torch.optim.Adam([z], lr=learning_rate)\n",
    "        \n",
    "        # Loss function (e.g., Cross-Entropy with classifier outputs)\n",
    "        loss_fn = nn.CrossEntropyLoss()\n",
    "        target_class = torch.tensor([target_image_class])  # Set the target class\n",
    "    \n",
    "        # Optimization loop to find the best z\n",
    "        rounds = 500\n",
    "        for i in range(rounds):\n",
    "            optimizer.zero_grad()\n",
    "            \n",
    "            generated_image = gen(z.to(device))  # Generate an image from the latent vector\n",
    "            generated_image = generated_image.repeat(1, 3, 1, 1)\n",
    "            generated_image = functional.interpolate(generated_image, size=(32, 32), mode='nearest')\n",
    "            #print(generated_image.shape)\n",
    "            hs, prediction_logits = target_model(generated_image)  # Classifier output\n",
    "            #print(prediction_logits)\n",
    "            #print(type(prediction_logits))\n",
    "            loss = loss_fn(prediction_logits, target_class.to(device))  # Minimize difference with true class\n",
    "            loss.backward()\n",
    "            optimizer.step()\n",
    "            \n",
    "            if i % 50 == 0:\n",
    "                print(f\"Generating Image Number: {x+1} for target class {target_class}. Step {i}, Loss: {loss.item()}\")\n",
    "    \n",
    "        optimized_latent_vectors.append(z)\n",
    "        \n",
    "    return optimized_latent_vectors"
   ]
  },
  {
   "cell_type": "code",
   "execution_count": 20,
   "id": "9ebc9533-23ca-4d44-8aea-9d134281b3a4",
   "metadata": {
    "scrolled": true
   },
   "outputs": [
    {
     "name": "stdout",
     "output_type": "stream",
     "text": [
      "Generating Image Number: 1 for target class tensor([0]). Step 0, Loss: 72.30606842041016\n",
      "Generating Image Number: 1 for target class tensor([0]). Step 50, Loss: 61.80181884765625\n",
      "Generating Image Number: 1 for target class tensor([0]). Step 100, Loss: 58.39513397216797\n",
      "Generating Image Number: 1 for target class tensor([0]). Step 150, Loss: 55.51835632324219\n",
      "Generating Image Number: 1 for target class tensor([0]). Step 200, Loss: 53.289764404296875\n",
      "Generating Image Number: 1 for target class tensor([0]). Step 250, Loss: 52.369789123535156\n",
      "Generating Image Number: 1 for target class tensor([0]). Step 300, Loss: 51.06635284423828\n",
      "Generating Image Number: 1 for target class tensor([0]). Step 350, Loss: 50.232566833496094\n",
      "Generating Image Number: 1 for target class tensor([0]). Step 400, Loss: 49.50344467163086\n",
      "Generating Image Number: 1 for target class tensor([0]). Step 450, Loss: 48.85693359375\n",
      "Generating Image Number: 2 for target class tensor([0]). Step 0, Loss: 35.569358825683594\n",
      "Generating Image Number: 2 for target class tensor([0]). Step 50, Loss: 33.61345672607422\n",
      "Generating Image Number: 2 for target class tensor([0]). Step 100, Loss: 32.850643157958984\n",
      "Generating Image Number: 2 for target class tensor([0]). Step 150, Loss: 32.34629821777344\n",
      "Generating Image Number: 2 for target class tensor([0]). Step 200, Loss: 31.90620994567871\n",
      "Generating Image Number: 2 for target class tensor([0]). Step 250, Loss: 31.539676666259766\n",
      "Generating Image Number: 2 for target class tensor([0]). Step 300, Loss: 31.297061920166016\n",
      "Generating Image Number: 2 for target class tensor([0]). Step 350, Loss: 31.07512664794922\n",
      "Generating Image Number: 2 for target class tensor([0]). Step 400, Loss: 30.988170623779297\n",
      "Generating Image Number: 2 for target class tensor([0]). Step 450, Loss: 30.9057559967041\n",
      "Generating Image Number: 3 for target class tensor([0]). Step 0, Loss: 36.19427490234375\n",
      "Generating Image Number: 3 for target class tensor([0]). Step 50, Loss: 30.954694747924805\n",
      "Generating Image Number: 3 for target class tensor([0]). Step 100, Loss: 27.383970260620117\n",
      "Generating Image Number: 3 for target class tensor([0]). Step 150, Loss: 26.065353393554688\n",
      "Generating Image Number: 3 for target class tensor([0]). Step 200, Loss: 25.139223098754883\n",
      "Generating Image Number: 3 for target class tensor([0]). Step 250, Loss: 24.608154296875\n",
      "Generating Image Number: 3 for target class tensor([0]). Step 300, Loss: 24.01520347595215\n",
      "Generating Image Number: 3 for target class tensor([0]). Step 350, Loss: 23.099882125854492\n",
      "Generating Image Number: 3 for target class tensor([0]). Step 400, Loss: 21.88517189025879\n",
      "Generating Image Number: 3 for target class tensor([0]). Step 450, Loss: 20.494474411010742\n",
      "Generating Image Number: 4 for target class tensor([0]). Step 0, Loss: 61.661109924316406\n",
      "Generating Image Number: 4 for target class tensor([0]). Step 50, Loss: 56.70484924316406\n",
      "Generating Image Number: 4 for target class tensor([0]). Step 100, Loss: 54.19398498535156\n",
      "Generating Image Number: 4 for target class tensor([0]). Step 150, Loss: 52.53132629394531\n",
      "Generating Image Number: 4 for target class tensor([0]). Step 200, Loss: 51.24461364746094\n",
      "Generating Image Number: 4 for target class tensor([0]). Step 250, Loss: 50.401832580566406\n",
      "Generating Image Number: 4 for target class tensor([0]). Step 300, Loss: 49.68182373046875\n",
      "Generating Image Number: 4 for target class tensor([0]). Step 350, Loss: 49.16368865966797\n",
      "Generating Image Number: 4 for target class tensor([0]). Step 400, Loss: 49.211395263671875\n",
      "Generating Image Number: 4 for target class tensor([0]). Step 450, Loss: 48.38103103637695\n",
      "Generating Image Number: 5 for target class tensor([0]). Step 0, Loss: 58.310123443603516\n",
      "Generating Image Number: 5 for target class tensor([0]). Step 50, Loss: 40.55877685546875\n",
      "Generating Image Number: 5 for target class tensor([0]). Step 100, Loss: 39.73539733886719\n",
      "Generating Image Number: 5 for target class tensor([0]). Step 150, Loss: 38.94239807128906\n",
      "Generating Image Number: 5 for target class tensor([0]). Step 200, Loss: 38.21470642089844\n",
      "Generating Image Number: 5 for target class tensor([0]). Step 250, Loss: 37.340187072753906\n",
      "Generating Image Number: 5 for target class tensor([0]). Step 300, Loss: 35.69139099121094\n",
      "Generating Image Number: 5 for target class tensor([0]). Step 350, Loss: 34.42017364501953\n",
      "Generating Image Number: 5 for target class tensor([0]). Step 400, Loss: 33.49541473388672\n",
      "Generating Image Number: 5 for target class tensor([0]). Step 450, Loss: 32.82383346557617\n",
      "Generating Image Number: 6 for target class tensor([0]). Step 0, Loss: 45.465179443359375\n",
      "Generating Image Number: 6 for target class tensor([0]). Step 50, Loss: 33.77759552001953\n",
      "Generating Image Number: 6 for target class tensor([0]). Step 100, Loss: 30.711647033691406\n",
      "Generating Image Number: 6 for target class tensor([0]). Step 150, Loss: 27.724918365478516\n",
      "Generating Image Number: 6 for target class tensor([0]). Step 200, Loss: 26.563886642456055\n",
      "Generating Image Number: 6 for target class tensor([0]). Step 250, Loss: 25.598066329956055\n",
      "Generating Image Number: 6 for target class tensor([0]). Step 300, Loss: 24.933502197265625\n",
      "Generating Image Number: 6 for target class tensor([0]). Step 350, Loss: 24.438560485839844\n",
      "Generating Image Number: 6 for target class tensor([0]). Step 400, Loss: 24.089200973510742\n",
      "Generating Image Number: 6 for target class tensor([0]). Step 450, Loss: 23.808059692382812\n",
      "Generating Image Number: 7 for target class tensor([0]). Step 0, Loss: 62.75229263305664\n",
      "Generating Image Number: 7 for target class tensor([0]). Step 50, Loss: 38.3702507019043\n",
      "Generating Image Number: 7 for target class tensor([0]). Step 100, Loss: 26.147323608398438\n",
      "Generating Image Number: 7 for target class tensor([0]). Step 150, Loss: 23.378435134887695\n",
      "Generating Image Number: 7 for target class tensor([0]). Step 200, Loss: 21.094741821289062\n",
      "Generating Image Number: 7 for target class tensor([0]). Step 250, Loss: 19.559167861938477\n",
      "Generating Image Number: 7 for target class tensor([0]). Step 300, Loss: 18.430768966674805\n",
      "Generating Image Number: 7 for target class tensor([0]). Step 350, Loss: 18.009469985961914\n",
      "Generating Image Number: 7 for target class tensor([0]). Step 400, Loss: 17.272905349731445\n",
      "Generating Image Number: 7 for target class tensor([0]). Step 450, Loss: 16.94054412841797\n",
      "Generating Image Number: 8 for target class tensor([0]). Step 0, Loss: 41.623130798339844\n",
      "Generating Image Number: 8 for target class tensor([0]). Step 50, Loss: 35.68007278442383\n",
      "Generating Image Number: 8 for target class tensor([0]). Step 100, Loss: 33.463443756103516\n",
      "Generating Image Number: 8 for target class tensor([0]). Step 150, Loss: 31.194507598876953\n",
      "Generating Image Number: 8 for target class tensor([0]). Step 200, Loss: 28.195331573486328\n",
      "Generating Image Number: 8 for target class tensor([0]). Step 250, Loss: 26.70552635192871\n",
      "Generating Image Number: 8 for target class tensor([0]). Step 300, Loss: 25.711013793945312\n",
      "Generating Image Number: 8 for target class tensor([0]). Step 350, Loss: 25.19379425048828\n",
      "Generating Image Number: 8 for target class tensor([0]). Step 400, Loss: 24.868505477905273\n",
      "Generating Image Number: 8 for target class tensor([0]). Step 450, Loss: 24.65719985961914\n",
      "Generating Image Number: 9 for target class tensor([0]). Step 0, Loss: 39.74817657470703\n",
      "Generating Image Number: 9 for target class tensor([0]). Step 50, Loss: 34.124847412109375\n",
      "Generating Image Number: 9 for target class tensor([0]). Step 100, Loss: 31.189496994018555\n",
      "Generating Image Number: 9 for target class tensor([0]). Step 150, Loss: 29.388158798217773\n",
      "Generating Image Number: 9 for target class tensor([0]). Step 200, Loss: 27.74806785583496\n",
      "Generating Image Number: 9 for target class tensor([0]). Step 250, Loss: 26.393434524536133\n",
      "Generating Image Number: 9 for target class tensor([0]). Step 300, Loss: 25.327167510986328\n",
      "Generating Image Number: 9 for target class tensor([0]). Step 350, Loss: 24.30515480041504\n",
      "Generating Image Number: 9 for target class tensor([0]). Step 400, Loss: 23.350255966186523\n",
      "Generating Image Number: 9 for target class tensor([0]). Step 450, Loss: 22.879762649536133\n",
      "Generating Image Number: 10 for target class tensor([0]). Step 0, Loss: 44.356536865234375\n",
      "Generating Image Number: 10 for target class tensor([0]). Step 50, Loss: 38.574989318847656\n",
      "Generating Image Number: 10 for target class tensor([0]). Step 100, Loss: 37.542449951171875\n",
      "Generating Image Number: 10 for target class tensor([0]). Step 150, Loss: 37.036224365234375\n",
      "Generating Image Number: 10 for target class tensor([0]). Step 200, Loss: 36.589874267578125\n",
      "Generating Image Number: 10 for target class tensor([0]). Step 250, Loss: 36.2020263671875\n",
      "Generating Image Number: 10 for target class tensor([0]). Step 300, Loss: 35.87408447265625\n",
      "Generating Image Number: 10 for target class tensor([0]). Step 350, Loss: 35.628456115722656\n",
      "Generating Image Number: 10 for target class tensor([0]). Step 400, Loss: 35.390167236328125\n",
      "Generating Image Number: 10 for target class tensor([0]). Step 450, Loss: 35.20869445800781\n",
      "Generating Image Number: 11 for target class tensor([0]). Step 0, Loss: 41.828086853027344\n",
      "Generating Image Number: 11 for target class tensor([0]). Step 50, Loss: 39.30353546142578\n",
      "Generating Image Number: 11 for target class tensor([0]). Step 100, Loss: 37.83306884765625\n",
      "Generating Image Number: 11 for target class tensor([0]). Step 150, Loss: 36.71227264404297\n",
      "Generating Image Number: 11 for target class tensor([0]). Step 200, Loss: 26.410903930664062\n",
      "Generating Image Number: 11 for target class tensor([0]). Step 250, Loss: 23.391145706176758\n",
      "Generating Image Number: 11 for target class tensor([0]). Step 300, Loss: 22.256521224975586\n",
      "Generating Image Number: 11 for target class tensor([0]). Step 350, Loss: 21.004173278808594\n",
      "Generating Image Number: 11 for target class tensor([0]). Step 400, Loss: 20.27631378173828\n",
      "Generating Image Number: 11 for target class tensor([0]). Step 450, Loss: 19.651226043701172\n",
      "Generating Image Number: 12 for target class tensor([0]). Step 0, Loss: 63.961029052734375\n",
      "Generating Image Number: 12 for target class tensor([0]). Step 50, Loss: 36.07781982421875\n",
      "Generating Image Number: 12 for target class tensor([0]). Step 100, Loss: 34.11189270019531\n",
      "Generating Image Number: 12 for target class tensor([0]). Step 150, Loss: 31.92558479309082\n",
      "Generating Image Number: 12 for target class tensor([0]). Step 200, Loss: 27.704486846923828\n",
      "Generating Image Number: 12 for target class tensor([0]). Step 250, Loss: 26.53350067138672\n",
      "Generating Image Number: 12 for target class tensor([0]). Step 300, Loss: 26.000539779663086\n",
      "Generating Image Number: 12 for target class tensor([0]). Step 350, Loss: 25.461196899414062\n",
      "Generating Image Number: 12 for target class tensor([0]). Step 400, Loss: 25.022798538208008\n",
      "Generating Image Number: 12 for target class tensor([0]). Step 450, Loss: 24.56313133239746\n",
      "Generating Image Number: 13 for target class tensor([0]). Step 0, Loss: 37.480873107910156\n",
      "Generating Image Number: 13 for target class tensor([0]). Step 50, Loss: 33.71342468261719\n",
      "Generating Image Number: 13 for target class tensor([0]). Step 100, Loss: 32.65265655517578\n",
      "Generating Image Number: 13 for target class tensor([0]). Step 150, Loss: 32.008514404296875\n",
      "Generating Image Number: 13 for target class tensor([0]). Step 200, Loss: 31.33716583251953\n",
      "Generating Image Number: 13 for target class tensor([0]). Step 250, Loss: 30.799882888793945\n",
      "Generating Image Number: 13 for target class tensor([0]). Step 300, Loss: 30.5029354095459\n",
      "Generating Image Number: 13 for target class tensor([0]). Step 350, Loss: 29.91912841796875\n",
      "Generating Image Number: 13 for target class tensor([0]). Step 400, Loss: 29.42922592163086\n",
      "Generating Image Number: 13 for target class tensor([0]). Step 450, Loss: 29.159420013427734\n",
      "Generating Image Number: 14 for target class tensor([0]). Step 0, Loss: 70.12468719482422\n",
      "Generating Image Number: 14 for target class tensor([0]). Step 50, Loss: 36.34343719482422\n",
      "Generating Image Number: 14 for target class tensor([0]). Step 100, Loss: 34.79750061035156\n",
      "Generating Image Number: 14 for target class tensor([0]). Step 150, Loss: 33.93653106689453\n",
      "Generating Image Number: 14 for target class tensor([0]). Step 200, Loss: 33.0604248046875\n",
      "Generating Image Number: 14 for target class tensor([0]). Step 250, Loss: 31.083343505859375\n",
      "Generating Image Number: 14 for target class tensor([0]). Step 300, Loss: 29.012760162353516\n",
      "Generating Image Number: 14 for target class tensor([0]). Step 350, Loss: 28.267274856567383\n",
      "Generating Image Number: 14 for target class tensor([0]). Step 400, Loss: 27.756729125976562\n",
      "Generating Image Number: 14 for target class tensor([0]). Step 450, Loss: 27.370023727416992\n",
      "Generating Image Number: 15 for target class tensor([0]). Step 0, Loss: 55.00359344482422\n",
      "Generating Image Number: 15 for target class tensor([0]). Step 50, Loss: 31.641904830932617\n",
      "Generating Image Number: 15 for target class tensor([0]). Step 100, Loss: 27.53689956665039\n",
      "Generating Image Number: 15 for target class tensor([0]). Step 150, Loss: 25.156688690185547\n",
      "Generating Image Number: 15 for target class tensor([0]). Step 200, Loss: 22.32476806640625\n",
      "Generating Image Number: 15 for target class tensor([0]). Step 250, Loss: 21.199180603027344\n",
      "Generating Image Number: 15 for target class tensor([0]). Step 300, Loss: 19.98977279663086\n",
      "Generating Image Number: 15 for target class tensor([0]). Step 350, Loss: 20.17232894897461\n",
      "Generating Image Number: 15 for target class tensor([0]). Step 400, Loss: 19.041004180908203\n",
      "Generating Image Number: 15 for target class tensor([0]). Step 450, Loss: 20.278892517089844\n",
      "Generating Image Number: 16 for target class tensor([0]). Step 0, Loss: 62.68341064453125\n",
      "Generating Image Number: 16 for target class tensor([0]). Step 50, Loss: 57.82316589355469\n",
      "Generating Image Number: 16 for target class tensor([0]). Step 100, Loss: 56.00022506713867\n",
      "Generating Image Number: 16 for target class tensor([0]). Step 150, Loss: 54.73093032836914\n",
      "Generating Image Number: 16 for target class tensor([0]). Step 200, Loss: 53.51463317871094\n",
      "Generating Image Number: 16 for target class tensor([0]). Step 250, Loss: 52.47260284423828\n",
      "Generating Image Number: 16 for target class tensor([0]). Step 300, Loss: 51.675086975097656\n",
      "Generating Image Number: 16 for target class tensor([0]). Step 350, Loss: 51.0100212097168\n",
      "Generating Image Number: 16 for target class tensor([0]). Step 400, Loss: 50.48442840576172\n",
      "Generating Image Number: 16 for target class tensor([0]). Step 450, Loss: 50.14212417602539\n",
      "Generating Image Number: 17 for target class tensor([0]). Step 0, Loss: 35.74169921875\n",
      "Generating Image Number: 17 for target class tensor([0]). Step 50, Loss: 32.55926513671875\n",
      "Generating Image Number: 17 for target class tensor([0]). Step 100, Loss: 28.87563705444336\n",
      "Generating Image Number: 17 for target class tensor([0]). Step 150, Loss: 25.606109619140625\n",
      "Generating Image Number: 17 for target class tensor([0]). Step 200, Loss: 24.50564193725586\n",
      "Generating Image Number: 17 for target class tensor([0]). Step 250, Loss: 23.576997756958008\n",
      "Generating Image Number: 17 for target class tensor([0]). Step 300, Loss: 23.122695922851562\n",
      "Generating Image Number: 17 for target class tensor([0]). Step 350, Loss: 22.866182327270508\n",
      "Generating Image Number: 17 for target class tensor([0]). Step 400, Loss: 22.553451538085938\n",
      "Generating Image Number: 17 for target class tensor([0]). Step 450, Loss: 22.113006591796875\n",
      "Generating Image Number: 18 for target class tensor([0]). Step 0, Loss: 68.89478302001953\n",
      "Generating Image Number: 18 for target class tensor([0]). Step 50, Loss: 57.614933013916016\n",
      "Generating Image Number: 18 for target class tensor([0]). Step 100, Loss: 56.286582946777344\n",
      "Generating Image Number: 18 for target class tensor([0]). Step 150, Loss: 53.51071548461914\n",
      "Generating Image Number: 18 for target class tensor([0]). Step 200, Loss: 37.485042572021484\n",
      "Generating Image Number: 18 for target class tensor([0]). Step 250, Loss: 30.554466247558594\n",
      "Generating Image Number: 18 for target class tensor([0]). Step 300, Loss: 28.041662216186523\n",
      "Generating Image Number: 18 for target class tensor([0]). Step 350, Loss: 27.19222640991211\n",
      "Generating Image Number: 18 for target class tensor([0]). Step 400, Loss: 27.219449996948242\n",
      "Generating Image Number: 18 for target class tensor([0]). Step 450, Loss: 27.2227783203125\n",
      "Generating Image Number: 19 for target class tensor([0]). Step 0, Loss: 51.894325256347656\n",
      "Generating Image Number: 19 for target class tensor([0]). Step 50, Loss: 39.541046142578125\n",
      "Generating Image Number: 19 for target class tensor([0]). Step 100, Loss: 37.77604675292969\n",
      "Generating Image Number: 19 for target class tensor([0]). Step 150, Loss: 36.11347198486328\n",
      "Generating Image Number: 19 for target class tensor([0]). Step 200, Loss: 34.89410400390625\n",
      "Generating Image Number: 19 for target class tensor([0]). Step 250, Loss: 33.638694763183594\n",
      "Generating Image Number: 19 for target class tensor([0]). Step 300, Loss: 32.77899169921875\n",
      "Generating Image Number: 19 for target class tensor([0]). Step 350, Loss: 31.762880325317383\n",
      "Generating Image Number: 19 for target class tensor([0]). Step 400, Loss: 30.99596405029297\n",
      "Generating Image Number: 19 for target class tensor([0]). Step 450, Loss: 30.643051147460938\n",
      "Generating Image Number: 20 for target class tensor([0]). Step 0, Loss: 63.910400390625\n",
      "Generating Image Number: 20 for target class tensor([0]). Step 50, Loss: 35.80466079711914\n",
      "Generating Image Number: 20 for target class tensor([0]). Step 100, Loss: 32.76873016357422\n",
      "Generating Image Number: 20 for target class tensor([0]). Step 150, Loss: 28.415607452392578\n",
      "Generating Image Number: 20 for target class tensor([0]). Step 200, Loss: 26.699716567993164\n",
      "Generating Image Number: 20 for target class tensor([0]). Step 250, Loss: 25.185266494750977\n",
      "Generating Image Number: 20 for target class tensor([0]). Step 300, Loss: 23.567480087280273\n",
      "Generating Image Number: 20 for target class tensor([0]). Step 350, Loss: 22.509031295776367\n",
      "Generating Image Number: 20 for target class tensor([0]). Step 400, Loss: 21.22713279724121\n",
      "Generating Image Number: 20 for target class tensor([0]). Step 450, Loss: 20.381086349487305\n"
     ]
    }
   ],
   "source": [
    "class0_optimized_latent_vectors = recover_images(img_count, 0, latent_vectors)"
   ]
  },
  {
   "cell_type": "code",
   "execution_count": 21,
   "id": "6718334c-2bb1-42a3-bd8c-6aea38e6b59c",
   "metadata": {
    "scrolled": true
   },
   "outputs": [
    {
     "name": "stdout",
     "output_type": "stream",
     "text": [
      "Generating Image Number: 1 for target class tensor([1]). Step 0, Loss: 48.0637092590332\n",
      "Generating Image Number: 1 for target class tensor([1]). Step 50, Loss: 22.578693389892578\n",
      "Generating Image Number: 1 for target class tensor([1]). Step 100, Loss: 19.943819046020508\n",
      "Generating Image Number: 1 for target class tensor([1]). Step 150, Loss: 18.342132568359375\n",
      "Generating Image Number: 1 for target class tensor([1]). Step 200, Loss: 16.96494483947754\n",
      "Generating Image Number: 1 for target class tensor([1]). Step 250, Loss: 15.721112251281738\n",
      "Generating Image Number: 1 for target class tensor([1]). Step 300, Loss: 15.20094108581543\n",
      "Generating Image Number: 1 for target class tensor([1]). Step 350, Loss: 14.900314331054688\n",
      "Generating Image Number: 1 for target class tensor([1]). Step 400, Loss: 14.616332054138184\n",
      "Generating Image Number: 1 for target class tensor([1]). Step 450, Loss: 14.333074569702148\n",
      "Generating Image Number: 2 for target class tensor([1]). Step 0, Loss: 46.58203887939453\n",
      "Generating Image Number: 2 for target class tensor([1]). Step 50, Loss: 38.42424774169922\n",
      "Generating Image Number: 2 for target class tensor([1]). Step 100, Loss: 34.9811897277832\n",
      "Generating Image Number: 2 for target class tensor([1]). Step 150, Loss: 31.445877075195312\n",
      "Generating Image Number: 2 for target class tensor([1]). Step 200, Loss: 30.233366012573242\n",
      "Generating Image Number: 2 for target class tensor([1]). Step 250, Loss: 29.278013229370117\n",
      "Generating Image Number: 2 for target class tensor([1]). Step 300, Loss: 28.33220672607422\n",
      "Generating Image Number: 2 for target class tensor([1]). Step 350, Loss: 27.705930709838867\n",
      "Generating Image Number: 2 for target class tensor([1]). Step 400, Loss: 27.158294677734375\n",
      "Generating Image Number: 2 for target class tensor([1]). Step 450, Loss: 26.760276794433594\n",
      "Generating Image Number: 3 for target class tensor([1]). Step 0, Loss: 56.68595886230469\n",
      "Generating Image Number: 3 for target class tensor([1]). Step 50, Loss: 40.23596954345703\n",
      "Generating Image Number: 3 for target class tensor([1]). Step 100, Loss: 37.662261962890625\n",
      "Generating Image Number: 3 for target class tensor([1]). Step 150, Loss: 32.81879806518555\n",
      "Generating Image Number: 3 for target class tensor([1]). Step 200, Loss: 30.47482681274414\n",
      "Generating Image Number: 3 for target class tensor([1]). Step 250, Loss: 29.151046752929688\n",
      "Generating Image Number: 3 for target class tensor([1]). Step 300, Loss: 27.418752670288086\n",
      "Generating Image Number: 3 for target class tensor([1]). Step 350, Loss: 26.645906448364258\n",
      "Generating Image Number: 3 for target class tensor([1]). Step 400, Loss: 26.363101959228516\n",
      "Generating Image Number: 3 for target class tensor([1]). Step 450, Loss: 26.02151870727539\n",
      "Generating Image Number: 4 for target class tensor([1]). Step 0, Loss: 65.99687957763672\n",
      "Generating Image Number: 4 for target class tensor([1]). Step 50, Loss: 39.503807067871094\n",
      "Generating Image Number: 4 for target class tensor([1]). Step 100, Loss: 38.6285400390625\n",
      "Generating Image Number: 4 for target class tensor([1]). Step 150, Loss: 37.44196319580078\n",
      "Generating Image Number: 4 for target class tensor([1]). Step 200, Loss: 35.61305618286133\n",
      "Generating Image Number: 4 for target class tensor([1]). Step 250, Loss: 33.47196960449219\n",
      "Generating Image Number: 4 for target class tensor([1]). Step 300, Loss: 31.464235305786133\n",
      "Generating Image Number: 4 for target class tensor([1]). Step 350, Loss: 30.617109298706055\n",
      "Generating Image Number: 4 for target class tensor([1]). Step 400, Loss: 30.130109786987305\n",
      "Generating Image Number: 4 for target class tensor([1]). Step 450, Loss: 29.52276611328125\n",
      "Generating Image Number: 5 for target class tensor([1]). Step 0, Loss: 64.2026596069336\n",
      "Generating Image Number: 5 for target class tensor([1]). Step 50, Loss: 54.47589874267578\n",
      "Generating Image Number: 5 for target class tensor([1]). Step 100, Loss: 53.5517578125\n",
      "Generating Image Number: 5 for target class tensor([1]). Step 150, Loss: 52.86210632324219\n",
      "Generating Image Number: 5 for target class tensor([1]). Step 200, Loss: 52.321319580078125\n",
      "Generating Image Number: 5 for target class tensor([1]). Step 250, Loss: 51.929718017578125\n",
      "Generating Image Number: 5 for target class tensor([1]). Step 300, Loss: 51.55801773071289\n",
      "Generating Image Number: 5 for target class tensor([1]). Step 350, Loss: 51.25999450683594\n",
      "Generating Image Number: 5 for target class tensor([1]). Step 400, Loss: 50.93212127685547\n",
      "Generating Image Number: 5 for target class tensor([1]). Step 450, Loss: 50.59815979003906\n",
      "Generating Image Number: 6 for target class tensor([1]). Step 0, Loss: 66.57489013671875\n",
      "Generating Image Number: 6 for target class tensor([1]). Step 50, Loss: 54.105369567871094\n",
      "Generating Image Number: 6 for target class tensor([1]). Step 100, Loss: 53.72981262207031\n",
      "Generating Image Number: 6 for target class tensor([1]). Step 150, Loss: 53.847381591796875\n",
      "Generating Image Number: 6 for target class tensor([1]). Step 200, Loss: 53.1361198425293\n",
      "Generating Image Number: 6 for target class tensor([1]). Step 250, Loss: 52.659095764160156\n",
      "Generating Image Number: 6 for target class tensor([1]). Step 300, Loss: 52.299461364746094\n",
      "Generating Image Number: 6 for target class tensor([1]). Step 350, Loss: 52.302974700927734\n",
      "Generating Image Number: 6 for target class tensor([1]). Step 400, Loss: 52.02501678466797\n",
      "Generating Image Number: 6 for target class tensor([1]). Step 450, Loss: 51.98023986816406\n",
      "Generating Image Number: 7 for target class tensor([1]). Step 0, Loss: 72.73695373535156\n",
      "Generating Image Number: 7 for target class tensor([1]). Step 50, Loss: 61.48946762084961\n",
      "Generating Image Number: 7 for target class tensor([1]). Step 100, Loss: 59.17823028564453\n",
      "Generating Image Number: 7 for target class tensor([1]). Step 150, Loss: 57.20879364013672\n",
      "Generating Image Number: 7 for target class tensor([1]). Step 200, Loss: 56.59306716918945\n",
      "Generating Image Number: 7 for target class tensor([1]). Step 250, Loss: 56.03728103637695\n",
      "Generating Image Number: 7 for target class tensor([1]). Step 300, Loss: 55.81017303466797\n",
      "Generating Image Number: 7 for target class tensor([1]). Step 350, Loss: 55.31849670410156\n",
      "Generating Image Number: 7 for target class tensor([1]). Step 400, Loss: 54.92070007324219\n",
      "Generating Image Number: 7 for target class tensor([1]). Step 450, Loss: 55.059967041015625\n",
      "Generating Image Number: 8 for target class tensor([1]). Step 0, Loss: 75.95909118652344\n",
      "Generating Image Number: 8 for target class tensor([1]). Step 50, Loss: 70.5896224975586\n",
      "Generating Image Number: 8 for target class tensor([1]). Step 100, Loss: 69.18894958496094\n",
      "Generating Image Number: 8 for target class tensor([1]). Step 150, Loss: 68.43875885009766\n",
      "Generating Image Number: 8 for target class tensor([1]). Step 200, Loss: 67.881591796875\n",
      "Generating Image Number: 8 for target class tensor([1]). Step 250, Loss: 67.40172576904297\n",
      "Generating Image Number: 8 for target class tensor([1]). Step 300, Loss: 66.7989273071289\n",
      "Generating Image Number: 8 for target class tensor([1]). Step 350, Loss: 60.294227600097656\n",
      "Generating Image Number: 8 for target class tensor([1]). Step 400, Loss: 49.02978515625\n",
      "Generating Image Number: 8 for target class tensor([1]). Step 450, Loss: 47.60382080078125\n",
      "Generating Image Number: 9 for target class tensor([1]). Step 0, Loss: 59.19451904296875\n",
      "Generating Image Number: 9 for target class tensor([1]). Step 50, Loss: 29.851612091064453\n",
      "Generating Image Number: 9 for target class tensor([1]). Step 100, Loss: 23.0546817779541\n",
      "Generating Image Number: 9 for target class tensor([1]). Step 150, Loss: 20.92765235900879\n",
      "Generating Image Number: 9 for target class tensor([1]). Step 200, Loss: 18.764179229736328\n",
      "Generating Image Number: 9 for target class tensor([1]). Step 250, Loss: 17.46014404296875\n",
      "Generating Image Number: 9 for target class tensor([1]). Step 300, Loss: 16.5728759765625\n",
      "Generating Image Number: 9 for target class tensor([1]). Step 350, Loss: 15.885704040527344\n",
      "Generating Image Number: 9 for target class tensor([1]). Step 400, Loss: 15.035367965698242\n",
      "Generating Image Number: 9 for target class tensor([1]). Step 450, Loss: 14.131465911865234\n",
      "Generating Image Number: 10 for target class tensor([1]). Step 0, Loss: 45.47489929199219\n",
      "Generating Image Number: 10 for target class tensor([1]). Step 50, Loss: 38.081085205078125\n",
      "Generating Image Number: 10 for target class tensor([1]). Step 100, Loss: 35.255523681640625\n",
      "Generating Image Number: 10 for target class tensor([1]). Step 150, Loss: 32.02030944824219\n",
      "Generating Image Number: 10 for target class tensor([1]). Step 200, Loss: 28.759437561035156\n",
      "Generating Image Number: 10 for target class tensor([1]). Step 250, Loss: 26.443496704101562\n",
      "Generating Image Number: 10 for target class tensor([1]). Step 300, Loss: 24.865278244018555\n",
      "Generating Image Number: 10 for target class tensor([1]). Step 350, Loss: 23.71910285949707\n",
      "Generating Image Number: 10 for target class tensor([1]). Step 400, Loss: 23.024551391601562\n",
      "Generating Image Number: 10 for target class tensor([1]). Step 450, Loss: 22.312232971191406\n",
      "Generating Image Number: 11 for target class tensor([1]). Step 0, Loss: 57.77589416503906\n",
      "Generating Image Number: 11 for target class tensor([1]). Step 50, Loss: 52.37722396850586\n",
      "Generating Image Number: 11 for target class tensor([1]). Step 100, Loss: 52.81653594970703\n",
      "Generating Image Number: 11 for target class tensor([1]). Step 150, Loss: 51.404510498046875\n",
      "Generating Image Number: 11 for target class tensor([1]). Step 200, Loss: 51.453453063964844\n",
      "Generating Image Number: 11 for target class tensor([1]). Step 250, Loss: 51.009010314941406\n",
      "Generating Image Number: 11 for target class tensor([1]). Step 300, Loss: 51.004974365234375\n",
      "Generating Image Number: 11 for target class tensor([1]). Step 350, Loss: 50.638755798339844\n",
      "Generating Image Number: 11 for target class tensor([1]). Step 400, Loss: 50.6907844543457\n",
      "Generating Image Number: 11 for target class tensor([1]). Step 450, Loss: 50.478858947753906\n",
      "Generating Image Number: 12 for target class tensor([1]). Step 0, Loss: 58.342037200927734\n",
      "Generating Image Number: 12 for target class tensor([1]). Step 50, Loss: 41.20537185668945\n",
      "Generating Image Number: 12 for target class tensor([1]). Step 100, Loss: 39.385780334472656\n",
      "Generating Image Number: 12 for target class tensor([1]). Step 150, Loss: 37.551597595214844\n",
      "Generating Image Number: 12 for target class tensor([1]). Step 200, Loss: 35.49018096923828\n",
      "Generating Image Number: 12 for target class tensor([1]). Step 250, Loss: 33.414459228515625\n",
      "Generating Image Number: 12 for target class tensor([1]). Step 300, Loss: 32.05133819580078\n",
      "Generating Image Number: 12 for target class tensor([1]). Step 350, Loss: 31.3081111907959\n",
      "Generating Image Number: 12 for target class tensor([1]). Step 400, Loss: 30.529117584228516\n",
      "Generating Image Number: 12 for target class tensor([1]). Step 450, Loss: 29.978647232055664\n",
      "Generating Image Number: 13 for target class tensor([1]). Step 0, Loss: 67.68399047851562\n",
      "Generating Image Number: 13 for target class tensor([1]). Step 50, Loss: 40.562644958496094\n",
      "Generating Image Number: 13 for target class tensor([1]). Step 100, Loss: 39.05027770996094\n",
      "Generating Image Number: 13 for target class tensor([1]). Step 150, Loss: 37.953697204589844\n",
      "Generating Image Number: 13 for target class tensor([1]). Step 200, Loss: 36.45494079589844\n",
      "Generating Image Number: 13 for target class tensor([1]). Step 250, Loss: 33.78523254394531\n",
      "Generating Image Number: 13 for target class tensor([1]). Step 300, Loss: 31.548006057739258\n",
      "Generating Image Number: 13 for target class tensor([1]). Step 350, Loss: 30.22527313232422\n",
      "Generating Image Number: 13 for target class tensor([1]). Step 400, Loss: 28.995052337646484\n",
      "Generating Image Number: 13 for target class tensor([1]). Step 450, Loss: 27.886632919311523\n",
      "Generating Image Number: 14 for target class tensor([1]). Step 0, Loss: 43.565616607666016\n",
      "Generating Image Number: 14 for target class tensor([1]). Step 50, Loss: 37.206539154052734\n",
      "Generating Image Number: 14 for target class tensor([1]). Step 100, Loss: 33.438133239746094\n",
      "Generating Image Number: 14 for target class tensor([1]). Step 150, Loss: 31.212677001953125\n",
      "Generating Image Number: 14 for target class tensor([1]). Step 200, Loss: 30.167930603027344\n",
      "Generating Image Number: 14 for target class tensor([1]). Step 250, Loss: 28.62120246887207\n",
      "Generating Image Number: 14 for target class tensor([1]). Step 300, Loss: 27.826913833618164\n",
      "Generating Image Number: 14 for target class tensor([1]). Step 350, Loss: 27.4780216217041\n",
      "Generating Image Number: 14 for target class tensor([1]). Step 400, Loss: 27.21843719482422\n",
      "Generating Image Number: 14 for target class tensor([1]). Step 450, Loss: 26.991531372070312\n",
      "Generating Image Number: 15 for target class tensor([1]). Step 0, Loss: 41.590965270996094\n",
      "Generating Image Number: 15 for target class tensor([1]). Step 50, Loss: 24.724172592163086\n",
      "Generating Image Number: 15 for target class tensor([1]). Step 100, Loss: 24.89733123779297\n",
      "Generating Image Number: 15 for target class tensor([1]). Step 150, Loss: 23.747438430786133\n",
      "Generating Image Number: 15 for target class tensor([1]). Step 200, Loss: 22.78143310546875\n",
      "Generating Image Number: 15 for target class tensor([1]). Step 250, Loss: 24.273412704467773\n",
      "Generating Image Number: 15 for target class tensor([1]). Step 300, Loss: 21.771398544311523\n",
      "Generating Image Number: 15 for target class tensor([1]). Step 350, Loss: 21.498323440551758\n",
      "Generating Image Number: 15 for target class tensor([1]). Step 400, Loss: 21.62999725341797\n",
      "Generating Image Number: 15 for target class tensor([1]). Step 450, Loss: 23.913606643676758\n",
      "Generating Image Number: 16 for target class tensor([1]). Step 0, Loss: 65.08482360839844\n",
      "Generating Image Number: 16 for target class tensor([1]). Step 50, Loss: 38.99187469482422\n",
      "Generating Image Number: 16 for target class tensor([1]). Step 100, Loss: 33.22010803222656\n",
      "Generating Image Number: 16 for target class tensor([1]). Step 150, Loss: 32.370941162109375\n",
      "Generating Image Number: 16 for target class tensor([1]). Step 200, Loss: 30.991741180419922\n",
      "Generating Image Number: 16 for target class tensor([1]). Step 250, Loss: 20.748699188232422\n",
      "Generating Image Number: 16 for target class tensor([1]). Step 300, Loss: 18.606985092163086\n",
      "Generating Image Number: 16 for target class tensor([1]). Step 350, Loss: 17.258039474487305\n",
      "Generating Image Number: 16 for target class tensor([1]). Step 400, Loss: 16.13083267211914\n",
      "Generating Image Number: 16 for target class tensor([1]). Step 450, Loss: 14.702030181884766\n",
      "Generating Image Number: 17 for target class tensor([1]). Step 0, Loss: 45.35806655883789\n",
      "Generating Image Number: 17 for target class tensor([1]). Step 50, Loss: 39.001556396484375\n",
      "Generating Image Number: 17 for target class tensor([1]). Step 100, Loss: 37.46786117553711\n",
      "Generating Image Number: 17 for target class tensor([1]). Step 150, Loss: 34.48114776611328\n",
      "Generating Image Number: 17 for target class tensor([1]). Step 200, Loss: 31.62006950378418\n",
      "Generating Image Number: 17 for target class tensor([1]). Step 250, Loss: 30.134374618530273\n",
      "Generating Image Number: 17 for target class tensor([1]). Step 300, Loss: 29.089216232299805\n",
      "Generating Image Number: 17 for target class tensor([1]). Step 350, Loss: 27.84307861328125\n",
      "Generating Image Number: 17 for target class tensor([1]). Step 400, Loss: 27.133129119873047\n",
      "Generating Image Number: 17 for target class tensor([1]). Step 450, Loss: 26.64199447631836\n",
      "Generating Image Number: 18 for target class tensor([1]). Step 0, Loss: 58.54255676269531\n",
      "Generating Image Number: 18 for target class tensor([1]). Step 50, Loss: 40.51348876953125\n",
      "Generating Image Number: 18 for target class tensor([1]). Step 100, Loss: 38.842872619628906\n",
      "Generating Image Number: 18 for target class tensor([1]). Step 150, Loss: 36.05412673950195\n",
      "Generating Image Number: 18 for target class tensor([1]). Step 200, Loss: 33.34927749633789\n",
      "Generating Image Number: 18 for target class tensor([1]). Step 250, Loss: 31.234024047851562\n",
      "Generating Image Number: 18 for target class tensor([1]). Step 300, Loss: 29.950016021728516\n",
      "Generating Image Number: 18 for target class tensor([1]). Step 350, Loss: 29.389816284179688\n",
      "Generating Image Number: 18 for target class tensor([1]). Step 400, Loss: 29.046844482421875\n",
      "Generating Image Number: 18 for target class tensor([1]). Step 450, Loss: 28.585294723510742\n",
      "Generating Image Number: 19 for target class tensor([1]). Step 0, Loss: 58.76369094848633\n",
      "Generating Image Number: 19 for target class tensor([1]). Step 50, Loss: 24.182710647583008\n",
      "Generating Image Number: 19 for target class tensor([1]). Step 100, Loss: 21.286060333251953\n",
      "Generating Image Number: 19 for target class tensor([1]). Step 150, Loss: 19.43155860900879\n",
      "Generating Image Number: 19 for target class tensor([1]). Step 200, Loss: 17.934667587280273\n",
      "Generating Image Number: 19 for target class tensor([1]). Step 250, Loss: 16.74814224243164\n",
      "Generating Image Number: 19 for target class tensor([1]). Step 300, Loss: 16.54183006286621\n",
      "Generating Image Number: 19 for target class tensor([1]). Step 350, Loss: 15.559341430664062\n",
      "Generating Image Number: 19 for target class tensor([1]). Step 400, Loss: 14.720365524291992\n",
      "Generating Image Number: 19 for target class tensor([1]). Step 450, Loss: 14.276436805725098\n",
      "Generating Image Number: 20 for target class tensor([1]). Step 0, Loss: 45.698360443115234\n",
      "Generating Image Number: 20 for target class tensor([1]). Step 50, Loss: 38.92815399169922\n",
      "Generating Image Number: 20 for target class tensor([1]). Step 100, Loss: 34.510196685791016\n",
      "Generating Image Number: 20 for target class tensor([1]). Step 150, Loss: 32.179222106933594\n",
      "Generating Image Number: 20 for target class tensor([1]). Step 200, Loss: 28.536985397338867\n",
      "Generating Image Number: 20 for target class tensor([1]). Step 250, Loss: 26.18206024169922\n",
      "Generating Image Number: 20 for target class tensor([1]). Step 300, Loss: 25.490215301513672\n",
      "Generating Image Number: 20 for target class tensor([1]). Step 350, Loss: 24.75672721862793\n",
      "Generating Image Number: 20 for target class tensor([1]). Step 400, Loss: 24.31496810913086\n",
      "Generating Image Number: 20 for target class tensor([1]). Step 450, Loss: 24.002077102661133\n"
     ]
    }
   ],
   "source": [
    "torch.manual_seed(100)\n",
    "latent_vectors = torch.randn(img_count, z_dim, 1, 1, requires_grad=True) # Start with 20 random noises\n",
    "class1_optimized_latent_vectors = recover_images(img_count, 1, latent_vectors)"
   ]
  },
  {
   "cell_type": "code",
   "execution_count": 69,
   "id": "1c8af686-b1ff-419d-946d-2447773e47c9",
   "metadata": {
    "scrolled": true
   },
   "outputs": [
    {
     "name": "stdout",
     "output_type": "stream",
     "text": [
      "Generating Image Number: 1 for target class tensor([2]). Step 0, Loss: 2.4447669982910156\n",
      "Generating Image Number: 1 for target class tensor([2]). Step 50, Loss: 0.11560554802417755\n",
      "Generating Image Number: 1 for target class tensor([2]). Step 100, Loss: 0.10124833881855011\n",
      "Generating Image Number: 1 for target class tensor([2]). Step 150, Loss: 0.09543807059526443\n",
      "Generating Image Number: 1 for target class tensor([2]). Step 200, Loss: 0.08999377489089966\n",
      "Generating Image Number: 1 for target class tensor([2]). Step 250, Loss: 0.08526279032230377\n",
      "Generating Image Number: 1 for target class tensor([2]). Step 300, Loss: 0.08090464025735855\n",
      "Generating Image Number: 1 for target class tensor([2]). Step 350, Loss: 0.07680388540029526\n",
      "Generating Image Number: 1 for target class tensor([2]). Step 400, Loss: 0.07258492708206177\n",
      "Generating Image Number: 1 for target class tensor([2]). Step 450, Loss: 0.06850205361843109\n",
      "Generating Image Number: 2 for target class tensor([2]). Step 0, Loss: 3.1959121227264404\n",
      "Generating Image Number: 2 for target class tensor([2]). Step 50, Loss: 1.8973946571350098\n",
      "Generating Image Number: 2 for target class tensor([2]). Step 100, Loss: 1.6756974458694458\n",
      "Generating Image Number: 2 for target class tensor([2]). Step 150, Loss: 1.4914190769195557\n",
      "Generating Image Number: 2 for target class tensor([2]). Step 200, Loss: 1.3616671562194824\n",
      "Generating Image Number: 2 for target class tensor([2]). Step 250, Loss: 1.2618988752365112\n",
      "Generating Image Number: 2 for target class tensor([2]). Step 300, Loss: 1.194278359413147\n",
      "Generating Image Number: 2 for target class tensor([2]). Step 350, Loss: 1.1377874612808228\n",
      "Generating Image Number: 2 for target class tensor([2]). Step 400, Loss: 1.090976357460022\n",
      "Generating Image Number: 2 for target class tensor([2]). Step 450, Loss: 1.0625855922698975\n",
      "Generating Image Number: 3 for target class tensor([2]). Step 0, Loss: 0.6864023804664612\n",
      "Generating Image Number: 3 for target class tensor([2]). Step 50, Loss: 0.1423463523387909\n",
      "Generating Image Number: 3 for target class tensor([2]). Step 100, Loss: 0.11596367508172989\n",
      "Generating Image Number: 3 for target class tensor([2]). Step 150, Loss: 0.09585797786712646\n",
      "Generating Image Number: 3 for target class tensor([2]). Step 200, Loss: 0.08167164772748947\n",
      "Generating Image Number: 3 for target class tensor([2]). Step 250, Loss: 0.07003237307071686\n",
      "Generating Image Number: 3 for target class tensor([2]). Step 300, Loss: 0.06080165132880211\n",
      "Generating Image Number: 3 for target class tensor([2]). Step 350, Loss: 0.055732328444719315\n",
      "Generating Image Number: 3 for target class tensor([2]). Step 400, Loss: 0.05167830362915993\n",
      "Generating Image Number: 3 for target class tensor([2]). Step 450, Loss: 0.04831930249929428\n",
      "Generating Image Number: 4 for target class tensor([2]). Step 0, Loss: 0.844318151473999\n",
      "Generating Image Number: 4 for target class tensor([2]). Step 50, Loss: 0.6367368102073669\n",
      "Generating Image Number: 4 for target class tensor([2]). Step 100, Loss: 0.33016571402549744\n",
      "Generating Image Number: 4 for target class tensor([2]). Step 150, Loss: 0.23967738449573517\n",
      "Generating Image Number: 4 for target class tensor([2]). Step 200, Loss: 0.19481484591960907\n",
      "Generating Image Number: 4 for target class tensor([2]). Step 250, Loss: 0.16993364691734314\n",
      "Generating Image Number: 4 for target class tensor([2]). Step 300, Loss: 0.1557806134223938\n",
      "Generating Image Number: 4 for target class tensor([2]). Step 350, Loss: 0.14617334306240082\n",
      "Generating Image Number: 4 for target class tensor([2]). Step 400, Loss: 0.13712890446186066\n",
      "Generating Image Number: 4 for target class tensor([2]). Step 450, Loss: 0.1306472271680832\n",
      "Generating Image Number: 5 for target class tensor([2]). Step 0, Loss: 2.6885111331939697\n",
      "Generating Image Number: 5 for target class tensor([2]). Step 50, Loss: 1.6782811880111694\n",
      "Generating Image Number: 5 for target class tensor([2]). Step 100, Loss: 1.3274562358856201\n",
      "Generating Image Number: 5 for target class tensor([2]). Step 150, Loss: 1.039555311203003\n",
      "Generating Image Number: 5 for target class tensor([2]). Step 200, Loss: 0.8678181171417236\n",
      "Generating Image Number: 5 for target class tensor([2]). Step 250, Loss: 0.7560040354728699\n",
      "Generating Image Number: 5 for target class tensor([2]). Step 300, Loss: 0.6976417303085327\n",
      "Generating Image Number: 5 for target class tensor([2]). Step 350, Loss: 0.6529386043548584\n",
      "Generating Image Number: 5 for target class tensor([2]). Step 400, Loss: 0.6207690834999084\n",
      "Generating Image Number: 5 for target class tensor([2]). Step 450, Loss: 0.5834223031997681\n",
      "Generating Image Number: 6 for target class tensor([2]). Step 0, Loss: 2.8550262451171875\n",
      "Generating Image Number: 6 for target class tensor([2]). Step 50, Loss: 0.44612282514572144\n",
      "Generating Image Number: 6 for target class tensor([2]). Step 100, Loss: 0.30737924575805664\n",
      "Generating Image Number: 6 for target class tensor([2]). Step 150, Loss: 0.2185647040605545\n",
      "Generating Image Number: 6 for target class tensor([2]). Step 200, Loss: 0.169345885515213\n",
      "Generating Image Number: 6 for target class tensor([2]). Step 250, Loss: 0.13765551149845123\n",
      "Generating Image Number: 6 for target class tensor([2]). Step 300, Loss: 0.11197187006473541\n",
      "Generating Image Number: 6 for target class tensor([2]). Step 350, Loss: 0.09160830080509186\n",
      "Generating Image Number: 6 for target class tensor([2]). Step 400, Loss: 0.07774236798286438\n",
      "Generating Image Number: 6 for target class tensor([2]). Step 450, Loss: 0.06920287758111954\n",
      "Generating Image Number: 7 for target class tensor([2]). Step 0, Loss: 2.983720302581787\n",
      "Generating Image Number: 7 for target class tensor([2]). Step 50, Loss: 0.41075652837753296\n",
      "Generating Image Number: 7 for target class tensor([2]). Step 100, Loss: 0.16399231553077698\n",
      "Generating Image Number: 7 for target class tensor([2]). Step 150, Loss: 0.13724353909492493\n",
      "Generating Image Number: 7 for target class tensor([2]). Step 200, Loss: 0.11703984439373016\n",
      "Generating Image Number: 7 for target class tensor([2]). Step 250, Loss: 0.10130112618207932\n",
      "Generating Image Number: 7 for target class tensor([2]). Step 300, Loss: 0.08891938626766205\n",
      "Generating Image Number: 7 for target class tensor([2]). Step 350, Loss: 0.07820527255535126\n",
      "Generating Image Number: 7 for target class tensor([2]). Step 400, Loss: 0.06975357979536057\n",
      "Generating Image Number: 7 for target class tensor([2]). Step 450, Loss: 0.06229563429951668\n",
      "Generating Image Number: 8 for target class tensor([2]). Step 0, Loss: 2.416508197784424\n",
      "Generating Image Number: 8 for target class tensor([2]). Step 50, Loss: 0.0840686708688736\n",
      "Generating Image Number: 8 for target class tensor([2]). Step 100, Loss: 0.07633315771818161\n",
      "Generating Image Number: 8 for target class tensor([2]). Step 150, Loss: 0.06755318492650986\n",
      "Generating Image Number: 8 for target class tensor([2]). Step 200, Loss: 0.05792556330561638\n",
      "Generating Image Number: 8 for target class tensor([2]). Step 250, Loss: 0.05037514120340347\n",
      "Generating Image Number: 8 for target class tensor([2]). Step 300, Loss: 0.045916229486465454\n",
      "Generating Image Number: 8 for target class tensor([2]). Step 350, Loss: 0.043205779045820236\n",
      "Generating Image Number: 8 for target class tensor([2]). Step 400, Loss: 0.04105458781123161\n",
      "Generating Image Number: 8 for target class tensor([2]). Step 450, Loss: 0.038384370505809784\n",
      "Generating Image Number: 9 for target class tensor([2]). Step 0, Loss: 1.0559577941894531\n",
      "Generating Image Number: 9 for target class tensor([2]). Step 50, Loss: 0.14040036499500275\n",
      "Generating Image Number: 9 for target class tensor([2]). Step 100, Loss: 0.11761559545993805\n",
      "Generating Image Number: 9 for target class tensor([2]). Step 150, Loss: 0.1059475764632225\n",
      "Generating Image Number: 9 for target class tensor([2]). Step 200, Loss: 0.09598328918218613\n",
      "Generating Image Number: 9 for target class tensor([2]). Step 250, Loss: 0.08561356365680695\n",
      "Generating Image Number: 9 for target class tensor([2]). Step 300, Loss: 0.0764632597565651\n",
      "Generating Image Number: 9 for target class tensor([2]). Step 350, Loss: 0.06978415697813034\n",
      "Generating Image Number: 9 for target class tensor([2]). Step 400, Loss: 0.06495311111211777\n",
      "Generating Image Number: 9 for target class tensor([2]). Step 450, Loss: 0.06059690937399864\n",
      "Generating Image Number: 10 for target class tensor([2]). Step 0, Loss: 2.7418479919433594\n",
      "Generating Image Number: 10 for target class tensor([2]). Step 50, Loss: 1.7946743965148926\n",
      "Generating Image Number: 10 for target class tensor([2]). Step 100, Loss: 1.4910376071929932\n",
      "Generating Image Number: 10 for target class tensor([2]). Step 150, Loss: 1.2819992303848267\n",
      "Generating Image Number: 10 for target class tensor([2]). Step 200, Loss: 1.1186424493789673\n",
      "Generating Image Number: 10 for target class tensor([2]). Step 250, Loss: 0.9846163392066956\n",
      "Generating Image Number: 10 for target class tensor([2]). Step 300, Loss: 0.8579517602920532\n",
      "Generating Image Number: 10 for target class tensor([2]). Step 350, Loss: 0.7842057943344116\n",
      "Generating Image Number: 10 for target class tensor([2]). Step 400, Loss: 0.7287228107452393\n",
      "Generating Image Number: 10 for target class tensor([2]). Step 450, Loss: 0.6881062388420105\n",
      "Generating Image Number: 11 for target class tensor([2]). Step 0, Loss: 1.0574074983596802\n",
      "Generating Image Number: 11 for target class tensor([2]). Step 50, Loss: 0.6236624121665955\n",
      "Generating Image Number: 11 for target class tensor([2]). Step 100, Loss: 0.5644280314445496\n",
      "Generating Image Number: 11 for target class tensor([2]). Step 150, Loss: 0.5157408118247986\n",
      "Generating Image Number: 11 for target class tensor([2]). Step 200, Loss: 0.47982850670814514\n",
      "Generating Image Number: 11 for target class tensor([2]). Step 250, Loss: 0.44764411449432373\n",
      "Generating Image Number: 11 for target class tensor([2]). Step 300, Loss: 0.42219018936157227\n",
      "Generating Image Number: 11 for target class tensor([2]). Step 350, Loss: 0.3604535460472107\n",
      "Generating Image Number: 11 for target class tensor([2]). Step 400, Loss: 0.16407708823680878\n",
      "Generating Image Number: 11 for target class tensor([2]). Step 450, Loss: 0.09404903650283813\n",
      "Generating Image Number: 12 for target class tensor([2]). Step 0, Loss: 24.42078399658203\n",
      "Generating Image Number: 12 for target class tensor([2]). Step 50, Loss: 23.598482131958008\n",
      "Generating Image Number: 12 for target class tensor([2]). Step 100, Loss: 22.958656311035156\n",
      "Generating Image Number: 12 for target class tensor([2]). Step 150, Loss: 0.20155571401119232\n",
      "Generating Image Number: 12 for target class tensor([2]). Step 200, Loss: 0.16391853988170624\n",
      "Generating Image Number: 12 for target class tensor([2]). Step 250, Loss: 0.16132411360740662\n",
      "Generating Image Number: 12 for target class tensor([2]). Step 300, Loss: 0.15870867669582367\n",
      "Generating Image Number: 12 for target class tensor([2]). Step 350, Loss: 0.15601582825183868\n",
      "Generating Image Number: 12 for target class tensor([2]). Step 400, Loss: 0.1532868593931198\n",
      "Generating Image Number: 12 for target class tensor([2]). Step 450, Loss: 0.15019646286964417\n",
      "Generating Image Number: 13 for target class tensor([2]). Step 0, Loss: 3.729034662246704\n",
      "Generating Image Number: 13 for target class tensor([2]). Step 50, Loss: 1.6279234886169434\n",
      "Generating Image Number: 13 for target class tensor([2]). Step 100, Loss: 1.4069948196411133\n",
      "Generating Image Number: 13 for target class tensor([2]). Step 150, Loss: 1.2428191900253296\n",
      "Generating Image Number: 13 for target class tensor([2]). Step 200, Loss: 1.0678521394729614\n",
      "Generating Image Number: 13 for target class tensor([2]). Step 250, Loss: 0.9215489029884338\n",
      "Generating Image Number: 13 for target class tensor([2]). Step 300, Loss: 0.8226321339607239\n",
      "Generating Image Number: 13 for target class tensor([2]). Step 350, Loss: 0.750143826007843\n",
      "Generating Image Number: 13 for target class tensor([2]). Step 400, Loss: 0.6933015584945679\n",
      "Generating Image Number: 13 for target class tensor([2]). Step 450, Loss: 0.6508442759513855\n",
      "Generating Image Number: 14 for target class tensor([2]). Step 0, Loss: 1.8641033172607422\n",
      "Generating Image Number: 14 for target class tensor([2]). Step 50, Loss: 0.08039744943380356\n",
      "Generating Image Number: 14 for target class tensor([2]). Step 100, Loss: 0.0726238414645195\n",
      "Generating Image Number: 14 for target class tensor([2]). Step 150, Loss: 0.06491479277610779\n",
      "Generating Image Number: 14 for target class tensor([2]). Step 200, Loss: 0.05913027748465538\n",
      "Generating Image Number: 14 for target class tensor([2]). Step 250, Loss: 0.05352421849966049\n",
      "Generating Image Number: 14 for target class tensor([2]). Step 300, Loss: 0.04900728166103363\n",
      "Generating Image Number: 14 for target class tensor([2]). Step 350, Loss: 0.045346200466156006\n",
      "Generating Image Number: 14 for target class tensor([2]). Step 400, Loss: 0.042446497827768326\n",
      "Generating Image Number: 14 for target class tensor([2]). Step 450, Loss: 0.039868324995040894\n",
      "Generating Image Number: 15 for target class tensor([2]). Step 0, Loss: 1.6698904037475586\n",
      "Generating Image Number: 15 for target class tensor([2]). Step 50, Loss: 0.06455578655004501\n",
      "Generating Image Number: 15 for target class tensor([2]). Step 100, Loss: 0.05309293046593666\n",
      "Generating Image Number: 15 for target class tensor([2]). Step 150, Loss: 0.046652741730213165\n",
      "Generating Image Number: 15 for target class tensor([2]). Step 200, Loss: 0.0420621857047081\n",
      "Generating Image Number: 15 for target class tensor([2]). Step 250, Loss: 0.03840869292616844\n",
      "Generating Image Number: 15 for target class tensor([2]). Step 300, Loss: 0.03544827550649643\n",
      "Generating Image Number: 15 for target class tensor([2]). Step 350, Loss: 0.03292049095034599\n",
      "Generating Image Number: 15 for target class tensor([2]). Step 400, Loss: 0.030233873054385185\n",
      "Generating Image Number: 15 for target class tensor([2]). Step 450, Loss: 0.028120748698711395\n",
      "Generating Image Number: 16 for target class tensor([2]). Step 0, Loss: 1.3328884840011597\n",
      "Generating Image Number: 16 for target class tensor([2]). Step 50, Loss: 0.07989682257175446\n",
      "Generating Image Number: 16 for target class tensor([2]). Step 100, Loss: 0.07034053653478622\n",
      "Generating Image Number: 16 for target class tensor([2]). Step 150, Loss: 0.0630401074886322\n",
      "Generating Image Number: 16 for target class tensor([2]). Step 200, Loss: 0.05680060386657715\n",
      "Generating Image Number: 16 for target class tensor([2]). Step 250, Loss: 0.051965463906526566\n",
      "Generating Image Number: 16 for target class tensor([2]). Step 300, Loss: 0.04834622144699097\n",
      "Generating Image Number: 16 for target class tensor([2]). Step 350, Loss: 0.044502004981040955\n",
      "Generating Image Number: 16 for target class tensor([2]). Step 400, Loss: 0.041089024394750595\n",
      "Generating Image Number: 16 for target class tensor([2]). Step 450, Loss: 0.037810951471328735\n",
      "Generating Image Number: 17 for target class tensor([2]). Step 0, Loss: 0.42530137300491333\n",
      "Generating Image Number: 17 for target class tensor([2]). Step 50, Loss: 0.20081980526447296\n",
      "Generating Image Number: 17 for target class tensor([2]). Step 100, Loss: 0.15050549805164337\n",
      "Generating Image Number: 17 for target class tensor([2]). Step 150, Loss: 0.12656594812870026\n",
      "Generating Image Number: 17 for target class tensor([2]). Step 200, Loss: 0.10447482764720917\n",
      "Generating Image Number: 17 for target class tensor([2]). Step 250, Loss: 0.08910881727933884\n",
      "Generating Image Number: 17 for target class tensor([2]). Step 300, Loss: 0.0798024982213974\n",
      "Generating Image Number: 17 for target class tensor([2]). Step 350, Loss: 0.07381563633680344\n",
      "Generating Image Number: 17 for target class tensor([2]). Step 400, Loss: 0.0687059611082077\n",
      "Generating Image Number: 17 for target class tensor([2]). Step 450, Loss: 0.06379655748605728\n",
      "Generating Image Number: 18 for target class tensor([2]). Step 0, Loss: 22.93972396850586\n",
      "Generating Image Number: 18 for target class tensor([2]). Step 50, Loss: 0.1050512045621872\n",
      "Generating Image Number: 18 for target class tensor([2]). Step 100, Loss: 0.09779868274927139\n",
      "Generating Image Number: 18 for target class tensor([2]). Step 150, Loss: 0.09110553562641144\n",
      "Generating Image Number: 18 for target class tensor([2]). Step 200, Loss: 0.07509171962738037\n",
      "Generating Image Number: 18 for target class tensor([2]). Step 250, Loss: 0.05885505676269531\n",
      "Generating Image Number: 18 for target class tensor([2]). Step 300, Loss: 0.05747782438993454\n",
      "Generating Image Number: 18 for target class tensor([2]). Step 350, Loss: 0.05677875131368637\n",
      "Generating Image Number: 18 for target class tensor([2]). Step 400, Loss: 0.056103989481925964\n",
      "Generating Image Number: 18 for target class tensor([2]). Step 450, Loss: 0.055301882326602936\n",
      "Generating Image Number: 19 for target class tensor([2]). Step 0, Loss: 2.4124088287353516\n",
      "Generating Image Number: 19 for target class tensor([2]). Step 50, Loss: 1.7107470035552979\n",
      "Generating Image Number: 19 for target class tensor([2]). Step 100, Loss: 1.3724355697631836\n",
      "Generating Image Number: 19 for target class tensor([2]). Step 150, Loss: 1.1059226989746094\n",
      "Generating Image Number: 19 for target class tensor([2]). Step 200, Loss: 0.9226871728897095\n",
      "Generating Image Number: 19 for target class tensor([2]). Step 250, Loss: 0.7930389046669006\n",
      "Generating Image Number: 19 for target class tensor([2]). Step 300, Loss: 0.7006359100341797\n",
      "Generating Image Number: 19 for target class tensor([2]). Step 350, Loss: 0.6421170234680176\n",
      "Generating Image Number: 19 for target class tensor([2]). Step 400, Loss: 0.6033101677894592\n",
      "Generating Image Number: 19 for target class tensor([2]). Step 450, Loss: 0.5742261409759521\n",
      "Generating Image Number: 20 for target class tensor([2]). Step 0, Loss: 0.3746148943901062\n",
      "Generating Image Number: 20 for target class tensor([2]). Step 50, Loss: 0.11565747857093811\n",
      "Generating Image Number: 20 for target class tensor([2]). Step 100, Loss: 0.08192825317382812\n",
      "Generating Image Number: 20 for target class tensor([2]). Step 150, Loss: 0.06361815333366394\n",
      "Generating Image Number: 20 for target class tensor([2]). Step 200, Loss: 0.05200337618589401\n",
      "Generating Image Number: 20 for target class tensor([2]). Step 250, Loss: 0.043003566563129425\n",
      "Generating Image Number: 20 for target class tensor([2]). Step 300, Loss: 0.03703710809350014\n",
      "Generating Image Number: 20 for target class tensor([2]). Step 350, Loss: 0.032901689410209656\n",
      "Generating Image Number: 20 for target class tensor([2]). Step 400, Loss: 0.029550209641456604\n",
      "Generating Image Number: 20 for target class tensor([2]). Step 450, Loss: 0.026751451194286346\n"
     ]
    }
   ],
   "source": [
    "torch.manual_seed(200)\n",
    "latent_vectors = torch.randn(img_count, z_dim, 1, 1, requires_grad=True) # Start with 20 random noises\n",
    "class2_optimized_latent_vectors = recover_images(img_count, 2, latent_vectors)"
   ]
  },
  {
   "cell_type": "code",
   "execution_count": 23,
   "id": "0381b36d-6c92-43bc-b776-1eefd3eab451",
   "metadata": {
    "scrolled": true
   },
   "outputs": [
    {
     "name": "stdout",
     "output_type": "stream",
     "text": [
      "Generating Image Number: 1 for target class tensor([3]). Step 0, Loss: 0.04557812213897705\n",
      "Generating Image Number: 1 for target class tensor([3]). Step 50, Loss: 0.06030896306037903\n",
      "Generating Image Number: 1 for target class tensor([3]). Step 100, Loss: 0.030153140425682068\n",
      "Generating Image Number: 1 for target class tensor([3]). Step 150, Loss: 0.022564096376299858\n",
      "Generating Image Number: 1 for target class tensor([3]). Step 200, Loss: 0.018191518262028694\n",
      "Generating Image Number: 1 for target class tensor([3]). Step 250, Loss: 0.016279619187116623\n",
      "Generating Image Number: 1 for target class tensor([3]). Step 300, Loss: 0.014990420080721378\n",
      "Generating Image Number: 1 for target class tensor([3]). Step 350, Loss: 0.013955865055322647\n",
      "Generating Image Number: 1 for target class tensor([3]). Step 400, Loss: 0.013101093471050262\n",
      "Generating Image Number: 1 for target class tensor([3]). Step 450, Loss: 0.012444819323718548\n",
      "Generating Image Number: 2 for target class tensor([3]). Step 0, Loss: 25.418519973754883\n",
      "Generating Image Number: 2 for target class tensor([3]). Step 50, Loss: 16.50905418395996\n",
      "Generating Image Number: 2 for target class tensor([3]). Step 100, Loss: 14.617631912231445\n",
      "Generating Image Number: 2 for target class tensor([3]). Step 150, Loss: 12.684531211853027\n",
      "Generating Image Number: 2 for target class tensor([3]). Step 200, Loss: 11.508016586303711\n",
      "Generating Image Number: 2 for target class tensor([3]). Step 250, Loss: 10.33375358581543\n",
      "Generating Image Number: 2 for target class tensor([3]). Step 300, Loss: 9.071365356445312\n",
      "Generating Image Number: 2 for target class tensor([3]). Step 350, Loss: 7.991394996643066\n",
      "Generating Image Number: 2 for target class tensor([3]). Step 400, Loss: 7.206618309020996\n",
      "Generating Image Number: 2 for target class tensor([3]). Step 450, Loss: 6.669158935546875\n",
      "Generating Image Number: 3 for target class tensor([3]). Step 0, Loss: 26.14988899230957\n",
      "Generating Image Number: 3 for target class tensor([3]). Step 50, Loss: 19.76823616027832\n",
      "Generating Image Number: 3 for target class tensor([3]). Step 100, Loss: 16.27552604675293\n",
      "Generating Image Number: 3 for target class tensor([3]). Step 150, Loss: 12.934173583984375\n",
      "Generating Image Number: 3 for target class tensor([3]). Step 200, Loss: 10.472341537475586\n",
      "Generating Image Number: 3 for target class tensor([3]). Step 250, Loss: 8.24879264831543\n",
      "Generating Image Number: 3 for target class tensor([3]). Step 300, Loss: 6.578747749328613\n",
      "Generating Image Number: 3 for target class tensor([3]). Step 350, Loss: 5.4853057861328125\n",
      "Generating Image Number: 3 for target class tensor([3]). Step 400, Loss: 4.359513282775879\n",
      "Generating Image Number: 3 for target class tensor([3]). Step 450, Loss: 3.2452940940856934\n",
      "Generating Image Number: 4 for target class tensor([3]). Step 0, Loss: 41.43012237548828\n",
      "Generating Image Number: 4 for target class tensor([3]). Step 50, Loss: 39.135719299316406\n",
      "Generating Image Number: 4 for target class tensor([3]). Step 100, Loss: 38.15167999267578\n",
      "Generating Image Number: 4 for target class tensor([3]). Step 150, Loss: 37.438865661621094\n",
      "Generating Image Number: 4 for target class tensor([3]). Step 200, Loss: 36.92888641357422\n",
      "Generating Image Number: 4 for target class tensor([3]). Step 250, Loss: 36.55384826660156\n",
      "Generating Image Number: 4 for target class tensor([3]). Step 300, Loss: 36.09059143066406\n",
      "Generating Image Number: 4 for target class tensor([3]). Step 350, Loss: 35.793479919433594\n",
      "Generating Image Number: 4 for target class tensor([3]). Step 400, Loss: 35.46306610107422\n",
      "Generating Image Number: 4 for target class tensor([3]). Step 450, Loss: 35.11653137207031\n",
      "Generating Image Number: 5 for target class tensor([3]). Step 0, Loss: 36.51728820800781\n",
      "Generating Image Number: 5 for target class tensor([3]). Step 50, Loss: 15.481627464294434\n",
      "Generating Image Number: 5 for target class tensor([3]). Step 100, Loss: 9.57044506072998\n",
      "Generating Image Number: 5 for target class tensor([3]). Step 150, Loss: 3.9679477214813232\n",
      "Generating Image Number: 5 for target class tensor([3]). Step 200, Loss: 0.06869349628686905\n",
      "Generating Image Number: 5 for target class tensor([3]). Step 250, Loss: 0.019872495904564857\n",
      "Generating Image Number: 5 for target class tensor([3]). Step 300, Loss: 0.013369552791118622\n",
      "Generating Image Number: 5 for target class tensor([3]). Step 350, Loss: 0.0101502425968647\n",
      "Generating Image Number: 5 for target class tensor([3]). Step 400, Loss: 0.008366062305867672\n",
      "Generating Image Number: 5 for target class tensor([3]). Step 450, Loss: 0.0072077009826898575\n",
      "Generating Image Number: 6 for target class tensor([3]). Step 0, Loss: 22.28377914428711\n",
      "Generating Image Number: 6 for target class tensor([3]). Step 50, Loss: 3.9044346809387207\n",
      "Generating Image Number: 6 for target class tensor([3]). Step 100, Loss: 2.507746458053589\n",
      "Generating Image Number: 6 for target class tensor([3]). Step 150, Loss: 0.2624666392803192\n",
      "Generating Image Number: 6 for target class tensor([3]). Step 200, Loss: 0.1121857538819313\n",
      "Generating Image Number: 6 for target class tensor([3]). Step 250, Loss: 0.08458474278450012\n",
      "Generating Image Number: 6 for target class tensor([3]). Step 300, Loss: 0.0677855834364891\n",
      "Generating Image Number: 6 for target class tensor([3]). Step 350, Loss: 0.054062165319919586\n",
      "Generating Image Number: 6 for target class tensor([3]). Step 400, Loss: 0.04430142417550087\n",
      "Generating Image Number: 6 for target class tensor([3]). Step 450, Loss: 0.03970026597380638\n",
      "Generating Image Number: 7 for target class tensor([3]). Step 0, Loss: 24.04245948791504\n",
      "Generating Image Number: 7 for target class tensor([3]). Step 50, Loss: 0.5766106843948364\n",
      "Generating Image Number: 7 for target class tensor([3]). Step 100, Loss: 0.05711309239268303\n",
      "Generating Image Number: 7 for target class tensor([3]). Step 150, Loss: 0.039898451417684555\n",
      "Generating Image Number: 7 for target class tensor([3]). Step 200, Loss: 0.0317133292555809\n",
      "Generating Image Number: 7 for target class tensor([3]). Step 250, Loss: 0.026387065649032593\n",
      "Generating Image Number: 7 for target class tensor([3]). Step 300, Loss: 0.022328173741698265\n",
      "Generating Image Number: 7 for target class tensor([3]). Step 350, Loss: 0.01910966821014881\n",
      "Generating Image Number: 7 for target class tensor([3]). Step 400, Loss: 0.017324429005384445\n",
      "Generating Image Number: 7 for target class tensor([3]). Step 450, Loss: 0.0156501904129982\n",
      "Generating Image Number: 8 for target class tensor([3]). Step 0, Loss: 29.191082000732422\n",
      "Generating Image Number: 8 for target class tensor([3]). Step 50, Loss: 16.115909576416016\n",
      "Generating Image Number: 8 for target class tensor([3]). Step 100, Loss: 13.783822059631348\n",
      "Generating Image Number: 8 for target class tensor([3]). Step 150, Loss: 8.068438529968262\n",
      "Generating Image Number: 8 for target class tensor([3]). Step 200, Loss: 6.213931560516357\n",
      "Generating Image Number: 8 for target class tensor([3]). Step 250, Loss: 2.1958112716674805\n",
      "Generating Image Number: 8 for target class tensor([3]). Step 300, Loss: 0.073183074593544\n",
      "Generating Image Number: 8 for target class tensor([3]). Step 350, Loss: 0.030182750895619392\n",
      "Generating Image Number: 8 for target class tensor([3]). Step 400, Loss: 0.018640929833054543\n",
      "Generating Image Number: 8 for target class tensor([3]). Step 450, Loss: 0.013497169129550457\n",
      "Generating Image Number: 9 for target class tensor([3]). Step 0, Loss: 33.785057067871094\n",
      "Generating Image Number: 9 for target class tensor([3]). Step 50, Loss: 17.96768569946289\n",
      "Generating Image Number: 9 for target class tensor([3]). Step 100, Loss: 16.360319137573242\n",
      "Generating Image Number: 9 for target class tensor([3]). Step 150, Loss: 14.390487670898438\n",
      "Generating Image Number: 9 for target class tensor([3]). Step 200, Loss: 12.363092422485352\n",
      "Generating Image Number: 9 for target class tensor([3]). Step 250, Loss: 10.562276840209961\n",
      "Generating Image Number: 9 for target class tensor([3]). Step 300, Loss: 9.125232696533203\n",
      "Generating Image Number: 9 for target class tensor([3]). Step 350, Loss: 7.998147487640381\n",
      "Generating Image Number: 9 for target class tensor([3]). Step 400, Loss: 5.864169597625732\n",
      "Generating Image Number: 9 for target class tensor([3]). Step 450, Loss: 3.9867162704467773\n",
      "Generating Image Number: 10 for target class tensor([3]). Step 0, Loss: 20.218860626220703\n",
      "Generating Image Number: 10 for target class tensor([3]). Step 50, Loss: 16.263134002685547\n",
      "Generating Image Number: 10 for target class tensor([3]). Step 100, Loss: 14.173698425292969\n",
      "Generating Image Number: 10 for target class tensor([3]). Step 150, Loss: 9.288811683654785\n",
      "Generating Image Number: 10 for target class tensor([3]). Step 200, Loss: 5.470761299133301\n",
      "Generating Image Number: 10 for target class tensor([3]). Step 250, Loss: 0.07472783327102661\n",
      "Generating Image Number: 10 for target class tensor([3]). Step 300, Loss: 0.01846575364470482\n",
      "Generating Image Number: 10 for target class tensor([3]). Step 350, Loss: 0.009879383258521557\n",
      "Generating Image Number: 10 for target class tensor([3]). Step 400, Loss: 0.007020922377705574\n",
      "Generating Image Number: 10 for target class tensor([3]). Step 450, Loss: 0.005371660925447941\n",
      "Generating Image Number: 11 for target class tensor([3]). Step 0, Loss: 33.529075622558594\n",
      "Generating Image Number: 11 for target class tensor([3]). Step 50, Loss: 20.494068145751953\n",
      "Generating Image Number: 11 for target class tensor([3]). Step 100, Loss: 18.918764114379883\n",
      "Generating Image Number: 11 for target class tensor([3]). Step 150, Loss: 18.15357780456543\n",
      "Generating Image Number: 11 for target class tensor([3]). Step 200, Loss: 17.36769676208496\n",
      "Generating Image Number: 11 for target class tensor([3]). Step 250, Loss: 16.401731491088867\n",
      "Generating Image Number: 11 for target class tensor([3]). Step 300, Loss: 15.206498146057129\n",
      "Generating Image Number: 11 for target class tensor([3]). Step 350, Loss: 12.632533073425293\n",
      "Generating Image Number: 11 for target class tensor([3]). Step 400, Loss: 6.289397239685059\n",
      "Generating Image Number: 11 for target class tensor([3]). Step 450, Loss: 2.497790813446045\n",
      "Generating Image Number: 12 for target class tensor([3]). Step 0, Loss: 48.378326416015625\n",
      "Generating Image Number: 12 for target class tensor([3]). Step 50, Loss: 38.71392822265625\n",
      "Generating Image Number: 12 for target class tensor([3]). Step 100, Loss: 37.949668884277344\n",
      "Generating Image Number: 12 for target class tensor([3]). Step 150, Loss: 36.971046447753906\n",
      "Generating Image Number: 12 for target class tensor([3]). Step 200, Loss: 36.01102828979492\n",
      "Generating Image Number: 12 for target class tensor([3]). Step 250, Loss: 34.798675537109375\n",
      "Generating Image Number: 12 for target class tensor([3]). Step 300, Loss: 34.09992218017578\n",
      "Generating Image Number: 12 for target class tensor([3]). Step 350, Loss: 33.6181640625\n",
      "Generating Image Number: 12 for target class tensor([3]). Step 400, Loss: 33.16606903076172\n",
      "Generating Image Number: 12 for target class tensor([3]). Step 450, Loss: 32.80250549316406\n",
      "Generating Image Number: 13 for target class tensor([3]). Step 0, Loss: 42.19529342651367\n",
      "Generating Image Number: 13 for target class tensor([3]). Step 50, Loss: 15.700340270996094\n",
      "Generating Image Number: 13 for target class tensor([3]). Step 100, Loss: 14.254393577575684\n",
      "Generating Image Number: 13 for target class tensor([3]). Step 150, Loss: 12.635001182556152\n",
      "Generating Image Number: 13 for target class tensor([3]). Step 200, Loss: 10.830365180969238\n",
      "Generating Image Number: 13 for target class tensor([3]). Step 250, Loss: 9.198163032531738\n",
      "Generating Image Number: 13 for target class tensor([3]). Step 300, Loss: 4.457143783569336\n",
      "Generating Image Number: 13 for target class tensor([3]). Step 350, Loss: 0.05465681850910187\n",
      "Generating Image Number: 13 for target class tensor([3]). Step 400, Loss: 0.02105165645480156\n",
      "Generating Image Number: 13 for target class tensor([3]). Step 450, Loss: 0.013763287104666233\n",
      "Generating Image Number: 14 for target class tensor([3]). Step 0, Loss: 28.15170669555664\n",
      "Generating Image Number: 14 for target class tensor([3]). Step 50, Loss: 16.664981842041016\n",
      "Generating Image Number: 14 for target class tensor([3]). Step 100, Loss: 15.409561157226562\n",
      "Generating Image Number: 14 for target class tensor([3]). Step 150, Loss: 14.47237777709961\n",
      "Generating Image Number: 14 for target class tensor([3]). Step 200, Loss: 13.565037727355957\n",
      "Generating Image Number: 14 for target class tensor([3]). Step 250, Loss: 11.993452072143555\n",
      "Generating Image Number: 14 for target class tensor([3]). Step 300, Loss: 9.753592491149902\n",
      "Generating Image Number: 14 for target class tensor([3]). Step 350, Loss: 6.679973125457764\n",
      "Generating Image Number: 14 for target class tensor([3]). Step 400, Loss: 5.6249189376831055\n",
      "Generating Image Number: 14 for target class tensor([3]). Step 450, Loss: 4.990885257720947\n",
      "Generating Image Number: 15 for target class tensor([3]). Step 0, Loss: 27.46803855895996\n",
      "Generating Image Number: 15 for target class tensor([3]). Step 50, Loss: 3.193129301071167\n",
      "Generating Image Number: 15 for target class tensor([3]). Step 100, Loss: 0.1611286997795105\n",
      "Generating Image Number: 15 for target class tensor([3]). Step 150, Loss: 0.11537273973226547\n",
      "Generating Image Number: 15 for target class tensor([3]). Step 200, Loss: 0.09614843130111694\n",
      "Generating Image Number: 15 for target class tensor([3]). Step 250, Loss: 0.08081305027008057\n",
      "Generating Image Number: 15 for target class tensor([3]). Step 300, Loss: 0.06827616691589355\n",
      "Generating Image Number: 15 for target class tensor([3]). Step 350, Loss: 0.06049121171236038\n",
      "Generating Image Number: 15 for target class tensor([3]). Step 400, Loss: 0.053116898983716965\n",
      "Generating Image Number: 15 for target class tensor([3]). Step 450, Loss: 0.04901466146111488\n",
      "Generating Image Number: 16 for target class tensor([3]). Step 0, Loss: 44.709102630615234\n",
      "Generating Image Number: 16 for target class tensor([3]). Step 50, Loss: 35.799339294433594\n",
      "Generating Image Number: 16 for target class tensor([3]). Step 100, Loss: 37.470733642578125\n",
      "Generating Image Number: 16 for target class tensor([3]). Step 150, Loss: 35.75151824951172\n",
      "Generating Image Number: 16 for target class tensor([3]). Step 200, Loss: 35.1478157043457\n",
      "Generating Image Number: 16 for target class tensor([3]). Step 250, Loss: 33.266448974609375\n",
      "Generating Image Number: 16 for target class tensor([3]). Step 300, Loss: 28.265296936035156\n",
      "Generating Image Number: 16 for target class tensor([3]). Step 350, Loss: 27.61121368408203\n",
      "Generating Image Number: 16 for target class tensor([3]). Step 400, Loss: 27.088144302368164\n",
      "Generating Image Number: 16 for target class tensor([3]). Step 450, Loss: 25.657548904418945\n",
      "Generating Image Number: 17 for target class tensor([3]). Step 0, Loss: 25.576976776123047\n",
      "Generating Image Number: 17 for target class tensor([3]). Step 50, Loss: 3.170801877975464\n",
      "Generating Image Number: 17 for target class tensor([3]). Step 100, Loss: 1.5400477647781372\n",
      "Generating Image Number: 17 for target class tensor([3]). Step 150, Loss: 0.7297089695930481\n",
      "Generating Image Number: 17 for target class tensor([3]). Step 200, Loss: 0.4155711531639099\n",
      "Generating Image Number: 17 for target class tensor([3]). Step 250, Loss: 0.26779285073280334\n",
      "Generating Image Number: 17 for target class tensor([3]). Step 300, Loss: 0.182911217212677\n",
      "Generating Image Number: 17 for target class tensor([3]). Step 350, Loss: 0.1372658908367157\n",
      "Generating Image Number: 17 for target class tensor([3]). Step 400, Loss: 0.10355133563280106\n",
      "Generating Image Number: 17 for target class tensor([3]). Step 450, Loss: 0.08161671459674835\n",
      "Generating Image Number: 18 for target class tensor([3]). Step 0, Loss: 47.750511169433594\n",
      "Generating Image Number: 18 for target class tensor([3]). Step 50, Loss: 40.05509948730469\n",
      "Generating Image Number: 18 for target class tensor([3]). Step 100, Loss: 38.64740753173828\n",
      "Generating Image Number: 18 for target class tensor([3]). Step 150, Loss: 37.42925262451172\n",
      "Generating Image Number: 18 for target class tensor([3]). Step 200, Loss: 36.51218032836914\n",
      "Generating Image Number: 18 for target class tensor([3]). Step 250, Loss: 35.885498046875\n",
      "Generating Image Number: 18 for target class tensor([3]). Step 300, Loss: 35.32203674316406\n",
      "Generating Image Number: 18 for target class tensor([3]). Step 350, Loss: 34.707359313964844\n",
      "Generating Image Number: 18 for target class tensor([3]). Step 400, Loss: 33.98890686035156\n",
      "Generating Image Number: 18 for target class tensor([3]). Step 450, Loss: 33.489200592041016\n",
      "Generating Image Number: 19 for target class tensor([3]). Step 0, Loss: 50.55542755126953\n",
      "Generating Image Number: 19 for target class tensor([3]). Step 50, Loss: 41.16067886352539\n",
      "Generating Image Number: 19 for target class tensor([3]). Step 100, Loss: 40.86842346191406\n",
      "Generating Image Number: 19 for target class tensor([3]). Step 150, Loss: 40.6900634765625\n",
      "Generating Image Number: 19 for target class tensor([3]). Step 200, Loss: 40.50105667114258\n",
      "Generating Image Number: 19 for target class tensor([3]). Step 250, Loss: 40.288917541503906\n",
      "Generating Image Number: 19 for target class tensor([3]). Step 300, Loss: 40.07987976074219\n",
      "Generating Image Number: 19 for target class tensor([3]). Step 350, Loss: 39.82146453857422\n",
      "Generating Image Number: 19 for target class tensor([3]). Step 400, Loss: 39.63127899169922\n",
      "Generating Image Number: 19 for target class tensor([3]). Step 450, Loss: 39.41347122192383\n",
      "Generating Image Number: 20 for target class tensor([3]). Step 0, Loss: 32.99726486206055\n",
      "Generating Image Number: 20 for target class tensor([3]). Step 50, Loss: 2.460824966430664\n",
      "Generating Image Number: 20 for target class tensor([3]). Step 100, Loss: 0.9117914438247681\n",
      "Generating Image Number: 20 for target class tensor([3]). Step 150, Loss: 0.47291624546051025\n",
      "Generating Image Number: 20 for target class tensor([3]). Step 200, Loss: 0.24596409499645233\n",
      "Generating Image Number: 20 for target class tensor([3]). Step 250, Loss: 0.15852364897727966\n",
      "Generating Image Number: 20 for target class tensor([3]). Step 300, Loss: 0.1240573525428772\n",
      "Generating Image Number: 20 for target class tensor([3]). Step 350, Loss: 0.10107843577861786\n",
      "Generating Image Number: 20 for target class tensor([3]). Step 400, Loss: 0.0802421122789383\n",
      "Generating Image Number: 20 for target class tensor([3]). Step 450, Loss: 0.06626342236995697\n"
     ]
    }
   ],
   "source": [
    "torch.manual_seed(300)\n",
    "latent_vectors = torch.randn(img_count, z_dim, 1, 1, requires_grad=True) # Start with 20 random noises\n",
    "class3_optimized_latent_vectors = recover_images(img_count, 3, latent_vectors)"
   ]
  },
  {
   "cell_type": "code",
   "execution_count": 24,
   "id": "ae6425a5-dd86-4e87-8112-883336345ac9",
   "metadata": {},
   "outputs": [],
   "source": [
    "z0_1 = class0_optimized_latent_vectors[0]\n",
    "z0_2 = class0_optimized_latent_vectors[1]\n",
    "z0_3 = class0_optimized_latent_vectors[2]"
   ]
  },
  {
   "cell_type": "code",
   "execution_count": 28,
   "id": "07f38b7d-14f6-4d63-9efa-cb96ec2e1d35",
   "metadata": {},
   "outputs": [
    {
     "name": "stdout",
     "output_type": "stream",
     "text": [
      "torch.Size([64, 64])\n"
     ]
    }
   ],
   "source": [
    "# Display the generated image\n",
    "img = gen(z1.to(device)).squeeze(dim=0).squeeze(dim=0)\n",
    "print(img.shape)"
   ]
  },
  {
   "cell_type": "code",
   "execution_count": 29,
   "id": "8cad57ff-7961-4078-9dd4-1e0b4879ff56",
   "metadata": {},
   "outputs": [
    {
     "data": {
      "text/plain": [
       "<matplotlib.image.AxesImage at 0x188020ce370>"
      ]
     },
     "execution_count": 29,
     "metadata": {},
     "output_type": "execute_result"
    },
    {
     "data": {
      "image/png": "[encoded data removed]",
      "text/plain": [
       "<Figure size 640x480 with 1 Axes>"
      ]
     },
     "metadata": {},
     "output_type": "display_data"
    }
   ],
   "source": [
    "plt.axis(False)\n",
    "plt.title('Recovered Image:')\n",
    "plt.imshow(img.cpu().detach(), cmap='gray')"
   ]
  },
  {
   "cell_type": "code",
   "execution_count": 30,
   "id": "52ecd67d-cb2d-44a3-b375-759d63db75b1",
   "metadata": {},
   "outputs": [],
   "source": [
    "                                                            # Dataset Loading\n",
    "# Load the .pkl files in as numpy arrays of pixels\n",
    "def load_tumor_data(file_path):\n",
    "    train_xs = []\n",
    "    train_ys = []\n",
    "    \"\"\" Load Digits Data from pickle data\n",
    "    return:\n",
    "    @xs: numpy.array, (n, c, w, h) \n",
    "    @ys: numpy.array, (n, ), 0-9\n",
    "    \"\"\"\n",
    "    with open(file_path, 'rb') as file:\n",
    "        data = pickle.load(file)\n",
    "        train_xs.append(data[\"data\"])\n",
    "        train_ys.append(data[\"labels\"])\n",
    "    train_xs = np.concatenate(train_xs, axis=0)\n",
    "    train_ys = np.concatenate(train_ys, axis=0)\n",
    "    \n",
    "    return train_xs, train_ys"
   ]
  },
  {
   "cell_type": "code",
   "execution_count": 31,
   "id": "ca72f62f-1eec-4b17-a8ce-fd66781f64f6",
   "metadata": {},
   "outputs": [],
   "source": [
    "# Custom Tumor Dataset\n",
    "class TumorDataset(data.Dataset):\n",
    "    def __init__(self, xs, ys, is_train=True):\n",
    "        self.xs = xs\n",
    "        self.ys = ys\n",
    "\n",
    "        if is_train is True:\n",
    "            self.transform = transforms.Compose([\n",
    "                transforms.ToPILImage(),\n",
    "                transforms.Resize((64, 64)),\n",
    "                transforms.ToTensor(),\n",
    "                transforms.Normalize(\n",
    "                    [0.5],\n",
    "                    [0.5]\n",
    "                )\n",
    "            ])\n",
    "        else:\n",
    "            self.transform = transforms.Compose([\n",
    "                transforms.ToPILImage(),\n",
    "                transforms.Resize((64, 64)),\n",
    "                transforms.ToTensor(),\n",
    "                transforms.Normalize(\n",
    "                    (0.4914, 0.4822, 0.4465),\n",
    "                    (0.2023, 0.1994, 0.2010)\n",
    "                )\n",
    "            ])\n",
    "\n",
    "    def __len__(self):\n",
    "        return len(self.xs)\n",
    "\n",
    "    def __getitem__(self, index):\n",
    "        img = self.xs[index]\n",
    "        #print(img.shape)\n",
    "        label = self.ys[index]\n",
    "\n",
    "        img = img.transpose((1, 2, 0)).astype(np.uint8)\n",
    "        img = self.transform(img)\n",
    "\n",
    "        img = torch.FloatTensor(img)\n",
    "        label = torch.LongTensor([label])[0]\n",
    "        return img, label"
   ]
  },
  {
   "cell_type": "code",
   "execution_count": 32,
   "id": "ceb91588-ef69-4373-b33f-74aed6c246bb",
   "metadata": {},
   "outputs": [],
   "source": [
    "def create_dataset(train_xs, train_ys):\n",
    "    tumor_dataset = TumorDataset(train_xs, train_ys, is_train=True)\n",
    "\n",
    "    return tumor_dataset"
   ]
  },
  {
   "cell_type": "code",
   "execution_count": 33,
   "id": "0415fba0-830c-42c6-bbde-c6958e779fbb",
   "metadata": {},
   "outputs": [],
   "source": [
    "def create_dataloader(dataset):\n",
    "    dataloader = DataLoader(dataset=dataset, batch_size=128, shuffle=True)\n",
    "\n",
    "    return dataloader"
   ]
  },
  {
   "cell_type": "code",
   "execution_count": 34,
   "id": "726d4995-5133-4037-ab0e-f2705470cdc9",
   "metadata": {},
   "outputs": [
    {
     "name": "stdout",
     "output_type": "stream",
     "text": [
      "(13927, 1, 32, 32)\n",
      "<class 'numpy.ndarray'>\n"
     ]
    }
   ],
   "source": [
    "# Load in the pickle dataset file\n",
    "train_xs, train_ys = load_tumor_data('datasets/Tumor/tumor4train.pkl')\n",
    "#train_xs = train_xs[:, 1, :, :]\n",
    "#train_xs = np.expand_dims(train_xs, axis=1)\n",
    "train_xs = train_xs.mean(axis=1, keepdims=True)\n",
    "print(train_xs.shape)\n",
    "print(type(train_xs))"
   ]
  },
  {
   "cell_type": "code",
   "execution_count": 35,
   "id": "a684b01a-eb4a-4210-9f59-d613085a404a",
   "metadata": {},
   "outputs": [],
   "source": [
    "# Create the dataset\n",
    "tumor_dataset = create_dataset(train_xs, train_ys)"
   ]
  },
  {
   "cell_type": "code",
   "execution_count": 36,
   "id": "193f07cc-d34f-425e-aa08-62b6d6adbad6",
   "metadata": {},
   "outputs": [],
   "source": [
    "def visualize_image(image_x):\n",
    "    # We have to visualize by reverting the normalization (just for visualization).\n",
    "    mean = torch.tensor([0.5])\n",
    "    std = torch.tensor([0.5])\n",
    "\n",
    "    image = image_x * std + mean  # Denormalize the image\n",
    "\n",
    "    image = torch.clamp(image, 0, 1) # Clip values to [0, 1] to ensure valid range for display\n",
    "\n",
    "    # Permute the image to (H, W, C) for matplotlib\n",
    "    \n",
    "    image = image.permute(1, 2, 0)\n",
    "\n",
    "    plt.imshow(image, cmap='gray')"
   ]
  },
  {
   "cell_type": "code",
   "execution_count": 37,
   "id": "16e93c17-a89b-46a2-8198-71e66e370f4f",
   "metadata": {},
   "outputs": [
    {
     "name": "stdout",
     "output_type": "stream",
     "text": [
      "torch.Size([1, 64, 64])\n"
     ]
    },
    {
     "data": {
      "image/png": "[encoded data removed]",
      "text/plain": [
       "<Figure size 640x480 with 1 Axes>"
      ]
     },
     "metadata": {},
     "output_type": "display_data"
    }
   ],
   "source": [
    "# Visualize the first tumor sample. \n",
    "image_x, image_y = tumor_dataset[7000]\n",
    "print(image_x.shape)\n",
    "visualize_image(image_x)"
   ]
  },
  {
   "cell_type": "code",
   "execution_count": 38,
   "id": "60e2da47-7cb6-493e-aeda-aa80d7965de7",
   "metadata": {},
   "outputs": [],
   "source": [
    "from scipy.spatial.distance import cosine"
   ]
  },
  {
   "cell_type": "code",
   "execution_count": 39,
   "id": "5a7937e5-b808-4b3e-8288-75dcd9862340",
   "metadata": {},
   "outputs": [],
   "source": [
    "# Get the feature embeddings\n",
    "tfcnn_model = target_model = load_target_model(base_net='TFCNN', n_classes=4, path='saved models/fedavg_global_model.pth').to(device)\n",
    "model_embeddings = tfcnn_model.encoder.to(device)"
   ]
  },
  {
   "cell_type": "code",
   "execution_count": 40,
   "id": "737e3d92-45b6-45f6-9bf2-d51f379d6ac8",
   "metadata": {},
   "outputs": [],
   "source": [
    "# Preprocessing\n",
    "preprocess = transforms.Compose([\n",
    "    transforms.Resize(256),\n",
    "    transforms.CenterCrop(224),\n",
    "    transforms.ToTensor(),\n",
    "])"
   ]
  },
  {
   "cell_type": "code",
   "execution_count": 41,
   "id": "babb1015-bdfb-439b-bea1-81f9f50dd74e",
   "metadata": {},
   "outputs": [],
   "source": [
    "def get_feature(img):\n",
    "    with torch.no_grad():\n",
    "        features = model_embeddings(img).squeeze()\n",
    "    return features.cpu().numpy()"
   ]
  },
  {
   "cell_type": "code",
   "execution_count": 42,
   "id": "79f38654-6670-440d-a322-b2cae18a71d8",
   "metadata": {},
   "outputs": [
    {
     "data": {
      "text/plain": [
       "torch.Size([1, 64, 64])"
      ]
     },
     "execution_count": 42,
     "metadata": {},
     "output_type": "execute_result"
    }
   ],
   "source": [
    "# Send an original image through the model\n",
    "image_x, image_y = tumor_dataset[10]\n",
    "image_x.shape"
   ]
  },
  {
   "cell_type": "code",
   "execution_count": 43,
   "id": "a4a2659e-dcaa-4d4a-b5a5-06b363ce6534",
   "metadata": {},
   "outputs": [],
   "source": [
    "image_x = image_x.unsqueeze(dim=0)"
   ]
  },
  {
   "cell_type": "code",
   "execution_count": 44,
   "id": "14348bfc-5988-48f0-88cf-4761d7a99d89",
   "metadata": {},
   "outputs": [
    {
     "data": {
      "text/plain": [
       "torch.Size([1, 1, 64, 64])"
      ]
     },
     "execution_count": 44,
     "metadata": {},
     "output_type": "execute_result"
    }
   ],
   "source": [
    "image_x.shape"
   ]
  },
  {
   "cell_type": "code",
   "execution_count": 45,
   "id": "66160253-9543-4aba-bb81-031d51ef9623",
   "metadata": {},
   "outputs": [
    {
     "data": {
      "text/plain": [
       "torch.Size([1, 3, 64, 64])"
      ]
     },
     "execution_count": 45,
     "metadata": {},
     "output_type": "execute_result"
    }
   ],
   "source": [
    "image_x = image_x.repeat(1, 3, 1, 1)\n",
    "image_x = image_x.to(device)\n",
    "image_x.shape"
   ]
  },
  {
   "cell_type": "code",
   "execution_count": 46,
   "id": "f615c7d3-2dab-425d-81e1-2595ec59e230",
   "metadata": {},
   "outputs": [
    {
     "data": {
      "text/plain": [
       "(4096,)"
      ]
     },
     "execution_count": 46,
     "metadata": {},
     "output_type": "execute_result"
    }
   ],
   "source": [
    "features = get_feature(image_x)\n",
    "features.shape"
   ]
  },
  {
   "cell_type": "code",
   "execution_count": 47,
   "id": "31b9ddc9-3fc8-4a47-bfc7-74a6df27d672",
   "metadata": {},
   "outputs": [],
   "source": [
    "class0_original_images = []\n",
    "class1_original_images = []\n",
    "class2_original_images = []\n",
    "class3_original_images = []\n",
    "target_num = 20 # 20 images for each class"
   ]
  },
  {
   "cell_type": "code",
   "execution_count": 48,
   "id": "e804c948-2dc8-41df-a633-113300baf12a",
   "metadata": {},
   "outputs": [],
   "source": [
    "for i in range(len(tumor_dataset)):\n",
    "    img_x, img_y = tumor_dataset[i]\n",
    "\n",
    "    if img_y == 0:\n",
    "        if len(class0_original_images) < target_num:\n",
    "            class0_original_images.append(img_x)\n",
    "    elif img_y == 1:\n",
    "        if len(class1_original_images) < target_num:\n",
    "            class1_original_images.append(img_x)\n",
    "    elif img_y == 2:\n",
    "        if len(class2_original_images) < target_num:\n",
    "            class2_original_images.append(img_x)\n",
    "    elif img_y == 3:\n",
    "        if len(class3_original_images) < target_num:\n",
    "            class3_original_images.append(img_x)"
   ]
  },
  {
   "cell_type": "code",
   "execution_count": 49,
   "id": "ef07c896-c4cd-48da-9e59-c9d7bd90a4e8",
   "metadata": {},
   "outputs": [
    {
     "data": {
      "text/plain": [
       "20"
      ]
     },
     "execution_count": 49,
     "metadata": {},
     "output_type": "execute_result"
    }
   ],
   "source": [
    "len(class3_original_images)"
   ]
  },
  {
   "cell_type": "code",
   "execution_count": 50,
   "id": "e102404a-68a3-40c5-99a7-45813eb87f20",
   "metadata": {},
   "outputs": [
    {
     "data": {
      "text/plain": [
       "torch.Size([1, 3, 64, 64])"
      ]
     },
     "execution_count": 50,
     "metadata": {},
     "output_type": "execute_result"
    }
   ],
   "source": [
    "# Testing the cosine similarity\n",
    "class1_original_image = class1_original_images[8]\n",
    "class1_original_image = class1_original_image.unsqueeze(dim=0).to(device)\n",
    "class1_original_image = class1_original_image.repeat(1, 3, 1, 1)\n",
    "class1_original_image.shape"
   ]
  },
  {
   "cell_type": "code",
   "execution_count": 51,
   "id": "d7fe9c85-2c83-4580-be7d-32833b706948",
   "metadata": {},
   "outputs": [],
   "source": [
    "fake1 = class1_optimized_latent_vectors[8]\n",
    "fake1_image = gen(fake1.to(device))\n",
    "fake1_image = fake1_image.repeat(1, 3, 1, 1)"
   ]
  },
  {
   "cell_type": "code",
   "execution_count": 52,
   "id": "74647152-cdcb-4593-a88f-d3ac43fd97d3",
   "metadata": {},
   "outputs": [
    {
     "data": {
      "text/plain": [
       "torch.Size([1, 3, 64, 64])"
      ]
     },
     "execution_count": 52,
     "metadata": {},
     "output_type": "execute_result"
    }
   ],
   "source": [
    "fake1_image.shape"
   ]
  },
  {
   "cell_type": "code",
   "execution_count": 68,
   "id": "b55933fb-14aa-47c2-bdb7-80844c1cc377",
   "metadata": {},
   "outputs": [
    {
     "name": "stdout",
     "output_type": "stream",
     "text": [
      "torch.Size([1, 64, 64])\n"
     ]
    },
    {
     "data": {
      "image/png": "[encoded data removed]",
      "text/plain": [
       "<Figure size 640x480 with 1 Axes>"
      ]
     },
     "metadata": {},
     "output_type": "display_data"
    }
   ],
   "source": [
    "fake = class0_optimized_latent_vectors[10]\n",
    "fake_img = gen(fake.to(device)).squeeze(dim=0)\n",
    "print(fake_img.shape)\n",
    "visualize_image(fake_img.detach().cpu())"
   ]
  },
  {
   "cell_type": "code",
   "execution_count": 54,
   "id": "e88f6396-0ef2-45f5-96e0-6048be01af25",
   "metadata": {},
   "outputs": [],
   "source": [
    "# Get the features of the images\n",
    "features_original = get_feature(class1_original_image)\n",
    "features_fake = get_feature(fake1_image)"
   ]
  },
  {
   "cell_type": "code",
   "execution_count": 55,
   "id": "b54e2bca-5f2b-41ea-b810-15d1f9d30f86",
   "metadata": {},
   "outputs": [],
   "source": [
    "# Compute cosine similarity\n",
    "similarity = 1 - cosine(features_original, features_fake)"
   ]
  },
  {
   "cell_type": "code",
   "execution_count": 56,
   "id": "983c7e35-27ee-453c-9356-cb9a84fdd4a3",
   "metadata": {},
   "outputs": [
    {
     "data": {
      "text/plain": [
       "np.float32(0.34255183)"
      ]
     },
     "execution_count": 56,
     "metadata": {},
     "output_type": "execute_result"
    }
   ],
   "source": [
    "similarity"
   ]
  },
  {
   "cell_type": "code",
   "execution_count": 57,
   "id": "e65e04e8-52b7-4cf2-876c-d9b07a435ec9",
   "metadata": {},
   "outputs": [],
   "source": [
    "def calculate_class0_sim():\n",
    "    similarities = []\n",
    "    for i in range(0, 20):\n",
    "        class0_original = class0_original_images[i].unsqueeze(dim=0).to(device)\n",
    "        class0_original = class0_original.repeat(1, 3, 1, 1)\n",
    "\n",
    "        class0_fake = class0_optimized_latent_vectors[i]\n",
    "        class0_fake_img = gen(class0_fake.to(device))\n",
    "        class0_fake_img = class0_fake_img.repeat(1, 3, 1, 1)\n",
    "\n",
    "        features_original = get_feature(class0_original)\n",
    "        features_fake = get_feature(class0_fake_img)\n",
    "\n",
    "        cosine_similarity = 1 - cosine(features_original, features_fake)\n",
    "\n",
    "        similarities.append(cosine_similarity)\n",
    "        \n",
    "    return similarities"
   ]
  },
  {
   "cell_type": "code",
   "execution_count": 58,
   "id": "10d8f579-0b80-4157-b59b-7b92be9e52f2",
   "metadata": {},
   "outputs": [],
   "source": [
    "def calculate_class1_sim():\n",
    "    similarities = []\n",
    "    for i in range(0, 20):\n",
    "        class1_original = class1_original_images[i].unsqueeze(dim=0).to(device)\n",
    "        class1_original = class1_original.repeat(1, 3, 1, 1)\n",
    "\n",
    "        class1_fake = class1_optimized_latent_vectors[i]\n",
    "        class1_fake_img = gen(class1_fake.to(device))\n",
    "        class1_fake_img = class1_fake_img.repeat(1, 3, 1, 1)\n",
    "\n",
    "        features_original = get_feature(class1_original)\n",
    "        features_fake = get_feature(class1_fake_img)\n",
    "\n",
    "        cosine_similarity = 1 - cosine(features_original, features_fake)\n",
    "        similarities.append(cosine_similarity)\n",
    "\n",
    "    return similarities"
   ]
  },
  {
   "cell_type": "code",
   "execution_count": 59,
   "id": "1bbdc999-fa6d-4005-b785-3c54a7bd89ee",
   "metadata": {},
   "outputs": [],
   "source": [
    "def calculate_class2_sim():\n",
    "    similarities = []\n",
    "    for i in range(0, 20):\n",
    "        class2_original = class2_original_images[i].unsqueeze(dim=0).to(device)\n",
    "        class2_original = class2_original.repeat(1, 3, 1, 1)\n",
    "\n",
    "        class2_fake = class2_optimized_latent_vectors[i]\n",
    "        class2_fake_img = gen(class2_fake.to(device))\n",
    "        class2_fake_img = class2_fake_img.repeat(1, 3, 1, 1)\n",
    "\n",
    "        features_original = get_feature(class2_original)\n",
    "        features_fake = get_feature(class2_fake_img)\n",
    "\n",
    "        cosine_similarity = 1 - cosine(features_original, features_fake)\n",
    "        similarities.append(cosine_similarity)\n",
    "\n",
    "    return similarities"
   ]
  },
  {
   "cell_type": "code",
   "execution_count": 60,
   "id": "33cb8de1-5a87-4dd4-8fc2-d3f27d6ddc9a",
   "metadata": {},
   "outputs": [],
   "source": [
    "def calculate_class3_sim():\n",
    "    similarities = []\n",
    "    for i in range(0, 20):\n",
    "        class3_original = class3_original_images[i].unsqueeze(dim=0).to(device)\n",
    "        class3_original = class3_original.repeat(1, 3, 1, 1)\n",
    "\n",
    "        class3_fake = class3_optimized_latent_vectors[i]\n",
    "        class3_fake_img = gen(class3_fake.to(device))\n",
    "        class3_fake_img = class3_fake_img.repeat(1, 3, 1, 1)\n",
    "\n",
    "        features_original = get_feature(class3_original)\n",
    "        features_fake = get_feature(class3_fake_img)\n",
    "\n",
    "        cosine_similarity = 1 - cosine(features_original, features_fake)\n",
    "        similarities.append(cosine_similarity)\n",
    "\n",
    "    return similarities"
   ]
  },
  {
   "cell_type": "code",
   "execution_count": 61,
   "id": "7868f175-5845-4ee4-b4cf-1c89513375ec",
   "metadata": {},
   "outputs": [],
   "source": [
    "class0_sims = calculate_class0_sim()\n",
    "class1_sims = calculate_class0_sim()\n",
    "class2_sims = calculate_class0_sim()\n",
    "class3_sims = calculate_class0_sim()"
   ]
  },
  {
   "cell_type": "code",
   "execution_count": 62,
   "id": "bbf4597d-a583-4204-a3ce-9085936e0189",
   "metadata": {},
   "outputs": [
    {
     "data": {
      "text/plain": [
       "[np.float32(0.20776272),\n",
       " np.float32(0.46876025),\n",
       " np.float32(0.58205986),\n",
       " np.float32(0.025282204),\n",
       " np.float32(0.022729695),\n",
       " np.float32(0.5843037),\n",
       " np.float32(0.33200413),\n",
       " np.float32(0.648743),\n",
       " np.float32(0.4763559),\n",
       " np.float32(0.5120742),\n",
       " np.float32(0.32427),\n",
       " np.float32(0.55824924),\n",
       " np.float32(0.5279803),\n",
       " np.float32(0.58671576),\n",
       " np.float32(0.33980656),\n",
       " np.float32(0.023597658),\n",
       " np.float32(0.555641),\n",
       " np.float32(0.32349026),\n",
       " np.float32(0.021390736),\n",
       " np.float32(0.5763456)]"
      ]
     },
     "execution_count": 62,
     "metadata": {},
     "output_type": "execute_result"
    }
   ],
   "source": [
    "class0_sims"
   ]
  },
  {
   "cell_type": "code",
   "execution_count": 63,
   "id": "acb9d480-a58f-4ce6-8973-eb9c8d6e7253",
   "metadata": {},
   "outputs": [
    {
     "data": {
      "text/plain": [
       "[np.float32(0.20776308),\n",
       " np.float32(0.46876007),\n",
       " np.float32(0.5820599),\n",
       " np.float32(0.025282204),\n",
       " np.float32(0.022729695),\n",
       " np.float32(0.5843035),\n",
       " np.float32(0.33200574),\n",
       " np.float32(0.648743),\n",
       " np.float32(0.4763559),\n",
       " np.float32(0.51207393),\n",
       " np.float32(0.32426977),\n",
       " np.float32(0.5582492),\n",
       " np.float32(0.52798194),\n",
       " np.float32(0.58671576),\n",
       " np.float32(0.33980644),\n",
       " np.float32(0.023597717),\n",
       " np.float32(0.555641),\n",
       " np.float32(0.3234905),\n",
       " np.float32(0.021390736),\n",
       " np.float32(0.5763456)]"
      ]
     },
     "execution_count": 63,
     "metadata": {},
     "output_type": "execute_result"
    }
   ],
   "source": [
    "class3_sims"
   ]
  },
  {
   "cell_type": "code",
   "execution_count": 70,
   "id": "58dc103d-1c30-473a-adc3-fcd5ca5100a0",
   "metadata": {},
   "outputs": [
    {
     "ename": "FileNotFoundError",
     "evalue": "[Errno 2] No such file or directory: 'output/fedvg.png'",
     "output_type": "error",
     "traceback": [
      "\u001b[1;31m---------------------------------------------------------------------------\u001b[0m",
      "\u001b[1;31mFileNotFoundError\u001b[0m                         Traceback (most recent call last)",
      "Cell \u001b[1;32mIn[70], line 43\u001b[0m\n\u001b[0;32m     41\u001b[0m plt\u001b[38;5;241m.\u001b[39mtight_layout()\n\u001b[0;32m     42\u001b[0m \u001b[38;5;66;03m# Save the plot to a file\u001b[39;00m\n\u001b[1;32m---> 43\u001b[0m \u001b[43mplt\u001b[49m\u001b[38;5;241;43m.\u001b[39;49m\u001b[43msavefig\u001b[49m\u001b[43m(\u001b[49m\u001b[38;5;124;43m'\u001b[39;49m\u001b[38;5;124;43moutput/fedvg.png\u001b[39;49m\u001b[38;5;124;43m'\u001b[39;49m\u001b[43m,\u001b[49m\u001b[43m \u001b[49m\u001b[43mdpi\u001b[49m\u001b[38;5;241;43m=\u001b[39;49m\u001b[38;5;241;43m300\u001b[39;49m\u001b[43m,\u001b[49m\u001b[43m \u001b[49m\u001b[43mbbox_inches\u001b[49m\u001b[38;5;241;43m=\u001b[39;49m\u001b[38;5;124;43m'\u001b[39;49m\u001b[38;5;124;43mtight\u001b[39;49m\u001b[38;5;124;43m'\u001b[39;49m\u001b[43m)\u001b[49m  \u001b[38;5;66;03m# Save as a PNG file with high resolution\u001b[39;00m\n\u001b[0;32m     45\u001b[0m \u001b[38;5;66;03m# Show the plot\u001b[39;00m\n\u001b[0;32m     46\u001b[0m plt\u001b[38;5;241m.\u001b[39mshow()\n",
      "File \u001b[1;32m~\\AppData\\Local\\Programs\\Python\\Python39\\lib\\site-packages\\matplotlib\\pyplot.py:1228\u001b[0m, in \u001b[0;36msavefig\u001b[1;34m(*args, **kwargs)\u001b[0m\n\u001b[0;32m   1225\u001b[0m fig \u001b[38;5;241m=\u001b[39m gcf()\n\u001b[0;32m   1226\u001b[0m \u001b[38;5;66;03m# savefig default implementation has no return, so mypy is unhappy\u001b[39;00m\n\u001b[0;32m   1227\u001b[0m \u001b[38;5;66;03m# presumably this is here because subclasses can return?\u001b[39;00m\n\u001b[1;32m-> 1228\u001b[0m res \u001b[38;5;241m=\u001b[39m fig\u001b[38;5;241m.\u001b[39msavefig(\u001b[38;5;241m*\u001b[39margs, \u001b[38;5;241m*\u001b[39m\u001b[38;5;241m*\u001b[39mkwargs)  \u001b[38;5;66;03m# type: ignore[func-returns-value]\u001b[39;00m\n\u001b[0;32m   1229\u001b[0m fig\u001b[38;5;241m.\u001b[39mcanvas\u001b[38;5;241m.\u001b[39mdraw_idle()  \u001b[38;5;66;03m# Need this if 'transparent=True', to reset colors.\u001b[39;00m\n\u001b[0;32m   1230\u001b[0m \u001b[38;5;28;01mreturn\u001b[39;00m res\n",
      "File \u001b[1;32m~\\AppData\\Local\\Programs\\Python\\Python39\\lib\\site-packages\\matplotlib\\figure.py:3395\u001b[0m, in \u001b[0;36mFigure.savefig\u001b[1;34m(self, fname, transparent, **kwargs)\u001b[0m\n\u001b[0;32m   3393\u001b[0m     \u001b[38;5;28;01mfor\u001b[39;00m ax \u001b[38;5;129;01min\u001b[39;00m \u001b[38;5;28mself\u001b[39m\u001b[38;5;241m.\u001b[39maxes:\n\u001b[0;32m   3394\u001b[0m         _recursively_make_axes_transparent(stack, ax)\n\u001b[1;32m-> 3395\u001b[0m \u001b[38;5;28mself\u001b[39m\u001b[38;5;241m.\u001b[39mcanvas\u001b[38;5;241m.\u001b[39mprint_figure(fname, \u001b[38;5;241m*\u001b[39m\u001b[38;5;241m*\u001b[39mkwargs)\n",
      "File \u001b[1;32m~\\AppData\\Local\\Programs\\Python\\Python39\\lib\\site-packages\\matplotlib\\backend_bases.py:2204\u001b[0m, in \u001b[0;36mFigureCanvasBase.print_figure\u001b[1;34m(self, filename, dpi, facecolor, edgecolor, orientation, format, bbox_inches, pad_inches, bbox_extra_artists, backend, **kwargs)\u001b[0m\n\u001b[0;32m   2200\u001b[0m \u001b[38;5;28;01mtry\u001b[39;00m:\n\u001b[0;32m   2201\u001b[0m     \u001b[38;5;66;03m# _get_renderer may change the figure dpi (as vector formats\u001b[39;00m\n\u001b[0;32m   2202\u001b[0m     \u001b[38;5;66;03m# force the figure dpi to 72), so we need to set it again here.\u001b[39;00m\n\u001b[0;32m   2203\u001b[0m     \u001b[38;5;28;01mwith\u001b[39;00m cbook\u001b[38;5;241m.\u001b[39m_setattr_cm(\u001b[38;5;28mself\u001b[39m\u001b[38;5;241m.\u001b[39mfigure, dpi\u001b[38;5;241m=\u001b[39mdpi):\n\u001b[1;32m-> 2204\u001b[0m         result \u001b[38;5;241m=\u001b[39m print_method(\n\u001b[0;32m   2205\u001b[0m             filename,\n\u001b[0;32m   2206\u001b[0m             facecolor\u001b[38;5;241m=\u001b[39mfacecolor,\n\u001b[0;32m   2207\u001b[0m             edgecolor\u001b[38;5;241m=\u001b[39medgecolor,\n\u001b[0;32m   2208\u001b[0m             orientation\u001b[38;5;241m=\u001b[39morientation,\n\u001b[0;32m   2209\u001b[0m             bbox_inches_restore\u001b[38;5;241m=\u001b[39m_bbox_inches_restore,\n\u001b[0;32m   2210\u001b[0m             \u001b[38;5;241m*\u001b[39m\u001b[38;5;241m*\u001b[39mkwargs)\n\u001b[0;32m   2211\u001b[0m \u001b[38;5;28;01mfinally\u001b[39;00m:\n\u001b[0;32m   2212\u001b[0m     \u001b[38;5;28;01mif\u001b[39;00m bbox_inches \u001b[38;5;129;01mand\u001b[39;00m restore_bbox:\n",
      "File \u001b[1;32m~\\AppData\\Local\\Programs\\Python\\Python39\\lib\\site-packages\\matplotlib\\backend_bases.py:2054\u001b[0m, in \u001b[0;36mFigureCanvasBase._switch_canvas_and_return_print_method.<locals>.<lambda>\u001b[1;34m(*args, **kwargs)\u001b[0m\n\u001b[0;32m   2050\u001b[0m     optional_kws \u001b[38;5;241m=\u001b[39m {  \u001b[38;5;66;03m# Passed by print_figure for other renderers.\u001b[39;00m\n\u001b[0;32m   2051\u001b[0m         \u001b[38;5;124m\"\u001b[39m\u001b[38;5;124mdpi\u001b[39m\u001b[38;5;124m\"\u001b[39m, \u001b[38;5;124m\"\u001b[39m\u001b[38;5;124mfacecolor\u001b[39m\u001b[38;5;124m\"\u001b[39m, \u001b[38;5;124m\"\u001b[39m\u001b[38;5;124medgecolor\u001b[39m\u001b[38;5;124m\"\u001b[39m, \u001b[38;5;124m\"\u001b[39m\u001b[38;5;124morientation\u001b[39m\u001b[38;5;124m\"\u001b[39m,\n\u001b[0;32m   2052\u001b[0m         \u001b[38;5;124m\"\u001b[39m\u001b[38;5;124mbbox_inches_restore\u001b[39m\u001b[38;5;124m\"\u001b[39m}\n\u001b[0;32m   2053\u001b[0m     skip \u001b[38;5;241m=\u001b[39m optional_kws \u001b[38;5;241m-\u001b[39m {\u001b[38;5;241m*\u001b[39minspect\u001b[38;5;241m.\u001b[39msignature(meth)\u001b[38;5;241m.\u001b[39mparameters}\n\u001b[1;32m-> 2054\u001b[0m     print_method \u001b[38;5;241m=\u001b[39m functools\u001b[38;5;241m.\u001b[39mwraps(meth)(\u001b[38;5;28;01mlambda\u001b[39;00m \u001b[38;5;241m*\u001b[39margs, \u001b[38;5;241m*\u001b[39m\u001b[38;5;241m*\u001b[39mkwargs: meth(\n\u001b[0;32m   2055\u001b[0m         \u001b[38;5;241m*\u001b[39margs, \u001b[38;5;241m*\u001b[39m\u001b[38;5;241m*\u001b[39m{k: v \u001b[38;5;28;01mfor\u001b[39;00m k, v \u001b[38;5;129;01min\u001b[39;00m kwargs\u001b[38;5;241m.\u001b[39mitems() \u001b[38;5;28;01mif\u001b[39;00m k \u001b[38;5;129;01mnot\u001b[39;00m \u001b[38;5;129;01min\u001b[39;00m skip}))\n\u001b[0;32m   2056\u001b[0m \u001b[38;5;28;01melse\u001b[39;00m:  \u001b[38;5;66;03m# Let third-parties do as they see fit.\u001b[39;00m\n\u001b[0;32m   2057\u001b[0m     print_method \u001b[38;5;241m=\u001b[39m meth\n",
      "File \u001b[1;32m~\\AppData\\Local\\Programs\\Python\\Python39\\lib\\site-packages\\matplotlib\\backends\\backend_agg.py:496\u001b[0m, in \u001b[0;36mFigureCanvasAgg.print_png\u001b[1;34m(self, filename_or_obj, metadata, pil_kwargs)\u001b[0m\n\u001b[0;32m    449\u001b[0m \u001b[38;5;28;01mdef\u001b[39;00m\u001b[38;5;250m \u001b[39m\u001b[38;5;21mprint_png\u001b[39m(\u001b[38;5;28mself\u001b[39m, filename_or_obj, \u001b[38;5;241m*\u001b[39m, metadata\u001b[38;5;241m=\u001b[39m\u001b[38;5;28;01mNone\u001b[39;00m, pil_kwargs\u001b[38;5;241m=\u001b[39m\u001b[38;5;28;01mNone\u001b[39;00m):\n\u001b[0;32m    450\u001b[0m \u001b[38;5;250m    \u001b[39m\u001b[38;5;124;03m\"\"\"\u001b[39;00m\n\u001b[0;32m    451\u001b[0m \u001b[38;5;124;03m    Write the figure to a PNG file.\u001b[39;00m\n\u001b[0;32m    452\u001b[0m \n\u001b[1;32m   (...)\u001b[0m\n\u001b[0;32m    494\u001b[0m \u001b[38;5;124;03m        *metadata*, including the default 'Software' key.\u001b[39;00m\n\u001b[0;32m    495\u001b[0m \u001b[38;5;124;03m    \"\"\"\u001b[39;00m\n\u001b[1;32m--> 496\u001b[0m     \u001b[38;5;28;43mself\u001b[39;49m\u001b[38;5;241;43m.\u001b[39;49m\u001b[43m_print_pil\u001b[49m\u001b[43m(\u001b[49m\u001b[43mfilename_or_obj\u001b[49m\u001b[43m,\u001b[49m\u001b[43m \u001b[49m\u001b[38;5;124;43m\"\u001b[39;49m\u001b[38;5;124;43mpng\u001b[39;49m\u001b[38;5;124;43m\"\u001b[39;49m\u001b[43m,\u001b[49m\u001b[43m \u001b[49m\u001b[43mpil_kwargs\u001b[49m\u001b[43m,\u001b[49m\u001b[43m \u001b[49m\u001b[43mmetadata\u001b[49m\u001b[43m)\u001b[49m\n",
      "File \u001b[1;32m~\\AppData\\Local\\Programs\\Python\\Python39\\lib\\site-packages\\matplotlib\\backends\\backend_agg.py:445\u001b[0m, in \u001b[0;36mFigureCanvasAgg._print_pil\u001b[1;34m(self, filename_or_obj, fmt, pil_kwargs, metadata)\u001b[0m\n\u001b[0;32m    440\u001b[0m \u001b[38;5;250m\u001b[39m\u001b[38;5;124;03m\"\"\"\u001b[39;00m\n\u001b[0;32m    441\u001b[0m \u001b[38;5;124;03mDraw the canvas, then save it using `.image.imsave` (to which\u001b[39;00m\n\u001b[0;32m    442\u001b[0m \u001b[38;5;124;03m*pil_kwargs* and *metadata* are forwarded).\u001b[39;00m\n\u001b[0;32m    443\u001b[0m \u001b[38;5;124;03m\"\"\"\u001b[39;00m\n\u001b[0;32m    444\u001b[0m FigureCanvasAgg\u001b[38;5;241m.\u001b[39mdraw(\u001b[38;5;28mself\u001b[39m)\n\u001b[1;32m--> 445\u001b[0m \u001b[43mmpl\u001b[49m\u001b[38;5;241;43m.\u001b[39;49m\u001b[43mimage\u001b[49m\u001b[38;5;241;43m.\u001b[39;49m\u001b[43mimsave\u001b[49m\u001b[43m(\u001b[49m\n\u001b[0;32m    446\u001b[0m \u001b[43m    \u001b[49m\u001b[43mfilename_or_obj\u001b[49m\u001b[43m,\u001b[49m\u001b[43m \u001b[49m\u001b[38;5;28;43mself\u001b[39;49m\u001b[38;5;241;43m.\u001b[39;49m\u001b[43mbuffer_rgba\u001b[49m\u001b[43m(\u001b[49m\u001b[43m)\u001b[49m\u001b[43m,\u001b[49m\u001b[43m \u001b[49m\u001b[38;5;28;43mformat\u001b[39;49m\u001b[38;5;241;43m=\u001b[39;49m\u001b[43mfmt\u001b[49m\u001b[43m,\u001b[49m\u001b[43m \u001b[49m\u001b[43morigin\u001b[49m\u001b[38;5;241;43m=\u001b[39;49m\u001b[38;5;124;43m\"\u001b[39;49m\u001b[38;5;124;43mupper\u001b[39;49m\u001b[38;5;124;43m\"\u001b[39;49m\u001b[43m,\u001b[49m\n\u001b[0;32m    447\u001b[0m \u001b[43m    \u001b[49m\u001b[43mdpi\u001b[49m\u001b[38;5;241;43m=\u001b[39;49m\u001b[38;5;28;43mself\u001b[39;49m\u001b[38;5;241;43m.\u001b[39;49m\u001b[43mfigure\u001b[49m\u001b[38;5;241;43m.\u001b[39;49m\u001b[43mdpi\u001b[49m\u001b[43m,\u001b[49m\u001b[43m \u001b[49m\u001b[43mmetadata\u001b[49m\u001b[38;5;241;43m=\u001b[39;49m\u001b[43mmetadata\u001b[49m\u001b[43m,\u001b[49m\u001b[43m \u001b[49m\u001b[43mpil_kwargs\u001b[49m\u001b[38;5;241;43m=\u001b[39;49m\u001b[43mpil_kwargs\u001b[49m\u001b[43m)\u001b[49m\n",
      "File \u001b[1;32m~\\AppData\\Local\\Programs\\Python\\Python39\\lib\\site-packages\\matplotlib\\image.py:1676\u001b[0m, in \u001b[0;36mimsave\u001b[1;34m(fname, arr, vmin, vmax, cmap, format, origin, dpi, metadata, pil_kwargs)\u001b[0m\n\u001b[0;32m   1674\u001b[0m pil_kwargs\u001b[38;5;241m.\u001b[39msetdefault(\u001b[38;5;124m\"\u001b[39m\u001b[38;5;124mformat\u001b[39m\u001b[38;5;124m\"\u001b[39m, \u001b[38;5;28mformat\u001b[39m)\n\u001b[0;32m   1675\u001b[0m pil_kwargs\u001b[38;5;241m.\u001b[39msetdefault(\u001b[38;5;124m\"\u001b[39m\u001b[38;5;124mdpi\u001b[39m\u001b[38;5;124m\"\u001b[39m, (dpi, dpi))\n\u001b[1;32m-> 1676\u001b[0m image\u001b[38;5;241m.\u001b[39msave(fname, \u001b[38;5;241m*\u001b[39m\u001b[38;5;241m*\u001b[39mpil_kwargs)\n",
      "File \u001b[1;32m~\\AppData\\Local\\Programs\\Python\\Python39\\lib\\site-packages\\PIL\\Image.py:2436\u001b[0m, in \u001b[0;36mImage.save\u001b[1;34m(self, fp, format, **params)\u001b[0m\n\u001b[0;32m   2434\u001b[0m         fp \u001b[38;5;241m=\u001b[39m builtins\u001b[38;5;241m.\u001b[39mopen(filename, \u001b[38;5;124m\"\u001b[39m\u001b[38;5;124mr+b\u001b[39m\u001b[38;5;124m\"\u001b[39m)\n\u001b[0;32m   2435\u001b[0m     \u001b[38;5;28;01melse\u001b[39;00m:\n\u001b[1;32m-> 2436\u001b[0m         fp \u001b[38;5;241m=\u001b[39m \u001b[43mbuiltins\u001b[49m\u001b[38;5;241;43m.\u001b[39;49m\u001b[43mopen\u001b[49m\u001b[43m(\u001b[49m\u001b[43mfilename\u001b[49m\u001b[43m,\u001b[49m\u001b[43m \u001b[49m\u001b[38;5;124;43m\"\u001b[39;49m\u001b[38;5;124;43mw+b\u001b[39;49m\u001b[38;5;124;43m\"\u001b[39;49m\u001b[43m)\u001b[49m\n\u001b[0;32m   2438\u001b[0m \u001b[38;5;28;01mtry\u001b[39;00m:\n\u001b[0;32m   2439\u001b[0m     save_handler(\u001b[38;5;28mself\u001b[39m, fp, filename)\n",
      "\u001b[1;31mFileNotFoundError\u001b[0m: [Errno 2] No such file or directory: 'output/fedvg.png'"
     ]
    },
    {
     "data": {
      "image/png": "[encoded data removed]",
      "text/plain": [
       "<Figure size 650x420 with 1 Axes>"
      ]
     },
     "metadata": {},
     "output_type": "display_data"
    }
   ],
   "source": [
    "                                                        # VISUALIZE\n",
    "# NOTE: Class indexes now start from 1 so, previous class 0 = now class 1 and so on\n",
    "# FIG 1: Raw similarity plot\n",
    "\n",
    "import pandas as pd\n",
    "import numpy as np\n",
    "import matplotlib.pyplot as plt\n",
    "import seaborn as sns\n",
    "\n",
    "# Generate sample similarity data for four classes (each with 20 values in the range 0 to 1)\n",
    "class1_sim = class0_sims\n",
    "class2_sim = class1_sims\n",
    "class3_sim = class2_sims\n",
    "class4_sim = class3_sims\n",
    "\n",
    "# Set figure size\n",
    "plt.figure(figsize=(6.5, 4.2))  # Set the size of the figure (width, height)\n",
    "\n",
    "# Sample DataFrame with four columns\n",
    "data=pd.DataFrame({'Class 1':class1_sim,'Class 2':class2_sim,'Class 3':class3_sim,'Class 4':class4_sim})\n",
    "df = pd.DataFrame(data)\n",
    "\n",
    "# Plot the probability distributions\n",
    "#plt.figure(figsize=(10, 6))\n",
    "\n",
    "# Define colors and line styles for each column\n",
    "colors = ['#1f77b4', '#ff7f0e', '#2ca02c', '#d62728']\n",
    "linestyles = ['-.', '--', '-', '-']\n",
    "\n",
    "# Plot the probability distributions with unique colors and line styles\n",
    "for column, color, linestyle in zip(df.columns, colors, linestyles):\n",
    "    sns.kdeplot(df[column], label=column, color=color, linestyle=linestyle)\n",
    "\n",
    "#plt.title('Probability Distributions of Four Columns')\n",
    "plt.xlabel('Similarity',fontsize=12)\n",
    "plt.ylabel('Density',fontsize=12)\n",
    "plt.yticks(fontsize=12)  # Set y-tick labels font size\n",
    "plt.legend(loc='upper right',fontsize=12)  # Increase legend font size\n",
    "\n",
    "# Optimize layout\n",
    "plt.tight_layout()\n",
    "# Save the plot to a file\n",
    "plt.savefig('output/fedvg.png', dpi=300, bbox_inches='tight')  # Save as a PNG file with high resolution\n",
    "\n",
    "# Show the plot\n",
    "plt.show()\n"
   ]
  },
  {
   "cell_type": "code",
   "execution_count": 71,
   "id": "c71af78e-28e9-4564-9609-3039455bb875",
   "metadata": {},
   "outputs": [
    {
     "data": {
      "image/png": "[encoded data removed]",
      "text/plain": [
       "<Figure size 750x500 with 1 Axes>"
      ]
     },
     "metadata": {},
     "output_type": "display_data"
    }
   ],
   "source": [
    "# FIG 2: DIFFERENCES IN COSINE SIMILARITY\n",
    "\n",
    "# For each class, we have 20 similarity values — one per image — showing how similar fake and real versions are.These values are very close across classes\n",
    "# So, to highlight subtle differences, compute and plot the difference between each pair of classes, value by value.\n",
    "# This gives you 20 values showing how much the similarity differs for each image between class 0 and class 1.\n",
    "# It's a magnified view of the gap between classes.\n",
    "# If the differences are tiny (e.g., 0.003), the plot helps make that visible and comparable.\n",
    "\n",
    "import numpy as np\n",
    "import matplotlib.pyplot as plt\n",
    "import seaborn as sns\n",
    "import pandas as pd\n",
    "\n",
    "# Differences between class distributions (pairwise)\n",
    "diff_12 = np.array(class2_sim) - np.array(class1_sim)\n",
    "diff_13 = np.array(class3_sim) - np.array(class1_sim)\n",
    "diff_14 = np.array(class4_sim) - np.array(class1_sim)\n",
    "diff_23 = np.array(class3_sim) - np.array(class2_sim)\n",
    "diff_24 = np.array(class4_sim) - np.array(class2_sim)\n",
    "diff_34 = np.array(class4_sim) - np.array(class3_sim)\n",
    "\n",
    "# Create a DataFrame\n",
    "diff_df = pd.DataFrame({\n",
    "    'Class 2 - Class 1': diff_12,\n",
    "    'Class 3 - Class 1': diff_13,\n",
    "    'Class 4 - Class 1': diff_14,\n",
    "    'Class 3 - Class 2': diff_23,\n",
    "    'Class 4 - Class 2': diff_24,\n",
    "    'Class 4 - Class 3': diff_34,\n",
    "})\n",
    "\n",
    "# Plot\n",
    "plt.figure(figsize=(7.5, 5))\n",
    "\n",
    "colors = sns.color_palette(\"tab10\", n_colors=6)\n",
    "\n",
    "for column, color in zip(diff_df.columns, colors):\n",
    "    sns.kdeplot(diff_df[column], label=column, color=color, linestyle='-')\n",
    "\n",
    "plt.axvline(0, color='black', linestyle='--', linewidth=1)  # reference line at 0\n",
    "plt.xlabel('Difference in Similarity', fontsize=12)\n",
    "plt.ylabel('Density', fontsize=12)\n",
    "plt.legend(fontsize=10)\n",
    "plt.title(\"Pairwise Differences in Cosine Similarity\", fontsize=13)\n",
    "plt.tight_layout()\n",
    "plt.show()"
   ]
  },
  {
   "cell_type": "code",
   "execution_count": 72,
   "id": "362bf182-7927-4ce2-bf5a-97299d426bc4",
   "metadata": {},
   "outputs": [],
   "source": [
    "def calculate_interclass_similarity(first, second):\n",
    "    similarities = []\n",
    "\n",
    "    first_images = []\n",
    "    second_images = []\n",
    "    if first == 'class1':\n",
    "        first_images = class0_original_images.copy()\n",
    "    elif first == 'class2':\n",
    "        first_images = class1_original_images.copy()\n",
    "    elif first == 'class3':\n",
    "        first_images = class2_original_images.copy()\n",
    "    elif first == 'class4':\n",
    "        first_images = class3_original_images.copy()\n",
    "\n",
    "    if second == 'class1':\n",
    "        second_images = class0_original_images.copy()\n",
    "    elif second == 'class2':\n",
    "        second_images = class1_original_images.copy()\n",
    "    elif second == 'class3':\n",
    "        second_images = class2_original_images.copy()\n",
    "    elif second == 'class4':\n",
    "        second_images = class3_original_images.copy()\n",
    "    \n",
    "    for i in range(0, 20):\n",
    "        first_image = first_images[i].unsqueeze(dim=0).to(device)\n",
    "        first_image = first_image.repeat(1, 3, 1, 1)\n",
    "        \n",
    "        second_image = second_images[i].unsqueeze(dim=0).to(device)\n",
    "        second_image = second_image.repeat(1, 3, 1, 1)\n",
    "        \n",
    "        features_first = get_feature(first_image)\n",
    "        features_second = get_feature(second_image)\n",
    "\n",
    "        cosine_similarity = 1 - cosine(features_first, features_second)\n",
    "        similarities.append(cosine_similarity)\n",
    "\n",
    "    return similarities"
   ]
  },
  {
   "cell_type": "code",
   "execution_count": 73,
   "id": "5954dfe3-cb08-4551-a5f9-d2082ac3d604",
   "metadata": {},
   "outputs": [],
   "source": [
    "class1class2 = calculate_interclass_similarity('class1', 'class2')"
   ]
  },
  {
   "cell_type": "code",
   "execution_count": 74,
   "id": "cd5ab50d-9d9d-443b-bea5-2d6e302e2bf4",
   "metadata": {},
   "outputs": [
    {
     "data": {
      "text/plain": [
       "[np.float32(0.92668736),\n",
       " np.float32(0.9234537),\n",
       " np.float32(0.8914366),\n",
       " np.float32(0.85996324),\n",
       " np.float32(0.9045878),\n",
       " np.float32(0.8661933),\n",
       " np.float32(0.8529511),\n",
       " np.float32(0.8320824),\n",
       " np.float32(0.81313324),\n",
       " np.float32(0.9028811),\n",
       " np.float32(0.9157124),\n",
       " np.float32(0.83247995),\n",
       " np.float32(0.9164997),\n",
       " np.float32(0.84919524),\n",
       " np.float32(0.90398437),\n",
       " np.float32(0.8242637),\n",
       " np.float32(0.78115076),\n",
       " np.float32(0.80533254),\n",
       " np.float32(0.92938054),\n",
       " np.float32(0.89034694)]"
      ]
     },
     "execution_count": 74,
     "metadata": {},
     "output_type": "execute_result"
    }
   ],
   "source": [
    "class1class2"
   ]
  },
  {
   "cell_type": "code",
   "execution_count": 75,
   "id": "29441f40-36a7-4854-98be-5d128bae49cd",
   "metadata": {},
   "outputs": [
    {
     "ename": "FileNotFoundError",
     "evalue": "[Errno 2] No such file or directory: 'output/VoiceDivergenceD3.png'",
     "output_type": "error",
     "traceback": [
      "\u001b[1;31m---------------------------------------------------------------------------\u001b[0m",
      "\u001b[1;31mFileNotFoundError\u001b[0m                         Traceback (most recent call last)",
      "Cell \u001b[1;32mIn[75], line 44\u001b[0m\n\u001b[0;32m     42\u001b[0m plt\u001b[38;5;241m.\u001b[39mtight_layout()\n\u001b[0;32m     43\u001b[0m \u001b[38;5;66;03m# Save the plot to a file\u001b[39;00m\n\u001b[1;32m---> 44\u001b[0m \u001b[43mplt\u001b[49m\u001b[38;5;241;43m.\u001b[39;49m\u001b[43msavefig\u001b[49m\u001b[43m(\u001b[49m\u001b[38;5;124;43m'\u001b[39;49m\u001b[38;5;124;43moutput/VoiceDivergenceD3.png\u001b[39;49m\u001b[38;5;124;43m'\u001b[39;49m\u001b[43m,\u001b[49m\u001b[43m \u001b[49m\u001b[43mdpi\u001b[49m\u001b[38;5;241;43m=\u001b[39;49m\u001b[38;5;241;43m300\u001b[39;49m\u001b[43m,\u001b[49m\u001b[43m \u001b[49m\u001b[43mbbox_inches\u001b[49m\u001b[38;5;241;43m=\u001b[39;49m\u001b[38;5;124;43m'\u001b[39;49m\u001b[38;5;124;43mtight\u001b[39;49m\u001b[38;5;124;43m'\u001b[39;49m\u001b[43m)\u001b[49m  \u001b[38;5;66;03m# Save as a PNG file with high resolution\u001b[39;00m\n\u001b[0;32m     46\u001b[0m \u001b[38;5;66;03m# Show the plot\u001b[39;00m\n\u001b[0;32m     47\u001b[0m plt\u001b[38;5;241m.\u001b[39mshow()\n",
      "File \u001b[1;32m~\\AppData\\Local\\Programs\\Python\\Python39\\lib\\site-packages\\matplotlib\\pyplot.py:1228\u001b[0m, in \u001b[0;36msavefig\u001b[1;34m(*args, **kwargs)\u001b[0m\n\u001b[0;32m   1225\u001b[0m fig \u001b[38;5;241m=\u001b[39m gcf()\n\u001b[0;32m   1226\u001b[0m \u001b[38;5;66;03m# savefig default implementation has no return, so mypy is unhappy\u001b[39;00m\n\u001b[0;32m   1227\u001b[0m \u001b[38;5;66;03m# presumably this is here because subclasses can return?\u001b[39;00m\n\u001b[1;32m-> 1228\u001b[0m res \u001b[38;5;241m=\u001b[39m fig\u001b[38;5;241m.\u001b[39msavefig(\u001b[38;5;241m*\u001b[39margs, \u001b[38;5;241m*\u001b[39m\u001b[38;5;241m*\u001b[39mkwargs)  \u001b[38;5;66;03m# type: ignore[func-returns-value]\u001b[39;00m\n\u001b[0;32m   1229\u001b[0m fig\u001b[38;5;241m.\u001b[39mcanvas\u001b[38;5;241m.\u001b[39mdraw_idle()  \u001b[38;5;66;03m# Need this if 'transparent=True', to reset colors.\u001b[39;00m\n\u001b[0;32m   1230\u001b[0m \u001b[38;5;28;01mreturn\u001b[39;00m res\n",
      "File \u001b[1;32m~\\AppData\\Local\\Programs\\Python\\Python39\\lib\\site-packages\\matplotlib\\figure.py:3395\u001b[0m, in \u001b[0;36mFigure.savefig\u001b[1;34m(self, fname, transparent, **kwargs)\u001b[0m\n\u001b[0;32m   3393\u001b[0m     \u001b[38;5;28;01mfor\u001b[39;00m ax \u001b[38;5;129;01min\u001b[39;00m \u001b[38;5;28mself\u001b[39m\u001b[38;5;241m.\u001b[39maxes:\n\u001b[0;32m   3394\u001b[0m         _recursively_make_axes_transparent(stack, ax)\n\u001b[1;32m-> 3395\u001b[0m \u001b[38;5;28mself\u001b[39m\u001b[38;5;241m.\u001b[39mcanvas\u001b[38;5;241m.\u001b[39mprint_figure(fname, \u001b[38;5;241m*\u001b[39m\u001b[38;5;241m*\u001b[39mkwargs)\n",
      "File \u001b[1;32m~\\AppData\\Local\\Programs\\Python\\Python39\\lib\\site-packages\\matplotlib\\backend_bases.py:2204\u001b[0m, in \u001b[0;36mFigureCanvasBase.print_figure\u001b[1;34m(self, filename, dpi, facecolor, edgecolor, orientation, format, bbox_inches, pad_inches, bbox_extra_artists, backend, **kwargs)\u001b[0m\n\u001b[0;32m   2200\u001b[0m \u001b[38;5;28;01mtry\u001b[39;00m:\n\u001b[0;32m   2201\u001b[0m     \u001b[38;5;66;03m# _get_renderer may change the figure dpi (as vector formats\u001b[39;00m\n\u001b[0;32m   2202\u001b[0m     \u001b[38;5;66;03m# force the figure dpi to 72), so we need to set it again here.\u001b[39;00m\n\u001b[0;32m   2203\u001b[0m     \u001b[38;5;28;01mwith\u001b[39;00m cbook\u001b[38;5;241m.\u001b[39m_setattr_cm(\u001b[38;5;28mself\u001b[39m\u001b[38;5;241m.\u001b[39mfigure, dpi\u001b[38;5;241m=\u001b[39mdpi):\n\u001b[1;32m-> 2204\u001b[0m         result \u001b[38;5;241m=\u001b[39m print_method(\n\u001b[0;32m   2205\u001b[0m             filename,\n\u001b[0;32m   2206\u001b[0m             facecolor\u001b[38;5;241m=\u001b[39mfacecolor,\n\u001b[0;32m   2207\u001b[0m             edgecolor\u001b[38;5;241m=\u001b[39medgecolor,\n\u001b[0;32m   2208\u001b[0m             orientation\u001b[38;5;241m=\u001b[39morientation,\n\u001b[0;32m   2209\u001b[0m             bbox_inches_restore\u001b[38;5;241m=\u001b[39m_bbox_inches_restore,\n\u001b[0;32m   2210\u001b[0m             \u001b[38;5;241m*\u001b[39m\u001b[38;5;241m*\u001b[39mkwargs)\n\u001b[0;32m   2211\u001b[0m \u001b[38;5;28;01mfinally\u001b[39;00m:\n\u001b[0;32m   2212\u001b[0m     \u001b[38;5;28;01mif\u001b[39;00m bbox_inches \u001b[38;5;129;01mand\u001b[39;00m restore_bbox:\n",
      "File \u001b[1;32m~\\AppData\\Local\\Programs\\Python\\Python39\\lib\\site-packages\\matplotlib\\backend_bases.py:2054\u001b[0m, in \u001b[0;36mFigureCanvasBase._switch_canvas_and_return_print_method.<locals>.<lambda>\u001b[1;34m(*args, **kwargs)\u001b[0m\n\u001b[0;32m   2050\u001b[0m     optional_kws \u001b[38;5;241m=\u001b[39m {  \u001b[38;5;66;03m# Passed by print_figure for other renderers.\u001b[39;00m\n\u001b[0;32m   2051\u001b[0m         \u001b[38;5;124m\"\u001b[39m\u001b[38;5;124mdpi\u001b[39m\u001b[38;5;124m\"\u001b[39m, \u001b[38;5;124m\"\u001b[39m\u001b[38;5;124mfacecolor\u001b[39m\u001b[38;5;124m\"\u001b[39m, \u001b[38;5;124m\"\u001b[39m\u001b[38;5;124medgecolor\u001b[39m\u001b[38;5;124m\"\u001b[39m, \u001b[38;5;124m\"\u001b[39m\u001b[38;5;124morientation\u001b[39m\u001b[38;5;124m\"\u001b[39m,\n\u001b[0;32m   2052\u001b[0m         \u001b[38;5;124m\"\u001b[39m\u001b[38;5;124mbbox_inches_restore\u001b[39m\u001b[38;5;124m\"\u001b[39m}\n\u001b[0;32m   2053\u001b[0m     skip \u001b[38;5;241m=\u001b[39m optional_kws \u001b[38;5;241m-\u001b[39m {\u001b[38;5;241m*\u001b[39minspect\u001b[38;5;241m.\u001b[39msignature(meth)\u001b[38;5;241m.\u001b[39mparameters}\n\u001b[1;32m-> 2054\u001b[0m     print_method \u001b[38;5;241m=\u001b[39m functools\u001b[38;5;241m.\u001b[39mwraps(meth)(\u001b[38;5;28;01mlambda\u001b[39;00m \u001b[38;5;241m*\u001b[39margs, \u001b[38;5;241m*\u001b[39m\u001b[38;5;241m*\u001b[39mkwargs: meth(\n\u001b[0;32m   2055\u001b[0m         \u001b[38;5;241m*\u001b[39margs, \u001b[38;5;241m*\u001b[39m\u001b[38;5;241m*\u001b[39m{k: v \u001b[38;5;28;01mfor\u001b[39;00m k, v \u001b[38;5;129;01min\u001b[39;00m kwargs\u001b[38;5;241m.\u001b[39mitems() \u001b[38;5;28;01mif\u001b[39;00m k \u001b[38;5;129;01mnot\u001b[39;00m \u001b[38;5;129;01min\u001b[39;00m skip}))\n\u001b[0;32m   2056\u001b[0m \u001b[38;5;28;01melse\u001b[39;00m:  \u001b[38;5;66;03m# Let third-parties do as they see fit.\u001b[39;00m\n\u001b[0;32m   2057\u001b[0m     print_method \u001b[38;5;241m=\u001b[39m meth\n",
      "File \u001b[1;32m~\\AppData\\Local\\Programs\\Python\\Python39\\lib\\site-packages\\matplotlib\\backends\\backend_agg.py:496\u001b[0m, in \u001b[0;36mFigureCanvasAgg.print_png\u001b[1;34m(self, filename_or_obj, metadata, pil_kwargs)\u001b[0m\n\u001b[0;32m    449\u001b[0m \u001b[38;5;28;01mdef\u001b[39;00m\u001b[38;5;250m \u001b[39m\u001b[38;5;21mprint_png\u001b[39m(\u001b[38;5;28mself\u001b[39m, filename_or_obj, \u001b[38;5;241m*\u001b[39m, metadata\u001b[38;5;241m=\u001b[39m\u001b[38;5;28;01mNone\u001b[39;00m, pil_kwargs\u001b[38;5;241m=\u001b[39m\u001b[38;5;28;01mNone\u001b[39;00m):\n\u001b[0;32m    450\u001b[0m \u001b[38;5;250m    \u001b[39m\u001b[38;5;124;03m\"\"\"\u001b[39;00m\n\u001b[0;32m    451\u001b[0m \u001b[38;5;124;03m    Write the figure to a PNG file.\u001b[39;00m\n\u001b[0;32m    452\u001b[0m \n\u001b[1;32m   (...)\u001b[0m\n\u001b[0;32m    494\u001b[0m \u001b[38;5;124;03m        *metadata*, including the default 'Software' key.\u001b[39;00m\n\u001b[0;32m    495\u001b[0m \u001b[38;5;124;03m    \"\"\"\u001b[39;00m\n\u001b[1;32m--> 496\u001b[0m     \u001b[38;5;28;43mself\u001b[39;49m\u001b[38;5;241;43m.\u001b[39;49m\u001b[43m_print_pil\u001b[49m\u001b[43m(\u001b[49m\u001b[43mfilename_or_obj\u001b[49m\u001b[43m,\u001b[49m\u001b[43m \u001b[49m\u001b[38;5;124;43m\"\u001b[39;49m\u001b[38;5;124;43mpng\u001b[39;49m\u001b[38;5;124;43m\"\u001b[39;49m\u001b[43m,\u001b[49m\u001b[43m \u001b[49m\u001b[43mpil_kwargs\u001b[49m\u001b[43m,\u001b[49m\u001b[43m \u001b[49m\u001b[43mmetadata\u001b[49m\u001b[43m)\u001b[49m\n",
      "File \u001b[1;32m~\\AppData\\Local\\Programs\\Python\\Python39\\lib\\site-packages\\matplotlib\\backends\\backend_agg.py:445\u001b[0m, in \u001b[0;36mFigureCanvasAgg._print_pil\u001b[1;34m(self, filename_or_obj, fmt, pil_kwargs, metadata)\u001b[0m\n\u001b[0;32m    440\u001b[0m \u001b[38;5;250m\u001b[39m\u001b[38;5;124;03m\"\"\"\u001b[39;00m\n\u001b[0;32m    441\u001b[0m \u001b[38;5;124;03mDraw the canvas, then save it using `.image.imsave` (to which\u001b[39;00m\n\u001b[0;32m    442\u001b[0m \u001b[38;5;124;03m*pil_kwargs* and *metadata* are forwarded).\u001b[39;00m\n\u001b[0;32m    443\u001b[0m \u001b[38;5;124;03m\"\"\"\u001b[39;00m\n\u001b[0;32m    444\u001b[0m FigureCanvasAgg\u001b[38;5;241m.\u001b[39mdraw(\u001b[38;5;28mself\u001b[39m)\n\u001b[1;32m--> 445\u001b[0m \u001b[43mmpl\u001b[49m\u001b[38;5;241;43m.\u001b[39;49m\u001b[43mimage\u001b[49m\u001b[38;5;241;43m.\u001b[39;49m\u001b[43mimsave\u001b[49m\u001b[43m(\u001b[49m\n\u001b[0;32m    446\u001b[0m \u001b[43m    \u001b[49m\u001b[43mfilename_or_obj\u001b[49m\u001b[43m,\u001b[49m\u001b[43m \u001b[49m\u001b[38;5;28;43mself\u001b[39;49m\u001b[38;5;241;43m.\u001b[39;49m\u001b[43mbuffer_rgba\u001b[49m\u001b[43m(\u001b[49m\u001b[43m)\u001b[49m\u001b[43m,\u001b[49m\u001b[43m \u001b[49m\u001b[38;5;28;43mformat\u001b[39;49m\u001b[38;5;241;43m=\u001b[39;49m\u001b[43mfmt\u001b[49m\u001b[43m,\u001b[49m\u001b[43m \u001b[49m\u001b[43morigin\u001b[49m\u001b[38;5;241;43m=\u001b[39;49m\u001b[38;5;124;43m\"\u001b[39;49m\u001b[38;5;124;43mupper\u001b[39;49m\u001b[38;5;124;43m\"\u001b[39;49m\u001b[43m,\u001b[49m\n\u001b[0;32m    447\u001b[0m \u001b[43m    \u001b[49m\u001b[43mdpi\u001b[49m\u001b[38;5;241;43m=\u001b[39;49m\u001b[38;5;28;43mself\u001b[39;49m\u001b[38;5;241;43m.\u001b[39;49m\u001b[43mfigure\u001b[49m\u001b[38;5;241;43m.\u001b[39;49m\u001b[43mdpi\u001b[49m\u001b[43m,\u001b[49m\u001b[43m \u001b[49m\u001b[43mmetadata\u001b[49m\u001b[38;5;241;43m=\u001b[39;49m\u001b[43mmetadata\u001b[49m\u001b[43m,\u001b[49m\u001b[43m \u001b[49m\u001b[43mpil_kwargs\u001b[49m\u001b[38;5;241;43m=\u001b[39;49m\u001b[43mpil_kwargs\u001b[49m\u001b[43m)\u001b[49m\n",
      "File \u001b[1;32m~\\AppData\\Local\\Programs\\Python\\Python39\\lib\\site-packages\\matplotlib\\image.py:1676\u001b[0m, in \u001b[0;36mimsave\u001b[1;34m(fname, arr, vmin, vmax, cmap, format, origin, dpi, metadata, pil_kwargs)\u001b[0m\n\u001b[0;32m   1674\u001b[0m pil_kwargs\u001b[38;5;241m.\u001b[39msetdefault(\u001b[38;5;124m\"\u001b[39m\u001b[38;5;124mformat\u001b[39m\u001b[38;5;124m\"\u001b[39m, \u001b[38;5;28mformat\u001b[39m)\n\u001b[0;32m   1675\u001b[0m pil_kwargs\u001b[38;5;241m.\u001b[39msetdefault(\u001b[38;5;124m\"\u001b[39m\u001b[38;5;124mdpi\u001b[39m\u001b[38;5;124m\"\u001b[39m, (dpi, dpi))\n\u001b[1;32m-> 1676\u001b[0m image\u001b[38;5;241m.\u001b[39msave(fname, \u001b[38;5;241m*\u001b[39m\u001b[38;5;241m*\u001b[39mpil_kwargs)\n",
      "File \u001b[1;32m~\\AppData\\Local\\Programs\\Python\\Python39\\lib\\site-packages\\PIL\\Image.py:2436\u001b[0m, in \u001b[0;36mImage.save\u001b[1;34m(self, fp, format, **params)\u001b[0m\n\u001b[0;32m   2434\u001b[0m         fp \u001b[38;5;241m=\u001b[39m builtins\u001b[38;5;241m.\u001b[39mopen(filename, \u001b[38;5;124m\"\u001b[39m\u001b[38;5;124mr+b\u001b[39m\u001b[38;5;124m\"\u001b[39m)\n\u001b[0;32m   2435\u001b[0m     \u001b[38;5;28;01melse\u001b[39;00m:\n\u001b[1;32m-> 2436\u001b[0m         fp \u001b[38;5;241m=\u001b[39m \u001b[43mbuiltins\u001b[49m\u001b[38;5;241;43m.\u001b[39;49m\u001b[43mopen\u001b[49m\u001b[43m(\u001b[49m\u001b[43mfilename\u001b[49m\u001b[43m,\u001b[49m\u001b[43m \u001b[49m\u001b[38;5;124;43m\"\u001b[39;49m\u001b[38;5;124;43mw+b\u001b[39;49m\u001b[38;5;124;43m\"\u001b[39;49m\u001b[43m)\u001b[49m\n\u001b[0;32m   2438\u001b[0m \u001b[38;5;28;01mtry\u001b[39;00m:\n\u001b[0;32m   2439\u001b[0m     save_handler(\u001b[38;5;28mself\u001b[39m, fp, filename)\n",
      "\u001b[1;31mFileNotFoundError\u001b[0m: [Errno 2] No such file or directory: 'output/VoiceDivergenceD3.png'"
     ]
    },
    {
     "data": {
      "image/png": "[encoded data removed]",
      "text/plain": [
       "<Figure size 650x420 with 1 Axes>"
      ]
     },
     "metadata": {},
     "output_type": "display_data"
    }
   ],
   "source": [
    "                                                # FIG: 3 -> INTERCLASS SIMILARITIES\n",
    "\n",
    "import pandas as pd\n",
    "import numpy as np\n",
    "import matplotlib.pyplot as plt\n",
    "import seaborn as sns\n",
    "\n",
    "# Set figure size\n",
    "plt.figure(figsize=(6.5, 4.2))  # Set the size of the figure (width, height)\n",
    "\n",
    "# Generate sample similarity data for four classes (each with 20 values in the range 0 to 1)\n",
    "np.random.seed(42)  # For reproducibility\n",
    "class1class2 = calculate_interclass_similarity('class1', 'class2')\n",
    "class1class3 = calculate_interclass_similarity('class1', 'class3')\n",
    "class1class4 = calculate_interclass_similarity('class1', 'class4')\n",
    "class2class3 = calculate_interclass_similarity('class2', 'class3')\n",
    "class2class4 = calculate_interclass_similarity('class2', 'class4')\n",
    "class3class4 = calculate_interclass_similarity('class3', 'class4')\n",
    "\n",
    "# Sample DataFrame with four columns\n",
    "data=pd.DataFrame({'Class1 vs Class2':class1class2,'Class1 vs Class3':class1class3,'Class1 vs Class4':class1class4,'Class2 vs Class3':class2class3,'Class2 vs Class4':class2class4,'Class3 vs Class4':class3class4})\n",
    "df = pd.DataFrame(data)\n",
    "\n",
    "# Plot the probability distributions\n",
    "#plt.figure(figsize=(10, 6))\n",
    "\n",
    "# Define colors and line styles for each column\n",
    "colors = ['#1f77b4', '#ff7f0e', '#2ca02c', '#d62728', '#9467bd', '#8c564b']\n",
    "linestyles = ['-.', '--', '-', '-', '-.', '--']\n",
    "\n",
    "# Plot the probability distributions with unique colors and line styles\n",
    "for column, color, linestyle in zip(df.columns, colors, linestyles):\n",
    "    sns.kdeplot(df[column], label=column, color=color, linestyle=linestyle)\n",
    "\n",
    "#plt.title('Probability Distributions of Four Columns')\n",
    "plt.xlabel('Similarity',fontsize=12)\n",
    "plt.ylabel('Density',fontsize=12)\n",
    "plt.yticks(fontsize=12)  # Set y-tick labels font size\n",
    "plt.legend(loc='upper right',fontsize=12)  # Increase legend font size\n",
    "\n",
    "# Optimize layout\n",
    "plt.tight_layout()\n",
    "# Save the plot to a file\n",
    "plt.savefig('output/VoiceDivergenceD3.png', dpi=300, bbox_inches='tight')  # Save as a PNG file with high resolution\n",
    "\n",
    "# Show the plot\n",
    "plt.show()"
   ]
  },
  {
   "cell_type": "code",
   "execution_count": null,
   "id": "19754eee-5c1e-47e6-bbaa-b2cef05a1641",
   "metadata": {},
   "outputs": [],
   "source": []
  }
 ],
 "metadata": {
  "kernelspec": {
   "display_name": "Python 3 (ipykernel)",
   "language": "python",
   "name": "python3"
  },
  "language_info": {
   "codemirror_mode": {
    "name": "ipython",
    "version": 3
   },
   "file_extension": ".py",
   "mimetype": "text/x-python",
   "name": "python",
   "nbconvert_exporter": "python",
   "pygments_lexer": "ipython3",
   "version": "3.9.7"
  }
 },
 "nbformat": 4,
 "nbformat_minor": 5
}
