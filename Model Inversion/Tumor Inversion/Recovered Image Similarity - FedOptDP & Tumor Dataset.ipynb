{
 "cells": [
  {
   "cell_type": "code",
   "execution_count": 1,
   "id": "646b38c2-386a-4f83-a983-ea764ad8267f",
   "metadata": {},
   "outputs": [],
   "source": [
    "# Attempting to recover training data using model's parameters and a DCGAN that was trained on similar data\n",
    "# Author: Suraj Neupane\n",
    "# Written from scratch as a part of a Research Project 2025, Concordia University of Edmonton.\n",
    "import numpy as np\n",
    "\n",
    "import torch\n",
    "from torch import nn\n",
    "from torch.nn import functional\n",
    "\n",
    "from torch.utils import data\n",
    "from torch.utils.data import DataLoader\n",
    "\n",
    "import torchvision\n",
    "from torchvision import datasets\n",
    "from torchvision import transforms\n",
    "\n",
    "import pickle\n",
    "\n",
    "import matplotlib.pyplot as plt\n",
    "%matplotlib inline"
   ]
  },
  {
   "cell_type": "code",
   "execution_count": 2,
   "id": "8b80ddb2-ed75-4870-85b4-9300fce0df7e",
   "metadata": {},
   "outputs": [
    {
     "data": {
      "text/plain": [
       "'2.5.1+cu118'"
      ]
     },
     "execution_count": 2,
     "metadata": {},
     "output_type": "execute_result"
    }
   ],
   "source": [
    "torch.__version__"
   ]
  },
  {
   "cell_type": "code",
   "execution_count": 3,
   "id": "d6950585-eb31-4f61-bd60-5bf8716fcdef",
   "metadata": {},
   "outputs": [],
   "source": [
    "device = 'cuda' if torch.cuda.is_available() else 'cpu'"
   ]
  },
  {
   "cell_type": "code",
   "execution_count": 4,
   "id": "36c47e07-6b7d-4123-a59d-5d465f9ef280",
   "metadata": {},
   "outputs": [
    {
     "data": {
      "text/plain": [
       "'cuda'"
      ]
     },
     "execution_count": 4,
     "metadata": {},
     "output_type": "execute_result"
    }
   ],
   "source": [
    "device"
   ]
  },
  {
   "cell_type": "code",
   "execution_count": 5,
   "id": "b852ca55-f33e-469f-b7b9-e00d21124927",
   "metadata": {},
   "outputs": [],
   "source": [
    "# DCGAN Implementation Class\n",
    "# Discriminator\n",
    "class Discriminator(nn.Module):\n",
    "    def __init__(self, img_channels, features_d):\n",
    "        super().__init__()\n",
    "        self.disc = nn.Sequential(\n",
    "            # Input shape: img_channels x 64 x 64\n",
    "            nn.Conv2d(\n",
    "              in_channels=img_channels, out_channels=features_d, kernel_size=4, stride=2, padding=1\n",
    "            ), # Output shape: features_d x 32 x 32\n",
    "            nn.LeakyReLU(0.2),\n",
    "            self._block(features_d, features_d*2, 4, 2, 1), # Output shape: features_d*2 x 16 x 16\n",
    "            self._block(features_d*2, features_d*4, 4, 2, 1), # Output shape: features_d*4 x 8 x 8\n",
    "            self._block(features_d*4, features_d*8, 4, 2, 1), # Output shape: features_d*8 x 4 x 4\n",
    "           \n",
    "            nn.Conv2d(in_channels=features_d*8, out_channels=1, kernel_size=4, stride=2, padding=0), # Output shape: 1 x 1\n",
    "            nn.Sigmoid(),\n",
    "        )\n",
    "\n",
    "    def _block(self, in_channels, out_channels, kernel_size, stride, padding):\n",
    "        return nn.Sequential(\n",
    "            nn.Conv2d(in_channels, out_channels, kernel_size, stride, padding, bias=False),\n",
    "            nn.BatchNorm2d(out_channels),\n",
    "            nn.LeakyReLU(0.2),\n",
    "        )\n",
    "\n",
    "    def forward(self, X):\n",
    "        return self.disc(X)\n"
   ]
  },
  {
   "cell_type": "code",
   "execution_count": 6,
   "id": "5afe02e5-61d3-4f25-8933-8484e519cd4a",
   "metadata": {},
   "outputs": [],
   "source": [
    "# Generator\n",
    "class Generator(nn.Module):\n",
    "    def __init__(self, z_dim, img_channels, features_g):\n",
    "        super().__init__()\n",
    "        self.gen = nn.Sequential(\n",
    "            self._block(z_dim, features_g*16, 4, 1, 0), # z_dim: (batch_size, 100, 1, 1) -> (batch_size, 1024, 4, 4)\n",
    "            self._block(features_g*16, features_g*8, 4, 2, 1), # z_dim: (batch_size, 1024, 4, 4) -> (batch_size, 512, 8, 8)\n",
    "            self._block(features_g*8, features_g*4, 4, 2, 1), # z_dim: (batch_size, 512, 8, 8) -> (batch_size, 256, 16, 16)\n",
    "            self._block(features_g*4, features_g*2, 4, 2, 1), # z_dim: (batch_size, 128, 16, 16) -> (batch_size, 64, 32, 32)\n",
    "            nn.ConvTranspose2d(\n",
    "                in_channels=features_g*2, out_channels=img_channels, kernel_size=4, stride=2, padding=1 # z_dim: (batch_size, 64, 32, 32) -> (batch_size, 1, 64, 64)\n",
    "            ),\n",
    "            nn.Tanh(),\n",
    "        )\n",
    "        \n",
    "    def _block(self, in_channels, out_channels, kernel_size, stride, padding):\n",
    "        return nn.Sequential(\n",
    "            nn.ConvTranspose2d(\n",
    "                in_channels, out_channels, kernel_size, stride, padding, bias=False,\n",
    "            ),\n",
    "            nn.InstanceNorm2d(out_channels, affine=True),\n",
    "            nn.ReLU(),\n",
    "        )\n",
    "\n",
    "    def forward(self, X):\n",
    "        return self.gen(X)"
   ]
  },
  {
   "cell_type": "code",
   "execution_count": 7,
   "id": "48c1be35-d58a-4d0c-990d-9250fbdbf1b3",
   "metadata": {},
   "outputs": [],
   "source": [
    "# Hyperparams\n",
    "z_dim = 100\n",
    "img_channels = 1\n",
    "features_disc = 64\n",
    "features_gen = 64"
   ]
  },
  {
   "cell_type": "code",
   "execution_count": 8,
   "id": "f2dc1f40-5c2e-4903-b2e7-7abe5cae9772",
   "metadata": {},
   "outputs": [],
   "source": [
    "# Create the model instances\n",
    "gen = Generator(z_dim, img_channels, features_gen).to(device)\n",
    "disc = Discriminator(img_channels, features_disc).to(device)"
   ]
  },
  {
   "cell_type": "code",
   "execution_count": 9,
   "id": "bc7a5deb-f8d8-41d4-aed3-d012d39a84b9",
   "metadata": {},
   "outputs": [
    {
     "data": {
      "text/plain": [
       "<All keys matched successfully>"
      ]
     },
     "execution_count": 9,
     "metadata": {},
     "output_type": "execute_result"
    }
   ],
   "source": [
    "# Load the trained GAN\n",
    "gen.load_state_dict(torch.load('saved models/Generator2.pth', weights_only=True))\n",
    "disc.load_state_dict(torch.load('saved models/Discriminator2.pth', weights_only=True))"
   ]
  },
  {
   "cell_type": "code",
   "execution_count": 10,
   "id": "a504e932-e168-4bb8-88cc-eea0810aafb0",
   "metadata": {},
   "outputs": [],
   "source": [
    "# Generate a random fake image\n",
    "noise = torch.randn(1, z_dim, 1, 1).to(device)\n",
    "fake_img = gen(noise)"
   ]
  },
  {
   "cell_type": "code",
   "execution_count": 11,
   "id": "98b5d73f-b130-4bc1-a868-c225bd2abe62",
   "metadata": {},
   "outputs": [
    {
     "data": {
      "text/plain": [
       "torch.Size([1, 1, 64, 64])"
      ]
     },
     "execution_count": 11,
     "metadata": {},
     "output_type": "execute_result"
    }
   ],
   "source": [
    "fake_img.shape"
   ]
  },
  {
   "cell_type": "code",
   "execution_count": 12,
   "id": "9d19338c-18e4-4b6e-842f-a225718fa8bb",
   "metadata": {},
   "outputs": [
    {
     "name": "stdout",
     "output_type": "stream",
     "text": [
      "torch.Size([64, 64])\n"
     ]
    },
    {
     "data": {
      "text/plain": [
       "<matplotlib.image.AxesImage at 0x1cc981e6400>"
      ]
     },
     "execution_count": 12,
     "metadata": {},
     "output_type": "execute_result"
    },
    {
     "data": {
      "image/png": "[encoded data removed]",
      "text/plain": [
       "<Figure size 640x480 with 1 Axes>"
      ]
     },
     "metadata": {},
     "output_type": "display_data"
    }
   ],
   "source": [
    "fake_img = fake_img.squeeze()\n",
    "print(fake_img.shape)\n",
    "plt.axis(False)\n",
    "plt.title('Fake Generated Image:')\n",
    "plt.imshow(fake_img.cpu().detach(), cmap='gray')"
   ]
  },
  {
   "cell_type": "code",
   "execution_count": 13,
   "id": "cf2aefac-a759-4335-a3de-2065d6a6a9a5",
   "metadata": {},
   "outputs": [],
   "source": [
    "# Target Model\n",
    "class TFCNN(nn.Module):\n",
    "    def __init__(self, n_classes):\n",
    "        super().__init__()\n",
    "        self.n_classes = n_classes\n",
    "\n",
    "        self.encoder = nn.Sequential(\n",
    "            nn.Conv2d(3, 32, 3, stride=1, padding=1),\n",
    "            nn.ReLU(True),\n",
    "            nn.MaxPool2d(2),\n",
    "            nn.Conv2d(32, 64, 3, stride=1, padding=1),\n",
    "            nn.ReLU(True),\n",
    "            nn.MaxPool2d(2),\n",
    "            nn.Conv2d(64, 64, 3, stride=1, padding=1),\n",
    "            nn.ReLU(True),\n",
    "            nn.MaxPool2d(2),\n",
    "            Reshape(),\n",
    "        )\n",
    "\n",
    "        self.h_size = 64 * 4 * 4\n",
    "\n",
    "        self.classifier = nn.Sequential(\n",
    "            nn.Linear(64 * 4 * 4, 128),\n",
    "            nn.ReLU(True),\n",
    "            nn.Linear(128, n_classes)\n",
    "        )\n",
    "\n",
    "    def forward(self, xs):\n",
    "        code = self.encoder(xs)\n",
    "        logits = self.classifier(code)\n",
    "        return code, logits\n"
   ]
  },
  {
   "cell_type": "code",
   "execution_count": 14,
   "id": "d28876e2-91ee-4ebf-bc52-b71dc82edfa2",
   "metadata": {},
   "outputs": [],
   "source": [
    "class Reshape(nn.Module):\n",
    "    def __init__(self,):\n",
    "        super().__init__()\n",
    "\n",
    "    def forward(self, xs):\n",
    "        return xs.reshape((xs.shape[0], -1))"
   ]
  },
  {
   "cell_type": "code",
   "execution_count": 15,
   "id": "dd57210c-2c18-4651-8f29-be94a7a7a88f",
   "metadata": {},
   "outputs": [],
   "source": [
    "class ClassifyNet(nn.Module):\n",
    "    def __init__(self, net, init_way, n_classes, input_size=None):\n",
    "        super().__init__()\n",
    "        self.net = net\n",
    "        self.init_way = init_way\n",
    "        self.n_classes = n_classes\n",
    "\n",
    "        model = TFCNN(n_classes)\n",
    "\n",
    "        self.h_size = model.h_size\n",
    "\n",
    "        # Convo and pool layers\n",
    "        self.encoder = model.encoder\n",
    "\n",
    "        # Classifier layer\n",
    "        self.classifier = nn.Linear(\n",
    "            self.h_size, self.n_classes, bias=False\n",
    "        )\n",
    "\n",
    "        if self.init_way == \"orth\":\n",
    "            ws = get_orth_weights(self.h_size, self.n_classes)\n",
    "            self.classifier.load_state_dict({\"weight\": ws})\n",
    "\n",
    "    def forward(self, xs):\n",
    "        hs = self.encoder(xs)\n",
    "        logits = self.classifier(hs)\n",
    "        return hs, logits"
   ]
  },
  {
   "cell_type": "code",
   "execution_count": 16,
   "id": "83ea3c08-0470-4c9a-ba15-8328a316b3ab",
   "metadata": {},
   "outputs": [],
   "source": [
    "def load_target_model(base_net, n_classes, path):\n",
    "    # Create the base model\n",
    "    model = ClassifyNet(net=base_net, init_way='none', n_classes=n_classes)\n",
    "    # Load the model\n",
    "    model.load_state_dict(torch.load(path, weights_only=True))\n",
    "\n",
    "    return model"
   ]
  },
  {
   "cell_type": "code",
   "execution_count": 17,
   "id": "0880f1aa-9d08-445a-85ac-f1ff3cebde04",
   "metadata": {},
   "outputs": [
    {
     "name": "stdout",
     "output_type": "stream",
     "text": [
      "Model loaded successfully!\n",
      "Number of parameters in the loaded model: 60416\n"
     ]
    }
   ],
   "source": [
    "# Target Model Loading\n",
    "BASE_NET = 'TFCNN'\n",
    "DATASET = 'tumor4'\n",
    "N_CLASSES = 4\n",
    "\n",
    "target_model = load_target_model(base_net=BASE_NET, n_classes=N_CLASSES, path='saved models/fedoptDP_global_model1.path').to(device)\n",
    "print('Model loaded successfully!')\n",
    "target_model.eval()\n",
    "\n",
    "num_params = sum(p.numel() for p in target_model.parameters())\n",
    "print('Number of parameters in the loaded model:', num_params)\n"
   ]
  },
  {
   "cell_type": "code",
   "execution_count": 18,
   "id": "f843f19e-b2a5-4ffe-b22b-de4ff93c5643",
   "metadata": {},
   "outputs": [],
   "source": [
    "# BEGIN BATCH MODEL INVERSION\n",
    "img_count = 20\n",
    "latent_vectors = torch.randn(img_count, z_dim, 1, 1, requires_grad=True) # Start with 20 random noises"
   ]
  },
  {
   "cell_type": "code",
   "execution_count": 19,
   "id": "c21320ed-d5ac-4919-aaad-8cfa093998a6",
   "metadata": {},
   "outputs": [],
   "source": [
    "def recover_images(count, target_image_class, latent_vectors):\n",
    "    optimized_latent_vectors = []\n",
    "    \n",
    "    for x in range(0, count):\n",
    "        z = latent_vectors[x].unsqueeze(dim=0).clone().detach().requires_grad_(True)\n",
    "        \n",
    "        learning_rate = 0.01\n",
    "        target_class = 1 # The second class\n",
    "        \n",
    "        # Create the optimizer\n",
    "        optimizer = torch.optim.Adam([z], lr=learning_rate)\n",
    "        \n",
    "        # Loss function (e.g., Cross-Entropy with classifier outputs)\n",
    "        loss_fn = nn.CrossEntropyLoss()\n",
    "        target_class = torch.tensor([target_image_class])  # Set the target class\n",
    "    \n",
    "        # Optimization loop to find the best z\n",
    "        rounds = 500\n",
    "        for i in range(rounds):\n",
    "            optimizer.zero_grad()\n",
    "            \n",
    "            generated_image = gen(z.to(device))  # Generate an image from the latent vector\n",
    "            generated_image = generated_image.repeat(1, 3, 1, 1)\n",
    "            generated_image = functional.interpolate(generated_image, size=(32, 32), mode='nearest')\n",
    "            #print(generated_image.shape)\n",
    "            hs, prediction_logits = target_model(generated_image)  # Classifier output\n",
    "            #print(prediction_logits)\n",
    "            #print(type(prediction_logits))\n",
    "            loss = loss_fn(prediction_logits, target_class.to(device))  # Minimize difference with true class\n",
    "            loss.backward()\n",
    "            optimizer.step()\n",
    "            \n",
    "            if i % 50 == 0:\n",
    "                print(f\"Generating Image Number: {x+1} for target class {target_class}. Step {i}, Loss: {loss.item()}\")\n",
    "    \n",
    "        optimized_latent_vectors.append(z)\n",
    "        \n",
    "    return optimized_latent_vectors"
   ]
  },
  {
   "cell_type": "code",
   "execution_count": 20,
   "id": "9ebc9533-23ca-4d44-8aea-9d134281b3a4",
   "metadata": {
    "scrolled": true
   },
   "outputs": [
    {
     "name": "stdout",
     "output_type": "stream",
     "text": [
      "Generating Image Number: 1 for target class tensor([0]). Step 0, Loss: 52.52241516113281\n",
      "Generating Image Number: 1 for target class tensor([0]). Step 50, Loss: 51.35023498535156\n",
      "Generating Image Number: 1 for target class tensor([0]). Step 100, Loss: 50.67145919799805\n",
      "Generating Image Number: 1 for target class tensor([0]). Step 150, Loss: 50.314239501953125\n",
      "Generating Image Number: 1 for target class tensor([0]). Step 200, Loss: 50.08568572998047\n",
      "Generating Image Number: 1 for target class tensor([0]). Step 250, Loss: 49.825897216796875\n",
      "Generating Image Number: 1 for target class tensor([0]). Step 300, Loss: 24.493558883666992\n",
      "Generating Image Number: 1 for target class tensor([0]). Step 350, Loss: 20.830350875854492\n",
      "Generating Image Number: 1 for target class tensor([0]). Step 400, Loss: 19.2270565032959\n",
      "Generating Image Number: 1 for target class tensor([0]). Step 450, Loss: 18.219058990478516\n",
      "Generating Image Number: 2 for target class tensor([0]). Step 0, Loss: 52.051265716552734\n",
      "Generating Image Number: 2 for target class tensor([0]). Step 50, Loss: 45.652809143066406\n",
      "Generating Image Number: 2 for target class tensor([0]). Step 100, Loss: 43.62784194946289\n",
      "Generating Image Number: 2 for target class tensor([0]). Step 150, Loss: 42.24345779418945\n",
      "Generating Image Number: 2 for target class tensor([0]). Step 200, Loss: 41.34089660644531\n",
      "Generating Image Number: 2 for target class tensor([0]). Step 250, Loss: 40.62997817993164\n",
      "Generating Image Number: 2 for target class tensor([0]). Step 300, Loss: 40.10586929321289\n",
      "Generating Image Number: 2 for target class tensor([0]). Step 350, Loss: 39.74346160888672\n",
      "Generating Image Number: 2 for target class tensor([0]). Step 400, Loss: 39.45441436767578\n",
      "Generating Image Number: 2 for target class tensor([0]). Step 450, Loss: 39.2459716796875\n",
      "Generating Image Number: 3 for target class tensor([0]). Step 0, Loss: 46.386600494384766\n",
      "Generating Image Number: 3 for target class tensor([0]). Step 50, Loss: 36.06153106689453\n",
      "Generating Image Number: 3 for target class tensor([0]). Step 100, Loss: 35.027679443359375\n",
      "Generating Image Number: 3 for target class tensor([0]). Step 150, Loss: 34.51833724975586\n",
      "Generating Image Number: 3 for target class tensor([0]). Step 200, Loss: 33.94288635253906\n",
      "Generating Image Number: 3 for target class tensor([0]). Step 250, Loss: 33.38990783691406\n",
      "Generating Image Number: 3 for target class tensor([0]). Step 300, Loss: 32.83243942260742\n",
      "Generating Image Number: 3 for target class tensor([0]). Step 350, Loss: 32.27446746826172\n",
      "Generating Image Number: 3 for target class tensor([0]). Step 400, Loss: 32.040565490722656\n",
      "Generating Image Number: 3 for target class tensor([0]). Step 450, Loss: 31.73489761352539\n",
      "Generating Image Number: 4 for target class tensor([0]). Step 0, Loss: 54.85681915283203\n",
      "Generating Image Number: 4 for target class tensor([0]). Step 50, Loss: 27.674665451049805\n",
      "Generating Image Number: 4 for target class tensor([0]). Step 100, Loss: 26.43932342529297\n",
      "Generating Image Number: 4 for target class tensor([0]). Step 150, Loss: 23.334157943725586\n",
      "Generating Image Number: 4 for target class tensor([0]). Step 200, Loss: 21.184185028076172\n",
      "Generating Image Number: 4 for target class tensor([0]). Step 250, Loss: 19.67049217224121\n",
      "Generating Image Number: 4 for target class tensor([0]). Step 300, Loss: 18.455623626708984\n",
      "Generating Image Number: 4 for target class tensor([0]). Step 350, Loss: 17.552263259887695\n",
      "Generating Image Number: 4 for target class tensor([0]). Step 400, Loss: 16.87899398803711\n",
      "Generating Image Number: 4 for target class tensor([0]). Step 450, Loss: 15.97441291809082\n",
      "Generating Image Number: 5 for target class tensor([0]). Step 0, Loss: 37.88117218017578\n",
      "Generating Image Number: 5 for target class tensor([0]). Step 50, Loss: 21.33213233947754\n",
      "Generating Image Number: 5 for target class tensor([0]). Step 100, Loss: 18.585901260375977\n",
      "Generating Image Number: 5 for target class tensor([0]). Step 150, Loss: 16.91558837890625\n",
      "Generating Image Number: 5 for target class tensor([0]). Step 200, Loss: 15.570930480957031\n",
      "Generating Image Number: 5 for target class tensor([0]). Step 250, Loss: 14.986313819885254\n",
      "Generating Image Number: 5 for target class tensor([0]). Step 300, Loss: 14.79414176940918\n",
      "Generating Image Number: 5 for target class tensor([0]). Step 350, Loss: 14.50532341003418\n",
      "Generating Image Number: 5 for target class tensor([0]). Step 400, Loss: 14.280192375183105\n",
      "Generating Image Number: 5 for target class tensor([0]). Step 450, Loss: 14.136765480041504\n",
      "Generating Image Number: 6 for target class tensor([0]). Step 0, Loss: 50.60920333862305\n",
      "Generating Image Number: 6 for target class tensor([0]). Step 50, Loss: 44.967979431152344\n",
      "Generating Image Number: 6 for target class tensor([0]). Step 100, Loss: 44.032325744628906\n",
      "Generating Image Number: 6 for target class tensor([0]). Step 150, Loss: 43.273658752441406\n",
      "Generating Image Number: 6 for target class tensor([0]). Step 200, Loss: 42.621124267578125\n",
      "Generating Image Number: 6 for target class tensor([0]). Step 250, Loss: 42.01361846923828\n",
      "Generating Image Number: 6 for target class tensor([0]). Step 300, Loss: 41.611610412597656\n",
      "Generating Image Number: 6 for target class tensor([0]). Step 350, Loss: 41.28476333618164\n",
      "Generating Image Number: 6 for target class tensor([0]). Step 400, Loss: 41.13041687011719\n",
      "Generating Image Number: 6 for target class tensor([0]). Step 450, Loss: 40.949951171875\n",
      "Generating Image Number: 7 for target class tensor([0]). Step 0, Loss: 35.24301528930664\n",
      "Generating Image Number: 7 for target class tensor([0]). Step 50, Loss: 23.022476196289062\n",
      "Generating Image Number: 7 for target class tensor([0]). Step 100, Loss: 20.623432159423828\n",
      "Generating Image Number: 7 for target class tensor([0]). Step 150, Loss: 18.534639358520508\n",
      "Generating Image Number: 7 for target class tensor([0]). Step 200, Loss: 17.447845458984375\n",
      "Generating Image Number: 7 for target class tensor([0]). Step 250, Loss: 16.89036750793457\n",
      "Generating Image Number: 7 for target class tensor([0]). Step 300, Loss: 16.414596557617188\n",
      "Generating Image Number: 7 for target class tensor([0]). Step 350, Loss: 16.053138732910156\n",
      "Generating Image Number: 7 for target class tensor([0]). Step 400, Loss: 15.71025276184082\n",
      "Generating Image Number: 7 for target class tensor([0]). Step 450, Loss: 15.439248085021973\n",
      "Generating Image Number: 8 for target class tensor([0]). Step 0, Loss: 41.31085968017578\n",
      "Generating Image Number: 8 for target class tensor([0]). Step 50, Loss: 19.58754539489746\n",
      "Generating Image Number: 8 for target class tensor([0]). Step 100, Loss: 18.784862518310547\n",
      "Generating Image Number: 8 for target class tensor([0]). Step 150, Loss: 18.1878719329834\n",
      "Generating Image Number: 8 for target class tensor([0]). Step 200, Loss: 17.998401641845703\n",
      "Generating Image Number: 8 for target class tensor([0]). Step 250, Loss: 17.207881927490234\n",
      "Generating Image Number: 8 for target class tensor([0]). Step 300, Loss: 16.778350830078125\n",
      "Generating Image Number: 8 for target class tensor([0]). Step 350, Loss: 16.659360885620117\n",
      "Generating Image Number: 8 for target class tensor([0]). Step 400, Loss: 16.242084503173828\n",
      "Generating Image Number: 8 for target class tensor([0]). Step 450, Loss: 16.512805938720703\n",
      "Generating Image Number: 9 for target class tensor([0]). Step 0, Loss: 31.903728485107422\n",
      "Generating Image Number: 9 for target class tensor([0]). Step 50, Loss: 24.528423309326172\n",
      "Generating Image Number: 9 for target class tensor([0]). Step 100, Loss: 23.45861053466797\n",
      "Generating Image Number: 9 for target class tensor([0]). Step 150, Loss: 22.657127380371094\n",
      "Generating Image Number: 9 for target class tensor([0]). Step 200, Loss: 21.73101806640625\n",
      "Generating Image Number: 9 for target class tensor([0]). Step 250, Loss: 19.467899322509766\n",
      "Generating Image Number: 9 for target class tensor([0]). Step 300, Loss: 17.529401779174805\n",
      "Generating Image Number: 9 for target class tensor([0]). Step 350, Loss: 16.075777053833008\n",
      "Generating Image Number: 9 for target class tensor([0]). Step 400, Loss: 14.673754692077637\n",
      "Generating Image Number: 9 for target class tensor([0]). Step 450, Loss: 13.692998886108398\n",
      "Generating Image Number: 10 for target class tensor([0]). Step 0, Loss: 25.642353057861328\n",
      "Generating Image Number: 10 for target class tensor([0]). Step 50, Loss: 20.59385108947754\n",
      "Generating Image Number: 10 for target class tensor([0]). Step 100, Loss: 17.69866371154785\n",
      "Generating Image Number: 10 for target class tensor([0]). Step 150, Loss: 15.780766487121582\n",
      "Generating Image Number: 10 for target class tensor([0]). Step 200, Loss: 14.870837211608887\n",
      "Generating Image Number: 10 for target class tensor([0]). Step 250, Loss: 14.165413856506348\n",
      "Generating Image Number: 10 for target class tensor([0]). Step 300, Loss: 13.551798820495605\n",
      "Generating Image Number: 10 for target class tensor([0]). Step 350, Loss: 13.072317123413086\n",
      "Generating Image Number: 10 for target class tensor([0]). Step 400, Loss: 12.761514663696289\n",
      "Generating Image Number: 10 for target class tensor([0]). Step 450, Loss: 12.432111740112305\n",
      "Generating Image Number: 11 for target class tensor([0]). Step 0, Loss: 52.908348083496094\n",
      "Generating Image Number: 11 for target class tensor([0]). Step 50, Loss: 25.324716567993164\n",
      "Generating Image Number: 11 for target class tensor([0]). Step 100, Loss: 23.147220611572266\n",
      "Generating Image Number: 11 for target class tensor([0]). Step 150, Loss: 22.002859115600586\n",
      "Generating Image Number: 11 for target class tensor([0]). Step 200, Loss: 20.91742706298828\n",
      "Generating Image Number: 11 for target class tensor([0]). Step 250, Loss: 20.106237411499023\n",
      "Generating Image Number: 11 for target class tensor([0]). Step 300, Loss: 19.633813858032227\n",
      "Generating Image Number: 11 for target class tensor([0]). Step 350, Loss: 19.077146530151367\n",
      "Generating Image Number: 11 for target class tensor([0]). Step 400, Loss: 18.8143310546875\n",
      "Generating Image Number: 11 for target class tensor([0]). Step 450, Loss: 18.38278579711914\n",
      "Generating Image Number: 12 for target class tensor([0]). Step 0, Loss: 54.85681915283203\n",
      "Generating Image Number: 12 for target class tensor([0]). Step 50, Loss: 29.289979934692383\n",
      "Generating Image Number: 12 for target class tensor([0]). Step 100, Loss: 26.714853286743164\n",
      "Generating Image Number: 12 for target class tensor([0]). Step 150, Loss: 24.721162796020508\n",
      "Generating Image Number: 12 for target class tensor([0]). Step 200, Loss: 23.5986385345459\n",
      "Generating Image Number: 12 for target class tensor([0]). Step 250, Loss: 22.532880783081055\n",
      "Generating Image Number: 12 for target class tensor([0]). Step 300, Loss: 21.33879280090332\n",
      "Generating Image Number: 12 for target class tensor([0]). Step 350, Loss: 20.315391540527344\n",
      "Generating Image Number: 12 for target class tensor([0]). Step 400, Loss: 19.43968963623047\n",
      "Generating Image Number: 12 for target class tensor([0]). Step 450, Loss: 18.57204818725586\n",
      "Generating Image Number: 13 for target class tensor([0]). Step 0, Loss: 24.98339080810547\n",
      "Generating Image Number: 13 for target class tensor([0]). Step 50, Loss: 23.313323974609375\n",
      "Generating Image Number: 13 for target class tensor([0]). Step 100, Loss: 21.94375228881836\n",
      "Generating Image Number: 13 for target class tensor([0]). Step 150, Loss: 20.87730598449707\n",
      "Generating Image Number: 13 for target class tensor([0]). Step 200, Loss: 19.640438079833984\n",
      "Generating Image Number: 13 for target class tensor([0]). Step 250, Loss: 18.742185592651367\n",
      "Generating Image Number: 13 for target class tensor([0]). Step 300, Loss: 17.847166061401367\n",
      "Generating Image Number: 13 for target class tensor([0]). Step 350, Loss: 16.579431533813477\n",
      "Generating Image Number: 13 for target class tensor([0]). Step 400, Loss: 14.64317798614502\n",
      "Generating Image Number: 13 for target class tensor([0]). Step 450, Loss: 13.407295227050781\n",
      "Generating Image Number: 14 for target class tensor([0]). Step 0, Loss: 52.60394287109375\n",
      "Generating Image Number: 14 for target class tensor([0]). Step 50, Loss: 51.55476379394531\n",
      "Generating Image Number: 14 for target class tensor([0]). Step 100, Loss: 51.05692672729492\n",
      "Generating Image Number: 14 for target class tensor([0]). Step 150, Loss: 50.44445037841797\n",
      "Generating Image Number: 14 for target class tensor([0]). Step 200, Loss: 49.512020111083984\n",
      "Generating Image Number: 14 for target class tensor([0]). Step 250, Loss: 48.50852584838867\n",
      "Generating Image Number: 14 for target class tensor([0]). Step 300, Loss: 47.61610412597656\n",
      "Generating Image Number: 14 for target class tensor([0]). Step 350, Loss: 21.878644943237305\n",
      "Generating Image Number: 14 for target class tensor([0]). Step 400, Loss: 17.711530685424805\n",
      "Generating Image Number: 14 for target class tensor([0]). Step 450, Loss: 15.116715431213379\n",
      "Generating Image Number: 15 for target class tensor([0]). Step 0, Loss: 29.08249282836914\n",
      "Generating Image Number: 15 for target class tensor([0]). Step 50, Loss: 24.538442611694336\n",
      "Generating Image Number: 15 for target class tensor([0]). Step 100, Loss: 22.703550338745117\n",
      "Generating Image Number: 15 for target class tensor([0]). Step 150, Loss: 19.802486419677734\n",
      "Generating Image Number: 15 for target class tensor([0]). Step 200, Loss: 17.930845260620117\n",
      "Generating Image Number: 15 for target class tensor([0]). Step 250, Loss: 16.28574562072754\n",
      "Generating Image Number: 15 for target class tensor([0]). Step 300, Loss: 14.95623779296875\n",
      "Generating Image Number: 15 for target class tensor([0]). Step 350, Loss: 13.7225980758667\n",
      "Generating Image Number: 15 for target class tensor([0]). Step 400, Loss: 13.020245552062988\n",
      "Generating Image Number: 15 for target class tensor([0]). Step 450, Loss: 12.640449523925781\n",
      "Generating Image Number: 16 for target class tensor([0]). Step 0, Loss: 28.498971939086914\n",
      "Generating Image Number: 16 for target class tensor([0]). Step 50, Loss: 23.417957305908203\n",
      "Generating Image Number: 16 for target class tensor([0]). Step 100, Loss: 21.369409561157227\n",
      "Generating Image Number: 16 for target class tensor([0]). Step 150, Loss: 18.780702590942383\n",
      "Generating Image Number: 16 for target class tensor([0]). Step 200, Loss: 16.26387596130371\n",
      "Generating Image Number: 16 for target class tensor([0]). Step 250, Loss: 14.615304946899414\n",
      "Generating Image Number: 16 for target class tensor([0]). Step 300, Loss: 13.870709419250488\n",
      "Generating Image Number: 16 for target class tensor([0]). Step 350, Loss: 13.45765495300293\n",
      "Generating Image Number: 16 for target class tensor([0]). Step 400, Loss: 13.115965843200684\n",
      "Generating Image Number: 16 for target class tensor([0]). Step 450, Loss: 12.838483810424805\n",
      "Generating Image Number: 17 for target class tensor([0]). Step 0, Loss: 45.69981384277344\n",
      "Generating Image Number: 17 for target class tensor([0]). Step 50, Loss: 42.630287170410156\n",
      "Generating Image Number: 17 for target class tensor([0]). Step 100, Loss: 41.73405456542969\n",
      "Generating Image Number: 17 for target class tensor([0]). Step 150, Loss: 40.77778244018555\n",
      "Generating Image Number: 17 for target class tensor([0]). Step 200, Loss: 39.873592376708984\n",
      "Generating Image Number: 17 for target class tensor([0]). Step 250, Loss: 39.075035095214844\n",
      "Generating Image Number: 17 for target class tensor([0]). Step 300, Loss: 38.167022705078125\n",
      "Generating Image Number: 17 for target class tensor([0]). Step 350, Loss: 37.38554000854492\n",
      "Generating Image Number: 17 for target class tensor([0]). Step 400, Loss: 36.851165771484375\n",
      "Generating Image Number: 17 for target class tensor([0]). Step 450, Loss: 36.20396041870117\n",
      "Generating Image Number: 18 for target class tensor([0]). Step 0, Loss: 52.886474609375\n",
      "Generating Image Number: 18 for target class tensor([0]). Step 50, Loss: 51.38787078857422\n",
      "Generating Image Number: 18 for target class tensor([0]). Step 100, Loss: 50.863311767578125\n",
      "Generating Image Number: 18 for target class tensor([0]). Step 150, Loss: 50.420875549316406\n",
      "Generating Image Number: 18 for target class tensor([0]). Step 200, Loss: 50.09001159667969\n",
      "Generating Image Number: 18 for target class tensor([0]). Step 250, Loss: 49.90272521972656\n",
      "Generating Image Number: 18 for target class tensor([0]). Step 300, Loss: 49.81199645996094\n",
      "Generating Image Number: 18 for target class tensor([0]). Step 350, Loss: 49.74507141113281\n",
      "Generating Image Number: 18 for target class tensor([0]). Step 400, Loss: 49.693885803222656\n",
      "Generating Image Number: 18 for target class tensor([0]). Step 450, Loss: 48.880775451660156\n",
      "Generating Image Number: 19 for target class tensor([0]). Step 0, Loss: 35.65169143676758\n",
      "Generating Image Number: 19 for target class tensor([0]). Step 50, Loss: 27.533836364746094\n",
      "Generating Image Number: 19 for target class tensor([0]). Step 100, Loss: 26.719648361206055\n",
      "Generating Image Number: 19 for target class tensor([0]). Step 150, Loss: 25.949501037597656\n",
      "Generating Image Number: 19 for target class tensor([0]). Step 200, Loss: 25.049373626708984\n",
      "Generating Image Number: 19 for target class tensor([0]). Step 250, Loss: 23.84293556213379\n",
      "Generating Image Number: 19 for target class tensor([0]). Step 300, Loss: 21.363130569458008\n",
      "Generating Image Number: 19 for target class tensor([0]). Step 350, Loss: 20.219192504882812\n",
      "Generating Image Number: 19 for target class tensor([0]). Step 400, Loss: 19.5107364654541\n",
      "Generating Image Number: 19 for target class tensor([0]). Step 450, Loss: 18.850866317749023\n",
      "Generating Image Number: 20 for target class tensor([0]). Step 0, Loss: 31.666839599609375\n",
      "Generating Image Number: 20 for target class tensor([0]). Step 50, Loss: 24.6715145111084\n",
      "Generating Image Number: 20 for target class tensor([0]). Step 100, Loss: 22.558090209960938\n",
      "Generating Image Number: 20 for target class tensor([0]). Step 150, Loss: 20.786361694335938\n",
      "Generating Image Number: 20 for target class tensor([0]). Step 200, Loss: 18.417564392089844\n",
      "Generating Image Number: 20 for target class tensor([0]). Step 250, Loss: 16.738466262817383\n",
      "Generating Image Number: 20 for target class tensor([0]). Step 300, Loss: 16.238027572631836\n",
      "Generating Image Number: 20 for target class tensor([0]). Step 350, Loss: 15.865606307983398\n",
      "Generating Image Number: 20 for target class tensor([0]). Step 400, Loss: 15.533242225646973\n",
      "Generating Image Number: 20 for target class tensor([0]). Step 450, Loss: 15.290205001831055\n"
     ]
    }
   ],
   "source": [
    "class0_optimized_latent_vectors = recover_images(img_count, 0, latent_vectors)"
   ]
  },
  {
   "cell_type": "code",
   "execution_count": 21,
   "id": "6718334c-2bb1-42a3-bd8c-6aea38e6b59c",
   "metadata": {
    "scrolled": true
   },
   "outputs": [
    {
     "name": "stdout",
     "output_type": "stream",
     "text": [
      "Generating Image Number: 1 for target class tensor([1]). Step 0, Loss: 18.73330307006836\n",
      "Generating Image Number: 1 for target class tensor([1]). Step 50, Loss: 2.0362515449523926\n",
      "Generating Image Number: 1 for target class tensor([1]). Step 100, Loss: 1.1890015602111816\n",
      "Generating Image Number: 1 for target class tensor([1]). Step 150, Loss: 0.7768858075141907\n",
      "Generating Image Number: 1 for target class tensor([1]). Step 200, Loss: 0.5027354955673218\n",
      "Generating Image Number: 1 for target class tensor([1]). Step 250, Loss: 0.3579016327857971\n",
      "Generating Image Number: 1 for target class tensor([1]). Step 300, Loss: 0.25488001108169556\n",
      "Generating Image Number: 1 for target class tensor([1]). Step 350, Loss: 0.19458632171154022\n",
      "Generating Image Number: 1 for target class tensor([1]). Step 400, Loss: 0.13022221624851227\n",
      "Generating Image Number: 1 for target class tensor([1]). Step 450, Loss: 0.09969193488359451\n",
      "Generating Image Number: 2 for target class tensor([1]). Step 0, Loss: 19.098037719726562\n",
      "Generating Image Number: 2 for target class tensor([1]). Step 50, Loss: 1.4189541339874268\n",
      "Generating Image Number: 2 for target class tensor([1]). Step 100, Loss: 0.46597445011138916\n",
      "Generating Image Number: 2 for target class tensor([1]). Step 150, Loss: 0.2793375551700592\n",
      "Generating Image Number: 2 for target class tensor([1]). Step 200, Loss: 0.21360379457473755\n",
      "Generating Image Number: 2 for target class tensor([1]). Step 250, Loss: 0.1721275895833969\n",
      "Generating Image Number: 2 for target class tensor([1]). Step 300, Loss: 0.1162063255906105\n",
      "Generating Image Number: 2 for target class tensor([1]). Step 350, Loss: 0.09333761781454086\n",
      "Generating Image Number: 2 for target class tensor([1]). Step 400, Loss: 0.07750730961561203\n",
      "Generating Image Number: 2 for target class tensor([1]). Step 450, Loss: 0.0648745745420456\n",
      "Generating Image Number: 3 for target class tensor([1]). Step 0, Loss: 25.586570739746094\n",
      "Generating Image Number: 3 for target class tensor([1]). Step 50, Loss: 24.63876724243164\n",
      "Generating Image Number: 3 for target class tensor([1]). Step 100, Loss: 24.07844352722168\n",
      "Generating Image Number: 3 for target class tensor([1]). Step 150, Loss: 23.671669006347656\n",
      "Generating Image Number: 3 for target class tensor([1]). Step 200, Loss: 23.43037986755371\n",
      "Generating Image Number: 3 for target class tensor([1]). Step 250, Loss: 23.250137329101562\n",
      "Generating Image Number: 3 for target class tensor([1]). Step 300, Loss: 23.00737190246582\n",
      "Generating Image Number: 3 for target class tensor([1]). Step 350, Loss: 22.738731384277344\n",
      "Generating Image Number: 3 for target class tensor([1]). Step 400, Loss: 22.458694458007812\n",
      "Generating Image Number: 3 for target class tensor([1]). Step 450, Loss: 22.231082916259766\n",
      "Generating Image Number: 4 for target class tensor([1]). Step 0, Loss: 33.50276184082031\n",
      "Generating Image Number: 4 for target class tensor([1]). Step 50, Loss: 30.911190032958984\n",
      "Generating Image Number: 4 for target class tensor([1]). Step 100, Loss: 30.726604461669922\n",
      "Generating Image Number: 4 for target class tensor([1]). Step 150, Loss: 30.583942413330078\n",
      "Generating Image Number: 4 for target class tensor([1]). Step 200, Loss: 30.466148376464844\n",
      "Generating Image Number: 4 for target class tensor([1]). Step 250, Loss: 30.357547760009766\n",
      "Generating Image Number: 4 for target class tensor([1]). Step 300, Loss: 30.280324935913086\n",
      "Generating Image Number: 4 for target class tensor([1]). Step 350, Loss: 30.185609817504883\n",
      "Generating Image Number: 4 for target class tensor([1]). Step 400, Loss: 30.109100341796875\n",
      "Generating Image Number: 4 for target class tensor([1]). Step 450, Loss: 30.047719955444336\n",
      "Generating Image Number: 5 for target class tensor([1]). Step 0, Loss: 36.96360778808594\n",
      "Generating Image Number: 5 for target class tensor([1]). Step 50, Loss: 34.478485107421875\n",
      "Generating Image Number: 5 for target class tensor([1]). Step 100, Loss: 33.76239776611328\n",
      "Generating Image Number: 5 for target class tensor([1]). Step 150, Loss: 33.187347412109375\n",
      "Generating Image Number: 5 for target class tensor([1]). Step 200, Loss: 32.553863525390625\n",
      "Generating Image Number: 5 for target class tensor([1]). Step 250, Loss: 31.580425262451172\n",
      "Generating Image Number: 5 for target class tensor([1]). Step 300, Loss: 29.974241256713867\n",
      "Generating Image Number: 5 for target class tensor([1]). Step 350, Loss: 28.714601516723633\n",
      "Generating Image Number: 5 for target class tensor([1]). Step 400, Loss: 28.089250564575195\n",
      "Generating Image Number: 5 for target class tensor([1]). Step 450, Loss: 27.103370666503906\n",
      "Generating Image Number: 6 for target class tensor([1]). Step 0, Loss: 38.73001480102539\n",
      "Generating Image Number: 6 for target class tensor([1]). Step 50, Loss: 6.4427313804626465\n",
      "Generating Image Number: 6 for target class tensor([1]). Step 100, Loss: 4.498711585998535\n",
      "Generating Image Number: 6 for target class tensor([1]). Step 150, Loss: 2.072328805923462\n",
      "Generating Image Number: 6 for target class tensor([1]). Step 200, Loss: 0.9494301676750183\n",
      "Generating Image Number: 6 for target class tensor([1]). Step 250, Loss: 0.49637508392333984\n",
      "Generating Image Number: 6 for target class tensor([1]). Step 300, Loss: 0.3350764214992523\n",
      "Generating Image Number: 6 for target class tensor([1]). Step 350, Loss: 0.24427732825279236\n",
      "Generating Image Number: 6 for target class tensor([1]). Step 400, Loss: 0.17898154258728027\n",
      "Generating Image Number: 6 for target class tensor([1]). Step 450, Loss: 0.1418321579694748\n",
      "Generating Image Number: 7 for target class tensor([1]). Step 0, Loss: 99.86939239501953\n",
      "Generating Image Number: 7 for target class tensor([1]). Step 50, Loss: 96.72891235351562\n",
      "Generating Image Number: 7 for target class tensor([1]). Step 100, Loss: 96.08639526367188\n",
      "Generating Image Number: 7 for target class tensor([1]). Step 150, Loss: 95.60694885253906\n",
      "Generating Image Number: 7 for target class tensor([1]). Step 200, Loss: 94.89894104003906\n",
      "Generating Image Number: 7 for target class tensor([1]). Step 250, Loss: 93.91541290283203\n",
      "Generating Image Number: 7 for target class tensor([1]). Step 300, Loss: 93.35975646972656\n",
      "Generating Image Number: 7 for target class tensor([1]). Step 350, Loss: 92.86491394042969\n",
      "Generating Image Number: 7 for target class tensor([1]). Step 400, Loss: 92.53821563720703\n",
      "Generating Image Number: 7 for target class tensor([1]). Step 450, Loss: 16.45433235168457\n",
      "Generating Image Number: 8 for target class tensor([1]). Step 0, Loss: 103.16139221191406\n",
      "Generating Image Number: 8 for target class tensor([1]). Step 50, Loss: 30.09270477294922\n",
      "Generating Image Number: 8 for target class tensor([1]). Step 100, Loss: 25.980566024780273\n",
      "Generating Image Number: 8 for target class tensor([1]). Step 150, Loss: 25.36468505859375\n",
      "Generating Image Number: 8 for target class tensor([1]). Step 200, Loss: 24.71296501159668\n",
      "Generating Image Number: 8 for target class tensor([1]). Step 250, Loss: 24.283893585205078\n",
      "Generating Image Number: 8 for target class tensor([1]). Step 300, Loss: 21.57575035095215\n",
      "Generating Image Number: 8 for target class tensor([1]). Step 350, Loss: 9.102336883544922\n",
      "Generating Image Number: 8 for target class tensor([1]). Step 400, Loss: 1.991873860359192\n",
      "Generating Image Number: 8 for target class tensor([1]). Step 450, Loss: 1.453472375869751\n",
      "Generating Image Number: 9 for target class tensor([1]). Step 0, Loss: 25.902297973632812\n",
      "Generating Image Number: 9 for target class tensor([1]). Step 50, Loss: 1.7858479022979736\n",
      "Generating Image Number: 9 for target class tensor([1]). Step 100, Loss: 0.3063502609729767\n",
      "Generating Image Number: 9 for target class tensor([1]). Step 150, Loss: 0.15961140394210815\n",
      "Generating Image Number: 9 for target class tensor([1]). Step 200, Loss: 0.10906896740198135\n",
      "Generating Image Number: 9 for target class tensor([1]). Step 250, Loss: 0.09200318157672882\n",
      "Generating Image Number: 9 for target class tensor([1]). Step 300, Loss: 0.08117594569921494\n",
      "Generating Image Number: 9 for target class tensor([1]). Step 350, Loss: 0.07043708860874176\n",
      "Generating Image Number: 9 for target class tensor([1]). Step 400, Loss: 0.06385135650634766\n",
      "Generating Image Number: 9 for target class tensor([1]). Step 450, Loss: 0.058857642114162445\n",
      "Generating Image Number: 10 for target class tensor([1]). Step 0, Loss: 13.048381805419922\n",
      "Generating Image Number: 10 for target class tensor([1]). Step 50, Loss: 1.7388591766357422\n",
      "Generating Image Number: 10 for target class tensor([1]). Step 100, Loss: 0.6691049933433533\n",
      "Generating Image Number: 10 for target class tensor([1]). Step 150, Loss: 0.3179530203342438\n",
      "Generating Image Number: 10 for target class tensor([1]). Step 200, Loss: 0.18468044698238373\n",
      "Generating Image Number: 10 for target class tensor([1]). Step 250, Loss: 0.11485117673873901\n",
      "Generating Image Number: 10 for target class tensor([1]). Step 300, Loss: 0.08073916286230087\n",
      "Generating Image Number: 10 for target class tensor([1]). Step 350, Loss: 0.06316199153661728\n",
      "Generating Image Number: 10 for target class tensor([1]). Step 400, Loss: 0.04985925182700157\n",
      "Generating Image Number: 10 for target class tensor([1]). Step 450, Loss: 0.04157686606049538\n",
      "Generating Image Number: 11 for target class tensor([1]). Step 0, Loss: 32.81895446777344\n",
      "Generating Image Number: 11 for target class tensor([1]). Step 50, Loss: 3.704068899154663\n",
      "Generating Image Number: 11 for target class tensor([1]). Step 100, Loss: 1.0810049772262573\n",
      "Generating Image Number: 11 for target class tensor([1]). Step 150, Loss: 0.6513181328773499\n",
      "Generating Image Number: 11 for target class tensor([1]). Step 200, Loss: 0.45038682222366333\n",
      "Generating Image Number: 11 for target class tensor([1]). Step 250, Loss: 0.34610486030578613\n",
      "Generating Image Number: 11 for target class tensor([1]). Step 300, Loss: 0.2716696560382843\n",
      "Generating Image Number: 11 for target class tensor([1]). Step 350, Loss: 0.2160188853740692\n",
      "Generating Image Number: 11 for target class tensor([1]). Step 400, Loss: 0.17657512426376343\n",
      "Generating Image Number: 11 for target class tensor([1]). Step 450, Loss: 0.14669395983219147\n",
      "Generating Image Number: 12 for target class tensor([1]). Step 0, Loss: 22.426856994628906\n",
      "Generating Image Number: 12 for target class tensor([1]). Step 50, Loss: 3.5996241569519043\n",
      "Generating Image Number: 12 for target class tensor([1]). Step 100, Loss: 0.8980075120925903\n",
      "Generating Image Number: 12 for target class tensor([1]). Step 150, Loss: 0.32211044430732727\n",
      "Generating Image Number: 12 for target class tensor([1]). Step 200, Loss: 0.19909660518169403\n",
      "Generating Image Number: 12 for target class tensor([1]). Step 250, Loss: 0.13811610639095306\n",
      "Generating Image Number: 12 for target class tensor([1]). Step 300, Loss: 0.1020045354962349\n",
      "Generating Image Number: 12 for target class tensor([1]). Step 350, Loss: 0.08351515978574753\n",
      "Generating Image Number: 12 for target class tensor([1]). Step 400, Loss: 0.06791111826896667\n",
      "Generating Image Number: 12 for target class tensor([1]). Step 450, Loss: 0.05440542846918106\n",
      "Generating Image Number: 13 for target class tensor([1]). Step 0, Loss: 34.28264617919922\n",
      "Generating Image Number: 13 for target class tensor([1]). Step 50, Loss: 32.23956298828125\n",
      "Generating Image Number: 13 for target class tensor([1]). Step 100, Loss: 31.999282836914062\n",
      "Generating Image Number: 13 for target class tensor([1]). Step 150, Loss: 31.771921157836914\n",
      "Generating Image Number: 13 for target class tensor([1]). Step 200, Loss: 31.575241088867188\n",
      "Generating Image Number: 13 for target class tensor([1]). Step 250, Loss: 31.432432174682617\n",
      "Generating Image Number: 13 for target class tensor([1]). Step 300, Loss: 31.35728645324707\n",
      "Generating Image Number: 13 for target class tensor([1]). Step 350, Loss: 31.244140625\n",
      "Generating Image Number: 13 for target class tensor([1]). Step 400, Loss: 31.09324836730957\n",
      "Generating Image Number: 13 for target class tensor([1]). Step 450, Loss: 30.929786682128906\n",
      "Generating Image Number: 14 for target class tensor([1]). Step 0, Loss: 17.753562927246094\n",
      "Generating Image Number: 14 for target class tensor([1]). Step 50, Loss: 12.598679542541504\n",
      "Generating Image Number: 14 for target class tensor([1]). Step 100, Loss: 9.725272178649902\n",
      "Generating Image Number: 14 for target class tensor([1]). Step 150, Loss: 6.314621925354004\n",
      "Generating Image Number: 14 for target class tensor([1]). Step 200, Loss: 5.1719160079956055\n",
      "Generating Image Number: 14 for target class tensor([1]). Step 250, Loss: 4.412899017333984\n",
      "Generating Image Number: 14 for target class tensor([1]). Step 300, Loss: 3.855520009994507\n",
      "Generating Image Number: 14 for target class tensor([1]). Step 350, Loss: 3.4830739498138428\n",
      "Generating Image Number: 14 for target class tensor([1]). Step 400, Loss: 3.209934949874878\n",
      "Generating Image Number: 14 for target class tensor([1]). Step 450, Loss: 3.0298662185668945\n",
      "Generating Image Number: 15 for target class tensor([1]). Step 0, Loss: 7.21714973449707\n",
      "Generating Image Number: 15 for target class tensor([1]). Step 50, Loss: 0.17746256291866302\n",
      "Generating Image Number: 15 for target class tensor([1]). Step 100, Loss: 0.09073947370052338\n",
      "Generating Image Number: 15 for target class tensor([1]). Step 150, Loss: 0.06427579373121262\n",
      "Generating Image Number: 15 for target class tensor([1]). Step 200, Loss: 0.04901443421840668\n",
      "Generating Image Number: 15 for target class tensor([1]). Step 250, Loss: 0.040120188146829605\n",
      "Generating Image Number: 15 for target class tensor([1]). Step 300, Loss: 0.03472292050719261\n",
      "Generating Image Number: 15 for target class tensor([1]). Step 350, Loss: 0.029494885355234146\n",
      "Generating Image Number: 15 for target class tensor([1]). Step 400, Loss: 0.02517779916524887\n",
      "Generating Image Number: 15 for target class tensor([1]). Step 450, Loss: 0.021920885890722275\n",
      "Generating Image Number: 16 for target class tensor([1]). Step 0, Loss: 95.43936157226562\n",
      "Generating Image Number: 16 for target class tensor([1]). Step 50, Loss: 2.3070149421691895\n",
      "Generating Image Number: 16 for target class tensor([1]). Step 100, Loss: 0.9275174736976624\n",
      "Generating Image Number: 16 for target class tensor([1]). Step 150, Loss: 0.3074168562889099\n",
      "Generating Image Number: 16 for target class tensor([1]). Step 200, Loss: 0.1917804777622223\n",
      "Generating Image Number: 16 for target class tensor([1]). Step 250, Loss: 0.16971546411514282\n",
      "Generating Image Number: 16 for target class tensor([1]). Step 300, Loss: 0.15920838713645935\n",
      "Generating Image Number: 16 for target class tensor([1]). Step 350, Loss: 0.15174971520900726\n",
      "Generating Image Number: 16 for target class tensor([1]). Step 400, Loss: 0.14202113449573517\n",
      "Generating Image Number: 16 for target class tensor([1]). Step 450, Loss: 0.13420577347278595\n",
      "Generating Image Number: 17 for target class tensor([1]). Step 0, Loss: 18.819795608520508\n",
      "Generating Image Number: 17 for target class tensor([1]). Step 50, Loss: 13.967581748962402\n",
      "Generating Image Number: 17 for target class tensor([1]). Step 100, Loss: 12.24267578125\n",
      "Generating Image Number: 17 for target class tensor([1]). Step 150, Loss: 7.963269233703613\n",
      "Generating Image Number: 17 for target class tensor([1]). Step 200, Loss: 6.19414758682251\n",
      "Generating Image Number: 17 for target class tensor([1]). Step 250, Loss: 5.081244945526123\n",
      "Generating Image Number: 17 for target class tensor([1]). Step 300, Loss: 4.386353969573975\n",
      "Generating Image Number: 17 for target class tensor([1]). Step 350, Loss: 3.6376078128814697\n",
      "Generating Image Number: 17 for target class tensor([1]). Step 400, Loss: 3.3712661266326904\n",
      "Generating Image Number: 17 for target class tensor([1]). Step 450, Loss: 3.1524503231048584\n",
      "Generating Image Number: 18 for target class tensor([1]). Step 0, Loss: 31.46356964111328\n",
      "Generating Image Number: 18 for target class tensor([1]). Step 50, Loss: 18.125886917114258\n",
      "Generating Image Number: 18 for target class tensor([1]). Step 100, Loss: 16.767074584960938\n",
      "Generating Image Number: 18 for target class tensor([1]). Step 150, Loss: 15.245914459228516\n",
      "Generating Image Number: 18 for target class tensor([1]). Step 200, Loss: 14.36955738067627\n",
      "Generating Image Number: 18 for target class tensor([1]). Step 250, Loss: 13.534528732299805\n",
      "Generating Image Number: 18 for target class tensor([1]). Step 300, Loss: 12.92725944519043\n",
      "Generating Image Number: 18 for target class tensor([1]). Step 350, Loss: 12.509846687316895\n",
      "Generating Image Number: 18 for target class tensor([1]). Step 400, Loss: 12.269083976745605\n",
      "Generating Image Number: 18 for target class tensor([1]). Step 450, Loss: 11.866132736206055\n",
      "Generating Image Number: 19 for target class tensor([1]). Step 0, Loss: 34.11473083496094\n",
      "Generating Image Number: 19 for target class tensor([1]). Step 50, Loss: 0.45317935943603516\n",
      "Generating Image Number: 19 for target class tensor([1]). Step 100, Loss: 0.23129959404468536\n",
      "Generating Image Number: 19 for target class tensor([1]). Step 150, Loss: 0.1632251739501953\n",
      "Generating Image Number: 19 for target class tensor([1]). Step 200, Loss: 0.1245175153017044\n",
      "Generating Image Number: 19 for target class tensor([1]). Step 250, Loss: 0.0997234359383583\n",
      "Generating Image Number: 19 for target class tensor([1]). Step 300, Loss: 0.08084879070520401\n",
      "Generating Image Number: 19 for target class tensor([1]). Step 350, Loss: 0.06846776604652405\n",
      "Generating Image Number: 19 for target class tensor([1]). Step 400, Loss: 0.05758102610707283\n",
      "Generating Image Number: 19 for target class tensor([1]). Step 450, Loss: 0.050041940063238144\n",
      "Generating Image Number: 20 for target class tensor([1]). Step 0, Loss: 18.82737922668457\n",
      "Generating Image Number: 20 for target class tensor([1]). Step 50, Loss: 14.422536849975586\n",
      "Generating Image Number: 20 for target class tensor([1]). Step 100, Loss: 13.104375839233398\n",
      "Generating Image Number: 20 for target class tensor([1]). Step 150, Loss: 12.620619773864746\n",
      "Generating Image Number: 20 for target class tensor([1]). Step 200, Loss: 12.008037567138672\n",
      "Generating Image Number: 20 for target class tensor([1]). Step 250, Loss: 11.48733901977539\n",
      "Generating Image Number: 20 for target class tensor([1]). Step 300, Loss: 11.106719017028809\n",
      "Generating Image Number: 20 for target class tensor([1]). Step 350, Loss: 10.996577262878418\n",
      "Generating Image Number: 20 for target class tensor([1]). Step 400, Loss: 10.668127059936523\n",
      "Generating Image Number: 20 for target class tensor([1]). Step 450, Loss: 10.50517463684082\n"
     ]
    }
   ],
   "source": [
    "torch.manual_seed(100)\n",
    "latent_vectors = torch.randn(img_count, z_dim, 1, 1, requires_grad=True) # Start with 20 random noises\n",
    "class1_optimized_latent_vectors = recover_images(img_count, 1, latent_vectors)"
   ]
  },
  {
   "cell_type": "code",
   "execution_count": 22,
   "id": "1c8af686-b1ff-419d-946d-2447773e47c9",
   "metadata": {
    "scrolled": true
   },
   "outputs": [
    {
     "name": "stdout",
     "output_type": "stream",
     "text": [
      "Generating Image Number: 1 for target class tensor([2]). Step 0, Loss: 4.768360213347478e-06\n",
      "Generating Image Number: 1 for target class tensor([2]). Step 50, Loss: 0.0\n",
      "Generating Image Number: 1 for target class tensor([2]). Step 100, Loss: 0.0\n",
      "Generating Image Number: 1 for target class tensor([2]). Step 150, Loss: 0.0\n",
      "Generating Image Number: 1 for target class tensor([2]). Step 200, Loss: 0.0\n",
      "Generating Image Number: 1 for target class tensor([2]). Step 250, Loss: 0.0\n",
      "Generating Image Number: 1 for target class tensor([2]). Step 300, Loss: 0.0\n",
      "Generating Image Number: 1 for target class tensor([2]). Step 350, Loss: 0.0\n",
      "Generating Image Number: 1 for target class tensor([2]). Step 400, Loss: 0.0\n",
      "Generating Image Number: 1 for target class tensor([2]). Step 450, Loss: 0.0\n",
      "Generating Image Number: 2 for target class tensor([2]). Step 0, Loss: 1.549708758830093e-05\n",
      "Generating Image Number: 2 for target class tensor([2]). Step 50, Loss: 0.0\n",
      "Generating Image Number: 2 for target class tensor([2]). Step 100, Loss: 0.0\n",
      "Generating Image Number: 2 for target class tensor([2]). Step 150, Loss: 0.0\n",
      "Generating Image Number: 2 for target class tensor([2]). Step 200, Loss: 0.0\n",
      "Generating Image Number: 2 for target class tensor([2]). Step 250, Loss: 0.0\n",
      "Generating Image Number: 2 for target class tensor([2]). Step 300, Loss: 0.0\n",
      "Generating Image Number: 2 for target class tensor([2]). Step 350, Loss: 0.0\n",
      "Generating Image Number: 2 for target class tensor([2]). Step 400, Loss: 0.0\n",
      "Generating Image Number: 2 for target class tensor([2]). Step 450, Loss: 0.0\n",
      "Generating Image Number: 3 for target class tensor([2]). Step 0, Loss: 0.0\n",
      "Generating Image Number: 3 for target class tensor([2]). Step 50, Loss: 0.0\n",
      "Generating Image Number: 3 for target class tensor([2]). Step 100, Loss: 0.0\n",
      "Generating Image Number: 3 for target class tensor([2]). Step 150, Loss: 0.0\n",
      "Generating Image Number: 3 for target class tensor([2]). Step 200, Loss: 0.0\n",
      "Generating Image Number: 3 for target class tensor([2]). Step 250, Loss: 0.0\n",
      "Generating Image Number: 3 for target class tensor([2]). Step 300, Loss: 0.0\n",
      "Generating Image Number: 3 for target class tensor([2]). Step 350, Loss: 0.0\n",
      "Generating Image Number: 3 for target class tensor([2]). Step 400, Loss: 0.0\n",
      "Generating Image Number: 3 for target class tensor([2]). Step 450, Loss: 0.0\n",
      "Generating Image Number: 4 for target class tensor([2]). Step 0, Loss: 0.0\n",
      "Generating Image Number: 4 for target class tensor([2]). Step 50, Loss: 0.0\n",
      "Generating Image Number: 4 for target class tensor([2]). Step 100, Loss: 0.0\n",
      "Generating Image Number: 4 for target class tensor([2]). Step 150, Loss: 0.0\n",
      "Generating Image Number: 4 for target class tensor([2]). Step 200, Loss: 0.0\n",
      "Generating Image Number: 4 for target class tensor([2]). Step 250, Loss: 0.0\n",
      "Generating Image Number: 4 for target class tensor([2]). Step 300, Loss: 0.0\n",
      "Generating Image Number: 4 for target class tensor([2]). Step 350, Loss: 0.0\n",
      "Generating Image Number: 4 for target class tensor([2]). Step 400, Loss: 0.0\n",
      "Generating Image Number: 4 for target class tensor([2]). Step 450, Loss: 0.0\n",
      "Generating Image Number: 5 for target class tensor([2]). Step 0, Loss: 1.5497195136049413e-06\n",
      "Generating Image Number: 5 for target class tensor([2]). Step 50, Loss: 0.0\n",
      "Generating Image Number: 5 for target class tensor([2]). Step 100, Loss: 0.0\n",
      "Generating Image Number: 5 for target class tensor([2]). Step 150, Loss: 0.0\n",
      "Generating Image Number: 5 for target class tensor([2]). Step 200, Loss: 0.0\n",
      "Generating Image Number: 5 for target class tensor([2]). Step 250, Loss: 0.0\n",
      "Generating Image Number: 5 for target class tensor([2]). Step 300, Loss: 0.0\n",
      "Generating Image Number: 5 for target class tensor([2]). Step 350, Loss: 0.0\n",
      "Generating Image Number: 5 for target class tensor([2]). Step 400, Loss: 0.0\n",
      "Generating Image Number: 5 for target class tensor([2]). Step 450, Loss: 0.0\n",
      "Generating Image Number: 6 for target class tensor([2]). Step 0, Loss: 9.059865078597795e-06\n",
      "Generating Image Number: 6 for target class tensor([2]). Step 50, Loss: 0.0\n",
      "Generating Image Number: 6 for target class tensor([2]). Step 100, Loss: 0.0\n",
      "Generating Image Number: 6 for target class tensor([2]). Step 150, Loss: 0.0\n",
      "Generating Image Number: 6 for target class tensor([2]). Step 200, Loss: 0.0\n",
      "Generating Image Number: 6 for target class tensor([2]). Step 250, Loss: 0.0\n",
      "Generating Image Number: 6 for target class tensor([2]). Step 300, Loss: 0.0\n",
      "Generating Image Number: 6 for target class tensor([2]). Step 350, Loss: 0.0\n",
      "Generating Image Number: 6 for target class tensor([2]). Step 400, Loss: 0.0\n",
      "Generating Image Number: 6 for target class tensor([2]). Step 450, Loss: 0.0\n",
      "Generating Image Number: 7 for target class tensor([2]). Step 0, Loss: 2.682172998902388e-05\n",
      "Generating Image Number: 7 for target class tensor([2]). Step 50, Loss: 4.0531076592742465e-06\n",
      "Generating Image Number: 7 for target class tensor([2]). Step 100, Loss: 2.0265558760002023e-06\n",
      "Generating Image Number: 7 for target class tensor([2]). Step 150, Loss: 1.4305104514278355e-06\n",
      "Generating Image Number: 7 for target class tensor([2]). Step 200, Loss: 1.0728830375228426e-06\n",
      "Generating Image Number: 7 for target class tensor([2]). Step 250, Loss: 9.536738616588991e-07\n",
      "Generating Image Number: 7 for target class tensor([2]). Step 300, Loss: 7.152555099310121e-07\n",
      "Generating Image Number: 7 for target class tensor([2]). Step 350, Loss: 5.960462772236497e-07\n",
      "Generating Image Number: 7 for target class tensor([2]). Step 400, Loss: 4.768370445162873e-07\n",
      "Generating Image Number: 7 for target class tensor([2]). Step 450, Loss: 4.768370445162873e-07\n",
      "Generating Image Number: 8 for target class tensor([2]). Step 0, Loss: 3.099436753473128e-06\n",
      "Generating Image Number: 8 for target class tensor([2]). Step 50, Loss: 0.0\n",
      "Generating Image Number: 8 for target class tensor([2]). Step 100, Loss: 0.0\n",
      "Generating Image Number: 8 for target class tensor([2]). Step 150, Loss: 0.0\n",
      "Generating Image Number: 8 for target class tensor([2]). Step 200, Loss: 0.0\n",
      "Generating Image Number: 8 for target class tensor([2]). Step 250, Loss: 0.0\n",
      "Generating Image Number: 8 for target class tensor([2]). Step 300, Loss: 0.0\n",
      "Generating Image Number: 8 for target class tensor([2]). Step 350, Loss: 0.0\n",
      "Generating Image Number: 8 for target class tensor([2]). Step 400, Loss: 0.0\n",
      "Generating Image Number: 8 for target class tensor([2]). Step 450, Loss: 0.0\n",
      "Generating Image Number: 9 for target class tensor([2]). Step 0, Loss: 0.0\n",
      "Generating Image Number: 9 for target class tensor([2]). Step 50, Loss: 0.0\n",
      "Generating Image Number: 9 for target class tensor([2]). Step 100, Loss: 0.0\n",
      "Generating Image Number: 9 for target class tensor([2]). Step 150, Loss: 0.0\n",
      "Generating Image Number: 9 for target class tensor([2]). Step 200, Loss: 0.0\n",
      "Generating Image Number: 9 for target class tensor([2]). Step 250, Loss: 0.0\n",
      "Generating Image Number: 9 for target class tensor([2]). Step 300, Loss: 0.0\n",
      "Generating Image Number: 9 for target class tensor([2]). Step 350, Loss: 0.0\n",
      "Generating Image Number: 9 for target class tensor([2]). Step 400, Loss: 0.0\n",
      "Generating Image Number: 9 for target class tensor([2]). Step 450, Loss: 0.0\n",
      "Generating Image Number: 10 for target class tensor([2]). Step 0, Loss: 1.3828182090946939e-05\n",
      "Generating Image Number: 10 for target class tensor([2]). Step 50, Loss: 0.0\n",
      "Generating Image Number: 10 for target class tensor([2]). Step 100, Loss: 0.0\n",
      "Generating Image Number: 10 for target class tensor([2]). Step 150, Loss: 0.0\n",
      "Generating Image Number: 10 for target class tensor([2]). Step 200, Loss: 0.0\n",
      "Generating Image Number: 10 for target class tensor([2]). Step 250, Loss: 0.0\n",
      "Generating Image Number: 10 for target class tensor([2]). Step 300, Loss: 0.0\n",
      "Generating Image Number: 10 for target class tensor([2]). Step 350, Loss: 0.0\n",
      "Generating Image Number: 10 for target class tensor([2]). Step 400, Loss: 0.0\n",
      "Generating Image Number: 10 for target class tensor([2]). Step 450, Loss: 0.0\n",
      "Generating Image Number: 11 for target class tensor([2]). Step 0, Loss: 0.0\n",
      "Generating Image Number: 11 for target class tensor([2]). Step 50, Loss: 0.0\n",
      "Generating Image Number: 11 for target class tensor([2]). Step 100, Loss: 0.0\n",
      "Generating Image Number: 11 for target class tensor([2]). Step 150, Loss: 0.0\n",
      "Generating Image Number: 11 for target class tensor([2]). Step 200, Loss: 0.0\n",
      "Generating Image Number: 11 for target class tensor([2]). Step 250, Loss: 0.0\n",
      "Generating Image Number: 11 for target class tensor([2]). Step 300, Loss: 0.0\n",
      "Generating Image Number: 11 for target class tensor([2]). Step 350, Loss: 0.0\n",
      "Generating Image Number: 11 for target class tensor([2]). Step 400, Loss: 0.0\n",
      "Generating Image Number: 11 for target class tensor([2]). Step 450, Loss: 0.0\n",
      "Generating Image Number: 12 for target class tensor([2]). Step 0, Loss: 0.0\n",
      "Generating Image Number: 12 for target class tensor([2]). Step 50, Loss: 0.0\n",
      "Generating Image Number: 12 for target class tensor([2]). Step 100, Loss: 0.0\n",
      "Generating Image Number: 12 for target class tensor([2]). Step 150, Loss: 0.0\n",
      "Generating Image Number: 12 for target class tensor([2]). Step 200, Loss: 0.0\n",
      "Generating Image Number: 12 for target class tensor([2]). Step 250, Loss: 0.0\n",
      "Generating Image Number: 12 for target class tensor([2]). Step 300, Loss: 0.0\n",
      "Generating Image Number: 12 for target class tensor([2]). Step 350, Loss: 0.0\n",
      "Generating Image Number: 12 for target class tensor([2]). Step 400, Loss: 0.0\n",
      "Generating Image Number: 12 for target class tensor([2]). Step 450, Loss: 0.0\n",
      "Generating Image Number: 13 for target class tensor([2]). Step 0, Loss: 6.222531374078244e-05\n",
      "Generating Image Number: 13 for target class tensor([2]). Step 50, Loss: 4.291525328881107e-06\n",
      "Generating Image Number: 13 for target class tensor([2]). Step 100, Loss: 2.861018856492592e-06\n",
      "Generating Image Number: 13 for target class tensor([2]). Step 150, Loss: 2.0265558760002023e-06\n",
      "Generating Image Number: 13 for target class tensor([2]). Step 200, Loss: 1.5497195136049413e-06\n",
      "Generating Image Number: 13 for target class tensor([2]). Step 250, Loss: 1.1920922133867862e-06\n",
      "Generating Image Number: 13 for target class tensor([2]). Step 300, Loss: 9.536738616588991e-07\n",
      "Generating Image Number: 13 for target class tensor([2]). Step 350, Loss: 8.344646857949556e-07\n",
      "Generating Image Number: 13 for target class tensor([2]). Step 400, Loss: 7.152555099310121e-07\n",
      "Generating Image Number: 13 for target class tensor([2]). Step 450, Loss: 5.960462772236497e-07\n",
      "Generating Image Number: 14 for target class tensor([2]). Step 0, Loss: 0.0\n",
      "Generating Image Number: 14 for target class tensor([2]). Step 50, Loss: 0.0\n",
      "Generating Image Number: 14 for target class tensor([2]). Step 100, Loss: 0.0\n",
      "Generating Image Number: 14 for target class tensor([2]). Step 150, Loss: 0.0\n",
      "Generating Image Number: 14 for target class tensor([2]). Step 200, Loss: 0.0\n",
      "Generating Image Number: 14 for target class tensor([2]). Step 250, Loss: 0.0\n",
      "Generating Image Number: 14 for target class tensor([2]). Step 300, Loss: 0.0\n",
      "Generating Image Number: 14 for target class tensor([2]). Step 350, Loss: 0.0\n",
      "Generating Image Number: 14 for target class tensor([2]). Step 400, Loss: 0.0\n",
      "Generating Image Number: 14 for target class tensor([2]). Step 450, Loss: 0.0\n",
      "Generating Image Number: 15 for target class tensor([2]). Step 0, Loss: 0.0\n",
      "Generating Image Number: 15 for target class tensor([2]). Step 50, Loss: 0.0\n",
      "Generating Image Number: 15 for target class tensor([2]). Step 100, Loss: 0.0\n",
      "Generating Image Number: 15 for target class tensor([2]). Step 150, Loss: 0.0\n",
      "Generating Image Number: 15 for target class tensor([2]). Step 200, Loss: 0.0\n",
      "Generating Image Number: 15 for target class tensor([2]). Step 250, Loss: 0.0\n",
      "Generating Image Number: 15 for target class tensor([2]). Step 300, Loss: 0.0\n",
      "Generating Image Number: 15 for target class tensor([2]). Step 350, Loss: 0.0\n",
      "Generating Image Number: 15 for target class tensor([2]). Step 400, Loss: 0.0\n",
      "Generating Image Number: 15 for target class tensor([2]). Step 450, Loss: 0.0\n",
      "Generating Image Number: 16 for target class tensor([2]). Step 0, Loss: 0.0\n",
      "Generating Image Number: 16 for target class tensor([2]). Step 50, Loss: 0.0\n",
      "Generating Image Number: 16 for target class tensor([2]). Step 100, Loss: 0.0\n",
      "Generating Image Number: 16 for target class tensor([2]). Step 150, Loss: 0.0\n",
      "Generating Image Number: 16 for target class tensor([2]). Step 200, Loss: 0.0\n",
      "Generating Image Number: 16 for target class tensor([2]). Step 250, Loss: 0.0\n",
      "Generating Image Number: 16 for target class tensor([2]). Step 300, Loss: 0.0\n",
      "Generating Image Number: 16 for target class tensor([2]). Step 350, Loss: 0.0\n",
      "Generating Image Number: 16 for target class tensor([2]). Step 400, Loss: 0.0\n",
      "Generating Image Number: 16 for target class tensor([2]). Step 450, Loss: 0.0\n",
      "Generating Image Number: 17 for target class tensor([2]). Step 0, Loss: 0.0\n",
      "Generating Image Number: 17 for target class tensor([2]). Step 50, Loss: 0.0\n",
      "Generating Image Number: 17 for target class tensor([2]). Step 100, Loss: 0.0\n",
      "Generating Image Number: 17 for target class tensor([2]). Step 150, Loss: 0.0\n",
      "Generating Image Number: 17 for target class tensor([2]). Step 200, Loss: 0.0\n",
      "Generating Image Number: 17 for target class tensor([2]). Step 250, Loss: 0.0\n",
      "Generating Image Number: 17 for target class tensor([2]). Step 300, Loss: 0.0\n",
      "Generating Image Number: 17 for target class tensor([2]). Step 350, Loss: 0.0\n",
      "Generating Image Number: 17 for target class tensor([2]). Step 400, Loss: 0.0\n",
      "Generating Image Number: 17 for target class tensor([2]). Step 450, Loss: 0.0\n",
      "Generating Image Number: 18 for target class tensor([2]). Step 0, Loss: 0.0\n",
      "Generating Image Number: 18 for target class tensor([2]). Step 50, Loss: 0.0\n",
      "Generating Image Number: 18 for target class tensor([2]). Step 100, Loss: 0.0\n",
      "Generating Image Number: 18 for target class tensor([2]). Step 150, Loss: 0.0\n",
      "Generating Image Number: 18 for target class tensor([2]). Step 200, Loss: 0.0\n",
      "Generating Image Number: 18 for target class tensor([2]). Step 250, Loss: 0.0\n",
      "Generating Image Number: 18 for target class tensor([2]). Step 300, Loss: 0.0\n",
      "Generating Image Number: 18 for target class tensor([2]). Step 350, Loss: 0.0\n",
      "Generating Image Number: 18 for target class tensor([2]). Step 400, Loss: 0.0\n",
      "Generating Image Number: 18 for target class tensor([2]). Step 450, Loss: 0.0\n",
      "Generating Image Number: 19 for target class tensor([2]). Step 0, Loss: 0.0005109196645207703\n",
      "Generating Image Number: 19 for target class tensor([2]). Step 50, Loss: 0.0\n",
      "Generating Image Number: 19 for target class tensor([2]). Step 100, Loss: 0.0\n",
      "Generating Image Number: 19 for target class tensor([2]). Step 150, Loss: 0.0\n",
      "Generating Image Number: 19 for target class tensor([2]). Step 200, Loss: 0.0\n",
      "Generating Image Number: 19 for target class tensor([2]). Step 250, Loss: 0.0\n",
      "Generating Image Number: 19 for target class tensor([2]). Step 300, Loss: 0.0\n",
      "Generating Image Number: 19 for target class tensor([2]). Step 350, Loss: 0.0\n",
      "Generating Image Number: 19 for target class tensor([2]). Step 400, Loss: 0.0\n",
      "Generating Image Number: 19 for target class tensor([2]). Step 450, Loss: 0.0\n",
      "Generating Image Number: 20 for target class tensor([2]). Step 0, Loss: 0.0\n",
      "Generating Image Number: 20 for target class tensor([2]). Step 50, Loss: 0.0\n",
      "Generating Image Number: 20 for target class tensor([2]). Step 100, Loss: 0.0\n",
      "Generating Image Number: 20 for target class tensor([2]). Step 150, Loss: 0.0\n",
      "Generating Image Number: 20 for target class tensor([2]). Step 200, Loss: 0.0\n",
      "Generating Image Number: 20 for target class tensor([2]). Step 250, Loss: 0.0\n",
      "Generating Image Number: 20 for target class tensor([2]). Step 300, Loss: 0.0\n",
      "Generating Image Number: 20 for target class tensor([2]). Step 350, Loss: 0.0\n",
      "Generating Image Number: 20 for target class tensor([2]). Step 400, Loss: 0.0\n",
      "Generating Image Number: 20 for target class tensor([2]). Step 450, Loss: 0.0\n"
     ]
    }
   ],
   "source": [
    "torch.manual_seed(200)\n",
    "latent_vectors = torch.randn(img_count, z_dim, 1, 1, requires_grad=True) # Start with 20 random noises\n",
    "class2_optimized_latent_vectors = recover_images(img_count, 2, latent_vectors)"
   ]
  },
  {
   "cell_type": "code",
   "execution_count": 23,
   "id": "0381b36d-6c92-43bc-b776-1eefd3eab451",
   "metadata": {
    "scrolled": true
   },
   "outputs": [
    {
     "name": "stdout",
     "output_type": "stream",
     "text": [
      "Generating Image Number: 1 for target class tensor([3]). Step 0, Loss: 0.0\n",
      "Generating Image Number: 1 for target class tensor([3]). Step 50, Loss: 1.2993727978027891e-05\n",
      "Generating Image Number: 1 for target class tensor([3]). Step 100, Loss: 6.6756979322235566e-06\n",
      "Generating Image Number: 1 for target class tensor([3]). Step 150, Loss: 6.198863957251888e-06\n",
      "Generating Image Number: 1 for target class tensor([3]). Step 200, Loss: 5.722029527532868e-06\n",
      "Generating Image Number: 1 for target class tensor([3]). Step 250, Loss: 5.364403477869928e-06\n",
      "Generating Image Number: 1 for target class tensor([3]). Step 300, Loss: 5.125986263010418e-06\n",
      "Generating Image Number: 1 for target class tensor([3]). Step 350, Loss: 4.768360213347478e-06\n",
      "Generating Image Number: 1 for target class tensor([3]). Step 400, Loss: 4.410734163684538e-06\n",
      "Generating Image Number: 1 for target class tensor([3]). Step 450, Loss: 4.172316494077677e-06\n",
      "Generating Image Number: 2 for target class tensor([3]). Step 0, Loss: 15.088799476623535\n",
      "Generating Image Number: 2 for target class tensor([3]). Step 50, Loss: 0.8084428310394287\n",
      "Generating Image Number: 2 for target class tensor([3]). Step 100, Loss: 0.3301771879196167\n",
      "Generating Image Number: 2 for target class tensor([3]). Step 150, Loss: 0.2021099478006363\n",
      "Generating Image Number: 2 for target class tensor([3]). Step 200, Loss: 0.15457133948802948\n",
      "Generating Image Number: 2 for target class tensor([3]). Step 250, Loss: 0.11047402769327164\n",
      "Generating Image Number: 2 for target class tensor([3]). Step 300, Loss: 0.09124057739973068\n",
      "Generating Image Number: 2 for target class tensor([3]). Step 350, Loss: 0.08038666844367981\n",
      "Generating Image Number: 2 for target class tensor([3]). Step 400, Loss: 0.07478126138448715\n",
      "Generating Image Number: 2 for target class tensor([3]). Step 450, Loss: 0.06784796714782715\n",
      "Generating Image Number: 3 for target class tensor([3]). Step 0, Loss: 0.08222179114818573\n",
      "Generating Image Number: 3 for target class tensor([3]). Step 50, Loss: 0.0005525015876628458\n",
      "Generating Image Number: 3 for target class tensor([3]). Step 100, Loss: 0.00048303857329301536\n",
      "Generating Image Number: 3 for target class tensor([3]). Step 150, Loss: 0.00044431351125240326\n",
      "Generating Image Number: 3 for target class tensor([3]). Step 200, Loss: 0.00037877538125030696\n",
      "Generating Image Number: 3 for target class tensor([3]). Step 250, Loss: 0.00032824851223267615\n",
      "Generating Image Number: 3 for target class tensor([3]). Step 300, Loss: 0.00028951745480298996\n",
      "Generating Image Number: 3 for target class tensor([3]). Step 350, Loss: 0.0002598424907773733\n",
      "Generating Image Number: 3 for target class tensor([3]). Step 400, Loss: 0.0002324311062693596\n",
      "Generating Image Number: 3 for target class tensor([3]). Step 450, Loss: 0.00020001317898277193\n",
      "Generating Image Number: 4 for target class tensor([3]). Step 0, Loss: 26.84815216064453\n",
      "Generating Image Number: 4 for target class tensor([3]). Step 50, Loss: 25.529827117919922\n",
      "Generating Image Number: 4 for target class tensor([3]). Step 100, Loss: 24.572599411010742\n",
      "Generating Image Number: 4 for target class tensor([3]). Step 150, Loss: 23.90044403076172\n",
      "Generating Image Number: 4 for target class tensor([3]). Step 200, Loss: 23.348024368286133\n",
      "Generating Image Number: 4 for target class tensor([3]). Step 250, Loss: 22.955211639404297\n",
      "Generating Image Number: 4 for target class tensor([3]). Step 300, Loss: 22.691726684570312\n",
      "Generating Image Number: 4 for target class tensor([3]). Step 350, Loss: 22.518962860107422\n",
      "Generating Image Number: 4 for target class tensor([3]). Step 400, Loss: 22.35690689086914\n",
      "Generating Image Number: 4 for target class tensor([3]). Step 450, Loss: 22.27130126953125\n",
      "Generating Image Number: 5 for target class tensor([3]). Step 0, Loss: 21.344696044921875\n",
      "Generating Image Number: 5 for target class tensor([3]). Step 50, Loss: 8.535759925842285\n",
      "Generating Image Number: 5 for target class tensor([3]). Step 100, Loss: 7.605859279632568\n",
      "Generating Image Number: 5 for target class tensor([3]). Step 150, Loss: 6.99450159072876\n",
      "Generating Image Number: 5 for target class tensor([3]). Step 200, Loss: 6.469191074371338\n",
      "Generating Image Number: 5 for target class tensor([3]). Step 250, Loss: 5.911123275756836\n",
      "Generating Image Number: 5 for target class tensor([3]). Step 300, Loss: 5.446133136749268\n",
      "Generating Image Number: 5 for target class tensor([3]). Step 350, Loss: 5.142148494720459\n",
      "Generating Image Number: 5 for target class tensor([3]). Step 400, Loss: 4.973832607269287\n",
      "Generating Image Number: 5 for target class tensor([3]). Step 450, Loss: 4.740572929382324\n",
      "Generating Image Number: 6 for target class tensor([3]). Step 0, Loss: 5.246092796325684\n",
      "Generating Image Number: 6 for target class tensor([3]). Step 50, Loss: 0.0005221195751801133\n",
      "Generating Image Number: 6 for target class tensor([3]). Step 100, Loss: 7.390703103737906e-05\n",
      "Generating Image Number: 6 for target class tensor([3]). Step 150, Loss: 6.592056161025539e-05\n",
      "Generating Image Number: 6 for target class tensor([3]). Step 200, Loss: 5.113947918289341e-05\n",
      "Generating Image Number: 6 for target class tensor([3]). Step 250, Loss: 3.838465272565372e-05\n",
      "Generating Image Number: 6 for target class tensor([3]). Step 300, Loss: 3.40932747349143e-05\n",
      "Generating Image Number: 6 for target class tensor([3]). Step 350, Loss: 3.111314072157256e-05\n",
      "Generating Image Number: 6 for target class tensor([3]). Step 400, Loss: 2.7179348762729205e-05\n",
      "Generating Image Number: 6 for target class tensor([3]). Step 450, Loss: 2.4199192921514623e-05\n",
      "Generating Image Number: 7 for target class tensor([3]). Step 0, Loss: 10.941269874572754\n",
      "Generating Image Number: 7 for target class tensor([3]). Step 50, Loss: 0.0\n",
      "Generating Image Number: 7 for target class tensor([3]). Step 100, Loss: 0.0\n",
      "Generating Image Number: 7 for target class tensor([3]). Step 150, Loss: 0.0\n",
      "Generating Image Number: 7 for target class tensor([3]). Step 200, Loss: 0.0\n",
      "Generating Image Number: 7 for target class tensor([3]). Step 250, Loss: 0.0\n",
      "Generating Image Number: 7 for target class tensor([3]). Step 300, Loss: 0.0\n",
      "Generating Image Number: 7 for target class tensor([3]). Step 350, Loss: 0.0\n",
      "Generating Image Number: 7 for target class tensor([3]). Step 400, Loss: 0.0\n",
      "Generating Image Number: 7 for target class tensor([3]). Step 450, Loss: 0.0\n",
      "Generating Image Number: 8 for target class tensor([3]). Step 0, Loss: 15.526662826538086\n",
      "Generating Image Number: 8 for target class tensor([3]). Step 50, Loss: 8.793620109558105\n",
      "Generating Image Number: 8 for target class tensor([3]). Step 100, Loss: 7.516208648681641\n",
      "Generating Image Number: 8 for target class tensor([3]). Step 150, Loss: 6.276002407073975\n",
      "Generating Image Number: 8 for target class tensor([3]). Step 200, Loss: 4.473531246185303\n",
      "Generating Image Number: 8 for target class tensor([3]). Step 250, Loss: 2.5853168964385986\n",
      "Generating Image Number: 8 for target class tensor([3]). Step 300, Loss: 0.15169338881969452\n",
      "Generating Image Number: 8 for target class tensor([3]). Step 350, Loss: 0.02613276243209839\n",
      "Generating Image Number: 8 for target class tensor([3]). Step 400, Loss: 0.01755579560995102\n",
      "Generating Image Number: 8 for target class tensor([3]). Step 450, Loss: 0.015125932171940804\n",
      "Generating Image Number: 9 for target class tensor([3]). Step 0, Loss: 21.03256607055664\n",
      "Generating Image Number: 9 for target class tensor([3]). Step 50, Loss: 0.00019774865359067917\n",
      "Generating Image Number: 9 for target class tensor([3]). Step 100, Loss: 0.02402537688612938\n",
      "Generating Image Number: 9 for target class tensor([3]). Step 150, Loss: 0.0016644446877762675\n",
      "Generating Image Number: 9 for target class tensor([3]). Step 200, Loss: 0.0012484145117923617\n",
      "Generating Image Number: 9 for target class tensor([3]). Step 250, Loss: 0.0009666775586083531\n",
      "Generating Image Number: 9 for target class tensor([3]). Step 300, Loss: 0.0008267321973107755\n",
      "Generating Image Number: 9 for target class tensor([3]). Step 350, Loss: 0.0007247682078741491\n",
      "Generating Image Number: 9 for target class tensor([3]). Step 400, Loss: 0.0006462631281465292\n",
      "Generating Image Number: 9 for target class tensor([3]). Step 450, Loss: 0.0005571481888182461\n",
      "Generating Image Number: 10 for target class tensor([3]). Step 0, Loss: 10.698870658874512\n",
      "Generating Image Number: 10 for target class tensor([3]). Step 50, Loss: 7.8370280265808105\n",
      "Generating Image Number: 10 for target class tensor([3]). Step 100, Loss: 6.845949172973633\n",
      "Generating Image Number: 10 for target class tensor([3]). Step 150, Loss: 5.866730213165283\n",
      "Generating Image Number: 10 for target class tensor([3]). Step 200, Loss: 4.967660427093506\n",
      "Generating Image Number: 10 for target class tensor([3]). Step 250, Loss: 4.4096574783325195\n",
      "Generating Image Number: 10 for target class tensor([3]). Step 300, Loss: 3.968113422393799\n",
      "Generating Image Number: 10 for target class tensor([3]). Step 350, Loss: 3.186765193939209\n",
      "Generating Image Number: 10 for target class tensor([3]). Step 400, Loss: 0.13348564505577087\n",
      "Generating Image Number: 10 for target class tensor([3]). Step 450, Loss: 0.07463069260120392\n",
      "Generating Image Number: 11 for target class tensor([3]). Step 0, Loss: 21.159929275512695\n",
      "Generating Image Number: 11 for target class tensor([3]). Step 50, Loss: 0.3181747794151306\n",
      "Generating Image Number: 11 for target class tensor([3]). Step 100, Loss: 0.6459504961967468\n",
      "Generating Image Number: 11 for target class tensor([3]). Step 150, Loss: 0.3211686909198761\n",
      "Generating Image Number: 11 for target class tensor([3]). Step 200, Loss: 0.22249828279018402\n",
      "Generating Image Number: 11 for target class tensor([3]). Step 250, Loss: 0.1800740659236908\n",
      "Generating Image Number: 11 for target class tensor([3]). Step 300, Loss: 0.12534761428833008\n",
      "Generating Image Number: 11 for target class tensor([3]). Step 350, Loss: 0.04450873285531998\n",
      "Generating Image Number: 11 for target class tensor([3]). Step 400, Loss: 0.009812336415052414\n",
      "Generating Image Number: 11 for target class tensor([3]). Step 450, Loss: 0.005707752425223589\n",
      "Generating Image Number: 12 for target class tensor([3]). Step 0, Loss: 32.15350341796875\n",
      "Generating Image Number: 12 for target class tensor([3]). Step 50, Loss: 3.81951904296875\n",
      "Generating Image Number: 12 for target class tensor([3]). Step 100, Loss: 0.0\n",
      "Generating Image Number: 12 for target class tensor([3]). Step 150, Loss: 0.0\n",
      "Generating Image Number: 12 for target class tensor([3]). Step 200, Loss: 0.0\n",
      "Generating Image Number: 12 for target class tensor([3]). Step 250, Loss: 0.0\n",
      "Generating Image Number: 12 for target class tensor([3]). Step 300, Loss: 0.0\n",
      "Generating Image Number: 12 for target class tensor([3]). Step 350, Loss: 0.0\n",
      "Generating Image Number: 12 for target class tensor([3]). Step 400, Loss: 0.0\n",
      "Generating Image Number: 12 for target class tensor([3]). Step 450, Loss: 0.0\n",
      "Generating Image Number: 13 for target class tensor([3]). Step 0, Loss: 26.896883010864258\n",
      "Generating Image Number: 13 for target class tensor([3]). Step 50, Loss: 8.96631908416748\n",
      "Generating Image Number: 13 for target class tensor([3]). Step 100, Loss: 7.775078296661377\n",
      "Generating Image Number: 13 for target class tensor([3]). Step 150, Loss: 6.569027900695801\n",
      "Generating Image Number: 13 for target class tensor([3]). Step 200, Loss: 4.853460311889648\n",
      "Generating Image Number: 13 for target class tensor([3]). Step 250, Loss: 0.21088062226772308\n",
      "Generating Image Number: 13 for target class tensor([3]). Step 300, Loss: 0.0864029973745346\n",
      "Generating Image Number: 13 for target class tensor([3]). Step 350, Loss: 0.05609339475631714\n",
      "Generating Image Number: 13 for target class tensor([3]). Step 400, Loss: 0.04319561645388603\n",
      "Generating Image Number: 13 for target class tensor([3]). Step 450, Loss: 0.0355459563434124\n",
      "Generating Image Number: 14 for target class tensor([3]). Step 0, Loss: 17.76205825805664\n",
      "Generating Image Number: 14 for target class tensor([3]). Step 50, Loss: 9.116409301757812\n",
      "Generating Image Number: 14 for target class tensor([3]). Step 100, Loss: 7.884715557098389\n",
      "Generating Image Number: 14 for target class tensor([3]). Step 150, Loss: 7.030674457550049\n",
      "Generating Image Number: 14 for target class tensor([3]). Step 200, Loss: 6.149367809295654\n",
      "Generating Image Number: 14 for target class tensor([3]). Step 250, Loss: 5.64468240737915\n",
      "Generating Image Number: 14 for target class tensor([3]). Step 300, Loss: 5.342052936553955\n",
      "Generating Image Number: 14 for target class tensor([3]). Step 350, Loss: 5.119724750518799\n",
      "Generating Image Number: 14 for target class tensor([3]). Step 400, Loss: 4.995378494262695\n",
      "Generating Image Number: 14 for target class tensor([3]). Step 450, Loss: 4.755198001861572\n",
      "Generating Image Number: 15 for target class tensor([3]). Step 0, Loss: 13.036537170410156\n",
      "Generating Image Number: 15 for target class tensor([3]). Step 50, Loss: 8.328932762145996\n",
      "Generating Image Number: 15 for target class tensor([3]). Step 100, Loss: 7.364986896514893\n",
      "Generating Image Number: 15 for target class tensor([3]). Step 150, Loss: 6.591218948364258\n",
      "Generating Image Number: 15 for target class tensor([3]). Step 200, Loss: 5.847439765930176\n",
      "Generating Image Number: 15 for target class tensor([3]). Step 250, Loss: 5.402892589569092\n",
      "Generating Image Number: 15 for target class tensor([3]). Step 300, Loss: 4.9044084548950195\n",
      "Generating Image Number: 15 for target class tensor([3]). Step 350, Loss: 4.348831653594971\n",
      "Generating Image Number: 15 for target class tensor([3]). Step 400, Loss: 3.8167755603790283\n",
      "Generating Image Number: 15 for target class tensor([3]). Step 450, Loss: 2.3662664890289307\n",
      "Generating Image Number: 16 for target class tensor([3]). Step 0, Loss: 27.93325424194336\n",
      "Generating Image Number: 16 for target class tensor([3]). Step 50, Loss: 21.537109375\n",
      "Generating Image Number: 16 for target class tensor([3]). Step 100, Loss: 20.428817749023438\n",
      "Generating Image Number: 16 for target class tensor([3]). Step 150, Loss: 19.48796844482422\n",
      "Generating Image Number: 16 for target class tensor([3]). Step 200, Loss: 18.154245376586914\n",
      "Generating Image Number: 16 for target class tensor([3]). Step 250, Loss: 16.712779998779297\n",
      "Generating Image Number: 16 for target class tensor([3]). Step 300, Loss: 15.402877807617188\n",
      "Generating Image Number: 16 for target class tensor([3]). Step 350, Loss: 9.73704719543457\n",
      "Generating Image Number: 16 for target class tensor([3]). Step 400, Loss: 1.2159273865108844e-05\n",
      "Generating Image Number: 16 for target class tensor([3]). Step 450, Loss: 1.2040065485052764e-05\n",
      "Generating Image Number: 17 for target class tensor([3]). Step 0, Loss: 13.987805366516113\n",
      "Generating Image Number: 17 for target class tensor([3]). Step 50, Loss: 9.226373367710039e-05\n",
      "Generating Image Number: 17 for target class tensor([3]). Step 100, Loss: 1.1920922133867862e-06\n",
      "Generating Image Number: 17 for target class tensor([3]). Step 150, Loss: 1.1920922133867862e-06\n",
      "Generating Image Number: 17 for target class tensor([3]). Step 200, Loss: 1.0728830375228426e-06\n",
      "Generating Image Number: 17 for target class tensor([3]). Step 250, Loss: 1.0728830375228426e-06\n",
      "Generating Image Number: 17 for target class tensor([3]). Step 300, Loss: 1.0728830375228426e-06\n",
      "Generating Image Number: 17 for target class tensor([3]). Step 350, Loss: 1.0728830375228426e-06\n",
      "Generating Image Number: 17 for target class tensor([3]). Step 400, Loss: 1.0728830375228426e-06\n",
      "Generating Image Number: 17 for target class tensor([3]). Step 450, Loss: 9.536738616588991e-07\n",
      "Generating Image Number: 18 for target class tensor([3]). Step 0, Loss: 33.57733917236328\n",
      "Generating Image Number: 18 for target class tensor([3]). Step 50, Loss: 9.249364852905273\n",
      "Generating Image Number: 18 for target class tensor([3]). Step 100, Loss: 8.409250259399414\n",
      "Generating Image Number: 18 for target class tensor([3]). Step 150, Loss: 7.643951416015625\n",
      "Generating Image Number: 18 for target class tensor([3]). Step 200, Loss: 6.882056713104248\n",
      "Generating Image Number: 18 for target class tensor([3]). Step 250, Loss: 4.74403715133667\n",
      "Generating Image Number: 18 for target class tensor([3]). Step 300, Loss: 1.1562122106552124\n",
      "Generating Image Number: 18 for target class tensor([3]). Step 350, Loss: 0.41301822662353516\n",
      "Generating Image Number: 18 for target class tensor([3]). Step 400, Loss: 0.2957006096839905\n",
      "Generating Image Number: 18 for target class tensor([3]). Step 450, Loss: 0.22393803298473358\n",
      "Generating Image Number: 19 for target class tensor([3]). Step 0, Loss: 36.75455856323242\n",
      "Generating Image Number: 19 for target class tensor([3]). Step 50, Loss: 26.746906280517578\n",
      "Generating Image Number: 19 for target class tensor([3]). Step 100, Loss: 26.343473434448242\n",
      "Generating Image Number: 19 for target class tensor([3]). Step 150, Loss: 26.219295501708984\n",
      "Generating Image Number: 19 for target class tensor([3]). Step 200, Loss: 26.090560913085938\n",
      "Generating Image Number: 19 for target class tensor([3]). Step 250, Loss: 25.962467193603516\n",
      "Generating Image Number: 19 for target class tensor([3]). Step 300, Loss: 25.83263397216797\n",
      "Generating Image Number: 19 for target class tensor([3]). Step 350, Loss: 25.72692108154297\n",
      "Generating Image Number: 19 for target class tensor([3]). Step 400, Loss: 25.626941680908203\n",
      "Generating Image Number: 19 for target class tensor([3]). Step 450, Loss: 25.545188903808594\n",
      "Generating Image Number: 20 for target class tensor([3]). Step 0, Loss: 20.715057373046875\n",
      "Generating Image Number: 20 for target class tensor([3]). Step 50, Loss: 7.152555099310121e-07\n",
      "Generating Image Number: 20 for target class tensor([3]). Step 100, Loss: 2.3841855067985307e-07\n",
      "Generating Image Number: 20 for target class tensor([3]). Step 150, Loss: 2.3841855067985307e-07\n",
      "Generating Image Number: 20 for target class tensor([3]). Step 200, Loss: 2.3841855067985307e-07\n",
      "Generating Image Number: 20 for target class tensor([3]). Step 250, Loss: 2.3841855067985307e-07\n",
      "Generating Image Number: 20 for target class tensor([3]). Step 300, Loss: 2.3841855067985307e-07\n",
      "Generating Image Number: 20 for target class tensor([3]). Step 350, Loss: 2.3841855067985307e-07\n",
      "Generating Image Number: 20 for target class tensor([3]). Step 400, Loss: 2.3841855067985307e-07\n",
      "Generating Image Number: 20 for target class tensor([3]). Step 450, Loss: 2.3841855067985307e-07\n"
     ]
    }
   ],
   "source": [
    "torch.manual_seed(300)\n",
    "latent_vectors = torch.randn(img_count, z_dim, 1, 1, requires_grad=True) # Start with 20 random noises\n",
    "class3_optimized_latent_vectors = recover_images(img_count, 3, latent_vectors)"
   ]
  },
  {
   "cell_type": "code",
   "execution_count": 24,
   "id": "ae6425a5-dd86-4e87-8112-883336345ac9",
   "metadata": {},
   "outputs": [],
   "source": [
    "z0_1 = class0_optimized_latent_vectors[0]\n",
    "z0_2 = class0_optimized_latent_vectors[1]\n",
    "z0_3 = class0_optimized_latent_vectors[2]"
   ]
  },
  {
   "cell_type": "code",
   "execution_count": 25,
   "id": "3a6ed4fb-b693-4963-afcf-17a512e50b5f",
   "metadata": {},
   "outputs": [
    {
     "name": "stdout",
     "output_type": "stream",
     "text": [
      "torch.Size([64, 64])\n"
     ]
    }
   ],
   "source": [
    "# Display the generated image\n",
    "img = gen(z0_1.to(device)).squeeze(dim=0).squeeze(dim=0)\n",
    "print(img.shape)"
   ]
  },
  {
   "cell_type": "code",
   "execution_count": 26,
   "id": "88fc9416-c6ca-486b-bd72-63885de78d1c",
   "metadata": {},
   "outputs": [
    {
     "data": {
      "text/plain": [
       "<matplotlib.image.AxesImage at 0x1cca6c3abb0>"
      ]
     },
     "execution_count": 26,
     "metadata": {},
     "output_type": "execute_result"
    },
    {
     "data": {
      "image/png": "[encoded data removed]",
      "text/plain": [
       "<Figure size 640x480 with 1 Axes>"
      ]
     },
     "metadata": {},
     "output_type": "display_data"
    }
   ],
   "source": [
    "plt.axis(False)\n",
    "plt.title('Recovered Image:')\n",
    "plt.imshow(img.cpu().detach(), cmap='gray')"
   ]
  },
  {
   "cell_type": "code",
   "execution_count": 27,
   "id": "bb0fc370-78c5-495f-b1e7-1239873b4ff8",
   "metadata": {},
   "outputs": [],
   "source": [
    "z1 = class1_optimized_latent_vectors[0]\n",
    "z2 = class1_optimized_latent_vectors[1]\n",
    "z3 = class1_optimized_latent_vectors[2]"
   ]
  },
  {
   "cell_type": "code",
   "execution_count": 28,
   "id": "07f38b7d-14f6-4d63-9efa-cb96ec2e1d35",
   "metadata": {},
   "outputs": [
    {
     "name": "stdout",
     "output_type": "stream",
     "text": [
      "torch.Size([64, 64])\n"
     ]
    }
   ],
   "source": [
    "# Display the generated image\n",
    "img = gen(z1.to(device)).squeeze(dim=0).squeeze(dim=0)\n",
    "print(img.shape)"
   ]
  },
  {
   "cell_type": "code",
   "execution_count": 29,
   "id": "8cad57ff-7961-4078-9dd4-1e0b4879ff56",
   "metadata": {},
   "outputs": [
    {
     "data": {
      "text/plain": [
       "<matplotlib.image.AxesImage at 0x1cca6dc2cd0>"
      ]
     },
     "execution_count": 29,
     "metadata": {},
     "output_type": "execute_result"
    },
    {
     "data": {
      "image/png": "[encoded data removed]",
      "text/plain": [
       "<Figure size 640x480 with 1 Axes>"
      ]
     },
     "metadata": {},
     "output_type": "display_data"
    }
   ],
   "source": [
    "plt.axis(False)\n",
    "plt.title('Recovered Image:')\n",
    "plt.imshow(img.cpu().detach(), cmap='gray')"
   ]
  },
  {
   "cell_type": "code",
   "execution_count": 30,
   "id": "52ecd67d-cb2d-44a3-b375-759d63db75b1",
   "metadata": {},
   "outputs": [],
   "source": [
    "                                                            # Dataset Loading\n",
    "# Load the .pkl files in as numpy arrays of pixels\n",
    "def load_tumor_data(file_path):\n",
    "    train_xs = []\n",
    "    train_ys = []\n",
    "    \"\"\" Load Digits Data from pickle data\n",
    "    return:\n",
    "    @xs: numpy.array, (n, c, w, h) \n",
    "    @ys: numpy.array, (n, ), 0-9\n",
    "    \"\"\"\n",
    "    with open(file_path, 'rb') as file:\n",
    "        data = pickle.load(file)\n",
    "        train_xs.append(data[\"data\"])\n",
    "        train_ys.append(data[\"labels\"])\n",
    "    train_xs = np.concatenate(train_xs, axis=0)\n",
    "    train_ys = np.concatenate(train_ys, axis=0)\n",
    "    \n",
    "    return train_xs, train_ys"
   ]
  },
  {
   "cell_type": "code",
   "execution_count": 31,
   "id": "ca72f62f-1eec-4b17-a8ce-fd66781f64f6",
   "metadata": {},
   "outputs": [],
   "source": [
    "# Custom Tumor Dataset\n",
    "class TumorDataset(data.Dataset):\n",
    "    def __init__(self, xs, ys, is_train=True):\n",
    "        self.xs = xs\n",
    "        self.ys = ys\n",
    "\n",
    "        if is_train is True:\n",
    "            self.transform = transforms.Compose([\n",
    "                transforms.ToPILImage(),\n",
    "                transforms.Resize((64, 64)),\n",
    "                transforms.ToTensor(),\n",
    "                transforms.Normalize(\n",
    "                    [0.5],\n",
    "                    [0.5]\n",
    "                )\n",
    "            ])\n",
    "        else:\n",
    "            self.transform = transforms.Compose([\n",
    "                transforms.ToPILImage(),\n",
    "                transforms.Resize((64, 64)),\n",
    "                transforms.ToTensor(),\n",
    "                transforms.Normalize(\n",
    "                    (0.4914, 0.4822, 0.4465),\n",
    "                    (0.2023, 0.1994, 0.2010)\n",
    "                )\n",
    "            ])\n",
    "\n",
    "    def __len__(self):\n",
    "        return len(self.xs)\n",
    "\n",
    "    def __getitem__(self, index):\n",
    "        img = self.xs[index]\n",
    "        #print(img.shape)\n",
    "        label = self.ys[index]\n",
    "\n",
    "        img = img.transpose((1, 2, 0)).astype(np.uint8)\n",
    "        img = self.transform(img)\n",
    "\n",
    "        img = torch.FloatTensor(img)\n",
    "        label = torch.LongTensor([label])[0]\n",
    "        return img, label"
   ]
  },
  {
   "cell_type": "code",
   "execution_count": 32,
   "id": "ceb91588-ef69-4373-b33f-74aed6c246bb",
   "metadata": {},
   "outputs": [],
   "source": [
    "def create_dataset(train_xs, train_ys):\n",
    "    tumor_dataset = TumorDataset(train_xs, train_ys, is_train=True)\n",
    "\n",
    "    return tumor_dataset"
   ]
  },
  {
   "cell_type": "code",
   "execution_count": 33,
   "id": "0415fba0-830c-42c6-bbde-c6958e779fbb",
   "metadata": {},
   "outputs": [],
   "source": [
    "def create_dataloader(dataset):\n",
    "    dataloader = DataLoader(dataset=dataset, batch_size=128, shuffle=True)\n",
    "\n",
    "    return dataloader"
   ]
  },
  {
   "cell_type": "code",
   "execution_count": 34,
   "id": "726d4995-5133-4037-ab0e-f2705470cdc9",
   "metadata": {},
   "outputs": [
    {
     "name": "stdout",
     "output_type": "stream",
     "text": [
      "(13927, 1, 32, 32)\n",
      "<class 'numpy.ndarray'>\n"
     ]
    }
   ],
   "source": [
    "# Load in the pickle dataset file\n",
    "train_xs, train_ys = load_tumor_data('datasets/Tumor/tumor4train.pkl')\n",
    "#train_xs = train_xs[:, 1, :, :]\n",
    "#train_xs = np.expand_dims(train_xs, axis=1)\n",
    "train_xs = train_xs.mean(axis=1, keepdims=True)\n",
    "print(train_xs.shape)\n",
    "print(type(train_xs))"
   ]
  },
  {
   "cell_type": "code",
   "execution_count": 35,
   "id": "a684b01a-eb4a-4210-9f59-d613085a404a",
   "metadata": {},
   "outputs": [],
   "source": [
    "# Create the dataset\n",
    "tumor_dataset = create_dataset(train_xs, train_ys)"
   ]
  },
  {
   "cell_type": "code",
   "execution_count": 36,
   "id": "193f07cc-d34f-425e-aa08-62b6d6adbad6",
   "metadata": {},
   "outputs": [],
   "source": [
    "def visualize_image(image_x):\n",
    "    # We have to visualize by reverting the normalization (just for visualization).\n",
    "    mean = torch.tensor([0.5])\n",
    "    std = torch.tensor([0.5])\n",
    "\n",
    "    image = image_x * std + mean  # Denormalize the image\n",
    "\n",
    "    image = torch.clamp(image, 0, 1) # Clip values to [0, 1] to ensure valid range for display\n",
    "\n",
    "    # Permute the image to (H, W, C) for matplotlib\n",
    "    \n",
    "    image = image.permute(1, 2, 0)\n",
    "\n",
    "    plt.imshow(image, cmap='gray')"
   ]
  },
  {
   "cell_type": "code",
   "execution_count": 37,
   "id": "16e93c17-a89b-46a2-8198-71e66e370f4f",
   "metadata": {},
   "outputs": [
    {
     "name": "stdout",
     "output_type": "stream",
     "text": [
      "torch.Size([1, 64, 64])\n"
     ]
    },
    {
     "data": {
      "image/png": "[encoded data removed]",
      "text/plain": [
       "<Figure size 640x480 with 1 Axes>"
      ]
     },
     "metadata": {},
     "output_type": "display_data"
    }
   ],
   "source": [
    "# Visualize the first tumor sample. \n",
    "image_x, image_y = tumor_dataset[7000]\n",
    "print(image_x.shape)\n",
    "visualize_image(image_x)"
   ]
  },
  {
   "cell_type": "code",
   "execution_count": 38,
   "id": "60e2da47-7cb6-493e-aeda-aa80d7965de7",
   "metadata": {},
   "outputs": [],
   "source": [
    "from scipy.spatial.distance import cosine"
   ]
  },
  {
   "cell_type": "code",
   "execution_count": 39,
   "id": "5a7937e5-b808-4b3e-8288-75dcd9862340",
   "metadata": {},
   "outputs": [],
   "source": [
    "# Get the feature embeddings\n",
    "tfcnn_model = target_model = load_target_model(base_net='TFCNN', n_classes=4, path='saved models/fedavg_global_model.pth').to(device)\n",
    "model_embeddings = tfcnn_model.encoder.to(device)"
   ]
  },
  {
   "cell_type": "code",
   "execution_count": 40,
   "id": "737e3d92-45b6-45f6-9bf2-d51f379d6ac8",
   "metadata": {},
   "outputs": [],
   "source": [
    "# Preprocessing\n",
    "preprocess = transforms.Compose([\n",
    "    transforms.Resize(256),\n",
    "    transforms.CenterCrop(224),\n",
    "    transforms.ToTensor(),\n",
    "])"
   ]
  },
  {
   "cell_type": "code",
   "execution_count": 41,
   "id": "babb1015-bdfb-439b-bea1-81f9f50dd74e",
   "metadata": {},
   "outputs": [],
   "source": [
    "def get_feature(img):\n",
    "    with torch.no_grad():\n",
    "        features = model_embeddings(img).squeeze()\n",
    "    return features.cpu().numpy()"
   ]
  },
  {
   "cell_type": "code",
   "execution_count": 42,
   "id": "79f38654-6670-440d-a322-b2cae18a71d8",
   "metadata": {},
   "outputs": [
    {
     "data": {
      "text/plain": [
       "torch.Size([1, 64, 64])"
      ]
     },
     "execution_count": 42,
     "metadata": {},
     "output_type": "execute_result"
    }
   ],
   "source": [
    "# Send an original image through the model\n",
    "image_x, image_y = tumor_dataset[10]\n",
    "image_x.shape"
   ]
  },
  {
   "cell_type": "code",
   "execution_count": 43,
   "id": "a4a2659e-dcaa-4d4a-b5a5-06b363ce6534",
   "metadata": {},
   "outputs": [],
   "source": [
    "image_x = image_x.unsqueeze(dim=0)"
   ]
  },
  {
   "cell_type": "code",
   "execution_count": 44,
   "id": "14348bfc-5988-48f0-88cf-4761d7a99d89",
   "metadata": {},
   "outputs": [
    {
     "data": {
      "text/plain": [
       "torch.Size([1, 1, 64, 64])"
      ]
     },
     "execution_count": 44,
     "metadata": {},
     "output_type": "execute_result"
    }
   ],
   "source": [
    "image_x.shape"
   ]
  },
  {
   "cell_type": "code",
   "execution_count": 45,
   "id": "66160253-9543-4aba-bb81-031d51ef9623",
   "metadata": {},
   "outputs": [
    {
     "data": {
      "text/plain": [
       "torch.Size([1, 3, 64, 64])"
      ]
     },
     "execution_count": 45,
     "metadata": {},
     "output_type": "execute_result"
    }
   ],
   "source": [
    "image_x = image_x.repeat(1, 3, 1, 1)\n",
    "image_x = image_x.to(device)\n",
    "image_x.shape"
   ]
  },
  {
   "cell_type": "code",
   "execution_count": 46,
   "id": "f615c7d3-2dab-425d-81e1-2595ec59e230",
   "metadata": {},
   "outputs": [
    {
     "data": {
      "text/plain": [
       "(4096,)"
      ]
     },
     "execution_count": 46,
     "metadata": {},
     "output_type": "execute_result"
    }
   ],
   "source": [
    "features = get_feature(image_x)\n",
    "features.shape"
   ]
  },
  {
   "cell_type": "code",
   "execution_count": 159,
   "id": "48cea3e3-7228-4857-8579-6d8e42e99f9d",
   "metadata": {},
   "outputs": [
    {
     "name": "stdout",
     "output_type": "stream",
     "text": [
      "torch.Size([1, 64, 64])\n"
     ]
    },
    {
     "data": {
      "image/png": "[encoded data removed]",
      "text/plain": [
       "<Figure size 640x480 with 1 Axes>"
      ]
     },
     "metadata": {},
     "output_type": "display_data"
    }
   ],
   "source": [
    "fake = class1_optimized_latent_vectors[5]\n",
    "fake_img = gen(fake.to(device)).squeeze(dim=0)\n",
    "print(fake_img.shape)\n",
    "visualize_image(fake_img.detach().cpu())"
   ]
  },
  {
   "cell_type": "code",
   "execution_count": 47,
   "id": "31b9ddc9-3fc8-4a47-bfc7-74a6df27d672",
   "metadata": {},
   "outputs": [],
   "source": [
    "class0_original_images = []\n",
    "class1_original_images = []\n",
    "class2_original_images = []\n",
    "class3_original_images = []\n",
    "target_num = 20 # 20 images for each class"
   ]
  },
  {
   "cell_type": "code",
   "execution_count": 48,
   "id": "e804c948-2dc8-41df-a633-113300baf12a",
   "metadata": {},
   "outputs": [],
   "source": [
    "for i in range(len(tumor_dataset)):\n",
    "    img_x, img_y = tumor_dataset[i]\n",
    "\n",
    "    if img_y == 0:\n",
    "        if len(class0_original_images) < target_num:\n",
    "            class0_original_images.append(img_x)\n",
    "    elif img_y == 1:\n",
    "        if len(class1_original_images) < target_num:\n",
    "            class1_original_images.append(img_x)\n",
    "    elif img_y == 2:\n",
    "        if len(class2_original_images) < target_num:\n",
    "            class2_original_images.append(img_x)\n",
    "    elif img_y == 3:\n",
    "        if len(class3_original_images) < target_num:\n",
    "            class3_original_images.append(img_x)"
   ]
  },
  {
   "cell_type": "code",
   "execution_count": 49,
   "id": "ef07c896-c4cd-48da-9e59-c9d7bd90a4e8",
   "metadata": {},
   "outputs": [
    {
     "data": {
      "text/plain": [
       "20"
      ]
     },
     "execution_count": 49,
     "metadata": {},
     "output_type": "execute_result"
    }
   ],
   "source": [
    "len(class3_original_images)"
   ]
  },
  {
   "cell_type": "code",
   "execution_count": 50,
   "id": "e102404a-68a3-40c5-99a7-45813eb87f20",
   "metadata": {},
   "outputs": [
    {
     "data": {
      "text/plain": [
       "torch.Size([1, 3, 64, 64])"
      ]
     },
     "execution_count": 50,
     "metadata": {},
     "output_type": "execute_result"
    }
   ],
   "source": [
    "# Testing the cosine similarity\n",
    "class1_original_image = class1_original_images[8]\n",
    "class1_original_image = class1_original_image.unsqueeze(dim=0).to(device)\n",
    "class1_original_image = class1_original_image.repeat(1, 3, 1, 1)\n",
    "class1_original_image.shape"
   ]
  },
  {
   "cell_type": "code",
   "execution_count": 51,
   "id": "d7fe9c85-2c83-4580-be7d-32833b706948",
   "metadata": {},
   "outputs": [],
   "source": [
    "fake1 = class1_optimized_latent_vectors[8]\n",
    "fake1_image = gen(fake1.to(device))\n",
    "fake1_image = fake1_image.repeat(1, 3, 1, 1)"
   ]
  },
  {
   "cell_type": "code",
   "execution_count": 52,
   "id": "74647152-cdcb-4593-a88f-d3ac43fd97d3",
   "metadata": {},
   "outputs": [
    {
     "data": {
      "text/plain": [
       "torch.Size([1, 3, 64, 64])"
      ]
     },
     "execution_count": 52,
     "metadata": {},
     "output_type": "execute_result"
    }
   ],
   "source": [
    "fake1_image.shape"
   ]
  },
  {
   "cell_type": "code",
   "execution_count": 53,
   "id": "e88f6396-0ef2-45f5-96e0-6048be01af25",
   "metadata": {},
   "outputs": [],
   "source": [
    "# Get the features of the images\n",
    "features_original = get_feature(class1_original_image)\n",
    "features_fake = get_feature(fake1_image)"
   ]
  },
  {
   "cell_type": "code",
   "execution_count": 54,
   "id": "b54e2bca-5f2b-41ea-b810-15d1f9d30f86",
   "metadata": {},
   "outputs": [],
   "source": [
    "# Compute cosine similarity\n",
    "similarity = 1 - cosine(features_original, features_fake)"
   ]
  },
  {
   "cell_type": "code",
   "execution_count": 55,
   "id": "983c7e35-27ee-453c-9356-cb9a84fdd4a3",
   "metadata": {},
   "outputs": [
    {
     "data": {
      "text/plain": [
       "np.float32(0.4016776)"
      ]
     },
     "execution_count": 55,
     "metadata": {},
     "output_type": "execute_result"
    }
   ],
   "source": [
    "similarity"
   ]
  },
  {
   "cell_type": "code",
   "execution_count": 56,
   "id": "e65e04e8-52b7-4cf2-876c-d9b07a435ec9",
   "metadata": {},
   "outputs": [],
   "source": [
    "def calculate_class0_sim():\n",
    "    similarities = []\n",
    "    for i in range(0, 20):\n",
    "        class0_original = class0_original_images[i].unsqueeze(dim=0).to(device)\n",
    "        class0_original = class0_original.repeat(1, 3, 1, 1)\n",
    "\n",
    "        class0_fake = class0_optimized_latent_vectors[i]\n",
    "        class0_fake_img = gen(class0_fake.to(device))\n",
    "        class0_fake_img = class0_fake_img.repeat(1, 3, 1, 1)\n",
    "\n",
    "        features_original = get_feature(class0_original)\n",
    "        features_fake = get_feature(class0_fake_img)\n",
    "\n",
    "        cosine_similarity = 1 - cosine(features_original, features_fake)\n",
    "\n",
    "        similarities.append(cosine_similarity)\n",
    "        \n",
    "    return similarities"
   ]
  },
  {
   "cell_type": "code",
   "execution_count": 57,
   "id": "10d8f579-0b80-4157-b59b-7b92be9e52f2",
   "metadata": {},
   "outputs": [],
   "source": [
    "def calculate_class1_sim():\n",
    "    similarities = []\n",
    "    for i in range(0, 20):\n",
    "        class1_original = class1_original_images[i].unsqueeze(dim=0).to(device)\n",
    "        class1_original = class1_original.repeat(1, 3, 1, 1)\n",
    "\n",
    "        class1_fake = class1_optimized_latent_vectors[i]\n",
    "        class1_fake_img = gen(class1_fake.to(device))\n",
    "        class1_fake_img = class1_fake_img.repeat(1, 3, 1, 1)\n",
    "\n",
    "        features_original = get_feature(class1_original)\n",
    "        features_fake = get_feature(class1_fake_img)\n",
    "\n",
    "        cosine_similarity = 1 - cosine(features_original, features_fake)\n",
    "        similarities.append(cosine_similarity)\n",
    "\n",
    "    return similarities"
   ]
  },
  {
   "cell_type": "code",
   "execution_count": 58,
   "id": "1bbdc999-fa6d-4005-b785-3c54a7bd89ee",
   "metadata": {},
   "outputs": [],
   "source": [
    "def calculate_class2_sim():\n",
    "    similarities = []\n",
    "    for i in range(0, 20):\n",
    "        class2_original = class2_original_images[i].unsqueeze(dim=0).to(device)\n",
    "        class2_original = class2_original.repeat(1, 3, 1, 1)\n",
    "\n",
    "        class2_fake = class2_optimized_latent_vectors[i]\n",
    "        class2_fake_img = gen(class2_fake.to(device))\n",
    "        class2_fake_img = class2_fake_img.repeat(1, 3, 1, 1)\n",
    "\n",
    "        features_original = get_feature(class2_original)\n",
    "        features_fake = get_feature(class2_fake_img)\n",
    "\n",
    "        cosine_similarity = 1 - cosine(features_original, features_fake)\n",
    "        similarities.append(cosine_similarity)\n",
    "\n",
    "    return similarities"
   ]
  },
  {
   "cell_type": "code",
   "execution_count": 59,
   "id": "33cb8de1-5a87-4dd4-8fc2-d3f27d6ddc9a",
   "metadata": {},
   "outputs": [],
   "source": [
    "def calculate_class3_sim():\n",
    "    similarities = []\n",
    "    for i in range(0, 20):\n",
    "        class3_original = class3_original_images[i].unsqueeze(dim=0).to(device)\n",
    "        class3_original = class3_original.repeat(1, 3, 1, 1)\n",
    "\n",
    "        class3_fake = class3_optimized_latent_vectors[i]\n",
    "        class3_fake_img = gen(class3_fake.to(device))\n",
    "        class3_fake_img = class3_fake_img.repeat(1, 3, 1, 1)\n",
    "\n",
    "        features_original = get_feature(class3_original)\n",
    "        features_fake = get_feature(class3_fake_img)\n",
    "\n",
    "        cosine_similarity = 1 - cosine(features_original, features_fake)\n",
    "        similarities.append(cosine_similarity)\n",
    "\n",
    "    return similarities"
   ]
  },
  {
   "cell_type": "code",
   "execution_count": 60,
   "id": "7868f175-5845-4ee4-b4cf-1c89513375ec",
   "metadata": {},
   "outputs": [],
   "source": [
    "class0_sims = calculate_class0_sim()\n",
    "class1_sims = calculate_class0_sim()\n",
    "class2_sims = calculate_class0_sim()\n",
    "class3_sims = calculate_class0_sim()"
   ]
  },
  {
   "cell_type": "code",
   "execution_count": 61,
   "id": "bbf4597d-a583-4204-a3ce-9085936e0189",
   "metadata": {},
   "outputs": [
    {
     "data": {
      "text/plain": [
       "[np.float32(0.5560683),\n",
       " np.float32(0.40851367),\n",
       " np.float32(0.023647547),\n",
       " np.float32(0.5044056),\n",
       " np.float32(0.5711314),\n",
       " np.float32(0.019921184),\n",
       " np.float32(0.63837624),\n",
       " np.float32(0.41862524),\n",
       " np.float32(0.47494262),\n",
       " np.float32(0.5000736),\n",
       " np.float32(0.38717854),\n",
       " np.float32(0.19668925),\n",
       " np.float32(0.5411559),\n",
       " np.float32(0.60844904),\n",
       " np.float32(0.58085465),\n",
       " np.float32(0.58892334),\n",
       " np.float32(0.022789419),\n",
       " np.float32(0.63689923),\n",
       " np.float32(0.6835356),\n",
       " np.float32(0.63503987)]"
      ]
     },
     "execution_count": 61,
     "metadata": {},
     "output_type": "execute_result"
    }
   ],
   "source": [
    "class0_sims"
   ]
  },
  {
   "cell_type": "code",
   "execution_count": 62,
   "id": "acb9d480-a58f-4ce6-8973-eb9c8d6e7253",
   "metadata": {},
   "outputs": [
    {
     "data": {
      "text/plain": [
       "[np.float32(0.5560683),\n",
       " np.float32(0.40851367),\n",
       " np.float32(0.023647547),\n",
       " np.float32(0.5044056),\n",
       " np.float32(0.5711314),\n",
       " np.float32(0.019921184),\n",
       " np.float32(0.63837624),\n",
       " np.float32(0.41862524),\n",
       " np.float32(0.4749428),\n",
       " np.float32(0.5000736),\n",
       " np.float32(0.38717854),\n",
       " np.float32(0.19668925),\n",
       " np.float32(0.5411557),\n",
       " np.float32(0.60844904),\n",
       " np.float32(0.58085465),\n",
       " np.float32(0.5889234),\n",
       " np.float32(0.022789419),\n",
       " np.float32(0.6368993),\n",
       " np.float32(0.6835356),\n",
       " np.float32(0.63503987)]"
      ]
     },
     "execution_count": 62,
     "metadata": {},
     "output_type": "execute_result"
    }
   ],
   "source": [
    "class3_sims"
   ]
  },
  {
   "cell_type": "code",
   "execution_count": 63,
   "id": "58dc103d-1c30-473a-adc3-fcd5ca5100a0",
   "metadata": {},
   "outputs": [
    {
     "ename": "FileNotFoundError",
     "evalue": "[Errno 2] No such file or directory: 'output/fedvg.png'",
     "output_type": "error",
     "traceback": [
      "\u001b[1;31m---------------------------------------------------------------------------\u001b[0m",
      "\u001b[1;31mFileNotFoundError\u001b[0m                         Traceback (most recent call last)",
      "Cell \u001b[1;32mIn[63], line 43\u001b[0m\n\u001b[0;32m     41\u001b[0m plt\u001b[38;5;241m.\u001b[39mtight_layout()\n\u001b[0;32m     42\u001b[0m \u001b[38;5;66;03m# Save the plot to a file\u001b[39;00m\n\u001b[1;32m---> 43\u001b[0m \u001b[43mplt\u001b[49m\u001b[38;5;241;43m.\u001b[39;49m\u001b[43msavefig\u001b[49m\u001b[43m(\u001b[49m\u001b[38;5;124;43m'\u001b[39;49m\u001b[38;5;124;43moutput/fedvg.png\u001b[39;49m\u001b[38;5;124;43m'\u001b[39;49m\u001b[43m,\u001b[49m\u001b[43m \u001b[49m\u001b[43mdpi\u001b[49m\u001b[38;5;241;43m=\u001b[39;49m\u001b[38;5;241;43m300\u001b[39;49m\u001b[43m,\u001b[49m\u001b[43m \u001b[49m\u001b[43mbbox_inches\u001b[49m\u001b[38;5;241;43m=\u001b[39;49m\u001b[38;5;124;43m'\u001b[39;49m\u001b[38;5;124;43mtight\u001b[39;49m\u001b[38;5;124;43m'\u001b[39;49m\u001b[43m)\u001b[49m  \u001b[38;5;66;03m# Save as a PNG file with high resolution\u001b[39;00m\n\u001b[0;32m     45\u001b[0m \u001b[38;5;66;03m# Show the plot\u001b[39;00m\n\u001b[0;32m     46\u001b[0m plt\u001b[38;5;241m.\u001b[39mshow()\n",
      "File \u001b[1;32m~\\AppData\\Local\\Programs\\Python\\Python39\\lib\\site-packages\\matplotlib\\pyplot.py:1228\u001b[0m, in \u001b[0;36msavefig\u001b[1;34m(*args, **kwargs)\u001b[0m\n\u001b[0;32m   1225\u001b[0m fig \u001b[38;5;241m=\u001b[39m gcf()\n\u001b[0;32m   1226\u001b[0m \u001b[38;5;66;03m# savefig default implementation has no return, so mypy is unhappy\u001b[39;00m\n\u001b[0;32m   1227\u001b[0m \u001b[38;5;66;03m# presumably this is here because subclasses can return?\u001b[39;00m\n\u001b[1;32m-> 1228\u001b[0m res \u001b[38;5;241m=\u001b[39m fig\u001b[38;5;241m.\u001b[39msavefig(\u001b[38;5;241m*\u001b[39margs, \u001b[38;5;241m*\u001b[39m\u001b[38;5;241m*\u001b[39mkwargs)  \u001b[38;5;66;03m# type: ignore[func-returns-value]\u001b[39;00m\n\u001b[0;32m   1229\u001b[0m fig\u001b[38;5;241m.\u001b[39mcanvas\u001b[38;5;241m.\u001b[39mdraw_idle()  \u001b[38;5;66;03m# Need this if 'transparent=True', to reset colors.\u001b[39;00m\n\u001b[0;32m   1230\u001b[0m \u001b[38;5;28;01mreturn\u001b[39;00m res\n",
      "File \u001b[1;32m~\\AppData\\Local\\Programs\\Python\\Python39\\lib\\site-packages\\matplotlib\\figure.py:3395\u001b[0m, in \u001b[0;36mFigure.savefig\u001b[1;34m(self, fname, transparent, **kwargs)\u001b[0m\n\u001b[0;32m   3393\u001b[0m     \u001b[38;5;28;01mfor\u001b[39;00m ax \u001b[38;5;129;01min\u001b[39;00m \u001b[38;5;28mself\u001b[39m\u001b[38;5;241m.\u001b[39maxes:\n\u001b[0;32m   3394\u001b[0m         _recursively_make_axes_transparent(stack, ax)\n\u001b[1;32m-> 3395\u001b[0m \u001b[38;5;28mself\u001b[39m\u001b[38;5;241m.\u001b[39mcanvas\u001b[38;5;241m.\u001b[39mprint_figure(fname, \u001b[38;5;241m*\u001b[39m\u001b[38;5;241m*\u001b[39mkwargs)\n",
      "File \u001b[1;32m~\\AppData\\Local\\Programs\\Python\\Python39\\lib\\site-packages\\matplotlib\\backend_bases.py:2204\u001b[0m, in \u001b[0;36mFigureCanvasBase.print_figure\u001b[1;34m(self, filename, dpi, facecolor, edgecolor, orientation, format, bbox_inches, pad_inches, bbox_extra_artists, backend, **kwargs)\u001b[0m\n\u001b[0;32m   2200\u001b[0m \u001b[38;5;28;01mtry\u001b[39;00m:\n\u001b[0;32m   2201\u001b[0m     \u001b[38;5;66;03m# _get_renderer may change the figure dpi (as vector formats\u001b[39;00m\n\u001b[0;32m   2202\u001b[0m     \u001b[38;5;66;03m# force the figure dpi to 72), so we need to set it again here.\u001b[39;00m\n\u001b[0;32m   2203\u001b[0m     \u001b[38;5;28;01mwith\u001b[39;00m cbook\u001b[38;5;241m.\u001b[39m_setattr_cm(\u001b[38;5;28mself\u001b[39m\u001b[38;5;241m.\u001b[39mfigure, dpi\u001b[38;5;241m=\u001b[39mdpi):\n\u001b[1;32m-> 2204\u001b[0m         result \u001b[38;5;241m=\u001b[39m print_method(\n\u001b[0;32m   2205\u001b[0m             filename,\n\u001b[0;32m   2206\u001b[0m             facecolor\u001b[38;5;241m=\u001b[39mfacecolor,\n\u001b[0;32m   2207\u001b[0m             edgecolor\u001b[38;5;241m=\u001b[39medgecolor,\n\u001b[0;32m   2208\u001b[0m             orientation\u001b[38;5;241m=\u001b[39morientation,\n\u001b[0;32m   2209\u001b[0m             bbox_inches_restore\u001b[38;5;241m=\u001b[39m_bbox_inches_restore,\n\u001b[0;32m   2210\u001b[0m             \u001b[38;5;241m*\u001b[39m\u001b[38;5;241m*\u001b[39mkwargs)\n\u001b[0;32m   2211\u001b[0m \u001b[38;5;28;01mfinally\u001b[39;00m:\n\u001b[0;32m   2212\u001b[0m     \u001b[38;5;28;01mif\u001b[39;00m bbox_inches \u001b[38;5;129;01mand\u001b[39;00m restore_bbox:\n",
      "File \u001b[1;32m~\\AppData\\Local\\Programs\\Python\\Python39\\lib\\site-packages\\matplotlib\\backend_bases.py:2054\u001b[0m, in \u001b[0;36mFigureCanvasBase._switch_canvas_and_return_print_method.<locals>.<lambda>\u001b[1;34m(*args, **kwargs)\u001b[0m\n\u001b[0;32m   2050\u001b[0m     optional_kws \u001b[38;5;241m=\u001b[39m {  \u001b[38;5;66;03m# Passed by print_figure for other renderers.\u001b[39;00m\n\u001b[0;32m   2051\u001b[0m         \u001b[38;5;124m\"\u001b[39m\u001b[38;5;124mdpi\u001b[39m\u001b[38;5;124m\"\u001b[39m, \u001b[38;5;124m\"\u001b[39m\u001b[38;5;124mfacecolor\u001b[39m\u001b[38;5;124m\"\u001b[39m, \u001b[38;5;124m\"\u001b[39m\u001b[38;5;124medgecolor\u001b[39m\u001b[38;5;124m\"\u001b[39m, \u001b[38;5;124m\"\u001b[39m\u001b[38;5;124morientation\u001b[39m\u001b[38;5;124m\"\u001b[39m,\n\u001b[0;32m   2052\u001b[0m         \u001b[38;5;124m\"\u001b[39m\u001b[38;5;124mbbox_inches_restore\u001b[39m\u001b[38;5;124m\"\u001b[39m}\n\u001b[0;32m   2053\u001b[0m     skip \u001b[38;5;241m=\u001b[39m optional_kws \u001b[38;5;241m-\u001b[39m {\u001b[38;5;241m*\u001b[39minspect\u001b[38;5;241m.\u001b[39msignature(meth)\u001b[38;5;241m.\u001b[39mparameters}\n\u001b[1;32m-> 2054\u001b[0m     print_method \u001b[38;5;241m=\u001b[39m functools\u001b[38;5;241m.\u001b[39mwraps(meth)(\u001b[38;5;28;01mlambda\u001b[39;00m \u001b[38;5;241m*\u001b[39margs, \u001b[38;5;241m*\u001b[39m\u001b[38;5;241m*\u001b[39mkwargs: meth(\n\u001b[0;32m   2055\u001b[0m         \u001b[38;5;241m*\u001b[39margs, \u001b[38;5;241m*\u001b[39m\u001b[38;5;241m*\u001b[39m{k: v \u001b[38;5;28;01mfor\u001b[39;00m k, v \u001b[38;5;129;01min\u001b[39;00m kwargs\u001b[38;5;241m.\u001b[39mitems() \u001b[38;5;28;01mif\u001b[39;00m k \u001b[38;5;129;01mnot\u001b[39;00m \u001b[38;5;129;01min\u001b[39;00m skip}))\n\u001b[0;32m   2056\u001b[0m \u001b[38;5;28;01melse\u001b[39;00m:  \u001b[38;5;66;03m# Let third-parties do as they see fit.\u001b[39;00m\n\u001b[0;32m   2057\u001b[0m     print_method \u001b[38;5;241m=\u001b[39m meth\n",
      "File \u001b[1;32m~\\AppData\\Local\\Programs\\Python\\Python39\\lib\\site-packages\\matplotlib\\backends\\backend_agg.py:496\u001b[0m, in \u001b[0;36mFigureCanvasAgg.print_png\u001b[1;34m(self, filename_or_obj, metadata, pil_kwargs)\u001b[0m\n\u001b[0;32m    449\u001b[0m \u001b[38;5;28;01mdef\u001b[39;00m\u001b[38;5;250m \u001b[39m\u001b[38;5;21mprint_png\u001b[39m(\u001b[38;5;28mself\u001b[39m, filename_or_obj, \u001b[38;5;241m*\u001b[39m, metadata\u001b[38;5;241m=\u001b[39m\u001b[38;5;28;01mNone\u001b[39;00m, pil_kwargs\u001b[38;5;241m=\u001b[39m\u001b[38;5;28;01mNone\u001b[39;00m):\n\u001b[0;32m    450\u001b[0m \u001b[38;5;250m    \u001b[39m\u001b[38;5;124;03m\"\"\"\u001b[39;00m\n\u001b[0;32m    451\u001b[0m \u001b[38;5;124;03m    Write the figure to a PNG file.\u001b[39;00m\n\u001b[0;32m    452\u001b[0m \n\u001b[1;32m   (...)\u001b[0m\n\u001b[0;32m    494\u001b[0m \u001b[38;5;124;03m        *metadata*, including the default 'Software' key.\u001b[39;00m\n\u001b[0;32m    495\u001b[0m \u001b[38;5;124;03m    \"\"\"\u001b[39;00m\n\u001b[1;32m--> 496\u001b[0m     \u001b[38;5;28;43mself\u001b[39;49m\u001b[38;5;241;43m.\u001b[39;49m\u001b[43m_print_pil\u001b[49m\u001b[43m(\u001b[49m\u001b[43mfilename_or_obj\u001b[49m\u001b[43m,\u001b[49m\u001b[43m \u001b[49m\u001b[38;5;124;43m\"\u001b[39;49m\u001b[38;5;124;43mpng\u001b[39;49m\u001b[38;5;124;43m\"\u001b[39;49m\u001b[43m,\u001b[49m\u001b[43m \u001b[49m\u001b[43mpil_kwargs\u001b[49m\u001b[43m,\u001b[49m\u001b[43m \u001b[49m\u001b[43mmetadata\u001b[49m\u001b[43m)\u001b[49m\n",
      "File \u001b[1;32m~\\AppData\\Local\\Programs\\Python\\Python39\\lib\\site-packages\\matplotlib\\backends\\backend_agg.py:445\u001b[0m, in \u001b[0;36mFigureCanvasAgg._print_pil\u001b[1;34m(self, filename_or_obj, fmt, pil_kwargs, metadata)\u001b[0m\n\u001b[0;32m    440\u001b[0m \u001b[38;5;250m\u001b[39m\u001b[38;5;124;03m\"\"\"\u001b[39;00m\n\u001b[0;32m    441\u001b[0m \u001b[38;5;124;03mDraw the canvas, then save it using `.image.imsave` (to which\u001b[39;00m\n\u001b[0;32m    442\u001b[0m \u001b[38;5;124;03m*pil_kwargs* and *metadata* are forwarded).\u001b[39;00m\n\u001b[0;32m    443\u001b[0m \u001b[38;5;124;03m\"\"\"\u001b[39;00m\n\u001b[0;32m    444\u001b[0m FigureCanvasAgg\u001b[38;5;241m.\u001b[39mdraw(\u001b[38;5;28mself\u001b[39m)\n\u001b[1;32m--> 445\u001b[0m \u001b[43mmpl\u001b[49m\u001b[38;5;241;43m.\u001b[39;49m\u001b[43mimage\u001b[49m\u001b[38;5;241;43m.\u001b[39;49m\u001b[43mimsave\u001b[49m\u001b[43m(\u001b[49m\n\u001b[0;32m    446\u001b[0m \u001b[43m    \u001b[49m\u001b[43mfilename_or_obj\u001b[49m\u001b[43m,\u001b[49m\u001b[43m \u001b[49m\u001b[38;5;28;43mself\u001b[39;49m\u001b[38;5;241;43m.\u001b[39;49m\u001b[43mbuffer_rgba\u001b[49m\u001b[43m(\u001b[49m\u001b[43m)\u001b[49m\u001b[43m,\u001b[49m\u001b[43m \u001b[49m\u001b[38;5;28;43mformat\u001b[39;49m\u001b[38;5;241;43m=\u001b[39;49m\u001b[43mfmt\u001b[49m\u001b[43m,\u001b[49m\u001b[43m \u001b[49m\u001b[43morigin\u001b[49m\u001b[38;5;241;43m=\u001b[39;49m\u001b[38;5;124;43m\"\u001b[39;49m\u001b[38;5;124;43mupper\u001b[39;49m\u001b[38;5;124;43m\"\u001b[39;49m\u001b[43m,\u001b[49m\n\u001b[0;32m    447\u001b[0m \u001b[43m    \u001b[49m\u001b[43mdpi\u001b[49m\u001b[38;5;241;43m=\u001b[39;49m\u001b[38;5;28;43mself\u001b[39;49m\u001b[38;5;241;43m.\u001b[39;49m\u001b[43mfigure\u001b[49m\u001b[38;5;241;43m.\u001b[39;49m\u001b[43mdpi\u001b[49m\u001b[43m,\u001b[49m\u001b[43m \u001b[49m\u001b[43mmetadata\u001b[49m\u001b[38;5;241;43m=\u001b[39;49m\u001b[43mmetadata\u001b[49m\u001b[43m,\u001b[49m\u001b[43m \u001b[49m\u001b[43mpil_kwargs\u001b[49m\u001b[38;5;241;43m=\u001b[39;49m\u001b[43mpil_kwargs\u001b[49m\u001b[43m)\u001b[49m\n",
      "File \u001b[1;32m~\\AppData\\Local\\Programs\\Python\\Python39\\lib\\site-packages\\matplotlib\\image.py:1676\u001b[0m, in \u001b[0;36mimsave\u001b[1;34m(fname, arr, vmin, vmax, cmap, format, origin, dpi, metadata, pil_kwargs)\u001b[0m\n\u001b[0;32m   1674\u001b[0m pil_kwargs\u001b[38;5;241m.\u001b[39msetdefault(\u001b[38;5;124m\"\u001b[39m\u001b[38;5;124mformat\u001b[39m\u001b[38;5;124m\"\u001b[39m, \u001b[38;5;28mformat\u001b[39m)\n\u001b[0;32m   1675\u001b[0m pil_kwargs\u001b[38;5;241m.\u001b[39msetdefault(\u001b[38;5;124m\"\u001b[39m\u001b[38;5;124mdpi\u001b[39m\u001b[38;5;124m\"\u001b[39m, (dpi, dpi))\n\u001b[1;32m-> 1676\u001b[0m image\u001b[38;5;241m.\u001b[39msave(fname, \u001b[38;5;241m*\u001b[39m\u001b[38;5;241m*\u001b[39mpil_kwargs)\n",
      "File \u001b[1;32m~\\AppData\\Local\\Programs\\Python\\Python39\\lib\\site-packages\\PIL\\Image.py:2436\u001b[0m, in \u001b[0;36mImage.save\u001b[1;34m(self, fp, format, **params)\u001b[0m\n\u001b[0;32m   2434\u001b[0m         fp \u001b[38;5;241m=\u001b[39m builtins\u001b[38;5;241m.\u001b[39mopen(filename, \u001b[38;5;124m\"\u001b[39m\u001b[38;5;124mr+b\u001b[39m\u001b[38;5;124m\"\u001b[39m)\n\u001b[0;32m   2435\u001b[0m     \u001b[38;5;28;01melse\u001b[39;00m:\n\u001b[1;32m-> 2436\u001b[0m         fp \u001b[38;5;241m=\u001b[39m \u001b[43mbuiltins\u001b[49m\u001b[38;5;241;43m.\u001b[39;49m\u001b[43mopen\u001b[49m\u001b[43m(\u001b[49m\u001b[43mfilename\u001b[49m\u001b[43m,\u001b[49m\u001b[43m \u001b[49m\u001b[38;5;124;43m\"\u001b[39;49m\u001b[38;5;124;43mw+b\u001b[39;49m\u001b[38;5;124;43m\"\u001b[39;49m\u001b[43m)\u001b[49m\n\u001b[0;32m   2438\u001b[0m \u001b[38;5;28;01mtry\u001b[39;00m:\n\u001b[0;32m   2439\u001b[0m     save_handler(\u001b[38;5;28mself\u001b[39m, fp, filename)\n",
      "\u001b[1;31mFileNotFoundError\u001b[0m: [Errno 2] No such file or directory: 'output/fedvg.png'"
     ]
    },
    {
     "data": {
      "image/png": "[encoded data removed]",
      "text/plain": [
       "<Figure size 650x420 with 1 Axes>"
      ]
     },
     "metadata": {},
     "output_type": "display_data"
    }
   ],
   "source": [
    "                                                        # VISUALIZE\n",
    "# NOTE: Class indexes now start from 1 so, previous class 0 = now class 1 and so on\n",
    "# FIG 1: Raw similarity plot\n",
    "\n",
    "import pandas as pd\n",
    "import numpy as np\n",
    "import matplotlib.pyplot as plt\n",
    "import seaborn as sns\n",
    "\n",
    "# Generate sample similarity data for four classes (each with 20 values in the range 0 to 1)\n",
    "class1_sim = class0_sims\n",
    "class2_sim = class1_sims\n",
    "class3_sim = class2_sims\n",
    "class4_sim = class3_sims\n",
    "\n",
    "# Set figure size\n",
    "plt.figure(figsize=(6.5, 4.2))  # Set the size of the figure (width, height)\n",
    "\n",
    "# Sample DataFrame with four columns\n",
    "data=pd.DataFrame({'Class 1':class1_sim,'Class 2':class2_sim,'Class 3':class3_sim,'Class 4':class4_sim})\n",
    "df = pd.DataFrame(data)\n",
    "\n",
    "# Plot the probability distributions\n",
    "#plt.figure(figsize=(10, 6))\n",
    "\n",
    "# Define colors and line styles for each column\n",
    "colors = ['#1f77b4', '#ff7f0e', '#2ca02c', '#d62728']\n",
    "linestyles = ['-.', '--', '-', '-']\n",
    "\n",
    "# Plot the probability distributions with unique colors and line styles\n",
    "for column, color, linestyle in zip(df.columns, colors, linestyles):\n",
    "    sns.kdeplot(df[column], label=column, color=color, linestyle=linestyle)\n",
    "\n",
    "#plt.title('Probability Distributions of Four Columns')\n",
    "plt.xlabel('Similarity',fontsize=12)\n",
    "plt.ylabel('Density',fontsize=12)\n",
    "plt.yticks(fontsize=12)  # Set y-tick labels font size\n",
    "plt.legend(loc='upper right',fontsize=12)  # Increase legend font size\n",
    "\n",
    "# Optimize layout\n",
    "plt.tight_layout()\n",
    "# Save the plot to a file\n",
    "plt.savefig('output/fedvg.png', dpi=300, bbox_inches='tight')  # Save as a PNG file with high resolution\n",
    "\n",
    "# Show the plot\n",
    "plt.show()\n"
   ]
  },
  {
   "cell_type": "code",
   "execution_count": null,
   "id": "c71af78e-28e9-4564-9609-3039455bb875",
   "metadata": {},
   "outputs": [],
   "source": [
    "# FIG 2: DIFFERENCES IN COSINE SIMILARITY\n",
    "\n",
    "# For each class, we have 20 similarity values — one per image — showing how similar fake and real versions are.These values are very close across classes\n",
    "# So, to highlight subtle differences, compute and plot the difference between each pair of classes, value by value.\n",
    "# This gives you 20 values showing how much the similarity differs for each image between class 0 and class 1.\n",
    "# It's a magnified view of the gap between classes.\n",
    "# If the differences are tiny (e.g., 0.003), the plot helps make that visible and comparable.\n",
    "\n",
    "import numpy as np\n",
    "import matplotlib.pyplot as plt\n",
    "import seaborn as sns\n",
    "import pandas as pd\n",
    "\n",
    "# Differences between class distributions (pairwise)\n",
    "diff_12 = np.array(class2_sim) - np.array(class1_sim)\n",
    "diff_13 = np.array(class3_sim) - np.array(class1_sim)\n",
    "diff_14 = np.array(class4_sim) - np.array(class1_sim)\n",
    "diff_23 = np.array(class3_sim) - np.array(class2_sim)\n",
    "diff_24 = np.array(class4_sim) - np.array(class2_sim)\n",
    "diff_34 = np.array(class4_sim) - np.array(class3_sim)\n",
    "\n",
    "# Create a DataFrame\n",
    "diff_df = pd.DataFrame({\n",
    "    'Class 2 - Class 1': diff_12,\n",
    "    'Class 3 - Class 1': diff_13,\n",
    "    'Class 4 - Class 1': diff_14,\n",
    "    'Class 3 - Class 2': diff_23,\n",
    "    'Class 4 - Class 2': diff_24,\n",
    "    'Class 4 - Class 3': diff_34,\n",
    "})\n",
    "\n",
    "# Plot\n",
    "plt.figure(figsize=(7.5, 5))\n",
    "\n",
    "colors = sns.color_palette(\"tab10\", n_colors=6)\n",
    "\n",
    "for column, color in zip(diff_df.columns, colors):\n",
    "    sns.kdeplot(diff_df[column], label=column, color=color, linestyle='-')\n",
    "\n",
    "plt.axvline(0, color='black', linestyle='--', linewidth=1)  # reference line at 0\n",
    "plt.xlabel('Difference in Similarity', fontsize=12)\n",
    "plt.ylabel('Density', fontsize=12)\n",
    "plt.legend(fontsize=10)\n",
    "plt.title(\"Pairwise Differences in Cosine Similarity\", fontsize=13)\n",
    "plt.tight_layout()\n",
    "plt.show()"
   ]
  },
  {
   "cell_type": "code",
   "execution_count": null,
   "id": "362bf182-7927-4ce2-bf5a-97299d426bc4",
   "metadata": {},
   "outputs": [],
   "source": [
    "def calculate_interclass_similarity(first, second):\n",
    "    similarities = []\n",
    "\n",
    "    first_images = []\n",
    "    second_images = []\n",
    "    if first == 'class1':\n",
    "        first_images = class0_original_images.copy()\n",
    "    elif first == 'class2':\n",
    "        first_images = class1_original_images.copy()\n",
    "    elif first == 'class3':\n",
    "        first_images = class2_original_images.copy()\n",
    "    elif first == 'class4':\n",
    "        first_images = class3_original_images.copy()\n",
    "\n",
    "    if second == 'class1':\n",
    "        second_images = class0_original_images.copy()\n",
    "    elif second == 'class2':\n",
    "        second_images = class1_original_images.copy()\n",
    "    elif second == 'class3':\n",
    "        second_images = class2_original_images.copy()\n",
    "    elif second == 'class4':\n",
    "        second_images = class3_original_images.copy()\n",
    "    \n",
    "    for i in range(0, 20):\n",
    "        first_image = first_images[i].unsqueeze(dim=0).to(device)\n",
    "        first_image = first_image.repeat(1, 3, 1, 1)\n",
    "        \n",
    "        second_image = second_images[i].unsqueeze(dim=0).to(device)\n",
    "        second_image = second_image.repeat(1, 3, 1, 1)\n",
    "        \n",
    "        features_first = get_feature(first_image)\n",
    "        features_second = get_feature(second_image)\n",
    "\n",
    "        cosine_similarity = 1 - cosine(features_first, features_second)\n",
    "        similarities.append(cosine_similarity)\n",
    "\n",
    "    return similarities"
   ]
  },
  {
   "cell_type": "code",
   "execution_count": null,
   "id": "5954dfe3-cb08-4551-a5f9-d2082ac3d604",
   "metadata": {},
   "outputs": [],
   "source": [
    "class1class2 = calculate_interclass_similarity('class1', 'class2')"
   ]
  },
  {
   "cell_type": "code",
   "execution_count": null,
   "id": "cd5ab50d-9d9d-443b-bea5-2d6e302e2bf4",
   "metadata": {},
   "outputs": [],
   "source": [
    "class1class2"
   ]
  },
  {
   "cell_type": "code",
   "execution_count": null,
   "id": "29441f40-36a7-4854-98be-5d128bae49cd",
   "metadata": {},
   "outputs": [],
   "source": [
    "                                                # FIG: 3 -> INTERCLASS SIMILARITIES\n",
    "\n",
    "import pandas as pd\n",
    "import numpy as np\n",
    "import matplotlib.pyplot as plt\n",
    "import seaborn as sns\n",
    "\n",
    "# Set figure size\n",
    "plt.figure(figsize=(6.5, 4.2))  # Set the size of the figure (width, height)\n",
    "\n",
    "# Generate sample similarity data for four classes (each with 20 values in the range 0 to 1)\n",
    "np.random.seed(42)  # For reproducibility\n",
    "class1class2 = calculate_interclass_similarity('class1', 'class2')\n",
    "class1class3 = calculate_interclass_similarity('class1', 'class3')\n",
    "class1class4 = calculate_interclass_similarity('class1', 'class4')\n",
    "class2class3 = calculate_interclass_similarity('class2', 'class3')\n",
    "class2class4 = calculate_interclass_similarity('class2', 'class4')\n",
    "class3class4 = calculate_interclass_similarity('class3', 'class4')\n",
    "\n",
    "# Sample DataFrame with four columns\n",
    "data=pd.DataFrame({'Class1 vs Class2':class1class2,'Class1 vs Class3':class1class3,'Class1 vs Class4':class1class4,'Class2 vs Class3':class2class3,'Class2 vs Class4':class2class4,'Class3 vs Class4':class3class4})\n",
    "df = pd.DataFrame(data)\n",
    "\n",
    "# Plot the probability distributions\n",
    "#plt.figure(figsize=(10, 6))\n",
    "\n",
    "# Define colors and line styles for each column\n",
    "colors = ['#1f77b4', '#ff7f0e', '#2ca02c', '#d62728', '#9467bd', '#8c564b']\n",
    "linestyles = ['-.', '--', '-', '-', '-.', '--']\n",
    "\n",
    "# Plot the probability distributions with unique colors and line styles\n",
    "for column, color, linestyle in zip(df.columns, colors, linestyles):\n",
    "    sns.kdeplot(df[column], label=column, color=color, linestyle=linestyle)\n",
    "\n",
    "#plt.title('Probability Distributions of Four Columns')\n",
    "plt.xlabel('Similarity',fontsize=12)\n",
    "plt.ylabel('Density',fontsize=12)\n",
    "plt.yticks(fontsize=12)  # Set y-tick labels font size\n",
    "plt.legend(loc='upper right',fontsize=12)  # Increase legend font size\n",
    "\n",
    "# Optimize layout\n",
    "plt.tight_layout()\n",
    "# Save the plot to a file\n",
    "plt.savefig('output/VoiceDivergenceD3.png', dpi=300, bbox_inches='tight')  # Save as a PNG file with high resolution\n",
    "\n",
    "# Show the plot\n",
    "plt.show()"
   ]
  },
  {
   "cell_type": "code",
   "execution_count": null,
   "id": "19754eee-5c1e-47e6-bbaa-b2cef05a1641",
   "metadata": {},
   "outputs": [],
   "source": []
  }
 ],
 "metadata": {
  "kernelspec": {
   "display_name": "Python 3 (ipykernel)",
   "language": "python",
   "name": "python3"
  },
  "language_info": {
   "codemirror_mode": {
    "name": "ipython",
    "version": 3
   },
   "file_extension": ".py",
   "mimetype": "text/x-python",
   "name": "python",
   "nbconvert_exporter": "python",
   "pygments_lexer": "ipython3",
   "version": "3.9.7"
  }
 },
 "nbformat": 4,
 "nbformat_minor": 5
}
