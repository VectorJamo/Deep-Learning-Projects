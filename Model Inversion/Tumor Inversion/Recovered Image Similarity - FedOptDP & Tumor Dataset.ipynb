{
 "cells": [
  {
   "cell_type": "code",
   "execution_count": 1,
   "id": "646b38c2-386a-4f83-a983-ea764ad8267f",
   "metadata": {},
   "outputs": [],
   "source": [
    "# Attempting to recover training data using model's parameters and a DCGAN that was trained on similar data\n",
    "# Author: Suraj Neupane\n",
    "# Written from scratch as a part of a Research Project 2025, Concordia University of Edmonton.\n",
    "import numpy as np\n",
    "\n",
    "import torch\n",
    "from torch import nn\n",
    "from torch.nn import functional\n",
    "\n",
    "from torch.utils import data\n",
    "from torch.utils.data import DataLoader\n",
    "\n",
    "import torchvision\n",
    "from torchvision import datasets\n",
    "from torchvision import transforms\n",
    "\n",
    "import pickle\n",
    "\n",
    "import matplotlib.pyplot as plt\n",
    "%matplotlib inline"
   ]
  },
  {
   "cell_type": "code",
   "execution_count": 2,
   "id": "8b80ddb2-ed75-4870-85b4-9300fce0df7e",
   "metadata": {},
   "outputs": [
    {
     "data": {
      "text/plain": [
       "'2.5.1+cu118'"
      ]
     },
     "execution_count": 2,
     "metadata": {},
     "output_type": "execute_result"
    }
   ],
   "source": [
    "torch.__version__"
   ]
  },
  {
   "cell_type": "code",
   "execution_count": 3,
   "id": "d6950585-eb31-4f61-bd60-5bf8716fcdef",
   "metadata": {},
   "outputs": [],
   "source": [
    "device = 'cuda' if torch.cuda.is_available() else 'cpu'"
   ]
  },
  {
   "cell_type": "code",
   "execution_count": 4,
   "id": "36c47e07-6b7d-4123-a59d-5d465f9ef280",
   "metadata": {},
   "outputs": [
    {
     "data": {
      "text/plain": [
       "'cuda'"
      ]
     },
     "execution_count": 4,
     "metadata": {},
     "output_type": "execute_result"
    }
   ],
   "source": [
    "device"
   ]
  },
  {
   "cell_type": "code",
   "execution_count": 5,
   "id": "b852ca55-f33e-469f-b7b9-e00d21124927",
   "metadata": {},
   "outputs": [],
   "source": [
    "# DCGAN Implementation Class\n",
    "# Discriminator\n",
    "class Discriminator(nn.Module):\n",
    "    def __init__(self, img_channels, features_d):\n",
    "        super().__init__()\n",
    "        self.disc = nn.Sequential(\n",
    "            # Input shape: img_channels x 64 x 64\n",
    "            nn.Conv2d(\n",
    "              in_channels=img_channels, out_channels=features_d, kernel_size=4, stride=2, padding=1\n",
    "            ), # Output shape: features_d x 32 x 32\n",
    "            nn.LeakyReLU(0.2),\n",
    "            self._block(features_d, features_d*2, 4, 2, 1), # Output shape: features_d*2 x 16 x 16\n",
    "            self._block(features_d*2, features_d*4, 4, 2, 1), # Output shape: features_d*4 x 8 x 8\n",
    "            self._block(features_d*4, features_d*8, 4, 2, 1), # Output shape: features_d*8 x 4 x 4\n",
    "           \n",
    "            nn.Conv2d(in_channels=features_d*8, out_channels=1, kernel_size=4, stride=2, padding=0), # Output shape: 1 x 1\n",
    "            nn.Sigmoid(),\n",
    "        )\n",
    "\n",
    "    def _block(self, in_channels, out_channels, kernel_size, stride, padding):\n",
    "        return nn.Sequential(\n",
    "            nn.Conv2d(in_channels, out_channels, kernel_size, stride, padding, bias=False),\n",
    "            nn.BatchNorm2d(out_channels),\n",
    "            nn.LeakyReLU(0.2),\n",
    "        )\n",
    "\n",
    "    def forward(self, X):\n",
    "        return self.disc(X)\n"
   ]
  },
  {
   "cell_type": "code",
   "execution_count": 6,
   "id": "5afe02e5-61d3-4f25-8933-8484e519cd4a",
   "metadata": {},
   "outputs": [],
   "source": [
    "# Generator\n",
    "class Generator(nn.Module):\n",
    "    def __init__(self, z_dim, img_channels, features_g):\n",
    "        super().__init__()\n",
    "        self.gen = nn.Sequential(\n",
    "            self._block(z_dim, features_g*16, 4, 1, 0), # z_dim: (batch_size, 100, 1, 1) -> (batch_size, 1024, 4, 4)\n",
    "            self._block(features_g*16, features_g*8, 4, 2, 1), # z_dim: (batch_size, 1024, 4, 4) -> (batch_size, 512, 8, 8)\n",
    "            self._block(features_g*8, features_g*4, 4, 2, 1), # z_dim: (batch_size, 512, 8, 8) -> (batch_size, 256, 16, 16)\n",
    "            self._block(features_g*4, features_g*2, 4, 2, 1), # z_dim: (batch_size, 128, 16, 16) -> (batch_size, 64, 32, 32)\n",
    "            nn.ConvTranspose2d(\n",
    "                in_channels=features_g*2, out_channels=img_channels, kernel_size=4, stride=2, padding=1 # z_dim: (batch_size, 64, 32, 32) -> (batch_size, 1, 64, 64)\n",
    "            ),\n",
    "            nn.Tanh(),\n",
    "        )\n",
    "        \n",
    "    def _block(self, in_channels, out_channels, kernel_size, stride, padding):\n",
    "        return nn.Sequential(\n",
    "            nn.ConvTranspose2d(\n",
    "                in_channels, out_channels, kernel_size, stride, padding, bias=False,\n",
    "            ),\n",
    "            nn.InstanceNorm2d(out_channels, affine=True),\n",
    "            nn.ReLU(),\n",
    "        )\n",
    "\n",
    "    def forward(self, X):\n",
    "        return self.gen(X)"
   ]
  },
  {
   "cell_type": "code",
   "execution_count": 7,
   "id": "48c1be35-d58a-4d0c-990d-9250fbdbf1b3",
   "metadata": {},
   "outputs": [],
   "source": [
    "# Hyperparams\n",
    "z_dim = 100\n",
    "img_channels = 1\n",
    "features_disc = 64\n",
    "features_gen = 64"
   ]
  },
  {
   "cell_type": "code",
   "execution_count": 8,
   "id": "f2dc1f40-5c2e-4903-b2e7-7abe5cae9772",
   "metadata": {},
   "outputs": [],
   "source": [
    "# Create the model instances\n",
    "gen = Generator(z_dim, img_channels, features_gen).to(device)\n",
    "disc = Discriminator(img_channels, features_disc).to(device)"
   ]
  },
  {
   "cell_type": "code",
   "execution_count": 9,
   "id": "bc7a5deb-f8d8-41d4-aed3-d012d39a84b9",
   "metadata": {},
   "outputs": [
    {
     "data": {
      "text/plain": [
       "<All keys matched successfully>"
      ]
     },
     "execution_count": 9,
     "metadata": {},
     "output_type": "execute_result"
    }
   ],
   "source": [
    "# Load the trained GAN\n",
    "gen.load_state_dict(torch.load('saved models/Generator2.pth', weights_only=True))\n",
    "disc.load_state_dict(torch.load('saved models/Discriminator2.pth', weights_only=True))"
   ]
  },
  {
   "cell_type": "code",
   "execution_count": 10,
   "id": "a504e932-e168-4bb8-88cc-eea0810aafb0",
   "metadata": {},
   "outputs": [],
   "source": [
    "# Generate a random fake image\n",
    "noise = torch.randn(1, z_dim, 1, 1).to(device)\n",
    "fake_img = gen(noise)"
   ]
  },
  {
   "cell_type": "code",
   "execution_count": 11,
   "id": "98b5d73f-b130-4bc1-a868-c225bd2abe62",
   "metadata": {},
   "outputs": [
    {
     "data": {
      "text/plain": [
       "torch.Size([1, 1, 64, 64])"
      ]
     },
     "execution_count": 11,
     "metadata": {},
     "output_type": "execute_result"
    }
   ],
   "source": [
    "fake_img.shape"
   ]
  },
  {
   "cell_type": "code",
   "execution_count": 12,
   "id": "9d19338c-18e4-4b6e-842f-a225718fa8bb",
   "metadata": {},
   "outputs": [
    {
     "name": "stdout",
     "output_type": "stream",
     "text": [
      "torch.Size([64, 64])\n"
     ]
    },
    {
     "data": {
      "text/plain": [
       "<matplotlib.image.AxesImage at 0x21225056370>"
      ]
     },
     "execution_count": 12,
     "metadata": {},
     "output_type": "execute_result"
    },
    {
     "data": {
      "image/png": "[encoded data removed]",
      "text/plain": [
       "<Figure size 640x480 with 1 Axes>"
      ]
     },
     "metadata": {},
     "output_type": "display_data"
    }
   ],
   "source": [
    "fake_img = fake_img.squeeze()\n",
    "print(fake_img.shape)\n",
    "plt.axis(False)\n",
    "plt.title('Fake Generated Image:')\n",
    "plt.imshow(fake_img.cpu().detach(), cmap='gray')"
   ]
  },
  {
   "cell_type": "code",
   "execution_count": 13,
   "id": "cf2aefac-a759-4335-a3de-2065d6a6a9a5",
   "metadata": {},
   "outputs": [],
   "source": [
    "# Target Model\n",
    "class TFCNN(nn.Module):\n",
    "    def __init__(self, n_classes):\n",
    "        super().__init__()\n",
    "        self.n_classes = n_classes\n",
    "\n",
    "        self.encoder = nn.Sequential(\n",
    "            nn.Conv2d(3, 32, 3, stride=1, padding=1),\n",
    "            nn.ReLU(True),\n",
    "            nn.MaxPool2d(2),\n",
    "            nn.Conv2d(32, 64, 3, stride=1, padding=1),\n",
    "            nn.ReLU(True),\n",
    "            nn.MaxPool2d(2),\n",
    "            nn.Conv2d(64, 64, 3, stride=1, padding=1),\n",
    "            nn.ReLU(True),\n",
    "            nn.MaxPool2d(2),\n",
    "            Reshape(),\n",
    "        )\n",
    "\n",
    "        self.h_size = 64 * 4 * 4\n",
    "\n",
    "        self.classifier = nn.Sequential(\n",
    "            nn.Linear(64 * 4 * 4, 128),\n",
    "            nn.ReLU(True),\n",
    "            nn.Linear(128, n_classes)\n",
    "        )\n",
    "\n",
    "    def forward(self, xs):\n",
    "        code = self.encoder(xs)\n",
    "        logits = self.classifier(code)\n",
    "        return code, logits\n"
   ]
  },
  {
   "cell_type": "code",
   "execution_count": 14,
   "id": "d28876e2-91ee-4ebf-bc52-b71dc82edfa2",
   "metadata": {},
   "outputs": [],
   "source": [
    "class Reshape(nn.Module):\n",
    "    def __init__(self,):\n",
    "        super().__init__()\n",
    "\n",
    "    def forward(self, xs):\n",
    "        return xs.reshape((xs.shape[0], -1))"
   ]
  },
  {
   "cell_type": "code",
   "execution_count": 15,
   "id": "dd57210c-2c18-4651-8f29-be94a7a7a88f",
   "metadata": {},
   "outputs": [],
   "source": [
    "class ClassifyNet(nn.Module):\n",
    "    def __init__(self, net, init_way, n_classes, input_size=None):\n",
    "        super().__init__()\n",
    "        self.net = net\n",
    "        self.init_way = init_way\n",
    "        self.n_classes = n_classes\n",
    "\n",
    "        model = TFCNN(n_classes)\n",
    "\n",
    "        self.h_size = model.h_size\n",
    "\n",
    "        # Convo and pool layers\n",
    "        self.encoder = model.encoder\n",
    "\n",
    "        # Classifier layer\n",
    "        self.classifier = nn.Linear(\n",
    "            self.h_size, self.n_classes, bias=False\n",
    "        )\n",
    "\n",
    "        if self.init_way == \"orth\":\n",
    "            ws = get_orth_weights(self.h_size, self.n_classes)\n",
    "            self.classifier.load_state_dict({\"weight\": ws})\n",
    "\n",
    "    def forward(self, xs):\n",
    "        hs = self.encoder(xs)\n",
    "        logits = self.classifier(hs)\n",
    "        return hs, logits"
   ]
  },
  {
   "cell_type": "code",
   "execution_count": 16,
   "id": "83ea3c08-0470-4c9a-ba15-8328a316b3ab",
   "metadata": {},
   "outputs": [],
   "source": [
    "def load_target_model(base_net, n_classes, path):\n",
    "    # Create the base model\n",
    "    model = ClassifyNet(net=base_net, init_way='none', n_classes=n_classes)\n",
    "    # Load the model\n",
    "    model.load_state_dict(torch.load(path, weights_only=True))\n",
    "\n",
    "    return model"
   ]
  },
  {
   "cell_type": "code",
   "execution_count": 17,
   "id": "0880f1aa-9d08-445a-85ac-f1ff3cebde04",
   "metadata": {},
   "outputs": [
    {
     "name": "stdout",
     "output_type": "stream",
     "text": [
      "Model loaded successfully!\n",
      "Number of parameters in the loaded model: 60416\n"
     ]
    }
   ],
   "source": [
    "# Target Model Loading\n",
    "BASE_NET = 'TFCNN'\n",
    "DATASET = 'tumor4'\n",
    "N_CLASSES = 4\n",
    "\n",
    "target_model = load_target_model(base_net=BASE_NET, n_classes=N_CLASSES, path='saved models/fedoptDP_global_model1.path').to(device)\n",
    "print('Model loaded successfully!')\n",
    "target_model.eval()\n",
    "\n",
    "num_params = sum(p.numel() for p in target_model.parameters())\n",
    "print('Number of parameters in the loaded model:', num_params)\n"
   ]
  },
  {
   "cell_type": "code",
   "execution_count": 18,
   "id": "f843f19e-b2a5-4ffe-b22b-de4ff93c5643",
   "metadata": {},
   "outputs": [],
   "source": [
    "# BEGIN BATCH MODEL INVERSION\n",
    "img_count = 20\n",
    "latent_vectors = torch.randn(img_count, z_dim, 1, 1, requires_grad=True) # Start with 20 random noises"
   ]
  },
  {
   "cell_type": "code",
   "execution_count": 19,
   "id": "c21320ed-d5ac-4919-aaad-8cfa093998a6",
   "metadata": {},
   "outputs": [],
   "source": [
    "def recover_images(count, target_image_class, latent_vectors):\n",
    "    optimized_latent_vectors = []\n",
    "    \n",
    "    for x in range(0, count):\n",
    "        z = latent_vectors[x].unsqueeze(dim=0).clone().detach().requires_grad_(True)\n",
    "        \n",
    "        learning_rate = 0.01\n",
    "        target_class = 1 # The second class\n",
    "        \n",
    "        # Create the optimizer\n",
    "        optimizer = torch.optim.Adam([z], lr=learning_rate)\n",
    "        \n",
    "        # Loss function (e.g., Cross-Entropy with classifier outputs)\n",
    "        loss_fn = nn.CrossEntropyLoss()\n",
    "        target_class = torch.tensor([target_image_class])  # Set the target class\n",
    "    \n",
    "        # Optimization loop to find the best z\n",
    "        rounds = 500\n",
    "        for i in range(rounds):\n",
    "            optimizer.zero_grad()\n",
    "            \n",
    "            generated_image = gen(z.to(device))  # Generate an image from the latent vector\n",
    "            generated_image = generated_image.repeat(1, 3, 1, 1)\n",
    "            generated_image = functional.interpolate(generated_image, size=(32, 32), mode='nearest')\n",
    "            #print(generated_image.shape)\n",
    "            hs, prediction_logits = target_model(generated_image)  # Classifier output\n",
    "            #print(prediction_logits)\n",
    "            #print(type(prediction_logits))\n",
    "            loss = loss_fn(prediction_logits, target_class.to(device))  # Minimize difference with true class\n",
    "            loss.backward()\n",
    "            optimizer.step()\n",
    "            \n",
    "            if i % 50 == 0:\n",
    "                print(f\"Generating Image Number: {x+1} for target class {target_class}. Step {i}, Loss: {loss.item()}\")\n",
    "    \n",
    "        optimized_latent_vectors.append(z)\n",
    "        \n",
    "    return optimized_latent_vectors"
   ]
  },
  {
   "cell_type": "code",
   "execution_count": 20,
   "id": "9ebc9533-23ca-4d44-8aea-9d134281b3a4",
   "metadata": {
    "scrolled": true
   },
   "outputs": [
    {
     "name": "stdout",
     "output_type": "stream",
     "text": [
      "Generating Image Number: 1 for target class tensor([0]). Step 0, Loss: 32.998077392578125\n",
      "Generating Image Number: 1 for target class tensor([0]). Step 50, Loss: 25.355648040771484\n",
      "Generating Image Number: 1 for target class tensor([0]). Step 100, Loss: 24.486940383911133\n",
      "Generating Image Number: 1 for target class tensor([0]). Step 150, Loss: 23.894372940063477\n",
      "Generating Image Number: 1 for target class tensor([0]). Step 200, Loss: 23.43024444580078\n",
      "Generating Image Number: 1 for target class tensor([0]). Step 250, Loss: 22.93902015686035\n",
      "Generating Image Number: 1 for target class tensor([0]). Step 300, Loss: 22.336122512817383\n",
      "Generating Image Number: 1 for target class tensor([0]). Step 350, Loss: 20.20981788635254\n",
      "Generating Image Number: 1 for target class tensor([0]). Step 400, Loss: 17.772916793823242\n",
      "Generating Image Number: 1 for target class tensor([0]). Step 450, Loss: 16.178098678588867\n",
      "Generating Image Number: 2 for target class tensor([0]). Step 0, Loss: 45.27063751220703\n",
      "Generating Image Number: 2 for target class tensor([0]). Step 50, Loss: 33.19542694091797\n",
      "Generating Image Number: 2 for target class tensor([0]). Step 100, Loss: 31.343236923217773\n",
      "Generating Image Number: 2 for target class tensor([0]). Step 150, Loss: 30.62827491760254\n",
      "Generating Image Number: 2 for target class tensor([0]). Step 200, Loss: 30.17485809326172\n",
      "Generating Image Number: 2 for target class tensor([0]). Step 250, Loss: 29.680240631103516\n",
      "Generating Image Number: 2 for target class tensor([0]). Step 300, Loss: 29.369152069091797\n",
      "Generating Image Number: 2 for target class tensor([0]). Step 350, Loss: 28.940776824951172\n",
      "Generating Image Number: 2 for target class tensor([0]). Step 400, Loss: 28.644269943237305\n",
      "Generating Image Number: 2 for target class tensor([0]). Step 450, Loss: 28.35100746154785\n",
      "Generating Image Number: 3 for target class tensor([0]). Step 0, Loss: 43.07490539550781\n",
      "Generating Image Number: 3 for target class tensor([0]). Step 50, Loss: 23.92527198791504\n",
      "Generating Image Number: 3 for target class tensor([0]). Step 100, Loss: 22.690410614013672\n",
      "Generating Image Number: 3 for target class tensor([0]). Step 150, Loss: 21.828521728515625\n",
      "Generating Image Number: 3 for target class tensor([0]). Step 200, Loss: 21.2786808013916\n",
      "Generating Image Number: 3 for target class tensor([0]). Step 250, Loss: 20.837038040161133\n",
      "Generating Image Number: 3 for target class tensor([0]). Step 300, Loss: 20.386980056762695\n",
      "Generating Image Number: 3 for target class tensor([0]). Step 350, Loss: 19.965147018432617\n",
      "Generating Image Number: 3 for target class tensor([0]). Step 400, Loss: 19.44917106628418\n",
      "Generating Image Number: 3 for target class tensor([0]). Step 450, Loss: 18.851484298706055\n",
      "Generating Image Number: 4 for target class tensor([0]). Step 0, Loss: 33.0546760559082\n",
      "Generating Image Number: 4 for target class tensor([0]). Step 50, Loss: 22.923564910888672\n",
      "Generating Image Number: 4 for target class tensor([0]). Step 100, Loss: 20.330486297607422\n",
      "Generating Image Number: 4 for target class tensor([0]). Step 150, Loss: 18.3878173828125\n",
      "Generating Image Number: 4 for target class tensor([0]). Step 200, Loss: 16.840646743774414\n",
      "Generating Image Number: 4 for target class tensor([0]). Step 250, Loss: 14.953008651733398\n",
      "Generating Image Number: 4 for target class tensor([0]). Step 300, Loss: 13.506852149963379\n",
      "Generating Image Number: 4 for target class tensor([0]). Step 350, Loss: 12.43880844116211\n",
      "Generating Image Number: 4 for target class tensor([0]). Step 400, Loss: 11.65949535369873\n",
      "Generating Image Number: 4 for target class tensor([0]). Step 450, Loss: 11.206796646118164\n",
      "Generating Image Number: 5 for target class tensor([0]). Step 0, Loss: 36.77937316894531\n",
      "Generating Image Number: 5 for target class tensor([0]). Step 50, Loss: 22.519811630249023\n",
      "Generating Image Number: 5 for target class tensor([0]). Step 100, Loss: 19.701053619384766\n",
      "Generating Image Number: 5 for target class tensor([0]). Step 150, Loss: 18.12936782836914\n",
      "Generating Image Number: 5 for target class tensor([0]). Step 200, Loss: 16.765117645263672\n",
      "Generating Image Number: 5 for target class tensor([0]). Step 250, Loss: 15.700709342956543\n",
      "Generating Image Number: 5 for target class tensor([0]). Step 300, Loss: 14.998804092407227\n",
      "Generating Image Number: 5 for target class tensor([0]). Step 350, Loss: 14.439142227172852\n",
      "Generating Image Number: 5 for target class tensor([0]). Step 400, Loss: 13.902000427246094\n",
      "Generating Image Number: 5 for target class tensor([0]). Step 450, Loss: 13.477996826171875\n",
      "Generating Image Number: 6 for target class tensor([0]). Step 0, Loss: 46.918113708496094\n",
      "Generating Image Number: 6 for target class tensor([0]). Step 50, Loss: 23.800989151000977\n",
      "Generating Image Number: 6 for target class tensor([0]). Step 100, Loss: 21.188295364379883\n",
      "Generating Image Number: 6 for target class tensor([0]). Step 150, Loss: 19.86697006225586\n",
      "Generating Image Number: 6 for target class tensor([0]). Step 200, Loss: 18.714719772338867\n",
      "Generating Image Number: 6 for target class tensor([0]). Step 250, Loss: 17.74514389038086\n",
      "Generating Image Number: 6 for target class tensor([0]). Step 300, Loss: 16.87234115600586\n",
      "Generating Image Number: 6 for target class tensor([0]). Step 350, Loss: 16.3455753326416\n",
      "Generating Image Number: 6 for target class tensor([0]). Step 400, Loss: 15.925931930541992\n",
      "Generating Image Number: 6 for target class tensor([0]). Step 450, Loss: 15.54290771484375\n",
      "Generating Image Number: 7 for target class tensor([0]). Step 0, Loss: 21.81781768798828\n",
      "Generating Image Number: 7 for target class tensor([0]). Step 50, Loss: 20.147354125976562\n",
      "Generating Image Number: 7 for target class tensor([0]). Step 100, Loss: 18.72065544128418\n",
      "Generating Image Number: 7 for target class tensor([0]). Step 150, Loss: 18.08982276916504\n",
      "Generating Image Number: 7 for target class tensor([0]). Step 200, Loss: 17.63030433654785\n",
      "Generating Image Number: 7 for target class tensor([0]). Step 250, Loss: 17.119943618774414\n",
      "Generating Image Number: 7 for target class tensor([0]). Step 300, Loss: 16.606184005737305\n",
      "Generating Image Number: 7 for target class tensor([0]). Step 350, Loss: 16.000835418701172\n",
      "Generating Image Number: 7 for target class tensor([0]). Step 400, Loss: 15.258426666259766\n",
      "Generating Image Number: 7 for target class tensor([0]). Step 450, Loss: 14.631402969360352\n",
      "Generating Image Number: 8 for target class tensor([0]). Step 0, Loss: 41.14453887939453\n",
      "Generating Image Number: 8 for target class tensor([0]). Step 50, Loss: 27.557783126831055\n",
      "Generating Image Number: 8 for target class tensor([0]). Step 100, Loss: 24.120546340942383\n",
      "Generating Image Number: 8 for target class tensor([0]). Step 150, Loss: 23.14792823791504\n",
      "Generating Image Number: 8 for target class tensor([0]). Step 200, Loss: 22.25000762939453\n",
      "Generating Image Number: 8 for target class tensor([0]). Step 250, Loss: 21.398136138916016\n",
      "Generating Image Number: 8 for target class tensor([0]). Step 300, Loss: 20.600139617919922\n",
      "Generating Image Number: 8 for target class tensor([0]). Step 350, Loss: 20.031118392944336\n",
      "Generating Image Number: 8 for target class tensor([0]). Step 400, Loss: 19.534936904907227\n",
      "Generating Image Number: 8 for target class tensor([0]). Step 450, Loss: 18.48337745666504\n",
      "Generating Image Number: 9 for target class tensor([0]). Step 0, Loss: 38.19647216796875\n",
      "Generating Image Number: 9 for target class tensor([0]). Step 50, Loss: 25.186458587646484\n",
      "Generating Image Number: 9 for target class tensor([0]). Step 100, Loss: 22.84957504272461\n",
      "Generating Image Number: 9 for target class tensor([0]). Step 150, Loss: 20.887075424194336\n",
      "Generating Image Number: 9 for target class tensor([0]). Step 200, Loss: 18.90207290649414\n",
      "Generating Image Number: 9 for target class tensor([0]). Step 250, Loss: 17.22357177734375\n",
      "Generating Image Number: 9 for target class tensor([0]). Step 300, Loss: 16.10654067993164\n",
      "Generating Image Number: 9 for target class tensor([0]). Step 350, Loss: 15.503085136413574\n",
      "Generating Image Number: 9 for target class tensor([0]). Step 400, Loss: 14.487935066223145\n",
      "Generating Image Number: 9 for target class tensor([0]). Step 450, Loss: 13.664701461791992\n",
      "Generating Image Number: 10 for target class tensor([0]). Step 0, Loss: 49.46949768066406\n",
      "Generating Image Number: 10 for target class tensor([0]). Step 50, Loss: 26.422521591186523\n",
      "Generating Image Number: 10 for target class tensor([0]). Step 100, Loss: 23.71894645690918\n",
      "Generating Image Number: 10 for target class tensor([0]). Step 150, Loss: 22.34792137145996\n",
      "Generating Image Number: 10 for target class tensor([0]). Step 200, Loss: 20.87717628479004\n",
      "Generating Image Number: 10 for target class tensor([0]). Step 250, Loss: 19.869853973388672\n",
      "Generating Image Number: 10 for target class tensor([0]). Step 300, Loss: 18.9393367767334\n",
      "Generating Image Number: 10 for target class tensor([0]). Step 350, Loss: 18.06127166748047\n",
      "Generating Image Number: 10 for target class tensor([0]). Step 400, Loss: 17.39350700378418\n",
      "Generating Image Number: 10 for target class tensor([0]). Step 450, Loss: 16.79292869567871\n",
      "Generating Image Number: 11 for target class tensor([0]). Step 0, Loss: 36.444740295410156\n",
      "Generating Image Number: 11 for target class tensor([0]). Step 50, Loss: 25.936111450195312\n",
      "Generating Image Number: 11 for target class tensor([0]). Step 100, Loss: 25.181636810302734\n",
      "Generating Image Number: 11 for target class tensor([0]). Step 150, Loss: 24.39223861694336\n",
      "Generating Image Number: 11 for target class tensor([0]). Step 200, Loss: 23.69719696044922\n",
      "Generating Image Number: 11 for target class tensor([0]). Step 250, Loss: 23.05777359008789\n",
      "Generating Image Number: 11 for target class tensor([0]). Step 300, Loss: 22.276535034179688\n",
      "Generating Image Number: 11 for target class tensor([0]). Step 350, Loss: 20.109704971313477\n",
      "Generating Image Number: 11 for target class tensor([0]). Step 400, Loss: 17.685306549072266\n",
      "Generating Image Number: 11 for target class tensor([0]). Step 450, Loss: 16.119102478027344\n",
      "Generating Image Number: 12 for target class tensor([0]). Step 0, Loss: 32.52490234375\n",
      "Generating Image Number: 12 for target class tensor([0]). Step 50, Loss: 23.22452735900879\n",
      "Generating Image Number: 12 for target class tensor([0]). Step 100, Loss: 21.056856155395508\n",
      "Generating Image Number: 12 for target class tensor([0]). Step 150, Loss: 19.863351821899414\n",
      "Generating Image Number: 12 for target class tensor([0]). Step 200, Loss: 18.51262092590332\n",
      "Generating Image Number: 12 for target class tensor([0]). Step 250, Loss: 17.082382202148438\n",
      "Generating Image Number: 12 for target class tensor([0]). Step 300, Loss: 16.32172966003418\n",
      "Generating Image Number: 12 for target class tensor([0]). Step 350, Loss: 15.61649227142334\n",
      "Generating Image Number: 12 for target class tensor([0]). Step 400, Loss: 15.12078857421875\n",
      "Generating Image Number: 12 for target class tensor([0]). Step 450, Loss: 14.621687889099121\n",
      "Generating Image Number: 13 for target class tensor([0]). Step 0, Loss: 46.66010665893555\n",
      "Generating Image Number: 13 for target class tensor([0]). Step 50, Loss: 25.004798889160156\n",
      "Generating Image Number: 13 for target class tensor([0]). Step 100, Loss: 22.4805850982666\n",
      "Generating Image Number: 13 for target class tensor([0]). Step 150, Loss: 20.194150924682617\n",
      "Generating Image Number: 13 for target class tensor([0]). Step 200, Loss: 18.328937530517578\n",
      "Generating Image Number: 13 for target class tensor([0]). Step 250, Loss: 16.66456413269043\n",
      "Generating Image Number: 13 for target class tensor([0]). Step 300, Loss: 14.786377906799316\n",
      "Generating Image Number: 13 for target class tensor([0]). Step 350, Loss: 14.098118782043457\n",
      "Generating Image Number: 13 for target class tensor([0]). Step 400, Loss: 13.781182289123535\n",
      "Generating Image Number: 13 for target class tensor([0]). Step 450, Loss: 13.456575393676758\n",
      "Generating Image Number: 14 for target class tensor([0]). Step 0, Loss: 47.446929931640625\n",
      "Generating Image Number: 14 for target class tensor([0]). Step 50, Loss: 28.477745056152344\n",
      "Generating Image Number: 14 for target class tensor([0]). Step 100, Loss: 25.64862632751465\n",
      "Generating Image Number: 14 for target class tensor([0]). Step 150, Loss: 23.842449188232422\n",
      "Generating Image Number: 14 for target class tensor([0]). Step 200, Loss: 21.946746826171875\n",
      "Generating Image Number: 14 for target class tensor([0]). Step 250, Loss: 20.30913543701172\n",
      "Generating Image Number: 14 for target class tensor([0]). Step 300, Loss: 18.62516975402832\n",
      "Generating Image Number: 14 for target class tensor([0]). Step 350, Loss: 17.187341690063477\n",
      "Generating Image Number: 14 for target class tensor([0]). Step 400, Loss: 16.328989028930664\n",
      "Generating Image Number: 14 for target class tensor([0]). Step 450, Loss: 15.817866325378418\n",
      "Generating Image Number: 15 for target class tensor([0]). Step 0, Loss: 38.77237319946289\n",
      "Generating Image Number: 15 for target class tensor([0]). Step 50, Loss: 21.36865997314453\n",
      "Generating Image Number: 15 for target class tensor([0]). Step 100, Loss: 20.182720184326172\n",
      "Generating Image Number: 15 for target class tensor([0]). Step 150, Loss: 19.480152130126953\n",
      "Generating Image Number: 15 for target class tensor([0]). Step 200, Loss: 19.00730323791504\n",
      "Generating Image Number: 15 for target class tensor([0]). Step 250, Loss: 18.64442253112793\n",
      "Generating Image Number: 15 for target class tensor([0]). Step 300, Loss: 18.2552547454834\n",
      "Generating Image Number: 15 for target class tensor([0]). Step 350, Loss: 17.864564895629883\n",
      "Generating Image Number: 15 for target class tensor([0]). Step 400, Loss: 17.52958106994629\n",
      "Generating Image Number: 15 for target class tensor([0]). Step 450, Loss: 17.281293869018555\n",
      "Generating Image Number: 16 for target class tensor([0]). Step 0, Loss: 27.164169311523438\n",
      "Generating Image Number: 16 for target class tensor([0]). Step 50, Loss: 21.95277976989746\n",
      "Generating Image Number: 16 for target class tensor([0]). Step 100, Loss: 18.82415008544922\n",
      "Generating Image Number: 16 for target class tensor([0]). Step 150, Loss: 16.01873207092285\n",
      "Generating Image Number: 16 for target class tensor([0]). Step 200, Loss: 15.040932655334473\n",
      "Generating Image Number: 16 for target class tensor([0]). Step 250, Loss: 14.040044784545898\n",
      "Generating Image Number: 16 for target class tensor([0]). Step 300, Loss: 13.224894523620605\n",
      "Generating Image Number: 16 for target class tensor([0]). Step 350, Loss: 12.64768123626709\n",
      "Generating Image Number: 16 for target class tensor([0]). Step 400, Loss: 12.353006362915039\n",
      "Generating Image Number: 16 for target class tensor([0]). Step 450, Loss: 12.080838203430176\n",
      "Generating Image Number: 17 for target class tensor([0]). Step 0, Loss: 28.65934181213379\n",
      "Generating Image Number: 17 for target class tensor([0]). Step 50, Loss: 24.529630661010742\n",
      "Generating Image Number: 17 for target class tensor([0]). Step 100, Loss: 21.452451705932617\n",
      "Generating Image Number: 17 for target class tensor([0]). Step 150, Loss: 18.800949096679688\n",
      "Generating Image Number: 17 for target class tensor([0]). Step 200, Loss: 15.503395080566406\n",
      "Generating Image Number: 17 for target class tensor([0]). Step 250, Loss: 13.867630958557129\n",
      "Generating Image Number: 17 for target class tensor([0]). Step 300, Loss: 13.135704040527344\n",
      "Generating Image Number: 17 for target class tensor([0]). Step 350, Loss: 12.820948600769043\n",
      "Generating Image Number: 17 for target class tensor([0]). Step 400, Loss: 12.569933891296387\n",
      "Generating Image Number: 17 for target class tensor([0]). Step 450, Loss: 12.412102699279785\n",
      "Generating Image Number: 18 for target class tensor([0]). Step 0, Loss: 28.913681030273438\n",
      "Generating Image Number: 18 for target class tensor([0]). Step 50, Loss: 26.123611450195312\n",
      "Generating Image Number: 18 for target class tensor([0]). Step 100, Loss: 24.299732208251953\n",
      "Generating Image Number: 18 for target class tensor([0]). Step 150, Loss: 23.446266174316406\n",
      "Generating Image Number: 18 for target class tensor([0]). Step 200, Loss: 22.968502044677734\n",
      "Generating Image Number: 18 for target class tensor([0]). Step 250, Loss: 22.52825927734375\n",
      "Generating Image Number: 18 for target class tensor([0]). Step 300, Loss: 22.139827728271484\n",
      "Generating Image Number: 18 for target class tensor([0]). Step 350, Loss: 21.78240394592285\n",
      "Generating Image Number: 18 for target class tensor([0]). Step 400, Loss: 21.538028717041016\n",
      "Generating Image Number: 18 for target class tensor([0]). Step 450, Loss: 21.38676643371582\n",
      "Generating Image Number: 19 for target class tensor([0]). Step 0, Loss: 27.971460342407227\n",
      "Generating Image Number: 19 for target class tensor([0]). Step 50, Loss: 24.378032684326172\n",
      "Generating Image Number: 19 for target class tensor([0]). Step 100, Loss: 22.848325729370117\n",
      "Generating Image Number: 19 for target class tensor([0]). Step 150, Loss: 19.903451919555664\n",
      "Generating Image Number: 19 for target class tensor([0]). Step 200, Loss: 15.993001937866211\n",
      "Generating Image Number: 19 for target class tensor([0]). Step 250, Loss: 13.650306701660156\n",
      "Generating Image Number: 19 for target class tensor([0]). Step 300, Loss: 13.103808403015137\n",
      "Generating Image Number: 19 for target class tensor([0]). Step 350, Loss: 12.861286163330078\n",
      "Generating Image Number: 19 for target class tensor([0]). Step 400, Loss: 12.687946319580078\n",
      "Generating Image Number: 19 for target class tensor([0]). Step 450, Loss: 12.590611457824707\n",
      "Generating Image Number: 20 for target class tensor([0]). Step 0, Loss: 32.59581756591797\n",
      "Generating Image Number: 20 for target class tensor([0]). Step 50, Loss: 23.953706741333008\n",
      "Generating Image Number: 20 for target class tensor([0]). Step 100, Loss: 22.388032913208008\n",
      "Generating Image Number: 20 for target class tensor([0]). Step 150, Loss: 20.389257431030273\n",
      "Generating Image Number: 20 for target class tensor([0]). Step 200, Loss: 18.773780822753906\n",
      "Generating Image Number: 20 for target class tensor([0]). Step 250, Loss: 17.121402740478516\n",
      "Generating Image Number: 20 for target class tensor([0]). Step 300, Loss: 15.266491889953613\n",
      "Generating Image Number: 20 for target class tensor([0]). Step 350, Loss: 14.413558006286621\n",
      "Generating Image Number: 20 for target class tensor([0]). Step 400, Loss: 14.054840087890625\n",
      "Generating Image Number: 20 for target class tensor([0]). Step 450, Loss: 13.81805419921875\n"
     ]
    }
   ],
   "source": [
    "class0_optimized_latent_vectors = recover_images(img_count, 0, latent_vectors)"
   ]
  },
  {
   "cell_type": "code",
   "execution_count": 21,
   "id": "6718334c-2bb1-42a3-bd8c-6aea38e6b59c",
   "metadata": {
    "scrolled": true
   },
   "outputs": [
    {
     "name": "stdout",
     "output_type": "stream",
     "text": [
      "Generating Image Number: 1 for target class tensor([1]). Step 0, Loss: 18.73330307006836\n",
      "Generating Image Number: 1 for target class tensor([1]). Step 50, Loss: 2.42142653465271\n",
      "Generating Image Number: 1 for target class tensor([1]). Step 100, Loss: 1.232511281967163\n",
      "Generating Image Number: 1 for target class tensor([1]). Step 150, Loss: 0.7849006652832031\n",
      "Generating Image Number: 1 for target class tensor([1]). Step 200, Loss: 0.5283805727958679\n",
      "Generating Image Number: 1 for target class tensor([1]). Step 250, Loss: 0.3708883821964264\n",
      "Generating Image Number: 1 for target class tensor([1]). Step 300, Loss: 0.26571765542030334\n",
      "Generating Image Number: 1 for target class tensor([1]). Step 350, Loss: 0.19637471437454224\n",
      "Generating Image Number: 1 for target class tensor([1]). Step 400, Loss: 0.136600062251091\n",
      "Generating Image Number: 1 for target class tensor([1]). Step 450, Loss: 0.10382355004549026\n",
      "Generating Image Number: 2 for target class tensor([1]). Step 0, Loss: 19.098037719726562\n",
      "Generating Image Number: 2 for target class tensor([1]). Step 50, Loss: 1.766237497329712\n",
      "Generating Image Number: 2 for target class tensor([1]). Step 100, Loss: 0.5090704560279846\n",
      "Generating Image Number: 2 for target class tensor([1]). Step 150, Loss: 0.25567230582237244\n",
      "Generating Image Number: 2 for target class tensor([1]). Step 200, Loss: 0.16608330607414246\n",
      "Generating Image Number: 2 for target class tensor([1]). Step 250, Loss: 0.10697844624519348\n",
      "Generating Image Number: 2 for target class tensor([1]). Step 300, Loss: 0.07216211408376694\n",
      "Generating Image Number: 2 for target class tensor([1]). Step 350, Loss: 0.050106797367334366\n",
      "Generating Image Number: 2 for target class tensor([1]). Step 400, Loss: 0.03829959034919739\n",
      "Generating Image Number: 2 for target class tensor([1]). Step 450, Loss: 0.030899731442332268\n",
      "Generating Image Number: 3 for target class tensor([1]). Step 0, Loss: 25.586570739746094\n",
      "Generating Image Number: 3 for target class tensor([1]). Step 50, Loss: 24.649995803833008\n",
      "Generating Image Number: 3 for target class tensor([1]). Step 100, Loss: 23.962848663330078\n",
      "Generating Image Number: 3 for target class tensor([1]). Step 150, Loss: 23.563064575195312\n",
      "Generating Image Number: 3 for target class tensor([1]). Step 200, Loss: 23.288890838623047\n",
      "Generating Image Number: 3 for target class tensor([1]). Step 250, Loss: 23.04425811767578\n",
      "Generating Image Number: 3 for target class tensor([1]). Step 300, Loss: 22.740680694580078\n",
      "Generating Image Number: 3 for target class tensor([1]). Step 350, Loss: 22.35826873779297\n",
      "Generating Image Number: 3 for target class tensor([1]). Step 400, Loss: 21.9397029876709\n",
      "Generating Image Number: 3 for target class tensor([1]). Step 450, Loss: 21.636856079101562\n",
      "Generating Image Number: 4 for target class tensor([1]). Step 0, Loss: 33.50276184082031\n",
      "Generating Image Number: 4 for target class tensor([1]). Step 50, Loss: 30.911230087280273\n",
      "Generating Image Number: 4 for target class tensor([1]). Step 100, Loss: 30.725452423095703\n",
      "Generating Image Number: 4 for target class tensor([1]). Step 150, Loss: 30.586637496948242\n",
      "Generating Image Number: 4 for target class tensor([1]). Step 200, Loss: 30.464365005493164\n",
      "Generating Image Number: 4 for target class tensor([1]). Step 250, Loss: 30.371292114257812\n",
      "Generating Image Number: 4 for target class tensor([1]). Step 300, Loss: 30.280040740966797\n",
      "Generating Image Number: 4 for target class tensor([1]). Step 350, Loss: 30.183944702148438\n",
      "Generating Image Number: 4 for target class tensor([1]). Step 400, Loss: 30.1146297454834\n",
      "Generating Image Number: 4 for target class tensor([1]). Step 450, Loss: 30.041019439697266\n",
      "Generating Image Number: 5 for target class tensor([1]). Step 0, Loss: 36.96360778808594\n",
      "Generating Image Number: 5 for target class tensor([1]). Step 50, Loss: 34.475948333740234\n",
      "Generating Image Number: 5 for target class tensor([1]). Step 100, Loss: 33.749290466308594\n",
      "Generating Image Number: 5 for target class tensor([1]). Step 150, Loss: 33.18107604980469\n",
      "Generating Image Number: 5 for target class tensor([1]). Step 200, Loss: 32.56757354736328\n",
      "Generating Image Number: 5 for target class tensor([1]). Step 250, Loss: 32.0638427734375\n",
      "Generating Image Number: 5 for target class tensor([1]). Step 300, Loss: 30.333568572998047\n",
      "Generating Image Number: 5 for target class tensor([1]). Step 350, Loss: 28.958141326904297\n",
      "Generating Image Number: 5 for target class tensor([1]). Step 400, Loss: 28.087520599365234\n",
      "Generating Image Number: 5 for target class tensor([1]). Step 450, Loss: 27.63469696044922\n",
      "Generating Image Number: 6 for target class tensor([1]). Step 0, Loss: 38.73001480102539\n",
      "Generating Image Number: 6 for target class tensor([1]). Step 50, Loss: 7.762472152709961\n",
      "Generating Image Number: 6 for target class tensor([1]). Step 100, Loss: 3.098121166229248\n",
      "Generating Image Number: 6 for target class tensor([1]). Step 150, Loss: 1.8953834772109985\n",
      "Generating Image Number: 6 for target class tensor([1]). Step 200, Loss: 1.2489895820617676\n",
      "Generating Image Number: 6 for target class tensor([1]). Step 250, Loss: 0.8453570008277893\n",
      "Generating Image Number: 6 for target class tensor([1]). Step 300, Loss: 0.544675350189209\n",
      "Generating Image Number: 6 for target class tensor([1]). Step 350, Loss: 0.38675928115844727\n",
      "Generating Image Number: 6 for target class tensor([1]). Step 400, Loss: 0.2945769429206848\n",
      "Generating Image Number: 6 for target class tensor([1]). Step 450, Loss: 0.23121502995491028\n",
      "Generating Image Number: 7 for target class tensor([1]). Step 0, Loss: 99.86939239501953\n",
      "Generating Image Number: 7 for target class tensor([1]). Step 50, Loss: 14.927070617675781\n",
      "Generating Image Number: 7 for target class tensor([1]). Step 100, Loss: 7.482116222381592\n",
      "Generating Image Number: 7 for target class tensor([1]). Step 150, Loss: 6.625120639801025\n",
      "Generating Image Number: 7 for target class tensor([1]). Step 200, Loss: 5.62238883972168\n",
      "Generating Image Number: 7 for target class tensor([1]). Step 250, Loss: 5.0452656745910645\n",
      "Generating Image Number: 7 for target class tensor([1]). Step 300, Loss: 4.559277534484863\n",
      "Generating Image Number: 7 for target class tensor([1]). Step 350, Loss: 4.166057586669922\n",
      "Generating Image Number: 7 for target class tensor([1]). Step 400, Loss: 3.848820209503174\n",
      "Generating Image Number: 7 for target class tensor([1]). Step 450, Loss: 3.4890875816345215\n",
      "Generating Image Number: 8 for target class tensor([1]). Step 0, Loss: 103.15951538085938\n",
      "Generating Image Number: 8 for target class tensor([1]). Step 50, Loss: 30.037700653076172\n",
      "Generating Image Number: 8 for target class tensor([1]). Step 100, Loss: 26.061235427856445\n",
      "Generating Image Number: 8 for target class tensor([1]). Step 150, Loss: 25.42832374572754\n",
      "Generating Image Number: 8 for target class tensor([1]). Step 200, Loss: 24.76403045654297\n",
      "Generating Image Number: 8 for target class tensor([1]). Step 250, Loss: 24.323387145996094\n",
      "Generating Image Number: 8 for target class tensor([1]). Step 300, Loss: 21.47451400756836\n",
      "Generating Image Number: 8 for target class tensor([1]). Step 350, Loss: 12.150765419006348\n",
      "Generating Image Number: 8 for target class tensor([1]). Step 400, Loss: 2.0748515129089355\n",
      "Generating Image Number: 8 for target class tensor([1]). Step 450, Loss: 1.552674412727356\n",
      "Generating Image Number: 9 for target class tensor([1]). Step 0, Loss: 25.902297973632812\n",
      "Generating Image Number: 9 for target class tensor([1]). Step 50, Loss: 1.7997620105743408\n",
      "Generating Image Number: 9 for target class tensor([1]). Step 100, Loss: 0.30123186111450195\n",
      "Generating Image Number: 9 for target class tensor([1]). Step 150, Loss: 0.15782886743545532\n",
      "Generating Image Number: 9 for target class tensor([1]). Step 200, Loss: 0.11015599220991135\n",
      "Generating Image Number: 9 for target class tensor([1]). Step 250, Loss: 0.09323543310165405\n",
      "Generating Image Number: 9 for target class tensor([1]). Step 300, Loss: 0.08133311569690704\n",
      "Generating Image Number: 9 for target class tensor([1]). Step 350, Loss: 0.0711216852068901\n",
      "Generating Image Number: 9 for target class tensor([1]). Step 400, Loss: 0.06504493206739426\n",
      "Generating Image Number: 9 for target class tensor([1]). Step 450, Loss: 0.05959636718034744\n",
      "Generating Image Number: 10 for target class tensor([1]). Step 0, Loss: 13.048381805419922\n",
      "Generating Image Number: 10 for target class tensor([1]). Step 50, Loss: 1.814340353012085\n",
      "Generating Image Number: 10 for target class tensor([1]). Step 100, Loss: 0.6682503819465637\n",
      "Generating Image Number: 10 for target class tensor([1]). Step 150, Loss: 0.31856200098991394\n",
      "Generating Image Number: 10 for target class tensor([1]). Step 200, Loss: 0.1926458775997162\n",
      "Generating Image Number: 10 for target class tensor([1]). Step 250, Loss: 0.11950770020484924\n",
      "Generating Image Number: 10 for target class tensor([1]). Step 300, Loss: 0.08186366409063339\n",
      "Generating Image Number: 10 for target class tensor([1]). Step 350, Loss: 0.06378044933080673\n",
      "Generating Image Number: 10 for target class tensor([1]). Step 400, Loss: 0.05097607150673866\n",
      "Generating Image Number: 10 for target class tensor([1]). Step 450, Loss: 0.04225407540798187\n",
      "Generating Image Number: 11 for target class tensor([1]). Step 0, Loss: 32.81895446777344\n",
      "Generating Image Number: 11 for target class tensor([1]). Step 50, Loss: 3.0378124713897705\n",
      "Generating Image Number: 11 for target class tensor([1]). Step 100, Loss: 0.8638654351234436\n",
      "Generating Image Number: 11 for target class tensor([1]). Step 150, Loss: 0.3153429627418518\n",
      "Generating Image Number: 11 for target class tensor([1]). Step 200, Loss: 0.21949855983257294\n",
      "Generating Image Number: 11 for target class tensor([1]). Step 250, Loss: 0.1635134220123291\n",
      "Generating Image Number: 11 for target class tensor([1]). Step 300, Loss: 0.12973682582378387\n",
      "Generating Image Number: 11 for target class tensor([1]). Step 350, Loss: 0.10895928740501404\n",
      "Generating Image Number: 11 for target class tensor([1]). Step 400, Loss: 0.09255582094192505\n",
      "Generating Image Number: 11 for target class tensor([1]). Step 450, Loss: 0.08048764616250992\n",
      "Generating Image Number: 12 for target class tensor([1]). Step 0, Loss: 22.426780700683594\n",
      "Generating Image Number: 12 for target class tensor([1]). Step 50, Loss: 3.7613885402679443\n",
      "Generating Image Number: 12 for target class tensor([1]). Step 100, Loss: 0.8954290151596069\n",
      "Generating Image Number: 12 for target class tensor([1]). Step 150, Loss: 0.3133799135684967\n",
      "Generating Image Number: 12 for target class tensor([1]). Step 200, Loss: 0.19396623969078064\n",
      "Generating Image Number: 12 for target class tensor([1]). Step 250, Loss: 0.13493694365024567\n",
      "Generating Image Number: 12 for target class tensor([1]). Step 300, Loss: 0.10033490508794785\n",
      "Generating Image Number: 12 for target class tensor([1]). Step 350, Loss: 0.07995261996984482\n",
      "Generating Image Number: 12 for target class tensor([1]). Step 400, Loss: 0.06406952440738678\n",
      "Generating Image Number: 12 for target class tensor([1]). Step 450, Loss: 0.04993455484509468\n",
      "Generating Image Number: 13 for target class tensor([1]). Step 0, Loss: 34.28264617919922\n",
      "Generating Image Number: 13 for target class tensor([1]). Step 50, Loss: 32.23760986328125\n",
      "Generating Image Number: 13 for target class tensor([1]). Step 100, Loss: 31.998863220214844\n",
      "Generating Image Number: 13 for target class tensor([1]). Step 150, Loss: 31.795976638793945\n",
      "Generating Image Number: 13 for target class tensor([1]). Step 200, Loss: 31.671489715576172\n",
      "Generating Image Number: 13 for target class tensor([1]). Step 250, Loss: 31.569387435913086\n",
      "Generating Image Number: 13 for target class tensor([1]). Step 300, Loss: 31.481752395629883\n",
      "Generating Image Number: 13 for target class tensor([1]). Step 350, Loss: 31.40690803527832\n",
      "Generating Image Number: 13 for target class tensor([1]). Step 400, Loss: 31.29598045349121\n",
      "Generating Image Number: 13 for target class tensor([1]). Step 450, Loss: 31.202056884765625\n",
      "Generating Image Number: 14 for target class tensor([1]). Step 0, Loss: 17.753562927246094\n",
      "Generating Image Number: 14 for target class tensor([1]). Step 50, Loss: 12.66987133026123\n",
      "Generating Image Number: 14 for target class tensor([1]). Step 100, Loss: 9.683560371398926\n",
      "Generating Image Number: 14 for target class tensor([1]). Step 150, Loss: 6.460659503936768\n",
      "Generating Image Number: 14 for target class tensor([1]). Step 200, Loss: 5.284294605255127\n",
      "Generating Image Number: 14 for target class tensor([1]). Step 250, Loss: 4.767610549926758\n",
      "Generating Image Number: 14 for target class tensor([1]). Step 300, Loss: 3.9878790378570557\n",
      "Generating Image Number: 14 for target class tensor([1]). Step 350, Loss: 3.1582717895507812\n",
      "Generating Image Number: 14 for target class tensor([1]). Step 400, Loss: 2.717665433883667\n",
      "Generating Image Number: 14 for target class tensor([1]). Step 450, Loss: 2.4177639484405518\n",
      "Generating Image Number: 15 for target class tensor([1]). Step 0, Loss: 7.218097686767578\n",
      "Generating Image Number: 15 for target class tensor([1]). Step 50, Loss: 0.18214604258537292\n",
      "Generating Image Number: 15 for target class tensor([1]). Step 100, Loss: 0.09057626873254776\n",
      "Generating Image Number: 15 for target class tensor([1]). Step 150, Loss: 0.06418412178754807\n",
      "Generating Image Number: 15 for target class tensor([1]). Step 200, Loss: 0.0487685464322567\n",
      "Generating Image Number: 15 for target class tensor([1]). Step 250, Loss: 0.03965386375784874\n",
      "Generating Image Number: 15 for target class tensor([1]). Step 300, Loss: 0.03412308543920517\n",
      "Generating Image Number: 15 for target class tensor([1]). Step 350, Loss: 0.029255729168653488\n",
      "Generating Image Number: 15 for target class tensor([1]). Step 400, Loss: 0.024822257459163666\n",
      "Generating Image Number: 15 for target class tensor([1]). Step 450, Loss: 0.021817084401845932\n",
      "Generating Image Number: 16 for target class tensor([1]). Step 0, Loss: 95.43936157226562\n",
      "Generating Image Number: 16 for target class tensor([1]). Step 50, Loss: 2.343214988708496\n",
      "Generating Image Number: 16 for target class tensor([1]). Step 100, Loss: 0.9785365462303162\n",
      "Generating Image Number: 16 for target class tensor([1]). Step 150, Loss: 0.38686808943748474\n",
      "Generating Image Number: 16 for target class tensor([1]). Step 200, Loss: 0.2009413093328476\n",
      "Generating Image Number: 16 for target class tensor([1]). Step 250, Loss: 0.17079101502895355\n",
      "Generating Image Number: 16 for target class tensor([1]). Step 300, Loss: 0.15841235220432281\n",
      "Generating Image Number: 16 for target class tensor([1]). Step 350, Loss: 0.15022651851177216\n",
      "Generating Image Number: 16 for target class tensor([1]). Step 400, Loss: 0.14162607491016388\n",
      "Generating Image Number: 16 for target class tensor([1]). Step 450, Loss: 0.1353374719619751\n",
      "Generating Image Number: 17 for target class tensor([1]). Step 0, Loss: 18.819795608520508\n",
      "Generating Image Number: 17 for target class tensor([1]). Step 50, Loss: 13.944061279296875\n",
      "Generating Image Number: 17 for target class tensor([1]). Step 100, Loss: 12.185750007629395\n",
      "Generating Image Number: 17 for target class tensor([1]). Step 150, Loss: 7.985764980316162\n",
      "Generating Image Number: 17 for target class tensor([1]). Step 200, Loss: 6.285383701324463\n",
      "Generating Image Number: 17 for target class tensor([1]). Step 250, Loss: 5.138036727905273\n",
      "Generating Image Number: 17 for target class tensor([1]). Step 300, Loss: 4.039137363433838\n",
      "Generating Image Number: 17 for target class tensor([1]). Step 350, Loss: 3.5736024379730225\n",
      "Generating Image Number: 17 for target class tensor([1]). Step 400, Loss: 3.3271219730377197\n",
      "Generating Image Number: 17 for target class tensor([1]). Step 450, Loss: 3.1322009563446045\n",
      "Generating Image Number: 18 for target class tensor([1]). Step 0, Loss: 31.46356964111328\n",
      "Generating Image Number: 18 for target class tensor([1]). Step 50, Loss: 18.109806060791016\n",
      "Generating Image Number: 18 for target class tensor([1]). Step 100, Loss: 16.719337463378906\n",
      "Generating Image Number: 18 for target class tensor([1]). Step 150, Loss: 15.222972869873047\n",
      "Generating Image Number: 18 for target class tensor([1]). Step 200, Loss: 14.342514991760254\n",
      "Generating Image Number: 18 for target class tensor([1]). Step 250, Loss: 13.605137825012207\n",
      "Generating Image Number: 18 for target class tensor([1]). Step 300, Loss: 13.094917297363281\n",
      "Generating Image Number: 18 for target class tensor([1]). Step 350, Loss: 12.682849884033203\n",
      "Generating Image Number: 18 for target class tensor([1]). Step 400, Loss: 12.310050964355469\n",
      "Generating Image Number: 18 for target class tensor([1]). Step 450, Loss: 12.064520835876465\n",
      "Generating Image Number: 19 for target class tensor([1]). Step 0, Loss: 34.114715576171875\n",
      "Generating Image Number: 19 for target class tensor([1]). Step 50, Loss: 1.004392147064209\n",
      "Generating Image Number: 19 for target class tensor([1]). Step 100, Loss: 0.2452063411474228\n",
      "Generating Image Number: 19 for target class tensor([1]). Step 150, Loss: 0.16610248386859894\n",
      "Generating Image Number: 19 for target class tensor([1]). Step 200, Loss: 0.12447130680084229\n",
      "Generating Image Number: 19 for target class tensor([1]). Step 250, Loss: 0.0969555601477623\n",
      "Generating Image Number: 19 for target class tensor([1]). Step 300, Loss: 0.07833248376846313\n",
      "Generating Image Number: 19 for target class tensor([1]). Step 350, Loss: 0.06526697427034378\n",
      "Generating Image Number: 19 for target class tensor([1]). Step 400, Loss: 0.05556364730000496\n",
      "Generating Image Number: 19 for target class tensor([1]). Step 450, Loss: 0.04761470481753349\n",
      "Generating Image Number: 20 for target class tensor([1]). Step 0, Loss: 18.82737922668457\n",
      "Generating Image Number: 20 for target class tensor([1]). Step 50, Loss: 14.571907997131348\n",
      "Generating Image Number: 20 for target class tensor([1]). Step 100, Loss: 13.243221282958984\n",
      "Generating Image Number: 20 for target class tensor([1]). Step 150, Loss: 12.657439231872559\n",
      "Generating Image Number: 20 for target class tensor([1]). Step 200, Loss: 12.040200233459473\n",
      "Generating Image Number: 20 for target class tensor([1]). Step 250, Loss: 11.467549324035645\n",
      "Generating Image Number: 20 for target class tensor([1]). Step 300, Loss: 11.127703666687012\n",
      "Generating Image Number: 20 for target class tensor([1]). Step 350, Loss: 10.94179630279541\n",
      "Generating Image Number: 20 for target class tensor([1]). Step 400, Loss: 10.663568496704102\n",
      "Generating Image Number: 20 for target class tensor([1]). Step 450, Loss: 10.479841232299805\n"
     ]
    }
   ],
   "source": [
    "torch.manual_seed(100)\n",
    "latent_vectors = torch.randn(img_count, z_dim, 1, 1, requires_grad=True) # Start with 20 random noises\n",
    "class1_optimized_latent_vectors = recover_images(img_count, 1, latent_vectors)"
   ]
  },
  {
   "cell_type": "code",
   "execution_count": 69,
   "id": "1c8af686-b1ff-419d-946d-2447773e47c9",
   "metadata": {
    "scrolled": true
   },
   "outputs": [
    {
     "name": "stdout",
     "output_type": "stream",
     "text": [
      "Generating Image Number: 1 for target class tensor([2]). Step 0, Loss: 2.4447994232177734\n",
      "Generating Image Number: 1 for target class tensor([2]). Step 50, Loss: 0.1160188764333725\n",
      "Generating Image Number: 1 for target class tensor([2]). Step 100, Loss: 0.10151795297861099\n",
      "Generating Image Number: 1 for target class tensor([2]). Step 150, Loss: 0.09561695903539658\n",
      "Generating Image Number: 1 for target class tensor([2]). Step 200, Loss: 0.09028539061546326\n",
      "Generating Image Number: 1 for target class tensor([2]). Step 250, Loss: 0.08562341332435608\n",
      "Generating Image Number: 1 for target class tensor([2]). Step 300, Loss: 0.08144860714673996\n",
      "Generating Image Number: 1 for target class tensor([2]). Step 350, Loss: 0.07747763395309448\n",
      "Generating Image Number: 1 for target class tensor([2]). Step 400, Loss: 0.07342558354139328\n",
      "Generating Image Number: 1 for target class tensor([2]). Step 450, Loss: 0.06932946294546127\n",
      "Generating Image Number: 2 for target class tensor([2]). Step 0, Loss: 3.195918321609497\n",
      "Generating Image Number: 2 for target class tensor([2]). Step 50, Loss: 1.8769571781158447\n",
      "Generating Image Number: 2 for target class tensor([2]). Step 100, Loss: 1.5998790264129639\n",
      "Generating Image Number: 2 for target class tensor([2]). Step 150, Loss: 1.448681354522705\n",
      "Generating Image Number: 2 for target class tensor([2]). Step 200, Loss: 1.3519270420074463\n",
      "Generating Image Number: 2 for target class tensor([2]). Step 250, Loss: 1.3010741472244263\n",
      "Generating Image Number: 2 for target class tensor([2]). Step 300, Loss: 1.2376362085342407\n",
      "Generating Image Number: 2 for target class tensor([2]). Step 350, Loss: 1.1849035024642944\n",
      "Generating Image Number: 2 for target class tensor([2]). Step 400, Loss: 1.1479592323303223\n",
      "Generating Image Number: 2 for target class tensor([2]). Step 450, Loss: 0.982759952545166\n",
      "Generating Image Number: 3 for target class tensor([2]). Step 0, Loss: 0.6864023804664612\n",
      "Generating Image Number: 3 for target class tensor([2]). Step 50, Loss: 0.14197573065757751\n",
      "Generating Image Number: 3 for target class tensor([2]). Step 100, Loss: 0.12037239968776703\n",
      "Generating Image Number: 3 for target class tensor([2]). Step 150, Loss: 0.09841910749673843\n",
      "Generating Image Number: 3 for target class tensor([2]). Step 200, Loss: 0.08113769441843033\n",
      "Generating Image Number: 3 for target class tensor([2]). Step 250, Loss: 0.07104485481977463\n",
      "Generating Image Number: 3 for target class tensor([2]). Step 300, Loss: 0.06349319219589233\n",
      "Generating Image Number: 3 for target class tensor([2]). Step 350, Loss: 0.05690804123878479\n",
      "Generating Image Number: 3 for target class tensor([2]). Step 400, Loss: 0.051706038415431976\n",
      "Generating Image Number: 3 for target class tensor([2]). Step 450, Loss: 0.0475611686706543\n",
      "Generating Image Number: 4 for target class tensor([2]). Step 0, Loss: 0.844318151473999\n",
      "Generating Image Number: 4 for target class tensor([2]). Step 50, Loss: 0.6476540565490723\n",
      "Generating Image Number: 4 for target class tensor([2]). Step 100, Loss: 0.34652602672576904\n",
      "Generating Image Number: 4 for target class tensor([2]). Step 150, Loss: 0.24776554107666016\n",
      "Generating Image Number: 4 for target class tensor([2]). Step 200, Loss: 0.1992906928062439\n",
      "Generating Image Number: 4 for target class tensor([2]). Step 250, Loss: 0.17350637912750244\n",
      "Generating Image Number: 4 for target class tensor([2]). Step 300, Loss: 0.15826429426670074\n",
      "Generating Image Number: 4 for target class tensor([2]). Step 350, Loss: 0.14763092994689941\n",
      "Generating Image Number: 4 for target class tensor([2]). Step 400, Loss: 0.13949277997016907\n",
      "Generating Image Number: 4 for target class tensor([2]). Step 450, Loss: 0.13204990327358246\n",
      "Generating Image Number: 5 for target class tensor([2]). Step 0, Loss: 2.6885111331939697\n",
      "Generating Image Number: 5 for target class tensor([2]). Step 50, Loss: 1.7024856805801392\n",
      "Generating Image Number: 5 for target class tensor([2]). Step 100, Loss: 1.3432495594024658\n",
      "Generating Image Number: 5 for target class tensor([2]). Step 150, Loss: 1.046753168106079\n",
      "Generating Image Number: 5 for target class tensor([2]). Step 200, Loss: 0.869268000125885\n",
      "Generating Image Number: 5 for target class tensor([2]). Step 250, Loss: 0.7542829513549805\n",
      "Generating Image Number: 5 for target class tensor([2]). Step 300, Loss: 0.6889890432357788\n",
      "Generating Image Number: 5 for target class tensor([2]). Step 350, Loss: 0.6440833210945129\n",
      "Generating Image Number: 5 for target class tensor([2]). Step 400, Loss: 0.6122076511383057\n",
      "Generating Image Number: 5 for target class tensor([2]). Step 450, Loss: 0.5835407972335815\n",
      "Generating Image Number: 6 for target class tensor([2]). Step 0, Loss: 2.8550262451171875\n",
      "Generating Image Number: 6 for target class tensor([2]). Step 50, Loss: 0.45417848229408264\n",
      "Generating Image Number: 6 for target class tensor([2]). Step 100, Loss: 0.3170241117477417\n",
      "Generating Image Number: 6 for target class tensor([2]). Step 150, Loss: 0.22692058980464935\n",
      "Generating Image Number: 6 for target class tensor([2]). Step 200, Loss: 0.17950180172920227\n",
      "Generating Image Number: 6 for target class tensor([2]). Step 250, Loss: 0.143447607755661\n",
      "Generating Image Number: 6 for target class tensor([2]). Step 300, Loss: 0.11766233295202255\n",
      "Generating Image Number: 6 for target class tensor([2]). Step 350, Loss: 0.09778635948896408\n",
      "Generating Image Number: 6 for target class tensor([2]). Step 400, Loss: 0.08187904208898544\n",
      "Generating Image Number: 6 for target class tensor([2]). Step 450, Loss: 0.07146058976650238\n",
      "Generating Image Number: 7 for target class tensor([2]). Step 0, Loss: 2.983720302581787\n",
      "Generating Image Number: 7 for target class tensor([2]). Step 50, Loss: 0.381583034992218\n",
      "Generating Image Number: 7 for target class tensor([2]). Step 100, Loss: 0.16099536418914795\n",
      "Generating Image Number: 7 for target class tensor([2]). Step 150, Loss: 0.1334417313337326\n",
      "Generating Image Number: 7 for target class tensor([2]). Step 200, Loss: 0.11205819994211197\n",
      "Generating Image Number: 7 for target class tensor([2]). Step 250, Loss: 0.09613414108753204\n",
      "Generating Image Number: 7 for target class tensor([2]). Step 300, Loss: 0.08424894511699677\n",
      "Generating Image Number: 7 for target class tensor([2]). Step 350, Loss: 0.07431212067604065\n",
      "Generating Image Number: 7 for target class tensor([2]). Step 400, Loss: 0.0662611871957779\n",
      "Generating Image Number: 7 for target class tensor([2]). Step 450, Loss: 0.0591091513633728\n",
      "Generating Image Number: 8 for target class tensor([2]). Step 0, Loss: 2.4165167808532715\n",
      "Generating Image Number: 8 for target class tensor([2]). Step 50, Loss: 0.08485187590122223\n",
      "Generating Image Number: 8 for target class tensor([2]). Step 100, Loss: 0.07577236741781235\n",
      "Generating Image Number: 8 for target class tensor([2]). Step 150, Loss: 0.06733343750238419\n",
      "Generating Image Number: 8 for target class tensor([2]). Step 200, Loss: 0.058430448174476624\n",
      "Generating Image Number: 8 for target class tensor([2]). Step 250, Loss: 0.05064862221479416\n",
      "Generating Image Number: 8 for target class tensor([2]). Step 300, Loss: 0.045949362218379974\n",
      "Generating Image Number: 8 for target class tensor([2]). Step 350, Loss: 0.042912665754556656\n",
      "Generating Image Number: 8 for target class tensor([2]). Step 400, Loss: 0.04091556370258331\n",
      "Generating Image Number: 8 for target class tensor([2]). Step 450, Loss: 0.03937552124261856\n",
      "Generating Image Number: 9 for target class tensor([2]). Step 0, Loss: 1.0559577941894531\n",
      "Generating Image Number: 9 for target class tensor([2]). Step 50, Loss: 0.14139893651008606\n",
      "Generating Image Number: 9 for target class tensor([2]). Step 100, Loss: 0.11798349767923355\n",
      "Generating Image Number: 9 for target class tensor([2]). Step 150, Loss: 0.10634477436542511\n",
      "Generating Image Number: 9 for target class tensor([2]). Step 200, Loss: 0.09565325081348419\n",
      "Generating Image Number: 9 for target class tensor([2]). Step 250, Loss: 0.08569716662168503\n",
      "Generating Image Number: 9 for target class tensor([2]). Step 300, Loss: 0.07681062072515488\n",
      "Generating Image Number: 9 for target class tensor([2]). Step 350, Loss: 0.07017707824707031\n",
      "Generating Image Number: 9 for target class tensor([2]). Step 400, Loss: 0.06525100767612457\n",
      "Generating Image Number: 9 for target class tensor([2]). Step 450, Loss: 0.0610186904668808\n",
      "Generating Image Number: 10 for target class tensor([2]). Step 0, Loss: 2.7419567108154297\n",
      "Generating Image Number: 10 for target class tensor([2]). Step 50, Loss: 1.7965829372406006\n",
      "Generating Image Number: 10 for target class tensor([2]). Step 100, Loss: 1.4892826080322266\n",
      "Generating Image Number: 10 for target class tensor([2]). Step 150, Loss: 1.2882120609283447\n",
      "Generating Image Number: 10 for target class tensor([2]). Step 200, Loss: 1.1175603866577148\n",
      "Generating Image Number: 10 for target class tensor([2]). Step 250, Loss: 0.9351240992546082\n",
      "Generating Image Number: 10 for target class tensor([2]). Step 300, Loss: 0.8167086839675903\n",
      "Generating Image Number: 10 for target class tensor([2]). Step 350, Loss: 0.7587400674819946\n",
      "Generating Image Number: 10 for target class tensor([2]). Step 400, Loss: 0.7025851011276245\n",
      "Generating Image Number: 10 for target class tensor([2]). Step 450, Loss: 0.6661756038665771\n",
      "Generating Image Number: 11 for target class tensor([2]). Step 0, Loss: 1.0574074983596802\n",
      "Generating Image Number: 11 for target class tensor([2]). Step 50, Loss: 0.6243036985397339\n",
      "Generating Image Number: 11 for target class tensor([2]). Step 100, Loss: 0.5596027374267578\n",
      "Generating Image Number: 11 for target class tensor([2]). Step 150, Loss: 0.5094729065895081\n",
      "Generating Image Number: 11 for target class tensor([2]). Step 200, Loss: 0.46726366877555847\n",
      "Generating Image Number: 11 for target class tensor([2]). Step 250, Loss: 0.4368772804737091\n",
      "Generating Image Number: 11 for target class tensor([2]). Step 300, Loss: 0.39910608530044556\n",
      "Generating Image Number: 11 for target class tensor([2]). Step 350, Loss: 0.17707277834415436\n",
      "Generating Image Number: 11 for target class tensor([2]). Step 400, Loss: 0.08636242896318436\n",
      "Generating Image Number: 11 for target class tensor([2]). Step 450, Loss: 0.05931296572089195\n",
      "Generating Image Number: 12 for target class tensor([2]). Step 0, Loss: 24.42078399658203\n",
      "Generating Image Number: 12 for target class tensor([2]). Step 50, Loss: 23.598478317260742\n",
      "Generating Image Number: 12 for target class tensor([2]). Step 100, Loss: 22.957836151123047\n",
      "Generating Image Number: 12 for target class tensor([2]). Step 150, Loss: 0.16837747395038605\n",
      "Generating Image Number: 12 for target class tensor([2]). Step 200, Loss: 0.1643243283033371\n",
      "Generating Image Number: 12 for target class tensor([2]). Step 250, Loss: 0.1612042933702469\n",
      "Generating Image Number: 12 for target class tensor([2]). Step 300, Loss: 0.15850014984607697\n",
      "Generating Image Number: 12 for target class tensor([2]). Step 350, Loss: 0.15514977276325226\n",
      "Generating Image Number: 12 for target class tensor([2]). Step 400, Loss: 0.15198945999145508\n",
      "Generating Image Number: 12 for target class tensor([2]). Step 450, Loss: 0.1485651731491089\n",
      "Generating Image Number: 13 for target class tensor([2]). Step 0, Loss: 3.7290420532226562\n",
      "Generating Image Number: 13 for target class tensor([2]). Step 50, Loss: 1.6164555549621582\n",
      "Generating Image Number: 13 for target class tensor([2]). Step 100, Loss: 1.394599199295044\n",
      "Generating Image Number: 13 for target class tensor([2]). Step 150, Loss: 1.2217445373535156\n",
      "Generating Image Number: 13 for target class tensor([2]). Step 200, Loss: 1.046258568763733\n",
      "Generating Image Number: 13 for target class tensor([2]). Step 250, Loss: 0.906352162361145\n",
      "Generating Image Number: 13 for target class tensor([2]). Step 300, Loss: 0.8178997039794922\n",
      "Generating Image Number: 13 for target class tensor([2]). Step 350, Loss: 0.7469614148139954\n",
      "Generating Image Number: 13 for target class tensor([2]). Step 400, Loss: 0.7102724313735962\n",
      "Generating Image Number: 13 for target class tensor([2]). Step 450, Loss: 0.6789456009864807\n",
      "Generating Image Number: 14 for target class tensor([2]). Step 0, Loss: 1.8641033172607422\n",
      "Generating Image Number: 14 for target class tensor([2]). Step 50, Loss: 0.07895573228597641\n",
      "Generating Image Number: 14 for target class tensor([2]). Step 100, Loss: 0.07210887968540192\n",
      "Generating Image Number: 14 for target class tensor([2]). Step 150, Loss: 0.06434699892997742\n",
      "Generating Image Number: 14 for target class tensor([2]). Step 200, Loss: 0.05820441246032715\n",
      "Generating Image Number: 14 for target class tensor([2]). Step 250, Loss: 0.05327322334051132\n",
      "Generating Image Number: 14 for target class tensor([2]). Step 300, Loss: 0.04852350801229477\n",
      "Generating Image Number: 14 for target class tensor([2]). Step 350, Loss: 0.04472500458359718\n",
      "Generating Image Number: 14 for target class tensor([2]). Step 400, Loss: 0.041692815721035004\n",
      "Generating Image Number: 14 for target class tensor([2]). Step 450, Loss: 0.039120376110076904\n",
      "Generating Image Number: 15 for target class tensor([2]). Step 0, Loss: 1.6698904037475586\n",
      "Generating Image Number: 15 for target class tensor([2]). Step 50, Loss: 0.06399092078208923\n",
      "Generating Image Number: 15 for target class tensor([2]). Step 100, Loss: 0.053048618137836456\n",
      "Generating Image Number: 15 for target class tensor([2]). Step 150, Loss: 0.04666116088628769\n",
      "Generating Image Number: 15 for target class tensor([2]). Step 200, Loss: 0.04202183708548546\n",
      "Generating Image Number: 15 for target class tensor([2]). Step 250, Loss: 0.038379669189453125\n",
      "Generating Image Number: 15 for target class tensor([2]). Step 300, Loss: 0.035394083708524704\n",
      "Generating Image Number: 15 for target class tensor([2]). Step 350, Loss: 0.03289211541414261\n",
      "Generating Image Number: 15 for target class tensor([2]). Step 400, Loss: 0.030295979231595993\n",
      "Generating Image Number: 15 for target class tensor([2]). Step 450, Loss: 0.028160270303487778\n",
      "Generating Image Number: 16 for target class tensor([2]). Step 0, Loss: 1.3328959941864014\n",
      "Generating Image Number: 16 for target class tensor([2]). Step 50, Loss: 0.07832685858011246\n",
      "Generating Image Number: 16 for target class tensor([2]). Step 100, Loss: 0.07032042741775513\n",
      "Generating Image Number: 16 for target class tensor([2]). Step 150, Loss: 0.06321592628955841\n",
      "Generating Image Number: 16 for target class tensor([2]). Step 200, Loss: 0.056789226830005646\n",
      "Generating Image Number: 16 for target class tensor([2]). Step 250, Loss: 0.051731619983911514\n",
      "Generating Image Number: 16 for target class tensor([2]). Step 300, Loss: 0.04681064933538437\n",
      "Generating Image Number: 16 for target class tensor([2]). Step 350, Loss: 0.04275631159543991\n",
      "Generating Image Number: 16 for target class tensor([2]). Step 400, Loss: 0.03850091993808746\n",
      "Generating Image Number: 16 for target class tensor([2]). Step 450, Loss: 0.03568940609693527\n",
      "Generating Image Number: 17 for target class tensor([2]). Step 0, Loss: 0.42530137300491333\n",
      "Generating Image Number: 17 for target class tensor([2]). Step 50, Loss: 0.2012869119644165\n",
      "Generating Image Number: 17 for target class tensor([2]). Step 100, Loss: 0.15050417184829712\n",
      "Generating Image Number: 17 for target class tensor([2]). Step 150, Loss: 0.12686052918434143\n",
      "Generating Image Number: 17 for target class tensor([2]). Step 200, Loss: 0.10496791452169418\n",
      "Generating Image Number: 17 for target class tensor([2]). Step 250, Loss: 0.0896848514676094\n",
      "Generating Image Number: 17 for target class tensor([2]). Step 300, Loss: 0.07995834201574326\n",
      "Generating Image Number: 17 for target class tensor([2]). Step 350, Loss: 0.0740806832909584\n",
      "Generating Image Number: 17 for target class tensor([2]). Step 400, Loss: 0.06890905648469925\n",
      "Generating Image Number: 17 for target class tensor([2]). Step 450, Loss: 0.0639432817697525\n",
      "Generating Image Number: 18 for target class tensor([2]). Step 0, Loss: 22.93972396850586\n",
      "Generating Image Number: 18 for target class tensor([2]). Step 50, Loss: 0.10494634509086609\n",
      "Generating Image Number: 18 for target class tensor([2]). Step 100, Loss: 0.09775327891111374\n",
      "Generating Image Number: 18 for target class tensor([2]). Step 150, Loss: 0.0910908430814743\n",
      "Generating Image Number: 18 for target class tensor([2]). Step 200, Loss: 0.07515187561511993\n",
      "Generating Image Number: 18 for target class tensor([2]). Step 250, Loss: 0.05885651707649231\n",
      "Generating Image Number: 18 for target class tensor([2]). Step 300, Loss: 0.057481762021780014\n",
      "Generating Image Number: 18 for target class tensor([2]). Step 350, Loss: 0.05674653872847557\n",
      "Generating Image Number: 18 for target class tensor([2]). Step 400, Loss: 0.05605755373835564\n",
      "Generating Image Number: 18 for target class tensor([2]). Step 450, Loss: 0.05531417578458786\n",
      "Generating Image Number: 19 for target class tensor([2]). Step 0, Loss: 2.4124088287353516\n",
      "Generating Image Number: 19 for target class tensor([2]). Step 50, Loss: 1.6914750337600708\n",
      "Generating Image Number: 19 for target class tensor([2]). Step 100, Loss: 1.327864646911621\n",
      "Generating Image Number: 19 for target class tensor([2]). Step 150, Loss: 1.0668339729309082\n",
      "Generating Image Number: 19 for target class tensor([2]). Step 200, Loss: 0.8901327848434448\n",
      "Generating Image Number: 19 for target class tensor([2]). Step 250, Loss: 0.7674658298492432\n",
      "Generating Image Number: 19 for target class tensor([2]). Step 300, Loss: 0.6788492798805237\n",
      "Generating Image Number: 19 for target class tensor([2]). Step 350, Loss: 0.6240311861038208\n",
      "Generating Image Number: 19 for target class tensor([2]). Step 400, Loss: 0.5889670252799988\n",
      "Generating Image Number: 19 for target class tensor([2]). Step 450, Loss: 0.562362015247345\n",
      "Generating Image Number: 20 for target class tensor([2]). Step 0, Loss: 0.3746148943901062\n",
      "Generating Image Number: 20 for target class tensor([2]). Step 50, Loss: 0.11325929313898087\n",
      "Generating Image Number: 20 for target class tensor([2]). Step 100, Loss: 0.08157024532556534\n",
      "Generating Image Number: 20 for target class tensor([2]). Step 150, Loss: 0.06327680498361588\n",
      "Generating Image Number: 20 for target class tensor([2]). Step 200, Loss: 0.0518871434032917\n",
      "Generating Image Number: 20 for target class tensor([2]). Step 250, Loss: 0.043143440037965775\n",
      "Generating Image Number: 20 for target class tensor([2]). Step 300, Loss: 0.037084318697452545\n",
      "Generating Image Number: 20 for target class tensor([2]). Step 350, Loss: 0.03293687105178833\n",
      "Generating Image Number: 20 for target class tensor([2]). Step 400, Loss: 0.029459351673722267\n",
      "Generating Image Number: 20 for target class tensor([2]). Step 450, Loss: 0.026871800422668457\n"
     ]
    }
   ],
   "source": [
    "torch.manual_seed(200)\n",
    "latent_vectors = torch.randn(img_count, z_dim, 1, 1, requires_grad=True) # Start with 20 random noises\n",
    "class2_optimized_latent_vectors = recover_images(img_count, 2, latent_vectors)"
   ]
  },
  {
   "cell_type": "code",
   "execution_count": 23,
   "id": "0381b36d-6c92-43bc-b776-1eefd3eab451",
   "metadata": {
    "scrolled": true
   },
   "outputs": [
    {
     "name": "stdout",
     "output_type": "stream",
     "text": [
      "Generating Image Number: 1 for target class tensor([3]). Step 0, Loss: 0.0\n",
      "Generating Image Number: 1 for target class tensor([3]). Step 50, Loss: 1.4305012882687151e-05\n",
      "Generating Image Number: 1 for target class tensor([3]). Step 100, Loss: 1.1324817933200393e-05\n",
      "Generating Image Number: 1 for target class tensor([3]). Step 150, Loss: 1.0609570381348021e-05\n",
      "Generating Image Number: 1 for target class tensor([3]). Step 200, Loss: 1.0013530300057027e-05\n",
      "Generating Image Number: 1 for target class tensor([3]). Step 250, Loss: 9.298280929215252e-06\n",
      "Generating Image Number: 1 for target class tensor([3]). Step 300, Loss: 8.34461570775602e-06\n",
      "Generating Image Number: 1 for target class tensor([3]). Step 350, Loss: 7.510157047363464e-06\n",
      "Generating Image Number: 1 for target class tensor([3]). Step 400, Loss: 6.437280717364047e-06\n",
      "Generating Image Number: 1 for target class tensor([3]). Step 450, Loss: 5.722029527532868e-06\n",
      "Generating Image Number: 2 for target class tensor([3]). Step 0, Loss: 15.088800430297852\n",
      "Generating Image Number: 2 for target class tensor([3]). Step 50, Loss: 0.6971884965896606\n",
      "Generating Image Number: 2 for target class tensor([3]). Step 100, Loss: 0.24931497871875763\n",
      "Generating Image Number: 2 for target class tensor([3]). Step 150, Loss: 0.1524236500263214\n",
      "Generating Image Number: 2 for target class tensor([3]). Step 200, Loss: 0.11401741951704025\n",
      "Generating Image Number: 2 for target class tensor([3]). Step 250, Loss: 0.08842235803604126\n",
      "Generating Image Number: 2 for target class tensor([3]). Step 300, Loss: 0.07168842107057571\n",
      "Generating Image Number: 2 for target class tensor([3]). Step 350, Loss: 0.05817123129963875\n",
      "Generating Image Number: 2 for target class tensor([3]). Step 400, Loss: 0.04850045591592789\n",
      "Generating Image Number: 2 for target class tensor([3]). Step 450, Loss: 0.04192821681499481\n",
      "Generating Image Number: 3 for target class tensor([3]). Step 0, Loss: 0.08222179114818573\n",
      "Generating Image Number: 3 for target class tensor([3]). Step 50, Loss: 0.0005538121913559735\n",
      "Generating Image Number: 3 for target class tensor([3]). Step 100, Loss: 0.0004917366313748062\n",
      "Generating Image Number: 3 for target class tensor([3]). Step 150, Loss: 0.0004371640970930457\n",
      "Generating Image Number: 3 for target class tensor([3]). Step 200, Loss: 0.00037245964631438255\n",
      "Generating Image Number: 3 for target class tensor([3]). Step 250, Loss: 0.00033384948619641364\n",
      "Generating Image Number: 3 for target class tensor([3]). Step 300, Loss: 0.0002932118659373373\n",
      "Generating Image Number: 3 for target class tensor([3]). Step 350, Loss: 0.0002603192115202546\n",
      "Generating Image Number: 3 for target class tensor([3]). Step 400, Loss: 0.00022921319759916514\n",
      "Generating Image Number: 3 for target class tensor([3]). Step 450, Loss: 0.00020072828920092434\n",
      "Generating Image Number: 4 for target class tensor([3]). Step 0, Loss: 26.84815216064453\n",
      "Generating Image Number: 4 for target class tensor([3]). Step 50, Loss: 25.546993255615234\n",
      "Generating Image Number: 4 for target class tensor([3]). Step 100, Loss: 24.608537673950195\n",
      "Generating Image Number: 4 for target class tensor([3]). Step 150, Loss: 23.893409729003906\n",
      "Generating Image Number: 4 for target class tensor([3]). Step 200, Loss: 23.297775268554688\n",
      "Generating Image Number: 4 for target class tensor([3]). Step 250, Loss: 22.961029052734375\n",
      "Generating Image Number: 4 for target class tensor([3]). Step 300, Loss: 22.732807159423828\n",
      "Generating Image Number: 4 for target class tensor([3]). Step 350, Loss: 22.525617599487305\n",
      "Generating Image Number: 4 for target class tensor([3]). Step 400, Loss: 22.392837524414062\n",
      "Generating Image Number: 4 for target class tensor([3]). Step 450, Loss: 22.322805404663086\n",
      "Generating Image Number: 5 for target class tensor([3]). Step 0, Loss: 21.344676971435547\n",
      "Generating Image Number: 5 for target class tensor([3]). Step 50, Loss: 8.357157707214355\n",
      "Generating Image Number: 5 for target class tensor([3]). Step 100, Loss: 7.591574192047119\n",
      "Generating Image Number: 5 for target class tensor([3]). Step 150, Loss: 7.013429164886475\n",
      "Generating Image Number: 5 for target class tensor([3]). Step 200, Loss: 6.5437798500061035\n",
      "Generating Image Number: 5 for target class tensor([3]). Step 250, Loss: 5.974476337432861\n",
      "Generating Image Number: 5 for target class tensor([3]). Step 300, Loss: 5.52608060836792\n",
      "Generating Image Number: 5 for target class tensor([3]). Step 350, Loss: 5.210249423980713\n",
      "Generating Image Number: 5 for target class tensor([3]). Step 400, Loss: 4.976264476776123\n",
      "Generating Image Number: 5 for target class tensor([3]). Step 450, Loss: 4.80320930480957\n",
      "Generating Image Number: 6 for target class tensor([3]). Step 0, Loss: 5.246092796325684\n",
      "Generating Image Number: 6 for target class tensor([3]). Step 50, Loss: 3.480850500636734e-05\n",
      "Generating Image Number: 6 for target class tensor([3]). Step 100, Loss: 1.597391747054644e-05\n",
      "Generating Image Number: 6 for target class tensor([3]). Step 150, Loss: 1.4424220353248529e-05\n",
      "Generating Image Number: 6 for target class tensor([3]). Step 200, Loss: 1.2278481335670222e-05\n",
      "Generating Image Number: 6 for target class tensor([3]). Step 250, Loss: 1.0013530300057027e-05\n",
      "Generating Image Number: 6 for target class tensor([3]). Step 300, Loss: 9.059865078597795e-06\n",
      "Generating Image Number: 6 for target class tensor([3]). Step 350, Loss: 8.4638240878121e-06\n",
      "Generating Image Number: 6 for target class tensor([3]). Step 400, Loss: 7.867782187531702e-06\n",
      "Generating Image Number: 6 for target class tensor([3]). Step 450, Loss: 6.9141146923357155e-06\n",
      "Generating Image Number: 7 for target class tensor([3]). Step 0, Loss: 10.941269874572754\n",
      "Generating Image Number: 7 for target class tensor([3]). Step 50, Loss: 0.0\n",
      "Generating Image Number: 7 for target class tensor([3]). Step 100, Loss: 0.0\n",
      "Generating Image Number: 7 for target class tensor([3]). Step 150, Loss: 0.0\n",
      "Generating Image Number: 7 for target class tensor([3]). Step 200, Loss: 0.0\n",
      "Generating Image Number: 7 for target class tensor([3]). Step 250, Loss: 0.0\n",
      "Generating Image Number: 7 for target class tensor([3]). Step 300, Loss: 0.0\n",
      "Generating Image Number: 7 for target class tensor([3]). Step 350, Loss: 0.0\n",
      "Generating Image Number: 7 for target class tensor([3]). Step 400, Loss: 0.0\n",
      "Generating Image Number: 7 for target class tensor([3]). Step 450, Loss: 0.0\n",
      "Generating Image Number: 8 for target class tensor([3]). Step 0, Loss: 15.526662826538086\n",
      "Generating Image Number: 8 for target class tensor([3]). Step 50, Loss: 8.755584716796875\n",
      "Generating Image Number: 8 for target class tensor([3]). Step 100, Loss: 7.47281551361084\n",
      "Generating Image Number: 8 for target class tensor([3]). Step 150, Loss: 6.224836826324463\n",
      "Generating Image Number: 8 for target class tensor([3]). Step 200, Loss: 4.397452354431152\n",
      "Generating Image Number: 8 for target class tensor([3]). Step 250, Loss: 2.4686224460601807\n",
      "Generating Image Number: 8 for target class tensor([3]). Step 300, Loss: 0.11444257199764252\n",
      "Generating Image Number: 8 for target class tensor([3]). Step 350, Loss: 0.02221916802227497\n",
      "Generating Image Number: 8 for target class tensor([3]). Step 400, Loss: 0.014666832983493805\n",
      "Generating Image Number: 8 for target class tensor([3]). Step 450, Loss: 0.01241244189441204\n",
      "Generating Image Number: 9 for target class tensor([3]). Step 0, Loss: 21.03256607055664\n",
      "Generating Image Number: 9 for target class tensor([3]). Step 50, Loss: 0.022245284169912338\n",
      "Generating Image Number: 9 for target class tensor([3]). Step 100, Loss: 0.0004757702990900725\n",
      "Generating Image Number: 9 for target class tensor([3]). Step 150, Loss: 0.00037949037505313754\n",
      "Generating Image Number: 9 for target class tensor([3]). Step 200, Loss: 0.00035851728171110153\n",
      "Generating Image Number: 9 for target class tensor([3]). Step 250, Loss: 0.0003412379592191428\n",
      "Generating Image Number: 9 for target class tensor([3]). Step 300, Loss: 0.00032658010604791343\n",
      "Generating Image Number: 9 for target class tensor([3]). Step 350, Loss: 0.0003122795606032014\n",
      "Generating Image Number: 9 for target class tensor([3]). Step 400, Loss: 0.00029523781267926097\n",
      "Generating Image Number: 9 for target class tensor([3]). Step 450, Loss: 0.00027021096320822835\n",
      "Generating Image Number: 10 for target class tensor([3]). Step 0, Loss: 10.698870658874512\n",
      "Generating Image Number: 10 for target class tensor([3]). Step 50, Loss: 7.835916042327881\n",
      "Generating Image Number: 10 for target class tensor([3]). Step 100, Loss: 6.87315559387207\n",
      "Generating Image Number: 10 for target class tensor([3]). Step 150, Loss: 5.937601089477539\n",
      "Generating Image Number: 10 for target class tensor([3]). Step 200, Loss: 5.067695617675781\n",
      "Generating Image Number: 10 for target class tensor([3]). Step 250, Loss: 4.457518577575684\n",
      "Generating Image Number: 10 for target class tensor([3]). Step 300, Loss: 4.0364813804626465\n",
      "Generating Image Number: 10 for target class tensor([3]). Step 350, Loss: 3.4086854457855225\n",
      "Generating Image Number: 10 for target class tensor([3]). Step 400, Loss: 0.31922781467437744\n",
      "Generating Image Number: 10 for target class tensor([3]). Step 450, Loss: 0.07968813180923462\n",
      "Generating Image Number: 11 for target class tensor([3]). Step 0, Loss: 21.159835815429688\n",
      "Generating Image Number: 11 for target class tensor([3]). Step 50, Loss: 9.265057563781738\n",
      "Generating Image Number: 11 for target class tensor([3]). Step 100, Loss: 8.504410743713379\n",
      "Generating Image Number: 11 for target class tensor([3]). Step 150, Loss: 7.8824286460876465\n",
      "Generating Image Number: 11 for target class tensor([3]). Step 200, Loss: 7.189120292663574\n",
      "Generating Image Number: 11 for target class tensor([3]). Step 250, Loss: 6.6198506355285645\n",
      "Generating Image Number: 11 for target class tensor([3]). Step 300, Loss: 6.0875163078308105\n",
      "Generating Image Number: 11 for target class tensor([3]). Step 350, Loss: 5.749665260314941\n",
      "Generating Image Number: 11 for target class tensor([3]). Step 400, Loss: 5.509642601013184\n",
      "Generating Image Number: 11 for target class tensor([3]). Step 450, Loss: 5.018675327301025\n",
      "Generating Image Number: 12 for target class tensor([3]). Step 0, Loss: 32.15350341796875\n",
      "Generating Image Number: 12 for target class tensor([3]). Step 50, Loss: 3.9094510078430176\n",
      "Generating Image Number: 12 for target class tensor([3]). Step 100, Loss: 0.0\n",
      "Generating Image Number: 12 for target class tensor([3]). Step 150, Loss: 0.0\n",
      "Generating Image Number: 12 for target class tensor([3]). Step 200, Loss: 0.0\n",
      "Generating Image Number: 12 for target class tensor([3]). Step 250, Loss: 0.0\n",
      "Generating Image Number: 12 for target class tensor([3]). Step 300, Loss: 0.0\n",
      "Generating Image Number: 12 for target class tensor([3]). Step 350, Loss: 0.0\n",
      "Generating Image Number: 12 for target class tensor([3]). Step 400, Loss: 0.0\n",
      "Generating Image Number: 12 for target class tensor([3]). Step 450, Loss: 0.0\n",
      "Generating Image Number: 13 for target class tensor([3]). Step 0, Loss: 26.896883010864258\n",
      "Generating Image Number: 13 for target class tensor([3]). Step 50, Loss: 8.979399681091309\n",
      "Generating Image Number: 13 for target class tensor([3]). Step 100, Loss: 7.817584037780762\n",
      "Generating Image Number: 13 for target class tensor([3]). Step 150, Loss: 6.812108993530273\n",
      "Generating Image Number: 13 for target class tensor([3]). Step 200, Loss: 5.444781303405762\n",
      "Generating Image Number: 13 for target class tensor([3]). Step 250, Loss: 2.8553836345672607\n",
      "Generating Image Number: 13 for target class tensor([3]). Step 300, Loss: 0.07467716187238693\n",
      "Generating Image Number: 13 for target class tensor([3]). Step 350, Loss: 0.04928046092391014\n",
      "Generating Image Number: 13 for target class tensor([3]). Step 400, Loss: 0.03292129933834076\n",
      "Generating Image Number: 13 for target class tensor([3]). Step 450, Loss: 0.020214030519127846\n",
      "Generating Image Number: 14 for target class tensor([3]). Step 0, Loss: 17.762083053588867\n",
      "Generating Image Number: 14 for target class tensor([3]). Step 50, Loss: 8.820338249206543\n",
      "Generating Image Number: 14 for target class tensor([3]). Step 100, Loss: 7.4570159912109375\n",
      "Generating Image Number: 14 for target class tensor([3]). Step 150, Loss: 6.573589324951172\n",
      "Generating Image Number: 14 for target class tensor([3]). Step 200, Loss: 5.935066223144531\n",
      "Generating Image Number: 14 for target class tensor([3]). Step 250, Loss: 5.659557342529297\n",
      "Generating Image Number: 14 for target class tensor([3]). Step 300, Loss: 5.348755836486816\n",
      "Generating Image Number: 14 for target class tensor([3]). Step 350, Loss: 5.115357398986816\n",
      "Generating Image Number: 14 for target class tensor([3]). Step 400, Loss: 4.9730963706970215\n",
      "Generating Image Number: 14 for target class tensor([3]). Step 450, Loss: 4.767095565795898\n",
      "Generating Image Number: 15 for target class tensor([3]). Step 0, Loss: 13.036537170410156\n",
      "Generating Image Number: 15 for target class tensor([3]). Step 50, Loss: 8.289027214050293\n",
      "Generating Image Number: 15 for target class tensor([3]). Step 100, Loss: 7.332159042358398\n",
      "Generating Image Number: 15 for target class tensor([3]). Step 150, Loss: 6.475453853607178\n",
      "Generating Image Number: 15 for target class tensor([3]). Step 200, Loss: 5.778382778167725\n",
      "Generating Image Number: 15 for target class tensor([3]). Step 250, Loss: 5.3433732986450195\n",
      "Generating Image Number: 15 for target class tensor([3]). Step 300, Loss: 4.774323463439941\n",
      "Generating Image Number: 15 for target class tensor([3]). Step 350, Loss: 4.2382636070251465\n",
      "Generating Image Number: 15 for target class tensor([3]). Step 400, Loss: 3.401716709136963\n",
      "Generating Image Number: 15 for target class tensor([3]). Step 450, Loss: 1.3417860269546509\n",
      "Generating Image Number: 16 for target class tensor([3]). Step 0, Loss: 27.93255043029785\n",
      "Generating Image Number: 16 for target class tensor([3]). Step 50, Loss: 25.91482162475586\n",
      "Generating Image Number: 16 for target class tensor([3]). Step 100, Loss: 21.401073455810547\n",
      "Generating Image Number: 16 for target class tensor([3]). Step 150, Loss: 19.342073440551758\n",
      "Generating Image Number: 16 for target class tensor([3]). Step 200, Loss: 17.65111541748047\n",
      "Generating Image Number: 16 for target class tensor([3]). Step 250, Loss: 15.895087242126465\n",
      "Generating Image Number: 16 for target class tensor([3]). Step 300, Loss: 0.0029037713538855314\n",
      "Generating Image Number: 16 for target class tensor([3]). Step 350, Loss: 6.460934673668817e-05\n",
      "Generating Image Number: 16 for target class tensor([3]). Step 400, Loss: 5.94836674281396e-05\n",
      "Generating Image Number: 16 for target class tensor([3]). Step 450, Loss: 5.4596363042946905e-05\n",
      "Generating Image Number: 17 for target class tensor([3]). Step 0, Loss: 13.987817764282227\n",
      "Generating Image Number: 17 for target class tensor([3]). Step 50, Loss: 2.658331868587993e-05\n",
      "Generating Image Number: 17 for target class tensor([3]). Step 100, Loss: 5.960462772236497e-07\n",
      "Generating Image Number: 17 for target class tensor([3]). Step 150, Loss: 5.960462772236497e-07\n",
      "Generating Image Number: 17 for target class tensor([3]). Step 200, Loss: 5.960462772236497e-07\n",
      "Generating Image Number: 17 for target class tensor([3]). Step 250, Loss: 5.960462772236497e-07\n",
      "Generating Image Number: 17 for target class tensor([3]). Step 300, Loss: 5.960462772236497e-07\n",
      "Generating Image Number: 17 for target class tensor([3]). Step 350, Loss: 5.960462772236497e-07\n",
      "Generating Image Number: 17 for target class tensor([3]). Step 400, Loss: 5.960462772236497e-07\n",
      "Generating Image Number: 17 for target class tensor([3]). Step 450, Loss: 4.768370445162873e-07\n",
      "Generating Image Number: 18 for target class tensor([3]). Step 0, Loss: 33.57733917236328\n",
      "Generating Image Number: 18 for target class tensor([3]). Step 50, Loss: 9.248085021972656\n",
      "Generating Image Number: 18 for target class tensor([3]). Step 100, Loss: 8.413206100463867\n",
      "Generating Image Number: 18 for target class tensor([3]). Step 150, Loss: 7.614932537078857\n",
      "Generating Image Number: 18 for target class tensor([3]). Step 200, Loss: 7.019295692443848\n",
      "Generating Image Number: 18 for target class tensor([3]). Step 250, Loss: 5.562042236328125\n",
      "Generating Image Number: 18 for target class tensor([3]). Step 300, Loss: 2.413259983062744\n",
      "Generating Image Number: 18 for target class tensor([3]). Step 350, Loss: 0.47301292419433594\n",
      "Generating Image Number: 18 for target class tensor([3]). Step 400, Loss: 0.31548792123794556\n",
      "Generating Image Number: 18 for target class tensor([3]). Step 450, Loss: 0.23179419338703156\n",
      "Generating Image Number: 19 for target class tensor([3]). Step 0, Loss: 36.75459671020508\n",
      "Generating Image Number: 19 for target class tensor([3]). Step 50, Loss: 26.76081657409668\n",
      "Generating Image Number: 19 for target class tensor([3]). Step 100, Loss: 26.339828491210938\n",
      "Generating Image Number: 19 for target class tensor([3]). Step 150, Loss: 26.221729278564453\n",
      "Generating Image Number: 19 for target class tensor([3]). Step 200, Loss: 26.09787368774414\n",
      "Generating Image Number: 19 for target class tensor([3]). Step 250, Loss: 25.963682174682617\n",
      "Generating Image Number: 19 for target class tensor([3]). Step 300, Loss: 25.83224868774414\n",
      "Generating Image Number: 19 for target class tensor([3]). Step 350, Loss: 25.720083236694336\n",
      "Generating Image Number: 19 for target class tensor([3]). Step 400, Loss: 25.616846084594727\n",
      "Generating Image Number: 19 for target class tensor([3]). Step 450, Loss: 25.552745819091797\n",
      "Generating Image Number: 20 for target class tensor([3]). Step 0, Loss: 20.715057373046875\n",
      "Generating Image Number: 20 for target class tensor([3]). Step 50, Loss: 7.152555099310121e-07\n",
      "Generating Image Number: 20 for target class tensor([3]). Step 100, Loss: 2.3841855067985307e-07\n",
      "Generating Image Number: 20 for target class tensor([3]). Step 150, Loss: 2.3841855067985307e-07\n",
      "Generating Image Number: 20 for target class tensor([3]). Step 200, Loss: 2.3841855067985307e-07\n",
      "Generating Image Number: 20 for target class tensor([3]). Step 250, Loss: 2.3841855067985307e-07\n",
      "Generating Image Number: 20 for target class tensor([3]). Step 300, Loss: 2.3841855067985307e-07\n",
      "Generating Image Number: 20 for target class tensor([3]). Step 350, Loss: 2.3841855067985307e-07\n",
      "Generating Image Number: 20 for target class tensor([3]). Step 400, Loss: 2.3841855067985307e-07\n",
      "Generating Image Number: 20 for target class tensor([3]). Step 450, Loss: 2.3841855067985307e-07\n"
     ]
    }
   ],
   "source": [
    "torch.manual_seed(300)\n",
    "latent_vectors = torch.randn(img_count, z_dim, 1, 1, requires_grad=True) # Start with 20 random noises\n",
    "class3_optimized_latent_vectors = recover_images(img_count, 3, latent_vectors)"
   ]
  },
  {
   "cell_type": "code",
   "execution_count": 24,
   "id": "ae6425a5-dd86-4e87-8112-883336345ac9",
   "metadata": {},
   "outputs": [],
   "source": [
    "z0_1 = class0_optimized_latent_vectors[0]\n",
    "z0_2 = class0_optimized_latent_vectors[1]\n",
    "z0_3 = class0_optimized_latent_vectors[2]"
   ]
  },
  {
   "cell_type": "code",
   "execution_count": 25,
   "id": "3a6ed4fb-b693-4963-afcf-17a512e50b5f",
   "metadata": {},
   "outputs": [
    {
     "name": "stdout",
     "output_type": "stream",
     "text": [
      "torch.Size([64, 64])\n"
     ]
    }
   ],
   "source": [
    "# Display the generated image\n",
    "img = gen(z0_1.to(device)).squeeze(dim=0).squeeze(dim=0)\n",
    "print(img.shape)"
   ]
  },
  {
   "cell_type": "code",
   "execution_count": 26,
   "id": "88fc9416-c6ca-486b-bd72-63885de78d1c",
   "metadata": {},
   "outputs": [
    {
     "data": {
      "text/plain": [
       "<matplotlib.image.AxesImage at 0x21233a3daf0>"
      ]
     },
     "execution_count": 26,
     "metadata": {},
     "output_type": "execute_result"
    },
    {
     "data": {
      "image/png": "[encoded data removed]",
      "text/plain": [
       "<Figure size 640x480 with 1 Axes>"
      ]
     },
     "metadata": {},
     "output_type": "display_data"
    }
   ],
   "source": [
    "plt.axis(False)\n",
    "plt.title('Recovered Image:')\n",
    "plt.imshow(img.cpu().detach(), cmap='gray')"
   ]
  },
  {
   "cell_type": "code",
   "execution_count": 27,
   "id": "bb0fc370-78c5-495f-b1e7-1239873b4ff8",
   "metadata": {},
   "outputs": [],
   "source": [
    "z1 = class1_optimized_latent_vectors[0]\n",
    "z2 = class1_optimized_latent_vectors[1]\n",
    "z3 = class1_optimized_latent_vectors[2]"
   ]
  },
  {
   "cell_type": "code",
   "execution_count": 28,
   "id": "07f38b7d-14f6-4d63-9efa-cb96ec2e1d35",
   "metadata": {},
   "outputs": [
    {
     "name": "stdout",
     "output_type": "stream",
     "text": [
      "torch.Size([64, 64])\n"
     ]
    }
   ],
   "source": [
    "# Display the generated image\n",
    "img = gen(z1.to(device)).squeeze(dim=0).squeeze(dim=0)\n",
    "print(img.shape)"
   ]
  },
  {
   "cell_type": "code",
   "execution_count": 29,
   "id": "8cad57ff-7961-4078-9dd4-1e0b4879ff56",
   "metadata": {},
   "outputs": [
    {
     "data": {
      "text/plain": [
       "<matplotlib.image.AxesImage at 0x21233bd7640>"
      ]
     },
     "execution_count": 29,
     "metadata": {},
     "output_type": "execute_result"
    },
    {
     "data": {
      "image/png": "[encoded data removed]",
      "text/plain": [
       "<Figure size 640x480 with 1 Axes>"
      ]
     },
     "metadata": {},
     "output_type": "display_data"
    }
   ],
   "source": [
    "plt.axis(False)\n",
    "plt.title('Recovered Image:')\n",
    "plt.imshow(img.cpu().detach(), cmap='gray')"
   ]
  },
  {
   "cell_type": "code",
   "execution_count": 30,
   "id": "52ecd67d-cb2d-44a3-b375-759d63db75b1",
   "metadata": {},
   "outputs": [],
   "source": [
    "                                                            # Dataset Loading\n",
    "# Load the .pkl files in as numpy arrays of pixels\n",
    "def load_tumor_data(file_path):\n",
    "    train_xs = []\n",
    "    train_ys = []\n",
    "    \"\"\" Load Digits Data from pickle data\n",
    "    return:\n",
    "    @xs: numpy.array, (n, c, w, h) \n",
    "    @ys: numpy.array, (n, ), 0-9\n",
    "    \"\"\"\n",
    "    with open(file_path, 'rb') as file:\n",
    "        data = pickle.load(file)\n",
    "        train_xs.append(data[\"data\"])\n",
    "        train_ys.append(data[\"labels\"])\n",
    "    train_xs = np.concatenate(train_xs, axis=0)\n",
    "    train_ys = np.concatenate(train_ys, axis=0)\n",
    "    \n",
    "    return train_xs, train_ys"
   ]
  },
  {
   "cell_type": "code",
   "execution_count": 31,
   "id": "ca72f62f-1eec-4b17-a8ce-fd66781f64f6",
   "metadata": {},
   "outputs": [],
   "source": [
    "# Custom Tumor Dataset\n",
    "class TumorDataset(data.Dataset):\n",
    "    def __init__(self, xs, ys, is_train=True):\n",
    "        self.xs = xs\n",
    "        self.ys = ys\n",
    "\n",
    "        if is_train is True:\n",
    "            self.transform = transforms.Compose([\n",
    "                transforms.ToPILImage(),\n",
    "                transforms.Resize((64, 64)),\n",
    "                transforms.ToTensor(),\n",
    "                transforms.Normalize(\n",
    "                    [0.5],\n",
    "                    [0.5]\n",
    "                )\n",
    "            ])\n",
    "        else:\n",
    "            self.transform = transforms.Compose([\n",
    "                transforms.ToPILImage(),\n",
    "                transforms.Resize((64, 64)),\n",
    "                transforms.ToTensor(),\n",
    "                transforms.Normalize(\n",
    "                    (0.4914, 0.4822, 0.4465),\n",
    "                    (0.2023, 0.1994, 0.2010)\n",
    "                )\n",
    "            ])\n",
    "\n",
    "    def __len__(self):\n",
    "        return len(self.xs)\n",
    "\n",
    "    def __getitem__(self, index):\n",
    "        img = self.xs[index]\n",
    "        #print(img.shape)\n",
    "        label = self.ys[index]\n",
    "\n",
    "        img = img.transpose((1, 2, 0)).astype(np.uint8)\n",
    "        img = self.transform(img)\n",
    "\n",
    "        img = torch.FloatTensor(img)\n",
    "        label = torch.LongTensor([label])[0]\n",
    "        return img, label"
   ]
  },
  {
   "cell_type": "code",
   "execution_count": 32,
   "id": "ceb91588-ef69-4373-b33f-74aed6c246bb",
   "metadata": {},
   "outputs": [],
   "source": [
    "def create_dataset(train_xs, train_ys):\n",
    "    tumor_dataset = TumorDataset(train_xs, train_ys, is_train=True)\n",
    "\n",
    "    return tumor_dataset"
   ]
  },
  {
   "cell_type": "code",
   "execution_count": 33,
   "id": "0415fba0-830c-42c6-bbde-c6958e779fbb",
   "metadata": {},
   "outputs": [],
   "source": [
    "def create_dataloader(dataset):\n",
    "    dataloader = DataLoader(dataset=dataset, batch_size=128, shuffle=True)\n",
    "\n",
    "    return dataloader"
   ]
  },
  {
   "cell_type": "code",
   "execution_count": 34,
   "id": "726d4995-5133-4037-ab0e-f2705470cdc9",
   "metadata": {},
   "outputs": [
    {
     "name": "stdout",
     "output_type": "stream",
     "text": [
      "(13927, 1, 32, 32)\n",
      "<class 'numpy.ndarray'>\n"
     ]
    }
   ],
   "source": [
    "# Load in the pickle dataset file\n",
    "train_xs, train_ys = load_tumor_data('datasets/Tumor/tumor4train.pkl')\n",
    "#train_xs = train_xs[:, 1, :, :]\n",
    "#train_xs = np.expand_dims(train_xs, axis=1)\n",
    "train_xs = train_xs.mean(axis=1, keepdims=True)\n",
    "print(train_xs.shape)\n",
    "print(type(train_xs))"
   ]
  },
  {
   "cell_type": "code",
   "execution_count": 35,
   "id": "a684b01a-eb4a-4210-9f59-d613085a404a",
   "metadata": {},
   "outputs": [],
   "source": [
    "# Create the dataset\n",
    "tumor_dataset = create_dataset(train_xs, train_ys)"
   ]
  },
  {
   "cell_type": "code",
   "execution_count": 36,
   "id": "193f07cc-d34f-425e-aa08-62b6d6adbad6",
   "metadata": {},
   "outputs": [],
   "source": [
    "def visualize_image(image_x):\n",
    "    # We have to visualize by reverting the normalization (just for visualization).\n",
    "    mean = torch.tensor([0.5])\n",
    "    std = torch.tensor([0.5])\n",
    "\n",
    "    image = image_x * std + mean  # Denormalize the image\n",
    "\n",
    "    image = torch.clamp(image, 0, 1) # Clip values to [0, 1] to ensure valid range for display\n",
    "\n",
    "    # Permute the image to (H, W, C) for matplotlib\n",
    "    \n",
    "    image = image.permute(1, 2, 0)\n",
    "\n",
    "    plt.imshow(image, cmap='gray')"
   ]
  },
  {
   "cell_type": "code",
   "execution_count": 37,
   "id": "16e93c17-a89b-46a2-8198-71e66e370f4f",
   "metadata": {},
   "outputs": [
    {
     "name": "stdout",
     "output_type": "stream",
     "text": [
      "torch.Size([1, 64, 64])\n"
     ]
    },
    {
     "data": {
      "image/png": "[encoded data removed]",
      "text/plain": [
       "<Figure size 640x480 with 1 Axes>"
      ]
     },
     "metadata": {},
     "output_type": "display_data"
    }
   ],
   "source": [
    "# Visualize the first tumor sample. \n",
    "image_x, image_y = tumor_dataset[7000]\n",
    "print(image_x.shape)\n",
    "visualize_image(image_x)"
   ]
  },
  {
   "cell_type": "code",
   "execution_count": 38,
   "id": "60e2da47-7cb6-493e-aeda-aa80d7965de7",
   "metadata": {},
   "outputs": [],
   "source": [
    "from scipy.spatial.distance import cosine"
   ]
  },
  {
   "cell_type": "code",
   "execution_count": 39,
   "id": "5a7937e5-b808-4b3e-8288-75dcd9862340",
   "metadata": {},
   "outputs": [],
   "source": [
    "# Get the feature embeddings\n",
    "tfcnn_model = target_model = load_target_model(base_net='TFCNN', n_classes=4, path='saved models/fedavg_global_model.pth').to(device)\n",
    "model_embeddings = tfcnn_model.encoder.to(device)"
   ]
  },
  {
   "cell_type": "code",
   "execution_count": 40,
   "id": "737e3d92-45b6-45f6-9bf2-d51f379d6ac8",
   "metadata": {},
   "outputs": [],
   "source": [
    "# Preprocessing\n",
    "preprocess = transforms.Compose([\n",
    "    transforms.Resize(256),\n",
    "    transforms.CenterCrop(224),\n",
    "    transforms.ToTensor(),\n",
    "])"
   ]
  },
  {
   "cell_type": "code",
   "execution_count": 41,
   "id": "babb1015-bdfb-439b-bea1-81f9f50dd74e",
   "metadata": {},
   "outputs": [],
   "source": [
    "def get_feature(img):\n",
    "    with torch.no_grad():\n",
    "        features = model_embeddings(img).squeeze()\n",
    "    return features.cpu().numpy()"
   ]
  },
  {
   "cell_type": "code",
   "execution_count": 42,
   "id": "79f38654-6670-440d-a322-b2cae18a71d8",
   "metadata": {},
   "outputs": [
    {
     "data": {
      "text/plain": [
       "torch.Size([1, 64, 64])"
      ]
     },
     "execution_count": 42,
     "metadata": {},
     "output_type": "execute_result"
    }
   ],
   "source": [
    "# Send an original image through the model\n",
    "image_x, image_y = tumor_dataset[10]\n",
    "image_x.shape"
   ]
  },
  {
   "cell_type": "code",
   "execution_count": 43,
   "id": "a4a2659e-dcaa-4d4a-b5a5-06b363ce6534",
   "metadata": {},
   "outputs": [],
   "source": [
    "image_x = image_x.unsqueeze(dim=0)"
   ]
  },
  {
   "cell_type": "code",
   "execution_count": 44,
   "id": "14348bfc-5988-48f0-88cf-4761d7a99d89",
   "metadata": {},
   "outputs": [
    {
     "data": {
      "text/plain": [
       "torch.Size([1, 1, 64, 64])"
      ]
     },
     "execution_count": 44,
     "metadata": {},
     "output_type": "execute_result"
    }
   ],
   "source": [
    "image_x.shape"
   ]
  },
  {
   "cell_type": "code",
   "execution_count": 45,
   "id": "66160253-9543-4aba-bb81-031d51ef9623",
   "metadata": {},
   "outputs": [
    {
     "data": {
      "text/plain": [
       "torch.Size([1, 3, 64, 64])"
      ]
     },
     "execution_count": 45,
     "metadata": {},
     "output_type": "execute_result"
    }
   ],
   "source": [
    "image_x = image_x.repeat(1, 3, 1, 1)\n",
    "image_x = image_x.to(device)\n",
    "image_x.shape"
   ]
  },
  {
   "cell_type": "code",
   "execution_count": 46,
   "id": "f615c7d3-2dab-425d-81e1-2595ec59e230",
   "metadata": {},
   "outputs": [
    {
     "data": {
      "text/plain": [
       "(4096,)"
      ]
     },
     "execution_count": 46,
     "metadata": {},
     "output_type": "execute_result"
    }
   ],
   "source": [
    "features = get_feature(image_x)\n",
    "features.shape"
   ]
  },
  {
   "cell_type": "code",
   "execution_count": 47,
   "id": "31b9ddc9-3fc8-4a47-bfc7-74a6df27d672",
   "metadata": {},
   "outputs": [],
   "source": [
    "class0_original_images = []\n",
    "class1_original_images = []\n",
    "class2_original_images = []\n",
    "class3_original_images = []\n",
    "target_num = 20 # 20 images for each class"
   ]
  },
  {
   "cell_type": "code",
   "execution_count": 48,
   "id": "e804c948-2dc8-41df-a633-113300baf12a",
   "metadata": {},
   "outputs": [],
   "source": [
    "for i in range(len(tumor_dataset)):\n",
    "    img_x, img_y = tumor_dataset[i]\n",
    "\n",
    "    if img_y == 0:\n",
    "        if len(class0_original_images) < target_num:\n",
    "            class0_original_images.append(img_x)\n",
    "    elif img_y == 1:\n",
    "        if len(class1_original_images) < target_num:\n",
    "            class1_original_images.append(img_x)\n",
    "    elif img_y == 2:\n",
    "        if len(class2_original_images) < target_num:\n",
    "            class2_original_images.append(img_x)\n",
    "    elif img_y == 3:\n",
    "        if len(class3_original_images) < target_num:\n",
    "            class3_original_images.append(img_x)"
   ]
  },
  {
   "cell_type": "code",
   "execution_count": 49,
   "id": "ef07c896-c4cd-48da-9e59-c9d7bd90a4e8",
   "metadata": {},
   "outputs": [
    {
     "data": {
      "text/plain": [
       "20"
      ]
     },
     "execution_count": 49,
     "metadata": {},
     "output_type": "execute_result"
    }
   ],
   "source": [
    "len(class3_original_images)"
   ]
  },
  {
   "cell_type": "code",
   "execution_count": 50,
   "id": "e102404a-68a3-40c5-99a7-45813eb87f20",
   "metadata": {},
   "outputs": [
    {
     "data": {
      "text/plain": [
       "torch.Size([1, 3, 64, 64])"
      ]
     },
     "execution_count": 50,
     "metadata": {},
     "output_type": "execute_result"
    }
   ],
   "source": [
    "# Testing the cosine similarity\n",
    "class1_original_image = class1_original_images[8]\n",
    "class1_original_image = class1_original_image.unsqueeze(dim=0).to(device)\n",
    "class1_original_image = class1_original_image.repeat(1, 3, 1, 1)\n",
    "class1_original_image.shape"
   ]
  },
  {
   "cell_type": "code",
   "execution_count": 51,
   "id": "d7fe9c85-2c83-4580-be7d-32833b706948",
   "metadata": {},
   "outputs": [],
   "source": [
    "fake1 = class1_optimized_latent_vectors[8]\n",
    "fake1_image = gen(fake1.to(device))\n",
    "fake1_image = fake1_image.repeat(1, 3, 1, 1)"
   ]
  },
  {
   "cell_type": "code",
   "execution_count": 52,
   "id": "74647152-cdcb-4593-a88f-d3ac43fd97d3",
   "metadata": {},
   "outputs": [
    {
     "data": {
      "text/plain": [
       "torch.Size([1, 3, 64, 64])"
      ]
     },
     "execution_count": 52,
     "metadata": {},
     "output_type": "execute_result"
    }
   ],
   "source": [
    "fake1_image.shape"
   ]
  },
  {
   "cell_type": "code",
   "execution_count": 53,
   "id": "e88f6396-0ef2-45f5-96e0-6048be01af25",
   "metadata": {},
   "outputs": [],
   "source": [
    "# Get the features of the images\n",
    "features_original = get_feature(class1_original_image)\n",
    "features_fake = get_feature(fake1_image)"
   ]
  },
  {
   "cell_type": "code",
   "execution_count": 54,
   "id": "b54e2bca-5f2b-41ea-b810-15d1f9d30f86",
   "metadata": {},
   "outputs": [],
   "source": [
    "# Compute cosine similarity\n",
    "similarity = 1 - cosine(features_original, features_fake)"
   ]
  },
  {
   "cell_type": "code",
   "execution_count": 55,
   "id": "983c7e35-27ee-453c-9356-cb9a84fdd4a3",
   "metadata": {},
   "outputs": [
    {
     "data": {
      "text/plain": [
       "np.float32(0.4015991)"
      ]
     },
     "execution_count": 55,
     "metadata": {},
     "output_type": "execute_result"
    }
   ],
   "source": [
    "similarity"
   ]
  },
  {
   "cell_type": "code",
   "execution_count": 56,
   "id": "e65e04e8-52b7-4cf2-876c-d9b07a435ec9",
   "metadata": {},
   "outputs": [],
   "source": [
    "def calculate_class0_sim():\n",
    "    similarities = []\n",
    "    for i in range(0, 20):\n",
    "        class0_original = class0_original_images[i].unsqueeze(dim=0).to(device)\n",
    "        class0_original = class0_original.repeat(1, 3, 1, 1)\n",
    "\n",
    "        class0_fake = class0_optimized_latent_vectors[i]\n",
    "        class0_fake_img = gen(class0_fake.to(device))\n",
    "        class0_fake_img = class0_fake_img.repeat(1, 3, 1, 1)\n",
    "\n",
    "        features_original = get_feature(class0_original)\n",
    "        features_fake = get_feature(class0_fake_img)\n",
    "\n",
    "        cosine_similarity = 1 - cosine(features_original, features_fake)\n",
    "\n",
    "        similarities.append(cosine_similarity)\n",
    "        \n",
    "    return similarities"
   ]
  },
  {
   "cell_type": "code",
   "execution_count": 57,
   "id": "10d8f579-0b80-4157-b59b-7b92be9e52f2",
   "metadata": {},
   "outputs": [],
   "source": [
    "def calculate_class1_sim():\n",
    "    similarities = []\n",
    "    for i in range(0, 20):\n",
    "        class1_original = class1_original_images[i].unsqueeze(dim=0).to(device)\n",
    "        class1_original = class1_original.repeat(1, 3, 1, 1)\n",
    "\n",
    "        class1_fake = class1_optimized_latent_vectors[i]\n",
    "        class1_fake_img = gen(class1_fake.to(device))\n",
    "        class1_fake_img = class1_fake_img.repeat(1, 3, 1, 1)\n",
    "\n",
    "        features_original = get_feature(class1_original)\n",
    "        features_fake = get_feature(class1_fake_img)\n",
    "\n",
    "        cosine_similarity = 1 - cosine(features_original, features_fake)\n",
    "        similarities.append(cosine_similarity)\n",
    "\n",
    "    return similarities"
   ]
  },
  {
   "cell_type": "code",
   "execution_count": 58,
   "id": "1bbdc999-fa6d-4005-b785-3c54a7bd89ee",
   "metadata": {},
   "outputs": [],
   "source": [
    "def calculate_class2_sim():\n",
    "    similarities = []\n",
    "    for i in range(0, 20):\n",
    "        class2_original = class2_original_images[i].unsqueeze(dim=0).to(device)\n",
    "        class2_original = class2_original.repeat(1, 3, 1, 1)\n",
    "\n",
    "        class2_fake = class2_optimized_latent_vectors[i]\n",
    "        class2_fake_img = gen(class2_fake.to(device))\n",
    "        class2_fake_img = class2_fake_img.repeat(1, 3, 1, 1)\n",
    "\n",
    "        features_original = get_feature(class2_original)\n",
    "        features_fake = get_feature(class2_fake_img)\n",
    "\n",
    "        cosine_similarity = 1 - cosine(features_original, features_fake)\n",
    "        similarities.append(cosine_similarity)\n",
    "\n",
    "    return similarities"
   ]
  },
  {
   "cell_type": "code",
   "execution_count": 59,
   "id": "33cb8de1-5a87-4dd4-8fc2-d3f27d6ddc9a",
   "metadata": {},
   "outputs": [],
   "source": [
    "def calculate_class3_sim():\n",
    "    similarities = []\n",
    "    for i in range(0, 20):\n",
    "        class3_original = class3_original_images[i].unsqueeze(dim=0).to(device)\n",
    "        class3_original = class3_original.repeat(1, 3, 1, 1)\n",
    "\n",
    "        class3_fake = class3_optimized_latent_vectors[i]\n",
    "        class3_fake_img = gen(class3_fake.to(device))\n",
    "        class3_fake_img = class3_fake_img.repeat(1, 3, 1, 1)\n",
    "\n",
    "        features_original = get_feature(class3_original)\n",
    "        features_fake = get_feature(class3_fake_img)\n",
    "\n",
    "        cosine_similarity = 1 - cosine(features_original, features_fake)\n",
    "        similarities.append(cosine_similarity)\n",
    "\n",
    "    return similarities"
   ]
  },
  {
   "cell_type": "code",
   "execution_count": 60,
   "id": "7868f175-5845-4ee4-b4cf-1c89513375ec",
   "metadata": {},
   "outputs": [],
   "source": [
    "class0_sims = calculate_class0_sim()\n",
    "class1_sims = calculate_class0_sim()\n",
    "class2_sims = calculate_class0_sim()\n",
    "class3_sims = calculate_class0_sim()"
   ]
  },
  {
   "cell_type": "code",
   "execution_count": 61,
   "id": "bbf4597d-a583-4204-a3ce-9085936e0189",
   "metadata": {},
   "outputs": [
    {
     "data": {
      "text/plain": [
       "[np.float32(0.5362751),\n",
       " np.float32(0.027243316),\n",
       " np.float32(0.4766972),\n",
       " np.float32(0.305207),\n",
       " np.float32(0.3294499),\n",
       " np.float32(0.58824354),\n",
       " np.float32(0.4326511),\n",
       " np.float32(0.65137917),\n",
       " np.float32(0.47393143),\n",
       " np.float32(0.52160794),\n",
       " np.float32(0.5887475),\n",
       " np.float32(0.6290695),\n",
       " np.float32(0.5262558),\n",
       " np.float32(0.5548896),\n",
       " np.float32(0.3806414),\n",
       " np.float32(0.5286563),\n",
       " np.float32(0.5334481),\n",
       " np.float32(0.6149024),\n",
       " np.float32(0.59811276),\n",
       " np.float32(0.5909125)]"
      ]
     },
     "execution_count": 61,
     "metadata": {},
     "output_type": "execute_result"
    }
   ],
   "source": [
    "class0_sims"
   ]
  },
  {
   "cell_type": "code",
   "execution_count": 62,
   "id": "acb9d480-a58f-4ce6-8973-eb9c8d6e7253",
   "metadata": {},
   "outputs": [
    {
     "data": {
      "text/plain": [
       "[np.float32(0.5362758),\n",
       " np.float32(0.027243495),\n",
       " np.float32(0.47669667),\n",
       " np.float32(0.305207),\n",
       " np.float32(0.3294499),\n",
       " np.float32(0.58824354),\n",
       " np.float32(0.4326501),\n",
       " np.float32(0.65137976),\n",
       " np.float32(0.47393143),\n",
       " np.float32(0.52160794),\n",
       " np.float32(0.5887475),\n",
       " np.float32(0.6290695),\n",
       " np.float32(0.5262558),\n",
       " np.float32(0.55488974),\n",
       " np.float32(0.3806414),\n",
       " np.float32(0.52865654),\n",
       " np.float32(0.5334481),\n",
       " np.float32(0.6149024),\n",
       " np.float32(0.59811276),\n",
       " np.float32(0.5909126)]"
      ]
     },
     "execution_count": 62,
     "metadata": {},
     "output_type": "execute_result"
    }
   ],
   "source": [
    "class3_sims"
   ]
  },
  {
   "cell_type": "code",
   "execution_count": 63,
   "id": "58dc103d-1c30-473a-adc3-fcd5ca5100a0",
   "metadata": {},
   "outputs": [
    {
     "ename": "FileNotFoundError",
     "evalue": "[Errno 2] No such file or directory: 'output/fedvg.png'",
     "output_type": "error",
     "traceback": [
      "\u001b[1;31m---------------------------------------------------------------------------\u001b[0m",
      "\u001b[1;31mFileNotFoundError\u001b[0m                         Traceback (most recent call last)",
      "Cell \u001b[1;32mIn[63], line 43\u001b[0m\n\u001b[0;32m     41\u001b[0m plt\u001b[38;5;241m.\u001b[39mtight_layout()\n\u001b[0;32m     42\u001b[0m \u001b[38;5;66;03m# Save the plot to a file\u001b[39;00m\n\u001b[1;32m---> 43\u001b[0m \u001b[43mplt\u001b[49m\u001b[38;5;241;43m.\u001b[39;49m\u001b[43msavefig\u001b[49m\u001b[43m(\u001b[49m\u001b[38;5;124;43m'\u001b[39;49m\u001b[38;5;124;43moutput/fedvg.png\u001b[39;49m\u001b[38;5;124;43m'\u001b[39;49m\u001b[43m,\u001b[49m\u001b[43m \u001b[49m\u001b[43mdpi\u001b[49m\u001b[38;5;241;43m=\u001b[39;49m\u001b[38;5;241;43m300\u001b[39;49m\u001b[43m,\u001b[49m\u001b[43m \u001b[49m\u001b[43mbbox_inches\u001b[49m\u001b[38;5;241;43m=\u001b[39;49m\u001b[38;5;124;43m'\u001b[39;49m\u001b[38;5;124;43mtight\u001b[39;49m\u001b[38;5;124;43m'\u001b[39;49m\u001b[43m)\u001b[49m  \u001b[38;5;66;03m# Save as a PNG file with high resolution\u001b[39;00m\n\u001b[0;32m     45\u001b[0m \u001b[38;5;66;03m# Show the plot\u001b[39;00m\n\u001b[0;32m     46\u001b[0m plt\u001b[38;5;241m.\u001b[39mshow()\n",
      "File \u001b[1;32m~\\AppData\\Local\\Programs\\Python\\Python39\\lib\\site-packages\\matplotlib\\pyplot.py:1228\u001b[0m, in \u001b[0;36msavefig\u001b[1;34m(*args, **kwargs)\u001b[0m\n\u001b[0;32m   1225\u001b[0m fig \u001b[38;5;241m=\u001b[39m gcf()\n\u001b[0;32m   1226\u001b[0m \u001b[38;5;66;03m# savefig default implementation has no return, so mypy is unhappy\u001b[39;00m\n\u001b[0;32m   1227\u001b[0m \u001b[38;5;66;03m# presumably this is here because subclasses can return?\u001b[39;00m\n\u001b[1;32m-> 1228\u001b[0m res \u001b[38;5;241m=\u001b[39m fig\u001b[38;5;241m.\u001b[39msavefig(\u001b[38;5;241m*\u001b[39margs, \u001b[38;5;241m*\u001b[39m\u001b[38;5;241m*\u001b[39mkwargs)  \u001b[38;5;66;03m# type: ignore[func-returns-value]\u001b[39;00m\n\u001b[0;32m   1229\u001b[0m fig\u001b[38;5;241m.\u001b[39mcanvas\u001b[38;5;241m.\u001b[39mdraw_idle()  \u001b[38;5;66;03m# Need this if 'transparent=True', to reset colors.\u001b[39;00m\n\u001b[0;32m   1230\u001b[0m \u001b[38;5;28;01mreturn\u001b[39;00m res\n",
      "File \u001b[1;32m~\\AppData\\Local\\Programs\\Python\\Python39\\lib\\site-packages\\matplotlib\\figure.py:3395\u001b[0m, in \u001b[0;36mFigure.savefig\u001b[1;34m(self, fname, transparent, **kwargs)\u001b[0m\n\u001b[0;32m   3393\u001b[0m     \u001b[38;5;28;01mfor\u001b[39;00m ax \u001b[38;5;129;01min\u001b[39;00m \u001b[38;5;28mself\u001b[39m\u001b[38;5;241m.\u001b[39maxes:\n\u001b[0;32m   3394\u001b[0m         _recursively_make_axes_transparent(stack, ax)\n\u001b[1;32m-> 3395\u001b[0m \u001b[38;5;28mself\u001b[39m\u001b[38;5;241m.\u001b[39mcanvas\u001b[38;5;241m.\u001b[39mprint_figure(fname, \u001b[38;5;241m*\u001b[39m\u001b[38;5;241m*\u001b[39mkwargs)\n",
      "File \u001b[1;32m~\\AppData\\Local\\Programs\\Python\\Python39\\lib\\site-packages\\matplotlib\\backend_bases.py:2204\u001b[0m, in \u001b[0;36mFigureCanvasBase.print_figure\u001b[1;34m(self, filename, dpi, facecolor, edgecolor, orientation, format, bbox_inches, pad_inches, bbox_extra_artists, backend, **kwargs)\u001b[0m\n\u001b[0;32m   2200\u001b[0m \u001b[38;5;28;01mtry\u001b[39;00m:\n\u001b[0;32m   2201\u001b[0m     \u001b[38;5;66;03m# _get_renderer may change the figure dpi (as vector formats\u001b[39;00m\n\u001b[0;32m   2202\u001b[0m     \u001b[38;5;66;03m# force the figure dpi to 72), so we need to set it again here.\u001b[39;00m\n\u001b[0;32m   2203\u001b[0m     \u001b[38;5;28;01mwith\u001b[39;00m cbook\u001b[38;5;241m.\u001b[39m_setattr_cm(\u001b[38;5;28mself\u001b[39m\u001b[38;5;241m.\u001b[39mfigure, dpi\u001b[38;5;241m=\u001b[39mdpi):\n\u001b[1;32m-> 2204\u001b[0m         result \u001b[38;5;241m=\u001b[39m print_method(\n\u001b[0;32m   2205\u001b[0m             filename,\n\u001b[0;32m   2206\u001b[0m             facecolor\u001b[38;5;241m=\u001b[39mfacecolor,\n\u001b[0;32m   2207\u001b[0m             edgecolor\u001b[38;5;241m=\u001b[39medgecolor,\n\u001b[0;32m   2208\u001b[0m             orientation\u001b[38;5;241m=\u001b[39morientation,\n\u001b[0;32m   2209\u001b[0m             bbox_inches_restore\u001b[38;5;241m=\u001b[39m_bbox_inches_restore,\n\u001b[0;32m   2210\u001b[0m             \u001b[38;5;241m*\u001b[39m\u001b[38;5;241m*\u001b[39mkwargs)\n\u001b[0;32m   2211\u001b[0m \u001b[38;5;28;01mfinally\u001b[39;00m:\n\u001b[0;32m   2212\u001b[0m     \u001b[38;5;28;01mif\u001b[39;00m bbox_inches \u001b[38;5;129;01mand\u001b[39;00m restore_bbox:\n",
      "File \u001b[1;32m~\\AppData\\Local\\Programs\\Python\\Python39\\lib\\site-packages\\matplotlib\\backend_bases.py:2054\u001b[0m, in \u001b[0;36mFigureCanvasBase._switch_canvas_and_return_print_method.<locals>.<lambda>\u001b[1;34m(*args, **kwargs)\u001b[0m\n\u001b[0;32m   2050\u001b[0m     optional_kws \u001b[38;5;241m=\u001b[39m {  \u001b[38;5;66;03m# Passed by print_figure for other renderers.\u001b[39;00m\n\u001b[0;32m   2051\u001b[0m         \u001b[38;5;124m\"\u001b[39m\u001b[38;5;124mdpi\u001b[39m\u001b[38;5;124m\"\u001b[39m, \u001b[38;5;124m\"\u001b[39m\u001b[38;5;124mfacecolor\u001b[39m\u001b[38;5;124m\"\u001b[39m, \u001b[38;5;124m\"\u001b[39m\u001b[38;5;124medgecolor\u001b[39m\u001b[38;5;124m\"\u001b[39m, \u001b[38;5;124m\"\u001b[39m\u001b[38;5;124morientation\u001b[39m\u001b[38;5;124m\"\u001b[39m,\n\u001b[0;32m   2052\u001b[0m         \u001b[38;5;124m\"\u001b[39m\u001b[38;5;124mbbox_inches_restore\u001b[39m\u001b[38;5;124m\"\u001b[39m}\n\u001b[0;32m   2053\u001b[0m     skip \u001b[38;5;241m=\u001b[39m optional_kws \u001b[38;5;241m-\u001b[39m {\u001b[38;5;241m*\u001b[39minspect\u001b[38;5;241m.\u001b[39msignature(meth)\u001b[38;5;241m.\u001b[39mparameters}\n\u001b[1;32m-> 2054\u001b[0m     print_method \u001b[38;5;241m=\u001b[39m functools\u001b[38;5;241m.\u001b[39mwraps(meth)(\u001b[38;5;28;01mlambda\u001b[39;00m \u001b[38;5;241m*\u001b[39margs, \u001b[38;5;241m*\u001b[39m\u001b[38;5;241m*\u001b[39mkwargs: meth(\n\u001b[0;32m   2055\u001b[0m         \u001b[38;5;241m*\u001b[39margs, \u001b[38;5;241m*\u001b[39m\u001b[38;5;241m*\u001b[39m{k: v \u001b[38;5;28;01mfor\u001b[39;00m k, v \u001b[38;5;129;01min\u001b[39;00m kwargs\u001b[38;5;241m.\u001b[39mitems() \u001b[38;5;28;01mif\u001b[39;00m k \u001b[38;5;129;01mnot\u001b[39;00m \u001b[38;5;129;01min\u001b[39;00m skip}))\n\u001b[0;32m   2056\u001b[0m \u001b[38;5;28;01melse\u001b[39;00m:  \u001b[38;5;66;03m# Let third-parties do as they see fit.\u001b[39;00m\n\u001b[0;32m   2057\u001b[0m     print_method \u001b[38;5;241m=\u001b[39m meth\n",
      "File \u001b[1;32m~\\AppData\\Local\\Programs\\Python\\Python39\\lib\\site-packages\\matplotlib\\backends\\backend_agg.py:496\u001b[0m, in \u001b[0;36mFigureCanvasAgg.print_png\u001b[1;34m(self, filename_or_obj, metadata, pil_kwargs)\u001b[0m\n\u001b[0;32m    449\u001b[0m \u001b[38;5;28;01mdef\u001b[39;00m\u001b[38;5;250m \u001b[39m\u001b[38;5;21mprint_png\u001b[39m(\u001b[38;5;28mself\u001b[39m, filename_or_obj, \u001b[38;5;241m*\u001b[39m, metadata\u001b[38;5;241m=\u001b[39m\u001b[38;5;28;01mNone\u001b[39;00m, pil_kwargs\u001b[38;5;241m=\u001b[39m\u001b[38;5;28;01mNone\u001b[39;00m):\n\u001b[0;32m    450\u001b[0m \u001b[38;5;250m    \u001b[39m\u001b[38;5;124;03m\"\"\"\u001b[39;00m\n\u001b[0;32m    451\u001b[0m \u001b[38;5;124;03m    Write the figure to a PNG file.\u001b[39;00m\n\u001b[0;32m    452\u001b[0m \n\u001b[1;32m   (...)\u001b[0m\n\u001b[0;32m    494\u001b[0m \u001b[38;5;124;03m        *metadata*, including the default 'Software' key.\u001b[39;00m\n\u001b[0;32m    495\u001b[0m \u001b[38;5;124;03m    \"\"\"\u001b[39;00m\n\u001b[1;32m--> 496\u001b[0m     \u001b[38;5;28;43mself\u001b[39;49m\u001b[38;5;241;43m.\u001b[39;49m\u001b[43m_print_pil\u001b[49m\u001b[43m(\u001b[49m\u001b[43mfilename_or_obj\u001b[49m\u001b[43m,\u001b[49m\u001b[43m \u001b[49m\u001b[38;5;124;43m\"\u001b[39;49m\u001b[38;5;124;43mpng\u001b[39;49m\u001b[38;5;124;43m\"\u001b[39;49m\u001b[43m,\u001b[49m\u001b[43m \u001b[49m\u001b[43mpil_kwargs\u001b[49m\u001b[43m,\u001b[49m\u001b[43m \u001b[49m\u001b[43mmetadata\u001b[49m\u001b[43m)\u001b[49m\n",
      "File \u001b[1;32m~\\AppData\\Local\\Programs\\Python\\Python39\\lib\\site-packages\\matplotlib\\backends\\backend_agg.py:445\u001b[0m, in \u001b[0;36mFigureCanvasAgg._print_pil\u001b[1;34m(self, filename_or_obj, fmt, pil_kwargs, metadata)\u001b[0m\n\u001b[0;32m    440\u001b[0m \u001b[38;5;250m\u001b[39m\u001b[38;5;124;03m\"\"\"\u001b[39;00m\n\u001b[0;32m    441\u001b[0m \u001b[38;5;124;03mDraw the canvas, then save it using `.image.imsave` (to which\u001b[39;00m\n\u001b[0;32m    442\u001b[0m \u001b[38;5;124;03m*pil_kwargs* and *metadata* are forwarded).\u001b[39;00m\n\u001b[0;32m    443\u001b[0m \u001b[38;5;124;03m\"\"\"\u001b[39;00m\n\u001b[0;32m    444\u001b[0m FigureCanvasAgg\u001b[38;5;241m.\u001b[39mdraw(\u001b[38;5;28mself\u001b[39m)\n\u001b[1;32m--> 445\u001b[0m \u001b[43mmpl\u001b[49m\u001b[38;5;241;43m.\u001b[39;49m\u001b[43mimage\u001b[49m\u001b[38;5;241;43m.\u001b[39;49m\u001b[43mimsave\u001b[49m\u001b[43m(\u001b[49m\n\u001b[0;32m    446\u001b[0m \u001b[43m    \u001b[49m\u001b[43mfilename_or_obj\u001b[49m\u001b[43m,\u001b[49m\u001b[43m \u001b[49m\u001b[38;5;28;43mself\u001b[39;49m\u001b[38;5;241;43m.\u001b[39;49m\u001b[43mbuffer_rgba\u001b[49m\u001b[43m(\u001b[49m\u001b[43m)\u001b[49m\u001b[43m,\u001b[49m\u001b[43m \u001b[49m\u001b[38;5;28;43mformat\u001b[39;49m\u001b[38;5;241;43m=\u001b[39;49m\u001b[43mfmt\u001b[49m\u001b[43m,\u001b[49m\u001b[43m \u001b[49m\u001b[43morigin\u001b[49m\u001b[38;5;241;43m=\u001b[39;49m\u001b[38;5;124;43m\"\u001b[39;49m\u001b[38;5;124;43mupper\u001b[39;49m\u001b[38;5;124;43m\"\u001b[39;49m\u001b[43m,\u001b[49m\n\u001b[0;32m    447\u001b[0m \u001b[43m    \u001b[49m\u001b[43mdpi\u001b[49m\u001b[38;5;241;43m=\u001b[39;49m\u001b[38;5;28;43mself\u001b[39;49m\u001b[38;5;241;43m.\u001b[39;49m\u001b[43mfigure\u001b[49m\u001b[38;5;241;43m.\u001b[39;49m\u001b[43mdpi\u001b[49m\u001b[43m,\u001b[49m\u001b[43m \u001b[49m\u001b[43mmetadata\u001b[49m\u001b[38;5;241;43m=\u001b[39;49m\u001b[43mmetadata\u001b[49m\u001b[43m,\u001b[49m\u001b[43m \u001b[49m\u001b[43mpil_kwargs\u001b[49m\u001b[38;5;241;43m=\u001b[39;49m\u001b[43mpil_kwargs\u001b[49m\u001b[43m)\u001b[49m\n",
      "File \u001b[1;32m~\\AppData\\Local\\Programs\\Python\\Python39\\lib\\site-packages\\matplotlib\\image.py:1676\u001b[0m, in \u001b[0;36mimsave\u001b[1;34m(fname, arr, vmin, vmax, cmap, format, origin, dpi, metadata, pil_kwargs)\u001b[0m\n\u001b[0;32m   1674\u001b[0m pil_kwargs\u001b[38;5;241m.\u001b[39msetdefault(\u001b[38;5;124m\"\u001b[39m\u001b[38;5;124mformat\u001b[39m\u001b[38;5;124m\"\u001b[39m, \u001b[38;5;28mformat\u001b[39m)\n\u001b[0;32m   1675\u001b[0m pil_kwargs\u001b[38;5;241m.\u001b[39msetdefault(\u001b[38;5;124m\"\u001b[39m\u001b[38;5;124mdpi\u001b[39m\u001b[38;5;124m\"\u001b[39m, (dpi, dpi))\n\u001b[1;32m-> 1676\u001b[0m image\u001b[38;5;241m.\u001b[39msave(fname, \u001b[38;5;241m*\u001b[39m\u001b[38;5;241m*\u001b[39mpil_kwargs)\n",
      "File \u001b[1;32m~\\AppData\\Local\\Programs\\Python\\Python39\\lib\\site-packages\\PIL\\Image.py:2436\u001b[0m, in \u001b[0;36mImage.save\u001b[1;34m(self, fp, format, **params)\u001b[0m\n\u001b[0;32m   2434\u001b[0m         fp \u001b[38;5;241m=\u001b[39m builtins\u001b[38;5;241m.\u001b[39mopen(filename, \u001b[38;5;124m\"\u001b[39m\u001b[38;5;124mr+b\u001b[39m\u001b[38;5;124m\"\u001b[39m)\n\u001b[0;32m   2435\u001b[0m     \u001b[38;5;28;01melse\u001b[39;00m:\n\u001b[1;32m-> 2436\u001b[0m         fp \u001b[38;5;241m=\u001b[39m \u001b[43mbuiltins\u001b[49m\u001b[38;5;241;43m.\u001b[39;49m\u001b[43mopen\u001b[49m\u001b[43m(\u001b[49m\u001b[43mfilename\u001b[49m\u001b[43m,\u001b[49m\u001b[43m \u001b[49m\u001b[38;5;124;43m\"\u001b[39;49m\u001b[38;5;124;43mw+b\u001b[39;49m\u001b[38;5;124;43m\"\u001b[39;49m\u001b[43m)\u001b[49m\n\u001b[0;32m   2438\u001b[0m \u001b[38;5;28;01mtry\u001b[39;00m:\n\u001b[0;32m   2439\u001b[0m     save_handler(\u001b[38;5;28mself\u001b[39m, fp, filename)\n",
      "\u001b[1;31mFileNotFoundError\u001b[0m: [Errno 2] No such file or directory: 'output/fedvg.png'"
     ]
    },
    {
     "data": {
      "image/png": "[encoded data removed]",
      "text/plain": [
       "<Figure size 650x420 with 1 Axes>"
      ]
     },
     "metadata": {},
     "output_type": "display_data"
    }
   ],
   "source": [
    "                                                        # VISUALIZE\n",
    "# NOTE: Class indexes now start from 1 so, previous class 0 = now class 1 and so on\n",
    "# FIG 1: Raw similarity plot\n",
    "\n",
    "import pandas as pd\n",
    "import numpy as np\n",
    "import matplotlib.pyplot as plt\n",
    "import seaborn as sns\n",
    "\n",
    "# Generate sample similarity data for four classes (each with 20 values in the range 0 to 1)\n",
    "class1_sim = class0_sims\n",
    "class2_sim = class1_sims\n",
    "class3_sim = class2_sims\n",
    "class4_sim = class3_sims\n",
    "\n",
    "# Set figure size\n",
    "plt.figure(figsize=(6.5, 4.2))  # Set the size of the figure (width, height)\n",
    "\n",
    "# Sample DataFrame with four columns\n",
    "data=pd.DataFrame({'Class 1':class1_sim,'Class 2':class2_sim,'Class 3':class3_sim,'Class 4':class4_sim})\n",
    "df = pd.DataFrame(data)\n",
    "\n",
    "# Plot the probability distributions\n",
    "#plt.figure(figsize=(10, 6))\n",
    "\n",
    "# Define colors and line styles for each column\n",
    "colors = ['#1f77b4', '#ff7f0e', '#2ca02c', '#d62728']\n",
    "linestyles = ['-.', '--', '-', '-']\n",
    "\n",
    "# Plot the probability distributions with unique colors and line styles\n",
    "for column, color, linestyle in zip(df.columns, colors, linestyles):\n",
    "    sns.kdeplot(df[column], label=column, color=color, linestyle=linestyle)\n",
    "\n",
    "#plt.title('Probability Distributions of Four Columns')\n",
    "plt.xlabel('Similarity',fontsize=12)\n",
    "plt.ylabel('Density',fontsize=12)\n",
    "plt.yticks(fontsize=12)  # Set y-tick labels font size\n",
    "plt.legend(loc='upper right',fontsize=12)  # Increase legend font size\n",
    "\n",
    "# Optimize layout\n",
    "plt.tight_layout()\n",
    "# Save the plot to a file\n",
    "plt.savefig('output/fedvg.png', dpi=300, bbox_inches='tight')  # Save as a PNG file with high resolution\n",
    "\n",
    "# Show the plot\n",
    "plt.show()\n"
   ]
  },
  {
   "cell_type": "code",
   "execution_count": 64,
   "id": "c71af78e-28e9-4564-9609-3039455bb875",
   "metadata": {},
   "outputs": [
    {
     "data": {
      "image/png": "[encoded data removed]",
      "text/plain": [
       "<Figure size 750x500 with 1 Axes>"
      ]
     },
     "metadata": {},
     "output_type": "display_data"
    }
   ],
   "source": [
    "# FIG 2: DIFFERENCES IN COSINE SIMILARITY\n",
    "\n",
    "# For each class, we have 20 similarity values — one per image — showing how similar fake and real versions are.These values are very close across classes\n",
    "# So, to highlight subtle differences, compute and plot the difference between each pair of classes, value by value.\n",
    "# This gives you 20 values showing how much the similarity differs for each image between class 0 and class 1.\n",
    "# It's a magnified view of the gap between classes.\n",
    "# If the differences are tiny (e.g., 0.003), the plot helps make that visible and comparable.\n",
    "\n",
    "import numpy as np\n",
    "import matplotlib.pyplot as plt\n",
    "import seaborn as sns\n",
    "import pandas as pd\n",
    "\n",
    "# Differences between class distributions (pairwise)\n",
    "diff_12 = np.array(class2_sim) - np.array(class1_sim)\n",
    "diff_13 = np.array(class3_sim) - np.array(class1_sim)\n",
    "diff_14 = np.array(class4_sim) - np.array(class1_sim)\n",
    "diff_23 = np.array(class3_sim) - np.array(class2_sim)\n",
    "diff_24 = np.array(class4_sim) - np.array(class2_sim)\n",
    "diff_34 = np.array(class4_sim) - np.array(class3_sim)\n",
    "\n",
    "# Create a DataFrame\n",
    "diff_df = pd.DataFrame({\n",
    "    'Class 2 - Class 1': diff_12,\n",
    "    'Class 3 - Class 1': diff_13,\n",
    "    'Class 4 - Class 1': diff_14,\n",
    "    'Class 3 - Class 2': diff_23,\n",
    "    'Class 4 - Class 2': diff_24,\n",
    "    'Class 4 - Class 3': diff_34,\n",
    "})\n",
    "\n",
    "# Plot\n",
    "plt.figure(figsize=(7.5, 5))\n",
    "\n",
    "colors = sns.color_palette(\"tab10\", n_colors=6)\n",
    "\n",
    "for column, color in zip(diff_df.columns, colors):\n",
    "    sns.kdeplot(diff_df[column], label=column, color=color, linestyle='-')\n",
    "\n",
    "plt.axvline(0, color='black', linestyle='--', linewidth=1)  # reference line at 0\n",
    "plt.xlabel('Difference in Similarity', fontsize=12)\n",
    "plt.ylabel('Density', fontsize=12)\n",
    "plt.legend(fontsize=10)\n",
    "plt.title(\"Pairwise Differences in Cosine Similarity\", fontsize=13)\n",
    "plt.tight_layout()\n",
    "plt.show()"
   ]
  },
  {
   "cell_type": "code",
   "execution_count": 65,
   "id": "362bf182-7927-4ce2-bf5a-97299d426bc4",
   "metadata": {},
   "outputs": [],
   "source": [
    "def calculate_interclass_similarity(first, second):\n",
    "    similarities = []\n",
    "\n",
    "    first_images = []\n",
    "    second_images = []\n",
    "    if first == 'class1':\n",
    "        first_images = class0_original_images.copy()\n",
    "    elif first == 'class2':\n",
    "        first_images = class1_original_images.copy()\n",
    "    elif first == 'class3':\n",
    "        first_images = class2_original_images.copy()\n",
    "    elif first == 'class4':\n",
    "        first_images = class3_original_images.copy()\n",
    "\n",
    "    if second == 'class1':\n",
    "        second_images = class0_original_images.copy()\n",
    "    elif second == 'class2':\n",
    "        second_images = class1_original_images.copy()\n",
    "    elif second == 'class3':\n",
    "        second_images = class2_original_images.copy()\n",
    "    elif second == 'class4':\n",
    "        second_images = class3_original_images.copy()\n",
    "    \n",
    "    for i in range(0, 20):\n",
    "        first_image = first_images[i].unsqueeze(dim=0).to(device)\n",
    "        first_image = first_image.repeat(1, 3, 1, 1)\n",
    "        \n",
    "        second_image = second_images[i].unsqueeze(dim=0).to(device)\n",
    "        second_image = second_image.repeat(1, 3, 1, 1)\n",
    "        \n",
    "        features_first = get_feature(first_image)\n",
    "        features_second = get_feature(second_image)\n",
    "\n",
    "        cosine_similarity = 1 - cosine(features_first, features_second)\n",
    "        similarities.append(cosine_similarity)\n",
    "\n",
    "    return similarities"
   ]
  },
  {
   "cell_type": "code",
   "execution_count": 66,
   "id": "5954dfe3-cb08-4551-a5f9-d2082ac3d604",
   "metadata": {},
   "outputs": [],
   "source": [
    "class1class2 = calculate_interclass_similarity('class1', 'class2')"
   ]
  },
  {
   "cell_type": "code",
   "execution_count": 67,
   "id": "cd5ab50d-9d9d-443b-bea5-2d6e302e2bf4",
   "metadata": {},
   "outputs": [
    {
     "data": {
      "text/plain": [
       "[np.float32(0.92668736),\n",
       " np.float32(0.9234537),\n",
       " np.float32(0.8914366),\n",
       " np.float32(0.85996324),\n",
       " np.float32(0.9045878),\n",
       " np.float32(0.8661933),\n",
       " np.float32(0.8529511),\n",
       " np.float32(0.8320824),\n",
       " np.float32(0.81313324),\n",
       " np.float32(0.9028811),\n",
       " np.float32(0.9157124),\n",
       " np.float32(0.83247995),\n",
       " np.float32(0.9164997),\n",
       " np.float32(0.84919524),\n",
       " np.float32(0.90398437),\n",
       " np.float32(0.8242637),\n",
       " np.float32(0.78115076),\n",
       " np.float32(0.80533254),\n",
       " np.float32(0.92938054),\n",
       " np.float32(0.89034694)]"
      ]
     },
     "execution_count": 67,
     "metadata": {},
     "output_type": "execute_result"
    }
   ],
   "source": [
    "class1class2"
   ]
  },
  {
   "cell_type": "code",
   "execution_count": 68,
   "id": "29441f40-36a7-4854-98be-5d128bae49cd",
   "metadata": {},
   "outputs": [
    {
     "ename": "FileNotFoundError",
     "evalue": "[Errno 2] No such file or directory: 'output/VoiceDivergenceD3.png'",
     "output_type": "error",
     "traceback": [
      "\u001b[1;31m---------------------------------------------------------------------------\u001b[0m",
      "\u001b[1;31mFileNotFoundError\u001b[0m                         Traceback (most recent call last)",
      "Cell \u001b[1;32mIn[68], line 44\u001b[0m\n\u001b[0;32m     42\u001b[0m plt\u001b[38;5;241m.\u001b[39mtight_layout()\n\u001b[0;32m     43\u001b[0m \u001b[38;5;66;03m# Save the plot to a file\u001b[39;00m\n\u001b[1;32m---> 44\u001b[0m \u001b[43mplt\u001b[49m\u001b[38;5;241;43m.\u001b[39;49m\u001b[43msavefig\u001b[49m\u001b[43m(\u001b[49m\u001b[38;5;124;43m'\u001b[39;49m\u001b[38;5;124;43moutput/VoiceDivergenceD3.png\u001b[39;49m\u001b[38;5;124;43m'\u001b[39;49m\u001b[43m,\u001b[49m\u001b[43m \u001b[49m\u001b[43mdpi\u001b[49m\u001b[38;5;241;43m=\u001b[39;49m\u001b[38;5;241;43m300\u001b[39;49m\u001b[43m,\u001b[49m\u001b[43m \u001b[49m\u001b[43mbbox_inches\u001b[49m\u001b[38;5;241;43m=\u001b[39;49m\u001b[38;5;124;43m'\u001b[39;49m\u001b[38;5;124;43mtight\u001b[39;49m\u001b[38;5;124;43m'\u001b[39;49m\u001b[43m)\u001b[49m  \u001b[38;5;66;03m# Save as a PNG file with high resolution\u001b[39;00m\n\u001b[0;32m     46\u001b[0m \u001b[38;5;66;03m# Show the plot\u001b[39;00m\n\u001b[0;32m     47\u001b[0m plt\u001b[38;5;241m.\u001b[39mshow()\n",
      "File \u001b[1;32m~\\AppData\\Local\\Programs\\Python\\Python39\\lib\\site-packages\\matplotlib\\pyplot.py:1228\u001b[0m, in \u001b[0;36msavefig\u001b[1;34m(*args, **kwargs)\u001b[0m\n\u001b[0;32m   1225\u001b[0m fig \u001b[38;5;241m=\u001b[39m gcf()\n\u001b[0;32m   1226\u001b[0m \u001b[38;5;66;03m# savefig default implementation has no return, so mypy is unhappy\u001b[39;00m\n\u001b[0;32m   1227\u001b[0m \u001b[38;5;66;03m# presumably this is here because subclasses can return?\u001b[39;00m\n\u001b[1;32m-> 1228\u001b[0m res \u001b[38;5;241m=\u001b[39m fig\u001b[38;5;241m.\u001b[39msavefig(\u001b[38;5;241m*\u001b[39margs, \u001b[38;5;241m*\u001b[39m\u001b[38;5;241m*\u001b[39mkwargs)  \u001b[38;5;66;03m# type: ignore[func-returns-value]\u001b[39;00m\n\u001b[0;32m   1229\u001b[0m fig\u001b[38;5;241m.\u001b[39mcanvas\u001b[38;5;241m.\u001b[39mdraw_idle()  \u001b[38;5;66;03m# Need this if 'transparent=True', to reset colors.\u001b[39;00m\n\u001b[0;32m   1230\u001b[0m \u001b[38;5;28;01mreturn\u001b[39;00m res\n",
      "File \u001b[1;32m~\\AppData\\Local\\Programs\\Python\\Python39\\lib\\site-packages\\matplotlib\\figure.py:3395\u001b[0m, in \u001b[0;36mFigure.savefig\u001b[1;34m(self, fname, transparent, **kwargs)\u001b[0m\n\u001b[0;32m   3393\u001b[0m     \u001b[38;5;28;01mfor\u001b[39;00m ax \u001b[38;5;129;01min\u001b[39;00m \u001b[38;5;28mself\u001b[39m\u001b[38;5;241m.\u001b[39maxes:\n\u001b[0;32m   3394\u001b[0m         _recursively_make_axes_transparent(stack, ax)\n\u001b[1;32m-> 3395\u001b[0m \u001b[38;5;28mself\u001b[39m\u001b[38;5;241m.\u001b[39mcanvas\u001b[38;5;241m.\u001b[39mprint_figure(fname, \u001b[38;5;241m*\u001b[39m\u001b[38;5;241m*\u001b[39mkwargs)\n",
      "File \u001b[1;32m~\\AppData\\Local\\Programs\\Python\\Python39\\lib\\site-packages\\matplotlib\\backend_bases.py:2204\u001b[0m, in \u001b[0;36mFigureCanvasBase.print_figure\u001b[1;34m(self, filename, dpi, facecolor, edgecolor, orientation, format, bbox_inches, pad_inches, bbox_extra_artists, backend, **kwargs)\u001b[0m\n\u001b[0;32m   2200\u001b[0m \u001b[38;5;28;01mtry\u001b[39;00m:\n\u001b[0;32m   2201\u001b[0m     \u001b[38;5;66;03m# _get_renderer may change the figure dpi (as vector formats\u001b[39;00m\n\u001b[0;32m   2202\u001b[0m     \u001b[38;5;66;03m# force the figure dpi to 72), so we need to set it again here.\u001b[39;00m\n\u001b[0;32m   2203\u001b[0m     \u001b[38;5;28;01mwith\u001b[39;00m cbook\u001b[38;5;241m.\u001b[39m_setattr_cm(\u001b[38;5;28mself\u001b[39m\u001b[38;5;241m.\u001b[39mfigure, dpi\u001b[38;5;241m=\u001b[39mdpi):\n\u001b[1;32m-> 2204\u001b[0m         result \u001b[38;5;241m=\u001b[39m print_method(\n\u001b[0;32m   2205\u001b[0m             filename,\n\u001b[0;32m   2206\u001b[0m             facecolor\u001b[38;5;241m=\u001b[39mfacecolor,\n\u001b[0;32m   2207\u001b[0m             edgecolor\u001b[38;5;241m=\u001b[39medgecolor,\n\u001b[0;32m   2208\u001b[0m             orientation\u001b[38;5;241m=\u001b[39morientation,\n\u001b[0;32m   2209\u001b[0m             bbox_inches_restore\u001b[38;5;241m=\u001b[39m_bbox_inches_restore,\n\u001b[0;32m   2210\u001b[0m             \u001b[38;5;241m*\u001b[39m\u001b[38;5;241m*\u001b[39mkwargs)\n\u001b[0;32m   2211\u001b[0m \u001b[38;5;28;01mfinally\u001b[39;00m:\n\u001b[0;32m   2212\u001b[0m     \u001b[38;5;28;01mif\u001b[39;00m bbox_inches \u001b[38;5;129;01mand\u001b[39;00m restore_bbox:\n",
      "File \u001b[1;32m~\\AppData\\Local\\Programs\\Python\\Python39\\lib\\site-packages\\matplotlib\\backend_bases.py:2054\u001b[0m, in \u001b[0;36mFigureCanvasBase._switch_canvas_and_return_print_method.<locals>.<lambda>\u001b[1;34m(*args, **kwargs)\u001b[0m\n\u001b[0;32m   2050\u001b[0m     optional_kws \u001b[38;5;241m=\u001b[39m {  \u001b[38;5;66;03m# Passed by print_figure for other renderers.\u001b[39;00m\n\u001b[0;32m   2051\u001b[0m         \u001b[38;5;124m\"\u001b[39m\u001b[38;5;124mdpi\u001b[39m\u001b[38;5;124m\"\u001b[39m, \u001b[38;5;124m\"\u001b[39m\u001b[38;5;124mfacecolor\u001b[39m\u001b[38;5;124m\"\u001b[39m, \u001b[38;5;124m\"\u001b[39m\u001b[38;5;124medgecolor\u001b[39m\u001b[38;5;124m\"\u001b[39m, \u001b[38;5;124m\"\u001b[39m\u001b[38;5;124morientation\u001b[39m\u001b[38;5;124m\"\u001b[39m,\n\u001b[0;32m   2052\u001b[0m         \u001b[38;5;124m\"\u001b[39m\u001b[38;5;124mbbox_inches_restore\u001b[39m\u001b[38;5;124m\"\u001b[39m}\n\u001b[0;32m   2053\u001b[0m     skip \u001b[38;5;241m=\u001b[39m optional_kws \u001b[38;5;241m-\u001b[39m {\u001b[38;5;241m*\u001b[39minspect\u001b[38;5;241m.\u001b[39msignature(meth)\u001b[38;5;241m.\u001b[39mparameters}\n\u001b[1;32m-> 2054\u001b[0m     print_method \u001b[38;5;241m=\u001b[39m functools\u001b[38;5;241m.\u001b[39mwraps(meth)(\u001b[38;5;28;01mlambda\u001b[39;00m \u001b[38;5;241m*\u001b[39margs, \u001b[38;5;241m*\u001b[39m\u001b[38;5;241m*\u001b[39mkwargs: meth(\n\u001b[0;32m   2055\u001b[0m         \u001b[38;5;241m*\u001b[39margs, \u001b[38;5;241m*\u001b[39m\u001b[38;5;241m*\u001b[39m{k: v \u001b[38;5;28;01mfor\u001b[39;00m k, v \u001b[38;5;129;01min\u001b[39;00m kwargs\u001b[38;5;241m.\u001b[39mitems() \u001b[38;5;28;01mif\u001b[39;00m k \u001b[38;5;129;01mnot\u001b[39;00m \u001b[38;5;129;01min\u001b[39;00m skip}))\n\u001b[0;32m   2056\u001b[0m \u001b[38;5;28;01melse\u001b[39;00m:  \u001b[38;5;66;03m# Let third-parties do as they see fit.\u001b[39;00m\n\u001b[0;32m   2057\u001b[0m     print_method \u001b[38;5;241m=\u001b[39m meth\n",
      "File \u001b[1;32m~\\AppData\\Local\\Programs\\Python\\Python39\\lib\\site-packages\\matplotlib\\backends\\backend_agg.py:496\u001b[0m, in \u001b[0;36mFigureCanvasAgg.print_png\u001b[1;34m(self, filename_or_obj, metadata, pil_kwargs)\u001b[0m\n\u001b[0;32m    449\u001b[0m \u001b[38;5;28;01mdef\u001b[39;00m\u001b[38;5;250m \u001b[39m\u001b[38;5;21mprint_png\u001b[39m(\u001b[38;5;28mself\u001b[39m, filename_or_obj, \u001b[38;5;241m*\u001b[39m, metadata\u001b[38;5;241m=\u001b[39m\u001b[38;5;28;01mNone\u001b[39;00m, pil_kwargs\u001b[38;5;241m=\u001b[39m\u001b[38;5;28;01mNone\u001b[39;00m):\n\u001b[0;32m    450\u001b[0m \u001b[38;5;250m    \u001b[39m\u001b[38;5;124;03m\"\"\"\u001b[39;00m\n\u001b[0;32m    451\u001b[0m \u001b[38;5;124;03m    Write the figure to a PNG file.\u001b[39;00m\n\u001b[0;32m    452\u001b[0m \n\u001b[1;32m   (...)\u001b[0m\n\u001b[0;32m    494\u001b[0m \u001b[38;5;124;03m        *metadata*, including the default 'Software' key.\u001b[39;00m\n\u001b[0;32m    495\u001b[0m \u001b[38;5;124;03m    \"\"\"\u001b[39;00m\n\u001b[1;32m--> 496\u001b[0m     \u001b[38;5;28;43mself\u001b[39;49m\u001b[38;5;241;43m.\u001b[39;49m\u001b[43m_print_pil\u001b[49m\u001b[43m(\u001b[49m\u001b[43mfilename_or_obj\u001b[49m\u001b[43m,\u001b[49m\u001b[43m \u001b[49m\u001b[38;5;124;43m\"\u001b[39;49m\u001b[38;5;124;43mpng\u001b[39;49m\u001b[38;5;124;43m\"\u001b[39;49m\u001b[43m,\u001b[49m\u001b[43m \u001b[49m\u001b[43mpil_kwargs\u001b[49m\u001b[43m,\u001b[49m\u001b[43m \u001b[49m\u001b[43mmetadata\u001b[49m\u001b[43m)\u001b[49m\n",
      "File \u001b[1;32m~\\AppData\\Local\\Programs\\Python\\Python39\\lib\\site-packages\\matplotlib\\backends\\backend_agg.py:445\u001b[0m, in \u001b[0;36mFigureCanvasAgg._print_pil\u001b[1;34m(self, filename_or_obj, fmt, pil_kwargs, metadata)\u001b[0m\n\u001b[0;32m    440\u001b[0m \u001b[38;5;250m\u001b[39m\u001b[38;5;124;03m\"\"\"\u001b[39;00m\n\u001b[0;32m    441\u001b[0m \u001b[38;5;124;03mDraw the canvas, then save it using `.image.imsave` (to which\u001b[39;00m\n\u001b[0;32m    442\u001b[0m \u001b[38;5;124;03m*pil_kwargs* and *metadata* are forwarded).\u001b[39;00m\n\u001b[0;32m    443\u001b[0m \u001b[38;5;124;03m\"\"\"\u001b[39;00m\n\u001b[0;32m    444\u001b[0m FigureCanvasAgg\u001b[38;5;241m.\u001b[39mdraw(\u001b[38;5;28mself\u001b[39m)\n\u001b[1;32m--> 445\u001b[0m \u001b[43mmpl\u001b[49m\u001b[38;5;241;43m.\u001b[39;49m\u001b[43mimage\u001b[49m\u001b[38;5;241;43m.\u001b[39;49m\u001b[43mimsave\u001b[49m\u001b[43m(\u001b[49m\n\u001b[0;32m    446\u001b[0m \u001b[43m    \u001b[49m\u001b[43mfilename_or_obj\u001b[49m\u001b[43m,\u001b[49m\u001b[43m \u001b[49m\u001b[38;5;28;43mself\u001b[39;49m\u001b[38;5;241;43m.\u001b[39;49m\u001b[43mbuffer_rgba\u001b[49m\u001b[43m(\u001b[49m\u001b[43m)\u001b[49m\u001b[43m,\u001b[49m\u001b[43m \u001b[49m\u001b[38;5;28;43mformat\u001b[39;49m\u001b[38;5;241;43m=\u001b[39;49m\u001b[43mfmt\u001b[49m\u001b[43m,\u001b[49m\u001b[43m \u001b[49m\u001b[43morigin\u001b[49m\u001b[38;5;241;43m=\u001b[39;49m\u001b[38;5;124;43m\"\u001b[39;49m\u001b[38;5;124;43mupper\u001b[39;49m\u001b[38;5;124;43m\"\u001b[39;49m\u001b[43m,\u001b[49m\n\u001b[0;32m    447\u001b[0m \u001b[43m    \u001b[49m\u001b[43mdpi\u001b[49m\u001b[38;5;241;43m=\u001b[39;49m\u001b[38;5;28;43mself\u001b[39;49m\u001b[38;5;241;43m.\u001b[39;49m\u001b[43mfigure\u001b[49m\u001b[38;5;241;43m.\u001b[39;49m\u001b[43mdpi\u001b[49m\u001b[43m,\u001b[49m\u001b[43m \u001b[49m\u001b[43mmetadata\u001b[49m\u001b[38;5;241;43m=\u001b[39;49m\u001b[43mmetadata\u001b[49m\u001b[43m,\u001b[49m\u001b[43m \u001b[49m\u001b[43mpil_kwargs\u001b[49m\u001b[38;5;241;43m=\u001b[39;49m\u001b[43mpil_kwargs\u001b[49m\u001b[43m)\u001b[49m\n",
      "File \u001b[1;32m~\\AppData\\Local\\Programs\\Python\\Python39\\lib\\site-packages\\matplotlib\\image.py:1676\u001b[0m, in \u001b[0;36mimsave\u001b[1;34m(fname, arr, vmin, vmax, cmap, format, origin, dpi, metadata, pil_kwargs)\u001b[0m\n\u001b[0;32m   1674\u001b[0m pil_kwargs\u001b[38;5;241m.\u001b[39msetdefault(\u001b[38;5;124m\"\u001b[39m\u001b[38;5;124mformat\u001b[39m\u001b[38;5;124m\"\u001b[39m, \u001b[38;5;28mformat\u001b[39m)\n\u001b[0;32m   1675\u001b[0m pil_kwargs\u001b[38;5;241m.\u001b[39msetdefault(\u001b[38;5;124m\"\u001b[39m\u001b[38;5;124mdpi\u001b[39m\u001b[38;5;124m\"\u001b[39m, (dpi, dpi))\n\u001b[1;32m-> 1676\u001b[0m image\u001b[38;5;241m.\u001b[39msave(fname, \u001b[38;5;241m*\u001b[39m\u001b[38;5;241m*\u001b[39mpil_kwargs)\n",
      "File \u001b[1;32m~\\AppData\\Local\\Programs\\Python\\Python39\\lib\\site-packages\\PIL\\Image.py:2436\u001b[0m, in \u001b[0;36mImage.save\u001b[1;34m(self, fp, format, **params)\u001b[0m\n\u001b[0;32m   2434\u001b[0m         fp \u001b[38;5;241m=\u001b[39m builtins\u001b[38;5;241m.\u001b[39mopen(filename, \u001b[38;5;124m\"\u001b[39m\u001b[38;5;124mr+b\u001b[39m\u001b[38;5;124m\"\u001b[39m)\n\u001b[0;32m   2435\u001b[0m     \u001b[38;5;28;01melse\u001b[39;00m:\n\u001b[1;32m-> 2436\u001b[0m         fp \u001b[38;5;241m=\u001b[39m \u001b[43mbuiltins\u001b[49m\u001b[38;5;241;43m.\u001b[39;49m\u001b[43mopen\u001b[49m\u001b[43m(\u001b[49m\u001b[43mfilename\u001b[49m\u001b[43m,\u001b[49m\u001b[43m \u001b[49m\u001b[38;5;124;43m\"\u001b[39;49m\u001b[38;5;124;43mw+b\u001b[39;49m\u001b[38;5;124;43m\"\u001b[39;49m\u001b[43m)\u001b[49m\n\u001b[0;32m   2438\u001b[0m \u001b[38;5;28;01mtry\u001b[39;00m:\n\u001b[0;32m   2439\u001b[0m     save_handler(\u001b[38;5;28mself\u001b[39m, fp, filename)\n",
      "\u001b[1;31mFileNotFoundError\u001b[0m: [Errno 2] No such file or directory: 'output/VoiceDivergenceD3.png'"
     ]
    },
    {
     "data": {
      "image/png": "[encoded data removed]",
      "text/plain": [
       "<Figure size 650x420 with 1 Axes>"
      ]
     },
     "metadata": {},
     "output_type": "display_data"
    }
   ],
   "source": [
    "                                                # FIG: 3 -> INTERCLASS SIMILARITIES\n",
    "\n",
    "import pandas as pd\n",
    "import numpy as np\n",
    "import matplotlib.pyplot as plt\n",
    "import seaborn as sns\n",
    "\n",
    "# Set figure size\n",
    "plt.figure(figsize=(6.5, 4.2))  # Set the size of the figure (width, height)\n",
    "\n",
    "# Generate sample similarity data for four classes (each with 20 values in the range 0 to 1)\n",
    "np.random.seed(42)  # For reproducibility\n",
    "class1class2 = calculate_interclass_similarity('class1', 'class2')\n",
    "class1class3 = calculate_interclass_similarity('class1', 'class3')\n",
    "class1class4 = calculate_interclass_similarity('class1', 'class4')\n",
    "class2class3 = calculate_interclass_similarity('class2', 'class3')\n",
    "class2class4 = calculate_interclass_similarity('class2', 'class4')\n",
    "class3class4 = calculate_interclass_similarity('class3', 'class4')\n",
    "\n",
    "# Sample DataFrame with four columns\n",
    "data=pd.DataFrame({'Class1 vs Class2':class1class2,'Class1 vs Class3':class1class3,'Class1 vs Class4':class1class4,'Class2 vs Class3':class2class3,'Class2 vs Class4':class2class4,'Class3 vs Class4':class3class4})\n",
    "df = pd.DataFrame(data)\n",
    "\n",
    "# Plot the probability distributions\n",
    "#plt.figure(figsize=(10, 6))\n",
    "\n",
    "# Define colors and line styles for each column\n",
    "colors = ['#1f77b4', '#ff7f0e', '#2ca02c', '#d62728', '#9467bd', '#8c564b']\n",
    "linestyles = ['-.', '--', '-', '-', '-.', '--']\n",
    "\n",
    "# Plot the probability distributions with unique colors and line styles\n",
    "for column, color, linestyle in zip(df.columns, colors, linestyles):\n",
    "    sns.kdeplot(df[column], label=column, color=color, linestyle=linestyle)\n",
    "\n",
    "#plt.title('Probability Distributions of Four Columns')\n",
    "plt.xlabel('Similarity',fontsize=12)\n",
    "plt.ylabel('Density',fontsize=12)\n",
    "plt.yticks(fontsize=12)  # Set y-tick labels font size\n",
    "plt.legend(loc='upper right',fontsize=12)  # Increase legend font size\n",
    "\n",
    "# Optimize layout\n",
    "plt.tight_layout()\n",
    "# Save the plot to a file\n",
    "plt.savefig('output/VoiceDivergenceD3.png', dpi=300, bbox_inches='tight')  # Save as a PNG file with high resolution\n",
    "\n",
    "# Show the plot\n",
    "plt.show()"
   ]
  },
  {
   "cell_type": "code",
   "execution_count": null,
   "id": "19754eee-5c1e-47e6-bbaa-b2cef05a1641",
   "metadata": {},
   "outputs": [],
   "source": []
  }
 ],
 "metadata": {
  "kernelspec": {
   "display_name": "Python 3 (ipykernel)",
   "language": "python",
   "name": "python3"
  },
  "language_info": {
   "codemirror_mode": {
    "name": "ipython",
    "version": 3
   },
   "file_extension": ".py",
   "mimetype": "text/x-python",
   "name": "python",
   "nbconvert_exporter": "python",
   "pygments_lexer": "ipython3",
   "version": "3.9.7"
  }
 },
 "nbformat": 4,
 "nbformat_minor": 5
}
