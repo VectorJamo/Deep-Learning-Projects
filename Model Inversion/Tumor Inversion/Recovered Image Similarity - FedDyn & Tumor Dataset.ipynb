{
 "cells": [
  {
   "cell_type": "code",
   "execution_count": 1,
   "id": "646b38c2-386a-4f83-a983-ea764ad8267f",
   "metadata": {},
   "outputs": [],
   "source": [
    "# Attempting to recover training data using model's parameters and a DCGAN that was trained on similar data\n",
    "# Author: Suraj Neupane\n",
    "# Written from scratch as a part of a Research Project 2025, Concordia University of Edmonton.\n",
    "import numpy as np\n",
    "\n",
    "import torch\n",
    "from torch import nn\n",
    "from torch.nn import functional\n",
    "\n",
    "from torch.utils import data\n",
    "from torch.utils.data import DataLoader\n",
    "\n",
    "import torchvision\n",
    "from torchvision import datasets\n",
    "from torchvision import transforms\n",
    "\n",
    "import pickle\n",
    "\n",
    "import matplotlib.pyplot as plt\n",
    "%matplotlib inline"
   ]
  },
  {
   "cell_type": "code",
   "execution_count": 2,
   "id": "8b80ddb2-ed75-4870-85b4-9300fce0df7e",
   "metadata": {},
   "outputs": [
    {
     "data": {
      "text/plain": [
       "'2.5.1+cu118'"
      ]
     },
     "execution_count": 2,
     "metadata": {},
     "output_type": "execute_result"
    }
   ],
   "source": [
    "torch.__version__"
   ]
  },
  {
   "cell_type": "code",
   "execution_count": 3,
   "id": "d6950585-eb31-4f61-bd60-5bf8716fcdef",
   "metadata": {},
   "outputs": [],
   "source": [
    "device = 'cuda' if torch.cuda.is_available() else 'cpu'"
   ]
  },
  {
   "cell_type": "code",
   "execution_count": 4,
   "id": "36c47e07-6b7d-4123-a59d-5d465f9ef280",
   "metadata": {},
   "outputs": [
    {
     "data": {
      "text/plain": [
       "'cuda'"
      ]
     },
     "execution_count": 4,
     "metadata": {},
     "output_type": "execute_result"
    }
   ],
   "source": [
    "device"
   ]
  },
  {
   "cell_type": "code",
   "execution_count": 5,
   "id": "b852ca55-f33e-469f-b7b9-e00d21124927",
   "metadata": {},
   "outputs": [],
   "source": [
    "# DCGAN Implementation Class\n",
    "# Discriminator\n",
    "class Discriminator(nn.Module):\n",
    "    def __init__(self, img_channels, features_d):\n",
    "        super().__init__()\n",
    "        self.disc = nn.Sequential(\n",
    "            # Input shape: img_channels x 64 x 64\n",
    "            nn.Conv2d(\n",
    "              in_channels=img_channels, out_channels=features_d, kernel_size=4, stride=2, padding=1\n",
    "            ), # Output shape: features_d x 32 x 32\n",
    "            nn.LeakyReLU(0.2),\n",
    "            self._block(features_d, features_d*2, 4, 2, 1), # Output shape: features_d*2 x 16 x 16\n",
    "            self._block(features_d*2, features_d*4, 4, 2, 1), # Output shape: features_d*4 x 8 x 8\n",
    "            self._block(features_d*4, features_d*8, 4, 2, 1), # Output shape: features_d*8 x 4 x 4\n",
    "           \n",
    "            nn.Conv2d(in_channels=features_d*8, out_channels=1, kernel_size=4, stride=2, padding=0), # Output shape: 1 x 1\n",
    "            nn.Sigmoid(),\n",
    "        )\n",
    "\n",
    "    def _block(self, in_channels, out_channels, kernel_size, stride, padding):\n",
    "        return nn.Sequential(\n",
    "            nn.Conv2d(in_channels, out_channels, kernel_size, stride, padding, bias=False),\n",
    "            nn.BatchNorm2d(out_channels),\n",
    "            nn.LeakyReLU(0.2),\n",
    "        )\n",
    "\n",
    "    def forward(self, X):\n",
    "        return self.disc(X)\n"
   ]
  },
  {
   "cell_type": "code",
   "execution_count": 6,
   "id": "5afe02e5-61d3-4f25-8933-8484e519cd4a",
   "metadata": {},
   "outputs": [],
   "source": [
    "# Generator\n",
    "class Generator(nn.Module):\n",
    "    def __init__(self, z_dim, img_channels, features_g):\n",
    "        super().__init__()\n",
    "        self.gen = nn.Sequential(\n",
    "            self._block(z_dim, features_g*16, 4, 1, 0), # z_dim: (batch_size, 100, 1, 1) -> (batch_size, 1024, 4, 4)\n",
    "            self._block(features_g*16, features_g*8, 4, 2, 1), # z_dim: (batch_size, 1024, 4, 4) -> (batch_size, 512, 8, 8)\n",
    "            self._block(features_g*8, features_g*4, 4, 2, 1), # z_dim: (batch_size, 512, 8, 8) -> (batch_size, 256, 16, 16)\n",
    "            self._block(features_g*4, features_g*2, 4, 2, 1), # z_dim: (batch_size, 128, 16, 16) -> (batch_size, 64, 32, 32)\n",
    "            nn.ConvTranspose2d(\n",
    "                in_channels=features_g*2, out_channels=img_channels, kernel_size=4, stride=2, padding=1 # z_dim: (batch_size, 64, 32, 32) -> (batch_size, 1, 64, 64)\n",
    "            ),\n",
    "            nn.Tanh(),\n",
    "        )\n",
    "        \n",
    "    def _block(self, in_channels, out_channels, kernel_size, stride, padding):\n",
    "        return nn.Sequential(\n",
    "            nn.ConvTranspose2d(\n",
    "                in_channels, out_channels, kernel_size, stride, padding, bias=False,\n",
    "            ),\n",
    "            nn.InstanceNorm2d(out_channels, affine=True),\n",
    "            nn.ReLU(),\n",
    "        )\n",
    "\n",
    "    def forward(self, X):\n",
    "        return self.gen(X)"
   ]
  },
  {
   "cell_type": "code",
   "execution_count": 7,
   "id": "48c1be35-d58a-4d0c-990d-9250fbdbf1b3",
   "metadata": {},
   "outputs": [],
   "source": [
    "# Hyperparams\n",
    "z_dim = 100\n",
    "img_channels = 1\n",
    "features_disc = 64\n",
    "features_gen = 64"
   ]
  },
  {
   "cell_type": "code",
   "execution_count": 8,
   "id": "f2dc1f40-5c2e-4903-b2e7-7abe5cae9772",
   "metadata": {},
   "outputs": [],
   "source": [
    "# Create the model instances\n",
    "gen = Generator(z_dim, img_channels, features_gen).to(device)\n",
    "disc = Discriminator(img_channels, features_disc).to(device)"
   ]
  },
  {
   "cell_type": "code",
   "execution_count": 9,
   "id": "bc7a5deb-f8d8-41d4-aed3-d012d39a84b9",
   "metadata": {},
   "outputs": [
    {
     "data": {
      "text/plain": [
       "<All keys matched successfully>"
      ]
     },
     "execution_count": 9,
     "metadata": {},
     "output_type": "execute_result"
    }
   ],
   "source": [
    "# Load the trained GAN\n",
    "gen.load_state_dict(torch.load('saved models/Generator2.pth', weights_only=True))\n",
    "disc.load_state_dict(torch.load('saved models/Discriminator2.pth', weights_only=True))"
   ]
  },
  {
   "cell_type": "code",
   "execution_count": 10,
   "id": "a504e932-e168-4bb8-88cc-eea0810aafb0",
   "metadata": {},
   "outputs": [],
   "source": [
    "# Generate a random fake image\n",
    "noise = torch.randn(1, z_dim, 1, 1).to(device)\n",
    "fake_img = gen(noise)"
   ]
  },
  {
   "cell_type": "code",
   "execution_count": 11,
   "id": "98b5d73f-b130-4bc1-a868-c225bd2abe62",
   "metadata": {},
   "outputs": [
    {
     "data": {
      "text/plain": [
       "torch.Size([1, 1, 64, 64])"
      ]
     },
     "execution_count": 11,
     "metadata": {},
     "output_type": "execute_result"
    }
   ],
   "source": [
    "fake_img.shape"
   ]
  },
  {
   "cell_type": "code",
   "execution_count": 12,
   "id": "9d19338c-18e4-4b6e-842f-a225718fa8bb",
   "metadata": {},
   "outputs": [
    {
     "name": "stdout",
     "output_type": "stream",
     "text": [
      "torch.Size([64, 64])\n"
     ]
    },
    {
     "data": {
      "text/plain": [
       "<matplotlib.image.AxesImage at 0x25eaea86460>"
      ]
     },
     "execution_count": 12,
     "metadata": {},
     "output_type": "execute_result"
    },
    {
     "data": {
      "image/png": "[encoded data removed]",
      "text/plain": [
       "<Figure size 640x480 with 1 Axes>"
      ]
     },
     "metadata": {},
     "output_type": "display_data"
    }
   ],
   "source": [
    "fake_img = fake_img.squeeze()\n",
    "print(fake_img.shape)\n",
    "plt.axis(False)\n",
    "plt.title('Fake Generated Image:')\n",
    "plt.imshow(fake_img.cpu().detach(), cmap='gray')"
   ]
  },
  {
   "cell_type": "code",
   "execution_count": 13,
   "id": "cf2aefac-a759-4335-a3de-2065d6a6a9a5",
   "metadata": {},
   "outputs": [],
   "source": [
    "# Target Model\n",
    "class TFCNN(nn.Module):\n",
    "    def __init__(self, n_classes):\n",
    "        super().__init__()\n",
    "        self.n_classes = n_classes\n",
    "\n",
    "        self.encoder = nn.Sequential(\n",
    "            nn.Conv2d(3, 32, 3, stride=1, padding=1),\n",
    "            nn.ReLU(True),\n",
    "            nn.MaxPool2d(2),\n",
    "            nn.Conv2d(32, 64, 3, stride=1, padding=1),\n",
    "            nn.ReLU(True),\n",
    "            nn.MaxPool2d(2),\n",
    "            nn.Conv2d(64, 64, 3, stride=1, padding=1),\n",
    "            nn.ReLU(True),\n",
    "            nn.MaxPool2d(2),\n",
    "            Reshape(),\n",
    "        )\n",
    "\n",
    "        self.h_size = 64 * 4 * 4\n",
    "\n",
    "        self.classifier = nn.Sequential(\n",
    "            nn.Linear(64 * 4 * 4, 128),\n",
    "            nn.ReLU(True),\n",
    "            nn.Linear(128, n_classes)\n",
    "        )\n",
    "\n",
    "    def forward(self, xs):\n",
    "        code = self.encoder(xs)\n",
    "        logits = self.classifier(code)\n",
    "        return code, logits\n"
   ]
  },
  {
   "cell_type": "code",
   "execution_count": 14,
   "id": "d28876e2-91ee-4ebf-bc52-b71dc82edfa2",
   "metadata": {},
   "outputs": [],
   "source": [
    "class Reshape(nn.Module):\n",
    "    def __init__(self,):\n",
    "        super().__init__()\n",
    "\n",
    "    def forward(self, xs):\n",
    "        return xs.reshape((xs.shape[0], -1))"
   ]
  },
  {
   "cell_type": "code",
   "execution_count": 15,
   "id": "dd57210c-2c18-4651-8f29-be94a7a7a88f",
   "metadata": {},
   "outputs": [],
   "source": [
    "class ClassifyNet(nn.Module):\n",
    "    def __init__(self, net, init_way, n_classes, input_size=None):\n",
    "        super().__init__()\n",
    "        self.net = net\n",
    "        self.init_way = init_way\n",
    "        self.n_classes = n_classes\n",
    "\n",
    "        model = TFCNN(n_classes)\n",
    "\n",
    "        self.h_size = model.h_size\n",
    "\n",
    "        # Convo and pool layers\n",
    "        self.encoder = model.encoder\n",
    "\n",
    "        # Classifier layer\n",
    "        self.classifier = nn.Linear(\n",
    "            self.h_size, self.n_classes, bias=False\n",
    "        )\n",
    "\n",
    "        if self.init_way == \"orth\":\n",
    "            ws = get_orth_weights(self.h_size, self.n_classes)\n",
    "            self.classifier.load_state_dict({\"weight\": ws})\n",
    "\n",
    "    def forward(self, xs):\n",
    "        hs = self.encoder(xs)\n",
    "        logits = self.classifier(hs)\n",
    "        return hs, logits"
   ]
  },
  {
   "cell_type": "code",
   "execution_count": 16,
   "id": "83ea3c08-0470-4c9a-ba15-8328a316b3ab",
   "metadata": {},
   "outputs": [],
   "source": [
    "def load_target_model(base_net, n_classes, path):\n",
    "    # Create the base model\n",
    "    model = ClassifyNet(net=base_net, init_way='none', n_classes=n_classes)\n",
    "    # Load the model\n",
    "    model.load_state_dict(torch.load(path, weights_only=True))\n",
    "\n",
    "    return model"
   ]
  },
  {
   "cell_type": "code",
   "execution_count": 17,
   "id": "0880f1aa-9d08-445a-85ac-f1ff3cebde04",
   "metadata": {},
   "outputs": [
    {
     "name": "stdout",
     "output_type": "stream",
     "text": [
      "Model loaded successfully!\n",
      "Number of parameters in the loaded model: 60416\n"
     ]
    }
   ],
   "source": [
    "# Target Model Loading\n",
    "BASE_NET = 'TFCNN'\n",
    "DATASET = 'tumor4'\n",
    "N_CLASSES = 4\n",
    "\n",
    "target_model = load_target_model(base_net=BASE_NET, n_classes=N_CLASSES, path='saved models/feddyn_global_model.path').to(device)\n",
    "print('Model loaded successfully!')\n",
    "target_model.eval()\n",
    "\n",
    "num_params = sum(p.numel() for p in target_model.parameters())\n",
    "print('Number of parameters in the loaded model:', num_params)\n"
   ]
  },
  {
   "cell_type": "code",
   "execution_count": 18,
   "id": "f843f19e-b2a5-4ffe-b22b-de4ff93c5643",
   "metadata": {},
   "outputs": [],
   "source": [
    "# BEGIN BATCH MODEL INVERSION\n",
    "img_count = 20\n",
    "latent_vectors = torch.randn(img_count, z_dim, 1, 1, requires_grad=True) # Start with 20 random noises"
   ]
  },
  {
   "cell_type": "code",
   "execution_count": 19,
   "id": "c21320ed-d5ac-4919-aaad-8cfa093998a6",
   "metadata": {},
   "outputs": [],
   "source": [
    "def recover_images(count, target_image_class, latent_vectors):\n",
    "    optimized_latent_vectors = []\n",
    "    \n",
    "    for x in range(0, count):\n",
    "        z = latent_vectors[x].unsqueeze(dim=0).clone().detach().requires_grad_(True)\n",
    "        \n",
    "        learning_rate = 0.01\n",
    "        target_class = 1 # The second class\n",
    "        \n",
    "        # Create the optimizer\n",
    "        optimizer = torch.optim.Adam([z], lr=learning_rate)\n",
    "        \n",
    "        # Loss function (e.g., Cross-Entropy with classifier outputs)\n",
    "        loss_fn = nn.CrossEntropyLoss()\n",
    "        target_class = torch.tensor([target_image_class])  # Set the target class\n",
    "    \n",
    "        # Optimization loop to find the best z\n",
    "        rounds = 500\n",
    "        for i in range(rounds):\n",
    "            optimizer.zero_grad()\n",
    "            \n",
    "            generated_image = gen(z.to(device))  # Generate an image from the latent vector\n",
    "            generated_image = generated_image.repeat(1, 3, 1, 1)\n",
    "            generated_image = functional.interpolate(generated_image, size=(32, 32), mode='nearest')\n",
    "            #print(generated_image.shape)\n",
    "            hs, prediction_logits = target_model(generated_image)  # Classifier output\n",
    "            #print(prediction_logits)\n",
    "            #print(type(prediction_logits))\n",
    "            loss = loss_fn(prediction_logits, target_class.to(device))  # Minimize difference with true class\n",
    "            loss.backward()\n",
    "            optimizer.step()\n",
    "            \n",
    "            if i % 50 == 0:\n",
    "                print(f\"Generating Image Number: {x+1} for target class {target_class}. Step {i}, Loss: {loss.item()}\")\n",
    "    \n",
    "        optimized_latent_vectors.append(z)\n",
    "        \n",
    "    return optimized_latent_vectors"
   ]
  },
  {
   "cell_type": "code",
   "execution_count": 20,
   "id": "9ebc9533-23ca-4d44-8aea-9d134281b3a4",
   "metadata": {
    "scrolled": true
   },
   "outputs": [
    {
     "name": "stdout",
     "output_type": "stream",
     "text": [
      "Generating Image Number: 1 for target class tensor([0]). Step 0, Loss: 2.3841855067985307e-07\n",
      "Generating Image Number: 1 for target class tensor([0]). Step 50, Loss: 1.1920928244535389e-07\n",
      "Generating Image Number: 1 for target class tensor([0]). Step 100, Loss: 1.1920928244535389e-07\n",
      "Generating Image Number: 1 for target class tensor([0]). Step 150, Loss: 1.1920928244535389e-07\n",
      "Generating Image Number: 1 for target class tensor([0]). Step 200, Loss: 1.1920928244535389e-07\n",
      "Generating Image Number: 1 for target class tensor([0]). Step 250, Loss: 1.1920928244535389e-07\n",
      "Generating Image Number: 1 for target class tensor([0]). Step 300, Loss: 1.1920928244535389e-07\n",
      "Generating Image Number: 1 for target class tensor([0]). Step 350, Loss: 1.1920928244535389e-07\n",
      "Generating Image Number: 1 for target class tensor([0]). Step 400, Loss: 1.1920928244535389e-07\n",
      "Generating Image Number: 1 for target class tensor([0]). Step 450, Loss: 1.1920928244535389e-07\n",
      "Generating Image Number: 2 for target class tensor([0]). Step 0, Loss: 3.6160593032836914\n",
      "Generating Image Number: 2 for target class tensor([0]). Step 50, Loss: 1.6781830787658691\n",
      "Generating Image Number: 2 for target class tensor([0]). Step 100, Loss: 0.9211788177490234\n",
      "Generating Image Number: 2 for target class tensor([0]). Step 150, Loss: 0.49384212493896484\n",
      "Generating Image Number: 2 for target class tensor([0]). Step 200, Loss: 0.34629562497138977\n",
      "Generating Image Number: 2 for target class tensor([0]). Step 250, Loss: 0.27698197960853577\n",
      "Generating Image Number: 2 for target class tensor([0]). Step 300, Loss: 0.2369002252817154\n",
      "Generating Image Number: 2 for target class tensor([0]). Step 350, Loss: 0.20402590930461884\n",
      "Generating Image Number: 2 for target class tensor([0]). Step 400, Loss: 0.17996633052825928\n",
      "Generating Image Number: 2 for target class tensor([0]). Step 450, Loss: 0.16160032153129578\n",
      "Generating Image Number: 3 for target class tensor([0]). Step 0, Loss: 0.8378592729568481\n",
      "Generating Image Number: 3 for target class tensor([0]). Step 50, Loss: 0.061012186110019684\n",
      "Generating Image Number: 3 for target class tensor([0]). Step 100, Loss: 0.05237370729446411\n",
      "Generating Image Number: 3 for target class tensor([0]). Step 150, Loss: 0.0463184118270874\n",
      "Generating Image Number: 3 for target class tensor([0]). Step 200, Loss: 0.04187414422631264\n",
      "Generating Image Number: 3 for target class tensor([0]). Step 250, Loss: 0.037936173379421234\n",
      "Generating Image Number: 3 for target class tensor([0]). Step 300, Loss: 0.03482009470462799\n",
      "Generating Image Number: 3 for target class tensor([0]). Step 350, Loss: 0.03248564526438713\n",
      "Generating Image Number: 3 for target class tensor([0]). Step 400, Loss: 0.030040472745895386\n",
      "Generating Image Number: 3 for target class tensor([0]). Step 450, Loss: 0.02801167592406273\n",
      "Generating Image Number: 4 for target class tensor([0]). Step 0, Loss: 1.127856969833374\n",
      "Generating Image Number: 4 for target class tensor([0]). Step 50, Loss: 0.11738336831331253\n",
      "Generating Image Number: 4 for target class tensor([0]). Step 100, Loss: 0.09048784524202347\n",
      "Generating Image Number: 4 for target class tensor([0]). Step 150, Loss: 0.07641290128231049\n",
      "Generating Image Number: 4 for target class tensor([0]). Step 200, Loss: 0.06618543714284897\n",
      "Generating Image Number: 4 for target class tensor([0]). Step 250, Loss: 0.05726485699415207\n",
      "Generating Image Number: 4 for target class tensor([0]). Step 300, Loss: 0.05140113830566406\n",
      "Generating Image Number: 4 for target class tensor([0]). Step 350, Loss: 0.04669927433133125\n",
      "Generating Image Number: 4 for target class tensor([0]). Step 400, Loss: 0.04244055598974228\n",
      "Generating Image Number: 4 for target class tensor([0]). Step 450, Loss: 0.03813459351658821\n",
      "Generating Image Number: 5 for target class tensor([0]). Step 0, Loss: 0.6947885155677795\n",
      "Generating Image Number: 5 for target class tensor([0]). Step 50, Loss: 0.10788091272115707\n",
      "Generating Image Number: 5 for target class tensor([0]). Step 100, Loss: 0.07860834151506424\n",
      "Generating Image Number: 5 for target class tensor([0]). Step 150, Loss: 0.06000364199280739\n",
      "Generating Image Number: 5 for target class tensor([0]). Step 200, Loss: 0.05050424113869667\n",
      "Generating Image Number: 5 for target class tensor([0]). Step 250, Loss: 0.04338067024946213\n",
      "Generating Image Number: 5 for target class tensor([0]). Step 300, Loss: 0.03783390671014786\n",
      "Generating Image Number: 5 for target class tensor([0]). Step 350, Loss: 0.03398171439766884\n",
      "Generating Image Number: 5 for target class tensor([0]). Step 400, Loss: 0.0313405804336071\n",
      "Generating Image Number: 5 for target class tensor([0]). Step 450, Loss: 0.02959071658551693\n",
      "Generating Image Number: 6 for target class tensor([0]). Step 0, Loss: 1.1920928244535389e-07\n",
      "Generating Image Number: 6 for target class tensor([0]). Step 50, Loss: 1.1920928244535389e-07\n",
      "Generating Image Number: 6 for target class tensor([0]). Step 100, Loss: 1.1920928244535389e-07\n",
      "Generating Image Number: 6 for target class tensor([0]). Step 150, Loss: 1.1920928244535389e-07\n",
      "Generating Image Number: 6 for target class tensor([0]). Step 200, Loss: 1.1920928244535389e-07\n",
      "Generating Image Number: 6 for target class tensor([0]). Step 250, Loss: 1.1920928244535389e-07\n",
      "Generating Image Number: 6 for target class tensor([0]). Step 300, Loss: 1.1920928244535389e-07\n",
      "Generating Image Number: 6 for target class tensor([0]). Step 350, Loss: 1.1920928244535389e-07\n",
      "Generating Image Number: 6 for target class tensor([0]). Step 400, Loss: 1.1920928244535389e-07\n",
      "Generating Image Number: 6 for target class tensor([0]). Step 450, Loss: 1.1920928244535389e-07\n",
      "Generating Image Number: 7 for target class tensor([0]). Step 0, Loss: 7.155386924743652\n",
      "Generating Image Number: 7 for target class tensor([0]). Step 50, Loss: 0.23443204164505005\n",
      "Generating Image Number: 7 for target class tensor([0]). Step 100, Loss: 0.10668159276247025\n",
      "Generating Image Number: 7 for target class tensor([0]). Step 150, Loss: 0.08650916069746017\n",
      "Generating Image Number: 7 for target class tensor([0]). Step 200, Loss: 0.07173635065555573\n",
      "Generating Image Number: 7 for target class tensor([0]). Step 250, Loss: 0.06063887104392052\n",
      "Generating Image Number: 7 for target class tensor([0]). Step 300, Loss: 0.053451333194971085\n",
      "Generating Image Number: 7 for target class tensor([0]). Step 350, Loss: 0.04790564998984337\n",
      "Generating Image Number: 7 for target class tensor([0]). Step 400, Loss: 0.04337484762072563\n",
      "Generating Image Number: 7 for target class tensor([0]). Step 450, Loss: 0.039810359477996826\n",
      "Generating Image Number: 8 for target class tensor([0]). Step 0, Loss: 5.519675254821777\n",
      "Generating Image Number: 8 for target class tensor([0]). Step 50, Loss: 2.648705244064331\n",
      "Generating Image Number: 8 for target class tensor([0]). Step 100, Loss: 2.0842738151550293\n",
      "Generating Image Number: 8 for target class tensor([0]). Step 150, Loss: 1.6733241081237793\n",
      "Generating Image Number: 8 for target class tensor([0]). Step 200, Loss: 1.3122057914733887\n",
      "Generating Image Number: 8 for target class tensor([0]). Step 250, Loss: 1.074030876159668\n",
      "Generating Image Number: 8 for target class tensor([0]). Step 300, Loss: 0.8763904571533203\n",
      "Generating Image Number: 8 for target class tensor([0]). Step 350, Loss: 0.7055965662002563\n",
      "Generating Image Number: 8 for target class tensor([0]). Step 400, Loss: 0.5371510982513428\n",
      "Generating Image Number: 8 for target class tensor([0]). Step 450, Loss: 0.40096238255500793\n",
      "Generating Image Number: 9 for target class tensor([0]). Step 0, Loss: 0.8559398055076599\n",
      "Generating Image Number: 9 for target class tensor([0]). Step 50, Loss: 0.08889222890138626\n",
      "Generating Image Number: 9 for target class tensor([0]). Step 100, Loss: 0.06250058859586716\n",
      "Generating Image Number: 9 for target class tensor([0]). Step 150, Loss: 0.04982998967170715\n",
      "Generating Image Number: 9 for target class tensor([0]). Step 200, Loss: 0.04053386673331261\n",
      "Generating Image Number: 9 for target class tensor([0]). Step 250, Loss: 0.03521180525422096\n",
      "Generating Image Number: 9 for target class tensor([0]). Step 300, Loss: 0.03139615058898926\n",
      "Generating Image Number: 9 for target class tensor([0]). Step 350, Loss: 0.027652155607938766\n",
      "Generating Image Number: 9 for target class tensor([0]). Step 400, Loss: 0.024663861840963364\n",
      "Generating Image Number: 9 for target class tensor([0]). Step 450, Loss: 0.02242504432797432\n",
      "Generating Image Number: 10 for target class tensor([0]). Step 0, Loss: 3.576278118089249e-07\n",
      "Generating Image Number: 10 for target class tensor([0]). Step 50, Loss: 1.1920928244535389e-07\n",
      "Generating Image Number: 10 for target class tensor([0]). Step 100, Loss: 1.1920928244535389e-07\n",
      "Generating Image Number: 10 for target class tensor([0]). Step 150, Loss: 1.1920928244535389e-07\n",
      "Generating Image Number: 10 for target class tensor([0]). Step 200, Loss: 1.1920928244535389e-07\n",
      "Generating Image Number: 10 for target class tensor([0]). Step 250, Loss: 1.1920928244535389e-07\n",
      "Generating Image Number: 10 for target class tensor([0]). Step 300, Loss: 1.1920928244535389e-07\n",
      "Generating Image Number: 10 for target class tensor([0]). Step 350, Loss: 1.1920928244535389e-07\n",
      "Generating Image Number: 10 for target class tensor([0]). Step 400, Loss: 1.1920928244535389e-07\n",
      "Generating Image Number: 10 for target class tensor([0]). Step 450, Loss: 1.1920928244535389e-07\n",
      "Generating Image Number: 11 for target class tensor([0]). Step 0, Loss: 1.1920928244535389e-07\n",
      "Generating Image Number: 11 for target class tensor([0]). Step 50, Loss: 1.1920928244535389e-07\n",
      "Generating Image Number: 11 for target class tensor([0]). Step 100, Loss: 1.1920928244535389e-07\n",
      "Generating Image Number: 11 for target class tensor([0]). Step 150, Loss: 1.1920928244535389e-07\n",
      "Generating Image Number: 11 for target class tensor([0]). Step 200, Loss: 1.1920928244535389e-07\n",
      "Generating Image Number: 11 for target class tensor([0]). Step 250, Loss: 1.1920928244535389e-07\n",
      "Generating Image Number: 11 for target class tensor([0]). Step 300, Loss: 1.1920928244535389e-07\n",
      "Generating Image Number: 11 for target class tensor([0]). Step 350, Loss: 1.1920928244535389e-07\n",
      "Generating Image Number: 11 for target class tensor([0]). Step 400, Loss: 1.1920928244535389e-07\n",
      "Generating Image Number: 11 for target class tensor([0]). Step 450, Loss: 1.1920928244535389e-07\n",
      "Generating Image Number: 12 for target class tensor([0]). Step 0, Loss: 0.4937504529953003\n",
      "Generating Image Number: 12 for target class tensor([0]). Step 50, Loss: 0.1306142807006836\n",
      "Generating Image Number: 12 for target class tensor([0]). Step 100, Loss: 0.08744371682405472\n",
      "Generating Image Number: 12 for target class tensor([0]). Step 150, Loss: 0.0659092515707016\n",
      "Generating Image Number: 12 for target class tensor([0]). Step 200, Loss: 0.051762182265520096\n",
      "Generating Image Number: 12 for target class tensor([0]). Step 250, Loss: 0.04401969537138939\n",
      "Generating Image Number: 12 for target class tensor([0]). Step 300, Loss: 0.03940955922007561\n",
      "Generating Image Number: 12 for target class tensor([0]). Step 350, Loss: 0.03559208661317825\n",
      "Generating Image Number: 12 for target class tensor([0]). Step 400, Loss: 0.03205834701657295\n",
      "Generating Image Number: 12 for target class tensor([0]). Step 450, Loss: 0.030009469017386436\n",
      "Generating Image Number: 13 for target class tensor([0]). Step 0, Loss: 0.47098255157470703\n",
      "Generating Image Number: 13 for target class tensor([0]). Step 50, Loss: 0.12667864561080933\n",
      "Generating Image Number: 13 for target class tensor([0]). Step 100, Loss: 0.0902225449681282\n",
      "Generating Image Number: 13 for target class tensor([0]). Step 150, Loss: 0.07043453305959702\n",
      "Generating Image Number: 13 for target class tensor([0]). Step 200, Loss: 0.05826255679130554\n",
      "Generating Image Number: 13 for target class tensor([0]). Step 250, Loss: 0.05200778692960739\n",
      "Generating Image Number: 13 for target class tensor([0]). Step 300, Loss: 0.04733482003211975\n",
      "Generating Image Number: 13 for target class tensor([0]). Step 350, Loss: 0.04362183436751366\n",
      "Generating Image Number: 13 for target class tensor([0]). Step 400, Loss: 0.04003394767642021\n",
      "Generating Image Number: 13 for target class tensor([0]). Step 450, Loss: 0.03720354661345482\n",
      "Generating Image Number: 14 for target class tensor([0]). Step 0, Loss: 0.1878592073917389\n",
      "Generating Image Number: 14 for target class tensor([0]). Step 50, Loss: 0.03575531765818596\n",
      "Generating Image Number: 14 for target class tensor([0]). Step 100, Loss: 0.024627573788166046\n",
      "Generating Image Number: 14 for target class tensor([0]). Step 150, Loss: 0.019164402037858963\n",
      "Generating Image Number: 14 for target class tensor([0]). Step 200, Loss: 0.015464160591363907\n",
      "Generating Image Number: 14 for target class tensor([0]). Step 250, Loss: 0.012760769575834274\n",
      "Generating Image Number: 14 for target class tensor([0]). Step 300, Loss: 0.011047860607504845\n",
      "Generating Image Number: 14 for target class tensor([0]). Step 350, Loss: 0.009972983039915562\n",
      "Generating Image Number: 14 for target class tensor([0]). Step 400, Loss: 0.009218864142894745\n",
      "Generating Image Number: 14 for target class tensor([0]). Step 450, Loss: 0.008504010736942291\n",
      "Generating Image Number: 15 for target class tensor([0]). Step 0, Loss: 4.582100868225098\n",
      "Generating Image Number: 15 for target class tensor([0]). Step 50, Loss: 1.4523988962173462\n",
      "Generating Image Number: 15 for target class tensor([0]). Step 100, Loss: 0.2094910591840744\n",
      "Generating Image Number: 15 for target class tensor([0]). Step 150, Loss: 0.11214280873537064\n",
      "Generating Image Number: 15 for target class tensor([0]). Step 200, Loss: 0.09849808365106583\n",
      "Generating Image Number: 15 for target class tensor([0]). Step 250, Loss: 0.08920074254274368\n",
      "Generating Image Number: 15 for target class tensor([0]). Step 300, Loss: 0.08074960857629776\n",
      "Generating Image Number: 15 for target class tensor([0]). Step 350, Loss: 0.07309543341398239\n",
      "Generating Image Number: 15 for target class tensor([0]). Step 400, Loss: 0.06629689037799835\n",
      "Generating Image Number: 15 for target class tensor([0]). Step 450, Loss: 0.05971507728099823\n",
      "Generating Image Number: 16 for target class tensor([0]). Step 0, Loss: 1.1920928244535389e-07\n",
      "Generating Image Number: 16 for target class tensor([0]). Step 50, Loss: 1.1920928244535389e-07\n",
      "Generating Image Number: 16 for target class tensor([0]). Step 100, Loss: 1.1920928244535389e-07\n",
      "Generating Image Number: 16 for target class tensor([0]). Step 150, Loss: 1.1920928244535389e-07\n",
      "Generating Image Number: 16 for target class tensor([0]). Step 200, Loss: 1.1920928244535389e-07\n",
      "Generating Image Number: 16 for target class tensor([0]). Step 250, Loss: 1.1920928244535389e-07\n",
      "Generating Image Number: 16 for target class tensor([0]). Step 300, Loss: 1.1920928244535389e-07\n",
      "Generating Image Number: 16 for target class tensor([0]). Step 350, Loss: 1.1920928244535389e-07\n",
      "Generating Image Number: 16 for target class tensor([0]). Step 400, Loss: 1.1920928244535389e-07\n",
      "Generating Image Number: 16 for target class tensor([0]). Step 450, Loss: 1.1920928244535389e-07\n",
      "Generating Image Number: 17 for target class tensor([0]). Step 0, Loss: 5.477675914764404\n",
      "Generating Image Number: 17 for target class tensor([0]). Step 50, Loss: 0.81900554895401\n",
      "Generating Image Number: 17 for target class tensor([0]). Step 100, Loss: 0.1856815218925476\n",
      "Generating Image Number: 17 for target class tensor([0]). Step 150, Loss: 0.1123187318444252\n",
      "Generating Image Number: 17 for target class tensor([0]). Step 200, Loss: 0.08869217336177826\n",
      "Generating Image Number: 17 for target class tensor([0]). Step 250, Loss: 0.07182622700929642\n",
      "Generating Image Number: 17 for target class tensor([0]). Step 300, Loss: 0.059497080743312836\n",
      "Generating Image Number: 17 for target class tensor([0]). Step 350, Loss: 0.05230910703539848\n",
      "Generating Image Number: 17 for target class tensor([0]). Step 400, Loss: 0.0469074510037899\n",
      "Generating Image Number: 17 for target class tensor([0]). Step 450, Loss: 0.04291392117738724\n",
      "Generating Image Number: 18 for target class tensor([0]). Step 0, Loss: 8.07789421081543\n",
      "Generating Image Number: 18 for target class tensor([0]). Step 50, Loss: 5.357754230499268\n",
      "Generating Image Number: 18 for target class tensor([0]). Step 100, Loss: 1.7094069719314575\n",
      "Generating Image Number: 18 for target class tensor([0]). Step 150, Loss: 0.9276448488235474\n",
      "Generating Image Number: 18 for target class tensor([0]). Step 200, Loss: 0.510000467300415\n",
      "Generating Image Number: 18 for target class tensor([0]). Step 250, Loss: 0.38152721524238586\n",
      "Generating Image Number: 18 for target class tensor([0]). Step 300, Loss: 0.315364271402359\n",
      "Generating Image Number: 18 for target class tensor([0]). Step 350, Loss: 0.26760584115982056\n",
      "Generating Image Number: 18 for target class tensor([0]). Step 400, Loss: 0.23284310102462769\n",
      "Generating Image Number: 18 for target class tensor([0]). Step 450, Loss: 0.20088066160678864\n",
      "Generating Image Number: 19 for target class tensor([0]). Step 0, Loss: 0.3671666979789734\n",
      "Generating Image Number: 19 for target class tensor([0]). Step 50, Loss: 0.05674327537417412\n",
      "Generating Image Number: 19 for target class tensor([0]). Step 100, Loss: 0.04079265892505646\n",
      "Generating Image Number: 19 for target class tensor([0]). Step 150, Loss: 0.03186483681201935\n",
      "Generating Image Number: 19 for target class tensor([0]). Step 200, Loss: 0.026431415230035782\n",
      "Generating Image Number: 19 for target class tensor([0]). Step 250, Loss: 0.022465258836746216\n",
      "Generating Image Number: 19 for target class tensor([0]). Step 300, Loss: 0.019031891599297523\n",
      "Generating Image Number: 19 for target class tensor([0]). Step 350, Loss: 0.016440872102975845\n",
      "Generating Image Number: 19 for target class tensor([0]). Step 400, Loss: 0.014257941395044327\n",
      "Generating Image Number: 19 for target class tensor([0]). Step 450, Loss: 0.01289705466479063\n",
      "Generating Image Number: 20 for target class tensor([0]). Step 0, Loss: 0.4788776636123657\n",
      "Generating Image Number: 20 for target class tensor([0]). Step 50, Loss: 0.10695638507604599\n",
      "Generating Image Number: 20 for target class tensor([0]). Step 100, Loss: 0.06802227348089218\n",
      "Generating Image Number: 20 for target class tensor([0]). Step 150, Loss: 0.04922962188720703\n",
      "Generating Image Number: 20 for target class tensor([0]). Step 200, Loss: 0.03655106946825981\n",
      "Generating Image Number: 20 for target class tensor([0]). Step 250, Loss: 0.028553206473588943\n",
      "Generating Image Number: 20 for target class tensor([0]). Step 300, Loss: 0.023281551897525787\n",
      "Generating Image Number: 20 for target class tensor([0]). Step 350, Loss: 0.0196845605969429\n",
      "Generating Image Number: 20 for target class tensor([0]). Step 400, Loss: 0.016820035874843597\n",
      "Generating Image Number: 20 for target class tensor([0]). Step 450, Loss: 0.014601750299334526\n"
     ]
    }
   ],
   "source": [
    "class0_optimized_latent_vectors = recover_images(img_count, 0, latent_vectors)"
   ]
  },
  {
   "cell_type": "code",
   "execution_count": 21,
   "id": "6718334c-2bb1-42a3-bd8c-6aea38e6b59c",
   "metadata": {
    "scrolled": true
   },
   "outputs": [
    {
     "name": "stdout",
     "output_type": "stream",
     "text": [
      "Generating Image Number: 1 for target class tensor([1]). Step 0, Loss: 4.137661457061768\n",
      "Generating Image Number: 1 for target class tensor([1]). Step 50, Loss: 1.157151222229004\n",
      "Generating Image Number: 1 for target class tensor([1]). Step 100, Loss: 0.720967710018158\n",
      "Generating Image Number: 1 for target class tensor([1]). Step 150, Loss: 0.5380364060401917\n",
      "Generating Image Number: 1 for target class tensor([1]). Step 200, Loss: 0.41756659746170044\n",
      "Generating Image Number: 1 for target class tensor([1]). Step 250, Loss: 0.3463987410068512\n",
      "Generating Image Number: 1 for target class tensor([1]). Step 300, Loss: 0.2808530926704407\n",
      "Generating Image Number: 1 for target class tensor([1]). Step 350, Loss: 0.2270302176475525\n",
      "Generating Image Number: 1 for target class tensor([1]). Step 400, Loss: 0.19173619151115417\n",
      "Generating Image Number: 1 for target class tensor([1]). Step 450, Loss: 0.16861015558242798\n",
      "Generating Image Number: 2 for target class tensor([1]). Step 0, Loss: 3.3212852478027344\n",
      "Generating Image Number: 2 for target class tensor([1]). Step 50, Loss: 1.2686517238616943\n",
      "Generating Image Number: 2 for target class tensor([1]). Step 100, Loss: 0.7658340930938721\n",
      "Generating Image Number: 2 for target class tensor([1]). Step 150, Loss: 0.5825446844100952\n",
      "Generating Image Number: 2 for target class tensor([1]). Step 200, Loss: 0.4377320110797882\n",
      "Generating Image Number: 2 for target class tensor([1]). Step 250, Loss: 0.352765291929245\n",
      "Generating Image Number: 2 for target class tensor([1]). Step 300, Loss: 0.3210260272026062\n",
      "Generating Image Number: 2 for target class tensor([1]). Step 350, Loss: 0.29667478799819946\n",
      "Generating Image Number: 2 for target class tensor([1]). Step 400, Loss: 0.27948087453842163\n",
      "Generating Image Number: 2 for target class tensor([1]). Step 450, Loss: 0.2629750370979309\n",
      "Generating Image Number: 3 for target class tensor([1]). Step 0, Loss: 5.063838481903076\n",
      "Generating Image Number: 3 for target class tensor([1]). Step 50, Loss: 3.6016409397125244\n",
      "Generating Image Number: 3 for target class tensor([1]). Step 100, Loss: 3.0125226974487305\n",
      "Generating Image Number: 3 for target class tensor([1]). Step 150, Loss: 2.5491156578063965\n",
      "Generating Image Number: 3 for target class tensor([1]). Step 200, Loss: 2.1401875019073486\n",
      "Generating Image Number: 3 for target class tensor([1]). Step 250, Loss: 1.9614036083221436\n",
      "Generating Image Number: 3 for target class tensor([1]). Step 300, Loss: 1.8207106590270996\n",
      "Generating Image Number: 3 for target class tensor([1]). Step 350, Loss: 1.7482926845550537\n",
      "Generating Image Number: 3 for target class tensor([1]). Step 400, Loss: 1.55324125289917\n",
      "Generating Image Number: 3 for target class tensor([1]). Step 450, Loss: 1.4152437448501587\n",
      "Generating Image Number: 4 for target class tensor([1]). Step 0, Loss: 6.043171405792236\n",
      "Generating Image Number: 4 for target class tensor([1]). Step 50, Loss: 4.252663612365723\n",
      "Generating Image Number: 4 for target class tensor([1]). Step 100, Loss: 3.8852834701538086\n",
      "Generating Image Number: 4 for target class tensor([1]). Step 150, Loss: 3.6642444133758545\n",
      "Generating Image Number: 4 for target class tensor([1]). Step 200, Loss: 3.429443597793579\n",
      "Generating Image Number: 4 for target class tensor([1]). Step 250, Loss: 3.225735902786255\n",
      "Generating Image Number: 4 for target class tensor([1]). Step 300, Loss: 2.9926164150238037\n",
      "Generating Image Number: 4 for target class tensor([1]). Step 350, Loss: 2.809432029724121\n",
      "Generating Image Number: 4 for target class tensor([1]). Step 400, Loss: 2.665168285369873\n",
      "Generating Image Number: 4 for target class tensor([1]). Step 450, Loss: 2.5576796531677246\n",
      "Generating Image Number: 5 for target class tensor([1]). Step 0, Loss: 8.722311019897461\n",
      "Generating Image Number: 5 for target class tensor([1]). Step 50, Loss: 6.280586242675781\n",
      "Generating Image Number: 5 for target class tensor([1]). Step 100, Loss: 5.463065147399902\n",
      "Generating Image Number: 5 for target class tensor([1]). Step 150, Loss: 4.863228797912598\n",
      "Generating Image Number: 5 for target class tensor([1]). Step 200, Loss: 4.508416175842285\n",
      "Generating Image Number: 5 for target class tensor([1]). Step 250, Loss: 4.293514251708984\n",
      "Generating Image Number: 5 for target class tensor([1]). Step 300, Loss: 4.123807430267334\n",
      "Generating Image Number: 5 for target class tensor([1]). Step 350, Loss: 3.9826369285583496\n",
      "Generating Image Number: 5 for target class tensor([1]). Step 400, Loss: 3.8864243030548096\n",
      "Generating Image Number: 5 for target class tensor([1]). Step 450, Loss: 3.7728734016418457\n",
      "Generating Image Number: 6 for target class tensor([1]). Step 0, Loss: 8.752948760986328\n",
      "Generating Image Number: 6 for target class tensor([1]). Step 50, Loss: 3.973888635635376\n",
      "Generating Image Number: 6 for target class tensor([1]). Step 100, Loss: 3.5294384956359863\n",
      "Generating Image Number: 6 for target class tensor([1]). Step 150, Loss: 3.3004536628723145\n",
      "Generating Image Number: 6 for target class tensor([1]). Step 200, Loss: 3.1431515216827393\n",
      "Generating Image Number: 6 for target class tensor([1]). Step 250, Loss: 3.0141921043395996\n",
      "Generating Image Number: 6 for target class tensor([1]). Step 300, Loss: 2.9291868209838867\n",
      "Generating Image Number: 6 for target class tensor([1]). Step 350, Loss: 2.8121774196624756\n",
      "Generating Image Number: 6 for target class tensor([1]). Step 400, Loss: 2.712061643600464\n",
      "Generating Image Number: 6 for target class tensor([1]). Step 450, Loss: 2.607799768447876\n",
      "Generating Image Number: 7 for target class tensor([1]). Step 0, Loss: 15.299510955810547\n",
      "Generating Image Number: 7 for target class tensor([1]). Step 50, Loss: 14.474035263061523\n",
      "Generating Image Number: 7 for target class tensor([1]). Step 100, Loss: 14.22974681854248\n",
      "Generating Image Number: 7 for target class tensor([1]). Step 150, Loss: 13.98654556274414\n",
      "Generating Image Number: 7 for target class tensor([1]). Step 200, Loss: 2.0468149185180664\n",
      "Generating Image Number: 7 for target class tensor([1]). Step 250, Loss: 0.8438323736190796\n",
      "Generating Image Number: 7 for target class tensor([1]). Step 300, Loss: 0.6806392073631287\n",
      "Generating Image Number: 7 for target class tensor([1]). Step 350, Loss: 0.5583581924438477\n",
      "Generating Image Number: 7 for target class tensor([1]). Step 400, Loss: 0.47348421812057495\n",
      "Generating Image Number: 7 for target class tensor([1]). Step 450, Loss: 0.4203636944293976\n",
      "Generating Image Number: 8 for target class tensor([1]). Step 0, Loss: 15.676612854003906\n",
      "Generating Image Number: 8 for target class tensor([1]). Step 50, Loss: 15.460433959960938\n",
      "Generating Image Number: 8 for target class tensor([1]). Step 100, Loss: 15.127754211425781\n",
      "Generating Image Number: 8 for target class tensor([1]). Step 150, Loss: 2.1450929641723633\n",
      "Generating Image Number: 8 for target class tensor([1]). Step 200, Loss: 0.05463853478431702\n",
      "Generating Image Number: 8 for target class tensor([1]). Step 250, Loss: 0.04922882467508316\n",
      "Generating Image Number: 8 for target class tensor([1]). Step 300, Loss: 0.04582468047738075\n",
      "Generating Image Number: 8 for target class tensor([1]). Step 350, Loss: 0.04304695874452591\n",
      "Generating Image Number: 8 for target class tensor([1]). Step 400, Loss: 0.04033397510647774\n",
      "Generating Image Number: 8 for target class tensor([1]). Step 450, Loss: 0.03750511258840561\n",
      "Generating Image Number: 9 for target class tensor([1]). Step 0, Loss: 6.9497294425964355\n",
      "Generating Image Number: 9 for target class tensor([1]). Step 50, Loss: 1.7018036842346191\n",
      "Generating Image Number: 9 for target class tensor([1]). Step 100, Loss: 0.9320378303527832\n",
      "Generating Image Number: 9 for target class tensor([1]). Step 150, Loss: 0.7739206552505493\n",
      "Generating Image Number: 9 for target class tensor([1]). Step 200, Loss: 0.6473507285118103\n",
      "Generating Image Number: 9 for target class tensor([1]). Step 250, Loss: 0.539387583732605\n",
      "Generating Image Number: 9 for target class tensor([1]). Step 300, Loss: 0.45125308632850647\n",
      "Generating Image Number: 9 for target class tensor([1]). Step 350, Loss: 0.3878553807735443\n",
      "Generating Image Number: 9 for target class tensor([1]). Step 400, Loss: 0.3271019458770752\n",
      "Generating Image Number: 9 for target class tensor([1]). Step 450, Loss: 0.27491235733032227\n",
      "Generating Image Number: 10 for target class tensor([1]). Step 0, Loss: 2.1192944049835205\n",
      "Generating Image Number: 10 for target class tensor([1]). Step 50, Loss: 0.2726026177406311\n",
      "Generating Image Number: 10 for target class tensor([1]). Step 100, Loss: 0.1476762890815735\n",
      "Generating Image Number: 10 for target class tensor([1]). Step 150, Loss: 0.08734704554080963\n",
      "Generating Image Number: 10 for target class tensor([1]). Step 200, Loss: 0.060632698237895966\n",
      "Generating Image Number: 10 for target class tensor([1]). Step 250, Loss: 0.04202675074338913\n",
      "Generating Image Number: 10 for target class tensor([1]). Step 300, Loss: 0.027656445279717445\n",
      "Generating Image Number: 10 for target class tensor([1]). Step 350, Loss: 0.020494718104600906\n",
      "Generating Image Number: 10 for target class tensor([1]). Step 400, Loss: 0.016503138467669487\n",
      "Generating Image Number: 10 for target class tensor([1]). Step 450, Loss: 0.013621240854263306\n",
      "Generating Image Number: 11 for target class tensor([1]). Step 0, Loss: 6.743380069732666\n",
      "Generating Image Number: 11 for target class tensor([1]). Step 50, Loss: 5.380560398101807\n",
      "Generating Image Number: 11 for target class tensor([1]). Step 100, Loss: 4.783722400665283\n",
      "Generating Image Number: 11 for target class tensor([1]). Step 150, Loss: 4.320188522338867\n",
      "Generating Image Number: 11 for target class tensor([1]). Step 200, Loss: 3.9776859283447266\n",
      "Generating Image Number: 11 for target class tensor([1]). Step 250, Loss: 3.7457470893859863\n",
      "Generating Image Number: 11 for target class tensor([1]). Step 300, Loss: 3.4696803092956543\n",
      "Generating Image Number: 11 for target class tensor([1]). Step 350, Loss: 3.3448352813720703\n",
      "Generating Image Number: 11 for target class tensor([1]). Step 400, Loss: 3.2082788944244385\n",
      "Generating Image Number: 11 for target class tensor([1]). Step 450, Loss: 3.075293779373169\n",
      "Generating Image Number: 12 for target class tensor([1]). Step 0, Loss: 6.656255722045898\n",
      "Generating Image Number: 12 for target class tensor([1]). Step 50, Loss: 0.6613916158676147\n",
      "Generating Image Number: 12 for target class tensor([1]). Step 100, Loss: 0.44951683282852173\n",
      "Generating Image Number: 12 for target class tensor([1]). Step 150, Loss: 0.34877777099609375\n",
      "Generating Image Number: 12 for target class tensor([1]). Step 200, Loss: 0.27558034658432007\n",
      "Generating Image Number: 12 for target class tensor([1]). Step 250, Loss: 0.22906215488910675\n",
      "Generating Image Number: 12 for target class tensor([1]). Step 300, Loss: 0.193156436085701\n",
      "Generating Image Number: 12 for target class tensor([1]). Step 350, Loss: 0.1645439863204956\n",
      "Generating Image Number: 12 for target class tensor([1]). Step 400, Loss: 0.14186422526836395\n",
      "Generating Image Number: 12 for target class tensor([1]). Step 450, Loss: 0.12348993122577667\n",
      "Generating Image Number: 13 for target class tensor([1]). Step 0, Loss: 8.239753723144531\n",
      "Generating Image Number: 13 for target class tensor([1]). Step 50, Loss: 4.863712310791016\n",
      "Generating Image Number: 13 for target class tensor([1]). Step 100, Loss: 4.520330905914307\n",
      "Generating Image Number: 13 for target class tensor([1]). Step 150, Loss: 4.199130535125732\n",
      "Generating Image Number: 13 for target class tensor([1]). Step 200, Loss: 4.032186508178711\n",
      "Generating Image Number: 13 for target class tensor([1]). Step 250, Loss: 3.910897970199585\n",
      "Generating Image Number: 13 for target class tensor([1]). Step 300, Loss: 3.805971384048462\n",
      "Generating Image Number: 13 for target class tensor([1]). Step 350, Loss: 3.7296957969665527\n",
      "Generating Image Number: 13 for target class tensor([1]). Step 400, Loss: 3.652254104614258\n",
      "Generating Image Number: 13 for target class tensor([1]). Step 450, Loss: 3.5571205615997314\n",
      "Generating Image Number: 14 for target class tensor([1]). Step 0, Loss: 3.7003731727600098\n",
      "Generating Image Number: 14 for target class tensor([1]). Step 50, Loss: 0.9737578630447388\n",
      "Generating Image Number: 14 for target class tensor([1]). Step 100, Loss: 0.7267404794692993\n",
      "Generating Image Number: 14 for target class tensor([1]). Step 150, Loss: 0.5838443040847778\n",
      "Generating Image Number: 14 for target class tensor([1]). Step 200, Loss: 0.5038214325904846\n",
      "Generating Image Number: 14 for target class tensor([1]). Step 250, Loss: 0.4666145443916321\n",
      "Generating Image Number: 14 for target class tensor([1]). Step 300, Loss: 0.43217772245407104\n",
      "Generating Image Number: 14 for target class tensor([1]). Step 350, Loss: 0.40254515409469604\n",
      "Generating Image Number: 14 for target class tensor([1]). Step 400, Loss: 0.3811115026473999\n",
      "Generating Image Number: 14 for target class tensor([1]). Step 450, Loss: 0.36342018842697144\n",
      "Generating Image Number: 15 for target class tensor([1]). Step 0, Loss: 2.699110269546509\n",
      "Generating Image Number: 15 for target class tensor([1]). Step 50, Loss: 1.984014630317688\n",
      "Generating Image Number: 15 for target class tensor([1]). Step 100, Loss: 1.4525363445281982\n",
      "Generating Image Number: 15 for target class tensor([1]). Step 150, Loss: 1.0898994207382202\n",
      "Generating Image Number: 15 for target class tensor([1]). Step 200, Loss: 0.9538630247116089\n",
      "Generating Image Number: 15 for target class tensor([1]). Step 250, Loss: 0.8561733961105347\n",
      "Generating Image Number: 15 for target class tensor([1]). Step 300, Loss: 0.7768591642379761\n",
      "Generating Image Number: 15 for target class tensor([1]). Step 350, Loss: 0.7138509154319763\n",
      "Generating Image Number: 15 for target class tensor([1]). Step 400, Loss: 0.6498047709465027\n",
      "Generating Image Number: 15 for target class tensor([1]). Step 450, Loss: 0.5877744555473328\n",
      "Generating Image Number: 16 for target class tensor([1]). Step 0, Loss: 17.040029525756836\n",
      "Generating Image Number: 16 for target class tensor([1]). Step 50, Loss: 5.564291954040527\n",
      "Generating Image Number: 16 for target class tensor([1]). Step 100, Loss: 2.5078210830688477\n",
      "Generating Image Number: 16 for target class tensor([1]). Step 150, Loss: 2.179145574569702\n",
      "Generating Image Number: 16 for target class tensor([1]). Step 200, Loss: 2.042268753051758\n",
      "Generating Image Number: 16 for target class tensor([1]). Step 250, Loss: 1.9169273376464844\n",
      "Generating Image Number: 16 for target class tensor([1]). Step 300, Loss: 1.8081234693527222\n",
      "Generating Image Number: 16 for target class tensor([1]). Step 350, Loss: 1.7106308937072754\n",
      "Generating Image Number: 16 for target class tensor([1]). Step 400, Loss: 1.613356590270996\n",
      "Generating Image Number: 16 for target class tensor([1]). Step 450, Loss: 1.5043119192123413\n",
      "Generating Image Number: 17 for target class tensor([1]). Step 0, Loss: 3.4164628982543945\n",
      "Generating Image Number: 17 for target class tensor([1]). Step 50, Loss: 0.7454512119293213\n",
      "Generating Image Number: 17 for target class tensor([1]). Step 100, Loss: 0.5440175533294678\n",
      "Generating Image Number: 17 for target class tensor([1]). Step 150, Loss: 0.4357457458972931\n",
      "Generating Image Number: 17 for target class tensor([1]). Step 200, Loss: 0.3712027668952942\n",
      "Generating Image Number: 17 for target class tensor([1]). Step 250, Loss: 0.32453447580337524\n",
      "Generating Image Number: 17 for target class tensor([1]). Step 300, Loss: 0.2840668559074402\n",
      "Generating Image Number: 17 for target class tensor([1]). Step 350, Loss: 0.25675466656684875\n",
      "Generating Image Number: 17 for target class tensor([1]). Step 400, Loss: 0.23515720665454865\n",
      "Generating Image Number: 17 for target class tensor([1]). Step 450, Loss: 0.21901986002922058\n",
      "Generating Image Number: 18 for target class tensor([1]). Step 0, Loss: 6.860117435455322\n",
      "Generating Image Number: 18 for target class tensor([1]). Step 50, Loss: 4.395807266235352\n",
      "Generating Image Number: 18 for target class tensor([1]). Step 100, Loss: 3.843644618988037\n",
      "Generating Image Number: 18 for target class tensor([1]). Step 150, Loss: 3.4262709617614746\n",
      "Generating Image Number: 18 for target class tensor([1]). Step 200, Loss: 3.0432066917419434\n",
      "Generating Image Number: 18 for target class tensor([1]). Step 250, Loss: 2.6378440856933594\n",
      "Generating Image Number: 18 for target class tensor([1]). Step 300, Loss: 2.2978250980377197\n",
      "Generating Image Number: 18 for target class tensor([1]). Step 350, Loss: 2.0993285179138184\n",
      "Generating Image Number: 18 for target class tensor([1]). Step 400, Loss: 1.906554937362671\n",
      "Generating Image Number: 18 for target class tensor([1]). Step 450, Loss: 1.7443687915802002\n",
      "Generating Image Number: 19 for target class tensor([1]). Step 0, Loss: 7.075842380523682\n",
      "Generating Image Number: 19 for target class tensor([1]). Step 50, Loss: 5.709282398223877\n",
      "Generating Image Number: 19 for target class tensor([1]). Step 100, Loss: 5.033424377441406\n",
      "Generating Image Number: 19 for target class tensor([1]). Step 150, Loss: 4.440985202789307\n",
      "Generating Image Number: 19 for target class tensor([1]). Step 200, Loss: 3.9070658683776855\n",
      "Generating Image Number: 19 for target class tensor([1]). Step 250, Loss: 3.470724105834961\n",
      "Generating Image Number: 19 for target class tensor([1]). Step 300, Loss: 3.164442300796509\n",
      "Generating Image Number: 19 for target class tensor([1]). Step 350, Loss: 2.8851869106292725\n",
      "Generating Image Number: 19 for target class tensor([1]). Step 400, Loss: 2.5911574363708496\n",
      "Generating Image Number: 19 for target class tensor([1]). Step 450, Loss: 2.2829291820526123\n",
      "Generating Image Number: 20 for target class tensor([1]). Step 0, Loss: 3.9935340881347656\n",
      "Generating Image Number: 20 for target class tensor([1]). Step 50, Loss: 1.7374541759490967\n",
      "Generating Image Number: 20 for target class tensor([1]). Step 100, Loss: 1.1641699075698853\n",
      "Generating Image Number: 20 for target class tensor([1]). Step 150, Loss: 0.735576331615448\n",
      "Generating Image Number: 20 for target class tensor([1]). Step 200, Loss: 0.48524338006973267\n",
      "Generating Image Number: 20 for target class tensor([1]). Step 250, Loss: 0.3307262063026428\n",
      "Generating Image Number: 20 for target class tensor([1]). Step 300, Loss: 0.2497253566980362\n",
      "Generating Image Number: 20 for target class tensor([1]). Step 350, Loss: 0.18766644597053528\n",
      "Generating Image Number: 20 for target class tensor([1]). Step 400, Loss: 0.15135663747787476\n",
      "Generating Image Number: 20 for target class tensor([1]). Step 450, Loss: 0.10296022146940231\n"
     ]
    }
   ],
   "source": [
    "torch.manual_seed(100)\n",
    "latent_vectors = torch.randn(img_count, z_dim, 1, 1, requires_grad=True) # Start with 20 random noises\n",
    "class1_optimized_latent_vectors = recover_images(img_count, 1, latent_vectors)"
   ]
  },
  {
   "cell_type": "code",
   "execution_count": 22,
   "id": "1c8af686-b1ff-419d-946d-2447773e47c9",
   "metadata": {
    "scrolled": true
   },
   "outputs": [
    {
     "name": "stdout",
     "output_type": "stream",
     "text": [
      "Generating Image Number: 1 for target class tensor([2]). Step 0, Loss: 2.7123630046844482\n",
      "Generating Image Number: 1 for target class tensor([2]). Step 50, Loss: 1.3650071620941162\n",
      "Generating Image Number: 1 for target class tensor([2]). Step 100, Loss: 0.9124829769134521\n",
      "Generating Image Number: 1 for target class tensor([2]). Step 150, Loss: 0.6439973711967468\n",
      "Generating Image Number: 1 for target class tensor([2]). Step 200, Loss: 0.4827291965484619\n",
      "Generating Image Number: 1 for target class tensor([2]). Step 250, Loss: 0.38831827044487\n",
      "Generating Image Number: 1 for target class tensor([2]). Step 300, Loss: 0.3229399621486664\n",
      "Generating Image Number: 1 for target class tensor([2]). Step 350, Loss: 0.2910063564777374\n",
      "Generating Image Number: 1 for target class tensor([2]). Step 400, Loss: 0.2665483355522156\n",
      "Generating Image Number: 1 for target class tensor([2]). Step 450, Loss: 0.24760381877422333\n",
      "Generating Image Number: 2 for target class tensor([2]). Step 0, Loss: 3.137971878051758\n",
      "Generating Image Number: 2 for target class tensor([2]). Step 50, Loss: 0.8237661719322205\n",
      "Generating Image Number: 2 for target class tensor([2]). Step 100, Loss: 0.6263967752456665\n",
      "Generating Image Number: 2 for target class tensor([2]). Step 150, Loss: 0.49823659658432007\n",
      "Generating Image Number: 2 for target class tensor([2]). Step 200, Loss: 0.41104963421821594\n",
      "Generating Image Number: 2 for target class tensor([2]). Step 250, Loss: 0.3560986816883087\n",
      "Generating Image Number: 2 for target class tensor([2]). Step 300, Loss: 0.31718194484710693\n",
      "Generating Image Number: 2 for target class tensor([2]). Step 350, Loss: 0.2827564477920532\n",
      "Generating Image Number: 2 for target class tensor([2]). Step 400, Loss: 0.24152220785617828\n",
      "Generating Image Number: 2 for target class tensor([2]). Step 450, Loss: 0.2011340707540512\n",
      "Generating Image Number: 3 for target class tensor([2]). Step 0, Loss: 0.34294313192367554\n",
      "Generating Image Number: 3 for target class tensor([2]). Step 50, Loss: 0.014662016183137894\n",
      "Generating Image Number: 3 for target class tensor([2]). Step 100, Loss: 0.01136130653321743\n",
      "Generating Image Number: 3 for target class tensor([2]). Step 150, Loss: 0.009281227365136147\n",
      "Generating Image Number: 3 for target class tensor([2]). Step 200, Loss: 0.007720511872321367\n",
      "Generating Image Number: 3 for target class tensor([2]). Step 250, Loss: 0.006678522098809481\n",
      "Generating Image Number: 3 for target class tensor([2]). Step 300, Loss: 0.005835994146764278\n",
      "Generating Image Number: 3 for target class tensor([2]). Step 350, Loss: 0.005106383003294468\n",
      "Generating Image Number: 3 for target class tensor([2]). Step 400, Loss: 0.004504652228206396\n",
      "Generating Image Number: 3 for target class tensor([2]). Step 450, Loss: 0.004018922336399555\n",
      "Generating Image Number: 4 for target class tensor([2]). Step 0, Loss: 0.06857329607009888\n",
      "Generating Image Number: 4 for target class tensor([2]). Step 50, Loss: 0.01800350286066532\n",
      "Generating Image Number: 4 for target class tensor([2]). Step 100, Loss: 0.013197803869843483\n",
      "Generating Image Number: 4 for target class tensor([2]). Step 150, Loss: 0.010465385392308235\n",
      "Generating Image Number: 4 for target class tensor([2]). Step 200, Loss: 0.008650568313896656\n",
      "Generating Image Number: 4 for target class tensor([2]). Step 250, Loss: 0.007288296241313219\n",
      "Generating Image Number: 4 for target class tensor([2]). Step 300, Loss: 0.0060554612427949905\n",
      "Generating Image Number: 4 for target class tensor([2]). Step 350, Loss: 0.005034151952713728\n",
      "Generating Image Number: 4 for target class tensor([2]). Step 400, Loss: 0.004215759225189686\n",
      "Generating Image Number: 4 for target class tensor([2]). Step 450, Loss: 0.0035855784080922604\n",
      "Generating Image Number: 5 for target class tensor([2]). Step 0, Loss: 3.2393198013305664\n",
      "Generating Image Number: 5 for target class tensor([2]). Step 50, Loss: 0.6359505653381348\n",
      "Generating Image Number: 5 for target class tensor([2]). Step 100, Loss: 0.5289506316184998\n",
      "Generating Image Number: 5 for target class tensor([2]). Step 150, Loss: 0.45576974749565125\n",
      "Generating Image Number: 5 for target class tensor([2]). Step 200, Loss: 0.3819565773010254\n",
      "Generating Image Number: 5 for target class tensor([2]). Step 250, Loss: 0.3327205777168274\n",
      "Generating Image Number: 5 for target class tensor([2]). Step 300, Loss: 0.29424551129341125\n",
      "Generating Image Number: 5 for target class tensor([2]). Step 350, Loss: 0.25170522928237915\n",
      "Generating Image Number: 5 for target class tensor([2]). Step 400, Loss: 0.2209884077310562\n",
      "Generating Image Number: 5 for target class tensor([2]). Step 450, Loss: 0.19179464876651764\n",
      "Generating Image Number: 6 for target class tensor([2]). Step 0, Loss: 2.0290768146514893\n",
      "Generating Image Number: 6 for target class tensor([2]). Step 50, Loss: 0.975518524646759\n",
      "Generating Image Number: 6 for target class tensor([2]). Step 100, Loss: 0.5961037874221802\n",
      "Generating Image Number: 6 for target class tensor([2]). Step 150, Loss: 0.44453883171081543\n",
      "Generating Image Number: 6 for target class tensor([2]). Step 200, Loss: 0.316537082195282\n",
      "Generating Image Number: 6 for target class tensor([2]). Step 250, Loss: 0.24931852519512177\n",
      "Generating Image Number: 6 for target class tensor([2]). Step 300, Loss: 0.20690903067588806\n",
      "Generating Image Number: 6 for target class tensor([2]). Step 350, Loss: 0.17698858678340912\n",
      "Generating Image Number: 6 for target class tensor([2]). Step 400, Loss: 0.1622980535030365\n",
      "Generating Image Number: 6 for target class tensor([2]). Step 450, Loss: 0.1413317620754242\n",
      "Generating Image Number: 7 for target class tensor([2]). Step 0, Loss: 2.6871554851531982\n",
      "Generating Image Number: 7 for target class tensor([2]). Step 50, Loss: 1.710186243057251\n",
      "Generating Image Number: 7 for target class tensor([2]). Step 100, Loss: 1.3588942289352417\n",
      "Generating Image Number: 7 for target class tensor([2]). Step 150, Loss: 1.0887510776519775\n",
      "Generating Image Number: 7 for target class tensor([2]). Step 200, Loss: 0.9588596820831299\n",
      "Generating Image Number: 7 for target class tensor([2]). Step 250, Loss: 0.8798873424530029\n",
      "Generating Image Number: 7 for target class tensor([2]). Step 300, Loss: 0.8270240426063538\n",
      "Generating Image Number: 7 for target class tensor([2]). Step 350, Loss: 0.7879717350006104\n",
      "Generating Image Number: 7 for target class tensor([2]). Step 400, Loss: 0.7378239631652832\n",
      "Generating Image Number: 7 for target class tensor([2]). Step 450, Loss: 0.6978970766067505\n",
      "Generating Image Number: 8 for target class tensor([2]). Step 0, Loss: 1.9778474569320679\n",
      "Generating Image Number: 8 for target class tensor([2]). Step 50, Loss: 0.5807762145996094\n",
      "Generating Image Number: 8 for target class tensor([2]). Step 100, Loss: 0.40738657116889954\n",
      "Generating Image Number: 8 for target class tensor([2]). Step 150, Loss: 0.29989132285118103\n",
      "Generating Image Number: 8 for target class tensor([2]). Step 200, Loss: 0.22261115908622742\n",
      "Generating Image Number: 8 for target class tensor([2]). Step 250, Loss: 0.1730639934539795\n",
      "Generating Image Number: 8 for target class tensor([2]). Step 300, Loss: 0.14312966167926788\n",
      "Generating Image Number: 8 for target class tensor([2]). Step 350, Loss: 0.1250457465648651\n",
      "Generating Image Number: 8 for target class tensor([2]). Step 400, Loss: 0.11378306895494461\n",
      "Generating Image Number: 8 for target class tensor([2]). Step 450, Loss: 0.10558659583330154\n",
      "Generating Image Number: 9 for target class tensor([2]). Step 0, Loss: 0.1398831009864807\n",
      "Generating Image Number: 9 for target class tensor([2]). Step 50, Loss: 0.006762002129107714\n",
      "Generating Image Number: 9 for target class tensor([2]). Step 100, Loss: 0.005432604346424341\n",
      "Generating Image Number: 9 for target class tensor([2]). Step 150, Loss: 0.004505482967942953\n",
      "Generating Image Number: 9 for target class tensor([2]). Step 200, Loss: 0.003930700942873955\n",
      "Generating Image Number: 9 for target class tensor([2]). Step 250, Loss: 0.0035815397277474403\n",
      "Generating Image Number: 9 for target class tensor([2]). Step 300, Loss: 0.0032610115595161915\n",
      "Generating Image Number: 9 for target class tensor([2]). Step 350, Loss: 0.002932773670181632\n",
      "Generating Image Number: 9 for target class tensor([2]). Step 400, Loss: 0.0026475873310118914\n",
      "Generating Image Number: 9 for target class tensor([2]). Step 450, Loss: 0.0024223767686635256\n",
      "Generating Image Number: 10 for target class tensor([2]). Step 0, Loss: 2.6090285778045654\n",
      "Generating Image Number: 10 for target class tensor([2]). Step 50, Loss: 0.9106708765029907\n",
      "Generating Image Number: 10 for target class tensor([2]). Step 100, Loss: 0.5705562233924866\n",
      "Generating Image Number: 10 for target class tensor([2]). Step 150, Loss: 0.3289830982685089\n",
      "Generating Image Number: 10 for target class tensor([2]). Step 200, Loss: 0.23550409078598022\n",
      "Generating Image Number: 10 for target class tensor([2]). Step 250, Loss: 0.19842730462551117\n",
      "Generating Image Number: 10 for target class tensor([2]). Step 300, Loss: 0.17146047949790955\n",
      "Generating Image Number: 10 for target class tensor([2]). Step 350, Loss: 0.14873069524765015\n",
      "Generating Image Number: 10 for target class tensor([2]). Step 400, Loss: 0.12435709685087204\n",
      "Generating Image Number: 10 for target class tensor([2]). Step 450, Loss: 0.1072087213397026\n",
      "Generating Image Number: 11 for target class tensor([2]). Step 0, Loss: 0.1466292142868042\n",
      "Generating Image Number: 11 for target class tensor([2]). Step 50, Loss: 0.029342785477638245\n",
      "Generating Image Number: 11 for target class tensor([2]). Step 100, Loss: 0.018981246277689934\n",
      "Generating Image Number: 11 for target class tensor([2]). Step 150, Loss: 0.015047375112771988\n",
      "Generating Image Number: 11 for target class tensor([2]). Step 200, Loss: 0.012879402376711369\n",
      "Generating Image Number: 11 for target class tensor([2]). Step 250, Loss: 0.011119894683361053\n",
      "Generating Image Number: 11 for target class tensor([2]). Step 300, Loss: 0.009700540453195572\n",
      "Generating Image Number: 11 for target class tensor([2]). Step 350, Loss: 0.008522449992597103\n",
      "Generating Image Number: 11 for target class tensor([2]). Step 400, Loss: 0.007536431774497032\n",
      "Generating Image Number: 11 for target class tensor([2]). Step 450, Loss: 0.006280803121626377\n",
      "Generating Image Number: 12 for target class tensor([2]). Step 0, Loss: 20.470905303955078\n",
      "Generating Image Number: 12 for target class tensor([2]). Step 50, Loss: 19.932125091552734\n",
      "Generating Image Number: 12 for target class tensor([2]). Step 100, Loss: 19.790788650512695\n",
      "Generating Image Number: 12 for target class tensor([2]). Step 150, Loss: 19.71563148498535\n",
      "Generating Image Number: 12 for target class tensor([2]). Step 200, Loss: 19.654937744140625\n",
      "Generating Image Number: 12 for target class tensor([2]). Step 250, Loss: 19.579248428344727\n",
      "Generating Image Number: 12 for target class tensor([2]). Step 300, Loss: 19.39424705505371\n",
      "Generating Image Number: 12 for target class tensor([2]). Step 350, Loss: 0.016062384471297264\n",
      "Generating Image Number: 12 for target class tensor([2]). Step 400, Loss: 0.012264433316886425\n",
      "Generating Image Number: 12 for target class tensor([2]). Step 450, Loss: 0.004954798147082329\n",
      "Generating Image Number: 13 for target class tensor([2]). Step 0, Loss: 2.582195281982422\n",
      "Generating Image Number: 13 for target class tensor([2]). Step 50, Loss: 0.5373249053955078\n",
      "Generating Image Number: 13 for target class tensor([2]). Step 100, Loss: 0.4599890410900116\n",
      "Generating Image Number: 13 for target class tensor([2]). Step 150, Loss: 0.4218621253967285\n",
      "Generating Image Number: 13 for target class tensor([2]). Step 200, Loss: 0.3971603810787201\n",
      "Generating Image Number: 13 for target class tensor([2]). Step 250, Loss: 0.37293028831481934\n",
      "Generating Image Number: 13 for target class tensor([2]). Step 300, Loss: 0.36319321393966675\n",
      "Generating Image Number: 13 for target class tensor([2]). Step 350, Loss: 0.3555249869823456\n",
      "Generating Image Number: 13 for target class tensor([2]). Step 400, Loss: 0.3487376570701599\n",
      "Generating Image Number: 13 for target class tensor([2]). Step 450, Loss: 0.3434402644634247\n",
      "Generating Image Number: 14 for target class tensor([2]). Step 0, Loss: 2.427274227142334\n",
      "Generating Image Number: 14 for target class tensor([2]). Step 50, Loss: 0.009818828664720058\n",
      "Generating Image Number: 14 for target class tensor([2]). Step 100, Loss: 0.00580280926078558\n",
      "Generating Image Number: 14 for target class tensor([2]). Step 150, Loss: 0.00533549627289176\n",
      "Generating Image Number: 14 for target class tensor([2]). Step 200, Loss: 0.005193077493458986\n",
      "Generating Image Number: 14 for target class tensor([2]). Step 250, Loss: 0.005076139234006405\n",
      "Generating Image Number: 14 for target class tensor([2]). Step 300, Loss: 0.00496357586234808\n",
      "Generating Image Number: 14 for target class tensor([2]). Step 350, Loss: 0.004847559612244368\n",
      "Generating Image Number: 14 for target class tensor([2]). Step 400, Loss: 0.0047134957276284695\n",
      "Generating Image Number: 14 for target class tensor([2]). Step 450, Loss: 0.004594721365720034\n",
      "Generating Image Number: 15 for target class tensor([2]). Step 0, Loss: 0.582565188407898\n",
      "Generating Image Number: 15 for target class tensor([2]). Step 50, Loss: 0.14957718551158905\n",
      "Generating Image Number: 15 for target class tensor([2]). Step 100, Loss: 0.07468058913946152\n",
      "Generating Image Number: 15 for target class tensor([2]). Step 150, Loss: 0.04697717726230621\n",
      "Generating Image Number: 15 for target class tensor([2]). Step 200, Loss: 0.03334154188632965\n",
      "Generating Image Number: 15 for target class tensor([2]). Step 250, Loss: 0.02474294602870941\n",
      "Generating Image Number: 15 for target class tensor([2]). Step 300, Loss: 0.018173959106206894\n",
      "Generating Image Number: 15 for target class tensor([2]). Step 350, Loss: 0.013686975464224815\n",
      "Generating Image Number: 15 for target class tensor([2]). Step 400, Loss: 0.010661311447620392\n",
      "Generating Image Number: 15 for target class tensor([2]). Step 450, Loss: 0.008752554655075073\n",
      "Generating Image Number: 16 for target class tensor([2]). Step 0, Loss: 1.642207384109497\n",
      "Generating Image Number: 16 for target class tensor([2]). Step 50, Loss: 0.007710338570177555\n",
      "Generating Image Number: 16 for target class tensor([2]). Step 100, Loss: 0.005189756862819195\n",
      "Generating Image Number: 16 for target class tensor([2]). Step 150, Loss: 0.0045493911020457745\n",
      "Generating Image Number: 16 for target class tensor([2]). Step 200, Loss: 0.004344430286437273\n",
      "Generating Image Number: 16 for target class tensor([2]). Step 250, Loss: 0.004182995297014713\n",
      "Generating Image Number: 16 for target class tensor([2]). Step 300, Loss: 0.004047773778438568\n",
      "Generating Image Number: 16 for target class tensor([2]). Step 350, Loss: 0.003915027249604464\n",
      "Generating Image Number: 16 for target class tensor([2]). Step 400, Loss: 0.003794851480051875\n",
      "Generating Image Number: 16 for target class tensor([2]). Step 450, Loss: 0.0036836881190538406\n",
      "Generating Image Number: 17 for target class tensor([2]). Step 0, Loss: 0.012545948848128319\n",
      "Generating Image Number: 17 for target class tensor([2]). Step 50, Loss: 0.001949554425664246\n",
      "Generating Image Number: 17 for target class tensor([2]). Step 100, Loss: 0.0011853104224428535\n",
      "Generating Image Number: 17 for target class tensor([2]). Step 150, Loss: 0.0008806879632174969\n",
      "Generating Image Number: 17 for target class tensor([2]). Step 200, Loss: 0.0007180972606875002\n",
      "Generating Image Number: 17 for target class tensor([2]). Step 250, Loss: 0.0006157647585496306\n",
      "Generating Image Number: 17 for target class tensor([2]). Step 300, Loss: 0.0005477358354255557\n",
      "Generating Image Number: 17 for target class tensor([2]). Step 350, Loss: 0.0004970983718521893\n",
      "Generating Image Number: 17 for target class tensor([2]). Step 400, Loss: 0.0004593271005433053\n",
      "Generating Image Number: 17 for target class tensor([2]). Step 450, Loss: 0.0004240567213855684\n",
      "Generating Image Number: 18 for target class tensor([2]). Step 0, Loss: 18.585899353027344\n",
      "Generating Image Number: 18 for target class tensor([2]). Step 50, Loss: 0.06523860991001129\n",
      "Generating Image Number: 18 for target class tensor([2]). Step 100, Loss: 0.050452783703804016\n",
      "Generating Image Number: 18 for target class tensor([2]). Step 150, Loss: 0.04545499011874199\n",
      "Generating Image Number: 18 for target class tensor([2]). Step 200, Loss: 0.04052482172846794\n",
      "Generating Image Number: 18 for target class tensor([2]). Step 250, Loss: 0.03555239737033844\n",
      "Generating Image Number: 18 for target class tensor([2]). Step 300, Loss: 0.03144386038184166\n",
      "Generating Image Number: 18 for target class tensor([2]). Step 350, Loss: 0.02768508717417717\n",
      "Generating Image Number: 18 for target class tensor([2]). Step 400, Loss: 0.02489784173667431\n",
      "Generating Image Number: 18 for target class tensor([2]). Step 450, Loss: 0.02244124561548233\n",
      "Generating Image Number: 19 for target class tensor([2]). Step 0, Loss: 1.6592097282409668\n",
      "Generating Image Number: 19 for target class tensor([2]). Step 50, Loss: 0.3540307283401489\n",
      "Generating Image Number: 19 for target class tensor([2]). Step 100, Loss: 0.2063257396221161\n",
      "Generating Image Number: 19 for target class tensor([2]). Step 150, Loss: 0.14448894560337067\n",
      "Generating Image Number: 19 for target class tensor([2]). Step 200, Loss: 0.11187988519668579\n",
      "Generating Image Number: 19 for target class tensor([2]). Step 250, Loss: 0.09185747057199478\n",
      "Generating Image Number: 19 for target class tensor([2]). Step 300, Loss: 0.07619232684373856\n",
      "Generating Image Number: 19 for target class tensor([2]). Step 350, Loss: 0.06500159204006195\n",
      "Generating Image Number: 19 for target class tensor([2]). Step 400, Loss: 0.05483502149581909\n",
      "Generating Image Number: 19 for target class tensor([2]). Step 450, Loss: 0.04860243201255798\n",
      "Generating Image Number: 20 for target class tensor([2]). Step 0, Loss: 0.1597949117422104\n",
      "Generating Image Number: 20 for target class tensor([2]). Step 50, Loss: 0.03365637734532356\n",
      "Generating Image Number: 20 for target class tensor([2]). Step 100, Loss: 0.019406568259000778\n",
      "Generating Image Number: 20 for target class tensor([2]). Step 150, Loss: 0.013683211989700794\n",
      "Generating Image Number: 20 for target class tensor([2]). Step 200, Loss: 0.01021514367312193\n",
      "Generating Image Number: 20 for target class tensor([2]). Step 250, Loss: 0.008036303333938122\n",
      "Generating Image Number: 20 for target class tensor([2]). Step 300, Loss: 0.006828070152550936\n",
      "Generating Image Number: 20 for target class tensor([2]). Step 350, Loss: 0.005904019810259342\n",
      "Generating Image Number: 20 for target class tensor([2]). Step 400, Loss: 0.005095471628010273\n",
      "Generating Image Number: 20 for target class tensor([2]). Step 450, Loss: 0.0045203170739114285\n"
     ]
    }
   ],
   "source": [
    "torch.manual_seed(200)\n",
    "latent_vectors = torch.randn(img_count, z_dim, 1, 1, requires_grad=True) # Start with 20 random noises\n",
    "class2_optimized_latent_vectors = recover_images(img_count, 2, latent_vectors)"
   ]
  },
  {
   "cell_type": "code",
   "execution_count": 23,
   "id": "0381b36d-6c92-43bc-b776-1eefd3eab451",
   "metadata": {
    "scrolled": true
   },
   "outputs": [
    {
     "name": "stdout",
     "output_type": "stream",
     "text": [
      "Generating Image Number: 1 for target class tensor([3]). Step 0, Loss: 0.008594665676355362\n",
      "Generating Image Number: 1 for target class tensor([3]). Step 50, Loss: 0.015333625487983227\n",
      "Generating Image Number: 1 for target class tensor([3]). Step 100, Loss: 0.0037338081747293472\n",
      "Generating Image Number: 1 for target class tensor([3]). Step 150, Loss: 0.0034471871331334114\n",
      "Generating Image Number: 1 for target class tensor([3]). Step 200, Loss: 0.00336307380348444\n",
      "Generating Image Number: 1 for target class tensor([3]). Step 250, Loss: 0.0032736065331846476\n",
      "Generating Image Number: 1 for target class tensor([3]). Step 300, Loss: 0.0031825865153223276\n",
      "Generating Image Number: 1 for target class tensor([3]). Step 350, Loss: 0.003107126336544752\n",
      "Generating Image Number: 1 for target class tensor([3]). Step 400, Loss: 0.003035107161849737\n",
      "Generating Image Number: 1 for target class tensor([3]). Step 450, Loss: 0.0029700950253754854\n",
      "Generating Image Number: 2 for target class tensor([3]). Step 0, Loss: 0.5272778272628784\n",
      "Generating Image Number: 2 for target class tensor([3]). Step 50, Loss: 0.21496756374835968\n",
      "Generating Image Number: 2 for target class tensor([3]). Step 100, Loss: 0.13409735262393951\n",
      "Generating Image Number: 2 for target class tensor([3]). Step 150, Loss: 0.10196276754140854\n",
      "Generating Image Number: 2 for target class tensor([3]). Step 200, Loss: 0.08382555842399597\n",
      "Generating Image Number: 2 for target class tensor([3]). Step 250, Loss: 0.07165390998125076\n",
      "Generating Image Number: 2 for target class tensor([3]). Step 300, Loss: 0.06312830001115799\n",
      "Generating Image Number: 2 for target class tensor([3]). Step 350, Loss: 0.05785243585705757\n",
      "Generating Image Number: 2 for target class tensor([3]). Step 400, Loss: 0.05317861586809158\n",
      "Generating Image Number: 2 for target class tensor([3]). Step 450, Loss: 0.048582784831523895\n",
      "Generating Image Number: 3 for target class tensor([3]). Step 0, Loss: 0.8873192071914673\n",
      "Generating Image Number: 3 for target class tensor([3]). Step 50, Loss: 0.3397032618522644\n",
      "Generating Image Number: 3 for target class tensor([3]). Step 100, Loss: 0.20856502652168274\n",
      "Generating Image Number: 3 for target class tensor([3]). Step 150, Loss: 0.1510767638683319\n",
      "Generating Image Number: 3 for target class tensor([3]). Step 200, Loss: 0.12189950793981552\n",
      "Generating Image Number: 3 for target class tensor([3]). Step 250, Loss: 0.09108278900384903\n",
      "Generating Image Number: 3 for target class tensor([3]). Step 300, Loss: 0.07388041168451309\n",
      "Generating Image Number: 3 for target class tensor([3]). Step 350, Loss: 0.06391006708145142\n",
      "Generating Image Number: 3 for target class tensor([3]). Step 400, Loss: 0.057450249791145325\n",
      "Generating Image Number: 3 for target class tensor([3]). Step 450, Loss: 0.05214754119515419\n",
      "Generating Image Number: 4 for target class tensor([3]). Step 0, Loss: 3.7010648250579834\n",
      "Generating Image Number: 4 for target class tensor([3]). Step 50, Loss: 1.563133955001831\n",
      "Generating Image Number: 4 for target class tensor([3]). Step 100, Loss: 1.4970483779907227\n",
      "Generating Image Number: 4 for target class tensor([3]). Step 150, Loss: 1.4203238487243652\n",
      "Generating Image Number: 4 for target class tensor([3]). Step 200, Loss: 1.3206126689910889\n",
      "Generating Image Number: 4 for target class tensor([3]). Step 250, Loss: 1.219886302947998\n",
      "Generating Image Number: 4 for target class tensor([3]). Step 300, Loss: 1.138764500617981\n",
      "Generating Image Number: 4 for target class tensor([3]). Step 350, Loss: 1.0805494785308838\n",
      "Generating Image Number: 4 for target class tensor([3]). Step 400, Loss: 1.03025484085083\n",
      "Generating Image Number: 4 for target class tensor([3]). Step 450, Loss: 0.9934022426605225\n",
      "Generating Image Number: 5 for target class tensor([3]). Step 0, Loss: 0.8065419793128967\n",
      "Generating Image Number: 5 for target class tensor([3]). Step 50, Loss: 0.26258841156959534\n",
      "Generating Image Number: 5 for target class tensor([3]). Step 100, Loss: 0.19618280231952667\n",
      "Generating Image Number: 5 for target class tensor([3]). Step 150, Loss: 0.16040892899036407\n",
      "Generating Image Number: 5 for target class tensor([3]). Step 200, Loss: 0.1326141506433487\n",
      "Generating Image Number: 5 for target class tensor([3]). Step 250, Loss: 0.11116962879896164\n",
      "Generating Image Number: 5 for target class tensor([3]). Step 300, Loss: 0.09964704513549805\n",
      "Generating Image Number: 5 for target class tensor([3]). Step 350, Loss: 0.08768180012702942\n",
      "Generating Image Number: 5 for target class tensor([3]). Step 400, Loss: 0.078120157122612\n",
      "Generating Image Number: 5 for target class tensor([3]). Step 450, Loss: 0.07042597979307175\n",
      "Generating Image Number: 6 for target class tensor([3]). Step 0, Loss: 0.6964566707611084\n",
      "Generating Image Number: 6 for target class tensor([3]). Step 50, Loss: 0.028854960575699806\n",
      "Generating Image Number: 6 for target class tensor([3]). Step 100, Loss: 0.020262043923139572\n",
      "Generating Image Number: 6 for target class tensor([3]). Step 150, Loss: 0.01906183362007141\n",
      "Generating Image Number: 6 for target class tensor([3]). Step 200, Loss: 0.018095875158905983\n",
      "Generating Image Number: 6 for target class tensor([3]). Step 250, Loss: 0.017323607578873634\n",
      "Generating Image Number: 6 for target class tensor([3]). Step 300, Loss: 0.01657712459564209\n",
      "Generating Image Number: 6 for target class tensor([3]). Step 350, Loss: 0.015866223722696304\n",
      "Generating Image Number: 6 for target class tensor([3]). Step 400, Loss: 0.015253676101565361\n",
      "Generating Image Number: 6 for target class tensor([3]). Step 450, Loss: 0.014605274423956871\n",
      "Generating Image Number: 7 for target class tensor([3]). Step 0, Loss: 0.6157175302505493\n",
      "Generating Image Number: 7 for target class tensor([3]). Step 50, Loss: 0.3105776906013489\n",
      "Generating Image Number: 7 for target class tensor([3]). Step 100, Loss: 0.1793319284915924\n",
      "Generating Image Number: 7 for target class tensor([3]). Step 150, Loss: 0.12149842083454132\n",
      "Generating Image Number: 7 for target class tensor([3]). Step 200, Loss: 0.08910391479730606\n",
      "Generating Image Number: 7 for target class tensor([3]). Step 250, Loss: 0.06799131631851196\n",
      "Generating Image Number: 7 for target class tensor([3]). Step 300, Loss: 0.05718717724084854\n",
      "Generating Image Number: 7 for target class tensor([3]). Step 350, Loss: 0.049225080758333206\n",
      "Generating Image Number: 7 for target class tensor([3]). Step 400, Loss: 0.04359752684831619\n",
      "Generating Image Number: 7 for target class tensor([3]). Step 450, Loss: 0.039513155817985535\n",
      "Generating Image Number: 8 for target class tensor([3]). Step 0, Loss: 0.2668876051902771\n",
      "Generating Image Number: 8 for target class tensor([3]). Step 50, Loss: 0.05881313234567642\n",
      "Generating Image Number: 8 for target class tensor([3]). Step 100, Loss: 0.043357495218515396\n",
      "Generating Image Number: 8 for target class tensor([3]). Step 150, Loss: 0.036321066319942474\n",
      "Generating Image Number: 8 for target class tensor([3]). Step 200, Loss: 0.031824540346860886\n",
      "Generating Image Number: 8 for target class tensor([3]). Step 250, Loss: 0.028502926230430603\n",
      "Generating Image Number: 8 for target class tensor([3]). Step 300, Loss: 0.025930551812052727\n",
      "Generating Image Number: 8 for target class tensor([3]). Step 350, Loss: 0.023611795157194138\n",
      "Generating Image Number: 8 for target class tensor([3]). Step 400, Loss: 0.022005552425980568\n",
      "Generating Image Number: 8 for target class tensor([3]). Step 450, Loss: 0.020717764273285866\n",
      "Generating Image Number: 9 for target class tensor([3]). Step 0, Loss: 1.0305733680725098\n",
      "Generating Image Number: 9 for target class tensor([3]). Step 50, Loss: 0.06502583622932434\n",
      "Generating Image Number: 9 for target class tensor([3]). Step 100, Loss: 0.030544601380825043\n",
      "Generating Image Number: 9 for target class tensor([3]). Step 150, Loss: 0.019939688965678215\n",
      "Generating Image Number: 9 for target class tensor([3]). Step 200, Loss: 0.014376278035342693\n",
      "Generating Image Number: 9 for target class tensor([3]). Step 250, Loss: 0.01064220443367958\n",
      "Generating Image Number: 9 for target class tensor([3]). Step 300, Loss: 0.00865529477596283\n",
      "Generating Image Number: 9 for target class tensor([3]). Step 350, Loss: 0.007437871303409338\n",
      "Generating Image Number: 9 for target class tensor([3]). Step 400, Loss: 0.006648444104939699\n",
      "Generating Image Number: 9 for target class tensor([3]). Step 450, Loss: 0.006042545661330223\n",
      "Generating Image Number: 10 for target class tensor([3]). Step 0, Loss: 2.175877332687378\n",
      "Generating Image Number: 10 for target class tensor([3]). Step 50, Loss: 0.6566776037216187\n",
      "Generating Image Number: 10 for target class tensor([3]). Step 100, Loss: 0.08589169383049011\n",
      "Generating Image Number: 10 for target class tensor([3]). Step 150, Loss: 0.04857835918664932\n",
      "Generating Image Number: 10 for target class tensor([3]). Step 200, Loss: 0.03766607865691185\n",
      "Generating Image Number: 10 for target class tensor([3]). Step 250, Loss: 0.03107956051826477\n",
      "Generating Image Number: 10 for target class tensor([3]). Step 300, Loss: 0.026455100625753403\n",
      "Generating Image Number: 10 for target class tensor([3]). Step 350, Loss: 0.02292335405945778\n",
      "Generating Image Number: 10 for target class tensor([3]). Step 400, Loss: 0.020053967833518982\n",
      "Generating Image Number: 10 for target class tensor([3]). Step 450, Loss: 0.01768006756901741\n",
      "Generating Image Number: 11 for target class tensor([3]). Step 0, Loss: 0.862625002861023\n",
      "Generating Image Number: 11 for target class tensor([3]). Step 50, Loss: 0.04940924793481827\n",
      "Generating Image Number: 11 for target class tensor([3]). Step 100, Loss: 0.02792890928685665\n",
      "Generating Image Number: 11 for target class tensor([3]). Step 150, Loss: 0.019709106534719467\n",
      "Generating Image Number: 11 for target class tensor([3]). Step 200, Loss: 0.01488296128809452\n",
      "Generating Image Number: 11 for target class tensor([3]). Step 250, Loss: 0.011926179751753807\n",
      "Generating Image Number: 11 for target class tensor([3]). Step 300, Loss: 0.010114132426679134\n",
      "Generating Image Number: 11 for target class tensor([3]). Step 350, Loss: 0.008589583449065685\n",
      "Generating Image Number: 11 for target class tensor([3]). Step 400, Loss: 0.007324035279452801\n",
      "Generating Image Number: 11 for target class tensor([3]). Step 450, Loss: 0.006320842541754246\n",
      "Generating Image Number: 12 for target class tensor([3]). Step 0, Loss: 2.9611966609954834\n",
      "Generating Image Number: 12 for target class tensor([3]). Step 50, Loss: 0.2406289428472519\n",
      "Generating Image Number: 12 for target class tensor([3]). Step 100, Loss: 0.1508418172597885\n",
      "Generating Image Number: 12 for target class tensor([3]). Step 150, Loss: 0.12748375535011292\n",
      "Generating Image Number: 12 for target class tensor([3]). Step 200, Loss: 0.1139666810631752\n",
      "Generating Image Number: 12 for target class tensor([3]). Step 250, Loss: 0.10228276997804642\n",
      "Generating Image Number: 12 for target class tensor([3]). Step 300, Loss: 0.09089361876249313\n",
      "Generating Image Number: 12 for target class tensor([3]). Step 350, Loss: 0.08269283175468445\n",
      "Generating Image Number: 12 for target class tensor([3]). Step 400, Loss: 0.07470227777957916\n",
      "Generating Image Number: 12 for target class tensor([3]). Step 450, Loss: 0.06871242076158524\n",
      "Generating Image Number: 13 for target class tensor([3]). Step 0, Loss: 3.9563801288604736\n",
      "Generating Image Number: 13 for target class tensor([3]). Step 50, Loss: 0.230756476521492\n",
      "Generating Image Number: 13 for target class tensor([3]). Step 100, Loss: 0.19013437628746033\n",
      "Generating Image Number: 13 for target class tensor([3]). Step 150, Loss: 0.17113946378231049\n",
      "Generating Image Number: 13 for target class tensor([3]). Step 200, Loss: 0.15598542988300323\n",
      "Generating Image Number: 13 for target class tensor([3]). Step 250, Loss: 0.14333832263946533\n",
      "Generating Image Number: 13 for target class tensor([3]). Step 300, Loss: 0.13298586010932922\n",
      "Generating Image Number: 13 for target class tensor([3]). Step 350, Loss: 0.1251256912946701\n",
      "Generating Image Number: 13 for target class tensor([3]). Step 400, Loss: 0.11746477335691452\n",
      "Generating Image Number: 13 for target class tensor([3]). Step 450, Loss: 0.10986584424972534\n",
      "Generating Image Number: 14 for target class tensor([3]). Step 0, Loss: 0.8287407755851746\n",
      "Generating Image Number: 14 for target class tensor([3]). Step 50, Loss: 0.08254564553499222\n",
      "Generating Image Number: 14 for target class tensor([3]). Step 100, Loss: 0.05380994826555252\n",
      "Generating Image Number: 14 for target class tensor([3]). Step 150, Loss: 0.0404541902244091\n",
      "Generating Image Number: 14 for target class tensor([3]). Step 200, Loss: 0.03093983791768551\n",
      "Generating Image Number: 14 for target class tensor([3]). Step 250, Loss: 0.024311628192663193\n",
      "Generating Image Number: 14 for target class tensor([3]). Step 300, Loss: 0.01960098370909691\n",
      "Generating Image Number: 14 for target class tensor([3]). Step 350, Loss: 0.016560358926653862\n",
      "Generating Image Number: 14 for target class tensor([3]). Step 400, Loss: 0.01447016280144453\n",
      "Generating Image Number: 14 for target class tensor([3]). Step 450, Loss: 0.012955540791153908\n",
      "Generating Image Number: 15 for target class tensor([3]). Step 0, Loss: 1.1655070781707764\n",
      "Generating Image Number: 15 for target class tensor([3]). Step 50, Loss: 0.12623585760593414\n",
      "Generating Image Number: 15 for target class tensor([3]). Step 100, Loss: 0.10580775141716003\n",
      "Generating Image Number: 15 for target class tensor([3]). Step 150, Loss: 0.09485536813735962\n",
      "Generating Image Number: 15 for target class tensor([3]). Step 200, Loss: 0.08550653606653214\n",
      "Generating Image Number: 15 for target class tensor([3]). Step 250, Loss: 0.07728719711303711\n",
      "Generating Image Number: 15 for target class tensor([3]). Step 300, Loss: 0.07150919735431671\n",
      "Generating Image Number: 15 for target class tensor([3]). Step 350, Loss: 0.06683113425970078\n",
      "Generating Image Number: 15 for target class tensor([3]). Step 400, Loss: 0.0623023547232151\n",
      "Generating Image Number: 15 for target class tensor([3]). Step 450, Loss: 0.0587528832256794\n",
      "Generating Image Number: 16 for target class tensor([3]). Step 0, Loss: 3.4070825576782227\n",
      "Generating Image Number: 16 for target class tensor([3]). Step 50, Loss: 2.6172127723693848\n",
      "Generating Image Number: 16 for target class tensor([3]). Step 100, Loss: 1.6220937967300415\n",
      "Generating Image Number: 16 for target class tensor([3]). Step 150, Loss: 1.4575446844100952\n",
      "Generating Image Number: 16 for target class tensor([3]). Step 200, Loss: 1.358656406402588\n",
      "Generating Image Number: 16 for target class tensor([3]). Step 250, Loss: 1.2844288349151611\n",
      "Generating Image Number: 16 for target class tensor([3]). Step 300, Loss: 1.2223961353302002\n",
      "Generating Image Number: 16 for target class tensor([3]). Step 350, Loss: 1.171347737312317\n",
      "Generating Image Number: 16 for target class tensor([3]). Step 400, Loss: 1.1119598150253296\n",
      "Generating Image Number: 16 for target class tensor([3]). Step 450, Loss: 1.0563788414001465\n",
      "Generating Image Number: 17 for target class tensor([3]). Step 0, Loss: 0.24357959628105164\n",
      "Generating Image Number: 17 for target class tensor([3]). Step 50, Loss: 0.0833401307463646\n",
      "Generating Image Number: 17 for target class tensor([3]). Step 100, Loss: 0.05526025965809822\n",
      "Generating Image Number: 17 for target class tensor([3]). Step 150, Loss: 0.04481984302401543\n",
      "Generating Image Number: 17 for target class tensor([3]). Step 200, Loss: 0.03809775784611702\n",
      "Generating Image Number: 17 for target class tensor([3]). Step 250, Loss: 0.03387178108096123\n",
      "Generating Image Number: 17 for target class tensor([3]). Step 300, Loss: 0.03016563132405281\n",
      "Generating Image Number: 17 for target class tensor([3]). Step 350, Loss: 0.02763047069311142\n",
      "Generating Image Number: 17 for target class tensor([3]). Step 400, Loss: 0.025565285235643387\n",
      "Generating Image Number: 17 for target class tensor([3]). Step 450, Loss: 0.023599453270435333\n",
      "Generating Image Number: 18 for target class tensor([3]). Step 0, Loss: 3.239056348800659\n",
      "Generating Image Number: 18 for target class tensor([3]). Step 50, Loss: 0.3188173472881317\n",
      "Generating Image Number: 18 for target class tensor([3]). Step 100, Loss: 0.23832711577415466\n",
      "Generating Image Number: 18 for target class tensor([3]). Step 150, Loss: 0.18948794901371002\n",
      "Generating Image Number: 18 for target class tensor([3]). Step 200, Loss: 0.1635356843471527\n",
      "Generating Image Number: 18 for target class tensor([3]). Step 250, Loss: 0.1454852819442749\n",
      "Generating Image Number: 18 for target class tensor([3]). Step 300, Loss: 0.13158607482910156\n",
      "Generating Image Number: 18 for target class tensor([3]). Step 350, Loss: 0.11739026010036469\n",
      "Generating Image Number: 18 for target class tensor([3]). Step 400, Loss: 0.10642826557159424\n",
      "Generating Image Number: 18 for target class tensor([3]). Step 450, Loss: 0.09488258510828018\n",
      "Generating Image Number: 19 for target class tensor([3]). Step 0, Loss: 4.035608768463135\n",
      "Generating Image Number: 19 for target class tensor([3]). Step 50, Loss: 0.2499515414237976\n",
      "Generating Image Number: 19 for target class tensor([3]). Step 100, Loss: 0.18580715358257294\n",
      "Generating Image Number: 19 for target class tensor([3]). Step 150, Loss: 0.16048863530158997\n",
      "Generating Image Number: 19 for target class tensor([3]). Step 200, Loss: 0.13884088397026062\n",
      "Generating Image Number: 19 for target class tensor([3]). Step 250, Loss: 0.11451741307973862\n",
      "Generating Image Number: 19 for target class tensor([3]). Step 300, Loss: 0.10244762897491455\n",
      "Generating Image Number: 19 for target class tensor([3]). Step 350, Loss: 0.09043122082948685\n",
      "Generating Image Number: 19 for target class tensor([3]). Step 400, Loss: 0.08063887059688568\n",
      "Generating Image Number: 19 for target class tensor([3]). Step 450, Loss: 0.07412628829479218\n",
      "Generating Image Number: 20 for target class tensor([3]). Step 0, Loss: 3.342878818511963\n",
      "Generating Image Number: 20 for target class tensor([3]). Step 50, Loss: 0.40438830852508545\n",
      "Generating Image Number: 20 for target class tensor([3]). Step 100, Loss: 0.23079746961593628\n",
      "Generating Image Number: 20 for target class tensor([3]). Step 150, Loss: 0.1612042933702469\n",
      "Generating Image Number: 20 for target class tensor([3]). Step 200, Loss: 0.12884443998336792\n",
      "Generating Image Number: 20 for target class tensor([3]). Step 250, Loss: 0.11164045333862305\n",
      "Generating Image Number: 20 for target class tensor([3]). Step 300, Loss: 0.09588365256786346\n",
      "Generating Image Number: 20 for target class tensor([3]). Step 350, Loss: 0.08255036175251007\n",
      "Generating Image Number: 20 for target class tensor([3]). Step 400, Loss: 0.06918085366487503\n",
      "Generating Image Number: 20 for target class tensor([3]). Step 450, Loss: 0.06277850270271301\n"
     ]
    }
   ],
   "source": [
    "torch.manual_seed(300)\n",
    "latent_vectors = torch.randn(img_count, z_dim, 1, 1, requires_grad=True) # Start with 20 random noises\n",
    "class3_optimized_latent_vectors = recover_images(img_count, 3, latent_vectors)"
   ]
  },
  {
   "cell_type": "code",
   "execution_count": 24,
   "id": "ae6425a5-dd86-4e87-8112-883336345ac9",
   "metadata": {},
   "outputs": [],
   "source": [
    "z0_1 = class0_optimized_latent_vectors[0]\n",
    "z0_2 = class0_optimized_latent_vectors[1]\n",
    "z0_3 = class0_optimized_latent_vectors[2]"
   ]
  },
  {
   "cell_type": "code",
   "execution_count": 25,
   "id": "3a6ed4fb-b693-4963-afcf-17a512e50b5f",
   "metadata": {},
   "outputs": [
    {
     "name": "stdout",
     "output_type": "stream",
     "text": [
      "torch.Size([64, 64])\n"
     ]
    }
   ],
   "source": [
    "# Display the generated image\n",
    "img = gen(z0_1.to(device)).squeeze(dim=0).squeeze(dim=0)\n",
    "print(img.shape)"
   ]
  },
  {
   "cell_type": "code",
   "execution_count": 26,
   "id": "88fc9416-c6ca-486b-bd72-63885de78d1c",
   "metadata": {},
   "outputs": [
    {
     "data": {
      "text/plain": [
       "<matplotlib.image.AxesImage at 0x25ebd44aeb0>"
      ]
     },
     "execution_count": 26,
     "metadata": {},
     "output_type": "execute_result"
    },
    {
     "data": {
      "image/png": "[encoded data removed]",
      "text/plain": [
       "<Figure size 640x480 with 1 Axes>"
      ]
     },
     "metadata": {},
     "output_type": "display_data"
    }
   ],
   "source": [
    "plt.axis(False)\n",
    "plt.title('Recovered Image:')\n",
    "plt.imshow(img.cpu().detach(), cmap='gray')"
   ]
  },
  {
   "cell_type": "code",
   "execution_count": 27,
   "id": "bb0fc370-78c5-495f-b1e7-1239873b4ff8",
   "metadata": {},
   "outputs": [],
   "source": [
    "z1 = class1_optimized_latent_vectors[0]\n",
    "z2 = class1_optimized_latent_vectors[1]\n",
    "z3 = class1_optimized_latent_vectors[2]"
   ]
  },
  {
   "cell_type": "code",
   "execution_count": 28,
   "id": "07f38b7d-14f6-4d63-9efa-cb96ec2e1d35",
   "metadata": {},
   "outputs": [
    {
     "name": "stdout",
     "output_type": "stream",
     "text": [
      "torch.Size([64, 64])\n"
     ]
    }
   ],
   "source": [
    "# Display the generated image\n",
    "img = gen(z1.to(device)).squeeze(dim=0).squeeze(dim=0)\n",
    "print(img.shape)"
   ]
  },
  {
   "cell_type": "code",
   "execution_count": 29,
   "id": "8cad57ff-7961-4078-9dd4-1e0b4879ff56",
   "metadata": {},
   "outputs": [
    {
     "data": {
      "text/plain": [
       "<matplotlib.image.AxesImage at 0x25ebd5e0e80>"
      ]
     },
     "execution_count": 29,
     "metadata": {},
     "output_type": "execute_result"
    },
    {
     "data": {
      "image/png": "[encoded data removed]",
      "text/plain": [
       "<Figure size 640x480 with 1 Axes>"
      ]
     },
     "metadata": {},
     "output_type": "display_data"
    }
   ],
   "source": [
    "plt.axis(False)\n",
    "plt.title('Recovered Image:')\n",
    "plt.imshow(img.cpu().detach(), cmap='gray')"
   ]
  },
  {
   "cell_type": "code",
   "execution_count": 30,
   "id": "52ecd67d-cb2d-44a3-b375-759d63db75b1",
   "metadata": {},
   "outputs": [],
   "source": [
    "                                                            # Dataset Loading\n",
    "# Load the .pkl files in as numpy arrays of pixels\n",
    "def load_tumor_data(file_path):\n",
    "    train_xs = []\n",
    "    train_ys = []\n",
    "    \"\"\" Load Digits Data from pickle data\n",
    "    return:\n",
    "    @xs: numpy.array, (n, c, w, h) \n",
    "    @ys: numpy.array, (n, ), 0-9\n",
    "    \"\"\"\n",
    "    with open(file_path, 'rb') as file:\n",
    "        data = pickle.load(file)\n",
    "        train_xs.append(data[\"data\"])\n",
    "        train_ys.append(data[\"labels\"])\n",
    "    train_xs = np.concatenate(train_xs, axis=0)\n",
    "    train_ys = np.concatenate(train_ys, axis=0)\n",
    "    \n",
    "    return train_xs, train_ys"
   ]
  },
  {
   "cell_type": "code",
   "execution_count": 31,
   "id": "ca72f62f-1eec-4b17-a8ce-fd66781f64f6",
   "metadata": {},
   "outputs": [],
   "source": [
    "# Custom Tumor Dataset\n",
    "class TumorDataset(data.Dataset):\n",
    "    def __init__(self, xs, ys, is_train=True):\n",
    "        self.xs = xs\n",
    "        self.ys = ys\n",
    "\n",
    "        if is_train is True:\n",
    "            self.transform = transforms.Compose([\n",
    "                transforms.ToPILImage(),\n",
    "                transforms.Resize((64, 64)),\n",
    "                transforms.ToTensor(),\n",
    "                transforms.Normalize(\n",
    "                    [0.5],\n",
    "                    [0.5]\n",
    "                )\n",
    "            ])\n",
    "        else:\n",
    "            self.transform = transforms.Compose([\n",
    "                transforms.ToPILImage(),\n",
    "                transforms.Resize((64, 64)),\n",
    "                transforms.ToTensor(),\n",
    "                transforms.Normalize(\n",
    "                    (0.4914, 0.4822, 0.4465),\n",
    "                    (0.2023, 0.1994, 0.2010)\n",
    "                )\n",
    "            ])\n",
    "\n",
    "    def __len__(self):\n",
    "        return len(self.xs)\n",
    "\n",
    "    def __getitem__(self, index):\n",
    "        img = self.xs[index]\n",
    "        #print(img.shape)\n",
    "        label = self.ys[index]\n",
    "\n",
    "        img = img.transpose((1, 2, 0)).astype(np.uint8)\n",
    "        img = self.transform(img)\n",
    "\n",
    "        img = torch.FloatTensor(img)\n",
    "        label = torch.LongTensor([label])[0]\n",
    "        return img, label"
   ]
  },
  {
   "cell_type": "code",
   "execution_count": 32,
   "id": "ceb91588-ef69-4373-b33f-74aed6c246bb",
   "metadata": {},
   "outputs": [],
   "source": [
    "def create_dataset(train_xs, train_ys):\n",
    "    tumor_dataset = TumorDataset(train_xs, train_ys, is_train=True)\n",
    "\n",
    "    return tumor_dataset"
   ]
  },
  {
   "cell_type": "code",
   "execution_count": 33,
   "id": "0415fba0-830c-42c6-bbde-c6958e779fbb",
   "metadata": {},
   "outputs": [],
   "source": [
    "def create_dataloader(dataset):\n",
    "    dataloader = DataLoader(dataset=dataset, batch_size=128, shuffle=True)\n",
    "\n",
    "    return dataloader"
   ]
  },
  {
   "cell_type": "code",
   "execution_count": 34,
   "id": "726d4995-5133-4037-ab0e-f2705470cdc9",
   "metadata": {},
   "outputs": [
    {
     "name": "stdout",
     "output_type": "stream",
     "text": [
      "(13927, 1, 32, 32)\n",
      "<class 'numpy.ndarray'>\n"
     ]
    }
   ],
   "source": [
    "# Load in the pickle dataset file\n",
    "train_xs, train_ys = load_tumor_data('datasets/Tumor/tumor4train.pkl')\n",
    "#train_xs = train_xs[:, 1, :, :]\n",
    "#train_xs = np.expand_dims(train_xs, axis=1)\n",
    "train_xs = train_xs.mean(axis=1, keepdims=True)\n",
    "print(train_xs.shape)\n",
    "print(type(train_xs))"
   ]
  },
  {
   "cell_type": "code",
   "execution_count": 35,
   "id": "a684b01a-eb4a-4210-9f59-d613085a404a",
   "metadata": {},
   "outputs": [],
   "source": [
    "# Create the dataset\n",
    "tumor_dataset = create_dataset(train_xs, train_ys)"
   ]
  },
  {
   "cell_type": "code",
   "execution_count": 36,
   "id": "193f07cc-d34f-425e-aa08-62b6d6adbad6",
   "metadata": {},
   "outputs": [],
   "source": [
    "def visualize_image(image_x):\n",
    "    # We have to visualize by reverting the normalization (just for visualization).\n",
    "    mean = torch.tensor([0.5])\n",
    "    std = torch.tensor([0.5])\n",
    "\n",
    "    image = image_x * std + mean  # Denormalize the image\n",
    "\n",
    "    image = torch.clamp(image, 0, 1) # Clip values to [0, 1] to ensure valid range for display\n",
    "\n",
    "    # Permute the image to (H, W, C) for matplotlib\n",
    "    \n",
    "    image = image.permute(1, 2, 0)\n",
    "\n",
    "    plt.imshow(image, cmap='gray')"
   ]
  },
  {
   "cell_type": "code",
   "execution_count": 37,
   "id": "16e93c17-a89b-46a2-8198-71e66e370f4f",
   "metadata": {},
   "outputs": [
    {
     "name": "stdout",
     "output_type": "stream",
     "text": [
      "torch.Size([1, 64, 64])\n"
     ]
    },
    {
     "data": {
      "image/png": "[encoded data removed]",
      "text/plain": [
       "<Figure size 640x480 with 1 Axes>"
      ]
     },
     "metadata": {},
     "output_type": "display_data"
    }
   ],
   "source": [
    "# Visualize the first tumor sample. \n",
    "image_x, image_y = tumor_dataset[7000]\n",
    "print(image_x.shape)\n",
    "visualize_image(image_x)"
   ]
  },
  {
   "cell_type": "code",
   "execution_count": 38,
   "id": "60e2da47-7cb6-493e-aeda-aa80d7965de7",
   "metadata": {},
   "outputs": [],
   "source": [
    "from scipy.spatial.distance import cosine"
   ]
  },
  {
   "cell_type": "code",
   "execution_count": 39,
   "id": "5a7937e5-b808-4b3e-8288-75dcd9862340",
   "metadata": {},
   "outputs": [],
   "source": [
    "# Get the feature embeddings\n",
    "tfcnn_model = target_model = load_target_model(base_net='TFCNN', n_classes=4, path='saved models/fedavg_global_model.pth').to(device)\n",
    "model_embeddings = tfcnn_model.encoder.to(device)"
   ]
  },
  {
   "cell_type": "code",
   "execution_count": 40,
   "id": "737e3d92-45b6-45f6-9bf2-d51f379d6ac8",
   "metadata": {},
   "outputs": [],
   "source": [
    "# Preprocessing\n",
    "preprocess = transforms.Compose([\n",
    "    transforms.Resize(256),\n",
    "    transforms.CenterCrop(224),\n",
    "    transforms.ToTensor(),\n",
    "])"
   ]
  },
  {
   "cell_type": "code",
   "execution_count": 41,
   "id": "babb1015-bdfb-439b-bea1-81f9f50dd74e",
   "metadata": {},
   "outputs": [],
   "source": [
    "def get_feature(img):\n",
    "    with torch.no_grad():\n",
    "        features = model_embeddings(img).squeeze()\n",
    "    return features.cpu().numpy()"
   ]
  },
  {
   "cell_type": "code",
   "execution_count": 42,
   "id": "79f38654-6670-440d-a322-b2cae18a71d8",
   "metadata": {},
   "outputs": [
    {
     "data": {
      "text/plain": [
       "torch.Size([1, 64, 64])"
      ]
     },
     "execution_count": 42,
     "metadata": {},
     "output_type": "execute_result"
    }
   ],
   "source": [
    "# Send an original image through the model\n",
    "image_x, image_y = tumor_dataset[10]\n",
    "image_x.shape"
   ]
  },
  {
   "cell_type": "code",
   "execution_count": 43,
   "id": "a4a2659e-dcaa-4d4a-b5a5-06b363ce6534",
   "metadata": {},
   "outputs": [],
   "source": [
    "image_x = image_x.unsqueeze(dim=0)"
   ]
  },
  {
   "cell_type": "code",
   "execution_count": 44,
   "id": "14348bfc-5988-48f0-88cf-4761d7a99d89",
   "metadata": {},
   "outputs": [
    {
     "data": {
      "text/plain": [
       "torch.Size([1, 1, 64, 64])"
      ]
     },
     "execution_count": 44,
     "metadata": {},
     "output_type": "execute_result"
    }
   ],
   "source": [
    "image_x.shape"
   ]
  },
  {
   "cell_type": "code",
   "execution_count": 45,
   "id": "66160253-9543-4aba-bb81-031d51ef9623",
   "metadata": {},
   "outputs": [
    {
     "data": {
      "text/plain": [
       "torch.Size([1, 3, 64, 64])"
      ]
     },
     "execution_count": 45,
     "metadata": {},
     "output_type": "execute_result"
    }
   ],
   "source": [
    "image_x = image_x.repeat(1, 3, 1, 1)\n",
    "image_x = image_x.to(device)\n",
    "image_x.shape"
   ]
  },
  {
   "cell_type": "code",
   "execution_count": 46,
   "id": "f615c7d3-2dab-425d-81e1-2595ec59e230",
   "metadata": {},
   "outputs": [
    {
     "data": {
      "text/plain": [
       "(4096,)"
      ]
     },
     "execution_count": 46,
     "metadata": {},
     "output_type": "execute_result"
    }
   ],
   "source": [
    "features = get_feature(image_x)\n",
    "features.shape"
   ]
  },
  {
   "cell_type": "code",
   "execution_count": 47,
   "id": "31b9ddc9-3fc8-4a47-bfc7-74a6df27d672",
   "metadata": {},
   "outputs": [],
   "source": [
    "class0_original_images = []\n",
    "class1_original_images = []\n",
    "class2_original_images = []\n",
    "class3_original_images = []\n",
    "target_num = 20 # 20 images for each class"
   ]
  },
  {
   "cell_type": "code",
   "execution_count": 48,
   "id": "e804c948-2dc8-41df-a633-113300baf12a",
   "metadata": {},
   "outputs": [],
   "source": [
    "for i in range(len(tumor_dataset)):\n",
    "    img_x, img_y = tumor_dataset[i]\n",
    "\n",
    "    if img_y == 0:\n",
    "        if len(class0_original_images) < target_num:\n",
    "            class0_original_images.append(img_x)\n",
    "    elif img_y == 1:\n",
    "        if len(class1_original_images) < target_num:\n",
    "            class1_original_images.append(img_x)\n",
    "    elif img_y == 2:\n",
    "        if len(class2_original_images) < target_num:\n",
    "            class2_original_images.append(img_x)\n",
    "    elif img_y == 3:\n",
    "        if len(class3_original_images) < target_num:\n",
    "            class3_original_images.append(img_x)"
   ]
  },
  {
   "cell_type": "code",
   "execution_count": 49,
   "id": "ef07c896-c4cd-48da-9e59-c9d7bd90a4e8",
   "metadata": {},
   "outputs": [
    {
     "data": {
      "text/plain": [
       "20"
      ]
     },
     "execution_count": 49,
     "metadata": {},
     "output_type": "execute_result"
    }
   ],
   "source": [
    "len(class3_original_images)"
   ]
  },
  {
   "cell_type": "code",
   "execution_count": 50,
   "id": "e102404a-68a3-40c5-99a7-45813eb87f20",
   "metadata": {},
   "outputs": [
    {
     "data": {
      "text/plain": [
       "torch.Size([1, 3, 64, 64])"
      ]
     },
     "execution_count": 50,
     "metadata": {},
     "output_type": "execute_result"
    }
   ],
   "source": [
    "# Testing the cosine similarity\n",
    "class1_original_image = class1_original_images[8]\n",
    "class1_original_image = class1_original_image.unsqueeze(dim=0).to(device)\n",
    "class1_original_image = class1_original_image.repeat(1, 3, 1, 1)\n",
    "class1_original_image.shape"
   ]
  },
  {
   "cell_type": "code",
   "execution_count": 51,
   "id": "d7fe9c85-2c83-4580-be7d-32833b706948",
   "metadata": {},
   "outputs": [],
   "source": [
    "fake1 = class1_optimized_latent_vectors[8]\n",
    "fake1_image = gen(fake1.to(device))\n",
    "fake1_image = fake1_image.repeat(1, 3, 1, 1)"
   ]
  },
  {
   "cell_type": "code",
   "execution_count": 52,
   "id": "74647152-cdcb-4593-a88f-d3ac43fd97d3",
   "metadata": {},
   "outputs": [
    {
     "data": {
      "text/plain": [
       "torch.Size([1, 3, 64, 64])"
      ]
     },
     "execution_count": 52,
     "metadata": {},
     "output_type": "execute_result"
    }
   ],
   "source": [
    "fake1_image.shape"
   ]
  },
  {
   "cell_type": "code",
   "execution_count": 120,
   "id": "b55933fb-14aa-47c2-bdb7-80844c1cc377",
   "metadata": {},
   "outputs": [
    {
     "name": "stdout",
     "output_type": "stream",
     "text": [
      "torch.Size([1, 64, 64])\n"
     ]
    },
    {
     "data": {
      "image/png": "[encoded data removed]",
      "text/plain": [
       "<Figure size 640x480 with 1 Axes>"
      ]
     },
     "metadata": {},
     "output_type": "display_data"
    }
   ],
   "source": [
    "fake = class3_optimized_latent_vectors[11]\n",
    "fake_img = gen(fake.to(device)).squeeze(dim=0)\n",
    "print(fake_img.shape)\n",
    "visualize_image(fake_img.detach().cpu())"
   ]
  },
  {
   "cell_type": "code",
   "execution_count": 53,
   "id": "e88f6396-0ef2-45f5-96e0-6048be01af25",
   "metadata": {},
   "outputs": [],
   "source": [
    "# Get the features of the images\n",
    "features_original = get_feature(class1_original_image)\n",
    "features_fake = get_feature(fake1_image)"
   ]
  },
  {
   "cell_type": "code",
   "execution_count": 54,
   "id": "b54e2bca-5f2b-41ea-b810-15d1f9d30f86",
   "metadata": {},
   "outputs": [],
   "source": [
    "# Compute cosine similarity\n",
    "similarity = 1 - cosine(features_original, features_fake)"
   ]
  },
  {
   "cell_type": "code",
   "execution_count": 55,
   "id": "983c7e35-27ee-453c-9356-cb9a84fdd4a3",
   "metadata": {},
   "outputs": [
    {
     "data": {
      "text/plain": [
       "np.float32(0.622417)"
      ]
     },
     "execution_count": 55,
     "metadata": {},
     "output_type": "execute_result"
    }
   ],
   "source": [
    "similarity"
   ]
  },
  {
   "cell_type": "code",
   "execution_count": 56,
   "id": "e65e04e8-52b7-4cf2-876c-d9b07a435ec9",
   "metadata": {},
   "outputs": [],
   "source": [
    "def calculate_class0_sim():\n",
    "    similarities = []\n",
    "    for i in range(0, 20):\n",
    "        class0_original = class0_original_images[i].unsqueeze(dim=0).to(device)\n",
    "        class0_original = class0_original.repeat(1, 3, 1, 1)\n",
    "\n",
    "        class0_fake = class0_optimized_latent_vectors[i]\n",
    "        class0_fake_img = gen(class0_fake.to(device))\n",
    "        class0_fake_img = class0_fake_img.repeat(1, 3, 1, 1)\n",
    "\n",
    "        features_original = get_feature(class0_original)\n",
    "        features_fake = get_feature(class0_fake_img)\n",
    "\n",
    "        cosine_similarity = 1 - cosine(features_original, features_fake)\n",
    "\n",
    "        similarities.append(cosine_similarity)\n",
    "        \n",
    "    return similarities"
   ]
  },
  {
   "cell_type": "code",
   "execution_count": 57,
   "id": "10d8f579-0b80-4157-b59b-7b92be9e52f2",
   "metadata": {},
   "outputs": [],
   "source": [
    "def calculate_class1_sim():\n",
    "    similarities = []\n",
    "    for i in range(0, 20):\n",
    "        class1_original = class1_original_images[i].unsqueeze(dim=0).to(device)\n",
    "        class1_original = class1_original.repeat(1, 3, 1, 1)\n",
    "\n",
    "        class1_fake = class1_optimized_latent_vectors[i]\n",
    "        class1_fake_img = gen(class1_fake.to(device))\n",
    "        class1_fake_img = class1_fake_img.repeat(1, 3, 1, 1)\n",
    "\n",
    "        features_original = get_feature(class1_original)\n",
    "        features_fake = get_feature(class1_fake_img)\n",
    "\n",
    "        cosine_similarity = 1 - cosine(features_original, features_fake)\n",
    "        similarities.append(cosine_similarity)\n",
    "\n",
    "    return similarities"
   ]
  },
  {
   "cell_type": "code",
   "execution_count": 58,
   "id": "1bbdc999-fa6d-4005-b785-3c54a7bd89ee",
   "metadata": {},
   "outputs": [],
   "source": [
    "def calculate_class2_sim():\n",
    "    similarities = []\n",
    "    for i in range(0, 20):\n",
    "        class2_original = class2_original_images[i].unsqueeze(dim=0).to(device)\n",
    "        class2_original = class2_original.repeat(1, 3, 1, 1)\n",
    "\n",
    "        class2_fake = class2_optimized_latent_vectors[i]\n",
    "        class2_fake_img = gen(class2_fake.to(device))\n",
    "        class2_fake_img = class2_fake_img.repeat(1, 3, 1, 1)\n",
    "\n",
    "        features_original = get_feature(class2_original)\n",
    "        features_fake = get_feature(class2_fake_img)\n",
    "\n",
    "        cosine_similarity = 1 - cosine(features_original, features_fake)\n",
    "        similarities.append(cosine_similarity)\n",
    "\n",
    "    return similarities"
   ]
  },
  {
   "cell_type": "code",
   "execution_count": 59,
   "id": "33cb8de1-5a87-4dd4-8fc2-d3f27d6ddc9a",
   "metadata": {},
   "outputs": [],
   "source": [
    "def calculate_class3_sim():\n",
    "    similarities = []\n",
    "    for i in range(0, 20):\n",
    "        class3_original = class3_original_images[i].unsqueeze(dim=0).to(device)\n",
    "        class3_original = class3_original.repeat(1, 3, 1, 1)\n",
    "\n",
    "        class3_fake = class3_optimized_latent_vectors[i]\n",
    "        class3_fake_img = gen(class3_fake.to(device))\n",
    "        class3_fake_img = class3_fake_img.repeat(1, 3, 1, 1)\n",
    "\n",
    "        features_original = get_feature(class3_original)\n",
    "        features_fake = get_feature(class3_fake_img)\n",
    "\n",
    "        cosine_similarity = 1 - cosine(features_original, features_fake)\n",
    "        similarities.append(cosine_similarity)\n",
    "\n",
    "    return similarities"
   ]
  },
  {
   "cell_type": "code",
   "execution_count": 60,
   "id": "7868f175-5845-4ee4-b4cf-1c89513375ec",
   "metadata": {},
   "outputs": [],
   "source": [
    "class0_sims = calculate_class0_sim()\n",
    "class1_sims = calculate_class0_sim()\n",
    "class2_sims = calculate_class0_sim()\n",
    "class3_sims = calculate_class0_sim()"
   ]
  },
  {
   "cell_type": "code",
   "execution_count": 61,
   "id": "bbf4597d-a583-4204-a3ce-9085936e0189",
   "metadata": {},
   "outputs": [
    {
     "data": {
      "text/plain": [
       "[np.float32(0.02496171),\n",
       " np.float32(0.46607256),\n",
       " np.float32(0.6514296),\n",
       " np.float32(0.5951466),\n",
       " np.float32(0.7049228),\n",
       " np.float32(0.019576132),\n",
       " np.float32(0.6002475),\n",
       " np.float32(0.5000767),\n",
       " np.float32(0.5913816),\n",
       " np.float32(0.024790883),\n",
       " np.float32(0.018851817),\n",
       " np.float32(0.6488231),\n",
       " np.float32(0.6648284),\n",
       " np.float32(0.573192),\n",
       " np.float32(0.6216609),\n",
       " np.float32(0.022375345),\n",
       " np.float32(0.61810845),\n",
       " np.float32(0.70572233),\n",
       " np.float32(0.69575626),\n",
       " np.float32(0.5676134)]"
      ]
     },
     "execution_count": 61,
     "metadata": {},
     "output_type": "execute_result"
    }
   ],
   "source": [
    "class0_sims"
   ]
  },
  {
   "cell_type": "code",
   "execution_count": 62,
   "id": "acb9d480-a58f-4ce6-8973-eb9c8d6e7253",
   "metadata": {},
   "outputs": [
    {
     "data": {
      "text/plain": [
       "[np.float32(0.024961531),\n",
       " np.float32(0.46607256),\n",
       " np.float32(0.65142965),\n",
       " np.float32(0.5951466),\n",
       " np.float32(0.70492285),\n",
       " np.float32(0.019576132),\n",
       " np.float32(0.6002473),\n",
       " np.float32(0.5000767),\n",
       " np.float32(0.5913816),\n",
       " np.float32(0.024790943),\n",
       " np.float32(0.018851817),\n",
       " np.float32(0.6488231),\n",
       " np.float32(0.6648282),\n",
       " np.float32(0.573192),\n",
       " np.float32(0.6216609),\n",
       " np.float32(0.022375345),\n",
       " np.float32(0.61810845),\n",
       " np.float32(0.70572215),\n",
       " np.float32(0.6957562),\n",
       " np.float32(0.56761324)]"
      ]
     },
     "execution_count": 62,
     "metadata": {},
     "output_type": "execute_result"
    }
   ],
   "source": [
    "class3_sims"
   ]
  },
  {
   "cell_type": "code",
   "execution_count": 63,
   "id": "58dc103d-1c30-473a-adc3-fcd5ca5100a0",
   "metadata": {},
   "outputs": [
    {
     "ename": "FileNotFoundError",
     "evalue": "[Errno 2] No such file or directory: 'output/fedvg.png'",
     "output_type": "error",
     "traceback": [
      "\u001b[1;31m---------------------------------------------------------------------------\u001b[0m",
      "\u001b[1;31mFileNotFoundError\u001b[0m                         Traceback (most recent call last)",
      "Cell \u001b[1;32mIn[63], line 43\u001b[0m\n\u001b[0;32m     41\u001b[0m plt\u001b[38;5;241m.\u001b[39mtight_layout()\n\u001b[0;32m     42\u001b[0m \u001b[38;5;66;03m# Save the plot to a file\u001b[39;00m\n\u001b[1;32m---> 43\u001b[0m \u001b[43mplt\u001b[49m\u001b[38;5;241;43m.\u001b[39;49m\u001b[43msavefig\u001b[49m\u001b[43m(\u001b[49m\u001b[38;5;124;43m'\u001b[39;49m\u001b[38;5;124;43moutput/fedvg.png\u001b[39;49m\u001b[38;5;124;43m'\u001b[39;49m\u001b[43m,\u001b[49m\u001b[43m \u001b[49m\u001b[43mdpi\u001b[49m\u001b[38;5;241;43m=\u001b[39;49m\u001b[38;5;241;43m300\u001b[39;49m\u001b[43m,\u001b[49m\u001b[43m \u001b[49m\u001b[43mbbox_inches\u001b[49m\u001b[38;5;241;43m=\u001b[39;49m\u001b[38;5;124;43m'\u001b[39;49m\u001b[38;5;124;43mtight\u001b[39;49m\u001b[38;5;124;43m'\u001b[39;49m\u001b[43m)\u001b[49m  \u001b[38;5;66;03m# Save as a PNG file with high resolution\u001b[39;00m\n\u001b[0;32m     45\u001b[0m \u001b[38;5;66;03m# Show the plot\u001b[39;00m\n\u001b[0;32m     46\u001b[0m plt\u001b[38;5;241m.\u001b[39mshow()\n",
      "File \u001b[1;32m~\\AppData\\Local\\Programs\\Python\\Python39\\lib\\site-packages\\matplotlib\\pyplot.py:1228\u001b[0m, in \u001b[0;36msavefig\u001b[1;34m(*args, **kwargs)\u001b[0m\n\u001b[0;32m   1225\u001b[0m fig \u001b[38;5;241m=\u001b[39m gcf()\n\u001b[0;32m   1226\u001b[0m \u001b[38;5;66;03m# savefig default implementation has no return, so mypy is unhappy\u001b[39;00m\n\u001b[0;32m   1227\u001b[0m \u001b[38;5;66;03m# presumably this is here because subclasses can return?\u001b[39;00m\n\u001b[1;32m-> 1228\u001b[0m res \u001b[38;5;241m=\u001b[39m fig\u001b[38;5;241m.\u001b[39msavefig(\u001b[38;5;241m*\u001b[39margs, \u001b[38;5;241m*\u001b[39m\u001b[38;5;241m*\u001b[39mkwargs)  \u001b[38;5;66;03m# type: ignore[func-returns-value]\u001b[39;00m\n\u001b[0;32m   1229\u001b[0m fig\u001b[38;5;241m.\u001b[39mcanvas\u001b[38;5;241m.\u001b[39mdraw_idle()  \u001b[38;5;66;03m# Need this if 'transparent=True', to reset colors.\u001b[39;00m\n\u001b[0;32m   1230\u001b[0m \u001b[38;5;28;01mreturn\u001b[39;00m res\n",
      "File \u001b[1;32m~\\AppData\\Local\\Programs\\Python\\Python39\\lib\\site-packages\\matplotlib\\figure.py:3395\u001b[0m, in \u001b[0;36mFigure.savefig\u001b[1;34m(self, fname, transparent, **kwargs)\u001b[0m\n\u001b[0;32m   3393\u001b[0m     \u001b[38;5;28;01mfor\u001b[39;00m ax \u001b[38;5;129;01min\u001b[39;00m \u001b[38;5;28mself\u001b[39m\u001b[38;5;241m.\u001b[39maxes:\n\u001b[0;32m   3394\u001b[0m         _recursively_make_axes_transparent(stack, ax)\n\u001b[1;32m-> 3395\u001b[0m \u001b[38;5;28mself\u001b[39m\u001b[38;5;241m.\u001b[39mcanvas\u001b[38;5;241m.\u001b[39mprint_figure(fname, \u001b[38;5;241m*\u001b[39m\u001b[38;5;241m*\u001b[39mkwargs)\n",
      "File \u001b[1;32m~\\AppData\\Local\\Programs\\Python\\Python39\\lib\\site-packages\\matplotlib\\backend_bases.py:2204\u001b[0m, in \u001b[0;36mFigureCanvasBase.print_figure\u001b[1;34m(self, filename, dpi, facecolor, edgecolor, orientation, format, bbox_inches, pad_inches, bbox_extra_artists, backend, **kwargs)\u001b[0m\n\u001b[0;32m   2200\u001b[0m \u001b[38;5;28;01mtry\u001b[39;00m:\n\u001b[0;32m   2201\u001b[0m     \u001b[38;5;66;03m# _get_renderer may change the figure dpi (as vector formats\u001b[39;00m\n\u001b[0;32m   2202\u001b[0m     \u001b[38;5;66;03m# force the figure dpi to 72), so we need to set it again here.\u001b[39;00m\n\u001b[0;32m   2203\u001b[0m     \u001b[38;5;28;01mwith\u001b[39;00m cbook\u001b[38;5;241m.\u001b[39m_setattr_cm(\u001b[38;5;28mself\u001b[39m\u001b[38;5;241m.\u001b[39mfigure, dpi\u001b[38;5;241m=\u001b[39mdpi):\n\u001b[1;32m-> 2204\u001b[0m         result \u001b[38;5;241m=\u001b[39m print_method(\n\u001b[0;32m   2205\u001b[0m             filename,\n\u001b[0;32m   2206\u001b[0m             facecolor\u001b[38;5;241m=\u001b[39mfacecolor,\n\u001b[0;32m   2207\u001b[0m             edgecolor\u001b[38;5;241m=\u001b[39medgecolor,\n\u001b[0;32m   2208\u001b[0m             orientation\u001b[38;5;241m=\u001b[39morientation,\n\u001b[0;32m   2209\u001b[0m             bbox_inches_restore\u001b[38;5;241m=\u001b[39m_bbox_inches_restore,\n\u001b[0;32m   2210\u001b[0m             \u001b[38;5;241m*\u001b[39m\u001b[38;5;241m*\u001b[39mkwargs)\n\u001b[0;32m   2211\u001b[0m \u001b[38;5;28;01mfinally\u001b[39;00m:\n\u001b[0;32m   2212\u001b[0m     \u001b[38;5;28;01mif\u001b[39;00m bbox_inches \u001b[38;5;129;01mand\u001b[39;00m restore_bbox:\n",
      "File \u001b[1;32m~\\AppData\\Local\\Programs\\Python\\Python39\\lib\\site-packages\\matplotlib\\backend_bases.py:2054\u001b[0m, in \u001b[0;36mFigureCanvasBase._switch_canvas_and_return_print_method.<locals>.<lambda>\u001b[1;34m(*args, **kwargs)\u001b[0m\n\u001b[0;32m   2050\u001b[0m     optional_kws \u001b[38;5;241m=\u001b[39m {  \u001b[38;5;66;03m# Passed by print_figure for other renderers.\u001b[39;00m\n\u001b[0;32m   2051\u001b[0m         \u001b[38;5;124m\"\u001b[39m\u001b[38;5;124mdpi\u001b[39m\u001b[38;5;124m\"\u001b[39m, \u001b[38;5;124m\"\u001b[39m\u001b[38;5;124mfacecolor\u001b[39m\u001b[38;5;124m\"\u001b[39m, \u001b[38;5;124m\"\u001b[39m\u001b[38;5;124medgecolor\u001b[39m\u001b[38;5;124m\"\u001b[39m, \u001b[38;5;124m\"\u001b[39m\u001b[38;5;124morientation\u001b[39m\u001b[38;5;124m\"\u001b[39m,\n\u001b[0;32m   2052\u001b[0m         \u001b[38;5;124m\"\u001b[39m\u001b[38;5;124mbbox_inches_restore\u001b[39m\u001b[38;5;124m\"\u001b[39m}\n\u001b[0;32m   2053\u001b[0m     skip \u001b[38;5;241m=\u001b[39m optional_kws \u001b[38;5;241m-\u001b[39m {\u001b[38;5;241m*\u001b[39minspect\u001b[38;5;241m.\u001b[39msignature(meth)\u001b[38;5;241m.\u001b[39mparameters}\n\u001b[1;32m-> 2054\u001b[0m     print_method \u001b[38;5;241m=\u001b[39m functools\u001b[38;5;241m.\u001b[39mwraps(meth)(\u001b[38;5;28;01mlambda\u001b[39;00m \u001b[38;5;241m*\u001b[39margs, \u001b[38;5;241m*\u001b[39m\u001b[38;5;241m*\u001b[39mkwargs: meth(\n\u001b[0;32m   2055\u001b[0m         \u001b[38;5;241m*\u001b[39margs, \u001b[38;5;241m*\u001b[39m\u001b[38;5;241m*\u001b[39m{k: v \u001b[38;5;28;01mfor\u001b[39;00m k, v \u001b[38;5;129;01min\u001b[39;00m kwargs\u001b[38;5;241m.\u001b[39mitems() \u001b[38;5;28;01mif\u001b[39;00m k \u001b[38;5;129;01mnot\u001b[39;00m \u001b[38;5;129;01min\u001b[39;00m skip}))\n\u001b[0;32m   2056\u001b[0m \u001b[38;5;28;01melse\u001b[39;00m:  \u001b[38;5;66;03m# Let third-parties do as they see fit.\u001b[39;00m\n\u001b[0;32m   2057\u001b[0m     print_method \u001b[38;5;241m=\u001b[39m meth\n",
      "File \u001b[1;32m~\\AppData\\Local\\Programs\\Python\\Python39\\lib\\site-packages\\matplotlib\\backends\\backend_agg.py:496\u001b[0m, in \u001b[0;36mFigureCanvasAgg.print_png\u001b[1;34m(self, filename_or_obj, metadata, pil_kwargs)\u001b[0m\n\u001b[0;32m    449\u001b[0m \u001b[38;5;28;01mdef\u001b[39;00m\u001b[38;5;250m \u001b[39m\u001b[38;5;21mprint_png\u001b[39m(\u001b[38;5;28mself\u001b[39m, filename_or_obj, \u001b[38;5;241m*\u001b[39m, metadata\u001b[38;5;241m=\u001b[39m\u001b[38;5;28;01mNone\u001b[39;00m, pil_kwargs\u001b[38;5;241m=\u001b[39m\u001b[38;5;28;01mNone\u001b[39;00m):\n\u001b[0;32m    450\u001b[0m \u001b[38;5;250m    \u001b[39m\u001b[38;5;124;03m\"\"\"\u001b[39;00m\n\u001b[0;32m    451\u001b[0m \u001b[38;5;124;03m    Write the figure to a PNG file.\u001b[39;00m\n\u001b[0;32m    452\u001b[0m \n\u001b[1;32m   (...)\u001b[0m\n\u001b[0;32m    494\u001b[0m \u001b[38;5;124;03m        *metadata*, including the default 'Software' key.\u001b[39;00m\n\u001b[0;32m    495\u001b[0m \u001b[38;5;124;03m    \"\"\"\u001b[39;00m\n\u001b[1;32m--> 496\u001b[0m     \u001b[38;5;28;43mself\u001b[39;49m\u001b[38;5;241;43m.\u001b[39;49m\u001b[43m_print_pil\u001b[49m\u001b[43m(\u001b[49m\u001b[43mfilename_or_obj\u001b[49m\u001b[43m,\u001b[49m\u001b[43m \u001b[49m\u001b[38;5;124;43m\"\u001b[39;49m\u001b[38;5;124;43mpng\u001b[39;49m\u001b[38;5;124;43m\"\u001b[39;49m\u001b[43m,\u001b[49m\u001b[43m \u001b[49m\u001b[43mpil_kwargs\u001b[49m\u001b[43m,\u001b[49m\u001b[43m \u001b[49m\u001b[43mmetadata\u001b[49m\u001b[43m)\u001b[49m\n",
      "File \u001b[1;32m~\\AppData\\Local\\Programs\\Python\\Python39\\lib\\site-packages\\matplotlib\\backends\\backend_agg.py:445\u001b[0m, in \u001b[0;36mFigureCanvasAgg._print_pil\u001b[1;34m(self, filename_or_obj, fmt, pil_kwargs, metadata)\u001b[0m\n\u001b[0;32m    440\u001b[0m \u001b[38;5;250m\u001b[39m\u001b[38;5;124;03m\"\"\"\u001b[39;00m\n\u001b[0;32m    441\u001b[0m \u001b[38;5;124;03mDraw the canvas, then save it using `.image.imsave` (to which\u001b[39;00m\n\u001b[0;32m    442\u001b[0m \u001b[38;5;124;03m*pil_kwargs* and *metadata* are forwarded).\u001b[39;00m\n\u001b[0;32m    443\u001b[0m \u001b[38;5;124;03m\"\"\"\u001b[39;00m\n\u001b[0;32m    444\u001b[0m FigureCanvasAgg\u001b[38;5;241m.\u001b[39mdraw(\u001b[38;5;28mself\u001b[39m)\n\u001b[1;32m--> 445\u001b[0m \u001b[43mmpl\u001b[49m\u001b[38;5;241;43m.\u001b[39;49m\u001b[43mimage\u001b[49m\u001b[38;5;241;43m.\u001b[39;49m\u001b[43mimsave\u001b[49m\u001b[43m(\u001b[49m\n\u001b[0;32m    446\u001b[0m \u001b[43m    \u001b[49m\u001b[43mfilename_or_obj\u001b[49m\u001b[43m,\u001b[49m\u001b[43m \u001b[49m\u001b[38;5;28;43mself\u001b[39;49m\u001b[38;5;241;43m.\u001b[39;49m\u001b[43mbuffer_rgba\u001b[49m\u001b[43m(\u001b[49m\u001b[43m)\u001b[49m\u001b[43m,\u001b[49m\u001b[43m \u001b[49m\u001b[38;5;28;43mformat\u001b[39;49m\u001b[38;5;241;43m=\u001b[39;49m\u001b[43mfmt\u001b[49m\u001b[43m,\u001b[49m\u001b[43m \u001b[49m\u001b[43morigin\u001b[49m\u001b[38;5;241;43m=\u001b[39;49m\u001b[38;5;124;43m\"\u001b[39;49m\u001b[38;5;124;43mupper\u001b[39;49m\u001b[38;5;124;43m\"\u001b[39;49m\u001b[43m,\u001b[49m\n\u001b[0;32m    447\u001b[0m \u001b[43m    \u001b[49m\u001b[43mdpi\u001b[49m\u001b[38;5;241;43m=\u001b[39;49m\u001b[38;5;28;43mself\u001b[39;49m\u001b[38;5;241;43m.\u001b[39;49m\u001b[43mfigure\u001b[49m\u001b[38;5;241;43m.\u001b[39;49m\u001b[43mdpi\u001b[49m\u001b[43m,\u001b[49m\u001b[43m \u001b[49m\u001b[43mmetadata\u001b[49m\u001b[38;5;241;43m=\u001b[39;49m\u001b[43mmetadata\u001b[49m\u001b[43m,\u001b[49m\u001b[43m \u001b[49m\u001b[43mpil_kwargs\u001b[49m\u001b[38;5;241;43m=\u001b[39;49m\u001b[43mpil_kwargs\u001b[49m\u001b[43m)\u001b[49m\n",
      "File \u001b[1;32m~\\AppData\\Local\\Programs\\Python\\Python39\\lib\\site-packages\\matplotlib\\image.py:1676\u001b[0m, in \u001b[0;36mimsave\u001b[1;34m(fname, arr, vmin, vmax, cmap, format, origin, dpi, metadata, pil_kwargs)\u001b[0m\n\u001b[0;32m   1674\u001b[0m pil_kwargs\u001b[38;5;241m.\u001b[39msetdefault(\u001b[38;5;124m\"\u001b[39m\u001b[38;5;124mformat\u001b[39m\u001b[38;5;124m\"\u001b[39m, \u001b[38;5;28mformat\u001b[39m)\n\u001b[0;32m   1675\u001b[0m pil_kwargs\u001b[38;5;241m.\u001b[39msetdefault(\u001b[38;5;124m\"\u001b[39m\u001b[38;5;124mdpi\u001b[39m\u001b[38;5;124m\"\u001b[39m, (dpi, dpi))\n\u001b[1;32m-> 1676\u001b[0m image\u001b[38;5;241m.\u001b[39msave(fname, \u001b[38;5;241m*\u001b[39m\u001b[38;5;241m*\u001b[39mpil_kwargs)\n",
      "File \u001b[1;32m~\\AppData\\Local\\Programs\\Python\\Python39\\lib\\site-packages\\PIL\\Image.py:2436\u001b[0m, in \u001b[0;36mImage.save\u001b[1;34m(self, fp, format, **params)\u001b[0m\n\u001b[0;32m   2434\u001b[0m         fp \u001b[38;5;241m=\u001b[39m builtins\u001b[38;5;241m.\u001b[39mopen(filename, \u001b[38;5;124m\"\u001b[39m\u001b[38;5;124mr+b\u001b[39m\u001b[38;5;124m\"\u001b[39m)\n\u001b[0;32m   2435\u001b[0m     \u001b[38;5;28;01melse\u001b[39;00m:\n\u001b[1;32m-> 2436\u001b[0m         fp \u001b[38;5;241m=\u001b[39m \u001b[43mbuiltins\u001b[49m\u001b[38;5;241;43m.\u001b[39;49m\u001b[43mopen\u001b[49m\u001b[43m(\u001b[49m\u001b[43mfilename\u001b[49m\u001b[43m,\u001b[49m\u001b[43m \u001b[49m\u001b[38;5;124;43m\"\u001b[39;49m\u001b[38;5;124;43mw+b\u001b[39;49m\u001b[38;5;124;43m\"\u001b[39;49m\u001b[43m)\u001b[49m\n\u001b[0;32m   2438\u001b[0m \u001b[38;5;28;01mtry\u001b[39;00m:\n\u001b[0;32m   2439\u001b[0m     save_handler(\u001b[38;5;28mself\u001b[39m, fp, filename)\n",
      "\u001b[1;31mFileNotFoundError\u001b[0m: [Errno 2] No such file or directory: 'output/fedvg.png'"
     ]
    },
    {
     "data": {
      "image/png": "[encoded data removed]",
      "text/plain": [
       "<Figure size 650x420 with 1 Axes>"
      ]
     },
     "metadata": {},
     "output_type": "display_data"
    }
   ],
   "source": [
    "                                                        # VISUALIZE\n",
    "# NOTE: Class indexes now start from 1 so, previous class 0 = now class 1 and so on\n",
    "# FIG 1: Raw similarity plot\n",
    "\n",
    "import pandas as pd\n",
    "import numpy as np\n",
    "import matplotlib.pyplot as plt\n",
    "import seaborn as sns\n",
    "\n",
    "# Generate sample similarity data for four classes (each with 20 values in the range 0 to 1)\n",
    "class1_sim = class0_sims\n",
    "class2_sim = class1_sims\n",
    "class3_sim = class2_sims\n",
    "class4_sim = class3_sims\n",
    "\n",
    "# Set figure size\n",
    "plt.figure(figsize=(6.5, 4.2))  # Set the size of the figure (width, height)\n",
    "\n",
    "# Sample DataFrame with four columns\n",
    "data=pd.DataFrame({'Class 1':class1_sim,'Class 2':class2_sim,'Class 3':class3_sim,'Class 4':class4_sim})\n",
    "df = pd.DataFrame(data)\n",
    "\n",
    "# Plot the probability distributions\n",
    "#plt.figure(figsize=(10, 6))\n",
    "\n",
    "# Define colors and line styles for each column\n",
    "colors = ['#1f77b4', '#ff7f0e', '#2ca02c', '#d62728']\n",
    "linestyles = ['-.', '--', '-', '-']\n",
    "\n",
    "# Plot the probability distributions with unique colors and line styles\n",
    "for column, color, linestyle in zip(df.columns, colors, linestyles):\n",
    "    sns.kdeplot(df[column], label=column, color=color, linestyle=linestyle)\n",
    "\n",
    "#plt.title('Probability Distributions of Four Columns')\n",
    "plt.xlabel('Similarity',fontsize=12)\n",
    "plt.ylabel('Density',fontsize=12)\n",
    "plt.yticks(fontsize=12)  # Set y-tick labels font size\n",
    "plt.legend(loc='upper right',fontsize=12)  # Increase legend font size\n",
    "\n",
    "# Optimize layout\n",
    "plt.tight_layout()\n",
    "# Save the plot to a file\n",
    "plt.savefig('output/fedvg.png', dpi=300, bbox_inches='tight')  # Save as a PNG file with high resolution\n",
    "\n",
    "# Show the plot\n",
    "plt.show()\n"
   ]
  },
  {
   "cell_type": "code",
   "execution_count": null,
   "id": "c71af78e-28e9-4564-9609-3039455bb875",
   "metadata": {},
   "outputs": [],
   "source": [
    "# FIG 2: DIFFERENCES IN COSINE SIMILARITY\n",
    "\n",
    "# For each class, we have 20 similarity values — one per image — showing how similar fake and real versions are.These values are very close across classes\n",
    "# So, to highlight subtle differences, compute and plot the difference between each pair of classes, value by value.\n",
    "# This gives you 20 values showing how much the similarity differs for each image between class 0 and class 1.\n",
    "# It's a magnified view of the gap between classes.\n",
    "# If the differences are tiny (e.g., 0.003), the plot helps make that visible and comparable.\n",
    "\n",
    "import numpy as np\n",
    "import matplotlib.pyplot as plt\n",
    "import seaborn as sns\n",
    "import pandas as pd\n",
    "\n",
    "# Differences between class distributions (pairwise)\n",
    "diff_12 = np.array(class2_sim) - np.array(class1_sim)\n",
    "diff_13 = np.array(class3_sim) - np.array(class1_sim)\n",
    "diff_14 = np.array(class4_sim) - np.array(class1_sim)\n",
    "diff_23 = np.array(class3_sim) - np.array(class2_sim)\n",
    "diff_24 = np.array(class4_sim) - np.array(class2_sim)\n",
    "diff_34 = np.array(class4_sim) - np.array(class3_sim)\n",
    "\n",
    "# Create a DataFrame\n",
    "diff_df = pd.DataFrame({\n",
    "    'Class 2 - Class 1': diff_12,\n",
    "    'Class 3 - Class 1': diff_13,\n",
    "    'Class 4 - Class 1': diff_14,\n",
    "    'Class 3 - Class 2': diff_23,\n",
    "    'Class 4 - Class 2': diff_24,\n",
    "    'Class 4 - Class 3': diff_34,\n",
    "})\n",
    "\n",
    "# Plot\n",
    "plt.figure(figsize=(7.5, 5))\n",
    "\n",
    "colors = sns.color_palette(\"tab10\", n_colors=6)\n",
    "\n",
    "for column, color in zip(diff_df.columns, colors):\n",
    "    sns.kdeplot(diff_df[column], label=column, color=color, linestyle='-')\n",
    "\n",
    "plt.axvline(0, color='black', linestyle='--', linewidth=1)  # reference line at 0\n",
    "plt.xlabel('Difference in Similarity', fontsize=12)\n",
    "plt.ylabel('Density', fontsize=12)\n",
    "plt.legend(fontsize=10)\n",
    "plt.title(\"Pairwise Differences in Cosine Similarity\", fontsize=13)\n",
    "plt.tight_layout()\n",
    "plt.show()"
   ]
  },
  {
   "cell_type": "code",
   "execution_count": null,
   "id": "362bf182-7927-4ce2-bf5a-97299d426bc4",
   "metadata": {},
   "outputs": [],
   "source": [
    "def calculate_interclass_similarity(first, second):\n",
    "    similarities = []\n",
    "\n",
    "    first_images = []\n",
    "    second_images = []\n",
    "    if first == 'class1':\n",
    "        first_images = class0_original_images.copy()\n",
    "    elif first == 'class2':\n",
    "        first_images = class1_original_images.copy()\n",
    "    elif first == 'class3':\n",
    "        first_images = class2_original_images.copy()\n",
    "    elif first == 'class4':\n",
    "        first_images = class3_original_images.copy()\n",
    "\n",
    "    if second == 'class1':\n",
    "        second_images = class0_original_images.copy()\n",
    "    elif second == 'class2':\n",
    "        second_images = class1_original_images.copy()\n",
    "    elif second == 'class3':\n",
    "        second_images = class2_original_images.copy()\n",
    "    elif second == 'class4':\n",
    "        second_images = class3_original_images.copy()\n",
    "    \n",
    "    for i in range(0, 20):\n",
    "        first_image = first_images[i].unsqueeze(dim=0).to(device)\n",
    "        first_image = first_image.repeat(1, 3, 1, 1)\n",
    "        \n",
    "        second_image = second_images[i].unsqueeze(dim=0).to(device)\n",
    "        second_image = second_image.repeat(1, 3, 1, 1)\n",
    "        \n",
    "        features_first = get_feature(first_image)\n",
    "        features_second = get_feature(second_image)\n",
    "\n",
    "        cosine_similarity = 1 - cosine(features_first, features_second)\n",
    "        similarities.append(cosine_similarity)\n",
    "\n",
    "    return similarities"
   ]
  },
  {
   "cell_type": "code",
   "execution_count": null,
   "id": "5954dfe3-cb08-4551-a5f9-d2082ac3d604",
   "metadata": {},
   "outputs": [],
   "source": [
    "class1class2 = calculate_interclass_similarity('class1', 'class2')"
   ]
  },
  {
   "cell_type": "code",
   "execution_count": null,
   "id": "cd5ab50d-9d9d-443b-bea5-2d6e302e2bf4",
   "metadata": {},
   "outputs": [],
   "source": [
    "class1class2"
   ]
  },
  {
   "cell_type": "code",
   "execution_count": null,
   "id": "29441f40-36a7-4854-98be-5d128bae49cd",
   "metadata": {},
   "outputs": [],
   "source": [
    "                                                # FIG: 3 -> INTERCLASS SIMILARITIES\n",
    "\n",
    "import pandas as pd\n",
    "import numpy as np\n",
    "import matplotlib.pyplot as plt\n",
    "import seaborn as sns\n",
    "\n",
    "# Set figure size\n",
    "plt.figure(figsize=(6.5, 4.2))  # Set the size of the figure (width, height)\n",
    "\n",
    "# Generate sample similarity data for four classes (each with 20 values in the range 0 to 1)\n",
    "np.random.seed(42)  # For reproducibility\n",
    "class1class2 = calculate_interclass_similarity('class1', 'class2')\n",
    "class1class3 = calculate_interclass_similarity('class1', 'class3')\n",
    "class1class4 = calculate_interclass_similarity('class1', 'class4')\n",
    "class2class3 = calculate_interclass_similarity('class2', 'class3')\n",
    "class2class4 = calculate_interclass_similarity('class2', 'class4')\n",
    "class3class4 = calculate_interclass_similarity('class3', 'class4')\n",
    "\n",
    "# Sample DataFrame with four columns\n",
    "data=pd.DataFrame({'Class1 vs Class2':class1class2,'Class1 vs Class3':class1class3,'Class1 vs Class4':class1class4,'Class2 vs Class3':class2class3,'Class2 vs Class4':class2class4,'Class3 vs Class4':class3class4})\n",
    "df = pd.DataFrame(data)\n",
    "\n",
    "# Plot the probability distributions\n",
    "#plt.figure(figsize=(10, 6))\n",
    "\n",
    "# Define colors and line styles for each column\n",
    "colors = ['#1f77b4', '#ff7f0e', '#2ca02c', '#d62728', '#9467bd', '#8c564b']\n",
    "linestyles = ['-.', '--', '-', '-', '-.', '--']\n",
    "\n",
    "# Plot the probability distributions with unique colors and line styles\n",
    "for column, color, linestyle in zip(df.columns, colors, linestyles):\n",
    "    sns.kdeplot(df[column], label=column, color=color, linestyle=linestyle)\n",
    "\n",
    "#plt.title('Probability Distributions of Four Columns')\n",
    "plt.xlabel('Similarity',fontsize=12)\n",
    "plt.ylabel('Density',fontsize=12)\n",
    "plt.yticks(fontsize=12)  # Set y-tick labels font size\n",
    "plt.legend(loc='upper right',fontsize=12)  # Increase legend font size\n",
    "\n",
    "# Optimize layout\n",
    "plt.tight_layout()\n",
    "# Save the plot to a file\n",
    "plt.savefig('output/VoiceDivergenceD3.png', dpi=300, bbox_inches='tight')  # Save as a PNG file with high resolution\n",
    "\n",
    "# Show the plot\n",
    "plt.show()"
   ]
  },
  {
   "cell_type": "code",
   "execution_count": null,
   "id": "19754eee-5c1e-47e6-bbaa-b2cef05a1641",
   "metadata": {},
   "outputs": [],
   "source": []
  }
 ],
 "metadata": {
  "kernelspec": {
   "display_name": "Python 3 (ipykernel)",
   "language": "python",
   "name": "python3"
  },
  "language_info": {
   "codemirror_mode": {
    "name": "ipython",
    "version": 3
   },
   "file_extension": ".py",
   "mimetype": "text/x-python",
   "name": "python",
   "nbconvert_exporter": "python",
   "pygments_lexer": "ipython3",
   "version": "3.9.7"
  }
 },
 "nbformat": 4,
 "nbformat_minor": 5
}
