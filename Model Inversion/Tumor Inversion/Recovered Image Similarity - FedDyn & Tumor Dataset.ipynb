{
 "cells": [
  {
   "cell_type": "code",
   "execution_count": 1,
   "id": "646b38c2-386a-4f83-a983-ea764ad8267f",
   "metadata": {},
   "outputs": [],
   "source": [
    "# Attempting to recover training data using model's parameters and a DCGAN that was trained on similar data\n",
    "# Author: Suraj Neupane\n",
    "# Written from scratch as a part of a Research Project 2025, Concordia University of Edmonton.\n",
    "import numpy as np\n",
    "\n",
    "import torch\n",
    "from torch import nn\n",
    "from torch.nn import functional\n",
    "\n",
    "from torch.utils import data\n",
    "from torch.utils.data import DataLoader\n",
    "\n",
    "import torchvision\n",
    "from torchvision import datasets\n",
    "from torchvision import transforms\n",
    "\n",
    "import pickle\n",
    "\n",
    "import matplotlib.pyplot as plt\n",
    "%matplotlib inline"
   ]
  },
  {
   "cell_type": "code",
   "execution_count": 2,
   "id": "8b80ddb2-ed75-4870-85b4-9300fce0df7e",
   "metadata": {},
   "outputs": [
    {
     "data": {
      "text/plain": [
       "'2.5.1+cu118'"
      ]
     },
     "execution_count": 2,
     "metadata": {},
     "output_type": "execute_result"
    }
   ],
   "source": [
    "torch.__version__"
   ]
  },
  {
   "cell_type": "code",
   "execution_count": 3,
   "id": "d6950585-eb31-4f61-bd60-5bf8716fcdef",
   "metadata": {},
   "outputs": [],
   "source": [
    "device = 'cuda' if torch.cuda.is_available() else 'cpu'"
   ]
  },
  {
   "cell_type": "code",
   "execution_count": 4,
   "id": "36c47e07-6b7d-4123-a59d-5d465f9ef280",
   "metadata": {},
   "outputs": [
    {
     "data": {
      "text/plain": [
       "'cuda'"
      ]
     },
     "execution_count": 4,
     "metadata": {},
     "output_type": "execute_result"
    }
   ],
   "source": [
    "device"
   ]
  },
  {
   "cell_type": "code",
   "execution_count": 5,
   "id": "b852ca55-f33e-469f-b7b9-e00d21124927",
   "metadata": {},
   "outputs": [],
   "source": [
    "# DCGAN Implementation Class\n",
    "# Discriminator\n",
    "class Discriminator(nn.Module):\n",
    "    def __init__(self, img_channels, features_d):\n",
    "        super().__init__()\n",
    "        self.disc = nn.Sequential(\n",
    "            # Input shape: img_channels x 64 x 64\n",
    "            nn.Conv2d(\n",
    "              in_channels=img_channels, out_channels=features_d, kernel_size=4, stride=2, padding=1\n",
    "            ), # Output shape: features_d x 32 x 32\n",
    "            nn.LeakyReLU(0.2),\n",
    "            self._block(features_d, features_d*2, 4, 2, 1), # Output shape: features_d*2 x 16 x 16\n",
    "            self._block(features_d*2, features_d*4, 4, 2, 1), # Output shape: features_d*4 x 8 x 8\n",
    "            self._block(features_d*4, features_d*8, 4, 2, 1), # Output shape: features_d*8 x 4 x 4\n",
    "           \n",
    "            nn.Conv2d(in_channels=features_d*8, out_channels=1, kernel_size=4, stride=2, padding=0), # Output shape: 1 x 1\n",
    "            nn.Sigmoid(),\n",
    "        )\n",
    "\n",
    "    def _block(self, in_channels, out_channels, kernel_size, stride, padding):\n",
    "        return nn.Sequential(\n",
    "            nn.Conv2d(in_channels, out_channels, kernel_size, stride, padding, bias=False),\n",
    "            nn.BatchNorm2d(out_channels),\n",
    "            nn.LeakyReLU(0.2),\n",
    "        )\n",
    "\n",
    "    def forward(self, X):\n",
    "        return self.disc(X)\n"
   ]
  },
  {
   "cell_type": "code",
   "execution_count": 6,
   "id": "5afe02e5-61d3-4f25-8933-8484e519cd4a",
   "metadata": {},
   "outputs": [],
   "source": [
    "# Generator\n",
    "class Generator(nn.Module):\n",
    "    def __init__(self, z_dim, img_channels, features_g):\n",
    "        super().__init__()\n",
    "        self.gen = nn.Sequential(\n",
    "            self._block(z_dim, features_g*16, 4, 1, 0), # z_dim: (batch_size, 100, 1, 1) -> (batch_size, 1024, 4, 4)\n",
    "            self._block(features_g*16, features_g*8, 4, 2, 1), # z_dim: (batch_size, 1024, 4, 4) -> (batch_size, 512, 8, 8)\n",
    "            self._block(features_g*8, features_g*4, 4, 2, 1), # z_dim: (batch_size, 512, 8, 8) -> (batch_size, 256, 16, 16)\n",
    "            self._block(features_g*4, features_g*2, 4, 2, 1), # z_dim: (batch_size, 128, 16, 16) -> (batch_size, 64, 32, 32)\n",
    "            nn.ConvTranspose2d(\n",
    "                in_channels=features_g*2, out_channels=img_channels, kernel_size=4, stride=2, padding=1 # z_dim: (batch_size, 64, 32, 32) -> (batch_size, 1, 64, 64)\n",
    "            ),\n",
    "            nn.Tanh(),\n",
    "        )\n",
    "        \n",
    "    def _block(self, in_channels, out_channels, kernel_size, stride, padding):\n",
    "        return nn.Sequential(\n",
    "            nn.ConvTranspose2d(\n",
    "                in_channels, out_channels, kernel_size, stride, padding, bias=False,\n",
    "            ),\n",
    "            nn.InstanceNorm2d(out_channels, affine=True),\n",
    "            nn.ReLU(),\n",
    "        )\n",
    "\n",
    "    def forward(self, X):\n",
    "        return self.gen(X)"
   ]
  },
  {
   "cell_type": "code",
   "execution_count": 7,
   "id": "48c1be35-d58a-4d0c-990d-9250fbdbf1b3",
   "metadata": {},
   "outputs": [],
   "source": [
    "# Hyperparams\n",
    "z_dim = 100\n",
    "img_channels = 1\n",
    "features_disc = 64\n",
    "features_gen = 64"
   ]
  },
  {
   "cell_type": "code",
   "execution_count": 8,
   "id": "f2dc1f40-5c2e-4903-b2e7-7abe5cae9772",
   "metadata": {},
   "outputs": [],
   "source": [
    "# Create the model instances\n",
    "gen = Generator(z_dim, img_channels, features_gen).to(device)\n",
    "disc = Discriminator(img_channels, features_disc).to(device)"
   ]
  },
  {
   "cell_type": "code",
   "execution_count": 9,
   "id": "bc7a5deb-f8d8-41d4-aed3-d012d39a84b9",
   "metadata": {},
   "outputs": [
    {
     "data": {
      "text/plain": [
       "<All keys matched successfully>"
      ]
     },
     "execution_count": 9,
     "metadata": {},
     "output_type": "execute_result"
    }
   ],
   "source": [
    "# Load the trained GAN\n",
    "gen.load_state_dict(torch.load('saved models/Generator2.pth', weights_only=True))\n",
    "disc.load_state_dict(torch.load('saved models/Discriminator2.pth', weights_only=True))"
   ]
  },
  {
   "cell_type": "code",
   "execution_count": 10,
   "id": "a504e932-e168-4bb8-88cc-eea0810aafb0",
   "metadata": {},
   "outputs": [],
   "source": [
    "# Generate a random fake image\n",
    "noise = torch.randn(1, z_dim, 1, 1).to(device)\n",
    "fake_img = gen(noise)"
   ]
  },
  {
   "cell_type": "code",
   "execution_count": 11,
   "id": "98b5d73f-b130-4bc1-a868-c225bd2abe62",
   "metadata": {},
   "outputs": [
    {
     "data": {
      "text/plain": [
       "torch.Size([1, 1, 64, 64])"
      ]
     },
     "execution_count": 11,
     "metadata": {},
     "output_type": "execute_result"
    }
   ],
   "source": [
    "fake_img.shape"
   ]
  },
  {
   "cell_type": "code",
   "execution_count": 12,
   "id": "9d19338c-18e4-4b6e-842f-a225718fa8bb",
   "metadata": {},
   "outputs": [
    {
     "name": "stdout",
     "output_type": "stream",
     "text": [
      "torch.Size([64, 64])\n"
     ]
    },
    {
     "data": {
      "text/plain": [
       "<matplotlib.image.AxesImage at 0x206c7307a90>"
      ]
     },
     "execution_count": 12,
     "metadata": {},
     "output_type": "execute_result"
    },
    {
     "data": {
      "image/png": "[encoded data removed]",
      "text/plain": [
       "<Figure size 640x480 with 1 Axes>"
      ]
     },
     "metadata": {},
     "output_type": "display_data"
    }
   ],
   "source": [
    "fake_img = fake_img.squeeze()\n",
    "print(fake_img.shape)\n",
    "plt.axis(False)\n",
    "plt.title('Fake Generated Image:')\n",
    "plt.imshow(fake_img.cpu().detach(), cmap='gray')"
   ]
  },
  {
   "cell_type": "code",
   "execution_count": 13,
   "id": "cf2aefac-a759-4335-a3de-2065d6a6a9a5",
   "metadata": {},
   "outputs": [],
   "source": [
    "# Target Model\n",
    "class TFCNN(nn.Module):\n",
    "    def __init__(self, n_classes):\n",
    "        super().__init__()\n",
    "        self.n_classes = n_classes\n",
    "\n",
    "        self.encoder = nn.Sequential(\n",
    "            nn.Conv2d(3, 32, 3, stride=1, padding=1),\n",
    "            nn.ReLU(True),\n",
    "            nn.MaxPool2d(2),\n",
    "            nn.Conv2d(32, 64, 3, stride=1, padding=1),\n",
    "            nn.ReLU(True),\n",
    "            nn.MaxPool2d(2),\n",
    "            nn.Conv2d(64, 64, 3, stride=1, padding=1),\n",
    "            nn.ReLU(True),\n",
    "            nn.MaxPool2d(2),\n",
    "            Reshape(),\n",
    "        )\n",
    "\n",
    "        self.h_size = 64 * 4 * 4\n",
    "\n",
    "        self.classifier = nn.Sequential(\n",
    "            nn.Linear(64 * 4 * 4, 128),\n",
    "            nn.ReLU(True),\n",
    "            nn.Linear(128, n_classes)\n",
    "        )\n",
    "\n",
    "    def forward(self, xs):\n",
    "        code = self.encoder(xs)\n",
    "        logits = self.classifier(code)\n",
    "        return code, logits\n"
   ]
  },
  {
   "cell_type": "code",
   "execution_count": 14,
   "id": "d28876e2-91ee-4ebf-bc52-b71dc82edfa2",
   "metadata": {},
   "outputs": [],
   "source": [
    "class Reshape(nn.Module):\n",
    "    def __init__(self,):\n",
    "        super().__init__()\n",
    "\n",
    "    def forward(self, xs):\n",
    "        return xs.reshape((xs.shape[0], -1))"
   ]
  },
  {
   "cell_type": "code",
   "execution_count": 15,
   "id": "dd57210c-2c18-4651-8f29-be94a7a7a88f",
   "metadata": {},
   "outputs": [],
   "source": [
    "class ClassifyNet(nn.Module):\n",
    "    def __init__(self, net, init_way, n_classes, input_size=None):\n",
    "        super().__init__()\n",
    "        self.net = net\n",
    "        self.init_way = init_way\n",
    "        self.n_classes = n_classes\n",
    "\n",
    "        model = TFCNN(n_classes)\n",
    "\n",
    "        self.h_size = model.h_size\n",
    "\n",
    "        # Convo and pool layers\n",
    "        self.encoder = model.encoder\n",
    "\n",
    "        # Classifier layer\n",
    "        self.classifier = nn.Linear(\n",
    "            self.h_size, self.n_classes, bias=False\n",
    "        )\n",
    "\n",
    "        if self.init_way == \"orth\":\n",
    "            ws = get_orth_weights(self.h_size, self.n_classes)\n",
    "            self.classifier.load_state_dict({\"weight\": ws})\n",
    "\n",
    "    def forward(self, xs):\n",
    "        hs = self.encoder(xs)\n",
    "        logits = self.classifier(hs)\n",
    "        return hs, logits"
   ]
  },
  {
   "cell_type": "code",
   "execution_count": 16,
   "id": "83ea3c08-0470-4c9a-ba15-8328a316b3ab",
   "metadata": {},
   "outputs": [],
   "source": [
    "def load_target_model(base_net, n_classes, path):\n",
    "    # Create the base model\n",
    "    model = ClassifyNet(net=base_net, init_way='none', n_classes=n_classes)\n",
    "    # Load the model\n",
    "    model.load_state_dict(torch.load(path, weights_only=True))\n",
    "\n",
    "    return model"
   ]
  },
  {
   "cell_type": "code",
   "execution_count": 17,
   "id": "0880f1aa-9d08-445a-85ac-f1ff3cebde04",
   "metadata": {},
   "outputs": [
    {
     "name": "stdout",
     "output_type": "stream",
     "text": [
      "Model loaded successfully!\n",
      "Number of parameters in the loaded model: 60416\n"
     ]
    }
   ],
   "source": [
    "# Target Model Loading\n",
    "BASE_NET = 'TFCNN'\n",
    "DATASET = 'tumor4'\n",
    "N_CLASSES = 4\n",
    "\n",
    "target_model = load_target_model(base_net=BASE_NET, n_classes=N_CLASSES, path='saved models/feddyn_global_model.path').to(device)\n",
    "print('Model loaded successfully!')\n",
    "target_model.eval()\n",
    "\n",
    "num_params = sum(p.numel() for p in target_model.parameters())\n",
    "print('Number of parameters in the loaded model:', num_params)\n"
   ]
  },
  {
   "cell_type": "code",
   "execution_count": 18,
   "id": "f843f19e-b2a5-4ffe-b22b-de4ff93c5643",
   "metadata": {},
   "outputs": [],
   "source": [
    "# BEGIN BATCH MODEL INVERSION\n",
    "img_count = 20\n",
    "latent_vectors = torch.randn(img_count, z_dim, 1, 1, requires_grad=True) # Start with 20 random noises"
   ]
  },
  {
   "cell_type": "code",
   "execution_count": 19,
   "id": "c21320ed-d5ac-4919-aaad-8cfa093998a6",
   "metadata": {},
   "outputs": [],
   "source": [
    "def recover_images(count, target_image_class, latent_vectors):\n",
    "    optimized_latent_vectors = []\n",
    "    \n",
    "    for x in range(0, count):\n",
    "        z = latent_vectors[x].unsqueeze(dim=0).clone().detach().requires_grad_(True)\n",
    "        \n",
    "        learning_rate = 0.01\n",
    "        target_class = 1 # The second class\n",
    "        \n",
    "        # Create the optimizer\n",
    "        optimizer = torch.optim.Adam([z], lr=learning_rate)\n",
    "        \n",
    "        # Loss function (e.g., Cross-Entropy with classifier outputs)\n",
    "        loss_fn = nn.CrossEntropyLoss()\n",
    "        target_class = torch.tensor([target_image_class])  # Set the target class\n",
    "    \n",
    "        # Optimization loop to find the best z\n",
    "        rounds = 500\n",
    "        for i in range(rounds):\n",
    "            optimizer.zero_grad()\n",
    "            \n",
    "            generated_image = gen(z.to(device))  # Generate an image from the latent vector\n",
    "            generated_image = generated_image.repeat(1, 3, 1, 1)\n",
    "            generated_image = functional.interpolate(generated_image, size=(32, 32), mode='nearest')\n",
    "            #print(generated_image.shape)\n",
    "            hs, prediction_logits = target_model(generated_image)  # Classifier output\n",
    "            #print(prediction_logits)\n",
    "            #print(type(prediction_logits))\n",
    "            loss = loss_fn(prediction_logits, target_class.to(device))  # Minimize difference with true class\n",
    "            loss.backward()\n",
    "            optimizer.step()\n",
    "            \n",
    "            if i % 50 == 0:\n",
    "                print(f\"Generating Image Number: {x+1} for target class {target_class}. Step {i}, Loss: {loss.item()}\")\n",
    "    \n",
    "        optimized_latent_vectors.append(z)\n",
    "        \n",
    "    return optimized_latent_vectors"
   ]
  },
  {
   "cell_type": "code",
   "execution_count": 20,
   "id": "9ebc9533-23ca-4d44-8aea-9d134281b3a4",
   "metadata": {
    "scrolled": true
   },
   "outputs": [
    {
     "name": "stdout",
     "output_type": "stream",
     "text": [
      "Generating Image Number: 1 for target class tensor([0]). Step 0, Loss: 1.9815313816070557\n",
      "Generating Image Number: 1 for target class tensor([0]). Step 50, Loss: 0.3868870437145233\n",
      "Generating Image Number: 1 for target class tensor([0]). Step 100, Loss: 0.20771610736846924\n",
      "Generating Image Number: 1 for target class tensor([0]). Step 150, Loss: 0.11237466335296631\n",
      "Generating Image Number: 1 for target class tensor([0]). Step 200, Loss: 0.08306711167097092\n",
      "Generating Image Number: 1 for target class tensor([0]). Step 250, Loss: 0.06693058460950851\n",
      "Generating Image Number: 1 for target class tensor([0]). Step 300, Loss: 0.05373279005289078\n",
      "Generating Image Number: 1 for target class tensor([0]). Step 350, Loss: 0.044725120067596436\n",
      "Generating Image Number: 1 for target class tensor([0]). Step 400, Loss: 0.03775355592370033\n",
      "Generating Image Number: 1 for target class tensor([0]). Step 450, Loss: 0.032645806670188904\n",
      "Generating Image Number: 2 for target class tensor([0]). Step 0, Loss: 9.188444137573242\n",
      "Generating Image Number: 2 for target class tensor([0]). Step 50, Loss: 0.6655407547950745\n",
      "Generating Image Number: 2 for target class tensor([0]). Step 100, Loss: 0.4225029945373535\n",
      "Generating Image Number: 2 for target class tensor([0]). Step 150, Loss: 0.3138759434223175\n",
      "Generating Image Number: 2 for target class tensor([0]). Step 200, Loss: 0.24000658094882965\n",
      "Generating Image Number: 2 for target class tensor([0]). Step 250, Loss: 0.20063644647598267\n",
      "Generating Image Number: 2 for target class tensor([0]). Step 300, Loss: 0.1665797382593155\n",
      "Generating Image Number: 2 for target class tensor([0]). Step 350, Loss: 0.14538520574569702\n",
      "Generating Image Number: 2 for target class tensor([0]). Step 400, Loss: 0.12821775674819946\n",
      "Generating Image Number: 2 for target class tensor([0]). Step 450, Loss: 0.11348013579845428\n",
      "Generating Image Number: 3 for target class tensor([0]). Step 0, Loss: 10.105917930603027\n",
      "Generating Image Number: 3 for target class tensor([0]). Step 50, Loss: 3.5116395950317383\n",
      "Generating Image Number: 3 for target class tensor([0]). Step 100, Loss: 0.14047153294086456\n",
      "Generating Image Number: 3 for target class tensor([0]). Step 150, Loss: 0.07548588514328003\n",
      "Generating Image Number: 3 for target class tensor([0]). Step 200, Loss: 0.0694948360323906\n",
      "Generating Image Number: 3 for target class tensor([0]). Step 250, Loss: 0.06427355855703354\n",
      "Generating Image Number: 3 for target class tensor([0]). Step 300, Loss: 0.05940160155296326\n",
      "Generating Image Number: 3 for target class tensor([0]). Step 350, Loss: 0.055243901908397675\n",
      "Generating Image Number: 3 for target class tensor([0]). Step 400, Loss: 0.05139117315411568\n",
      "Generating Image Number: 3 for target class tensor([0]). Step 450, Loss: 0.04773234203457832\n",
      "Generating Image Number: 4 for target class tensor([0]). Step 0, Loss: 2.071549892425537\n",
      "Generating Image Number: 4 for target class tensor([0]). Step 50, Loss: 1.1920928244535389e-07\n",
      "Generating Image Number: 4 for target class tensor([0]). Step 100, Loss: 1.1920928244535389e-07\n",
      "Generating Image Number: 4 for target class tensor([0]). Step 150, Loss: 1.1920928244535389e-07\n",
      "Generating Image Number: 4 for target class tensor([0]). Step 200, Loss: 1.1920928244535389e-07\n",
      "Generating Image Number: 4 for target class tensor([0]). Step 250, Loss: 1.1920928244535389e-07\n",
      "Generating Image Number: 4 for target class tensor([0]). Step 300, Loss: 1.1920928244535389e-07\n",
      "Generating Image Number: 4 for target class tensor([0]). Step 350, Loss: 1.1920928244535389e-07\n",
      "Generating Image Number: 4 for target class tensor([0]). Step 400, Loss: 1.1920928244535389e-07\n",
      "Generating Image Number: 4 for target class tensor([0]). Step 450, Loss: 1.1920928244535389e-07\n",
      "Generating Image Number: 5 for target class tensor([0]). Step 0, Loss: 6.974382400512695\n",
      "Generating Image Number: 5 for target class tensor([0]). Step 50, Loss: 0.1844184696674347\n",
      "Generating Image Number: 5 for target class tensor([0]). Step 100, Loss: 0.16400697827339172\n",
      "Generating Image Number: 5 for target class tensor([0]). Step 150, Loss: 0.1497744470834732\n",
      "Generating Image Number: 5 for target class tensor([0]). Step 200, Loss: 0.13705626130104065\n",
      "Generating Image Number: 5 for target class tensor([0]). Step 250, Loss: 0.12471336871385574\n",
      "Generating Image Number: 5 for target class tensor([0]). Step 300, Loss: 0.11414621770381927\n",
      "Generating Image Number: 5 for target class tensor([0]). Step 350, Loss: 0.10507352650165558\n",
      "Generating Image Number: 5 for target class tensor([0]). Step 400, Loss: 0.09729825705289841\n",
      "Generating Image Number: 5 for target class tensor([0]). Step 450, Loss: 0.08959700912237167\n",
      "Generating Image Number: 6 for target class tensor([0]). Step 0, Loss: 2.3841855067985307e-07\n",
      "Generating Image Number: 6 for target class tensor([0]). Step 50, Loss: 0.0\n",
      "Generating Image Number: 6 for target class tensor([0]). Step 100, Loss: 0.0\n",
      "Generating Image Number: 6 for target class tensor([0]). Step 150, Loss: 0.0\n",
      "Generating Image Number: 6 for target class tensor([0]). Step 200, Loss: 0.0\n",
      "Generating Image Number: 6 for target class tensor([0]). Step 250, Loss: 0.0\n",
      "Generating Image Number: 6 for target class tensor([0]). Step 300, Loss: 0.0\n",
      "Generating Image Number: 6 for target class tensor([0]). Step 350, Loss: 0.0\n",
      "Generating Image Number: 6 for target class tensor([0]). Step 400, Loss: 0.0\n",
      "Generating Image Number: 6 for target class tensor([0]). Step 450, Loss: 0.0\n",
      "Generating Image Number: 7 for target class tensor([0]). Step 0, Loss: 3.390000104904175\n",
      "Generating Image Number: 7 for target class tensor([0]). Step 50, Loss: 0.10115084052085876\n",
      "Generating Image Number: 7 for target class tensor([0]). Step 100, Loss: 0.05849172919988632\n",
      "Generating Image Number: 7 for target class tensor([0]). Step 150, Loss: 0.04570693150162697\n",
      "Generating Image Number: 7 for target class tensor([0]). Step 200, Loss: 0.03791448101401329\n",
      "Generating Image Number: 7 for target class tensor([0]). Step 250, Loss: 0.03318056836724281\n",
      "Generating Image Number: 7 for target class tensor([0]). Step 300, Loss: 0.029588287696242332\n",
      "Generating Image Number: 7 for target class tensor([0]). Step 350, Loss: 0.02620871178805828\n",
      "Generating Image Number: 7 for target class tensor([0]). Step 400, Loss: 0.023495826870203018\n",
      "Generating Image Number: 7 for target class tensor([0]). Step 450, Loss: 0.021242016926407814\n",
      "Generating Image Number: 8 for target class tensor([0]). Step 0, Loss: 2.3779163360595703\n",
      "Generating Image Number: 8 for target class tensor([0]). Step 50, Loss: 0.17465394735336304\n",
      "Generating Image Number: 8 for target class tensor([0]). Step 100, Loss: 0.14767679572105408\n",
      "Generating Image Number: 8 for target class tensor([0]). Step 150, Loss: 0.12279821187257767\n",
      "Generating Image Number: 8 for target class tensor([0]). Step 200, Loss: 0.10313217341899872\n",
      "Generating Image Number: 8 for target class tensor([0]). Step 250, Loss: 0.08765155076980591\n",
      "Generating Image Number: 8 for target class tensor([0]). Step 300, Loss: 0.0705067440867424\n",
      "Generating Image Number: 8 for target class tensor([0]). Step 350, Loss: 0.06021176278591156\n",
      "Generating Image Number: 8 for target class tensor([0]). Step 400, Loss: 0.054770924150943756\n",
      "Generating Image Number: 8 for target class tensor([0]). Step 450, Loss: 0.049338217824697495\n",
      "Generating Image Number: 9 for target class tensor([0]). Step 0, Loss: 5.054255485534668\n",
      "Generating Image Number: 9 for target class tensor([0]). Step 50, Loss: 3.397975206375122\n",
      "Generating Image Number: 9 for target class tensor([0]). Step 100, Loss: 3.2903261184692383\n",
      "Generating Image Number: 9 for target class tensor([0]). Step 150, Loss: 3.1889896392822266\n",
      "Generating Image Number: 9 for target class tensor([0]). Step 200, Loss: 3.1071083545684814\n",
      "Generating Image Number: 9 for target class tensor([0]). Step 250, Loss: 3.0368313789367676\n",
      "Generating Image Number: 9 for target class tensor([0]). Step 300, Loss: 2.9782071113586426\n",
      "Generating Image Number: 9 for target class tensor([0]). Step 350, Loss: 2.9135422706604004\n",
      "Generating Image Number: 9 for target class tensor([0]). Step 400, Loss: 2.8483810424804688\n",
      "Generating Image Number: 9 for target class tensor([0]). Step 450, Loss: 2.79852557182312\n",
      "Generating Image Number: 10 for target class tensor([0]). Step 0, Loss: 2.116835355758667\n",
      "Generating Image Number: 10 for target class tensor([0]). Step 50, Loss: 0.15915988385677338\n",
      "Generating Image Number: 10 for target class tensor([0]). Step 100, Loss: 0.12458571791648865\n",
      "Generating Image Number: 10 for target class tensor([0]). Step 150, Loss: 0.10189871490001678\n",
      "Generating Image Number: 10 for target class tensor([0]). Step 200, Loss: 0.07845582067966461\n",
      "Generating Image Number: 10 for target class tensor([0]). Step 250, Loss: 0.06346657127141953\n",
      "Generating Image Number: 10 for target class tensor([0]). Step 300, Loss: 0.05330837145447731\n",
      "Generating Image Number: 10 for target class tensor([0]). Step 350, Loss: 0.04688743129372597\n",
      "Generating Image Number: 10 for target class tensor([0]). Step 400, Loss: 0.04224938899278641\n",
      "Generating Image Number: 10 for target class tensor([0]). Step 450, Loss: 0.037229735404253006\n",
      "Generating Image Number: 11 for target class tensor([0]). Step 0, Loss: 7.824763774871826\n",
      "Generating Image Number: 11 for target class tensor([0]). Step 50, Loss: 2.1105239391326904\n",
      "Generating Image Number: 11 for target class tensor([0]). Step 100, Loss: 1.4748681783676147\n",
      "Generating Image Number: 11 for target class tensor([0]). Step 150, Loss: 1.0606513023376465\n",
      "Generating Image Number: 11 for target class tensor([0]). Step 200, Loss: 0.8294585347175598\n",
      "Generating Image Number: 11 for target class tensor([0]). Step 250, Loss: 0.7144763469696045\n",
      "Generating Image Number: 11 for target class tensor([0]). Step 300, Loss: 0.6287746429443359\n",
      "Generating Image Number: 11 for target class tensor([0]). Step 350, Loss: 0.5607976913452148\n",
      "Generating Image Number: 11 for target class tensor([0]). Step 400, Loss: 0.5168355703353882\n",
      "Generating Image Number: 11 for target class tensor([0]). Step 450, Loss: 0.40078842639923096\n",
      "Generating Image Number: 12 for target class tensor([0]). Step 0, Loss: 0.3859330117702484\n",
      "Generating Image Number: 12 for target class tensor([0]). Step 50, Loss: 0.056147828698158264\n",
      "Generating Image Number: 12 for target class tensor([0]). Step 100, Loss: 0.04005284607410431\n",
      "Generating Image Number: 12 for target class tensor([0]). Step 150, Loss: 0.03326959162950516\n",
      "Generating Image Number: 12 for target class tensor([0]). Step 200, Loss: 0.028874417766928673\n",
      "Generating Image Number: 12 for target class tensor([0]). Step 250, Loss: 0.02542909048497677\n",
      "Generating Image Number: 12 for target class tensor([0]). Step 300, Loss: 0.023047776892781258\n",
      "Generating Image Number: 12 for target class tensor([0]). Step 350, Loss: 0.021308770403265953\n",
      "Generating Image Number: 12 for target class tensor([0]). Step 400, Loss: 0.01987004093825817\n",
      "Generating Image Number: 12 for target class tensor([0]). Step 450, Loss: 0.018525786697864532\n",
      "Generating Image Number: 13 for target class tensor([0]). Step 0, Loss: 0.42334917187690735\n",
      "Generating Image Number: 13 for target class tensor([0]). Step 50, Loss: 0.13007840514183044\n",
      "Generating Image Number: 13 for target class tensor([0]). Step 100, Loss: 0.08636472374200821\n",
      "Generating Image Number: 13 for target class tensor([0]). Step 150, Loss: 0.05801364779472351\n",
      "Generating Image Number: 13 for target class tensor([0]). Step 200, Loss: 0.04067511856555939\n",
      "Generating Image Number: 13 for target class tensor([0]). Step 250, Loss: 0.031326599419116974\n",
      "Generating Image Number: 13 for target class tensor([0]). Step 300, Loss: 0.02654367871582508\n",
      "Generating Image Number: 13 for target class tensor([0]). Step 350, Loss: 0.024022933095693588\n",
      "Generating Image Number: 13 for target class tensor([0]). Step 400, Loss: 0.02219211868941784\n",
      "Generating Image Number: 13 for target class tensor([0]). Step 450, Loss: 0.020610801875591278\n",
      "Generating Image Number: 14 for target class tensor([0]). Step 0, Loss: 0.6794718503952026\n",
      "Generating Image Number: 14 for target class tensor([0]). Step 50, Loss: 0.12821891903877258\n",
      "Generating Image Number: 14 for target class tensor([0]). Step 100, Loss: 0.08137201517820358\n",
      "Generating Image Number: 14 for target class tensor([0]). Step 150, Loss: 0.0590326264500618\n",
      "Generating Image Number: 14 for target class tensor([0]). Step 200, Loss: 0.04685762897133827\n",
      "Generating Image Number: 14 for target class tensor([0]). Step 250, Loss: 0.037224795669317245\n",
      "Generating Image Number: 14 for target class tensor([0]). Step 300, Loss: 0.030902158468961716\n",
      "Generating Image Number: 14 for target class tensor([0]). Step 350, Loss: 0.026911720633506775\n",
      "Generating Image Number: 14 for target class tensor([0]). Step 400, Loss: 0.023311948403716087\n",
      "Generating Image Number: 14 for target class tensor([0]). Step 450, Loss: 0.020752443000674248\n",
      "Generating Image Number: 15 for target class tensor([0]). Step 0, Loss: 1.8647786378860474\n",
      "Generating Image Number: 15 for target class tensor([0]). Step 50, Loss: 0.24518823623657227\n",
      "Generating Image Number: 15 for target class tensor([0]). Step 100, Loss: 0.17994491755962372\n",
      "Generating Image Number: 15 for target class tensor([0]). Step 150, Loss: 0.14810031652450562\n",
      "Generating Image Number: 15 for target class tensor([0]). Step 200, Loss: 0.12946800887584686\n",
      "Generating Image Number: 15 for target class tensor([0]). Step 250, Loss: 0.11597280949354172\n",
      "Generating Image Number: 15 for target class tensor([0]). Step 300, Loss: 0.10511548817157745\n",
      "Generating Image Number: 15 for target class tensor([0]). Step 350, Loss: 0.09634072333574295\n",
      "Generating Image Number: 15 for target class tensor([0]). Step 400, Loss: 0.08918318897485733\n",
      "Generating Image Number: 15 for target class tensor([0]). Step 450, Loss: 0.08289682865142822\n",
      "Generating Image Number: 16 for target class tensor([0]). Step 0, Loss: 8.926593780517578\n",
      "Generating Image Number: 16 for target class tensor([0]). Step 50, Loss: 0.4368082582950592\n",
      "Generating Image Number: 16 for target class tensor([0]). Step 100, Loss: 0.37629976868629456\n",
      "Generating Image Number: 16 for target class tensor([0]). Step 150, Loss: 0.3056854009628296\n",
      "Generating Image Number: 16 for target class tensor([0]). Step 200, Loss: 0.24009425938129425\n",
      "Generating Image Number: 16 for target class tensor([0]). Step 250, Loss: 0.2047937512397766\n",
      "Generating Image Number: 16 for target class tensor([0]). Step 300, Loss: 0.17829306423664093\n",
      "Generating Image Number: 16 for target class tensor([0]). Step 350, Loss: 0.16154585778713226\n",
      "Generating Image Number: 16 for target class tensor([0]). Step 400, Loss: 0.14955788850784302\n",
      "Generating Image Number: 16 for target class tensor([0]). Step 450, Loss: 0.14038586616516113\n",
      "Generating Image Number: 17 for target class tensor([0]). Step 0, Loss: 0.6372387409210205\n",
      "Generating Image Number: 17 for target class tensor([0]). Step 50, Loss: 0.10799017548561096\n",
      "Generating Image Number: 17 for target class tensor([0]). Step 100, Loss: 0.07858112454414368\n",
      "Generating Image Number: 17 for target class tensor([0]). Step 150, Loss: 0.06418903917074203\n",
      "Generating Image Number: 17 for target class tensor([0]). Step 200, Loss: 0.05398005619645119\n",
      "Generating Image Number: 17 for target class tensor([0]). Step 250, Loss: 0.044351257383823395\n",
      "Generating Image Number: 17 for target class tensor([0]). Step 300, Loss: 0.03791011869907379\n",
      "Generating Image Number: 17 for target class tensor([0]). Step 350, Loss: 0.033382125198841095\n",
      "Generating Image Number: 17 for target class tensor([0]). Step 400, Loss: 0.029458656907081604\n",
      "Generating Image Number: 17 for target class tensor([0]). Step 450, Loss: 0.026195241138339043\n",
      "Generating Image Number: 18 for target class tensor([0]). Step 0, Loss: 0.39990997314453125\n",
      "Generating Image Number: 18 for target class tensor([0]). Step 50, Loss: 0.0791308730840683\n",
      "Generating Image Number: 18 for target class tensor([0]). Step 100, Loss: 0.05567539110779762\n",
      "Generating Image Number: 18 for target class tensor([0]). Step 150, Loss: 0.04299328848719597\n",
      "Generating Image Number: 18 for target class tensor([0]). Step 200, Loss: 0.03596705198287964\n",
      "Generating Image Number: 18 for target class tensor([0]). Step 250, Loss: 0.03141624853014946\n",
      "Generating Image Number: 18 for target class tensor([0]). Step 300, Loss: 0.02839934267103672\n",
      "Generating Image Number: 18 for target class tensor([0]). Step 350, Loss: 0.026057736948132515\n",
      "Generating Image Number: 18 for target class tensor([0]). Step 400, Loss: 0.024007802829146385\n",
      "Generating Image Number: 18 for target class tensor([0]). Step 450, Loss: 0.022425392642617226\n",
      "Generating Image Number: 19 for target class tensor([0]). Step 0, Loss: 10.218807220458984\n",
      "Generating Image Number: 19 for target class tensor([0]). Step 50, Loss: 0.25165826082229614\n",
      "Generating Image Number: 19 for target class tensor([0]). Step 100, Loss: 0.1778707653284073\n",
      "Generating Image Number: 19 for target class tensor([0]). Step 150, Loss: 0.14709700644016266\n",
      "Generating Image Number: 19 for target class tensor([0]). Step 200, Loss: 0.12076908349990845\n",
      "Generating Image Number: 19 for target class tensor([0]). Step 250, Loss: 0.10275617986917496\n",
      "Generating Image Number: 19 for target class tensor([0]). Step 300, Loss: 0.09253451973199844\n",
      "Generating Image Number: 19 for target class tensor([0]). Step 350, Loss: 0.08232027292251587\n",
      "Generating Image Number: 19 for target class tensor([0]). Step 400, Loss: 0.07369128614664078\n",
      "Generating Image Number: 19 for target class tensor([0]). Step 450, Loss: 0.06687216460704803\n",
      "Generating Image Number: 20 for target class tensor([0]). Step 0, Loss: 6.709083080291748\n",
      "Generating Image Number: 20 for target class tensor([0]). Step 50, Loss: 0.8298803567886353\n",
      "Generating Image Number: 20 for target class tensor([0]). Step 100, Loss: 0.43289437890052795\n",
      "Generating Image Number: 20 for target class tensor([0]). Step 150, Loss: 0.34508949518203735\n",
      "Generating Image Number: 20 for target class tensor([0]). Step 200, Loss: 0.2821880877017975\n",
      "Generating Image Number: 20 for target class tensor([0]). Step 250, Loss: 0.2378114014863968\n",
      "Generating Image Number: 20 for target class tensor([0]). Step 300, Loss: 0.20931287109851837\n",
      "Generating Image Number: 20 for target class tensor([0]). Step 350, Loss: 0.18962307274341583\n",
      "Generating Image Number: 20 for target class tensor([0]). Step 400, Loss: 0.17588718235492706\n",
      "Generating Image Number: 20 for target class tensor([0]). Step 450, Loss: 0.16467179358005524\n"
     ]
    }
   ],
   "source": [
    "class0_optimized_latent_vectors = recover_images(img_count, 0, latent_vectors)"
   ]
  },
  {
   "cell_type": "code",
   "execution_count": 21,
   "id": "6718334c-2bb1-42a3-bd8c-6aea38e6b59c",
   "metadata": {
    "scrolled": true
   },
   "outputs": [
    {
     "name": "stdout",
     "output_type": "stream",
     "text": [
      "Generating Image Number: 1 for target class tensor([1]). Step 0, Loss: 4.137661933898926\n",
      "Generating Image Number: 1 for target class tensor([1]). Step 50, Loss: 1.1714832782745361\n",
      "Generating Image Number: 1 for target class tensor([1]). Step 100, Loss: 0.7241624593734741\n",
      "Generating Image Number: 1 for target class tensor([1]). Step 150, Loss: 0.5394937992095947\n",
      "Generating Image Number: 1 for target class tensor([1]). Step 200, Loss: 0.4219362437725067\n",
      "Generating Image Number: 1 for target class tensor([1]). Step 250, Loss: 0.3491288721561432\n",
      "Generating Image Number: 1 for target class tensor([1]). Step 300, Loss: 0.2838769555091858\n",
      "Generating Image Number: 1 for target class tensor([1]). Step 350, Loss: 0.23048026859760284\n",
      "Generating Image Number: 1 for target class tensor([1]). Step 400, Loss: 0.19510284066200256\n",
      "Generating Image Number: 1 for target class tensor([1]). Step 450, Loss: 0.17082740366458893\n",
      "Generating Image Number: 2 for target class tensor([1]). Step 0, Loss: 3.3212852478027344\n",
      "Generating Image Number: 2 for target class tensor([1]). Step 50, Loss: 1.2568237781524658\n",
      "Generating Image Number: 2 for target class tensor([1]). Step 100, Loss: 0.7678807973861694\n",
      "Generating Image Number: 2 for target class tensor([1]). Step 150, Loss: 0.5882673859596252\n",
      "Generating Image Number: 2 for target class tensor([1]). Step 200, Loss: 0.43662863969802856\n",
      "Generating Image Number: 2 for target class tensor([1]). Step 250, Loss: 0.35805487632751465\n",
      "Generating Image Number: 2 for target class tensor([1]). Step 300, Loss: 0.32781535387039185\n",
      "Generating Image Number: 2 for target class tensor([1]). Step 350, Loss: 0.3033088445663452\n",
      "Generating Image Number: 2 for target class tensor([1]). Step 400, Loss: 0.2805626392364502\n",
      "Generating Image Number: 2 for target class tensor([1]). Step 450, Loss: 0.26551035046577454\n",
      "Generating Image Number: 3 for target class tensor([1]). Step 0, Loss: 5.063838481903076\n",
      "Generating Image Number: 3 for target class tensor([1]). Step 50, Loss: 3.6567494869232178\n",
      "Generating Image Number: 3 for target class tensor([1]). Step 100, Loss: 2.9911177158355713\n",
      "Generating Image Number: 3 for target class tensor([1]). Step 150, Loss: 2.4928908348083496\n",
      "Generating Image Number: 3 for target class tensor([1]). Step 200, Loss: 2.136228084564209\n",
      "Generating Image Number: 3 for target class tensor([1]). Step 250, Loss: 1.9233057498931885\n",
      "Generating Image Number: 3 for target class tensor([1]). Step 300, Loss: 1.719058632850647\n",
      "Generating Image Number: 3 for target class tensor([1]). Step 350, Loss: 1.5478662252426147\n",
      "Generating Image Number: 3 for target class tensor([1]). Step 400, Loss: 1.4578040838241577\n",
      "Generating Image Number: 3 for target class tensor([1]). Step 450, Loss: 1.3555747270584106\n",
      "Generating Image Number: 4 for target class tensor([1]). Step 0, Loss: 6.043171405792236\n",
      "Generating Image Number: 4 for target class tensor([1]). Step 50, Loss: 4.250556468963623\n",
      "Generating Image Number: 4 for target class tensor([1]). Step 100, Loss: 3.9101243019104004\n",
      "Generating Image Number: 4 for target class tensor([1]). Step 150, Loss: 3.69441819190979\n",
      "Generating Image Number: 4 for target class tensor([1]). Step 200, Loss: 3.4422285556793213\n",
      "Generating Image Number: 4 for target class tensor([1]). Step 250, Loss: 3.2429733276367188\n",
      "Generating Image Number: 4 for target class tensor([1]). Step 300, Loss: 2.993035316467285\n",
      "Generating Image Number: 4 for target class tensor([1]). Step 350, Loss: 2.818143844604492\n",
      "Generating Image Number: 4 for target class tensor([1]). Step 400, Loss: 2.6654045581817627\n",
      "Generating Image Number: 4 for target class tensor([1]). Step 450, Loss: 2.5223770141601562\n",
      "Generating Image Number: 5 for target class tensor([1]). Step 0, Loss: 8.722311019897461\n",
      "Generating Image Number: 5 for target class tensor([1]). Step 50, Loss: 6.265644550323486\n",
      "Generating Image Number: 5 for target class tensor([1]). Step 100, Loss: 5.472380638122559\n",
      "Generating Image Number: 5 for target class tensor([1]). Step 150, Loss: 4.868214130401611\n",
      "Generating Image Number: 5 for target class tensor([1]). Step 200, Loss: 4.541004180908203\n",
      "Generating Image Number: 5 for target class tensor([1]). Step 250, Loss: 4.3353400230407715\n",
      "Generating Image Number: 5 for target class tensor([1]). Step 300, Loss: 4.149222373962402\n",
      "Generating Image Number: 5 for target class tensor([1]). Step 350, Loss: 4.016600608825684\n",
      "Generating Image Number: 5 for target class tensor([1]). Step 400, Loss: 3.8906755447387695\n",
      "Generating Image Number: 5 for target class tensor([1]). Step 450, Loss: 3.797484874725342\n",
      "Generating Image Number: 6 for target class tensor([1]). Step 0, Loss: 8.752948760986328\n",
      "Generating Image Number: 6 for target class tensor([1]). Step 50, Loss: 3.972842216491699\n",
      "Generating Image Number: 6 for target class tensor([1]). Step 100, Loss: 3.5873870849609375\n",
      "Generating Image Number: 6 for target class tensor([1]). Step 150, Loss: 3.3083977699279785\n",
      "Generating Image Number: 6 for target class tensor([1]). Step 200, Loss: 3.165471315383911\n",
      "Generating Image Number: 6 for target class tensor([1]). Step 250, Loss: 3.009352684020996\n",
      "Generating Image Number: 6 for target class tensor([1]). Step 300, Loss: 2.9167263507843018\n",
      "Generating Image Number: 6 for target class tensor([1]). Step 350, Loss: 2.831406593322754\n",
      "Generating Image Number: 6 for target class tensor([1]). Step 400, Loss: 2.765446186065674\n",
      "Generating Image Number: 6 for target class tensor([1]). Step 450, Loss: 2.641512155532837\n",
      "Generating Image Number: 7 for target class tensor([1]). Step 0, Loss: 15.299510955810547\n",
      "Generating Image Number: 7 for target class tensor([1]). Step 50, Loss: 14.47358512878418\n",
      "Generating Image Number: 7 for target class tensor([1]). Step 100, Loss: 14.227812767028809\n",
      "Generating Image Number: 7 for target class tensor([1]). Step 150, Loss: 13.947165489196777\n",
      "Generating Image Number: 7 for target class tensor([1]). Step 200, Loss: 1.9826347827911377\n",
      "Generating Image Number: 7 for target class tensor([1]). Step 250, Loss: 1.1119096279144287\n",
      "Generating Image Number: 7 for target class tensor([1]). Step 300, Loss: 0.76517254114151\n",
      "Generating Image Number: 7 for target class tensor([1]). Step 350, Loss: 0.5681478977203369\n",
      "Generating Image Number: 7 for target class tensor([1]). Step 400, Loss: 0.3385005593299866\n",
      "Generating Image Number: 7 for target class tensor([1]). Step 450, Loss: 0.2060895413160324\n",
      "Generating Image Number: 8 for target class tensor([1]). Step 0, Loss: 15.67660903930664\n",
      "Generating Image Number: 8 for target class tensor([1]). Step 50, Loss: 15.461862564086914\n",
      "Generating Image Number: 8 for target class tensor([1]). Step 100, Loss: 15.13468074798584\n",
      "Generating Image Number: 8 for target class tensor([1]). Step 150, Loss: 10.001953125\n",
      "Generating Image Number: 8 for target class tensor([1]). Step 200, Loss: 2.226666212081909\n",
      "Generating Image Number: 8 for target class tensor([1]). Step 250, Loss: 0.3607783615589142\n",
      "Generating Image Number: 8 for target class tensor([1]). Step 300, Loss: 0.12243524193763733\n",
      "Generating Image Number: 8 for target class tensor([1]). Step 350, Loss: 0.08893422037363052\n",
      "Generating Image Number: 8 for target class tensor([1]). Step 400, Loss: 0.07559586316347122\n",
      "Generating Image Number: 8 for target class tensor([1]). Step 450, Loss: 0.06721529364585876\n",
      "Generating Image Number: 9 for target class tensor([1]). Step 0, Loss: 6.949731826782227\n",
      "Generating Image Number: 9 for target class tensor([1]). Step 50, Loss: 1.6941020488739014\n",
      "Generating Image Number: 9 for target class tensor([1]). Step 100, Loss: 0.9738569855690002\n",
      "Generating Image Number: 9 for target class tensor([1]). Step 150, Loss: 0.7836393713951111\n",
      "Generating Image Number: 9 for target class tensor([1]). Step 200, Loss: 0.6472757458686829\n",
      "Generating Image Number: 9 for target class tensor([1]). Step 250, Loss: 0.5350582599639893\n",
      "Generating Image Number: 9 for target class tensor([1]). Step 300, Loss: 0.45319443941116333\n",
      "Generating Image Number: 9 for target class tensor([1]). Step 350, Loss: 0.3927786648273468\n",
      "Generating Image Number: 9 for target class tensor([1]). Step 400, Loss: 0.3325567841529846\n",
      "Generating Image Number: 9 for target class tensor([1]). Step 450, Loss: 0.2777642607688904\n",
      "Generating Image Number: 10 for target class tensor([1]). Step 0, Loss: 2.1192944049835205\n",
      "Generating Image Number: 10 for target class tensor([1]). Step 50, Loss: 0.2731474041938782\n",
      "Generating Image Number: 10 for target class tensor([1]). Step 100, Loss: 0.1335454136133194\n",
      "Generating Image Number: 10 for target class tensor([1]). Step 150, Loss: 0.08238021284341812\n",
      "Generating Image Number: 10 for target class tensor([1]). Step 200, Loss: 0.054797444492578506\n",
      "Generating Image Number: 10 for target class tensor([1]). Step 250, Loss: 0.03864337503910065\n",
      "Generating Image Number: 10 for target class tensor([1]). Step 300, Loss: 0.027423808351159096\n",
      "Generating Image Number: 10 for target class tensor([1]). Step 350, Loss: 0.0216215830296278\n",
      "Generating Image Number: 10 for target class tensor([1]). Step 400, Loss: 0.017668239772319794\n",
      "Generating Image Number: 10 for target class tensor([1]). Step 450, Loss: 0.014969868585467339\n",
      "Generating Image Number: 11 for target class tensor([1]). Step 0, Loss: 6.743380069732666\n",
      "Generating Image Number: 11 for target class tensor([1]). Step 50, Loss: 5.432886600494385\n",
      "Generating Image Number: 11 for target class tensor([1]). Step 100, Loss: 4.783253192901611\n",
      "Generating Image Number: 11 for target class tensor([1]). Step 150, Loss: 4.288536071777344\n",
      "Generating Image Number: 11 for target class tensor([1]). Step 200, Loss: 3.9488589763641357\n",
      "Generating Image Number: 11 for target class tensor([1]). Step 250, Loss: 3.626251459121704\n",
      "Generating Image Number: 11 for target class tensor([1]). Step 300, Loss: 3.4327168464660645\n",
      "Generating Image Number: 11 for target class tensor([1]). Step 350, Loss: 3.3167057037353516\n",
      "Generating Image Number: 11 for target class tensor([1]). Step 400, Loss: 3.257230758666992\n",
      "Generating Image Number: 11 for target class tensor([1]). Step 450, Loss: 3.0488269329071045\n",
      "Generating Image Number: 12 for target class tensor([1]). Step 0, Loss: 6.656278133392334\n",
      "Generating Image Number: 12 for target class tensor([1]). Step 50, Loss: 0.6565044522285461\n",
      "Generating Image Number: 12 for target class tensor([1]). Step 100, Loss: 0.4496951401233673\n",
      "Generating Image Number: 12 for target class tensor([1]). Step 150, Loss: 0.35005709528923035\n",
      "Generating Image Number: 12 for target class tensor([1]). Step 200, Loss: 0.27585697174072266\n",
      "Generating Image Number: 12 for target class tensor([1]). Step 250, Loss: 0.22896838188171387\n",
      "Generating Image Number: 12 for target class tensor([1]). Step 300, Loss: 0.19387836754322052\n",
      "Generating Image Number: 12 for target class tensor([1]). Step 350, Loss: 0.1646358072757721\n",
      "Generating Image Number: 12 for target class tensor([1]). Step 400, Loss: 0.14203664660453796\n",
      "Generating Image Number: 12 for target class tensor([1]). Step 450, Loss: 0.12363310903310776\n",
      "Generating Image Number: 13 for target class tensor([1]). Step 0, Loss: 8.239751815795898\n",
      "Generating Image Number: 13 for target class tensor([1]). Step 50, Loss: 4.89123010635376\n",
      "Generating Image Number: 13 for target class tensor([1]). Step 100, Loss: 4.539151191711426\n",
      "Generating Image Number: 13 for target class tensor([1]). Step 150, Loss: 4.205162525177002\n",
      "Generating Image Number: 13 for target class tensor([1]). Step 200, Loss: 4.0315961837768555\n",
      "Generating Image Number: 13 for target class tensor([1]). Step 250, Loss: 3.912313222885132\n",
      "Generating Image Number: 13 for target class tensor([1]). Step 300, Loss: 3.8086743354797363\n",
      "Generating Image Number: 13 for target class tensor([1]). Step 350, Loss: 3.724224090576172\n",
      "Generating Image Number: 13 for target class tensor([1]). Step 400, Loss: 3.652571678161621\n",
      "Generating Image Number: 13 for target class tensor([1]). Step 450, Loss: 3.557009220123291\n",
      "Generating Image Number: 14 for target class tensor([1]). Step 0, Loss: 3.7003731727600098\n",
      "Generating Image Number: 14 for target class tensor([1]). Step 50, Loss: 0.9773994088172913\n",
      "Generating Image Number: 14 for target class tensor([1]). Step 100, Loss: 0.7332095503807068\n",
      "Generating Image Number: 14 for target class tensor([1]). Step 150, Loss: 0.5928547978401184\n",
      "Generating Image Number: 14 for target class tensor([1]). Step 200, Loss: 0.5120840072631836\n",
      "Generating Image Number: 14 for target class tensor([1]). Step 250, Loss: 0.47084373235702515\n",
      "Generating Image Number: 14 for target class tensor([1]). Step 300, Loss: 0.4376683831214905\n",
      "Generating Image Number: 14 for target class tensor([1]). Step 350, Loss: 0.407153844833374\n",
      "Generating Image Number: 14 for target class tensor([1]). Step 400, Loss: 0.3855286240577698\n",
      "Generating Image Number: 14 for target class tensor([1]). Step 450, Loss: 0.36947309970855713\n",
      "Generating Image Number: 15 for target class tensor([1]). Step 0, Loss: 2.6991171836853027\n",
      "Generating Image Number: 15 for target class tensor([1]). Step 50, Loss: 1.856247901916504\n",
      "Generating Image Number: 15 for target class tensor([1]). Step 100, Loss: 1.3245856761932373\n",
      "Generating Image Number: 15 for target class tensor([1]). Step 150, Loss: 1.0677820444107056\n",
      "Generating Image Number: 15 for target class tensor([1]). Step 200, Loss: 0.9181137084960938\n",
      "Generating Image Number: 15 for target class tensor([1]). Step 250, Loss: 0.8210564851760864\n",
      "Generating Image Number: 15 for target class tensor([1]). Step 300, Loss: 0.7306005954742432\n",
      "Generating Image Number: 15 for target class tensor([1]). Step 350, Loss: 0.657538115978241\n",
      "Generating Image Number: 15 for target class tensor([1]). Step 400, Loss: 0.61229407787323\n",
      "Generating Image Number: 15 for target class tensor([1]). Step 450, Loss: 0.5616662502288818\n",
      "Generating Image Number: 16 for target class tensor([1]). Step 0, Loss: 17.040029525756836\n",
      "Generating Image Number: 16 for target class tensor([1]). Step 50, Loss: 3.2133102416992188\n",
      "Generating Image Number: 16 for target class tensor([1]). Step 100, Loss: 2.4007318019866943\n",
      "Generating Image Number: 16 for target class tensor([1]). Step 150, Loss: 2.1836516857147217\n",
      "Generating Image Number: 16 for target class tensor([1]). Step 200, Loss: 2.0438733100891113\n",
      "Generating Image Number: 16 for target class tensor([1]). Step 250, Loss: 1.9266417026519775\n",
      "Generating Image Number: 16 for target class tensor([1]). Step 300, Loss: 1.8130383491516113\n",
      "Generating Image Number: 16 for target class tensor([1]). Step 350, Loss: 1.716583251953125\n",
      "Generating Image Number: 16 for target class tensor([1]). Step 400, Loss: 1.618253469467163\n",
      "Generating Image Number: 16 for target class tensor([1]). Step 450, Loss: 1.5123813152313232\n",
      "Generating Image Number: 17 for target class tensor([1]). Step 0, Loss: 3.4164628982543945\n",
      "Generating Image Number: 17 for target class tensor([1]). Step 50, Loss: 0.7408636212348938\n",
      "Generating Image Number: 17 for target class tensor([1]). Step 100, Loss: 0.5413519144058228\n",
      "Generating Image Number: 17 for target class tensor([1]). Step 150, Loss: 0.4340713918209076\n",
      "Generating Image Number: 17 for target class tensor([1]). Step 200, Loss: 0.3691041171550751\n",
      "Generating Image Number: 17 for target class tensor([1]). Step 250, Loss: 0.3197757601737976\n",
      "Generating Image Number: 17 for target class tensor([1]). Step 300, Loss: 0.2802013158798218\n",
      "Generating Image Number: 17 for target class tensor([1]). Step 350, Loss: 0.25410494208335876\n",
      "Generating Image Number: 17 for target class tensor([1]). Step 400, Loss: 0.23432312905788422\n",
      "Generating Image Number: 17 for target class tensor([1]). Step 450, Loss: 0.2201942652463913\n",
      "Generating Image Number: 18 for target class tensor([1]). Step 0, Loss: 6.860117435455322\n",
      "Generating Image Number: 18 for target class tensor([1]). Step 50, Loss: 4.388623237609863\n",
      "Generating Image Number: 18 for target class tensor([1]). Step 100, Loss: 3.829097270965576\n",
      "Generating Image Number: 18 for target class tensor([1]). Step 150, Loss: 3.384061098098755\n",
      "Generating Image Number: 18 for target class tensor([1]). Step 200, Loss: 2.994783878326416\n",
      "Generating Image Number: 18 for target class tensor([1]). Step 250, Loss: 2.620814085006714\n",
      "Generating Image Number: 18 for target class tensor([1]). Step 300, Loss: 2.3252360820770264\n",
      "Generating Image Number: 18 for target class tensor([1]). Step 350, Loss: 2.1351935863494873\n",
      "Generating Image Number: 18 for target class tensor([1]). Step 400, Loss: 1.920982003211975\n",
      "Generating Image Number: 18 for target class tensor([1]). Step 450, Loss: 1.744728446006775\n",
      "Generating Image Number: 19 for target class tensor([1]). Step 0, Loss: 7.075771331787109\n",
      "Generating Image Number: 19 for target class tensor([1]). Step 50, Loss: 5.700898170471191\n",
      "Generating Image Number: 19 for target class tensor([1]). Step 100, Loss: 4.984904766082764\n",
      "Generating Image Number: 19 for target class tensor([1]). Step 150, Loss: 4.559091091156006\n",
      "Generating Image Number: 19 for target class tensor([1]). Step 200, Loss: 3.849370002746582\n",
      "Generating Image Number: 19 for target class tensor([1]). Step 250, Loss: 3.451714277267456\n",
      "Generating Image Number: 19 for target class tensor([1]). Step 300, Loss: 3.2023508548736572\n",
      "Generating Image Number: 19 for target class tensor([1]). Step 350, Loss: 2.8835957050323486\n",
      "Generating Image Number: 19 for target class tensor([1]). Step 400, Loss: 2.581394910812378\n",
      "Generating Image Number: 19 for target class tensor([1]). Step 450, Loss: 2.285463571548462\n",
      "Generating Image Number: 20 for target class tensor([1]). Step 0, Loss: 3.993600368499756\n",
      "Generating Image Number: 20 for target class tensor([1]). Step 50, Loss: 1.7742034196853638\n",
      "Generating Image Number: 20 for target class tensor([1]). Step 100, Loss: 1.1698343753814697\n",
      "Generating Image Number: 20 for target class tensor([1]). Step 150, Loss: 0.7356513738632202\n",
      "Generating Image Number: 20 for target class tensor([1]). Step 200, Loss: 0.483572781085968\n",
      "Generating Image Number: 20 for target class tensor([1]). Step 250, Loss: 0.32963883876800537\n",
      "Generating Image Number: 20 for target class tensor([1]). Step 300, Loss: 0.24796688556671143\n",
      "Generating Image Number: 20 for target class tensor([1]). Step 350, Loss: 0.1897391378879547\n",
      "Generating Image Number: 20 for target class tensor([1]). Step 400, Loss: 0.140660360455513\n",
      "Generating Image Number: 20 for target class tensor([1]). Step 450, Loss: 0.0899597778916359\n"
     ]
    }
   ],
   "source": [
    "torch.manual_seed(100)\n",
    "latent_vectors = torch.randn(img_count, z_dim, 1, 1, requires_grad=True) # Start with 20 random noises\n",
    "class1_optimized_latent_vectors = recover_images(img_count, 1, latent_vectors)"
   ]
  },
  {
   "cell_type": "code",
   "execution_count": 22,
   "id": "1c8af686-b1ff-419d-946d-2447773e47c9",
   "metadata": {
    "scrolled": true
   },
   "outputs": [
    {
     "name": "stdout",
     "output_type": "stream",
     "text": [
      "Generating Image Number: 1 for target class tensor([2]). Step 0, Loss: 2.7123630046844482\n",
      "Generating Image Number: 1 for target class tensor([2]). Step 50, Loss: 1.3799293041229248\n",
      "Generating Image Number: 1 for target class tensor([2]). Step 100, Loss: 0.9519496560096741\n",
      "Generating Image Number: 1 for target class tensor([2]). Step 150, Loss: 0.6763169169425964\n",
      "Generating Image Number: 1 for target class tensor([2]). Step 200, Loss: 0.4890519082546234\n",
      "Generating Image Number: 1 for target class tensor([2]). Step 250, Loss: 0.39197564125061035\n",
      "Generating Image Number: 1 for target class tensor([2]). Step 300, Loss: 0.3313114643096924\n",
      "Generating Image Number: 1 for target class tensor([2]). Step 350, Loss: 0.300302118062973\n",
      "Generating Image Number: 1 for target class tensor([2]). Step 400, Loss: 0.2638767659664154\n",
      "Generating Image Number: 1 for target class tensor([2]). Step 450, Loss: 0.2450101375579834\n",
      "Generating Image Number: 2 for target class tensor([2]). Step 0, Loss: 3.137971878051758\n",
      "Generating Image Number: 2 for target class tensor([2]). Step 50, Loss: 0.826326847076416\n",
      "Generating Image Number: 2 for target class tensor([2]). Step 100, Loss: 0.6220428347587585\n",
      "Generating Image Number: 2 for target class tensor([2]). Step 150, Loss: 0.49840468168258667\n",
      "Generating Image Number: 2 for target class tensor([2]). Step 200, Loss: 0.41092103719711304\n",
      "Generating Image Number: 2 for target class tensor([2]). Step 250, Loss: 0.3554549813270569\n",
      "Generating Image Number: 2 for target class tensor([2]). Step 300, Loss: 0.31594938039779663\n",
      "Generating Image Number: 2 for target class tensor([2]). Step 350, Loss: 0.27766555547714233\n",
      "Generating Image Number: 2 for target class tensor([2]). Step 400, Loss: 0.24020086228847504\n",
      "Generating Image Number: 2 for target class tensor([2]). Step 450, Loss: 0.1974848061800003\n",
      "Generating Image Number: 3 for target class tensor([2]). Step 0, Loss: 0.34294313192367554\n",
      "Generating Image Number: 3 for target class tensor([2]). Step 50, Loss: 0.014722631312906742\n",
      "Generating Image Number: 3 for target class tensor([2]). Step 100, Loss: 0.011384525336325169\n",
      "Generating Image Number: 3 for target class tensor([2]). Step 150, Loss: 0.009291384369134903\n",
      "Generating Image Number: 3 for target class tensor([2]). Step 200, Loss: 0.0077395569533109665\n",
      "Generating Image Number: 3 for target class tensor([2]). Step 250, Loss: 0.00669900793582201\n",
      "Generating Image Number: 3 for target class tensor([2]). Step 300, Loss: 0.005857090000063181\n",
      "Generating Image Number: 3 for target class tensor([2]). Step 350, Loss: 0.005117413122206926\n",
      "Generating Image Number: 3 for target class tensor([2]). Step 400, Loss: 0.004521266557276249\n",
      "Generating Image Number: 3 for target class tensor([2]). Step 450, Loss: 0.004020347259938717\n",
      "Generating Image Number: 4 for target class tensor([2]). Step 0, Loss: 0.06857363134622574\n",
      "Generating Image Number: 4 for target class tensor([2]). Step 50, Loss: 0.0180831141769886\n",
      "Generating Image Number: 4 for target class tensor([2]). Step 100, Loss: 0.013283917680382729\n",
      "Generating Image Number: 4 for target class tensor([2]). Step 150, Loss: 0.010569428093731403\n",
      "Generating Image Number: 4 for target class tensor([2]). Step 200, Loss: 0.008740737102925777\n",
      "Generating Image Number: 4 for target class tensor([2]). Step 250, Loss: 0.0073422593995928764\n",
      "Generating Image Number: 4 for target class tensor([2]). Step 300, Loss: 0.0061429026536643505\n",
      "Generating Image Number: 4 for target class tensor([2]). Step 350, Loss: 0.005158448126167059\n",
      "Generating Image Number: 4 for target class tensor([2]). Step 400, Loss: 0.004304073750972748\n",
      "Generating Image Number: 4 for target class tensor([2]). Step 450, Loss: 0.0036734736058861017\n",
      "Generating Image Number: 5 for target class tensor([2]). Step 0, Loss: 3.2393198013305664\n",
      "Generating Image Number: 5 for target class tensor([2]). Step 50, Loss: 0.634684145450592\n",
      "Generating Image Number: 5 for target class tensor([2]). Step 100, Loss: 0.5299193859100342\n",
      "Generating Image Number: 5 for target class tensor([2]). Step 150, Loss: 0.4509773254394531\n",
      "Generating Image Number: 5 for target class tensor([2]). Step 200, Loss: 0.3812316954135895\n",
      "Generating Image Number: 5 for target class tensor([2]). Step 250, Loss: 0.3314337730407715\n",
      "Generating Image Number: 5 for target class tensor([2]). Step 300, Loss: 0.29162004590034485\n",
      "Generating Image Number: 5 for target class tensor([2]). Step 350, Loss: 0.24935698509216309\n",
      "Generating Image Number: 5 for target class tensor([2]). Step 400, Loss: 0.2149275541305542\n",
      "Generating Image Number: 5 for target class tensor([2]). Step 450, Loss: 0.18869581818580627\n",
      "Generating Image Number: 6 for target class tensor([2]). Step 0, Loss: 2.0290768146514893\n",
      "Generating Image Number: 6 for target class tensor([2]). Step 50, Loss: 1.0112953186035156\n",
      "Generating Image Number: 6 for target class tensor([2]). Step 100, Loss: 0.679314136505127\n",
      "Generating Image Number: 6 for target class tensor([2]). Step 150, Loss: 0.45774179697036743\n",
      "Generating Image Number: 6 for target class tensor([2]). Step 200, Loss: 0.3477204144001007\n",
      "Generating Image Number: 6 for target class tensor([2]). Step 250, Loss: 0.26612526178359985\n",
      "Generating Image Number: 6 for target class tensor([2]). Step 300, Loss: 0.22100982069969177\n",
      "Generating Image Number: 6 for target class tensor([2]). Step 350, Loss: 0.18585021793842316\n",
      "Generating Image Number: 6 for target class tensor([2]). Step 400, Loss: 0.16195249557495117\n",
      "Generating Image Number: 6 for target class tensor([2]). Step 450, Loss: 0.14304432272911072\n",
      "Generating Image Number: 7 for target class tensor([2]). Step 0, Loss: 2.6871554851531982\n",
      "Generating Image Number: 7 for target class tensor([2]). Step 50, Loss: 1.7692079544067383\n",
      "Generating Image Number: 7 for target class tensor([2]). Step 100, Loss: 1.373443841934204\n",
      "Generating Image Number: 7 for target class tensor([2]). Step 150, Loss: 1.1144376993179321\n",
      "Generating Image Number: 7 for target class tensor([2]). Step 200, Loss: 0.9696390628814697\n",
      "Generating Image Number: 7 for target class tensor([2]). Step 250, Loss: 0.8907037973403931\n",
      "Generating Image Number: 7 for target class tensor([2]). Step 300, Loss: 0.8304402828216553\n",
      "Generating Image Number: 7 for target class tensor([2]). Step 350, Loss: 0.774779736995697\n",
      "Generating Image Number: 7 for target class tensor([2]). Step 400, Loss: 0.7189726233482361\n",
      "Generating Image Number: 7 for target class tensor([2]). Step 450, Loss: 0.6810455322265625\n",
      "Generating Image Number: 8 for target class tensor([2]). Step 0, Loss: 1.9778474569320679\n",
      "Generating Image Number: 8 for target class tensor([2]). Step 50, Loss: 0.5818411707878113\n",
      "Generating Image Number: 8 for target class tensor([2]). Step 100, Loss: 0.41138797998428345\n",
      "Generating Image Number: 8 for target class tensor([2]). Step 150, Loss: 0.294123113155365\n",
      "Generating Image Number: 8 for target class tensor([2]). Step 200, Loss: 0.22011353075504303\n",
      "Generating Image Number: 8 for target class tensor([2]). Step 250, Loss: 0.17468596994876862\n",
      "Generating Image Number: 8 for target class tensor([2]). Step 300, Loss: 0.14667460322380066\n",
      "Generating Image Number: 8 for target class tensor([2]). Step 350, Loss: 0.13042648136615753\n",
      "Generating Image Number: 8 for target class tensor([2]). Step 400, Loss: 0.1182345524430275\n",
      "Generating Image Number: 8 for target class tensor([2]). Step 450, Loss: 0.11013592034578323\n",
      "Generating Image Number: 9 for target class tensor([2]). Step 0, Loss: 0.1398831009864807\n",
      "Generating Image Number: 9 for target class tensor([2]). Step 50, Loss: 0.006761528551578522\n",
      "Generating Image Number: 9 for target class tensor([2]). Step 100, Loss: 0.005431655794382095\n",
      "Generating Image Number: 9 for target class tensor([2]). Step 150, Loss: 0.004523758310824633\n",
      "Generating Image Number: 9 for target class tensor([2]). Step 200, Loss: 0.003927020356059074\n",
      "Generating Image Number: 9 for target class tensor([2]). Step 250, Loss: 0.003595199668779969\n",
      "Generating Image Number: 9 for target class tensor([2]). Step 300, Loss: 0.0032759830355644226\n",
      "Generating Image Number: 9 for target class tensor([2]). Step 350, Loss: 0.0029513156041502953\n",
      "Generating Image Number: 9 for target class tensor([2]). Step 400, Loss: 0.002662567887455225\n",
      "Generating Image Number: 9 for target class tensor([2]). Step 450, Loss: 0.0024267768021672964\n",
      "Generating Image Number: 10 for target class tensor([2]). Step 0, Loss: 2.6090259552001953\n",
      "Generating Image Number: 10 for target class tensor([2]). Step 50, Loss: 0.897436261177063\n",
      "Generating Image Number: 10 for target class tensor([2]). Step 100, Loss: 0.5505051612854004\n",
      "Generating Image Number: 10 for target class tensor([2]). Step 150, Loss: 0.308056503534317\n",
      "Generating Image Number: 10 for target class tensor([2]). Step 200, Loss: 0.23292376101016998\n",
      "Generating Image Number: 10 for target class tensor([2]). Step 250, Loss: 0.19345100224018097\n",
      "Generating Image Number: 10 for target class tensor([2]). Step 300, Loss: 0.16719727218151093\n",
      "Generating Image Number: 10 for target class tensor([2]). Step 350, Loss: 0.13866335153579712\n",
      "Generating Image Number: 10 for target class tensor([2]). Step 400, Loss: 0.11465635150671005\n",
      "Generating Image Number: 10 for target class tensor([2]). Step 450, Loss: 0.10054051876068115\n",
      "Generating Image Number: 11 for target class tensor([2]). Step 0, Loss: 0.1466292142868042\n",
      "Generating Image Number: 11 for target class tensor([2]). Step 50, Loss: 0.029291849583387375\n",
      "Generating Image Number: 11 for target class tensor([2]). Step 100, Loss: 0.018941359594464302\n",
      "Generating Image Number: 11 for target class tensor([2]). Step 150, Loss: 0.01503739319741726\n",
      "Generating Image Number: 11 for target class tensor([2]). Step 200, Loss: 0.012894818559288979\n",
      "Generating Image Number: 11 for target class tensor([2]). Step 250, Loss: 0.011177306063473225\n",
      "Generating Image Number: 11 for target class tensor([2]). Step 300, Loss: 0.009699242189526558\n",
      "Generating Image Number: 11 for target class tensor([2]). Step 350, Loss: 0.00852505024522543\n",
      "Generating Image Number: 11 for target class tensor([2]). Step 400, Loss: 0.007551930844783783\n",
      "Generating Image Number: 11 for target class tensor([2]). Step 450, Loss: 0.0062177786603569984\n",
      "Generating Image Number: 12 for target class tensor([2]). Step 0, Loss: 20.470905303955078\n",
      "Generating Image Number: 12 for target class tensor([2]). Step 50, Loss: 19.93231964111328\n",
      "Generating Image Number: 12 for target class tensor([2]). Step 100, Loss: 19.79216194152832\n",
      "Generating Image Number: 12 for target class tensor([2]). Step 150, Loss: 19.71550941467285\n",
      "Generating Image Number: 12 for target class tensor([2]). Step 200, Loss: 19.65751075744629\n",
      "Generating Image Number: 12 for target class tensor([2]). Step 250, Loss: 19.582685470581055\n",
      "Generating Image Number: 12 for target class tensor([2]). Step 300, Loss: 19.410598754882812\n",
      "Generating Image Number: 12 for target class tensor([2]). Step 350, Loss: 0.012692738324403763\n",
      "Generating Image Number: 12 for target class tensor([2]). Step 400, Loss: 0.00493664899840951\n",
      "Generating Image Number: 12 for target class tensor([2]). Step 450, Loss: 0.003792476374655962\n",
      "Generating Image Number: 13 for target class tensor([2]). Step 0, Loss: 2.582195281982422\n",
      "Generating Image Number: 13 for target class tensor([2]). Step 50, Loss: 0.5373817086219788\n",
      "Generating Image Number: 13 for target class tensor([2]). Step 100, Loss: 0.46048039197921753\n",
      "Generating Image Number: 13 for target class tensor([2]). Step 150, Loss: 0.4226309657096863\n",
      "Generating Image Number: 13 for target class tensor([2]). Step 200, Loss: 0.39768752455711365\n",
      "Generating Image Number: 13 for target class tensor([2]). Step 250, Loss: 0.3729965388774872\n",
      "Generating Image Number: 13 for target class tensor([2]). Step 300, Loss: 0.36320722103118896\n",
      "Generating Image Number: 13 for target class tensor([2]). Step 350, Loss: 0.3553386926651001\n",
      "Generating Image Number: 13 for target class tensor([2]). Step 400, Loss: 0.3491174280643463\n",
      "Generating Image Number: 13 for target class tensor([2]). Step 450, Loss: 0.34360262751579285\n",
      "Generating Image Number: 14 for target class tensor([2]). Step 0, Loss: 2.427274227142334\n",
      "Generating Image Number: 14 for target class tensor([2]). Step 50, Loss: 0.009831340983510017\n",
      "Generating Image Number: 14 for target class tensor([2]). Step 100, Loss: 0.005797950085252523\n",
      "Generating Image Number: 14 for target class tensor([2]). Step 150, Loss: 0.005336800590157509\n",
      "Generating Image Number: 14 for target class tensor([2]). Step 200, Loss: 0.005187622271478176\n",
      "Generating Image Number: 14 for target class tensor([2]). Step 250, Loss: 0.005070564802736044\n",
      "Generating Image Number: 14 for target class tensor([2]). Step 300, Loss: 0.0049577634781599045\n",
      "Generating Image Number: 14 for target class tensor([2]). Step 350, Loss: 0.0048418655060231686\n",
      "Generating Image Number: 14 for target class tensor([2]). Step 400, Loss: 0.004724292550235987\n",
      "Generating Image Number: 14 for target class tensor([2]). Step 450, Loss: 0.004598281346261501\n",
      "Generating Image Number: 15 for target class tensor([2]). Step 0, Loss: 0.5825639963150024\n",
      "Generating Image Number: 15 for target class tensor([2]). Step 50, Loss: 0.1465272754430771\n",
      "Generating Image Number: 15 for target class tensor([2]). Step 100, Loss: 0.07224995642900467\n",
      "Generating Image Number: 15 for target class tensor([2]). Step 150, Loss: 0.04486429691314697\n",
      "Generating Image Number: 15 for target class tensor([2]). Step 200, Loss: 0.03194497153162956\n",
      "Generating Image Number: 15 for target class tensor([2]). Step 250, Loss: 0.023362725973129272\n",
      "Generating Image Number: 15 for target class tensor([2]). Step 300, Loss: 0.0171116404235363\n",
      "Generating Image Number: 15 for target class tensor([2]). Step 350, Loss: 0.012850216589868069\n",
      "Generating Image Number: 15 for target class tensor([2]). Step 400, Loss: 0.00998714566230774\n",
      "Generating Image Number: 15 for target class tensor([2]). Step 450, Loss: 0.008381311781704426\n",
      "Generating Image Number: 16 for target class tensor([2]). Step 0, Loss: 1.6422080993652344\n",
      "Generating Image Number: 16 for target class tensor([2]). Step 50, Loss: 0.00773612642660737\n",
      "Generating Image Number: 16 for target class tensor([2]). Step 100, Loss: 0.0051820483058691025\n",
      "Generating Image Number: 16 for target class tensor([2]). Step 150, Loss: 0.004552595317363739\n",
      "Generating Image Number: 16 for target class tensor([2]). Step 200, Loss: 0.004340276122093201\n",
      "Generating Image Number: 16 for target class tensor([2]). Step 250, Loss: 0.004180027637630701\n",
      "Generating Image Number: 16 for target class tensor([2]). Step 300, Loss: 0.0040427870117127895\n",
      "Generating Image Number: 16 for target class tensor([2]). Step 350, Loss: 0.003918708302080631\n",
      "Generating Image Number: 16 for target class tensor([2]). Step 400, Loss: 0.0037912887055426836\n",
      "Generating Image Number: 16 for target class tensor([2]). Step 450, Loss: 0.0036806000862270594\n",
      "Generating Image Number: 17 for target class tensor([2]). Step 0, Loss: 0.012545948848128319\n",
      "Generating Image Number: 17 for target class tensor([2]). Step 50, Loss: 0.001970970071852207\n",
      "Generating Image Number: 17 for target class tensor([2]). Step 100, Loss: 0.0011887634173035622\n",
      "Generating Image Number: 17 for target class tensor([2]). Step 150, Loss: 0.0008841419476084411\n",
      "Generating Image Number: 17 for target class tensor([2]). Step 200, Loss: 0.0007205988513305783\n",
      "Generating Image Number: 17 for target class tensor([2]). Step 250, Loss: 0.0006183857913129032\n",
      "Generating Image Number: 17 for target class tensor([2]). Step 300, Loss: 0.0005498804384842515\n",
      "Generating Image Number: 17 for target class tensor([2]). Step 350, Loss: 0.0004987664869986475\n",
      "Generating Image Number: 17 for target class tensor([2]). Step 400, Loss: 0.0004593271005433053\n",
      "Generating Image Number: 17 for target class tensor([2]). Step 450, Loss: 0.0004239375703036785\n",
      "Generating Image Number: 18 for target class tensor([2]). Step 0, Loss: 18.585899353027344\n",
      "Generating Image Number: 18 for target class tensor([2]). Step 50, Loss: 0.061449937522411346\n",
      "Generating Image Number: 18 for target class tensor([2]). Step 100, Loss: 0.04991493374109268\n",
      "Generating Image Number: 18 for target class tensor([2]). Step 150, Loss: 0.044497787952423096\n",
      "Generating Image Number: 18 for target class tensor([2]). Step 200, Loss: 0.039258845150470734\n",
      "Generating Image Number: 18 for target class tensor([2]). Step 250, Loss: 0.034055110067129135\n",
      "Generating Image Number: 18 for target class tensor([2]). Step 300, Loss: 0.02975226752460003\n",
      "Generating Image Number: 18 for target class tensor([2]). Step 350, Loss: 0.02597515657544136\n",
      "Generating Image Number: 18 for target class tensor([2]). Step 400, Loss: 0.02331031858921051\n",
      "Generating Image Number: 18 for target class tensor([2]). Step 450, Loss: 0.02093655802309513\n",
      "Generating Image Number: 19 for target class tensor([2]). Step 0, Loss: 1.6592097282409668\n",
      "Generating Image Number: 19 for target class tensor([2]). Step 50, Loss: 0.35678836703300476\n",
      "Generating Image Number: 19 for target class tensor([2]). Step 100, Loss: 0.20956076681613922\n",
      "Generating Image Number: 19 for target class tensor([2]). Step 150, Loss: 0.1447434276342392\n",
      "Generating Image Number: 19 for target class tensor([2]). Step 200, Loss: 0.11151207983493805\n",
      "Generating Image Number: 19 for target class tensor([2]). Step 250, Loss: 0.09064529836177826\n",
      "Generating Image Number: 19 for target class tensor([2]). Step 300, Loss: 0.0748259499669075\n",
      "Generating Image Number: 19 for target class tensor([2]). Step 350, Loss: 0.06268008798360825\n",
      "Generating Image Number: 19 for target class tensor([2]). Step 400, Loss: 0.0538545660674572\n",
      "Generating Image Number: 19 for target class tensor([2]). Step 450, Loss: 0.047377344220876694\n",
      "Generating Image Number: 20 for target class tensor([2]). Step 0, Loss: 0.1597956269979477\n",
      "Generating Image Number: 20 for target class tensor([2]). Step 50, Loss: 0.03236008435487747\n",
      "Generating Image Number: 20 for target class tensor([2]). Step 100, Loss: 0.01920439675450325\n",
      "Generating Image Number: 20 for target class tensor([2]). Step 150, Loss: 0.013429775834083557\n",
      "Generating Image Number: 20 for target class tensor([2]). Step 200, Loss: 0.0100020170211792\n",
      "Generating Image Number: 20 for target class tensor([2]). Step 250, Loss: 0.007937436923384666\n",
      "Generating Image Number: 20 for target class tensor([2]). Step 300, Loss: 0.006805100943893194\n",
      "Generating Image Number: 20 for target class tensor([2]). Step 350, Loss: 0.005877592600882053\n",
      "Generating Image Number: 20 for target class tensor([2]). Step 400, Loss: 0.005055857356637716\n",
      "Generating Image Number: 20 for target class tensor([2]). Step 450, Loss: 0.004448280669748783\n"
     ]
    }
   ],
   "source": [
    "torch.manual_seed(200)\n",
    "latent_vectors = torch.randn(img_count, z_dim, 1, 1, requires_grad=True) # Start with 20 random noises\n",
    "class2_optimized_latent_vectors = recover_images(img_count, 2, latent_vectors)"
   ]
  },
  {
   "cell_type": "code",
   "execution_count": 23,
   "id": "0381b36d-6c92-43bc-b776-1eefd3eab451",
   "metadata": {
    "scrolled": true
   },
   "outputs": [
    {
     "name": "stdout",
     "output_type": "stream",
     "text": [
      "Generating Image Number: 1 for target class tensor([3]). Step 0, Loss: 0.008594665676355362\n",
      "Generating Image Number: 1 for target class tensor([3]). Step 50, Loss: 0.015286079607903957\n",
      "Generating Image Number: 1 for target class tensor([3]). Step 100, Loss: 0.0037405777256935835\n",
      "Generating Image Number: 1 for target class tensor([3]). Step 150, Loss: 0.00346310599707067\n",
      "Generating Image Number: 1 for target class tensor([3]). Step 200, Loss: 0.0033806574065238237\n",
      "Generating Image Number: 1 for target class tensor([3]). Step 250, Loss: 0.003257803386077285\n",
      "Generating Image Number: 1 for target class tensor([3]). Step 300, Loss: 0.003155255224555731\n",
      "Generating Image Number: 1 for target class tensor([3]). Step 350, Loss: 0.0030353448819369078\n",
      "Generating Image Number: 1 for target class tensor([3]). Step 400, Loss: 0.0029118540696799755\n",
      "Generating Image Number: 1 for target class tensor([3]). Step 450, Loss: 0.0027913199737668037\n",
      "Generating Image Number: 2 for target class tensor([3]). Step 0, Loss: 0.5272778272628784\n",
      "Generating Image Number: 2 for target class tensor([3]). Step 50, Loss: 0.22081205248832703\n",
      "Generating Image Number: 2 for target class tensor([3]). Step 100, Loss: 0.13891133666038513\n",
      "Generating Image Number: 2 for target class tensor([3]). Step 150, Loss: 0.10439901053905487\n",
      "Generating Image Number: 2 for target class tensor([3]). Step 200, Loss: 0.08625931292772293\n",
      "Generating Image Number: 2 for target class tensor([3]). Step 250, Loss: 0.07596805691719055\n",
      "Generating Image Number: 2 for target class tensor([3]). Step 300, Loss: 0.06820401549339294\n",
      "Generating Image Number: 2 for target class tensor([3]). Step 350, Loss: 0.060465287417173386\n",
      "Generating Image Number: 2 for target class tensor([3]). Step 400, Loss: 0.05444810539484024\n",
      "Generating Image Number: 2 for target class tensor([3]). Step 450, Loss: 0.0493977889418602\n",
      "Generating Image Number: 3 for target class tensor([3]). Step 0, Loss: 0.8873192071914673\n",
      "Generating Image Number: 3 for target class tensor([3]). Step 50, Loss: 0.3394811153411865\n",
      "Generating Image Number: 3 for target class tensor([3]). Step 100, Loss: 0.20794445276260376\n",
      "Generating Image Number: 3 for target class tensor([3]). Step 150, Loss: 0.15017031133174896\n",
      "Generating Image Number: 3 for target class tensor([3]). Step 200, Loss: 0.1193571612238884\n",
      "Generating Image Number: 3 for target class tensor([3]). Step 250, Loss: 0.09542886167764664\n",
      "Generating Image Number: 3 for target class tensor([3]). Step 300, Loss: 0.07689054310321808\n",
      "Generating Image Number: 3 for target class tensor([3]). Step 350, Loss: 0.06587732583284378\n",
      "Generating Image Number: 3 for target class tensor([3]). Step 400, Loss: 0.058185067027807236\n",
      "Generating Image Number: 3 for target class tensor([3]). Step 450, Loss: 0.05294189229607582\n",
      "Generating Image Number: 4 for target class tensor([3]). Step 0, Loss: 3.7010650634765625\n",
      "Generating Image Number: 4 for target class tensor([3]). Step 50, Loss: 1.563233494758606\n",
      "Generating Image Number: 4 for target class tensor([3]). Step 100, Loss: 1.4972182512283325\n",
      "Generating Image Number: 4 for target class tensor([3]). Step 150, Loss: 1.4209108352661133\n",
      "Generating Image Number: 4 for target class tensor([3]). Step 200, Loss: 1.3208893537521362\n",
      "Generating Image Number: 4 for target class tensor([3]). Step 250, Loss: 1.2235922813415527\n",
      "Generating Image Number: 4 for target class tensor([3]). Step 300, Loss: 1.139472484588623\n",
      "Generating Image Number: 4 for target class tensor([3]). Step 350, Loss: 1.079789638519287\n",
      "Generating Image Number: 4 for target class tensor([3]). Step 400, Loss: 1.0325744152069092\n",
      "Generating Image Number: 4 for target class tensor([3]). Step 450, Loss: 0.9954379200935364\n",
      "Generating Image Number: 5 for target class tensor([3]). Step 0, Loss: 0.8065419793128967\n",
      "Generating Image Number: 5 for target class tensor([3]). Step 50, Loss: 0.2645341455936432\n",
      "Generating Image Number: 5 for target class tensor([3]). Step 100, Loss: 0.19899694621562958\n",
      "Generating Image Number: 5 for target class tensor([3]). Step 150, Loss: 0.16437408328056335\n",
      "Generating Image Number: 5 for target class tensor([3]). Step 200, Loss: 0.14343231916427612\n",
      "Generating Image Number: 5 for target class tensor([3]). Step 250, Loss: 0.1260817050933838\n",
      "Generating Image Number: 5 for target class tensor([3]). Step 300, Loss: 0.11234313249588013\n",
      "Generating Image Number: 5 for target class tensor([3]). Step 350, Loss: 0.09994308650493622\n",
      "Generating Image Number: 5 for target class tensor([3]). Step 400, Loss: 0.08885590732097626\n",
      "Generating Image Number: 5 for target class tensor([3]). Step 450, Loss: 0.08208068460226059\n",
      "Generating Image Number: 6 for target class tensor([3]). Step 0, Loss: 0.6964566707611084\n",
      "Generating Image Number: 6 for target class tensor([3]). Step 50, Loss: 0.20042848587036133\n",
      "Generating Image Number: 6 for target class tensor([3]). Step 100, Loss: 0.07494231313467026\n",
      "Generating Image Number: 6 for target class tensor([3]). Step 150, Loss: 0.05439933389425278\n",
      "Generating Image Number: 6 for target class tensor([3]). Step 200, Loss: 0.037535082548856735\n",
      "Generating Image Number: 6 for target class tensor([3]). Step 250, Loss: 0.03432341665029526\n",
      "Generating Image Number: 6 for target class tensor([3]). Step 300, Loss: 0.030556509271264076\n",
      "Generating Image Number: 6 for target class tensor([3]). Step 350, Loss: 0.026379866525530815\n",
      "Generating Image Number: 6 for target class tensor([3]). Step 400, Loss: 0.023023312911391258\n",
      "Generating Image Number: 6 for target class tensor([3]). Step 450, Loss: 0.021544117480516434\n",
      "Generating Image Number: 7 for target class tensor([3]). Step 0, Loss: 0.6157175302505493\n",
      "Generating Image Number: 7 for target class tensor([3]). Step 50, Loss: 0.31092315912246704\n",
      "Generating Image Number: 7 for target class tensor([3]). Step 100, Loss: 0.17723433673381805\n",
      "Generating Image Number: 7 for target class tensor([3]). Step 150, Loss: 0.11989562958478928\n",
      "Generating Image Number: 7 for target class tensor([3]). Step 200, Loss: 0.08786022663116455\n",
      "Generating Image Number: 7 for target class tensor([3]). Step 250, Loss: 0.06833595782518387\n",
      "Generating Image Number: 7 for target class tensor([3]). Step 300, Loss: 0.05708213150501251\n",
      "Generating Image Number: 7 for target class tensor([3]). Step 350, Loss: 0.04916595295071602\n",
      "Generating Image Number: 7 for target class tensor([3]). Step 400, Loss: 0.04350873455405235\n",
      "Generating Image Number: 7 for target class tensor([3]). Step 450, Loss: 0.039356496185064316\n",
      "Generating Image Number: 8 for target class tensor([3]). Step 0, Loss: 0.2668874263763428\n",
      "Generating Image Number: 8 for target class tensor([3]). Step 50, Loss: 0.06047830730676651\n",
      "Generating Image Number: 8 for target class tensor([3]). Step 100, Loss: 0.043823011219501495\n",
      "Generating Image Number: 8 for target class tensor([3]). Step 150, Loss: 0.03690212219953537\n",
      "Generating Image Number: 8 for target class tensor([3]). Step 200, Loss: 0.03204899653792381\n",
      "Generating Image Number: 8 for target class tensor([3]). Step 250, Loss: 0.02869349531829357\n",
      "Generating Image Number: 8 for target class tensor([3]). Step 300, Loss: 0.02618722803890705\n",
      "Generating Image Number: 8 for target class tensor([3]). Step 350, Loss: 0.02387593314051628\n",
      "Generating Image Number: 8 for target class tensor([3]). Step 400, Loss: 0.022401031106710434\n",
      "Generating Image Number: 8 for target class tensor([3]). Step 450, Loss: 0.02084421180188656\n",
      "Generating Image Number: 9 for target class tensor([3]). Step 0, Loss: 1.0305733680725098\n",
      "Generating Image Number: 9 for target class tensor([3]). Step 50, Loss: 0.062316130846738815\n",
      "Generating Image Number: 9 for target class tensor([3]). Step 100, Loss: 0.031327757984399796\n",
      "Generating Image Number: 9 for target class tensor([3]). Step 150, Loss: 0.020354442298412323\n",
      "Generating Image Number: 9 for target class tensor([3]). Step 200, Loss: 0.01509704627096653\n",
      "Generating Image Number: 9 for target class tensor([3]). Step 250, Loss: 0.01181485690176487\n",
      "Generating Image Number: 9 for target class tensor([3]). Step 300, Loss: 0.00944160483777523\n",
      "Generating Image Number: 9 for target class tensor([3]). Step 350, Loss: 0.008101223036646843\n",
      "Generating Image Number: 9 for target class tensor([3]). Step 400, Loss: 0.007153020240366459\n",
      "Generating Image Number: 9 for target class tensor([3]). Step 450, Loss: 0.006334228441119194\n",
      "Generating Image Number: 10 for target class tensor([3]). Step 0, Loss: 2.175874710083008\n",
      "Generating Image Number: 10 for target class tensor([3]). Step 50, Loss: 0.6578101515769958\n",
      "Generating Image Number: 10 for target class tensor([3]). Step 100, Loss: 0.08433078974485397\n",
      "Generating Image Number: 10 for target class tensor([3]). Step 150, Loss: 0.04965304955840111\n",
      "Generating Image Number: 10 for target class tensor([3]). Step 200, Loss: 0.0382346510887146\n",
      "Generating Image Number: 10 for target class tensor([3]). Step 250, Loss: 0.031601183116436005\n",
      "Generating Image Number: 10 for target class tensor([3]). Step 300, Loss: 0.02690255455672741\n",
      "Generating Image Number: 10 for target class tensor([3]). Step 350, Loss: 0.02332860231399536\n",
      "Generating Image Number: 10 for target class tensor([3]). Step 400, Loss: 0.020373597741127014\n",
      "Generating Image Number: 10 for target class tensor([3]). Step 450, Loss: 0.01801954209804535\n",
      "Generating Image Number: 11 for target class tensor([3]). Step 0, Loss: 0.862623393535614\n",
      "Generating Image Number: 11 for target class tensor([3]). Step 50, Loss: 0.04864705726504326\n",
      "Generating Image Number: 11 for target class tensor([3]). Step 100, Loss: 0.028231661766767502\n",
      "Generating Image Number: 11 for target class tensor([3]). Step 150, Loss: 0.019800739362835884\n",
      "Generating Image Number: 11 for target class tensor([3]). Step 200, Loss: 0.014924184419214725\n",
      "Generating Image Number: 11 for target class tensor([3]). Step 250, Loss: 0.012025830335915089\n",
      "Generating Image Number: 11 for target class tensor([3]). Step 300, Loss: 0.010156851261854172\n",
      "Generating Image Number: 11 for target class tensor([3]). Step 350, Loss: 0.008637449704110622\n",
      "Generating Image Number: 11 for target class tensor([3]). Step 400, Loss: 0.007373263128101826\n",
      "Generating Image Number: 11 for target class tensor([3]). Step 450, Loss: 0.0063735549338161945\n",
      "Generating Image Number: 12 for target class tensor([3]). Step 0, Loss: 2.9612066745758057\n",
      "Generating Image Number: 12 for target class tensor([3]). Step 50, Loss: 0.22374112904071808\n",
      "Generating Image Number: 12 for target class tensor([3]). Step 100, Loss: 0.11973182111978531\n",
      "Generating Image Number: 12 for target class tensor([3]). Step 150, Loss: 0.09123970568180084\n",
      "Generating Image Number: 12 for target class tensor([3]). Step 200, Loss: 0.07679351419210434\n",
      "Generating Image Number: 12 for target class tensor([3]). Step 250, Loss: 0.06765134632587433\n",
      "Generating Image Number: 12 for target class tensor([3]). Step 300, Loss: 0.062004588544368744\n",
      "Generating Image Number: 12 for target class tensor([3]). Step 350, Loss: 0.05830450356006622\n",
      "Generating Image Number: 12 for target class tensor([3]). Step 400, Loss: 0.055211640894412994\n",
      "Generating Image Number: 12 for target class tensor([3]). Step 450, Loss: 0.05274311080574989\n",
      "Generating Image Number: 13 for target class tensor([3]). Step 0, Loss: 3.9563803672790527\n",
      "Generating Image Number: 13 for target class tensor([3]). Step 50, Loss: 0.2397608757019043\n",
      "Generating Image Number: 13 for target class tensor([3]). Step 100, Loss: 0.19303181767463684\n",
      "Generating Image Number: 13 for target class tensor([3]). Step 150, Loss: 0.17176030576229095\n",
      "Generating Image Number: 13 for target class tensor([3]). Step 200, Loss: 0.15249775350093842\n",
      "Generating Image Number: 13 for target class tensor([3]). Step 250, Loss: 0.1348792314529419\n",
      "Generating Image Number: 13 for target class tensor([3]). Step 300, Loss: 0.1232127919793129\n",
      "Generating Image Number: 13 for target class tensor([3]). Step 350, Loss: 0.1138230711221695\n",
      "Generating Image Number: 13 for target class tensor([3]). Step 400, Loss: 0.1073509231209755\n",
      "Generating Image Number: 13 for target class tensor([3]). Step 450, Loss: 0.10134539753198624\n",
      "Generating Image Number: 14 for target class tensor([3]). Step 0, Loss: 0.8287407755851746\n",
      "Generating Image Number: 14 for target class tensor([3]). Step 50, Loss: 0.08224901556968689\n",
      "Generating Image Number: 14 for target class tensor([3]). Step 100, Loss: 0.053441278636455536\n",
      "Generating Image Number: 14 for target class tensor([3]). Step 150, Loss: 0.040052272379398346\n",
      "Generating Image Number: 14 for target class tensor([3]). Step 200, Loss: 0.030440302565693855\n",
      "Generating Image Number: 14 for target class tensor([3]). Step 250, Loss: 0.02384951151907444\n",
      "Generating Image Number: 14 for target class tensor([3]). Step 300, Loss: 0.0192656721919775\n",
      "Generating Image Number: 14 for target class tensor([3]). Step 350, Loss: 0.016319142654538155\n",
      "Generating Image Number: 14 for target class tensor([3]). Step 400, Loss: 0.01435818150639534\n",
      "Generating Image Number: 14 for target class tensor([3]). Step 450, Loss: 0.012762182392179966\n",
      "Generating Image Number: 15 for target class tensor([3]). Step 0, Loss: 1.1655070781707764\n",
      "Generating Image Number: 15 for target class tensor([3]). Step 50, Loss: 0.12538325786590576\n",
      "Generating Image Number: 15 for target class tensor([3]). Step 100, Loss: 0.10578372329473495\n",
      "Generating Image Number: 15 for target class tensor([3]). Step 150, Loss: 0.09486132860183716\n",
      "Generating Image Number: 15 for target class tensor([3]). Step 200, Loss: 0.085496686398983\n",
      "Generating Image Number: 15 for target class tensor([3]). Step 250, Loss: 0.07708502560853958\n",
      "Generating Image Number: 15 for target class tensor([3]). Step 300, Loss: 0.07152184844017029\n",
      "Generating Image Number: 15 for target class tensor([3]). Step 350, Loss: 0.0667373538017273\n",
      "Generating Image Number: 15 for target class tensor([3]). Step 400, Loss: 0.06217275187373161\n",
      "Generating Image Number: 15 for target class tensor([3]). Step 450, Loss: 0.05862922966480255\n",
      "Generating Image Number: 16 for target class tensor([3]). Step 0, Loss: 3.4070703983306885\n",
      "Generating Image Number: 16 for target class tensor([3]). Step 50, Loss: 2.8571746349334717\n",
      "Generating Image Number: 16 for target class tensor([3]). Step 100, Loss: 2.5011484622955322\n",
      "Generating Image Number: 16 for target class tensor([3]). Step 150, Loss: 2.274301528930664\n",
      "Generating Image Number: 16 for target class tensor([3]). Step 200, Loss: 2.038938283920288\n",
      "Generating Image Number: 16 for target class tensor([3]). Step 250, Loss: 1.5747543573379517\n",
      "Generating Image Number: 16 for target class tensor([3]). Step 300, Loss: 1.1413376331329346\n",
      "Generating Image Number: 16 for target class tensor([3]). Step 350, Loss: 0.9036458730697632\n",
      "Generating Image Number: 16 for target class tensor([3]). Step 400, Loss: 0.7591397166252136\n",
      "Generating Image Number: 16 for target class tensor([3]). Step 450, Loss: 0.6558395028114319\n",
      "Generating Image Number: 17 for target class tensor([3]). Step 0, Loss: 0.24358408153057098\n",
      "Generating Image Number: 17 for target class tensor([3]). Step 50, Loss: 0.08432356268167496\n",
      "Generating Image Number: 17 for target class tensor([3]). Step 100, Loss: 0.055393580347299576\n",
      "Generating Image Number: 17 for target class tensor([3]). Step 150, Loss: 0.0452728308737278\n",
      "Generating Image Number: 17 for target class tensor([3]). Step 200, Loss: 0.03839171305298805\n",
      "Generating Image Number: 17 for target class tensor([3]). Step 250, Loss: 0.03379756212234497\n",
      "Generating Image Number: 17 for target class tensor([3]). Step 300, Loss: 0.030338654294610023\n",
      "Generating Image Number: 17 for target class tensor([3]). Step 350, Loss: 0.02767859399318695\n",
      "Generating Image Number: 17 for target class tensor([3]). Step 400, Loss: 0.025611184537410736\n",
      "Generating Image Number: 17 for target class tensor([3]). Step 450, Loss: 0.023716341704130173\n",
      "Generating Image Number: 18 for target class tensor([3]). Step 0, Loss: 3.239056348800659\n",
      "Generating Image Number: 18 for target class tensor([3]). Step 50, Loss: 0.32527658343315125\n",
      "Generating Image Number: 18 for target class tensor([3]). Step 100, Loss: 0.23990437388420105\n",
      "Generating Image Number: 18 for target class tensor([3]). Step 150, Loss: 0.19053015112876892\n",
      "Generating Image Number: 18 for target class tensor([3]). Step 200, Loss: 0.16396327316761017\n",
      "Generating Image Number: 18 for target class tensor([3]). Step 250, Loss: 0.1460469514131546\n",
      "Generating Image Number: 18 for target class tensor([3]). Step 300, Loss: 0.1300976723432541\n",
      "Generating Image Number: 18 for target class tensor([3]). Step 350, Loss: 0.11803816258907318\n",
      "Generating Image Number: 18 for target class tensor([3]). Step 400, Loss: 0.10541849583387375\n",
      "Generating Image Number: 18 for target class tensor([3]). Step 450, Loss: 0.09441985189914703\n",
      "Generating Image Number: 19 for target class tensor([3]). Step 0, Loss: 4.035548210144043\n",
      "Generating Image Number: 19 for target class tensor([3]). Step 50, Loss: 0.24788416922092438\n",
      "Generating Image Number: 19 for target class tensor([3]). Step 100, Loss: 0.18703186511993408\n",
      "Generating Image Number: 19 for target class tensor([3]). Step 150, Loss: 0.16124334931373596\n",
      "Generating Image Number: 19 for target class tensor([3]). Step 200, Loss: 0.13986028730869293\n",
      "Generating Image Number: 19 for target class tensor([3]). Step 250, Loss: 0.11501620709896088\n",
      "Generating Image Number: 19 for target class tensor([3]). Step 300, Loss: 0.10275048017501831\n",
      "Generating Image Number: 19 for target class tensor([3]). Step 350, Loss: 0.09100768715143204\n",
      "Generating Image Number: 19 for target class tensor([3]). Step 400, Loss: 0.08156342804431915\n",
      "Generating Image Number: 19 for target class tensor([3]). Step 450, Loss: 0.07479055225849152\n",
      "Generating Image Number: 20 for target class tensor([3]). Step 0, Loss: 3.3428807258605957\n",
      "Generating Image Number: 20 for target class tensor([3]). Step 50, Loss: 0.4023617208003998\n",
      "Generating Image Number: 20 for target class tensor([3]). Step 100, Loss: 0.23503941297531128\n",
      "Generating Image Number: 20 for target class tensor([3]). Step 150, Loss: 0.1612219512462616\n",
      "Generating Image Number: 20 for target class tensor([3]). Step 200, Loss: 0.12873218953609467\n",
      "Generating Image Number: 20 for target class tensor([3]). Step 250, Loss: 0.11132919043302536\n",
      "Generating Image Number: 20 for target class tensor([3]). Step 300, Loss: 0.09573839604854584\n",
      "Generating Image Number: 20 for target class tensor([3]). Step 350, Loss: 0.08323944360017776\n",
      "Generating Image Number: 20 for target class tensor([3]). Step 400, Loss: 0.06919865310192108\n",
      "Generating Image Number: 20 for target class tensor([3]). Step 450, Loss: 0.062453217804431915\n"
     ]
    }
   ],
   "source": [
    "torch.manual_seed(300)\n",
    "latent_vectors = torch.randn(img_count, z_dim, 1, 1, requires_grad=True) # Start with 20 random noises\n",
    "class3_optimized_latent_vectors = recover_images(img_count, 3, latent_vectors)"
   ]
  },
  {
   "cell_type": "code",
   "execution_count": 24,
   "id": "ae6425a5-dd86-4e87-8112-883336345ac9",
   "metadata": {},
   "outputs": [],
   "source": [
    "z0_1 = class0_optimized_latent_vectors[0]\n",
    "z0_2 = class0_optimized_latent_vectors[1]\n",
    "z0_3 = class0_optimized_latent_vectors[2]"
   ]
  },
  {
   "cell_type": "code",
   "execution_count": 25,
   "id": "3a6ed4fb-b693-4963-afcf-17a512e50b5f",
   "metadata": {},
   "outputs": [
    {
     "name": "stdout",
     "output_type": "stream",
     "text": [
      "torch.Size([64, 64])\n"
     ]
    }
   ],
   "source": [
    "# Display the generated image\n",
    "img = gen(z0_1.to(device)).squeeze(dim=0).squeeze(dim=0)\n",
    "print(img.shape)"
   ]
  },
  {
   "cell_type": "code",
   "execution_count": 26,
   "id": "88fc9416-c6ca-486b-bd72-63885de78d1c",
   "metadata": {},
   "outputs": [
    {
     "data": {
      "text/plain": [
       "<matplotlib.image.AxesImage at 0x206d5e34fa0>"
      ]
     },
     "execution_count": 26,
     "metadata": {},
     "output_type": "execute_result"
    },
    {
     "data": {
      "image/png": "[encoded data removed]",
      "text/plain": [
       "<Figure size 640x480 with 1 Axes>"
      ]
     },
     "metadata": {},
     "output_type": "display_data"
    }
   ],
   "source": [
    "plt.axis(False)\n",
    "plt.title('Recovered Image:')\n",
    "plt.imshow(img.cpu().detach(), cmap='gray')"
   ]
  },
  {
   "cell_type": "code",
   "execution_count": 27,
   "id": "bb0fc370-78c5-495f-b1e7-1239873b4ff8",
   "metadata": {},
   "outputs": [],
   "source": [
    "z1 = class1_optimized_latent_vectors[0]\n",
    "z2 = class1_optimized_latent_vectors[1]\n",
    "z3 = class1_optimized_latent_vectors[2]"
   ]
  },
  {
   "cell_type": "code",
   "execution_count": 28,
   "id": "07f38b7d-14f6-4d63-9efa-cb96ec2e1d35",
   "metadata": {},
   "outputs": [
    {
     "name": "stdout",
     "output_type": "stream",
     "text": [
      "torch.Size([64, 64])\n"
     ]
    }
   ],
   "source": [
    "# Display the generated image\n",
    "img = gen(z1.to(device)).squeeze(dim=0).squeeze(dim=0)\n",
    "print(img.shape)"
   ]
  },
  {
   "cell_type": "code",
   "execution_count": 29,
   "id": "8cad57ff-7961-4078-9dd4-1e0b4879ff56",
   "metadata": {},
   "outputs": [
    {
     "data": {
      "text/plain": [
       "<matplotlib.image.AxesImage at 0x206d5fcadf0>"
      ]
     },
     "execution_count": 29,
     "metadata": {},
     "output_type": "execute_result"
    },
    {
     "data": {
      "image/png": "[encoded data removed]",
      "text/plain": [
       "<Figure size 640x480 with 1 Axes>"
      ]
     },
     "metadata": {},
     "output_type": "display_data"
    }
   ],
   "source": [
    "plt.axis(False)\n",
    "plt.title('Recovered Image:')\n",
    "plt.imshow(img.cpu().detach(), cmap='gray')"
   ]
  },
  {
   "cell_type": "code",
   "execution_count": 30,
   "id": "52ecd67d-cb2d-44a3-b375-759d63db75b1",
   "metadata": {},
   "outputs": [],
   "source": [
    "                                                            # Dataset Loading\n",
    "# Load the .pkl files in as numpy arrays of pixels\n",
    "def load_tumor_data(file_path):\n",
    "    train_xs = []\n",
    "    train_ys = []\n",
    "    \"\"\" Load Digits Data from pickle data\n",
    "    return:\n",
    "    @xs: numpy.array, (n, c, w, h) \n",
    "    @ys: numpy.array, (n, ), 0-9\n",
    "    \"\"\"\n",
    "    with open(file_path, 'rb') as file:\n",
    "        data = pickle.load(file)\n",
    "        train_xs.append(data[\"data\"])\n",
    "        train_ys.append(data[\"labels\"])\n",
    "    train_xs = np.concatenate(train_xs, axis=0)\n",
    "    train_ys = np.concatenate(train_ys, axis=0)\n",
    "    \n",
    "    return train_xs, train_ys"
   ]
  },
  {
   "cell_type": "code",
   "execution_count": 31,
   "id": "ca72f62f-1eec-4b17-a8ce-fd66781f64f6",
   "metadata": {},
   "outputs": [],
   "source": [
    "# Custom Tumor Dataset\n",
    "class TumorDataset(data.Dataset):\n",
    "    def __init__(self, xs, ys, is_train=True):\n",
    "        self.xs = xs\n",
    "        self.ys = ys\n",
    "\n",
    "        if is_train is True:\n",
    "            self.transform = transforms.Compose([\n",
    "                transforms.ToPILImage(),\n",
    "                transforms.Resize((64, 64)),\n",
    "                transforms.ToTensor(),\n",
    "                transforms.Normalize(\n",
    "                    [0.5],\n",
    "                    [0.5]\n",
    "                )\n",
    "            ])\n",
    "        else:\n",
    "            self.transform = transforms.Compose([\n",
    "                transforms.ToPILImage(),\n",
    "                transforms.Resize((64, 64)),\n",
    "                transforms.ToTensor(),\n",
    "                transforms.Normalize(\n",
    "                    (0.4914, 0.4822, 0.4465),\n",
    "                    (0.2023, 0.1994, 0.2010)\n",
    "                )\n",
    "            ])\n",
    "\n",
    "    def __len__(self):\n",
    "        return len(self.xs)\n",
    "\n",
    "    def __getitem__(self, index):\n",
    "        img = self.xs[index]\n",
    "        #print(img.shape)\n",
    "        label = self.ys[index]\n",
    "\n",
    "        img = img.transpose((1, 2, 0)).astype(np.uint8)\n",
    "        img = self.transform(img)\n",
    "\n",
    "        img = torch.FloatTensor(img)\n",
    "        label = torch.LongTensor([label])[0]\n",
    "        return img, label"
   ]
  },
  {
   "cell_type": "code",
   "execution_count": 32,
   "id": "ceb91588-ef69-4373-b33f-74aed6c246bb",
   "metadata": {},
   "outputs": [],
   "source": [
    "def create_dataset(train_xs, train_ys):\n",
    "    tumor_dataset = TumorDataset(train_xs, train_ys, is_train=True)\n",
    "\n",
    "    return tumor_dataset"
   ]
  },
  {
   "cell_type": "code",
   "execution_count": 33,
   "id": "0415fba0-830c-42c6-bbde-c6958e779fbb",
   "metadata": {},
   "outputs": [],
   "source": [
    "def create_dataloader(dataset):\n",
    "    dataloader = DataLoader(dataset=dataset, batch_size=128, shuffle=True)\n",
    "\n",
    "    return dataloader"
   ]
  },
  {
   "cell_type": "code",
   "execution_count": 34,
   "id": "726d4995-5133-4037-ab0e-f2705470cdc9",
   "metadata": {},
   "outputs": [
    {
     "name": "stdout",
     "output_type": "stream",
     "text": [
      "(13927, 1, 32, 32)\n",
      "<class 'numpy.ndarray'>\n"
     ]
    }
   ],
   "source": [
    "# Load in the pickle dataset file\n",
    "train_xs, train_ys = load_tumor_data('datasets/Tumor/tumor4train.pkl')\n",
    "#train_xs = train_xs[:, 1, :, :]\n",
    "#train_xs = np.expand_dims(train_xs, axis=1)\n",
    "train_xs = train_xs.mean(axis=1, keepdims=True)\n",
    "print(train_xs.shape)\n",
    "print(type(train_xs))"
   ]
  },
  {
   "cell_type": "code",
   "execution_count": 35,
   "id": "a684b01a-eb4a-4210-9f59-d613085a404a",
   "metadata": {},
   "outputs": [],
   "source": [
    "# Create the dataset\n",
    "tumor_dataset = create_dataset(train_xs, train_ys)"
   ]
  },
  {
   "cell_type": "code",
   "execution_count": 36,
   "id": "193f07cc-d34f-425e-aa08-62b6d6adbad6",
   "metadata": {},
   "outputs": [],
   "source": [
    "def visualize_image(image_x):\n",
    "    # We have to visualize by reverting the normalization (just for visualization).\n",
    "    mean = torch.tensor([0.5])\n",
    "    std = torch.tensor([0.5])\n",
    "\n",
    "    image = image_x * std + mean  # Denormalize the image\n",
    "\n",
    "    image = torch.clamp(image, 0, 1) # Clip values to [0, 1] to ensure valid range for display\n",
    "\n",
    "    # Permute the image to (H, W, C) for matplotlib\n",
    "    \n",
    "    image = image.permute(1, 2, 0)\n",
    "\n",
    "    plt.imshow(image, cmap='gray')"
   ]
  },
  {
   "cell_type": "code",
   "execution_count": 37,
   "id": "16e93c17-a89b-46a2-8198-71e66e370f4f",
   "metadata": {},
   "outputs": [
    {
     "name": "stdout",
     "output_type": "stream",
     "text": [
      "torch.Size([1, 64, 64])\n"
     ]
    },
    {
     "data": {
      "image/png": "[encoded data removed]",
      "text/plain": [
       "<Figure size 640x480 with 1 Axes>"
      ]
     },
     "metadata": {},
     "output_type": "display_data"
    }
   ],
   "source": [
    "# Visualize the first tumor sample. \n",
    "image_x, image_y = tumor_dataset[7000]\n",
    "print(image_x.shape)\n",
    "visualize_image(image_x)"
   ]
  },
  {
   "cell_type": "code",
   "execution_count": 38,
   "id": "60e2da47-7cb6-493e-aeda-aa80d7965de7",
   "metadata": {},
   "outputs": [],
   "source": [
    "from scipy.spatial.distance import cosine"
   ]
  },
  {
   "cell_type": "code",
   "execution_count": 39,
   "id": "5a7937e5-b808-4b3e-8288-75dcd9862340",
   "metadata": {},
   "outputs": [],
   "source": [
    "# Get the feature embeddings\n",
    "tfcnn_model = target_model = load_target_model(base_net='TFCNN', n_classes=4, path='saved models/fedavg_global_model.pth').to(device)\n",
    "model_embeddings = tfcnn_model.encoder.to(device)"
   ]
  },
  {
   "cell_type": "code",
   "execution_count": 40,
   "id": "737e3d92-45b6-45f6-9bf2-d51f379d6ac8",
   "metadata": {},
   "outputs": [],
   "source": [
    "# Preprocessing\n",
    "preprocess = transforms.Compose([\n",
    "    transforms.Resize(256),\n",
    "    transforms.CenterCrop(224),\n",
    "    transforms.ToTensor(),\n",
    "])"
   ]
  },
  {
   "cell_type": "code",
   "execution_count": 41,
   "id": "babb1015-bdfb-439b-bea1-81f9f50dd74e",
   "metadata": {},
   "outputs": [],
   "source": [
    "def get_feature(img):\n",
    "    with torch.no_grad():\n",
    "        features = model_embeddings(img).squeeze()\n",
    "    return features.cpu().numpy()"
   ]
  },
  {
   "cell_type": "code",
   "execution_count": 42,
   "id": "79f38654-6670-440d-a322-b2cae18a71d8",
   "metadata": {},
   "outputs": [
    {
     "data": {
      "text/plain": [
       "torch.Size([1, 64, 64])"
      ]
     },
     "execution_count": 42,
     "metadata": {},
     "output_type": "execute_result"
    }
   ],
   "source": [
    "# Send an original image through the model\n",
    "image_x, image_y = tumor_dataset[10]\n",
    "image_x.shape"
   ]
  },
  {
   "cell_type": "code",
   "execution_count": 43,
   "id": "a4a2659e-dcaa-4d4a-b5a5-06b363ce6534",
   "metadata": {},
   "outputs": [],
   "source": [
    "image_x = image_x.unsqueeze(dim=0)"
   ]
  },
  {
   "cell_type": "code",
   "execution_count": 44,
   "id": "14348bfc-5988-48f0-88cf-4761d7a99d89",
   "metadata": {},
   "outputs": [
    {
     "data": {
      "text/plain": [
       "torch.Size([1, 1, 64, 64])"
      ]
     },
     "execution_count": 44,
     "metadata": {},
     "output_type": "execute_result"
    }
   ],
   "source": [
    "image_x.shape"
   ]
  },
  {
   "cell_type": "code",
   "execution_count": 45,
   "id": "66160253-9543-4aba-bb81-031d51ef9623",
   "metadata": {},
   "outputs": [
    {
     "data": {
      "text/plain": [
       "torch.Size([1, 3, 64, 64])"
      ]
     },
     "execution_count": 45,
     "metadata": {},
     "output_type": "execute_result"
    }
   ],
   "source": [
    "image_x = image_x.repeat(1, 3, 1, 1)\n",
    "image_x = image_x.to(device)\n",
    "image_x.shape"
   ]
  },
  {
   "cell_type": "code",
   "execution_count": 46,
   "id": "f615c7d3-2dab-425d-81e1-2595ec59e230",
   "metadata": {},
   "outputs": [
    {
     "data": {
      "text/plain": [
       "(4096,)"
      ]
     },
     "execution_count": 46,
     "metadata": {},
     "output_type": "execute_result"
    }
   ],
   "source": [
    "features = get_feature(image_x)\n",
    "features.shape"
   ]
  },
  {
   "cell_type": "code",
   "execution_count": 47,
   "id": "31b9ddc9-3fc8-4a47-bfc7-74a6df27d672",
   "metadata": {},
   "outputs": [],
   "source": [
    "class0_original_images = []\n",
    "class1_original_images = []\n",
    "class2_original_images = []\n",
    "class3_original_images = []\n",
    "target_num = 20 # 20 images for each class"
   ]
  },
  {
   "cell_type": "code",
   "execution_count": 48,
   "id": "e804c948-2dc8-41df-a633-113300baf12a",
   "metadata": {},
   "outputs": [],
   "source": [
    "for i in range(len(tumor_dataset)):\n",
    "    img_x, img_y = tumor_dataset[i]\n",
    "\n",
    "    if img_y == 0:\n",
    "        if len(class0_original_images) < target_num:\n",
    "            class0_original_images.append(img_x)\n",
    "    elif img_y == 1:\n",
    "        if len(class1_original_images) < target_num:\n",
    "            class1_original_images.append(img_x)\n",
    "    elif img_y == 2:\n",
    "        if len(class2_original_images) < target_num:\n",
    "            class2_original_images.append(img_x)\n",
    "    elif img_y == 3:\n",
    "        if len(class3_original_images) < target_num:\n",
    "            class3_original_images.append(img_x)"
   ]
  },
  {
   "cell_type": "code",
   "execution_count": 49,
   "id": "ef07c896-c4cd-48da-9e59-c9d7bd90a4e8",
   "metadata": {},
   "outputs": [
    {
     "data": {
      "text/plain": [
       "20"
      ]
     },
     "execution_count": 49,
     "metadata": {},
     "output_type": "execute_result"
    }
   ],
   "source": [
    "len(class3_original_images)"
   ]
  },
  {
   "cell_type": "code",
   "execution_count": 50,
   "id": "e102404a-68a3-40c5-99a7-45813eb87f20",
   "metadata": {},
   "outputs": [
    {
     "data": {
      "text/plain": [
       "torch.Size([1, 3, 64, 64])"
      ]
     },
     "execution_count": 50,
     "metadata": {},
     "output_type": "execute_result"
    }
   ],
   "source": [
    "# Testing the cosine similarity\n",
    "class1_original_image = class1_original_images[8]\n",
    "class1_original_image = class1_original_image.unsqueeze(dim=0).to(device)\n",
    "class1_original_image = class1_original_image.repeat(1, 3, 1, 1)\n",
    "class1_original_image.shape"
   ]
  },
  {
   "cell_type": "code",
   "execution_count": 51,
   "id": "d7fe9c85-2c83-4580-be7d-32833b706948",
   "metadata": {},
   "outputs": [],
   "source": [
    "fake1 = class1_optimized_latent_vectors[8]\n",
    "fake1_image = gen(fake1.to(device))\n",
    "fake1_image = fake1_image.repeat(1, 3, 1, 1)"
   ]
  },
  {
   "cell_type": "code",
   "execution_count": 52,
   "id": "74647152-cdcb-4593-a88f-d3ac43fd97d3",
   "metadata": {},
   "outputs": [
    {
     "data": {
      "text/plain": [
       "torch.Size([1, 3, 64, 64])"
      ]
     },
     "execution_count": 52,
     "metadata": {},
     "output_type": "execute_result"
    }
   ],
   "source": [
    "fake1_image.shape"
   ]
  },
  {
   "cell_type": "code",
   "execution_count": 53,
   "id": "e88f6396-0ef2-45f5-96e0-6048be01af25",
   "metadata": {},
   "outputs": [],
   "source": [
    "# Get the features of the images\n",
    "features_original = get_feature(class1_original_image)\n",
    "features_fake = get_feature(fake1_image)"
   ]
  },
  {
   "cell_type": "code",
   "execution_count": 54,
   "id": "b54e2bca-5f2b-41ea-b810-15d1f9d30f86",
   "metadata": {},
   "outputs": [],
   "source": [
    "# Compute cosine similarity\n",
    "similarity = 1 - cosine(features_original, features_fake)"
   ]
  },
  {
   "cell_type": "code",
   "execution_count": 55,
   "id": "983c7e35-27ee-453c-9356-cb9a84fdd4a3",
   "metadata": {},
   "outputs": [
    {
     "data": {
      "text/plain": [
       "np.float32(0.62438476)"
      ]
     },
     "execution_count": 55,
     "metadata": {},
     "output_type": "execute_result"
    }
   ],
   "source": [
    "similarity"
   ]
  },
  {
   "cell_type": "code",
   "execution_count": 56,
   "id": "e65e04e8-52b7-4cf2-876c-d9b07a435ec9",
   "metadata": {},
   "outputs": [],
   "source": [
    "def calculate_class0_sim():\n",
    "    similarities = []\n",
    "    for i in range(0, 20):\n",
    "        class0_original = class0_original_images[i].unsqueeze(dim=0).to(device)\n",
    "        class0_original = class0_original.repeat(1, 3, 1, 1)\n",
    "\n",
    "        class0_fake = class0_optimized_latent_vectors[i]\n",
    "        class0_fake_img = gen(class0_fake.to(device))\n",
    "        class0_fake_img = class0_fake_img.repeat(1, 3, 1, 1)\n",
    "\n",
    "        features_original = get_feature(class0_original)\n",
    "        features_fake = get_feature(class0_fake_img)\n",
    "\n",
    "        cosine_similarity = 1 - cosine(features_original, features_fake)\n",
    "\n",
    "        similarities.append(cosine_similarity)\n",
    "        \n",
    "    return similarities"
   ]
  },
  {
   "cell_type": "code",
   "execution_count": 57,
   "id": "10d8f579-0b80-4157-b59b-7b92be9e52f2",
   "metadata": {},
   "outputs": [],
   "source": [
    "def calculate_class1_sim():\n",
    "    similarities = []\n",
    "    for i in range(0, 20):\n",
    "        class1_original = class1_original_images[i].unsqueeze(dim=0).to(device)\n",
    "        class1_original = class1_original.repeat(1, 3, 1, 1)\n",
    "\n",
    "        class1_fake = class1_optimized_latent_vectors[i]\n",
    "        class1_fake_img = gen(class1_fake.to(device))\n",
    "        class1_fake_img = class1_fake_img.repeat(1, 3, 1, 1)\n",
    "\n",
    "        features_original = get_feature(class1_original)\n",
    "        features_fake = get_feature(class1_fake_img)\n",
    "\n",
    "        cosine_similarity = 1 - cosine(features_original, features_fake)\n",
    "        similarities.append(cosine_similarity)\n",
    "\n",
    "    return similarities"
   ]
  },
  {
   "cell_type": "code",
   "execution_count": 58,
   "id": "1bbdc999-fa6d-4005-b785-3c54a7bd89ee",
   "metadata": {},
   "outputs": [],
   "source": [
    "def calculate_class2_sim():\n",
    "    similarities = []\n",
    "    for i in range(0, 20):\n",
    "        class2_original = class2_original_images[i].unsqueeze(dim=0).to(device)\n",
    "        class2_original = class2_original.repeat(1, 3, 1, 1)\n",
    "\n",
    "        class2_fake = class2_optimized_latent_vectors[i]\n",
    "        class2_fake_img = gen(class2_fake.to(device))\n",
    "        class2_fake_img = class2_fake_img.repeat(1, 3, 1, 1)\n",
    "\n",
    "        features_original = get_feature(class2_original)\n",
    "        features_fake = get_feature(class2_fake_img)\n",
    "\n",
    "        cosine_similarity = 1 - cosine(features_original, features_fake)\n",
    "        similarities.append(cosine_similarity)\n",
    "\n",
    "    return similarities"
   ]
  },
  {
   "cell_type": "code",
   "execution_count": 59,
   "id": "33cb8de1-5a87-4dd4-8fc2-d3f27d6ddc9a",
   "metadata": {},
   "outputs": [],
   "source": [
    "def calculate_class3_sim():\n",
    "    similarities = []\n",
    "    for i in range(0, 20):\n",
    "        class3_original = class3_original_images[i].unsqueeze(dim=0).to(device)\n",
    "        class3_original = class3_original.repeat(1, 3, 1, 1)\n",
    "\n",
    "        class3_fake = class3_optimized_latent_vectors[i]\n",
    "        class3_fake_img = gen(class3_fake.to(device))\n",
    "        class3_fake_img = class3_fake_img.repeat(1, 3, 1, 1)\n",
    "\n",
    "        features_original = get_feature(class3_original)\n",
    "        features_fake = get_feature(class3_fake_img)\n",
    "\n",
    "        cosine_similarity = 1 - cosine(features_original, features_fake)\n",
    "        similarities.append(cosine_similarity)\n",
    "\n",
    "    return similarities"
   ]
  },
  {
   "cell_type": "code",
   "execution_count": 60,
   "id": "7868f175-5845-4ee4-b4cf-1c89513375ec",
   "metadata": {},
   "outputs": [],
   "source": [
    "class0_sims = calculate_class0_sim()\n",
    "class1_sims = calculate_class0_sim()\n",
    "class2_sims = calculate_class0_sim()\n",
    "class3_sims = calculate_class0_sim()"
   ]
  },
  {
   "cell_type": "code",
   "execution_count": 61,
   "id": "bbf4597d-a583-4204-a3ce-9085936e0189",
   "metadata": {},
   "outputs": [
    {
     "data": {
      "text/plain": [
       "[np.float32(0.57003444),\n",
       " np.float32(0.44692403),\n",
       " np.float32(0.57089764),\n",
       " np.float32(0.024894774),\n",
       " np.float32(0.7193731),\n",
       " np.float32(0.02014476),\n",
       " np.float32(0.5450815),\n",
       " np.float32(0.69880193),\n",
       " np.float32(0.7978547),\n",
       " np.float32(0.4497863),\n",
       " np.float32(0.34368563),\n",
       " np.float32(0.6752231),\n",
       " np.float32(0.6618747),\n",
       " np.float32(0.70946276),\n",
       " np.float32(0.73705703),\n",
       " np.float32(0.667744),\n",
       " np.float32(0.5803476),\n",
       " np.float32(0.6699798),\n",
       " np.float32(0.721456),\n",
       " np.float32(0.36945933)]"
      ]
     },
     "execution_count": 61,
     "metadata": {},
     "output_type": "execute_result"
    }
   ],
   "source": [
    "class0_sims"
   ]
  },
  {
   "cell_type": "code",
   "execution_count": 62,
   "id": "acb9d480-a58f-4ce6-8973-eb9c8d6e7253",
   "metadata": {},
   "outputs": [
    {
     "data": {
      "text/plain": [
       "[np.float32(0.5700345),\n",
       " np.float32(0.44692338),\n",
       " np.float32(0.57089835),\n",
       " np.float32(0.024894953),\n",
       " np.float32(0.71937346),\n",
       " np.float32(0.02014476),\n",
       " np.float32(0.5450815),\n",
       " np.float32(0.69880193),\n",
       " np.float32(0.7978547),\n",
       " np.float32(0.4497863),\n",
       " np.float32(0.3436854),\n",
       " np.float32(0.6752231),\n",
       " np.float32(0.6618748),\n",
       " np.float32(0.70946276),\n",
       " np.float32(0.73705554),\n",
       " np.float32(0.6677442),\n",
       " np.float32(0.5803476),\n",
       " np.float32(0.6699798),\n",
       " np.float32(0.72145605),\n",
       " np.float32(0.36945927)]"
      ]
     },
     "execution_count": 62,
     "metadata": {},
     "output_type": "execute_result"
    }
   ],
   "source": [
    "class3_sims"
   ]
  },
  {
   "cell_type": "code",
   "execution_count": 63,
   "id": "58dc103d-1c30-473a-adc3-fcd5ca5100a0",
   "metadata": {},
   "outputs": [
    {
     "ename": "FileNotFoundError",
     "evalue": "[Errno 2] No such file or directory: 'output/fedvg.png'",
     "output_type": "error",
     "traceback": [
      "\u001b[1;31m---------------------------------------------------------------------------\u001b[0m",
      "\u001b[1;31mFileNotFoundError\u001b[0m                         Traceback (most recent call last)",
      "Cell \u001b[1;32mIn[63], line 43\u001b[0m\n\u001b[0;32m     41\u001b[0m plt\u001b[38;5;241m.\u001b[39mtight_layout()\n\u001b[0;32m     42\u001b[0m \u001b[38;5;66;03m# Save the plot to a file\u001b[39;00m\n\u001b[1;32m---> 43\u001b[0m \u001b[43mplt\u001b[49m\u001b[38;5;241;43m.\u001b[39;49m\u001b[43msavefig\u001b[49m\u001b[43m(\u001b[49m\u001b[38;5;124;43m'\u001b[39;49m\u001b[38;5;124;43moutput/fedvg.png\u001b[39;49m\u001b[38;5;124;43m'\u001b[39;49m\u001b[43m,\u001b[49m\u001b[43m \u001b[49m\u001b[43mdpi\u001b[49m\u001b[38;5;241;43m=\u001b[39;49m\u001b[38;5;241;43m300\u001b[39;49m\u001b[43m,\u001b[49m\u001b[43m \u001b[49m\u001b[43mbbox_inches\u001b[49m\u001b[38;5;241;43m=\u001b[39;49m\u001b[38;5;124;43m'\u001b[39;49m\u001b[38;5;124;43mtight\u001b[39;49m\u001b[38;5;124;43m'\u001b[39;49m\u001b[43m)\u001b[49m  \u001b[38;5;66;03m# Save as a PNG file with high resolution\u001b[39;00m\n\u001b[0;32m     45\u001b[0m \u001b[38;5;66;03m# Show the plot\u001b[39;00m\n\u001b[0;32m     46\u001b[0m plt\u001b[38;5;241m.\u001b[39mshow()\n",
      "File \u001b[1;32m~\\AppData\\Local\\Programs\\Python\\Python39\\lib\\site-packages\\matplotlib\\pyplot.py:1228\u001b[0m, in \u001b[0;36msavefig\u001b[1;34m(*args, **kwargs)\u001b[0m\n\u001b[0;32m   1225\u001b[0m fig \u001b[38;5;241m=\u001b[39m gcf()\n\u001b[0;32m   1226\u001b[0m \u001b[38;5;66;03m# savefig default implementation has no return, so mypy is unhappy\u001b[39;00m\n\u001b[0;32m   1227\u001b[0m \u001b[38;5;66;03m# presumably this is here because subclasses can return?\u001b[39;00m\n\u001b[1;32m-> 1228\u001b[0m res \u001b[38;5;241m=\u001b[39m fig\u001b[38;5;241m.\u001b[39msavefig(\u001b[38;5;241m*\u001b[39margs, \u001b[38;5;241m*\u001b[39m\u001b[38;5;241m*\u001b[39mkwargs)  \u001b[38;5;66;03m# type: ignore[func-returns-value]\u001b[39;00m\n\u001b[0;32m   1229\u001b[0m fig\u001b[38;5;241m.\u001b[39mcanvas\u001b[38;5;241m.\u001b[39mdraw_idle()  \u001b[38;5;66;03m# Need this if 'transparent=True', to reset colors.\u001b[39;00m\n\u001b[0;32m   1230\u001b[0m \u001b[38;5;28;01mreturn\u001b[39;00m res\n",
      "File \u001b[1;32m~\\AppData\\Local\\Programs\\Python\\Python39\\lib\\site-packages\\matplotlib\\figure.py:3395\u001b[0m, in \u001b[0;36mFigure.savefig\u001b[1;34m(self, fname, transparent, **kwargs)\u001b[0m\n\u001b[0;32m   3393\u001b[0m     \u001b[38;5;28;01mfor\u001b[39;00m ax \u001b[38;5;129;01min\u001b[39;00m \u001b[38;5;28mself\u001b[39m\u001b[38;5;241m.\u001b[39maxes:\n\u001b[0;32m   3394\u001b[0m         _recursively_make_axes_transparent(stack, ax)\n\u001b[1;32m-> 3395\u001b[0m \u001b[38;5;28mself\u001b[39m\u001b[38;5;241m.\u001b[39mcanvas\u001b[38;5;241m.\u001b[39mprint_figure(fname, \u001b[38;5;241m*\u001b[39m\u001b[38;5;241m*\u001b[39mkwargs)\n",
      "File \u001b[1;32m~\\AppData\\Local\\Programs\\Python\\Python39\\lib\\site-packages\\matplotlib\\backend_bases.py:2204\u001b[0m, in \u001b[0;36mFigureCanvasBase.print_figure\u001b[1;34m(self, filename, dpi, facecolor, edgecolor, orientation, format, bbox_inches, pad_inches, bbox_extra_artists, backend, **kwargs)\u001b[0m\n\u001b[0;32m   2200\u001b[0m \u001b[38;5;28;01mtry\u001b[39;00m:\n\u001b[0;32m   2201\u001b[0m     \u001b[38;5;66;03m# _get_renderer may change the figure dpi (as vector formats\u001b[39;00m\n\u001b[0;32m   2202\u001b[0m     \u001b[38;5;66;03m# force the figure dpi to 72), so we need to set it again here.\u001b[39;00m\n\u001b[0;32m   2203\u001b[0m     \u001b[38;5;28;01mwith\u001b[39;00m cbook\u001b[38;5;241m.\u001b[39m_setattr_cm(\u001b[38;5;28mself\u001b[39m\u001b[38;5;241m.\u001b[39mfigure, dpi\u001b[38;5;241m=\u001b[39mdpi):\n\u001b[1;32m-> 2204\u001b[0m         result \u001b[38;5;241m=\u001b[39m print_method(\n\u001b[0;32m   2205\u001b[0m             filename,\n\u001b[0;32m   2206\u001b[0m             facecolor\u001b[38;5;241m=\u001b[39mfacecolor,\n\u001b[0;32m   2207\u001b[0m             edgecolor\u001b[38;5;241m=\u001b[39medgecolor,\n\u001b[0;32m   2208\u001b[0m             orientation\u001b[38;5;241m=\u001b[39morientation,\n\u001b[0;32m   2209\u001b[0m             bbox_inches_restore\u001b[38;5;241m=\u001b[39m_bbox_inches_restore,\n\u001b[0;32m   2210\u001b[0m             \u001b[38;5;241m*\u001b[39m\u001b[38;5;241m*\u001b[39mkwargs)\n\u001b[0;32m   2211\u001b[0m \u001b[38;5;28;01mfinally\u001b[39;00m:\n\u001b[0;32m   2212\u001b[0m     \u001b[38;5;28;01mif\u001b[39;00m bbox_inches \u001b[38;5;129;01mand\u001b[39;00m restore_bbox:\n",
      "File \u001b[1;32m~\\AppData\\Local\\Programs\\Python\\Python39\\lib\\site-packages\\matplotlib\\backend_bases.py:2054\u001b[0m, in \u001b[0;36mFigureCanvasBase._switch_canvas_and_return_print_method.<locals>.<lambda>\u001b[1;34m(*args, **kwargs)\u001b[0m\n\u001b[0;32m   2050\u001b[0m     optional_kws \u001b[38;5;241m=\u001b[39m {  \u001b[38;5;66;03m# Passed by print_figure for other renderers.\u001b[39;00m\n\u001b[0;32m   2051\u001b[0m         \u001b[38;5;124m\"\u001b[39m\u001b[38;5;124mdpi\u001b[39m\u001b[38;5;124m\"\u001b[39m, \u001b[38;5;124m\"\u001b[39m\u001b[38;5;124mfacecolor\u001b[39m\u001b[38;5;124m\"\u001b[39m, \u001b[38;5;124m\"\u001b[39m\u001b[38;5;124medgecolor\u001b[39m\u001b[38;5;124m\"\u001b[39m, \u001b[38;5;124m\"\u001b[39m\u001b[38;5;124morientation\u001b[39m\u001b[38;5;124m\"\u001b[39m,\n\u001b[0;32m   2052\u001b[0m         \u001b[38;5;124m\"\u001b[39m\u001b[38;5;124mbbox_inches_restore\u001b[39m\u001b[38;5;124m\"\u001b[39m}\n\u001b[0;32m   2053\u001b[0m     skip \u001b[38;5;241m=\u001b[39m optional_kws \u001b[38;5;241m-\u001b[39m {\u001b[38;5;241m*\u001b[39minspect\u001b[38;5;241m.\u001b[39msignature(meth)\u001b[38;5;241m.\u001b[39mparameters}\n\u001b[1;32m-> 2054\u001b[0m     print_method \u001b[38;5;241m=\u001b[39m functools\u001b[38;5;241m.\u001b[39mwraps(meth)(\u001b[38;5;28;01mlambda\u001b[39;00m \u001b[38;5;241m*\u001b[39margs, \u001b[38;5;241m*\u001b[39m\u001b[38;5;241m*\u001b[39mkwargs: meth(\n\u001b[0;32m   2055\u001b[0m         \u001b[38;5;241m*\u001b[39margs, \u001b[38;5;241m*\u001b[39m\u001b[38;5;241m*\u001b[39m{k: v \u001b[38;5;28;01mfor\u001b[39;00m k, v \u001b[38;5;129;01min\u001b[39;00m kwargs\u001b[38;5;241m.\u001b[39mitems() \u001b[38;5;28;01mif\u001b[39;00m k \u001b[38;5;129;01mnot\u001b[39;00m \u001b[38;5;129;01min\u001b[39;00m skip}))\n\u001b[0;32m   2056\u001b[0m \u001b[38;5;28;01melse\u001b[39;00m:  \u001b[38;5;66;03m# Let third-parties do as they see fit.\u001b[39;00m\n\u001b[0;32m   2057\u001b[0m     print_method \u001b[38;5;241m=\u001b[39m meth\n",
      "File \u001b[1;32m~\\AppData\\Local\\Programs\\Python\\Python39\\lib\\site-packages\\matplotlib\\backends\\backend_agg.py:496\u001b[0m, in \u001b[0;36mFigureCanvasAgg.print_png\u001b[1;34m(self, filename_or_obj, metadata, pil_kwargs)\u001b[0m\n\u001b[0;32m    449\u001b[0m \u001b[38;5;28;01mdef\u001b[39;00m\u001b[38;5;250m \u001b[39m\u001b[38;5;21mprint_png\u001b[39m(\u001b[38;5;28mself\u001b[39m, filename_or_obj, \u001b[38;5;241m*\u001b[39m, metadata\u001b[38;5;241m=\u001b[39m\u001b[38;5;28;01mNone\u001b[39;00m, pil_kwargs\u001b[38;5;241m=\u001b[39m\u001b[38;5;28;01mNone\u001b[39;00m):\n\u001b[0;32m    450\u001b[0m \u001b[38;5;250m    \u001b[39m\u001b[38;5;124;03m\"\"\"\u001b[39;00m\n\u001b[0;32m    451\u001b[0m \u001b[38;5;124;03m    Write the figure to a PNG file.\u001b[39;00m\n\u001b[0;32m    452\u001b[0m \n\u001b[1;32m   (...)\u001b[0m\n\u001b[0;32m    494\u001b[0m \u001b[38;5;124;03m        *metadata*, including the default 'Software' key.\u001b[39;00m\n\u001b[0;32m    495\u001b[0m \u001b[38;5;124;03m    \"\"\"\u001b[39;00m\n\u001b[1;32m--> 496\u001b[0m     \u001b[38;5;28;43mself\u001b[39;49m\u001b[38;5;241;43m.\u001b[39;49m\u001b[43m_print_pil\u001b[49m\u001b[43m(\u001b[49m\u001b[43mfilename_or_obj\u001b[49m\u001b[43m,\u001b[49m\u001b[43m \u001b[49m\u001b[38;5;124;43m\"\u001b[39;49m\u001b[38;5;124;43mpng\u001b[39;49m\u001b[38;5;124;43m\"\u001b[39;49m\u001b[43m,\u001b[49m\u001b[43m \u001b[49m\u001b[43mpil_kwargs\u001b[49m\u001b[43m,\u001b[49m\u001b[43m \u001b[49m\u001b[43mmetadata\u001b[49m\u001b[43m)\u001b[49m\n",
      "File \u001b[1;32m~\\AppData\\Local\\Programs\\Python\\Python39\\lib\\site-packages\\matplotlib\\backends\\backend_agg.py:445\u001b[0m, in \u001b[0;36mFigureCanvasAgg._print_pil\u001b[1;34m(self, filename_or_obj, fmt, pil_kwargs, metadata)\u001b[0m\n\u001b[0;32m    440\u001b[0m \u001b[38;5;250m\u001b[39m\u001b[38;5;124;03m\"\"\"\u001b[39;00m\n\u001b[0;32m    441\u001b[0m \u001b[38;5;124;03mDraw the canvas, then save it using `.image.imsave` (to which\u001b[39;00m\n\u001b[0;32m    442\u001b[0m \u001b[38;5;124;03m*pil_kwargs* and *metadata* are forwarded).\u001b[39;00m\n\u001b[0;32m    443\u001b[0m \u001b[38;5;124;03m\"\"\"\u001b[39;00m\n\u001b[0;32m    444\u001b[0m FigureCanvasAgg\u001b[38;5;241m.\u001b[39mdraw(\u001b[38;5;28mself\u001b[39m)\n\u001b[1;32m--> 445\u001b[0m \u001b[43mmpl\u001b[49m\u001b[38;5;241;43m.\u001b[39;49m\u001b[43mimage\u001b[49m\u001b[38;5;241;43m.\u001b[39;49m\u001b[43mimsave\u001b[49m\u001b[43m(\u001b[49m\n\u001b[0;32m    446\u001b[0m \u001b[43m    \u001b[49m\u001b[43mfilename_or_obj\u001b[49m\u001b[43m,\u001b[49m\u001b[43m \u001b[49m\u001b[38;5;28;43mself\u001b[39;49m\u001b[38;5;241;43m.\u001b[39;49m\u001b[43mbuffer_rgba\u001b[49m\u001b[43m(\u001b[49m\u001b[43m)\u001b[49m\u001b[43m,\u001b[49m\u001b[43m \u001b[49m\u001b[38;5;28;43mformat\u001b[39;49m\u001b[38;5;241;43m=\u001b[39;49m\u001b[43mfmt\u001b[49m\u001b[43m,\u001b[49m\u001b[43m \u001b[49m\u001b[43morigin\u001b[49m\u001b[38;5;241;43m=\u001b[39;49m\u001b[38;5;124;43m\"\u001b[39;49m\u001b[38;5;124;43mupper\u001b[39;49m\u001b[38;5;124;43m\"\u001b[39;49m\u001b[43m,\u001b[49m\n\u001b[0;32m    447\u001b[0m \u001b[43m    \u001b[49m\u001b[43mdpi\u001b[49m\u001b[38;5;241;43m=\u001b[39;49m\u001b[38;5;28;43mself\u001b[39;49m\u001b[38;5;241;43m.\u001b[39;49m\u001b[43mfigure\u001b[49m\u001b[38;5;241;43m.\u001b[39;49m\u001b[43mdpi\u001b[49m\u001b[43m,\u001b[49m\u001b[43m \u001b[49m\u001b[43mmetadata\u001b[49m\u001b[38;5;241;43m=\u001b[39;49m\u001b[43mmetadata\u001b[49m\u001b[43m,\u001b[49m\u001b[43m \u001b[49m\u001b[43mpil_kwargs\u001b[49m\u001b[38;5;241;43m=\u001b[39;49m\u001b[43mpil_kwargs\u001b[49m\u001b[43m)\u001b[49m\n",
      "File \u001b[1;32m~\\AppData\\Local\\Programs\\Python\\Python39\\lib\\site-packages\\matplotlib\\image.py:1676\u001b[0m, in \u001b[0;36mimsave\u001b[1;34m(fname, arr, vmin, vmax, cmap, format, origin, dpi, metadata, pil_kwargs)\u001b[0m\n\u001b[0;32m   1674\u001b[0m pil_kwargs\u001b[38;5;241m.\u001b[39msetdefault(\u001b[38;5;124m\"\u001b[39m\u001b[38;5;124mformat\u001b[39m\u001b[38;5;124m\"\u001b[39m, \u001b[38;5;28mformat\u001b[39m)\n\u001b[0;32m   1675\u001b[0m pil_kwargs\u001b[38;5;241m.\u001b[39msetdefault(\u001b[38;5;124m\"\u001b[39m\u001b[38;5;124mdpi\u001b[39m\u001b[38;5;124m\"\u001b[39m, (dpi, dpi))\n\u001b[1;32m-> 1676\u001b[0m image\u001b[38;5;241m.\u001b[39msave(fname, \u001b[38;5;241m*\u001b[39m\u001b[38;5;241m*\u001b[39mpil_kwargs)\n",
      "File \u001b[1;32m~\\AppData\\Local\\Programs\\Python\\Python39\\lib\\site-packages\\PIL\\Image.py:2436\u001b[0m, in \u001b[0;36mImage.save\u001b[1;34m(self, fp, format, **params)\u001b[0m\n\u001b[0;32m   2434\u001b[0m         fp \u001b[38;5;241m=\u001b[39m builtins\u001b[38;5;241m.\u001b[39mopen(filename, \u001b[38;5;124m\"\u001b[39m\u001b[38;5;124mr+b\u001b[39m\u001b[38;5;124m\"\u001b[39m)\n\u001b[0;32m   2435\u001b[0m     \u001b[38;5;28;01melse\u001b[39;00m:\n\u001b[1;32m-> 2436\u001b[0m         fp \u001b[38;5;241m=\u001b[39m \u001b[43mbuiltins\u001b[49m\u001b[38;5;241;43m.\u001b[39;49m\u001b[43mopen\u001b[49m\u001b[43m(\u001b[49m\u001b[43mfilename\u001b[49m\u001b[43m,\u001b[49m\u001b[43m \u001b[49m\u001b[38;5;124;43m\"\u001b[39;49m\u001b[38;5;124;43mw+b\u001b[39;49m\u001b[38;5;124;43m\"\u001b[39;49m\u001b[43m)\u001b[49m\n\u001b[0;32m   2438\u001b[0m \u001b[38;5;28;01mtry\u001b[39;00m:\n\u001b[0;32m   2439\u001b[0m     save_handler(\u001b[38;5;28mself\u001b[39m, fp, filename)\n",
      "\u001b[1;31mFileNotFoundError\u001b[0m: [Errno 2] No such file or directory: 'output/fedvg.png'"
     ]
    },
    {
     "data": {
      "image/png": "[encoded data removed]",
      "text/plain": [
       "<Figure size 650x420 with 1 Axes>"
      ]
     },
     "metadata": {},
     "output_type": "display_data"
    }
   ],
   "source": [
    "                                                        # VISUALIZE\n",
    "# NOTE: Class indexes now start from 1 so, previous class 0 = now class 1 and so on\n",
    "# FIG 1: Raw similarity plot\n",
    "\n",
    "import pandas as pd\n",
    "import numpy as np\n",
    "import matplotlib.pyplot as plt\n",
    "import seaborn as sns\n",
    "\n",
    "# Generate sample similarity data for four classes (each with 20 values in the range 0 to 1)\n",
    "class1_sim = class0_sims\n",
    "class2_sim = class1_sims\n",
    "class3_sim = class2_sims\n",
    "class4_sim = class3_sims\n",
    "\n",
    "# Set figure size\n",
    "plt.figure(figsize=(6.5, 4.2))  # Set the size of the figure (width, height)\n",
    "\n",
    "# Sample DataFrame with four columns\n",
    "data=pd.DataFrame({'Class 1':class1_sim,'Class 2':class2_sim,'Class 3':class3_sim,'Class 4':class4_sim})\n",
    "df = pd.DataFrame(data)\n",
    "\n",
    "# Plot the probability distributions\n",
    "#plt.figure(figsize=(10, 6))\n",
    "\n",
    "# Define colors and line styles for each column\n",
    "colors = ['#1f77b4', '#ff7f0e', '#2ca02c', '#d62728']\n",
    "linestyles = ['-.', '--', '-', '-']\n",
    "\n",
    "# Plot the probability distributions with unique colors and line styles\n",
    "for column, color, linestyle in zip(df.columns, colors, linestyles):\n",
    "    sns.kdeplot(df[column], label=column, color=color, linestyle=linestyle)\n",
    "\n",
    "#plt.title('Probability Distributions of Four Columns')\n",
    "plt.xlabel('Similarity',fontsize=12)\n",
    "plt.ylabel('Density',fontsize=12)\n",
    "plt.yticks(fontsize=12)  # Set y-tick labels font size\n",
    "plt.legend(loc='upper right',fontsize=12)  # Increase legend font size\n",
    "\n",
    "# Optimize layout\n",
    "plt.tight_layout()\n",
    "# Save the plot to a file\n",
    "plt.savefig('output/fedvg.png', dpi=300, bbox_inches='tight')  # Save as a PNG file with high resolution\n",
    "\n",
    "# Show the plot\n",
    "plt.show()\n"
   ]
  },
  {
   "cell_type": "code",
   "execution_count": 64,
   "id": "c71af78e-28e9-4564-9609-3039455bb875",
   "metadata": {},
   "outputs": [
    {
     "data": {
      "image/png": "[encoded data removed]",
      "text/plain": [
       "<Figure size 750x500 with 1 Axes>"
      ]
     },
     "metadata": {},
     "output_type": "display_data"
    }
   ],
   "source": [
    "# FIG 2: DIFFERENCES IN COSINE SIMILARITY\n",
    "\n",
    "# For each class, we have 20 similarity values — one per image — showing how similar fake and real versions are.These values are very close across classes\n",
    "# So, to highlight subtle differences, compute and plot the difference between each pair of classes, value by value.\n",
    "# This gives you 20 values showing how much the similarity differs for each image between class 0 and class 1.\n",
    "# It's a magnified view of the gap between classes.\n",
    "# If the differences are tiny (e.g., 0.003), the plot helps make that visible and comparable.\n",
    "\n",
    "import numpy as np\n",
    "import matplotlib.pyplot as plt\n",
    "import seaborn as sns\n",
    "import pandas as pd\n",
    "\n",
    "# Differences between class distributions (pairwise)\n",
    "diff_12 = np.array(class2_sim) - np.array(class1_sim)\n",
    "diff_13 = np.array(class3_sim) - np.array(class1_sim)\n",
    "diff_14 = np.array(class4_sim) - np.array(class1_sim)\n",
    "diff_23 = np.array(class3_sim) - np.array(class2_sim)\n",
    "diff_24 = np.array(class4_sim) - np.array(class2_sim)\n",
    "diff_34 = np.array(class4_sim) - np.array(class3_sim)\n",
    "\n",
    "# Create a DataFrame\n",
    "diff_df = pd.DataFrame({\n",
    "    'Class 2 - Class 1': diff_12,\n",
    "    'Class 3 - Class 1': diff_13,\n",
    "    'Class 4 - Class 1': diff_14,\n",
    "    'Class 3 - Class 2': diff_23,\n",
    "    'Class 4 - Class 2': diff_24,\n",
    "    'Class 4 - Class 3': diff_34,\n",
    "})\n",
    "\n",
    "# Plot\n",
    "plt.figure(figsize=(7.5, 5))\n",
    "\n",
    "colors = sns.color_palette(\"tab10\", n_colors=6)\n",
    "\n",
    "for column, color in zip(diff_df.columns, colors):\n",
    "    sns.kdeplot(diff_df[column], label=column, color=color, linestyle='-')\n",
    "\n",
    "plt.axvline(0, color='black', linestyle='--', linewidth=1)  # reference line at 0\n",
    "plt.xlabel('Difference in Similarity', fontsize=12)\n",
    "plt.ylabel('Density', fontsize=12)\n",
    "plt.legend(fontsize=10)\n",
    "plt.title(\"Pairwise Differences in Cosine Similarity\", fontsize=13)\n",
    "plt.tight_layout()\n",
    "plt.show()"
   ]
  },
  {
   "cell_type": "code",
   "execution_count": 65,
   "id": "362bf182-7927-4ce2-bf5a-97299d426bc4",
   "metadata": {},
   "outputs": [],
   "source": [
    "def calculate_interclass_similarity(first, second):\n",
    "    similarities = []\n",
    "\n",
    "    first_images = []\n",
    "    second_images = []\n",
    "    if first == 'class1':\n",
    "        first_images = class0_original_images.copy()\n",
    "    elif first == 'class2':\n",
    "        first_images = class1_original_images.copy()\n",
    "    elif first == 'class3':\n",
    "        first_images = class2_original_images.copy()\n",
    "    elif first == 'class4':\n",
    "        first_images = class3_original_images.copy()\n",
    "\n",
    "    if second == 'class1':\n",
    "        second_images = class0_original_images.copy()\n",
    "    elif second == 'class2':\n",
    "        second_images = class1_original_images.copy()\n",
    "    elif second == 'class3':\n",
    "        second_images = class2_original_images.copy()\n",
    "    elif second == 'class4':\n",
    "        second_images = class3_original_images.copy()\n",
    "    \n",
    "    for i in range(0, 20):\n",
    "        first_image = first_images[i].unsqueeze(dim=0).to(device)\n",
    "        first_image = first_image.repeat(1, 3, 1, 1)\n",
    "        \n",
    "        second_image = second_images[i].unsqueeze(dim=0).to(device)\n",
    "        second_image = second_image.repeat(1, 3, 1, 1)\n",
    "        \n",
    "        features_first = get_feature(first_image)\n",
    "        features_second = get_feature(second_image)\n",
    "\n",
    "        cosine_similarity = 1 - cosine(features_first, features_second)\n",
    "        similarities.append(cosine_similarity)\n",
    "\n",
    "    return similarities"
   ]
  },
  {
   "cell_type": "code",
   "execution_count": 66,
   "id": "5954dfe3-cb08-4551-a5f9-d2082ac3d604",
   "metadata": {},
   "outputs": [],
   "source": [
    "class1class2 = calculate_interclass_similarity('class1', 'class2')"
   ]
  },
  {
   "cell_type": "code",
   "execution_count": 67,
   "id": "cd5ab50d-9d9d-443b-bea5-2d6e302e2bf4",
   "metadata": {},
   "outputs": [
    {
     "data": {
      "text/plain": [
       "[np.float32(0.92668736),\n",
       " np.float32(0.9234537),\n",
       " np.float32(0.8914366),\n",
       " np.float32(0.85996324),\n",
       " np.float32(0.9045878),\n",
       " np.float32(0.8661933),\n",
       " np.float32(0.8529511),\n",
       " np.float32(0.8320824),\n",
       " np.float32(0.81313324),\n",
       " np.float32(0.9028811),\n",
       " np.float32(0.9157124),\n",
       " np.float32(0.83247995),\n",
       " np.float32(0.9164997),\n",
       " np.float32(0.84919524),\n",
       " np.float32(0.90398437),\n",
       " np.float32(0.8242637),\n",
       " np.float32(0.78115076),\n",
       " np.float32(0.80533254),\n",
       " np.float32(0.92938054),\n",
       " np.float32(0.89034694)]"
      ]
     },
     "execution_count": 67,
     "metadata": {},
     "output_type": "execute_result"
    }
   ],
   "source": [
    "class1class2"
   ]
  },
  {
   "cell_type": "code",
   "execution_count": 68,
   "id": "29441f40-36a7-4854-98be-5d128bae49cd",
   "metadata": {},
   "outputs": [
    {
     "ename": "FileNotFoundError",
     "evalue": "[Errno 2] No such file or directory: 'output/VoiceDivergenceD3.png'",
     "output_type": "error",
     "traceback": [
      "\u001b[1;31m---------------------------------------------------------------------------\u001b[0m",
      "\u001b[1;31mFileNotFoundError\u001b[0m                         Traceback (most recent call last)",
      "Cell \u001b[1;32mIn[68], line 44\u001b[0m\n\u001b[0;32m     42\u001b[0m plt\u001b[38;5;241m.\u001b[39mtight_layout()\n\u001b[0;32m     43\u001b[0m \u001b[38;5;66;03m# Save the plot to a file\u001b[39;00m\n\u001b[1;32m---> 44\u001b[0m \u001b[43mplt\u001b[49m\u001b[38;5;241;43m.\u001b[39;49m\u001b[43msavefig\u001b[49m\u001b[43m(\u001b[49m\u001b[38;5;124;43m'\u001b[39;49m\u001b[38;5;124;43moutput/VoiceDivergenceD3.png\u001b[39;49m\u001b[38;5;124;43m'\u001b[39;49m\u001b[43m,\u001b[49m\u001b[43m \u001b[49m\u001b[43mdpi\u001b[49m\u001b[38;5;241;43m=\u001b[39;49m\u001b[38;5;241;43m300\u001b[39;49m\u001b[43m,\u001b[49m\u001b[43m \u001b[49m\u001b[43mbbox_inches\u001b[49m\u001b[38;5;241;43m=\u001b[39;49m\u001b[38;5;124;43m'\u001b[39;49m\u001b[38;5;124;43mtight\u001b[39;49m\u001b[38;5;124;43m'\u001b[39;49m\u001b[43m)\u001b[49m  \u001b[38;5;66;03m# Save as a PNG file with high resolution\u001b[39;00m\n\u001b[0;32m     46\u001b[0m \u001b[38;5;66;03m# Show the plot\u001b[39;00m\n\u001b[0;32m     47\u001b[0m plt\u001b[38;5;241m.\u001b[39mshow()\n",
      "File \u001b[1;32m~\\AppData\\Local\\Programs\\Python\\Python39\\lib\\site-packages\\matplotlib\\pyplot.py:1228\u001b[0m, in \u001b[0;36msavefig\u001b[1;34m(*args, **kwargs)\u001b[0m\n\u001b[0;32m   1225\u001b[0m fig \u001b[38;5;241m=\u001b[39m gcf()\n\u001b[0;32m   1226\u001b[0m \u001b[38;5;66;03m# savefig default implementation has no return, so mypy is unhappy\u001b[39;00m\n\u001b[0;32m   1227\u001b[0m \u001b[38;5;66;03m# presumably this is here because subclasses can return?\u001b[39;00m\n\u001b[1;32m-> 1228\u001b[0m res \u001b[38;5;241m=\u001b[39m fig\u001b[38;5;241m.\u001b[39msavefig(\u001b[38;5;241m*\u001b[39margs, \u001b[38;5;241m*\u001b[39m\u001b[38;5;241m*\u001b[39mkwargs)  \u001b[38;5;66;03m# type: ignore[func-returns-value]\u001b[39;00m\n\u001b[0;32m   1229\u001b[0m fig\u001b[38;5;241m.\u001b[39mcanvas\u001b[38;5;241m.\u001b[39mdraw_idle()  \u001b[38;5;66;03m# Need this if 'transparent=True', to reset colors.\u001b[39;00m\n\u001b[0;32m   1230\u001b[0m \u001b[38;5;28;01mreturn\u001b[39;00m res\n",
      "File \u001b[1;32m~\\AppData\\Local\\Programs\\Python\\Python39\\lib\\site-packages\\matplotlib\\figure.py:3395\u001b[0m, in \u001b[0;36mFigure.savefig\u001b[1;34m(self, fname, transparent, **kwargs)\u001b[0m\n\u001b[0;32m   3393\u001b[0m     \u001b[38;5;28;01mfor\u001b[39;00m ax \u001b[38;5;129;01min\u001b[39;00m \u001b[38;5;28mself\u001b[39m\u001b[38;5;241m.\u001b[39maxes:\n\u001b[0;32m   3394\u001b[0m         _recursively_make_axes_transparent(stack, ax)\n\u001b[1;32m-> 3395\u001b[0m \u001b[38;5;28mself\u001b[39m\u001b[38;5;241m.\u001b[39mcanvas\u001b[38;5;241m.\u001b[39mprint_figure(fname, \u001b[38;5;241m*\u001b[39m\u001b[38;5;241m*\u001b[39mkwargs)\n",
      "File \u001b[1;32m~\\AppData\\Local\\Programs\\Python\\Python39\\lib\\site-packages\\matplotlib\\backend_bases.py:2204\u001b[0m, in \u001b[0;36mFigureCanvasBase.print_figure\u001b[1;34m(self, filename, dpi, facecolor, edgecolor, orientation, format, bbox_inches, pad_inches, bbox_extra_artists, backend, **kwargs)\u001b[0m\n\u001b[0;32m   2200\u001b[0m \u001b[38;5;28;01mtry\u001b[39;00m:\n\u001b[0;32m   2201\u001b[0m     \u001b[38;5;66;03m# _get_renderer may change the figure dpi (as vector formats\u001b[39;00m\n\u001b[0;32m   2202\u001b[0m     \u001b[38;5;66;03m# force the figure dpi to 72), so we need to set it again here.\u001b[39;00m\n\u001b[0;32m   2203\u001b[0m     \u001b[38;5;28;01mwith\u001b[39;00m cbook\u001b[38;5;241m.\u001b[39m_setattr_cm(\u001b[38;5;28mself\u001b[39m\u001b[38;5;241m.\u001b[39mfigure, dpi\u001b[38;5;241m=\u001b[39mdpi):\n\u001b[1;32m-> 2204\u001b[0m         result \u001b[38;5;241m=\u001b[39m print_method(\n\u001b[0;32m   2205\u001b[0m             filename,\n\u001b[0;32m   2206\u001b[0m             facecolor\u001b[38;5;241m=\u001b[39mfacecolor,\n\u001b[0;32m   2207\u001b[0m             edgecolor\u001b[38;5;241m=\u001b[39medgecolor,\n\u001b[0;32m   2208\u001b[0m             orientation\u001b[38;5;241m=\u001b[39morientation,\n\u001b[0;32m   2209\u001b[0m             bbox_inches_restore\u001b[38;5;241m=\u001b[39m_bbox_inches_restore,\n\u001b[0;32m   2210\u001b[0m             \u001b[38;5;241m*\u001b[39m\u001b[38;5;241m*\u001b[39mkwargs)\n\u001b[0;32m   2211\u001b[0m \u001b[38;5;28;01mfinally\u001b[39;00m:\n\u001b[0;32m   2212\u001b[0m     \u001b[38;5;28;01mif\u001b[39;00m bbox_inches \u001b[38;5;129;01mand\u001b[39;00m restore_bbox:\n",
      "File \u001b[1;32m~\\AppData\\Local\\Programs\\Python\\Python39\\lib\\site-packages\\matplotlib\\backend_bases.py:2054\u001b[0m, in \u001b[0;36mFigureCanvasBase._switch_canvas_and_return_print_method.<locals>.<lambda>\u001b[1;34m(*args, **kwargs)\u001b[0m\n\u001b[0;32m   2050\u001b[0m     optional_kws \u001b[38;5;241m=\u001b[39m {  \u001b[38;5;66;03m# Passed by print_figure for other renderers.\u001b[39;00m\n\u001b[0;32m   2051\u001b[0m         \u001b[38;5;124m\"\u001b[39m\u001b[38;5;124mdpi\u001b[39m\u001b[38;5;124m\"\u001b[39m, \u001b[38;5;124m\"\u001b[39m\u001b[38;5;124mfacecolor\u001b[39m\u001b[38;5;124m\"\u001b[39m, \u001b[38;5;124m\"\u001b[39m\u001b[38;5;124medgecolor\u001b[39m\u001b[38;5;124m\"\u001b[39m, \u001b[38;5;124m\"\u001b[39m\u001b[38;5;124morientation\u001b[39m\u001b[38;5;124m\"\u001b[39m,\n\u001b[0;32m   2052\u001b[0m         \u001b[38;5;124m\"\u001b[39m\u001b[38;5;124mbbox_inches_restore\u001b[39m\u001b[38;5;124m\"\u001b[39m}\n\u001b[0;32m   2053\u001b[0m     skip \u001b[38;5;241m=\u001b[39m optional_kws \u001b[38;5;241m-\u001b[39m {\u001b[38;5;241m*\u001b[39minspect\u001b[38;5;241m.\u001b[39msignature(meth)\u001b[38;5;241m.\u001b[39mparameters}\n\u001b[1;32m-> 2054\u001b[0m     print_method \u001b[38;5;241m=\u001b[39m functools\u001b[38;5;241m.\u001b[39mwraps(meth)(\u001b[38;5;28;01mlambda\u001b[39;00m \u001b[38;5;241m*\u001b[39margs, \u001b[38;5;241m*\u001b[39m\u001b[38;5;241m*\u001b[39mkwargs: meth(\n\u001b[0;32m   2055\u001b[0m         \u001b[38;5;241m*\u001b[39margs, \u001b[38;5;241m*\u001b[39m\u001b[38;5;241m*\u001b[39m{k: v \u001b[38;5;28;01mfor\u001b[39;00m k, v \u001b[38;5;129;01min\u001b[39;00m kwargs\u001b[38;5;241m.\u001b[39mitems() \u001b[38;5;28;01mif\u001b[39;00m k \u001b[38;5;129;01mnot\u001b[39;00m \u001b[38;5;129;01min\u001b[39;00m skip}))\n\u001b[0;32m   2056\u001b[0m \u001b[38;5;28;01melse\u001b[39;00m:  \u001b[38;5;66;03m# Let third-parties do as they see fit.\u001b[39;00m\n\u001b[0;32m   2057\u001b[0m     print_method \u001b[38;5;241m=\u001b[39m meth\n",
      "File \u001b[1;32m~\\AppData\\Local\\Programs\\Python\\Python39\\lib\\site-packages\\matplotlib\\backends\\backend_agg.py:496\u001b[0m, in \u001b[0;36mFigureCanvasAgg.print_png\u001b[1;34m(self, filename_or_obj, metadata, pil_kwargs)\u001b[0m\n\u001b[0;32m    449\u001b[0m \u001b[38;5;28;01mdef\u001b[39;00m\u001b[38;5;250m \u001b[39m\u001b[38;5;21mprint_png\u001b[39m(\u001b[38;5;28mself\u001b[39m, filename_or_obj, \u001b[38;5;241m*\u001b[39m, metadata\u001b[38;5;241m=\u001b[39m\u001b[38;5;28;01mNone\u001b[39;00m, pil_kwargs\u001b[38;5;241m=\u001b[39m\u001b[38;5;28;01mNone\u001b[39;00m):\n\u001b[0;32m    450\u001b[0m \u001b[38;5;250m    \u001b[39m\u001b[38;5;124;03m\"\"\"\u001b[39;00m\n\u001b[0;32m    451\u001b[0m \u001b[38;5;124;03m    Write the figure to a PNG file.\u001b[39;00m\n\u001b[0;32m    452\u001b[0m \n\u001b[1;32m   (...)\u001b[0m\n\u001b[0;32m    494\u001b[0m \u001b[38;5;124;03m        *metadata*, including the default 'Software' key.\u001b[39;00m\n\u001b[0;32m    495\u001b[0m \u001b[38;5;124;03m    \"\"\"\u001b[39;00m\n\u001b[1;32m--> 496\u001b[0m     \u001b[38;5;28;43mself\u001b[39;49m\u001b[38;5;241;43m.\u001b[39;49m\u001b[43m_print_pil\u001b[49m\u001b[43m(\u001b[49m\u001b[43mfilename_or_obj\u001b[49m\u001b[43m,\u001b[49m\u001b[43m \u001b[49m\u001b[38;5;124;43m\"\u001b[39;49m\u001b[38;5;124;43mpng\u001b[39;49m\u001b[38;5;124;43m\"\u001b[39;49m\u001b[43m,\u001b[49m\u001b[43m \u001b[49m\u001b[43mpil_kwargs\u001b[49m\u001b[43m,\u001b[49m\u001b[43m \u001b[49m\u001b[43mmetadata\u001b[49m\u001b[43m)\u001b[49m\n",
      "File \u001b[1;32m~\\AppData\\Local\\Programs\\Python\\Python39\\lib\\site-packages\\matplotlib\\backends\\backend_agg.py:445\u001b[0m, in \u001b[0;36mFigureCanvasAgg._print_pil\u001b[1;34m(self, filename_or_obj, fmt, pil_kwargs, metadata)\u001b[0m\n\u001b[0;32m    440\u001b[0m \u001b[38;5;250m\u001b[39m\u001b[38;5;124;03m\"\"\"\u001b[39;00m\n\u001b[0;32m    441\u001b[0m \u001b[38;5;124;03mDraw the canvas, then save it using `.image.imsave` (to which\u001b[39;00m\n\u001b[0;32m    442\u001b[0m \u001b[38;5;124;03m*pil_kwargs* and *metadata* are forwarded).\u001b[39;00m\n\u001b[0;32m    443\u001b[0m \u001b[38;5;124;03m\"\"\"\u001b[39;00m\n\u001b[0;32m    444\u001b[0m FigureCanvasAgg\u001b[38;5;241m.\u001b[39mdraw(\u001b[38;5;28mself\u001b[39m)\n\u001b[1;32m--> 445\u001b[0m \u001b[43mmpl\u001b[49m\u001b[38;5;241;43m.\u001b[39;49m\u001b[43mimage\u001b[49m\u001b[38;5;241;43m.\u001b[39;49m\u001b[43mimsave\u001b[49m\u001b[43m(\u001b[49m\n\u001b[0;32m    446\u001b[0m \u001b[43m    \u001b[49m\u001b[43mfilename_or_obj\u001b[49m\u001b[43m,\u001b[49m\u001b[43m \u001b[49m\u001b[38;5;28;43mself\u001b[39;49m\u001b[38;5;241;43m.\u001b[39;49m\u001b[43mbuffer_rgba\u001b[49m\u001b[43m(\u001b[49m\u001b[43m)\u001b[49m\u001b[43m,\u001b[49m\u001b[43m \u001b[49m\u001b[38;5;28;43mformat\u001b[39;49m\u001b[38;5;241;43m=\u001b[39;49m\u001b[43mfmt\u001b[49m\u001b[43m,\u001b[49m\u001b[43m \u001b[49m\u001b[43morigin\u001b[49m\u001b[38;5;241;43m=\u001b[39;49m\u001b[38;5;124;43m\"\u001b[39;49m\u001b[38;5;124;43mupper\u001b[39;49m\u001b[38;5;124;43m\"\u001b[39;49m\u001b[43m,\u001b[49m\n\u001b[0;32m    447\u001b[0m \u001b[43m    \u001b[49m\u001b[43mdpi\u001b[49m\u001b[38;5;241;43m=\u001b[39;49m\u001b[38;5;28;43mself\u001b[39;49m\u001b[38;5;241;43m.\u001b[39;49m\u001b[43mfigure\u001b[49m\u001b[38;5;241;43m.\u001b[39;49m\u001b[43mdpi\u001b[49m\u001b[43m,\u001b[49m\u001b[43m \u001b[49m\u001b[43mmetadata\u001b[49m\u001b[38;5;241;43m=\u001b[39;49m\u001b[43mmetadata\u001b[49m\u001b[43m,\u001b[49m\u001b[43m \u001b[49m\u001b[43mpil_kwargs\u001b[49m\u001b[38;5;241;43m=\u001b[39;49m\u001b[43mpil_kwargs\u001b[49m\u001b[43m)\u001b[49m\n",
      "File \u001b[1;32m~\\AppData\\Local\\Programs\\Python\\Python39\\lib\\site-packages\\matplotlib\\image.py:1676\u001b[0m, in \u001b[0;36mimsave\u001b[1;34m(fname, arr, vmin, vmax, cmap, format, origin, dpi, metadata, pil_kwargs)\u001b[0m\n\u001b[0;32m   1674\u001b[0m pil_kwargs\u001b[38;5;241m.\u001b[39msetdefault(\u001b[38;5;124m\"\u001b[39m\u001b[38;5;124mformat\u001b[39m\u001b[38;5;124m\"\u001b[39m, \u001b[38;5;28mformat\u001b[39m)\n\u001b[0;32m   1675\u001b[0m pil_kwargs\u001b[38;5;241m.\u001b[39msetdefault(\u001b[38;5;124m\"\u001b[39m\u001b[38;5;124mdpi\u001b[39m\u001b[38;5;124m\"\u001b[39m, (dpi, dpi))\n\u001b[1;32m-> 1676\u001b[0m image\u001b[38;5;241m.\u001b[39msave(fname, \u001b[38;5;241m*\u001b[39m\u001b[38;5;241m*\u001b[39mpil_kwargs)\n",
      "File \u001b[1;32m~\\AppData\\Local\\Programs\\Python\\Python39\\lib\\site-packages\\PIL\\Image.py:2436\u001b[0m, in \u001b[0;36mImage.save\u001b[1;34m(self, fp, format, **params)\u001b[0m\n\u001b[0;32m   2434\u001b[0m         fp \u001b[38;5;241m=\u001b[39m builtins\u001b[38;5;241m.\u001b[39mopen(filename, \u001b[38;5;124m\"\u001b[39m\u001b[38;5;124mr+b\u001b[39m\u001b[38;5;124m\"\u001b[39m)\n\u001b[0;32m   2435\u001b[0m     \u001b[38;5;28;01melse\u001b[39;00m:\n\u001b[1;32m-> 2436\u001b[0m         fp \u001b[38;5;241m=\u001b[39m \u001b[43mbuiltins\u001b[49m\u001b[38;5;241;43m.\u001b[39;49m\u001b[43mopen\u001b[49m\u001b[43m(\u001b[49m\u001b[43mfilename\u001b[49m\u001b[43m,\u001b[49m\u001b[43m \u001b[49m\u001b[38;5;124;43m\"\u001b[39;49m\u001b[38;5;124;43mw+b\u001b[39;49m\u001b[38;5;124;43m\"\u001b[39;49m\u001b[43m)\u001b[49m\n\u001b[0;32m   2438\u001b[0m \u001b[38;5;28;01mtry\u001b[39;00m:\n\u001b[0;32m   2439\u001b[0m     save_handler(\u001b[38;5;28mself\u001b[39m, fp, filename)\n",
      "\u001b[1;31mFileNotFoundError\u001b[0m: [Errno 2] No such file or directory: 'output/VoiceDivergenceD3.png'"
     ]
    },
    {
     "data": {
      "image/png": "[encoded data removed]",
      "text/plain": [
       "<Figure size 650x420 with 1 Axes>"
      ]
     },
     "metadata": {},
     "output_type": "display_data"
    }
   ],
   "source": [
    "                                                # FIG: 3 -> INTERCLASS SIMILARITIES\n",
    "\n",
    "import pandas as pd\n",
    "import numpy as np\n",
    "import matplotlib.pyplot as plt\n",
    "import seaborn as sns\n",
    "\n",
    "# Set figure size\n",
    "plt.figure(figsize=(6.5, 4.2))  # Set the size of the figure (width, height)\n",
    "\n",
    "# Generate sample similarity data for four classes (each with 20 values in the range 0 to 1)\n",
    "np.random.seed(42)  # For reproducibility\n",
    "class1class2 = calculate_interclass_similarity('class1', 'class2')\n",
    "class1class3 = calculate_interclass_similarity('class1', 'class3')\n",
    "class1class4 = calculate_interclass_similarity('class1', 'class4')\n",
    "class2class3 = calculate_interclass_similarity('class2', 'class3')\n",
    "class2class4 = calculate_interclass_similarity('class2', 'class4')\n",
    "class3class4 = calculate_interclass_similarity('class3', 'class4')\n",
    "\n",
    "# Sample DataFrame with four columns\n",
    "data=pd.DataFrame({'Class1 vs Class2':class1class2,'Class1 vs Class3':class1class3,'Class1 vs Class4':class1class4,'Class2 vs Class3':class2class3,'Class2 vs Class4':class2class4,'Class3 vs Class4':class3class4})\n",
    "df = pd.DataFrame(data)\n",
    "\n",
    "# Plot the probability distributions\n",
    "#plt.figure(figsize=(10, 6))\n",
    "\n",
    "# Define colors and line styles for each column\n",
    "colors = ['#1f77b4', '#ff7f0e', '#2ca02c', '#d62728', '#9467bd', '#8c564b']\n",
    "linestyles = ['-.', '--', '-', '-', '-.', '--']\n",
    "\n",
    "# Plot the probability distributions with unique colors and line styles\n",
    "for column, color, linestyle in zip(df.columns, colors, linestyles):\n",
    "    sns.kdeplot(df[column], label=column, color=color, linestyle=linestyle)\n",
    "\n",
    "#plt.title('Probability Distributions of Four Columns')\n",
    "plt.xlabel('Similarity',fontsize=12)\n",
    "plt.ylabel('Density',fontsize=12)\n",
    "plt.yticks(fontsize=12)  # Set y-tick labels font size\n",
    "plt.legend(loc='upper right',fontsize=12)  # Increase legend font size\n",
    "\n",
    "# Optimize layout\n",
    "plt.tight_layout()\n",
    "# Save the plot to a file\n",
    "plt.savefig('output/VoiceDivergenceD3.png', dpi=300, bbox_inches='tight')  # Save as a PNG file with high resolution\n",
    "\n",
    "# Show the plot\n",
    "plt.show()"
   ]
  },
  {
   "cell_type": "code",
   "execution_count": null,
   "id": "19754eee-5c1e-47e6-bbaa-b2cef05a1641",
   "metadata": {},
   "outputs": [],
   "source": []
  }
 ],
 "metadata": {
  "kernelspec": {
   "display_name": "Python 3 (ipykernel)",
   "language": "python",
   "name": "python3"
  },
  "language_info": {
   "codemirror_mode": {
    "name": "ipython",
    "version": 3
   },
   "file_extension": ".py",
   "mimetype": "text/x-python",
   "name": "python",
   "nbconvert_exporter": "python",
   "pygments_lexer": "ipython3",
   "version": "3.9.7"
  }
 },
 "nbformat": 4,
 "nbformat_minor": 5
}
