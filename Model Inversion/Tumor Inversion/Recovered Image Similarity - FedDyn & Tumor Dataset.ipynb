{
 "cells": [
  {
   "cell_type": "code",
   "execution_count": 1,
   "id": "646b38c2-386a-4f83-a983-ea764ad8267f",
   "metadata": {},
   "outputs": [],
   "source": [
    "# Attempting to recover training data using model's parameters and a DCGAN that was trained on similar data\n",
    "# Author: Suraj Neupane\n",
    "# Written from scratch as a part of a Research Project 2025, Concordia University of Edmonton.\n",
    "import numpy as np\n",
    "\n",
    "import torch\n",
    "from torch import nn\n",
    "from torch.nn import functional\n",
    "\n",
    "from torch.utils import data\n",
    "from torch.utils.data import DataLoader\n",
    "\n",
    "import torchvision\n",
    "from torchvision import datasets\n",
    "from torchvision import transforms\n",
    "\n",
    "import pickle\n",
    "\n",
    "import matplotlib.pyplot as plt\n",
    "%matplotlib inline"
   ]
  },
  {
   "cell_type": "code",
   "execution_count": 2,
   "id": "8b80ddb2-ed75-4870-85b4-9300fce0df7e",
   "metadata": {},
   "outputs": [
    {
     "data": {
      "text/plain": [
       "'2.5.1+cu118'"
      ]
     },
     "execution_count": 2,
     "metadata": {},
     "output_type": "execute_result"
    }
   ],
   "source": [
    "torch.__version__"
   ]
  },
  {
   "cell_type": "code",
   "execution_count": 3,
   "id": "d6950585-eb31-4f61-bd60-5bf8716fcdef",
   "metadata": {},
   "outputs": [],
   "source": [
    "device = 'cuda' if torch.cuda.is_available() else 'cpu'"
   ]
  },
  {
   "cell_type": "code",
   "execution_count": 4,
   "id": "36c47e07-6b7d-4123-a59d-5d465f9ef280",
   "metadata": {},
   "outputs": [
    {
     "data": {
      "text/plain": [
       "'cuda'"
      ]
     },
     "execution_count": 4,
     "metadata": {},
     "output_type": "execute_result"
    }
   ],
   "source": [
    "device"
   ]
  },
  {
   "cell_type": "code",
   "execution_count": 5,
   "id": "b852ca55-f33e-469f-b7b9-e00d21124927",
   "metadata": {},
   "outputs": [],
   "source": [
    "# DCGAN Implementation Class\n",
    "# Discriminator\n",
    "class Discriminator(nn.Module):\n",
    "    def __init__(self, img_channels, features_d):\n",
    "        super().__init__()\n",
    "        self.disc = nn.Sequential(\n",
    "            # Input shape: img_channels x 64 x 64\n",
    "            nn.Conv2d(\n",
    "              in_channels=img_channels, out_channels=features_d, kernel_size=4, stride=2, padding=1\n",
    "            ), # Output shape: features_d x 32 x 32\n",
    "            nn.LeakyReLU(0.2),\n",
    "            self._block(features_d, features_d*2, 4, 2, 1), # Output shape: features_d*2 x 16 x 16\n",
    "            self._block(features_d*2, features_d*4, 4, 2, 1), # Output shape: features_d*4 x 8 x 8\n",
    "            self._block(features_d*4, features_d*8, 4, 2, 1), # Output shape: features_d*8 x 4 x 4\n",
    "           \n",
    "            nn.Conv2d(in_channels=features_d*8, out_channels=1, kernel_size=4, stride=2, padding=0), # Output shape: 1 x 1\n",
    "            nn.Sigmoid(),\n",
    "        )\n",
    "\n",
    "    def _block(self, in_channels, out_channels, kernel_size, stride, padding):\n",
    "        return nn.Sequential(\n",
    "            nn.Conv2d(in_channels, out_channels, kernel_size, stride, padding, bias=False),\n",
    "            nn.BatchNorm2d(out_channels),\n",
    "            nn.LeakyReLU(0.2),\n",
    "        )\n",
    "\n",
    "    def forward(self, X):\n",
    "        return self.disc(X)\n"
   ]
  },
  {
   "cell_type": "code",
   "execution_count": 6,
   "id": "5afe02e5-61d3-4f25-8933-8484e519cd4a",
   "metadata": {},
   "outputs": [],
   "source": [
    "# Generator\n",
    "class Generator(nn.Module):\n",
    "    def __init__(self, z_dim, img_channels, features_g):\n",
    "        super().__init__()\n",
    "        self.gen = nn.Sequential(\n",
    "            self._block(z_dim, features_g*16, 4, 1, 0), # z_dim: (batch_size, 100, 1, 1) -> (batch_size, 1024, 4, 4)\n",
    "            self._block(features_g*16, features_g*8, 4, 2, 1), # z_dim: (batch_size, 1024, 4, 4) -> (batch_size, 512, 8, 8)\n",
    "            self._block(features_g*8, features_g*4, 4, 2, 1), # z_dim: (batch_size, 512, 8, 8) -> (batch_size, 256, 16, 16)\n",
    "            self._block(features_g*4, features_g*2, 4, 2, 1), # z_dim: (batch_size, 128, 16, 16) -> (batch_size, 64, 32, 32)\n",
    "            nn.ConvTranspose2d(\n",
    "                in_channels=features_g*2, out_channels=img_channels, kernel_size=4, stride=2, padding=1 # z_dim: (batch_size, 64, 32, 32) -> (batch_size, 1, 64, 64)\n",
    "            ),\n",
    "            nn.Tanh(),\n",
    "        )\n",
    "        \n",
    "    def _block(self, in_channels, out_channels, kernel_size, stride, padding):\n",
    "        return nn.Sequential(\n",
    "            nn.ConvTranspose2d(\n",
    "                in_channels, out_channels, kernel_size, stride, padding, bias=False,\n",
    "            ),\n",
    "            nn.InstanceNorm2d(out_channels, affine=True),\n",
    "            nn.ReLU(),\n",
    "        )\n",
    "\n",
    "    def forward(self, X):\n",
    "        return self.gen(X)"
   ]
  },
  {
   "cell_type": "code",
   "execution_count": 7,
   "id": "48c1be35-d58a-4d0c-990d-9250fbdbf1b3",
   "metadata": {},
   "outputs": [],
   "source": [
    "# Hyperparams\n",
    "z_dim = 100\n",
    "img_channels = 1\n",
    "features_disc = 64\n",
    "features_gen = 64"
   ]
  },
  {
   "cell_type": "code",
   "execution_count": 8,
   "id": "f2dc1f40-5c2e-4903-b2e7-7abe5cae9772",
   "metadata": {},
   "outputs": [],
   "source": [
    "# Create the model instances\n",
    "gen = Generator(z_dim, img_channels, features_gen).to(device)\n",
    "disc = Discriminator(img_channels, features_disc).to(device)"
   ]
  },
  {
   "cell_type": "code",
   "execution_count": 9,
   "id": "bc7a5deb-f8d8-41d4-aed3-d012d39a84b9",
   "metadata": {},
   "outputs": [
    {
     "data": {
      "text/plain": [
       "<All keys matched successfully>"
      ]
     },
     "execution_count": 9,
     "metadata": {},
     "output_type": "execute_result"
    }
   ],
   "source": [
    "# Load the trained GAN\n",
    "gen.load_state_dict(torch.load('saved models/Generator2.pth', weights_only=True))\n",
    "disc.load_state_dict(torch.load('saved models/Discriminator2.pth', weights_only=True))"
   ]
  },
  {
   "cell_type": "code",
   "execution_count": 10,
   "id": "a504e932-e168-4bb8-88cc-eea0810aafb0",
   "metadata": {},
   "outputs": [],
   "source": [
    "# Generate a random fake image\n",
    "noise = torch.randn(1, z_dim, 1, 1).to(device)\n",
    "fake_img = gen(noise)"
   ]
  },
  {
   "cell_type": "code",
   "execution_count": 11,
   "id": "98b5d73f-b130-4bc1-a868-c225bd2abe62",
   "metadata": {},
   "outputs": [
    {
     "data": {
      "text/plain": [
       "torch.Size([1, 1, 64, 64])"
      ]
     },
     "execution_count": 11,
     "metadata": {},
     "output_type": "execute_result"
    }
   ],
   "source": [
    "fake_img.shape"
   ]
  },
  {
   "cell_type": "code",
   "execution_count": 12,
   "id": "9d19338c-18e4-4b6e-842f-a225718fa8bb",
   "metadata": {},
   "outputs": [
    {
     "name": "stdout",
     "output_type": "stream",
     "text": [
      "torch.Size([64, 64])\n"
     ]
    },
    {
     "data": {
      "text/plain": [
       "<matplotlib.image.AxesImage at 0x1ca927db9d0>"
      ]
     },
     "execution_count": 12,
     "metadata": {},
     "output_type": "execute_result"
    },
    {
     "data": {
      "image/png": "[encoded data removed]",
      "text/plain": [
       "<Figure size 640x480 with 1 Axes>"
      ]
     },
     "metadata": {},
     "output_type": "display_data"
    }
   ],
   "source": [
    "fake_img = fake_img.squeeze()\n",
    "print(fake_img.shape)\n",
    "plt.axis(False)\n",
    "plt.title('Fake Generated Image:')\n",
    "plt.imshow(fake_img.cpu().detach(), cmap='gray')"
   ]
  },
  {
   "cell_type": "code",
   "execution_count": 13,
   "id": "cf2aefac-a759-4335-a3de-2065d6a6a9a5",
   "metadata": {},
   "outputs": [],
   "source": [
    "# Target Model\n",
    "class TFCNN(nn.Module):\n",
    "    def __init__(self, n_classes):\n",
    "        super().__init__()\n",
    "        self.n_classes = n_classes\n",
    "\n",
    "        self.encoder = nn.Sequential(\n",
    "            nn.Conv2d(3, 32, 3, stride=1, padding=1),\n",
    "            nn.ReLU(True),\n",
    "            nn.MaxPool2d(2),\n",
    "            nn.Conv2d(32, 64, 3, stride=1, padding=1),\n",
    "            nn.ReLU(True),\n",
    "            nn.MaxPool2d(2),\n",
    "            nn.Conv2d(64, 64, 3, stride=1, padding=1),\n",
    "            nn.ReLU(True),\n",
    "            nn.MaxPool2d(2),\n",
    "            Reshape(),\n",
    "        )\n",
    "\n",
    "        self.h_size = 64 * 4 * 4\n",
    "\n",
    "        self.classifier = nn.Sequential(\n",
    "            nn.Linear(64 * 4 * 4, 128),\n",
    "            nn.ReLU(True),\n",
    "            nn.Linear(128, n_classes)\n",
    "        )\n",
    "\n",
    "    def forward(self, xs):\n",
    "        code = self.encoder(xs)\n",
    "        logits = self.classifier(code)\n",
    "        return code, logits\n"
   ]
  },
  {
   "cell_type": "code",
   "execution_count": 14,
   "id": "d28876e2-91ee-4ebf-bc52-b71dc82edfa2",
   "metadata": {},
   "outputs": [],
   "source": [
    "class Reshape(nn.Module):\n",
    "    def __init__(self,):\n",
    "        super().__init__()\n",
    "\n",
    "    def forward(self, xs):\n",
    "        return xs.reshape((xs.shape[0], -1))"
   ]
  },
  {
   "cell_type": "code",
   "execution_count": 15,
   "id": "dd57210c-2c18-4651-8f29-be94a7a7a88f",
   "metadata": {},
   "outputs": [],
   "source": [
    "class ClassifyNet(nn.Module):\n",
    "    def __init__(self, net, init_way, n_classes, input_size=None):\n",
    "        super().__init__()\n",
    "        self.net = net\n",
    "        self.init_way = init_way\n",
    "        self.n_classes = n_classes\n",
    "\n",
    "        model = TFCNN(n_classes)\n",
    "\n",
    "        self.h_size = model.h_size\n",
    "\n",
    "        # Convo and pool layers\n",
    "        self.encoder = model.encoder\n",
    "\n",
    "        # Classifier layer\n",
    "        self.classifier = nn.Linear(\n",
    "            self.h_size, self.n_classes, bias=False\n",
    "        )\n",
    "\n",
    "        if self.init_way == \"orth\":\n",
    "            ws = get_orth_weights(self.h_size, self.n_classes)\n",
    "            self.classifier.load_state_dict({\"weight\": ws})\n",
    "\n",
    "    def forward(self, xs):\n",
    "        hs = self.encoder(xs)\n",
    "        logits = self.classifier(hs)\n",
    "        return hs, logits"
   ]
  },
  {
   "cell_type": "code",
   "execution_count": 16,
   "id": "83ea3c08-0470-4c9a-ba15-8328a316b3ab",
   "metadata": {},
   "outputs": [],
   "source": [
    "def load_target_model(base_net, n_classes, path):\n",
    "    # Create the base model\n",
    "    model = ClassifyNet(net=base_net, init_way='none', n_classes=n_classes)\n",
    "    # Load the model\n",
    "    model.load_state_dict(torch.load(path, weights_only=True))\n",
    "\n",
    "    return model"
   ]
  },
  {
   "cell_type": "code",
   "execution_count": 17,
   "id": "0880f1aa-9d08-445a-85ac-f1ff3cebde04",
   "metadata": {},
   "outputs": [
    {
     "name": "stdout",
     "output_type": "stream",
     "text": [
      "Model loaded successfully!\n",
      "Number of parameters in the loaded model: 60416\n"
     ]
    }
   ],
   "source": [
    "# Target Model Loading\n",
    "BASE_NET = 'TFCNN'\n",
    "DATASET = 'tumor4'\n",
    "N_CLASSES = 4\n",
    "\n",
    "target_model = load_target_model(base_net=BASE_NET, n_classes=N_CLASSES, path='saved models/feddyn_global_model.path').to(device)\n",
    "print('Model loaded successfully!')\n",
    "target_model.eval()\n",
    "\n",
    "num_params = sum(p.numel() for p in target_model.parameters())\n",
    "print('Number of parameters in the loaded model:', num_params)\n"
   ]
  },
  {
   "cell_type": "code",
   "execution_count": 18,
   "id": "f843f19e-b2a5-4ffe-b22b-de4ff93c5643",
   "metadata": {},
   "outputs": [],
   "source": [
    "# BEGIN BATCH MODEL INVERSION\n",
    "img_count = 20\n",
    "latent_vectors = torch.randn(img_count, z_dim, 1, 1, requires_grad=True) # Start with 20 random noises"
   ]
  },
  {
   "cell_type": "code",
   "execution_count": 19,
   "id": "c21320ed-d5ac-4919-aaad-8cfa093998a6",
   "metadata": {},
   "outputs": [],
   "source": [
    "def recover_images(count, target_image_class, latent_vectors):\n",
    "    optimized_latent_vectors = []\n",
    "    \n",
    "    for x in range(0, count):\n",
    "        z = latent_vectors[x].unsqueeze(dim=0).clone().detach().requires_grad_(True)\n",
    "        \n",
    "        learning_rate = 0.01\n",
    "        target_class = 1 # The second class\n",
    "        \n",
    "        # Create the optimizer\n",
    "        optimizer = torch.optim.Adam([z], lr=learning_rate)\n",
    "        \n",
    "        # Loss function (e.g., Cross-Entropy with classifier outputs)\n",
    "        loss_fn = nn.CrossEntropyLoss()\n",
    "        target_class = torch.tensor([target_image_class])  # Set the target class\n",
    "    \n",
    "        # Optimization loop to find the best z\n",
    "        rounds = 500\n",
    "        for i in range(rounds):\n",
    "            optimizer.zero_grad()\n",
    "            \n",
    "            generated_image = gen(z.to(device))  # Generate an image from the latent vector\n",
    "            generated_image = generated_image.repeat(1, 3, 1, 1)\n",
    "            generated_image = functional.interpolate(generated_image, size=(32, 32), mode='nearest')\n",
    "            #print(generated_image.shape)\n",
    "            hs, prediction_logits = target_model(generated_image)  # Classifier output\n",
    "            #print(prediction_logits)\n",
    "            #print(type(prediction_logits))\n",
    "            loss = loss_fn(prediction_logits, target_class.to(device))  # Minimize difference with true class\n",
    "            loss.backward()\n",
    "            optimizer.step()\n",
    "            \n",
    "            if i % 50 == 0:\n",
    "                print(f\"Generating Image Number: {x+1} for target class {target_class}. Step {i}, Loss: {loss.item()}\")\n",
    "    \n",
    "        optimized_latent_vectors.append(z)\n",
    "        \n",
    "    return optimized_latent_vectors"
   ]
  },
  {
   "cell_type": "code",
   "execution_count": 20,
   "id": "9ebc9533-23ca-4d44-8aea-9d134281b3a4",
   "metadata": {
    "scrolled": true
   },
   "outputs": [
    {
     "name": "stdout",
     "output_type": "stream",
     "text": [
      "Generating Image Number: 1 for target class tensor([0]). Step 0, Loss: 0.45369791984558105\n",
      "Generating Image Number: 1 for target class tensor([0]). Step 50, Loss: 0.11707218736410141\n",
      "Generating Image Number: 1 for target class tensor([0]). Step 100, Loss: 0.0801784098148346\n",
      "Generating Image Number: 1 for target class tensor([0]). Step 150, Loss: 0.06061486154794693\n",
      "Generating Image Number: 1 for target class tensor([0]). Step 200, Loss: 0.04728388413786888\n",
      "Generating Image Number: 1 for target class tensor([0]). Step 250, Loss: 0.03811497241258621\n",
      "Generating Image Number: 1 for target class tensor([0]). Step 300, Loss: 0.03206920251250267\n",
      "Generating Image Number: 1 for target class tensor([0]). Step 350, Loss: 0.02787674032151699\n",
      "Generating Image Number: 1 for target class tensor([0]). Step 400, Loss: 0.024513235315680504\n",
      "Generating Image Number: 1 for target class tensor([0]). Step 450, Loss: 0.022019661962985992\n",
      "Generating Image Number: 2 for target class tensor([0]). Step 0, Loss: 1.0569753646850586\n",
      "Generating Image Number: 2 for target class tensor([0]). Step 50, Loss: 0.08348193764686584\n",
      "Generating Image Number: 2 for target class tensor([0]). Step 100, Loss: 0.05582692101597786\n",
      "Generating Image Number: 2 for target class tensor([0]). Step 150, Loss: 0.04861912503838539\n",
      "Generating Image Number: 2 for target class tensor([0]). Step 200, Loss: 0.04281650111079216\n",
      "Generating Image Number: 2 for target class tensor([0]). Step 250, Loss: 0.037322185933589935\n",
      "Generating Image Number: 2 for target class tensor([0]). Step 300, Loss: 0.03308035060763359\n",
      "Generating Image Number: 2 for target class tensor([0]). Step 350, Loss: 0.03021259233355522\n",
      "Generating Image Number: 2 for target class tensor([0]). Step 400, Loss: 0.028042161837220192\n",
      "Generating Image Number: 2 for target class tensor([0]). Step 450, Loss: 0.025541115552186966\n",
      "Generating Image Number: 3 for target class tensor([0]). Step 0, Loss: 9.980020523071289\n",
      "Generating Image Number: 3 for target class tensor([0]). Step 50, Loss: 0.3623497188091278\n",
      "Generating Image Number: 3 for target class tensor([0]). Step 100, Loss: 0.2633773684501648\n",
      "Generating Image Number: 3 for target class tensor([0]). Step 150, Loss: 0.22222855687141418\n",
      "Generating Image Number: 3 for target class tensor([0]). Step 200, Loss: 0.1969800889492035\n",
      "Generating Image Number: 3 for target class tensor([0]). Step 250, Loss: 0.17490427196025848\n",
      "Generating Image Number: 3 for target class tensor([0]). Step 300, Loss: 0.15568409860134125\n",
      "Generating Image Number: 3 for target class tensor([0]). Step 350, Loss: 0.1408216953277588\n",
      "Generating Image Number: 3 for target class tensor([0]). Step 400, Loss: 0.12864844501018524\n",
      "Generating Image Number: 3 for target class tensor([0]). Step 450, Loss: 0.11821167171001434\n",
      "Generating Image Number: 4 for target class tensor([0]). Step 0, Loss: 2.3841855067985307e-07\n",
      "Generating Image Number: 4 for target class tensor([0]). Step 50, Loss: 1.1920928244535389e-07\n",
      "Generating Image Number: 4 for target class tensor([0]). Step 100, Loss: 1.1920928244535389e-07\n",
      "Generating Image Number: 4 for target class tensor([0]). Step 150, Loss: 1.1920928244535389e-07\n",
      "Generating Image Number: 4 for target class tensor([0]). Step 200, Loss: 1.1920928244535389e-07\n",
      "Generating Image Number: 4 for target class tensor([0]). Step 250, Loss: 0.0\n",
      "Generating Image Number: 4 for target class tensor([0]). Step 300, Loss: 0.0\n",
      "Generating Image Number: 4 for target class tensor([0]). Step 350, Loss: 0.0\n",
      "Generating Image Number: 4 for target class tensor([0]). Step 400, Loss: 0.0\n",
      "Generating Image Number: 4 for target class tensor([0]). Step 450, Loss: 0.0\n",
      "Generating Image Number: 5 for target class tensor([0]). Step 0, Loss: 5.561372756958008\n",
      "Generating Image Number: 5 for target class tensor([0]). Step 50, Loss: 0.3398841321468353\n",
      "Generating Image Number: 5 for target class tensor([0]). Step 100, Loss: 0.11500472575426102\n",
      "Generating Image Number: 5 for target class tensor([0]). Step 150, Loss: 0.08534816652536392\n",
      "Generating Image Number: 5 for target class tensor([0]). Step 200, Loss: 0.0689886137843132\n",
      "Generating Image Number: 5 for target class tensor([0]). Step 250, Loss: 0.05936576426029205\n",
      "Generating Image Number: 5 for target class tensor([0]). Step 300, Loss: 0.0533367395401001\n",
      "Generating Image Number: 5 for target class tensor([0]). Step 350, Loss: 0.047977689653635025\n",
      "Generating Image Number: 5 for target class tensor([0]). Step 400, Loss: 0.04402882233262062\n",
      "Generating Image Number: 5 for target class tensor([0]). Step 450, Loss: 0.041051268577575684\n",
      "Generating Image Number: 6 for target class tensor([0]). Step 0, Loss: 2.423336982727051\n",
      "Generating Image Number: 6 for target class tensor([0]). Step 50, Loss: 0.5224651098251343\n",
      "Generating Image Number: 6 for target class tensor([0]). Step 100, Loss: 0.21308141946792603\n",
      "Generating Image Number: 6 for target class tensor([0]). Step 150, Loss: 0.17293846607208252\n",
      "Generating Image Number: 6 for target class tensor([0]). Step 200, Loss: 0.1499163657426834\n",
      "Generating Image Number: 6 for target class tensor([0]). Step 250, Loss: 0.13478755950927734\n",
      "Generating Image Number: 6 for target class tensor([0]). Step 300, Loss: 0.12247257679700851\n",
      "Generating Image Number: 6 for target class tensor([0]). Step 350, Loss: 0.1156841292977333\n",
      "Generating Image Number: 6 for target class tensor([0]). Step 400, Loss: 0.10897351056337357\n",
      "Generating Image Number: 6 for target class tensor([0]). Step 450, Loss: 0.10223940014839172\n",
      "Generating Image Number: 7 for target class tensor([0]). Step 0, Loss: 2.3841855067985307e-07\n",
      "Generating Image Number: 7 for target class tensor([0]). Step 50, Loss: 1.1920928244535389e-07\n",
      "Generating Image Number: 7 for target class tensor([0]). Step 100, Loss: 1.1920928244535389e-07\n",
      "Generating Image Number: 7 for target class tensor([0]). Step 150, Loss: 1.1920928244535389e-07\n",
      "Generating Image Number: 7 for target class tensor([0]). Step 200, Loss: 1.1920928244535389e-07\n",
      "Generating Image Number: 7 for target class tensor([0]). Step 250, Loss: 1.1920928244535389e-07\n",
      "Generating Image Number: 7 for target class tensor([0]). Step 300, Loss: 0.0\n",
      "Generating Image Number: 7 for target class tensor([0]). Step 350, Loss: 0.0\n",
      "Generating Image Number: 7 for target class tensor([0]). Step 400, Loss: 0.0\n",
      "Generating Image Number: 7 for target class tensor([0]). Step 450, Loss: 0.0\n",
      "Generating Image Number: 8 for target class tensor([0]). Step 0, Loss: 2.4925200939178467\n",
      "Generating Image Number: 8 for target class tensor([0]). Step 50, Loss: 0.09171228855848312\n",
      "Generating Image Number: 8 for target class tensor([0]). Step 100, Loss: 0.07265365868806839\n",
      "Generating Image Number: 8 for target class tensor([0]). Step 150, Loss: 0.06123725324869156\n",
      "Generating Image Number: 8 for target class tensor([0]). Step 200, Loss: 0.05418830364942551\n",
      "Generating Image Number: 8 for target class tensor([0]). Step 250, Loss: 0.04865477979183197\n",
      "Generating Image Number: 8 for target class tensor([0]). Step 300, Loss: 0.04460872337222099\n",
      "Generating Image Number: 8 for target class tensor([0]). Step 350, Loss: 0.04134996235370636\n",
      "Generating Image Number: 8 for target class tensor([0]). Step 400, Loss: 0.0377609021961689\n",
      "Generating Image Number: 8 for target class tensor([0]). Step 450, Loss: 0.034906093031167984\n",
      "Generating Image Number: 9 for target class tensor([0]). Step 0, Loss: 0.5916128754615784\n",
      "Generating Image Number: 9 for target class tensor([0]). Step 50, Loss: 0.0729064866900444\n",
      "Generating Image Number: 9 for target class tensor([0]). Step 100, Loss: 0.04884302243590355\n",
      "Generating Image Number: 9 for target class tensor([0]). Step 150, Loss: 0.039108797907829285\n",
      "Generating Image Number: 9 for target class tensor([0]). Step 200, Loss: 0.033322516828775406\n",
      "Generating Image Number: 9 for target class tensor([0]). Step 250, Loss: 0.028229808434844017\n",
      "Generating Image Number: 9 for target class tensor([0]). Step 300, Loss: 0.025134321302175522\n",
      "Generating Image Number: 9 for target class tensor([0]). Step 350, Loss: 0.022732263430953026\n",
      "Generating Image Number: 9 for target class tensor([0]). Step 400, Loss: 0.020922431722283363\n",
      "Generating Image Number: 9 for target class tensor([0]). Step 450, Loss: 0.019310690462589264\n",
      "Generating Image Number: 10 for target class tensor([0]). Step 0, Loss: 3.626917600631714\n",
      "Generating Image Number: 10 for target class tensor([0]). Step 50, Loss: 0.6612472534179688\n",
      "Generating Image Number: 10 for target class tensor([0]). Step 100, Loss: 0.4722224175930023\n",
      "Generating Image Number: 10 for target class tensor([0]). Step 150, Loss: 0.3614776134490967\n",
      "Generating Image Number: 10 for target class tensor([0]). Step 200, Loss: 0.273660272359848\n",
      "Generating Image Number: 10 for target class tensor([0]). Step 250, Loss: 0.2170071303844452\n",
      "Generating Image Number: 10 for target class tensor([0]). Step 300, Loss: 0.17486664652824402\n",
      "Generating Image Number: 10 for target class tensor([0]). Step 350, Loss: 0.14746491611003876\n",
      "Generating Image Number: 10 for target class tensor([0]). Step 400, Loss: 0.12559998035430908\n",
      "Generating Image Number: 10 for target class tensor([0]). Step 450, Loss: 0.10906950384378433\n",
      "Generating Image Number: 11 for target class tensor([0]). Step 0, Loss: 5.4265217781066895\n",
      "Generating Image Number: 11 for target class tensor([0]). Step 50, Loss: 0.6196423172950745\n",
      "Generating Image Number: 11 for target class tensor([0]). Step 100, Loss: 0.45166105031967163\n",
      "Generating Image Number: 11 for target class tensor([0]). Step 150, Loss: 0.32695528864860535\n",
      "Generating Image Number: 11 for target class tensor([0]). Step 200, Loss: 0.2597152888774872\n",
      "Generating Image Number: 11 for target class tensor([0]). Step 250, Loss: 0.21571090817451477\n",
      "Generating Image Number: 11 for target class tensor([0]). Step 300, Loss: 0.17828777432441711\n",
      "Generating Image Number: 11 for target class tensor([0]). Step 350, Loss: 0.1527499109506607\n",
      "Generating Image Number: 11 for target class tensor([0]). Step 400, Loss: 0.1367403268814087\n",
      "Generating Image Number: 11 for target class tensor([0]). Step 450, Loss: 0.12508834898471832\n",
      "Generating Image Number: 12 for target class tensor([0]). Step 0, Loss: 1.1920928244535389e-07\n",
      "Generating Image Number: 12 for target class tensor([0]). Step 50, Loss: 0.0\n",
      "Generating Image Number: 12 for target class tensor([0]). Step 100, Loss: 0.0\n",
      "Generating Image Number: 12 for target class tensor([0]). Step 150, Loss: 0.0\n",
      "Generating Image Number: 12 for target class tensor([0]). Step 200, Loss: 0.0\n",
      "Generating Image Number: 12 for target class tensor([0]). Step 250, Loss: 0.0\n",
      "Generating Image Number: 12 for target class tensor([0]). Step 300, Loss: 0.0\n",
      "Generating Image Number: 12 for target class tensor([0]). Step 350, Loss: 0.0\n",
      "Generating Image Number: 12 for target class tensor([0]). Step 400, Loss: 0.0\n",
      "Generating Image Number: 12 for target class tensor([0]). Step 450, Loss: 0.0\n",
      "Generating Image Number: 13 for target class tensor([0]). Step 0, Loss: 1.1529765129089355\n",
      "Generating Image Number: 13 for target class tensor([0]). Step 50, Loss: 0.2328062653541565\n",
      "Generating Image Number: 13 for target class tensor([0]). Step 100, Loss: 0.14195317029953003\n",
      "Generating Image Number: 13 for target class tensor([0]). Step 150, Loss: 0.10945434123277664\n",
      "Generating Image Number: 13 for target class tensor([0]). Step 200, Loss: 0.08816959708929062\n",
      "Generating Image Number: 13 for target class tensor([0]). Step 250, Loss: 0.0731724426150322\n",
      "Generating Image Number: 13 for target class tensor([0]). Step 300, Loss: 0.06305644661188126\n",
      "Generating Image Number: 13 for target class tensor([0]). Step 350, Loss: 0.0546729601919651\n",
      "Generating Image Number: 13 for target class tensor([0]). Step 400, Loss: 0.04636609926819801\n",
      "Generating Image Number: 13 for target class tensor([0]). Step 450, Loss: 0.04136940464377403\n",
      "Generating Image Number: 14 for target class tensor([0]). Step 0, Loss: 5.950212478637695\n",
      "Generating Image Number: 14 for target class tensor([0]). Step 50, Loss: 3.4150428771972656\n",
      "Generating Image Number: 14 for target class tensor([0]). Step 100, Loss: 3.3391575813293457\n",
      "Generating Image Number: 14 for target class tensor([0]). Step 150, Loss: 3.2658352851867676\n",
      "Generating Image Number: 14 for target class tensor([0]). Step 200, Loss: 3.188854694366455\n",
      "Generating Image Number: 14 for target class tensor([0]). Step 250, Loss: 3.1272225379943848\n",
      "Generating Image Number: 14 for target class tensor([0]). Step 300, Loss: 3.0779082775115967\n",
      "Generating Image Number: 14 for target class tensor([0]). Step 350, Loss: 3.034921407699585\n",
      "Generating Image Number: 14 for target class tensor([0]). Step 400, Loss: 2.9666078090667725\n",
      "Generating Image Number: 14 for target class tensor([0]). Step 450, Loss: 2.898376226425171\n",
      "Generating Image Number: 15 for target class tensor([0]). Step 0, Loss: 2.5851497650146484\n",
      "Generating Image Number: 15 for target class tensor([0]). Step 50, Loss: 0.057325080037117004\n",
      "Generating Image Number: 15 for target class tensor([0]). Step 100, Loss: 0.04976148530840874\n",
      "Generating Image Number: 15 for target class tensor([0]). Step 150, Loss: 0.042937446385622025\n",
      "Generating Image Number: 15 for target class tensor([0]). Step 200, Loss: 0.034834831953048706\n",
      "Generating Image Number: 15 for target class tensor([0]). Step 250, Loss: 0.027861090376973152\n",
      "Generating Image Number: 15 for target class tensor([0]). Step 300, Loss: 0.022986266762018204\n",
      "Generating Image Number: 15 for target class tensor([0]). Step 350, Loss: 0.02016589790582657\n",
      "Generating Image Number: 15 for target class tensor([0]). Step 400, Loss: 0.01760873943567276\n",
      "Generating Image Number: 15 for target class tensor([0]). Step 450, Loss: 0.01551967952400446\n",
      "Generating Image Number: 16 for target class tensor([0]). Step 0, Loss: 7.747957229614258\n",
      "Generating Image Number: 16 for target class tensor([0]). Step 50, Loss: 3.334636688232422\n",
      "Generating Image Number: 16 for target class tensor([0]). Step 100, Loss: 3.2813873291015625\n",
      "Generating Image Number: 16 for target class tensor([0]). Step 150, Loss: 3.230759859085083\n",
      "Generating Image Number: 16 for target class tensor([0]). Step 200, Loss: 3.173537254333496\n",
      "Generating Image Number: 16 for target class tensor([0]). Step 250, Loss: 3.1183693408966064\n",
      "Generating Image Number: 16 for target class tensor([0]). Step 300, Loss: 3.0654945373535156\n",
      "Generating Image Number: 16 for target class tensor([0]). Step 350, Loss: 3.015056848526001\n",
      "Generating Image Number: 16 for target class tensor([0]). Step 400, Loss: 2.949216842651367\n",
      "Generating Image Number: 16 for target class tensor([0]). Step 450, Loss: 2.87781023979187\n",
      "Generating Image Number: 17 for target class tensor([0]). Step 0, Loss: 0.5001043677330017\n",
      "Generating Image Number: 17 for target class tensor([0]). Step 50, Loss: 0.23016591370105743\n",
      "Generating Image Number: 17 for target class tensor([0]). Step 100, Loss: 0.15925748646259308\n",
      "Generating Image Number: 17 for target class tensor([0]). Step 150, Loss: 0.12657655775547028\n",
      "Generating Image Number: 17 for target class tensor([0]). Step 200, Loss: 0.10868611931800842\n",
      "Generating Image Number: 17 for target class tensor([0]). Step 250, Loss: 0.09574391692876816\n",
      "Generating Image Number: 17 for target class tensor([0]). Step 300, Loss: 0.08492360264062881\n",
      "Generating Image Number: 17 for target class tensor([0]). Step 350, Loss: 0.07562040537595749\n",
      "Generating Image Number: 17 for target class tensor([0]). Step 400, Loss: 0.06744320690631866\n",
      "Generating Image Number: 17 for target class tensor([0]). Step 450, Loss: 0.060114555060863495\n",
      "Generating Image Number: 18 for target class tensor([0]). Step 0, Loss: 0.3533923923969269\n",
      "Generating Image Number: 18 for target class tensor([0]). Step 50, Loss: 0.13115069270133972\n",
      "Generating Image Number: 18 for target class tensor([0]). Step 100, Loss: 0.07488789409399033\n",
      "Generating Image Number: 18 for target class tensor([0]). Step 150, Loss: 0.05560503154993057\n",
      "Generating Image Number: 18 for target class tensor([0]). Step 200, Loss: 0.041121289134025574\n",
      "Generating Image Number: 18 for target class tensor([0]). Step 250, Loss: 0.03224882110953331\n",
      "Generating Image Number: 18 for target class tensor([0]). Step 300, Loss: 0.027172090485692024\n",
      "Generating Image Number: 18 for target class tensor([0]). Step 350, Loss: 0.02444448694586754\n",
      "Generating Image Number: 18 for target class tensor([0]). Step 400, Loss: 0.022206692025065422\n",
      "Generating Image Number: 18 for target class tensor([0]). Step 450, Loss: 0.0203628521412611\n",
      "Generating Image Number: 19 for target class tensor([0]). Step 0, Loss: 1.0988445281982422\n",
      "Generating Image Number: 19 for target class tensor([0]). Step 50, Loss: 0.17402487993240356\n",
      "Generating Image Number: 19 for target class tensor([0]). Step 100, Loss: 0.13555505871772766\n",
      "Generating Image Number: 19 for target class tensor([0]). Step 150, Loss: 0.11647745221853256\n",
      "Generating Image Number: 19 for target class tensor([0]). Step 200, Loss: 0.10039971023797989\n",
      "Generating Image Number: 19 for target class tensor([0]). Step 250, Loss: 0.08863402903079987\n",
      "Generating Image Number: 19 for target class tensor([0]). Step 300, Loss: 0.07907316088676453\n",
      "Generating Image Number: 19 for target class tensor([0]). Step 350, Loss: 0.07136102765798569\n",
      "Generating Image Number: 19 for target class tensor([0]). Step 400, Loss: 0.06545145064592361\n",
      "Generating Image Number: 19 for target class tensor([0]). Step 450, Loss: 0.060930874198675156\n",
      "Generating Image Number: 20 for target class tensor([0]). Step 0, Loss: 4.4167022705078125\n",
      "Generating Image Number: 20 for target class tensor([0]). Step 50, Loss: 0.5917408466339111\n",
      "Generating Image Number: 20 for target class tensor([0]). Step 100, Loss: 0.40481114387512207\n",
      "Generating Image Number: 20 for target class tensor([0]). Step 150, Loss: 0.32231566309928894\n",
      "Generating Image Number: 20 for target class tensor([0]). Step 200, Loss: 0.273175448179245\n",
      "Generating Image Number: 20 for target class tensor([0]). Step 250, Loss: 0.24121645092964172\n",
      "Generating Image Number: 20 for target class tensor([0]). Step 300, Loss: 0.21470080316066742\n",
      "Generating Image Number: 20 for target class tensor([0]). Step 350, Loss: 0.18558746576309204\n",
      "Generating Image Number: 20 for target class tensor([0]). Step 400, Loss: 0.1653529405593872\n",
      "Generating Image Number: 20 for target class tensor([0]). Step 450, Loss: 0.1460960954427719\n"
     ]
    }
   ],
   "source": [
    "class0_optimized_latent_vectors = recover_images(img_count, 0, latent_vectors)"
   ]
  },
  {
   "cell_type": "code",
   "execution_count": 21,
   "id": "6718334c-2bb1-42a3-bd8c-6aea38e6b59c",
   "metadata": {
    "scrolled": true
   },
   "outputs": [
    {
     "name": "stdout",
     "output_type": "stream",
     "text": [
      "Generating Image Number: 1 for target class tensor([1]). Step 0, Loss: 4.137657642364502\n",
      "Generating Image Number: 1 for target class tensor([1]). Step 50, Loss: 1.1548550128936768\n",
      "Generating Image Number: 1 for target class tensor([1]). Step 100, Loss: 0.7266985177993774\n",
      "Generating Image Number: 1 for target class tensor([1]). Step 150, Loss: 0.5415585041046143\n",
      "Generating Image Number: 1 for target class tensor([1]). Step 200, Loss: 0.42288583517074585\n",
      "Generating Image Number: 1 for target class tensor([1]). Step 250, Loss: 0.3507368564605713\n",
      "Generating Image Number: 1 for target class tensor([1]). Step 300, Loss: 0.28610873222351074\n",
      "Generating Image Number: 1 for target class tensor([1]). Step 350, Loss: 0.2313118875026703\n",
      "Generating Image Number: 1 for target class tensor([1]). Step 400, Loss: 0.19541852176189423\n",
      "Generating Image Number: 1 for target class tensor([1]). Step 450, Loss: 0.17074790596961975\n",
      "Generating Image Number: 2 for target class tensor([1]). Step 0, Loss: 3.3212575912475586\n",
      "Generating Image Number: 2 for target class tensor([1]). Step 50, Loss: 1.2677969932556152\n",
      "Generating Image Number: 2 for target class tensor([1]). Step 100, Loss: 0.7644286155700684\n",
      "Generating Image Number: 2 for target class tensor([1]). Step 150, Loss: 0.5819350481033325\n",
      "Generating Image Number: 2 for target class tensor([1]). Step 200, Loss: 0.4366065263748169\n",
      "Generating Image Number: 2 for target class tensor([1]). Step 250, Loss: 0.35535138845443726\n",
      "Generating Image Number: 2 for target class tensor([1]). Step 300, Loss: 0.3219794034957886\n",
      "Generating Image Number: 2 for target class tensor([1]). Step 350, Loss: 0.2971116006374359\n",
      "Generating Image Number: 2 for target class tensor([1]). Step 400, Loss: 0.2738204002380371\n",
      "Generating Image Number: 2 for target class tensor([1]). Step 450, Loss: 0.25905171036720276\n",
      "Generating Image Number: 3 for target class tensor([1]). Step 0, Loss: 5.063838481903076\n",
      "Generating Image Number: 3 for target class tensor([1]). Step 50, Loss: 3.620063543319702\n",
      "Generating Image Number: 3 for target class tensor([1]). Step 100, Loss: 2.9526143074035645\n",
      "Generating Image Number: 3 for target class tensor([1]). Step 150, Loss: 2.5191543102264404\n",
      "Generating Image Number: 3 for target class tensor([1]). Step 200, Loss: 2.144533634185791\n",
      "Generating Image Number: 3 for target class tensor([1]). Step 250, Loss: 1.9340192079544067\n",
      "Generating Image Number: 3 for target class tensor([1]). Step 300, Loss: 1.7989258766174316\n",
      "Generating Image Number: 3 for target class tensor([1]). Step 350, Loss: 1.6719027757644653\n",
      "Generating Image Number: 3 for target class tensor([1]). Step 400, Loss: 1.5450607538223267\n",
      "Generating Image Number: 3 for target class tensor([1]). Step 450, Loss: 1.4312727451324463\n",
      "Generating Image Number: 4 for target class tensor([1]). Step 0, Loss: 6.043171405792236\n",
      "Generating Image Number: 4 for target class tensor([1]). Step 50, Loss: 4.254373550415039\n",
      "Generating Image Number: 4 for target class tensor([1]). Step 100, Loss: 3.9297266006469727\n",
      "Generating Image Number: 4 for target class tensor([1]). Step 150, Loss: 3.7406351566314697\n",
      "Generating Image Number: 4 for target class tensor([1]). Step 200, Loss: 3.495422840118408\n",
      "Generating Image Number: 4 for target class tensor([1]). Step 250, Loss: 3.288637399673462\n",
      "Generating Image Number: 4 for target class tensor([1]). Step 300, Loss: 3.032968282699585\n",
      "Generating Image Number: 4 for target class tensor([1]). Step 350, Loss: 2.84196400642395\n",
      "Generating Image Number: 4 for target class tensor([1]). Step 400, Loss: 2.697495460510254\n",
      "Generating Image Number: 4 for target class tensor([1]). Step 450, Loss: 2.568403482437134\n",
      "Generating Image Number: 5 for target class tensor([1]). Step 0, Loss: 8.722311019897461\n",
      "Generating Image Number: 5 for target class tensor([1]). Step 50, Loss: 6.282388210296631\n",
      "Generating Image Number: 5 for target class tensor([1]). Step 100, Loss: 5.468310832977295\n",
      "Generating Image Number: 5 for target class tensor([1]). Step 150, Loss: 4.842685699462891\n",
      "Generating Image Number: 5 for target class tensor([1]). Step 200, Loss: 4.5023884773254395\n",
      "Generating Image Number: 5 for target class tensor([1]). Step 250, Loss: 4.30001163482666\n",
      "Generating Image Number: 5 for target class tensor([1]). Step 300, Loss: 4.146868705749512\n",
      "Generating Image Number: 5 for target class tensor([1]). Step 350, Loss: 4.029277324676514\n",
      "Generating Image Number: 5 for target class tensor([1]). Step 400, Loss: 3.906648874282837\n",
      "Generating Image Number: 5 for target class tensor([1]). Step 450, Loss: 3.7897531986236572\n",
      "Generating Image Number: 6 for target class tensor([1]). Step 0, Loss: 8.752948760986328\n",
      "Generating Image Number: 6 for target class tensor([1]). Step 50, Loss: 4.102636337280273\n",
      "Generating Image Number: 6 for target class tensor([1]). Step 100, Loss: 3.5230872631073\n",
      "Generating Image Number: 6 for target class tensor([1]). Step 150, Loss: 3.2932047843933105\n",
      "Generating Image Number: 6 for target class tensor([1]). Step 200, Loss: 3.1356170177459717\n",
      "Generating Image Number: 6 for target class tensor([1]). Step 250, Loss: 3.0036442279815674\n",
      "Generating Image Number: 6 for target class tensor([1]). Step 300, Loss: 2.902573347091675\n",
      "Generating Image Number: 6 for target class tensor([1]). Step 350, Loss: 2.8134336471557617\n",
      "Generating Image Number: 6 for target class tensor([1]). Step 400, Loss: 2.7249646186828613\n",
      "Generating Image Number: 6 for target class tensor([1]). Step 450, Loss: 2.6176366806030273\n",
      "Generating Image Number: 7 for target class tensor([1]). Step 0, Loss: 15.299510955810547\n",
      "Generating Image Number: 7 for target class tensor([1]). Step 50, Loss: 14.475946426391602\n",
      "Generating Image Number: 7 for target class tensor([1]). Step 100, Loss: 14.225125312805176\n",
      "Generating Image Number: 7 for target class tensor([1]). Step 150, Loss: 13.850322723388672\n",
      "Generating Image Number: 7 for target class tensor([1]). Step 200, Loss: 1.8892509937286377\n",
      "Generating Image Number: 7 for target class tensor([1]). Step 250, Loss: 1.3155815601348877\n",
      "Generating Image Number: 7 for target class tensor([1]). Step 300, Loss: 1.0703554153442383\n",
      "Generating Image Number: 7 for target class tensor([1]). Step 350, Loss: 0.7378833293914795\n",
      "Generating Image Number: 7 for target class tensor([1]). Step 400, Loss: 0.5907564163208008\n",
      "Generating Image Number: 7 for target class tensor([1]). Step 450, Loss: 0.4868037700653076\n",
      "Generating Image Number: 8 for target class tensor([1]). Step 0, Loss: 15.676612854003906\n",
      "Generating Image Number: 8 for target class tensor([1]). Step 50, Loss: 15.459654808044434\n",
      "Generating Image Number: 8 for target class tensor([1]). Step 100, Loss: 15.149734497070312\n",
      "Generating Image Number: 8 for target class tensor([1]). Step 150, Loss: 4.241171836853027\n",
      "Generating Image Number: 8 for target class tensor([1]). Step 200, Loss: 1.3701735734939575\n",
      "Generating Image Number: 8 for target class tensor([1]). Step 250, Loss: 0.37343335151672363\n",
      "Generating Image Number: 8 for target class tensor([1]). Step 300, Loss: 0.19157558679580688\n",
      "Generating Image Number: 8 for target class tensor([1]). Step 350, Loss: 0.15049494802951813\n",
      "Generating Image Number: 8 for target class tensor([1]). Step 400, Loss: 0.10755177587270737\n",
      "Generating Image Number: 8 for target class tensor([1]). Step 450, Loss: 0.08887903392314911\n",
      "Generating Image Number: 9 for target class tensor([1]). Step 0, Loss: 6.949704170227051\n",
      "Generating Image Number: 9 for target class tensor([1]). Step 50, Loss: 1.729785680770874\n",
      "Generating Image Number: 9 for target class tensor([1]). Step 100, Loss: 0.965510904788971\n",
      "Generating Image Number: 9 for target class tensor([1]). Step 150, Loss: 0.7594183087348938\n",
      "Generating Image Number: 9 for target class tensor([1]). Step 200, Loss: 0.6298204064369202\n",
      "Generating Image Number: 9 for target class tensor([1]). Step 250, Loss: 0.5147460103034973\n",
      "Generating Image Number: 9 for target class tensor([1]). Step 300, Loss: 0.43900448083877563\n",
      "Generating Image Number: 9 for target class tensor([1]). Step 350, Loss: 0.38283440470695496\n",
      "Generating Image Number: 9 for target class tensor([1]). Step 400, Loss: 0.32137930393218994\n",
      "Generating Image Number: 9 for target class tensor([1]). Step 450, Loss: 0.2711528539657593\n",
      "Generating Image Number: 10 for target class tensor([1]). Step 0, Loss: 2.119333028793335\n",
      "Generating Image Number: 10 for target class tensor([1]). Step 50, Loss: 0.28716492652893066\n",
      "Generating Image Number: 10 for target class tensor([1]). Step 100, Loss: 0.15753716230392456\n",
      "Generating Image Number: 10 for target class tensor([1]). Step 150, Loss: 0.1018388494849205\n",
      "Generating Image Number: 10 for target class tensor([1]). Step 200, Loss: 0.07065504789352417\n",
      "Generating Image Number: 10 for target class tensor([1]). Step 250, Loss: 0.05006382614374161\n",
      "Generating Image Number: 10 for target class tensor([1]). Step 300, Loss: 0.035678938031196594\n",
      "Generating Image Number: 10 for target class tensor([1]). Step 350, Loss: 0.028085049241781235\n",
      "Generating Image Number: 10 for target class tensor([1]). Step 400, Loss: 0.023256860673427582\n",
      "Generating Image Number: 10 for target class tensor([1]). Step 450, Loss: 0.019626233726739883\n",
      "Generating Image Number: 11 for target class tensor([1]). Step 0, Loss: 6.743380069732666\n",
      "Generating Image Number: 11 for target class tensor([1]). Step 50, Loss: 5.386785984039307\n",
      "Generating Image Number: 11 for target class tensor([1]). Step 100, Loss: 4.7996649742126465\n",
      "Generating Image Number: 11 for target class tensor([1]). Step 150, Loss: 4.340000629425049\n",
      "Generating Image Number: 11 for target class tensor([1]). Step 200, Loss: 4.004295349121094\n",
      "Generating Image Number: 11 for target class tensor([1]). Step 250, Loss: 3.708937644958496\n",
      "Generating Image Number: 11 for target class tensor([1]). Step 300, Loss: 3.485762596130371\n",
      "Generating Image Number: 11 for target class tensor([1]). Step 350, Loss: 3.357388496398926\n",
      "Generating Image Number: 11 for target class tensor([1]). Step 400, Loss: 3.3664934635162354\n",
      "Generating Image Number: 11 for target class tensor([1]). Step 450, Loss: 3.117143154144287\n",
      "Generating Image Number: 12 for target class tensor([1]). Step 0, Loss: 6.656278133392334\n",
      "Generating Image Number: 12 for target class tensor([1]). Step 50, Loss: 0.6645911931991577\n",
      "Generating Image Number: 12 for target class tensor([1]). Step 100, Loss: 0.4497372508049011\n",
      "Generating Image Number: 12 for target class tensor([1]). Step 150, Loss: 0.3489665985107422\n",
      "Generating Image Number: 12 for target class tensor([1]). Step 200, Loss: 0.27626708149909973\n",
      "Generating Image Number: 12 for target class tensor([1]). Step 250, Loss: 0.2296794205904007\n",
      "Generating Image Number: 12 for target class tensor([1]). Step 300, Loss: 0.19326207041740417\n",
      "Generating Image Number: 12 for target class tensor([1]). Step 350, Loss: 0.16450919210910797\n",
      "Generating Image Number: 12 for target class tensor([1]). Step 400, Loss: 0.1422935128211975\n",
      "Generating Image Number: 12 for target class tensor([1]). Step 450, Loss: 0.12369641661643982\n",
      "Generating Image Number: 13 for target class tensor([1]). Step 0, Loss: 8.239751815795898\n",
      "Generating Image Number: 13 for target class tensor([1]). Step 50, Loss: 4.8860955238342285\n",
      "Generating Image Number: 13 for target class tensor([1]). Step 100, Loss: 4.518185138702393\n",
      "Generating Image Number: 13 for target class tensor([1]). Step 150, Loss: 4.198534965515137\n",
      "Generating Image Number: 13 for target class tensor([1]). Step 200, Loss: 4.029079437255859\n",
      "Generating Image Number: 13 for target class tensor([1]). Step 250, Loss: 3.9132461547851562\n",
      "Generating Image Number: 13 for target class tensor([1]). Step 300, Loss: 3.8070971965789795\n",
      "Generating Image Number: 13 for target class tensor([1]). Step 350, Loss: 3.725125551223755\n",
      "Generating Image Number: 13 for target class tensor([1]). Step 400, Loss: 3.651637554168701\n",
      "Generating Image Number: 13 for target class tensor([1]). Step 450, Loss: 3.5590426921844482\n",
      "Generating Image Number: 14 for target class tensor([1]). Step 0, Loss: 3.7003731727600098\n",
      "Generating Image Number: 14 for target class tensor([1]). Step 50, Loss: 0.9691047668457031\n",
      "Generating Image Number: 14 for target class tensor([1]). Step 100, Loss: 0.7239394187927246\n",
      "Generating Image Number: 14 for target class tensor([1]). Step 150, Loss: 0.5823326110839844\n",
      "Generating Image Number: 14 for target class tensor([1]). Step 200, Loss: 0.5026600956916809\n",
      "Generating Image Number: 14 for target class tensor([1]). Step 250, Loss: 0.4654116630554199\n",
      "Generating Image Number: 14 for target class tensor([1]). Step 300, Loss: 0.4315928816795349\n",
      "Generating Image Number: 14 for target class tensor([1]). Step 350, Loss: 0.40258118510246277\n",
      "Generating Image Number: 14 for target class tensor([1]). Step 400, Loss: 0.3800949454307556\n",
      "Generating Image Number: 14 for target class tensor([1]). Step 450, Loss: 0.3634289801120758\n",
      "Generating Image Number: 15 for target class tensor([1]). Step 0, Loss: 2.699110269546509\n",
      "Generating Image Number: 15 for target class tensor([1]). Step 50, Loss: 2.0615248680114746\n",
      "Generating Image Number: 15 for target class tensor([1]). Step 100, Loss: 1.5013588666915894\n",
      "Generating Image Number: 15 for target class tensor([1]). Step 150, Loss: 1.1618692874908447\n",
      "Generating Image Number: 15 for target class tensor([1]). Step 200, Loss: 0.9785626530647278\n",
      "Generating Image Number: 15 for target class tensor([1]). Step 250, Loss: 0.8475050926208496\n",
      "Generating Image Number: 15 for target class tensor([1]). Step 300, Loss: 0.7590916752815247\n",
      "Generating Image Number: 15 for target class tensor([1]). Step 350, Loss: 0.6798189878463745\n",
      "Generating Image Number: 15 for target class tensor([1]). Step 400, Loss: 0.6128430366516113\n",
      "Generating Image Number: 15 for target class tensor([1]). Step 450, Loss: 0.5552875399589539\n",
      "Generating Image Number: 16 for target class tensor([1]). Step 0, Loss: 17.040029525756836\n",
      "Generating Image Number: 16 for target class tensor([1]). Step 50, Loss: 3.087172031402588\n",
      "Generating Image Number: 16 for target class tensor([1]). Step 100, Loss: 2.3977737426757812\n",
      "Generating Image Number: 16 for target class tensor([1]). Step 150, Loss: 2.1787116527557373\n",
      "Generating Image Number: 16 for target class tensor([1]). Step 200, Loss: 2.0408847332000732\n",
      "Generating Image Number: 16 for target class tensor([1]). Step 250, Loss: 1.9198938608169556\n",
      "Generating Image Number: 16 for target class tensor([1]). Step 300, Loss: 1.809202790260315\n",
      "Generating Image Number: 16 for target class tensor([1]). Step 350, Loss: 1.712937355041504\n",
      "Generating Image Number: 16 for target class tensor([1]). Step 400, Loss: 1.6132886409759521\n",
      "Generating Image Number: 16 for target class tensor([1]). Step 450, Loss: 1.5049455165863037\n",
      "Generating Image Number: 17 for target class tensor([1]). Step 0, Loss: 3.4164628982543945\n",
      "Generating Image Number: 17 for target class tensor([1]). Step 50, Loss: 0.7491000294685364\n",
      "Generating Image Number: 17 for target class tensor([1]). Step 100, Loss: 0.547118067741394\n",
      "Generating Image Number: 17 for target class tensor([1]). Step 150, Loss: 0.4408906400203705\n",
      "Generating Image Number: 17 for target class tensor([1]). Step 200, Loss: 0.3787922263145447\n",
      "Generating Image Number: 17 for target class tensor([1]). Step 250, Loss: 0.3316640257835388\n",
      "Generating Image Number: 17 for target class tensor([1]). Step 300, Loss: 0.29019609093666077\n",
      "Generating Image Number: 17 for target class tensor([1]). Step 350, Loss: 0.26290830969810486\n",
      "Generating Image Number: 17 for target class tensor([1]). Step 400, Loss: 0.23861975967884064\n",
      "Generating Image Number: 17 for target class tensor([1]). Step 450, Loss: 0.22150732576847076\n",
      "Generating Image Number: 18 for target class tensor([1]). Step 0, Loss: 6.860073089599609\n",
      "Generating Image Number: 18 for target class tensor([1]). Step 50, Loss: 4.393963813781738\n",
      "Generating Image Number: 18 for target class tensor([1]). Step 100, Loss: 3.830570697784424\n",
      "Generating Image Number: 18 for target class tensor([1]). Step 150, Loss: 3.3981590270996094\n",
      "Generating Image Number: 18 for target class tensor([1]). Step 200, Loss: 3.002012014389038\n",
      "Generating Image Number: 18 for target class tensor([1]). Step 250, Loss: 2.589151382446289\n",
      "Generating Image Number: 18 for target class tensor([1]). Step 300, Loss: 2.326608896255493\n",
      "Generating Image Number: 18 for target class tensor([1]). Step 350, Loss: 2.1446218490600586\n",
      "Generating Image Number: 18 for target class tensor([1]). Step 400, Loss: 1.9290837049484253\n",
      "Generating Image Number: 18 for target class tensor([1]). Step 450, Loss: 1.7599246501922607\n",
      "Generating Image Number: 19 for target class tensor([1]). Step 0, Loss: 7.075754165649414\n",
      "Generating Image Number: 19 for target class tensor([1]). Step 50, Loss: 5.692864894866943\n",
      "Generating Image Number: 19 for target class tensor([1]). Step 100, Loss: 4.963400363922119\n",
      "Generating Image Number: 19 for target class tensor([1]). Step 150, Loss: 4.358014106750488\n",
      "Generating Image Number: 19 for target class tensor([1]). Step 200, Loss: 3.761608362197876\n",
      "Generating Image Number: 19 for target class tensor([1]). Step 250, Loss: 3.370500326156616\n",
      "Generating Image Number: 19 for target class tensor([1]). Step 300, Loss: 3.098222494125366\n",
      "Generating Image Number: 19 for target class tensor([1]). Step 350, Loss: 2.8439278602600098\n",
      "Generating Image Number: 19 for target class tensor([1]). Step 400, Loss: 2.5637309551239014\n",
      "Generating Image Number: 19 for target class tensor([1]). Step 450, Loss: 2.298631191253662\n",
      "Generating Image Number: 20 for target class tensor([1]). Step 0, Loss: 3.993528366088867\n",
      "Generating Image Number: 20 for target class tensor([1]). Step 50, Loss: 1.7315690517425537\n",
      "Generating Image Number: 20 for target class tensor([1]). Step 100, Loss: 1.1335641145706177\n",
      "Generating Image Number: 20 for target class tensor([1]). Step 150, Loss: 0.704887330532074\n",
      "Generating Image Number: 20 for target class tensor([1]). Step 200, Loss: 0.4501294493675232\n",
      "Generating Image Number: 20 for target class tensor([1]). Step 250, Loss: 0.3095664083957672\n",
      "Generating Image Number: 20 for target class tensor([1]). Step 300, Loss: 0.22948279976844788\n",
      "Generating Image Number: 20 for target class tensor([1]). Step 350, Loss: 0.1755886971950531\n",
      "Generating Image Number: 20 for target class tensor([1]). Step 400, Loss: 0.13388654589653015\n",
      "Generating Image Number: 20 for target class tensor([1]). Step 450, Loss: 0.0837138444185257\n"
     ]
    }
   ],
   "source": [
    "torch.manual_seed(100)\n",
    "latent_vectors = torch.randn(img_count, z_dim, 1, 1, requires_grad=True) # Start with 20 random noises\n",
    "class1_optimized_latent_vectors = recover_images(img_count, 1, latent_vectors)"
   ]
  },
  {
   "cell_type": "code",
   "execution_count": 22,
   "id": "1c8af686-b1ff-419d-946d-2447773e47c9",
   "metadata": {
    "scrolled": true
   },
   "outputs": [
    {
     "name": "stdout",
     "output_type": "stream",
     "text": [
      "Generating Image Number: 1 for target class tensor([2]). Step 0, Loss: 2.7123630046844482\n",
      "Generating Image Number: 1 for target class tensor([2]). Step 50, Loss: 1.3128550052642822\n",
      "Generating Image Number: 1 for target class tensor([2]). Step 100, Loss: 0.8296407461166382\n",
      "Generating Image Number: 1 for target class tensor([2]). Step 150, Loss: 0.5713611841201782\n",
      "Generating Image Number: 1 for target class tensor([2]). Step 200, Loss: 0.4475686252117157\n",
      "Generating Image Number: 1 for target class tensor([2]). Step 250, Loss: 0.37009647488594055\n",
      "Generating Image Number: 1 for target class tensor([2]). Step 300, Loss: 0.3207608759403229\n",
      "Generating Image Number: 1 for target class tensor([2]). Step 350, Loss: 0.29064592719078064\n",
      "Generating Image Number: 1 for target class tensor([2]). Step 400, Loss: 0.2654690146446228\n",
      "Generating Image Number: 1 for target class tensor([2]). Step 450, Loss: 0.24606122076511383\n",
      "Generating Image Number: 2 for target class tensor([2]). Step 0, Loss: 3.137971878051758\n",
      "Generating Image Number: 2 for target class tensor([2]). Step 50, Loss: 0.8432803750038147\n",
      "Generating Image Number: 2 for target class tensor([2]). Step 100, Loss: 0.624605119228363\n",
      "Generating Image Number: 2 for target class tensor([2]). Step 150, Loss: 0.4944113492965698\n",
      "Generating Image Number: 2 for target class tensor([2]). Step 200, Loss: 0.4103369116783142\n",
      "Generating Image Number: 2 for target class tensor([2]). Step 250, Loss: 0.3568173050880432\n",
      "Generating Image Number: 2 for target class tensor([2]). Step 300, Loss: 0.3181113004684448\n",
      "Generating Image Number: 2 for target class tensor([2]). Step 350, Loss: 0.28467217087745667\n",
      "Generating Image Number: 2 for target class tensor([2]). Step 400, Loss: 0.25352200865745544\n",
      "Generating Image Number: 2 for target class tensor([2]). Step 450, Loss: 0.21648183465003967\n",
      "Generating Image Number: 3 for target class tensor([2]). Step 0, Loss: 0.34294313192367554\n",
      "Generating Image Number: 3 for target class tensor([2]). Step 50, Loss: 0.014660959132015705\n",
      "Generating Image Number: 3 for target class tensor([2]). Step 100, Loss: 0.011359420605003834\n",
      "Generating Image Number: 3 for target class tensor([2]). Step 150, Loss: 0.009260794147849083\n",
      "Generating Image Number: 3 for target class tensor([2]). Step 200, Loss: 0.007699455600231886\n",
      "Generating Image Number: 3 for target class tensor([2]). Step 250, Loss: 0.0066788773983716965\n",
      "Generating Image Number: 3 for target class tensor([2]). Step 300, Loss: 0.005842394195497036\n",
      "Generating Image Number: 3 for target class tensor([2]). Step 350, Loss: 0.005115159787237644\n",
      "Generating Image Number: 3 for target class tensor([2]). Step 400, Loss: 0.004514383617788553\n",
      "Generating Image Number: 3 for target class tensor([2]). Step 450, Loss: 0.004009661264717579\n",
      "Generating Image Number: 4 for target class tensor([2]). Step 0, Loss: 0.06857318431138992\n",
      "Generating Image Number: 4 for target class tensor([2]). Step 50, Loss: 0.01794273406267166\n",
      "Generating Image Number: 4 for target class tensor([2]). Step 100, Loss: 0.013345204293727875\n",
      "Generating Image Number: 4 for target class tensor([2]). Step 150, Loss: 0.010603399015963078\n",
      "Generating Image Number: 4 for target class tensor([2]). Step 200, Loss: 0.00886859092861414\n",
      "Generating Image Number: 4 for target class tensor([2]). Step 250, Loss: 0.007556545082479715\n",
      "Generating Image Number: 4 for target class tensor([2]). Step 300, Loss: 0.006270022597163916\n",
      "Generating Image Number: 4 for target class tensor([2]). Step 350, Loss: 0.00530419172719121\n",
      "Generating Image Number: 4 for target class tensor([2]). Step 400, Loss: 0.004430359695106745\n",
      "Generating Image Number: 4 for target class tensor([2]). Step 450, Loss: 0.003835703246295452\n",
      "Generating Image Number: 5 for target class tensor([2]). Step 0, Loss: 3.2393198013305664\n",
      "Generating Image Number: 5 for target class tensor([2]). Step 50, Loss: 0.6330794095993042\n",
      "Generating Image Number: 5 for target class tensor([2]). Step 100, Loss: 0.5299471616744995\n",
      "Generating Image Number: 5 for target class tensor([2]). Step 150, Loss: 0.46463310718536377\n",
      "Generating Image Number: 5 for target class tensor([2]). Step 200, Loss: 0.38633084297180176\n",
      "Generating Image Number: 5 for target class tensor([2]). Step 250, Loss: 0.33369573950767517\n",
      "Generating Image Number: 5 for target class tensor([2]). Step 300, Loss: 0.29488900303840637\n",
      "Generating Image Number: 5 for target class tensor([2]). Step 350, Loss: 0.25218817591667175\n",
      "Generating Image Number: 5 for target class tensor([2]). Step 400, Loss: 0.21778233349323273\n",
      "Generating Image Number: 5 for target class tensor([2]). Step 450, Loss: 0.19257548451423645\n",
      "Generating Image Number: 6 for target class tensor([2]). Step 0, Loss: 2.0290768146514893\n",
      "Generating Image Number: 6 for target class tensor([2]). Step 50, Loss: 0.8831887245178223\n",
      "Generating Image Number: 6 for target class tensor([2]). Step 100, Loss: 0.5498712062835693\n",
      "Generating Image Number: 6 for target class tensor([2]). Step 150, Loss: 0.38243430852890015\n",
      "Generating Image Number: 6 for target class tensor([2]). Step 200, Loss: 0.28884202241897583\n",
      "Generating Image Number: 6 for target class tensor([2]). Step 250, Loss: 0.24642503261566162\n",
      "Generating Image Number: 6 for target class tensor([2]). Step 300, Loss: 0.21921280026435852\n",
      "Generating Image Number: 6 for target class tensor([2]). Step 350, Loss: 0.19869345426559448\n",
      "Generating Image Number: 6 for target class tensor([2]). Step 400, Loss: 0.18271441757678986\n",
      "Generating Image Number: 6 for target class tensor([2]). Step 450, Loss: 0.1643630564212799\n",
      "Generating Image Number: 7 for target class tensor([2]). Step 0, Loss: 2.6871554851531982\n",
      "Generating Image Number: 7 for target class tensor([2]). Step 50, Loss: 1.6855252981185913\n",
      "Generating Image Number: 7 for target class tensor([2]). Step 100, Loss: 1.3259294033050537\n",
      "Generating Image Number: 7 for target class tensor([2]). Step 150, Loss: 1.1041572093963623\n",
      "Generating Image Number: 7 for target class tensor([2]). Step 200, Loss: 0.9490338563919067\n",
      "Generating Image Number: 7 for target class tensor([2]). Step 250, Loss: 0.867448091506958\n",
      "Generating Image Number: 7 for target class tensor([2]). Step 300, Loss: 0.8130314946174622\n",
      "Generating Image Number: 7 for target class tensor([2]). Step 350, Loss: 0.772264301776886\n",
      "Generating Image Number: 7 for target class tensor([2]). Step 400, Loss: 0.7407910823822021\n",
      "Generating Image Number: 7 for target class tensor([2]). Step 450, Loss: 0.7138200998306274\n",
      "Generating Image Number: 8 for target class tensor([2]). Step 0, Loss: 1.9778474569320679\n",
      "Generating Image Number: 8 for target class tensor([2]). Step 50, Loss: 0.5833684802055359\n",
      "Generating Image Number: 8 for target class tensor([2]). Step 100, Loss: 0.4009491503238678\n",
      "Generating Image Number: 8 for target class tensor([2]). Step 150, Loss: 0.2837899923324585\n",
      "Generating Image Number: 8 for target class tensor([2]). Step 200, Loss: 0.2150123566389084\n",
      "Generating Image Number: 8 for target class tensor([2]). Step 250, Loss: 0.1731540411710739\n",
      "Generating Image Number: 8 for target class tensor([2]). Step 300, Loss: 0.15015901625156403\n",
      "Generating Image Number: 8 for target class tensor([2]). Step 350, Loss: 0.13528446853160858\n",
      "Generating Image Number: 8 for target class tensor([2]). Step 400, Loss: 0.12331017106771469\n",
      "Generating Image Number: 8 for target class tensor([2]). Step 450, Loss: 0.11395657807588577\n",
      "Generating Image Number: 9 for target class tensor([2]). Step 0, Loss: 0.1398831009864807\n",
      "Generating Image Number: 9 for target class tensor([2]). Step 50, Loss: 0.006768987979739904\n",
      "Generating Image Number: 9 for target class tensor([2]). Step 100, Loss: 0.005441852379590273\n",
      "Generating Image Number: 9 for target class tensor([2]). Step 150, Loss: 0.004521384835243225\n",
      "Generating Image Number: 9 for target class tensor([2]). Step 200, Loss: 0.003931769635528326\n",
      "Generating Image Number: 9 for target class tensor([2]). Step 250, Loss: 0.0035892606247216463\n",
      "Generating Image Number: 9 for target class tensor([2]). Step 300, Loss: 0.0032703985925763845\n",
      "Generating Image Number: 9 for target class tensor([2]). Step 350, Loss: 0.0029369338881224394\n",
      "Generating Image Number: 9 for target class tensor([2]). Step 400, Loss: 0.0026580500416457653\n",
      "Generating Image Number: 9 for target class tensor([2]). Step 450, Loss: 0.0024302254896610975\n",
      "Generating Image Number: 10 for target class tensor([2]). Step 0, Loss: 2.6090266704559326\n",
      "Generating Image Number: 10 for target class tensor([2]). Step 50, Loss: 0.9077448844909668\n",
      "Generating Image Number: 10 for target class tensor([2]). Step 100, Loss: 0.5461400151252747\n",
      "Generating Image Number: 10 for target class tensor([2]). Step 150, Loss: 0.3412611186504364\n",
      "Generating Image Number: 10 for target class tensor([2]). Step 200, Loss: 0.2663533389568329\n",
      "Generating Image Number: 10 for target class tensor([2]). Step 250, Loss: 0.2265157699584961\n",
      "Generating Image Number: 10 for target class tensor([2]). Step 300, Loss: 0.20020347833633423\n",
      "Generating Image Number: 10 for target class tensor([2]). Step 350, Loss: 0.17641125619411469\n",
      "Generating Image Number: 10 for target class tensor([2]). Step 400, Loss: 0.1582556515932083\n",
      "Generating Image Number: 10 for target class tensor([2]). Step 450, Loss: 0.14509612321853638\n",
      "Generating Image Number: 11 for target class tensor([2]). Step 0, Loss: 0.1466292142868042\n",
      "Generating Image Number: 11 for target class tensor([2]). Step 50, Loss: 0.02936987392604351\n",
      "Generating Image Number: 11 for target class tensor([2]). Step 100, Loss: 0.019158905372023582\n",
      "Generating Image Number: 11 for target class tensor([2]). Step 150, Loss: 0.015182292088866234\n",
      "Generating Image Number: 11 for target class tensor([2]). Step 200, Loss: 0.012727460823953152\n",
      "Generating Image Number: 11 for target class tensor([2]). Step 250, Loss: 0.011090775020420551\n",
      "Generating Image Number: 11 for target class tensor([2]). Step 300, Loss: 0.00967881828546524\n",
      "Generating Image Number: 11 for target class tensor([2]). Step 350, Loss: 0.008444436825811863\n",
      "Generating Image Number: 11 for target class tensor([2]). Step 400, Loss: 0.007028971798717976\n",
      "Generating Image Number: 11 for target class tensor([2]). Step 450, Loss: 0.005780527368187904\n",
      "Generating Image Number: 12 for target class tensor([2]). Step 0, Loss: 20.470890045166016\n",
      "Generating Image Number: 12 for target class tensor([2]). Step 50, Loss: 19.93154525756836\n",
      "Generating Image Number: 12 for target class tensor([2]). Step 100, Loss: 19.798786163330078\n",
      "Generating Image Number: 12 for target class tensor([2]). Step 150, Loss: 19.71210479736328\n",
      "Generating Image Number: 12 for target class tensor([2]). Step 200, Loss: 19.631744384765625\n",
      "Generating Image Number: 12 for target class tensor([2]). Step 250, Loss: 19.53826141357422\n",
      "Generating Image Number: 12 for target class tensor([2]). Step 300, Loss: 19.436887741088867\n",
      "Generating Image Number: 12 for target class tensor([2]). Step 350, Loss: 19.231090545654297\n",
      "Generating Image Number: 12 for target class tensor([2]). Step 400, Loss: 0.010698816739022732\n",
      "Generating Image Number: 12 for target class tensor([2]). Step 450, Loss: 0.011307677254080772\n",
      "Generating Image Number: 13 for target class tensor([2]). Step 0, Loss: 2.582195281982422\n",
      "Generating Image Number: 13 for target class tensor([2]). Step 50, Loss: 0.5373001098632812\n",
      "Generating Image Number: 13 for target class tensor([2]). Step 100, Loss: 0.4596784710884094\n",
      "Generating Image Number: 13 for target class tensor([2]). Step 150, Loss: 0.4218848645687103\n",
      "Generating Image Number: 13 for target class tensor([2]). Step 200, Loss: 0.3970959484577179\n",
      "Generating Image Number: 13 for target class tensor([2]). Step 250, Loss: 0.3726509213447571\n",
      "Generating Image Number: 13 for target class tensor([2]). Step 300, Loss: 0.36291444301605225\n",
      "Generating Image Number: 13 for target class tensor([2]). Step 350, Loss: 0.3557888865470886\n",
      "Generating Image Number: 13 for target class tensor([2]). Step 400, Loss: 0.3491770327091217\n",
      "Generating Image Number: 13 for target class tensor([2]). Step 450, Loss: 0.343074232339859\n",
      "Generating Image Number: 14 for target class tensor([2]). Step 0, Loss: 2.427274227142334\n",
      "Generating Image Number: 14 for target class tensor([2]). Step 50, Loss: 0.009759096428751945\n",
      "Generating Image Number: 14 for target class tensor([2]). Step 100, Loss: 0.005798424128443003\n",
      "Generating Image Number: 14 for target class tensor([2]). Step 150, Loss: 0.005341780837625265\n",
      "Generating Image Number: 14 for target class tensor([2]). Step 200, Loss: 0.005186317954212427\n",
      "Generating Image Number: 14 for target class tensor([2]). Step 250, Loss: 0.00508100213482976\n",
      "Generating Image Number: 14 for target class tensor([2]). Step 300, Loss: 0.00494946027174592\n",
      "Generating Image Number: 14 for target class tensor([2]). Step 350, Loss: 0.004844119306653738\n",
      "Generating Image Number: 14 for target class tensor([2]). Step 400, Loss: 0.004715156741440296\n",
      "Generating Image Number: 14 for target class tensor([2]). Step 450, Loss: 0.004594840109348297\n",
      "Generating Image Number: 15 for target class tensor([2]). Step 0, Loss: 0.5825639963150024\n",
      "Generating Image Number: 15 for target class tensor([2]). Step 50, Loss: 0.14996491372585297\n",
      "Generating Image Number: 15 for target class tensor([2]). Step 100, Loss: 0.07522408664226532\n",
      "Generating Image Number: 15 for target class tensor([2]). Step 150, Loss: 0.04670541733503342\n",
      "Generating Image Number: 15 for target class tensor([2]). Step 200, Loss: 0.03362813591957092\n",
      "Generating Image Number: 15 for target class tensor([2]). Step 250, Loss: 0.024332687258720398\n",
      "Generating Image Number: 15 for target class tensor([2]). Step 300, Loss: 0.0179243516176939\n",
      "Generating Image Number: 15 for target class tensor([2]). Step 350, Loss: 0.013514692895114422\n",
      "Generating Image Number: 15 for target class tensor([2]). Step 400, Loss: 0.01063441950827837\n",
      "Generating Image Number: 15 for target class tensor([2]). Step 450, Loss: 0.00867006741464138\n",
      "Generating Image Number: 16 for target class tensor([2]). Step 0, Loss: 1.642207384109497\n",
      "Generating Image Number: 16 for target class tensor([2]). Step 50, Loss: 0.007716371677815914\n",
      "Generating Image Number: 16 for target class tensor([2]). Step 100, Loss: 0.005191417410969734\n",
      "Generating Image Number: 16 for target class tensor([2]). Step 150, Loss: 0.004542745649814606\n",
      "Generating Image Number: 16 for target class tensor([2]). Step 200, Loss: 0.004348584450781345\n",
      "Generating Image Number: 16 for target class tensor([2]). Step 250, Loss: 0.004179077688604593\n",
      "Generating Image Number: 16 for target class tensor([2]). Step 300, Loss: 0.0040430244989693165\n",
      "Generating Image Number: 16 for target class tensor([2]). Step 350, Loss: 0.003912771120667458\n",
      "Generating Image Number: 16 for target class tensor([2]). Step 400, Loss: 0.0037930700927972794\n",
      "Generating Image Number: 16 for target class tensor([2]). Step 450, Loss: 0.003678580978885293\n",
      "Generating Image Number: 17 for target class tensor([2]). Step 0, Loss: 0.012545948848128319\n",
      "Generating Image Number: 17 for target class tensor([2]). Step 50, Loss: 0.0019595485646277666\n",
      "Generating Image Number: 17 for target class tensor([2]). Step 100, Loss: 0.0011866202112287283\n",
      "Generating Image Number: 17 for target class tensor([2]). Step 150, Loss: 0.0008830699953250587\n",
      "Generating Image Number: 17 for target class tensor([2]). Step 200, Loss: 0.0007183355046436191\n",
      "Generating Image Number: 17 for target class tensor([2]). Step 250, Loss: 0.0006180283380672336\n",
      "Generating Image Number: 17 for target class tensor([2]). Step 300, Loss: 0.0005502378917299211\n",
      "Generating Image Number: 17 for target class tensor([2]). Step 350, Loss: 0.0005003153928555548\n",
      "Generating Image Number: 17 for target class tensor([2]). Step 400, Loss: 0.00046039948938414454\n",
      "Generating Image Number: 17 for target class tensor([2]). Step 450, Loss: 0.00042655906872823834\n",
      "Generating Image Number: 18 for target class tensor([2]). Step 0, Loss: 18.585899353027344\n",
      "Generating Image Number: 18 for target class tensor([2]). Step 50, Loss: 0.06756744533777237\n",
      "Generating Image Number: 18 for target class tensor([2]). Step 100, Loss: 0.05047658458352089\n",
      "Generating Image Number: 18 for target class tensor([2]). Step 150, Loss: 0.04544223099946976\n",
      "Generating Image Number: 18 for target class tensor([2]). Step 200, Loss: 0.040395114570856094\n",
      "Generating Image Number: 18 for target class tensor([2]). Step 250, Loss: 0.03543964773416519\n",
      "Generating Image Number: 18 for target class tensor([2]). Step 300, Loss: 0.031263403594493866\n",
      "Generating Image Number: 18 for target class tensor([2]). Step 350, Loss: 0.02769656665623188\n",
      "Generating Image Number: 18 for target class tensor([2]). Step 400, Loss: 0.024822723120450974\n",
      "Generating Image Number: 18 for target class tensor([2]). Step 450, Loss: 0.02241886593401432\n",
      "Generating Image Number: 19 for target class tensor([2]). Step 0, Loss: 1.659210443496704\n",
      "Generating Image Number: 19 for target class tensor([2]). Step 50, Loss: 0.35561662912368774\n",
      "Generating Image Number: 19 for target class tensor([2]). Step 100, Loss: 0.21028611063957214\n",
      "Generating Image Number: 19 for target class tensor([2]). Step 150, Loss: 0.14645664393901825\n",
      "Generating Image Number: 19 for target class tensor([2]). Step 200, Loss: 0.11339744180440903\n",
      "Generating Image Number: 19 for target class tensor([2]). Step 250, Loss: 0.09235431998968124\n",
      "Generating Image Number: 19 for target class tensor([2]). Step 300, Loss: 0.0765070989727974\n",
      "Generating Image Number: 19 for target class tensor([2]). Step 350, Loss: 0.06450862437486649\n",
      "Generating Image Number: 19 for target class tensor([2]). Step 400, Loss: 0.055121954530477524\n",
      "Generating Image Number: 19 for target class tensor([2]). Step 450, Loss: 0.0487341471016407\n",
      "Generating Image Number: 20 for target class tensor([2]). Step 0, Loss: 0.15979257225990295\n",
      "Generating Image Number: 20 for target class tensor([2]). Step 50, Loss: 0.03256561607122421\n",
      "Generating Image Number: 20 for target class tensor([2]). Step 100, Loss: 0.019206969067454338\n",
      "Generating Image Number: 20 for target class tensor([2]). Step 150, Loss: 0.013476116582751274\n",
      "Generating Image Number: 20 for target class tensor([2]). Step 200, Loss: 0.010012166574597359\n",
      "Generating Image Number: 20 for target class tensor([2]). Step 250, Loss: 0.007887645624577999\n",
      "Generating Image Number: 20 for target class tensor([2]). Step 300, Loss: 0.006748266983777285\n",
      "Generating Image Number: 20 for target class tensor([2]). Step 350, Loss: 0.00583954993635416\n",
      "Generating Image Number: 20 for target class tensor([2]). Step 400, Loss: 0.005017071962356567\n",
      "Generating Image Number: 20 for target class tensor([2]). Step 450, Loss: 0.004415049683302641\n"
     ]
    }
   ],
   "source": [
    "torch.manual_seed(200)\n",
    "latent_vectors = torch.randn(img_count, z_dim, 1, 1, requires_grad=True) # Start with 20 random noises\n",
    "class2_optimized_latent_vectors = recover_images(img_count, 2, latent_vectors)"
   ]
  },
  {
   "cell_type": "code",
   "execution_count": 23,
   "id": "0381b36d-6c92-43bc-b776-1eefd3eab451",
   "metadata": {
    "scrolled": true
   },
   "outputs": [
    {
     "name": "stdout",
     "output_type": "stream",
     "text": [
      "Generating Image Number: 1 for target class tensor([3]). Step 0, Loss: 0.008594665676355362\n",
      "Generating Image Number: 1 for target class tensor([3]). Step 50, Loss: 0.01529734954237938\n",
      "Generating Image Number: 1 for target class tensor([3]). Step 100, Loss: 0.0037338081747293472\n",
      "Generating Image Number: 1 for target class tensor([3]). Step 150, Loss: 0.0034500383771955967\n",
      "Generating Image Number: 1 for target class tensor([3]). Step 200, Loss: 0.0033544006291776896\n",
      "Generating Image Number: 1 for target class tensor([3]). Step 250, Loss: 0.0032673091627657413\n",
      "Generating Image Number: 1 for target class tensor([3]). Step 300, Loss: 0.0031831806991249323\n",
      "Generating Image Number: 1 for target class tensor([3]). Step 350, Loss: 0.0031072453130036592\n",
      "Generating Image Number: 1 for target class tensor([3]). Step 400, Loss: 0.003030471969395876\n",
      "Generating Image Number: 1 for target class tensor([3]). Step 450, Loss: 0.002966410480439663\n",
      "Generating Image Number: 2 for target class tensor([3]). Step 0, Loss: 0.5272778272628784\n",
      "Generating Image Number: 2 for target class tensor([3]). Step 50, Loss: 0.22163619101047516\n",
      "Generating Image Number: 2 for target class tensor([3]). Step 100, Loss: 0.14025066792964935\n",
      "Generating Image Number: 2 for target class tensor([3]). Step 150, Loss: 0.10790606588125229\n",
      "Generating Image Number: 2 for target class tensor([3]). Step 200, Loss: 0.08939916640520096\n",
      "Generating Image Number: 2 for target class tensor([3]). Step 250, Loss: 0.07843190431594849\n",
      "Generating Image Number: 2 for target class tensor([3]). Step 300, Loss: 0.07089561223983765\n",
      "Generating Image Number: 2 for target class tensor([3]). Step 350, Loss: 0.06352071464061737\n",
      "Generating Image Number: 2 for target class tensor([3]). Step 400, Loss: 0.05789822340011597\n",
      "Generating Image Number: 2 for target class tensor([3]). Step 450, Loss: 0.052337393164634705\n",
      "Generating Image Number: 3 for target class tensor([3]). Step 0, Loss: 0.8873192071914673\n",
      "Generating Image Number: 3 for target class tensor([3]). Step 50, Loss: 0.3416351079940796\n",
      "Generating Image Number: 3 for target class tensor([3]). Step 100, Loss: 0.20749469101428986\n",
      "Generating Image Number: 3 for target class tensor([3]). Step 150, Loss: 0.15085811913013458\n",
      "Generating Image Number: 3 for target class tensor([3]). Step 200, Loss: 0.11921072751283646\n",
      "Generating Image Number: 3 for target class tensor([3]). Step 250, Loss: 0.09459805488586426\n",
      "Generating Image Number: 3 for target class tensor([3]). Step 300, Loss: 0.07634121924638748\n",
      "Generating Image Number: 3 for target class tensor([3]). Step 350, Loss: 0.06552045047283173\n",
      "Generating Image Number: 3 for target class tensor([3]). Step 400, Loss: 0.05741344392299652\n",
      "Generating Image Number: 3 for target class tensor([3]). Step 450, Loss: 0.05240244045853615\n",
      "Generating Image Number: 4 for target class tensor([3]). Step 0, Loss: 3.7010648250579834\n",
      "Generating Image Number: 4 for target class tensor([3]). Step 50, Loss: 1.563437581062317\n",
      "Generating Image Number: 4 for target class tensor([3]). Step 100, Loss: 1.497367024421692\n",
      "Generating Image Number: 4 for target class tensor([3]). Step 150, Loss: 1.4196480512619019\n",
      "Generating Image Number: 4 for target class tensor([3]). Step 200, Loss: 1.3199695348739624\n",
      "Generating Image Number: 4 for target class tensor([3]). Step 250, Loss: 1.2189276218414307\n",
      "Generating Image Number: 4 for target class tensor([3]). Step 300, Loss: 1.1386244297027588\n",
      "Generating Image Number: 4 for target class tensor([3]). Step 350, Loss: 1.0804269313812256\n",
      "Generating Image Number: 4 for target class tensor([3]). Step 400, Loss: 1.030029535293579\n",
      "Generating Image Number: 4 for target class tensor([3]). Step 450, Loss: 0.9935811161994934\n",
      "Generating Image Number: 5 for target class tensor([3]). Step 0, Loss: 0.8065419793128967\n",
      "Generating Image Number: 5 for target class tensor([3]). Step 50, Loss: 0.2660866975784302\n",
      "Generating Image Number: 5 for target class tensor([3]). Step 100, Loss: 0.20411212742328644\n",
      "Generating Image Number: 5 for target class tensor([3]). Step 150, Loss: 0.16318802535533905\n",
      "Generating Image Number: 5 for target class tensor([3]). Step 200, Loss: 0.134041890501976\n",
      "Generating Image Number: 5 for target class tensor([3]). Step 250, Loss: 0.11296407878398895\n",
      "Generating Image Number: 5 for target class tensor([3]). Step 300, Loss: 0.09809030592441559\n",
      "Generating Image Number: 5 for target class tensor([3]). Step 350, Loss: 0.08498196303844452\n",
      "Generating Image Number: 5 for target class tensor([3]). Step 400, Loss: 0.07668167352676392\n",
      "Generating Image Number: 5 for target class tensor([3]). Step 450, Loss: 0.07153572142124176\n",
      "Generating Image Number: 6 for target class tensor([3]). Step 0, Loss: 0.6964448094367981\n",
      "Generating Image Number: 6 for target class tensor([3]). Step 50, Loss: 0.028553785756230354\n",
      "Generating Image Number: 6 for target class tensor([3]). Step 100, Loss: 0.020232604816555977\n",
      "Generating Image Number: 6 for target class tensor([3]). Step 150, Loss: 0.019046513363718987\n",
      "Generating Image Number: 6 for target class tensor([3]). Step 200, Loss: 0.018160847947001457\n",
      "Generating Image Number: 6 for target class tensor([3]). Step 250, Loss: 0.01733415201306343\n",
      "Generating Image Number: 6 for target class tensor([3]). Step 300, Loss: 0.016610892489552498\n",
      "Generating Image Number: 6 for target class tensor([3]). Step 350, Loss: 0.015959851443767548\n",
      "Generating Image Number: 6 for target class tensor([3]). Step 400, Loss: 0.015306037850677967\n",
      "Generating Image Number: 6 for target class tensor([3]). Step 450, Loss: 0.014701603911817074\n",
      "Generating Image Number: 7 for target class tensor([3]). Step 0, Loss: 0.615716814994812\n",
      "Generating Image Number: 7 for target class tensor([3]). Step 50, Loss: 0.3126751482486725\n",
      "Generating Image Number: 7 for target class tensor([3]). Step 100, Loss: 0.17931778728961945\n",
      "Generating Image Number: 7 for target class tensor([3]). Step 150, Loss: 0.12285482883453369\n",
      "Generating Image Number: 7 for target class tensor([3]). Step 200, Loss: 0.0894700214266777\n",
      "Generating Image Number: 7 for target class tensor([3]). Step 250, Loss: 0.06873267143964767\n",
      "Generating Image Number: 7 for target class tensor([3]). Step 300, Loss: 0.05771493911743164\n",
      "Generating Image Number: 7 for target class tensor([3]). Step 350, Loss: 0.04937396198511124\n",
      "Generating Image Number: 7 for target class tensor([3]). Step 400, Loss: 0.043697379529476166\n",
      "Generating Image Number: 7 for target class tensor([3]). Step 450, Loss: 0.0394284687936306\n",
      "Generating Image Number: 8 for target class tensor([3]). Step 0, Loss: 0.2668876051902771\n",
      "Generating Image Number: 8 for target class tensor([3]). Step 50, Loss: 0.059358350932598114\n",
      "Generating Image Number: 8 for target class tensor([3]). Step 100, Loss: 0.04324664920568466\n",
      "Generating Image Number: 8 for target class tensor([3]). Step 150, Loss: 0.036428775638341904\n",
      "Generating Image Number: 8 for target class tensor([3]). Step 200, Loss: 0.031668517738580704\n",
      "Generating Image Number: 8 for target class tensor([3]). Step 250, Loss: 0.02833816036581993\n",
      "Generating Image Number: 8 for target class tensor([3]). Step 300, Loss: 0.02578313834965229\n",
      "Generating Image Number: 8 for target class tensor([3]). Step 350, Loss: 0.023658597841858864\n",
      "Generating Image Number: 8 for target class tensor([3]). Step 400, Loss: 0.0218023881316185\n",
      "Generating Image Number: 8 for target class tensor([3]). Step 450, Loss: 0.020606013014912605\n",
      "Generating Image Number: 9 for target class tensor([3]). Step 0, Loss: 1.0305733680725098\n",
      "Generating Image Number: 9 for target class tensor([3]). Step 50, Loss: 0.06739484518766403\n",
      "Generating Image Number: 9 for target class tensor([3]). Step 100, Loss: 0.030866559594869614\n",
      "Generating Image Number: 9 for target class tensor([3]). Step 150, Loss: 0.01939990371465683\n",
      "Generating Image Number: 9 for target class tensor([3]). Step 200, Loss: 0.013829482719302177\n",
      "Generating Image Number: 9 for target class tensor([3]). Step 250, Loss: 0.010981952771544456\n",
      "Generating Image Number: 9 for target class tensor([3]). Step 300, Loss: 0.009218745864927769\n",
      "Generating Image Number: 9 for target class tensor([3]). Step 350, Loss: 0.008058061823248863\n",
      "Generating Image Number: 9 for target class tensor([3]). Step 400, Loss: 0.007270071189850569\n",
      "Generating Image Number: 9 for target class tensor([3]). Step 450, Loss: 0.006580350920557976\n",
      "Generating Image Number: 10 for target class tensor([3]). Step 0, Loss: 2.175863742828369\n",
      "Generating Image Number: 10 for target class tensor([3]). Step 50, Loss: 0.6591634154319763\n",
      "Generating Image Number: 10 for target class tensor([3]). Step 100, Loss: 0.08193209767341614\n",
      "Generating Image Number: 10 for target class tensor([3]). Step 150, Loss: 0.0490640364587307\n",
      "Generating Image Number: 10 for target class tensor([3]). Step 200, Loss: 0.03808915242552757\n",
      "Generating Image Number: 10 for target class tensor([3]). Step 250, Loss: 0.03133191540837288\n",
      "Generating Image Number: 10 for target class tensor([3]). Step 300, Loss: 0.02667856216430664\n",
      "Generating Image Number: 10 for target class tensor([3]). Step 350, Loss: 0.023125242441892624\n",
      "Generating Image Number: 10 for target class tensor([3]). Step 400, Loss: 0.020237160846590996\n",
      "Generating Image Number: 10 for target class tensor([3]). Step 450, Loss: 0.017917677760124207\n",
      "Generating Image Number: 11 for target class tensor([3]). Step 0, Loss: 0.8626237511634827\n",
      "Generating Image Number: 11 for target class tensor([3]). Step 50, Loss: 0.04904666915535927\n",
      "Generating Image Number: 11 for target class tensor([3]). Step 100, Loss: 0.02830629236996174\n",
      "Generating Image Number: 11 for target class tensor([3]). Step 150, Loss: 0.019918421283364296\n",
      "Generating Image Number: 11 for target class tensor([3]). Step 200, Loss: 0.015112663619220257\n",
      "Generating Image Number: 11 for target class tensor([3]). Step 250, Loss: 0.012138896621763706\n",
      "Generating Image Number: 11 for target class tensor([3]). Step 300, Loss: 0.010214199312031269\n",
      "Generating Image Number: 11 for target class tensor([3]). Step 350, Loss: 0.008725020103156567\n",
      "Generating Image Number: 11 for target class tensor([3]). Step 400, Loss: 0.007559857796877623\n",
      "Generating Image Number: 11 for target class tensor([3]). Step 450, Loss: 0.0065410323441028595\n",
      "Generating Image Number: 12 for target class tensor([3]). Step 0, Loss: 2.9612045288085938\n",
      "Generating Image Number: 12 for target class tensor([3]). Step 50, Loss: 0.23093363642692566\n",
      "Generating Image Number: 12 for target class tensor([3]). Step 100, Loss: 0.1511641889810562\n",
      "Generating Image Number: 12 for target class tensor([3]). Step 150, Loss: 0.1271032840013504\n",
      "Generating Image Number: 12 for target class tensor([3]). Step 200, Loss: 0.11344544589519501\n",
      "Generating Image Number: 12 for target class tensor([3]). Step 250, Loss: 0.10161186009645462\n",
      "Generating Image Number: 12 for target class tensor([3]). Step 300, Loss: 0.09030477702617645\n",
      "Generating Image Number: 12 for target class tensor([3]). Step 350, Loss: 0.08015333116054535\n",
      "Generating Image Number: 12 for target class tensor([3]). Step 400, Loss: 0.07308568060398102\n",
      "Generating Image Number: 12 for target class tensor([3]). Step 450, Loss: 0.06780251860618591\n",
      "Generating Image Number: 13 for target class tensor([3]). Step 0, Loss: 3.9563803672790527\n",
      "Generating Image Number: 13 for target class tensor([3]). Step 50, Loss: 0.23110461235046387\n",
      "Generating Image Number: 13 for target class tensor([3]). Step 100, Loss: 0.18937155604362488\n",
      "Generating Image Number: 13 for target class tensor([3]). Step 150, Loss: 0.17063242197036743\n",
      "Generating Image Number: 13 for target class tensor([3]). Step 200, Loss: 0.15148460865020752\n",
      "Generating Image Number: 13 for target class tensor([3]). Step 250, Loss: 0.13443569839000702\n",
      "Generating Image Number: 13 for target class tensor([3]). Step 300, Loss: 0.12174658477306366\n",
      "Generating Image Number: 13 for target class tensor([3]). Step 350, Loss: 0.11255544424057007\n",
      "Generating Image Number: 13 for target class tensor([3]). Step 400, Loss: 0.10578340291976929\n",
      "Generating Image Number: 13 for target class tensor([3]). Step 450, Loss: 0.09958963841199875\n",
      "Generating Image Number: 14 for target class tensor([3]). Step 0, Loss: 0.8287575244903564\n",
      "Generating Image Number: 14 for target class tensor([3]). Step 50, Loss: 0.08465319871902466\n",
      "Generating Image Number: 14 for target class tensor([3]). Step 100, Loss: 0.05463492125272751\n",
      "Generating Image Number: 14 for target class tensor([3]). Step 150, Loss: 0.041193362325429916\n",
      "Generating Image Number: 14 for target class tensor([3]). Step 200, Loss: 0.0319417379796505\n",
      "Generating Image Number: 14 for target class tensor([3]). Step 250, Loss: 0.02500690333545208\n",
      "Generating Image Number: 14 for target class tensor([3]). Step 300, Loss: 0.02031262405216694\n",
      "Generating Image Number: 14 for target class tensor([3]). Step 350, Loss: 0.017108358442783356\n",
      "Generating Image Number: 14 for target class tensor([3]). Step 400, Loss: 0.01491056103259325\n",
      "Generating Image Number: 14 for target class tensor([3]). Step 450, Loss: 0.013340969569981098\n",
      "Generating Image Number: 15 for target class tensor([3]). Step 0, Loss: 1.1655070781707764\n",
      "Generating Image Number: 15 for target class tensor([3]). Step 50, Loss: 0.12914694845676422\n",
      "Generating Image Number: 15 for target class tensor([3]). Step 100, Loss: 0.10593900084495544\n",
      "Generating Image Number: 15 for target class tensor([3]). Step 150, Loss: 0.09435184299945831\n",
      "Generating Image Number: 15 for target class tensor([3]). Step 200, Loss: 0.08441296964883804\n",
      "Generating Image Number: 15 for target class tensor([3]). Step 250, Loss: 0.07662414759397507\n",
      "Generating Image Number: 15 for target class tensor([3]). Step 300, Loss: 0.0712386965751648\n",
      "Generating Image Number: 15 for target class tensor([3]). Step 350, Loss: 0.06715621799230576\n",
      "Generating Image Number: 15 for target class tensor([3]). Step 400, Loss: 0.06264369934797287\n",
      "Generating Image Number: 15 for target class tensor([3]). Step 450, Loss: 0.058498699218034744\n",
      "Generating Image Number: 16 for target class tensor([3]). Step 0, Loss: 3.4070703983306885\n",
      "Generating Image Number: 16 for target class tensor([3]). Step 50, Loss: 2.8304097652435303\n",
      "Generating Image Number: 16 for target class tensor([3]). Step 100, Loss: 2.481628894805908\n",
      "Generating Image Number: 16 for target class tensor([3]). Step 150, Loss: 2.2442474365234375\n",
      "Generating Image Number: 16 for target class tensor([3]). Step 200, Loss: 1.9545042514801025\n",
      "Generating Image Number: 16 for target class tensor([3]). Step 250, Loss: 1.46089506149292\n",
      "Generating Image Number: 16 for target class tensor([3]). Step 300, Loss: 1.0501539707183838\n",
      "Generating Image Number: 16 for target class tensor([3]). Step 350, Loss: 0.8401102423667908\n",
      "Generating Image Number: 16 for target class tensor([3]). Step 400, Loss: 0.7162065505981445\n",
      "Generating Image Number: 16 for target class tensor([3]). Step 450, Loss: 0.6288925409317017\n",
      "Generating Image Number: 17 for target class tensor([3]). Step 0, Loss: 0.24357959628105164\n",
      "Generating Image Number: 17 for target class tensor([3]). Step 50, Loss: 0.08319073915481567\n",
      "Generating Image Number: 17 for target class tensor([3]). Step 100, Loss: 0.054669007658958435\n",
      "Generating Image Number: 17 for target class tensor([3]). Step 150, Loss: 0.04447384178638458\n",
      "Generating Image Number: 17 for target class tensor([3]). Step 200, Loss: 0.037622224539518356\n",
      "Generating Image Number: 17 for target class tensor([3]). Step 250, Loss: 0.03354087471961975\n",
      "Generating Image Number: 17 for target class tensor([3]). Step 300, Loss: 0.02967635728418827\n",
      "Generating Image Number: 17 for target class tensor([3]). Step 350, Loss: 0.0273690614849329\n",
      "Generating Image Number: 17 for target class tensor([3]). Step 400, Loss: 0.02522115781903267\n",
      "Generating Image Number: 17 for target class tensor([3]). Step 450, Loss: 0.02335352450609207\n",
      "Generating Image Number: 18 for target class tensor([3]). Step 0, Loss: 3.239056348800659\n",
      "Generating Image Number: 18 for target class tensor([3]). Step 50, Loss: 0.3226938545703888\n",
      "Generating Image Number: 18 for target class tensor([3]). Step 100, Loss: 0.24149158596992493\n",
      "Generating Image Number: 18 for target class tensor([3]). Step 150, Loss: 0.19126036763191223\n",
      "Generating Image Number: 18 for target class tensor([3]). Step 200, Loss: 0.1606045812368393\n",
      "Generating Image Number: 18 for target class tensor([3]). Step 250, Loss: 0.14164820313453674\n",
      "Generating Image Number: 18 for target class tensor([3]). Step 300, Loss: 0.12660187482833862\n",
      "Generating Image Number: 18 for target class tensor([3]). Step 350, Loss: 0.10827819257974625\n",
      "Generating Image Number: 18 for target class tensor([3]). Step 400, Loss: 0.09374071657657623\n",
      "Generating Image Number: 18 for target class tensor([3]). Step 450, Loss: 0.08325907588005066\n",
      "Generating Image Number: 19 for target class tensor([3]). Step 0, Loss: 4.035548210144043\n",
      "Generating Image Number: 19 for target class tensor([3]). Step 50, Loss: 0.24901792407035828\n",
      "Generating Image Number: 19 for target class tensor([3]). Step 100, Loss: 0.15858447551727295\n",
      "Generating Image Number: 19 for target class tensor([3]). Step 150, Loss: 0.12832985818386078\n",
      "Generating Image Number: 19 for target class tensor([3]). Step 200, Loss: 0.1121341809630394\n",
      "Generating Image Number: 19 for target class tensor([3]). Step 250, Loss: 0.0960010513663292\n",
      "Generating Image Number: 19 for target class tensor([3]). Step 300, Loss: 0.08592910319566727\n",
      "Generating Image Number: 19 for target class tensor([3]). Step 350, Loss: 0.07548577338457108\n",
      "Generating Image Number: 19 for target class tensor([3]). Step 400, Loss: 0.06725709140300751\n",
      "Generating Image Number: 19 for target class tensor([3]). Step 450, Loss: 0.060702819377183914\n",
      "Generating Image Number: 20 for target class tensor([3]). Step 0, Loss: 3.3428807258605957\n",
      "Generating Image Number: 20 for target class tensor([3]). Step 50, Loss: 0.4004530906677246\n",
      "Generating Image Number: 20 for target class tensor([3]). Step 100, Loss: 0.23401950299739838\n",
      "Generating Image Number: 20 for target class tensor([3]). Step 150, Loss: 0.16130514442920685\n",
      "Generating Image Number: 20 for target class tensor([3]). Step 200, Loss: 0.12918151915073395\n",
      "Generating Image Number: 20 for target class tensor([3]). Step 250, Loss: 0.11109410971403122\n",
      "Generating Image Number: 20 for target class tensor([3]). Step 300, Loss: 0.09552052617073059\n",
      "Generating Image Number: 20 for target class tensor([3]). Step 350, Loss: 0.08214053511619568\n",
      "Generating Image Number: 20 for target class tensor([3]). Step 400, Loss: 0.06872554868459702\n",
      "Generating Image Number: 20 for target class tensor([3]). Step 450, Loss: 0.062382772564888\n"
     ]
    }
   ],
   "source": [
    "torch.manual_seed(300)\n",
    "latent_vectors = torch.randn(img_count, z_dim, 1, 1, requires_grad=True) # Start with 20 random noises\n",
    "class3_optimized_latent_vectors = recover_images(img_count, 3, latent_vectors)"
   ]
  },
  {
   "cell_type": "code",
   "execution_count": 24,
   "id": "ae6425a5-dd86-4e87-8112-883336345ac9",
   "metadata": {},
   "outputs": [],
   "source": [
    "z0_1 = class0_optimized_latent_vectors[0]\n",
    "z0_2 = class0_optimized_latent_vectors[1]\n",
    "z0_3 = class0_optimized_latent_vectors[2]"
   ]
  },
  {
   "cell_type": "code",
   "execution_count": 25,
   "id": "3a6ed4fb-b693-4963-afcf-17a512e50b5f",
   "metadata": {},
   "outputs": [
    {
     "name": "stdout",
     "output_type": "stream",
     "text": [
      "torch.Size([64, 64])\n"
     ]
    }
   ],
   "source": [
    "# Display the generated image\n",
    "img = gen(z0_1.to(device)).squeeze(dim=0).squeeze(dim=0)\n",
    "print(img.shape)"
   ]
  },
  {
   "cell_type": "code",
   "execution_count": 26,
   "id": "88fc9416-c6ca-486b-bd72-63885de78d1c",
   "metadata": {},
   "outputs": [
    {
     "data": {
      "text/plain": [
       "<matplotlib.image.AxesImage at 0x1caa1234bb0>"
      ]
     },
     "execution_count": 26,
     "metadata": {},
     "output_type": "execute_result"
    },
    {
     "data": {
      "image/png": "[encoded data removed]",
      "text/plain": [
       "<Figure size 640x480 with 1 Axes>"
      ]
     },
     "metadata": {},
     "output_type": "display_data"
    }
   ],
   "source": [
    "plt.axis(False)\n",
    "plt.title('Recovered Image:')\n",
    "plt.imshow(img.cpu().detach(), cmap='gray')"
   ]
  },
  {
   "cell_type": "code",
   "execution_count": 27,
   "id": "bb0fc370-78c5-495f-b1e7-1239873b4ff8",
   "metadata": {},
   "outputs": [],
   "source": [
    "z1 = class1_optimized_latent_vectors[0]\n",
    "z2 = class1_optimized_latent_vectors[1]\n",
    "z3 = class1_optimized_latent_vectors[2]"
   ]
  },
  {
   "cell_type": "code",
   "execution_count": 28,
   "id": "07f38b7d-14f6-4d63-9efa-cb96ec2e1d35",
   "metadata": {},
   "outputs": [
    {
     "name": "stdout",
     "output_type": "stream",
     "text": [
      "torch.Size([64, 64])\n"
     ]
    }
   ],
   "source": [
    "# Display the generated image\n",
    "img = gen(z1.to(device)).squeeze(dim=0).squeeze(dim=0)\n",
    "print(img.shape)"
   ]
  },
  {
   "cell_type": "code",
   "execution_count": 29,
   "id": "8cad57ff-7961-4078-9dd4-1e0b4879ff56",
   "metadata": {},
   "outputs": [
    {
     "data": {
      "text/plain": [
       "<matplotlib.image.AxesImage at 0x1caa13f0f10>"
      ]
     },
     "execution_count": 29,
     "metadata": {},
     "output_type": "execute_result"
    },
    {
     "data": {
      "image/png": "[encoded data removed]",
      "text/plain": [
       "<Figure size 640x480 with 1 Axes>"
      ]
     },
     "metadata": {},
     "output_type": "display_data"
    }
   ],
   "source": [
    "plt.axis(False)\n",
    "plt.title('Recovered Image:')\n",
    "plt.imshow(img.cpu().detach(), cmap='gray')"
   ]
  },
  {
   "cell_type": "code",
   "execution_count": 30,
   "id": "52ecd67d-cb2d-44a3-b375-759d63db75b1",
   "metadata": {},
   "outputs": [],
   "source": [
    "                                                            # Dataset Loading\n",
    "# Load the .pkl files in as numpy arrays of pixels\n",
    "def load_tumor_data(file_path):\n",
    "    train_xs = []\n",
    "    train_ys = []\n",
    "    \"\"\" Load Digits Data from pickle data\n",
    "    return:\n",
    "    @xs: numpy.array, (n, c, w, h) \n",
    "    @ys: numpy.array, (n, ), 0-9\n",
    "    \"\"\"\n",
    "    with open(file_path, 'rb') as file:\n",
    "        data = pickle.load(file)\n",
    "        train_xs.append(data[\"data\"])\n",
    "        train_ys.append(data[\"labels\"])\n",
    "    train_xs = np.concatenate(train_xs, axis=0)\n",
    "    train_ys = np.concatenate(train_ys, axis=0)\n",
    "    \n",
    "    return train_xs, train_ys"
   ]
  },
  {
   "cell_type": "code",
   "execution_count": 31,
   "id": "ca72f62f-1eec-4b17-a8ce-fd66781f64f6",
   "metadata": {},
   "outputs": [],
   "source": [
    "# Custom Tumor Dataset\n",
    "class TumorDataset(data.Dataset):\n",
    "    def __init__(self, xs, ys, is_train=True):\n",
    "        self.xs = xs\n",
    "        self.ys = ys\n",
    "\n",
    "        if is_train is True:\n",
    "            self.transform = transforms.Compose([\n",
    "                transforms.ToPILImage(),\n",
    "                transforms.Resize((64, 64)),\n",
    "                transforms.ToTensor(),\n",
    "                transforms.Normalize(\n",
    "                    [0.5],\n",
    "                    [0.5]\n",
    "                )\n",
    "            ])\n",
    "        else:\n",
    "            self.transform = transforms.Compose([\n",
    "                transforms.ToPILImage(),\n",
    "                transforms.Resize((64, 64)),\n",
    "                transforms.ToTensor(),\n",
    "                transforms.Normalize(\n",
    "                    (0.4914, 0.4822, 0.4465),\n",
    "                    (0.2023, 0.1994, 0.2010)\n",
    "                )\n",
    "            ])\n",
    "\n",
    "    def __len__(self):\n",
    "        return len(self.xs)\n",
    "\n",
    "    def __getitem__(self, index):\n",
    "        img = self.xs[index]\n",
    "        #print(img.shape)\n",
    "        label = self.ys[index]\n",
    "\n",
    "        img = img.transpose((1, 2, 0)).astype(np.uint8)\n",
    "        img = self.transform(img)\n",
    "\n",
    "        img = torch.FloatTensor(img)\n",
    "        label = torch.LongTensor([label])[0]\n",
    "        return img, label"
   ]
  },
  {
   "cell_type": "code",
   "execution_count": 32,
   "id": "ceb91588-ef69-4373-b33f-74aed6c246bb",
   "metadata": {},
   "outputs": [],
   "source": [
    "def create_dataset(train_xs, train_ys):\n",
    "    tumor_dataset = TumorDataset(train_xs, train_ys, is_train=True)\n",
    "\n",
    "    return tumor_dataset"
   ]
  },
  {
   "cell_type": "code",
   "execution_count": 33,
   "id": "0415fba0-830c-42c6-bbde-c6958e779fbb",
   "metadata": {},
   "outputs": [],
   "source": [
    "def create_dataloader(dataset):\n",
    "    dataloader = DataLoader(dataset=dataset, batch_size=128, shuffle=True)\n",
    "\n",
    "    return dataloader"
   ]
  },
  {
   "cell_type": "code",
   "execution_count": 34,
   "id": "726d4995-5133-4037-ab0e-f2705470cdc9",
   "metadata": {},
   "outputs": [
    {
     "name": "stdout",
     "output_type": "stream",
     "text": [
      "(13927, 1, 32, 32)\n",
      "<class 'numpy.ndarray'>\n"
     ]
    }
   ],
   "source": [
    "# Load in the pickle dataset file\n",
    "train_xs, train_ys = load_tumor_data('datasets/Tumor/tumor4train.pkl')\n",
    "#train_xs = train_xs[:, 1, :, :]\n",
    "#train_xs = np.expand_dims(train_xs, axis=1)\n",
    "train_xs = train_xs.mean(axis=1, keepdims=True)\n",
    "print(train_xs.shape)\n",
    "print(type(train_xs))"
   ]
  },
  {
   "cell_type": "code",
   "execution_count": 35,
   "id": "a684b01a-eb4a-4210-9f59-d613085a404a",
   "metadata": {},
   "outputs": [],
   "source": [
    "# Create the dataset\n",
    "tumor_dataset = create_dataset(train_xs, train_ys)"
   ]
  },
  {
   "cell_type": "code",
   "execution_count": 36,
   "id": "193f07cc-d34f-425e-aa08-62b6d6adbad6",
   "metadata": {},
   "outputs": [],
   "source": [
    "def visualize_image(image_x):\n",
    "    # We have to visualize by reverting the normalization (just for visualization).\n",
    "    mean = torch.tensor([0.5])\n",
    "    std = torch.tensor([0.5])\n",
    "\n",
    "    image = image_x * std + mean  # Denormalize the image\n",
    "\n",
    "    image = torch.clamp(image, 0, 1) # Clip values to [0, 1] to ensure valid range for display\n",
    "\n",
    "    # Permute the image to (H, W, C) for matplotlib\n",
    "    \n",
    "    image = image.permute(1, 2, 0)\n",
    "\n",
    "    plt.imshow(image, cmap='gray')"
   ]
  },
  {
   "cell_type": "code",
   "execution_count": 37,
   "id": "16e93c17-a89b-46a2-8198-71e66e370f4f",
   "metadata": {},
   "outputs": [
    {
     "name": "stdout",
     "output_type": "stream",
     "text": [
      "torch.Size([1, 64, 64])\n"
     ]
    },
    {
     "data": {
      "image/png": "[encoded data removed]",
      "text/plain": [
       "<Figure size 640x480 with 1 Axes>"
      ]
     },
     "metadata": {},
     "output_type": "display_data"
    }
   ],
   "source": [
    "# Visualize the first tumor sample. \n",
    "image_x, image_y = tumor_dataset[7000]\n",
    "print(image_x.shape)\n",
    "visualize_image(image_x)"
   ]
  },
  {
   "cell_type": "code",
   "execution_count": 38,
   "id": "60e2da47-7cb6-493e-aeda-aa80d7965de7",
   "metadata": {},
   "outputs": [],
   "source": [
    "from scipy.spatial.distance import cosine"
   ]
  },
  {
   "cell_type": "code",
   "execution_count": 39,
   "id": "5a7937e5-b808-4b3e-8288-75dcd9862340",
   "metadata": {},
   "outputs": [],
   "source": [
    "# Get the feature embeddings\n",
    "tfcnn_model = target_model = load_target_model(base_net='TFCNN', n_classes=4, path='saved models/fedavg_global_model.pth').to(device)\n",
    "model_embeddings = tfcnn_model.encoder.to(device)"
   ]
  },
  {
   "cell_type": "code",
   "execution_count": 40,
   "id": "737e3d92-45b6-45f6-9bf2-d51f379d6ac8",
   "metadata": {},
   "outputs": [],
   "source": [
    "# Preprocessing\n",
    "preprocess = transforms.Compose([\n",
    "    transforms.Resize(256),\n",
    "    transforms.CenterCrop(224),\n",
    "    transforms.ToTensor(),\n",
    "])"
   ]
  },
  {
   "cell_type": "code",
   "execution_count": 41,
   "id": "babb1015-bdfb-439b-bea1-81f9f50dd74e",
   "metadata": {},
   "outputs": [],
   "source": [
    "def get_feature(img):\n",
    "    with torch.no_grad():\n",
    "        features = model_embeddings(img).squeeze()\n",
    "    return features.cpu().numpy()"
   ]
  },
  {
   "cell_type": "code",
   "execution_count": 42,
   "id": "79f38654-6670-440d-a322-b2cae18a71d8",
   "metadata": {},
   "outputs": [
    {
     "data": {
      "text/plain": [
       "torch.Size([1, 64, 64])"
      ]
     },
     "execution_count": 42,
     "metadata": {},
     "output_type": "execute_result"
    }
   ],
   "source": [
    "# Send an original image through the model\n",
    "image_x, image_y = tumor_dataset[10]\n",
    "image_x.shape"
   ]
  },
  {
   "cell_type": "code",
   "execution_count": 43,
   "id": "a4a2659e-dcaa-4d4a-b5a5-06b363ce6534",
   "metadata": {},
   "outputs": [],
   "source": [
    "image_x = image_x.unsqueeze(dim=0)"
   ]
  },
  {
   "cell_type": "code",
   "execution_count": 44,
   "id": "14348bfc-5988-48f0-88cf-4761d7a99d89",
   "metadata": {},
   "outputs": [
    {
     "data": {
      "text/plain": [
       "torch.Size([1, 1, 64, 64])"
      ]
     },
     "execution_count": 44,
     "metadata": {},
     "output_type": "execute_result"
    }
   ],
   "source": [
    "image_x.shape"
   ]
  },
  {
   "cell_type": "code",
   "execution_count": 45,
   "id": "66160253-9543-4aba-bb81-031d51ef9623",
   "metadata": {},
   "outputs": [
    {
     "data": {
      "text/plain": [
       "torch.Size([1, 3, 64, 64])"
      ]
     },
     "execution_count": 45,
     "metadata": {},
     "output_type": "execute_result"
    }
   ],
   "source": [
    "image_x = image_x.repeat(1, 3, 1, 1)\n",
    "image_x = image_x.to(device)\n",
    "image_x.shape"
   ]
  },
  {
   "cell_type": "code",
   "execution_count": 46,
   "id": "f615c7d3-2dab-425d-81e1-2595ec59e230",
   "metadata": {},
   "outputs": [
    {
     "data": {
      "text/plain": [
       "(4096,)"
      ]
     },
     "execution_count": 46,
     "metadata": {},
     "output_type": "execute_result"
    }
   ],
   "source": [
    "features = get_feature(image_x)\n",
    "features.shape"
   ]
  },
  {
   "cell_type": "code",
   "execution_count": 47,
   "id": "31b9ddc9-3fc8-4a47-bfc7-74a6df27d672",
   "metadata": {},
   "outputs": [],
   "source": [
    "class0_original_images = []\n",
    "class1_original_images = []\n",
    "class2_original_images = []\n",
    "class3_original_images = []\n",
    "target_num = 20 # 20 images for each class"
   ]
  },
  {
   "cell_type": "code",
   "execution_count": 48,
   "id": "e804c948-2dc8-41df-a633-113300baf12a",
   "metadata": {},
   "outputs": [],
   "source": [
    "for i in range(len(tumor_dataset)):\n",
    "    img_x, img_y = tumor_dataset[i]\n",
    "\n",
    "    if img_y == 0:\n",
    "        if len(class0_original_images) < target_num:\n",
    "            class0_original_images.append(img_x)\n",
    "    elif img_y == 1:\n",
    "        if len(class1_original_images) < target_num:\n",
    "            class1_original_images.append(img_x)\n",
    "    elif img_y == 2:\n",
    "        if len(class2_original_images) < target_num:\n",
    "            class2_original_images.append(img_x)\n",
    "    elif img_y == 3:\n",
    "        if len(class3_original_images) < target_num:\n",
    "            class3_original_images.append(img_x)"
   ]
  },
  {
   "cell_type": "code",
   "execution_count": 49,
   "id": "ef07c896-c4cd-48da-9e59-c9d7bd90a4e8",
   "metadata": {},
   "outputs": [
    {
     "data": {
      "text/plain": [
       "20"
      ]
     },
     "execution_count": 49,
     "metadata": {},
     "output_type": "execute_result"
    }
   ],
   "source": [
    "len(class3_original_images)"
   ]
  },
  {
   "cell_type": "code",
   "execution_count": 50,
   "id": "e102404a-68a3-40c5-99a7-45813eb87f20",
   "metadata": {},
   "outputs": [
    {
     "data": {
      "text/plain": [
       "torch.Size([1, 3, 64, 64])"
      ]
     },
     "execution_count": 50,
     "metadata": {},
     "output_type": "execute_result"
    }
   ],
   "source": [
    "# Testing the cosine similarity\n",
    "class1_original_image = class1_original_images[8]\n",
    "class1_original_image = class1_original_image.unsqueeze(dim=0).to(device)\n",
    "class1_original_image = class1_original_image.repeat(1, 3, 1, 1)\n",
    "class1_original_image.shape"
   ]
  },
  {
   "cell_type": "code",
   "execution_count": 51,
   "id": "d7fe9c85-2c83-4580-be7d-32833b706948",
   "metadata": {},
   "outputs": [],
   "source": [
    "fake1 = class1_optimized_latent_vectors[8]\n",
    "fake1_image = gen(fake1.to(device))\n",
    "fake1_image = fake1_image.repeat(1, 3, 1, 1)"
   ]
  },
  {
   "cell_type": "code",
   "execution_count": 52,
   "id": "74647152-cdcb-4593-a88f-d3ac43fd97d3",
   "metadata": {},
   "outputs": [
    {
     "data": {
      "text/plain": [
       "torch.Size([1, 3, 64, 64])"
      ]
     },
     "execution_count": 52,
     "metadata": {},
     "output_type": "execute_result"
    }
   ],
   "source": [
    "fake1_image.shape"
   ]
  },
  {
   "cell_type": "code",
   "execution_count": 75,
   "id": "b55933fb-14aa-47c2-bdb7-80844c1cc377",
   "metadata": {},
   "outputs": [
    {
     "name": "stdout",
     "output_type": "stream",
     "text": [
      "torch.Size([1, 64, 64])\n"
     ]
    },
    {
     "data": {
      "image/png": "[encoded data removed]",
      "text/plain": [
       "<Figure size 640x480 with 1 Axes>"
      ]
     },
     "metadata": {},
     "output_type": "display_data"
    }
   ],
   "source": [
    "fake = class0_optimized_latent_vectors[19]\n",
    "fake_img = gen(fake.to(device)).squeeze(dim=0)\n",
    "print(fake_img.shape)\n",
    "visualize_image(fake_img.detach().cpu())"
   ]
  },
  {
   "cell_type": "code",
   "execution_count": 54,
   "id": "e88f6396-0ef2-45f5-96e0-6048be01af25",
   "metadata": {},
   "outputs": [],
   "source": [
    "# Get the features of the images\n",
    "features_original = get_feature(class1_original_image)\n",
    "features_fake = get_feature(fake1_image)"
   ]
  },
  {
   "cell_type": "code",
   "execution_count": 55,
   "id": "b54e2bca-5f2b-41ea-b810-15d1f9d30f86",
   "metadata": {},
   "outputs": [],
   "source": [
    "# Compute cosine similarity\n",
    "similarity = 1 - cosine(features_original, features_fake)"
   ]
  },
  {
   "cell_type": "code",
   "execution_count": 56,
   "id": "983c7e35-27ee-453c-9356-cb9a84fdd4a3",
   "metadata": {},
   "outputs": [
    {
     "data": {
      "text/plain": [
       "np.float32(0.6229767)"
      ]
     },
     "execution_count": 56,
     "metadata": {},
     "output_type": "execute_result"
    }
   ],
   "source": [
    "similarity"
   ]
  },
  {
   "cell_type": "code",
   "execution_count": 57,
   "id": "e65e04e8-52b7-4cf2-876c-d9b07a435ec9",
   "metadata": {},
   "outputs": [],
   "source": [
    "def calculate_class0_sim():\n",
    "    similarities = []\n",
    "    for i in range(0, 20):\n",
    "        class0_original = class0_original_images[i].unsqueeze(dim=0).to(device)\n",
    "        class0_original = class0_original.repeat(1, 3, 1, 1)\n",
    "\n",
    "        class0_fake = class0_optimized_latent_vectors[i]\n",
    "        class0_fake_img = gen(class0_fake.to(device))\n",
    "        class0_fake_img = class0_fake_img.repeat(1, 3, 1, 1)\n",
    "\n",
    "        features_original = get_feature(class0_original)\n",
    "        features_fake = get_feature(class0_fake_img)\n",
    "\n",
    "        cosine_similarity = 1 - cosine(features_original, features_fake)\n",
    "\n",
    "        similarities.append(cosine_similarity)\n",
    "        \n",
    "    return similarities"
   ]
  },
  {
   "cell_type": "code",
   "execution_count": 58,
   "id": "10d8f579-0b80-4157-b59b-7b92be9e52f2",
   "metadata": {},
   "outputs": [],
   "source": [
    "def calculate_class1_sim():\n",
    "    similarities = []\n",
    "    for i in range(0, 20):\n",
    "        class1_original = class1_original_images[i].unsqueeze(dim=0).to(device)\n",
    "        class1_original = class1_original.repeat(1, 3, 1, 1)\n",
    "\n",
    "        class1_fake = class1_optimized_latent_vectors[i]\n",
    "        class1_fake_img = gen(class1_fake.to(device))\n",
    "        class1_fake_img = class1_fake_img.repeat(1, 3, 1, 1)\n",
    "\n",
    "        features_original = get_feature(class1_original)\n",
    "        features_fake = get_feature(class1_fake_img)\n",
    "\n",
    "        cosine_similarity = 1 - cosine(features_original, features_fake)\n",
    "        similarities.append(cosine_similarity)\n",
    "\n",
    "    return similarities"
   ]
  },
  {
   "cell_type": "code",
   "execution_count": 59,
   "id": "1bbdc999-fa6d-4005-b785-3c54a7bd89ee",
   "metadata": {},
   "outputs": [],
   "source": [
    "def calculate_class2_sim():\n",
    "    similarities = []\n",
    "    for i in range(0, 20):\n",
    "        class2_original = class2_original_images[i].unsqueeze(dim=0).to(device)\n",
    "        class2_original = class2_original.repeat(1, 3, 1, 1)\n",
    "\n",
    "        class2_fake = class2_optimized_latent_vectors[i]\n",
    "        class2_fake_img = gen(class2_fake.to(device))\n",
    "        class2_fake_img = class2_fake_img.repeat(1, 3, 1, 1)\n",
    "\n",
    "        features_original = get_feature(class2_original)\n",
    "        features_fake = get_feature(class2_fake_img)\n",
    "\n",
    "        cosine_similarity = 1 - cosine(features_original, features_fake)\n",
    "        similarities.append(cosine_similarity)\n",
    "\n",
    "    return similarities"
   ]
  },
  {
   "cell_type": "code",
   "execution_count": 60,
   "id": "33cb8de1-5a87-4dd4-8fc2-d3f27d6ddc9a",
   "metadata": {},
   "outputs": [],
   "source": [
    "def calculate_class3_sim():\n",
    "    similarities = []\n",
    "    for i in range(0, 20):\n",
    "        class3_original = class3_original_images[i].unsqueeze(dim=0).to(device)\n",
    "        class3_original = class3_original.repeat(1, 3, 1, 1)\n",
    "\n",
    "        class3_fake = class3_optimized_latent_vectors[i]\n",
    "        class3_fake_img = gen(class3_fake.to(device))\n",
    "        class3_fake_img = class3_fake_img.repeat(1, 3, 1, 1)\n",
    "\n",
    "        features_original = get_feature(class3_original)\n",
    "        features_fake = get_feature(class3_fake_img)\n",
    "\n",
    "        cosine_similarity = 1 - cosine(features_original, features_fake)\n",
    "        similarities.append(cosine_similarity)\n",
    "\n",
    "    return similarities"
   ]
  },
  {
   "cell_type": "code",
   "execution_count": 61,
   "id": "7868f175-5845-4ee4-b4cf-1c89513375ec",
   "metadata": {},
   "outputs": [],
   "source": [
    "class0_sims = calculate_class0_sim()\n",
    "class1_sims = calculate_class0_sim()\n",
    "class2_sims = calculate_class0_sim()\n",
    "class3_sims = calculate_class0_sim()"
   ]
  },
  {
   "cell_type": "code",
   "execution_count": 62,
   "id": "bbf4597d-a583-4204-a3ce-9085936e0189",
   "metadata": {},
   "outputs": [
    {
     "data": {
      "text/plain": [
       "[np.float32(0.6146165),\n",
       " np.float32(0.5328526),\n",
       " np.float32(0.6859496),\n",
       " np.float32(0.02619636),\n",
       " np.float32(0.68317103),\n",
       " np.float32(0.40805387),\n",
       " np.float32(0.0185951),\n",
       " np.float32(0.5778492),\n",
       " np.float32(0.48779166),\n",
       " np.float32(0.6455671),\n",
       " np.float32(0.57118773),\n",
       " np.float32(0.021606088),\n",
       " np.float32(0.49259472),\n",
       " np.float32(0.8220747),\n",
       " np.float32(0.5581932),\n",
       " np.float32(0.8107079),\n",
       " np.float32(0.65554065),\n",
       " np.float32(0.67573315),\n",
       " np.float32(0.73852575),\n",
       " np.float32(0.6518012)]"
      ]
     },
     "execution_count": 62,
     "metadata": {},
     "output_type": "execute_result"
    }
   ],
   "source": [
    "class0_sims"
   ]
  },
  {
   "cell_type": "code",
   "execution_count": 63,
   "id": "acb9d480-a58f-4ce6-8973-eb9c8d6e7253",
   "metadata": {},
   "outputs": [
    {
     "data": {
      "text/plain": [
       "[np.float32(0.61461645),\n",
       " np.float32(0.5328526),\n",
       " np.float32(0.6859497),\n",
       " np.float32(0.02619636),\n",
       " np.float32(0.68317103),\n",
       " np.float32(0.40805393),\n",
       " np.float32(0.0185951),\n",
       " np.float32(0.57784927),\n",
       " np.float32(0.48779166),\n",
       " np.float32(0.64556754),\n",
       " np.float32(0.57118785),\n",
       " np.float32(0.021606088),\n",
       " np.float32(0.492594),\n",
       " np.float32(0.8220747),\n",
       " np.float32(0.5581932),\n",
       " np.float32(0.81070805),\n",
       " np.float32(0.65554065),\n",
       " np.float32(0.675733),\n",
       " np.float32(0.73852575),\n",
       " np.float32(0.6518012)]"
      ]
     },
     "execution_count": 63,
     "metadata": {},
     "output_type": "execute_result"
    }
   ],
   "source": [
    "class3_sims"
   ]
  },
  {
   "cell_type": "code",
   "execution_count": 64,
   "id": "58dc103d-1c30-473a-adc3-fcd5ca5100a0",
   "metadata": {},
   "outputs": [
    {
     "ename": "FileNotFoundError",
     "evalue": "[Errno 2] No such file or directory: 'output/fedvg.png'",
     "output_type": "error",
     "traceback": [
      "\u001b[1;31m---------------------------------------------------------------------------\u001b[0m",
      "\u001b[1;31mFileNotFoundError\u001b[0m                         Traceback (most recent call last)",
      "Cell \u001b[1;32mIn[64], line 43\u001b[0m\n\u001b[0;32m     41\u001b[0m plt\u001b[38;5;241m.\u001b[39mtight_layout()\n\u001b[0;32m     42\u001b[0m \u001b[38;5;66;03m# Save the plot to a file\u001b[39;00m\n\u001b[1;32m---> 43\u001b[0m \u001b[43mplt\u001b[49m\u001b[38;5;241;43m.\u001b[39;49m\u001b[43msavefig\u001b[49m\u001b[43m(\u001b[49m\u001b[38;5;124;43m'\u001b[39;49m\u001b[38;5;124;43moutput/fedvg.png\u001b[39;49m\u001b[38;5;124;43m'\u001b[39;49m\u001b[43m,\u001b[49m\u001b[43m \u001b[49m\u001b[43mdpi\u001b[49m\u001b[38;5;241;43m=\u001b[39;49m\u001b[38;5;241;43m300\u001b[39;49m\u001b[43m,\u001b[49m\u001b[43m \u001b[49m\u001b[43mbbox_inches\u001b[49m\u001b[38;5;241;43m=\u001b[39;49m\u001b[38;5;124;43m'\u001b[39;49m\u001b[38;5;124;43mtight\u001b[39;49m\u001b[38;5;124;43m'\u001b[39;49m\u001b[43m)\u001b[49m  \u001b[38;5;66;03m# Save as a PNG file with high resolution\u001b[39;00m\n\u001b[0;32m     45\u001b[0m \u001b[38;5;66;03m# Show the plot\u001b[39;00m\n\u001b[0;32m     46\u001b[0m plt\u001b[38;5;241m.\u001b[39mshow()\n",
      "File \u001b[1;32m~\\AppData\\Local\\Programs\\Python\\Python39\\lib\\site-packages\\matplotlib\\pyplot.py:1228\u001b[0m, in \u001b[0;36msavefig\u001b[1;34m(*args, **kwargs)\u001b[0m\n\u001b[0;32m   1225\u001b[0m fig \u001b[38;5;241m=\u001b[39m gcf()\n\u001b[0;32m   1226\u001b[0m \u001b[38;5;66;03m# savefig default implementation has no return, so mypy is unhappy\u001b[39;00m\n\u001b[0;32m   1227\u001b[0m \u001b[38;5;66;03m# presumably this is here because subclasses can return?\u001b[39;00m\n\u001b[1;32m-> 1228\u001b[0m res \u001b[38;5;241m=\u001b[39m fig\u001b[38;5;241m.\u001b[39msavefig(\u001b[38;5;241m*\u001b[39margs, \u001b[38;5;241m*\u001b[39m\u001b[38;5;241m*\u001b[39mkwargs)  \u001b[38;5;66;03m# type: ignore[func-returns-value]\u001b[39;00m\n\u001b[0;32m   1229\u001b[0m fig\u001b[38;5;241m.\u001b[39mcanvas\u001b[38;5;241m.\u001b[39mdraw_idle()  \u001b[38;5;66;03m# Need this if 'transparent=True', to reset colors.\u001b[39;00m\n\u001b[0;32m   1230\u001b[0m \u001b[38;5;28;01mreturn\u001b[39;00m res\n",
      "File \u001b[1;32m~\\AppData\\Local\\Programs\\Python\\Python39\\lib\\site-packages\\matplotlib\\figure.py:3395\u001b[0m, in \u001b[0;36mFigure.savefig\u001b[1;34m(self, fname, transparent, **kwargs)\u001b[0m\n\u001b[0;32m   3393\u001b[0m     \u001b[38;5;28;01mfor\u001b[39;00m ax \u001b[38;5;129;01min\u001b[39;00m \u001b[38;5;28mself\u001b[39m\u001b[38;5;241m.\u001b[39maxes:\n\u001b[0;32m   3394\u001b[0m         _recursively_make_axes_transparent(stack, ax)\n\u001b[1;32m-> 3395\u001b[0m \u001b[38;5;28mself\u001b[39m\u001b[38;5;241m.\u001b[39mcanvas\u001b[38;5;241m.\u001b[39mprint_figure(fname, \u001b[38;5;241m*\u001b[39m\u001b[38;5;241m*\u001b[39mkwargs)\n",
      "File \u001b[1;32m~\\AppData\\Local\\Programs\\Python\\Python39\\lib\\site-packages\\matplotlib\\backend_bases.py:2204\u001b[0m, in \u001b[0;36mFigureCanvasBase.print_figure\u001b[1;34m(self, filename, dpi, facecolor, edgecolor, orientation, format, bbox_inches, pad_inches, bbox_extra_artists, backend, **kwargs)\u001b[0m\n\u001b[0;32m   2200\u001b[0m \u001b[38;5;28;01mtry\u001b[39;00m:\n\u001b[0;32m   2201\u001b[0m     \u001b[38;5;66;03m# _get_renderer may change the figure dpi (as vector formats\u001b[39;00m\n\u001b[0;32m   2202\u001b[0m     \u001b[38;5;66;03m# force the figure dpi to 72), so we need to set it again here.\u001b[39;00m\n\u001b[0;32m   2203\u001b[0m     \u001b[38;5;28;01mwith\u001b[39;00m cbook\u001b[38;5;241m.\u001b[39m_setattr_cm(\u001b[38;5;28mself\u001b[39m\u001b[38;5;241m.\u001b[39mfigure, dpi\u001b[38;5;241m=\u001b[39mdpi):\n\u001b[1;32m-> 2204\u001b[0m         result \u001b[38;5;241m=\u001b[39m print_method(\n\u001b[0;32m   2205\u001b[0m             filename,\n\u001b[0;32m   2206\u001b[0m             facecolor\u001b[38;5;241m=\u001b[39mfacecolor,\n\u001b[0;32m   2207\u001b[0m             edgecolor\u001b[38;5;241m=\u001b[39medgecolor,\n\u001b[0;32m   2208\u001b[0m             orientation\u001b[38;5;241m=\u001b[39morientation,\n\u001b[0;32m   2209\u001b[0m             bbox_inches_restore\u001b[38;5;241m=\u001b[39m_bbox_inches_restore,\n\u001b[0;32m   2210\u001b[0m             \u001b[38;5;241m*\u001b[39m\u001b[38;5;241m*\u001b[39mkwargs)\n\u001b[0;32m   2211\u001b[0m \u001b[38;5;28;01mfinally\u001b[39;00m:\n\u001b[0;32m   2212\u001b[0m     \u001b[38;5;28;01mif\u001b[39;00m bbox_inches \u001b[38;5;129;01mand\u001b[39;00m restore_bbox:\n",
      "File \u001b[1;32m~\\AppData\\Local\\Programs\\Python\\Python39\\lib\\site-packages\\matplotlib\\backend_bases.py:2054\u001b[0m, in \u001b[0;36mFigureCanvasBase._switch_canvas_and_return_print_method.<locals>.<lambda>\u001b[1;34m(*args, **kwargs)\u001b[0m\n\u001b[0;32m   2050\u001b[0m     optional_kws \u001b[38;5;241m=\u001b[39m {  \u001b[38;5;66;03m# Passed by print_figure for other renderers.\u001b[39;00m\n\u001b[0;32m   2051\u001b[0m         \u001b[38;5;124m\"\u001b[39m\u001b[38;5;124mdpi\u001b[39m\u001b[38;5;124m\"\u001b[39m, \u001b[38;5;124m\"\u001b[39m\u001b[38;5;124mfacecolor\u001b[39m\u001b[38;5;124m\"\u001b[39m, \u001b[38;5;124m\"\u001b[39m\u001b[38;5;124medgecolor\u001b[39m\u001b[38;5;124m\"\u001b[39m, \u001b[38;5;124m\"\u001b[39m\u001b[38;5;124morientation\u001b[39m\u001b[38;5;124m\"\u001b[39m,\n\u001b[0;32m   2052\u001b[0m         \u001b[38;5;124m\"\u001b[39m\u001b[38;5;124mbbox_inches_restore\u001b[39m\u001b[38;5;124m\"\u001b[39m}\n\u001b[0;32m   2053\u001b[0m     skip \u001b[38;5;241m=\u001b[39m optional_kws \u001b[38;5;241m-\u001b[39m {\u001b[38;5;241m*\u001b[39minspect\u001b[38;5;241m.\u001b[39msignature(meth)\u001b[38;5;241m.\u001b[39mparameters}\n\u001b[1;32m-> 2054\u001b[0m     print_method \u001b[38;5;241m=\u001b[39m functools\u001b[38;5;241m.\u001b[39mwraps(meth)(\u001b[38;5;28;01mlambda\u001b[39;00m \u001b[38;5;241m*\u001b[39margs, \u001b[38;5;241m*\u001b[39m\u001b[38;5;241m*\u001b[39mkwargs: meth(\n\u001b[0;32m   2055\u001b[0m         \u001b[38;5;241m*\u001b[39margs, \u001b[38;5;241m*\u001b[39m\u001b[38;5;241m*\u001b[39m{k: v \u001b[38;5;28;01mfor\u001b[39;00m k, v \u001b[38;5;129;01min\u001b[39;00m kwargs\u001b[38;5;241m.\u001b[39mitems() \u001b[38;5;28;01mif\u001b[39;00m k \u001b[38;5;129;01mnot\u001b[39;00m \u001b[38;5;129;01min\u001b[39;00m skip}))\n\u001b[0;32m   2056\u001b[0m \u001b[38;5;28;01melse\u001b[39;00m:  \u001b[38;5;66;03m# Let third-parties do as they see fit.\u001b[39;00m\n\u001b[0;32m   2057\u001b[0m     print_method \u001b[38;5;241m=\u001b[39m meth\n",
      "File \u001b[1;32m~\\AppData\\Local\\Programs\\Python\\Python39\\lib\\site-packages\\matplotlib\\backends\\backend_agg.py:496\u001b[0m, in \u001b[0;36mFigureCanvasAgg.print_png\u001b[1;34m(self, filename_or_obj, metadata, pil_kwargs)\u001b[0m\n\u001b[0;32m    449\u001b[0m \u001b[38;5;28;01mdef\u001b[39;00m\u001b[38;5;250m \u001b[39m\u001b[38;5;21mprint_png\u001b[39m(\u001b[38;5;28mself\u001b[39m, filename_or_obj, \u001b[38;5;241m*\u001b[39m, metadata\u001b[38;5;241m=\u001b[39m\u001b[38;5;28;01mNone\u001b[39;00m, pil_kwargs\u001b[38;5;241m=\u001b[39m\u001b[38;5;28;01mNone\u001b[39;00m):\n\u001b[0;32m    450\u001b[0m \u001b[38;5;250m    \u001b[39m\u001b[38;5;124;03m\"\"\"\u001b[39;00m\n\u001b[0;32m    451\u001b[0m \u001b[38;5;124;03m    Write the figure to a PNG file.\u001b[39;00m\n\u001b[0;32m    452\u001b[0m \n\u001b[1;32m   (...)\u001b[0m\n\u001b[0;32m    494\u001b[0m \u001b[38;5;124;03m        *metadata*, including the default 'Software' key.\u001b[39;00m\n\u001b[0;32m    495\u001b[0m \u001b[38;5;124;03m    \"\"\"\u001b[39;00m\n\u001b[1;32m--> 496\u001b[0m     \u001b[38;5;28;43mself\u001b[39;49m\u001b[38;5;241;43m.\u001b[39;49m\u001b[43m_print_pil\u001b[49m\u001b[43m(\u001b[49m\u001b[43mfilename_or_obj\u001b[49m\u001b[43m,\u001b[49m\u001b[43m \u001b[49m\u001b[38;5;124;43m\"\u001b[39;49m\u001b[38;5;124;43mpng\u001b[39;49m\u001b[38;5;124;43m\"\u001b[39;49m\u001b[43m,\u001b[49m\u001b[43m \u001b[49m\u001b[43mpil_kwargs\u001b[49m\u001b[43m,\u001b[49m\u001b[43m \u001b[49m\u001b[43mmetadata\u001b[49m\u001b[43m)\u001b[49m\n",
      "File \u001b[1;32m~\\AppData\\Local\\Programs\\Python\\Python39\\lib\\site-packages\\matplotlib\\backends\\backend_agg.py:445\u001b[0m, in \u001b[0;36mFigureCanvasAgg._print_pil\u001b[1;34m(self, filename_or_obj, fmt, pil_kwargs, metadata)\u001b[0m\n\u001b[0;32m    440\u001b[0m \u001b[38;5;250m\u001b[39m\u001b[38;5;124;03m\"\"\"\u001b[39;00m\n\u001b[0;32m    441\u001b[0m \u001b[38;5;124;03mDraw the canvas, then save it using `.image.imsave` (to which\u001b[39;00m\n\u001b[0;32m    442\u001b[0m \u001b[38;5;124;03m*pil_kwargs* and *metadata* are forwarded).\u001b[39;00m\n\u001b[0;32m    443\u001b[0m \u001b[38;5;124;03m\"\"\"\u001b[39;00m\n\u001b[0;32m    444\u001b[0m FigureCanvasAgg\u001b[38;5;241m.\u001b[39mdraw(\u001b[38;5;28mself\u001b[39m)\n\u001b[1;32m--> 445\u001b[0m \u001b[43mmpl\u001b[49m\u001b[38;5;241;43m.\u001b[39;49m\u001b[43mimage\u001b[49m\u001b[38;5;241;43m.\u001b[39;49m\u001b[43mimsave\u001b[49m\u001b[43m(\u001b[49m\n\u001b[0;32m    446\u001b[0m \u001b[43m    \u001b[49m\u001b[43mfilename_or_obj\u001b[49m\u001b[43m,\u001b[49m\u001b[43m \u001b[49m\u001b[38;5;28;43mself\u001b[39;49m\u001b[38;5;241;43m.\u001b[39;49m\u001b[43mbuffer_rgba\u001b[49m\u001b[43m(\u001b[49m\u001b[43m)\u001b[49m\u001b[43m,\u001b[49m\u001b[43m \u001b[49m\u001b[38;5;28;43mformat\u001b[39;49m\u001b[38;5;241;43m=\u001b[39;49m\u001b[43mfmt\u001b[49m\u001b[43m,\u001b[49m\u001b[43m \u001b[49m\u001b[43morigin\u001b[49m\u001b[38;5;241;43m=\u001b[39;49m\u001b[38;5;124;43m\"\u001b[39;49m\u001b[38;5;124;43mupper\u001b[39;49m\u001b[38;5;124;43m\"\u001b[39;49m\u001b[43m,\u001b[49m\n\u001b[0;32m    447\u001b[0m \u001b[43m    \u001b[49m\u001b[43mdpi\u001b[49m\u001b[38;5;241;43m=\u001b[39;49m\u001b[38;5;28;43mself\u001b[39;49m\u001b[38;5;241;43m.\u001b[39;49m\u001b[43mfigure\u001b[49m\u001b[38;5;241;43m.\u001b[39;49m\u001b[43mdpi\u001b[49m\u001b[43m,\u001b[49m\u001b[43m \u001b[49m\u001b[43mmetadata\u001b[49m\u001b[38;5;241;43m=\u001b[39;49m\u001b[43mmetadata\u001b[49m\u001b[43m,\u001b[49m\u001b[43m \u001b[49m\u001b[43mpil_kwargs\u001b[49m\u001b[38;5;241;43m=\u001b[39;49m\u001b[43mpil_kwargs\u001b[49m\u001b[43m)\u001b[49m\n",
      "File \u001b[1;32m~\\AppData\\Local\\Programs\\Python\\Python39\\lib\\site-packages\\matplotlib\\image.py:1676\u001b[0m, in \u001b[0;36mimsave\u001b[1;34m(fname, arr, vmin, vmax, cmap, format, origin, dpi, metadata, pil_kwargs)\u001b[0m\n\u001b[0;32m   1674\u001b[0m pil_kwargs\u001b[38;5;241m.\u001b[39msetdefault(\u001b[38;5;124m\"\u001b[39m\u001b[38;5;124mformat\u001b[39m\u001b[38;5;124m\"\u001b[39m, \u001b[38;5;28mformat\u001b[39m)\n\u001b[0;32m   1675\u001b[0m pil_kwargs\u001b[38;5;241m.\u001b[39msetdefault(\u001b[38;5;124m\"\u001b[39m\u001b[38;5;124mdpi\u001b[39m\u001b[38;5;124m\"\u001b[39m, (dpi, dpi))\n\u001b[1;32m-> 1676\u001b[0m image\u001b[38;5;241m.\u001b[39msave(fname, \u001b[38;5;241m*\u001b[39m\u001b[38;5;241m*\u001b[39mpil_kwargs)\n",
      "File \u001b[1;32m~\\AppData\\Local\\Programs\\Python\\Python39\\lib\\site-packages\\PIL\\Image.py:2436\u001b[0m, in \u001b[0;36mImage.save\u001b[1;34m(self, fp, format, **params)\u001b[0m\n\u001b[0;32m   2434\u001b[0m         fp \u001b[38;5;241m=\u001b[39m builtins\u001b[38;5;241m.\u001b[39mopen(filename, \u001b[38;5;124m\"\u001b[39m\u001b[38;5;124mr+b\u001b[39m\u001b[38;5;124m\"\u001b[39m)\n\u001b[0;32m   2435\u001b[0m     \u001b[38;5;28;01melse\u001b[39;00m:\n\u001b[1;32m-> 2436\u001b[0m         fp \u001b[38;5;241m=\u001b[39m \u001b[43mbuiltins\u001b[49m\u001b[38;5;241;43m.\u001b[39;49m\u001b[43mopen\u001b[49m\u001b[43m(\u001b[49m\u001b[43mfilename\u001b[49m\u001b[43m,\u001b[49m\u001b[43m \u001b[49m\u001b[38;5;124;43m\"\u001b[39;49m\u001b[38;5;124;43mw+b\u001b[39;49m\u001b[38;5;124;43m\"\u001b[39;49m\u001b[43m)\u001b[49m\n\u001b[0;32m   2438\u001b[0m \u001b[38;5;28;01mtry\u001b[39;00m:\n\u001b[0;32m   2439\u001b[0m     save_handler(\u001b[38;5;28mself\u001b[39m, fp, filename)\n",
      "\u001b[1;31mFileNotFoundError\u001b[0m: [Errno 2] No such file or directory: 'output/fedvg.png'"
     ]
    },
    {
     "data": {
      "image/png": "[encoded data removed]",
      "text/plain": [
       "<Figure size 650x420 with 1 Axes>"
      ]
     },
     "metadata": {},
     "output_type": "display_data"
    }
   ],
   "source": [
    "                                                        # VISUALIZE\n",
    "# NOTE: Class indexes now start from 1 so, previous class 0 = now class 1 and so on\n",
    "# FIG 1: Raw similarity plot\n",
    "\n",
    "import pandas as pd\n",
    "import numpy as np\n",
    "import matplotlib.pyplot as plt\n",
    "import seaborn as sns\n",
    "\n",
    "# Generate sample similarity data for four classes (each with 20 values in the range 0 to 1)\n",
    "class1_sim = class0_sims\n",
    "class2_sim = class1_sims\n",
    "class3_sim = class2_sims\n",
    "class4_sim = class3_sims\n",
    "\n",
    "# Set figure size\n",
    "plt.figure(figsize=(6.5, 4.2))  # Set the size of the figure (width, height)\n",
    "\n",
    "# Sample DataFrame with four columns\n",
    "data=pd.DataFrame({'Class 1':class1_sim,'Class 2':class2_sim,'Class 3':class3_sim,'Class 4':class4_sim})\n",
    "df = pd.DataFrame(data)\n",
    "\n",
    "# Plot the probability distributions\n",
    "#plt.figure(figsize=(10, 6))\n",
    "\n",
    "# Define colors and line styles for each column\n",
    "colors = ['#1f77b4', '#ff7f0e', '#2ca02c', '#d62728']\n",
    "linestyles = ['-.', '--', '-', '-']\n",
    "\n",
    "# Plot the probability distributions with unique colors and line styles\n",
    "for column, color, linestyle in zip(df.columns, colors, linestyles):\n",
    "    sns.kdeplot(df[column], label=column, color=color, linestyle=linestyle)\n",
    "\n",
    "#plt.title('Probability Distributions of Four Columns')\n",
    "plt.xlabel('Similarity',fontsize=12)\n",
    "plt.ylabel('Density',fontsize=12)\n",
    "plt.yticks(fontsize=12)  # Set y-tick labels font size\n",
    "plt.legend(loc='upper right',fontsize=12)  # Increase legend font size\n",
    "\n",
    "# Optimize layout\n",
    "plt.tight_layout()\n",
    "# Save the plot to a file\n",
    "plt.savefig('output/fedvg.png', dpi=300, bbox_inches='tight')  # Save as a PNG file with high resolution\n",
    "\n",
    "# Show the plot\n",
    "plt.show()\n"
   ]
  },
  {
   "cell_type": "code",
   "execution_count": null,
   "id": "c71af78e-28e9-4564-9609-3039455bb875",
   "metadata": {},
   "outputs": [],
   "source": [
    "# FIG 2: DIFFERENCES IN COSINE SIMILARITY\n",
    "\n",
    "# For each class, we have 20 similarity values — one per image — showing how similar fake and real versions are.These values are very close across classes\n",
    "# So, to highlight subtle differences, compute and plot the difference between each pair of classes, value by value.\n",
    "# This gives you 20 values showing how much the similarity differs for each image between class 0 and class 1.\n",
    "# It's a magnified view of the gap between classes.\n",
    "# If the differences are tiny (e.g., 0.003), the plot helps make that visible and comparable.\n",
    "\n",
    "import numpy as np\n",
    "import matplotlib.pyplot as plt\n",
    "import seaborn as sns\n",
    "import pandas as pd\n",
    "\n",
    "# Differences between class distributions (pairwise)\n",
    "diff_12 = np.array(class2_sim) - np.array(class1_sim)\n",
    "diff_13 = np.array(class3_sim) - np.array(class1_sim)\n",
    "diff_14 = np.array(class4_sim) - np.array(class1_sim)\n",
    "diff_23 = np.array(class3_sim) - np.array(class2_sim)\n",
    "diff_24 = np.array(class4_sim) - np.array(class2_sim)\n",
    "diff_34 = np.array(class4_sim) - np.array(class3_sim)\n",
    "\n",
    "# Create a DataFrame\n",
    "diff_df = pd.DataFrame({\n",
    "    'Class 2 - Class 1': diff_12,\n",
    "    'Class 3 - Class 1': diff_13,\n",
    "    'Class 4 - Class 1': diff_14,\n",
    "    'Class 3 - Class 2': diff_23,\n",
    "    'Class 4 - Class 2': diff_24,\n",
    "    'Class 4 - Class 3': diff_34,\n",
    "})\n",
    "\n",
    "# Plot\n",
    "plt.figure(figsize=(7.5, 5))\n",
    "\n",
    "colors = sns.color_palette(\"tab10\", n_colors=6)\n",
    "\n",
    "for column, color in zip(diff_df.columns, colors):\n",
    "    sns.kdeplot(diff_df[column], label=column, color=color, linestyle='-')\n",
    "\n",
    "plt.axvline(0, color='black', linestyle='--', linewidth=1)  # reference line at 0\n",
    "plt.xlabel('Difference in Similarity', fontsize=12)\n",
    "plt.ylabel('Density', fontsize=12)\n",
    "plt.legend(fontsize=10)\n",
    "plt.title(\"Pairwise Differences in Cosine Similarity\", fontsize=13)\n",
    "plt.tight_layout()\n",
    "plt.show()"
   ]
  },
  {
   "cell_type": "code",
   "execution_count": null,
   "id": "362bf182-7927-4ce2-bf5a-97299d426bc4",
   "metadata": {},
   "outputs": [],
   "source": [
    "def calculate_interclass_similarity(first, second):\n",
    "    similarities = []\n",
    "\n",
    "    first_images = []\n",
    "    second_images = []\n",
    "    if first == 'class1':\n",
    "        first_images = class0_original_images.copy()\n",
    "    elif first == 'class2':\n",
    "        first_images = class1_original_images.copy()\n",
    "    elif first == 'class3':\n",
    "        first_images = class2_original_images.copy()\n",
    "    elif first == 'class4':\n",
    "        first_images = class3_original_images.copy()\n",
    "\n",
    "    if second == 'class1':\n",
    "        second_images = class0_original_images.copy()\n",
    "    elif second == 'class2':\n",
    "        second_images = class1_original_images.copy()\n",
    "    elif second == 'class3':\n",
    "        second_images = class2_original_images.copy()\n",
    "    elif second == 'class4':\n",
    "        second_images = class3_original_images.copy()\n",
    "    \n",
    "    for i in range(0, 20):\n",
    "        first_image = first_images[i].unsqueeze(dim=0).to(device)\n",
    "        first_image = first_image.repeat(1, 3, 1, 1)\n",
    "        \n",
    "        second_image = second_images[i].unsqueeze(dim=0).to(device)\n",
    "        second_image = second_image.repeat(1, 3, 1, 1)\n",
    "        \n",
    "        features_first = get_feature(first_image)\n",
    "        features_second = get_feature(second_image)\n",
    "\n",
    "        cosine_similarity = 1 - cosine(features_first, features_second)\n",
    "        similarities.append(cosine_similarity)\n",
    "\n",
    "    return similarities"
   ]
  },
  {
   "cell_type": "code",
   "execution_count": null,
   "id": "5954dfe3-cb08-4551-a5f9-d2082ac3d604",
   "metadata": {},
   "outputs": [],
   "source": [
    "class1class2 = calculate_interclass_similarity('class1', 'class2')"
   ]
  },
  {
   "cell_type": "code",
   "execution_count": null,
   "id": "cd5ab50d-9d9d-443b-bea5-2d6e302e2bf4",
   "metadata": {},
   "outputs": [],
   "source": [
    "class1class2"
   ]
  },
  {
   "cell_type": "code",
   "execution_count": null,
   "id": "29441f40-36a7-4854-98be-5d128bae49cd",
   "metadata": {},
   "outputs": [],
   "source": [
    "                                                # FIG: 3 -> INTERCLASS SIMILARITIES\n",
    "\n",
    "import pandas as pd\n",
    "import numpy as np\n",
    "import matplotlib.pyplot as plt\n",
    "import seaborn as sns\n",
    "\n",
    "# Set figure size\n",
    "plt.figure(figsize=(6.5, 4.2))  # Set the size of the figure (width, height)\n",
    "\n",
    "# Generate sample similarity data for four classes (each with 20 values in the range 0 to 1)\n",
    "np.random.seed(42)  # For reproducibility\n",
    "class1class2 = calculate_interclass_similarity('class1', 'class2')\n",
    "class1class3 = calculate_interclass_similarity('class1', 'class3')\n",
    "class1class4 = calculate_interclass_similarity('class1', 'class4')\n",
    "class2class3 = calculate_interclass_similarity('class2', 'class3')\n",
    "class2class4 = calculate_interclass_similarity('class2', 'class4')\n",
    "class3class4 = calculate_interclass_similarity('class3', 'class4')\n",
    "\n",
    "# Sample DataFrame with four columns\n",
    "data=pd.DataFrame({'Class1 vs Class2':class1class2,'Class1 vs Class3':class1class3,'Class1 vs Class4':class1class4,'Class2 vs Class3':class2class3,'Class2 vs Class4':class2class4,'Class3 vs Class4':class3class4})\n",
    "df = pd.DataFrame(data)\n",
    "\n",
    "# Plot the probability distributions\n",
    "#plt.figure(figsize=(10, 6))\n",
    "\n",
    "# Define colors and line styles for each column\n",
    "colors = ['#1f77b4', '#ff7f0e', '#2ca02c', '#d62728', '#9467bd', '#8c564b']\n",
    "linestyles = ['-.', '--', '-', '-', '-.', '--']\n",
    "\n",
    "# Plot the probability distributions with unique colors and line styles\n",
    "for column, color, linestyle in zip(df.columns, colors, linestyles):\n",
    "    sns.kdeplot(df[column], label=column, color=color, linestyle=linestyle)\n",
    "\n",
    "#plt.title('Probability Distributions of Four Columns')\n",
    "plt.xlabel('Similarity',fontsize=12)\n",
    "plt.ylabel('Density',fontsize=12)\n",
    "plt.yticks(fontsize=12)  # Set y-tick labels font size\n",
    "plt.legend(loc='upper right',fontsize=12)  # Increase legend font size\n",
    "\n",
    "# Optimize layout\n",
    "plt.tight_layout()\n",
    "# Save the plot to a file\n",
    "plt.savefig('output/VoiceDivergenceD3.png', dpi=300, bbox_inches='tight')  # Save as a PNG file with high resolution\n",
    "\n",
    "# Show the plot\n",
    "plt.show()"
   ]
  },
  {
   "cell_type": "code",
   "execution_count": null,
   "id": "19754eee-5c1e-47e6-bbaa-b2cef05a1641",
   "metadata": {},
   "outputs": [],
   "source": []
  }
 ],
 "metadata": {
  "kernelspec": {
   "display_name": "Python 3 (ipykernel)",
   "language": "python",
   "name": "python3"
  },
  "language_info": {
   "codemirror_mode": {
    "name": "ipython",
    "version": 3
   },
   "file_extension": ".py",
   "mimetype": "text/x-python",
   "name": "python",
   "nbconvert_exporter": "python",
   "pygments_lexer": "ipython3",
   "version": "3.9.7"
  }
 },
 "nbformat": 4,
 "nbformat_minor": 5
}
