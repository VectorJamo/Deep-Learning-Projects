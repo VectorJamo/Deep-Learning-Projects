{
 "cells": [
  {
   "cell_type": "code",
   "execution_count": 1,
   "id": "646b38c2-386a-4f83-a983-ea764ad8267f",
   "metadata": {},
   "outputs": [],
   "source": [
    "# Attempting to recover training data using model's parameters and a DCGAN that was trained on similar data\n",
    "# Author: Suraj Neupane\n",
    "# Written from scratch as a part of a Research Project 2025, Concordia University of Edmonton.\n",
    "import numpy as np\n",
    "\n",
    "import torch\n",
    "from torch import nn\n",
    "from torch.nn import functional\n",
    "\n",
    "from torch.utils import data\n",
    "from torch.utils.data import DataLoader\n",
    "\n",
    "import torchvision\n",
    "from torchvision import datasets\n",
    "from torchvision import transforms\n",
    "\n",
    "import pickle\n",
    "\n",
    "import matplotlib.pyplot as plt\n",
    "%matplotlib inline"
   ]
  },
  {
   "cell_type": "code",
   "execution_count": 2,
   "id": "8b80ddb2-ed75-4870-85b4-9300fce0df7e",
   "metadata": {},
   "outputs": [
    {
     "data": {
      "text/plain": [
       "'2.5.1+cu118'"
      ]
     },
     "execution_count": 2,
     "metadata": {},
     "output_type": "execute_result"
    }
   ],
   "source": [
    "torch.__version__"
   ]
  },
  {
   "cell_type": "code",
   "execution_count": 3,
   "id": "d6950585-eb31-4f61-bd60-5bf8716fcdef",
   "metadata": {},
   "outputs": [],
   "source": [
    "device = 'cuda' if torch.cuda.is_available() else 'cpu'"
   ]
  },
  {
   "cell_type": "code",
   "execution_count": 4,
   "id": "36c47e07-6b7d-4123-a59d-5d465f9ef280",
   "metadata": {},
   "outputs": [
    {
     "data": {
      "text/plain": [
       "'cuda'"
      ]
     },
     "execution_count": 4,
     "metadata": {},
     "output_type": "execute_result"
    }
   ],
   "source": [
    "device"
   ]
  },
  {
   "cell_type": "code",
   "execution_count": 5,
   "id": "b852ca55-f33e-469f-b7b9-e00d21124927",
   "metadata": {},
   "outputs": [],
   "source": [
    "# DCGAN Implementation Class\n",
    "# Discriminator\n",
    "class Discriminator(nn.Module):\n",
    "    def __init__(self, img_channels, features_d):\n",
    "        super().__init__()\n",
    "        self.disc = nn.Sequential(\n",
    "            # Input shape: img_channels x 64 x 64\n",
    "            nn.Conv2d(\n",
    "              in_channels=img_channels, out_channels=features_d, kernel_size=4, stride=2, padding=1\n",
    "            ), # Output shape: features_d x 32 x 32\n",
    "            nn.LeakyReLU(0.2),\n",
    "            self._block(features_d, features_d*2, 4, 2, 1), # Output shape: features_d*2 x 16 x 16\n",
    "            self._block(features_d*2, features_d*4, 4, 2, 1), # Output shape: features_d*4 x 8 x 8\n",
    "            self._block(features_d*4, features_d*8, 4, 2, 1), # Output shape: features_d*8 x 4 x 4\n",
    "           \n",
    "            nn.Conv2d(in_channels=features_d*8, out_channels=1, kernel_size=4, stride=2, padding=0), # Output shape: 1 x 1\n",
    "            nn.Sigmoid(),\n",
    "        )\n",
    "\n",
    "    def _block(self, in_channels, out_channels, kernel_size, stride, padding):\n",
    "        return nn.Sequential(\n",
    "            nn.Conv2d(in_channels, out_channels, kernel_size, stride, padding, bias=False),\n",
    "            nn.BatchNorm2d(out_channels),\n",
    "            nn.LeakyReLU(0.2),\n",
    "        )\n",
    "\n",
    "    def forward(self, X):\n",
    "        return self.disc(X)\n"
   ]
  },
  {
   "cell_type": "code",
   "execution_count": 6,
   "id": "5afe02e5-61d3-4f25-8933-8484e519cd4a",
   "metadata": {},
   "outputs": [],
   "source": [
    "# Generator\n",
    "class Generator(nn.Module):\n",
    "    def __init__(self, z_dim, img_channels, features_g):\n",
    "        super().__init__()\n",
    "        self.gen = nn.Sequential(\n",
    "            self._block(z_dim, features_g*16, 4, 1, 0), # z_dim: (batch_size, 100, 1, 1) -> (batch_size, 1024, 4, 4)\n",
    "            self._block(features_g*16, features_g*8, 4, 2, 1), # z_dim: (batch_size, 1024, 4, 4) -> (batch_size, 512, 8, 8)\n",
    "            self._block(features_g*8, features_g*4, 4, 2, 1), # z_dim: (batch_size, 512, 8, 8) -> (batch_size, 256, 16, 16)\n",
    "            self._block(features_g*4, features_g*2, 4, 2, 1), # z_dim: (batch_size, 128, 16, 16) -> (batch_size, 64, 32, 32)\n",
    "            nn.ConvTranspose2d(\n",
    "                in_channels=features_g*2, out_channels=img_channels, kernel_size=4, stride=2, padding=1 # z_dim: (batch_size, 64, 32, 32) -> (batch_size, 1, 64, 64)\n",
    "            ),\n",
    "            nn.Tanh(),\n",
    "        )\n",
    "        \n",
    "    def _block(self, in_channels, out_channels, kernel_size, stride, padding):\n",
    "        return nn.Sequential(\n",
    "            nn.ConvTranspose2d(\n",
    "                in_channels, out_channels, kernel_size, stride, padding, bias=False,\n",
    "            ),\n",
    "            nn.BatchNorm2d(out_channels),\n",
    "            nn.ReLU(),\n",
    "        )\n",
    "\n",
    "    def forward(self, X):\n",
    "        return self.gen(X)"
   ]
  },
  {
   "cell_type": "code",
   "execution_count": 7,
   "id": "48c1be35-d58a-4d0c-990d-9250fbdbf1b3",
   "metadata": {},
   "outputs": [],
   "source": [
    "# Hyperparams\n",
    "z_dim = 100\n",
    "img_channels = 1\n",
    "features_disc = 64\n",
    "features_gen = 64"
   ]
  },
  {
   "cell_type": "code",
   "execution_count": 8,
   "id": "f2dc1f40-5c2e-4903-b2e7-7abe5cae9772",
   "metadata": {},
   "outputs": [],
   "source": [
    "# Create the model instances\n",
    "gen = Generator(z_dim, img_channels, features_gen).to(device)\n",
    "disc = Discriminator(img_channels, features_disc).to(device)"
   ]
  },
  {
   "cell_type": "code",
   "execution_count": 9,
   "id": "bc7a5deb-f8d8-41d4-aed3-d012d39a84b9",
   "metadata": {},
   "outputs": [
    {
     "data": {
      "text/plain": [
       "<All keys matched successfully>"
      ]
     },
     "execution_count": 9,
     "metadata": {},
     "output_type": "execute_result"
    }
   ],
   "source": [
    "# Load the trained GAN\n",
    "gen.load_state_dict(torch.load('saved models/Generator.pth', weights_only=True))\n",
    "disc.load_state_dict(torch.load('saved models/Discriminator.pth', weights_only=True))"
   ]
  },
  {
   "cell_type": "code",
   "execution_count": 10,
   "id": "a504e932-e168-4bb8-88cc-eea0810aafb0",
   "metadata": {},
   "outputs": [],
   "source": [
    "# Generate a random fake image\n",
    "noise = torch.randn(1, z_dim, 1, 1).to(device)\n",
    "fake_img = gen(noise)"
   ]
  },
  {
   "cell_type": "code",
   "execution_count": 11,
   "id": "98b5d73f-b130-4bc1-a868-c225bd2abe62",
   "metadata": {},
   "outputs": [
    {
     "data": {
      "text/plain": [
       "torch.Size([1, 1, 64, 64])"
      ]
     },
     "execution_count": 11,
     "metadata": {},
     "output_type": "execute_result"
    }
   ],
   "source": [
    "fake_img.shape"
   ]
  },
  {
   "cell_type": "code",
   "execution_count": 12,
   "id": "9d19338c-18e4-4b6e-842f-a225718fa8bb",
   "metadata": {},
   "outputs": [
    {
     "name": "stdout",
     "output_type": "stream",
     "text": [
      "torch.Size([64, 64])\n"
     ]
    },
    {
     "data": {
      "text/plain": [
       "<matplotlib.image.AxesImage at 0x1e39aed6be0>"
      ]
     },
     "execution_count": 12,
     "metadata": {},
     "output_type": "execute_result"
    },
    {
     "data": {
      "image/png": "[encoded data removed]",
      "text/plain": [
       "<Figure size 640x480 with 1 Axes>"
      ]
     },
     "metadata": {},
     "output_type": "display_data"
    }
   ],
   "source": [
    "fake_img = fake_img.squeeze()\n",
    "print(fake_img.shape)\n",
    "plt.axis(False)\n",
    "plt.title('Fake Generated Image:')\n",
    "plt.imshow(fake_img.cpu().detach(), cmap='gray')"
   ]
  },
  {
   "cell_type": "code",
   "execution_count": 13,
   "id": "cf2aefac-a759-4335-a3de-2065d6a6a9a5",
   "metadata": {},
   "outputs": [],
   "source": [
    "# Target Model\n",
    "class TFCNN(nn.Module):\n",
    "    def __init__(self, n_classes):\n",
    "        super().__init__()\n",
    "        self.n_classes = n_classes\n",
    "\n",
    "        self.encoder = nn.Sequential(\n",
    "            nn.Conv2d(3, 32, 3, stride=1, padding=1),\n",
    "            nn.ReLU(True),\n",
    "            nn.MaxPool2d(2),\n",
    "            nn.Conv2d(32, 64, 3, stride=1, padding=1),\n",
    "            nn.ReLU(True),\n",
    "            nn.MaxPool2d(2),\n",
    "            nn.Conv2d(64, 64, 3, stride=1, padding=1),\n",
    "            nn.ReLU(True),\n",
    "            nn.MaxPool2d(2),\n",
    "            Reshape(),\n",
    "        )\n",
    "\n",
    "        self.h_size = 64 * 4 * 4\n",
    "\n",
    "        self.classifier = nn.Sequential(\n",
    "            nn.Linear(64 * 4 * 4, 128),\n",
    "            nn.ReLU(True),\n",
    "            nn.Linear(128, n_classes)\n",
    "        )\n",
    "\n",
    "    def forward(self, xs):\n",
    "        code = self.encoder(xs)\n",
    "        logits = self.classifier(code)\n",
    "        return code, logits\n"
   ]
  },
  {
   "cell_type": "code",
   "execution_count": 14,
   "id": "d28876e2-91ee-4ebf-bc52-b71dc82edfa2",
   "metadata": {},
   "outputs": [],
   "source": [
    "class Reshape(nn.Module):\n",
    "    def __init__(self,):\n",
    "        super().__init__()\n",
    "\n",
    "    def forward(self, xs):\n",
    "        return xs.reshape((xs.shape[0], -1))"
   ]
  },
  {
   "cell_type": "code",
   "execution_count": 15,
   "id": "dd57210c-2c18-4651-8f29-be94a7a7a88f",
   "metadata": {},
   "outputs": [],
   "source": [
    "class ClassifyNet(nn.Module):\n",
    "    def __init__(self, net, init_way, n_classes, input_size=None):\n",
    "        super().__init__()\n",
    "        self.net = net\n",
    "        self.init_way = init_way\n",
    "        self.n_classes = n_classes\n",
    "\n",
    "        model = TFCNN(n_classes)\n",
    "\n",
    "        self.h_size = model.h_size\n",
    "\n",
    "        # Convo and pool layers\n",
    "        self.encoder = model.encoder\n",
    "\n",
    "        # Classifier layer\n",
    "        self.classifier = nn.Linear(\n",
    "            self.h_size, self.n_classes, bias=False\n",
    "        )\n",
    "\n",
    "        if self.init_way == \"orth\":\n",
    "            ws = get_orth_weights(self.h_size, self.n_classes)\n",
    "            self.classifier.load_state_dict({\"weight\": ws})\n",
    "\n",
    "    def forward(self, xs):\n",
    "        hs = self.encoder(xs)\n",
    "        logits = self.classifier(hs)\n",
    "        return hs, logits"
   ]
  },
  {
   "cell_type": "code",
   "execution_count": 16,
   "id": "83ea3c08-0470-4c9a-ba15-8328a316b3ab",
   "metadata": {},
   "outputs": [],
   "source": [
    "def load_target_model(base_net, n_classes, path):\n",
    "    # Create the base model\n",
    "    model = ClassifyNet(net=base_net, init_way='none', n_classes=n_classes)\n",
    "    # Load the model\n",
    "    model.load_state_dict(torch.load(path, weights_only=True))\n",
    "\n",
    "    return model"
   ]
  },
  {
   "cell_type": "code",
   "execution_count": 17,
   "id": "0880f1aa-9d08-445a-85ac-f1ff3cebde04",
   "metadata": {},
   "outputs": [
    {
     "name": "stdout",
     "output_type": "stream",
     "text": [
      "Model loaded successfully!\n",
      "Number of parameters in the loaded model: 60416\n"
     ]
    }
   ],
   "source": [
    "# Target Model Loading\n",
    "BASE_NET = 'TFCNN'\n",
    "DATASET = 'tumor4'\n",
    "N_CLASSES = 4\n",
    "\n",
    "target_model = load_target_model(base_net=BASE_NET, n_classes=N_CLASSES, path='saved models/fedavg_global_model.pth').to(device)\n",
    "print('Model loaded successfully!')\n",
    "target_model.eval()\n",
    "\n",
    "num_params = sum(p.numel() for p in target_model.parameters())\n",
    "print('Number of parameters in the loaded model:', num_params)\n"
   ]
  },
  {
   "cell_type": "code",
   "execution_count": 18,
   "id": "8b3f8147-77d6-4de5-8181-a274034218b7",
   "metadata": {},
   "outputs": [
    {
     "data": {
      "text/plain": [
       "torch.Size([1, 100, 1, 1])"
      ]
     },
     "execution_count": 18,
     "metadata": {},
     "output_type": "execute_result"
    }
   ],
   "source": [
    "# Do Model Inversion\n",
    "# Define a learnable latent vector\n",
    "z = torch.randn(1, z_dim, 1, 1, requires_grad=True)  # Start with random noise\n",
    "z.shape"
   ]
  },
  {
   "cell_type": "code",
   "execution_count": 19,
   "id": "89400f76-e208-4684-85b6-b3877ae1fed8",
   "metadata": {},
   "outputs": [],
   "source": [
    "learning_rate = 0.01\n",
    "target_class = 1 # The second class\n",
    "\n",
    "# Create the optimizer\n",
    "optimizer = torch.optim.Adam([z], lr=learning_rate)\n",
    "\n",
    "# Loss function (e.g., Cross-Entropy with classifier outputs)\n",
    "loss_fn = nn.CrossEntropyLoss()\n",
    "target_class = torch.tensor([target_class])  # Set the target class"
   ]
  },
  {
   "cell_type": "code",
   "execution_count": 20,
   "id": "a669bf5a-522e-4838-8307-0a7175b874bb",
   "metadata": {},
   "outputs": [
    {
     "name": "stdout",
     "output_type": "stream",
     "text": [
      "Step 0, Loss: 0.9678925275802612\n",
      "Step 50, Loss: 0.00518121849745512\n",
      "Step 100, Loss: 0.0032715867273509502\n",
      "Step 150, Loss: 0.0024871863424777985\n",
      "Step 200, Loss: 0.0020130861084908247\n",
      "Step 250, Loss: 0.0016687290044501424\n",
      "Step 300, Loss: 0.0014561536954715848\n",
      "Step 350, Loss: 0.001291870721615851\n",
      "Step 400, Loss: 0.001166616566479206\n",
      "Step 450, Loss: 0.0010656398953869939\n",
      "Step 500, Loss: 0.0009584600338712335\n",
      "Step 550, Loss: 0.0008666335488669574\n",
      "Step 600, Loss: 0.0007780147134326398\n",
      "Step 650, Loss: 0.0007036832394078374\n",
      "Step 700, Loss: 0.0006400682032108307\n",
      "Step 750, Loss: 0.0005900310934521258\n",
      "Step 800, Loss: 0.0005521441926248372\n",
      "Step 850, Loss: 0.0005175919504836202\n",
      "Step 900, Loss: 0.0004850641416851431\n",
      "Step 950, Loss: 0.00045563330058939755\n"
     ]
    }
   ],
   "source": [
    "# Optimization loop to find the best z\n",
    "rounds = 1000\n",
    "for i in range(rounds):\n",
    "    optimizer.zero_grad()\n",
    "    \n",
    "    generated_image = gen(z.to(device))  # Generate an image from the latent vector\n",
    "    generated_image = generated_image.repeat(1, 3, 1, 1)\n",
    "    generated_image = functional.interpolate(generated_image, size=(32, 32), mode='nearest')\n",
    "    #print(generated_image.shape)\n",
    "    hs, prediction_logits = target_model(generated_image)  # Classifier output\n",
    "    #print(prediction_logits)\n",
    "    #print(type(prediction_logits))\n",
    "    loss = loss_fn(prediction_logits, target_class.to(device))  # Minimize difference with true class\n",
    "    loss.backward()\n",
    "    optimizer.step()\n",
    "\n",
    "    if i % 50 == 0:\n",
    "        print(f\"Step {i}, Loss: {loss.item()}\")"
   ]
  },
  {
   "cell_type": "code",
   "execution_count": 21,
   "id": "3a6ed4fb-b693-4963-afcf-17a512e50b5f",
   "metadata": {},
   "outputs": [
    {
     "name": "stdout",
     "output_type": "stream",
     "text": [
      "torch.Size([64, 64])\n"
     ]
    }
   ],
   "source": [
    "# Display the generated image\n",
    "img = gen(z.to(device)).squeeze(dim=0).squeeze(dim=0)\n",
    "print(img.shape)"
   ]
  },
  {
   "cell_type": "code",
   "execution_count": 22,
   "id": "88fc9416-c6ca-486b-bd72-63885de78d1c",
   "metadata": {},
   "outputs": [
    {
     "data": {
      "text/plain": [
       "<matplotlib.image.AxesImage at 0x1e39af50070>"
      ]
     },
     "execution_count": 22,
     "metadata": {},
     "output_type": "execute_result"
    },
    {
     "data": {
      "image/png": "[encoded data removed]",
      "text/plain": [
       "<Figure size 640x480 with 1 Axes>"
      ]
     },
     "metadata": {},
     "output_type": "display_data"
    }
   ],
   "source": [
    "plt.axis(False)\n",
    "plt.title('Recovered Image:')\n",
    "plt.imshow(img.cpu().detach(), cmap='gray')"
   ]
  },
  {
   "cell_type": "code",
   "execution_count": 56,
   "id": "6fb699c1-2a03-4ea0-b64e-0e2a56dcf2af",
   "metadata": {},
   "outputs": [],
   "source": [
    "recovered_images = []"
   ]
  },
  {
   "cell_type": "code",
   "execution_count": 47,
   "id": "4b94ed79-e8ab-4d50-b887-4643bc1d7970",
   "metadata": {},
   "outputs": [
    {
     "name": "stdout",
     "output_type": "stream",
     "text": [
      "Class: tensor([0])\n",
      "Step 0, Loss: 0.39898109436035156\n",
      "Class: tensor([0])\n",
      "Step 50, Loss: 0.0350024439394474\n",
      "Class: tensor([0])\n",
      "Step 100, Loss: 0.01992473192512989\n",
      "Class: tensor([0])\n",
      "Step 150, Loss: 0.014658844098448753\n",
      "Class: tensor([0])\n",
      "Step 200, Loss: 0.01181179378181696\n",
      "Class: tensor([0])\n",
      "Step 250, Loss: 0.009842791594564915\n",
      "Class: tensor([0])\n",
      "Step 300, Loss: 0.00847481470555067\n",
      "Class: tensor([0])\n",
      "Step 350, Loss: 0.007526375353336334\n",
      "Class: tensor([0])\n",
      "Step 400, Loss: 0.0066669173538684845\n",
      "Class: tensor([0])\n",
      "Step 450, Loss: 0.005904019810259342\n",
      "Class: tensor([0])\n",
      "Step 500, Loss: 0.005274072289466858\n",
      "Class: tensor([0])\n",
      "Step 550, Loss: 0.0047646318562328815\n",
      "Class: tensor([0])\n",
      "Step 600, Loss: 0.004377069883048534\n",
      "Class: tensor([0])\n",
      "Step 650, Loss: 0.004059052560478449\n",
      "Class: tensor([0])\n",
      "Step 700, Loss: 0.0038262030575424433\n",
      "Class: tensor([0])\n",
      "Step 750, Loss: 0.0036199060268700123\n",
      "Class: tensor([0])\n",
      "Step 800, Loss: 0.0034218826331198215\n",
      "Class: tensor([0])\n",
      "Step 850, Loss: 0.003277052426710725\n",
      "Class: tensor([0])\n",
      "Step 900, Loss: 0.0031529974658042192\n",
      "Class: tensor([0])\n",
      "Step 950, Loss: 0.0030214395374059677\n",
      "Class: tensor([1])\n",
      "Step 0, Loss: 2.1481070518493652\n",
      "Class: tensor([1])\n",
      "Step 50, Loss: 0.005439599510282278\n",
      "Class: tensor([1])\n",
      "Step 100, Loss: 0.003365925280377269\n",
      "Class: tensor([1])\n",
      "Step 150, Loss: 0.002446160651743412\n",
      "Class: tensor([1])\n",
      "Step 200, Loss: 0.0019234981155022979\n",
      "Class: tensor([1])\n",
      "Step 250, Loss: 0.001553639187477529\n",
      "Class: tensor([1])\n",
      "Step 300, Loss: 0.0013040142366662621\n",
      "Class: tensor([1])\n",
      "Step 350, Loss: 0.0010742137674242258\n",
      "Class: tensor([1])\n",
      "Step 400, Loss: 0.0009055804111994803\n",
      "Class: tensor([1])\n",
      "Step 450, Loss: 0.0007591941393911839\n",
      "Class: tensor([1])\n",
      "Step 500, Loss: 0.0006181474891491234\n",
      "Class: tensor([1])\n",
      "Step 550, Loss: 0.0005211663665249944\n",
      "Class: tensor([1])\n",
      "Step 600, Loss: 0.0004564673872664571\n",
      "Class: tensor([1])\n",
      "Step 650, Loss: 0.0004070168943144381\n",
      "Class: tensor([1])\n",
      "Step 700, Loss: 0.0003680505615193397\n",
      "Class: tensor([1])\n",
      "Step 750, Loss: 0.0003334919747430831\n",
      "Class: tensor([1])\n",
      "Step 800, Loss: 0.0003054867556784302\n",
      "Class: tensor([1])\n",
      "Step 850, Loss: 0.00028200942324474454\n",
      "Class: tensor([1])\n",
      "Step 900, Loss: 0.0002609150833450258\n",
      "Class: tensor([1])\n",
      "Step 950, Loss: 0.00024244230007752776\n",
      "Class: tensor([2])\n",
      "Step 0, Loss: 0.6891694664955139\n",
      "Class: tensor([2])\n",
      "Step 50, Loss: 0.010578274726867676\n",
      "Class: tensor([2])\n",
      "Step 100, Loss: 0.006525872740894556\n",
      "Class: tensor([2])\n",
      "Step 150, Loss: 0.0054441047832369804\n",
      "Class: tensor([2])\n",
      "Step 200, Loss: 0.004657847806811333\n",
      "Class: tensor([2])\n",
      "Step 250, Loss: 0.0040963320061564445\n",
      "Class: tensor([2])\n",
      "Step 300, Loss: 0.0036194308195263147\n",
      "Class: tensor([2])\n",
      "Step 350, Loss: 0.0030794364865869284\n",
      "Class: tensor([2])\n",
      "Step 400, Loss: 0.0026581690181046724\n",
      "Class: tensor([2])\n",
      "Step 450, Loss: 0.002220309805124998\n",
      "Class: tensor([2])\n",
      "Step 500, Loss: 0.0019229032332077622\n",
      "Class: tensor([2])\n",
      "Step 550, Loss: 0.0016595651395618916\n",
      "Class: tensor([2])\n",
      "Step 600, Loss: 0.0014776989119127393\n",
      "Class: tensor([2])\n",
      "Step 650, Loss: 0.0013088955311104655\n",
      "Class: tensor([2])\n",
      "Step 700, Loss: 0.0011951930355280638\n",
      "Class: tensor([2])\n",
      "Step 750, Loss: 0.0011029120068997145\n",
      "Class: tensor([2])\n",
      "Step 800, Loss: 0.0010220548138022423\n",
      "Class: tensor([2])\n",
      "Step 850, Loss: 0.0009601273923180997\n",
      "Class: tensor([2])\n",
      "Step 900, Loss: 0.0008930747280828655\n",
      "Class: tensor([2])\n",
      "Step 950, Loss: 0.0008300673216581345\n",
      "Class: tensor([3])\n",
      "Step 0, Loss: 3.4254660606384277\n",
      "Class: tensor([3])\n",
      "Step 50, Loss: 0.04760447517037392\n",
      "Class: tensor([3])\n",
      "Step 100, Loss: 0.023611795157194138\n",
      "Class: tensor([3])\n",
      "Step 150, Loss: 0.017289279028773308\n",
      "Class: tensor([3])\n",
      "Step 200, Loss: 0.013408604077994823\n",
      "Class: tensor([3])\n",
      "Step 250, Loss: 0.010437780059874058\n",
      "Class: tensor([3])\n",
      "Step 300, Loss: 0.00897197239100933\n",
      "Class: tensor([3])\n",
      "Step 350, Loss: 0.007879721000790596\n",
      "Class: tensor([3])\n",
      "Step 400, Loss: 0.007082357071340084\n",
      "Class: tensor([3])\n",
      "Step 450, Loss: 0.006448887754231691\n",
      "Class: tensor([3])\n",
      "Step 500, Loss: 0.00587060023099184\n",
      "Class: tensor([3])\n",
      "Step 550, Loss: 0.005294705741107464\n",
      "Class: tensor([3])\n",
      "Step 600, Loss: 0.004837476182729006\n",
      "Class: tensor([3])\n",
      "Step 650, Loss: 0.0044459071941673756\n",
      "Class: tensor([3])\n",
      "Step 700, Loss: 0.004051572643220425\n",
      "Class: tensor([3])\n",
      "Step 750, Loss: 0.003741290420293808\n",
      "Class: tensor([3])\n",
      "Step 800, Loss: 0.0034398215357214212\n",
      "Class: tensor([3])\n",
      "Step 850, Loss: 0.0031393314711749554\n",
      "Class: tensor([3])\n",
      "Step 900, Loss: 0.002817115979269147\n",
      "Class: tensor([3])\n",
      "Step 950, Loss: 0.002601455431431532\n"
     ]
    }
   ],
   "source": [
    "# Generate a series of recovered images \n",
    "# 1. Rotate over the 4 classes randomly 0, 1, 2, 3\n",
    "# 2. Have a random seed initialization for the latent vector z in every iteration\n",
    "# 3. Optimize the latent vector and recover a potential training data\n",
    "# 4. Store each of the recovered images in their own list\n",
    "target_classes = 4\n",
    "latent_vectors = []\n",
    "for x in range(0, target_classes):\n",
    "    target_class = x\n",
    "    target_class = torch.tensor([target_class])\n",
    "\n",
    "    learning_rate = 0.01\n",
    "\n",
    "    # Define a learnable latent vector\n",
    "    z = torch.randn(1, z_dim, 1, 1, requires_grad=True)  # Start with random noise\n",
    "    # Create the optimizer\n",
    "    optimizer = torch.optim.Adam([z], lr=learning_rate)\n",
    "    \n",
    "    # Loss function (e.g., Cross-Entropy with classifier outputs)\n",
    "    loss_fn = nn.CrossEntropyLoss()\n",
    "    \n",
    "    rounds = 1000\n",
    "    for i in range(rounds):\n",
    "        optimizer.zero_grad()\n",
    "        \n",
    "        generated_image = gen(z.to(device))  # Generate an image from the latent vector\n",
    "        generated_image = generated_image.repeat(1, 3, 1, 1)\n",
    "        generated_image = functional.interpolate(generated_image, size=(32, 32), mode='nearest')\n",
    "        #print(generated_image.shape)\n",
    "        hs, prediction_logits = target_model(generated_image)  # Classifier output\n",
    "        #print(prediction_logits)\n",
    "        #print(type(prediction_logits))\n",
    "        loss = loss_fn(prediction_logits, target_class.to(device))  # Minimize difference with true class\n",
    "        loss.backward()\n",
    "        optimizer.step()\n",
    "    \n",
    "        if i % 50 == 0:\n",
    "            print(f\"Class: {target_class}\")\n",
    "            print(f\"Step {i}, Loss: {loss.item()}\")\n",
    "            \n",
    "    latent_vectors.append(z)"
   ]
  },
  {
   "cell_type": "code",
   "execution_count": 48,
   "id": "45ceeaa6-6fb7-4fa9-a242-54ff21466c8b",
   "metadata": {},
   "outputs": [
    {
     "name": "stdout",
     "output_type": "stream",
     "text": [
      "torch.Size([64, 64])\n"
     ]
    }
   ],
   "source": [
    "# Display the generated image\n",
    "img = gen(latent_vectors[0].to(device)).squeeze(dim=0).squeeze(dim=0)\n",
    "print(img.shape)"
   ]
  },
  {
   "cell_type": "code",
   "execution_count": 49,
   "id": "4e277ba4-7ad0-4ee3-a8ce-329d0747b912",
   "metadata": {},
   "outputs": [
    {
     "data": {
      "text/plain": [
       "<matplotlib.image.AxesImage at 0x1e38e9a2fd0>"
      ]
     },
     "execution_count": 49,
     "metadata": {},
     "output_type": "execute_result"
    },
    {
     "data": {
      "image/png": "[encoded data removed]",
      "text/plain": [
       "<Figure size 640x480 with 1 Axes>"
      ]
     },
     "metadata": {},
     "output_type": "display_data"
    }
   ],
   "source": [
    "plt.imshow(img.cpu().detach(), cmap='gray')"
   ]
  },
  {
   "cell_type": "code",
   "execution_count": 58,
   "id": "259067ea-620e-48ef-80d5-72c94ccc9304",
   "metadata": {},
   "outputs": [],
   "source": [
    "recovered_1 = []\n",
    "for lv in latent_vectors:\n",
    "    recovered_1.append(lv)\n"
   ]
  },
  {
   "cell_type": "code",
   "execution_count": 59,
   "id": "dd913a2e-b8e6-4bdd-bfd3-561fbcc2ee3d",
   "metadata": {},
   "outputs": [
    {
     "data": {
      "text/plain": [
       "4"
      ]
     },
     "execution_count": 59,
     "metadata": {},
     "output_type": "execute_result"
    }
   ],
   "source": [
    "len(recovered_1)"
   ]
  },
  {
   "cell_type": "code",
   "execution_count": 60,
   "id": "bbfcd696-7ac7-4c6f-a162-45685fc6d95e",
   "metadata": {},
   "outputs": [],
   "source": [
    "for i in range(0, len(recovered_1)):\n",
    "    img = gen(recovered_1[i].to(device)).squeeze(dim=0).squeeze(dim=0)\n",
    "    recovered_images.append(img)"
   ]
  },
  {
   "cell_type": "code",
   "execution_count": 61,
   "id": "68d49ebd-bf52-4c55-a8e1-e53ec8f21fc4",
   "metadata": {},
   "outputs": [
    {
     "data": {
      "text/plain": [
       "8"
      ]
     },
     "execution_count": 61,
     "metadata": {},
     "output_type": "execute_result"
    }
   ],
   "source": [
    "len(recovered_images)"
   ]
  },
  {
   "cell_type": "code",
   "execution_count": 63,
   "id": "875628c2-7ad6-47de-9c3e-b1a7528ec8d0",
   "metadata": {},
   "outputs": [
    {
     "data": {
      "image/png": "[encoded data removed]",
      "text/plain": [
       "<Figure size 1000x500 with 8 Axes>"
      ]
     },
     "metadata": {},
     "output_type": "display_data"
    }
   ],
   "source": [
    "# Create a figure with 2 rows and 4 columns\n",
    "fig, axes = plt.subplots(2, 4, figsize=(10, 5))\n",
    "\n",
    "# Flatten the 2D axes array and iterate over it\n",
    "for ax, img in zip(axes.flatten(), recovered_images):\n",
    "    ax.imshow(img.cpu().detach(), cmap='gray')  # Display the image\n",
    "    ax.axis('off')  # Hide axes\n",
    "\n",
    "plt.tight_layout()  # Adjust layout to avoid overlap\n",
    "plt.show()"
   ]
  },
  {
   "cell_type": "code",
   "execution_count": null,
   "id": "2a7b4557-bf5e-4b31-9e79-1d5454809064",
   "metadata": {},
   "outputs": [],
   "source": []
  }
 ],
 "metadata": {
  "kernelspec": {
   "display_name": "Python 3 (ipykernel)",
   "language": "python",
   "name": "python3"
  },
  "language_info": {
   "codemirror_mode": {
    "name": "ipython",
    "version": 3
   },
   "file_extension": ".py",
   "mimetype": "text/x-python",
   "name": "python",
   "nbconvert_exporter": "python",
   "pygments_lexer": "ipython3",
   "version": "3.9.7"
  }
 },
 "nbformat": 4,
 "nbformat_minor": 5
}
