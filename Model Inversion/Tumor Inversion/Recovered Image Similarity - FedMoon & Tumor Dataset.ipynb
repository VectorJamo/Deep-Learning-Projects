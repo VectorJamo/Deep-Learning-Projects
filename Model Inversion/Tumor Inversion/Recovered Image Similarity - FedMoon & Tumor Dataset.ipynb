{
 "cells": [
  {
   "cell_type": "code",
   "execution_count": 1,
   "id": "646b38c2-386a-4f83-a983-ea764ad8267f",
   "metadata": {},
   "outputs": [],
   "source": [
    "# Attempting to recover training data using model's parameters and a DCGAN that was trained on similar data\n",
    "# Author: Suraj Neupane\n",
    "# Written from scratch as a part of a Research Project 2025, Concordia University of Edmonton.\n",
    "import numpy as np\n",
    "\n",
    "import torch\n",
    "from torch import nn\n",
    "from torch.nn import functional\n",
    "\n",
    "from torch.utils import data\n",
    "from torch.utils.data import DataLoader\n",
    "\n",
    "import torchvision\n",
    "from torchvision import datasets\n",
    "from torchvision import transforms\n",
    "\n",
    "import pickle\n",
    "\n",
    "import matplotlib.pyplot as plt\n",
    "%matplotlib inline"
   ]
  },
  {
   "cell_type": "code",
   "execution_count": 2,
   "id": "8b80ddb2-ed75-4870-85b4-9300fce0df7e",
   "metadata": {},
   "outputs": [
    {
     "data": {
      "text/plain": [
       "'2.5.1+cu118'"
      ]
     },
     "execution_count": 2,
     "metadata": {},
     "output_type": "execute_result"
    }
   ],
   "source": [
    "torch.__version__"
   ]
  },
  {
   "cell_type": "code",
   "execution_count": 3,
   "id": "d6950585-eb31-4f61-bd60-5bf8716fcdef",
   "metadata": {},
   "outputs": [],
   "source": [
    "device = 'cuda' if torch.cuda.is_available() else 'cpu'"
   ]
  },
  {
   "cell_type": "code",
   "execution_count": 4,
   "id": "36c47e07-6b7d-4123-a59d-5d465f9ef280",
   "metadata": {},
   "outputs": [
    {
     "data": {
      "text/plain": [
       "'cuda'"
      ]
     },
     "execution_count": 4,
     "metadata": {},
     "output_type": "execute_result"
    }
   ],
   "source": [
    "device"
   ]
  },
  {
   "cell_type": "code",
   "execution_count": 5,
   "id": "b852ca55-f33e-469f-b7b9-e00d21124927",
   "metadata": {},
   "outputs": [],
   "source": [
    "# DCGAN Implementation Class\n",
    "# Discriminator\n",
    "class Discriminator(nn.Module):\n",
    "    def __init__(self, img_channels, features_d):\n",
    "        super().__init__()\n",
    "        self.disc = nn.Sequential(\n",
    "            # Input shape: img_channels x 64 x 64\n",
    "            nn.Conv2d(\n",
    "              in_channels=img_channels, out_channels=features_d, kernel_size=4, stride=2, padding=1\n",
    "            ), # Output shape: features_d x 32 x 32\n",
    "            nn.LeakyReLU(0.2),\n",
    "            self._block(features_d, features_d*2, 4, 2, 1), # Output shape: features_d*2 x 16 x 16\n",
    "            self._block(features_d*2, features_d*4, 4, 2, 1), # Output shape: features_d*4 x 8 x 8\n",
    "            self._block(features_d*4, features_d*8, 4, 2, 1), # Output shape: features_d*8 x 4 x 4\n",
    "           \n",
    "            nn.Conv2d(in_channels=features_d*8, out_channels=1, kernel_size=4, stride=2, padding=0), # Output shape: 1 x 1\n",
    "            nn.Sigmoid(),\n",
    "        )\n",
    "\n",
    "    def _block(self, in_channels, out_channels, kernel_size, stride, padding):\n",
    "        return nn.Sequential(\n",
    "            nn.Conv2d(in_channels, out_channels, kernel_size, stride, padding, bias=False),\n",
    "            nn.BatchNorm2d(out_channels),\n",
    "            nn.LeakyReLU(0.2),\n",
    "        )\n",
    "\n",
    "    def forward(self, X):\n",
    "        return self.disc(X)\n"
   ]
  },
  {
   "cell_type": "code",
   "execution_count": 6,
   "id": "5afe02e5-61d3-4f25-8933-8484e519cd4a",
   "metadata": {},
   "outputs": [],
   "source": [
    "# Generator\n",
    "class Generator(nn.Module):\n",
    "    def __init__(self, z_dim, img_channels, features_g):\n",
    "        super().__init__()\n",
    "        self.gen = nn.Sequential(\n",
    "            self._block(z_dim, features_g*16, 4, 1, 0), # z_dim: (batch_size, 100, 1, 1) -> (batch_size, 1024, 4, 4)\n",
    "            self._block(features_g*16, features_g*8, 4, 2, 1), # z_dim: (batch_size, 1024, 4, 4) -> (batch_size, 512, 8, 8)\n",
    "            self._block(features_g*8, features_g*4, 4, 2, 1), # z_dim: (batch_size, 512, 8, 8) -> (batch_size, 256, 16, 16)\n",
    "            self._block(features_g*4, features_g*2, 4, 2, 1), # z_dim: (batch_size, 128, 16, 16) -> (batch_size, 64, 32, 32)\n",
    "            nn.ConvTranspose2d(\n",
    "                in_channels=features_g*2, out_channels=img_channels, kernel_size=4, stride=2, padding=1 # z_dim: (batch_size, 64, 32, 32) -> (batch_size, 1, 64, 64)\n",
    "            ),\n",
    "            nn.Tanh(),\n",
    "        )\n",
    "        \n",
    "    def _block(self, in_channels, out_channels, kernel_size, stride, padding):\n",
    "        return nn.Sequential(\n",
    "            nn.ConvTranspose2d(\n",
    "                in_channels, out_channels, kernel_size, stride, padding, bias=False,\n",
    "            ),\n",
    "            nn.BatchNorm2d(out_channels),\n",
    "            nn.ReLU(),\n",
    "        )\n",
    "\n",
    "    def forward(self, X):\n",
    "        return self.gen(X)"
   ]
  },
  {
   "cell_type": "code",
   "execution_count": 7,
   "id": "48c1be35-d58a-4d0c-990d-9250fbdbf1b3",
   "metadata": {},
   "outputs": [],
   "source": [
    "# Hyperparams\n",
    "z_dim = 100\n",
    "img_channels = 1\n",
    "features_disc = 64\n",
    "features_gen = 64"
   ]
  },
  {
   "cell_type": "code",
   "execution_count": 8,
   "id": "f2dc1f40-5c2e-4903-b2e7-7abe5cae9772",
   "metadata": {},
   "outputs": [],
   "source": [
    "# Create the model instances\n",
    "gen = Generator(z_dim, img_channels, features_gen).to(device)\n",
    "disc = Discriminator(img_channels, features_disc).to(device)"
   ]
  },
  {
   "cell_type": "code",
   "execution_count": 9,
   "id": "bc7a5deb-f8d8-41d4-aed3-d012d39a84b9",
   "metadata": {},
   "outputs": [
    {
     "data": {
      "text/plain": [
       "<All keys matched successfully>"
      ]
     },
     "execution_count": 9,
     "metadata": {},
     "output_type": "execute_result"
    }
   ],
   "source": [
    "# Load the trained GAN\n",
    "gen.load_state_dict(torch.load('saved models/Generator.pth', weights_only=True))\n",
    "disc.load_state_dict(torch.load('saved models/Discriminator.pth', weights_only=True))"
   ]
  },
  {
   "cell_type": "code",
   "execution_count": 10,
   "id": "a504e932-e168-4bb8-88cc-eea0810aafb0",
   "metadata": {},
   "outputs": [],
   "source": [
    "# Generate a random fake image\n",
    "noise = torch.randn(1, z_dim, 1, 1).to(device)\n",
    "fake_img = gen(noise)"
   ]
  },
  {
   "cell_type": "code",
   "execution_count": 11,
   "id": "98b5d73f-b130-4bc1-a868-c225bd2abe62",
   "metadata": {},
   "outputs": [
    {
     "data": {
      "text/plain": [
       "torch.Size([1, 1, 64, 64])"
      ]
     },
     "execution_count": 11,
     "metadata": {},
     "output_type": "execute_result"
    }
   ],
   "source": [
    "fake_img.shape"
   ]
  },
  {
   "cell_type": "code",
   "execution_count": 12,
   "id": "9d19338c-18e4-4b6e-842f-a225718fa8bb",
   "metadata": {},
   "outputs": [
    {
     "name": "stdout",
     "output_type": "stream",
     "text": [
      "torch.Size([64, 64])\n"
     ]
    },
    {
     "data": {
      "text/plain": [
       "<matplotlib.image.AxesImage at 0x2b08e313910>"
      ]
     },
     "execution_count": 12,
     "metadata": {},
     "output_type": "execute_result"
    },
    {
     "data": {
      "image/png": "[encoded data removed]",
      "text/plain": [
       "<Figure size 640x480 with 1 Axes>"
      ]
     },
     "metadata": {},
     "output_type": "display_data"
    }
   ],
   "source": [
    "fake_img = fake_img.squeeze()\n",
    "print(fake_img.shape)\n",
    "plt.axis(False)\n",
    "plt.title('Fake Generated Image:')\n",
    "plt.imshow(fake_img.cpu().detach(), cmap='gray')"
   ]
  },
  {
   "cell_type": "code",
   "execution_count": 13,
   "id": "cf2aefac-a759-4335-a3de-2065d6a6a9a5",
   "metadata": {},
   "outputs": [],
   "source": [
    "# Target Model\n",
    "class TFCNN(nn.Module):\n",
    "    def __init__(self, n_classes):\n",
    "        super().__init__()\n",
    "        self.n_classes = n_classes\n",
    "\n",
    "        self.encoder = nn.Sequential(\n",
    "            nn.Conv2d(3, 32, 3, stride=1, padding=1),\n",
    "            nn.ReLU(True),\n",
    "            nn.MaxPool2d(2),\n",
    "            nn.Conv2d(32, 64, 3, stride=1, padding=1),\n",
    "            nn.ReLU(True),\n",
    "            nn.MaxPool2d(2),\n",
    "            nn.Conv2d(64, 64, 3, stride=1, padding=1),\n",
    "            nn.ReLU(True),\n",
    "            nn.MaxPool2d(2),\n",
    "            Reshape(),\n",
    "        )\n",
    "\n",
    "        self.h_size = 64 * 4 * 4\n",
    "\n",
    "        self.classifier = nn.Sequential(\n",
    "            nn.Linear(64 * 4 * 4, 128),\n",
    "            nn.ReLU(True),\n",
    "            nn.Linear(128, n_classes)\n",
    "        )\n",
    "\n",
    "    def forward(self, xs):\n",
    "        code = self.encoder(xs)\n",
    "        logits = self.classifier(code)\n",
    "        return code, logits\n"
   ]
  },
  {
   "cell_type": "code",
   "execution_count": 14,
   "id": "d28876e2-91ee-4ebf-bc52-b71dc82edfa2",
   "metadata": {},
   "outputs": [],
   "source": [
    "class Reshape(nn.Module):\n",
    "    def __init__(self,):\n",
    "        super().__init__()\n",
    "\n",
    "    def forward(self, xs):\n",
    "        return xs.reshape((xs.shape[0], -1))"
   ]
  },
  {
   "cell_type": "code",
   "execution_count": 15,
   "id": "dd57210c-2c18-4651-8f29-be94a7a7a88f",
   "metadata": {},
   "outputs": [],
   "source": [
    "class ClassifyNet(nn.Module):\n",
    "    def __init__(self, net, init_way, n_classes, input_size=None):\n",
    "        super().__init__()\n",
    "        self.net = net\n",
    "        self.init_way = init_way\n",
    "        self.n_classes = n_classes\n",
    "\n",
    "        model = TFCNN(n_classes)\n",
    "\n",
    "        self.h_size = model.h_size\n",
    "\n",
    "        # Convo and pool layers\n",
    "        self.encoder = model.encoder\n",
    "\n",
    "        # Classifier layer\n",
    "        self.classifier = nn.Linear(\n",
    "            self.h_size, self.n_classes, bias=False\n",
    "        )\n",
    "\n",
    "        if self.init_way == \"orth\":\n",
    "            ws = get_orth_weights(self.h_size, self.n_classes)\n",
    "            self.classifier.load_state_dict({\"weight\": ws})\n",
    "\n",
    "    def forward(self, xs):\n",
    "        hs = self.encoder(xs)\n",
    "        logits = self.classifier(hs)\n",
    "        return hs, logits"
   ]
  },
  {
   "cell_type": "code",
   "execution_count": 16,
   "id": "83ea3c08-0470-4c9a-ba15-8328a316b3ab",
   "metadata": {},
   "outputs": [],
   "source": [
    "def load_target_model(base_net, n_classes, path):\n",
    "    # Create the base model\n",
    "    model = ClassifyNet(net=base_net, init_way='none', n_classes=n_classes)\n",
    "    # Load the model\n",
    "    model.load_state_dict(torch.load(path, weights_only=True))\n",
    "\n",
    "    return model"
   ]
  },
  {
   "cell_type": "code",
   "execution_count": 17,
   "id": "0880f1aa-9d08-445a-85ac-f1ff3cebde04",
   "metadata": {},
   "outputs": [
    {
     "name": "stdout",
     "output_type": "stream",
     "text": [
      "Model loaded successfully!\n",
      "Number of parameters in the loaded model: 60416\n"
     ]
    }
   ],
   "source": [
    "# Target Model Loading\n",
    "BASE_NET = 'TFCNN'\n",
    "DATASET = 'tumor4'\n",
    "N_CLASSES = 4\n",
    "\n",
    "target_model = load_target_model(base_net=BASE_NET, n_classes=N_CLASSES, path='saved models/moon_global_model.path').to(device)\n",
    "print('Model loaded successfully!')\n",
    "target_model.eval()\n",
    "\n",
    "num_params = sum(p.numel() for p in target_model.parameters())\n",
    "print('Number of parameters in the loaded model:', num_params)\n"
   ]
  },
  {
   "cell_type": "code",
   "execution_count": 18,
   "id": "f843f19e-b2a5-4ffe-b22b-de4ff93c5643",
   "metadata": {},
   "outputs": [],
   "source": [
    "# BEGIN BATCH MODEL INVERSION\n",
    "img_count = 20\n",
    "latent_vectors = torch.randn(img_count, z_dim, 1, 1, requires_grad=True) # Start with 20 random noises"
   ]
  },
  {
   "cell_type": "code",
   "execution_count": 19,
   "id": "c21320ed-d5ac-4919-aaad-8cfa093998a6",
   "metadata": {},
   "outputs": [],
   "source": [
    "def recover_images(count, target_image_class, latent_vectors):\n",
    "    optimized_latent_vectors = []\n",
    "    \n",
    "    for x in range(0, count):\n",
    "        z = latent_vectors[x].unsqueeze(dim=0).clone().detach().requires_grad_(True)\n",
    "        \n",
    "        learning_rate = 0.01\n",
    "        target_class = 1 # The second class\n",
    "        \n",
    "        # Create the optimizer\n",
    "        optimizer = torch.optim.Adam([z], lr=learning_rate)\n",
    "        \n",
    "        # Loss function (e.g., Cross-Entropy with classifier outputs)\n",
    "        loss_fn = nn.CrossEntropyLoss()\n",
    "        target_class = torch.tensor([target_image_class])  # Set the target class\n",
    "    \n",
    "        # Optimization loop to find the best z\n",
    "        rounds = 500\n",
    "        for i in range(rounds):\n",
    "            optimizer.zero_grad()\n",
    "            \n",
    "            generated_image = gen(z.to(device))  # Generate an image from the latent vector\n",
    "            generated_image = generated_image.repeat(1, 3, 1, 1)\n",
    "            generated_image = functional.interpolate(generated_image, size=(32, 32), mode='nearest')\n",
    "            #print(generated_image.shape)\n",
    "            hs, prediction_logits = target_model(generated_image)  # Classifier output\n",
    "            #print(prediction_logits)\n",
    "            #print(type(prediction_logits))\n",
    "            loss = loss_fn(prediction_logits, target_class.to(device))  # Minimize difference with true class\n",
    "            loss.backward()\n",
    "            optimizer.step()\n",
    "            \n",
    "            if i % 50 == 0:\n",
    "                print(f\"Generating Image Number: {x+1} for target class {target_class}. Step {i}, Loss: {loss.item()}\")\n",
    "    \n",
    "        optimized_latent_vectors.append(z)\n",
    "        \n",
    "    return optimized_latent_vectors"
   ]
  },
  {
   "cell_type": "code",
   "execution_count": 20,
   "id": "9ebc9533-23ca-4d44-8aea-9d134281b3a4",
   "metadata": {
    "scrolled": true
   },
   "outputs": [
    {
     "name": "stdout",
     "output_type": "stream",
     "text": [
      "Generating Image Number: 1 for target class tensor([0]). Step 0, Loss: 1.0154962539672852\n",
      "Generating Image Number: 1 for target class tensor([0]). Step 50, Loss: 0.02545616775751114\n",
      "Generating Image Number: 1 for target class tensor([0]). Step 100, Loss: 0.012751942500472069\n",
      "Generating Image Number: 1 for target class tensor([0]). Step 150, Loss: 0.00896464753895998\n",
      "Generating Image Number: 1 for target class tensor([0]). Step 200, Loss: 0.007359536364674568\n",
      "Generating Image Number: 1 for target class tensor([0]). Step 250, Loss: 0.0062963212840259075\n",
      "Generating Image Number: 1 for target class tensor([0]). Step 300, Loss: 0.005624658428132534\n",
      "Generating Image Number: 1 for target class tensor([0]). Step 350, Loss: 0.005186199210584164\n",
      "Generating Image Number: 1 for target class tensor([0]). Step 400, Loss: 0.004854796454310417\n",
      "Generating Image Number: 1 for target class tensor([0]). Step 450, Loss: 0.004232140723615885\n",
      "Generating Image Number: 2 for target class tensor([0]). Step 0, Loss: 0.00030620177858509123\n",
      "Generating Image Number: 2 for target class tensor([0]). Step 50, Loss: 5.960462772236497e-07\n",
      "Generating Image Number: 2 for target class tensor([0]). Step 100, Loss: 3.576278118089249e-07\n",
      "Generating Image Number: 2 for target class tensor([0]). Step 150, Loss: 2.3841855067985307e-07\n",
      "Generating Image Number: 2 for target class tensor([0]). Step 200, Loss: 2.3841855067985307e-07\n",
      "Generating Image Number: 2 for target class tensor([0]). Step 250, Loss: 1.1920928244535389e-07\n",
      "Generating Image Number: 2 for target class tensor([0]). Step 300, Loss: 1.1920928244535389e-07\n",
      "Generating Image Number: 2 for target class tensor([0]). Step 350, Loss: 1.1920928244535389e-07\n",
      "Generating Image Number: 2 for target class tensor([0]). Step 400, Loss: 1.1920928244535389e-07\n",
      "Generating Image Number: 2 for target class tensor([0]). Step 450, Loss: 1.1920928244535389e-07\n",
      "Generating Image Number: 3 for target class tensor([0]). Step 0, Loss: 0.28425437211990356\n",
      "Generating Image Number: 3 for target class tensor([0]). Step 50, Loss: 0.003125665243715048\n",
      "Generating Image Number: 3 for target class tensor([0]). Step 100, Loss: 0.0014725804794579744\n",
      "Generating Image Number: 3 for target class tensor([0]). Step 150, Loss: 0.0009581027552485466\n",
      "Generating Image Number: 3 for target class tensor([0]). Step 200, Loss: 0.0007340597221627831\n",
      "Generating Image Number: 3 for target class tensor([0]). Step 250, Loss: 0.0005859803641214967\n",
      "Generating Image Number: 3 for target class tensor([0]). Step 300, Loss: 0.0004951919545419514\n",
      "Generating Image Number: 3 for target class tensor([0]). Step 350, Loss: 0.0004295380203984678\n",
      "Generating Image Number: 3 for target class tensor([0]). Step 400, Loss: 0.00037067217635922134\n",
      "Generating Image Number: 3 for target class tensor([0]). Step 450, Loss: 0.0003215749457012862\n",
      "Generating Image Number: 4 for target class tensor([0]). Step 0, Loss: 0.011494954116642475\n",
      "Generating Image Number: 4 for target class tensor([0]). Step 50, Loss: 4.1960789531003684e-05\n",
      "Generating Image Number: 4 for target class tensor([0]). Step 100, Loss: 1.9192511899746023e-05\n",
      "Generating Image Number: 4 for target class tensor([0]). Step 150, Loss: 1.3828182090946939e-05\n",
      "Generating Image Number: 4 for target class tensor([0]). Step 200, Loss: 1.07287787614041e-05\n",
      "Generating Image Number: 4 for target class tensor([0]). Step 250, Loss: 8.583032467868179e-06\n",
      "Generating Image Number: 4 for target class tensor([0]). Step 300, Loss: 7.152531907195225e-06\n",
      "Generating Image Number: 4 for target class tensor([0]). Step 350, Loss: 6.318072337307967e-06\n",
      "Generating Image Number: 4 for target class tensor([0]). Step 400, Loss: 5.602820692729438e-06\n",
      "Generating Image Number: 4 for target class tensor([0]). Step 450, Loss: 4.887569048150908e-06\n",
      "Generating Image Number: 5 for target class tensor([0]). Step 0, Loss: 2.8162920475006104\n",
      "Generating Image Number: 5 for target class tensor([0]). Step 50, Loss: 0.04515558481216431\n",
      "Generating Image Number: 5 for target class tensor([0]). Step 100, Loss: 0.026178983971476555\n",
      "Generating Image Number: 5 for target class tensor([0]). Step 150, Loss: 0.020915428176522255\n",
      "Generating Image Number: 5 for target class tensor([0]). Step 200, Loss: 0.01747215911746025\n",
      "Generating Image Number: 5 for target class tensor([0]). Step 250, Loss: 0.014696905389428139\n",
      "Generating Image Number: 5 for target class tensor([0]). Step 300, Loss: 0.012946479953825474\n",
      "Generating Image Number: 5 for target class tensor([0]). Step 350, Loss: 0.01153737772256136\n",
      "Generating Image Number: 5 for target class tensor([0]). Step 400, Loss: 0.010219509713351727\n",
      "Generating Image Number: 5 for target class tensor([0]). Step 450, Loss: 0.008992057293653488\n",
      "Generating Image Number: 6 for target class tensor([0]). Step 0, Loss: 7.686390399932861\n",
      "Generating Image Number: 6 for target class tensor([0]). Step 50, Loss: 0.12210780382156372\n",
      "Generating Image Number: 6 for target class tensor([0]). Step 100, Loss: 0.048027683049440384\n",
      "Generating Image Number: 6 for target class tensor([0]). Step 150, Loss: 0.03417089581489563\n",
      "Generating Image Number: 6 for target class tensor([0]). Step 200, Loss: 0.02619117684662342\n",
      "Generating Image Number: 6 for target class tensor([0]). Step 250, Loss: 0.02098710462450981\n",
      "Generating Image Number: 6 for target class tensor([0]). Step 300, Loss: 0.01784929260611534\n",
      "Generating Image Number: 6 for target class tensor([0]). Step 350, Loss: 0.015258490107953548\n",
      "Generating Image Number: 6 for target class tensor([0]). Step 400, Loss: 0.013109683059155941\n",
      "Generating Image Number: 6 for target class tensor([0]). Step 450, Loss: 0.01147303357720375\n",
      "Generating Image Number: 7 for target class tensor([0]). Step 0, Loss: 0.3282351791858673\n",
      "Generating Image Number: 7 for target class tensor([0]). Step 50, Loss: 0.0006258912617340684\n",
      "Generating Image Number: 7 for target class tensor([0]). Step 100, Loss: 0.00022027450904715806\n",
      "Generating Image Number: 7 for target class tensor([0]). Step 150, Loss: 0.00016056202002801\n",
      "Generating Image Number: 7 for target class tensor([0]). Step 200, Loss: 0.00013886917440686375\n",
      "Generating Image Number: 7 for target class tensor([0]). Step 250, Loss: 0.00012146688823122531\n",
      "Generating Image Number: 7 for target class tensor([0]). Step 300, Loss: 0.00011157367407577112\n",
      "Generating Image Number: 7 for target class tensor([0]). Step 350, Loss: 0.00010406429646536708\n",
      "Generating Image Number: 7 for target class tensor([0]). Step 400, Loss: 9.619726915843785e-05\n",
      "Generating Image Number: 7 for target class tensor([0]). Step 450, Loss: 8.904537389753386e-05\n",
      "Generating Image Number: 8 for target class tensor([0]). Step 0, Loss: 0.3397327959537506\n",
      "Generating Image Number: 8 for target class tensor([0]). Step 50, Loss: 0.0025758917909115553\n",
      "Generating Image Number: 8 for target class tensor([0]). Step 100, Loss: 0.0012042421149089932\n",
      "Generating Image Number: 8 for target class tensor([0]). Step 150, Loss: 0.0009289240115322173\n",
      "Generating Image Number: 8 for target class tensor([0]). Step 200, Loss: 0.0007724162423983216\n",
      "Generating Image Number: 8 for target class tensor([0]). Step 250, Loss: 0.0006195771275088191\n",
      "Generating Image Number: 8 for target class tensor([0]). Step 300, Loss: 0.0005030558677390218\n",
      "Generating Image Number: 8 for target class tensor([0]). Step 350, Loss: 0.00043335105874575675\n",
      "Generating Image Number: 8 for target class tensor([0]). Step 400, Loss: 0.00038532938924618065\n",
      "Generating Image Number: 8 for target class tensor([0]). Step 450, Loss: 0.0003502947511151433\n",
      "Generating Image Number: 9 for target class tensor([0]). Step 0, Loss: 0.019336415454745293\n",
      "Generating Image Number: 9 for target class tensor([0]). Step 50, Loss: 8.702239938429557e-06\n",
      "Generating Image Number: 9 for target class tensor([0]). Step 100, Loss: 6.079655122448457e-06\n",
      "Generating Image Number: 9 for target class tensor([0]). Step 150, Loss: 4.887569048150908e-06\n",
      "Generating Image Number: 9 for target class tensor([0]). Step 200, Loss: 4.0531076592742465e-06\n",
      "Generating Image Number: 9 for target class tensor([0]). Step 250, Loss: 3.4570634852570947e-06\n",
      "Generating Image Number: 9 for target class tensor([0]). Step 300, Loss: 3.099436753473128e-06\n",
      "Generating Image Number: 9 for target class tensor([0]). Step 350, Loss: 2.7418097943154862e-06\n",
      "Generating Image Number: 9 for target class tensor([0]). Step 400, Loss: 2.3841830625315197e-06\n",
      "Generating Image Number: 9 for target class tensor([0]). Step 450, Loss: 2.145764938177308e-06\n",
      "Generating Image Number: 10 for target class tensor([0]). Step 0, Loss: 5.563262462615967\n",
      "Generating Image Number: 10 for target class tensor([0]). Step 50, Loss: 0.01219695620238781\n",
      "Generating Image Number: 10 for target class tensor([0]). Step 100, Loss: 0.006244434043765068\n",
      "Generating Image Number: 10 for target class tensor([0]). Step 150, Loss: 0.004542745649814606\n",
      "Generating Image Number: 10 for target class tensor([0]). Step 200, Loss: 0.0036131355445832014\n",
      "Generating Image Number: 10 for target class tensor([0]). Step 250, Loss: 0.0029529796447604895\n",
      "Generating Image Number: 10 for target class tensor([0]). Step 300, Loss: 0.0025417660363018513\n",
      "Generating Image Number: 10 for target class tensor([0]). Step 350, Loss: 0.002230301033705473\n",
      "Generating Image Number: 10 for target class tensor([0]). Step 400, Loss: 0.0019760860595852137\n",
      "Generating Image Number: 10 for target class tensor([0]). Step 450, Loss: 0.0017533419886603951\n",
      "Generating Image Number: 11 for target class tensor([0]). Step 0, Loss: 3.076521396636963\n",
      "Generating Image Number: 11 for target class tensor([0]). Step 50, Loss: 0.013030732050538063\n",
      "Generating Image Number: 11 for target class tensor([0]). Step 100, Loss: 0.0046895286068320274\n",
      "Generating Image Number: 11 for target class tensor([0]). Step 150, Loss: 0.0034123784862458706\n",
      "Generating Image Number: 11 for target class tensor([0]). Step 200, Loss: 0.0027676632162183523\n",
      "Generating Image Number: 11 for target class tensor([0]). Step 250, Loss: 0.002345907734706998\n",
      "Generating Image Number: 11 for target class tensor([0]). Step 300, Loss: 0.0019712080247700214\n",
      "Generating Image Number: 11 for target class tensor([0]). Step 350, Loss: 0.0016809870721772313\n",
      "Generating Image Number: 11 for target class tensor([0]). Step 400, Loss: 0.0014425835106521845\n",
      "Generating Image Number: 11 for target class tensor([0]). Step 450, Loss: 0.0012419852428138256\n",
      "Generating Image Number: 12 for target class tensor([0]). Step 0, Loss: 8.247700691223145\n",
      "Generating Image Number: 12 for target class tensor([0]). Step 50, Loss: 0.048435721546411514\n",
      "Generating Image Number: 12 for target class tensor([0]). Step 100, Loss: 0.01779952459037304\n",
      "Generating Image Number: 12 for target class tensor([0]). Step 150, Loss: 0.009952445514500141\n",
      "Generating Image Number: 12 for target class tensor([0]). Step 200, Loss: 0.007728437427431345\n",
      "Generating Image Number: 12 for target class tensor([0]). Step 250, Loss: 0.006455757189542055\n",
      "Generating Image Number: 12 for target class tensor([0]). Step 300, Loss: 0.005578900687396526\n",
      "Generating Image Number: 12 for target class tensor([0]). Step 350, Loss: 0.004925854504108429\n",
      "Generating Image Number: 12 for target class tensor([0]). Step 400, Loss: 0.004327575676143169\n",
      "Generating Image Number: 12 for target class tensor([0]). Step 450, Loss: 0.0037178935017436743\n",
      "Generating Image Number: 13 for target class tensor([0]). Step 0, Loss: 2.1638054847717285\n",
      "Generating Image Number: 13 for target class tensor([0]). Step 50, Loss: 0.013965621590614319\n",
      "Generating Image Number: 13 for target class tensor([0]). Step 100, Loss: 0.005512868519872427\n",
      "Generating Image Number: 13 for target class tensor([0]). Step 150, Loss: 0.003018468152731657\n",
      "Generating Image Number: 13 for target class tensor([0]). Step 200, Loss: 0.0019822726026177406\n",
      "Generating Image Number: 13 for target class tensor([0]). Step 250, Loss: 0.001387705677188933\n",
      "Generating Image Number: 13 for target class tensor([0]). Step 300, Loss: 0.0009864469757303596\n",
      "Generating Image Number: 13 for target class tensor([0]). Step 350, Loss: 0.0007936188485473394\n",
      "Generating Image Number: 13 for target class tensor([0]). Step 400, Loss: 0.0006647284608334303\n",
      "Generating Image Number: 13 for target class tensor([0]). Step 450, Loss: 0.0005799042410217226\n",
      "Generating Image Number: 14 for target class tensor([0]). Step 0, Loss: 2.3036062717437744\n",
      "Generating Image Number: 14 for target class tensor([0]). Step 50, Loss: 0.008770043030381203\n",
      "Generating Image Number: 14 for target class tensor([0]). Step 100, Loss: 0.00543414568528533\n",
      "Generating Image Number: 14 for target class tensor([0]). Step 150, Loss: 0.004414218943566084\n",
      "Generating Image Number: 14 for target class tensor([0]). Step 200, Loss: 0.0036235882434993982\n",
      "Generating Image Number: 14 for target class tensor([0]). Step 250, Loss: 0.0030089602805674076\n",
      "Generating Image Number: 14 for target class tensor([0]). Step 300, Loss: 0.0025620989035815\n",
      "Generating Image Number: 14 for target class tensor([0]). Step 350, Loss: 0.002271930454298854\n",
      "Generating Image Number: 14 for target class tensor([0]). Step 400, Loss: 0.0020240312442183495\n",
      "Generating Image Number: 14 for target class tensor([0]). Step 450, Loss: 0.0018160531762987375\n",
      "Generating Image Number: 15 for target class tensor([0]). Step 0, Loss: 5.407361030578613\n",
      "Generating Image Number: 15 for target class tensor([0]). Step 50, Loss: 0.01543645840138197\n",
      "Generating Image Number: 15 for target class tensor([0]). Step 100, Loss: 0.004925142508000135\n",
      "Generating Image Number: 15 for target class tensor([0]). Step 150, Loss: 0.00317308004014194\n",
      "Generating Image Number: 15 for target class tensor([0]). Step 200, Loss: 0.002277758438140154\n",
      "Generating Image Number: 15 for target class tensor([0]). Step 250, Loss: 0.0016504012746736407\n",
      "Generating Image Number: 15 for target class tensor([0]). Step 300, Loss: 0.0012636542087420821\n",
      "Generating Image Number: 15 for target class tensor([0]). Step 350, Loss: 0.0010187203297391534\n",
      "Generating Image Number: 15 for target class tensor([0]). Step 400, Loss: 0.0009126074146479368\n",
      "Generating Image Number: 15 for target class tensor([0]). Step 450, Loss: 0.0008347125840373337\n",
      "Generating Image Number: 16 for target class tensor([0]). Step 0, Loss: 0.11126338690519333\n",
      "Generating Image Number: 16 for target class tensor([0]). Step 50, Loss: 0.00018571082910057157\n",
      "Generating Image Number: 16 for target class tensor([0]). Step 100, Loss: 0.00012587709352374077\n",
      "Generating Image Number: 16 for target class tensor([0]). Step 150, Loss: 0.00010239553375868127\n",
      "Generating Image Number: 16 for target class tensor([0]). Step 200, Loss: 8.511180931236595e-05\n",
      "Generating Image Number: 16 for target class tensor([0]). Step 250, Loss: 7.354942499659956e-05\n",
      "Generating Image Number: 16 for target class tensor([0]). Step 300, Loss: 6.41325386823155e-05\n",
      "Generating Image Number: 16 for target class tensor([0]). Step 350, Loss: 5.709961988031864e-05\n",
      "Generating Image Number: 16 for target class tensor([0]). Step 400, Loss: 5.185469490243122e-05\n",
      "Generating Image Number: 16 for target class tensor([0]). Step 450, Loss: 4.7801782784517854e-05\n",
      "Generating Image Number: 17 for target class tensor([0]). Step 0, Loss: 1.7954171895980835\n",
      "Generating Image Number: 17 for target class tensor([0]). Step 50, Loss: 0.0014980534324422479\n",
      "Generating Image Number: 17 for target class tensor([0]). Step 100, Loss: 0.0007597897201776505\n",
      "Generating Image Number: 17 for target class tensor([0]). Step 150, Loss: 0.000610999355558306\n",
      "Generating Image Number: 17 for target class tensor([0]). Step 200, Loss: 0.0005169962532818317\n",
      "Generating Image Number: 17 for target class tensor([0]). Step 250, Loss: 0.00044741155579686165\n",
      "Generating Image Number: 17 for target class tensor([0]). Step 300, Loss: 0.00039521988946944475\n",
      "Generating Image Number: 17 for target class tensor([0]). Step 350, Loss: 0.0003409996279515326\n",
      "Generating Image Number: 17 for target class tensor([0]). Step 400, Loss: 0.00029273517429828644\n",
      "Generating Image Number: 17 for target class tensor([0]). Step 450, Loss: 0.00025567124248482287\n",
      "Generating Image Number: 18 for target class tensor([0]). Step 0, Loss: 2.587470054626465\n",
      "Generating Image Number: 18 for target class tensor([0]). Step 50, Loss: 0.026796715334057808\n",
      "Generating Image Number: 18 for target class tensor([0]). Step 100, Loss: 0.011884479783475399\n",
      "Generating Image Number: 18 for target class tensor([0]). Step 150, Loss: 0.00762575538828969\n",
      "Generating Image Number: 18 for target class tensor([0]). Step 200, Loss: 0.005922625306993723\n",
      "Generating Image Number: 18 for target class tensor([0]). Step 250, Loss: 0.0048774550668895245\n",
      "Generating Image Number: 18 for target class tensor([0]). Step 300, Loss: 0.004022721666842699\n",
      "Generating Image Number: 18 for target class tensor([0]). Step 350, Loss: 0.003310440108180046\n",
      "Generating Image Number: 18 for target class tensor([0]). Step 400, Loss: 0.0026661348529160023\n",
      "Generating Image Number: 18 for target class tensor([0]). Step 450, Loss: 0.0023303276393562555\n",
      "Generating Image Number: 19 for target class tensor([0]). Step 0, Loss: 0.4819033145904541\n",
      "Generating Image Number: 19 for target class tensor([0]). Step 50, Loss: 0.0010141950333490968\n",
      "Generating Image Number: 19 for target class tensor([0]). Step 100, Loss: 0.0005807381821796298\n",
      "Generating Image Number: 19 for target class tensor([0]). Step 150, Loss: 0.00040928093949332833\n",
      "Generating Image Number: 19 for target class tensor([0]). Step 200, Loss: 0.000324673397699371\n",
      "Generating Image Number: 19 for target class tensor([0]). Step 250, Loss: 0.000276765669696033\n",
      "Generating Image Number: 19 for target class tensor([0]). Step 300, Loss: 0.00024148885859176517\n",
      "Generating Image Number: 19 for target class tensor([0]). Step 350, Loss: 0.0002044230350293219\n",
      "Generating Image Number: 19 for target class tensor([0]). Step 400, Loss: 0.00017736769223120064\n",
      "Generating Image Number: 19 for target class tensor([0]). Step 450, Loss: 0.00015770144818816334\n",
      "Generating Image Number: 20 for target class tensor([0]). Step 0, Loss: 8.557324409484863\n",
      "Generating Image Number: 20 for target class tensor([0]). Step 50, Loss: 0.0750451609492302\n",
      "Generating Image Number: 20 for target class tensor([0]). Step 100, Loss: 0.013988309539854527\n",
      "Generating Image Number: 20 for target class tensor([0]). Step 150, Loss: 0.008851812221109867\n",
      "Generating Image Number: 20 for target class tensor([0]). Step 200, Loss: 0.0068023777566850185\n",
      "Generating Image Number: 20 for target class tensor([0]). Step 250, Loss: 0.005174695514142513\n",
      "Generating Image Number: 20 for target class tensor([0]). Step 300, Loss: 0.004100962076336145\n",
      "Generating Image Number: 20 for target class tensor([0]). Step 350, Loss: 0.0034696399234235287\n",
      "Generating Image Number: 20 for target class tensor([0]). Step 400, Loss: 0.003021558281034231\n",
      "Generating Image Number: 20 for target class tensor([0]). Step 450, Loss: 0.002653175499290228\n"
     ]
    }
   ],
   "source": [
    "class0_optimized_latent_vectors = recover_images(img_count, 0, latent_vectors)"
   ]
  },
  {
   "cell_type": "code",
   "execution_count": 21,
   "id": "6718334c-2bb1-42a3-bd8c-6aea38e6b59c",
   "metadata": {
    "scrolled": true
   },
   "outputs": [
    {
     "name": "stdout",
     "output_type": "stream",
     "text": [
      "Generating Image Number: 1 for target class tensor([1]). Step 0, Loss: 2.538719654083252\n",
      "Generating Image Number: 1 for target class tensor([1]). Step 50, Loss: 0.014724276028573513\n",
      "Generating Image Number: 1 for target class tensor([1]). Step 100, Loss: 0.004830001853406429\n",
      "Generating Image Number: 1 for target class tensor([1]). Step 150, Loss: 0.0024164305068552494\n",
      "Generating Image Number: 1 for target class tensor([1]). Step 200, Loss: 0.0016014858847483993\n",
      "Generating Image Number: 1 for target class tensor([1]). Step 250, Loss: 0.0011088658357039094\n",
      "Generating Image Number: 1 for target class tensor([1]). Step 300, Loss: 0.0008974815136753023\n",
      "Generating Image Number: 1 for target class tensor([1]). Step 350, Loss: 0.0007628867751918733\n",
      "Generating Image Number: 1 for target class tensor([1]). Step 400, Loss: 0.0006612736615352333\n",
      "Generating Image Number: 1 for target class tensor([1]). Step 450, Loss: 0.0005914607318118215\n",
      "Generating Image Number: 2 for target class tensor([1]). Step 0, Loss: 1.543851375579834\n",
      "Generating Image Number: 2 for target class tensor([1]). Step 50, Loss: 0.008906991221010685\n",
      "Generating Image Number: 2 for target class tensor([1]). Step 100, Loss: 0.004977573174983263\n",
      "Generating Image Number: 2 for target class tensor([1]). Step 150, Loss: 0.0033621233887970448\n",
      "Generating Image Number: 2 for target class tensor([1]). Step 200, Loss: 0.0026222625747323036\n",
      "Generating Image Number: 2 for target class tensor([1]). Step 250, Loss: 0.002036403864622116\n",
      "Generating Image Number: 2 for target class tensor([1]). Step 300, Loss: 0.0017118098912760615\n",
      "Generating Image Number: 2 for target class tensor([1]). Step 350, Loss: 0.0014571059728041291\n",
      "Generating Image Number: 2 for target class tensor([1]). Step 400, Loss: 0.0012306743301451206\n",
      "Generating Image Number: 2 for target class tensor([1]). Step 450, Loss: 0.001099935034289956\n",
      "Generating Image Number: 3 for target class tensor([1]). Step 0, Loss: 4.495471477508545\n",
      "Generating Image Number: 3 for target class tensor([1]). Step 50, Loss: 0.033993352204561234\n",
      "Generating Image Number: 3 for target class tensor([1]). Step 100, Loss: 0.013789154589176178\n",
      "Generating Image Number: 3 for target class tensor([1]). Step 150, Loss: 0.009713409468531609\n",
      "Generating Image Number: 3 for target class tensor([1]). Step 200, Loss: 0.007668225094676018\n",
      "Generating Image Number: 3 for target class tensor([1]). Step 250, Loss: 0.00598602369427681\n",
      "Generating Image Number: 3 for target class tensor([1]). Step 300, Loss: 0.005014224909245968\n",
      "Generating Image Number: 3 for target class tensor([1]). Step 350, Loss: 0.004360334947705269\n",
      "Generating Image Number: 3 for target class tensor([1]). Step 400, Loss: 0.0038608787581324577\n",
      "Generating Image Number: 3 for target class tensor([1]). Step 450, Loss: 0.0034690459724515676\n",
      "Generating Image Number: 4 for target class tensor([1]). Step 0, Loss: 0.769398033618927\n",
      "Generating Image Number: 4 for target class tensor([1]). Step 50, Loss: 0.00102324562612921\n",
      "Generating Image Number: 4 for target class tensor([1]). Step 100, Loss: 0.0003861635341309011\n",
      "Generating Image Number: 4 for target class tensor([1]). Step 150, Loss: 0.00027855331427417696\n",
      "Generating Image Number: 4 for target class tensor([1]). Step 200, Loss: 0.00022384998737834394\n",
      "Generating Image Number: 4 for target class tensor([1]). Step 250, Loss: 0.0001911934232339263\n",
      "Generating Image Number: 4 for target class tensor([1]). Step 300, Loss: 0.00016258825780823827\n",
      "Generating Image Number: 4 for target class tensor([1]). Step 350, Loss: 0.00014161060971673578\n",
      "Generating Image Number: 4 for target class tensor([1]). Step 400, Loss: 0.00012575789878610522\n",
      "Generating Image Number: 4 for target class tensor([1]). Step 450, Loss: 0.00011324241495458409\n",
      "Generating Image Number: 5 for target class tensor([1]). Step 0, Loss: 6.066448211669922\n",
      "Generating Image Number: 5 for target class tensor([1]). Step 50, Loss: 0.013505636714398861\n",
      "Generating Image Number: 5 for target class tensor([1]). Step 100, Loss: 0.004740072879940271\n",
      "Generating Image Number: 5 for target class tensor([1]). Step 150, Loss: 0.0035221464931964874\n",
      "Generating Image Number: 5 for target class tensor([1]). Step 200, Loss: 0.002740558236837387\n",
      "Generating Image Number: 5 for target class tensor([1]). Step 250, Loss: 0.002300118561834097\n",
      "Generating Image Number: 5 for target class tensor([1]). Step 300, Loss: 0.0020308124367147684\n",
      "Generating Image Number: 5 for target class tensor([1]). Step 350, Loss: 0.0018298563081771135\n",
      "Generating Image Number: 5 for target class tensor([1]). Step 400, Loss: 0.0016577800270169973\n",
      "Generating Image Number: 5 for target class tensor([1]). Step 450, Loss: 0.0015167410019785166\n",
      "Generating Image Number: 6 for target class tensor([1]). Step 0, Loss: 0.23557785153388977\n",
      "Generating Image Number: 6 for target class tensor([1]). Step 50, Loss: 0.0005279577453620732\n",
      "Generating Image Number: 6 for target class tensor([1]). Step 100, Loss: 0.00017772526189219207\n",
      "Generating Image Number: 6 for target class tensor([1]). Step 150, Loss: 0.00011276562872808427\n",
      "Generating Image Number: 6 for target class tensor([1]). Step 200, Loss: 7.4741430580616e-05\n",
      "Generating Image Number: 6 for target class tensor([1]). Step 250, Loss: 5.817244164063595e-05\n",
      "Generating Image Number: 6 for target class tensor([1]). Step 300, Loss: 4.7444173105759546e-05\n",
      "Generating Image Number: 6 for target class tensor([1]). Step 350, Loss: 3.969590397900902e-05\n",
      "Generating Image Number: 6 for target class tensor([1]). Step 400, Loss: 3.40932747349143e-05\n",
      "Generating Image Number: 6 for target class tensor([1]). Step 450, Loss: 2.90866428258596e-05\n",
      "Generating Image Number: 7 for target class tensor([1]). Step 0, Loss: 6.962273120880127\n",
      "Generating Image Number: 7 for target class tensor([1]). Step 50, Loss: 0.20117266476154327\n",
      "Generating Image Number: 7 for target class tensor([1]). Step 100, Loss: 0.07107860594987869\n",
      "Generating Image Number: 7 for target class tensor([1]). Step 150, Loss: 0.046205390244722366\n",
      "Generating Image Number: 7 for target class tensor([1]). Step 200, Loss: 0.028838051483035088\n",
      "Generating Image Number: 7 for target class tensor([1]). Step 250, Loss: 0.02157258428633213\n",
      "Generating Image Number: 7 for target class tensor([1]). Step 300, Loss: 0.017317749559879303\n",
      "Generating Image Number: 7 for target class tensor([1]). Step 350, Loss: 0.014215397648513317\n",
      "Generating Image Number: 7 for target class tensor([1]). Step 400, Loss: 0.012169046327471733\n",
      "Generating Image Number: 7 for target class tensor([1]). Step 450, Loss: 0.010530265979468822\n",
      "Generating Image Number: 8 for target class tensor([1]). Step 0, Loss: 7.008471965789795\n",
      "Generating Image Number: 8 for target class tensor([1]). Step 50, Loss: 0.07887773960828781\n",
      "Generating Image Number: 8 for target class tensor([1]). Step 100, Loss: 0.03158143535256386\n",
      "Generating Image Number: 8 for target class tensor([1]). Step 150, Loss: 0.019167909398674965\n",
      "Generating Image Number: 8 for target class tensor([1]). Step 200, Loss: 0.01302755530923605\n",
      "Generating Image Number: 8 for target class tensor([1]). Step 250, Loss: 0.009282290004193783\n",
      "Generating Image Number: 8 for target class tensor([1]). Step 300, Loss: 0.007135265972465277\n",
      "Generating Image Number: 8 for target class tensor([1]). Step 350, Loss: 0.005699217785149813\n",
      "Generating Image Number: 8 for target class tensor([1]). Step 400, Loss: 0.004439142532646656\n",
      "Generating Image Number: 8 for target class tensor([1]). Step 450, Loss: 0.003770268289372325\n",
      "Generating Image Number: 9 for target class tensor([1]). Step 0, Loss: 5.998799800872803\n",
      "Generating Image Number: 9 for target class tensor([1]). Step 50, Loss: 0.02362634800374508\n",
      "Generating Image Number: 9 for target class tensor([1]). Step 100, Loss: 0.010547369718551636\n",
      "Generating Image Number: 9 for target class tensor([1]). Step 150, Loss: 0.006053565535694361\n",
      "Generating Image Number: 9 for target class tensor([1]). Step 200, Loss: 0.004196409601718187\n",
      "Generating Image Number: 9 for target class tensor([1]). Step 250, Loss: 0.003097381442785263\n",
      "Generating Image Number: 9 for target class tensor([1]). Step 300, Loss: 0.0025164387188851833\n",
      "Generating Image Number: 9 for target class tensor([1]). Step 350, Loss: 0.0019759670831263065\n",
      "Generating Image Number: 9 for target class tensor([1]). Step 400, Loss: 0.0016799159348011017\n",
      "Generating Image Number: 9 for target class tensor([1]). Step 450, Loss: 0.0014038955559954047\n",
      "Generating Image Number: 10 for target class tensor([1]). Step 0, Loss: 5.152360439300537\n",
      "Generating Image Number: 10 for target class tensor([1]). Step 50, Loss: 0.017155466601252556\n",
      "Generating Image Number: 10 for target class tensor([1]). Step 100, Loss: 0.007856184616684914\n",
      "Generating Image Number: 10 for target class tensor([1]). Step 150, Loss: 0.0051302220672369\n",
      "Generating Image Number: 10 for target class tensor([1]). Step 200, Loss: 0.0040769800543785095\n",
      "Generating Image Number: 10 for target class tensor([1]). Step 250, Loss: 0.0035618215333670378\n",
      "Generating Image Number: 10 for target class tensor([1]). Step 300, Loss: 0.003117465414106846\n",
      "Generating Image Number: 10 for target class tensor([1]). Step 350, Loss: 0.0027774113696068525\n",
      "Generating Image Number: 10 for target class tensor([1]). Step 400, Loss: 0.002481716452166438\n",
      "Generating Image Number: 10 for target class tensor([1]). Step 450, Loss: 0.0022427900694310665\n",
      "Generating Image Number: 11 for target class tensor([1]). Step 0, Loss: 5.77536678314209\n",
      "Generating Image Number: 11 for target class tensor([1]). Step 50, Loss: 0.09136255085468292\n",
      "Generating Image Number: 11 for target class tensor([1]). Step 100, Loss: 0.03823338821530342\n",
      "Generating Image Number: 11 for target class tensor([1]). Step 150, Loss: 0.026749711483716965\n",
      "Generating Image Number: 11 for target class tensor([1]). Step 200, Loss: 0.02134832926094532\n",
      "Generating Image Number: 11 for target class tensor([1]). Step 250, Loss: 0.017687564715743065\n",
      "Generating Image Number: 11 for target class tensor([1]). Step 300, Loss: 0.013124742545187473\n",
      "Generating Image Number: 11 for target class tensor([1]). Step 350, Loss: 0.008512284606695175\n",
      "Generating Image Number: 11 for target class tensor([1]). Step 400, Loss: 0.006202614400535822\n",
      "Generating Image Number: 11 for target class tensor([1]). Step 450, Loss: 0.005275021307170391\n",
      "Generating Image Number: 12 for target class tensor([1]). Step 0, Loss: 3.4071004390716553\n",
      "Generating Image Number: 12 for target class tensor([1]). Step 50, Loss: 0.0006995138246566057\n",
      "Generating Image Number: 12 for target class tensor([1]). Step 100, Loss: 0.0006106419023126364\n",
      "Generating Image Number: 12 for target class tensor([1]). Step 150, Loss: 0.0005640584276989102\n",
      "Generating Image Number: 12 for target class tensor([1]). Step 200, Loss: 0.0005315321614034474\n",
      "Generating Image Number: 12 for target class tensor([1]). Step 250, Loss: 0.000490068516228348\n",
      "Generating Image Number: 12 for target class tensor([1]). Step 300, Loss: 0.0004514628672040999\n",
      "Generating Image Number: 12 for target class tensor([1]). Step 350, Loss: 0.0004065402317792177\n",
      "Generating Image Number: 12 for target class tensor([1]). Step 400, Loss: 0.0003721021639648825\n",
      "Generating Image Number: 12 for target class tensor([1]). Step 450, Loss: 0.000346362212439999\n",
      "Generating Image Number: 13 for target class tensor([1]). Step 0, Loss: 3.402674674987793\n",
      "Generating Image Number: 13 for target class tensor([1]). Step 50, Loss: 2.0503786799963564e-05\n",
      "Generating Image Number: 13 for target class tensor([1]). Step 100, Loss: 2.002696055569686e-05\n",
      "Generating Image Number: 13 for target class tensor([1]). Step 150, Loss: 1.966933996300213e-05\n",
      "Generating Image Number: 13 for target class tensor([1]). Step 200, Loss: 1.9430925021879375e-05\n",
      "Generating Image Number: 13 for target class tensor([1]). Step 250, Loss: 1.8954096958623268e-05\n",
      "Generating Image Number: 13 for target class tensor([1]). Step 300, Loss: 1.8715683836489916e-05\n",
      "Generating Image Number: 13 for target class tensor([1]). Step 350, Loss: 1.8000440832111053e-05\n",
      "Generating Image Number: 13 for target class tensor([1]). Step 400, Loss: 1.764281842042692e-05\n",
      "Generating Image Number: 13 for target class tensor([1]). Step 450, Loss: 1.7165990357170813e-05\n",
      "Generating Image Number: 14 for target class tensor([1]). Step 0, Loss: 2.97672438621521\n",
      "Generating Image Number: 14 for target class tensor([1]). Step 50, Loss: 0.011451585218310356\n",
      "Generating Image Number: 14 for target class tensor([1]). Step 100, Loss: 0.00635626120492816\n",
      "Generating Image Number: 14 for target class tensor([1]). Step 150, Loss: 0.004730343818664551\n",
      "Generating Image Number: 14 for target class tensor([1]). Step 200, Loss: 0.0039001840632408857\n",
      "Generating Image Number: 14 for target class tensor([1]). Step 250, Loss: 0.003285250859335065\n",
      "Generating Image Number: 14 for target class tensor([1]). Step 300, Loss: 0.002843743422999978\n",
      "Generating Image Number: 14 for target class tensor([1]). Step 350, Loss: 0.0024802894331514835\n",
      "Generating Image Number: 14 for target class tensor([1]). Step 400, Loss: 0.0021984234917908907\n",
      "Generating Image Number: 14 for target class tensor([1]). Step 450, Loss: 0.00199607340618968\n",
      "Generating Image Number: 15 for target class tensor([1]). Step 0, Loss: 2.9643115997314453\n",
      "Generating Image Number: 15 for target class tensor([1]). Step 50, Loss: 0.019732482731342316\n",
      "Generating Image Number: 15 for target class tensor([1]). Step 100, Loss: 0.009010132402181625\n",
      "Generating Image Number: 15 for target class tensor([1]). Step 150, Loss: 0.006599654443562031\n",
      "Generating Image Number: 15 for target class tensor([1]). Step 200, Loss: 0.004606231581419706\n",
      "Generating Image Number: 15 for target class tensor([1]). Step 250, Loss: 0.0035444789100438356\n",
      "Generating Image Number: 15 for target class tensor([1]). Step 300, Loss: 0.002958328230306506\n",
      "Generating Image Number: 15 for target class tensor([1]). Step 350, Loss: 0.0025782696902751923\n",
      "Generating Image Number: 15 for target class tensor([1]). Step 400, Loss: 0.002284300047904253\n",
      "Generating Image Number: 15 for target class tensor([1]). Step 450, Loss: 0.0020095170475542545\n",
      "Generating Image Number: 16 for target class tensor([1]). Step 0, Loss: 3.283026695251465\n",
      "Generating Image Number: 16 for target class tensor([1]). Step 50, Loss: 0.009358703158795834\n",
      "Generating Image Number: 16 for target class tensor([1]). Step 100, Loss: 0.004250896163284779\n",
      "Generating Image Number: 16 for target class tensor([1]). Step 150, Loss: 0.0031251898035407066\n",
      "Generating Image Number: 16 for target class tensor([1]). Step 200, Loss: 0.0024617386516183615\n",
      "Generating Image Number: 16 for target class tensor([1]). Step 250, Loss: 0.0020079705864191055\n",
      "Generating Image Number: 16 for target class tensor([1]). Step 300, Loss: 0.0017552459612488747\n",
      "Generating Image Number: 16 for target class tensor([1]). Step 350, Loss: 0.0015651845606043935\n",
      "Generating Image Number: 16 for target class tensor([1]). Step 400, Loss: 0.0014063954586163163\n",
      "Generating Image Number: 16 for target class tensor([1]). Step 450, Loss: 0.0012675831094384193\n",
      "Generating Image Number: 17 for target class tensor([1]). Step 0, Loss: 4.204098701477051\n",
      "Generating Image Number: 17 for target class tensor([1]). Step 50, Loss: 0.005053010769188404\n",
      "Generating Image Number: 17 for target class tensor([1]). Step 100, Loss: 0.002004758222028613\n",
      "Generating Image Number: 17 for target class tensor([1]). Step 150, Loss: 0.0012505576014518738\n",
      "Generating Image Number: 17 for target class tensor([1]). Step 200, Loss: 0.0007645544828847051\n",
      "Generating Image Number: 17 for target class tensor([1]). Step 250, Loss: 0.0005067494930699468\n",
      "Generating Image Number: 17 for target class tensor([1]). Step 300, Loss: 0.0003494605771265924\n",
      "Generating Image Number: 17 for target class tensor([1]). Step 350, Loss: 0.00024625606602057815\n",
      "Generating Image Number: 17 for target class tensor([1]). Step 400, Loss: 0.00017975145601667464\n",
      "Generating Image Number: 17 for target class tensor([1]). Step 450, Loss: 0.00012420836719684303\n",
      "Generating Image Number: 18 for target class tensor([1]). Step 0, Loss: 3.9255220890045166\n",
      "Generating Image Number: 18 for target class tensor([1]). Step 50, Loss: 0.0542166493833065\n",
      "Generating Image Number: 18 for target class tensor([1]). Step 100, Loss: 0.024220408871769905\n",
      "Generating Image Number: 18 for target class tensor([1]). Step 150, Loss: 0.018469614908099174\n",
      "Generating Image Number: 18 for target class tensor([1]). Step 200, Loss: 0.014729561284184456\n",
      "Generating Image Number: 18 for target class tensor([1]). Step 250, Loss: 0.011364606209099293\n",
      "Generating Image Number: 18 for target class tensor([1]). Step 300, Loss: 0.008746054954826832\n",
      "Generating Image Number: 18 for target class tensor([1]). Step 350, Loss: 0.006859563756734133\n",
      "Generating Image Number: 18 for target class tensor([1]). Step 400, Loss: 0.0058422754518687725\n",
      "Generating Image Number: 18 for target class tensor([1]). Step 450, Loss: 0.005239920224994421\n",
      "Generating Image Number: 19 for target class tensor([1]). Step 0, Loss: 2.3513424396514893\n",
      "Generating Image Number: 19 for target class tensor([1]). Step 50, Loss: 0.0019160023657605052\n",
      "Generating Image Number: 19 for target class tensor([1]). Step 100, Loss: 0.0005856229108758271\n",
      "Generating Image Number: 19 for target class tensor([1]). Step 150, Loss: 0.0003859252028632909\n",
      "Generating Image Number: 19 for target class tensor([1]). Step 200, Loss: 0.0002954761730507016\n",
      "Generating Image Number: 19 for target class tensor([1]). Step 250, Loss: 0.0002308817347511649\n",
      "Generating Image Number: 19 for target class tensor([1]). Step 300, Loss: 0.00018070495571009815\n",
      "Generating Image Number: 19 for target class tensor([1]). Step 350, Loss: 0.00015746307326480746\n",
      "Generating Image Number: 19 for target class tensor([1]). Step 400, Loss: 0.00014053787162993103\n",
      "Generating Image Number: 19 for target class tensor([1]). Step 450, Loss: 0.00012563870404846966\n",
      "Generating Image Number: 20 for target class tensor([1]). Step 0, Loss: 4.2003326416015625\n",
      "Generating Image Number: 20 for target class tensor([1]). Step 50, Loss: 0.018473008647561073\n",
      "Generating Image Number: 20 for target class tensor([1]). Step 100, Loss: 0.00392072694376111\n",
      "Generating Image Number: 20 for target class tensor([1]). Step 150, Loss: 0.0020276003051549196\n",
      "Generating Image Number: 20 for target class tensor([1]). Step 200, Loss: 0.0012852036161348224\n",
      "Generating Image Number: 20 for target class tensor([1]). Step 250, Loss: 0.0009087961516343057\n",
      "Generating Image Number: 20 for target class tensor([1]). Step 300, Loss: 0.000705470098182559\n",
      "Generating Image Number: 20 for target class tensor([1]). Step 350, Loss: 0.0005768066039308906\n",
      "Generating Image Number: 20 for target class tensor([1]). Step 400, Loss: 0.0004884004010818899\n",
      "Generating Image Number: 20 for target class tensor([1]). Step 450, Loss: 0.00041631137719377875\n"
     ]
    }
   ],
   "source": [
    "torch.manual_seed(100)\n",
    "latent_vectors = torch.randn(img_count, z_dim, 1, 1, requires_grad=True) # Start with 20 random noises\n",
    "class1_optimized_latent_vectors = recover_images(img_count, 1, latent_vectors)"
   ]
  },
  {
   "cell_type": "code",
   "execution_count": 22,
   "id": "1c8af686-b1ff-419d-946d-2447773e47c9",
   "metadata": {
    "scrolled": true
   },
   "outputs": [
    {
     "name": "stdout",
     "output_type": "stream",
     "text": [
      "Generating Image Number: 1 for target class tensor([2]). Step 0, Loss: 1.9732201099395752\n",
      "Generating Image Number: 1 for target class tensor([2]). Step 50, Loss: 0.0014886498684063554\n",
      "Generating Image Number: 1 for target class tensor([2]). Step 100, Loss: 0.0006376855308189988\n",
      "Generating Image Number: 1 for target class tensor([2]). Step 150, Loss: 0.0004599228559527546\n",
      "Generating Image Number: 1 for target class tensor([2]). Step 200, Loss: 0.0003668589051812887\n",
      "Generating Image Number: 1 for target class tensor([2]). Step 250, Loss: 0.0003044141922146082\n",
      "Generating Image Number: 1 for target class tensor([2]). Step 300, Loss: 0.00025960413040593266\n",
      "Generating Image Number: 1 for target class tensor([2]). Step 350, Loss: 0.00022480344341602176\n",
      "Generating Image Number: 1 for target class tensor([2]). Step 400, Loss: 0.00019739109848160297\n",
      "Generating Image Number: 1 for target class tensor([2]). Step 450, Loss: 0.0001736728590913117\n",
      "Generating Image Number: 2 for target class tensor([2]). Step 0, Loss: 0.6673929691314697\n",
      "Generating Image Number: 2 for target class tensor([2]). Step 50, Loss: 0.0002858230145648122\n",
      "Generating Image Number: 2 for target class tensor([2]). Step 100, Loss: 0.00012420836719684303\n",
      "Generating Image Number: 2 for target class tensor([2]). Step 150, Loss: 8.046303264563903e-05\n",
      "Generating Image Number: 2 for target class tensor([2]). Step 200, Loss: 6.0794889577664435e-05\n",
      "Generating Image Number: 2 for target class tensor([2]). Step 250, Loss: 4.792098479811102e-05\n",
      "Generating Image Number: 2 for target class tensor([2]). Step 300, Loss: 3.85038583772257e-05\n",
      "Generating Image Number: 2 for target class tensor([2]). Step 350, Loss: 3.290122185717337e-05\n",
      "Generating Image Number: 2 for target class tensor([2]). Step 400, Loss: 2.884823152271565e-05\n",
      "Generating Image Number: 2 for target class tensor([2]). Step 450, Loss: 2.5629668016335927e-05\n",
      "Generating Image Number: 3 for target class tensor([2]). Step 0, Loss: 0.0053557720966637135\n",
      "Generating Image Number: 3 for target class tensor([2]). Step 50, Loss: 1.1086402082582936e-05\n",
      "Generating Image Number: 3 for target class tensor([2]). Step 100, Loss: 7.986990567587782e-06\n",
      "Generating Image Number: 3 for target class tensor([2]). Step 150, Loss: 6.437280717364047e-06\n",
      "Generating Image Number: 3 for target class tensor([2]). Step 200, Loss: 5.483612312673358e-06\n",
      "Generating Image Number: 3 for target class tensor([2]). Step 250, Loss: 4.887569048150908e-06\n",
      "Generating Image Number: 3 for target class tensor([2]). Step 300, Loss: 4.172316494077677e-06\n",
      "Generating Image Number: 3 for target class tensor([2]). Step 350, Loss: 3.099436753473128e-06\n",
      "Generating Image Number: 3 for target class tensor([2]). Step 400, Loss: 2.3841830625315197e-06\n",
      "Generating Image Number: 3 for target class tensor([2]). Step 450, Loss: 1.9073468138230965e-06\n",
      "Generating Image Number: 4 for target class tensor([2]). Step 0, Loss: 1.2309863567352295\n",
      "Generating Image Number: 4 for target class tensor([2]). Step 50, Loss: 0.0037344018928706646\n",
      "Generating Image Number: 4 for target class tensor([2]). Step 100, Loss: 0.0018918488640338182\n",
      "Generating Image Number: 4 for target class tensor([2]). Step 150, Loss: 0.0015548295341432095\n",
      "Generating Image Number: 4 for target class tensor([2]). Step 200, Loss: 0.001290918211452663\n",
      "Generating Image Number: 4 for target class tensor([2]). Step 250, Loss: 0.0010785006452351809\n",
      "Generating Image Number: 4 for target class tensor([2]). Step 300, Loss: 0.00091856240760535\n",
      "Generating Image Number: 4 for target class tensor([2]). Step 350, Loss: 0.000797192333266139\n",
      "Generating Image Number: 4 for target class tensor([2]). Step 400, Loss: 0.0007060657371766865\n",
      "Generating Image Number: 4 for target class tensor([2]). Step 450, Loss: 0.0006269635050557554\n",
      "Generating Image Number: 5 for target class tensor([2]). Step 0, Loss: 4.898595809936523\n",
      "Generating Image Number: 5 for target class tensor([2]). Step 50, Loss: 0.10388898849487305\n",
      "Generating Image Number: 5 for target class tensor([2]). Step 100, Loss: 0.02780172973871231\n",
      "Generating Image Number: 5 for target class tensor([2]). Step 150, Loss: 0.01722671091556549\n",
      "Generating Image Number: 5 for target class tensor([2]). Step 200, Loss: 0.012299994938075542\n",
      "Generating Image Number: 5 for target class tensor([2]). Step 250, Loss: 0.009280518628656864\n",
      "Generating Image Number: 5 for target class tensor([2]). Step 300, Loss: 0.00750353978946805\n",
      "Generating Image Number: 5 for target class tensor([2]). Step 350, Loss: 0.006263744086027145\n",
      "Generating Image Number: 5 for target class tensor([2]). Step 400, Loss: 0.005531955510377884\n",
      "Generating Image Number: 5 for target class tensor([2]). Step 450, Loss: 0.0049550351686775684\n",
      "Generating Image Number: 6 for target class tensor([2]). Step 0, Loss: 1.4510536193847656\n",
      "Generating Image Number: 6 for target class tensor([2]). Step 50, Loss: 0.004991688299924135\n",
      "Generating Image Number: 6 for target class tensor([2]). Step 100, Loss: 0.002740082796663046\n",
      "Generating Image Number: 6 for target class tensor([2]). Step 150, Loss: 0.0019779896829277277\n",
      "Generating Image Number: 6 for target class tensor([2]). Step 200, Loss: 0.0015605426160618663\n",
      "Generating Image Number: 6 for target class tensor([2]). Step 250, Loss: 0.001258177449926734\n",
      "Generating Image Number: 6 for target class tensor([2]). Step 300, Loss: 0.0010268182959407568\n",
      "Generating Image Number: 6 for target class tensor([2]). Step 350, Loss: 0.0008719933102838695\n",
      "Generating Image Number: 6 for target class tensor([2]). Step 400, Loss: 0.0007597897201776505\n",
      "Generating Image Number: 6 for target class tensor([2]). Step 450, Loss: 0.0006394725642167032\n",
      "Generating Image Number: 7 for target class tensor([2]). Step 0, Loss: 5.608513355255127\n",
      "Generating Image Number: 7 for target class tensor([2]). Step 50, Loss: 0.004349533934146166\n",
      "Generating Image Number: 7 for target class tensor([2]). Step 100, Loss: 0.0018482997547835112\n",
      "Generating Image Number: 7 for target class tensor([2]). Step 150, Loss: 0.0011549476766958833\n",
      "Generating Image Number: 7 for target class tensor([2]). Step 200, Loss: 0.0007721779984422028\n",
      "Generating Image Number: 7 for target class tensor([2]). Step 250, Loss: 0.0005959880072623491\n",
      "Generating Image Number: 7 for target class tensor([2]). Step 300, Loss: 0.0004981707315891981\n",
      "Generating Image Number: 7 for target class tensor([2]). Step 350, Loss: 0.00044383687782101333\n",
      "Generating Image Number: 7 for target class tensor([2]). Step 400, Loss: 0.00040344204171560705\n",
      "Generating Image Number: 7 for target class tensor([2]). Step 450, Loss: 0.0003678122302517295\n",
      "Generating Image Number: 8 for target class tensor([2]). Step 0, Loss: 6.556182384490967\n",
      "Generating Image Number: 8 for target class tensor([2]). Step 50, Loss: 0.040084339678287506\n",
      "Generating Image Number: 8 for target class tensor([2]). Step 100, Loss: 0.022567011415958405\n",
      "Generating Image Number: 8 for target class tensor([2]). Step 150, Loss: 0.01309756375849247\n",
      "Generating Image Number: 8 for target class tensor([2]). Step 200, Loss: 0.008814710192382336\n",
      "Generating Image Number: 8 for target class tensor([2]). Step 250, Loss: 0.0070656668394804\n",
      "Generating Image Number: 8 for target class tensor([2]). Step 300, Loss: 0.005763341672718525\n",
      "Generating Image Number: 8 for target class tensor([2]). Step 350, Loss: 0.005010666791349649\n",
      "Generating Image Number: 8 for target class tensor([2]). Step 400, Loss: 0.004466201178729534\n",
      "Generating Image Number: 8 for target class tensor([2]). Step 450, Loss: 0.004025452304631472\n",
      "Generating Image Number: 9 for target class tensor([2]). Step 0, Loss: 1.181922435760498\n",
      "Generating Image Number: 9 for target class tensor([2]). Step 50, Loss: 0.019494136795401573\n",
      "Generating Image Number: 9 for target class tensor([2]). Step 100, Loss: 0.008481197990477085\n",
      "Generating Image Number: 9 for target class tensor([2]). Step 150, Loss: 0.005760378669947386\n",
      "Generating Image Number: 9 for target class tensor([2]). Step 200, Loss: 0.004432139918208122\n",
      "Generating Image Number: 9 for target class tensor([2]). Step 250, Loss: 0.00372644467279315\n",
      "Generating Image Number: 9 for target class tensor([2]). Step 300, Loss: 0.003158463630825281\n",
      "Generating Image Number: 9 for target class tensor([2]). Step 350, Loss: 0.0026779049076139927\n",
      "Generating Image Number: 9 for target class tensor([2]). Step 400, Loss: 0.002330684568732977\n",
      "Generating Image Number: 9 for target class tensor([2]). Step 450, Loss: 0.0020705468486994505\n",
      "Generating Image Number: 10 for target class tensor([2]). Step 0, Loss: 1.8110096454620361\n",
      "Generating Image Number: 10 for target class tensor([2]). Step 50, Loss: 0.001902914373204112\n",
      "Generating Image Number: 10 for target class tensor([2]). Step 100, Loss: 0.0009011736838147044\n",
      "Generating Image Number: 10 for target class tensor([2]). Step 150, Loss: 0.0005937243695370853\n",
      "Generating Image Number: 10 for target class tensor([2]). Step 200, Loss: 0.00043930893298238516\n",
      "Generating Image Number: 10 for target class tensor([2]). Step 250, Loss: 0.0003094194398727268\n",
      "Generating Image Number: 10 for target class tensor([2]). Step 300, Loss: 0.0002548369811847806\n",
      "Generating Image Number: 10 for target class tensor([2]). Step 350, Loss: 0.00022897482267580926\n",
      "Generating Image Number: 10 for target class tensor([2]). Step 400, Loss: 0.0002112165529979393\n",
      "Generating Image Number: 10 for target class tensor([2]). Step 450, Loss: 0.00019524575327523053\n",
      "Generating Image Number: 11 for target class tensor([2]). Step 0, Loss: 0.6240994334220886\n",
      "Generating Image Number: 11 for target class tensor([2]). Step 50, Loss: 0.0023242621682584286\n",
      "Generating Image Number: 11 for target class tensor([2]). Step 100, Loss: 0.0013906818348914385\n",
      "Generating Image Number: 11 for target class tensor([2]). Step 150, Loss: 0.0010599239030852914\n",
      "Generating Image Number: 11 for target class tensor([2]). Step 200, Loss: 0.0009065332706086338\n",
      "Generating Image Number: 11 for target class tensor([2]). Step 250, Loss: 0.0007998128421604633\n",
      "Generating Image Number: 11 for target class tensor([2]). Step 300, Loss: 0.0007161913090385497\n",
      "Generating Image Number: 11 for target class tensor([2]). Step 350, Loss: 0.0006418551784008741\n",
      "Generating Image Number: 11 for target class tensor([2]). Step 400, Loss: 0.0005723983631469309\n",
      "Generating Image Number: 11 for target class tensor([2]). Step 450, Loss: 0.0005159238935448229\n",
      "Generating Image Number: 12 for target class tensor([2]). Step 0, Loss: 3.4091408252716064\n",
      "Generating Image Number: 12 for target class tensor([2]). Step 50, Loss: 0.004775665700435638\n",
      "Generating Image Number: 12 for target class tensor([2]). Step 100, Loss: 0.001111485529690981\n",
      "Generating Image Number: 12 for target class tensor([2]). Step 150, Loss: 0.0006967739318497479\n",
      "Generating Image Number: 12 for target class tensor([2]). Step 200, Loss: 0.0005354639724828303\n",
      "Generating Image Number: 12 for target class tensor([2]). Step 250, Loss: 0.00044764988706447184\n",
      "Generating Image Number: 12 for target class tensor([2]). Step 300, Loss: 0.0003953390696551651\n",
      "Generating Image Number: 12 for target class tensor([2]). Step 350, Loss: 0.00035661060246638954\n",
      "Generating Image Number: 12 for target class tensor([2]). Step 400, Loss: 0.00032062159152701497\n",
      "Generating Image Number: 12 for target class tensor([2]). Step 450, Loss: 0.00029130507027730346\n",
      "Generating Image Number: 13 for target class tensor([2]). Step 0, Loss: 0.13496725261211395\n",
      "Generating Image Number: 13 for target class tensor([2]). Step 50, Loss: 8.129743218887597e-05\n",
      "Generating Image Number: 13 for target class tensor([2]). Step 100, Loss: 4.494089080253616e-05\n",
      "Generating Image Number: 13 for target class tensor([2]). Step 150, Loss: 3.3854863431770355e-05\n",
      "Generating Image Number: 13 for target class tensor([2]). Step 200, Loss: 2.884823152271565e-05\n",
      "Generating Image Number: 13 for target class tensor([2]). Step 250, Loss: 2.5510462364763953e-05\n",
      "Generating Image Number: 13 for target class tensor([2]). Step 300, Loss: 2.288792165927589e-05\n",
      "Generating Image Number: 13 for target class tensor([2]). Step 350, Loss: 2.0265373677830212e-05\n",
      "Generating Image Number: 13 for target class tensor([2]). Step 400, Loss: 1.8000440832111053e-05\n",
      "Generating Image Number: 13 for target class tensor([2]). Step 450, Loss: 1.6093124941107817e-05\n",
      "Generating Image Number: 14 for target class tensor([2]). Step 0, Loss: 3.308507204055786\n",
      "Generating Image Number: 14 for target class tensor([2]). Step 50, Loss: 0.02957763895392418\n",
      "Generating Image Number: 14 for target class tensor([2]). Step 100, Loss: 0.01471264660358429\n",
      "Generating Image Number: 14 for target class tensor([2]). Step 150, Loss: 0.009808676317334175\n",
      "Generating Image Number: 14 for target class tensor([2]). Step 200, Loss: 0.006865720264613628\n",
      "Generating Image Number: 14 for target class tensor([2]). Step 250, Loss: 0.005302175879478455\n",
      "Generating Image Number: 14 for target class tensor([2]). Step 300, Loss: 0.004093957599252462\n",
      "Generating Image Number: 14 for target class tensor([2]). Step 350, Loss: 0.002751970896497369\n",
      "Generating Image Number: 14 for target class tensor([2]). Step 400, Loss: 0.0022977397311478853\n",
      "Generating Image Number: 14 for target class tensor([2]). Step 450, Loss: 0.00201177760027349\n",
      "Generating Image Number: 15 for target class tensor([2]). Step 0, Loss: 1.4297024011611938\n",
      "Generating Image Number: 15 for target class tensor([2]). Step 50, Loss: 0.006413235794752836\n",
      "Generating Image Number: 15 for target class tensor([2]). Step 100, Loss: 0.002077327808365226\n",
      "Generating Image Number: 15 for target class tensor([2]). Step 150, Loss: 0.0013091336004436016\n",
      "Generating Image Number: 15 for target class tensor([2]). Step 200, Loss: 0.0010069306008517742\n",
      "Generating Image Number: 15 for target class tensor([2]). Step 250, Loss: 0.000773369160015136\n",
      "Generating Image Number: 15 for target class tensor([2]). Step 300, Loss: 0.0006449526408687234\n",
      "Generating Image Number: 15 for target class tensor([2]). Step 350, Loss: 0.0004962643142789602\n",
      "Generating Image Number: 15 for target class tensor([2]). Step 400, Loss: 0.0004094000905752182\n",
      "Generating Image Number: 15 for target class tensor([2]). Step 450, Loss: 0.00034814971149899065\n",
      "Generating Image Number: 16 for target class tensor([2]). Step 0, Loss: 4.291501522064209\n",
      "Generating Image Number: 16 for target class tensor([2]). Step 50, Loss: 0.03919912502169609\n",
      "Generating Image Number: 16 for target class tensor([2]). Step 100, Loss: 0.023873373866081238\n",
      "Generating Image Number: 16 for target class tensor([2]). Step 150, Loss: 0.017502497881650925\n",
      "Generating Image Number: 16 for target class tensor([2]). Step 200, Loss: 0.013227097690105438\n",
      "Generating Image Number: 16 for target class tensor([2]). Step 250, Loss: 0.009811981581151485\n",
      "Generating Image Number: 16 for target class tensor([2]). Step 300, Loss: 0.008080529049038887\n",
      "Generating Image Number: 16 for target class tensor([2]). Step 350, Loss: 0.006812915205955505\n",
      "Generating Image Number: 16 for target class tensor([2]). Step 400, Loss: 0.005856497213244438\n",
      "Generating Image Number: 16 for target class tensor([2]). Step 450, Loss: 0.005080053117126226\n",
      "Generating Image Number: 17 for target class tensor([2]). Step 0, Loss: 1.80506432056427\n",
      "Generating Image Number: 17 for target class tensor([2]). Step 50, Loss: 0.006293123122304678\n",
      "Generating Image Number: 17 for target class tensor([2]). Step 100, Loss: 0.003254357725381851\n",
      "Generating Image Number: 17 for target class tensor([2]). Step 150, Loss: 0.0023365120869129896\n",
      "Generating Image Number: 17 for target class tensor([2]). Step 200, Loss: 0.0017204972682520747\n",
      "Generating Image Number: 17 for target class tensor([2]). Step 250, Loss: 0.001369491801597178\n",
      "Generating Image Number: 17 for target class tensor([2]). Step 300, Loss: 0.001095052808523178\n",
      "Generating Image Number: 17 for target class tensor([2]). Step 350, Loss: 0.0009148702956736088\n",
      "Generating Image Number: 17 for target class tensor([2]). Step 400, Loss: 0.0007936188485473394\n",
      "Generating Image Number: 17 for target class tensor([2]). Step 450, Loss: 0.000708090839907527\n",
      "Generating Image Number: 18 for target class tensor([2]). Step 0, Loss: 4.443395137786865\n",
      "Generating Image Number: 18 for target class tensor([2]). Step 50, Loss: 0.013365200720727444\n",
      "Generating Image Number: 18 for target class tensor([2]). Step 100, Loss: 0.008027315139770508\n",
      "Generating Image Number: 18 for target class tensor([2]). Step 150, Loss: 0.006116244476288557\n",
      "Generating Image Number: 18 for target class tensor([2]). Step 200, Loss: 0.004871997982263565\n",
      "Generating Image Number: 18 for target class tensor([2]). Step 250, Loss: 0.003832021960988641\n",
      "Generating Image Number: 18 for target class tensor([2]). Step 300, Loss: 0.0032164526637643576\n",
      "Generating Image Number: 18 for target class tensor([2]). Step 350, Loss: 0.002839939668774605\n",
      "Generating Image Number: 18 for target class tensor([2]). Step 400, Loss: 0.002540814923122525\n",
      "Generating Image Number: 18 for target class tensor([2]). Step 450, Loss: 0.002299642888829112\n",
      "Generating Image Number: 19 for target class tensor([2]). Step 0, Loss: 2.557704210281372\n",
      "Generating Image Number: 19 for target class tensor([2]). Step 50, Loss: 0.016593657433986664\n",
      "Generating Image Number: 19 for target class tensor([2]). Step 100, Loss: 0.008412756025791168\n",
      "Generating Image Number: 19 for target class tensor([2]). Step 150, Loss: 0.0063942838460206985\n",
      "Generating Image Number: 19 for target class tensor([2]). Step 200, Loss: 0.004947918001562357\n",
      "Generating Image Number: 19 for target class tensor([2]). Step 250, Loss: 0.004172667395323515\n",
      "Generating Image Number: 19 for target class tensor([2]). Step 300, Loss: 0.003589498344808817\n",
      "Generating Image Number: 19 for target class tensor([2]). Step 350, Loss: 0.003069334663450718\n",
      "Generating Image Number: 19 for target class tensor([2]). Step 400, Loss: 0.002524524461477995\n",
      "Generating Image Number: 19 for target class tensor([2]). Step 450, Loss: 0.0020638848654925823\n",
      "Generating Image Number: 20 for target class tensor([2]). Step 0, Loss: 1.6224422454833984\n",
      "Generating Image Number: 20 for target class tensor([2]). Step 50, Loss: 0.0066576809622347355\n",
      "Generating Image Number: 20 for target class tensor([2]). Step 100, Loss: 0.004687273874878883\n",
      "Generating Image Number: 20 for target class tensor([2]). Step 150, Loss: 0.003858622396364808\n",
      "Generating Image Number: 20 for target class tensor([2]). Step 200, Loss: 0.003357489826157689\n",
      "Generating Image Number: 20 for target class tensor([2]). Step 250, Loss: 0.0027531597297638655\n",
      "Generating Image Number: 20 for target class tensor([2]). Step 300, Loss: 0.0019631178583949804\n",
      "Generating Image Number: 20 for target class tensor([2]). Step 350, Loss: 0.0016155298799276352\n",
      "Generating Image Number: 20 for target class tensor([2]). Step 400, Loss: 0.001392586505971849\n",
      "Generating Image Number: 20 for target class tensor([2]). Step 450, Loss: 0.0012396040838211775\n"
     ]
    }
   ],
   "source": [
    "torch.manual_seed(200)\n",
    "latent_vectors = torch.randn(img_count, z_dim, 1, 1, requires_grad=True) # Start with 20 random noises\n",
    "class2_optimized_latent_vectors = recover_images(img_count, 2, latent_vectors)"
   ]
  },
  {
   "cell_type": "code",
   "execution_count": 23,
   "id": "0381b36d-6c92-43bc-b776-1eefd3eab451",
   "metadata": {
    "scrolled": true
   },
   "outputs": [
    {
     "name": "stdout",
     "output_type": "stream",
     "text": [
      "Generating Image Number: 1 for target class tensor([3]). Step 0, Loss: 0.5727655291557312\n",
      "Generating Image Number: 1 for target class tensor([3]). Step 50, Loss: 0.0013577061472460628\n",
      "Generating Image Number: 1 for target class tensor([3]). Step 100, Loss: 0.0007191693875938654\n",
      "Generating Image Number: 1 for target class tensor([3]). Step 150, Loss: 0.0005389191792346537\n",
      "Generating Image Number: 1 for target class tensor([3]). Step 200, Loss: 0.00042548662167973816\n",
      "Generating Image Number: 1 for target class tensor([3]). Step 250, Loss: 0.0003586364327929914\n",
      "Generating Image Number: 1 for target class tensor([3]). Step 300, Loss: 0.00030882356804795563\n",
      "Generating Image Number: 1 for target class tensor([3]). Step 350, Loss: 0.00027307120035402477\n",
      "Generating Image Number: 1 for target class tensor([3]). Step 400, Loss: 0.0002431573811918497\n",
      "Generating Image Number: 1 for target class tensor([3]). Step 450, Loss: 0.0002215855201939121\n",
      "Generating Image Number: 2 for target class tensor([3]). Step 0, Loss: 6.655471324920654\n",
      "Generating Image Number: 2 for target class tensor([3]). Step 50, Loss: 0.11611005663871765\n",
      "Generating Image Number: 2 for target class tensor([3]). Step 100, Loss: 0.0387367308139801\n",
      "Generating Image Number: 2 for target class tensor([3]). Step 150, Loss: 0.024577327072620392\n",
      "Generating Image Number: 2 for target class tensor([3]). Step 200, Loss: 0.018062744289636612\n",
      "Generating Image Number: 2 for target class tensor([3]). Step 250, Loss: 0.014768559485673904\n",
      "Generating Image Number: 2 for target class tensor([3]). Step 300, Loss: 0.012448586523532867\n",
      "Generating Image Number: 2 for target class tensor([3]). Step 350, Loss: 0.01053769700229168\n",
      "Generating Image Number: 2 for target class tensor([3]). Step 400, Loss: 0.008611921221017838\n",
      "Generating Image Number: 2 for target class tensor([3]). Step 450, Loss: 0.007473841775208712\n",
      "Generating Image Number: 3 for target class tensor([3]). Step 0, Loss: 1.9743447303771973\n",
      "Generating Image Number: 3 for target class tensor([3]). Step 50, Loss: 0.004016072954982519\n",
      "Generating Image Number: 3 for target class tensor([3]). Step 100, Loss: 0.002668274799361825\n",
      "Generating Image Number: 3 for target class tensor([3]). Step 150, Loss: 0.0021105175837874413\n",
      "Generating Image Number: 3 for target class tensor([3]). Step 200, Loss: 0.0017579830018803477\n",
      "Generating Image Number: 3 for target class tensor([3]). Step 250, Loss: 0.0015188835095614195\n",
      "Generating Image Number: 3 for target class tensor([3]). Step 300, Loss: 0.0013779440196231008\n",
      "Generating Image Number: 3 for target class tensor([3]). Step 350, Loss: 0.0012480573495849967\n",
      "Generating Image Number: 3 for target class tensor([3]). Step 400, Loss: 0.0011294659925624728\n",
      "Generating Image Number: 3 for target class tensor([3]). Step 450, Loss: 0.0010639727115631104\n",
      "Generating Image Number: 4 for target class tensor([3]). Step 0, Loss: 0.052248694002628326\n",
      "Generating Image Number: 4 for target class tensor([3]). Step 50, Loss: 1.5616295058862306e-05\n",
      "Generating Image Number: 4 for target class tensor([3]). Step 100, Loss: 1.0251946150674485e-05\n",
      "Generating Image Number: 4 for target class tensor([3]). Step 150, Loss: 8.106198947643861e-06\n",
      "Generating Image Number: 4 for target class tensor([3]). Step 200, Loss: 6.318072337307967e-06\n",
      "Generating Image Number: 4 for target class tensor([3]). Step 250, Loss: 5.245195097813848e-06\n",
      "Generating Image Number: 4 for target class tensor([3]). Step 300, Loss: 4.410734163684538e-06\n",
      "Generating Image Number: 4 for target class tensor([3]). Step 350, Loss: 3.6954811548639555e-06\n",
      "Generating Image Number: 4 for target class tensor([3]). Step 400, Loss: 3.2186455882765586e-06\n",
      "Generating Image Number: 4 for target class tensor([3]). Step 450, Loss: 2.861018856492592e-06\n",
      "Generating Image Number: 5 for target class tensor([3]). Step 0, Loss: 0.5026277899742126\n",
      "Generating Image Number: 5 for target class tensor([3]). Step 50, Loss: 0.0006244616815820336\n",
      "Generating Image Number: 5 for target class tensor([3]). Step 100, Loss: 0.00028761065914295614\n",
      "Generating Image Number: 5 for target class tensor([3]). Step 150, Loss: 0.0002232540718978271\n",
      "Generating Image Number: 5 for target class tensor([3]). Step 200, Loss: 0.00018356545479036868\n",
      "Generating Image Number: 5 for target class tensor([3]). Step 250, Loss: 0.0001512651506345719\n",
      "Generating Image Number: 5 for target class tensor([3]). Step 300, Loss: 0.00012063252506777644\n",
      "Generating Image Number: 5 for target class tensor([3]). Step 350, Loss: 0.00010406429646536708\n",
      "Generating Image Number: 5 for target class tensor([3]). Step 400, Loss: 9.536288416711614e-05\n",
      "Generating Image Number: 5 for target class tensor([3]). Step 450, Loss: 8.964136941358447e-05\n",
      "Generating Image Number: 6 for target class tensor([3]). Step 0, Loss: 0.5984501242637634\n",
      "Generating Image Number: 6 for target class tensor([3]). Step 50, Loss: 0.0062765381298959255\n",
      "Generating Image Number: 6 for target class tensor([3]). Step 100, Loss: 0.0025909922551363707\n",
      "Generating Image Number: 6 for target class tensor([3]). Step 150, Loss: 0.0017246623756363988\n",
      "Generating Image Number: 6 for target class tensor([3]). Step 200, Loss: 0.001313776709139347\n",
      "Generating Image Number: 6 for target class tensor([3]). Step 250, Loss: 0.0010443239007145166\n",
      "Generating Image Number: 6 for target class tensor([3]). Step 300, Loss: 0.0007949291029945016\n",
      "Generating Image Number: 6 for target class tensor([3]). Step 350, Loss: 0.0006326819420792162\n",
      "Generating Image Number: 6 for target class tensor([3]). Step 400, Loss: 0.0004945961991325021\n",
      "Generating Image Number: 6 for target class tensor([3]). Step 450, Loss: 0.000403084559366107\n",
      "Generating Image Number: 7 for target class tensor([3]). Step 0, Loss: 8.992863655090332\n",
      "Generating Image Number: 7 for target class tensor([3]). Step 50, Loss: 0.08304867893457413\n",
      "Generating Image Number: 7 for target class tensor([3]). Step 100, Loss: 0.028660714626312256\n",
      "Generating Image Number: 7 for target class tensor([3]). Step 150, Loss: 0.016256162896752357\n",
      "Generating Image Number: 7 for target class tensor([3]). Step 200, Loss: 0.011212906800210476\n",
      "Generating Image Number: 7 for target class tensor([3]). Step 250, Loss: 0.008766143582761288\n",
      "Generating Image Number: 7 for target class tensor([3]). Step 300, Loss: 0.007200363092124462\n",
      "Generating Image Number: 7 for target class tensor([3]). Step 350, Loss: 0.006062570493668318\n",
      "Generating Image Number: 7 for target class tensor([3]). Step 400, Loss: 0.004776140209287405\n",
      "Generating Image Number: 7 for target class tensor([3]). Step 450, Loss: 0.0034430292434990406\n",
      "Generating Image Number: 8 for target class tensor([3]). Step 0, Loss: 1.962790608406067\n",
      "Generating Image Number: 8 for target class tensor([3]). Step 50, Loss: 0.00041261743172071874\n",
      "Generating Image Number: 8 for target class tensor([3]). Step 100, Loss: 0.0002470903273206204\n",
      "Generating Image Number: 8 for target class tensor([3]). Step 150, Loss: 0.00015770144818816334\n",
      "Generating Image Number: 8 for target class tensor([3]). Step 200, Loss: 0.00010144196130568162\n",
      "Generating Image Number: 8 for target class tensor([3]). Step 250, Loss: 7.021180499577895e-05\n",
      "Generating Image Number: 8 for target class tensor([3]). Step 300, Loss: 5.1973900554003194e-05\n",
      "Generating Image Number: 8 for target class tensor([3]). Step 350, Loss: 4.458328112377785e-05\n",
      "Generating Image Number: 8 for target class tensor([3]). Step 400, Loss: 3.9457496313843876e-05\n",
      "Generating Image Number: 8 for target class tensor([3]). Step 450, Loss: 3.3378044463461265e-05\n",
      "Generating Image Number: 9 for target class tensor([3]). Step 0, Loss: 4.518028736114502\n",
      "Generating Image Number: 9 for target class tensor([3]). Step 50, Loss: 0.0173464547842741\n",
      "Generating Image Number: 9 for target class tensor([3]). Step 100, Loss: 0.009994816966354847\n",
      "Generating Image Number: 9 for target class tensor([3]). Step 150, Loss: 0.008463822305202484\n",
      "Generating Image Number: 9 for target class tensor([3]). Step 200, Loss: 0.00755725521594286\n",
      "Generating Image Number: 9 for target class tensor([3]). Step 250, Loss: 0.006815875414758921\n",
      "Generating Image Number: 9 for target class tensor([3]). Step 300, Loss: 0.006156764458864927\n",
      "Generating Image Number: 9 for target class tensor([3]). Step 350, Loss: 0.005359329283237457\n",
      "Generating Image Number: 9 for target class tensor([3]). Step 400, Loss: 0.004665323067456484\n",
      "Generating Image Number: 9 for target class tensor([3]). Step 450, Loss: 0.004117345437407494\n",
      "Generating Image Number: 10 for target class tensor([3]). Step 0, Loss: 1.4730162620544434\n",
      "Generating Image Number: 10 for target class tensor([3]). Step 50, Loss: 0.0031140190549194813\n",
      "Generating Image Number: 10 for target class tensor([3]). Step 100, Loss: 0.0017212113598361611\n",
      "Generating Image Number: 10 for target class tensor([3]). Step 150, Loss: 0.0012250783620402217\n",
      "Generating Image Number: 10 for target class tensor([3]). Step 200, Loss: 0.0009234455064870417\n",
      "Generating Image Number: 10 for target class tensor([3]). Step 250, Loss: 0.0007720588473603129\n",
      "Generating Image Number: 10 for target class tensor([3]). Step 300, Loss: 0.0006287504802457988\n",
      "Generating Image Number: 10 for target class tensor([3]). Step 350, Loss: 0.0005340342177078128\n",
      "Generating Image Number: 10 for target class tensor([3]). Step 400, Loss: 0.0004605186404660344\n",
      "Generating Image Number: 10 for target class tensor([3]). Step 450, Loss: 0.00039569655200466514\n",
      "Generating Image Number: 11 for target class tensor([3]). Step 0, Loss: 0.6122157573699951\n",
      "Generating Image Number: 11 for target class tensor([3]). Step 50, Loss: 0.002584809437394142\n",
      "Generating Image Number: 11 for target class tensor([3]). Step 100, Loss: 0.0013773487880825996\n",
      "Generating Image Number: 11 for target class tensor([3]). Step 150, Loss: 0.0010012142593041062\n",
      "Generating Image Number: 11 for target class tensor([3]). Step 200, Loss: 0.0007634824141860008\n",
      "Generating Image Number: 11 for target class tensor([3]). Step 250, Loss: 0.0006292270263656974\n",
      "Generating Image Number: 11 for target class tensor([3]). Step 300, Loss: 0.000527123745996505\n",
      "Generating Image Number: 11 for target class tensor([3]). Step 350, Loss: 0.00044145373976789415\n",
      "Generating Image Number: 11 for target class tensor([3]). Step 400, Loss: 0.0003829461056739092\n",
      "Generating Image Number: 11 for target class tensor([3]). Step 450, Loss: 0.0003352795320097357\n",
      "Generating Image Number: 12 for target class tensor([3]). Step 0, Loss: 7.634820461273193\n",
      "Generating Image Number: 12 for target class tensor([3]). Step 50, Loss: 0.00048232366680167615\n",
      "Generating Image Number: 12 for target class tensor([3]). Step 100, Loss: 0.00032908268622122705\n",
      "Generating Image Number: 12 for target class tensor([3]). Step 150, Loss: 0.00025769727653823793\n",
      "Generating Image Number: 12 for target class tensor([3]). Step 200, Loss: 0.00020716428116429597\n",
      "Generating Image Number: 12 for target class tensor([3]). Step 250, Loss: 0.0001793938863556832\n",
      "Generating Image Number: 12 for target class tensor([3]). Step 300, Loss: 0.00015615197480656207\n",
      "Generating Image Number: 12 for target class tensor([3]). Step 350, Loss: 0.00013755806139670312\n",
      "Generating Image Number: 12 for target class tensor([3]). Step 400, Loss: 0.0001225396408699453\n",
      "Generating Image Number: 12 for target class tensor([3]). Step 450, Loss: 0.00011085849109804258\n",
      "Generating Image Number: 13 for target class tensor([3]). Step 0, Loss: 3.0278701160568744e-05\n",
      "Generating Image Number: 13 for target class tensor([3]). Step 50, Loss: 0.0\n",
      "Generating Image Number: 13 for target class tensor([3]). Step 100, Loss: 0.0\n",
      "Generating Image Number: 13 for target class tensor([3]). Step 150, Loss: 0.0\n",
      "Generating Image Number: 13 for target class tensor([3]). Step 200, Loss: 0.0\n",
      "Generating Image Number: 13 for target class tensor([3]). Step 250, Loss: 0.0\n",
      "Generating Image Number: 13 for target class tensor([3]). Step 300, Loss: 0.0\n",
      "Generating Image Number: 13 for target class tensor([3]). Step 350, Loss: 0.0\n",
      "Generating Image Number: 13 for target class tensor([3]). Step 400, Loss: 0.0\n",
      "Generating Image Number: 13 for target class tensor([3]). Step 450, Loss: 0.0\n",
      "Generating Image Number: 14 for target class tensor([3]). Step 0, Loss: 1.0059670209884644\n",
      "Generating Image Number: 14 for target class tensor([3]). Step 50, Loss: 0.0010038343025371432\n",
      "Generating Image Number: 14 for target class tensor([3]). Step 100, Loss: 0.0004766043566633016\n",
      "Generating Image Number: 14 for target class tensor([3]). Step 150, Loss: 0.00038366109947673976\n",
      "Generating Image Number: 14 for target class tensor([3]). Step 200, Loss: 0.0003143055073451251\n",
      "Generating Image Number: 14 for target class tensor([3]). Step 250, Loss: 0.0002631794777698815\n",
      "Generating Image Number: 14 for target class tensor([3]). Step 300, Loss: 0.00022480344341602176\n",
      "Generating Image Number: 14 for target class tensor([3]). Step 350, Loss: 0.00019274283840786666\n",
      "Generating Image Number: 14 for target class tensor([3]). Step 400, Loss: 0.00017045476124621928\n",
      "Generating Image Number: 14 for target class tensor([3]). Step 450, Loss: 0.00015138434537220746\n",
      "Generating Image Number: 15 for target class tensor([3]). Step 0, Loss: 1.0147206783294678\n",
      "Generating Image Number: 15 for target class tensor([3]). Step 50, Loss: 0.0024969372898340225\n",
      "Generating Image Number: 15 for target class tensor([3]). Step 100, Loss: 0.001408895361237228\n",
      "Generating Image Number: 15 for target class tensor([3]). Step 150, Loss: 0.001029319129884243\n",
      "Generating Image Number: 15 for target class tensor([3]). Step 200, Loss: 0.0008174415561370552\n",
      "Generating Image Number: 15 for target class tensor([3]). Step 250, Loss: 0.0006646093097515404\n",
      "Generating Image Number: 15 for target class tensor([3]). Step 300, Loss: 0.0005316513124853373\n",
      "Generating Image Number: 15 for target class tensor([3]). Step 350, Loss: 0.00043108707177452743\n",
      "Generating Image Number: 15 for target class tensor([3]). Step 400, Loss: 0.000362807244528085\n",
      "Generating Image Number: 15 for target class tensor([3]). Step 450, Loss: 0.00032395837479270995\n",
      "Generating Image Number: 16 for target class tensor([3]). Step 0, Loss: 7.34152364730835\n",
      "Generating Image Number: 16 for target class tensor([3]). Step 50, Loss: 0.14341692626476288\n",
      "Generating Image Number: 16 for target class tensor([3]). Step 100, Loss: 0.047994621098041534\n",
      "Generating Image Number: 16 for target class tensor([3]). Step 150, Loss: 0.03534679114818573\n",
      "Generating Image Number: 16 for target class tensor([3]). Step 200, Loss: 0.028191447257995605\n",
      "Generating Image Number: 16 for target class tensor([3]). Step 250, Loss: 0.023771636188030243\n",
      "Generating Image Number: 16 for target class tensor([3]). Step 300, Loss: 0.020201995968818665\n",
      "Generating Image Number: 16 for target class tensor([3]). Step 350, Loss: 0.017780551686882973\n",
      "Generating Image Number: 16 for target class tensor([3]). Step 400, Loss: 0.015916557982563972\n",
      "Generating Image Number: 16 for target class tensor([3]). Step 450, Loss: 0.0143431406468153\n",
      "Generating Image Number: 17 for target class tensor([3]). Step 0, Loss: 7.748303323751315e-05\n",
      "Generating Image Number: 17 for target class tensor([3]). Step 50, Loss: 2.3841855067985307e-07\n",
      "Generating Image Number: 17 for target class tensor([3]). Step 100, Loss: 1.1920928244535389e-07\n",
      "Generating Image Number: 17 for target class tensor([3]). Step 150, Loss: 1.1920928244535389e-07\n",
      "Generating Image Number: 17 for target class tensor([3]). Step 200, Loss: 0.0\n",
      "Generating Image Number: 17 for target class tensor([3]). Step 250, Loss: 0.0\n",
      "Generating Image Number: 17 for target class tensor([3]). Step 300, Loss: 0.0\n",
      "Generating Image Number: 17 for target class tensor([3]). Step 350, Loss: 0.0\n",
      "Generating Image Number: 17 for target class tensor([3]). Step 400, Loss: 0.0\n",
      "Generating Image Number: 17 for target class tensor([3]). Step 450, Loss: 0.0\n",
      "Generating Image Number: 18 for target class tensor([3]). Step 0, Loss: 1.0886316299438477\n",
      "Generating Image Number: 18 for target class tensor([3]). Step 50, Loss: 0.0010526598198339343\n",
      "Generating Image Number: 18 for target class tensor([3]). Step 100, Loss: 0.00045908879837952554\n",
      "Generating Image Number: 18 for target class tensor([3]). Step 150, Loss: 0.0003588747640606016\n",
      "Generating Image Number: 18 for target class tensor([3]). Step 200, Loss: 0.0003082277253270149\n",
      "Generating Image Number: 18 for target class tensor([3]). Step 250, Loss: 0.0002728328399825841\n",
      "Generating Image Number: 18 for target class tensor([3]). Step 300, Loss: 0.0002431573811918497\n",
      "Generating Image Number: 18 for target class tensor([3]). Step 350, Loss: 0.00021610308613162488\n",
      "Generating Image Number: 18 for target class tensor([3]). Step 400, Loss: 0.00019560330838430673\n",
      "Generating Image Number: 18 for target class tensor([3]). Step 450, Loss: 0.0001802282058633864\n",
      "Generating Image Number: 19 for target class tensor([3]). Step 0, Loss: 3.5264456272125244\n",
      "Generating Image Number: 19 for target class tensor([3]). Step 50, Loss: 0.003672404680401087\n",
      "Generating Image Number: 19 for target class tensor([3]). Step 100, Loss: 0.0011948358733206987\n",
      "Generating Image Number: 19 for target class tensor([3]). Step 150, Loss: 0.0007457336178049445\n",
      "Generating Image Number: 19 for target class tensor([3]). Step 200, Loss: 0.0005806190893054008\n",
      "Generating Image Number: 19 for target class tensor([3]). Step 250, Loss: 0.0004801789182238281\n",
      "Generating Image Number: 19 for target class tensor([3]). Step 300, Loss: 0.0004104725376237184\n",
      "Generating Image Number: 19 for target class tensor([3]). Step 350, Loss: 0.0003491030656732619\n",
      "Generating Image Number: 19 for target class tensor([3]). Step 400, Loss: 0.00029595286468975246\n",
      "Generating Image Number: 19 for target class tensor([3]). Step 450, Loss: 0.00025197668583132327\n",
      "Generating Image Number: 20 for target class tensor([3]). Step 0, Loss: 0.16606998443603516\n",
      "Generating Image Number: 20 for target class tensor([3]). Step 50, Loss: 8.237022848334163e-05\n",
      "Generating Image Number: 20 for target class tensor([3]). Step 100, Loss: 3.0517112463712692e-05\n",
      "Generating Image Number: 20 for target class tensor([3]). Step 150, Loss: 2.288792165927589e-05\n",
      "Generating Image Number: 20 for target class tensor([3]). Step 200, Loss: 1.7762025890988298e-05\n",
      "Generating Image Number: 20 for target class tensor([3]). Step 250, Loss: 1.490105023549404e-05\n",
      "Generating Image Number: 20 for target class tensor([3]). Step 300, Loss: 1.2874520507466514e-05\n",
      "Generating Image Number: 20 for target class tensor([3]). Step 350, Loss: 1.0847986231965479e-05\n",
      "Generating Image Number: 20 for target class tensor([3]). Step 400, Loss: 9.179073458653875e-06\n",
      "Generating Image Number: 20 for target class tensor([3]). Step 450, Loss: 8.106198947643861e-06\n"
     ]
    }
   ],
   "source": [
    "torch.manual_seed(300)\n",
    "latent_vectors = torch.randn(img_count, z_dim, 1, 1, requires_grad=True) # Start with 20 random noises\n",
    "class3_optimized_latent_vectors = recover_images(img_count, 3, latent_vectors)"
   ]
  },
  {
   "cell_type": "code",
   "execution_count": 24,
   "id": "ae6425a5-dd86-4e87-8112-883336345ac9",
   "metadata": {},
   "outputs": [],
   "source": [
    "z0_1 = class0_optimized_latent_vectors[0]\n",
    "z0_2 = class0_optimized_latent_vectors[1]\n",
    "z0_3 = class0_optimized_latent_vectors[2]"
   ]
  },
  {
   "cell_type": "code",
   "execution_count": 25,
   "id": "3a6ed4fb-b693-4963-afcf-17a512e50b5f",
   "metadata": {},
   "outputs": [
    {
     "name": "stdout",
     "output_type": "stream",
     "text": [
      "torch.Size([64, 64])\n"
     ]
    }
   ],
   "source": [
    "# Display the generated image\n",
    "img = gen(z0_1.to(device)).squeeze(dim=0).squeeze(dim=0)\n",
    "print(img.shape)"
   ]
  },
  {
   "cell_type": "code",
   "execution_count": 26,
   "id": "88fc9416-c6ca-486b-bd72-63885de78d1c",
   "metadata": {},
   "outputs": [
    {
     "data": {
      "text/plain": [
       "<matplotlib.image.AxesImage at 0x2b0a8714df0>"
      ]
     },
     "execution_count": 26,
     "metadata": {},
     "output_type": "execute_result"
    },
    {
     "data": {
      "image/png": "[encoded data removed]",
      "text/plain": [
       "<Figure size 640x480 with 1 Axes>"
      ]
     },
     "metadata": {},
     "output_type": "display_data"
    }
   ],
   "source": [
    "plt.axis(False)\n",
    "plt.title('Recovered Image:')\n",
    "plt.imshow(img.cpu().detach(), cmap='gray')"
   ]
  },
  {
   "cell_type": "code",
   "execution_count": 27,
   "id": "bb0fc370-78c5-495f-b1e7-1239873b4ff8",
   "metadata": {},
   "outputs": [],
   "source": [
    "z1 = class1_optimized_latent_vectors[0]\n",
    "z2 = class1_optimized_latent_vectors[1]\n",
    "z3 = class1_optimized_latent_vectors[2]"
   ]
  },
  {
   "cell_type": "code",
   "execution_count": 28,
   "id": "07f38b7d-14f6-4d63-9efa-cb96ec2e1d35",
   "metadata": {},
   "outputs": [
    {
     "name": "stdout",
     "output_type": "stream",
     "text": [
      "torch.Size([64, 64])\n"
     ]
    }
   ],
   "source": [
    "# Display the generated image\n",
    "img = gen(z1.to(device)).squeeze(dim=0).squeeze(dim=0)\n",
    "print(img.shape)"
   ]
  },
  {
   "cell_type": "code",
   "execution_count": 29,
   "id": "8cad57ff-7961-4078-9dd4-1e0b4879ff56",
   "metadata": {},
   "outputs": [
    {
     "data": {
      "text/plain": [
       "<matplotlib.image.AxesImage at 0x2b09cdcf130>"
      ]
     },
     "execution_count": 29,
     "metadata": {},
     "output_type": "execute_result"
    },
    {
     "data": {
      "image/png": "[encoded data removed]",
      "text/plain": [
       "<Figure size 640x480 with 1 Axes>"
      ]
     },
     "metadata": {},
     "output_type": "display_data"
    }
   ],
   "source": [
    "plt.axis(False)\n",
    "plt.title('Recovered Image:')\n",
    "plt.imshow(img.cpu().detach(), cmap='gray')"
   ]
  },
  {
   "cell_type": "code",
   "execution_count": 30,
   "id": "52ecd67d-cb2d-44a3-b375-759d63db75b1",
   "metadata": {},
   "outputs": [],
   "source": [
    "                                                            # Dataset Loading\n",
    "# Load the .pkl files in as numpy arrays of pixels\n",
    "def load_tumor_data(file_path):\n",
    "    train_xs = []\n",
    "    train_ys = []\n",
    "    \"\"\" Load Digits Data from pickle data\n",
    "    return:\n",
    "    @xs: numpy.array, (n, c, w, h) \n",
    "    @ys: numpy.array, (n, ), 0-9\n",
    "    \"\"\"\n",
    "    with open(file_path, 'rb') as file:\n",
    "        data = pickle.load(file)\n",
    "        train_xs.append(data[\"data\"])\n",
    "        train_ys.append(data[\"labels\"])\n",
    "    train_xs = np.concatenate(train_xs, axis=0)\n",
    "    train_ys = np.concatenate(train_ys, axis=0)\n",
    "    \n",
    "    return train_xs, train_ys"
   ]
  },
  {
   "cell_type": "code",
   "execution_count": 31,
   "id": "ca72f62f-1eec-4b17-a8ce-fd66781f64f6",
   "metadata": {},
   "outputs": [],
   "source": [
    "# Custom Tumor Dataset\n",
    "class TumorDataset(data.Dataset):\n",
    "    def __init__(self, xs, ys, is_train=True):\n",
    "        self.xs = xs\n",
    "        self.ys = ys\n",
    "\n",
    "        if is_train is True:\n",
    "            self.transform = transforms.Compose([\n",
    "                transforms.ToPILImage(),\n",
    "                transforms.Resize((64, 64)),\n",
    "                transforms.ToTensor(),\n",
    "                transforms.Normalize(\n",
    "                    [0.5],\n",
    "                    [0.5]\n",
    "                )\n",
    "            ])\n",
    "        else:\n",
    "            self.transform = transforms.Compose([\n",
    "                transforms.ToPILImage(),\n",
    "                transforms.Resize((64, 64)),\n",
    "                transforms.ToTensor(),\n",
    "                transforms.Normalize(\n",
    "                    (0.4914, 0.4822, 0.4465),\n",
    "                    (0.2023, 0.1994, 0.2010)\n",
    "                )\n",
    "            ])\n",
    "\n",
    "    def __len__(self):\n",
    "        return len(self.xs)\n",
    "\n",
    "    def __getitem__(self, index):\n",
    "        img = self.xs[index]\n",
    "        #print(img.shape)\n",
    "        label = self.ys[index]\n",
    "\n",
    "        img = img.transpose((1, 2, 0)).astype(np.uint8)\n",
    "        img = self.transform(img)\n",
    "\n",
    "        img = torch.FloatTensor(img)\n",
    "        label = torch.LongTensor([label])[0]\n",
    "        return img, label"
   ]
  },
  {
   "cell_type": "code",
   "execution_count": 32,
   "id": "ceb91588-ef69-4373-b33f-74aed6c246bb",
   "metadata": {},
   "outputs": [],
   "source": [
    "def create_dataset(train_xs, train_ys):\n",
    "    tumor_dataset = TumorDataset(train_xs, train_ys, is_train=True)\n",
    "\n",
    "    return tumor_dataset"
   ]
  },
  {
   "cell_type": "code",
   "execution_count": 33,
   "id": "0415fba0-830c-42c6-bbde-c6958e779fbb",
   "metadata": {},
   "outputs": [],
   "source": [
    "def create_dataloader(dataset):\n",
    "    dataloader = DataLoader(dataset=dataset, batch_size=128, shuffle=True)\n",
    "\n",
    "    return dataloader"
   ]
  },
  {
   "cell_type": "code",
   "execution_count": 34,
   "id": "726d4995-5133-4037-ab0e-f2705470cdc9",
   "metadata": {},
   "outputs": [
    {
     "name": "stdout",
     "output_type": "stream",
     "text": [
      "(13927, 1, 32, 32)\n",
      "<class 'numpy.ndarray'>\n"
     ]
    }
   ],
   "source": [
    "# Load in the pickle dataset file\n",
    "train_xs, train_ys = load_tumor_data('datasets/Tumor/tumor4train.pkl')\n",
    "#train_xs = train_xs[:, 1, :, :]\n",
    "#train_xs = np.expand_dims(train_xs, axis=1)\n",
    "train_xs = train_xs.mean(axis=1, keepdims=True)\n",
    "print(train_xs.shape)\n",
    "print(type(train_xs))"
   ]
  },
  {
   "cell_type": "code",
   "execution_count": 35,
   "id": "a684b01a-eb4a-4210-9f59-d613085a404a",
   "metadata": {},
   "outputs": [],
   "source": [
    "# Create the dataset\n",
    "tumor_dataset = create_dataset(train_xs, train_ys)"
   ]
  },
  {
   "cell_type": "code",
   "execution_count": 36,
   "id": "193f07cc-d34f-425e-aa08-62b6d6adbad6",
   "metadata": {},
   "outputs": [],
   "source": [
    "def visualize_image(image_x):\n",
    "    # We have to visualize by reverting the normalization (just for visualization).\n",
    "    mean = torch.tensor([0.5])\n",
    "    std = torch.tensor([0.5])\n",
    "\n",
    "    image = image_x * std + mean  # Denormalize the image\n",
    "\n",
    "    image = torch.clamp(image, 0, 1) # Clip values to [0, 1] to ensure valid range for display\n",
    "\n",
    "    # Permute the image to (H, W, C) for matplotlib\n",
    "    \n",
    "    image = image.permute(1, 2, 0)\n",
    "\n",
    "    plt.imshow(image, cmap='gray')"
   ]
  },
  {
   "cell_type": "code",
   "execution_count": 37,
   "id": "16e93c17-a89b-46a2-8198-71e66e370f4f",
   "metadata": {},
   "outputs": [
    {
     "name": "stdout",
     "output_type": "stream",
     "text": [
      "torch.Size([1, 64, 64])\n"
     ]
    },
    {
     "data": {
      "image/png": "[encoded data removed]",
      "text/plain": [
       "<Figure size 640x480 with 1 Axes>"
      ]
     },
     "metadata": {},
     "output_type": "display_data"
    }
   ],
   "source": [
    "# Visualize the first tumor sample. \n",
    "image_x, image_y = tumor_dataset[7000]\n",
    "print(image_x.shape)\n",
    "visualize_image(image_x)"
   ]
  },
  {
   "cell_type": "code",
   "execution_count": 38,
   "id": "60e2da47-7cb6-493e-aeda-aa80d7965de7",
   "metadata": {},
   "outputs": [],
   "source": [
    "from scipy.spatial.distance import cosine"
   ]
  },
  {
   "cell_type": "code",
   "execution_count": 39,
   "id": "5a7937e5-b808-4b3e-8288-75dcd9862340",
   "metadata": {},
   "outputs": [],
   "source": [
    "# Get the feature embeddings\n",
    "tfcnn_model = target_model = load_target_model(base_net='TFCNN', n_classes=4, path='saved models/fedavg_global_model.pth').to(device)\n",
    "model_embeddings = tfcnn_model.encoder.to(device)"
   ]
  },
  {
   "cell_type": "code",
   "execution_count": 40,
   "id": "737e3d92-45b6-45f6-9bf2-d51f379d6ac8",
   "metadata": {},
   "outputs": [],
   "source": [
    "# Preprocessing\n",
    "preprocess = transforms.Compose([\n",
    "    transforms.Resize(256),\n",
    "    transforms.CenterCrop(224),\n",
    "    transforms.ToTensor(),\n",
    "])"
   ]
  },
  {
   "cell_type": "code",
   "execution_count": 41,
   "id": "babb1015-bdfb-439b-bea1-81f9f50dd74e",
   "metadata": {},
   "outputs": [],
   "source": [
    "def get_feature(img):\n",
    "    with torch.no_grad():\n",
    "        features = model_embeddings(img).squeeze()\n",
    "    return features.cpu().numpy()"
   ]
  },
  {
   "cell_type": "code",
   "execution_count": 42,
   "id": "79f38654-6670-440d-a322-b2cae18a71d8",
   "metadata": {},
   "outputs": [
    {
     "data": {
      "text/plain": [
       "torch.Size([1, 64, 64])"
      ]
     },
     "execution_count": 42,
     "metadata": {},
     "output_type": "execute_result"
    }
   ],
   "source": [
    "# Send an original image through the model\n",
    "image_x, image_y = tumor_dataset[10]\n",
    "image_x.shape"
   ]
  },
  {
   "cell_type": "code",
   "execution_count": 43,
   "id": "a4a2659e-dcaa-4d4a-b5a5-06b363ce6534",
   "metadata": {},
   "outputs": [],
   "source": [
    "image_x = image_x.unsqueeze(dim=0)"
   ]
  },
  {
   "cell_type": "code",
   "execution_count": 44,
   "id": "14348bfc-5988-48f0-88cf-4761d7a99d89",
   "metadata": {},
   "outputs": [
    {
     "data": {
      "text/plain": [
       "torch.Size([1, 1, 64, 64])"
      ]
     },
     "execution_count": 44,
     "metadata": {},
     "output_type": "execute_result"
    }
   ],
   "source": [
    "image_x.shape"
   ]
  },
  {
   "cell_type": "code",
   "execution_count": 45,
   "id": "66160253-9543-4aba-bb81-031d51ef9623",
   "metadata": {},
   "outputs": [
    {
     "data": {
      "text/plain": [
       "torch.Size([1, 3, 64, 64])"
      ]
     },
     "execution_count": 45,
     "metadata": {},
     "output_type": "execute_result"
    }
   ],
   "source": [
    "image_x = image_x.repeat(1, 3, 1, 1)\n",
    "image_x = image_x.to(device)\n",
    "image_x.shape"
   ]
  },
  {
   "cell_type": "code",
   "execution_count": 46,
   "id": "f615c7d3-2dab-425d-81e1-2595ec59e230",
   "metadata": {},
   "outputs": [
    {
     "data": {
      "text/plain": [
       "(4096,)"
      ]
     },
     "execution_count": 46,
     "metadata": {},
     "output_type": "execute_result"
    }
   ],
   "source": [
    "features = get_feature(image_x)\n",
    "features.shape"
   ]
  },
  {
   "cell_type": "code",
   "execution_count": 47,
   "id": "31b9ddc9-3fc8-4a47-bfc7-74a6df27d672",
   "metadata": {},
   "outputs": [],
   "source": [
    "class0_original_images = []\n",
    "class1_original_images = []\n",
    "class2_original_images = []\n",
    "class3_original_images = []\n",
    "target_num = 20 # 20 images for each class"
   ]
  },
  {
   "cell_type": "code",
   "execution_count": 48,
   "id": "e804c948-2dc8-41df-a633-113300baf12a",
   "metadata": {},
   "outputs": [],
   "source": [
    "for i in range(len(tumor_dataset)):\n",
    "    img_x, img_y = tumor_dataset[i]\n",
    "\n",
    "    if img_y == 0:\n",
    "        if len(class0_original_images) < target_num:\n",
    "            class0_original_images.append(img_x)\n",
    "    elif img_y == 1:\n",
    "        if len(class1_original_images) < target_num:\n",
    "            class1_original_images.append(img_x)\n",
    "    elif img_y == 2:\n",
    "        if len(class2_original_images) < target_num:\n",
    "            class2_original_images.append(img_x)\n",
    "    elif img_y == 3:\n",
    "        if len(class3_original_images) < target_num:\n",
    "            class3_original_images.append(img_x)"
   ]
  },
  {
   "cell_type": "code",
   "execution_count": 49,
   "id": "ef07c896-c4cd-48da-9e59-c9d7bd90a4e8",
   "metadata": {},
   "outputs": [
    {
     "data": {
      "text/plain": [
       "20"
      ]
     },
     "execution_count": 49,
     "metadata": {},
     "output_type": "execute_result"
    }
   ],
   "source": [
    "len(class3_original_images)"
   ]
  },
  {
   "cell_type": "code",
   "execution_count": 50,
   "id": "e102404a-68a3-40c5-99a7-45813eb87f20",
   "metadata": {},
   "outputs": [
    {
     "data": {
      "text/plain": [
       "torch.Size([1, 3, 64, 64])"
      ]
     },
     "execution_count": 50,
     "metadata": {},
     "output_type": "execute_result"
    }
   ],
   "source": [
    "# Testing the cosine similarity\n",
    "class1_original_image = class1_original_images[8]\n",
    "class1_original_image = class1_original_image.unsqueeze(dim=0).to(device)\n",
    "class1_original_image = class1_original_image.repeat(1, 3, 1, 1)\n",
    "class1_original_image.shape"
   ]
  },
  {
   "cell_type": "code",
   "execution_count": 51,
   "id": "d7fe9c85-2c83-4580-be7d-32833b706948",
   "metadata": {},
   "outputs": [],
   "source": [
    "fake1 = class1_optimized_latent_vectors[8]\n",
    "fake1_image = gen(fake1.to(device))\n",
    "fake1_image = fake1_image.repeat(1, 3, 1, 1)"
   ]
  },
  {
   "cell_type": "code",
   "execution_count": 52,
   "id": "74647152-cdcb-4593-a88f-d3ac43fd97d3",
   "metadata": {},
   "outputs": [
    {
     "data": {
      "text/plain": [
       "torch.Size([1, 3, 64, 64])"
      ]
     },
     "execution_count": 52,
     "metadata": {},
     "output_type": "execute_result"
    }
   ],
   "source": [
    "fake1_image.shape"
   ]
  },
  {
   "cell_type": "code",
   "execution_count": 53,
   "id": "e88f6396-0ef2-45f5-96e0-6048be01af25",
   "metadata": {},
   "outputs": [],
   "source": [
    "# Get the features of the images\n",
    "features_original = get_feature(class1_original_image)\n",
    "features_fake = get_feature(fake1_image)"
   ]
  },
  {
   "cell_type": "code",
   "execution_count": 54,
   "id": "b54e2bca-5f2b-41ea-b810-15d1f9d30f86",
   "metadata": {},
   "outputs": [],
   "source": [
    "# Compute cosine similarity\n",
    "similarity = 1 - cosine(features_original, features_fake)"
   ]
  },
  {
   "cell_type": "code",
   "execution_count": 55,
   "id": "983c7e35-27ee-453c-9356-cb9a84fdd4a3",
   "metadata": {},
   "outputs": [
    {
     "data": {
      "text/plain": [
       "np.float32(0.3712293)"
      ]
     },
     "execution_count": 55,
     "metadata": {},
     "output_type": "execute_result"
    }
   ],
   "source": [
    "similarity"
   ]
  },
  {
   "cell_type": "code",
   "execution_count": 56,
   "id": "e65e04e8-52b7-4cf2-876c-d9b07a435ec9",
   "metadata": {},
   "outputs": [],
   "source": [
    "def calculate_class0_sim():\n",
    "    similarities = []\n",
    "    for i in range(0, 20):\n",
    "        class0_original = class0_original_images[i].unsqueeze(dim=0).to(device)\n",
    "        class0_original = class0_original.repeat(1, 3, 1, 1)\n",
    "\n",
    "        class0_fake = class0_optimized_latent_vectors[i]\n",
    "        class0_fake_img = gen(class0_fake.to(device))\n",
    "        class0_fake_img = class0_fake_img.repeat(1, 3, 1, 1)\n",
    "\n",
    "        features_original = get_feature(class0_original)\n",
    "        features_fake = get_feature(class0_fake_img)\n",
    "\n",
    "        cosine_similarity = 1 - cosine(features_original, features_fake)\n",
    "\n",
    "        similarities.append(cosine_similarity)\n",
    "        \n",
    "    return similarities"
   ]
  },
  {
   "cell_type": "code",
   "execution_count": 57,
   "id": "10d8f579-0b80-4157-b59b-7b92be9e52f2",
   "metadata": {},
   "outputs": [],
   "source": [
    "def calculate_class1_sim():\n",
    "    similarities = []\n",
    "    for i in range(0, 20):\n",
    "        class1_original = class1_original_images[i].unsqueeze(dim=0).to(device)\n",
    "        class1_original = class1_original.repeat(1, 3, 1, 1)\n",
    "\n",
    "        class1_fake = class1_optimized_latent_vectors[i]\n",
    "        class1_fake_img = gen(class1_fake.to(device))\n",
    "        class1_fake_img = class1_fake_img.repeat(1, 3, 1, 1)\n",
    "\n",
    "        features_original = get_feature(class1_original)\n",
    "        features_fake = get_feature(class1_fake_img)\n",
    "\n",
    "        cosine_similarity = 1 - cosine(features_original, features_fake)\n",
    "        similarities.append(cosine_similarity)\n",
    "\n",
    "    return similarities"
   ]
  },
  {
   "cell_type": "code",
   "execution_count": 58,
   "id": "1bbdc999-fa6d-4005-b785-3c54a7bd89ee",
   "metadata": {},
   "outputs": [],
   "source": [
    "def calculate_class2_sim():\n",
    "    similarities = []\n",
    "    for i in range(0, 20):\n",
    "        class2_original = class2_original_images[i].unsqueeze(dim=0).to(device)\n",
    "        class2_original = class2_original.repeat(1, 3, 1, 1)\n",
    "\n",
    "        class2_fake = class2_optimized_latent_vectors[i]\n",
    "        class2_fake_img = gen(class2_fake.to(device))\n",
    "        class2_fake_img = class2_fake_img.repeat(1, 3, 1, 1)\n",
    "\n",
    "        features_original = get_feature(class2_original)\n",
    "        features_fake = get_feature(class2_fake_img)\n",
    "\n",
    "        cosine_similarity = 1 - cosine(features_original, features_fake)\n",
    "        similarities.append(cosine_similarity)\n",
    "\n",
    "    return similarities"
   ]
  },
  {
   "cell_type": "code",
   "execution_count": 59,
   "id": "33cb8de1-5a87-4dd4-8fc2-d3f27d6ddc9a",
   "metadata": {},
   "outputs": [],
   "source": [
    "def calculate_class3_sim():\n",
    "    similarities = []\n",
    "    for i in range(0, 20):\n",
    "        class3_original = class3_original_images[i].unsqueeze(dim=0).to(device)\n",
    "        class3_original = class3_original.repeat(1, 3, 1, 1)\n",
    "\n",
    "        class3_fake = class3_optimized_latent_vectors[i]\n",
    "        class3_fake_img = gen(class3_fake.to(device))\n",
    "        class3_fake_img = class3_fake_img.repeat(1, 3, 1, 1)\n",
    "\n",
    "        features_original = get_feature(class3_original)\n",
    "        features_fake = get_feature(class3_fake_img)\n",
    "\n",
    "        cosine_similarity = 1 - cosine(features_original, features_fake)\n",
    "        similarities.append(cosine_similarity)\n",
    "\n",
    "    return similarities"
   ]
  },
  {
   "cell_type": "code",
   "execution_count": 60,
   "id": "7868f175-5845-4ee4-b4cf-1c89513375ec",
   "metadata": {},
   "outputs": [],
   "source": [
    "class0_sims = calculate_class0_sim()\n",
    "class1_sims = calculate_class0_sim()\n",
    "class2_sims = calculate_class0_sim()\n",
    "class3_sims = calculate_class0_sim()"
   ]
  },
  {
   "cell_type": "code",
   "execution_count": 61,
   "id": "bbf4597d-a583-4204-a3ce-9085936e0189",
   "metadata": {},
   "outputs": [
    {
     "data": {
      "text/plain": [
       "[np.float32(0.31409836),\n",
       " np.float32(0.31702453),\n",
       " np.float32(0.36175275),\n",
       " np.float32(0.29987574),\n",
       " np.float32(0.32621992),\n",
       " np.float32(0.24546897),\n",
       " np.float32(0.3158667),\n",
       " np.float32(0.38327765),\n",
       " np.float32(0.38491738),\n",
       " np.float32(0.32194364),\n",
       " np.float32(0.35951567),\n",
       " np.float32(0.35474467),\n",
       " np.float32(0.23958361),\n",
       " np.float32(0.341344),\n",
       " np.float32(0.3265562),\n",
       " np.float32(0.27100515),\n",
       " np.float32(0.2536509),\n",
       " np.float32(0.1923182),\n",
       " np.float32(0.3030628),\n",
       " np.float32(0.357647)]"
      ]
     },
     "execution_count": 61,
     "metadata": {},
     "output_type": "execute_result"
    }
   ],
   "source": [
    "class0_sims"
   ]
  },
  {
   "cell_type": "code",
   "execution_count": 62,
   "id": "acb9d480-a58f-4ce6-8973-eb9c8d6e7253",
   "metadata": {},
   "outputs": [
    {
     "data": {
      "text/plain": [
       "[np.float32(0.314098),\n",
       " np.float32(0.3170246),\n",
       " np.float32(0.36175275),\n",
       " np.float32(0.29987562),\n",
       " np.float32(0.32621992),\n",
       " np.float32(0.2454676),\n",
       " np.float32(0.3158667),\n",
       " np.float32(0.38327777),\n",
       " np.float32(0.38491738),\n",
       " np.float32(0.32194436),\n",
       " np.float32(0.35951555),\n",
       " np.float32(0.35474467),\n",
       " np.float32(0.23958361),\n",
       " np.float32(0.341344),\n",
       " np.float32(0.32655632),\n",
       " np.float32(0.27100515),\n",
       " np.float32(0.25365067),\n",
       " np.float32(0.19231814),\n",
       " np.float32(0.30306256),\n",
       " np.float32(0.35764682)]"
      ]
     },
     "execution_count": 62,
     "metadata": {},
     "output_type": "execute_result"
    }
   ],
   "source": [
    "class3_sims"
   ]
  },
  {
   "cell_type": "code",
   "execution_count": 63,
   "id": "58dc103d-1c30-473a-adc3-fcd5ca5100a0",
   "metadata": {},
   "outputs": [
    {
     "ename": "FileNotFoundError",
     "evalue": "[Errno 2] No such file or directory: 'output/fedvg.png'",
     "output_type": "error",
     "traceback": [
      "\u001b[1;31m---------------------------------------------------------------------------\u001b[0m",
      "\u001b[1;31mFileNotFoundError\u001b[0m                         Traceback (most recent call last)",
      "Cell \u001b[1;32mIn[63], line 43\u001b[0m\n\u001b[0;32m     41\u001b[0m plt\u001b[38;5;241m.\u001b[39mtight_layout()\n\u001b[0;32m     42\u001b[0m \u001b[38;5;66;03m# Save the plot to a file\u001b[39;00m\n\u001b[1;32m---> 43\u001b[0m \u001b[43mplt\u001b[49m\u001b[38;5;241;43m.\u001b[39;49m\u001b[43msavefig\u001b[49m\u001b[43m(\u001b[49m\u001b[38;5;124;43m'\u001b[39;49m\u001b[38;5;124;43moutput/fedvg.png\u001b[39;49m\u001b[38;5;124;43m'\u001b[39;49m\u001b[43m,\u001b[49m\u001b[43m \u001b[49m\u001b[43mdpi\u001b[49m\u001b[38;5;241;43m=\u001b[39;49m\u001b[38;5;241;43m300\u001b[39;49m\u001b[43m,\u001b[49m\u001b[43m \u001b[49m\u001b[43mbbox_inches\u001b[49m\u001b[38;5;241;43m=\u001b[39;49m\u001b[38;5;124;43m'\u001b[39;49m\u001b[38;5;124;43mtight\u001b[39;49m\u001b[38;5;124;43m'\u001b[39;49m\u001b[43m)\u001b[49m  \u001b[38;5;66;03m# Save as a PNG file with high resolution\u001b[39;00m\n\u001b[0;32m     45\u001b[0m \u001b[38;5;66;03m# Show the plot\u001b[39;00m\n\u001b[0;32m     46\u001b[0m plt\u001b[38;5;241m.\u001b[39mshow()\n",
      "File \u001b[1;32m~\\AppData\\Local\\Programs\\Python\\Python39\\lib\\site-packages\\matplotlib\\pyplot.py:1228\u001b[0m, in \u001b[0;36msavefig\u001b[1;34m(*args, **kwargs)\u001b[0m\n\u001b[0;32m   1225\u001b[0m fig \u001b[38;5;241m=\u001b[39m gcf()\n\u001b[0;32m   1226\u001b[0m \u001b[38;5;66;03m# savefig default implementation has no return, so mypy is unhappy\u001b[39;00m\n\u001b[0;32m   1227\u001b[0m \u001b[38;5;66;03m# presumably this is here because subclasses can return?\u001b[39;00m\n\u001b[1;32m-> 1228\u001b[0m res \u001b[38;5;241m=\u001b[39m fig\u001b[38;5;241m.\u001b[39msavefig(\u001b[38;5;241m*\u001b[39margs, \u001b[38;5;241m*\u001b[39m\u001b[38;5;241m*\u001b[39mkwargs)  \u001b[38;5;66;03m# type: ignore[func-returns-value]\u001b[39;00m\n\u001b[0;32m   1229\u001b[0m fig\u001b[38;5;241m.\u001b[39mcanvas\u001b[38;5;241m.\u001b[39mdraw_idle()  \u001b[38;5;66;03m# Need this if 'transparent=True', to reset colors.\u001b[39;00m\n\u001b[0;32m   1230\u001b[0m \u001b[38;5;28;01mreturn\u001b[39;00m res\n",
      "File \u001b[1;32m~\\AppData\\Local\\Programs\\Python\\Python39\\lib\\site-packages\\matplotlib\\figure.py:3395\u001b[0m, in \u001b[0;36mFigure.savefig\u001b[1;34m(self, fname, transparent, **kwargs)\u001b[0m\n\u001b[0;32m   3393\u001b[0m     \u001b[38;5;28;01mfor\u001b[39;00m ax \u001b[38;5;129;01min\u001b[39;00m \u001b[38;5;28mself\u001b[39m\u001b[38;5;241m.\u001b[39maxes:\n\u001b[0;32m   3394\u001b[0m         _recursively_make_axes_transparent(stack, ax)\n\u001b[1;32m-> 3395\u001b[0m \u001b[38;5;28mself\u001b[39m\u001b[38;5;241m.\u001b[39mcanvas\u001b[38;5;241m.\u001b[39mprint_figure(fname, \u001b[38;5;241m*\u001b[39m\u001b[38;5;241m*\u001b[39mkwargs)\n",
      "File \u001b[1;32m~\\AppData\\Local\\Programs\\Python\\Python39\\lib\\site-packages\\matplotlib\\backend_bases.py:2204\u001b[0m, in \u001b[0;36mFigureCanvasBase.print_figure\u001b[1;34m(self, filename, dpi, facecolor, edgecolor, orientation, format, bbox_inches, pad_inches, bbox_extra_artists, backend, **kwargs)\u001b[0m\n\u001b[0;32m   2200\u001b[0m \u001b[38;5;28;01mtry\u001b[39;00m:\n\u001b[0;32m   2201\u001b[0m     \u001b[38;5;66;03m# _get_renderer may change the figure dpi (as vector formats\u001b[39;00m\n\u001b[0;32m   2202\u001b[0m     \u001b[38;5;66;03m# force the figure dpi to 72), so we need to set it again here.\u001b[39;00m\n\u001b[0;32m   2203\u001b[0m     \u001b[38;5;28;01mwith\u001b[39;00m cbook\u001b[38;5;241m.\u001b[39m_setattr_cm(\u001b[38;5;28mself\u001b[39m\u001b[38;5;241m.\u001b[39mfigure, dpi\u001b[38;5;241m=\u001b[39mdpi):\n\u001b[1;32m-> 2204\u001b[0m         result \u001b[38;5;241m=\u001b[39m print_method(\n\u001b[0;32m   2205\u001b[0m             filename,\n\u001b[0;32m   2206\u001b[0m             facecolor\u001b[38;5;241m=\u001b[39mfacecolor,\n\u001b[0;32m   2207\u001b[0m             edgecolor\u001b[38;5;241m=\u001b[39medgecolor,\n\u001b[0;32m   2208\u001b[0m             orientation\u001b[38;5;241m=\u001b[39morientation,\n\u001b[0;32m   2209\u001b[0m             bbox_inches_restore\u001b[38;5;241m=\u001b[39m_bbox_inches_restore,\n\u001b[0;32m   2210\u001b[0m             \u001b[38;5;241m*\u001b[39m\u001b[38;5;241m*\u001b[39mkwargs)\n\u001b[0;32m   2211\u001b[0m \u001b[38;5;28;01mfinally\u001b[39;00m:\n\u001b[0;32m   2212\u001b[0m     \u001b[38;5;28;01mif\u001b[39;00m bbox_inches \u001b[38;5;129;01mand\u001b[39;00m restore_bbox:\n",
      "File \u001b[1;32m~\\AppData\\Local\\Programs\\Python\\Python39\\lib\\site-packages\\matplotlib\\backend_bases.py:2054\u001b[0m, in \u001b[0;36mFigureCanvasBase._switch_canvas_and_return_print_method.<locals>.<lambda>\u001b[1;34m(*args, **kwargs)\u001b[0m\n\u001b[0;32m   2050\u001b[0m     optional_kws \u001b[38;5;241m=\u001b[39m {  \u001b[38;5;66;03m# Passed by print_figure for other renderers.\u001b[39;00m\n\u001b[0;32m   2051\u001b[0m         \u001b[38;5;124m\"\u001b[39m\u001b[38;5;124mdpi\u001b[39m\u001b[38;5;124m\"\u001b[39m, \u001b[38;5;124m\"\u001b[39m\u001b[38;5;124mfacecolor\u001b[39m\u001b[38;5;124m\"\u001b[39m, \u001b[38;5;124m\"\u001b[39m\u001b[38;5;124medgecolor\u001b[39m\u001b[38;5;124m\"\u001b[39m, \u001b[38;5;124m\"\u001b[39m\u001b[38;5;124morientation\u001b[39m\u001b[38;5;124m\"\u001b[39m,\n\u001b[0;32m   2052\u001b[0m         \u001b[38;5;124m\"\u001b[39m\u001b[38;5;124mbbox_inches_restore\u001b[39m\u001b[38;5;124m\"\u001b[39m}\n\u001b[0;32m   2053\u001b[0m     skip \u001b[38;5;241m=\u001b[39m optional_kws \u001b[38;5;241m-\u001b[39m {\u001b[38;5;241m*\u001b[39minspect\u001b[38;5;241m.\u001b[39msignature(meth)\u001b[38;5;241m.\u001b[39mparameters}\n\u001b[1;32m-> 2054\u001b[0m     print_method \u001b[38;5;241m=\u001b[39m functools\u001b[38;5;241m.\u001b[39mwraps(meth)(\u001b[38;5;28;01mlambda\u001b[39;00m \u001b[38;5;241m*\u001b[39margs, \u001b[38;5;241m*\u001b[39m\u001b[38;5;241m*\u001b[39mkwargs: meth(\n\u001b[0;32m   2055\u001b[0m         \u001b[38;5;241m*\u001b[39margs, \u001b[38;5;241m*\u001b[39m\u001b[38;5;241m*\u001b[39m{k: v \u001b[38;5;28;01mfor\u001b[39;00m k, v \u001b[38;5;129;01min\u001b[39;00m kwargs\u001b[38;5;241m.\u001b[39mitems() \u001b[38;5;28;01mif\u001b[39;00m k \u001b[38;5;129;01mnot\u001b[39;00m \u001b[38;5;129;01min\u001b[39;00m skip}))\n\u001b[0;32m   2056\u001b[0m \u001b[38;5;28;01melse\u001b[39;00m:  \u001b[38;5;66;03m# Let third-parties do as they see fit.\u001b[39;00m\n\u001b[0;32m   2057\u001b[0m     print_method \u001b[38;5;241m=\u001b[39m meth\n",
      "File \u001b[1;32m~\\AppData\\Local\\Programs\\Python\\Python39\\lib\\site-packages\\matplotlib\\backends\\backend_agg.py:496\u001b[0m, in \u001b[0;36mFigureCanvasAgg.print_png\u001b[1;34m(self, filename_or_obj, metadata, pil_kwargs)\u001b[0m\n\u001b[0;32m    449\u001b[0m \u001b[38;5;28;01mdef\u001b[39;00m\u001b[38;5;250m \u001b[39m\u001b[38;5;21mprint_png\u001b[39m(\u001b[38;5;28mself\u001b[39m, filename_or_obj, \u001b[38;5;241m*\u001b[39m, metadata\u001b[38;5;241m=\u001b[39m\u001b[38;5;28;01mNone\u001b[39;00m, pil_kwargs\u001b[38;5;241m=\u001b[39m\u001b[38;5;28;01mNone\u001b[39;00m):\n\u001b[0;32m    450\u001b[0m \u001b[38;5;250m    \u001b[39m\u001b[38;5;124;03m\"\"\"\u001b[39;00m\n\u001b[0;32m    451\u001b[0m \u001b[38;5;124;03m    Write the figure to a PNG file.\u001b[39;00m\n\u001b[0;32m    452\u001b[0m \n\u001b[1;32m   (...)\u001b[0m\n\u001b[0;32m    494\u001b[0m \u001b[38;5;124;03m        *metadata*, including the default 'Software' key.\u001b[39;00m\n\u001b[0;32m    495\u001b[0m \u001b[38;5;124;03m    \"\"\"\u001b[39;00m\n\u001b[1;32m--> 496\u001b[0m     \u001b[38;5;28;43mself\u001b[39;49m\u001b[38;5;241;43m.\u001b[39;49m\u001b[43m_print_pil\u001b[49m\u001b[43m(\u001b[49m\u001b[43mfilename_or_obj\u001b[49m\u001b[43m,\u001b[49m\u001b[43m \u001b[49m\u001b[38;5;124;43m\"\u001b[39;49m\u001b[38;5;124;43mpng\u001b[39;49m\u001b[38;5;124;43m\"\u001b[39;49m\u001b[43m,\u001b[49m\u001b[43m \u001b[49m\u001b[43mpil_kwargs\u001b[49m\u001b[43m,\u001b[49m\u001b[43m \u001b[49m\u001b[43mmetadata\u001b[49m\u001b[43m)\u001b[49m\n",
      "File \u001b[1;32m~\\AppData\\Local\\Programs\\Python\\Python39\\lib\\site-packages\\matplotlib\\backends\\backend_agg.py:445\u001b[0m, in \u001b[0;36mFigureCanvasAgg._print_pil\u001b[1;34m(self, filename_or_obj, fmt, pil_kwargs, metadata)\u001b[0m\n\u001b[0;32m    440\u001b[0m \u001b[38;5;250m\u001b[39m\u001b[38;5;124;03m\"\"\"\u001b[39;00m\n\u001b[0;32m    441\u001b[0m \u001b[38;5;124;03mDraw the canvas, then save it using `.image.imsave` (to which\u001b[39;00m\n\u001b[0;32m    442\u001b[0m \u001b[38;5;124;03m*pil_kwargs* and *metadata* are forwarded).\u001b[39;00m\n\u001b[0;32m    443\u001b[0m \u001b[38;5;124;03m\"\"\"\u001b[39;00m\n\u001b[0;32m    444\u001b[0m FigureCanvasAgg\u001b[38;5;241m.\u001b[39mdraw(\u001b[38;5;28mself\u001b[39m)\n\u001b[1;32m--> 445\u001b[0m \u001b[43mmpl\u001b[49m\u001b[38;5;241;43m.\u001b[39;49m\u001b[43mimage\u001b[49m\u001b[38;5;241;43m.\u001b[39;49m\u001b[43mimsave\u001b[49m\u001b[43m(\u001b[49m\n\u001b[0;32m    446\u001b[0m \u001b[43m    \u001b[49m\u001b[43mfilename_or_obj\u001b[49m\u001b[43m,\u001b[49m\u001b[43m \u001b[49m\u001b[38;5;28;43mself\u001b[39;49m\u001b[38;5;241;43m.\u001b[39;49m\u001b[43mbuffer_rgba\u001b[49m\u001b[43m(\u001b[49m\u001b[43m)\u001b[49m\u001b[43m,\u001b[49m\u001b[43m \u001b[49m\u001b[38;5;28;43mformat\u001b[39;49m\u001b[38;5;241;43m=\u001b[39;49m\u001b[43mfmt\u001b[49m\u001b[43m,\u001b[49m\u001b[43m \u001b[49m\u001b[43morigin\u001b[49m\u001b[38;5;241;43m=\u001b[39;49m\u001b[38;5;124;43m\"\u001b[39;49m\u001b[38;5;124;43mupper\u001b[39;49m\u001b[38;5;124;43m\"\u001b[39;49m\u001b[43m,\u001b[49m\n\u001b[0;32m    447\u001b[0m \u001b[43m    \u001b[49m\u001b[43mdpi\u001b[49m\u001b[38;5;241;43m=\u001b[39;49m\u001b[38;5;28;43mself\u001b[39;49m\u001b[38;5;241;43m.\u001b[39;49m\u001b[43mfigure\u001b[49m\u001b[38;5;241;43m.\u001b[39;49m\u001b[43mdpi\u001b[49m\u001b[43m,\u001b[49m\u001b[43m \u001b[49m\u001b[43mmetadata\u001b[49m\u001b[38;5;241;43m=\u001b[39;49m\u001b[43mmetadata\u001b[49m\u001b[43m,\u001b[49m\u001b[43m \u001b[49m\u001b[43mpil_kwargs\u001b[49m\u001b[38;5;241;43m=\u001b[39;49m\u001b[43mpil_kwargs\u001b[49m\u001b[43m)\u001b[49m\n",
      "File \u001b[1;32m~\\AppData\\Local\\Programs\\Python\\Python39\\lib\\site-packages\\matplotlib\\image.py:1676\u001b[0m, in \u001b[0;36mimsave\u001b[1;34m(fname, arr, vmin, vmax, cmap, format, origin, dpi, metadata, pil_kwargs)\u001b[0m\n\u001b[0;32m   1674\u001b[0m pil_kwargs\u001b[38;5;241m.\u001b[39msetdefault(\u001b[38;5;124m\"\u001b[39m\u001b[38;5;124mformat\u001b[39m\u001b[38;5;124m\"\u001b[39m, \u001b[38;5;28mformat\u001b[39m)\n\u001b[0;32m   1675\u001b[0m pil_kwargs\u001b[38;5;241m.\u001b[39msetdefault(\u001b[38;5;124m\"\u001b[39m\u001b[38;5;124mdpi\u001b[39m\u001b[38;5;124m\"\u001b[39m, (dpi, dpi))\n\u001b[1;32m-> 1676\u001b[0m image\u001b[38;5;241m.\u001b[39msave(fname, \u001b[38;5;241m*\u001b[39m\u001b[38;5;241m*\u001b[39mpil_kwargs)\n",
      "File \u001b[1;32m~\\AppData\\Local\\Programs\\Python\\Python39\\lib\\site-packages\\PIL\\Image.py:2436\u001b[0m, in \u001b[0;36mImage.save\u001b[1;34m(self, fp, format, **params)\u001b[0m\n\u001b[0;32m   2434\u001b[0m         fp \u001b[38;5;241m=\u001b[39m builtins\u001b[38;5;241m.\u001b[39mopen(filename, \u001b[38;5;124m\"\u001b[39m\u001b[38;5;124mr+b\u001b[39m\u001b[38;5;124m\"\u001b[39m)\n\u001b[0;32m   2435\u001b[0m     \u001b[38;5;28;01melse\u001b[39;00m:\n\u001b[1;32m-> 2436\u001b[0m         fp \u001b[38;5;241m=\u001b[39m \u001b[43mbuiltins\u001b[49m\u001b[38;5;241;43m.\u001b[39;49m\u001b[43mopen\u001b[49m\u001b[43m(\u001b[49m\u001b[43mfilename\u001b[49m\u001b[43m,\u001b[49m\u001b[43m \u001b[49m\u001b[38;5;124;43m\"\u001b[39;49m\u001b[38;5;124;43mw+b\u001b[39;49m\u001b[38;5;124;43m\"\u001b[39;49m\u001b[43m)\u001b[49m\n\u001b[0;32m   2438\u001b[0m \u001b[38;5;28;01mtry\u001b[39;00m:\n\u001b[0;32m   2439\u001b[0m     save_handler(\u001b[38;5;28mself\u001b[39m, fp, filename)\n",
      "\u001b[1;31mFileNotFoundError\u001b[0m: [Errno 2] No such file or directory: 'output/fedvg.png'"
     ]
    },
    {
     "data": {
      "image/png": "[encoded data removed]",
      "text/plain": [
       "<Figure size 650x420 with 1 Axes>"
      ]
     },
     "metadata": {},
     "output_type": "display_data"
    }
   ],
   "source": [
    "                                                        # VISUALIZE\n",
    "# NOTE: Class indexes now start from 1 so, previous class 0 = now class 1 and so on\n",
    "# FIG 1: Raw similarity plot\n",
    "\n",
    "import pandas as pd\n",
    "import numpy as np\n",
    "import matplotlib.pyplot as plt\n",
    "import seaborn as sns\n",
    "\n",
    "# Generate sample similarity data for four classes (each with 20 values in the range 0 to 1)\n",
    "class1_sim = class0_sims\n",
    "class2_sim = class1_sims\n",
    "class3_sim = class2_sims\n",
    "class4_sim = class3_sims\n",
    "\n",
    "# Set figure size\n",
    "plt.figure(figsize=(6.5, 4.2))  # Set the size of the figure (width, height)\n",
    "\n",
    "# Sample DataFrame with four columns\n",
    "data=pd.DataFrame({'Class 1':class1_sim,'Class 2':class2_sim,'Class 3':class3_sim,'Class 4':class4_sim})\n",
    "df = pd.DataFrame(data)\n",
    "\n",
    "# Plot the probability distributions\n",
    "#plt.figure(figsize=(10, 6))\n",
    "\n",
    "# Define colors and line styles for each column\n",
    "colors = ['#1f77b4', '#ff7f0e', '#2ca02c', '#d62728']\n",
    "linestyles = ['-.', '--', '-', '-']\n",
    "\n",
    "# Plot the probability distributions with unique colors and line styles\n",
    "for column, color, linestyle in zip(df.columns, colors, linestyles):\n",
    "    sns.kdeplot(df[column], label=column, color=color, linestyle=linestyle)\n",
    "\n",
    "#plt.title('Probability Distributions of Four Columns')\n",
    "plt.xlabel('Similarity',fontsize=12)\n",
    "plt.ylabel('Density',fontsize=12)\n",
    "plt.yticks(fontsize=12)  # Set y-tick labels font size\n",
    "plt.legend(loc='upper right',fontsize=12)  # Increase legend font size\n",
    "\n",
    "# Optimize layout\n",
    "plt.tight_layout()\n",
    "# Save the plot to a file\n",
    "plt.savefig('output/fedvg.png', dpi=300, bbox_inches='tight')  # Save as a PNG file with high resolution\n",
    "\n",
    "# Show the plot\n",
    "plt.show()\n"
   ]
  },
  {
   "cell_type": "code",
   "execution_count": 64,
   "id": "c71af78e-28e9-4564-9609-3039455bb875",
   "metadata": {},
   "outputs": [
    {
     "data": {
      "image/png": "[encoded data removed]",
      "text/plain": [
       "<Figure size 750x500 with 1 Axes>"
      ]
     },
     "metadata": {},
     "output_type": "display_data"
    }
   ],
   "source": [
    "# FIG 2: DIFFERENCES IN COSINE SIMILARITY\n",
    "\n",
    "# For each class, we have 20 similarity values — one per image — showing how similar fake and real versions are.These values are very close across classes\n",
    "# So, to highlight subtle differences, compute and plot the difference between each pair of classes, value by value.\n",
    "# This gives you 20 values showing how much the similarity differs for each image between class 0 and class 1.\n",
    "# It's a magnified view of the gap between classes.\n",
    "# If the differences are tiny (e.g., 0.003), the plot helps make that visible and comparable.\n",
    "\n",
    "import numpy as np\n",
    "import matplotlib.pyplot as plt\n",
    "import seaborn as sns\n",
    "import pandas as pd\n",
    "\n",
    "# Differences between class distributions (pairwise)\n",
    "diff_12 = np.array(class2_sim) - np.array(class1_sim)\n",
    "diff_13 = np.array(class3_sim) - np.array(class1_sim)\n",
    "diff_14 = np.array(class4_sim) - np.array(class1_sim)\n",
    "diff_23 = np.array(class3_sim) - np.array(class2_sim)\n",
    "diff_24 = np.array(class4_sim) - np.array(class2_sim)\n",
    "diff_34 = np.array(class4_sim) - np.array(class3_sim)\n",
    "\n",
    "# Create a DataFrame\n",
    "diff_df = pd.DataFrame({\n",
    "    'Class 2 - Class 1': diff_12,\n",
    "    'Class 3 - Class 1': diff_13,\n",
    "    'Class 4 - Class 1': diff_14,\n",
    "    'Class 3 - Class 2': diff_23,\n",
    "    'Class 4 - Class 2': diff_24,\n",
    "    'Class 4 - Class 3': diff_34,\n",
    "})\n",
    "\n",
    "# Plot\n",
    "plt.figure(figsize=(7.5, 5))\n",
    "\n",
    "colors = sns.color_palette(\"tab10\", n_colors=6)\n",
    "\n",
    "for column, color in zip(diff_df.columns, colors):\n",
    "    sns.kdeplot(diff_df[column], label=column, color=color, linestyle='-')\n",
    "\n",
    "plt.axvline(0, color='black', linestyle='--', linewidth=1)  # reference line at 0\n",
    "plt.xlabel('Difference in Similarity', fontsize=12)\n",
    "plt.ylabel('Density', fontsize=12)\n",
    "plt.legend(fontsize=10)\n",
    "plt.title(\"Pairwise Differences in Cosine Similarity\", fontsize=13)\n",
    "plt.tight_layout()\n",
    "plt.show()"
   ]
  },
  {
   "cell_type": "code",
   "execution_count": 65,
   "id": "362bf182-7927-4ce2-bf5a-97299d426bc4",
   "metadata": {},
   "outputs": [],
   "source": [
    "def calculate_interclass_similarity(first, second):\n",
    "    similarities = []\n",
    "\n",
    "    first_images = []\n",
    "    second_images = []\n",
    "    if first == 'class1':\n",
    "        first_images = class0_original_images.copy()\n",
    "    elif first == 'class2':\n",
    "        first_images = class1_original_images.copy()\n",
    "    elif first == 'class3':\n",
    "        first_images = class2_original_images.copy()\n",
    "    elif first == 'class4':\n",
    "        first_images = class3_original_images.copy()\n",
    "\n",
    "    if second == 'class1':\n",
    "        second_images = class0_original_images.copy()\n",
    "    elif second == 'class2':\n",
    "        second_images = class1_original_images.copy()\n",
    "    elif second == 'class3':\n",
    "        second_images = class2_original_images.copy()\n",
    "    elif second == 'class4':\n",
    "        second_images = class3_original_images.copy()\n",
    "    \n",
    "    for i in range(0, 20):\n",
    "        first_image = first_images[i].unsqueeze(dim=0).to(device)\n",
    "        first_image = first_image.repeat(1, 3, 1, 1)\n",
    "        \n",
    "        second_image = second_images[i].unsqueeze(dim=0).to(device)\n",
    "        second_image = second_image.repeat(1, 3, 1, 1)\n",
    "        \n",
    "        features_first = get_feature(first_image)\n",
    "        features_second = get_feature(second_image)\n",
    "\n",
    "        cosine_similarity = 1 - cosine(features_first, features_second)\n",
    "        similarities.append(cosine_similarity)\n",
    "\n",
    "    return similarities"
   ]
  },
  {
   "cell_type": "code",
   "execution_count": 66,
   "id": "5954dfe3-cb08-4551-a5f9-d2082ac3d604",
   "metadata": {},
   "outputs": [],
   "source": [
    "class1class2 = calculate_interclass_similarity('class1', 'class2')"
   ]
  },
  {
   "cell_type": "code",
   "execution_count": 67,
   "id": "cd5ab50d-9d9d-443b-bea5-2d6e302e2bf4",
   "metadata": {},
   "outputs": [
    {
     "data": {
      "text/plain": [
       "[np.float32(0.92668736),\n",
       " np.float32(0.9234537),\n",
       " np.float32(0.8914366),\n",
       " np.float32(0.85996324),\n",
       " np.float32(0.9045878),\n",
       " np.float32(0.8661933),\n",
       " np.float32(0.8529511),\n",
       " np.float32(0.8320824),\n",
       " np.float32(0.81313324),\n",
       " np.float32(0.9028811),\n",
       " np.float32(0.9157124),\n",
       " np.float32(0.83247995),\n",
       " np.float32(0.9164997),\n",
       " np.float32(0.84919524),\n",
       " np.float32(0.90398437),\n",
       " np.float32(0.8242637),\n",
       " np.float32(0.78115076),\n",
       " np.float32(0.80533254),\n",
       " np.float32(0.92938054),\n",
       " np.float32(0.89034694)]"
      ]
     },
     "execution_count": 67,
     "metadata": {},
     "output_type": "execute_result"
    }
   ],
   "source": [
    "class1class2"
   ]
  },
  {
   "cell_type": "code",
   "execution_count": 68,
   "id": "29441f40-36a7-4854-98be-5d128bae49cd",
   "metadata": {},
   "outputs": [
    {
     "ename": "FileNotFoundError",
     "evalue": "[Errno 2] No such file or directory: 'output/VoiceDivergenceD3.png'",
     "output_type": "error",
     "traceback": [
      "\u001b[1;31m---------------------------------------------------------------------------\u001b[0m",
      "\u001b[1;31mFileNotFoundError\u001b[0m                         Traceback (most recent call last)",
      "Cell \u001b[1;32mIn[68], line 44\u001b[0m\n\u001b[0;32m     42\u001b[0m plt\u001b[38;5;241m.\u001b[39mtight_layout()\n\u001b[0;32m     43\u001b[0m \u001b[38;5;66;03m# Save the plot to a file\u001b[39;00m\n\u001b[1;32m---> 44\u001b[0m \u001b[43mplt\u001b[49m\u001b[38;5;241;43m.\u001b[39;49m\u001b[43msavefig\u001b[49m\u001b[43m(\u001b[49m\u001b[38;5;124;43m'\u001b[39;49m\u001b[38;5;124;43moutput/VoiceDivergenceD3.png\u001b[39;49m\u001b[38;5;124;43m'\u001b[39;49m\u001b[43m,\u001b[49m\u001b[43m \u001b[49m\u001b[43mdpi\u001b[49m\u001b[38;5;241;43m=\u001b[39;49m\u001b[38;5;241;43m300\u001b[39;49m\u001b[43m,\u001b[49m\u001b[43m \u001b[49m\u001b[43mbbox_inches\u001b[49m\u001b[38;5;241;43m=\u001b[39;49m\u001b[38;5;124;43m'\u001b[39;49m\u001b[38;5;124;43mtight\u001b[39;49m\u001b[38;5;124;43m'\u001b[39;49m\u001b[43m)\u001b[49m  \u001b[38;5;66;03m# Save as a PNG file with high resolution\u001b[39;00m\n\u001b[0;32m     46\u001b[0m \u001b[38;5;66;03m# Show the plot\u001b[39;00m\n\u001b[0;32m     47\u001b[0m plt\u001b[38;5;241m.\u001b[39mshow()\n",
      "File \u001b[1;32m~\\AppData\\Local\\Programs\\Python\\Python39\\lib\\site-packages\\matplotlib\\pyplot.py:1228\u001b[0m, in \u001b[0;36msavefig\u001b[1;34m(*args, **kwargs)\u001b[0m\n\u001b[0;32m   1225\u001b[0m fig \u001b[38;5;241m=\u001b[39m gcf()\n\u001b[0;32m   1226\u001b[0m \u001b[38;5;66;03m# savefig default implementation has no return, so mypy is unhappy\u001b[39;00m\n\u001b[0;32m   1227\u001b[0m \u001b[38;5;66;03m# presumably this is here because subclasses can return?\u001b[39;00m\n\u001b[1;32m-> 1228\u001b[0m res \u001b[38;5;241m=\u001b[39m fig\u001b[38;5;241m.\u001b[39msavefig(\u001b[38;5;241m*\u001b[39margs, \u001b[38;5;241m*\u001b[39m\u001b[38;5;241m*\u001b[39mkwargs)  \u001b[38;5;66;03m# type: ignore[func-returns-value]\u001b[39;00m\n\u001b[0;32m   1229\u001b[0m fig\u001b[38;5;241m.\u001b[39mcanvas\u001b[38;5;241m.\u001b[39mdraw_idle()  \u001b[38;5;66;03m# Need this if 'transparent=True', to reset colors.\u001b[39;00m\n\u001b[0;32m   1230\u001b[0m \u001b[38;5;28;01mreturn\u001b[39;00m res\n",
      "File \u001b[1;32m~\\AppData\\Local\\Programs\\Python\\Python39\\lib\\site-packages\\matplotlib\\figure.py:3395\u001b[0m, in \u001b[0;36mFigure.savefig\u001b[1;34m(self, fname, transparent, **kwargs)\u001b[0m\n\u001b[0;32m   3393\u001b[0m     \u001b[38;5;28;01mfor\u001b[39;00m ax \u001b[38;5;129;01min\u001b[39;00m \u001b[38;5;28mself\u001b[39m\u001b[38;5;241m.\u001b[39maxes:\n\u001b[0;32m   3394\u001b[0m         _recursively_make_axes_transparent(stack, ax)\n\u001b[1;32m-> 3395\u001b[0m \u001b[38;5;28mself\u001b[39m\u001b[38;5;241m.\u001b[39mcanvas\u001b[38;5;241m.\u001b[39mprint_figure(fname, \u001b[38;5;241m*\u001b[39m\u001b[38;5;241m*\u001b[39mkwargs)\n",
      "File \u001b[1;32m~\\AppData\\Local\\Programs\\Python\\Python39\\lib\\site-packages\\matplotlib\\backend_bases.py:2204\u001b[0m, in \u001b[0;36mFigureCanvasBase.print_figure\u001b[1;34m(self, filename, dpi, facecolor, edgecolor, orientation, format, bbox_inches, pad_inches, bbox_extra_artists, backend, **kwargs)\u001b[0m\n\u001b[0;32m   2200\u001b[0m \u001b[38;5;28;01mtry\u001b[39;00m:\n\u001b[0;32m   2201\u001b[0m     \u001b[38;5;66;03m# _get_renderer may change the figure dpi (as vector formats\u001b[39;00m\n\u001b[0;32m   2202\u001b[0m     \u001b[38;5;66;03m# force the figure dpi to 72), so we need to set it again here.\u001b[39;00m\n\u001b[0;32m   2203\u001b[0m     \u001b[38;5;28;01mwith\u001b[39;00m cbook\u001b[38;5;241m.\u001b[39m_setattr_cm(\u001b[38;5;28mself\u001b[39m\u001b[38;5;241m.\u001b[39mfigure, dpi\u001b[38;5;241m=\u001b[39mdpi):\n\u001b[1;32m-> 2204\u001b[0m         result \u001b[38;5;241m=\u001b[39m print_method(\n\u001b[0;32m   2205\u001b[0m             filename,\n\u001b[0;32m   2206\u001b[0m             facecolor\u001b[38;5;241m=\u001b[39mfacecolor,\n\u001b[0;32m   2207\u001b[0m             edgecolor\u001b[38;5;241m=\u001b[39medgecolor,\n\u001b[0;32m   2208\u001b[0m             orientation\u001b[38;5;241m=\u001b[39morientation,\n\u001b[0;32m   2209\u001b[0m             bbox_inches_restore\u001b[38;5;241m=\u001b[39m_bbox_inches_restore,\n\u001b[0;32m   2210\u001b[0m             \u001b[38;5;241m*\u001b[39m\u001b[38;5;241m*\u001b[39mkwargs)\n\u001b[0;32m   2211\u001b[0m \u001b[38;5;28;01mfinally\u001b[39;00m:\n\u001b[0;32m   2212\u001b[0m     \u001b[38;5;28;01mif\u001b[39;00m bbox_inches \u001b[38;5;129;01mand\u001b[39;00m restore_bbox:\n",
      "File \u001b[1;32m~\\AppData\\Local\\Programs\\Python\\Python39\\lib\\site-packages\\matplotlib\\backend_bases.py:2054\u001b[0m, in \u001b[0;36mFigureCanvasBase._switch_canvas_and_return_print_method.<locals>.<lambda>\u001b[1;34m(*args, **kwargs)\u001b[0m\n\u001b[0;32m   2050\u001b[0m     optional_kws \u001b[38;5;241m=\u001b[39m {  \u001b[38;5;66;03m# Passed by print_figure for other renderers.\u001b[39;00m\n\u001b[0;32m   2051\u001b[0m         \u001b[38;5;124m\"\u001b[39m\u001b[38;5;124mdpi\u001b[39m\u001b[38;5;124m\"\u001b[39m, \u001b[38;5;124m\"\u001b[39m\u001b[38;5;124mfacecolor\u001b[39m\u001b[38;5;124m\"\u001b[39m, \u001b[38;5;124m\"\u001b[39m\u001b[38;5;124medgecolor\u001b[39m\u001b[38;5;124m\"\u001b[39m, \u001b[38;5;124m\"\u001b[39m\u001b[38;5;124morientation\u001b[39m\u001b[38;5;124m\"\u001b[39m,\n\u001b[0;32m   2052\u001b[0m         \u001b[38;5;124m\"\u001b[39m\u001b[38;5;124mbbox_inches_restore\u001b[39m\u001b[38;5;124m\"\u001b[39m}\n\u001b[0;32m   2053\u001b[0m     skip \u001b[38;5;241m=\u001b[39m optional_kws \u001b[38;5;241m-\u001b[39m {\u001b[38;5;241m*\u001b[39minspect\u001b[38;5;241m.\u001b[39msignature(meth)\u001b[38;5;241m.\u001b[39mparameters}\n\u001b[1;32m-> 2054\u001b[0m     print_method \u001b[38;5;241m=\u001b[39m functools\u001b[38;5;241m.\u001b[39mwraps(meth)(\u001b[38;5;28;01mlambda\u001b[39;00m \u001b[38;5;241m*\u001b[39margs, \u001b[38;5;241m*\u001b[39m\u001b[38;5;241m*\u001b[39mkwargs: meth(\n\u001b[0;32m   2055\u001b[0m         \u001b[38;5;241m*\u001b[39margs, \u001b[38;5;241m*\u001b[39m\u001b[38;5;241m*\u001b[39m{k: v \u001b[38;5;28;01mfor\u001b[39;00m k, v \u001b[38;5;129;01min\u001b[39;00m kwargs\u001b[38;5;241m.\u001b[39mitems() \u001b[38;5;28;01mif\u001b[39;00m k \u001b[38;5;129;01mnot\u001b[39;00m \u001b[38;5;129;01min\u001b[39;00m skip}))\n\u001b[0;32m   2056\u001b[0m \u001b[38;5;28;01melse\u001b[39;00m:  \u001b[38;5;66;03m# Let third-parties do as they see fit.\u001b[39;00m\n\u001b[0;32m   2057\u001b[0m     print_method \u001b[38;5;241m=\u001b[39m meth\n",
      "File \u001b[1;32m~\\AppData\\Local\\Programs\\Python\\Python39\\lib\\site-packages\\matplotlib\\backends\\backend_agg.py:496\u001b[0m, in \u001b[0;36mFigureCanvasAgg.print_png\u001b[1;34m(self, filename_or_obj, metadata, pil_kwargs)\u001b[0m\n\u001b[0;32m    449\u001b[0m \u001b[38;5;28;01mdef\u001b[39;00m\u001b[38;5;250m \u001b[39m\u001b[38;5;21mprint_png\u001b[39m(\u001b[38;5;28mself\u001b[39m, filename_or_obj, \u001b[38;5;241m*\u001b[39m, metadata\u001b[38;5;241m=\u001b[39m\u001b[38;5;28;01mNone\u001b[39;00m, pil_kwargs\u001b[38;5;241m=\u001b[39m\u001b[38;5;28;01mNone\u001b[39;00m):\n\u001b[0;32m    450\u001b[0m \u001b[38;5;250m    \u001b[39m\u001b[38;5;124;03m\"\"\"\u001b[39;00m\n\u001b[0;32m    451\u001b[0m \u001b[38;5;124;03m    Write the figure to a PNG file.\u001b[39;00m\n\u001b[0;32m    452\u001b[0m \n\u001b[1;32m   (...)\u001b[0m\n\u001b[0;32m    494\u001b[0m \u001b[38;5;124;03m        *metadata*, including the default 'Software' key.\u001b[39;00m\n\u001b[0;32m    495\u001b[0m \u001b[38;5;124;03m    \"\"\"\u001b[39;00m\n\u001b[1;32m--> 496\u001b[0m     \u001b[38;5;28;43mself\u001b[39;49m\u001b[38;5;241;43m.\u001b[39;49m\u001b[43m_print_pil\u001b[49m\u001b[43m(\u001b[49m\u001b[43mfilename_or_obj\u001b[49m\u001b[43m,\u001b[49m\u001b[43m \u001b[49m\u001b[38;5;124;43m\"\u001b[39;49m\u001b[38;5;124;43mpng\u001b[39;49m\u001b[38;5;124;43m\"\u001b[39;49m\u001b[43m,\u001b[49m\u001b[43m \u001b[49m\u001b[43mpil_kwargs\u001b[49m\u001b[43m,\u001b[49m\u001b[43m \u001b[49m\u001b[43mmetadata\u001b[49m\u001b[43m)\u001b[49m\n",
      "File \u001b[1;32m~\\AppData\\Local\\Programs\\Python\\Python39\\lib\\site-packages\\matplotlib\\backends\\backend_agg.py:445\u001b[0m, in \u001b[0;36mFigureCanvasAgg._print_pil\u001b[1;34m(self, filename_or_obj, fmt, pil_kwargs, metadata)\u001b[0m\n\u001b[0;32m    440\u001b[0m \u001b[38;5;250m\u001b[39m\u001b[38;5;124;03m\"\"\"\u001b[39;00m\n\u001b[0;32m    441\u001b[0m \u001b[38;5;124;03mDraw the canvas, then save it using `.image.imsave` (to which\u001b[39;00m\n\u001b[0;32m    442\u001b[0m \u001b[38;5;124;03m*pil_kwargs* and *metadata* are forwarded).\u001b[39;00m\n\u001b[0;32m    443\u001b[0m \u001b[38;5;124;03m\"\"\"\u001b[39;00m\n\u001b[0;32m    444\u001b[0m FigureCanvasAgg\u001b[38;5;241m.\u001b[39mdraw(\u001b[38;5;28mself\u001b[39m)\n\u001b[1;32m--> 445\u001b[0m \u001b[43mmpl\u001b[49m\u001b[38;5;241;43m.\u001b[39;49m\u001b[43mimage\u001b[49m\u001b[38;5;241;43m.\u001b[39;49m\u001b[43mimsave\u001b[49m\u001b[43m(\u001b[49m\n\u001b[0;32m    446\u001b[0m \u001b[43m    \u001b[49m\u001b[43mfilename_or_obj\u001b[49m\u001b[43m,\u001b[49m\u001b[43m \u001b[49m\u001b[38;5;28;43mself\u001b[39;49m\u001b[38;5;241;43m.\u001b[39;49m\u001b[43mbuffer_rgba\u001b[49m\u001b[43m(\u001b[49m\u001b[43m)\u001b[49m\u001b[43m,\u001b[49m\u001b[43m \u001b[49m\u001b[38;5;28;43mformat\u001b[39;49m\u001b[38;5;241;43m=\u001b[39;49m\u001b[43mfmt\u001b[49m\u001b[43m,\u001b[49m\u001b[43m \u001b[49m\u001b[43morigin\u001b[49m\u001b[38;5;241;43m=\u001b[39;49m\u001b[38;5;124;43m\"\u001b[39;49m\u001b[38;5;124;43mupper\u001b[39;49m\u001b[38;5;124;43m\"\u001b[39;49m\u001b[43m,\u001b[49m\n\u001b[0;32m    447\u001b[0m \u001b[43m    \u001b[49m\u001b[43mdpi\u001b[49m\u001b[38;5;241;43m=\u001b[39;49m\u001b[38;5;28;43mself\u001b[39;49m\u001b[38;5;241;43m.\u001b[39;49m\u001b[43mfigure\u001b[49m\u001b[38;5;241;43m.\u001b[39;49m\u001b[43mdpi\u001b[49m\u001b[43m,\u001b[49m\u001b[43m \u001b[49m\u001b[43mmetadata\u001b[49m\u001b[38;5;241;43m=\u001b[39;49m\u001b[43mmetadata\u001b[49m\u001b[43m,\u001b[49m\u001b[43m \u001b[49m\u001b[43mpil_kwargs\u001b[49m\u001b[38;5;241;43m=\u001b[39;49m\u001b[43mpil_kwargs\u001b[49m\u001b[43m)\u001b[49m\n",
      "File \u001b[1;32m~\\AppData\\Local\\Programs\\Python\\Python39\\lib\\site-packages\\matplotlib\\image.py:1676\u001b[0m, in \u001b[0;36mimsave\u001b[1;34m(fname, arr, vmin, vmax, cmap, format, origin, dpi, metadata, pil_kwargs)\u001b[0m\n\u001b[0;32m   1674\u001b[0m pil_kwargs\u001b[38;5;241m.\u001b[39msetdefault(\u001b[38;5;124m\"\u001b[39m\u001b[38;5;124mformat\u001b[39m\u001b[38;5;124m\"\u001b[39m, \u001b[38;5;28mformat\u001b[39m)\n\u001b[0;32m   1675\u001b[0m pil_kwargs\u001b[38;5;241m.\u001b[39msetdefault(\u001b[38;5;124m\"\u001b[39m\u001b[38;5;124mdpi\u001b[39m\u001b[38;5;124m\"\u001b[39m, (dpi, dpi))\n\u001b[1;32m-> 1676\u001b[0m image\u001b[38;5;241m.\u001b[39msave(fname, \u001b[38;5;241m*\u001b[39m\u001b[38;5;241m*\u001b[39mpil_kwargs)\n",
      "File \u001b[1;32m~\\AppData\\Local\\Programs\\Python\\Python39\\lib\\site-packages\\PIL\\Image.py:2436\u001b[0m, in \u001b[0;36mImage.save\u001b[1;34m(self, fp, format, **params)\u001b[0m\n\u001b[0;32m   2434\u001b[0m         fp \u001b[38;5;241m=\u001b[39m builtins\u001b[38;5;241m.\u001b[39mopen(filename, \u001b[38;5;124m\"\u001b[39m\u001b[38;5;124mr+b\u001b[39m\u001b[38;5;124m\"\u001b[39m)\n\u001b[0;32m   2435\u001b[0m     \u001b[38;5;28;01melse\u001b[39;00m:\n\u001b[1;32m-> 2436\u001b[0m         fp \u001b[38;5;241m=\u001b[39m \u001b[43mbuiltins\u001b[49m\u001b[38;5;241;43m.\u001b[39;49m\u001b[43mopen\u001b[49m\u001b[43m(\u001b[49m\u001b[43mfilename\u001b[49m\u001b[43m,\u001b[49m\u001b[43m \u001b[49m\u001b[38;5;124;43m\"\u001b[39;49m\u001b[38;5;124;43mw+b\u001b[39;49m\u001b[38;5;124;43m\"\u001b[39;49m\u001b[43m)\u001b[49m\n\u001b[0;32m   2438\u001b[0m \u001b[38;5;28;01mtry\u001b[39;00m:\n\u001b[0;32m   2439\u001b[0m     save_handler(\u001b[38;5;28mself\u001b[39m, fp, filename)\n",
      "\u001b[1;31mFileNotFoundError\u001b[0m: [Errno 2] No such file or directory: 'output/VoiceDivergenceD3.png'"
     ]
    },
    {
     "data": {
      "image/png": "[encoded data removed]",
      "text/plain": [
       "<Figure size 650x420 with 1 Axes>"
      ]
     },
     "metadata": {},
     "output_type": "display_data"
    }
   ],
   "source": [
    "                                                # FIG: 3 -> INTERCLASS SIMILARITIES\n",
    "\n",
    "import pandas as pd\n",
    "import numpy as np\n",
    "import matplotlib.pyplot as plt\n",
    "import seaborn as sns\n",
    "\n",
    "# Set figure size\n",
    "plt.figure(figsize=(6.5, 4.2))  # Set the size of the figure (width, height)\n",
    "\n",
    "# Generate sample similarity data for four classes (each with 20 values in the range 0 to 1)\n",
    "np.random.seed(42)  # For reproducibility\n",
    "class1class2 = calculate_interclass_similarity('class1', 'class2')\n",
    "class1class3 = calculate_interclass_similarity('class1', 'class3')\n",
    "class1class4 = calculate_interclass_similarity('class1', 'class4')\n",
    "class2class3 = calculate_interclass_similarity('class2', 'class3')\n",
    "class2class4 = calculate_interclass_similarity('class2', 'class4')\n",
    "class3class4 = calculate_interclass_similarity('class3', 'class4')\n",
    "\n",
    "# Sample DataFrame with four columns\n",
    "data=pd.DataFrame({'Class1 vs Class2':class1class2,'Class1 vs Class3':class1class3,'Class1 vs Class4':class1class4,'Class2 vs Class3':class2class3,'Class2 vs Class4':class2class4,'Class3 vs Class4':class3class4})\n",
    "df = pd.DataFrame(data)\n",
    "\n",
    "# Plot the probability distributions\n",
    "#plt.figure(figsize=(10, 6))\n",
    "\n",
    "# Define colors and line styles for each column\n",
    "colors = ['#1f77b4', '#ff7f0e', '#2ca02c', '#d62728', '#9467bd', '#8c564b']\n",
    "linestyles = ['-.', '--', '-', '-', '-.', '--']\n",
    "\n",
    "# Plot the probability distributions with unique colors and line styles\n",
    "for column, color, linestyle in zip(df.columns, colors, linestyles):\n",
    "    sns.kdeplot(df[column], label=column, color=color, linestyle=linestyle)\n",
    "\n",
    "#plt.title('Probability Distributions of Four Columns')\n",
    "plt.xlabel('Similarity',fontsize=12)\n",
    "plt.ylabel('Density',fontsize=12)\n",
    "plt.yticks(fontsize=12)  # Set y-tick labels font size\n",
    "plt.legend(loc='upper right',fontsize=12)  # Increase legend font size\n",
    "\n",
    "# Optimize layout\n",
    "plt.tight_layout()\n",
    "# Save the plot to a file\n",
    "plt.savefig('output/VoiceDivergenceD3.png', dpi=300, bbox_inches='tight')  # Save as a PNG file with high resolution\n",
    "\n",
    "# Show the plot\n",
    "plt.show()"
   ]
  },
  {
   "cell_type": "code",
   "execution_count": null,
   "id": "19754eee-5c1e-47e6-bbaa-b2cef05a1641",
   "metadata": {},
   "outputs": [],
   "source": []
  }
 ],
 "metadata": {
  "kernelspec": {
   "display_name": "Python 3 (ipykernel)",
   "language": "python",
   "name": "python3"
  },
  "language_info": {
   "codemirror_mode": {
    "name": "ipython",
    "version": 3
   },
   "file_extension": ".py",
   "mimetype": "text/x-python",
   "name": "python",
   "nbconvert_exporter": "python",
   "pygments_lexer": "ipython3",
   "version": "3.9.7"
  }
 },
 "nbformat": 4,
 "nbformat_minor": 5
}
