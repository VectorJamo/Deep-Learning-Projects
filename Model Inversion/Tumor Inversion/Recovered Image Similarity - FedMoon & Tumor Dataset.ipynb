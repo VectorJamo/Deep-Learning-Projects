{
 "cells": [
  {
   "cell_type": "code",
   "execution_count": 1,
   "id": "646b38c2-386a-4f83-a983-ea764ad8267f",
   "metadata": {},
   "outputs": [],
   "source": [
    "# Attempting to recover training data using model's parameters and a DCGAN that was trained on similar data\n",
    "# Author: Suraj Neupane\n",
    "# Written from scratch as a part of a Research Project 2025, Concordia University of Edmonton.\n",
    "import numpy as np\n",
    "\n",
    "import torch\n",
    "from torch import nn\n",
    "from torch.nn import functional\n",
    "\n",
    "from torch.utils import data\n",
    "from torch.utils.data import DataLoader\n",
    "\n",
    "import torchvision\n",
    "from torchvision import datasets\n",
    "from torchvision import transforms\n",
    "\n",
    "import pickle\n",
    "\n",
    "import matplotlib.pyplot as plt\n",
    "%matplotlib inline"
   ]
  },
  {
   "cell_type": "code",
   "execution_count": 2,
   "id": "8b80ddb2-ed75-4870-85b4-9300fce0df7e",
   "metadata": {},
   "outputs": [
    {
     "data": {
      "text/plain": [
       "'2.5.1+cu118'"
      ]
     },
     "execution_count": 2,
     "metadata": {},
     "output_type": "execute_result"
    }
   ],
   "source": [
    "torch.__version__"
   ]
  },
  {
   "cell_type": "code",
   "execution_count": 3,
   "id": "d6950585-eb31-4f61-bd60-5bf8716fcdef",
   "metadata": {},
   "outputs": [],
   "source": [
    "device = 'cuda' if torch.cuda.is_available() else 'cpu'"
   ]
  },
  {
   "cell_type": "code",
   "execution_count": 4,
   "id": "36c47e07-6b7d-4123-a59d-5d465f9ef280",
   "metadata": {},
   "outputs": [
    {
     "data": {
      "text/plain": [
       "'cuda'"
      ]
     },
     "execution_count": 4,
     "metadata": {},
     "output_type": "execute_result"
    }
   ],
   "source": [
    "device"
   ]
  },
  {
   "cell_type": "code",
   "execution_count": 5,
   "id": "b852ca55-f33e-469f-b7b9-e00d21124927",
   "metadata": {},
   "outputs": [],
   "source": [
    "# DCGAN Implementation Class\n",
    "# Discriminator\n",
    "class Discriminator(nn.Module):\n",
    "    def __init__(self, img_channels, features_d):\n",
    "        super().__init__()\n",
    "        self.disc = nn.Sequential(\n",
    "            # Input shape: img_channels x 64 x 64\n",
    "            nn.Conv2d(\n",
    "              in_channels=img_channels, out_channels=features_d, kernel_size=4, stride=2, padding=1\n",
    "            ), # Output shape: features_d x 32 x 32\n",
    "            nn.LeakyReLU(0.2),\n",
    "            self._block(features_d, features_d*2, 4, 2, 1), # Output shape: features_d*2 x 16 x 16\n",
    "            self._block(features_d*2, features_d*4, 4, 2, 1), # Output shape: features_d*4 x 8 x 8\n",
    "            self._block(features_d*4, features_d*8, 4, 2, 1), # Output shape: features_d*8 x 4 x 4\n",
    "           \n",
    "            nn.Conv2d(in_channels=features_d*8, out_channels=1, kernel_size=4, stride=2, padding=0), # Output shape: 1 x 1\n",
    "            nn.Sigmoid(),\n",
    "        )\n",
    "\n",
    "    def _block(self, in_channels, out_channels, kernel_size, stride, padding):\n",
    "        return nn.Sequential(\n",
    "            nn.Conv2d(in_channels, out_channels, kernel_size, stride, padding, bias=False),\n",
    "            nn.BatchNorm2d(out_channels),\n",
    "            nn.LeakyReLU(0.2),\n",
    "        )\n",
    "\n",
    "    def forward(self, X):\n",
    "        return self.disc(X)\n"
   ]
  },
  {
   "cell_type": "code",
   "execution_count": 6,
   "id": "5afe02e5-61d3-4f25-8933-8484e519cd4a",
   "metadata": {},
   "outputs": [],
   "source": [
    "# Generator\n",
    "class Generator(nn.Module):\n",
    "    def __init__(self, z_dim, img_channels, features_g):\n",
    "        super().__init__()\n",
    "        self.gen = nn.Sequential(\n",
    "            self._block(z_dim, features_g*16, 4, 1, 0), # z_dim: (batch_size, 100, 1, 1) -> (batch_size, 1024, 4, 4)\n",
    "            self._block(features_g*16, features_g*8, 4, 2, 1), # z_dim: (batch_size, 1024, 4, 4) -> (batch_size, 512, 8, 8)\n",
    "            self._block(features_g*8, features_g*4, 4, 2, 1), # z_dim: (batch_size, 512, 8, 8) -> (batch_size, 256, 16, 16)\n",
    "            self._block(features_g*4, features_g*2, 4, 2, 1), # z_dim: (batch_size, 128, 16, 16) -> (batch_size, 64, 32, 32)\n",
    "            nn.ConvTranspose2d(\n",
    "                in_channels=features_g*2, out_channels=img_channels, kernel_size=4, stride=2, padding=1 # z_dim: (batch_size, 64, 32, 32) -> (batch_size, 1, 64, 64)\n",
    "            ),\n",
    "            nn.Tanh(),\n",
    "        )\n",
    "        \n",
    "    def _block(self, in_channels, out_channels, kernel_size, stride, padding):\n",
    "        return nn.Sequential(\n",
    "            nn.ConvTranspose2d(\n",
    "                in_channels, out_channels, kernel_size, stride, padding, bias=False,\n",
    "            ),\n",
    "            nn.InstanceNorm2d(out_channels, affine=True),\n",
    "            nn.ReLU(),\n",
    "        )\n",
    "\n",
    "    def forward(self, X):\n",
    "        return self.gen(X)"
   ]
  },
  {
   "cell_type": "code",
   "execution_count": 7,
   "id": "48c1be35-d58a-4d0c-990d-9250fbdbf1b3",
   "metadata": {},
   "outputs": [],
   "source": [
    "# Hyperparams\n",
    "z_dim = 100\n",
    "img_channels = 1\n",
    "features_disc = 64\n",
    "features_gen = 64"
   ]
  },
  {
   "cell_type": "code",
   "execution_count": 8,
   "id": "f2dc1f40-5c2e-4903-b2e7-7abe5cae9772",
   "metadata": {},
   "outputs": [],
   "source": [
    "# Create the model instances\n",
    "gen = Generator(z_dim, img_channels, features_gen).to(device)\n",
    "disc = Discriminator(img_channels, features_disc).to(device)"
   ]
  },
  {
   "cell_type": "code",
   "execution_count": 9,
   "id": "bc7a5deb-f8d8-41d4-aed3-d012d39a84b9",
   "metadata": {},
   "outputs": [
    {
     "data": {
      "text/plain": [
       "<All keys matched successfully>"
      ]
     },
     "execution_count": 9,
     "metadata": {},
     "output_type": "execute_result"
    }
   ],
   "source": [
    "# Load the trained GAN\n",
    "gen.load_state_dict(torch.load('saved models/Generator2.pth', weights_only=True))\n",
    "disc.load_state_dict(torch.load('saved models/Discriminator2.pth', weights_only=True))"
   ]
  },
  {
   "cell_type": "code",
   "execution_count": 10,
   "id": "a504e932-e168-4bb8-88cc-eea0810aafb0",
   "metadata": {},
   "outputs": [],
   "source": [
    "# Generate a random fake image\n",
    "noise = torch.randn(1, z_dim, 1, 1).to(device)\n",
    "fake_img = gen(noise)"
   ]
  },
  {
   "cell_type": "code",
   "execution_count": 11,
   "id": "98b5d73f-b130-4bc1-a868-c225bd2abe62",
   "metadata": {},
   "outputs": [
    {
     "data": {
      "text/plain": [
       "torch.Size([1, 1, 64, 64])"
      ]
     },
     "execution_count": 11,
     "metadata": {},
     "output_type": "execute_result"
    }
   ],
   "source": [
    "fake_img.shape"
   ]
  },
  {
   "cell_type": "code",
   "execution_count": 12,
   "id": "9d19338c-18e4-4b6e-842f-a225718fa8bb",
   "metadata": {},
   "outputs": [
    {
     "name": "stdout",
     "output_type": "stream",
     "text": [
      "torch.Size([64, 64])\n"
     ]
    },
    {
     "data": {
      "text/plain": [
       "<matplotlib.image.AxesImage at 0x26d5d3e8ac0>"
      ]
     },
     "execution_count": 12,
     "metadata": {},
     "output_type": "execute_result"
    },
    {
     "data": {
      "image/png": "[encoded data removed]",
      "text/plain": [
       "<Figure size 640x480 with 1 Axes>"
      ]
     },
     "metadata": {},
     "output_type": "display_data"
    }
   ],
   "source": [
    "fake_img = fake_img.squeeze()\n",
    "print(fake_img.shape)\n",
    "plt.axis(False)\n",
    "plt.title('Fake Generated Image:')\n",
    "plt.imshow(fake_img.cpu().detach(), cmap='gray')"
   ]
  },
  {
   "cell_type": "code",
   "execution_count": 13,
   "id": "cf2aefac-a759-4335-a3de-2065d6a6a9a5",
   "metadata": {},
   "outputs": [],
   "source": [
    "# Target Model\n",
    "class TFCNN(nn.Module):\n",
    "    def __init__(self, n_classes):\n",
    "        super().__init__()\n",
    "        self.n_classes = n_classes\n",
    "\n",
    "        self.encoder = nn.Sequential(\n",
    "            nn.Conv2d(3, 32, 3, stride=1, padding=1),\n",
    "            nn.ReLU(True),\n",
    "            nn.MaxPool2d(2),\n",
    "            nn.Conv2d(32, 64, 3, stride=1, padding=1),\n",
    "            nn.ReLU(True),\n",
    "            nn.MaxPool2d(2),\n",
    "            nn.Conv2d(64, 64, 3, stride=1, padding=1),\n",
    "            nn.ReLU(True),\n",
    "            nn.MaxPool2d(2),\n",
    "            Reshape(),\n",
    "        )\n",
    "\n",
    "        self.h_size = 64 * 4 * 4\n",
    "\n",
    "        self.classifier = nn.Sequential(\n",
    "            nn.Linear(64 * 4 * 4, 128),\n",
    "            nn.ReLU(True),\n",
    "            nn.Linear(128, n_classes)\n",
    "        )\n",
    "\n",
    "    def forward(self, xs):\n",
    "        code = self.encoder(xs)\n",
    "        logits = self.classifier(code)\n",
    "        return code, logits\n"
   ]
  },
  {
   "cell_type": "code",
   "execution_count": 14,
   "id": "d28876e2-91ee-4ebf-bc52-b71dc82edfa2",
   "metadata": {},
   "outputs": [],
   "source": [
    "class Reshape(nn.Module):\n",
    "    def __init__(self,):\n",
    "        super().__init__()\n",
    "\n",
    "    def forward(self, xs):\n",
    "        return xs.reshape((xs.shape[0], -1))"
   ]
  },
  {
   "cell_type": "code",
   "execution_count": 15,
   "id": "dd57210c-2c18-4651-8f29-be94a7a7a88f",
   "metadata": {},
   "outputs": [],
   "source": [
    "class ClassifyNet(nn.Module):\n",
    "    def __init__(self, net, init_way, n_classes, input_size=None):\n",
    "        super().__init__()\n",
    "        self.net = net\n",
    "        self.init_way = init_way\n",
    "        self.n_classes = n_classes\n",
    "\n",
    "        model = TFCNN(n_classes)\n",
    "\n",
    "        self.h_size = model.h_size\n",
    "\n",
    "        # Convo and pool layers\n",
    "        self.encoder = model.encoder\n",
    "\n",
    "        # Classifier layer\n",
    "        self.classifier = nn.Linear(\n",
    "            self.h_size, self.n_classes, bias=False\n",
    "        )\n",
    "\n",
    "        if self.init_way == \"orth\":\n",
    "            ws = get_orth_weights(self.h_size, self.n_classes)\n",
    "            self.classifier.load_state_dict({\"weight\": ws})\n",
    "\n",
    "    def forward(self, xs):\n",
    "        hs = self.encoder(xs)\n",
    "        logits = self.classifier(hs)\n",
    "        return hs, logits"
   ]
  },
  {
   "cell_type": "code",
   "execution_count": 16,
   "id": "83ea3c08-0470-4c9a-ba15-8328a316b3ab",
   "metadata": {},
   "outputs": [],
   "source": [
    "def load_target_model(base_net, n_classes, path):\n",
    "    # Create the base model\n",
    "    model = ClassifyNet(net=base_net, init_way='none', n_classes=n_classes)\n",
    "    # Load the model\n",
    "    model.load_state_dict(torch.load(path, weights_only=True))\n",
    "\n",
    "    return model"
   ]
  },
  {
   "cell_type": "code",
   "execution_count": 17,
   "id": "0880f1aa-9d08-445a-85ac-f1ff3cebde04",
   "metadata": {},
   "outputs": [
    {
     "name": "stdout",
     "output_type": "stream",
     "text": [
      "Model loaded successfully!\n",
      "Number of parameters in the loaded model: 60416\n"
     ]
    }
   ],
   "source": [
    "# Target Model Loading\n",
    "BASE_NET = 'TFCNN'\n",
    "DATASET = 'tumor4'\n",
    "N_CLASSES = 4\n",
    "\n",
    "target_model = load_target_model(base_net=BASE_NET, n_classes=N_CLASSES, path='saved models/moon_global_model.path').to(device)\n",
    "print('Model loaded successfully!')\n",
    "target_model.eval()\n",
    "\n",
    "num_params = sum(p.numel() for p in target_model.parameters())\n",
    "print('Number of parameters in the loaded model:', num_params)\n"
   ]
  },
  {
   "cell_type": "code",
   "execution_count": 18,
   "id": "f843f19e-b2a5-4ffe-b22b-de4ff93c5643",
   "metadata": {},
   "outputs": [],
   "source": [
    "# BEGIN BATCH MODEL INVERSION\n",
    "img_count = 20\n",
    "latent_vectors = torch.randn(img_count, z_dim, 1, 1, requires_grad=True) # Start with 20 random noises"
   ]
  },
  {
   "cell_type": "code",
   "execution_count": 19,
   "id": "c21320ed-d5ac-4919-aaad-8cfa093998a6",
   "metadata": {},
   "outputs": [],
   "source": [
    "def recover_images(count, target_image_class, latent_vectors):\n",
    "    optimized_latent_vectors = []\n",
    "    \n",
    "    for x in range(0, count):\n",
    "        z = latent_vectors[x].unsqueeze(dim=0).clone().detach().requires_grad_(True)\n",
    "        \n",
    "        learning_rate = 0.01\n",
    "        target_class = 1 # The second class\n",
    "        \n",
    "        # Create the optimizer\n",
    "        optimizer = torch.optim.Adam([z], lr=learning_rate)\n",
    "        \n",
    "        # Loss function (e.g., Cross-Entropy with classifier outputs)\n",
    "        loss_fn = nn.CrossEntropyLoss()\n",
    "        target_class = torch.tensor([target_image_class])  # Set the target class\n",
    "    \n",
    "        # Optimization loop to find the best z\n",
    "        rounds = 500\n",
    "        for i in range(rounds):\n",
    "            optimizer.zero_grad()\n",
    "            \n",
    "            generated_image = gen(z.to(device))  # Generate an image from the latent vector\n",
    "            generated_image = generated_image.repeat(1, 3, 1, 1)\n",
    "            generated_image = functional.interpolate(generated_image, size=(32, 32), mode='nearest')\n",
    "            #print(generated_image.shape)\n",
    "            hs, prediction_logits = target_model(generated_image)  # Classifier output\n",
    "            #print(prediction_logits)\n",
    "            #print(type(prediction_logits))\n",
    "            loss = loss_fn(prediction_logits, target_class.to(device))  # Minimize difference with true class\n",
    "            loss.backward()\n",
    "            optimizer.step()\n",
    "            \n",
    "            if i % 50 == 0:\n",
    "                print(f\"Generating Image Number: {x+1} for target class {target_class}. Step {i}, Loss: {loss.item()}\")\n",
    "    \n",
    "        optimized_latent_vectors.append(z)\n",
    "        \n",
    "    return optimized_latent_vectors"
   ]
  },
  {
   "cell_type": "code",
   "execution_count": 20,
   "id": "9ebc9533-23ca-4d44-8aea-9d134281b3a4",
   "metadata": {
    "scrolled": true
   },
   "outputs": [
    {
     "name": "stdout",
     "output_type": "stream",
     "text": [
      "Generating Image Number: 1 for target class tensor([0]). Step 0, Loss: 0.09585505723953247\n",
      "Generating Image Number: 1 for target class tensor([0]). Step 50, Loss: 0.01524322759360075\n",
      "Generating Image Number: 1 for target class tensor([0]). Step 100, Loss: 0.010175495408475399\n",
      "Generating Image Number: 1 for target class tensor([0]). Step 150, Loss: 0.007393971551209688\n",
      "Generating Image Number: 1 for target class tensor([0]). Step 200, Loss: 0.0058484384790062904\n",
      "Generating Image Number: 1 for target class tensor([0]). Step 250, Loss: 0.004784564021974802\n",
      "Generating Image Number: 1 for target class tensor([0]). Step 300, Loss: 0.003981046378612518\n",
      "Generating Image Number: 1 for target class tensor([0]). Step 350, Loss: 0.0034121407661587\n",
      "Generating Image Number: 1 for target class tensor([0]). Step 400, Loss: 0.002974611707031727\n",
      "Generating Image Number: 1 for target class tensor([0]). Step 450, Loss: 0.0026081139221787453\n",
      "Generating Image Number: 2 for target class tensor([0]). Step 0, Loss: 0.3974964916706085\n",
      "Generating Image Number: 2 for target class tensor([0]). Step 50, Loss: 0.012508511543273926\n",
      "Generating Image Number: 2 for target class tensor([0]). Step 100, Loss: 0.00891372561454773\n",
      "Generating Image Number: 2 for target class tensor([0]). Step 150, Loss: 0.007107805926352739\n",
      "Generating Image Number: 2 for target class tensor([0]). Step 200, Loss: 0.006008301395922899\n",
      "Generating Image Number: 2 for target class tensor([0]). Step 250, Loss: 0.005170070566236973\n",
      "Generating Image Number: 2 for target class tensor([0]). Step 300, Loss: 0.004414218943566084\n",
      "Generating Image Number: 2 for target class tensor([0]). Step 350, Loss: 0.003972616046667099\n",
      "Generating Image Number: 2 for target class tensor([0]). Step 400, Loss: 0.0036448491737246513\n",
      "Generating Image Number: 2 for target class tensor([0]). Step 450, Loss: 0.003411784302443266\n",
      "Generating Image Number: 3 for target class tensor([0]). Step 0, Loss: 0.10258319973945618\n",
      "Generating Image Number: 3 for target class tensor([0]). Step 50, Loss: 0.0023582761641591787\n",
      "Generating Image Number: 3 for target class tensor([0]). Step 100, Loss: 0.0014630577061325312\n",
      "Generating Image Number: 3 for target class tensor([0]). Step 150, Loss: 0.0013703251024708152\n",
      "Generating Image Number: 3 for target class tensor([0]). Step 200, Loss: 0.001313062384724617\n",
      "Generating Image Number: 3 for target class tensor([0]). Step 250, Loss: 0.0012652019504457712\n",
      "Generating Image Number: 3 for target class tensor([0]). Step 300, Loss: 0.0011784045491367579\n",
      "Generating Image Number: 3 for target class tensor([0]). Step 350, Loss: 0.0010478964541107416\n",
      "Generating Image Number: 3 for target class tensor([0]). Step 400, Loss: 0.0010056205792352557\n",
      "Generating Image Number: 3 for target class tensor([0]). Step 450, Loss: 0.0009581027552485466\n",
      "Generating Image Number: 4 for target class tensor([0]). Step 0, Loss: 0.0\n",
      "Generating Image Number: 4 for target class tensor([0]). Step 50, Loss: 0.0\n",
      "Generating Image Number: 4 for target class tensor([0]). Step 100, Loss: 0.0\n",
      "Generating Image Number: 4 for target class tensor([0]). Step 150, Loss: 0.0\n",
      "Generating Image Number: 4 for target class tensor([0]). Step 200, Loss: 0.0\n",
      "Generating Image Number: 4 for target class tensor([0]). Step 250, Loss: 0.0\n",
      "Generating Image Number: 4 for target class tensor([0]). Step 300, Loss: 0.0\n",
      "Generating Image Number: 4 for target class tensor([0]). Step 350, Loss: 0.0\n",
      "Generating Image Number: 4 for target class tensor([0]). Step 400, Loss: 0.0\n",
      "Generating Image Number: 4 for target class tensor([0]). Step 450, Loss: 0.0\n",
      "Generating Image Number: 5 for target class tensor([0]). Step 0, Loss: 0.49689996242523193\n",
      "Generating Image Number: 5 for target class tensor([0]). Step 50, Loss: 0.08425858616828918\n",
      "Generating Image Number: 5 for target class tensor([0]). Step 100, Loss: 0.05056476220488548\n",
      "Generating Image Number: 5 for target class tensor([0]). Step 150, Loss: 0.03890495002269745\n",
      "Generating Image Number: 5 for target class tensor([0]). Step 200, Loss: 0.032184064388275146\n",
      "Generating Image Number: 5 for target class tensor([0]). Step 250, Loss: 0.02798258140683174\n",
      "Generating Image Number: 5 for target class tensor([0]). Step 300, Loss: 0.02445635199546814\n",
      "Generating Image Number: 5 for target class tensor([0]). Step 350, Loss: 0.02104196697473526\n",
      "Generating Image Number: 5 for target class tensor([0]). Step 400, Loss: 0.017930205911397934\n",
      "Generating Image Number: 5 for target class tensor([0]). Step 450, Loss: 0.015333273448050022\n",
      "Generating Image Number: 6 for target class tensor([0]). Step 0, Loss: 1.297050952911377\n",
      "Generating Image Number: 6 for target class tensor([0]). Step 50, Loss: 0.6651188731193542\n",
      "Generating Image Number: 6 for target class tensor([0]). Step 100, Loss: 0.45940637588500977\n",
      "Generating Image Number: 6 for target class tensor([0]). Step 150, Loss: 0.2899579405784607\n",
      "Generating Image Number: 6 for target class tensor([0]). Step 200, Loss: 0.15223929286003113\n",
      "Generating Image Number: 6 for target class tensor([0]). Step 250, Loss: 0.10264807194471359\n",
      "Generating Image Number: 6 for target class tensor([0]). Step 300, Loss: 0.07452912628650665\n",
      "Generating Image Number: 6 for target class tensor([0]). Step 350, Loss: 0.05693022906780243\n",
      "Generating Image Number: 6 for target class tensor([0]). Step 400, Loss: 0.045579943805933\n",
      "Generating Image Number: 6 for target class tensor([0]). Step 450, Loss: 0.03826746344566345\n",
      "Generating Image Number: 7 for target class tensor([0]). Step 0, Loss: 0.04940255358815193\n",
      "Generating Image Number: 7 for target class tensor([0]). Step 50, Loss: 0.010875005275011063\n",
      "Generating Image Number: 7 for target class tensor([0]). Step 100, Loss: 0.008079702034592628\n",
      "Generating Image Number: 7 for target class tensor([0]). Step 150, Loss: 0.0066244048066437244\n",
      "Generating Image Number: 7 for target class tensor([0]). Step 200, Loss: 0.005660575814545155\n",
      "Generating Image Number: 7 for target class tensor([0]). Step 250, Loss: 0.004955509677529335\n",
      "Generating Image Number: 7 for target class tensor([0]). Step 300, Loss: 0.004406860563904047\n",
      "Generating Image Number: 7 for target class tensor([0]). Step 350, Loss: 0.00397368473932147\n",
      "Generating Image Number: 7 for target class tensor([0]). Step 400, Loss: 0.0035929428413510323\n",
      "Generating Image Number: 7 for target class tensor([0]). Step 450, Loss: 0.0033056873362511396\n",
      "Generating Image Number: 8 for target class tensor([0]). Step 0, Loss: 0.28894293308258057\n",
      "Generating Image Number: 8 for target class tensor([0]). Step 50, Loss: 0.0195364560931921\n",
      "Generating Image Number: 8 for target class tensor([0]). Step 100, Loss: 0.013553032651543617\n",
      "Generating Image Number: 8 for target class tensor([0]). Step 150, Loss: 0.010807552374899387\n",
      "Generating Image Number: 8 for target class tensor([0]). Step 200, Loss: 0.008949761278927326\n",
      "Generating Image Number: 8 for target class tensor([0]). Step 250, Loss: 0.007649060804396868\n",
      "Generating Image Number: 8 for target class tensor([0]). Step 300, Loss: 0.006799891125410795\n",
      "Generating Image Number: 8 for target class tensor([0]). Step 350, Loss: 0.006089467089623213\n",
      "Generating Image Number: 8 for target class tensor([0]). Step 400, Loss: 0.005517373792827129\n",
      "Generating Image Number: 8 for target class tensor([0]). Step 450, Loss: 0.005147062707692385\n",
      "Generating Image Number: 9 for target class tensor([0]). Step 0, Loss: 1.409522294998169\n",
      "Generating Image Number: 9 for target class tensor([0]). Step 50, Loss: 0.30181604623794556\n",
      "Generating Image Number: 9 for target class tensor([0]). Step 100, Loss: 0.20776985585689545\n",
      "Generating Image Number: 9 for target class tensor([0]). Step 150, Loss: 0.15703988075256348\n",
      "Generating Image Number: 9 for target class tensor([0]). Step 200, Loss: 0.12475725263357162\n",
      "Generating Image Number: 9 for target class tensor([0]). Step 250, Loss: 0.09786581248044968\n",
      "Generating Image Number: 9 for target class tensor([0]). Step 300, Loss: 0.07602186501026154\n",
      "Generating Image Number: 9 for target class tensor([0]). Step 350, Loss: 0.06437449902296066\n",
      "Generating Image Number: 9 for target class tensor([0]). Step 400, Loss: 0.05432504415512085\n",
      "Generating Image Number: 9 for target class tensor([0]). Step 450, Loss: 0.04735585302114487\n",
      "Generating Image Number: 10 for target class tensor([0]). Step 0, Loss: 0.5758235454559326\n",
      "Generating Image Number: 10 for target class tensor([0]). Step 50, Loss: 0.0860293060541153\n",
      "Generating Image Number: 10 for target class tensor([0]). Step 100, Loss: 0.0521806925535202\n",
      "Generating Image Number: 10 for target class tensor([0]). Step 150, Loss: 0.04014618322253227\n",
      "Generating Image Number: 10 for target class tensor([0]). Step 200, Loss: 0.03372034430503845\n",
      "Generating Image Number: 10 for target class tensor([0]). Step 250, Loss: 0.029124202206730843\n",
      "Generating Image Number: 10 for target class tensor([0]). Step 300, Loss: 0.025855977088212967\n",
      "Generating Image Number: 10 for target class tensor([0]). Step 350, Loss: 0.023174047470092773\n",
      "Generating Image Number: 10 for target class tensor([0]). Step 400, Loss: 0.02012629061937332\n",
      "Generating Image Number: 10 for target class tensor([0]). Step 450, Loss: 0.018552934750914574\n",
      "Generating Image Number: 11 for target class tensor([0]). Step 0, Loss: 0.0\n",
      "Generating Image Number: 11 for target class tensor([0]). Step 50, Loss: 0.0\n",
      "Generating Image Number: 11 for target class tensor([0]). Step 100, Loss: 0.0\n",
      "Generating Image Number: 11 for target class tensor([0]). Step 150, Loss: 0.0\n",
      "Generating Image Number: 11 for target class tensor([0]). Step 200, Loss: 0.0\n",
      "Generating Image Number: 11 for target class tensor([0]). Step 250, Loss: 0.0\n",
      "Generating Image Number: 11 for target class tensor([0]). Step 300, Loss: 0.0\n",
      "Generating Image Number: 11 for target class tensor([0]). Step 350, Loss: 0.0\n",
      "Generating Image Number: 11 for target class tensor([0]). Step 400, Loss: 0.0\n",
      "Generating Image Number: 11 for target class tensor([0]). Step 450, Loss: 0.0\n",
      "Generating Image Number: 12 for target class tensor([0]). Step 0, Loss: 0.025574930012226105\n",
      "Generating Image Number: 12 for target class tensor([0]). Step 50, Loss: 0.005635327193886042\n",
      "Generating Image Number: 12 for target class tensor([0]). Step 100, Loss: 0.004032457713037729\n",
      "Generating Image Number: 12 for target class tensor([0]). Step 150, Loss: 0.002761481562629342\n",
      "Generating Image Number: 12 for target class tensor([0]). Step 200, Loss: 0.0020402108784765005\n",
      "Generating Image Number: 12 for target class tensor([0]). Step 250, Loss: 0.0016847953666001558\n",
      "Generating Image Number: 12 for target class tensor([0]). Step 300, Loss: 0.0014722233172506094\n",
      "Generating Image Number: 12 for target class tensor([0]). Step 350, Loss: 0.0013227055314928293\n",
      "Generating Image Number: 12 for target class tensor([0]). Step 400, Loss: 0.001211147871799767\n",
      "Generating Image Number: 12 for target class tensor([0]). Step 450, Loss: 0.0011150578502565622\n",
      "Generating Image Number: 13 for target class tensor([0]). Step 0, Loss: 3.2711827754974365\n",
      "Generating Image Number: 13 for target class tensor([0]). Step 50, Loss: 0.8887168169021606\n",
      "Generating Image Number: 13 for target class tensor([0]). Step 100, Loss: 0.5560218691825867\n",
      "Generating Image Number: 13 for target class tensor([0]). Step 150, Loss: 0.38391509652137756\n",
      "Generating Image Number: 13 for target class tensor([0]). Step 200, Loss: 0.2554936707019806\n",
      "Generating Image Number: 13 for target class tensor([0]). Step 250, Loss: 0.1856815218925476\n",
      "Generating Image Number: 13 for target class tensor([0]). Step 300, Loss: 0.14685331284999847\n",
      "Generating Image Number: 13 for target class tensor([0]). Step 350, Loss: 0.11770027130842209\n",
      "Generating Image Number: 13 for target class tensor([0]). Step 400, Loss: 0.09618611633777618\n",
      "Generating Image Number: 13 for target class tensor([0]). Step 450, Loss: 0.08236078172922134\n",
      "Generating Image Number: 14 for target class tensor([0]). Step 0, Loss: 0.5141977667808533\n",
      "Generating Image Number: 14 for target class tensor([0]). Step 50, Loss: 0.0352853424847126\n",
      "Generating Image Number: 14 for target class tensor([0]). Step 100, Loss: 0.01957760564982891\n",
      "Generating Image Number: 14 for target class tensor([0]). Step 150, Loss: 0.014446428045630455\n",
      "Generating Image Number: 14 for target class tensor([0]). Step 200, Loss: 0.011543741449713707\n",
      "Generating Image Number: 14 for target class tensor([0]). Step 250, Loss: 0.009387636557221413\n",
      "Generating Image Number: 14 for target class tensor([0]). Step 300, Loss: 0.007730921730399132\n",
      "Generating Image Number: 14 for target class tensor([0]). Step 350, Loss: 0.006641457322984934\n",
      "Generating Image Number: 14 for target class tensor([0]). Step 400, Loss: 0.005849860608577728\n",
      "Generating Image Number: 14 for target class tensor([0]). Step 450, Loss: 0.0051429118029773235\n",
      "Generating Image Number: 15 for target class tensor([0]). Step 0, Loss: 1.4115948677062988\n",
      "Generating Image Number: 15 for target class tensor([0]). Step 50, Loss: 0.008569609373807907\n",
      "Generating Image Number: 15 for target class tensor([0]). Step 100, Loss: 0.008085968904197216\n",
      "Generating Image Number: 15 for target class tensor([0]). Step 150, Loss: 0.0075234174728393555\n",
      "Generating Image Number: 15 for target class tensor([0]). Step 200, Loss: 0.006983514875173569\n",
      "Generating Image Number: 15 for target class tensor([0]). Step 250, Loss: 0.0064781429246068\n",
      "Generating Image Number: 15 for target class tensor([0]). Step 300, Loss: 0.006017662119120359\n",
      "Generating Image Number: 15 for target class tensor([0]). Step 350, Loss: 0.0056339045986533165\n",
      "Generating Image Number: 15 for target class tensor([0]). Step 400, Loss: 0.0052719381637871265\n",
      "Generating Image Number: 15 for target class tensor([0]). Step 450, Loss: 0.004929294344037771\n",
      "Generating Image Number: 16 for target class tensor([0]). Step 0, Loss: 0.420581191778183\n",
      "Generating Image Number: 16 for target class tensor([0]). Step 50, Loss: 0.08080381900072098\n",
      "Generating Image Number: 16 for target class tensor([0]). Step 100, Loss: 0.06724940240383148\n",
      "Generating Image Number: 16 for target class tensor([0]). Step 150, Loss: 0.05884561687707901\n",
      "Generating Image Number: 16 for target class tensor([0]). Step 200, Loss: 0.047066569328308105\n",
      "Generating Image Number: 16 for target class tensor([0]). Step 250, Loss: 0.038280315697193146\n",
      "Generating Image Number: 16 for target class tensor([0]). Step 300, Loss: 0.03604409471154213\n",
      "Generating Image Number: 16 for target class tensor([0]). Step 350, Loss: 0.03423241525888443\n",
      "Generating Image Number: 16 for target class tensor([0]). Step 400, Loss: 0.03294898197054863\n",
      "Generating Image Number: 16 for target class tensor([0]). Step 450, Loss: 0.03194046765565872\n",
      "Generating Image Number: 17 for target class tensor([0]). Step 0, Loss: 3.451498508453369\n",
      "Generating Image Number: 17 for target class tensor([0]). Step 50, Loss: 0.525002658367157\n",
      "Generating Image Number: 17 for target class tensor([0]). Step 100, Loss: 0.34961456060409546\n",
      "Generating Image Number: 17 for target class tensor([0]). Step 150, Loss: 0.27122238278388977\n",
      "Generating Image Number: 17 for target class tensor([0]). Step 200, Loss: 0.21588508784770966\n",
      "Generating Image Number: 17 for target class tensor([0]). Step 250, Loss: 0.18556973338127136\n",
      "Generating Image Number: 17 for target class tensor([0]). Step 300, Loss: 0.1572352796792984\n",
      "Generating Image Number: 17 for target class tensor([0]). Step 350, Loss: 0.13208551704883575\n",
      "Generating Image Number: 17 for target class tensor([0]). Step 400, Loss: 0.11241621524095535\n",
      "Generating Image Number: 17 for target class tensor([0]). Step 450, Loss: 0.10058730095624924\n",
      "Generating Image Number: 18 for target class tensor([0]). Step 0, Loss: 0.010748704895377159\n",
      "Generating Image Number: 18 for target class tensor([0]). Step 50, Loss: 0.0061270263977348804\n",
      "Generating Image Number: 18 for target class tensor([0]). Step 100, Loss: 0.00292017450556159\n",
      "Generating Image Number: 18 for target class tensor([0]). Step 150, Loss: 0.0020411626901477575\n",
      "Generating Image Number: 18 for target class tensor([0]). Step 200, Loss: 0.0015656605828553438\n",
      "Generating Image Number: 18 for target class tensor([0]). Step 250, Loss: 0.0012416280806064606\n",
      "Generating Image Number: 18 for target class tensor([0]). Step 300, Loss: 0.0010158622171729803\n",
      "Generating Image Number: 18 for target class tensor([0]). Step 350, Loss: 0.0008512687054462731\n",
      "Generating Image Number: 18 for target class tensor([0]). Step 400, Loss: 0.0007254829397425056\n",
      "Generating Image Number: 18 for target class tensor([0]). Step 450, Loss: 0.0006300609675236046\n",
      "Generating Image Number: 19 for target class tensor([0]). Step 0, Loss: 0.11475828289985657\n",
      "Generating Image Number: 19 for target class tensor([0]). Step 50, Loss: 0.002943352097645402\n",
      "Generating Image Number: 19 for target class tensor([0]). Step 100, Loss: 0.001581966644152999\n",
      "Generating Image Number: 19 for target class tensor([0]). Step 150, Loss: 0.0011214879341423512\n",
      "Generating Image Number: 19 for target class tensor([0]). Step 200, Loss: 0.0008555566309951246\n",
      "Generating Image Number: 19 for target class tensor([0]). Step 250, Loss: 0.000695463502779603\n",
      "Generating Image Number: 19 for target class tensor([0]). Step 300, Loss: 0.0005995621904730797\n",
      "Generating Image Number: 19 for target class tensor([0]). Step 350, Loss: 0.0005308172549121082\n",
      "Generating Image Number: 19 for target class tensor([0]). Step 400, Loss: 0.0004862556525040418\n",
      "Generating Image Number: 19 for target class tensor([0]). Step 450, Loss: 0.00044848397374153137\n",
      "Generating Image Number: 20 for target class tensor([0]). Step 0, Loss: 1.6226907968521118\n",
      "Generating Image Number: 20 for target class tensor([0]). Step 50, Loss: 0.008155733346939087\n",
      "Generating Image Number: 20 for target class tensor([0]). Step 100, Loss: 0.006090415176004171\n",
      "Generating Image Number: 20 for target class tensor([0]). Step 150, Loss: 0.00540047325193882\n",
      "Generating Image Number: 20 for target class tensor([0]). Step 200, Loss: 0.0047973766922950745\n",
      "Generating Image Number: 20 for target class tensor([0]). Step 250, Loss: 0.00430193729698658\n",
      "Generating Image Number: 20 for target class tensor([0]). Step 300, Loss: 0.003915739711374044\n",
      "Generating Image Number: 20 for target class tensor([0]). Step 350, Loss: 0.003572512185201049\n",
      "Generating Image Number: 20 for target class tensor([0]). Step 400, Loss: 0.0032131255138665438\n",
      "Generating Image Number: 20 for target class tensor([0]). Step 450, Loss: 0.00292397802695632\n"
     ]
    }
   ],
   "source": [
    "class0_optimized_latent_vectors = recover_images(img_count, 0, latent_vectors)"
   ]
  },
  {
   "cell_type": "code",
   "execution_count": 21,
   "id": "6718334c-2bb1-42a3-bd8c-6aea38e6b59c",
   "metadata": {
    "scrolled": true
   },
   "outputs": [
    {
     "name": "stdout",
     "output_type": "stream",
     "text": [
      "Generating Image Number: 1 for target class tensor([1]). Step 0, Loss: 6.273411273956299\n",
      "Generating Image Number: 1 for target class tensor([1]). Step 50, Loss: 4.9915571212768555\n",
      "Generating Image Number: 1 for target class tensor([1]). Step 100, Loss: 3.345341682434082\n",
      "Generating Image Number: 1 for target class tensor([1]). Step 150, Loss: 2.5651936531066895\n",
      "Generating Image Number: 1 for target class tensor([1]). Step 200, Loss: 2.157413959503174\n",
      "Generating Image Number: 1 for target class tensor([1]). Step 250, Loss: 1.934443473815918\n",
      "Generating Image Number: 1 for target class tensor([1]). Step 300, Loss: 1.7153414487838745\n",
      "Generating Image Number: 1 for target class tensor([1]). Step 350, Loss: 1.4481701850891113\n",
      "Generating Image Number: 1 for target class tensor([1]). Step 400, Loss: 1.3093163967132568\n",
      "Generating Image Number: 1 for target class tensor([1]). Step 450, Loss: 1.182013750076294\n",
      "Generating Image Number: 2 for target class tensor([1]). Step 0, Loss: 9.364476203918457\n",
      "Generating Image Number: 2 for target class tensor([1]). Step 50, Loss: 3.421595573425293\n",
      "Generating Image Number: 2 for target class tensor([1]). Step 100, Loss: 2.26294207572937\n",
      "Generating Image Number: 2 for target class tensor([1]). Step 150, Loss: 1.4638500213623047\n",
      "Generating Image Number: 2 for target class tensor([1]). Step 200, Loss: 1.074292778968811\n",
      "Generating Image Number: 2 for target class tensor([1]). Step 250, Loss: 0.7460644245147705\n",
      "Generating Image Number: 2 for target class tensor([1]). Step 300, Loss: 0.5194318294525146\n",
      "Generating Image Number: 2 for target class tensor([1]). Step 350, Loss: 0.38698920607566833\n",
      "Generating Image Number: 2 for target class tensor([1]). Step 400, Loss: 0.3259219825267792\n",
      "Generating Image Number: 2 for target class tensor([1]). Step 450, Loss: 0.28723952174186707\n",
      "Generating Image Number: 3 for target class tensor([1]). Step 0, Loss: 10.159700393676758\n",
      "Generating Image Number: 3 for target class tensor([1]). Step 50, Loss: 6.363941192626953\n",
      "Generating Image Number: 3 for target class tensor([1]). Step 100, Loss: 5.2531304359436035\n",
      "Generating Image Number: 3 for target class tensor([1]). Step 150, Loss: 4.649500846862793\n",
      "Generating Image Number: 3 for target class tensor([1]). Step 200, Loss: 4.274237632751465\n",
      "Generating Image Number: 3 for target class tensor([1]). Step 250, Loss: 3.943052291870117\n",
      "Generating Image Number: 3 for target class tensor([1]). Step 300, Loss: 3.7082767486572266\n",
      "Generating Image Number: 3 for target class tensor([1]). Step 350, Loss: 3.525308847427368\n",
      "Generating Image Number: 3 for target class tensor([1]). Step 400, Loss: 3.342339515686035\n",
      "Generating Image Number: 3 for target class tensor([1]). Step 450, Loss: 3.20062255859375\n",
      "Generating Image Number: 4 for target class tensor([1]). Step 0, Loss: 14.389554977416992\n",
      "Generating Image Number: 4 for target class tensor([1]). Step 50, Loss: 6.916760444641113\n",
      "Generating Image Number: 4 for target class tensor([1]). Step 100, Loss: 5.846792221069336\n",
      "Generating Image Number: 4 for target class tensor([1]). Step 150, Loss: 5.272643566131592\n",
      "Generating Image Number: 4 for target class tensor([1]). Step 200, Loss: 4.813803195953369\n",
      "Generating Image Number: 4 for target class tensor([1]). Step 250, Loss: 4.551723480224609\n",
      "Generating Image Number: 4 for target class tensor([1]). Step 300, Loss: 4.360971450805664\n",
      "Generating Image Number: 4 for target class tensor([1]). Step 350, Loss: 4.20228910446167\n",
      "Generating Image Number: 4 for target class tensor([1]). Step 400, Loss: 4.0134382247924805\n",
      "Generating Image Number: 4 for target class tensor([1]). Step 450, Loss: 3.9087817668914795\n",
      "Generating Image Number: 5 for target class tensor([1]). Step 0, Loss: 9.548149108886719\n",
      "Generating Image Number: 5 for target class tensor([1]). Step 50, Loss: 7.0069756507873535\n",
      "Generating Image Number: 5 for target class tensor([1]). Step 100, Loss: 6.118268966674805\n",
      "Generating Image Number: 5 for target class tensor([1]). Step 150, Loss: 5.346434116363525\n",
      "Generating Image Number: 5 for target class tensor([1]). Step 200, Loss: 4.760637283325195\n",
      "Generating Image Number: 5 for target class tensor([1]). Step 250, Loss: 4.445160388946533\n",
      "Generating Image Number: 5 for target class tensor([1]). Step 300, Loss: 4.281585693359375\n",
      "Generating Image Number: 5 for target class tensor([1]). Step 350, Loss: 4.170773029327393\n",
      "Generating Image Number: 5 for target class tensor([1]). Step 400, Loss: 4.109555244445801\n",
      "Generating Image Number: 5 for target class tensor([1]). Step 450, Loss: 4.020901679992676\n",
      "Generating Image Number: 6 for target class tensor([1]). Step 0, Loss: 7.41499137878418\n",
      "Generating Image Number: 6 for target class tensor([1]). Step 50, Loss: 5.735107421875\n",
      "Generating Image Number: 6 for target class tensor([1]). Step 100, Loss: 5.073136806488037\n",
      "Generating Image Number: 6 for target class tensor([1]). Step 150, Loss: 4.722431182861328\n",
      "Generating Image Number: 6 for target class tensor([1]). Step 200, Loss: 4.40914249420166\n",
      "Generating Image Number: 6 for target class tensor([1]). Step 250, Loss: 4.151125907897949\n",
      "Generating Image Number: 6 for target class tensor([1]). Step 300, Loss: 3.9303505420684814\n",
      "Generating Image Number: 6 for target class tensor([1]). Step 350, Loss: 3.7204253673553467\n",
      "Generating Image Number: 6 for target class tensor([1]). Step 400, Loss: 3.5524611473083496\n",
      "Generating Image Number: 6 for target class tensor([1]). Step 450, Loss: 3.39882755279541\n",
      "Generating Image Number: 7 for target class tensor([1]). Step 0, Loss: 41.2856330871582\n",
      "Generating Image Number: 7 for target class tensor([1]). Step 50, Loss: 6.761866092681885\n",
      "Generating Image Number: 7 for target class tensor([1]). Step 100, Loss: 6.336071968078613\n",
      "Generating Image Number: 7 for target class tensor([1]). Step 150, Loss: 5.89154577255249\n",
      "Generating Image Number: 7 for target class tensor([1]). Step 200, Loss: 5.327127933502197\n",
      "Generating Image Number: 7 for target class tensor([1]). Step 250, Loss: 4.822511196136475\n",
      "Generating Image Number: 7 for target class tensor([1]). Step 300, Loss: 4.199919700622559\n",
      "Generating Image Number: 7 for target class tensor([1]). Step 350, Loss: 3.6447947025299072\n",
      "Generating Image Number: 7 for target class tensor([1]). Step 400, Loss: 3.327294111251831\n",
      "Generating Image Number: 7 for target class tensor([1]). Step 450, Loss: 3.1381354331970215\n",
      "Generating Image Number: 8 for target class tensor([1]). Step 0, Loss: 40.4256591796875\n",
      "Generating Image Number: 8 for target class tensor([1]). Step 50, Loss: 34.45726013183594\n",
      "Generating Image Number: 8 for target class tensor([1]). Step 100, Loss: 34.60139846801758\n",
      "Generating Image Number: 8 for target class tensor([1]). Step 150, Loss: 34.63824462890625\n",
      "Generating Image Number: 8 for target class tensor([1]). Step 200, Loss: 34.33556365966797\n",
      "Generating Image Number: 8 for target class tensor([1]). Step 250, Loss: 34.26705551147461\n",
      "Generating Image Number: 8 for target class tensor([1]). Step 300, Loss: 34.616493225097656\n",
      "Generating Image Number: 8 for target class tensor([1]). Step 350, Loss: 34.74134063720703\n",
      "Generating Image Number: 8 for target class tensor([1]). Step 400, Loss: 34.21696090698242\n",
      "Generating Image Number: 8 for target class tensor([1]). Step 450, Loss: 34.052947998046875\n",
      "Generating Image Number: 9 for target class tensor([1]). Step 0, Loss: 16.975879669189453\n",
      "Generating Image Number: 9 for target class tensor([1]). Step 50, Loss: 6.448720455169678\n",
      "Generating Image Number: 9 for target class tensor([1]). Step 100, Loss: 5.313663482666016\n",
      "Generating Image Number: 9 for target class tensor([1]). Step 150, Loss: 4.559858322143555\n",
      "Generating Image Number: 9 for target class tensor([1]). Step 200, Loss: 4.0084404945373535\n",
      "Generating Image Number: 9 for target class tensor([1]). Step 250, Loss: 3.4584767818450928\n",
      "Generating Image Number: 9 for target class tensor([1]). Step 300, Loss: 2.43270206451416\n",
      "Generating Image Number: 9 for target class tensor([1]). Step 350, Loss: 1.6355942487716675\n",
      "Generating Image Number: 9 for target class tensor([1]). Step 400, Loss: 1.0763976573944092\n",
      "Generating Image Number: 9 for target class tensor([1]). Step 450, Loss: 0.7624801397323608\n",
      "Generating Image Number: 10 for target class tensor([1]). Step 0, Loss: 12.74010181427002\n",
      "Generating Image Number: 10 for target class tensor([1]). Step 50, Loss: 5.576506614685059\n",
      "Generating Image Number: 10 for target class tensor([1]). Step 100, Loss: 4.558164119720459\n",
      "Generating Image Number: 10 for target class tensor([1]). Step 150, Loss: 4.065797805786133\n",
      "Generating Image Number: 10 for target class tensor([1]). Step 200, Loss: 3.404153347015381\n",
      "Generating Image Number: 10 for target class tensor([1]). Step 250, Loss: 2.7296855449676514\n",
      "Generating Image Number: 10 for target class tensor([1]). Step 300, Loss: 2.2266440391540527\n",
      "Generating Image Number: 10 for target class tensor([1]). Step 350, Loss: 1.7684077024459839\n",
      "Generating Image Number: 10 for target class tensor([1]). Step 400, Loss: 1.2697257995605469\n",
      "Generating Image Number: 10 for target class tensor([1]). Step 450, Loss: 0.9234020709991455\n",
      "Generating Image Number: 11 for target class tensor([1]). Step 0, Loss: 6.604772090911865\n",
      "Generating Image Number: 11 for target class tensor([1]). Step 50, Loss: 3.11193585395813\n",
      "Generating Image Number: 11 for target class tensor([1]). Step 100, Loss: 2.059481620788574\n",
      "Generating Image Number: 11 for target class tensor([1]). Step 150, Loss: 1.7220354080200195\n",
      "Generating Image Number: 11 for target class tensor([1]). Step 200, Loss: 1.4761204719543457\n",
      "Generating Image Number: 11 for target class tensor([1]). Step 250, Loss: 1.3674206733703613\n",
      "Generating Image Number: 11 for target class tensor([1]). Step 300, Loss: 1.2302247285842896\n",
      "Generating Image Number: 11 for target class tensor([1]). Step 350, Loss: 1.1272724866867065\n",
      "Generating Image Number: 11 for target class tensor([1]). Step 400, Loss: 1.0660734176635742\n",
      "Generating Image Number: 11 for target class tensor([1]). Step 450, Loss: 0.987175464630127\n",
      "Generating Image Number: 12 for target class tensor([1]). Step 0, Loss: 14.881876945495605\n",
      "Generating Image Number: 12 for target class tensor([1]). Step 50, Loss: 14.130935668945312\n",
      "Generating Image Number: 12 for target class tensor([1]). Step 100, Loss: 13.715130805969238\n",
      "Generating Image Number: 12 for target class tensor([1]). Step 150, Loss: 13.490213394165039\n",
      "Generating Image Number: 12 for target class tensor([1]). Step 200, Loss: 12.941451072692871\n",
      "Generating Image Number: 12 for target class tensor([1]). Step 250, Loss: 12.512020111083984\n",
      "Generating Image Number: 12 for target class tensor([1]). Step 300, Loss: 12.045609474182129\n",
      "Generating Image Number: 12 for target class tensor([1]). Step 350, Loss: 11.777541160583496\n",
      "Generating Image Number: 12 for target class tensor([1]). Step 400, Loss: 11.577481269836426\n",
      "Generating Image Number: 12 for target class tensor([1]). Step 450, Loss: 11.408941268920898\n",
      "Generating Image Number: 13 for target class tensor([1]). Step 0, Loss: 11.344422340393066\n",
      "Generating Image Number: 13 for target class tensor([1]). Step 50, Loss: 6.345480442047119\n",
      "Generating Image Number: 13 for target class tensor([1]). Step 100, Loss: 6.008310317993164\n",
      "Generating Image Number: 13 for target class tensor([1]). Step 150, Loss: 5.738677501678467\n",
      "Generating Image Number: 13 for target class tensor([1]). Step 200, Loss: 5.567440032958984\n",
      "Generating Image Number: 13 for target class tensor([1]). Step 250, Loss: 5.356337070465088\n",
      "Generating Image Number: 13 for target class tensor([1]). Step 300, Loss: 5.172517776489258\n",
      "Generating Image Number: 13 for target class tensor([1]). Step 350, Loss: 4.95222282409668\n",
      "Generating Image Number: 13 for target class tensor([1]). Step 400, Loss: 4.77744197845459\n",
      "Generating Image Number: 13 for target class tensor([1]). Step 450, Loss: 4.620815753936768\n",
      "Generating Image Number: 14 for target class tensor([1]). Step 0, Loss: 9.55379581451416\n",
      "Generating Image Number: 14 for target class tensor([1]). Step 50, Loss: 2.107241153717041\n",
      "Generating Image Number: 14 for target class tensor([1]). Step 100, Loss: 1.4671416282653809\n",
      "Generating Image Number: 14 for target class tensor([1]). Step 150, Loss: 1.1232434511184692\n",
      "Generating Image Number: 14 for target class tensor([1]). Step 200, Loss: 0.8446893692016602\n",
      "Generating Image Number: 14 for target class tensor([1]). Step 250, Loss: 0.6208116412162781\n",
      "Generating Image Number: 14 for target class tensor([1]). Step 300, Loss: 0.4794614911079407\n",
      "Generating Image Number: 14 for target class tensor([1]). Step 350, Loss: 0.3930160105228424\n",
      "Generating Image Number: 14 for target class tensor([1]). Step 400, Loss: 0.3251805603504181\n",
      "Generating Image Number: 14 for target class tensor([1]). Step 450, Loss: 0.27495402097702026\n",
      "Generating Image Number: 15 for target class tensor([1]). Step 0, Loss: 7.937952041625977\n",
      "Generating Image Number: 15 for target class tensor([1]). Step 50, Loss: 2.0280869007110596\n",
      "Generating Image Number: 15 for target class tensor([1]). Step 100, Loss: 1.5262441635131836\n",
      "Generating Image Number: 15 for target class tensor([1]). Step 150, Loss: 1.2815639972686768\n",
      "Generating Image Number: 15 for target class tensor([1]). Step 200, Loss: 1.1230701208114624\n",
      "Generating Image Number: 15 for target class tensor([1]). Step 250, Loss: 0.9147244691848755\n",
      "Generating Image Number: 15 for target class tensor([1]). Step 300, Loss: 0.7873003482818604\n",
      "Generating Image Number: 15 for target class tensor([1]). Step 350, Loss: 0.7064631581306458\n",
      "Generating Image Number: 15 for target class tensor([1]). Step 400, Loss: 0.6394944787025452\n",
      "Generating Image Number: 15 for target class tensor([1]). Step 450, Loss: 0.5622017979621887\n",
      "Generating Image Number: 16 for target class tensor([1]). Step 0, Loss: 42.07805633544922\n",
      "Generating Image Number: 16 for target class tensor([1]). Step 50, Loss: 5.057384967803955\n",
      "Generating Image Number: 16 for target class tensor([1]). Step 100, Loss: 4.54307746887207\n",
      "Generating Image Number: 16 for target class tensor([1]). Step 150, Loss: 4.359771728515625\n",
      "Generating Image Number: 16 for target class tensor([1]). Step 200, Loss: 4.239527225494385\n",
      "Generating Image Number: 16 for target class tensor([1]). Step 250, Loss: 4.144021987915039\n",
      "Generating Image Number: 16 for target class tensor([1]). Step 300, Loss: 4.058292865753174\n",
      "Generating Image Number: 16 for target class tensor([1]). Step 350, Loss: 3.991663932800293\n",
      "Generating Image Number: 16 for target class tensor([1]). Step 400, Loss: 3.9281296730041504\n",
      "Generating Image Number: 16 for target class tensor([1]). Step 450, Loss: 3.8496508598327637\n",
      "Generating Image Number: 17 for target class tensor([1]). Step 0, Loss: 11.197909355163574\n",
      "Generating Image Number: 17 for target class tensor([1]). Step 50, Loss: 2.810558557510376\n",
      "Generating Image Number: 17 for target class tensor([1]). Step 100, Loss: 1.8680754899978638\n",
      "Generating Image Number: 17 for target class tensor([1]). Step 150, Loss: 1.4705357551574707\n",
      "Generating Image Number: 17 for target class tensor([1]). Step 200, Loss: 1.1771605014801025\n",
      "Generating Image Number: 17 for target class tensor([1]). Step 250, Loss: 0.9228610992431641\n",
      "Generating Image Number: 17 for target class tensor([1]). Step 300, Loss: 0.7714849710464478\n",
      "Generating Image Number: 17 for target class tensor([1]). Step 350, Loss: 0.6387048959732056\n",
      "Generating Image Number: 17 for target class tensor([1]). Step 400, Loss: 0.5277720093727112\n",
      "Generating Image Number: 17 for target class tensor([1]). Step 450, Loss: 0.4542437791824341\n",
      "Generating Image Number: 18 for target class tensor([1]). Step 0, Loss: 10.545682907104492\n",
      "Generating Image Number: 18 for target class tensor([1]). Step 50, Loss: 7.9391655921936035\n",
      "Generating Image Number: 18 for target class tensor([1]). Step 100, Loss: 6.683958530426025\n",
      "Generating Image Number: 18 for target class tensor([1]). Step 150, Loss: 5.737770080566406\n",
      "Generating Image Number: 18 for target class tensor([1]). Step 200, Loss: 5.167611122131348\n",
      "Generating Image Number: 18 for target class tensor([1]). Step 250, Loss: 4.648919582366943\n",
      "Generating Image Number: 18 for target class tensor([1]). Step 300, Loss: 4.280017375946045\n",
      "Generating Image Number: 18 for target class tensor([1]). Step 350, Loss: 3.338148355484009\n",
      "Generating Image Number: 18 for target class tensor([1]). Step 400, Loss: 2.7683820724487305\n",
      "Generating Image Number: 18 for target class tensor([1]). Step 450, Loss: 2.33573579788208\n",
      "Generating Image Number: 19 for target class tensor([1]). Step 0, Loss: 1.4180407524108887\n",
      "Generating Image Number: 19 for target class tensor([1]). Step 50, Loss: 6.144806861877441\n",
      "Generating Image Number: 19 for target class tensor([1]). Step 100, Loss: 5.154996871948242\n",
      "Generating Image Number: 19 for target class tensor([1]). Step 150, Loss: 3.885472536087036\n",
      "Generating Image Number: 19 for target class tensor([1]). Step 200, Loss: 3.125798225402832\n",
      "Generating Image Number: 19 for target class tensor([1]). Step 250, Loss: 2.6207406520843506\n",
      "Generating Image Number: 19 for target class tensor([1]). Step 300, Loss: 2.3257880210876465\n",
      "Generating Image Number: 19 for target class tensor([1]). Step 350, Loss: 1.9435666799545288\n",
      "Generating Image Number: 19 for target class tensor([1]). Step 400, Loss: 1.3923768997192383\n",
      "Generating Image Number: 19 for target class tensor([1]). Step 450, Loss: 1.2214176654815674\n",
      "Generating Image Number: 20 for target class tensor([1]). Step 0, Loss: 5.471391201019287\n",
      "Generating Image Number: 20 for target class tensor([1]). Step 50, Loss: 2.5784714221954346\n",
      "Generating Image Number: 20 for target class tensor([1]). Step 100, Loss: 1.8995240926742554\n",
      "Generating Image Number: 20 for target class tensor([1]). Step 150, Loss: 1.3018245697021484\n",
      "Generating Image Number: 20 for target class tensor([1]). Step 200, Loss: 0.8787722587585449\n",
      "Generating Image Number: 20 for target class tensor([1]). Step 250, Loss: 0.640383780002594\n",
      "Generating Image Number: 20 for target class tensor([1]). Step 300, Loss: 0.4922378659248352\n",
      "Generating Image Number: 20 for target class tensor([1]). Step 350, Loss: 0.40491437911987305\n",
      "Generating Image Number: 20 for target class tensor([1]). Step 400, Loss: 0.33165138959884644\n",
      "Generating Image Number: 20 for target class tensor([1]). Step 450, Loss: 0.2770686149597168\n"
     ]
    }
   ],
   "source": [
    "torch.manual_seed(100)\n",
    "latent_vectors = torch.randn(img_count, z_dim, 1, 1, requires_grad=True) # Start with 20 random noises\n",
    "class1_optimized_latent_vectors = recover_images(img_count, 1, latent_vectors)"
   ]
  },
  {
   "cell_type": "code",
   "execution_count": 22,
   "id": "1c8af686-b1ff-419d-946d-2447773e47c9",
   "metadata": {
    "scrolled": true
   },
   "outputs": [
    {
     "name": "stdout",
     "output_type": "stream",
     "text": [
      "Generating Image Number: 1 for target class tensor([2]). Step 0, Loss: 3.181859254837036\n",
      "Generating Image Number: 1 for target class tensor([2]). Step 50, Loss: 0.29568296670913696\n",
      "Generating Image Number: 1 for target class tensor([2]). Step 100, Loss: 0.1396545171737671\n",
      "Generating Image Number: 1 for target class tensor([2]). Step 150, Loss: 0.09700002521276474\n",
      "Generating Image Number: 1 for target class tensor([2]). Step 200, Loss: 0.06794397532939911\n",
      "Generating Image Number: 1 for target class tensor([2]). Step 250, Loss: 0.05482238531112671\n",
      "Generating Image Number: 1 for target class tensor([2]). Step 300, Loss: 0.04746965691447258\n",
      "Generating Image Number: 1 for target class tensor([2]). Step 350, Loss: 0.04212675988674164\n",
      "Generating Image Number: 1 for target class tensor([2]). Step 400, Loss: 0.03796762228012085\n",
      "Generating Image Number: 1 for target class tensor([2]). Step 450, Loss: 0.03458589315414429\n",
      "Generating Image Number: 2 for target class tensor([2]). Step 0, Loss: 1.4458283185958862\n",
      "Generating Image Number: 2 for target class tensor([2]). Step 50, Loss: 0.22698566317558289\n",
      "Generating Image Number: 2 for target class tensor([2]). Step 100, Loss: 0.10151903331279755\n",
      "Generating Image Number: 2 for target class tensor([2]). Step 150, Loss: 0.07399887591600418\n",
      "Generating Image Number: 2 for target class tensor([2]). Step 200, Loss: 0.06262152642011642\n",
      "Generating Image Number: 2 for target class tensor([2]). Step 250, Loss: 0.051689282059669495\n",
      "Generating Image Number: 2 for target class tensor([2]). Step 300, Loss: 0.04381958767771721\n",
      "Generating Image Number: 2 for target class tensor([2]). Step 350, Loss: 0.0384853221476078\n",
      "Generating Image Number: 2 for target class tensor([2]). Step 400, Loss: 0.033735789358615875\n",
      "Generating Image Number: 2 for target class tensor([2]). Step 450, Loss: 0.030290313065052032\n",
      "Generating Image Number: 3 for target class tensor([2]). Step 0, Loss: 1.145471453666687\n",
      "Generating Image Number: 3 for target class tensor([2]). Step 50, Loss: 0.20645490288734436\n",
      "Generating Image Number: 3 for target class tensor([2]). Step 100, Loss: 0.08146531134843826\n",
      "Generating Image Number: 3 for target class tensor([2]). Step 150, Loss: 0.05599048733711243\n",
      "Generating Image Number: 3 for target class tensor([2]). Step 200, Loss: 0.04127481207251549\n",
      "Generating Image Number: 3 for target class tensor([2]). Step 250, Loss: 0.03337186202406883\n",
      "Generating Image Number: 3 for target class tensor([2]). Step 300, Loss: 0.0281964298337698\n",
      "Generating Image Number: 3 for target class tensor([2]). Step 350, Loss: 0.023857425898313522\n",
      "Generating Image Number: 3 for target class tensor([2]). Step 400, Loss: 0.0195431187748909\n",
      "Generating Image Number: 3 for target class tensor([2]). Step 450, Loss: 0.01693350076675415\n",
      "Generating Image Number: 4 for target class tensor([2]). Step 0, Loss: 0.7646102905273438\n",
      "Generating Image Number: 4 for target class tensor([2]). Step 50, Loss: 0.0036276266910135746\n",
      "Generating Image Number: 4 for target class tensor([2]). Step 100, Loss: 0.0022162655368447304\n",
      "Generating Image Number: 4 for target class tensor([2]). Step 150, Loss: 0.0015088851796463132\n",
      "Generating Image Number: 4 for target class tensor([2]). Step 200, Loss: 0.001177928177639842\n",
      "Generating Image Number: 4 for target class tensor([2]). Step 250, Loss: 0.0007996936910785735\n",
      "Generating Image Number: 4 for target class tensor([2]). Step 300, Loss: 0.00045062878052704036\n",
      "Generating Image Number: 4 for target class tensor([2]). Step 350, Loss: 0.00032395837479270995\n",
      "Generating Image Number: 4 for target class tensor([2]). Step 400, Loss: 0.00025948495022021234\n",
      "Generating Image Number: 4 for target class tensor([2]). Step 450, Loss: 0.00021336186910048127\n",
      "Generating Image Number: 5 for target class tensor([2]). Step 0, Loss: 1.3695297241210938\n",
      "Generating Image Number: 5 for target class tensor([2]). Step 50, Loss: 0.37278512120246887\n",
      "Generating Image Number: 5 for target class tensor([2]). Step 100, Loss: 0.14078907668590546\n",
      "Generating Image Number: 5 for target class tensor([2]). Step 150, Loss: 0.08835349977016449\n",
      "Generating Image Number: 5 for target class tensor([2]). Step 200, Loss: 0.06257236748933792\n",
      "Generating Image Number: 5 for target class tensor([2]). Step 250, Loss: 0.04816163331270218\n",
      "Generating Image Number: 5 for target class tensor([2]). Step 300, Loss: 0.03841499984264374\n",
      "Generating Image Number: 5 for target class tensor([2]). Step 350, Loss: 0.031242836266756058\n",
      "Generating Image Number: 5 for target class tensor([2]). Step 400, Loss: 0.026504673063755035\n",
      "Generating Image Number: 5 for target class tensor([2]). Step 450, Loss: 0.023149121552705765\n",
      "Generating Image Number: 6 for target class tensor([2]). Step 0, Loss: 1.7407152652740479\n",
      "Generating Image Number: 6 for target class tensor([2]). Step 50, Loss: 0.3032424747943878\n",
      "Generating Image Number: 6 for target class tensor([2]). Step 100, Loss: 0.17786747217178345\n",
      "Generating Image Number: 6 for target class tensor([2]). Step 150, Loss: 0.1363798975944519\n",
      "Generating Image Number: 6 for target class tensor([2]). Step 200, Loss: 0.11160313338041306\n",
      "Generating Image Number: 6 for target class tensor([2]). Step 250, Loss: 0.09351883083581924\n",
      "Generating Image Number: 6 for target class tensor([2]). Step 300, Loss: 0.07978026568889618\n",
      "Generating Image Number: 6 for target class tensor([2]). Step 350, Loss: 0.06879855692386627\n",
      "Generating Image Number: 6 for target class tensor([2]). Step 400, Loss: 0.06078808009624481\n",
      "Generating Image Number: 6 for target class tensor([2]). Step 450, Loss: 0.05397779867053032\n",
      "Generating Image Number: 7 for target class tensor([2]). Step 0, Loss: 2.2268035411834717\n",
      "Generating Image Number: 7 for target class tensor([2]). Step 50, Loss: 0.31886234879493713\n",
      "Generating Image Number: 7 for target class tensor([2]). Step 100, Loss: 0.18598532676696777\n",
      "Generating Image Number: 7 for target class tensor([2]). Step 150, Loss: 0.13052043318748474\n",
      "Generating Image Number: 7 for target class tensor([2]). Step 200, Loss: 0.10079426318407059\n",
      "Generating Image Number: 7 for target class tensor([2]). Step 250, Loss: 0.08365990221500397\n",
      "Generating Image Number: 7 for target class tensor([2]). Step 300, Loss: 0.07244767248630524\n",
      "Generating Image Number: 7 for target class tensor([2]). Step 350, Loss: 0.06473368406295776\n",
      "Generating Image Number: 7 for target class tensor([2]). Step 400, Loss: 0.05843449756503105\n",
      "Generating Image Number: 7 for target class tensor([2]). Step 450, Loss: 0.05385806784033775\n",
      "Generating Image Number: 8 for target class tensor([2]). Step 0, Loss: 2.1586191654205322\n",
      "Generating Image Number: 8 for target class tensor([2]). Step 50, Loss: 0.5926181077957153\n",
      "Generating Image Number: 8 for target class tensor([2]). Step 100, Loss: 0.3073502480983734\n",
      "Generating Image Number: 8 for target class tensor([2]). Step 150, Loss: 0.21044482290744781\n",
      "Generating Image Number: 8 for target class tensor([2]). Step 200, Loss: 0.16700764000415802\n",
      "Generating Image Number: 8 for target class tensor([2]). Step 250, Loss: 0.13242484629154205\n",
      "Generating Image Number: 8 for target class tensor([2]). Step 300, Loss: 0.1046694964170456\n",
      "Generating Image Number: 8 for target class tensor([2]). Step 350, Loss: 0.08919332921504974\n",
      "Generating Image Number: 8 for target class tensor([2]). Step 400, Loss: 0.07375196367502213\n",
      "Generating Image Number: 8 for target class tensor([2]). Step 450, Loss: 0.0616985559463501\n",
      "Generating Image Number: 9 for target class tensor([2]). Step 0, Loss: 0.26971080899238586\n",
      "Generating Image Number: 9 for target class tensor([2]). Step 50, Loss: 0.022952482104301453\n",
      "Generating Image Number: 9 for target class tensor([2]). Step 100, Loss: 0.015258138068020344\n",
      "Generating Image Number: 9 for target class tensor([2]). Step 150, Loss: 0.011534196324646473\n",
      "Generating Image Number: 9 for target class tensor([2]). Step 200, Loss: 0.009481518529355526\n",
      "Generating Image Number: 9 for target class tensor([2]). Step 250, Loss: 0.0077065532095730305\n",
      "Generating Image Number: 9 for target class tensor([2]). Step 300, Loss: 0.006386939901858568\n",
      "Generating Image Number: 9 for target class tensor([2]). Step 350, Loss: 0.005327077116817236\n",
      "Generating Image Number: 9 for target class tensor([2]). Step 400, Loss: 0.004517231602221727\n",
      "Generating Image Number: 9 for target class tensor([2]). Step 450, Loss: 0.003957417793571949\n",
      "Generating Image Number: 10 for target class tensor([2]). Step 0, Loss: 1.9570283889770508\n",
      "Generating Image Number: 10 for target class tensor([2]). Step 50, Loss: 0.7004754543304443\n",
      "Generating Image Number: 10 for target class tensor([2]). Step 100, Loss: 0.4919828772544861\n",
      "Generating Image Number: 10 for target class tensor([2]). Step 150, Loss: 0.335312157869339\n",
      "Generating Image Number: 10 for target class tensor([2]). Step 200, Loss: 0.23931148648262024\n",
      "Generating Image Number: 10 for target class tensor([2]). Step 250, Loss: 0.2001490294933319\n",
      "Generating Image Number: 10 for target class tensor([2]). Step 300, Loss: 0.17391939461231232\n",
      "Generating Image Number: 10 for target class tensor([2]). Step 350, Loss: 0.15626220405101776\n",
      "Generating Image Number: 10 for target class tensor([2]). Step 400, Loss: 0.14352361857891083\n",
      "Generating Image Number: 10 for target class tensor([2]). Step 450, Loss: 0.13379019498825073\n",
      "Generating Image Number: 11 for target class tensor([2]). Step 0, Loss: 1.251276969909668\n",
      "Generating Image Number: 11 for target class tensor([2]). Step 50, Loss: 0.12955252826213837\n",
      "Generating Image Number: 11 for target class tensor([2]). Step 100, Loss: 0.0722150206565857\n",
      "Generating Image Number: 11 for target class tensor([2]). Step 150, Loss: 0.05552192032337189\n",
      "Generating Image Number: 11 for target class tensor([2]). Step 200, Loss: 0.04633184149861336\n",
      "Generating Image Number: 11 for target class tensor([2]). Step 250, Loss: 0.04088100790977478\n",
      "Generating Image Number: 11 for target class tensor([2]). Step 300, Loss: 0.035814207047224045\n",
      "Generating Image Number: 11 for target class tensor([2]). Step 350, Loss: 0.031273338943719864\n",
      "Generating Image Number: 11 for target class tensor([2]). Step 400, Loss: 0.027371846139431\n",
      "Generating Image Number: 11 for target class tensor([2]). Step 450, Loss: 0.024620944634079933\n",
      "Generating Image Number: 12 for target class tensor([2]). Step 0, Loss: 33.215087890625\n",
      "Generating Image Number: 12 for target class tensor([2]). Step 50, Loss: 26.891632080078125\n",
      "Generating Image Number: 12 for target class tensor([2]). Step 100, Loss: 26.070207595825195\n",
      "Generating Image Number: 12 for target class tensor([2]). Step 150, Loss: 25.901691436767578\n",
      "Generating Image Number: 12 for target class tensor([2]). Step 200, Loss: 25.904224395751953\n",
      "Generating Image Number: 12 for target class tensor([2]). Step 250, Loss: 25.814388275146484\n",
      "Generating Image Number: 12 for target class tensor([2]). Step 300, Loss: 25.91887855529785\n",
      "Generating Image Number: 12 for target class tensor([2]). Step 350, Loss: 25.741207122802734\n",
      "Generating Image Number: 12 for target class tensor([2]). Step 400, Loss: 25.784555435180664\n",
      "Generating Image Number: 12 for target class tensor([2]). Step 450, Loss: 25.639585494995117\n",
      "Generating Image Number: 13 for target class tensor([2]). Step 0, Loss: 0.8264676928520203\n",
      "Generating Image Number: 13 for target class tensor([2]). Step 50, Loss: 0.2847110629081726\n",
      "Generating Image Number: 13 for target class tensor([2]). Step 100, Loss: 0.18166711926460266\n",
      "Generating Image Number: 13 for target class tensor([2]). Step 150, Loss: 0.13779905438423157\n",
      "Generating Image Number: 13 for target class tensor([2]). Step 200, Loss: 0.1103661060333252\n",
      "Generating Image Number: 13 for target class tensor([2]). Step 250, Loss: 0.09488897770643234\n",
      "Generating Image Number: 13 for target class tensor([2]). Step 300, Loss: 0.0824444368481636\n",
      "Generating Image Number: 13 for target class tensor([2]). Step 350, Loss: 0.07169396430253983\n",
      "Generating Image Number: 13 for target class tensor([2]). Step 400, Loss: 0.06378089636564255\n",
      "Generating Image Number: 13 for target class tensor([2]). Step 450, Loss: 0.056782808154821396\n",
      "Generating Image Number: 14 for target class tensor([2]). Step 0, Loss: 3.5250332355499268\n",
      "Generating Image Number: 14 for target class tensor([2]). Step 50, Loss: 0.8031137585639954\n",
      "Generating Image Number: 14 for target class tensor([2]). Step 100, Loss: 0.40463340282440186\n",
      "Generating Image Number: 14 for target class tensor([2]). Step 150, Loss: 0.24456198513507843\n",
      "Generating Image Number: 14 for target class tensor([2]). Step 200, Loss: 0.16459110379219055\n",
      "Generating Image Number: 14 for target class tensor([2]). Step 250, Loss: 0.1200776994228363\n",
      "Generating Image Number: 14 for target class tensor([2]). Step 300, Loss: 0.0910833328962326\n",
      "Generating Image Number: 14 for target class tensor([2]). Step 350, Loss: 0.07701274007558823\n",
      "Generating Image Number: 14 for target class tensor([2]). Step 400, Loss: 0.06540153920650482\n",
      "Generating Image Number: 14 for target class tensor([2]). Step 450, Loss: 0.055837515741586685\n",
      "Generating Image Number: 15 for target class tensor([2]). Step 0, Loss: 1.086188554763794\n",
      "Generating Image Number: 15 for target class tensor([2]). Step 50, Loss: 0.10710076987743378\n",
      "Generating Image Number: 15 for target class tensor([2]). Step 100, Loss: 0.057727206498384476\n",
      "Generating Image Number: 15 for target class tensor([2]). Step 150, Loss: 0.04165039584040642\n",
      "Generating Image Number: 15 for target class tensor([2]). Step 200, Loss: 0.034239210188388824\n",
      "Generating Image Number: 15 for target class tensor([2]). Step 250, Loss: 0.02867855317890644\n",
      "Generating Image Number: 15 for target class tensor([2]). Step 300, Loss: 0.02395845577120781\n",
      "Generating Image Number: 15 for target class tensor([2]). Step 350, Loss: 0.020276762545108795\n",
      "Generating Image Number: 15 for target class tensor([2]). Step 400, Loss: 0.017495470121502876\n",
      "Generating Image Number: 15 for target class tensor([2]). Step 450, Loss: 0.015314842574298382\n",
      "Generating Image Number: 16 for target class tensor([2]). Step 0, Loss: 3.54669189453125\n",
      "Generating Image Number: 16 for target class tensor([2]). Step 50, Loss: 0.1324823796749115\n",
      "Generating Image Number: 16 for target class tensor([2]). Step 100, Loss: 0.08460128307342529\n",
      "Generating Image Number: 16 for target class tensor([2]). Step 150, Loss: 0.056939687579870224\n",
      "Generating Image Number: 16 for target class tensor([2]). Step 200, Loss: 0.03934652730822563\n",
      "Generating Image Number: 16 for target class tensor([2]). Step 250, Loss: 0.030150363221764565\n",
      "Generating Image Number: 16 for target class tensor([2]). Step 300, Loss: 0.022803228348493576\n",
      "Generating Image Number: 16 for target class tensor([2]). Step 350, Loss: 0.01918334700167179\n",
      "Generating Image Number: 16 for target class tensor([2]). Step 400, Loss: 0.01692752167582512\n",
      "Generating Image Number: 16 for target class tensor([2]). Step 450, Loss: 0.01500298548489809\n",
      "Generating Image Number: 17 for target class tensor([2]). Step 0, Loss: 0.2767283618450165\n",
      "Generating Image Number: 17 for target class tensor([2]). Step 50, Loss: 0.00979604572057724\n",
      "Generating Image Number: 17 for target class tensor([2]). Step 100, Loss: 0.006425198633223772\n",
      "Generating Image Number: 17 for target class tensor([2]). Step 150, Loss: 0.004892520606517792\n",
      "Generating Image Number: 17 for target class tensor([2]). Step 200, Loss: 0.003644136479124427\n",
      "Generating Image Number: 17 for target class tensor([2]). Step 250, Loss: 0.0028490927070379257\n",
      "Generating Image Number: 17 for target class tensor([2]). Step 300, Loss: 0.00205972115509212\n",
      "Generating Image Number: 17 for target class tensor([2]). Step 350, Loss: 0.0015764916315674782\n",
      "Generating Image Number: 17 for target class tensor([2]). Step 400, Loss: 0.0012946089264005423\n",
      "Generating Image Number: 17 for target class tensor([2]). Step 450, Loss: 0.0010679024271667004\n",
      "Generating Image Number: 18 for target class tensor([2]). Step 0, Loss: 28.80089569091797\n",
      "Generating Image Number: 18 for target class tensor([2]). Step 50, Loss: 24.71017837524414\n",
      "Generating Image Number: 18 for target class tensor([2]). Step 100, Loss: 24.36037826538086\n",
      "Generating Image Number: 18 for target class tensor([2]). Step 150, Loss: 24.60015296936035\n",
      "Generating Image Number: 18 for target class tensor([2]). Step 200, Loss: 24.410337448120117\n",
      "Generating Image Number: 18 for target class tensor([2]). Step 250, Loss: 24.069917678833008\n",
      "Generating Image Number: 18 for target class tensor([2]). Step 300, Loss: 24.043109893798828\n",
      "Generating Image Number: 18 for target class tensor([2]). Step 350, Loss: 24.055391311645508\n",
      "Generating Image Number: 18 for target class tensor([2]). Step 400, Loss: 24.219043731689453\n",
      "Generating Image Number: 18 for target class tensor([2]). Step 450, Loss: 23.71768569946289\n",
      "Generating Image Number: 19 for target class tensor([2]). Step 0, Loss: 5.449136257171631\n",
      "Generating Image Number: 19 for target class tensor([2]). Step 50, Loss: 2.944662570953369\n",
      "Generating Image Number: 19 for target class tensor([2]). Step 100, Loss: 1.9202938079833984\n",
      "Generating Image Number: 19 for target class tensor([2]). Step 150, Loss: 1.2692406177520752\n",
      "Generating Image Number: 19 for target class tensor([2]). Step 200, Loss: 0.9452238082885742\n",
      "Generating Image Number: 19 for target class tensor([2]). Step 250, Loss: 0.7909762263298035\n",
      "Generating Image Number: 19 for target class tensor([2]). Step 300, Loss: 0.6871683597564697\n",
      "Generating Image Number: 19 for target class tensor([2]). Step 350, Loss: 0.5816992521286011\n",
      "Generating Image Number: 19 for target class tensor([2]). Step 400, Loss: 0.4720093607902527\n",
      "Generating Image Number: 19 for target class tensor([2]). Step 450, Loss: 0.4070744216442108\n",
      "Generating Image Number: 20 for target class tensor([2]). Step 0, Loss: 0.2946506440639496\n",
      "Generating Image Number: 20 for target class tensor([2]). Step 50, Loss: 0.001993456156924367\n",
      "Generating Image Number: 20 for target class tensor([2]). Step 100, Loss: 0.0016108882846310735\n",
      "Generating Image Number: 20 for target class tensor([2]). Step 150, Loss: 0.0014136569807305932\n",
      "Generating Image Number: 20 for target class tensor([2]). Step 200, Loss: 0.0012498432770371437\n",
      "Generating Image Number: 20 for target class tensor([2]). Step 250, Loss: 0.0011129144113510847\n",
      "Generating Image Number: 20 for target class tensor([2]). Step 300, Loss: 0.000992997083812952\n",
      "Generating Image Number: 20 for target class tensor([2]). Step 350, Loss: 0.0008830699953250587\n",
      "Generating Image Number: 20 for target class tensor([2]). Step 400, Loss: 0.0008063640561886132\n",
      "Generating Image Number: 20 for target class tensor([2]). Step 450, Loss: 0.0007482351502403617\n"
     ]
    }
   ],
   "source": [
    "torch.manual_seed(200)\n",
    "latent_vectors = torch.randn(img_count, z_dim, 1, 1, requires_grad=True) # Start with 20 random noises\n",
    "class2_optimized_latent_vectors = recover_images(img_count, 2, latent_vectors)"
   ]
  },
  {
   "cell_type": "code",
   "execution_count": 23,
   "id": "0381b36d-6c92-43bc-b776-1eefd3eab451",
   "metadata": {
    "scrolled": true
   },
   "outputs": [
    {
     "name": "stdout",
     "output_type": "stream",
     "text": [
      "Generating Image Number: 1 for target class tensor([3]). Step 0, Loss: 0.00011872540198964998\n",
      "Generating Image Number: 1 for target class tensor([3]). Step 50, Loss: 0.20322060585021973\n",
      "Generating Image Number: 1 for target class tensor([3]). Step 100, Loss: 0.00846642255783081\n",
      "Generating Image Number: 1 for target class tensor([3]). Step 150, Loss: 0.0061346092261374\n",
      "Generating Image Number: 1 for target class tensor([3]). Step 200, Loss: 0.005982231814414263\n",
      "Generating Image Number: 1 for target class tensor([3]). Step 250, Loss: 0.005755400285124779\n",
      "Generating Image Number: 1 for target class tensor([3]). Step 300, Loss: 0.00553883146494627\n",
      "Generating Image Number: 1 for target class tensor([3]). Step 350, Loss: 0.005360159557312727\n",
      "Generating Image Number: 1 for target class tensor([3]). Step 400, Loss: 0.005178965162485838\n",
      "Generating Image Number: 1 for target class tensor([3]). Step 450, Loss: 0.0049902647733688354\n",
      "Generating Image Number: 2 for target class tensor([3]). Step 0, Loss: 1.8835201263427734\n",
      "Generating Image Number: 2 for target class tensor([3]). Step 50, Loss: 0.2249699831008911\n",
      "Generating Image Number: 2 for target class tensor([3]). Step 100, Loss: 0.10999934375286102\n",
      "Generating Image Number: 2 for target class tensor([3]). Step 150, Loss: 0.07048552483320236\n",
      "Generating Image Number: 2 for target class tensor([3]). Step 200, Loss: 0.056901171803474426\n",
      "Generating Image Number: 2 for target class tensor([3]). Step 250, Loss: 0.0496831089258194\n",
      "Generating Image Number: 2 for target class tensor([3]). Step 300, Loss: 0.04431271180510521\n",
      "Generating Image Number: 2 for target class tensor([3]). Step 350, Loss: 0.03976808860898018\n",
      "Generating Image Number: 2 for target class tensor([3]). Step 400, Loss: 0.0363583117723465\n",
      "Generating Image Number: 2 for target class tensor([3]). Step 450, Loss: 0.03372783586382866\n",
      "Generating Image Number: 3 for target class tensor([3]). Step 0, Loss: 0.008533324114978313\n",
      "Generating Image Number: 3 for target class tensor([3]). Step 50, Loss: 2.288792165927589e-05\n",
      "Generating Image Number: 3 for target class tensor([3]). Step 100, Loss: 1.2397689715726301e-05\n",
      "Generating Image Number: 3 for target class tensor([3]). Step 150, Loss: 1.0490362910786644e-05\n",
      "Generating Image Number: 3 for target class tensor([3]). Step 200, Loss: 9.298280929215252e-06\n",
      "Generating Image Number: 3 for target class tensor([3]). Step 250, Loss: 8.4638240878121e-06\n",
      "Generating Image Number: 3 for target class tensor([3]). Step 300, Loss: 7.867782187531702e-06\n",
      "Generating Image Number: 3 for target class tensor([3]). Step 350, Loss: 7.271740287251305e-06\n",
      "Generating Image Number: 3 for target class tensor([3]). Step 400, Loss: 6.9141146923357155e-06\n",
      "Generating Image Number: 3 for target class tensor([3]). Step 450, Loss: 6.437280717364047e-06\n",
      "Generating Image Number: 4 for target class tensor([3]). Step 0, Loss: 5.345629692077637\n",
      "Generating Image Number: 4 for target class tensor([3]). Step 50, Loss: 2.942809820175171\n",
      "Generating Image Number: 4 for target class tensor([3]). Step 100, Loss: 1.6295586824417114\n",
      "Generating Image Number: 4 for target class tensor([3]). Step 150, Loss: 1.0428928136825562\n",
      "Generating Image Number: 4 for target class tensor([3]). Step 200, Loss: 0.8223609328269958\n",
      "Generating Image Number: 4 for target class tensor([3]). Step 250, Loss: 0.7082402110099792\n",
      "Generating Image Number: 4 for target class tensor([3]). Step 300, Loss: 0.6128135323524475\n",
      "Generating Image Number: 4 for target class tensor([3]). Step 350, Loss: 0.5593987703323364\n",
      "Generating Image Number: 4 for target class tensor([3]). Step 400, Loss: 0.5057299733161926\n",
      "Generating Image Number: 4 for target class tensor([3]). Step 450, Loss: 0.457855224609375\n",
      "Generating Image Number: 5 for target class tensor([3]). Step 0, Loss: 2.799668073654175\n",
      "Generating Image Number: 5 for target class tensor([3]). Step 50, Loss: 0.030559977516531944\n",
      "Generating Image Number: 5 for target class tensor([3]). Step 100, Loss: 0.013553973287343979\n",
      "Generating Image Number: 5 for target class tensor([3]). Step 150, Loss: 0.011685257777571678\n",
      "Generating Image Number: 5 for target class tensor([3]). Step 200, Loss: 0.010117672383785248\n",
      "Generating Image Number: 5 for target class tensor([3]). Step 250, Loss: 0.008344783447682858\n",
      "Generating Image Number: 5 for target class tensor([3]). Step 300, Loss: 0.007097271271049976\n",
      "Generating Image Number: 5 for target class tensor([3]). Step 350, Loss: 0.006350338459014893\n",
      "Generating Image Number: 5 for target class tensor([3]). Step 400, Loss: 0.005714152939617634\n",
      "Generating Image Number: 5 for target class tensor([3]). Step 450, Loss: 0.005201616324484348\n",
      "Generating Image Number: 6 for target class tensor([3]). Step 0, Loss: 2.3992044925689697\n",
      "Generating Image Number: 6 for target class tensor([3]). Step 50, Loss: 1.448378086090088\n",
      "Generating Image Number: 6 for target class tensor([3]). Step 100, Loss: 0.9855236411094666\n",
      "Generating Image Number: 6 for target class tensor([3]). Step 150, Loss: 0.7298530340194702\n",
      "Generating Image Number: 6 for target class tensor([3]). Step 200, Loss: 0.530832052230835\n",
      "Generating Image Number: 6 for target class tensor([3]). Step 250, Loss: 0.20041686296463013\n",
      "Generating Image Number: 6 for target class tensor([3]). Step 300, Loss: 0.10348114371299744\n",
      "Generating Image Number: 6 for target class tensor([3]). Step 350, Loss: 0.053651560097932816\n",
      "Generating Image Number: 6 for target class tensor([3]). Step 400, Loss: 0.03262365609407425\n",
      "Generating Image Number: 6 for target class tensor([3]). Step 450, Loss: 0.02787952311336994\n",
      "Generating Image Number: 7 for target class tensor([3]). Step 0, Loss: 2.3436529636383057\n",
      "Generating Image Number: 7 for target class tensor([3]). Step 50, Loss: 0.6159398555755615\n",
      "Generating Image Number: 7 for target class tensor([3]). Step 100, Loss: 0.3500935435295105\n",
      "Generating Image Number: 7 for target class tensor([3]). Step 150, Loss: 0.24056634306907654\n",
      "Generating Image Number: 7 for target class tensor([3]). Step 200, Loss: 0.17284028232097626\n",
      "Generating Image Number: 7 for target class tensor([3]). Step 250, Loss: 0.13622115552425385\n",
      "Generating Image Number: 7 for target class tensor([3]). Step 300, Loss: 0.1147216185927391\n",
      "Generating Image Number: 7 for target class tensor([3]). Step 350, Loss: 0.09813893586397171\n",
      "Generating Image Number: 7 for target class tensor([3]). Step 400, Loss: 0.08391313999891281\n",
      "Generating Image Number: 7 for target class tensor([3]). Step 450, Loss: 0.07336953282356262\n",
      "Generating Image Number: 8 for target class tensor([3]). Step 0, Loss: 0.5962470173835754\n",
      "Generating Image Number: 8 for target class tensor([3]). Step 50, Loss: 0.005329686217010021\n",
      "Generating Image Number: 8 for target class tensor([3]). Step 100, Loss: 0.004183589015156031\n",
      "Generating Image Number: 8 for target class tensor([3]). Step 150, Loss: 0.003583440324291587\n",
      "Generating Image Number: 8 for target class tensor([3]). Step 200, Loss: 0.0030856162775307894\n",
      "Generating Image Number: 8 for target class tensor([3]). Step 250, Loss: 0.002702990546822548\n",
      "Generating Image Number: 8 for target class tensor([3]). Step 300, Loss: 0.0021809381432831287\n",
      "Generating Image Number: 8 for target class tensor([3]). Step 350, Loss: 0.0018334260676056147\n",
      "Generating Image Number: 8 for target class tensor([3]). Step 400, Loss: 0.0016111262375488877\n",
      "Generating Image Number: 8 for target class tensor([3]). Step 450, Loss: 0.0013863962376490235\n",
      "Generating Image Number: 9 for target class tensor([3]). Step 0, Loss: 6.235653877258301\n",
      "Generating Image Number: 9 for target class tensor([3]). Step 50, Loss: 0.0020078516099601984\n",
      "Generating Image Number: 9 for target class tensor([3]). Step 100, Loss: 0.0013272295473143458\n",
      "Generating Image Number: 9 for target class tensor([3]). Step 150, Loss: 0.0010078833438456059\n",
      "Generating Image Number: 9 for target class tensor([3]). Step 200, Loss: 0.0008648469229228795\n",
      "Generating Image Number: 9 for target class tensor([3]). Step 250, Loss: 0.0007254829397425056\n",
      "Generating Image Number: 9 for target class tensor([3]). Step 300, Loss: 0.000663894519675523\n",
      "Generating Image Number: 9 for target class tensor([3]). Step 350, Loss: 0.0006073060794733465\n",
      "Generating Image Number: 9 for target class tensor([3]). Step 400, Loss: 0.0005453529884107411\n",
      "Generating Image Number: 9 for target class tensor([3]). Step 450, Loss: 0.00040451448876410723\n",
      "Generating Image Number: 10 for target class tensor([3]). Step 0, Loss: 3.830857038497925\n",
      "Generating Image Number: 10 for target class tensor([3]). Step 50, Loss: 0.0020816102623939514\n",
      "Generating Image Number: 10 for target class tensor([3]). Step 100, Loss: 0.0016807490028440952\n",
      "Generating Image Number: 10 for target class tensor([3]). Step 150, Loss: 0.0016414752462878823\n",
      "Generating Image Number: 10 for target class tensor([3]). Step 200, Loss: 0.0015987483784556389\n",
      "Generating Image Number: 10 for target class tensor([3]). Step 250, Loss: 0.0015519729349762201\n",
      "Generating Image Number: 10 for target class tensor([3]). Step 300, Loss: 0.0015162649797275662\n",
      "Generating Image Number: 10 for target class tensor([3]). Step 350, Loss: 0.001462819636799395\n",
      "Generating Image Number: 10 for target class tensor([3]). Step 400, Loss: 0.0014042527182027698\n",
      "Generating Image Number: 10 for target class tensor([3]). Step 450, Loss: 0.001353420433588326\n",
      "Generating Image Number: 11 for target class tensor([3]). Step 0, Loss: 4.65698766708374\n",
      "Generating Image Number: 11 for target class tensor([3]). Step 50, Loss: 0.00016318420239258558\n",
      "Generating Image Number: 11 for target class tensor([3]). Step 100, Loss: 0.0001746263587847352\n",
      "Generating Image Number: 11 for target class tensor([3]). Step 150, Loss: 0.00016711745411157608\n",
      "Generating Image Number: 11 for target class tensor([3]). Step 200, Loss: 0.000164018536452204\n",
      "Generating Image Number: 11 for target class tensor([3]). Step 250, Loss: 0.00016246906307060272\n",
      "Generating Image Number: 11 for target class tensor([3]). Step 300, Loss: 0.0001597276859683916\n",
      "Generating Image Number: 11 for target class tensor([3]). Step 350, Loss: 0.0001567479339428246\n",
      "Generating Image Number: 11 for target class tensor([3]). Step 400, Loss: 0.00015317220822907984\n",
      "Generating Image Number: 11 for target class tensor([3]). Step 450, Loss: 0.0001486429391661659\n",
      "Generating Image Number: 12 for target class tensor([3]). Step 0, Loss: 3.793668031692505\n",
      "Generating Image Number: 12 for target class tensor([3]). Step 50, Loss: 0.27080073952674866\n",
      "Generating Image Number: 12 for target class tensor([3]). Step 100, Loss: 0.15480642020702362\n",
      "Generating Image Number: 12 for target class tensor([3]). Step 150, Loss: 0.10424156486988068\n",
      "Generating Image Number: 12 for target class tensor([3]). Step 200, Loss: 0.07353667914867401\n",
      "Generating Image Number: 12 for target class tensor([3]). Step 250, Loss: 0.057513389736413956\n",
      "Generating Image Number: 12 for target class tensor([3]). Step 300, Loss: 0.04641628637909889\n",
      "Generating Image Number: 12 for target class tensor([3]). Step 350, Loss: 0.03665105253458023\n",
      "Generating Image Number: 12 for target class tensor([3]). Step 400, Loss: 0.030244166031479836\n",
      "Generating Image Number: 12 for target class tensor([3]). Step 450, Loss: 0.026021268218755722\n",
      "Generating Image Number: 13 for target class tensor([3]). Step 0, Loss: 2.7088191509246826\n",
      "Generating Image Number: 13 for target class tensor([3]). Step 50, Loss: 0.22945636510849\n",
      "Generating Image Number: 13 for target class tensor([3]). Step 100, Loss: 0.08446566015481949\n",
      "Generating Image Number: 13 for target class tensor([3]). Step 150, Loss: 0.053622182458639145\n",
      "Generating Image Number: 13 for target class tensor([3]). Step 200, Loss: 0.040224626660346985\n",
      "Generating Image Number: 13 for target class tensor([3]). Step 250, Loss: 0.03304309770464897\n",
      "Generating Image Number: 13 for target class tensor([3]). Step 300, Loss: 0.027827352285385132\n",
      "Generating Image Number: 13 for target class tensor([3]). Step 350, Loss: 0.023908523842692375\n",
      "Generating Image Number: 13 for target class tensor([3]). Step 400, Loss: 0.020896514877676964\n",
      "Generating Image Number: 13 for target class tensor([3]). Step 450, Loss: 0.018630865961313248\n",
      "Generating Image Number: 14 for target class tensor([3]). Step 0, Loss: 1.8238006830215454\n",
      "Generating Image Number: 14 for target class tensor([3]). Step 50, Loss: 0.005451218690723181\n",
      "Generating Image Number: 14 for target class tensor([3]). Step 100, Loss: 0.00043096792069263756\n",
      "Generating Image Number: 14 for target class tensor([3]). Step 150, Loss: 0.0003299168893136084\n",
      "Generating Image Number: 14 for target class tensor([3]). Step 200, Loss: 0.0002802217786666006\n",
      "Generating Image Number: 14 for target class tensor([3]). Step 250, Loss: 0.000251142424531281\n",
      "Generating Image Number: 14 for target class tensor([3]). Step 300, Loss: 0.00022849810193292797\n",
      "Generating Image Number: 14 for target class tensor([3]). Step 350, Loss: 0.00020954797219019383\n",
      "Generating Image Number: 14 for target class tensor([3]). Step 400, Loss: 0.0001961992384167388\n",
      "Generating Image Number: 14 for target class tensor([3]). Step 450, Loss: 0.0001820160250645131\n",
      "Generating Image Number: 15 for target class tensor([3]). Step 0, Loss: 4.851391315460205\n",
      "Generating Image Number: 15 for target class tensor([3]). Step 50, Loss: 2.157195568084717\n",
      "Generating Image Number: 15 for target class tensor([3]). Step 100, Loss: 1.6853634119033813\n",
      "Generating Image Number: 15 for target class tensor([3]). Step 150, Loss: 1.1753305196762085\n",
      "Generating Image Number: 15 for target class tensor([3]). Step 200, Loss: 0.9438188672065735\n",
      "Generating Image Number: 15 for target class tensor([3]). Step 250, Loss: 0.7925786375999451\n",
      "Generating Image Number: 15 for target class tensor([3]). Step 300, Loss: 0.6693980693817139\n",
      "Generating Image Number: 15 for target class tensor([3]). Step 350, Loss: 0.5881434082984924\n",
      "Generating Image Number: 15 for target class tensor([3]). Step 400, Loss: 0.49003738164901733\n",
      "Generating Image Number: 15 for target class tensor([3]). Step 450, Loss: 0.4378582835197449\n",
      "Generating Image Number: 16 for target class tensor([3]). Step 0, Loss: 6.905453205108643\n",
      "Generating Image Number: 16 for target class tensor([3]). Step 50, Loss: 2.060072183609009\n",
      "Generating Image Number: 16 for target class tensor([3]). Step 100, Loss: 1.6402831077575684\n",
      "Generating Image Number: 16 for target class tensor([3]). Step 150, Loss: 1.4485644102096558\n",
      "Generating Image Number: 16 for target class tensor([3]). Step 200, Loss: 1.405104398727417\n",
      "Generating Image Number: 16 for target class tensor([3]). Step 250, Loss: 1.0839505195617676\n",
      "Generating Image Number: 16 for target class tensor([3]). Step 300, Loss: 0.8892266154289246\n",
      "Generating Image Number: 16 for target class tensor([3]). Step 350, Loss: 0.7836683392524719\n",
      "Generating Image Number: 16 for target class tensor([3]). Step 400, Loss: 1.02144455909729\n",
      "Generating Image Number: 16 for target class tensor([3]). Step 450, Loss: 2.563915967941284\n",
      "Generating Image Number: 17 for target class tensor([3]). Step 0, Loss: 1.0408706665039062\n",
      "Generating Image Number: 17 for target class tensor([3]). Step 50, Loss: 0.4316105246543884\n",
      "Generating Image Number: 17 for target class tensor([3]). Step 100, Loss: 0.2866475582122803\n",
      "Generating Image Number: 17 for target class tensor([3]). Step 150, Loss: 0.20315706729888916\n",
      "Generating Image Number: 17 for target class tensor([3]). Step 200, Loss: 0.1645977795124054\n",
      "Generating Image Number: 17 for target class tensor([3]). Step 250, Loss: 0.12638558447360992\n",
      "Generating Image Number: 17 for target class tensor([3]). Step 300, Loss: 0.10460937023162842\n",
      "Generating Image Number: 17 for target class tensor([3]). Step 350, Loss: 0.09085258096456528\n",
      "Generating Image Number: 17 for target class tensor([3]). Step 400, Loss: 0.08056364208459854\n",
      "Generating Image Number: 17 for target class tensor([3]). Step 450, Loss: 0.07194071263074875\n",
      "Generating Image Number: 18 for target class tensor([3]). Step 0, Loss: 5.696263313293457\n",
      "Generating Image Number: 18 for target class tensor([3]). Step 50, Loss: 3.325847625732422\n",
      "Generating Image Number: 18 for target class tensor([3]). Step 100, Loss: 2.1208765506744385\n",
      "Generating Image Number: 18 for target class tensor([3]). Step 150, Loss: 1.6049377918243408\n",
      "Generating Image Number: 18 for target class tensor([3]). Step 200, Loss: 1.3491921424865723\n",
      "Generating Image Number: 18 for target class tensor([3]). Step 250, Loss: 1.1277391910552979\n",
      "Generating Image Number: 18 for target class tensor([3]). Step 300, Loss: 0.9748837947845459\n",
      "Generating Image Number: 18 for target class tensor([3]). Step 350, Loss: 0.8709231615066528\n",
      "Generating Image Number: 18 for target class tensor([3]). Step 400, Loss: 0.7710676789283752\n",
      "Generating Image Number: 18 for target class tensor([3]). Step 450, Loss: 0.7021800875663757\n",
      "Generating Image Number: 19 for target class tensor([3]). Step 0, Loss: 3.251270055770874\n",
      "Generating Image Number: 19 for target class tensor([3]). Step 50, Loss: 1.8300819396972656\n",
      "Generating Image Number: 19 for target class tensor([3]). Step 100, Loss: 1.252455711364746\n",
      "Generating Image Number: 19 for target class tensor([3]). Step 150, Loss: 0.9579117894172668\n",
      "Generating Image Number: 19 for target class tensor([3]). Step 200, Loss: 0.7473903894424438\n",
      "Generating Image Number: 19 for target class tensor([3]). Step 250, Loss: 0.6238698959350586\n",
      "Generating Image Number: 19 for target class tensor([3]). Step 300, Loss: 0.5473145246505737\n",
      "Generating Image Number: 19 for target class tensor([3]). Step 350, Loss: 0.49857398867607117\n",
      "Generating Image Number: 19 for target class tensor([3]). Step 400, Loss: 0.4489832818508148\n",
      "Generating Image Number: 19 for target class tensor([3]). Step 450, Loss: 0.39826685190200806\n",
      "Generating Image Number: 20 for target class tensor([3]). Step 0, Loss: 3.548565626144409\n",
      "Generating Image Number: 20 for target class tensor([3]). Step 50, Loss: 0.6903491020202637\n",
      "Generating Image Number: 20 for target class tensor([3]). Step 100, Loss: 0.359903484582901\n",
      "Generating Image Number: 20 for target class tensor([3]). Step 150, Loss: 0.2396722286939621\n",
      "Generating Image Number: 20 for target class tensor([3]). Step 200, Loss: 0.18424665927886963\n",
      "Generating Image Number: 20 for target class tensor([3]). Step 250, Loss: 0.14537313580513\n",
      "Generating Image Number: 20 for target class tensor([3]). Step 300, Loss: 0.11720547080039978\n",
      "Generating Image Number: 20 for target class tensor([3]). Step 350, Loss: 0.09736823290586472\n",
      "Generating Image Number: 20 for target class tensor([3]). Step 400, Loss: 0.07992114126682281\n",
      "Generating Image Number: 20 for target class tensor([3]). Step 450, Loss: 0.06735171377658844\n"
     ]
    }
   ],
   "source": [
    "torch.manual_seed(300)\n",
    "latent_vectors = torch.randn(img_count, z_dim, 1, 1, requires_grad=True) # Start with 20 random noises\n",
    "class3_optimized_latent_vectors = recover_images(img_count, 3, latent_vectors)"
   ]
  },
  {
   "cell_type": "code",
   "execution_count": 24,
   "id": "ae6425a5-dd86-4e87-8112-883336345ac9",
   "metadata": {},
   "outputs": [],
   "source": [
    "z0_1 = class0_optimized_latent_vectors[0]\n",
    "z0_2 = class0_optimized_latent_vectors[1]\n",
    "z0_3 = class0_optimized_latent_vectors[2]"
   ]
  },
  {
   "cell_type": "code",
   "execution_count": 25,
   "id": "3a6ed4fb-b693-4963-afcf-17a512e50b5f",
   "metadata": {},
   "outputs": [
    {
     "name": "stdout",
     "output_type": "stream",
     "text": [
      "torch.Size([64, 64])\n"
     ]
    }
   ],
   "source": [
    "# Display the generated image\n",
    "img = gen(z0_1.to(device)).squeeze(dim=0).squeeze(dim=0)\n",
    "print(img.shape)"
   ]
  },
  {
   "cell_type": "code",
   "execution_count": 26,
   "id": "88fc9416-c6ca-486b-bd72-63885de78d1c",
   "metadata": {},
   "outputs": [
    {
     "data": {
      "text/plain": [
       "<matplotlib.image.AxesImage at 0x26d0334d910>"
      ]
     },
     "execution_count": 26,
     "metadata": {},
     "output_type": "execute_result"
    },
    {
     "data": {
      "image/png": "[encoded data removed]",
      "text/plain": [
       "<Figure size 640x480 with 1 Axes>"
      ]
     },
     "metadata": {},
     "output_type": "display_data"
    }
   ],
   "source": [
    "plt.axis(False)\n",
    "plt.title('Recovered Image:')\n",
    "plt.imshow(img.cpu().detach(), cmap='gray')"
   ]
  },
  {
   "cell_type": "code",
   "execution_count": 27,
   "id": "bb0fc370-78c5-495f-b1e7-1239873b4ff8",
   "metadata": {},
   "outputs": [],
   "source": [
    "z1 = class1_optimized_latent_vectors[0]\n",
    "z2 = class1_optimized_latent_vectors[1]\n",
    "z3 = class1_optimized_latent_vectors[2]"
   ]
  },
  {
   "cell_type": "code",
   "execution_count": 28,
   "id": "07f38b7d-14f6-4d63-9efa-cb96ec2e1d35",
   "metadata": {},
   "outputs": [
    {
     "name": "stdout",
     "output_type": "stream",
     "text": [
      "torch.Size([64, 64])\n"
     ]
    }
   ],
   "source": [
    "# Display the generated image\n",
    "img = gen(z1.to(device)).squeeze(dim=0).squeeze(dim=0)\n",
    "print(img.shape)"
   ]
  },
  {
   "cell_type": "code",
   "execution_count": 29,
   "id": "8cad57ff-7961-4078-9dd4-1e0b4879ff56",
   "metadata": {},
   "outputs": [
    {
     "data": {
      "text/plain": [
       "<matplotlib.image.AxesImage at 0x26d033e8e20>"
      ]
     },
     "execution_count": 29,
     "metadata": {},
     "output_type": "execute_result"
    },
    {
     "data": {
      "image/png": "[encoded data removed]",
      "text/plain": [
       "<Figure size 640x480 with 1 Axes>"
      ]
     },
     "metadata": {},
     "output_type": "display_data"
    }
   ],
   "source": [
    "plt.axis(False)\n",
    "plt.title('Recovered Image:')\n",
    "plt.imshow(img.cpu().detach(), cmap='gray')"
   ]
  },
  {
   "cell_type": "code",
   "execution_count": 30,
   "id": "52ecd67d-cb2d-44a3-b375-759d63db75b1",
   "metadata": {},
   "outputs": [],
   "source": [
    "                                                            # Dataset Loading\n",
    "# Load the .pkl files in as numpy arrays of pixels\n",
    "def load_tumor_data(file_path):\n",
    "    train_xs = []\n",
    "    train_ys = []\n",
    "    \"\"\" Load Digits Data from pickle data\n",
    "    return:\n",
    "    @xs: numpy.array, (n, c, w, h) \n",
    "    @ys: numpy.array, (n, ), 0-9\n",
    "    \"\"\"\n",
    "    with open(file_path, 'rb') as file:\n",
    "        data = pickle.load(file)\n",
    "        train_xs.append(data[\"data\"])\n",
    "        train_ys.append(data[\"labels\"])\n",
    "    train_xs = np.concatenate(train_xs, axis=0)\n",
    "    train_ys = np.concatenate(train_ys, axis=0)\n",
    "    \n",
    "    return train_xs, train_ys"
   ]
  },
  {
   "cell_type": "code",
   "execution_count": 31,
   "id": "ca72f62f-1eec-4b17-a8ce-fd66781f64f6",
   "metadata": {},
   "outputs": [],
   "source": [
    "# Custom Tumor Dataset\n",
    "class TumorDataset(data.Dataset):\n",
    "    def __init__(self, xs, ys, is_train=True):\n",
    "        self.xs = xs\n",
    "        self.ys = ys\n",
    "\n",
    "        if is_train is True:\n",
    "            self.transform = transforms.Compose([\n",
    "                transforms.ToPILImage(),\n",
    "                transforms.Resize((64, 64)),\n",
    "                transforms.ToTensor(),\n",
    "                transforms.Normalize(\n",
    "                    [0.5],\n",
    "                    [0.5]\n",
    "                )\n",
    "            ])\n",
    "        else:\n",
    "            self.transform = transforms.Compose([\n",
    "                transforms.ToPILImage(),\n",
    "                transforms.Resize((64, 64)),\n",
    "                transforms.ToTensor(),\n",
    "                transforms.Normalize(\n",
    "                    (0.4914, 0.4822, 0.4465),\n",
    "                    (0.2023, 0.1994, 0.2010)\n",
    "                )\n",
    "            ])\n",
    "\n",
    "    def __len__(self):\n",
    "        return len(self.xs)\n",
    "\n",
    "    def __getitem__(self, index):\n",
    "        img = self.xs[index]\n",
    "        #print(img.shape)\n",
    "        label = self.ys[index]\n",
    "\n",
    "        img = img.transpose((1, 2, 0)).astype(np.uint8)\n",
    "        img = self.transform(img)\n",
    "\n",
    "        img = torch.FloatTensor(img)\n",
    "        label = torch.LongTensor([label])[0]\n",
    "        return img, label"
   ]
  },
  {
   "cell_type": "code",
   "execution_count": 32,
   "id": "ceb91588-ef69-4373-b33f-74aed6c246bb",
   "metadata": {},
   "outputs": [],
   "source": [
    "def create_dataset(train_xs, train_ys):\n",
    "    tumor_dataset = TumorDataset(train_xs, train_ys, is_train=True)\n",
    "\n",
    "    return tumor_dataset"
   ]
  },
  {
   "cell_type": "code",
   "execution_count": 33,
   "id": "0415fba0-830c-42c6-bbde-c6958e779fbb",
   "metadata": {},
   "outputs": [],
   "source": [
    "def create_dataloader(dataset):\n",
    "    dataloader = DataLoader(dataset=dataset, batch_size=128, shuffle=True)\n",
    "\n",
    "    return dataloader"
   ]
  },
  {
   "cell_type": "code",
   "execution_count": 34,
   "id": "726d4995-5133-4037-ab0e-f2705470cdc9",
   "metadata": {},
   "outputs": [
    {
     "name": "stdout",
     "output_type": "stream",
     "text": [
      "(13927, 1, 32, 32)\n",
      "<class 'numpy.ndarray'>\n"
     ]
    }
   ],
   "source": [
    "# Load in the pickle dataset file\n",
    "train_xs, train_ys = load_tumor_data('datasets/Tumor/tumor4train.pkl')\n",
    "#train_xs = train_xs[:, 1, :, :]\n",
    "#train_xs = np.expand_dims(train_xs, axis=1)\n",
    "train_xs = train_xs.mean(axis=1, keepdims=True)\n",
    "print(train_xs.shape)\n",
    "print(type(train_xs))"
   ]
  },
  {
   "cell_type": "code",
   "execution_count": 35,
   "id": "a684b01a-eb4a-4210-9f59-d613085a404a",
   "metadata": {},
   "outputs": [],
   "source": [
    "# Create the dataset\n",
    "tumor_dataset = create_dataset(train_xs, train_ys)"
   ]
  },
  {
   "cell_type": "code",
   "execution_count": 36,
   "id": "193f07cc-d34f-425e-aa08-62b6d6adbad6",
   "metadata": {},
   "outputs": [],
   "source": [
    "def visualize_image(image_x):\n",
    "    # We have to visualize by reverting the normalization (just for visualization).\n",
    "    mean = torch.tensor([0.5])\n",
    "    std = torch.tensor([0.5])\n",
    "\n",
    "    image = image_x * std + mean  # Denormalize the image\n",
    "\n",
    "    image = torch.clamp(image, 0, 1) # Clip values to [0, 1] to ensure valid range for display\n",
    "\n",
    "    # Permute the image to (H, W, C) for matplotlib\n",
    "    \n",
    "    image = image.permute(1, 2, 0)\n",
    "\n",
    "    plt.imshow(image, cmap='gray')"
   ]
  },
  {
   "cell_type": "code",
   "execution_count": 37,
   "id": "16e93c17-a89b-46a2-8198-71e66e370f4f",
   "metadata": {},
   "outputs": [
    {
     "name": "stdout",
     "output_type": "stream",
     "text": [
      "torch.Size([1, 64, 64])\n"
     ]
    },
    {
     "data": {
      "image/png": "[encoded data removed]",
      "text/plain": [
       "<Figure size 640x480 with 1 Axes>"
      ]
     },
     "metadata": {},
     "output_type": "display_data"
    }
   ],
   "source": [
    "# Visualize the first tumor sample. \n",
    "image_x, image_y = tumor_dataset[7000]\n",
    "print(image_x.shape)\n",
    "visualize_image(image_x)"
   ]
  },
  {
   "cell_type": "code",
   "execution_count": 38,
   "id": "60e2da47-7cb6-493e-aeda-aa80d7965de7",
   "metadata": {},
   "outputs": [],
   "source": [
    "from scipy.spatial.distance import cosine"
   ]
  },
  {
   "cell_type": "code",
   "execution_count": 39,
   "id": "5a7937e5-b808-4b3e-8288-75dcd9862340",
   "metadata": {},
   "outputs": [],
   "source": [
    "# Get the feature embeddings\n",
    "tfcnn_model = target_model = load_target_model(base_net='TFCNN', n_classes=4, path='saved models/fedavg_global_model.pth').to(device)\n",
    "model_embeddings = tfcnn_model.encoder.to(device)"
   ]
  },
  {
   "cell_type": "code",
   "execution_count": 40,
   "id": "737e3d92-45b6-45f6-9bf2-d51f379d6ac8",
   "metadata": {},
   "outputs": [],
   "source": [
    "# Preprocessing\n",
    "preprocess = transforms.Compose([\n",
    "    transforms.Resize(256),\n",
    "    transforms.CenterCrop(224),\n",
    "    transforms.ToTensor(),\n",
    "])"
   ]
  },
  {
   "cell_type": "code",
   "execution_count": 41,
   "id": "babb1015-bdfb-439b-bea1-81f9f50dd74e",
   "metadata": {},
   "outputs": [],
   "source": [
    "def get_feature(img):\n",
    "    with torch.no_grad():\n",
    "        features = model_embeddings(img).squeeze()\n",
    "    return features.cpu().numpy()"
   ]
  },
  {
   "cell_type": "code",
   "execution_count": 42,
   "id": "79f38654-6670-440d-a322-b2cae18a71d8",
   "metadata": {},
   "outputs": [
    {
     "data": {
      "text/plain": [
       "torch.Size([1, 64, 64])"
      ]
     },
     "execution_count": 42,
     "metadata": {},
     "output_type": "execute_result"
    }
   ],
   "source": [
    "# Send an original image through the model\n",
    "image_x, image_y = tumor_dataset[10]\n",
    "image_x.shape"
   ]
  },
  {
   "cell_type": "code",
   "execution_count": 43,
   "id": "a4a2659e-dcaa-4d4a-b5a5-06b363ce6534",
   "metadata": {},
   "outputs": [],
   "source": [
    "image_x = image_x.unsqueeze(dim=0)"
   ]
  },
  {
   "cell_type": "code",
   "execution_count": 44,
   "id": "14348bfc-5988-48f0-88cf-4761d7a99d89",
   "metadata": {},
   "outputs": [
    {
     "data": {
      "text/plain": [
       "torch.Size([1, 1, 64, 64])"
      ]
     },
     "execution_count": 44,
     "metadata": {},
     "output_type": "execute_result"
    }
   ],
   "source": [
    "image_x.shape"
   ]
  },
  {
   "cell_type": "code",
   "execution_count": 45,
   "id": "66160253-9543-4aba-bb81-031d51ef9623",
   "metadata": {},
   "outputs": [
    {
     "data": {
      "text/plain": [
       "torch.Size([1, 3, 64, 64])"
      ]
     },
     "execution_count": 45,
     "metadata": {},
     "output_type": "execute_result"
    }
   ],
   "source": [
    "image_x = image_x.repeat(1, 3, 1, 1)\n",
    "image_x = image_x.to(device)\n",
    "image_x.shape"
   ]
  },
  {
   "cell_type": "code",
   "execution_count": 46,
   "id": "f615c7d3-2dab-425d-81e1-2595ec59e230",
   "metadata": {},
   "outputs": [
    {
     "data": {
      "text/plain": [
       "(4096,)"
      ]
     },
     "execution_count": 46,
     "metadata": {},
     "output_type": "execute_result"
    }
   ],
   "source": [
    "features = get_feature(image_x)\n",
    "features.shape"
   ]
  },
  {
   "cell_type": "code",
   "execution_count": 47,
   "id": "31b9ddc9-3fc8-4a47-bfc7-74a6df27d672",
   "metadata": {},
   "outputs": [],
   "source": [
    "class0_original_images = []\n",
    "class1_original_images = []\n",
    "class2_original_images = []\n",
    "class3_original_images = []\n",
    "target_num = 20 # 20 images for each class"
   ]
  },
  {
   "cell_type": "code",
   "execution_count": 48,
   "id": "e804c948-2dc8-41df-a633-113300baf12a",
   "metadata": {},
   "outputs": [],
   "source": [
    "for i in range(len(tumor_dataset)):\n",
    "    img_x, img_y = tumor_dataset[i]\n",
    "\n",
    "    if img_y == 0:\n",
    "        if len(class0_original_images) < target_num:\n",
    "            class0_original_images.append(img_x)\n",
    "    elif img_y == 1:\n",
    "        if len(class1_original_images) < target_num:\n",
    "            class1_original_images.append(img_x)\n",
    "    elif img_y == 2:\n",
    "        if len(class2_original_images) < target_num:\n",
    "            class2_original_images.append(img_x)\n",
    "    elif img_y == 3:\n",
    "        if len(class3_original_images) < target_num:\n",
    "            class3_original_images.append(img_x)"
   ]
  },
  {
   "cell_type": "code",
   "execution_count": 49,
   "id": "ef07c896-c4cd-48da-9e59-c9d7bd90a4e8",
   "metadata": {},
   "outputs": [
    {
     "data": {
      "text/plain": [
       "20"
      ]
     },
     "execution_count": 49,
     "metadata": {},
     "output_type": "execute_result"
    }
   ],
   "source": [
    "len(class3_original_images)"
   ]
  },
  {
   "cell_type": "code",
   "execution_count": 50,
   "id": "e102404a-68a3-40c5-99a7-45813eb87f20",
   "metadata": {},
   "outputs": [
    {
     "data": {
      "text/plain": [
       "torch.Size([1, 3, 64, 64])"
      ]
     },
     "execution_count": 50,
     "metadata": {},
     "output_type": "execute_result"
    }
   ],
   "source": [
    "# Testing the cosine similarity\n",
    "class1_original_image = class1_original_images[8]\n",
    "class1_original_image = class1_original_image.unsqueeze(dim=0).to(device)\n",
    "class1_original_image = class1_original_image.repeat(1, 3, 1, 1)\n",
    "class1_original_image.shape"
   ]
  },
  {
   "cell_type": "code",
   "execution_count": 51,
   "id": "d7fe9c85-2c83-4580-be7d-32833b706948",
   "metadata": {},
   "outputs": [],
   "source": [
    "fake1 = class1_optimized_latent_vectors[8]\n",
    "fake1_image = gen(fake1.to(device))\n",
    "fake1_image = fake1_image.repeat(1, 3, 1, 1)"
   ]
  },
  {
   "cell_type": "code",
   "execution_count": 52,
   "id": "74647152-cdcb-4593-a88f-d3ac43fd97d3",
   "metadata": {},
   "outputs": [
    {
     "data": {
      "text/plain": [
       "torch.Size([1, 3, 64, 64])"
      ]
     },
     "execution_count": 52,
     "metadata": {},
     "output_type": "execute_result"
    }
   ],
   "source": [
    "fake1_image.shape"
   ]
  },
  {
   "cell_type": "code",
   "execution_count": 53,
   "id": "e88f6396-0ef2-45f5-96e0-6048be01af25",
   "metadata": {},
   "outputs": [],
   "source": [
    "# Get the features of the images\n",
    "features_original = get_feature(class1_original_image)\n",
    "features_fake = get_feature(fake1_image)"
   ]
  },
  {
   "cell_type": "code",
   "execution_count": 54,
   "id": "b54e2bca-5f2b-41ea-b810-15d1f9d30f86",
   "metadata": {},
   "outputs": [],
   "source": [
    "# Compute cosine similarity\n",
    "similarity = 1 - cosine(features_original, features_fake)"
   ]
  },
  {
   "cell_type": "code",
   "execution_count": 55,
   "id": "983c7e35-27ee-453c-9356-cb9a84fdd4a3",
   "metadata": {},
   "outputs": [
    {
     "data": {
      "text/plain": [
       "np.float32(0.6412424)"
      ]
     },
     "execution_count": 55,
     "metadata": {},
     "output_type": "execute_result"
    }
   ],
   "source": [
    "similarity"
   ]
  },
  {
   "cell_type": "code",
   "execution_count": 56,
   "id": "e65e04e8-52b7-4cf2-876c-d9b07a435ec9",
   "metadata": {},
   "outputs": [],
   "source": [
    "def calculate_class0_sim():\n",
    "    similarities = []\n",
    "    for i in range(0, 20):\n",
    "        class0_original = class0_original_images[i].unsqueeze(dim=0).to(device)\n",
    "        class0_original = class0_original.repeat(1, 3, 1, 1)\n",
    "\n",
    "        class0_fake = class0_optimized_latent_vectors[i]\n",
    "        class0_fake_img = gen(class0_fake.to(device))\n",
    "        class0_fake_img = class0_fake_img.repeat(1, 3, 1, 1)\n",
    "\n",
    "        features_original = get_feature(class0_original)\n",
    "        features_fake = get_feature(class0_fake_img)\n",
    "\n",
    "        cosine_similarity = 1 - cosine(features_original, features_fake)\n",
    "\n",
    "        similarities.append(cosine_similarity)\n",
    "        \n",
    "    return similarities"
   ]
  },
  {
   "cell_type": "code",
   "execution_count": 57,
   "id": "10d8f579-0b80-4157-b59b-7b92be9e52f2",
   "metadata": {},
   "outputs": [],
   "source": [
    "def calculate_class1_sim():\n",
    "    similarities = []\n",
    "    for i in range(0, 20):\n",
    "        class1_original = class1_original_images[i].unsqueeze(dim=0).to(device)\n",
    "        class1_original = class1_original.repeat(1, 3, 1, 1)\n",
    "\n",
    "        class1_fake = class1_optimized_latent_vectors[i]\n",
    "        class1_fake_img = gen(class1_fake.to(device))\n",
    "        class1_fake_img = class1_fake_img.repeat(1, 3, 1, 1)\n",
    "\n",
    "        features_original = get_feature(class1_original)\n",
    "        features_fake = get_feature(class1_fake_img)\n",
    "\n",
    "        cosine_similarity = 1 - cosine(features_original, features_fake)\n",
    "        similarities.append(cosine_similarity)\n",
    "\n",
    "    return similarities"
   ]
  },
  {
   "cell_type": "code",
   "execution_count": 58,
   "id": "1bbdc999-fa6d-4005-b785-3c54a7bd89ee",
   "metadata": {},
   "outputs": [],
   "source": [
    "def calculate_class2_sim():\n",
    "    similarities = []\n",
    "    for i in range(0, 20):\n",
    "        class2_original = class2_original_images[i].unsqueeze(dim=0).to(device)\n",
    "        class2_original = class2_original.repeat(1, 3, 1, 1)\n",
    "\n",
    "        class2_fake = class2_optimized_latent_vectors[i]\n",
    "        class2_fake_img = gen(class2_fake.to(device))\n",
    "        class2_fake_img = class2_fake_img.repeat(1, 3, 1, 1)\n",
    "\n",
    "        features_original = get_feature(class2_original)\n",
    "        features_fake = get_feature(class2_fake_img)\n",
    "\n",
    "        cosine_similarity = 1 - cosine(features_original, features_fake)\n",
    "        similarities.append(cosine_similarity)\n",
    "\n",
    "    return similarities"
   ]
  },
  {
   "cell_type": "code",
   "execution_count": 59,
   "id": "33cb8de1-5a87-4dd4-8fc2-d3f27d6ddc9a",
   "metadata": {},
   "outputs": [],
   "source": [
    "def calculate_class3_sim():\n",
    "    similarities = []\n",
    "    for i in range(0, 20):\n",
    "        class3_original = class3_original_images[i].unsqueeze(dim=0).to(device)\n",
    "        class3_original = class3_original.repeat(1, 3, 1, 1)\n",
    "\n",
    "        class3_fake = class3_optimized_latent_vectors[i]\n",
    "        class3_fake_img = gen(class3_fake.to(device))\n",
    "        class3_fake_img = class3_fake_img.repeat(1, 3, 1, 1)\n",
    "\n",
    "        features_original = get_feature(class3_original)\n",
    "        features_fake = get_feature(class3_fake_img)\n",
    "\n",
    "        cosine_similarity = 1 - cosine(features_original, features_fake)\n",
    "        similarities.append(cosine_similarity)\n",
    "\n",
    "    return similarities"
   ]
  },
  {
   "cell_type": "code",
   "execution_count": 60,
   "id": "7868f175-5845-4ee4-b4cf-1c89513375ec",
   "metadata": {},
   "outputs": [],
   "source": [
    "class0_sims = calculate_class0_sim()\n",
    "class1_sims = calculate_class0_sim()\n",
    "class2_sims = calculate_class0_sim()\n",
    "class3_sims = calculate_class0_sim()"
   ]
  },
  {
   "cell_type": "code",
   "execution_count": 61,
   "id": "bbf4597d-a583-4204-a3ce-9085936e0189",
   "metadata": {},
   "outputs": [
    {
     "data": {
      "text/plain": [
       "[np.float32(0.58829576),\n",
       " np.float32(0.6297925),\n",
       " np.float32(0.42234504),\n",
       " np.float32(0.025195539),\n",
       " np.float32(0.5925614),\n",
       " np.float32(0.6932217),\n",
       " np.float32(0.4320296),\n",
       " np.float32(0.52150375),\n",
       " np.float32(0.6839724),\n",
       " np.float32(0.73602825),\n",
       " np.float32(0.018444896),\n",
       " np.float32(0.6034147),\n",
       " np.float32(0.72818816),\n",
       " np.float32(0.6396574),\n",
       " np.float32(0.5806586),\n",
       " np.float32(0.43823123),\n",
       " np.float32(0.85269433),\n",
       " np.float32(0.6797251),\n",
       " np.float32(0.39224434),\n",
       " np.float32(0.65149486)]"
      ]
     },
     "execution_count": 61,
     "metadata": {},
     "output_type": "execute_result"
    }
   ],
   "source": [
    "class0_sims"
   ]
  },
  {
   "cell_type": "code",
   "execution_count": 62,
   "id": "acb9d480-a58f-4ce6-8973-eb9c8d6e7253",
   "metadata": {},
   "outputs": [
    {
     "data": {
      "text/plain": [
       "[np.float32(0.5882957),\n",
       " np.float32(0.6297925),\n",
       " np.float32(0.42234504),\n",
       " np.float32(0.025195539),\n",
       " np.float32(0.59256154),\n",
       " np.float32(0.6932226),\n",
       " np.float32(0.43202955),\n",
       " np.float32(0.5215038),\n",
       " np.float32(0.68397236),\n",
       " np.float32(0.73602825),\n",
       " np.float32(0.018444896),\n",
       " np.float32(0.60341465),\n",
       " np.float32(0.72818804),\n",
       " np.float32(0.6396574),\n",
       " np.float32(0.58065933),\n",
       " np.float32(0.43822992),\n",
       " np.float32(0.85269433),\n",
       " np.float32(0.67972505),\n",
       " np.float32(0.39224422),\n",
       " np.float32(0.65149486)]"
      ]
     },
     "execution_count": 62,
     "metadata": {},
     "output_type": "execute_result"
    }
   ],
   "source": [
    "class3_sims"
   ]
  },
  {
   "cell_type": "code",
   "execution_count": 63,
   "id": "58dc103d-1c30-473a-adc3-fcd5ca5100a0",
   "metadata": {},
   "outputs": [
    {
     "ename": "FileNotFoundError",
     "evalue": "[Errno 2] No such file or directory: 'output/fedvg.png'",
     "output_type": "error",
     "traceback": [
      "\u001b[1;31m---------------------------------------------------------------------------\u001b[0m",
      "\u001b[1;31mFileNotFoundError\u001b[0m                         Traceback (most recent call last)",
      "Cell \u001b[1;32mIn[63], line 43\u001b[0m\n\u001b[0;32m     41\u001b[0m plt\u001b[38;5;241m.\u001b[39mtight_layout()\n\u001b[0;32m     42\u001b[0m \u001b[38;5;66;03m# Save the plot to a file\u001b[39;00m\n\u001b[1;32m---> 43\u001b[0m \u001b[43mplt\u001b[49m\u001b[38;5;241;43m.\u001b[39;49m\u001b[43msavefig\u001b[49m\u001b[43m(\u001b[49m\u001b[38;5;124;43m'\u001b[39;49m\u001b[38;5;124;43moutput/fedvg.png\u001b[39;49m\u001b[38;5;124;43m'\u001b[39;49m\u001b[43m,\u001b[49m\u001b[43m \u001b[49m\u001b[43mdpi\u001b[49m\u001b[38;5;241;43m=\u001b[39;49m\u001b[38;5;241;43m300\u001b[39;49m\u001b[43m,\u001b[49m\u001b[43m \u001b[49m\u001b[43mbbox_inches\u001b[49m\u001b[38;5;241;43m=\u001b[39;49m\u001b[38;5;124;43m'\u001b[39;49m\u001b[38;5;124;43mtight\u001b[39;49m\u001b[38;5;124;43m'\u001b[39;49m\u001b[43m)\u001b[49m  \u001b[38;5;66;03m# Save as a PNG file with high resolution\u001b[39;00m\n\u001b[0;32m     45\u001b[0m \u001b[38;5;66;03m# Show the plot\u001b[39;00m\n\u001b[0;32m     46\u001b[0m plt\u001b[38;5;241m.\u001b[39mshow()\n",
      "File \u001b[1;32m~\\AppData\\Local\\Programs\\Python\\Python39\\lib\\site-packages\\matplotlib\\pyplot.py:1228\u001b[0m, in \u001b[0;36msavefig\u001b[1;34m(*args, **kwargs)\u001b[0m\n\u001b[0;32m   1225\u001b[0m fig \u001b[38;5;241m=\u001b[39m gcf()\n\u001b[0;32m   1226\u001b[0m \u001b[38;5;66;03m# savefig default implementation has no return, so mypy is unhappy\u001b[39;00m\n\u001b[0;32m   1227\u001b[0m \u001b[38;5;66;03m# presumably this is here because subclasses can return?\u001b[39;00m\n\u001b[1;32m-> 1228\u001b[0m res \u001b[38;5;241m=\u001b[39m fig\u001b[38;5;241m.\u001b[39msavefig(\u001b[38;5;241m*\u001b[39margs, \u001b[38;5;241m*\u001b[39m\u001b[38;5;241m*\u001b[39mkwargs)  \u001b[38;5;66;03m# type: ignore[func-returns-value]\u001b[39;00m\n\u001b[0;32m   1229\u001b[0m fig\u001b[38;5;241m.\u001b[39mcanvas\u001b[38;5;241m.\u001b[39mdraw_idle()  \u001b[38;5;66;03m# Need this if 'transparent=True', to reset colors.\u001b[39;00m\n\u001b[0;32m   1230\u001b[0m \u001b[38;5;28;01mreturn\u001b[39;00m res\n",
      "File \u001b[1;32m~\\AppData\\Local\\Programs\\Python\\Python39\\lib\\site-packages\\matplotlib\\figure.py:3395\u001b[0m, in \u001b[0;36mFigure.savefig\u001b[1;34m(self, fname, transparent, **kwargs)\u001b[0m\n\u001b[0;32m   3393\u001b[0m     \u001b[38;5;28;01mfor\u001b[39;00m ax \u001b[38;5;129;01min\u001b[39;00m \u001b[38;5;28mself\u001b[39m\u001b[38;5;241m.\u001b[39maxes:\n\u001b[0;32m   3394\u001b[0m         _recursively_make_axes_transparent(stack, ax)\n\u001b[1;32m-> 3395\u001b[0m \u001b[38;5;28mself\u001b[39m\u001b[38;5;241m.\u001b[39mcanvas\u001b[38;5;241m.\u001b[39mprint_figure(fname, \u001b[38;5;241m*\u001b[39m\u001b[38;5;241m*\u001b[39mkwargs)\n",
      "File \u001b[1;32m~\\AppData\\Local\\Programs\\Python\\Python39\\lib\\site-packages\\matplotlib\\backend_bases.py:2204\u001b[0m, in \u001b[0;36mFigureCanvasBase.print_figure\u001b[1;34m(self, filename, dpi, facecolor, edgecolor, orientation, format, bbox_inches, pad_inches, bbox_extra_artists, backend, **kwargs)\u001b[0m\n\u001b[0;32m   2200\u001b[0m \u001b[38;5;28;01mtry\u001b[39;00m:\n\u001b[0;32m   2201\u001b[0m     \u001b[38;5;66;03m# _get_renderer may change the figure dpi (as vector formats\u001b[39;00m\n\u001b[0;32m   2202\u001b[0m     \u001b[38;5;66;03m# force the figure dpi to 72), so we need to set it again here.\u001b[39;00m\n\u001b[0;32m   2203\u001b[0m     \u001b[38;5;28;01mwith\u001b[39;00m cbook\u001b[38;5;241m.\u001b[39m_setattr_cm(\u001b[38;5;28mself\u001b[39m\u001b[38;5;241m.\u001b[39mfigure, dpi\u001b[38;5;241m=\u001b[39mdpi):\n\u001b[1;32m-> 2204\u001b[0m         result \u001b[38;5;241m=\u001b[39m print_method(\n\u001b[0;32m   2205\u001b[0m             filename,\n\u001b[0;32m   2206\u001b[0m             facecolor\u001b[38;5;241m=\u001b[39mfacecolor,\n\u001b[0;32m   2207\u001b[0m             edgecolor\u001b[38;5;241m=\u001b[39medgecolor,\n\u001b[0;32m   2208\u001b[0m             orientation\u001b[38;5;241m=\u001b[39morientation,\n\u001b[0;32m   2209\u001b[0m             bbox_inches_restore\u001b[38;5;241m=\u001b[39m_bbox_inches_restore,\n\u001b[0;32m   2210\u001b[0m             \u001b[38;5;241m*\u001b[39m\u001b[38;5;241m*\u001b[39mkwargs)\n\u001b[0;32m   2211\u001b[0m \u001b[38;5;28;01mfinally\u001b[39;00m:\n\u001b[0;32m   2212\u001b[0m     \u001b[38;5;28;01mif\u001b[39;00m bbox_inches \u001b[38;5;129;01mand\u001b[39;00m restore_bbox:\n",
      "File \u001b[1;32m~\\AppData\\Local\\Programs\\Python\\Python39\\lib\\site-packages\\matplotlib\\backend_bases.py:2054\u001b[0m, in \u001b[0;36mFigureCanvasBase._switch_canvas_and_return_print_method.<locals>.<lambda>\u001b[1;34m(*args, **kwargs)\u001b[0m\n\u001b[0;32m   2050\u001b[0m     optional_kws \u001b[38;5;241m=\u001b[39m {  \u001b[38;5;66;03m# Passed by print_figure for other renderers.\u001b[39;00m\n\u001b[0;32m   2051\u001b[0m         \u001b[38;5;124m\"\u001b[39m\u001b[38;5;124mdpi\u001b[39m\u001b[38;5;124m\"\u001b[39m, \u001b[38;5;124m\"\u001b[39m\u001b[38;5;124mfacecolor\u001b[39m\u001b[38;5;124m\"\u001b[39m, \u001b[38;5;124m\"\u001b[39m\u001b[38;5;124medgecolor\u001b[39m\u001b[38;5;124m\"\u001b[39m, \u001b[38;5;124m\"\u001b[39m\u001b[38;5;124morientation\u001b[39m\u001b[38;5;124m\"\u001b[39m,\n\u001b[0;32m   2052\u001b[0m         \u001b[38;5;124m\"\u001b[39m\u001b[38;5;124mbbox_inches_restore\u001b[39m\u001b[38;5;124m\"\u001b[39m}\n\u001b[0;32m   2053\u001b[0m     skip \u001b[38;5;241m=\u001b[39m optional_kws \u001b[38;5;241m-\u001b[39m {\u001b[38;5;241m*\u001b[39minspect\u001b[38;5;241m.\u001b[39msignature(meth)\u001b[38;5;241m.\u001b[39mparameters}\n\u001b[1;32m-> 2054\u001b[0m     print_method \u001b[38;5;241m=\u001b[39m functools\u001b[38;5;241m.\u001b[39mwraps(meth)(\u001b[38;5;28;01mlambda\u001b[39;00m \u001b[38;5;241m*\u001b[39margs, \u001b[38;5;241m*\u001b[39m\u001b[38;5;241m*\u001b[39mkwargs: meth(\n\u001b[0;32m   2055\u001b[0m         \u001b[38;5;241m*\u001b[39margs, \u001b[38;5;241m*\u001b[39m\u001b[38;5;241m*\u001b[39m{k: v \u001b[38;5;28;01mfor\u001b[39;00m k, v \u001b[38;5;129;01min\u001b[39;00m kwargs\u001b[38;5;241m.\u001b[39mitems() \u001b[38;5;28;01mif\u001b[39;00m k \u001b[38;5;129;01mnot\u001b[39;00m \u001b[38;5;129;01min\u001b[39;00m skip}))\n\u001b[0;32m   2056\u001b[0m \u001b[38;5;28;01melse\u001b[39;00m:  \u001b[38;5;66;03m# Let third-parties do as they see fit.\u001b[39;00m\n\u001b[0;32m   2057\u001b[0m     print_method \u001b[38;5;241m=\u001b[39m meth\n",
      "File \u001b[1;32m~\\AppData\\Local\\Programs\\Python\\Python39\\lib\\site-packages\\matplotlib\\backends\\backend_agg.py:496\u001b[0m, in \u001b[0;36mFigureCanvasAgg.print_png\u001b[1;34m(self, filename_or_obj, metadata, pil_kwargs)\u001b[0m\n\u001b[0;32m    449\u001b[0m \u001b[38;5;28;01mdef\u001b[39;00m\u001b[38;5;250m \u001b[39m\u001b[38;5;21mprint_png\u001b[39m(\u001b[38;5;28mself\u001b[39m, filename_or_obj, \u001b[38;5;241m*\u001b[39m, metadata\u001b[38;5;241m=\u001b[39m\u001b[38;5;28;01mNone\u001b[39;00m, pil_kwargs\u001b[38;5;241m=\u001b[39m\u001b[38;5;28;01mNone\u001b[39;00m):\n\u001b[0;32m    450\u001b[0m \u001b[38;5;250m    \u001b[39m\u001b[38;5;124;03m\"\"\"\u001b[39;00m\n\u001b[0;32m    451\u001b[0m \u001b[38;5;124;03m    Write the figure to a PNG file.\u001b[39;00m\n\u001b[0;32m    452\u001b[0m \n\u001b[1;32m   (...)\u001b[0m\n\u001b[0;32m    494\u001b[0m \u001b[38;5;124;03m        *metadata*, including the default 'Software' key.\u001b[39;00m\n\u001b[0;32m    495\u001b[0m \u001b[38;5;124;03m    \"\"\"\u001b[39;00m\n\u001b[1;32m--> 496\u001b[0m     \u001b[38;5;28;43mself\u001b[39;49m\u001b[38;5;241;43m.\u001b[39;49m\u001b[43m_print_pil\u001b[49m\u001b[43m(\u001b[49m\u001b[43mfilename_or_obj\u001b[49m\u001b[43m,\u001b[49m\u001b[43m \u001b[49m\u001b[38;5;124;43m\"\u001b[39;49m\u001b[38;5;124;43mpng\u001b[39;49m\u001b[38;5;124;43m\"\u001b[39;49m\u001b[43m,\u001b[49m\u001b[43m \u001b[49m\u001b[43mpil_kwargs\u001b[49m\u001b[43m,\u001b[49m\u001b[43m \u001b[49m\u001b[43mmetadata\u001b[49m\u001b[43m)\u001b[49m\n",
      "File \u001b[1;32m~\\AppData\\Local\\Programs\\Python\\Python39\\lib\\site-packages\\matplotlib\\backends\\backend_agg.py:445\u001b[0m, in \u001b[0;36mFigureCanvasAgg._print_pil\u001b[1;34m(self, filename_or_obj, fmt, pil_kwargs, metadata)\u001b[0m\n\u001b[0;32m    440\u001b[0m \u001b[38;5;250m\u001b[39m\u001b[38;5;124;03m\"\"\"\u001b[39;00m\n\u001b[0;32m    441\u001b[0m \u001b[38;5;124;03mDraw the canvas, then save it using `.image.imsave` (to which\u001b[39;00m\n\u001b[0;32m    442\u001b[0m \u001b[38;5;124;03m*pil_kwargs* and *metadata* are forwarded).\u001b[39;00m\n\u001b[0;32m    443\u001b[0m \u001b[38;5;124;03m\"\"\"\u001b[39;00m\n\u001b[0;32m    444\u001b[0m FigureCanvasAgg\u001b[38;5;241m.\u001b[39mdraw(\u001b[38;5;28mself\u001b[39m)\n\u001b[1;32m--> 445\u001b[0m \u001b[43mmpl\u001b[49m\u001b[38;5;241;43m.\u001b[39;49m\u001b[43mimage\u001b[49m\u001b[38;5;241;43m.\u001b[39;49m\u001b[43mimsave\u001b[49m\u001b[43m(\u001b[49m\n\u001b[0;32m    446\u001b[0m \u001b[43m    \u001b[49m\u001b[43mfilename_or_obj\u001b[49m\u001b[43m,\u001b[49m\u001b[43m \u001b[49m\u001b[38;5;28;43mself\u001b[39;49m\u001b[38;5;241;43m.\u001b[39;49m\u001b[43mbuffer_rgba\u001b[49m\u001b[43m(\u001b[49m\u001b[43m)\u001b[49m\u001b[43m,\u001b[49m\u001b[43m \u001b[49m\u001b[38;5;28;43mformat\u001b[39;49m\u001b[38;5;241;43m=\u001b[39;49m\u001b[43mfmt\u001b[49m\u001b[43m,\u001b[49m\u001b[43m \u001b[49m\u001b[43morigin\u001b[49m\u001b[38;5;241;43m=\u001b[39;49m\u001b[38;5;124;43m\"\u001b[39;49m\u001b[38;5;124;43mupper\u001b[39;49m\u001b[38;5;124;43m\"\u001b[39;49m\u001b[43m,\u001b[49m\n\u001b[0;32m    447\u001b[0m \u001b[43m    \u001b[49m\u001b[43mdpi\u001b[49m\u001b[38;5;241;43m=\u001b[39;49m\u001b[38;5;28;43mself\u001b[39;49m\u001b[38;5;241;43m.\u001b[39;49m\u001b[43mfigure\u001b[49m\u001b[38;5;241;43m.\u001b[39;49m\u001b[43mdpi\u001b[49m\u001b[43m,\u001b[49m\u001b[43m \u001b[49m\u001b[43mmetadata\u001b[49m\u001b[38;5;241;43m=\u001b[39;49m\u001b[43mmetadata\u001b[49m\u001b[43m,\u001b[49m\u001b[43m \u001b[49m\u001b[43mpil_kwargs\u001b[49m\u001b[38;5;241;43m=\u001b[39;49m\u001b[43mpil_kwargs\u001b[49m\u001b[43m)\u001b[49m\n",
      "File \u001b[1;32m~\\AppData\\Local\\Programs\\Python\\Python39\\lib\\site-packages\\matplotlib\\image.py:1676\u001b[0m, in \u001b[0;36mimsave\u001b[1;34m(fname, arr, vmin, vmax, cmap, format, origin, dpi, metadata, pil_kwargs)\u001b[0m\n\u001b[0;32m   1674\u001b[0m pil_kwargs\u001b[38;5;241m.\u001b[39msetdefault(\u001b[38;5;124m\"\u001b[39m\u001b[38;5;124mformat\u001b[39m\u001b[38;5;124m\"\u001b[39m, \u001b[38;5;28mformat\u001b[39m)\n\u001b[0;32m   1675\u001b[0m pil_kwargs\u001b[38;5;241m.\u001b[39msetdefault(\u001b[38;5;124m\"\u001b[39m\u001b[38;5;124mdpi\u001b[39m\u001b[38;5;124m\"\u001b[39m, (dpi, dpi))\n\u001b[1;32m-> 1676\u001b[0m image\u001b[38;5;241m.\u001b[39msave(fname, \u001b[38;5;241m*\u001b[39m\u001b[38;5;241m*\u001b[39mpil_kwargs)\n",
      "File \u001b[1;32m~\\AppData\\Local\\Programs\\Python\\Python39\\lib\\site-packages\\PIL\\Image.py:2436\u001b[0m, in \u001b[0;36mImage.save\u001b[1;34m(self, fp, format, **params)\u001b[0m\n\u001b[0;32m   2434\u001b[0m         fp \u001b[38;5;241m=\u001b[39m builtins\u001b[38;5;241m.\u001b[39mopen(filename, \u001b[38;5;124m\"\u001b[39m\u001b[38;5;124mr+b\u001b[39m\u001b[38;5;124m\"\u001b[39m)\n\u001b[0;32m   2435\u001b[0m     \u001b[38;5;28;01melse\u001b[39;00m:\n\u001b[1;32m-> 2436\u001b[0m         fp \u001b[38;5;241m=\u001b[39m \u001b[43mbuiltins\u001b[49m\u001b[38;5;241;43m.\u001b[39;49m\u001b[43mopen\u001b[49m\u001b[43m(\u001b[49m\u001b[43mfilename\u001b[49m\u001b[43m,\u001b[49m\u001b[43m \u001b[49m\u001b[38;5;124;43m\"\u001b[39;49m\u001b[38;5;124;43mw+b\u001b[39;49m\u001b[38;5;124;43m\"\u001b[39;49m\u001b[43m)\u001b[49m\n\u001b[0;32m   2438\u001b[0m \u001b[38;5;28;01mtry\u001b[39;00m:\n\u001b[0;32m   2439\u001b[0m     save_handler(\u001b[38;5;28mself\u001b[39m, fp, filename)\n",
      "\u001b[1;31mFileNotFoundError\u001b[0m: [Errno 2] No such file or directory: 'output/fedvg.png'"
     ]
    },
    {
     "data": {
      "image/png": "[encoded data removed]",
      "text/plain": [
       "<Figure size 650x420 with 1 Axes>"
      ]
     },
     "metadata": {},
     "output_type": "display_data"
    }
   ],
   "source": [
    "                                                        # VISUALIZE\n",
    "# NOTE: Class indexes now start from 1 so, previous class 0 = now class 1 and so on\n",
    "# FIG 1: Raw similarity plot\n",
    "\n",
    "import pandas as pd\n",
    "import numpy as np\n",
    "import matplotlib.pyplot as plt\n",
    "import seaborn as sns\n",
    "\n",
    "# Generate sample similarity data for four classes (each with 20 values in the range 0 to 1)\n",
    "class1_sim = class0_sims\n",
    "class2_sim = class1_sims\n",
    "class3_sim = class2_sims\n",
    "class4_sim = class3_sims\n",
    "\n",
    "# Set figure size\n",
    "plt.figure(figsize=(6.5, 4.2))  # Set the size of the figure (width, height)\n",
    "\n",
    "# Sample DataFrame with four columns\n",
    "data=pd.DataFrame({'Class 1':class1_sim,'Class 2':class2_sim,'Class 3':class3_sim,'Class 4':class4_sim})\n",
    "df = pd.DataFrame(data)\n",
    "\n",
    "# Plot the probability distributions\n",
    "#plt.figure(figsize=(10, 6))\n",
    "\n",
    "# Define colors and line styles for each column\n",
    "colors = ['#1f77b4', '#ff7f0e', '#2ca02c', '#d62728']\n",
    "linestyles = ['-.', '--', '-', '-']\n",
    "\n",
    "# Plot the probability distributions with unique colors and line styles\n",
    "for column, color, linestyle in zip(df.columns, colors, linestyles):\n",
    "    sns.kdeplot(df[column], label=column, color=color, linestyle=linestyle)\n",
    "\n",
    "#plt.title('Probability Distributions of Four Columns')\n",
    "plt.xlabel('Similarity',fontsize=12)\n",
    "plt.ylabel('Density',fontsize=12)\n",
    "plt.yticks(fontsize=12)  # Set y-tick labels font size\n",
    "plt.legend(loc='upper right',fontsize=12)  # Increase legend font size\n",
    "\n",
    "# Optimize layout\n",
    "plt.tight_layout()\n",
    "# Save the plot to a file\n",
    "plt.savefig('output/fedvg.png', dpi=300, bbox_inches='tight')  # Save as a PNG file with high resolution\n",
    "\n",
    "# Show the plot\n",
    "plt.show()\n"
   ]
  },
  {
   "cell_type": "code",
   "execution_count": 64,
   "id": "c71af78e-28e9-4564-9609-3039455bb875",
   "metadata": {},
   "outputs": [
    {
     "data": {
      "image/png": "[encoded data removed]",
      "text/plain": [
       "<Figure size 750x500 with 1 Axes>"
      ]
     },
     "metadata": {},
     "output_type": "display_data"
    }
   ],
   "source": [
    "# FIG 2: DIFFERENCES IN COSINE SIMILARITY\n",
    "\n",
    "# For each class, we have 20 similarity values — one per image — showing how similar fake and real versions are.These values are very close across classes\n",
    "# So, to highlight subtle differences, compute and plot the difference between each pair of classes, value by value.\n",
    "# This gives you 20 values showing how much the similarity differs for each image between class 0 and class 1.\n",
    "# It's a magnified view of the gap between classes.\n",
    "# If the differences are tiny (e.g., 0.003), the plot helps make that visible and comparable.\n",
    "\n",
    "import numpy as np\n",
    "import matplotlib.pyplot as plt\n",
    "import seaborn as sns\n",
    "import pandas as pd\n",
    "\n",
    "# Differences between class distributions (pairwise)\n",
    "diff_12 = np.array(class2_sim) - np.array(class1_sim)\n",
    "diff_13 = np.array(class3_sim) - np.array(class1_sim)\n",
    "diff_14 = np.array(class4_sim) - np.array(class1_sim)\n",
    "diff_23 = np.array(class3_sim) - np.array(class2_sim)\n",
    "diff_24 = np.array(class4_sim) - np.array(class2_sim)\n",
    "diff_34 = np.array(class4_sim) - np.array(class3_sim)\n",
    "\n",
    "# Create a DataFrame\n",
    "diff_df = pd.DataFrame({\n",
    "    'Class 2 - Class 1': diff_12,\n",
    "    'Class 3 - Class 1': diff_13,\n",
    "    'Class 4 - Class 1': diff_14,\n",
    "    'Class 3 - Class 2': diff_23,\n",
    "    'Class 4 - Class 2': diff_24,\n",
    "    'Class 4 - Class 3': diff_34,\n",
    "})\n",
    "\n",
    "# Plot\n",
    "plt.figure(figsize=(7.5, 5))\n",
    "\n",
    "colors = sns.color_palette(\"tab10\", n_colors=6)\n",
    "\n",
    "for column, color in zip(diff_df.columns, colors):\n",
    "    sns.kdeplot(diff_df[column], label=column, color=color, linestyle='-')\n",
    "\n",
    "plt.axvline(0, color='black', linestyle='--', linewidth=1)  # reference line at 0\n",
    "plt.xlabel('Difference in Similarity', fontsize=12)\n",
    "plt.ylabel('Density', fontsize=12)\n",
    "plt.legend(fontsize=10)\n",
    "plt.title(\"Pairwise Differences in Cosine Similarity\", fontsize=13)\n",
    "plt.tight_layout()\n",
    "plt.show()"
   ]
  },
  {
   "cell_type": "code",
   "execution_count": 65,
   "id": "362bf182-7927-4ce2-bf5a-97299d426bc4",
   "metadata": {},
   "outputs": [],
   "source": [
    "def calculate_interclass_similarity(first, second):\n",
    "    similarities = []\n",
    "\n",
    "    first_images = []\n",
    "    second_images = []\n",
    "    if first == 'class1':\n",
    "        first_images = class0_original_images.copy()\n",
    "    elif first == 'class2':\n",
    "        first_images = class1_original_images.copy()\n",
    "    elif first == 'class3':\n",
    "        first_images = class2_original_images.copy()\n",
    "    elif first == 'class4':\n",
    "        first_images = class3_original_images.copy()\n",
    "\n",
    "    if second == 'class1':\n",
    "        second_images = class0_original_images.copy()\n",
    "    elif second == 'class2':\n",
    "        second_images = class1_original_images.copy()\n",
    "    elif second == 'class3':\n",
    "        second_images = class2_original_images.copy()\n",
    "    elif second == 'class4':\n",
    "        second_images = class3_original_images.copy()\n",
    "    \n",
    "    for i in range(0, 20):\n",
    "        first_image = first_images[i].unsqueeze(dim=0).to(device)\n",
    "        first_image = first_image.repeat(1, 3, 1, 1)\n",
    "        \n",
    "        second_image = second_images[i].unsqueeze(dim=0).to(device)\n",
    "        second_image = second_image.repeat(1, 3, 1, 1)\n",
    "        \n",
    "        features_first = get_feature(first_image)\n",
    "        features_second = get_feature(second_image)\n",
    "\n",
    "        cosine_similarity = 1 - cosine(features_first, features_second)\n",
    "        similarities.append(cosine_similarity)\n",
    "\n",
    "    return similarities"
   ]
  },
  {
   "cell_type": "code",
   "execution_count": 66,
   "id": "5954dfe3-cb08-4551-a5f9-d2082ac3d604",
   "metadata": {},
   "outputs": [],
   "source": [
    "class1class2 = calculate_interclass_similarity('class1', 'class2')"
   ]
  },
  {
   "cell_type": "code",
   "execution_count": 67,
   "id": "cd5ab50d-9d9d-443b-bea5-2d6e302e2bf4",
   "metadata": {},
   "outputs": [
    {
     "data": {
      "text/plain": [
       "[np.float32(0.92668736),\n",
       " np.float32(0.9234537),\n",
       " np.float32(0.8914366),\n",
       " np.float32(0.85996324),\n",
       " np.float32(0.9045878),\n",
       " np.float32(0.8661933),\n",
       " np.float32(0.8529511),\n",
       " np.float32(0.8320824),\n",
       " np.float32(0.81313324),\n",
       " np.float32(0.9028811),\n",
       " np.float32(0.9157124),\n",
       " np.float32(0.83247995),\n",
       " np.float32(0.9164997),\n",
       " np.float32(0.84919524),\n",
       " np.float32(0.90398437),\n",
       " np.float32(0.8242637),\n",
       " np.float32(0.78115076),\n",
       " np.float32(0.80533254),\n",
       " np.float32(0.92938054),\n",
       " np.float32(0.89034694)]"
      ]
     },
     "execution_count": 67,
     "metadata": {},
     "output_type": "execute_result"
    }
   ],
   "source": [
    "class1class2"
   ]
  },
  {
   "cell_type": "code",
   "execution_count": 68,
   "id": "29441f40-36a7-4854-98be-5d128bae49cd",
   "metadata": {},
   "outputs": [
    {
     "ename": "FileNotFoundError",
     "evalue": "[Errno 2] No such file or directory: 'output/VoiceDivergenceD3.png'",
     "output_type": "error",
     "traceback": [
      "\u001b[1;31m---------------------------------------------------------------------------\u001b[0m",
      "\u001b[1;31mFileNotFoundError\u001b[0m                         Traceback (most recent call last)",
      "Cell \u001b[1;32mIn[68], line 44\u001b[0m\n\u001b[0;32m     42\u001b[0m plt\u001b[38;5;241m.\u001b[39mtight_layout()\n\u001b[0;32m     43\u001b[0m \u001b[38;5;66;03m# Save the plot to a file\u001b[39;00m\n\u001b[1;32m---> 44\u001b[0m \u001b[43mplt\u001b[49m\u001b[38;5;241;43m.\u001b[39;49m\u001b[43msavefig\u001b[49m\u001b[43m(\u001b[49m\u001b[38;5;124;43m'\u001b[39;49m\u001b[38;5;124;43moutput/VoiceDivergenceD3.png\u001b[39;49m\u001b[38;5;124;43m'\u001b[39;49m\u001b[43m,\u001b[49m\u001b[43m \u001b[49m\u001b[43mdpi\u001b[49m\u001b[38;5;241;43m=\u001b[39;49m\u001b[38;5;241;43m300\u001b[39;49m\u001b[43m,\u001b[49m\u001b[43m \u001b[49m\u001b[43mbbox_inches\u001b[49m\u001b[38;5;241;43m=\u001b[39;49m\u001b[38;5;124;43m'\u001b[39;49m\u001b[38;5;124;43mtight\u001b[39;49m\u001b[38;5;124;43m'\u001b[39;49m\u001b[43m)\u001b[49m  \u001b[38;5;66;03m# Save as a PNG file with high resolution\u001b[39;00m\n\u001b[0;32m     46\u001b[0m \u001b[38;5;66;03m# Show the plot\u001b[39;00m\n\u001b[0;32m     47\u001b[0m plt\u001b[38;5;241m.\u001b[39mshow()\n",
      "File \u001b[1;32m~\\AppData\\Local\\Programs\\Python\\Python39\\lib\\site-packages\\matplotlib\\pyplot.py:1228\u001b[0m, in \u001b[0;36msavefig\u001b[1;34m(*args, **kwargs)\u001b[0m\n\u001b[0;32m   1225\u001b[0m fig \u001b[38;5;241m=\u001b[39m gcf()\n\u001b[0;32m   1226\u001b[0m \u001b[38;5;66;03m# savefig default implementation has no return, so mypy is unhappy\u001b[39;00m\n\u001b[0;32m   1227\u001b[0m \u001b[38;5;66;03m# presumably this is here because subclasses can return?\u001b[39;00m\n\u001b[1;32m-> 1228\u001b[0m res \u001b[38;5;241m=\u001b[39m fig\u001b[38;5;241m.\u001b[39msavefig(\u001b[38;5;241m*\u001b[39margs, \u001b[38;5;241m*\u001b[39m\u001b[38;5;241m*\u001b[39mkwargs)  \u001b[38;5;66;03m# type: ignore[func-returns-value]\u001b[39;00m\n\u001b[0;32m   1229\u001b[0m fig\u001b[38;5;241m.\u001b[39mcanvas\u001b[38;5;241m.\u001b[39mdraw_idle()  \u001b[38;5;66;03m# Need this if 'transparent=True', to reset colors.\u001b[39;00m\n\u001b[0;32m   1230\u001b[0m \u001b[38;5;28;01mreturn\u001b[39;00m res\n",
      "File \u001b[1;32m~\\AppData\\Local\\Programs\\Python\\Python39\\lib\\site-packages\\matplotlib\\figure.py:3395\u001b[0m, in \u001b[0;36mFigure.savefig\u001b[1;34m(self, fname, transparent, **kwargs)\u001b[0m\n\u001b[0;32m   3393\u001b[0m     \u001b[38;5;28;01mfor\u001b[39;00m ax \u001b[38;5;129;01min\u001b[39;00m \u001b[38;5;28mself\u001b[39m\u001b[38;5;241m.\u001b[39maxes:\n\u001b[0;32m   3394\u001b[0m         _recursively_make_axes_transparent(stack, ax)\n\u001b[1;32m-> 3395\u001b[0m \u001b[38;5;28mself\u001b[39m\u001b[38;5;241m.\u001b[39mcanvas\u001b[38;5;241m.\u001b[39mprint_figure(fname, \u001b[38;5;241m*\u001b[39m\u001b[38;5;241m*\u001b[39mkwargs)\n",
      "File \u001b[1;32m~\\AppData\\Local\\Programs\\Python\\Python39\\lib\\site-packages\\matplotlib\\backend_bases.py:2204\u001b[0m, in \u001b[0;36mFigureCanvasBase.print_figure\u001b[1;34m(self, filename, dpi, facecolor, edgecolor, orientation, format, bbox_inches, pad_inches, bbox_extra_artists, backend, **kwargs)\u001b[0m\n\u001b[0;32m   2200\u001b[0m \u001b[38;5;28;01mtry\u001b[39;00m:\n\u001b[0;32m   2201\u001b[0m     \u001b[38;5;66;03m# _get_renderer may change the figure dpi (as vector formats\u001b[39;00m\n\u001b[0;32m   2202\u001b[0m     \u001b[38;5;66;03m# force the figure dpi to 72), so we need to set it again here.\u001b[39;00m\n\u001b[0;32m   2203\u001b[0m     \u001b[38;5;28;01mwith\u001b[39;00m cbook\u001b[38;5;241m.\u001b[39m_setattr_cm(\u001b[38;5;28mself\u001b[39m\u001b[38;5;241m.\u001b[39mfigure, dpi\u001b[38;5;241m=\u001b[39mdpi):\n\u001b[1;32m-> 2204\u001b[0m         result \u001b[38;5;241m=\u001b[39m print_method(\n\u001b[0;32m   2205\u001b[0m             filename,\n\u001b[0;32m   2206\u001b[0m             facecolor\u001b[38;5;241m=\u001b[39mfacecolor,\n\u001b[0;32m   2207\u001b[0m             edgecolor\u001b[38;5;241m=\u001b[39medgecolor,\n\u001b[0;32m   2208\u001b[0m             orientation\u001b[38;5;241m=\u001b[39morientation,\n\u001b[0;32m   2209\u001b[0m             bbox_inches_restore\u001b[38;5;241m=\u001b[39m_bbox_inches_restore,\n\u001b[0;32m   2210\u001b[0m             \u001b[38;5;241m*\u001b[39m\u001b[38;5;241m*\u001b[39mkwargs)\n\u001b[0;32m   2211\u001b[0m \u001b[38;5;28;01mfinally\u001b[39;00m:\n\u001b[0;32m   2212\u001b[0m     \u001b[38;5;28;01mif\u001b[39;00m bbox_inches \u001b[38;5;129;01mand\u001b[39;00m restore_bbox:\n",
      "File \u001b[1;32m~\\AppData\\Local\\Programs\\Python\\Python39\\lib\\site-packages\\matplotlib\\backend_bases.py:2054\u001b[0m, in \u001b[0;36mFigureCanvasBase._switch_canvas_and_return_print_method.<locals>.<lambda>\u001b[1;34m(*args, **kwargs)\u001b[0m\n\u001b[0;32m   2050\u001b[0m     optional_kws \u001b[38;5;241m=\u001b[39m {  \u001b[38;5;66;03m# Passed by print_figure for other renderers.\u001b[39;00m\n\u001b[0;32m   2051\u001b[0m         \u001b[38;5;124m\"\u001b[39m\u001b[38;5;124mdpi\u001b[39m\u001b[38;5;124m\"\u001b[39m, \u001b[38;5;124m\"\u001b[39m\u001b[38;5;124mfacecolor\u001b[39m\u001b[38;5;124m\"\u001b[39m, \u001b[38;5;124m\"\u001b[39m\u001b[38;5;124medgecolor\u001b[39m\u001b[38;5;124m\"\u001b[39m, \u001b[38;5;124m\"\u001b[39m\u001b[38;5;124morientation\u001b[39m\u001b[38;5;124m\"\u001b[39m,\n\u001b[0;32m   2052\u001b[0m         \u001b[38;5;124m\"\u001b[39m\u001b[38;5;124mbbox_inches_restore\u001b[39m\u001b[38;5;124m\"\u001b[39m}\n\u001b[0;32m   2053\u001b[0m     skip \u001b[38;5;241m=\u001b[39m optional_kws \u001b[38;5;241m-\u001b[39m {\u001b[38;5;241m*\u001b[39minspect\u001b[38;5;241m.\u001b[39msignature(meth)\u001b[38;5;241m.\u001b[39mparameters}\n\u001b[1;32m-> 2054\u001b[0m     print_method \u001b[38;5;241m=\u001b[39m functools\u001b[38;5;241m.\u001b[39mwraps(meth)(\u001b[38;5;28;01mlambda\u001b[39;00m \u001b[38;5;241m*\u001b[39margs, \u001b[38;5;241m*\u001b[39m\u001b[38;5;241m*\u001b[39mkwargs: meth(\n\u001b[0;32m   2055\u001b[0m         \u001b[38;5;241m*\u001b[39margs, \u001b[38;5;241m*\u001b[39m\u001b[38;5;241m*\u001b[39m{k: v \u001b[38;5;28;01mfor\u001b[39;00m k, v \u001b[38;5;129;01min\u001b[39;00m kwargs\u001b[38;5;241m.\u001b[39mitems() \u001b[38;5;28;01mif\u001b[39;00m k \u001b[38;5;129;01mnot\u001b[39;00m \u001b[38;5;129;01min\u001b[39;00m skip}))\n\u001b[0;32m   2056\u001b[0m \u001b[38;5;28;01melse\u001b[39;00m:  \u001b[38;5;66;03m# Let third-parties do as they see fit.\u001b[39;00m\n\u001b[0;32m   2057\u001b[0m     print_method \u001b[38;5;241m=\u001b[39m meth\n",
      "File \u001b[1;32m~\\AppData\\Local\\Programs\\Python\\Python39\\lib\\site-packages\\matplotlib\\backends\\backend_agg.py:496\u001b[0m, in \u001b[0;36mFigureCanvasAgg.print_png\u001b[1;34m(self, filename_or_obj, metadata, pil_kwargs)\u001b[0m\n\u001b[0;32m    449\u001b[0m \u001b[38;5;28;01mdef\u001b[39;00m\u001b[38;5;250m \u001b[39m\u001b[38;5;21mprint_png\u001b[39m(\u001b[38;5;28mself\u001b[39m, filename_or_obj, \u001b[38;5;241m*\u001b[39m, metadata\u001b[38;5;241m=\u001b[39m\u001b[38;5;28;01mNone\u001b[39;00m, pil_kwargs\u001b[38;5;241m=\u001b[39m\u001b[38;5;28;01mNone\u001b[39;00m):\n\u001b[0;32m    450\u001b[0m \u001b[38;5;250m    \u001b[39m\u001b[38;5;124;03m\"\"\"\u001b[39;00m\n\u001b[0;32m    451\u001b[0m \u001b[38;5;124;03m    Write the figure to a PNG file.\u001b[39;00m\n\u001b[0;32m    452\u001b[0m \n\u001b[1;32m   (...)\u001b[0m\n\u001b[0;32m    494\u001b[0m \u001b[38;5;124;03m        *metadata*, including the default 'Software' key.\u001b[39;00m\n\u001b[0;32m    495\u001b[0m \u001b[38;5;124;03m    \"\"\"\u001b[39;00m\n\u001b[1;32m--> 496\u001b[0m     \u001b[38;5;28;43mself\u001b[39;49m\u001b[38;5;241;43m.\u001b[39;49m\u001b[43m_print_pil\u001b[49m\u001b[43m(\u001b[49m\u001b[43mfilename_or_obj\u001b[49m\u001b[43m,\u001b[49m\u001b[43m \u001b[49m\u001b[38;5;124;43m\"\u001b[39;49m\u001b[38;5;124;43mpng\u001b[39;49m\u001b[38;5;124;43m\"\u001b[39;49m\u001b[43m,\u001b[49m\u001b[43m \u001b[49m\u001b[43mpil_kwargs\u001b[49m\u001b[43m,\u001b[49m\u001b[43m \u001b[49m\u001b[43mmetadata\u001b[49m\u001b[43m)\u001b[49m\n",
      "File \u001b[1;32m~\\AppData\\Local\\Programs\\Python\\Python39\\lib\\site-packages\\matplotlib\\backends\\backend_agg.py:445\u001b[0m, in \u001b[0;36mFigureCanvasAgg._print_pil\u001b[1;34m(self, filename_or_obj, fmt, pil_kwargs, metadata)\u001b[0m\n\u001b[0;32m    440\u001b[0m \u001b[38;5;250m\u001b[39m\u001b[38;5;124;03m\"\"\"\u001b[39;00m\n\u001b[0;32m    441\u001b[0m \u001b[38;5;124;03mDraw the canvas, then save it using `.image.imsave` (to which\u001b[39;00m\n\u001b[0;32m    442\u001b[0m \u001b[38;5;124;03m*pil_kwargs* and *metadata* are forwarded).\u001b[39;00m\n\u001b[0;32m    443\u001b[0m \u001b[38;5;124;03m\"\"\"\u001b[39;00m\n\u001b[0;32m    444\u001b[0m FigureCanvasAgg\u001b[38;5;241m.\u001b[39mdraw(\u001b[38;5;28mself\u001b[39m)\n\u001b[1;32m--> 445\u001b[0m \u001b[43mmpl\u001b[49m\u001b[38;5;241;43m.\u001b[39;49m\u001b[43mimage\u001b[49m\u001b[38;5;241;43m.\u001b[39;49m\u001b[43mimsave\u001b[49m\u001b[43m(\u001b[49m\n\u001b[0;32m    446\u001b[0m \u001b[43m    \u001b[49m\u001b[43mfilename_or_obj\u001b[49m\u001b[43m,\u001b[49m\u001b[43m \u001b[49m\u001b[38;5;28;43mself\u001b[39;49m\u001b[38;5;241;43m.\u001b[39;49m\u001b[43mbuffer_rgba\u001b[49m\u001b[43m(\u001b[49m\u001b[43m)\u001b[49m\u001b[43m,\u001b[49m\u001b[43m \u001b[49m\u001b[38;5;28;43mformat\u001b[39;49m\u001b[38;5;241;43m=\u001b[39;49m\u001b[43mfmt\u001b[49m\u001b[43m,\u001b[49m\u001b[43m \u001b[49m\u001b[43morigin\u001b[49m\u001b[38;5;241;43m=\u001b[39;49m\u001b[38;5;124;43m\"\u001b[39;49m\u001b[38;5;124;43mupper\u001b[39;49m\u001b[38;5;124;43m\"\u001b[39;49m\u001b[43m,\u001b[49m\n\u001b[0;32m    447\u001b[0m \u001b[43m    \u001b[49m\u001b[43mdpi\u001b[49m\u001b[38;5;241;43m=\u001b[39;49m\u001b[38;5;28;43mself\u001b[39;49m\u001b[38;5;241;43m.\u001b[39;49m\u001b[43mfigure\u001b[49m\u001b[38;5;241;43m.\u001b[39;49m\u001b[43mdpi\u001b[49m\u001b[43m,\u001b[49m\u001b[43m \u001b[49m\u001b[43mmetadata\u001b[49m\u001b[38;5;241;43m=\u001b[39;49m\u001b[43mmetadata\u001b[49m\u001b[43m,\u001b[49m\u001b[43m \u001b[49m\u001b[43mpil_kwargs\u001b[49m\u001b[38;5;241;43m=\u001b[39;49m\u001b[43mpil_kwargs\u001b[49m\u001b[43m)\u001b[49m\n",
      "File \u001b[1;32m~\\AppData\\Local\\Programs\\Python\\Python39\\lib\\site-packages\\matplotlib\\image.py:1676\u001b[0m, in \u001b[0;36mimsave\u001b[1;34m(fname, arr, vmin, vmax, cmap, format, origin, dpi, metadata, pil_kwargs)\u001b[0m\n\u001b[0;32m   1674\u001b[0m pil_kwargs\u001b[38;5;241m.\u001b[39msetdefault(\u001b[38;5;124m\"\u001b[39m\u001b[38;5;124mformat\u001b[39m\u001b[38;5;124m\"\u001b[39m, \u001b[38;5;28mformat\u001b[39m)\n\u001b[0;32m   1675\u001b[0m pil_kwargs\u001b[38;5;241m.\u001b[39msetdefault(\u001b[38;5;124m\"\u001b[39m\u001b[38;5;124mdpi\u001b[39m\u001b[38;5;124m\"\u001b[39m, (dpi, dpi))\n\u001b[1;32m-> 1676\u001b[0m image\u001b[38;5;241m.\u001b[39msave(fname, \u001b[38;5;241m*\u001b[39m\u001b[38;5;241m*\u001b[39mpil_kwargs)\n",
      "File \u001b[1;32m~\\AppData\\Local\\Programs\\Python\\Python39\\lib\\site-packages\\PIL\\Image.py:2436\u001b[0m, in \u001b[0;36mImage.save\u001b[1;34m(self, fp, format, **params)\u001b[0m\n\u001b[0;32m   2434\u001b[0m         fp \u001b[38;5;241m=\u001b[39m builtins\u001b[38;5;241m.\u001b[39mopen(filename, \u001b[38;5;124m\"\u001b[39m\u001b[38;5;124mr+b\u001b[39m\u001b[38;5;124m\"\u001b[39m)\n\u001b[0;32m   2435\u001b[0m     \u001b[38;5;28;01melse\u001b[39;00m:\n\u001b[1;32m-> 2436\u001b[0m         fp \u001b[38;5;241m=\u001b[39m \u001b[43mbuiltins\u001b[49m\u001b[38;5;241;43m.\u001b[39;49m\u001b[43mopen\u001b[49m\u001b[43m(\u001b[49m\u001b[43mfilename\u001b[49m\u001b[43m,\u001b[49m\u001b[43m \u001b[49m\u001b[38;5;124;43m\"\u001b[39;49m\u001b[38;5;124;43mw+b\u001b[39;49m\u001b[38;5;124;43m\"\u001b[39;49m\u001b[43m)\u001b[49m\n\u001b[0;32m   2438\u001b[0m \u001b[38;5;28;01mtry\u001b[39;00m:\n\u001b[0;32m   2439\u001b[0m     save_handler(\u001b[38;5;28mself\u001b[39m, fp, filename)\n",
      "\u001b[1;31mFileNotFoundError\u001b[0m: [Errno 2] No such file or directory: 'output/VoiceDivergenceD3.png'"
     ]
    },
    {
     "data": {
      "image/png": "[encoded data removed]",
      "text/plain": [
       "<Figure size 650x420 with 1 Axes>"
      ]
     },
     "metadata": {},
     "output_type": "display_data"
    }
   ],
   "source": [
    "                                                # FIG: 3 -> INTERCLASS SIMILARITIES\n",
    "\n",
    "import pandas as pd\n",
    "import numpy as np\n",
    "import matplotlib.pyplot as plt\n",
    "import seaborn as sns\n",
    "\n",
    "# Set figure size\n",
    "plt.figure(figsize=(6.5, 4.2))  # Set the size of the figure (width, height)\n",
    "\n",
    "# Generate sample similarity data for four classes (each with 20 values in the range 0 to 1)\n",
    "np.random.seed(42)  # For reproducibility\n",
    "class1class2 = calculate_interclass_similarity('class1', 'class2')\n",
    "class1class3 = calculate_interclass_similarity('class1', 'class3')\n",
    "class1class4 = calculate_interclass_similarity('class1', 'class4')\n",
    "class2class3 = calculate_interclass_similarity('class2', 'class3')\n",
    "class2class4 = calculate_interclass_similarity('class2', 'class4')\n",
    "class3class4 = calculate_interclass_similarity('class3', 'class4')\n",
    "\n",
    "# Sample DataFrame with four columns\n",
    "data=pd.DataFrame({'Class1 vs Class2':class1class2,'Class1 vs Class3':class1class3,'Class1 vs Class4':class1class4,'Class2 vs Class3':class2class3,'Class2 vs Class4':class2class4,'Class3 vs Class4':class3class4})\n",
    "df = pd.DataFrame(data)\n",
    "\n",
    "# Plot the probability distributions\n",
    "#plt.figure(figsize=(10, 6))\n",
    "\n",
    "# Define colors and line styles for each column\n",
    "colors = ['#1f77b4', '#ff7f0e', '#2ca02c', '#d62728', '#9467bd', '#8c564b']\n",
    "linestyles = ['-.', '--', '-', '-', '-.', '--']\n",
    "\n",
    "# Plot the probability distributions with unique colors and line styles\n",
    "for column, color, linestyle in zip(df.columns, colors, linestyles):\n",
    "    sns.kdeplot(df[column], label=column, color=color, linestyle=linestyle)\n",
    "\n",
    "#plt.title('Probability Distributions of Four Columns')\n",
    "plt.xlabel('Similarity',fontsize=12)\n",
    "plt.ylabel('Density',fontsize=12)\n",
    "plt.yticks(fontsize=12)  # Set y-tick labels font size\n",
    "plt.legend(loc='upper right',fontsize=12)  # Increase legend font size\n",
    "\n",
    "# Optimize layout\n",
    "plt.tight_layout()\n",
    "# Save the plot to a file\n",
    "plt.savefig('output/VoiceDivergenceD3.png', dpi=300, bbox_inches='tight')  # Save as a PNG file with high resolution\n",
    "\n",
    "# Show the plot\n",
    "plt.show()"
   ]
  },
  {
   "cell_type": "code",
   "execution_count": null,
   "id": "19754eee-5c1e-47e6-bbaa-b2cef05a1641",
   "metadata": {},
   "outputs": [],
   "source": []
  },
  {
   "cell_type": "code",
   "execution_count": null,
   "id": "e2eebd80-009b-498c-968a-bea206f03d9c",
   "metadata": {},
   "outputs": [],
   "source": []
  }
 ],
 "metadata": {
  "kernelspec": {
   "display_name": "Python 3 (ipykernel)",
   "language": "python",
   "name": "python3"
  },
  "language_info": {
   "codemirror_mode": {
    "name": "ipython",
    "version": 3
   },
   "file_extension": ".py",
   "mimetype": "text/x-python",
   "name": "python",
   "nbconvert_exporter": "python",
   "pygments_lexer": "ipython3",
   "version": "3.9.7"
  }
 },
 "nbformat": 4,
 "nbformat_minor": 5
}
