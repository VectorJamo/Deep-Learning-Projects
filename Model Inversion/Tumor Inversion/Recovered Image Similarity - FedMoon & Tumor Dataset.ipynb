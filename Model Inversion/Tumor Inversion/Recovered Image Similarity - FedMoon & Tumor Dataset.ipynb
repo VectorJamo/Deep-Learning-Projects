{
 "cells": [
  {
   "cell_type": "code",
   "execution_count": 1,
   "id": "646b38c2-386a-4f83-a983-ea764ad8267f",
   "metadata": {},
   "outputs": [],
   "source": [
    "# Attempting to recover training data using model's parameters and a DCGAN that was trained on similar data\n",
    "# Author: Suraj Neupane\n",
    "# Written from scratch as a part of a Research Project 2025, Concordia University of Edmonton.\n",
    "import numpy as np\n",
    "\n",
    "import torch\n",
    "from torch import nn\n",
    "from torch.nn import functional\n",
    "\n",
    "from torch.utils import data\n",
    "from torch.utils.data import DataLoader\n",
    "\n",
    "import torchvision\n",
    "from torchvision import datasets\n",
    "from torchvision import transforms\n",
    "\n",
    "import pickle\n",
    "\n",
    "import matplotlib.pyplot as plt\n",
    "%matplotlib inline"
   ]
  },
  {
   "cell_type": "code",
   "execution_count": 2,
   "id": "8b80ddb2-ed75-4870-85b4-9300fce0df7e",
   "metadata": {},
   "outputs": [
    {
     "data": {
      "text/plain": [
       "'2.5.1+cu118'"
      ]
     },
     "execution_count": 2,
     "metadata": {},
     "output_type": "execute_result"
    }
   ],
   "source": [
    "torch.__version__"
   ]
  },
  {
   "cell_type": "code",
   "execution_count": 3,
   "id": "d6950585-eb31-4f61-bd60-5bf8716fcdef",
   "metadata": {},
   "outputs": [],
   "source": [
    "device = 'cuda' if torch.cuda.is_available() else 'cpu'"
   ]
  },
  {
   "cell_type": "code",
   "execution_count": 4,
   "id": "36c47e07-6b7d-4123-a59d-5d465f9ef280",
   "metadata": {},
   "outputs": [
    {
     "data": {
      "text/plain": [
       "'cuda'"
      ]
     },
     "execution_count": 4,
     "metadata": {},
     "output_type": "execute_result"
    }
   ],
   "source": [
    "device"
   ]
  },
  {
   "cell_type": "code",
   "execution_count": 5,
   "id": "b852ca55-f33e-469f-b7b9-e00d21124927",
   "metadata": {},
   "outputs": [],
   "source": [
    "# DCGAN Implementation Class\n",
    "# Discriminator\n",
    "class Discriminator(nn.Module):\n",
    "    def __init__(self, img_channels, features_d):\n",
    "        super().__init__()\n",
    "        self.disc = nn.Sequential(\n",
    "            # Input shape: img_channels x 64 x 64\n",
    "            nn.Conv2d(\n",
    "              in_channels=img_channels, out_channels=features_d, kernel_size=4, stride=2, padding=1\n",
    "            ), # Output shape: features_d x 32 x 32\n",
    "            nn.LeakyReLU(0.2),\n",
    "            self._block(features_d, features_d*2, 4, 2, 1), # Output shape: features_d*2 x 16 x 16\n",
    "            self._block(features_d*2, features_d*4, 4, 2, 1), # Output shape: features_d*4 x 8 x 8\n",
    "            self._block(features_d*4, features_d*8, 4, 2, 1), # Output shape: features_d*8 x 4 x 4\n",
    "           \n",
    "            nn.Conv2d(in_channels=features_d*8, out_channels=1, kernel_size=4, stride=2, padding=0), # Output shape: 1 x 1\n",
    "            nn.Sigmoid(),\n",
    "        )\n",
    "\n",
    "    def _block(self, in_channels, out_channels, kernel_size, stride, padding):\n",
    "        return nn.Sequential(\n",
    "            nn.Conv2d(in_channels, out_channels, kernel_size, stride, padding, bias=False),\n",
    "            nn.BatchNorm2d(out_channels),\n",
    "            nn.LeakyReLU(0.2),\n",
    "        )\n",
    "\n",
    "    def forward(self, X):\n",
    "        return self.disc(X)\n"
   ]
  },
  {
   "cell_type": "code",
   "execution_count": 6,
   "id": "5afe02e5-61d3-4f25-8933-8484e519cd4a",
   "metadata": {},
   "outputs": [],
   "source": [
    "# Generator\n",
    "class Generator(nn.Module):\n",
    "    def __init__(self, z_dim, img_channels, features_g):\n",
    "        super().__init__()\n",
    "        self.gen = nn.Sequential(\n",
    "            self._block(z_dim, features_g*16, 4, 1, 0), # z_dim: (batch_size, 100, 1, 1) -> (batch_size, 1024, 4, 4)\n",
    "            self._block(features_g*16, features_g*8, 4, 2, 1), # z_dim: (batch_size, 1024, 4, 4) -> (batch_size, 512, 8, 8)\n",
    "            self._block(features_g*8, features_g*4, 4, 2, 1), # z_dim: (batch_size, 512, 8, 8) -> (batch_size, 256, 16, 16)\n",
    "            self._block(features_g*4, features_g*2, 4, 2, 1), # z_dim: (batch_size, 128, 16, 16) -> (batch_size, 64, 32, 32)\n",
    "            nn.ConvTranspose2d(\n",
    "                in_channels=features_g*2, out_channels=img_channels, kernel_size=4, stride=2, padding=1 # z_dim: (batch_size, 64, 32, 32) -> (batch_size, 1, 64, 64)\n",
    "            ),\n",
    "            nn.Tanh(),\n",
    "        )\n",
    "        \n",
    "    def _block(self, in_channels, out_channels, kernel_size, stride, padding):\n",
    "        return nn.Sequential(\n",
    "            nn.ConvTranspose2d(\n",
    "                in_channels, out_channels, kernel_size, stride, padding, bias=False,\n",
    "            ),\n",
    "            nn.InstanceNorm2d(out_channels, affine=True),\n",
    "            nn.ReLU(),\n",
    "        )\n",
    "\n",
    "    def forward(self, X):\n",
    "        return self.gen(X)"
   ]
  },
  {
   "cell_type": "code",
   "execution_count": 7,
   "id": "48c1be35-d58a-4d0c-990d-9250fbdbf1b3",
   "metadata": {},
   "outputs": [],
   "source": [
    "# Hyperparams\n",
    "z_dim = 100\n",
    "img_channels = 1\n",
    "features_disc = 64\n",
    "features_gen = 64"
   ]
  },
  {
   "cell_type": "code",
   "execution_count": 8,
   "id": "f2dc1f40-5c2e-4903-b2e7-7abe5cae9772",
   "metadata": {},
   "outputs": [],
   "source": [
    "# Create the model instances\n",
    "gen = Generator(z_dim, img_channels, features_gen).to(device)\n",
    "disc = Discriminator(img_channels, features_disc).to(device)"
   ]
  },
  {
   "cell_type": "code",
   "execution_count": 9,
   "id": "bc7a5deb-f8d8-41d4-aed3-d012d39a84b9",
   "metadata": {},
   "outputs": [
    {
     "data": {
      "text/plain": [
       "<All keys matched successfully>"
      ]
     },
     "execution_count": 9,
     "metadata": {},
     "output_type": "execute_result"
    }
   ],
   "source": [
    "# Load the trained GAN\n",
    "gen.load_state_dict(torch.load('saved models/Generator2.pth', weights_only=True))\n",
    "disc.load_state_dict(torch.load('saved models/Discriminator2.pth', weights_only=True))"
   ]
  },
  {
   "cell_type": "code",
   "execution_count": 10,
   "id": "a504e932-e168-4bb8-88cc-eea0810aafb0",
   "metadata": {},
   "outputs": [],
   "source": [
    "# Generate a random fake image\n",
    "noise = torch.randn(1, z_dim, 1, 1).to(device)\n",
    "fake_img = gen(noise)"
   ]
  },
  {
   "cell_type": "code",
   "execution_count": 11,
   "id": "98b5d73f-b130-4bc1-a868-c225bd2abe62",
   "metadata": {},
   "outputs": [
    {
     "data": {
      "text/plain": [
       "torch.Size([1, 1, 64, 64])"
      ]
     },
     "execution_count": 11,
     "metadata": {},
     "output_type": "execute_result"
    }
   ],
   "source": [
    "fake_img.shape"
   ]
  },
  {
   "cell_type": "code",
   "execution_count": 12,
   "id": "9d19338c-18e4-4b6e-842f-a225718fa8bb",
   "metadata": {},
   "outputs": [
    {
     "name": "stdout",
     "output_type": "stream",
     "text": [
      "torch.Size([64, 64])\n"
     ]
    },
    {
     "data": {
      "text/plain": [
       "<matplotlib.image.AxesImage at 0x27d4d967400>"
      ]
     },
     "execution_count": 12,
     "metadata": {},
     "output_type": "execute_result"
    },
    {
     "data": {
      "image/png": "[encoded data removed]",
      "text/plain": [
       "<Figure size 640x480 with 1 Axes>"
      ]
     },
     "metadata": {},
     "output_type": "display_data"
    }
   ],
   "source": [
    "fake_img = fake_img.squeeze()\n",
    "print(fake_img.shape)\n",
    "plt.axis(False)\n",
    "plt.title('Fake Generated Image:')\n",
    "plt.imshow(fake_img.cpu().detach(), cmap='gray')"
   ]
  },
  {
   "cell_type": "code",
   "execution_count": 13,
   "id": "cf2aefac-a759-4335-a3de-2065d6a6a9a5",
   "metadata": {},
   "outputs": [],
   "source": [
    "# Target Model\n",
    "class TFCNN(nn.Module):\n",
    "    def __init__(self, n_classes):\n",
    "        super().__init__()\n",
    "        self.n_classes = n_classes\n",
    "\n",
    "        self.encoder = nn.Sequential(\n",
    "            nn.Conv2d(3, 32, 3, stride=1, padding=1),\n",
    "            nn.ReLU(True),\n",
    "            nn.MaxPool2d(2),\n",
    "            nn.Conv2d(32, 64, 3, stride=1, padding=1),\n",
    "            nn.ReLU(True),\n",
    "            nn.MaxPool2d(2),\n",
    "            nn.Conv2d(64, 64, 3, stride=1, padding=1),\n",
    "            nn.ReLU(True),\n",
    "            nn.MaxPool2d(2),\n",
    "            Reshape(),\n",
    "        )\n",
    "\n",
    "        self.h_size = 64 * 4 * 4\n",
    "\n",
    "        self.classifier = nn.Sequential(\n",
    "            nn.Linear(64 * 4 * 4, 128),\n",
    "            nn.ReLU(True),\n",
    "            nn.Linear(128, n_classes)\n",
    "        )\n",
    "\n",
    "    def forward(self, xs):\n",
    "        code = self.encoder(xs)\n",
    "        logits = self.classifier(code)\n",
    "        return code, logits\n"
   ]
  },
  {
   "cell_type": "code",
   "execution_count": 14,
   "id": "d28876e2-91ee-4ebf-bc52-b71dc82edfa2",
   "metadata": {},
   "outputs": [],
   "source": [
    "class Reshape(nn.Module):\n",
    "    def __init__(self,):\n",
    "        super().__init__()\n",
    "\n",
    "    def forward(self, xs):\n",
    "        return xs.reshape((xs.shape[0], -1))"
   ]
  },
  {
   "cell_type": "code",
   "execution_count": 15,
   "id": "dd57210c-2c18-4651-8f29-be94a7a7a88f",
   "metadata": {},
   "outputs": [],
   "source": [
    "class ClassifyNet(nn.Module):\n",
    "    def __init__(self, net, init_way, n_classes, input_size=None):\n",
    "        super().__init__()\n",
    "        self.net = net\n",
    "        self.init_way = init_way\n",
    "        self.n_classes = n_classes\n",
    "\n",
    "        model = TFCNN(n_classes)\n",
    "\n",
    "        self.h_size = model.h_size\n",
    "\n",
    "        # Convo and pool layers\n",
    "        self.encoder = model.encoder\n",
    "\n",
    "        # Classifier layer\n",
    "        self.classifier = nn.Linear(\n",
    "            self.h_size, self.n_classes, bias=False\n",
    "        )\n",
    "\n",
    "        if self.init_way == \"orth\":\n",
    "            ws = get_orth_weights(self.h_size, self.n_classes)\n",
    "            self.classifier.load_state_dict({\"weight\": ws})\n",
    "\n",
    "    def forward(self, xs):\n",
    "        hs = self.encoder(xs)\n",
    "        logits = self.classifier(hs)\n",
    "        return hs, logits"
   ]
  },
  {
   "cell_type": "code",
   "execution_count": 16,
   "id": "83ea3c08-0470-4c9a-ba15-8328a316b3ab",
   "metadata": {},
   "outputs": [],
   "source": [
    "def load_target_model(base_net, n_classes, path):\n",
    "    # Create the base model\n",
    "    model = ClassifyNet(net=base_net, init_way='none', n_classes=n_classes)\n",
    "    # Load the model\n",
    "    model.load_state_dict(torch.load(path, weights_only=True))\n",
    "\n",
    "    return model"
   ]
  },
  {
   "cell_type": "code",
   "execution_count": 17,
   "id": "0880f1aa-9d08-445a-85ac-f1ff3cebde04",
   "metadata": {},
   "outputs": [
    {
     "name": "stdout",
     "output_type": "stream",
     "text": [
      "Model loaded successfully!\n",
      "Number of parameters in the loaded model: 60416\n"
     ]
    }
   ],
   "source": [
    "# Target Model Loading\n",
    "BASE_NET = 'TFCNN'\n",
    "DATASET = 'tumor4'\n",
    "N_CLASSES = 4\n",
    "\n",
    "target_model = load_target_model(base_net=BASE_NET, n_classes=N_CLASSES, path='saved models/moon_global_model.path').to(device)\n",
    "print('Model loaded successfully!')\n",
    "target_model.eval()\n",
    "\n",
    "num_params = sum(p.numel() for p in target_model.parameters())\n",
    "print('Number of parameters in the loaded model:', num_params)\n"
   ]
  },
  {
   "cell_type": "code",
   "execution_count": 18,
   "id": "f843f19e-b2a5-4ffe-b22b-de4ff93c5643",
   "metadata": {},
   "outputs": [],
   "source": [
    "# BEGIN BATCH MODEL INVERSION\n",
    "img_count = 20\n",
    "latent_vectors = torch.randn(img_count, z_dim, 1, 1, requires_grad=True) # Start with 20 random noises"
   ]
  },
  {
   "cell_type": "code",
   "execution_count": 19,
   "id": "c21320ed-d5ac-4919-aaad-8cfa093998a6",
   "metadata": {},
   "outputs": [],
   "source": [
    "def recover_images(count, target_image_class, latent_vectors):\n",
    "    optimized_latent_vectors = []\n",
    "    \n",
    "    for x in range(0, count):\n",
    "        z = latent_vectors[x].unsqueeze(dim=0).clone().detach().requires_grad_(True)\n",
    "        \n",
    "        learning_rate = 0.01\n",
    "        target_class = 1 # The second class\n",
    "        \n",
    "        # Create the optimizer\n",
    "        optimizer = torch.optim.Adam([z], lr=learning_rate)\n",
    "        \n",
    "        # Loss function (e.g., Cross-Entropy with classifier outputs)\n",
    "        loss_fn = nn.CrossEntropyLoss()\n",
    "        target_class = torch.tensor([target_image_class])  # Set the target class\n",
    "    \n",
    "        # Optimization loop to find the best z\n",
    "        rounds = 500\n",
    "        for i in range(rounds):\n",
    "            optimizer.zero_grad()\n",
    "            \n",
    "            generated_image = gen(z.to(device))  # Generate an image from the latent vector\n",
    "            generated_image = generated_image.repeat(1, 3, 1, 1)\n",
    "            generated_image = functional.interpolate(generated_image, size=(32, 32), mode='nearest')\n",
    "            #print(generated_image.shape)\n",
    "            hs, prediction_logits = target_model(generated_image)  # Classifier output\n",
    "            #print(prediction_logits)\n",
    "            #print(type(prediction_logits))\n",
    "            loss = loss_fn(prediction_logits, target_class.to(device))  # Minimize difference with true class\n",
    "            loss.backward()\n",
    "            optimizer.step()\n",
    "            \n",
    "            if i % 50 == 0:\n",
    "                print(f\"Generating Image Number: {x+1} for target class {target_class}. Step {i}, Loss: {loss.item()}\")\n",
    "    \n",
    "        optimized_latent_vectors.append(z)\n",
    "        \n",
    "    return optimized_latent_vectors"
   ]
  },
  {
   "cell_type": "code",
   "execution_count": 20,
   "id": "9ebc9533-23ca-4d44-8aea-9d134281b3a4",
   "metadata": {
    "scrolled": true
   },
   "outputs": [
    {
     "name": "stdout",
     "output_type": "stream",
     "text": [
      "Generating Image Number: 1 for target class tensor([0]). Step 0, Loss: 1.1569477319717407\n",
      "Generating Image Number: 1 for target class tensor([0]). Step 50, Loss: 0.14311529695987701\n",
      "Generating Image Number: 1 for target class tensor([0]). Step 100, Loss: 0.08910903334617615\n",
      "Generating Image Number: 1 for target class tensor([0]). Step 150, Loss: 0.06331518292427063\n",
      "Generating Image Number: 1 for target class tensor([0]). Step 200, Loss: 0.04743919149041176\n",
      "Generating Image Number: 1 for target class tensor([0]). Step 250, Loss: 0.03706008195877075\n",
      "Generating Image Number: 1 for target class tensor([0]). Step 300, Loss: 0.03130222484469414\n",
      "Generating Image Number: 1 for target class tensor([0]). Step 350, Loss: 0.027428679168224335\n",
      "Generating Image Number: 1 for target class tensor([0]). Step 400, Loss: 0.02425508201122284\n",
      "Generating Image Number: 1 for target class tensor([0]). Step 450, Loss: 0.022079715505242348\n",
      "Generating Image Number: 2 for target class tensor([0]). Step 0, Loss: 0.045965526252985\n",
      "Generating Image Number: 2 for target class tensor([0]). Step 50, Loss: 0.008312154561281204\n",
      "Generating Image Number: 2 for target class tensor([0]). Step 100, Loss: 0.005767845548689365\n",
      "Generating Image Number: 2 for target class tensor([0]). Step 150, Loss: 0.003920608200132847\n",
      "Generating Image Number: 2 for target class tensor([0]). Step 200, Loss: 0.0031283984426409006\n",
      "Generating Image Number: 2 for target class tensor([0]). Step 250, Loss: 0.0025883764028549194\n",
      "Generating Image Number: 2 for target class tensor([0]). Step 300, Loss: 0.0021928329952061176\n",
      "Generating Image Number: 2 for target class tensor([0]). Step 350, Loss: 0.0018461579456925392\n",
      "Generating Image Number: 2 for target class tensor([0]). Step 400, Loss: 0.0015606615925207734\n",
      "Generating Image Number: 2 for target class tensor([0]). Step 450, Loss: 0.0013728251215070486\n",
      "Generating Image Number: 3 for target class tensor([0]). Step 0, Loss: 1.8421016931533813\n",
      "Generating Image Number: 3 for target class tensor([0]). Step 50, Loss: 0.4726243019104004\n",
      "Generating Image Number: 3 for target class tensor([0]). Step 100, Loss: 0.34377381205558777\n",
      "Generating Image Number: 3 for target class tensor([0]). Step 150, Loss: 0.2698088586330414\n",
      "Generating Image Number: 3 for target class tensor([0]). Step 200, Loss: 0.2178809940814972\n",
      "Generating Image Number: 3 for target class tensor([0]). Step 250, Loss: 0.18852385878562927\n",
      "Generating Image Number: 3 for target class tensor([0]). Step 300, Loss: 0.16288571059703827\n",
      "Generating Image Number: 3 for target class tensor([0]). Step 350, Loss: 0.14394642412662506\n",
      "Generating Image Number: 3 for target class tensor([0]). Step 400, Loss: 0.1273389309644699\n",
      "Generating Image Number: 3 for target class tensor([0]). Step 450, Loss: 0.11265876144170761\n",
      "Generating Image Number: 4 for target class tensor([0]). Step 0, Loss: 0.5914163589477539\n",
      "Generating Image Number: 4 for target class tensor([0]). Step 50, Loss: 0.005700996145606041\n",
      "Generating Image Number: 4 for target class tensor([0]). Step 100, Loss: 0.003328737337142229\n",
      "Generating Image Number: 4 for target class tensor([0]). Step 150, Loss: 0.002895213197916746\n",
      "Generating Image Number: 4 for target class tensor([0]). Step 200, Loss: 0.0026712471153587103\n",
      "Generating Image Number: 4 for target class tensor([0]). Step 250, Loss: 0.0024827865418046713\n",
      "Generating Image Number: 4 for target class tensor([0]). Step 300, Loss: 0.002315936842933297\n",
      "Generating Image Number: 4 for target class tensor([0]). Step 350, Loss: 0.00216535571962595\n",
      "Generating Image Number: 4 for target class tensor([0]). Step 400, Loss: 0.002018558792769909\n",
      "Generating Image Number: 4 for target class tensor([0]). Step 450, Loss: 0.0018805454019457102\n",
      "Generating Image Number: 5 for target class tensor([0]). Step 0, Loss: 3.9409162998199463\n",
      "Generating Image Number: 5 for target class tensor([0]). Step 50, Loss: 1.5592896938323975\n",
      "Generating Image Number: 5 for target class tensor([0]). Step 100, Loss: 1.1205382347106934\n",
      "Generating Image Number: 5 for target class tensor([0]). Step 150, Loss: 0.7696018218994141\n",
      "Generating Image Number: 5 for target class tensor([0]). Step 200, Loss: 0.5919574499130249\n",
      "Generating Image Number: 5 for target class tensor([0]). Step 250, Loss: 0.4900318384170532\n",
      "Generating Image Number: 5 for target class tensor([0]). Step 300, Loss: 0.4278179705142975\n",
      "Generating Image Number: 5 for target class tensor([0]). Step 350, Loss: 0.3717888295650482\n",
      "Generating Image Number: 5 for target class tensor([0]). Step 400, Loss: 0.3305046260356903\n",
      "Generating Image Number: 5 for target class tensor([0]). Step 450, Loss: 0.29583755135536194\n",
      "Generating Image Number: 6 for target class tensor([0]). Step 0, Loss: 0.0\n",
      "Generating Image Number: 6 for target class tensor([0]). Step 50, Loss: 0.0\n",
      "Generating Image Number: 6 for target class tensor([0]). Step 100, Loss: 0.0\n",
      "Generating Image Number: 6 for target class tensor([0]). Step 150, Loss: 0.0\n",
      "Generating Image Number: 6 for target class tensor([0]). Step 200, Loss: 0.0\n",
      "Generating Image Number: 6 for target class tensor([0]). Step 250, Loss: 0.0\n",
      "Generating Image Number: 6 for target class tensor([0]). Step 300, Loss: 0.0\n",
      "Generating Image Number: 6 for target class tensor([0]). Step 350, Loss: 0.0\n",
      "Generating Image Number: 6 for target class tensor([0]). Step 400, Loss: 0.0\n",
      "Generating Image Number: 6 for target class tensor([0]). Step 450, Loss: 0.0\n",
      "Generating Image Number: 7 for target class tensor([0]). Step 0, Loss: 0.0\n",
      "Generating Image Number: 7 for target class tensor([0]). Step 50, Loss: 0.0\n",
      "Generating Image Number: 7 for target class tensor([0]). Step 100, Loss: 0.0\n",
      "Generating Image Number: 7 for target class tensor([0]). Step 150, Loss: 0.0\n",
      "Generating Image Number: 7 for target class tensor([0]). Step 200, Loss: 0.0\n",
      "Generating Image Number: 7 for target class tensor([0]). Step 250, Loss: 0.0\n",
      "Generating Image Number: 7 for target class tensor([0]). Step 300, Loss: 0.0\n",
      "Generating Image Number: 7 for target class tensor([0]). Step 350, Loss: 0.0\n",
      "Generating Image Number: 7 for target class tensor([0]). Step 400, Loss: 0.0\n",
      "Generating Image Number: 7 for target class tensor([0]). Step 450, Loss: 0.0\n",
      "Generating Image Number: 8 for target class tensor([0]). Step 0, Loss: 2.627467632293701\n",
      "Generating Image Number: 8 for target class tensor([0]). Step 50, Loss: 1.0891304016113281\n",
      "Generating Image Number: 8 for target class tensor([0]). Step 100, Loss: 0.7534061074256897\n",
      "Generating Image Number: 8 for target class tensor([0]). Step 150, Loss: 0.49762672185897827\n",
      "Generating Image Number: 8 for target class tensor([0]). Step 200, Loss: 0.3878561854362488\n",
      "Generating Image Number: 8 for target class tensor([0]). Step 250, Loss: 0.31851840019226074\n",
      "Generating Image Number: 8 for target class tensor([0]). Step 300, Loss: 0.255710244178772\n",
      "Generating Image Number: 8 for target class tensor([0]). Step 350, Loss: 0.2160736322402954\n",
      "Generating Image Number: 8 for target class tensor([0]). Step 400, Loss: 0.19717341661453247\n",
      "Generating Image Number: 8 for target class tensor([0]). Step 450, Loss: 0.1785779893398285\n",
      "Generating Image Number: 9 for target class tensor([0]). Step 0, Loss: 1.0496666431427002\n",
      "Generating Image Number: 9 for target class tensor([0]). Step 50, Loss: 0.0032888154964894056\n",
      "Generating Image Number: 9 for target class tensor([0]). Step 100, Loss: 0.0016847953666001558\n",
      "Generating Image Number: 9 for target class tensor([0]). Step 150, Loss: 0.001444369088858366\n",
      "Generating Image Number: 9 for target class tensor([0]). Step 200, Loss: 0.0014147283509373665\n",
      "Generating Image Number: 9 for target class tensor([0]). Step 250, Loss: 0.001389015233144164\n",
      "Generating Image Number: 9 for target class tensor([0]). Step 300, Loss: 0.0013613966293632984\n",
      "Generating Image Number: 9 for target class tensor([0]). Step 350, Loss: 0.0013378250878304243\n",
      "Generating Image Number: 9 for target class tensor([0]). Step 400, Loss: 0.0013091336004436016\n",
      "Generating Image Number: 9 for target class tensor([0]). Step 450, Loss: 0.001279131742194295\n",
      "Generating Image Number: 10 for target class tensor([0]). Step 0, Loss: 5.011843204498291\n",
      "Generating Image Number: 10 for target class tensor([0]). Step 50, Loss: 0.31853920221328735\n",
      "Generating Image Number: 10 for target class tensor([0]). Step 100, Loss: 0.2223396599292755\n",
      "Generating Image Number: 10 for target class tensor([0]). Step 150, Loss: 0.17449526488780975\n",
      "Generating Image Number: 10 for target class tensor([0]). Step 200, Loss: 0.1413644701242447\n",
      "Generating Image Number: 10 for target class tensor([0]). Step 250, Loss: 0.11906659603118896\n",
      "Generating Image Number: 10 for target class tensor([0]). Step 300, Loss: 0.10226824134588242\n",
      "Generating Image Number: 10 for target class tensor([0]). Step 350, Loss: 0.09101585298776627\n",
      "Generating Image Number: 10 for target class tensor([0]). Step 400, Loss: 0.08154596388339996\n",
      "Generating Image Number: 10 for target class tensor([0]). Step 450, Loss: 0.07373469322919846\n",
      "Generating Image Number: 11 for target class tensor([0]). Step 0, Loss: 2.4353084564208984\n",
      "Generating Image Number: 11 for target class tensor([0]). Step 50, Loss: 0.04301829636096954\n",
      "Generating Image Number: 11 for target class tensor([0]). Step 100, Loss: 0.033792492002248764\n",
      "Generating Image Number: 11 for target class tensor([0]). Step 150, Loss: 0.028927113860845566\n",
      "Generating Image Number: 11 for target class tensor([0]). Step 200, Loss: 0.025031203404068947\n",
      "Generating Image Number: 11 for target class tensor([0]). Step 250, Loss: 0.02159113436937332\n",
      "Generating Image Number: 11 for target class tensor([0]). Step 300, Loss: 0.018593188375234604\n",
      "Generating Image Number: 11 for target class tensor([0]). Step 350, Loss: 0.015928877517580986\n",
      "Generating Image Number: 11 for target class tensor([0]). Step 400, Loss: 0.013858875259757042\n",
      "Generating Image Number: 11 for target class tensor([0]). Step 450, Loss: 0.011971883475780487\n",
      "Generating Image Number: 12 for target class tensor([0]). Step 0, Loss: 0.05307834967970848\n",
      "Generating Image Number: 12 for target class tensor([0]). Step 50, Loss: 0.009312288835644722\n",
      "Generating Image Number: 12 for target class tensor([0]). Step 100, Loss: 0.005976188462227583\n",
      "Generating Image Number: 12 for target class tensor([0]). Step 150, Loss: 0.004632811527699232\n",
      "Generating Image Number: 12 for target class tensor([0]). Step 200, Loss: 0.0037501975893974304\n",
      "Generating Image Number: 12 for target class tensor([0]). Step 250, Loss: 0.0031413515098392963\n",
      "Generating Image Number: 12 for target class tensor([0]). Step 300, Loss: 0.0027456702664494514\n",
      "Generating Image Number: 12 for target class tensor([0]). Step 350, Loss: 0.002517271088436246\n",
      "Generating Image Number: 12 for target class tensor([0]). Step 400, Loss: 0.002253613667562604\n",
      "Generating Image Number: 12 for target class tensor([0]). Step 450, Loss: 0.001978941261768341\n",
      "Generating Image Number: 13 for target class tensor([0]). Step 0, Loss: 0.0\n",
      "Generating Image Number: 13 for target class tensor([0]). Step 50, Loss: 0.0\n",
      "Generating Image Number: 13 for target class tensor([0]). Step 100, Loss: 0.0\n",
      "Generating Image Number: 13 for target class tensor([0]). Step 150, Loss: 0.0\n",
      "Generating Image Number: 13 for target class tensor([0]). Step 200, Loss: 0.0\n",
      "Generating Image Number: 13 for target class tensor([0]). Step 250, Loss: 0.0\n",
      "Generating Image Number: 13 for target class tensor([0]). Step 300, Loss: 0.0\n",
      "Generating Image Number: 13 for target class tensor([0]). Step 350, Loss: 0.0\n",
      "Generating Image Number: 13 for target class tensor([0]). Step 400, Loss: 0.0\n",
      "Generating Image Number: 13 for target class tensor([0]). Step 450, Loss: 0.0\n",
      "Generating Image Number: 14 for target class tensor([0]). Step 0, Loss: 0.0778157114982605\n",
      "Generating Image Number: 14 for target class tensor([0]). Step 50, Loss: 0.003690576646476984\n",
      "Generating Image Number: 14 for target class tensor([0]). Step 100, Loss: 0.0023657686542719603\n",
      "Generating Image Number: 14 for target class tensor([0]). Step 150, Loss: 0.001833664020523429\n",
      "Generating Image Number: 14 for target class tensor([0]). Step 200, Loss: 0.0015937496209517121\n",
      "Generating Image Number: 14 for target class tensor([0]). Step 250, Loss: 0.0014337747124955058\n",
      "Generating Image Number: 14 for target class tensor([0]). Step 300, Loss: 0.001320800743997097\n",
      "Generating Image Number: 14 for target class tensor([0]). Step 350, Loss: 0.0012211493449285626\n",
      "Generating Image Number: 14 for target class tensor([0]). Step 400, Loss: 0.0011324428487569094\n",
      "Generating Image Number: 14 for target class tensor([0]). Step 450, Loss: 0.001057661371305585\n",
      "Generating Image Number: 15 for target class tensor([0]). Step 0, Loss: 1.5438454151153564\n",
      "Generating Image Number: 15 for target class tensor([0]). Step 50, Loss: 0.37865149974823\n",
      "Generating Image Number: 15 for target class tensor([0]). Step 100, Loss: 0.22900450229644775\n",
      "Generating Image Number: 15 for target class tensor([0]). Step 150, Loss: 0.1763794720172882\n",
      "Generating Image Number: 15 for target class tensor([0]). Step 200, Loss: 0.14665092527866364\n",
      "Generating Image Number: 15 for target class tensor([0]). Step 250, Loss: 0.12494348734617233\n",
      "Generating Image Number: 15 for target class tensor([0]). Step 300, Loss: 0.1050598993897438\n",
      "Generating Image Number: 15 for target class tensor([0]). Step 350, Loss: 0.08437790721654892\n",
      "Generating Image Number: 15 for target class tensor([0]). Step 400, Loss: 0.07207737863063812\n",
      "Generating Image Number: 15 for target class tensor([0]). Step 450, Loss: 0.06293970346450806\n",
      "Generating Image Number: 16 for target class tensor([0]). Step 0, Loss: 3.391692638397217\n",
      "Generating Image Number: 16 for target class tensor([0]). Step 50, Loss: 0.03407999500632286\n",
      "Generating Image Number: 16 for target class tensor([0]). Step 100, Loss: 0.025843778625130653\n",
      "Generating Image Number: 16 for target class tensor([0]). Step 150, Loss: 0.02223782241344452\n",
      "Generating Image Number: 16 for target class tensor([0]). Step 200, Loss: 0.019227901473641396\n",
      "Generating Image Number: 16 for target class tensor([0]). Step 250, Loss: 0.017092889174818993\n",
      "Generating Image Number: 16 for target class tensor([0]). Step 300, Loss: 0.01510209497064352\n",
      "Generating Image Number: 16 for target class tensor([0]). Step 350, Loss: 0.013340028002858162\n",
      "Generating Image Number: 16 for target class tensor([0]). Step 400, Loss: 0.011921115219593048\n",
      "Generating Image Number: 16 for target class tensor([0]). Step 450, Loss: 0.01072028186172247\n",
      "Generating Image Number: 17 for target class tensor([0]). Step 0, Loss: 2.5898923873901367\n",
      "Generating Image Number: 17 for target class tensor([0]). Step 50, Loss: 1.3498667478561401\n",
      "Generating Image Number: 17 for target class tensor([0]). Step 100, Loss: 0.8327164053916931\n",
      "Generating Image Number: 17 for target class tensor([0]). Step 150, Loss: 0.5804182291030884\n",
      "Generating Image Number: 17 for target class tensor([0]). Step 200, Loss: 0.4397096633911133\n",
      "Generating Image Number: 17 for target class tensor([0]). Step 250, Loss: 0.33933961391448975\n",
      "Generating Image Number: 17 for target class tensor([0]). Step 300, Loss: 0.2598365545272827\n",
      "Generating Image Number: 17 for target class tensor([0]). Step 350, Loss: 0.20994552969932556\n",
      "Generating Image Number: 17 for target class tensor([0]). Step 400, Loss: 0.16850116848945618\n",
      "Generating Image Number: 17 for target class tensor([0]). Step 450, Loss: 0.14122194051742554\n",
      "Generating Image Number: 18 for target class tensor([0]). Step 0, Loss: 0.0\n",
      "Generating Image Number: 18 for target class tensor([0]). Step 50, Loss: 0.0\n",
      "Generating Image Number: 18 for target class tensor([0]). Step 100, Loss: 0.0\n",
      "Generating Image Number: 18 for target class tensor([0]). Step 150, Loss: 0.0\n",
      "Generating Image Number: 18 for target class tensor([0]). Step 200, Loss: 0.0\n",
      "Generating Image Number: 18 for target class tensor([0]). Step 250, Loss: 0.0\n",
      "Generating Image Number: 18 for target class tensor([0]). Step 300, Loss: 0.0\n",
      "Generating Image Number: 18 for target class tensor([0]). Step 350, Loss: 0.0\n",
      "Generating Image Number: 18 for target class tensor([0]). Step 400, Loss: 0.0\n",
      "Generating Image Number: 18 for target class tensor([0]). Step 450, Loss: 0.0\n",
      "Generating Image Number: 19 for target class tensor([0]). Step 0, Loss: 0.0\n",
      "Generating Image Number: 19 for target class tensor([0]). Step 50, Loss: 0.0\n",
      "Generating Image Number: 19 for target class tensor([0]). Step 100, Loss: 0.0\n",
      "Generating Image Number: 19 for target class tensor([0]). Step 150, Loss: 0.0\n",
      "Generating Image Number: 19 for target class tensor([0]). Step 200, Loss: 0.0\n",
      "Generating Image Number: 19 for target class tensor([0]). Step 250, Loss: 0.0\n",
      "Generating Image Number: 19 for target class tensor([0]). Step 300, Loss: 0.0\n",
      "Generating Image Number: 19 for target class tensor([0]). Step 350, Loss: 0.0\n",
      "Generating Image Number: 19 for target class tensor([0]). Step 400, Loss: 0.0\n",
      "Generating Image Number: 19 for target class tensor([0]). Step 450, Loss: 0.0\n",
      "Generating Image Number: 20 for target class tensor([0]). Step 0, Loss: 1.917657494544983\n",
      "Generating Image Number: 20 for target class tensor([0]). Step 50, Loss: 0.006611970253288746\n",
      "Generating Image Number: 20 for target class tensor([0]). Step 100, Loss: 0.0033827959559857845\n",
      "Generating Image Number: 20 for target class tensor([0]). Step 150, Loss: 0.0032785970252007246\n",
      "Generating Image Number: 20 for target class tensor([0]). Step 200, Loss: 0.003167851595208049\n",
      "Generating Image Number: 20 for target class tensor([0]). Step 250, Loss: 0.003057569032534957\n",
      "Generating Image Number: 20 for target class tensor([0]). Step 300, Loss: 0.002940024249255657\n",
      "Generating Image Number: 20 for target class tensor([0]). Step 350, Loss: 0.002832331694662571\n",
      "Generating Image Number: 20 for target class tensor([0]). Step 400, Loss: 0.002745907986536622\n",
      "Generating Image Number: 20 for target class tensor([0]). Step 450, Loss: 0.002649251837283373\n"
     ]
    }
   ],
   "source": [
    "class0_optimized_latent_vectors = recover_images(img_count, 0, latent_vectors)"
   ]
  },
  {
   "cell_type": "code",
   "execution_count": 21,
   "id": "6718334c-2bb1-42a3-bd8c-6aea38e6b59c",
   "metadata": {
    "scrolled": true
   },
   "outputs": [
    {
     "name": "stdout",
     "output_type": "stream",
     "text": [
      "Generating Image Number: 1 for target class tensor([1]). Step 0, Loss: 6.273411273956299\n",
      "Generating Image Number: 1 for target class tensor([1]). Step 50, Loss: 5.012821674346924\n",
      "Generating Image Number: 1 for target class tensor([1]). Step 100, Loss: 4.506459712982178\n",
      "Generating Image Number: 1 for target class tensor([1]). Step 150, Loss: 4.144435882568359\n",
      "Generating Image Number: 1 for target class tensor([1]). Step 200, Loss: 3.8195037841796875\n",
      "Generating Image Number: 1 for target class tensor([1]). Step 250, Loss: 3.614488124847412\n",
      "Generating Image Number: 1 for target class tensor([1]). Step 300, Loss: 3.2581417560577393\n",
      "Generating Image Number: 1 for target class tensor([1]). Step 350, Loss: 3.029132843017578\n",
      "Generating Image Number: 1 for target class tensor([1]). Step 400, Loss: 2.8902299404144287\n",
      "Generating Image Number: 1 for target class tensor([1]). Step 450, Loss: 2.6858487129211426\n",
      "Generating Image Number: 2 for target class tensor([1]). Step 0, Loss: 9.364476203918457\n",
      "Generating Image Number: 2 for target class tensor([1]). Step 50, Loss: 3.4191393852233887\n",
      "Generating Image Number: 2 for target class tensor([1]). Step 100, Loss: 2.2619967460632324\n",
      "Generating Image Number: 2 for target class tensor([1]). Step 150, Loss: 1.4686216115951538\n",
      "Generating Image Number: 2 for target class tensor([1]). Step 200, Loss: 1.0643901824951172\n",
      "Generating Image Number: 2 for target class tensor([1]). Step 250, Loss: 0.7559652328491211\n",
      "Generating Image Number: 2 for target class tensor([1]). Step 300, Loss: 0.5243082046508789\n",
      "Generating Image Number: 2 for target class tensor([1]). Step 350, Loss: 0.39746949076652527\n",
      "Generating Image Number: 2 for target class tensor([1]). Step 400, Loss: 0.33034664392471313\n",
      "Generating Image Number: 2 for target class tensor([1]). Step 450, Loss: 0.28962525725364685\n",
      "Generating Image Number: 3 for target class tensor([1]). Step 0, Loss: 10.159700393676758\n",
      "Generating Image Number: 3 for target class tensor([1]). Step 50, Loss: 6.423119068145752\n",
      "Generating Image Number: 3 for target class tensor([1]). Step 100, Loss: 5.222884178161621\n",
      "Generating Image Number: 3 for target class tensor([1]). Step 150, Loss: 4.595577239990234\n",
      "Generating Image Number: 3 for target class tensor([1]). Step 200, Loss: 4.196882247924805\n",
      "Generating Image Number: 3 for target class tensor([1]). Step 250, Loss: 3.8571629524230957\n",
      "Generating Image Number: 3 for target class tensor([1]). Step 300, Loss: 3.580437183380127\n",
      "Generating Image Number: 3 for target class tensor([1]). Step 350, Loss: 3.3938491344451904\n",
      "Generating Image Number: 3 for target class tensor([1]). Step 400, Loss: 3.2911295890808105\n",
      "Generating Image Number: 3 for target class tensor([1]). Step 450, Loss: 3.0823490619659424\n",
      "Generating Image Number: 4 for target class tensor([1]). Step 0, Loss: 14.389554977416992\n",
      "Generating Image Number: 4 for target class tensor([1]). Step 50, Loss: 7.152733325958252\n",
      "Generating Image Number: 4 for target class tensor([1]). Step 100, Loss: 6.149500846862793\n",
      "Generating Image Number: 4 for target class tensor([1]). Step 150, Loss: 5.478084564208984\n",
      "Generating Image Number: 4 for target class tensor([1]). Step 200, Loss: 4.89474630355835\n",
      "Generating Image Number: 4 for target class tensor([1]). Step 250, Loss: 4.504941463470459\n",
      "Generating Image Number: 4 for target class tensor([1]). Step 300, Loss: 4.269755840301514\n",
      "Generating Image Number: 4 for target class tensor([1]). Step 350, Loss: 4.096503257751465\n",
      "Generating Image Number: 4 for target class tensor([1]). Step 400, Loss: 3.9886279106140137\n",
      "Generating Image Number: 4 for target class tensor([1]). Step 450, Loss: 3.907247543334961\n",
      "Generating Image Number: 5 for target class tensor([1]). Step 0, Loss: 9.548069953918457\n",
      "Generating Image Number: 5 for target class tensor([1]). Step 50, Loss: 6.9930620193481445\n",
      "Generating Image Number: 5 for target class tensor([1]). Step 100, Loss: 6.157975196838379\n",
      "Generating Image Number: 5 for target class tensor([1]). Step 150, Loss: 5.379206657409668\n",
      "Generating Image Number: 5 for target class tensor([1]). Step 200, Loss: 4.819196701049805\n",
      "Generating Image Number: 5 for target class tensor([1]). Step 250, Loss: 4.489432334899902\n",
      "Generating Image Number: 5 for target class tensor([1]). Step 300, Loss: 4.298941612243652\n",
      "Generating Image Number: 5 for target class tensor([1]). Step 350, Loss: 4.191344261169434\n",
      "Generating Image Number: 5 for target class tensor([1]). Step 400, Loss: 4.015247821807861\n",
      "Generating Image Number: 5 for target class tensor([1]). Step 450, Loss: 3.828883409500122\n",
      "Generating Image Number: 6 for target class tensor([1]). Step 0, Loss: 7.4149909019470215\n",
      "Generating Image Number: 6 for target class tensor([1]). Step 50, Loss: 5.761837959289551\n",
      "Generating Image Number: 6 for target class tensor([1]). Step 100, Loss: 5.095909595489502\n",
      "Generating Image Number: 6 for target class tensor([1]). Step 150, Loss: 4.7027411460876465\n",
      "Generating Image Number: 6 for target class tensor([1]). Step 200, Loss: 4.433448791503906\n",
      "Generating Image Number: 6 for target class tensor([1]). Step 250, Loss: 4.17152738571167\n",
      "Generating Image Number: 6 for target class tensor([1]). Step 300, Loss: 3.89827823638916\n",
      "Generating Image Number: 6 for target class tensor([1]). Step 350, Loss: 3.69228458404541\n",
      "Generating Image Number: 6 for target class tensor([1]). Step 400, Loss: 3.534712314605713\n",
      "Generating Image Number: 6 for target class tensor([1]). Step 450, Loss: 3.4353561401367188\n",
      "Generating Image Number: 7 for target class tensor([1]). Step 0, Loss: 41.2856330871582\n",
      "Generating Image Number: 7 for target class tensor([1]). Step 50, Loss: 6.7407941818237305\n",
      "Generating Image Number: 7 for target class tensor([1]). Step 100, Loss: 6.33843469619751\n",
      "Generating Image Number: 7 for target class tensor([1]). Step 150, Loss: 5.901583194732666\n",
      "Generating Image Number: 7 for target class tensor([1]). Step 200, Loss: 5.375922203063965\n",
      "Generating Image Number: 7 for target class tensor([1]). Step 250, Loss: 4.808857440948486\n",
      "Generating Image Number: 7 for target class tensor([1]). Step 300, Loss: 4.185209274291992\n",
      "Generating Image Number: 7 for target class tensor([1]). Step 350, Loss: 3.665796995162964\n",
      "Generating Image Number: 7 for target class tensor([1]). Step 400, Loss: 3.340789556503296\n",
      "Generating Image Number: 7 for target class tensor([1]). Step 450, Loss: 3.1111292839050293\n",
      "Generating Image Number: 8 for target class tensor([1]). Step 0, Loss: 40.4256591796875\n",
      "Generating Image Number: 8 for target class tensor([1]). Step 50, Loss: 34.50077438354492\n",
      "Generating Image Number: 8 for target class tensor([1]). Step 100, Loss: 34.43562698364258\n",
      "Generating Image Number: 8 for target class tensor([1]). Step 150, Loss: 34.30754470825195\n",
      "Generating Image Number: 8 for target class tensor([1]). Step 200, Loss: 35.078651428222656\n",
      "Generating Image Number: 8 for target class tensor([1]). Step 250, Loss: 34.28118896484375\n",
      "Generating Image Number: 8 for target class tensor([1]). Step 300, Loss: 34.50425720214844\n",
      "Generating Image Number: 8 for target class tensor([1]). Step 350, Loss: 34.74952697753906\n",
      "Generating Image Number: 8 for target class tensor([1]). Step 400, Loss: 34.1060791015625\n",
      "Generating Image Number: 8 for target class tensor([1]). Step 450, Loss: 34.58515930175781\n",
      "Generating Image Number: 9 for target class tensor([1]). Step 0, Loss: 16.975549697875977\n",
      "Generating Image Number: 9 for target class tensor([1]). Step 50, Loss: 6.8193817138671875\n",
      "Generating Image Number: 9 for target class tensor([1]). Step 100, Loss: 4.916800022125244\n",
      "Generating Image Number: 9 for target class tensor([1]). Step 150, Loss: 3.462636947631836\n",
      "Generating Image Number: 9 for target class tensor([1]). Step 200, Loss: 1.7431786060333252\n",
      "Generating Image Number: 9 for target class tensor([1]). Step 250, Loss: 1.2231016159057617\n",
      "Generating Image Number: 9 for target class tensor([1]). Step 300, Loss: 1.0080358982086182\n",
      "Generating Image Number: 9 for target class tensor([1]). Step 350, Loss: 0.8513336181640625\n",
      "Generating Image Number: 9 for target class tensor([1]). Step 400, Loss: 0.7350663542747498\n",
      "Generating Image Number: 9 for target class tensor([1]). Step 450, Loss: 0.6140244603157043\n",
      "Generating Image Number: 10 for target class tensor([1]). Step 0, Loss: 12.74010181427002\n",
      "Generating Image Number: 10 for target class tensor([1]). Step 50, Loss: 5.570192337036133\n",
      "Generating Image Number: 10 for target class tensor([1]). Step 100, Loss: 4.522547721862793\n",
      "Generating Image Number: 10 for target class tensor([1]). Step 150, Loss: 3.9020590782165527\n",
      "Generating Image Number: 10 for target class tensor([1]). Step 200, Loss: 3.4065053462982178\n",
      "Generating Image Number: 10 for target class tensor([1]). Step 250, Loss: 2.695587635040283\n",
      "Generating Image Number: 10 for target class tensor([1]). Step 300, Loss: 2.2146267890930176\n",
      "Generating Image Number: 10 for target class tensor([1]). Step 350, Loss: 1.8354475498199463\n",
      "Generating Image Number: 10 for target class tensor([1]). Step 400, Loss: 1.2242752313613892\n",
      "Generating Image Number: 10 for target class tensor([1]). Step 450, Loss: 0.8905147314071655\n",
      "Generating Image Number: 11 for target class tensor([1]). Step 0, Loss: 6.604772090911865\n",
      "Generating Image Number: 11 for target class tensor([1]). Step 50, Loss: 2.965989112854004\n",
      "Generating Image Number: 11 for target class tensor([1]). Step 100, Loss: 1.8804545402526855\n",
      "Generating Image Number: 11 for target class tensor([1]). Step 150, Loss: 1.6700458526611328\n",
      "Generating Image Number: 11 for target class tensor([1]). Step 200, Loss: 1.506957769393921\n",
      "Generating Image Number: 11 for target class tensor([1]). Step 250, Loss: 1.3333840370178223\n",
      "Generating Image Number: 11 for target class tensor([1]). Step 300, Loss: 1.1918433904647827\n",
      "Generating Image Number: 11 for target class tensor([1]). Step 350, Loss: 1.114720344543457\n",
      "Generating Image Number: 11 for target class tensor([1]). Step 400, Loss: 1.0306355953216553\n",
      "Generating Image Number: 11 for target class tensor([1]). Step 450, Loss: 0.973365068435669\n",
      "Generating Image Number: 12 for target class tensor([1]). Step 0, Loss: 14.881876945495605\n",
      "Generating Image Number: 12 for target class tensor([1]). Step 50, Loss: 14.12026309967041\n",
      "Generating Image Number: 12 for target class tensor([1]). Step 100, Loss: 13.698076248168945\n",
      "Generating Image Number: 12 for target class tensor([1]). Step 150, Loss: 13.384737014770508\n",
      "Generating Image Number: 12 for target class tensor([1]). Step 200, Loss: 12.916701316833496\n",
      "Generating Image Number: 12 for target class tensor([1]). Step 250, Loss: 12.4805269241333\n",
      "Generating Image Number: 12 for target class tensor([1]). Step 300, Loss: 12.029703140258789\n",
      "Generating Image Number: 12 for target class tensor([1]). Step 350, Loss: 11.75239372253418\n",
      "Generating Image Number: 12 for target class tensor([1]). Step 400, Loss: 11.546493530273438\n",
      "Generating Image Number: 12 for target class tensor([1]). Step 450, Loss: 11.407449722290039\n",
      "Generating Image Number: 13 for target class tensor([1]). Step 0, Loss: 11.344478607177734\n",
      "Generating Image Number: 13 for target class tensor([1]). Step 50, Loss: 6.34798526763916\n",
      "Generating Image Number: 13 for target class tensor([1]). Step 100, Loss: 5.9846696853637695\n",
      "Generating Image Number: 13 for target class tensor([1]). Step 150, Loss: 5.740370273590088\n",
      "Generating Image Number: 13 for target class tensor([1]). Step 200, Loss: 5.549004554748535\n",
      "Generating Image Number: 13 for target class tensor([1]). Step 250, Loss: 5.334003925323486\n",
      "Generating Image Number: 13 for target class tensor([1]). Step 300, Loss: 5.132481098175049\n",
      "Generating Image Number: 13 for target class tensor([1]). Step 350, Loss: 4.936924934387207\n",
      "Generating Image Number: 13 for target class tensor([1]). Step 400, Loss: 4.749523639678955\n",
      "Generating Image Number: 13 for target class tensor([1]). Step 450, Loss: 4.582231044769287\n",
      "Generating Image Number: 14 for target class tensor([1]). Step 0, Loss: 9.55379581451416\n",
      "Generating Image Number: 14 for target class tensor([1]). Step 50, Loss: 2.0946083068847656\n",
      "Generating Image Number: 14 for target class tensor([1]). Step 100, Loss: 1.4695937633514404\n",
      "Generating Image Number: 14 for target class tensor([1]). Step 150, Loss: 1.1229193210601807\n",
      "Generating Image Number: 14 for target class tensor([1]). Step 200, Loss: 0.851235032081604\n",
      "Generating Image Number: 14 for target class tensor([1]). Step 250, Loss: 0.6239580512046814\n",
      "Generating Image Number: 14 for target class tensor([1]). Step 300, Loss: 0.48544687032699585\n",
      "Generating Image Number: 14 for target class tensor([1]). Step 350, Loss: 0.3945455849170685\n",
      "Generating Image Number: 14 for target class tensor([1]). Step 400, Loss: 0.33291107416152954\n",
      "Generating Image Number: 14 for target class tensor([1]). Step 450, Loss: 0.2810519337654114\n",
      "Generating Image Number: 15 for target class tensor([1]). Step 0, Loss: 7.937952041625977\n",
      "Generating Image Number: 15 for target class tensor([1]). Step 50, Loss: 2.0287184715270996\n",
      "Generating Image Number: 15 for target class tensor([1]). Step 100, Loss: 1.542980432510376\n",
      "Generating Image Number: 15 for target class tensor([1]). Step 150, Loss: 1.2821364402770996\n",
      "Generating Image Number: 15 for target class tensor([1]). Step 200, Loss: 1.0977115631103516\n",
      "Generating Image Number: 15 for target class tensor([1]). Step 250, Loss: 0.9546335935592651\n",
      "Generating Image Number: 15 for target class tensor([1]). Step 300, Loss: 0.8342050313949585\n",
      "Generating Image Number: 15 for target class tensor([1]). Step 350, Loss: 0.7301122546195984\n",
      "Generating Image Number: 15 for target class tensor([1]). Step 400, Loss: 0.6504960060119629\n",
      "Generating Image Number: 15 for target class tensor([1]). Step 450, Loss: 0.5759617686271667\n",
      "Generating Image Number: 16 for target class tensor([1]). Step 0, Loss: 42.07805633544922\n",
      "Generating Image Number: 16 for target class tensor([1]). Step 50, Loss: 5.225183010101318\n",
      "Generating Image Number: 16 for target class tensor([1]). Step 100, Loss: 4.445331573486328\n",
      "Generating Image Number: 16 for target class tensor([1]). Step 150, Loss: 4.326101303100586\n",
      "Generating Image Number: 16 for target class tensor([1]). Step 200, Loss: 4.213688373565674\n",
      "Generating Image Number: 16 for target class tensor([1]). Step 250, Loss: 4.087152481079102\n",
      "Generating Image Number: 16 for target class tensor([1]). Step 300, Loss: 3.9622416496276855\n",
      "Generating Image Number: 16 for target class tensor([1]). Step 350, Loss: 3.840404987335205\n",
      "Generating Image Number: 16 for target class tensor([1]). Step 400, Loss: 3.7001712322235107\n",
      "Generating Image Number: 16 for target class tensor([1]). Step 450, Loss: 3.550952434539795\n",
      "Generating Image Number: 17 for target class tensor([1]). Step 0, Loss: 11.197909355163574\n",
      "Generating Image Number: 17 for target class tensor([1]). Step 50, Loss: 2.825667381286621\n",
      "Generating Image Number: 17 for target class tensor([1]). Step 100, Loss: 1.8742382526397705\n",
      "Generating Image Number: 17 for target class tensor([1]). Step 150, Loss: 1.4738414287567139\n",
      "Generating Image Number: 17 for target class tensor([1]). Step 200, Loss: 1.1764206886291504\n",
      "Generating Image Number: 17 for target class tensor([1]). Step 250, Loss: 0.9267372488975525\n",
      "Generating Image Number: 17 for target class tensor([1]). Step 300, Loss: 0.7732663750648499\n",
      "Generating Image Number: 17 for target class tensor([1]). Step 350, Loss: 0.6272474527359009\n",
      "Generating Image Number: 17 for target class tensor([1]). Step 400, Loss: 0.5254830121994019\n",
      "Generating Image Number: 17 for target class tensor([1]). Step 450, Loss: 0.44294488430023193\n",
      "Generating Image Number: 18 for target class tensor([1]). Step 0, Loss: 10.545682907104492\n",
      "Generating Image Number: 18 for target class tensor([1]). Step 50, Loss: 7.266334533691406\n",
      "Generating Image Number: 18 for target class tensor([1]). Step 100, Loss: 6.013098239898682\n",
      "Generating Image Number: 18 for target class tensor([1]). Step 150, Loss: 4.624890327453613\n",
      "Generating Image Number: 18 for target class tensor([1]). Step 200, Loss: 3.5550718307495117\n",
      "Generating Image Number: 18 for target class tensor([1]). Step 250, Loss: 2.929049253463745\n",
      "Generating Image Number: 18 for target class tensor([1]). Step 300, Loss: 2.472655773162842\n",
      "Generating Image Number: 18 for target class tensor([1]). Step 350, Loss: 1.9992284774780273\n",
      "Generating Image Number: 18 for target class tensor([1]). Step 400, Loss: 1.74268639087677\n",
      "Generating Image Number: 18 for target class tensor([1]). Step 450, Loss: 1.53325617313385\n",
      "Generating Image Number: 19 for target class tensor([1]). Step 0, Loss: 1.4180407524108887\n",
      "Generating Image Number: 19 for target class tensor([1]). Step 50, Loss: 0.38035568594932556\n",
      "Generating Image Number: 19 for target class tensor([1]). Step 100, Loss: 0.28528016805648804\n",
      "Generating Image Number: 19 for target class tensor([1]). Step 150, Loss: 0.2340848743915558\n",
      "Generating Image Number: 19 for target class tensor([1]). Step 200, Loss: 0.20307835936546326\n",
      "Generating Image Number: 19 for target class tensor([1]). Step 250, Loss: 0.18142981827259064\n",
      "Generating Image Number: 19 for target class tensor([1]). Step 300, Loss: 0.16410501301288605\n",
      "Generating Image Number: 19 for target class tensor([1]). Step 350, Loss: 0.150913268327713\n",
      "Generating Image Number: 19 for target class tensor([1]). Step 400, Loss: 0.1389477550983429\n",
      "Generating Image Number: 19 for target class tensor([1]). Step 450, Loss: 0.12851542234420776\n",
      "Generating Image Number: 20 for target class tensor([1]). Step 0, Loss: 5.471391201019287\n",
      "Generating Image Number: 20 for target class tensor([1]). Step 50, Loss: 2.6302242279052734\n",
      "Generating Image Number: 20 for target class tensor([1]). Step 100, Loss: 1.864485263824463\n",
      "Generating Image Number: 20 for target class tensor([1]). Step 150, Loss: 1.2159559726715088\n",
      "Generating Image Number: 20 for target class tensor([1]). Step 200, Loss: 0.8273129463195801\n",
      "Generating Image Number: 20 for target class tensor([1]). Step 250, Loss: 0.610802412033081\n",
      "Generating Image Number: 20 for target class tensor([1]). Step 300, Loss: 0.47762516140937805\n",
      "Generating Image Number: 20 for target class tensor([1]). Step 350, Loss: 0.3946875333786011\n",
      "Generating Image Number: 20 for target class tensor([1]). Step 400, Loss: 0.3264397382736206\n",
      "Generating Image Number: 20 for target class tensor([1]). Step 450, Loss: 0.27755284309387207\n"
     ]
    }
   ],
   "source": [
    "torch.manual_seed(100)\n",
    "latent_vectors = torch.randn(img_count, z_dim, 1, 1, requires_grad=True) # Start with 20 random noises\n",
    "class1_optimized_latent_vectors = recover_images(img_count, 1, latent_vectors)"
   ]
  },
  {
   "cell_type": "code",
   "execution_count": 22,
   "id": "1c8af686-b1ff-419d-946d-2447773e47c9",
   "metadata": {
    "scrolled": true
   },
   "outputs": [
    {
     "name": "stdout",
     "output_type": "stream",
     "text": [
      "Generating Image Number: 1 for target class tensor([2]). Step 0, Loss: 3.181877613067627\n",
      "Generating Image Number: 1 for target class tensor([2]). Step 50, Loss: 0.31055113673210144\n",
      "Generating Image Number: 1 for target class tensor([2]). Step 100, Loss: 0.13118351995944977\n",
      "Generating Image Number: 1 for target class tensor([2]). Step 150, Loss: 0.082573302090168\n",
      "Generating Image Number: 1 for target class tensor([2]). Step 200, Loss: 0.0637502521276474\n",
      "Generating Image Number: 1 for target class tensor([2]). Step 250, Loss: 0.05383841320872307\n",
      "Generating Image Number: 1 for target class tensor([2]). Step 300, Loss: 0.04673488438129425\n",
      "Generating Image Number: 1 for target class tensor([2]). Step 350, Loss: 0.040391795337200165\n",
      "Generating Image Number: 1 for target class tensor([2]). Step 400, Loss: 0.03581156209111214\n",
      "Generating Image Number: 1 for target class tensor([2]). Step 450, Loss: 0.03207774460315704\n",
      "Generating Image Number: 2 for target class tensor([2]). Step 0, Loss: 1.4458283185958862\n",
      "Generating Image Number: 2 for target class tensor([2]). Step 50, Loss: 0.23446249961853027\n",
      "Generating Image Number: 2 for target class tensor([2]). Step 100, Loss: 0.11539419740438461\n",
      "Generating Image Number: 2 for target class tensor([2]). Step 150, Loss: 0.0799352303147316\n",
      "Generating Image Number: 2 for target class tensor([2]). Step 200, Loss: 0.0668850988149643\n",
      "Generating Image Number: 2 for target class tensor([2]). Step 250, Loss: 0.05642334371805191\n",
      "Generating Image Number: 2 for target class tensor([2]). Step 300, Loss: 0.048683051019907\n",
      "Generating Image Number: 2 for target class tensor([2]). Step 350, Loss: 0.04224184527993202\n",
      "Generating Image Number: 2 for target class tensor([2]). Step 400, Loss: 0.037226174026727676\n",
      "Generating Image Number: 2 for target class tensor([2]). Step 450, Loss: 0.033594708889722824\n",
      "Generating Image Number: 3 for target class tensor([2]). Step 0, Loss: 1.1454710960388184\n",
      "Generating Image Number: 3 for target class tensor([2]). Step 50, Loss: 0.19742541015148163\n",
      "Generating Image Number: 3 for target class tensor([2]). Step 100, Loss: 0.07246939837932587\n",
      "Generating Image Number: 3 for target class tensor([2]). Step 150, Loss: 0.04996086284518242\n",
      "Generating Image Number: 3 for target class tensor([2]). Step 200, Loss: 0.03835202008485794\n",
      "Generating Image Number: 3 for target class tensor([2]). Step 250, Loss: 0.030134979635477066\n",
      "Generating Image Number: 3 for target class tensor([2]). Step 300, Loss: 0.025588758289813995\n",
      "Generating Image Number: 3 for target class tensor([2]). Step 350, Loss: 0.021864205598831177\n",
      "Generating Image Number: 3 for target class tensor([2]). Step 400, Loss: 0.019150016829371452\n",
      "Generating Image Number: 3 for target class tensor([2]). Step 450, Loss: 0.016814175993204117\n",
      "Generating Image Number: 4 for target class tensor([2]). Step 0, Loss: 0.7646102905273438\n",
      "Generating Image Number: 4 for target class tensor([2]). Step 50, Loss: 0.003673830069601536\n",
      "Generating Image Number: 4 for target class tensor([2]). Step 100, Loss: 0.0022299441043287516\n",
      "Generating Image Number: 4 for target class tensor([2]). Step 150, Loss: 0.001508170971646905\n",
      "Generating Image Number: 4 for target class tensor([2]). Step 200, Loss: 0.0011804286623373628\n",
      "Generating Image Number: 4 for target class tensor([2]). Step 250, Loss: 0.0008013612823560834\n",
      "Generating Image Number: 4 for target class tensor([2]). Step 300, Loss: 0.00044860312482342124\n",
      "Generating Image Number: 4 for target class tensor([2]). Step 350, Loss: 0.00032669928623363376\n",
      "Generating Image Number: 4 for target class tensor([2]). Step 400, Loss: 0.00026008085114881396\n",
      "Generating Image Number: 4 for target class tensor([2]). Step 450, Loss: 0.00021360022947192192\n",
      "Generating Image Number: 5 for target class tensor([2]). Step 0, Loss: 1.3695297241210938\n",
      "Generating Image Number: 5 for target class tensor([2]). Step 50, Loss: 0.3938632309436798\n",
      "Generating Image Number: 5 for target class tensor([2]). Step 100, Loss: 0.2108987718820572\n",
      "Generating Image Number: 5 for target class tensor([2]). Step 150, Loss: 0.14854934811592102\n",
      "Generating Image Number: 5 for target class tensor([2]). Step 200, Loss: 0.11337105184793472\n",
      "Generating Image Number: 5 for target class tensor([2]). Step 250, Loss: 0.08863610029220581\n",
      "Generating Image Number: 5 for target class tensor([2]). Step 300, Loss: 0.07365185767412186\n",
      "Generating Image Number: 5 for target class tensor([2]). Step 350, Loss: 0.06257281452417374\n",
      "Generating Image Number: 5 for target class tensor([2]). Step 400, Loss: 0.05684418976306915\n",
      "Generating Image Number: 5 for target class tensor([2]). Step 450, Loss: 0.04929441586136818\n",
      "Generating Image Number: 6 for target class tensor([2]). Step 0, Loss: 1.7407152652740479\n",
      "Generating Image Number: 6 for target class tensor([2]). Step 50, Loss: 0.30938979983329773\n",
      "Generating Image Number: 6 for target class tensor([2]). Step 100, Loss: 0.1891145557165146\n",
      "Generating Image Number: 6 for target class tensor([2]). Step 150, Loss: 0.14058537781238556\n",
      "Generating Image Number: 6 for target class tensor([2]). Step 200, Loss: 0.11385679244995117\n",
      "Generating Image Number: 6 for target class tensor([2]). Step 250, Loss: 0.09234247356653214\n",
      "Generating Image Number: 6 for target class tensor([2]). Step 300, Loss: 0.07980316132307053\n",
      "Generating Image Number: 6 for target class tensor([2]). Step 350, Loss: 0.06976748257875443\n",
      "Generating Image Number: 6 for target class tensor([2]). Step 400, Loss: 0.0602804534137249\n",
      "Generating Image Number: 6 for target class tensor([2]). Step 450, Loss: 0.0529036782681942\n",
      "Generating Image Number: 7 for target class tensor([2]). Step 0, Loss: 2.2268035411834717\n",
      "Generating Image Number: 7 for target class tensor([2]). Step 50, Loss: 0.3500697612762451\n",
      "Generating Image Number: 7 for target class tensor([2]). Step 100, Loss: 0.18619929254055023\n",
      "Generating Image Number: 7 for target class tensor([2]). Step 150, Loss: 0.13608486950397491\n",
      "Generating Image Number: 7 for target class tensor([2]). Step 200, Loss: 0.10843949764966965\n",
      "Generating Image Number: 7 for target class tensor([2]). Step 250, Loss: 0.08879013359546661\n",
      "Generating Image Number: 7 for target class tensor([2]). Step 300, Loss: 0.07543835043907166\n",
      "Generating Image Number: 7 for target class tensor([2]). Step 350, Loss: 0.06611279398202896\n",
      "Generating Image Number: 7 for target class tensor([2]). Step 400, Loss: 0.060622040182352066\n",
      "Generating Image Number: 7 for target class tensor([2]). Step 450, Loss: 0.0564795657992363\n",
      "Generating Image Number: 8 for target class tensor([2]). Step 0, Loss: 2.1586191654205322\n",
      "Generating Image Number: 8 for target class tensor([2]). Step 50, Loss: 0.5835755467414856\n",
      "Generating Image Number: 8 for target class tensor([2]). Step 100, Loss: 0.2990257441997528\n",
      "Generating Image Number: 8 for target class tensor([2]). Step 150, Loss: 0.2031659334897995\n",
      "Generating Image Number: 8 for target class tensor([2]). Step 200, Loss: 0.1561741977930069\n",
      "Generating Image Number: 8 for target class tensor([2]). Step 250, Loss: 0.12412158399820328\n",
      "Generating Image Number: 8 for target class tensor([2]). Step 300, Loss: 0.09870568662881851\n",
      "Generating Image Number: 8 for target class tensor([2]). Step 350, Loss: 0.08463534712791443\n",
      "Generating Image Number: 8 for target class tensor([2]). Step 400, Loss: 0.07379670441150665\n",
      "Generating Image Number: 8 for target class tensor([2]). Step 450, Loss: 0.06109315901994705\n",
      "Generating Image Number: 9 for target class tensor([2]). Step 0, Loss: 0.26971080899238586\n",
      "Generating Image Number: 9 for target class tensor([2]). Step 50, Loss: 0.022392870858311653\n",
      "Generating Image Number: 9 for target class tensor([2]). Step 100, Loss: 0.015152585692703724\n",
      "Generating Image Number: 9 for target class tensor([2]). Step 150, Loss: 0.011631057597696781\n",
      "Generating Image Number: 9 for target class tensor([2]). Step 200, Loss: 0.009334138594567776\n",
      "Generating Image Number: 9 for target class tensor([2]). Step 250, Loss: 0.007799409795552492\n",
      "Generating Image Number: 9 for target class tensor([2]). Step 300, Loss: 0.00660675996914506\n",
      "Generating Image Number: 9 for target class tensor([2]). Step 350, Loss: 0.005640306044369936\n",
      "Generating Image Number: 9 for target class tensor([2]). Step 400, Loss: 0.004843763541430235\n",
      "Generating Image Number: 9 for target class tensor([2]). Step 450, Loss: 0.004257068503648043\n",
      "Generating Image Number: 10 for target class tensor([2]). Step 0, Loss: 1.9570283889770508\n",
      "Generating Image Number: 10 for target class tensor([2]). Step 50, Loss: 0.6953239440917969\n",
      "Generating Image Number: 10 for target class tensor([2]). Step 100, Loss: 0.49040451645851135\n",
      "Generating Image Number: 10 for target class tensor([2]). Step 150, Loss: 0.33024606108665466\n",
      "Generating Image Number: 10 for target class tensor([2]). Step 200, Loss: 0.23926495015621185\n",
      "Generating Image Number: 10 for target class tensor([2]). Step 250, Loss: 0.19811199605464935\n",
      "Generating Image Number: 10 for target class tensor([2]). Step 300, Loss: 0.1799454241991043\n",
      "Generating Image Number: 10 for target class tensor([2]). Step 350, Loss: 0.16295509040355682\n",
      "Generating Image Number: 10 for target class tensor([2]). Step 400, Loss: 0.14540313184261322\n",
      "Generating Image Number: 10 for target class tensor([2]). Step 450, Loss: 0.14135733246803284\n",
      "Generating Image Number: 11 for target class tensor([2]). Step 0, Loss: 1.251276969909668\n",
      "Generating Image Number: 11 for target class tensor([2]). Step 50, Loss: 0.12958718836307526\n",
      "Generating Image Number: 11 for target class tensor([2]). Step 100, Loss: 0.07244101911783218\n",
      "Generating Image Number: 11 for target class tensor([2]). Step 150, Loss: 0.05569399520754814\n",
      "Generating Image Number: 11 for target class tensor([2]). Step 200, Loss: 0.04629530757665634\n",
      "Generating Image Number: 11 for target class tensor([2]). Step 250, Loss: 0.04092620685696602\n",
      "Generating Image Number: 11 for target class tensor([2]). Step 300, Loss: 0.03587079420685768\n",
      "Generating Image Number: 11 for target class tensor([2]). Step 350, Loss: 0.03117385506629944\n",
      "Generating Image Number: 11 for target class tensor([2]). Step 400, Loss: 0.02738506905734539\n",
      "Generating Image Number: 11 for target class tensor([2]). Step 450, Loss: 0.024715732783079147\n",
      "Generating Image Number: 12 for target class tensor([2]). Step 0, Loss: 33.215087890625\n",
      "Generating Image Number: 12 for target class tensor([2]). Step 50, Loss: 26.89042091369629\n",
      "Generating Image Number: 12 for target class tensor([2]). Step 100, Loss: 26.40062141418457\n",
      "Generating Image Number: 12 for target class tensor([2]). Step 150, Loss: 26.07898712158203\n",
      "Generating Image Number: 12 for target class tensor([2]). Step 200, Loss: 26.033824920654297\n",
      "Generating Image Number: 12 for target class tensor([2]). Step 250, Loss: 26.00248908996582\n",
      "Generating Image Number: 12 for target class tensor([2]). Step 300, Loss: 25.792360305786133\n",
      "Generating Image Number: 12 for target class tensor([2]). Step 350, Loss: 25.706262588500977\n",
      "Generating Image Number: 12 for target class tensor([2]). Step 400, Loss: 25.640705108642578\n",
      "Generating Image Number: 12 for target class tensor([2]). Step 450, Loss: 25.637710571289062\n",
      "Generating Image Number: 13 for target class tensor([2]). Step 0, Loss: 0.8264676928520203\n",
      "Generating Image Number: 13 for target class tensor([2]). Step 50, Loss: 0.28550490736961365\n",
      "Generating Image Number: 13 for target class tensor([2]). Step 100, Loss: 0.18505342304706573\n",
      "Generating Image Number: 13 for target class tensor([2]). Step 150, Loss: 0.1402270346879959\n",
      "Generating Image Number: 13 for target class tensor([2]). Step 200, Loss: 0.11236124485731125\n",
      "Generating Image Number: 13 for target class tensor([2]). Step 250, Loss: 0.09837373346090317\n",
      "Generating Image Number: 13 for target class tensor([2]). Step 300, Loss: 0.08401069045066833\n",
      "Generating Image Number: 13 for target class tensor([2]). Step 350, Loss: 0.0723627358675003\n",
      "Generating Image Number: 13 for target class tensor([2]). Step 400, Loss: 0.06476049870252609\n",
      "Generating Image Number: 13 for target class tensor([2]). Step 450, Loss: 0.057728104293346405\n",
      "Generating Image Number: 14 for target class tensor([2]). Step 0, Loss: 3.5251588821411133\n",
      "Generating Image Number: 14 for target class tensor([2]). Step 50, Loss: 0.7726055383682251\n",
      "Generating Image Number: 14 for target class tensor([2]). Step 100, Loss: 0.3140428960323334\n",
      "Generating Image Number: 14 for target class tensor([2]). Step 150, Loss: 0.17879393696784973\n",
      "Generating Image Number: 14 for target class tensor([2]). Step 200, Loss: 0.13032174110412598\n",
      "Generating Image Number: 14 for target class tensor([2]). Step 250, Loss: 0.10236725211143494\n",
      "Generating Image Number: 14 for target class tensor([2]). Step 300, Loss: 0.08352316915988922\n",
      "Generating Image Number: 14 for target class tensor([2]). Step 350, Loss: 0.07067948579788208\n",
      "Generating Image Number: 14 for target class tensor([2]). Step 400, Loss: 0.06158030778169632\n",
      "Generating Image Number: 14 for target class tensor([2]). Step 450, Loss: 0.054753996431827545\n",
      "Generating Image Number: 15 for target class tensor([2]). Step 0, Loss: 1.086188554763794\n",
      "Generating Image Number: 15 for target class tensor([2]). Step 50, Loss: 0.11274034529924393\n",
      "Generating Image Number: 15 for target class tensor([2]). Step 100, Loss: 0.061187803745269775\n",
      "Generating Image Number: 15 for target class tensor([2]). Step 150, Loss: 0.044450122863054276\n",
      "Generating Image Number: 15 for target class tensor([2]). Step 200, Loss: 0.03659255802631378\n",
      "Generating Image Number: 15 for target class tensor([2]). Step 250, Loss: 0.030505403876304626\n",
      "Generating Image Number: 15 for target class tensor([2]). Step 300, Loss: 0.02608758583664894\n",
      "Generating Image Number: 15 for target class tensor([2]). Step 350, Loss: 0.022291449829936028\n",
      "Generating Image Number: 15 for target class tensor([2]). Step 400, Loss: 0.019438954070210457\n",
      "Generating Image Number: 15 for target class tensor([2]). Step 450, Loss: 0.017213821411132812\n",
      "Generating Image Number: 16 for target class tensor([2]). Step 0, Loss: 3.54669189453125\n",
      "Generating Image Number: 16 for target class tensor([2]). Step 50, Loss: 0.13154196739196777\n",
      "Generating Image Number: 16 for target class tensor([2]). Step 100, Loss: 0.08518845587968826\n",
      "Generating Image Number: 16 for target class tensor([2]). Step 150, Loss: 0.05736583098769188\n",
      "Generating Image Number: 16 for target class tensor([2]). Step 200, Loss: 0.03928864747285843\n",
      "Generating Image Number: 16 for target class tensor([2]). Step 250, Loss: 0.030238036066293716\n",
      "Generating Image Number: 16 for target class tensor([2]). Step 300, Loss: 0.0229154322296381\n",
      "Generating Image Number: 16 for target class tensor([2]). Step 350, Loss: 0.019228368997573853\n",
      "Generating Image Number: 16 for target class tensor([2]). Step 400, Loss: 0.01690865121781826\n",
      "Generating Image Number: 16 for target class tensor([2]). Step 450, Loss: 0.015035044401884079\n",
      "Generating Image Number: 17 for target class tensor([2]). Step 0, Loss: 0.2767220437526703\n",
      "Generating Image Number: 17 for target class tensor([2]). Step 50, Loss: 0.00980265624821186\n",
      "Generating Image Number: 17 for target class tensor([2]). Step 100, Loss: 0.0065199509263038635\n",
      "Generating Image Number: 17 for target class tensor([2]). Step 150, Loss: 0.004980301018804312\n",
      "Generating Image Number: 17 for target class tensor([2]). Step 200, Loss: 0.0037190811708569527\n",
      "Generating Image Number: 17 for target class tensor([2]). Step 250, Loss: 0.0029295645654201508\n",
      "Generating Image Number: 17 for target class tensor([2]). Step 300, Loss: 0.002190335188060999\n",
      "Generating Image Number: 17 for target class tensor([2]). Step 350, Loss: 0.0016217187512665987\n",
      "Generating Image Number: 17 for target class tensor([2]). Step 400, Loss: 0.0013410394312813878\n",
      "Generating Image Number: 17 for target class tensor([2]). Step 450, Loss: 0.0011074369540438056\n",
      "Generating Image Number: 18 for target class tensor([2]). Step 0, Loss: 28.80089569091797\n",
      "Generating Image Number: 18 for target class tensor([2]). Step 50, Loss: 24.777584075927734\n",
      "Generating Image Number: 18 for target class tensor([2]). Step 100, Loss: 24.618011474609375\n",
      "Generating Image Number: 18 for target class tensor([2]). Step 150, Loss: 24.122203826904297\n",
      "Generating Image Number: 18 for target class tensor([2]). Step 200, Loss: 24.221149444580078\n",
      "Generating Image Number: 18 for target class tensor([2]). Step 250, Loss: 23.84530258178711\n",
      "Generating Image Number: 18 for target class tensor([2]). Step 300, Loss: 23.851463317871094\n",
      "Generating Image Number: 18 for target class tensor([2]). Step 350, Loss: 24.14600372314453\n",
      "Generating Image Number: 18 for target class tensor([2]). Step 400, Loss: 23.623981475830078\n",
      "Generating Image Number: 18 for target class tensor([2]). Step 450, Loss: 23.601778030395508\n",
      "Generating Image Number: 19 for target class tensor([2]). Step 0, Loss: 5.449136257171631\n",
      "Generating Image Number: 19 for target class tensor([2]). Step 50, Loss: 2.9687275886535645\n",
      "Generating Image Number: 19 for target class tensor([2]). Step 100, Loss: 1.8390661478042603\n",
      "Generating Image Number: 19 for target class tensor([2]). Step 150, Loss: 1.1306605339050293\n",
      "Generating Image Number: 19 for target class tensor([2]). Step 200, Loss: 0.8563082218170166\n",
      "Generating Image Number: 19 for target class tensor([2]). Step 250, Loss: 0.7276639938354492\n",
      "Generating Image Number: 19 for target class tensor([2]). Step 300, Loss: 0.6227951049804688\n",
      "Generating Image Number: 19 for target class tensor([2]). Step 350, Loss: 0.4946700632572174\n",
      "Generating Image Number: 19 for target class tensor([2]). Step 400, Loss: 0.4175162613391876\n",
      "Generating Image Number: 19 for target class tensor([2]). Step 450, Loss: 0.35789570212364197\n",
      "Generating Image Number: 20 for target class tensor([2]). Step 0, Loss: 0.2946509122848511\n",
      "Generating Image Number: 20 for target class tensor([2]). Step 50, Loss: 0.0020207001361995935\n",
      "Generating Image Number: 20 for target class tensor([2]). Step 100, Loss: 0.0015999386087059975\n",
      "Generating Image Number: 20 for target class tensor([2]). Step 150, Loss: 0.0014069906901568174\n",
      "Generating Image Number: 20 for target class tensor([2]). Step 200, Loss: 0.0012434140080586076\n",
      "Generating Image Number: 20 for target class tensor([2]). Step 250, Loss: 0.0011151769431307912\n",
      "Generating Image Number: 20 for target class tensor([2]). Step 300, Loss: 0.0009873997187241912\n",
      "Generating Image Number: 20 for target class tensor([2]). Step 350, Loss: 0.0008871195605024695\n",
      "Generating Image Number: 20 for target class tensor([2]). Step 400, Loss: 0.0008091036579571664\n",
      "Generating Image Number: 20 for target class tensor([2]). Step 450, Loss: 0.0007425173535011709\n"
     ]
    }
   ],
   "source": [
    "torch.manual_seed(200)\n",
    "latent_vectors = torch.randn(img_count, z_dim, 1, 1, requires_grad=True) # Start with 20 random noises\n",
    "class2_optimized_latent_vectors = recover_images(img_count, 2, latent_vectors)"
   ]
  },
  {
   "cell_type": "code",
   "execution_count": 23,
   "id": "0381b36d-6c92-43bc-b776-1eefd3eab451",
   "metadata": {
    "scrolled": true
   },
   "outputs": [
    {
     "name": "stdout",
     "output_type": "stream",
     "text": [
      "Generating Image Number: 1 for target class tensor([3]). Step 0, Loss: 0.00011872540198964998\n",
      "Generating Image Number: 1 for target class tensor([3]). Step 50, Loss: 0.20568542182445526\n",
      "Generating Image Number: 1 for target class tensor([3]). Step 100, Loss: 0.008535451255738735\n",
      "Generating Image Number: 1 for target class tensor([3]). Step 150, Loss: 0.006193847395479679\n",
      "Generating Image Number: 1 for target class tensor([3]). Step 200, Loss: 0.005958769004791975\n",
      "Generating Image Number: 1 for target class tensor([3]). Step 250, Loss: 0.005782898049801588\n",
      "Generating Image Number: 1 for target class tensor([3]). Step 300, Loss: 0.005551871843636036\n",
      "Generating Image Number: 1 for target class tensor([3]). Step 350, Loss: 0.005352926440536976\n",
      "Generating Image Number: 1 for target class tensor([3]). Step 400, Loss: 0.005159278400242329\n",
      "Generating Image Number: 1 for target class tensor([3]). Step 450, Loss: 0.0050297630950808525\n",
      "Generating Image Number: 2 for target class tensor([3]). Step 0, Loss: 1.8835201263427734\n",
      "Generating Image Number: 2 for target class tensor([3]). Step 50, Loss: 0.22850225865840912\n",
      "Generating Image Number: 2 for target class tensor([3]). Step 100, Loss: 0.10771652311086655\n",
      "Generating Image Number: 2 for target class tensor([3]). Step 150, Loss: 0.07061883807182312\n",
      "Generating Image Number: 2 for target class tensor([3]). Step 200, Loss: 0.05682830885052681\n",
      "Generating Image Number: 2 for target class tensor([3]). Step 250, Loss: 0.04957738518714905\n",
      "Generating Image Number: 2 for target class tensor([3]). Step 300, Loss: 0.04434395954012871\n",
      "Generating Image Number: 2 for target class tensor([3]). Step 350, Loss: 0.039653290063142776\n",
      "Generating Image Number: 2 for target class tensor([3]). Step 400, Loss: 0.03632911294698715\n",
      "Generating Image Number: 2 for target class tensor([3]). Step 450, Loss: 0.03368530794978142\n",
      "Generating Image Number: 3 for target class tensor([3]). Step 0, Loss: 0.008533324114978313\n",
      "Generating Image Number: 3 for target class tensor([3]). Step 50, Loss: 2.276871418871451e-05\n",
      "Generating Image Number: 3 for target class tensor([3]). Step 100, Loss: 1.2397689715726301e-05\n",
      "Generating Image Number: 3 for target class tensor([3]). Step 150, Loss: 1.0490362910786644e-05\n",
      "Generating Image Number: 3 for target class tensor([3]). Step 200, Loss: 9.298280929215252e-06\n",
      "Generating Image Number: 3 for target class tensor([3]). Step 250, Loss: 8.4638240878121e-06\n",
      "Generating Image Number: 3 for target class tensor([3]). Step 300, Loss: 7.867782187531702e-06\n",
      "Generating Image Number: 3 for target class tensor([3]). Step 350, Loss: 7.271740287251305e-06\n",
      "Generating Image Number: 3 for target class tensor([3]). Step 400, Loss: 6.9141146923357155e-06\n",
      "Generating Image Number: 3 for target class tensor([3]). Step 450, Loss: 6.437280717364047e-06\n",
      "Generating Image Number: 4 for target class tensor([3]). Step 0, Loss: 5.345629692077637\n",
      "Generating Image Number: 4 for target class tensor([3]). Step 50, Loss: 2.770698308944702\n",
      "Generating Image Number: 4 for target class tensor([3]). Step 100, Loss: 1.6746877431869507\n",
      "Generating Image Number: 4 for target class tensor([3]). Step 150, Loss: 1.0755906105041504\n",
      "Generating Image Number: 4 for target class tensor([3]). Step 200, Loss: 0.8815143704414368\n",
      "Generating Image Number: 4 for target class tensor([3]). Step 250, Loss: 0.7434915900230408\n",
      "Generating Image Number: 4 for target class tensor([3]). Step 300, Loss: 0.639488160610199\n",
      "Generating Image Number: 4 for target class tensor([3]). Step 350, Loss: 0.5765745043754578\n",
      "Generating Image Number: 4 for target class tensor([3]). Step 400, Loss: 0.5342310070991516\n",
      "Generating Image Number: 4 for target class tensor([3]). Step 450, Loss: 0.5162147283554077\n",
      "Generating Image Number: 5 for target class tensor([3]). Step 0, Loss: 2.799668073654175\n",
      "Generating Image Number: 5 for target class tensor([3]). Step 50, Loss: 0.03717230632901192\n",
      "Generating Image Number: 5 for target class tensor([3]). Step 100, Loss: 0.025674739852547646\n",
      "Generating Image Number: 5 for target class tensor([3]). Step 150, Loss: 0.021696358919143677\n",
      "Generating Image Number: 5 for target class tensor([3]). Step 200, Loss: 0.018790921196341515\n",
      "Generating Image Number: 5 for target class tensor([3]). Step 250, Loss: 0.0162928719073534\n",
      "Generating Image Number: 5 for target class tensor([3]). Step 300, Loss: 0.014200353994965553\n",
      "Generating Image Number: 5 for target class tensor([3]). Step 350, Loss: 0.012699330225586891\n",
      "Generating Image Number: 5 for target class tensor([3]). Step 400, Loss: 0.011582509614527225\n",
      "Generating Image Number: 5 for target class tensor([3]). Step 450, Loss: 0.01066343393176794\n",
      "Generating Image Number: 6 for target class tensor([3]). Step 0, Loss: 2.3992044925689697\n",
      "Generating Image Number: 6 for target class tensor([3]). Step 50, Loss: 1.3857159614562988\n",
      "Generating Image Number: 6 for target class tensor([3]). Step 100, Loss: 0.9591776132583618\n",
      "Generating Image Number: 6 for target class tensor([3]). Step 150, Loss: 0.732523500919342\n",
      "Generating Image Number: 6 for target class tensor([3]). Step 200, Loss: 0.5604344606399536\n",
      "Generating Image Number: 6 for target class tensor([3]). Step 250, Loss: 0.4298090934753418\n",
      "Generating Image Number: 6 for target class tensor([3]). Step 300, Loss: 0.17077302932739258\n",
      "Generating Image Number: 6 for target class tensor([3]). Step 350, Loss: 0.09652312099933624\n",
      "Generating Image Number: 6 for target class tensor([3]). Step 400, Loss: 0.06814511120319366\n",
      "Generating Image Number: 6 for target class tensor([3]). Step 450, Loss: 0.03477795422077179\n",
      "Generating Image Number: 7 for target class tensor([3]). Step 0, Loss: 2.3436472415924072\n",
      "Generating Image Number: 7 for target class tensor([3]). Step 50, Loss: 0.77440345287323\n",
      "Generating Image Number: 7 for target class tensor([3]). Step 100, Loss: 0.5085613131523132\n",
      "Generating Image Number: 7 for target class tensor([3]). Step 150, Loss: 0.37598803639411926\n",
      "Generating Image Number: 7 for target class tensor([3]). Step 200, Loss: 0.3066982328891754\n",
      "Generating Image Number: 7 for target class tensor([3]). Step 250, Loss: 0.2679150402545929\n",
      "Generating Image Number: 7 for target class tensor([3]). Step 300, Loss: 0.22721534967422485\n",
      "Generating Image Number: 7 for target class tensor([3]). Step 350, Loss: 0.18795403838157654\n",
      "Generating Image Number: 7 for target class tensor([3]). Step 400, Loss: 0.1720600426197052\n",
      "Generating Image Number: 7 for target class tensor([3]). Step 450, Loss: 0.1541193723678589\n",
      "Generating Image Number: 8 for target class tensor([3]). Step 0, Loss: 0.5961955785751343\n",
      "Generating Image Number: 8 for target class tensor([3]). Step 50, Loss: 0.0054885647259652615\n",
      "Generating Image Number: 8 for target class tensor([3]). Step 100, Loss: 0.004208873957395554\n",
      "Generating Image Number: 8 for target class tensor([3]). Step 150, Loss: 0.0036055336240679026\n",
      "Generating Image Number: 8 for target class tensor([3]). Step 200, Loss: 0.0031040364410728216\n",
      "Generating Image Number: 8 for target class tensor([3]). Step 250, Loss: 0.002710837172344327\n",
      "Generating Image Number: 8 for target class tensor([3]). Step 300, Loss: 0.0023430532310158014\n",
      "Generating Image Number: 8 for target class tensor([3]). Step 350, Loss: 0.0018819731194525957\n",
      "Generating Image Number: 8 for target class tensor([3]). Step 400, Loss: 0.0016210046596825123\n",
      "Generating Image Number: 8 for target class tensor([3]). Step 450, Loss: 0.001415918697603047\n",
      "Generating Image Number: 9 for target class tensor([3]). Step 0, Loss: 6.235653877258301\n",
      "Generating Image Number: 9 for target class tensor([3]). Step 50, Loss: 0.0021360930986702442\n",
      "Generating Image Number: 9 for target class tensor([3]). Step 100, Loss: 0.0015927974600344896\n",
      "Generating Image Number: 9 for target class tensor([3]). Step 150, Loss: 0.0010421803453937173\n",
      "Generating Image Number: 9 for target class tensor([3]). Step 200, Loss: 0.0008974815136753023\n",
      "Generating Image Number: 9 for target class tensor([3]). Step 250, Loss: 0.0007419217727147043\n",
      "Generating Image Number: 9 for target class tensor([3]). Step 300, Loss: 0.0006761648692190647\n",
      "Generating Image Number: 9 for target class tensor([3]). Step 350, Loss: 0.0006145734223537147\n",
      "Generating Image Number: 9 for target class tensor([3]). Step 400, Loss: 0.0005793085438199341\n",
      "Generating Image Number: 9 for target class tensor([3]). Step 450, Loss: 0.00046695294440723956\n",
      "Generating Image Number: 10 for target class tensor([3]). Step 0, Loss: 3.8308656215667725\n",
      "Generating Image Number: 10 for target class tensor([3]). Step 50, Loss: 0.002064479747787118\n",
      "Generating Image Number: 10 for target class tensor([3]). Step 100, Loss: 0.0016862234333530068\n",
      "Generating Image Number: 10 for target class tensor([3]). Step 150, Loss: 0.0016419512685388327\n",
      "Generating Image Number: 10 for target class tensor([3]). Step 200, Loss: 0.0015982723562046885\n",
      "Generating Image Number: 10 for target class tensor([3]). Step 250, Loss: 0.0015453074593096972\n",
      "Generating Image Number: 10 for target class tensor([3]). Step 300, Loss: 0.001498172408901155\n",
      "Generating Image Number: 10 for target class tensor([3]). Step 350, Loss: 0.001447463990189135\n",
      "Generating Image Number: 10 for target class tensor([3]). Step 400, Loss: 0.0013975863112136722\n",
      "Generating Image Number: 10 for target class tensor([3]). Step 450, Loss: 0.0013499680208042264\n",
      "Generating Image Number: 11 for target class tensor([3]). Step 0, Loss: 4.65698766708374\n",
      "Generating Image Number: 11 for target class tensor([3]). Step 50, Loss: 0.00016306500765495002\n",
      "Generating Image Number: 11 for target class tensor([3]). Step 100, Loss: 0.0001746263587847352\n",
      "Generating Image Number: 11 for target class tensor([3]). Step 150, Loss: 0.0001674750237725675\n",
      "Generating Image Number: 11 for target class tensor([3]). Step 200, Loss: 0.00016378014697693288\n",
      "Generating Image Number: 11 for target class tensor([3]). Step 250, Loss: 0.00016234986833296716\n",
      "Generating Image Number: 11 for target class tensor([3]). Step 300, Loss: 0.00016020445036701858\n",
      "Generating Image Number: 11 for target class tensor([3]). Step 350, Loss: 0.00015698630886618048\n",
      "Generating Image Number: 11 for target class tensor([3]). Step 400, Loss: 0.00015317220822907984\n",
      "Generating Image Number: 11 for target class tensor([3]). Step 450, Loss: 0.00014852374442853034\n",
      "Generating Image Number: 12 for target class tensor([3]). Step 0, Loss: 3.793668031692505\n",
      "Generating Image Number: 12 for target class tensor([3]). Step 50, Loss: 0.27655407786369324\n",
      "Generating Image Number: 12 for target class tensor([3]). Step 100, Loss: 0.15549463033676147\n",
      "Generating Image Number: 12 for target class tensor([3]). Step 150, Loss: 0.1047963872551918\n",
      "Generating Image Number: 12 for target class tensor([3]). Step 200, Loss: 0.07433923333883286\n",
      "Generating Image Number: 12 for target class tensor([3]). Step 250, Loss: 0.058041319251060486\n",
      "Generating Image Number: 12 for target class tensor([3]). Step 300, Loss: 0.04699616879224777\n",
      "Generating Image Number: 12 for target class tensor([3]). Step 350, Loss: 0.036978062242269516\n",
      "Generating Image Number: 12 for target class tensor([3]). Step 400, Loss: 0.03071478381752968\n",
      "Generating Image Number: 12 for target class tensor([3]). Step 450, Loss: 0.026281751692295074\n",
      "Generating Image Number: 13 for target class tensor([3]). Step 0, Loss: 2.7088191509246826\n",
      "Generating Image Number: 13 for target class tensor([3]). Step 50, Loss: 0.22723634541034698\n",
      "Generating Image Number: 13 for target class tensor([3]). Step 100, Loss: 0.10233281552791595\n",
      "Generating Image Number: 13 for target class tensor([3]). Step 150, Loss: 0.06433157622814178\n",
      "Generating Image Number: 13 for target class tensor([3]). Step 200, Loss: 0.04803643375635147\n",
      "Generating Image Number: 13 for target class tensor([3]). Step 250, Loss: 0.036830198019742966\n",
      "Generating Image Number: 13 for target class tensor([3]). Step 300, Loss: 0.027666186913847923\n",
      "Generating Image Number: 13 for target class tensor([3]). Step 350, Loss: 0.02186187170445919\n",
      "Generating Image Number: 13 for target class tensor([3]). Step 400, Loss: 0.017561184242367744\n",
      "Generating Image Number: 13 for target class tensor([3]). Step 450, Loss: 0.014589297585189342\n",
      "Generating Image Number: 14 for target class tensor([3]). Step 0, Loss: 1.8238006830215454\n",
      "Generating Image Number: 14 for target class tensor([3]). Step 50, Loss: 0.004389532376080751\n",
      "Generating Image Number: 14 for target class tensor([3]). Step 100, Loss: 0.00031990656862035394\n",
      "Generating Image Number: 14 for target class tensor([3]). Step 150, Loss: 0.0002686616498976946\n",
      "Generating Image Number: 14 for target class tensor([3]). Step 200, Loss: 0.00024875884992070496\n",
      "Generating Image Number: 14 for target class tensor([3]). Step 250, Loss: 0.0002321927313460037\n",
      "Generating Image Number: 14 for target class tensor([3]). Step 300, Loss: 0.00021407696476671845\n",
      "Generating Image Number: 14 for target class tensor([3]). Step 350, Loss: 0.00020394629973452538\n",
      "Generating Image Number: 14 for target class tensor([3]). Step 400, Loss: 0.0001896439935080707\n",
      "Generating Image Number: 14 for target class tensor([3]). Step 450, Loss: 0.0001776060671545565\n",
      "Generating Image Number: 15 for target class tensor([3]). Step 0, Loss: 4.851391315460205\n",
      "Generating Image Number: 15 for target class tensor([3]). Step 50, Loss: 1.967618703842163\n",
      "Generating Image Number: 15 for target class tensor([3]). Step 100, Loss: 1.2076464891433716\n",
      "Generating Image Number: 15 for target class tensor([3]). Step 150, Loss: 0.8137806057929993\n",
      "Generating Image Number: 15 for target class tensor([3]). Step 200, Loss: 0.45056429505348206\n",
      "Generating Image Number: 15 for target class tensor([3]). Step 250, Loss: 0.25420093536376953\n",
      "Generating Image Number: 15 for target class tensor([3]). Step 300, Loss: 0.16108912229537964\n",
      "Generating Image Number: 15 for target class tensor([3]). Step 350, Loss: 0.11816835403442383\n",
      "Generating Image Number: 15 for target class tensor([3]). Step 400, Loss: 0.09800708293914795\n",
      "Generating Image Number: 15 for target class tensor([3]). Step 450, Loss: 0.08694649487733841\n",
      "Generating Image Number: 16 for target class tensor([3]). Step 0, Loss: 6.905453205108643\n",
      "Generating Image Number: 16 for target class tensor([3]). Step 50, Loss: 4.988979339599609\n",
      "Generating Image Number: 16 for target class tensor([3]). Step 100, Loss: 2.0398035049438477\n",
      "Generating Image Number: 16 for target class tensor([3]). Step 150, Loss: 1.9204657077789307\n",
      "Generating Image Number: 16 for target class tensor([3]). Step 200, Loss: 1.8094892501831055\n",
      "Generating Image Number: 16 for target class tensor([3]). Step 250, Loss: 1.7089327573776245\n",
      "Generating Image Number: 16 for target class tensor([3]). Step 300, Loss: 1.5982825756072998\n",
      "Generating Image Number: 16 for target class tensor([3]). Step 350, Loss: 1.495524287223816\n",
      "Generating Image Number: 16 for target class tensor([3]). Step 400, Loss: 1.3822393417358398\n",
      "Generating Image Number: 16 for target class tensor([3]). Step 450, Loss: 1.2910263538360596\n",
      "Generating Image Number: 17 for target class tensor([3]). Step 0, Loss: 1.0408695936203003\n",
      "Generating Image Number: 17 for target class tensor([3]). Step 50, Loss: 0.43973982334136963\n",
      "Generating Image Number: 17 for target class tensor([3]). Step 100, Loss: 0.28649961948394775\n",
      "Generating Image Number: 17 for target class tensor([3]). Step 150, Loss: 0.20218299329280853\n",
      "Generating Image Number: 17 for target class tensor([3]). Step 200, Loss: 0.16212098300457\n",
      "Generating Image Number: 17 for target class tensor([3]). Step 250, Loss: 0.1286672055721283\n",
      "Generating Image Number: 17 for target class tensor([3]). Step 300, Loss: 0.10531807690858841\n",
      "Generating Image Number: 17 for target class tensor([3]). Step 350, Loss: 0.09134503453969955\n",
      "Generating Image Number: 17 for target class tensor([3]). Step 400, Loss: 0.08142992854118347\n",
      "Generating Image Number: 17 for target class tensor([3]). Step 450, Loss: 0.07263448089361191\n",
      "Generating Image Number: 18 for target class tensor([3]). Step 0, Loss: 5.696263313293457\n",
      "Generating Image Number: 18 for target class tensor([3]). Step 50, Loss: 3.42000412940979\n",
      "Generating Image Number: 18 for target class tensor([3]). Step 100, Loss: 2.267551898956299\n",
      "Generating Image Number: 18 for target class tensor([3]). Step 150, Loss: 1.7517167329788208\n",
      "Generating Image Number: 18 for target class tensor([3]). Step 200, Loss: 1.4776866436004639\n",
      "Generating Image Number: 18 for target class tensor([3]). Step 250, Loss: 1.271547794342041\n",
      "Generating Image Number: 18 for target class tensor([3]). Step 300, Loss: 1.0801191329956055\n",
      "Generating Image Number: 18 for target class tensor([3]). Step 350, Loss: 0.934958279132843\n",
      "Generating Image Number: 18 for target class tensor([3]). Step 400, Loss: 0.8208048343658447\n",
      "Generating Image Number: 18 for target class tensor([3]). Step 450, Loss: 0.7368302941322327\n",
      "Generating Image Number: 19 for target class tensor([3]). Step 0, Loss: 3.251270055770874\n",
      "Generating Image Number: 19 for target class tensor([3]). Step 50, Loss: 1.7736084461212158\n",
      "Generating Image Number: 19 for target class tensor([3]). Step 100, Loss: 1.217321753501892\n",
      "Generating Image Number: 19 for target class tensor([3]). Step 150, Loss: 0.9252079725265503\n",
      "Generating Image Number: 19 for target class tensor([3]). Step 200, Loss: 0.6924553513526917\n",
      "Generating Image Number: 19 for target class tensor([3]). Step 250, Loss: 0.5920922756195068\n",
      "Generating Image Number: 19 for target class tensor([3]). Step 300, Loss: 0.5362257957458496\n",
      "Generating Image Number: 19 for target class tensor([3]). Step 350, Loss: 0.4768683910369873\n",
      "Generating Image Number: 19 for target class tensor([3]). Step 400, Loss: 0.4278494417667389\n",
      "Generating Image Number: 19 for target class tensor([3]). Step 450, Loss: 0.37434083223342896\n",
      "Generating Image Number: 20 for target class tensor([3]). Step 0, Loss: 3.548565626144409\n",
      "Generating Image Number: 20 for target class tensor([3]). Step 50, Loss: 0.707234799861908\n",
      "Generating Image Number: 20 for target class tensor([3]). Step 100, Loss: 0.36351317167282104\n",
      "Generating Image Number: 20 for target class tensor([3]). Step 150, Loss: 0.23778386414051056\n",
      "Generating Image Number: 20 for target class tensor([3]). Step 200, Loss: 0.1833234429359436\n",
      "Generating Image Number: 20 for target class tensor([3]). Step 250, Loss: 0.14764276146888733\n",
      "Generating Image Number: 20 for target class tensor([3]). Step 300, Loss: 0.11859788000583649\n",
      "Generating Image Number: 20 for target class tensor([3]). Step 350, Loss: 0.09751097857952118\n",
      "Generating Image Number: 20 for target class tensor([3]). Step 400, Loss: 0.08192100375890732\n",
      "Generating Image Number: 20 for target class tensor([3]). Step 450, Loss: 0.0694936141371727\n"
     ]
    }
   ],
   "source": [
    "torch.manual_seed(300)\n",
    "latent_vectors = torch.randn(img_count, z_dim, 1, 1, requires_grad=True) # Start with 20 random noises\n",
    "class3_optimized_latent_vectors = recover_images(img_count, 3, latent_vectors)"
   ]
  },
  {
   "cell_type": "code",
   "execution_count": 24,
   "id": "ae6425a5-dd86-4e87-8112-883336345ac9",
   "metadata": {},
   "outputs": [],
   "source": [
    "z0_1 = class0_optimized_latent_vectors[0]\n",
    "z0_2 = class0_optimized_latent_vectors[1]\n",
    "z0_3 = class0_optimized_latent_vectors[2]"
   ]
  },
  {
   "cell_type": "code",
   "execution_count": 25,
   "id": "3a6ed4fb-b693-4963-afcf-17a512e50b5f",
   "metadata": {},
   "outputs": [
    {
     "name": "stdout",
     "output_type": "stream",
     "text": [
      "torch.Size([64, 64])\n"
     ]
    }
   ],
   "source": [
    "# Display the generated image\n",
    "img = gen(z0_1.to(device)).squeeze(dim=0).squeeze(dim=0)\n",
    "print(img.shape)"
   ]
  },
  {
   "cell_type": "code",
   "execution_count": 26,
   "id": "88fc9416-c6ca-486b-bd72-63885de78d1c",
   "metadata": {},
   "outputs": [
    {
     "data": {
      "text/plain": [
       "<matplotlib.image.AxesImage at 0x27d5c44bf40>"
      ]
     },
     "execution_count": 26,
     "metadata": {},
     "output_type": "execute_result"
    },
    {
     "data": {
      "image/png": "[encoded data removed]",
      "text/plain": [
       "<Figure size 640x480 with 1 Axes>"
      ]
     },
     "metadata": {},
     "output_type": "display_data"
    }
   ],
   "source": [
    "plt.axis(False)\n",
    "plt.title('Recovered Image:')\n",
    "plt.imshow(img.cpu().detach(), cmap='gray')"
   ]
  },
  {
   "cell_type": "code",
   "execution_count": 27,
   "id": "bb0fc370-78c5-495f-b1e7-1239873b4ff8",
   "metadata": {},
   "outputs": [],
   "source": [
    "z1 = class1_optimized_latent_vectors[0]\n",
    "z2 = class1_optimized_latent_vectors[1]\n",
    "z3 = class1_optimized_latent_vectors[2]"
   ]
  },
  {
   "cell_type": "code",
   "execution_count": 28,
   "id": "07f38b7d-14f6-4d63-9efa-cb96ec2e1d35",
   "metadata": {},
   "outputs": [
    {
     "name": "stdout",
     "output_type": "stream",
     "text": [
      "torch.Size([64, 64])\n"
     ]
    }
   ],
   "source": [
    "# Display the generated image\n",
    "img = gen(z1.to(device)).squeeze(dim=0).squeeze(dim=0)\n",
    "print(img.shape)"
   ]
  },
  {
   "cell_type": "code",
   "execution_count": 29,
   "id": "8cad57ff-7961-4078-9dd4-1e0b4879ff56",
   "metadata": {},
   "outputs": [
    {
     "data": {
      "text/plain": [
       "<matplotlib.image.AxesImage at 0x27d5c5f0fa0>"
      ]
     },
     "execution_count": 29,
     "metadata": {},
     "output_type": "execute_result"
    },
    {
     "data": {
      "image/png": "[encoded data removed]",
      "text/plain": [
       "<Figure size 640x480 with 1 Axes>"
      ]
     },
     "metadata": {},
     "output_type": "display_data"
    }
   ],
   "source": [
    "plt.axis(False)\n",
    "plt.title('Recovered Image:')\n",
    "plt.imshow(img.cpu().detach(), cmap='gray')"
   ]
  },
  {
   "cell_type": "code",
   "execution_count": 30,
   "id": "52ecd67d-cb2d-44a3-b375-759d63db75b1",
   "metadata": {},
   "outputs": [],
   "source": [
    "                                                            # Dataset Loading\n",
    "# Load the .pkl files in as numpy arrays of pixels\n",
    "def load_tumor_data(file_path):\n",
    "    train_xs = []\n",
    "    train_ys = []\n",
    "    \"\"\" Load Digits Data from pickle data\n",
    "    return:\n",
    "    @xs: numpy.array, (n, c, w, h) \n",
    "    @ys: numpy.array, (n, ), 0-9\n",
    "    \"\"\"\n",
    "    with open(file_path, 'rb') as file:\n",
    "        data = pickle.load(file)\n",
    "        train_xs.append(data[\"data\"])\n",
    "        train_ys.append(data[\"labels\"])\n",
    "    train_xs = np.concatenate(train_xs, axis=0)\n",
    "    train_ys = np.concatenate(train_ys, axis=0)\n",
    "    \n",
    "    return train_xs, train_ys"
   ]
  },
  {
   "cell_type": "code",
   "execution_count": 31,
   "id": "ca72f62f-1eec-4b17-a8ce-fd66781f64f6",
   "metadata": {},
   "outputs": [],
   "source": [
    "# Custom Tumor Dataset\n",
    "class TumorDataset(data.Dataset):\n",
    "    def __init__(self, xs, ys, is_train=True):\n",
    "        self.xs = xs\n",
    "        self.ys = ys\n",
    "\n",
    "        if is_train is True:\n",
    "            self.transform = transforms.Compose([\n",
    "                transforms.ToPILImage(),\n",
    "                transforms.Resize((64, 64)),\n",
    "                transforms.ToTensor(),\n",
    "                transforms.Normalize(\n",
    "                    [0.5],\n",
    "                    [0.5]\n",
    "                )\n",
    "            ])\n",
    "        else:\n",
    "            self.transform = transforms.Compose([\n",
    "                transforms.ToPILImage(),\n",
    "                transforms.Resize((64, 64)),\n",
    "                transforms.ToTensor(),\n",
    "                transforms.Normalize(\n",
    "                    (0.4914, 0.4822, 0.4465),\n",
    "                    (0.2023, 0.1994, 0.2010)\n",
    "                )\n",
    "            ])\n",
    "\n",
    "    def __len__(self):\n",
    "        return len(self.xs)\n",
    "\n",
    "    def __getitem__(self, index):\n",
    "        img = self.xs[index]\n",
    "        #print(img.shape)\n",
    "        label = self.ys[index]\n",
    "\n",
    "        img = img.transpose((1, 2, 0)).astype(np.uint8)\n",
    "        img = self.transform(img)\n",
    "\n",
    "        img = torch.FloatTensor(img)\n",
    "        label = torch.LongTensor([label])[0]\n",
    "        return img, label"
   ]
  },
  {
   "cell_type": "code",
   "execution_count": 32,
   "id": "ceb91588-ef69-4373-b33f-74aed6c246bb",
   "metadata": {},
   "outputs": [],
   "source": [
    "def create_dataset(train_xs, train_ys):\n",
    "    tumor_dataset = TumorDataset(train_xs, train_ys, is_train=True)\n",
    "\n",
    "    return tumor_dataset"
   ]
  },
  {
   "cell_type": "code",
   "execution_count": 33,
   "id": "0415fba0-830c-42c6-bbde-c6958e779fbb",
   "metadata": {},
   "outputs": [],
   "source": [
    "def create_dataloader(dataset):\n",
    "    dataloader = DataLoader(dataset=dataset, batch_size=128, shuffle=True)\n",
    "\n",
    "    return dataloader"
   ]
  },
  {
   "cell_type": "code",
   "execution_count": 34,
   "id": "726d4995-5133-4037-ab0e-f2705470cdc9",
   "metadata": {},
   "outputs": [
    {
     "name": "stdout",
     "output_type": "stream",
     "text": [
      "(13927, 1, 32, 32)\n",
      "<class 'numpy.ndarray'>\n"
     ]
    }
   ],
   "source": [
    "# Load in the pickle dataset file\n",
    "train_xs, train_ys = load_tumor_data('datasets/Tumor/tumor4train.pkl')\n",
    "#train_xs = train_xs[:, 1, :, :]\n",
    "#train_xs = np.expand_dims(train_xs, axis=1)\n",
    "train_xs = train_xs.mean(axis=1, keepdims=True)\n",
    "print(train_xs.shape)\n",
    "print(type(train_xs))"
   ]
  },
  {
   "cell_type": "code",
   "execution_count": 35,
   "id": "a684b01a-eb4a-4210-9f59-d613085a404a",
   "metadata": {},
   "outputs": [],
   "source": [
    "# Create the dataset\n",
    "tumor_dataset = create_dataset(train_xs, train_ys)"
   ]
  },
  {
   "cell_type": "code",
   "execution_count": 36,
   "id": "193f07cc-d34f-425e-aa08-62b6d6adbad6",
   "metadata": {},
   "outputs": [],
   "source": [
    "def visualize_image(image_x):\n",
    "    # We have to visualize by reverting the normalization (just for visualization).\n",
    "    mean = torch.tensor([0.5])\n",
    "    std = torch.tensor([0.5])\n",
    "\n",
    "    image = image_x * std + mean  # Denormalize the image\n",
    "\n",
    "    image = torch.clamp(image, 0, 1) # Clip values to [0, 1] to ensure valid range for display\n",
    "\n",
    "    # Permute the image to (H, W, C) for matplotlib\n",
    "    \n",
    "    image = image.permute(1, 2, 0)\n",
    "\n",
    "    plt.imshow(image, cmap='gray')"
   ]
  },
  {
   "cell_type": "code",
   "execution_count": 37,
   "id": "16e93c17-a89b-46a2-8198-71e66e370f4f",
   "metadata": {},
   "outputs": [
    {
     "name": "stdout",
     "output_type": "stream",
     "text": [
      "torch.Size([1, 64, 64])\n"
     ]
    },
    {
     "data": {
      "image/png": "[encoded data removed]",
      "text/plain": [
       "<Figure size 640x480 with 1 Axes>"
      ]
     },
     "metadata": {},
     "output_type": "display_data"
    }
   ],
   "source": [
    "# Visualize the first tumor sample. \n",
    "image_x, image_y = tumor_dataset[7000]\n",
    "print(image_x.shape)\n",
    "visualize_image(image_x)"
   ]
  },
  {
   "cell_type": "code",
   "execution_count": 38,
   "id": "60e2da47-7cb6-493e-aeda-aa80d7965de7",
   "metadata": {},
   "outputs": [],
   "source": [
    "from scipy.spatial.distance import cosine"
   ]
  },
  {
   "cell_type": "code",
   "execution_count": 39,
   "id": "5a7937e5-b808-4b3e-8288-75dcd9862340",
   "metadata": {},
   "outputs": [],
   "source": [
    "# Get the feature embeddings\n",
    "tfcnn_model = target_model = load_target_model(base_net='TFCNN', n_classes=4, path='saved models/fedavg_global_model.pth').to(device)\n",
    "model_embeddings = tfcnn_model.encoder.to(device)"
   ]
  },
  {
   "cell_type": "code",
   "execution_count": 40,
   "id": "737e3d92-45b6-45f6-9bf2-d51f379d6ac8",
   "metadata": {},
   "outputs": [],
   "source": [
    "# Preprocessing\n",
    "preprocess = transforms.Compose([\n",
    "    transforms.Resize(256),\n",
    "    transforms.CenterCrop(224),\n",
    "    transforms.ToTensor(),\n",
    "])"
   ]
  },
  {
   "cell_type": "code",
   "execution_count": 41,
   "id": "babb1015-bdfb-439b-bea1-81f9f50dd74e",
   "metadata": {},
   "outputs": [],
   "source": [
    "def get_feature(img):\n",
    "    with torch.no_grad():\n",
    "        features = model_embeddings(img).squeeze()\n",
    "    return features.cpu().numpy()"
   ]
  },
  {
   "cell_type": "code",
   "execution_count": 42,
   "id": "79f38654-6670-440d-a322-b2cae18a71d8",
   "metadata": {},
   "outputs": [
    {
     "data": {
      "text/plain": [
       "torch.Size([1, 64, 64])"
      ]
     },
     "execution_count": 42,
     "metadata": {},
     "output_type": "execute_result"
    }
   ],
   "source": [
    "# Send an original image through the model\n",
    "image_x, image_y = tumor_dataset[10]\n",
    "image_x.shape"
   ]
  },
  {
   "cell_type": "code",
   "execution_count": 43,
   "id": "a4a2659e-dcaa-4d4a-b5a5-06b363ce6534",
   "metadata": {},
   "outputs": [],
   "source": [
    "image_x = image_x.unsqueeze(dim=0)"
   ]
  },
  {
   "cell_type": "code",
   "execution_count": 44,
   "id": "14348bfc-5988-48f0-88cf-4761d7a99d89",
   "metadata": {},
   "outputs": [
    {
     "data": {
      "text/plain": [
       "torch.Size([1, 1, 64, 64])"
      ]
     },
     "execution_count": 44,
     "metadata": {},
     "output_type": "execute_result"
    }
   ],
   "source": [
    "image_x.shape"
   ]
  },
  {
   "cell_type": "code",
   "execution_count": 45,
   "id": "66160253-9543-4aba-bb81-031d51ef9623",
   "metadata": {},
   "outputs": [
    {
     "data": {
      "text/plain": [
       "torch.Size([1, 3, 64, 64])"
      ]
     },
     "execution_count": 45,
     "metadata": {},
     "output_type": "execute_result"
    }
   ],
   "source": [
    "image_x = image_x.repeat(1, 3, 1, 1)\n",
    "image_x = image_x.to(device)\n",
    "image_x.shape"
   ]
  },
  {
   "cell_type": "code",
   "execution_count": 46,
   "id": "f615c7d3-2dab-425d-81e1-2595ec59e230",
   "metadata": {},
   "outputs": [
    {
     "data": {
      "text/plain": [
       "(4096,)"
      ]
     },
     "execution_count": 46,
     "metadata": {},
     "output_type": "execute_result"
    }
   ],
   "source": [
    "features = get_feature(image_x)\n",
    "features.shape"
   ]
  },
  {
   "cell_type": "code",
   "execution_count": 47,
   "id": "31b9ddc9-3fc8-4a47-bfc7-74a6df27d672",
   "metadata": {},
   "outputs": [],
   "source": [
    "class0_original_images = []\n",
    "class1_original_images = []\n",
    "class2_original_images = []\n",
    "class3_original_images = []\n",
    "target_num = 20 # 20 images for each class"
   ]
  },
  {
   "cell_type": "code",
   "execution_count": 48,
   "id": "e804c948-2dc8-41df-a633-113300baf12a",
   "metadata": {},
   "outputs": [],
   "source": [
    "for i in range(len(tumor_dataset)):\n",
    "    img_x, img_y = tumor_dataset[i]\n",
    "\n",
    "    if img_y == 0:\n",
    "        if len(class0_original_images) < target_num:\n",
    "            class0_original_images.append(img_x)\n",
    "    elif img_y == 1:\n",
    "        if len(class1_original_images) < target_num:\n",
    "            class1_original_images.append(img_x)\n",
    "    elif img_y == 2:\n",
    "        if len(class2_original_images) < target_num:\n",
    "            class2_original_images.append(img_x)\n",
    "    elif img_y == 3:\n",
    "        if len(class3_original_images) < target_num:\n",
    "            class3_original_images.append(img_x)"
   ]
  },
  {
   "cell_type": "code",
   "execution_count": 49,
   "id": "ef07c896-c4cd-48da-9e59-c9d7bd90a4e8",
   "metadata": {},
   "outputs": [
    {
     "data": {
      "text/plain": [
       "20"
      ]
     },
     "execution_count": 49,
     "metadata": {},
     "output_type": "execute_result"
    }
   ],
   "source": [
    "len(class3_original_images)"
   ]
  },
  {
   "cell_type": "code",
   "execution_count": 50,
   "id": "e102404a-68a3-40c5-99a7-45813eb87f20",
   "metadata": {},
   "outputs": [
    {
     "data": {
      "text/plain": [
       "torch.Size([1, 3, 64, 64])"
      ]
     },
     "execution_count": 50,
     "metadata": {},
     "output_type": "execute_result"
    }
   ],
   "source": [
    "# Testing the cosine similarity\n",
    "class1_original_image = class1_original_images[8]\n",
    "class1_original_image = class1_original_image.unsqueeze(dim=0).to(device)\n",
    "class1_original_image = class1_original_image.repeat(1, 3, 1, 1)\n",
    "class1_original_image.shape"
   ]
  },
  {
   "cell_type": "code",
   "execution_count": 51,
   "id": "d7fe9c85-2c83-4580-be7d-32833b706948",
   "metadata": {},
   "outputs": [],
   "source": [
    "fake1 = class1_optimized_latent_vectors[8]\n",
    "fake1_image = gen(fake1.to(device))\n",
    "fake1_image = fake1_image.repeat(1, 3, 1, 1)"
   ]
  },
  {
   "cell_type": "code",
   "execution_count": 52,
   "id": "74647152-cdcb-4593-a88f-d3ac43fd97d3",
   "metadata": {},
   "outputs": [
    {
     "data": {
      "text/plain": [
       "torch.Size([1, 3, 64, 64])"
      ]
     },
     "execution_count": 52,
     "metadata": {},
     "output_type": "execute_result"
    }
   ],
   "source": [
    "fake1_image.shape"
   ]
  },
  {
   "cell_type": "code",
   "execution_count": 84,
   "id": "9224af80-28e3-4c0c-801b-12f4a722b66a",
   "metadata": {},
   "outputs": [
    {
     "name": "stdout",
     "output_type": "stream",
     "text": [
      "torch.Size([1, 64, 64])\n"
     ]
    },
    {
     "data": {
      "image/png": "[encoded data removed]",
      "text/plain": [
       "<Figure size 640x480 with 1 Axes>"
      ]
     },
     "metadata": {},
     "output_type": "display_data"
    }
   ],
   "source": [
    "fake = class3_optimized_latent_vectors[3]\n",
    "fake_img = gen(fake.to(device)).squeeze(dim=0)\n",
    "print(fake_img.shape)\n",
    "visualize_image(fake_img.detach().cpu())"
   ]
  },
  {
   "cell_type": "code",
   "execution_count": 53,
   "id": "e88f6396-0ef2-45f5-96e0-6048be01af25",
   "metadata": {},
   "outputs": [],
   "source": [
    "# Get the features of the images\n",
    "features_original = get_feature(class1_original_image)\n",
    "features_fake = get_feature(fake1_image)"
   ]
  },
  {
   "cell_type": "code",
   "execution_count": 54,
   "id": "b54e2bca-5f2b-41ea-b810-15d1f9d30f86",
   "metadata": {},
   "outputs": [],
   "source": [
    "# Compute cosine similarity\n",
    "similarity = 1 - cosine(features_original, features_fake)"
   ]
  },
  {
   "cell_type": "code",
   "execution_count": 55,
   "id": "983c7e35-27ee-453c-9356-cb9a84fdd4a3",
   "metadata": {},
   "outputs": [
    {
     "data": {
      "text/plain": [
       "np.float32(0.66343355)"
      ]
     },
     "execution_count": 55,
     "metadata": {},
     "output_type": "execute_result"
    }
   ],
   "source": [
    "similarity"
   ]
  },
  {
   "cell_type": "code",
   "execution_count": 56,
   "id": "e65e04e8-52b7-4cf2-876c-d9b07a435ec9",
   "metadata": {},
   "outputs": [],
   "source": [
    "def calculate_class0_sim():\n",
    "    similarities = []\n",
    "    for i in range(0, 20):\n",
    "        class0_original = class0_original_images[i].unsqueeze(dim=0).to(device)\n",
    "        class0_original = class0_original.repeat(1, 3, 1, 1)\n",
    "\n",
    "        class0_fake = class0_optimized_latent_vectors[i]\n",
    "        class0_fake_img = gen(class0_fake.to(device))\n",
    "        class0_fake_img = class0_fake_img.repeat(1, 3, 1, 1)\n",
    "\n",
    "        features_original = get_feature(class0_original)\n",
    "        features_fake = get_feature(class0_fake_img)\n",
    "\n",
    "        cosine_similarity = 1 - cosine(features_original, features_fake)\n",
    "\n",
    "        similarities.append(cosine_similarity)\n",
    "        \n",
    "    return similarities"
   ]
  },
  {
   "cell_type": "code",
   "execution_count": 57,
   "id": "10d8f579-0b80-4157-b59b-7b92be9e52f2",
   "metadata": {},
   "outputs": [],
   "source": [
    "def calculate_class1_sim():\n",
    "    similarities = []\n",
    "    for i in range(0, 20):\n",
    "        class1_original = class1_original_images[i].unsqueeze(dim=0).to(device)\n",
    "        class1_original = class1_original.repeat(1, 3, 1, 1)\n",
    "\n",
    "        class1_fake = class1_optimized_latent_vectors[i]\n",
    "        class1_fake_img = gen(class1_fake.to(device))\n",
    "        class1_fake_img = class1_fake_img.repeat(1, 3, 1, 1)\n",
    "\n",
    "        features_original = get_feature(class1_original)\n",
    "        features_fake = get_feature(class1_fake_img)\n",
    "\n",
    "        cosine_similarity = 1 - cosine(features_original, features_fake)\n",
    "        similarities.append(cosine_similarity)\n",
    "\n",
    "    return similarities"
   ]
  },
  {
   "cell_type": "code",
   "execution_count": 58,
   "id": "1bbdc999-fa6d-4005-b785-3c54a7bd89ee",
   "metadata": {},
   "outputs": [],
   "source": [
    "def calculate_class2_sim():\n",
    "    similarities = []\n",
    "    for i in range(0, 20):\n",
    "        class2_original = class2_original_images[i].unsqueeze(dim=0).to(device)\n",
    "        class2_original = class2_original.repeat(1, 3, 1, 1)\n",
    "\n",
    "        class2_fake = class2_optimized_latent_vectors[i]\n",
    "        class2_fake_img = gen(class2_fake.to(device))\n",
    "        class2_fake_img = class2_fake_img.repeat(1, 3, 1, 1)\n",
    "\n",
    "        features_original = get_feature(class2_original)\n",
    "        features_fake = get_feature(class2_fake_img)\n",
    "\n",
    "        cosine_similarity = 1 - cosine(features_original, features_fake)\n",
    "        similarities.append(cosine_similarity)\n",
    "\n",
    "    return similarities"
   ]
  },
  {
   "cell_type": "code",
   "execution_count": 59,
   "id": "33cb8de1-5a87-4dd4-8fc2-d3f27d6ddc9a",
   "metadata": {},
   "outputs": [],
   "source": [
    "def calculate_class3_sim():\n",
    "    similarities = []\n",
    "    for i in range(0, 20):\n",
    "        class3_original = class3_original_images[i].unsqueeze(dim=0).to(device)\n",
    "        class3_original = class3_original.repeat(1, 3, 1, 1)\n",
    "\n",
    "        class3_fake = class3_optimized_latent_vectors[i]\n",
    "        class3_fake_img = gen(class3_fake.to(device))\n",
    "        class3_fake_img = class3_fake_img.repeat(1, 3, 1, 1)\n",
    "\n",
    "        features_original = get_feature(class3_original)\n",
    "        features_fake = get_feature(class3_fake_img)\n",
    "\n",
    "        cosine_similarity = 1 - cosine(features_original, features_fake)\n",
    "        similarities.append(cosine_similarity)\n",
    "\n",
    "    return similarities"
   ]
  },
  {
   "cell_type": "code",
   "execution_count": 60,
   "id": "7868f175-5845-4ee4-b4cf-1c89513375ec",
   "metadata": {},
   "outputs": [],
   "source": [
    "class0_sims = calculate_class0_sim()\n",
    "class1_sims = calculate_class0_sim()\n",
    "class2_sims = calculate_class0_sim()\n",
    "class3_sims = calculate_class0_sim()"
   ]
  },
  {
   "cell_type": "code",
   "execution_count": 61,
   "id": "bbf4597d-a583-4204-a3ce-9085936e0189",
   "metadata": {},
   "outputs": [
    {
     "data": {
      "text/plain": [
       "[np.float32(0.51687205),\n",
       " np.float32(0.5889432),\n",
       " np.float32(0.45431113),\n",
       " np.float32(0.60354096),\n",
       " np.float32(0.70941085),\n",
       " np.float32(0.019239783),\n",
       " np.float32(0.018731952),\n",
       " np.float32(0.6131556),\n",
       " np.float32(0.5545776),\n",
       " np.float32(0.66969),\n",
       " np.float32(0.5901966),\n",
       " np.float32(0.41493833),\n",
       " np.float32(0.022870958),\n",
       " np.float32(0.7074081),\n",
       " np.float32(0.7421631),\n",
       " np.float32(0.7686395),\n",
       " np.float32(0.4753344),\n",
       " np.float32(0.022557676),\n",
       " np.float32(0.020763278),\n",
       " np.float32(0.60702074)]"
      ]
     },
     "execution_count": 61,
     "metadata": {},
     "output_type": "execute_result"
    }
   ],
   "source": [
    "class0_sims"
   ]
  },
  {
   "cell_type": "code",
   "execution_count": 62,
   "id": "acb9d480-a58f-4ce6-8973-eb9c8d6e7253",
   "metadata": {},
   "outputs": [
    {
     "data": {
      "text/plain": [
       "[np.float32(0.5168719),\n",
       " np.float32(0.58894306),\n",
       " np.float32(0.45431113),\n",
       " np.float32(0.60354096),\n",
       " np.float32(0.70941025),\n",
       " np.float32(0.019239783),\n",
       " np.float32(0.018731952),\n",
       " np.float32(0.6131556),\n",
       " np.float32(0.5545775),\n",
       " np.float32(0.6696896),\n",
       " np.float32(0.590196),\n",
       " np.float32(0.41493833),\n",
       " np.float32(0.022870958),\n",
       " np.float32(0.7074081),\n",
       " np.float32(0.7421631),\n",
       " np.float32(0.7686395),\n",
       " np.float32(0.47533464),\n",
       " np.float32(0.022557676),\n",
       " np.float32(0.020763278),\n",
       " np.float32(0.60702074)]"
      ]
     },
     "execution_count": 62,
     "metadata": {},
     "output_type": "execute_result"
    }
   ],
   "source": [
    "class3_sims"
   ]
  },
  {
   "cell_type": "code",
   "execution_count": 63,
   "id": "58dc103d-1c30-473a-adc3-fcd5ca5100a0",
   "metadata": {},
   "outputs": [
    {
     "ename": "FileNotFoundError",
     "evalue": "[Errno 2] No such file or directory: 'output/fedvg.png'",
     "output_type": "error",
     "traceback": [
      "\u001b[1;31m---------------------------------------------------------------------------\u001b[0m",
      "\u001b[1;31mFileNotFoundError\u001b[0m                         Traceback (most recent call last)",
      "Cell \u001b[1;32mIn[63], line 43\u001b[0m\n\u001b[0;32m     41\u001b[0m plt\u001b[38;5;241m.\u001b[39mtight_layout()\n\u001b[0;32m     42\u001b[0m \u001b[38;5;66;03m# Save the plot to a file\u001b[39;00m\n\u001b[1;32m---> 43\u001b[0m \u001b[43mplt\u001b[49m\u001b[38;5;241;43m.\u001b[39;49m\u001b[43msavefig\u001b[49m\u001b[43m(\u001b[49m\u001b[38;5;124;43m'\u001b[39;49m\u001b[38;5;124;43moutput/fedvg.png\u001b[39;49m\u001b[38;5;124;43m'\u001b[39;49m\u001b[43m,\u001b[49m\u001b[43m \u001b[49m\u001b[43mdpi\u001b[49m\u001b[38;5;241;43m=\u001b[39;49m\u001b[38;5;241;43m300\u001b[39;49m\u001b[43m,\u001b[49m\u001b[43m \u001b[49m\u001b[43mbbox_inches\u001b[49m\u001b[38;5;241;43m=\u001b[39;49m\u001b[38;5;124;43m'\u001b[39;49m\u001b[38;5;124;43mtight\u001b[39;49m\u001b[38;5;124;43m'\u001b[39;49m\u001b[43m)\u001b[49m  \u001b[38;5;66;03m# Save as a PNG file with high resolution\u001b[39;00m\n\u001b[0;32m     45\u001b[0m \u001b[38;5;66;03m# Show the plot\u001b[39;00m\n\u001b[0;32m     46\u001b[0m plt\u001b[38;5;241m.\u001b[39mshow()\n",
      "File \u001b[1;32m~\\AppData\\Local\\Programs\\Python\\Python39\\lib\\site-packages\\matplotlib\\pyplot.py:1228\u001b[0m, in \u001b[0;36msavefig\u001b[1;34m(*args, **kwargs)\u001b[0m\n\u001b[0;32m   1225\u001b[0m fig \u001b[38;5;241m=\u001b[39m gcf()\n\u001b[0;32m   1226\u001b[0m \u001b[38;5;66;03m# savefig default implementation has no return, so mypy is unhappy\u001b[39;00m\n\u001b[0;32m   1227\u001b[0m \u001b[38;5;66;03m# presumably this is here because subclasses can return?\u001b[39;00m\n\u001b[1;32m-> 1228\u001b[0m res \u001b[38;5;241m=\u001b[39m fig\u001b[38;5;241m.\u001b[39msavefig(\u001b[38;5;241m*\u001b[39margs, \u001b[38;5;241m*\u001b[39m\u001b[38;5;241m*\u001b[39mkwargs)  \u001b[38;5;66;03m# type: ignore[func-returns-value]\u001b[39;00m\n\u001b[0;32m   1229\u001b[0m fig\u001b[38;5;241m.\u001b[39mcanvas\u001b[38;5;241m.\u001b[39mdraw_idle()  \u001b[38;5;66;03m# Need this if 'transparent=True', to reset colors.\u001b[39;00m\n\u001b[0;32m   1230\u001b[0m \u001b[38;5;28;01mreturn\u001b[39;00m res\n",
      "File \u001b[1;32m~\\AppData\\Local\\Programs\\Python\\Python39\\lib\\site-packages\\matplotlib\\figure.py:3395\u001b[0m, in \u001b[0;36mFigure.savefig\u001b[1;34m(self, fname, transparent, **kwargs)\u001b[0m\n\u001b[0;32m   3393\u001b[0m     \u001b[38;5;28;01mfor\u001b[39;00m ax \u001b[38;5;129;01min\u001b[39;00m \u001b[38;5;28mself\u001b[39m\u001b[38;5;241m.\u001b[39maxes:\n\u001b[0;32m   3394\u001b[0m         _recursively_make_axes_transparent(stack, ax)\n\u001b[1;32m-> 3395\u001b[0m \u001b[38;5;28mself\u001b[39m\u001b[38;5;241m.\u001b[39mcanvas\u001b[38;5;241m.\u001b[39mprint_figure(fname, \u001b[38;5;241m*\u001b[39m\u001b[38;5;241m*\u001b[39mkwargs)\n",
      "File \u001b[1;32m~\\AppData\\Local\\Programs\\Python\\Python39\\lib\\site-packages\\matplotlib\\backend_bases.py:2204\u001b[0m, in \u001b[0;36mFigureCanvasBase.print_figure\u001b[1;34m(self, filename, dpi, facecolor, edgecolor, orientation, format, bbox_inches, pad_inches, bbox_extra_artists, backend, **kwargs)\u001b[0m\n\u001b[0;32m   2200\u001b[0m \u001b[38;5;28;01mtry\u001b[39;00m:\n\u001b[0;32m   2201\u001b[0m     \u001b[38;5;66;03m# _get_renderer may change the figure dpi (as vector formats\u001b[39;00m\n\u001b[0;32m   2202\u001b[0m     \u001b[38;5;66;03m# force the figure dpi to 72), so we need to set it again here.\u001b[39;00m\n\u001b[0;32m   2203\u001b[0m     \u001b[38;5;28;01mwith\u001b[39;00m cbook\u001b[38;5;241m.\u001b[39m_setattr_cm(\u001b[38;5;28mself\u001b[39m\u001b[38;5;241m.\u001b[39mfigure, dpi\u001b[38;5;241m=\u001b[39mdpi):\n\u001b[1;32m-> 2204\u001b[0m         result \u001b[38;5;241m=\u001b[39m print_method(\n\u001b[0;32m   2205\u001b[0m             filename,\n\u001b[0;32m   2206\u001b[0m             facecolor\u001b[38;5;241m=\u001b[39mfacecolor,\n\u001b[0;32m   2207\u001b[0m             edgecolor\u001b[38;5;241m=\u001b[39medgecolor,\n\u001b[0;32m   2208\u001b[0m             orientation\u001b[38;5;241m=\u001b[39morientation,\n\u001b[0;32m   2209\u001b[0m             bbox_inches_restore\u001b[38;5;241m=\u001b[39m_bbox_inches_restore,\n\u001b[0;32m   2210\u001b[0m             \u001b[38;5;241m*\u001b[39m\u001b[38;5;241m*\u001b[39mkwargs)\n\u001b[0;32m   2211\u001b[0m \u001b[38;5;28;01mfinally\u001b[39;00m:\n\u001b[0;32m   2212\u001b[0m     \u001b[38;5;28;01mif\u001b[39;00m bbox_inches \u001b[38;5;129;01mand\u001b[39;00m restore_bbox:\n",
      "File \u001b[1;32m~\\AppData\\Local\\Programs\\Python\\Python39\\lib\\site-packages\\matplotlib\\backend_bases.py:2054\u001b[0m, in \u001b[0;36mFigureCanvasBase._switch_canvas_and_return_print_method.<locals>.<lambda>\u001b[1;34m(*args, **kwargs)\u001b[0m\n\u001b[0;32m   2050\u001b[0m     optional_kws \u001b[38;5;241m=\u001b[39m {  \u001b[38;5;66;03m# Passed by print_figure for other renderers.\u001b[39;00m\n\u001b[0;32m   2051\u001b[0m         \u001b[38;5;124m\"\u001b[39m\u001b[38;5;124mdpi\u001b[39m\u001b[38;5;124m\"\u001b[39m, \u001b[38;5;124m\"\u001b[39m\u001b[38;5;124mfacecolor\u001b[39m\u001b[38;5;124m\"\u001b[39m, \u001b[38;5;124m\"\u001b[39m\u001b[38;5;124medgecolor\u001b[39m\u001b[38;5;124m\"\u001b[39m, \u001b[38;5;124m\"\u001b[39m\u001b[38;5;124morientation\u001b[39m\u001b[38;5;124m\"\u001b[39m,\n\u001b[0;32m   2052\u001b[0m         \u001b[38;5;124m\"\u001b[39m\u001b[38;5;124mbbox_inches_restore\u001b[39m\u001b[38;5;124m\"\u001b[39m}\n\u001b[0;32m   2053\u001b[0m     skip \u001b[38;5;241m=\u001b[39m optional_kws \u001b[38;5;241m-\u001b[39m {\u001b[38;5;241m*\u001b[39minspect\u001b[38;5;241m.\u001b[39msignature(meth)\u001b[38;5;241m.\u001b[39mparameters}\n\u001b[1;32m-> 2054\u001b[0m     print_method \u001b[38;5;241m=\u001b[39m functools\u001b[38;5;241m.\u001b[39mwraps(meth)(\u001b[38;5;28;01mlambda\u001b[39;00m \u001b[38;5;241m*\u001b[39margs, \u001b[38;5;241m*\u001b[39m\u001b[38;5;241m*\u001b[39mkwargs: meth(\n\u001b[0;32m   2055\u001b[0m         \u001b[38;5;241m*\u001b[39margs, \u001b[38;5;241m*\u001b[39m\u001b[38;5;241m*\u001b[39m{k: v \u001b[38;5;28;01mfor\u001b[39;00m k, v \u001b[38;5;129;01min\u001b[39;00m kwargs\u001b[38;5;241m.\u001b[39mitems() \u001b[38;5;28;01mif\u001b[39;00m k \u001b[38;5;129;01mnot\u001b[39;00m \u001b[38;5;129;01min\u001b[39;00m skip}))\n\u001b[0;32m   2056\u001b[0m \u001b[38;5;28;01melse\u001b[39;00m:  \u001b[38;5;66;03m# Let third-parties do as they see fit.\u001b[39;00m\n\u001b[0;32m   2057\u001b[0m     print_method \u001b[38;5;241m=\u001b[39m meth\n",
      "File \u001b[1;32m~\\AppData\\Local\\Programs\\Python\\Python39\\lib\\site-packages\\matplotlib\\backends\\backend_agg.py:496\u001b[0m, in \u001b[0;36mFigureCanvasAgg.print_png\u001b[1;34m(self, filename_or_obj, metadata, pil_kwargs)\u001b[0m\n\u001b[0;32m    449\u001b[0m \u001b[38;5;28;01mdef\u001b[39;00m\u001b[38;5;250m \u001b[39m\u001b[38;5;21mprint_png\u001b[39m(\u001b[38;5;28mself\u001b[39m, filename_or_obj, \u001b[38;5;241m*\u001b[39m, metadata\u001b[38;5;241m=\u001b[39m\u001b[38;5;28;01mNone\u001b[39;00m, pil_kwargs\u001b[38;5;241m=\u001b[39m\u001b[38;5;28;01mNone\u001b[39;00m):\n\u001b[0;32m    450\u001b[0m \u001b[38;5;250m    \u001b[39m\u001b[38;5;124;03m\"\"\"\u001b[39;00m\n\u001b[0;32m    451\u001b[0m \u001b[38;5;124;03m    Write the figure to a PNG file.\u001b[39;00m\n\u001b[0;32m    452\u001b[0m \n\u001b[1;32m   (...)\u001b[0m\n\u001b[0;32m    494\u001b[0m \u001b[38;5;124;03m        *metadata*, including the default 'Software' key.\u001b[39;00m\n\u001b[0;32m    495\u001b[0m \u001b[38;5;124;03m    \"\"\"\u001b[39;00m\n\u001b[1;32m--> 496\u001b[0m     \u001b[38;5;28;43mself\u001b[39;49m\u001b[38;5;241;43m.\u001b[39;49m\u001b[43m_print_pil\u001b[49m\u001b[43m(\u001b[49m\u001b[43mfilename_or_obj\u001b[49m\u001b[43m,\u001b[49m\u001b[43m \u001b[49m\u001b[38;5;124;43m\"\u001b[39;49m\u001b[38;5;124;43mpng\u001b[39;49m\u001b[38;5;124;43m\"\u001b[39;49m\u001b[43m,\u001b[49m\u001b[43m \u001b[49m\u001b[43mpil_kwargs\u001b[49m\u001b[43m,\u001b[49m\u001b[43m \u001b[49m\u001b[43mmetadata\u001b[49m\u001b[43m)\u001b[49m\n",
      "File \u001b[1;32m~\\AppData\\Local\\Programs\\Python\\Python39\\lib\\site-packages\\matplotlib\\backends\\backend_agg.py:445\u001b[0m, in \u001b[0;36mFigureCanvasAgg._print_pil\u001b[1;34m(self, filename_or_obj, fmt, pil_kwargs, metadata)\u001b[0m\n\u001b[0;32m    440\u001b[0m \u001b[38;5;250m\u001b[39m\u001b[38;5;124;03m\"\"\"\u001b[39;00m\n\u001b[0;32m    441\u001b[0m \u001b[38;5;124;03mDraw the canvas, then save it using `.image.imsave` (to which\u001b[39;00m\n\u001b[0;32m    442\u001b[0m \u001b[38;5;124;03m*pil_kwargs* and *metadata* are forwarded).\u001b[39;00m\n\u001b[0;32m    443\u001b[0m \u001b[38;5;124;03m\"\"\"\u001b[39;00m\n\u001b[0;32m    444\u001b[0m FigureCanvasAgg\u001b[38;5;241m.\u001b[39mdraw(\u001b[38;5;28mself\u001b[39m)\n\u001b[1;32m--> 445\u001b[0m \u001b[43mmpl\u001b[49m\u001b[38;5;241;43m.\u001b[39;49m\u001b[43mimage\u001b[49m\u001b[38;5;241;43m.\u001b[39;49m\u001b[43mimsave\u001b[49m\u001b[43m(\u001b[49m\n\u001b[0;32m    446\u001b[0m \u001b[43m    \u001b[49m\u001b[43mfilename_or_obj\u001b[49m\u001b[43m,\u001b[49m\u001b[43m \u001b[49m\u001b[38;5;28;43mself\u001b[39;49m\u001b[38;5;241;43m.\u001b[39;49m\u001b[43mbuffer_rgba\u001b[49m\u001b[43m(\u001b[49m\u001b[43m)\u001b[49m\u001b[43m,\u001b[49m\u001b[43m \u001b[49m\u001b[38;5;28;43mformat\u001b[39;49m\u001b[38;5;241;43m=\u001b[39;49m\u001b[43mfmt\u001b[49m\u001b[43m,\u001b[49m\u001b[43m \u001b[49m\u001b[43morigin\u001b[49m\u001b[38;5;241;43m=\u001b[39;49m\u001b[38;5;124;43m\"\u001b[39;49m\u001b[38;5;124;43mupper\u001b[39;49m\u001b[38;5;124;43m\"\u001b[39;49m\u001b[43m,\u001b[49m\n\u001b[0;32m    447\u001b[0m \u001b[43m    \u001b[49m\u001b[43mdpi\u001b[49m\u001b[38;5;241;43m=\u001b[39;49m\u001b[38;5;28;43mself\u001b[39;49m\u001b[38;5;241;43m.\u001b[39;49m\u001b[43mfigure\u001b[49m\u001b[38;5;241;43m.\u001b[39;49m\u001b[43mdpi\u001b[49m\u001b[43m,\u001b[49m\u001b[43m \u001b[49m\u001b[43mmetadata\u001b[49m\u001b[38;5;241;43m=\u001b[39;49m\u001b[43mmetadata\u001b[49m\u001b[43m,\u001b[49m\u001b[43m \u001b[49m\u001b[43mpil_kwargs\u001b[49m\u001b[38;5;241;43m=\u001b[39;49m\u001b[43mpil_kwargs\u001b[49m\u001b[43m)\u001b[49m\n",
      "File \u001b[1;32m~\\AppData\\Local\\Programs\\Python\\Python39\\lib\\site-packages\\matplotlib\\image.py:1676\u001b[0m, in \u001b[0;36mimsave\u001b[1;34m(fname, arr, vmin, vmax, cmap, format, origin, dpi, metadata, pil_kwargs)\u001b[0m\n\u001b[0;32m   1674\u001b[0m pil_kwargs\u001b[38;5;241m.\u001b[39msetdefault(\u001b[38;5;124m\"\u001b[39m\u001b[38;5;124mformat\u001b[39m\u001b[38;5;124m\"\u001b[39m, \u001b[38;5;28mformat\u001b[39m)\n\u001b[0;32m   1675\u001b[0m pil_kwargs\u001b[38;5;241m.\u001b[39msetdefault(\u001b[38;5;124m\"\u001b[39m\u001b[38;5;124mdpi\u001b[39m\u001b[38;5;124m\"\u001b[39m, (dpi, dpi))\n\u001b[1;32m-> 1676\u001b[0m image\u001b[38;5;241m.\u001b[39msave(fname, \u001b[38;5;241m*\u001b[39m\u001b[38;5;241m*\u001b[39mpil_kwargs)\n",
      "File \u001b[1;32m~\\AppData\\Local\\Programs\\Python\\Python39\\lib\\site-packages\\PIL\\Image.py:2436\u001b[0m, in \u001b[0;36mImage.save\u001b[1;34m(self, fp, format, **params)\u001b[0m\n\u001b[0;32m   2434\u001b[0m         fp \u001b[38;5;241m=\u001b[39m builtins\u001b[38;5;241m.\u001b[39mopen(filename, \u001b[38;5;124m\"\u001b[39m\u001b[38;5;124mr+b\u001b[39m\u001b[38;5;124m\"\u001b[39m)\n\u001b[0;32m   2435\u001b[0m     \u001b[38;5;28;01melse\u001b[39;00m:\n\u001b[1;32m-> 2436\u001b[0m         fp \u001b[38;5;241m=\u001b[39m \u001b[43mbuiltins\u001b[49m\u001b[38;5;241;43m.\u001b[39;49m\u001b[43mopen\u001b[49m\u001b[43m(\u001b[49m\u001b[43mfilename\u001b[49m\u001b[43m,\u001b[49m\u001b[43m \u001b[49m\u001b[38;5;124;43m\"\u001b[39;49m\u001b[38;5;124;43mw+b\u001b[39;49m\u001b[38;5;124;43m\"\u001b[39;49m\u001b[43m)\u001b[49m\n\u001b[0;32m   2438\u001b[0m \u001b[38;5;28;01mtry\u001b[39;00m:\n\u001b[0;32m   2439\u001b[0m     save_handler(\u001b[38;5;28mself\u001b[39m, fp, filename)\n",
      "\u001b[1;31mFileNotFoundError\u001b[0m: [Errno 2] No such file or directory: 'output/fedvg.png'"
     ]
    },
    {
     "data": {
      "image/png": "[encoded data removed]",
      "text/plain": [
       "<Figure size 650x420 with 1 Axes>"
      ]
     },
     "metadata": {},
     "output_type": "display_data"
    }
   ],
   "source": [
    "                                                        # VISUALIZE\n",
    "# NOTE: Class indexes now start from 1 so, previous class 0 = now class 1 and so on\n",
    "# FIG 1: Raw similarity plot\n",
    "\n",
    "import pandas as pd\n",
    "import numpy as np\n",
    "import matplotlib.pyplot as plt\n",
    "import seaborn as sns\n",
    "\n",
    "# Generate sample similarity data for four classes (each with 20 values in the range 0 to 1)\n",
    "class1_sim = class0_sims\n",
    "class2_sim = class1_sims\n",
    "class3_sim = class2_sims\n",
    "class4_sim = class3_sims\n",
    "\n",
    "# Set figure size\n",
    "plt.figure(figsize=(6.5, 4.2))  # Set the size of the figure (width, height)\n",
    "\n",
    "# Sample DataFrame with four columns\n",
    "data=pd.DataFrame({'Class 1':class1_sim,'Class 2':class2_sim,'Class 3':class3_sim,'Class 4':class4_sim})\n",
    "df = pd.DataFrame(data)\n",
    "\n",
    "# Plot the probability distributions\n",
    "#plt.figure(figsize=(10, 6))\n",
    "\n",
    "# Define colors and line styles for each column\n",
    "colors = ['#1f77b4', '#ff7f0e', '#2ca02c', '#d62728']\n",
    "linestyles = ['-.', '--', '-', '-']\n",
    "\n",
    "# Plot the probability distributions with unique colors and line styles\n",
    "for column, color, linestyle in zip(df.columns, colors, linestyles):\n",
    "    sns.kdeplot(df[column], label=column, color=color, linestyle=linestyle)\n",
    "\n",
    "#plt.title('Probability Distributions of Four Columns')\n",
    "plt.xlabel('Similarity',fontsize=12)\n",
    "plt.ylabel('Density',fontsize=12)\n",
    "plt.yticks(fontsize=12)  # Set y-tick labels font size\n",
    "plt.legend(loc='upper right',fontsize=12)  # Increase legend font size\n",
    "\n",
    "# Optimize layout\n",
    "plt.tight_layout()\n",
    "# Save the plot to a file\n",
    "plt.savefig('output/fedvg.png', dpi=300, bbox_inches='tight')  # Save as a PNG file with high resolution\n",
    "\n",
    "# Show the plot\n",
    "plt.show()\n"
   ]
  },
  {
   "cell_type": "code",
   "execution_count": null,
   "id": "c71af78e-28e9-4564-9609-3039455bb875",
   "metadata": {},
   "outputs": [],
   "source": [
    "# FIG 2: DIFFERENCES IN COSINE SIMILARITY\n",
    "\n",
    "# For each class, we have 20 similarity values — one per image — showing how similar fake and real versions are.These values are very close across classes\n",
    "# So, to highlight subtle differences, compute and plot the difference between each pair of classes, value by value.\n",
    "# This gives you 20 values showing how much the similarity differs for each image between class 0 and class 1.\n",
    "# It's a magnified view of the gap between classes.\n",
    "# If the differences are tiny (e.g., 0.003), the plot helps make that visible and comparable.\n",
    "\n",
    "import numpy as np\n",
    "import matplotlib.pyplot as plt\n",
    "import seaborn as sns\n",
    "import pandas as pd\n",
    "\n",
    "# Differences between class distributions (pairwise)\n",
    "diff_12 = np.array(class2_sim) - np.array(class1_sim)\n",
    "diff_13 = np.array(class3_sim) - np.array(class1_sim)\n",
    "diff_14 = np.array(class4_sim) - np.array(class1_sim)\n",
    "diff_23 = np.array(class3_sim) - np.array(class2_sim)\n",
    "diff_24 = np.array(class4_sim) - np.array(class2_sim)\n",
    "diff_34 = np.array(class4_sim) - np.array(class3_sim)\n",
    "\n",
    "# Create a DataFrame\n",
    "diff_df = pd.DataFrame({\n",
    "    'Class 2 - Class 1': diff_12,\n",
    "    'Class 3 - Class 1': diff_13,\n",
    "    'Class 4 - Class 1': diff_14,\n",
    "    'Class 3 - Class 2': diff_23,\n",
    "    'Class 4 - Class 2': diff_24,\n",
    "    'Class 4 - Class 3': diff_34,\n",
    "})\n",
    "\n",
    "# Plot\n",
    "plt.figure(figsize=(7.5, 5))\n",
    "\n",
    "colors = sns.color_palette(\"tab10\", n_colors=6)\n",
    "\n",
    "for column, color in zip(diff_df.columns, colors):\n",
    "    sns.kdeplot(diff_df[column], label=column, color=color, linestyle='-')\n",
    "\n",
    "plt.axvline(0, color='black', linestyle='--', linewidth=1)  # reference line at 0\n",
    "plt.xlabel('Difference in Similarity', fontsize=12)\n",
    "plt.ylabel('Density', fontsize=12)\n",
    "plt.legend(fontsize=10)\n",
    "plt.title(\"Pairwise Differences in Cosine Similarity\", fontsize=13)\n",
    "plt.tight_layout()\n",
    "plt.show()"
   ]
  },
  {
   "cell_type": "code",
   "execution_count": null,
   "id": "362bf182-7927-4ce2-bf5a-97299d426bc4",
   "metadata": {},
   "outputs": [],
   "source": [
    "def calculate_interclass_similarity(first, second):\n",
    "    similarities = []\n",
    "\n",
    "    first_images = []\n",
    "    second_images = []\n",
    "    if first == 'class1':\n",
    "        first_images = class0_original_images.copy()\n",
    "    elif first == 'class2':\n",
    "        first_images = class1_original_images.copy()\n",
    "    elif first == 'class3':\n",
    "        first_images = class2_original_images.copy()\n",
    "    elif first == 'class4':\n",
    "        first_images = class3_original_images.copy()\n",
    "\n",
    "    if second == 'class1':\n",
    "        second_images = class0_original_images.copy()\n",
    "    elif second == 'class2':\n",
    "        second_images = class1_original_images.copy()\n",
    "    elif second == 'class3':\n",
    "        second_images = class2_original_images.copy()\n",
    "    elif second == 'class4':\n",
    "        second_images = class3_original_images.copy()\n",
    "    \n",
    "    for i in range(0, 20):\n",
    "        first_image = first_images[i].unsqueeze(dim=0).to(device)\n",
    "        first_image = first_image.repeat(1, 3, 1, 1)\n",
    "        \n",
    "        second_image = second_images[i].unsqueeze(dim=0).to(device)\n",
    "        second_image = second_image.repeat(1, 3, 1, 1)\n",
    "        \n",
    "        features_first = get_feature(first_image)\n",
    "        features_second = get_feature(second_image)\n",
    "\n",
    "        cosine_similarity = 1 - cosine(features_first, features_second)\n",
    "        similarities.append(cosine_similarity)\n",
    "\n",
    "    return similarities"
   ]
  },
  {
   "cell_type": "code",
   "execution_count": null,
   "id": "5954dfe3-cb08-4551-a5f9-d2082ac3d604",
   "metadata": {},
   "outputs": [],
   "source": [
    "class1class2 = calculate_interclass_similarity('class1', 'class2')"
   ]
  },
  {
   "cell_type": "code",
   "execution_count": null,
   "id": "cd5ab50d-9d9d-443b-bea5-2d6e302e2bf4",
   "metadata": {},
   "outputs": [],
   "source": [
    "class1class2"
   ]
  },
  {
   "cell_type": "code",
   "execution_count": null,
   "id": "29441f40-36a7-4854-98be-5d128bae49cd",
   "metadata": {},
   "outputs": [],
   "source": [
    "                                                # FIG: 3 -> INTERCLASS SIMILARITIES\n",
    "\n",
    "import pandas as pd\n",
    "import numpy as np\n",
    "import matplotlib.pyplot as plt\n",
    "import seaborn as sns\n",
    "\n",
    "# Set figure size\n",
    "plt.figure(figsize=(6.5, 4.2))  # Set the size of the figure (width, height)\n",
    "\n",
    "# Generate sample similarity data for four classes (each with 20 values in the range 0 to 1)\n",
    "np.random.seed(42)  # For reproducibility\n",
    "class1class2 = calculate_interclass_similarity('class1', 'class2')\n",
    "class1class3 = calculate_interclass_similarity('class1', 'class3')\n",
    "class1class4 = calculate_interclass_similarity('class1', 'class4')\n",
    "class2class3 = calculate_interclass_similarity('class2', 'class3')\n",
    "class2class4 = calculate_interclass_similarity('class2', 'class4')\n",
    "class3class4 = calculate_interclass_similarity('class3', 'class4')\n",
    "\n",
    "# Sample DataFrame with four columns\n",
    "data=pd.DataFrame({'Class1 vs Class2':class1class2,'Class1 vs Class3':class1class3,'Class1 vs Class4':class1class4,'Class2 vs Class3':class2class3,'Class2 vs Class4':class2class4,'Class3 vs Class4':class3class4})\n",
    "df = pd.DataFrame(data)\n",
    "\n",
    "# Plot the probability distributions\n",
    "#plt.figure(figsize=(10, 6))\n",
    "\n",
    "# Define colors and line styles for each column\n",
    "colors = ['#1f77b4', '#ff7f0e', '#2ca02c', '#d62728', '#9467bd', '#8c564b']\n",
    "linestyles = ['-.', '--', '-', '-', '-.', '--']\n",
    "\n",
    "# Plot the probability distributions with unique colors and line styles\n",
    "for column, color, linestyle in zip(df.columns, colors, linestyles):\n",
    "    sns.kdeplot(df[column], label=column, color=color, linestyle=linestyle)\n",
    "\n",
    "#plt.title('Probability Distributions of Four Columns')\n",
    "plt.xlabel('Similarity',fontsize=12)\n",
    "plt.ylabel('Density',fontsize=12)\n",
    "plt.yticks(fontsize=12)  # Set y-tick labels font size\n",
    "plt.legend(loc='upper right',fontsize=12)  # Increase legend font size\n",
    "\n",
    "# Optimize layout\n",
    "plt.tight_layout()\n",
    "# Save the plot to a file\n",
    "plt.savefig('output/VoiceDivergenceD3.png', dpi=300, bbox_inches='tight')  # Save as a PNG file with high resolution\n",
    "\n",
    "# Show the plot\n",
    "plt.show()"
   ]
  },
  {
   "cell_type": "code",
   "execution_count": null,
   "id": "19754eee-5c1e-47e6-bbaa-b2cef05a1641",
   "metadata": {},
   "outputs": [],
   "source": []
  },
  {
   "cell_type": "code",
   "execution_count": null,
   "id": "e2eebd80-009b-498c-968a-bea206f03d9c",
   "metadata": {},
   "outputs": [],
   "source": []
  }
 ],
 "metadata": {
  "kernelspec": {
   "display_name": "Python 3 (ipykernel)",
   "language": "python",
   "name": "python3"
  },
  "language_info": {
   "codemirror_mode": {
    "name": "ipython",
    "version": 3
   },
   "file_extension": ".py",
   "mimetype": "text/x-python",
   "name": "python",
   "nbconvert_exporter": "python",
   "pygments_lexer": "ipython3",
   "version": "3.9.7"
  }
 },
 "nbformat": 4,
 "nbformat_minor": 5
}
