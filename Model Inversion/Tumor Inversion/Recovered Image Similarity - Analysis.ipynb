{
 "cells": [
  {
   "cell_type": "code",
   "execution_count": 3,
   "id": "646b38c2-386a-4f83-a983-ea764ad8267f",
   "metadata": {},
   "outputs": [],
   "source": [
    "# Attempting to recover training data using model's parameters and a DCGAN that was trained on similar data\n",
    "# Author: Suraj Neupane\n",
    "# Written from scratch as a part of a Research Project 2025, Concordia University of Edmonton.\n",
    "import numpy as np\n",
    "\n",
    "import torch\n",
    "from torch import nn\n",
    "from torch.nn import functional\n",
    "\n",
    "from torch.utils import data\n",
    "from torch.utils.data import DataLoader\n",
    "\n",
    "import torchvision\n",
    "from torchvision import datasets\n",
    "from torchvision import transforms\n",
    "\n",
    "import pickle\n",
    "\n",
    "import matplotlib.pyplot as plt\n",
    "%matplotlib inline"
   ]
  },
  {
   "cell_type": "code",
   "execution_count": 4,
   "id": "8b80ddb2-ed75-4870-85b4-9300fce0df7e",
   "metadata": {},
   "outputs": [
    {
     "data": {
      "text/plain": [
       "'2.7.1+cu118'"
      ]
     },
     "execution_count": 4,
     "metadata": {},
     "output_type": "execute_result"
    }
   ],
   "source": [
    "torch.__version__"
   ]
  },
  {
   "cell_type": "code",
   "execution_count": 5,
   "id": "d6950585-eb31-4f61-bd60-5bf8716fcdef",
   "metadata": {},
   "outputs": [],
   "source": [
    "device = 'cuda' if torch.cuda.is_available() else 'cpu'"
   ]
  },
  {
   "cell_type": "code",
   "execution_count": 6,
   "id": "36c47e07-6b7d-4123-a59d-5d465f9ef280",
   "metadata": {},
   "outputs": [
    {
     "data": {
      "text/plain": [
       "'cuda'"
      ]
     },
     "execution_count": 6,
     "metadata": {},
     "output_type": "execute_result"
    }
   ],
   "source": [
    "device"
   ]
  },
  {
   "cell_type": "code",
   "execution_count": 7,
   "id": "b852ca55-f33e-469f-b7b9-e00d21124927",
   "metadata": {},
   "outputs": [],
   "source": [
    "# DCGAN Implementation Class\n",
    "# Discriminator\n",
    "class Discriminator(nn.Module):\n",
    "    def __init__(self, img_channels, features_d):\n",
    "        super().__init__()\n",
    "        self.disc = nn.Sequential(\n",
    "            # Input shape: img_channels x 64 x 64\n",
    "            nn.Conv2d(\n",
    "              in_channels=img_channels, out_channels=features_d, kernel_size=4, stride=2, padding=1\n",
    "            ), # Output shape: features_d x 32 x 32\n",
    "            nn.LeakyReLU(0.2),\n",
    "            self._block(features_d, features_d*2, 4, 2, 1), # Output shape: features_d*2 x 16 x 16\n",
    "            self._block(features_d*2, features_d*4, 4, 2, 1), # Output shape: features_d*4 x 8 x 8\n",
    "            self._block(features_d*4, features_d*8, 4, 2, 1), # Output shape: features_d*8 x 4 x 4\n",
    "           \n",
    "            nn.Conv2d(in_channels=features_d*8, out_channels=1, kernel_size=4, stride=2, padding=0), # Output shape: 1 x 1\n",
    "            nn.Sigmoid(),\n",
    "        )\n",
    "\n",
    "    def _block(self, in_channels, out_channels, kernel_size, stride, padding):\n",
    "        return nn.Sequential(\n",
    "            nn.Conv2d(in_channels, out_channels, kernel_size, stride, padding, bias=False),\n",
    "            nn.BatchNorm2d(out_channels),\n",
    "            nn.LeakyReLU(0.2),\n",
    "        )\n",
    "\n",
    "    def forward(self, X):\n",
    "        return self.disc(X)\n"
   ]
  },
  {
   "cell_type": "code",
   "execution_count": 8,
   "id": "5afe02e5-61d3-4f25-8933-8484e519cd4a",
   "metadata": {},
   "outputs": [],
   "source": [
    "# Generator\n",
    "class Generator(nn.Module):\n",
    "    def __init__(self, z_dim, img_channels, features_g):\n",
    "        super().__init__()\n",
    "        self.gen = nn.Sequential(\n",
    "            self._block(z_dim, features_g*16, 4, 1, 0), # z_dim: (batch_size, 100, 1, 1) -> (batch_size, 1024, 4, 4)\n",
    "            self._block(features_g*16, features_g*8, 4, 2, 1), # z_dim: (batch_size, 1024, 4, 4) -> (batch_size, 512, 8, 8)\n",
    "            self._block(features_g*8, features_g*4, 4, 2, 1), # z_dim: (batch_size, 512, 8, 8) -> (batch_size, 256, 16, 16)\n",
    "            self._block(features_g*4, features_g*2, 4, 2, 1), # z_dim: (batch_size, 128, 16, 16) -> (batch_size, 64, 32, 32)\n",
    "            nn.ConvTranspose2d(\n",
    "                in_channels=features_g*2, out_channels=img_channels, kernel_size=4, stride=2, padding=1 # z_dim: (batch_size, 64, 32, 32) -> (batch_size, 1, 64, 64)\n",
    "            ),\n",
    "            nn.Tanh(),\n",
    "        )\n",
    "        \n",
    "    def _block(self, in_channels, out_channels, kernel_size, stride, padding):\n",
    "        return nn.Sequential(\n",
    "            nn.ConvTranspose2d(\n",
    "                in_channels, out_channels, kernel_size, stride, padding, bias=False,\n",
    "            ),\n",
    "            nn.InstanceNorm2d(out_channels, affine=True),\n",
    "            nn.ReLU(),\n",
    "        )\n",
    "\n",
    "    def forward(self, X):\n",
    "        return self.gen(X)"
   ]
  },
  {
   "cell_type": "code",
   "execution_count": 7,
   "id": "48c1be35-d58a-4d0c-990d-9250fbdbf1b3",
   "metadata": {},
   "outputs": [],
   "source": [
    "# Hyperparams\n",
    "z_dim = 100\n",
    "img_channels = 1\n",
    "features_disc = 64\n",
    "features_gen = 64"
   ]
  },
  {
   "cell_type": "code",
   "execution_count": 8,
   "id": "f2dc1f40-5c2e-4903-b2e7-7abe5cae9772",
   "metadata": {},
   "outputs": [],
   "source": [
    "# Create the model instances\n",
    "gen = Generator(z_dim, img_channels, features_gen).to(device)\n",
    "disc = Discriminator(img_channels, features_disc).to(device)"
   ]
  },
  {
   "cell_type": "code",
   "execution_count": 9,
   "id": "bc7a5deb-f8d8-41d4-aed3-d012d39a84b9",
   "metadata": {},
   "outputs": [
    {
     "data": {
      "text/plain": [
       "<All keys matched successfully>"
      ]
     },
     "execution_count": 9,
     "metadata": {},
     "output_type": "execute_result"
    }
   ],
   "source": [
    "# Load the trained GAN\n",
    "gen.load_state_dict(torch.load('saved models/Generator2.pth', weights_only=True))\n",
    "disc.load_state_dict(torch.load('saved models/Discriminator2.pth', weights_only=True))"
   ]
  },
  {
   "cell_type": "code",
   "execution_count": 10,
   "id": "a504e932-e168-4bb8-88cc-eea0810aafb0",
   "metadata": {},
   "outputs": [],
   "source": [
    "# Generate a random fake image\n",
    "noise = torch.randn(1, z_dim, 1, 1).to(device)\n",
    "fake_img = gen(noise)"
   ]
  },
  {
   "cell_type": "code",
   "execution_count": 11,
   "id": "98b5d73f-b130-4bc1-a868-c225bd2abe62",
   "metadata": {},
   "outputs": [
    {
     "data": {
      "text/plain": [
       "torch.Size([1, 1, 64, 64])"
      ]
     },
     "execution_count": 11,
     "metadata": {},
     "output_type": "execute_result"
    }
   ],
   "source": [
    "fake_img.shape"
   ]
  },
  {
   "cell_type": "code",
   "execution_count": 12,
   "id": "9d19338c-18e4-4b6e-842f-a225718fa8bb",
   "metadata": {},
   "outputs": [
    {
     "name": "stdout",
     "output_type": "stream",
     "text": [
      "torch.Size([64, 64])\n"
     ]
    },
    {
     "data": {
      "text/plain": [
       "<matplotlib.image.AxesImage at 0x224134da8e0>"
      ]
     },
     "execution_count": 12,
     "metadata": {},
     "output_type": "execute_result"
    },
    {
     "data": {
      "image/png": "[encoded data removed]",
      "text/plain": [
       "<Figure size 640x480 with 1 Axes>"
      ]
     },
     "metadata": {},
     "output_type": "display_data"
    }
   ],
   "source": [
    "fake_img = fake_img.squeeze()\n",
    "print(fake_img.shape)\n",
    "plt.axis(False)\n",
    "plt.title('Fake Generated Image:')\n",
    "plt.imshow(fake_img.cpu().detach(), cmap='gray')"
   ]
  },
  {
   "cell_type": "code",
   "execution_count": 13,
   "id": "cf2aefac-a759-4335-a3de-2065d6a6a9a5",
   "metadata": {},
   "outputs": [],
   "source": [
    "# Target Model\n",
    "class TFCNN(nn.Module):\n",
    "    def __init__(self, n_classes):\n",
    "        super().__init__()\n",
    "        self.n_classes = n_classes\n",
    "\n",
    "        self.encoder = nn.Sequential(\n",
    "            nn.Conv2d(3, 32, 3, stride=1, padding=1),\n",
    "            nn.ReLU(True),\n",
    "            nn.MaxPool2d(2),\n",
    "            nn.Conv2d(32, 64, 3, stride=1, padding=1),\n",
    "            nn.ReLU(True),\n",
    "            nn.MaxPool2d(2),\n",
    "            nn.Conv2d(64, 64, 3, stride=1, padding=1),\n",
    "            nn.ReLU(True),\n",
    "            nn.MaxPool2d(2),\n",
    "            Reshape(),\n",
    "        )\n",
    "\n",
    "        self.h_size = 64 * 4 * 4\n",
    "\n",
    "        self.classifier = nn.Sequential(\n",
    "            nn.Linear(64 * 4 * 4, 128),\n",
    "            nn.ReLU(True),\n",
    "            nn.Linear(128, n_classes)\n",
    "        )\n",
    "\n",
    "    def forward(self, xs):\n",
    "        code = self.encoder(xs)\n",
    "        logits = self.classifier(code)\n",
    "        return code, logits\n"
   ]
  },
  {
   "cell_type": "code",
   "execution_count": 14,
   "id": "d28876e2-91ee-4ebf-bc52-b71dc82edfa2",
   "metadata": {},
   "outputs": [],
   "source": [
    "class Reshape(nn.Module):\n",
    "    def __init__(self,):\n",
    "        super().__init__()\n",
    "\n",
    "    def forward(self, xs):\n",
    "        return xs.reshape((xs.shape[0], -1))"
   ]
  },
  {
   "cell_type": "code",
   "execution_count": 15,
   "id": "dd57210c-2c18-4651-8f29-be94a7a7a88f",
   "metadata": {},
   "outputs": [],
   "source": [
    "class ClassifyNet(nn.Module):\n",
    "    def __init__(self, net, init_way, n_classes, input_size=None):\n",
    "        super().__init__()\n",
    "        self.net = net\n",
    "        self.init_way = init_way\n",
    "        self.n_classes = n_classes\n",
    "\n",
    "        model = TFCNN(n_classes)\n",
    "\n",
    "        self.h_size = model.h_size\n",
    "\n",
    "        # Convo and pool layers\n",
    "        self.encoder = model.encoder\n",
    "\n",
    "        # Classifier layer\n",
    "        self.classifier = nn.Linear(\n",
    "            self.h_size, self.n_classes, bias=False\n",
    "        )\n",
    "\n",
    "        if self.init_way == \"orth\":\n",
    "            ws = get_orth_weights(self.h_size, self.n_classes)\n",
    "            self.classifier.load_state_dict({\"weight\": ws})\n",
    "\n",
    "    def forward(self, xs):\n",
    "        hs = self.encoder(xs)\n",
    "        logits = self.classifier(hs)\n",
    "        return hs, logits"
   ]
  },
  {
   "cell_type": "code",
   "execution_count": 16,
   "id": "83ea3c08-0470-4c9a-ba15-8328a316b3ab",
   "metadata": {},
   "outputs": [],
   "source": [
    "def load_target_model(base_net, n_classes, path):\n",
    "    # Create the base model\n",
    "    model = ClassifyNet(net=base_net, init_way='none', n_classes=n_classes)\n",
    "    # Load the model\n",
    "    model.load_state_dict(torch.load(path, weights_only=True))\n",
    "\n",
    "    return model"
   ]
  },
  {
   "cell_type": "code",
   "execution_count": 17,
   "id": "0880f1aa-9d08-445a-85ac-f1ff3cebde04",
   "metadata": {},
   "outputs": [
    {
     "name": "stdout",
     "output_type": "stream",
     "text": [
      "Model loaded successfully!\n",
      "Number of parameters in the loaded model: 60416\n"
     ]
    }
   ],
   "source": [
    "# Target Model Loading\n",
    "BASE_NET = 'TFCNN'\n",
    "DATASET = 'tumor4'\n",
    "N_CLASSES = 4\n",
    "\n",
    "target_model = load_target_model(base_net=BASE_NET, n_classes=N_CLASSES, path='saved models/fedavg_global_model.pth').to(device)\n",
    "print('Model loaded successfully!')\n",
    "target_model.eval()\n",
    "\n",
    "num_params = sum(p.numel() for p in target_model.parameters())\n",
    "print('Number of parameters in the loaded model:', num_params)\n"
   ]
  },
  {
   "cell_type": "code",
   "execution_count": 18,
   "id": "f843f19e-b2a5-4ffe-b22b-de4ff93c5643",
   "metadata": {},
   "outputs": [],
   "source": [
    "# BEGIN BATCH MODEL INVERSION\n",
    "img_count = 20\n",
    "latent_vectors = torch.randn(img_count, z_dim, 1, 1, requires_grad=True) # Start with 20 random noises"
   ]
  },
  {
   "cell_type": "code",
   "execution_count": 19,
   "id": "c21320ed-d5ac-4919-aaad-8cfa093998a6",
   "metadata": {},
   "outputs": [],
   "source": [
    "def recover_images(count, target_image_class, latent_vectors):\n",
    "    optimized_latent_vectors = []\n",
    "    \n",
    "    for x in range(0, count):\n",
    "        z = latent_vectors[x].unsqueeze(dim=0).clone().detach().requires_grad_(True)\n",
    "        \n",
    "        learning_rate = 0.01\n",
    "        target_class = 1 # The second class\n",
    "        \n",
    "        # Create the optimizer\n",
    "        optimizer = torch.optim.Adam([z], lr=learning_rate)\n",
    "        \n",
    "        # Loss function (e.g., Cross-Entropy with classifier outputs)\n",
    "        loss_fn = nn.CrossEntropyLoss()\n",
    "        target_class = torch.tensor([target_image_class])  # Set the target class\n",
    "    \n",
    "        # Optimization loop to find the best z\n",
    "        rounds = 500\n",
    "        for i in range(rounds):\n",
    "            optimizer.zero_grad()\n",
    "            \n",
    "            generated_image = gen(z.to(device))  # Generate an image from the latent vector\n",
    "            generated_image = generated_image.repeat(1, 3, 1, 1)\n",
    "            generated_image = functional.interpolate(generated_image, size=(32, 32), mode='nearest')\n",
    "            #print(generated_image.shape)\n",
    "            hs, prediction_logits = target_model(generated_image)  # Classifier output\n",
    "            #print(prediction_logits)\n",
    "            #print(type(prediction_logits))\n",
    "            loss = loss_fn(prediction_logits, target_class.to(device))  # Minimize difference with true class\n",
    "            loss.backward()\n",
    "            optimizer.step()\n",
    "            \n",
    "            if i % 50 == 0:\n",
    "                print(f\"Generating Image Number: {x+1} for target class {target_class}. Step {i}, Loss: {loss.item()}\")\n",
    "    \n",
    "        optimized_latent_vectors.append(z)\n",
    "        \n",
    "    return optimized_latent_vectors"
   ]
  },
  {
   "cell_type": "code",
   "execution_count": 20,
   "id": "9ebc9533-23ca-4d44-8aea-9d134281b3a4",
   "metadata": {
    "scrolled": true
   },
   "outputs": [
    {
     "name": "stdout",
     "output_type": "stream",
     "text": [
      "Generating Image Number: 1 for target class tensor([0]). Step 0, Loss: 2.9003398418426514\n",
      "Generating Image Number: 1 for target class tensor([0]). Step 50, Loss: 1.5597373247146606\n",
      "Generating Image Number: 1 for target class tensor([0]). Step 100, Loss: 0.7234904766082764\n",
      "Generating Image Number: 1 for target class tensor([0]). Step 150, Loss: 0.6150788068771362\n",
      "Generating Image Number: 1 for target class tensor([0]). Step 200, Loss: 0.5410376191139221\n",
      "Generating Image Number: 1 for target class tensor([0]). Step 250, Loss: 0.4913932681083679\n",
      "Generating Image Number: 1 for target class tensor([0]). Step 300, Loss: 0.45394521951675415\n",
      "Generating Image Number: 1 for target class tensor([0]). Step 350, Loss: 0.41822725534439087\n",
      "Generating Image Number: 1 for target class tensor([0]). Step 400, Loss: 0.3896004855632782\n",
      "Generating Image Number: 1 for target class tensor([0]). Step 450, Loss: 0.3674442768096924\n",
      "Generating Image Number: 2 for target class tensor([0]). Step 0, Loss: 1.3394253253936768\n",
      "Generating Image Number: 2 for target class tensor([0]). Step 50, Loss: 0.21824303269386292\n",
      "Generating Image Number: 2 for target class tensor([0]). Step 100, Loss: 0.19637314975261688\n",
      "Generating Image Number: 2 for target class tensor([0]). Step 150, Loss: 0.18026481568813324\n",
      "Generating Image Number: 2 for target class tensor([0]). Step 200, Loss: 0.1672481894493103\n",
      "Generating Image Number: 2 for target class tensor([0]). Step 250, Loss: 0.15486502647399902\n",
      "Generating Image Number: 2 for target class tensor([0]). Step 300, Loss: 0.14417792856693268\n",
      "Generating Image Number: 2 for target class tensor([0]). Step 350, Loss: 0.13342921435832977\n",
      "Generating Image Number: 2 for target class tensor([0]). Step 400, Loss: 0.12447836250066757\n",
      "Generating Image Number: 2 for target class tensor([0]). Step 450, Loss: 0.11703772842884064\n",
      "Generating Image Number: 3 for target class tensor([0]). Step 0, Loss: 0.8550563454627991\n",
      "Generating Image Number: 3 for target class tensor([0]). Step 50, Loss: 0.11759652197360992\n",
      "Generating Image Number: 3 for target class tensor([0]). Step 100, Loss: 0.10499689728021622\n",
      "Generating Image Number: 3 for target class tensor([0]). Step 150, Loss: 0.0928516834974289\n",
      "Generating Image Number: 3 for target class tensor([0]). Step 200, Loss: 0.08457882702350616\n",
      "Generating Image Number: 3 for target class tensor([0]). Step 250, Loss: 0.07952531427145004\n",
      "Generating Image Number: 3 for target class tensor([0]). Step 300, Loss: 0.0750761330127716\n",
      "Generating Image Number: 3 for target class tensor([0]). Step 350, Loss: 0.07187604159116745\n",
      "Generating Image Number: 3 for target class tensor([0]). Step 400, Loss: 0.06956222653388977\n",
      "Generating Image Number: 3 for target class tensor([0]). Step 450, Loss: 0.0675974190235138\n",
      "Generating Image Number: 4 for target class tensor([0]). Step 0, Loss: 1.4233368635177612\n",
      "Generating Image Number: 4 for target class tensor([0]). Step 50, Loss: 0.7614821195602417\n",
      "Generating Image Number: 4 for target class tensor([0]). Step 100, Loss: 0.7151154279708862\n",
      "Generating Image Number: 4 for target class tensor([0]). Step 150, Loss: 0.6801520586013794\n",
      "Generating Image Number: 4 for target class tensor([0]). Step 200, Loss: 0.6424347758293152\n",
      "Generating Image Number: 4 for target class tensor([0]). Step 250, Loss: 0.6141112446784973\n",
      "Generating Image Number: 4 for target class tensor([0]). Step 300, Loss: 0.591037929058075\n",
      "Generating Image Number: 4 for target class tensor([0]). Step 350, Loss: 0.5754917860031128\n",
      "Generating Image Number: 4 for target class tensor([0]). Step 400, Loss: 0.5609068274497986\n",
      "Generating Image Number: 4 for target class tensor([0]). Step 450, Loss: 0.5444551706314087\n",
      "Generating Image Number: 5 for target class tensor([0]). Step 0, Loss: 1.0477486848831177\n",
      "Generating Image Number: 5 for target class tensor([0]). Step 50, Loss: 0.18318995833396912\n",
      "Generating Image Number: 5 for target class tensor([0]). Step 100, Loss: 0.1591525673866272\n",
      "Generating Image Number: 5 for target class tensor([0]). Step 150, Loss: 0.1404348611831665\n",
      "Generating Image Number: 5 for target class tensor([0]). Step 200, Loss: 0.12065434455871582\n",
      "Generating Image Number: 5 for target class tensor([0]). Step 250, Loss: 0.10355821251869202\n",
      "Generating Image Number: 5 for target class tensor([0]). Step 300, Loss: 0.0934990718960762\n",
      "Generating Image Number: 5 for target class tensor([0]). Step 350, Loss: 0.08780672401189804\n",
      "Generating Image Number: 5 for target class tensor([0]). Step 400, Loss: 0.08303485065698624\n",
      "Generating Image Number: 5 for target class tensor([0]). Step 450, Loss: 0.07922900468111038\n",
      "Generating Image Number: 6 for target class tensor([0]). Step 0, Loss: 0.3122713267803192\n",
      "Generating Image Number: 6 for target class tensor([0]). Step 50, Loss: 0.17351990938186646\n",
      "Generating Image Number: 6 for target class tensor([0]). Step 100, Loss: 0.1381201446056366\n",
      "Generating Image Number: 6 for target class tensor([0]). Step 150, Loss: 0.1169295534491539\n",
      "Generating Image Number: 6 for target class tensor([0]). Step 200, Loss: 0.0988868996500969\n",
      "Generating Image Number: 6 for target class tensor([0]). Step 250, Loss: 0.08667019009590149\n",
      "Generating Image Number: 6 for target class tensor([0]). Step 300, Loss: 0.07765457034111023\n",
      "Generating Image Number: 6 for target class tensor([0]). Step 350, Loss: 0.07184364646673203\n",
      "Generating Image Number: 6 for target class tensor([0]). Step 400, Loss: 0.06370338797569275\n",
      "Generating Image Number: 6 for target class tensor([0]). Step 450, Loss: 0.058563459664583206\n",
      "Generating Image Number: 7 for target class tensor([0]). Step 0, Loss: 0.2196337878704071\n",
      "Generating Image Number: 7 for target class tensor([0]). Step 50, Loss: 0.15324360132217407\n",
      "Generating Image Number: 7 for target class tensor([0]). Step 100, Loss: 0.1212146058678627\n",
      "Generating Image Number: 7 for target class tensor([0]). Step 150, Loss: 0.10267345607280731\n",
      "Generating Image Number: 7 for target class tensor([0]). Step 200, Loss: 0.08920815587043762\n",
      "Generating Image Number: 7 for target class tensor([0]). Step 250, Loss: 0.07803504168987274\n",
      "Generating Image Number: 7 for target class tensor([0]). Step 300, Loss: 0.07042642682790756\n",
      "Generating Image Number: 7 for target class tensor([0]). Step 350, Loss: 0.06434711068868637\n",
      "Generating Image Number: 7 for target class tensor([0]). Step 400, Loss: 0.059901587665081024\n",
      "Generating Image Number: 7 for target class tensor([0]). Step 450, Loss: 0.05600074306130409\n",
      "Generating Image Number: 8 for target class tensor([0]). Step 0, Loss: 1.1719369888305664\n",
      "Generating Image Number: 8 for target class tensor([0]). Step 50, Loss: 0.17088206112384796\n",
      "Generating Image Number: 8 for target class tensor([0]). Step 100, Loss: 0.15145766735076904\n",
      "Generating Image Number: 8 for target class tensor([0]). Step 150, Loss: 0.1394045352935791\n",
      "Generating Image Number: 8 for target class tensor([0]). Step 200, Loss: 0.13025130331516266\n",
      "Generating Image Number: 8 for target class tensor([0]). Step 250, Loss: 0.12468274682760239\n",
      "Generating Image Number: 8 for target class tensor([0]). Step 300, Loss: 0.11947713047266006\n",
      "Generating Image Number: 8 for target class tensor([0]). Step 350, Loss: 0.11506178975105286\n",
      "Generating Image Number: 8 for target class tensor([0]). Step 400, Loss: 0.1097746267914772\n",
      "Generating Image Number: 8 for target class tensor([0]). Step 450, Loss: 0.10594554245471954\n",
      "Generating Image Number: 9 for target class tensor([0]). Step 0, Loss: 0.5716733336448669\n",
      "Generating Image Number: 9 for target class tensor([0]). Step 50, Loss: 0.401218056678772\n",
      "Generating Image Number: 9 for target class tensor([0]). Step 100, Loss: 0.24272379279136658\n",
      "Generating Image Number: 9 for target class tensor([0]). Step 150, Loss: 0.1665496677160263\n",
      "Generating Image Number: 9 for target class tensor([0]). Step 200, Loss: 0.1402226835489273\n",
      "Generating Image Number: 9 for target class tensor([0]). Step 250, Loss: 0.1268932968378067\n",
      "Generating Image Number: 9 for target class tensor([0]). Step 300, Loss: 0.11518407613039017\n",
      "Generating Image Number: 9 for target class tensor([0]). Step 350, Loss: 0.10520047694444656\n",
      "Generating Image Number: 9 for target class tensor([0]). Step 400, Loss: 0.096854068338871\n",
      "Generating Image Number: 9 for target class tensor([0]). Step 450, Loss: 0.08983360230922699\n",
      "Generating Image Number: 10 for target class tensor([0]). Step 0, Loss: 1.5039817094802856\n",
      "Generating Image Number: 10 for target class tensor([0]). Step 50, Loss: 0.6235917210578918\n",
      "Generating Image Number: 10 for target class tensor([0]). Step 100, Loss: 0.49444854259490967\n",
      "Generating Image Number: 10 for target class tensor([0]). Step 150, Loss: 0.39209243655204773\n",
      "Generating Image Number: 10 for target class tensor([0]). Step 200, Loss: 0.31959253549575806\n",
      "Generating Image Number: 10 for target class tensor([0]). Step 250, Loss: 0.2557584345340729\n",
      "Generating Image Number: 10 for target class tensor([0]). Step 300, Loss: 0.21965761482715607\n",
      "Generating Image Number: 10 for target class tensor([0]). Step 350, Loss: 0.1986256241798401\n",
      "Generating Image Number: 10 for target class tensor([0]). Step 400, Loss: 0.18175409734249115\n",
      "Generating Image Number: 10 for target class tensor([0]). Step 450, Loss: 0.16821064054965973\n",
      "Generating Image Number: 11 for target class tensor([0]). Step 0, Loss: 0.4610624313354492\n",
      "Generating Image Number: 11 for target class tensor([0]). Step 50, Loss: 0.1486344337463379\n",
      "Generating Image Number: 11 for target class tensor([0]). Step 100, Loss: 0.11132150888442993\n",
      "Generating Image Number: 11 for target class tensor([0]). Step 150, Loss: 0.09650645405054092\n",
      "Generating Image Number: 11 for target class tensor([0]). Step 200, Loss: 0.08280596882104874\n",
      "Generating Image Number: 11 for target class tensor([0]). Step 250, Loss: 0.07306063920259476\n",
      "Generating Image Number: 11 for target class tensor([0]). Step 300, Loss: 0.06410831958055496\n",
      "Generating Image Number: 11 for target class tensor([0]). Step 350, Loss: 0.05845383554697037\n",
      "Generating Image Number: 11 for target class tensor([0]). Step 400, Loss: 0.05389692634344101\n",
      "Generating Image Number: 11 for target class tensor([0]). Step 450, Loss: 0.04988556355237961\n",
      "Generating Image Number: 12 for target class tensor([0]). Step 0, Loss: 0.31139257550239563\n",
      "Generating Image Number: 12 for target class tensor([0]). Step 50, Loss: 0.12912002205848694\n",
      "Generating Image Number: 12 for target class tensor([0]). Step 100, Loss: 0.10955701768398285\n",
      "Generating Image Number: 12 for target class tensor([0]). Step 150, Loss: 0.09851212799549103\n",
      "Generating Image Number: 12 for target class tensor([0]). Step 200, Loss: 0.08727876842021942\n",
      "Generating Image Number: 12 for target class tensor([0]). Step 250, Loss: 0.07717078179121017\n",
      "Generating Image Number: 12 for target class tensor([0]). Step 300, Loss: 0.06747440993785858\n",
      "Generating Image Number: 12 for target class tensor([0]). Step 350, Loss: 0.06092358008027077\n",
      "Generating Image Number: 12 for target class tensor([0]). Step 400, Loss: 0.05624609813094139\n",
      "Generating Image Number: 12 for target class tensor([0]). Step 450, Loss: 0.05206357687711716\n",
      "Generating Image Number: 13 for target class tensor([0]). Step 0, Loss: 0.32046377658843994\n",
      "Generating Image Number: 13 for target class tensor([0]). Step 50, Loss: 0.14558669924736023\n",
      "Generating Image Number: 13 for target class tensor([0]). Step 100, Loss: 0.12072429060935974\n",
      "Generating Image Number: 13 for target class tensor([0]). Step 150, Loss: 0.10128539800643921\n",
      "Generating Image Number: 13 for target class tensor([0]). Step 200, Loss: 0.0861784890294075\n",
      "Generating Image Number: 13 for target class tensor([0]). Step 250, Loss: 0.0727912187576294\n",
      "Generating Image Number: 13 for target class tensor([0]). Step 300, Loss: 0.06649043411016464\n",
      "Generating Image Number: 13 for target class tensor([0]). Step 350, Loss: 0.06185242533683777\n",
      "Generating Image Number: 13 for target class tensor([0]). Step 400, Loss: 0.05823252722620964\n",
      "Generating Image Number: 13 for target class tensor([0]). Step 450, Loss: 0.05485714226961136\n",
      "Generating Image Number: 14 for target class tensor([0]). Step 0, Loss: 4.503300189971924\n",
      "Generating Image Number: 14 for target class tensor([0]). Step 50, Loss: 0.14290255308151245\n",
      "Generating Image Number: 14 for target class tensor([0]). Step 100, Loss: 0.13085129857063293\n",
      "Generating Image Number: 14 for target class tensor([0]). Step 150, Loss: 0.12752121686935425\n",
      "Generating Image Number: 14 for target class tensor([0]). Step 200, Loss: 0.12453529983758926\n",
      "Generating Image Number: 14 for target class tensor([0]). Step 250, Loss: 0.12181012332439423\n",
      "Generating Image Number: 14 for target class tensor([0]). Step 300, Loss: 0.11889927089214325\n",
      "Generating Image Number: 14 for target class tensor([0]). Step 350, Loss: 0.11635255813598633\n",
      "Generating Image Number: 14 for target class tensor([0]). Step 400, Loss: 0.11420736461877823\n",
      "Generating Image Number: 14 for target class tensor([0]). Step 450, Loss: 0.11218181252479553\n",
      "Generating Image Number: 15 for target class tensor([0]). Step 0, Loss: 1.2620047330856323\n",
      "Generating Image Number: 15 for target class tensor([0]). Step 50, Loss: 0.09326747059822083\n",
      "Generating Image Number: 15 for target class tensor([0]). Step 100, Loss: 0.08868399262428284\n",
      "Generating Image Number: 15 for target class tensor([0]). Step 150, Loss: 0.0849917083978653\n",
      "Generating Image Number: 15 for target class tensor([0]). Step 200, Loss: 0.08149783313274384\n",
      "Generating Image Number: 15 for target class tensor([0]). Step 250, Loss: 0.0788823664188385\n",
      "Generating Image Number: 15 for target class tensor([0]). Step 300, Loss: 0.07680565118789673\n",
      "Generating Image Number: 15 for target class tensor([0]). Step 350, Loss: 0.07511826604604721\n",
      "Generating Image Number: 15 for target class tensor([0]). Step 400, Loss: 0.07359382510185242\n",
      "Generating Image Number: 15 for target class tensor([0]). Step 450, Loss: 0.07217708975076675\n",
      "Generating Image Number: 16 for target class tensor([0]). Step 0, Loss: 0.3716953694820404\n",
      "Generating Image Number: 16 for target class tensor([0]). Step 50, Loss: 0.11575113236904144\n",
      "Generating Image Number: 16 for target class tensor([0]). Step 100, Loss: 0.09976756572723389\n",
      "Generating Image Number: 16 for target class tensor([0]). Step 150, Loss: 0.08911241590976715\n",
      "Generating Image Number: 16 for target class tensor([0]). Step 200, Loss: 0.0804092213511467\n",
      "Generating Image Number: 16 for target class tensor([0]). Step 250, Loss: 0.07387996464967728\n",
      "Generating Image Number: 16 for target class tensor([0]). Step 300, Loss: 0.06915649026632309\n",
      "Generating Image Number: 16 for target class tensor([0]). Step 350, Loss: 0.065941721200943\n",
      "Generating Image Number: 16 for target class tensor([0]). Step 400, Loss: 0.06308353692293167\n",
      "Generating Image Number: 16 for target class tensor([0]). Step 450, Loss: 0.060258567333221436\n",
      "Generating Image Number: 17 for target class tensor([0]). Step 0, Loss: 0.0\n",
      "Generating Image Number: 17 for target class tensor([0]). Step 50, Loss: 0.0\n",
      "Generating Image Number: 17 for target class tensor([0]). Step 100, Loss: 0.0\n",
      "Generating Image Number: 17 for target class tensor([0]). Step 150, Loss: 0.0\n",
      "Generating Image Number: 17 for target class tensor([0]). Step 200, Loss: 0.0\n",
      "Generating Image Number: 17 for target class tensor([0]). Step 250, Loss: 0.0\n",
      "Generating Image Number: 17 for target class tensor([0]). Step 300, Loss: 0.0\n",
      "Generating Image Number: 17 for target class tensor([0]). Step 350, Loss: 0.0\n",
      "Generating Image Number: 17 for target class tensor([0]). Step 400, Loss: 0.0\n",
      "Generating Image Number: 17 for target class tensor([0]). Step 450, Loss: 0.0\n",
      "Generating Image Number: 18 for target class tensor([0]). Step 0, Loss: 2.4594976902008057\n",
      "Generating Image Number: 18 for target class tensor([0]). Step 50, Loss: 0.13405419886112213\n",
      "Generating Image Number: 18 for target class tensor([0]). Step 100, Loss: 0.1285642832517624\n",
      "Generating Image Number: 18 for target class tensor([0]). Step 150, Loss: 0.12148628383874893\n",
      "Generating Image Number: 18 for target class tensor([0]). Step 200, Loss: 0.11445022374391556\n",
      "Generating Image Number: 18 for target class tensor([0]). Step 250, Loss: 0.10825786739587784\n",
      "Generating Image Number: 18 for target class tensor([0]). Step 300, Loss: 0.10332150757312775\n",
      "Generating Image Number: 18 for target class tensor([0]). Step 350, Loss: 0.09954734146595001\n",
      "Generating Image Number: 18 for target class tensor([0]). Step 400, Loss: 0.09247507154941559\n",
      "Generating Image Number: 18 for target class tensor([0]). Step 450, Loss: 0.08870450407266617\n",
      "Generating Image Number: 19 for target class tensor([0]). Step 0, Loss: 0.5749650001525879\n",
      "Generating Image Number: 19 for target class tensor([0]). Step 50, Loss: 0.1753651350736618\n",
      "Generating Image Number: 19 for target class tensor([0]). Step 100, Loss: 0.15197503566741943\n",
      "Generating Image Number: 19 for target class tensor([0]). Step 150, Loss: 0.13629792630672455\n",
      "Generating Image Number: 19 for target class tensor([0]). Step 200, Loss: 0.12019366770982742\n",
      "Generating Image Number: 19 for target class tensor([0]). Step 250, Loss: 0.10940123349428177\n",
      "Generating Image Number: 19 for target class tensor([0]). Step 300, Loss: 0.10265280306339264\n",
      "Generating Image Number: 19 for target class tensor([0]). Step 350, Loss: 0.0965743213891983\n",
      "Generating Image Number: 19 for target class tensor([0]). Step 400, Loss: 0.09200285375118256\n",
      "Generating Image Number: 19 for target class tensor([0]). Step 450, Loss: 0.08773629367351532\n",
      "Generating Image Number: 20 for target class tensor([0]). Step 0, Loss: 0.7275511026382446\n",
      "Generating Image Number: 20 for target class tensor([0]). Step 50, Loss: 0.1909714639186859\n",
      "Generating Image Number: 20 for target class tensor([0]). Step 100, Loss: 0.15804558992385864\n",
      "Generating Image Number: 20 for target class tensor([0]). Step 150, Loss: 0.13567818701267242\n",
      "Generating Image Number: 20 for target class tensor([0]). Step 200, Loss: 0.12018700689077377\n",
      "Generating Image Number: 20 for target class tensor([0]). Step 250, Loss: 0.11075268685817719\n",
      "Generating Image Number: 20 for target class tensor([0]). Step 300, Loss: 0.10347286611795425\n",
      "Generating Image Number: 20 for target class tensor([0]). Step 350, Loss: 0.09805982559919357\n",
      "Generating Image Number: 20 for target class tensor([0]). Step 400, Loss: 0.09033069759607315\n",
      "Generating Image Number: 20 for target class tensor([0]). Step 450, Loss: 0.08364268392324448\n"
     ]
    }
   ],
   "source": [
    "class0_optimized_latent_vectors = recover_images(img_count, 0, latent_vectors)"
   ]
  },
  {
   "cell_type": "code",
   "execution_count": 21,
   "id": "6718334c-2bb1-42a3-bd8c-6aea38e6b59c",
   "metadata": {
    "scrolled": true
   },
   "outputs": [
    {
     "name": "stdout",
     "output_type": "stream",
     "text": [
      "Generating Image Number: 1 for target class tensor([1]). Step 0, Loss: 2.9090511798858643\n",
      "Generating Image Number: 1 for target class tensor([1]). Step 50, Loss: 1.0998201370239258\n",
      "Generating Image Number: 1 for target class tensor([1]). Step 100, Loss: 0.9859172701835632\n",
      "Generating Image Number: 1 for target class tensor([1]). Step 150, Loss: 0.9302783012390137\n",
      "Generating Image Number: 1 for target class tensor([1]). Step 200, Loss: 0.8934212327003479\n",
      "Generating Image Number: 1 for target class tensor([1]). Step 250, Loss: 0.8662624955177307\n",
      "Generating Image Number: 1 for target class tensor([1]). Step 300, Loss: 0.8430353403091431\n",
      "Generating Image Number: 1 for target class tensor([1]). Step 350, Loss: 0.8180960416793823\n",
      "Generating Image Number: 1 for target class tensor([1]). Step 400, Loss: 0.7874181270599365\n",
      "Generating Image Number: 1 for target class tensor([1]). Step 450, Loss: 0.7431008815765381\n",
      "Generating Image Number: 2 for target class tensor([1]). Step 0, Loss: 2.1085057258605957\n",
      "Generating Image Number: 2 for target class tensor([1]). Step 50, Loss: 1.0514061450958252\n",
      "Generating Image Number: 2 for target class tensor([1]). Step 100, Loss: 0.7359166145324707\n",
      "Generating Image Number: 2 for target class tensor([1]). Step 150, Loss: 0.5615493059158325\n",
      "Generating Image Number: 2 for target class tensor([1]). Step 200, Loss: 0.4056704342365265\n",
      "Generating Image Number: 2 for target class tensor([1]). Step 250, Loss: 0.31057778000831604\n",
      "Generating Image Number: 2 for target class tensor([1]). Step 300, Loss: 0.23611222207546234\n",
      "Generating Image Number: 2 for target class tensor([1]). Step 350, Loss: 0.16991564631462097\n",
      "Generating Image Number: 2 for target class tensor([1]). Step 400, Loss: 0.11130817979574203\n",
      "Generating Image Number: 2 for target class tensor([1]). Step 450, Loss: 0.0795072615146637\n",
      "Generating Image Number: 3 for target class tensor([1]). Step 0, Loss: 5.660854816436768\n",
      "Generating Image Number: 3 for target class tensor([1]). Step 50, Loss: 3.4855704307556152\n",
      "Generating Image Number: 3 for target class tensor([1]). Step 100, Loss: 2.133695602416992\n",
      "Generating Image Number: 3 for target class tensor([1]). Step 150, Loss: 1.3306348323822021\n",
      "Generating Image Number: 3 for target class tensor([1]). Step 200, Loss: 0.9737849235534668\n",
      "Generating Image Number: 3 for target class tensor([1]). Step 250, Loss: 0.7992074489593506\n",
      "Generating Image Number: 3 for target class tensor([1]). Step 300, Loss: 0.6668441891670227\n",
      "Generating Image Number: 3 for target class tensor([1]). Step 350, Loss: 0.5855386257171631\n",
      "Generating Image Number: 3 for target class tensor([1]). Step 400, Loss: 0.5356256365776062\n",
      "Generating Image Number: 3 for target class tensor([1]). Step 450, Loss: 0.4979167580604553\n",
      "Generating Image Number: 4 for target class tensor([1]). Step 0, Loss: 3.124004602432251\n",
      "Generating Image Number: 4 for target class tensor([1]). Step 50, Loss: 2.448439598083496\n",
      "Generating Image Number: 4 for target class tensor([1]). Step 100, Loss: 1.9448083639144897\n",
      "Generating Image Number: 4 for target class tensor([1]). Step 150, Loss: 1.674770474433899\n",
      "Generating Image Number: 4 for target class tensor([1]). Step 200, Loss: 1.4529869556427002\n",
      "Generating Image Number: 4 for target class tensor([1]). Step 250, Loss: 1.2415425777435303\n",
      "Generating Image Number: 4 for target class tensor([1]). Step 300, Loss: 1.0454479455947876\n",
      "Generating Image Number: 4 for target class tensor([1]). Step 350, Loss: 0.9012725949287415\n",
      "Generating Image Number: 4 for target class tensor([1]). Step 400, Loss: 0.815232515335083\n",
      "Generating Image Number: 4 for target class tensor([1]). Step 450, Loss: 0.7620968818664551\n",
      "Generating Image Number: 5 for target class tensor([1]). Step 0, Loss: 3.926680564880371\n",
      "Generating Image Number: 5 for target class tensor([1]). Step 50, Loss: 2.698028326034546\n",
      "Generating Image Number: 5 for target class tensor([1]). Step 100, Loss: 2.0498549938201904\n",
      "Generating Image Number: 5 for target class tensor([1]). Step 150, Loss: 1.6942768096923828\n",
      "Generating Image Number: 5 for target class tensor([1]). Step 200, Loss: 1.476773738861084\n",
      "Generating Image Number: 5 for target class tensor([1]). Step 250, Loss: 1.2815215587615967\n",
      "Generating Image Number: 5 for target class tensor([1]). Step 300, Loss: 1.1626503467559814\n",
      "Generating Image Number: 5 for target class tensor([1]). Step 350, Loss: 1.0745350122451782\n",
      "Generating Image Number: 5 for target class tensor([1]). Step 400, Loss: 0.9690294861793518\n",
      "Generating Image Number: 5 for target class tensor([1]). Step 450, Loss: 0.9063429832458496\n",
      "Generating Image Number: 6 for target class tensor([1]). Step 0, Loss: 3.688438892364502\n",
      "Generating Image Number: 6 for target class tensor([1]). Step 50, Loss: 2.7997236251831055\n",
      "Generating Image Number: 6 for target class tensor([1]). Step 100, Loss: 2.1014883518218994\n",
      "Generating Image Number: 6 for target class tensor([1]). Step 150, Loss: 1.3276333808898926\n",
      "Generating Image Number: 6 for target class tensor([1]). Step 200, Loss: 0.8269695043563843\n",
      "Generating Image Number: 6 for target class tensor([1]). Step 250, Loss: 0.6167917251586914\n",
      "Generating Image Number: 6 for target class tensor([1]). Step 300, Loss: 0.5159610509872437\n",
      "Generating Image Number: 6 for target class tensor([1]). Step 350, Loss: 0.44095176458358765\n",
      "Generating Image Number: 6 for target class tensor([1]). Step 400, Loss: 0.39480748772621155\n",
      "Generating Image Number: 6 for target class tensor([1]). Step 450, Loss: 0.3606698215007782\n",
      "Generating Image Number: 7 for target class tensor([1]). Step 0, Loss: 17.432477951049805\n",
      "Generating Image Number: 7 for target class tensor([1]). Step 50, Loss: 2.105192184448242\n",
      "Generating Image Number: 7 for target class tensor([1]). Step 100, Loss: 2.0333149433135986\n",
      "Generating Image Number: 7 for target class tensor([1]). Step 150, Loss: 1.985604166984558\n",
      "Generating Image Number: 7 for target class tensor([1]). Step 200, Loss: 1.9479944705963135\n",
      "Generating Image Number: 7 for target class tensor([1]). Step 250, Loss: 1.913874864578247\n",
      "Generating Image Number: 7 for target class tensor([1]). Step 300, Loss: 1.871722936630249\n",
      "Generating Image Number: 7 for target class tensor([1]). Step 350, Loss: 1.8226239681243896\n",
      "Generating Image Number: 7 for target class tensor([1]). Step 400, Loss: 1.7670806646347046\n",
      "Generating Image Number: 7 for target class tensor([1]). Step 450, Loss: 1.7231881618499756\n",
      "Generating Image Number: 8 for target class tensor([1]). Step 0, Loss: 18.695985794067383\n",
      "Generating Image Number: 8 for target class tensor([1]). Step 50, Loss: 17.805273056030273\n",
      "Generating Image Number: 8 for target class tensor([1]). Step 100, Loss: 2.0974864959716797\n",
      "Generating Image Number: 8 for target class tensor([1]). Step 150, Loss: 1.7444485425949097\n",
      "Generating Image Number: 8 for target class tensor([1]). Step 200, Loss: 1.0166802406311035\n",
      "Generating Image Number: 8 for target class tensor([1]). Step 250, Loss: 0.6997783184051514\n",
      "Generating Image Number: 8 for target class tensor([1]). Step 300, Loss: 0.5848536491394043\n",
      "Generating Image Number: 8 for target class tensor([1]). Step 350, Loss: 0.5575100183486938\n",
      "Generating Image Number: 8 for target class tensor([1]). Step 400, Loss: 0.38228148221969604\n",
      "Generating Image Number: 8 for target class tensor([1]). Step 450, Loss: 0.3266461193561554\n",
      "Generating Image Number: 9 for target class tensor([1]). Step 0, Loss: 3.2952699661254883\n",
      "Generating Image Number: 9 for target class tensor([1]). Step 50, Loss: 1.049642562866211\n",
      "Generating Image Number: 9 for target class tensor([1]). Step 100, Loss: 0.663336455821991\n",
      "Generating Image Number: 9 for target class tensor([1]). Step 150, Loss: 0.4687775671482086\n",
      "Generating Image Number: 9 for target class tensor([1]). Step 200, Loss: 0.3039526045322418\n",
      "Generating Image Number: 9 for target class tensor([1]). Step 250, Loss: 0.17391479015350342\n",
      "Generating Image Number: 9 for target class tensor([1]). Step 300, Loss: 0.12170658260583878\n",
      "Generating Image Number: 9 for target class tensor([1]). Step 350, Loss: 0.09671913087368011\n",
      "Generating Image Number: 9 for target class tensor([1]). Step 400, Loss: 0.08557044714689255\n",
      "Generating Image Number: 9 for target class tensor([1]). Step 450, Loss: 0.07556657493114471\n",
      "Generating Image Number: 10 for target class tensor([1]). Step 0, Loss: 6.753666877746582\n",
      "Generating Image Number: 10 for target class tensor([1]). Step 50, Loss: 1.6644142866134644\n",
      "Generating Image Number: 10 for target class tensor([1]). Step 100, Loss: 1.464799404144287\n",
      "Generating Image Number: 10 for target class tensor([1]). Step 150, Loss: 1.242674469947815\n",
      "Generating Image Number: 10 for target class tensor([1]). Step 200, Loss: 1.0725125074386597\n",
      "Generating Image Number: 10 for target class tensor([1]). Step 250, Loss: 0.9483327269554138\n",
      "Generating Image Number: 10 for target class tensor([1]). Step 300, Loss: 0.8494161367416382\n",
      "Generating Image Number: 10 for target class tensor([1]). Step 350, Loss: 0.779364824295044\n",
      "Generating Image Number: 10 for target class tensor([1]). Step 400, Loss: 0.7166882753372192\n",
      "Generating Image Number: 10 for target class tensor([1]). Step 450, Loss: 0.6665400266647339\n",
      "Generating Image Number: 11 for target class tensor([1]). Step 0, Loss: 3.8450448513031006\n",
      "Generating Image Number: 11 for target class tensor([1]). Step 50, Loss: 1.4296201467514038\n",
      "Generating Image Number: 11 for target class tensor([1]). Step 100, Loss: 0.7296438813209534\n",
      "Generating Image Number: 11 for target class tensor([1]). Step 150, Loss: 0.6320658922195435\n",
      "Generating Image Number: 11 for target class tensor([1]). Step 200, Loss: 0.5874526500701904\n",
      "Generating Image Number: 11 for target class tensor([1]). Step 250, Loss: 0.5540292263031006\n",
      "Generating Image Number: 11 for target class tensor([1]). Step 300, Loss: 0.5301990509033203\n",
      "Generating Image Number: 11 for target class tensor([1]). Step 350, Loss: 0.5076822638511658\n",
      "Generating Image Number: 11 for target class tensor([1]). Step 400, Loss: 0.5180102586746216\n",
      "Generating Image Number: 11 for target class tensor([1]). Step 450, Loss: 0.48533278703689575\n",
      "Generating Image Number: 12 for target class tensor([1]). Step 0, Loss: 3.7302255630493164\n",
      "Generating Image Number: 12 for target class tensor([1]). Step 50, Loss: 1.142765760421753\n",
      "Generating Image Number: 12 for target class tensor([1]). Step 100, Loss: 0.8076809644699097\n",
      "Generating Image Number: 12 for target class tensor([1]). Step 150, Loss: 0.6474270224571228\n",
      "Generating Image Number: 12 for target class tensor([1]). Step 200, Loss: 0.4822079539299011\n",
      "Generating Image Number: 12 for target class tensor([1]). Step 250, Loss: 0.2765153646469116\n",
      "Generating Image Number: 12 for target class tensor([1]). Step 300, Loss: 0.1828450858592987\n",
      "Generating Image Number: 12 for target class tensor([1]). Step 350, Loss: 0.1272442638874054\n",
      "Generating Image Number: 12 for target class tensor([1]). Step 400, Loss: 0.09730301797389984\n",
      "Generating Image Number: 12 for target class tensor([1]). Step 450, Loss: 0.07930201292037964\n",
      "Generating Image Number: 13 for target class tensor([1]). Step 0, Loss: 5.1210103034973145\n",
      "Generating Image Number: 13 for target class tensor([1]). Step 50, Loss: 2.916635513305664\n",
      "Generating Image Number: 13 for target class tensor([1]). Step 100, Loss: 2.0362980365753174\n",
      "Generating Image Number: 13 for target class tensor([1]). Step 150, Loss: 1.7712115049362183\n",
      "Generating Image Number: 13 for target class tensor([1]). Step 200, Loss: 1.5942031145095825\n",
      "Generating Image Number: 13 for target class tensor([1]). Step 250, Loss: 1.5133397579193115\n",
      "Generating Image Number: 13 for target class tensor([1]). Step 300, Loss: 1.465027093887329\n",
      "Generating Image Number: 13 for target class tensor([1]). Step 350, Loss: 1.4198678731918335\n",
      "Generating Image Number: 13 for target class tensor([1]). Step 400, Loss: 1.3774957656860352\n",
      "Generating Image Number: 13 for target class tensor([1]). Step 450, Loss: 1.3148813247680664\n",
      "Generating Image Number: 14 for target class tensor([1]). Step 0, Loss: 1.9578149318695068\n",
      "Generating Image Number: 14 for target class tensor([1]). Step 50, Loss: 1.039534091949463\n",
      "Generating Image Number: 14 for target class tensor([1]). Step 100, Loss: 0.8652425408363342\n",
      "Generating Image Number: 14 for target class tensor([1]). Step 150, Loss: 0.6714476346969604\n",
      "Generating Image Number: 14 for target class tensor([1]). Step 200, Loss: 0.49570348858833313\n",
      "Generating Image Number: 14 for target class tensor([1]). Step 250, Loss: 0.40989795327186584\n",
      "Generating Image Number: 14 for target class tensor([1]). Step 300, Loss: 0.35523614287376404\n",
      "Generating Image Number: 14 for target class tensor([1]). Step 350, Loss: 0.3192586600780487\n",
      "Generating Image Number: 14 for target class tensor([1]). Step 400, Loss: 0.2898397445678711\n",
      "Generating Image Number: 14 for target class tensor([1]). Step 450, Loss: 0.2586525082588196\n",
      "Generating Image Number: 15 for target class tensor([1]). Step 0, Loss: 2.553414821624756\n",
      "Generating Image Number: 15 for target class tensor([1]). Step 50, Loss: 1.35042142868042\n",
      "Generating Image Number: 15 for target class tensor([1]). Step 100, Loss: 1.1764954328536987\n",
      "Generating Image Number: 15 for target class tensor([1]). Step 150, Loss: 1.1106570959091187\n",
      "Generating Image Number: 15 for target class tensor([1]). Step 200, Loss: 1.0573588609695435\n",
      "Generating Image Number: 15 for target class tensor([1]). Step 250, Loss: 1.013685703277588\n",
      "Generating Image Number: 15 for target class tensor([1]). Step 300, Loss: 0.97267085313797\n",
      "Generating Image Number: 15 for target class tensor([1]). Step 350, Loss: 0.9408441185951233\n",
      "Generating Image Number: 15 for target class tensor([1]). Step 400, Loss: 0.9150671362876892\n",
      "Generating Image Number: 15 for target class tensor([1]). Step 450, Loss: 0.8905179500579834\n",
      "Generating Image Number: 16 for target class tensor([1]). Step 0, Loss: 17.211435317993164\n",
      "Generating Image Number: 16 for target class tensor([1]). Step 50, Loss: 1.0998330116271973\n",
      "Generating Image Number: 16 for target class tensor([1]). Step 100, Loss: 0.6352031826972961\n",
      "Generating Image Number: 16 for target class tensor([1]). Step 150, Loss: 0.5112467408180237\n",
      "Generating Image Number: 16 for target class tensor([1]). Step 200, Loss: 0.43527624011039734\n",
      "Generating Image Number: 16 for target class tensor([1]). Step 250, Loss: 0.374681681394577\n",
      "Generating Image Number: 16 for target class tensor([1]). Step 300, Loss: 0.32078370451927185\n",
      "Generating Image Number: 16 for target class tensor([1]). Step 350, Loss: 0.2539536654949188\n",
      "Generating Image Number: 16 for target class tensor([1]). Step 400, Loss: 0.21637238562107086\n",
      "Generating Image Number: 16 for target class tensor([1]). Step 450, Loss: 0.19034311175346375\n",
      "Generating Image Number: 17 for target class tensor([1]). Step 0, Loss: 2.393859386444092\n",
      "Generating Image Number: 17 for target class tensor([1]). Step 50, Loss: 0.7084890007972717\n",
      "Generating Image Number: 17 for target class tensor([1]). Step 100, Loss: 0.4625740349292755\n",
      "Generating Image Number: 17 for target class tensor([1]). Step 150, Loss: 0.3792424201965332\n",
      "Generating Image Number: 17 for target class tensor([1]). Step 200, Loss: 0.322684109210968\n",
      "Generating Image Number: 17 for target class tensor([1]). Step 250, Loss: 0.25749921798706055\n",
      "Generating Image Number: 17 for target class tensor([1]). Step 300, Loss: 0.21412810683250427\n",
      "Generating Image Number: 17 for target class tensor([1]). Step 350, Loss: 0.18811355531215668\n",
      "Generating Image Number: 17 for target class tensor([1]). Step 400, Loss: 0.1697685867547989\n",
      "Generating Image Number: 17 for target class tensor([1]). Step 450, Loss: 0.15292465686798096\n",
      "Generating Image Number: 18 for target class tensor([1]). Step 0, Loss: 3.80391788482666\n",
      "Generating Image Number: 18 for target class tensor([1]). Step 50, Loss: 2.645111083984375\n",
      "Generating Image Number: 18 for target class tensor([1]). Step 100, Loss: 2.3816561698913574\n",
      "Generating Image Number: 18 for target class tensor([1]). Step 150, Loss: 2.2001278400421143\n",
      "Generating Image Number: 18 for target class tensor([1]). Step 200, Loss: 2.0331716537475586\n",
      "Generating Image Number: 18 for target class tensor([1]). Step 250, Loss: 1.850191593170166\n",
      "Generating Image Number: 18 for target class tensor([1]). Step 300, Loss: 1.5357693433761597\n",
      "Generating Image Number: 18 for target class tensor([1]). Step 350, Loss: 1.32277512550354\n",
      "Generating Image Number: 18 for target class tensor([1]). Step 400, Loss: 1.0951464176177979\n",
      "Generating Image Number: 18 for target class tensor([1]). Step 450, Loss: 0.9559674263000488\n",
      "Generating Image Number: 19 for target class tensor([1]). Step 0, Loss: 3.201331377029419\n",
      "Generating Image Number: 19 for target class tensor([1]). Step 50, Loss: 3.075012683868408\n",
      "Generating Image Number: 19 for target class tensor([1]). Step 100, Loss: 3.1194963455200195\n",
      "Generating Image Number: 19 for target class tensor([1]). Step 150, Loss: 2.770805597305298\n",
      "Generating Image Number: 19 for target class tensor([1]). Step 200, Loss: 2.3135335445404053\n",
      "Generating Image Number: 19 for target class tensor([1]). Step 250, Loss: 1.8354809284210205\n",
      "Generating Image Number: 19 for target class tensor([1]). Step 300, Loss: 1.1000288724899292\n",
      "Generating Image Number: 19 for target class tensor([1]). Step 350, Loss: 1.0475382804870605\n",
      "Generating Image Number: 19 for target class tensor([1]). Step 400, Loss: 1.0185892581939697\n",
      "Generating Image Number: 19 for target class tensor([1]). Step 450, Loss: 0.9968087673187256\n",
      "Generating Image Number: 20 for target class tensor([1]). Step 0, Loss: 1.952107310295105\n",
      "Generating Image Number: 20 for target class tensor([1]). Step 50, Loss: 1.3117375373840332\n",
      "Generating Image Number: 20 for target class tensor([1]). Step 100, Loss: 1.0539641380310059\n",
      "Generating Image Number: 20 for target class tensor([1]). Step 150, Loss: 0.9307218194007874\n",
      "Generating Image Number: 20 for target class tensor([1]). Step 200, Loss: 0.8520370125770569\n",
      "Generating Image Number: 20 for target class tensor([1]). Step 250, Loss: 0.7647289633750916\n",
      "Generating Image Number: 20 for target class tensor([1]). Step 300, Loss: 0.6536208391189575\n",
      "Generating Image Number: 20 for target class tensor([1]). Step 350, Loss: 0.5569796562194824\n",
      "Generating Image Number: 20 for target class tensor([1]). Step 400, Loss: 0.4655894339084625\n",
      "Generating Image Number: 20 for target class tensor([1]). Step 450, Loss: 0.4173407554626465\n"
     ]
    }
   ],
   "source": [
    "torch.manual_seed(100)\n",
    "latent_vectors = torch.randn(img_count, z_dim, 1, 1, requires_grad=True) # Start with 20 random noises\n",
    "class1_optimized_latent_vectors = recover_images(img_count, 1, latent_vectors)"
   ]
  },
  {
   "cell_type": "code",
   "execution_count": 22,
   "id": "1c8af686-b1ff-419d-946d-2447773e47c9",
   "metadata": {
    "scrolled": true
   },
   "outputs": [
    {
     "name": "stdout",
     "output_type": "stream",
     "text": [
      "Generating Image Number: 1 for target class tensor([2]). Step 0, Loss: 2.4447765350341797\n",
      "Generating Image Number: 1 for target class tensor([2]). Step 50, Loss: 0.13119585812091827\n",
      "Generating Image Number: 1 for target class tensor([2]). Step 100, Loss: 0.10153938829898834\n",
      "Generating Image Number: 1 for target class tensor([2]). Step 150, Loss: 0.09559594094753265\n",
      "Generating Image Number: 1 for target class tensor([2]). Step 200, Loss: 0.0900457426905632\n",
      "Generating Image Number: 1 for target class tensor([2]). Step 250, Loss: 0.08538034558296204\n",
      "Generating Image Number: 1 for target class tensor([2]). Step 300, Loss: 0.0809403732419014\n",
      "Generating Image Number: 1 for target class tensor([2]). Step 350, Loss: 0.07703723758459091\n",
      "Generating Image Number: 1 for target class tensor([2]). Step 400, Loss: 0.07284198701381683\n",
      "Generating Image Number: 1 for target class tensor([2]). Step 450, Loss: 0.06865666061639786\n",
      "Generating Image Number: 2 for target class tensor([2]). Step 0, Loss: 3.1959121227264404\n",
      "Generating Image Number: 2 for target class tensor([2]). Step 50, Loss: 1.8763009309768677\n",
      "Generating Image Number: 2 for target class tensor([2]). Step 100, Loss: 1.6416246891021729\n",
      "Generating Image Number: 2 for target class tensor([2]). Step 150, Loss: 1.4629299640655518\n",
      "Generating Image Number: 2 for target class tensor([2]). Step 200, Loss: 1.3245978355407715\n",
      "Generating Image Number: 2 for target class tensor([2]). Step 250, Loss: 1.2264958620071411\n",
      "Generating Image Number: 2 for target class tensor([2]). Step 300, Loss: 1.0611772537231445\n",
      "Generating Image Number: 2 for target class tensor([2]). Step 350, Loss: 0.9885004758834839\n",
      "Generating Image Number: 2 for target class tensor([2]). Step 400, Loss: 0.9384188652038574\n",
      "Generating Image Number: 2 for target class tensor([2]). Step 450, Loss: 0.9138285517692566\n",
      "Generating Image Number: 3 for target class tensor([2]). Step 0, Loss: 0.6864023804664612\n",
      "Generating Image Number: 3 for target class tensor([2]). Step 50, Loss: 0.14286266267299652\n",
      "Generating Image Number: 3 for target class tensor([2]). Step 100, Loss: 0.11639267206192017\n",
      "Generating Image Number: 3 for target class tensor([2]). Step 150, Loss: 0.09718425571918488\n",
      "Generating Image Number: 3 for target class tensor([2]). Step 200, Loss: 0.0840468630194664\n",
      "Generating Image Number: 3 for target class tensor([2]). Step 250, Loss: 0.07202768325805664\n",
      "Generating Image Number: 3 for target class tensor([2]). Step 300, Loss: 0.06273438781499863\n",
      "Generating Image Number: 3 for target class tensor([2]). Step 350, Loss: 0.056464578956365585\n",
      "Generating Image Number: 3 for target class tensor([2]). Step 400, Loss: 0.05192607641220093\n",
      "Generating Image Number: 3 for target class tensor([2]). Step 450, Loss: 0.04804801940917969\n",
      "Generating Image Number: 4 for target class tensor([2]). Step 0, Loss: 0.844318151473999\n",
      "Generating Image Number: 4 for target class tensor([2]). Step 50, Loss: 0.6384925842285156\n",
      "Generating Image Number: 4 for target class tensor([2]). Step 100, Loss: 0.3247344493865967\n",
      "Generating Image Number: 4 for target class tensor([2]). Step 150, Loss: 0.2339104413986206\n",
      "Generating Image Number: 4 for target class tensor([2]). Step 200, Loss: 0.1882556825876236\n",
      "Generating Image Number: 4 for target class tensor([2]). Step 250, Loss: 0.1662599891424179\n",
      "Generating Image Number: 4 for target class tensor([2]). Step 300, Loss: 0.15301038324832916\n",
      "Generating Image Number: 4 for target class tensor([2]). Step 350, Loss: 0.1443590372800827\n",
      "Generating Image Number: 4 for target class tensor([2]). Step 400, Loss: 0.13528655469417572\n",
      "Generating Image Number: 4 for target class tensor([2]). Step 450, Loss: 0.12697918713092804\n",
      "Generating Image Number: 5 for target class tensor([2]). Step 0, Loss: 2.6885111331939697\n",
      "Generating Image Number: 5 for target class tensor([2]). Step 50, Loss: 1.6218897104263306\n",
      "Generating Image Number: 5 for target class tensor([2]). Step 100, Loss: 1.296823501586914\n",
      "Generating Image Number: 5 for target class tensor([2]). Step 150, Loss: 1.0316166877746582\n",
      "Generating Image Number: 5 for target class tensor([2]). Step 200, Loss: 0.8729132413864136\n",
      "Generating Image Number: 5 for target class tensor([2]). Step 250, Loss: 0.7631974220275879\n",
      "Generating Image Number: 5 for target class tensor([2]). Step 300, Loss: 0.7006521224975586\n",
      "Generating Image Number: 5 for target class tensor([2]). Step 350, Loss: 0.6496170163154602\n",
      "Generating Image Number: 5 for target class tensor([2]). Step 400, Loss: 0.6135247349739075\n",
      "Generating Image Number: 5 for target class tensor([2]). Step 450, Loss: 0.5773841142654419\n",
      "Generating Image Number: 6 for target class tensor([2]). Step 0, Loss: 2.8550288677215576\n",
      "Generating Image Number: 6 for target class tensor([2]). Step 50, Loss: 0.4448314309120178\n",
      "Generating Image Number: 6 for target class tensor([2]). Step 100, Loss: 0.29494181275367737\n",
      "Generating Image Number: 6 for target class tensor([2]). Step 150, Loss: 0.20556440949440002\n",
      "Generating Image Number: 6 for target class tensor([2]). Step 200, Loss: 0.15754500031471252\n",
      "Generating Image Number: 6 for target class tensor([2]). Step 250, Loss: 0.12591566145420074\n",
      "Generating Image Number: 6 for target class tensor([2]). Step 300, Loss: 0.1019940972328186\n",
      "Generating Image Number: 6 for target class tensor([2]). Step 350, Loss: 0.08406220376491547\n",
      "Generating Image Number: 6 for target class tensor([2]). Step 400, Loss: 0.0721597895026207\n",
      "Generating Image Number: 6 for target class tensor([2]). Step 450, Loss: 0.06485792994499207\n",
      "Generating Image Number: 7 for target class tensor([2]). Step 0, Loss: 2.983720302581787\n",
      "Generating Image Number: 7 for target class tensor([2]). Step 50, Loss: 0.3760002553462982\n",
      "Generating Image Number: 7 for target class tensor([2]). Step 100, Loss: 0.15983891487121582\n",
      "Generating Image Number: 7 for target class tensor([2]). Step 150, Loss: 0.13335232436656952\n",
      "Generating Image Number: 7 for target class tensor([2]). Step 200, Loss: 0.11401540040969849\n",
      "Generating Image Number: 7 for target class tensor([2]). Step 250, Loss: 0.09780874103307724\n",
      "Generating Image Number: 7 for target class tensor([2]). Step 300, Loss: 0.08590438216924667\n",
      "Generating Image Number: 7 for target class tensor([2]). Step 350, Loss: 0.0750020295381546\n",
      "Generating Image Number: 7 for target class tensor([2]). Step 400, Loss: 0.06628785282373428\n",
      "Generating Image Number: 7 for target class tensor([2]). Step 450, Loss: 0.05931633338332176\n",
      "Generating Image Number: 8 for target class tensor([2]). Step 0, Loss: 2.4165167808532715\n",
      "Generating Image Number: 8 for target class tensor([2]). Step 50, Loss: 0.0843050479888916\n",
      "Generating Image Number: 8 for target class tensor([2]). Step 100, Loss: 0.07587535679340363\n",
      "Generating Image Number: 8 for target class tensor([2]). Step 150, Loss: 0.06736353039741516\n",
      "Generating Image Number: 8 for target class tensor([2]). Step 200, Loss: 0.058120954781770706\n",
      "Generating Image Number: 8 for target class tensor([2]). Step 250, Loss: 0.05022289603948593\n",
      "Generating Image Number: 8 for target class tensor([2]). Step 300, Loss: 0.04615575820207596\n",
      "Generating Image Number: 8 for target class tensor([2]). Step 350, Loss: 0.04309776797890663\n",
      "Generating Image Number: 8 for target class tensor([2]). Step 400, Loss: 0.04114314168691635\n",
      "Generating Image Number: 8 for target class tensor([2]). Step 450, Loss: 0.038617342710494995\n",
      "Generating Image Number: 9 for target class tensor([2]). Step 0, Loss: 1.0559577941894531\n",
      "Generating Image Number: 9 for target class tensor([2]). Step 50, Loss: 0.1410544514656067\n",
      "Generating Image Number: 9 for target class tensor([2]). Step 100, Loss: 0.1178673803806305\n",
      "Generating Image Number: 9 for target class tensor([2]). Step 150, Loss: 0.10628432035446167\n",
      "Generating Image Number: 9 for target class tensor([2]). Step 200, Loss: 0.0963917076587677\n",
      "Generating Image Number: 9 for target class tensor([2]). Step 250, Loss: 0.08607950806617737\n",
      "Generating Image Number: 9 for target class tensor([2]). Step 300, Loss: 0.07698238641023636\n",
      "Generating Image Number: 9 for target class tensor([2]). Step 350, Loss: 0.07014040648937225\n",
      "Generating Image Number: 9 for target class tensor([2]). Step 400, Loss: 0.06519516557455063\n",
      "Generating Image Number: 9 for target class tensor([2]). Step 450, Loss: 0.06101151555776596\n",
      "Generating Image Number: 10 for target class tensor([2]). Step 0, Loss: 2.74184513092041\n",
      "Generating Image Number: 10 for target class tensor([2]). Step 50, Loss: 1.7846111059188843\n",
      "Generating Image Number: 10 for target class tensor([2]). Step 100, Loss: 1.4809317588806152\n",
      "Generating Image Number: 10 for target class tensor([2]). Step 150, Loss: 1.274989366531372\n",
      "Generating Image Number: 10 for target class tensor([2]). Step 200, Loss: 1.1133054494857788\n",
      "Generating Image Number: 10 for target class tensor([2]). Step 250, Loss: 0.9784765243530273\n",
      "Generating Image Number: 10 for target class tensor([2]). Step 300, Loss: 0.8656951189041138\n",
      "Generating Image Number: 10 for target class tensor([2]). Step 350, Loss: 0.7632214426994324\n",
      "Generating Image Number: 10 for target class tensor([2]). Step 400, Loss: 0.7095106840133667\n",
      "Generating Image Number: 10 for target class tensor([2]). Step 450, Loss: 0.6817528605461121\n",
      "Generating Image Number: 11 for target class tensor([2]). Step 0, Loss: 1.0574074983596802\n",
      "Generating Image Number: 11 for target class tensor([2]). Step 50, Loss: 0.620907723903656\n",
      "Generating Image Number: 11 for target class tensor([2]). Step 100, Loss: 0.5622771978378296\n",
      "Generating Image Number: 11 for target class tensor([2]). Step 150, Loss: 0.5129568576812744\n",
      "Generating Image Number: 11 for target class tensor([2]). Step 200, Loss: 0.47262221574783325\n",
      "Generating Image Number: 11 for target class tensor([2]). Step 250, Loss: 0.44369232654571533\n",
      "Generating Image Number: 11 for target class tensor([2]). Step 300, Loss: 0.41836801171302795\n",
      "Generating Image Number: 11 for target class tensor([2]). Step 350, Loss: 0.35662105679512024\n",
      "Generating Image Number: 11 for target class tensor([2]). Step 400, Loss: 0.14130112528800964\n",
      "Generating Image Number: 11 for target class tensor([2]). Step 450, Loss: 0.07574186474084854\n",
      "Generating Image Number: 12 for target class tensor([2]). Step 0, Loss: 24.420825958251953\n",
      "Generating Image Number: 12 for target class tensor([2]). Step 50, Loss: 23.59831428527832\n",
      "Generating Image Number: 12 for target class tensor([2]). Step 100, Loss: 22.95427703857422\n",
      "Generating Image Number: 12 for target class tensor([2]). Step 150, Loss: 0.19991059601306915\n",
      "Generating Image Number: 12 for target class tensor([2]). Step 200, Loss: 0.16367405652999878\n",
      "Generating Image Number: 12 for target class tensor([2]). Step 250, Loss: 0.1600656509399414\n",
      "Generating Image Number: 12 for target class tensor([2]). Step 300, Loss: 0.15634743869304657\n",
      "Generating Image Number: 12 for target class tensor([2]). Step 350, Loss: 0.152326300740242\n",
      "Generating Image Number: 12 for target class tensor([2]). Step 400, Loss: 0.14755533635616302\n",
      "Generating Image Number: 12 for target class tensor([2]). Step 450, Loss: 0.14345835149288177\n",
      "Generating Image Number: 13 for target class tensor([2]). Step 0, Loss: 3.729034662246704\n",
      "Generating Image Number: 13 for target class tensor([2]). Step 50, Loss: 1.6302307844161987\n",
      "Generating Image Number: 13 for target class tensor([2]). Step 100, Loss: 1.4135253429412842\n",
      "Generating Image Number: 13 for target class tensor([2]). Step 150, Loss: 1.2595117092132568\n",
      "Generating Image Number: 13 for target class tensor([2]). Step 200, Loss: 1.103222370147705\n",
      "Generating Image Number: 13 for target class tensor([2]). Step 250, Loss: 0.9488891363143921\n",
      "Generating Image Number: 13 for target class tensor([2]). Step 300, Loss: 0.8502225279808044\n",
      "Generating Image Number: 13 for target class tensor([2]). Step 350, Loss: 0.7704614996910095\n",
      "Generating Image Number: 13 for target class tensor([2]). Step 400, Loss: 0.7165782451629639\n",
      "Generating Image Number: 13 for target class tensor([2]). Step 450, Loss: 0.683463454246521\n",
      "Generating Image Number: 14 for target class tensor([2]). Step 0, Loss: 1.8641043901443481\n",
      "Generating Image Number: 14 for target class tensor([2]). Step 50, Loss: 0.07896983623504639\n",
      "Generating Image Number: 14 for target class tensor([2]). Step 100, Loss: 0.07206462323665619\n",
      "Generating Image Number: 14 for target class tensor([2]). Step 150, Loss: 0.06455187499523163\n",
      "Generating Image Number: 14 for target class tensor([2]). Step 200, Loss: 0.05851927399635315\n",
      "Generating Image Number: 14 for target class tensor([2]). Step 250, Loss: 0.05332871526479721\n",
      "Generating Image Number: 14 for target class tensor([2]). Step 300, Loss: 0.048640813678503036\n",
      "Generating Image Number: 14 for target class tensor([2]). Step 350, Loss: 0.044995252043008804\n",
      "Generating Image Number: 14 for target class tensor([2]). Step 400, Loss: 0.04205521196126938\n",
      "Generating Image Number: 14 for target class tensor([2]). Step 450, Loss: 0.03962418809533119\n",
      "Generating Image Number: 15 for target class tensor([2]). Step 0, Loss: 1.6698904037475586\n",
      "Generating Image Number: 15 for target class tensor([2]). Step 50, Loss: 0.0648559182882309\n",
      "Generating Image Number: 15 for target class tensor([2]). Step 100, Loss: 0.053084228187799454\n",
      "Generating Image Number: 15 for target class tensor([2]). Step 150, Loss: 0.046638406813144684\n",
      "Generating Image Number: 15 for target class tensor([2]). Step 200, Loss: 0.041992343962192535\n",
      "Generating Image Number: 15 for target class tensor([2]). Step 250, Loss: 0.038409266620874405\n",
      "Generating Image Number: 15 for target class tensor([2]). Step 300, Loss: 0.035474393516778946\n",
      "Generating Image Number: 15 for target class tensor([2]). Step 350, Loss: 0.03292129933834076\n",
      "Generating Image Number: 15 for target class tensor([2]). Step 400, Loss: 0.030417175963521004\n",
      "Generating Image Number: 15 for target class tensor([2]). Step 450, Loss: 0.02825692668557167\n",
      "Generating Image Number: 16 for target class tensor([2]). Step 0, Loss: 1.3328959941864014\n",
      "Generating Image Number: 16 for target class tensor([2]). Step 50, Loss: 0.07823900133371353\n",
      "Generating Image Number: 16 for target class tensor([2]). Step 100, Loss: 0.07044342160224915\n",
      "Generating Image Number: 16 for target class tensor([2]). Step 150, Loss: 0.06325241178274155\n",
      "Generating Image Number: 16 for target class tensor([2]). Step 200, Loss: 0.05685015767812729\n",
      "Generating Image Number: 16 for target class tensor([2]). Step 250, Loss: 0.05196670815348625\n",
      "Generating Image Number: 16 for target class tensor([2]). Step 300, Loss: 0.04746158421039581\n",
      "Generating Image Number: 16 for target class tensor([2]). Step 350, Loss: 0.04333614930510521\n",
      "Generating Image Number: 16 for target class tensor([2]). Step 400, Loss: 0.03897775709629059\n",
      "Generating Image Number: 16 for target class tensor([2]). Step 450, Loss: 0.03614896163344383\n",
      "Generating Image Number: 17 for target class tensor([2]). Step 0, Loss: 0.42530137300491333\n",
      "Generating Image Number: 17 for target class tensor([2]). Step 50, Loss: 0.20085042715072632\n",
      "Generating Image Number: 17 for target class tensor([2]). Step 100, Loss: 0.1506553292274475\n",
      "Generating Image Number: 17 for target class tensor([2]). Step 150, Loss: 0.12735237181186676\n",
      "Generating Image Number: 17 for target class tensor([2]). Step 200, Loss: 0.10576710104942322\n",
      "Generating Image Number: 17 for target class tensor([2]). Step 250, Loss: 0.0898338183760643\n",
      "Generating Image Number: 17 for target class tensor([2]). Step 300, Loss: 0.08028436452150345\n",
      "Generating Image Number: 17 for target class tensor([2]). Step 350, Loss: 0.0743890330195427\n",
      "Generating Image Number: 17 for target class tensor([2]). Step 400, Loss: 0.06913969665765762\n",
      "Generating Image Number: 17 for target class tensor([2]). Step 450, Loss: 0.06419608741998672\n",
      "Generating Image Number: 18 for target class tensor([2]). Step 0, Loss: 22.93972396850586\n",
      "Generating Image Number: 18 for target class tensor([2]). Step 50, Loss: 0.10502984374761581\n",
      "Generating Image Number: 18 for target class tensor([2]). Step 100, Loss: 0.09778495877981186\n",
      "Generating Image Number: 18 for target class tensor([2]). Step 150, Loss: 0.09112261980772018\n",
      "Generating Image Number: 18 for target class tensor([2]). Step 200, Loss: 0.07513617724180222\n",
      "Generating Image Number: 18 for target class tensor([2]). Step 250, Loss: 0.05889372155070305\n",
      "Generating Image Number: 18 for target class tensor([2]). Step 300, Loss: 0.05743921920657158\n",
      "Generating Image Number: 18 for target class tensor([2]). Step 350, Loss: 0.056786298751831055\n",
      "Generating Image Number: 18 for target class tensor([2]). Step 400, Loss: 0.05605180561542511\n",
      "Generating Image Number: 18 for target class tensor([2]). Step 450, Loss: 0.055344969034194946\n",
      "Generating Image Number: 19 for target class tensor([2]). Step 0, Loss: 2.4124088287353516\n",
      "Generating Image Number: 19 for target class tensor([2]). Step 50, Loss: 1.700421690940857\n",
      "Generating Image Number: 19 for target class tensor([2]). Step 100, Loss: 1.3441431522369385\n",
      "Generating Image Number: 19 for target class tensor([2]). Step 150, Loss: 1.0555142164230347\n",
      "Generating Image Number: 19 for target class tensor([2]). Step 200, Loss: 0.885699987411499\n",
      "Generating Image Number: 19 for target class tensor([2]). Step 250, Loss: 0.7650516033172607\n",
      "Generating Image Number: 19 for target class tensor([2]). Step 300, Loss: 0.6779960989952087\n",
      "Generating Image Number: 19 for target class tensor([2]). Step 350, Loss: 0.6204681992530823\n",
      "Generating Image Number: 19 for target class tensor([2]). Step 400, Loss: 0.5854310989379883\n",
      "Generating Image Number: 19 for target class tensor([2]). Step 450, Loss: 0.5593950748443604\n",
      "Generating Image Number: 20 for target class tensor([2]). Step 0, Loss: 0.3746148943901062\n",
      "Generating Image Number: 20 for target class tensor([2]). Step 50, Loss: 0.114444799721241\n",
      "Generating Image Number: 20 for target class tensor([2]). Step 100, Loss: 0.08137344568967819\n",
      "Generating Image Number: 20 for target class tensor([2]). Step 150, Loss: 0.06344340741634369\n",
      "Generating Image Number: 20 for target class tensor([2]). Step 200, Loss: 0.052054524421691895\n",
      "Generating Image Number: 20 for target class tensor([2]). Step 250, Loss: 0.04285681992769241\n",
      "Generating Image Number: 20 for target class tensor([2]). Step 300, Loss: 0.036856509745121\n",
      "Generating Image Number: 20 for target class tensor([2]). Step 350, Loss: 0.0327456071972847\n",
      "Generating Image Number: 20 for target class tensor([2]). Step 400, Loss: 0.029467569664120674\n",
      "Generating Image Number: 20 for target class tensor([2]). Step 450, Loss: 0.02700083889067173\n"
     ]
    }
   ],
   "source": [
    "torch.manual_seed(200)\n",
    "latent_vectors = torch.randn(img_count, z_dim, 1, 1, requires_grad=True) # Start with 20 random noises\n",
    "class2_optimized_latent_vectors = recover_images(img_count, 2, latent_vectors)"
   ]
  },
  {
   "cell_type": "code",
   "execution_count": 23,
   "id": "0381b36d-6c92-43bc-b776-1eefd3eab451",
   "metadata": {
    "scrolled": true
   },
   "outputs": [
    {
     "name": "stdout",
     "output_type": "stream",
     "text": [
      "Generating Image Number: 1 for target class tensor([3]). Step 0, Loss: 0.1949106901884079\n",
      "Generating Image Number: 1 for target class tensor([3]). Step 50, Loss: 0.016423868015408516\n",
      "Generating Image Number: 1 for target class tensor([3]). Step 100, Loss: 0.012819734402000904\n",
      "Generating Image Number: 1 for target class tensor([3]). Step 150, Loss: 2.177578926086426\n",
      "Generating Image Number: 1 for target class tensor([3]). Step 200, Loss: 2.045691967010498\n",
      "Generating Image Number: 1 for target class tensor([3]). Step 250, Loss: 1.9964935779571533\n",
      "Generating Image Number: 1 for target class tensor([3]). Step 300, Loss: 1.9568548202514648\n",
      "Generating Image Number: 1 for target class tensor([3]). Step 350, Loss: 1.9210299253463745\n",
      "Generating Image Number: 1 for target class tensor([3]). Step 400, Loss: 1.8478693962097168\n",
      "Generating Image Number: 1 for target class tensor([3]). Step 450, Loss: 1.744506597518921\n",
      "Generating Image Number: 2 for target class tensor([3]). Step 0, Loss: 0.9303982257843018\n",
      "Generating Image Number: 2 for target class tensor([3]). Step 50, Loss: 0.5847908854484558\n",
      "Generating Image Number: 2 for target class tensor([3]). Step 100, Loss: 0.3851300776004791\n",
      "Generating Image Number: 2 for target class tensor([3]). Step 150, Loss: 0.31713739037513733\n",
      "Generating Image Number: 2 for target class tensor([3]). Step 200, Loss: 0.26954230666160583\n",
      "Generating Image Number: 2 for target class tensor([3]). Step 250, Loss: 0.23472903668880463\n",
      "Generating Image Number: 2 for target class tensor([3]). Step 300, Loss: 0.21019616723060608\n",
      "Generating Image Number: 2 for target class tensor([3]). Step 350, Loss: 0.19008804857730865\n",
      "Generating Image Number: 2 for target class tensor([3]). Step 400, Loss: 0.17130088806152344\n",
      "Generating Image Number: 2 for target class tensor([3]). Step 450, Loss: 0.1566186100244522\n",
      "Generating Image Number: 3 for target class tensor([3]). Step 0, Loss: 0.4332754909992218\n",
      "Generating Image Number: 3 for target class tensor([3]). Step 50, Loss: 0.20953020453453064\n",
      "Generating Image Number: 3 for target class tensor([3]). Step 100, Loss: 0.18187585473060608\n",
      "Generating Image Number: 3 for target class tensor([3]). Step 150, Loss: 0.16426222026348114\n",
      "Generating Image Number: 3 for target class tensor([3]). Step 200, Loss: 0.14827845990657806\n",
      "Generating Image Number: 3 for target class tensor([3]). Step 250, Loss: 0.1376003473997116\n",
      "Generating Image Number: 3 for target class tensor([3]). Step 300, Loss: 0.12795232236385345\n",
      "Generating Image Number: 3 for target class tensor([3]). Step 350, Loss: 0.11957264691591263\n",
      "Generating Image Number: 3 for target class tensor([3]). Step 400, Loss: 0.109442800283432\n",
      "Generating Image Number: 3 for target class tensor([3]). Step 450, Loss: 0.10158892720937729\n",
      "Generating Image Number: 4 for target class tensor([3]). Step 0, Loss: 1.7953879833221436\n",
      "Generating Image Number: 4 for target class tensor([3]). Step 50, Loss: 1.017277717590332\n",
      "Generating Image Number: 4 for target class tensor([3]). Step 100, Loss: 0.9273069500923157\n",
      "Generating Image Number: 4 for target class tensor([3]). Step 150, Loss: 0.8314998149871826\n",
      "Generating Image Number: 4 for target class tensor([3]). Step 200, Loss: 0.7517455220222473\n",
      "Generating Image Number: 4 for target class tensor([3]). Step 250, Loss: 0.6866952180862427\n",
      "Generating Image Number: 4 for target class tensor([3]). Step 300, Loss: 0.6238093376159668\n",
      "Generating Image Number: 4 for target class tensor([3]). Step 350, Loss: 0.5649291276931763\n",
      "Generating Image Number: 4 for target class tensor([3]). Step 400, Loss: 0.52495276927948\n",
      "Generating Image Number: 4 for target class tensor([3]). Step 450, Loss: 0.49665260314941406\n",
      "Generating Image Number: 5 for target class tensor([3]). Step 0, Loss: 2.471480369567871\n",
      "Generating Image Number: 5 for target class tensor([3]). Step 50, Loss: 0.005887428764253855\n",
      "Generating Image Number: 5 for target class tensor([3]). Step 100, Loss: 0.005307867657393217\n",
      "Generating Image Number: 5 for target class tensor([3]). Step 150, Loss: 0.005034151952713728\n",
      "Generating Image Number: 5 for target class tensor([3]). Step 200, Loss: 0.004789309576153755\n",
      "Generating Image Number: 5 for target class tensor([3]). Step 250, Loss: 0.004666865803301334\n",
      "Generating Image Number: 5 for target class tensor([3]). Step 300, Loss: 0.004583448171615601\n",
      "Generating Image Number: 5 for target class tensor([3]). Step 350, Loss: 0.0044958703219890594\n",
      "Generating Image Number: 5 for target class tensor([3]). Step 400, Loss: 0.004411014262586832\n",
      "Generating Image Number: 5 for target class tensor([3]). Step 450, Loss: 0.004325913731008768\n",
      "Generating Image Number: 6 for target class tensor([3]). Step 0, Loss: 1.5773260593414307\n",
      "Generating Image Number: 6 for target class tensor([3]). Step 50, Loss: 0.4007773995399475\n",
      "Generating Image Number: 6 for target class tensor([3]). Step 100, Loss: 0.31667935848236084\n",
      "Generating Image Number: 6 for target class tensor([3]). Step 150, Loss: 0.260091632604599\n",
      "Generating Image Number: 6 for target class tensor([3]). Step 200, Loss: 0.21827638149261475\n",
      "Generating Image Number: 6 for target class tensor([3]). Step 250, Loss: 0.18859542906284332\n",
      "Generating Image Number: 6 for target class tensor([3]). Step 300, Loss: 0.17136125266551971\n",
      "Generating Image Number: 6 for target class tensor([3]). Step 350, Loss: 0.15863391757011414\n",
      "Generating Image Number: 6 for target class tensor([3]). Step 400, Loss: 0.14793911576271057\n",
      "Generating Image Number: 6 for target class tensor([3]). Step 450, Loss: 0.13957636058330536\n",
      "Generating Image Number: 7 for target class tensor([3]). Step 0, Loss: 1.2486377954483032\n",
      "Generating Image Number: 7 for target class tensor([3]). Step 50, Loss: 0.6920323967933655\n",
      "Generating Image Number: 7 for target class tensor([3]). Step 100, Loss: 0.5384575128555298\n",
      "Generating Image Number: 7 for target class tensor([3]). Step 150, Loss: 0.467693030834198\n",
      "Generating Image Number: 7 for target class tensor([3]). Step 200, Loss: 0.39974406361579895\n",
      "Generating Image Number: 7 for target class tensor([3]). Step 250, Loss: 0.3574095368385315\n",
      "Generating Image Number: 7 for target class tensor([3]). Step 300, Loss: 0.3290882706642151\n",
      "Generating Image Number: 7 for target class tensor([3]). Step 350, Loss: 0.30342626571655273\n",
      "Generating Image Number: 7 for target class tensor([3]). Step 400, Loss: 0.27774500846862793\n",
      "Generating Image Number: 7 for target class tensor([3]). Step 450, Loss: 0.25896337628364563\n",
      "Generating Image Number: 8 for target class tensor([3]). Step 0, Loss: 0.2462700754404068\n",
      "Generating Image Number: 8 for target class tensor([3]). Step 50, Loss: 0.005259249359369278\n",
      "Generating Image Number: 8 for target class tensor([3]). Step 100, Loss: 0.004032932687550783\n",
      "Generating Image Number: 8 for target class tensor([3]). Step 150, Loss: 0.0036435427609831095\n",
      "Generating Image Number: 8 for target class tensor([3]). Step 200, Loss: 0.0034874591510742903\n",
      "Generating Image Number: 8 for target class tensor([3]). Step 250, Loss: 0.0033611729741096497\n",
      "Generating Image Number: 8 for target class tensor([3]). Step 300, Loss: 0.0032270282972604036\n",
      "Generating Image Number: 8 for target class tensor([3]). Step 350, Loss: 0.0030885871965438128\n",
      "Generating Image Number: 8 for target class tensor([3]). Step 400, Loss: 0.0029502459801733494\n",
      "Generating Image Number: 8 for target class tensor([3]). Step 450, Loss: 0.002817234955728054\n",
      "Generating Image Number: 9 for target class tensor([3]). Step 0, Loss: 1.0663117170333862\n",
      "Generating Image Number: 9 for target class tensor([3]). Step 50, Loss: 0.01609875075519085\n",
      "Generating Image Number: 9 for target class tensor([3]). Step 100, Loss: 0.009291384369134903\n",
      "Generating Image Number: 9 for target class tensor([3]). Step 150, Loss: 0.007765935268253088\n",
      "Generating Image Number: 9 for target class tensor([3]). Step 200, Loss: 0.0068825320340693\n",
      "Generating Image Number: 9 for target class tensor([3]). Step 250, Loss: 0.006125248968601227\n",
      "Generating Image Number: 9 for target class tensor([3]). Step 300, Loss: 0.005536934826523066\n",
      "Generating Image Number: 9 for target class tensor([3]). Step 350, Loss: 0.004375289659947157\n",
      "Generating Image Number: 9 for target class tensor([3]). Step 400, Loss: 0.003059470560401678\n",
      "Generating Image Number: 9 for target class tensor([3]). Step 450, Loss: 0.002472441177815199\n",
      "Generating Image Number: 10 for target class tensor([3]). Step 0, Loss: 2.3174080848693848\n",
      "Generating Image Number: 10 for target class tensor([3]). Step 50, Loss: 0.019920526072382927\n",
      "Generating Image Number: 10 for target class tensor([3]). Step 100, Loss: 0.005997162777930498\n",
      "Generating Image Number: 10 for target class tensor([3]). Step 150, Loss: 0.005858156364411116\n",
      "Generating Image Number: 10 for target class tensor([3]). Step 200, Loss: 0.005760496947914362\n",
      "Generating Image Number: 10 for target class tensor([3]). Step 250, Loss: 0.005673970561474562\n",
      "Generating Image Number: 10 for target class tensor([3]). Step 300, Loss: 0.00558779202401638\n",
      "Generating Image Number: 10 for target class tensor([3]). Step 350, Loss: 0.005508481990545988\n",
      "Generating Image Number: 10 for target class tensor([3]). Step 400, Loss: 0.005415412597358227\n",
      "Generating Image Number: 10 for target class tensor([3]). Step 450, Loss: 0.0052904365584254265\n",
      "Generating Image Number: 11 for target class tensor([3]). Step 0, Loss: 1.0469136238098145\n",
      "Generating Image Number: 11 for target class tensor([3]). Step 50, Loss: 0.012385832145810127\n",
      "Generating Image Number: 11 for target class tensor([3]). Step 100, Loss: 0.007862688973546028\n",
      "Generating Image Number: 11 for target class tensor([3]). Step 150, Loss: 0.006622983608394861\n",
      "Generating Image Number: 11 for target class tensor([3]). Step 200, Loss: 0.005329804494976997\n",
      "Generating Image Number: 11 for target class tensor([3]). Step 250, Loss: 0.004210298415273428\n",
      "Generating Image Number: 11 for target class tensor([3]). Step 300, Loss: 0.003955161664634943\n",
      "Generating Image Number: 11 for target class tensor([3]). Step 350, Loss: 0.0037461596075445414\n",
      "Generating Image Number: 11 for target class tensor([3]). Step 400, Loss: 0.0035592082422226667\n",
      "Generating Image Number: 11 for target class tensor([3]). Step 450, Loss: 0.0033887361641973257\n",
      "Generating Image Number: 12 for target class tensor([3]). Step 0, Loss: 2.930640459060669\n",
      "Generating Image Number: 12 for target class tensor([3]). Step 50, Loss: 0.504528820514679\n",
      "Generating Image Number: 12 for target class tensor([3]). Step 100, Loss: 0.35547319054603577\n",
      "Generating Image Number: 12 for target class tensor([3]). Step 150, Loss: 0.28156912326812744\n",
      "Generating Image Number: 12 for target class tensor([3]). Step 200, Loss: 0.24435314536094666\n",
      "Generating Image Number: 12 for target class tensor([3]). Step 250, Loss: 0.2172820121049881\n",
      "Generating Image Number: 12 for target class tensor([3]). Step 300, Loss: 0.19504223763942719\n",
      "Generating Image Number: 12 for target class tensor([3]). Step 350, Loss: 0.18033957481384277\n",
      "Generating Image Number: 12 for target class tensor([3]). Step 400, Loss: 0.16867822408676147\n",
      "Generating Image Number: 12 for target class tensor([3]). Step 450, Loss: 0.15919435024261475\n",
      "Generating Image Number: 13 for target class tensor([3]). Step 0, Loss: 2.461679697036743\n",
      "Generating Image Number: 13 for target class tensor([3]). Step 50, Loss: 0.3643251359462738\n",
      "Generating Image Number: 13 for target class tensor([3]). Step 100, Loss: 0.2969728112220764\n",
      "Generating Image Number: 13 for target class tensor([3]). Step 150, Loss: 0.24728743731975555\n",
      "Generating Image Number: 13 for target class tensor([3]). Step 200, Loss: 0.21084760129451752\n",
      "Generating Image Number: 13 for target class tensor([3]). Step 250, Loss: 0.18507105112075806\n",
      "Generating Image Number: 13 for target class tensor([3]). Step 300, Loss: 0.16190342605113983\n",
      "Generating Image Number: 13 for target class tensor([3]). Step 350, Loss: 0.14470063149929047\n",
      "Generating Image Number: 13 for target class tensor([3]). Step 400, Loss: 0.12943051755428314\n",
      "Generating Image Number: 13 for target class tensor([3]). Step 450, Loss: 0.11661791801452637\n",
      "Generating Image Number: 14 for target class tensor([3]). Step 0, Loss: 0.961976170539856\n",
      "Generating Image Number: 14 for target class tensor([3]). Step 50, Loss: 0.01659342274069786\n",
      "Generating Image Number: 14 for target class tensor([3]). Step 100, Loss: 0.006120509933680296\n",
      "Generating Image Number: 14 for target class tensor([3]). Step 150, Loss: 0.0059044938534498215\n",
      "Generating Image Number: 14 for target class tensor([3]). Step 200, Loss: 0.0056912763975560665\n",
      "Generating Image Number: 14 for target class tensor([3]). Step 250, Loss: 0.005499234888702631\n",
      "Generating Image Number: 14 for target class tensor([3]). Step 300, Loss: 0.005322927143424749\n",
      "Generating Image Number: 14 for target class tensor([3]). Step 350, Loss: 0.005128205753862858\n",
      "Generating Image Number: 14 for target class tensor([3]). Step 400, Loss: 0.004929887596517801\n",
      "Generating Image Number: 14 for target class tensor([3]). Step 450, Loss: 0.004737581126391888\n",
      "Generating Image Number: 15 for target class tensor([3]). Step 0, Loss: 2.1192004680633545\n",
      "Generating Image Number: 15 for target class tensor([3]). Step 50, Loss: 1.488201379776001\n",
      "Generating Image Number: 15 for target class tensor([3]). Step 100, Loss: 1.169895052909851\n",
      "Generating Image Number: 15 for target class tensor([3]). Step 150, Loss: 1.0203958749771118\n",
      "Generating Image Number: 15 for target class tensor([3]). Step 200, Loss: 0.9237061142921448\n",
      "Generating Image Number: 15 for target class tensor([3]). Step 250, Loss: 0.8698018193244934\n",
      "Generating Image Number: 15 for target class tensor([3]). Step 300, Loss: 0.7836272120475769\n",
      "Generating Image Number: 15 for target class tensor([3]). Step 350, Loss: 0.7238783836364746\n",
      "Generating Image Number: 15 for target class tensor([3]). Step 400, Loss: 0.670357882976532\n",
      "Generating Image Number: 15 for target class tensor([3]). Step 450, Loss: 0.6419352293014526\n",
      "Generating Image Number: 16 for target class tensor([3]). Step 0, Loss: 3.82560396194458\n",
      "Generating Image Number: 16 for target class tensor([3]). Step 50, Loss: 2.11525559425354\n",
      "Generating Image Number: 16 for target class tensor([3]). Step 100, Loss: 1.8120651245117188\n",
      "Generating Image Number: 16 for target class tensor([3]). Step 150, Loss: 1.6948761940002441\n",
      "Generating Image Number: 16 for target class tensor([3]). Step 200, Loss: 1.633129596710205\n",
      "Generating Image Number: 16 for target class tensor([3]). Step 250, Loss: 1.456882119178772\n",
      "Generating Image Number: 16 for target class tensor([3]). Step 300, Loss: 1.3653854131698608\n",
      "Generating Image Number: 16 for target class tensor([3]). Step 350, Loss: 1.2558081150054932\n",
      "Generating Image Number: 16 for target class tensor([3]). Step 400, Loss: 1.1716474294662476\n",
      "Generating Image Number: 16 for target class tensor([3]). Step 450, Loss: 1.1056599617004395\n",
      "Generating Image Number: 17 for target class tensor([3]). Step 0, Loss: 1.8774194717407227\n",
      "Generating Image Number: 17 for target class tensor([3]). Step 50, Loss: 0.6440156698226929\n",
      "Generating Image Number: 17 for target class tensor([3]). Step 100, Loss: 0.5156619548797607\n",
      "Generating Image Number: 17 for target class tensor([3]). Step 150, Loss: 0.4516310691833496\n",
      "Generating Image Number: 17 for target class tensor([3]). Step 200, Loss: 0.41187894344329834\n",
      "Generating Image Number: 17 for target class tensor([3]). Step 250, Loss: 0.37572231888771057\n",
      "Generating Image Number: 17 for target class tensor([3]). Step 300, Loss: 0.3152492046356201\n",
      "Generating Image Number: 17 for target class tensor([3]). Step 350, Loss: 0.2757720947265625\n",
      "Generating Image Number: 17 for target class tensor([3]). Step 400, Loss: 0.25431084632873535\n",
      "Generating Image Number: 17 for target class tensor([3]). Step 450, Loss: 0.2389543652534485\n",
      "Generating Image Number: 18 for target class tensor([3]). Step 0, Loss: 3.58280348777771\n",
      "Generating Image Number: 18 for target class tensor([3]). Step 50, Loss: 0.7239618301391602\n",
      "Generating Image Number: 18 for target class tensor([3]). Step 100, Loss: 0.42320677638053894\n",
      "Generating Image Number: 18 for target class tensor([3]). Step 150, Loss: 0.3364166021347046\n",
      "Generating Image Number: 18 for target class tensor([3]). Step 200, Loss: 0.2813328802585602\n",
      "Generating Image Number: 18 for target class tensor([3]). Step 250, Loss: 0.23404128849506378\n",
      "Generating Image Number: 18 for target class tensor([3]). Step 300, Loss: 0.1987893283367157\n",
      "Generating Image Number: 18 for target class tensor([3]). Step 350, Loss: 0.17274411022663116\n",
      "Generating Image Number: 18 for target class tensor([3]). Step 400, Loss: 0.15361641347408295\n",
      "Generating Image Number: 18 for target class tensor([3]). Step 450, Loss: 0.14060339331626892\n",
      "Generating Image Number: 19 for target class tensor([3]). Step 0, Loss: 3.2266194820404053\n",
      "Generating Image Number: 19 for target class tensor([3]). Step 50, Loss: 0.9962739944458008\n",
      "Generating Image Number: 19 for target class tensor([3]). Step 100, Loss: 0.9553613662719727\n",
      "Generating Image Number: 19 for target class tensor([3]). Step 150, Loss: 0.9180877208709717\n",
      "Generating Image Number: 19 for target class tensor([3]). Step 200, Loss: 0.8698486089706421\n",
      "Generating Image Number: 19 for target class tensor([3]). Step 250, Loss: 0.8259706497192383\n",
      "Generating Image Number: 19 for target class tensor([3]). Step 300, Loss: 0.767512321472168\n",
      "Generating Image Number: 19 for target class tensor([3]). Step 350, Loss: 0.709053635597229\n",
      "Generating Image Number: 19 for target class tensor([3]). Step 400, Loss: 0.6623026728630066\n",
      "Generating Image Number: 19 for target class tensor([3]). Step 450, Loss: 0.6155794262886047\n",
      "Generating Image Number: 20 for target class tensor([3]). Step 0, Loss: 3.130232810974121\n",
      "Generating Image Number: 20 for target class tensor([3]). Step 50, Loss: 0.835951566696167\n",
      "Generating Image Number: 20 for target class tensor([3]). Step 100, Loss: 0.5634865760803223\n",
      "Generating Image Number: 20 for target class tensor([3]). Step 150, Loss: 1.4625558853149414\n",
      "Generating Image Number: 20 for target class tensor([3]). Step 200, Loss: 1.0563971996307373\n",
      "Generating Image Number: 20 for target class tensor([3]). Step 250, Loss: 0.4711712896823883\n",
      "Generating Image Number: 20 for target class tensor([3]). Step 300, Loss: 0.4378107190132141\n",
      "Generating Image Number: 20 for target class tensor([3]). Step 350, Loss: 0.4299050271511078\n",
      "Generating Image Number: 20 for target class tensor([3]). Step 400, Loss: 0.4239012598991394\n",
      "Generating Image Number: 20 for target class tensor([3]). Step 450, Loss: 0.41223856806755066\n"
     ]
    }
   ],
   "source": [
    "torch.manual_seed(300)\n",
    "latent_vectors = torch.randn(img_count, z_dim, 1, 1, requires_grad=True) # Start with 20 random noises\n",
    "class3_optimized_latent_vectors = recover_images(img_count, 3, latent_vectors)"
   ]
  },
  {
   "cell_type": "code",
   "execution_count": 24,
   "id": "ae6425a5-dd86-4e87-8112-883336345ac9",
   "metadata": {},
   "outputs": [],
   "source": [
    "z0_1 = class0_optimized_latent_vectors[0]\n",
    "z0_2 = class0_optimized_latent_vectors[1]\n",
    "z0_3 = class0_optimized_latent_vectors[2]"
   ]
  },
  {
   "cell_type": "code",
   "execution_count": 25,
   "id": "3a6ed4fb-b693-4963-afcf-17a512e50b5f",
   "metadata": {},
   "outputs": [
    {
     "name": "stdout",
     "output_type": "stream",
     "text": [
      "torch.Size([64, 64])\n"
     ]
    }
   ],
   "source": [
    "# Display the generated image\n",
    "img = gen(z0_1.to(device)).squeeze(dim=0).squeeze(dim=0)\n",
    "print(img.shape)"
   ]
  },
  {
   "cell_type": "code",
   "execution_count": 26,
   "id": "88fc9416-c6ca-486b-bd72-63885de78d1c",
   "metadata": {},
   "outputs": [
    {
     "data": {
      "text/plain": [
       "<matplotlib.image.AxesImage at 0x22409a4beb0>"
      ]
     },
     "execution_count": 26,
     "metadata": {},
     "output_type": "execute_result"
    },
    {
     "data": {
      "image/png": "[encoded data removed]",
      "text/plain": [
       "<Figure size 640x480 with 1 Axes>"
      ]
     },
     "metadata": {},
     "output_type": "display_data"
    }
   ],
   "source": [
    "plt.axis(False)\n",
    "plt.title('Recovered Image:')\n",
    "plt.imshow(img.cpu().detach(), cmap='gray')"
   ]
  },
  {
   "cell_type": "code",
   "execution_count": 27,
   "id": "bb0fc370-78c5-495f-b1e7-1239873b4ff8",
   "metadata": {},
   "outputs": [],
   "source": [
    "z1 = class1_optimized_latent_vectors[0]\n",
    "z2 = class1_optimized_latent_vectors[1]\n",
    "z3 = class1_optimized_latent_vectors[2]"
   ]
  },
  {
   "cell_type": "code",
   "execution_count": 28,
   "id": "07f38b7d-14f6-4d63-9efa-cb96ec2e1d35",
   "metadata": {},
   "outputs": [
    {
     "name": "stdout",
     "output_type": "stream",
     "text": [
      "torch.Size([64, 64])\n"
     ]
    }
   ],
   "source": [
    "# Display the generated image\n",
    "img = gen(z1.to(device)).squeeze(dim=0).squeeze(dim=0)\n",
    "print(img.shape)"
   ]
  },
  {
   "cell_type": "code",
   "execution_count": 29,
   "id": "8cad57ff-7961-4078-9dd4-1e0b4879ff56",
   "metadata": {},
   "outputs": [
    {
     "data": {
      "text/plain": [
       "<matplotlib.image.AxesImage at 0x22409be0ee0>"
      ]
     },
     "execution_count": 29,
     "metadata": {},
     "output_type": "execute_result"
    },
    {
     "data": {
      "image/png": "[encoded data removed]",
      "text/plain": [
       "<Figure size 640x480 with 1 Axes>"
      ]
     },
     "metadata": {},
     "output_type": "display_data"
    }
   ],
   "source": [
    "plt.axis(False)\n",
    "plt.title('Recovered Image:')\n",
    "plt.imshow(img.cpu().detach(), cmap='gray')"
   ]
  },
  {
   "cell_type": "code",
   "execution_count": 30,
   "id": "52ecd67d-cb2d-44a3-b375-759d63db75b1",
   "metadata": {},
   "outputs": [],
   "source": [
    "                                                            # Dataset Loading\n",
    "# Load the .pkl files in as numpy arrays of pixels\n",
    "def load_tumor_data(file_path):\n",
    "    train_xs = []\n",
    "    train_ys = []\n",
    "    \"\"\" Load Digits Data from pickle data\n",
    "    return:\n",
    "    @xs: numpy.array, (n, c, w, h) \n",
    "    @ys: numpy.array, (n, ), 0-9\n",
    "    \"\"\"\n",
    "    with open(file_path, 'rb') as file:\n",
    "        data = pickle.load(file)\n",
    "        train_xs.append(data[\"data\"])\n",
    "        train_ys.append(data[\"labels\"])\n",
    "    train_xs = np.concatenate(train_xs, axis=0)\n",
    "    train_ys = np.concatenate(train_ys, axis=0)\n",
    "    \n",
    "    return train_xs, train_ys"
   ]
  },
  {
   "cell_type": "code",
   "execution_count": 31,
   "id": "ca72f62f-1eec-4b17-a8ce-fd66781f64f6",
   "metadata": {},
   "outputs": [],
   "source": [
    "# Custom Tumor Dataset\n",
    "class TumorDataset(data.Dataset):\n",
    "    def __init__(self, xs, ys, is_train=True):\n",
    "        self.xs = xs\n",
    "        self.ys = ys\n",
    "\n",
    "        if is_train is True:\n",
    "            self.transform = transforms.Compose([\n",
    "                transforms.ToPILImage(),\n",
    "                transforms.Resize((64, 64)),\n",
    "                transforms.ToTensor(),\n",
    "                transforms.Normalize(\n",
    "                    [0.5],\n",
    "                    [0.5]\n",
    "                )\n",
    "            ])\n",
    "        else:\n",
    "            self.transform = transforms.Compose([\n",
    "                transforms.ToPILImage(),\n",
    "                transforms.Resize((64, 64)),\n",
    "                transforms.ToTensor(),\n",
    "                transforms.Normalize(\n",
    "                    (0.4914, 0.4822, 0.4465),\n",
    "                    (0.2023, 0.1994, 0.2010)\n",
    "                )\n",
    "            ])\n",
    "\n",
    "    def __len__(self):\n",
    "        return len(self.xs)\n",
    "\n",
    "    def __getitem__(self, index):\n",
    "        img = self.xs[index]\n",
    "        #print(img.shape)\n",
    "        label = self.ys[index]\n",
    "\n",
    "        img = img.transpose((1, 2, 0)).astype(np.uint8)\n",
    "        img = self.transform(img)\n",
    "\n",
    "        img = torch.FloatTensor(img)\n",
    "        label = torch.LongTensor([label])[0]\n",
    "        return img, label"
   ]
  },
  {
   "cell_type": "code",
   "execution_count": 32,
   "id": "ceb91588-ef69-4373-b33f-74aed6c246bb",
   "metadata": {},
   "outputs": [],
   "source": [
    "def create_dataset(train_xs, train_ys):\n",
    "    tumor_dataset = TumorDataset(train_xs, train_ys, is_train=True)\n",
    "\n",
    "    return tumor_dataset"
   ]
  },
  {
   "cell_type": "code",
   "execution_count": 33,
   "id": "0415fba0-830c-42c6-bbde-c6958e779fbb",
   "metadata": {},
   "outputs": [],
   "source": [
    "def create_dataloader(dataset):\n",
    "    dataloader = DataLoader(dataset=dataset, batch_size=128, shuffle=True)\n",
    "\n",
    "    return dataloader"
   ]
  },
  {
   "cell_type": "code",
   "execution_count": 34,
   "id": "726d4995-5133-4037-ab0e-f2705470cdc9",
   "metadata": {},
   "outputs": [
    {
     "name": "stdout",
     "output_type": "stream",
     "text": [
      "(13927, 1, 32, 32)\n",
      "<class 'numpy.ndarray'>\n"
     ]
    }
   ],
   "source": [
    "# Load in the pickle dataset file\n",
    "train_xs, train_ys = load_tumor_data('datasets/Tumor/tumor4train.pkl')\n",
    "#train_xs = train_xs[:, 1, :, :]\n",
    "#train_xs = np.expand_dims(train_xs, axis=1)\n",
    "train_xs = train_xs.mean(axis=1, keepdims=True)\n",
    "print(train_xs.shape)\n",
    "print(type(train_xs))"
   ]
  },
  {
   "cell_type": "code",
   "execution_count": 35,
   "id": "a684b01a-eb4a-4210-9f59-d613085a404a",
   "metadata": {},
   "outputs": [],
   "source": [
    "# Create the dataset\n",
    "tumor_dataset = create_dataset(train_xs, train_ys)"
   ]
  },
  {
   "cell_type": "code",
   "execution_count": 36,
   "id": "193f07cc-d34f-425e-aa08-62b6d6adbad6",
   "metadata": {},
   "outputs": [],
   "source": [
    "def visualize_image(image_x):\n",
    "    # We have to visualize by reverting the normalization (just for visualization).\n",
    "    mean = torch.tensor([0.5])\n",
    "    std = torch.tensor([0.5])\n",
    "\n",
    "    image = image_x * std + mean  # Denormalize the image\n",
    "\n",
    "    image = torch.clamp(image, 0, 1) # Clip values to [0, 1] to ensure valid range for display\n",
    "\n",
    "    # Permute the image to (H, W, C) for matplotlib\n",
    "    \n",
    "    image = image.permute(1, 2, 0)\n",
    "\n",
    "    plt.imshow(image, cmap='gray')"
   ]
  },
  {
   "cell_type": "code",
   "execution_count": 37,
   "id": "16e93c17-a89b-46a2-8198-71e66e370f4f",
   "metadata": {},
   "outputs": [
    {
     "name": "stdout",
     "output_type": "stream",
     "text": [
      "torch.Size([1, 64, 64])\n"
     ]
    },
    {
     "data": {
      "image/png": "[encoded data removed]",
      "text/plain": [
       "<Figure size 640x480 with 1 Axes>"
      ]
     },
     "metadata": {},
     "output_type": "display_data"
    }
   ],
   "source": [
    "# Visualize the first tumor sample. \n",
    "image_x, image_y = tumor_dataset[7000]\n",
    "print(image_x.shape)\n",
    "visualize_image(image_x)"
   ]
  },
  {
   "cell_type": "code",
   "execution_count": 38,
   "id": "60e2da47-7cb6-493e-aeda-aa80d7965de7",
   "metadata": {},
   "outputs": [],
   "source": [
    "from scipy.spatial.distance import cosine"
   ]
  },
  {
   "cell_type": "code",
   "execution_count": 39,
   "id": "5a7937e5-b808-4b3e-8288-75dcd9862340",
   "metadata": {},
   "outputs": [],
   "source": [
    "# Get the feature embeddings\n",
    "tfcnn_model = target_model = load_target_model(base_net='TFCNN', n_classes=4, path='saved models/fedavg_global_model.pth').to(device)\n",
    "model_embeddings = tfcnn_model.encoder.to(device)"
   ]
  },
  {
   "cell_type": "code",
   "execution_count": 40,
   "id": "737e3d92-45b6-45f6-9bf2-d51f379d6ac8",
   "metadata": {},
   "outputs": [],
   "source": [
    "# Preprocessing\n",
    "preprocess = transforms.Compose([\n",
    "    transforms.Resize(256),\n",
    "    transforms.CenterCrop(224),\n",
    "    transforms.ToTensor(),\n",
    "])"
   ]
  },
  {
   "cell_type": "code",
   "execution_count": 41,
   "id": "babb1015-bdfb-439b-bea1-81f9f50dd74e",
   "metadata": {},
   "outputs": [],
   "source": [
    "def get_feature(img):\n",
    "    with torch.no_grad():\n",
    "        features = model_embeddings(img).squeeze()\n",
    "    return features.cpu().numpy()"
   ]
  },
  {
   "cell_type": "code",
   "execution_count": 42,
   "id": "79f38654-6670-440d-a322-b2cae18a71d8",
   "metadata": {},
   "outputs": [
    {
     "data": {
      "text/plain": [
       "torch.Size([1, 64, 64])"
      ]
     },
     "execution_count": 42,
     "metadata": {},
     "output_type": "execute_result"
    }
   ],
   "source": [
    "# Send an original image through the model\n",
    "image_x, image_y = tumor_dataset[10]\n",
    "image_x.shape"
   ]
  },
  {
   "cell_type": "code",
   "execution_count": 43,
   "id": "a4a2659e-dcaa-4d4a-b5a5-06b363ce6534",
   "metadata": {},
   "outputs": [],
   "source": [
    "image_x = image_x.unsqueeze(dim=0)"
   ]
  },
  {
   "cell_type": "code",
   "execution_count": 44,
   "id": "14348bfc-5988-48f0-88cf-4761d7a99d89",
   "metadata": {},
   "outputs": [
    {
     "data": {
      "text/plain": [
       "torch.Size([1, 1, 64, 64])"
      ]
     },
     "execution_count": 44,
     "metadata": {},
     "output_type": "execute_result"
    }
   ],
   "source": [
    "image_x.shape"
   ]
  },
  {
   "cell_type": "code",
   "execution_count": 45,
   "id": "66160253-9543-4aba-bb81-031d51ef9623",
   "metadata": {},
   "outputs": [
    {
     "data": {
      "text/plain": [
       "torch.Size([1, 3, 64, 64])"
      ]
     },
     "execution_count": 45,
     "metadata": {},
     "output_type": "execute_result"
    }
   ],
   "source": [
    "image_x = image_x.repeat(1, 3, 1, 1)\n",
    "image_x = image_x.to(device)\n",
    "image_x.shape"
   ]
  },
  {
   "cell_type": "code",
   "execution_count": 46,
   "id": "f615c7d3-2dab-425d-81e1-2595ec59e230",
   "metadata": {},
   "outputs": [
    {
     "data": {
      "text/plain": [
       "(4096,)"
      ]
     },
     "execution_count": 46,
     "metadata": {},
     "output_type": "execute_result"
    }
   ],
   "source": [
    "features = get_feature(image_x)\n",
    "features.shape"
   ]
  },
  {
   "cell_type": "code",
   "execution_count": 47,
   "id": "31b9ddc9-3fc8-4a47-bfc7-74a6df27d672",
   "metadata": {},
   "outputs": [],
   "source": [
    "class0_original_images = []\n",
    "class1_original_images = []\n",
    "class2_original_images = []\n",
    "class3_original_images = []\n",
    "target_num = 1200 # 20 images for each class"
   ]
  },
  {
   "cell_type": "code",
   "execution_count": 48,
   "id": "e804c948-2dc8-41df-a633-113300baf12a",
   "metadata": {},
   "outputs": [],
   "source": [
    "for i in range(len(tumor_dataset)):\n",
    "    img_x, img_y = tumor_dataset[i]\n",
    "\n",
    "    if img_y == 0:\n",
    "        if len(class0_original_images) < target_num:\n",
    "            class0_original_images.append(img_x)\n",
    "    elif img_y == 1:\n",
    "        if len(class1_original_images) < target_num:\n",
    "            class1_original_images.append(img_x)\n",
    "    elif img_y == 2:\n",
    "        if len(class2_original_images) < target_num:\n",
    "            class2_original_images.append(img_x)\n",
    "    elif img_y == 3:\n",
    "        if len(class3_original_images) < target_num:\n",
    "            class3_original_images.append(img_x)"
   ]
  },
  {
   "cell_type": "code",
   "execution_count": 49,
   "id": "ef07c896-c4cd-48da-9e59-c9d7bd90a4e8",
   "metadata": {},
   "outputs": [
    {
     "data": {
      "text/plain": [
       "1200"
      ]
     },
     "execution_count": 49,
     "metadata": {},
     "output_type": "execute_result"
    }
   ],
   "source": [
    "len(class3_original_images)"
   ]
  },
  {
   "cell_type": "code",
   "execution_count": 50,
   "id": "e102404a-68a3-40c5-99a7-45813eb87f20",
   "metadata": {},
   "outputs": [
    {
     "data": {
      "text/plain": [
       "torch.Size([1, 3, 64, 64])"
      ]
     },
     "execution_count": 50,
     "metadata": {},
     "output_type": "execute_result"
    }
   ],
   "source": [
    "# Testing the cosine similarity\n",
    "class1_original_image = class1_original_images[8]\n",
    "class1_original_image = class1_original_image.unsqueeze(dim=0).to(device)\n",
    "class1_original_image = class1_original_image.repeat(1, 3, 1, 1)\n",
    "class1_original_image.shape"
   ]
  },
  {
   "cell_type": "code",
   "execution_count": 51,
   "id": "cb5d6c11-d86e-4f1d-9777-760a500837a9",
   "metadata": {},
   "outputs": [
    {
     "name": "stdout",
     "output_type": "stream",
     "text": [
      "torch.Size([1, 64, 64])\n"
     ]
    },
    {
     "data": {
      "image/png": "[encoded data removed]",
      "text/plain": [
       "<Figure size 640x480 with 1 Axes>"
      ]
     },
     "metadata": {},
     "output_type": "display_data"
    }
   ],
   "source": [
    "original = class3_original_images[217]\n",
    "print(original.shape)\n",
    "visualize_image(original)"
   ]
  },
  {
   "cell_type": "code",
   "execution_count": 146,
   "id": "9d014fe7-6e9a-48dd-8fd7-8f78f4410d8c",
   "metadata": {},
   "outputs": [
    {
     "name": "stdout",
     "output_type": "stream",
     "text": [
      "torch.Size([1, 64, 64])\n"
     ]
    },
    {
     "data": {
      "image/png": "[encoded data removed]",
      "text/plain": [
       "<Figure size 640x480 with 1 Axes>"
      ]
     },
     "metadata": {},
     "output_type": "display_data"
    }
   ],
   "source": [
    "fake = class0_optimized_latent_vectors[6]\n",
    "fake_img = gen(fake.to(device)).squeeze(dim=0)\n",
    "print(fake_img.shape)\n",
    "visualize_image(fake_img.detach().cpu())"
   ]
  },
  {
   "cell_type": "code",
   "execution_count": 53,
   "id": "d7fe9c85-2c83-4580-be7d-32833b706948",
   "metadata": {},
   "outputs": [],
   "source": [
    "fake1 = class1_optimized_latent_vectors[8]\n",
    "fake1_image = gen(fake1.to(device))\n",
    "fake1_image = fake1_image.repeat(1, 3, 1, 1)"
   ]
  },
  {
   "cell_type": "code",
   "execution_count": 54,
   "id": "74647152-cdcb-4593-a88f-d3ac43fd97d3",
   "metadata": {},
   "outputs": [
    {
     "data": {
      "text/plain": [
       "torch.Size([1, 3, 64, 64])"
      ]
     },
     "execution_count": 54,
     "metadata": {},
     "output_type": "execute_result"
    }
   ],
   "source": [
    "fake1_image.shape"
   ]
  },
  {
   "cell_type": "code",
   "execution_count": 55,
   "id": "e88f6396-0ef2-45f5-96e0-6048be01af25",
   "metadata": {},
   "outputs": [],
   "source": [
    "# Get the features of the images\n",
    "features_original = get_feature(class1_original_image)\n",
    "features_fake = get_feature(fake1_image)"
   ]
  },
  {
   "cell_type": "code",
   "execution_count": 56,
   "id": "b54e2bca-5f2b-41ea-b810-15d1f9d30f86",
   "metadata": {},
   "outputs": [],
   "source": [
    "# Compute cosine similarity\n",
    "similarity = 1 - cosine(features_original, features_fake)"
   ]
  },
  {
   "cell_type": "code",
   "execution_count": 57,
   "id": "983c7e35-27ee-453c-9356-cb9a84fdd4a3",
   "metadata": {},
   "outputs": [
    {
     "data": {
      "text/plain": [
       "np.float32(0.5555576)"
      ]
     },
     "execution_count": 57,
     "metadata": {},
     "output_type": "execute_result"
    }
   ],
   "source": [
    "similarity"
   ]
  },
  {
   "cell_type": "code",
   "execution_count": 58,
   "id": "e65e04e8-52b7-4cf2-876c-d9b07a435ec9",
   "metadata": {},
   "outputs": [],
   "source": [
    "def calculate_class0_sim():\n",
    "    similarities = []\n",
    "    for i in range(0, 20):\n",
    "        class0_original = class0_original_images[i].unsqueeze(dim=0).to(device)\n",
    "        class0_original = class0_original.repeat(1, 3, 1, 1)\n",
    "\n",
    "        class0_fake = class0_optimized_latent_vectors[i]\n",
    "        class0_fake_img = gen(class0_fake.to(device))\n",
    "        class0_fake_img = class0_fake_img.repeat(1, 3, 1, 1)\n",
    "\n",
    "        features_original = get_feature(class0_original)\n",
    "        features_fake = get_feature(class0_fake_img)\n",
    "\n",
    "        cosine_similarity = 1 - cosine(features_original, features_fake)\n",
    "\n",
    "        similarities.append(cosine_similarity)\n",
    "        \n",
    "    return similarities"
   ]
  },
  {
   "cell_type": "code",
   "execution_count": 59,
   "id": "10d8f579-0b80-4157-b59b-7b92be9e52f2",
   "metadata": {},
   "outputs": [],
   "source": [
    "def calculate_class1_sim():\n",
    "    similarities = []\n",
    "    for i in range(0, 20):\n",
    "        class1_original = class1_original_images[i].unsqueeze(dim=0).to(device)\n",
    "        class1_original = class1_original.repeat(1, 3, 1, 1)\n",
    "\n",
    "        class1_fake = class1_optimized_latent_vectors[i]\n",
    "        class1_fake_img = gen(class1_fake.to(device))\n",
    "        class1_fake_img = class1_fake_img.repeat(1, 3, 1, 1)\n",
    "\n",
    "        features_original = get_feature(class1_original)\n",
    "        features_fake = get_feature(class1_fake_img)\n",
    "\n",
    "        cosine_similarity = 1 - cosine(features_original, features_fake)\n",
    "        similarities.append(cosine_similarity)\n",
    "\n",
    "    return similarities"
   ]
  },
  {
   "cell_type": "code",
   "execution_count": 60,
   "id": "1bbdc999-fa6d-4005-b785-3c54a7bd89ee",
   "metadata": {},
   "outputs": [],
   "source": [
    "def calculate_class2_sim():\n",
    "    similarities = []\n",
    "    for i in range(0, 20):\n",
    "        class2_original = class2_original_images[i].unsqueeze(dim=0).to(device)\n",
    "        class2_original = class2_original.repeat(1, 3, 1, 1)\n",
    "\n",
    "        class2_fake = class2_optimized_latent_vectors[i]\n",
    "        class2_fake_img = gen(class2_fake.to(device))\n",
    "        class2_fake_img = class2_fake_img.repeat(1, 3, 1, 1)\n",
    "\n",
    "        features_original = get_feature(class2_original)\n",
    "        features_fake = get_feature(class2_fake_img)\n",
    "\n",
    "        cosine_similarity = 1 - cosine(features_original, features_fake)\n",
    "        similarities.append(cosine_similarity)\n",
    "\n",
    "    return similarities"
   ]
  },
  {
   "cell_type": "code",
   "execution_count": 61,
   "id": "33cb8de1-5a87-4dd4-8fc2-d3f27d6ddc9a",
   "metadata": {},
   "outputs": [],
   "source": [
    "def calculate_class3_sim():\n",
    "    similarities = []\n",
    "    for i in range(0, 20):\n",
    "        class3_original = class3_original_images[i].unsqueeze(dim=0).to(device)\n",
    "        class3_original = class3_original.repeat(1, 3, 1, 1)\n",
    "\n",
    "        class3_fake = class3_optimized_latent_vectors[i]\n",
    "        class3_fake_img = gen(class3_fake.to(device))\n",
    "        class3_fake_img = class3_fake_img.repeat(1, 3, 1, 1)\n",
    "\n",
    "        features_original = get_feature(class3_original)\n",
    "        features_fake = get_feature(class3_fake_img)\n",
    "\n",
    "        cosine_similarity = 1 - cosine(features_original, features_fake)\n",
    "        similarities.append(cosine_similarity)\n",
    "\n",
    "    return similarities"
   ]
  },
  {
   "cell_type": "code",
   "execution_count": 62,
   "id": "7868f175-5845-4ee4-b4cf-1c89513375ec",
   "metadata": {},
   "outputs": [],
   "source": [
    "class0_sims = calculate_class0_sim()\n",
    "class1_sims = calculate_class0_sim()\n",
    "class2_sims = calculate_class0_sim()\n",
    "class3_sims = calculate_class0_sim()"
   ]
  },
  {
   "cell_type": "code",
   "execution_count": 63,
   "id": "bbf4597d-a583-4204-a3ce-9085936e0189",
   "metadata": {},
   "outputs": [
    {
     "data": {
      "text/plain": [
       "[np.float32(0.31052613),\n",
       " np.float32(0.7248504),\n",
       " np.float32(0.7841083),\n",
       " np.float32(0.84292156),\n",
       " np.float32(0.78337777),\n",
       " np.float32(0.7673078),\n",
       " np.float32(0.6239349),\n",
       " np.float32(0.60828656),\n",
       " np.float32(0.67607003),\n",
       " np.float32(0.55911875),\n",
       " np.float32(0.7470307),\n",
       " np.float32(0.7508359),\n",
       " np.float32(0.72492135),\n",
       " np.float32(0.8276274),\n",
       " np.float32(0.79225683),\n",
       " np.float32(0.7357693),\n",
       " np.float32(0.022476494),\n",
       " np.float32(0.7472818),\n",
       " np.float32(0.74986273),\n",
       " np.float32(0.7918431)]"
      ]
     },
     "execution_count": 63,
     "metadata": {},
     "output_type": "execute_result"
    }
   ],
   "source": [
    "class0_sims"
   ]
  },
  {
   "cell_type": "code",
   "execution_count": 64,
   "id": "acb9d480-a58f-4ce6-8973-eb9c8d6e7253",
   "metadata": {},
   "outputs": [
    {
     "data": {
      "text/plain": [
       "[np.float32(0.310526),\n",
       " np.float32(0.7248504),\n",
       " np.float32(0.7841083),\n",
       " np.float32(0.84292126),\n",
       " np.float32(0.78337777),\n",
       " np.float32(0.76730835),\n",
       " np.float32(0.62393486),\n",
       " np.float32(0.60828656),\n",
       " np.float32(0.67607003),\n",
       " np.float32(0.5591185),\n",
       " np.float32(0.7470308),\n",
       " np.float32(0.7508359),\n",
       " np.float32(0.7249215),\n",
       " np.float32(0.82762766),\n",
       " np.float32(0.79225683),\n",
       " np.float32(0.7357693),\n",
       " np.float32(0.022476494),\n",
       " np.float32(0.7472819),\n",
       " np.float32(0.74986273),\n",
       " np.float32(0.7918431)]"
      ]
     },
     "execution_count": 64,
     "metadata": {},
     "output_type": "execute_result"
    }
   ],
   "source": [
    "class3_sims"
   ]
  },
  {
   "cell_type": "code",
   "execution_count": 65,
   "id": "58dc103d-1c30-473a-adc3-fcd5ca5100a0",
   "metadata": {},
   "outputs": [
    {
     "ename": "FileNotFoundError",
     "evalue": "[Errno 2] No such file or directory: 'output/fedvg.png'",
     "output_type": "error",
     "traceback": [
      "\u001b[1;31m---------------------------------------------------------------------------\u001b[0m",
      "\u001b[1;31mFileNotFoundError\u001b[0m                         Traceback (most recent call last)",
      "Cell \u001b[1;32mIn[65], line 43\u001b[0m\n\u001b[0;32m     41\u001b[0m plt\u001b[38;5;241m.\u001b[39mtight_layout()\n\u001b[0;32m     42\u001b[0m \u001b[38;5;66;03m# Save the plot to a file\u001b[39;00m\n\u001b[1;32m---> 43\u001b[0m \u001b[43mplt\u001b[49m\u001b[38;5;241;43m.\u001b[39;49m\u001b[43msavefig\u001b[49m\u001b[43m(\u001b[49m\u001b[38;5;124;43m'\u001b[39;49m\u001b[38;5;124;43moutput/fedvg.png\u001b[39;49m\u001b[38;5;124;43m'\u001b[39;49m\u001b[43m,\u001b[49m\u001b[43m \u001b[49m\u001b[43mdpi\u001b[49m\u001b[38;5;241;43m=\u001b[39;49m\u001b[38;5;241;43m300\u001b[39;49m\u001b[43m,\u001b[49m\u001b[43m \u001b[49m\u001b[43mbbox_inches\u001b[49m\u001b[38;5;241;43m=\u001b[39;49m\u001b[38;5;124;43m'\u001b[39;49m\u001b[38;5;124;43mtight\u001b[39;49m\u001b[38;5;124;43m'\u001b[39;49m\u001b[43m)\u001b[49m  \u001b[38;5;66;03m# Save as a PNG file with high resolution\u001b[39;00m\n\u001b[0;32m     45\u001b[0m \u001b[38;5;66;03m# Show the plot\u001b[39;00m\n\u001b[0;32m     46\u001b[0m plt\u001b[38;5;241m.\u001b[39mshow()\n",
      "File \u001b[1;32m~\\AppData\\Local\\Programs\\Python\\Python39\\lib\\site-packages\\matplotlib\\pyplot.py:1228\u001b[0m, in \u001b[0;36msavefig\u001b[1;34m(*args, **kwargs)\u001b[0m\n\u001b[0;32m   1225\u001b[0m fig \u001b[38;5;241m=\u001b[39m gcf()\n\u001b[0;32m   1226\u001b[0m \u001b[38;5;66;03m# savefig default implementation has no return, so mypy is unhappy\u001b[39;00m\n\u001b[0;32m   1227\u001b[0m \u001b[38;5;66;03m# presumably this is here because subclasses can return?\u001b[39;00m\n\u001b[1;32m-> 1228\u001b[0m res \u001b[38;5;241m=\u001b[39m fig\u001b[38;5;241m.\u001b[39msavefig(\u001b[38;5;241m*\u001b[39margs, \u001b[38;5;241m*\u001b[39m\u001b[38;5;241m*\u001b[39mkwargs)  \u001b[38;5;66;03m# type: ignore[func-returns-value]\u001b[39;00m\n\u001b[0;32m   1229\u001b[0m fig\u001b[38;5;241m.\u001b[39mcanvas\u001b[38;5;241m.\u001b[39mdraw_idle()  \u001b[38;5;66;03m# Need this if 'transparent=True', to reset colors.\u001b[39;00m\n\u001b[0;32m   1230\u001b[0m \u001b[38;5;28;01mreturn\u001b[39;00m res\n",
      "File \u001b[1;32m~\\AppData\\Local\\Programs\\Python\\Python39\\lib\\site-packages\\matplotlib\\figure.py:3395\u001b[0m, in \u001b[0;36mFigure.savefig\u001b[1;34m(self, fname, transparent, **kwargs)\u001b[0m\n\u001b[0;32m   3393\u001b[0m     \u001b[38;5;28;01mfor\u001b[39;00m ax \u001b[38;5;129;01min\u001b[39;00m \u001b[38;5;28mself\u001b[39m\u001b[38;5;241m.\u001b[39maxes:\n\u001b[0;32m   3394\u001b[0m         _recursively_make_axes_transparent(stack, ax)\n\u001b[1;32m-> 3395\u001b[0m \u001b[38;5;28mself\u001b[39m\u001b[38;5;241m.\u001b[39mcanvas\u001b[38;5;241m.\u001b[39mprint_figure(fname, \u001b[38;5;241m*\u001b[39m\u001b[38;5;241m*\u001b[39mkwargs)\n",
      "File \u001b[1;32m~\\AppData\\Local\\Programs\\Python\\Python39\\lib\\site-packages\\matplotlib\\backend_bases.py:2204\u001b[0m, in \u001b[0;36mFigureCanvasBase.print_figure\u001b[1;34m(self, filename, dpi, facecolor, edgecolor, orientation, format, bbox_inches, pad_inches, bbox_extra_artists, backend, **kwargs)\u001b[0m\n\u001b[0;32m   2200\u001b[0m \u001b[38;5;28;01mtry\u001b[39;00m:\n\u001b[0;32m   2201\u001b[0m     \u001b[38;5;66;03m# _get_renderer may change the figure dpi (as vector formats\u001b[39;00m\n\u001b[0;32m   2202\u001b[0m     \u001b[38;5;66;03m# force the figure dpi to 72), so we need to set it again here.\u001b[39;00m\n\u001b[0;32m   2203\u001b[0m     \u001b[38;5;28;01mwith\u001b[39;00m cbook\u001b[38;5;241m.\u001b[39m_setattr_cm(\u001b[38;5;28mself\u001b[39m\u001b[38;5;241m.\u001b[39mfigure, dpi\u001b[38;5;241m=\u001b[39mdpi):\n\u001b[1;32m-> 2204\u001b[0m         result \u001b[38;5;241m=\u001b[39m print_method(\n\u001b[0;32m   2205\u001b[0m             filename,\n\u001b[0;32m   2206\u001b[0m             facecolor\u001b[38;5;241m=\u001b[39mfacecolor,\n\u001b[0;32m   2207\u001b[0m             edgecolor\u001b[38;5;241m=\u001b[39medgecolor,\n\u001b[0;32m   2208\u001b[0m             orientation\u001b[38;5;241m=\u001b[39morientation,\n\u001b[0;32m   2209\u001b[0m             bbox_inches_restore\u001b[38;5;241m=\u001b[39m_bbox_inches_restore,\n\u001b[0;32m   2210\u001b[0m             \u001b[38;5;241m*\u001b[39m\u001b[38;5;241m*\u001b[39mkwargs)\n\u001b[0;32m   2211\u001b[0m \u001b[38;5;28;01mfinally\u001b[39;00m:\n\u001b[0;32m   2212\u001b[0m     \u001b[38;5;28;01mif\u001b[39;00m bbox_inches \u001b[38;5;129;01mand\u001b[39;00m restore_bbox:\n",
      "File \u001b[1;32m~\\AppData\\Local\\Programs\\Python\\Python39\\lib\\site-packages\\matplotlib\\backend_bases.py:2054\u001b[0m, in \u001b[0;36mFigureCanvasBase._switch_canvas_and_return_print_method.<locals>.<lambda>\u001b[1;34m(*args, **kwargs)\u001b[0m\n\u001b[0;32m   2050\u001b[0m     optional_kws \u001b[38;5;241m=\u001b[39m {  \u001b[38;5;66;03m# Passed by print_figure for other renderers.\u001b[39;00m\n\u001b[0;32m   2051\u001b[0m         \u001b[38;5;124m\"\u001b[39m\u001b[38;5;124mdpi\u001b[39m\u001b[38;5;124m\"\u001b[39m, \u001b[38;5;124m\"\u001b[39m\u001b[38;5;124mfacecolor\u001b[39m\u001b[38;5;124m\"\u001b[39m, \u001b[38;5;124m\"\u001b[39m\u001b[38;5;124medgecolor\u001b[39m\u001b[38;5;124m\"\u001b[39m, \u001b[38;5;124m\"\u001b[39m\u001b[38;5;124morientation\u001b[39m\u001b[38;5;124m\"\u001b[39m,\n\u001b[0;32m   2052\u001b[0m         \u001b[38;5;124m\"\u001b[39m\u001b[38;5;124mbbox_inches_restore\u001b[39m\u001b[38;5;124m\"\u001b[39m}\n\u001b[0;32m   2053\u001b[0m     skip \u001b[38;5;241m=\u001b[39m optional_kws \u001b[38;5;241m-\u001b[39m {\u001b[38;5;241m*\u001b[39minspect\u001b[38;5;241m.\u001b[39msignature(meth)\u001b[38;5;241m.\u001b[39mparameters}\n\u001b[1;32m-> 2054\u001b[0m     print_method \u001b[38;5;241m=\u001b[39m functools\u001b[38;5;241m.\u001b[39mwraps(meth)(\u001b[38;5;28;01mlambda\u001b[39;00m \u001b[38;5;241m*\u001b[39margs, \u001b[38;5;241m*\u001b[39m\u001b[38;5;241m*\u001b[39mkwargs: meth(\n\u001b[0;32m   2055\u001b[0m         \u001b[38;5;241m*\u001b[39margs, \u001b[38;5;241m*\u001b[39m\u001b[38;5;241m*\u001b[39m{k: v \u001b[38;5;28;01mfor\u001b[39;00m k, v \u001b[38;5;129;01min\u001b[39;00m kwargs\u001b[38;5;241m.\u001b[39mitems() \u001b[38;5;28;01mif\u001b[39;00m k \u001b[38;5;129;01mnot\u001b[39;00m \u001b[38;5;129;01min\u001b[39;00m skip}))\n\u001b[0;32m   2056\u001b[0m \u001b[38;5;28;01melse\u001b[39;00m:  \u001b[38;5;66;03m# Let third-parties do as they see fit.\u001b[39;00m\n\u001b[0;32m   2057\u001b[0m     print_method \u001b[38;5;241m=\u001b[39m meth\n",
      "File \u001b[1;32m~\\AppData\\Local\\Programs\\Python\\Python39\\lib\\site-packages\\matplotlib\\backends\\backend_agg.py:496\u001b[0m, in \u001b[0;36mFigureCanvasAgg.print_png\u001b[1;34m(self, filename_or_obj, metadata, pil_kwargs)\u001b[0m\n\u001b[0;32m    449\u001b[0m \u001b[38;5;28;01mdef\u001b[39;00m\u001b[38;5;250m \u001b[39m\u001b[38;5;21mprint_png\u001b[39m(\u001b[38;5;28mself\u001b[39m, filename_or_obj, \u001b[38;5;241m*\u001b[39m, metadata\u001b[38;5;241m=\u001b[39m\u001b[38;5;28;01mNone\u001b[39;00m, pil_kwargs\u001b[38;5;241m=\u001b[39m\u001b[38;5;28;01mNone\u001b[39;00m):\n\u001b[0;32m    450\u001b[0m \u001b[38;5;250m    \u001b[39m\u001b[38;5;124;03m\"\"\"\u001b[39;00m\n\u001b[0;32m    451\u001b[0m \u001b[38;5;124;03m    Write the figure to a PNG file.\u001b[39;00m\n\u001b[0;32m    452\u001b[0m \n\u001b[1;32m   (...)\u001b[0m\n\u001b[0;32m    494\u001b[0m \u001b[38;5;124;03m        *metadata*, including the default 'Software' key.\u001b[39;00m\n\u001b[0;32m    495\u001b[0m \u001b[38;5;124;03m    \"\"\"\u001b[39;00m\n\u001b[1;32m--> 496\u001b[0m     \u001b[38;5;28;43mself\u001b[39;49m\u001b[38;5;241;43m.\u001b[39;49m\u001b[43m_print_pil\u001b[49m\u001b[43m(\u001b[49m\u001b[43mfilename_or_obj\u001b[49m\u001b[43m,\u001b[49m\u001b[43m \u001b[49m\u001b[38;5;124;43m\"\u001b[39;49m\u001b[38;5;124;43mpng\u001b[39;49m\u001b[38;5;124;43m\"\u001b[39;49m\u001b[43m,\u001b[49m\u001b[43m \u001b[49m\u001b[43mpil_kwargs\u001b[49m\u001b[43m,\u001b[49m\u001b[43m \u001b[49m\u001b[43mmetadata\u001b[49m\u001b[43m)\u001b[49m\n",
      "File \u001b[1;32m~\\AppData\\Local\\Programs\\Python\\Python39\\lib\\site-packages\\matplotlib\\backends\\backend_agg.py:445\u001b[0m, in \u001b[0;36mFigureCanvasAgg._print_pil\u001b[1;34m(self, filename_or_obj, fmt, pil_kwargs, metadata)\u001b[0m\n\u001b[0;32m    440\u001b[0m \u001b[38;5;250m\u001b[39m\u001b[38;5;124;03m\"\"\"\u001b[39;00m\n\u001b[0;32m    441\u001b[0m \u001b[38;5;124;03mDraw the canvas, then save it using `.image.imsave` (to which\u001b[39;00m\n\u001b[0;32m    442\u001b[0m \u001b[38;5;124;03m*pil_kwargs* and *metadata* are forwarded).\u001b[39;00m\n\u001b[0;32m    443\u001b[0m \u001b[38;5;124;03m\"\"\"\u001b[39;00m\n\u001b[0;32m    444\u001b[0m FigureCanvasAgg\u001b[38;5;241m.\u001b[39mdraw(\u001b[38;5;28mself\u001b[39m)\n\u001b[1;32m--> 445\u001b[0m \u001b[43mmpl\u001b[49m\u001b[38;5;241;43m.\u001b[39;49m\u001b[43mimage\u001b[49m\u001b[38;5;241;43m.\u001b[39;49m\u001b[43mimsave\u001b[49m\u001b[43m(\u001b[49m\n\u001b[0;32m    446\u001b[0m \u001b[43m    \u001b[49m\u001b[43mfilename_or_obj\u001b[49m\u001b[43m,\u001b[49m\u001b[43m \u001b[49m\u001b[38;5;28;43mself\u001b[39;49m\u001b[38;5;241;43m.\u001b[39;49m\u001b[43mbuffer_rgba\u001b[49m\u001b[43m(\u001b[49m\u001b[43m)\u001b[49m\u001b[43m,\u001b[49m\u001b[43m \u001b[49m\u001b[38;5;28;43mformat\u001b[39;49m\u001b[38;5;241;43m=\u001b[39;49m\u001b[43mfmt\u001b[49m\u001b[43m,\u001b[49m\u001b[43m \u001b[49m\u001b[43morigin\u001b[49m\u001b[38;5;241;43m=\u001b[39;49m\u001b[38;5;124;43m\"\u001b[39;49m\u001b[38;5;124;43mupper\u001b[39;49m\u001b[38;5;124;43m\"\u001b[39;49m\u001b[43m,\u001b[49m\n\u001b[0;32m    447\u001b[0m \u001b[43m    \u001b[49m\u001b[43mdpi\u001b[49m\u001b[38;5;241;43m=\u001b[39;49m\u001b[38;5;28;43mself\u001b[39;49m\u001b[38;5;241;43m.\u001b[39;49m\u001b[43mfigure\u001b[49m\u001b[38;5;241;43m.\u001b[39;49m\u001b[43mdpi\u001b[49m\u001b[43m,\u001b[49m\u001b[43m \u001b[49m\u001b[43mmetadata\u001b[49m\u001b[38;5;241;43m=\u001b[39;49m\u001b[43mmetadata\u001b[49m\u001b[43m,\u001b[49m\u001b[43m \u001b[49m\u001b[43mpil_kwargs\u001b[49m\u001b[38;5;241;43m=\u001b[39;49m\u001b[43mpil_kwargs\u001b[49m\u001b[43m)\u001b[49m\n",
      "File \u001b[1;32m~\\AppData\\Local\\Programs\\Python\\Python39\\lib\\site-packages\\matplotlib\\image.py:1676\u001b[0m, in \u001b[0;36mimsave\u001b[1;34m(fname, arr, vmin, vmax, cmap, format, origin, dpi, metadata, pil_kwargs)\u001b[0m\n\u001b[0;32m   1674\u001b[0m pil_kwargs\u001b[38;5;241m.\u001b[39msetdefault(\u001b[38;5;124m\"\u001b[39m\u001b[38;5;124mformat\u001b[39m\u001b[38;5;124m\"\u001b[39m, \u001b[38;5;28mformat\u001b[39m)\n\u001b[0;32m   1675\u001b[0m pil_kwargs\u001b[38;5;241m.\u001b[39msetdefault(\u001b[38;5;124m\"\u001b[39m\u001b[38;5;124mdpi\u001b[39m\u001b[38;5;124m\"\u001b[39m, (dpi, dpi))\n\u001b[1;32m-> 1676\u001b[0m image\u001b[38;5;241m.\u001b[39msave(fname, \u001b[38;5;241m*\u001b[39m\u001b[38;5;241m*\u001b[39mpil_kwargs)\n",
      "File \u001b[1;32m~\\AppData\\Local\\Programs\\Python\\Python39\\lib\\site-packages\\PIL\\Image.py:2436\u001b[0m, in \u001b[0;36mImage.save\u001b[1;34m(self, fp, format, **params)\u001b[0m\n\u001b[0;32m   2434\u001b[0m         fp \u001b[38;5;241m=\u001b[39m builtins\u001b[38;5;241m.\u001b[39mopen(filename, \u001b[38;5;124m\"\u001b[39m\u001b[38;5;124mr+b\u001b[39m\u001b[38;5;124m\"\u001b[39m)\n\u001b[0;32m   2435\u001b[0m     \u001b[38;5;28;01melse\u001b[39;00m:\n\u001b[1;32m-> 2436\u001b[0m         fp \u001b[38;5;241m=\u001b[39m \u001b[43mbuiltins\u001b[49m\u001b[38;5;241;43m.\u001b[39;49m\u001b[43mopen\u001b[49m\u001b[43m(\u001b[49m\u001b[43mfilename\u001b[49m\u001b[43m,\u001b[49m\u001b[43m \u001b[49m\u001b[38;5;124;43m\"\u001b[39;49m\u001b[38;5;124;43mw+b\u001b[39;49m\u001b[38;5;124;43m\"\u001b[39;49m\u001b[43m)\u001b[49m\n\u001b[0;32m   2438\u001b[0m \u001b[38;5;28;01mtry\u001b[39;00m:\n\u001b[0;32m   2439\u001b[0m     save_handler(\u001b[38;5;28mself\u001b[39m, fp, filename)\n",
      "\u001b[1;31mFileNotFoundError\u001b[0m: [Errno 2] No such file or directory: 'output/fedvg.png'"
     ]
    },
    {
     "data": {
      "image/png": "[encoded data removed]",
      "text/plain": [
       "<Figure size 650x420 with 1 Axes>"
      ]
     },
     "metadata": {},
     "output_type": "display_data"
    }
   ],
   "source": [
    "                                                        # VISUALIZE\n",
    "# NOTE: Class indexes now start from 1 so, previous class 0 = now class 1 and so on\n",
    "# FIG 1: Raw similarity plot\n",
    "\n",
    "import pandas as pd\n",
    "import numpy as np\n",
    "import matplotlib.pyplot as plt\n",
    "import seaborn as sns\n",
    "\n",
    "# Generate sample similarity data for four classes (each with 20 values in the range 0 to 1)\n",
    "class1_sim = class0_sims\n",
    "class2_sim = class1_sims\n",
    "class3_sim = class2_sims\n",
    "class4_sim = class3_sims\n",
    "\n",
    "# Set figure size\n",
    "plt.figure(figsize=(6.5, 4.2))  # Set the size of the figure (width, height)\n",
    "\n",
    "# Sample DataFrame with four columns\n",
    "data=pd.DataFrame({'Class 1':class1_sim,'Class 2':class2_sim,'Class 3':class3_sim,'Class 4':class4_sim})\n",
    "df = pd.DataFrame(data)\n",
    "\n",
    "# Plot the probability distributions\n",
    "#plt.figure(figsize=(10, 6))\n",
    "\n",
    "# Define colors and line styles for each column\n",
    "colors = ['#1f77b4', '#ff7f0e', '#2ca02c', '#d62728']\n",
    "linestyles = ['-.', '--', '-', '-']\n",
    "\n",
    "# Plot the probability distributions with unique colors and line styles\n",
    "for column, color, linestyle in zip(df.columns, colors, linestyles):\n",
    "    sns.kdeplot(df[column], label=column, color=color, linestyle=linestyle)\n",
    "\n",
    "#plt.title('Probability Distributions of Four Columns')\n",
    "plt.xlabel('Similarity',fontsize=12)\n",
    "plt.ylabel('Density',fontsize=12)\n",
    "plt.yticks(fontsize=12)  # Set y-tick labels font size\n",
    "plt.legend(loc='upper right',fontsize=12)  # Increase legend font size\n",
    "\n",
    "# Optimize layout\n",
    "plt.tight_layout()\n",
    "# Save the plot to a file\n",
    "plt.savefig('output/fedvg.png', dpi=300, bbox_inches='tight')  # Save as a PNG file with high resolution\n",
    "\n",
    "# Show the plot\n",
    "plt.show()\n"
   ]
  },
  {
   "cell_type": "code",
   "execution_count": null,
   "id": "c71af78e-28e9-4564-9609-3039455bb875",
   "metadata": {},
   "outputs": [],
   "source": [
    "# FIG 2: DIFFERENCES IN COSINE SIMILARITY\n",
    "\n",
    "# For each class, we have 20 similarity values — one per image — showing how similar fake and real versions are.These values are very close across classes\n",
    "# So, to highlight subtle differences, compute and plot the difference between each pair of classes, value by value.\n",
    "# This gives you 20 values showing how much the similarity differs for each image between class 0 and class 1.\n",
    "# It's a magnified view of the gap between classes.\n",
    "# If the differences are tiny (e.g., 0.003), the plot helps make that visible and comparable.\n",
    "\n",
    "import numpy as np\n",
    "import matplotlib.pyplot as plt\n",
    "import seaborn as sns\n",
    "import pandas as pd\n",
    "\n",
    "# Differences between class distributions (pairwise)\n",
    "diff_12 = np.array(class2_sim) - np.array(class1_sim)\n",
    "diff_13 = np.array(class3_sim) - np.array(class1_sim)\n",
    "diff_14 = np.array(class4_sim) - np.array(class1_sim)\n",
    "diff_23 = np.array(class3_sim) - np.array(class2_sim)\n",
    "diff_24 = np.array(class4_sim) - np.array(class2_sim)\n",
    "diff_34 = np.array(class4_sim) - np.array(class3_sim)\n",
    "\n",
    "# Create a DataFrame\n",
    "diff_df = pd.DataFrame({\n",
    "    'Class 2 - Class 1': diff_12,\n",
    "    'Class 3 - Class 1': diff_13,\n",
    "    'Class 4 - Class 1': diff_14,\n",
    "    'Class 3 - Class 2': diff_23,\n",
    "    'Class 4 - Class 2': diff_24,\n",
    "    'Class 4 - Class 3': diff_34,\n",
    "})\n",
    "\n",
    "# Plot\n",
    "plt.figure(figsize=(7.5, 5))\n",
    "\n",
    "colors = sns.color_palette(\"tab10\", n_colors=6)\n",
    "\n",
    "for column, color in zip(diff_df.columns, colors):\n",
    "    sns.kdeplot(diff_df[column], label=column, color=color, linestyle='-')\n",
    "\n",
    "plt.axvline(0, color='black', linestyle='--', linewidth=1)  # reference line at 0\n",
    "plt.xlabel('Difference in Similarity', fontsize=12)\n",
    "plt.ylabel('Density', fontsize=12)\n",
    "plt.legend(fontsize=10)\n",
    "plt.title(\"Pairwise Differences in Cosine Similarity\", fontsize=13)\n",
    "plt.tight_layout()\n",
    "plt.show()"
   ]
  },
  {
   "cell_type": "code",
   "execution_count": null,
   "id": "362bf182-7927-4ce2-bf5a-97299d426bc4",
   "metadata": {},
   "outputs": [],
   "source": [
    "def calculate_interclass_similarity(first, second):\n",
    "    similarities = []\n",
    "\n",
    "    first_images = []\n",
    "    second_images = []\n",
    "    if first == 'class1':\n",
    "        first_images = class0_original_images.copy()\n",
    "    elif first == 'class2':\n",
    "        first_images = class1_original_images.copy()\n",
    "    elif first == 'class3':\n",
    "        first_images = class2_original_images.copy()\n",
    "    elif first == 'class4':\n",
    "        first_images = class3_original_images.copy()\n",
    "\n",
    "    if second == 'class1':\n",
    "        second_images = class0_original_images.copy()\n",
    "    elif second == 'class2':\n",
    "        second_images = class1_original_images.copy()\n",
    "    elif second == 'class3':\n",
    "        second_images = class2_original_images.copy()\n",
    "    elif second == 'class4':\n",
    "        second_images = class3_original_images.copy()\n",
    "    \n",
    "    for i in range(0, 20):\n",
    "        first_image = first_images[i].unsqueeze(dim=0).to(device)\n",
    "        first_image = first_image.repeat(1, 3, 1, 1)\n",
    "        \n",
    "        second_image = second_images[i].unsqueeze(dim=0).to(device)\n",
    "        second_image = second_image.repeat(1, 3, 1, 1)\n",
    "        \n",
    "        features_first = get_feature(first_image)\n",
    "        features_second = get_feature(second_image)\n",
    "\n",
    "        cosine_similarity = 1 - cosine(features_first, features_second)\n",
    "        similarities.append(cosine_similarity)\n",
    "\n",
    "    return similarities"
   ]
  },
  {
   "cell_type": "code",
   "execution_count": null,
   "id": "5954dfe3-cb08-4551-a5f9-d2082ac3d604",
   "metadata": {},
   "outputs": [],
   "source": [
    "class1class2 = calculate_interclass_similarity('class1', 'class2')"
   ]
  },
  {
   "cell_type": "code",
   "execution_count": null,
   "id": "cd5ab50d-9d9d-443b-bea5-2d6e302e2bf4",
   "metadata": {},
   "outputs": [],
   "source": [
    "class1class2"
   ]
  },
  {
   "cell_type": "code",
   "execution_count": null,
   "id": "29441f40-36a7-4854-98be-5d128bae49cd",
   "metadata": {},
   "outputs": [],
   "source": [
    "                                                # FIG: 3 -> INTERCLASS SIMILARITIES\n",
    "\n",
    "import pandas as pd\n",
    "import numpy as np\n",
    "import matplotlib.pyplot as plt\n",
    "import seaborn as sns\n",
    "\n",
    "# Set figure size\n",
    "plt.figure(figsize=(6.5, 4.2))  # Set the size of the figure (width, height)\n",
    "\n",
    "# Generate sample similarity data for four classes (each with 20 values in the range 0 to 1)\n",
    "np.random.seed(42)  # For reproducibility\n",
    "class1class2 = calculate_interclass_similarity('class1', 'class2')\n",
    "class1class3 = calculate_interclass_similarity('class1', 'class3')\n",
    "class1class4 = calculate_interclass_similarity('class1', 'class4')\n",
    "class2class3 = calculate_interclass_similarity('class2', 'class3')\n",
    "class2class4 = calculate_interclass_similarity('class2', 'class4')\n",
    "class3class4 = calculate_interclass_similarity('class3', 'class4')\n",
    "\n",
    "# Sample DataFrame with four columns\n",
    "data=pd.DataFrame({'Class1 vs Class2':class1class2,'Class1 vs Class3':class1class3,'Class1 vs Class4':class1class4,'Class2 vs Class3':class2class3,'Class2 vs Class4':class2class4,'Class3 vs Class4':class3class4})\n",
    "df = pd.DataFrame(data)\n",
    "\n",
    "# Plot the probability distributions\n",
    "#plt.figure(figsize=(10, 6))\n",
    "\n",
    "# Define colors and line styles for each column\n",
    "colors = ['#1f77b4', '#ff7f0e', '#2ca02c', '#d62728', '#9467bd', '#8c564b']\n",
    "linestyles = ['-.', '--', '-', '-', '-.', '--']\n",
    "\n",
    "# Plot the probability distributions with unique colors and line styles\n",
    "for column, color, linestyle in zip(df.columns, colors, linestyles):\n",
    "    sns.kdeplot(df[column], label=column, color=color, linestyle=linestyle)\n",
    "\n",
    "#plt.title('Probability Distributions of Four Columns')\n",
    "plt.xlabel('Similarity',fontsize=12)\n",
    "plt.ylabel('Density',fontsize=12)\n",
    "plt.yticks(fontsize=12)  # Set y-tick labels font size\n",
    "plt.legend(loc='upper right',fontsize=12)  # Increase legend font size\n",
    "\n",
    "# Optimize layout\n",
    "plt.tight_layout()\n",
    "# Save the plot to a file\n",
    "plt.savefig('output/VoiceDivergenceD3.png', dpi=300, bbox_inches='tight')  # Save as a PNG file with high resolution\n",
    "\n",
    "# Show the plot\n",
    "plt.show()"
   ]
  },
  {
   "cell_type": "code",
   "execution_count": null,
   "id": "19754eee-5c1e-47e6-bbaa-b2cef05a1641",
   "metadata": {},
   "outputs": [],
   "source": []
  },
  {
   "cell_type": "code",
   "execution_count": null,
   "id": "918e9d1f-b03d-4d8b-a55c-7e3a8369b0dc",
   "metadata": {},
   "outputs": [],
   "source": []
  }
 ],
 "metadata": {
  "kernelspec": {
   "display_name": "Python 3 (ipykernel)",
   "language": "python",
   "name": "python3"
  },
  "language_info": {
   "codemirror_mode": {
    "name": "ipython",
    "version": 3
   },
   "file_extension": ".py",
   "mimetype": "text/x-python",
   "name": "python",
   "nbconvert_exporter": "python",
   "pygments_lexer": "ipython3",
   "version": "3.13.5"
  }
 },
 "nbformat": 4,
 "nbformat_minor": 5
}
