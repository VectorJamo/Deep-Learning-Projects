{
 "cells": [
  {
   "cell_type": "code",
   "execution_count": 1,
   "id": "646b38c2-386a-4f83-a983-ea764ad8267f",
   "metadata": {},
   "outputs": [],
   "source": [
    "# Attempting to recover training data using model's parameters and a DCGAN that was trained on similar data\n",
    "# Author: Suraj Neupane\n",
    "# Written from scratch as a part of a Research Project 2025, Concordia University of Edmonton.\n",
    "import numpy as np\n",
    "\n",
    "import torch\n",
    "from torch import nn\n",
    "from torch.nn import functional\n",
    "\n",
    "from torch.utils import data\n",
    "from torch.utils.data import DataLoader\n",
    "\n",
    "import torchvision\n",
    "from torchvision import datasets\n",
    "from torchvision import transforms\n",
    "\n",
    "import pickle\n",
    "\n",
    "import matplotlib.pyplot as plt\n",
    "%matplotlib inline"
   ]
  },
  {
   "cell_type": "code",
   "execution_count": 2,
   "id": "8b80ddb2-ed75-4870-85b4-9300fce0df7e",
   "metadata": {},
   "outputs": [
    {
     "data": {
      "text/plain": [
       "'2.5.1+cu118'"
      ]
     },
     "execution_count": 2,
     "metadata": {},
     "output_type": "execute_result"
    }
   ],
   "source": [
    "torch.__version__"
   ]
  },
  {
   "cell_type": "code",
   "execution_count": 3,
   "id": "d6950585-eb31-4f61-bd60-5bf8716fcdef",
   "metadata": {},
   "outputs": [],
   "source": [
    "device = 'cuda' if torch.cuda.is_available() else 'cpu'"
   ]
  },
  {
   "cell_type": "code",
   "execution_count": 4,
   "id": "36c47e07-6b7d-4123-a59d-5d465f9ef280",
   "metadata": {},
   "outputs": [
    {
     "data": {
      "text/plain": [
       "'cuda'"
      ]
     },
     "execution_count": 4,
     "metadata": {},
     "output_type": "execute_result"
    }
   ],
   "source": [
    "device"
   ]
  },
  {
   "cell_type": "code",
   "execution_count": 5,
   "id": "b852ca55-f33e-469f-b7b9-e00d21124927",
   "metadata": {},
   "outputs": [],
   "source": [
    "# DCGAN Implementation Class\n",
    "# Discriminator\n",
    "class Discriminator(nn.Module):\n",
    "    def __init__(self, img_channels, features_d):\n",
    "        super().__init__()\n",
    "        self.disc = nn.Sequential(\n",
    "            # Input shape: img_channels x 64 x 64\n",
    "            nn.Conv2d(\n",
    "              in_channels=img_channels, out_channels=features_d, kernel_size=4, stride=2, padding=1\n",
    "            ), # Output shape: features_d x 32 x 32\n",
    "            nn.LeakyReLU(0.2),\n",
    "            self._block(features_d, features_d*2, 4, 2, 1), # Output shape: features_d*2 x 16 x 16\n",
    "            self._block(features_d*2, features_d*4, 4, 2, 1), # Output shape: features_d*4 x 8 x 8\n",
    "            self._block(features_d*4, features_d*8, 4, 2, 1), # Output shape: features_d*8 x 4 x 4\n",
    "           \n",
    "            nn.Conv2d(in_channels=features_d*8, out_channels=1, kernel_size=4, stride=2, padding=0), # Output shape: 1 x 1\n",
    "            nn.Sigmoid(),\n",
    "        )\n",
    "\n",
    "    def _block(self, in_channels, out_channels, kernel_size, stride, padding):\n",
    "        return nn.Sequential(\n",
    "            nn.Conv2d(in_channels, out_channels, kernel_size, stride, padding, bias=False),\n",
    "            nn.BatchNorm2d(out_channels),\n",
    "            nn.LeakyReLU(0.2),\n",
    "        )\n",
    "\n",
    "    def forward(self, X):\n",
    "        return self.disc(X)\n"
   ]
  },
  {
   "cell_type": "code",
   "execution_count": 6,
   "id": "5afe02e5-61d3-4f25-8933-8484e519cd4a",
   "metadata": {},
   "outputs": [],
   "source": [
    "# Generator\n",
    "class Generator(nn.Module):\n",
    "    def __init__(self, z_dim, img_channels, features_g):\n",
    "        super().__init__()\n",
    "        self.gen = nn.Sequential(\n",
    "            self._block(z_dim, features_g*16, 4, 1, 0), # z_dim: (batch_size, 100, 1, 1) -> (batch_size, 1024, 4, 4)\n",
    "            self._block(features_g*16, features_g*8, 4, 2, 1), # z_dim: (batch_size, 1024, 4, 4) -> (batch_size, 512, 8, 8)\n",
    "            self._block(features_g*8, features_g*4, 4, 2, 1), # z_dim: (batch_size, 512, 8, 8) -> (batch_size, 256, 16, 16)\n",
    "            self._block(features_g*4, features_g*2, 4, 2, 1), # z_dim: (batch_size, 128, 16, 16) -> (batch_size, 64, 32, 32)\n",
    "            nn.ConvTranspose2d(\n",
    "                in_channels=features_g*2, out_channels=img_channels, kernel_size=4, stride=2, padding=1 # z_dim: (batch_size, 64, 32, 32) -> (batch_size, 1, 64, 64)\n",
    "            ),\n",
    "            nn.Tanh(),\n",
    "        )\n",
    "        \n",
    "    def _block(self, in_channels, out_channels, kernel_size, stride, padding):\n",
    "        return nn.Sequential(\n",
    "            nn.ConvTranspose2d(\n",
    "                in_channels, out_channels, kernel_size, stride, padding, bias=False,\n",
    "            ),\n",
    "            nn.InstanceNorm2d(out_channels, affine=True),\n",
    "            nn.ReLU(),\n",
    "        )\n",
    "\n",
    "    def forward(self, X):\n",
    "        return self.gen(X)"
   ]
  },
  {
   "cell_type": "code",
   "execution_count": 7,
   "id": "48c1be35-d58a-4d0c-990d-9250fbdbf1b3",
   "metadata": {},
   "outputs": [],
   "source": [
    "# Hyperparams\n",
    "z_dim = 100\n",
    "img_channels = 1\n",
    "features_disc = 64\n",
    "features_gen = 64"
   ]
  },
  {
   "cell_type": "code",
   "execution_count": 8,
   "id": "f2dc1f40-5c2e-4903-b2e7-7abe5cae9772",
   "metadata": {},
   "outputs": [],
   "source": [
    "# Create the model instances\n",
    "gen = Generator(z_dim, img_channels, features_gen).to(device)\n",
    "disc = Discriminator(img_channels, features_disc).to(device)"
   ]
  },
  {
   "cell_type": "code",
   "execution_count": 9,
   "id": "bc7a5deb-f8d8-41d4-aed3-d012d39a84b9",
   "metadata": {},
   "outputs": [
    {
     "data": {
      "text/plain": [
       "<All keys matched successfully>"
      ]
     },
     "execution_count": 9,
     "metadata": {},
     "output_type": "execute_result"
    }
   ],
   "source": [
    "# Load the trained GAN\n",
    "gen.load_state_dict(torch.load('saved models/Generator2.pth', weights_only=True))\n",
    "disc.load_state_dict(torch.load('saved models/Discriminator2.pth', weights_only=True))"
   ]
  },
  {
   "cell_type": "code",
   "execution_count": 10,
   "id": "a504e932-e168-4bb8-88cc-eea0810aafb0",
   "metadata": {},
   "outputs": [],
   "source": [
    "# Generate a random fake image\n",
    "noise = torch.randn(1, z_dim, 1, 1).to(device)\n",
    "fake_img = gen(noise)"
   ]
  },
  {
   "cell_type": "code",
   "execution_count": 11,
   "id": "98b5d73f-b130-4bc1-a868-c225bd2abe62",
   "metadata": {},
   "outputs": [
    {
     "data": {
      "text/plain": [
       "torch.Size([1, 1, 64, 64])"
      ]
     },
     "execution_count": 11,
     "metadata": {},
     "output_type": "execute_result"
    }
   ],
   "source": [
    "fake_img.shape"
   ]
  },
  {
   "cell_type": "code",
   "execution_count": 12,
   "id": "9d19338c-18e4-4b6e-842f-a225718fa8bb",
   "metadata": {},
   "outputs": [
    {
     "name": "stdout",
     "output_type": "stream",
     "text": [
      "torch.Size([64, 64])\n"
     ]
    },
    {
     "data": {
      "text/plain": [
       "<matplotlib.image.AxesImage at 0x1dba18365b0>"
      ]
     },
     "execution_count": 12,
     "metadata": {},
     "output_type": "execute_result"
    },
    {
     "data": {
      "image/png": "[encoded data removed]",
      "text/plain": [
       "<Figure size 640x480 with 1 Axes>"
      ]
     },
     "metadata": {},
     "output_type": "display_data"
    }
   ],
   "source": [
    "fake_img = fake_img.squeeze()\n",
    "print(fake_img.shape)\n",
    "plt.axis(False)\n",
    "plt.title('Fake Generated Image:')\n",
    "plt.imshow(fake_img.cpu().detach(), cmap='gray')"
   ]
  },
  {
   "cell_type": "code",
   "execution_count": 13,
   "id": "cf2aefac-a759-4335-a3de-2065d6a6a9a5",
   "metadata": {},
   "outputs": [],
   "source": [
    "# Target Model\n",
    "class TFCNN(nn.Module):\n",
    "    def __init__(self, n_classes):\n",
    "        super().__init__()\n",
    "        self.n_classes = n_classes\n",
    "\n",
    "        self.encoder = nn.Sequential(\n",
    "            nn.Conv2d(3, 32, 3, stride=1, padding=1),\n",
    "            nn.ReLU(True),\n",
    "            nn.MaxPool2d(2),\n",
    "            nn.Conv2d(32, 64, 3, stride=1, padding=1),\n",
    "            nn.ReLU(True),\n",
    "            nn.MaxPool2d(2),\n",
    "            nn.Conv2d(64, 64, 3, stride=1, padding=1),\n",
    "            nn.ReLU(True),\n",
    "            nn.MaxPool2d(2),\n",
    "            Reshape(),\n",
    "        )\n",
    "\n",
    "        self.h_size = 64 * 4 * 4\n",
    "\n",
    "        self.classifier = nn.Sequential(\n",
    "            nn.Linear(64 * 4 * 4, 128),\n",
    "            nn.ReLU(True),\n",
    "            nn.Linear(128, n_classes)\n",
    "        )\n",
    "\n",
    "    def forward(self, xs):\n",
    "        code = self.encoder(xs)\n",
    "        logits = self.classifier(code)\n",
    "        return code, logits\n"
   ]
  },
  {
   "cell_type": "code",
   "execution_count": 14,
   "id": "d28876e2-91ee-4ebf-bc52-b71dc82edfa2",
   "metadata": {},
   "outputs": [],
   "source": [
    "class Reshape(nn.Module):\n",
    "    def __init__(self,):\n",
    "        super().__init__()\n",
    "\n",
    "    def forward(self, xs):\n",
    "        return xs.reshape((xs.shape[0], -1))"
   ]
  },
  {
   "cell_type": "code",
   "execution_count": 15,
   "id": "dd57210c-2c18-4651-8f29-be94a7a7a88f",
   "metadata": {},
   "outputs": [],
   "source": [
    "class ClassifyNet(nn.Module):\n",
    "    def __init__(self, net, init_way, n_classes, input_size=None):\n",
    "        super().__init__()\n",
    "        self.net = net\n",
    "        self.init_way = init_way\n",
    "        self.n_classes = n_classes\n",
    "\n",
    "        model = TFCNN(n_classes)\n",
    "\n",
    "        self.h_size = model.h_size\n",
    "\n",
    "        # Convo and pool layers\n",
    "        self.encoder = model.encoder\n",
    "\n",
    "        # Classifier layer\n",
    "        self.classifier = nn.Linear(\n",
    "            self.h_size, self.n_classes, bias=False\n",
    "        )\n",
    "\n",
    "        if self.init_way == \"orth\":\n",
    "            ws = get_orth_weights(self.h_size, self.n_classes)\n",
    "            self.classifier.load_state_dict({\"weight\": ws})\n",
    "\n",
    "    def forward(self, xs):\n",
    "        hs = self.encoder(xs)\n",
    "        logits = self.classifier(hs)\n",
    "        return hs, logits"
   ]
  },
  {
   "cell_type": "code",
   "execution_count": 16,
   "id": "83ea3c08-0470-4c9a-ba15-8328a316b3ab",
   "metadata": {},
   "outputs": [],
   "source": [
    "def load_target_model(base_net, n_classes, path):\n",
    "    # Create the base model\n",
    "    model = ClassifyNet(net=base_net, init_way='none', n_classes=n_classes)\n",
    "    # Load the model\n",
    "    model.load_state_dict(torch.load(path, weights_only=True))\n",
    "\n",
    "    return model"
   ]
  },
  {
   "cell_type": "code",
   "execution_count": 17,
   "id": "0880f1aa-9d08-445a-85ac-f1ff3cebde04",
   "metadata": {},
   "outputs": [
    {
     "name": "stdout",
     "output_type": "stream",
     "text": [
      "Model loaded successfully!\n",
      "Number of parameters in the loaded model: 60416\n"
     ]
    }
   ],
   "source": [
    "# Target Model Loading\n",
    "BASE_NET = 'TFCNN'\n",
    "DATASET = 'tumor4'\n",
    "N_CLASSES = 4\n",
    "\n",
    "target_model = load_target_model(base_net=BASE_NET, n_classes=N_CLASSES, path='saved models/fedavg_global_model.pth').to(device)\n",
    "print('Model loaded successfully!')\n",
    "target_model.eval()\n",
    "\n",
    "num_params = sum(p.numel() for p in target_model.parameters())\n",
    "print('Number of parameters in the loaded model:', num_params)\n"
   ]
  },
  {
   "cell_type": "code",
   "execution_count": 18,
   "id": "f843f19e-b2a5-4ffe-b22b-de4ff93c5643",
   "metadata": {},
   "outputs": [],
   "source": [
    "# BEGIN BATCH MODEL INVERSION\n",
    "img_count = 20\n",
    "latent_vectors = torch.randn(img_count, z_dim, 1, 1, requires_grad=True) # Start with 20 random noises"
   ]
  },
  {
   "cell_type": "code",
   "execution_count": 19,
   "id": "c21320ed-d5ac-4919-aaad-8cfa093998a6",
   "metadata": {},
   "outputs": [],
   "source": [
    "def recover_images(count, target_image_class, latent_vectors):\n",
    "    optimized_latent_vectors = []\n",
    "    \n",
    "    for x in range(0, count):\n",
    "        z = latent_vectors[x].unsqueeze(dim=0).clone().detach().requires_grad_(True)\n",
    "        \n",
    "        learning_rate = 0.01\n",
    "        target_class = 1 # The second class\n",
    "        \n",
    "        # Create the optimizer\n",
    "        optimizer = torch.optim.Adam([z], lr=learning_rate)\n",
    "        \n",
    "        # Loss function (e.g., Cross-Entropy with classifier outputs)\n",
    "        loss_fn = nn.CrossEntropyLoss()\n",
    "        target_class = torch.tensor([target_image_class])  # Set the target class\n",
    "    \n",
    "        # Optimization loop to find the best z\n",
    "        rounds = 500\n",
    "        for i in range(rounds):\n",
    "            optimizer.zero_grad()\n",
    "            \n",
    "            generated_image = gen(z.to(device))  # Generate an image from the latent vector\n",
    "            generated_image = generated_image.repeat(1, 3, 1, 1)\n",
    "            generated_image = functional.interpolate(generated_image, size=(32, 32), mode='nearest')\n",
    "            #print(generated_image.shape)\n",
    "            hs, prediction_logits = target_model(generated_image)  # Classifier output\n",
    "            #print(prediction_logits)\n",
    "            #print(type(prediction_logits))\n",
    "            loss = loss_fn(prediction_logits, target_class.to(device))  # Minimize difference with true class\n",
    "            loss.backward()\n",
    "            optimizer.step()\n",
    "            \n",
    "            if i % 50 == 0:\n",
    "                print(f\"Generating Image Number: {x+1} for target class {target_class}. Step {i}, Loss: {loss.item()}\")\n",
    "    \n",
    "        optimized_latent_vectors.append(z)\n",
    "        \n",
    "    return optimized_latent_vectors"
   ]
  },
  {
   "cell_type": "code",
   "execution_count": 20,
   "id": "9ebc9533-23ca-4d44-8aea-9d134281b3a4",
   "metadata": {
    "scrolled": true
   },
   "outputs": [
    {
     "name": "stdout",
     "output_type": "stream",
     "text": [
      "Generating Image Number: 1 for target class tensor([0]). Step 0, Loss: 2.1262640953063965\n",
      "Generating Image Number: 1 for target class tensor([0]). Step 50, Loss: 0.14122536778450012\n",
      "Generating Image Number: 1 for target class tensor([0]). Step 100, Loss: 0.12939950823783875\n",
      "Generating Image Number: 1 for target class tensor([0]). Step 150, Loss: 0.12019874155521393\n",
      "Generating Image Number: 1 for target class tensor([0]). Step 200, Loss: 0.1127840131521225\n",
      "Generating Image Number: 1 for target class tensor([0]). Step 250, Loss: 0.10700533539056778\n",
      "Generating Image Number: 1 for target class tensor([0]). Step 300, Loss: 0.10243149101734161\n",
      "Generating Image Number: 1 for target class tensor([0]). Step 350, Loss: 0.0991489514708519\n",
      "Generating Image Number: 1 for target class tensor([0]). Step 400, Loss: 0.09565898776054382\n",
      "Generating Image Number: 1 for target class tensor([0]). Step 450, Loss: 0.09244931489229202\n",
      "Generating Image Number: 2 for target class tensor([0]). Step 0, Loss: 5.061882972717285\n",
      "Generating Image Number: 2 for target class tensor([0]). Step 50, Loss: 3.7765984535217285\n",
      "Generating Image Number: 2 for target class tensor([0]). Step 100, Loss: 3.5944206714630127\n",
      "Generating Image Number: 2 for target class tensor([0]). Step 150, Loss: 3.4532418251037598\n",
      "Generating Image Number: 2 for target class tensor([0]). Step 200, Loss: 3.3196654319763184\n",
      "Generating Image Number: 2 for target class tensor([0]). Step 250, Loss: 3.2194066047668457\n",
      "Generating Image Number: 2 for target class tensor([0]). Step 300, Loss: 3.1458046436309814\n",
      "Generating Image Number: 2 for target class tensor([0]). Step 350, Loss: 3.0900847911834717\n",
      "Generating Image Number: 2 for target class tensor([0]). Step 400, Loss: 3.0638325214385986\n",
      "Generating Image Number: 2 for target class tensor([0]). Step 450, Loss: 3.0187487602233887\n",
      "Generating Image Number: 3 for target class tensor([0]). Step 0, Loss: 0.9962790608406067\n",
      "Generating Image Number: 3 for target class tensor([0]). Step 50, Loss: 0.22945360839366913\n",
      "Generating Image Number: 3 for target class tensor([0]). Step 100, Loss: 0.14646725356578827\n",
      "Generating Image Number: 3 for target class tensor([0]). Step 150, Loss: 0.12237775325775146\n",
      "Generating Image Number: 3 for target class tensor([0]). Step 200, Loss: 0.10784441977739334\n",
      "Generating Image Number: 3 for target class tensor([0]). Step 250, Loss: 0.09819674491882324\n",
      "Generating Image Number: 3 for target class tensor([0]). Step 300, Loss: 0.08985888212919235\n",
      "Generating Image Number: 3 for target class tensor([0]). Step 350, Loss: 0.08277985453605652\n",
      "Generating Image Number: 3 for target class tensor([0]). Step 400, Loss: 0.07699452340602875\n",
      "Generating Image Number: 3 for target class tensor([0]). Step 450, Loss: 0.07204742729663849\n",
      "Generating Image Number: 4 for target class tensor([0]). Step 0, Loss: 1.7515276670455933\n",
      "Generating Image Number: 4 for target class tensor([0]). Step 50, Loss: 0.734120786190033\n",
      "Generating Image Number: 4 for target class tensor([0]). Step 100, Loss: 0.6309947967529297\n",
      "Generating Image Number: 4 for target class tensor([0]). Step 150, Loss: 0.5602470636367798\n",
      "Generating Image Number: 4 for target class tensor([0]). Step 200, Loss: 0.506354808807373\n",
      "Generating Image Number: 4 for target class tensor([0]). Step 250, Loss: 0.4626764953136444\n",
      "Generating Image Number: 4 for target class tensor([0]). Step 300, Loss: 0.4314999580383301\n",
      "Generating Image Number: 4 for target class tensor([0]). Step 350, Loss: 0.4102255403995514\n",
      "Generating Image Number: 4 for target class tensor([0]). Step 400, Loss: 0.39144662022590637\n",
      "Generating Image Number: 4 for target class tensor([0]). Step 450, Loss: 0.37798336148262024\n",
      "Generating Image Number: 5 for target class tensor([0]). Step 0, Loss: 2.300259590148926\n",
      "Generating Image Number: 5 for target class tensor([0]). Step 50, Loss: 1.8582226037979126\n",
      "Generating Image Number: 5 for target class tensor([0]). Step 100, Loss: 1.4830081462860107\n",
      "Generating Image Number: 5 for target class tensor([0]). Step 150, Loss: 1.1733026504516602\n",
      "Generating Image Number: 5 for target class tensor([0]). Step 200, Loss: 0.8693711757659912\n",
      "Generating Image Number: 5 for target class tensor([0]). Step 250, Loss: 0.48978111147880554\n",
      "Generating Image Number: 5 for target class tensor([0]). Step 300, Loss: 0.3460800051689148\n",
      "Generating Image Number: 5 for target class tensor([0]). Step 350, Loss: 0.29389646649360657\n",
      "Generating Image Number: 5 for target class tensor([0]). Step 400, Loss: 0.26591750979423523\n",
      "Generating Image Number: 5 for target class tensor([0]). Step 450, Loss: 0.24856023490428925\n",
      "Generating Image Number: 6 for target class tensor([0]). Step 0, Loss: 2.9872663021087646\n",
      "Generating Image Number: 6 for target class tensor([0]). Step 50, Loss: 0.19146879017353058\n",
      "Generating Image Number: 6 for target class tensor([0]). Step 100, Loss: 0.1434720754623413\n",
      "Generating Image Number: 6 for target class tensor([0]). Step 150, Loss: 0.12993155419826508\n",
      "Generating Image Number: 6 for target class tensor([0]). Step 200, Loss: 0.11925516277551651\n",
      "Generating Image Number: 6 for target class tensor([0]). Step 250, Loss: 0.10981233417987823\n",
      "Generating Image Number: 6 for target class tensor([0]). Step 300, Loss: 0.10271304845809937\n",
      "Generating Image Number: 6 for target class tensor([0]). Step 350, Loss: 0.09636367112398148\n",
      "Generating Image Number: 6 for target class tensor([0]). Step 400, Loss: 0.09061851352453232\n",
      "Generating Image Number: 6 for target class tensor([0]). Step 450, Loss: 0.08580581098794937\n",
      "Generating Image Number: 7 for target class tensor([0]). Step 0, Loss: 0.2565290033817291\n",
      "Generating Image Number: 7 for target class tensor([0]). Step 50, Loss: 0.1278587430715561\n",
      "Generating Image Number: 7 for target class tensor([0]). Step 100, Loss: 0.10523460060358047\n",
      "Generating Image Number: 7 for target class tensor([0]). Step 150, Loss: 0.09432201087474823\n",
      "Generating Image Number: 7 for target class tensor([0]). Step 200, Loss: 0.08713684976100922\n",
      "Generating Image Number: 7 for target class tensor([0]). Step 250, Loss: 0.08266571909189224\n",
      "Generating Image Number: 7 for target class tensor([0]). Step 300, Loss: 0.07756312936544418\n",
      "Generating Image Number: 7 for target class tensor([0]). Step 350, Loss: 0.07453366369009018\n",
      "Generating Image Number: 7 for target class tensor([0]). Step 400, Loss: 0.07130230963230133\n",
      "Generating Image Number: 7 for target class tensor([0]). Step 450, Loss: 0.06836089491844177\n",
      "Generating Image Number: 8 for target class tensor([0]). Step 0, Loss: 0.6560810804367065\n",
      "Generating Image Number: 8 for target class tensor([0]). Step 50, Loss: 0.2524285614490509\n",
      "Generating Image Number: 8 for target class tensor([0]). Step 100, Loss: 0.19603750109672546\n",
      "Generating Image Number: 8 for target class tensor([0]). Step 150, Loss: 0.15887008607387543\n",
      "Generating Image Number: 8 for target class tensor([0]). Step 200, Loss: 0.13433346152305603\n",
      "Generating Image Number: 8 for target class tensor([0]). Step 250, Loss: 0.12152037769556046\n",
      "Generating Image Number: 8 for target class tensor([0]). Step 300, Loss: 0.10903722047805786\n",
      "Generating Image Number: 8 for target class tensor([0]). Step 350, Loss: 0.10068044066429138\n",
      "Generating Image Number: 8 for target class tensor([0]). Step 400, Loss: 0.09326182305812836\n",
      "Generating Image Number: 8 for target class tensor([0]). Step 450, Loss: 0.08560842275619507\n",
      "Generating Image Number: 9 for target class tensor([0]). Step 0, Loss: 2.5936524868011475\n",
      "Generating Image Number: 9 for target class tensor([0]). Step 50, Loss: 0.9949917793273926\n",
      "Generating Image Number: 9 for target class tensor([0]). Step 100, Loss: 0.6383541822433472\n",
      "Generating Image Number: 9 for target class tensor([0]). Step 150, Loss: 0.441473126411438\n",
      "Generating Image Number: 9 for target class tensor([0]). Step 200, Loss: 0.34510207176208496\n",
      "Generating Image Number: 9 for target class tensor([0]). Step 250, Loss: 0.2848038971424103\n",
      "Generating Image Number: 9 for target class tensor([0]). Step 300, Loss: 0.25187715888023376\n",
      "Generating Image Number: 9 for target class tensor([0]). Step 350, Loss: 0.2266116738319397\n",
      "Generating Image Number: 9 for target class tensor([0]). Step 400, Loss: 0.21060290932655334\n",
      "Generating Image Number: 9 for target class tensor([0]). Step 450, Loss: 0.19887061417102814\n",
      "Generating Image Number: 10 for target class tensor([0]). Step 0, Loss: 1.0157115459442139\n",
      "Generating Image Number: 10 for target class tensor([0]). Step 50, Loss: 0.8590763211250305\n",
      "Generating Image Number: 10 for target class tensor([0]). Step 100, Loss: 0.7758567929267883\n",
      "Generating Image Number: 10 for target class tensor([0]). Step 150, Loss: 0.7214920520782471\n",
      "Generating Image Number: 10 for target class tensor([0]). Step 200, Loss: 0.6808515191078186\n",
      "Generating Image Number: 10 for target class tensor([0]). Step 250, Loss: 0.6528035402297974\n",
      "Generating Image Number: 10 for target class tensor([0]). Step 300, Loss: 0.6306511759757996\n",
      "Generating Image Number: 10 for target class tensor([0]). Step 350, Loss: 0.6098857522010803\n",
      "Generating Image Number: 10 for target class tensor([0]). Step 400, Loss: 0.5904472470283508\n",
      "Generating Image Number: 10 for target class tensor([0]). Step 450, Loss: 0.5786635279655457\n",
      "Generating Image Number: 11 for target class tensor([0]). Step 0, Loss: 1.1920928244535389e-07\n",
      "Generating Image Number: 11 for target class tensor([0]). Step 50, Loss: 0.0\n",
      "Generating Image Number: 11 for target class tensor([0]). Step 100, Loss: 0.0\n",
      "Generating Image Number: 11 for target class tensor([0]). Step 150, Loss: 0.0\n",
      "Generating Image Number: 11 for target class tensor([0]). Step 200, Loss: 0.0\n",
      "Generating Image Number: 11 for target class tensor([0]). Step 250, Loss: 0.0\n",
      "Generating Image Number: 11 for target class tensor([0]). Step 300, Loss: 0.0\n",
      "Generating Image Number: 11 for target class tensor([0]). Step 350, Loss: 0.0\n",
      "Generating Image Number: 11 for target class tensor([0]). Step 400, Loss: 0.0\n",
      "Generating Image Number: 11 for target class tensor([0]). Step 450, Loss: 0.0\n",
      "Generating Image Number: 12 for target class tensor([0]). Step 0, Loss: 0.4609500467777252\n",
      "Generating Image Number: 12 for target class tensor([0]). Step 50, Loss: 0.1920953392982483\n",
      "Generating Image Number: 12 for target class tensor([0]). Step 100, Loss: 0.1519276201725006\n",
      "Generating Image Number: 12 for target class tensor([0]). Step 150, Loss: 0.12824879586696625\n",
      "Generating Image Number: 12 for target class tensor([0]). Step 200, Loss: 0.1132773831486702\n",
      "Generating Image Number: 12 for target class tensor([0]). Step 250, Loss: 0.10094815492630005\n",
      "Generating Image Number: 12 for target class tensor([0]). Step 300, Loss: 0.09542344510555267\n",
      "Generating Image Number: 12 for target class tensor([0]). Step 350, Loss: 0.08840042352676392\n",
      "Generating Image Number: 12 for target class tensor([0]). Step 400, Loss: 0.08340253680944443\n",
      "Generating Image Number: 12 for target class tensor([0]). Step 450, Loss: 0.07991288602352142\n",
      "Generating Image Number: 13 for target class tensor([0]). Step 0, Loss: 0.35338863730430603\n",
      "Generating Image Number: 13 for target class tensor([0]). Step 50, Loss: 0.12424750626087189\n",
      "Generating Image Number: 13 for target class tensor([0]). Step 100, Loss: 0.10682719200849533\n",
      "Generating Image Number: 13 for target class tensor([0]). Step 150, Loss: 0.09810607880353928\n",
      "Generating Image Number: 13 for target class tensor([0]). Step 200, Loss: 0.08991598337888718\n",
      "Generating Image Number: 13 for target class tensor([0]). Step 250, Loss: 0.08426636457443237\n",
      "Generating Image Number: 13 for target class tensor([0]). Step 300, Loss: 0.07877109199762344\n",
      "Generating Image Number: 13 for target class tensor([0]). Step 350, Loss: 0.07429153472185135\n",
      "Generating Image Number: 13 for target class tensor([0]). Step 400, Loss: 0.07121838629245758\n",
      "Generating Image Number: 13 for target class tensor([0]). Step 450, Loss: 0.06827905774116516\n",
      "Generating Image Number: 14 for target class tensor([0]). Step 0, Loss: 0.0\n",
      "Generating Image Number: 14 for target class tensor([0]). Step 50, Loss: 0.0\n",
      "Generating Image Number: 14 for target class tensor([0]). Step 100, Loss: 0.0\n",
      "Generating Image Number: 14 for target class tensor([0]). Step 150, Loss: 0.0\n",
      "Generating Image Number: 14 for target class tensor([0]). Step 200, Loss: 0.0\n",
      "Generating Image Number: 14 for target class tensor([0]). Step 250, Loss: 0.0\n",
      "Generating Image Number: 14 for target class tensor([0]). Step 300, Loss: 0.0\n",
      "Generating Image Number: 14 for target class tensor([0]). Step 350, Loss: 0.0\n",
      "Generating Image Number: 14 for target class tensor([0]). Step 400, Loss: 0.0\n",
      "Generating Image Number: 14 for target class tensor([0]). Step 450, Loss: 0.0\n",
      "Generating Image Number: 15 for target class tensor([0]). Step 0, Loss: 0.7576029300689697\n",
      "Generating Image Number: 15 for target class tensor([0]). Step 50, Loss: 0.19385960698127747\n",
      "Generating Image Number: 15 for target class tensor([0]). Step 100, Loss: 0.11707431077957153\n",
      "Generating Image Number: 15 for target class tensor([0]). Step 150, Loss: 0.09707337617874146\n",
      "Generating Image Number: 15 for target class tensor([0]). Step 200, Loss: 0.08597888052463531\n",
      "Generating Image Number: 15 for target class tensor([0]). Step 250, Loss: 0.07771975547075272\n",
      "Generating Image Number: 15 for target class tensor([0]). Step 300, Loss: 0.07162295281887054\n",
      "Generating Image Number: 15 for target class tensor([0]). Step 350, Loss: 0.06709858775138855\n",
      "Generating Image Number: 15 for target class tensor([0]). Step 400, Loss: 0.06346891820430756\n",
      "Generating Image Number: 15 for target class tensor([0]). Step 450, Loss: 0.060540471225976944\n",
      "Generating Image Number: 16 for target class tensor([0]). Step 0, Loss: 0.4600781202316284\n",
      "Generating Image Number: 16 for target class tensor([0]). Step 50, Loss: 0.11993950605392456\n",
      "Generating Image Number: 16 for target class tensor([0]). Step 100, Loss: 0.10086679458618164\n",
      "Generating Image Number: 16 for target class tensor([0]). Step 150, Loss: 0.08822056651115417\n",
      "Generating Image Number: 16 for target class tensor([0]). Step 200, Loss: 0.07903802394866943\n",
      "Generating Image Number: 16 for target class tensor([0]). Step 250, Loss: 0.07151053100824356\n",
      "Generating Image Number: 16 for target class tensor([0]). Step 300, Loss: 0.06484485417604446\n",
      "Generating Image Number: 16 for target class tensor([0]). Step 350, Loss: 0.05905206874012947\n",
      "Generating Image Number: 16 for target class tensor([0]). Step 400, Loss: 0.053901445120573044\n",
      "Generating Image Number: 16 for target class tensor([0]). Step 450, Loss: 0.049040425568819046\n",
      "Generating Image Number: 17 for target class tensor([0]). Step 0, Loss: 0.29078409075737\n",
      "Generating Image Number: 17 for target class tensor([0]). Step 50, Loss: 0.11704950034618378\n",
      "Generating Image Number: 17 for target class tensor([0]). Step 100, Loss: 0.10177532583475113\n",
      "Generating Image Number: 17 for target class tensor([0]). Step 150, Loss: 0.09391719102859497\n",
      "Generating Image Number: 17 for target class tensor([0]). Step 200, Loss: 0.08772515505552292\n",
      "Generating Image Number: 17 for target class tensor([0]). Step 250, Loss: 0.08274737000465393\n",
      "Generating Image Number: 17 for target class tensor([0]). Step 300, Loss: 0.07899297028779984\n",
      "Generating Image Number: 17 for target class tensor([0]). Step 350, Loss: 0.07509924471378326\n",
      "Generating Image Number: 17 for target class tensor([0]). Step 400, Loss: 0.0711241289973259\n",
      "Generating Image Number: 17 for target class tensor([0]). Step 450, Loss: 0.06704731285572052\n",
      "Generating Image Number: 18 for target class tensor([0]). Step 0, Loss: 0.0\n",
      "Generating Image Number: 18 for target class tensor([0]). Step 50, Loss: 0.0\n",
      "Generating Image Number: 18 for target class tensor([0]). Step 100, Loss: 0.0\n",
      "Generating Image Number: 18 for target class tensor([0]). Step 150, Loss: 0.0\n",
      "Generating Image Number: 18 for target class tensor([0]). Step 200, Loss: 0.0\n",
      "Generating Image Number: 18 for target class tensor([0]). Step 250, Loss: 0.0\n",
      "Generating Image Number: 18 for target class tensor([0]). Step 300, Loss: 0.0\n",
      "Generating Image Number: 18 for target class tensor([0]). Step 350, Loss: 0.0\n",
      "Generating Image Number: 18 for target class tensor([0]). Step 400, Loss: 0.0\n",
      "Generating Image Number: 18 for target class tensor([0]). Step 450, Loss: 0.0\n",
      "Generating Image Number: 19 for target class tensor([0]). Step 0, Loss: 4.106742858886719\n",
      "Generating Image Number: 19 for target class tensor([0]). Step 50, Loss: 1.0300604104995728\n",
      "Generating Image Number: 19 for target class tensor([0]). Step 100, Loss: 0.919735312461853\n",
      "Generating Image Number: 19 for target class tensor([0]). Step 150, Loss: 0.8856832981109619\n",
      "Generating Image Number: 19 for target class tensor([0]). Step 200, Loss: 0.7379559874534607\n",
      "Generating Image Number: 19 for target class tensor([0]). Step 250, Loss: 0.6854345798492432\n",
      "Generating Image Number: 19 for target class tensor([0]). Step 300, Loss: 0.6465845108032227\n",
      "Generating Image Number: 19 for target class tensor([0]). Step 350, Loss: 0.613041877746582\n",
      "Generating Image Number: 19 for target class tensor([0]). Step 400, Loss: 0.5799744725227356\n",
      "Generating Image Number: 19 for target class tensor([0]). Step 450, Loss: 0.5488872528076172\n",
      "Generating Image Number: 20 for target class tensor([0]). Step 0, Loss: 3.6043310165405273\n",
      "Generating Image Number: 20 for target class tensor([0]). Step 50, Loss: 0.7879159450531006\n",
      "Generating Image Number: 20 for target class tensor([0]). Step 100, Loss: 0.7278698682785034\n",
      "Generating Image Number: 20 for target class tensor([0]). Step 150, Loss: 0.6800940632820129\n",
      "Generating Image Number: 20 for target class tensor([0]). Step 200, Loss: 0.6313844919204712\n",
      "Generating Image Number: 20 for target class tensor([0]). Step 250, Loss: 0.5817209482192993\n",
      "Generating Image Number: 20 for target class tensor([0]). Step 300, Loss: 0.5440314412117004\n",
      "Generating Image Number: 20 for target class tensor([0]). Step 350, Loss: 0.5182427763938904\n",
      "Generating Image Number: 20 for target class tensor([0]). Step 400, Loss: 0.4951861798763275\n",
      "Generating Image Number: 20 for target class tensor([0]). Step 450, Loss: 0.4651382267475128\n"
     ]
    }
   ],
   "source": [
    "class0_optimized_latent_vectors = recover_images(img_count, 0, latent_vectors)"
   ]
  },
  {
   "cell_type": "code",
   "execution_count": 21,
   "id": "6718334c-2bb1-42a3-bd8c-6aea38e6b59c",
   "metadata": {
    "scrolled": true
   },
   "outputs": [
    {
     "name": "stdout",
     "output_type": "stream",
     "text": [
      "Generating Image Number: 1 for target class tensor([1]). Step 0, Loss: 2.9090511798858643\n",
      "Generating Image Number: 1 for target class tensor([1]). Step 50, Loss: 1.10050368309021\n",
      "Generating Image Number: 1 for target class tensor([1]). Step 100, Loss: 0.9758569002151489\n",
      "Generating Image Number: 1 for target class tensor([1]). Step 150, Loss: 0.9227650165557861\n",
      "Generating Image Number: 1 for target class tensor([1]). Step 200, Loss: 0.8928582668304443\n",
      "Generating Image Number: 1 for target class tensor([1]). Step 250, Loss: 0.8623977899551392\n",
      "Generating Image Number: 1 for target class tensor([1]). Step 300, Loss: 0.8364173173904419\n",
      "Generating Image Number: 1 for target class tensor([1]). Step 350, Loss: 0.8068515062332153\n",
      "Generating Image Number: 1 for target class tensor([1]). Step 400, Loss: 0.7630311846733093\n",
      "Generating Image Number: 1 for target class tensor([1]). Step 450, Loss: 0.7302494049072266\n",
      "Generating Image Number: 2 for target class tensor([1]). Step 0, Loss: 2.1085057258605957\n",
      "Generating Image Number: 2 for target class tensor([1]). Step 50, Loss: 1.0417098999023438\n",
      "Generating Image Number: 2 for target class tensor([1]). Step 100, Loss: 0.7317134737968445\n",
      "Generating Image Number: 2 for target class tensor([1]). Step 150, Loss: 0.5588914155960083\n",
      "Generating Image Number: 2 for target class tensor([1]). Step 200, Loss: 0.4105887711048126\n",
      "Generating Image Number: 2 for target class tensor([1]). Step 250, Loss: 0.30652540922164917\n",
      "Generating Image Number: 2 for target class tensor([1]). Step 300, Loss: 0.22726312279701233\n",
      "Generating Image Number: 2 for target class tensor([1]). Step 350, Loss: 0.15261033177375793\n",
      "Generating Image Number: 2 for target class tensor([1]). Step 400, Loss: 0.09712259471416473\n",
      "Generating Image Number: 2 for target class tensor([1]). Step 450, Loss: 0.07051119208335876\n",
      "Generating Image Number: 3 for target class tensor([1]). Step 0, Loss: 5.660854816436768\n",
      "Generating Image Number: 3 for target class tensor([1]). Step 50, Loss: 3.6187756061553955\n",
      "Generating Image Number: 3 for target class tensor([1]). Step 100, Loss: 2.308915138244629\n",
      "Generating Image Number: 3 for target class tensor([1]). Step 150, Loss: 1.2228792905807495\n",
      "Generating Image Number: 3 for target class tensor([1]). Step 200, Loss: 0.8610204458236694\n",
      "Generating Image Number: 3 for target class tensor([1]). Step 250, Loss: 0.6690411567687988\n",
      "Generating Image Number: 3 for target class tensor([1]). Step 300, Loss: 0.5499100089073181\n",
      "Generating Image Number: 3 for target class tensor([1]). Step 350, Loss: 0.48842906951904297\n",
      "Generating Image Number: 3 for target class tensor([1]). Step 400, Loss: 0.4317871928215027\n",
      "Generating Image Number: 3 for target class tensor([1]). Step 450, Loss: 0.3902150094509125\n",
      "Generating Image Number: 4 for target class tensor([1]). Step 0, Loss: 3.124004602432251\n",
      "Generating Image Number: 4 for target class tensor([1]). Step 50, Loss: 2.444950819015503\n",
      "Generating Image Number: 4 for target class tensor([1]). Step 100, Loss: 1.9319227933883667\n",
      "Generating Image Number: 4 for target class tensor([1]). Step 150, Loss: 1.6447821855545044\n",
      "Generating Image Number: 4 for target class tensor([1]). Step 200, Loss: 1.425172209739685\n",
      "Generating Image Number: 4 for target class tensor([1]). Step 250, Loss: 1.2152336835861206\n",
      "Generating Image Number: 4 for target class tensor([1]). Step 300, Loss: 1.0250005722045898\n",
      "Generating Image Number: 4 for target class tensor([1]). Step 350, Loss: 0.8853172659873962\n",
      "Generating Image Number: 4 for target class tensor([1]). Step 400, Loss: 0.8016018867492676\n",
      "Generating Image Number: 4 for target class tensor([1]). Step 450, Loss: 0.6476262211799622\n",
      "Generating Image Number: 5 for target class tensor([1]). Step 0, Loss: 3.926680564880371\n",
      "Generating Image Number: 5 for target class tensor([1]). Step 50, Loss: 2.7154979705810547\n",
      "Generating Image Number: 5 for target class tensor([1]). Step 100, Loss: 2.108841896057129\n",
      "Generating Image Number: 5 for target class tensor([1]). Step 150, Loss: 1.720252275466919\n",
      "Generating Image Number: 5 for target class tensor([1]). Step 200, Loss: 1.4962941408157349\n",
      "Generating Image Number: 5 for target class tensor([1]). Step 250, Loss: 1.2763069868087769\n",
      "Generating Image Number: 5 for target class tensor([1]). Step 300, Loss: 1.1606075763702393\n",
      "Generating Image Number: 5 for target class tensor([1]). Step 350, Loss: 1.0488804578781128\n",
      "Generating Image Number: 5 for target class tensor([1]). Step 400, Loss: 0.9537743926048279\n",
      "Generating Image Number: 5 for target class tensor([1]). Step 450, Loss: 0.8949663639068604\n",
      "Generating Image Number: 6 for target class tensor([1]). Step 0, Loss: 3.688438892364502\n",
      "Generating Image Number: 6 for target class tensor([1]). Step 50, Loss: 2.819988250732422\n",
      "Generating Image Number: 6 for target class tensor([1]). Step 100, Loss: 2.1404032707214355\n",
      "Generating Image Number: 6 for target class tensor([1]). Step 150, Loss: 1.3643449544906616\n",
      "Generating Image Number: 6 for target class tensor([1]). Step 200, Loss: 0.8590194582939148\n",
      "Generating Image Number: 6 for target class tensor([1]). Step 250, Loss: 0.6520968675613403\n",
      "Generating Image Number: 6 for target class tensor([1]). Step 300, Loss: 0.5499563217163086\n",
      "Generating Image Number: 6 for target class tensor([1]). Step 350, Loss: 0.46790775656700134\n",
      "Generating Image Number: 6 for target class tensor([1]). Step 400, Loss: 0.4157276749610901\n",
      "Generating Image Number: 6 for target class tensor([1]). Step 450, Loss: 0.3823366165161133\n",
      "Generating Image Number: 7 for target class tensor([1]). Step 0, Loss: 17.432477951049805\n",
      "Generating Image Number: 7 for target class tensor([1]). Step 50, Loss: 2.100698471069336\n",
      "Generating Image Number: 7 for target class tensor([1]). Step 100, Loss: 2.033889055252075\n",
      "Generating Image Number: 7 for target class tensor([1]). Step 150, Loss: 1.9855563640594482\n",
      "Generating Image Number: 7 for target class tensor([1]). Step 200, Loss: 1.9485437870025635\n",
      "Generating Image Number: 7 for target class tensor([1]). Step 250, Loss: 1.9144635200500488\n",
      "Generating Image Number: 7 for target class tensor([1]). Step 300, Loss: 1.8717421293258667\n",
      "Generating Image Number: 7 for target class tensor([1]). Step 350, Loss: 1.822321891784668\n",
      "Generating Image Number: 7 for target class tensor([1]). Step 400, Loss: 1.7670608758926392\n",
      "Generating Image Number: 7 for target class tensor([1]). Step 450, Loss: 1.7217202186584473\n",
      "Generating Image Number: 8 for target class tensor([1]). Step 0, Loss: 18.695985794067383\n",
      "Generating Image Number: 8 for target class tensor([1]). Step 50, Loss: 17.804441452026367\n",
      "Generating Image Number: 8 for target class tensor([1]). Step 100, Loss: 1.695436716079712\n",
      "Generating Image Number: 8 for target class tensor([1]). Step 150, Loss: 1.5484042167663574\n",
      "Generating Image Number: 8 for target class tensor([1]). Step 200, Loss: 1.4322960376739502\n",
      "Generating Image Number: 8 for target class tensor([1]). Step 250, Loss: 1.3188015222549438\n",
      "Generating Image Number: 8 for target class tensor([1]). Step 300, Loss: 1.2157249450683594\n",
      "Generating Image Number: 8 for target class tensor([1]). Step 350, Loss: 1.123342514038086\n",
      "Generating Image Number: 8 for target class tensor([1]). Step 400, Loss: 1.055570125579834\n",
      "Generating Image Number: 8 for target class tensor([1]). Step 450, Loss: 1.000429630279541\n",
      "Generating Image Number: 9 for target class tensor([1]). Step 0, Loss: 3.2952656745910645\n",
      "Generating Image Number: 9 for target class tensor([1]). Step 50, Loss: 1.6025512218475342\n",
      "Generating Image Number: 9 for target class tensor([1]). Step 100, Loss: 1.3287804126739502\n",
      "Generating Image Number: 9 for target class tensor([1]). Step 150, Loss: 1.1580514907836914\n",
      "Generating Image Number: 9 for target class tensor([1]). Step 200, Loss: 0.9536744356155396\n",
      "Generating Image Number: 9 for target class tensor([1]). Step 250, Loss: 0.8846904039382935\n",
      "Generating Image Number: 9 for target class tensor([1]). Step 300, Loss: 0.8107193112373352\n",
      "Generating Image Number: 9 for target class tensor([1]). Step 350, Loss: 0.6852586269378662\n",
      "Generating Image Number: 9 for target class tensor([1]). Step 400, Loss: 0.555991530418396\n",
      "Generating Image Number: 9 for target class tensor([1]). Step 450, Loss: 0.3870612680912018\n",
      "Generating Image Number: 10 for target class tensor([1]). Step 0, Loss: 6.753643035888672\n",
      "Generating Image Number: 10 for target class tensor([1]). Step 50, Loss: 1.6643240451812744\n",
      "Generating Image Number: 10 for target class tensor([1]). Step 100, Loss: 1.465548038482666\n",
      "Generating Image Number: 10 for target class tensor([1]). Step 150, Loss: 1.2410399913787842\n",
      "Generating Image Number: 10 for target class tensor([1]). Step 200, Loss: 1.0739336013793945\n",
      "Generating Image Number: 10 for target class tensor([1]). Step 250, Loss: 0.9518982768058777\n",
      "Generating Image Number: 10 for target class tensor([1]). Step 300, Loss: 0.8510327339172363\n",
      "Generating Image Number: 10 for target class tensor([1]). Step 350, Loss: 0.7815366983413696\n",
      "Generating Image Number: 10 for target class tensor([1]). Step 400, Loss: 0.7181562781333923\n",
      "Generating Image Number: 10 for target class tensor([1]). Step 450, Loss: 0.6663525700569153\n",
      "Generating Image Number: 11 for target class tensor([1]). Step 0, Loss: 3.8449740409851074\n",
      "Generating Image Number: 11 for target class tensor([1]). Step 50, Loss: 0.9121185541152954\n",
      "Generating Image Number: 11 for target class tensor([1]). Step 100, Loss: 0.793616771697998\n",
      "Generating Image Number: 11 for target class tensor([1]). Step 150, Loss: 0.6943895220756531\n",
      "Generating Image Number: 11 for target class tensor([1]). Step 200, Loss: 0.6507415771484375\n",
      "Generating Image Number: 11 for target class tensor([1]). Step 250, Loss: 0.6036739945411682\n",
      "Generating Image Number: 11 for target class tensor([1]). Step 300, Loss: 0.586965799331665\n",
      "Generating Image Number: 11 for target class tensor([1]). Step 350, Loss: 0.5629364252090454\n",
      "Generating Image Number: 11 for target class tensor([1]). Step 400, Loss: 0.5391139388084412\n",
      "Generating Image Number: 11 for target class tensor([1]). Step 450, Loss: 0.5258238315582275\n",
      "Generating Image Number: 12 for target class tensor([1]). Step 0, Loss: 3.7302255630493164\n",
      "Generating Image Number: 12 for target class tensor([1]). Step 50, Loss: 1.1227777004241943\n",
      "Generating Image Number: 12 for target class tensor([1]). Step 100, Loss: 0.8067677617073059\n",
      "Generating Image Number: 12 for target class tensor([1]). Step 150, Loss: 0.643595278263092\n",
      "Generating Image Number: 12 for target class tensor([1]). Step 200, Loss: 0.48013707995414734\n",
      "Generating Image Number: 12 for target class tensor([1]). Step 250, Loss: 0.27678295969963074\n",
      "Generating Image Number: 12 for target class tensor([1]). Step 300, Loss: 0.18673193454742432\n",
      "Generating Image Number: 12 for target class tensor([1]). Step 350, Loss: 0.12849214673042297\n",
      "Generating Image Number: 12 for target class tensor([1]). Step 400, Loss: 0.09792191535234451\n",
      "Generating Image Number: 12 for target class tensor([1]). Step 450, Loss: 0.08002305030822754\n",
      "Generating Image Number: 13 for target class tensor([1]). Step 0, Loss: 5.1210103034973145\n",
      "Generating Image Number: 13 for target class tensor([1]). Step 50, Loss: 2.9135522842407227\n",
      "Generating Image Number: 13 for target class tensor([1]). Step 100, Loss: 2.0396580696105957\n",
      "Generating Image Number: 13 for target class tensor([1]). Step 150, Loss: 1.7644455432891846\n",
      "Generating Image Number: 13 for target class tensor([1]). Step 200, Loss: 1.5799075365066528\n",
      "Generating Image Number: 13 for target class tensor([1]). Step 250, Loss: 1.508564829826355\n",
      "Generating Image Number: 13 for target class tensor([1]). Step 300, Loss: 1.4576047658920288\n",
      "Generating Image Number: 13 for target class tensor([1]). Step 350, Loss: 1.425230860710144\n",
      "Generating Image Number: 13 for target class tensor([1]). Step 400, Loss: 1.3928056955337524\n",
      "Generating Image Number: 13 for target class tensor([1]). Step 450, Loss: 1.3678754568099976\n",
      "Generating Image Number: 14 for target class tensor([1]). Step 0, Loss: 1.9578149318695068\n",
      "Generating Image Number: 14 for target class tensor([1]). Step 50, Loss: 1.0396361351013184\n",
      "Generating Image Number: 14 for target class tensor([1]). Step 100, Loss: 0.8632513880729675\n",
      "Generating Image Number: 14 for target class tensor([1]). Step 150, Loss: 0.7034695744514465\n",
      "Generating Image Number: 14 for target class tensor([1]). Step 200, Loss: 0.49658268690109253\n",
      "Generating Image Number: 14 for target class tensor([1]). Step 250, Loss: 0.4023294448852539\n",
      "Generating Image Number: 14 for target class tensor([1]). Step 300, Loss: 0.34478968381881714\n",
      "Generating Image Number: 14 for target class tensor([1]). Step 350, Loss: 0.3090851306915283\n",
      "Generating Image Number: 14 for target class tensor([1]). Step 400, Loss: 0.28214189410209656\n",
      "Generating Image Number: 14 for target class tensor([1]). Step 450, Loss: 0.25975701212882996\n",
      "Generating Image Number: 15 for target class tensor([1]). Step 0, Loss: 2.553414821624756\n",
      "Generating Image Number: 15 for target class tensor([1]). Step 50, Loss: 1.330275058746338\n",
      "Generating Image Number: 15 for target class tensor([1]). Step 100, Loss: 1.1721572875976562\n",
      "Generating Image Number: 15 for target class tensor([1]). Step 150, Loss: 1.1053935289382935\n",
      "Generating Image Number: 15 for target class tensor([1]). Step 200, Loss: 1.0535787343978882\n",
      "Generating Image Number: 15 for target class tensor([1]). Step 250, Loss: 1.0089327096939087\n",
      "Generating Image Number: 15 for target class tensor([1]). Step 300, Loss: 0.9683235883712769\n",
      "Generating Image Number: 15 for target class tensor([1]). Step 350, Loss: 0.9388151168823242\n",
      "Generating Image Number: 15 for target class tensor([1]). Step 400, Loss: 0.9157827496528625\n",
      "Generating Image Number: 15 for target class tensor([1]). Step 450, Loss: 0.890978217124939\n",
      "Generating Image Number: 16 for target class tensor([1]). Step 0, Loss: 17.211435317993164\n",
      "Generating Image Number: 16 for target class tensor([1]). Step 50, Loss: 0.9963491559028625\n",
      "Generating Image Number: 16 for target class tensor([1]). Step 100, Loss: 0.6336549520492554\n",
      "Generating Image Number: 16 for target class tensor([1]). Step 150, Loss: 0.5102477073669434\n",
      "Generating Image Number: 16 for target class tensor([1]). Step 200, Loss: 0.43453913927078247\n",
      "Generating Image Number: 16 for target class tensor([1]). Step 250, Loss: 0.3743782341480255\n",
      "Generating Image Number: 16 for target class tensor([1]). Step 300, Loss: 0.3206556737422943\n",
      "Generating Image Number: 16 for target class tensor([1]). Step 350, Loss: 0.2536928653717041\n",
      "Generating Image Number: 16 for target class tensor([1]). Step 400, Loss: 0.21652455627918243\n",
      "Generating Image Number: 16 for target class tensor([1]). Step 450, Loss: 0.191155806183815\n",
      "Generating Image Number: 17 for target class tensor([1]). Step 0, Loss: 2.393859386444092\n",
      "Generating Image Number: 17 for target class tensor([1]). Step 50, Loss: 0.6995380520820618\n",
      "Generating Image Number: 17 for target class tensor([1]). Step 100, Loss: 0.4588542878627777\n",
      "Generating Image Number: 17 for target class tensor([1]). Step 150, Loss: 0.372273325920105\n",
      "Generating Image Number: 17 for target class tensor([1]). Step 200, Loss: 0.30971789360046387\n",
      "Generating Image Number: 17 for target class tensor([1]). Step 250, Loss: 0.2471204251050949\n",
      "Generating Image Number: 17 for target class tensor([1]). Step 300, Loss: 0.20835734903812408\n",
      "Generating Image Number: 17 for target class tensor([1]). Step 350, Loss: 0.18445594608783722\n",
      "Generating Image Number: 17 for target class tensor([1]). Step 400, Loss: 0.16370774805545807\n",
      "Generating Image Number: 17 for target class tensor([1]). Step 450, Loss: 0.14442403614521027\n",
      "Generating Image Number: 18 for target class tensor([1]). Step 0, Loss: 3.803917407989502\n",
      "Generating Image Number: 18 for target class tensor([1]). Step 50, Loss: 2.6435086727142334\n",
      "Generating Image Number: 18 for target class tensor([1]). Step 100, Loss: 2.383617877960205\n",
      "Generating Image Number: 18 for target class tensor([1]). Step 150, Loss: 2.2019894123077393\n",
      "Generating Image Number: 18 for target class tensor([1]). Step 200, Loss: 2.033519983291626\n",
      "Generating Image Number: 18 for target class tensor([1]). Step 250, Loss: 1.8245985507965088\n",
      "Generating Image Number: 18 for target class tensor([1]). Step 300, Loss: 1.488846778869629\n",
      "Generating Image Number: 18 for target class tensor([1]). Step 350, Loss: 1.3121466636657715\n",
      "Generating Image Number: 18 for target class tensor([1]). Step 400, Loss: 1.1178276538848877\n",
      "Generating Image Number: 18 for target class tensor([1]). Step 450, Loss: 1.0292350053787231\n",
      "Generating Image Number: 19 for target class tensor([1]). Step 0, Loss: 3.201331377029419\n",
      "Generating Image Number: 19 for target class tensor([1]). Step 50, Loss: 2.94199800491333\n",
      "Generating Image Number: 19 for target class tensor([1]). Step 100, Loss: 2.1137914657592773\n",
      "Generating Image Number: 19 for target class tensor([1]). Step 150, Loss: 1.1532115936279297\n",
      "Generating Image Number: 19 for target class tensor([1]). Step 200, Loss: 1.0390146970748901\n",
      "Generating Image Number: 19 for target class tensor([1]). Step 250, Loss: 1.0213316679000854\n",
      "Generating Image Number: 19 for target class tensor([1]). Step 300, Loss: 1.0049718618392944\n",
      "Generating Image Number: 19 for target class tensor([1]). Step 350, Loss: 0.9902357459068298\n",
      "Generating Image Number: 19 for target class tensor([1]). Step 400, Loss: 0.9753210544586182\n",
      "Generating Image Number: 19 for target class tensor([1]). Step 450, Loss: 0.9628289937973022\n",
      "Generating Image Number: 20 for target class tensor([1]). Step 0, Loss: 1.9520533084869385\n",
      "Generating Image Number: 20 for target class tensor([1]). Step 50, Loss: 1.308307409286499\n",
      "Generating Image Number: 20 for target class tensor([1]). Step 100, Loss: 1.0511424541473389\n",
      "Generating Image Number: 20 for target class tensor([1]). Step 150, Loss: 0.9292089343070984\n",
      "Generating Image Number: 20 for target class tensor([1]). Step 200, Loss: 0.8535754680633545\n",
      "Generating Image Number: 20 for target class tensor([1]). Step 250, Loss: 0.7687928676605225\n",
      "Generating Image Number: 20 for target class tensor([1]). Step 300, Loss: 0.6520081758499146\n",
      "Generating Image Number: 20 for target class tensor([1]). Step 350, Loss: 0.5535109639167786\n",
      "Generating Image Number: 20 for target class tensor([1]). Step 400, Loss: 0.4664022624492645\n",
      "Generating Image Number: 20 for target class tensor([1]). Step 450, Loss: 0.41277164220809937\n"
     ]
    }
   ],
   "source": [
    "torch.manual_seed(100)\n",
    "latent_vectors = torch.randn(img_count, z_dim, 1, 1, requires_grad=True) # Start with 20 random noises\n",
    "class1_optimized_latent_vectors = recover_images(img_count, 1, latent_vectors)"
   ]
  },
  {
   "cell_type": "code",
   "execution_count": 22,
   "id": "1c8af686-b1ff-419d-946d-2447773e47c9",
   "metadata": {
    "scrolled": true
   },
   "outputs": [
    {
     "name": "stdout",
     "output_type": "stream",
     "text": [
      "Generating Image Number: 1 for target class tensor([2]). Step 0, Loss: 2.444798707962036\n",
      "Generating Image Number: 1 for target class tensor([2]). Step 50, Loss: 0.131614089012146\n",
      "Generating Image Number: 1 for target class tensor([2]). Step 100, Loss: 0.10192864388227463\n",
      "Generating Image Number: 1 for target class tensor([2]). Step 150, Loss: 0.09573666006326675\n",
      "Generating Image Number: 1 for target class tensor([2]). Step 200, Loss: 0.09010064601898193\n",
      "Generating Image Number: 1 for target class tensor([2]). Step 250, Loss: 0.08546746522188187\n",
      "Generating Image Number: 1 for target class tensor([2]). Step 300, Loss: 0.08105404675006866\n",
      "Generating Image Number: 1 for target class tensor([2]). Step 350, Loss: 0.07704055309295654\n",
      "Generating Image Number: 1 for target class tensor([2]). Step 400, Loss: 0.07284874469041824\n",
      "Generating Image Number: 1 for target class tensor([2]). Step 450, Loss: 0.06864530593156815\n",
      "Generating Image Number: 2 for target class tensor([2]). Step 0, Loss: 3.195918321609497\n",
      "Generating Image Number: 2 for target class tensor([2]). Step 50, Loss: 1.9188462495803833\n",
      "Generating Image Number: 2 for target class tensor([2]). Step 100, Loss: 1.578714370727539\n",
      "Generating Image Number: 2 for target class tensor([2]). Step 150, Loss: 1.3143469095230103\n",
      "Generating Image Number: 2 for target class tensor([2]). Step 200, Loss: 1.142994999885559\n",
      "Generating Image Number: 2 for target class tensor([2]). Step 250, Loss: 0.9599424004554749\n",
      "Generating Image Number: 2 for target class tensor([2]). Step 300, Loss: 0.8311251997947693\n",
      "Generating Image Number: 2 for target class tensor([2]). Step 350, Loss: 0.7663589715957642\n",
      "Generating Image Number: 2 for target class tensor([2]). Step 400, Loss: 0.7300126552581787\n",
      "Generating Image Number: 2 for target class tensor([2]). Step 450, Loss: 0.6994026303291321\n",
      "Generating Image Number: 3 for target class tensor([2]). Step 0, Loss: 0.6864023804664612\n",
      "Generating Image Number: 3 for target class tensor([2]). Step 50, Loss: 0.1431460827589035\n",
      "Generating Image Number: 3 for target class tensor([2]). Step 100, Loss: 0.1159466952085495\n",
      "Generating Image Number: 3 for target class tensor([2]). Step 150, Loss: 0.09734141081571579\n",
      "Generating Image Number: 3 for target class tensor([2]). Step 200, Loss: 0.08420083671808243\n",
      "Generating Image Number: 3 for target class tensor([2]). Step 250, Loss: 0.0721229687333107\n",
      "Generating Image Number: 3 for target class tensor([2]). Step 300, Loss: 0.06279988586902618\n",
      "Generating Image Number: 3 for target class tensor([2]). Step 350, Loss: 0.0563339926302433\n",
      "Generating Image Number: 3 for target class tensor([2]). Step 400, Loss: 0.05161105468869209\n",
      "Generating Image Number: 3 for target class tensor([2]). Step 450, Loss: 0.047410883009433746\n",
      "Generating Image Number: 4 for target class tensor([2]). Step 0, Loss: 0.844318151473999\n",
      "Generating Image Number: 4 for target class tensor([2]). Step 50, Loss: 0.646113932132721\n",
      "Generating Image Number: 4 for target class tensor([2]). Step 100, Loss: 0.34693774580955505\n",
      "Generating Image Number: 4 for target class tensor([2]). Step 150, Loss: 0.25139376521110535\n",
      "Generating Image Number: 4 for target class tensor([2]). Step 200, Loss: 0.20245787501335144\n",
      "Generating Image Number: 4 for target class tensor([2]). Step 250, Loss: 0.17553678154945374\n",
      "Generating Image Number: 4 for target class tensor([2]). Step 300, Loss: 0.15851235389709473\n",
      "Generating Image Number: 4 for target class tensor([2]). Step 350, Loss: 0.14703135192394257\n",
      "Generating Image Number: 4 for target class tensor([2]). Step 400, Loss: 0.13763795793056488\n",
      "Generating Image Number: 4 for target class tensor([2]). Step 450, Loss: 0.13090035319328308\n",
      "Generating Image Number: 5 for target class tensor([2]). Step 0, Loss: 2.6885111331939697\n",
      "Generating Image Number: 5 for target class tensor([2]). Step 50, Loss: 1.6449896097183228\n",
      "Generating Image Number: 5 for target class tensor([2]). Step 100, Loss: 1.2860522270202637\n",
      "Generating Image Number: 5 for target class tensor([2]). Step 150, Loss: 1.0337673425674438\n",
      "Generating Image Number: 5 for target class tensor([2]). Step 200, Loss: 0.861616313457489\n",
      "Generating Image Number: 5 for target class tensor([2]). Step 250, Loss: 0.7479069232940674\n",
      "Generating Image Number: 5 for target class tensor([2]). Step 300, Loss: 0.6955337524414062\n",
      "Generating Image Number: 5 for target class tensor([2]). Step 350, Loss: 0.6511393785476685\n",
      "Generating Image Number: 5 for target class tensor([2]). Step 400, Loss: 0.6205542683601379\n",
      "Generating Image Number: 5 for target class tensor([2]). Step 450, Loss: 0.5935885310173035\n",
      "Generating Image Number: 6 for target class tensor([2]). Step 0, Loss: 2.8550288677215576\n",
      "Generating Image Number: 6 for target class tensor([2]). Step 50, Loss: 0.44012296199798584\n",
      "Generating Image Number: 6 for target class tensor([2]). Step 100, Loss: 0.31935515999794006\n",
      "Generating Image Number: 6 for target class tensor([2]). Step 150, Loss: 0.247182235121727\n",
      "Generating Image Number: 6 for target class tensor([2]). Step 200, Loss: 0.18378987908363342\n",
      "Generating Image Number: 6 for target class tensor([2]). Step 250, Loss: 0.14560432732105255\n",
      "Generating Image Number: 6 for target class tensor([2]). Step 300, Loss: 0.1191602498292923\n",
      "Generating Image Number: 6 for target class tensor([2]). Step 350, Loss: 0.09973951429128647\n",
      "Generating Image Number: 6 for target class tensor([2]). Step 400, Loss: 0.0864153504371643\n",
      "Generating Image Number: 6 for target class tensor([2]). Step 450, Loss: 0.07467937469482422\n",
      "Generating Image Number: 7 for target class tensor([2]). Step 0, Loss: 2.983720302581787\n",
      "Generating Image Number: 7 for target class tensor([2]). Step 50, Loss: 0.39458543062210083\n",
      "Generating Image Number: 7 for target class tensor([2]). Step 100, Loss: 0.16110911965370178\n",
      "Generating Image Number: 7 for target class tensor([2]). Step 150, Loss: 0.13686653971672058\n",
      "Generating Image Number: 7 for target class tensor([2]). Step 200, Loss: 0.11824016273021698\n",
      "Generating Image Number: 7 for target class tensor([2]). Step 250, Loss: 0.1023075208067894\n",
      "Generating Image Number: 7 for target class tensor([2]). Step 300, Loss: 0.08976942300796509\n",
      "Generating Image Number: 7 for target class tensor([2]). Step 350, Loss: 0.07934044301509857\n",
      "Generating Image Number: 7 for target class tensor([2]). Step 400, Loss: 0.07072912901639938\n",
      "Generating Image Number: 7 for target class tensor([2]). Step 450, Loss: 0.06281992793083191\n",
      "Generating Image Number: 8 for target class tensor([2]). Step 0, Loss: 2.4165167808532715\n",
      "Generating Image Number: 8 for target class tensor([2]). Step 50, Loss: 0.08410275727510452\n",
      "Generating Image Number: 8 for target class tensor([2]). Step 100, Loss: 0.07638484984636307\n",
      "Generating Image Number: 8 for target class tensor([2]). Step 150, Loss: 0.06752309948205948\n",
      "Generating Image Number: 8 for target class tensor([2]). Step 200, Loss: 0.05794862285256386\n",
      "Generating Image Number: 8 for target class tensor([2]). Step 250, Loss: 0.05035564303398132\n",
      "Generating Image Number: 8 for target class tensor([2]). Step 300, Loss: 0.04576694592833519\n",
      "Generating Image Number: 8 for target class tensor([2]). Step 350, Loss: 0.043161820620298386\n",
      "Generating Image Number: 8 for target class tensor([2]). Step 400, Loss: 0.040998753160238266\n",
      "Generating Image Number: 8 for target class tensor([2]). Step 450, Loss: 0.03827400505542755\n",
      "Generating Image Number: 9 for target class tensor([2]). Step 0, Loss: 1.0560154914855957\n",
      "Generating Image Number: 9 for target class tensor([2]). Step 50, Loss: 0.14126427471637726\n",
      "Generating Image Number: 9 for target class tensor([2]). Step 100, Loss: 0.11778578907251358\n",
      "Generating Image Number: 9 for target class tensor([2]). Step 150, Loss: 0.1062670573592186\n",
      "Generating Image Number: 9 for target class tensor([2]). Step 200, Loss: 0.09634050726890564\n",
      "Generating Image Number: 9 for target class tensor([2]). Step 250, Loss: 0.08621490746736526\n",
      "Generating Image Number: 9 for target class tensor([2]). Step 300, Loss: 0.07721911370754242\n",
      "Generating Image Number: 9 for target class tensor([2]). Step 350, Loss: 0.07040142267942429\n",
      "Generating Image Number: 9 for target class tensor([2]). Step 400, Loss: 0.06534045189619064\n",
      "Generating Image Number: 9 for target class tensor([2]). Step 450, Loss: 0.061047740280628204\n",
      "Generating Image Number: 10 for target class tensor([2]). Step 0, Loss: 2.74184513092041\n",
      "Generating Image Number: 10 for target class tensor([2]). Step 50, Loss: 1.7909345626831055\n",
      "Generating Image Number: 10 for target class tensor([2]). Step 100, Loss: 1.4794368743896484\n",
      "Generating Image Number: 10 for target class tensor([2]). Step 150, Loss: 1.281466007232666\n",
      "Generating Image Number: 10 for target class tensor([2]). Step 200, Loss: 1.1171914339065552\n",
      "Generating Image Number: 10 for target class tensor([2]). Step 250, Loss: 0.9821093678474426\n",
      "Generating Image Number: 10 for target class tensor([2]). Step 300, Loss: 0.8526530265808105\n",
      "Generating Image Number: 10 for target class tensor([2]). Step 350, Loss: 0.792832612991333\n",
      "Generating Image Number: 10 for target class tensor([2]). Step 400, Loss: 0.72107994556427\n",
      "Generating Image Number: 10 for target class tensor([2]). Step 450, Loss: 0.6770843267440796\n",
      "Generating Image Number: 11 for target class tensor([2]). Step 0, Loss: 1.0574074983596802\n",
      "Generating Image Number: 11 for target class tensor([2]). Step 50, Loss: 0.6216858625411987\n",
      "Generating Image Number: 11 for target class tensor([2]). Step 100, Loss: 0.562491774559021\n",
      "Generating Image Number: 11 for target class tensor([2]). Step 150, Loss: 0.515007734298706\n",
      "Generating Image Number: 11 for target class tensor([2]). Step 200, Loss: 0.4745548963546753\n",
      "Generating Image Number: 11 for target class tensor([2]). Step 250, Loss: 0.444385290145874\n",
      "Generating Image Number: 11 for target class tensor([2]). Step 300, Loss: 0.4184432327747345\n",
      "Generating Image Number: 11 for target class tensor([2]). Step 350, Loss: 0.3538961708545685\n",
      "Generating Image Number: 11 for target class tensor([2]). Step 400, Loss: 0.12939657270908356\n",
      "Generating Image Number: 11 for target class tensor([2]). Step 450, Loss: 0.07533442974090576\n",
      "Generating Image Number: 12 for target class tensor([2]). Step 0, Loss: 24.42082977294922\n",
      "Generating Image Number: 12 for target class tensor([2]). Step 50, Loss: 23.598468780517578\n",
      "Generating Image Number: 12 for target class tensor([2]). Step 100, Loss: 22.953933715820312\n",
      "Generating Image Number: 12 for target class tensor([2]). Step 150, Loss: 0.19752629101276398\n",
      "Generating Image Number: 12 for target class tensor([2]). Step 200, Loss: 0.16338394582271576\n",
      "Generating Image Number: 12 for target class tensor([2]). Step 250, Loss: 0.15938302874565125\n",
      "Generating Image Number: 12 for target class tensor([2]). Step 300, Loss: 0.15535104274749756\n",
      "Generating Image Number: 12 for target class tensor([2]). Step 350, Loss: 0.15093223750591278\n",
      "Generating Image Number: 12 for target class tensor([2]). Step 400, Loss: 0.14631886780261993\n",
      "Generating Image Number: 12 for target class tensor([2]). Step 450, Loss: 0.14173273742198944\n",
      "Generating Image Number: 13 for target class tensor([2]). Step 0, Loss: 3.7290420532226562\n",
      "Generating Image Number: 13 for target class tensor([2]). Step 50, Loss: 1.627503514289856\n",
      "Generating Image Number: 13 for target class tensor([2]). Step 100, Loss: 1.4039204120635986\n",
      "Generating Image Number: 13 for target class tensor([2]). Step 150, Loss: 1.2412598133087158\n",
      "Generating Image Number: 13 for target class tensor([2]). Step 200, Loss: 1.0550811290740967\n",
      "Generating Image Number: 13 for target class tensor([2]). Step 250, Loss: 0.9191296100616455\n",
      "Generating Image Number: 13 for target class tensor([2]). Step 300, Loss: 0.8269475698471069\n",
      "Generating Image Number: 13 for target class tensor([2]). Step 350, Loss: 0.7584611773490906\n",
      "Generating Image Number: 13 for target class tensor([2]). Step 400, Loss: 0.7187253832817078\n",
      "Generating Image Number: 13 for target class tensor([2]). Step 450, Loss: 0.6859818696975708\n",
      "Generating Image Number: 14 for target class tensor([2]). Step 0, Loss: 1.8641033172607422\n",
      "Generating Image Number: 14 for target class tensor([2]). Step 50, Loss: 0.07856867462396622\n",
      "Generating Image Number: 14 for target class tensor([2]). Step 100, Loss: 0.07211054116487503\n",
      "Generating Image Number: 14 for target class tensor([2]). Step 150, Loss: 0.06423722952604294\n",
      "Generating Image Number: 14 for target class tensor([2]). Step 200, Loss: 0.05868184193968773\n",
      "Generating Image Number: 14 for target class tensor([2]). Step 250, Loss: 0.05286286026239395\n",
      "Generating Image Number: 14 for target class tensor([2]). Step 300, Loss: 0.04825762286782265\n",
      "Generating Image Number: 14 for target class tensor([2]). Step 350, Loss: 0.04477527365088463\n",
      "Generating Image Number: 14 for target class tensor([2]). Step 400, Loss: 0.04166560247540474\n",
      "Generating Image Number: 14 for target class tensor([2]). Step 450, Loss: 0.03930400311946869\n",
      "Generating Image Number: 15 for target class tensor([2]). Step 0, Loss: 1.6698904037475586\n",
      "Generating Image Number: 15 for target class tensor([2]). Step 50, Loss: 0.06390167772769928\n",
      "Generating Image Number: 15 for target class tensor([2]). Step 100, Loss: 0.0530485063791275\n",
      "Generating Image Number: 15 for target class tensor([2]). Step 150, Loss: 0.0466766320168972\n",
      "Generating Image Number: 15 for target class tensor([2]). Step 200, Loss: 0.04204801097512245\n",
      "Generating Image Number: 15 for target class tensor([2]). Step 250, Loss: 0.03835075721144676\n",
      "Generating Image Number: 15 for target class tensor([2]). Step 300, Loss: 0.035415828227996826\n",
      "Generating Image Number: 15 for target class tensor([2]). Step 350, Loss: 0.03288761526346207\n",
      "Generating Image Number: 15 for target class tensor([2]). Step 400, Loss: 0.030370226129889488\n",
      "Generating Image Number: 15 for target class tensor([2]). Step 450, Loss: 0.02821914479136467\n",
      "Generating Image Number: 16 for target class tensor([2]). Step 0, Loss: 1.3328821659088135\n",
      "Generating Image Number: 16 for target class tensor([2]). Step 50, Loss: 0.08020349591970444\n",
      "Generating Image Number: 16 for target class tensor([2]). Step 100, Loss: 0.07027698308229446\n",
      "Generating Image Number: 16 for target class tensor([2]). Step 150, Loss: 0.06309517472982407\n",
      "Generating Image Number: 16 for target class tensor([2]). Step 200, Loss: 0.05682177469134331\n",
      "Generating Image Number: 16 for target class tensor([2]). Step 250, Loss: 0.05226939916610718\n",
      "Generating Image Number: 16 for target class tensor([2]). Step 300, Loss: 0.047856103628873825\n",
      "Generating Image Number: 16 for target class tensor([2]). Step 350, Loss: 0.04323991388082504\n",
      "Generating Image Number: 16 for target class tensor([2]). Step 400, Loss: 0.039000000804662704\n",
      "Generating Image Number: 16 for target class tensor([2]). Step 450, Loss: 0.03602500632405281\n",
      "Generating Image Number: 17 for target class tensor([2]). Step 0, Loss: 0.42530137300491333\n",
      "Generating Image Number: 17 for target class tensor([2]). Step 50, Loss: 0.20112362504005432\n",
      "Generating Image Number: 17 for target class tensor([2]). Step 100, Loss: 0.15024755895137787\n",
      "Generating Image Number: 17 for target class tensor([2]). Step 150, Loss: 0.1267535239458084\n",
      "Generating Image Number: 17 for target class tensor([2]). Step 200, Loss: 0.10494892299175262\n",
      "Generating Image Number: 17 for target class tensor([2]). Step 250, Loss: 0.08928240835666656\n",
      "Generating Image Number: 17 for target class tensor([2]). Step 300, Loss: 0.08017874509096146\n",
      "Generating Image Number: 17 for target class tensor([2]). Step 350, Loss: 0.07438206672668457\n",
      "Generating Image Number: 17 for target class tensor([2]). Step 400, Loss: 0.06912890076637268\n",
      "Generating Image Number: 17 for target class tensor([2]). Step 450, Loss: 0.06418915092945099\n",
      "Generating Image Number: 18 for target class tensor([2]). Step 0, Loss: 22.93972396850586\n",
      "Generating Image Number: 18 for target class tensor([2]). Step 50, Loss: 0.10494892299175262\n",
      "Generating Image Number: 18 for target class tensor([2]). Step 100, Loss: 0.09765100479125977\n",
      "Generating Image Number: 18 for target class tensor([2]). Step 150, Loss: 0.09114253520965576\n",
      "Generating Image Number: 18 for target class tensor([2]). Step 200, Loss: 0.0751117393374443\n",
      "Generating Image Number: 18 for target class tensor([2]). Step 250, Loss: 0.0588640496134758\n",
      "Generating Image Number: 18 for target class tensor([2]). Step 300, Loss: 0.057484690099954605\n",
      "Generating Image Number: 18 for target class tensor([2]). Step 350, Loss: 0.0567781887948513\n",
      "Generating Image Number: 18 for target class tensor([2]). Step 400, Loss: 0.05604064464569092\n",
      "Generating Image Number: 18 for target class tensor([2]). Step 450, Loss: 0.05534113198518753\n",
      "Generating Image Number: 19 for target class tensor([2]). Step 0, Loss: 2.4124088287353516\n",
      "Generating Image Number: 19 for target class tensor([2]). Step 50, Loss: 1.6949732303619385\n",
      "Generating Image Number: 19 for target class tensor([2]). Step 100, Loss: 1.3376262187957764\n",
      "Generating Image Number: 19 for target class tensor([2]). Step 150, Loss: 1.0619603395462036\n",
      "Generating Image Number: 19 for target class tensor([2]). Step 200, Loss: 0.8834556341171265\n",
      "Generating Image Number: 19 for target class tensor([2]). Step 250, Loss: 0.7625551819801331\n",
      "Generating Image Number: 19 for target class tensor([2]). Step 300, Loss: 0.6769135594367981\n",
      "Generating Image Number: 19 for target class tensor([2]). Step 350, Loss: 0.6236491203308105\n",
      "Generating Image Number: 19 for target class tensor([2]). Step 400, Loss: 0.5880915522575378\n",
      "Generating Image Number: 19 for target class tensor([2]). Step 450, Loss: 0.5612545013427734\n",
      "Generating Image Number: 20 for target class tensor([2]). Step 0, Loss: 0.3746148943901062\n",
      "Generating Image Number: 20 for target class tensor([2]). Step 50, Loss: 0.11466942727565765\n",
      "Generating Image Number: 20 for target class tensor([2]). Step 100, Loss: 0.08208979666233063\n",
      "Generating Image Number: 20 for target class tensor([2]). Step 150, Loss: 0.06342494487762451\n",
      "Generating Image Number: 20 for target class tensor([2]). Step 200, Loss: 0.05215342342853546\n",
      "Generating Image Number: 20 for target class tensor([2]). Step 250, Loss: 0.04378204792737961\n",
      "Generating Image Number: 20 for target class tensor([2]). Step 300, Loss: 0.037817034870386124\n",
      "Generating Image Number: 20 for target class tensor([2]). Step 350, Loss: 0.033449687063694\n",
      "Generating Image Number: 20 for target class tensor([2]). Step 400, Loss: 0.029562246054410934\n",
      "Generating Image Number: 20 for target class tensor([2]). Step 450, Loss: 0.026574324816465378\n"
     ]
    }
   ],
   "source": [
    "torch.manual_seed(200)\n",
    "latent_vectors = torch.randn(img_count, z_dim, 1, 1, requires_grad=True) # Start with 20 random noises\n",
    "class2_optimized_latent_vectors = recover_images(img_count, 2, latent_vectors)"
   ]
  },
  {
   "cell_type": "code",
   "execution_count": 23,
   "id": "0381b36d-6c92-43bc-b776-1eefd3eab451",
   "metadata": {
    "scrolled": true
   },
   "outputs": [
    {
     "name": "stdout",
     "output_type": "stream",
     "text": [
      "Generating Image Number: 1 for target class tensor([3]). Step 0, Loss: 0.1949106901884079\n",
      "Generating Image Number: 1 for target class tensor([3]). Step 50, Loss: 0.015808846801519394\n",
      "Generating Image Number: 1 for target class tensor([3]). Step 100, Loss: 0.016255458816885948\n",
      "Generating Image Number: 1 for target class tensor([3]). Step 150, Loss: 0.011218682862818241\n",
      "Generating Image Number: 1 for target class tensor([3]). Step 200, Loss: 0.011175301857292652\n",
      "Generating Image Number: 1 for target class tensor([3]). Step 250, Loss: 0.008192387409508228\n",
      "Generating Image Number: 1 for target class tensor([3]). Step 300, Loss: 0.006567797623574734\n",
      "Generating Image Number: 1 for target class tensor([3]). Step 350, Loss: 0.005529584363102913\n",
      "Generating Image Number: 1 for target class tensor([3]). Step 400, Loss: 0.005575581453740597\n",
      "Generating Image Number: 1 for target class tensor([3]). Step 450, Loss: 0.004798326175659895\n",
      "Generating Image Number: 2 for target class tensor([3]). Step 0, Loss: 0.9303984045982361\n",
      "Generating Image Number: 2 for target class tensor([3]). Step 50, Loss: 0.589423656463623\n",
      "Generating Image Number: 2 for target class tensor([3]). Step 100, Loss: 0.39142313599586487\n",
      "Generating Image Number: 2 for target class tensor([3]). Step 150, Loss: 0.3252635598182678\n",
      "Generating Image Number: 2 for target class tensor([3]). Step 200, Loss: 0.27604034543037415\n",
      "Generating Image Number: 2 for target class tensor([3]). Step 250, Loss: 0.24000048637390137\n",
      "Generating Image Number: 2 for target class tensor([3]). Step 300, Loss: 0.21641021966934204\n",
      "Generating Image Number: 2 for target class tensor([3]). Step 350, Loss: 0.19449849426746368\n",
      "Generating Image Number: 2 for target class tensor([3]). Step 400, Loss: 0.17697450518608093\n",
      "Generating Image Number: 2 for target class tensor([3]). Step 450, Loss: 0.16086992621421814\n",
      "Generating Image Number: 3 for target class tensor([3]). Step 0, Loss: 0.4332754909992218\n",
      "Generating Image Number: 3 for target class tensor([3]). Step 50, Loss: 0.20957507193088531\n",
      "Generating Image Number: 3 for target class tensor([3]). Step 100, Loss: 0.18235567212104797\n",
      "Generating Image Number: 3 for target class tensor([3]). Step 150, Loss: 0.1645016074180603\n",
      "Generating Image Number: 3 for target class tensor([3]). Step 200, Loss: 0.150273397564888\n",
      "Generating Image Number: 3 for target class tensor([3]). Step 250, Loss: 0.1389072984457016\n",
      "Generating Image Number: 3 for target class tensor([3]). Step 300, Loss: 0.12846489250659943\n",
      "Generating Image Number: 3 for target class tensor([3]). Step 350, Loss: 0.12014123052358627\n",
      "Generating Image Number: 3 for target class tensor([3]). Step 400, Loss: 0.11017467826604843\n",
      "Generating Image Number: 3 for target class tensor([3]). Step 450, Loss: 0.1019427478313446\n",
      "Generating Image Number: 4 for target class tensor([3]). Step 0, Loss: 1.7953879833221436\n",
      "Generating Image Number: 4 for target class tensor([3]). Step 50, Loss: 1.0172111988067627\n",
      "Generating Image Number: 4 for target class tensor([3]). Step 100, Loss: 0.9269260764122009\n",
      "Generating Image Number: 4 for target class tensor([3]). Step 150, Loss: 0.8312515616416931\n",
      "Generating Image Number: 4 for target class tensor([3]). Step 200, Loss: 0.753032386302948\n",
      "Generating Image Number: 4 for target class tensor([3]). Step 250, Loss: 0.6870642900466919\n",
      "Generating Image Number: 4 for target class tensor([3]). Step 300, Loss: 0.6244508624076843\n",
      "Generating Image Number: 4 for target class tensor([3]). Step 350, Loss: 0.5664175152778625\n",
      "Generating Image Number: 4 for target class tensor([3]). Step 400, Loss: 0.5271264314651489\n",
      "Generating Image Number: 4 for target class tensor([3]). Step 450, Loss: 0.4980965554714203\n",
      "Generating Image Number: 5 for target class tensor([3]). Step 0, Loss: 2.471480369567871\n",
      "Generating Image Number: 5 for target class tensor([3]). Step 50, Loss: 0.005876288749277592\n",
      "Generating Image Number: 5 for target class tensor([3]). Step 100, Loss: 0.005308934953063726\n",
      "Generating Image Number: 5 for target class tensor([3]). Step 150, Loss: 0.005020037293434143\n",
      "Generating Image Number: 5 for target class tensor([3]). Step 200, Loss: 0.004795716144144535\n",
      "Generating Image Number: 5 for target class tensor([3]). Step 250, Loss: 0.004673391580581665\n",
      "Generating Image Number: 5 for target class tensor([3]). Step 300, Loss: 0.004589381627738476\n",
      "Generating Image Number: 5 for target class tensor([3]). Step 350, Loss: 0.004495277069509029\n",
      "Generating Image Number: 5 for target class tensor([3]). Step 400, Loss: 0.004413388203829527\n",
      "Generating Image Number: 5 for target class tensor([3]). Step 450, Loss: 0.004326151218265295\n",
      "Generating Image Number: 6 for target class tensor([3]). Step 0, Loss: 1.5773264169692993\n",
      "Generating Image Number: 6 for target class tensor([3]). Step 50, Loss: 0.39955779910087585\n",
      "Generating Image Number: 6 for target class tensor([3]). Step 100, Loss: 0.31556007266044617\n",
      "Generating Image Number: 6 for target class tensor([3]). Step 150, Loss: 0.2591199576854706\n",
      "Generating Image Number: 6 for target class tensor([3]). Step 200, Loss: 0.2182733118534088\n",
      "Generating Image Number: 6 for target class tensor([3]). Step 250, Loss: 0.1890668123960495\n",
      "Generating Image Number: 6 for target class tensor([3]). Step 300, Loss: 0.17169776558876038\n",
      "Generating Image Number: 6 for target class tensor([3]). Step 350, Loss: 0.15940316021442413\n",
      "Generating Image Number: 6 for target class tensor([3]). Step 400, Loss: 0.1506190299987793\n",
      "Generating Image Number: 6 for target class tensor([3]). Step 450, Loss: 0.14059904217720032\n",
      "Generating Image Number: 7 for target class tensor([3]). Step 0, Loss: 1.2486398220062256\n",
      "Generating Image Number: 7 for target class tensor([3]). Step 50, Loss: 0.6829712986946106\n",
      "Generating Image Number: 7 for target class tensor([3]). Step 100, Loss: 0.5239306092262268\n",
      "Generating Image Number: 7 for target class tensor([3]). Step 150, Loss: 0.45913684368133545\n",
      "Generating Image Number: 7 for target class tensor([3]). Step 200, Loss: 0.394846111536026\n",
      "Generating Image Number: 7 for target class tensor([3]). Step 250, Loss: 0.35206469893455505\n",
      "Generating Image Number: 7 for target class tensor([3]). Step 300, Loss: 0.3261966407299042\n",
      "Generating Image Number: 7 for target class tensor([3]). Step 350, Loss: 0.3030150830745697\n",
      "Generating Image Number: 7 for target class tensor([3]). Step 400, Loss: 0.2726850211620331\n",
      "Generating Image Number: 7 for target class tensor([3]). Step 450, Loss: 0.24923592805862427\n",
      "Generating Image Number: 8 for target class tensor([3]). Step 0, Loss: 0.24627016484737396\n",
      "Generating Image Number: 8 for target class tensor([3]). Step 50, Loss: 0.005224266555160284\n",
      "Generating Image Number: 8 for target class tensor([3]). Step 100, Loss: 0.00402711471542716\n",
      "Generating Image Number: 8 for target class tensor([3]). Step 150, Loss: 0.0036518569104373455\n",
      "Generating Image Number: 8 for target class tensor([3]). Step 200, Loss: 0.003487340407446027\n",
      "Generating Image Number: 8 for target class tensor([3]). Step 250, Loss: 0.003356420435011387\n",
      "Generating Image Number: 8 for target class tensor([3]). Step 300, Loss: 0.0032252457458525896\n",
      "Generating Image Number: 8 for target class tensor([3]). Step 350, Loss: 0.0030889438930898905\n",
      "Generating Image Number: 8 for target class tensor([3]). Step 400, Loss: 0.0029478687793016434\n",
      "Generating Image Number: 8 for target class tensor([3]). Step 450, Loss: 0.002815927378833294\n",
      "Generating Image Number: 9 for target class tensor([3]). Step 0, Loss: 1.0663118362426758\n",
      "Generating Image Number: 9 for target class tensor([3]). Step 50, Loss: 0.016094645485281944\n",
      "Generating Image Number: 9 for target class tensor([3]). Step 100, Loss: 0.009304139763116837\n",
      "Generating Image Number: 9 for target class tensor([3]). Step 150, Loss: 0.00776865566149354\n",
      "Generating Image Number: 9 for target class tensor([3]). Step 200, Loss: 0.006887267809361219\n",
      "Generating Image Number: 9 for target class tensor([3]). Step 250, Loss: 0.006125723011791706\n",
      "Generating Image Number: 9 for target class tensor([3]). Step 300, Loss: 0.005544047802686691\n",
      "Generating Image Number: 9 for target class tensor([3]). Step 350, Loss: 0.004373983945697546\n",
      "Generating Image Number: 9 for target class tensor([3]). Step 400, Loss: 0.003048061393201351\n",
      "Generating Image Number: 9 for target class tensor([3]). Step 450, Loss: 0.0024705384857952595\n",
      "Generating Image Number: 10 for target class tensor([3]). Step 0, Loss: 2.3174080848693848\n",
      "Generating Image Number: 10 for target class tensor([3]). Step 50, Loss: 0.02271163836121559\n",
      "Generating Image Number: 10 for target class tensor([3]). Step 100, Loss: 0.006019321270287037\n",
      "Generating Image Number: 10 for target class tensor([3]). Step 150, Loss: 0.0058632525615394115\n",
      "Generating Image Number: 10 for target class tensor([3]). Step 200, Loss: 0.005770927295088768\n",
      "Generating Image Number: 10 for target class tensor([3]). Step 250, Loss: 0.005683571565896273\n",
      "Generating Image Number: 10 for target class tensor([3]). Step 300, Loss: 0.005597749724984169\n",
      "Generating Image Number: 10 for target class tensor([3]). Step 350, Loss: 0.00551037909463048\n",
      "Generating Image Number: 10 for target class tensor([3]). Step 400, Loss: 0.005413396749645472\n",
      "Generating Image Number: 10 for target class tensor([3]). Step 450, Loss: 0.005318658426403999\n",
      "Generating Image Number: 11 for target class tensor([3]). Step 0, Loss: 1.0469136238098145\n",
      "Generating Image Number: 11 for target class tensor([3]). Step 50, Loss: 0.012035842053592205\n",
      "Generating Image Number: 11 for target class tensor([3]). Step 100, Loss: 0.00787155982106924\n",
      "Generating Image Number: 11 for target class tensor([3]). Step 150, Loss: 0.006620023399591446\n",
      "Generating Image Number: 11 for target class tensor([3]). Step 200, Loss: 0.005342017859220505\n",
      "Generating Image Number: 11 for target class tensor([3]). Step 250, Loss: 0.004195697605609894\n",
      "Generating Image Number: 11 for target class tensor([3]). Step 300, Loss: 0.0039434065110981464\n",
      "Generating Image Number: 11 for target class tensor([3]). Step 350, Loss: 0.0037401027511805296\n",
      "Generating Image Number: 11 for target class tensor([3]). Step 400, Loss: 0.003551843576133251\n",
      "Generating Image Number: 11 for target class tensor([3]). Step 450, Loss: 0.0033993099350482225\n",
      "Generating Image Number: 12 for target class tensor([3]). Step 0, Loss: 2.930640459060669\n",
      "Generating Image Number: 12 for target class tensor([3]). Step 50, Loss: 0.5111722350120544\n",
      "Generating Image Number: 12 for target class tensor([3]). Step 100, Loss: 0.3601154685020447\n",
      "Generating Image Number: 12 for target class tensor([3]). Step 150, Loss: 0.2834406793117523\n",
      "Generating Image Number: 12 for target class tensor([3]). Step 200, Loss: 0.24492858350276947\n",
      "Generating Image Number: 12 for target class tensor([3]). Step 250, Loss: 0.21735413372516632\n",
      "Generating Image Number: 12 for target class tensor([3]). Step 300, Loss: 0.1960957944393158\n",
      "Generating Image Number: 12 for target class tensor([3]). Step 350, Loss: 0.18018507957458496\n",
      "Generating Image Number: 12 for target class tensor([3]). Step 400, Loss: 0.168270081281662\n",
      "Generating Image Number: 12 for target class tensor([3]). Step 450, Loss: 0.1592513918876648\n",
      "Generating Image Number: 13 for target class tensor([3]). Step 0, Loss: 2.461679697036743\n",
      "Generating Image Number: 13 for target class tensor([3]). Step 50, Loss: 0.3802812099456787\n",
      "Generating Image Number: 13 for target class tensor([3]). Step 100, Loss: 0.2956708073616028\n",
      "Generating Image Number: 13 for target class tensor([3]). Step 150, Loss: 0.24742335081100464\n",
      "Generating Image Number: 13 for target class tensor([3]). Step 200, Loss: 0.20956288278102875\n",
      "Generating Image Number: 13 for target class tensor([3]). Step 250, Loss: 0.1844317615032196\n",
      "Generating Image Number: 13 for target class tensor([3]). Step 300, Loss: 0.16201089322566986\n",
      "Generating Image Number: 13 for target class tensor([3]). Step 350, Loss: 0.14459818601608276\n",
      "Generating Image Number: 13 for target class tensor([3]). Step 400, Loss: 0.12916769087314606\n",
      "Generating Image Number: 13 for target class tensor([3]). Step 450, Loss: 0.1166817843914032\n",
      "Generating Image Number: 14 for target class tensor([3]). Step 0, Loss: 0.961976170539856\n",
      "Generating Image Number: 14 for target class tensor([3]). Step 50, Loss: 0.014223741367459297\n",
      "Generating Image Number: 14 for target class tensor([3]). Step 100, Loss: 0.006477550603449345\n",
      "Generating Image Number: 14 for target class tensor([3]). Step 150, Loss: 0.006194084417074919\n",
      "Generating Image Number: 14 for target class tensor([3]). Step 200, Loss: 0.005941230803728104\n",
      "Generating Image Number: 14 for target class tensor([3]). Step 250, Loss: 0.00572233134880662\n",
      "Generating Image Number: 14 for target class tensor([3]). Step 300, Loss: 0.005487497895956039\n",
      "Generating Image Number: 14 for target class tensor([3]). Step 350, Loss: 0.00523612555116415\n",
      "Generating Image Number: 14 for target class tensor([3]). Step 400, Loss: 0.004991213791072369\n",
      "Generating Image Number: 14 for target class tensor([3]). Step 450, Loss: 0.004799512214958668\n",
      "Generating Image Number: 15 for target class tensor([3]). Step 0, Loss: 2.1192004680633545\n",
      "Generating Image Number: 15 for target class tensor([3]). Step 50, Loss: 1.3516472578048706\n",
      "Generating Image Number: 15 for target class tensor([3]). Step 100, Loss: 1.1405065059661865\n",
      "Generating Image Number: 15 for target class tensor([3]). Step 150, Loss: 1.0166938304901123\n",
      "Generating Image Number: 15 for target class tensor([3]). Step 200, Loss: 0.9173175692558289\n",
      "Generating Image Number: 15 for target class tensor([3]). Step 250, Loss: 0.8350701332092285\n",
      "Generating Image Number: 15 for target class tensor([3]). Step 300, Loss: 0.7692812085151672\n",
      "Generating Image Number: 15 for target class tensor([3]). Step 350, Loss: 0.7365465760231018\n",
      "Generating Image Number: 15 for target class tensor([3]). Step 400, Loss: 0.695268988609314\n",
      "Generating Image Number: 15 for target class tensor([3]). Step 450, Loss: 0.6440384984016418\n",
      "Generating Image Number: 16 for target class tensor([3]). Step 0, Loss: 3.82560396194458\n",
      "Generating Image Number: 16 for target class tensor([3]). Step 50, Loss: 2.147852897644043\n",
      "Generating Image Number: 16 for target class tensor([3]). Step 100, Loss: 1.8378478288650513\n",
      "Generating Image Number: 16 for target class tensor([3]). Step 150, Loss: 1.7282288074493408\n",
      "Generating Image Number: 16 for target class tensor([3]). Step 200, Loss: 1.6372121572494507\n",
      "Generating Image Number: 16 for target class tensor([3]). Step 250, Loss: 1.490523338317871\n",
      "Generating Image Number: 16 for target class tensor([3]). Step 300, Loss: 1.3914754390716553\n",
      "Generating Image Number: 16 for target class tensor([3]). Step 350, Loss: 1.2775771617889404\n",
      "Generating Image Number: 16 for target class tensor([3]). Step 400, Loss: 1.2079527378082275\n",
      "Generating Image Number: 16 for target class tensor([3]). Step 450, Loss: 1.13437020778656\n",
      "Generating Image Number: 17 for target class tensor([3]). Step 0, Loss: 1.877408504486084\n",
      "Generating Image Number: 17 for target class tensor([3]). Step 50, Loss: 0.6445790529251099\n",
      "Generating Image Number: 17 for target class tensor([3]). Step 100, Loss: 0.5125460624694824\n",
      "Generating Image Number: 17 for target class tensor([3]). Step 150, Loss: 0.4506678283214569\n",
      "Generating Image Number: 17 for target class tensor([3]). Step 200, Loss: 0.41362032294273376\n",
      "Generating Image Number: 17 for target class tensor([3]). Step 250, Loss: 0.3694799542427063\n",
      "Generating Image Number: 17 for target class tensor([3]). Step 300, Loss: 0.32003548741340637\n",
      "Generating Image Number: 17 for target class tensor([3]). Step 350, Loss: 0.27889522910118103\n",
      "Generating Image Number: 17 for target class tensor([3]). Step 400, Loss: 0.2536284923553467\n",
      "Generating Image Number: 17 for target class tensor([3]). Step 450, Loss: 0.23323573172092438\n",
      "Generating Image Number: 18 for target class tensor([3]). Step 0, Loss: 3.58280348777771\n",
      "Generating Image Number: 18 for target class tensor([3]). Step 50, Loss: 0.7688140869140625\n",
      "Generating Image Number: 18 for target class tensor([3]). Step 100, Loss: 0.5275449156761169\n",
      "Generating Image Number: 18 for target class tensor([3]). Step 150, Loss: 0.40345194935798645\n",
      "Generating Image Number: 18 for target class tensor([3]). Step 200, Loss: 0.3278358578681946\n",
      "Generating Image Number: 18 for target class tensor([3]). Step 250, Loss: 0.26310470700263977\n",
      "Generating Image Number: 18 for target class tensor([3]). Step 300, Loss: 0.2198846936225891\n",
      "Generating Image Number: 18 for target class tensor([3]). Step 350, Loss: 0.19519571959972382\n",
      "Generating Image Number: 18 for target class tensor([3]). Step 400, Loss: 0.17569419741630554\n",
      "Generating Image Number: 18 for target class tensor([3]). Step 450, Loss: 0.15846087038516998\n",
      "Generating Image Number: 19 for target class tensor([3]). Step 0, Loss: 3.2266194820404053\n",
      "Generating Image Number: 19 for target class tensor([3]). Step 50, Loss: 1.0050593614578247\n",
      "Generating Image Number: 19 for target class tensor([3]). Step 100, Loss: 0.9558384418487549\n",
      "Generating Image Number: 19 for target class tensor([3]). Step 150, Loss: 0.9188562631607056\n",
      "Generating Image Number: 19 for target class tensor([3]). Step 200, Loss: 0.8716921806335449\n",
      "Generating Image Number: 19 for target class tensor([3]). Step 250, Loss: 0.827755868434906\n",
      "Generating Image Number: 19 for target class tensor([3]). Step 300, Loss: 0.7698695063591003\n",
      "Generating Image Number: 19 for target class tensor([3]). Step 350, Loss: 0.7110515236854553\n",
      "Generating Image Number: 19 for target class tensor([3]). Step 400, Loss: 0.6661489009857178\n",
      "Generating Image Number: 19 for target class tensor([3]). Step 450, Loss: 0.6183295845985413\n",
      "Generating Image Number: 20 for target class tensor([3]). Step 0, Loss: 3.1302292346954346\n",
      "Generating Image Number: 20 for target class tensor([3]). Step 50, Loss: 0.8084520697593689\n",
      "Generating Image Number: 20 for target class tensor([3]). Step 100, Loss: 0.5759441256523132\n",
      "Generating Image Number: 20 for target class tensor([3]). Step 150, Loss: 1.534103512763977\n",
      "Generating Image Number: 20 for target class tensor([3]). Step 200, Loss: 0.5797977447509766\n",
      "Generating Image Number: 20 for target class tensor([3]). Step 250, Loss: 0.4576919972896576\n",
      "Generating Image Number: 20 for target class tensor([3]). Step 300, Loss: 0.43904998898506165\n",
      "Generating Image Number: 20 for target class tensor([3]). Step 350, Loss: 0.42261838912963867\n",
      "Generating Image Number: 20 for target class tensor([3]). Step 400, Loss: 0.4068773090839386\n",
      "Generating Image Number: 20 for target class tensor([3]). Step 450, Loss: 0.3942112922668457\n"
     ]
    }
   ],
   "source": [
    "torch.manual_seed(300)\n",
    "latent_vectors = torch.randn(img_count, z_dim, 1, 1, requires_grad=True) # Start with 20 random noises\n",
    "class3_optimized_latent_vectors = recover_images(img_count, 3, latent_vectors)"
   ]
  },
  {
   "cell_type": "code",
   "execution_count": 24,
   "id": "ae6425a5-dd86-4e87-8112-883336345ac9",
   "metadata": {},
   "outputs": [],
   "source": [
    "z0_1 = class0_optimized_latent_vectors[0]\n",
    "z0_2 = class0_optimized_latent_vectors[1]\n",
    "z0_3 = class0_optimized_latent_vectors[2]"
   ]
  },
  {
   "cell_type": "code",
   "execution_count": 25,
   "id": "3a6ed4fb-b693-4963-afcf-17a512e50b5f",
   "metadata": {},
   "outputs": [
    {
     "name": "stdout",
     "output_type": "stream",
     "text": [
      "torch.Size([64, 64])\n"
     ]
    }
   ],
   "source": [
    "# Display the generated image\n",
    "img = gen(z0_1.to(device)).squeeze(dim=0).squeeze(dim=0)\n",
    "print(img.shape)"
   ]
  },
  {
   "cell_type": "code",
   "execution_count": 26,
   "id": "88fc9416-c6ca-486b-bd72-63885de78d1c",
   "metadata": {},
   "outputs": [
    {
     "data": {
      "text/plain": [
       "<matplotlib.image.AxesImage at 0x1db9602ca00>"
      ]
     },
     "execution_count": 26,
     "metadata": {},
     "output_type": "execute_result"
    },
    {
     "data": {
      "image/png": "[encoded data removed]",
      "text/plain": [
       "<Figure size 640x480 with 1 Axes>"
      ]
     },
     "metadata": {},
     "output_type": "display_data"
    }
   ],
   "source": [
    "plt.axis(False)\n",
    "plt.title('Recovered Image:')\n",
    "plt.imshow(img.cpu().detach(), cmap='gray')"
   ]
  },
  {
   "cell_type": "code",
   "execution_count": 27,
   "id": "bb0fc370-78c5-495f-b1e7-1239873b4ff8",
   "metadata": {},
   "outputs": [],
   "source": [
    "z1 = class1_optimized_latent_vectors[0]\n",
    "z2 = class1_optimized_latent_vectors[1]\n",
    "z3 = class1_optimized_latent_vectors[2]"
   ]
  },
  {
   "cell_type": "code",
   "execution_count": 28,
   "id": "07f38b7d-14f6-4d63-9efa-cb96ec2e1d35",
   "metadata": {},
   "outputs": [
    {
     "name": "stdout",
     "output_type": "stream",
     "text": [
      "torch.Size([64, 64])\n"
     ]
    }
   ],
   "source": [
    "# Display the generated image\n",
    "img = gen(z1.to(device)).squeeze(dim=0).squeeze(dim=0)\n",
    "print(img.shape)"
   ]
  },
  {
   "cell_type": "code",
   "execution_count": 29,
   "id": "8cad57ff-7961-4078-9dd4-1e0b4879ff56",
   "metadata": {},
   "outputs": [
    {
     "data": {
      "text/plain": [
       "<matplotlib.image.AxesImage at 0x1db961c50a0>"
      ]
     },
     "execution_count": 29,
     "metadata": {},
     "output_type": "execute_result"
    },
    {
     "data": {
      "image/png": "[encoded data removed]",
      "text/plain": [
       "<Figure size 640x480 with 1 Axes>"
      ]
     },
     "metadata": {},
     "output_type": "display_data"
    }
   ],
   "source": [
    "plt.axis(False)\n",
    "plt.title('Recovered Image:')\n",
    "plt.imshow(img.cpu().detach(), cmap='gray')"
   ]
  },
  {
   "cell_type": "code",
   "execution_count": 30,
   "id": "52ecd67d-cb2d-44a3-b375-759d63db75b1",
   "metadata": {},
   "outputs": [],
   "source": [
    "                                                            # Dataset Loading\n",
    "# Load the .pkl files in as numpy arrays of pixels\n",
    "def load_tumor_data(file_path):\n",
    "    train_xs = []\n",
    "    train_ys = []\n",
    "    \"\"\" Load Digits Data from pickle data\n",
    "    return:\n",
    "    @xs: numpy.array, (n, c, w, h) \n",
    "    @ys: numpy.array, (n, ), 0-9\n",
    "    \"\"\"\n",
    "    with open(file_path, 'rb') as file:\n",
    "        data = pickle.load(file)\n",
    "        train_xs.append(data[\"data\"])\n",
    "        train_ys.append(data[\"labels\"])\n",
    "    train_xs = np.concatenate(train_xs, axis=0)\n",
    "    train_ys = np.concatenate(train_ys, axis=0)\n",
    "    \n",
    "    return train_xs, train_ys"
   ]
  },
  {
   "cell_type": "code",
   "execution_count": 31,
   "id": "ca72f62f-1eec-4b17-a8ce-fd66781f64f6",
   "metadata": {},
   "outputs": [],
   "source": [
    "# Custom Tumor Dataset\n",
    "class TumorDataset(data.Dataset):\n",
    "    def __init__(self, xs, ys, is_train=True):\n",
    "        self.xs = xs\n",
    "        self.ys = ys\n",
    "\n",
    "        if is_train is True:\n",
    "            self.transform = transforms.Compose([\n",
    "                transforms.ToPILImage(),\n",
    "                transforms.Resize((64, 64)),\n",
    "                transforms.ToTensor(),\n",
    "                transforms.Normalize(\n",
    "                    [0.5],\n",
    "                    [0.5]\n",
    "                )\n",
    "            ])\n",
    "        else:\n",
    "            self.transform = transforms.Compose([\n",
    "                transforms.ToPILImage(),\n",
    "                transforms.Resize((64, 64)),\n",
    "                transforms.ToTensor(),\n",
    "                transforms.Normalize(\n",
    "                    (0.4914, 0.4822, 0.4465),\n",
    "                    (0.2023, 0.1994, 0.2010)\n",
    "                )\n",
    "            ])\n",
    "\n",
    "    def __len__(self):\n",
    "        return len(self.xs)\n",
    "\n",
    "    def __getitem__(self, index):\n",
    "        img = self.xs[index]\n",
    "        #print(img.shape)\n",
    "        label = self.ys[index]\n",
    "\n",
    "        img = img.transpose((1, 2, 0)).astype(np.uint8)\n",
    "        img = self.transform(img)\n",
    "\n",
    "        img = torch.FloatTensor(img)\n",
    "        label = torch.LongTensor([label])[0]\n",
    "        return img, label"
   ]
  },
  {
   "cell_type": "code",
   "execution_count": 32,
   "id": "ceb91588-ef69-4373-b33f-74aed6c246bb",
   "metadata": {},
   "outputs": [],
   "source": [
    "def create_dataset(train_xs, train_ys):\n",
    "    tumor_dataset = TumorDataset(train_xs, train_ys, is_train=True)\n",
    "\n",
    "    return tumor_dataset"
   ]
  },
  {
   "cell_type": "code",
   "execution_count": 33,
   "id": "0415fba0-830c-42c6-bbde-c6958e779fbb",
   "metadata": {},
   "outputs": [],
   "source": [
    "def create_dataloader(dataset):\n",
    "    dataloader = DataLoader(dataset=dataset, batch_size=128, shuffle=True)\n",
    "\n",
    "    return dataloader"
   ]
  },
  {
   "cell_type": "code",
   "execution_count": 34,
   "id": "726d4995-5133-4037-ab0e-f2705470cdc9",
   "metadata": {},
   "outputs": [
    {
     "name": "stdout",
     "output_type": "stream",
     "text": [
      "(13927, 1, 32, 32)\n",
      "<class 'numpy.ndarray'>\n"
     ]
    }
   ],
   "source": [
    "# Load in the pickle dataset file\n",
    "train_xs, train_ys = load_tumor_data('datasets/Tumor/tumor4train.pkl')\n",
    "#train_xs = train_xs[:, 1, :, :]\n",
    "#train_xs = np.expand_dims(train_xs, axis=1)\n",
    "train_xs = train_xs.mean(axis=1, keepdims=True)\n",
    "print(train_xs.shape)\n",
    "print(type(train_xs))"
   ]
  },
  {
   "cell_type": "code",
   "execution_count": 35,
   "id": "a684b01a-eb4a-4210-9f59-d613085a404a",
   "metadata": {},
   "outputs": [],
   "source": [
    "# Create the dataset\n",
    "tumor_dataset = create_dataset(train_xs, train_ys)"
   ]
  },
  {
   "cell_type": "code",
   "execution_count": 36,
   "id": "193f07cc-d34f-425e-aa08-62b6d6adbad6",
   "metadata": {},
   "outputs": [],
   "source": [
    "def visualize_image(image_x):\n",
    "    # We have to visualize by reverting the normalization (just for visualization).\n",
    "    mean = torch.tensor([0.5])\n",
    "    std = torch.tensor([0.5])\n",
    "\n",
    "    image = image_x * std + mean  # Denormalize the image\n",
    "\n",
    "    image = torch.clamp(image, 0, 1) # Clip values to [0, 1] to ensure valid range for display\n",
    "\n",
    "    # Permute the image to (H, W, C) for matplotlib\n",
    "    \n",
    "    image = image.permute(1, 2, 0)\n",
    "\n",
    "    plt.imshow(image, cmap='gray')"
   ]
  },
  {
   "cell_type": "code",
   "execution_count": 37,
   "id": "16e93c17-a89b-46a2-8198-71e66e370f4f",
   "metadata": {},
   "outputs": [
    {
     "name": "stdout",
     "output_type": "stream",
     "text": [
      "torch.Size([1, 64, 64])\n"
     ]
    },
    {
     "data": {
      "image/png": "[encoded data removed]",
      "text/plain": [
       "<Figure size 640x480 with 1 Axes>"
      ]
     },
     "metadata": {},
     "output_type": "display_data"
    }
   ],
   "source": [
    "# Visualize the first tumor sample. \n",
    "image_x, image_y = tumor_dataset[7000]\n",
    "print(image_x.shape)\n",
    "visualize_image(image_x)"
   ]
  },
  {
   "cell_type": "code",
   "execution_count": 38,
   "id": "60e2da47-7cb6-493e-aeda-aa80d7965de7",
   "metadata": {},
   "outputs": [],
   "source": [
    "from scipy.spatial.distance import cosine"
   ]
  },
  {
   "cell_type": "code",
   "execution_count": 39,
   "id": "5a7937e5-b808-4b3e-8288-75dcd9862340",
   "metadata": {},
   "outputs": [],
   "source": [
    "# Get the feature embeddings\n",
    "tfcnn_model = target_model = load_target_model(base_net='TFCNN', n_classes=4, path='saved models/fedavg_global_model.pth').to(device)\n",
    "model_embeddings = tfcnn_model.encoder.to(device)"
   ]
  },
  {
   "cell_type": "code",
   "execution_count": 40,
   "id": "737e3d92-45b6-45f6-9bf2-d51f379d6ac8",
   "metadata": {},
   "outputs": [],
   "source": [
    "# Preprocessing\n",
    "preprocess = transforms.Compose([\n",
    "    transforms.Resize(256),\n",
    "    transforms.CenterCrop(224),\n",
    "    transforms.ToTensor(),\n",
    "])"
   ]
  },
  {
   "cell_type": "code",
   "execution_count": 41,
   "id": "babb1015-bdfb-439b-bea1-81f9f50dd74e",
   "metadata": {},
   "outputs": [],
   "source": [
    "def get_feature(img):\n",
    "    with torch.no_grad():\n",
    "        features = model_embeddings(img).squeeze()\n",
    "    return features.cpu().numpy()"
   ]
  },
  {
   "cell_type": "code",
   "execution_count": 42,
   "id": "79f38654-6670-440d-a322-b2cae18a71d8",
   "metadata": {},
   "outputs": [
    {
     "data": {
      "text/plain": [
       "torch.Size([1, 64, 64])"
      ]
     },
     "execution_count": 42,
     "metadata": {},
     "output_type": "execute_result"
    }
   ],
   "source": [
    "# Send an original image through the model\n",
    "image_x, image_y = tumor_dataset[10]\n",
    "image_x.shape"
   ]
  },
  {
   "cell_type": "code",
   "execution_count": 43,
   "id": "a4a2659e-dcaa-4d4a-b5a5-06b363ce6534",
   "metadata": {},
   "outputs": [],
   "source": [
    "image_x = image_x.unsqueeze(dim=0)"
   ]
  },
  {
   "cell_type": "code",
   "execution_count": 44,
   "id": "14348bfc-5988-48f0-88cf-4761d7a99d89",
   "metadata": {},
   "outputs": [
    {
     "data": {
      "text/plain": [
       "torch.Size([1, 1, 64, 64])"
      ]
     },
     "execution_count": 44,
     "metadata": {},
     "output_type": "execute_result"
    }
   ],
   "source": [
    "image_x.shape"
   ]
  },
  {
   "cell_type": "code",
   "execution_count": 45,
   "id": "66160253-9543-4aba-bb81-031d51ef9623",
   "metadata": {},
   "outputs": [
    {
     "data": {
      "text/plain": [
       "torch.Size([1, 3, 64, 64])"
      ]
     },
     "execution_count": 45,
     "metadata": {},
     "output_type": "execute_result"
    }
   ],
   "source": [
    "image_x = image_x.repeat(1, 3, 1, 1)\n",
    "image_x = image_x.to(device)\n",
    "image_x.shape"
   ]
  },
  {
   "cell_type": "code",
   "execution_count": 46,
   "id": "f615c7d3-2dab-425d-81e1-2595ec59e230",
   "metadata": {},
   "outputs": [
    {
     "data": {
      "text/plain": [
       "(4096,)"
      ]
     },
     "execution_count": 46,
     "metadata": {},
     "output_type": "execute_result"
    }
   ],
   "source": [
    "features = get_feature(image_x)\n",
    "features.shape"
   ]
  },
  {
   "cell_type": "code",
   "execution_count": 47,
   "id": "31b9ddc9-3fc8-4a47-bfc7-74a6df27d672",
   "metadata": {},
   "outputs": [],
   "source": [
    "class0_original_images = []\n",
    "class1_original_images = []\n",
    "class2_original_images = []\n",
    "class3_original_images = []\n",
    "target_num = 20 # 20 images for each class"
   ]
  },
  {
   "cell_type": "code",
   "execution_count": 48,
   "id": "e804c948-2dc8-41df-a633-113300baf12a",
   "metadata": {},
   "outputs": [],
   "source": [
    "for i in range(len(tumor_dataset)):\n",
    "    img_x, img_y = tumor_dataset[i]\n",
    "\n",
    "    if img_y == 0:\n",
    "        if len(class0_original_images) < target_num:\n",
    "            class0_original_images.append(img_x)\n",
    "    elif img_y == 1:\n",
    "        if len(class1_original_images) < target_num:\n",
    "            class1_original_images.append(img_x)\n",
    "    elif img_y == 2:\n",
    "        if len(class2_original_images) < target_num:\n",
    "            class2_original_images.append(img_x)\n",
    "    elif img_y == 3:\n",
    "        if len(class3_original_images) < target_num:\n",
    "            class3_original_images.append(img_x)"
   ]
  },
  {
   "cell_type": "code",
   "execution_count": 49,
   "id": "ef07c896-c4cd-48da-9e59-c9d7bd90a4e8",
   "metadata": {},
   "outputs": [
    {
     "data": {
      "text/plain": [
       "20"
      ]
     },
     "execution_count": 49,
     "metadata": {},
     "output_type": "execute_result"
    }
   ],
   "source": [
    "len(class3_original_images)"
   ]
  },
  {
   "cell_type": "code",
   "execution_count": 50,
   "id": "e102404a-68a3-40c5-99a7-45813eb87f20",
   "metadata": {},
   "outputs": [
    {
     "data": {
      "text/plain": [
       "torch.Size([1, 3, 64, 64])"
      ]
     },
     "execution_count": 50,
     "metadata": {},
     "output_type": "execute_result"
    }
   ],
   "source": [
    "# Testing the cosine similarity\n",
    "class1_original_image = class1_original_images[8]\n",
    "class1_original_image = class1_original_image.unsqueeze(dim=0).to(device)\n",
    "class1_original_image = class1_original_image.repeat(1, 3, 1, 1)\n",
    "class1_original_image.shape"
   ]
  },
  {
   "cell_type": "code",
   "execution_count": 51,
   "id": "d7fe9c85-2c83-4580-be7d-32833b706948",
   "metadata": {},
   "outputs": [],
   "source": [
    "fake1 = class1_optimized_latent_vectors[8]\n",
    "fake1_image = gen(fake1.to(device))\n",
    "fake1_image = fake1_image.repeat(1, 3, 1, 1)"
   ]
  },
  {
   "cell_type": "code",
   "execution_count": 52,
   "id": "74647152-cdcb-4593-a88f-d3ac43fd97d3",
   "metadata": {},
   "outputs": [
    {
     "data": {
      "text/plain": [
       "torch.Size([1, 3, 64, 64])"
      ]
     },
     "execution_count": 52,
     "metadata": {},
     "output_type": "execute_result"
    }
   ],
   "source": [
    "fake1_image.shape"
   ]
  },
  {
   "cell_type": "code",
   "execution_count": 53,
   "id": "e88f6396-0ef2-45f5-96e0-6048be01af25",
   "metadata": {},
   "outputs": [],
   "source": [
    "# Get the features of the images\n",
    "features_original = get_feature(class1_original_image)\n",
    "features_fake = get_feature(fake1_image)"
   ]
  },
  {
   "cell_type": "code",
   "execution_count": 54,
   "id": "b54e2bca-5f2b-41ea-b810-15d1f9d30f86",
   "metadata": {},
   "outputs": [],
   "source": [
    "# Compute cosine similarity\n",
    "similarity = 1 - cosine(features_original, features_fake)"
   ]
  },
  {
   "cell_type": "code",
   "execution_count": 55,
   "id": "983c7e35-27ee-453c-9356-cb9a84fdd4a3",
   "metadata": {},
   "outputs": [
    {
     "data": {
      "text/plain": [
       "np.float32(0.6172272)"
      ]
     },
     "execution_count": 55,
     "metadata": {},
     "output_type": "execute_result"
    }
   ],
   "source": [
    "similarity"
   ]
  },
  {
   "cell_type": "code",
   "execution_count": 56,
   "id": "e65e04e8-52b7-4cf2-876c-d9b07a435ec9",
   "metadata": {},
   "outputs": [],
   "source": [
    "def calculate_class0_sim():\n",
    "    similarities = []\n",
    "    for i in range(0, 20):\n",
    "        class0_original = class0_original_images[i].unsqueeze(dim=0).to(device)\n",
    "        class0_original = class0_original.repeat(1, 3, 1, 1)\n",
    "\n",
    "        class0_fake = class0_optimized_latent_vectors[i]\n",
    "        class0_fake_img = gen(class0_fake.to(device))\n",
    "        class0_fake_img = class0_fake_img.repeat(1, 3, 1, 1)\n",
    "\n",
    "        features_original = get_feature(class0_original)\n",
    "        features_fake = get_feature(class0_fake_img)\n",
    "\n",
    "        cosine_similarity = 1 - cosine(features_original, features_fake)\n",
    "\n",
    "        similarities.append(cosine_similarity)\n",
    "        \n",
    "    return similarities"
   ]
  },
  {
   "cell_type": "code",
   "execution_count": 57,
   "id": "10d8f579-0b80-4157-b59b-7b92be9e52f2",
   "metadata": {},
   "outputs": [],
   "source": [
    "def calculate_class1_sim():\n",
    "    similarities = []\n",
    "    for i in range(0, 20):\n",
    "        class1_original = class1_original_images[i].unsqueeze(dim=0).to(device)\n",
    "        class1_original = class1_original.repeat(1, 3, 1, 1)\n",
    "\n",
    "        class1_fake = class1_optimized_latent_vectors[i]\n",
    "        class1_fake_img = gen(class1_fake.to(device))\n",
    "        class1_fake_img = class1_fake_img.repeat(1, 3, 1, 1)\n",
    "\n",
    "        features_original = get_feature(class1_original)\n",
    "        features_fake = get_feature(class1_fake_img)\n",
    "\n",
    "        cosine_similarity = 1 - cosine(features_original, features_fake)\n",
    "        similarities.append(cosine_similarity)\n",
    "\n",
    "    return similarities"
   ]
  },
  {
   "cell_type": "code",
   "execution_count": 58,
   "id": "1bbdc999-fa6d-4005-b785-3c54a7bd89ee",
   "metadata": {},
   "outputs": [],
   "source": [
    "def calculate_class2_sim():\n",
    "    similarities = []\n",
    "    for i in range(0, 20):\n",
    "        class2_original = class2_original_images[i].unsqueeze(dim=0).to(device)\n",
    "        class2_original = class2_original.repeat(1, 3, 1, 1)\n",
    "\n",
    "        class2_fake = class2_optimized_latent_vectors[i]\n",
    "        class2_fake_img = gen(class2_fake.to(device))\n",
    "        class2_fake_img = class2_fake_img.repeat(1, 3, 1, 1)\n",
    "\n",
    "        features_original = get_feature(class2_original)\n",
    "        features_fake = get_feature(class2_fake_img)\n",
    "\n",
    "        cosine_similarity = 1 - cosine(features_original, features_fake)\n",
    "        similarities.append(cosine_similarity)\n",
    "\n",
    "    return similarities"
   ]
  },
  {
   "cell_type": "code",
   "execution_count": 59,
   "id": "33cb8de1-5a87-4dd4-8fc2-d3f27d6ddc9a",
   "metadata": {},
   "outputs": [],
   "source": [
    "def calculate_class3_sim():\n",
    "    similarities = []\n",
    "    for i in range(0, 20):\n",
    "        class3_original = class3_original_images[i].unsqueeze(dim=0).to(device)\n",
    "        class3_original = class3_original.repeat(1, 3, 1, 1)\n",
    "\n",
    "        class3_fake = class3_optimized_latent_vectors[i]\n",
    "        class3_fake_img = gen(class3_fake.to(device))\n",
    "        class3_fake_img = class3_fake_img.repeat(1, 3, 1, 1)\n",
    "\n",
    "        features_original = get_feature(class3_original)\n",
    "        features_fake = get_feature(class3_fake_img)\n",
    "\n",
    "        cosine_similarity = 1 - cosine(features_original, features_fake)\n",
    "        similarities.append(cosine_similarity)\n",
    "\n",
    "    return similarities"
   ]
  },
  {
   "cell_type": "code",
   "execution_count": 60,
   "id": "7868f175-5845-4ee4-b4cf-1c89513375ec",
   "metadata": {},
   "outputs": [],
   "source": [
    "class0_sims = calculate_class0_sim()\n",
    "class1_sims = calculate_class0_sim()\n",
    "class2_sims = calculate_class0_sim()\n",
    "class3_sims = calculate_class0_sim()"
   ]
  },
  {
   "cell_type": "code",
   "execution_count": 61,
   "id": "bbf4597d-a583-4204-a3ce-9085936e0189",
   "metadata": {},
   "outputs": [
    {
     "data": {
      "text/plain": [
       "[np.float32(0.79916143),\n",
       " np.float32(0.20401877),\n",
       " np.float32(0.6025532),\n",
       " np.float32(0.7407145),\n",
       " np.float32(0.42844808),\n",
       " np.float32(0.7637622),\n",
       " np.float32(0.7037757),\n",
       " np.float32(0.52958375),\n",
       " np.float32(0.57707196),\n",
       " np.float32(0.8128622),\n",
       " np.float32(0.018473566),\n",
       " np.float32(0.73887736),\n",
       " np.float32(0.7787664),\n",
       " np.float32(0.019190848),\n",
       " np.float32(0.61209905),\n",
       " np.float32(0.75192195),\n",
       " np.float32(0.76820105),\n",
       " np.float32(0.022663713),\n",
       " np.float32(0.6321008),\n",
       " np.float32(0.7265116)]"
      ]
     },
     "execution_count": 61,
     "metadata": {},
     "output_type": "execute_result"
    }
   ],
   "source": [
    "class0_sims"
   ]
  },
  {
   "cell_type": "code",
   "execution_count": 62,
   "id": "acb9d480-a58f-4ce6-8973-eb9c8d6e7253",
   "metadata": {},
   "outputs": [
    {
     "data": {
      "text/plain": [
       "[np.float32(0.7991615),\n",
       " np.float32(0.20401895),\n",
       " np.float32(0.6025532),\n",
       " np.float32(0.74071443),\n",
       " np.float32(0.42844808),\n",
       " np.float32(0.7637621),\n",
       " np.float32(0.7037757),\n",
       " np.float32(0.52958304),\n",
       " np.float32(0.57707196),\n",
       " np.float32(0.81286234),\n",
       " np.float32(0.018473566),\n",
       " np.float32(0.73887736),\n",
       " np.float32(0.7787664),\n",
       " np.float32(0.019190848),\n",
       " np.float32(0.6120984),\n",
       " np.float32(0.7519219),\n",
       " np.float32(0.76820105),\n",
       " np.float32(0.022663713),\n",
       " np.float32(0.63210016),\n",
       " np.float32(0.7265116)]"
      ]
     },
     "execution_count": 62,
     "metadata": {},
     "output_type": "execute_result"
    }
   ],
   "source": [
    "class3_sims"
   ]
  },
  {
   "cell_type": "code",
   "execution_count": 63,
   "id": "58dc103d-1c30-473a-adc3-fcd5ca5100a0",
   "metadata": {},
   "outputs": [
    {
     "ename": "FileNotFoundError",
     "evalue": "[Errno 2] No such file or directory: 'output/fedvg.png'",
     "output_type": "error",
     "traceback": [
      "\u001b[1;31m---------------------------------------------------------------------------\u001b[0m",
      "\u001b[1;31mFileNotFoundError\u001b[0m                         Traceback (most recent call last)",
      "Cell \u001b[1;32mIn[63], line 43\u001b[0m\n\u001b[0;32m     41\u001b[0m plt\u001b[38;5;241m.\u001b[39mtight_layout()\n\u001b[0;32m     42\u001b[0m \u001b[38;5;66;03m# Save the plot to a file\u001b[39;00m\n\u001b[1;32m---> 43\u001b[0m \u001b[43mplt\u001b[49m\u001b[38;5;241;43m.\u001b[39;49m\u001b[43msavefig\u001b[49m\u001b[43m(\u001b[49m\u001b[38;5;124;43m'\u001b[39;49m\u001b[38;5;124;43moutput/fedvg.png\u001b[39;49m\u001b[38;5;124;43m'\u001b[39;49m\u001b[43m,\u001b[49m\u001b[43m \u001b[49m\u001b[43mdpi\u001b[49m\u001b[38;5;241;43m=\u001b[39;49m\u001b[38;5;241;43m300\u001b[39;49m\u001b[43m,\u001b[49m\u001b[43m \u001b[49m\u001b[43mbbox_inches\u001b[49m\u001b[38;5;241;43m=\u001b[39;49m\u001b[38;5;124;43m'\u001b[39;49m\u001b[38;5;124;43mtight\u001b[39;49m\u001b[38;5;124;43m'\u001b[39;49m\u001b[43m)\u001b[49m  \u001b[38;5;66;03m# Save as a PNG file with high resolution\u001b[39;00m\n\u001b[0;32m     45\u001b[0m \u001b[38;5;66;03m# Show the plot\u001b[39;00m\n\u001b[0;32m     46\u001b[0m plt\u001b[38;5;241m.\u001b[39mshow()\n",
      "File \u001b[1;32m~\\AppData\\Local\\Programs\\Python\\Python39\\lib\\site-packages\\matplotlib\\pyplot.py:1228\u001b[0m, in \u001b[0;36msavefig\u001b[1;34m(*args, **kwargs)\u001b[0m\n\u001b[0;32m   1225\u001b[0m fig \u001b[38;5;241m=\u001b[39m gcf()\n\u001b[0;32m   1226\u001b[0m \u001b[38;5;66;03m# savefig default implementation has no return, so mypy is unhappy\u001b[39;00m\n\u001b[0;32m   1227\u001b[0m \u001b[38;5;66;03m# presumably this is here because subclasses can return?\u001b[39;00m\n\u001b[1;32m-> 1228\u001b[0m res \u001b[38;5;241m=\u001b[39m fig\u001b[38;5;241m.\u001b[39msavefig(\u001b[38;5;241m*\u001b[39margs, \u001b[38;5;241m*\u001b[39m\u001b[38;5;241m*\u001b[39mkwargs)  \u001b[38;5;66;03m# type: ignore[func-returns-value]\u001b[39;00m\n\u001b[0;32m   1229\u001b[0m fig\u001b[38;5;241m.\u001b[39mcanvas\u001b[38;5;241m.\u001b[39mdraw_idle()  \u001b[38;5;66;03m# Need this if 'transparent=True', to reset colors.\u001b[39;00m\n\u001b[0;32m   1230\u001b[0m \u001b[38;5;28;01mreturn\u001b[39;00m res\n",
      "File \u001b[1;32m~\\AppData\\Local\\Programs\\Python\\Python39\\lib\\site-packages\\matplotlib\\figure.py:3395\u001b[0m, in \u001b[0;36mFigure.savefig\u001b[1;34m(self, fname, transparent, **kwargs)\u001b[0m\n\u001b[0;32m   3393\u001b[0m     \u001b[38;5;28;01mfor\u001b[39;00m ax \u001b[38;5;129;01min\u001b[39;00m \u001b[38;5;28mself\u001b[39m\u001b[38;5;241m.\u001b[39maxes:\n\u001b[0;32m   3394\u001b[0m         _recursively_make_axes_transparent(stack, ax)\n\u001b[1;32m-> 3395\u001b[0m \u001b[38;5;28mself\u001b[39m\u001b[38;5;241m.\u001b[39mcanvas\u001b[38;5;241m.\u001b[39mprint_figure(fname, \u001b[38;5;241m*\u001b[39m\u001b[38;5;241m*\u001b[39mkwargs)\n",
      "File \u001b[1;32m~\\AppData\\Local\\Programs\\Python\\Python39\\lib\\site-packages\\matplotlib\\backend_bases.py:2204\u001b[0m, in \u001b[0;36mFigureCanvasBase.print_figure\u001b[1;34m(self, filename, dpi, facecolor, edgecolor, orientation, format, bbox_inches, pad_inches, bbox_extra_artists, backend, **kwargs)\u001b[0m\n\u001b[0;32m   2200\u001b[0m \u001b[38;5;28;01mtry\u001b[39;00m:\n\u001b[0;32m   2201\u001b[0m     \u001b[38;5;66;03m# _get_renderer may change the figure dpi (as vector formats\u001b[39;00m\n\u001b[0;32m   2202\u001b[0m     \u001b[38;5;66;03m# force the figure dpi to 72), so we need to set it again here.\u001b[39;00m\n\u001b[0;32m   2203\u001b[0m     \u001b[38;5;28;01mwith\u001b[39;00m cbook\u001b[38;5;241m.\u001b[39m_setattr_cm(\u001b[38;5;28mself\u001b[39m\u001b[38;5;241m.\u001b[39mfigure, dpi\u001b[38;5;241m=\u001b[39mdpi):\n\u001b[1;32m-> 2204\u001b[0m         result \u001b[38;5;241m=\u001b[39m print_method(\n\u001b[0;32m   2205\u001b[0m             filename,\n\u001b[0;32m   2206\u001b[0m             facecolor\u001b[38;5;241m=\u001b[39mfacecolor,\n\u001b[0;32m   2207\u001b[0m             edgecolor\u001b[38;5;241m=\u001b[39medgecolor,\n\u001b[0;32m   2208\u001b[0m             orientation\u001b[38;5;241m=\u001b[39morientation,\n\u001b[0;32m   2209\u001b[0m             bbox_inches_restore\u001b[38;5;241m=\u001b[39m_bbox_inches_restore,\n\u001b[0;32m   2210\u001b[0m             \u001b[38;5;241m*\u001b[39m\u001b[38;5;241m*\u001b[39mkwargs)\n\u001b[0;32m   2211\u001b[0m \u001b[38;5;28;01mfinally\u001b[39;00m:\n\u001b[0;32m   2212\u001b[0m     \u001b[38;5;28;01mif\u001b[39;00m bbox_inches \u001b[38;5;129;01mand\u001b[39;00m restore_bbox:\n",
      "File \u001b[1;32m~\\AppData\\Local\\Programs\\Python\\Python39\\lib\\site-packages\\matplotlib\\backend_bases.py:2054\u001b[0m, in \u001b[0;36mFigureCanvasBase._switch_canvas_and_return_print_method.<locals>.<lambda>\u001b[1;34m(*args, **kwargs)\u001b[0m\n\u001b[0;32m   2050\u001b[0m     optional_kws \u001b[38;5;241m=\u001b[39m {  \u001b[38;5;66;03m# Passed by print_figure for other renderers.\u001b[39;00m\n\u001b[0;32m   2051\u001b[0m         \u001b[38;5;124m\"\u001b[39m\u001b[38;5;124mdpi\u001b[39m\u001b[38;5;124m\"\u001b[39m, \u001b[38;5;124m\"\u001b[39m\u001b[38;5;124mfacecolor\u001b[39m\u001b[38;5;124m\"\u001b[39m, \u001b[38;5;124m\"\u001b[39m\u001b[38;5;124medgecolor\u001b[39m\u001b[38;5;124m\"\u001b[39m, \u001b[38;5;124m\"\u001b[39m\u001b[38;5;124morientation\u001b[39m\u001b[38;5;124m\"\u001b[39m,\n\u001b[0;32m   2052\u001b[0m         \u001b[38;5;124m\"\u001b[39m\u001b[38;5;124mbbox_inches_restore\u001b[39m\u001b[38;5;124m\"\u001b[39m}\n\u001b[0;32m   2053\u001b[0m     skip \u001b[38;5;241m=\u001b[39m optional_kws \u001b[38;5;241m-\u001b[39m {\u001b[38;5;241m*\u001b[39minspect\u001b[38;5;241m.\u001b[39msignature(meth)\u001b[38;5;241m.\u001b[39mparameters}\n\u001b[1;32m-> 2054\u001b[0m     print_method \u001b[38;5;241m=\u001b[39m functools\u001b[38;5;241m.\u001b[39mwraps(meth)(\u001b[38;5;28;01mlambda\u001b[39;00m \u001b[38;5;241m*\u001b[39margs, \u001b[38;5;241m*\u001b[39m\u001b[38;5;241m*\u001b[39mkwargs: meth(\n\u001b[0;32m   2055\u001b[0m         \u001b[38;5;241m*\u001b[39margs, \u001b[38;5;241m*\u001b[39m\u001b[38;5;241m*\u001b[39m{k: v \u001b[38;5;28;01mfor\u001b[39;00m k, v \u001b[38;5;129;01min\u001b[39;00m kwargs\u001b[38;5;241m.\u001b[39mitems() \u001b[38;5;28;01mif\u001b[39;00m k \u001b[38;5;129;01mnot\u001b[39;00m \u001b[38;5;129;01min\u001b[39;00m skip}))\n\u001b[0;32m   2056\u001b[0m \u001b[38;5;28;01melse\u001b[39;00m:  \u001b[38;5;66;03m# Let third-parties do as they see fit.\u001b[39;00m\n\u001b[0;32m   2057\u001b[0m     print_method \u001b[38;5;241m=\u001b[39m meth\n",
      "File \u001b[1;32m~\\AppData\\Local\\Programs\\Python\\Python39\\lib\\site-packages\\matplotlib\\backends\\backend_agg.py:496\u001b[0m, in \u001b[0;36mFigureCanvasAgg.print_png\u001b[1;34m(self, filename_or_obj, metadata, pil_kwargs)\u001b[0m\n\u001b[0;32m    449\u001b[0m \u001b[38;5;28;01mdef\u001b[39;00m\u001b[38;5;250m \u001b[39m\u001b[38;5;21mprint_png\u001b[39m(\u001b[38;5;28mself\u001b[39m, filename_or_obj, \u001b[38;5;241m*\u001b[39m, metadata\u001b[38;5;241m=\u001b[39m\u001b[38;5;28;01mNone\u001b[39;00m, pil_kwargs\u001b[38;5;241m=\u001b[39m\u001b[38;5;28;01mNone\u001b[39;00m):\n\u001b[0;32m    450\u001b[0m \u001b[38;5;250m    \u001b[39m\u001b[38;5;124;03m\"\"\"\u001b[39;00m\n\u001b[0;32m    451\u001b[0m \u001b[38;5;124;03m    Write the figure to a PNG file.\u001b[39;00m\n\u001b[0;32m    452\u001b[0m \n\u001b[1;32m   (...)\u001b[0m\n\u001b[0;32m    494\u001b[0m \u001b[38;5;124;03m        *metadata*, including the default 'Software' key.\u001b[39;00m\n\u001b[0;32m    495\u001b[0m \u001b[38;5;124;03m    \"\"\"\u001b[39;00m\n\u001b[1;32m--> 496\u001b[0m     \u001b[38;5;28;43mself\u001b[39;49m\u001b[38;5;241;43m.\u001b[39;49m\u001b[43m_print_pil\u001b[49m\u001b[43m(\u001b[49m\u001b[43mfilename_or_obj\u001b[49m\u001b[43m,\u001b[49m\u001b[43m \u001b[49m\u001b[38;5;124;43m\"\u001b[39;49m\u001b[38;5;124;43mpng\u001b[39;49m\u001b[38;5;124;43m\"\u001b[39;49m\u001b[43m,\u001b[49m\u001b[43m \u001b[49m\u001b[43mpil_kwargs\u001b[49m\u001b[43m,\u001b[49m\u001b[43m \u001b[49m\u001b[43mmetadata\u001b[49m\u001b[43m)\u001b[49m\n",
      "File \u001b[1;32m~\\AppData\\Local\\Programs\\Python\\Python39\\lib\\site-packages\\matplotlib\\backends\\backend_agg.py:445\u001b[0m, in \u001b[0;36mFigureCanvasAgg._print_pil\u001b[1;34m(self, filename_or_obj, fmt, pil_kwargs, metadata)\u001b[0m\n\u001b[0;32m    440\u001b[0m \u001b[38;5;250m\u001b[39m\u001b[38;5;124;03m\"\"\"\u001b[39;00m\n\u001b[0;32m    441\u001b[0m \u001b[38;5;124;03mDraw the canvas, then save it using `.image.imsave` (to which\u001b[39;00m\n\u001b[0;32m    442\u001b[0m \u001b[38;5;124;03m*pil_kwargs* and *metadata* are forwarded).\u001b[39;00m\n\u001b[0;32m    443\u001b[0m \u001b[38;5;124;03m\"\"\"\u001b[39;00m\n\u001b[0;32m    444\u001b[0m FigureCanvasAgg\u001b[38;5;241m.\u001b[39mdraw(\u001b[38;5;28mself\u001b[39m)\n\u001b[1;32m--> 445\u001b[0m \u001b[43mmpl\u001b[49m\u001b[38;5;241;43m.\u001b[39;49m\u001b[43mimage\u001b[49m\u001b[38;5;241;43m.\u001b[39;49m\u001b[43mimsave\u001b[49m\u001b[43m(\u001b[49m\n\u001b[0;32m    446\u001b[0m \u001b[43m    \u001b[49m\u001b[43mfilename_or_obj\u001b[49m\u001b[43m,\u001b[49m\u001b[43m \u001b[49m\u001b[38;5;28;43mself\u001b[39;49m\u001b[38;5;241;43m.\u001b[39;49m\u001b[43mbuffer_rgba\u001b[49m\u001b[43m(\u001b[49m\u001b[43m)\u001b[49m\u001b[43m,\u001b[49m\u001b[43m \u001b[49m\u001b[38;5;28;43mformat\u001b[39;49m\u001b[38;5;241;43m=\u001b[39;49m\u001b[43mfmt\u001b[49m\u001b[43m,\u001b[49m\u001b[43m \u001b[49m\u001b[43morigin\u001b[49m\u001b[38;5;241;43m=\u001b[39;49m\u001b[38;5;124;43m\"\u001b[39;49m\u001b[38;5;124;43mupper\u001b[39;49m\u001b[38;5;124;43m\"\u001b[39;49m\u001b[43m,\u001b[49m\n\u001b[0;32m    447\u001b[0m \u001b[43m    \u001b[49m\u001b[43mdpi\u001b[49m\u001b[38;5;241;43m=\u001b[39;49m\u001b[38;5;28;43mself\u001b[39;49m\u001b[38;5;241;43m.\u001b[39;49m\u001b[43mfigure\u001b[49m\u001b[38;5;241;43m.\u001b[39;49m\u001b[43mdpi\u001b[49m\u001b[43m,\u001b[49m\u001b[43m \u001b[49m\u001b[43mmetadata\u001b[49m\u001b[38;5;241;43m=\u001b[39;49m\u001b[43mmetadata\u001b[49m\u001b[43m,\u001b[49m\u001b[43m \u001b[49m\u001b[43mpil_kwargs\u001b[49m\u001b[38;5;241;43m=\u001b[39;49m\u001b[43mpil_kwargs\u001b[49m\u001b[43m)\u001b[49m\n",
      "File \u001b[1;32m~\\AppData\\Local\\Programs\\Python\\Python39\\lib\\site-packages\\matplotlib\\image.py:1676\u001b[0m, in \u001b[0;36mimsave\u001b[1;34m(fname, arr, vmin, vmax, cmap, format, origin, dpi, metadata, pil_kwargs)\u001b[0m\n\u001b[0;32m   1674\u001b[0m pil_kwargs\u001b[38;5;241m.\u001b[39msetdefault(\u001b[38;5;124m\"\u001b[39m\u001b[38;5;124mformat\u001b[39m\u001b[38;5;124m\"\u001b[39m, \u001b[38;5;28mformat\u001b[39m)\n\u001b[0;32m   1675\u001b[0m pil_kwargs\u001b[38;5;241m.\u001b[39msetdefault(\u001b[38;5;124m\"\u001b[39m\u001b[38;5;124mdpi\u001b[39m\u001b[38;5;124m\"\u001b[39m, (dpi, dpi))\n\u001b[1;32m-> 1676\u001b[0m image\u001b[38;5;241m.\u001b[39msave(fname, \u001b[38;5;241m*\u001b[39m\u001b[38;5;241m*\u001b[39mpil_kwargs)\n",
      "File \u001b[1;32m~\\AppData\\Local\\Programs\\Python\\Python39\\lib\\site-packages\\PIL\\Image.py:2436\u001b[0m, in \u001b[0;36mImage.save\u001b[1;34m(self, fp, format, **params)\u001b[0m\n\u001b[0;32m   2434\u001b[0m         fp \u001b[38;5;241m=\u001b[39m builtins\u001b[38;5;241m.\u001b[39mopen(filename, \u001b[38;5;124m\"\u001b[39m\u001b[38;5;124mr+b\u001b[39m\u001b[38;5;124m\"\u001b[39m)\n\u001b[0;32m   2435\u001b[0m     \u001b[38;5;28;01melse\u001b[39;00m:\n\u001b[1;32m-> 2436\u001b[0m         fp \u001b[38;5;241m=\u001b[39m \u001b[43mbuiltins\u001b[49m\u001b[38;5;241;43m.\u001b[39;49m\u001b[43mopen\u001b[49m\u001b[43m(\u001b[49m\u001b[43mfilename\u001b[49m\u001b[43m,\u001b[49m\u001b[43m \u001b[49m\u001b[38;5;124;43m\"\u001b[39;49m\u001b[38;5;124;43mw+b\u001b[39;49m\u001b[38;5;124;43m\"\u001b[39;49m\u001b[43m)\u001b[49m\n\u001b[0;32m   2438\u001b[0m \u001b[38;5;28;01mtry\u001b[39;00m:\n\u001b[0;32m   2439\u001b[0m     save_handler(\u001b[38;5;28mself\u001b[39m, fp, filename)\n",
      "\u001b[1;31mFileNotFoundError\u001b[0m: [Errno 2] No such file or directory: 'output/fedvg.png'"
     ]
    },
    {
     "data": {
      "image/png": "[encoded data removed]",
      "text/plain": [
       "<Figure size 650x420 with 1 Axes>"
      ]
     },
     "metadata": {},
     "output_type": "display_data"
    }
   ],
   "source": [
    "                                                        # VISUALIZE\n",
    "# NOTE: Class indexes now start from 1 so, previous class 0 = now class 1 and so on\n",
    "# FIG 1: Raw similarity plot\n",
    "\n",
    "import pandas as pd\n",
    "import numpy as np\n",
    "import matplotlib.pyplot as plt\n",
    "import seaborn as sns\n",
    "\n",
    "# Generate sample similarity data for four classes (each with 20 values in the range 0 to 1)\n",
    "class1_sim = class0_sims\n",
    "class2_sim = class1_sims\n",
    "class3_sim = class2_sims\n",
    "class4_sim = class3_sims\n",
    "\n",
    "# Set figure size\n",
    "plt.figure(figsize=(6.5, 4.2))  # Set the size of the figure (width, height)\n",
    "\n",
    "# Sample DataFrame with four columns\n",
    "data=pd.DataFrame({'Class 1':class1_sim,'Class 2':class2_sim,'Class 3':class3_sim,'Class 4':class4_sim})\n",
    "df = pd.DataFrame(data)\n",
    "\n",
    "# Plot the probability distributions\n",
    "#plt.figure(figsize=(10, 6))\n",
    "\n",
    "# Define colors and line styles for each column\n",
    "colors = ['#1f77b4', '#ff7f0e', '#2ca02c', '#d62728']\n",
    "linestyles = ['-.', '--', '-', '-']\n",
    "\n",
    "# Plot the probability distributions with unique colors and line styles\n",
    "for column, color, linestyle in zip(df.columns, colors, linestyles):\n",
    "    sns.kdeplot(df[column], label=column, color=color, linestyle=linestyle)\n",
    "\n",
    "#plt.title('Probability Distributions of Four Columns')\n",
    "plt.xlabel('Similarity',fontsize=12)\n",
    "plt.ylabel('Density',fontsize=12)\n",
    "plt.yticks(fontsize=12)  # Set y-tick labels font size\n",
    "plt.legend(loc='upper right',fontsize=12)  # Increase legend font size\n",
    "\n",
    "# Optimize layout\n",
    "plt.tight_layout()\n",
    "# Save the plot to a file\n",
    "plt.savefig('output/fedvg.png', dpi=300, bbox_inches='tight')  # Save as a PNG file with high resolution\n",
    "\n",
    "# Show the plot\n",
    "plt.show()\n"
   ]
  },
  {
   "cell_type": "code",
   "execution_count": 64,
   "id": "c71af78e-28e9-4564-9609-3039455bb875",
   "metadata": {},
   "outputs": [
    {
     "data": {
      "image/png": "[encoded data removed]",
      "text/plain": [
       "<Figure size 750x500 with 1 Axes>"
      ]
     },
     "metadata": {},
     "output_type": "display_data"
    }
   ],
   "source": [
    "# FIG 2: DIFFERENCES IN COSINE SIMILARITY\n",
    "\n",
    "# For each class, we have 20 similarity values — one per image — showing how similar fake and real versions are.These values are very close across classes\n",
    "# So, to highlight subtle differences, compute and plot the difference between each pair of classes, value by value.\n",
    "# This gives you 20 values showing how much the similarity differs for each image between class 0 and class 1.\n",
    "# It's a magnified view of the gap between classes.\n",
    "# If the differences are tiny (e.g., 0.003), the plot helps make that visible and comparable.\n",
    "\n",
    "import numpy as np\n",
    "import matplotlib.pyplot as plt\n",
    "import seaborn as sns\n",
    "import pandas as pd\n",
    "\n",
    "# Differences between class distributions (pairwise)\n",
    "diff_12 = np.array(class2_sim) - np.array(class1_sim)\n",
    "diff_13 = np.array(class3_sim) - np.array(class1_sim)\n",
    "diff_14 = np.array(class4_sim) - np.array(class1_sim)\n",
    "diff_23 = np.array(class3_sim) - np.array(class2_sim)\n",
    "diff_24 = np.array(class4_sim) - np.array(class2_sim)\n",
    "diff_34 = np.array(class4_sim) - np.array(class3_sim)\n",
    "\n",
    "# Create a DataFrame\n",
    "diff_df = pd.DataFrame({\n",
    "    'Class 2 - Class 1': diff_12,\n",
    "    'Class 3 - Class 1': diff_13,\n",
    "    'Class 4 - Class 1': diff_14,\n",
    "    'Class 3 - Class 2': diff_23,\n",
    "    'Class 4 - Class 2': diff_24,\n",
    "    'Class 4 - Class 3': diff_34,\n",
    "})\n",
    "\n",
    "# Plot\n",
    "plt.figure(figsize=(7.5, 5))\n",
    "\n",
    "colors = sns.color_palette(\"tab10\", n_colors=6)\n",
    "\n",
    "for column, color in zip(diff_df.columns, colors):\n",
    "    sns.kdeplot(diff_df[column], label=column, color=color, linestyle='-')\n",
    "\n",
    "plt.axvline(0, color='black', linestyle='--', linewidth=1)  # reference line at 0\n",
    "plt.xlabel('Difference in Similarity', fontsize=12)\n",
    "plt.ylabel('Density', fontsize=12)\n",
    "plt.legend(fontsize=10)\n",
    "plt.title(\"Pairwise Differences in Cosine Similarity\", fontsize=13)\n",
    "plt.tight_layout()\n",
    "plt.show()"
   ]
  },
  {
   "cell_type": "code",
   "execution_count": 65,
   "id": "362bf182-7927-4ce2-bf5a-97299d426bc4",
   "metadata": {},
   "outputs": [],
   "source": [
    "def calculate_interclass_similarity(first, second):\n",
    "    similarities = []\n",
    "\n",
    "    first_images = []\n",
    "    second_images = []\n",
    "    if first == 'class1':\n",
    "        first_images = class0_original_images.copy()\n",
    "    elif first == 'class2':\n",
    "        first_images = class1_original_images.copy()\n",
    "    elif first == 'class3':\n",
    "        first_images = class2_original_images.copy()\n",
    "    elif first == 'class4':\n",
    "        first_images = class3_original_images.copy()\n",
    "\n",
    "    if second == 'class1':\n",
    "        second_images = class0_original_images.copy()\n",
    "    elif second == 'class2':\n",
    "        second_images = class1_original_images.copy()\n",
    "    elif second == 'class3':\n",
    "        second_images = class2_original_images.copy()\n",
    "    elif second == 'class4':\n",
    "        second_images = class3_original_images.copy()\n",
    "    \n",
    "    for i in range(0, 20):\n",
    "        first_image = first_images[i].unsqueeze(dim=0).to(device)\n",
    "        first_image = first_image.repeat(1, 3, 1, 1)\n",
    "        \n",
    "        second_image = second_images[i].unsqueeze(dim=0).to(device)\n",
    "        second_image = second_image.repeat(1, 3, 1, 1)\n",
    "        \n",
    "        features_first = get_feature(first_image)\n",
    "        features_second = get_feature(second_image)\n",
    "\n",
    "        cosine_similarity = 1 - cosine(features_first, features_second)\n",
    "        similarities.append(cosine_similarity)\n",
    "\n",
    "    return similarities"
   ]
  },
  {
   "cell_type": "code",
   "execution_count": 66,
   "id": "5954dfe3-cb08-4551-a5f9-d2082ac3d604",
   "metadata": {},
   "outputs": [],
   "source": [
    "class1class2 = calculate_interclass_similarity('class1', 'class2')"
   ]
  },
  {
   "cell_type": "code",
   "execution_count": 67,
   "id": "cd5ab50d-9d9d-443b-bea5-2d6e302e2bf4",
   "metadata": {},
   "outputs": [
    {
     "data": {
      "text/plain": [
       "[np.float32(0.92668736),\n",
       " np.float32(0.9234537),\n",
       " np.float32(0.8914366),\n",
       " np.float32(0.85996324),\n",
       " np.float32(0.9045878),\n",
       " np.float32(0.8661933),\n",
       " np.float32(0.8529511),\n",
       " np.float32(0.8320824),\n",
       " np.float32(0.81313324),\n",
       " np.float32(0.9028811),\n",
       " np.float32(0.9157124),\n",
       " np.float32(0.83247995),\n",
       " np.float32(0.9164997),\n",
       " np.float32(0.84919524),\n",
       " np.float32(0.90398437),\n",
       " np.float32(0.8242637),\n",
       " np.float32(0.78115076),\n",
       " np.float32(0.80533254),\n",
       " np.float32(0.92938054),\n",
       " np.float32(0.89034694)]"
      ]
     },
     "execution_count": 67,
     "metadata": {},
     "output_type": "execute_result"
    }
   ],
   "source": [
    "class1class2"
   ]
  },
  {
   "cell_type": "code",
   "execution_count": 68,
   "id": "29441f40-36a7-4854-98be-5d128bae49cd",
   "metadata": {},
   "outputs": [
    {
     "ename": "FileNotFoundError",
     "evalue": "[Errno 2] No such file or directory: 'output/VoiceDivergenceD3.png'",
     "output_type": "error",
     "traceback": [
      "\u001b[1;31m---------------------------------------------------------------------------\u001b[0m",
      "\u001b[1;31mFileNotFoundError\u001b[0m                         Traceback (most recent call last)",
      "Cell \u001b[1;32mIn[68], line 44\u001b[0m\n\u001b[0;32m     42\u001b[0m plt\u001b[38;5;241m.\u001b[39mtight_layout()\n\u001b[0;32m     43\u001b[0m \u001b[38;5;66;03m# Save the plot to a file\u001b[39;00m\n\u001b[1;32m---> 44\u001b[0m \u001b[43mplt\u001b[49m\u001b[38;5;241;43m.\u001b[39;49m\u001b[43msavefig\u001b[49m\u001b[43m(\u001b[49m\u001b[38;5;124;43m'\u001b[39;49m\u001b[38;5;124;43moutput/VoiceDivergenceD3.png\u001b[39;49m\u001b[38;5;124;43m'\u001b[39;49m\u001b[43m,\u001b[49m\u001b[43m \u001b[49m\u001b[43mdpi\u001b[49m\u001b[38;5;241;43m=\u001b[39;49m\u001b[38;5;241;43m300\u001b[39;49m\u001b[43m,\u001b[49m\u001b[43m \u001b[49m\u001b[43mbbox_inches\u001b[49m\u001b[38;5;241;43m=\u001b[39;49m\u001b[38;5;124;43m'\u001b[39;49m\u001b[38;5;124;43mtight\u001b[39;49m\u001b[38;5;124;43m'\u001b[39;49m\u001b[43m)\u001b[49m  \u001b[38;5;66;03m# Save as a PNG file with high resolution\u001b[39;00m\n\u001b[0;32m     46\u001b[0m \u001b[38;5;66;03m# Show the plot\u001b[39;00m\n\u001b[0;32m     47\u001b[0m plt\u001b[38;5;241m.\u001b[39mshow()\n",
      "File \u001b[1;32m~\\AppData\\Local\\Programs\\Python\\Python39\\lib\\site-packages\\matplotlib\\pyplot.py:1228\u001b[0m, in \u001b[0;36msavefig\u001b[1;34m(*args, **kwargs)\u001b[0m\n\u001b[0;32m   1225\u001b[0m fig \u001b[38;5;241m=\u001b[39m gcf()\n\u001b[0;32m   1226\u001b[0m \u001b[38;5;66;03m# savefig default implementation has no return, so mypy is unhappy\u001b[39;00m\n\u001b[0;32m   1227\u001b[0m \u001b[38;5;66;03m# presumably this is here because subclasses can return?\u001b[39;00m\n\u001b[1;32m-> 1228\u001b[0m res \u001b[38;5;241m=\u001b[39m fig\u001b[38;5;241m.\u001b[39msavefig(\u001b[38;5;241m*\u001b[39margs, \u001b[38;5;241m*\u001b[39m\u001b[38;5;241m*\u001b[39mkwargs)  \u001b[38;5;66;03m# type: ignore[func-returns-value]\u001b[39;00m\n\u001b[0;32m   1229\u001b[0m fig\u001b[38;5;241m.\u001b[39mcanvas\u001b[38;5;241m.\u001b[39mdraw_idle()  \u001b[38;5;66;03m# Need this if 'transparent=True', to reset colors.\u001b[39;00m\n\u001b[0;32m   1230\u001b[0m \u001b[38;5;28;01mreturn\u001b[39;00m res\n",
      "File \u001b[1;32m~\\AppData\\Local\\Programs\\Python\\Python39\\lib\\site-packages\\matplotlib\\figure.py:3395\u001b[0m, in \u001b[0;36mFigure.savefig\u001b[1;34m(self, fname, transparent, **kwargs)\u001b[0m\n\u001b[0;32m   3393\u001b[0m     \u001b[38;5;28;01mfor\u001b[39;00m ax \u001b[38;5;129;01min\u001b[39;00m \u001b[38;5;28mself\u001b[39m\u001b[38;5;241m.\u001b[39maxes:\n\u001b[0;32m   3394\u001b[0m         _recursively_make_axes_transparent(stack, ax)\n\u001b[1;32m-> 3395\u001b[0m \u001b[38;5;28mself\u001b[39m\u001b[38;5;241m.\u001b[39mcanvas\u001b[38;5;241m.\u001b[39mprint_figure(fname, \u001b[38;5;241m*\u001b[39m\u001b[38;5;241m*\u001b[39mkwargs)\n",
      "File \u001b[1;32m~\\AppData\\Local\\Programs\\Python\\Python39\\lib\\site-packages\\matplotlib\\backend_bases.py:2204\u001b[0m, in \u001b[0;36mFigureCanvasBase.print_figure\u001b[1;34m(self, filename, dpi, facecolor, edgecolor, orientation, format, bbox_inches, pad_inches, bbox_extra_artists, backend, **kwargs)\u001b[0m\n\u001b[0;32m   2200\u001b[0m \u001b[38;5;28;01mtry\u001b[39;00m:\n\u001b[0;32m   2201\u001b[0m     \u001b[38;5;66;03m# _get_renderer may change the figure dpi (as vector formats\u001b[39;00m\n\u001b[0;32m   2202\u001b[0m     \u001b[38;5;66;03m# force the figure dpi to 72), so we need to set it again here.\u001b[39;00m\n\u001b[0;32m   2203\u001b[0m     \u001b[38;5;28;01mwith\u001b[39;00m cbook\u001b[38;5;241m.\u001b[39m_setattr_cm(\u001b[38;5;28mself\u001b[39m\u001b[38;5;241m.\u001b[39mfigure, dpi\u001b[38;5;241m=\u001b[39mdpi):\n\u001b[1;32m-> 2204\u001b[0m         result \u001b[38;5;241m=\u001b[39m print_method(\n\u001b[0;32m   2205\u001b[0m             filename,\n\u001b[0;32m   2206\u001b[0m             facecolor\u001b[38;5;241m=\u001b[39mfacecolor,\n\u001b[0;32m   2207\u001b[0m             edgecolor\u001b[38;5;241m=\u001b[39medgecolor,\n\u001b[0;32m   2208\u001b[0m             orientation\u001b[38;5;241m=\u001b[39morientation,\n\u001b[0;32m   2209\u001b[0m             bbox_inches_restore\u001b[38;5;241m=\u001b[39m_bbox_inches_restore,\n\u001b[0;32m   2210\u001b[0m             \u001b[38;5;241m*\u001b[39m\u001b[38;5;241m*\u001b[39mkwargs)\n\u001b[0;32m   2211\u001b[0m \u001b[38;5;28;01mfinally\u001b[39;00m:\n\u001b[0;32m   2212\u001b[0m     \u001b[38;5;28;01mif\u001b[39;00m bbox_inches \u001b[38;5;129;01mand\u001b[39;00m restore_bbox:\n",
      "File \u001b[1;32m~\\AppData\\Local\\Programs\\Python\\Python39\\lib\\site-packages\\matplotlib\\backend_bases.py:2054\u001b[0m, in \u001b[0;36mFigureCanvasBase._switch_canvas_and_return_print_method.<locals>.<lambda>\u001b[1;34m(*args, **kwargs)\u001b[0m\n\u001b[0;32m   2050\u001b[0m     optional_kws \u001b[38;5;241m=\u001b[39m {  \u001b[38;5;66;03m# Passed by print_figure for other renderers.\u001b[39;00m\n\u001b[0;32m   2051\u001b[0m         \u001b[38;5;124m\"\u001b[39m\u001b[38;5;124mdpi\u001b[39m\u001b[38;5;124m\"\u001b[39m, \u001b[38;5;124m\"\u001b[39m\u001b[38;5;124mfacecolor\u001b[39m\u001b[38;5;124m\"\u001b[39m, \u001b[38;5;124m\"\u001b[39m\u001b[38;5;124medgecolor\u001b[39m\u001b[38;5;124m\"\u001b[39m, \u001b[38;5;124m\"\u001b[39m\u001b[38;5;124morientation\u001b[39m\u001b[38;5;124m\"\u001b[39m,\n\u001b[0;32m   2052\u001b[0m         \u001b[38;5;124m\"\u001b[39m\u001b[38;5;124mbbox_inches_restore\u001b[39m\u001b[38;5;124m\"\u001b[39m}\n\u001b[0;32m   2053\u001b[0m     skip \u001b[38;5;241m=\u001b[39m optional_kws \u001b[38;5;241m-\u001b[39m {\u001b[38;5;241m*\u001b[39minspect\u001b[38;5;241m.\u001b[39msignature(meth)\u001b[38;5;241m.\u001b[39mparameters}\n\u001b[1;32m-> 2054\u001b[0m     print_method \u001b[38;5;241m=\u001b[39m functools\u001b[38;5;241m.\u001b[39mwraps(meth)(\u001b[38;5;28;01mlambda\u001b[39;00m \u001b[38;5;241m*\u001b[39margs, \u001b[38;5;241m*\u001b[39m\u001b[38;5;241m*\u001b[39mkwargs: meth(\n\u001b[0;32m   2055\u001b[0m         \u001b[38;5;241m*\u001b[39margs, \u001b[38;5;241m*\u001b[39m\u001b[38;5;241m*\u001b[39m{k: v \u001b[38;5;28;01mfor\u001b[39;00m k, v \u001b[38;5;129;01min\u001b[39;00m kwargs\u001b[38;5;241m.\u001b[39mitems() \u001b[38;5;28;01mif\u001b[39;00m k \u001b[38;5;129;01mnot\u001b[39;00m \u001b[38;5;129;01min\u001b[39;00m skip}))\n\u001b[0;32m   2056\u001b[0m \u001b[38;5;28;01melse\u001b[39;00m:  \u001b[38;5;66;03m# Let third-parties do as they see fit.\u001b[39;00m\n\u001b[0;32m   2057\u001b[0m     print_method \u001b[38;5;241m=\u001b[39m meth\n",
      "File \u001b[1;32m~\\AppData\\Local\\Programs\\Python\\Python39\\lib\\site-packages\\matplotlib\\backends\\backend_agg.py:496\u001b[0m, in \u001b[0;36mFigureCanvasAgg.print_png\u001b[1;34m(self, filename_or_obj, metadata, pil_kwargs)\u001b[0m\n\u001b[0;32m    449\u001b[0m \u001b[38;5;28;01mdef\u001b[39;00m\u001b[38;5;250m \u001b[39m\u001b[38;5;21mprint_png\u001b[39m(\u001b[38;5;28mself\u001b[39m, filename_or_obj, \u001b[38;5;241m*\u001b[39m, metadata\u001b[38;5;241m=\u001b[39m\u001b[38;5;28;01mNone\u001b[39;00m, pil_kwargs\u001b[38;5;241m=\u001b[39m\u001b[38;5;28;01mNone\u001b[39;00m):\n\u001b[0;32m    450\u001b[0m \u001b[38;5;250m    \u001b[39m\u001b[38;5;124;03m\"\"\"\u001b[39;00m\n\u001b[0;32m    451\u001b[0m \u001b[38;5;124;03m    Write the figure to a PNG file.\u001b[39;00m\n\u001b[0;32m    452\u001b[0m \n\u001b[1;32m   (...)\u001b[0m\n\u001b[0;32m    494\u001b[0m \u001b[38;5;124;03m        *metadata*, including the default 'Software' key.\u001b[39;00m\n\u001b[0;32m    495\u001b[0m \u001b[38;5;124;03m    \"\"\"\u001b[39;00m\n\u001b[1;32m--> 496\u001b[0m     \u001b[38;5;28;43mself\u001b[39;49m\u001b[38;5;241;43m.\u001b[39;49m\u001b[43m_print_pil\u001b[49m\u001b[43m(\u001b[49m\u001b[43mfilename_or_obj\u001b[49m\u001b[43m,\u001b[49m\u001b[43m \u001b[49m\u001b[38;5;124;43m\"\u001b[39;49m\u001b[38;5;124;43mpng\u001b[39;49m\u001b[38;5;124;43m\"\u001b[39;49m\u001b[43m,\u001b[49m\u001b[43m \u001b[49m\u001b[43mpil_kwargs\u001b[49m\u001b[43m,\u001b[49m\u001b[43m \u001b[49m\u001b[43mmetadata\u001b[49m\u001b[43m)\u001b[49m\n",
      "File \u001b[1;32m~\\AppData\\Local\\Programs\\Python\\Python39\\lib\\site-packages\\matplotlib\\backends\\backend_agg.py:445\u001b[0m, in \u001b[0;36mFigureCanvasAgg._print_pil\u001b[1;34m(self, filename_or_obj, fmt, pil_kwargs, metadata)\u001b[0m\n\u001b[0;32m    440\u001b[0m \u001b[38;5;250m\u001b[39m\u001b[38;5;124;03m\"\"\"\u001b[39;00m\n\u001b[0;32m    441\u001b[0m \u001b[38;5;124;03mDraw the canvas, then save it using `.image.imsave` (to which\u001b[39;00m\n\u001b[0;32m    442\u001b[0m \u001b[38;5;124;03m*pil_kwargs* and *metadata* are forwarded).\u001b[39;00m\n\u001b[0;32m    443\u001b[0m \u001b[38;5;124;03m\"\"\"\u001b[39;00m\n\u001b[0;32m    444\u001b[0m FigureCanvasAgg\u001b[38;5;241m.\u001b[39mdraw(\u001b[38;5;28mself\u001b[39m)\n\u001b[1;32m--> 445\u001b[0m \u001b[43mmpl\u001b[49m\u001b[38;5;241;43m.\u001b[39;49m\u001b[43mimage\u001b[49m\u001b[38;5;241;43m.\u001b[39;49m\u001b[43mimsave\u001b[49m\u001b[43m(\u001b[49m\n\u001b[0;32m    446\u001b[0m \u001b[43m    \u001b[49m\u001b[43mfilename_or_obj\u001b[49m\u001b[43m,\u001b[49m\u001b[43m \u001b[49m\u001b[38;5;28;43mself\u001b[39;49m\u001b[38;5;241;43m.\u001b[39;49m\u001b[43mbuffer_rgba\u001b[49m\u001b[43m(\u001b[49m\u001b[43m)\u001b[49m\u001b[43m,\u001b[49m\u001b[43m \u001b[49m\u001b[38;5;28;43mformat\u001b[39;49m\u001b[38;5;241;43m=\u001b[39;49m\u001b[43mfmt\u001b[49m\u001b[43m,\u001b[49m\u001b[43m \u001b[49m\u001b[43morigin\u001b[49m\u001b[38;5;241;43m=\u001b[39;49m\u001b[38;5;124;43m\"\u001b[39;49m\u001b[38;5;124;43mupper\u001b[39;49m\u001b[38;5;124;43m\"\u001b[39;49m\u001b[43m,\u001b[49m\n\u001b[0;32m    447\u001b[0m \u001b[43m    \u001b[49m\u001b[43mdpi\u001b[49m\u001b[38;5;241;43m=\u001b[39;49m\u001b[38;5;28;43mself\u001b[39;49m\u001b[38;5;241;43m.\u001b[39;49m\u001b[43mfigure\u001b[49m\u001b[38;5;241;43m.\u001b[39;49m\u001b[43mdpi\u001b[49m\u001b[43m,\u001b[49m\u001b[43m \u001b[49m\u001b[43mmetadata\u001b[49m\u001b[38;5;241;43m=\u001b[39;49m\u001b[43mmetadata\u001b[49m\u001b[43m,\u001b[49m\u001b[43m \u001b[49m\u001b[43mpil_kwargs\u001b[49m\u001b[38;5;241;43m=\u001b[39;49m\u001b[43mpil_kwargs\u001b[49m\u001b[43m)\u001b[49m\n",
      "File \u001b[1;32m~\\AppData\\Local\\Programs\\Python\\Python39\\lib\\site-packages\\matplotlib\\image.py:1676\u001b[0m, in \u001b[0;36mimsave\u001b[1;34m(fname, arr, vmin, vmax, cmap, format, origin, dpi, metadata, pil_kwargs)\u001b[0m\n\u001b[0;32m   1674\u001b[0m pil_kwargs\u001b[38;5;241m.\u001b[39msetdefault(\u001b[38;5;124m\"\u001b[39m\u001b[38;5;124mformat\u001b[39m\u001b[38;5;124m\"\u001b[39m, \u001b[38;5;28mformat\u001b[39m)\n\u001b[0;32m   1675\u001b[0m pil_kwargs\u001b[38;5;241m.\u001b[39msetdefault(\u001b[38;5;124m\"\u001b[39m\u001b[38;5;124mdpi\u001b[39m\u001b[38;5;124m\"\u001b[39m, (dpi, dpi))\n\u001b[1;32m-> 1676\u001b[0m image\u001b[38;5;241m.\u001b[39msave(fname, \u001b[38;5;241m*\u001b[39m\u001b[38;5;241m*\u001b[39mpil_kwargs)\n",
      "File \u001b[1;32m~\\AppData\\Local\\Programs\\Python\\Python39\\lib\\site-packages\\PIL\\Image.py:2436\u001b[0m, in \u001b[0;36mImage.save\u001b[1;34m(self, fp, format, **params)\u001b[0m\n\u001b[0;32m   2434\u001b[0m         fp \u001b[38;5;241m=\u001b[39m builtins\u001b[38;5;241m.\u001b[39mopen(filename, \u001b[38;5;124m\"\u001b[39m\u001b[38;5;124mr+b\u001b[39m\u001b[38;5;124m\"\u001b[39m)\n\u001b[0;32m   2435\u001b[0m     \u001b[38;5;28;01melse\u001b[39;00m:\n\u001b[1;32m-> 2436\u001b[0m         fp \u001b[38;5;241m=\u001b[39m \u001b[43mbuiltins\u001b[49m\u001b[38;5;241;43m.\u001b[39;49m\u001b[43mopen\u001b[49m\u001b[43m(\u001b[49m\u001b[43mfilename\u001b[49m\u001b[43m,\u001b[49m\u001b[43m \u001b[49m\u001b[38;5;124;43m\"\u001b[39;49m\u001b[38;5;124;43mw+b\u001b[39;49m\u001b[38;5;124;43m\"\u001b[39;49m\u001b[43m)\u001b[49m\n\u001b[0;32m   2438\u001b[0m \u001b[38;5;28;01mtry\u001b[39;00m:\n\u001b[0;32m   2439\u001b[0m     save_handler(\u001b[38;5;28mself\u001b[39m, fp, filename)\n",
      "\u001b[1;31mFileNotFoundError\u001b[0m: [Errno 2] No such file or directory: 'output/VoiceDivergenceD3.png'"
     ]
    },
    {
     "data": {
      "image/png": "[encoded data removed]",
      "text/plain": [
       "<Figure size 650x420 with 1 Axes>"
      ]
     },
     "metadata": {},
     "output_type": "display_data"
    }
   ],
   "source": [
    "                                                # FIG: 3 -> INTERCLASS SIMILARITIES\n",
    "\n",
    "import pandas as pd\n",
    "import numpy as np\n",
    "import matplotlib.pyplot as plt\n",
    "import seaborn as sns\n",
    "\n",
    "# Set figure size\n",
    "plt.figure(figsize=(6.5, 4.2))  # Set the size of the figure (width, height)\n",
    "\n",
    "# Generate sample similarity data for four classes (each with 20 values in the range 0 to 1)\n",
    "np.random.seed(42)  # For reproducibility\n",
    "class1class2 = calculate_interclass_similarity('class1', 'class2')\n",
    "class1class3 = calculate_interclass_similarity('class1', 'class3')\n",
    "class1class4 = calculate_interclass_similarity('class1', 'class4')\n",
    "class2class3 = calculate_interclass_similarity('class2', 'class3')\n",
    "class2class4 = calculate_interclass_similarity('class2', 'class4')\n",
    "class3class4 = calculate_interclass_similarity('class3', 'class4')\n",
    "\n",
    "# Sample DataFrame with four columns\n",
    "data=pd.DataFrame({'Class1 vs Class2':class1class2,'Class1 vs Class3':class1class3,'Class1 vs Class4':class1class4,'Class2 vs Class3':class2class3,'Class2 vs Class4':class2class4,'Class3 vs Class4':class3class4})\n",
    "df = pd.DataFrame(data)\n",
    "\n",
    "# Plot the probability distributions\n",
    "#plt.figure(figsize=(10, 6))\n",
    "\n",
    "# Define colors and line styles for each column\n",
    "colors = ['#1f77b4', '#ff7f0e', '#2ca02c', '#d62728', '#9467bd', '#8c564b']\n",
    "linestyles = ['-.', '--', '-', '-', '-.', '--']\n",
    "\n",
    "# Plot the probability distributions with unique colors and line styles\n",
    "for column, color, linestyle in zip(df.columns, colors, linestyles):\n",
    "    sns.kdeplot(df[column], label=column, color=color, linestyle=linestyle)\n",
    "\n",
    "#plt.title('Probability Distributions of Four Columns')\n",
    "plt.xlabel('Similarity',fontsize=12)\n",
    "plt.ylabel('Density',fontsize=12)\n",
    "plt.yticks(fontsize=12)  # Set y-tick labels font size\n",
    "plt.legend(loc='upper right',fontsize=12)  # Increase legend font size\n",
    "\n",
    "# Optimize layout\n",
    "plt.tight_layout()\n",
    "# Save the plot to a file\n",
    "plt.savefig('output/VoiceDivergenceD3.png', dpi=300, bbox_inches='tight')  # Save as a PNG file with high resolution\n",
    "\n",
    "# Show the plot\n",
    "plt.show()"
   ]
  },
  {
   "cell_type": "code",
   "execution_count": null,
   "id": "19754eee-5c1e-47e6-bbaa-b2cef05a1641",
   "metadata": {},
   "outputs": [],
   "source": []
  },
  {
   "cell_type": "code",
   "execution_count": null,
   "id": "918e9d1f-b03d-4d8b-a55c-7e3a8369b0dc",
   "metadata": {},
   "outputs": [],
   "source": []
  }
 ],
 "metadata": {
  "kernelspec": {
   "display_name": "Python 3 (ipykernel)",
   "language": "python",
   "name": "python3"
  },
  "language_info": {
   "codemirror_mode": {
    "name": "ipython",
    "version": 3
   },
   "file_extension": ".py",
   "mimetype": "text/x-python",
   "name": "python",
   "nbconvert_exporter": "python",
   "pygments_lexer": "ipython3",
   "version": "3.9.7"
  }
 },
 "nbformat": 4,
 "nbformat_minor": 5
}
