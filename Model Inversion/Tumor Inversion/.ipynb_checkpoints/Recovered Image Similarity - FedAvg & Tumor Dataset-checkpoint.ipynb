{
 "cells": [
  {
   "cell_type": "code",
   "execution_count": 2,
   "id": "646b38c2-386a-4f83-a983-ea764ad8267f",
   "metadata": {},
   "outputs": [],
   "source": [
    "# Attempting to recover training data using model's parameters and a DCGAN that was trained on similar data\n",
    "# Author: Suraj Neupane\n",
    "# Written from scratch as a part of a Research Project 2025, Concordia University of Edmonton.\n",
    "import numpy as np\n",
    "\n",
    "import torch\n",
    "from torch import nn\n",
    "from torch.nn import functional\n",
    "\n",
    "from torch.utils import data\n",
    "from torch.utils.data import DataLoader\n",
    "\n",
    "import torchvision\n",
    "from torchvision import datasets\n",
    "from torchvision import transforms\n",
    "\n",
    "import pickle\n",
    "\n",
    "import matplotlib.pyplot as plt\n",
    "%matplotlib inline"
   ]
  },
  {
   "cell_type": "code",
   "execution_count": 3,
   "id": "8b80ddb2-ed75-4870-85b4-9300fce0df7e",
   "metadata": {},
   "outputs": [
    {
     "data": {
      "text/plain": [
       "'2.5.1+cu118'"
      ]
     },
     "execution_count": 3,
     "metadata": {},
     "output_type": "execute_result"
    }
   ],
   "source": [
    "torch.__version__"
   ]
  },
  {
   "cell_type": "code",
   "execution_count": 4,
   "id": "d6950585-eb31-4f61-bd60-5bf8716fcdef",
   "metadata": {},
   "outputs": [],
   "source": [
    "device = 'cuda' if torch.cuda.is_available() else 'cpu'"
   ]
  },
  {
   "cell_type": "code",
   "execution_count": 5,
   "id": "36c47e07-6b7d-4123-a59d-5d465f9ef280",
   "metadata": {},
   "outputs": [
    {
     "data": {
      "text/plain": [
       "'cuda'"
      ]
     },
     "execution_count": 5,
     "metadata": {},
     "output_type": "execute_result"
    }
   ],
   "source": [
    "device"
   ]
  },
  {
   "cell_type": "code",
   "execution_count": 6,
   "id": "b852ca55-f33e-469f-b7b9-e00d21124927",
   "metadata": {},
   "outputs": [],
   "source": [
    "# DCGAN Implementation Class\n",
    "# Discriminator\n",
    "class Discriminator(nn.Module):\n",
    "    def __init__(self, img_channels, features_d):\n",
    "        super().__init__()\n",
    "        self.disc = nn.Sequential(\n",
    "            # Input shape: img_channels x 64 x 64\n",
    "            nn.Conv2d(\n",
    "              in_channels=img_channels, out_channels=features_d, kernel_size=4, stride=2, padding=1\n",
    "            ), # Output shape: features_d x 32 x 32\n",
    "            nn.LeakyReLU(0.2),\n",
    "            self._block(features_d, features_d*2, 4, 2, 1), # Output shape: features_d*2 x 16 x 16\n",
    "            self._block(features_d*2, features_d*4, 4, 2, 1), # Output shape: features_d*4 x 8 x 8\n",
    "            self._block(features_d*4, features_d*8, 4, 2, 1), # Output shape: features_d*8 x 4 x 4\n",
    "           \n",
    "            nn.Conv2d(in_channels=features_d*8, out_channels=1, kernel_size=4, stride=2, padding=0), # Output shape: 1 x 1\n",
    "            nn.Sigmoid(),\n",
    "        )\n",
    "\n",
    "    def _block(self, in_channels, out_channels, kernel_size, stride, padding):\n",
    "        return nn.Sequential(\n",
    "            nn.Conv2d(in_channels, out_channels, kernel_size, stride, padding, bias=False),\n",
    "            nn.BatchNorm2d(out_channels),\n",
    "            nn.LeakyReLU(0.2),\n",
    "        )\n",
    "\n",
    "    def forward(self, X):\n",
    "        return self.disc(X)\n"
   ]
  },
  {
   "cell_type": "code",
   "execution_count": 7,
   "id": "5afe02e5-61d3-4f25-8933-8484e519cd4a",
   "metadata": {},
   "outputs": [],
   "source": [
    "# Generator\n",
    "class Generator(nn.Module):\n",
    "    def __init__(self, z_dim, img_channels, features_g):\n",
    "        super().__init__()\n",
    "        self.gen = nn.Sequential(\n",
    "            self._block(z_dim, features_g*16, 4, 1, 0), # z_dim: (batch_size, 100, 1, 1) -> (batch_size, 1024, 4, 4)\n",
    "            self._block(features_g*16, features_g*8, 4, 2, 1), # z_dim: (batch_size, 1024, 4, 4) -> (batch_size, 512, 8, 8)\n",
    "            self._block(features_g*8, features_g*4, 4, 2, 1), # z_dim: (batch_size, 512, 8, 8) -> (batch_size, 256, 16, 16)\n",
    "            self._block(features_g*4, features_g*2, 4, 2, 1), # z_dim: (batch_size, 128, 16, 16) -> (batch_size, 64, 32, 32)\n",
    "            nn.ConvTranspose2d(\n",
    "                in_channels=features_g*2, out_channels=img_channels, kernel_size=4, stride=2, padding=1 # z_dim: (batch_size, 64, 32, 32) -> (batch_size, 1, 64, 64)\n",
    "            ),\n",
    "            nn.Tanh(),\n",
    "        )\n",
    "        \n",
    "    def _block(self, in_channels, out_channels, kernel_size, stride, padding):\n",
    "        return nn.Sequential(\n",
    "            nn.ConvTranspose2d(\n",
    "                in_channels, out_channels, kernel_size, stride, padding, bias=False,\n",
    "            ),\n",
    "            nn.BatchNorm2d(out_channels),\n",
    "            nn.ReLU(),\n",
    "        )\n",
    "\n",
    "    def forward(self, X):\n",
    "        return self.gen(X)"
   ]
  },
  {
   "cell_type": "code",
   "execution_count": 8,
   "id": "48c1be35-d58a-4d0c-990d-9250fbdbf1b3",
   "metadata": {},
   "outputs": [],
   "source": [
    "# Hyperparams\n",
    "z_dim = 100\n",
    "img_channels = 1\n",
    "features_disc = 64\n",
    "features_gen = 64"
   ]
  },
  {
   "cell_type": "code",
   "execution_count": 9,
   "id": "f2dc1f40-5c2e-4903-b2e7-7abe5cae9772",
   "metadata": {},
   "outputs": [],
   "source": [
    "# Create the model instances\n",
    "gen = Generator(z_dim, img_channels, features_gen).to(device)\n",
    "disc = Discriminator(img_channels, features_disc).to(device)"
   ]
  },
  {
   "cell_type": "code",
   "execution_count": 10,
   "id": "bc7a5deb-f8d8-41d4-aed3-d012d39a84b9",
   "metadata": {},
   "outputs": [
    {
     "data": {
      "text/plain": [
       "<All keys matched successfully>"
      ]
     },
     "execution_count": 10,
     "metadata": {},
     "output_type": "execute_result"
    }
   ],
   "source": [
    "# Load the trained GAN\n",
    "gen.load_state_dict(torch.load('saved models/Generator.pth', weights_only=True))\n",
    "disc.load_state_dict(torch.load('saved models/Discriminator.pth', weights_only=True))"
   ]
  },
  {
   "cell_type": "code",
   "execution_count": 11,
   "id": "a504e932-e168-4bb8-88cc-eea0810aafb0",
   "metadata": {},
   "outputs": [],
   "source": [
    "# Generate a random fake image\n",
    "noise = torch.randn(1, z_dim, 1, 1).to(device)\n",
    "fake_img = gen(noise)"
   ]
  },
  {
   "cell_type": "code",
   "execution_count": 12,
   "id": "98b5d73f-b130-4bc1-a868-c225bd2abe62",
   "metadata": {},
   "outputs": [
    {
     "data": {
      "text/plain": [
       "torch.Size([1, 1, 64, 64])"
      ]
     },
     "execution_count": 12,
     "metadata": {},
     "output_type": "execute_result"
    }
   ],
   "source": [
    "fake_img.shape"
   ]
  },
  {
   "cell_type": "code",
   "execution_count": 13,
   "id": "9d19338c-18e4-4b6e-842f-a225718fa8bb",
   "metadata": {},
   "outputs": [
    {
     "name": "stdout",
     "output_type": "stream",
     "text": [
      "torch.Size([64, 64])\n"
     ]
    },
    {
     "data": {
      "text/plain": [
       "<matplotlib.image.AxesImage at 0x2a71817bac0>"
      ]
     },
     "execution_count": 13,
     "metadata": {},
     "output_type": "execute_result"
    },
    {
     "data": {
      "image/png": "[encoded data removed]",
      "text/plain": [
       "<Figure size 640x480 with 1 Axes>"
      ]
     },
     "metadata": {},
     "output_type": "display_data"
    }
   ],
   "source": [
    "fake_img = fake_img.squeeze()\n",
    "print(fake_img.shape)\n",
    "plt.axis(False)\n",
    "plt.title('Fake Generated Image:')\n",
    "plt.imshow(fake_img.cpu().detach(), cmap='gray')"
   ]
  },
  {
   "cell_type": "code",
   "execution_count": 14,
   "id": "cf2aefac-a759-4335-a3de-2065d6a6a9a5",
   "metadata": {},
   "outputs": [],
   "source": [
    "# Target Model\n",
    "class TFCNN(nn.Module):\n",
    "    def __init__(self, n_classes):\n",
    "        super().__init__()\n",
    "        self.n_classes = n_classes\n",
    "\n",
    "        self.encoder = nn.Sequential(\n",
    "            nn.Conv2d(3, 32, 3, stride=1, padding=1),\n",
    "            nn.ReLU(True),\n",
    "            nn.MaxPool2d(2),\n",
    "            nn.Conv2d(32, 64, 3, stride=1, padding=1),\n",
    "            nn.ReLU(True),\n",
    "            nn.MaxPool2d(2),\n",
    "            nn.Conv2d(64, 64, 3, stride=1, padding=1),\n",
    "            nn.ReLU(True),\n",
    "            nn.MaxPool2d(2),\n",
    "            Reshape(),\n",
    "        )\n",
    "\n",
    "        self.h_size = 64 * 4 * 4\n",
    "\n",
    "        self.classifier = nn.Sequential(\n",
    "            nn.Linear(64 * 4 * 4, 128),\n",
    "            nn.ReLU(True),\n",
    "            nn.Linear(128, n_classes)\n",
    "        )\n",
    "\n",
    "    def forward(self, xs):\n",
    "        code = self.encoder(xs)\n",
    "        logits = self.classifier(code)\n",
    "        return code, logits\n"
   ]
  },
  {
   "cell_type": "code",
   "execution_count": 15,
   "id": "d28876e2-91ee-4ebf-bc52-b71dc82edfa2",
   "metadata": {},
   "outputs": [],
   "source": [
    "class Reshape(nn.Module):\n",
    "    def __init__(self,):\n",
    "        super().__init__()\n",
    "\n",
    "    def forward(self, xs):\n",
    "        return xs.reshape((xs.shape[0], -1))"
   ]
  },
  {
   "cell_type": "code",
   "execution_count": 16,
   "id": "dd57210c-2c18-4651-8f29-be94a7a7a88f",
   "metadata": {},
   "outputs": [],
   "source": [
    "class ClassifyNet(nn.Module):\n",
    "    def __init__(self, net, init_way, n_classes, input_size=None):\n",
    "        super().__init__()\n",
    "        self.net = net\n",
    "        self.init_way = init_way\n",
    "        self.n_classes = n_classes\n",
    "\n",
    "        model = TFCNN(n_classes)\n",
    "\n",
    "        self.h_size = model.h_size\n",
    "\n",
    "        # Convo and pool layers\n",
    "        self.encoder = model.encoder\n",
    "\n",
    "        # Classifier layer\n",
    "        self.classifier = nn.Linear(\n",
    "            self.h_size, self.n_classes, bias=False\n",
    "        )\n",
    "\n",
    "        if self.init_way == \"orth\":\n",
    "            ws = get_orth_weights(self.h_size, self.n_classes)\n",
    "            self.classifier.load_state_dict({\"weight\": ws})\n",
    "\n",
    "    def forward(self, xs):\n",
    "        hs = self.encoder(xs)\n",
    "        logits = self.classifier(hs)\n",
    "        return hs, logits"
   ]
  },
  {
   "cell_type": "code",
   "execution_count": 17,
   "id": "83ea3c08-0470-4c9a-ba15-8328a316b3ab",
   "metadata": {},
   "outputs": [],
   "source": [
    "def load_target_model(base_net, n_classes, path):\n",
    "    # Create the base model\n",
    "    model = ClassifyNet(net=base_net, init_way='none', n_classes=n_classes)\n",
    "    # Load the model\n",
    "    model.load_state_dict(torch.load(path, weights_only=True))\n",
    "\n",
    "    return model"
   ]
  },
  {
   "cell_type": "code",
   "execution_count": 18,
   "id": "0880f1aa-9d08-445a-85ac-f1ff3cebde04",
   "metadata": {},
   "outputs": [
    {
     "name": "stdout",
     "output_type": "stream",
     "text": [
      "Model loaded successfully!\n",
      "Number of parameters in the loaded model: 60416\n"
     ]
    }
   ],
   "source": [
    "# Target Model Loading\n",
    "BASE_NET = 'TFCNN'\n",
    "DATASET = 'tumor4'\n",
    "N_CLASSES = 4\n",
    "\n",
    "target_model = load_target_model(base_net=BASE_NET, n_classes=N_CLASSES, path='saved models/fedavg_global_model.pth').to(device)\n",
    "print('Model loaded successfully!')\n",
    "target_model.eval()\n",
    "\n",
    "num_params = sum(p.numel() for p in target_model.parameters())\n",
    "print('Number of parameters in the loaded model:', num_params)\n"
   ]
  },
  {
   "cell_type": "code",
   "execution_count": 19,
   "id": "f843f19e-b2a5-4ffe-b22b-de4ff93c5643",
   "metadata": {},
   "outputs": [],
   "source": [
    "# BEGIN BATCH MODEL INVERSION\n",
    "img_count = 20\n",
    "latent_vectors = torch.randn(img_count, z_dim, 1, 1, requires_grad=True) # Start with 20 random noises"
   ]
  },
  {
   "cell_type": "code",
   "execution_count": 20,
   "id": "c21320ed-d5ac-4919-aaad-8cfa093998a6",
   "metadata": {},
   "outputs": [],
   "source": [
    "def recover_images(count, target_image_class, latent_vectors):\n",
    "    optimized_latent_vectors = []\n",
    "    \n",
    "    for x in range(0, count):\n",
    "        z = latent_vectors[x].unsqueeze(dim=0).clone().detach().requires_grad_(True)\n",
    "        \n",
    "        learning_rate = 0.01\n",
    "        target_class = 1 # The second class\n",
    "        \n",
    "        # Create the optimizer\n",
    "        optimizer = torch.optim.Adam([z], lr=learning_rate)\n",
    "        \n",
    "        # Loss function (e.g., Cross-Entropy with classifier outputs)\n",
    "        loss_fn = nn.CrossEntropyLoss()\n",
    "        target_class = torch.tensor([target_image_class])  # Set the target class\n",
    "    \n",
    "        # Optimization loop to find the best z\n",
    "        rounds = 500\n",
    "        for i in range(rounds):\n",
    "            optimizer.zero_grad()\n",
    "            \n",
    "            generated_image = gen(z.to(device))  # Generate an image from the latent vector\n",
    "            generated_image = generated_image.repeat(1, 3, 1, 1)\n",
    "            generated_image = functional.interpolate(generated_image, size=(32, 32), mode='nearest')\n",
    "            #print(generated_image.shape)\n",
    "            hs, prediction_logits = target_model(generated_image)  # Classifier output\n",
    "            #print(prediction_logits)\n",
    "            #print(type(prediction_logits))\n",
    "            loss = loss_fn(prediction_logits, target_class.to(device))  # Minimize difference with true class\n",
    "            loss.backward()\n",
    "            optimizer.step()\n",
    "            \n",
    "            if i % 50 == 0:\n",
    "                print(f\"Generating Image Number: {x+1} for target class {target_class}. Step {i}, Loss: {loss.item()}\")\n",
    "    \n",
    "        optimized_latent_vectors.append(z)\n",
    "        \n",
    "    return optimized_latent_vectors"
   ]
  },
  {
   "cell_type": "code",
   "execution_count": 21,
   "id": "9ebc9533-23ca-4d44-8aea-9d134281b3a4",
   "metadata": {
    "scrolled": true
   },
   "outputs": [
    {
     "name": "stdout",
     "output_type": "stream",
     "text": [
      "Generating Image Number: 1 for target class tensor([0]). Step 0, Loss: 1.841015100479126\n",
      "Generating Image Number: 1 for target class tensor([0]). Step 50, Loss: 0.37439799308776855\n",
      "Generating Image Number: 1 for target class tensor([0]). Step 100, Loss: 0.14139768481254578\n",
      "Generating Image Number: 1 for target class tensor([0]). Step 150, Loss: 0.08822286128997803\n",
      "Generating Image Number: 1 for target class tensor([0]). Step 200, Loss: 0.06996402144432068\n",
      "Generating Image Number: 1 for target class tensor([0]). Step 250, Loss: 0.055364593863487244\n",
      "Generating Image Number: 1 for target class tensor([0]). Step 300, Loss: 0.04346365109086037\n",
      "Generating Image Number: 1 for target class tensor([0]). Step 350, Loss: 0.036818936467170715\n",
      "Generating Image Number: 1 for target class tensor([0]). Step 400, Loss: 0.0308302640914917\n",
      "Generating Image Number: 1 for target class tensor([0]). Step 450, Loss: 0.026700615882873535\n",
      "Generating Image Number: 2 for target class tensor([0]). Step 0, Loss: 1.7835805416107178\n",
      "Generating Image Number: 2 for target class tensor([0]). Step 50, Loss: 0.029355518519878387\n",
      "Generating Image Number: 2 for target class tensor([0]). Step 100, Loss: 0.01616009883582592\n",
      "Generating Image Number: 2 for target class tensor([0]). Step 150, Loss: 0.011815445497632027\n",
      "Generating Image Number: 2 for target class tensor([0]). Step 200, Loss: 0.009571258910000324\n",
      "Generating Image Number: 2 for target class tensor([0]). Step 250, Loss: 0.008260371163487434\n",
      "Generating Image Number: 2 for target class tensor([0]). Step 300, Loss: 0.006815401837229729\n",
      "Generating Image Number: 2 for target class tensor([0]). Step 350, Loss: 0.005699929315596819\n",
      "Generating Image Number: 2 for target class tensor([0]). Step 400, Loss: 0.004878878593444824\n",
      "Generating Image Number: 2 for target class tensor([0]). Step 450, Loss: 0.004302649293094873\n",
      "Generating Image Number: 3 for target class tensor([0]). Step 0, Loss: 0.8644164204597473\n",
      "Generating Image Number: 3 for target class tensor([0]). Step 50, Loss: 0.04796712100505829\n",
      "Generating Image Number: 3 for target class tensor([0]). Step 100, Loss: 0.017697401344776154\n",
      "Generating Image Number: 3 for target class tensor([0]). Step 150, Loss: 0.011480930261313915\n",
      "Generating Image Number: 3 for target class tensor([0]). Step 200, Loss: 0.00920646172016859\n",
      "Generating Image Number: 3 for target class tensor([0]). Step 250, Loss: 0.007849679328501225\n",
      "Generating Image Number: 3 for target class tensor([0]). Step 300, Loss: 0.006868206430226564\n",
      "Generating Image Number: 3 for target class tensor([0]). Step 350, Loss: 0.005989104975014925\n",
      "Generating Image Number: 3 for target class tensor([0]). Step 400, Loss: 0.005305851809680462\n",
      "Generating Image Number: 3 for target class tensor([0]). Step 450, Loss: 0.004863693844527006\n",
      "Generating Image Number: 4 for target class tensor([0]). Step 0, Loss: 2.9974827766418457\n",
      "Generating Image Number: 4 for target class tensor([0]). Step 50, Loss: 0.20248115062713623\n",
      "Generating Image Number: 4 for target class tensor([0]). Step 100, Loss: 0.10816607624292374\n",
      "Generating Image Number: 4 for target class tensor([0]). Step 150, Loss: 0.08429671823978424\n",
      "Generating Image Number: 4 for target class tensor([0]). Step 200, Loss: 0.0711093619465828\n",
      "Generating Image Number: 4 for target class tensor([0]). Step 250, Loss: 0.06152639165520668\n",
      "Generating Image Number: 4 for target class tensor([0]). Step 300, Loss: 0.04884256795048714\n",
      "Generating Image Number: 4 for target class tensor([0]). Step 350, Loss: 0.041033536195755005\n",
      "Generating Image Number: 4 for target class tensor([0]). Step 400, Loss: 0.033807359635829926\n",
      "Generating Image Number: 4 for target class tensor([0]). Step 450, Loss: 0.027378341183066368\n",
      "Generating Image Number: 5 for target class tensor([0]). Step 0, Loss: 0.33433106541633606\n",
      "Generating Image Number: 5 for target class tensor([0]). Step 50, Loss: 0.0368025042116642\n",
      "Generating Image Number: 5 for target class tensor([0]). Step 100, Loss: 0.017526745796203613\n",
      "Generating Image Number: 5 for target class tensor([0]). Step 150, Loss: 0.011743108741939068\n",
      "Generating Image Number: 5 for target class tensor([0]). Step 200, Loss: 0.008542543277144432\n",
      "Generating Image Number: 5 for target class tensor([0]). Step 250, Loss: 0.006309944204986095\n",
      "Generating Image Number: 5 for target class tensor([0]). Step 300, Loss: 0.005094760097563267\n",
      "Generating Image Number: 5 for target class tensor([0]). Step 350, Loss: 0.00435000890865922\n",
      "Generating Image Number: 5 for target class tensor([0]). Step 400, Loss: 0.003861709963530302\n",
      "Generating Image Number: 5 for target class tensor([0]). Step 450, Loss: 0.003540796460583806\n",
      "Generating Image Number: 6 for target class tensor([0]). Step 0, Loss: 3.251535415649414\n",
      "Generating Image Number: 6 for target class tensor([0]). Step 50, Loss: 0.0817490965127945\n",
      "Generating Image Number: 6 for target class tensor([0]). Step 100, Loss: 0.04125136137008667\n",
      "Generating Image Number: 6 for target class tensor([0]). Step 150, Loss: 0.029345331713557243\n",
      "Generating Image Number: 6 for target class tensor([0]). Step 200, Loss: 0.020798679441213608\n",
      "Generating Image Number: 6 for target class tensor([0]). Step 250, Loss: 0.017068982124328613\n",
      "Generating Image Number: 6 for target class tensor([0]). Step 300, Loss: 0.013871454633772373\n",
      "Generating Image Number: 6 for target class tensor([0]). Step 350, Loss: 0.011968114413321018\n",
      "Generating Image Number: 6 for target class tensor([0]). Step 400, Loss: 0.010446982458233833\n",
      "Generating Image Number: 6 for target class tensor([0]). Step 450, Loss: 0.009364253841340542\n",
      "Generating Image Number: 7 for target class tensor([0]). Step 0, Loss: 4.534553527832031\n",
      "Generating Image Number: 7 for target class tensor([0]). Step 50, Loss: 1.2031521797180176\n",
      "Generating Image Number: 7 for target class tensor([0]). Step 100, Loss: 0.6168782114982605\n",
      "Generating Image Number: 7 for target class tensor([0]). Step 150, Loss: 0.45689380168914795\n",
      "Generating Image Number: 7 for target class tensor([0]). Step 200, Loss: 0.3657745122909546\n",
      "Generating Image Number: 7 for target class tensor([0]). Step 250, Loss: 0.3061181306838989\n",
      "Generating Image Number: 7 for target class tensor([0]). Step 300, Loss: 0.2783260941505432\n",
      "Generating Image Number: 7 for target class tensor([0]). Step 350, Loss: 0.26279309391975403\n",
      "Generating Image Number: 7 for target class tensor([0]). Step 400, Loss: 0.247103750705719\n",
      "Generating Image Number: 7 for target class tensor([0]). Step 450, Loss: 0.23070745170116425\n",
      "Generating Image Number: 8 for target class tensor([0]). Step 0, Loss: 2.6961963176727295\n",
      "Generating Image Number: 8 for target class tensor([0]). Step 50, Loss: 0.022324442863464355\n",
      "Generating Image Number: 8 for target class tensor([0]). Step 100, Loss: 0.016111183911561966\n",
      "Generating Image Number: 8 for target class tensor([0]). Step 150, Loss: 0.012786074541509151\n",
      "Generating Image Number: 8 for target class tensor([0]). Step 200, Loss: 0.010331010445952415\n",
      "Generating Image Number: 8 for target class tensor([0]). Step 250, Loss: 0.008447155356407166\n",
      "Generating Image Number: 8 for target class tensor([0]). Step 300, Loss: 0.006318236701190472\n",
      "Generating Image Number: 8 for target class tensor([0]). Step 350, Loss: 0.005451930221170187\n",
      "Generating Image Number: 8 for target class tensor([0]). Step 400, Loss: 0.004794292151927948\n",
      "Generating Image Number: 8 for target class tensor([0]). Step 450, Loss: 0.004251726903021336\n",
      "Generating Image Number: 9 for target class tensor([0]). Step 0, Loss: 1.8344401121139526\n",
      "Generating Image Number: 9 for target class tensor([0]). Step 50, Loss: 0.0342947356402874\n",
      "Generating Image Number: 9 for target class tensor([0]). Step 100, Loss: 0.020987922325730324\n",
      "Generating Image Number: 9 for target class tensor([0]). Step 150, Loss: 0.01735934242606163\n",
      "Generating Image Number: 9 for target class tensor([0]). Step 200, Loss: 0.01493040844798088\n",
      "Generating Image Number: 9 for target class tensor([0]). Step 250, Loss: 0.013529511168599129\n",
      "Generating Image Number: 9 for target class tensor([0]). Step 300, Loss: 0.012354983016848564\n",
      "Generating Image Number: 9 for target class tensor([0]). Step 350, Loss: 0.011263711377978325\n",
      "Generating Image Number: 9 for target class tensor([0]). Step 400, Loss: 0.010242046788334846\n",
      "Generating Image Number: 9 for target class tensor([0]). Step 450, Loss: 0.00950088445097208\n",
      "Generating Image Number: 10 for target class tensor([0]). Step 0, Loss: 1.4949175119400024\n",
      "Generating Image Number: 10 for target class tensor([0]). Step 50, Loss: 0.06603412330150604\n",
      "Generating Image Number: 10 for target class tensor([0]). Step 100, Loss: 0.04356728494167328\n",
      "Generating Image Number: 10 for target class tensor([0]). Step 150, Loss: 0.034456219524145126\n",
      "Generating Image Number: 10 for target class tensor([0]). Step 200, Loss: 0.02779233828186989\n",
      "Generating Image Number: 10 for target class tensor([0]). Step 250, Loss: 0.022989995777606964\n",
      "Generating Image Number: 10 for target class tensor([0]). Step 300, Loss: 0.019840942695736885\n",
      "Generating Image Number: 10 for target class tensor([0]). Step 350, Loss: 0.017636733129620552\n",
      "Generating Image Number: 10 for target class tensor([0]). Step 400, Loss: 0.015935447067022324\n",
      "Generating Image Number: 10 for target class tensor([0]). Step 450, Loss: 0.014476506970822811\n",
      "Generating Image Number: 11 for target class tensor([0]). Step 0, Loss: 3.345052719116211\n",
      "Generating Image Number: 11 for target class tensor([0]). Step 50, Loss: 0.06504537910223007\n",
      "Generating Image Number: 11 for target class tensor([0]). Step 100, Loss: 0.03406018018722534\n",
      "Generating Image Number: 11 for target class tensor([0]). Step 150, Loss: 0.022391006350517273\n",
      "Generating Image Number: 11 for target class tensor([0]). Step 200, Loss: 0.017136014997959137\n",
      "Generating Image Number: 11 for target class tensor([0]). Step 250, Loss: 0.014398369938135147\n",
      "Generating Image Number: 11 for target class tensor([0]). Step 300, Loss: 0.012582560069859028\n",
      "Generating Image Number: 11 for target class tensor([0]). Step 350, Loss: 0.011119894683361053\n",
      "Generating Image Number: 11 for target class tensor([0]). Step 400, Loss: 0.009960117749869823\n",
      "Generating Image Number: 11 for target class tensor([0]). Step 450, Loss: 0.009047464467585087\n",
      "Generating Image Number: 12 for target class tensor([0]). Step 0, Loss: 3.628739595413208\n",
      "Generating Image Number: 12 for target class tensor([0]). Step 50, Loss: 0.6730585098266602\n",
      "Generating Image Number: 12 for target class tensor([0]). Step 100, Loss: 0.44371920824050903\n",
      "Generating Image Number: 12 for target class tensor([0]). Step 150, Loss: 0.3421597480773926\n",
      "Generating Image Number: 12 for target class tensor([0]). Step 200, Loss: 0.26712098717689514\n",
      "Generating Image Number: 12 for target class tensor([0]). Step 250, Loss: 0.22047236561775208\n",
      "Generating Image Number: 12 for target class tensor([0]). Step 300, Loss: 0.19185005128383636\n",
      "Generating Image Number: 12 for target class tensor([0]). Step 350, Loss: 0.1740727573633194\n",
      "Generating Image Number: 12 for target class tensor([0]). Step 400, Loss: 0.1574908196926117\n",
      "Generating Image Number: 12 for target class tensor([0]). Step 450, Loss: 0.14483274519443512\n",
      "Generating Image Number: 13 for target class tensor([0]). Step 0, Loss: 0.9126840829849243\n",
      "Generating Image Number: 13 for target class tensor([0]). Step 50, Loss: 0.054939404129981995\n",
      "Generating Image Number: 13 for target class tensor([0]). Step 100, Loss: 0.02114981785416603\n",
      "Generating Image Number: 13 for target class tensor([0]). Step 150, Loss: 0.013547269627451897\n",
      "Generating Image Number: 13 for target class tensor([0]). Step 200, Loss: 0.010047690942883492\n",
      "Generating Image Number: 13 for target class tensor([0]). Step 250, Loss: 0.008586392737925053\n",
      "Generating Image Number: 13 for target class tensor([0]). Step 300, Loss: 0.007497505750507116\n",
      "Generating Image Number: 13 for target class tensor([0]). Step 350, Loss: 0.006523503921926022\n",
      "Generating Image Number: 13 for target class tensor([0]). Step 400, Loss: 0.005648840684443712\n",
      "Generating Image Number: 13 for target class tensor([0]). Step 450, Loss: 0.004848509095609188\n",
      "Generating Image Number: 14 for target class tensor([0]). Step 0, Loss: 1.1864076852798462\n",
      "Generating Image Number: 14 for target class tensor([0]). Step 50, Loss: 0.036223117262125015\n",
      "Generating Image Number: 14 for target class tensor([0]). Step 100, Loss: 0.02166614681482315\n",
      "Generating Image Number: 14 for target class tensor([0]). Step 150, Loss: 0.01656457968056202\n",
      "Generating Image Number: 14 for target class tensor([0]). Step 200, Loss: 0.012613519094884396\n",
      "Generating Image Number: 14 for target class tensor([0]). Step 250, Loss: 0.00962840486317873\n",
      "Generating Image Number: 14 for target class tensor([0]). Step 300, Loss: 0.007996095344424248\n",
      "Generating Image Number: 14 for target class tensor([0]). Step 350, Loss: 0.006131647154688835\n",
      "Generating Image Number: 14 for target class tensor([0]). Step 400, Loss: 0.005053959786891937\n",
      "Generating Image Number: 14 for target class tensor([0]). Step 450, Loss: 0.004477238282561302\n",
      "Generating Image Number: 15 for target class tensor([0]). Step 0, Loss: 0.26507118344306946\n",
      "Generating Image Number: 15 for target class tensor([0]). Step 50, Loss: 0.028381381183862686\n",
      "Generating Image Number: 15 for target class tensor([0]). Step 100, Loss: 0.01997603103518486\n",
      "Generating Image Number: 15 for target class tensor([0]). Step 150, Loss: 0.017447439953684807\n",
      "Generating Image Number: 15 for target class tensor([0]). Step 200, Loss: 0.015468033961951733\n",
      "Generating Image Number: 15 for target class tensor([0]). Step 250, Loss: 0.013855583034455776\n",
      "Generating Image Number: 15 for target class tensor([0]). Step 300, Loss: 0.012308355420827866\n",
      "Generating Image Number: 15 for target class tensor([0]). Step 350, Loss: 0.011396664194762707\n",
      "Generating Image Number: 15 for target class tensor([0]). Step 400, Loss: 0.010599978268146515\n",
      "Generating Image Number: 15 for target class tensor([0]). Step 450, Loss: 0.008878043852746487\n",
      "Generating Image Number: 16 for target class tensor([0]). Step 0, Loss: 0.8764134645462036\n",
      "Generating Image Number: 16 for target class tensor([0]). Step 50, Loss: 0.10363495349884033\n",
      "Generating Image Number: 16 for target class tensor([0]). Step 100, Loss: 0.05137690529227257\n",
      "Generating Image Number: 16 for target class tensor([0]). Step 150, Loss: 0.03404588997364044\n",
      "Generating Image Number: 16 for target class tensor([0]). Step 200, Loss: 0.022617708891630173\n",
      "Generating Image Number: 16 for target class tensor([0]). Step 250, Loss: 0.016805266961455345\n",
      "Generating Image Number: 16 for target class tensor([0]). Step 300, Loss: 0.01275417860597372\n",
      "Generating Image Number: 16 for target class tensor([0]). Step 350, Loss: 0.01013265922665596\n",
      "Generating Image Number: 16 for target class tensor([0]). Step 400, Loss: 0.00831771083176136\n",
      "Generating Image Number: 16 for target class tensor([0]). Step 450, Loss: 0.006924796849489212\n",
      "Generating Image Number: 17 for target class tensor([0]). Step 0, Loss: 3.4383487701416016\n",
      "Generating Image Number: 17 for target class tensor([0]). Step 50, Loss: 0.19437915086746216\n",
      "Generating Image Number: 17 for target class tensor([0]). Step 100, Loss: 0.07682254165410995\n",
      "Generating Image Number: 17 for target class tensor([0]). Step 150, Loss: 0.05726879462599754\n",
      "Generating Image Number: 17 for target class tensor([0]). Step 200, Loss: 0.04908616840839386\n",
      "Generating Image Number: 17 for target class tensor([0]). Step 250, Loss: 0.04334219917654991\n",
      "Generating Image Number: 17 for target class tensor([0]). Step 300, Loss: 0.03953297808766365\n",
      "Generating Image Number: 17 for target class tensor([0]). Step 350, Loss: 0.03613412752747536\n",
      "Generating Image Number: 17 for target class tensor([0]). Step 400, Loss: 0.03337462991476059\n",
      "Generating Image Number: 17 for target class tensor([0]). Step 450, Loss: 0.03114161640405655\n",
      "Generating Image Number: 18 for target class tensor([0]). Step 0, Loss: 0.40230074524879456\n",
      "Generating Image Number: 18 for target class tensor([0]). Step 50, Loss: 0.021579934284090996\n",
      "Generating Image Number: 18 for target class tensor([0]). Step 100, Loss: 0.011706231161952019\n",
      "Generating Image Number: 18 for target class tensor([0]). Step 150, Loss: 0.008909590542316437\n",
      "Generating Image Number: 18 for target class tensor([0]). Step 200, Loss: 0.006508581340312958\n",
      "Generating Image Number: 18 for target class tensor([0]). Step 250, Loss: 0.004984215367585421\n",
      "Generating Image Number: 18 for target class tensor([0]). Step 300, Loss: 0.004047417547553778\n",
      "Generating Image Number: 18 for target class tensor([0]). Step 350, Loss: 0.003398478263989091\n",
      "Generating Image Number: 18 for target class tensor([0]). Step 400, Loss: 0.002944659674540162\n",
      "Generating Image Number: 18 for target class tensor([0]). Step 450, Loss: 0.0025993152521550655\n",
      "Generating Image Number: 19 for target class tensor([0]). Step 0, Loss: 1.1643221378326416\n",
      "Generating Image Number: 19 for target class tensor([0]). Step 50, Loss: 0.15097200870513916\n",
      "Generating Image Number: 19 for target class tensor([0]). Step 100, Loss: 0.10528599470853806\n",
      "Generating Image Number: 19 for target class tensor([0]). Step 150, Loss: 0.0818471908569336\n",
      "Generating Image Number: 19 for target class tensor([0]). Step 200, Loss: 0.06416153907775879\n",
      "Generating Image Number: 19 for target class tensor([0]). Step 250, Loss: 0.04900285601615906\n",
      "Generating Image Number: 19 for target class tensor([0]). Step 300, Loss: 0.037844352424144745\n",
      "Generating Image Number: 19 for target class tensor([0]). Step 350, Loss: 0.03177950158715248\n",
      "Generating Image Number: 19 for target class tensor([0]). Step 400, Loss: 0.0288731437176466\n",
      "Generating Image Number: 19 for target class tensor([0]). Step 450, Loss: 0.026949666440486908\n",
      "Generating Image Number: 20 for target class tensor([0]). Step 0, Loss: 4.269240379333496\n",
      "Generating Image Number: 20 for target class tensor([0]). Step 50, Loss: 0.6571754217147827\n",
      "Generating Image Number: 20 for target class tensor([0]). Step 100, Loss: 0.2887021601200104\n",
      "Generating Image Number: 20 for target class tensor([0]). Step 150, Loss: 0.13607384264469147\n",
      "Generating Image Number: 20 for target class tensor([0]). Step 200, Loss: 0.08771434426307678\n",
      "Generating Image Number: 20 for target class tensor([0]). Step 250, Loss: 0.06190856546163559\n",
      "Generating Image Number: 20 for target class tensor([0]). Step 300, Loss: 0.0512244738638401\n",
      "Generating Image Number: 20 for target class tensor([0]). Step 350, Loss: 0.045116957277059555\n",
      "Generating Image Number: 20 for target class tensor([0]). Step 400, Loss: 0.0402083657681942\n",
      "Generating Image Number: 20 for target class tensor([0]). Step 450, Loss: 0.0355321504175663\n"
     ]
    }
   ],
   "source": [
    "class0_optimized_latent_vectors = recover_images(img_count, 0, latent_vectors)"
   ]
  },
  {
   "cell_type": "code",
   "execution_count": 22,
   "id": "6718334c-2bb1-42a3-bd8c-6aea38e6b59c",
   "metadata": {
    "scrolled": true
   },
   "outputs": [
    {
     "name": "stdout",
     "output_type": "stream",
     "text": [
      "Generating Image Number: 1 for target class tensor([1]). Step 0, Loss: 1.5556334257125854\n",
      "Generating Image Number: 1 for target class tensor([1]). Step 50, Loss: 0.0864848867058754\n",
      "Generating Image Number: 1 for target class tensor([1]). Step 100, Loss: 0.03562153875827789\n",
      "Generating Image Number: 1 for target class tensor([1]). Step 150, Loss: 0.018467508256435394\n",
      "Generating Image Number: 1 for target class tensor([1]). Step 200, Loss: 0.009105821140110493\n",
      "Generating Image Number: 1 for target class tensor([1]). Step 250, Loss: 0.006055342499166727\n",
      "Generating Image Number: 1 for target class tensor([1]). Step 300, Loss: 0.0047149197198450565\n",
      "Generating Image Number: 1 for target class tensor([1]). Step 350, Loss: 0.0037852320820093155\n",
      "Generating Image Number: 1 for target class tensor([1]). Step 400, Loss: 0.003173674223944545\n",
      "Generating Image Number: 1 for target class tensor([1]). Step 450, Loss: 0.0025840960443019867\n",
      "Generating Image Number: 2 for target class tensor([1]). Step 0, Loss: 0.9464818239212036\n",
      "Generating Image Number: 2 for target class tensor([1]). Step 50, Loss: 0.2930029332637787\n",
      "Generating Image Number: 2 for target class tensor([1]). Step 100, Loss: 0.17602765560150146\n",
      "Generating Image Number: 2 for target class tensor([1]). Step 150, Loss: 0.12243808805942535\n",
      "Generating Image Number: 2 for target class tensor([1]). Step 200, Loss: 0.08975242078304291\n",
      "Generating Image Number: 2 for target class tensor([1]). Step 250, Loss: 0.07107249647378922\n",
      "Generating Image Number: 2 for target class tensor([1]). Step 300, Loss: 0.049622874706983566\n",
      "Generating Image Number: 2 for target class tensor([1]). Step 350, Loss: 0.023967649787664413\n",
      "Generating Image Number: 2 for target class tensor([1]). Step 400, Loss: 0.016040800139307976\n",
      "Generating Image Number: 2 for target class tensor([1]). Step 450, Loss: 0.012423744425177574\n",
      "Generating Image Number: 3 for target class tensor([1]). Step 0, Loss: 2.6143784523010254\n",
      "Generating Image Number: 3 for target class tensor([1]). Step 50, Loss: 0.33867591619491577\n",
      "Generating Image Number: 3 for target class tensor([1]). Step 100, Loss: 0.23207570612430573\n",
      "Generating Image Number: 3 for target class tensor([1]). Step 150, Loss: 0.17090898752212524\n",
      "Generating Image Number: 3 for target class tensor([1]). Step 200, Loss: 0.09067807346582413\n",
      "Generating Image Number: 3 for target class tensor([1]). Step 250, Loss: 0.03423955664038658\n",
      "Generating Image Number: 3 for target class tensor([1]). Step 300, Loss: 0.016551680862903595\n",
      "Generating Image Number: 3 for target class tensor([1]). Step 350, Loss: 0.012400549836456776\n",
      "Generating Image Number: 3 for target class tensor([1]). Step 400, Loss: 0.010220925323665142\n",
      "Generating Image Number: 3 for target class tensor([1]). Step 450, Loss: 0.008474932983517647\n",
      "Generating Image Number: 4 for target class tensor([1]). Step 0, Loss: 1.6917511224746704\n",
      "Generating Image Number: 4 for target class tensor([1]). Step 50, Loss: 0.06338780373334885\n",
      "Generating Image Number: 4 for target class tensor([1]). Step 100, Loss: 0.021752700209617615\n",
      "Generating Image Number: 4 for target class tensor([1]). Step 150, Loss: 0.014481324702501297\n",
      "Generating Image Number: 4 for target class tensor([1]). Step 200, Loss: 0.010227297432720661\n",
      "Generating Image Number: 4 for target class tensor([1]). Step 250, Loss: 0.007814786396920681\n",
      "Generating Image Number: 4 for target class tensor([1]). Step 300, Loss: 0.00645812600851059\n",
      "Generating Image Number: 4 for target class tensor([1]). Step 350, Loss: 0.005446950439363718\n",
      "Generating Image Number: 4 for target class tensor([1]). Step 400, Loss: 0.0046088420785963535\n",
      "Generating Image Number: 4 for target class tensor([1]). Step 450, Loss: 0.0039474437944591045\n",
      "Generating Image Number: 5 for target class tensor([1]). Step 0, Loss: 2.7771406173706055\n",
      "Generating Image Number: 5 for target class tensor([1]). Step 50, Loss: 0.26120465993881226\n",
      "Generating Image Number: 5 for target class tensor([1]). Step 100, Loss: 0.15057851374149323\n",
      "Generating Image Number: 5 for target class tensor([1]). Step 150, Loss: 0.1099311038851738\n",
      "Generating Image Number: 5 for target class tensor([1]). Step 200, Loss: 0.0883525162935257\n",
      "Generating Image Number: 5 for target class tensor([1]). Step 250, Loss: 0.07636485993862152\n",
      "Generating Image Number: 5 for target class tensor([1]). Step 300, Loss: 0.06884229183197021\n",
      "Generating Image Number: 5 for target class tensor([1]). Step 350, Loss: 0.06243642047047615\n",
      "Generating Image Number: 5 for target class tensor([1]). Step 400, Loss: 0.056862883269786835\n",
      "Generating Image Number: 5 for target class tensor([1]). Step 450, Loss: 0.04977339506149292\n",
      "Generating Image Number: 6 for target class tensor([1]). Step 0, Loss: 0.275248259305954\n",
      "Generating Image Number: 6 for target class tensor([1]). Step 50, Loss: 0.008828298188745975\n",
      "Generating Image Number: 6 for target class tensor([1]). Step 100, Loss: 0.0030749202705919743\n",
      "Generating Image Number: 6 for target class tensor([1]). Step 150, Loss: 0.0016069606645032763\n",
      "Generating Image Number: 6 for target class tensor([1]). Step 200, Loss: 0.0011744751827791333\n",
      "Generating Image Number: 6 for target class tensor([1]). Step 250, Loss: 0.0009494088008068502\n",
      "Generating Image Number: 6 for target class tensor([1]). Step 300, Loss: 0.0007721779984422028\n",
      "Generating Image Number: 6 for target class tensor([1]). Step 350, Loss: 0.0005799042410217226\n",
      "Generating Image Number: 6 for target class tensor([1]). Step 400, Loss: 0.00044312194222584367\n",
      "Generating Image Number: 6 for target class tensor([1]). Step 450, Loss: 0.00034624303225427866\n",
      "Generating Image Number: 7 for target class tensor([1]). Step 0, Loss: 2.0353097915649414\n",
      "Generating Image Number: 7 for target class tensor([1]). Step 50, Loss: 0.11506359279155731\n",
      "Generating Image Number: 7 for target class tensor([1]). Step 100, Loss: 0.041438259184360504\n",
      "Generating Image Number: 7 for target class tensor([1]). Step 150, Loss: 0.02961432747542858\n",
      "Generating Image Number: 7 for target class tensor([1]). Step 200, Loss: 0.023111380636692047\n",
      "Generating Image Number: 7 for target class tensor([1]). Step 250, Loss: 0.01844632625579834\n",
      "Generating Image Number: 7 for target class tensor([1]). Step 300, Loss: 0.015397721901535988\n",
      "Generating Image Number: 7 for target class tensor([1]). Step 350, Loss: 0.01319380383938551\n",
      "Generating Image Number: 7 for target class tensor([1]). Step 400, Loss: 0.011532428674399853\n",
      "Generating Image Number: 7 for target class tensor([1]). Step 450, Loss: 0.010159211233258247\n",
      "Generating Image Number: 8 for target class tensor([1]). Step 0, Loss: 2.0674562454223633\n",
      "Generating Image Number: 8 for target class tensor([1]). Step 50, Loss: 0.3616076707839966\n",
      "Generating Image Number: 8 for target class tensor([1]). Step 100, Loss: 0.1291917860507965\n",
      "Generating Image Number: 8 for target class tensor([1]). Step 150, Loss: 0.07002715021371841\n",
      "Generating Image Number: 8 for target class tensor([1]). Step 200, Loss: 0.0523044690489769\n",
      "Generating Image Number: 8 for target class tensor([1]). Step 250, Loss: 0.04379288852214813\n",
      "Generating Image Number: 8 for target class tensor([1]). Step 300, Loss: 0.03707030788064003\n",
      "Generating Image Number: 8 for target class tensor([1]). Step 350, Loss: 0.03098907321691513\n",
      "Generating Image Number: 8 for target class tensor([1]). Step 400, Loss: 0.026100361719727516\n",
      "Generating Image Number: 8 for target class tensor([1]). Step 450, Loss: 0.02306455187499523\n",
      "Generating Image Number: 9 for target class tensor([1]). Step 0, Loss: 3.104403018951416\n",
      "Generating Image Number: 9 for target class tensor([1]). Step 50, Loss: 0.30609142780303955\n",
      "Generating Image Number: 9 for target class tensor([1]). Step 100, Loss: 0.1106908991932869\n",
      "Generating Image Number: 9 for target class tensor([1]). Step 150, Loss: 0.07556082308292389\n",
      "Generating Image Number: 9 for target class tensor([1]). Step 200, Loss: 0.053787581622600555\n",
      "Generating Image Number: 9 for target class tensor([1]). Step 250, Loss: 0.04259239137172699\n",
      "Generating Image Number: 9 for target class tensor([1]). Step 300, Loss: 0.03407584875822067\n",
      "Generating Image Number: 9 for target class tensor([1]). Step 350, Loss: 0.02753908932209015\n",
      "Generating Image Number: 9 for target class tensor([1]). Step 400, Loss: 0.01991398073732853\n",
      "Generating Image Number: 9 for target class tensor([1]). Step 450, Loss: 0.01261858083307743\n",
      "Generating Image Number: 10 for target class tensor([1]). Step 0, Loss: 3.3061516284942627\n",
      "Generating Image Number: 10 for target class tensor([1]). Step 50, Loss: 0.784320592880249\n",
      "Generating Image Number: 10 for target class tensor([1]). Step 100, Loss: 0.06616166979074478\n",
      "Generating Image Number: 10 for target class tensor([1]). Step 150, Loss: 0.023350032046437263\n",
      "Generating Image Number: 10 for target class tensor([1]). Step 200, Loss: 0.014906802214682102\n",
      "Generating Image Number: 10 for target class tensor([1]). Step 250, Loss: 0.011475509032607079\n",
      "Generating Image Number: 10 for target class tensor([1]). Step 300, Loss: 0.009434165433049202\n",
      "Generating Image Number: 10 for target class tensor([1]). Step 350, Loss: 0.00798580702394247\n",
      "Generating Image Number: 10 for target class tensor([1]). Step 400, Loss: 0.006791484542191029\n",
      "Generating Image Number: 10 for target class tensor([1]). Step 450, Loss: 0.004998212214559317\n",
      "Generating Image Number: 11 for target class tensor([1]). Step 0, Loss: 2.735537528991699\n",
      "Generating Image Number: 11 for target class tensor([1]). Step 50, Loss: 0.04931892827153206\n",
      "Generating Image Number: 11 for target class tensor([1]). Step 100, Loss: 0.023336056619882584\n",
      "Generating Image Number: 11 for target class tensor([1]). Step 150, Loss: 0.018070822581648827\n",
      "Generating Image Number: 11 for target class tensor([1]). Step 200, Loss: 0.014894705265760422\n",
      "Generating Image Number: 11 for target class tensor([1]). Step 250, Loss: 0.012378061190247536\n",
      "Generating Image Number: 11 for target class tensor([1]). Step 300, Loss: 0.009814225137233734\n",
      "Generating Image Number: 11 for target class tensor([1]). Step 350, Loss: 0.00775647209957242\n",
      "Generating Image Number: 11 for target class tensor([1]). Step 400, Loss: 0.006350101437419653\n",
      "Generating Image Number: 11 for target class tensor([1]). Step 450, Loss: 0.005349013488739729\n",
      "Generating Image Number: 12 for target class tensor([1]). Step 0, Loss: 2.1716604232788086\n",
      "Generating Image Number: 12 for target class tensor([1]). Step 50, Loss: 0.33013811707496643\n",
      "Generating Image Number: 12 for target class tensor([1]). Step 100, Loss: 0.09542420506477356\n",
      "Generating Image Number: 12 for target class tensor([1]). Step 150, Loss: 0.06627257168292999\n",
      "Generating Image Number: 12 for target class tensor([1]). Step 200, Loss: 0.052002355456352234\n",
      "Generating Image Number: 12 for target class tensor([1]). Step 250, Loss: 0.042784977704286575\n",
      "Generating Image Number: 12 for target class tensor([1]). Step 300, Loss: 0.03661784157156944\n",
      "Generating Image Number: 12 for target class tensor([1]). Step 350, Loss: 0.032828669995069504\n",
      "Generating Image Number: 12 for target class tensor([1]). Step 400, Loss: 0.02972634695470333\n",
      "Generating Image Number: 12 for target class tensor([1]). Step 450, Loss: 0.025982124730944633\n",
      "Generating Image Number: 13 for target class tensor([1]). Step 0, Loss: 0.3050645589828491\n",
      "Generating Image Number: 13 for target class tensor([1]). Step 50, Loss: 0.004430240951478481\n",
      "Generating Image Number: 13 for target class tensor([1]). Step 100, Loss: 0.0021578615996986628\n",
      "Generating Image Number: 13 for target class tensor([1]). Step 150, Loss: 0.0014921018155291677\n",
      "Generating Image Number: 13 for target class tensor([1]). Step 200, Loss: 0.0011304186191409826\n",
      "Generating Image Number: 13 for target class tensor([1]). Step 250, Loss: 0.0009054613183252513\n",
      "Generating Image Number: 13 for target class tensor([1]). Step 300, Loss: 0.0007532381569035351\n",
      "Generating Image Number: 13 for target class tensor([1]). Step 350, Loss: 0.0006343498243950307\n",
      "Generating Image Number: 13 for target class tensor([1]). Step 400, Loss: 0.000562271336093545\n",
      "Generating Image Number: 13 for target class tensor([1]). Step 450, Loss: 0.0005129451747052372\n",
      "Generating Image Number: 14 for target class tensor([1]). Step 0, Loss: 2.8771324157714844\n",
      "Generating Image Number: 14 for target class tensor([1]). Step 50, Loss: 0.19630134105682373\n",
      "Generating Image Number: 14 for target class tensor([1]). Step 100, Loss: 0.08305712789297104\n",
      "Generating Image Number: 14 for target class tensor([1]). Step 150, Loss: 0.044962313026189804\n",
      "Generating Image Number: 14 for target class tensor([1]). Step 200, Loss: 0.035049520432949066\n",
      "Generating Image Number: 14 for target class tensor([1]). Step 250, Loss: 0.028670096769928932\n",
      "Generating Image Number: 14 for target class tensor([1]). Step 300, Loss: 0.023725304752588272\n",
      "Generating Image Number: 14 for target class tensor([1]). Step 350, Loss: 0.020367173478007317\n",
      "Generating Image Number: 14 for target class tensor([1]). Step 400, Loss: 0.018356677144765854\n",
      "Generating Image Number: 14 for target class tensor([1]). Step 450, Loss: 0.016134293749928474\n",
      "Generating Image Number: 15 for target class tensor([1]). Step 0, Loss: 1.352924108505249\n",
      "Generating Image Number: 15 for target class tensor([1]). Step 50, Loss: 0.20038428902626038\n",
      "Generating Image Number: 15 for target class tensor([1]). Step 100, Loss: 0.1148926168680191\n",
      "Generating Image Number: 15 for target class tensor([1]). Step 150, Loss: 0.07987018674612045\n",
      "Generating Image Number: 15 for target class tensor([1]). Step 200, Loss: 0.06424248218536377\n",
      "Generating Image Number: 15 for target class tensor([1]). Step 250, Loss: 0.053340695798397064\n",
      "Generating Image Number: 15 for target class tensor([1]). Step 300, Loss: 0.04515638202428818\n",
      "Generating Image Number: 15 for target class tensor([1]). Step 350, Loss: 0.03915247321128845\n",
      "Generating Image Number: 15 for target class tensor([1]). Step 400, Loss: 0.03258707746863365\n",
      "Generating Image Number: 15 for target class tensor([1]). Step 450, Loss: 0.02774515002965927\n",
      "Generating Image Number: 16 for target class tensor([1]). Step 0, Loss: 1.650298833847046\n",
      "Generating Image Number: 16 for target class tensor([1]). Step 50, Loss: 0.2771364748477936\n",
      "Generating Image Number: 16 for target class tensor([1]). Step 100, Loss: 0.14907951653003693\n",
      "Generating Image Number: 16 for target class tensor([1]). Step 150, Loss: 0.11626533418893814\n",
      "Generating Image Number: 16 for target class tensor([1]). Step 200, Loss: 0.09774409234523773\n",
      "Generating Image Number: 16 for target class tensor([1]). Step 250, Loss: 0.0774618536233902\n",
      "Generating Image Number: 16 for target class tensor([1]). Step 300, Loss: 0.06436622887849808\n",
      "Generating Image Number: 16 for target class tensor([1]). Step 350, Loss: 0.049094680696725845\n",
      "Generating Image Number: 16 for target class tensor([1]). Step 400, Loss: 0.036268528550863266\n",
      "Generating Image Number: 16 for target class tensor([1]). Step 450, Loss: 0.02897656336426735\n",
      "Generating Image Number: 17 for target class tensor([1]). Step 0, Loss: 2.011873483657837\n",
      "Generating Image Number: 17 for target class tensor([1]). Step 50, Loss: 0.00017951308109331876\n",
      "Generating Image Number: 17 for target class tensor([1]). Step 100, Loss: 0.00015710550360381603\n",
      "Generating Image Number: 17 for target class tensor([1]). Step 150, Loss: 0.0001515035255579278\n",
      "Generating Image Number: 17 for target class tensor([1]). Step 200, Loss: 0.00014506718434859067\n",
      "Generating Image Number: 17 for target class tensor([1]). Step 250, Loss: 0.00013839241000823677\n",
      "Generating Image Number: 17 for target class tensor([1]). Step 300, Loss: 0.00013183678674977273\n",
      "Generating Image Number: 17 for target class tensor([1]). Step 350, Loss: 0.00012611546844709665\n",
      "Generating Image Number: 17 for target class tensor([1]). Step 400, Loss: 0.00012063252506777644\n",
      "Generating Image Number: 17 for target class tensor([1]). Step 450, Loss: 0.00011526874004630372\n",
      "Generating Image Number: 18 for target class tensor([1]). Step 0, Loss: 2.734102964401245\n",
      "Generating Image Number: 18 for target class tensor([1]). Step 50, Loss: 0.09098929911851883\n",
      "Generating Image Number: 18 for target class tensor([1]). Step 100, Loss: 0.041827041655778885\n",
      "Generating Image Number: 18 for target class tensor([1]). Step 150, Loss: 0.030668308958411217\n",
      "Generating Image Number: 18 for target class tensor([1]). Step 200, Loss: 0.020722901448607445\n",
      "Generating Image Number: 18 for target class tensor([1]). Step 250, Loss: 0.013714607805013657\n",
      "Generating Image Number: 18 for target class tensor([1]). Step 300, Loss: 0.010231662541627884\n",
      "Generating Image Number: 18 for target class tensor([1]). Step 350, Loss: 0.008272194303572178\n",
      "Generating Image Number: 18 for target class tensor([1]). Step 400, Loss: 0.006686574779450893\n",
      "Generating Image Number: 18 for target class tensor([1]). Step 450, Loss: 0.00563402334228158\n",
      "Generating Image Number: 19 for target class tensor([1]). Step 0, Loss: 1.3094987869262695\n",
      "Generating Image Number: 19 for target class tensor([1]). Step 50, Loss: 0.020002907142043114\n",
      "Generating Image Number: 19 for target class tensor([1]). Step 100, Loss: 0.010216087102890015\n",
      "Generating Image Number: 19 for target class tensor([1]). Step 150, Loss: 0.007695670239627361\n",
      "Generating Image Number: 19 for target class tensor([1]). Step 200, Loss: 0.006468667648732662\n",
      "Generating Image Number: 19 for target class tensor([1]). Step 250, Loss: 0.005646588280797005\n",
      "Generating Image Number: 19 for target class tensor([1]). Step 300, Loss: 0.005009362008422613\n",
      "Generating Image Number: 19 for target class tensor([1]). Step 350, Loss: 0.0044964635744690895\n",
      "Generating Image Number: 19 for target class tensor([1]). Step 400, Loss: 0.004064751323312521\n",
      "Generating Image Number: 19 for target class tensor([1]). Step 450, Loss: 0.0036791746970266104\n",
      "Generating Image Number: 20 for target class tensor([1]). Step 0, Loss: 3.5571389198303223\n",
      "Generating Image Number: 20 for target class tensor([1]). Step 50, Loss: 0.3281307518482208\n",
      "Generating Image Number: 20 for target class tensor([1]). Step 100, Loss: 0.02068997360765934\n",
      "Generating Image Number: 20 for target class tensor([1]). Step 150, Loss: 0.008269593119621277\n",
      "Generating Image Number: 20 for target class tensor([1]). Step 200, Loss: 0.005395018961280584\n",
      "Generating Image Number: 20 for target class tensor([1]). Step 250, Loss: 0.003941506613045931\n",
      "Generating Image Number: 20 for target class tensor([1]). Step 300, Loss: 0.003084308933466673\n",
      "Generating Image Number: 20 for target class tensor([1]). Step 350, Loss: 0.002602525521069765\n",
      "Generating Image Number: 20 for target class tensor([1]). Step 400, Loss: 0.002257182030007243\n",
      "Generating Image Number: 20 for target class tensor([1]). Step 450, Loss: 0.0020041633397340775\n"
     ]
    }
   ],
   "source": [
    "torch.manual_seed(100)\n",
    "latent_vectors = torch.randn(img_count, z_dim, 1, 1, requires_grad=True) # Start with 20 random noises\n",
    "class1_optimized_latent_vectors = recover_images(img_count, 1, latent_vectors)"
   ]
  },
  {
   "cell_type": "code",
   "execution_count": 23,
   "id": "1c8af686-b1ff-419d-946d-2447773e47c9",
   "metadata": {
    "scrolled": true
   },
   "outputs": [
    {
     "name": "stdout",
     "output_type": "stream",
     "text": [
      "Generating Image Number: 1 for target class tensor([2]). Step 0, Loss: 1.8476247787475586\n",
      "Generating Image Number: 1 for target class tensor([2]). Step 50, Loss: 0.18982195854187012\n",
      "Generating Image Number: 1 for target class tensor([2]). Step 100, Loss: 0.12940579652786255\n",
      "Generating Image Number: 1 for target class tensor([2]). Step 150, Loss: 0.10174915939569473\n",
      "Generating Image Number: 1 for target class tensor([2]). Step 200, Loss: 0.08302509039640427\n",
      "Generating Image Number: 1 for target class tensor([2]). Step 250, Loss: 0.06309002637863159\n",
      "Generating Image Number: 1 for target class tensor([2]). Step 300, Loss: 0.05086074024438858\n",
      "Generating Image Number: 1 for target class tensor([2]). Step 350, Loss: 0.044135820120573044\n",
      "Generating Image Number: 1 for target class tensor([2]). Step 400, Loss: 0.03866482153534889\n",
      "Generating Image Number: 1 for target class tensor([2]). Step 450, Loss: 0.0345841646194458\n",
      "Generating Image Number: 2 for target class tensor([2]). Step 0, Loss: 2.362234592437744\n",
      "Generating Image Number: 2 for target class tensor([2]). Step 50, Loss: 0.4297792315483093\n",
      "Generating Image Number: 2 for target class tensor([2]). Step 100, Loss: 0.21853289008140564\n",
      "Generating Image Number: 2 for target class tensor([2]). Step 150, Loss: 0.16920830309391022\n",
      "Generating Image Number: 2 for target class tensor([2]). Step 200, Loss: 0.1353330910205841\n",
      "Generating Image Number: 2 for target class tensor([2]). Step 250, Loss: 0.11223626136779785\n",
      "Generating Image Number: 2 for target class tensor([2]). Step 300, Loss: 0.09904886782169342\n",
      "Generating Image Number: 2 for target class tensor([2]). Step 350, Loss: 0.09106134623289108\n",
      "Generating Image Number: 2 for target class tensor([2]). Step 400, Loss: 0.08517411351203918\n",
      "Generating Image Number: 2 for target class tensor([2]). Step 450, Loss: 0.08044232428073883\n",
      "Generating Image Number: 3 for target class tensor([2]). Step 0, Loss: 0.9599130749702454\n",
      "Generating Image Number: 3 for target class tensor([2]). Step 50, Loss: 0.015026237815618515\n",
      "Generating Image Number: 3 for target class tensor([2]). Step 100, Loss: 0.0074665057472884655\n",
      "Generating Image Number: 3 for target class tensor([2]). Step 150, Loss: 0.005151332356035709\n",
      "Generating Image Number: 3 for target class tensor([2]). Step 200, Loss: 0.0036402170080691576\n",
      "Generating Image Number: 3 for target class tensor([2]). Step 250, Loss: 0.002812598831951618\n",
      "Generating Image Number: 3 for target class tensor([2]). Step 300, Loss: 0.0023928838782012463\n",
      "Generating Image Number: 3 for target class tensor([2]). Step 350, Loss: 0.0020996923558413982\n",
      "Generating Image Number: 3 for target class tensor([2]). Step 400, Loss: 0.0018521074671298265\n",
      "Generating Image Number: 3 for target class tensor([2]). Step 450, Loss: 0.001668134005740285\n",
      "Generating Image Number: 4 for target class tensor([2]). Step 0, Loss: 1.3940045833587646\n",
      "Generating Image Number: 4 for target class tensor([2]). Step 50, Loss: 0.19283336400985718\n",
      "Generating Image Number: 4 for target class tensor([2]). Step 100, Loss: 0.10885612666606903\n",
      "Generating Image Number: 4 for target class tensor([2]). Step 150, Loss: 0.07331059873104095\n",
      "Generating Image Number: 4 for target class tensor([2]). Step 200, Loss: 0.05476516857743263\n",
      "Generating Image Number: 4 for target class tensor([2]). Step 250, Loss: 0.041400060057640076\n",
      "Generating Image Number: 4 for target class tensor([2]). Step 300, Loss: 0.033473435789346695\n",
      "Generating Image Number: 4 for target class tensor([2]). Step 350, Loss: 0.027973191812634468\n",
      "Generating Image Number: 4 for target class tensor([2]). Step 400, Loss: 0.02437957189977169\n",
      "Generating Image Number: 4 for target class tensor([2]). Step 450, Loss: 0.02207551896572113\n",
      "Generating Image Number: 5 for target class tensor([2]). Step 0, Loss: 2.4193904399871826\n",
      "Generating Image Number: 5 for target class tensor([2]). Step 50, Loss: 0.15572082996368408\n",
      "Generating Image Number: 5 for target class tensor([2]). Step 100, Loss: 0.08838579803705215\n",
      "Generating Image Number: 5 for target class tensor([2]). Step 150, Loss: 0.04659914970397949\n",
      "Generating Image Number: 5 for target class tensor([2]). Step 200, Loss: 0.03143473342061043\n",
      "Generating Image Number: 5 for target class tensor([2]). Step 250, Loss: 0.024515097960829735\n",
      "Generating Image Number: 5 for target class tensor([2]). Step 300, Loss: 0.020792607218027115\n",
      "Generating Image Number: 5 for target class tensor([2]). Step 350, Loss: 0.018607113510370255\n",
      "Generating Image Number: 5 for target class tensor([2]). Step 400, Loss: 0.01676669903099537\n",
      "Generating Image Number: 5 for target class tensor([2]). Step 450, Loss: 0.015320946462452412\n",
      "Generating Image Number: 6 for target class tensor([2]). Step 0, Loss: 1.0392699241638184\n",
      "Generating Image Number: 6 for target class tensor([2]). Step 50, Loss: 0.09108180552721024\n",
      "Generating Image Number: 6 for target class tensor([2]). Step 100, Loss: 0.057216446846723557\n",
      "Generating Image Number: 6 for target class tensor([2]). Step 150, Loss: 0.03821881487965584\n",
      "Generating Image Number: 6 for target class tensor([2]). Step 200, Loss: 0.0241041611880064\n",
      "Generating Image Number: 6 for target class tensor([2]). Step 250, Loss: 0.018136030063033104\n",
      "Generating Image Number: 6 for target class tensor([2]). Step 300, Loss: 0.01591550186276436\n",
      "Generating Image Number: 6 for target class tensor([2]). Step 350, Loss: 0.014315289445221424\n",
      "Generating Image Number: 6 for target class tensor([2]). Step 400, Loss: 0.01311003603041172\n",
      "Generating Image Number: 6 for target class tensor([2]). Step 450, Loss: 0.012243707664310932\n",
      "Generating Image Number: 7 for target class tensor([2]). Step 0, Loss: 2.6496598720550537\n",
      "Generating Image Number: 7 for target class tensor([2]). Step 50, Loss: 0.2872787117958069\n",
      "Generating Image Number: 7 for target class tensor([2]). Step 100, Loss: 0.10655086487531662\n",
      "Generating Image Number: 7 for target class tensor([2]). Step 150, Loss: 0.06278600543737411\n",
      "Generating Image Number: 7 for target class tensor([2]). Step 200, Loss: 0.041184552013874054\n",
      "Generating Image Number: 7 for target class tensor([2]). Step 250, Loss: 0.034568849951028824\n",
      "Generating Image Number: 7 for target class tensor([2]). Step 300, Loss: 0.02902890555560589\n",
      "Generating Image Number: 7 for target class tensor([2]). Step 350, Loss: 0.025758972391486168\n",
      "Generating Image Number: 7 for target class tensor([2]). Step 400, Loss: 0.023278988897800446\n",
      "Generating Image Number: 7 for target class tensor([2]). Step 450, Loss: 0.02135731466114521\n",
      "Generating Image Number: 8 for target class tensor([2]). Step 0, Loss: 3.0888173580169678\n",
      "Generating Image Number: 8 for target class tensor([2]). Step 50, Loss: 0.15756577253341675\n",
      "Generating Image Number: 8 for target class tensor([2]). Step 100, Loss: 0.08097115159034729\n",
      "Generating Image Number: 8 for target class tensor([2]). Step 150, Loss: 0.06081399321556091\n",
      "Generating Image Number: 8 for target class tensor([2]). Step 200, Loss: 0.04893054813146591\n",
      "Generating Image Number: 8 for target class tensor([2]). Step 250, Loss: 0.03824612498283386\n",
      "Generating Image Number: 8 for target class tensor([2]). Step 300, Loss: 0.03365291655063629\n",
      "Generating Image Number: 8 for target class tensor([2]). Step 350, Loss: 0.03076784312725067\n",
      "Generating Image Number: 8 for target class tensor([2]). Step 400, Loss: 0.028207672759890556\n",
      "Generating Image Number: 8 for target class tensor([2]). Step 450, Loss: 0.02584923803806305\n",
      "Generating Image Number: 9 for target class tensor([2]). Step 0, Loss: 1.4951939582824707\n",
      "Generating Image Number: 9 for target class tensor([2]). Step 50, Loss: 0.0959029272198677\n",
      "Generating Image Number: 9 for target class tensor([2]). Step 100, Loss: 0.053521282970905304\n",
      "Generating Image Number: 9 for target class tensor([2]). Step 150, Loss: 0.031931810081005096\n",
      "Generating Image Number: 9 for target class tensor([2]). Step 200, Loss: 0.01815394125878811\n",
      "Generating Image Number: 9 for target class tensor([2]). Step 250, Loss: 0.013843473978340626\n",
      "Generating Image Number: 9 for target class tensor([2]). Step 300, Loss: 0.011229409836232662\n",
      "Generating Image Number: 9 for target class tensor([2]). Step 350, Loss: 0.009431567043066025\n",
      "Generating Image Number: 9 for target class tensor([2]). Step 400, Loss: 0.008150885812938213\n",
      "Generating Image Number: 9 for target class tensor([2]). Step 450, Loss: 0.007328413892537355\n",
      "Generating Image Number: 10 for target class tensor([2]). Step 0, Loss: 2.822222948074341\n",
      "Generating Image Number: 10 for target class tensor([2]). Step 50, Loss: 0.1943439096212387\n",
      "Generating Image Number: 10 for target class tensor([2]). Step 100, Loss: 0.11240354180335999\n",
      "Generating Image Number: 10 for target class tensor([2]). Step 150, Loss: 0.09452646970748901\n",
      "Generating Image Number: 10 for target class tensor([2]). Step 200, Loss: 0.08349333703517914\n",
      "Generating Image Number: 10 for target class tensor([2]). Step 250, Loss: 0.074004627764225\n",
      "Generating Image Number: 10 for target class tensor([2]). Step 300, Loss: 0.06692691147327423\n",
      "Generating Image Number: 10 for target class tensor([2]). Step 350, Loss: 0.061493098735809326\n",
      "Generating Image Number: 10 for target class tensor([2]). Step 400, Loss: 0.05646627023816109\n",
      "Generating Image Number: 10 for target class tensor([2]). Step 450, Loss: 0.051402270793914795\n",
      "Generating Image Number: 11 for target class tensor([2]). Step 0, Loss: 1.0819921493530273\n",
      "Generating Image Number: 11 for target class tensor([2]). Step 50, Loss: 0.031390026211738586\n",
      "Generating Image Number: 11 for target class tensor([2]). Step 100, Loss: 0.016182737424969673\n",
      "Generating Image Number: 11 for target class tensor([2]). Step 150, Loss: 0.011664756573736668\n",
      "Generating Image Number: 11 for target class tensor([2]). Step 200, Loss: 0.009612701833248138\n",
      "Generating Image Number: 11 for target class tensor([2]). Step 250, Loss: 0.008448928594589233\n",
      "Generating Image Number: 11 for target class tensor([2]). Step 300, Loss: 0.007713414262980223\n",
      "Generating Image Number: 11 for target class tensor([2]). Step 350, Loss: 0.007125560659915209\n",
      "Generating Image Number: 11 for target class tensor([2]). Step 400, Loss: 0.006597640924155712\n",
      "Generating Image Number: 11 for target class tensor([2]). Step 450, Loss: 0.006080580409616232\n",
      "Generating Image Number: 12 for target class tensor([2]). Step 0, Loss: 2.6098697185516357\n",
      "Generating Image Number: 12 for target class tensor([2]). Step 50, Loss: 0.22122760117053986\n",
      "Generating Image Number: 12 for target class tensor([2]). Step 100, Loss: 0.08406165987253189\n",
      "Generating Image Number: 12 for target class tensor([2]). Step 150, Loss: 0.04513029009103775\n",
      "Generating Image Number: 12 for target class tensor([2]). Step 200, Loss: 0.02910139225423336\n",
      "Generating Image Number: 12 for target class tensor([2]). Step 250, Loss: 0.02247784659266472\n",
      "Generating Image Number: 12 for target class tensor([2]). Step 300, Loss: 0.01884496957063675\n",
      "Generating Image Number: 12 for target class tensor([2]). Step 350, Loss: 0.016224142163991928\n",
      "Generating Image Number: 12 for target class tensor([2]). Step 400, Loss: 0.014066597446799278\n",
      "Generating Image Number: 12 for target class tensor([2]). Step 450, Loss: 0.012511925771832466\n",
      "Generating Image Number: 13 for target class tensor([2]). Step 0, Loss: 3.245084524154663\n",
      "Generating Image Number: 13 for target class tensor([2]). Step 50, Loss: 0.18327809870243073\n",
      "Generating Image Number: 13 for target class tensor([2]). Step 100, Loss: 0.07700302451848984\n",
      "Generating Image Number: 13 for target class tensor([2]). Step 150, Loss: 0.05593423917889595\n",
      "Generating Image Number: 13 for target class tensor([2]). Step 200, Loss: 0.045762959867715836\n",
      "Generating Image Number: 13 for target class tensor([2]). Step 250, Loss: 0.03954626992344856\n",
      "Generating Image Number: 13 for target class tensor([2]). Step 300, Loss: 0.034560441970825195\n",
      "Generating Image Number: 13 for target class tensor([2]). Step 350, Loss: 0.030329056084156036\n",
      "Generating Image Number: 13 for target class tensor([2]). Step 400, Loss: 0.026213938370347023\n",
      "Generating Image Number: 13 for target class tensor([2]). Step 450, Loss: 0.02353157289326191\n",
      "Generating Image Number: 14 for target class tensor([2]). Step 0, Loss: 2.8418760299682617\n",
      "Generating Image Number: 14 for target class tensor([2]). Step 50, Loss: 0.26145434379577637\n",
      "Generating Image Number: 14 for target class tensor([2]). Step 100, Loss: 0.14691907167434692\n",
      "Generating Image Number: 14 for target class tensor([2]). Step 150, Loss: 0.09348691254854202\n",
      "Generating Image Number: 14 for target class tensor([2]). Step 200, Loss: 0.06998680531978607\n",
      "Generating Image Number: 14 for target class tensor([2]). Step 250, Loss: 0.05532082915306091\n",
      "Generating Image Number: 14 for target class tensor([2]). Step 300, Loss: 0.047693926841020584\n",
      "Generating Image Number: 14 for target class tensor([2]). Step 350, Loss: 0.041682980954647064\n",
      "Generating Image Number: 14 for target class tensor([2]). Step 400, Loss: 0.03747686743736267\n",
      "Generating Image Number: 14 for target class tensor([2]). Step 450, Loss: 0.03236262500286102\n",
      "Generating Image Number: 15 for target class tensor([2]). Step 0, Loss: 2.051252841949463\n",
      "Generating Image Number: 15 for target class tensor([2]). Step 50, Loss: 0.04368722438812256\n",
      "Generating Image Number: 15 for target class tensor([2]). Step 100, Loss: 0.01300390437245369\n",
      "Generating Image Number: 15 for target class tensor([2]). Step 150, Loss: 0.008080056868493557\n",
      "Generating Image Number: 15 for target class tensor([2]). Step 200, Loss: 0.0055086007341742516\n",
      "Generating Image Number: 15 for target class tensor([2]). Step 250, Loss: 0.004328762646764517\n",
      "Generating Image Number: 15 for target class tensor([2]). Step 300, Loss: 0.0037709809839725494\n",
      "Generating Image Number: 15 for target class tensor([2]). Step 350, Loss: 0.003326480044052005\n",
      "Generating Image Number: 15 for target class tensor([2]). Step 400, Loss: 0.003033443121239543\n",
      "Generating Image Number: 15 for target class tensor([2]). Step 450, Loss: 0.0028123611118644476\n",
      "Generating Image Number: 16 for target class tensor([2]). Step 0, Loss: 4.341997146606445\n",
      "Generating Image Number: 16 for target class tensor([2]). Step 50, Loss: 0.4952327609062195\n",
      "Generating Image Number: 16 for target class tensor([2]). Step 100, Loss: 0.16197419166564941\n",
      "Generating Image Number: 16 for target class tensor([2]). Step 150, Loss: 0.1071104034781456\n",
      "Generating Image Number: 16 for target class tensor([2]). Step 200, Loss: 0.08143696188926697\n",
      "Generating Image Number: 16 for target class tensor([2]). Step 250, Loss: 0.05670081079006195\n",
      "Generating Image Number: 16 for target class tensor([2]). Step 300, Loss: 0.036022476851940155\n",
      "Generating Image Number: 16 for target class tensor([2]). Step 350, Loss: 0.0226440466940403\n",
      "Generating Image Number: 16 for target class tensor([2]). Step 400, Loss: 0.016368048265576363\n",
      "Generating Image Number: 16 for target class tensor([2]). Step 450, Loss: 0.012762065045535564\n",
      "Generating Image Number: 17 for target class tensor([2]). Step 0, Loss: 6.283417224884033\n",
      "Generating Image Number: 17 for target class tensor([2]). Step 50, Loss: 0.09262232482433319\n",
      "Generating Image Number: 17 for target class tensor([2]). Step 100, Loss: 0.03301749378442764\n",
      "Generating Image Number: 17 for target class tensor([2]). Step 150, Loss: 0.02276594005525112\n",
      "Generating Image Number: 17 for target class tensor([2]). Step 200, Loss: 0.017974114045500755\n",
      "Generating Image Number: 17 for target class tensor([2]). Step 250, Loss: 0.01553575973957777\n",
      "Generating Image Number: 17 for target class tensor([2]). Step 300, Loss: 0.013775280676782131\n",
      "Generating Image Number: 17 for target class tensor([2]). Step 350, Loss: 0.01232907921075821\n",
      "Generating Image Number: 17 for target class tensor([2]). Step 400, Loss: 0.011139346286654472\n",
      "Generating Image Number: 17 for target class tensor([2]). Step 450, Loss: 0.01026847679167986\n",
      "Generating Image Number: 18 for target class tensor([2]). Step 0, Loss: 4.109381198883057\n",
      "Generating Image Number: 18 for target class tensor([2]). Step 50, Loss: 0.18573547899723053\n",
      "Generating Image Number: 18 for target class tensor([2]). Step 100, Loss: 0.09179896861314774\n",
      "Generating Image Number: 18 for target class tensor([2]). Step 150, Loss: 0.06632322072982788\n",
      "Generating Image Number: 18 for target class tensor([2]). Step 200, Loss: 0.054692935198545456\n",
      "Generating Image Number: 18 for target class tensor([2]). Step 250, Loss: 0.047446805983781815\n",
      "Generating Image Number: 18 for target class tensor([2]). Step 300, Loss: 0.04097026214003563\n",
      "Generating Image Number: 18 for target class tensor([2]). Step 350, Loss: 0.03542491793632507\n",
      "Generating Image Number: 18 for target class tensor([2]). Step 400, Loss: 0.03143323212862015\n",
      "Generating Image Number: 18 for target class tensor([2]). Step 450, Loss: 0.02771836519241333\n",
      "Generating Image Number: 19 for target class tensor([2]). Step 0, Loss: 3.086613655090332\n",
      "Generating Image Number: 19 for target class tensor([2]). Step 50, Loss: 0.07749142497777939\n",
      "Generating Image Number: 19 for target class tensor([2]). Step 100, Loss: 0.032269712537527084\n",
      "Generating Image Number: 19 for target class tensor([2]). Step 150, Loss: 0.023626232519745827\n",
      "Generating Image Number: 19 for target class tensor([2]). Step 200, Loss: 0.019588125869631767\n",
      "Generating Image Number: 19 for target class tensor([2]). Step 250, Loss: 0.016895173117518425\n",
      "Generating Image Number: 19 for target class tensor([2]). Step 300, Loss: 0.015023301355540752\n",
      "Generating Image Number: 19 for target class tensor([2]). Step 350, Loss: 0.013487289659678936\n",
      "Generating Image Number: 19 for target class tensor([2]). Step 400, Loss: 0.01219530776143074\n",
      "Generating Image Number: 19 for target class tensor([2]). Step 450, Loss: 0.011080872267484665\n",
      "Generating Image Number: 20 for target class tensor([2]). Step 0, Loss: 1.8273649215698242\n",
      "Generating Image Number: 20 for target class tensor([2]). Step 50, Loss: 0.21779422461986542\n",
      "Generating Image Number: 20 for target class tensor([2]). Step 100, Loss: 0.15852639079093933\n",
      "Generating Image Number: 20 for target class tensor([2]). Step 150, Loss: 0.12553909420967102\n",
      "Generating Image Number: 20 for target class tensor([2]). Step 200, Loss: 0.11274801194667816\n",
      "Generating Image Number: 20 for target class tensor([2]). Step 250, Loss: 0.10351564735174179\n",
      "Generating Image Number: 20 for target class tensor([2]). Step 300, Loss: 0.09711945801973343\n",
      "Generating Image Number: 20 for target class tensor([2]). Step 350, Loss: 0.091248519718647\n",
      "Generating Image Number: 20 for target class tensor([2]). Step 400, Loss: 0.08456436544656754\n",
      "Generating Image Number: 20 for target class tensor([2]). Step 450, Loss: 0.07676535844802856\n"
     ]
    }
   ],
   "source": [
    "torch.manual_seed(200)\n",
    "latent_vectors = torch.randn(img_count, z_dim, 1, 1, requires_grad=True) # Start with 20 random noises\n",
    "class2_optimized_latent_vectors = recover_images(img_count, 2, latent_vectors)"
   ]
  },
  {
   "cell_type": "code",
   "execution_count": 24,
   "id": "0381b36d-6c92-43bc-b776-1eefd3eab451",
   "metadata": {
    "scrolled": true
   },
   "outputs": [
    {
     "name": "stdout",
     "output_type": "stream",
     "text": [
      "Generating Image Number: 1 for target class tensor([3]). Step 0, Loss: 1.3415765762329102\n",
      "Generating Image Number: 1 for target class tensor([3]). Step 50, Loss: 0.01662496104836464\n",
      "Generating Image Number: 1 for target class tensor([3]). Step 100, Loss: 0.004877098836004734\n",
      "Generating Image Number: 1 for target class tensor([3]). Step 150, Loss: 0.003183774882927537\n",
      "Generating Image Number: 1 for target class tensor([3]). Step 200, Loss: 0.00227656913921237\n",
      "Generating Image Number: 1 for target class tensor([3]). Step 250, Loss: 0.001919690752401948\n",
      "Generating Image Number: 1 for target class tensor([3]). Step 300, Loss: 0.0016986002447083592\n",
      "Generating Image Number: 1 for target class tensor([3]). Step 350, Loss: 0.0015424508601427078\n",
      "Generating Image Number: 1 for target class tensor([3]). Step 400, Loss: 0.0014099667314440012\n",
      "Generating Image Number: 1 for target class tensor([3]). Step 450, Loss: 0.0012869894271716475\n",
      "Generating Image Number: 2 for target class tensor([3]). Step 0, Loss: 3.057058334350586\n",
      "Generating Image Number: 2 for target class tensor([3]). Step 50, Loss: 0.1820991486310959\n",
      "Generating Image Number: 2 for target class tensor([3]). Step 100, Loss: 0.07392159849405289\n",
      "Generating Image Number: 2 for target class tensor([3]). Step 150, Loss: 0.05244961008429527\n",
      "Generating Image Number: 2 for target class tensor([3]). Step 200, Loss: 0.04479522258043289\n",
      "Generating Image Number: 2 for target class tensor([3]). Step 250, Loss: 0.038644637912511826\n",
      "Generating Image Number: 2 for target class tensor([3]). Step 300, Loss: 0.03390658274292946\n",
      "Generating Image Number: 2 for target class tensor([3]). Step 350, Loss: 0.02761957049369812\n",
      "Generating Image Number: 2 for target class tensor([3]). Step 400, Loss: 0.024369101971387863\n",
      "Generating Image Number: 2 for target class tensor([3]). Step 450, Loss: 0.021968934684991837\n",
      "Generating Image Number: 3 for target class tensor([3]). Step 0, Loss: 1.3744415044784546\n",
      "Generating Image Number: 3 for target class tensor([3]). Step 50, Loss: 0.07105650752782822\n",
      "Generating Image Number: 3 for target class tensor([3]). Step 100, Loss: 0.02775164321064949\n",
      "Generating Image Number: 3 for target class tensor([3]). Step 150, Loss: 0.018027620390057564\n",
      "Generating Image Number: 3 for target class tensor([3]). Step 200, Loss: 0.012220273725688457\n",
      "Generating Image Number: 3 for target class tensor([3]). Step 250, Loss: 0.0090197017416358\n",
      "Generating Image Number: 3 for target class tensor([3]). Step 300, Loss: 0.0073930248618125916\n",
      "Generating Image Number: 3 for target class tensor([3]). Step 350, Loss: 0.0062978616915643215\n",
      "Generating Image Number: 3 for target class tensor([3]). Step 400, Loss: 0.005531955510377884\n",
      "Generating Image Number: 3 for target class tensor([3]). Step 450, Loss: 0.0049768611788749695\n",
      "Generating Image Number: 4 for target class tensor([3]). Step 0, Loss: 1.6620662212371826\n",
      "Generating Image Number: 4 for target class tensor([3]). Step 50, Loss: 0.050709135830402374\n",
      "Generating Image Number: 4 for target class tensor([3]). Step 100, Loss: 0.032142505049705505\n",
      "Generating Image Number: 4 for target class tensor([3]). Step 150, Loss: 0.026696553453803062\n",
      "Generating Image Number: 4 for target class tensor([3]). Step 200, Loss: 0.023221919313073158\n",
      "Generating Image Number: 4 for target class tensor([3]). Step 250, Loss: 0.020505813881754875\n",
      "Generating Image Number: 4 for target class tensor([3]). Step 300, Loss: 0.017426704987883568\n",
      "Generating Image Number: 4 for target class tensor([3]). Step 350, Loss: 0.014634174294769764\n",
      "Generating Image Number: 4 for target class tensor([3]). Step 400, Loss: 0.012443877756595612\n",
      "Generating Image Number: 4 for target class tensor([3]). Step 450, Loss: 0.01107992883771658\n",
      "Generating Image Number: 5 for target class tensor([3]). Step 0, Loss: 0.5719916820526123\n",
      "Generating Image Number: 5 for target class tensor([3]). Step 50, Loss: 0.011873994953930378\n",
      "Generating Image Number: 5 for target class tensor([3]). Step 100, Loss: 0.0061648208647966385\n",
      "Generating Image Number: 5 for target class tensor([3]). Step 150, Loss: 0.00402046600356698\n",
      "Generating Image Number: 5 for target class tensor([3]). Step 200, Loss: 0.003151095937937498\n",
      "Generating Image Number: 5 for target class tensor([3]). Step 250, Loss: 0.0027205857913941145\n",
      "Generating Image Number: 5 for target class tensor([3]). Step 300, Loss: 0.0023969272151589394\n",
      "Generating Image Number: 5 for target class tensor([3]). Step 350, Loss: 0.0021506056655198336\n",
      "Generating Image Number: 5 for target class tensor([3]). Step 400, Loss: 0.001962879905477166\n",
      "Generating Image Number: 5 for target class tensor([3]). Step 450, Loss: 0.0017726197838783264\n",
      "Generating Image Number: 6 for target class tensor([3]). Step 0, Loss: 0.2771485149860382\n",
      "Generating Image Number: 6 for target class tensor([3]). Step 50, Loss: 0.0084703229367733\n",
      "Generating Image Number: 6 for target class tensor([3]). Step 100, Loss: 0.004794766660779715\n",
      "Generating Image Number: 6 for target class tensor([3]). Step 150, Loss: 0.0035053968895226717\n",
      "Generating Image Number: 6 for target class tensor([3]). Step 200, Loss: 0.0027545862831175327\n",
      "Generating Image Number: 6 for target class tensor([3]). Step 250, Loss: 0.002303091809153557\n",
      "Generating Image Number: 6 for target class tensor([3]). Step 300, Loss: 0.0019401551689952612\n",
      "Generating Image Number: 6 for target class tensor([3]). Step 350, Loss: 0.0016227898886427283\n",
      "Generating Image Number: 6 for target class tensor([3]). Step 400, Loss: 0.0013628251617774367\n",
      "Generating Image Number: 6 for target class tensor([3]). Step 450, Loss: 0.0012070996453985572\n",
      "Generating Image Number: 7 for target class tensor([3]). Step 0, Loss: 3.8037781715393066\n",
      "Generating Image Number: 7 for target class tensor([3]). Step 50, Loss: 0.09322479367256165\n",
      "Generating Image Number: 7 for target class tensor([3]). Step 100, Loss: 0.04223887622356415\n",
      "Generating Image Number: 7 for target class tensor([3]). Step 150, Loss: 0.028163863345980644\n",
      "Generating Image Number: 7 for target class tensor([3]). Step 200, Loss: 0.019787883386015892\n",
      "Generating Image Number: 7 for target class tensor([3]). Step 250, Loss: 0.015514632686972618\n",
      "Generating Image Number: 7 for target class tensor([3]). Step 300, Loss: 0.012797373346984386\n",
      "Generating Image Number: 7 for target class tensor([3]). Step 350, Loss: 0.010742690414190292\n",
      "Generating Image Number: 7 for target class tensor([3]). Step 400, Loss: 0.009468646720051765\n",
      "Generating Image Number: 7 for target class tensor([3]). Step 450, Loss: 0.008615112863481045\n",
      "Generating Image Number: 8 for target class tensor([3]). Step 0, Loss: 1.338531255722046\n",
      "Generating Image Number: 8 for target class tensor([3]). Step 50, Loss: 0.0416865274310112\n",
      "Generating Image Number: 8 for target class tensor([3]). Step 100, Loss: 0.016442162916064262\n",
      "Generating Image Number: 8 for target class tensor([3]). Step 150, Loss: 0.010913446545600891\n",
      "Generating Image Number: 8 for target class tensor([3]). Step 200, Loss: 0.008626103401184082\n",
      "Generating Image Number: 8 for target class tensor([3]). Step 250, Loss: 0.007354093249887228\n",
      "Generating Image Number: 8 for target class tensor([3]). Step 300, Loss: 0.006338255945593119\n",
      "Generating Image Number: 8 for target class tensor([3]). Step 350, Loss: 0.005415649618953466\n",
      "Generating Image Number: 8 for target class tensor([3]). Step 400, Loss: 0.004642066545784473\n",
      "Generating Image Number: 8 for target class tensor([3]). Step 450, Loss: 0.004000043962150812\n",
      "Generating Image Number: 9 for target class tensor([3]). Step 0, Loss: 2.9087910652160645\n",
      "Generating Image Number: 9 for target class tensor([3]). Step 50, Loss: 0.09492313116788864\n",
      "Generating Image Number: 9 for target class tensor([3]). Step 100, Loss: 0.04169921949505806\n",
      "Generating Image Number: 9 for target class tensor([3]). Step 150, Loss: 0.03125762566924095\n",
      "Generating Image Number: 9 for target class tensor([3]). Step 200, Loss: 0.024879353120923042\n",
      "Generating Image Number: 9 for target class tensor([3]). Step 250, Loss: 0.020184239372611046\n",
      "Generating Image Number: 9 for target class tensor([3]). Step 300, Loss: 0.01735571026802063\n",
      "Generating Image Number: 9 for target class tensor([3]). Step 350, Loss: 0.015724828466773033\n",
      "Generating Image Number: 9 for target class tensor([3]). Step 400, Loss: 0.014301657676696777\n",
      "Generating Image Number: 9 for target class tensor([3]). Step 450, Loss: 0.01318768598139286\n",
      "Generating Image Number: 10 for target class tensor([3]). Step 0, Loss: 1.698821783065796\n",
      "Generating Image Number: 10 for target class tensor([3]). Step 50, Loss: 0.11830953508615494\n",
      "Generating Image Number: 10 for target class tensor([3]). Step 100, Loss: 0.04754263907670975\n",
      "Generating Image Number: 10 for target class tensor([3]). Step 150, Loss: 0.03540064021945\n",
      "Generating Image Number: 10 for target class tensor([3]). Step 200, Loss: 0.027970872819423676\n",
      "Generating Image Number: 10 for target class tensor([3]). Step 250, Loss: 0.022834105417132378\n",
      "Generating Image Number: 10 for target class tensor([3]). Step 300, Loss: 0.018564052879810333\n",
      "Generating Image Number: 10 for target class tensor([3]). Step 350, Loss: 0.014911618083715439\n",
      "Generating Image Number: 10 for target class tensor([3]). Step 400, Loss: 0.01259868685156107\n",
      "Generating Image Number: 10 for target class tensor([3]). Step 450, Loss: 0.011150546371936798\n",
      "Generating Image Number: 11 for target class tensor([3]). Step 0, Loss: 0.6488032937049866\n",
      "Generating Image Number: 11 for target class tensor([3]). Step 50, Loss: 0.00875716283917427\n",
      "Generating Image Number: 11 for target class tensor([3]). Step 100, Loss: 0.003954330459237099\n",
      "Generating Image Number: 11 for target class tensor([3]). Step 150, Loss: 0.0027381805703043938\n",
      "Generating Image Number: 11 for target class tensor([3]). Step 200, Loss: 0.0020768519025295973\n",
      "Generating Image Number: 11 for target class tensor([3]). Step 250, Loss: 0.0016540905926376581\n",
      "Generating Image Number: 11 for target class tensor([3]). Step 300, Loss: 0.0013941340148448944\n",
      "Generating Image Number: 11 for target class tensor([3]). Step 350, Loss: 0.0012173393042758107\n",
      "Generating Image Number: 11 for target class tensor([3]). Step 400, Loss: 0.0010930284624919295\n",
      "Generating Image Number: 11 for target class tensor([3]). Step 450, Loss: 0.0009968079393729568\n",
      "Generating Image Number: 12 for target class tensor([3]). Step 0, Loss: 0.7292461395263672\n",
      "Generating Image Number: 12 for target class tensor([3]). Step 50, Loss: 0.023114291951060295\n",
      "Generating Image Number: 12 for target class tensor([3]). Step 100, Loss: 0.009844443760812283\n",
      "Generating Image Number: 12 for target class tensor([3]). Step 150, Loss: 0.007001745048910379\n",
      "Generating Image Number: 12 for target class tensor([3]). Step 200, Loss: 0.0054933070205152035\n",
      "Generating Image Number: 12 for target class tensor([3]). Step 250, Loss: 0.004022721666842699\n",
      "Generating Image Number: 12 for target class tensor([3]). Step 300, Loss: 0.0033677073661237955\n",
      "Generating Image Number: 12 for target class tensor([3]). Step 350, Loss: 0.002987685613334179\n",
      "Generating Image Number: 12 for target class tensor([3]). Step 400, Loss: 0.00266779912635684\n",
      "Generating Image Number: 12 for target class tensor([3]). Step 450, Loss: 0.002120153047144413\n",
      "Generating Image Number: 13 for target class tensor([3]). Step 0, Loss: 0.15281294286251068\n",
      "Generating Image Number: 13 for target class tensor([3]). Step 50, Loss: 0.0025176277849823236\n",
      "Generating Image Number: 13 for target class tensor([3]). Step 100, Loss: 0.0016656348016113043\n",
      "Generating Image Number: 13 for target class tensor([3]). Step 150, Loss: 0.0012653210433200002\n",
      "Generating Image Number: 13 for target class tensor([3]). Step 200, Loss: 0.0010457528987899423\n",
      "Generating Image Number: 13 for target class tensor([3]). Step 250, Loss: 0.0008970050839707255\n",
      "Generating Image Number: 13 for target class tensor([3]). Step 300, Loss: 0.0007873057620599866\n",
      "Generating Image Number: 13 for target class tensor([3]). Step 350, Loss: 0.0007210753974504769\n",
      "Generating Image Number: 13 for target class tensor([3]). Step 400, Loss: 0.0006811682251282036\n",
      "Generating Image Number: 13 for target class tensor([3]). Step 450, Loss: 0.0006485265912488103\n",
      "Generating Image Number: 14 for target class tensor([3]). Step 0, Loss: 0.10870654135942459\n",
      "Generating Image Number: 14 for target class tensor([3]). Step 50, Loss: 0.004667696543037891\n",
      "Generating Image Number: 14 for target class tensor([3]). Step 100, Loss: 0.002696927171200514\n",
      "Generating Image Number: 14 for target class tensor([3]). Step 150, Loss: 0.0018963703187182546\n",
      "Generating Image Number: 14 for target class tensor([3]). Step 200, Loss: 0.0014912686310708523\n",
      "Generating Image Number: 14 for target class tensor([3]). Step 250, Loss: 0.0012349606258794665\n",
      "Generating Image Number: 14 for target class tensor([3]). Step 300, Loss: 0.0010369406081736088\n",
      "Generating Image Number: 14 for target class tensor([3]). Step 350, Loss: 0.0009045085171237588\n",
      "Generating Image Number: 14 for target class tensor([3]). Step 400, Loss: 0.0008111285860650241\n",
      "Generating Image Number: 14 for target class tensor([3]). Step 450, Loss: 0.0007190502947196364\n",
      "Generating Image Number: 15 for target class tensor([3]). Step 0, Loss: 1.4095159769058228\n",
      "Generating Image Number: 15 for target class tensor([3]). Step 50, Loss: 0.146030992269516\n",
      "Generating Image Number: 15 for target class tensor([3]). Step 100, Loss: 0.0791114866733551\n",
      "Generating Image Number: 15 for target class tensor([3]). Step 150, Loss: 0.0533604733645916\n",
      "Generating Image Number: 15 for target class tensor([3]). Step 200, Loss: 0.04332096874713898\n",
      "Generating Image Number: 15 for target class tensor([3]). Step 250, Loss: 0.0383024588227272\n",
      "Generating Image Number: 15 for target class tensor([3]). Step 300, Loss: 0.03490298241376877\n",
      "Generating Image Number: 15 for target class tensor([3]). Step 350, Loss: 0.03196471557021141\n",
      "Generating Image Number: 15 for target class tensor([3]). Step 400, Loss: 0.029163917526602745\n",
      "Generating Image Number: 15 for target class tensor([3]). Step 450, Loss: 0.026252489537000656\n",
      "Generating Image Number: 16 for target class tensor([3]). Step 0, Loss: 3.414860725402832\n",
      "Generating Image Number: 16 for target class tensor([3]). Step 50, Loss: 0.04154130071401596\n",
      "Generating Image Number: 16 for target class tensor([3]). Step 100, Loss: 0.010123927146196365\n",
      "Generating Image Number: 16 for target class tensor([3]). Step 150, Loss: 0.007233028300106525\n",
      "Generating Image Number: 16 for target class tensor([3]). Step 200, Loss: 0.005975714419037104\n",
      "Generating Image Number: 16 for target class tensor([3]). Step 250, Loss: 0.005103536881506443\n",
      "Generating Image Number: 16 for target class tensor([3]). Step 300, Loss: 0.004487800411880016\n",
      "Generating Image Number: 16 for target class tensor([3]). Step 350, Loss: 0.0039011340122669935\n",
      "Generating Image Number: 16 for target class tensor([3]). Step 400, Loss: 0.0034617993514984846\n",
      "Generating Image Number: 16 for target class tensor([3]). Step 450, Loss: 0.0031898352317512035\n",
      "Generating Image Number: 17 for target class tensor([3]). Step 0, Loss: 0.0658380389213562\n",
      "Generating Image Number: 17 for target class tensor([3]). Step 50, Loss: 0.0009213017183355987\n",
      "Generating Image Number: 17 for target class tensor([3]). Step 100, Loss: 0.0006179092451930046\n",
      "Generating Image Number: 17 for target class tensor([3]). Step 150, Loss: 0.000491855782456696\n",
      "Generating Image Number: 17 for target class tensor([3]). Step 200, Loss: 0.00040058218291960657\n",
      "Generating Image Number: 17 for target class tensor([3]). Step 250, Loss: 0.00033444532891735435\n",
      "Generating Image Number: 17 for target class tensor([3]). Step 300, Loss: 0.00028701478731818497\n",
      "Generating Image Number: 17 for target class tensor([3]). Step 350, Loss: 0.0002548369811847806\n",
      "Generating Image Number: 17 for target class tensor([3]). Step 400, Loss: 0.00023326536756940186\n",
      "Generating Image Number: 17 for target class tensor([3]). Step 450, Loss: 0.00021145492792129517\n",
      "Generating Image Number: 18 for target class tensor([3]). Step 0, Loss: 0.4513704478740692\n",
      "Generating Image Number: 18 for target class tensor([3]). Step 50, Loss: 0.006017662119120359\n",
      "Generating Image Number: 18 for target class tensor([3]). Step 100, Loss: 0.003089062636718154\n",
      "Generating Image Number: 18 for target class tensor([3]). Step 150, Loss: 0.001903747208416462\n",
      "Generating Image Number: 18 for target class tensor([3]). Step 200, Loss: 0.0012868703342974186\n",
      "Generating Image Number: 18 for target class tensor([3]). Step 250, Loss: 0.0009529816452413797\n",
      "Generating Image Number: 18 for target class tensor([3]). Step 300, Loss: 0.0008354272576980293\n",
      "Generating Image Number: 18 for target class tensor([3]). Step 350, Loss: 0.000774798565544188\n",
      "Generating Image Number: 18 for target class tensor([3]). Step 400, Loss: 0.000709282117895782\n",
      "Generating Image Number: 18 for target class tensor([3]). Step 450, Loss: 0.0006480501033365726\n",
      "Generating Image Number: 19 for target class tensor([3]). Step 0, Loss: 0.45620298385620117\n",
      "Generating Image Number: 19 for target class tensor([3]). Step 50, Loss: 0.007721221540123224\n",
      "Generating Image Number: 19 for target class tensor([3]). Step 100, Loss: 0.004031389020383358\n",
      "Generating Image Number: 19 for target class tensor([3]). Step 150, Loss: 0.002618220169097185\n",
      "Generating Image Number: 19 for target class tensor([3]). Step 200, Loss: 0.0015425699530169368\n",
      "Generating Image Number: 19 for target class tensor([3]). Step 250, Loss: 0.0011517327511683106\n",
      "Generating Image Number: 19 for target class tensor([3]). Step 300, Loss: 0.0009592937421984971\n",
      "Generating Image Number: 19 for target class tensor([3]). Step 350, Loss: 0.0008467426523566246\n",
      "Generating Image Number: 19 for target class tensor([3]). Step 400, Loss: 0.0007210753974504769\n",
      "Generating Image Number: 19 for target class tensor([3]). Step 450, Loss: 0.0006148116663098335\n",
      "Generating Image Number: 20 for target class tensor([3]). Step 0, Loss: 0.9080949425697327\n",
      "Generating Image Number: 20 for target class tensor([3]). Step 50, Loss: 0.008607666939496994\n",
      "Generating Image Number: 20 for target class tensor([3]). Step 100, Loss: 0.004440091550350189\n",
      "Generating Image Number: 20 for target class tensor([3]). Step 150, Loss: 0.002892241580411792\n",
      "Generating Image Number: 20 for target class tensor([3]). Step 200, Loss: 0.002120985882356763\n",
      "Generating Image Number: 20 for target class tensor([3]). Step 250, Loss: 0.0017149040941148996\n",
      "Generating Image Number: 20 for target class tensor([3]). Step 300, Loss: 0.0015238827327266335\n",
      "Generating Image Number: 20 for target class tensor([3]). Step 350, Loss: 0.0013468727702274919\n",
      "Generating Image Number: 20 for target class tensor([3]). Step 400, Loss: 0.0011870964663103223\n",
      "Generating Image Number: 20 for target class tensor([3]). Step 450, Loss: 0.0010750473011285067\n"
     ]
    }
   ],
   "source": [
    "torch.manual_seed(300)\n",
    "latent_vectors = torch.randn(img_count, z_dim, 1, 1, requires_grad=True) # Start with 20 random noises\n",
    "class3_optimized_latent_vectors = recover_images(img_count, 3, latent_vectors)"
   ]
  },
  {
   "cell_type": "code",
   "execution_count": 25,
   "id": "ae6425a5-dd86-4e87-8112-883336345ac9",
   "metadata": {},
   "outputs": [],
   "source": [
    "z0_1 = class0_optimized_latent_vectors[0]\n",
    "z0_2 = class0_optimized_latent_vectors[1]\n",
    "z0_3 = class0_optimized_latent_vectors[2]"
   ]
  },
  {
   "cell_type": "code",
   "execution_count": 26,
   "id": "3a6ed4fb-b693-4963-afcf-17a512e50b5f",
   "metadata": {},
   "outputs": [
    {
     "name": "stdout",
     "output_type": "stream",
     "text": [
      "torch.Size([64, 64])\n"
     ]
    }
   ],
   "source": [
    "# Display the generated image\n",
    "img = gen(z0_1.to(device)).squeeze(dim=0).squeeze(dim=0)\n",
    "print(img.shape)"
   ]
  },
  {
   "cell_type": "code",
   "execution_count": 27,
   "id": "88fc9416-c6ca-486b-bd72-63885de78d1c",
   "metadata": {},
   "outputs": [
    {
     "data": {
      "text/plain": [
       "<matplotlib.image.AxesImage at 0x2a725646d60>"
      ]
     },
     "execution_count": 27,
     "metadata": {},
     "output_type": "execute_result"
    },
    {
     "data": {
      "image/png": "[encoded data removed]",
      "text/plain": [
       "<Figure size 640x480 with 1 Axes>"
      ]
     },
     "metadata": {},
     "output_type": "display_data"
    }
   ],
   "source": [
    "plt.axis(False)\n",
    "plt.title('Recovered Image:')\n",
    "plt.imshow(img.cpu().detach(), cmap='gray')"
   ]
  },
  {
   "cell_type": "code",
   "execution_count": 35,
   "id": "bb0fc370-78c5-495f-b1e7-1239873b4ff8",
   "metadata": {},
   "outputs": [],
   "source": [
    "z1 = class1_optimized_latent_vectors[0]\n",
    "z2 = class1_optimized_latent_vectors[1]\n",
    "z3 = class1_optimized_latent_vectors[2]"
   ]
  },
  {
   "cell_type": "code",
   "execution_count": 36,
   "id": "07f38b7d-14f6-4d63-9efa-cb96ec2e1d35",
   "metadata": {},
   "outputs": [
    {
     "name": "stdout",
     "output_type": "stream",
     "text": [
      "torch.Size([64, 64])\n"
     ]
    }
   ],
   "source": [
    "# Display the generated image\n",
    "img = gen(z1.to(device)).squeeze(dim=0).squeeze(dim=0)\n",
    "print(img.shape)"
   ]
  },
  {
   "cell_type": "code",
   "execution_count": 37,
   "id": "8cad57ff-7961-4078-9dd4-1e0b4879ff56",
   "metadata": {},
   "outputs": [
    {
     "data": {
      "text/plain": [
       "<matplotlib.image.AxesImage at 0x2a7430fb5b0>"
      ]
     },
     "execution_count": 37,
     "metadata": {},
     "output_type": "execute_result"
    },
    {
     "data": {
      "image/png": "[encoded data removed]",
      "text/plain": [
       "<Figure size 640x480 with 1 Axes>"
      ]
     },
     "metadata": {},
     "output_type": "display_data"
    }
   ],
   "source": [
    "plt.axis(False)\n",
    "plt.title('Recovered Image:')\n",
    "plt.imshow(img.cpu().detach(), cmap='gray')"
   ]
  },
  {
   "cell_type": "code",
   "execution_count": 38,
   "id": "52ecd67d-cb2d-44a3-b375-759d63db75b1",
   "metadata": {},
   "outputs": [],
   "source": [
    "                                                            # Dataset Loading\n",
    "# Load the .pkl files in as numpy arrays of pixels\n",
    "def load_tumor_data(file_path):\n",
    "    train_xs = []\n",
    "    train_ys = []\n",
    "    \"\"\" Load Digits Data from pickle data\n",
    "    return:\n",
    "    @xs: numpy.array, (n, c, w, h) \n",
    "    @ys: numpy.array, (n, ), 0-9\n",
    "    \"\"\"\n",
    "    with open(file_path, 'rb') as file:\n",
    "        data = pickle.load(file)\n",
    "        train_xs.append(data[\"data\"])\n",
    "        train_ys.append(data[\"labels\"])\n",
    "    train_xs = np.concatenate(train_xs, axis=0)\n",
    "    train_ys = np.concatenate(train_ys, axis=0)\n",
    "    \n",
    "    return train_xs, train_ys"
   ]
  },
  {
   "cell_type": "code",
   "execution_count": 39,
   "id": "ca72f62f-1eec-4b17-a8ce-fd66781f64f6",
   "metadata": {},
   "outputs": [],
   "source": [
    "# Custom Tumor Dataset\n",
    "class TumorDataset(data.Dataset):\n",
    "    def __init__(self, xs, ys, is_train=True):\n",
    "        self.xs = xs\n",
    "        self.ys = ys\n",
    "\n",
    "        if is_train is True:\n",
    "            self.transform = transforms.Compose([\n",
    "                transforms.ToPILImage(),\n",
    "                transforms.Resize((64, 64)),\n",
    "                transforms.ToTensor(),\n",
    "                transforms.Normalize(\n",
    "                    [0.5],\n",
    "                    [0.5]\n",
    "                )\n",
    "            ])\n",
    "        else:\n",
    "            self.transform = transforms.Compose([\n",
    "                transforms.ToPILImage(),\n",
    "                transforms.Resize((64, 64)),\n",
    "                transforms.ToTensor(),\n",
    "                transforms.Normalize(\n",
    "                    (0.4914, 0.4822, 0.4465),\n",
    "                    (0.2023, 0.1994, 0.2010)\n",
    "                )\n",
    "            ])\n",
    "\n",
    "    def __len__(self):\n",
    "        return len(self.xs)\n",
    "\n",
    "    def __getitem__(self, index):\n",
    "        img = self.xs[index]\n",
    "        #print(img.shape)\n",
    "        label = self.ys[index]\n",
    "\n",
    "        img = img.transpose((1, 2, 0)).astype(np.uint8)\n",
    "        img = self.transform(img)\n",
    "\n",
    "        img = torch.FloatTensor(img)\n",
    "        label = torch.LongTensor([label])[0]\n",
    "        return img, label"
   ]
  },
  {
   "cell_type": "code",
   "execution_count": 40,
   "id": "ceb91588-ef69-4373-b33f-74aed6c246bb",
   "metadata": {},
   "outputs": [],
   "source": [
    "def create_dataset(train_xs, train_ys):\n",
    "    tumor_dataset = TumorDataset(train_xs, train_ys, is_train=True)\n",
    "\n",
    "    return tumor_dataset"
   ]
  },
  {
   "cell_type": "code",
   "execution_count": 41,
   "id": "0415fba0-830c-42c6-bbde-c6958e779fbb",
   "metadata": {},
   "outputs": [],
   "source": [
    "def create_dataloader(dataset):\n",
    "    dataloader = DataLoader(dataset=dataset, batch_size=128, shuffle=True)\n",
    "\n",
    "    return dataloader"
   ]
  },
  {
   "cell_type": "code",
   "execution_count": 42,
   "id": "726d4995-5133-4037-ab0e-f2705470cdc9",
   "metadata": {},
   "outputs": [
    {
     "name": "stdout",
     "output_type": "stream",
     "text": [
      "(13927, 1, 32, 32)\n",
      "<class 'numpy.ndarray'>\n"
     ]
    }
   ],
   "source": [
    "# Load in the pickle dataset file\n",
    "train_xs, train_ys = load_tumor_data('datasets/Tumor/tumor4train.pkl')\n",
    "#train_xs = train_xs[:, 1, :, :]\n",
    "#train_xs = np.expand_dims(train_xs, axis=1)\n",
    "train_xs = train_xs.mean(axis=1, keepdims=True)\n",
    "print(train_xs.shape)\n",
    "print(type(train_xs))"
   ]
  },
  {
   "cell_type": "code",
   "execution_count": 43,
   "id": "a684b01a-eb4a-4210-9f59-d613085a404a",
   "metadata": {},
   "outputs": [],
   "source": [
    "# Create the dataset\n",
    "tumor_dataset = create_dataset(train_xs, train_ys)"
   ]
  },
  {
   "cell_type": "code",
   "execution_count": 44,
   "id": "193f07cc-d34f-425e-aa08-62b6d6adbad6",
   "metadata": {},
   "outputs": [],
   "source": [
    "def visualize_image(image_x):\n",
    "    # We have to visualize by reverting the normalization (just for visualization).\n",
    "    mean = torch.tensor([0.5])\n",
    "    std = torch.tensor([0.5])\n",
    "\n",
    "    image = image_x * std + mean  # Denormalize the image\n",
    "\n",
    "    image = torch.clamp(image, 0, 1) # Clip values to [0, 1] to ensure valid range for display\n",
    "\n",
    "    # Permute the image to (H, W, C) for matplotlib\n",
    "    \n",
    "    image = image.permute(1, 2, 0)\n",
    "\n",
    "    plt.imshow(image, cmap='gray')"
   ]
  },
  {
   "cell_type": "code",
   "execution_count": 45,
   "id": "16e93c17-a89b-46a2-8198-71e66e370f4f",
   "metadata": {},
   "outputs": [
    {
     "name": "stdout",
     "output_type": "stream",
     "text": [
      "torch.Size([1, 64, 64])\n"
     ]
    },
    {
     "data": {
      "image/png": "[encoded data removed]",
      "text/plain": [
       "<Figure size 640x480 with 1 Axes>"
      ]
     },
     "metadata": {},
     "output_type": "display_data"
    }
   ],
   "source": [
    "# Visualize the first tumor sample. \n",
    "image_x, image_y = tumor_dataset[7000]\n",
    "print(image_x.shape)\n",
    "visualize_image(image_x)"
   ]
  },
  {
   "cell_type": "code",
   "execution_count": 46,
   "id": "60e2da47-7cb6-493e-aeda-aa80d7965de7",
   "metadata": {},
   "outputs": [],
   "source": [
    "from scipy.spatial.distance import cosine"
   ]
  },
  {
   "cell_type": "code",
   "execution_count": 48,
   "id": "5a7937e5-b808-4b3e-8288-75dcd9862340",
   "metadata": {},
   "outputs": [],
   "source": [
    "# Get the feature embeddings\n",
    "tfcnn_model = target_model = load_target_model(base_net='TFCNN', n_classes=4, path='saved models/fedavg_global_model.pth').to(device)\n",
    "model_embeddings = tfcnn_model.encoder.to(device)"
   ]
  },
  {
   "cell_type": "code",
   "execution_count": 49,
   "id": "737e3d92-45b6-45f6-9bf2-d51f379d6ac8",
   "metadata": {},
   "outputs": [],
   "source": [
    "# Preprocessing\n",
    "preprocess = transforms.Compose([\n",
    "    transforms.Resize(256),\n",
    "    transforms.CenterCrop(224),\n",
    "    transforms.ToTensor(),\n",
    "])"
   ]
  },
  {
   "cell_type": "code",
   "execution_count": 50,
   "id": "babb1015-bdfb-439b-bea1-81f9f50dd74e",
   "metadata": {},
   "outputs": [],
   "source": [
    "def get_feature(img):\n",
    "    with torch.no_grad():\n",
    "        features = model_embeddings(img).squeeze()\n",
    "    return features.cpu().numpy()"
   ]
  },
  {
   "cell_type": "code",
   "execution_count": 51,
   "id": "79f38654-6670-440d-a322-b2cae18a71d8",
   "metadata": {},
   "outputs": [
    {
     "data": {
      "text/plain": [
       "torch.Size([1, 64, 64])"
      ]
     },
     "execution_count": 51,
     "metadata": {},
     "output_type": "execute_result"
    }
   ],
   "source": [
    "# Send an original image through the model\n",
    "image_x, image_y = tumor_dataset[10]\n",
    "image_x.shape"
   ]
  },
  {
   "cell_type": "code",
   "execution_count": 52,
   "id": "a4a2659e-dcaa-4d4a-b5a5-06b363ce6534",
   "metadata": {},
   "outputs": [],
   "source": [
    "image_x = image_x.unsqueeze(dim=0)"
   ]
  },
  {
   "cell_type": "code",
   "execution_count": 53,
   "id": "14348bfc-5988-48f0-88cf-4761d7a99d89",
   "metadata": {},
   "outputs": [
    {
     "data": {
      "text/plain": [
       "torch.Size([1, 1, 64, 64])"
      ]
     },
     "execution_count": 53,
     "metadata": {},
     "output_type": "execute_result"
    }
   ],
   "source": [
    "image_x.shape"
   ]
  },
  {
   "cell_type": "code",
   "execution_count": 54,
   "id": "66160253-9543-4aba-bb81-031d51ef9623",
   "metadata": {},
   "outputs": [
    {
     "data": {
      "text/plain": [
       "torch.Size([1, 3, 64, 64])"
      ]
     },
     "execution_count": 54,
     "metadata": {},
     "output_type": "execute_result"
    }
   ],
   "source": [
    "image_x = image_x.repeat(1, 3, 1, 1)\n",
    "image_x = image_x.to(device)\n",
    "image_x.shape"
   ]
  },
  {
   "cell_type": "code",
   "execution_count": 55,
   "id": "f615c7d3-2dab-425d-81e1-2595ec59e230",
   "metadata": {},
   "outputs": [
    {
     "data": {
      "text/plain": [
       "(4096,)"
      ]
     },
     "execution_count": 55,
     "metadata": {},
     "output_type": "execute_result"
    }
   ],
   "source": [
    "features = get_feature(image_x)\n",
    "features.shape"
   ]
  },
  {
   "cell_type": "code",
   "execution_count": 56,
   "id": "31b9ddc9-3fc8-4a47-bfc7-74a6df27d672",
   "metadata": {},
   "outputs": [],
   "source": [
    "class0_original_images = []\n",
    "class1_original_images = []\n",
    "class2_original_images = []\n",
    "class3_original_images = []\n",
    "target_num = 20 # 20 images for each class"
   ]
  },
  {
   "cell_type": "code",
   "execution_count": 57,
   "id": "e804c948-2dc8-41df-a633-113300baf12a",
   "metadata": {},
   "outputs": [],
   "source": [
    "for i in range(len(tumor_dataset)):\n",
    "    img_x, img_y = tumor_dataset[i]\n",
    "\n",
    "    if img_y == 0:\n",
    "        if len(class0_original_images) < target_num:\n",
    "            class0_original_images.append(img_x)\n",
    "    elif img_y == 1:\n",
    "        if len(class1_original_images) < target_num:\n",
    "            class1_original_images.append(img_x)\n",
    "    elif img_y == 2:\n",
    "        if len(class2_original_images) < target_num:\n",
    "            class2_original_images.append(img_x)\n",
    "    elif img_y == 3:\n",
    "        if len(class3_original_images) < target_num:\n",
    "            class3_original_images.append(img_x)"
   ]
  },
  {
   "cell_type": "code",
   "execution_count": 60,
   "id": "ef07c896-c4cd-48da-9e59-c9d7bd90a4e8",
   "metadata": {},
   "outputs": [
    {
     "data": {
      "text/plain": [
       "20"
      ]
     },
     "execution_count": 60,
     "metadata": {},
     "output_type": "execute_result"
    }
   ],
   "source": [
    "len(class3_original_images)"
   ]
  },
  {
   "cell_type": "code",
   "execution_count": 61,
   "id": "e102404a-68a3-40c5-99a7-45813eb87f20",
   "metadata": {},
   "outputs": [
    {
     "data": {
      "text/plain": [
       "torch.Size([1, 3, 64, 64])"
      ]
     },
     "execution_count": 61,
     "metadata": {},
     "output_type": "execute_result"
    }
   ],
   "source": [
    "# Testing the cosine similarity\n",
    "class1_original_image = class1_original_images[8]\n",
    "class1_original_image = class1_original_image.unsqueeze(dim=0).to(device)\n",
    "class1_original_image = class1_original_image.repeat(1, 3, 1, 1)\n",
    "class1_original_image.shape"
   ]
  },
  {
   "cell_type": "code",
   "execution_count": 62,
   "id": "d7fe9c85-2c83-4580-be7d-32833b706948",
   "metadata": {},
   "outputs": [],
   "source": [
    "fake1 = class1_optimized_latent_vectors[8]\n",
    "fake1_image = gen(fake1.to(device))\n",
    "fake1_image = fake1_image.repeat(1, 3, 1, 1)"
   ]
  },
  {
   "cell_type": "code",
   "execution_count": 64,
   "id": "74647152-cdcb-4593-a88f-d3ac43fd97d3",
   "metadata": {},
   "outputs": [
    {
     "data": {
      "text/plain": [
       "torch.Size([1, 3, 64, 64])"
      ]
     },
     "execution_count": 64,
     "metadata": {},
     "output_type": "execute_result"
    }
   ],
   "source": [
    "fake1_image.shape"
   ]
  },
  {
   "cell_type": "code",
   "execution_count": 65,
   "id": "e88f6396-0ef2-45f5-96e0-6048be01af25",
   "metadata": {},
   "outputs": [],
   "source": [
    "# Get the features of the images\n",
    "features_original = get_feature(class1_original_image)\n",
    "features_fake = get_feature(fake1_image)"
   ]
  },
  {
   "cell_type": "code",
   "execution_count": 66,
   "id": "b54e2bca-5f2b-41ea-b810-15d1f9d30f86",
   "metadata": {},
   "outputs": [],
   "source": [
    "# Compute cosine similarity\n",
    "similarity = 1 - cosine(features_original, features_fake)"
   ]
  },
  {
   "cell_type": "code",
   "execution_count": 67,
   "id": "983c7e35-27ee-453c-9356-cb9a84fdd4a3",
   "metadata": {},
   "outputs": [
    {
     "data": {
      "text/plain": [
       "np.float32(0.28111136)"
      ]
     },
     "execution_count": 67,
     "metadata": {},
     "output_type": "execute_result"
    }
   ],
   "source": [
    "similarity"
   ]
  },
  {
   "cell_type": "code",
   "execution_count": 71,
   "id": "e65e04e8-52b7-4cf2-876c-d9b07a435ec9",
   "metadata": {},
   "outputs": [],
   "source": [
    "def calculate_class0_sim():\n",
    "    similarities = []\n",
    "    for i in range(0, 20):\n",
    "        class0_original = class0_original_images[i].unsqueeze(dim=0).to(device)\n",
    "        class0_original = class0_original.repeat(1, 3, 1, 1)\n",
    "\n",
    "        class0_fake = class0_optimized_latent_vectors[i]\n",
    "        class0_fake_img = gen(class0_fake.to(device))\n",
    "        class0_fake_img = class0_fake_img.repeat(1, 3, 1, 1)\n",
    "\n",
    "        features_original = get_feature(class0_original)\n",
    "        features_fake = get_feature(class0_fake_img)\n",
    "\n",
    "        cosine_similarity = 1 - cosine(features_original, features_fake)\n",
    "\n",
    "        similarities.append(cosine_similarity)\n",
    "        \n",
    "    return similarities"
   ]
  },
  {
   "cell_type": "code",
   "execution_count": 76,
   "id": "10d8f579-0b80-4157-b59b-7b92be9e52f2",
   "metadata": {},
   "outputs": [],
   "source": [
    "def calculate_class1_sim():\n",
    "    similarities = []\n",
    "    for i in range(0, 20):\n",
    "        class1_original = class1_original_images[i].unsqueeze(dim=0).to(device)\n",
    "        class1_original = class1_original.repeat(1, 3, 1, 1)\n",
    "\n",
    "        class1_fake = class1_optimized_latent_vectors[i]\n",
    "        class1_fake_img = gen(class1_fake.to(device))\n",
    "        class1_fake_img = class1_fake_img.repeat(1, 3, 1, 1)\n",
    "\n",
    "        features_original = get_feature(class1_original)\n",
    "        features_fake = get_feature(class1_fake_img)\n",
    "\n",
    "        cosine_similarity = 1 - cosine(features_original, features_fake)\n",
    "        similarities.append(cosine_similarity)\n",
    "\n",
    "    return similarities"
   ]
  },
  {
   "cell_type": "code",
   "execution_count": 77,
   "id": "1bbdc999-fa6d-4005-b785-3c54a7bd89ee",
   "metadata": {},
   "outputs": [],
   "source": [
    "def calculate_class2_sim():\n",
    "    similarities = []\n",
    "    for i in range(0, 20):\n",
    "        class2_original = class2_original_images[i].unsqueeze(dim=0).to(device)\n",
    "        class2_original = class2_original.repeat(1, 3, 1, 1)\n",
    "\n",
    "        class2_fake = class2_optimized_latent_vectors[i]\n",
    "        class2_fake_img = gen(class2_fake.to(device))\n",
    "        class2_fake_img = class2_fake_img.repeat(1, 3, 1, 1)\n",
    "\n",
    "        features_original = get_feature(class2_original)\n",
    "        features_fake = get_feature(class2_fake_img)\n",
    "\n",
    "        cosine_similarity = 1 - cosine(features_original, features_fake)\n",
    "        similarities.append(cosine_similarity)\n",
    "\n",
    "    return similarities"
   ]
  },
  {
   "cell_type": "code",
   "execution_count": 78,
   "id": "33cb8de1-5a87-4dd4-8fc2-d3f27d6ddc9a",
   "metadata": {},
   "outputs": [],
   "source": [
    "def calculate_class3_sim():\n",
    "    similarities = []\n",
    "    for i in range(0, 20):\n",
    "        class3_original = class3_original_images[i].unsqueeze(dim=0).to(device)\n",
    "        class3_original = class3_original.repeat(1, 3, 1, 1)\n",
    "\n",
    "        class3_fake = class3_optimized_latent_vectors[i]\n",
    "        class3_fake_img = gen(class3_fake.to(device))\n",
    "        class3_fake_img = class3_fake_img.repeat(1, 3, 1, 1)\n",
    "\n",
    "        features_original = get_feature(class3_original)\n",
    "        features_fake = get_feature(class3_fake_img)\n",
    "\n",
    "        cosine_similarity = 1 - cosine(features_original, features_fake)\n",
    "        similarities.append(cosine_similarity)\n",
    "\n",
    "    return similarities"
   ]
  },
  {
   "cell_type": "code",
   "execution_count": 80,
   "id": "7868f175-5845-4ee4-b4cf-1c89513375ec",
   "metadata": {},
   "outputs": [],
   "source": [
    "class0_sims = calculate_class0_sim()\n",
    "class1_sims = calculate_class0_sim()\n",
    "class2_sims = calculate_class0_sim()\n",
    "class3_sims = calculate_class0_sim()"
   ]
  },
  {
   "cell_type": "code",
   "execution_count": 86,
   "id": "bbf4597d-a583-4204-a3ce-9085936e0189",
   "metadata": {},
   "outputs": [
    {
     "data": {
      "text/plain": [
       "[np.float32(0.29117048),\n",
       " np.float32(0.48628712),\n",
       " np.float32(0.5032846),\n",
       " np.float32(0.28354788),\n",
       " np.float32(0.44745278),\n",
       " np.float32(0.44767308),\n",
       " np.float32(0.2351048),\n",
       " np.float32(0.4598552),\n",
       " np.float32(0.45231968),\n",
       " np.float32(0.3618793),\n",
       " np.float32(0.3869164),\n",
       " np.float32(0.4453771),\n",
       " np.float32(0.3385371),\n",
       " np.float32(0.3529564),\n",
       " np.float32(0.3561995),\n",
       " np.float32(0.4579624),\n",
       " np.float32(0.3641175),\n",
       " np.float32(0.38680285),\n",
       " np.float32(0.3020903),\n",
       " np.float32(0.43108445)]"
      ]
     },
     "execution_count": 86,
     "metadata": {},
     "output_type": "execute_result"
    }
   ],
   "source": [
    "class0_sims"
   ]
  },
  {
   "cell_type": "code",
   "execution_count": 88,
   "id": "acb9d480-a58f-4ce6-8973-eb9c8d6e7253",
   "metadata": {},
   "outputs": [
    {
     "data": {
      "text/plain": [
       "[np.float32(0.29117006),\n",
       " np.float32(0.4862876),\n",
       " np.float32(0.5032846),\n",
       " np.float32(0.28354782),\n",
       " np.float32(0.44745266),\n",
       " np.float32(0.44767326),\n",
       " np.float32(0.2351048),\n",
       " np.float32(0.45985436),\n",
       " np.float32(0.45231962),\n",
       " np.float32(0.36187917),\n",
       " np.float32(0.3869164),\n",
       " np.float32(0.44537717),\n",
       " np.float32(0.3385371),\n",
       " np.float32(0.3529564),\n",
       " np.float32(0.35620034),\n",
       " np.float32(0.45796275),\n",
       " np.float32(0.3641166),\n",
       " np.float32(0.3868028),\n",
       " np.float32(0.30209005),\n",
       " np.float32(0.4310845)]"
      ]
     },
     "execution_count": 88,
     "metadata": {},
     "output_type": "execute_result"
    }
   ],
   "source": [
    "class3_sims"
   ]
  },
  {
   "cell_type": "code",
   "execution_count": 90,
   "id": "58dc103d-1c30-473a-adc3-fcd5ca5100a0",
   "metadata": {},
   "outputs": [
    {
     "ename": "FileNotFoundError",
     "evalue": "[Errno 2] No such file or directory: 'output/fedvg.png'",
     "output_type": "error",
     "traceback": [
      "\u001b[1;31m---------------------------------------------------------------------------\u001b[0m",
      "\u001b[1;31mFileNotFoundError\u001b[0m                         Traceback (most recent call last)",
      "Cell \u001b[1;32mIn[90], line 42\u001b[0m\n\u001b[0;32m     40\u001b[0m plt\u001b[38;5;241m.\u001b[39mtight_layout()\n\u001b[0;32m     41\u001b[0m \u001b[38;5;66;03m# Save the plot to a file\u001b[39;00m\n\u001b[1;32m---> 42\u001b[0m \u001b[43mplt\u001b[49m\u001b[38;5;241;43m.\u001b[39;49m\u001b[43msavefig\u001b[49m\u001b[43m(\u001b[49m\u001b[38;5;124;43m'\u001b[39;49m\u001b[38;5;124;43moutput/fedvg.png\u001b[39;49m\u001b[38;5;124;43m'\u001b[39;49m\u001b[43m,\u001b[49m\u001b[43m \u001b[49m\u001b[43mdpi\u001b[49m\u001b[38;5;241;43m=\u001b[39;49m\u001b[38;5;241;43m300\u001b[39;49m\u001b[43m,\u001b[49m\u001b[43m \u001b[49m\u001b[43mbbox_inches\u001b[49m\u001b[38;5;241;43m=\u001b[39;49m\u001b[38;5;124;43m'\u001b[39;49m\u001b[38;5;124;43mtight\u001b[39;49m\u001b[38;5;124;43m'\u001b[39;49m\u001b[43m)\u001b[49m  \u001b[38;5;66;03m# Save as a PNG file with high resolution\u001b[39;00m\n\u001b[0;32m     44\u001b[0m \u001b[38;5;66;03m# Show the plot\u001b[39;00m\n\u001b[0;32m     45\u001b[0m plt\u001b[38;5;241m.\u001b[39mshow()\n",
      "File \u001b[1;32m~\\AppData\\Local\\Programs\\Python\\Python39\\lib\\site-packages\\matplotlib\\pyplot.py:1228\u001b[0m, in \u001b[0;36msavefig\u001b[1;34m(*args, **kwargs)\u001b[0m\n\u001b[0;32m   1225\u001b[0m fig \u001b[38;5;241m=\u001b[39m gcf()\n\u001b[0;32m   1226\u001b[0m \u001b[38;5;66;03m# savefig default implementation has no return, so mypy is unhappy\u001b[39;00m\n\u001b[0;32m   1227\u001b[0m \u001b[38;5;66;03m# presumably this is here because subclasses can return?\u001b[39;00m\n\u001b[1;32m-> 1228\u001b[0m res \u001b[38;5;241m=\u001b[39m fig\u001b[38;5;241m.\u001b[39msavefig(\u001b[38;5;241m*\u001b[39margs, \u001b[38;5;241m*\u001b[39m\u001b[38;5;241m*\u001b[39mkwargs)  \u001b[38;5;66;03m# type: ignore[func-returns-value]\u001b[39;00m\n\u001b[0;32m   1229\u001b[0m fig\u001b[38;5;241m.\u001b[39mcanvas\u001b[38;5;241m.\u001b[39mdraw_idle()  \u001b[38;5;66;03m# Need this if 'transparent=True', to reset colors.\u001b[39;00m\n\u001b[0;32m   1230\u001b[0m \u001b[38;5;28;01mreturn\u001b[39;00m res\n",
      "File \u001b[1;32m~\\AppData\\Local\\Programs\\Python\\Python39\\lib\\site-packages\\matplotlib\\figure.py:3395\u001b[0m, in \u001b[0;36mFigure.savefig\u001b[1;34m(self, fname, transparent, **kwargs)\u001b[0m\n\u001b[0;32m   3393\u001b[0m     \u001b[38;5;28;01mfor\u001b[39;00m ax \u001b[38;5;129;01min\u001b[39;00m \u001b[38;5;28mself\u001b[39m\u001b[38;5;241m.\u001b[39maxes:\n\u001b[0;32m   3394\u001b[0m         _recursively_make_axes_transparent(stack, ax)\n\u001b[1;32m-> 3395\u001b[0m \u001b[38;5;28mself\u001b[39m\u001b[38;5;241m.\u001b[39mcanvas\u001b[38;5;241m.\u001b[39mprint_figure(fname, \u001b[38;5;241m*\u001b[39m\u001b[38;5;241m*\u001b[39mkwargs)\n",
      "File \u001b[1;32m~\\AppData\\Local\\Programs\\Python\\Python39\\lib\\site-packages\\matplotlib\\backend_bases.py:2204\u001b[0m, in \u001b[0;36mFigureCanvasBase.print_figure\u001b[1;34m(self, filename, dpi, facecolor, edgecolor, orientation, format, bbox_inches, pad_inches, bbox_extra_artists, backend, **kwargs)\u001b[0m\n\u001b[0;32m   2200\u001b[0m \u001b[38;5;28;01mtry\u001b[39;00m:\n\u001b[0;32m   2201\u001b[0m     \u001b[38;5;66;03m# _get_renderer may change the figure dpi (as vector formats\u001b[39;00m\n\u001b[0;32m   2202\u001b[0m     \u001b[38;5;66;03m# force the figure dpi to 72), so we need to set it again here.\u001b[39;00m\n\u001b[0;32m   2203\u001b[0m     \u001b[38;5;28;01mwith\u001b[39;00m cbook\u001b[38;5;241m.\u001b[39m_setattr_cm(\u001b[38;5;28mself\u001b[39m\u001b[38;5;241m.\u001b[39mfigure, dpi\u001b[38;5;241m=\u001b[39mdpi):\n\u001b[1;32m-> 2204\u001b[0m         result \u001b[38;5;241m=\u001b[39m print_method(\n\u001b[0;32m   2205\u001b[0m             filename,\n\u001b[0;32m   2206\u001b[0m             facecolor\u001b[38;5;241m=\u001b[39mfacecolor,\n\u001b[0;32m   2207\u001b[0m             edgecolor\u001b[38;5;241m=\u001b[39medgecolor,\n\u001b[0;32m   2208\u001b[0m             orientation\u001b[38;5;241m=\u001b[39morientation,\n\u001b[0;32m   2209\u001b[0m             bbox_inches_restore\u001b[38;5;241m=\u001b[39m_bbox_inches_restore,\n\u001b[0;32m   2210\u001b[0m             \u001b[38;5;241m*\u001b[39m\u001b[38;5;241m*\u001b[39mkwargs)\n\u001b[0;32m   2211\u001b[0m \u001b[38;5;28;01mfinally\u001b[39;00m:\n\u001b[0;32m   2212\u001b[0m     \u001b[38;5;28;01mif\u001b[39;00m bbox_inches \u001b[38;5;129;01mand\u001b[39;00m restore_bbox:\n",
      "File \u001b[1;32m~\\AppData\\Local\\Programs\\Python\\Python39\\lib\\site-packages\\matplotlib\\backend_bases.py:2054\u001b[0m, in \u001b[0;36mFigureCanvasBase._switch_canvas_and_return_print_method.<locals>.<lambda>\u001b[1;34m(*args, **kwargs)\u001b[0m\n\u001b[0;32m   2050\u001b[0m     optional_kws \u001b[38;5;241m=\u001b[39m {  \u001b[38;5;66;03m# Passed by print_figure for other renderers.\u001b[39;00m\n\u001b[0;32m   2051\u001b[0m         \u001b[38;5;124m\"\u001b[39m\u001b[38;5;124mdpi\u001b[39m\u001b[38;5;124m\"\u001b[39m, \u001b[38;5;124m\"\u001b[39m\u001b[38;5;124mfacecolor\u001b[39m\u001b[38;5;124m\"\u001b[39m, \u001b[38;5;124m\"\u001b[39m\u001b[38;5;124medgecolor\u001b[39m\u001b[38;5;124m\"\u001b[39m, \u001b[38;5;124m\"\u001b[39m\u001b[38;5;124morientation\u001b[39m\u001b[38;5;124m\"\u001b[39m,\n\u001b[0;32m   2052\u001b[0m         \u001b[38;5;124m\"\u001b[39m\u001b[38;5;124mbbox_inches_restore\u001b[39m\u001b[38;5;124m\"\u001b[39m}\n\u001b[0;32m   2053\u001b[0m     skip \u001b[38;5;241m=\u001b[39m optional_kws \u001b[38;5;241m-\u001b[39m {\u001b[38;5;241m*\u001b[39minspect\u001b[38;5;241m.\u001b[39msignature(meth)\u001b[38;5;241m.\u001b[39mparameters}\n\u001b[1;32m-> 2054\u001b[0m     print_method \u001b[38;5;241m=\u001b[39m functools\u001b[38;5;241m.\u001b[39mwraps(meth)(\u001b[38;5;28;01mlambda\u001b[39;00m \u001b[38;5;241m*\u001b[39margs, \u001b[38;5;241m*\u001b[39m\u001b[38;5;241m*\u001b[39mkwargs: meth(\n\u001b[0;32m   2055\u001b[0m         \u001b[38;5;241m*\u001b[39margs, \u001b[38;5;241m*\u001b[39m\u001b[38;5;241m*\u001b[39m{k: v \u001b[38;5;28;01mfor\u001b[39;00m k, v \u001b[38;5;129;01min\u001b[39;00m kwargs\u001b[38;5;241m.\u001b[39mitems() \u001b[38;5;28;01mif\u001b[39;00m k \u001b[38;5;129;01mnot\u001b[39;00m \u001b[38;5;129;01min\u001b[39;00m skip}))\n\u001b[0;32m   2056\u001b[0m \u001b[38;5;28;01melse\u001b[39;00m:  \u001b[38;5;66;03m# Let third-parties do as they see fit.\u001b[39;00m\n\u001b[0;32m   2057\u001b[0m     print_method \u001b[38;5;241m=\u001b[39m meth\n",
      "File \u001b[1;32m~\\AppData\\Local\\Programs\\Python\\Python39\\lib\\site-packages\\matplotlib\\backends\\backend_agg.py:496\u001b[0m, in \u001b[0;36mFigureCanvasAgg.print_png\u001b[1;34m(self, filename_or_obj, metadata, pil_kwargs)\u001b[0m\n\u001b[0;32m    449\u001b[0m \u001b[38;5;28;01mdef\u001b[39;00m\u001b[38;5;250m \u001b[39m\u001b[38;5;21mprint_png\u001b[39m(\u001b[38;5;28mself\u001b[39m, filename_or_obj, \u001b[38;5;241m*\u001b[39m, metadata\u001b[38;5;241m=\u001b[39m\u001b[38;5;28;01mNone\u001b[39;00m, pil_kwargs\u001b[38;5;241m=\u001b[39m\u001b[38;5;28;01mNone\u001b[39;00m):\n\u001b[0;32m    450\u001b[0m \u001b[38;5;250m    \u001b[39m\u001b[38;5;124;03m\"\"\"\u001b[39;00m\n\u001b[0;32m    451\u001b[0m \u001b[38;5;124;03m    Write the figure to a PNG file.\u001b[39;00m\n\u001b[0;32m    452\u001b[0m \n\u001b[1;32m   (...)\u001b[0m\n\u001b[0;32m    494\u001b[0m \u001b[38;5;124;03m        *metadata*, including the default 'Software' key.\u001b[39;00m\n\u001b[0;32m    495\u001b[0m \u001b[38;5;124;03m    \"\"\"\u001b[39;00m\n\u001b[1;32m--> 496\u001b[0m     \u001b[38;5;28;43mself\u001b[39;49m\u001b[38;5;241;43m.\u001b[39;49m\u001b[43m_print_pil\u001b[49m\u001b[43m(\u001b[49m\u001b[43mfilename_or_obj\u001b[49m\u001b[43m,\u001b[49m\u001b[43m \u001b[49m\u001b[38;5;124;43m\"\u001b[39;49m\u001b[38;5;124;43mpng\u001b[39;49m\u001b[38;5;124;43m\"\u001b[39;49m\u001b[43m,\u001b[49m\u001b[43m \u001b[49m\u001b[43mpil_kwargs\u001b[49m\u001b[43m,\u001b[49m\u001b[43m \u001b[49m\u001b[43mmetadata\u001b[49m\u001b[43m)\u001b[49m\n",
      "File \u001b[1;32m~\\AppData\\Local\\Programs\\Python\\Python39\\lib\\site-packages\\matplotlib\\backends\\backend_agg.py:445\u001b[0m, in \u001b[0;36mFigureCanvasAgg._print_pil\u001b[1;34m(self, filename_or_obj, fmt, pil_kwargs, metadata)\u001b[0m\n\u001b[0;32m    440\u001b[0m \u001b[38;5;250m\u001b[39m\u001b[38;5;124;03m\"\"\"\u001b[39;00m\n\u001b[0;32m    441\u001b[0m \u001b[38;5;124;03mDraw the canvas, then save it using `.image.imsave` (to which\u001b[39;00m\n\u001b[0;32m    442\u001b[0m \u001b[38;5;124;03m*pil_kwargs* and *metadata* are forwarded).\u001b[39;00m\n\u001b[0;32m    443\u001b[0m \u001b[38;5;124;03m\"\"\"\u001b[39;00m\n\u001b[0;32m    444\u001b[0m FigureCanvasAgg\u001b[38;5;241m.\u001b[39mdraw(\u001b[38;5;28mself\u001b[39m)\n\u001b[1;32m--> 445\u001b[0m \u001b[43mmpl\u001b[49m\u001b[38;5;241;43m.\u001b[39;49m\u001b[43mimage\u001b[49m\u001b[38;5;241;43m.\u001b[39;49m\u001b[43mimsave\u001b[49m\u001b[43m(\u001b[49m\n\u001b[0;32m    446\u001b[0m \u001b[43m    \u001b[49m\u001b[43mfilename_or_obj\u001b[49m\u001b[43m,\u001b[49m\u001b[43m \u001b[49m\u001b[38;5;28;43mself\u001b[39;49m\u001b[38;5;241;43m.\u001b[39;49m\u001b[43mbuffer_rgba\u001b[49m\u001b[43m(\u001b[49m\u001b[43m)\u001b[49m\u001b[43m,\u001b[49m\u001b[43m \u001b[49m\u001b[38;5;28;43mformat\u001b[39;49m\u001b[38;5;241;43m=\u001b[39;49m\u001b[43mfmt\u001b[49m\u001b[43m,\u001b[49m\u001b[43m \u001b[49m\u001b[43morigin\u001b[49m\u001b[38;5;241;43m=\u001b[39;49m\u001b[38;5;124;43m\"\u001b[39;49m\u001b[38;5;124;43mupper\u001b[39;49m\u001b[38;5;124;43m\"\u001b[39;49m\u001b[43m,\u001b[49m\n\u001b[0;32m    447\u001b[0m \u001b[43m    \u001b[49m\u001b[43mdpi\u001b[49m\u001b[38;5;241;43m=\u001b[39;49m\u001b[38;5;28;43mself\u001b[39;49m\u001b[38;5;241;43m.\u001b[39;49m\u001b[43mfigure\u001b[49m\u001b[38;5;241;43m.\u001b[39;49m\u001b[43mdpi\u001b[49m\u001b[43m,\u001b[49m\u001b[43m \u001b[49m\u001b[43mmetadata\u001b[49m\u001b[38;5;241;43m=\u001b[39;49m\u001b[43mmetadata\u001b[49m\u001b[43m,\u001b[49m\u001b[43m \u001b[49m\u001b[43mpil_kwargs\u001b[49m\u001b[38;5;241;43m=\u001b[39;49m\u001b[43mpil_kwargs\u001b[49m\u001b[43m)\u001b[49m\n",
      "File \u001b[1;32m~\\AppData\\Local\\Programs\\Python\\Python39\\lib\\site-packages\\matplotlib\\image.py:1676\u001b[0m, in \u001b[0;36mimsave\u001b[1;34m(fname, arr, vmin, vmax, cmap, format, origin, dpi, metadata, pil_kwargs)\u001b[0m\n\u001b[0;32m   1674\u001b[0m pil_kwargs\u001b[38;5;241m.\u001b[39msetdefault(\u001b[38;5;124m\"\u001b[39m\u001b[38;5;124mformat\u001b[39m\u001b[38;5;124m\"\u001b[39m, \u001b[38;5;28mformat\u001b[39m)\n\u001b[0;32m   1675\u001b[0m pil_kwargs\u001b[38;5;241m.\u001b[39msetdefault(\u001b[38;5;124m\"\u001b[39m\u001b[38;5;124mdpi\u001b[39m\u001b[38;5;124m\"\u001b[39m, (dpi, dpi))\n\u001b[1;32m-> 1676\u001b[0m image\u001b[38;5;241m.\u001b[39msave(fname, \u001b[38;5;241m*\u001b[39m\u001b[38;5;241m*\u001b[39mpil_kwargs)\n",
      "File \u001b[1;32m~\\AppData\\Local\\Programs\\Python\\Python39\\lib\\site-packages\\PIL\\Image.py:2436\u001b[0m, in \u001b[0;36mImage.save\u001b[1;34m(self, fp, format, **params)\u001b[0m\n\u001b[0;32m   2434\u001b[0m         fp \u001b[38;5;241m=\u001b[39m builtins\u001b[38;5;241m.\u001b[39mopen(filename, \u001b[38;5;124m\"\u001b[39m\u001b[38;5;124mr+b\u001b[39m\u001b[38;5;124m\"\u001b[39m)\n\u001b[0;32m   2435\u001b[0m     \u001b[38;5;28;01melse\u001b[39;00m:\n\u001b[1;32m-> 2436\u001b[0m         fp \u001b[38;5;241m=\u001b[39m \u001b[43mbuiltins\u001b[49m\u001b[38;5;241;43m.\u001b[39;49m\u001b[43mopen\u001b[49m\u001b[43m(\u001b[49m\u001b[43mfilename\u001b[49m\u001b[43m,\u001b[49m\u001b[43m \u001b[49m\u001b[38;5;124;43m\"\u001b[39;49m\u001b[38;5;124;43mw+b\u001b[39;49m\u001b[38;5;124;43m\"\u001b[39;49m\u001b[43m)\u001b[49m\n\u001b[0;32m   2438\u001b[0m \u001b[38;5;28;01mtry\u001b[39;00m:\n\u001b[0;32m   2439\u001b[0m     save_handler(\u001b[38;5;28mself\u001b[39m, fp, filename)\n",
      "\u001b[1;31mFileNotFoundError\u001b[0m: [Errno 2] No such file or directory: 'output/fedvg.png'"
     ]
    },
    {
     "data": {
      "image/png": "[encoded data removed]",
      "text/plain": [
       "<Figure size 650x420 with 1 Axes>"
      ]
     },
     "metadata": {},
     "output_type": "display_data"
    }
   ],
   "source": [
    "                                                        # VISUALIZE\n",
    "# NOTE: Class indexes now start from 1 so, previous class 0 = now class 1 and so on\n",
    "# FIG 1: Raw similarity plot\n",
    "\n",
    "import pandas as pd\n",
    "import numpy as np\n",
    "import matplotlib.pyplot as plt\n",
    "import seaborn as sns\n",
    "\n",
    "# Generate sample similarity data for four classes (each with 20 values in the range 0 to 1)\n",
    "class1_sim = class0_sims\n",
    "class2_sim = class1_sims\n",
    "class3_sim = class2_sims\n",
    "class4_sim = class3_sims\n",
    "\n",
    "# Set figure size\n",
    "plt.figure(figsize=(6.5, 4.2))  # Set the size of the figure (width, height)\n",
    "\n",
    "# Sample DataFrame with four columns\n",
    "data=pd.DataFrame({'Class 1':class1_sim,'Class 2':class2_sim,'Class 3':class3_sim,'Class 4':class4_sim})\n",
    "df = pd.DataFrame(data)\n",
    "\n",
    "# Plot the probability distributions\n",
    "#plt.figure(figsize=(10, 6))\n",
    "\n",
    "# Define colors and line styles for each column\n",
    "colors = ['#1f77b4', '#ff7f0e', '#2ca02c', '#d62728']\n",
    "linestyles = ['-.', '--', '-', '-']\n",
    "\n",
    "# Plot the probability distributions with unique colors and line styles\n",
    "for column, color, linestyle in zip(df.columns, colors, linestyles):\n",
    "    sns.kdeplot(df[column], label=column, color=color, linestyle=linestyle)\n",
    "\n",
    "#plt.title('Probability Distributions of Four Columns')\n",
    "plt.xlabel('Similarity',fontsize=12)\n",
    "plt.ylabel('Density',fontsize=12)\n",
    "plt.yticks(fontsize=12)  # Set y-tick labels font size\n",
    "plt.legend(loc='upper right',fontsize=12)  # Increase legend font size\n",
    "\n",
    "# Optimize layout\n",
    "plt.tight_layout()\n",
    "# Save the plot to a file\n",
    "plt.savefig('output/fedvg.png', dpi=300, bbox_inches='tight')  # Save as a PNG file with high resolution\n",
    "\n",
    "# Show the plot\n",
    "plt.show()\n"
   ]
  },
  {
   "cell_type": "code",
   "execution_count": 91,
   "id": "c71af78e-28e9-4564-9609-3039455bb875",
   "metadata": {},
   "outputs": [
    {
     "data": {
      "image/png": "[encoded data removed]",
      "text/plain": [
       "<Figure size 750x500 with 1 Axes>"
      ]
     },
     "metadata": {},
     "output_type": "display_data"
    }
   ],
   "source": [
    "# FIG 2: DIFFERENCES IN COSINE SIMILARITY\n",
    "\n",
    "# For each class, we have 20 similarity values — one per image — showing how similar fake and real versions are.These values are very close across classes\n",
    "# So, to highlight subtle differences, compute and plot the difference between each pair of classes, value by value.\n",
    "# This gives you 20 values showing how much the similarity differs for each image between class 0 and class 1.\n",
    "# It's a magnified view of the gap between classes.\n",
    "# If the differences are tiny (e.g., 0.003), the plot helps make that visible and comparable.\n",
    "\n",
    "import numpy as np\n",
    "import matplotlib.pyplot as plt\n",
    "import seaborn as sns\n",
    "import pandas as pd\n",
    "\n",
    "# Differences between class distributions (pairwise)\n",
    "diff_12 = np.array(class2_sim) - np.array(class1_sim)\n",
    "diff_13 = np.array(class3_sim) - np.array(class1_sim)\n",
    "diff_14 = np.array(class4_sim) - np.array(class1_sim)\n",
    "diff_23 = np.array(class3_sim) - np.array(class2_sim)\n",
    "diff_24 = np.array(class4_sim) - np.array(class2_sim)\n",
    "diff_34 = np.array(class4_sim) - np.array(class3_sim)\n",
    "\n",
    "# Create a DataFrame\n",
    "diff_df = pd.DataFrame({\n",
    "    'Class 2 - Class 1': diff_12,\n",
    "    'Class 3 - Class 1': diff_13,\n",
    "    'Class 4 - Class 1': diff_14,\n",
    "    'Class 3 - Class 2': diff_23,\n",
    "    'Class 4 - Class 2': diff_24,\n",
    "    'Class 4 - Class 3': diff_34,\n",
    "})\n",
    "\n",
    "# Plot\n",
    "plt.figure(figsize=(7.5, 5))\n",
    "\n",
    "colors = sns.color_palette(\"tab10\", n_colors=6)\n",
    "\n",
    "for column, color in zip(diff_df.columns, colors):\n",
    "    sns.kdeplot(diff_df[column], label=column, color=color, linestyle='-')\n",
    "\n",
    "plt.axvline(0, color='black', linestyle='--', linewidth=1)  # reference line at 0\n",
    "plt.xlabel('Difference in Similarity', fontsize=12)\n",
    "plt.ylabel('Density', fontsize=12)\n",
    "plt.legend(fontsize=10)\n",
    "plt.title(\"Pairwise Differences in Cosine Similarity\", fontsize=13)\n",
    "plt.tight_layout()\n",
    "plt.show()"
   ]
  },
  {
   "cell_type": "code",
   "execution_count": 102,
   "id": "362bf182-7927-4ce2-bf5a-97299d426bc4",
   "metadata": {},
   "outputs": [],
   "source": [
    "def calculate_interclass_similarity(first, second):\n",
    "    similarities = []\n",
    "\n",
    "    first_images = []\n",
    "    second_images = []\n",
    "    if first == 'class1':\n",
    "        first_images = class0_original_images.copy()\n",
    "    elif first == 'class2':\n",
    "        first_images = class1_original_images.copy()\n",
    "    elif first == 'class3':\n",
    "        first_images = class2_original_images.copy()\n",
    "    elif first == 'class4':\n",
    "        first_images = class3_original_images.copy()\n",
    "\n",
    "    if second == 'class1':\n",
    "        second_images = class0_original_images.copy()\n",
    "    elif second == 'class2':\n",
    "        second_images = class1_original_images.copy()\n",
    "    elif second == 'class3':\n",
    "        second_images = class2_original_images.copy()\n",
    "    elif second == 'class4':\n",
    "        second_images = class3_original_images.copy()\n",
    "    \n",
    "    for i in range(0, 20):\n",
    "        first_image = first_images[i].unsqueeze(dim=0).to(device)\n",
    "        first_image = first_image.repeat(1, 3, 1, 1)\n",
    "        \n",
    "        second_image = second_images[i].unsqueeze(dim=0).to(device)\n",
    "        second_image = second_image.repeat(1, 3, 1, 1)\n",
    "        \n",
    "        features_first = get_feature(first_image)\n",
    "        features_second = get_feature(second_image)\n",
    "\n",
    "        cosine_similarity = 1 - cosine(features_first, features_second)\n",
    "        similarities.append(cosine_similarity)\n",
    "\n",
    "    return similarities"
   ]
  },
  {
   "cell_type": "code",
   "execution_count": 103,
   "id": "5954dfe3-cb08-4551-a5f9-d2082ac3d604",
   "metadata": {},
   "outputs": [],
   "source": [
    "class1class2 = calculate_interclass_similarity('class1', 'class2')"
   ]
  },
  {
   "cell_type": "code",
   "execution_count": 105,
   "id": "cd5ab50d-9d9d-443b-bea5-2d6e302e2bf4",
   "metadata": {},
   "outputs": [
    {
     "data": {
      "text/plain": [
       "[np.float32(0.92668736),\n",
       " np.float32(0.9234537),\n",
       " np.float32(0.8914366),\n",
       " np.float32(0.85996324),\n",
       " np.float32(0.9045878),\n",
       " np.float32(0.8661933),\n",
       " np.float32(0.8529511),\n",
       " np.float32(0.8320824),\n",
       " np.float32(0.81313324),\n",
       " np.float32(0.9028811),\n",
       " np.float32(0.9157124),\n",
       " np.float32(0.83247995),\n",
       " np.float32(0.9164997),\n",
       " np.float32(0.84919524),\n",
       " np.float32(0.90398437),\n",
       " np.float32(0.8242637),\n",
       " np.float32(0.78115076),\n",
       " np.float32(0.80533254),\n",
       " np.float32(0.92938054),\n",
       " np.float32(0.89034694)]"
      ]
     },
     "execution_count": 105,
     "metadata": {},
     "output_type": "execute_result"
    }
   ],
   "source": [
    "class1class2"
   ]
  },
  {
   "cell_type": "code",
   "execution_count": 106,
   "id": "29441f40-36a7-4854-98be-5d128bae49cd",
   "metadata": {},
   "outputs": [
    {
     "ename": "FileNotFoundError",
     "evalue": "[Errno 2] No such file or directory: 'output/VoiceDivergenceD3.png'",
     "output_type": "error",
     "traceback": [
      "\u001b[1;31m---------------------------------------------------------------------------\u001b[0m",
      "\u001b[1;31mFileNotFoundError\u001b[0m                         Traceback (most recent call last)",
      "Cell \u001b[1;32mIn[106], line 42\u001b[0m\n\u001b[0;32m     40\u001b[0m plt\u001b[38;5;241m.\u001b[39mtight_layout()\n\u001b[0;32m     41\u001b[0m \u001b[38;5;66;03m# Save the plot to a file\u001b[39;00m\n\u001b[1;32m---> 42\u001b[0m \u001b[43mplt\u001b[49m\u001b[38;5;241;43m.\u001b[39;49m\u001b[43msavefig\u001b[49m\u001b[43m(\u001b[49m\u001b[38;5;124;43m'\u001b[39;49m\u001b[38;5;124;43moutput/VoiceDivergenceD3.png\u001b[39;49m\u001b[38;5;124;43m'\u001b[39;49m\u001b[43m,\u001b[49m\u001b[43m \u001b[49m\u001b[43mdpi\u001b[49m\u001b[38;5;241;43m=\u001b[39;49m\u001b[38;5;241;43m300\u001b[39;49m\u001b[43m,\u001b[49m\u001b[43m \u001b[49m\u001b[43mbbox_inches\u001b[49m\u001b[38;5;241;43m=\u001b[39;49m\u001b[38;5;124;43m'\u001b[39;49m\u001b[38;5;124;43mtight\u001b[39;49m\u001b[38;5;124;43m'\u001b[39;49m\u001b[43m)\u001b[49m  \u001b[38;5;66;03m# Save as a PNG file with high resolution\u001b[39;00m\n\u001b[0;32m     44\u001b[0m \u001b[38;5;66;03m# Show the plot\u001b[39;00m\n\u001b[0;32m     45\u001b[0m plt\u001b[38;5;241m.\u001b[39mshow()\n",
      "File \u001b[1;32m~\\AppData\\Local\\Programs\\Python\\Python39\\lib\\site-packages\\matplotlib\\pyplot.py:1228\u001b[0m, in \u001b[0;36msavefig\u001b[1;34m(*args, **kwargs)\u001b[0m\n\u001b[0;32m   1225\u001b[0m fig \u001b[38;5;241m=\u001b[39m gcf()\n\u001b[0;32m   1226\u001b[0m \u001b[38;5;66;03m# savefig default implementation has no return, so mypy is unhappy\u001b[39;00m\n\u001b[0;32m   1227\u001b[0m \u001b[38;5;66;03m# presumably this is here because subclasses can return?\u001b[39;00m\n\u001b[1;32m-> 1228\u001b[0m res \u001b[38;5;241m=\u001b[39m fig\u001b[38;5;241m.\u001b[39msavefig(\u001b[38;5;241m*\u001b[39margs, \u001b[38;5;241m*\u001b[39m\u001b[38;5;241m*\u001b[39mkwargs)  \u001b[38;5;66;03m# type: ignore[func-returns-value]\u001b[39;00m\n\u001b[0;32m   1229\u001b[0m fig\u001b[38;5;241m.\u001b[39mcanvas\u001b[38;5;241m.\u001b[39mdraw_idle()  \u001b[38;5;66;03m# Need this if 'transparent=True', to reset colors.\u001b[39;00m\n\u001b[0;32m   1230\u001b[0m \u001b[38;5;28;01mreturn\u001b[39;00m res\n",
      "File \u001b[1;32m~\\AppData\\Local\\Programs\\Python\\Python39\\lib\\site-packages\\matplotlib\\figure.py:3395\u001b[0m, in \u001b[0;36mFigure.savefig\u001b[1;34m(self, fname, transparent, **kwargs)\u001b[0m\n\u001b[0;32m   3393\u001b[0m     \u001b[38;5;28;01mfor\u001b[39;00m ax \u001b[38;5;129;01min\u001b[39;00m \u001b[38;5;28mself\u001b[39m\u001b[38;5;241m.\u001b[39maxes:\n\u001b[0;32m   3394\u001b[0m         _recursively_make_axes_transparent(stack, ax)\n\u001b[1;32m-> 3395\u001b[0m \u001b[38;5;28mself\u001b[39m\u001b[38;5;241m.\u001b[39mcanvas\u001b[38;5;241m.\u001b[39mprint_figure(fname, \u001b[38;5;241m*\u001b[39m\u001b[38;5;241m*\u001b[39mkwargs)\n",
      "File \u001b[1;32m~\\AppData\\Local\\Programs\\Python\\Python39\\lib\\site-packages\\matplotlib\\backend_bases.py:2204\u001b[0m, in \u001b[0;36mFigureCanvasBase.print_figure\u001b[1;34m(self, filename, dpi, facecolor, edgecolor, orientation, format, bbox_inches, pad_inches, bbox_extra_artists, backend, **kwargs)\u001b[0m\n\u001b[0;32m   2200\u001b[0m \u001b[38;5;28;01mtry\u001b[39;00m:\n\u001b[0;32m   2201\u001b[0m     \u001b[38;5;66;03m# _get_renderer may change the figure dpi (as vector formats\u001b[39;00m\n\u001b[0;32m   2202\u001b[0m     \u001b[38;5;66;03m# force the figure dpi to 72), so we need to set it again here.\u001b[39;00m\n\u001b[0;32m   2203\u001b[0m     \u001b[38;5;28;01mwith\u001b[39;00m cbook\u001b[38;5;241m.\u001b[39m_setattr_cm(\u001b[38;5;28mself\u001b[39m\u001b[38;5;241m.\u001b[39mfigure, dpi\u001b[38;5;241m=\u001b[39mdpi):\n\u001b[1;32m-> 2204\u001b[0m         result \u001b[38;5;241m=\u001b[39m print_method(\n\u001b[0;32m   2205\u001b[0m             filename,\n\u001b[0;32m   2206\u001b[0m             facecolor\u001b[38;5;241m=\u001b[39mfacecolor,\n\u001b[0;32m   2207\u001b[0m             edgecolor\u001b[38;5;241m=\u001b[39medgecolor,\n\u001b[0;32m   2208\u001b[0m             orientation\u001b[38;5;241m=\u001b[39morientation,\n\u001b[0;32m   2209\u001b[0m             bbox_inches_restore\u001b[38;5;241m=\u001b[39m_bbox_inches_restore,\n\u001b[0;32m   2210\u001b[0m             \u001b[38;5;241m*\u001b[39m\u001b[38;5;241m*\u001b[39mkwargs)\n\u001b[0;32m   2211\u001b[0m \u001b[38;5;28;01mfinally\u001b[39;00m:\n\u001b[0;32m   2212\u001b[0m     \u001b[38;5;28;01mif\u001b[39;00m bbox_inches \u001b[38;5;129;01mand\u001b[39;00m restore_bbox:\n",
      "File \u001b[1;32m~\\AppData\\Local\\Programs\\Python\\Python39\\lib\\site-packages\\matplotlib\\backend_bases.py:2054\u001b[0m, in \u001b[0;36mFigureCanvasBase._switch_canvas_and_return_print_method.<locals>.<lambda>\u001b[1;34m(*args, **kwargs)\u001b[0m\n\u001b[0;32m   2050\u001b[0m     optional_kws \u001b[38;5;241m=\u001b[39m {  \u001b[38;5;66;03m# Passed by print_figure for other renderers.\u001b[39;00m\n\u001b[0;32m   2051\u001b[0m         \u001b[38;5;124m\"\u001b[39m\u001b[38;5;124mdpi\u001b[39m\u001b[38;5;124m\"\u001b[39m, \u001b[38;5;124m\"\u001b[39m\u001b[38;5;124mfacecolor\u001b[39m\u001b[38;5;124m\"\u001b[39m, \u001b[38;5;124m\"\u001b[39m\u001b[38;5;124medgecolor\u001b[39m\u001b[38;5;124m\"\u001b[39m, \u001b[38;5;124m\"\u001b[39m\u001b[38;5;124morientation\u001b[39m\u001b[38;5;124m\"\u001b[39m,\n\u001b[0;32m   2052\u001b[0m         \u001b[38;5;124m\"\u001b[39m\u001b[38;5;124mbbox_inches_restore\u001b[39m\u001b[38;5;124m\"\u001b[39m}\n\u001b[0;32m   2053\u001b[0m     skip \u001b[38;5;241m=\u001b[39m optional_kws \u001b[38;5;241m-\u001b[39m {\u001b[38;5;241m*\u001b[39minspect\u001b[38;5;241m.\u001b[39msignature(meth)\u001b[38;5;241m.\u001b[39mparameters}\n\u001b[1;32m-> 2054\u001b[0m     print_method \u001b[38;5;241m=\u001b[39m functools\u001b[38;5;241m.\u001b[39mwraps(meth)(\u001b[38;5;28;01mlambda\u001b[39;00m \u001b[38;5;241m*\u001b[39margs, \u001b[38;5;241m*\u001b[39m\u001b[38;5;241m*\u001b[39mkwargs: meth(\n\u001b[0;32m   2055\u001b[0m         \u001b[38;5;241m*\u001b[39margs, \u001b[38;5;241m*\u001b[39m\u001b[38;5;241m*\u001b[39m{k: v \u001b[38;5;28;01mfor\u001b[39;00m k, v \u001b[38;5;129;01min\u001b[39;00m kwargs\u001b[38;5;241m.\u001b[39mitems() \u001b[38;5;28;01mif\u001b[39;00m k \u001b[38;5;129;01mnot\u001b[39;00m \u001b[38;5;129;01min\u001b[39;00m skip}))\n\u001b[0;32m   2056\u001b[0m \u001b[38;5;28;01melse\u001b[39;00m:  \u001b[38;5;66;03m# Let third-parties do as they see fit.\u001b[39;00m\n\u001b[0;32m   2057\u001b[0m     print_method \u001b[38;5;241m=\u001b[39m meth\n",
      "File \u001b[1;32m~\\AppData\\Local\\Programs\\Python\\Python39\\lib\\site-packages\\matplotlib\\backends\\backend_agg.py:496\u001b[0m, in \u001b[0;36mFigureCanvasAgg.print_png\u001b[1;34m(self, filename_or_obj, metadata, pil_kwargs)\u001b[0m\n\u001b[0;32m    449\u001b[0m \u001b[38;5;28;01mdef\u001b[39;00m\u001b[38;5;250m \u001b[39m\u001b[38;5;21mprint_png\u001b[39m(\u001b[38;5;28mself\u001b[39m, filename_or_obj, \u001b[38;5;241m*\u001b[39m, metadata\u001b[38;5;241m=\u001b[39m\u001b[38;5;28;01mNone\u001b[39;00m, pil_kwargs\u001b[38;5;241m=\u001b[39m\u001b[38;5;28;01mNone\u001b[39;00m):\n\u001b[0;32m    450\u001b[0m \u001b[38;5;250m    \u001b[39m\u001b[38;5;124;03m\"\"\"\u001b[39;00m\n\u001b[0;32m    451\u001b[0m \u001b[38;5;124;03m    Write the figure to a PNG file.\u001b[39;00m\n\u001b[0;32m    452\u001b[0m \n\u001b[1;32m   (...)\u001b[0m\n\u001b[0;32m    494\u001b[0m \u001b[38;5;124;03m        *metadata*, including the default 'Software' key.\u001b[39;00m\n\u001b[0;32m    495\u001b[0m \u001b[38;5;124;03m    \"\"\"\u001b[39;00m\n\u001b[1;32m--> 496\u001b[0m     \u001b[38;5;28;43mself\u001b[39;49m\u001b[38;5;241;43m.\u001b[39;49m\u001b[43m_print_pil\u001b[49m\u001b[43m(\u001b[49m\u001b[43mfilename_or_obj\u001b[49m\u001b[43m,\u001b[49m\u001b[43m \u001b[49m\u001b[38;5;124;43m\"\u001b[39;49m\u001b[38;5;124;43mpng\u001b[39;49m\u001b[38;5;124;43m\"\u001b[39;49m\u001b[43m,\u001b[49m\u001b[43m \u001b[49m\u001b[43mpil_kwargs\u001b[49m\u001b[43m,\u001b[49m\u001b[43m \u001b[49m\u001b[43mmetadata\u001b[49m\u001b[43m)\u001b[49m\n",
      "File \u001b[1;32m~\\AppData\\Local\\Programs\\Python\\Python39\\lib\\site-packages\\matplotlib\\backends\\backend_agg.py:445\u001b[0m, in \u001b[0;36mFigureCanvasAgg._print_pil\u001b[1;34m(self, filename_or_obj, fmt, pil_kwargs, metadata)\u001b[0m\n\u001b[0;32m    440\u001b[0m \u001b[38;5;250m\u001b[39m\u001b[38;5;124;03m\"\"\"\u001b[39;00m\n\u001b[0;32m    441\u001b[0m \u001b[38;5;124;03mDraw the canvas, then save it using `.image.imsave` (to which\u001b[39;00m\n\u001b[0;32m    442\u001b[0m \u001b[38;5;124;03m*pil_kwargs* and *metadata* are forwarded).\u001b[39;00m\n\u001b[0;32m    443\u001b[0m \u001b[38;5;124;03m\"\"\"\u001b[39;00m\n\u001b[0;32m    444\u001b[0m FigureCanvasAgg\u001b[38;5;241m.\u001b[39mdraw(\u001b[38;5;28mself\u001b[39m)\n\u001b[1;32m--> 445\u001b[0m \u001b[43mmpl\u001b[49m\u001b[38;5;241;43m.\u001b[39;49m\u001b[43mimage\u001b[49m\u001b[38;5;241;43m.\u001b[39;49m\u001b[43mimsave\u001b[49m\u001b[43m(\u001b[49m\n\u001b[0;32m    446\u001b[0m \u001b[43m    \u001b[49m\u001b[43mfilename_or_obj\u001b[49m\u001b[43m,\u001b[49m\u001b[43m \u001b[49m\u001b[38;5;28;43mself\u001b[39;49m\u001b[38;5;241;43m.\u001b[39;49m\u001b[43mbuffer_rgba\u001b[49m\u001b[43m(\u001b[49m\u001b[43m)\u001b[49m\u001b[43m,\u001b[49m\u001b[43m \u001b[49m\u001b[38;5;28;43mformat\u001b[39;49m\u001b[38;5;241;43m=\u001b[39;49m\u001b[43mfmt\u001b[49m\u001b[43m,\u001b[49m\u001b[43m \u001b[49m\u001b[43morigin\u001b[49m\u001b[38;5;241;43m=\u001b[39;49m\u001b[38;5;124;43m\"\u001b[39;49m\u001b[38;5;124;43mupper\u001b[39;49m\u001b[38;5;124;43m\"\u001b[39;49m\u001b[43m,\u001b[49m\n\u001b[0;32m    447\u001b[0m \u001b[43m    \u001b[49m\u001b[43mdpi\u001b[49m\u001b[38;5;241;43m=\u001b[39;49m\u001b[38;5;28;43mself\u001b[39;49m\u001b[38;5;241;43m.\u001b[39;49m\u001b[43mfigure\u001b[49m\u001b[38;5;241;43m.\u001b[39;49m\u001b[43mdpi\u001b[49m\u001b[43m,\u001b[49m\u001b[43m \u001b[49m\u001b[43mmetadata\u001b[49m\u001b[38;5;241;43m=\u001b[39;49m\u001b[43mmetadata\u001b[49m\u001b[43m,\u001b[49m\u001b[43m \u001b[49m\u001b[43mpil_kwargs\u001b[49m\u001b[38;5;241;43m=\u001b[39;49m\u001b[43mpil_kwargs\u001b[49m\u001b[43m)\u001b[49m\n",
      "File \u001b[1;32m~\\AppData\\Local\\Programs\\Python\\Python39\\lib\\site-packages\\matplotlib\\image.py:1676\u001b[0m, in \u001b[0;36mimsave\u001b[1;34m(fname, arr, vmin, vmax, cmap, format, origin, dpi, metadata, pil_kwargs)\u001b[0m\n\u001b[0;32m   1674\u001b[0m pil_kwargs\u001b[38;5;241m.\u001b[39msetdefault(\u001b[38;5;124m\"\u001b[39m\u001b[38;5;124mformat\u001b[39m\u001b[38;5;124m\"\u001b[39m, \u001b[38;5;28mformat\u001b[39m)\n\u001b[0;32m   1675\u001b[0m pil_kwargs\u001b[38;5;241m.\u001b[39msetdefault(\u001b[38;5;124m\"\u001b[39m\u001b[38;5;124mdpi\u001b[39m\u001b[38;5;124m\"\u001b[39m, (dpi, dpi))\n\u001b[1;32m-> 1676\u001b[0m image\u001b[38;5;241m.\u001b[39msave(fname, \u001b[38;5;241m*\u001b[39m\u001b[38;5;241m*\u001b[39mpil_kwargs)\n",
      "File \u001b[1;32m~\\AppData\\Local\\Programs\\Python\\Python39\\lib\\site-packages\\PIL\\Image.py:2436\u001b[0m, in \u001b[0;36mImage.save\u001b[1;34m(self, fp, format, **params)\u001b[0m\n\u001b[0;32m   2434\u001b[0m         fp \u001b[38;5;241m=\u001b[39m builtins\u001b[38;5;241m.\u001b[39mopen(filename, \u001b[38;5;124m\"\u001b[39m\u001b[38;5;124mr+b\u001b[39m\u001b[38;5;124m\"\u001b[39m)\n\u001b[0;32m   2435\u001b[0m     \u001b[38;5;28;01melse\u001b[39;00m:\n\u001b[1;32m-> 2436\u001b[0m         fp \u001b[38;5;241m=\u001b[39m \u001b[43mbuiltins\u001b[49m\u001b[38;5;241;43m.\u001b[39;49m\u001b[43mopen\u001b[49m\u001b[43m(\u001b[49m\u001b[43mfilename\u001b[49m\u001b[43m,\u001b[49m\u001b[43m \u001b[49m\u001b[38;5;124;43m\"\u001b[39;49m\u001b[38;5;124;43mw+b\u001b[39;49m\u001b[38;5;124;43m\"\u001b[39;49m\u001b[43m)\u001b[49m\n\u001b[0;32m   2438\u001b[0m \u001b[38;5;28;01mtry\u001b[39;00m:\n\u001b[0;32m   2439\u001b[0m     save_handler(\u001b[38;5;28mself\u001b[39m, fp, filename)\n",
      "\u001b[1;31mFileNotFoundError\u001b[0m: [Errno 2] No such file or directory: 'output/VoiceDivergenceD3.png'"
     ]
    },
    {
     "data": {
      "image/png": "[encoded data removed]",
      "text/plain": [
       "<Figure size 650x420 with 1 Axes>"
      ]
     },
     "metadata": {},
     "output_type": "display_data"
    }
   ],
   "source": [
    "                                                # FIG: 3 -> INTERCLASS SIMILARITIES\n",
    "\n",
    "import pandas as pd\n",
    "import numpy as np\n",
    "import matplotlib.pyplot as plt\n",
    "import seaborn as sns\n",
    "\n",
    "# Set figure size\n",
    "plt.figure(figsize=(6.5, 4.2))  # Set the size of the figure (width, height)\n",
    "\n",
    "# Generate sample similarity data for four classes (each with 20 values in the range 0 to 1)\n",
    "np.random.seed(42)  # For reproducibility\n",
    "class1class2 = calculate_interclass_similarity('class1', 'class2')\n",
    "class1class3 = calculate_interclass_similarity('class1', 'class3')\n",
    "class1class4 = calculate_interclass_similarity('class1', 'class4')\n",
    "class2class3 = calculate_interclass_similarity('class2', 'class3')\n",
    "class2class4 = calculate_interclass_similarity('class2', 'class4')\n",
    "class3class4 = calculate_interclass_similarity('class3', 'class4')\n",
    "\n",
    "# Sample DataFrame with four columns\n",
    "data=pd.DataFrame({'Class1 vs Class2':class1class2,'Class1 vs Class3':class1class3,'Class1 vs Class4':class1class4,'Class2 vs Class3':class2class3,'Class2 vs Class4':class2class4,'Class3 vs Class4':class3class4})\n",
    "df = pd.DataFrame(data)\n",
    "\n",
    "# Plot the probability distributions\n",
    "#plt.figure(figsize=(10, 6))\n",
    "\n",
    "# Define colors and line styles for each column\n",
    "colors = ['#1f77b4', '#ff7f0e', '#2ca02c', '#d62728', '#9467bd', '#8c564b']\n",
    "linestyles = ['-.', '--', '-', '-', '-.', '--']\n",
    "\n",
    "# Plot the probability distributions with unique colors and line styles\n",
    "for column, color, linestyle in zip(df.columns, colors, linestyles):\n",
    "    sns.kdeplot(df[column], label=column, color=color, linestyle=linestyle)\n",
    "\n",
    "#plt.title('Probability Distributions of Four Columns')\n",
    "plt.xlabel('Similarity',fontsize=12)\n",
    "plt.ylabel('Density',fontsize=12)\n",
    "plt.yticks(fontsize=12)  # Set y-tick labels font size\n",
    "plt.legend(loc='upper right',fontsize=12)  # Increase legend font size\n",
    "\n",
    "# Optimize layout\n",
    "plt.tight_layout()\n",
    "# Save the plot to a file\n",
    "plt.savefig('output/VoiceDivergenceD3.png', dpi=300, bbox_inches='tight')  # Save as a PNG file with high resolution\n",
    "\n",
    "# Show the plot\n",
    "plt.show()"
   ]
  },
  {
   "cell_type": "code",
   "execution_count": null,
   "id": "19754eee-5c1e-47e6-bbaa-b2cef05a1641",
   "metadata": {},
   "outputs": [],
   "source": []
  }
 ],
 "metadata": {
  "kernelspec": {
   "display_name": "Python 3 (ipykernel)",
   "language": "python",
   "name": "python3"
  },
  "language_info": {
   "codemirror_mode": {
    "name": "ipython",
    "version": 3
   },
   "file_extension": ".py",
   "mimetype": "text/x-python",
   "name": "python",
   "nbconvert_exporter": "python",
   "pygments_lexer": "ipython3",
   "version": "3.9.7"
  }
 },
 "nbformat": 4,
 "nbformat_minor": 5
}
