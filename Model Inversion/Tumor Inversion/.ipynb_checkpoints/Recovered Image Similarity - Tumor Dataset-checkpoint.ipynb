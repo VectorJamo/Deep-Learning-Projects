{
 "cells": [
  {
   "cell_type": "code",
   "execution_count": 1,
   "id": "646b38c2-386a-4f83-a983-ea764ad8267f",
   "metadata": {},
   "outputs": [],
   "source": [
    "# Attempting to recover training data using model's parameters and a DCGAN that was trained on similar data\n",
    "# Author: Suraj Neupane\n",
    "# Written from scratch as a part of a Research Project 2025, Concordia University of Edmonton.\n",
    "import numpy as np\n",
    "\n",
    "import torch\n",
    "from torch import nn\n",
    "from torch.nn import functional\n",
    "\n",
    "from torch.utils import data\n",
    "from torch.utils.data import DataLoader\n",
    "\n",
    "import torchvision\n",
    "from torchvision import datasets\n",
    "from torchvision import transforms\n",
    "\n",
    "import pickle\n",
    "\n",
    "import matplotlib.pyplot as plt\n",
    "%matplotlib inline"
   ]
  },
  {
   "cell_type": "code",
   "execution_count": 2,
   "id": "8b80ddb2-ed75-4870-85b4-9300fce0df7e",
   "metadata": {},
   "outputs": [
    {
     "data": {
      "text/plain": [
       "'2.5.1+cu118'"
      ]
     },
     "execution_count": 2,
     "metadata": {},
     "output_type": "execute_result"
    }
   ],
   "source": [
    "torch.__version__"
   ]
  },
  {
   "cell_type": "code",
   "execution_count": 3,
   "id": "d6950585-eb31-4f61-bd60-5bf8716fcdef",
   "metadata": {},
   "outputs": [],
   "source": [
    "device = 'cuda' if torch.cuda.is_available() else 'cpu'"
   ]
  },
  {
   "cell_type": "code",
   "execution_count": 4,
   "id": "36c47e07-6b7d-4123-a59d-5d465f9ef280",
   "metadata": {},
   "outputs": [
    {
     "data": {
      "text/plain": [
       "'cuda'"
      ]
     },
     "execution_count": 4,
     "metadata": {},
     "output_type": "execute_result"
    }
   ],
   "source": [
    "device"
   ]
  },
  {
   "cell_type": "code",
   "execution_count": 5,
   "id": "b852ca55-f33e-469f-b7b9-e00d21124927",
   "metadata": {},
   "outputs": [],
   "source": [
    "# DCGAN Implementation Class\n",
    "# Discriminator\n",
    "class Discriminator(nn.Module):\n",
    "    def __init__(self, img_channels, features_d):\n",
    "        super().__init__()\n",
    "        self.disc = nn.Sequential(\n",
    "            # Input shape: img_channels x 64 x 64\n",
    "            nn.Conv2d(\n",
    "              in_channels=img_channels, out_channels=features_d, kernel_size=4, stride=2, padding=1\n",
    "            ), # Output shape: features_d x 32 x 32\n",
    "            nn.LeakyReLU(0.2),\n",
    "            self._block(features_d, features_d*2, 4, 2, 1), # Output shape: features_d*2 x 16 x 16\n",
    "            self._block(features_d*2, features_d*4, 4, 2, 1), # Output shape: features_d*4 x 8 x 8\n",
    "            self._block(features_d*4, features_d*8, 4, 2, 1), # Output shape: features_d*8 x 4 x 4\n",
    "           \n",
    "            nn.Conv2d(in_channels=features_d*8, out_channels=1, kernel_size=4, stride=2, padding=0), # Output shape: 1 x 1\n",
    "            nn.Sigmoid(),\n",
    "        )\n",
    "\n",
    "    def _block(self, in_channels, out_channels, kernel_size, stride, padding):\n",
    "        return nn.Sequential(\n",
    "            nn.Conv2d(in_channels, out_channels, kernel_size, stride, padding, bias=False),\n",
    "            nn.BatchNorm2d(out_channels),\n",
    "            nn.LeakyReLU(0.2),\n",
    "        )\n",
    "\n",
    "    def forward(self, X):\n",
    "        return self.disc(X)\n"
   ]
  },
  {
   "cell_type": "code",
   "execution_count": 6,
   "id": "5afe02e5-61d3-4f25-8933-8484e519cd4a",
   "metadata": {},
   "outputs": [],
   "source": [
    "# Generator\n",
    "class Generator(nn.Module):\n",
    "    def __init__(self, z_dim, img_channels, features_g):\n",
    "        super().__init__()\n",
    "        self.gen = nn.Sequential(\n",
    "            self._block(z_dim, features_g*16, 4, 1, 0), # z_dim: (batch_size, 100, 1, 1) -> (batch_size, 1024, 4, 4)\n",
    "            self._block(features_g*16, features_g*8, 4, 2, 1), # z_dim: (batch_size, 1024, 4, 4) -> (batch_size, 512, 8, 8)\n",
    "            self._block(features_g*8, features_g*4, 4, 2, 1), # z_dim: (batch_size, 512, 8, 8) -> (batch_size, 256, 16, 16)\n",
    "            self._block(features_g*4, features_g*2, 4, 2, 1), # z_dim: (batch_size, 128, 16, 16) -> (batch_size, 64, 32, 32)\n",
    "            nn.ConvTranspose2d(\n",
    "                in_channels=features_g*2, out_channels=img_channels, kernel_size=4, stride=2, padding=1 # z_dim: (batch_size, 64, 32, 32) -> (batch_size, 1, 64, 64)\n",
    "            ),\n",
    "            nn.Tanh(),\n",
    "        )\n",
    "        \n",
    "    def _block(self, in_channels, out_channels, kernel_size, stride, padding):\n",
    "        return nn.Sequential(\n",
    "            nn.ConvTranspose2d(\n",
    "                in_channels, out_channels, kernel_size, stride, padding, bias=False,\n",
    "            ),\n",
    "            nn.BatchNorm2d(out_channels),\n",
    "            nn.ReLU(),\n",
    "        )\n",
    "\n",
    "    def forward(self, X):\n",
    "        return self.gen(X)"
   ]
  },
  {
   "cell_type": "code",
   "execution_count": 7,
   "id": "48c1be35-d58a-4d0c-990d-9250fbdbf1b3",
   "metadata": {},
   "outputs": [],
   "source": [
    "# Hyperparams\n",
    "z_dim = 100\n",
    "img_channels = 1\n",
    "features_disc = 64\n",
    "features_gen = 64"
   ]
  },
  {
   "cell_type": "code",
   "execution_count": 8,
   "id": "f2dc1f40-5c2e-4903-b2e7-7abe5cae9772",
   "metadata": {},
   "outputs": [],
   "source": [
    "# Create the model instances\n",
    "gen = Generator(z_dim, img_channels, features_gen).to(device)\n",
    "disc = Discriminator(img_channels, features_disc).to(device)"
   ]
  },
  {
   "cell_type": "code",
   "execution_count": 9,
   "id": "bc7a5deb-f8d8-41d4-aed3-d012d39a84b9",
   "metadata": {},
   "outputs": [
    {
     "data": {
      "text/plain": [
       "<All keys matched successfully>"
      ]
     },
     "execution_count": 9,
     "metadata": {},
     "output_type": "execute_result"
    }
   ],
   "source": [
    "# Load the trained GAN\n",
    "gen.load_state_dict(torch.load('saved models/Generator.pth', weights_only=True))\n",
    "disc.load_state_dict(torch.load('saved models/Discriminator.pth', weights_only=True))"
   ]
  },
  {
   "cell_type": "code",
   "execution_count": 10,
   "id": "a504e932-e168-4bb8-88cc-eea0810aafb0",
   "metadata": {},
   "outputs": [],
   "source": [
    "# Generate a random fake image\n",
    "noise = torch.randn(1, z_dim, 1, 1).to(device)\n",
    "fake_img = gen(noise)"
   ]
  },
  {
   "cell_type": "code",
   "execution_count": 11,
   "id": "98b5d73f-b130-4bc1-a868-c225bd2abe62",
   "metadata": {},
   "outputs": [
    {
     "data": {
      "text/plain": [
       "torch.Size([1, 1, 64, 64])"
      ]
     },
     "execution_count": 11,
     "metadata": {},
     "output_type": "execute_result"
    }
   ],
   "source": [
    "fake_img.shape"
   ]
  },
  {
   "cell_type": "code",
   "execution_count": 12,
   "id": "9d19338c-18e4-4b6e-842f-a225718fa8bb",
   "metadata": {},
   "outputs": [
    {
     "name": "stdout",
     "output_type": "stream",
     "text": [
      "torch.Size([64, 64])\n"
     ]
    },
    {
     "data": {
      "text/plain": [
       "<matplotlib.image.AxesImage at 0x22a172e6910>"
      ]
     },
     "execution_count": 12,
     "metadata": {},
     "output_type": "execute_result"
    },
    {
     "data": {
      "image/png": "[encoded data removed]",
      "text/plain": [
       "<Figure size 640x480 with 1 Axes>"
      ]
     },
     "metadata": {},
     "output_type": "display_data"
    }
   ],
   "source": [
    "fake_img = fake_img.squeeze()\n",
    "print(fake_img.shape)\n",
    "plt.axis(False)\n",
    "plt.title('Fake Generated Image:')\n",
    "plt.imshow(fake_img.cpu().detach(), cmap='gray')"
   ]
  },
  {
   "cell_type": "code",
   "execution_count": 74,
   "id": "cf2aefac-a759-4335-a3de-2065d6a6a9a5",
   "metadata": {},
   "outputs": [],
   "source": [
    "# Target Model\n",
    "class TFCNN(nn.Module):\n",
    "    def __init__(self, n_classes):\n",
    "        super().__init__()\n",
    "        self.n_classes = n_classes\n",
    "\n",
    "        self.encoder = nn.Sequential(\n",
    "            nn.Conv2d(3, 32, 3, stride=1, padding=1),\n",
    "            nn.ReLU(True),\n",
    "            nn.MaxPool2d(2),\n",
    "            nn.Conv2d(32, 64, 3, stride=1, padding=1),\n",
    "            nn.ReLU(True),\n",
    "            nn.MaxPool2d(2),\n",
    "            nn.Conv2d(64, 64, 3, stride=1, padding=1),\n",
    "            nn.ReLU(True),\n",
    "            nn.MaxPool2d(2),\n",
    "            Reshape(),\n",
    "        )\n",
    "\n",
    "        self.h_size = 64 * 4 * 4\n",
    "\n",
    "        self.classifier = nn.Sequential(\n",
    "            nn.Linear(64 * 4 * 4, 128),\n",
    "            nn.ReLU(True),\n",
    "            nn.Linear(128, n_classes)\n",
    "        )\n",
    "\n",
    "    def forward(self, xs):\n",
    "        code = self.encoder(xs)\n",
    "        logits = self.classifier(code)\n",
    "        return code, logits\n"
   ]
  },
  {
   "cell_type": "code",
   "execution_count": 75,
   "id": "d28876e2-91ee-4ebf-bc52-b71dc82edfa2",
   "metadata": {},
   "outputs": [],
   "source": [
    "class Reshape(nn.Module):\n",
    "    def __init__(self,):\n",
    "        super().__init__()\n",
    "\n",
    "    def forward(self, xs):\n",
    "        return xs.reshape((xs.shape[0], -1))"
   ]
  },
  {
   "cell_type": "code",
   "execution_count": 15,
   "id": "dd57210c-2c18-4651-8f29-be94a7a7a88f",
   "metadata": {},
   "outputs": [],
   "source": [
    "class ClassifyNet(nn.Module):\n",
    "    def __init__(self, net, init_way, n_classes, input_size=None):\n",
    "        super().__init__()\n",
    "        self.net = net\n",
    "        self.init_way = init_way\n",
    "        self.n_classes = n_classes\n",
    "\n",
    "        model = TFCNN(n_classes)\n",
    "\n",
    "        self.h_size = model.h_size\n",
    "\n",
    "        # Convo and pool layers\n",
    "        self.encoder = model.encoder\n",
    "\n",
    "        # Classifier layer\n",
    "        self.classifier = nn.Linear(\n",
    "            self.h_size, self.n_classes, bias=False\n",
    "        )\n",
    "\n",
    "        if self.init_way == \"orth\":\n",
    "            ws = get_orth_weights(self.h_size, self.n_classes)\n",
    "            self.classifier.load_state_dict({\"weight\": ws})\n",
    "\n",
    "    def forward(self, xs):\n",
    "        hs = self.encoder(xs)\n",
    "        logits = self.classifier(hs)\n",
    "        return hs, logits"
   ]
  },
  {
   "cell_type": "code",
   "execution_count": 76,
   "id": "83ea3c08-0470-4c9a-ba15-8328a316b3ab",
   "metadata": {},
   "outputs": [],
   "source": [
    "def load_target_model(base_net, n_classes, path):\n",
    "    # Create the base model\n",
    "    model = ClassifyNet(net=base_net, init_way='none', n_classes=n_classes)\n",
    "    # Load the model\n",
    "    model.load_state_dict(torch.load(path, weights_only=True))\n",
    "\n",
    "    return model"
   ]
  },
  {
   "cell_type": "code",
   "execution_count": 77,
   "id": "0880f1aa-9d08-445a-85ac-f1ff3cebde04",
   "metadata": {},
   "outputs": [
    {
     "name": "stdout",
     "output_type": "stream",
     "text": [
      "Model loaded successfully!\n",
      "Number of parameters in the loaded model: 60416\n"
     ]
    }
   ],
   "source": [
    "# Target Model Loading\n",
    "BASE_NET = 'TFCNN'\n",
    "DATASET = 'tumor4'\n",
    "N_CLASSES = 4\n",
    "\n",
    "target_model = load_target_model(base_net=BASE_NET, n_classes=N_CLASSES, path='saved models/fedavg_global_model.pth').to(device)\n",
    "print('Model loaded successfully!')\n",
    "target_model.eval()\n",
    "\n",
    "num_params = sum(p.numel() for p in target_model.parameters())\n",
    "print('Number of parameters in the loaded model:', num_params)\n"
   ]
  },
  {
   "cell_type": "code",
   "execution_count": 18,
   "id": "f843f19e-b2a5-4ffe-b22b-de4ff93c5643",
   "metadata": {},
   "outputs": [],
   "source": [
    "# BEGIN BATCH MODEL INVERSION\n",
    "img_count = 20\n",
    "latent_vectors = torch.randn(img_count, z_dim, 1, 1, requires_grad=True) # Start with 20 random noises"
   ]
  },
  {
   "cell_type": "code",
   "execution_count": 19,
   "id": "c21320ed-d5ac-4919-aaad-8cfa093998a6",
   "metadata": {},
   "outputs": [],
   "source": [
    "def recover_images(count, target_image_class, latent_vectors):\n",
    "    optimized_latent_vectors = []\n",
    "    \n",
    "    for x in range(0, count):\n",
    "        z = latent_vectors[x].unsqueeze(dim=0).clone().detach().requires_grad_(True)\n",
    "        \n",
    "        learning_rate = 0.01\n",
    "        target_class = 1 # The second class\n",
    "        \n",
    "        # Create the optimizer\n",
    "        optimizer = torch.optim.Adam([z], lr=learning_rate)\n",
    "        \n",
    "        # Loss function (e.g., Cross-Entropy with classifier outputs)\n",
    "        loss_fn = nn.CrossEntropyLoss()\n",
    "        target_class = torch.tensor([target_image_class])  # Set the target class\n",
    "    \n",
    "        # Optimization loop to find the best z\n",
    "        rounds = 500\n",
    "        for i in range(rounds):\n",
    "            optimizer.zero_grad()\n",
    "            \n",
    "            generated_image = gen(z.to(device))  # Generate an image from the latent vector\n",
    "            generated_image = generated_image.repeat(1, 3, 1, 1)\n",
    "            generated_image = functional.interpolate(generated_image, size=(32, 32), mode='nearest')\n",
    "            #print(generated_image.shape)\n",
    "            hs, prediction_logits = target_model(generated_image)  # Classifier output\n",
    "            #print(prediction_logits)\n",
    "            #print(type(prediction_logits))\n",
    "            loss = loss_fn(prediction_logits, target_class.to(device))  # Minimize difference with true class\n",
    "            loss.backward()\n",
    "            optimizer.step()\n",
    "            \n",
    "            if i % 50 == 0:\n",
    "                print(f\"Generating Image Number: {x+1} for target class {target_class}. Step {i}, Loss: {loss.item()}\")\n",
    "    \n",
    "        optimized_latent_vectors.append(z)\n",
    "        \n",
    "    return optimized_latent_vectors"
   ]
  },
  {
   "cell_type": "code",
   "execution_count": 20,
   "id": "9ebc9533-23ca-4d44-8aea-9d134281b3a4",
   "metadata": {
    "scrolled": true
   },
   "outputs": [
    {
     "name": "stdout",
     "output_type": "stream",
     "text": [
      "Generating Image Number: 1 for target class tensor([0]). Step 0, Loss: 3.1393401622772217\n",
      "Generating Image Number: 1 for target class tensor([0]). Step 50, Loss: 1.00143563747406\n",
      "Generating Image Number: 1 for target class tensor([0]). Step 100, Loss: 0.6972113251686096\n",
      "Generating Image Number: 1 for target class tensor([0]). Step 150, Loss: 0.5716810822486877\n",
      "Generating Image Number: 1 for target class tensor([0]). Step 200, Loss: 0.34226658940315247\n",
      "Generating Image Number: 1 for target class tensor([0]). Step 250, Loss: 0.19873899221420288\n",
      "Generating Image Number: 1 for target class tensor([0]). Step 300, Loss: 0.14651131629943848\n",
      "Generating Image Number: 1 for target class tensor([0]). Step 350, Loss: 0.1182667464017868\n",
      "Generating Image Number: 1 for target class tensor([0]). Step 400, Loss: 0.10020335018634796\n",
      "Generating Image Number: 1 for target class tensor([0]). Step 450, Loss: 0.0840202271938324\n",
      "Generating Image Number: 2 for target class tensor([0]). Step 0, Loss: 0.30801451206207275\n",
      "Generating Image Number: 2 for target class tensor([0]). Step 50, Loss: 0.010740213096141815\n",
      "Generating Image Number: 2 for target class tensor([0]). Step 100, Loss: 0.00749040674418211\n",
      "Generating Image Number: 2 for target class tensor([0]). Step 150, Loss: 0.006222161930054426\n",
      "Generating Image Number: 2 for target class tensor([0]). Step 200, Loss: 0.0052336351945996284\n",
      "Generating Image Number: 2 for target class tensor([0]). Step 250, Loss: 0.004335884470492601\n",
      "Generating Image Number: 2 for target class tensor([0]). Step 300, Loss: 0.003573462599888444\n",
      "Generating Image Number: 2 for target class tensor([0]). Step 350, Loss: 0.0030808625742793083\n",
      "Generating Image Number: 2 for target class tensor([0]). Step 400, Loss: 0.002583620371297002\n",
      "Generating Image Number: 2 for target class tensor([0]). Step 450, Loss: 0.002136925933882594\n",
      "Generating Image Number: 3 for target class tensor([0]). Step 0, Loss: 2.7184898853302\n",
      "Generating Image Number: 3 for target class tensor([0]). Step 50, Loss: 0.09509614109992981\n",
      "Generating Image Number: 3 for target class tensor([0]). Step 100, Loss: 0.05199465900659561\n",
      "Generating Image Number: 3 for target class tensor([0]). Step 150, Loss: 0.03899495676159859\n",
      "Generating Image Number: 3 for target class tensor([0]). Step 200, Loss: 0.03216085955500603\n",
      "Generating Image Number: 3 for target class tensor([0]). Step 250, Loss: 0.028008662164211273\n",
      "Generating Image Number: 3 for target class tensor([0]). Step 300, Loss: 0.023868834599852562\n",
      "Generating Image Number: 3 for target class tensor([0]). Step 350, Loss: 0.020733293145895004\n",
      "Generating Image Number: 3 for target class tensor([0]). Step 400, Loss: 0.01834661141037941\n",
      "Generating Image Number: 3 for target class tensor([0]). Step 450, Loss: 0.016757437959313393\n",
      "Generating Image Number: 4 for target class tensor([0]). Step 0, Loss: 3.171110153198242\n",
      "Generating Image Number: 4 for target class tensor([0]). Step 50, Loss: 0.41988644003868103\n",
      "Generating Image Number: 4 for target class tensor([0]). Step 100, Loss: 0.16023050248622894\n",
      "Generating Image Number: 4 for target class tensor([0]). Step 150, Loss: 0.09781771153211594\n",
      "Generating Image Number: 4 for target class tensor([0]). Step 200, Loss: 0.06681306660175323\n",
      "Generating Image Number: 4 for target class tensor([0]). Step 250, Loss: 0.049162209033966064\n",
      "Generating Image Number: 4 for target class tensor([0]). Step 300, Loss: 0.03978458419442177\n",
      "Generating Image Number: 4 for target class tensor([0]). Step 350, Loss: 0.032981738448143005\n",
      "Generating Image Number: 4 for target class tensor([0]). Step 400, Loss: 0.027224062010645866\n",
      "Generating Image Number: 4 for target class tensor([0]). Step 450, Loss: 0.023003391921520233\n",
      "Generating Image Number: 5 for target class tensor([0]). Step 0, Loss: 2.8335623741149902\n",
      "Generating Image Number: 5 for target class tensor([0]). Step 50, Loss: 0.20150436460971832\n",
      "Generating Image Number: 5 for target class tensor([0]). Step 100, Loss: 0.10442017018795013\n",
      "Generating Image Number: 5 for target class tensor([0]). Step 150, Loss: 0.06918352097272873\n",
      "Generating Image Number: 5 for target class tensor([0]). Step 200, Loss: 0.054717767983675\n",
      "Generating Image Number: 5 for target class tensor([0]). Step 250, Loss: 0.046328429132699966\n",
      "Generating Image Number: 5 for target class tensor([0]). Step 300, Loss: 0.04157252237200737\n",
      "Generating Image Number: 5 for target class tensor([0]). Step 350, Loss: 0.038081005215644836\n",
      "Generating Image Number: 5 for target class tensor([0]). Step 400, Loss: 0.03540271148085594\n",
      "Generating Image Number: 5 for target class tensor([0]). Step 450, Loss: 0.03330302983522415\n",
      "Generating Image Number: 6 for target class tensor([0]). Step 0, Loss: 1.8052928447723389\n",
      "Generating Image Number: 6 for target class tensor([0]). Step 50, Loss: 0.29312974214553833\n",
      "Generating Image Number: 6 for target class tensor([0]). Step 100, Loss: 0.18114271759986877\n",
      "Generating Image Number: 6 for target class tensor([0]). Step 150, Loss: 0.15366977453231812\n",
      "Generating Image Number: 6 for target class tensor([0]). Step 200, Loss: 0.1302921175956726\n",
      "Generating Image Number: 6 for target class tensor([0]). Step 250, Loss: 0.11105485260486603\n",
      "Generating Image Number: 6 for target class tensor([0]). Step 300, Loss: 0.09400791674852371\n",
      "Generating Image Number: 6 for target class tensor([0]). Step 350, Loss: 0.07295447587966919\n",
      "Generating Image Number: 6 for target class tensor([0]). Step 400, Loss: 0.05416346341371536\n",
      "Generating Image Number: 6 for target class tensor([0]). Step 450, Loss: 0.0448964387178421\n",
      "Generating Image Number: 7 for target class tensor([0]). Step 0, Loss: 2.4340386390686035\n",
      "Generating Image Number: 7 for target class tensor([0]). Step 50, Loss: 0.6159610748291016\n",
      "Generating Image Number: 7 for target class tensor([0]). Step 100, Loss: 0.34639400243759155\n",
      "Generating Image Number: 7 for target class tensor([0]). Step 150, Loss: 0.27340421080589294\n",
      "Generating Image Number: 7 for target class tensor([0]). Step 200, Loss: 0.2214777171611786\n",
      "Generating Image Number: 7 for target class tensor([0]). Step 250, Loss: 0.19149821996688843\n",
      "Generating Image Number: 7 for target class tensor([0]). Step 300, Loss: 0.1700742393732071\n",
      "Generating Image Number: 7 for target class tensor([0]). Step 350, Loss: 0.1463584154844284\n",
      "Generating Image Number: 7 for target class tensor([0]). Step 400, Loss: 0.1008434072136879\n",
      "Generating Image Number: 7 for target class tensor([0]). Step 450, Loss: 0.08435139060020447\n",
      "Generating Image Number: 8 for target class tensor([0]). Step 0, Loss: 1.6636582612991333\n",
      "Generating Image Number: 8 for target class tensor([0]). Step 50, Loss: 0.17789052426815033\n",
      "Generating Image Number: 8 for target class tensor([0]). Step 100, Loss: 0.08976942300796509\n",
      "Generating Image Number: 8 for target class tensor([0]). Step 150, Loss: 0.06122704967856407\n",
      "Generating Image Number: 8 for target class tensor([0]). Step 200, Loss: 0.0454859733581543\n",
      "Generating Image Number: 8 for target class tensor([0]). Step 250, Loss: 0.03508911654353142\n",
      "Generating Image Number: 8 for target class tensor([0]). Step 300, Loss: 0.030790500342845917\n",
      "Generating Image Number: 8 for target class tensor([0]). Step 350, Loss: 0.028227489441633224\n",
      "Generating Image Number: 8 for target class tensor([0]). Step 400, Loss: 0.026186415925621986\n",
      "Generating Image Number: 8 for target class tensor([0]). Step 450, Loss: 0.02450544200837612\n",
      "Generating Image Number: 9 for target class tensor([0]). Step 0, Loss: 0.8310507535934448\n",
      "Generating Image Number: 9 for target class tensor([0]). Step 50, Loss: 0.0764995887875557\n",
      "Generating Image Number: 9 for target class tensor([0]). Step 100, Loss: 0.05575893819332123\n",
      "Generating Image Number: 9 for target class tensor([0]). Step 150, Loss: 0.045688483864068985\n",
      "Generating Image Number: 9 for target class tensor([0]). Step 200, Loss: 0.035848479717969894\n",
      "Generating Image Number: 9 for target class tensor([0]). Step 250, Loss: 0.025881648063659668\n",
      "Generating Image Number: 9 for target class tensor([0]). Step 300, Loss: 0.01999472826719284\n",
      "Generating Image Number: 9 for target class tensor([0]). Step 350, Loss: 0.016924826428294182\n",
      "Generating Image Number: 9 for target class tensor([0]). Step 400, Loss: 0.014192831702530384\n",
      "Generating Image Number: 9 for target class tensor([0]). Step 450, Loss: 0.012380062602460384\n",
      "Generating Image Number: 10 for target class tensor([0]). Step 0, Loss: 7.029635429382324\n",
      "Generating Image Number: 10 for target class tensor([0]). Step 50, Loss: 0.31088173389434814\n",
      "Generating Image Number: 10 for target class tensor([0]). Step 100, Loss: 0.04176347702741623\n",
      "Generating Image Number: 10 for target class tensor([0]). Step 150, Loss: 0.027889957651495934\n",
      "Generating Image Number: 10 for target class tensor([0]). Step 200, Loss: 0.02191167324781418\n",
      "Generating Image Number: 10 for target class tensor([0]). Step 250, Loss: 0.01917317323386669\n",
      "Generating Image Number: 10 for target class tensor([0]). Step 300, Loss: 0.017314117401838303\n",
      "Generating Image Number: 10 for target class tensor([0]). Step 350, Loss: 0.01562096830457449\n",
      "Generating Image Number: 10 for target class tensor([0]). Step 400, Loss: 0.01410679705440998\n",
      "Generating Image Number: 10 for target class tensor([0]). Step 450, Loss: 0.012541827745735645\n",
      "Generating Image Number: 11 for target class tensor([0]). Step 0, Loss: 5.051424980163574\n",
      "Generating Image Number: 11 for target class tensor([0]). Step 50, Loss: 0.6334176063537598\n",
      "Generating Image Number: 11 for target class tensor([0]). Step 100, Loss: 0.32088661193847656\n",
      "Generating Image Number: 11 for target class tensor([0]). Step 150, Loss: 0.23685131967067719\n",
      "Generating Image Number: 11 for target class tensor([0]). Step 200, Loss: 0.20121712982654572\n",
      "Generating Image Number: 11 for target class tensor([0]). Step 250, Loss: 0.17670990526676178\n",
      "Generating Image Number: 11 for target class tensor([0]). Step 300, Loss: 0.15832525491714478\n",
      "Generating Image Number: 11 for target class tensor([0]). Step 350, Loss: 0.1414526402950287\n",
      "Generating Image Number: 11 for target class tensor([0]). Step 400, Loss: 0.1278487890958786\n",
      "Generating Image Number: 11 for target class tensor([0]). Step 450, Loss: 0.11933621019124985\n",
      "Generating Image Number: 12 for target class tensor([0]). Step 0, Loss: 0.7009931802749634\n",
      "Generating Image Number: 12 for target class tensor([0]). Step 50, Loss: 0.07146646827459335\n",
      "Generating Image Number: 12 for target class tensor([0]). Step 100, Loss: 0.04961913079023361\n",
      "Generating Image Number: 12 for target class tensor([0]). Step 150, Loss: 0.03863443061709404\n",
      "Generating Image Number: 12 for target class tensor([0]). Step 200, Loss: 0.03197360783815384\n",
      "Generating Image Number: 12 for target class tensor([0]). Step 250, Loss: 0.028065459802746773\n",
      "Generating Image Number: 12 for target class tensor([0]). Step 300, Loss: 0.025279739871621132\n",
      "Generating Image Number: 12 for target class tensor([0]). Step 350, Loss: 0.022663509473204613\n",
      "Generating Image Number: 12 for target class tensor([0]). Step 400, Loss: 0.020774392411112785\n",
      "Generating Image Number: 12 for target class tensor([0]). Step 450, Loss: 0.018659766763448715\n",
      "Generating Image Number: 13 for target class tensor([0]). Step 0, Loss: 1.5463111400604248\n",
      "Generating Image Number: 13 for target class tensor([0]). Step 50, Loss: 0.07887983322143555\n",
      "Generating Image Number: 13 for target class tensor([0]). Step 100, Loss: 0.04450896009802818\n",
      "Generating Image Number: 13 for target class tensor([0]). Step 150, Loss: 0.035254038870334625\n",
      "Generating Image Number: 13 for target class tensor([0]). Step 200, Loss: 0.030126536265015602\n",
      "Generating Image Number: 13 for target class tensor([0]). Step 250, Loss: 0.026355599984526634\n",
      "Generating Image Number: 13 for target class tensor([0]). Step 300, Loss: 0.022801481187343597\n",
      "Generating Image Number: 13 for target class tensor([0]). Step 350, Loss: 0.019346587359905243\n",
      "Generating Image Number: 13 for target class tensor([0]). Step 400, Loss: 0.016756735742092133\n",
      "Generating Image Number: 13 for target class tensor([0]). Step 450, Loss: 0.014082230627536774\n",
      "Generating Image Number: 14 for target class tensor([0]). Step 0, Loss: 3.6965789794921875\n",
      "Generating Image Number: 14 for target class tensor([0]). Step 50, Loss: 0.21628184616565704\n",
      "Generating Image Number: 14 for target class tensor([0]). Step 100, Loss: 0.13632839918136597\n",
      "Generating Image Number: 14 for target class tensor([0]). Step 150, Loss: 0.09456074237823486\n",
      "Generating Image Number: 14 for target class tensor([0]). Step 200, Loss: 0.07694772630929947\n",
      "Generating Image Number: 14 for target class tensor([0]). Step 250, Loss: 0.06795623153448105\n",
      "Generating Image Number: 14 for target class tensor([0]). Step 300, Loss: 0.06270572543144226\n",
      "Generating Image Number: 14 for target class tensor([0]). Step 350, Loss: 0.058218132704496384\n",
      "Generating Image Number: 14 for target class tensor([0]). Step 400, Loss: 0.05403359234333038\n",
      "Generating Image Number: 14 for target class tensor([0]). Step 450, Loss: 0.05021031200885773\n",
      "Generating Image Number: 15 for target class tensor([0]). Step 0, Loss: 0.4275367558002472\n",
      "Generating Image Number: 15 for target class tensor([0]). Step 50, Loss: 0.036545898765325546\n",
      "Generating Image Number: 15 for target class tensor([0]). Step 100, Loss: 0.02170487493276596\n",
      "Generating Image Number: 15 for target class tensor([0]). Step 150, Loss: 0.012145256623625755\n",
      "Generating Image Number: 15 for target class tensor([0]). Step 200, Loss: 0.008165547624230385\n",
      "Generating Image Number: 15 for target class tensor([0]). Step 250, Loss: 0.006679825019091368\n",
      "Generating Image Number: 15 for target class tensor([0]). Step 300, Loss: 0.005907456856220961\n",
      "Generating Image Number: 15 for target class tensor([0]). Step 350, Loss: 0.00542679475620389\n",
      "Generating Image Number: 15 for target class tensor([0]). Step 400, Loss: 0.005034982226788998\n",
      "Generating Image Number: 15 for target class tensor([0]). Step 450, Loss: 0.0047271400690078735\n",
      "Generating Image Number: 16 for target class tensor([0]). Step 0, Loss: 5.60090446472168\n",
      "Generating Image Number: 16 for target class tensor([0]). Step 50, Loss: 1.049542784690857\n",
      "Generating Image Number: 16 for target class tensor([0]). Step 100, Loss: 0.7813751697540283\n",
      "Generating Image Number: 16 for target class tensor([0]). Step 150, Loss: 0.6542128324508667\n",
      "Generating Image Number: 16 for target class tensor([0]). Step 200, Loss: 0.5508232712745667\n",
      "Generating Image Number: 16 for target class tensor([0]). Step 250, Loss: 0.40048137307167053\n",
      "Generating Image Number: 16 for target class tensor([0]). Step 300, Loss: 0.3072347640991211\n",
      "Generating Image Number: 16 for target class tensor([0]). Step 350, Loss: 0.24887332320213318\n",
      "Generating Image Number: 16 for target class tensor([0]). Step 400, Loss: 0.20426151156425476\n",
      "Generating Image Number: 16 for target class tensor([0]). Step 450, Loss: 0.1776825487613678\n",
      "Generating Image Number: 17 for target class tensor([0]). Step 0, Loss: 2.479849338531494\n",
      "Generating Image Number: 17 for target class tensor([0]). Step 50, Loss: 0.25841060280799866\n",
      "Generating Image Number: 17 for target class tensor([0]). Step 100, Loss: 0.155239075422287\n",
      "Generating Image Number: 17 for target class tensor([0]). Step 150, Loss: 0.12030835449695587\n",
      "Generating Image Number: 17 for target class tensor([0]). Step 200, Loss: 0.1018940806388855\n",
      "Generating Image Number: 17 for target class tensor([0]). Step 250, Loss: 0.08384682238101959\n",
      "Generating Image Number: 17 for target class tensor([0]). Step 300, Loss: 0.06822171807289124\n",
      "Generating Image Number: 17 for target class tensor([0]). Step 350, Loss: 0.055661410093307495\n",
      "Generating Image Number: 17 for target class tensor([0]). Step 400, Loss: 0.045373424887657166\n",
      "Generating Image Number: 17 for target class tensor([0]). Step 450, Loss: 0.039707254618406296\n",
      "Generating Image Number: 18 for target class tensor([0]). Step 0, Loss: 0.3476080894470215\n",
      "Generating Image Number: 18 for target class tensor([0]). Step 50, Loss: 0.0557466484606266\n",
      "Generating Image Number: 18 for target class tensor([0]). Step 100, Loss: 0.03301795572042465\n",
      "Generating Image Number: 18 for target class tensor([0]). Step 150, Loss: 0.022508850321173668\n",
      "Generating Image Number: 18 for target class tensor([0]). Step 200, Loss: 0.014383798465132713\n",
      "Generating Image Number: 18 for target class tensor([0]). Step 250, Loss: 0.010372304357588291\n",
      "Generating Image Number: 18 for target class tensor([0]). Step 300, Loss: 0.008938655257225037\n",
      "Generating Image Number: 18 for target class tensor([0]). Step 350, Loss: 0.007758128456771374\n",
      "Generating Image Number: 18 for target class tensor([0]). Step 400, Loss: 0.006787458900362253\n",
      "Generating Image Number: 18 for target class tensor([0]). Step 450, Loss: 0.006050484720617533\n",
      "Generating Image Number: 19 for target class tensor([0]). Step 0, Loss: 4.5670366287231445\n",
      "Generating Image Number: 19 for target class tensor([0]). Step 50, Loss: 0.25280746817588806\n",
      "Generating Image Number: 19 for target class tensor([0]). Step 100, Loss: 0.04571661353111267\n",
      "Generating Image Number: 19 for target class tensor([0]). Step 150, Loss: 0.03211653232574463\n",
      "Generating Image Number: 19 for target class tensor([0]). Step 200, Loss: 0.02570308931171894\n",
      "Generating Image Number: 19 for target class tensor([0]). Step 250, Loss: 0.02065937966108322\n",
      "Generating Image Number: 19 for target class tensor([0]). Step 300, Loss: 0.01718546450138092\n",
      "Generating Image Number: 19 for target class tensor([0]). Step 350, Loss: 0.014910443685948849\n",
      "Generating Image Number: 19 for target class tensor([0]). Step 400, Loss: 0.013228744268417358\n",
      "Generating Image Number: 19 for target class tensor([0]). Step 450, Loss: 0.012170223519206047\n",
      "Generating Image Number: 20 for target class tensor([0]). Step 0, Loss: 4.462708473205566\n",
      "Generating Image Number: 20 for target class tensor([0]). Step 50, Loss: 0.38405686616897583\n",
      "Generating Image Number: 20 for target class tensor([0]). Step 100, Loss: 0.20480374991893768\n",
      "Generating Image Number: 20 for target class tensor([0]). Step 150, Loss: 0.17231403291225433\n",
      "Generating Image Number: 20 for target class tensor([0]). Step 200, Loss: 0.15439574420452118\n",
      "Generating Image Number: 20 for target class tensor([0]). Step 250, Loss: 0.13924358785152435\n",
      "Generating Image Number: 20 for target class tensor([0]). Step 300, Loss: 0.12608349323272705\n",
      "Generating Image Number: 20 for target class tensor([0]). Step 350, Loss: 0.11449211090803146\n",
      "Generating Image Number: 20 for target class tensor([0]). Step 400, Loss: 0.10552684217691422\n",
      "Generating Image Number: 20 for target class tensor([0]). Step 450, Loss: 0.09689854085445404\n"
     ]
    }
   ],
   "source": [
    "class0_optimized_latent_vectors = recover_images(img_count, 0, latent_vectors)"
   ]
  },
  {
   "cell_type": "code",
   "execution_count": 21,
   "id": "6718334c-2bb1-42a3-bd8c-6aea38e6b59c",
   "metadata": {
    "scrolled": true
   },
   "outputs": [
    {
     "name": "stdout",
     "output_type": "stream",
     "text": [
      "Generating Image Number: 1 for target class tensor([1]). Step 0, Loss: 1.5556334257125854\n",
      "Generating Image Number: 1 for target class tensor([1]). Step 50, Loss: 0.0838390365242958\n",
      "Generating Image Number: 1 for target class tensor([1]). Step 100, Loss: 0.03454224765300751\n",
      "Generating Image Number: 1 for target class tensor([1]). Step 150, Loss: 0.017173277214169502\n",
      "Generating Image Number: 1 for target class tensor([1]). Step 200, Loss: 0.008125345222651958\n",
      "Generating Image Number: 1 for target class tensor([1]). Step 250, Loss: 0.005923929158598185\n",
      "Generating Image Number: 1 for target class tensor([1]). Step 300, Loss: 0.004595077130943537\n",
      "Generating Image Number: 1 for target class tensor([1]). Step 350, Loss: 0.003822284284979105\n",
      "Generating Image Number: 1 for target class tensor([1]). Step 400, Loss: 0.003175813239067793\n",
      "Generating Image Number: 1 for target class tensor([1]). Step 450, Loss: 0.002457219874486327\n",
      "Generating Image Number: 2 for target class tensor([1]). Step 0, Loss: 0.9464818239212036\n",
      "Generating Image Number: 2 for target class tensor([1]). Step 50, Loss: 0.2839013636112213\n",
      "Generating Image Number: 2 for target class tensor([1]). Step 100, Loss: 0.1613151878118515\n",
      "Generating Image Number: 2 for target class tensor([1]). Step 150, Loss: 0.11874599754810333\n",
      "Generating Image Number: 2 for target class tensor([1]). Step 200, Loss: 0.08793359249830246\n",
      "Generating Image Number: 2 for target class tensor([1]). Step 250, Loss: 0.0668105036020279\n",
      "Generating Image Number: 2 for target class tensor([1]). Step 300, Loss: 0.051083456724882126\n",
      "Generating Image Number: 2 for target class tensor([1]). Step 350, Loss: 0.03700459748506546\n",
      "Generating Image Number: 2 for target class tensor([1]). Step 400, Loss: 0.026083985343575478\n",
      "Generating Image Number: 2 for target class tensor([1]). Step 450, Loss: 0.020553695037961006\n",
      "Generating Image Number: 3 for target class tensor([1]). Step 0, Loss: 2.6143784523010254\n",
      "Generating Image Number: 3 for target class tensor([1]). Step 50, Loss: 0.35585835576057434\n",
      "Generating Image Number: 3 for target class tensor([1]). Step 100, Loss: 0.21143829822540283\n",
      "Generating Image Number: 3 for target class tensor([1]). Step 150, Loss: 0.1091580018401146\n",
      "Generating Image Number: 3 for target class tensor([1]). Step 200, Loss: 0.08356362581253052\n",
      "Generating Image Number: 3 for target class tensor([1]). Step 250, Loss: 0.04759242758154869\n",
      "Generating Image Number: 3 for target class tensor([1]). Step 300, Loss: 0.02731848880648613\n",
      "Generating Image Number: 3 for target class tensor([1]). Step 350, Loss: 0.020244402810931206\n",
      "Generating Image Number: 3 for target class tensor([1]). Step 400, Loss: 0.017641887068748474\n",
      "Generating Image Number: 3 for target class tensor([1]). Step 450, Loss: 0.015735389664769173\n",
      "Generating Image Number: 4 for target class tensor([1]). Step 0, Loss: 1.6917511224746704\n",
      "Generating Image Number: 4 for target class tensor([1]). Step 50, Loss: 0.05928914621472359\n",
      "Generating Image Number: 4 for target class tensor([1]). Step 100, Loss: 0.02161201648414135\n",
      "Generating Image Number: 4 for target class tensor([1]). Step 150, Loss: 0.015288662165403366\n",
      "Generating Image Number: 4 for target class tensor([1]). Step 200, Loss: 0.010510565713047981\n",
      "Generating Image Number: 4 for target class tensor([1]). Step 250, Loss: 0.007840098813176155\n",
      "Generating Image Number: 4 for target class tensor([1]). Step 300, Loss: 0.006191715132445097\n",
      "Generating Image Number: 4 for target class tensor([1]). Step 350, Loss: 0.005089304409921169\n",
      "Generating Image Number: 4 for target class tensor([1]). Step 400, Loss: 0.004218608140945435\n",
      "Generating Image Number: 4 for target class tensor([1]). Step 450, Loss: 0.003594605950638652\n",
      "Generating Image Number: 5 for target class tensor([1]). Step 0, Loss: 2.7771406173706055\n",
      "Generating Image Number: 5 for target class tensor([1]). Step 50, Loss: 0.26277264952659607\n",
      "Generating Image Number: 5 for target class tensor([1]). Step 100, Loss: 0.15090763568878174\n",
      "Generating Image Number: 5 for target class tensor([1]). Step 150, Loss: 0.11036194115877151\n",
      "Generating Image Number: 5 for target class tensor([1]). Step 200, Loss: 0.08845247328281403\n",
      "Generating Image Number: 5 for target class tensor([1]). Step 250, Loss: 0.07627207785844803\n",
      "Generating Image Number: 5 for target class tensor([1]). Step 300, Loss: 0.06884006410837173\n",
      "Generating Image Number: 5 for target class tensor([1]). Step 350, Loss: 0.062506303191185\n",
      "Generating Image Number: 5 for target class tensor([1]). Step 400, Loss: 0.05735716223716736\n",
      "Generating Image Number: 5 for target class tensor([1]). Step 450, Loss: 0.05006235092878342\n",
      "Generating Image Number: 6 for target class tensor([1]). Step 0, Loss: 0.275248259305954\n",
      "Generating Image Number: 6 for target class tensor([1]). Step 50, Loss: 0.008684131316840649\n",
      "Generating Image Number: 6 for target class tensor([1]). Step 100, Loss: 0.0029960053507238626\n",
      "Generating Image Number: 6 for target class tensor([1]). Step 150, Loss: 0.0015825617592781782\n",
      "Generating Image Number: 6 for target class tensor([1]). Step 200, Loss: 0.001166973845101893\n",
      "Generating Image Number: 6 for target class tensor([1]). Step 250, Loss: 0.0009494088008068502\n",
      "Generating Image Number: 6 for target class tensor([1]). Step 300, Loss: 0.0007803970365785062\n",
      "Generating Image Number: 6 for target class tensor([1]). Step 350, Loss: 0.0005732323625124991\n",
      "Generating Image Number: 6 for target class tensor([1]). Step 400, Loss: 0.0004326361231505871\n",
      "Generating Image Number: 6 for target class tensor([1]). Step 450, Loss: 0.00033885458833537996\n",
      "Generating Image Number: 7 for target class tensor([1]). Step 0, Loss: 2.0353097915649414\n",
      "Generating Image Number: 7 for target class tensor([1]). Step 50, Loss: 0.11464529484510422\n",
      "Generating Image Number: 7 for target class tensor([1]). Step 100, Loss: 0.04259844496846199\n",
      "Generating Image Number: 7 for target class tensor([1]). Step 150, Loss: 0.029170863330364227\n",
      "Generating Image Number: 7 for target class tensor([1]). Step 200, Loss: 0.02068355120718479\n",
      "Generating Image Number: 7 for target class tensor([1]). Step 250, Loss: 0.016338493674993515\n",
      "Generating Image Number: 7 for target class tensor([1]). Step 300, Loss: 0.013415073044598103\n",
      "Generating Image Number: 7 for target class tensor([1]). Step 350, Loss: 0.01110763382166624\n",
      "Generating Image Number: 7 for target class tensor([1]). Step 400, Loss: 0.00935504212975502\n",
      "Generating Image Number: 7 for target class tensor([1]). Step 450, Loss: 0.00786635559052229\n",
      "Generating Image Number: 8 for target class tensor([1]). Step 0, Loss: 2.0674610137939453\n",
      "Generating Image Number: 8 for target class tensor([1]). Step 50, Loss: 0.36873432993888855\n",
      "Generating Image Number: 8 for target class tensor([1]). Step 100, Loss: 0.1295544058084488\n",
      "Generating Image Number: 8 for target class tensor([1]). Step 150, Loss: 0.07210588455200195\n",
      "Generating Image Number: 8 for target class tensor([1]). Step 200, Loss: 0.05420117825269699\n",
      "Generating Image Number: 8 for target class tensor([1]). Step 250, Loss: 0.046341970562934875\n",
      "Generating Image Number: 8 for target class tensor([1]). Step 300, Loss: 0.04124815762042999\n",
      "Generating Image Number: 8 for target class tensor([1]). Step 350, Loss: 0.0350906141102314\n",
      "Generating Image Number: 8 for target class tensor([1]). Step 400, Loss: 0.029667098075151443\n",
      "Generating Image Number: 8 for target class tensor([1]). Step 450, Loss: 0.02455138973891735\n",
      "Generating Image Number: 9 for target class tensor([1]). Step 0, Loss: 3.104403018951416\n",
      "Generating Image Number: 9 for target class tensor([1]). Step 50, Loss: 0.2999464273452759\n",
      "Generating Image Number: 9 for target class tensor([1]). Step 100, Loss: 0.1153445914387703\n",
      "Generating Image Number: 9 for target class tensor([1]). Step 150, Loss: 0.08257176727056503\n",
      "Generating Image Number: 9 for target class tensor([1]). Step 200, Loss: 0.06665761768817902\n",
      "Generating Image Number: 9 for target class tensor([1]). Step 250, Loss: 0.05406668037176132\n",
      "Generating Image Number: 9 for target class tensor([1]). Step 300, Loss: 0.039283718913793564\n",
      "Generating Image Number: 9 for target class tensor([1]). Step 350, Loss: 0.028779907152056694\n",
      "Generating Image Number: 9 for target class tensor([1]). Step 400, Loss: 0.015341021120548248\n",
      "Generating Image Number: 9 for target class tensor([1]). Step 450, Loss: 0.00995929166674614\n",
      "Generating Image Number: 10 for target class tensor([1]). Step 0, Loss: 3.3061516284942627\n",
      "Generating Image Number: 10 for target class tensor([1]). Step 50, Loss: 0.7463464736938477\n",
      "Generating Image Number: 10 for target class tensor([1]). Step 100, Loss: 0.05773823335766792\n",
      "Generating Image Number: 10 for target class tensor([1]). Step 150, Loss: 0.021028192713856697\n",
      "Generating Image Number: 10 for target class tensor([1]). Step 200, Loss: 0.014388264156877995\n",
      "Generating Image Number: 10 for target class tensor([1]). Step 250, Loss: 0.011045856401324272\n",
      "Generating Image Number: 10 for target class tensor([1]). Step 300, Loss: 0.009020174853503704\n",
      "Generating Image Number: 10 for target class tensor([1]). Step 350, Loss: 0.007700520101934671\n",
      "Generating Image Number: 10 for target class tensor([1]). Step 400, Loss: 0.006045152433216572\n",
      "Generating Image Number: 10 for target class tensor([1]). Step 450, Loss: 0.004640405531972647\n",
      "Generating Image Number: 11 for target class tensor([1]). Step 0, Loss: 2.735530138015747\n",
      "Generating Image Number: 11 for target class tensor([1]). Step 50, Loss: 0.05474090203642845\n",
      "Generating Image Number: 11 for target class tensor([1]). Step 100, Loss: 0.023766398429870605\n",
      "Generating Image Number: 11 for target class tensor([1]). Step 150, Loss: 0.01892884448170662\n",
      "Generating Image Number: 11 for target class tensor([1]). Step 200, Loss: 0.01505066268146038\n",
      "Generating Image Number: 11 for target class tensor([1]). Step 250, Loss: 0.012525228783488274\n",
      "Generating Image Number: 11 for target class tensor([1]). Step 300, Loss: 0.009924118407070637\n",
      "Generating Image Number: 11 for target class tensor([1]). Step 350, Loss: 0.00784672237932682\n",
      "Generating Image Number: 11 for target class tensor([1]). Step 400, Loss: 0.006487381178885698\n",
      "Generating Image Number: 11 for target class tensor([1]). Step 450, Loss: 0.005350555293262005\n",
      "Generating Image Number: 12 for target class tensor([1]). Step 0, Loss: 2.1716604232788086\n",
      "Generating Image Number: 12 for target class tensor([1]). Step 50, Loss: 0.33034759759902954\n",
      "Generating Image Number: 12 for target class tensor([1]). Step 100, Loss: 0.0959027111530304\n",
      "Generating Image Number: 12 for target class tensor([1]). Step 150, Loss: 0.06622593104839325\n",
      "Generating Image Number: 12 for target class tensor([1]). Step 200, Loss: 0.052411604672670364\n",
      "Generating Image Number: 12 for target class tensor([1]). Step 250, Loss: 0.04336446151137352\n",
      "Generating Image Number: 12 for target class tensor([1]). Step 300, Loss: 0.03697242960333824\n",
      "Generating Image Number: 12 for target class tensor([1]). Step 350, Loss: 0.03300030902028084\n",
      "Generating Image Number: 12 for target class tensor([1]). Step 400, Loss: 0.029758747667074203\n",
      "Generating Image Number: 12 for target class tensor([1]). Step 450, Loss: 0.02577221766114235\n",
      "Generating Image Number: 13 for target class tensor([1]). Step 0, Loss: 0.30506762862205505\n",
      "Generating Image Number: 13 for target class tensor([1]). Step 50, Loss: 0.004417541902512312\n",
      "Generating Image Number: 13 for target class tensor([1]). Step 100, Loss: 0.002130026463419199\n",
      "Generating Image Number: 13 for target class tensor([1]). Step 150, Loss: 0.001492816023528576\n",
      "Generating Image Number: 13 for target class tensor([1]). Step 200, Loss: 0.0011404207907617092\n",
      "Generating Image Number: 13 for target class tensor([1]). Step 250, Loss: 0.0009120118920691311\n",
      "Generating Image Number: 13 for target class tensor([1]). Step 300, Loss: 0.0007696765242144465\n",
      "Generating Image Number: 13 for target class tensor([1]). Step 350, Loss: 0.0006490031373687088\n",
      "Generating Image Number: 13 for target class tensor([1]). Step 400, Loss: 0.0005678709712810814\n",
      "Generating Image Number: 13 for target class tensor([1]). Step 450, Loss: 0.0005144941387698054\n",
      "Generating Image Number: 14 for target class tensor([1]). Step 0, Loss: 2.8771347999572754\n",
      "Generating Image Number: 14 for target class tensor([1]). Step 50, Loss: 0.19751866161823273\n",
      "Generating Image Number: 14 for target class tensor([1]). Step 100, Loss: 0.08214899152517319\n",
      "Generating Image Number: 14 for target class tensor([1]). Step 150, Loss: 0.04553746059536934\n",
      "Generating Image Number: 14 for target class tensor([1]). Step 200, Loss: 0.03501522168517113\n",
      "Generating Image Number: 14 for target class tensor([1]). Step 250, Loss: 0.028401196002960205\n",
      "Generating Image Number: 14 for target class tensor([1]). Step 300, Loss: 0.02325860783457756\n",
      "Generating Image Number: 14 for target class tensor([1]). Step 350, Loss: 0.02037850394845009\n",
      "Generating Image Number: 14 for target class tensor([1]). Step 400, Loss: 0.01839401200413704\n",
      "Generating Image Number: 14 for target class tensor([1]). Step 450, Loss: 0.016262847930192947\n",
      "Generating Image Number: 15 for target class tensor([1]). Step 0, Loss: 1.352924108505249\n",
      "Generating Image Number: 15 for target class tensor([1]). Step 50, Loss: 0.2006804347038269\n",
      "Generating Image Number: 15 for target class tensor([1]). Step 100, Loss: 0.11855150759220123\n",
      "Generating Image Number: 15 for target class tensor([1]). Step 150, Loss: 0.08092223107814789\n",
      "Generating Image Number: 15 for target class tensor([1]). Step 200, Loss: 0.0653706043958664\n",
      "Generating Image Number: 15 for target class tensor([1]). Step 250, Loss: 0.05429941415786743\n",
      "Generating Image Number: 15 for target class tensor([1]). Step 300, Loss: 0.046686988323926926\n",
      "Generating Image Number: 15 for target class tensor([1]). Step 350, Loss: 0.039679184556007385\n",
      "Generating Image Number: 15 for target class tensor([1]). Step 400, Loss: 0.03222261741757393\n",
      "Generating Image Number: 15 for target class tensor([1]). Step 450, Loss: 0.028016777709126472\n",
      "Generating Image Number: 16 for target class tensor([1]). Step 0, Loss: 1.650298833847046\n",
      "Generating Image Number: 16 for target class tensor([1]). Step 50, Loss: 0.27458974719047546\n",
      "Generating Image Number: 16 for target class tensor([1]). Step 100, Loss: 0.1443723440170288\n",
      "Generating Image Number: 16 for target class tensor([1]). Step 150, Loss: 0.11344587057828903\n",
      "Generating Image Number: 16 for target class tensor([1]). Step 200, Loss: 0.09968125075101852\n",
      "Generating Image Number: 16 for target class tensor([1]). Step 250, Loss: 0.0882929265499115\n",
      "Generating Image Number: 16 for target class tensor([1]). Step 300, Loss: 0.07125379890203476\n",
      "Generating Image Number: 16 for target class tensor([1]). Step 350, Loss: 0.06079110875725746\n",
      "Generating Image Number: 16 for target class tensor([1]). Step 400, Loss: 0.04167920723557472\n",
      "Generating Image Number: 16 for target class tensor([1]). Step 450, Loss: 0.027667809277772903\n",
      "Generating Image Number: 17 for target class tensor([1]). Step 0, Loss: 2.0119056701660156\n",
      "Generating Image Number: 17 for target class tensor([1]). Step 50, Loss: 0.00018010901112575084\n",
      "Generating Image Number: 17 for target class tensor([1]). Step 100, Loss: 0.00015889335190877318\n",
      "Generating Image Number: 17 for target class tensor([1]). Step 150, Loss: 0.00015269544383045286\n",
      "Generating Image Number: 17 for target class tensor([1]). Step 200, Loss: 0.00014673586701974273\n",
      "Generating Image Number: 17 for target class tensor([1]). Step 250, Loss: 0.00013982271775603294\n",
      "Generating Image Number: 17 for target class tensor([1]). Step 300, Loss: 0.00013362467871047556\n",
      "Generating Image Number: 17 for target class tensor([1]). Step 350, Loss: 0.00012706902634818107\n",
      "Generating Image Number: 17 for target class tensor([1]). Step 400, Loss: 0.0001212284987559542\n",
      "Generating Image Number: 17 for target class tensor([1]). Step 450, Loss: 0.00011550712952157483\n",
      "Generating Image Number: 18 for target class tensor([1]). Step 0, Loss: 2.7341034412384033\n",
      "Generating Image Number: 18 for target class tensor([1]). Step 50, Loss: 0.09005140513181686\n",
      "Generating Image Number: 18 for target class tensor([1]). Step 100, Loss: 0.04161631688475609\n",
      "Generating Image Number: 18 for target class tensor([1]). Step 150, Loss: 0.030457301065325737\n",
      "Generating Image Number: 18 for target class tensor([1]). Step 200, Loss: 0.020504411309957504\n",
      "Generating Image Number: 18 for target class tensor([1]). Step 250, Loss: 0.013606776483356953\n",
      "Generating Image Number: 18 for target class tensor([1]). Step 300, Loss: 0.010168297216296196\n",
      "Generating Image Number: 18 for target class tensor([1]). Step 350, Loss: 0.008229867555201054\n",
      "Generating Image Number: 18 for target class tensor([1]). Step 400, Loss: 0.0066549573093652725\n",
      "Generating Image Number: 18 for target class tensor([1]). Step 450, Loss: 0.005622406490147114\n",
      "Generating Image Number: 19 for target class tensor([1]). Step 0, Loss: 1.309513807296753\n",
      "Generating Image Number: 19 for target class tensor([1]). Step 50, Loss: 0.020086800679564476\n",
      "Generating Image Number: 19 for target class tensor([1]). Step 100, Loss: 0.010217739269137383\n",
      "Generating Image Number: 19 for target class tensor([1]). Step 150, Loss: 0.007666687481105328\n",
      "Generating Image Number: 19 for target class tensor([1]). Step 200, Loss: 0.006485959514975548\n",
      "Generating Image Number: 19 for target class tensor([1]). Step 250, Loss: 0.0056328377686440945\n",
      "Generating Image Number: 19 for target class tensor([1]). Step 300, Loss: 0.00499833095818758\n",
      "Generating Image Number: 19 for target class tensor([1]). Step 350, Loss: 0.004495514556765556\n",
      "Generating Image Number: 19 for target class tensor([1]). Step 400, Loss: 0.004062733147293329\n",
      "Generating Image Number: 19 for target class tensor([1]). Step 450, Loss: 0.0036833316553384066\n",
      "Generating Image Number: 20 for target class tensor([1]). Step 0, Loss: 3.5571300983428955\n",
      "Generating Image Number: 20 for target class tensor([1]). Step 50, Loss: 0.42378896474838257\n",
      "Generating Image Number: 20 for target class tensor([1]). Step 100, Loss: 0.02571389451622963\n",
      "Generating Image Number: 20 for target class tensor([1]). Step 150, Loss: 0.008583555929362774\n",
      "Generating Image Number: 20 for target class tensor([1]). Step 200, Loss: 0.005848082713782787\n",
      "Generating Image Number: 20 for target class tensor([1]). Step 250, Loss: 0.004384784959256649\n",
      "Generating Image Number: 20 for target class tensor([1]). Step 300, Loss: 0.0034444546326994896\n",
      "Generating Image Number: 20 for target class tensor([1]). Step 350, Loss: 0.00281461956910789\n",
      "Generating Image Number: 20 for target class tensor([1]). Step 400, Loss: 0.002388126915320754\n",
      "Generating Image Number: 20 for target class tensor([1]). Step 450, Loss: 0.0020811345893889666\n"
     ]
    }
   ],
   "source": [
    "torch.manual_seed(100)\n",
    "latent_vectors = torch.randn(img_count, z_dim, 1, 1, requires_grad=True) # Start with 20 random noises\n",
    "class1_optimized_latent_vectors = recover_images(img_count, 1, latent_vectors)"
   ]
  },
  {
   "cell_type": "code",
   "execution_count": 22,
   "id": "1c8af686-b1ff-419d-946d-2447773e47c9",
   "metadata": {
    "scrolled": true
   },
   "outputs": [
    {
     "name": "stdout",
     "output_type": "stream",
     "text": [
      "Generating Image Number: 1 for target class tensor([2]). Step 0, Loss: 1.8476500511169434\n",
      "Generating Image Number: 1 for target class tensor([2]). Step 50, Loss: 0.19365473091602325\n",
      "Generating Image Number: 1 for target class tensor([2]). Step 100, Loss: 0.1337304413318634\n",
      "Generating Image Number: 1 for target class tensor([2]). Step 150, Loss: 0.10570994019508362\n",
      "Generating Image Number: 1 for target class tensor([2]). Step 200, Loss: 0.08062577992677689\n",
      "Generating Image Number: 1 for target class tensor([2]). Step 250, Loss: 0.06317541748285294\n",
      "Generating Image Number: 1 for target class tensor([2]). Step 300, Loss: 0.05401337519288063\n",
      "Generating Image Number: 1 for target class tensor([2]). Step 350, Loss: 0.04741406440734863\n",
      "Generating Image Number: 1 for target class tensor([2]). Step 400, Loss: 0.04315919801592827\n",
      "Generating Image Number: 1 for target class tensor([2]). Step 450, Loss: 0.03948152810335159\n",
      "Generating Image Number: 2 for target class tensor([2]). Step 0, Loss: 2.362234592437744\n",
      "Generating Image Number: 2 for target class tensor([2]). Step 50, Loss: 0.2660147249698639\n",
      "Generating Image Number: 2 for target class tensor([2]). Step 100, Loss: 0.12937143445014954\n",
      "Generating Image Number: 2 for target class tensor([2]). Step 150, Loss: 0.10214899480342865\n",
      "Generating Image Number: 2 for target class tensor([2]). Step 200, Loss: 0.0881349965929985\n",
      "Generating Image Number: 2 for target class tensor([2]). Step 250, Loss: 0.0751446932554245\n",
      "Generating Image Number: 2 for target class tensor([2]). Step 300, Loss: 0.06375002861022949\n",
      "Generating Image Number: 2 for target class tensor([2]). Step 350, Loss: 0.05417543277144432\n",
      "Generating Image Number: 2 for target class tensor([2]). Step 400, Loss: 0.046265602111816406\n",
      "Generating Image Number: 2 for target class tensor([2]). Step 450, Loss: 0.039312943816185\n",
      "Generating Image Number: 3 for target class tensor([2]). Step 0, Loss: 0.9599130749702454\n",
      "Generating Image Number: 3 for target class tensor([2]). Step 50, Loss: 0.015491392463445663\n",
      "Generating Image Number: 3 for target class tensor([2]). Step 100, Loss: 0.007676151115447283\n",
      "Generating Image Number: 3 for target class tensor([2]). Step 150, Loss: 0.0053587364964187145\n",
      "Generating Image Number: 3 for target class tensor([2]). Step 200, Loss: 0.0038961467798799276\n",
      "Generating Image Number: 3 for target class tensor([2]). Step 250, Loss: 0.0030322547536343336\n",
      "Generating Image Number: 3 for target class tensor([2]). Step 300, Loss: 0.002497650682926178\n",
      "Generating Image Number: 3 for target class tensor([2]). Step 350, Loss: 0.002150248736143112\n",
      "Generating Image Number: 3 for target class tensor([2]). Step 400, Loss: 0.001892800792120397\n",
      "Generating Image Number: 3 for target class tensor([2]). Step 450, Loss: 0.0016705142334103584\n",
      "Generating Image Number: 4 for target class tensor([2]). Step 0, Loss: 1.3940045833587646\n",
      "Generating Image Number: 4 for target class tensor([2]). Step 50, Loss: 0.19350552558898926\n",
      "Generating Image Number: 4 for target class tensor([2]). Step 100, Loss: 0.10503081232309341\n",
      "Generating Image Number: 4 for target class tensor([2]). Step 150, Loss: 0.0693369135260582\n",
      "Generating Image Number: 4 for target class tensor([2]). Step 200, Loss: 0.05500698834657669\n",
      "Generating Image Number: 4 for target class tensor([2]). Step 250, Loss: 0.045029666274785995\n",
      "Generating Image Number: 4 for target class tensor([2]). Step 300, Loss: 0.03629370778799057\n",
      "Generating Image Number: 4 for target class tensor([2]). Step 350, Loss: 0.029617914929986\n",
      "Generating Image Number: 4 for target class tensor([2]). Step 400, Loss: 0.026417599990963936\n",
      "Generating Image Number: 4 for target class tensor([2]). Step 450, Loss: 0.024240771308541298\n",
      "Generating Image Number: 5 for target class tensor([2]). Step 0, Loss: 2.4193904399871826\n",
      "Generating Image Number: 5 for target class tensor([2]). Step 50, Loss: 0.14272841811180115\n",
      "Generating Image Number: 5 for target class tensor([2]). Step 100, Loss: 0.06697886437177658\n",
      "Generating Image Number: 5 for target class tensor([2]). Step 150, Loss: 0.04965066537261009\n",
      "Generating Image Number: 5 for target class tensor([2]). Step 200, Loss: 0.03991013392806053\n",
      "Generating Image Number: 5 for target class tensor([2]). Step 250, Loss: 0.032423559576272964\n",
      "Generating Image Number: 5 for target class tensor([2]). Step 300, Loss: 0.027582578361034393\n",
      "Generating Image Number: 5 for target class tensor([2]). Step 350, Loss: 0.02447356842458248\n",
      "Generating Image Number: 5 for target class tensor([2]). Step 400, Loss: 0.021179696545004845\n",
      "Generating Image Number: 5 for target class tensor([2]). Step 450, Loss: 0.018464231863617897\n",
      "Generating Image Number: 6 for target class tensor([2]). Step 0, Loss: 1.0392699241638184\n",
      "Generating Image Number: 6 for target class tensor([2]). Step 50, Loss: 0.09544207900762558\n",
      "Generating Image Number: 6 for target class tensor([2]). Step 100, Loss: 0.05688934773206711\n",
      "Generating Image Number: 6 for target class tensor([2]). Step 150, Loss: 0.04191232845187187\n",
      "Generating Image Number: 6 for target class tensor([2]). Step 200, Loss: 0.03183677792549133\n",
      "Generating Image Number: 6 for target class tensor([2]). Step 250, Loss: 0.026588834822177887\n",
      "Generating Image Number: 6 for target class tensor([2]). Step 300, Loss: 0.022591719403862953\n",
      "Generating Image Number: 6 for target class tensor([2]). Step 350, Loss: 0.018433336168527603\n",
      "Generating Image Number: 6 for target class tensor([2]). Step 400, Loss: 0.01473191101104021\n",
      "Generating Image Number: 6 for target class tensor([2]). Step 450, Loss: 0.012685557827353477\n",
      "Generating Image Number: 7 for target class tensor([2]). Step 0, Loss: 2.6496613025665283\n",
      "Generating Image Number: 7 for target class tensor([2]). Step 50, Loss: 0.2648549973964691\n",
      "Generating Image Number: 7 for target class tensor([2]). Step 100, Loss: 0.07939131557941437\n",
      "Generating Image Number: 7 for target class tensor([2]). Step 150, Loss: 0.051307033747434616\n",
      "Generating Image Number: 7 for target class tensor([2]). Step 200, Loss: 0.04213796183466911\n",
      "Generating Image Number: 7 for target class tensor([2]). Step 250, Loss: 0.03736329823732376\n",
      "Generating Image Number: 7 for target class tensor([2]). Step 300, Loss: 0.03410741686820984\n",
      "Generating Image Number: 7 for target class tensor([2]). Step 350, Loss: 0.031193729490041733\n",
      "Generating Image Number: 7 for target class tensor([2]). Step 400, Loss: 0.02872372977435589\n",
      "Generating Image Number: 7 for target class tensor([2]). Step 450, Loss: 0.025990953668951988\n",
      "Generating Image Number: 8 for target class tensor([2]). Step 0, Loss: 3.0888173580169678\n",
      "Generating Image Number: 8 for target class tensor([2]). Step 50, Loss: 0.16560682654380798\n",
      "Generating Image Number: 8 for target class tensor([2]). Step 100, Loss: 0.08148729056119919\n",
      "Generating Image Number: 8 for target class tensor([2]). Step 150, Loss: 0.06086716055870056\n",
      "Generating Image Number: 8 for target class tensor([2]). Step 200, Loss: 0.04842356964945793\n",
      "Generating Image Number: 8 for target class tensor([2]). Step 250, Loss: 0.037574347108602524\n",
      "Generating Image Number: 8 for target class tensor([2]). Step 300, Loss: 0.033094651997089386\n",
      "Generating Image Number: 8 for target class tensor([2]). Step 350, Loss: 0.02977726235985756\n",
      "Generating Image Number: 8 for target class tensor([2]). Step 400, Loss: 0.026653142645955086\n",
      "Generating Image Number: 8 for target class tensor([2]). Step 450, Loss: 0.024463564157485962\n",
      "Generating Image Number: 9 for target class tensor([2]). Step 0, Loss: 1.4952232837677002\n",
      "Generating Image Number: 9 for target class tensor([2]). Step 50, Loss: 0.09468632191419601\n",
      "Generating Image Number: 9 for target class tensor([2]). Step 100, Loss: 0.05344478040933609\n",
      "Generating Image Number: 9 for target class tensor([2]). Step 150, Loss: 0.038150887936353683\n",
      "Generating Image Number: 9 for target class tensor([2]). Step 200, Loss: 0.019013062119483948\n",
      "Generating Image Number: 9 for target class tensor([2]). Step 250, Loss: 0.014552641659975052\n",
      "Generating Image Number: 9 for target class tensor([2]). Step 300, Loss: 0.011255459859967232\n",
      "Generating Image Number: 9 for target class tensor([2]). Step 350, Loss: 0.009558034129440784\n",
      "Generating Image Number: 9 for target class tensor([2]). Step 400, Loss: 0.008314636535942554\n",
      "Generating Image Number: 9 for target class tensor([2]). Step 450, Loss: 0.007402727846056223\n",
      "Generating Image Number: 10 for target class tensor([2]). Step 0, Loss: 2.822222948074341\n",
      "Generating Image Number: 10 for target class tensor([2]). Step 50, Loss: 0.19322776794433594\n",
      "Generating Image Number: 10 for target class tensor([2]). Step 100, Loss: 0.11231745034456253\n",
      "Generating Image Number: 10 for target class tensor([2]). Step 150, Loss: 0.09054022282361984\n",
      "Generating Image Number: 10 for target class tensor([2]). Step 200, Loss: 0.07846992462873459\n",
      "Generating Image Number: 10 for target class tensor([2]). Step 250, Loss: 0.07046397775411606\n",
      "Generating Image Number: 10 for target class tensor([2]). Step 300, Loss: 0.06413359194993973\n",
      "Generating Image Number: 10 for target class tensor([2]). Step 350, Loss: 0.05741558223962784\n",
      "Generating Image Number: 10 for target class tensor([2]). Step 400, Loss: 0.04926513880491257\n",
      "Generating Image Number: 10 for target class tensor([2]). Step 450, Loss: 0.042733121663331985\n",
      "Generating Image Number: 11 for target class tensor([2]). Step 0, Loss: 1.0819921493530273\n",
      "Generating Image Number: 11 for target class tensor([2]). Step 50, Loss: 0.031638145446777344\n",
      "Generating Image Number: 11 for target class tensor([2]). Step 100, Loss: 0.016236810013651848\n",
      "Generating Image Number: 11 for target class tensor([2]). Step 150, Loss: 0.011897201649844646\n",
      "Generating Image Number: 11 for target class tensor([2]). Step 200, Loss: 0.0096397390589118\n",
      "Generating Image Number: 11 for target class tensor([2]). Step 250, Loss: 0.008469732478260994\n",
      "Generating Image Number: 11 for target class tensor([2]). Step 300, Loss: 0.0077151888981461525\n",
      "Generating Image Number: 11 for target class tensor([2]). Step 350, Loss: 0.007134674116969109\n",
      "Generating Image Number: 11 for target class tensor([2]). Step 400, Loss: 0.006625115405768156\n",
      "Generating Image Number: 11 for target class tensor([2]). Step 450, Loss: 0.006108542904257774\n",
      "Generating Image Number: 12 for target class tensor([2]). Step 0, Loss: 2.6098697185516357\n",
      "Generating Image Number: 12 for target class tensor([2]). Step 50, Loss: 0.22498683631420135\n",
      "Generating Image Number: 12 for target class tensor([2]). Step 100, Loss: 0.10038073360919952\n",
      "Generating Image Number: 12 for target class tensor([2]). Step 150, Loss: 0.05953942611813545\n",
      "Generating Image Number: 12 for target class tensor([2]). Step 200, Loss: 0.042358290404081345\n",
      "Generating Image Number: 12 for target class tensor([2]). Step 250, Loss: 0.03195016831159592\n",
      "Generating Image Number: 12 for target class tensor([2]). Step 300, Loss: 0.022003570571541786\n",
      "Generating Image Number: 12 for target class tensor([2]). Step 350, Loss: 0.01739448867738247\n",
      "Generating Image Number: 12 for target class tensor([2]). Step 400, Loss: 0.015200138092041016\n",
      "Generating Image Number: 12 for target class tensor([2]). Step 450, Loss: 0.013651463203132153\n",
      "Generating Image Number: 13 for target class tensor([2]). Step 0, Loss: 3.245084524154663\n",
      "Generating Image Number: 13 for target class tensor([2]). Step 50, Loss: 0.18386149406433105\n",
      "Generating Image Number: 13 for target class tensor([2]). Step 100, Loss: 0.07717441767454147\n",
      "Generating Image Number: 13 for target class tensor([2]). Step 150, Loss: 0.055743154138326645\n",
      "Generating Image Number: 13 for target class tensor([2]). Step 200, Loss: 0.045346882194280624\n",
      "Generating Image Number: 13 for target class tensor([2]). Step 250, Loss: 0.03927351534366608\n",
      "Generating Image Number: 13 for target class tensor([2]). Step 300, Loss: 0.03425568342208862\n",
      "Generating Image Number: 13 for target class tensor([2]). Step 350, Loss: 0.030198942869901657\n",
      "Generating Image Number: 13 for target class tensor([2]). Step 400, Loss: 0.026270605623722076\n",
      "Generating Image Number: 13 for target class tensor([2]). Step 450, Loss: 0.02369818091392517\n",
      "Generating Image Number: 14 for target class tensor([2]). Step 0, Loss: 2.8418760299682617\n",
      "Generating Image Number: 14 for target class tensor([2]). Step 50, Loss: 0.26133447885513306\n",
      "Generating Image Number: 14 for target class tensor([2]). Step 100, Loss: 0.14720310270786285\n",
      "Generating Image Number: 14 for target class tensor([2]). Step 150, Loss: 0.09376145154237747\n",
      "Generating Image Number: 14 for target class tensor([2]). Step 200, Loss: 0.07062271982431412\n",
      "Generating Image Number: 14 for target class tensor([2]). Step 250, Loss: 0.0561148077249527\n",
      "Generating Image Number: 14 for target class tensor([2]). Step 300, Loss: 0.04826648160815239\n",
      "Generating Image Number: 14 for target class tensor([2]). Step 350, Loss: 0.042404793202877045\n",
      "Generating Image Number: 14 for target class tensor([2]). Step 400, Loss: 0.038286738097667694\n",
      "Generating Image Number: 14 for target class tensor([2]). Step 450, Loss: 0.033432736992836\n",
      "Generating Image Number: 15 for target class tensor([2]). Step 0, Loss: 2.051252841949463\n",
      "Generating Image Number: 15 for target class tensor([2]). Step 50, Loss: 0.043611906468868256\n",
      "Generating Image Number: 15 for target class tensor([2]). Step 100, Loss: 0.01296271849423647\n",
      "Generating Image Number: 15 for target class tensor([2]). Step 150, Loss: 0.007995858788490295\n",
      "Generating Image Number: 15 for target class tensor([2]). Step 200, Loss: 0.005484059453010559\n",
      "Generating Image Number: 15 for target class tensor([2]). Step 250, Loss: 0.004318911116570234\n",
      "Generating Image Number: 15 for target class tensor([2]). Step 300, Loss: 0.003767418209463358\n",
      "Generating Image Number: 15 for target class tensor([2]). Step 350, Loss: 0.003331351326778531\n",
      "Generating Image Number: 15 for target class tensor([2]). Step 400, Loss: 0.003037959337234497\n",
      "Generating Image Number: 15 for target class tensor([2]). Step 450, Loss: 0.0028153329622000456\n",
      "Generating Image Number: 16 for target class tensor([2]). Step 0, Loss: 4.341997146606445\n",
      "Generating Image Number: 16 for target class tensor([2]). Step 50, Loss: 0.4898994565010071\n",
      "Generating Image Number: 16 for target class tensor([2]). Step 100, Loss: 0.16028188169002533\n",
      "Generating Image Number: 16 for target class tensor([2]). Step 150, Loss: 0.09883248060941696\n",
      "Generating Image Number: 16 for target class tensor([2]). Step 200, Loss: 0.05707976594567299\n",
      "Generating Image Number: 16 for target class tensor([2]). Step 250, Loss: 0.036523256450891495\n",
      "Generating Image Number: 16 for target class tensor([2]). Step 300, Loss: 0.027926474809646606\n",
      "Generating Image Number: 16 for target class tensor([2]). Step 350, Loss: 0.02271350286900997\n",
      "Generating Image Number: 16 for target class tensor([2]). Step 400, Loss: 0.017617523670196533\n",
      "Generating Image Number: 16 for target class tensor([2]). Step 450, Loss: 0.014273218810558319\n",
      "Generating Image Number: 17 for target class tensor([2]). Step 0, Loss: 6.283419609069824\n",
      "Generating Image Number: 17 for target class tensor([2]). Step 50, Loss: 0.09165268391370773\n",
      "Generating Image Number: 17 for target class tensor([2]). Step 100, Loss: 0.03535035625100136\n",
      "Generating Image Number: 17 for target class tensor([2]). Step 150, Loss: 0.023563243448734283\n",
      "Generating Image Number: 17 for target class tensor([2]). Step 200, Loss: 0.01828797161579132\n",
      "Generating Image Number: 17 for target class tensor([2]). Step 250, Loss: 0.015810489654541016\n",
      "Generating Image Number: 17 for target class tensor([2]). Step 300, Loss: 0.013958215713500977\n",
      "Generating Image Number: 17 for target class tensor([2]). Step 350, Loss: 0.012477431446313858\n",
      "Generating Image Number: 17 for target class tensor([2]). Step 400, Loss: 0.011470559053122997\n",
      "Generating Image Number: 17 for target class tensor([2]). Step 450, Loss: 0.010660485364496708\n",
      "Generating Image Number: 18 for target class tensor([2]). Step 0, Loss: 4.109381198883057\n",
      "Generating Image Number: 18 for target class tensor([2]). Step 50, Loss: 0.15226109325885773\n",
      "Generating Image Number: 18 for target class tensor([2]). Step 100, Loss: 0.08464214205741882\n",
      "Generating Image Number: 18 for target class tensor([2]). Step 150, Loss: 0.06677314639091492\n",
      "Generating Image Number: 18 for target class tensor([2]). Step 200, Loss: 0.05312560126185417\n",
      "Generating Image Number: 18 for target class tensor([2]). Step 250, Loss: 0.04567652568221092\n",
      "Generating Image Number: 18 for target class tensor([2]). Step 300, Loss: 0.03936990723013878\n",
      "Generating Image Number: 18 for target class tensor([2]). Step 350, Loss: 0.034065477550029755\n",
      "Generating Image Number: 18 for target class tensor([2]). Step 400, Loss: 0.030019650235772133\n",
      "Generating Image Number: 18 for target class tensor([2]). Step 450, Loss: 0.025444313883781433\n",
      "Generating Image Number: 19 for target class tensor([2]). Step 0, Loss: 3.086613655090332\n",
      "Generating Image Number: 19 for target class tensor([2]). Step 50, Loss: 0.07811001688241959\n",
      "Generating Image Number: 19 for target class tensor([2]). Step 100, Loss: 0.03199057653546333\n",
      "Generating Image Number: 19 for target class tensor([2]). Step 150, Loss: 0.023533552885055542\n",
      "Generating Image Number: 19 for target class tensor([2]). Step 200, Loss: 0.019659079611301422\n",
      "Generating Image Number: 19 for target class tensor([2]). Step 250, Loss: 0.01686786115169525\n",
      "Generating Image Number: 19 for target class tensor([2]). Step 300, Loss: 0.015023889020085335\n",
      "Generating Image Number: 19 for target class tensor([2]). Step 350, Loss: 0.013465295545756817\n",
      "Generating Image Number: 19 for target class tensor([2]). Step 400, Loss: 0.012130888178944588\n",
      "Generating Image Number: 19 for target class tensor([2]). Step 450, Loss: 0.011052222922444344\n",
      "Generating Image Number: 20 for target class tensor([2]). Step 0, Loss: 1.8273649215698242\n",
      "Generating Image Number: 20 for target class tensor([2]). Step 50, Loss: 0.21781915426254272\n",
      "Generating Image Number: 20 for target class tensor([2]). Step 100, Loss: 0.15864135324954987\n",
      "Generating Image Number: 20 for target class tensor([2]). Step 150, Loss: 0.12546780705451965\n",
      "Generating Image Number: 20 for target class tensor([2]). Step 200, Loss: 0.11292500048875809\n",
      "Generating Image Number: 20 for target class tensor([2]). Step 250, Loss: 0.10369104892015457\n",
      "Generating Image Number: 20 for target class tensor([2]). Step 300, Loss: 0.0972900390625\n",
      "Generating Image Number: 20 for target class tensor([2]). Step 350, Loss: 0.09121762216091156\n",
      "Generating Image Number: 20 for target class tensor([2]). Step 400, Loss: 0.0842864140868187\n",
      "Generating Image Number: 20 for target class tensor([2]). Step 450, Loss: 0.07647032290697098\n"
     ]
    }
   ],
   "source": [
    "torch.manual_seed(200)\n",
    "latent_vectors = torch.randn(img_count, z_dim, 1, 1, requires_grad=True) # Start with 20 random noises\n",
    "class2_optimized_latent_vectors = recover_images(img_count, 2, latent_vectors)"
   ]
  },
  {
   "cell_type": "code",
   "execution_count": 23,
   "id": "0381b36d-6c92-43bc-b776-1eefd3eab451",
   "metadata": {
    "scrolled": true
   },
   "outputs": [
    {
     "name": "stdout",
     "output_type": "stream",
     "text": [
      "Generating Image Number: 1 for target class tensor([3]). Step 0, Loss: 1.3415765762329102\n",
      "Generating Image Number: 1 for target class tensor([3]). Step 50, Loss: 0.016639500856399536\n",
      "Generating Image Number: 1 for target class tensor([3]). Step 100, Loss: 0.004872709512710571\n",
      "Generating Image Number: 1 for target class tensor([3]). Step 150, Loss: 0.0031998169142752886\n",
      "Generating Image Number: 1 for target class tensor([3]). Step 200, Loss: 0.0023041623644530773\n",
      "Generating Image Number: 1 for target class tensor([3]). Step 250, Loss: 0.0019326595356687903\n",
      "Generating Image Number: 1 for target class tensor([3]). Step 300, Loss: 0.001702646492049098\n",
      "Generating Image Number: 1 for target class tensor([3]). Step 350, Loss: 0.001553520211018622\n",
      "Generating Image Number: 1 for target class tensor([3]). Step 400, Loss: 0.00142020417843014\n",
      "Generating Image Number: 1 for target class tensor([3]). Step 450, Loss: 0.0012999664759263396\n",
      "Generating Image Number: 2 for target class tensor([3]). Step 0, Loss: 3.057058334350586\n",
      "Generating Image Number: 2 for target class tensor([3]). Step 50, Loss: 0.17976367473602295\n",
      "Generating Image Number: 2 for target class tensor([3]). Step 100, Loss: 0.07321332395076752\n",
      "Generating Image Number: 2 for target class tensor([3]). Step 150, Loss: 0.05237529054284096\n",
      "Generating Image Number: 2 for target class tensor([3]). Step 200, Loss: 0.0417417511343956\n",
      "Generating Image Number: 2 for target class tensor([3]). Step 250, Loss: 0.035549405962228775\n",
      "Generating Image Number: 2 for target class tensor([3]). Step 300, Loss: 0.029501598328351974\n",
      "Generating Image Number: 2 for target class tensor([3]). Step 350, Loss: 0.025658009573817253\n",
      "Generating Image Number: 2 for target class tensor([3]). Step 400, Loss: 0.02300875075161457\n",
      "Generating Image Number: 2 for target class tensor([3]). Step 450, Loss: 0.020929202437400818\n",
      "Generating Image Number: 3 for target class tensor([3]). Step 0, Loss: 1.3744410276412964\n",
      "Generating Image Number: 3 for target class tensor([3]). Step 50, Loss: 0.06952408701181412\n",
      "Generating Image Number: 3 for target class tensor([3]). Step 100, Loss: 0.031441088765859604\n",
      "Generating Image Number: 3 for target class tensor([3]). Step 150, Loss: 0.02233411930501461\n",
      "Generating Image Number: 3 for target class tensor([3]). Step 200, Loss: 0.017777038738131523\n",
      "Generating Image Number: 3 for target class tensor([3]). Step 250, Loss: 0.014427627436816692\n",
      "Generating Image Number: 3 for target class tensor([3]). Step 300, Loss: 0.012056807056069374\n",
      "Generating Image Number: 3 for target class tensor([3]). Step 350, Loss: 0.009682949632406235\n",
      "Generating Image Number: 3 for target class tensor([3]). Step 400, Loss: 0.008341590873897076\n",
      "Generating Image Number: 3 for target class tensor([3]). Step 450, Loss: 0.0074713570065796375\n",
      "Generating Image Number: 4 for target class tensor([3]). Step 0, Loss: 1.6620662212371826\n",
      "Generating Image Number: 4 for target class tensor([3]). Step 50, Loss: 0.05113307014107704\n",
      "Generating Image Number: 4 for target class tensor([3]). Step 100, Loss: 0.031960904598236084\n",
      "Generating Image Number: 4 for target class tensor([3]). Step 150, Loss: 0.026957789435982704\n",
      "Generating Image Number: 4 for target class tensor([3]). Step 200, Loss: 0.02411789447069168\n",
      "Generating Image Number: 4 for target class tensor([3]). Step 250, Loss: 0.021131375804543495\n",
      "Generating Image Number: 4 for target class tensor([3]). Step 300, Loss: 0.01747637614607811\n",
      "Generating Image Number: 4 for target class tensor([3]). Step 350, Loss: 0.013760700821876526\n",
      "Generating Image Number: 4 for target class tensor([3]). Step 400, Loss: 0.012266905978322029\n",
      "Generating Image Number: 4 for target class tensor([3]). Step 450, Loss: 0.011196875013411045\n",
      "Generating Image Number: 5 for target class tensor([3]). Step 0, Loss: 0.5719921588897705\n",
      "Generating Image Number: 5 for target class tensor([3]). Step 50, Loss: 0.012259134091436863\n",
      "Generating Image Number: 5 for target class tensor([3]). Step 100, Loss: 0.006353654898703098\n",
      "Generating Image Number: 5 for target class tensor([3]). Step 150, Loss: 0.00426787044852972\n",
      "Generating Image Number: 5 for target class tensor([3]). Step 200, Loss: 0.0033805386628955603\n",
      "Generating Image Number: 5 for target class tensor([3]). Step 250, Loss: 0.0028397017158567905\n",
      "Generating Image Number: 5 for target class tensor([3]). Step 300, Loss: 0.0024617386516183615\n",
      "Generating Image Number: 5 for target class tensor([3]). Step 350, Loss: 0.0021488212514668703\n",
      "Generating Image Number: 5 for target class tensor([3]). Step 400, Loss: 0.0019417019793763757\n",
      "Generating Image Number: 5 for target class tensor([3]). Step 450, Loss: 0.0017263285117223859\n",
      "Generating Image Number: 6 for target class tensor([3]). Step 0, Loss: 0.2771485149860382\n",
      "Generating Image Number: 6 for target class tensor([3]). Step 50, Loss: 0.008513703010976315\n",
      "Generating Image Number: 6 for target class tensor([3]). Step 100, Loss: 0.004821460228413343\n",
      "Generating Image Number: 6 for target class tensor([3]). Step 150, Loss: 0.003519889432936907\n",
      "Generating Image Number: 6 for target class tensor([3]). Step 200, Loss: 0.00277289398945868\n",
      "Generating Image Number: 6 for target class tensor([3]). Step 250, Loss: 0.0023110604379326105\n",
      "Generating Image Number: 6 for target class tensor([3]). Step 300, Loss: 0.0019374187104403973\n",
      "Generating Image Number: 6 for target class tensor([3]). Step 350, Loss: 0.0016327871708199382\n",
      "Generating Image Number: 6 for target class tensor([3]). Step 400, Loss: 0.0013594918418675661\n",
      "Generating Image Number: 6 for target class tensor([3]). Step 450, Loss: 0.0011994794476777315\n",
      "Generating Image Number: 7 for target class tensor([3]). Step 0, Loss: 3.8037781715393066\n",
      "Generating Image Number: 7 for target class tensor([3]). Step 50, Loss: 0.09326279908418655\n",
      "Generating Image Number: 7 for target class tensor([3]). Step 100, Loss: 0.04217853397130966\n",
      "Generating Image Number: 7 for target class tensor([3]). Step 150, Loss: 0.028120169416069984\n",
      "Generating Image Number: 7 for target class tensor([3]). Step 200, Loss: 0.019879741594195366\n",
      "Generating Image Number: 7 for target class tensor([3]). Step 250, Loss: 0.01562742330133915\n",
      "Generating Image Number: 7 for target class tensor([3]). Step 300, Loss: 0.01282608974725008\n",
      "Generating Image Number: 7 for target class tensor([3]). Step 350, Loss: 0.010789037682116032\n",
      "Generating Image Number: 7 for target class tensor([3]). Step 400, Loss: 0.009473606944084167\n",
      "Generating Image Number: 7 for target class tensor([3]). Step 450, Loss: 0.008612630888819695\n",
      "Generating Image Number: 8 for target class tensor([3]). Step 0, Loss: 1.3385239839553833\n",
      "Generating Image Number: 8 for target class tensor([3]). Step 50, Loss: 0.04241599142551422\n",
      "Generating Image Number: 8 for target class tensor([3]). Step 100, Loss: 0.01496340986341238\n",
      "Generating Image Number: 8 for target class tensor([3]). Step 150, Loss: 0.010830076411366463\n",
      "Generating Image Number: 8 for target class tensor([3]). Step 200, Loss: 0.008569372817873955\n",
      "Generating Image Number: 8 for target class tensor([3]). Step 250, Loss: 0.007181307766586542\n",
      "Generating Image Number: 8 for target class tensor([3]). Step 300, Loss: 0.00613816361874342\n",
      "Generating Image Number: 8 for target class tensor([3]). Step 350, Loss: 0.005172442179173231\n",
      "Generating Image Number: 8 for target class tensor([3]). Step 400, Loss: 0.0045225718058645725\n",
      "Generating Image Number: 8 for target class tensor([3]). Step 450, Loss: 0.004072587471455336\n",
      "Generating Image Number: 9 for target class tensor([3]). Step 0, Loss: 2.9087910652160645\n",
      "Generating Image Number: 9 for target class tensor([3]). Step 50, Loss: 0.10274875909090042\n",
      "Generating Image Number: 9 for target class tensor([3]). Step 100, Loss: 0.03662703558802605\n",
      "Generating Image Number: 9 for target class tensor([3]). Step 150, Loss: 0.024685611948370934\n",
      "Generating Image Number: 9 for target class tensor([3]). Step 200, Loss: 0.019814062863588333\n",
      "Generating Image Number: 9 for target class tensor([3]). Step 250, Loss: 0.01671406254172325\n",
      "Generating Image Number: 9 for target class tensor([3]). Step 300, Loss: 0.014991359785199165\n",
      "Generating Image Number: 9 for target class tensor([3]). Step 350, Loss: 0.013752822764217854\n",
      "Generating Image Number: 9 for target class tensor([3]). Step 400, Loss: 0.012704862281680107\n",
      "Generating Image Number: 9 for target class tensor([3]). Step 450, Loss: 0.011914988979697227\n",
      "Generating Image Number: 10 for target class tensor([3]). Step 0, Loss: 1.698821783065796\n",
      "Generating Image Number: 10 for target class tensor([3]). Step 50, Loss: 0.11188553273677826\n",
      "Generating Image Number: 10 for target class tensor([3]). Step 100, Loss: 0.047633007168769836\n",
      "Generating Image Number: 10 for target class tensor([3]). Step 150, Loss: 0.035248514264822006\n",
      "Generating Image Number: 10 for target class tensor([3]). Step 200, Loss: 0.028734037652611732\n",
      "Generating Image Number: 10 for target class tensor([3]). Step 250, Loss: 0.023881055414676666\n",
      "Generating Image Number: 10 for target class tensor([3]). Step 300, Loss: 0.02051387168467045\n",
      "Generating Image Number: 10 for target class tensor([3]). Step 350, Loss: 0.017402807250618935\n",
      "Generating Image Number: 10 for target class tensor([3]). Step 400, Loss: 0.014582248404622078\n",
      "Generating Image Number: 10 for target class tensor([3]). Step 450, Loss: 0.01242468599230051\n",
      "Generating Image Number: 11 for target class tensor([3]). Step 0, Loss: 0.6488032937049866\n",
      "Generating Image Number: 11 for target class tensor([3]). Step 50, Loss: 0.00876342598348856\n",
      "Generating Image Number: 11 for target class tensor([3]). Step 100, Loss: 0.003969528712332249\n",
      "Generating Image Number: 11 for target class tensor([3]). Step 150, Loss: 0.0027354462072253227\n",
      "Generating Image Number: 11 for target class tensor([3]). Step 200, Loss: 0.0020779224578291178\n",
      "Generating Image Number: 11 for target class tensor([3]). Step 250, Loss: 0.0016512343427166343\n",
      "Generating Image Number: 11 for target class tensor([3]). Step 300, Loss: 0.0013949673157185316\n",
      "Generating Image Number: 11 for target class tensor([3]). Step 350, Loss: 0.0012194823939353228\n",
      "Generating Image Number: 11 for target class tensor([3]). Step 400, Loss: 0.0010930284624919295\n",
      "Generating Image Number: 11 for target class tensor([3]). Step 450, Loss: 0.0009969270322471857\n",
      "Generating Image Number: 12 for target class tensor([3]). Step 0, Loss: 0.7292461395263672\n",
      "Generating Image Number: 12 for target class tensor([3]). Step 50, Loss: 0.02319769375026226\n",
      "Generating Image Number: 12 for target class tensor([3]). Step 100, Loss: 0.010044622235000134\n",
      "Generating Image Number: 12 for target class tensor([3]). Step 150, Loss: 0.006838844623416662\n",
      "Generating Image Number: 12 for target class tensor([3]). Step 200, Loss: 0.0050642783753573895\n",
      "Generating Image Number: 12 for target class tensor([3]). Step 250, Loss: 0.004199021030217409\n",
      "Generating Image Number: 12 for target class tensor([3]). Step 300, Loss: 0.0036204999778419733\n",
      "Generating Image Number: 12 for target class tensor([3]). Step 350, Loss: 0.002996837254613638\n",
      "Generating Image Number: 12 for target class tensor([3]). Step 400, Loss: 0.002272049430757761\n",
      "Generating Image Number: 12 for target class tensor([3]). Step 450, Loss: 0.0017987991450354457\n",
      "Generating Image Number: 13 for target class tensor([3]). Step 0, Loss: 0.15281294286251068\n",
      "Generating Image Number: 13 for target class tensor([3]). Step 50, Loss: 0.0025153683964163065\n",
      "Generating Image Number: 13 for target class tensor([3]). Step 100, Loss: 0.001666586846113205\n",
      "Generating Image Number: 13 for target class tensor([3]). Step 150, Loss: 0.0012679402716457844\n",
      "Generating Image Number: 13 for target class tensor([3]). Step 200, Loss: 0.001046705641783774\n",
      "Generating Image Number: 13 for target class tensor([3]). Step 250, Loss: 0.0008955758530646563\n",
      "Generating Image Number: 13 for target class tensor([3]). Step 300, Loss: 0.0007875440060161054\n",
      "Generating Image Number: 13 for target class tensor([3]). Step 350, Loss: 0.0007204797584563494\n",
      "Generating Image Number: 13 for target class tensor([3]). Step 400, Loss: 0.0006799769471399486\n",
      "Generating Image Number: 13 for target class tensor([3]). Step 450, Loss: 0.0006475735572166741\n",
      "Generating Image Number: 14 for target class tensor([3]). Step 0, Loss: 0.10870654135942459\n",
      "Generating Image Number: 14 for target class tensor([3]). Step 50, Loss: 0.004611808806657791\n",
      "Generating Image Number: 14 for target class tensor([3]). Step 100, Loss: 0.0026662535965442657\n",
      "Generating Image Number: 14 for target class tensor([3]). Step 150, Loss: 0.001912789884954691\n",
      "Generating Image Number: 14 for target class tensor([3]). Step 200, Loss: 0.0014840076910331845\n",
      "Generating Image Number: 14 for target class tensor([3]). Step 250, Loss: 0.001166973845101893\n",
      "Generating Image Number: 14 for target class tensor([3]). Step 300, Loss: 0.0009754904895089567\n",
      "Generating Image Number: 14 for target class tensor([3]). Step 350, Loss: 0.0008524598088115454\n",
      "Generating Image Number: 14 for target class tensor([3]). Step 400, Loss: 0.000770391256082803\n",
      "Generating Image Number: 14 for target class tensor([3]). Step 450, Loss: 0.0007109498255886137\n",
      "Generating Image Number: 15 for target class tensor([3]). Step 0, Loss: 1.4095159769058228\n",
      "Generating Image Number: 15 for target class tensor([3]). Step 50, Loss: 0.14609670639038086\n",
      "Generating Image Number: 15 for target class tensor([3]). Step 100, Loss: 0.07899550348520279\n",
      "Generating Image Number: 15 for target class tensor([3]). Step 150, Loss: 0.0534231960773468\n",
      "Generating Image Number: 15 for target class tensor([3]). Step 200, Loss: 0.043402355164289474\n",
      "Generating Image Number: 15 for target class tensor([3]). Step 250, Loss: 0.03831404447555542\n",
      "Generating Image Number: 15 for target class tensor([3]). Step 300, Loss: 0.034821707755327225\n",
      "Generating Image Number: 15 for target class tensor([3]). Step 350, Loss: 0.031922224909067154\n",
      "Generating Image Number: 15 for target class tensor([3]). Step 400, Loss: 0.02905125357210636\n",
      "Generating Image Number: 15 for target class tensor([3]). Step 450, Loss: 0.02604043111205101\n",
      "Generating Image Number: 16 for target class tensor([3]). Step 0, Loss: 3.414860725402832\n",
      "Generating Image Number: 16 for target class tensor([3]). Step 50, Loss: 0.041103098541498184\n",
      "Generating Image Number: 16 for target class tensor([3]). Step 100, Loss: 0.010045566596090794\n",
      "Generating Image Number: 16 for target class tensor([3]). Step 150, Loss: 0.007229122798889875\n",
      "Generating Image Number: 16 for target class tensor([3]). Step 200, Loss: 0.005990763660520315\n",
      "Generating Image Number: 16 for target class tensor([3]). Step 250, Loss: 0.005108280573040247\n",
      "Generating Image Number: 16 for target class tensor([3]). Step 300, Loss: 0.004492072854191065\n",
      "Generating Image Number: 16 for target class tensor([3]). Step 350, Loss: 0.003910396248102188\n",
      "Generating Image Number: 16 for target class tensor([3]). Step 400, Loss: 0.0034696399234235287\n",
      "Generating Image Number: 16 for target class tensor([3]). Step 450, Loss: 0.0031953013967722654\n",
      "Generating Image Number: 17 for target class tensor([3]). Step 0, Loss: 0.0658380389213562\n",
      "Generating Image Number: 17 for target class tensor([3]). Step 50, Loss: 0.0009152276325039566\n",
      "Generating Image Number: 17 for target class tensor([3]). Step 100, Loss: 0.0006188622792251408\n",
      "Generating Image Number: 17 for target class tensor([3]). Step 150, Loss: 0.0004914983292110264\n",
      "Generating Image Number: 17 for target class tensor([3]). Step 200, Loss: 0.0003922408213838935\n",
      "Generating Image Number: 17 for target class tensor([3]). Step 250, Loss: 0.000324673397699371\n",
      "Generating Image Number: 17 for target class tensor([3]). Step 300, Loss: 0.00028272447525523603\n",
      "Generating Image Number: 17 for target class tensor([3]). Step 350, Loss: 0.00024923557066358626\n",
      "Generating Image Number: 17 for target class tensor([3]). Step 400, Loss: 0.00022480344341602176\n",
      "Generating Image Number: 17 for target class tensor([3]). Step 450, Loss: 0.0002008474839385599\n",
      "Generating Image Number: 18 for target class tensor([3]). Step 0, Loss: 0.45135003328323364\n",
      "Generating Image Number: 18 for target class tensor([3]). Step 50, Loss: 0.005979150999337435\n",
      "Generating Image Number: 18 for target class tensor([3]). Step 100, Loss: 0.003010267624631524\n",
      "Generating Image Number: 18 for target class tensor([3]). Step 150, Loss: 0.0018881603609770536\n",
      "Generating Image Number: 18 for target class tensor([3]). Step 200, Loss: 0.0012990139657631516\n",
      "Generating Image Number: 18 for target class tensor([3]). Step 250, Loss: 0.0009707267745397985\n",
      "Generating Image Number: 18 for target class tensor([3]). Step 300, Loss: 0.0008430502493865788\n",
      "Generating Image Number: 18 for target class tensor([3]). Step 350, Loss: 0.000773250067140907\n",
      "Generating Image Number: 18 for target class tensor([3]). Step 400, Loss: 0.0007126175914891064\n",
      "Generating Image Number: 18 for target class tensor([3]). Step 450, Loss: 0.0006622266955673695\n",
      "Generating Image Number: 19 for target class tensor([3]). Step 0, Loss: 0.4562055468559265\n",
      "Generating Image Number: 19 for target class tensor([3]). Step 50, Loss: 0.00772642670199275\n",
      "Generating Image Number: 19 for target class tensor([3]). Step 100, Loss: 0.0040312702767550945\n",
      "Generating Image Number: 19 for target class tensor([3]). Step 150, Loss: 0.0026183391455560923\n",
      "Generating Image Number: 19 for target class tensor([3]). Step 200, Loss: 0.0015526870265603065\n",
      "Generating Image Number: 19 for target class tensor([3]). Step 250, Loss: 0.0011547094909474254\n",
      "Generating Image Number: 19 for target class tensor([3]). Step 300, Loss: 0.0009572691051289439\n",
      "Generating Image Number: 19 for target class tensor([3]). Step 350, Loss: 0.0008450751192867756\n",
      "Generating Image Number: 19 for target class tensor([3]). Step 400, Loss: 0.0007179781678132713\n",
      "Generating Image Number: 19 for target class tensor([3]). Step 450, Loss: 0.0006157647585496306\n",
      "Generating Image Number: 20 for target class tensor([3]). Step 0, Loss: 0.9080949425697327\n",
      "Generating Image Number: 20 for target class tensor([3]). Step 50, Loss: 0.008465240709483624\n",
      "Generating Image Number: 20 for target class tensor([3]). Step 100, Loss: 0.0044127944856882095\n",
      "Generating Image Number: 20 for target class tensor([3]). Step 150, Loss: 0.002885703928768635\n",
      "Generating Image Number: 20 for target class tensor([3]). Step 200, Loss: 0.002118130913004279\n",
      "Generating Image Number: 20 for target class tensor([3]). Step 250, Loss: 0.001711095916107297\n",
      "Generating Image Number: 20 for target class tensor([3]). Step 300, Loss: 0.0015206689713522792\n",
      "Generating Image Number: 20 for target class tensor([3]). Step 350, Loss: 0.0013394916895776987\n",
      "Generating Image Number: 20 for target class tensor([3]). Step 400, Loss: 0.0011855486081913114\n",
      "Generating Image Number: 20 for target class tensor([3]). Step 450, Loss: 0.001073975581675768\n"
     ]
    }
   ],
   "source": [
    "torch.manual_seed(300)\n",
    "latent_vectors = torch.randn(img_count, z_dim, 1, 1, requires_grad=True) # Start with 20 random noises\n",
    "class3_optimized_latent_vectors = recover_images(img_count, 3, latent_vectors)"
   ]
  },
  {
   "cell_type": "code",
   "execution_count": 24,
   "id": "ae6425a5-dd86-4e87-8112-883336345ac9",
   "metadata": {},
   "outputs": [],
   "source": [
    "z0_1 = class0_optimized_latent_vectors[0]\n",
    "z0_2 = class0_optimized_latent_vectors[1]\n",
    "z0_3 = class0_optimized_latent_vectors[2]"
   ]
  },
  {
   "cell_type": "code",
   "execution_count": 43,
   "id": "3a6ed4fb-b693-4963-afcf-17a512e50b5f",
   "metadata": {},
   "outputs": [
    {
     "name": "stdout",
     "output_type": "stream",
     "text": [
      "torch.Size([64, 64])\n"
     ]
    }
   ],
   "source": [
    "# Display the generated image\n",
    "img = gen(z0_1.to(device)).squeeze(dim=0).squeeze(dim=0)\n",
    "print(img.shape)"
   ]
  },
  {
   "cell_type": "code",
   "execution_count": 44,
   "id": "88fc9416-c6ca-486b-bd72-63885de78d1c",
   "metadata": {},
   "outputs": [
    {
     "data": {
      "text/plain": [
       "<matplotlib.image.AxesImage at 0x22a0bb51130>"
      ]
     },
     "execution_count": 44,
     "metadata": {},
     "output_type": "execute_result"
    },
    {
     "data": {
      "image/png": "[encoded data removed]",
      "text/plain": [
       "<Figure size 640x480 with 1 Axes>"
      ]
     },
     "metadata": {},
     "output_type": "display_data"
    }
   ],
   "source": [
    "plt.axis(False)\n",
    "plt.title('Recovered Image:')\n",
    "plt.imshow(img.cpu().detach(), cmap='gray')"
   ]
  },
  {
   "cell_type": "code",
   "execution_count": 27,
   "id": "bb0fc370-78c5-495f-b1e7-1239873b4ff8",
   "metadata": {},
   "outputs": [],
   "source": [
    "z1 = class1_optimized_latent_vectors[0]\n",
    "z2 = class1_optimized_latent_vectors[1]\n",
    "z3 = class1_optimized_latent_vectors[2]"
   ]
  },
  {
   "cell_type": "code",
   "execution_count": 41,
   "id": "07f38b7d-14f6-4d63-9efa-cb96ec2e1d35",
   "metadata": {},
   "outputs": [
    {
     "name": "stdout",
     "output_type": "stream",
     "text": [
      "torch.Size([64, 64])\n"
     ]
    }
   ],
   "source": [
    "# Display the generated image\n",
    "img = gen(z1.to(device)).squeeze(dim=0).squeeze(dim=0)\n",
    "print(img.shape)"
   ]
  },
  {
   "cell_type": "code",
   "execution_count": 42,
   "id": "8cad57ff-7961-4078-9dd4-1e0b4879ff56",
   "metadata": {},
   "outputs": [
    {
     "data": {
      "text/plain": [
       "<matplotlib.image.AxesImage at 0x22a0bfbbbe0>"
      ]
     },
     "execution_count": 42,
     "metadata": {},
     "output_type": "execute_result"
    },
    {
     "data": {
      "image/png": "[encoded data removed]",
      "text/plain": [
       "<Figure size 640x480 with 1 Axes>"
      ]
     },
     "metadata": {},
     "output_type": "display_data"
    }
   ],
   "source": [
    "plt.axis(False)\n",
    "plt.title('Recovered Image:')\n",
    "plt.imshow(img.cpu().detach(), cmap='gray')"
   ]
  },
  {
   "cell_type": "code",
   "execution_count": 32,
   "id": "45ceeaa6-6fb7-4fa9-a242-54ff21466c8b",
   "metadata": {},
   "outputs": [
    {
     "name": "stdout",
     "output_type": "stream",
     "text": [
      "torch.Size([64, 64])\n"
     ]
    }
   ],
   "source": [
    "# Display the generated image\n",
    "img = gen(latent_vectors[0].to(device)).squeeze(dim=0).squeeze(dim=0)\n",
    "print(img.shape)"
   ]
  },
  {
   "cell_type": "code",
   "execution_count": 45,
   "id": "52ecd67d-cb2d-44a3-b375-759d63db75b1",
   "metadata": {},
   "outputs": [],
   "source": [
    "                                                            # Dataset Loading\n",
    "# Load the .pkl files in as numpy arrays of pixels\n",
    "def load_tumor_data(file_path):\n",
    "    train_xs = []\n",
    "    train_ys = []\n",
    "    \"\"\" Load Digits Data from pickle data\n",
    "    return:\n",
    "    @xs: numpy.array, (n, c, w, h) \n",
    "    @ys: numpy.array, (n, ), 0-9\n",
    "    \"\"\"\n",
    "    with open(file_path, 'rb') as file:\n",
    "        data = pickle.load(file)\n",
    "        train_xs.append(data[\"data\"])\n",
    "        train_ys.append(data[\"labels\"])\n",
    "    train_xs = np.concatenate(train_xs, axis=0)\n",
    "    train_ys = np.concatenate(train_ys, axis=0)\n",
    "    \n",
    "    return train_xs, train_ys"
   ]
  },
  {
   "cell_type": "code",
   "execution_count": 46,
   "id": "ca72f62f-1eec-4b17-a8ce-fd66781f64f6",
   "metadata": {},
   "outputs": [],
   "source": [
    "# Custom Tumor Dataset\n",
    "class TumorDataset(data.Dataset):\n",
    "    def __init__(self, xs, ys, is_train=True):\n",
    "        self.xs = xs\n",
    "        self.ys = ys\n",
    "\n",
    "        if is_train is True:\n",
    "            self.transform = transforms.Compose([\n",
    "                transforms.ToPILImage(),\n",
    "                transforms.Resize((64, 64)),\n",
    "                transforms.ToTensor(),\n",
    "                transforms.Normalize(\n",
    "                    [0.5],\n",
    "                    [0.5]\n",
    "                )\n",
    "            ])\n",
    "        else:\n",
    "            self.transform = transforms.Compose([\n",
    "                transforms.ToPILImage(),\n",
    "                transforms.Resize((64, 64)),\n",
    "                transforms.ToTensor(),\n",
    "                transforms.Normalize(\n",
    "                    (0.4914, 0.4822, 0.4465),\n",
    "                    (0.2023, 0.1994, 0.2010)\n",
    "                )\n",
    "            ])\n",
    "\n",
    "    def __len__(self):\n",
    "        return len(self.xs)\n",
    "\n",
    "    def __getitem__(self, index):\n",
    "        img = self.xs[index]\n",
    "        #print(img.shape)\n",
    "        label = self.ys[index]\n",
    "\n",
    "        img = img.transpose((1, 2, 0)).astype(np.uint8)\n",
    "        img = self.transform(img)\n",
    "\n",
    "        img = torch.FloatTensor(img)\n",
    "        label = torch.LongTensor([label])[0]\n",
    "        return img, label"
   ]
  },
  {
   "cell_type": "code",
   "execution_count": 47,
   "id": "ceb91588-ef69-4373-b33f-74aed6c246bb",
   "metadata": {},
   "outputs": [],
   "source": [
    "def create_dataset(train_xs, train_ys):\n",
    "    tumor_dataset = TumorDataset(train_xs, train_ys, is_train=True)\n",
    "\n",
    "    return tumor_dataset"
   ]
  },
  {
   "cell_type": "code",
   "execution_count": 48,
   "id": "0415fba0-830c-42c6-bbde-c6958e779fbb",
   "metadata": {},
   "outputs": [],
   "source": [
    "def create_dataloader(dataset):\n",
    "    dataloader = DataLoader(dataset=dataset, batch_size=128, shuffle=True)\n",
    "\n",
    "    return dataloader"
   ]
  },
  {
   "cell_type": "code",
   "execution_count": 49,
   "id": "726d4995-5133-4037-ab0e-f2705470cdc9",
   "metadata": {},
   "outputs": [
    {
     "name": "stdout",
     "output_type": "stream",
     "text": [
      "(13927, 1, 32, 32)\n",
      "<class 'numpy.ndarray'>\n"
     ]
    }
   ],
   "source": [
    "# Load in the pickle dataset file\n",
    "train_xs, train_ys = load_tumor_data('datasets/Tumor/tumor4train.pkl')\n",
    "#train_xs = train_xs[:, 1, :, :]\n",
    "#train_xs = np.expand_dims(train_xs, axis=1)\n",
    "train_xs = train_xs.mean(axis=1, keepdims=True)\n",
    "print(train_xs.shape)\n",
    "print(type(train_xs))"
   ]
  },
  {
   "cell_type": "code",
   "execution_count": 50,
   "id": "a684b01a-eb4a-4210-9f59-d613085a404a",
   "metadata": {},
   "outputs": [],
   "source": [
    "# Create the dataset\n",
    "tumor_dataset = create_dataset(train_xs, train_ys)"
   ]
  },
  {
   "cell_type": "code",
   "execution_count": 51,
   "id": "193f07cc-d34f-425e-aa08-62b6d6adbad6",
   "metadata": {},
   "outputs": [],
   "source": [
    "def visualize_image(image_x):\n",
    "    # We have to visualize by reverting the normalization (just for visualization).\n",
    "    mean = torch.tensor([0.5])\n",
    "    std = torch.tensor([0.5])\n",
    "\n",
    "    image = image_x * std + mean  # Denormalize the image\n",
    "\n",
    "    image = torch.clamp(image, 0, 1) # Clip values to [0, 1] to ensure valid range for display\n",
    "\n",
    "    # Permute the image to (H, W, C) for matplotlib\n",
    "    \n",
    "    image = image.permute(1, 2, 0)\n",
    "\n",
    "    plt.imshow(image, cmap='gray')"
   ]
  },
  {
   "cell_type": "code",
   "execution_count": 52,
   "id": "16e93c17-a89b-46a2-8198-71e66e370f4f",
   "metadata": {},
   "outputs": [
    {
     "name": "stdout",
     "output_type": "stream",
     "text": [
      "torch.Size([1, 64, 64])\n"
     ]
    },
    {
     "data": {
      "image/png": "[encoded data removed]",
      "text/plain": [
       "<Figure size 640x480 with 1 Axes>"
      ]
     },
     "metadata": {},
     "output_type": "display_data"
    }
   ],
   "source": [
    "# Visualize the first tumor sample. \n",
    "image_x, image_y = tumor_dataset[7000]\n",
    "print(image_x.shape)\n",
    "visualize_image(image_x)"
   ]
  },
  {
   "cell_type": "code",
   "execution_count": 53,
   "id": "60e2da47-7cb6-493e-aeda-aa80d7965de7",
   "metadata": {},
   "outputs": [],
   "source": [
    "from scipy.spatial.distance import cosine"
   ]
  },
  {
   "cell_type": "code",
   "execution_count": 101,
   "id": "5a7937e5-b808-4b3e-8288-75dcd9862340",
   "metadata": {},
   "outputs": [],
   "source": [
    "# Get the feature embeddings\n",
    "tfcnn_model = target_model = load_target_model(base_net='TFCNN', n_classes=4, path='saved models/fedavg_global_model.pth').to(device)\n",
    "model_embeddings = tfcnn_model.encoder.to(device)"
   ]
  },
  {
   "cell_type": "code",
   "execution_count": 102,
   "id": "737e3d92-45b6-45f6-9bf2-d51f379d6ac8",
   "metadata": {},
   "outputs": [],
   "source": [
    "# Preprocessing\n",
    "preprocess = transforms.Compose([\n",
    "    transforms.Resize(256),\n",
    "    transforms.CenterCrop(224),\n",
    "    transforms.ToTensor(),\n",
    "])"
   ]
  },
  {
   "cell_type": "code",
   "execution_count": 121,
   "id": "babb1015-bdfb-439b-bea1-81f9f50dd74e",
   "metadata": {},
   "outputs": [],
   "source": [
    "def get_feature(img):\n",
    "    with torch.no_grad():\n",
    "        features = model_embeddings(img).squeeze()\n",
    "    return features.cpu().numpy()"
   ]
  },
  {
   "cell_type": "code",
   "execution_count": 122,
   "id": "79f38654-6670-440d-a322-b2cae18a71d8",
   "metadata": {},
   "outputs": [
    {
     "data": {
      "text/plain": [
       "torch.Size([1, 64, 64])"
      ]
     },
     "execution_count": 122,
     "metadata": {},
     "output_type": "execute_result"
    }
   ],
   "source": [
    "# Send an original image through the model\n",
    "image_x, image_y = tumor_dataset[10]\n",
    "image_x.shape"
   ]
  },
  {
   "cell_type": "code",
   "execution_count": 123,
   "id": "a4a2659e-dcaa-4d4a-b5a5-06b363ce6534",
   "metadata": {},
   "outputs": [],
   "source": [
    "image_x = image_x.unsqueeze(dim=0)"
   ]
  },
  {
   "cell_type": "code",
   "execution_count": 124,
   "id": "14348bfc-5988-48f0-88cf-4761d7a99d89",
   "metadata": {},
   "outputs": [
    {
     "data": {
      "text/plain": [
       "torch.Size([1, 1, 64, 64])"
      ]
     },
     "execution_count": 124,
     "metadata": {},
     "output_type": "execute_result"
    }
   ],
   "source": [
    "image_x.shape"
   ]
  },
  {
   "cell_type": "code",
   "execution_count": 125,
   "id": "66160253-9543-4aba-bb81-031d51ef9623",
   "metadata": {},
   "outputs": [
    {
     "data": {
      "text/plain": [
       "torch.Size([1, 3, 64, 64])"
      ]
     },
     "execution_count": 125,
     "metadata": {},
     "output_type": "execute_result"
    }
   ],
   "source": [
    "image_x = image_x.repeat(1, 3, 1, 1)\n",
    "image_x = image_x.to(device)\n",
    "image_x.shape"
   ]
  },
  {
   "cell_type": "code",
   "execution_count": 126,
   "id": "f615c7d3-2dab-425d-81e1-2595ec59e230",
   "metadata": {},
   "outputs": [
    {
     "data": {
      "text/plain": [
       "(4096,)"
      ]
     },
     "execution_count": 126,
     "metadata": {},
     "output_type": "execute_result"
    }
   ],
   "source": [
    "features = get_feature(image_x)\n",
    "features.shape"
   ]
  },
  {
   "cell_type": "code",
   "execution_count": 132,
   "id": "31b9ddc9-3fc8-4a47-bfc7-74a6df27d672",
   "metadata": {},
   "outputs": [],
   "source": [
    "class0_original_images = []\n",
    "class1_original_images = []\n",
    "class2_original_images = []\n",
    "class3_original_images = []\n",
    "target_num = 20 # 20 images for each class"
   ]
  },
  {
   "cell_type": "code",
   "execution_count": 133,
   "id": "e804c948-2dc8-41df-a633-113300baf12a",
   "metadata": {},
   "outputs": [],
   "source": [
    "for i in range(len(tumor_dataset)):\n",
    "    img_x, img_y = tumor_dataset[i]\n",
    "\n",
    "    if img_y == 0:\n",
    "        if len(class0_original_images) < target_num:\n",
    "            class0_original_images.append(img_x)\n",
    "    elif img_y == 1:\n",
    "        if len(class1_original_images) < target_num:\n",
    "            class1_original_images.append(img_x)\n",
    "    elif img_y == 2:\n",
    "        if len(class2_original_images) < target_num:\n",
    "            class2_original_images.append(img_x)\n",
    "    elif img_y == 3:\n",
    "        if len(class3_original_images) < target_num:\n",
    "            class3_original_images.append(img_x)"
   ]
  },
  {
   "cell_type": "code",
   "execution_count": 188,
   "id": "ef07c896-c4cd-48da-9e59-c9d7bd90a4e8",
   "metadata": {},
   "outputs": [
    {
     "data": {
      "text/plain": [
       "20"
      ]
     },
     "execution_count": 188,
     "metadata": {},
     "output_type": "execute_result"
    }
   ],
   "source": [
    "len(class1_original_images)"
   ]
  },
  {
   "cell_type": "code",
   "execution_count": 198,
   "id": "e102404a-68a3-40c5-99a7-45813eb87f20",
   "metadata": {},
   "outputs": [
    {
     "data": {
      "text/plain": [
       "torch.Size([1, 3, 64, 64])"
      ]
     },
     "execution_count": 198,
     "metadata": {},
     "output_type": "execute_result"
    }
   ],
   "source": [
    "# Testing the cosine similarity\n",
    "class1_original_image = class1_original_images[8]\n",
    "class1_original_image = class1_original_image.unsqueeze(dim=0).to(device)\n",
    "class1_original_image = class1_original_image.repeat(1, 3, 1, 1)\n",
    "class1_original_image.shape"
   ]
  },
  {
   "cell_type": "code",
   "execution_count": 199,
   "id": "d7fe9c85-2c83-4580-be7d-32833b706948",
   "metadata": {},
   "outputs": [],
   "source": [
    "fake1 = class1_optimized_latent_vectors[8]\n",
    "fake1_image = gen(fake1.to(device))\n",
    "fake1_image = fake1_image.repeat(1, 3, 1, 1)"
   ]
  },
  {
   "cell_type": "code",
   "execution_count": 200,
   "id": "74647152-cdcb-4593-a88f-d3ac43fd97d3",
   "metadata": {},
   "outputs": [
    {
     "data": {
      "text/plain": [
       "torch.Size([1, 3, 64, 64])"
      ]
     },
     "execution_count": 200,
     "metadata": {},
     "output_type": "execute_result"
    }
   ],
   "source": [
    "fake0_image.shape"
   ]
  },
  {
   "cell_type": "code",
   "execution_count": 201,
   "id": "e88f6396-0ef2-45f5-96e0-6048be01af25",
   "metadata": {},
   "outputs": [],
   "source": [
    "# Get the features of the images\n",
    "features_original = get_feature(class1_original_image)\n",
    "features_fake = get_feature(fake1_image)"
   ]
  },
  {
   "cell_type": "code",
   "execution_count": 202,
   "id": "b54e2bca-5f2b-41ea-b810-15d1f9d30f86",
   "metadata": {},
   "outputs": [],
   "source": [
    "# Compute cosine similarity\n",
    "similarity = 1 - cosine(features_original, features_fake)"
   ]
  },
  {
   "cell_type": "code",
   "execution_count": 203,
   "id": "983c7e35-27ee-453c-9356-cb9a84fdd4a3",
   "metadata": {},
   "outputs": [
    {
     "data": {
      "text/plain": [
       "np.float32(0.281375)"
      ]
     },
     "execution_count": 203,
     "metadata": {},
     "output_type": "execute_result"
    }
   ],
   "source": [
    "similarity"
   ]
  },
  {
   "cell_type": "code",
   "execution_count": 238,
   "id": "e65e04e8-52b7-4cf2-876c-d9b07a435ec9",
   "metadata": {},
   "outputs": [],
   "source": [
    "def calculate_class0_sim():\n",
    "    similarity = 0\n",
    "    for i in range(0, 20):\n",
    "        class0_original = class0_original_images[i].unsqueeze(dim=0).to(device)\n",
    "        class0_original = class0_original.repeat(1, 3, 1, 1)\n",
    "\n",
    "        class0_fake = class0_optimized_latent_vectors[i]\n",
    "        class0_fake_img = gen(class0_fake.to(device))\n",
    "        class0_fake_img = class0_fake_img.repeat(1, 3, 1, 1)\n",
    "\n",
    "        features_original = get_feature(class0_original)\n",
    "        features_fake = get_feature(class0_fake_img)\n",
    "\n",
    "        cosine_similarity = 1 - cosine(features_original, features_fake)\n",
    "        similarity += cosine_similarity\n",
    "\n",
    "    similarity = similarity / 20\n",
    "    return similarity"
   ]
  },
  {
   "cell_type": "code",
   "execution_count": 239,
   "id": "10d8f579-0b80-4157-b59b-7b92be9e52f2",
   "metadata": {},
   "outputs": [],
   "source": [
    "def calculate_class1_sim():\n",
    "    similarity = 0\n",
    "    for i in range(0, 20):\n",
    "        class1_original = class1_original_images[i].unsqueeze(dim=0).to(device)\n",
    "        class1_original = class1_original.repeat(1, 3, 1, 1)\n",
    "\n",
    "        class1_fake = class1_optimized_latent_vectors[i]\n",
    "        class1_fake_img = gen(class1_fake.to(device))\n",
    "        class1_fake_img = class1_fake_img.repeat(1, 3, 1, 1)\n",
    "\n",
    "        features_original = get_feature(class1_original)\n",
    "        features_fake = get_feature(class1_fake_img)\n",
    "\n",
    "        cosine_similarity = 1 - cosine(features_original, features_fake)\n",
    "        similarity += cosine_similarity\n",
    "\n",
    "    similarity = similarity / 20\n",
    "    return similarity\n",
    "        "
   ]
  },
  {
   "cell_type": "code",
   "execution_count": 240,
   "id": "1bbdc999-fa6d-4005-b785-3c54a7bd89ee",
   "metadata": {},
   "outputs": [],
   "source": [
    "def calculate_class2_sim():\n",
    "    similarity = 0\n",
    "    for i in range(0, 20):\n",
    "        class2_original = class2_original_images[i].unsqueeze(dim=0).to(device)\n",
    "        class2_original = class2_original.repeat(1, 3, 1, 1)\n",
    "\n",
    "        class2_fake = class2_optimized_latent_vectors[i]\n",
    "        class2_fake_img = gen(class2_fake.to(device))\n",
    "        class2_fake_img = class2_fake_img.repeat(1, 3, 1, 1)\n",
    "\n",
    "        features_original = get_feature(class2_original)\n",
    "        features_fake = get_feature(class2_fake_img)\n",
    "\n",
    "        cosine_similarity = 1 - cosine(features_original, features_fake)\n",
    "        similarity += cosine_similarity\n",
    "\n",
    "    similarity = similarity / 20\n",
    "    return similarity"
   ]
  },
  {
   "cell_type": "code",
   "execution_count": 241,
   "id": "33cb8de1-5a87-4dd4-8fc2-d3f27d6ddc9a",
   "metadata": {},
   "outputs": [],
   "source": [
    "def calculate_class3_sim():\n",
    "    similarity = 0\n",
    "    for i in range(0, 20):\n",
    "        class3_original = class3_original_images[i].unsqueeze(dim=0).to(device)\n",
    "        class3_original = class3_original.repeat(1, 3, 1, 1)\n",
    "\n",
    "        class3_fake = class3_optimized_latent_vectors[i]\n",
    "        class3_fake_img = gen(class3_fake.to(device))\n",
    "        class3_fake_img = class3_fake_img.repeat(1, 3, 1, 1)\n",
    "\n",
    "        features_original = get_feature(class3_original)\n",
    "        features_fake = get_feature(class3_fake_img)\n",
    "\n",
    "        cosine_similarity = 1 - cosine(features_original, features_fake)\n",
    "        similarity += cosine_similarity\n",
    "\n",
    "    similarity = similarity / 20\n",
    "    return similarity"
   ]
  },
  {
   "cell_type": "code",
   "execution_count": 250,
   "id": "a8e21ace-b797-4205-a0bb-a59a12383da5",
   "metadata": {},
   "outputs": [
    {
     "data": {
      "text/plain": [
       "np.float32(0.3763941)"
      ]
     },
     "execution_count": 250,
     "metadata": {},
     "output_type": "execute_result"
    }
   ],
   "source": [
    "avg_sim_0 = calculate_class0_sim()\n",
    "avg_sim_0"
   ]
  },
  {
   "cell_type": "code",
   "execution_count": 251,
   "id": "a8ad8dd1-ac3c-41d4-b3bd-e07c94437aa9",
   "metadata": {},
   "outputs": [
    {
     "data": {
      "text/plain": [
       "np.float32(0.2604649)"
      ]
     },
     "execution_count": 251,
     "metadata": {},
     "output_type": "execute_result"
    }
   ],
   "source": [
    "avg_sim_1 = calculate_class1_sim()\n",
    "avg_sim_1"
   ]
  },
  {
   "cell_type": "code",
   "execution_count": 252,
   "id": "572627d1-4f0c-4fc0-810d-1d5e8e353b14",
   "metadata": {},
   "outputs": [
    {
     "data": {
      "text/plain": [
       "np.float32(0.30400282)"
      ]
     },
     "execution_count": 252,
     "metadata": {},
     "output_type": "execute_result"
    }
   ],
   "source": [
    "avg_sim_2 = calculate_class2_sim()\n",
    "avg_sim_2"
   ]
  },
  {
   "cell_type": "code",
   "execution_count": 253,
   "id": "2377069e-6556-45f3-9ec2-0ba6d7e4d011",
   "metadata": {},
   "outputs": [
    {
     "data": {
      "text/plain": [
       "np.float32(0.2939765)"
      ]
     },
     "execution_count": 253,
     "metadata": {},
     "output_type": "execute_result"
    }
   ],
   "source": [
    "avg_sim_3 = calculate_class3_sim()\n",
    "avg_sim_3"
   ]
  }
 ],
 "metadata": {
  "kernelspec": {
   "display_name": "Python 3 (ipykernel)",
   "language": "python",
   "name": "python3"
  },
  "language_info": {
   "codemirror_mode": {
    "name": "ipython",
    "version": 3
   },
   "file_extension": ".py",
   "mimetype": "text/x-python",
   "name": "python",
   "nbconvert_exporter": "python",
   "pygments_lexer": "ipython3",
   "version": "3.9.7"
  }
 },
 "nbformat": 4,
 "nbformat_minor": 5
}
