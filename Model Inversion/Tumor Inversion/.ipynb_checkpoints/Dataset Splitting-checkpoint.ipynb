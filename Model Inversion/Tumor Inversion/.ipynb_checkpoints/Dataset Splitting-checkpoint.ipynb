{
 "cells": [
  {
   "cell_type": "code",
   "execution_count": 1,
   "id": "30aff4d8-5db2-4af6-b7ca-0be13b4fa679",
   "metadata": {},
   "outputs": [],
   "source": [
    "import pickle\n",
    "import numpy as np\n",
    "from sklearn.model_selection import train_test_split"
   ]
  },
  {
   "cell_type": "code",
   "execution_count": 2,
   "id": "4403c701-b6c8-4cd0-9db6-8b1db97f2257",
   "metadata": {},
   "outputs": [],
   "source": [
    "# Load the full dataset\n",
    "with open('datasets/Tumor/tumor4train.pkl', 'rb') as f:\n",
    "    data_dict = pickle.load(f)"
   ]
  },
  {
   "cell_type": "code",
   "execution_count": 3,
   "id": "721e94c8-293b-4c72-b4c9-cd269446ea15",
   "metadata": {},
   "outputs": [],
   "source": [
    "xs = data_dict[\"data\"]     # shape: (N, C, W, H)\n",
    "ys = data_dict[\"labels\"]   # shape: (N,)"
   ]
  },
  {
   "cell_type": "code",
   "execution_count": 4,
   "id": "88f40922-43c5-49e0-8e5d-16d923b9ae6c",
   "metadata": {},
   "outputs": [
    {
     "data": {
      "text/plain": [
       "(13927, 3, 32, 32)"
      ]
     },
     "execution_count": 4,
     "metadata": {},
     "output_type": "execute_result"
    }
   ],
   "source": [
    "np.array(xs).shape"
   ]
  },
  {
   "cell_type": "code",
   "execution_count": 5,
   "id": "a9a4b012-f92c-4f1c-87ea-4000fd64014b",
   "metadata": {},
   "outputs": [
    {
     "data": {
      "text/plain": [
       "(13927,)"
      ]
     },
     "execution_count": 5,
     "metadata": {},
     "output_type": "execute_result"
    }
   ],
   "source": [
    "np.array(ys).shape"
   ]
  },
  {
   "cell_type": "code",
   "execution_count": 6,
   "id": "5ed71fd9-3f97-4224-8bdb-aba740c376fc",
   "metadata": {},
   "outputs": [
    {
     "name": "stdout",
     "output_type": "stream",
     "text": [
      "Class 0: 4484 samples\n",
      "Class 1: 3589 samples\n",
      "Class 2: 3515 samples\n",
      "Class 3: 2339 samples\n"
     ]
    }
   ],
   "source": [
    "classes, counts = np.unique(ys, return_counts=True)\n",
    "for c, count in zip(classes, counts):\n",
    "    print(f\"Class {c}: {count} samples\")"
   ]
  },
  {
   "cell_type": "code",
   "execution_count": 7,
   "id": "5bab5b7f-58b9-4ae6-882c-f11e5c69db60",
   "metadata": {},
   "outputs": [],
   "source": [
    "xs = np.array(xs)\n",
    "ys = np.array(ys)"
   ]
  },
  {
   "cell_type": "code",
   "execution_count": 8,
   "id": "8462a682-b152-46bc-95e6-af720d70d017",
   "metadata": {},
   "outputs": [],
   "source": [
    "first, second = train_test_split(\n",
    "    np.arange(len(ys)),\n",
    "    test_size=0.4,\n",
    "    stratify=ys,\n",
    "    random_state=42\n",
    ")"
   ]
  },
  {
   "cell_type": "code",
   "execution_count": 9,
   "id": "10ebd70c-6538-4b48-b56d-8cbf108d6fd5",
   "metadata": {},
   "outputs": [],
   "source": [
    "first_xs, first_ys = xs[first], ys[first]\n",
    "second_xs, second_ys = xs[second], ys[second]"
   ]
  },
  {
   "cell_type": "code",
   "execution_count": 12,
   "id": "16b7ae50-03f7-4e4f-8c7c-575f8078eb55",
   "metadata": {},
   "outputs": [
    {
     "name": "stdout",
     "output_type": "stream",
     "text": [
      "Test set class distribution: (array([0, 1, 2, 3]), array([1794, 1436, 1406,  935]))\n"
     ]
    }
   ],
   "source": [
    "print(\"Test set class distribution:\", np.unique(second_ys, return_counts=True))"
   ]
  },
  {
   "cell_type": "code",
   "execution_count": 13,
   "id": "f0b50716-afa8-4a2b-bb7c-a503d63c60b5",
   "metadata": {},
   "outputs": [],
   "source": [
    "# Save\n",
    "with open(\"datasets/Tumor/tumor4First.pkl\", \"wb\") as f:\n",
    "    pickle.dump({\"data\": first_xs, \"labels\": first_ys}, f)\n",
    "\n",
    "with open(\"datasets/Tumor/tumor4Second.pkl\", \"wb\") as f:\n",
    "    pickle.dump({\"data\": second_xs, \"labels\": second_ys}, f)"
   ]
  }
 ],
 "metadata": {
  "kernelspec": {
   "display_name": "Python 3 (ipykernel)",
   "language": "python",
   "name": "python3"
  },
  "language_info": {
   "codemirror_mode": {
    "name": "ipython",
    "version": 3
   },
   "file_extension": ".py",
   "mimetype": "text/x-python",
   "name": "python",
   "nbconvert_exporter": "python",
   "pygments_lexer": "ipython3",
   "version": "3.9.7"
  }
 },
 "nbformat": 4,
 "nbformat_minor": 5
}
