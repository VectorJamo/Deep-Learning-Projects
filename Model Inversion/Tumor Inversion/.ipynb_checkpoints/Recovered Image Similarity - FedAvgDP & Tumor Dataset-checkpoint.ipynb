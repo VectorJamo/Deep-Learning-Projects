{
 "cells": [
  {
   "cell_type": "code",
   "execution_count": 1,
   "id": "646b38c2-386a-4f83-a983-ea764ad8267f",
   "metadata": {},
   "outputs": [],
   "source": [
    "# Attempting to recover training data using model's parameters and a DCGAN that was trained on similar data\n",
    "# Author: Suraj Neupane\n",
    "# Written from scratch as a part of a Research Project 2025, Concordia University of Edmonton.\n",
    "import numpy as np\n",
    "\n",
    "import torch\n",
    "from torch import nn\n",
    "from torch.nn import functional\n",
    "\n",
    "from torch.utils import data\n",
    "from torch.utils.data import DataLoader\n",
    "\n",
    "import torchvision\n",
    "from torchvision import datasets\n",
    "from torchvision import transforms\n",
    "\n",
    "import pickle\n",
    "\n",
    "import matplotlib.pyplot as plt\n",
    "%matplotlib inline"
   ]
  },
  {
   "cell_type": "code",
   "execution_count": 2,
   "id": "8b80ddb2-ed75-4870-85b4-9300fce0df7e",
   "metadata": {},
   "outputs": [
    {
     "data": {
      "text/plain": [
       "'2.5.1+cu118'"
      ]
     },
     "execution_count": 2,
     "metadata": {},
     "output_type": "execute_result"
    }
   ],
   "source": [
    "torch.__version__"
   ]
  },
  {
   "cell_type": "code",
   "execution_count": 3,
   "id": "d6950585-eb31-4f61-bd60-5bf8716fcdef",
   "metadata": {},
   "outputs": [],
   "source": [
    "device = 'cuda' if torch.cuda.is_available() else 'cpu'"
   ]
  },
  {
   "cell_type": "code",
   "execution_count": 4,
   "id": "36c47e07-6b7d-4123-a59d-5d465f9ef280",
   "metadata": {},
   "outputs": [
    {
     "data": {
      "text/plain": [
       "'cuda'"
      ]
     },
     "execution_count": 4,
     "metadata": {},
     "output_type": "execute_result"
    }
   ],
   "source": [
    "device"
   ]
  },
  {
   "cell_type": "code",
   "execution_count": 5,
   "id": "b852ca55-f33e-469f-b7b9-e00d21124927",
   "metadata": {},
   "outputs": [],
   "source": [
    "# DCGAN Implementation Class\n",
    "# Discriminator\n",
    "class Discriminator(nn.Module):\n",
    "    def __init__(self, img_channels, features_d):\n",
    "        super().__init__()\n",
    "        self.disc = nn.Sequential(\n",
    "            # Input shape: img_channels x 64 x 64\n",
    "            nn.Conv2d(\n",
    "              in_channels=img_channels, out_channels=features_d, kernel_size=4, stride=2, padding=1\n",
    "            ), # Output shape: features_d x 32 x 32\n",
    "            nn.LeakyReLU(0.2),\n",
    "            self._block(features_d, features_d*2, 4, 2, 1), # Output shape: features_d*2 x 16 x 16\n",
    "            self._block(features_d*2, features_d*4, 4, 2, 1), # Output shape: features_d*4 x 8 x 8\n",
    "            self._block(features_d*4, features_d*8, 4, 2, 1), # Output shape: features_d*8 x 4 x 4\n",
    "           \n",
    "            nn.Conv2d(in_channels=features_d*8, out_channels=1, kernel_size=4, stride=2, padding=0), # Output shape: 1 x 1\n",
    "            nn.Sigmoid(),\n",
    "        )\n",
    "\n",
    "    def _block(self, in_channels, out_channels, kernel_size, stride, padding):\n",
    "        return nn.Sequential(\n",
    "            nn.Conv2d(in_channels, out_channels, kernel_size, stride, padding, bias=False),\n",
    "            nn.BatchNorm2d(out_channels),\n",
    "            nn.LeakyReLU(0.2),\n",
    "        )\n",
    "\n",
    "    def forward(self, X):\n",
    "        return self.disc(X)\n"
   ]
  },
  {
   "cell_type": "code",
   "execution_count": 6,
   "id": "5afe02e5-61d3-4f25-8933-8484e519cd4a",
   "metadata": {},
   "outputs": [],
   "source": [
    "# Generator\n",
    "class Generator(nn.Module):\n",
    "    def __init__(self, z_dim, img_channels, features_g):\n",
    "        super().__init__()\n",
    "        self.gen = nn.Sequential(\n",
    "            self._block(z_dim, features_g*16, 4, 1, 0), # z_dim: (batch_size, 100, 1, 1) -> (batch_size, 1024, 4, 4)\n",
    "            self._block(features_g*16, features_g*8, 4, 2, 1), # z_dim: (batch_size, 1024, 4, 4) -> (batch_size, 512, 8, 8)\n",
    "            self._block(features_g*8, features_g*4, 4, 2, 1), # z_dim: (batch_size, 512, 8, 8) -> (batch_size, 256, 16, 16)\n",
    "            self._block(features_g*4, features_g*2, 4, 2, 1), # z_dim: (batch_size, 128, 16, 16) -> (batch_size, 64, 32, 32)\n",
    "            nn.ConvTranspose2d(\n",
    "                in_channels=features_g*2, out_channels=img_channels, kernel_size=4, stride=2, padding=1 # z_dim: (batch_size, 64, 32, 32) -> (batch_size, 1, 64, 64)\n",
    "            ),\n",
    "            nn.Tanh(),\n",
    "        )\n",
    "        \n",
    "    def _block(self, in_channels, out_channels, kernel_size, stride, padding):\n",
    "        return nn.Sequential(\n",
    "            nn.ConvTranspose2d(\n",
    "                in_channels, out_channels, kernel_size, stride, padding, bias=False,\n",
    "            ),\n",
    "            nn.InstanceNorm2d(out_channels, affine=True),\n",
    "            nn.ReLU(),\n",
    "        )\n",
    "\n",
    "    def forward(self, X):\n",
    "        return self.gen(X)"
   ]
  },
  {
   "cell_type": "code",
   "execution_count": 7,
   "id": "48c1be35-d58a-4d0c-990d-9250fbdbf1b3",
   "metadata": {},
   "outputs": [],
   "source": [
    "# Hyperparams\n",
    "z_dim = 100\n",
    "img_channels = 1\n",
    "features_disc = 64\n",
    "features_gen = 64"
   ]
  },
  {
   "cell_type": "code",
   "execution_count": 8,
   "id": "f2dc1f40-5c2e-4903-b2e7-7abe5cae9772",
   "metadata": {},
   "outputs": [],
   "source": [
    "# Create the model instances\n",
    "gen = Generator(z_dim, img_channels, features_gen).to(device)\n",
    "disc = Discriminator(img_channels, features_disc).to(device)"
   ]
  },
  {
   "cell_type": "code",
   "execution_count": 9,
   "id": "bc7a5deb-f8d8-41d4-aed3-d012d39a84b9",
   "metadata": {},
   "outputs": [
    {
     "data": {
      "text/plain": [
       "<All keys matched successfully>"
      ]
     },
     "execution_count": 9,
     "metadata": {},
     "output_type": "execute_result"
    }
   ],
   "source": [
    "# Load the trained GAN\n",
    "gen.load_state_dict(torch.load('saved models/Generator2.pth', weights_only=True))\n",
    "disc.load_state_dict(torch.load('saved models/Discriminator2.pth', weights_only=True))"
   ]
  },
  {
   "cell_type": "code",
   "execution_count": 10,
   "id": "a504e932-e168-4bb8-88cc-eea0810aafb0",
   "metadata": {},
   "outputs": [],
   "source": [
    "# Generate a random fake image\n",
    "noise = torch.randn(1, z_dim, 1, 1).to(device)\n",
    "fake_img = gen(noise)"
   ]
  },
  {
   "cell_type": "code",
   "execution_count": 11,
   "id": "98b5d73f-b130-4bc1-a868-c225bd2abe62",
   "metadata": {},
   "outputs": [
    {
     "data": {
      "text/plain": [
       "torch.Size([1, 1, 64, 64])"
      ]
     },
     "execution_count": 11,
     "metadata": {},
     "output_type": "execute_result"
    }
   ],
   "source": [
    "fake_img.shape"
   ]
  },
  {
   "cell_type": "code",
   "execution_count": 12,
   "id": "9d19338c-18e4-4b6e-842f-a225718fa8bb",
   "metadata": {},
   "outputs": [
    {
     "name": "stdout",
     "output_type": "stream",
     "text": [
      "torch.Size([64, 64])\n"
     ]
    },
    {
     "data": {
      "text/plain": [
       "<matplotlib.image.AxesImage at 0x1cd3459a970>"
      ]
     },
     "execution_count": 12,
     "metadata": {},
     "output_type": "execute_result"
    },
    {
     "data": {
      "image/png": "[encoded data removed]",
      "text/plain": [
       "<Figure size 640x480 with 1 Axes>"
      ]
     },
     "metadata": {},
     "output_type": "display_data"
    }
   ],
   "source": [
    "fake_img = fake_img.squeeze()\n",
    "print(fake_img.shape)\n",
    "plt.axis(False)\n",
    "plt.title('Fake Generated Image:')\n",
    "plt.imshow(fake_img.cpu().detach(), cmap='gray')"
   ]
  },
  {
   "cell_type": "code",
   "execution_count": 13,
   "id": "cf2aefac-a759-4335-a3de-2065d6a6a9a5",
   "metadata": {},
   "outputs": [],
   "source": [
    "# Target Model\n",
    "class TFCNN(nn.Module):\n",
    "    def __init__(self, n_classes):\n",
    "        super().__init__()\n",
    "        self.n_classes = n_classes\n",
    "\n",
    "        self.encoder = nn.Sequential(\n",
    "            nn.Conv2d(3, 32, 3, stride=1, padding=1),\n",
    "            nn.ReLU(True),\n",
    "            nn.MaxPool2d(2),\n",
    "            nn.Conv2d(32, 64, 3, stride=1, padding=1),\n",
    "            nn.ReLU(True),\n",
    "            nn.MaxPool2d(2),\n",
    "            nn.Conv2d(64, 64, 3, stride=1, padding=1),\n",
    "            nn.ReLU(True),\n",
    "            nn.MaxPool2d(2),\n",
    "            Reshape(),\n",
    "        )\n",
    "\n",
    "        self.h_size = 64 * 4 * 4\n",
    "\n",
    "        self.classifier = nn.Sequential(\n",
    "            nn.Linear(64 * 4 * 4, 128),\n",
    "            nn.ReLU(True),\n",
    "            nn.Linear(128, n_classes)\n",
    "        )\n",
    "\n",
    "    def forward(self, xs):\n",
    "        code = self.encoder(xs)\n",
    "        logits = self.classifier(code)\n",
    "        return code, logits\n"
   ]
  },
  {
   "cell_type": "code",
   "execution_count": 14,
   "id": "d28876e2-91ee-4ebf-bc52-b71dc82edfa2",
   "metadata": {},
   "outputs": [],
   "source": [
    "class Reshape(nn.Module):\n",
    "    def __init__(self,):\n",
    "        super().__init__()\n",
    "\n",
    "    def forward(self, xs):\n",
    "        return xs.reshape((xs.shape[0], -1))"
   ]
  },
  {
   "cell_type": "code",
   "execution_count": 15,
   "id": "dd57210c-2c18-4651-8f29-be94a7a7a88f",
   "metadata": {},
   "outputs": [],
   "source": [
    "class ClassifyNet(nn.Module):\n",
    "    def __init__(self, net, init_way, n_classes, input_size=None):\n",
    "        super().__init__()\n",
    "        self.net = net\n",
    "        self.init_way = init_way\n",
    "        self.n_classes = n_classes\n",
    "\n",
    "        model = TFCNN(n_classes)\n",
    "\n",
    "        self.h_size = model.h_size\n",
    "\n",
    "        # Convo and pool layers\n",
    "        self.encoder = model.encoder\n",
    "\n",
    "        # Classifier layer\n",
    "        self.classifier = nn.Linear(\n",
    "            self.h_size, self.n_classes, bias=False\n",
    "        )\n",
    "\n",
    "        if self.init_way == \"orth\":\n",
    "            ws = get_orth_weights(self.h_size, self.n_classes)\n",
    "            self.classifier.load_state_dict({\"weight\": ws})\n",
    "\n",
    "    def forward(self, xs):\n",
    "        hs = self.encoder(xs)\n",
    "        logits = self.classifier(hs)\n",
    "        return hs, logits"
   ]
  },
  {
   "cell_type": "code",
   "execution_count": 16,
   "id": "83ea3c08-0470-4c9a-ba15-8328a316b3ab",
   "metadata": {},
   "outputs": [],
   "source": [
    "def load_target_model(base_net, n_classes, path):\n",
    "    # Create the base model\n",
    "    model = ClassifyNet(net=base_net, init_way='none', n_classes=n_classes)\n",
    "    # Load the model\n",
    "    model.load_state_dict(torch.load(path, weights_only=True))\n",
    "\n",
    "    return model"
   ]
  },
  {
   "cell_type": "code",
   "execution_count": 17,
   "id": "0880f1aa-9d08-445a-85ac-f1ff3cebde04",
   "metadata": {},
   "outputs": [
    {
     "name": "stdout",
     "output_type": "stream",
     "text": [
      "Model loaded successfully!\n",
      "Number of parameters in the loaded model: 60416\n"
     ]
    }
   ],
   "source": [
    "# Target Model Loading\n",
    "BASE_NET = 'TFCNN'\n",
    "DATASET = 'tumor4'\n",
    "N_CLASSES = 4\n",
    "\n",
    "target_model = load_target_model(base_net=BASE_NET, n_classes=N_CLASSES, path='saved models/fedavgDP_global_model1.path').to(device)\n",
    "print('Model loaded successfully!')\n",
    "target_model.eval()\n",
    "\n",
    "num_params = sum(p.numel() for p in target_model.parameters())\n",
    "print('Number of parameters in the loaded model:', num_params)\n"
   ]
  },
  {
   "cell_type": "code",
   "execution_count": 18,
   "id": "f843f19e-b2a5-4ffe-b22b-de4ff93c5643",
   "metadata": {},
   "outputs": [],
   "source": [
    "# BEGIN BATCH MODEL INVERSION\n",
    "img_count = 20\n",
    "latent_vectors = torch.randn(img_count, z_dim, 1, 1, requires_grad=True) # Start with 20 random noises"
   ]
  },
  {
   "cell_type": "code",
   "execution_count": 19,
   "id": "c21320ed-d5ac-4919-aaad-8cfa093998a6",
   "metadata": {},
   "outputs": [],
   "source": [
    "def recover_images(count, target_image_class, latent_vectors):\n",
    "    optimized_latent_vectors = []\n",
    "    \n",
    "    for x in range(0, count):\n",
    "        z = latent_vectors[x].unsqueeze(dim=0).clone().detach().requires_grad_(True)\n",
    "        \n",
    "        learning_rate = 0.01\n",
    "        target_class = 1 # The second class\n",
    "        \n",
    "        # Create the optimizer\n",
    "        optimizer = torch.optim.Adam([z], lr=learning_rate)\n",
    "        \n",
    "        # Loss function (e.g., Cross-Entropy with classifier outputs)\n",
    "        loss_fn = nn.CrossEntropyLoss()\n",
    "        target_class = torch.tensor([target_image_class])  # Set the target class\n",
    "    \n",
    "        # Optimization loop to find the best z\n",
    "        rounds = 500\n",
    "        for i in range(rounds):\n",
    "            optimizer.zero_grad()\n",
    "            \n",
    "            generated_image = gen(z.to(device))  # Generate an image from the latent vector\n",
    "            generated_image = generated_image.repeat(1, 3, 1, 1)\n",
    "            generated_image = functional.interpolate(generated_image, size=(32, 32), mode='nearest')\n",
    "            #print(generated_image.shape)\n",
    "            hs, prediction_logits = target_model(generated_image)  # Classifier output\n",
    "            #print(prediction_logits)\n",
    "            #print(type(prediction_logits))\n",
    "            loss = loss_fn(prediction_logits, target_class.to(device))  # Minimize difference with true class\n",
    "            loss.backward()\n",
    "            optimizer.step()\n",
    "            \n",
    "            if i % 50 == 0:\n",
    "                print(f\"Generating Image Number: {x+1} for target class {target_class}. Step {i}, Loss: {loss.item()}\")\n",
    "    \n",
    "        optimized_latent_vectors.append(z)\n",
    "        \n",
    "    return optimized_latent_vectors"
   ]
  },
  {
   "cell_type": "code",
   "execution_count": 20,
   "id": "9ebc9533-23ca-4d44-8aea-9d134281b3a4",
   "metadata": {
    "scrolled": true
   },
   "outputs": [
    {
     "name": "stdout",
     "output_type": "stream",
     "text": [
      "Generating Image Number: 1 for target class tensor([0]). Step 0, Loss: 62.22508239746094\n",
      "Generating Image Number: 1 for target class tensor([0]). Step 50, Loss: 35.500267028808594\n",
      "Generating Image Number: 1 for target class tensor([0]). Step 100, Loss: 33.75621795654297\n",
      "Generating Image Number: 1 for target class tensor([0]). Step 150, Loss: 32.36505126953125\n",
      "Generating Image Number: 1 for target class tensor([0]). Step 200, Loss: 30.45201301574707\n",
      "Generating Image Number: 1 for target class tensor([0]). Step 250, Loss: 28.86367416381836\n",
      "Generating Image Number: 1 for target class tensor([0]). Step 300, Loss: 27.976703643798828\n",
      "Generating Image Number: 1 for target class tensor([0]). Step 350, Loss: 27.233549118041992\n",
      "Generating Image Number: 1 for target class tensor([0]). Step 400, Loss: 26.4458065032959\n",
      "Generating Image Number: 1 for target class tensor([0]). Step 450, Loss: 25.841100692749023\n",
      "Generating Image Number: 2 for target class tensor([0]). Step 0, Loss: 41.44480895996094\n",
      "Generating Image Number: 2 for target class tensor([0]). Step 50, Loss: 36.026397705078125\n",
      "Generating Image Number: 2 for target class tensor([0]). Step 100, Loss: 30.4023380279541\n",
      "Generating Image Number: 2 for target class tensor([0]). Step 150, Loss: 27.998952865600586\n",
      "Generating Image Number: 2 for target class tensor([0]). Step 200, Loss: 27.088581085205078\n",
      "Generating Image Number: 2 for target class tensor([0]). Step 250, Loss: 26.548715591430664\n",
      "Generating Image Number: 2 for target class tensor([0]). Step 300, Loss: 26.11472511291504\n",
      "Generating Image Number: 2 for target class tensor([0]). Step 350, Loss: 25.715076446533203\n",
      "Generating Image Number: 2 for target class tensor([0]). Step 400, Loss: 25.14462661743164\n",
      "Generating Image Number: 2 for target class tensor([0]). Step 450, Loss: 24.73116111755371\n",
      "Generating Image Number: 3 for target class tensor([0]). Step 0, Loss: 40.38249206542969\n",
      "Generating Image Number: 3 for target class tensor([0]). Step 50, Loss: 35.63569641113281\n",
      "Generating Image Number: 3 for target class tensor([0]). Step 100, Loss: 33.8472785949707\n",
      "Generating Image Number: 3 for target class tensor([0]). Step 150, Loss: 32.07143783569336\n",
      "Generating Image Number: 3 for target class tensor([0]). Step 200, Loss: 30.477615356445312\n",
      "Generating Image Number: 3 for target class tensor([0]). Step 250, Loss: 28.333587646484375\n",
      "Generating Image Number: 3 for target class tensor([0]). Step 300, Loss: 26.18063735961914\n",
      "Generating Image Number: 3 for target class tensor([0]). Step 350, Loss: 25.023719787597656\n",
      "Generating Image Number: 3 for target class tensor([0]). Step 400, Loss: 24.00910186767578\n",
      "Generating Image Number: 3 for target class tensor([0]). Step 450, Loss: 22.54092788696289\n",
      "Generating Image Number: 4 for target class tensor([0]). Step 0, Loss: 40.86758041381836\n",
      "Generating Image Number: 4 for target class tensor([0]). Step 50, Loss: 35.45225524902344\n",
      "Generating Image Number: 4 for target class tensor([0]). Step 100, Loss: 32.267555236816406\n",
      "Generating Image Number: 4 for target class tensor([0]). Step 150, Loss: 28.28496551513672\n",
      "Generating Image Number: 4 for target class tensor([0]). Step 200, Loss: 27.123180389404297\n",
      "Generating Image Number: 4 for target class tensor([0]). Step 250, Loss: 26.35551643371582\n",
      "Generating Image Number: 4 for target class tensor([0]). Step 300, Loss: 25.799579620361328\n",
      "Generating Image Number: 4 for target class tensor([0]). Step 350, Loss: 25.51174545288086\n",
      "Generating Image Number: 4 for target class tensor([0]). Step 400, Loss: 25.177305221557617\n",
      "Generating Image Number: 4 for target class tensor([0]). Step 450, Loss: 24.87534523010254\n",
      "Generating Image Number: 5 for target class tensor([0]). Step 0, Loss: 51.65364074707031\n",
      "Generating Image Number: 5 for target class tensor([0]). Step 50, Loss: 53.93205261230469\n",
      "Generating Image Number: 5 for target class tensor([0]). Step 100, Loss: 41.365882873535156\n",
      "Generating Image Number: 5 for target class tensor([0]). Step 150, Loss: 39.587745666503906\n",
      "Generating Image Number: 5 for target class tensor([0]). Step 200, Loss: 39.31208801269531\n",
      "Generating Image Number: 5 for target class tensor([0]). Step 250, Loss: 39.02611541748047\n",
      "Generating Image Number: 5 for target class tensor([0]). Step 300, Loss: 38.750186920166016\n",
      "Generating Image Number: 5 for target class tensor([0]). Step 350, Loss: 38.47667694091797\n",
      "Generating Image Number: 5 for target class tensor([0]). Step 400, Loss: 38.30527877807617\n",
      "Generating Image Number: 5 for target class tensor([0]). Step 450, Loss: 38.07379913330078\n",
      "Generating Image Number: 6 for target class tensor([0]). Step 0, Loss: 38.27870178222656\n",
      "Generating Image Number: 6 for target class tensor([0]). Step 50, Loss: 35.340171813964844\n",
      "Generating Image Number: 6 for target class tensor([0]). Step 100, Loss: 32.9480094909668\n",
      "Generating Image Number: 6 for target class tensor([0]). Step 150, Loss: 29.642948150634766\n",
      "Generating Image Number: 6 for target class tensor([0]). Step 200, Loss: 26.833084106445312\n",
      "Generating Image Number: 6 for target class tensor([0]). Step 250, Loss: 24.505748748779297\n",
      "Generating Image Number: 6 for target class tensor([0]). Step 300, Loss: 22.940719604492188\n",
      "Generating Image Number: 6 for target class tensor([0]). Step 350, Loss: 22.064401626586914\n",
      "Generating Image Number: 6 for target class tensor([0]). Step 400, Loss: 21.493358612060547\n",
      "Generating Image Number: 6 for target class tensor([0]). Step 450, Loss: 21.03700065612793\n",
      "Generating Image Number: 7 for target class tensor([0]). Step 0, Loss: 70.23727416992188\n",
      "Generating Image Number: 7 for target class tensor([0]). Step 50, Loss: 37.34336853027344\n",
      "Generating Image Number: 7 for target class tensor([0]). Step 100, Loss: 36.14603042602539\n",
      "Generating Image Number: 7 for target class tensor([0]). Step 150, Loss: 35.10749816894531\n",
      "Generating Image Number: 7 for target class tensor([0]). Step 200, Loss: 33.26002883911133\n",
      "Generating Image Number: 7 for target class tensor([0]). Step 250, Loss: 29.959651947021484\n",
      "Generating Image Number: 7 for target class tensor([0]). Step 300, Loss: 29.060914993286133\n",
      "Generating Image Number: 7 for target class tensor([0]). Step 350, Loss: 28.015798568725586\n",
      "Generating Image Number: 7 for target class tensor([0]). Step 400, Loss: 27.239994049072266\n",
      "Generating Image Number: 7 for target class tensor([0]). Step 450, Loss: 26.688276290893555\n",
      "Generating Image Number: 8 for target class tensor([0]). Step 0, Loss: 40.58113098144531\n",
      "Generating Image Number: 8 for target class tensor([0]). Step 50, Loss: 28.987651824951172\n",
      "Generating Image Number: 8 for target class tensor([0]). Step 100, Loss: 25.796886444091797\n",
      "Generating Image Number: 8 for target class tensor([0]). Step 150, Loss: 23.271156311035156\n",
      "Generating Image Number: 8 for target class tensor([0]). Step 200, Loss: 21.75775909423828\n",
      "Generating Image Number: 8 for target class tensor([0]). Step 250, Loss: 20.894481658935547\n",
      "Generating Image Number: 8 for target class tensor([0]). Step 300, Loss: 20.265947341918945\n",
      "Generating Image Number: 8 for target class tensor([0]). Step 350, Loss: 19.325353622436523\n",
      "Generating Image Number: 8 for target class tensor([0]). Step 400, Loss: 18.548532485961914\n",
      "Generating Image Number: 8 for target class tensor([0]). Step 450, Loss: 17.88396644592285\n",
      "Generating Image Number: 9 for target class tensor([0]). Step 0, Loss: 49.561649322509766\n",
      "Generating Image Number: 9 for target class tensor([0]). Step 50, Loss: 36.35913848876953\n",
      "Generating Image Number: 9 for target class tensor([0]). Step 100, Loss: 35.71928405761719\n",
      "Generating Image Number: 9 for target class tensor([0]). Step 150, Loss: 34.87841796875\n",
      "Generating Image Number: 9 for target class tensor([0]). Step 200, Loss: 34.23575210571289\n",
      "Generating Image Number: 9 for target class tensor([0]). Step 250, Loss: 33.527706146240234\n",
      "Generating Image Number: 9 for target class tensor([0]). Step 300, Loss: 33.08441925048828\n",
      "Generating Image Number: 9 for target class tensor([0]). Step 350, Loss: 32.708160400390625\n",
      "Generating Image Number: 9 for target class tensor([0]). Step 400, Loss: 32.25217819213867\n",
      "Generating Image Number: 9 for target class tensor([0]). Step 450, Loss: 31.297121047973633\n",
      "Generating Image Number: 10 for target class tensor([0]). Step 0, Loss: 57.7222900390625\n",
      "Generating Image Number: 10 for target class tensor([0]). Step 50, Loss: 35.681793212890625\n",
      "Generating Image Number: 10 for target class tensor([0]). Step 100, Loss: 34.455780029296875\n",
      "Generating Image Number: 10 for target class tensor([0]). Step 150, Loss: 33.046504974365234\n",
      "Generating Image Number: 10 for target class tensor([0]). Step 200, Loss: 30.33268165588379\n",
      "Generating Image Number: 10 for target class tensor([0]). Step 250, Loss: 27.54319953918457\n",
      "Generating Image Number: 10 for target class tensor([0]). Step 300, Loss: 26.644906997680664\n",
      "Generating Image Number: 10 for target class tensor([0]). Step 350, Loss: 25.940465927124023\n",
      "Generating Image Number: 10 for target class tensor([0]). Step 400, Loss: 25.436058044433594\n",
      "Generating Image Number: 10 for target class tensor([0]). Step 450, Loss: 25.067855834960938\n",
      "Generating Image Number: 11 for target class tensor([0]). Step 0, Loss: 49.59205627441406\n",
      "Generating Image Number: 11 for target class tensor([0]). Step 50, Loss: 35.17375946044922\n",
      "Generating Image Number: 11 for target class tensor([0]). Step 100, Loss: 33.430267333984375\n",
      "Generating Image Number: 11 for target class tensor([0]). Step 150, Loss: 29.753875732421875\n",
      "Generating Image Number: 11 for target class tensor([0]). Step 200, Loss: 27.130966186523438\n",
      "Generating Image Number: 11 for target class tensor([0]). Step 250, Loss: 25.86117172241211\n",
      "Generating Image Number: 11 for target class tensor([0]). Step 300, Loss: 25.06315040588379\n",
      "Generating Image Number: 11 for target class tensor([0]). Step 350, Loss: 24.357084274291992\n",
      "Generating Image Number: 11 for target class tensor([0]). Step 400, Loss: 23.668575286865234\n",
      "Generating Image Number: 11 for target class tensor([0]). Step 450, Loss: 22.902393341064453\n",
      "Generating Image Number: 12 for target class tensor([0]). Step 0, Loss: 37.145713806152344\n",
      "Generating Image Number: 12 for target class tensor([0]). Step 50, Loss: 33.83796691894531\n",
      "Generating Image Number: 12 for target class tensor([0]). Step 100, Loss: 28.840370178222656\n",
      "Generating Image Number: 12 for target class tensor([0]). Step 150, Loss: 27.282400131225586\n",
      "Generating Image Number: 12 for target class tensor([0]). Step 200, Loss: 26.498050689697266\n",
      "Generating Image Number: 12 for target class tensor([0]). Step 250, Loss: 26.14402961730957\n",
      "Generating Image Number: 12 for target class tensor([0]). Step 300, Loss: 25.933269500732422\n",
      "Generating Image Number: 12 for target class tensor([0]). Step 350, Loss: 25.737728118896484\n",
      "Generating Image Number: 12 for target class tensor([0]). Step 400, Loss: 25.593292236328125\n",
      "Generating Image Number: 12 for target class tensor([0]). Step 450, Loss: 25.41291046142578\n",
      "Generating Image Number: 13 for target class tensor([0]). Step 0, Loss: 64.36715698242188\n",
      "Generating Image Number: 13 for target class tensor([0]). Step 50, Loss: 37.11463165283203\n",
      "Generating Image Number: 13 for target class tensor([0]). Step 100, Loss: 36.22026062011719\n",
      "Generating Image Number: 13 for target class tensor([0]). Step 150, Loss: 34.923194885253906\n",
      "Generating Image Number: 13 for target class tensor([0]). Step 200, Loss: 32.39344787597656\n",
      "Generating Image Number: 13 for target class tensor([0]). Step 250, Loss: 30.079933166503906\n",
      "Generating Image Number: 13 for target class tensor([0]). Step 300, Loss: 28.47162437438965\n",
      "Generating Image Number: 13 for target class tensor([0]). Step 350, Loss: 27.881834030151367\n",
      "Generating Image Number: 13 for target class tensor([0]). Step 400, Loss: 27.550132751464844\n",
      "Generating Image Number: 13 for target class tensor([0]). Step 450, Loss: 27.27433967590332\n",
      "Generating Image Number: 14 for target class tensor([0]). Step 0, Loss: 36.62041091918945\n",
      "Generating Image Number: 14 for target class tensor([0]). Step 50, Loss: 34.197940826416016\n",
      "Generating Image Number: 14 for target class tensor([0]). Step 100, Loss: 31.826993942260742\n",
      "Generating Image Number: 14 for target class tensor([0]). Step 150, Loss: 28.637277603149414\n",
      "Generating Image Number: 14 for target class tensor([0]). Step 200, Loss: 25.705684661865234\n",
      "Generating Image Number: 14 for target class tensor([0]). Step 250, Loss: 24.246076583862305\n",
      "Generating Image Number: 14 for target class tensor([0]). Step 300, Loss: 22.587060928344727\n",
      "Generating Image Number: 14 for target class tensor([0]). Step 350, Loss: 21.122289657592773\n",
      "Generating Image Number: 14 for target class tensor([0]). Step 400, Loss: 20.16581916809082\n",
      "Generating Image Number: 14 for target class tensor([0]). Step 450, Loss: 18.575653076171875\n",
      "Generating Image Number: 15 for target class tensor([0]). Step 0, Loss: 41.49464797973633\n",
      "Generating Image Number: 15 for target class tensor([0]). Step 50, Loss: 34.5145263671875\n",
      "Generating Image Number: 15 for target class tensor([0]). Step 100, Loss: 31.493581771850586\n",
      "Generating Image Number: 15 for target class tensor([0]). Step 150, Loss: 28.893016815185547\n",
      "Generating Image Number: 15 for target class tensor([0]). Step 200, Loss: 27.032339096069336\n",
      "Generating Image Number: 15 for target class tensor([0]). Step 250, Loss: 25.06421661376953\n",
      "Generating Image Number: 15 for target class tensor([0]). Step 300, Loss: 24.021406173706055\n",
      "Generating Image Number: 15 for target class tensor([0]). Step 350, Loss: 23.36946678161621\n",
      "Generating Image Number: 15 for target class tensor([0]). Step 400, Loss: 22.846458435058594\n",
      "Generating Image Number: 15 for target class tensor([0]). Step 450, Loss: 22.026248931884766\n",
      "Generating Image Number: 16 for target class tensor([0]). Step 0, Loss: 51.213951110839844\n",
      "Generating Image Number: 16 for target class tensor([0]). Step 50, Loss: 37.22398376464844\n",
      "Generating Image Number: 16 for target class tensor([0]). Step 100, Loss: 36.4917106628418\n",
      "Generating Image Number: 16 for target class tensor([0]). Step 150, Loss: 35.8023796081543\n",
      "Generating Image Number: 16 for target class tensor([0]). Step 200, Loss: 35.161354064941406\n",
      "Generating Image Number: 16 for target class tensor([0]). Step 250, Loss: 34.231224060058594\n",
      "Generating Image Number: 16 for target class tensor([0]). Step 300, Loss: 29.86627769470215\n",
      "Generating Image Number: 16 for target class tensor([0]). Step 350, Loss: 25.15835952758789\n",
      "Generating Image Number: 16 for target class tensor([0]). Step 400, Loss: 23.975595474243164\n",
      "Generating Image Number: 16 for target class tensor([0]). Step 450, Loss: 23.35854721069336\n",
      "Generating Image Number: 17 for target class tensor([0]). Step 0, Loss: 52.39664840698242\n",
      "Generating Image Number: 17 for target class tensor([0]). Step 50, Loss: 34.991966247558594\n",
      "Generating Image Number: 17 for target class tensor([0]). Step 100, Loss: 32.121437072753906\n",
      "Generating Image Number: 17 for target class tensor([0]). Step 150, Loss: 28.620676040649414\n",
      "Generating Image Number: 17 for target class tensor([0]). Step 200, Loss: 27.736526489257812\n",
      "Generating Image Number: 17 for target class tensor([0]). Step 250, Loss: 27.194049835205078\n",
      "Generating Image Number: 17 for target class tensor([0]). Step 300, Loss: 26.791353225708008\n",
      "Generating Image Number: 17 for target class tensor([0]). Step 350, Loss: 26.4509334564209\n",
      "Generating Image Number: 17 for target class tensor([0]). Step 400, Loss: 26.159339904785156\n",
      "Generating Image Number: 17 for target class tensor([0]). Step 450, Loss: 25.97212791442871\n",
      "Generating Image Number: 18 for target class tensor([0]). Step 0, Loss: 65.19796752929688\n",
      "Generating Image Number: 18 for target class tensor([0]). Step 50, Loss: 40.111480712890625\n",
      "Generating Image Number: 18 for target class tensor([0]). Step 100, Loss: 29.15052604675293\n",
      "Generating Image Number: 18 for target class tensor([0]). Step 150, Loss: 26.37517547607422\n",
      "Generating Image Number: 18 for target class tensor([0]). Step 200, Loss: 25.046844482421875\n",
      "Generating Image Number: 18 for target class tensor([0]). Step 250, Loss: 24.092735290527344\n",
      "Generating Image Number: 18 for target class tensor([0]). Step 300, Loss: 23.385705947875977\n",
      "Generating Image Number: 18 for target class tensor([0]). Step 350, Loss: 22.538249969482422\n",
      "Generating Image Number: 18 for target class tensor([0]). Step 400, Loss: 22.074222564697266\n",
      "Generating Image Number: 18 for target class tensor([0]). Step 450, Loss: 21.270179748535156\n",
      "Generating Image Number: 19 for target class tensor([0]). Step 0, Loss: 36.507347106933594\n",
      "Generating Image Number: 19 for target class tensor([0]). Step 50, Loss: 30.582090377807617\n",
      "Generating Image Number: 19 for target class tensor([0]). Step 100, Loss: 28.50345230102539\n",
      "Generating Image Number: 19 for target class tensor([0]). Step 150, Loss: 27.554229736328125\n",
      "Generating Image Number: 19 for target class tensor([0]). Step 200, Loss: 26.82090187072754\n",
      "Generating Image Number: 19 for target class tensor([0]). Step 250, Loss: 26.128421783447266\n",
      "Generating Image Number: 19 for target class tensor([0]). Step 300, Loss: 25.67551612854004\n",
      "Generating Image Number: 19 for target class tensor([0]). Step 350, Loss: 25.243501663208008\n",
      "Generating Image Number: 19 for target class tensor([0]). Step 400, Loss: 24.631248474121094\n",
      "Generating Image Number: 19 for target class tensor([0]). Step 450, Loss: 24.14468765258789\n",
      "Generating Image Number: 20 for target class tensor([0]). Step 0, Loss: 61.356300354003906\n",
      "Generating Image Number: 20 for target class tensor([0]). Step 50, Loss: 35.94658660888672\n",
      "Generating Image Number: 20 for target class tensor([0]). Step 100, Loss: 34.97686767578125\n",
      "Generating Image Number: 20 for target class tensor([0]). Step 150, Loss: 34.26436233520508\n",
      "Generating Image Number: 20 for target class tensor([0]). Step 200, Loss: 33.43914794921875\n",
      "Generating Image Number: 20 for target class tensor([0]). Step 250, Loss: 32.654685974121094\n",
      "Generating Image Number: 20 for target class tensor([0]). Step 300, Loss: 31.710336685180664\n",
      "Generating Image Number: 20 for target class tensor([0]). Step 350, Loss: 30.950740814208984\n",
      "Generating Image Number: 20 for target class tensor([0]). Step 400, Loss: 30.244182586669922\n",
      "Generating Image Number: 20 for target class tensor([0]). Step 450, Loss: 29.411256790161133\n"
     ]
    }
   ],
   "source": [
    "class0_optimized_latent_vectors = recover_images(img_count, 0, latent_vectors)"
   ]
  },
  {
   "cell_type": "code",
   "execution_count": 21,
   "id": "6718334c-2bb1-42a3-bd8c-6aea38e6b59c",
   "metadata": {
    "scrolled": true
   },
   "outputs": [
    {
     "name": "stdout",
     "output_type": "stream",
     "text": [
      "Generating Image Number: 1 for target class tensor([1]). Step 0, Loss: 48.06354522705078\n",
      "Generating Image Number: 1 for target class tensor([1]). Step 50, Loss: 21.3660831451416\n",
      "Generating Image Number: 1 for target class tensor([1]). Step 100, Loss: 20.43471908569336\n",
      "Generating Image Number: 1 for target class tensor([1]). Step 150, Loss: 18.080894470214844\n",
      "Generating Image Number: 1 for target class tensor([1]). Step 200, Loss: 16.6412410736084\n",
      "Generating Image Number: 1 for target class tensor([1]). Step 250, Loss: 15.625049591064453\n",
      "Generating Image Number: 1 for target class tensor([1]). Step 300, Loss: 15.305641174316406\n",
      "Generating Image Number: 1 for target class tensor([1]). Step 350, Loss: 14.903972625732422\n",
      "Generating Image Number: 1 for target class tensor([1]). Step 400, Loss: 14.603084564208984\n",
      "Generating Image Number: 1 for target class tensor([1]). Step 450, Loss: 14.333083152770996\n",
      "Generating Image Number: 2 for target class tensor([1]). Step 0, Loss: 46.58203887939453\n",
      "Generating Image Number: 2 for target class tensor([1]). Step 50, Loss: 38.423614501953125\n",
      "Generating Image Number: 2 for target class tensor([1]). Step 100, Loss: 34.92226028442383\n",
      "Generating Image Number: 2 for target class tensor([1]). Step 150, Loss: 31.468334197998047\n",
      "Generating Image Number: 2 for target class tensor([1]). Step 200, Loss: 30.087539672851562\n",
      "Generating Image Number: 2 for target class tensor([1]). Step 250, Loss: 28.8153076171875\n",
      "Generating Image Number: 2 for target class tensor([1]). Step 300, Loss: 27.979236602783203\n",
      "Generating Image Number: 2 for target class tensor([1]). Step 350, Loss: 27.619606018066406\n",
      "Generating Image Number: 2 for target class tensor([1]). Step 400, Loss: 27.27256965637207\n",
      "Generating Image Number: 2 for target class tensor([1]). Step 450, Loss: 26.927162170410156\n",
      "Generating Image Number: 3 for target class tensor([1]). Step 0, Loss: 56.68595886230469\n",
      "Generating Image Number: 3 for target class tensor([1]). Step 50, Loss: 40.201507568359375\n",
      "Generating Image Number: 3 for target class tensor([1]). Step 100, Loss: 37.87636947631836\n",
      "Generating Image Number: 3 for target class tensor([1]). Step 150, Loss: 33.036460876464844\n",
      "Generating Image Number: 3 for target class tensor([1]). Step 200, Loss: 30.504703521728516\n",
      "Generating Image Number: 3 for target class tensor([1]). Step 250, Loss: 28.8126277923584\n",
      "Generating Image Number: 3 for target class tensor([1]). Step 300, Loss: 27.222015380859375\n",
      "Generating Image Number: 3 for target class tensor([1]). Step 350, Loss: 26.603559494018555\n",
      "Generating Image Number: 3 for target class tensor([1]). Step 400, Loss: 26.300493240356445\n",
      "Generating Image Number: 3 for target class tensor([1]). Step 450, Loss: 26.0570068359375\n",
      "Generating Image Number: 4 for target class tensor([1]). Step 0, Loss: 65.99687957763672\n",
      "Generating Image Number: 4 for target class tensor([1]). Step 50, Loss: 39.522003173828125\n",
      "Generating Image Number: 4 for target class tensor([1]). Step 100, Loss: 38.66461944580078\n",
      "Generating Image Number: 4 for target class tensor([1]). Step 150, Loss: 37.47954559326172\n",
      "Generating Image Number: 4 for target class tensor([1]). Step 200, Loss: 35.84938430786133\n",
      "Generating Image Number: 4 for target class tensor([1]). Step 250, Loss: 33.62322998046875\n",
      "Generating Image Number: 4 for target class tensor([1]). Step 300, Loss: 31.584609985351562\n",
      "Generating Image Number: 4 for target class tensor([1]). Step 350, Loss: 30.655166625976562\n",
      "Generating Image Number: 4 for target class tensor([1]). Step 400, Loss: 29.976591110229492\n",
      "Generating Image Number: 4 for target class tensor([1]). Step 450, Loss: 29.4349422454834\n",
      "Generating Image Number: 5 for target class tensor([1]). Step 0, Loss: 64.20272827148438\n",
      "Generating Image Number: 5 for target class tensor([1]). Step 50, Loss: 54.31227111816406\n",
      "Generating Image Number: 5 for target class tensor([1]). Step 100, Loss: 53.48076629638672\n",
      "Generating Image Number: 5 for target class tensor([1]). Step 150, Loss: 52.840171813964844\n",
      "Generating Image Number: 5 for target class tensor([1]). Step 200, Loss: 52.227691650390625\n",
      "Generating Image Number: 5 for target class tensor([1]). Step 250, Loss: 51.92764663696289\n",
      "Generating Image Number: 5 for target class tensor([1]). Step 300, Loss: 51.6019401550293\n",
      "Generating Image Number: 5 for target class tensor([1]). Step 350, Loss: 51.24152374267578\n",
      "Generating Image Number: 5 for target class tensor([1]). Step 400, Loss: 50.9210205078125\n",
      "Generating Image Number: 5 for target class tensor([1]). Step 450, Loss: 50.540069580078125\n",
      "Generating Image Number: 6 for target class tensor([1]). Step 0, Loss: 66.57489013671875\n",
      "Generating Image Number: 6 for target class tensor([1]). Step 50, Loss: 54.32597732543945\n",
      "Generating Image Number: 6 for target class tensor([1]). Step 100, Loss: 53.469390869140625\n",
      "Generating Image Number: 6 for target class tensor([1]). Step 150, Loss: 53.245513916015625\n",
      "Generating Image Number: 6 for target class tensor([1]). Step 200, Loss: 52.894126892089844\n",
      "Generating Image Number: 6 for target class tensor([1]). Step 250, Loss: 52.505348205566406\n",
      "Generating Image Number: 6 for target class tensor([1]). Step 300, Loss: 52.192115783691406\n",
      "Generating Image Number: 6 for target class tensor([1]). Step 350, Loss: 51.970638275146484\n",
      "Generating Image Number: 6 for target class tensor([1]). Step 400, Loss: 51.80388259887695\n",
      "Generating Image Number: 6 for target class tensor([1]). Step 450, Loss: 51.87734603881836\n",
      "Generating Image Number: 7 for target class tensor([1]). Step 0, Loss: 72.73703002929688\n",
      "Generating Image Number: 7 for target class tensor([1]). Step 50, Loss: 60.870262145996094\n",
      "Generating Image Number: 7 for target class tensor([1]). Step 100, Loss: 58.46582794189453\n",
      "Generating Image Number: 7 for target class tensor([1]). Step 150, Loss: 57.13884735107422\n",
      "Generating Image Number: 7 for target class tensor([1]). Step 200, Loss: 56.72528076171875\n",
      "Generating Image Number: 7 for target class tensor([1]). Step 250, Loss: 55.967185974121094\n",
      "Generating Image Number: 7 for target class tensor([1]). Step 300, Loss: 55.794105529785156\n",
      "Generating Image Number: 7 for target class tensor([1]). Step 350, Loss: 55.56524658203125\n",
      "Generating Image Number: 7 for target class tensor([1]). Step 400, Loss: 54.803550720214844\n",
      "Generating Image Number: 7 for target class tensor([1]). Step 450, Loss: 54.38701629638672\n",
      "Generating Image Number: 8 for target class tensor([1]). Step 0, Loss: 75.95909118652344\n",
      "Generating Image Number: 8 for target class tensor([1]). Step 50, Loss: 70.64230346679688\n",
      "Generating Image Number: 8 for target class tensor([1]). Step 100, Loss: 69.11891174316406\n",
      "Generating Image Number: 8 for target class tensor([1]). Step 150, Loss: 68.40550231933594\n",
      "Generating Image Number: 8 for target class tensor([1]). Step 200, Loss: 67.86654663085938\n",
      "Generating Image Number: 8 for target class tensor([1]). Step 250, Loss: 67.38990020751953\n",
      "Generating Image Number: 8 for target class tensor([1]). Step 300, Loss: 66.80094146728516\n",
      "Generating Image Number: 8 for target class tensor([1]). Step 350, Loss: 58.0064697265625\n",
      "Generating Image Number: 8 for target class tensor([1]). Step 400, Loss: 51.460594177246094\n",
      "Generating Image Number: 8 for target class tensor([1]). Step 450, Loss: 51.392494201660156\n",
      "Generating Image Number: 9 for target class tensor([1]). Step 0, Loss: 59.19451904296875\n",
      "Generating Image Number: 9 for target class tensor([1]). Step 50, Loss: 38.13964080810547\n",
      "Generating Image Number: 9 for target class tensor([1]). Step 100, Loss: 36.76078796386719\n",
      "Generating Image Number: 9 for target class tensor([1]). Step 150, Loss: 35.28099060058594\n",
      "Generating Image Number: 9 for target class tensor([1]). Step 200, Loss: 34.410667419433594\n",
      "Generating Image Number: 9 for target class tensor([1]). Step 250, Loss: 33.62789535522461\n",
      "Generating Image Number: 9 for target class tensor([1]). Step 300, Loss: 32.92931365966797\n",
      "Generating Image Number: 9 for target class tensor([1]). Step 350, Loss: 32.466251373291016\n",
      "Generating Image Number: 9 for target class tensor([1]). Step 400, Loss: 32.01007843017578\n",
      "Generating Image Number: 9 for target class tensor([1]). Step 450, Loss: 31.981563568115234\n",
      "Generating Image Number: 10 for target class tensor([1]). Step 0, Loss: 45.47489929199219\n",
      "Generating Image Number: 10 for target class tensor([1]). Step 50, Loss: 38.10382080078125\n",
      "Generating Image Number: 10 for target class tensor([1]). Step 100, Loss: 35.513980865478516\n",
      "Generating Image Number: 10 for target class tensor([1]). Step 150, Loss: 32.09939956665039\n",
      "Generating Image Number: 10 for target class tensor([1]). Step 200, Loss: 28.79588508605957\n",
      "Generating Image Number: 10 for target class tensor([1]). Step 250, Loss: 26.659503936767578\n",
      "Generating Image Number: 10 for target class tensor([1]). Step 300, Loss: 25.038551330566406\n",
      "Generating Image Number: 10 for target class tensor([1]). Step 350, Loss: 23.996444702148438\n",
      "Generating Image Number: 10 for target class tensor([1]). Step 400, Loss: 23.322490692138672\n",
      "Generating Image Number: 10 for target class tensor([1]). Step 450, Loss: 22.58704376220703\n",
      "Generating Image Number: 11 for target class tensor([1]). Step 0, Loss: 57.77589416503906\n",
      "Generating Image Number: 11 for target class tensor([1]). Step 50, Loss: 52.35974884033203\n",
      "Generating Image Number: 11 for target class tensor([1]). Step 100, Loss: 51.777347564697266\n",
      "Generating Image Number: 11 for target class tensor([1]). Step 150, Loss: 51.44652557373047\n",
      "Generating Image Number: 11 for target class tensor([1]). Step 200, Loss: 51.48188018798828\n",
      "Generating Image Number: 11 for target class tensor([1]). Step 250, Loss: 51.17275619506836\n",
      "Generating Image Number: 11 for target class tensor([1]). Step 300, Loss: 50.840789794921875\n",
      "Generating Image Number: 11 for target class tensor([1]). Step 350, Loss: 50.611549377441406\n",
      "Generating Image Number: 11 for target class tensor([1]). Step 400, Loss: 50.519229888916016\n",
      "Generating Image Number: 11 for target class tensor([1]). Step 450, Loss: 50.51517105102539\n",
      "Generating Image Number: 12 for target class tensor([1]). Step 0, Loss: 58.34204864501953\n",
      "Generating Image Number: 12 for target class tensor([1]). Step 50, Loss: 41.25923538208008\n",
      "Generating Image Number: 12 for target class tensor([1]). Step 100, Loss: 39.420921325683594\n",
      "Generating Image Number: 12 for target class tensor([1]). Step 150, Loss: 37.94008255004883\n",
      "Generating Image Number: 12 for target class tensor([1]). Step 200, Loss: 36.54882049560547\n",
      "Generating Image Number: 12 for target class tensor([1]). Step 250, Loss: 35.32829284667969\n",
      "Generating Image Number: 12 for target class tensor([1]). Step 300, Loss: 33.778995513916016\n",
      "Generating Image Number: 12 for target class tensor([1]). Step 350, Loss: 32.25758361816406\n",
      "Generating Image Number: 12 for target class tensor([1]). Step 400, Loss: 31.303735733032227\n",
      "Generating Image Number: 12 for target class tensor([1]). Step 450, Loss: 30.505388259887695\n",
      "Generating Image Number: 13 for target class tensor([1]). Step 0, Loss: 67.68399047851562\n",
      "Generating Image Number: 13 for target class tensor([1]). Step 50, Loss: 40.21221160888672\n",
      "Generating Image Number: 13 for target class tensor([1]). Step 100, Loss: 39.03168487548828\n",
      "Generating Image Number: 13 for target class tensor([1]). Step 150, Loss: 37.94517517089844\n",
      "Generating Image Number: 13 for target class tensor([1]). Step 200, Loss: 36.37187194824219\n",
      "Generating Image Number: 13 for target class tensor([1]). Step 250, Loss: 33.752140045166016\n",
      "Generating Image Number: 13 for target class tensor([1]). Step 300, Loss: 31.55150032043457\n",
      "Generating Image Number: 13 for target class tensor([1]). Step 350, Loss: 30.24313735961914\n",
      "Generating Image Number: 13 for target class tensor([1]). Step 400, Loss: 29.011274337768555\n",
      "Generating Image Number: 13 for target class tensor([1]). Step 450, Loss: 27.859825134277344\n",
      "Generating Image Number: 14 for target class tensor([1]). Step 0, Loss: 43.565616607666016\n",
      "Generating Image Number: 14 for target class tensor([1]). Step 50, Loss: 37.1510124206543\n",
      "Generating Image Number: 14 for target class tensor([1]). Step 100, Loss: 33.3189582824707\n",
      "Generating Image Number: 14 for target class tensor([1]). Step 150, Loss: 31.11763572692871\n",
      "Generating Image Number: 14 for target class tensor([1]). Step 200, Loss: 30.20155906677246\n",
      "Generating Image Number: 14 for target class tensor([1]). Step 250, Loss: 28.566226959228516\n",
      "Generating Image Number: 14 for target class tensor([1]). Step 300, Loss: 27.74652671813965\n",
      "Generating Image Number: 14 for target class tensor([1]). Step 350, Loss: 27.459564208984375\n",
      "Generating Image Number: 14 for target class tensor([1]). Step 400, Loss: 27.172988891601562\n",
      "Generating Image Number: 14 for target class tensor([1]). Step 450, Loss: 26.922428131103516\n",
      "Generating Image Number: 15 for target class tensor([1]). Step 0, Loss: 41.590965270996094\n",
      "Generating Image Number: 15 for target class tensor([1]). Step 50, Loss: 25.252473831176758\n",
      "Generating Image Number: 15 for target class tensor([1]). Step 100, Loss: 23.99260139465332\n",
      "Generating Image Number: 15 for target class tensor([1]). Step 150, Loss: 23.36195182800293\n",
      "Generating Image Number: 15 for target class tensor([1]). Step 200, Loss: 22.77290153503418\n",
      "Generating Image Number: 15 for target class tensor([1]). Step 250, Loss: 22.062997817993164\n",
      "Generating Image Number: 15 for target class tensor([1]). Step 300, Loss: 21.600221633911133\n",
      "Generating Image Number: 15 for target class tensor([1]). Step 350, Loss: 21.294729232788086\n",
      "Generating Image Number: 15 for target class tensor([1]). Step 400, Loss: 20.990341186523438\n",
      "Generating Image Number: 15 for target class tensor([1]). Step 450, Loss: 20.750328063964844\n",
      "Generating Image Number: 16 for target class tensor([1]). Step 0, Loss: 65.09180450439453\n",
      "Generating Image Number: 16 for target class tensor([1]). Step 50, Loss: 25.356151580810547\n",
      "Generating Image Number: 16 for target class tensor([1]). Step 100, Loss: 21.666399002075195\n",
      "Generating Image Number: 16 for target class tensor([1]). Step 150, Loss: 20.998497009277344\n",
      "Generating Image Number: 16 for target class tensor([1]). Step 200, Loss: 19.189538955688477\n",
      "Generating Image Number: 16 for target class tensor([1]). Step 250, Loss: 17.64937973022461\n",
      "Generating Image Number: 16 for target class tensor([1]). Step 300, Loss: 16.687484741210938\n",
      "Generating Image Number: 16 for target class tensor([1]). Step 350, Loss: 16.057376861572266\n",
      "Generating Image Number: 16 for target class tensor([1]). Step 400, Loss: 15.52013874053955\n",
      "Generating Image Number: 16 for target class tensor([1]). Step 450, Loss: 15.88081169128418\n",
      "Generating Image Number: 17 for target class tensor([1]). Step 0, Loss: 45.35859680175781\n",
      "Generating Image Number: 17 for target class tensor([1]). Step 50, Loss: 39.026031494140625\n",
      "Generating Image Number: 17 for target class tensor([1]). Step 100, Loss: 37.40732192993164\n",
      "Generating Image Number: 17 for target class tensor([1]). Step 150, Loss: 34.40300750732422\n",
      "Generating Image Number: 17 for target class tensor([1]). Step 200, Loss: 31.566431045532227\n",
      "Generating Image Number: 17 for target class tensor([1]). Step 250, Loss: 30.000988006591797\n",
      "Generating Image Number: 17 for target class tensor([1]). Step 300, Loss: 29.07352066040039\n",
      "Generating Image Number: 17 for target class tensor([1]). Step 350, Loss: 27.821138381958008\n",
      "Generating Image Number: 17 for target class tensor([1]). Step 400, Loss: 27.10051918029785\n",
      "Generating Image Number: 17 for target class tensor([1]). Step 450, Loss: 26.60978889465332\n",
      "Generating Image Number: 18 for target class tensor([1]). Step 0, Loss: 58.54255676269531\n",
      "Generating Image Number: 18 for target class tensor([1]). Step 50, Loss: 40.512847900390625\n",
      "Generating Image Number: 18 for target class tensor([1]). Step 100, Loss: 38.83819580078125\n",
      "Generating Image Number: 18 for target class tensor([1]). Step 150, Loss: 35.93916702270508\n",
      "Generating Image Number: 18 for target class tensor([1]). Step 200, Loss: 33.29422378540039\n",
      "Generating Image Number: 18 for target class tensor([1]). Step 250, Loss: 31.163528442382812\n",
      "Generating Image Number: 18 for target class tensor([1]). Step 300, Loss: 29.876811981201172\n",
      "Generating Image Number: 18 for target class tensor([1]). Step 350, Loss: 29.380508422851562\n",
      "Generating Image Number: 18 for target class tensor([1]). Step 400, Loss: 29.030324935913086\n",
      "Generating Image Number: 18 for target class tensor([1]). Step 450, Loss: 28.664865493774414\n",
      "Generating Image Number: 19 for target class tensor([1]). Step 0, Loss: 58.76332473754883\n",
      "Generating Image Number: 19 for target class tensor([1]). Step 50, Loss: 25.455442428588867\n",
      "Generating Image Number: 19 for target class tensor([1]). Step 100, Loss: 20.6881103515625\n",
      "Generating Image Number: 19 for target class tensor([1]). Step 150, Loss: 20.013620376586914\n",
      "Generating Image Number: 19 for target class tensor([1]). Step 200, Loss: 18.12150001525879\n",
      "Generating Image Number: 19 for target class tensor([1]). Step 250, Loss: 16.993206024169922\n",
      "Generating Image Number: 19 for target class tensor([1]). Step 300, Loss: 16.054582595825195\n",
      "Generating Image Number: 19 for target class tensor([1]). Step 350, Loss: 15.464333534240723\n",
      "Generating Image Number: 19 for target class tensor([1]). Step 400, Loss: 14.90235710144043\n",
      "Generating Image Number: 19 for target class tensor([1]). Step 450, Loss: 15.199362754821777\n",
      "Generating Image Number: 20 for target class tensor([1]). Step 0, Loss: 45.698360443115234\n",
      "Generating Image Number: 20 for target class tensor([1]). Step 50, Loss: 38.913185119628906\n",
      "Generating Image Number: 20 for target class tensor([1]). Step 100, Loss: 34.5018310546875\n",
      "Generating Image Number: 20 for target class tensor([1]). Step 150, Loss: 32.65930938720703\n",
      "Generating Image Number: 20 for target class tensor([1]). Step 200, Loss: 29.721881866455078\n",
      "Generating Image Number: 20 for target class tensor([1]). Step 250, Loss: 26.3948974609375\n",
      "Generating Image Number: 20 for target class tensor([1]). Step 300, Loss: 25.528352737426758\n",
      "Generating Image Number: 20 for target class tensor([1]). Step 350, Loss: 24.874923706054688\n",
      "Generating Image Number: 20 for target class tensor([1]). Step 400, Loss: 24.35668182373047\n",
      "Generating Image Number: 20 for target class tensor([1]). Step 450, Loss: 23.974868774414062\n"
     ]
    }
   ],
   "source": [
    "torch.manual_seed(100)\n",
    "latent_vectors = torch.randn(img_count, z_dim, 1, 1, requires_grad=True) # Start with 20 random noises\n",
    "class1_optimized_latent_vectors = recover_images(img_count, 1, latent_vectors)"
   ]
  },
  {
   "cell_type": "code",
   "execution_count": 70,
   "id": "1c8af686-b1ff-419d-946d-2447773e47c9",
   "metadata": {
    "scrolled": true
   },
   "outputs": [
    {
     "name": "stdout",
     "output_type": "stream",
     "text": [
      "Generating Image Number: 1 for target class tensor([2]). Step 0, Loss: 2.4447994232177734\n",
      "Generating Image Number: 1 for target class tensor([2]). Step 50, Loss: 0.11525536328554153\n",
      "Generating Image Number: 1 for target class tensor([2]). Step 100, Loss: 0.10109104216098785\n",
      "Generating Image Number: 1 for target class tensor([2]). Step 150, Loss: 0.09537359327077866\n",
      "Generating Image Number: 1 for target class tensor([2]). Step 200, Loss: 0.0898815467953682\n",
      "Generating Image Number: 1 for target class tensor([2]). Step 250, Loss: 0.08532638847827911\n",
      "Generating Image Number: 1 for target class tensor([2]). Step 300, Loss: 0.08089474588632584\n",
      "Generating Image Number: 1 for target class tensor([2]). Step 350, Loss: 0.07677717506885529\n",
      "Generating Image Number: 1 for target class tensor([2]). Step 400, Loss: 0.07253104448318481\n",
      "Generating Image Number: 1 for target class tensor([2]). Step 450, Loss: 0.0685696229338646\n",
      "Generating Image Number: 2 for target class tensor([2]). Step 0, Loss: 3.195918321609497\n",
      "Generating Image Number: 2 for target class tensor([2]). Step 50, Loss: 1.857081651687622\n",
      "Generating Image Number: 2 for target class tensor([2]). Step 100, Loss: 1.5885920524597168\n",
      "Generating Image Number: 2 for target class tensor([2]). Step 150, Loss: 1.4562442302703857\n",
      "Generating Image Number: 2 for target class tensor([2]). Step 200, Loss: 1.3558530807495117\n",
      "Generating Image Number: 2 for target class tensor([2]). Step 250, Loss: 1.3010530471801758\n",
      "Generating Image Number: 2 for target class tensor([2]). Step 300, Loss: 1.2474372386932373\n",
      "Generating Image Number: 2 for target class tensor([2]). Step 350, Loss: 1.2056195735931396\n",
      "Generating Image Number: 2 for target class tensor([2]). Step 400, Loss: 1.1710004806518555\n",
      "Generating Image Number: 2 for target class tensor([2]). Step 450, Loss: 1.1054407358169556\n",
      "Generating Image Number: 3 for target class tensor([2]). Step 0, Loss: 0.6864023804664612\n",
      "Generating Image Number: 3 for target class tensor([2]). Step 50, Loss: 0.14213302731513977\n",
      "Generating Image Number: 3 for target class tensor([2]). Step 100, Loss: 0.12088698148727417\n",
      "Generating Image Number: 3 for target class tensor([2]). Step 150, Loss: 0.1011262759566307\n",
      "Generating Image Number: 3 for target class tensor([2]). Step 200, Loss: 0.08436169475317001\n",
      "Generating Image Number: 3 for target class tensor([2]). Step 250, Loss: 0.07289839535951614\n",
      "Generating Image Number: 3 for target class tensor([2]). Step 300, Loss: 0.06442055106163025\n",
      "Generating Image Number: 3 for target class tensor([2]). Step 350, Loss: 0.05760713666677475\n",
      "Generating Image Number: 3 for target class tensor([2]). Step 400, Loss: 0.052443504333496094\n",
      "Generating Image Number: 3 for target class tensor([2]). Step 450, Loss: 0.048484668135643005\n",
      "Generating Image Number: 4 for target class tensor([2]). Step 0, Loss: 0.844318151473999\n",
      "Generating Image Number: 4 for target class tensor([2]). Step 50, Loss: 0.6380043625831604\n",
      "Generating Image Number: 4 for target class tensor([2]). Step 100, Loss: 0.3319655954837799\n",
      "Generating Image Number: 4 for target class tensor([2]). Step 150, Loss: 0.23773103952407837\n",
      "Generating Image Number: 4 for target class tensor([2]). Step 200, Loss: 0.1920671910047531\n",
      "Generating Image Number: 4 for target class tensor([2]). Step 250, Loss: 0.16729912161827087\n",
      "Generating Image Number: 4 for target class tensor([2]). Step 300, Loss: 0.1538572460412979\n",
      "Generating Image Number: 4 for target class tensor([2]). Step 350, Loss: 0.14418360590934753\n",
      "Generating Image Number: 4 for target class tensor([2]). Step 400, Loss: 0.13482162356376648\n",
      "Generating Image Number: 4 for target class tensor([2]). Step 450, Loss: 0.12598103284835815\n",
      "Generating Image Number: 5 for target class tensor([2]). Step 0, Loss: 2.6885111331939697\n",
      "Generating Image Number: 5 for target class tensor([2]). Step 50, Loss: 1.7037774324417114\n",
      "Generating Image Number: 5 for target class tensor([2]). Step 100, Loss: 1.3511059284210205\n",
      "Generating Image Number: 5 for target class tensor([2]). Step 150, Loss: 1.080007791519165\n",
      "Generating Image Number: 5 for target class tensor([2]). Step 200, Loss: 0.9189355969429016\n",
      "Generating Image Number: 5 for target class tensor([2]). Step 250, Loss: 0.7926381826400757\n",
      "Generating Image Number: 5 for target class tensor([2]). Step 300, Loss: 0.7095264792442322\n",
      "Generating Image Number: 5 for target class tensor([2]). Step 350, Loss: 0.6474877595901489\n",
      "Generating Image Number: 5 for target class tensor([2]). Step 400, Loss: 0.612420916557312\n",
      "Generating Image Number: 5 for target class tensor([2]). Step 450, Loss: 0.5816951990127563\n",
      "Generating Image Number: 6 for target class tensor([2]). Step 0, Loss: 2.8550262451171875\n",
      "Generating Image Number: 6 for target class tensor([2]). Step 50, Loss: 0.44314801692962646\n",
      "Generating Image Number: 6 for target class tensor([2]). Step 100, Loss: 0.3194650709629059\n",
      "Generating Image Number: 6 for target class tensor([2]). Step 150, Loss: 0.24853001534938812\n",
      "Generating Image Number: 6 for target class tensor([2]). Step 200, Loss: 0.2001735270023346\n",
      "Generating Image Number: 6 for target class tensor([2]). Step 250, Loss: 0.15528950095176697\n",
      "Generating Image Number: 6 for target class tensor([2]). Step 300, Loss: 0.12168463319540024\n",
      "Generating Image Number: 6 for target class tensor([2]). Step 350, Loss: 0.10334677249193192\n",
      "Generating Image Number: 6 for target class tensor([2]). Step 400, Loss: 0.0921686589717865\n",
      "Generating Image Number: 6 for target class tensor([2]). Step 450, Loss: 0.0819796472787857\n",
      "Generating Image Number: 7 for target class tensor([2]). Step 0, Loss: 2.983720302581787\n",
      "Generating Image Number: 7 for target class tensor([2]). Step 50, Loss: 0.4256117343902588\n",
      "Generating Image Number: 7 for target class tensor([2]). Step 100, Loss: 0.16538366675376892\n",
      "Generating Image Number: 7 for target class tensor([2]). Step 150, Loss: 0.14006777107715607\n",
      "Generating Image Number: 7 for target class tensor([2]). Step 200, Loss: 0.11837054044008255\n",
      "Generating Image Number: 7 for target class tensor([2]). Step 250, Loss: 0.10038181394338608\n",
      "Generating Image Number: 7 for target class tensor([2]). Step 300, Loss: 0.08675742149353027\n",
      "Generating Image Number: 7 for target class tensor([2]). Step 350, Loss: 0.07559254765510559\n",
      "Generating Image Number: 7 for target class tensor([2]). Step 400, Loss: 0.06630057096481323\n",
      "Generating Image Number: 7 for target class tensor([2]). Step 450, Loss: 0.05991191789507866\n",
      "Generating Image Number: 8 for target class tensor([2]). Step 0, Loss: 2.4165167808532715\n",
      "Generating Image Number: 8 for target class tensor([2]). Step 50, Loss: 0.08468178659677505\n",
      "Generating Image Number: 8 for target class tensor([2]). Step 100, Loss: 0.07592552155256271\n",
      "Generating Image Number: 8 for target class tensor([2]). Step 150, Loss: 0.06742794066667557\n",
      "Generating Image Number: 8 for target class tensor([2]). Step 200, Loss: 0.058382321149110794\n",
      "Generating Image Number: 8 for target class tensor([2]). Step 250, Loss: 0.05058754235506058\n",
      "Generating Image Number: 8 for target class tensor([2]). Step 300, Loss: 0.04598044231534004\n",
      "Generating Image Number: 8 for target class tensor([2]). Step 350, Loss: 0.04293893277645111\n",
      "Generating Image Number: 8 for target class tensor([2]). Step 400, Loss: 0.04119690880179405\n",
      "Generating Image Number: 8 for target class tensor([2]). Step 450, Loss: 0.03926067799329758\n",
      "Generating Image Number: 9 for target class tensor([2]). Step 0, Loss: 1.0559577941894531\n",
      "Generating Image Number: 9 for target class tensor([2]). Step 50, Loss: 0.14223995804786682\n",
      "Generating Image Number: 9 for target class tensor([2]). Step 100, Loss: 0.11798307299613953\n",
      "Generating Image Number: 9 for target class tensor([2]). Step 150, Loss: 0.1053047701716423\n",
      "Generating Image Number: 9 for target class tensor([2]). Step 200, Loss: 0.094464972615242\n",
      "Generating Image Number: 9 for target class tensor([2]). Step 250, Loss: 0.08517313003540039\n",
      "Generating Image Number: 9 for target class tensor([2]). Step 300, Loss: 0.07749065011739731\n",
      "Generating Image Number: 9 for target class tensor([2]). Step 350, Loss: 0.07097334414720535\n",
      "Generating Image Number: 9 for target class tensor([2]). Step 400, Loss: 0.06585858017206192\n",
      "Generating Image Number: 9 for target class tensor([2]). Step 450, Loss: 0.06113610789179802\n",
      "Generating Image Number: 10 for target class tensor([2]). Step 0, Loss: 2.74184513092041\n",
      "Generating Image Number: 10 for target class tensor([2]). Step 50, Loss: 1.7926278114318848\n",
      "Generating Image Number: 10 for target class tensor([2]). Step 100, Loss: 1.4870342016220093\n",
      "Generating Image Number: 10 for target class tensor([2]). Step 150, Loss: 1.283515214920044\n",
      "Generating Image Number: 10 for target class tensor([2]). Step 200, Loss: 1.1264101266860962\n",
      "Generating Image Number: 10 for target class tensor([2]). Step 250, Loss: 0.9921323657035828\n",
      "Generating Image Number: 10 for target class tensor([2]). Step 300, Loss: 0.8562620878219604\n",
      "Generating Image Number: 10 for target class tensor([2]). Step 350, Loss: 0.7764492630958557\n",
      "Generating Image Number: 10 for target class tensor([2]). Step 400, Loss: 0.7194380164146423\n",
      "Generating Image Number: 10 for target class tensor([2]). Step 450, Loss: 0.6898213028907776\n",
      "Generating Image Number: 11 for target class tensor([2]). Step 0, Loss: 1.0574074983596802\n",
      "Generating Image Number: 11 for target class tensor([2]). Step 50, Loss: 0.6224930882453918\n",
      "Generating Image Number: 11 for target class tensor([2]). Step 100, Loss: 0.5631412863731384\n",
      "Generating Image Number: 11 for target class tensor([2]). Step 150, Loss: 0.5141680240631104\n",
      "Generating Image Number: 11 for target class tensor([2]). Step 200, Loss: 0.4738510847091675\n",
      "Generating Image Number: 11 for target class tensor([2]). Step 250, Loss: 0.4456942081451416\n",
      "Generating Image Number: 11 for target class tensor([2]). Step 300, Loss: 0.4194917678833008\n",
      "Generating Image Number: 11 for target class tensor([2]). Step 350, Loss: 0.35809221863746643\n",
      "Generating Image Number: 11 for target class tensor([2]). Step 400, Loss: 0.14236971735954285\n",
      "Generating Image Number: 11 for target class tensor([2]). Step 450, Loss: 0.07846143841743469\n",
      "Generating Image Number: 12 for target class tensor([2]). Step 0, Loss: 24.42082977294922\n",
      "Generating Image Number: 12 for target class tensor([2]). Step 50, Loss: 23.598758697509766\n",
      "Generating Image Number: 12 for target class tensor([2]). Step 100, Loss: 22.953754425048828\n",
      "Generating Image Number: 12 for target class tensor([2]). Step 150, Loss: 0.19817428290843964\n",
      "Generating Image Number: 12 for target class tensor([2]). Step 200, Loss: 0.16275747120380402\n",
      "Generating Image Number: 12 for target class tensor([2]). Step 250, Loss: 0.1587015688419342\n",
      "Generating Image Number: 12 for target class tensor([2]). Step 300, Loss: 0.15472902357578278\n",
      "Generating Image Number: 12 for target class tensor([2]). Step 350, Loss: 0.1498463898897171\n",
      "Generating Image Number: 12 for target class tensor([2]). Step 400, Loss: 0.144866481423378\n",
      "Generating Image Number: 12 for target class tensor([2]). Step 450, Loss: 0.14044781029224396\n",
      "Generating Image Number: 13 for target class tensor([2]). Step 0, Loss: 3.729034662246704\n",
      "Generating Image Number: 13 for target class tensor([2]). Step 50, Loss: 1.616649866104126\n",
      "Generating Image Number: 13 for target class tensor([2]). Step 100, Loss: 1.4094185829162598\n",
      "Generating Image Number: 13 for target class tensor([2]). Step 150, Loss: 1.2476508617401123\n",
      "Generating Image Number: 13 for target class tensor([2]). Step 200, Loss: 1.0744338035583496\n",
      "Generating Image Number: 13 for target class tensor([2]). Step 250, Loss: 0.9252924919128418\n",
      "Generating Image Number: 13 for target class tensor([2]). Step 300, Loss: 0.8331937193870544\n",
      "Generating Image Number: 13 for target class tensor([2]). Step 350, Loss: 0.7644975781440735\n",
      "Generating Image Number: 13 for target class tensor([2]). Step 400, Loss: 0.7098019123077393\n",
      "Generating Image Number: 13 for target class tensor([2]). Step 450, Loss: 0.6781852841377258\n",
      "Generating Image Number: 14 for target class tensor([2]). Step 0, Loss: 1.8641033172607422\n",
      "Generating Image Number: 14 for target class tensor([2]). Step 50, Loss: 0.07863865047693253\n",
      "Generating Image Number: 14 for target class tensor([2]). Step 100, Loss: 0.07207150012254715\n",
      "Generating Image Number: 14 for target class tensor([2]). Step 150, Loss: 0.0644291564822197\n",
      "Generating Image Number: 14 for target class tensor([2]). Step 200, Loss: 0.0582706518471241\n",
      "Generating Image Number: 14 for target class tensor([2]). Step 250, Loss: 0.052568379789590836\n",
      "Generating Image Number: 14 for target class tensor([2]). Step 300, Loss: 0.04803609102964401\n",
      "Generating Image Number: 14 for target class tensor([2]). Step 350, Loss: 0.04441671445965767\n",
      "Generating Image Number: 14 for target class tensor([2]). Step 400, Loss: 0.041574008762836456\n",
      "Generating Image Number: 14 for target class tensor([2]). Step 450, Loss: 0.039082545787096024\n",
      "Generating Image Number: 15 for target class tensor([2]). Step 0, Loss: 1.6698904037475586\n",
      "Generating Image Number: 15 for target class tensor([2]). Step 50, Loss: 0.06417395174503326\n",
      "Generating Image Number: 15 for target class tensor([2]). Step 100, Loss: 0.05313916504383087\n",
      "Generating Image Number: 15 for target class tensor([2]). Step 150, Loss: 0.046706099063158035\n",
      "Generating Image Number: 15 for target class tensor([2]). Step 200, Loss: 0.04206229746341705\n",
      "Generating Image Number: 15 for target class tensor([2]). Step 250, Loss: 0.0384395495057106\n",
      "Generating Image Number: 15 for target class tensor([2]). Step 300, Loss: 0.035484861582517624\n",
      "Generating Image Number: 15 for target class tensor([2]). Step 350, Loss: 0.032931793481111526\n",
      "Generating Image Number: 15 for target class tensor([2]). Step 400, Loss: 0.030300606042146683\n",
      "Generating Image Number: 15 for target class tensor([2]). Step 450, Loss: 0.02817974053323269\n",
      "Generating Image Number: 16 for target class tensor([2]). Step 0, Loss: 1.3328845500946045\n",
      "Generating Image Number: 16 for target class tensor([2]). Step 50, Loss: 0.0799330323934555\n",
      "Generating Image Number: 16 for target class tensor([2]). Step 100, Loss: 0.07044409215450287\n",
      "Generating Image Number: 16 for target class tensor([2]). Step 150, Loss: 0.0632862001657486\n",
      "Generating Image Number: 16 for target class tensor([2]). Step 200, Loss: 0.05693281814455986\n",
      "Generating Image Number: 16 for target class tensor([2]). Step 250, Loss: 0.052177298814058304\n",
      "Generating Image Number: 16 for target class tensor([2]). Step 300, Loss: 0.048298854380846024\n",
      "Generating Image Number: 16 for target class tensor([2]). Step 350, Loss: 0.04483283683657646\n",
      "Generating Image Number: 16 for target class tensor([2]). Step 400, Loss: 0.04131701961159706\n",
      "Generating Image Number: 16 for target class tensor([2]). Step 450, Loss: 0.037897493690252304\n",
      "Generating Image Number: 17 for target class tensor([2]). Step 0, Loss: 0.42530137300491333\n",
      "Generating Image Number: 17 for target class tensor([2]). Step 50, Loss: 0.20153437554836273\n",
      "Generating Image Number: 17 for target class tensor([2]). Step 100, Loss: 0.15040437877178192\n",
      "Generating Image Number: 17 for target class tensor([2]). Step 150, Loss: 0.12722431123256683\n",
      "Generating Image Number: 17 for target class tensor([2]). Step 200, Loss: 0.10532891005277634\n",
      "Generating Image Number: 17 for target class tensor([2]). Step 250, Loss: 0.08939655125141144\n",
      "Generating Image Number: 17 for target class tensor([2]). Step 300, Loss: 0.08007993549108505\n",
      "Generating Image Number: 17 for target class tensor([2]). Step 350, Loss: 0.07456286996603012\n",
      "Generating Image Number: 17 for target class tensor([2]). Step 400, Loss: 0.06930777430534363\n",
      "Generating Image Number: 17 for target class tensor([2]). Step 450, Loss: 0.06422504037618637\n",
      "Generating Image Number: 18 for target class tensor([2]). Step 0, Loss: 22.93972396850586\n",
      "Generating Image Number: 18 for target class tensor([2]). Step 50, Loss: 0.10493861883878708\n",
      "Generating Image Number: 18 for target class tensor([2]). Step 100, Loss: 0.09766257554292679\n",
      "Generating Image Number: 18 for target class tensor([2]). Step 150, Loss: 0.09106722474098206\n",
      "Generating Image Number: 18 for target class tensor([2]). Step 200, Loss: 0.07512921094894409\n",
      "Generating Image Number: 18 for target class tensor([2]). Step 250, Loss: 0.05883403867483139\n",
      "Generating Image Number: 18 for target class tensor([2]). Step 300, Loss: 0.05746859312057495\n",
      "Generating Image Number: 18 for target class tensor([2]). Step 350, Loss: 0.0567781887948513\n",
      "Generating Image Number: 18 for target class tensor([2]). Step 400, Loss: 0.05606025829911232\n",
      "Generating Image Number: 18 for target class tensor([2]). Step 450, Loss: 0.05533549189567566\n",
      "Generating Image Number: 19 for target class tensor([2]). Step 0, Loss: 2.4124088287353516\n",
      "Generating Image Number: 19 for target class tensor([2]). Step 50, Loss: 1.7076542377471924\n",
      "Generating Image Number: 19 for target class tensor([2]). Step 100, Loss: 1.3519716262817383\n",
      "Generating Image Number: 19 for target class tensor([2]). Step 150, Loss: 1.0903918743133545\n",
      "Generating Image Number: 19 for target class tensor([2]). Step 200, Loss: 0.8934974074363708\n",
      "Generating Image Number: 19 for target class tensor([2]). Step 250, Loss: 0.7687909007072449\n",
      "Generating Image Number: 19 for target class tensor([2]). Step 300, Loss: 0.6794767379760742\n",
      "Generating Image Number: 19 for target class tensor([2]). Step 350, Loss: 0.6239343881607056\n",
      "Generating Image Number: 19 for target class tensor([2]). Step 400, Loss: 0.5888323783874512\n",
      "Generating Image Number: 19 for target class tensor([2]). Step 450, Loss: 0.561149537563324\n",
      "Generating Image Number: 20 for target class tensor([2]). Step 0, Loss: 0.3746148943901062\n",
      "Generating Image Number: 20 for target class tensor([2]). Step 50, Loss: 0.1135312169790268\n",
      "Generating Image Number: 20 for target class tensor([2]). Step 100, Loss: 0.08215481042861938\n",
      "Generating Image Number: 20 for target class tensor([2]). Step 150, Loss: 0.06380975246429443\n",
      "Generating Image Number: 20 for target class tensor([2]). Step 200, Loss: 0.05197553336620331\n",
      "Generating Image Number: 20 for target class tensor([2]). Step 250, Loss: 0.043754320591688156\n",
      "Generating Image Number: 20 for target class tensor([2]). Step 300, Loss: 0.037701092660427094\n",
      "Generating Image Number: 20 for target class tensor([2]). Step 350, Loss: 0.033396996557712555\n",
      "Generating Image Number: 20 for target class tensor([2]). Step 400, Loss: 0.02985166199505329\n",
      "Generating Image Number: 20 for target class tensor([2]). Step 450, Loss: 0.027043653652071953\n"
     ]
    }
   ],
   "source": [
    "torch.manual_seed(200)\n",
    "latent_vectors = torch.randn(img_count, z_dim, 1, 1, requires_grad=True) # Start with 20 random noises\n",
    "class2_optimized_latent_vectors = recover_images(img_count, 2, latent_vectors)"
   ]
  },
  {
   "cell_type": "code",
   "execution_count": 23,
   "id": "0381b36d-6c92-43bc-b776-1eefd3eab451",
   "metadata": {
    "scrolled": true
   },
   "outputs": [
    {
     "name": "stdout",
     "output_type": "stream",
     "text": [
      "Generating Image Number: 1 for target class tensor([3]). Step 0, Loss: 0.04557812213897705\n",
      "Generating Image Number: 1 for target class tensor([3]). Step 50, Loss: 0.04065772145986557\n",
      "Generating Image Number: 1 for target class tensor([3]). Step 100, Loss: 0.03000183403491974\n",
      "Generating Image Number: 1 for target class tensor([3]). Step 150, Loss: 0.02193441428244114\n",
      "Generating Image Number: 1 for target class tensor([3]). Step 200, Loss: 0.018782733008265495\n",
      "Generating Image Number: 1 for target class tensor([3]). Step 250, Loss: 0.016480155289173126\n",
      "Generating Image Number: 1 for target class tensor([3]). Step 300, Loss: 0.015065458603203297\n",
      "Generating Image Number: 1 for target class tensor([3]). Step 350, Loss: 0.014177435077726841\n",
      "Generating Image Number: 1 for target class tensor([3]). Step 400, Loss: 0.013566204346716404\n",
      "Generating Image Number: 1 for target class tensor([3]). Step 450, Loss: 0.013023554347455502\n",
      "Generating Image Number: 2 for target class tensor([3]). Step 0, Loss: 25.418519973754883\n",
      "Generating Image Number: 2 for target class tensor([3]). Step 50, Loss: 16.500402450561523\n",
      "Generating Image Number: 2 for target class tensor([3]). Step 100, Loss: 14.634574890136719\n",
      "Generating Image Number: 2 for target class tensor([3]). Step 150, Loss: 12.709426879882812\n",
      "Generating Image Number: 2 for target class tensor([3]). Step 200, Loss: 11.511515617370605\n",
      "Generating Image Number: 2 for target class tensor([3]). Step 250, Loss: 10.330558776855469\n",
      "Generating Image Number: 2 for target class tensor([3]). Step 300, Loss: 9.406999588012695\n",
      "Generating Image Number: 2 for target class tensor([3]). Step 350, Loss: 8.182962417602539\n",
      "Generating Image Number: 2 for target class tensor([3]). Step 400, Loss: 7.689493179321289\n",
      "Generating Image Number: 2 for target class tensor([3]). Step 450, Loss: 7.401284694671631\n",
      "Generating Image Number: 3 for target class tensor([3]). Step 0, Loss: 26.14988899230957\n",
      "Generating Image Number: 3 for target class tensor([3]). Step 50, Loss: 19.83380126953125\n",
      "Generating Image Number: 3 for target class tensor([3]). Step 100, Loss: 16.49085807800293\n",
      "Generating Image Number: 3 for target class tensor([3]). Step 150, Loss: 13.308950424194336\n",
      "Generating Image Number: 3 for target class tensor([3]). Step 200, Loss: 10.617595672607422\n",
      "Generating Image Number: 3 for target class tensor([3]). Step 250, Loss: 8.513033866882324\n",
      "Generating Image Number: 3 for target class tensor([3]). Step 300, Loss: 6.881335258483887\n",
      "Generating Image Number: 3 for target class tensor([3]). Step 350, Loss: 5.5600266456604\n",
      "Generating Image Number: 3 for target class tensor([3]). Step 400, Loss: 4.508689880371094\n",
      "Generating Image Number: 3 for target class tensor([3]). Step 450, Loss: 3.4131617546081543\n",
      "Generating Image Number: 4 for target class tensor([3]). Step 0, Loss: 41.43012237548828\n",
      "Generating Image Number: 4 for target class tensor([3]). Step 50, Loss: 39.206443786621094\n",
      "Generating Image Number: 4 for target class tensor([3]). Step 100, Loss: 38.14710235595703\n",
      "Generating Image Number: 4 for target class tensor([3]). Step 150, Loss: 37.379581451416016\n",
      "Generating Image Number: 4 for target class tensor([3]). Step 200, Loss: 36.75531005859375\n",
      "Generating Image Number: 4 for target class tensor([3]). Step 250, Loss: 36.34198760986328\n",
      "Generating Image Number: 4 for target class tensor([3]). Step 300, Loss: 35.87675857543945\n",
      "Generating Image Number: 4 for target class tensor([3]). Step 350, Loss: 35.561100006103516\n",
      "Generating Image Number: 4 for target class tensor([3]). Step 400, Loss: 35.20507049560547\n",
      "Generating Image Number: 4 for target class tensor([3]). Step 450, Loss: 34.9127197265625\n",
      "Generating Image Number: 5 for target class tensor([3]). Step 0, Loss: 36.517311096191406\n",
      "Generating Image Number: 5 for target class tensor([3]). Step 50, Loss: 15.474305152893066\n",
      "Generating Image Number: 5 for target class tensor([3]). Step 100, Loss: 9.590867042541504\n",
      "Generating Image Number: 5 for target class tensor([3]). Step 150, Loss: 5.19828462600708\n",
      "Generating Image Number: 5 for target class tensor([3]). Step 200, Loss: 0.20288433134555817\n",
      "Generating Image Number: 5 for target class tensor([3]). Step 250, Loss: 0.022999780252575874\n",
      "Generating Image Number: 5 for target class tensor([3]). Step 300, Loss: 0.014577431604266167\n",
      "Generating Image Number: 5 for target class tensor([3]). Step 350, Loss: 0.011187207885086536\n",
      "Generating Image Number: 5 for target class tensor([3]). Step 400, Loss: 0.009047936648130417\n",
      "Generating Image Number: 5 for target class tensor([3]). Step 450, Loss: 0.007642199285328388\n",
      "Generating Image Number: 6 for target class tensor([3]). Step 0, Loss: 22.28377914428711\n",
      "Generating Image Number: 6 for target class tensor([3]). Step 50, Loss: 3.8860538005828857\n",
      "Generating Image Number: 6 for target class tensor([3]). Step 100, Loss: 0.5427641868591309\n",
      "Generating Image Number: 6 for target class tensor([3]). Step 150, Loss: 0.1441328376531601\n",
      "Generating Image Number: 6 for target class tensor([3]). Step 200, Loss: 0.09501050412654877\n",
      "Generating Image Number: 6 for target class tensor([3]). Step 250, Loss: 0.0749024897813797\n",
      "Generating Image Number: 6 for target class tensor([3]). Step 300, Loss: 0.05546688660979271\n",
      "Generating Image Number: 6 for target class tensor([3]). Step 350, Loss: 0.04575931653380394\n",
      "Generating Image Number: 6 for target class tensor([3]). Step 400, Loss: 0.0387907437980175\n",
      "Generating Image Number: 6 for target class tensor([3]). Step 450, Loss: 0.03316407650709152\n",
      "Generating Image Number: 7 for target class tensor([3]). Step 0, Loss: 24.04245948791504\n",
      "Generating Image Number: 7 for target class tensor([3]). Step 50, Loss: 0.22658886015415192\n",
      "Generating Image Number: 7 for target class tensor([3]). Step 100, Loss: 0.06916327774524689\n",
      "Generating Image Number: 7 for target class tensor([3]). Step 150, Loss: 0.049871500581502914\n",
      "Generating Image Number: 7 for target class tensor([3]). Step 200, Loss: 0.03538959473371506\n",
      "Generating Image Number: 7 for target class tensor([3]). Step 250, Loss: 0.02752436138689518\n",
      "Generating Image Number: 7 for target class tensor([3]). Step 300, Loss: 0.022410938516259193\n",
      "Generating Image Number: 7 for target class tensor([3]). Step 350, Loss: 0.019157500937581062\n",
      "Generating Image Number: 7 for target class tensor([3]). Step 400, Loss: 0.016693077981472015\n",
      "Generating Image Number: 7 for target class tensor([3]). Step 450, Loss: 0.01477725151926279\n",
      "Generating Image Number: 8 for target class tensor([3]). Step 0, Loss: 29.191082000732422\n",
      "Generating Image Number: 8 for target class tensor([3]). Step 50, Loss: 16.128129959106445\n",
      "Generating Image Number: 8 for target class tensor([3]). Step 100, Loss: 13.78415298461914\n",
      "Generating Image Number: 8 for target class tensor([3]). Step 150, Loss: 8.084639549255371\n",
      "Generating Image Number: 8 for target class tensor([3]). Step 200, Loss: 6.200253963470459\n",
      "Generating Image Number: 8 for target class tensor([3]). Step 250, Loss: 2.2754414081573486\n",
      "Generating Image Number: 8 for target class tensor([3]). Step 300, Loss: 0.0844554752111435\n",
      "Generating Image Number: 8 for target class tensor([3]). Step 350, Loss: 0.034503091126680374\n",
      "Generating Image Number: 8 for target class tensor([3]). Step 400, Loss: 0.020437370985746384\n",
      "Generating Image Number: 8 for target class tensor([3]). Step 450, Loss: 0.014676582999527454\n",
      "Generating Image Number: 9 for target class tensor([3]). Step 0, Loss: 33.785057067871094\n",
      "Generating Image Number: 9 for target class tensor([3]). Step 50, Loss: 17.975318908691406\n",
      "Generating Image Number: 9 for target class tensor([3]). Step 100, Loss: 16.37512969970703\n",
      "Generating Image Number: 9 for target class tensor([3]). Step 150, Loss: 14.412649154663086\n",
      "Generating Image Number: 9 for target class tensor([3]). Step 200, Loss: 12.386140823364258\n",
      "Generating Image Number: 9 for target class tensor([3]). Step 250, Loss: 10.580957412719727\n",
      "Generating Image Number: 9 for target class tensor([3]). Step 300, Loss: 9.135327339172363\n",
      "Generating Image Number: 9 for target class tensor([3]). Step 350, Loss: 8.018441200256348\n",
      "Generating Image Number: 9 for target class tensor([3]). Step 400, Loss: 5.760710716247559\n",
      "Generating Image Number: 9 for target class tensor([3]). Step 450, Loss: 3.9842276573181152\n",
      "Generating Image Number: 10 for target class tensor([3]). Step 0, Loss: 20.218860626220703\n",
      "Generating Image Number: 10 for target class tensor([3]). Step 50, Loss: 16.33600425720215\n",
      "Generating Image Number: 10 for target class tensor([3]). Step 100, Loss: 14.3336820602417\n",
      "Generating Image Number: 10 for target class tensor([3]). Step 150, Loss: 9.805150032043457\n",
      "Generating Image Number: 10 for target class tensor([3]). Step 200, Loss: 7.484498023986816\n",
      "Generating Image Number: 10 for target class tensor([3]). Step 250, Loss: 3.3422250747680664\n",
      "Generating Image Number: 10 for target class tensor([3]). Step 300, Loss: 0.046702686697244644\n",
      "Generating Image Number: 10 for target class tensor([3]). Step 350, Loss: 0.024014320224523544\n",
      "Generating Image Number: 10 for target class tensor([3]). Step 400, Loss: 0.016596589237451553\n",
      "Generating Image Number: 10 for target class tensor([3]). Step 450, Loss: 0.012621876783668995\n",
      "Generating Image Number: 11 for target class tensor([3]). Step 0, Loss: 33.529075622558594\n",
      "Generating Image Number: 11 for target class tensor([3]). Step 50, Loss: 20.473407745361328\n",
      "Generating Image Number: 11 for target class tensor([3]). Step 100, Loss: 19.181901931762695\n",
      "Generating Image Number: 11 for target class tensor([3]). Step 150, Loss: 17.957229614257812\n",
      "Generating Image Number: 11 for target class tensor([3]). Step 200, Loss: 16.592947006225586\n",
      "Generating Image Number: 11 for target class tensor([3]). Step 250, Loss: 15.540276527404785\n",
      "Generating Image Number: 11 for target class tensor([3]). Step 300, Loss: 12.541885375976562\n",
      "Generating Image Number: 11 for target class tensor([3]). Step 350, Loss: 8.306405067443848\n",
      "Generating Image Number: 11 for target class tensor([3]). Step 400, Loss: 4.070725917816162\n",
      "Generating Image Number: 11 for target class tensor([3]). Step 450, Loss: 0.2745611369609833\n",
      "Generating Image Number: 12 for target class tensor([3]). Step 0, Loss: 48.378326416015625\n",
      "Generating Image Number: 12 for target class tensor([3]). Step 50, Loss: 38.693824768066406\n",
      "Generating Image Number: 12 for target class tensor([3]). Step 100, Loss: 37.96073913574219\n",
      "Generating Image Number: 12 for target class tensor([3]). Step 150, Loss: 37.022804260253906\n",
      "Generating Image Number: 12 for target class tensor([3]). Step 200, Loss: 36.023033142089844\n",
      "Generating Image Number: 12 for target class tensor([3]). Step 250, Loss: 35.00054931640625\n",
      "Generating Image Number: 12 for target class tensor([3]). Step 300, Loss: 34.24702453613281\n",
      "Generating Image Number: 12 for target class tensor([3]). Step 350, Loss: 33.62031173706055\n",
      "Generating Image Number: 12 for target class tensor([3]). Step 400, Loss: 33.13249206542969\n",
      "Generating Image Number: 12 for target class tensor([3]). Step 450, Loss: 32.75672912597656\n",
      "Generating Image Number: 13 for target class tensor([3]). Step 0, Loss: 42.19529342651367\n",
      "Generating Image Number: 13 for target class tensor([3]). Step 50, Loss: 15.73952865600586\n",
      "Generating Image Number: 13 for target class tensor([3]). Step 100, Loss: 14.296282768249512\n",
      "Generating Image Number: 13 for target class tensor([3]). Step 150, Loss: 12.685431480407715\n",
      "Generating Image Number: 13 for target class tensor([3]). Step 200, Loss: 10.875773429870605\n",
      "Generating Image Number: 13 for target class tensor([3]). Step 250, Loss: 9.285714149475098\n",
      "Generating Image Number: 13 for target class tensor([3]). Step 300, Loss: 5.449434757232666\n",
      "Generating Image Number: 13 for target class tensor([3]). Step 350, Loss: 0.06239643692970276\n",
      "Generating Image Number: 13 for target class tensor([3]). Step 400, Loss: 0.021141881123185158\n",
      "Generating Image Number: 13 for target class tensor([3]). Step 450, Loss: 0.015155051834881306\n",
      "Generating Image Number: 14 for target class tensor([3]). Step 0, Loss: 28.15170669555664\n",
      "Generating Image Number: 14 for target class tensor([3]). Step 50, Loss: 16.65083885192871\n",
      "Generating Image Number: 14 for target class tensor([3]). Step 100, Loss: 15.405206680297852\n",
      "Generating Image Number: 14 for target class tensor([3]). Step 150, Loss: 14.468267440795898\n",
      "Generating Image Number: 14 for target class tensor([3]). Step 200, Loss: 13.552056312561035\n",
      "Generating Image Number: 14 for target class tensor([3]). Step 250, Loss: 11.989840507507324\n",
      "Generating Image Number: 14 for target class tensor([3]). Step 300, Loss: 9.52856731414795\n",
      "Generating Image Number: 14 for target class tensor([3]). Step 350, Loss: 6.522754669189453\n",
      "Generating Image Number: 14 for target class tensor([3]). Step 400, Loss: 5.567255973815918\n",
      "Generating Image Number: 14 for target class tensor([3]). Step 450, Loss: 4.914306640625\n",
      "Generating Image Number: 15 for target class tensor([3]). Step 0, Loss: 27.46803855895996\n",
      "Generating Image Number: 15 for target class tensor([3]). Step 50, Loss: 0.27133864164352417\n",
      "Generating Image Number: 15 for target class tensor([3]). Step 100, Loss: 0.1438761204481125\n",
      "Generating Image Number: 15 for target class tensor([3]). Step 150, Loss: 0.11161816865205765\n",
      "Generating Image Number: 15 for target class tensor([3]). Step 200, Loss: 0.09233356267213821\n",
      "Generating Image Number: 15 for target class tensor([3]). Step 250, Loss: 0.07792146503925323\n",
      "Generating Image Number: 15 for target class tensor([3]). Step 300, Loss: 0.06546361744403839\n",
      "Generating Image Number: 15 for target class tensor([3]). Step 350, Loss: 0.05863136425614357\n",
      "Generating Image Number: 15 for target class tensor([3]). Step 400, Loss: 0.053679466247558594\n",
      "Generating Image Number: 15 for target class tensor([3]). Step 450, Loss: 0.04916810989379883\n",
      "Generating Image Number: 16 for target class tensor([3]). Step 0, Loss: 44.70915603637695\n",
      "Generating Image Number: 16 for target class tensor([3]). Step 50, Loss: 44.91560363769531\n",
      "Generating Image Number: 16 for target class tensor([3]). Step 100, Loss: 37.36444854736328\n",
      "Generating Image Number: 16 for target class tensor([3]). Step 150, Loss: 0.04971430078148842\n",
      "Generating Image Number: 16 for target class tensor([3]). Step 200, Loss: 35.80283737182617\n",
      "Generating Image Number: 16 for target class tensor([3]). Step 250, Loss: 41.988739013671875\n",
      "Generating Image Number: 16 for target class tensor([3]). Step 300, Loss: 44.88933181762695\n",
      "Generating Image Number: 16 for target class tensor([3]). Step 350, Loss: 21.773895263671875\n",
      "Generating Image Number: 16 for target class tensor([3]). Step 400, Loss: 47.33985137939453\n",
      "Generating Image Number: 16 for target class tensor([3]). Step 450, Loss: 43.95689392089844\n",
      "Generating Image Number: 17 for target class tensor([3]). Step 0, Loss: 25.576976776123047\n",
      "Generating Image Number: 17 for target class tensor([3]). Step 50, Loss: 18.745229721069336\n",
      "Generating Image Number: 17 for target class tensor([3]). Step 100, Loss: 2.517582416534424\n",
      "Generating Image Number: 17 for target class tensor([3]). Step 150, Loss: 1.3051142692565918\n",
      "Generating Image Number: 17 for target class tensor([3]). Step 200, Loss: 0.7966626882553101\n",
      "Generating Image Number: 17 for target class tensor([3]). Step 250, Loss: 0.491390585899353\n",
      "Generating Image Number: 17 for target class tensor([3]). Step 300, Loss: 0.33565837144851685\n",
      "Generating Image Number: 17 for target class tensor([3]). Step 350, Loss: 0.258826345205307\n",
      "Generating Image Number: 17 for target class tensor([3]). Step 400, Loss: 0.20023930072784424\n",
      "Generating Image Number: 17 for target class tensor([3]). Step 450, Loss: 0.15777623653411865\n",
      "Generating Image Number: 18 for target class tensor([3]). Step 0, Loss: 47.750511169433594\n",
      "Generating Image Number: 18 for target class tensor([3]). Step 50, Loss: 39.96381759643555\n",
      "Generating Image Number: 18 for target class tensor([3]). Step 100, Loss: 38.58493423461914\n",
      "Generating Image Number: 18 for target class tensor([3]). Step 150, Loss: 37.48304748535156\n",
      "Generating Image Number: 18 for target class tensor([3]). Step 200, Loss: 36.50892639160156\n",
      "Generating Image Number: 18 for target class tensor([3]). Step 250, Loss: 35.851524353027344\n",
      "Generating Image Number: 18 for target class tensor([3]). Step 300, Loss: 35.269832611083984\n",
      "Generating Image Number: 18 for target class tensor([3]). Step 350, Loss: 34.727603912353516\n",
      "Generating Image Number: 18 for target class tensor([3]). Step 400, Loss: 33.993961334228516\n",
      "Generating Image Number: 18 for target class tensor([3]). Step 450, Loss: 33.52141571044922\n",
      "Generating Image Number: 19 for target class tensor([3]). Step 0, Loss: 50.556175231933594\n",
      "Generating Image Number: 19 for target class tensor([3]). Step 50, Loss: 41.16539764404297\n",
      "Generating Image Number: 19 for target class tensor([3]). Step 100, Loss: 40.87940979003906\n",
      "Generating Image Number: 19 for target class tensor([3]). Step 150, Loss: 40.694847106933594\n",
      "Generating Image Number: 19 for target class tensor([3]). Step 200, Loss: 40.49821472167969\n",
      "Generating Image Number: 19 for target class tensor([3]). Step 250, Loss: 40.29651641845703\n",
      "Generating Image Number: 19 for target class tensor([3]). Step 300, Loss: 40.07170104980469\n",
      "Generating Image Number: 19 for target class tensor([3]). Step 350, Loss: 39.8148193359375\n",
      "Generating Image Number: 19 for target class tensor([3]). Step 400, Loss: 39.624061584472656\n",
      "Generating Image Number: 19 for target class tensor([3]). Step 450, Loss: 39.403282165527344\n",
      "Generating Image Number: 20 for target class tensor([3]). Step 0, Loss: 32.99726486206055\n",
      "Generating Image Number: 20 for target class tensor([3]). Step 50, Loss: 3.593174457550049\n",
      "Generating Image Number: 20 for target class tensor([3]). Step 100, Loss: 1.1689109802246094\n",
      "Generating Image Number: 20 for target class tensor([3]). Step 150, Loss: 0.5706806182861328\n",
      "Generating Image Number: 20 for target class tensor([3]). Step 200, Loss: 0.3054613471031189\n",
      "Generating Image Number: 20 for target class tensor([3]). Step 250, Loss: 0.1988808810710907\n",
      "Generating Image Number: 20 for target class tensor([3]). Step 300, Loss: 0.16421397030353546\n",
      "Generating Image Number: 20 for target class tensor([3]). Step 350, Loss: 0.13496631383895874\n",
      "Generating Image Number: 20 for target class tensor([3]). Step 400, Loss: 0.11209677159786224\n",
      "Generating Image Number: 20 for target class tensor([3]). Step 450, Loss: 0.09498687833547592\n"
     ]
    }
   ],
   "source": [
    "torch.manual_seed(300)\n",
    "latent_vectors = torch.randn(img_count, z_dim, 1, 1, requires_grad=True) # Start with 20 random noises\n",
    "class3_optimized_latent_vectors = recover_images(img_count, 3, latent_vectors)"
   ]
  },
  {
   "cell_type": "code",
   "execution_count": 24,
   "id": "ae6425a5-dd86-4e87-8112-883336345ac9",
   "metadata": {},
   "outputs": [],
   "source": [
    "z0_1 = class0_optimized_latent_vectors[0]\n",
    "z0_2 = class0_optimized_latent_vectors[1]\n",
    "z0_3 = class0_optimized_latent_vectors[2]"
   ]
  },
  {
   "cell_type": "code",
   "execution_count": 25,
   "id": "3a6ed4fb-b693-4963-afcf-17a512e50b5f",
   "metadata": {},
   "outputs": [
    {
     "name": "stdout",
     "output_type": "stream",
     "text": [
      "torch.Size([64, 64])\n"
     ]
    }
   ],
   "source": [
    "# Display the generated image\n",
    "img = gen(z0_1.to(device)).squeeze(dim=0).squeeze(dim=0)\n",
    "print(img.shape)"
   ]
  },
  {
   "cell_type": "code",
   "execution_count": 26,
   "id": "88fc9416-c6ca-486b-bd72-63885de78d1c",
   "metadata": {},
   "outputs": [
    {
     "data": {
      "text/plain": [
       "<matplotlib.image.AxesImage at 0x1cd4324bf10>"
      ]
     },
     "execution_count": 26,
     "metadata": {},
     "output_type": "execute_result"
    },
    {
     "data": {
      "image/png": "[encoded data removed]",
      "text/plain": [
       "<Figure size 640x480 with 1 Axes>"
      ]
     },
     "metadata": {},
     "output_type": "display_data"
    }
   ],
   "source": [
    "plt.axis(False)\n",
    "plt.title('Recovered Image:')\n",
    "plt.imshow(img.cpu().detach(), cmap='gray')"
   ]
  },
  {
   "cell_type": "code",
   "execution_count": 27,
   "id": "bb0fc370-78c5-495f-b1e7-1239873b4ff8",
   "metadata": {},
   "outputs": [],
   "source": [
    "z1 = class1_optimized_latent_vectors[0]\n",
    "z2 = class1_optimized_latent_vectors[1]\n",
    "z3 = class1_optimized_latent_vectors[2]"
   ]
  },
  {
   "cell_type": "code",
   "execution_count": 28,
   "id": "07f38b7d-14f6-4d63-9efa-cb96ec2e1d35",
   "metadata": {},
   "outputs": [
    {
     "name": "stdout",
     "output_type": "stream",
     "text": [
      "torch.Size([64, 64])\n"
     ]
    }
   ],
   "source": [
    "# Display the generated image\n",
    "img = gen(z1.to(device)).squeeze(dim=0).squeeze(dim=0)\n",
    "print(img.shape)"
   ]
  },
  {
   "cell_type": "code",
   "execution_count": 29,
   "id": "8cad57ff-7961-4078-9dd4-1e0b4879ff56",
   "metadata": {},
   "outputs": [
    {
     "data": {
      "text/plain": [
       "<matplotlib.image.AxesImage at 0x1cd433b3d60>"
      ]
     },
     "execution_count": 29,
     "metadata": {},
     "output_type": "execute_result"
    },
    {
     "data": {
      "image/png": "[encoded data removed]",
      "text/plain": [
       "<Figure size 640x480 with 1 Axes>"
      ]
     },
     "metadata": {},
     "output_type": "display_data"
    }
   ],
   "source": [
    "plt.axis(False)\n",
    "plt.title('Recovered Image:')\n",
    "plt.imshow(img.cpu().detach(), cmap='gray')"
   ]
  },
  {
   "cell_type": "code",
   "execution_count": 30,
   "id": "52ecd67d-cb2d-44a3-b375-759d63db75b1",
   "metadata": {},
   "outputs": [],
   "source": [
    "                                                            # Dataset Loading\n",
    "# Load the .pkl files in as numpy arrays of pixels\n",
    "def load_tumor_data(file_path):\n",
    "    train_xs = []\n",
    "    train_ys = []\n",
    "    \"\"\" Load Digits Data from pickle data\n",
    "    return:\n",
    "    @xs: numpy.array, (n, c, w, h) \n",
    "    @ys: numpy.array, (n, ), 0-9\n",
    "    \"\"\"\n",
    "    with open(file_path, 'rb') as file:\n",
    "        data = pickle.load(file)\n",
    "        train_xs.append(data[\"data\"])\n",
    "        train_ys.append(data[\"labels\"])\n",
    "    train_xs = np.concatenate(train_xs, axis=0)\n",
    "    train_ys = np.concatenate(train_ys, axis=0)\n",
    "    \n",
    "    return train_xs, train_ys"
   ]
  },
  {
   "cell_type": "code",
   "execution_count": 31,
   "id": "ca72f62f-1eec-4b17-a8ce-fd66781f64f6",
   "metadata": {},
   "outputs": [],
   "source": [
    "# Custom Tumor Dataset\n",
    "class TumorDataset(data.Dataset):\n",
    "    def __init__(self, xs, ys, is_train=True):\n",
    "        self.xs = xs\n",
    "        self.ys = ys\n",
    "\n",
    "        if is_train is True:\n",
    "            self.transform = transforms.Compose([\n",
    "                transforms.ToPILImage(),\n",
    "                transforms.Resize((64, 64)),\n",
    "                transforms.ToTensor(),\n",
    "                transforms.Normalize(\n",
    "                    [0.5],\n",
    "                    [0.5]\n",
    "                )\n",
    "            ])\n",
    "        else:\n",
    "            self.transform = transforms.Compose([\n",
    "                transforms.ToPILImage(),\n",
    "                transforms.Resize((64, 64)),\n",
    "                transforms.ToTensor(),\n",
    "                transforms.Normalize(\n",
    "                    (0.4914, 0.4822, 0.4465),\n",
    "                    (0.2023, 0.1994, 0.2010)\n",
    "                )\n",
    "            ])\n",
    "\n",
    "    def __len__(self):\n",
    "        return len(self.xs)\n",
    "\n",
    "    def __getitem__(self, index):\n",
    "        img = self.xs[index]\n",
    "        #print(img.shape)\n",
    "        label = self.ys[index]\n",
    "\n",
    "        img = img.transpose((1, 2, 0)).astype(np.uint8)\n",
    "        img = self.transform(img)\n",
    "\n",
    "        img = torch.FloatTensor(img)\n",
    "        label = torch.LongTensor([label])[0]\n",
    "        return img, label"
   ]
  },
  {
   "cell_type": "code",
   "execution_count": 32,
   "id": "ceb91588-ef69-4373-b33f-74aed6c246bb",
   "metadata": {},
   "outputs": [],
   "source": [
    "def create_dataset(train_xs, train_ys):\n",
    "    tumor_dataset = TumorDataset(train_xs, train_ys, is_train=True)\n",
    "\n",
    "    return tumor_dataset"
   ]
  },
  {
   "cell_type": "code",
   "execution_count": 33,
   "id": "0415fba0-830c-42c6-bbde-c6958e779fbb",
   "metadata": {},
   "outputs": [],
   "source": [
    "def create_dataloader(dataset):\n",
    "    dataloader = DataLoader(dataset=dataset, batch_size=128, shuffle=True)\n",
    "\n",
    "    return dataloader"
   ]
  },
  {
   "cell_type": "code",
   "execution_count": 34,
   "id": "726d4995-5133-4037-ab0e-f2705470cdc9",
   "metadata": {},
   "outputs": [
    {
     "name": "stdout",
     "output_type": "stream",
     "text": [
      "(13927, 1, 32, 32)\n",
      "<class 'numpy.ndarray'>\n"
     ]
    }
   ],
   "source": [
    "# Load in the pickle dataset file\n",
    "train_xs, train_ys = load_tumor_data('datasets/Tumor/tumor4train.pkl')\n",
    "#train_xs = train_xs[:, 1, :, :]\n",
    "#train_xs = np.expand_dims(train_xs, axis=1)\n",
    "train_xs = train_xs.mean(axis=1, keepdims=True)\n",
    "print(train_xs.shape)\n",
    "print(type(train_xs))"
   ]
  },
  {
   "cell_type": "code",
   "execution_count": 35,
   "id": "a684b01a-eb4a-4210-9f59-d613085a404a",
   "metadata": {},
   "outputs": [],
   "source": [
    "# Create the dataset\n",
    "tumor_dataset = create_dataset(train_xs, train_ys)"
   ]
  },
  {
   "cell_type": "code",
   "execution_count": 36,
   "id": "193f07cc-d34f-425e-aa08-62b6d6adbad6",
   "metadata": {},
   "outputs": [],
   "source": [
    "def visualize_image(image_x):\n",
    "    # We have to visualize by reverting the normalization (just for visualization).\n",
    "    mean = torch.tensor([0.5])\n",
    "    std = torch.tensor([0.5])\n",
    "\n",
    "    image = image_x * std + mean  # Denormalize the image\n",
    "\n",
    "    image = torch.clamp(image, 0, 1) # Clip values to [0, 1] to ensure valid range for display\n",
    "\n",
    "    # Permute the image to (H, W, C) for matplotlib\n",
    "    \n",
    "    image = image.permute(1, 2, 0)\n",
    "\n",
    "    plt.imshow(image, cmap='gray')"
   ]
  },
  {
   "cell_type": "code",
   "execution_count": 37,
   "id": "16e93c17-a89b-46a2-8198-71e66e370f4f",
   "metadata": {},
   "outputs": [
    {
     "name": "stdout",
     "output_type": "stream",
     "text": [
      "torch.Size([1, 64, 64])\n"
     ]
    },
    {
     "data": {
      "image/png": "[encoded data removed]",
      "text/plain": [
       "<Figure size 640x480 with 1 Axes>"
      ]
     },
     "metadata": {},
     "output_type": "display_data"
    }
   ],
   "source": [
    "# Visualize the first tumor sample. \n",
    "image_x, image_y = tumor_dataset[7000]\n",
    "print(image_x.shape)\n",
    "visualize_image(image_x)"
   ]
  },
  {
   "cell_type": "code",
   "execution_count": 38,
   "id": "60e2da47-7cb6-493e-aeda-aa80d7965de7",
   "metadata": {},
   "outputs": [],
   "source": [
    "from scipy.spatial.distance import cosine"
   ]
  },
  {
   "cell_type": "code",
   "execution_count": 39,
   "id": "5a7937e5-b808-4b3e-8288-75dcd9862340",
   "metadata": {},
   "outputs": [],
   "source": [
    "# Get the feature embeddings\n",
    "tfcnn_model = target_model = load_target_model(base_net='TFCNN', n_classes=4, path='saved models/fedavg_global_model.pth').to(device)\n",
    "model_embeddings = tfcnn_model.encoder.to(device)"
   ]
  },
  {
   "cell_type": "code",
   "execution_count": 40,
   "id": "737e3d92-45b6-45f6-9bf2-d51f379d6ac8",
   "metadata": {},
   "outputs": [],
   "source": [
    "# Preprocessing\n",
    "preprocess = transforms.Compose([\n",
    "    transforms.Resize(256),\n",
    "    transforms.CenterCrop(224),\n",
    "    transforms.ToTensor(),\n",
    "])"
   ]
  },
  {
   "cell_type": "code",
   "execution_count": 41,
   "id": "babb1015-bdfb-439b-bea1-81f9f50dd74e",
   "metadata": {},
   "outputs": [],
   "source": [
    "def get_feature(img):\n",
    "    with torch.no_grad():\n",
    "        features = model_embeddings(img).squeeze()\n",
    "    return features.cpu().numpy()"
   ]
  },
  {
   "cell_type": "code",
   "execution_count": 42,
   "id": "79f38654-6670-440d-a322-b2cae18a71d8",
   "metadata": {},
   "outputs": [
    {
     "data": {
      "text/plain": [
       "torch.Size([1, 64, 64])"
      ]
     },
     "execution_count": 42,
     "metadata": {},
     "output_type": "execute_result"
    }
   ],
   "source": [
    "# Send an original image through the model\n",
    "image_x, image_y = tumor_dataset[10]\n",
    "image_x.shape"
   ]
  },
  {
   "cell_type": "code",
   "execution_count": 43,
   "id": "a4a2659e-dcaa-4d4a-b5a5-06b363ce6534",
   "metadata": {},
   "outputs": [],
   "source": [
    "image_x = image_x.unsqueeze(dim=0)"
   ]
  },
  {
   "cell_type": "code",
   "execution_count": 44,
   "id": "14348bfc-5988-48f0-88cf-4761d7a99d89",
   "metadata": {},
   "outputs": [
    {
     "data": {
      "text/plain": [
       "torch.Size([1, 1, 64, 64])"
      ]
     },
     "execution_count": 44,
     "metadata": {},
     "output_type": "execute_result"
    }
   ],
   "source": [
    "image_x.shape"
   ]
  },
  {
   "cell_type": "code",
   "execution_count": 45,
   "id": "66160253-9543-4aba-bb81-031d51ef9623",
   "metadata": {},
   "outputs": [
    {
     "data": {
      "text/plain": [
       "torch.Size([1, 3, 64, 64])"
      ]
     },
     "execution_count": 45,
     "metadata": {},
     "output_type": "execute_result"
    }
   ],
   "source": [
    "image_x = image_x.repeat(1, 3, 1, 1)\n",
    "image_x = image_x.to(device)\n",
    "image_x.shape"
   ]
  },
  {
   "cell_type": "code",
   "execution_count": 46,
   "id": "f615c7d3-2dab-425d-81e1-2595ec59e230",
   "metadata": {},
   "outputs": [
    {
     "data": {
      "text/plain": [
       "(4096,)"
      ]
     },
     "execution_count": 46,
     "metadata": {},
     "output_type": "execute_result"
    }
   ],
   "source": [
    "features = get_feature(image_x)\n",
    "features.shape"
   ]
  },
  {
   "cell_type": "code",
   "execution_count": 47,
   "id": "31b9ddc9-3fc8-4a47-bfc7-74a6df27d672",
   "metadata": {},
   "outputs": [],
   "source": [
    "class0_original_images = []\n",
    "class1_original_images = []\n",
    "class2_original_images = []\n",
    "class3_original_images = []\n",
    "target_num = 20 # 20 images for each class"
   ]
  },
  {
   "cell_type": "code",
   "execution_count": 48,
   "id": "e804c948-2dc8-41df-a633-113300baf12a",
   "metadata": {},
   "outputs": [],
   "source": [
    "for i in range(len(tumor_dataset)):\n",
    "    img_x, img_y = tumor_dataset[i]\n",
    "\n",
    "    if img_y == 0:\n",
    "        if len(class0_original_images) < target_num:\n",
    "            class0_original_images.append(img_x)\n",
    "    elif img_y == 1:\n",
    "        if len(class1_original_images) < target_num:\n",
    "            class1_original_images.append(img_x)\n",
    "    elif img_y == 2:\n",
    "        if len(class2_original_images) < target_num:\n",
    "            class2_original_images.append(img_x)\n",
    "    elif img_y == 3:\n",
    "        if len(class3_original_images) < target_num:\n",
    "            class3_original_images.append(img_x)"
   ]
  },
  {
   "cell_type": "code",
   "execution_count": 49,
   "id": "ef07c896-c4cd-48da-9e59-c9d7bd90a4e8",
   "metadata": {},
   "outputs": [
    {
     "data": {
      "text/plain": [
       "20"
      ]
     },
     "execution_count": 49,
     "metadata": {},
     "output_type": "execute_result"
    }
   ],
   "source": [
    "len(class3_original_images)"
   ]
  },
  {
   "cell_type": "code",
   "execution_count": 50,
   "id": "e102404a-68a3-40c5-99a7-45813eb87f20",
   "metadata": {},
   "outputs": [
    {
     "data": {
      "text/plain": [
       "torch.Size([1, 3, 64, 64])"
      ]
     },
     "execution_count": 50,
     "metadata": {},
     "output_type": "execute_result"
    }
   ],
   "source": [
    "# Testing the cosine similarity\n",
    "class1_original_image = class1_original_images[8]\n",
    "class1_original_image = class1_original_image.unsqueeze(dim=0).to(device)\n",
    "class1_original_image = class1_original_image.repeat(1, 3, 1, 1)\n",
    "class1_original_image.shape"
   ]
  },
  {
   "cell_type": "code",
   "execution_count": 51,
   "id": "d7fe9c85-2c83-4580-be7d-32833b706948",
   "metadata": {},
   "outputs": [],
   "source": [
    "fake1 = class1_optimized_latent_vectors[8]\n",
    "fake1_image = gen(fake1.to(device))\n",
    "fake1_image = fake1_image.repeat(1, 3, 1, 1)"
   ]
  },
  {
   "cell_type": "code",
   "execution_count": 52,
   "id": "74647152-cdcb-4593-a88f-d3ac43fd97d3",
   "metadata": {},
   "outputs": [
    {
     "data": {
      "text/plain": [
       "torch.Size([1, 3, 64, 64])"
      ]
     },
     "execution_count": 52,
     "metadata": {},
     "output_type": "execute_result"
    }
   ],
   "source": [
    "fake1_image.shape"
   ]
  },
  {
   "cell_type": "code",
   "execution_count": 53,
   "id": "e88f6396-0ef2-45f5-96e0-6048be01af25",
   "metadata": {},
   "outputs": [],
   "source": [
    "# Get the features of the images\n",
    "features_original = get_feature(class1_original_image)\n",
    "features_fake = get_feature(fake1_image)"
   ]
  },
  {
   "cell_type": "code",
   "execution_count": 54,
   "id": "b54e2bca-5f2b-41ea-b810-15d1f9d30f86",
   "metadata": {},
   "outputs": [],
   "source": [
    "# Compute cosine similarity\n",
    "similarity = 1 - cosine(features_original, features_fake)"
   ]
  },
  {
   "cell_type": "code",
   "execution_count": 55,
   "id": "983c7e35-27ee-453c-9356-cb9a84fdd4a3",
   "metadata": {},
   "outputs": [
    {
     "data": {
      "text/plain": [
       "np.float32(0.5233437)"
      ]
     },
     "execution_count": 55,
     "metadata": {},
     "output_type": "execute_result"
    }
   ],
   "source": [
    "similarity"
   ]
  },
  {
   "cell_type": "code",
   "execution_count": 56,
   "id": "e65e04e8-52b7-4cf2-876c-d9b07a435ec9",
   "metadata": {},
   "outputs": [],
   "source": [
    "def calculate_class0_sim():\n",
    "    similarities = []\n",
    "    for i in range(0, 20):\n",
    "        class0_original = class0_original_images[i].unsqueeze(dim=0).to(device)\n",
    "        class0_original = class0_original.repeat(1, 3, 1, 1)\n",
    "\n",
    "        class0_fake = class0_optimized_latent_vectors[i]\n",
    "        class0_fake_img = gen(class0_fake.to(device))\n",
    "        class0_fake_img = class0_fake_img.repeat(1, 3, 1, 1)\n",
    "\n",
    "        features_original = get_feature(class0_original)\n",
    "        features_fake = get_feature(class0_fake_img)\n",
    "\n",
    "        cosine_similarity = 1 - cosine(features_original, features_fake)\n",
    "\n",
    "        similarities.append(cosine_similarity)\n",
    "        \n",
    "    return similarities"
   ]
  },
  {
   "cell_type": "code",
   "execution_count": 57,
   "id": "10d8f579-0b80-4157-b59b-7b92be9e52f2",
   "metadata": {},
   "outputs": [],
   "source": [
    "def calculate_class1_sim():\n",
    "    similarities = []\n",
    "    for i in range(0, 20):\n",
    "        class1_original = class1_original_images[i].unsqueeze(dim=0).to(device)\n",
    "        class1_original = class1_original.repeat(1, 3, 1, 1)\n",
    "\n",
    "        class1_fake = class1_optimized_latent_vectors[i]\n",
    "        class1_fake_img = gen(class1_fake.to(device))\n",
    "        class1_fake_img = class1_fake_img.repeat(1, 3, 1, 1)\n",
    "\n",
    "        features_original = get_feature(class1_original)\n",
    "        features_fake = get_feature(class1_fake_img)\n",
    "\n",
    "        cosine_similarity = 1 - cosine(features_original, features_fake)\n",
    "        similarities.append(cosine_similarity)\n",
    "\n",
    "    return similarities"
   ]
  },
  {
   "cell_type": "code",
   "execution_count": 58,
   "id": "1bbdc999-fa6d-4005-b785-3c54a7bd89ee",
   "metadata": {},
   "outputs": [],
   "source": [
    "def calculate_class2_sim():\n",
    "    similarities = []\n",
    "    for i in range(0, 20):\n",
    "        class2_original = class2_original_images[i].unsqueeze(dim=0).to(device)\n",
    "        class2_original = class2_original.repeat(1, 3, 1, 1)\n",
    "\n",
    "        class2_fake = class2_optimized_latent_vectors[i]\n",
    "        class2_fake_img = gen(class2_fake.to(device))\n",
    "        class2_fake_img = class2_fake_img.repeat(1, 3, 1, 1)\n",
    "\n",
    "        features_original = get_feature(class2_original)\n",
    "        features_fake = get_feature(class2_fake_img)\n",
    "\n",
    "        cosine_similarity = 1 - cosine(features_original, features_fake)\n",
    "        similarities.append(cosine_similarity)\n",
    "\n",
    "    return similarities"
   ]
  },
  {
   "cell_type": "code",
   "execution_count": 59,
   "id": "33cb8de1-5a87-4dd4-8fc2-d3f27d6ddc9a",
   "metadata": {},
   "outputs": [],
   "source": [
    "def calculate_class3_sim():\n",
    "    similarities = []\n",
    "    for i in range(0, 20):\n",
    "        class3_original = class3_original_images[i].unsqueeze(dim=0).to(device)\n",
    "        class3_original = class3_original.repeat(1, 3, 1, 1)\n",
    "\n",
    "        class3_fake = class3_optimized_latent_vectors[i]\n",
    "        class3_fake_img = gen(class3_fake.to(device))\n",
    "        class3_fake_img = class3_fake_img.repeat(1, 3, 1, 1)\n",
    "\n",
    "        features_original = get_feature(class3_original)\n",
    "        features_fake = get_feature(class3_fake_img)\n",
    "\n",
    "        cosine_similarity = 1 - cosine(features_original, features_fake)\n",
    "        similarities.append(cosine_similarity)\n",
    "\n",
    "    return similarities"
   ]
  },
  {
   "cell_type": "code",
   "execution_count": 60,
   "id": "7868f175-5845-4ee4-b4cf-1c89513375ec",
   "metadata": {},
   "outputs": [],
   "source": [
    "class0_sims = calculate_class0_sim()\n",
    "class1_sims = calculate_class0_sim()\n",
    "class2_sims = calculate_class0_sim()\n",
    "class3_sims = calculate_class0_sim()"
   ]
  },
  {
   "cell_type": "code",
   "execution_count": 61,
   "id": "bbf4597d-a583-4204-a3ce-9085936e0189",
   "metadata": {},
   "outputs": [
    {
     "data": {
      "text/plain": [
       "[np.float32(0.5304649),\n",
       " np.float32(0.5091059),\n",
       " np.float32(0.55437624),\n",
       " np.float32(0.51459795),\n",
       " np.float32(0.022734165),\n",
       " np.float32(0.5471389),\n",
       " np.float32(0.63653487),\n",
       " np.float32(0.33888793),\n",
       " np.float32(0.5345888),\n",
       " np.float32(0.512391),\n",
       " np.float32(0.5726741),\n",
       " np.float32(0.5967439),\n",
       " np.float32(0.5858072),\n",
       " np.float32(0.5514484),\n",
       " np.float32(0.5620357),\n",
       " np.float32(0.56435764),\n",
       " np.float32(0.59240925),\n",
       " np.float32(0.39632714),\n",
       " np.float32(0.63806707),\n",
       " np.float32(0.62848836)]"
      ]
     },
     "execution_count": 61,
     "metadata": {},
     "output_type": "execute_result"
    }
   ],
   "source": [
    "class0_sims"
   ]
  },
  {
   "cell_type": "code",
   "execution_count": 62,
   "id": "acb9d480-a58f-4ce6-8973-eb9c8d6e7253",
   "metadata": {},
   "outputs": [
    {
     "data": {
      "text/plain": [
       "[np.float32(0.5304645),\n",
       " np.float32(0.5091083),\n",
       " np.float32(0.55437624),\n",
       " np.float32(0.51459795),\n",
       " np.float32(0.022734165),\n",
       " np.float32(0.5471389),\n",
       " np.float32(0.6365325),\n",
       " np.float32(0.33888817),\n",
       " np.float32(0.53458846),\n",
       " np.float32(0.51239103),\n",
       " np.float32(0.572674),\n",
       " np.float32(0.5967439),\n",
       " np.float32(0.5858074),\n",
       " np.float32(0.5514484),\n",
       " np.float32(0.56203586),\n",
       " np.float32(0.56435764),\n",
       " np.float32(0.5924091),\n",
       " np.float32(0.39632726),\n",
       " np.float32(0.63806707),\n",
       " np.float32(0.6284888)]"
      ]
     },
     "execution_count": 62,
     "metadata": {},
     "output_type": "execute_result"
    }
   ],
   "source": [
    "class3_sims"
   ]
  },
  {
   "cell_type": "code",
   "execution_count": 64,
   "id": "58dc103d-1c30-473a-adc3-fcd5ca5100a0",
   "metadata": {},
   "outputs": [
    {
     "ename": "FileNotFoundError",
     "evalue": "[Errno 2] No such file or directory: 'output/fedvg.png'",
     "output_type": "error",
     "traceback": [
      "\u001b[1;31m---------------------------------------------------------------------------\u001b[0m",
      "\u001b[1;31mFileNotFoundError\u001b[0m                         Traceback (most recent call last)",
      "Cell \u001b[1;32mIn[64], line 43\u001b[0m\n\u001b[0;32m     41\u001b[0m plt\u001b[38;5;241m.\u001b[39mtight_layout()\n\u001b[0;32m     42\u001b[0m \u001b[38;5;66;03m# Save the plot to a file\u001b[39;00m\n\u001b[1;32m---> 43\u001b[0m \u001b[43mplt\u001b[49m\u001b[38;5;241;43m.\u001b[39;49m\u001b[43msavefig\u001b[49m\u001b[43m(\u001b[49m\u001b[38;5;124;43m'\u001b[39;49m\u001b[38;5;124;43moutput/fedvg.png\u001b[39;49m\u001b[38;5;124;43m'\u001b[39;49m\u001b[43m,\u001b[49m\u001b[43m \u001b[49m\u001b[43mdpi\u001b[49m\u001b[38;5;241;43m=\u001b[39;49m\u001b[38;5;241;43m300\u001b[39;49m\u001b[43m,\u001b[49m\u001b[43m \u001b[49m\u001b[43mbbox_inches\u001b[49m\u001b[38;5;241;43m=\u001b[39;49m\u001b[38;5;124;43m'\u001b[39;49m\u001b[38;5;124;43mtight\u001b[39;49m\u001b[38;5;124;43m'\u001b[39;49m\u001b[43m)\u001b[49m  \u001b[38;5;66;03m# Save as a PNG file with high resolution\u001b[39;00m\n\u001b[0;32m     45\u001b[0m \u001b[38;5;66;03m# Show the plot\u001b[39;00m\n\u001b[0;32m     46\u001b[0m plt\u001b[38;5;241m.\u001b[39mshow()\n",
      "File \u001b[1;32m~\\AppData\\Local\\Programs\\Python\\Python39\\lib\\site-packages\\matplotlib\\pyplot.py:1228\u001b[0m, in \u001b[0;36msavefig\u001b[1;34m(*args, **kwargs)\u001b[0m\n\u001b[0;32m   1225\u001b[0m fig \u001b[38;5;241m=\u001b[39m gcf()\n\u001b[0;32m   1226\u001b[0m \u001b[38;5;66;03m# savefig default implementation has no return, so mypy is unhappy\u001b[39;00m\n\u001b[0;32m   1227\u001b[0m \u001b[38;5;66;03m# presumably this is here because subclasses can return?\u001b[39;00m\n\u001b[1;32m-> 1228\u001b[0m res \u001b[38;5;241m=\u001b[39m fig\u001b[38;5;241m.\u001b[39msavefig(\u001b[38;5;241m*\u001b[39margs, \u001b[38;5;241m*\u001b[39m\u001b[38;5;241m*\u001b[39mkwargs)  \u001b[38;5;66;03m# type: ignore[func-returns-value]\u001b[39;00m\n\u001b[0;32m   1229\u001b[0m fig\u001b[38;5;241m.\u001b[39mcanvas\u001b[38;5;241m.\u001b[39mdraw_idle()  \u001b[38;5;66;03m# Need this if 'transparent=True', to reset colors.\u001b[39;00m\n\u001b[0;32m   1230\u001b[0m \u001b[38;5;28;01mreturn\u001b[39;00m res\n",
      "File \u001b[1;32m~\\AppData\\Local\\Programs\\Python\\Python39\\lib\\site-packages\\matplotlib\\figure.py:3395\u001b[0m, in \u001b[0;36mFigure.savefig\u001b[1;34m(self, fname, transparent, **kwargs)\u001b[0m\n\u001b[0;32m   3393\u001b[0m     \u001b[38;5;28;01mfor\u001b[39;00m ax \u001b[38;5;129;01min\u001b[39;00m \u001b[38;5;28mself\u001b[39m\u001b[38;5;241m.\u001b[39maxes:\n\u001b[0;32m   3394\u001b[0m         _recursively_make_axes_transparent(stack, ax)\n\u001b[1;32m-> 3395\u001b[0m \u001b[38;5;28mself\u001b[39m\u001b[38;5;241m.\u001b[39mcanvas\u001b[38;5;241m.\u001b[39mprint_figure(fname, \u001b[38;5;241m*\u001b[39m\u001b[38;5;241m*\u001b[39mkwargs)\n",
      "File \u001b[1;32m~\\AppData\\Local\\Programs\\Python\\Python39\\lib\\site-packages\\matplotlib\\backend_bases.py:2204\u001b[0m, in \u001b[0;36mFigureCanvasBase.print_figure\u001b[1;34m(self, filename, dpi, facecolor, edgecolor, orientation, format, bbox_inches, pad_inches, bbox_extra_artists, backend, **kwargs)\u001b[0m\n\u001b[0;32m   2200\u001b[0m \u001b[38;5;28;01mtry\u001b[39;00m:\n\u001b[0;32m   2201\u001b[0m     \u001b[38;5;66;03m# _get_renderer may change the figure dpi (as vector formats\u001b[39;00m\n\u001b[0;32m   2202\u001b[0m     \u001b[38;5;66;03m# force the figure dpi to 72), so we need to set it again here.\u001b[39;00m\n\u001b[0;32m   2203\u001b[0m     \u001b[38;5;28;01mwith\u001b[39;00m cbook\u001b[38;5;241m.\u001b[39m_setattr_cm(\u001b[38;5;28mself\u001b[39m\u001b[38;5;241m.\u001b[39mfigure, dpi\u001b[38;5;241m=\u001b[39mdpi):\n\u001b[1;32m-> 2204\u001b[0m         result \u001b[38;5;241m=\u001b[39m print_method(\n\u001b[0;32m   2205\u001b[0m             filename,\n\u001b[0;32m   2206\u001b[0m             facecolor\u001b[38;5;241m=\u001b[39mfacecolor,\n\u001b[0;32m   2207\u001b[0m             edgecolor\u001b[38;5;241m=\u001b[39medgecolor,\n\u001b[0;32m   2208\u001b[0m             orientation\u001b[38;5;241m=\u001b[39morientation,\n\u001b[0;32m   2209\u001b[0m             bbox_inches_restore\u001b[38;5;241m=\u001b[39m_bbox_inches_restore,\n\u001b[0;32m   2210\u001b[0m             \u001b[38;5;241m*\u001b[39m\u001b[38;5;241m*\u001b[39mkwargs)\n\u001b[0;32m   2211\u001b[0m \u001b[38;5;28;01mfinally\u001b[39;00m:\n\u001b[0;32m   2212\u001b[0m     \u001b[38;5;28;01mif\u001b[39;00m bbox_inches \u001b[38;5;129;01mand\u001b[39;00m restore_bbox:\n",
      "File \u001b[1;32m~\\AppData\\Local\\Programs\\Python\\Python39\\lib\\site-packages\\matplotlib\\backend_bases.py:2054\u001b[0m, in \u001b[0;36mFigureCanvasBase._switch_canvas_and_return_print_method.<locals>.<lambda>\u001b[1;34m(*args, **kwargs)\u001b[0m\n\u001b[0;32m   2050\u001b[0m     optional_kws \u001b[38;5;241m=\u001b[39m {  \u001b[38;5;66;03m# Passed by print_figure for other renderers.\u001b[39;00m\n\u001b[0;32m   2051\u001b[0m         \u001b[38;5;124m\"\u001b[39m\u001b[38;5;124mdpi\u001b[39m\u001b[38;5;124m\"\u001b[39m, \u001b[38;5;124m\"\u001b[39m\u001b[38;5;124mfacecolor\u001b[39m\u001b[38;5;124m\"\u001b[39m, \u001b[38;5;124m\"\u001b[39m\u001b[38;5;124medgecolor\u001b[39m\u001b[38;5;124m\"\u001b[39m, \u001b[38;5;124m\"\u001b[39m\u001b[38;5;124morientation\u001b[39m\u001b[38;5;124m\"\u001b[39m,\n\u001b[0;32m   2052\u001b[0m         \u001b[38;5;124m\"\u001b[39m\u001b[38;5;124mbbox_inches_restore\u001b[39m\u001b[38;5;124m\"\u001b[39m}\n\u001b[0;32m   2053\u001b[0m     skip \u001b[38;5;241m=\u001b[39m optional_kws \u001b[38;5;241m-\u001b[39m {\u001b[38;5;241m*\u001b[39minspect\u001b[38;5;241m.\u001b[39msignature(meth)\u001b[38;5;241m.\u001b[39mparameters}\n\u001b[1;32m-> 2054\u001b[0m     print_method \u001b[38;5;241m=\u001b[39m functools\u001b[38;5;241m.\u001b[39mwraps(meth)(\u001b[38;5;28;01mlambda\u001b[39;00m \u001b[38;5;241m*\u001b[39margs, \u001b[38;5;241m*\u001b[39m\u001b[38;5;241m*\u001b[39mkwargs: meth(\n\u001b[0;32m   2055\u001b[0m         \u001b[38;5;241m*\u001b[39margs, \u001b[38;5;241m*\u001b[39m\u001b[38;5;241m*\u001b[39m{k: v \u001b[38;5;28;01mfor\u001b[39;00m k, v \u001b[38;5;129;01min\u001b[39;00m kwargs\u001b[38;5;241m.\u001b[39mitems() \u001b[38;5;28;01mif\u001b[39;00m k \u001b[38;5;129;01mnot\u001b[39;00m \u001b[38;5;129;01min\u001b[39;00m skip}))\n\u001b[0;32m   2056\u001b[0m \u001b[38;5;28;01melse\u001b[39;00m:  \u001b[38;5;66;03m# Let third-parties do as they see fit.\u001b[39;00m\n\u001b[0;32m   2057\u001b[0m     print_method \u001b[38;5;241m=\u001b[39m meth\n",
      "File \u001b[1;32m~\\AppData\\Local\\Programs\\Python\\Python39\\lib\\site-packages\\matplotlib\\backends\\backend_agg.py:496\u001b[0m, in \u001b[0;36mFigureCanvasAgg.print_png\u001b[1;34m(self, filename_or_obj, metadata, pil_kwargs)\u001b[0m\n\u001b[0;32m    449\u001b[0m \u001b[38;5;28;01mdef\u001b[39;00m\u001b[38;5;250m \u001b[39m\u001b[38;5;21mprint_png\u001b[39m(\u001b[38;5;28mself\u001b[39m, filename_or_obj, \u001b[38;5;241m*\u001b[39m, metadata\u001b[38;5;241m=\u001b[39m\u001b[38;5;28;01mNone\u001b[39;00m, pil_kwargs\u001b[38;5;241m=\u001b[39m\u001b[38;5;28;01mNone\u001b[39;00m):\n\u001b[0;32m    450\u001b[0m \u001b[38;5;250m    \u001b[39m\u001b[38;5;124;03m\"\"\"\u001b[39;00m\n\u001b[0;32m    451\u001b[0m \u001b[38;5;124;03m    Write the figure to a PNG file.\u001b[39;00m\n\u001b[0;32m    452\u001b[0m \n\u001b[1;32m   (...)\u001b[0m\n\u001b[0;32m    494\u001b[0m \u001b[38;5;124;03m        *metadata*, including the default 'Software' key.\u001b[39;00m\n\u001b[0;32m    495\u001b[0m \u001b[38;5;124;03m    \"\"\"\u001b[39;00m\n\u001b[1;32m--> 496\u001b[0m     \u001b[38;5;28;43mself\u001b[39;49m\u001b[38;5;241;43m.\u001b[39;49m\u001b[43m_print_pil\u001b[49m\u001b[43m(\u001b[49m\u001b[43mfilename_or_obj\u001b[49m\u001b[43m,\u001b[49m\u001b[43m \u001b[49m\u001b[38;5;124;43m\"\u001b[39;49m\u001b[38;5;124;43mpng\u001b[39;49m\u001b[38;5;124;43m\"\u001b[39;49m\u001b[43m,\u001b[49m\u001b[43m \u001b[49m\u001b[43mpil_kwargs\u001b[49m\u001b[43m,\u001b[49m\u001b[43m \u001b[49m\u001b[43mmetadata\u001b[49m\u001b[43m)\u001b[49m\n",
      "File \u001b[1;32m~\\AppData\\Local\\Programs\\Python\\Python39\\lib\\site-packages\\matplotlib\\backends\\backend_agg.py:445\u001b[0m, in \u001b[0;36mFigureCanvasAgg._print_pil\u001b[1;34m(self, filename_or_obj, fmt, pil_kwargs, metadata)\u001b[0m\n\u001b[0;32m    440\u001b[0m \u001b[38;5;250m\u001b[39m\u001b[38;5;124;03m\"\"\"\u001b[39;00m\n\u001b[0;32m    441\u001b[0m \u001b[38;5;124;03mDraw the canvas, then save it using `.image.imsave` (to which\u001b[39;00m\n\u001b[0;32m    442\u001b[0m \u001b[38;5;124;03m*pil_kwargs* and *metadata* are forwarded).\u001b[39;00m\n\u001b[0;32m    443\u001b[0m \u001b[38;5;124;03m\"\"\"\u001b[39;00m\n\u001b[0;32m    444\u001b[0m FigureCanvasAgg\u001b[38;5;241m.\u001b[39mdraw(\u001b[38;5;28mself\u001b[39m)\n\u001b[1;32m--> 445\u001b[0m \u001b[43mmpl\u001b[49m\u001b[38;5;241;43m.\u001b[39;49m\u001b[43mimage\u001b[49m\u001b[38;5;241;43m.\u001b[39;49m\u001b[43mimsave\u001b[49m\u001b[43m(\u001b[49m\n\u001b[0;32m    446\u001b[0m \u001b[43m    \u001b[49m\u001b[43mfilename_or_obj\u001b[49m\u001b[43m,\u001b[49m\u001b[43m \u001b[49m\u001b[38;5;28;43mself\u001b[39;49m\u001b[38;5;241;43m.\u001b[39;49m\u001b[43mbuffer_rgba\u001b[49m\u001b[43m(\u001b[49m\u001b[43m)\u001b[49m\u001b[43m,\u001b[49m\u001b[43m \u001b[49m\u001b[38;5;28;43mformat\u001b[39;49m\u001b[38;5;241;43m=\u001b[39;49m\u001b[43mfmt\u001b[49m\u001b[43m,\u001b[49m\u001b[43m \u001b[49m\u001b[43morigin\u001b[49m\u001b[38;5;241;43m=\u001b[39;49m\u001b[38;5;124;43m\"\u001b[39;49m\u001b[38;5;124;43mupper\u001b[39;49m\u001b[38;5;124;43m\"\u001b[39;49m\u001b[43m,\u001b[49m\n\u001b[0;32m    447\u001b[0m \u001b[43m    \u001b[49m\u001b[43mdpi\u001b[49m\u001b[38;5;241;43m=\u001b[39;49m\u001b[38;5;28;43mself\u001b[39;49m\u001b[38;5;241;43m.\u001b[39;49m\u001b[43mfigure\u001b[49m\u001b[38;5;241;43m.\u001b[39;49m\u001b[43mdpi\u001b[49m\u001b[43m,\u001b[49m\u001b[43m \u001b[49m\u001b[43mmetadata\u001b[49m\u001b[38;5;241;43m=\u001b[39;49m\u001b[43mmetadata\u001b[49m\u001b[43m,\u001b[49m\u001b[43m \u001b[49m\u001b[43mpil_kwargs\u001b[49m\u001b[38;5;241;43m=\u001b[39;49m\u001b[43mpil_kwargs\u001b[49m\u001b[43m)\u001b[49m\n",
      "File \u001b[1;32m~\\AppData\\Local\\Programs\\Python\\Python39\\lib\\site-packages\\matplotlib\\image.py:1676\u001b[0m, in \u001b[0;36mimsave\u001b[1;34m(fname, arr, vmin, vmax, cmap, format, origin, dpi, metadata, pil_kwargs)\u001b[0m\n\u001b[0;32m   1674\u001b[0m pil_kwargs\u001b[38;5;241m.\u001b[39msetdefault(\u001b[38;5;124m\"\u001b[39m\u001b[38;5;124mformat\u001b[39m\u001b[38;5;124m\"\u001b[39m, \u001b[38;5;28mformat\u001b[39m)\n\u001b[0;32m   1675\u001b[0m pil_kwargs\u001b[38;5;241m.\u001b[39msetdefault(\u001b[38;5;124m\"\u001b[39m\u001b[38;5;124mdpi\u001b[39m\u001b[38;5;124m\"\u001b[39m, (dpi, dpi))\n\u001b[1;32m-> 1676\u001b[0m image\u001b[38;5;241m.\u001b[39msave(fname, \u001b[38;5;241m*\u001b[39m\u001b[38;5;241m*\u001b[39mpil_kwargs)\n",
      "File \u001b[1;32m~\\AppData\\Local\\Programs\\Python\\Python39\\lib\\site-packages\\PIL\\Image.py:2436\u001b[0m, in \u001b[0;36mImage.save\u001b[1;34m(self, fp, format, **params)\u001b[0m\n\u001b[0;32m   2434\u001b[0m         fp \u001b[38;5;241m=\u001b[39m builtins\u001b[38;5;241m.\u001b[39mopen(filename, \u001b[38;5;124m\"\u001b[39m\u001b[38;5;124mr+b\u001b[39m\u001b[38;5;124m\"\u001b[39m)\n\u001b[0;32m   2435\u001b[0m     \u001b[38;5;28;01melse\u001b[39;00m:\n\u001b[1;32m-> 2436\u001b[0m         fp \u001b[38;5;241m=\u001b[39m \u001b[43mbuiltins\u001b[49m\u001b[38;5;241;43m.\u001b[39;49m\u001b[43mopen\u001b[49m\u001b[43m(\u001b[49m\u001b[43mfilename\u001b[49m\u001b[43m,\u001b[49m\u001b[43m \u001b[49m\u001b[38;5;124;43m\"\u001b[39;49m\u001b[38;5;124;43mw+b\u001b[39;49m\u001b[38;5;124;43m\"\u001b[39;49m\u001b[43m)\u001b[49m\n\u001b[0;32m   2438\u001b[0m \u001b[38;5;28;01mtry\u001b[39;00m:\n\u001b[0;32m   2439\u001b[0m     save_handler(\u001b[38;5;28mself\u001b[39m, fp, filename)\n",
      "\u001b[1;31mFileNotFoundError\u001b[0m: [Errno 2] No such file or directory: 'output/fedvg.png'"
     ]
    },
    {
     "data": {
      "image/png": "[encoded data removed]",
      "text/plain": [
       "<Figure size 650x420 with 1 Axes>"
      ]
     },
     "metadata": {},
     "output_type": "display_data"
    }
   ],
   "source": [
    "                                                        # VISUALIZE\n",
    "# NOTE: Class indexes now start from 1 so, previous class 0 = now class 1 and so on\n",
    "# FIG 1: Raw similarity plot\n",
    "\n",
    "import pandas as pd\n",
    "import numpy as np\n",
    "import matplotlib.pyplot as plt\n",
    "import seaborn as sns\n",
    "\n",
    "# Generate sample similarity data for four classes (each with 20 values in the range 0 to 1)\n",
    "class1_sim = class0_sims\n",
    "class2_sim = class1_sims\n",
    "class3_sim = class2_sims\n",
    "class4_sim = class3_sims\n",
    "\n",
    "# Set figure size\n",
    "plt.figure(figsize=(6.5, 4.2))  # Set the size of the figure (width, height)\n",
    "\n",
    "# Sample DataFrame with four columns\n",
    "data=pd.DataFrame({'Class 1':class1_sim,'Class 2':class2_sim,'Class 3':class3_sim,'Class 4':class4_sim})\n",
    "df = pd.DataFrame(data)\n",
    "\n",
    "# Plot the probability distributions\n",
    "#plt.figure(figsize=(10, 6))\n",
    "\n",
    "# Define colors and line styles for each column\n",
    "colors = ['#1f77b4', '#ff7f0e', '#2ca02c', '#d62728']\n",
    "linestyles = ['-.', '--', '-', '-']\n",
    "\n",
    "# Plot the probability distributions with unique colors and line styles\n",
    "for column, color, linestyle in zip(df.columns, colors, linestyles):\n",
    "    sns.kdeplot(df[column], label=column, color=color, linestyle=linestyle)\n",
    "\n",
    "#plt.title('Probability Distributions of Four Columns')\n",
    "plt.xlabel('Similarity',fontsize=12)\n",
    "plt.ylabel('Density',fontsize=12)\n",
    "plt.yticks(fontsize=12)  # Set y-tick labels font size\n",
    "plt.legend(loc='upper right',fontsize=12)  # Increase legend font size\n",
    "\n",
    "# Optimize layout\n",
    "plt.tight_layout()\n",
    "# Save the plot to a file\n",
    "plt.savefig('output/fedvg.png', dpi=300, bbox_inches='tight')  # Save as a PNG file with high resolution\n",
    "\n",
    "# Show the plot\n",
    "plt.show()\n"
   ]
  },
  {
   "cell_type": "code",
   "execution_count": 65,
   "id": "c71af78e-28e9-4564-9609-3039455bb875",
   "metadata": {},
   "outputs": [
    {
     "data": {
      "image/png": "[encoded data removed]",
      "text/plain": [
       "<Figure size 750x500 with 1 Axes>"
      ]
     },
     "metadata": {},
     "output_type": "display_data"
    }
   ],
   "source": [
    "# FIG 2: DIFFERENCES IN COSINE SIMILARITY\n",
    "\n",
    "# For each class, we have 20 similarity values — one per image — showing how similar fake and real versions are.These values are very close across classes\n",
    "# So, to highlight subtle differences, compute and plot the difference between each pair of classes, value by value.\n",
    "# This gives you 20 values showing how much the similarity differs for each image between class 0 and class 1.\n",
    "# It's a magnified view of the gap between classes.\n",
    "# If the differences are tiny (e.g., 0.003), the plot helps make that visible and comparable.\n",
    "\n",
    "import numpy as np\n",
    "import matplotlib.pyplot as plt\n",
    "import seaborn as sns\n",
    "import pandas as pd\n",
    "\n",
    "# Differences between class distributions (pairwise)\n",
    "diff_12 = np.array(class2_sim) - np.array(class1_sim)\n",
    "diff_13 = np.array(class3_sim) - np.array(class1_sim)\n",
    "diff_14 = np.array(class4_sim) - np.array(class1_sim)\n",
    "diff_23 = np.array(class3_sim) - np.array(class2_sim)\n",
    "diff_24 = np.array(class4_sim) - np.array(class2_sim)\n",
    "diff_34 = np.array(class4_sim) - np.array(class3_sim)\n",
    "\n",
    "# Create a DataFrame\n",
    "diff_df = pd.DataFrame({\n",
    "    'Class 2 - Class 1': diff_12,\n",
    "    'Class 3 - Class 1': diff_13,\n",
    "    'Class 4 - Class 1': diff_14,\n",
    "    'Class 3 - Class 2': diff_23,\n",
    "    'Class 4 - Class 2': diff_24,\n",
    "    'Class 4 - Class 3': diff_34,\n",
    "})\n",
    "\n",
    "# Plot\n",
    "plt.figure(figsize=(7.5, 5))\n",
    "\n",
    "colors = sns.color_palette(\"tab10\", n_colors=6)\n",
    "\n",
    "for column, color in zip(diff_df.columns, colors):\n",
    "    sns.kdeplot(diff_df[column], label=column, color=color, linestyle='-')\n",
    "\n",
    "plt.axvline(0, color='black', linestyle='--', linewidth=1)  # reference line at 0\n",
    "plt.xlabel('Difference in Similarity', fontsize=12)\n",
    "plt.ylabel('Density', fontsize=12)\n",
    "plt.legend(fontsize=10)\n",
    "plt.title(\"Pairwise Differences in Cosine Similarity\", fontsize=13)\n",
    "plt.tight_layout()\n",
    "plt.show()"
   ]
  },
  {
   "cell_type": "code",
   "execution_count": 66,
   "id": "362bf182-7927-4ce2-bf5a-97299d426bc4",
   "metadata": {},
   "outputs": [],
   "source": [
    "def calculate_interclass_similarity(first, second):\n",
    "    similarities = []\n",
    "\n",
    "    first_images = []\n",
    "    second_images = []\n",
    "    if first == 'class1':\n",
    "        first_images = class0_original_images.copy()\n",
    "    elif first == 'class2':\n",
    "        first_images = class1_original_images.copy()\n",
    "    elif first == 'class3':\n",
    "        first_images = class2_original_images.copy()\n",
    "    elif first == 'class4':\n",
    "        first_images = class3_original_images.copy()\n",
    "\n",
    "    if second == 'class1':\n",
    "        second_images = class0_original_images.copy()\n",
    "    elif second == 'class2':\n",
    "        second_images = class1_original_images.copy()\n",
    "    elif second == 'class3':\n",
    "        second_images = class2_original_images.copy()\n",
    "    elif second == 'class4':\n",
    "        second_images = class3_original_images.copy()\n",
    "    \n",
    "    for i in range(0, 20):\n",
    "        first_image = first_images[i].unsqueeze(dim=0).to(device)\n",
    "        first_image = first_image.repeat(1, 3, 1, 1)\n",
    "        \n",
    "        second_image = second_images[i].unsqueeze(dim=0).to(device)\n",
    "        second_image = second_image.repeat(1, 3, 1, 1)\n",
    "        \n",
    "        features_first = get_feature(first_image)\n",
    "        features_second = get_feature(second_image)\n",
    "\n",
    "        cosine_similarity = 1 - cosine(features_first, features_second)\n",
    "        similarities.append(cosine_similarity)\n",
    "\n",
    "    return similarities"
   ]
  },
  {
   "cell_type": "code",
   "execution_count": 67,
   "id": "5954dfe3-cb08-4551-a5f9-d2082ac3d604",
   "metadata": {},
   "outputs": [],
   "source": [
    "class1class2 = calculate_interclass_similarity('class1', 'class2')"
   ]
  },
  {
   "cell_type": "code",
   "execution_count": 68,
   "id": "cd5ab50d-9d9d-443b-bea5-2d6e302e2bf4",
   "metadata": {},
   "outputs": [
    {
     "data": {
      "text/plain": [
       "[np.float32(0.92668736),\n",
       " np.float32(0.9234537),\n",
       " np.float32(0.8914366),\n",
       " np.float32(0.85996324),\n",
       " np.float32(0.9045878),\n",
       " np.float32(0.8661933),\n",
       " np.float32(0.8529511),\n",
       " np.float32(0.8320824),\n",
       " np.float32(0.81313324),\n",
       " np.float32(0.9028811),\n",
       " np.float32(0.9157124),\n",
       " np.float32(0.83247995),\n",
       " np.float32(0.9164997),\n",
       " np.float32(0.84919524),\n",
       " np.float32(0.90398437),\n",
       " np.float32(0.8242637),\n",
       " np.float32(0.78115076),\n",
       " np.float32(0.80533254),\n",
       " np.float32(0.92938054),\n",
       " np.float32(0.89034694)]"
      ]
     },
     "execution_count": 68,
     "metadata": {},
     "output_type": "execute_result"
    }
   ],
   "source": [
    "class1class2"
   ]
  },
  {
   "cell_type": "code",
   "execution_count": 69,
   "id": "29441f40-36a7-4854-98be-5d128bae49cd",
   "metadata": {},
   "outputs": [
    {
     "ename": "FileNotFoundError",
     "evalue": "[Errno 2] No such file or directory: 'output/VoiceDivergenceD3.png'",
     "output_type": "error",
     "traceback": [
      "\u001b[1;31m---------------------------------------------------------------------------\u001b[0m",
      "\u001b[1;31mFileNotFoundError\u001b[0m                         Traceback (most recent call last)",
      "Cell \u001b[1;32mIn[69], line 44\u001b[0m\n\u001b[0;32m     42\u001b[0m plt\u001b[38;5;241m.\u001b[39mtight_layout()\n\u001b[0;32m     43\u001b[0m \u001b[38;5;66;03m# Save the plot to a file\u001b[39;00m\n\u001b[1;32m---> 44\u001b[0m \u001b[43mplt\u001b[49m\u001b[38;5;241;43m.\u001b[39;49m\u001b[43msavefig\u001b[49m\u001b[43m(\u001b[49m\u001b[38;5;124;43m'\u001b[39;49m\u001b[38;5;124;43moutput/VoiceDivergenceD3.png\u001b[39;49m\u001b[38;5;124;43m'\u001b[39;49m\u001b[43m,\u001b[49m\u001b[43m \u001b[49m\u001b[43mdpi\u001b[49m\u001b[38;5;241;43m=\u001b[39;49m\u001b[38;5;241;43m300\u001b[39;49m\u001b[43m,\u001b[49m\u001b[43m \u001b[49m\u001b[43mbbox_inches\u001b[49m\u001b[38;5;241;43m=\u001b[39;49m\u001b[38;5;124;43m'\u001b[39;49m\u001b[38;5;124;43mtight\u001b[39;49m\u001b[38;5;124;43m'\u001b[39;49m\u001b[43m)\u001b[49m  \u001b[38;5;66;03m# Save as a PNG file with high resolution\u001b[39;00m\n\u001b[0;32m     46\u001b[0m \u001b[38;5;66;03m# Show the plot\u001b[39;00m\n\u001b[0;32m     47\u001b[0m plt\u001b[38;5;241m.\u001b[39mshow()\n",
      "File \u001b[1;32m~\\AppData\\Local\\Programs\\Python\\Python39\\lib\\site-packages\\matplotlib\\pyplot.py:1228\u001b[0m, in \u001b[0;36msavefig\u001b[1;34m(*args, **kwargs)\u001b[0m\n\u001b[0;32m   1225\u001b[0m fig \u001b[38;5;241m=\u001b[39m gcf()\n\u001b[0;32m   1226\u001b[0m \u001b[38;5;66;03m# savefig default implementation has no return, so mypy is unhappy\u001b[39;00m\n\u001b[0;32m   1227\u001b[0m \u001b[38;5;66;03m# presumably this is here because subclasses can return?\u001b[39;00m\n\u001b[1;32m-> 1228\u001b[0m res \u001b[38;5;241m=\u001b[39m fig\u001b[38;5;241m.\u001b[39msavefig(\u001b[38;5;241m*\u001b[39margs, \u001b[38;5;241m*\u001b[39m\u001b[38;5;241m*\u001b[39mkwargs)  \u001b[38;5;66;03m# type: ignore[func-returns-value]\u001b[39;00m\n\u001b[0;32m   1229\u001b[0m fig\u001b[38;5;241m.\u001b[39mcanvas\u001b[38;5;241m.\u001b[39mdraw_idle()  \u001b[38;5;66;03m# Need this if 'transparent=True', to reset colors.\u001b[39;00m\n\u001b[0;32m   1230\u001b[0m \u001b[38;5;28;01mreturn\u001b[39;00m res\n",
      "File \u001b[1;32m~\\AppData\\Local\\Programs\\Python\\Python39\\lib\\site-packages\\matplotlib\\figure.py:3395\u001b[0m, in \u001b[0;36mFigure.savefig\u001b[1;34m(self, fname, transparent, **kwargs)\u001b[0m\n\u001b[0;32m   3393\u001b[0m     \u001b[38;5;28;01mfor\u001b[39;00m ax \u001b[38;5;129;01min\u001b[39;00m \u001b[38;5;28mself\u001b[39m\u001b[38;5;241m.\u001b[39maxes:\n\u001b[0;32m   3394\u001b[0m         _recursively_make_axes_transparent(stack, ax)\n\u001b[1;32m-> 3395\u001b[0m \u001b[38;5;28mself\u001b[39m\u001b[38;5;241m.\u001b[39mcanvas\u001b[38;5;241m.\u001b[39mprint_figure(fname, \u001b[38;5;241m*\u001b[39m\u001b[38;5;241m*\u001b[39mkwargs)\n",
      "File \u001b[1;32m~\\AppData\\Local\\Programs\\Python\\Python39\\lib\\site-packages\\matplotlib\\backend_bases.py:2204\u001b[0m, in \u001b[0;36mFigureCanvasBase.print_figure\u001b[1;34m(self, filename, dpi, facecolor, edgecolor, orientation, format, bbox_inches, pad_inches, bbox_extra_artists, backend, **kwargs)\u001b[0m\n\u001b[0;32m   2200\u001b[0m \u001b[38;5;28;01mtry\u001b[39;00m:\n\u001b[0;32m   2201\u001b[0m     \u001b[38;5;66;03m# _get_renderer may change the figure dpi (as vector formats\u001b[39;00m\n\u001b[0;32m   2202\u001b[0m     \u001b[38;5;66;03m# force the figure dpi to 72), so we need to set it again here.\u001b[39;00m\n\u001b[0;32m   2203\u001b[0m     \u001b[38;5;28;01mwith\u001b[39;00m cbook\u001b[38;5;241m.\u001b[39m_setattr_cm(\u001b[38;5;28mself\u001b[39m\u001b[38;5;241m.\u001b[39mfigure, dpi\u001b[38;5;241m=\u001b[39mdpi):\n\u001b[1;32m-> 2204\u001b[0m         result \u001b[38;5;241m=\u001b[39m print_method(\n\u001b[0;32m   2205\u001b[0m             filename,\n\u001b[0;32m   2206\u001b[0m             facecolor\u001b[38;5;241m=\u001b[39mfacecolor,\n\u001b[0;32m   2207\u001b[0m             edgecolor\u001b[38;5;241m=\u001b[39medgecolor,\n\u001b[0;32m   2208\u001b[0m             orientation\u001b[38;5;241m=\u001b[39morientation,\n\u001b[0;32m   2209\u001b[0m             bbox_inches_restore\u001b[38;5;241m=\u001b[39m_bbox_inches_restore,\n\u001b[0;32m   2210\u001b[0m             \u001b[38;5;241m*\u001b[39m\u001b[38;5;241m*\u001b[39mkwargs)\n\u001b[0;32m   2211\u001b[0m \u001b[38;5;28;01mfinally\u001b[39;00m:\n\u001b[0;32m   2212\u001b[0m     \u001b[38;5;28;01mif\u001b[39;00m bbox_inches \u001b[38;5;129;01mand\u001b[39;00m restore_bbox:\n",
      "File \u001b[1;32m~\\AppData\\Local\\Programs\\Python\\Python39\\lib\\site-packages\\matplotlib\\backend_bases.py:2054\u001b[0m, in \u001b[0;36mFigureCanvasBase._switch_canvas_and_return_print_method.<locals>.<lambda>\u001b[1;34m(*args, **kwargs)\u001b[0m\n\u001b[0;32m   2050\u001b[0m     optional_kws \u001b[38;5;241m=\u001b[39m {  \u001b[38;5;66;03m# Passed by print_figure for other renderers.\u001b[39;00m\n\u001b[0;32m   2051\u001b[0m         \u001b[38;5;124m\"\u001b[39m\u001b[38;5;124mdpi\u001b[39m\u001b[38;5;124m\"\u001b[39m, \u001b[38;5;124m\"\u001b[39m\u001b[38;5;124mfacecolor\u001b[39m\u001b[38;5;124m\"\u001b[39m, \u001b[38;5;124m\"\u001b[39m\u001b[38;5;124medgecolor\u001b[39m\u001b[38;5;124m\"\u001b[39m, \u001b[38;5;124m\"\u001b[39m\u001b[38;5;124morientation\u001b[39m\u001b[38;5;124m\"\u001b[39m,\n\u001b[0;32m   2052\u001b[0m         \u001b[38;5;124m\"\u001b[39m\u001b[38;5;124mbbox_inches_restore\u001b[39m\u001b[38;5;124m\"\u001b[39m}\n\u001b[0;32m   2053\u001b[0m     skip \u001b[38;5;241m=\u001b[39m optional_kws \u001b[38;5;241m-\u001b[39m {\u001b[38;5;241m*\u001b[39minspect\u001b[38;5;241m.\u001b[39msignature(meth)\u001b[38;5;241m.\u001b[39mparameters}\n\u001b[1;32m-> 2054\u001b[0m     print_method \u001b[38;5;241m=\u001b[39m functools\u001b[38;5;241m.\u001b[39mwraps(meth)(\u001b[38;5;28;01mlambda\u001b[39;00m \u001b[38;5;241m*\u001b[39margs, \u001b[38;5;241m*\u001b[39m\u001b[38;5;241m*\u001b[39mkwargs: meth(\n\u001b[0;32m   2055\u001b[0m         \u001b[38;5;241m*\u001b[39margs, \u001b[38;5;241m*\u001b[39m\u001b[38;5;241m*\u001b[39m{k: v \u001b[38;5;28;01mfor\u001b[39;00m k, v \u001b[38;5;129;01min\u001b[39;00m kwargs\u001b[38;5;241m.\u001b[39mitems() \u001b[38;5;28;01mif\u001b[39;00m k \u001b[38;5;129;01mnot\u001b[39;00m \u001b[38;5;129;01min\u001b[39;00m skip}))\n\u001b[0;32m   2056\u001b[0m \u001b[38;5;28;01melse\u001b[39;00m:  \u001b[38;5;66;03m# Let third-parties do as they see fit.\u001b[39;00m\n\u001b[0;32m   2057\u001b[0m     print_method \u001b[38;5;241m=\u001b[39m meth\n",
      "File \u001b[1;32m~\\AppData\\Local\\Programs\\Python\\Python39\\lib\\site-packages\\matplotlib\\backends\\backend_agg.py:496\u001b[0m, in \u001b[0;36mFigureCanvasAgg.print_png\u001b[1;34m(self, filename_or_obj, metadata, pil_kwargs)\u001b[0m\n\u001b[0;32m    449\u001b[0m \u001b[38;5;28;01mdef\u001b[39;00m\u001b[38;5;250m \u001b[39m\u001b[38;5;21mprint_png\u001b[39m(\u001b[38;5;28mself\u001b[39m, filename_or_obj, \u001b[38;5;241m*\u001b[39m, metadata\u001b[38;5;241m=\u001b[39m\u001b[38;5;28;01mNone\u001b[39;00m, pil_kwargs\u001b[38;5;241m=\u001b[39m\u001b[38;5;28;01mNone\u001b[39;00m):\n\u001b[0;32m    450\u001b[0m \u001b[38;5;250m    \u001b[39m\u001b[38;5;124;03m\"\"\"\u001b[39;00m\n\u001b[0;32m    451\u001b[0m \u001b[38;5;124;03m    Write the figure to a PNG file.\u001b[39;00m\n\u001b[0;32m    452\u001b[0m \n\u001b[1;32m   (...)\u001b[0m\n\u001b[0;32m    494\u001b[0m \u001b[38;5;124;03m        *metadata*, including the default 'Software' key.\u001b[39;00m\n\u001b[0;32m    495\u001b[0m \u001b[38;5;124;03m    \"\"\"\u001b[39;00m\n\u001b[1;32m--> 496\u001b[0m     \u001b[38;5;28;43mself\u001b[39;49m\u001b[38;5;241;43m.\u001b[39;49m\u001b[43m_print_pil\u001b[49m\u001b[43m(\u001b[49m\u001b[43mfilename_or_obj\u001b[49m\u001b[43m,\u001b[49m\u001b[43m \u001b[49m\u001b[38;5;124;43m\"\u001b[39;49m\u001b[38;5;124;43mpng\u001b[39;49m\u001b[38;5;124;43m\"\u001b[39;49m\u001b[43m,\u001b[49m\u001b[43m \u001b[49m\u001b[43mpil_kwargs\u001b[49m\u001b[43m,\u001b[49m\u001b[43m \u001b[49m\u001b[43mmetadata\u001b[49m\u001b[43m)\u001b[49m\n",
      "File \u001b[1;32m~\\AppData\\Local\\Programs\\Python\\Python39\\lib\\site-packages\\matplotlib\\backends\\backend_agg.py:445\u001b[0m, in \u001b[0;36mFigureCanvasAgg._print_pil\u001b[1;34m(self, filename_or_obj, fmt, pil_kwargs, metadata)\u001b[0m\n\u001b[0;32m    440\u001b[0m \u001b[38;5;250m\u001b[39m\u001b[38;5;124;03m\"\"\"\u001b[39;00m\n\u001b[0;32m    441\u001b[0m \u001b[38;5;124;03mDraw the canvas, then save it using `.image.imsave` (to which\u001b[39;00m\n\u001b[0;32m    442\u001b[0m \u001b[38;5;124;03m*pil_kwargs* and *metadata* are forwarded).\u001b[39;00m\n\u001b[0;32m    443\u001b[0m \u001b[38;5;124;03m\"\"\"\u001b[39;00m\n\u001b[0;32m    444\u001b[0m FigureCanvasAgg\u001b[38;5;241m.\u001b[39mdraw(\u001b[38;5;28mself\u001b[39m)\n\u001b[1;32m--> 445\u001b[0m \u001b[43mmpl\u001b[49m\u001b[38;5;241;43m.\u001b[39;49m\u001b[43mimage\u001b[49m\u001b[38;5;241;43m.\u001b[39;49m\u001b[43mimsave\u001b[49m\u001b[43m(\u001b[49m\n\u001b[0;32m    446\u001b[0m \u001b[43m    \u001b[49m\u001b[43mfilename_or_obj\u001b[49m\u001b[43m,\u001b[49m\u001b[43m \u001b[49m\u001b[38;5;28;43mself\u001b[39;49m\u001b[38;5;241;43m.\u001b[39;49m\u001b[43mbuffer_rgba\u001b[49m\u001b[43m(\u001b[49m\u001b[43m)\u001b[49m\u001b[43m,\u001b[49m\u001b[43m \u001b[49m\u001b[38;5;28;43mformat\u001b[39;49m\u001b[38;5;241;43m=\u001b[39;49m\u001b[43mfmt\u001b[49m\u001b[43m,\u001b[49m\u001b[43m \u001b[49m\u001b[43morigin\u001b[49m\u001b[38;5;241;43m=\u001b[39;49m\u001b[38;5;124;43m\"\u001b[39;49m\u001b[38;5;124;43mupper\u001b[39;49m\u001b[38;5;124;43m\"\u001b[39;49m\u001b[43m,\u001b[49m\n\u001b[0;32m    447\u001b[0m \u001b[43m    \u001b[49m\u001b[43mdpi\u001b[49m\u001b[38;5;241;43m=\u001b[39;49m\u001b[38;5;28;43mself\u001b[39;49m\u001b[38;5;241;43m.\u001b[39;49m\u001b[43mfigure\u001b[49m\u001b[38;5;241;43m.\u001b[39;49m\u001b[43mdpi\u001b[49m\u001b[43m,\u001b[49m\u001b[43m \u001b[49m\u001b[43mmetadata\u001b[49m\u001b[38;5;241;43m=\u001b[39;49m\u001b[43mmetadata\u001b[49m\u001b[43m,\u001b[49m\u001b[43m \u001b[49m\u001b[43mpil_kwargs\u001b[49m\u001b[38;5;241;43m=\u001b[39;49m\u001b[43mpil_kwargs\u001b[49m\u001b[43m)\u001b[49m\n",
      "File \u001b[1;32m~\\AppData\\Local\\Programs\\Python\\Python39\\lib\\site-packages\\matplotlib\\image.py:1676\u001b[0m, in \u001b[0;36mimsave\u001b[1;34m(fname, arr, vmin, vmax, cmap, format, origin, dpi, metadata, pil_kwargs)\u001b[0m\n\u001b[0;32m   1674\u001b[0m pil_kwargs\u001b[38;5;241m.\u001b[39msetdefault(\u001b[38;5;124m\"\u001b[39m\u001b[38;5;124mformat\u001b[39m\u001b[38;5;124m\"\u001b[39m, \u001b[38;5;28mformat\u001b[39m)\n\u001b[0;32m   1675\u001b[0m pil_kwargs\u001b[38;5;241m.\u001b[39msetdefault(\u001b[38;5;124m\"\u001b[39m\u001b[38;5;124mdpi\u001b[39m\u001b[38;5;124m\"\u001b[39m, (dpi, dpi))\n\u001b[1;32m-> 1676\u001b[0m image\u001b[38;5;241m.\u001b[39msave(fname, \u001b[38;5;241m*\u001b[39m\u001b[38;5;241m*\u001b[39mpil_kwargs)\n",
      "File \u001b[1;32m~\\AppData\\Local\\Programs\\Python\\Python39\\lib\\site-packages\\PIL\\Image.py:2436\u001b[0m, in \u001b[0;36mImage.save\u001b[1;34m(self, fp, format, **params)\u001b[0m\n\u001b[0;32m   2434\u001b[0m         fp \u001b[38;5;241m=\u001b[39m builtins\u001b[38;5;241m.\u001b[39mopen(filename, \u001b[38;5;124m\"\u001b[39m\u001b[38;5;124mr+b\u001b[39m\u001b[38;5;124m\"\u001b[39m)\n\u001b[0;32m   2435\u001b[0m     \u001b[38;5;28;01melse\u001b[39;00m:\n\u001b[1;32m-> 2436\u001b[0m         fp \u001b[38;5;241m=\u001b[39m \u001b[43mbuiltins\u001b[49m\u001b[38;5;241;43m.\u001b[39;49m\u001b[43mopen\u001b[49m\u001b[43m(\u001b[49m\u001b[43mfilename\u001b[49m\u001b[43m,\u001b[49m\u001b[43m \u001b[49m\u001b[38;5;124;43m\"\u001b[39;49m\u001b[38;5;124;43mw+b\u001b[39;49m\u001b[38;5;124;43m\"\u001b[39;49m\u001b[43m)\u001b[49m\n\u001b[0;32m   2438\u001b[0m \u001b[38;5;28;01mtry\u001b[39;00m:\n\u001b[0;32m   2439\u001b[0m     save_handler(\u001b[38;5;28mself\u001b[39m, fp, filename)\n",
      "\u001b[1;31mFileNotFoundError\u001b[0m: [Errno 2] No such file or directory: 'output/VoiceDivergenceD3.png'"
     ]
    },
    {
     "data": {
      "image/png": "[encoded data removed]",
      "text/plain": [
       "<Figure size 650x420 with 1 Axes>"
      ]
     },
     "metadata": {},
     "output_type": "display_data"
    }
   ],
   "source": [
    "                                                # FIG: 3 -> INTERCLASS SIMILARITIES\n",
    "\n",
    "import pandas as pd\n",
    "import numpy as np\n",
    "import matplotlib.pyplot as plt\n",
    "import seaborn as sns\n",
    "\n",
    "# Set figure size\n",
    "plt.figure(figsize=(6.5, 4.2))  # Set the size of the figure (width, height)\n",
    "\n",
    "# Generate sample similarity data for four classes (each with 20 values in the range 0 to 1)\n",
    "np.random.seed(42)  # For reproducibility\n",
    "class1class2 = calculate_interclass_similarity('class1', 'class2')\n",
    "class1class3 = calculate_interclass_similarity('class1', 'class3')\n",
    "class1class4 = calculate_interclass_similarity('class1', 'class4')\n",
    "class2class3 = calculate_interclass_similarity('class2', 'class3')\n",
    "class2class4 = calculate_interclass_similarity('class2', 'class4')\n",
    "class3class4 = calculate_interclass_similarity('class3', 'class4')\n",
    "\n",
    "# Sample DataFrame with four columns\n",
    "data=pd.DataFrame({'Class1 vs Class2':class1class2,'Class1 vs Class3':class1class3,'Class1 vs Class4':class1class4,'Class2 vs Class3':class2class3,'Class2 vs Class4':class2class4,'Class3 vs Class4':class3class4})\n",
    "df = pd.DataFrame(data)\n",
    "\n",
    "# Plot the probability distributions\n",
    "#plt.figure(figsize=(10, 6))\n",
    "\n",
    "# Define colors and line styles for each column\n",
    "colors = ['#1f77b4', '#ff7f0e', '#2ca02c', '#d62728', '#9467bd', '#8c564b']\n",
    "linestyles = ['-.', '--', '-', '-', '-.', '--']\n",
    "\n",
    "# Plot the probability distributions with unique colors and line styles\n",
    "for column, color, linestyle in zip(df.columns, colors, linestyles):\n",
    "    sns.kdeplot(df[column], label=column, color=color, linestyle=linestyle)\n",
    "\n",
    "#plt.title('Probability Distributions of Four Columns')\n",
    "plt.xlabel('Similarity',fontsize=12)\n",
    "plt.ylabel('Density',fontsize=12)\n",
    "plt.yticks(fontsize=12)  # Set y-tick labels font size\n",
    "plt.legend(loc='upper right',fontsize=12)  # Increase legend font size\n",
    "\n",
    "# Optimize layout\n",
    "plt.tight_layout()\n",
    "# Save the plot to a file\n",
    "plt.savefig('output/VoiceDivergenceD3.png', dpi=300, bbox_inches='tight')  # Save as a PNG file with high resolution\n",
    "\n",
    "# Show the plot\n",
    "plt.show()"
   ]
  },
  {
   "cell_type": "code",
   "execution_count": null,
   "id": "19754eee-5c1e-47e6-bbaa-b2cef05a1641",
   "metadata": {},
   "outputs": [],
   "source": []
  },
  {
   "cell_type": "code",
   "execution_count": null,
   "id": "918e9d1f-b03d-4d8b-a55c-7e3a8369b0dc",
   "metadata": {},
   "outputs": [],
   "source": []
  }
 ],
 "metadata": {
  "kernelspec": {
   "display_name": "Python 3 (ipykernel)",
   "language": "python",
   "name": "python3"
  },
  "language_info": {
   "codemirror_mode": {
    "name": "ipython",
    "version": 3
   },
   "file_extension": ".py",
   "mimetype": "text/x-python",
   "name": "python",
   "nbconvert_exporter": "python",
   "pygments_lexer": "ipython3",
   "version": "3.9.7"
  }
 },
 "nbformat": 4,
 "nbformat_minor": 5
}
