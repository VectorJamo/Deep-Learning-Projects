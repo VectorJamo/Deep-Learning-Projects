{
 "cells": [
  {
   "cell_type": "code",
   "execution_count": 1,
   "id": "646b38c2-386a-4f83-a983-ea764ad8267f",
   "metadata": {},
   "outputs": [],
   "source": [
    "# Attempting to recover training data using model's parameters and a DCGAN that was trained on similar data\n",
    "# Author: Suraj Neupane\n",
    "# Written from scratch as a part of a Research Project 2025, Concordia University of Edmonton.\n",
    "import numpy as np\n",
    "\n",
    "import torch\n",
    "from torch import nn\n",
    "from torch.nn import functional\n",
    "\n",
    "from torch.utils import data\n",
    "from torch.utils.data import DataLoader\n",
    "\n",
    "import torchvision\n",
    "from torchvision import datasets\n",
    "from torchvision import transforms\n",
    "\n",
    "import pickle\n",
    "\n",
    "import matplotlib.pyplot as plt\n",
    "%matplotlib inline"
   ]
  },
  {
   "cell_type": "code",
   "execution_count": 2,
   "id": "8b80ddb2-ed75-4870-85b4-9300fce0df7e",
   "metadata": {},
   "outputs": [
    {
     "data": {
      "text/plain": [
       "'2.5.1+cu118'"
      ]
     },
     "execution_count": 2,
     "metadata": {},
     "output_type": "execute_result"
    }
   ],
   "source": [
    "torch.__version__"
   ]
  },
  {
   "cell_type": "code",
   "execution_count": 3,
   "id": "d6950585-eb31-4f61-bd60-5bf8716fcdef",
   "metadata": {},
   "outputs": [],
   "source": [
    "device = 'cuda' if torch.cuda.is_available() else 'cpu'"
   ]
  },
  {
   "cell_type": "code",
   "execution_count": 4,
   "id": "36c47e07-6b7d-4123-a59d-5d465f9ef280",
   "metadata": {},
   "outputs": [
    {
     "data": {
      "text/plain": [
       "'cuda'"
      ]
     },
     "execution_count": 4,
     "metadata": {},
     "output_type": "execute_result"
    }
   ],
   "source": [
    "device"
   ]
  },
  {
   "cell_type": "code",
   "execution_count": 5,
   "id": "b852ca55-f33e-469f-b7b9-e00d21124927",
   "metadata": {},
   "outputs": [],
   "source": [
    "# DCGAN Implementation Class\n",
    "# Discriminator\n",
    "class Discriminator(nn.Module):\n",
    "    def __init__(self, img_channels, features_d):\n",
    "        super().__init__()\n",
    "        self.disc = nn.Sequential(\n",
    "            # Input shape: img_channels x 64 x 64\n",
    "            nn.Conv2d(\n",
    "              in_channels=img_channels, out_channels=features_d, kernel_size=4, stride=2, padding=1\n",
    "            ), # Output shape: features_d x 32 x 32\n",
    "            nn.LeakyReLU(0.2),\n",
    "            self._block(features_d, features_d*2, 4, 2, 1), # Output shape: features_d*2 x 16 x 16\n",
    "            self._block(features_d*2, features_d*4, 4, 2, 1), # Output shape: features_d*4 x 8 x 8\n",
    "            self._block(features_d*4, features_d*8, 4, 2, 1), # Output shape: features_d*8 x 4 x 4\n",
    "           \n",
    "            nn.Conv2d(in_channels=features_d*8, out_channels=1, kernel_size=4, stride=2, padding=0), # Output shape: 1 x 1\n",
    "            nn.Sigmoid(),\n",
    "        )\n",
    "\n",
    "    def _block(self, in_channels, out_channels, kernel_size, stride, padding):\n",
    "        return nn.Sequential(\n",
    "            nn.Conv2d(in_channels, out_channels, kernel_size, stride, padding, bias=False),\n",
    "            nn.BatchNorm2d(out_channels),\n",
    "            nn.LeakyReLU(0.2),\n",
    "        )\n",
    "\n",
    "    def forward(self, X):\n",
    "        return self.disc(X)\n"
   ]
  },
  {
   "cell_type": "code",
   "execution_count": 6,
   "id": "5afe02e5-61d3-4f25-8933-8484e519cd4a",
   "metadata": {},
   "outputs": [],
   "source": [
    "# Generator\n",
    "class Generator(nn.Module):\n",
    "    def __init__(self, z_dim, img_channels, features_g):\n",
    "        super().__init__()\n",
    "        self.gen = nn.Sequential(\n",
    "            self._block(z_dim, features_g*16, 4, 1, 0), # z_dim: (batch_size, 100, 1, 1) -> (batch_size, 1024, 4, 4)\n",
    "            self._block(features_g*16, features_g*8, 4, 2, 1), # z_dim: (batch_size, 1024, 4, 4) -> (batch_size, 512, 8, 8)\n",
    "            self._block(features_g*8, features_g*4, 4, 2, 1), # z_dim: (batch_size, 512, 8, 8) -> (batch_size, 256, 16, 16)\n",
    "            self._block(features_g*4, features_g*2, 4, 2, 1), # z_dim: (batch_size, 128, 16, 16) -> (batch_size, 64, 32, 32)\n",
    "            nn.ConvTranspose2d(\n",
    "                in_channels=features_g*2, out_channels=img_channels, kernel_size=4, stride=2, padding=1 # z_dim: (batch_size, 64, 32, 32) -> (batch_size, 1, 64, 64)\n",
    "            ),\n",
    "            nn.Tanh(),\n",
    "        )\n",
    "        \n",
    "    def _block(self, in_channels, out_channels, kernel_size, stride, padding):\n",
    "        return nn.Sequential(\n",
    "            nn.ConvTranspose2d(\n",
    "                in_channels, out_channels, kernel_size, stride, padding, bias=False,\n",
    "            ),\n",
    "            nn.BatchNorm2d(out_channels),\n",
    "            nn.ReLU(),\n",
    "        )\n",
    "\n",
    "    def forward(self, X):\n",
    "        return self.gen(X)"
   ]
  },
  {
   "cell_type": "code",
   "execution_count": 7,
   "id": "48c1be35-d58a-4d0c-990d-9250fbdbf1b3",
   "metadata": {},
   "outputs": [],
   "source": [
    "# Hyperparams\n",
    "z_dim = 100\n",
    "img_channels = 1\n",
    "features_disc = 64\n",
    "features_gen = 64"
   ]
  },
  {
   "cell_type": "code",
   "execution_count": 8,
   "id": "f2dc1f40-5c2e-4903-b2e7-7abe5cae9772",
   "metadata": {},
   "outputs": [],
   "source": [
    "# Create the model instances\n",
    "gen = Generator(z_dim, img_channels, features_gen).to(device)\n",
    "disc = Discriminator(img_channels, features_disc).to(device)"
   ]
  },
  {
   "cell_type": "code",
   "execution_count": 9,
   "id": "bc7a5deb-f8d8-41d4-aed3-d012d39a84b9",
   "metadata": {},
   "outputs": [
    {
     "data": {
      "text/plain": [
       "<All keys matched successfully>"
      ]
     },
     "execution_count": 9,
     "metadata": {},
     "output_type": "execute_result"
    }
   ],
   "source": [
    "# Load the trained GAN\n",
    "gen.load_state_dict(torch.load('saved models/Generator.pth', weights_only=True))\n",
    "disc.load_state_dict(torch.load('saved models/Discriminator.pth', weights_only=True))"
   ]
  },
  {
   "cell_type": "code",
   "execution_count": 10,
   "id": "a504e932-e168-4bb8-88cc-eea0810aafb0",
   "metadata": {},
   "outputs": [],
   "source": [
    "# Generate a random fake image\n",
    "noise = torch.randn(1, z_dim, 1, 1).to(device)\n",
    "fake_img = gen(noise)"
   ]
  },
  {
   "cell_type": "code",
   "execution_count": 11,
   "id": "98b5d73f-b130-4bc1-a868-c225bd2abe62",
   "metadata": {},
   "outputs": [
    {
     "data": {
      "text/plain": [
       "torch.Size([1, 1, 64, 64])"
      ]
     },
     "execution_count": 11,
     "metadata": {},
     "output_type": "execute_result"
    }
   ],
   "source": [
    "fake_img.shape"
   ]
  },
  {
   "cell_type": "code",
   "execution_count": 12,
   "id": "9d19338c-18e4-4b6e-842f-a225718fa8bb",
   "metadata": {},
   "outputs": [
    {
     "name": "stdout",
     "output_type": "stream",
     "text": [
      "torch.Size([64, 64])\n"
     ]
    },
    {
     "data": {
      "text/plain": [
       "<matplotlib.image.AxesImage at 0x27c54eea850>"
      ]
     },
     "execution_count": 12,
     "metadata": {},
     "output_type": "execute_result"
    },
    {
     "data": {
      "image/png": "[encoded data removed]",
      "text/plain": [
       "<Figure size 640x480 with 1 Axes>"
      ]
     },
     "metadata": {},
     "output_type": "display_data"
    }
   ],
   "source": [
    "fake_img = fake_img.squeeze()\n",
    "print(fake_img.shape)\n",
    "plt.axis(False)\n",
    "plt.title('Fake Generated Image:')\n",
    "plt.imshow(fake_img.cpu().detach(), cmap='gray')"
   ]
  },
  {
   "cell_type": "code",
   "execution_count": 13,
   "id": "cf2aefac-a759-4335-a3de-2065d6a6a9a5",
   "metadata": {},
   "outputs": [],
   "source": [
    "# Target Model\n",
    "class TFCNN(nn.Module):\n",
    "    def __init__(self, n_classes):\n",
    "        super().__init__()\n",
    "        self.n_classes = n_classes\n",
    "\n",
    "        self.encoder = nn.Sequential(\n",
    "            nn.Conv2d(3, 32, 3, stride=1, padding=1),\n",
    "            nn.ReLU(True),\n",
    "            nn.MaxPool2d(2),\n",
    "            nn.Conv2d(32, 64, 3, stride=1, padding=1),\n",
    "            nn.ReLU(True),\n",
    "            nn.MaxPool2d(2),\n",
    "            nn.Conv2d(64, 64, 3, stride=1, padding=1),\n",
    "            nn.ReLU(True),\n",
    "            nn.MaxPool2d(2),\n",
    "            Reshape(),\n",
    "        )\n",
    "\n",
    "        self.h_size = 64 * 4 * 4\n",
    "\n",
    "        self.classifier = nn.Sequential(\n",
    "            nn.Linear(64 * 4 * 4, 128),\n",
    "            nn.ReLU(True),\n",
    "            nn.Linear(128, n_classes)\n",
    "        )\n",
    "\n",
    "    def forward(self, xs):\n",
    "        code = self.encoder(xs)\n",
    "        logits = self.classifier(code)\n",
    "        return code, logits\n"
   ]
  },
  {
   "cell_type": "code",
   "execution_count": 14,
   "id": "d28876e2-91ee-4ebf-bc52-b71dc82edfa2",
   "metadata": {},
   "outputs": [],
   "source": [
    "class Reshape(nn.Module):\n",
    "    def __init__(self,):\n",
    "        super().__init__()\n",
    "\n",
    "    def forward(self, xs):\n",
    "        return xs.reshape((xs.shape[0], -1))"
   ]
  },
  {
   "cell_type": "code",
   "execution_count": 15,
   "id": "dd57210c-2c18-4651-8f29-be94a7a7a88f",
   "metadata": {},
   "outputs": [],
   "source": [
    "class ClassifyNet(nn.Module):\n",
    "    def __init__(self, net, init_way, n_classes, input_size=None):\n",
    "        super().__init__()\n",
    "        self.net = net\n",
    "        self.init_way = init_way\n",
    "        self.n_classes = n_classes\n",
    "\n",
    "        model = TFCNN(n_classes)\n",
    "\n",
    "        self.h_size = model.h_size\n",
    "\n",
    "        # Convo and pool layers\n",
    "        self.encoder = model.encoder\n",
    "\n",
    "        # Classifier layer\n",
    "        self.classifier = nn.Linear(\n",
    "            self.h_size, self.n_classes, bias=False\n",
    "        )\n",
    "\n",
    "        if self.init_way == \"orth\":\n",
    "            ws = get_orth_weights(self.h_size, self.n_classes)\n",
    "            self.classifier.load_state_dict({\"weight\": ws})\n",
    "\n",
    "    def forward(self, xs):\n",
    "        hs = self.encoder(xs)\n",
    "        logits = self.classifier(hs)\n",
    "        return hs, logits"
   ]
  },
  {
   "cell_type": "code",
   "execution_count": 19,
   "id": "83ea3c08-0470-4c9a-ba15-8328a316b3ab",
   "metadata": {},
   "outputs": [],
   "source": [
    "def load_target_model(base_net, n_classes, path):\n",
    "    # Create the base model\n",
    "    model = ClassifyNet(net=base_net, init_way='none', n_classes=n_classes)\n",
    "    # Load the model\n",
    "    model.load_state_dict(torch.load(path, weights_only=True))\n",
    "\n",
    "    return model"
   ]
  },
  {
   "cell_type": "code",
   "execution_count": 23,
   "id": "0880f1aa-9d08-445a-85ac-f1ff3cebde04",
   "metadata": {},
   "outputs": [
    {
     "name": "stdout",
     "output_type": "stream",
     "text": [
      "Model loaded successfully!\n",
      "Number of parameters in the loaded model: 60416\n"
     ]
    }
   ],
   "source": [
    "# Target Model Loading\n",
    "BASE_NET = 'TFCNN'\n",
    "DATASET = 'tumor4'\n",
    "N_CLASSES = 4\n",
    "\n",
    "target_model = load_target_model(base_net=BASE_NET, n_classes=N_CLASSES, path='saved models/feddyn_global_model.path').to(device)\n",
    "print('Model loaded successfully!')\n",
    "target_model.eval()\n",
    "\n",
    "num_params = sum(p.numel() for p in target_model.parameters())\n",
    "print('Number of parameters in the loaded model:', num_params)\n"
   ]
  },
  {
   "cell_type": "code",
   "execution_count": 24,
   "id": "f843f19e-b2a5-4ffe-b22b-de4ff93c5643",
   "metadata": {},
   "outputs": [],
   "source": [
    "# BEGIN BATCH MODEL INVERSION\n",
    "img_count = 20\n",
    "latent_vectors = torch.randn(img_count, z_dim, 1, 1, requires_grad=True) # Start with 20 random noises"
   ]
  },
  {
   "cell_type": "code",
   "execution_count": 25,
   "id": "c21320ed-d5ac-4919-aaad-8cfa093998a6",
   "metadata": {},
   "outputs": [],
   "source": [
    "def recover_images(count, target_image_class, latent_vectors):\n",
    "    optimized_latent_vectors = []\n",
    "    \n",
    "    for x in range(0, count):\n",
    "        z = latent_vectors[x].unsqueeze(dim=0).clone().detach().requires_grad_(True)\n",
    "        \n",
    "        learning_rate = 0.01\n",
    "        target_class = 1 # The second class\n",
    "        \n",
    "        # Create the optimizer\n",
    "        optimizer = torch.optim.Adam([z], lr=learning_rate)\n",
    "        \n",
    "        # Loss function (e.g., Cross-Entropy with classifier outputs)\n",
    "        loss_fn = nn.CrossEntropyLoss()\n",
    "        target_class = torch.tensor([target_image_class])  # Set the target class\n",
    "    \n",
    "        # Optimization loop to find the best z\n",
    "        rounds = 500\n",
    "        for i in range(rounds):\n",
    "            optimizer.zero_grad()\n",
    "            \n",
    "            generated_image = gen(z.to(device))  # Generate an image from the latent vector\n",
    "            generated_image = generated_image.repeat(1, 3, 1, 1)\n",
    "            generated_image = functional.interpolate(generated_image, size=(32, 32), mode='nearest')\n",
    "            #print(generated_image.shape)\n",
    "            hs, prediction_logits = target_model(generated_image)  # Classifier output\n",
    "            #print(prediction_logits)\n",
    "            #print(type(prediction_logits))\n",
    "            loss = loss_fn(prediction_logits, target_class.to(device))  # Minimize difference with true class\n",
    "            loss.backward()\n",
    "            optimizer.step()\n",
    "            \n",
    "            if i % 50 == 0:\n",
    "                print(f\"Generating Image Number: {x+1} for target class {target_class}. Step {i}, Loss: {loss.item()}\")\n",
    "    \n",
    "        optimized_latent_vectors.append(z)\n",
    "        \n",
    "    return optimized_latent_vectors"
   ]
  },
  {
   "cell_type": "code",
   "execution_count": 26,
   "id": "9ebc9533-23ca-4d44-8aea-9d134281b3a4",
   "metadata": {
    "scrolled": true
   },
   "outputs": [
    {
     "name": "stdout",
     "output_type": "stream",
     "text": [
      "Generating Image Number: 1 for target class tensor([0]). Step 0, Loss: 1.1163932085037231\n",
      "Generating Image Number: 1 for target class tensor([0]). Step 50, Loss: 0.0017256144201382995\n",
      "Generating Image Number: 1 for target class tensor([0]). Step 100, Loss: 0.0006663962849415839\n",
      "Generating Image Number: 1 for target class tensor([0]). Step 150, Loss: 0.0004664763400796801\n",
      "Generating Image Number: 1 for target class tensor([0]). Step 200, Loss: 0.00037150635034777224\n",
      "Generating Image Number: 1 for target class tensor([0]). Step 250, Loss: 0.00031287543242797256\n",
      "Generating Image Number: 1 for target class tensor([0]). Step 300, Loss: 0.00026723151677288115\n",
      "Generating Image Number: 1 for target class tensor([0]). Step 350, Loss: 0.0002330270071979612\n",
      "Generating Image Number: 1 for target class tensor([0]). Step 400, Loss: 0.00020823694649152458\n",
      "Generating Image Number: 1 for target class tensor([0]). Step 450, Loss: 0.00019143179815728217\n",
      "Generating Image Number: 2 for target class tensor([0]). Step 0, Loss: 1.7096505165100098\n",
      "Generating Image Number: 2 for target class tensor([0]). Step 50, Loss: 0.01738441362977028\n",
      "Generating Image Number: 2 for target class tensor([0]). Step 100, Loss: 0.005958413239568472\n",
      "Generating Image Number: 2 for target class tensor([0]). Step 150, Loss: 0.004263003822416067\n",
      "Generating Image Number: 2 for target class tensor([0]). Step 200, Loss: 0.002467565471306443\n",
      "Generating Image Number: 2 for target class tensor([0]). Step 250, Loss: 0.0017065736465156078\n",
      "Generating Image Number: 2 for target class tensor([0]). Step 300, Loss: 0.0006405447493307292\n",
      "Generating Image Number: 2 for target class tensor([0]). Step 350, Loss: 0.0003300360403954983\n",
      "Generating Image Number: 2 for target class tensor([0]). Step 400, Loss: 0.0002917817619163543\n",
      "Generating Image Number: 2 for target class tensor([0]). Step 450, Loss: 0.0002653246629051864\n",
      "Generating Image Number: 3 for target class tensor([0]). Step 0, Loss: 2.1614928245544434\n",
      "Generating Image Number: 3 for target class tensor([0]). Step 50, Loss: 0.014242428354918957\n",
      "Generating Image Number: 3 for target class tensor([0]). Step 100, Loss: 0.008817664347589016\n",
      "Generating Image Number: 3 for target class tensor([0]). Step 150, Loss: 0.006275353487581015\n",
      "Generating Image Number: 3 for target class tensor([0]). Step 200, Loss: 0.0048561012372374535\n",
      "Generating Image Number: 3 for target class tensor([0]). Step 250, Loss: 0.0038368909154087305\n",
      "Generating Image Number: 3 for target class tensor([0]). Step 300, Loss: 0.0033778061624616385\n",
      "Generating Image Number: 3 for target class tensor([0]). Step 350, Loss: 0.0029967185109853745\n",
      "Generating Image Number: 3 for target class tensor([0]). Step 400, Loss: 0.002656385535374284\n",
      "Generating Image Number: 3 for target class tensor([0]). Step 450, Loss: 0.002452225424349308\n",
      "Generating Image Number: 4 for target class tensor([0]). Step 0, Loss: 0.16331559419631958\n",
      "Generating Image Number: 4 for target class tensor([0]). Step 50, Loss: 0.0003270567976869643\n",
      "Generating Image Number: 4 for target class tensor([0]). Step 100, Loss: 0.00024279984063468874\n",
      "Generating Image Number: 4 for target class tensor([0]). Step 150, Loss: 0.00021300431399140507\n",
      "Generating Image Number: 4 for target class tensor([0]). Step 200, Loss: 0.00018618757894728333\n",
      "Generating Image Number: 4 for target class tensor([0]). Step 250, Loss: 0.0001674750237725675\n",
      "Generating Image Number: 4 for target class tensor([0]). Step 300, Loss: 0.0001538873475510627\n",
      "Generating Image Number: 4 for target class tensor([0]). Step 350, Loss: 0.0001431601122021675\n",
      "Generating Image Number: 4 for target class tensor([0]). Step 400, Loss: 0.00013326710904948413\n",
      "Generating Image Number: 4 for target class tensor([0]). Step 450, Loss: 0.00012313561455812305\n",
      "Generating Image Number: 5 for target class tensor([0]). Step 0, Loss: 9.010810852050781\n",
      "Generating Image Number: 5 for target class tensor([0]). Step 50, Loss: 0.11482247710227966\n",
      "Generating Image Number: 5 for target class tensor([0]). Step 100, Loss: 0.03587251901626587\n",
      "Generating Image Number: 5 for target class tensor([0]). Step 150, Loss: 0.022824784740805626\n",
      "Generating Image Number: 5 for target class tensor([0]). Step 200, Loss: 0.017108358442783356\n",
      "Generating Image Number: 5 for target class tensor([0]). Step 250, Loss: 0.013801734894514084\n",
      "Generating Image Number: 5 for target class tensor([0]). Step 300, Loss: 0.011511805467307568\n",
      "Generating Image Number: 5 for target class tensor([0]). Step 350, Loss: 0.010048280470073223\n",
      "Generating Image Number: 5 for target class tensor([0]). Step 400, Loss: 0.008825226686894894\n",
      "Generating Image Number: 5 for target class tensor([0]). Step 450, Loss: 0.007593102753162384\n",
      "Generating Image Number: 6 for target class tensor([0]). Step 0, Loss: 0.0114070363342762\n",
      "Generating Image Number: 6 for target class tensor([0]). Step 50, Loss: 0.00033420699764974415\n",
      "Generating Image Number: 6 for target class tensor([0]). Step 100, Loss: 0.00019941726350225508\n",
      "Generating Image Number: 6 for target class tensor([0]). Step 150, Loss: 0.00013171759201213717\n",
      "Generating Image Number: 6 for target class tensor([0]). Step 200, Loss: 8.725739462533966e-05\n",
      "Generating Image Number: 6 for target class tensor([0]). Step 250, Loss: 6.246371776796877e-05\n",
      "Generating Image Number: 6 for target class tensor([0]). Step 300, Loss: 4.8993817472364753e-05\n",
      "Generating Image Number: 6 for target class tensor([0]). Step 350, Loss: 3.969590397900902e-05\n",
      "Generating Image Number: 6 for target class tensor([0]). Step 400, Loss: 3.2305197237292305e-05\n",
      "Generating Image Number: 6 for target class tensor([0]). Step 450, Loss: 2.8132995794294402e-05\n",
      "Generating Image Number: 7 for target class tensor([0]). Step 0, Loss: 7.9394426345825195\n",
      "Generating Image Number: 7 for target class tensor([0]). Step 50, Loss: 0.15344791114330292\n",
      "Generating Image Number: 7 for target class tensor([0]). Step 100, Loss: 0.03829695284366608\n",
      "Generating Image Number: 7 for target class tensor([0]). Step 150, Loss: 0.021601984277367592\n",
      "Generating Image Number: 7 for target class tensor([0]). Step 200, Loss: 0.01499864086508751\n",
      "Generating Image Number: 7 for target class tensor([0]). Step 250, Loss: 0.011166106909513474\n",
      "Generating Image Number: 7 for target class tensor([0]). Step 300, Loss: 0.00900717917829752\n",
      "Generating Image Number: 7 for target class tensor([0]). Step 350, Loss: 0.008063619956374168\n",
      "Generating Image Number: 7 for target class tensor([0]). Step 400, Loss: 0.007510402239859104\n",
      "Generating Image Number: 7 for target class tensor([0]). Step 450, Loss: 0.007049568463116884\n",
      "Generating Image Number: 8 for target class tensor([0]). Step 0, Loss: 0.12708616256713867\n",
      "Generating Image Number: 8 for target class tensor([0]). Step 50, Loss: 0.001706930692307651\n",
      "Generating Image Number: 8 for target class tensor([0]). Step 100, Loss: 0.0009099871967919171\n",
      "Generating Image Number: 8 for target class tensor([0]). Step 150, Loss: 0.0006906984490342438\n",
      "Generating Image Number: 8 for target class tensor([0]). Step 200, Loss: 0.0005664412747137249\n",
      "Generating Image Number: 8 for target class tensor([0]). Step 250, Loss: 0.0004998388467356563\n",
      "Generating Image Number: 8 for target class tensor([0]). Step 300, Loss: 0.0004481264913920313\n",
      "Generating Image Number: 8 for target class tensor([0]). Step 350, Loss: 0.00041500062798149884\n",
      "Generating Image Number: 8 for target class tensor([0]). Step 400, Loss: 0.00038354191929101944\n",
      "Generating Image Number: 8 for target class tensor([0]). Step 450, Loss: 0.0003583981015253812\n",
      "Generating Image Number: 9 for target class tensor([0]). Step 0, Loss: 4.624053955078125\n",
      "Generating Image Number: 9 for target class tensor([0]). Step 50, Loss: 0.02389502339065075\n",
      "Generating Image Number: 9 for target class tensor([0]). Step 100, Loss: 0.009355750866234303\n",
      "Generating Image Number: 9 for target class tensor([0]). Step 150, Loss: 0.006131173111498356\n",
      "Generating Image Number: 9 for target class tensor([0]). Step 200, Loss: 0.004878404084593058\n",
      "Generating Image Number: 9 for target class tensor([0]). Step 250, Loss: 0.0038959092926234007\n",
      "Generating Image Number: 9 for target class tensor([0]). Step 300, Loss: 0.0033062815200537443\n",
      "Generating Image Number: 9 for target class tensor([0]). Step 350, Loss: 0.0028555116150528193\n",
      "Generating Image Number: 9 for target class tensor([0]). Step 400, Loss: 0.0024951535742729902\n",
      "Generating Image Number: 9 for target class tensor([0]). Step 450, Loss: 0.002174633787944913\n",
      "Generating Image Number: 10 for target class tensor([0]). Step 0, Loss: 4.33689546585083\n",
      "Generating Image Number: 10 for target class tensor([0]). Step 50, Loss: 0.037407394498586655\n",
      "Generating Image Number: 10 for target class tensor([0]). Step 100, Loss: 0.012102858163416386\n",
      "Generating Image Number: 10 for target class tensor([0]). Step 150, Loss: 0.008360032923519611\n",
      "Generating Image Number: 10 for target class tensor([0]). Step 200, Loss: 0.006440241355448961\n",
      "Generating Image Number: 10 for target class tensor([0]). Step 250, Loss: 0.005109941121190786\n",
      "Generating Image Number: 10 for target class tensor([0]). Step 300, Loss: 0.004052641335874796\n",
      "Generating Image Number: 10 for target class tensor([0]). Step 350, Loss: 0.003267784370109439\n",
      "Generating Image Number: 10 for target class tensor([0]). Step 400, Loss: 0.0027957186102867126\n",
      "Generating Image Number: 10 for target class tensor([0]). Step 450, Loss: 0.002457219874486327\n",
      "Generating Image Number: 11 for target class tensor([0]). Step 0, Loss: 6.901310443878174\n",
      "Generating Image Number: 11 for target class tensor([0]). Step 50, Loss: 0.07386180758476257\n",
      "Generating Image Number: 11 for target class tensor([0]). Step 100, Loss: 0.04091533645987511\n",
      "Generating Image Number: 11 for target class tensor([0]). Step 150, Loss: 0.030842285603284836\n",
      "Generating Image Number: 11 for target class tensor([0]). Step 200, Loss: 0.02334059774875641\n",
      "Generating Image Number: 11 for target class tensor([0]). Step 250, Loss: 0.019181592389941216\n",
      "Generating Image Number: 11 for target class tensor([0]). Step 300, Loss: 0.015686454251408577\n",
      "Generating Image Number: 11 for target class tensor([0]). Step 350, Loss: 0.013344498351216316\n",
      "Generating Image Number: 11 for target class tensor([0]). Step 400, Loss: 0.011597003787755966\n",
      "Generating Image Number: 11 for target class tensor([0]). Step 450, Loss: 0.010170421563088894\n",
      "Generating Image Number: 12 for target class tensor([0]). Step 0, Loss: 6.885011196136475\n",
      "Generating Image Number: 12 for target class tensor([0]). Step 50, Loss: 0.005090134683996439\n",
      "Generating Image Number: 12 for target class tensor([0]). Step 100, Loss: 0.0036487688776105642\n",
      "Generating Image Number: 12 for target class tensor([0]). Step 150, Loss: 0.00284077157266438\n",
      "Generating Image Number: 12 for target class tensor([0]). Step 200, Loss: 0.002342934487387538\n",
      "Generating Image Number: 12 for target class tensor([0]). Step 250, Loss: 0.002053892007097602\n",
      "Generating Image Number: 12 for target class tensor([0]). Step 300, Loss: 0.0018868515035137534\n",
      "Generating Image Number: 12 for target class tensor([0]). Step 350, Loss: 0.0017863045213744044\n",
      "Generating Image Number: 12 for target class tensor([0]). Step 400, Loss: 0.0016877705929800868\n",
      "Generating Image Number: 12 for target class tensor([0]). Step 450, Loss: 0.0015977962175384164\n",
      "Generating Image Number: 13 for target class tensor([0]). Step 0, Loss: 4.9635186195373535\n",
      "Generating Image Number: 13 for target class tensor([0]). Step 50, Loss: 0.07269678264856339\n",
      "Generating Image Number: 13 for target class tensor([0]). Step 100, Loss: 0.03027944080531597\n",
      "Generating Image Number: 13 for target class tensor([0]). Step 150, Loss: 0.0224269088357687\n",
      "Generating Image Number: 13 for target class tensor([0]). Step 200, Loss: 0.017774228006601334\n",
      "Generating Image Number: 13 for target class tensor([0]). Step 250, Loss: 0.014237139374017715\n",
      "Generating Image Number: 13 for target class tensor([0]). Step 300, Loss: 0.011748292483389378\n",
      "Generating Image Number: 13 for target class tensor([0]). Step 350, Loss: 0.010047572664916515\n",
      "Generating Image Number: 13 for target class tensor([0]). Step 400, Loss: 0.008852167055010796\n",
      "Generating Image Number: 13 for target class tensor([0]). Step 450, Loss: 0.007940866984426975\n",
      "Generating Image Number: 14 for target class tensor([0]). Step 0, Loss: 0.26543620228767395\n",
      "Generating Image Number: 14 for target class tensor([0]). Step 50, Loss: 0.0041033364832401276\n",
      "Generating Image Number: 14 for target class tensor([0]). Step 100, Loss: 0.0017307315720245242\n",
      "Generating Image Number: 14 for target class tensor([0]). Step 150, Loss: 0.0007601470570079982\n",
      "Generating Image Number: 14 for target class tensor([0]). Step 200, Loss: 0.0005944392178207636\n",
      "Generating Image Number: 14 for target class tensor([0]). Step 250, Loss: 0.0005021026590839028\n",
      "Generating Image Number: 14 for target class tensor([0]). Step 300, Loss: 0.0004353767435532063\n",
      "Generating Image Number: 14 for target class tensor([0]). Step 350, Loss: 0.0003589939442463219\n",
      "Generating Image Number: 14 for target class tensor([0]). Step 400, Loss: 0.00029881304362788796\n",
      "Generating Image Number: 14 for target class tensor([0]). Step 450, Loss: 0.0002548369811847806\n",
      "Generating Image Number: 15 for target class tensor([0]). Step 0, Loss: 1.0069961547851562\n",
      "Generating Image Number: 15 for target class tensor([0]). Step 50, Loss: 0.0016336203552782536\n",
      "Generating Image Number: 15 for target class tensor([0]). Step 100, Loss: 0.0013458014000207186\n",
      "Generating Image Number: 15 for target class tensor([0]). Step 150, Loss: 0.0012134101707488298\n",
      "Generating Image Number: 15 for target class tensor([0]). Step 200, Loss: 0.001086717238649726\n",
      "Generating Image Number: 15 for target class tensor([0]). Step 250, Loss: 0.000976800569333136\n",
      "Generating Image Number: 15 for target class tensor([0]). Step 300, Loss: 0.0009049849468283355\n",
      "Generating Image Number: 15 for target class tensor([0]). Step 350, Loss: 0.0008486483711749315\n",
      "Generating Image Number: 15 for target class tensor([0]). Step 400, Loss: 0.0007868293323554099\n",
      "Generating Image Number: 15 for target class tensor([0]). Step 450, Loss: 0.0007256020326167345\n",
      "Generating Image Number: 16 for target class tensor([0]). Step 0, Loss: 6.240467071533203\n",
      "Generating Image Number: 16 for target class tensor([0]). Step 50, Loss: 0.41702955961227417\n",
      "Generating Image Number: 16 for target class tensor([0]). Step 100, Loss: 0.12614046037197113\n",
      "Generating Image Number: 16 for target class tensor([0]). Step 150, Loss: 0.09212560951709747\n",
      "Generating Image Number: 16 for target class tensor([0]). Step 200, Loss: 0.0736568421125412\n",
      "Generating Image Number: 16 for target class tensor([0]). Step 250, Loss: 0.05790126323699951\n",
      "Generating Image Number: 16 for target class tensor([0]). Step 300, Loss: 0.04652336984872818\n",
      "Generating Image Number: 16 for target class tensor([0]). Step 350, Loss: 0.03883959352970123\n",
      "Generating Image Number: 16 for target class tensor([0]). Step 400, Loss: 0.031212911009788513\n",
      "Generating Image Number: 16 for target class tensor([0]). Step 450, Loss: 0.027184387668967247\n",
      "Generating Image Number: 17 for target class tensor([0]). Step 0, Loss: 1.0044379234313965\n",
      "Generating Image Number: 17 for target class tensor([0]). Step 50, Loss: 0.012254777364432812\n",
      "Generating Image Number: 17 for target class tensor([0]). Step 100, Loss: 0.007636402267962694\n",
      "Generating Image Number: 17 for target class tensor([0]). Step 150, Loss: 0.005522352643311024\n",
      "Generating Image Number: 17 for target class tensor([0]). Step 200, Loss: 0.004026877228170633\n",
      "Generating Image Number: 17 for target class tensor([0]). Step 250, Loss: 0.0031392124947160482\n",
      "Generating Image Number: 17 for target class tensor([0]). Step 300, Loss: 0.0025064502842724323\n",
      "Generating Image Number: 17 for target class tensor([0]). Step 350, Loss: 0.0021033799275755882\n",
      "Generating Image Number: 17 for target class tensor([0]). Step 400, Loss: 0.0017799977213144302\n",
      "Generating Image Number: 17 for target class tensor([0]). Step 450, Loss: 0.001498291501775384\n",
      "Generating Image Number: 18 for target class tensor([0]). Step 0, Loss: 2.9593448638916016\n",
      "Generating Image Number: 18 for target class tensor([0]). Step 50, Loss: 0.12462444603443146\n",
      "Generating Image Number: 18 for target class tensor([0]). Step 100, Loss: 0.07375329732894897\n",
      "Generating Image Number: 18 for target class tensor([0]). Step 150, Loss: 0.058288197964429855\n",
      "Generating Image Number: 18 for target class tensor([0]). Step 200, Loss: 0.048038024455308914\n",
      "Generating Image Number: 18 for target class tensor([0]). Step 250, Loss: 0.040510401129722595\n",
      "Generating Image Number: 18 for target class tensor([0]). Step 300, Loss: 0.035357147455215454\n",
      "Generating Image Number: 18 for target class tensor([0]). Step 350, Loss: 0.03198607638478279\n",
      "Generating Image Number: 18 for target class tensor([0]). Step 400, Loss: 0.029464097693562508\n",
      "Generating Image Number: 18 for target class tensor([0]). Step 450, Loss: 0.02712429128587246\n",
      "Generating Image Number: 19 for target class tensor([0]). Step 0, Loss: 1.7192085981369019\n",
      "Generating Image Number: 19 for target class tensor([0]). Step 50, Loss: 0.020444495603442192\n",
      "Generating Image Number: 19 for target class tensor([0]). Step 100, Loss: 0.012670491822063923\n",
      "Generating Image Number: 19 for target class tensor([0]). Step 150, Loss: 0.00970786064863205\n",
      "Generating Image Number: 19 for target class tensor([0]). Step 200, Loss: 0.007635101210325956\n",
      "Generating Image Number: 19 for target class tensor([0]). Step 250, Loss: 0.006524451542645693\n",
      "Generating Image Number: 19 for target class tensor([0]). Step 300, Loss: 0.005624658428132534\n",
      "Generating Image Number: 19 for target class tensor([0]). Step 350, Loss: 0.004977216944098473\n",
      "Generating Image Number: 19 for target class tensor([0]). Step 400, Loss: 0.004385853186249733\n",
      "Generating Image Number: 19 for target class tensor([0]). Step 450, Loss: 0.003907902631908655\n",
      "Generating Image Number: 20 for target class tensor([0]). Step 0, Loss: 3.741319179534912\n",
      "Generating Image Number: 20 for target class tensor([0]). Step 50, Loss: 0.1208808496594429\n",
      "Generating Image Number: 20 for target class tensor([0]). Step 100, Loss: 0.0638497918844223\n",
      "Generating Image Number: 20 for target class tensor([0]). Step 150, Loss: 0.04526644945144653\n",
      "Generating Image Number: 20 for target class tensor([0]). Step 200, Loss: 0.03441314399242401\n",
      "Generating Image Number: 20 for target class tensor([0]). Step 250, Loss: 0.028066735714673996\n",
      "Generating Image Number: 20 for target class tensor([0]). Step 300, Loss: 0.023402320221066475\n",
      "Generating Image Number: 20 for target class tensor([0]). Step 350, Loss: 0.01894194446504116\n",
      "Generating Image Number: 20 for target class tensor([0]). Step 400, Loss: 0.01632617972791195\n",
      "Generating Image Number: 20 for target class tensor([0]). Step 450, Loss: 0.013465531170368195\n"
     ]
    }
   ],
   "source": [
    "class0_optimized_latent_vectors = recover_images(img_count, 0, latent_vectors)"
   ]
  },
  {
   "cell_type": "code",
   "execution_count": 27,
   "id": "6718334c-2bb1-42a3-bd8c-6aea38e6b59c",
   "metadata": {
    "scrolled": true
   },
   "outputs": [
    {
     "name": "stdout",
     "output_type": "stream",
     "text": [
      "Generating Image Number: 1 for target class tensor([1]). Step 0, Loss: 0.06038965284824371\n",
      "Generating Image Number: 1 for target class tensor([1]). Step 50, Loss: 5.8530047681415454e-05\n",
      "Generating Image Number: 1 for target class tensor([1]). Step 100, Loss: 4.100715523236431e-05\n",
      "Generating Image Number: 1 for target class tensor([1]). Step 150, Loss: 3.325883881188929e-05\n",
      "Generating Image Number: 1 for target class tensor([1]). Step 200, Loss: 2.7656173188006505e-05\n",
      "Generating Image Number: 1 for target class tensor([1]). Step 250, Loss: 2.276871418871451e-05\n",
      "Generating Image Number: 1 for target class tensor([1]). Step 300, Loss: 1.8000440832111053e-05\n",
      "Generating Image Number: 1 for target class tensor([1]). Step 350, Loss: 1.4781842764932662e-05\n",
      "Generating Image Number: 1 for target class tensor([1]). Step 400, Loss: 1.2755313036905136e-05\n",
      "Generating Image Number: 1 for target class tensor([1]). Step 450, Loss: 1.1324817933200393e-05\n",
      "Generating Image Number: 2 for target class tensor([1]). Step 0, Loss: 0.035668469965457916\n",
      "Generating Image Number: 2 for target class tensor([1]). Step 50, Loss: 0.0005250982358120382\n",
      "Generating Image Number: 2 for target class tensor([1]). Step 100, Loss: 0.00033098942367359996\n",
      "Generating Image Number: 2 for target class tensor([1]). Step 150, Loss: 0.00024184639914892614\n",
      "Generating Image Number: 2 for target class tensor([1]). Step 200, Loss: 0.00018034738604910672\n",
      "Generating Image Number: 2 for target class tensor([1]). Step 250, Loss: 0.00014280252798926085\n",
      "Generating Image Number: 2 for target class tensor([1]). Step 300, Loss: 0.00011467275908216834\n",
      "Generating Image Number: 2 for target class tensor([1]). Step 350, Loss: 9.011816291604191e-05\n",
      "Generating Image Number: 2 for target class tensor([1]). Step 400, Loss: 6.782778655178845e-05\n",
      "Generating Image Number: 2 for target class tensor([1]). Step 450, Loss: 5.5549986427649856e-05\n",
      "Generating Image Number: 3 for target class tensor([1]). Step 0, Loss: 4.171028137207031\n",
      "Generating Image Number: 3 for target class tensor([1]). Step 50, Loss: 0.09688469022512436\n",
      "Generating Image Number: 3 for target class tensor([1]). Step 100, Loss: 0.03560853749513626\n",
      "Generating Image Number: 3 for target class tensor([1]). Step 150, Loss: 0.01803932897746563\n",
      "Generating Image Number: 3 for target class tensor([1]). Step 200, Loss: 0.010472109541296959\n",
      "Generating Image Number: 3 for target class tensor([1]). Step 250, Loss: 0.006766974925994873\n",
      "Generating Image Number: 3 for target class tensor([1]). Step 300, Loss: 0.004932022653520107\n",
      "Generating Image Number: 3 for target class tensor([1]). Step 350, Loss: 0.0037520977202802896\n",
      "Generating Image Number: 3 for target class tensor([1]). Step 400, Loss: 0.0030197754967957735\n",
      "Generating Image Number: 3 for target class tensor([1]). Step 450, Loss: 0.002550921868532896\n",
      "Generating Image Number: 4 for target class tensor([1]). Step 0, Loss: 0.5745270252227783\n",
      "Generating Image Number: 4 for target class tensor([1]). Step 50, Loss: 0.001821169862523675\n",
      "Generating Image Number: 4 for target class tensor([1]). Step 100, Loss: 0.001057304092682898\n",
      "Generating Image Number: 4 for target class tensor([1]). Step 150, Loss: 0.0008073169738054276\n",
      "Generating Image Number: 4 for target class tensor([1]). Step 200, Loss: 0.0006460248259827495\n",
      "Generating Image Number: 4 for target class tensor([1]). Step 250, Loss: 0.0005254556890577078\n",
      "Generating Image Number: 4 for target class tensor([1]). Step 300, Loss: 0.0004450284468475729\n",
      "Generating Image Number: 4 for target class tensor([1]). Step 350, Loss: 0.000392598332837224\n",
      "Generating Image Number: 4 for target class tensor([1]). Step 400, Loss: 0.0003499372396618128\n",
      "Generating Image Number: 4 for target class tensor([1]). Step 450, Loss: 0.0003069168305955827\n",
      "Generating Image Number: 5 for target class tensor([1]). Step 0, Loss: 1.4862595796585083\n",
      "Generating Image Number: 5 for target class tensor([1]). Step 50, Loss: 0.018030431121587753\n",
      "Generating Image Number: 5 for target class tensor([1]). Step 100, Loss: 0.01093938760459423\n",
      "Generating Image Number: 5 for target class tensor([1]). Step 150, Loss: 0.008596793748438358\n",
      "Generating Image Number: 5 for target class tensor([1]). Step 200, Loss: 0.006889990530908108\n",
      "Generating Image Number: 5 for target class tensor([1]). Step 250, Loss: 0.005746866576373577\n",
      "Generating Image Number: 5 for target class tensor([1]). Step 300, Loss: 0.004904857836663723\n",
      "Generating Image Number: 5 for target class tensor([1]). Step 350, Loss: 0.004076386336237192\n",
      "Generating Image Number: 5 for target class tensor([1]). Step 400, Loss: 0.003353331470862031\n",
      "Generating Image Number: 5 for target class tensor([1]). Step 450, Loss: 0.0028003547340631485\n",
      "Generating Image Number: 6 for target class tensor([1]). Step 0, Loss: 0.304595947265625\n",
      "Generating Image Number: 6 for target class tensor([1]). Step 50, Loss: 0.0007497837068513036\n",
      "Generating Image Number: 6 for target class tensor([1]). Step 100, Loss: 0.0003748429589904845\n",
      "Generating Image Number: 6 for target class tensor([1]). Step 150, Loss: 0.00023576818057335913\n",
      "Generating Image Number: 6 for target class tensor([1]). Step 200, Loss: 0.0001679517881711945\n",
      "Generating Image Number: 6 for target class tensor([1]). Step 250, Loss: 0.00013731967192143202\n",
      "Generating Image Number: 6 for target class tensor([1]). Step 300, Loss: 0.00011324241495458409\n",
      "Generating Image Number: 6 for target class tensor([1]). Step 350, Loss: 9.619726915843785e-05\n",
      "Generating Image Number: 6 for target class tensor([1]). Step 400, Loss: 8.475421054754406e-05\n",
      "Generating Image Number: 6 for target class tensor([1]). Step 450, Loss: 7.73638384998776e-05\n",
      "Generating Image Number: 7 for target class tensor([1]). Step 0, Loss: 2.6022260189056396\n",
      "Generating Image Number: 7 for target class tensor([1]). Step 50, Loss: 0.0030358200892806053\n",
      "Generating Image Number: 7 for target class tensor([1]). Step 100, Loss: 0.0013309201458469033\n",
      "Generating Image Number: 7 for target class tensor([1]). Step 150, Loss: 0.0009241600637324154\n",
      "Generating Image Number: 7 for target class tensor([1]). Step 200, Loss: 0.000717144284863025\n",
      "Generating Image Number: 7 for target class tensor([1]). Step 250, Loss: 0.0005874100024811924\n",
      "Generating Image Number: 7 for target class tensor([1]). Step 300, Loss: 0.00048101297579705715\n",
      "Generating Image Number: 7 for target class tensor([1]). Step 350, Loss: 0.0004032037395518273\n",
      "Generating Image Number: 7 for target class tensor([1]). Step 400, Loss: 0.00034814971149899065\n",
      "Generating Image Number: 7 for target class tensor([1]). Step 450, Loss: 0.00030250742565840483\n",
      "Generating Image Number: 8 for target class tensor([1]). Step 0, Loss: 2.6590158939361572\n",
      "Generating Image Number: 8 for target class tensor([1]). Step 50, Loss: 0.047491710633039474\n",
      "Generating Image Number: 8 for target class tensor([1]). Step 100, Loss: 0.026056459173560143\n",
      "Generating Image Number: 8 for target class tensor([1]). Step 150, Loss: 0.015625663101673126\n",
      "Generating Image Number: 8 for target class tensor([1]). Step 200, Loss: 0.011744404211640358\n",
      "Generating Image Number: 8 for target class tensor([1]). Step 250, Loss: 0.009529341012239456\n",
      "Generating Image Number: 8 for target class tensor([1]). Step 300, Loss: 0.007965466007590294\n",
      "Generating Image Number: 8 for target class tensor([1]). Step 350, Loss: 0.006883479189127684\n",
      "Generating Image Number: 8 for target class tensor([1]). Step 400, Loss: 0.00603069644421339\n",
      "Generating Image Number: 8 for target class tensor([1]). Step 450, Loss: 0.005424423608928919\n",
      "Generating Image Number: 9 for target class tensor([1]). Step 0, Loss: 4.696356773376465\n",
      "Generating Image Number: 9 for target class tensor([1]). Step 50, Loss: 0.0005912224878557026\n",
      "Generating Image Number: 9 for target class tensor([1]). Step 100, Loss: 0.00047708096099086106\n",
      "Generating Image Number: 9 for target class tensor([1]). Step 150, Loss: 0.0004397855664137751\n",
      "Generating Image Number: 9 for target class tensor([1]). Step 200, Loss: 0.0004012971476186067\n",
      "Generating Image Number: 9 for target class tensor([1]). Step 250, Loss: 0.0003597089380491525\n",
      "Generating Image Number: 9 for target class tensor([1]). Step 300, Loss: 0.0003121604095213115\n",
      "Generating Image Number: 9 for target class tensor([1]). Step 350, Loss: 0.0002754547167569399\n",
      "Generating Image Number: 9 for target class tensor([1]). Step 400, Loss: 0.000248401309363544\n",
      "Generating Image Number: 9 for target class tensor([1]). Step 450, Loss: 0.00022396916756406426\n",
      "Generating Image Number: 10 for target class tensor([1]). Step 0, Loss: 1.3520257472991943\n",
      "Generating Image Number: 10 for target class tensor([1]). Step 50, Loss: 0.03600499778985977\n",
      "Generating Image Number: 10 for target class tensor([1]). Step 100, Loss: 0.01062899362295866\n",
      "Generating Image Number: 10 for target class tensor([1]). Step 150, Loss: 0.005133186932653189\n",
      "Generating Image Number: 10 for target class tensor([1]). Step 200, Loss: 0.0030239352490752935\n",
      "Generating Image Number: 10 for target class tensor([1]). Step 250, Loss: 0.002089461777359247\n",
      "Generating Image Number: 10 for target class tensor([1]). Step 300, Loss: 0.0015997005393728614\n",
      "Generating Image Number: 10 for target class tensor([1]). Step 350, Loss: 0.0013363964390009642\n",
      "Generating Image Number: 10 for target class tensor([1]). Step 400, Loss: 0.0011443501571193337\n",
      "Generating Image Number: 10 for target class tensor([1]). Step 450, Loss: 0.0009925207123160362\n",
      "Generating Image Number: 11 for target class tensor([1]). Step 0, Loss: 3.188194751739502\n",
      "Generating Image Number: 11 for target class tensor([1]). Step 50, Loss: 0.005768912378698587\n",
      "Generating Image Number: 11 for target class tensor([1]). Step 100, Loss: 0.0032556646037846804\n",
      "Generating Image Number: 11 for target class tensor([1]). Step 150, Loss: 0.0024293928872793913\n",
      "Generating Image Number: 11 for target class tensor([1]). Step 200, Loss: 0.0019094583112746477\n",
      "Generating Image Number: 11 for target class tensor([1]). Step 250, Loss: 0.001538642100058496\n",
      "Generating Image Number: 11 for target class tensor([1]). Step 300, Loss: 0.001206861576065421\n",
      "Generating Image Number: 11 for target class tensor([1]). Step 350, Loss: 0.000967153930105269\n",
      "Generating Image Number: 11 for target class tensor([1]). Step 400, Loss: 0.0008036244544200599\n",
      "Generating Image Number: 11 for target class tensor([1]). Step 450, Loss: 0.0006538875168189406\n",
      "Generating Image Number: 12 for target class tensor([1]). Step 0, Loss: 0.5413293242454529\n",
      "Generating Image Number: 12 for target class tensor([1]). Step 50, Loss: 0.0032490105368196964\n",
      "Generating Image Number: 12 for target class tensor([1]). Step 100, Loss: 0.0019961923826485872\n",
      "Generating Image Number: 12 for target class tensor([1]). Step 150, Loss: 0.0016088649863377213\n",
      "Generating Image Number: 12 for target class tensor([1]). Step 200, Loss: 0.0013190149329602718\n",
      "Generating Image Number: 12 for target class tensor([1]). Step 250, Loss: 0.0011068414896726608\n",
      "Generating Image Number: 12 for target class tensor([1]). Step 300, Loss: 0.0009528625523671508\n",
      "Generating Image Number: 12 for target class tensor([1]). Step 350, Loss: 0.0008353081648238003\n",
      "Generating Image Number: 12 for target class tensor([1]). Step 400, Loss: 0.0007400158210657537\n",
      "Generating Image Number: 12 for target class tensor([1]). Step 450, Loss: 0.0006652049487456679\n",
      "Generating Image Number: 13 for target class tensor([1]). Step 0, Loss: 0.17875835299491882\n",
      "Generating Image Number: 13 for target class tensor([1]). Step 50, Loss: 0.0004096384218428284\n",
      "Generating Image Number: 13 for target class tensor([1]). Step 100, Loss: 0.0002208704245276749\n",
      "Generating Image Number: 13 for target class tensor([1]). Step 150, Loss: 0.00014911970356479287\n",
      "Generating Image Number: 13 for target class tensor([1]). Step 200, Loss: 0.00011419598013162613\n",
      "Generating Image Number: 13 for target class tensor([1]). Step 250, Loss: 8.487341256113723e-05\n",
      "Generating Image Number: 13 for target class tensor([1]). Step 300, Loss: 6.55629628454335e-05\n",
      "Generating Image Number: 13 for target class tensor([1]). Step 350, Loss: 5.328513361746445e-05\n",
      "Generating Image Number: 13 for target class tensor([1]). Step 400, Loss: 4.2914423829643056e-05\n",
      "Generating Image Number: 13 for target class tensor([1]). Step 450, Loss: 3.540453326422721e-05\n",
      "Generating Image Number: 14 for target class tensor([1]). Step 0, Loss: 5.402937889099121\n",
      "Generating Image Number: 14 for target class tensor([1]). Step 50, Loss: 0.0924818143248558\n",
      "Generating Image Number: 14 for target class tensor([1]). Step 100, Loss: 0.0319121815264225\n",
      "Generating Image Number: 14 for target class tensor([1]). Step 150, Loss: 0.023846369236707687\n",
      "Generating Image Number: 14 for target class tensor([1]). Step 200, Loss: 0.01892475038766861\n",
      "Generating Image Number: 14 for target class tensor([1]). Step 250, Loss: 0.015408403240144253\n",
      "Generating Image Number: 14 for target class tensor([1]). Step 300, Loss: 0.012958482839167118\n",
      "Generating Image Number: 14 for target class tensor([1]). Step 350, Loss: 0.011188033036887646\n",
      "Generating Image Number: 14 for target class tensor([1]). Step 400, Loss: 0.009682832285761833\n",
      "Generating Image Number: 14 for target class tensor([1]). Step 450, Loss: 0.008560272864997387\n",
      "Generating Image Number: 15 for target class tensor([1]). Step 0, Loss: 1.8959996700286865\n",
      "Generating Image Number: 15 for target class tensor([1]). Step 50, Loss: 0.008179381489753723\n",
      "Generating Image Number: 15 for target class tensor([1]). Step 100, Loss: 0.0028036832809448242\n",
      "Generating Image Number: 15 for target class tensor([1]). Step 150, Loss: 0.0017390617867931724\n",
      "Generating Image Number: 15 for target class tensor([1]). Step 200, Loss: 0.0011537569807842374\n",
      "Generating Image Number: 15 for target class tensor([1]). Step 250, Loss: 0.0008922410197556019\n",
      "Generating Image Number: 15 for target class tensor([1]). Step 300, Loss: 0.0007226239540614188\n",
      "Generating Image Number: 15 for target class tensor([1]). Step 350, Loss: 0.0006266061100177467\n",
      "Generating Image Number: 15 for target class tensor([1]). Step 400, Loss: 0.0005714452126994729\n",
      "Generating Image Number: 15 for target class tensor([1]). Step 450, Loss: 0.0005160430446267128\n",
      "Generating Image Number: 16 for target class tensor([1]). Step 0, Loss: 2.30353045463562\n",
      "Generating Image Number: 16 for target class tensor([1]). Step 50, Loss: 0.008107608184218407\n",
      "Generating Image Number: 16 for target class tensor([1]). Step 100, Loss: 0.0029678368009626865\n",
      "Generating Image Number: 16 for target class tensor([1]). Step 150, Loss: 0.0020772088319063187\n",
      "Generating Image Number: 16 for target class tensor([1]). Step 200, Loss: 0.0017176411347463727\n",
      "Generating Image Number: 16 for target class tensor([1]). Step 250, Loss: 0.0014610340585932136\n",
      "Generating Image Number: 16 for target class tensor([1]). Step 300, Loss: 0.0012685356196016073\n",
      "Generating Image Number: 16 for target class tensor([1]). Step 350, Loss: 0.0010798105504363775\n",
      "Generating Image Number: 16 for target class tensor([1]). Step 400, Loss: 0.0009386900928802788\n",
      "Generating Image Number: 16 for target class tensor([1]). Step 450, Loss: 0.0007998128421604633\n",
      "Generating Image Number: 17 for target class tensor([1]). Step 0, Loss: 3.8692047595977783\n",
      "Generating Image Number: 17 for target class tensor([1]). Step 50, Loss: 1.5616295058862306e-05\n",
      "Generating Image Number: 17 for target class tensor([1]). Step 100, Loss: 1.2159273865108844e-05\n",
      "Generating Image Number: 17 for target class tensor([1]). Step 150, Loss: 1.2040065485052764e-05\n",
      "Generating Image Number: 17 for target class tensor([1]). Step 200, Loss: 1.1801649634435307e-05\n",
      "Generating Image Number: 17 for target class tensor([1]). Step 250, Loss: 1.168244216387393e-05\n",
      "Generating Image Number: 17 for target class tensor([1]). Step 300, Loss: 1.156323378381785e-05\n",
      "Generating Image Number: 17 for target class tensor([1]). Step 350, Loss: 1.1444026313256472e-05\n",
      "Generating Image Number: 17 for target class tensor([1]). Step 400, Loss: 1.1205610462639015e-05\n",
      "Generating Image Number: 17 for target class tensor([1]). Step 450, Loss: 1.0967194612021558e-05\n",
      "Generating Image Number: 18 for target class tensor([1]). Step 0, Loss: 0.05731866508722305\n",
      "Generating Image Number: 18 for target class tensor([1]). Step 50, Loss: 0.00020632999076042324\n",
      "Generating Image Number: 18 for target class tensor([1]). Step 100, Loss: 0.00011145447206217796\n",
      "Generating Image Number: 18 for target class tensor([1]). Step 150, Loss: 8.380061626667157e-05\n",
      "Generating Image Number: 18 for target class tensor([1]). Step 200, Loss: 6.603976362384856e-05\n",
      "Generating Image Number: 18 for target class tensor([1]). Step 250, Loss: 5.2569914259947836e-05\n",
      "Generating Image Number: 18 for target class tensor([1]). Step 300, Loss: 4.470248313737102e-05\n",
      "Generating Image Number: 18 for target class tensor([1]). Step 350, Loss: 3.909988299710676e-05\n",
      "Generating Image Number: 18 for target class tensor([1]). Step 400, Loss: 3.480850500636734e-05\n",
      "Generating Image Number: 18 for target class tensor([1]). Step 450, Loss: 3.158996332786046e-05\n",
      "Generating Image Number: 19 for target class tensor([1]). Step 0, Loss: 0.23471149802207947\n",
      "Generating Image Number: 19 for target class tensor([1]). Step 50, Loss: 0.0032946374267339706\n",
      "Generating Image Number: 19 for target class tensor([1]). Step 100, Loss: 0.0014688903465867043\n",
      "Generating Image Number: 19 for target class tensor([1]). Step 150, Loss: 0.0010758809512481093\n",
      "Generating Image Number: 19 for target class tensor([1]). Step 200, Loss: 0.0008896207436919212\n",
      "Generating Image Number: 19 for target class tensor([1]). Step 250, Loss: 0.0007425173535011709\n",
      "Generating Image Number: 19 for target class tensor([1]). Step 300, Loss: 0.0006416169344447553\n",
      "Generating Image Number: 19 for target class tensor([1]). Step 350, Loss: 0.0005678709712810814\n",
      "Generating Image Number: 19 for target class tensor([1]). Step 400, Loss: 0.0005021026590839028\n",
      "Generating Image Number: 19 for target class tensor([1]). Step 450, Loss: 0.00044050050200894475\n",
      "Generating Image Number: 20 for target class tensor([1]). Step 0, Loss: 2.178600788116455\n",
      "Generating Image Number: 20 for target class tensor([1]). Step 50, Loss: 0.009354451671242714\n",
      "Generating Image Number: 20 for target class tensor([1]). Step 100, Loss: 0.0030081281438469887\n",
      "Generating Image Number: 20 for target class tensor([1]). Step 150, Loss: 0.0019330164650455117\n",
      "Generating Image Number: 20 for target class tensor([1]). Step 200, Loss: 0.0013424679636955261\n",
      "Generating Image Number: 20 for target class tensor([1]). Step 250, Loss: 0.001035749795846641\n",
      "Generating Image Number: 20 for target class tensor([1]). Step 300, Loss: 0.0008338788175024092\n",
      "Generating Image Number: 20 for target class tensor([1]). Step 350, Loss: 0.0006441186997108161\n",
      "Generating Image Number: 20 for target class tensor([1]). Step 400, Loss: 0.000542493537068367\n",
      "Generating Image Number: 20 for target class tensor([1]). Step 450, Loss: 0.0004673104267567396\n"
     ]
    }
   ],
   "source": [
    "torch.manual_seed(100)\n",
    "latent_vectors = torch.randn(img_count, z_dim, 1, 1, requires_grad=True) # Start with 20 random noises\n",
    "class1_optimized_latent_vectors = recover_images(img_count, 1, latent_vectors)"
   ]
  },
  {
   "cell_type": "code",
   "execution_count": 28,
   "id": "1c8af686-b1ff-419d-946d-2447773e47c9",
   "metadata": {
    "scrolled": true
   },
   "outputs": [
    {
     "name": "stdout",
     "output_type": "stream",
     "text": [
      "Generating Image Number: 1 for target class tensor([2]). Step 0, Loss: 4.753173828125\n",
      "Generating Image Number: 1 for target class tensor([2]). Step 50, Loss: 0.321609228849411\n",
      "Generating Image Number: 1 for target class tensor([2]). Step 100, Loss: 0.1443520188331604\n",
      "Generating Image Number: 1 for target class tensor([2]). Step 150, Loss: 0.09008529037237167\n",
      "Generating Image Number: 1 for target class tensor([2]). Step 200, Loss: 0.07085629552602768\n",
      "Generating Image Number: 1 for target class tensor([2]). Step 250, Loss: 0.06019705906510353\n",
      "Generating Image Number: 1 for target class tensor([2]). Step 300, Loss: 0.05320969969034195\n",
      "Generating Image Number: 1 for target class tensor([2]). Step 350, Loss: 0.04630543664097786\n",
      "Generating Image Number: 1 for target class tensor([2]). Step 400, Loss: 0.04126417264342308\n",
      "Generating Image Number: 1 for target class tensor([2]). Step 450, Loss: 0.03247733786702156\n",
      "Generating Image Number: 2 for target class tensor([2]). Step 0, Loss: 2.335747241973877\n",
      "Generating Image Number: 2 for target class tensor([2]). Step 50, Loss: 0.007912836968898773\n",
      "Generating Image Number: 2 for target class tensor([2]). Step 100, Loss: 0.005354705266654491\n",
      "Generating Image Number: 2 for target class tensor([2]). Step 150, Loss: 0.0039454251527786255\n",
      "Generating Image Number: 2 for target class tensor([2]). Step 200, Loss: 0.0031148509588092566\n",
      "Generating Image Number: 2 for target class tensor([2]). Step 250, Loss: 0.0025659038219600916\n",
      "Generating Image Number: 2 for target class tensor([2]). Step 300, Loss: 0.0022232832852751017\n",
      "Generating Image Number: 2 for target class tensor([2]). Step 350, Loss: 0.0019703751895576715\n",
      "Generating Image Number: 2 for target class tensor([2]). Step 400, Loss: 0.001787018496543169\n",
      "Generating Image Number: 2 for target class tensor([2]). Step 450, Loss: 0.0016126735135912895\n",
      "Generating Image Number: 3 for target class tensor([2]). Step 0, Loss: 1.343292236328125\n",
      "Generating Image Number: 3 for target class tensor([2]). Step 50, Loss: 0.003965016920119524\n",
      "Generating Image Number: 3 for target class tensor([2]). Step 100, Loss: 0.0012815127847716212\n",
      "Generating Image Number: 3 for target class tensor([2]). Step 150, Loss: 0.0010060969507321715\n",
      "Generating Image Number: 3 for target class tensor([2]). Step 200, Loss: 0.0008384049870073795\n",
      "Generating Image Number: 3 for target class tensor([2]). Step 250, Loss: 0.0007219092221930623\n",
      "Generating Image Number: 3 for target class tensor([2]). Step 300, Loss: 0.0006282739923335612\n",
      "Generating Image Number: 3 for target class tensor([2]). Step 350, Loss: 0.0005631053354591131\n",
      "Generating Image Number: 3 for target class tensor([2]). Step 400, Loss: 0.0005127069307491183\n",
      "Generating Image Number: 3 for target class tensor([2]). Step 450, Loss: 0.00046754872892051935\n",
      "Generating Image Number: 4 for target class tensor([2]). Step 0, Loss: 0.6859007477760315\n",
      "Generating Image Number: 4 for target class tensor([2]). Step 50, Loss: 0.012894818559288979\n",
      "Generating Image Number: 4 for target class tensor([2]). Step 100, Loss: 0.00776711804792285\n",
      "Generating Image Number: 4 for target class tensor([2]). Step 150, Loss: 0.005338223185390234\n",
      "Generating Image Number: 4 for target class tensor([2]). Step 200, Loss: 0.004065463785082102\n",
      "Generating Image Number: 4 for target class tensor([2]). Step 250, Loss: 0.0033454899676144123\n",
      "Generating Image Number: 4 for target class tensor([2]). Step 300, Loss: 0.0029700950253754854\n",
      "Generating Image Number: 4 for target class tensor([2]). Step 350, Loss: 0.0027204668149352074\n",
      "Generating Image Number: 4 for target class tensor([2]). Step 400, Loss: 0.0025420039892196655\n",
      "Generating Image Number: 4 for target class tensor([2]). Step 450, Loss: 0.0024026355240494013\n",
      "Generating Image Number: 5 for target class tensor([2]). Step 0, Loss: 4.622208595275879\n",
      "Generating Image Number: 5 for target class tensor([2]). Step 50, Loss: 0.09177275747060776\n",
      "Generating Image Number: 5 for target class tensor([2]). Step 100, Loss: 0.042796630412340164\n",
      "Generating Image Number: 5 for target class tensor([2]). Step 150, Loss: 0.03059963509440422\n",
      "Generating Image Number: 5 for target class tensor([2]). Step 200, Loss: 0.026146816089749336\n",
      "Generating Image Number: 5 for target class tensor([2]). Step 250, Loss: 0.022572021931409836\n",
      "Generating Image Number: 5 for target class tensor([2]). Step 300, Loss: 0.019985029473900795\n",
      "Generating Image Number: 5 for target class tensor([2]). Step 350, Loss: 0.018198776990175247\n",
      "Generating Image Number: 5 for target class tensor([2]). Step 400, Loss: 0.016597408801317215\n",
      "Generating Image Number: 5 for target class tensor([2]). Step 450, Loss: 0.015255202539265156\n",
      "Generating Image Number: 6 for target class tensor([2]). Step 0, Loss: 0.07281959801912308\n",
      "Generating Image Number: 6 for target class tensor([2]). Step 50, Loss: 0.0025452144909650087\n",
      "Generating Image Number: 6 for target class tensor([2]). Step 100, Loss: 0.0015395942609757185\n",
      "Generating Image Number: 6 for target class tensor([2]). Step 150, Loss: 0.0011162485461682081\n",
      "Generating Image Number: 6 for target class tensor([2]). Step 200, Loss: 0.0009107018122449517\n",
      "Generating Image Number: 6 for target class tensor([2]). Step 250, Loss: 0.0008054111385717988\n",
      "Generating Image Number: 6 for target class tensor([2]). Step 300, Loss: 0.0007164295529946685\n",
      "Generating Image Number: 6 for target class tensor([2]). Step 350, Loss: 0.0006398299592547119\n",
      "Generating Image Number: 6 for target class tensor([2]). Step 400, Loss: 0.0005539313424378633\n",
      "Generating Image Number: 6 for target class tensor([2]). Step 450, Loss: 0.0004891153075732291\n",
      "Generating Image Number: 7 for target class tensor([2]). Step 0, Loss: 3.8728489875793457\n",
      "Generating Image Number: 7 for target class tensor([2]). Step 50, Loss: 0.010176321491599083\n",
      "Generating Image Number: 7 for target class tensor([2]). Step 100, Loss: 0.005662946496158838\n",
      "Generating Image Number: 7 for target class tensor([2]). Step 150, Loss: 0.004531471990048885\n",
      "Generating Image Number: 7 for target class tensor([2]). Step 200, Loss: 0.003949105739593506\n",
      "Generating Image Number: 7 for target class tensor([2]). Step 250, Loss: 0.003447305876761675\n",
      "Generating Image Number: 7 for target class tensor([2]). Step 300, Loss: 0.002970332745462656\n",
      "Generating Image Number: 7 for target class tensor([2]). Step 350, Loss: 0.002611799631267786\n",
      "Generating Image Number: 7 for target class tensor([2]). Step 400, Loss: 0.0023463834077119827\n",
      "Generating Image Number: 7 for target class tensor([2]). Step 450, Loss: 0.0021062351297587156\n",
      "Generating Image Number: 8 for target class tensor([2]). Step 0, Loss: 5.735406398773193\n",
      "Generating Image Number: 8 for target class tensor([2]). Step 50, Loss: 0.1351204514503479\n",
      "Generating Image Number: 8 for target class tensor([2]). Step 100, Loss: 0.0693465918302536\n",
      "Generating Image Number: 8 for target class tensor([2]). Step 150, Loss: 0.05110044777393341\n",
      "Generating Image Number: 8 for target class tensor([2]). Step 200, Loss: 0.03973795846104622\n",
      "Generating Image Number: 8 for target class tensor([2]). Step 250, Loss: 0.031664129346609116\n",
      "Generating Image Number: 8 for target class tensor([2]). Step 300, Loss: 0.02652127295732498\n",
      "Generating Image Number: 8 for target class tensor([2]). Step 350, Loss: 0.022515494376420975\n",
      "Generating Image Number: 8 for target class tensor([2]). Step 400, Loss: 0.01960437372326851\n",
      "Generating Image Number: 8 for target class tensor([2]). Step 450, Loss: 0.017396362498402596\n",
      "Generating Image Number: 9 for target class tensor([2]). Step 0, Loss: 1.2322688102722168\n",
      "Generating Image Number: 9 for target class tensor([2]). Step 50, Loss: 0.04766278341412544\n",
      "Generating Image Number: 9 for target class tensor([2]). Step 100, Loss: 0.02390887401998043\n",
      "Generating Image Number: 9 for target class tensor([2]). Step 150, Loss: 0.013078267686069012\n",
      "Generating Image Number: 9 for target class tensor([2]). Step 200, Loss: 0.008025305345654488\n",
      "Generating Image Number: 9 for target class tensor([2]). Step 250, Loss: 0.006197875365614891\n",
      "Generating Image Number: 9 for target class tensor([2]). Step 300, Loss: 0.00506404135376215\n",
      "Generating Image Number: 9 for target class tensor([2]). Step 350, Loss: 0.004380512051284313\n",
      "Generating Image Number: 9 for target class tensor([2]). Step 400, Loss: 0.003954092971980572\n",
      "Generating Image Number: 9 for target class tensor([2]). Step 450, Loss: 0.003621806390583515\n",
      "Generating Image Number: 10 for target class tensor([2]). Step 0, Loss: 3.3209173679351807\n",
      "Generating Image Number: 10 for target class tensor([2]). Step 50, Loss: 0.46920937299728394\n",
      "Generating Image Number: 10 for target class tensor([2]). Step 100, Loss: 0.23675009608268738\n",
      "Generating Image Number: 10 for target class tensor([2]). Step 150, Loss: 0.15477150678634644\n",
      "Generating Image Number: 10 for target class tensor([2]). Step 200, Loss: 0.11682784557342529\n",
      "Generating Image Number: 10 for target class tensor([2]). Step 250, Loss: 0.09580999612808228\n",
      "Generating Image Number: 10 for target class tensor([2]). Step 300, Loss: 0.08062028139829636\n",
      "Generating Image Number: 10 for target class tensor([2]). Step 350, Loss: 0.05718965083360672\n",
      "Generating Image Number: 10 for target class tensor([2]). Step 400, Loss: 0.0430787019431591\n",
      "Generating Image Number: 10 for target class tensor([2]). Step 450, Loss: 0.036951176822185516\n",
      "Generating Image Number: 11 for target class tensor([2]). Step 0, Loss: 1.195314645767212\n",
      "Generating Image Number: 11 for target class tensor([2]). Step 50, Loss: 0.0024573388509452343\n",
      "Generating Image Number: 11 for target class tensor([2]). Step 100, Loss: 0.0008892634068615735\n",
      "Generating Image Number: 11 for target class tensor([2]). Step 150, Loss: 0.0005530973430722952\n",
      "Generating Image Number: 11 for target class tensor([2]). Step 200, Loss: 0.00040713604539632797\n",
      "Generating Image Number: 11 for target class tensor([2]). Step 250, Loss: 0.00032646095496602356\n",
      "Generating Image Number: 11 for target class tensor([2]). Step 300, Loss: 0.0002723561483435333\n",
      "Generating Image Number: 11 for target class tensor([2]). Step 350, Loss: 0.0002348147245356813\n",
      "Generating Image Number: 11 for target class tensor([2]). Step 400, Loss: 0.0002040654799202457\n",
      "Generating Image Number: 11 for target class tensor([2]). Step 450, Loss: 0.00017832119192462415\n",
      "Generating Image Number: 12 for target class tensor([2]). Step 0, Loss: 0.2881965935230255\n",
      "Generating Image Number: 12 for target class tensor([2]). Step 50, Loss: 0.0011366104008629918\n",
      "Generating Image Number: 12 for target class tensor([2]). Step 100, Loss: 0.0005714452126994729\n",
      "Generating Image Number: 12 for target class tensor([2]). Step 150, Loss: 0.00037281715776771307\n",
      "Generating Image Number: 12 for target class tensor([2]). Step 200, Loss: 0.0002915434306487441\n",
      "Generating Image Number: 12 for target class tensor([2]). Step 250, Loss: 0.0002441108226776123\n",
      "Generating Image Number: 12 for target class tensor([2]). Step 300, Loss: 0.00021062063751742244\n",
      "Generating Image Number: 12 for target class tensor([2]). Step 350, Loss: 0.0001820160250645131\n",
      "Generating Image Number: 12 for target class tensor([2]). Step 400, Loss: 0.00015817821258679032\n",
      "Generating Image Number: 12 for target class tensor([2]). Step 450, Loss: 0.00013886917440686375\n",
      "Generating Image Number: 13 for target class tensor([2]). Step 0, Loss: 1.5418012142181396\n",
      "Generating Image Number: 13 for target class tensor([2]). Step 50, Loss: 0.015494209714233875\n",
      "Generating Image Number: 13 for target class tensor([2]). Step 100, Loss: 0.0069722686894237995\n",
      "Generating Image Number: 13 for target class tensor([2]). Step 150, Loss: 0.004696054384112358\n",
      "Generating Image Number: 13 for target class tensor([2]). Step 200, Loss: 0.003530580550432205\n",
      "Generating Image Number: 13 for target class tensor([2]). Step 250, Loss: 0.002877620980143547\n",
      "Generating Image Number: 13 for target class tensor([2]). Step 300, Loss: 0.002406679093837738\n",
      "Generating Image Number: 13 for target class tensor([2]). Step 350, Loss: 0.0019980960059911013\n",
      "Generating Image Number: 13 for target class tensor([2]). Step 400, Loss: 0.0016692051431164145\n",
      "Generating Image Number: 13 for target class tensor([2]). Step 450, Loss: 0.0014493685448542237\n",
      "Generating Image Number: 14 for target class tensor([2]). Step 0, Loss: 4.324644088745117\n",
      "Generating Image Number: 14 for target class tensor([2]). Step 50, Loss: 0.34504255652427673\n",
      "Generating Image Number: 14 for target class tensor([2]). Step 100, Loss: 0.09299801290035248\n",
      "Generating Image Number: 14 for target class tensor([2]). Step 150, Loss: 0.05242246389389038\n",
      "Generating Image Number: 14 for target class tensor([2]). Step 200, Loss: 0.041759245097637177\n",
      "Generating Image Number: 14 for target class tensor([2]). Step 250, Loss: 0.0336747020483017\n",
      "Generating Image Number: 14 for target class tensor([2]). Step 300, Loss: 0.025879092514514923\n",
      "Generating Image Number: 14 for target class tensor([2]). Step 350, Loss: 0.01834111101925373\n",
      "Generating Image Number: 14 for target class tensor([2]). Step 400, Loss: 0.01492371503263712\n",
      "Generating Image Number: 14 for target class tensor([2]). Step 450, Loss: 0.012649538926780224\n",
      "Generating Image Number: 15 for target class tensor([2]). Step 0, Loss: 0.8147363662719727\n",
      "Generating Image Number: 15 for target class tensor([2]). Step 50, Loss: 0.008432024158537388\n",
      "Generating Image Number: 15 for target class tensor([2]). Step 100, Loss: 0.0047494457103312016\n",
      "Generating Image Number: 15 for target class tensor([2]). Step 150, Loss: 0.0034635812044143677\n",
      "Generating Image Number: 15 for target class tensor([2]). Step 200, Loss: 0.0028130742721259594\n",
      "Generating Image Number: 15 for target class tensor([2]). Step 250, Loss: 0.002380277728661895\n",
      "Generating Image Number: 15 for target class tensor([2]). Step 300, Loss: 0.0020650746300816536\n",
      "Generating Image Number: 15 for target class tensor([2]). Step 350, Loss: 0.001800346071831882\n",
      "Generating Image Number: 15 for target class tensor([2]). Step 400, Loss: 0.001610174193046987\n",
      "Generating Image Number: 15 for target class tensor([2]). Step 450, Loss: 0.0014662717003375292\n",
      "Generating Image Number: 16 for target class tensor([2]). Step 0, Loss: 4.64788818359375\n",
      "Generating Image Number: 16 for target class tensor([2]). Step 50, Loss: 0.3121044337749481\n",
      "Generating Image Number: 16 for target class tensor([2]). Step 100, Loss: 0.10458188503980637\n",
      "Generating Image Number: 16 for target class tensor([2]). Step 150, Loss: 0.05743257701396942\n",
      "Generating Image Number: 16 for target class tensor([2]). Step 200, Loss: 0.033271320164203644\n",
      "Generating Image Number: 16 for target class tensor([2]). Step 250, Loss: 0.019945649430155754\n",
      "Generating Image Number: 16 for target class tensor([2]). Step 300, Loss: 0.012814320623874664\n",
      "Generating Image Number: 16 for target class tensor([2]). Step 350, Loss: 0.010267296805977821\n",
      "Generating Image Number: 16 for target class tensor([2]). Step 400, Loss: 0.008721357211470604\n",
      "Generating Image Number: 16 for target class tensor([2]). Step 450, Loss: 0.007705725263804197\n",
      "Generating Image Number: 17 for target class tensor([2]). Step 0, Loss: 5.16106653213501\n",
      "Generating Image Number: 17 for target class tensor([2]). Step 50, Loss: 0.15344740450382233\n",
      "Generating Image Number: 17 for target class tensor([2]). Step 100, Loss: 0.06444469094276428\n",
      "Generating Image Number: 17 for target class tensor([2]). Step 150, Loss: 0.04238754138350487\n",
      "Generating Image Number: 17 for target class tensor([2]). Step 200, Loss: 0.030560094863176346\n",
      "Generating Image Number: 17 for target class tensor([2]). Step 250, Loss: 0.02445274591445923\n",
      "Generating Image Number: 17 for target class tensor([2]). Step 300, Loss: 0.020686937496066093\n",
      "Generating Image Number: 17 for target class tensor([2]). Step 350, Loss: 0.018074216321110725\n",
      "Generating Image Number: 17 for target class tensor([2]). Step 400, Loss: 0.016115760430693626\n",
      "Generating Image Number: 17 for target class tensor([2]). Step 450, Loss: 0.014715700410306454\n",
      "Generating Image Number: 18 for target class tensor([2]). Step 0, Loss: 5.540194988250732\n",
      "Generating Image Number: 18 for target class tensor([2]). Step 50, Loss: 0.08630851656198502\n",
      "Generating Image Number: 18 for target class tensor([2]). Step 100, Loss: 0.034621935337781906\n",
      "Generating Image Number: 18 for target class tensor([2]). Step 150, Loss: 0.020424991846084595\n",
      "Generating Image Number: 18 for target class tensor([2]). Step 200, Loss: 0.014677522704005241\n",
      "Generating Image Number: 18 for target class tensor([2]). Step 250, Loss: 0.011572258546948433\n",
      "Generating Image Number: 18 for target class tensor([2]). Step 300, Loss: 0.00969003327190876\n",
      "Generating Image Number: 18 for target class tensor([2]). Step 350, Loss: 0.00832421239465475\n",
      "Generating Image Number: 18 for target class tensor([2]). Step 400, Loss: 0.007217997685074806\n",
      "Generating Image Number: 18 for target class tensor([2]). Step 450, Loss: 0.006423777434974909\n",
      "Generating Image Number: 19 for target class tensor([2]). Step 0, Loss: 3.404519557952881\n",
      "Generating Image Number: 19 for target class tensor([2]). Step 50, Loss: 0.06924125552177429\n",
      "Generating Image Number: 19 for target class tensor([2]). Step 100, Loss: 0.028620978817343712\n",
      "Generating Image Number: 19 for target class tensor([2]). Step 150, Loss: 0.016828475520014763\n",
      "Generating Image Number: 19 for target class tensor([2]). Step 200, Loss: 0.012213560752570629\n",
      "Generating Image Number: 19 for target class tensor([2]). Step 250, Loss: 0.009473134763538837\n",
      "Generating Image Number: 19 for target class tensor([2]). Step 300, Loss: 0.007816087454557419\n",
      "Generating Image Number: 19 for target class tensor([2]). Step 350, Loss: 0.006790774408727884\n",
      "Generating Image Number: 19 for target class tensor([2]). Step 400, Loss: 0.006002495065331459\n",
      "Generating Image Number: 19 for target class tensor([2]). Step 450, Loss: 0.005200074519962072\n",
      "Generating Image Number: 20 for target class tensor([2]). Step 0, Loss: 1.4765338897705078\n",
      "Generating Image Number: 20 for target class tensor([2]). Step 50, Loss: 0.05619223415851593\n",
      "Generating Image Number: 20 for target class tensor([2]). Step 100, Loss: 0.02612381987273693\n",
      "Generating Image Number: 20 for target class tensor([2]). Step 150, Loss: 0.014842440374195576\n",
      "Generating Image Number: 20 for target class tensor([2]). Step 200, Loss: 0.010661782696843147\n",
      "Generating Image Number: 20 for target class tensor([2]). Step 250, Loss: 0.008652577176690102\n",
      "Generating Image Number: 20 for target class tensor([2]). Step 300, Loss: 0.007282733917236328\n",
      "Generating Image Number: 20 for target class tensor([2]). Step 350, Loss: 0.00623045489192009\n",
      "Generating Image Number: 20 for target class tensor([2]). Step 400, Loss: 0.005484059453010559\n",
      "Generating Image Number: 20 for target class tensor([2]). Step 450, Loss: 0.004929294344037771\n"
     ]
    }
   ],
   "source": [
    "torch.manual_seed(200)\n",
    "latent_vectors = torch.randn(img_count, z_dim, 1, 1, requires_grad=True) # Start with 20 random noises\n",
    "class2_optimized_latent_vectors = recover_images(img_count, 2, latent_vectors)"
   ]
  },
  {
   "cell_type": "code",
   "execution_count": 29,
   "id": "0381b36d-6c92-43bc-b776-1eefd3eab451",
   "metadata": {
    "scrolled": true
   },
   "outputs": [
    {
     "name": "stdout",
     "output_type": "stream",
     "text": [
      "Generating Image Number: 1 for target class tensor([3]). Step 0, Loss: 0.5773957371711731\n",
      "Generating Image Number: 1 for target class tensor([3]). Step 50, Loss: 0.01294118445366621\n",
      "Generating Image Number: 1 for target class tensor([3]). Step 100, Loss: 0.005129273049533367\n",
      "Generating Image Number: 1 for target class tensor([3]). Step 150, Loss: 0.003107839496806264\n",
      "Generating Image Number: 1 for target class tensor([3]). Step 200, Loss: 0.001891610911116004\n",
      "Generating Image Number: 1 for target class tensor([3]). Step 250, Loss: 0.001168402610346675\n",
      "Generating Image Number: 1 for target class tensor([3]). Step 300, Loss: 0.0009263038518838584\n",
      "Generating Image Number: 1 for target class tensor([3]). Step 350, Loss: 0.0008008848526515067\n",
      "Generating Image Number: 1 for target class tensor([3]). Step 400, Loss: 0.0006990373367443681\n",
      "Generating Image Number: 1 for target class tensor([3]). Step 450, Loss: 0.0006272017490118742\n",
      "Generating Image Number: 2 for target class tensor([3]). Step 0, Loss: 2.5260438919067383\n",
      "Generating Image Number: 2 for target class tensor([3]). Step 50, Loss: 0.04160396754741669\n",
      "Generating Image Number: 2 for target class tensor([3]). Step 100, Loss: 0.0234764963388443\n",
      "Generating Image Number: 2 for target class tensor([3]). Step 150, Loss: 0.018750792369246483\n",
      "Generating Image Number: 2 for target class tensor([3]). Step 200, Loss: 0.015430823899805546\n",
      "Generating Image Number: 2 for target class tensor([3]). Step 250, Loss: 0.0129943722859025\n",
      "Generating Image Number: 2 for target class tensor([3]). Step 300, Loss: 0.011582156643271446\n",
      "Generating Image Number: 2 for target class tensor([3]). Step 350, Loss: 0.010081089101731777\n",
      "Generating Image Number: 2 for target class tensor([3]). Step 400, Loss: 0.008866582065820694\n",
      "Generating Image Number: 2 for target class tensor([3]). Step 450, Loss: 0.007918869145214558\n",
      "Generating Image Number: 3 for target class tensor([3]). Step 0, Loss: 1.3580938577651978\n",
      "Generating Image Number: 3 for target class tensor([3]). Step 50, Loss: 0.011120130307972431\n",
      "Generating Image Number: 3 for target class tensor([3]). Step 100, Loss: 0.005511919967830181\n",
      "Generating Image Number: 3 for target class tensor([3]). Step 150, Loss: 0.004251845646649599\n",
      "Generating Image Number: 3 for target class tensor([3]). Step 200, Loss: 0.003559327218681574\n",
      "Generating Image Number: 3 for target class tensor([3]). Step 250, Loss: 0.00309750041924417\n",
      "Generating Image Number: 3 for target class tensor([3]). Step 300, Loss: 0.0027051304932683706\n",
      "Generating Image Number: 3 for target class tensor([3]). Step 350, Loss: 0.0024650683626532555\n",
      "Generating Image Number: 3 for target class tensor([3]). Step 400, Loss: 0.002227684250101447\n",
      "Generating Image Number: 3 for target class tensor([3]). Step 450, Loss: 0.001854725182056427\n",
      "Generating Image Number: 4 for target class tensor([3]). Step 0, Loss: 3.9827442169189453\n",
      "Generating Image Number: 4 for target class tensor([3]). Step 50, Loss: 0.020898500457406044\n",
      "Generating Image Number: 4 for target class tensor([3]). Step 100, Loss: 0.012264550663530827\n",
      "Generating Image Number: 4 for target class tensor([3]). Step 150, Loss: 0.008765198290348053\n",
      "Generating Image Number: 4 for target class tensor([3]). Step 200, Loss: 0.006521253846585751\n",
      "Generating Image Number: 4 for target class tensor([3]). Step 250, Loss: 0.005229603033512831\n",
      "Generating Image Number: 4 for target class tensor([3]). Step 300, Loss: 0.004469405394047499\n",
      "Generating Image Number: 4 for target class tensor([3]). Step 350, Loss: 0.003907665144652128\n",
      "Generating Image Number: 4 for target class tensor([3]). Step 400, Loss: 0.0034000228624790907\n",
      "Generating Image Number: 4 for target class tensor([3]). Step 450, Loss: 0.0030031364876776934\n",
      "Generating Image Number: 5 for target class tensor([3]). Step 0, Loss: 3.3081212043762207\n",
      "Generating Image Number: 5 for target class tensor([3]). Step 50, Loss: 0.011207366362214088\n",
      "Generating Image Number: 5 for target class tensor([3]). Step 100, Loss: 0.006573955528438091\n",
      "Generating Image Number: 5 for target class tensor([3]). Step 150, Loss: 0.005069378763437271\n",
      "Generating Image Number: 5 for target class tensor([3]). Step 200, Loss: 0.0042922040447592735\n",
      "Generating Image Number: 5 for target class tensor([3]). Step 250, Loss: 0.0037231191527098417\n",
      "Generating Image Number: 5 for target class tensor([3]). Step 300, Loss: 0.0032827556133270264\n",
      "Generating Image Number: 5 for target class tensor([3]). Step 350, Loss: 0.002940261736512184\n",
      "Generating Image Number: 5 for target class tensor([3]). Step 400, Loss: 0.002680401550605893\n",
      "Generating Image Number: 5 for target class tensor([3]). Step 450, Loss: 0.0024335552006959915\n",
      "Generating Image Number: 6 for target class tensor([3]). Step 0, Loss: 0.9495425224304199\n",
      "Generating Image Number: 6 for target class tensor([3]). Step 50, Loss: 0.004293628502637148\n",
      "Generating Image Number: 6 for target class tensor([3]). Step 100, Loss: 0.002100881887599826\n",
      "Generating Image Number: 6 for target class tensor([3]). Step 150, Loss: 0.0014256800059229136\n",
      "Generating Image Number: 6 for target class tensor([3]). Step 200, Loss: 0.0010696887038648129\n",
      "Generating Image Number: 6 for target class tensor([3]). Step 250, Loss: 0.0008476955117657781\n",
      "Generating Image Number: 6 for target class tensor([3]). Step 300, Loss: 0.0007258402765728533\n",
      "Generating Image Number: 6 for target class tensor([3]). Step 350, Loss: 0.0006537684239447117\n",
      "Generating Image Number: 6 for target class tensor([3]). Step 400, Loss: 0.0005924138822592795\n",
      "Generating Image Number: 6 for target class tensor([3]). Step 450, Loss: 0.000533795915544033\n",
      "Generating Image Number: 7 for target class tensor([3]). Step 0, Loss: 9.090949058532715\n",
      "Generating Image Number: 7 for target class tensor([3]). Step 50, Loss: 0.018247120082378387\n",
      "Generating Image Number: 7 for target class tensor([3]). Step 100, Loss: 0.009747054427862167\n",
      "Generating Image Number: 7 for target class tensor([3]). Step 150, Loss: 0.007413022685796022\n",
      "Generating Image Number: 7 for target class tensor([3]). Step 200, Loss: 0.006145508959889412\n",
      "Generating Image Number: 7 for target class tensor([3]). Step 250, Loss: 0.0053811464458703995\n",
      "Generating Image Number: 7 for target class tensor([3]). Step 300, Loss: 0.0046783750876784325\n",
      "Generating Image Number: 7 for target class tensor([3]). Step 350, Loss: 0.004148449748754501\n",
      "Generating Image Number: 7 for target class tensor([3]). Step 400, Loss: 0.003864916041493416\n",
      "Generating Image Number: 7 for target class tensor([3]). Step 450, Loss: 0.0035068225115537643\n",
      "Generating Image Number: 8 for target class tensor([3]). Step 0, Loss: 0.609046459197998\n",
      "Generating Image Number: 8 for target class tensor([3]). Step 50, Loss: 0.006294307764619589\n",
      "Generating Image Number: 8 for target class tensor([3]). Step 100, Loss: 0.0028901018667966127\n",
      "Generating Image Number: 8 for target class tensor([3]). Step 150, Loss: 0.0020772088319063187\n",
      "Generating Image Number: 8 for target class tensor([3]). Step 200, Loss: 0.001645997748710215\n",
      "Generating Image Number: 8 for target class tensor([3]). Step 250, Loss: 0.0014150853967294097\n",
      "Generating Image Number: 8 for target class tensor([3]). Step 300, Loss: 0.001257224939763546\n",
      "Generating Image Number: 8 for target class tensor([3]). Step 350, Loss: 0.0011326810345053673\n",
      "Generating Image Number: 8 for target class tensor([3]). Step 400, Loss: 0.001042775809764862\n",
      "Generating Image Number: 8 for target class tensor([3]). Step 450, Loss: 0.0009573881980031729\n",
      "Generating Image Number: 9 for target class tensor([3]). Step 0, Loss: 3.6009185314178467\n",
      "Generating Image Number: 9 for target class tensor([3]). Step 50, Loss: 0.10168250650167465\n",
      "Generating Image Number: 9 for target class tensor([3]). Step 100, Loss: 0.06044924259185791\n",
      "Generating Image Number: 9 for target class tensor([3]). Step 150, Loss: 0.04751410707831383\n",
      "Generating Image Number: 9 for target class tensor([3]). Step 200, Loss: 0.03894347697496414\n",
      "Generating Image Number: 9 for target class tensor([3]). Step 250, Loss: 0.032860275357961655\n",
      "Generating Image Number: 9 for target class tensor([3]). Step 300, Loss: 0.02855309098958969\n",
      "Generating Image Number: 9 for target class tensor([3]). Step 350, Loss: 0.025325534865260124\n",
      "Generating Image Number: 9 for target class tensor([3]). Step 400, Loss: 0.022851349785923958\n",
      "Generating Image Number: 9 for target class tensor([3]). Step 450, Loss: 0.020580438897013664\n",
      "Generating Image Number: 10 for target class tensor([3]). Step 0, Loss: 0.7171592712402344\n",
      "Generating Image Number: 10 for target class tensor([3]). Step 50, Loss: 0.02618037723004818\n",
      "Generating Image Number: 10 for target class tensor([3]). Step 100, Loss: 0.01240302249789238\n",
      "Generating Image Number: 10 for target class tensor([3]). Step 150, Loss: 0.008095192722976208\n",
      "Generating Image Number: 10 for target class tensor([3]). Step 200, Loss: 0.006069442722946405\n",
      "Generating Image Number: 10 for target class tensor([3]). Step 250, Loss: 0.004982199054211378\n",
      "Generating Image Number: 10 for target class tensor([3]). Step 300, Loss: 0.0041250623762607574\n",
      "Generating Image Number: 10 for target class tensor([3]). Step 350, Loss: 0.0035916364286094904\n",
      "Generating Image Number: 10 for target class tensor([3]). Step 400, Loss: 0.003221681108698249\n",
      "Generating Image Number: 10 for target class tensor([3]). Step 450, Loss: 0.0029214818496257067\n",
      "Generating Image Number: 11 for target class tensor([3]). Step 0, Loss: 0.4060860872268677\n",
      "Generating Image Number: 11 for target class tensor([3]). Step 50, Loss: 0.0015156697481870651\n",
      "Generating Image Number: 11 for target class tensor([3]). Step 100, Loss: 0.0008774721063673496\n",
      "Generating Image Number: 11 for target class tensor([3]). Step 150, Loss: 0.0006667536217719316\n",
      "Generating Image Number: 11 for target class tensor([3]). Step 200, Loss: 0.000536655425094068\n",
      "Generating Image Number: 11 for target class tensor([3]). Step 250, Loss: 0.00045265440712682903\n",
      "Generating Image Number: 11 for target class tensor([3]). Step 300, Loss: 0.0003927174839191139\n",
      "Generating Image Number: 11 for target class tensor([3]). Step 350, Loss: 0.0003457663697190583\n",
      "Generating Image Number: 11 for target class tensor([3]). Step 400, Loss: 0.000303818320389837\n",
      "Generating Image Number: 11 for target class tensor([3]). Step 450, Loss: 0.00027247529942542315\n",
      "Generating Image Number: 12 for target class tensor([3]). Step 0, Loss: 0.11915316432714462\n",
      "Generating Image Number: 12 for target class tensor([3]). Step 50, Loss: 0.0007310817018151283\n",
      "Generating Image Number: 12 for target class tensor([3]). Step 100, Loss: 0.0004465774691198021\n",
      "Generating Image Number: 12 for target class tensor([3]). Step 150, Loss: 0.00037698791129514575\n",
      "Generating Image Number: 12 for target class tensor([3]). Step 200, Loss: 0.00033444532891735435\n",
      "Generating Image Number: 12 for target class tensor([3]). Step 250, Loss: 0.00030298411729745567\n",
      "Generating Image Number: 12 for target class tensor([3]). Step 300, Loss: 0.00027378625236451626\n",
      "Generating Image Number: 12 for target class tensor([3]). Step 350, Loss: 0.00024971229140646756\n",
      "Generating Image Number: 12 for target class tensor([3]). Step 400, Loss: 0.0002277830062666908\n",
      "Generating Image Number: 12 for target class tensor([3]). Step 450, Loss: 0.00020525732543319464\n",
      "Generating Image Number: 13 for target class tensor([3]). Step 0, Loss: 0.010507617145776749\n",
      "Generating Image Number: 13 for target class tensor([3]). Step 50, Loss: 6.341733387671411e-05\n",
      "Generating Image Number: 13 for target class tensor([3]). Step 100, Loss: 3.540453326422721e-05\n",
      "Generating Image Number: 13 for target class tensor([3]). Step 150, Loss: 2.47952248173533e-05\n",
      "Generating Image Number: 13 for target class tensor([3]). Step 200, Loss: 1.9430925021879375e-05\n",
      "Generating Image Number: 13 for target class tensor([3]). Step 250, Loss: 1.645074735279195e-05\n",
      "Generating Image Number: 13 for target class tensor([3]). Step 300, Loss: 1.4185804502631072e-05\n",
      "Generating Image Number: 13 for target class tensor([3]). Step 350, Loss: 1.2516897186287679e-05\n",
      "Generating Image Number: 13 for target class tensor([3]). Step 400, Loss: 1.0371154530730564e-05\n",
      "Generating Image Number: 13 for target class tensor([3]). Step 450, Loss: 8.583032467868179e-06\n",
      "Generating Image Number: 14 for target class tensor([3]). Step 0, Loss: 0.14208711683750153\n",
      "Generating Image Number: 14 for target class tensor([3]). Step 50, Loss: 0.003625488607212901\n",
      "Generating Image Number: 14 for target class tensor([3]). Step 100, Loss: 0.002200802555307746\n",
      "Generating Image Number: 14 for target class tensor([3]). Step 150, Loss: 0.0016477829776704311\n",
      "Generating Image Number: 14 for target class tensor([3]). Step 200, Loss: 0.0012827033642679453\n",
      "Generating Image Number: 14 for target class tensor([3]). Step 250, Loss: 0.0007134514744393528\n",
      "Generating Image Number: 14 for target class tensor([3]). Step 300, Loss: 0.000485183292767033\n",
      "Generating Image Number: 14 for target class tensor([3]). Step 350, Loss: 0.00038485272671096027\n",
      "Generating Image Number: 14 for target class tensor([3]). Step 400, Loss: 0.0003232433518860489\n",
      "Generating Image Number: 14 for target class tensor([3]). Step 450, Loss: 0.00028975578607060015\n",
      "Generating Image Number: 15 for target class tensor([3]). Step 0, Loss: 2.632087469100952\n",
      "Generating Image Number: 15 for target class tensor([3]). Step 50, Loss: 0.1512313187122345\n",
      "Generating Image Number: 15 for target class tensor([3]). Step 100, Loss: 0.0763278603553772\n",
      "Generating Image Number: 15 for target class tensor([3]). Step 150, Loss: 0.04285864531993866\n",
      "Generating Image Number: 15 for target class tensor([3]). Step 200, Loss: 0.03263438493013382\n",
      "Generating Image Number: 15 for target class tensor([3]). Step 250, Loss: 0.027107931673526764\n",
      "Generating Image Number: 15 for target class tensor([3]). Step 300, Loss: 0.023776059970259666\n",
      "Generating Image Number: 15 for target class tensor([3]). Step 350, Loss: 0.021363498643040657\n",
      "Generating Image Number: 15 for target class tensor([3]). Step 400, Loss: 0.019422117620706558\n",
      "Generating Image Number: 15 for target class tensor([3]). Step 450, Loss: 0.017753617838025093\n",
      "Generating Image Number: 16 for target class tensor([3]). Step 0, Loss: 6.705200672149658\n",
      "Generating Image Number: 16 for target class tensor([3]). Step 50, Loss: 0.6005818247795105\n",
      "Generating Image Number: 16 for target class tensor([3]). Step 100, Loss: 0.32950878143310547\n",
      "Generating Image Number: 16 for target class tensor([3]). Step 150, Loss: 0.21770207583904266\n",
      "Generating Image Number: 16 for target class tensor([3]). Step 200, Loss: 0.16349346935749054\n",
      "Generating Image Number: 16 for target class tensor([3]). Step 250, Loss: 0.1156761646270752\n",
      "Generating Image Number: 16 for target class tensor([3]). Step 300, Loss: 0.09588862955570221\n",
      "Generating Image Number: 16 for target class tensor([3]). Step 350, Loss: 0.07960139214992523\n",
      "Generating Image Number: 16 for target class tensor([3]). Step 400, Loss: 0.0662655383348465\n",
      "Generating Image Number: 16 for target class tensor([3]). Step 450, Loss: 0.050453465431928635\n",
      "Generating Image Number: 17 for target class tensor([3]). Step 0, Loss: 0.005274428054690361\n",
      "Generating Image Number: 17 for target class tensor([3]). Step 50, Loss: 1.7762025890988298e-05\n",
      "Generating Image Number: 17 for target class tensor([3]). Step 100, Loss: 9.298280929215252e-06\n",
      "Generating Image Number: 17 for target class tensor([3]). Step 150, Loss: 6.6756979322235566e-06\n",
      "Generating Image Number: 17 for target class tensor([3]). Step 200, Loss: 5.364403477869928e-06\n",
      "Generating Image Number: 17 for target class tensor([3]). Step 250, Loss: 4.6491513785440475e-06\n",
      "Generating Image Number: 17 for target class tensor([3]). Step 300, Loss: 4.0531076592742465e-06\n",
      "Generating Image Number: 17 for target class tensor([3]). Step 350, Loss: 3.576272320060525e-06\n",
      "Generating Image Number: 17 for target class tensor([3]). Step 400, Loss: 3.2186455882765586e-06\n",
      "Generating Image Number: 17 for target class tensor([3]). Step 450, Loss: 2.861018856492592e-06\n",
      "Generating Image Number: 18 for target class tensor([3]). Step 0, Loss: 0.49403637647628784\n",
      "Generating Image Number: 18 for target class tensor([3]). Step 50, Loss: 0.00266304356046021\n",
      "Generating Image Number: 18 for target class tensor([3]). Step 100, Loss: 0.0016884845681488514\n",
      "Generating Image Number: 18 for target class tensor([3]). Step 150, Loss: 0.0013222293928265572\n",
      "Generating Image Number: 18 for target class tensor([3]). Step 200, Loss: 0.0010900514898821712\n",
      "Generating Image Number: 18 for target class tensor([3]). Step 250, Loss: 0.000912250077817589\n",
      "Generating Image Number: 18 for target class tensor([3]). Step 300, Loss: 0.0008008848526515067\n",
      "Generating Image Number: 18 for target class tensor([3]). Step 350, Loss: 0.0007152383332140744\n",
      "Generating Image Number: 18 for target class tensor([3]). Step 400, Loss: 0.0006413786904886365\n",
      "Generating Image Number: 18 for target class tensor([3]). Step 450, Loss: 0.0005710878176614642\n",
      "Generating Image Number: 19 for target class tensor([3]). Step 0, Loss: 0.2516586184501648\n",
      "Generating Image Number: 19 for target class tensor([3]). Step 50, Loss: 0.0009732277248986065\n",
      "Generating Image Number: 19 for target class tensor([3]). Step 100, Loss: 0.0005958688561804593\n",
      "Generating Image Number: 19 for target class tensor([3]). Step 150, Loss: 0.0003805628512054682\n",
      "Generating Image Number: 19 for target class tensor([3]). Step 200, Loss: 0.00027843413408845663\n",
      "Generating Image Number: 19 for target class tensor([3]). Step 250, Loss: 0.00023231192608363926\n",
      "Generating Image Number: 19 for target class tensor([3]). Step 300, Loss: 0.0002002515539061278\n",
      "Generating Image Number: 19 for target class tensor([3]). Step 350, Loss: 0.00017629499780014157\n",
      "Generating Image Number: 19 for target class tensor([3]). Step 400, Loss: 0.00015948931104503572\n",
      "Generating Image Number: 19 for target class tensor([3]). Step 450, Loss: 0.00014375607133843005\n",
      "Generating Image Number: 20 for target class tensor([3]). Step 0, Loss: 1.5957952737808228\n",
      "Generating Image Number: 20 for target class tensor([3]). Step 50, Loss: 0.002247072057798505\n",
      "Generating Image Number: 20 for target class tensor([3]). Step 100, Loss: 0.0015349523164331913\n",
      "Generating Image Number: 20 for target class tensor([3]). Step 150, Loss: 0.0011597104603424668\n",
      "Generating Image Number: 20 for target class tensor([3]). Step 200, Loss: 0.0009631047723814845\n",
      "Generating Image Number: 20 for target class tensor([3]). Step 250, Loss: 0.0008506731828674674\n",
      "Generating Image Number: 20 for target class tensor([3]). Step 300, Loss: 0.0007427555974572897\n",
      "Generating Image Number: 20 for target class tensor([3]). Step 350, Loss: 0.0006192197324708104\n",
      "Generating Image Number: 20 for target class tensor([3]). Step 400, Loss: 0.0005072260973975062\n",
      "Generating Image Number: 20 for target class tensor([3]). Step 450, Loss: 0.00044550508027896285\n"
     ]
    }
   ],
   "source": [
    "torch.manual_seed(300)\n",
    "latent_vectors = torch.randn(img_count, z_dim, 1, 1, requires_grad=True) # Start with 20 random noises\n",
    "class3_optimized_latent_vectors = recover_images(img_count, 3, latent_vectors)"
   ]
  },
  {
   "cell_type": "code",
   "execution_count": 30,
   "id": "ae6425a5-dd86-4e87-8112-883336345ac9",
   "metadata": {},
   "outputs": [],
   "source": [
    "z0_1 = class0_optimized_latent_vectors[0]\n",
    "z0_2 = class0_optimized_latent_vectors[1]\n",
    "z0_3 = class0_optimized_latent_vectors[2]"
   ]
  },
  {
   "cell_type": "code",
   "execution_count": 31,
   "id": "3a6ed4fb-b693-4963-afcf-17a512e50b5f",
   "metadata": {},
   "outputs": [
    {
     "name": "stdout",
     "output_type": "stream",
     "text": [
      "torch.Size([64, 64])\n"
     ]
    }
   ],
   "source": [
    "# Display the generated image\n",
    "img = gen(z0_1.to(device)).squeeze(dim=0).squeeze(dim=0)\n",
    "print(img.shape)"
   ]
  },
  {
   "cell_type": "code",
   "execution_count": 32,
   "id": "88fc9416-c6ca-486b-bd72-63885de78d1c",
   "metadata": {},
   "outputs": [
    {
     "data": {
      "text/plain": [
       "<matplotlib.image.AxesImage at 0x27c00016b80>"
      ]
     },
     "execution_count": 32,
     "metadata": {},
     "output_type": "execute_result"
    },
    {
     "data": {
      "image/png": "[encoded data removed]",
      "text/plain": [
       "<Figure size 640x480 with 1 Axes>"
      ]
     },
     "metadata": {},
     "output_type": "display_data"
    }
   ],
   "source": [
    "plt.axis(False)\n",
    "plt.title('Recovered Image:')\n",
    "plt.imshow(img.cpu().detach(), cmap='gray')"
   ]
  },
  {
   "cell_type": "code",
   "execution_count": 33,
   "id": "bb0fc370-78c5-495f-b1e7-1239873b4ff8",
   "metadata": {},
   "outputs": [],
   "source": [
    "z1 = class1_optimized_latent_vectors[0]\n",
    "z2 = class1_optimized_latent_vectors[1]\n",
    "z3 = class1_optimized_latent_vectors[2]"
   ]
  },
  {
   "cell_type": "code",
   "execution_count": 34,
   "id": "07f38b7d-14f6-4d63-9efa-cb96ec2e1d35",
   "metadata": {},
   "outputs": [
    {
     "name": "stdout",
     "output_type": "stream",
     "text": [
      "torch.Size([64, 64])\n"
     ]
    }
   ],
   "source": [
    "# Display the generated image\n",
    "img = gen(z1.to(device)).squeeze(dim=0).squeeze(dim=0)\n",
    "print(img.shape)"
   ]
  },
  {
   "cell_type": "code",
   "execution_count": 35,
   "id": "8cad57ff-7961-4078-9dd4-1e0b4879ff56",
   "metadata": {},
   "outputs": [
    {
     "data": {
      "text/plain": [
       "<matplotlib.image.AxesImage at 0x27c54eea4f0>"
      ]
     },
     "execution_count": 35,
     "metadata": {},
     "output_type": "execute_result"
    },
    {
     "data": {
      "image/png": "[encoded data removed]",
      "text/plain": [
       "<Figure size 640x480 with 1 Axes>"
      ]
     },
     "metadata": {},
     "output_type": "display_data"
    }
   ],
   "source": [
    "plt.axis(False)\n",
    "plt.title('Recovered Image:')\n",
    "plt.imshow(img.cpu().detach(), cmap='gray')"
   ]
  },
  {
   "cell_type": "code",
   "execution_count": 36,
   "id": "52ecd67d-cb2d-44a3-b375-759d63db75b1",
   "metadata": {},
   "outputs": [],
   "source": [
    "                                                            # Dataset Loading\n",
    "# Load the .pkl files in as numpy arrays of pixels\n",
    "def load_tumor_data(file_path):\n",
    "    train_xs = []\n",
    "    train_ys = []\n",
    "    \"\"\" Load Digits Data from pickle data\n",
    "    return:\n",
    "    @xs: numpy.array, (n, c, w, h) \n",
    "    @ys: numpy.array, (n, ), 0-9\n",
    "    \"\"\"\n",
    "    with open(file_path, 'rb') as file:\n",
    "        data = pickle.load(file)\n",
    "        train_xs.append(data[\"data\"])\n",
    "        train_ys.append(data[\"labels\"])\n",
    "    train_xs = np.concatenate(train_xs, axis=0)\n",
    "    train_ys = np.concatenate(train_ys, axis=0)\n",
    "    \n",
    "    return train_xs, train_ys"
   ]
  },
  {
   "cell_type": "code",
   "execution_count": 37,
   "id": "ca72f62f-1eec-4b17-a8ce-fd66781f64f6",
   "metadata": {},
   "outputs": [],
   "source": [
    "# Custom Tumor Dataset\n",
    "class TumorDataset(data.Dataset):\n",
    "    def __init__(self, xs, ys, is_train=True):\n",
    "        self.xs = xs\n",
    "        self.ys = ys\n",
    "\n",
    "        if is_train is True:\n",
    "            self.transform = transforms.Compose([\n",
    "                transforms.ToPILImage(),\n",
    "                transforms.Resize((64, 64)),\n",
    "                transforms.ToTensor(),\n",
    "                transforms.Normalize(\n",
    "                    [0.5],\n",
    "                    [0.5]\n",
    "                )\n",
    "            ])\n",
    "        else:\n",
    "            self.transform = transforms.Compose([\n",
    "                transforms.ToPILImage(),\n",
    "                transforms.Resize((64, 64)),\n",
    "                transforms.ToTensor(),\n",
    "                transforms.Normalize(\n",
    "                    (0.4914, 0.4822, 0.4465),\n",
    "                    (0.2023, 0.1994, 0.2010)\n",
    "                )\n",
    "            ])\n",
    "\n",
    "    def __len__(self):\n",
    "        return len(self.xs)\n",
    "\n",
    "    def __getitem__(self, index):\n",
    "        img = self.xs[index]\n",
    "        #print(img.shape)\n",
    "        label = self.ys[index]\n",
    "\n",
    "        img = img.transpose((1, 2, 0)).astype(np.uint8)\n",
    "        img = self.transform(img)\n",
    "\n",
    "        img = torch.FloatTensor(img)\n",
    "        label = torch.LongTensor([label])[0]\n",
    "        return img, label"
   ]
  },
  {
   "cell_type": "code",
   "execution_count": 38,
   "id": "ceb91588-ef69-4373-b33f-74aed6c246bb",
   "metadata": {},
   "outputs": [],
   "source": [
    "def create_dataset(train_xs, train_ys):\n",
    "    tumor_dataset = TumorDataset(train_xs, train_ys, is_train=True)\n",
    "\n",
    "    return tumor_dataset"
   ]
  },
  {
   "cell_type": "code",
   "execution_count": 39,
   "id": "0415fba0-830c-42c6-bbde-c6958e779fbb",
   "metadata": {},
   "outputs": [],
   "source": [
    "def create_dataloader(dataset):\n",
    "    dataloader = DataLoader(dataset=dataset, batch_size=128, shuffle=True)\n",
    "\n",
    "    return dataloader"
   ]
  },
  {
   "cell_type": "code",
   "execution_count": 40,
   "id": "726d4995-5133-4037-ab0e-f2705470cdc9",
   "metadata": {},
   "outputs": [
    {
     "name": "stdout",
     "output_type": "stream",
     "text": [
      "(13927, 1, 32, 32)\n",
      "<class 'numpy.ndarray'>\n"
     ]
    }
   ],
   "source": [
    "# Load in the pickle dataset file\n",
    "train_xs, train_ys = load_tumor_data('datasets/Tumor/tumor4train.pkl')\n",
    "#train_xs = train_xs[:, 1, :, :]\n",
    "#train_xs = np.expand_dims(train_xs, axis=1)\n",
    "train_xs = train_xs.mean(axis=1, keepdims=True)\n",
    "print(train_xs.shape)\n",
    "print(type(train_xs))"
   ]
  },
  {
   "cell_type": "code",
   "execution_count": 41,
   "id": "a684b01a-eb4a-4210-9f59-d613085a404a",
   "metadata": {},
   "outputs": [],
   "source": [
    "# Create the dataset\n",
    "tumor_dataset = create_dataset(train_xs, train_ys)"
   ]
  },
  {
   "cell_type": "code",
   "execution_count": 42,
   "id": "193f07cc-d34f-425e-aa08-62b6d6adbad6",
   "metadata": {},
   "outputs": [],
   "source": [
    "def visualize_image(image_x):\n",
    "    # We have to visualize by reverting the normalization (just for visualization).\n",
    "    mean = torch.tensor([0.5])\n",
    "    std = torch.tensor([0.5])\n",
    "\n",
    "    image = image_x * std + mean  # Denormalize the image\n",
    "\n",
    "    image = torch.clamp(image, 0, 1) # Clip values to [0, 1] to ensure valid range for display\n",
    "\n",
    "    # Permute the image to (H, W, C) for matplotlib\n",
    "    \n",
    "    image = image.permute(1, 2, 0)\n",
    "\n",
    "    plt.imshow(image, cmap='gray')"
   ]
  },
  {
   "cell_type": "code",
   "execution_count": 43,
   "id": "16e93c17-a89b-46a2-8198-71e66e370f4f",
   "metadata": {},
   "outputs": [
    {
     "name": "stdout",
     "output_type": "stream",
     "text": [
      "torch.Size([1, 64, 64])\n"
     ]
    },
    {
     "data": {
      "image/png": "[encoded data removed]",
      "text/plain": [
       "<Figure size 640x480 with 1 Axes>"
      ]
     },
     "metadata": {},
     "output_type": "display_data"
    }
   ],
   "source": [
    "# Visualize the first tumor sample. \n",
    "image_x, image_y = tumor_dataset[7000]\n",
    "print(image_x.shape)\n",
    "visualize_image(image_x)"
   ]
  },
  {
   "cell_type": "code",
   "execution_count": 44,
   "id": "60e2da47-7cb6-493e-aeda-aa80d7965de7",
   "metadata": {},
   "outputs": [],
   "source": [
    "from scipy.spatial.distance import cosine"
   ]
  },
  {
   "cell_type": "code",
   "execution_count": 45,
   "id": "5a7937e5-b808-4b3e-8288-75dcd9862340",
   "metadata": {},
   "outputs": [],
   "source": [
    "# Get the feature embeddings\n",
    "tfcnn_model = target_model = load_target_model(base_net='TFCNN', n_classes=4, path='saved models/fedavg_global_model.pth').to(device)\n",
    "model_embeddings = tfcnn_model.encoder.to(device)"
   ]
  },
  {
   "cell_type": "code",
   "execution_count": 46,
   "id": "737e3d92-45b6-45f6-9bf2-d51f379d6ac8",
   "metadata": {},
   "outputs": [],
   "source": [
    "# Preprocessing\n",
    "preprocess = transforms.Compose([\n",
    "    transforms.Resize(256),\n",
    "    transforms.CenterCrop(224),\n",
    "    transforms.ToTensor(),\n",
    "])"
   ]
  },
  {
   "cell_type": "code",
   "execution_count": 47,
   "id": "babb1015-bdfb-439b-bea1-81f9f50dd74e",
   "metadata": {},
   "outputs": [],
   "source": [
    "def get_feature(img):\n",
    "    with torch.no_grad():\n",
    "        features = model_embeddings(img).squeeze()\n",
    "    return features.cpu().numpy()"
   ]
  },
  {
   "cell_type": "code",
   "execution_count": 48,
   "id": "79f38654-6670-440d-a322-b2cae18a71d8",
   "metadata": {},
   "outputs": [
    {
     "data": {
      "text/plain": [
       "torch.Size([1, 64, 64])"
      ]
     },
     "execution_count": 48,
     "metadata": {},
     "output_type": "execute_result"
    }
   ],
   "source": [
    "# Send an original image through the model\n",
    "image_x, image_y = tumor_dataset[10]\n",
    "image_x.shape"
   ]
  },
  {
   "cell_type": "code",
   "execution_count": 49,
   "id": "a4a2659e-dcaa-4d4a-b5a5-06b363ce6534",
   "metadata": {},
   "outputs": [],
   "source": [
    "image_x = image_x.unsqueeze(dim=0)"
   ]
  },
  {
   "cell_type": "code",
   "execution_count": 50,
   "id": "14348bfc-5988-48f0-88cf-4761d7a99d89",
   "metadata": {},
   "outputs": [
    {
     "data": {
      "text/plain": [
       "torch.Size([1, 1, 64, 64])"
      ]
     },
     "execution_count": 50,
     "metadata": {},
     "output_type": "execute_result"
    }
   ],
   "source": [
    "image_x.shape"
   ]
  },
  {
   "cell_type": "code",
   "execution_count": 51,
   "id": "66160253-9543-4aba-bb81-031d51ef9623",
   "metadata": {},
   "outputs": [
    {
     "data": {
      "text/plain": [
       "torch.Size([1, 3, 64, 64])"
      ]
     },
     "execution_count": 51,
     "metadata": {},
     "output_type": "execute_result"
    }
   ],
   "source": [
    "image_x = image_x.repeat(1, 3, 1, 1)\n",
    "image_x = image_x.to(device)\n",
    "image_x.shape"
   ]
  },
  {
   "cell_type": "code",
   "execution_count": 52,
   "id": "f615c7d3-2dab-425d-81e1-2595ec59e230",
   "metadata": {},
   "outputs": [
    {
     "data": {
      "text/plain": [
       "(4096,)"
      ]
     },
     "execution_count": 52,
     "metadata": {},
     "output_type": "execute_result"
    }
   ],
   "source": [
    "features = get_feature(image_x)\n",
    "features.shape"
   ]
  },
  {
   "cell_type": "code",
   "execution_count": 53,
   "id": "31b9ddc9-3fc8-4a47-bfc7-74a6df27d672",
   "metadata": {},
   "outputs": [],
   "source": [
    "class0_original_images = []\n",
    "class1_original_images = []\n",
    "class2_original_images = []\n",
    "class3_original_images = []\n",
    "target_num = 20 # 20 images for each class"
   ]
  },
  {
   "cell_type": "code",
   "execution_count": 54,
   "id": "e804c948-2dc8-41df-a633-113300baf12a",
   "metadata": {},
   "outputs": [],
   "source": [
    "for i in range(len(tumor_dataset)):\n",
    "    img_x, img_y = tumor_dataset[i]\n",
    "\n",
    "    if img_y == 0:\n",
    "        if len(class0_original_images) < target_num:\n",
    "            class0_original_images.append(img_x)\n",
    "    elif img_y == 1:\n",
    "        if len(class1_original_images) < target_num:\n",
    "            class1_original_images.append(img_x)\n",
    "    elif img_y == 2:\n",
    "        if len(class2_original_images) < target_num:\n",
    "            class2_original_images.append(img_x)\n",
    "    elif img_y == 3:\n",
    "        if len(class3_original_images) < target_num:\n",
    "            class3_original_images.append(img_x)"
   ]
  },
  {
   "cell_type": "code",
   "execution_count": 55,
   "id": "ef07c896-c4cd-48da-9e59-c9d7bd90a4e8",
   "metadata": {},
   "outputs": [
    {
     "data": {
      "text/plain": [
       "20"
      ]
     },
     "execution_count": 55,
     "metadata": {},
     "output_type": "execute_result"
    }
   ],
   "source": [
    "len(class3_original_images)"
   ]
  },
  {
   "cell_type": "code",
   "execution_count": 56,
   "id": "e102404a-68a3-40c5-99a7-45813eb87f20",
   "metadata": {},
   "outputs": [
    {
     "data": {
      "text/plain": [
       "torch.Size([1, 3, 64, 64])"
      ]
     },
     "execution_count": 56,
     "metadata": {},
     "output_type": "execute_result"
    }
   ],
   "source": [
    "# Testing the cosine similarity\n",
    "class1_original_image = class1_original_images[8]\n",
    "class1_original_image = class1_original_image.unsqueeze(dim=0).to(device)\n",
    "class1_original_image = class1_original_image.repeat(1, 3, 1, 1)\n",
    "class1_original_image.shape"
   ]
  },
  {
   "cell_type": "code",
   "execution_count": 57,
   "id": "d7fe9c85-2c83-4580-be7d-32833b706948",
   "metadata": {},
   "outputs": [],
   "source": [
    "fake1 = class1_optimized_latent_vectors[8]\n",
    "fake1_image = gen(fake1.to(device))\n",
    "fake1_image = fake1_image.repeat(1, 3, 1, 1)"
   ]
  },
  {
   "cell_type": "code",
   "execution_count": 58,
   "id": "74647152-cdcb-4593-a88f-d3ac43fd97d3",
   "metadata": {},
   "outputs": [
    {
     "data": {
      "text/plain": [
       "torch.Size([1, 3, 64, 64])"
      ]
     },
     "execution_count": 58,
     "metadata": {},
     "output_type": "execute_result"
    }
   ],
   "source": [
    "fake1_image.shape"
   ]
  },
  {
   "cell_type": "code",
   "execution_count": 59,
   "id": "e88f6396-0ef2-45f5-96e0-6048be01af25",
   "metadata": {},
   "outputs": [],
   "source": [
    "# Get the features of the images\n",
    "features_original = get_feature(class1_original_image)\n",
    "features_fake = get_feature(fake1_image)"
   ]
  },
  {
   "cell_type": "code",
   "execution_count": 60,
   "id": "b54e2bca-5f2b-41ea-b810-15d1f9d30f86",
   "metadata": {},
   "outputs": [],
   "source": [
    "# Compute cosine similarity\n",
    "similarity = 1 - cosine(features_original, features_fake)"
   ]
  },
  {
   "cell_type": "code",
   "execution_count": 61,
   "id": "983c7e35-27ee-453c-9356-cb9a84fdd4a3",
   "metadata": {},
   "outputs": [
    {
     "data": {
      "text/plain": [
       "np.float32(0.31079966)"
      ]
     },
     "execution_count": 61,
     "metadata": {},
     "output_type": "execute_result"
    }
   ],
   "source": [
    "similarity"
   ]
  },
  {
   "cell_type": "code",
   "execution_count": 62,
   "id": "e65e04e8-52b7-4cf2-876c-d9b07a435ec9",
   "metadata": {},
   "outputs": [],
   "source": [
    "def calculate_class0_sim():\n",
    "    similarities = []\n",
    "    for i in range(0, 20):\n",
    "        class0_original = class0_original_images[i].unsqueeze(dim=0).to(device)\n",
    "        class0_original = class0_original.repeat(1, 3, 1, 1)\n",
    "\n",
    "        class0_fake = class0_optimized_latent_vectors[i]\n",
    "        class0_fake_img = gen(class0_fake.to(device))\n",
    "        class0_fake_img = class0_fake_img.repeat(1, 3, 1, 1)\n",
    "\n",
    "        features_original = get_feature(class0_original)\n",
    "        features_fake = get_feature(class0_fake_img)\n",
    "\n",
    "        cosine_similarity = 1 - cosine(features_original, features_fake)\n",
    "\n",
    "        similarities.append(cosine_similarity)\n",
    "        \n",
    "    return similarities"
   ]
  },
  {
   "cell_type": "code",
   "execution_count": 63,
   "id": "10d8f579-0b80-4157-b59b-7b92be9e52f2",
   "metadata": {},
   "outputs": [],
   "source": [
    "def calculate_class1_sim():\n",
    "    similarities = []\n",
    "    for i in range(0, 20):\n",
    "        class1_original = class1_original_images[i].unsqueeze(dim=0).to(device)\n",
    "        class1_original = class1_original.repeat(1, 3, 1, 1)\n",
    "\n",
    "        class1_fake = class1_optimized_latent_vectors[i]\n",
    "        class1_fake_img = gen(class1_fake.to(device))\n",
    "        class1_fake_img = class1_fake_img.repeat(1, 3, 1, 1)\n",
    "\n",
    "        features_original = get_feature(class1_original)\n",
    "        features_fake = get_feature(class1_fake_img)\n",
    "\n",
    "        cosine_similarity = 1 - cosine(features_original, features_fake)\n",
    "        similarities.append(cosine_similarity)\n",
    "\n",
    "    return similarities"
   ]
  },
  {
   "cell_type": "code",
   "execution_count": 64,
   "id": "1bbdc999-fa6d-4005-b785-3c54a7bd89ee",
   "metadata": {},
   "outputs": [],
   "source": [
    "def calculate_class2_sim():\n",
    "    similarities = []\n",
    "    for i in range(0, 20):\n",
    "        class2_original = class2_original_images[i].unsqueeze(dim=0).to(device)\n",
    "        class2_original = class2_original.repeat(1, 3, 1, 1)\n",
    "\n",
    "        class2_fake = class2_optimized_latent_vectors[i]\n",
    "        class2_fake_img = gen(class2_fake.to(device))\n",
    "        class2_fake_img = class2_fake_img.repeat(1, 3, 1, 1)\n",
    "\n",
    "        features_original = get_feature(class2_original)\n",
    "        features_fake = get_feature(class2_fake_img)\n",
    "\n",
    "        cosine_similarity = 1 - cosine(features_original, features_fake)\n",
    "        similarities.append(cosine_similarity)\n",
    "\n",
    "    return similarities"
   ]
  },
  {
   "cell_type": "code",
   "execution_count": 65,
   "id": "33cb8de1-5a87-4dd4-8fc2-d3f27d6ddc9a",
   "metadata": {},
   "outputs": [],
   "source": [
    "def calculate_class3_sim():\n",
    "    similarities = []\n",
    "    for i in range(0, 20):\n",
    "        class3_original = class3_original_images[i].unsqueeze(dim=0).to(device)\n",
    "        class3_original = class3_original.repeat(1, 3, 1, 1)\n",
    "\n",
    "        class3_fake = class3_optimized_latent_vectors[i]\n",
    "        class3_fake_img = gen(class3_fake.to(device))\n",
    "        class3_fake_img = class3_fake_img.repeat(1, 3, 1, 1)\n",
    "\n",
    "        features_original = get_feature(class3_original)\n",
    "        features_fake = get_feature(class3_fake_img)\n",
    "\n",
    "        cosine_similarity = 1 - cosine(features_original, features_fake)\n",
    "        similarities.append(cosine_similarity)\n",
    "\n",
    "    return similarities"
   ]
  },
  {
   "cell_type": "code",
   "execution_count": 66,
   "id": "7868f175-5845-4ee4-b4cf-1c89513375ec",
   "metadata": {},
   "outputs": [],
   "source": [
    "class0_sims = calculate_class0_sim()\n",
    "class1_sims = calculate_class0_sim()\n",
    "class2_sims = calculate_class0_sim()\n",
    "class3_sims = calculate_class0_sim()"
   ]
  },
  {
   "cell_type": "code",
   "execution_count": 67,
   "id": "bbf4597d-a583-4204-a3ce-9085936e0189",
   "metadata": {},
   "outputs": [
    {
     "data": {
      "text/plain": [
       "[np.float32(0.27501023),\n",
       " np.float32(0.34416473),\n",
       " np.float32(0.27307427),\n",
       " np.float32(0.32048547),\n",
       " np.float32(0.22351396),\n",
       " np.float32(0.4125042),\n",
       " np.float32(0.20725214),\n",
       " np.float32(0.35783535),\n",
       " np.float32(0.425151),\n",
       " np.float32(0.27823532),\n",
       " np.float32(0.4095149),\n",
       " np.float32(0.29026735),\n",
       " np.float32(0.39925706),\n",
       " np.float32(0.32008857),\n",
       " np.float32(0.38158906),\n",
       " np.float32(0.44531876),\n",
       " np.float32(0.44554722),\n",
       " np.float32(0.33217347),\n",
       " np.float32(0.2716192),\n",
       " np.float32(0.2541002)]"
      ]
     },
     "execution_count": 67,
     "metadata": {},
     "output_type": "execute_result"
    }
   ],
   "source": [
    "class0_sims"
   ]
  },
  {
   "cell_type": "code",
   "execution_count": 68,
   "id": "acb9d480-a58f-4ce6-8973-eb9c8d6e7253",
   "metadata": {},
   "outputs": [
    {
     "data": {
      "text/plain": [
       "[np.float32(0.2750101),\n",
       " np.float32(0.34416503),\n",
       " np.float32(0.27307427),\n",
       " np.float32(0.32048494),\n",
       " np.float32(0.22351396),\n",
       " np.float32(0.4125042),\n",
       " np.float32(0.20725214),\n",
       " np.float32(0.35783535),\n",
       " np.float32(0.42515063),\n",
       " np.float32(0.27823532),\n",
       " np.float32(0.40951478),\n",
       " np.float32(0.29026747),\n",
       " np.float32(0.39925706),\n",
       " np.float32(0.32008857),\n",
       " np.float32(0.38158906),\n",
       " np.float32(0.4453187),\n",
       " np.float32(0.4455464),\n",
       " np.float32(0.33217347),\n",
       " np.float32(0.2716192),\n",
       " np.float32(0.2541002)]"
      ]
     },
     "execution_count": 68,
     "metadata": {},
     "output_type": "execute_result"
    }
   ],
   "source": [
    "class3_sims"
   ]
  },
  {
   "cell_type": "code",
   "execution_count": 69,
   "id": "58dc103d-1c30-473a-adc3-fcd5ca5100a0",
   "metadata": {},
   "outputs": [
    {
     "ename": "FileNotFoundError",
     "evalue": "[Errno 2] No such file or directory: 'output/fedvg.png'",
     "output_type": "error",
     "traceback": [
      "\u001b[1;31m---------------------------------------------------------------------------\u001b[0m",
      "\u001b[1;31mFileNotFoundError\u001b[0m                         Traceback (most recent call last)",
      "Cell \u001b[1;32mIn[69], line 43\u001b[0m\n\u001b[0;32m     41\u001b[0m plt\u001b[38;5;241m.\u001b[39mtight_layout()\n\u001b[0;32m     42\u001b[0m \u001b[38;5;66;03m# Save the plot to a file\u001b[39;00m\n\u001b[1;32m---> 43\u001b[0m \u001b[43mplt\u001b[49m\u001b[38;5;241;43m.\u001b[39;49m\u001b[43msavefig\u001b[49m\u001b[43m(\u001b[49m\u001b[38;5;124;43m'\u001b[39;49m\u001b[38;5;124;43moutput/fedvg.png\u001b[39;49m\u001b[38;5;124;43m'\u001b[39;49m\u001b[43m,\u001b[49m\u001b[43m \u001b[49m\u001b[43mdpi\u001b[49m\u001b[38;5;241;43m=\u001b[39;49m\u001b[38;5;241;43m300\u001b[39;49m\u001b[43m,\u001b[49m\u001b[43m \u001b[49m\u001b[43mbbox_inches\u001b[49m\u001b[38;5;241;43m=\u001b[39;49m\u001b[38;5;124;43m'\u001b[39;49m\u001b[38;5;124;43mtight\u001b[39;49m\u001b[38;5;124;43m'\u001b[39;49m\u001b[43m)\u001b[49m  \u001b[38;5;66;03m# Save as a PNG file with high resolution\u001b[39;00m\n\u001b[0;32m     45\u001b[0m \u001b[38;5;66;03m# Show the plot\u001b[39;00m\n\u001b[0;32m     46\u001b[0m plt\u001b[38;5;241m.\u001b[39mshow()\n",
      "File \u001b[1;32m~\\AppData\\Local\\Programs\\Python\\Python39\\lib\\site-packages\\matplotlib\\pyplot.py:1228\u001b[0m, in \u001b[0;36msavefig\u001b[1;34m(*args, **kwargs)\u001b[0m\n\u001b[0;32m   1225\u001b[0m fig \u001b[38;5;241m=\u001b[39m gcf()\n\u001b[0;32m   1226\u001b[0m \u001b[38;5;66;03m# savefig default implementation has no return, so mypy is unhappy\u001b[39;00m\n\u001b[0;32m   1227\u001b[0m \u001b[38;5;66;03m# presumably this is here because subclasses can return?\u001b[39;00m\n\u001b[1;32m-> 1228\u001b[0m res \u001b[38;5;241m=\u001b[39m fig\u001b[38;5;241m.\u001b[39msavefig(\u001b[38;5;241m*\u001b[39margs, \u001b[38;5;241m*\u001b[39m\u001b[38;5;241m*\u001b[39mkwargs)  \u001b[38;5;66;03m# type: ignore[func-returns-value]\u001b[39;00m\n\u001b[0;32m   1229\u001b[0m fig\u001b[38;5;241m.\u001b[39mcanvas\u001b[38;5;241m.\u001b[39mdraw_idle()  \u001b[38;5;66;03m# Need this if 'transparent=True', to reset colors.\u001b[39;00m\n\u001b[0;32m   1230\u001b[0m \u001b[38;5;28;01mreturn\u001b[39;00m res\n",
      "File \u001b[1;32m~\\AppData\\Local\\Programs\\Python\\Python39\\lib\\site-packages\\matplotlib\\figure.py:3395\u001b[0m, in \u001b[0;36mFigure.savefig\u001b[1;34m(self, fname, transparent, **kwargs)\u001b[0m\n\u001b[0;32m   3393\u001b[0m     \u001b[38;5;28;01mfor\u001b[39;00m ax \u001b[38;5;129;01min\u001b[39;00m \u001b[38;5;28mself\u001b[39m\u001b[38;5;241m.\u001b[39maxes:\n\u001b[0;32m   3394\u001b[0m         _recursively_make_axes_transparent(stack, ax)\n\u001b[1;32m-> 3395\u001b[0m \u001b[38;5;28mself\u001b[39m\u001b[38;5;241m.\u001b[39mcanvas\u001b[38;5;241m.\u001b[39mprint_figure(fname, \u001b[38;5;241m*\u001b[39m\u001b[38;5;241m*\u001b[39mkwargs)\n",
      "File \u001b[1;32m~\\AppData\\Local\\Programs\\Python\\Python39\\lib\\site-packages\\matplotlib\\backend_bases.py:2204\u001b[0m, in \u001b[0;36mFigureCanvasBase.print_figure\u001b[1;34m(self, filename, dpi, facecolor, edgecolor, orientation, format, bbox_inches, pad_inches, bbox_extra_artists, backend, **kwargs)\u001b[0m\n\u001b[0;32m   2200\u001b[0m \u001b[38;5;28;01mtry\u001b[39;00m:\n\u001b[0;32m   2201\u001b[0m     \u001b[38;5;66;03m# _get_renderer may change the figure dpi (as vector formats\u001b[39;00m\n\u001b[0;32m   2202\u001b[0m     \u001b[38;5;66;03m# force the figure dpi to 72), so we need to set it again here.\u001b[39;00m\n\u001b[0;32m   2203\u001b[0m     \u001b[38;5;28;01mwith\u001b[39;00m cbook\u001b[38;5;241m.\u001b[39m_setattr_cm(\u001b[38;5;28mself\u001b[39m\u001b[38;5;241m.\u001b[39mfigure, dpi\u001b[38;5;241m=\u001b[39mdpi):\n\u001b[1;32m-> 2204\u001b[0m         result \u001b[38;5;241m=\u001b[39m print_method(\n\u001b[0;32m   2205\u001b[0m             filename,\n\u001b[0;32m   2206\u001b[0m             facecolor\u001b[38;5;241m=\u001b[39mfacecolor,\n\u001b[0;32m   2207\u001b[0m             edgecolor\u001b[38;5;241m=\u001b[39medgecolor,\n\u001b[0;32m   2208\u001b[0m             orientation\u001b[38;5;241m=\u001b[39morientation,\n\u001b[0;32m   2209\u001b[0m             bbox_inches_restore\u001b[38;5;241m=\u001b[39m_bbox_inches_restore,\n\u001b[0;32m   2210\u001b[0m             \u001b[38;5;241m*\u001b[39m\u001b[38;5;241m*\u001b[39mkwargs)\n\u001b[0;32m   2211\u001b[0m \u001b[38;5;28;01mfinally\u001b[39;00m:\n\u001b[0;32m   2212\u001b[0m     \u001b[38;5;28;01mif\u001b[39;00m bbox_inches \u001b[38;5;129;01mand\u001b[39;00m restore_bbox:\n",
      "File \u001b[1;32m~\\AppData\\Local\\Programs\\Python\\Python39\\lib\\site-packages\\matplotlib\\backend_bases.py:2054\u001b[0m, in \u001b[0;36mFigureCanvasBase._switch_canvas_and_return_print_method.<locals>.<lambda>\u001b[1;34m(*args, **kwargs)\u001b[0m\n\u001b[0;32m   2050\u001b[0m     optional_kws \u001b[38;5;241m=\u001b[39m {  \u001b[38;5;66;03m# Passed by print_figure for other renderers.\u001b[39;00m\n\u001b[0;32m   2051\u001b[0m         \u001b[38;5;124m\"\u001b[39m\u001b[38;5;124mdpi\u001b[39m\u001b[38;5;124m\"\u001b[39m, \u001b[38;5;124m\"\u001b[39m\u001b[38;5;124mfacecolor\u001b[39m\u001b[38;5;124m\"\u001b[39m, \u001b[38;5;124m\"\u001b[39m\u001b[38;5;124medgecolor\u001b[39m\u001b[38;5;124m\"\u001b[39m, \u001b[38;5;124m\"\u001b[39m\u001b[38;5;124morientation\u001b[39m\u001b[38;5;124m\"\u001b[39m,\n\u001b[0;32m   2052\u001b[0m         \u001b[38;5;124m\"\u001b[39m\u001b[38;5;124mbbox_inches_restore\u001b[39m\u001b[38;5;124m\"\u001b[39m}\n\u001b[0;32m   2053\u001b[0m     skip \u001b[38;5;241m=\u001b[39m optional_kws \u001b[38;5;241m-\u001b[39m {\u001b[38;5;241m*\u001b[39minspect\u001b[38;5;241m.\u001b[39msignature(meth)\u001b[38;5;241m.\u001b[39mparameters}\n\u001b[1;32m-> 2054\u001b[0m     print_method \u001b[38;5;241m=\u001b[39m functools\u001b[38;5;241m.\u001b[39mwraps(meth)(\u001b[38;5;28;01mlambda\u001b[39;00m \u001b[38;5;241m*\u001b[39margs, \u001b[38;5;241m*\u001b[39m\u001b[38;5;241m*\u001b[39mkwargs: meth(\n\u001b[0;32m   2055\u001b[0m         \u001b[38;5;241m*\u001b[39margs, \u001b[38;5;241m*\u001b[39m\u001b[38;5;241m*\u001b[39m{k: v \u001b[38;5;28;01mfor\u001b[39;00m k, v \u001b[38;5;129;01min\u001b[39;00m kwargs\u001b[38;5;241m.\u001b[39mitems() \u001b[38;5;28;01mif\u001b[39;00m k \u001b[38;5;129;01mnot\u001b[39;00m \u001b[38;5;129;01min\u001b[39;00m skip}))\n\u001b[0;32m   2056\u001b[0m \u001b[38;5;28;01melse\u001b[39;00m:  \u001b[38;5;66;03m# Let third-parties do as they see fit.\u001b[39;00m\n\u001b[0;32m   2057\u001b[0m     print_method \u001b[38;5;241m=\u001b[39m meth\n",
      "File \u001b[1;32m~\\AppData\\Local\\Programs\\Python\\Python39\\lib\\site-packages\\matplotlib\\backends\\backend_agg.py:496\u001b[0m, in \u001b[0;36mFigureCanvasAgg.print_png\u001b[1;34m(self, filename_or_obj, metadata, pil_kwargs)\u001b[0m\n\u001b[0;32m    449\u001b[0m \u001b[38;5;28;01mdef\u001b[39;00m\u001b[38;5;250m \u001b[39m\u001b[38;5;21mprint_png\u001b[39m(\u001b[38;5;28mself\u001b[39m, filename_or_obj, \u001b[38;5;241m*\u001b[39m, metadata\u001b[38;5;241m=\u001b[39m\u001b[38;5;28;01mNone\u001b[39;00m, pil_kwargs\u001b[38;5;241m=\u001b[39m\u001b[38;5;28;01mNone\u001b[39;00m):\n\u001b[0;32m    450\u001b[0m \u001b[38;5;250m    \u001b[39m\u001b[38;5;124;03m\"\"\"\u001b[39;00m\n\u001b[0;32m    451\u001b[0m \u001b[38;5;124;03m    Write the figure to a PNG file.\u001b[39;00m\n\u001b[0;32m    452\u001b[0m \n\u001b[1;32m   (...)\u001b[0m\n\u001b[0;32m    494\u001b[0m \u001b[38;5;124;03m        *metadata*, including the default 'Software' key.\u001b[39;00m\n\u001b[0;32m    495\u001b[0m \u001b[38;5;124;03m    \"\"\"\u001b[39;00m\n\u001b[1;32m--> 496\u001b[0m     \u001b[38;5;28;43mself\u001b[39;49m\u001b[38;5;241;43m.\u001b[39;49m\u001b[43m_print_pil\u001b[49m\u001b[43m(\u001b[49m\u001b[43mfilename_or_obj\u001b[49m\u001b[43m,\u001b[49m\u001b[43m \u001b[49m\u001b[38;5;124;43m\"\u001b[39;49m\u001b[38;5;124;43mpng\u001b[39;49m\u001b[38;5;124;43m\"\u001b[39;49m\u001b[43m,\u001b[49m\u001b[43m \u001b[49m\u001b[43mpil_kwargs\u001b[49m\u001b[43m,\u001b[49m\u001b[43m \u001b[49m\u001b[43mmetadata\u001b[49m\u001b[43m)\u001b[49m\n",
      "File \u001b[1;32m~\\AppData\\Local\\Programs\\Python\\Python39\\lib\\site-packages\\matplotlib\\backends\\backend_agg.py:445\u001b[0m, in \u001b[0;36mFigureCanvasAgg._print_pil\u001b[1;34m(self, filename_or_obj, fmt, pil_kwargs, metadata)\u001b[0m\n\u001b[0;32m    440\u001b[0m \u001b[38;5;250m\u001b[39m\u001b[38;5;124;03m\"\"\"\u001b[39;00m\n\u001b[0;32m    441\u001b[0m \u001b[38;5;124;03mDraw the canvas, then save it using `.image.imsave` (to which\u001b[39;00m\n\u001b[0;32m    442\u001b[0m \u001b[38;5;124;03m*pil_kwargs* and *metadata* are forwarded).\u001b[39;00m\n\u001b[0;32m    443\u001b[0m \u001b[38;5;124;03m\"\"\"\u001b[39;00m\n\u001b[0;32m    444\u001b[0m FigureCanvasAgg\u001b[38;5;241m.\u001b[39mdraw(\u001b[38;5;28mself\u001b[39m)\n\u001b[1;32m--> 445\u001b[0m \u001b[43mmpl\u001b[49m\u001b[38;5;241;43m.\u001b[39;49m\u001b[43mimage\u001b[49m\u001b[38;5;241;43m.\u001b[39;49m\u001b[43mimsave\u001b[49m\u001b[43m(\u001b[49m\n\u001b[0;32m    446\u001b[0m \u001b[43m    \u001b[49m\u001b[43mfilename_or_obj\u001b[49m\u001b[43m,\u001b[49m\u001b[43m \u001b[49m\u001b[38;5;28;43mself\u001b[39;49m\u001b[38;5;241;43m.\u001b[39;49m\u001b[43mbuffer_rgba\u001b[49m\u001b[43m(\u001b[49m\u001b[43m)\u001b[49m\u001b[43m,\u001b[49m\u001b[43m \u001b[49m\u001b[38;5;28;43mformat\u001b[39;49m\u001b[38;5;241;43m=\u001b[39;49m\u001b[43mfmt\u001b[49m\u001b[43m,\u001b[49m\u001b[43m \u001b[49m\u001b[43morigin\u001b[49m\u001b[38;5;241;43m=\u001b[39;49m\u001b[38;5;124;43m\"\u001b[39;49m\u001b[38;5;124;43mupper\u001b[39;49m\u001b[38;5;124;43m\"\u001b[39;49m\u001b[43m,\u001b[49m\n\u001b[0;32m    447\u001b[0m \u001b[43m    \u001b[49m\u001b[43mdpi\u001b[49m\u001b[38;5;241;43m=\u001b[39;49m\u001b[38;5;28;43mself\u001b[39;49m\u001b[38;5;241;43m.\u001b[39;49m\u001b[43mfigure\u001b[49m\u001b[38;5;241;43m.\u001b[39;49m\u001b[43mdpi\u001b[49m\u001b[43m,\u001b[49m\u001b[43m \u001b[49m\u001b[43mmetadata\u001b[49m\u001b[38;5;241;43m=\u001b[39;49m\u001b[43mmetadata\u001b[49m\u001b[43m,\u001b[49m\u001b[43m \u001b[49m\u001b[43mpil_kwargs\u001b[49m\u001b[38;5;241;43m=\u001b[39;49m\u001b[43mpil_kwargs\u001b[49m\u001b[43m)\u001b[49m\n",
      "File \u001b[1;32m~\\AppData\\Local\\Programs\\Python\\Python39\\lib\\site-packages\\matplotlib\\image.py:1676\u001b[0m, in \u001b[0;36mimsave\u001b[1;34m(fname, arr, vmin, vmax, cmap, format, origin, dpi, metadata, pil_kwargs)\u001b[0m\n\u001b[0;32m   1674\u001b[0m pil_kwargs\u001b[38;5;241m.\u001b[39msetdefault(\u001b[38;5;124m\"\u001b[39m\u001b[38;5;124mformat\u001b[39m\u001b[38;5;124m\"\u001b[39m, \u001b[38;5;28mformat\u001b[39m)\n\u001b[0;32m   1675\u001b[0m pil_kwargs\u001b[38;5;241m.\u001b[39msetdefault(\u001b[38;5;124m\"\u001b[39m\u001b[38;5;124mdpi\u001b[39m\u001b[38;5;124m\"\u001b[39m, (dpi, dpi))\n\u001b[1;32m-> 1676\u001b[0m image\u001b[38;5;241m.\u001b[39msave(fname, \u001b[38;5;241m*\u001b[39m\u001b[38;5;241m*\u001b[39mpil_kwargs)\n",
      "File \u001b[1;32m~\\AppData\\Local\\Programs\\Python\\Python39\\lib\\site-packages\\PIL\\Image.py:2436\u001b[0m, in \u001b[0;36mImage.save\u001b[1;34m(self, fp, format, **params)\u001b[0m\n\u001b[0;32m   2434\u001b[0m         fp \u001b[38;5;241m=\u001b[39m builtins\u001b[38;5;241m.\u001b[39mopen(filename, \u001b[38;5;124m\"\u001b[39m\u001b[38;5;124mr+b\u001b[39m\u001b[38;5;124m\"\u001b[39m)\n\u001b[0;32m   2435\u001b[0m     \u001b[38;5;28;01melse\u001b[39;00m:\n\u001b[1;32m-> 2436\u001b[0m         fp \u001b[38;5;241m=\u001b[39m \u001b[43mbuiltins\u001b[49m\u001b[38;5;241;43m.\u001b[39;49m\u001b[43mopen\u001b[49m\u001b[43m(\u001b[49m\u001b[43mfilename\u001b[49m\u001b[43m,\u001b[49m\u001b[43m \u001b[49m\u001b[38;5;124;43m\"\u001b[39;49m\u001b[38;5;124;43mw+b\u001b[39;49m\u001b[38;5;124;43m\"\u001b[39;49m\u001b[43m)\u001b[49m\n\u001b[0;32m   2438\u001b[0m \u001b[38;5;28;01mtry\u001b[39;00m:\n\u001b[0;32m   2439\u001b[0m     save_handler(\u001b[38;5;28mself\u001b[39m, fp, filename)\n",
      "\u001b[1;31mFileNotFoundError\u001b[0m: [Errno 2] No such file or directory: 'output/fedvg.png'"
     ]
    },
    {
     "data": {
      "image/png": "[encoded data removed]",
      "text/plain": [
       "<Figure size 650x420 with 1 Axes>"
      ]
     },
     "metadata": {},
     "output_type": "display_data"
    }
   ],
   "source": [
    "                                                        # VISUALIZE\n",
    "# NOTE: Class indexes now start from 1 so, previous class 0 = now class 1 and so on\n",
    "# FIG 1: Raw similarity plot\n",
    "\n",
    "import pandas as pd\n",
    "import numpy as np\n",
    "import matplotlib.pyplot as plt\n",
    "import seaborn as sns\n",
    "\n",
    "# Generate sample similarity data for four classes (each with 20 values in the range 0 to 1)\n",
    "class1_sim = class0_sims\n",
    "class2_sim = class1_sims\n",
    "class3_sim = class2_sims\n",
    "class4_sim = class3_sims\n",
    "\n",
    "# Set figure size\n",
    "plt.figure(figsize=(6.5, 4.2))  # Set the size of the figure (width, height)\n",
    "\n",
    "# Sample DataFrame with four columns\n",
    "data=pd.DataFrame({'Class 1':class1_sim,'Class 2':class2_sim,'Class 3':class3_sim,'Class 4':class4_sim})\n",
    "df = pd.DataFrame(data)\n",
    "\n",
    "# Plot the probability distributions\n",
    "#plt.figure(figsize=(10, 6))\n",
    "\n",
    "# Define colors and line styles for each column\n",
    "colors = ['#1f77b4', '#ff7f0e', '#2ca02c', '#d62728']\n",
    "linestyles = ['-.', '--', '-', '-']\n",
    "\n",
    "# Plot the probability distributions with unique colors and line styles\n",
    "for column, color, linestyle in zip(df.columns, colors, linestyles):\n",
    "    sns.kdeplot(df[column], label=column, color=color, linestyle=linestyle)\n",
    "\n",
    "#plt.title('Probability Distributions of Four Columns')\n",
    "plt.xlabel('Similarity',fontsize=12)\n",
    "plt.ylabel('Density',fontsize=12)\n",
    "plt.yticks(fontsize=12)  # Set y-tick labels font size\n",
    "plt.legend(loc='upper right',fontsize=12)  # Increase legend font size\n",
    "\n",
    "# Optimize layout\n",
    "plt.tight_layout()\n",
    "# Save the plot to a file\n",
    "plt.savefig('output/fedvg.png', dpi=300, bbox_inches='tight')  # Save as a PNG file with high resolution\n",
    "\n",
    "# Show the plot\n",
    "plt.show()\n"
   ]
  },
  {
   "cell_type": "code",
   "execution_count": 70,
   "id": "c71af78e-28e9-4564-9609-3039455bb875",
   "metadata": {},
   "outputs": [
    {
     "data": {
      "image/png": "[encoded data removed]",
      "text/plain": [
       "<Figure size 750x500 with 1 Axes>"
      ]
     },
     "metadata": {},
     "output_type": "display_data"
    }
   ],
   "source": [
    "# FIG 2: DIFFERENCES IN COSINE SIMILARITY\n",
    "\n",
    "# For each class, we have 20 similarity values — one per image — showing how similar fake and real versions are.These values are very close across classes\n",
    "# So, to highlight subtle differences, compute and plot the difference between each pair of classes, value by value.\n",
    "# This gives you 20 values showing how much the similarity differs for each image between class 0 and class 1.\n",
    "# It's a magnified view of the gap between classes.\n",
    "# If the differences are tiny (e.g., 0.003), the plot helps make that visible and comparable.\n",
    "\n",
    "import numpy as np\n",
    "import matplotlib.pyplot as plt\n",
    "import seaborn as sns\n",
    "import pandas as pd\n",
    "\n",
    "# Differences between class distributions (pairwise)\n",
    "diff_12 = np.array(class2_sim) - np.array(class1_sim)\n",
    "diff_13 = np.array(class3_sim) - np.array(class1_sim)\n",
    "diff_14 = np.array(class4_sim) - np.array(class1_sim)\n",
    "diff_23 = np.array(class3_sim) - np.array(class2_sim)\n",
    "diff_24 = np.array(class4_sim) - np.array(class2_sim)\n",
    "diff_34 = np.array(class4_sim) - np.array(class3_sim)\n",
    "\n",
    "# Create a DataFrame\n",
    "diff_df = pd.DataFrame({\n",
    "    'Class 2 - Class 1': diff_12,\n",
    "    'Class 3 - Class 1': diff_13,\n",
    "    'Class 4 - Class 1': diff_14,\n",
    "    'Class 3 - Class 2': diff_23,\n",
    "    'Class 4 - Class 2': diff_24,\n",
    "    'Class 4 - Class 3': diff_34,\n",
    "})\n",
    "\n",
    "# Plot\n",
    "plt.figure(figsize=(7.5, 5))\n",
    "\n",
    "colors = sns.color_palette(\"tab10\", n_colors=6)\n",
    "\n",
    "for column, color in zip(diff_df.columns, colors):\n",
    "    sns.kdeplot(diff_df[column], label=column, color=color, linestyle='-')\n",
    "\n",
    "plt.axvline(0, color='black', linestyle='--', linewidth=1)  # reference line at 0\n",
    "plt.xlabel('Difference in Similarity', fontsize=12)\n",
    "plt.ylabel('Density', fontsize=12)\n",
    "plt.legend(fontsize=10)\n",
    "plt.title(\"Pairwise Differences in Cosine Similarity\", fontsize=13)\n",
    "plt.tight_layout()\n",
    "plt.show()"
   ]
  },
  {
   "cell_type": "code",
   "execution_count": 71,
   "id": "362bf182-7927-4ce2-bf5a-97299d426bc4",
   "metadata": {},
   "outputs": [],
   "source": [
    "def calculate_interclass_similarity(first, second):\n",
    "    similarities = []\n",
    "\n",
    "    first_images = []\n",
    "    second_images = []\n",
    "    if first == 'class1':\n",
    "        first_images = class0_original_images.copy()\n",
    "    elif first == 'class2':\n",
    "        first_images = class1_original_images.copy()\n",
    "    elif first == 'class3':\n",
    "        first_images = class2_original_images.copy()\n",
    "    elif first == 'class4':\n",
    "        first_images = class3_original_images.copy()\n",
    "\n",
    "    if second == 'class1':\n",
    "        second_images = class0_original_images.copy()\n",
    "    elif second == 'class2':\n",
    "        second_images = class1_original_images.copy()\n",
    "    elif second == 'class3':\n",
    "        second_images = class2_original_images.copy()\n",
    "    elif second == 'class4':\n",
    "        second_images = class3_original_images.copy()\n",
    "    \n",
    "    for i in range(0, 20):\n",
    "        first_image = first_images[i].unsqueeze(dim=0).to(device)\n",
    "        first_image = first_image.repeat(1, 3, 1, 1)\n",
    "        \n",
    "        second_image = second_images[i].unsqueeze(dim=0).to(device)\n",
    "        second_image = second_image.repeat(1, 3, 1, 1)\n",
    "        \n",
    "        features_first = get_feature(first_image)\n",
    "        features_second = get_feature(second_image)\n",
    "\n",
    "        cosine_similarity = 1 - cosine(features_first, features_second)\n",
    "        similarities.append(cosine_similarity)\n",
    "\n",
    "    return similarities"
   ]
  },
  {
   "cell_type": "code",
   "execution_count": 72,
   "id": "5954dfe3-cb08-4551-a5f9-d2082ac3d604",
   "metadata": {},
   "outputs": [],
   "source": [
    "class1class2 = calculate_interclass_similarity('class1', 'class2')"
   ]
  },
  {
   "cell_type": "code",
   "execution_count": 73,
   "id": "cd5ab50d-9d9d-443b-bea5-2d6e302e2bf4",
   "metadata": {},
   "outputs": [
    {
     "data": {
      "text/plain": [
       "[np.float32(0.92668736),\n",
       " np.float32(0.9234537),\n",
       " np.float32(0.8914366),\n",
       " np.float32(0.85996324),\n",
       " np.float32(0.9045878),\n",
       " np.float32(0.8661933),\n",
       " np.float32(0.8529511),\n",
       " np.float32(0.8320824),\n",
       " np.float32(0.81313324),\n",
       " np.float32(0.9028811),\n",
       " np.float32(0.9157124),\n",
       " np.float32(0.83247995),\n",
       " np.float32(0.9164997),\n",
       " np.float32(0.84919524),\n",
       " np.float32(0.90398437),\n",
       " np.float32(0.8242637),\n",
       " np.float32(0.78115076),\n",
       " np.float32(0.80533254),\n",
       " np.float32(0.92938054),\n",
       " np.float32(0.89034694)]"
      ]
     },
     "execution_count": 73,
     "metadata": {},
     "output_type": "execute_result"
    }
   ],
   "source": [
    "class1class2"
   ]
  },
  {
   "cell_type": "code",
   "execution_count": 75,
   "id": "29441f40-36a7-4854-98be-5d128bae49cd",
   "metadata": {},
   "outputs": [
    {
     "ename": "FileNotFoundError",
     "evalue": "[Errno 2] No such file or directory: 'output/VoiceDivergenceD3.png'",
     "output_type": "error",
     "traceback": [
      "\u001b[1;31m---------------------------------------------------------------------------\u001b[0m",
      "\u001b[1;31mFileNotFoundError\u001b[0m                         Traceback (most recent call last)",
      "Cell \u001b[1;32mIn[75], line 44\u001b[0m\n\u001b[0;32m     42\u001b[0m plt\u001b[38;5;241m.\u001b[39mtight_layout()\n\u001b[0;32m     43\u001b[0m \u001b[38;5;66;03m# Save the plot to a file\u001b[39;00m\n\u001b[1;32m---> 44\u001b[0m \u001b[43mplt\u001b[49m\u001b[38;5;241;43m.\u001b[39;49m\u001b[43msavefig\u001b[49m\u001b[43m(\u001b[49m\u001b[38;5;124;43m'\u001b[39;49m\u001b[38;5;124;43moutput/VoiceDivergenceD3.png\u001b[39;49m\u001b[38;5;124;43m'\u001b[39;49m\u001b[43m,\u001b[49m\u001b[43m \u001b[49m\u001b[43mdpi\u001b[49m\u001b[38;5;241;43m=\u001b[39;49m\u001b[38;5;241;43m300\u001b[39;49m\u001b[43m,\u001b[49m\u001b[43m \u001b[49m\u001b[43mbbox_inches\u001b[49m\u001b[38;5;241;43m=\u001b[39;49m\u001b[38;5;124;43m'\u001b[39;49m\u001b[38;5;124;43mtight\u001b[39;49m\u001b[38;5;124;43m'\u001b[39;49m\u001b[43m)\u001b[49m  \u001b[38;5;66;03m# Save as a PNG file with high resolution\u001b[39;00m\n\u001b[0;32m     46\u001b[0m \u001b[38;5;66;03m# Show the plot\u001b[39;00m\n\u001b[0;32m     47\u001b[0m plt\u001b[38;5;241m.\u001b[39mshow()\n",
      "File \u001b[1;32m~\\AppData\\Local\\Programs\\Python\\Python39\\lib\\site-packages\\matplotlib\\pyplot.py:1228\u001b[0m, in \u001b[0;36msavefig\u001b[1;34m(*args, **kwargs)\u001b[0m\n\u001b[0;32m   1225\u001b[0m fig \u001b[38;5;241m=\u001b[39m gcf()\n\u001b[0;32m   1226\u001b[0m \u001b[38;5;66;03m# savefig default implementation has no return, so mypy is unhappy\u001b[39;00m\n\u001b[0;32m   1227\u001b[0m \u001b[38;5;66;03m# presumably this is here because subclasses can return?\u001b[39;00m\n\u001b[1;32m-> 1228\u001b[0m res \u001b[38;5;241m=\u001b[39m fig\u001b[38;5;241m.\u001b[39msavefig(\u001b[38;5;241m*\u001b[39margs, \u001b[38;5;241m*\u001b[39m\u001b[38;5;241m*\u001b[39mkwargs)  \u001b[38;5;66;03m# type: ignore[func-returns-value]\u001b[39;00m\n\u001b[0;32m   1229\u001b[0m fig\u001b[38;5;241m.\u001b[39mcanvas\u001b[38;5;241m.\u001b[39mdraw_idle()  \u001b[38;5;66;03m# Need this if 'transparent=True', to reset colors.\u001b[39;00m\n\u001b[0;32m   1230\u001b[0m \u001b[38;5;28;01mreturn\u001b[39;00m res\n",
      "File \u001b[1;32m~\\AppData\\Local\\Programs\\Python\\Python39\\lib\\site-packages\\matplotlib\\figure.py:3395\u001b[0m, in \u001b[0;36mFigure.savefig\u001b[1;34m(self, fname, transparent, **kwargs)\u001b[0m\n\u001b[0;32m   3393\u001b[0m     \u001b[38;5;28;01mfor\u001b[39;00m ax \u001b[38;5;129;01min\u001b[39;00m \u001b[38;5;28mself\u001b[39m\u001b[38;5;241m.\u001b[39maxes:\n\u001b[0;32m   3394\u001b[0m         _recursively_make_axes_transparent(stack, ax)\n\u001b[1;32m-> 3395\u001b[0m \u001b[38;5;28mself\u001b[39m\u001b[38;5;241m.\u001b[39mcanvas\u001b[38;5;241m.\u001b[39mprint_figure(fname, \u001b[38;5;241m*\u001b[39m\u001b[38;5;241m*\u001b[39mkwargs)\n",
      "File \u001b[1;32m~\\AppData\\Local\\Programs\\Python\\Python39\\lib\\site-packages\\matplotlib\\backend_bases.py:2204\u001b[0m, in \u001b[0;36mFigureCanvasBase.print_figure\u001b[1;34m(self, filename, dpi, facecolor, edgecolor, orientation, format, bbox_inches, pad_inches, bbox_extra_artists, backend, **kwargs)\u001b[0m\n\u001b[0;32m   2200\u001b[0m \u001b[38;5;28;01mtry\u001b[39;00m:\n\u001b[0;32m   2201\u001b[0m     \u001b[38;5;66;03m# _get_renderer may change the figure dpi (as vector formats\u001b[39;00m\n\u001b[0;32m   2202\u001b[0m     \u001b[38;5;66;03m# force the figure dpi to 72), so we need to set it again here.\u001b[39;00m\n\u001b[0;32m   2203\u001b[0m     \u001b[38;5;28;01mwith\u001b[39;00m cbook\u001b[38;5;241m.\u001b[39m_setattr_cm(\u001b[38;5;28mself\u001b[39m\u001b[38;5;241m.\u001b[39mfigure, dpi\u001b[38;5;241m=\u001b[39mdpi):\n\u001b[1;32m-> 2204\u001b[0m         result \u001b[38;5;241m=\u001b[39m print_method(\n\u001b[0;32m   2205\u001b[0m             filename,\n\u001b[0;32m   2206\u001b[0m             facecolor\u001b[38;5;241m=\u001b[39mfacecolor,\n\u001b[0;32m   2207\u001b[0m             edgecolor\u001b[38;5;241m=\u001b[39medgecolor,\n\u001b[0;32m   2208\u001b[0m             orientation\u001b[38;5;241m=\u001b[39morientation,\n\u001b[0;32m   2209\u001b[0m             bbox_inches_restore\u001b[38;5;241m=\u001b[39m_bbox_inches_restore,\n\u001b[0;32m   2210\u001b[0m             \u001b[38;5;241m*\u001b[39m\u001b[38;5;241m*\u001b[39mkwargs)\n\u001b[0;32m   2211\u001b[0m \u001b[38;5;28;01mfinally\u001b[39;00m:\n\u001b[0;32m   2212\u001b[0m     \u001b[38;5;28;01mif\u001b[39;00m bbox_inches \u001b[38;5;129;01mand\u001b[39;00m restore_bbox:\n",
      "File \u001b[1;32m~\\AppData\\Local\\Programs\\Python\\Python39\\lib\\site-packages\\matplotlib\\backend_bases.py:2054\u001b[0m, in \u001b[0;36mFigureCanvasBase._switch_canvas_and_return_print_method.<locals>.<lambda>\u001b[1;34m(*args, **kwargs)\u001b[0m\n\u001b[0;32m   2050\u001b[0m     optional_kws \u001b[38;5;241m=\u001b[39m {  \u001b[38;5;66;03m# Passed by print_figure for other renderers.\u001b[39;00m\n\u001b[0;32m   2051\u001b[0m         \u001b[38;5;124m\"\u001b[39m\u001b[38;5;124mdpi\u001b[39m\u001b[38;5;124m\"\u001b[39m, \u001b[38;5;124m\"\u001b[39m\u001b[38;5;124mfacecolor\u001b[39m\u001b[38;5;124m\"\u001b[39m, \u001b[38;5;124m\"\u001b[39m\u001b[38;5;124medgecolor\u001b[39m\u001b[38;5;124m\"\u001b[39m, \u001b[38;5;124m\"\u001b[39m\u001b[38;5;124morientation\u001b[39m\u001b[38;5;124m\"\u001b[39m,\n\u001b[0;32m   2052\u001b[0m         \u001b[38;5;124m\"\u001b[39m\u001b[38;5;124mbbox_inches_restore\u001b[39m\u001b[38;5;124m\"\u001b[39m}\n\u001b[0;32m   2053\u001b[0m     skip \u001b[38;5;241m=\u001b[39m optional_kws \u001b[38;5;241m-\u001b[39m {\u001b[38;5;241m*\u001b[39minspect\u001b[38;5;241m.\u001b[39msignature(meth)\u001b[38;5;241m.\u001b[39mparameters}\n\u001b[1;32m-> 2054\u001b[0m     print_method \u001b[38;5;241m=\u001b[39m functools\u001b[38;5;241m.\u001b[39mwraps(meth)(\u001b[38;5;28;01mlambda\u001b[39;00m \u001b[38;5;241m*\u001b[39margs, \u001b[38;5;241m*\u001b[39m\u001b[38;5;241m*\u001b[39mkwargs: meth(\n\u001b[0;32m   2055\u001b[0m         \u001b[38;5;241m*\u001b[39margs, \u001b[38;5;241m*\u001b[39m\u001b[38;5;241m*\u001b[39m{k: v \u001b[38;5;28;01mfor\u001b[39;00m k, v \u001b[38;5;129;01min\u001b[39;00m kwargs\u001b[38;5;241m.\u001b[39mitems() \u001b[38;5;28;01mif\u001b[39;00m k \u001b[38;5;129;01mnot\u001b[39;00m \u001b[38;5;129;01min\u001b[39;00m skip}))\n\u001b[0;32m   2056\u001b[0m \u001b[38;5;28;01melse\u001b[39;00m:  \u001b[38;5;66;03m# Let third-parties do as they see fit.\u001b[39;00m\n\u001b[0;32m   2057\u001b[0m     print_method \u001b[38;5;241m=\u001b[39m meth\n",
      "File \u001b[1;32m~\\AppData\\Local\\Programs\\Python\\Python39\\lib\\site-packages\\matplotlib\\backends\\backend_agg.py:496\u001b[0m, in \u001b[0;36mFigureCanvasAgg.print_png\u001b[1;34m(self, filename_or_obj, metadata, pil_kwargs)\u001b[0m\n\u001b[0;32m    449\u001b[0m \u001b[38;5;28;01mdef\u001b[39;00m\u001b[38;5;250m \u001b[39m\u001b[38;5;21mprint_png\u001b[39m(\u001b[38;5;28mself\u001b[39m, filename_or_obj, \u001b[38;5;241m*\u001b[39m, metadata\u001b[38;5;241m=\u001b[39m\u001b[38;5;28;01mNone\u001b[39;00m, pil_kwargs\u001b[38;5;241m=\u001b[39m\u001b[38;5;28;01mNone\u001b[39;00m):\n\u001b[0;32m    450\u001b[0m \u001b[38;5;250m    \u001b[39m\u001b[38;5;124;03m\"\"\"\u001b[39;00m\n\u001b[0;32m    451\u001b[0m \u001b[38;5;124;03m    Write the figure to a PNG file.\u001b[39;00m\n\u001b[0;32m    452\u001b[0m \n\u001b[1;32m   (...)\u001b[0m\n\u001b[0;32m    494\u001b[0m \u001b[38;5;124;03m        *metadata*, including the default 'Software' key.\u001b[39;00m\n\u001b[0;32m    495\u001b[0m \u001b[38;5;124;03m    \"\"\"\u001b[39;00m\n\u001b[1;32m--> 496\u001b[0m     \u001b[38;5;28;43mself\u001b[39;49m\u001b[38;5;241;43m.\u001b[39;49m\u001b[43m_print_pil\u001b[49m\u001b[43m(\u001b[49m\u001b[43mfilename_or_obj\u001b[49m\u001b[43m,\u001b[49m\u001b[43m \u001b[49m\u001b[38;5;124;43m\"\u001b[39;49m\u001b[38;5;124;43mpng\u001b[39;49m\u001b[38;5;124;43m\"\u001b[39;49m\u001b[43m,\u001b[49m\u001b[43m \u001b[49m\u001b[43mpil_kwargs\u001b[49m\u001b[43m,\u001b[49m\u001b[43m \u001b[49m\u001b[43mmetadata\u001b[49m\u001b[43m)\u001b[49m\n",
      "File \u001b[1;32m~\\AppData\\Local\\Programs\\Python\\Python39\\lib\\site-packages\\matplotlib\\backends\\backend_agg.py:445\u001b[0m, in \u001b[0;36mFigureCanvasAgg._print_pil\u001b[1;34m(self, filename_or_obj, fmt, pil_kwargs, metadata)\u001b[0m\n\u001b[0;32m    440\u001b[0m \u001b[38;5;250m\u001b[39m\u001b[38;5;124;03m\"\"\"\u001b[39;00m\n\u001b[0;32m    441\u001b[0m \u001b[38;5;124;03mDraw the canvas, then save it using `.image.imsave` (to which\u001b[39;00m\n\u001b[0;32m    442\u001b[0m \u001b[38;5;124;03m*pil_kwargs* and *metadata* are forwarded).\u001b[39;00m\n\u001b[0;32m    443\u001b[0m \u001b[38;5;124;03m\"\"\"\u001b[39;00m\n\u001b[0;32m    444\u001b[0m FigureCanvasAgg\u001b[38;5;241m.\u001b[39mdraw(\u001b[38;5;28mself\u001b[39m)\n\u001b[1;32m--> 445\u001b[0m \u001b[43mmpl\u001b[49m\u001b[38;5;241;43m.\u001b[39;49m\u001b[43mimage\u001b[49m\u001b[38;5;241;43m.\u001b[39;49m\u001b[43mimsave\u001b[49m\u001b[43m(\u001b[49m\n\u001b[0;32m    446\u001b[0m \u001b[43m    \u001b[49m\u001b[43mfilename_or_obj\u001b[49m\u001b[43m,\u001b[49m\u001b[43m \u001b[49m\u001b[38;5;28;43mself\u001b[39;49m\u001b[38;5;241;43m.\u001b[39;49m\u001b[43mbuffer_rgba\u001b[49m\u001b[43m(\u001b[49m\u001b[43m)\u001b[49m\u001b[43m,\u001b[49m\u001b[43m \u001b[49m\u001b[38;5;28;43mformat\u001b[39;49m\u001b[38;5;241;43m=\u001b[39;49m\u001b[43mfmt\u001b[49m\u001b[43m,\u001b[49m\u001b[43m \u001b[49m\u001b[43morigin\u001b[49m\u001b[38;5;241;43m=\u001b[39;49m\u001b[38;5;124;43m\"\u001b[39;49m\u001b[38;5;124;43mupper\u001b[39;49m\u001b[38;5;124;43m\"\u001b[39;49m\u001b[43m,\u001b[49m\n\u001b[0;32m    447\u001b[0m \u001b[43m    \u001b[49m\u001b[43mdpi\u001b[49m\u001b[38;5;241;43m=\u001b[39;49m\u001b[38;5;28;43mself\u001b[39;49m\u001b[38;5;241;43m.\u001b[39;49m\u001b[43mfigure\u001b[49m\u001b[38;5;241;43m.\u001b[39;49m\u001b[43mdpi\u001b[49m\u001b[43m,\u001b[49m\u001b[43m \u001b[49m\u001b[43mmetadata\u001b[49m\u001b[38;5;241;43m=\u001b[39;49m\u001b[43mmetadata\u001b[49m\u001b[43m,\u001b[49m\u001b[43m \u001b[49m\u001b[43mpil_kwargs\u001b[49m\u001b[38;5;241;43m=\u001b[39;49m\u001b[43mpil_kwargs\u001b[49m\u001b[43m)\u001b[49m\n",
      "File \u001b[1;32m~\\AppData\\Local\\Programs\\Python\\Python39\\lib\\site-packages\\matplotlib\\image.py:1676\u001b[0m, in \u001b[0;36mimsave\u001b[1;34m(fname, arr, vmin, vmax, cmap, format, origin, dpi, metadata, pil_kwargs)\u001b[0m\n\u001b[0;32m   1674\u001b[0m pil_kwargs\u001b[38;5;241m.\u001b[39msetdefault(\u001b[38;5;124m\"\u001b[39m\u001b[38;5;124mformat\u001b[39m\u001b[38;5;124m\"\u001b[39m, \u001b[38;5;28mformat\u001b[39m)\n\u001b[0;32m   1675\u001b[0m pil_kwargs\u001b[38;5;241m.\u001b[39msetdefault(\u001b[38;5;124m\"\u001b[39m\u001b[38;5;124mdpi\u001b[39m\u001b[38;5;124m\"\u001b[39m, (dpi, dpi))\n\u001b[1;32m-> 1676\u001b[0m image\u001b[38;5;241m.\u001b[39msave(fname, \u001b[38;5;241m*\u001b[39m\u001b[38;5;241m*\u001b[39mpil_kwargs)\n",
      "File \u001b[1;32m~\\AppData\\Local\\Programs\\Python\\Python39\\lib\\site-packages\\PIL\\Image.py:2436\u001b[0m, in \u001b[0;36mImage.save\u001b[1;34m(self, fp, format, **params)\u001b[0m\n\u001b[0;32m   2434\u001b[0m         fp \u001b[38;5;241m=\u001b[39m builtins\u001b[38;5;241m.\u001b[39mopen(filename, \u001b[38;5;124m\"\u001b[39m\u001b[38;5;124mr+b\u001b[39m\u001b[38;5;124m\"\u001b[39m)\n\u001b[0;32m   2435\u001b[0m     \u001b[38;5;28;01melse\u001b[39;00m:\n\u001b[1;32m-> 2436\u001b[0m         fp \u001b[38;5;241m=\u001b[39m \u001b[43mbuiltins\u001b[49m\u001b[38;5;241;43m.\u001b[39;49m\u001b[43mopen\u001b[49m\u001b[43m(\u001b[49m\u001b[43mfilename\u001b[49m\u001b[43m,\u001b[49m\u001b[43m \u001b[49m\u001b[38;5;124;43m\"\u001b[39;49m\u001b[38;5;124;43mw+b\u001b[39;49m\u001b[38;5;124;43m\"\u001b[39;49m\u001b[43m)\u001b[49m\n\u001b[0;32m   2438\u001b[0m \u001b[38;5;28;01mtry\u001b[39;00m:\n\u001b[0;32m   2439\u001b[0m     save_handler(\u001b[38;5;28mself\u001b[39m, fp, filename)\n",
      "\u001b[1;31mFileNotFoundError\u001b[0m: [Errno 2] No such file or directory: 'output/VoiceDivergenceD3.png'"
     ]
    },
    {
     "data": {
      "image/png": "[encoded data removed]",
      "text/plain": [
       "<Figure size 650x420 with 1 Axes>"
      ]
     },
     "metadata": {},
     "output_type": "display_data"
    }
   ],
   "source": [
    "                                                # FIG: 3 -> INTERCLASS SIMILARITIES\n",
    "\n",
    "import pandas as pd\n",
    "import numpy as np\n",
    "import matplotlib.pyplot as plt\n",
    "import seaborn as sns\n",
    "\n",
    "# Set figure size\n",
    "plt.figure(figsize=(6.5, 4.2))  # Set the size of the figure (width, height)\n",
    "\n",
    "# Generate sample similarity data for four classes (each with 20 values in the range 0 to 1)\n",
    "np.random.seed(42)  # For reproducibility\n",
    "class1class2 = calculate_interclass_similarity('class1', 'class2')\n",
    "class1class3 = calculate_interclass_similarity('class1', 'class3')\n",
    "class1class4 = calculate_interclass_similarity('class1', 'class4')\n",
    "class2class3 = calculate_interclass_similarity('class2', 'class3')\n",
    "class2class4 = calculate_interclass_similarity('class2', 'class4')\n",
    "class3class4 = calculate_interclass_similarity('class3', 'class4')\n",
    "\n",
    "# Sample DataFrame with four columns\n",
    "data=pd.DataFrame({'Class1 vs Class2':class1class2,'Class1 vs Class3':class1class3,'Class1 vs Class4':class1class4,'Class2 vs Class3':class2class3,'Class2 vs Class4':class2class4,'Class3 vs Class4':class3class4})\n",
    "df = pd.DataFrame(data)\n",
    "\n",
    "# Plot the probability distributions\n",
    "#plt.figure(figsize=(10, 6))\n",
    "\n",
    "# Define colors and line styles for each column\n",
    "colors = ['#1f77b4', '#ff7f0e', '#2ca02c', '#d62728', '#9467bd', '#8c564b']\n",
    "linestyles = ['-.', '--', '-', '-', '-.', '--']\n",
    "\n",
    "# Plot the probability distributions with unique colors and line styles\n",
    "for column, color, linestyle in zip(df.columns, colors, linestyles):\n",
    "    sns.kdeplot(df[column], label=column, color=color, linestyle=linestyle)\n",
    "\n",
    "#plt.title('Probability Distributions of Four Columns')\n",
    "plt.xlabel('Similarity',fontsize=12)\n",
    "plt.ylabel('Density',fontsize=12)\n",
    "plt.yticks(fontsize=12)  # Set y-tick labels font size\n",
    "plt.legend(loc='upper right',fontsize=12)  # Increase legend font size\n",
    "\n",
    "# Optimize layout\n",
    "plt.tight_layout()\n",
    "# Save the plot to a file\n",
    "plt.savefig('output/VoiceDivergenceD3.png', dpi=300, bbox_inches='tight')  # Save as a PNG file with high resolution\n",
    "\n",
    "# Show the plot\n",
    "plt.show()"
   ]
  },
  {
   "cell_type": "code",
   "execution_count": null,
   "id": "19754eee-5c1e-47e6-bbaa-b2cef05a1641",
   "metadata": {},
   "outputs": [],
   "source": []
  }
 ],
 "metadata": {
  "kernelspec": {
   "display_name": "Python 3 (ipykernel)",
   "language": "python",
   "name": "python3"
  },
  "language_info": {
   "codemirror_mode": {
    "name": "ipython",
    "version": 3
   },
   "file_extension": ".py",
   "mimetype": "text/x-python",
   "name": "python",
   "nbconvert_exporter": "python",
   "pygments_lexer": "ipython3",
   "version": "3.9.7"
  }
 },
 "nbformat": 4,
 "nbformat_minor": 5
}
