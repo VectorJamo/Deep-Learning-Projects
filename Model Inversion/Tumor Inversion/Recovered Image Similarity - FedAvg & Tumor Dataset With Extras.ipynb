{
 "cells": [
  {
   "cell_type": "code",
   "execution_count": 1,
   "id": "646b38c2-386a-4f83-a983-ea764ad8267f",
   "metadata": {},
   "outputs": [],
   "source": [
    "# Attempting to recover training data using model's parameters and a DCGAN that was trained on similar data\n",
    "# Author: Suraj Neupane\n",
    "# Written from scratch as a part of a Research Project 2025, Concordia University of Edmonton.\n",
    "import numpy as np\n",
    "\n",
    "import torch\n",
    "from torch import nn\n",
    "from torch.nn import functional\n",
    "\n",
    "from torch.utils import data\n",
    "from torch.utils.data import DataLoader\n",
    "\n",
    "import torchvision\n",
    "from torchvision import datasets\n",
    "from torchvision import transforms\n",
    "\n",
    "import pickle\n",
    "\n",
    "import matplotlib.pyplot as plt\n",
    "%matplotlib inline"
   ]
  },
  {
   "cell_type": "code",
   "execution_count": 2,
   "id": "8b80ddb2-ed75-4870-85b4-9300fce0df7e",
   "metadata": {},
   "outputs": [
    {
     "data": {
      "text/plain": [
       "'2.5.1+cu118'"
      ]
     },
     "execution_count": 2,
     "metadata": {},
     "output_type": "execute_result"
    }
   ],
   "source": [
    "torch.__version__"
   ]
  },
  {
   "cell_type": "code",
   "execution_count": 3,
   "id": "d6950585-eb31-4f61-bd60-5bf8716fcdef",
   "metadata": {},
   "outputs": [],
   "source": [
    "device = 'cuda' if torch.cuda.is_available() else 'cpu'"
   ]
  },
  {
   "cell_type": "code",
   "execution_count": 4,
   "id": "36c47e07-6b7d-4123-a59d-5d465f9ef280",
   "metadata": {},
   "outputs": [
    {
     "data": {
      "text/plain": [
       "'cuda'"
      ]
     },
     "execution_count": 4,
     "metadata": {},
     "output_type": "execute_result"
    }
   ],
   "source": [
    "device"
   ]
  },
  {
   "cell_type": "code",
   "execution_count": 5,
   "id": "b852ca55-f33e-469f-b7b9-e00d21124927",
   "metadata": {},
   "outputs": [],
   "source": [
    "# DCGAN Implementation Class\n",
    "# Discriminator\n",
    "class Discriminator(nn.Module):\n",
    "    def __init__(self, img_channels, features_d):\n",
    "        super().__init__()\n",
    "        self.disc = nn.Sequential(\n",
    "            # Input shape: img_channels x 64 x 64\n",
    "            nn.Conv2d(\n",
    "              in_channels=img_channels, out_channels=features_d, kernel_size=4, stride=2, padding=1\n",
    "            ), # Output shape: features_d x 32 x 32\n",
    "            nn.LeakyReLU(0.2),\n",
    "            self._block(features_d, features_d*2, 4, 2, 1), # Output shape: features_d*2 x 16 x 16\n",
    "            self._block(features_d*2, features_d*4, 4, 2, 1), # Output shape: features_d*4 x 8 x 8\n",
    "            self._block(features_d*4, features_d*8, 4, 2, 1), # Output shape: features_d*8 x 4 x 4\n",
    "           \n",
    "            nn.Conv2d(in_channels=features_d*8, out_channels=1, kernel_size=4, stride=2, padding=0), # Output shape: 1 x 1\n",
    "            nn.Sigmoid(),\n",
    "        )\n",
    "\n",
    "    def _block(self, in_channels, out_channels, kernel_size, stride, padding):\n",
    "        return nn.Sequential(\n",
    "            nn.Conv2d(in_channels, out_channels, kernel_size, stride, padding, bias=False),\n",
    "            nn.BatchNorm2d(out_channels),\n",
    "            nn.LeakyReLU(0.2),\n",
    "        )\n",
    "\n",
    "    def forward(self, X):\n",
    "        return self.disc(X)\n"
   ]
  },
  {
   "cell_type": "code",
   "execution_count": 6,
   "id": "5afe02e5-61d3-4f25-8933-8484e519cd4a",
   "metadata": {},
   "outputs": [],
   "source": [
    "# Generator\n",
    "class Generator(nn.Module):\n",
    "    def __init__(self, z_dim, img_channels, features_g):\n",
    "        super().__init__()\n",
    "        self.gen = nn.Sequential(\n",
    "            self._block(z_dim, features_g*16, 4, 1, 0), # z_dim: (batch_size, 100, 1, 1) -> (batch_size, 1024, 4, 4)\n",
    "            self._block(features_g*16, features_g*8, 4, 2, 1), # z_dim: (batch_size, 1024, 4, 4) -> (batch_size, 512, 8, 8)\n",
    "            self._block(features_g*8, features_g*4, 4, 2, 1), # z_dim: (batch_size, 512, 8, 8) -> (batch_size, 256, 16, 16)\n",
    "            self._block(features_g*4, features_g*2, 4, 2, 1), # z_dim: (batch_size, 128, 16, 16) -> (batch_size, 64, 32, 32)\n",
    "            nn.ConvTranspose2d(\n",
    "                in_channels=features_g*2, out_channels=img_channels, kernel_size=4, stride=2, padding=1 # z_dim: (batch_size, 64, 32, 32) -> (batch_size, 1, 64, 64)\n",
    "            ),\n",
    "            nn.Tanh(),\n",
    "        )\n",
    "        \n",
    "    def _block(self, in_channels, out_channels, kernel_size, stride, padding):\n",
    "        return nn.Sequential(\n",
    "            nn.ConvTranspose2d(\n",
    "                in_channels, out_channels, kernel_size, stride, padding, bias=False,\n",
    "            ),\n",
    "            nn.InstanceNorm2d(out_channels, affine=True),\n",
    "            nn.ReLU(),\n",
    "        )\n",
    "\n",
    "    def forward(self, X):\n",
    "        return self.gen(X)"
   ]
  },
  {
   "cell_type": "code",
   "execution_count": 7,
   "id": "48c1be35-d58a-4d0c-990d-9250fbdbf1b3",
   "metadata": {},
   "outputs": [],
   "source": [
    "# Hyperparams\n",
    "z_dim = 100\n",
    "img_channels = 1\n",
    "features_disc = 64\n",
    "features_gen = 64"
   ]
  },
  {
   "cell_type": "code",
   "execution_count": 8,
   "id": "f2dc1f40-5c2e-4903-b2e7-7abe5cae9772",
   "metadata": {},
   "outputs": [],
   "source": [
    "# Create the model instances\n",
    "gen = Generator(z_dim, img_channels, features_gen).to(device)\n",
    "disc = Discriminator(img_channels, features_disc).to(device)"
   ]
  },
  {
   "cell_type": "code",
   "execution_count": 9,
   "id": "bc7a5deb-f8d8-41d4-aed3-d012d39a84b9",
   "metadata": {},
   "outputs": [
    {
     "data": {
      "text/plain": [
       "<All keys matched successfully>"
      ]
     },
     "execution_count": 9,
     "metadata": {},
     "output_type": "execute_result"
    }
   ],
   "source": [
    "# Load the trained GAN\n",
    "gen.load_state_dict(torch.load('saved models/Generator2.pth', weights_only=True))\n",
    "disc.load_state_dict(torch.load('saved models/Discriminator2.pth', weights_only=True))"
   ]
  },
  {
   "cell_type": "code",
   "execution_count": 10,
   "id": "a504e932-e168-4bb8-88cc-eea0810aafb0",
   "metadata": {},
   "outputs": [],
   "source": [
    "# Generate a random fake image\n",
    "noise = torch.randn(1, z_dim, 1, 1).to(device)\n",
    "fake_img = gen(noise)"
   ]
  },
  {
   "cell_type": "code",
   "execution_count": 11,
   "id": "98b5d73f-b130-4bc1-a868-c225bd2abe62",
   "metadata": {},
   "outputs": [
    {
     "data": {
      "text/plain": [
       "torch.Size([1, 1, 64, 64])"
      ]
     },
     "execution_count": 11,
     "metadata": {},
     "output_type": "execute_result"
    }
   ],
   "source": [
    "fake_img.shape"
   ]
  },
  {
   "cell_type": "code",
   "execution_count": 12,
   "id": "9d19338c-18e4-4b6e-842f-a225718fa8bb",
   "metadata": {},
   "outputs": [
    {
     "name": "stdout",
     "output_type": "stream",
     "text": [
      "torch.Size([64, 64])\n"
     ]
    },
    {
     "data": {
      "text/plain": [
       "<matplotlib.image.AxesImage at 0x22aafdf9910>"
      ]
     },
     "execution_count": 12,
     "metadata": {},
     "output_type": "execute_result"
    },
    {
     "data": {
      "image/png": "[encoded data removed]",
      "text/plain": [
       "<Figure size 640x480 with 1 Axes>"
      ]
     },
     "metadata": {},
     "output_type": "display_data"
    }
   ],
   "source": [
    "fake_img = fake_img.squeeze()\n",
    "print(fake_img.shape)\n",
    "plt.axis(False)\n",
    "plt.title('Fake Generated Image:')\n",
    "plt.imshow(fake_img.cpu().detach(), cmap='gray')"
   ]
  },
  {
   "cell_type": "code",
   "execution_count": 13,
   "id": "cf2aefac-a759-4335-a3de-2065d6a6a9a5",
   "metadata": {},
   "outputs": [],
   "source": [
    "# Target Model\n",
    "class TFCNN(nn.Module):\n",
    "    def __init__(self, n_classes):\n",
    "        super().__init__()\n",
    "        self.n_classes = n_classes\n",
    "\n",
    "        self.encoder = nn.Sequential(\n",
    "            nn.Conv2d(3, 32, 3, stride=1, padding=1),\n",
    "            nn.ReLU(True),\n",
    "            nn.MaxPool2d(2),\n",
    "            nn.Conv2d(32, 64, 3, stride=1, padding=1),\n",
    "            nn.ReLU(True),\n",
    "            nn.MaxPool2d(2),\n",
    "            nn.Conv2d(64, 64, 3, stride=1, padding=1),\n",
    "            nn.ReLU(True),\n",
    "            nn.MaxPool2d(2),\n",
    "            Reshape(),\n",
    "        )\n",
    "\n",
    "        self.h_size = 64 * 4 * 4\n",
    "\n",
    "        self.classifier = nn.Sequential(\n",
    "            nn.Linear(64 * 4 * 4, 128),\n",
    "            nn.ReLU(True),\n",
    "            nn.Linear(128, n_classes)\n",
    "        )\n",
    "\n",
    "    def forward(self, xs):\n",
    "        code = self.encoder(xs)\n",
    "        logits = self.classifier(code)\n",
    "        return code, logits\n"
   ]
  },
  {
   "cell_type": "code",
   "execution_count": 14,
   "id": "d28876e2-91ee-4ebf-bc52-b71dc82edfa2",
   "metadata": {},
   "outputs": [],
   "source": [
    "class Reshape(nn.Module):\n",
    "    def __init__(self,):\n",
    "        super().__init__()\n",
    "\n",
    "    def forward(self, xs):\n",
    "        return xs.reshape((xs.shape[0], -1))"
   ]
  },
  {
   "cell_type": "code",
   "execution_count": 15,
   "id": "dd57210c-2c18-4651-8f29-be94a7a7a88f",
   "metadata": {},
   "outputs": [],
   "source": [
    "class ClassifyNet(nn.Module):\n",
    "    def __init__(self, net, init_way, n_classes, input_size=None):\n",
    "        super().__init__()\n",
    "        self.net = net\n",
    "        self.init_way = init_way\n",
    "        self.n_classes = n_classes\n",
    "\n",
    "        model = TFCNN(n_classes)\n",
    "\n",
    "        self.h_size = model.h_size\n",
    "\n",
    "        # Convo and pool layers\n",
    "        self.encoder = model.encoder\n",
    "\n",
    "        # Classifier layer\n",
    "        self.classifier = nn.Linear(\n",
    "            self.h_size, self.n_classes, bias=False\n",
    "        )\n",
    "\n",
    "        if self.init_way == \"orth\":\n",
    "            ws = get_orth_weights(self.h_size, self.n_classes)\n",
    "            self.classifier.load_state_dict({\"weight\": ws})\n",
    "\n",
    "    def forward(self, xs):\n",
    "        hs = self.encoder(xs)\n",
    "        logits = self.classifier(hs)\n",
    "        return hs, logits"
   ]
  },
  {
   "cell_type": "code",
   "execution_count": 16,
   "id": "83ea3c08-0470-4c9a-ba15-8328a316b3ab",
   "metadata": {},
   "outputs": [],
   "source": [
    "def load_target_model(base_net, n_classes, path):\n",
    "    # Create the base model\n",
    "    model = ClassifyNet(net=base_net, init_way='none', n_classes=n_classes)\n",
    "    # Load the model\n",
    "    model.load_state_dict(torch.load(path, weights_only=True))\n",
    "\n",
    "    return model"
   ]
  },
  {
   "cell_type": "code",
   "execution_count": 17,
   "id": "0880f1aa-9d08-445a-85ac-f1ff3cebde04",
   "metadata": {},
   "outputs": [
    {
     "name": "stdout",
     "output_type": "stream",
     "text": [
      "Model loaded successfully!\n",
      "Number of parameters in the loaded model: 60416\n"
     ]
    }
   ],
   "source": [
    "# Target Model Loading\n",
    "BASE_NET = 'TFCNN'\n",
    "DATASET = 'tumor4'\n",
    "N_CLASSES = 4\n",
    "\n",
    "target_model = load_target_model(base_net=BASE_NET, n_classes=N_CLASSES, path='saved models/fedavg_global_model.pth').to(device)\n",
    "print('Model loaded successfully!')\n",
    "target_model.eval()\n",
    "\n",
    "num_params = sum(p.numel() for p in target_model.parameters())\n",
    "print('Number of parameters in the loaded model:', num_params)\n"
   ]
  },
  {
   "cell_type": "code",
   "execution_count": 18,
   "id": "f843f19e-b2a5-4ffe-b22b-de4ff93c5643",
   "metadata": {},
   "outputs": [],
   "source": [
    "# BEGIN BATCH MODEL INVERSION\n",
    "img_count = 20\n",
    "latent_vectors = torch.randn(img_count, z_dim, 1, 1, requires_grad=True) # Start with 20 random noises"
   ]
  },
  {
   "cell_type": "code",
   "execution_count": 19,
   "id": "c21320ed-d5ac-4919-aaad-8cfa093998a6",
   "metadata": {},
   "outputs": [],
   "source": [
    "def recover_images(count, target_image_class, latent_vectors):\n",
    "    optimized_latent_vectors = []\n",
    "    \n",
    "    for x in range(0, count):\n",
    "        z = latent_vectors[x].unsqueeze(dim=0).clone().detach().requires_grad_(True)\n",
    "        \n",
    "        learning_rate = 0.01\n",
    "        target_class = 1 # The second class\n",
    "        \n",
    "        # Create the optimizer\n",
    "        optimizer = torch.optim.Adam([z], lr=learning_rate)\n",
    "        \n",
    "        # Loss function (e.g., Cross-Entropy with classifier outputs)\n",
    "        loss_fn = nn.CrossEntropyLoss()\n",
    "        target_class = torch.tensor([target_image_class])  # Set the target class\n",
    "    \n",
    "        # Optimization loop to find the best z\n",
    "        rounds = 500\n",
    "        for i in range(rounds):\n",
    "            optimizer.zero_grad()\n",
    "            \n",
    "            generated_image = gen(z.to(device))  # Generate an image from the latent vector\n",
    "            generated_image = generated_image.repeat(1, 3, 1, 1)\n",
    "            generated_image = functional.interpolate(generated_image, size=(32, 32), mode='nearest')\n",
    "            #print(generated_image.shape)\n",
    "            hs, prediction_logits = target_model(generated_image)  # Classifier output\n",
    "            #print(prediction_logits)\n",
    "            #print(type(prediction_logits))\n",
    "            loss = loss_fn(prediction_logits, target_class.to(device))  # Minimize difference with true class\n",
    "            loss.backward()\n",
    "            optimizer.step()\n",
    "            \n",
    "            if i % 50 == 0:\n",
    "                print(f\"Generating Image Number: {x+1} for target class {target_class}. Step {i}, Loss: {loss.item()}\")\n",
    "    \n",
    "        optimized_latent_vectors.append(z)\n",
    "        \n",
    "    return optimized_latent_vectors"
   ]
  },
  {
   "cell_type": "code",
   "execution_count": 20,
   "id": "9ebc9533-23ca-4d44-8aea-9d134281b3a4",
   "metadata": {
    "scrolled": true
   },
   "outputs": [
    {
     "name": "stdout",
     "output_type": "stream",
     "text": [
      "Generating Image Number: 1 for target class tensor([0]). Step 0, Loss: 0.579037606716156\n",
      "Generating Image Number: 1 for target class tensor([0]). Step 50, Loss: 0.41805532574653625\n",
      "Generating Image Number: 1 for target class tensor([0]). Step 100, Loss: 0.3248139023780823\n",
      "Generating Image Number: 1 for target class tensor([0]). Step 150, Loss: 0.25296521186828613\n",
      "Generating Image Number: 1 for target class tensor([0]). Step 200, Loss: 0.2068764567375183\n",
      "Generating Image Number: 1 for target class tensor([0]). Step 250, Loss: 0.1840399205684662\n",
      "Generating Image Number: 1 for target class tensor([0]). Step 300, Loss: 0.17027737200260162\n",
      "Generating Image Number: 1 for target class tensor([0]). Step 350, Loss: 0.15982702374458313\n",
      "Generating Image Number: 1 for target class tensor([0]). Step 400, Loss: 0.1473836600780487\n",
      "Generating Image Number: 1 for target class tensor([0]). Step 450, Loss: 0.13622115552425385\n",
      "Generating Image Number: 2 for target class tensor([0]). Step 0, Loss: 0.47894996404647827\n",
      "Generating Image Number: 2 for target class tensor([0]). Step 50, Loss: 0.2981778383255005\n",
      "Generating Image Number: 2 for target class tensor([0]). Step 100, Loss: 0.21536880731582642\n",
      "Generating Image Number: 2 for target class tensor([0]). Step 150, Loss: 0.17099881172180176\n",
      "Generating Image Number: 2 for target class tensor([0]). Step 200, Loss: 0.14404231309890747\n",
      "Generating Image Number: 2 for target class tensor([0]). Step 250, Loss: 0.13100315630435944\n",
      "Generating Image Number: 2 for target class tensor([0]). Step 300, Loss: 0.12197843939065933\n",
      "Generating Image Number: 2 for target class tensor([0]). Step 350, Loss: 0.11477921903133392\n",
      "Generating Image Number: 2 for target class tensor([0]). Step 400, Loss: 0.1065840795636177\n",
      "Generating Image Number: 2 for target class tensor([0]). Step 450, Loss: 0.10227470099925995\n",
      "Generating Image Number: 3 for target class tensor([0]). Step 0, Loss: 0.46261030435562134\n",
      "Generating Image Number: 3 for target class tensor([0]). Step 50, Loss: 0.25618165731430054\n",
      "Generating Image Number: 3 for target class tensor([0]). Step 100, Loss: 0.201903834939003\n",
      "Generating Image Number: 3 for target class tensor([0]). Step 150, Loss: 0.18234583735466003\n",
      "Generating Image Number: 3 for target class tensor([0]). Step 200, Loss: 0.17126302421092987\n",
      "Generating Image Number: 3 for target class tensor([0]). Step 250, Loss: 0.15275748074054718\n",
      "Generating Image Number: 3 for target class tensor([0]). Step 300, Loss: 0.13782398402690887\n",
      "Generating Image Number: 3 for target class tensor([0]). Step 350, Loss: 0.1259148120880127\n",
      "Generating Image Number: 3 for target class tensor([0]). Step 400, Loss: 0.11844561994075775\n",
      "Generating Image Number: 3 for target class tensor([0]). Step 450, Loss: 0.11152220517396927\n",
      "Generating Image Number: 4 for target class tensor([0]). Step 0, Loss: 0.29339468479156494\n",
      "Generating Image Number: 4 for target class tensor([0]). Step 50, Loss: 0.1419202834367752\n",
      "Generating Image Number: 4 for target class tensor([0]). Step 100, Loss: 0.12072492390871048\n",
      "Generating Image Number: 4 for target class tensor([0]). Step 150, Loss: 0.09617138653993607\n",
      "Generating Image Number: 4 for target class tensor([0]). Step 200, Loss: 0.07796987891197205\n",
      "Generating Image Number: 4 for target class tensor([0]). Step 250, Loss: 0.06841166317462921\n",
      "Generating Image Number: 4 for target class tensor([0]). Step 300, Loss: 0.05799058452248573\n",
      "Generating Image Number: 4 for target class tensor([0]). Step 350, Loss: 0.05080306902527809\n",
      "Generating Image Number: 4 for target class tensor([0]). Step 400, Loss: 0.045421045273542404\n",
      "Generating Image Number: 4 for target class tensor([0]). Step 450, Loss: 0.04206207022070885\n",
      "Generating Image Number: 5 for target class tensor([0]). Step 0, Loss: 4.754901885986328\n",
      "Generating Image Number: 5 for target class tensor([0]). Step 50, Loss: 4.052712440490723\n",
      "Generating Image Number: 5 for target class tensor([0]). Step 100, Loss: 3.597750425338745\n",
      "Generating Image Number: 5 for target class tensor([0]). Step 150, Loss: 3.3361992835998535\n",
      "Generating Image Number: 5 for target class tensor([0]). Step 200, Loss: 2.9573745727539062\n",
      "Generating Image Number: 5 for target class tensor([0]). Step 250, Loss: 2.344755172729492\n",
      "Generating Image Number: 5 for target class tensor([0]). Step 300, Loss: 2.055774688720703\n",
      "Generating Image Number: 5 for target class tensor([0]). Step 350, Loss: 1.9232308864593506\n",
      "Generating Image Number: 5 for target class tensor([0]). Step 400, Loss: 1.8280844688415527\n",
      "Generating Image Number: 5 for target class tensor([0]). Step 450, Loss: 1.771410346031189\n",
      "Generating Image Number: 6 for target class tensor([0]). Step 0, Loss: 0.4616513252258301\n",
      "Generating Image Number: 6 for target class tensor([0]). Step 50, Loss: 0.17143136262893677\n",
      "Generating Image Number: 6 for target class tensor([0]). Step 100, Loss: 0.151518315076828\n",
      "Generating Image Number: 6 for target class tensor([0]). Step 150, Loss: 0.13337141275405884\n",
      "Generating Image Number: 6 for target class tensor([0]). Step 200, Loss: 0.12331881374120712\n",
      "Generating Image Number: 6 for target class tensor([0]). Step 250, Loss: 0.11328302323818207\n",
      "Generating Image Number: 6 for target class tensor([0]). Step 300, Loss: 0.10475387424230576\n",
      "Generating Image Number: 6 for target class tensor([0]). Step 350, Loss: 0.09735114872455597\n",
      "Generating Image Number: 6 for target class tensor([0]). Step 400, Loss: 0.09075471758842468\n",
      "Generating Image Number: 6 for target class tensor([0]). Step 450, Loss: 0.0852942019701004\n",
      "Generating Image Number: 7 for target class tensor([0]). Step 0, Loss: 0.8127299547195435\n",
      "Generating Image Number: 7 for target class tensor([0]). Step 50, Loss: 0.1814025640487671\n",
      "Generating Image Number: 7 for target class tensor([0]). Step 100, Loss: 0.15984408557415009\n",
      "Generating Image Number: 7 for target class tensor([0]). Step 150, Loss: 0.14286121726036072\n",
      "Generating Image Number: 7 for target class tensor([0]). Step 200, Loss: 0.12572234869003296\n",
      "Generating Image Number: 7 for target class tensor([0]). Step 250, Loss: 0.11284545809030533\n",
      "Generating Image Number: 7 for target class tensor([0]). Step 300, Loss: 0.10424070060253143\n",
      "Generating Image Number: 7 for target class tensor([0]). Step 350, Loss: 0.09689031541347504\n",
      "Generating Image Number: 7 for target class tensor([0]). Step 400, Loss: 0.09150496125221252\n",
      "Generating Image Number: 7 for target class tensor([0]). Step 450, Loss: 0.08751383423805237\n",
      "Generating Image Number: 8 for target class tensor([0]). Step 0, Loss: 0.6766945123672485\n",
      "Generating Image Number: 8 for target class tensor([0]). Step 50, Loss: 0.28083336353302\n",
      "Generating Image Number: 8 for target class tensor([0]). Step 100, Loss: 0.23330172896385193\n",
      "Generating Image Number: 8 for target class tensor([0]). Step 150, Loss: 0.2040930837392807\n",
      "Generating Image Number: 8 for target class tensor([0]). Step 200, Loss: 0.1810346096754074\n",
      "Generating Image Number: 8 for target class tensor([0]). Step 250, Loss: 0.1638018786907196\n",
      "Generating Image Number: 8 for target class tensor([0]). Step 300, Loss: 0.15278500318527222\n",
      "Generating Image Number: 8 for target class tensor([0]). Step 350, Loss: 0.14243991672992706\n",
      "Generating Image Number: 8 for target class tensor([0]). Step 400, Loss: 0.13401749730110168\n",
      "Generating Image Number: 8 for target class tensor([0]). Step 450, Loss: 0.1270967721939087\n",
      "Generating Image Number: 9 for target class tensor([0]). Step 0, Loss: 0.0\n",
      "Generating Image Number: 9 for target class tensor([0]). Step 50, Loss: 0.0\n",
      "Generating Image Number: 9 for target class tensor([0]). Step 100, Loss: 0.0\n",
      "Generating Image Number: 9 for target class tensor([0]). Step 150, Loss: 0.0\n",
      "Generating Image Number: 9 for target class tensor([0]). Step 200, Loss: 0.0\n",
      "Generating Image Number: 9 for target class tensor([0]). Step 250, Loss: 0.0\n",
      "Generating Image Number: 9 for target class tensor([0]). Step 300, Loss: 0.0\n",
      "Generating Image Number: 9 for target class tensor([0]). Step 350, Loss: 0.0\n",
      "Generating Image Number: 9 for target class tensor([0]). Step 400, Loss: 0.0\n",
      "Generating Image Number: 9 for target class tensor([0]). Step 450, Loss: 0.0\n",
      "Generating Image Number: 10 for target class tensor([0]). Step 0, Loss: 6.60983419418335\n",
      "Generating Image Number: 10 for target class tensor([0]). Step 50, Loss: 0.3214295208454132\n",
      "Generating Image Number: 10 for target class tensor([0]). Step 100, Loss: 0.219485342502594\n",
      "Generating Image Number: 10 for target class tensor([0]). Step 150, Loss: 0.20413097739219666\n",
      "Generating Image Number: 10 for target class tensor([0]). Step 200, Loss: 0.19255051016807556\n",
      "Generating Image Number: 10 for target class tensor([0]). Step 250, Loss: 0.1828715056180954\n",
      "Generating Image Number: 10 for target class tensor([0]). Step 300, Loss: 0.1750698983669281\n",
      "Generating Image Number: 10 for target class tensor([0]). Step 350, Loss: 0.16748486459255219\n",
      "Generating Image Number: 10 for target class tensor([0]). Step 400, Loss: 0.16053533554077148\n",
      "Generating Image Number: 10 for target class tensor([0]). Step 450, Loss: 0.1539115160703659\n",
      "Generating Image Number: 11 for target class tensor([0]). Step 0, Loss: 0.5721601247787476\n",
      "Generating Image Number: 11 for target class tensor([0]). Step 50, Loss: 0.1464022845029831\n",
      "Generating Image Number: 11 for target class tensor([0]). Step 100, Loss: 0.11347843706607819\n",
      "Generating Image Number: 11 for target class tensor([0]). Step 150, Loss: 0.09722297638654709\n",
      "Generating Image Number: 11 for target class tensor([0]). Step 200, Loss: 0.08866064995527267\n",
      "Generating Image Number: 11 for target class tensor([0]). Step 250, Loss: 0.08243159204721451\n",
      "Generating Image Number: 11 for target class tensor([0]). Step 300, Loss: 0.07866465300321579\n",
      "Generating Image Number: 11 for target class tensor([0]). Step 350, Loss: 0.07569732517004013\n",
      "Generating Image Number: 11 for target class tensor([0]). Step 400, Loss: 0.07287313044071198\n",
      "Generating Image Number: 11 for target class tensor([0]). Step 450, Loss: 0.07009906321763992\n",
      "Generating Image Number: 12 for target class tensor([0]). Step 0, Loss: 3.2929024696350098\n",
      "Generating Image Number: 12 for target class tensor([0]). Step 50, Loss: 0.422283411026001\n",
      "Generating Image Number: 12 for target class tensor([0]). Step 100, Loss: 0.34771719574928284\n",
      "Generating Image Number: 12 for target class tensor([0]). Step 150, Loss: 0.25290244817733765\n",
      "Generating Image Number: 12 for target class tensor([0]). Step 200, Loss: 0.220530703663826\n",
      "Generating Image Number: 12 for target class tensor([0]). Step 250, Loss: 0.20515987277030945\n",
      "Generating Image Number: 12 for target class tensor([0]). Step 300, Loss: 0.19132082164287567\n",
      "Generating Image Number: 12 for target class tensor([0]). Step 350, Loss: 0.18172796070575714\n",
      "Generating Image Number: 12 for target class tensor([0]). Step 400, Loss: 0.17291218042373657\n",
      "Generating Image Number: 12 for target class tensor([0]). Step 450, Loss: 0.16642966866493225\n",
      "Generating Image Number: 13 for target class tensor([0]). Step 0, Loss: 1.14579439163208\n",
      "Generating Image Number: 13 for target class tensor([0]). Step 50, Loss: 0.4614329934120178\n",
      "Generating Image Number: 13 for target class tensor([0]). Step 100, Loss: 0.34883826971054077\n",
      "Generating Image Number: 13 for target class tensor([0]). Step 150, Loss: 0.3097209632396698\n",
      "Generating Image Number: 13 for target class tensor([0]). Step 200, Loss: 0.28184542059898376\n",
      "Generating Image Number: 13 for target class tensor([0]). Step 250, Loss: 0.25920596718788147\n",
      "Generating Image Number: 13 for target class tensor([0]). Step 300, Loss: 0.2408546805381775\n",
      "Generating Image Number: 13 for target class tensor([0]). Step 350, Loss: 0.22380679845809937\n",
      "Generating Image Number: 13 for target class tensor([0]). Step 400, Loss: 0.21224983036518097\n",
      "Generating Image Number: 13 for target class tensor([0]). Step 450, Loss: 0.20130446553230286\n",
      "Generating Image Number: 14 for target class tensor([0]). Step 0, Loss: 0.7927896976470947\n",
      "Generating Image Number: 14 for target class tensor([0]). Step 50, Loss: 0.14541231095790863\n",
      "Generating Image Number: 14 for target class tensor([0]). Step 100, Loss: 0.13166528940200806\n",
      "Generating Image Number: 14 for target class tensor([0]). Step 150, Loss: 0.1197909414768219\n",
      "Generating Image Number: 14 for target class tensor([0]). Step 200, Loss: 0.11043655872344971\n",
      "Generating Image Number: 14 for target class tensor([0]). Step 250, Loss: 0.103216253221035\n",
      "Generating Image Number: 14 for target class tensor([0]). Step 300, Loss: 0.0979166179895401\n",
      "Generating Image Number: 14 for target class tensor([0]). Step 350, Loss: 0.0938425287604332\n",
      "Generating Image Number: 14 for target class tensor([0]). Step 400, Loss: 0.09056156873703003\n",
      "Generating Image Number: 14 for target class tensor([0]). Step 450, Loss: 0.08864646404981613\n",
      "Generating Image Number: 15 for target class tensor([0]). Step 0, Loss: 0.21695858240127563\n",
      "Generating Image Number: 15 for target class tensor([0]). Step 50, Loss: 0.09300094842910767\n",
      "Generating Image Number: 15 for target class tensor([0]). Step 100, Loss: 0.08354806154966354\n",
      "Generating Image Number: 15 for target class tensor([0]). Step 150, Loss: 0.07692454755306244\n",
      "Generating Image Number: 15 for target class tensor([0]). Step 200, Loss: 0.07246507704257965\n",
      "Generating Image Number: 15 for target class tensor([0]). Step 250, Loss: 0.06902510672807693\n",
      "Generating Image Number: 15 for target class tensor([0]). Step 300, Loss: 0.06542185693979263\n",
      "Generating Image Number: 15 for target class tensor([0]). Step 350, Loss: 0.06336508691310883\n",
      "Generating Image Number: 15 for target class tensor([0]). Step 400, Loss: 0.060639429837465286\n",
      "Generating Image Number: 15 for target class tensor([0]). Step 450, Loss: 0.05815931037068367\n",
      "Generating Image Number: 16 for target class tensor([0]). Step 0, Loss: 1.0671685934066772\n",
      "Generating Image Number: 16 for target class tensor([0]). Step 50, Loss: 0.7806819677352905\n",
      "Generating Image Number: 16 for target class tensor([0]). Step 100, Loss: 0.7225819826126099\n",
      "Generating Image Number: 16 for target class tensor([0]). Step 150, Loss: 0.6813353300094604\n",
      "Generating Image Number: 16 for target class tensor([0]). Step 200, Loss: 0.6447807550430298\n",
      "Generating Image Number: 16 for target class tensor([0]). Step 250, Loss: 0.6105926632881165\n",
      "Generating Image Number: 16 for target class tensor([0]). Step 300, Loss: 0.5834029912948608\n",
      "Generating Image Number: 16 for target class tensor([0]). Step 350, Loss: 0.5616704821586609\n",
      "Generating Image Number: 16 for target class tensor([0]). Step 400, Loss: 0.5463598966598511\n",
      "Generating Image Number: 16 for target class tensor([0]). Step 450, Loss: 0.5350737571716309\n",
      "Generating Image Number: 17 for target class tensor([0]). Step 0, Loss: 0.7110670804977417\n",
      "Generating Image Number: 17 for target class tensor([0]). Step 50, Loss: 0.3892788290977478\n",
      "Generating Image Number: 17 for target class tensor([0]). Step 100, Loss: 0.30697908997535706\n",
      "Generating Image Number: 17 for target class tensor([0]). Step 150, Loss: 0.2601819634437561\n",
      "Generating Image Number: 17 for target class tensor([0]). Step 200, Loss: 0.22637271881103516\n",
      "Generating Image Number: 17 for target class tensor([0]). Step 250, Loss: 0.20430640876293182\n",
      "Generating Image Number: 17 for target class tensor([0]). Step 300, Loss: 0.1887303739786148\n",
      "Generating Image Number: 17 for target class tensor([0]). Step 350, Loss: 0.17721636593341827\n",
      "Generating Image Number: 17 for target class tensor([0]). Step 400, Loss: 0.16452911496162415\n",
      "Generating Image Number: 17 for target class tensor([0]). Step 450, Loss: 0.15508116781711578\n",
      "Generating Image Number: 18 for target class tensor([0]). Step 0, Loss: 2.599391222000122\n",
      "Generating Image Number: 18 for target class tensor([0]). Step 50, Loss: 0.804255485534668\n",
      "Generating Image Number: 18 for target class tensor([0]). Step 100, Loss: 0.6956851482391357\n",
      "Generating Image Number: 18 for target class tensor([0]). Step 150, Loss: 0.6555951833724976\n",
      "Generating Image Number: 18 for target class tensor([0]). Step 200, Loss: 0.6150990724563599\n",
      "Generating Image Number: 18 for target class tensor([0]). Step 250, Loss: 0.5737067461013794\n",
      "Generating Image Number: 18 for target class tensor([0]). Step 300, Loss: 0.5345407724380493\n",
      "Generating Image Number: 18 for target class tensor([0]). Step 350, Loss: 0.5008350610733032\n",
      "Generating Image Number: 18 for target class tensor([0]). Step 400, Loss: 0.46989625692367554\n",
      "Generating Image Number: 18 for target class tensor([0]). Step 450, Loss: 0.44436782598495483\n",
      "Generating Image Number: 19 for target class tensor([0]). Step 0, Loss: 0.2577837407588959\n",
      "Generating Image Number: 19 for target class tensor([0]). Step 50, Loss: 0.15395434200763702\n",
      "Generating Image Number: 19 for target class tensor([0]). Step 100, Loss: 0.1300838589668274\n",
      "Generating Image Number: 19 for target class tensor([0]). Step 150, Loss: 0.10732308775186539\n",
      "Generating Image Number: 19 for target class tensor([0]). Step 200, Loss: 0.09227627515792847\n",
      "Generating Image Number: 19 for target class tensor([0]). Step 250, Loss: 0.07830503582954407\n",
      "Generating Image Number: 19 for target class tensor([0]). Step 300, Loss: 0.0690307766199112\n",
      "Generating Image Number: 19 for target class tensor([0]). Step 350, Loss: 0.06121830269694328\n",
      "Generating Image Number: 19 for target class tensor([0]). Step 400, Loss: 0.05475421994924545\n",
      "Generating Image Number: 19 for target class tensor([0]). Step 450, Loss: 0.04922701045870781\n",
      "Generating Image Number: 20 for target class tensor([0]). Step 0, Loss: 0.0\n",
      "Generating Image Number: 20 for target class tensor([0]). Step 50, Loss: 0.0\n",
      "Generating Image Number: 20 for target class tensor([0]). Step 100, Loss: 0.0\n",
      "Generating Image Number: 20 for target class tensor([0]). Step 150, Loss: 0.0\n",
      "Generating Image Number: 20 for target class tensor([0]). Step 200, Loss: 0.0\n",
      "Generating Image Number: 20 for target class tensor([0]). Step 250, Loss: 0.0\n",
      "Generating Image Number: 20 for target class tensor([0]). Step 300, Loss: 0.0\n",
      "Generating Image Number: 20 for target class tensor([0]). Step 350, Loss: 0.0\n",
      "Generating Image Number: 20 for target class tensor([0]). Step 400, Loss: 0.0\n",
      "Generating Image Number: 20 for target class tensor([0]). Step 450, Loss: 0.0\n"
     ]
    }
   ],
   "source": [
    "class0_optimized_latent_vectors = recover_images(img_count, 0, latent_vectors)"
   ]
  },
  {
   "cell_type": "code",
   "execution_count": 21,
   "id": "6718334c-2bb1-42a3-bd8c-6aea38e6b59c",
   "metadata": {
    "scrolled": true
   },
   "outputs": [
    {
     "name": "stdout",
     "output_type": "stream",
     "text": [
      "Generating Image Number: 1 for target class tensor([1]). Step 0, Loss: 2.909069299697876\n",
      "Generating Image Number: 1 for target class tensor([1]). Step 50, Loss: 1.1375558376312256\n",
      "Generating Image Number: 1 for target class tensor([1]). Step 100, Loss: 0.992618203163147\n",
      "Generating Image Number: 1 for target class tensor([1]). Step 150, Loss: 0.9454586505889893\n",
      "Generating Image Number: 1 for target class tensor([1]). Step 200, Loss: 0.8994496464729309\n",
      "Generating Image Number: 1 for target class tensor([1]). Step 250, Loss: 0.8714888095855713\n",
      "Generating Image Number: 1 for target class tensor([1]). Step 300, Loss: 0.8444719314575195\n",
      "Generating Image Number: 1 for target class tensor([1]). Step 350, Loss: 0.8137581944465637\n",
      "Generating Image Number: 1 for target class tensor([1]). Step 400, Loss: 0.7644985318183899\n",
      "Generating Image Number: 1 for target class tensor([1]). Step 450, Loss: 0.7384326457977295\n",
      "Generating Image Number: 2 for target class tensor([1]). Step 0, Loss: 2.1085057258605957\n",
      "Generating Image Number: 2 for target class tensor([1]). Step 50, Loss: 1.0760645866394043\n",
      "Generating Image Number: 2 for target class tensor([1]). Step 100, Loss: 0.7676405906677246\n",
      "Generating Image Number: 2 for target class tensor([1]). Step 150, Loss: 0.5941944718360901\n",
      "Generating Image Number: 2 for target class tensor([1]). Step 200, Loss: 0.4496432840824127\n",
      "Generating Image Number: 2 for target class tensor([1]). Step 250, Loss: 0.336826890707016\n",
      "Generating Image Number: 2 for target class tensor([1]). Step 300, Loss: 0.2618680000305176\n",
      "Generating Image Number: 2 for target class tensor([1]). Step 350, Loss: 0.19899119436740875\n",
      "Generating Image Number: 2 for target class tensor([1]). Step 400, Loss: 0.13635076582431793\n",
      "Generating Image Number: 2 for target class tensor([1]). Step 450, Loss: 0.09079717099666595\n",
      "Generating Image Number: 3 for target class tensor([1]). Step 0, Loss: 5.660854816436768\n",
      "Generating Image Number: 3 for target class tensor([1]). Step 50, Loss: 3.578378438949585\n",
      "Generating Image Number: 3 for target class tensor([1]). Step 100, Loss: 2.2365262508392334\n",
      "Generating Image Number: 3 for target class tensor([1]). Step 150, Loss: 1.2790980339050293\n",
      "Generating Image Number: 3 for target class tensor([1]). Step 200, Loss: 0.9650856256484985\n",
      "Generating Image Number: 3 for target class tensor([1]). Step 250, Loss: 0.7396008968353271\n",
      "Generating Image Number: 3 for target class tensor([1]). Step 300, Loss: 0.5874204039573669\n",
      "Generating Image Number: 3 for target class tensor([1]). Step 350, Loss: 0.48284852504730225\n",
      "Generating Image Number: 3 for target class tensor([1]). Step 400, Loss: 0.42990416288375854\n",
      "Generating Image Number: 3 for target class tensor([1]). Step 450, Loss: 0.39180687069892883\n",
      "Generating Image Number: 4 for target class tensor([1]). Step 0, Loss: 3.124004602432251\n",
      "Generating Image Number: 4 for target class tensor([1]). Step 50, Loss: 2.470827102661133\n",
      "Generating Image Number: 4 for target class tensor([1]). Step 100, Loss: 1.9845632314682007\n",
      "Generating Image Number: 4 for target class tensor([1]). Step 150, Loss: 1.7213077545166016\n",
      "Generating Image Number: 4 for target class tensor([1]). Step 200, Loss: 1.5068433284759521\n",
      "Generating Image Number: 4 for target class tensor([1]). Step 250, Loss: 1.3286514282226562\n",
      "Generating Image Number: 4 for target class tensor([1]). Step 300, Loss: 1.1230837106704712\n",
      "Generating Image Number: 4 for target class tensor([1]). Step 350, Loss: 0.9451367855072021\n",
      "Generating Image Number: 4 for target class tensor([1]). Step 400, Loss: 0.8478038311004639\n",
      "Generating Image Number: 4 for target class tensor([1]). Step 450, Loss: 0.7619377374649048\n",
      "Generating Image Number: 5 for target class tensor([1]). Step 0, Loss: 3.926680564880371\n",
      "Generating Image Number: 5 for target class tensor([1]). Step 50, Loss: 2.7403125762939453\n",
      "Generating Image Number: 5 for target class tensor([1]). Step 100, Loss: 2.1509087085723877\n",
      "Generating Image Number: 5 for target class tensor([1]). Step 150, Loss: 1.7619870901107788\n",
      "Generating Image Number: 5 for target class tensor([1]). Step 200, Loss: 1.5367432832717896\n",
      "Generating Image Number: 5 for target class tensor([1]). Step 250, Loss: 1.3229186534881592\n",
      "Generating Image Number: 5 for target class tensor([1]). Step 300, Loss: 1.1855018138885498\n",
      "Generating Image Number: 5 for target class tensor([1]). Step 350, Loss: 1.092044711112976\n",
      "Generating Image Number: 5 for target class tensor([1]). Step 400, Loss: 0.9905701279640198\n",
      "Generating Image Number: 5 for target class tensor([1]). Step 450, Loss: 0.9227234125137329\n",
      "Generating Image Number: 6 for target class tensor([1]). Step 0, Loss: 3.688438892364502\n",
      "Generating Image Number: 6 for target class tensor([1]). Step 50, Loss: 2.8165040016174316\n",
      "Generating Image Number: 6 for target class tensor([1]). Step 100, Loss: 2.144141674041748\n",
      "Generating Image Number: 6 for target class tensor([1]). Step 150, Loss: 1.3979029655456543\n",
      "Generating Image Number: 6 for target class tensor([1]). Step 200, Loss: 0.8489771485328674\n",
      "Generating Image Number: 6 for target class tensor([1]). Step 250, Loss: 0.6455441117286682\n",
      "Generating Image Number: 6 for target class tensor([1]). Step 300, Loss: 0.5288804173469543\n",
      "Generating Image Number: 6 for target class tensor([1]). Step 350, Loss: 0.4509413242340088\n",
      "Generating Image Number: 6 for target class tensor([1]). Step 400, Loss: 0.39705267548561096\n",
      "Generating Image Number: 6 for target class tensor([1]). Step 450, Loss: 0.3656538426876068\n",
      "Generating Image Number: 7 for target class tensor([1]). Step 0, Loss: 17.432477951049805\n",
      "Generating Image Number: 7 for target class tensor([1]). Step 50, Loss: 2.094351053237915\n",
      "Generating Image Number: 7 for target class tensor([1]). Step 100, Loss: 2.0330235958099365\n",
      "Generating Image Number: 7 for target class tensor([1]). Step 150, Loss: 1.9860129356384277\n",
      "Generating Image Number: 7 for target class tensor([1]). Step 200, Loss: 1.9488897323608398\n",
      "Generating Image Number: 7 for target class tensor([1]). Step 250, Loss: 1.9139658212661743\n",
      "Generating Image Number: 7 for target class tensor([1]). Step 300, Loss: 1.8718302249908447\n",
      "Generating Image Number: 7 for target class tensor([1]). Step 350, Loss: 1.823440432548523\n",
      "Generating Image Number: 7 for target class tensor([1]). Step 400, Loss: 1.767937183380127\n",
      "Generating Image Number: 7 for target class tensor([1]). Step 450, Loss: 1.7228447198867798\n",
      "Generating Image Number: 8 for target class tensor([1]). Step 0, Loss: 18.69598960876465\n",
      "Generating Image Number: 8 for target class tensor([1]). Step 50, Loss: 17.808326721191406\n",
      "Generating Image Number: 8 for target class tensor([1]). Step 100, Loss: 1.7653645277023315\n",
      "Generating Image Number: 8 for target class tensor([1]). Step 150, Loss: 1.660909652709961\n",
      "Generating Image Number: 8 for target class tensor([1]). Step 200, Loss: 1.5813908576965332\n",
      "Generating Image Number: 8 for target class tensor([1]). Step 250, Loss: 1.5075514316558838\n",
      "Generating Image Number: 8 for target class tensor([1]). Step 300, Loss: 1.4379732608795166\n",
      "Generating Image Number: 8 for target class tensor([1]). Step 350, Loss: 1.383298635482788\n",
      "Generating Image Number: 8 for target class tensor([1]). Step 400, Loss: 1.3366668224334717\n",
      "Generating Image Number: 8 for target class tensor([1]). Step 450, Loss: 1.282285213470459\n",
      "Generating Image Number: 9 for target class tensor([1]). Step 0, Loss: 3.2952699661254883\n",
      "Generating Image Number: 9 for target class tensor([1]). Step 50, Loss: 1.3409056663513184\n",
      "Generating Image Number: 9 for target class tensor([1]). Step 100, Loss: 0.6655646562576294\n",
      "Generating Image Number: 9 for target class tensor([1]). Step 150, Loss: 0.4563654661178589\n",
      "Generating Image Number: 9 for target class tensor([1]). Step 200, Loss: 0.2906653583049774\n",
      "Generating Image Number: 9 for target class tensor([1]). Step 250, Loss: 0.16598516702651978\n",
      "Generating Image Number: 9 for target class tensor([1]). Step 300, Loss: 0.11451315879821777\n",
      "Generating Image Number: 9 for target class tensor([1]). Step 350, Loss: 0.09005925059318542\n",
      "Generating Image Number: 9 for target class tensor([1]). Step 400, Loss: 0.0793023481965065\n",
      "Generating Image Number: 9 for target class tensor([1]). Step 450, Loss: 0.06957089900970459\n",
      "Generating Image Number: 10 for target class tensor([1]). Step 0, Loss: 6.753643035888672\n",
      "Generating Image Number: 10 for target class tensor([1]). Step 50, Loss: 1.6605441570281982\n",
      "Generating Image Number: 10 for target class tensor([1]). Step 100, Loss: 1.46476411819458\n",
      "Generating Image Number: 10 for target class tensor([1]). Step 150, Loss: 1.239685297012329\n",
      "Generating Image Number: 10 for target class tensor([1]). Step 200, Loss: 1.0732271671295166\n",
      "Generating Image Number: 10 for target class tensor([1]). Step 250, Loss: 0.9526062607765198\n",
      "Generating Image Number: 10 for target class tensor([1]). Step 300, Loss: 0.8510065078735352\n",
      "Generating Image Number: 10 for target class tensor([1]). Step 350, Loss: 0.782131552696228\n",
      "Generating Image Number: 10 for target class tensor([1]). Step 400, Loss: 0.718774139881134\n",
      "Generating Image Number: 10 for target class tensor([1]). Step 450, Loss: 0.665743350982666\n",
      "Generating Image Number: 11 for target class tensor([1]). Step 0, Loss: 3.8450446128845215\n",
      "Generating Image Number: 11 for target class tensor([1]). Step 50, Loss: 1.0443586111068726\n",
      "Generating Image Number: 11 for target class tensor([1]). Step 100, Loss: 0.7498787641525269\n",
      "Generating Image Number: 11 for target class tensor([1]). Step 150, Loss: 0.6362519860267639\n",
      "Generating Image Number: 11 for target class tensor([1]). Step 200, Loss: 0.5985442996025085\n",
      "Generating Image Number: 11 for target class tensor([1]). Step 250, Loss: 0.5817257165908813\n",
      "Generating Image Number: 11 for target class tensor([1]). Step 300, Loss: 0.5929391980171204\n",
      "Generating Image Number: 11 for target class tensor([1]). Step 350, Loss: 0.5418258905410767\n",
      "Generating Image Number: 11 for target class tensor([1]). Step 400, Loss: 0.5416619181632996\n",
      "Generating Image Number: 11 for target class tensor([1]). Step 450, Loss: 0.49894478917121887\n",
      "Generating Image Number: 12 for target class tensor([1]). Step 0, Loss: 3.7302255630493164\n",
      "Generating Image Number: 12 for target class tensor([1]). Step 50, Loss: 1.0608309507369995\n",
      "Generating Image Number: 12 for target class tensor([1]). Step 100, Loss: 0.8107905387878418\n",
      "Generating Image Number: 12 for target class tensor([1]). Step 150, Loss: 0.6544252634048462\n",
      "Generating Image Number: 12 for target class tensor([1]). Step 200, Loss: 0.45942333340644836\n",
      "Generating Image Number: 12 for target class tensor([1]). Step 250, Loss: 0.2726050615310669\n",
      "Generating Image Number: 12 for target class tensor([1]). Step 300, Loss: 0.17664526402950287\n",
      "Generating Image Number: 12 for target class tensor([1]). Step 350, Loss: 0.12668798863887787\n",
      "Generating Image Number: 12 for target class tensor([1]). Step 400, Loss: 0.10026513785123825\n",
      "Generating Image Number: 12 for target class tensor([1]). Step 450, Loss: 0.08046597242355347\n",
      "Generating Image Number: 13 for target class tensor([1]). Step 0, Loss: 5.1210103034973145\n",
      "Generating Image Number: 13 for target class tensor([1]). Step 50, Loss: 2.912910223007202\n",
      "Generating Image Number: 13 for target class tensor([1]). Step 100, Loss: 2.0236592292785645\n",
      "Generating Image Number: 13 for target class tensor([1]). Step 150, Loss: 1.7720705270767212\n",
      "Generating Image Number: 13 for target class tensor([1]). Step 200, Loss: 1.5839598178863525\n",
      "Generating Image Number: 13 for target class tensor([1]). Step 250, Loss: 1.5105535984039307\n",
      "Generating Image Number: 13 for target class tensor([1]). Step 300, Loss: 1.4634745121002197\n",
      "Generating Image Number: 13 for target class tensor([1]). Step 350, Loss: 1.426664113998413\n",
      "Generating Image Number: 13 for target class tensor([1]). Step 400, Loss: 1.3979610204696655\n",
      "Generating Image Number: 13 for target class tensor([1]). Step 450, Loss: 1.3739460706710815\n",
      "Generating Image Number: 14 for target class tensor([1]). Step 0, Loss: 1.9578149318695068\n",
      "Generating Image Number: 14 for target class tensor([1]). Step 50, Loss: 1.0431957244873047\n",
      "Generating Image Number: 14 for target class tensor([1]). Step 100, Loss: 0.8715839385986328\n",
      "Generating Image Number: 14 for target class tensor([1]). Step 150, Loss: 0.7216982841491699\n",
      "Generating Image Number: 14 for target class tensor([1]). Step 200, Loss: 0.5102622509002686\n",
      "Generating Image Number: 14 for target class tensor([1]). Step 250, Loss: 0.4135057032108307\n",
      "Generating Image Number: 14 for target class tensor([1]). Step 300, Loss: 0.35539039969444275\n",
      "Generating Image Number: 14 for target class tensor([1]). Step 350, Loss: 0.3227212429046631\n",
      "Generating Image Number: 14 for target class tensor([1]). Step 400, Loss: 0.2966163754463196\n",
      "Generating Image Number: 14 for target class tensor([1]). Step 450, Loss: 0.270586222410202\n",
      "Generating Image Number: 15 for target class tensor([1]). Step 0, Loss: 2.553414821624756\n",
      "Generating Image Number: 15 for target class tensor([1]). Step 50, Loss: 1.3790167570114136\n",
      "Generating Image Number: 15 for target class tensor([1]). Step 100, Loss: 1.1733407974243164\n",
      "Generating Image Number: 15 for target class tensor([1]). Step 150, Loss: 1.1063975095748901\n",
      "Generating Image Number: 15 for target class tensor([1]). Step 200, Loss: 1.049792766571045\n",
      "Generating Image Number: 15 for target class tensor([1]). Step 250, Loss: 1.0019127130508423\n",
      "Generating Image Number: 15 for target class tensor([1]). Step 300, Loss: 0.9586047530174255\n",
      "Generating Image Number: 15 for target class tensor([1]). Step 350, Loss: 0.9262442588806152\n",
      "Generating Image Number: 15 for target class tensor([1]). Step 400, Loss: 0.8993160128593445\n",
      "Generating Image Number: 15 for target class tensor([1]). Step 450, Loss: 0.8764127492904663\n",
      "Generating Image Number: 16 for target class tensor([1]). Step 0, Loss: 17.211435317993164\n",
      "Generating Image Number: 16 for target class tensor([1]). Step 50, Loss: 1.0988832712173462\n",
      "Generating Image Number: 16 for target class tensor([1]). Step 100, Loss: 0.6365594267845154\n",
      "Generating Image Number: 16 for target class tensor([1]). Step 150, Loss: 0.5123732686042786\n",
      "Generating Image Number: 16 for target class tensor([1]). Step 200, Loss: 0.43579864501953125\n",
      "Generating Image Number: 16 for target class tensor([1]). Step 250, Loss: 0.3755684792995453\n",
      "Generating Image Number: 16 for target class tensor([1]). Step 300, Loss: 0.32138147950172424\n",
      "Generating Image Number: 16 for target class tensor([1]). Step 350, Loss: 0.2552211582660675\n",
      "Generating Image Number: 16 for target class tensor([1]). Step 400, Loss: 0.2180677354335785\n",
      "Generating Image Number: 16 for target class tensor([1]). Step 450, Loss: 0.19267390668392181\n",
      "Generating Image Number: 17 for target class tensor([1]). Step 0, Loss: 2.393859386444092\n",
      "Generating Image Number: 17 for target class tensor([1]). Step 50, Loss: 0.7002475261688232\n",
      "Generating Image Number: 17 for target class tensor([1]). Step 100, Loss: 0.4690738320350647\n",
      "Generating Image Number: 17 for target class tensor([1]). Step 150, Loss: 0.37927278876304626\n",
      "Generating Image Number: 17 for target class tensor([1]). Step 200, Loss: 0.32077938318252563\n",
      "Generating Image Number: 17 for target class tensor([1]). Step 250, Loss: 0.2582316994667053\n",
      "Generating Image Number: 17 for target class tensor([1]). Step 300, Loss: 0.2128993421792984\n",
      "Generating Image Number: 17 for target class tensor([1]). Step 350, Loss: 0.18702000379562378\n",
      "Generating Image Number: 17 for target class tensor([1]). Step 400, Loss: 0.16685126721858978\n",
      "Generating Image Number: 17 for target class tensor([1]). Step 450, Loss: 0.14981426298618317\n",
      "Generating Image Number: 18 for target class tensor([1]). Step 0, Loss: 3.80391788482666\n",
      "Generating Image Number: 18 for target class tensor([1]). Step 50, Loss: 2.6403141021728516\n",
      "Generating Image Number: 18 for target class tensor([1]). Step 100, Loss: 2.3783459663391113\n",
      "Generating Image Number: 18 for target class tensor([1]). Step 150, Loss: 2.1960649490356445\n",
      "Generating Image Number: 18 for target class tensor([1]). Step 200, Loss: 2.021442413330078\n",
      "Generating Image Number: 18 for target class tensor([1]). Step 250, Loss: 1.8061180114746094\n",
      "Generating Image Number: 18 for target class tensor([1]). Step 300, Loss: 1.461288571357727\n",
      "Generating Image Number: 18 for target class tensor([1]). Step 350, Loss: 1.256477952003479\n",
      "Generating Image Number: 18 for target class tensor([1]). Step 400, Loss: 1.0204359292984009\n",
      "Generating Image Number: 18 for target class tensor([1]). Step 450, Loss: 0.9125699996948242\n",
      "Generating Image Number: 19 for target class tensor([1]). Step 0, Loss: 3.20133113861084\n",
      "Generating Image Number: 19 for target class tensor([1]). Step 50, Loss: 2.9747912883758545\n",
      "Generating Image Number: 19 for target class tensor([1]). Step 100, Loss: 2.2537505626678467\n",
      "Generating Image Number: 19 for target class tensor([1]). Step 150, Loss: 1.2586421966552734\n",
      "Generating Image Number: 19 for target class tensor([1]). Step 200, Loss: 1.0768704414367676\n",
      "Generating Image Number: 19 for target class tensor([1]). Step 250, Loss: 1.0284514427185059\n",
      "Generating Image Number: 19 for target class tensor([1]). Step 300, Loss: 1.015204668045044\n",
      "Generating Image Number: 19 for target class tensor([1]). Step 350, Loss: 1.002519130706787\n",
      "Generating Image Number: 19 for target class tensor([1]). Step 400, Loss: 0.9913038015365601\n",
      "Generating Image Number: 19 for target class tensor([1]). Step 450, Loss: 0.9811205267906189\n",
      "Generating Image Number: 20 for target class tensor([1]). Step 0, Loss: 1.9521074295043945\n",
      "Generating Image Number: 20 for target class tensor([1]). Step 50, Loss: 1.3103909492492676\n",
      "Generating Image Number: 20 for target class tensor([1]). Step 100, Loss: 1.0629712343215942\n",
      "Generating Image Number: 20 for target class tensor([1]). Step 150, Loss: 0.9409809112548828\n",
      "Generating Image Number: 20 for target class tensor([1]). Step 200, Loss: 0.8598102927207947\n",
      "Generating Image Number: 20 for target class tensor([1]). Step 250, Loss: 0.7848775386810303\n",
      "Generating Image Number: 20 for target class tensor([1]). Step 300, Loss: 0.6732200384140015\n",
      "Generating Image Number: 20 for target class tensor([1]). Step 350, Loss: 0.5851551294326782\n",
      "Generating Image Number: 20 for target class tensor([1]). Step 400, Loss: 0.5111522078514099\n",
      "Generating Image Number: 20 for target class tensor([1]). Step 450, Loss: 0.4353455901145935\n"
     ]
    }
   ],
   "source": [
    "torch.manual_seed(100)\n",
    "latent_vectors = torch.randn(img_count, z_dim, 1, 1, requires_grad=True) # Start with 20 random noises\n",
    "class1_optimized_latent_vectors = recover_images(img_count, 1, latent_vectors)"
   ]
  },
  {
   "cell_type": "code",
   "execution_count": 22,
   "id": "1c8af686-b1ff-419d-946d-2447773e47c9",
   "metadata": {
    "scrolled": true
   },
   "outputs": [
    {
     "name": "stdout",
     "output_type": "stream",
     "text": [
      "Generating Image Number: 1 for target class tensor([2]). Step 0, Loss: 2.4447994232177734\n",
      "Generating Image Number: 1 for target class tensor([2]). Step 50, Loss: 0.1331213116645813\n",
      "Generating Image Number: 1 for target class tensor([2]). Step 100, Loss: 0.10161574184894562\n",
      "Generating Image Number: 1 for target class tensor([2]). Step 150, Loss: 0.09565649926662445\n",
      "Generating Image Number: 1 for target class tensor([2]). Step 200, Loss: 0.09010271728038788\n",
      "Generating Image Number: 1 for target class tensor([2]). Step 250, Loss: 0.08541175723075867\n",
      "Generating Image Number: 1 for target class tensor([2]). Step 300, Loss: 0.08101028949022293\n",
      "Generating Image Number: 1 for target class tensor([2]). Step 350, Loss: 0.07698746025562286\n",
      "Generating Image Number: 1 for target class tensor([2]). Step 400, Loss: 0.07269001752138138\n",
      "Generating Image Number: 1 for target class tensor([2]). Step 450, Loss: 0.06856250017881393\n",
      "Generating Image Number: 2 for target class tensor([2]). Step 0, Loss: 3.1959121227264404\n",
      "Generating Image Number: 2 for target class tensor([2]). Step 50, Loss: 1.9056675434112549\n",
      "Generating Image Number: 2 for target class tensor([2]). Step 100, Loss: 1.5430362224578857\n",
      "Generating Image Number: 2 for target class tensor([2]). Step 150, Loss: 1.2999777793884277\n",
      "Generating Image Number: 2 for target class tensor([2]). Step 200, Loss: 1.0678880214691162\n",
      "Generating Image Number: 2 for target class tensor([2]). Step 250, Loss: 0.9590685367584229\n",
      "Generating Image Number: 2 for target class tensor([2]). Step 300, Loss: 0.8234673738479614\n",
      "Generating Image Number: 2 for target class tensor([2]). Step 350, Loss: 0.7538272142410278\n",
      "Generating Image Number: 2 for target class tensor([2]). Step 400, Loss: 0.7095990777015686\n",
      "Generating Image Number: 2 for target class tensor([2]). Step 450, Loss: 0.5254297256469727\n",
      "Generating Image Number: 3 for target class tensor([2]). Step 0, Loss: 0.6864023804664612\n",
      "Generating Image Number: 3 for target class tensor([2]). Step 50, Loss: 0.14253482222557068\n",
      "Generating Image Number: 3 for target class tensor([2]). Step 100, Loss: 0.11460670828819275\n",
      "Generating Image Number: 3 for target class tensor([2]). Step 150, Loss: 0.09611150622367859\n",
      "Generating Image Number: 3 for target class tensor([2]). Step 200, Loss: 0.0831984207034111\n",
      "Generating Image Number: 3 for target class tensor([2]). Step 250, Loss: 0.07120450586080551\n",
      "Generating Image Number: 3 for target class tensor([2]). Step 300, Loss: 0.06170696020126343\n",
      "Generating Image Number: 3 for target class tensor([2]). Step 350, Loss: 0.054991643875837326\n",
      "Generating Image Number: 3 for target class tensor([2]). Step 400, Loss: 0.050107479095458984\n",
      "Generating Image Number: 3 for target class tensor([2]). Step 450, Loss: 0.046264804899692535\n",
      "Generating Image Number: 4 for target class tensor([2]). Step 0, Loss: 0.844318151473999\n",
      "Generating Image Number: 4 for target class tensor([2]). Step 50, Loss: 0.6402208805084229\n",
      "Generating Image Number: 4 for target class tensor([2]). Step 100, Loss: 0.3306463062763214\n",
      "Generating Image Number: 4 for target class tensor([2]). Step 150, Loss: 0.2469070851802826\n",
      "Generating Image Number: 4 for target class tensor([2]). Step 200, Loss: 0.20150484144687653\n",
      "Generating Image Number: 4 for target class tensor([2]). Step 250, Loss: 0.17679041624069214\n",
      "Generating Image Number: 4 for target class tensor([2]). Step 300, Loss: 0.16021008789539337\n",
      "Generating Image Number: 4 for target class tensor([2]). Step 350, Loss: 0.14819027483463287\n",
      "Generating Image Number: 4 for target class tensor([2]). Step 400, Loss: 0.1386115700006485\n",
      "Generating Image Number: 4 for target class tensor([2]). Step 450, Loss: 0.13254858553409576\n",
      "Generating Image Number: 5 for target class tensor([2]). Step 0, Loss: 2.6885111331939697\n",
      "Generating Image Number: 5 for target class tensor([2]). Step 50, Loss: 1.6410508155822754\n",
      "Generating Image Number: 5 for target class tensor([2]). Step 100, Loss: 1.2838547229766846\n",
      "Generating Image Number: 5 for target class tensor([2]). Step 150, Loss: 1.0110481977462769\n",
      "Generating Image Number: 5 for target class tensor([2]). Step 200, Loss: 0.8525238037109375\n",
      "Generating Image Number: 5 for target class tensor([2]). Step 250, Loss: 0.7470667958259583\n",
      "Generating Image Number: 5 for target class tensor([2]). Step 300, Loss: 0.6927799582481384\n",
      "Generating Image Number: 5 for target class tensor([2]). Step 350, Loss: 0.6500970125198364\n",
      "Generating Image Number: 5 for target class tensor([2]). Step 400, Loss: 0.620445966720581\n",
      "Generating Image Number: 5 for target class tensor([2]). Step 450, Loss: 0.5945022702217102\n",
      "Generating Image Number: 6 for target class tensor([2]). Step 0, Loss: 2.8550262451171875\n",
      "Generating Image Number: 6 for target class tensor([2]). Step 50, Loss: 0.460737407207489\n",
      "Generating Image Number: 6 for target class tensor([2]). Step 100, Loss: 0.2997996509075165\n",
      "Generating Image Number: 6 for target class tensor([2]). Step 150, Loss: 0.21266527473926544\n",
      "Generating Image Number: 6 for target class tensor([2]). Step 200, Loss: 0.16633982956409454\n",
      "Generating Image Number: 6 for target class tensor([2]). Step 250, Loss: 0.1354745775461197\n",
      "Generating Image Number: 6 for target class tensor([2]). Step 300, Loss: 0.10909601300954819\n",
      "Generating Image Number: 6 for target class tensor([2]). Step 350, Loss: 0.08792769908905029\n",
      "Generating Image Number: 6 for target class tensor([2]). Step 400, Loss: 0.07596507668495178\n",
      "Generating Image Number: 6 for target class tensor([2]). Step 450, Loss: 0.06766705214977264\n",
      "Generating Image Number: 7 for target class tensor([2]). Step 0, Loss: 2.983720302581787\n",
      "Generating Image Number: 7 for target class tensor([2]). Step 50, Loss: 0.3956168293952942\n",
      "Generating Image Number: 7 for target class tensor([2]). Step 100, Loss: 0.16041938960552216\n",
      "Generating Image Number: 7 for target class tensor([2]). Step 150, Loss: 0.13420066237449646\n",
      "Generating Image Number: 7 for target class tensor([2]). Step 200, Loss: 0.1132412999868393\n",
      "Generating Image Number: 7 for target class tensor([2]). Step 250, Loss: 0.09770906716585159\n",
      "Generating Image Number: 7 for target class tensor([2]). Step 300, Loss: 0.08587910979986191\n",
      "Generating Image Number: 7 for target class tensor([2]). Step 350, Loss: 0.07507059723138809\n",
      "Generating Image Number: 7 for target class tensor([2]). Step 400, Loss: 0.06623943150043488\n",
      "Generating Image Number: 7 for target class tensor([2]). Step 450, Loss: 0.059221286326646805\n",
      "Generating Image Number: 8 for target class tensor([2]). Step 0, Loss: 2.4165167808532715\n",
      "Generating Image Number: 8 for target class tensor([2]). Step 50, Loss: 0.08403842151165009\n",
      "Generating Image Number: 8 for target class tensor([2]). Step 100, Loss: 0.07634586095809937\n",
      "Generating Image Number: 8 for target class tensor([2]). Step 150, Loss: 0.06751920282840729\n",
      "Generating Image Number: 8 for target class tensor([2]). Step 200, Loss: 0.05800779536366463\n",
      "Generating Image Number: 8 for target class tensor([2]). Step 250, Loss: 0.05032503604888916\n",
      "Generating Image Number: 8 for target class tensor([2]). Step 300, Loss: 0.04631385952234268\n",
      "Generating Image Number: 8 for target class tensor([2]). Step 350, Loss: 0.04313499107956886\n",
      "Generating Image Number: 8 for target class tensor([2]). Step 400, Loss: 0.040991656482219696\n",
      "Generating Image Number: 8 for target class tensor([2]). Step 450, Loss: 0.038679733872413635\n",
      "Generating Image Number: 9 for target class tensor([2]). Step 0, Loss: 1.0560154914855957\n",
      "Generating Image Number: 9 for target class tensor([2]). Step 50, Loss: 0.1407967507839203\n",
      "Generating Image Number: 9 for target class tensor([2]). Step 100, Loss: 0.11787458509206772\n",
      "Generating Image Number: 9 for target class tensor([2]). Step 150, Loss: 0.10625270009040833\n",
      "Generating Image Number: 9 for target class tensor([2]). Step 200, Loss: 0.09663406759500504\n",
      "Generating Image Number: 9 for target class tensor([2]). Step 250, Loss: 0.08727811276912689\n",
      "Generating Image Number: 9 for target class tensor([2]). Step 300, Loss: 0.07709617167711258\n",
      "Generating Image Number: 9 for target class tensor([2]). Step 350, Loss: 0.06937606632709503\n",
      "Generating Image Number: 9 for target class tensor([2]). Step 400, Loss: 0.06424069404602051\n",
      "Generating Image Number: 9 for target class tensor([2]). Step 450, Loss: 0.060612279921770096\n",
      "Generating Image Number: 10 for target class tensor([2]). Step 0, Loss: 2.7418453693389893\n",
      "Generating Image Number: 10 for target class tensor([2]). Step 50, Loss: 1.807487964630127\n",
      "Generating Image Number: 10 for target class tensor([2]). Step 100, Loss: 1.5244922637939453\n",
      "Generating Image Number: 10 for target class tensor([2]). Step 150, Loss: 1.3143761157989502\n",
      "Generating Image Number: 10 for target class tensor([2]). Step 200, Loss: 1.1639208793640137\n",
      "Generating Image Number: 10 for target class tensor([2]). Step 250, Loss: 1.0299785137176514\n",
      "Generating Image Number: 10 for target class tensor([2]). Step 300, Loss: 0.9101056456565857\n",
      "Generating Image Number: 10 for target class tensor([2]). Step 350, Loss: 0.8215194940567017\n",
      "Generating Image Number: 10 for target class tensor([2]). Step 400, Loss: 0.7562506198883057\n",
      "Generating Image Number: 10 for target class tensor([2]). Step 450, Loss: 0.6896161437034607\n",
      "Generating Image Number: 11 for target class tensor([2]). Step 0, Loss: 1.0574074983596802\n",
      "Generating Image Number: 11 for target class tensor([2]). Step 50, Loss: 0.6230911016464233\n",
      "Generating Image Number: 11 for target class tensor([2]). Step 100, Loss: 0.5635221004486084\n",
      "Generating Image Number: 11 for target class tensor([2]). Step 150, Loss: 0.5149937868118286\n",
      "Generating Image Number: 11 for target class tensor([2]). Step 200, Loss: 0.4762716591358185\n",
      "Generating Image Number: 11 for target class tensor([2]). Step 250, Loss: 0.445720374584198\n",
      "Generating Image Number: 11 for target class tensor([2]). Step 300, Loss: 0.4205104112625122\n",
      "Generating Image Number: 11 for target class tensor([2]). Step 350, Loss: 0.35568103194236755\n",
      "Generating Image Number: 11 for target class tensor([2]). Step 400, Loss: 0.13366328179836273\n",
      "Generating Image Number: 11 for target class tensor([2]). Step 450, Loss: 0.07378418743610382\n",
      "Generating Image Number: 12 for target class tensor([2]). Step 0, Loss: 24.420825958251953\n",
      "Generating Image Number: 12 for target class tensor([2]). Step 50, Loss: 23.598224639892578\n",
      "Generating Image Number: 12 for target class tensor([2]). Step 100, Loss: 22.957672119140625\n",
      "Generating Image Number: 12 for target class tensor([2]). Step 150, Loss: 0.17365549504756927\n",
      "Generating Image Number: 12 for target class tensor([2]). Step 200, Loss: 0.16470950841903687\n",
      "Generating Image Number: 12 for target class tensor([2]). Step 250, Loss: 0.16191639006137848\n",
      "Generating Image Number: 12 for target class tensor([2]). Step 300, Loss: 0.15938954055309296\n",
      "Generating Image Number: 12 for target class tensor([2]). Step 350, Loss: 0.15669137239456177\n",
      "Generating Image Number: 12 for target class tensor([2]). Step 400, Loss: 0.15352685749530792\n",
      "Generating Image Number: 12 for target class tensor([2]). Step 450, Loss: 0.1507127434015274\n",
      "Generating Image Number: 13 for target class tensor([2]). Step 0, Loss: 3.7290420532226562\n",
      "Generating Image Number: 13 for target class tensor([2]). Step 50, Loss: 1.6205322742462158\n",
      "Generating Image Number: 13 for target class tensor([2]). Step 100, Loss: 1.391144037246704\n",
      "Generating Image Number: 13 for target class tensor([2]). Step 150, Loss: 1.214850902557373\n",
      "Generating Image Number: 13 for target class tensor([2]). Step 200, Loss: 1.0429517030715942\n",
      "Generating Image Number: 13 for target class tensor([2]). Step 250, Loss: 0.907353401184082\n",
      "Generating Image Number: 13 for target class tensor([2]). Step 300, Loss: 0.8188580870628357\n",
      "Generating Image Number: 13 for target class tensor([2]). Step 350, Loss: 0.7474138736724854\n",
      "Generating Image Number: 13 for target class tensor([2]). Step 400, Loss: 0.7001258730888367\n",
      "Generating Image Number: 13 for target class tensor([2]). Step 450, Loss: 0.6675093770027161\n",
      "Generating Image Number: 14 for target class tensor([2]). Step 0, Loss: 1.8641033172607422\n",
      "Generating Image Number: 14 for target class tensor([2]). Step 50, Loss: 0.079743392765522\n",
      "Generating Image Number: 14 for target class tensor([2]). Step 100, Loss: 0.0718429759144783\n",
      "Generating Image Number: 14 for target class tensor([2]). Step 150, Loss: 0.0645148828625679\n",
      "Generating Image Number: 14 for target class tensor([2]). Step 200, Loss: 0.05843472108244896\n",
      "Generating Image Number: 14 for target class tensor([2]). Step 250, Loss: 0.05353664979338646\n",
      "Generating Image Number: 14 for target class tensor([2]). Step 300, Loss: 0.04871688783168793\n",
      "Generating Image Number: 14 for target class tensor([2]). Step 350, Loss: 0.044995591044425964\n",
      "Generating Image Number: 14 for target class tensor([2]). Step 400, Loss: 0.04181652516126633\n",
      "Generating Image Number: 14 for target class tensor([2]). Step 450, Loss: 0.03928062319755554\n",
      "Generating Image Number: 15 for target class tensor([2]). Step 0, Loss: 1.6698904037475586\n",
      "Generating Image Number: 15 for target class tensor([2]). Step 50, Loss: 0.06399035453796387\n",
      "Generating Image Number: 15 for target class tensor([2]). Step 100, Loss: 0.05307857692241669\n",
      "Generating Image Number: 15 for target class tensor([2]). Step 150, Loss: 0.046656496822834015\n",
      "Generating Image Number: 15 for target class tensor([2]). Step 200, Loss: 0.04209590330719948\n",
      "Generating Image Number: 15 for target class tensor([2]). Step 250, Loss: 0.03841477259993553\n",
      "Generating Image Number: 15 for target class tensor([2]). Step 300, Loss: 0.03550741448998451\n",
      "Generating Image Number: 15 for target class tensor([2]). Step 350, Loss: 0.032970551401376724\n",
      "Generating Image Number: 15 for target class tensor([2]). Step 400, Loss: 0.030351953580975533\n",
      "Generating Image Number: 15 for target class tensor([2]). Step 450, Loss: 0.02818205952644348\n",
      "Generating Image Number: 16 for target class tensor([2]). Step 0, Loss: 1.3328845500946045\n",
      "Generating Image Number: 16 for target class tensor([2]). Step 50, Loss: 0.07863159477710724\n",
      "Generating Image Number: 16 for target class tensor([2]). Step 100, Loss: 0.07049252837896347\n",
      "Generating Image Number: 16 for target class tensor([2]). Step 150, Loss: 0.06316500902175903\n",
      "Generating Image Number: 16 for target class tensor([2]). Step 200, Loss: 0.056767601519823074\n",
      "Generating Image Number: 16 for target class tensor([2]). Step 250, Loss: 0.05205260217189789\n",
      "Generating Image Number: 16 for target class tensor([2]). Step 300, Loss: 0.04821990802884102\n",
      "Generating Image Number: 16 for target class tensor([2]). Step 350, Loss: 0.04457166790962219\n",
      "Generating Image Number: 16 for target class tensor([2]). Step 400, Loss: 0.04107312113046646\n",
      "Generating Image Number: 16 for target class tensor([2]). Step 450, Loss: 0.03807675838470459\n",
      "Generating Image Number: 17 for target class tensor([2]). Step 0, Loss: 0.42530137300491333\n",
      "Generating Image Number: 17 for target class tensor([2]). Step 50, Loss: 0.20078352093696594\n",
      "Generating Image Number: 17 for target class tensor([2]). Step 100, Loss: 0.1503169983625412\n",
      "Generating Image Number: 17 for target class tensor([2]). Step 150, Loss: 0.12707304954528809\n",
      "Generating Image Number: 17 for target class tensor([2]). Step 200, Loss: 0.10507234185934067\n",
      "Generating Image Number: 17 for target class tensor([2]). Step 250, Loss: 0.08945269137620926\n",
      "Generating Image Number: 17 for target class tensor([2]). Step 300, Loss: 0.07998067885637283\n",
      "Generating Image Number: 17 for target class tensor([2]). Step 350, Loss: 0.07411555200815201\n",
      "Generating Image Number: 17 for target class tensor([2]). Step 400, Loss: 0.06898415833711624\n",
      "Generating Image Number: 17 for target class tensor([2]). Step 450, Loss: 0.0640338584780693\n",
      "Generating Image Number: 18 for target class tensor([2]). Step 0, Loss: 22.93972396850586\n",
      "Generating Image Number: 18 for target class tensor([2]). Step 50, Loss: 0.10494527220726013\n",
      "Generating Image Number: 18 for target class tensor([2]). Step 100, Loss: 0.09763705730438232\n",
      "Generating Image Number: 18 for target class tensor([2]). Step 150, Loss: 0.09115222096443176\n",
      "Generating Image Number: 18 for target class tensor([2]). Step 200, Loss: 0.07498444616794586\n",
      "Generating Image Number: 18 for target class tensor([2]). Step 250, Loss: 0.058806050568819046\n",
      "Generating Image Number: 18 for target class tensor([2]). Step 300, Loss: 0.05754445120692253\n",
      "Generating Image Number: 18 for target class tensor([2]). Step 350, Loss: 0.05678167939186096\n",
      "Generating Image Number: 18 for target class tensor([2]). Step 400, Loss: 0.05606893450021744\n",
      "Generating Image Number: 18 for target class tensor([2]). Step 450, Loss: 0.05534632131457329\n",
      "Generating Image Number: 19 for target class tensor([2]). Step 0, Loss: 2.4124083518981934\n",
      "Generating Image Number: 19 for target class tensor([2]). Step 50, Loss: 1.7426056861877441\n",
      "Generating Image Number: 19 for target class tensor([2]). Step 100, Loss: 1.3965823650360107\n",
      "Generating Image Number: 19 for target class tensor([2]). Step 150, Loss: 1.1357502937316895\n",
      "Generating Image Number: 19 for target class tensor([2]). Step 200, Loss: 0.9363350868225098\n",
      "Generating Image Number: 19 for target class tensor([2]). Step 250, Loss: 0.804286539554596\n",
      "Generating Image Number: 19 for target class tensor([2]). Step 300, Loss: 0.6946337819099426\n",
      "Generating Image Number: 19 for target class tensor([2]). Step 350, Loss: 0.630858302116394\n",
      "Generating Image Number: 19 for target class tensor([2]). Step 400, Loss: 0.5953953862190247\n",
      "Generating Image Number: 19 for target class tensor([2]). Step 450, Loss: 0.5726335644721985\n",
      "Generating Image Number: 20 for target class tensor([2]). Step 0, Loss: 0.3746148943901062\n",
      "Generating Image Number: 20 for target class tensor([2]). Step 50, Loss: 0.11437824368476868\n",
      "Generating Image Number: 20 for target class tensor([2]). Step 100, Loss: 0.08167417347431183\n",
      "Generating Image Number: 20 for target class tensor([2]). Step 150, Loss: 0.063383549451828\n",
      "Generating Image Number: 20 for target class tensor([2]). Step 200, Loss: 0.05186767503619194\n",
      "Generating Image Number: 20 for target class tensor([2]). Step 250, Loss: 0.042781438678503036\n",
      "Generating Image Number: 20 for target class tensor([2]). Step 300, Loss: 0.03701183572411537\n",
      "Generating Image Number: 20 for target class tensor([2]). Step 350, Loss: 0.032695651054382324\n",
      "Generating Image Number: 20 for target class tensor([2]). Step 400, Loss: 0.02955460734665394\n",
      "Generating Image Number: 20 for target class tensor([2]). Step 450, Loss: 0.0271597933024168\n"
     ]
    }
   ],
   "source": [
    "torch.manual_seed(200)\n",
    "latent_vectors = torch.randn(img_count, z_dim, 1, 1, requires_grad=True) # Start with 20 random noises\n",
    "class2_optimized_latent_vectors = recover_images(img_count, 2, latent_vectors)"
   ]
  },
  {
   "cell_type": "code",
   "execution_count": 23,
   "id": "0381b36d-6c92-43bc-b776-1eefd3eab451",
   "metadata": {
    "scrolled": true
   },
   "outputs": [
    {
     "name": "stdout",
     "output_type": "stream",
     "text": [
      "Generating Image Number: 1 for target class tensor([3]). Step 0, Loss: 0.1949106901884079\n",
      "Generating Image Number: 1 for target class tensor([3]). Step 50, Loss: 0.034012939780950546\n",
      "Generating Image Number: 1 for target class tensor([3]). Step 100, Loss: 0.02281942404806614\n",
      "Generating Image Number: 1 for target class tensor([3]). Step 150, Loss: 0.013770694844424725\n",
      "Generating Image Number: 1 for target class tensor([3]). Step 200, Loss: 0.012567726895213127\n",
      "Generating Image Number: 1 for target class tensor([3]). Step 250, Loss: 0.011967997066676617\n",
      "Generating Image Number: 1 for target class tensor([3]). Step 300, Loss: 0.011494600214064121\n",
      "Generating Image Number: 1 for target class tensor([3]). Step 350, Loss: 0.011244144290685654\n",
      "Generating Image Number: 1 for target class tensor([3]). Step 400, Loss: 0.010981952771544456\n",
      "Generating Image Number: 1 for target class tensor([3]). Step 450, Loss: 0.010836562141776085\n",
      "Generating Image Number: 2 for target class tensor([3]). Step 0, Loss: 0.9303982257843018\n",
      "Generating Image Number: 2 for target class tensor([3]). Step 50, Loss: 0.5867093205451965\n",
      "Generating Image Number: 2 for target class tensor([3]). Step 100, Loss: 0.41368740797042847\n",
      "Generating Image Number: 2 for target class tensor([3]). Step 150, Loss: 0.3190136253833771\n",
      "Generating Image Number: 2 for target class tensor([3]). Step 200, Loss: 0.27380090951919556\n",
      "Generating Image Number: 2 for target class tensor([3]). Step 250, Loss: 0.23938533663749695\n",
      "Generating Image Number: 2 for target class tensor([3]). Step 300, Loss: 0.2059069573879242\n",
      "Generating Image Number: 2 for target class tensor([3]). Step 350, Loss: 0.17848165333271027\n",
      "Generating Image Number: 2 for target class tensor([3]). Step 400, Loss: 0.15880754590034485\n",
      "Generating Image Number: 2 for target class tensor([3]). Step 450, Loss: 0.1450074464082718\n",
      "Generating Image Number: 3 for target class tensor([3]). Step 0, Loss: 0.43327611684799194\n",
      "Generating Image Number: 3 for target class tensor([3]). Step 50, Loss: 0.20967037975788116\n",
      "Generating Image Number: 3 for target class tensor([3]). Step 100, Loss: 0.18218082189559937\n",
      "Generating Image Number: 3 for target class tensor([3]). Step 150, Loss: 0.16496507823467255\n",
      "Generating Image Number: 3 for target class tensor([3]). Step 200, Loss: 0.14943766593933105\n",
      "Generating Image Number: 3 for target class tensor([3]). Step 250, Loss: 0.1380707323551178\n",
      "Generating Image Number: 3 for target class tensor([3]). Step 300, Loss: 0.12814341485500336\n",
      "Generating Image Number: 3 for target class tensor([3]). Step 350, Loss: 0.11980658769607544\n",
      "Generating Image Number: 3 for target class tensor([3]). Step 400, Loss: 0.10948532819747925\n",
      "Generating Image Number: 3 for target class tensor([3]). Step 450, Loss: 0.10141240060329437\n",
      "Generating Image Number: 4 for target class tensor([3]). Step 0, Loss: 1.7953879833221436\n",
      "Generating Image Number: 4 for target class tensor([3]). Step 50, Loss: 1.0170263051986694\n",
      "Generating Image Number: 4 for target class tensor([3]). Step 100, Loss: 0.9272245168685913\n",
      "Generating Image Number: 4 for target class tensor([3]). Step 150, Loss: 0.8294808864593506\n",
      "Generating Image Number: 4 for target class tensor([3]). Step 200, Loss: 0.7502040863037109\n",
      "Generating Image Number: 4 for target class tensor([3]). Step 250, Loss: 0.6857333183288574\n",
      "Generating Image Number: 4 for target class tensor([3]). Step 300, Loss: 0.6251747608184814\n",
      "Generating Image Number: 4 for target class tensor([3]). Step 350, Loss: 0.5640767216682434\n",
      "Generating Image Number: 4 for target class tensor([3]). Step 400, Loss: 0.5240902900695801\n",
      "Generating Image Number: 4 for target class tensor([3]). Step 450, Loss: 0.49651217460632324\n",
      "Generating Image Number: 5 for target class tensor([3]). Step 0, Loss: 2.471480369567871\n",
      "Generating Image Number: 5 for target class tensor([3]). Step 50, Loss: 0.0058730891905725\n",
      "Generating Image Number: 5 for target class tensor([3]). Step 100, Loss: 0.0053092907182872295\n",
      "Generating Image Number: 5 for target class tensor([3]). Step 150, Loss: 0.005025493446737528\n",
      "Generating Image Number: 5 for target class tensor([3]). Step 200, Loss: 0.004794173873960972\n",
      "Generating Image Number: 5 for target class tensor([3]). Step 250, Loss: 0.004676120821386576\n",
      "Generating Image Number: 5 for target class tensor([3]). Step 300, Loss: 0.004590330645442009\n",
      "Generating Image Number: 5 for target class tensor([3]). Step 350, Loss: 0.004495751578360796\n",
      "Generating Image Number: 5 for target class tensor([3]). Step 400, Loss: 0.004411726724356413\n",
      "Generating Image Number: 5 for target class tensor([3]). Step 450, Loss: 0.0043265074491500854\n",
      "Generating Image Number: 6 for target class tensor([3]). Step 0, Loss: 1.5773260593414307\n",
      "Generating Image Number: 6 for target class tensor([3]). Step 50, Loss: 0.4042995274066925\n",
      "Generating Image Number: 6 for target class tensor([3]). Step 100, Loss: 0.32211777567863464\n",
      "Generating Image Number: 6 for target class tensor([3]). Step 150, Loss: 0.266936719417572\n",
      "Generating Image Number: 6 for target class tensor([3]). Step 200, Loss: 0.22598698735237122\n",
      "Generating Image Number: 6 for target class tensor([3]). Step 250, Loss: 0.1943501979112625\n",
      "Generating Image Number: 6 for target class tensor([3]). Step 300, Loss: 0.1747550368309021\n",
      "Generating Image Number: 6 for target class tensor([3]). Step 350, Loss: 0.1625850349664688\n",
      "Generating Image Number: 6 for target class tensor([3]). Step 400, Loss: 0.15087473392486572\n",
      "Generating Image Number: 6 for target class tensor([3]). Step 450, Loss: 0.142221137881279\n",
      "Generating Image Number: 7 for target class tensor([3]). Step 0, Loss: 1.2486406564712524\n",
      "Generating Image Number: 7 for target class tensor([3]). Step 50, Loss: 0.6867725849151611\n",
      "Generating Image Number: 7 for target class tensor([3]). Step 100, Loss: 0.5261005759239197\n",
      "Generating Image Number: 7 for target class tensor([3]). Step 150, Loss: 0.45101314783096313\n",
      "Generating Image Number: 7 for target class tensor([3]). Step 200, Loss: 0.3998200595378876\n",
      "Generating Image Number: 7 for target class tensor([3]). Step 250, Loss: 0.3496742248535156\n",
      "Generating Image Number: 7 for target class tensor([3]). Step 300, Loss: 0.3266289234161377\n",
      "Generating Image Number: 7 for target class tensor([3]). Step 350, Loss: 0.28802233934402466\n",
      "Generating Image Number: 7 for target class tensor([3]). Step 400, Loss: 0.25751110911369324\n",
      "Generating Image Number: 7 for target class tensor([3]). Step 450, Loss: 0.23400959372520447\n",
      "Generating Image Number: 8 for target class tensor([3]). Step 0, Loss: 0.2462700754404068\n",
      "Generating Image Number: 8 for target class tensor([3]). Step 50, Loss: 0.005264111328870058\n",
      "Generating Image Number: 8 for target class tensor([3]). Step 100, Loss: 0.004030795302242041\n",
      "Generating Image Number: 8 for target class tensor([3]). Step 150, Loss: 0.0036466307938098907\n",
      "Generating Image Number: 8 for target class tensor([3]). Step 200, Loss: 0.0034833012614399195\n",
      "Generating Image Number: 8 for target class tensor([3]). Step 250, Loss: 0.0033585589844733477\n",
      "Generating Image Number: 8 for target class tensor([3]). Step 300, Loss: 0.00322073046118021\n",
      "Generating Image Number: 8 for target class tensor([3]). Step 350, Loss: 0.003083952469751239\n",
      "Generating Image Number: 8 for target class tensor([3]). Step 400, Loss: 0.0029487009160220623\n",
      "Generating Image Number: 8 for target class tensor([3]). Step 450, Loss: 0.002812598831951618\n",
      "Generating Image Number: 9 for target class tensor([3]). Step 0, Loss: 1.0663117170333862\n",
      "Generating Image Number: 9 for target class tensor([3]). Step 50, Loss: 0.01608244515955448\n",
      "Generating Image Number: 9 for target class tensor([3]). Step 100, Loss: 0.009295400232076645\n",
      "Generating Image Number: 9 for target class tensor([3]). Step 150, Loss: 0.007762623019516468\n",
      "Generating Image Number: 9 for target class tensor([3]). Step 200, Loss: 0.00690289493650198\n",
      "Generating Image Number: 9 for target class tensor([3]). Step 250, Loss: 0.00614124396815896\n",
      "Generating Image Number: 9 for target class tensor([3]). Step 300, Loss: 0.005536816082894802\n",
      "Generating Image Number: 9 for target class tensor([3]). Step 350, Loss: 0.0043697115033864975\n",
      "Generating Image Number: 9 for target class tensor([3]). Step 400, Loss: 0.0030497252009809017\n",
      "Generating Image Number: 9 for target class tensor([3]). Step 450, Loss: 0.0024703005328774452\n",
      "Generating Image Number: 10 for target class tensor([3]). Step 0, Loss: 2.3174080848693848\n",
      "Generating Image Number: 10 for target class tensor([3]). Step 50, Loss: 0.019742650911211967\n",
      "Generating Image Number: 10 for target class tensor([3]). Step 100, Loss: 0.005998703185468912\n",
      "Generating Image Number: 10 for target class tensor([3]). Step 150, Loss: 0.005858393386006355\n",
      "Generating Image Number: 10 for target class tensor([3]). Step 200, Loss: 0.005760259926319122\n",
      "Generating Image Number: 10 for target class tensor([3]). Step 250, Loss: 0.005674799904227257\n",
      "Generating Image Number: 10 for target class tensor([3]). Step 300, Loss: 0.005588503088802099\n",
      "Generating Image Number: 10 for target class tensor([3]). Step 350, Loss: 0.0055086007341742516\n",
      "Generating Image Number: 10 for target class tensor([3]). Step 400, Loss: 0.005414464045315981\n",
      "Generating Image Number: 10 for target class tensor([3]). Step 450, Loss: 0.005289962515234947\n",
      "Generating Image Number: 11 for target class tensor([3]). Step 0, Loss: 1.0469136238098145\n",
      "Generating Image Number: 11 for target class tensor([3]). Step 50, Loss: 0.01229728665202856\n",
      "Generating Image Number: 11 for target class tensor([3]). Step 100, Loss: 0.007867774926126003\n",
      "Generating Image Number: 11 for target class tensor([3]). Step 150, Loss: 0.006616470403969288\n",
      "Generating Image Number: 11 for target class tensor([3]). Step 200, Loss: 0.005353874992579222\n",
      "Generating Image Number: 11 for target class tensor([3]). Step 250, Loss: 0.004214809741824865\n",
      "Generating Image Number: 11 for target class tensor([3]). Step 300, Loss: 0.003950411919504404\n",
      "Generating Image Number: 11 for target class tensor([3]). Step 350, Loss: 0.0037450906820595264\n",
      "Generating Image Number: 11 for target class tensor([3]). Step 400, Loss: 0.0035545756109058857\n",
      "Generating Image Number: 11 for target class tensor([3]). Step 450, Loss: 0.0033895678352564573\n",
      "Generating Image Number: 12 for target class tensor([3]). Step 0, Loss: 2.930638551712036\n",
      "Generating Image Number: 12 for target class tensor([3]). Step 50, Loss: 0.5045404434204102\n",
      "Generating Image Number: 12 for target class tensor([3]). Step 100, Loss: 0.3532662093639374\n",
      "Generating Image Number: 12 for target class tensor([3]). Step 150, Loss: 0.28027355670928955\n",
      "Generating Image Number: 12 for target class tensor([3]). Step 200, Loss: 0.2423657476902008\n",
      "Generating Image Number: 12 for target class tensor([3]). Step 250, Loss: 0.215362086892128\n",
      "Generating Image Number: 12 for target class tensor([3]). Step 300, Loss: 0.1951456069946289\n",
      "Generating Image Number: 12 for target class tensor([3]). Step 350, Loss: 0.17898054420948029\n",
      "Generating Image Number: 12 for target class tensor([3]). Step 400, Loss: 0.16758739948272705\n",
      "Generating Image Number: 12 for target class tensor([3]). Step 450, Loss: 0.15815754234790802\n",
      "Generating Image Number: 13 for target class tensor([3]). Step 0, Loss: 2.461679697036743\n",
      "Generating Image Number: 13 for target class tensor([3]). Step 50, Loss: 0.3658308982849121\n",
      "Generating Image Number: 13 for target class tensor([3]). Step 100, Loss: 0.29469940066337585\n",
      "Generating Image Number: 13 for target class tensor([3]). Step 150, Loss: 0.24625292420387268\n",
      "Generating Image Number: 13 for target class tensor([3]). Step 200, Loss: 0.21000023186206818\n",
      "Generating Image Number: 13 for target class tensor([3]). Step 250, Loss: 0.18566805124282837\n",
      "Generating Image Number: 13 for target class tensor([3]). Step 300, Loss: 0.16341866552829742\n",
      "Generating Image Number: 13 for target class tensor([3]). Step 350, Loss: 0.14533108472824097\n",
      "Generating Image Number: 13 for target class tensor([3]). Step 400, Loss: 0.13004250824451447\n",
      "Generating Image Number: 13 for target class tensor([3]). Step 450, Loss: 0.11742036044597626\n",
      "Generating Image Number: 14 for target class tensor([3]). Step 0, Loss: 0.961976170539856\n",
      "Generating Image Number: 14 for target class tensor([3]). Step 50, Loss: 0.01268449891358614\n",
      "Generating Image Number: 14 for target class tensor([3]). Step 100, Loss: 0.006490104831755161\n",
      "Generating Image Number: 14 for target class tensor([3]). Step 150, Loss: 0.006163636222481728\n",
      "Generating Image Number: 14 for target class tensor([3]). Step 200, Loss: 0.005927246995270252\n",
      "Generating Image Number: 14 for target class tensor([3]). Step 250, Loss: 0.005712493322789669\n",
      "Generating Image Number: 14 for target class tensor([3]). Step 300, Loss: 0.005474219098687172\n",
      "Generating Image Number: 14 for target class tensor([3]). Step 350, Loss: 0.00522557133808732\n",
      "Generating Image Number: 14 for target class tensor([3]). Step 400, Loss: 0.004993467591702938\n",
      "Generating Image Number: 14 for target class tensor([3]). Step 450, Loss: 0.004802952986210585\n",
      "Generating Image Number: 15 for target class tensor([3]). Step 0, Loss: 2.1192004680633545\n",
      "Generating Image Number: 15 for target class tensor([3]). Step 50, Loss: 1.3708746433258057\n",
      "Generating Image Number: 15 for target class tensor([3]). Step 100, Loss: 1.1732099056243896\n",
      "Generating Image Number: 15 for target class tensor([3]). Step 150, Loss: 1.0646741390228271\n",
      "Generating Image Number: 15 for target class tensor([3]). Step 200, Loss: 0.9769793152809143\n",
      "Generating Image Number: 15 for target class tensor([3]). Step 250, Loss: 0.8939433097839355\n",
      "Generating Image Number: 15 for target class tensor([3]). Step 300, Loss: 0.8122091293334961\n",
      "Generating Image Number: 15 for target class tensor([3]). Step 350, Loss: 0.7653704881668091\n",
      "Generating Image Number: 15 for target class tensor([3]). Step 400, Loss: 0.727774441242218\n",
      "Generating Image Number: 15 for target class tensor([3]). Step 450, Loss: 0.6920254230499268\n",
      "Generating Image Number: 16 for target class tensor([3]). Step 0, Loss: 3.82560396194458\n",
      "Generating Image Number: 16 for target class tensor([3]). Step 50, Loss: 2.140031337738037\n",
      "Generating Image Number: 16 for target class tensor([3]). Step 100, Loss: 1.8179893493652344\n",
      "Generating Image Number: 16 for target class tensor([3]). Step 150, Loss: 1.714483618736267\n",
      "Generating Image Number: 16 for target class tensor([3]). Step 200, Loss: 1.5655460357666016\n",
      "Generating Image Number: 16 for target class tensor([3]). Step 250, Loss: 1.4674583673477173\n",
      "Generating Image Number: 16 for target class tensor([3]). Step 300, Loss: 1.328371286392212\n",
      "Generating Image Number: 16 for target class tensor([3]). Step 350, Loss: 1.2519714832305908\n",
      "Generating Image Number: 16 for target class tensor([3]). Step 400, Loss: 1.15941321849823\n",
      "Generating Image Number: 16 for target class tensor([3]). Step 450, Loss: 1.1047199964523315\n",
      "Generating Image Number: 17 for target class tensor([3]). Step 0, Loss: 1.877408504486084\n",
      "Generating Image Number: 17 for target class tensor([3]). Step 50, Loss: 0.6484903693199158\n",
      "Generating Image Number: 17 for target class tensor([3]). Step 100, Loss: 0.516427218914032\n",
      "Generating Image Number: 17 for target class tensor([3]). Step 150, Loss: 0.4503476023674011\n",
      "Generating Image Number: 17 for target class tensor([3]). Step 200, Loss: 0.4108428657054901\n",
      "Generating Image Number: 17 for target class tensor([3]). Step 250, Loss: 0.3659399449825287\n",
      "Generating Image Number: 17 for target class tensor([3]). Step 300, Loss: 0.3124886751174927\n",
      "Generating Image Number: 17 for target class tensor([3]). Step 350, Loss: 0.27297550439834595\n",
      "Generating Image Number: 17 for target class tensor([3]). Step 400, Loss: 0.2497273087501526\n",
      "Generating Image Number: 17 for target class tensor([3]). Step 450, Loss: 0.2294834703207016\n",
      "Generating Image Number: 18 for target class tensor([3]). Step 0, Loss: 3.58280348777771\n",
      "Generating Image Number: 18 for target class tensor([3]). Step 50, Loss: 0.8248541355133057\n",
      "Generating Image Number: 18 for target class tensor([3]). Step 100, Loss: 0.5349065065383911\n",
      "Generating Image Number: 18 for target class tensor([3]). Step 150, Loss: 0.4080483019351959\n",
      "Generating Image Number: 18 for target class tensor([3]). Step 200, Loss: 0.3383594751358032\n",
      "Generating Image Number: 18 for target class tensor([3]). Step 250, Loss: 0.27093014121055603\n",
      "Generating Image Number: 18 for target class tensor([3]). Step 300, Loss: 0.2218426614999771\n",
      "Generating Image Number: 18 for target class tensor([3]). Step 350, Loss: 0.19692888855934143\n",
      "Generating Image Number: 18 for target class tensor([3]). Step 400, Loss: 0.17616640031337738\n",
      "Generating Image Number: 18 for target class tensor([3]). Step 450, Loss: 0.15829166769981384\n",
      "Generating Image Number: 19 for target class tensor([3]). Step 0, Loss: 3.2266194820404053\n",
      "Generating Image Number: 19 for target class tensor([3]). Step 50, Loss: 0.9983280897140503\n",
      "Generating Image Number: 19 for target class tensor([3]). Step 100, Loss: 0.9539017081260681\n",
      "Generating Image Number: 19 for target class tensor([3]). Step 150, Loss: 0.9158905148506165\n",
      "Generating Image Number: 19 for target class tensor([3]). Step 200, Loss: 0.8669524788856506\n",
      "Generating Image Number: 19 for target class tensor([3]). Step 250, Loss: 0.8226282596588135\n",
      "Generating Image Number: 19 for target class tensor([3]). Step 300, Loss: 0.7621152997016907\n",
      "Generating Image Number: 19 for target class tensor([3]). Step 350, Loss: 0.7040108442306519\n",
      "Generating Image Number: 19 for target class tensor([3]). Step 400, Loss: 0.6565677523612976\n",
      "Generating Image Number: 19 for target class tensor([3]). Step 450, Loss: 0.6108417510986328\n",
      "Generating Image Number: 20 for target class tensor([3]). Step 0, Loss: 3.130232810974121\n",
      "Generating Image Number: 20 for target class tensor([3]). Step 50, Loss: 0.7747691869735718\n",
      "Generating Image Number: 20 for target class tensor([3]). Step 100, Loss: 0.6237454414367676\n",
      "Generating Image Number: 20 for target class tensor([3]). Step 150, Loss: 0.5551746487617493\n",
      "Generating Image Number: 20 for target class tensor([3]). Step 200, Loss: 0.49946218729019165\n",
      "Generating Image Number: 20 for target class tensor([3]). Step 250, Loss: 0.4634239673614502\n",
      "Generating Image Number: 20 for target class tensor([3]). Step 300, Loss: 0.4296530783176422\n",
      "Generating Image Number: 20 for target class tensor([3]). Step 350, Loss: 0.2927562892436981\n",
      "Generating Image Number: 20 for target class tensor([3]). Step 400, Loss: 0.23587505519390106\n",
      "Generating Image Number: 20 for target class tensor([3]). Step 450, Loss: 0.20619867742061615\n"
     ]
    }
   ],
   "source": [
    "torch.manual_seed(300)\n",
    "latent_vectors = torch.randn(img_count, z_dim, 1, 1, requires_grad=True) # Start with 20 random noises\n",
    "class3_optimized_latent_vectors = recover_images(img_count, 3, latent_vectors)"
   ]
  },
  {
   "cell_type": "code",
   "execution_count": 24,
   "id": "ae6425a5-dd86-4e87-8112-883336345ac9",
   "metadata": {},
   "outputs": [],
   "source": [
    "z0_1 = class0_optimized_latent_vectors[0]\n",
    "z0_2 = class0_optimized_latent_vectors[1]\n",
    "z0_3 = class0_optimized_latent_vectors[2]"
   ]
  },
  {
   "cell_type": "code",
   "execution_count": 25,
   "id": "3a6ed4fb-b693-4963-afcf-17a512e50b5f",
   "metadata": {},
   "outputs": [
    {
     "name": "stdout",
     "output_type": "stream",
     "text": [
      "torch.Size([64, 64])\n"
     ]
    }
   ],
   "source": [
    "# Display the generated image\n",
    "img = gen(z0_1.to(device)).squeeze(dim=0).squeeze(dim=0)\n",
    "print(img.shape)"
   ]
  },
  {
   "cell_type": "code",
   "execution_count": 26,
   "id": "88fc9416-c6ca-486b-bd72-63885de78d1c",
   "metadata": {},
   "outputs": [
    {
     "data": {
      "text/plain": [
       "<matplotlib.image.AxesImage at 0x22abea3cb50>"
      ]
     },
     "execution_count": 26,
     "metadata": {},
     "output_type": "execute_result"
    },
    {
     "data": {
      "image/png": "[encoded data removed]",
      "text/plain": [
       "<Figure size 640x480 with 1 Axes>"
      ]
     },
     "metadata": {},
     "output_type": "display_data"
    }
   ],
   "source": [
    "plt.axis(False)\n",
    "plt.title('Recovered Image:')\n",
    "plt.imshow(img.cpu().detach(), cmap='gray')"
   ]
  },
  {
   "cell_type": "code",
   "execution_count": 27,
   "id": "bb0fc370-78c5-495f-b1e7-1239873b4ff8",
   "metadata": {},
   "outputs": [],
   "source": [
    "z1 = class1_optimized_latent_vectors[0]\n",
    "z2 = class1_optimized_latent_vectors[1]\n",
    "z3 = class1_optimized_latent_vectors[2]"
   ]
  },
  {
   "cell_type": "code",
   "execution_count": 28,
   "id": "07f38b7d-14f6-4d63-9efa-cb96ec2e1d35",
   "metadata": {},
   "outputs": [
    {
     "name": "stdout",
     "output_type": "stream",
     "text": [
      "torch.Size([64, 64])\n"
     ]
    }
   ],
   "source": [
    "# Display the generated image\n",
    "img = gen(z1.to(device)).squeeze(dim=0).squeeze(dim=0)\n",
    "print(img.shape)"
   ]
  },
  {
   "cell_type": "code",
   "execution_count": 29,
   "id": "8cad57ff-7961-4078-9dd4-1e0b4879ff56",
   "metadata": {},
   "outputs": [
    {
     "data": {
      "text/plain": [
       "<matplotlib.image.AxesImage at 0x22abebd8040>"
      ]
     },
     "execution_count": 29,
     "metadata": {},
     "output_type": "execute_result"
    },
    {
     "data": {
      "image/png": "[encoded data removed]",
      "text/plain": [
       "<Figure size 640x480 with 1 Axes>"
      ]
     },
     "metadata": {},
     "output_type": "display_data"
    }
   ],
   "source": [
    "plt.axis(False)\n",
    "plt.title('Recovered Image:')\n",
    "plt.imshow(img.cpu().detach(), cmap='gray')"
   ]
  },
  {
   "cell_type": "code",
   "execution_count": 30,
   "id": "52ecd67d-cb2d-44a3-b375-759d63db75b1",
   "metadata": {},
   "outputs": [],
   "source": [
    "                                                            # Dataset Loading\n",
    "# Load the .pkl files in as numpy arrays of pixels\n",
    "def load_tumor_data(file_path):\n",
    "    train_xs = []\n",
    "    train_ys = []\n",
    "    \"\"\" Load Digits Data from pickle data\n",
    "    return:\n",
    "    @xs: numpy.array, (n, c, w, h) \n",
    "    @ys: numpy.array, (n, ), 0-9\n",
    "    \"\"\"\n",
    "    with open(file_path, 'rb') as file:\n",
    "        data = pickle.load(file)\n",
    "        train_xs.append(data[\"data\"])\n",
    "        train_ys.append(data[\"labels\"])\n",
    "    train_xs = np.concatenate(train_xs, axis=0)\n",
    "    train_ys = np.concatenate(train_ys, axis=0)\n",
    "    \n",
    "    return train_xs, train_ys"
   ]
  },
  {
   "cell_type": "code",
   "execution_count": 31,
   "id": "ca72f62f-1eec-4b17-a8ce-fd66781f64f6",
   "metadata": {},
   "outputs": [],
   "source": [
    "# Custom Tumor Dataset\n",
    "class TumorDataset(data.Dataset):\n",
    "    def __init__(self, xs, ys, is_train=True):\n",
    "        self.xs = xs\n",
    "        self.ys = ys\n",
    "\n",
    "        if is_train is True:\n",
    "            self.transform = transforms.Compose([\n",
    "                transforms.ToPILImage(),\n",
    "                transforms.Resize((64, 64)),\n",
    "                transforms.ToTensor(),\n",
    "                transforms.Normalize(\n",
    "                    [0.5],\n",
    "                    [0.5]\n",
    "                )\n",
    "            ])\n",
    "        else:\n",
    "            self.transform = transforms.Compose([\n",
    "                transforms.ToPILImage(),\n",
    "                transforms.Resize((64, 64)),\n",
    "                transforms.ToTensor(),\n",
    "                transforms.Normalize(\n",
    "                    (0.4914, 0.4822, 0.4465),\n",
    "                    (0.2023, 0.1994, 0.2010)\n",
    "                )\n",
    "            ])\n",
    "\n",
    "    def __len__(self):\n",
    "        return len(self.xs)\n",
    "\n",
    "    def __getitem__(self, index):\n",
    "        img = self.xs[index]\n",
    "        #print(img.shape)\n",
    "        label = self.ys[index]\n",
    "\n",
    "        img = img.transpose((1, 2, 0)).astype(np.uint8)\n",
    "        img = self.transform(img)\n",
    "\n",
    "        img = torch.FloatTensor(img)\n",
    "        label = torch.LongTensor([label])[0]\n",
    "        return img, label"
   ]
  },
  {
   "cell_type": "code",
   "execution_count": 32,
   "id": "ceb91588-ef69-4373-b33f-74aed6c246bb",
   "metadata": {},
   "outputs": [],
   "source": [
    "def create_dataset(train_xs, train_ys):\n",
    "    tumor_dataset = TumorDataset(train_xs, train_ys, is_train=True)\n",
    "\n",
    "    return tumor_dataset"
   ]
  },
  {
   "cell_type": "code",
   "execution_count": 33,
   "id": "0415fba0-830c-42c6-bbde-c6958e779fbb",
   "metadata": {},
   "outputs": [],
   "source": [
    "def create_dataloader(dataset):\n",
    "    dataloader = DataLoader(dataset=dataset, batch_size=128, shuffle=True)\n",
    "\n",
    "    return dataloader"
   ]
  },
  {
   "cell_type": "code",
   "execution_count": 34,
   "id": "726d4995-5133-4037-ab0e-f2705470cdc9",
   "metadata": {},
   "outputs": [
    {
     "name": "stdout",
     "output_type": "stream",
     "text": [
      "(13927, 1, 32, 32)\n",
      "<class 'numpy.ndarray'>\n"
     ]
    }
   ],
   "source": [
    "# Load in the pickle dataset file\n",
    "train_xs, train_ys = load_tumor_data('datasets/Tumor/tumor4train.pkl')\n",
    "#train_xs = train_xs[:, 1, :, :]\n",
    "#train_xs = np.expand_dims(train_xs, axis=1)\n",
    "train_xs = train_xs.mean(axis=1, keepdims=True)\n",
    "print(train_xs.shape)\n",
    "print(type(train_xs))"
   ]
  },
  {
   "cell_type": "code",
   "execution_count": 35,
   "id": "a684b01a-eb4a-4210-9f59-d613085a404a",
   "metadata": {},
   "outputs": [],
   "source": [
    "# Create the dataset\n",
    "tumor_dataset = create_dataset(train_xs, train_ys)"
   ]
  },
  {
   "cell_type": "code",
   "execution_count": 36,
   "id": "193f07cc-d34f-425e-aa08-62b6d6adbad6",
   "metadata": {},
   "outputs": [],
   "source": [
    "def visualize_image(image_x):\n",
    "    # We have to visualize by reverting the normalization (just for visualization).\n",
    "    mean = torch.tensor([0.5])\n",
    "    std = torch.tensor([0.5])\n",
    "\n",
    "    image = image_x * std + mean  # Denormalize the image\n",
    "\n",
    "    image = torch.clamp(image, 0, 1) # Clip values to [0, 1] to ensure valid range for display\n",
    "\n",
    "    # Permute the image to (H, W, C) for matplotlib\n",
    "    \n",
    "    image = image.permute(1, 2, 0)\n",
    "\n",
    "    plt.imshow(image, cmap='gray')"
   ]
  },
  {
   "cell_type": "code",
   "execution_count": 37,
   "id": "16e93c17-a89b-46a2-8198-71e66e370f4f",
   "metadata": {},
   "outputs": [
    {
     "name": "stdout",
     "output_type": "stream",
     "text": [
      "torch.Size([1, 64, 64])\n"
     ]
    },
    {
     "data": {
      "image/png": "[encoded data removed]",
      "text/plain": [
       "<Figure size 640x480 with 1 Axes>"
      ]
     },
     "metadata": {},
     "output_type": "display_data"
    }
   ],
   "source": [
    "# Visualize the first tumor sample. \n",
    "image_x, image_y = tumor_dataset[7000]\n",
    "print(image_x.shape)\n",
    "visualize_image(image_x)"
   ]
  },
  {
   "cell_type": "code",
   "execution_count": 38,
   "id": "60e2da47-7cb6-493e-aeda-aa80d7965de7",
   "metadata": {},
   "outputs": [],
   "source": [
    "from scipy.spatial.distance import cosine"
   ]
  },
  {
   "cell_type": "code",
   "execution_count": 39,
   "id": "5a7937e5-b808-4b3e-8288-75dcd9862340",
   "metadata": {},
   "outputs": [],
   "source": [
    "# Get the feature embeddings\n",
    "tfcnn_model = target_model = load_target_model(base_net='TFCNN', n_classes=4, path='saved models/fedavg_global_model.pth').to(device)\n",
    "model_embeddings = tfcnn_model.encoder.to(device)"
   ]
  },
  {
   "cell_type": "code",
   "execution_count": 40,
   "id": "737e3d92-45b6-45f6-9bf2-d51f379d6ac8",
   "metadata": {},
   "outputs": [],
   "source": [
    "# Preprocessing\n",
    "preprocess = transforms.Compose([\n",
    "    transforms.Resize(256),\n",
    "    transforms.CenterCrop(224),\n",
    "    transforms.ToTensor(),\n",
    "])"
   ]
  },
  {
   "cell_type": "code",
   "execution_count": 41,
   "id": "babb1015-bdfb-439b-bea1-81f9f50dd74e",
   "metadata": {},
   "outputs": [],
   "source": [
    "def get_feature(img):\n",
    "    with torch.no_grad():\n",
    "        features = model_embeddings(img).squeeze()\n",
    "    return features.cpu().numpy()"
   ]
  },
  {
   "cell_type": "code",
   "execution_count": 42,
   "id": "79f38654-6670-440d-a322-b2cae18a71d8",
   "metadata": {},
   "outputs": [
    {
     "data": {
      "text/plain": [
       "torch.Size([1, 64, 64])"
      ]
     },
     "execution_count": 42,
     "metadata": {},
     "output_type": "execute_result"
    }
   ],
   "source": [
    "# Send an original image through the model\n",
    "image_x, image_y = tumor_dataset[10]\n",
    "image_x.shape"
   ]
  },
  {
   "cell_type": "code",
   "execution_count": 43,
   "id": "a4a2659e-dcaa-4d4a-b5a5-06b363ce6534",
   "metadata": {},
   "outputs": [],
   "source": [
    "image_x = image_x.unsqueeze(dim=0)"
   ]
  },
  {
   "cell_type": "code",
   "execution_count": 44,
   "id": "14348bfc-5988-48f0-88cf-4761d7a99d89",
   "metadata": {},
   "outputs": [
    {
     "data": {
      "text/plain": [
       "torch.Size([1, 1, 64, 64])"
      ]
     },
     "execution_count": 44,
     "metadata": {},
     "output_type": "execute_result"
    }
   ],
   "source": [
    "image_x.shape"
   ]
  },
  {
   "cell_type": "code",
   "execution_count": 45,
   "id": "66160253-9543-4aba-bb81-031d51ef9623",
   "metadata": {},
   "outputs": [
    {
     "data": {
      "text/plain": [
       "torch.Size([1, 3, 64, 64])"
      ]
     },
     "execution_count": 45,
     "metadata": {},
     "output_type": "execute_result"
    }
   ],
   "source": [
    "image_x = image_x.repeat(1, 3, 1, 1)\n",
    "image_x = image_x.to(device)\n",
    "image_x.shape"
   ]
  },
  {
   "cell_type": "code",
   "execution_count": 46,
   "id": "f615c7d3-2dab-425d-81e1-2595ec59e230",
   "metadata": {},
   "outputs": [
    {
     "data": {
      "text/plain": [
       "(4096,)"
      ]
     },
     "execution_count": 46,
     "metadata": {},
     "output_type": "execute_result"
    }
   ],
   "source": [
    "features = get_feature(image_x)\n",
    "features.shape"
   ]
  },
  {
   "cell_type": "code",
   "execution_count": 47,
   "id": "31b9ddc9-3fc8-4a47-bfc7-74a6df27d672",
   "metadata": {},
   "outputs": [],
   "source": [
    "class0_original_images = []\n",
    "class1_original_images = []\n",
    "class2_original_images = []\n",
    "class3_original_images = []\n",
    "target_num = 1200 # 20 images for each class"
   ]
  },
  {
   "cell_type": "code",
   "execution_count": 48,
   "id": "e804c948-2dc8-41df-a633-113300baf12a",
   "metadata": {},
   "outputs": [],
   "source": [
    "for i in range(len(tumor_dataset)):\n",
    "    img_x, img_y = tumor_dataset[i]\n",
    "\n",
    "    if img_y == 0:\n",
    "        if len(class0_original_images) < target_num:\n",
    "            class0_original_images.append(img_x)\n",
    "    elif img_y == 1:\n",
    "        if len(class1_original_images) < target_num:\n",
    "            class1_original_images.append(img_x)\n",
    "    elif img_y == 2:\n",
    "        if len(class2_original_images) < target_num:\n",
    "            class2_original_images.append(img_x)\n",
    "    elif img_y == 3:\n",
    "        if len(class3_original_images) < target_num:\n",
    "            class3_original_images.append(img_x)"
   ]
  },
  {
   "cell_type": "code",
   "execution_count": 49,
   "id": "ef07c896-c4cd-48da-9e59-c9d7bd90a4e8",
   "metadata": {},
   "outputs": [
    {
     "data": {
      "text/plain": [
       "1200"
      ]
     },
     "execution_count": 49,
     "metadata": {},
     "output_type": "execute_result"
    }
   ],
   "source": [
    "len(class3_original_images)"
   ]
  },
  {
   "cell_type": "code",
   "execution_count": 50,
   "id": "e102404a-68a3-40c5-99a7-45813eb87f20",
   "metadata": {},
   "outputs": [
    {
     "data": {
      "text/plain": [
       "torch.Size([1, 3, 64, 64])"
      ]
     },
     "execution_count": 50,
     "metadata": {},
     "output_type": "execute_result"
    }
   ],
   "source": [
    "# Testing the cosine similarity\n",
    "class1_original_image = class1_original_images[8]\n",
    "class1_original_image = class1_original_image.unsqueeze(dim=0).to(device)\n",
    "class1_original_image = class1_original_image.repeat(1, 3, 1, 1)\n",
    "class1_original_image.shape"
   ]
  },
  {
   "cell_type": "code",
   "execution_count": 51,
   "id": "cb5d6c11-d86e-4f1d-9777-760a500837a9",
   "metadata": {},
   "outputs": [
    {
     "name": "stdout",
     "output_type": "stream",
     "text": [
      "torch.Size([1, 64, 64])\n"
     ]
    },
    {
     "data": {
      "image/png": "[encoded data removed]",
      "text/plain": [
       "<Figure size 640x480 with 1 Axes>"
      ]
     },
     "metadata": {},
     "output_type": "display_data"
    }
   ],
   "source": [
    "original = class3_original_images[217]\n",
    "print(original.shape)\n",
    "visualize_image(original)"
   ]
  },
  {
   "cell_type": "code",
   "execution_count": 52,
   "id": "9d014fe7-6e9a-48dd-8fd7-8f78f4410d8c",
   "metadata": {},
   "outputs": [
    {
     "name": "stdout",
     "output_type": "stream",
     "text": [
      "torch.Size([1, 64, 64])\n"
     ]
    },
    {
     "data": {
      "image/png": "[encoded data removed]",
      "text/plain": [
       "<Figure size 640x480 with 1 Axes>"
      ]
     },
     "metadata": {},
     "output_type": "display_data"
    }
   ],
   "source": [
    "fake = class0_optimized_latent_vectors[6]\n",
    "fake_img = gen(fake.to(device)).squeeze(dim=0)\n",
    "print(fake_img.shape)\n",
    "visualize_image(fake_img.detach().cpu())"
   ]
  },
  {
   "cell_type": "code",
   "execution_count": 53,
   "id": "d7fe9c85-2c83-4580-be7d-32833b706948",
   "metadata": {},
   "outputs": [],
   "source": [
    "fake1 = class1_optimized_latent_vectors[8]\n",
    "fake1_image = gen(fake1.to(device))\n",
    "fake1_image = fake1_image.repeat(1, 3, 1, 1)"
   ]
  },
  {
   "cell_type": "code",
   "execution_count": 54,
   "id": "74647152-cdcb-4593-a88f-d3ac43fd97d3",
   "metadata": {},
   "outputs": [
    {
     "data": {
      "text/plain": [
       "torch.Size([1, 3, 64, 64])"
      ]
     },
     "execution_count": 54,
     "metadata": {},
     "output_type": "execute_result"
    }
   ],
   "source": [
    "fake1_image.shape"
   ]
  },
  {
   "cell_type": "code",
   "execution_count": 55,
   "id": "e88f6396-0ef2-45f5-96e0-6048be01af25",
   "metadata": {},
   "outputs": [],
   "source": [
    "# Get the features of the images\n",
    "features_original = get_feature(class1_original_image)\n",
    "features_fake = get_feature(fake1_image)"
   ]
  },
  {
   "cell_type": "code",
   "execution_count": 56,
   "id": "b54e2bca-5f2b-41ea-b810-15d1f9d30f86",
   "metadata": {},
   "outputs": [],
   "source": [
    "# Compute cosine similarity\n",
    "similarity = 1 - cosine(features_original, features_fake)"
   ]
  },
  {
   "cell_type": "code",
   "execution_count": 57,
   "id": "983c7e35-27ee-453c-9356-cb9a84fdd4a3",
   "metadata": {},
   "outputs": [
    {
     "data": {
      "text/plain": [
       "np.float32(0.5525536)"
      ]
     },
     "execution_count": 57,
     "metadata": {},
     "output_type": "execute_result"
    }
   ],
   "source": [
    "similarity"
   ]
  },
  {
   "cell_type": "code",
   "execution_count": 58,
   "id": "e65e04e8-52b7-4cf2-876c-d9b07a435ec9",
   "metadata": {},
   "outputs": [],
   "source": [
    "def calculate_class0_sim():\n",
    "    similarities = []\n",
    "    for i in range(0, 20):\n",
    "        class0_original = class0_original_images[i].unsqueeze(dim=0).to(device)\n",
    "        class0_original = class0_original.repeat(1, 3, 1, 1)\n",
    "\n",
    "        class0_fake = class0_optimized_latent_vectors[i]\n",
    "        class0_fake_img = gen(class0_fake.to(device))\n",
    "        class0_fake_img = class0_fake_img.repeat(1, 3, 1, 1)\n",
    "\n",
    "        features_original = get_feature(class0_original)\n",
    "        features_fake = get_feature(class0_fake_img)\n",
    "\n",
    "        cosine_similarity = 1 - cosine(features_original, features_fake)\n",
    "\n",
    "        similarities.append(cosine_similarity)\n",
    "        \n",
    "    return similarities"
   ]
  },
  {
   "cell_type": "code",
   "execution_count": 59,
   "id": "10d8f579-0b80-4157-b59b-7b92be9e52f2",
   "metadata": {},
   "outputs": [],
   "source": [
    "def calculate_class1_sim():\n",
    "    similarities = []\n",
    "    for i in range(0, 20):\n",
    "        class1_original = class1_original_images[i].unsqueeze(dim=0).to(device)\n",
    "        class1_original = class1_original.repeat(1, 3, 1, 1)\n",
    "\n",
    "        class1_fake = class1_optimized_latent_vectors[i]\n",
    "        class1_fake_img = gen(class1_fake.to(device))\n",
    "        class1_fake_img = class1_fake_img.repeat(1, 3, 1, 1)\n",
    "\n",
    "        features_original = get_feature(class1_original)\n",
    "        features_fake = get_feature(class1_fake_img)\n",
    "\n",
    "        cosine_similarity = 1 - cosine(features_original, features_fake)\n",
    "        similarities.append(cosine_similarity)\n",
    "\n",
    "    return similarities"
   ]
  },
  {
   "cell_type": "code",
   "execution_count": 60,
   "id": "1bbdc999-fa6d-4005-b785-3c54a7bd89ee",
   "metadata": {},
   "outputs": [],
   "source": [
    "def calculate_class2_sim():\n",
    "    similarities = []\n",
    "    for i in range(0, 20):\n",
    "        class2_original = class2_original_images[i].unsqueeze(dim=0).to(device)\n",
    "        class2_original = class2_original.repeat(1, 3, 1, 1)\n",
    "\n",
    "        class2_fake = class2_optimized_latent_vectors[i]\n",
    "        class2_fake_img = gen(class2_fake.to(device))\n",
    "        class2_fake_img = class2_fake_img.repeat(1, 3, 1, 1)\n",
    "\n",
    "        features_original = get_feature(class2_original)\n",
    "        features_fake = get_feature(class2_fake_img)\n",
    "\n",
    "        cosine_similarity = 1 - cosine(features_original, features_fake)\n",
    "        similarities.append(cosine_similarity)\n",
    "\n",
    "    return similarities"
   ]
  },
  {
   "cell_type": "code",
   "execution_count": 61,
   "id": "33cb8de1-5a87-4dd4-8fc2-d3f27d6ddc9a",
   "metadata": {},
   "outputs": [],
   "source": [
    "def calculate_class3_sim():\n",
    "    similarities = []\n",
    "    for i in range(0, 20):\n",
    "        class3_original = class3_original_images[i].unsqueeze(dim=0).to(device)\n",
    "        class3_original = class3_original.repeat(1, 3, 1, 1)\n",
    "\n",
    "        class3_fake = class3_optimized_latent_vectors[i]\n",
    "        class3_fake_img = gen(class3_fake.to(device))\n",
    "        class3_fake_img = class3_fake_img.repeat(1, 3, 1, 1)\n",
    "\n",
    "        features_original = get_feature(class3_original)\n",
    "        features_fake = get_feature(class3_fake_img)\n",
    "\n",
    "        cosine_similarity = 1 - cosine(features_original, features_fake)\n",
    "        similarities.append(cosine_similarity)\n",
    "\n",
    "    return similarities"
   ]
  },
  {
   "cell_type": "code",
   "execution_count": 62,
   "id": "7868f175-5845-4ee4-b4cf-1c89513375ec",
   "metadata": {},
   "outputs": [],
   "source": [
    "class0_sims = calculate_class0_sim()\n",
    "class1_sims = calculate_class0_sim()\n",
    "class2_sims = calculate_class0_sim()\n",
    "class3_sims = calculate_class0_sim()"
   ]
  },
  {
   "cell_type": "code",
   "execution_count": 63,
   "id": "bbf4597d-a583-4204-a3ce-9085936e0189",
   "metadata": {},
   "outputs": [
    {
     "data": {
      "text/plain": [
       "[np.float32(0.6075377),\n",
       " np.float32(0.56822205),\n",
       " np.float32(0.6011494),\n",
       " np.float32(0.6436874),\n",
       " np.float32(0.24142194),\n",
       " np.float32(0.70540416),\n",
       " np.float32(0.7644448),\n",
       " np.float32(0.48418128),\n",
       " np.float32(0.02434194),\n",
       " np.float32(0.656673),\n",
       " np.float32(0.57823855),\n",
       " np.float32(0.63436884),\n",
       " np.float32(0.44603884),\n",
       " np.float32(0.761764),\n",
       " np.float32(0.76880974),\n",
       " np.float32(0.86703837),\n",
       " np.float32(0.50670815),\n",
       " np.float32(0.69549096),\n",
       " np.float32(0.78576136),\n",
       " np.float32(0.019216895)]"
      ]
     },
     "execution_count": 63,
     "metadata": {},
     "output_type": "execute_result"
    }
   ],
   "source": [
    "class0_sims"
   ]
  },
  {
   "cell_type": "code",
   "execution_count": 64,
   "id": "acb9d480-a58f-4ce6-8973-eb9c8d6e7253",
   "metadata": {},
   "outputs": [
    {
     "data": {
      "text/plain": [
       "[np.float32(0.6075378),\n",
       " np.float32(0.56822205),\n",
       " np.float32(0.6011494),\n",
       " np.float32(0.64368737),\n",
       " np.float32(0.24142206),\n",
       " np.float32(0.70540416),\n",
       " np.float32(0.7644448),\n",
       " np.float32(0.48418176),\n",
       " np.float32(0.02434194),\n",
       " np.float32(0.65667236),\n",
       " np.float32(0.5782392),\n",
       " np.float32(0.6343685),\n",
       " np.float32(0.44603884),\n",
       " np.float32(0.761764),\n",
       " np.float32(0.76880974),\n",
       " np.float32(0.8670383),\n",
       " np.float32(0.5067081),\n",
       " np.float32(0.69549096),\n",
       " np.float32(0.78576124),\n",
       " np.float32(0.019216895)]"
      ]
     },
     "execution_count": 64,
     "metadata": {},
     "output_type": "execute_result"
    }
   ],
   "source": [
    "class3_sims"
   ]
  },
  {
   "cell_type": "code",
   "execution_count": 65,
   "id": "58dc103d-1c30-473a-adc3-fcd5ca5100a0",
   "metadata": {},
   "outputs": [
    {
     "ename": "FileNotFoundError",
     "evalue": "[Errno 2] No such file or directory: 'output/fedvg.png'",
     "output_type": "error",
     "traceback": [
      "\u001b[1;31m---------------------------------------------------------------------------\u001b[0m",
      "\u001b[1;31mFileNotFoundError\u001b[0m                         Traceback (most recent call last)",
      "Cell \u001b[1;32mIn[65], line 43\u001b[0m\n\u001b[0;32m     41\u001b[0m plt\u001b[38;5;241m.\u001b[39mtight_layout()\n\u001b[0;32m     42\u001b[0m \u001b[38;5;66;03m# Save the plot to a file\u001b[39;00m\n\u001b[1;32m---> 43\u001b[0m \u001b[43mplt\u001b[49m\u001b[38;5;241;43m.\u001b[39;49m\u001b[43msavefig\u001b[49m\u001b[43m(\u001b[49m\u001b[38;5;124;43m'\u001b[39;49m\u001b[38;5;124;43moutput/fedvg.png\u001b[39;49m\u001b[38;5;124;43m'\u001b[39;49m\u001b[43m,\u001b[49m\u001b[43m \u001b[49m\u001b[43mdpi\u001b[49m\u001b[38;5;241;43m=\u001b[39;49m\u001b[38;5;241;43m300\u001b[39;49m\u001b[43m,\u001b[49m\u001b[43m \u001b[49m\u001b[43mbbox_inches\u001b[49m\u001b[38;5;241;43m=\u001b[39;49m\u001b[38;5;124;43m'\u001b[39;49m\u001b[38;5;124;43mtight\u001b[39;49m\u001b[38;5;124;43m'\u001b[39;49m\u001b[43m)\u001b[49m  \u001b[38;5;66;03m# Save as a PNG file with high resolution\u001b[39;00m\n\u001b[0;32m     45\u001b[0m \u001b[38;5;66;03m# Show the plot\u001b[39;00m\n\u001b[0;32m     46\u001b[0m plt\u001b[38;5;241m.\u001b[39mshow()\n",
      "File \u001b[1;32m~\\AppData\\Local\\Programs\\Python\\Python39\\lib\\site-packages\\matplotlib\\pyplot.py:1228\u001b[0m, in \u001b[0;36msavefig\u001b[1;34m(*args, **kwargs)\u001b[0m\n\u001b[0;32m   1225\u001b[0m fig \u001b[38;5;241m=\u001b[39m gcf()\n\u001b[0;32m   1226\u001b[0m \u001b[38;5;66;03m# savefig default implementation has no return, so mypy is unhappy\u001b[39;00m\n\u001b[0;32m   1227\u001b[0m \u001b[38;5;66;03m# presumably this is here because subclasses can return?\u001b[39;00m\n\u001b[1;32m-> 1228\u001b[0m res \u001b[38;5;241m=\u001b[39m fig\u001b[38;5;241m.\u001b[39msavefig(\u001b[38;5;241m*\u001b[39margs, \u001b[38;5;241m*\u001b[39m\u001b[38;5;241m*\u001b[39mkwargs)  \u001b[38;5;66;03m# type: ignore[func-returns-value]\u001b[39;00m\n\u001b[0;32m   1229\u001b[0m fig\u001b[38;5;241m.\u001b[39mcanvas\u001b[38;5;241m.\u001b[39mdraw_idle()  \u001b[38;5;66;03m# Need this if 'transparent=True', to reset colors.\u001b[39;00m\n\u001b[0;32m   1230\u001b[0m \u001b[38;5;28;01mreturn\u001b[39;00m res\n",
      "File \u001b[1;32m~\\AppData\\Local\\Programs\\Python\\Python39\\lib\\site-packages\\matplotlib\\figure.py:3395\u001b[0m, in \u001b[0;36mFigure.savefig\u001b[1;34m(self, fname, transparent, **kwargs)\u001b[0m\n\u001b[0;32m   3393\u001b[0m     \u001b[38;5;28;01mfor\u001b[39;00m ax \u001b[38;5;129;01min\u001b[39;00m \u001b[38;5;28mself\u001b[39m\u001b[38;5;241m.\u001b[39maxes:\n\u001b[0;32m   3394\u001b[0m         _recursively_make_axes_transparent(stack, ax)\n\u001b[1;32m-> 3395\u001b[0m \u001b[38;5;28mself\u001b[39m\u001b[38;5;241m.\u001b[39mcanvas\u001b[38;5;241m.\u001b[39mprint_figure(fname, \u001b[38;5;241m*\u001b[39m\u001b[38;5;241m*\u001b[39mkwargs)\n",
      "File \u001b[1;32m~\\AppData\\Local\\Programs\\Python\\Python39\\lib\\site-packages\\matplotlib\\backend_bases.py:2204\u001b[0m, in \u001b[0;36mFigureCanvasBase.print_figure\u001b[1;34m(self, filename, dpi, facecolor, edgecolor, orientation, format, bbox_inches, pad_inches, bbox_extra_artists, backend, **kwargs)\u001b[0m\n\u001b[0;32m   2200\u001b[0m \u001b[38;5;28;01mtry\u001b[39;00m:\n\u001b[0;32m   2201\u001b[0m     \u001b[38;5;66;03m# _get_renderer may change the figure dpi (as vector formats\u001b[39;00m\n\u001b[0;32m   2202\u001b[0m     \u001b[38;5;66;03m# force the figure dpi to 72), so we need to set it again here.\u001b[39;00m\n\u001b[0;32m   2203\u001b[0m     \u001b[38;5;28;01mwith\u001b[39;00m cbook\u001b[38;5;241m.\u001b[39m_setattr_cm(\u001b[38;5;28mself\u001b[39m\u001b[38;5;241m.\u001b[39mfigure, dpi\u001b[38;5;241m=\u001b[39mdpi):\n\u001b[1;32m-> 2204\u001b[0m         result \u001b[38;5;241m=\u001b[39m print_method(\n\u001b[0;32m   2205\u001b[0m             filename,\n\u001b[0;32m   2206\u001b[0m             facecolor\u001b[38;5;241m=\u001b[39mfacecolor,\n\u001b[0;32m   2207\u001b[0m             edgecolor\u001b[38;5;241m=\u001b[39medgecolor,\n\u001b[0;32m   2208\u001b[0m             orientation\u001b[38;5;241m=\u001b[39morientation,\n\u001b[0;32m   2209\u001b[0m             bbox_inches_restore\u001b[38;5;241m=\u001b[39m_bbox_inches_restore,\n\u001b[0;32m   2210\u001b[0m             \u001b[38;5;241m*\u001b[39m\u001b[38;5;241m*\u001b[39mkwargs)\n\u001b[0;32m   2211\u001b[0m \u001b[38;5;28;01mfinally\u001b[39;00m:\n\u001b[0;32m   2212\u001b[0m     \u001b[38;5;28;01mif\u001b[39;00m bbox_inches \u001b[38;5;129;01mand\u001b[39;00m restore_bbox:\n",
      "File \u001b[1;32m~\\AppData\\Local\\Programs\\Python\\Python39\\lib\\site-packages\\matplotlib\\backend_bases.py:2054\u001b[0m, in \u001b[0;36mFigureCanvasBase._switch_canvas_and_return_print_method.<locals>.<lambda>\u001b[1;34m(*args, **kwargs)\u001b[0m\n\u001b[0;32m   2050\u001b[0m     optional_kws \u001b[38;5;241m=\u001b[39m {  \u001b[38;5;66;03m# Passed by print_figure for other renderers.\u001b[39;00m\n\u001b[0;32m   2051\u001b[0m         \u001b[38;5;124m\"\u001b[39m\u001b[38;5;124mdpi\u001b[39m\u001b[38;5;124m\"\u001b[39m, \u001b[38;5;124m\"\u001b[39m\u001b[38;5;124mfacecolor\u001b[39m\u001b[38;5;124m\"\u001b[39m, \u001b[38;5;124m\"\u001b[39m\u001b[38;5;124medgecolor\u001b[39m\u001b[38;5;124m\"\u001b[39m, \u001b[38;5;124m\"\u001b[39m\u001b[38;5;124morientation\u001b[39m\u001b[38;5;124m\"\u001b[39m,\n\u001b[0;32m   2052\u001b[0m         \u001b[38;5;124m\"\u001b[39m\u001b[38;5;124mbbox_inches_restore\u001b[39m\u001b[38;5;124m\"\u001b[39m}\n\u001b[0;32m   2053\u001b[0m     skip \u001b[38;5;241m=\u001b[39m optional_kws \u001b[38;5;241m-\u001b[39m {\u001b[38;5;241m*\u001b[39minspect\u001b[38;5;241m.\u001b[39msignature(meth)\u001b[38;5;241m.\u001b[39mparameters}\n\u001b[1;32m-> 2054\u001b[0m     print_method \u001b[38;5;241m=\u001b[39m functools\u001b[38;5;241m.\u001b[39mwraps(meth)(\u001b[38;5;28;01mlambda\u001b[39;00m \u001b[38;5;241m*\u001b[39margs, \u001b[38;5;241m*\u001b[39m\u001b[38;5;241m*\u001b[39mkwargs: meth(\n\u001b[0;32m   2055\u001b[0m         \u001b[38;5;241m*\u001b[39margs, \u001b[38;5;241m*\u001b[39m\u001b[38;5;241m*\u001b[39m{k: v \u001b[38;5;28;01mfor\u001b[39;00m k, v \u001b[38;5;129;01min\u001b[39;00m kwargs\u001b[38;5;241m.\u001b[39mitems() \u001b[38;5;28;01mif\u001b[39;00m k \u001b[38;5;129;01mnot\u001b[39;00m \u001b[38;5;129;01min\u001b[39;00m skip}))\n\u001b[0;32m   2056\u001b[0m \u001b[38;5;28;01melse\u001b[39;00m:  \u001b[38;5;66;03m# Let third-parties do as they see fit.\u001b[39;00m\n\u001b[0;32m   2057\u001b[0m     print_method \u001b[38;5;241m=\u001b[39m meth\n",
      "File \u001b[1;32m~\\AppData\\Local\\Programs\\Python\\Python39\\lib\\site-packages\\matplotlib\\backends\\backend_agg.py:496\u001b[0m, in \u001b[0;36mFigureCanvasAgg.print_png\u001b[1;34m(self, filename_or_obj, metadata, pil_kwargs)\u001b[0m\n\u001b[0;32m    449\u001b[0m \u001b[38;5;28;01mdef\u001b[39;00m\u001b[38;5;250m \u001b[39m\u001b[38;5;21mprint_png\u001b[39m(\u001b[38;5;28mself\u001b[39m, filename_or_obj, \u001b[38;5;241m*\u001b[39m, metadata\u001b[38;5;241m=\u001b[39m\u001b[38;5;28;01mNone\u001b[39;00m, pil_kwargs\u001b[38;5;241m=\u001b[39m\u001b[38;5;28;01mNone\u001b[39;00m):\n\u001b[0;32m    450\u001b[0m \u001b[38;5;250m    \u001b[39m\u001b[38;5;124;03m\"\"\"\u001b[39;00m\n\u001b[0;32m    451\u001b[0m \u001b[38;5;124;03m    Write the figure to a PNG file.\u001b[39;00m\n\u001b[0;32m    452\u001b[0m \n\u001b[1;32m   (...)\u001b[0m\n\u001b[0;32m    494\u001b[0m \u001b[38;5;124;03m        *metadata*, including the default 'Software' key.\u001b[39;00m\n\u001b[0;32m    495\u001b[0m \u001b[38;5;124;03m    \"\"\"\u001b[39;00m\n\u001b[1;32m--> 496\u001b[0m     \u001b[38;5;28;43mself\u001b[39;49m\u001b[38;5;241;43m.\u001b[39;49m\u001b[43m_print_pil\u001b[49m\u001b[43m(\u001b[49m\u001b[43mfilename_or_obj\u001b[49m\u001b[43m,\u001b[49m\u001b[43m \u001b[49m\u001b[38;5;124;43m\"\u001b[39;49m\u001b[38;5;124;43mpng\u001b[39;49m\u001b[38;5;124;43m\"\u001b[39;49m\u001b[43m,\u001b[49m\u001b[43m \u001b[49m\u001b[43mpil_kwargs\u001b[49m\u001b[43m,\u001b[49m\u001b[43m \u001b[49m\u001b[43mmetadata\u001b[49m\u001b[43m)\u001b[49m\n",
      "File \u001b[1;32m~\\AppData\\Local\\Programs\\Python\\Python39\\lib\\site-packages\\matplotlib\\backends\\backend_agg.py:445\u001b[0m, in \u001b[0;36mFigureCanvasAgg._print_pil\u001b[1;34m(self, filename_or_obj, fmt, pil_kwargs, metadata)\u001b[0m\n\u001b[0;32m    440\u001b[0m \u001b[38;5;250m\u001b[39m\u001b[38;5;124;03m\"\"\"\u001b[39;00m\n\u001b[0;32m    441\u001b[0m \u001b[38;5;124;03mDraw the canvas, then save it using `.image.imsave` (to which\u001b[39;00m\n\u001b[0;32m    442\u001b[0m \u001b[38;5;124;03m*pil_kwargs* and *metadata* are forwarded).\u001b[39;00m\n\u001b[0;32m    443\u001b[0m \u001b[38;5;124;03m\"\"\"\u001b[39;00m\n\u001b[0;32m    444\u001b[0m FigureCanvasAgg\u001b[38;5;241m.\u001b[39mdraw(\u001b[38;5;28mself\u001b[39m)\n\u001b[1;32m--> 445\u001b[0m \u001b[43mmpl\u001b[49m\u001b[38;5;241;43m.\u001b[39;49m\u001b[43mimage\u001b[49m\u001b[38;5;241;43m.\u001b[39;49m\u001b[43mimsave\u001b[49m\u001b[43m(\u001b[49m\n\u001b[0;32m    446\u001b[0m \u001b[43m    \u001b[49m\u001b[43mfilename_or_obj\u001b[49m\u001b[43m,\u001b[49m\u001b[43m \u001b[49m\u001b[38;5;28;43mself\u001b[39;49m\u001b[38;5;241;43m.\u001b[39;49m\u001b[43mbuffer_rgba\u001b[49m\u001b[43m(\u001b[49m\u001b[43m)\u001b[49m\u001b[43m,\u001b[49m\u001b[43m \u001b[49m\u001b[38;5;28;43mformat\u001b[39;49m\u001b[38;5;241;43m=\u001b[39;49m\u001b[43mfmt\u001b[49m\u001b[43m,\u001b[49m\u001b[43m \u001b[49m\u001b[43morigin\u001b[49m\u001b[38;5;241;43m=\u001b[39;49m\u001b[38;5;124;43m\"\u001b[39;49m\u001b[38;5;124;43mupper\u001b[39;49m\u001b[38;5;124;43m\"\u001b[39;49m\u001b[43m,\u001b[49m\n\u001b[0;32m    447\u001b[0m \u001b[43m    \u001b[49m\u001b[43mdpi\u001b[49m\u001b[38;5;241;43m=\u001b[39;49m\u001b[38;5;28;43mself\u001b[39;49m\u001b[38;5;241;43m.\u001b[39;49m\u001b[43mfigure\u001b[49m\u001b[38;5;241;43m.\u001b[39;49m\u001b[43mdpi\u001b[49m\u001b[43m,\u001b[49m\u001b[43m \u001b[49m\u001b[43mmetadata\u001b[49m\u001b[38;5;241;43m=\u001b[39;49m\u001b[43mmetadata\u001b[49m\u001b[43m,\u001b[49m\u001b[43m \u001b[49m\u001b[43mpil_kwargs\u001b[49m\u001b[38;5;241;43m=\u001b[39;49m\u001b[43mpil_kwargs\u001b[49m\u001b[43m)\u001b[49m\n",
      "File \u001b[1;32m~\\AppData\\Local\\Programs\\Python\\Python39\\lib\\site-packages\\matplotlib\\image.py:1676\u001b[0m, in \u001b[0;36mimsave\u001b[1;34m(fname, arr, vmin, vmax, cmap, format, origin, dpi, metadata, pil_kwargs)\u001b[0m\n\u001b[0;32m   1674\u001b[0m pil_kwargs\u001b[38;5;241m.\u001b[39msetdefault(\u001b[38;5;124m\"\u001b[39m\u001b[38;5;124mformat\u001b[39m\u001b[38;5;124m\"\u001b[39m, \u001b[38;5;28mformat\u001b[39m)\n\u001b[0;32m   1675\u001b[0m pil_kwargs\u001b[38;5;241m.\u001b[39msetdefault(\u001b[38;5;124m\"\u001b[39m\u001b[38;5;124mdpi\u001b[39m\u001b[38;5;124m\"\u001b[39m, (dpi, dpi))\n\u001b[1;32m-> 1676\u001b[0m image\u001b[38;5;241m.\u001b[39msave(fname, \u001b[38;5;241m*\u001b[39m\u001b[38;5;241m*\u001b[39mpil_kwargs)\n",
      "File \u001b[1;32m~\\AppData\\Local\\Programs\\Python\\Python39\\lib\\site-packages\\PIL\\Image.py:2436\u001b[0m, in \u001b[0;36mImage.save\u001b[1;34m(self, fp, format, **params)\u001b[0m\n\u001b[0;32m   2434\u001b[0m         fp \u001b[38;5;241m=\u001b[39m builtins\u001b[38;5;241m.\u001b[39mopen(filename, \u001b[38;5;124m\"\u001b[39m\u001b[38;5;124mr+b\u001b[39m\u001b[38;5;124m\"\u001b[39m)\n\u001b[0;32m   2435\u001b[0m     \u001b[38;5;28;01melse\u001b[39;00m:\n\u001b[1;32m-> 2436\u001b[0m         fp \u001b[38;5;241m=\u001b[39m \u001b[43mbuiltins\u001b[49m\u001b[38;5;241;43m.\u001b[39;49m\u001b[43mopen\u001b[49m\u001b[43m(\u001b[49m\u001b[43mfilename\u001b[49m\u001b[43m,\u001b[49m\u001b[43m \u001b[49m\u001b[38;5;124;43m\"\u001b[39;49m\u001b[38;5;124;43mw+b\u001b[39;49m\u001b[38;5;124;43m\"\u001b[39;49m\u001b[43m)\u001b[49m\n\u001b[0;32m   2438\u001b[0m \u001b[38;5;28;01mtry\u001b[39;00m:\n\u001b[0;32m   2439\u001b[0m     save_handler(\u001b[38;5;28mself\u001b[39m, fp, filename)\n",
      "\u001b[1;31mFileNotFoundError\u001b[0m: [Errno 2] No such file or directory: 'output/fedvg.png'"
     ]
    },
    {
     "data": {
      "image/png": "[encoded data removed]",
      "text/plain": [
       "<Figure size 650x420 with 1 Axes>"
      ]
     },
     "metadata": {},
     "output_type": "display_data"
    }
   ],
   "source": [
    "                                                        # VISUALIZE\n",
    "# NOTE: Class indexes now start from 1 so, previous class 0 = now class 1 and so on\n",
    "# FIG 1: Raw similarity plot\n",
    "\n",
    "import pandas as pd\n",
    "import numpy as np\n",
    "import matplotlib.pyplot as plt\n",
    "import seaborn as sns\n",
    "\n",
    "# Generate sample similarity data for four classes (each with 20 values in the range 0 to 1)\n",
    "class1_sim = class0_sims\n",
    "class2_sim = class1_sims\n",
    "class3_sim = class2_sims\n",
    "class4_sim = class3_sims\n",
    "\n",
    "# Set figure size\n",
    "plt.figure(figsize=(6.5, 4.2))  # Set the size of the figure (width, height)\n",
    "\n",
    "# Sample DataFrame with four columns\n",
    "data=pd.DataFrame({'Class 1':class1_sim,'Class 2':class2_sim,'Class 3':class3_sim,'Class 4':class4_sim})\n",
    "df = pd.DataFrame(data)\n",
    "\n",
    "# Plot the probability distributions\n",
    "#plt.figure(figsize=(10, 6))\n",
    "\n",
    "# Define colors and line styles for each column\n",
    "colors = ['#1f77b4', '#ff7f0e', '#2ca02c', '#d62728']\n",
    "linestyles = ['-.', '--', '-', '-']\n",
    "\n",
    "# Plot the probability distributions with unique colors and line styles\n",
    "for column, color, linestyle in zip(df.columns, colors, linestyles):\n",
    "    sns.kdeplot(df[column], label=column, color=color, linestyle=linestyle)\n",
    "\n",
    "#plt.title('Probability Distributions of Four Columns')\n",
    "plt.xlabel('Similarity',fontsize=12)\n",
    "plt.ylabel('Density',fontsize=12)\n",
    "plt.yticks(fontsize=12)  # Set y-tick labels font size\n",
    "plt.legend(loc='upper right',fontsize=12)  # Increase legend font size\n",
    "\n",
    "# Optimize layout\n",
    "plt.tight_layout()\n",
    "# Save the plot to a file\n",
    "plt.savefig('output/fedvg.png', dpi=300, bbox_inches='tight')  # Save as a PNG file with high resolution\n",
    "\n",
    "# Show the plot\n",
    "plt.show()\n"
   ]
  },
  {
   "cell_type": "code",
   "execution_count": 66,
   "id": "c71af78e-28e9-4564-9609-3039455bb875",
   "metadata": {},
   "outputs": [
    {
     "data": {
      "image/png": "[encoded data removed]",
      "text/plain": [
       "<Figure size 750x500 with 1 Axes>"
      ]
     },
     "metadata": {},
     "output_type": "display_data"
    }
   ],
   "source": [
    "# FIG 2: DIFFERENCES IN COSINE SIMILARITY\n",
    "\n",
    "# For each class, we have 20 similarity values — one per image — showing how similar fake and real versions are.These values are very close across classes\n",
    "# So, to highlight subtle differences, compute and plot the difference between each pair of classes, value by value.\n",
    "# This gives you 20 values showing how much the similarity differs for each image between class 0 and class 1.\n",
    "# It's a magnified view of the gap between classes.\n",
    "# If the differences are tiny (e.g., 0.003), the plot helps make that visible and comparable.\n",
    "\n",
    "import numpy as np\n",
    "import matplotlib.pyplot as plt\n",
    "import seaborn as sns\n",
    "import pandas as pd\n",
    "\n",
    "# Differences between class distributions (pairwise)\n",
    "diff_12 = np.array(class2_sim) - np.array(class1_sim)\n",
    "diff_13 = np.array(class3_sim) - np.array(class1_sim)\n",
    "diff_14 = np.array(class4_sim) - np.array(class1_sim)\n",
    "diff_23 = np.array(class3_sim) - np.array(class2_sim)\n",
    "diff_24 = np.array(class4_sim) - np.array(class2_sim)\n",
    "diff_34 = np.array(class4_sim) - np.array(class3_sim)\n",
    "\n",
    "# Create a DataFrame\n",
    "diff_df = pd.DataFrame({\n",
    "    'Class 2 - Class 1': diff_12,\n",
    "    'Class 3 - Class 1': diff_13,\n",
    "    'Class 4 - Class 1': diff_14,\n",
    "    'Class 3 - Class 2': diff_23,\n",
    "    'Class 4 - Class 2': diff_24,\n",
    "    'Class 4 - Class 3': diff_34,\n",
    "})\n",
    "\n",
    "# Plot\n",
    "plt.figure(figsize=(7.5, 5))\n",
    "\n",
    "colors = sns.color_palette(\"tab10\", n_colors=6)\n",
    "\n",
    "for column, color in zip(diff_df.columns, colors):\n",
    "    sns.kdeplot(diff_df[column], label=column, color=color, linestyle='-')\n",
    "\n",
    "plt.axvline(0, color='black', linestyle='--', linewidth=1)  # reference line at 0\n",
    "plt.xlabel('Difference in Similarity', fontsize=12)\n",
    "plt.ylabel('Density', fontsize=12)\n",
    "plt.legend(fontsize=10)\n",
    "plt.title(\"Pairwise Differences in Cosine Similarity\", fontsize=13)\n",
    "plt.tight_layout()\n",
    "plt.show()"
   ]
  },
  {
   "cell_type": "code",
   "execution_count": 67,
   "id": "362bf182-7927-4ce2-bf5a-97299d426bc4",
   "metadata": {},
   "outputs": [],
   "source": [
    "def calculate_interclass_similarity(first, second):\n",
    "    similarities = []\n",
    "\n",
    "    first_images = []\n",
    "    second_images = []\n",
    "    if first == 'class1':\n",
    "        first_images = class0_original_images.copy()\n",
    "    elif first == 'class2':\n",
    "        first_images = class1_original_images.copy()\n",
    "    elif first == 'class3':\n",
    "        first_images = class2_original_images.copy()\n",
    "    elif first == 'class4':\n",
    "        first_images = class3_original_images.copy()\n",
    "\n",
    "    if second == 'class1':\n",
    "        second_images = class0_original_images.copy()\n",
    "    elif second == 'class2':\n",
    "        second_images = class1_original_images.copy()\n",
    "    elif second == 'class3':\n",
    "        second_images = class2_original_images.copy()\n",
    "    elif second == 'class4':\n",
    "        second_images = class3_original_images.copy()\n",
    "    \n",
    "    for i in range(0, 20):\n",
    "        first_image = first_images[i].unsqueeze(dim=0).to(device)\n",
    "        first_image = first_image.repeat(1, 3, 1, 1)\n",
    "        \n",
    "        second_image = second_images[i].unsqueeze(dim=0).to(device)\n",
    "        second_image = second_image.repeat(1, 3, 1, 1)\n",
    "        \n",
    "        features_first = get_feature(first_image)\n",
    "        features_second = get_feature(second_image)\n",
    "\n",
    "        cosine_similarity = 1 - cosine(features_first, features_second)\n",
    "        similarities.append(cosine_similarity)\n",
    "\n",
    "    return similarities"
   ]
  },
  {
   "cell_type": "code",
   "execution_count": 68,
   "id": "5954dfe3-cb08-4551-a5f9-d2082ac3d604",
   "metadata": {},
   "outputs": [],
   "source": [
    "class1class2 = calculate_interclass_similarity('class1', 'class2')"
   ]
  },
  {
   "cell_type": "code",
   "execution_count": 69,
   "id": "cd5ab50d-9d9d-443b-bea5-2d6e302e2bf4",
   "metadata": {},
   "outputs": [
    {
     "data": {
      "text/plain": [
       "[np.float32(0.92668736),\n",
       " np.float32(0.9234537),\n",
       " np.float32(0.8914366),\n",
       " np.float32(0.85996324),\n",
       " np.float32(0.9045878),\n",
       " np.float32(0.8661933),\n",
       " np.float32(0.8529511),\n",
       " np.float32(0.8320824),\n",
       " np.float32(0.81313324),\n",
       " np.float32(0.9028811),\n",
       " np.float32(0.9157124),\n",
       " np.float32(0.83247995),\n",
       " np.float32(0.9164997),\n",
       " np.float32(0.84919524),\n",
       " np.float32(0.90398437),\n",
       " np.float32(0.8242637),\n",
       " np.float32(0.78115076),\n",
       " np.float32(0.80533254),\n",
       " np.float32(0.92938054),\n",
       " np.float32(0.89034694)]"
      ]
     },
     "execution_count": 69,
     "metadata": {},
     "output_type": "execute_result"
    }
   ],
   "source": [
    "class1class2"
   ]
  },
  {
   "cell_type": "code",
   "execution_count": 70,
   "id": "29441f40-36a7-4854-98be-5d128bae49cd",
   "metadata": {},
   "outputs": [
    {
     "ename": "FileNotFoundError",
     "evalue": "[Errno 2] No such file or directory: 'output/VoiceDivergenceD3.png'",
     "output_type": "error",
     "traceback": [
      "\u001b[1;31m---------------------------------------------------------------------------\u001b[0m",
      "\u001b[1;31mFileNotFoundError\u001b[0m                         Traceback (most recent call last)",
      "Cell \u001b[1;32mIn[70], line 44\u001b[0m\n\u001b[0;32m     42\u001b[0m plt\u001b[38;5;241m.\u001b[39mtight_layout()\n\u001b[0;32m     43\u001b[0m \u001b[38;5;66;03m# Save the plot to a file\u001b[39;00m\n\u001b[1;32m---> 44\u001b[0m \u001b[43mplt\u001b[49m\u001b[38;5;241;43m.\u001b[39;49m\u001b[43msavefig\u001b[49m\u001b[43m(\u001b[49m\u001b[38;5;124;43m'\u001b[39;49m\u001b[38;5;124;43moutput/VoiceDivergenceD3.png\u001b[39;49m\u001b[38;5;124;43m'\u001b[39;49m\u001b[43m,\u001b[49m\u001b[43m \u001b[49m\u001b[43mdpi\u001b[49m\u001b[38;5;241;43m=\u001b[39;49m\u001b[38;5;241;43m300\u001b[39;49m\u001b[43m,\u001b[49m\u001b[43m \u001b[49m\u001b[43mbbox_inches\u001b[49m\u001b[38;5;241;43m=\u001b[39;49m\u001b[38;5;124;43m'\u001b[39;49m\u001b[38;5;124;43mtight\u001b[39;49m\u001b[38;5;124;43m'\u001b[39;49m\u001b[43m)\u001b[49m  \u001b[38;5;66;03m# Save as a PNG file with high resolution\u001b[39;00m\n\u001b[0;32m     46\u001b[0m \u001b[38;5;66;03m# Show the plot\u001b[39;00m\n\u001b[0;32m     47\u001b[0m plt\u001b[38;5;241m.\u001b[39mshow()\n",
      "File \u001b[1;32m~\\AppData\\Local\\Programs\\Python\\Python39\\lib\\site-packages\\matplotlib\\pyplot.py:1228\u001b[0m, in \u001b[0;36msavefig\u001b[1;34m(*args, **kwargs)\u001b[0m\n\u001b[0;32m   1225\u001b[0m fig \u001b[38;5;241m=\u001b[39m gcf()\n\u001b[0;32m   1226\u001b[0m \u001b[38;5;66;03m# savefig default implementation has no return, so mypy is unhappy\u001b[39;00m\n\u001b[0;32m   1227\u001b[0m \u001b[38;5;66;03m# presumably this is here because subclasses can return?\u001b[39;00m\n\u001b[1;32m-> 1228\u001b[0m res \u001b[38;5;241m=\u001b[39m fig\u001b[38;5;241m.\u001b[39msavefig(\u001b[38;5;241m*\u001b[39margs, \u001b[38;5;241m*\u001b[39m\u001b[38;5;241m*\u001b[39mkwargs)  \u001b[38;5;66;03m# type: ignore[func-returns-value]\u001b[39;00m\n\u001b[0;32m   1229\u001b[0m fig\u001b[38;5;241m.\u001b[39mcanvas\u001b[38;5;241m.\u001b[39mdraw_idle()  \u001b[38;5;66;03m# Need this if 'transparent=True', to reset colors.\u001b[39;00m\n\u001b[0;32m   1230\u001b[0m \u001b[38;5;28;01mreturn\u001b[39;00m res\n",
      "File \u001b[1;32m~\\AppData\\Local\\Programs\\Python\\Python39\\lib\\site-packages\\matplotlib\\figure.py:3395\u001b[0m, in \u001b[0;36mFigure.savefig\u001b[1;34m(self, fname, transparent, **kwargs)\u001b[0m\n\u001b[0;32m   3393\u001b[0m     \u001b[38;5;28;01mfor\u001b[39;00m ax \u001b[38;5;129;01min\u001b[39;00m \u001b[38;5;28mself\u001b[39m\u001b[38;5;241m.\u001b[39maxes:\n\u001b[0;32m   3394\u001b[0m         _recursively_make_axes_transparent(stack, ax)\n\u001b[1;32m-> 3395\u001b[0m \u001b[38;5;28mself\u001b[39m\u001b[38;5;241m.\u001b[39mcanvas\u001b[38;5;241m.\u001b[39mprint_figure(fname, \u001b[38;5;241m*\u001b[39m\u001b[38;5;241m*\u001b[39mkwargs)\n",
      "File \u001b[1;32m~\\AppData\\Local\\Programs\\Python\\Python39\\lib\\site-packages\\matplotlib\\backend_bases.py:2204\u001b[0m, in \u001b[0;36mFigureCanvasBase.print_figure\u001b[1;34m(self, filename, dpi, facecolor, edgecolor, orientation, format, bbox_inches, pad_inches, bbox_extra_artists, backend, **kwargs)\u001b[0m\n\u001b[0;32m   2200\u001b[0m \u001b[38;5;28;01mtry\u001b[39;00m:\n\u001b[0;32m   2201\u001b[0m     \u001b[38;5;66;03m# _get_renderer may change the figure dpi (as vector formats\u001b[39;00m\n\u001b[0;32m   2202\u001b[0m     \u001b[38;5;66;03m# force the figure dpi to 72), so we need to set it again here.\u001b[39;00m\n\u001b[0;32m   2203\u001b[0m     \u001b[38;5;28;01mwith\u001b[39;00m cbook\u001b[38;5;241m.\u001b[39m_setattr_cm(\u001b[38;5;28mself\u001b[39m\u001b[38;5;241m.\u001b[39mfigure, dpi\u001b[38;5;241m=\u001b[39mdpi):\n\u001b[1;32m-> 2204\u001b[0m         result \u001b[38;5;241m=\u001b[39m print_method(\n\u001b[0;32m   2205\u001b[0m             filename,\n\u001b[0;32m   2206\u001b[0m             facecolor\u001b[38;5;241m=\u001b[39mfacecolor,\n\u001b[0;32m   2207\u001b[0m             edgecolor\u001b[38;5;241m=\u001b[39medgecolor,\n\u001b[0;32m   2208\u001b[0m             orientation\u001b[38;5;241m=\u001b[39morientation,\n\u001b[0;32m   2209\u001b[0m             bbox_inches_restore\u001b[38;5;241m=\u001b[39m_bbox_inches_restore,\n\u001b[0;32m   2210\u001b[0m             \u001b[38;5;241m*\u001b[39m\u001b[38;5;241m*\u001b[39mkwargs)\n\u001b[0;32m   2211\u001b[0m \u001b[38;5;28;01mfinally\u001b[39;00m:\n\u001b[0;32m   2212\u001b[0m     \u001b[38;5;28;01mif\u001b[39;00m bbox_inches \u001b[38;5;129;01mand\u001b[39;00m restore_bbox:\n",
      "File \u001b[1;32m~\\AppData\\Local\\Programs\\Python\\Python39\\lib\\site-packages\\matplotlib\\backend_bases.py:2054\u001b[0m, in \u001b[0;36mFigureCanvasBase._switch_canvas_and_return_print_method.<locals>.<lambda>\u001b[1;34m(*args, **kwargs)\u001b[0m\n\u001b[0;32m   2050\u001b[0m     optional_kws \u001b[38;5;241m=\u001b[39m {  \u001b[38;5;66;03m# Passed by print_figure for other renderers.\u001b[39;00m\n\u001b[0;32m   2051\u001b[0m         \u001b[38;5;124m\"\u001b[39m\u001b[38;5;124mdpi\u001b[39m\u001b[38;5;124m\"\u001b[39m, \u001b[38;5;124m\"\u001b[39m\u001b[38;5;124mfacecolor\u001b[39m\u001b[38;5;124m\"\u001b[39m, \u001b[38;5;124m\"\u001b[39m\u001b[38;5;124medgecolor\u001b[39m\u001b[38;5;124m\"\u001b[39m, \u001b[38;5;124m\"\u001b[39m\u001b[38;5;124morientation\u001b[39m\u001b[38;5;124m\"\u001b[39m,\n\u001b[0;32m   2052\u001b[0m         \u001b[38;5;124m\"\u001b[39m\u001b[38;5;124mbbox_inches_restore\u001b[39m\u001b[38;5;124m\"\u001b[39m}\n\u001b[0;32m   2053\u001b[0m     skip \u001b[38;5;241m=\u001b[39m optional_kws \u001b[38;5;241m-\u001b[39m {\u001b[38;5;241m*\u001b[39minspect\u001b[38;5;241m.\u001b[39msignature(meth)\u001b[38;5;241m.\u001b[39mparameters}\n\u001b[1;32m-> 2054\u001b[0m     print_method \u001b[38;5;241m=\u001b[39m functools\u001b[38;5;241m.\u001b[39mwraps(meth)(\u001b[38;5;28;01mlambda\u001b[39;00m \u001b[38;5;241m*\u001b[39margs, \u001b[38;5;241m*\u001b[39m\u001b[38;5;241m*\u001b[39mkwargs: meth(\n\u001b[0;32m   2055\u001b[0m         \u001b[38;5;241m*\u001b[39margs, \u001b[38;5;241m*\u001b[39m\u001b[38;5;241m*\u001b[39m{k: v \u001b[38;5;28;01mfor\u001b[39;00m k, v \u001b[38;5;129;01min\u001b[39;00m kwargs\u001b[38;5;241m.\u001b[39mitems() \u001b[38;5;28;01mif\u001b[39;00m k \u001b[38;5;129;01mnot\u001b[39;00m \u001b[38;5;129;01min\u001b[39;00m skip}))\n\u001b[0;32m   2056\u001b[0m \u001b[38;5;28;01melse\u001b[39;00m:  \u001b[38;5;66;03m# Let third-parties do as they see fit.\u001b[39;00m\n\u001b[0;32m   2057\u001b[0m     print_method \u001b[38;5;241m=\u001b[39m meth\n",
      "File \u001b[1;32m~\\AppData\\Local\\Programs\\Python\\Python39\\lib\\site-packages\\matplotlib\\backends\\backend_agg.py:496\u001b[0m, in \u001b[0;36mFigureCanvasAgg.print_png\u001b[1;34m(self, filename_or_obj, metadata, pil_kwargs)\u001b[0m\n\u001b[0;32m    449\u001b[0m \u001b[38;5;28;01mdef\u001b[39;00m\u001b[38;5;250m \u001b[39m\u001b[38;5;21mprint_png\u001b[39m(\u001b[38;5;28mself\u001b[39m, filename_or_obj, \u001b[38;5;241m*\u001b[39m, metadata\u001b[38;5;241m=\u001b[39m\u001b[38;5;28;01mNone\u001b[39;00m, pil_kwargs\u001b[38;5;241m=\u001b[39m\u001b[38;5;28;01mNone\u001b[39;00m):\n\u001b[0;32m    450\u001b[0m \u001b[38;5;250m    \u001b[39m\u001b[38;5;124;03m\"\"\"\u001b[39;00m\n\u001b[0;32m    451\u001b[0m \u001b[38;5;124;03m    Write the figure to a PNG file.\u001b[39;00m\n\u001b[0;32m    452\u001b[0m \n\u001b[1;32m   (...)\u001b[0m\n\u001b[0;32m    494\u001b[0m \u001b[38;5;124;03m        *metadata*, including the default 'Software' key.\u001b[39;00m\n\u001b[0;32m    495\u001b[0m \u001b[38;5;124;03m    \"\"\"\u001b[39;00m\n\u001b[1;32m--> 496\u001b[0m     \u001b[38;5;28;43mself\u001b[39;49m\u001b[38;5;241;43m.\u001b[39;49m\u001b[43m_print_pil\u001b[49m\u001b[43m(\u001b[49m\u001b[43mfilename_or_obj\u001b[49m\u001b[43m,\u001b[49m\u001b[43m \u001b[49m\u001b[38;5;124;43m\"\u001b[39;49m\u001b[38;5;124;43mpng\u001b[39;49m\u001b[38;5;124;43m\"\u001b[39;49m\u001b[43m,\u001b[49m\u001b[43m \u001b[49m\u001b[43mpil_kwargs\u001b[49m\u001b[43m,\u001b[49m\u001b[43m \u001b[49m\u001b[43mmetadata\u001b[49m\u001b[43m)\u001b[49m\n",
      "File \u001b[1;32m~\\AppData\\Local\\Programs\\Python\\Python39\\lib\\site-packages\\matplotlib\\backends\\backend_agg.py:445\u001b[0m, in \u001b[0;36mFigureCanvasAgg._print_pil\u001b[1;34m(self, filename_or_obj, fmt, pil_kwargs, metadata)\u001b[0m\n\u001b[0;32m    440\u001b[0m \u001b[38;5;250m\u001b[39m\u001b[38;5;124;03m\"\"\"\u001b[39;00m\n\u001b[0;32m    441\u001b[0m \u001b[38;5;124;03mDraw the canvas, then save it using `.image.imsave` (to which\u001b[39;00m\n\u001b[0;32m    442\u001b[0m \u001b[38;5;124;03m*pil_kwargs* and *metadata* are forwarded).\u001b[39;00m\n\u001b[0;32m    443\u001b[0m \u001b[38;5;124;03m\"\"\"\u001b[39;00m\n\u001b[0;32m    444\u001b[0m FigureCanvasAgg\u001b[38;5;241m.\u001b[39mdraw(\u001b[38;5;28mself\u001b[39m)\n\u001b[1;32m--> 445\u001b[0m \u001b[43mmpl\u001b[49m\u001b[38;5;241;43m.\u001b[39;49m\u001b[43mimage\u001b[49m\u001b[38;5;241;43m.\u001b[39;49m\u001b[43mimsave\u001b[49m\u001b[43m(\u001b[49m\n\u001b[0;32m    446\u001b[0m \u001b[43m    \u001b[49m\u001b[43mfilename_or_obj\u001b[49m\u001b[43m,\u001b[49m\u001b[43m \u001b[49m\u001b[38;5;28;43mself\u001b[39;49m\u001b[38;5;241;43m.\u001b[39;49m\u001b[43mbuffer_rgba\u001b[49m\u001b[43m(\u001b[49m\u001b[43m)\u001b[49m\u001b[43m,\u001b[49m\u001b[43m \u001b[49m\u001b[38;5;28;43mformat\u001b[39;49m\u001b[38;5;241;43m=\u001b[39;49m\u001b[43mfmt\u001b[49m\u001b[43m,\u001b[49m\u001b[43m \u001b[49m\u001b[43morigin\u001b[49m\u001b[38;5;241;43m=\u001b[39;49m\u001b[38;5;124;43m\"\u001b[39;49m\u001b[38;5;124;43mupper\u001b[39;49m\u001b[38;5;124;43m\"\u001b[39;49m\u001b[43m,\u001b[49m\n\u001b[0;32m    447\u001b[0m \u001b[43m    \u001b[49m\u001b[43mdpi\u001b[49m\u001b[38;5;241;43m=\u001b[39;49m\u001b[38;5;28;43mself\u001b[39;49m\u001b[38;5;241;43m.\u001b[39;49m\u001b[43mfigure\u001b[49m\u001b[38;5;241;43m.\u001b[39;49m\u001b[43mdpi\u001b[49m\u001b[43m,\u001b[49m\u001b[43m \u001b[49m\u001b[43mmetadata\u001b[49m\u001b[38;5;241;43m=\u001b[39;49m\u001b[43mmetadata\u001b[49m\u001b[43m,\u001b[49m\u001b[43m \u001b[49m\u001b[43mpil_kwargs\u001b[49m\u001b[38;5;241;43m=\u001b[39;49m\u001b[43mpil_kwargs\u001b[49m\u001b[43m)\u001b[49m\n",
      "File \u001b[1;32m~\\AppData\\Local\\Programs\\Python\\Python39\\lib\\site-packages\\matplotlib\\image.py:1676\u001b[0m, in \u001b[0;36mimsave\u001b[1;34m(fname, arr, vmin, vmax, cmap, format, origin, dpi, metadata, pil_kwargs)\u001b[0m\n\u001b[0;32m   1674\u001b[0m pil_kwargs\u001b[38;5;241m.\u001b[39msetdefault(\u001b[38;5;124m\"\u001b[39m\u001b[38;5;124mformat\u001b[39m\u001b[38;5;124m\"\u001b[39m, \u001b[38;5;28mformat\u001b[39m)\n\u001b[0;32m   1675\u001b[0m pil_kwargs\u001b[38;5;241m.\u001b[39msetdefault(\u001b[38;5;124m\"\u001b[39m\u001b[38;5;124mdpi\u001b[39m\u001b[38;5;124m\"\u001b[39m, (dpi, dpi))\n\u001b[1;32m-> 1676\u001b[0m image\u001b[38;5;241m.\u001b[39msave(fname, \u001b[38;5;241m*\u001b[39m\u001b[38;5;241m*\u001b[39mpil_kwargs)\n",
      "File \u001b[1;32m~\\AppData\\Local\\Programs\\Python\\Python39\\lib\\site-packages\\PIL\\Image.py:2436\u001b[0m, in \u001b[0;36mImage.save\u001b[1;34m(self, fp, format, **params)\u001b[0m\n\u001b[0;32m   2434\u001b[0m         fp \u001b[38;5;241m=\u001b[39m builtins\u001b[38;5;241m.\u001b[39mopen(filename, \u001b[38;5;124m\"\u001b[39m\u001b[38;5;124mr+b\u001b[39m\u001b[38;5;124m\"\u001b[39m)\n\u001b[0;32m   2435\u001b[0m     \u001b[38;5;28;01melse\u001b[39;00m:\n\u001b[1;32m-> 2436\u001b[0m         fp \u001b[38;5;241m=\u001b[39m \u001b[43mbuiltins\u001b[49m\u001b[38;5;241;43m.\u001b[39;49m\u001b[43mopen\u001b[49m\u001b[43m(\u001b[49m\u001b[43mfilename\u001b[49m\u001b[43m,\u001b[49m\u001b[43m \u001b[49m\u001b[38;5;124;43m\"\u001b[39;49m\u001b[38;5;124;43mw+b\u001b[39;49m\u001b[38;5;124;43m\"\u001b[39;49m\u001b[43m)\u001b[49m\n\u001b[0;32m   2438\u001b[0m \u001b[38;5;28;01mtry\u001b[39;00m:\n\u001b[0;32m   2439\u001b[0m     save_handler(\u001b[38;5;28mself\u001b[39m, fp, filename)\n",
      "\u001b[1;31mFileNotFoundError\u001b[0m: [Errno 2] No such file or directory: 'output/VoiceDivergenceD3.png'"
     ]
    },
    {
     "data": {
      "image/png": "[encoded data removed]",
      "text/plain": [
       "<Figure size 650x420 with 1 Axes>"
      ]
     },
     "metadata": {},
     "output_type": "display_data"
    }
   ],
   "source": [
    "                                                # FIG: 3 -> INTERCLASS SIMILARITIES\n",
    "\n",
    "import pandas as pd\n",
    "import numpy as np\n",
    "import matplotlib.pyplot as plt\n",
    "import seaborn as sns\n",
    "\n",
    "# Set figure size\n",
    "plt.figure(figsize=(6.5, 4.2))  # Set the size of the figure (width, height)\n",
    "\n",
    "# Generate sample similarity data for four classes (each with 20 values in the range 0 to 1)\n",
    "np.random.seed(42)  # For reproducibility\n",
    "class1class2 = calculate_interclass_similarity('class1', 'class2')\n",
    "class1class3 = calculate_interclass_similarity('class1', 'class3')\n",
    "class1class4 = calculate_interclass_similarity('class1', 'class4')\n",
    "class2class3 = calculate_interclass_similarity('class2', 'class3')\n",
    "class2class4 = calculate_interclass_similarity('class2', 'class4')\n",
    "class3class4 = calculate_interclass_similarity('class3', 'class4')\n",
    "\n",
    "# Sample DataFrame with four columns\n",
    "data=pd.DataFrame({'Class1 vs Class2':class1class2,'Class1 vs Class3':class1class3,'Class1 vs Class4':class1class4,'Class2 vs Class3':class2class3,'Class2 vs Class4':class2class4,'Class3 vs Class4':class3class4})\n",
    "df = pd.DataFrame(data)\n",
    "\n",
    "# Plot the probability distributions\n",
    "#plt.figure(figsize=(10, 6))\n",
    "\n",
    "# Define colors and line styles for each column\n",
    "colors = ['#1f77b4', '#ff7f0e', '#2ca02c', '#d62728', '#9467bd', '#8c564b']\n",
    "linestyles = ['-.', '--', '-', '-', '-.', '--']\n",
    "\n",
    "# Plot the probability distributions with unique colors and line styles\n",
    "for column, color, linestyle in zip(df.columns, colors, linestyles):\n",
    "    sns.kdeplot(df[column], label=column, color=color, linestyle=linestyle)\n",
    "\n",
    "#plt.title('Probability Distributions of Four Columns')\n",
    "plt.xlabel('Similarity',fontsize=12)\n",
    "plt.ylabel('Density',fontsize=12)\n",
    "plt.yticks(fontsize=12)  # Set y-tick labels font size\n",
    "plt.legend(loc='upper right',fontsize=12)  # Increase legend font size\n",
    "\n",
    "# Optimize layout\n",
    "plt.tight_layout()\n",
    "# Save the plot to a file\n",
    "plt.savefig('output/VoiceDivergenceD3.png', dpi=300, bbox_inches='tight')  # Save as a PNG file with high resolution\n",
    "\n",
    "# Show the plot\n",
    "plt.show()"
   ]
  },
  {
   "cell_type": "code",
   "execution_count": 74,
   "id": "19754eee-5c1e-47e6-bbaa-b2cef05a1641",
   "metadata": {},
   "outputs": [
    {
     "data": {
      "text/plain": [
       "<torch._C.Generator at 0x22aa29f8410>"
      ]
     },
     "execution_count": 74,
     "metadata": {},
     "output_type": "execute_result"
    }
   ],
   "source": [
    "# EXTRAS\n",
    "torch.manual_seed(42)"
   ]
  },
  {
   "cell_type": "code",
   "execution_count": 75,
   "id": "918e9d1f-b03d-4d8b-a55c-7e3a8369b0dc",
   "metadata": {},
   "outputs": [],
   "source": [
    "# 20 Random Images From the GAN \n",
    "SAMPLE_SIZE = 20\n",
    "\n",
    "latent_vectors = torch.randn(SAMPLE_SIZE, z_dim, 1, 1).to(device)"
   ]
  },
  {
   "cell_type": "code",
   "execution_count": 76,
   "id": "96295383-f857-40c9-9caa-d47996964c26",
   "metadata": {},
   "outputs": [],
   "source": [
    "fake_images = gen(latent_vectors)"
   ]
  },
  {
   "cell_type": "code",
   "execution_count": 77,
   "id": "35620de6-d6e4-4e53-ac92-2ec492b04b94",
   "metadata": {},
   "outputs": [
    {
     "data": {
      "text/plain": [
       "torch.Size([20, 1, 64, 64])"
      ]
     },
     "execution_count": 77,
     "metadata": {},
     "output_type": "execute_result"
    }
   ],
   "source": [
    "fake_images.shape"
   ]
  },
  {
   "cell_type": "code",
   "execution_count": 78,
   "id": "26fd2bc4-738c-4bee-bf1d-851c55afe450",
   "metadata": {},
   "outputs": [],
   "source": [
    "fake_img = fake_images[18]"
   ]
  },
  {
   "cell_type": "code",
   "execution_count": 79,
   "id": "bdcb623d-5c4f-452c-99e7-596a2b330fd2",
   "metadata": {},
   "outputs": [
    {
     "name": "stdout",
     "output_type": "stream",
     "text": [
      "torch.Size([64, 64])\n"
     ]
    },
    {
     "data": {
      "text/plain": [
       "<matplotlib.image.AxesImage at 0x22abebd0d90>"
      ]
     },
     "execution_count": 79,
     "metadata": {},
     "output_type": "execute_result"
    },
    {
     "data": {
      "image/png": "[encoded data removed]",
      "text/plain": [
       "<Figure size 640x480 with 1 Axes>"
      ]
     },
     "metadata": {},
     "output_type": "display_data"
    }
   ],
   "source": [
    "fake_img = fake_img.squeeze()\n",
    "print(fake_img.shape)\n",
    "plt.axis(False)\n",
    "plt.title('Fake Generated Image:')\n",
    "plt.imshow(fake_img.cpu().detach(), cmap='gray')"
   ]
  },
  {
   "cell_type": "code",
   "execution_count": 80,
   "id": "86e232c5-2da7-4812-bcdd-81f75c07b070",
   "metadata": {},
   "outputs": [],
   "source": [
    "# CALCULATE Cosine similarity between 20 fake images and 20 real images from each class.\n",
    "def e_calculate_class0_sim():\n",
    "    similarities = []\n",
    "    for i in range(0, 20):\n",
    "        class0_original = class0_original_images[i].unsqueeze(dim=0).to(device)\n",
    "        class0_original = class0_original.repeat(1, 3, 1, 1)\n",
    "\n",
    "        latent_vector = latent_vectors[i]\n",
    "        fake_img = gen(latent_vector.to(device))\n",
    "        fake_img = fake_img.repeat(1, 3, 1, 1)\n",
    "\n",
    "        features_original = get_feature(class0_original)\n",
    "        features_fake = get_feature(fake_img)\n",
    "\n",
    "        cosine_similarity = 1 - cosine(features_original, features_fake)\n",
    "\n",
    "        similarities.append(cosine_similarity)\n",
    "        \n",
    "    return similarities"
   ]
  },
  {
   "cell_type": "code",
   "execution_count": 87,
   "id": "e79f19f6-dff0-4cde-a9e1-bcf5bb631853",
   "metadata": {},
   "outputs": [],
   "source": [
    "def e_calculate_class1_sim():\n",
    "    similarities = []\n",
    "    for i in range(0, 20):\n",
    "        class1_original = class1_original_images[i].unsqueeze(dim=0).to(device)\n",
    "        class1_original = class1_original.repeat(1, 3, 1, 1)\n",
    "\n",
    "        latent_vector = latent_vectors[i]\n",
    "        fake_img = gen(latent_vector.to(device))\n",
    "        fake_img = fake_img.repeat(1, 3, 1, 1)\n",
    "\n",
    "        features_original = get_feature(class1_original)\n",
    "        features_fake = get_feature(fake_img)\n",
    "\n",
    "        cosine_similarity = 1 - cosine(features_original, features_fake)\n",
    "\n",
    "        similarities.append(cosine_similarity)\n",
    "        \n",
    "    return similarities"
   ]
  },
  {
   "cell_type": "code",
   "execution_count": 88,
   "id": "43c60143-ed53-4e13-b1e9-7c8b1c012309",
   "metadata": {},
   "outputs": [],
   "source": [
    "def e_calculate_class2_sim():\n",
    "    similarities = []\n",
    "    for i in range(0, 20):\n",
    "        class2_original = class2_original_images[i].unsqueeze(dim=0).to(device)\n",
    "        class2_original = class2_original.repeat(1, 3, 1, 1)\n",
    "\n",
    "        latent_vector = latent_vectors[i]\n",
    "        fake_img = gen(latent_vector.to(device))\n",
    "        fake_img = fake_img.repeat(1, 3, 1, 1)\n",
    "\n",
    "        features_original = get_feature(class2_original)\n",
    "        features_fake = get_feature(fake_img)\n",
    "\n",
    "        cosine_similarity = 1 - cosine(features_original, features_fake)\n",
    "\n",
    "        similarities.append(cosine_similarity)\n",
    "        \n",
    "    return similarities"
   ]
  },
  {
   "cell_type": "code",
   "execution_count": 89,
   "id": "33fec413-252c-49be-b8a9-b480949d1a18",
   "metadata": {},
   "outputs": [],
   "source": [
    "def e_calculate_class3_sim():\n",
    "    similarities = []\n",
    "    for i in range(0, 20):\n",
    "        class3_original = class3_original_images[i].unsqueeze(dim=0).to(device)\n",
    "        class3_original = class3_original.repeat(1, 3, 1, 1)\n",
    "\n",
    "        latent_vector = latent_vectors[i]\n",
    "        fake_img = gen(latent_vector.to(device))\n",
    "        fake_img = fake_img.repeat(1, 3, 1, 1)\n",
    "\n",
    "        features_original = get_feature(class3_original)\n",
    "        features_fake = get_feature(fake_img)\n",
    "\n",
    "        cosine_similarity = 1 - cosine(features_original, features_fake)\n",
    "\n",
    "        similarities.append(cosine_similarity)\n",
    "        \n",
    "    return similarities"
   ]
  },
  {
   "cell_type": "code",
   "execution_count": 105,
   "id": "dd143a2a-49a4-4764-a2de-63f6d6b49aef",
   "metadata": {},
   "outputs": [],
   "source": [
    "e_class0_sims = e_calculate_class0_sim()\n",
    "e_class1_sims = e_calculate_class1_sim()\n",
    "e_class2_sims = e_calculate_class2_sim()\n",
    "e_class3_sims = e_calculate_class3_sim()"
   ]
  },
  {
   "cell_type": "code",
   "execution_count": 106,
   "id": "da304a3a-6e5b-4681-a038-5872a000440b",
   "metadata": {},
   "outputs": [
    {
     "data": {
      "text/plain": [
       "[np.float32(0.81299514),\n",
       " np.float32(0.6163978),\n",
       " np.float32(0.44841158),\n",
       " np.float32(0.02477163),\n",
       " np.float32(0.6222982),\n",
       " np.float32(0.7287216),\n",
       " np.float32(0.6863818),\n",
       " np.float32(0.11267722),\n",
       " np.float32(0.831709),\n",
       " np.float32(0.02749741),\n",
       " np.float32(0.018077493),\n",
       " np.float32(0.5066621),\n",
       " np.float32(0.87365305),\n",
       " np.float32(0.51273096),\n",
       " np.float32(0.3923394),\n",
       " np.float32(0.8091569),\n",
       " np.float32(0.62253827),\n",
       " np.float32(0.49662966),\n",
       " np.float32(0.42721522),\n",
       " np.float32(0.44742942)]"
      ]
     },
     "execution_count": 106,
     "metadata": {},
     "output_type": "execute_result"
    }
   ],
   "source": [
    "e_class0_sims"
   ]
  },
  {
   "cell_type": "code",
   "execution_count": 107,
   "id": "a2a15c5b-afc5-4e49-9599-b83697cad95c",
   "metadata": {},
   "outputs": [
    {
     "data": {
      "text/plain": [
       "[np.float32(0.81267715),\n",
       " np.float32(0.6286549),\n",
       " np.float32(0.4143145),\n",
       " np.float32(0.023983538),\n",
       " np.float32(0.63797307),\n",
       " np.float32(0.681086),\n",
       " np.float32(0.6048024),\n",
       " np.float32(0.118896425),\n",
       " np.float32(0.8177288),\n",
       " np.float32(0.032111704),\n",
       " np.float32(0.022358894),\n",
       " np.float32(0.4515211),\n",
       " np.float32(0.87209904),\n",
       " np.float32(0.47481084),\n",
       " np.float32(0.46601295),\n",
       " np.float32(0.75500095),\n",
       " np.float32(0.4814977),\n",
       " np.float32(0.4426887),\n",
       " np.float32(0.4466985),\n",
       " np.float32(0.41155457)]"
      ]
     },
     "execution_count": 107,
     "metadata": {},
     "output_type": "execute_result"
    }
   ],
   "source": [
    "e_class1_sims"
   ]
  },
  {
   "cell_type": "code",
   "execution_count": 109,
   "id": "41437f6b-7291-4ed8-8448-7246cab3ef5d",
   "metadata": {},
   "outputs": [
    {
     "data": {
      "text/plain": [
       "[np.float32(0.77995765),\n",
       " np.float32(0.54283696),\n",
       " np.float32(0.3542056),\n",
       " np.float32(0.024356425),\n",
       " np.float32(0.7057076),\n",
       " np.float32(0.60491586),\n",
       " np.float32(0.60674614),\n",
       " np.float32(0.11827159),\n",
       " np.float32(0.76844263),\n",
       " np.float32(0.020777464),\n",
       " np.float32(0.019863367),\n",
       " np.float32(0.46740937),\n",
       " np.float32(0.8251004),\n",
       " np.float32(0.4397906),\n",
       " np.float32(0.46301055),\n",
       " np.float32(0.8279048),\n",
       " np.float32(0.66405886),\n",
       " np.float32(0.4576246),\n",
       " np.float32(0.5701023),\n",
       " np.float32(0.35285795)]"
      ]
     },
     "execution_count": 109,
     "metadata": {},
     "output_type": "execute_result"
    }
   ],
   "source": [
    "e_class2_sims"
   ]
  },
  {
   "cell_type": "code",
   "execution_count": 110,
   "id": "470e9ad9-09ec-4343-9c44-c562e503e1a8",
   "metadata": {},
   "outputs": [
    {
     "data": {
      "text/plain": [
       "[np.float32(0.3779708),\n",
       " np.float32(0.17073578),\n",
       " np.float32(0.4126569),\n",
       " np.float32(0.15257406),\n",
       " np.float32(0.36469936),\n",
       " np.float32(0.36626172),\n",
       " np.float32(0.62121415),\n",
       " np.float32(0.37605822),\n",
       " np.float32(0.7265705),\n",
       " np.float32(0.040439963),\n",
       " np.float32(0.029065311),\n",
       " np.float32(0.45450813),\n",
       " np.float32(0.71127963),\n",
       " np.float32(0.4787758),\n",
       " np.float32(0.40385073),\n",
       " np.float32(0.54439473),\n",
       " np.float32(0.6812488),\n",
       " np.float32(0.49357665),\n",
       " np.float32(0.53838956),\n",
       " np.float32(0.45173705)]"
      ]
     },
     "execution_count": 110,
     "metadata": {},
     "output_type": "execute_result"
    }
   ],
   "source": [
    "e_class3_sims"
   ]
  },
  {
   "cell_type": "code",
   "execution_count": 111,
   "id": "64ba1358-6cca-4e2a-86c4-085ce4d95d0a",
   "metadata": {},
   "outputs": [
    {
     "ename": "FileNotFoundError",
     "evalue": "[Errno 2] No such file or directory: 'output/fedvg.png'",
     "output_type": "error",
     "traceback": [
      "\u001b[1;31m---------------------------------------------------------------------------\u001b[0m",
      "\u001b[1;31mFileNotFoundError\u001b[0m                         Traceback (most recent call last)",
      "Cell \u001b[1;32mIn[111], line 35\u001b[0m\n\u001b[0;32m     33\u001b[0m plt\u001b[38;5;241m.\u001b[39mtight_layout()\n\u001b[0;32m     34\u001b[0m \u001b[38;5;66;03m# Save the plot to a file\u001b[39;00m\n\u001b[1;32m---> 35\u001b[0m \u001b[43mplt\u001b[49m\u001b[38;5;241;43m.\u001b[39;49m\u001b[43msavefig\u001b[49m\u001b[43m(\u001b[49m\u001b[38;5;124;43m'\u001b[39;49m\u001b[38;5;124;43moutput/fedvg.png\u001b[39;49m\u001b[38;5;124;43m'\u001b[39;49m\u001b[43m,\u001b[49m\u001b[43m \u001b[49m\u001b[43mdpi\u001b[49m\u001b[38;5;241;43m=\u001b[39;49m\u001b[38;5;241;43m300\u001b[39;49m\u001b[43m,\u001b[49m\u001b[43m \u001b[49m\u001b[43mbbox_inches\u001b[49m\u001b[38;5;241;43m=\u001b[39;49m\u001b[38;5;124;43m'\u001b[39;49m\u001b[38;5;124;43mtight\u001b[39;49m\u001b[38;5;124;43m'\u001b[39;49m\u001b[43m)\u001b[49m  \u001b[38;5;66;03m# Save as a PNG file with high resolution\u001b[39;00m\n\u001b[0;32m     37\u001b[0m \u001b[38;5;66;03m# Show the plot\u001b[39;00m\n\u001b[0;32m     38\u001b[0m plt\u001b[38;5;241m.\u001b[39mshow()\n",
      "File \u001b[1;32m~\\AppData\\Local\\Programs\\Python\\Python39\\lib\\site-packages\\matplotlib\\pyplot.py:1228\u001b[0m, in \u001b[0;36msavefig\u001b[1;34m(*args, **kwargs)\u001b[0m\n\u001b[0;32m   1225\u001b[0m fig \u001b[38;5;241m=\u001b[39m gcf()\n\u001b[0;32m   1226\u001b[0m \u001b[38;5;66;03m# savefig default implementation has no return, so mypy is unhappy\u001b[39;00m\n\u001b[0;32m   1227\u001b[0m \u001b[38;5;66;03m# presumably this is here because subclasses can return?\u001b[39;00m\n\u001b[1;32m-> 1228\u001b[0m res \u001b[38;5;241m=\u001b[39m fig\u001b[38;5;241m.\u001b[39msavefig(\u001b[38;5;241m*\u001b[39margs, \u001b[38;5;241m*\u001b[39m\u001b[38;5;241m*\u001b[39mkwargs)  \u001b[38;5;66;03m# type: ignore[func-returns-value]\u001b[39;00m\n\u001b[0;32m   1229\u001b[0m fig\u001b[38;5;241m.\u001b[39mcanvas\u001b[38;5;241m.\u001b[39mdraw_idle()  \u001b[38;5;66;03m# Need this if 'transparent=True', to reset colors.\u001b[39;00m\n\u001b[0;32m   1230\u001b[0m \u001b[38;5;28;01mreturn\u001b[39;00m res\n",
      "File \u001b[1;32m~\\AppData\\Local\\Programs\\Python\\Python39\\lib\\site-packages\\matplotlib\\figure.py:3395\u001b[0m, in \u001b[0;36mFigure.savefig\u001b[1;34m(self, fname, transparent, **kwargs)\u001b[0m\n\u001b[0;32m   3393\u001b[0m     \u001b[38;5;28;01mfor\u001b[39;00m ax \u001b[38;5;129;01min\u001b[39;00m \u001b[38;5;28mself\u001b[39m\u001b[38;5;241m.\u001b[39maxes:\n\u001b[0;32m   3394\u001b[0m         _recursively_make_axes_transparent(stack, ax)\n\u001b[1;32m-> 3395\u001b[0m \u001b[38;5;28mself\u001b[39m\u001b[38;5;241m.\u001b[39mcanvas\u001b[38;5;241m.\u001b[39mprint_figure(fname, \u001b[38;5;241m*\u001b[39m\u001b[38;5;241m*\u001b[39mkwargs)\n",
      "File \u001b[1;32m~\\AppData\\Local\\Programs\\Python\\Python39\\lib\\site-packages\\matplotlib\\backend_bases.py:2204\u001b[0m, in \u001b[0;36mFigureCanvasBase.print_figure\u001b[1;34m(self, filename, dpi, facecolor, edgecolor, orientation, format, bbox_inches, pad_inches, bbox_extra_artists, backend, **kwargs)\u001b[0m\n\u001b[0;32m   2200\u001b[0m \u001b[38;5;28;01mtry\u001b[39;00m:\n\u001b[0;32m   2201\u001b[0m     \u001b[38;5;66;03m# _get_renderer may change the figure dpi (as vector formats\u001b[39;00m\n\u001b[0;32m   2202\u001b[0m     \u001b[38;5;66;03m# force the figure dpi to 72), so we need to set it again here.\u001b[39;00m\n\u001b[0;32m   2203\u001b[0m     \u001b[38;5;28;01mwith\u001b[39;00m cbook\u001b[38;5;241m.\u001b[39m_setattr_cm(\u001b[38;5;28mself\u001b[39m\u001b[38;5;241m.\u001b[39mfigure, dpi\u001b[38;5;241m=\u001b[39mdpi):\n\u001b[1;32m-> 2204\u001b[0m         result \u001b[38;5;241m=\u001b[39m print_method(\n\u001b[0;32m   2205\u001b[0m             filename,\n\u001b[0;32m   2206\u001b[0m             facecolor\u001b[38;5;241m=\u001b[39mfacecolor,\n\u001b[0;32m   2207\u001b[0m             edgecolor\u001b[38;5;241m=\u001b[39medgecolor,\n\u001b[0;32m   2208\u001b[0m             orientation\u001b[38;5;241m=\u001b[39morientation,\n\u001b[0;32m   2209\u001b[0m             bbox_inches_restore\u001b[38;5;241m=\u001b[39m_bbox_inches_restore,\n\u001b[0;32m   2210\u001b[0m             \u001b[38;5;241m*\u001b[39m\u001b[38;5;241m*\u001b[39mkwargs)\n\u001b[0;32m   2211\u001b[0m \u001b[38;5;28;01mfinally\u001b[39;00m:\n\u001b[0;32m   2212\u001b[0m     \u001b[38;5;28;01mif\u001b[39;00m bbox_inches \u001b[38;5;129;01mand\u001b[39;00m restore_bbox:\n",
      "File \u001b[1;32m~\\AppData\\Local\\Programs\\Python\\Python39\\lib\\site-packages\\matplotlib\\backend_bases.py:2054\u001b[0m, in \u001b[0;36mFigureCanvasBase._switch_canvas_and_return_print_method.<locals>.<lambda>\u001b[1;34m(*args, **kwargs)\u001b[0m\n\u001b[0;32m   2050\u001b[0m     optional_kws \u001b[38;5;241m=\u001b[39m {  \u001b[38;5;66;03m# Passed by print_figure for other renderers.\u001b[39;00m\n\u001b[0;32m   2051\u001b[0m         \u001b[38;5;124m\"\u001b[39m\u001b[38;5;124mdpi\u001b[39m\u001b[38;5;124m\"\u001b[39m, \u001b[38;5;124m\"\u001b[39m\u001b[38;5;124mfacecolor\u001b[39m\u001b[38;5;124m\"\u001b[39m, \u001b[38;5;124m\"\u001b[39m\u001b[38;5;124medgecolor\u001b[39m\u001b[38;5;124m\"\u001b[39m, \u001b[38;5;124m\"\u001b[39m\u001b[38;5;124morientation\u001b[39m\u001b[38;5;124m\"\u001b[39m,\n\u001b[0;32m   2052\u001b[0m         \u001b[38;5;124m\"\u001b[39m\u001b[38;5;124mbbox_inches_restore\u001b[39m\u001b[38;5;124m\"\u001b[39m}\n\u001b[0;32m   2053\u001b[0m     skip \u001b[38;5;241m=\u001b[39m optional_kws \u001b[38;5;241m-\u001b[39m {\u001b[38;5;241m*\u001b[39minspect\u001b[38;5;241m.\u001b[39msignature(meth)\u001b[38;5;241m.\u001b[39mparameters}\n\u001b[1;32m-> 2054\u001b[0m     print_method \u001b[38;5;241m=\u001b[39m functools\u001b[38;5;241m.\u001b[39mwraps(meth)(\u001b[38;5;28;01mlambda\u001b[39;00m \u001b[38;5;241m*\u001b[39margs, \u001b[38;5;241m*\u001b[39m\u001b[38;5;241m*\u001b[39mkwargs: meth(\n\u001b[0;32m   2055\u001b[0m         \u001b[38;5;241m*\u001b[39margs, \u001b[38;5;241m*\u001b[39m\u001b[38;5;241m*\u001b[39m{k: v \u001b[38;5;28;01mfor\u001b[39;00m k, v \u001b[38;5;129;01min\u001b[39;00m kwargs\u001b[38;5;241m.\u001b[39mitems() \u001b[38;5;28;01mif\u001b[39;00m k \u001b[38;5;129;01mnot\u001b[39;00m \u001b[38;5;129;01min\u001b[39;00m skip}))\n\u001b[0;32m   2056\u001b[0m \u001b[38;5;28;01melse\u001b[39;00m:  \u001b[38;5;66;03m# Let third-parties do as they see fit.\u001b[39;00m\n\u001b[0;32m   2057\u001b[0m     print_method \u001b[38;5;241m=\u001b[39m meth\n",
      "File \u001b[1;32m~\\AppData\\Local\\Programs\\Python\\Python39\\lib\\site-packages\\matplotlib\\backends\\backend_agg.py:496\u001b[0m, in \u001b[0;36mFigureCanvasAgg.print_png\u001b[1;34m(self, filename_or_obj, metadata, pil_kwargs)\u001b[0m\n\u001b[0;32m    449\u001b[0m \u001b[38;5;28;01mdef\u001b[39;00m\u001b[38;5;250m \u001b[39m\u001b[38;5;21mprint_png\u001b[39m(\u001b[38;5;28mself\u001b[39m, filename_or_obj, \u001b[38;5;241m*\u001b[39m, metadata\u001b[38;5;241m=\u001b[39m\u001b[38;5;28;01mNone\u001b[39;00m, pil_kwargs\u001b[38;5;241m=\u001b[39m\u001b[38;5;28;01mNone\u001b[39;00m):\n\u001b[0;32m    450\u001b[0m \u001b[38;5;250m    \u001b[39m\u001b[38;5;124;03m\"\"\"\u001b[39;00m\n\u001b[0;32m    451\u001b[0m \u001b[38;5;124;03m    Write the figure to a PNG file.\u001b[39;00m\n\u001b[0;32m    452\u001b[0m \n\u001b[1;32m   (...)\u001b[0m\n\u001b[0;32m    494\u001b[0m \u001b[38;5;124;03m        *metadata*, including the default 'Software' key.\u001b[39;00m\n\u001b[0;32m    495\u001b[0m \u001b[38;5;124;03m    \"\"\"\u001b[39;00m\n\u001b[1;32m--> 496\u001b[0m     \u001b[38;5;28;43mself\u001b[39;49m\u001b[38;5;241;43m.\u001b[39;49m\u001b[43m_print_pil\u001b[49m\u001b[43m(\u001b[49m\u001b[43mfilename_or_obj\u001b[49m\u001b[43m,\u001b[49m\u001b[43m \u001b[49m\u001b[38;5;124;43m\"\u001b[39;49m\u001b[38;5;124;43mpng\u001b[39;49m\u001b[38;5;124;43m\"\u001b[39;49m\u001b[43m,\u001b[49m\u001b[43m \u001b[49m\u001b[43mpil_kwargs\u001b[49m\u001b[43m,\u001b[49m\u001b[43m \u001b[49m\u001b[43mmetadata\u001b[49m\u001b[43m)\u001b[49m\n",
      "File \u001b[1;32m~\\AppData\\Local\\Programs\\Python\\Python39\\lib\\site-packages\\matplotlib\\backends\\backend_agg.py:445\u001b[0m, in \u001b[0;36mFigureCanvasAgg._print_pil\u001b[1;34m(self, filename_or_obj, fmt, pil_kwargs, metadata)\u001b[0m\n\u001b[0;32m    440\u001b[0m \u001b[38;5;250m\u001b[39m\u001b[38;5;124;03m\"\"\"\u001b[39;00m\n\u001b[0;32m    441\u001b[0m \u001b[38;5;124;03mDraw the canvas, then save it using `.image.imsave` (to which\u001b[39;00m\n\u001b[0;32m    442\u001b[0m \u001b[38;5;124;03m*pil_kwargs* and *metadata* are forwarded).\u001b[39;00m\n\u001b[0;32m    443\u001b[0m \u001b[38;5;124;03m\"\"\"\u001b[39;00m\n\u001b[0;32m    444\u001b[0m FigureCanvasAgg\u001b[38;5;241m.\u001b[39mdraw(\u001b[38;5;28mself\u001b[39m)\n\u001b[1;32m--> 445\u001b[0m \u001b[43mmpl\u001b[49m\u001b[38;5;241;43m.\u001b[39;49m\u001b[43mimage\u001b[49m\u001b[38;5;241;43m.\u001b[39;49m\u001b[43mimsave\u001b[49m\u001b[43m(\u001b[49m\n\u001b[0;32m    446\u001b[0m \u001b[43m    \u001b[49m\u001b[43mfilename_or_obj\u001b[49m\u001b[43m,\u001b[49m\u001b[43m \u001b[49m\u001b[38;5;28;43mself\u001b[39;49m\u001b[38;5;241;43m.\u001b[39;49m\u001b[43mbuffer_rgba\u001b[49m\u001b[43m(\u001b[49m\u001b[43m)\u001b[49m\u001b[43m,\u001b[49m\u001b[43m \u001b[49m\u001b[38;5;28;43mformat\u001b[39;49m\u001b[38;5;241;43m=\u001b[39;49m\u001b[43mfmt\u001b[49m\u001b[43m,\u001b[49m\u001b[43m \u001b[49m\u001b[43morigin\u001b[49m\u001b[38;5;241;43m=\u001b[39;49m\u001b[38;5;124;43m\"\u001b[39;49m\u001b[38;5;124;43mupper\u001b[39;49m\u001b[38;5;124;43m\"\u001b[39;49m\u001b[43m,\u001b[49m\n\u001b[0;32m    447\u001b[0m \u001b[43m    \u001b[49m\u001b[43mdpi\u001b[49m\u001b[38;5;241;43m=\u001b[39;49m\u001b[38;5;28;43mself\u001b[39;49m\u001b[38;5;241;43m.\u001b[39;49m\u001b[43mfigure\u001b[49m\u001b[38;5;241;43m.\u001b[39;49m\u001b[43mdpi\u001b[49m\u001b[43m,\u001b[49m\u001b[43m \u001b[49m\u001b[43mmetadata\u001b[49m\u001b[38;5;241;43m=\u001b[39;49m\u001b[43mmetadata\u001b[49m\u001b[43m,\u001b[49m\u001b[43m \u001b[49m\u001b[43mpil_kwargs\u001b[49m\u001b[38;5;241;43m=\u001b[39;49m\u001b[43mpil_kwargs\u001b[49m\u001b[43m)\u001b[49m\n",
      "File \u001b[1;32m~\\AppData\\Local\\Programs\\Python\\Python39\\lib\\site-packages\\matplotlib\\image.py:1676\u001b[0m, in \u001b[0;36mimsave\u001b[1;34m(fname, arr, vmin, vmax, cmap, format, origin, dpi, metadata, pil_kwargs)\u001b[0m\n\u001b[0;32m   1674\u001b[0m pil_kwargs\u001b[38;5;241m.\u001b[39msetdefault(\u001b[38;5;124m\"\u001b[39m\u001b[38;5;124mformat\u001b[39m\u001b[38;5;124m\"\u001b[39m, \u001b[38;5;28mformat\u001b[39m)\n\u001b[0;32m   1675\u001b[0m pil_kwargs\u001b[38;5;241m.\u001b[39msetdefault(\u001b[38;5;124m\"\u001b[39m\u001b[38;5;124mdpi\u001b[39m\u001b[38;5;124m\"\u001b[39m, (dpi, dpi))\n\u001b[1;32m-> 1676\u001b[0m image\u001b[38;5;241m.\u001b[39msave(fname, \u001b[38;5;241m*\u001b[39m\u001b[38;5;241m*\u001b[39mpil_kwargs)\n",
      "File \u001b[1;32m~\\AppData\\Local\\Programs\\Python\\Python39\\lib\\site-packages\\PIL\\Image.py:2436\u001b[0m, in \u001b[0;36mImage.save\u001b[1;34m(self, fp, format, **params)\u001b[0m\n\u001b[0;32m   2434\u001b[0m         fp \u001b[38;5;241m=\u001b[39m builtins\u001b[38;5;241m.\u001b[39mopen(filename, \u001b[38;5;124m\"\u001b[39m\u001b[38;5;124mr+b\u001b[39m\u001b[38;5;124m\"\u001b[39m)\n\u001b[0;32m   2435\u001b[0m     \u001b[38;5;28;01melse\u001b[39;00m:\n\u001b[1;32m-> 2436\u001b[0m         fp \u001b[38;5;241m=\u001b[39m \u001b[43mbuiltins\u001b[49m\u001b[38;5;241;43m.\u001b[39;49m\u001b[43mopen\u001b[49m\u001b[43m(\u001b[49m\u001b[43mfilename\u001b[49m\u001b[43m,\u001b[49m\u001b[43m \u001b[49m\u001b[38;5;124;43m\"\u001b[39;49m\u001b[38;5;124;43mw+b\u001b[39;49m\u001b[38;5;124;43m\"\u001b[39;49m\u001b[43m)\u001b[49m\n\u001b[0;32m   2438\u001b[0m \u001b[38;5;28;01mtry\u001b[39;00m:\n\u001b[0;32m   2439\u001b[0m     save_handler(\u001b[38;5;28mself\u001b[39m, fp, filename)\n",
      "\u001b[1;31mFileNotFoundError\u001b[0m: [Errno 2] No such file or directory: 'output/fedvg.png'"
     ]
    },
    {
     "data": {
      "image/png": "[encoded data removed]",
      "text/plain": [
       "<Figure size 650x420 with 1 Axes>"
      ]
     },
     "metadata": {},
     "output_type": "display_data"
    }
   ],
   "source": [
    "# Similarity visulization\n",
    "# Generate sample similarity data for four classes (each with 20 values in the range 0 to 1)\n",
    "e_class1_sims = e_class0_sims\n",
    "e_class2_sims = e_class1_sims\n",
    "e_class3_sims = e_class2_sims\n",
    "e_class4_sims = e_class3_sims\n",
    "\n",
    "# Set figure size\n",
    "plt.figure(figsize=(6.5, 4.2))  # Set the size of the figure (width, height)\n",
    "\n",
    "# Sample DataFrame with four columns\n",
    "data=pd.DataFrame({'Class 1':e_class1_sims,'Class 2':e_class2_sims,'Class 3':e_class3_sims,'Class 4':class4_sim})\n",
    "df = pd.DataFrame(data)\n",
    "\n",
    "# Plot the probability distributions\n",
    "#plt.figure(figsize=(10, 6))\n",
    "\n",
    "# Define colors and line styles for each column\n",
    "colors = ['#1f77b4', '#ff7f0e', '#2ca02c', '#d62728']\n",
    "linestyles = ['-.', '--', '-', '-']\n",
    "\n",
    "# Plot the probability distributions with unique colors and line styles\n",
    "for column, color, linestyle in zip(df.columns, colors, linestyles):\n",
    "    sns.kdeplot(df[column], label=column, color=color, linestyle=linestyle)\n",
    "\n",
    "#plt.title('Probability Distributions of Four Columns')\n",
    "plt.xlabel('Similarity',fontsize=12)\n",
    "plt.ylabel('Density',fontsize=12)\n",
    "plt.yticks(fontsize=12)  # Set y-tick labels font size\n",
    "plt.legend(loc='upper right',fontsize=12)  # Increase legend font size\n",
    "\n",
    "# Optimize layout\n",
    "plt.tight_layout()\n",
    "# Save the plot to a file\n",
    "plt.savefig('output/fedvg.png', dpi=300, bbox_inches='tight')  # Save as a PNG file with high resolution\n",
    "\n",
    "# Show the plot\n",
    "plt.show()\n"
   ]
  },
  {
   "cell_type": "code",
   "execution_count": null,
   "id": "d94f544e-e05b-411f-8daa-a9c8653e8a35",
   "metadata": {},
   "outputs": [],
   "source": []
  }
 ],
 "metadata": {
  "kernelspec": {
   "display_name": "Python 3 (ipykernel)",
   "language": "python",
   "name": "python3"
  },
  "language_info": {
   "codemirror_mode": {
    "name": "ipython",
    "version": 3
   },
   "file_extension": ".py",
   "mimetype": "text/x-python",
   "name": "python",
   "nbconvert_exporter": "python",
   "pygments_lexer": "ipython3",
   "version": "3.9.7"
  }
 },
 "nbformat": 4,
 "nbformat_minor": 5
}
