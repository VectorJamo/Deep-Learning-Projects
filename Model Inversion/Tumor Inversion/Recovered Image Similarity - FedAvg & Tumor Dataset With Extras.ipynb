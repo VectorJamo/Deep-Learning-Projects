{
 "cells": [
  {
   "cell_type": "code",
   "execution_count": 1,
   "id": "646b38c2-386a-4f83-a983-ea764ad8267f",
   "metadata": {},
   "outputs": [],
   "source": [
    "# Attempting to recover training data using model's parameters and a DCGAN that was trained on similar data\n",
    "# Author: Suraj Neupane\n",
    "# Written from scratch as a part of a Research Project 2025, Concordia University of Edmonton.\n",
    "import numpy as np\n",
    "\n",
    "import torch\n",
    "from torch import nn\n",
    "from torch.nn import functional\n",
    "\n",
    "from torch.utils import data\n",
    "from torch.utils.data import DataLoader\n",
    "\n",
    "import torchvision\n",
    "from torchvision import datasets\n",
    "from torchvision import transforms\n",
    "\n",
    "import pickle\n",
    "\n",
    "import matplotlib.pyplot as plt\n",
    "%matplotlib inline"
   ]
  },
  {
   "cell_type": "code",
   "execution_count": 2,
   "id": "8b80ddb2-ed75-4870-85b4-9300fce0df7e",
   "metadata": {},
   "outputs": [
    {
     "data": {
      "text/plain": [
       "'2.5.1+cu118'"
      ]
     },
     "execution_count": 2,
     "metadata": {},
     "output_type": "execute_result"
    }
   ],
   "source": [
    "torch.__version__"
   ]
  },
  {
   "cell_type": "code",
   "execution_count": 3,
   "id": "d6950585-eb31-4f61-bd60-5bf8716fcdef",
   "metadata": {},
   "outputs": [],
   "source": [
    "device = 'cuda' if torch.cuda.is_available() else 'cpu'"
   ]
  },
  {
   "cell_type": "code",
   "execution_count": 4,
   "id": "36c47e07-6b7d-4123-a59d-5d465f9ef280",
   "metadata": {},
   "outputs": [
    {
     "data": {
      "text/plain": [
       "'cuda'"
      ]
     },
     "execution_count": 4,
     "metadata": {},
     "output_type": "execute_result"
    }
   ],
   "source": [
    "device"
   ]
  },
  {
   "cell_type": "code",
   "execution_count": 5,
   "id": "b852ca55-f33e-469f-b7b9-e00d21124927",
   "metadata": {},
   "outputs": [],
   "source": [
    "# DCGAN Implementation Class\n",
    "# Discriminator\n",
    "class Discriminator(nn.Module):\n",
    "    def __init__(self, img_channels, features_d):\n",
    "        super().__init__()\n",
    "        self.disc = nn.Sequential(\n",
    "            # Input shape: img_channels x 64 x 64\n",
    "            nn.Conv2d(\n",
    "              in_channels=img_channels, out_channels=features_d, kernel_size=4, stride=2, padding=1\n",
    "            ), # Output shape: features_d x 32 x 32\n",
    "            nn.LeakyReLU(0.2),\n",
    "            self._block(features_d, features_d*2, 4, 2, 1), # Output shape: features_d*2 x 16 x 16\n",
    "            self._block(features_d*2, features_d*4, 4, 2, 1), # Output shape: features_d*4 x 8 x 8\n",
    "            self._block(features_d*4, features_d*8, 4, 2, 1), # Output shape: features_d*8 x 4 x 4\n",
    "           \n",
    "            nn.Conv2d(in_channels=features_d*8, out_channels=1, kernel_size=4, stride=2, padding=0), # Output shape: 1 x 1\n",
    "            nn.Sigmoid(),\n",
    "        )\n",
    "\n",
    "    def _block(self, in_channels, out_channels, kernel_size, stride, padding):\n",
    "        return nn.Sequential(\n",
    "            nn.Conv2d(in_channels, out_channels, kernel_size, stride, padding, bias=False),\n",
    "            nn.BatchNorm2d(out_channels),\n",
    "            nn.LeakyReLU(0.2),\n",
    "        )\n",
    "\n",
    "    def forward(self, X):\n",
    "        return self.disc(X)\n"
   ]
  },
  {
   "cell_type": "code",
   "execution_count": 6,
   "id": "5afe02e5-61d3-4f25-8933-8484e519cd4a",
   "metadata": {},
   "outputs": [],
   "source": [
    "# Generator\n",
    "class Generator(nn.Module):\n",
    "    def __init__(self, z_dim, img_channels, features_g):\n",
    "        super().__init__()\n",
    "        self.gen = nn.Sequential(\n",
    "            self._block(z_dim, features_g*16, 4, 1, 0), # z_dim: (batch_size, 100, 1, 1) -> (batch_size, 1024, 4, 4)\n",
    "            self._block(features_g*16, features_g*8, 4, 2, 1), # z_dim: (batch_size, 1024, 4, 4) -> (batch_size, 512, 8, 8)\n",
    "            self._block(features_g*8, features_g*4, 4, 2, 1), # z_dim: (batch_size, 512, 8, 8) -> (batch_size, 256, 16, 16)\n",
    "            self._block(features_g*4, features_g*2, 4, 2, 1), # z_dim: (batch_size, 128, 16, 16) -> (batch_size, 64, 32, 32)\n",
    "            nn.ConvTranspose2d(\n",
    "                in_channels=features_g*2, out_channels=img_channels, kernel_size=4, stride=2, padding=1 # z_dim: (batch_size, 64, 32, 32) -> (batch_size, 1, 64, 64)\n",
    "            ),\n",
    "            nn.Tanh(),\n",
    "        )\n",
    "        \n",
    "    def _block(self, in_channels, out_channels, kernel_size, stride, padding):\n",
    "        return nn.Sequential(\n",
    "            nn.ConvTranspose2d(\n",
    "                in_channels, out_channels, kernel_size, stride, padding, bias=False,\n",
    "            ),\n",
    "            nn.InstanceNorm2d(out_channels, affine=True),\n",
    "            nn.ReLU(),\n",
    "        )\n",
    "\n",
    "    def forward(self, X):\n",
    "        return self.gen(X)"
   ]
  },
  {
   "cell_type": "code",
   "execution_count": 7,
   "id": "48c1be35-d58a-4d0c-990d-9250fbdbf1b3",
   "metadata": {},
   "outputs": [],
   "source": [
    "# Hyperparams\n",
    "z_dim = 100\n",
    "img_channels = 1\n",
    "features_disc = 64\n",
    "features_gen = 64"
   ]
  },
  {
   "cell_type": "code",
   "execution_count": 8,
   "id": "f2dc1f40-5c2e-4903-b2e7-7abe5cae9772",
   "metadata": {},
   "outputs": [],
   "source": [
    "# Create the model instances\n",
    "gen = Generator(z_dim, img_channels, features_gen).to(device)\n",
    "disc = Discriminator(img_channels, features_disc).to(device)"
   ]
  },
  {
   "cell_type": "code",
   "execution_count": 9,
   "id": "bc7a5deb-f8d8-41d4-aed3-d012d39a84b9",
   "metadata": {},
   "outputs": [
    {
     "data": {
      "text/plain": [
       "<All keys matched successfully>"
      ]
     },
     "execution_count": 9,
     "metadata": {},
     "output_type": "execute_result"
    }
   ],
   "source": [
    "# Load the trained GAN\n",
    "gen.load_state_dict(torch.load('saved models/Generator2.pth', weights_only=True))\n",
    "disc.load_state_dict(torch.load('saved models/Discriminator2.pth', weights_only=True))"
   ]
  },
  {
   "cell_type": "code",
   "execution_count": 10,
   "id": "a504e932-e168-4bb8-88cc-eea0810aafb0",
   "metadata": {},
   "outputs": [],
   "source": [
    "# Generate a random fake image\n",
    "noise = torch.randn(1, z_dim, 1, 1).to(device)\n",
    "fake_img = gen(noise)"
   ]
  },
  {
   "cell_type": "code",
   "execution_count": 11,
   "id": "98b5d73f-b130-4bc1-a868-c225bd2abe62",
   "metadata": {},
   "outputs": [
    {
     "data": {
      "text/plain": [
       "torch.Size([1, 1, 64, 64])"
      ]
     },
     "execution_count": 11,
     "metadata": {},
     "output_type": "execute_result"
    }
   ],
   "source": [
    "fake_img.shape"
   ]
  },
  {
   "cell_type": "code",
   "execution_count": 12,
   "id": "9d19338c-18e4-4b6e-842f-a225718fa8bb",
   "metadata": {},
   "outputs": [
    {
     "name": "stdout",
     "output_type": "stream",
     "text": [
      "torch.Size([64, 64])\n"
     ]
    },
    {
     "data": {
      "text/plain": [
       "<matplotlib.image.AxesImage at 0x1cb3d18a970>"
      ]
     },
     "execution_count": 12,
     "metadata": {},
     "output_type": "execute_result"
    },
    {
     "data": {
      "image/png": "[encoded data removed]",
      "text/plain": [
       "<Figure size 640x480 with 1 Axes>"
      ]
     },
     "metadata": {},
     "output_type": "display_data"
    }
   ],
   "source": [
    "fake_img = fake_img.squeeze()\n",
    "print(fake_img.shape)\n",
    "plt.axis(False)\n",
    "plt.title('Fake Generated Image:')\n",
    "plt.imshow(fake_img.cpu().detach(), cmap='gray')"
   ]
  },
  {
   "cell_type": "code",
   "execution_count": 13,
   "id": "cf2aefac-a759-4335-a3de-2065d6a6a9a5",
   "metadata": {},
   "outputs": [],
   "source": [
    "# Target Model\n",
    "class TFCNN(nn.Module):\n",
    "    def __init__(self, n_classes):\n",
    "        super().__init__()\n",
    "        self.n_classes = n_classes\n",
    "\n",
    "        self.encoder = nn.Sequential(\n",
    "            nn.Conv2d(3, 32, 3, stride=1, padding=1),\n",
    "            nn.ReLU(True),\n",
    "            nn.MaxPool2d(2),\n",
    "            nn.Conv2d(32, 64, 3, stride=1, padding=1),\n",
    "            nn.ReLU(True),\n",
    "            nn.MaxPool2d(2),\n",
    "            nn.Conv2d(64, 64, 3, stride=1, padding=1),\n",
    "            nn.ReLU(True),\n",
    "            nn.MaxPool2d(2),\n",
    "            Reshape(),\n",
    "        )\n",
    "\n",
    "        self.h_size = 64 * 4 * 4\n",
    "\n",
    "        self.classifier = nn.Sequential(\n",
    "            nn.Linear(64 * 4 * 4, 128),\n",
    "            nn.ReLU(True),\n",
    "            nn.Linear(128, n_classes)\n",
    "        )\n",
    "\n",
    "    def forward(self, xs):\n",
    "        code = self.encoder(xs)\n",
    "        logits = self.classifier(code)\n",
    "        return code, logits\n"
   ]
  },
  {
   "cell_type": "code",
   "execution_count": 14,
   "id": "d28876e2-91ee-4ebf-bc52-b71dc82edfa2",
   "metadata": {},
   "outputs": [],
   "source": [
    "class Reshape(nn.Module):\n",
    "    def __init__(self,):\n",
    "        super().__init__()\n",
    "\n",
    "    def forward(self, xs):\n",
    "        return xs.reshape((xs.shape[0], -1))"
   ]
  },
  {
   "cell_type": "code",
   "execution_count": 15,
   "id": "dd57210c-2c18-4651-8f29-be94a7a7a88f",
   "metadata": {},
   "outputs": [],
   "source": [
    "class ClassifyNet(nn.Module):\n",
    "    def __init__(self, net, init_way, n_classes, input_size=None):\n",
    "        super().__init__()\n",
    "        self.net = net\n",
    "        self.init_way = init_way\n",
    "        self.n_classes = n_classes\n",
    "\n",
    "        model = TFCNN(n_classes)\n",
    "\n",
    "        self.h_size = model.h_size\n",
    "\n",
    "        # Convo and pool layers\n",
    "        self.encoder = model.encoder\n",
    "\n",
    "        # Classifier layer\n",
    "        self.classifier = nn.Linear(\n",
    "            self.h_size, self.n_classes, bias=False\n",
    "        )\n",
    "\n",
    "        if self.init_way == \"orth\":\n",
    "            ws = get_orth_weights(self.h_size, self.n_classes)\n",
    "            self.classifier.load_state_dict({\"weight\": ws})\n",
    "\n",
    "    def forward(self, xs):\n",
    "        hs = self.encoder(xs)\n",
    "        logits = self.classifier(hs)\n",
    "        return hs, logits"
   ]
  },
  {
   "cell_type": "code",
   "execution_count": 16,
   "id": "83ea3c08-0470-4c9a-ba15-8328a316b3ab",
   "metadata": {},
   "outputs": [],
   "source": [
    "def load_target_model(base_net, n_classes, path):\n",
    "    # Create the base model\n",
    "    model = ClassifyNet(net=base_net, init_way='none', n_classes=n_classes)\n",
    "    # Load the model\n",
    "    model.load_state_dict(torch.load(path, weights_only=True))\n",
    "\n",
    "    return model"
   ]
  },
  {
   "cell_type": "code",
   "execution_count": 17,
   "id": "0880f1aa-9d08-445a-85ac-f1ff3cebde04",
   "metadata": {},
   "outputs": [
    {
     "name": "stdout",
     "output_type": "stream",
     "text": [
      "Model loaded successfully!\n",
      "Number of parameters in the loaded model: 60416\n"
     ]
    }
   ],
   "source": [
    "# Target Model Loading\n",
    "BASE_NET = 'TFCNN'\n",
    "DATASET = 'tumor4'\n",
    "N_CLASSES = 4\n",
    "\n",
    "target_model = load_target_model(base_net=BASE_NET, n_classes=N_CLASSES, path='saved models/fedavg_global_model.pth').to(device)\n",
    "print('Model loaded successfully!')\n",
    "target_model.eval()\n",
    "\n",
    "num_params = sum(p.numel() for p in target_model.parameters())\n",
    "print('Number of parameters in the loaded model:', num_params)\n"
   ]
  },
  {
   "cell_type": "code",
   "execution_count": 18,
   "id": "f843f19e-b2a5-4ffe-b22b-de4ff93c5643",
   "metadata": {},
   "outputs": [],
   "source": [
    "# BEGIN BATCH MODEL INVERSION\n",
    "img_count = 20\n",
    "latent_vectors = torch.randn(img_count, z_dim, 1, 1, requires_grad=True) # Start with 20 random noises"
   ]
  },
  {
   "cell_type": "code",
   "execution_count": 19,
   "id": "c21320ed-d5ac-4919-aaad-8cfa093998a6",
   "metadata": {},
   "outputs": [],
   "source": [
    "def recover_images(count, target_image_class, latent_vectors):\n",
    "    optimized_latent_vectors = []\n",
    "    \n",
    "    for x in range(0, count):\n",
    "        z = latent_vectors[x].unsqueeze(dim=0).clone().detach().requires_grad_(True)\n",
    "        \n",
    "        learning_rate = 0.01\n",
    "        target_class = 1 # The second class\n",
    "        \n",
    "        # Create the optimizer\n",
    "        optimizer = torch.optim.Adam([z], lr=learning_rate)\n",
    "        \n",
    "        # Loss function (e.g., Cross-Entropy with classifier outputs)\n",
    "        loss_fn = nn.CrossEntropyLoss()\n",
    "        target_class = torch.tensor([target_image_class])  # Set the target class\n",
    "    \n",
    "        # Optimization loop to find the best z\n",
    "        rounds = 500\n",
    "        for i in range(rounds):\n",
    "            optimizer.zero_grad()\n",
    "            \n",
    "            generated_image = gen(z.to(device))  # Generate an image from the latent vector\n",
    "            generated_image = generated_image.repeat(1, 3, 1, 1)\n",
    "            generated_image = functional.interpolate(generated_image, size=(32, 32), mode='nearest')\n",
    "            #print(generated_image.shape)\n",
    "            hs, prediction_logits = target_model(generated_image)  # Classifier output\n",
    "            #print(prediction_logits)\n",
    "            #print(type(prediction_logits))\n",
    "            loss = loss_fn(prediction_logits, target_class.to(device))  # Minimize difference with true class\n",
    "            loss.backward()\n",
    "            optimizer.step()\n",
    "            \n",
    "            if i % 50 == 0:\n",
    "                print(f\"Generating Image Number: {x+1} for target class {target_class}. Step {i}, Loss: {loss.item()}\")\n",
    "    \n",
    "        optimized_latent_vectors.append(z)\n",
    "        \n",
    "    return optimized_latent_vectors"
   ]
  },
  {
   "cell_type": "code",
   "execution_count": 20,
   "id": "9ebc9533-23ca-4d44-8aea-9d134281b3a4",
   "metadata": {
    "scrolled": true
   },
   "outputs": [
    {
     "name": "stdout",
     "output_type": "stream",
     "text": [
      "Generating Image Number: 1 for target class tensor([0]). Step 0, Loss: 0.17901374399662018\n",
      "Generating Image Number: 1 for target class tensor([0]). Step 50, Loss: 0.1001744419336319\n",
      "Generating Image Number: 1 for target class tensor([0]). Step 100, Loss: 0.08716295659542084\n",
      "Generating Image Number: 1 for target class tensor([0]). Step 150, Loss: 0.0773240476846695\n",
      "Generating Image Number: 1 for target class tensor([0]). Step 200, Loss: 0.06936738640069962\n",
      "Generating Image Number: 1 for target class tensor([0]). Step 250, Loss: 0.06419921666383743\n",
      "Generating Image Number: 1 for target class tensor([0]). Step 300, Loss: 0.05941788852214813\n",
      "Generating Image Number: 1 for target class tensor([0]). Step 350, Loss: 0.05535850301384926\n",
      "Generating Image Number: 1 for target class tensor([0]). Step 400, Loss: 0.052848611027002335\n",
      "Generating Image Number: 1 for target class tensor([0]). Step 450, Loss: 0.050859492272138596\n",
      "Generating Image Number: 2 for target class tensor([0]). Step 0, Loss: 2.51181697845459\n",
      "Generating Image Number: 2 for target class tensor([0]). Step 50, Loss: 0.21838811039924622\n",
      "Generating Image Number: 2 for target class tensor([0]). Step 100, Loss: 0.1856173574924469\n",
      "Generating Image Number: 2 for target class tensor([0]). Step 150, Loss: 0.1677931398153305\n",
      "Generating Image Number: 2 for target class tensor([0]). Step 200, Loss: 0.1549246609210968\n",
      "Generating Image Number: 2 for target class tensor([0]). Step 250, Loss: 0.1440119743347168\n",
      "Generating Image Number: 2 for target class tensor([0]). Step 300, Loss: 0.13376078009605408\n",
      "Generating Image Number: 2 for target class tensor([0]). Step 350, Loss: 0.12398932129144669\n",
      "Generating Image Number: 2 for target class tensor([0]). Step 400, Loss: 0.11440780013799667\n",
      "Generating Image Number: 2 for target class tensor([0]). Step 450, Loss: 0.10570618510246277\n",
      "Generating Image Number: 3 for target class tensor([0]). Step 0, Loss: 0.2979462742805481\n",
      "Generating Image Number: 3 for target class tensor([0]). Step 50, Loss: 0.1340733766555786\n",
      "Generating Image Number: 3 for target class tensor([0]). Step 100, Loss: 0.09744999557733536\n",
      "Generating Image Number: 3 for target class tensor([0]). Step 150, Loss: 0.07363303005695343\n",
      "Generating Image Number: 3 for target class tensor([0]). Step 200, Loss: 0.06445933133363724\n",
      "Generating Image Number: 3 for target class tensor([0]). Step 250, Loss: 0.05877143144607544\n",
      "Generating Image Number: 3 for target class tensor([0]). Step 300, Loss: 0.054598014801740646\n",
      "Generating Image Number: 3 for target class tensor([0]). Step 350, Loss: 0.05147213488817215\n",
      "Generating Image Number: 3 for target class tensor([0]). Step 400, Loss: 0.04944464564323425\n",
      "Generating Image Number: 3 for target class tensor([0]). Step 450, Loss: 0.046523597091436386\n",
      "Generating Image Number: 4 for target class tensor([0]). Step 0, Loss: 4.151258945465088\n",
      "Generating Image Number: 4 for target class tensor([0]). Step 50, Loss: 0.33760756254196167\n",
      "Generating Image Number: 4 for target class tensor([0]). Step 100, Loss: 0.27018558979034424\n",
      "Generating Image Number: 4 for target class tensor([0]). Step 150, Loss: 0.20787851512432098\n",
      "Generating Image Number: 4 for target class tensor([0]). Step 200, Loss: 0.1830819696187973\n",
      "Generating Image Number: 4 for target class tensor([0]). Step 250, Loss: 0.16623474657535553\n",
      "Generating Image Number: 4 for target class tensor([0]). Step 300, Loss: 0.15335547924041748\n",
      "Generating Image Number: 4 for target class tensor([0]). Step 350, Loss: 0.14467225968837738\n",
      "Generating Image Number: 4 for target class tensor([0]). Step 400, Loss: 0.13658612966537476\n",
      "Generating Image Number: 4 for target class tensor([0]). Step 450, Loss: 0.12919838726520538\n",
      "Generating Image Number: 5 for target class tensor([0]). Step 0, Loss: 1.2123591899871826\n",
      "Generating Image Number: 5 for target class tensor([0]). Step 50, Loss: 0.14977537095546722\n",
      "Generating Image Number: 5 for target class tensor([0]). Step 100, Loss: 0.1218770295381546\n",
      "Generating Image Number: 5 for target class tensor([0]). Step 150, Loss: 0.10674341022968292\n",
      "Generating Image Number: 5 for target class tensor([0]). Step 200, Loss: 0.09596899151802063\n",
      "Generating Image Number: 5 for target class tensor([0]). Step 250, Loss: 0.08979067206382751\n",
      "Generating Image Number: 5 for target class tensor([0]). Step 300, Loss: 0.08583185076713562\n",
      "Generating Image Number: 5 for target class tensor([0]). Step 350, Loss: 0.08296090364456177\n",
      "Generating Image Number: 5 for target class tensor([0]). Step 400, Loss: 0.08033177256584167\n",
      "Generating Image Number: 5 for target class tensor([0]). Step 450, Loss: 0.07837580144405365\n",
      "Generating Image Number: 6 for target class tensor([0]). Step 0, Loss: 5.813188076019287\n",
      "Generating Image Number: 6 for target class tensor([0]). Step 50, Loss: 0.5617335438728333\n",
      "Generating Image Number: 6 for target class tensor([0]). Step 100, Loss: 0.5133633613586426\n",
      "Generating Image Number: 6 for target class tensor([0]). Step 150, Loss: 0.4473484754562378\n",
      "Generating Image Number: 6 for target class tensor([0]). Step 200, Loss: 0.38075143098831177\n",
      "Generating Image Number: 6 for target class tensor([0]). Step 250, Loss: 0.34938058257102966\n",
      "Generating Image Number: 6 for target class tensor([0]). Step 300, Loss: 0.3230799436569214\n",
      "Generating Image Number: 6 for target class tensor([0]). Step 350, Loss: 0.2958531379699707\n",
      "Generating Image Number: 6 for target class tensor([0]). Step 400, Loss: 0.2729909121990204\n",
      "Generating Image Number: 6 for target class tensor([0]). Step 450, Loss: 0.25540152192115784\n",
      "Generating Image Number: 7 for target class tensor([0]). Step 0, Loss: 0.8601583242416382\n",
      "Generating Image Number: 7 for target class tensor([0]). Step 50, Loss: 0.1313415914773941\n",
      "Generating Image Number: 7 for target class tensor([0]). Step 100, Loss: 0.10883067548274994\n",
      "Generating Image Number: 7 for target class tensor([0]). Step 150, Loss: 0.09865924715995789\n",
      "Generating Image Number: 7 for target class tensor([0]). Step 200, Loss: 0.09178156405687332\n",
      "Generating Image Number: 7 for target class tensor([0]). Step 250, Loss: 0.08657639473676682\n",
      "Generating Image Number: 7 for target class tensor([0]). Step 300, Loss: 0.08237231522798538\n",
      "Generating Image Number: 7 for target class tensor([0]). Step 350, Loss: 0.07824099063873291\n",
      "Generating Image Number: 7 for target class tensor([0]). Step 400, Loss: 0.07459628582000732\n",
      "Generating Image Number: 7 for target class tensor([0]). Step 450, Loss: 0.07170284539461136\n",
      "Generating Image Number: 8 for target class tensor([0]). Step 0, Loss: 0.9151959419250488\n",
      "Generating Image Number: 8 for target class tensor([0]). Step 50, Loss: 0.12964949011802673\n",
      "Generating Image Number: 8 for target class tensor([0]). Step 100, Loss: 0.10441382974386215\n",
      "Generating Image Number: 8 for target class tensor([0]). Step 150, Loss: 0.09291252493858337\n",
      "Generating Image Number: 8 for target class tensor([0]). Step 200, Loss: 0.08634690195322037\n",
      "Generating Image Number: 8 for target class tensor([0]). Step 250, Loss: 0.08153914660215378\n",
      "Generating Image Number: 8 for target class tensor([0]). Step 300, Loss: 0.07799898833036423\n",
      "Generating Image Number: 8 for target class tensor([0]). Step 350, Loss: 0.07409872114658356\n",
      "Generating Image Number: 8 for target class tensor([0]). Step 400, Loss: 0.07196634262800217\n",
      "Generating Image Number: 8 for target class tensor([0]). Step 450, Loss: 0.06960514932870865\n",
      "Generating Image Number: 9 for target class tensor([0]). Step 0, Loss: 0.664341151714325\n",
      "Generating Image Number: 9 for target class tensor([0]). Step 50, Loss: 0.11775993555784225\n",
      "Generating Image Number: 9 for target class tensor([0]). Step 100, Loss: 0.10737458616495132\n",
      "Generating Image Number: 9 for target class tensor([0]). Step 150, Loss: 0.10064874589443207\n",
      "Generating Image Number: 9 for target class tensor([0]). Step 200, Loss: 0.09507056325674057\n",
      "Generating Image Number: 9 for target class tensor([0]). Step 250, Loss: 0.09122665226459503\n",
      "Generating Image Number: 9 for target class tensor([0]). Step 300, Loss: 0.0876237079501152\n",
      "Generating Image Number: 9 for target class tensor([0]). Step 350, Loss: 0.08435369282960892\n",
      "Generating Image Number: 9 for target class tensor([0]). Step 400, Loss: 0.08093036711215973\n",
      "Generating Image Number: 9 for target class tensor([0]). Step 450, Loss: 0.07770321518182755\n",
      "Generating Image Number: 10 for target class tensor([0]). Step 0, Loss: 4.06575870513916\n",
      "Generating Image Number: 10 for target class tensor([0]). Step 50, Loss: 0.9845847487449646\n",
      "Generating Image Number: 10 for target class tensor([0]). Step 100, Loss: 0.9349731802940369\n",
      "Generating Image Number: 10 for target class tensor([0]). Step 150, Loss: 0.9048390984535217\n",
      "Generating Image Number: 10 for target class tensor([0]). Step 200, Loss: 0.8882704973220825\n",
      "Generating Image Number: 10 for target class tensor([0]). Step 250, Loss: 0.8746404647827148\n",
      "Generating Image Number: 10 for target class tensor([0]). Step 300, Loss: 0.8641906976699829\n",
      "Generating Image Number: 10 for target class tensor([0]). Step 350, Loss: 0.8544528484344482\n",
      "Generating Image Number: 10 for target class tensor([0]). Step 400, Loss: 0.8465192317962646\n",
      "Generating Image Number: 10 for target class tensor([0]). Step 450, Loss: 0.8390509486198425\n",
      "Generating Image Number: 11 for target class tensor([0]). Step 0, Loss: 1.9870078563690186\n",
      "Generating Image Number: 11 for target class tensor([0]). Step 50, Loss: 0.8969606757164001\n",
      "Generating Image Number: 11 for target class tensor([0]). Step 100, Loss: 0.829636812210083\n",
      "Generating Image Number: 11 for target class tensor([0]). Step 150, Loss: 0.7920148372650146\n",
      "Generating Image Number: 11 for target class tensor([0]). Step 200, Loss: 0.7610213160514832\n",
      "Generating Image Number: 11 for target class tensor([0]). Step 250, Loss: 0.7425087690353394\n",
      "Generating Image Number: 11 for target class tensor([0]). Step 300, Loss: 0.7287591695785522\n",
      "Generating Image Number: 11 for target class tensor([0]). Step 350, Loss: 0.7163922786712646\n",
      "Generating Image Number: 11 for target class tensor([0]). Step 400, Loss: 0.7046588659286499\n",
      "Generating Image Number: 11 for target class tensor([0]). Step 450, Loss: 0.6946103572845459\n",
      "Generating Image Number: 12 for target class tensor([0]). Step 0, Loss: 1.679844856262207\n",
      "Generating Image Number: 12 for target class tensor([0]). Step 50, Loss: 0.11455153673887253\n",
      "Generating Image Number: 12 for target class tensor([0]). Step 100, Loss: 0.10867563635110855\n",
      "Generating Image Number: 12 for target class tensor([0]). Step 150, Loss: 0.10342008620500565\n",
      "Generating Image Number: 12 for target class tensor([0]). Step 200, Loss: 0.09858287870883942\n",
      "Generating Image Number: 12 for target class tensor([0]). Step 250, Loss: 0.09494210034608841\n",
      "Generating Image Number: 12 for target class tensor([0]). Step 300, Loss: 0.09144480526447296\n",
      "Generating Image Number: 12 for target class tensor([0]). Step 350, Loss: 0.08702408522367477\n",
      "Generating Image Number: 12 for target class tensor([0]). Step 400, Loss: 0.0830889418721199\n",
      "Generating Image Number: 12 for target class tensor([0]). Step 450, Loss: 0.08008445054292679\n",
      "Generating Image Number: 13 for target class tensor([0]). Step 0, Loss: 0.36947715282440186\n",
      "Generating Image Number: 13 for target class tensor([0]). Step 50, Loss: 0.2548004686832428\n",
      "Generating Image Number: 13 for target class tensor([0]). Step 100, Loss: 0.19625824689865112\n",
      "Generating Image Number: 13 for target class tensor([0]). Step 150, Loss: 0.15227685868740082\n",
      "Generating Image Number: 13 for target class tensor([0]). Step 200, Loss: 0.13196036219596863\n",
      "Generating Image Number: 13 for target class tensor([0]). Step 250, Loss: 0.12108343839645386\n",
      "Generating Image Number: 13 for target class tensor([0]). Step 300, Loss: 0.11199776828289032\n",
      "Generating Image Number: 13 for target class tensor([0]). Step 350, Loss: 0.10490749031305313\n",
      "Generating Image Number: 13 for target class tensor([0]). Step 400, Loss: 0.09974652528762817\n",
      "Generating Image Number: 13 for target class tensor([0]). Step 450, Loss: 0.09530933201313019\n",
      "Generating Image Number: 14 for target class tensor([0]). Step 0, Loss: 2.559107542037964\n",
      "Generating Image Number: 14 for target class tensor([0]). Step 50, Loss: 0.4725746512413025\n",
      "Generating Image Number: 14 for target class tensor([0]). Step 100, Loss: 0.41074222326278687\n",
      "Generating Image Number: 14 for target class tensor([0]). Step 150, Loss: 0.369357168674469\n",
      "Generating Image Number: 14 for target class tensor([0]). Step 200, Loss: 0.3393195569515228\n",
      "Generating Image Number: 14 for target class tensor([0]). Step 250, Loss: 0.31078407168388367\n",
      "Generating Image Number: 14 for target class tensor([0]). Step 300, Loss: 0.28366854786872864\n",
      "Generating Image Number: 14 for target class tensor([0]). Step 350, Loss: 0.25901415944099426\n",
      "Generating Image Number: 14 for target class tensor([0]). Step 400, Loss: 0.2326042205095291\n",
      "Generating Image Number: 14 for target class tensor([0]). Step 450, Loss: 0.2131066620349884\n",
      "Generating Image Number: 15 for target class tensor([0]). Step 0, Loss: 1.6693987846374512\n",
      "Generating Image Number: 15 for target class tensor([0]). Step 50, Loss: 0.9356268644332886\n",
      "Generating Image Number: 15 for target class tensor([0]). Step 100, Loss: 0.8921741247177124\n",
      "Generating Image Number: 15 for target class tensor([0]). Step 150, Loss: 0.8477367162704468\n",
      "Generating Image Number: 15 for target class tensor([0]). Step 200, Loss: 0.6863852143287659\n",
      "Generating Image Number: 15 for target class tensor([0]). Step 250, Loss: 0.6078514456748962\n",
      "Generating Image Number: 15 for target class tensor([0]). Step 300, Loss: 0.5406847596168518\n",
      "Generating Image Number: 15 for target class tensor([0]). Step 350, Loss: 0.5028805136680603\n",
      "Generating Image Number: 15 for target class tensor([0]). Step 400, Loss: 0.4730655550956726\n",
      "Generating Image Number: 15 for target class tensor([0]). Step 450, Loss: 0.43339815735816956\n",
      "Generating Image Number: 16 for target class tensor([0]). Step 0, Loss: 0.4142821133136749\n",
      "Generating Image Number: 16 for target class tensor([0]). Step 50, Loss: 0.20165160298347473\n",
      "Generating Image Number: 16 for target class tensor([0]). Step 100, Loss: 0.15059462189674377\n",
      "Generating Image Number: 16 for target class tensor([0]). Step 150, Loss: 0.12675993144512177\n",
      "Generating Image Number: 16 for target class tensor([0]). Step 200, Loss: 0.10748947411775589\n",
      "Generating Image Number: 16 for target class tensor([0]). Step 250, Loss: 0.09379585832357407\n",
      "Generating Image Number: 16 for target class tensor([0]). Step 300, Loss: 0.0834609866142273\n",
      "Generating Image Number: 16 for target class tensor([0]). Step 350, Loss: 0.07583778351545334\n",
      "Generating Image Number: 16 for target class tensor([0]). Step 400, Loss: 0.0705457404255867\n",
      "Generating Image Number: 16 for target class tensor([0]). Step 450, Loss: 0.0670679360628128\n",
      "Generating Image Number: 17 for target class tensor([0]). Step 0, Loss: 0.41671401262283325\n",
      "Generating Image Number: 17 for target class tensor([0]). Step 50, Loss: 0.19852055609226227\n",
      "Generating Image Number: 17 for target class tensor([0]). Step 100, Loss: 0.16169574856758118\n",
      "Generating Image Number: 17 for target class tensor([0]). Step 150, Loss: 0.13350160419940948\n",
      "Generating Image Number: 17 for target class tensor([0]). Step 200, Loss: 0.11319499462842941\n",
      "Generating Image Number: 17 for target class tensor([0]). Step 250, Loss: 0.09885191917419434\n",
      "Generating Image Number: 17 for target class tensor([0]). Step 300, Loss: 0.08785880357027054\n",
      "Generating Image Number: 17 for target class tensor([0]). Step 350, Loss: 0.07885207235813141\n",
      "Generating Image Number: 17 for target class tensor([0]). Step 400, Loss: 0.0715552568435669\n",
      "Generating Image Number: 17 for target class tensor([0]). Step 450, Loss: 0.06468675285577774\n",
      "Generating Image Number: 18 for target class tensor([0]). Step 0, Loss: 0.5113276243209839\n",
      "Generating Image Number: 18 for target class tensor([0]). Step 50, Loss: 0.23739206790924072\n",
      "Generating Image Number: 18 for target class tensor([0]). Step 100, Loss: 0.17840476334095\n",
      "Generating Image Number: 18 for target class tensor([0]). Step 150, Loss: 0.14826767146587372\n",
      "Generating Image Number: 18 for target class tensor([0]). Step 200, Loss: 0.12726829946041107\n",
      "Generating Image Number: 18 for target class tensor([0]). Step 250, Loss: 0.11546504497528076\n",
      "Generating Image Number: 18 for target class tensor([0]). Step 300, Loss: 0.10280587524175644\n",
      "Generating Image Number: 18 for target class tensor([0]). Step 350, Loss: 0.09297498315572739\n",
      "Generating Image Number: 18 for target class tensor([0]). Step 400, Loss: 0.0856989175081253\n",
      "Generating Image Number: 18 for target class tensor([0]). Step 450, Loss: 0.08016300946474075\n",
      "Generating Image Number: 19 for target class tensor([0]). Step 0, Loss: 6.920346260070801\n",
      "Generating Image Number: 19 for target class tensor([0]). Step 50, Loss: 0.817878246307373\n",
      "Generating Image Number: 19 for target class tensor([0]). Step 100, Loss: 0.8054044246673584\n",
      "Generating Image Number: 19 for target class tensor([0]). Step 150, Loss: 0.7895750403404236\n",
      "Generating Image Number: 19 for target class tensor([0]). Step 200, Loss: 0.7698332667350769\n",
      "Generating Image Number: 19 for target class tensor([0]). Step 250, Loss: 0.7488134503364563\n",
      "Generating Image Number: 19 for target class tensor([0]). Step 300, Loss: 0.7315547466278076\n",
      "Generating Image Number: 19 for target class tensor([0]). Step 350, Loss: 0.7175358533859253\n",
      "Generating Image Number: 19 for target class tensor([0]). Step 400, Loss: 0.7053012847900391\n",
      "Generating Image Number: 19 for target class tensor([0]). Step 450, Loss: 0.6951944231987\n",
      "Generating Image Number: 20 for target class tensor([0]). Step 0, Loss: 0.7693811655044556\n",
      "Generating Image Number: 20 for target class tensor([0]). Step 50, Loss: 0.1445334106683731\n",
      "Generating Image Number: 20 for target class tensor([0]). Step 100, Loss: 0.12008710205554962\n",
      "Generating Image Number: 20 for target class tensor([0]). Step 150, Loss: 0.10409709066152573\n",
      "Generating Image Number: 20 for target class tensor([0]). Step 200, Loss: 0.09476917237043381\n",
      "Generating Image Number: 20 for target class tensor([0]). Step 250, Loss: 0.08944419026374817\n",
      "Generating Image Number: 20 for target class tensor([0]). Step 300, Loss: 0.08200205117464066\n",
      "Generating Image Number: 20 for target class tensor([0]). Step 350, Loss: 0.07705842703580856\n",
      "Generating Image Number: 20 for target class tensor([0]). Step 400, Loss: 0.07311294227838516\n",
      "Generating Image Number: 20 for target class tensor([0]). Step 450, Loss: 0.06870262324810028\n"
     ]
    }
   ],
   "source": [
    "class0_optimized_latent_vectors = recover_images(img_count, 0, latent_vectors)"
   ]
  },
  {
   "cell_type": "code",
   "execution_count": 21,
   "id": "6718334c-2bb1-42a3-bd8c-6aea38e6b59c",
   "metadata": {
    "scrolled": true
   },
   "outputs": [
    {
     "name": "stdout",
     "output_type": "stream",
     "text": [
      "Generating Image Number: 1 for target class tensor([1]). Step 0, Loss: 2.909069299697876\n",
      "Generating Image Number: 1 for target class tensor([1]). Step 50, Loss: 1.118229627609253\n",
      "Generating Image Number: 1 for target class tensor([1]). Step 100, Loss: 0.9835010766983032\n",
      "Generating Image Number: 1 for target class tensor([1]). Step 150, Loss: 0.9335413575172424\n",
      "Generating Image Number: 1 for target class tensor([1]). Step 200, Loss: 0.8949249386787415\n",
      "Generating Image Number: 1 for target class tensor([1]). Step 250, Loss: 0.8727449178695679\n",
      "Generating Image Number: 1 for target class tensor([1]). Step 300, Loss: 0.8359124660491943\n",
      "Generating Image Number: 1 for target class tensor([1]). Step 350, Loss: 0.8055368661880493\n",
      "Generating Image Number: 1 for target class tensor([1]). Step 400, Loss: 0.7590053081512451\n",
      "Generating Image Number: 1 for target class tensor([1]). Step 450, Loss: 0.7342005968093872\n",
      "Generating Image Number: 2 for target class tensor([1]). Step 0, Loss: 2.1085057258605957\n",
      "Generating Image Number: 2 for target class tensor([1]). Step 50, Loss: 1.0659265518188477\n",
      "Generating Image Number: 2 for target class tensor([1]). Step 100, Loss: 0.7431214451789856\n",
      "Generating Image Number: 2 for target class tensor([1]). Step 150, Loss: 0.5701638460159302\n",
      "Generating Image Number: 2 for target class tensor([1]). Step 200, Loss: 0.41832563281059265\n",
      "Generating Image Number: 2 for target class tensor([1]). Step 250, Loss: 0.3119003176689148\n",
      "Generating Image Number: 2 for target class tensor([1]). Step 300, Loss: 0.23579944670200348\n",
      "Generating Image Number: 2 for target class tensor([1]). Step 350, Loss: 0.15971362590789795\n",
      "Generating Image Number: 2 for target class tensor([1]). Step 400, Loss: 0.10643351078033447\n",
      "Generating Image Number: 2 for target class tensor([1]). Step 450, Loss: 0.07639621943235397\n",
      "Generating Image Number: 3 for target class tensor([1]). Step 0, Loss: 5.660854816436768\n",
      "Generating Image Number: 3 for target class tensor([1]). Step 50, Loss: 3.593764305114746\n",
      "Generating Image Number: 3 for target class tensor([1]). Step 100, Loss: 2.2562458515167236\n",
      "Generating Image Number: 3 for target class tensor([1]). Step 150, Loss: 1.3060047626495361\n",
      "Generating Image Number: 3 for target class tensor([1]). Step 200, Loss: 0.9842344522476196\n",
      "Generating Image Number: 3 for target class tensor([1]). Step 250, Loss: 0.7739083170890808\n",
      "Generating Image Number: 3 for target class tensor([1]). Step 300, Loss: 0.6407591104507446\n",
      "Generating Image Number: 3 for target class tensor([1]). Step 350, Loss: 0.5500812530517578\n",
      "Generating Image Number: 3 for target class tensor([1]). Step 400, Loss: 0.4646919071674347\n",
      "Generating Image Number: 3 for target class tensor([1]). Step 450, Loss: 0.40516117215156555\n",
      "Generating Image Number: 4 for target class tensor([1]). Step 0, Loss: 3.124004602432251\n",
      "Generating Image Number: 4 for target class tensor([1]). Step 50, Loss: 2.4504852294921875\n",
      "Generating Image Number: 4 for target class tensor([1]). Step 100, Loss: 1.9524083137512207\n",
      "Generating Image Number: 4 for target class tensor([1]). Step 150, Loss: 1.6819350719451904\n",
      "Generating Image Number: 4 for target class tensor([1]). Step 200, Loss: 1.4779224395751953\n",
      "Generating Image Number: 4 for target class tensor([1]). Step 250, Loss: 1.2617182731628418\n",
      "Generating Image Number: 4 for target class tensor([1]). Step 300, Loss: 1.0678825378417969\n",
      "Generating Image Number: 4 for target class tensor([1]). Step 350, Loss: 0.9167396426200867\n",
      "Generating Image Number: 4 for target class tensor([1]). Step 400, Loss: 0.821876049041748\n",
      "Generating Image Number: 4 for target class tensor([1]). Step 450, Loss: 0.7669894099235535\n",
      "Generating Image Number: 5 for target class tensor([1]). Step 0, Loss: 3.926680564880371\n",
      "Generating Image Number: 5 for target class tensor([1]). Step 50, Loss: 2.701625347137451\n",
      "Generating Image Number: 5 for target class tensor([1]). Step 100, Loss: 2.306288957595825\n",
      "Generating Image Number: 5 for target class tensor([1]). Step 150, Loss: 2.034871816635132\n",
      "Generating Image Number: 5 for target class tensor([1]). Step 200, Loss: 1.8030319213867188\n",
      "Generating Image Number: 5 for target class tensor([1]). Step 250, Loss: 1.6310160160064697\n",
      "Generating Image Number: 5 for target class tensor([1]). Step 300, Loss: 1.48573899269104\n",
      "Generating Image Number: 5 for target class tensor([1]). Step 350, Loss: 1.3773393630981445\n",
      "Generating Image Number: 5 for target class tensor([1]). Step 400, Loss: 1.2786673307418823\n",
      "Generating Image Number: 5 for target class tensor([1]). Step 450, Loss: 1.1976444721221924\n",
      "Generating Image Number: 6 for target class tensor([1]). Step 0, Loss: 3.688438892364502\n",
      "Generating Image Number: 6 for target class tensor([1]). Step 50, Loss: 2.8111836910247803\n",
      "Generating Image Number: 6 for target class tensor([1]). Step 100, Loss: 2.1296286582946777\n",
      "Generating Image Number: 6 for target class tensor([1]). Step 150, Loss: 1.337751865386963\n",
      "Generating Image Number: 6 for target class tensor([1]). Step 200, Loss: 0.8328269124031067\n",
      "Generating Image Number: 6 for target class tensor([1]). Step 250, Loss: 0.6493310928344727\n",
      "Generating Image Number: 6 for target class tensor([1]). Step 300, Loss: 0.5417871475219727\n",
      "Generating Image Number: 6 for target class tensor([1]). Step 350, Loss: 0.453315794467926\n",
      "Generating Image Number: 6 for target class tensor([1]). Step 400, Loss: 0.40149232745170593\n",
      "Generating Image Number: 6 for target class tensor([1]). Step 450, Loss: 0.35965457558631897\n",
      "Generating Image Number: 7 for target class tensor([1]). Step 0, Loss: 17.432477951049805\n",
      "Generating Image Number: 7 for target class tensor([1]). Step 50, Loss: 2.104705572128296\n",
      "Generating Image Number: 7 for target class tensor([1]). Step 100, Loss: 2.0335512161254883\n",
      "Generating Image Number: 7 for target class tensor([1]). Step 150, Loss: 1.9854878187179565\n",
      "Generating Image Number: 7 for target class tensor([1]). Step 200, Loss: 1.9479990005493164\n",
      "Generating Image Number: 7 for target class tensor([1]). Step 250, Loss: 1.9135490655899048\n",
      "Generating Image Number: 7 for target class tensor([1]). Step 300, Loss: 1.872582197189331\n",
      "Generating Image Number: 7 for target class tensor([1]). Step 350, Loss: 1.8234272003173828\n",
      "Generating Image Number: 7 for target class tensor([1]). Step 400, Loss: 1.7679225206375122\n",
      "Generating Image Number: 7 for target class tensor([1]). Step 450, Loss: 1.721803069114685\n",
      "Generating Image Number: 8 for target class tensor([1]). Step 0, Loss: 18.695985794067383\n",
      "Generating Image Number: 8 for target class tensor([1]). Step 50, Loss: 17.804861068725586\n",
      "Generating Image Number: 8 for target class tensor([1]). Step 100, Loss: 1.3333743810653687\n",
      "Generating Image Number: 8 for target class tensor([1]). Step 150, Loss: 0.7773075699806213\n",
      "Generating Image Number: 8 for target class tensor([1]). Step 200, Loss: 0.6296293139457703\n",
      "Generating Image Number: 8 for target class tensor([1]). Step 250, Loss: 0.4704911708831787\n",
      "Generating Image Number: 8 for target class tensor([1]). Step 300, Loss: 0.3495757281780243\n",
      "Generating Image Number: 8 for target class tensor([1]). Step 350, Loss: 0.27602142095565796\n",
      "Generating Image Number: 8 for target class tensor([1]). Step 400, Loss: 0.22722133994102478\n",
      "Generating Image Number: 8 for target class tensor([1]). Step 450, Loss: 0.19222822785377502\n",
      "Generating Image Number: 9 for target class tensor([1]). Step 0, Loss: 3.2952656745910645\n",
      "Generating Image Number: 9 for target class tensor([1]). Step 50, Loss: 1.3409230709075928\n",
      "Generating Image Number: 9 for target class tensor([1]). Step 100, Loss: 0.6624119281768799\n",
      "Generating Image Number: 9 for target class tensor([1]). Step 150, Loss: 0.4621354341506958\n",
      "Generating Image Number: 9 for target class tensor([1]). Step 200, Loss: 0.2928664982318878\n",
      "Generating Image Number: 9 for target class tensor([1]). Step 250, Loss: 0.16773104667663574\n",
      "Generating Image Number: 9 for target class tensor([1]). Step 300, Loss: 0.11568338423967361\n",
      "Generating Image Number: 9 for target class tensor([1]). Step 350, Loss: 0.09066402912139893\n",
      "Generating Image Number: 9 for target class tensor([1]). Step 400, Loss: 0.07983199506998062\n",
      "Generating Image Number: 9 for target class tensor([1]). Step 450, Loss: 0.07034365087747574\n",
      "Generating Image Number: 10 for target class tensor([1]). Step 0, Loss: 6.753643035888672\n",
      "Generating Image Number: 10 for target class tensor([1]). Step 50, Loss: 1.661740779876709\n",
      "Generating Image Number: 10 for target class tensor([1]). Step 100, Loss: 1.4643254280090332\n",
      "Generating Image Number: 10 for target class tensor([1]). Step 150, Loss: 1.2395554780960083\n",
      "Generating Image Number: 10 for target class tensor([1]). Step 200, Loss: 1.0730310678482056\n",
      "Generating Image Number: 10 for target class tensor([1]). Step 250, Loss: 0.9560752511024475\n",
      "Generating Image Number: 10 for target class tensor([1]). Step 300, Loss: 0.8529621958732605\n",
      "Generating Image Number: 10 for target class tensor([1]). Step 350, Loss: 0.784054160118103\n",
      "Generating Image Number: 10 for target class tensor([1]). Step 400, Loss: 0.7208172082901001\n",
      "Generating Image Number: 10 for target class tensor([1]). Step 450, Loss: 0.667757511138916\n",
      "Generating Image Number: 11 for target class tensor([1]). Step 0, Loss: 3.8449738025665283\n",
      "Generating Image Number: 11 for target class tensor([1]). Step 50, Loss: 1.0827445983886719\n",
      "Generating Image Number: 11 for target class tensor([1]). Step 100, Loss: 0.7387018203735352\n",
      "Generating Image Number: 11 for target class tensor([1]). Step 150, Loss: 0.6840429306030273\n",
      "Generating Image Number: 11 for target class tensor([1]). Step 200, Loss: 0.6314699053764343\n",
      "Generating Image Number: 11 for target class tensor([1]). Step 250, Loss: 0.6030221581459045\n",
      "Generating Image Number: 11 for target class tensor([1]). Step 300, Loss: 0.5829367637634277\n",
      "Generating Image Number: 11 for target class tensor([1]). Step 350, Loss: 0.5597584247589111\n",
      "Generating Image Number: 11 for target class tensor([1]). Step 400, Loss: 0.5407388806343079\n",
      "Generating Image Number: 11 for target class tensor([1]). Step 450, Loss: 0.5210506916046143\n",
      "Generating Image Number: 12 for target class tensor([1]). Step 0, Loss: 3.7302255630493164\n",
      "Generating Image Number: 12 for target class tensor([1]). Step 50, Loss: 1.0700525045394897\n",
      "Generating Image Number: 12 for target class tensor([1]). Step 100, Loss: 0.8115309476852417\n",
      "Generating Image Number: 12 for target class tensor([1]). Step 150, Loss: 0.6520351767539978\n",
      "Generating Image Number: 12 for target class tensor([1]). Step 200, Loss: 0.4759647250175476\n",
      "Generating Image Number: 12 for target class tensor([1]). Step 250, Loss: 0.2789630591869354\n",
      "Generating Image Number: 12 for target class tensor([1]). Step 300, Loss: 0.18239788711071014\n",
      "Generating Image Number: 12 for target class tensor([1]). Step 350, Loss: 0.12951083481311798\n",
      "Generating Image Number: 12 for target class tensor([1]). Step 400, Loss: 0.10140292346477509\n",
      "Generating Image Number: 12 for target class tensor([1]). Step 450, Loss: 0.08116967976093292\n",
      "Generating Image Number: 13 for target class tensor([1]). Step 0, Loss: 5.1210103034973145\n",
      "Generating Image Number: 13 for target class tensor([1]). Step 50, Loss: 2.9127132892608643\n",
      "Generating Image Number: 13 for target class tensor([1]). Step 100, Loss: 2.015230417251587\n",
      "Generating Image Number: 13 for target class tensor([1]). Step 150, Loss: 1.7555549144744873\n",
      "Generating Image Number: 13 for target class tensor([1]). Step 200, Loss: 1.5742781162261963\n",
      "Generating Image Number: 13 for target class tensor([1]). Step 250, Loss: 1.504307508468628\n",
      "Generating Image Number: 13 for target class tensor([1]). Step 300, Loss: 1.456359624862671\n",
      "Generating Image Number: 13 for target class tensor([1]). Step 350, Loss: 1.4167405366897583\n",
      "Generating Image Number: 13 for target class tensor([1]). Step 400, Loss: 1.3871760368347168\n",
      "Generating Image Number: 13 for target class tensor([1]). Step 450, Loss: 1.3211466073989868\n",
      "Generating Image Number: 14 for target class tensor([1]). Step 0, Loss: 1.9578149318695068\n",
      "Generating Image Number: 14 for target class tensor([1]). Step 50, Loss: 1.039045810699463\n",
      "Generating Image Number: 14 for target class tensor([1]). Step 100, Loss: 0.8669564723968506\n",
      "Generating Image Number: 14 for target class tensor([1]). Step 150, Loss: 0.7118054032325745\n",
      "Generating Image Number: 14 for target class tensor([1]). Step 200, Loss: 0.5014988780021667\n",
      "Generating Image Number: 14 for target class tensor([1]). Step 250, Loss: 0.4030626118183136\n",
      "Generating Image Number: 14 for target class tensor([1]). Step 300, Loss: 0.34826987981796265\n",
      "Generating Image Number: 14 for target class tensor([1]). Step 350, Loss: 0.31354397535324097\n",
      "Generating Image Number: 14 for target class tensor([1]). Step 400, Loss: 0.28697669506073\n",
      "Generating Image Number: 14 for target class tensor([1]). Step 450, Loss: 0.2648170292377472\n",
      "Generating Image Number: 15 for target class tensor([1]). Step 0, Loss: 2.553414821624756\n",
      "Generating Image Number: 15 for target class tensor([1]). Step 50, Loss: 1.3828520774841309\n",
      "Generating Image Number: 15 for target class tensor([1]). Step 100, Loss: 1.183490514755249\n",
      "Generating Image Number: 15 for target class tensor([1]). Step 150, Loss: 1.1127243041992188\n",
      "Generating Image Number: 15 for target class tensor([1]). Step 200, Loss: 1.0644190311431885\n",
      "Generating Image Number: 15 for target class tensor([1]). Step 250, Loss: 1.0238902568817139\n",
      "Generating Image Number: 15 for target class tensor([1]). Step 300, Loss: 0.9863093495368958\n",
      "Generating Image Number: 15 for target class tensor([1]). Step 350, Loss: 0.951522707939148\n",
      "Generating Image Number: 15 for target class tensor([1]). Step 400, Loss: 0.9271485805511475\n",
      "Generating Image Number: 15 for target class tensor([1]). Step 450, Loss: 0.9067597985267639\n",
      "Generating Image Number: 16 for target class tensor([1]). Step 0, Loss: 17.211435317993164\n",
      "Generating Image Number: 16 for target class tensor([1]). Step 50, Loss: 1.0892853736877441\n",
      "Generating Image Number: 16 for target class tensor([1]). Step 100, Loss: 0.6356459259986877\n",
      "Generating Image Number: 16 for target class tensor([1]). Step 150, Loss: 0.5114461779594421\n",
      "Generating Image Number: 16 for target class tensor([1]). Step 200, Loss: 0.4352319538593292\n",
      "Generating Image Number: 16 for target class tensor([1]). Step 250, Loss: 0.37458011507987976\n",
      "Generating Image Number: 16 for target class tensor([1]). Step 300, Loss: 0.3212399482727051\n",
      "Generating Image Number: 16 for target class tensor([1]). Step 350, Loss: 0.255246639251709\n",
      "Generating Image Number: 16 for target class tensor([1]). Step 400, Loss: 0.21726876497268677\n",
      "Generating Image Number: 16 for target class tensor([1]). Step 450, Loss: 0.1915237158536911\n",
      "Generating Image Number: 17 for target class tensor([1]). Step 0, Loss: 2.393859386444092\n",
      "Generating Image Number: 17 for target class tensor([1]). Step 50, Loss: 0.7053592205047607\n",
      "Generating Image Number: 17 for target class tensor([1]). Step 100, Loss: 0.469239741563797\n",
      "Generating Image Number: 17 for target class tensor([1]). Step 150, Loss: 0.3803391456604004\n",
      "Generating Image Number: 17 for target class tensor([1]). Step 200, Loss: 0.31683698296546936\n",
      "Generating Image Number: 17 for target class tensor([1]). Step 250, Loss: 0.25669363141059875\n",
      "Generating Image Number: 17 for target class tensor([1]). Step 300, Loss: 0.21330247819423676\n",
      "Generating Image Number: 17 for target class tensor([1]). Step 350, Loss: 0.18831057846546173\n",
      "Generating Image Number: 17 for target class tensor([1]). Step 400, Loss: 0.16847136616706848\n",
      "Generating Image Number: 17 for target class tensor([1]). Step 450, Loss: 0.1516106128692627\n",
      "Generating Image Number: 18 for target class tensor([1]). Step 0, Loss: 3.80391788482666\n",
      "Generating Image Number: 18 for target class tensor([1]). Step 50, Loss: 2.64892315864563\n",
      "Generating Image Number: 18 for target class tensor([1]). Step 100, Loss: 2.384827136993408\n",
      "Generating Image Number: 18 for target class tensor([1]). Step 150, Loss: 2.2085306644439697\n",
      "Generating Image Number: 18 for target class tensor([1]). Step 200, Loss: 2.0344624519348145\n",
      "Generating Image Number: 18 for target class tensor([1]). Step 250, Loss: 1.861696481704712\n",
      "Generating Image Number: 18 for target class tensor([1]). Step 300, Loss: 1.5959248542785645\n",
      "Generating Image Number: 18 for target class tensor([1]). Step 350, Loss: 1.3696191310882568\n",
      "Generating Image Number: 18 for target class tensor([1]). Step 400, Loss: 1.1711571216583252\n",
      "Generating Image Number: 18 for target class tensor([1]). Step 450, Loss: 1.026527762413025\n",
      "Generating Image Number: 19 for target class tensor([1]). Step 0, Loss: 3.201331377029419\n",
      "Generating Image Number: 19 for target class tensor([1]). Step 50, Loss: 2.9742894172668457\n",
      "Generating Image Number: 19 for target class tensor([1]). Step 100, Loss: 2.100102663040161\n",
      "Generating Image Number: 19 for target class tensor([1]). Step 150, Loss: 1.1458611488342285\n",
      "Generating Image Number: 19 for target class tensor([1]). Step 200, Loss: 1.0359370708465576\n",
      "Generating Image Number: 19 for target class tensor([1]). Step 250, Loss: 1.0187320709228516\n",
      "Generating Image Number: 19 for target class tensor([1]). Step 300, Loss: 1.0016069412231445\n",
      "Generating Image Number: 19 for target class tensor([1]). Step 350, Loss: 0.9878928661346436\n",
      "Generating Image Number: 19 for target class tensor([1]). Step 400, Loss: 0.9707046747207642\n",
      "Generating Image Number: 19 for target class tensor([1]). Step 450, Loss: 0.9566221833229065\n",
      "Generating Image Number: 20 for target class tensor([1]). Step 0, Loss: 1.9520533084869385\n",
      "Generating Image Number: 20 for target class tensor([1]). Step 50, Loss: 1.3182613849639893\n",
      "Generating Image Number: 20 for target class tensor([1]). Step 100, Loss: 1.0723580121994019\n",
      "Generating Image Number: 20 for target class tensor([1]). Step 150, Loss: 0.9504690170288086\n",
      "Generating Image Number: 20 for target class tensor([1]). Step 200, Loss: 0.8724521994590759\n",
      "Generating Image Number: 20 for target class tensor([1]). Step 250, Loss: 0.8057204484939575\n",
      "Generating Image Number: 20 for target class tensor([1]). Step 300, Loss: 0.7022417783737183\n",
      "Generating Image Number: 20 for target class tensor([1]). Step 350, Loss: 0.597790539264679\n",
      "Generating Image Number: 20 for target class tensor([1]). Step 400, Loss: 0.4728912115097046\n",
      "Generating Image Number: 20 for target class tensor([1]). Step 450, Loss: 0.3710242211818695\n"
     ]
    }
   ],
   "source": [
    "torch.manual_seed(100)\n",
    "latent_vectors = torch.randn(img_count, z_dim, 1, 1, requires_grad=True) # Start with 20 random noises\n",
    "class1_optimized_latent_vectors = recover_images(img_count, 1, latent_vectors)"
   ]
  },
  {
   "cell_type": "code",
   "execution_count": 22,
   "id": "1c8af686-b1ff-419d-946d-2447773e47c9",
   "metadata": {
    "scrolled": true
   },
   "outputs": [
    {
     "name": "stdout",
     "output_type": "stream",
     "text": [
      "Generating Image Number: 1 for target class tensor([2]). Step 0, Loss: 2.444798707962036\n",
      "Generating Image Number: 1 for target class tensor([2]). Step 50, Loss: 0.11631680279970169\n",
      "Generating Image Number: 1 for target class tensor([2]). Step 100, Loss: 0.10130726546049118\n",
      "Generating Image Number: 1 for target class tensor([2]). Step 150, Loss: 0.09545941650867462\n",
      "Generating Image Number: 1 for target class tensor([2]). Step 200, Loss: 0.0899566188454628\n",
      "Generating Image Number: 1 for target class tensor([2]). Step 250, Loss: 0.08548290282487869\n",
      "Generating Image Number: 1 for target class tensor([2]). Step 300, Loss: 0.08105085790157318\n",
      "Generating Image Number: 1 for target class tensor([2]). Step 350, Loss: 0.07698293775320053\n",
      "Generating Image Number: 1 for target class tensor([2]). Step 400, Loss: 0.07283810526132584\n",
      "Generating Image Number: 1 for target class tensor([2]). Step 450, Loss: 0.06868170201778412\n",
      "Generating Image Number: 2 for target class tensor([2]). Step 0, Loss: 3.195918321609497\n",
      "Generating Image Number: 2 for target class tensor([2]). Step 50, Loss: 1.92996346950531\n",
      "Generating Image Number: 2 for target class tensor([2]). Step 100, Loss: 1.3191475868225098\n",
      "Generating Image Number: 2 for target class tensor([2]). Step 150, Loss: 0.8250747323036194\n",
      "Generating Image Number: 2 for target class tensor([2]). Step 200, Loss: 0.6275103092193604\n",
      "Generating Image Number: 2 for target class tensor([2]). Step 250, Loss: 0.5442588329315186\n",
      "Generating Image Number: 2 for target class tensor([2]). Step 300, Loss: 0.4933563470840454\n",
      "Generating Image Number: 2 for target class tensor([2]). Step 350, Loss: 0.43559199571609497\n",
      "Generating Image Number: 2 for target class tensor([2]). Step 400, Loss: 0.38623329997062683\n",
      "Generating Image Number: 2 for target class tensor([2]). Step 450, Loss: 0.3568214774131775\n",
      "Generating Image Number: 3 for target class tensor([2]). Step 0, Loss: 0.6864023804664612\n",
      "Generating Image Number: 3 for target class tensor([2]). Step 50, Loss: 0.11987923830747604\n",
      "Generating Image Number: 3 for target class tensor([2]). Step 100, Loss: 0.09916449338197708\n",
      "Generating Image Number: 3 for target class tensor([2]). Step 150, Loss: 0.0828227624297142\n",
      "Generating Image Number: 3 for target class tensor([2]). Step 200, Loss: 0.06994400918483734\n",
      "Generating Image Number: 3 for target class tensor([2]). Step 250, Loss: 0.06098426133394241\n",
      "Generating Image Number: 3 for target class tensor([2]). Step 300, Loss: 0.05343494936823845\n",
      "Generating Image Number: 3 for target class tensor([2]). Step 350, Loss: 0.04854974150657654\n",
      "Generating Image Number: 3 for target class tensor([2]). Step 400, Loss: 0.045045964419841766\n",
      "Generating Image Number: 3 for target class tensor([2]). Step 450, Loss: 0.042353034019470215\n",
      "Generating Image Number: 4 for target class tensor([2]). Step 0, Loss: 0.844318151473999\n",
      "Generating Image Number: 4 for target class tensor([2]). Step 50, Loss: 0.6260089874267578\n",
      "Generating Image Number: 4 for target class tensor([2]). Step 100, Loss: 0.3329402804374695\n",
      "Generating Image Number: 4 for target class tensor([2]). Step 150, Loss: 0.24177807569503784\n",
      "Generating Image Number: 4 for target class tensor([2]). Step 200, Loss: 0.19442979991436005\n",
      "Generating Image Number: 4 for target class tensor([2]). Step 250, Loss: 0.16982169449329376\n",
      "Generating Image Number: 4 for target class tensor([2]). Step 300, Loss: 0.1551235318183899\n",
      "Generating Image Number: 4 for target class tensor([2]). Step 350, Loss: 0.144818514585495\n",
      "Generating Image Number: 4 for target class tensor([2]). Step 400, Loss: 0.13547146320343018\n",
      "Generating Image Number: 4 for target class tensor([2]). Step 450, Loss: 0.1292334794998169\n",
      "Generating Image Number: 5 for target class tensor([2]). Step 0, Loss: 2.6885111331939697\n",
      "Generating Image Number: 5 for target class tensor([2]). Step 50, Loss: 1.7077511548995972\n",
      "Generating Image Number: 5 for target class tensor([2]). Step 100, Loss: 1.3806893825531006\n",
      "Generating Image Number: 5 for target class tensor([2]). Step 150, Loss: 1.0852786302566528\n",
      "Generating Image Number: 5 for target class tensor([2]). Step 200, Loss: 0.9122025966644287\n",
      "Generating Image Number: 5 for target class tensor([2]). Step 250, Loss: 0.7956758141517639\n",
      "Generating Image Number: 5 for target class tensor([2]). Step 300, Loss: 0.7200034260749817\n",
      "Generating Image Number: 5 for target class tensor([2]). Step 350, Loss: 0.6663862466812134\n",
      "Generating Image Number: 5 for target class tensor([2]). Step 400, Loss: 0.630823016166687\n",
      "Generating Image Number: 5 for target class tensor([2]). Step 450, Loss: 0.602162778377533\n",
      "Generating Image Number: 6 for target class tensor([2]). Step 0, Loss: 2.8550288677215576\n",
      "Generating Image Number: 6 for target class tensor([2]). Step 50, Loss: 0.5118517875671387\n",
      "Generating Image Number: 6 for target class tensor([2]). Step 100, Loss: 0.27763259410858154\n",
      "Generating Image Number: 6 for target class tensor([2]). Step 150, Loss: 0.1933325082063675\n",
      "Generating Image Number: 6 for target class tensor([2]). Step 200, Loss: 0.13761582970619202\n",
      "Generating Image Number: 6 for target class tensor([2]). Step 250, Loss: 0.10797926038503647\n",
      "Generating Image Number: 6 for target class tensor([2]). Step 300, Loss: 0.08806612342596054\n",
      "Generating Image Number: 6 for target class tensor([2]). Step 350, Loss: 0.07568737864494324\n",
      "Generating Image Number: 6 for target class tensor([2]). Step 400, Loss: 0.06703639030456543\n",
      "Generating Image Number: 6 for target class tensor([2]). Step 450, Loss: 0.06018471345305443\n",
      "Generating Image Number: 7 for target class tensor([2]). Step 0, Loss: 2.983720302581787\n",
      "Generating Image Number: 7 for target class tensor([2]). Step 50, Loss: 0.385175883769989\n",
      "Generating Image Number: 7 for target class tensor([2]). Step 100, Loss: 0.16148093342781067\n",
      "Generating Image Number: 7 for target class tensor([2]). Step 150, Loss: 0.13753291964530945\n",
      "Generating Image Number: 7 for target class tensor([2]). Step 200, Loss: 0.11930711567401886\n",
      "Generating Image Number: 7 for target class tensor([2]). Step 250, Loss: 0.10376186668872833\n",
      "Generating Image Number: 7 for target class tensor([2]). Step 300, Loss: 0.09069222211837769\n",
      "Generating Image Number: 7 for target class tensor([2]). Step 350, Loss: 0.08046982437372208\n",
      "Generating Image Number: 7 for target class tensor([2]). Step 400, Loss: 0.07147035747766495\n",
      "Generating Image Number: 7 for target class tensor([2]). Step 450, Loss: 0.06377609074115753\n",
      "Generating Image Number: 8 for target class tensor([2]). Step 0, Loss: 2.4165167808532715\n",
      "Generating Image Number: 8 for target class tensor([2]). Step 50, Loss: 0.08420784771442413\n",
      "Generating Image Number: 8 for target class tensor([2]). Step 100, Loss: 0.07590242475271225\n",
      "Generating Image Number: 8 for target class tensor([2]). Step 150, Loss: 0.06745936721563339\n",
      "Generating Image Number: 8 for target class tensor([2]). Step 200, Loss: 0.05845743417739868\n",
      "Generating Image Number: 8 for target class tensor([2]). Step 250, Loss: 0.05062743276357651\n",
      "Generating Image Number: 8 for target class tensor([2]). Step 300, Loss: 0.04606537148356438\n",
      "Generating Image Number: 8 for target class tensor([2]). Step 350, Loss: 0.04292557016015053\n",
      "Generating Image Number: 8 for target class tensor([2]). Step 400, Loss: 0.04075580835342407\n",
      "Generating Image Number: 8 for target class tensor([2]). Step 450, Loss: 0.03918113186955452\n",
      "Generating Image Number: 9 for target class tensor([2]). Step 0, Loss: 1.0559577941894531\n",
      "Generating Image Number: 9 for target class tensor([2]). Step 50, Loss: 0.14130868017673492\n",
      "Generating Image Number: 9 for target class tensor([2]). Step 100, Loss: 0.11776438355445862\n",
      "Generating Image Number: 9 for target class tensor([2]). Step 150, Loss: 0.10596473515033722\n",
      "Generating Image Number: 9 for target class tensor([2]). Step 200, Loss: 0.09599260240793228\n",
      "Generating Image Number: 9 for target class tensor([2]). Step 250, Loss: 0.08582299202680588\n",
      "Generating Image Number: 9 for target class tensor([2]). Step 300, Loss: 0.07689551264047623\n",
      "Generating Image Number: 9 for target class tensor([2]). Step 350, Loss: 0.07018397003412247\n",
      "Generating Image Number: 9 for target class tensor([2]). Step 400, Loss: 0.0652417317032814\n",
      "Generating Image Number: 9 for target class tensor([2]). Step 450, Loss: 0.06108283996582031\n",
      "Generating Image Number: 10 for target class tensor([2]). Step 0, Loss: 2.74184513092041\n",
      "Generating Image Number: 10 for target class tensor([2]). Step 50, Loss: 1.7930583953857422\n",
      "Generating Image Number: 10 for target class tensor([2]). Step 100, Loss: 1.4790493249893188\n",
      "Generating Image Number: 10 for target class tensor([2]). Step 150, Loss: 1.2706246376037598\n",
      "Generating Image Number: 10 for target class tensor([2]). Step 200, Loss: 1.1042312383651733\n",
      "Generating Image Number: 10 for target class tensor([2]). Step 250, Loss: 0.9360055327415466\n",
      "Generating Image Number: 10 for target class tensor([2]). Step 300, Loss: 0.8068305850028992\n",
      "Generating Image Number: 10 for target class tensor([2]). Step 350, Loss: 0.7503617405891418\n",
      "Generating Image Number: 10 for target class tensor([2]). Step 400, Loss: 0.7018736004829407\n",
      "Generating Image Number: 10 for target class tensor([2]). Step 450, Loss: 0.6482394337654114\n",
      "Generating Image Number: 11 for target class tensor([2]). Step 0, Loss: 1.0574074983596802\n",
      "Generating Image Number: 11 for target class tensor([2]). Step 50, Loss: 0.6218562722206116\n",
      "Generating Image Number: 11 for target class tensor([2]). Step 100, Loss: 0.5625899434089661\n",
      "Generating Image Number: 11 for target class tensor([2]). Step 150, Loss: 0.5118175148963928\n",
      "Generating Image Number: 11 for target class tensor([2]). Step 200, Loss: 0.4723104238510132\n",
      "Generating Image Number: 11 for target class tensor([2]). Step 250, Loss: 0.44057947397232056\n",
      "Generating Image Number: 11 for target class tensor([2]). Step 300, Loss: 0.4148792624473572\n",
      "Generating Image Number: 11 for target class tensor([2]). Step 350, Loss: 0.3265957236289978\n",
      "Generating Image Number: 11 for target class tensor([2]). Step 400, Loss: 0.11581950634717941\n",
      "Generating Image Number: 11 for target class tensor([2]). Step 450, Loss: 0.06772297620773315\n",
      "Generating Image Number: 12 for target class tensor([2]). Step 0, Loss: 24.42078399658203\n",
      "Generating Image Number: 12 for target class tensor([2]). Step 50, Loss: 23.59837532043457\n",
      "Generating Image Number: 12 for target class tensor([2]). Step 100, Loss: 22.94586181640625\n",
      "Generating Image Number: 12 for target class tensor([2]). Step 150, Loss: 0.18847468495368958\n",
      "Generating Image Number: 12 for target class tensor([2]). Step 200, Loss: 0.16374783217906952\n",
      "Generating Image Number: 12 for target class tensor([2]). Step 250, Loss: 0.16019627451896667\n",
      "Generating Image Number: 12 for target class tensor([2]). Step 300, Loss: 0.15680745244026184\n",
      "Generating Image Number: 12 for target class tensor([2]). Step 350, Loss: 0.15289326012134552\n",
      "Generating Image Number: 12 for target class tensor([2]). Step 400, Loss: 0.14880897104740143\n",
      "Generating Image Number: 12 for target class tensor([2]). Step 450, Loss: 0.14470331370830536\n",
      "Generating Image Number: 13 for target class tensor([2]). Step 0, Loss: 3.7290420532226562\n",
      "Generating Image Number: 13 for target class tensor([2]). Step 50, Loss: 1.6580519676208496\n",
      "Generating Image Number: 13 for target class tensor([2]). Step 100, Loss: 1.4088982343673706\n",
      "Generating Image Number: 13 for target class tensor([2]). Step 150, Loss: 1.2550992965698242\n",
      "Generating Image Number: 13 for target class tensor([2]). Step 200, Loss: 1.0939602851867676\n",
      "Generating Image Number: 13 for target class tensor([2]). Step 250, Loss: 0.9438825845718384\n",
      "Generating Image Number: 13 for target class tensor([2]). Step 300, Loss: 0.8553656935691833\n",
      "Generating Image Number: 13 for target class tensor([2]). Step 350, Loss: 0.76629638671875\n",
      "Generating Image Number: 13 for target class tensor([2]). Step 400, Loss: 0.7151116728782654\n",
      "Generating Image Number: 13 for target class tensor([2]). Step 450, Loss: 0.6726532578468323\n",
      "Generating Image Number: 14 for target class tensor([2]). Step 0, Loss: 1.8641033172607422\n",
      "Generating Image Number: 14 for target class tensor([2]). Step 50, Loss: 0.07859456539154053\n",
      "Generating Image Number: 14 for target class tensor([2]). Step 100, Loss: 0.0726105347275734\n",
      "Generating Image Number: 14 for target class tensor([2]). Step 150, Loss: 0.06515137851238251\n",
      "Generating Image Number: 14 for target class tensor([2]). Step 200, Loss: 0.05929959565401077\n",
      "Generating Image Number: 14 for target class tensor([2]). Step 250, Loss: 0.053588852286338806\n",
      "Generating Image Number: 14 for target class tensor([2]). Step 300, Loss: 0.04916016757488251\n",
      "Generating Image Number: 14 for target class tensor([2]). Step 350, Loss: 0.045510463416576385\n",
      "Generating Image Number: 14 for target class tensor([2]). Step 400, Loss: 0.04235280305147171\n",
      "Generating Image Number: 14 for target class tensor([2]). Step 450, Loss: 0.03983716666698456\n",
      "Generating Image Number: 15 for target class tensor([2]). Step 0, Loss: 1.6698904037475586\n",
      "Generating Image Number: 15 for target class tensor([2]). Step 50, Loss: 0.06387607008218765\n",
      "Generating Image Number: 15 for target class tensor([2]). Step 100, Loss: 0.05310751497745514\n",
      "Generating Image Number: 15 for target class tensor([2]). Step 150, Loss: 0.04662839323282242\n",
      "Generating Image Number: 15 for target class tensor([2]). Step 200, Loss: 0.04208847135305405\n",
      "Generating Image Number: 15 for target class tensor([2]). Step 250, Loss: 0.03837473317980766\n",
      "Generating Image Number: 15 for target class tensor([2]). Step 300, Loss: 0.03541962429881096\n",
      "Generating Image Number: 15 for target class tensor([2]). Step 350, Loss: 0.03289003670215607\n",
      "Generating Image Number: 15 for target class tensor([2]). Step 400, Loss: 0.030354613438248634\n",
      "Generating Image Number: 15 for target class tensor([2]). Step 450, Loss: 0.02820790372788906\n",
      "Generating Image Number: 16 for target class tensor([2]). Step 0, Loss: 1.3328884840011597\n",
      "Generating Image Number: 16 for target class tensor([2]). Step 50, Loss: 0.0782087966799736\n",
      "Generating Image Number: 16 for target class tensor([2]). Step 100, Loss: 0.07031676173210144\n",
      "Generating Image Number: 16 for target class tensor([2]). Step 150, Loss: 0.06295683234930038\n",
      "Generating Image Number: 16 for target class tensor([2]). Step 200, Loss: 0.05668560415506363\n",
      "Generating Image Number: 16 for target class tensor([2]). Step 250, Loss: 0.05194418504834175\n",
      "Generating Image Number: 16 for target class tensor([2]). Step 300, Loss: 0.04808074235916138\n",
      "Generating Image Number: 16 for target class tensor([2]). Step 350, Loss: 0.04459880292415619\n",
      "Generating Image Number: 16 for target class tensor([2]). Step 400, Loss: 0.041162360459566116\n",
      "Generating Image Number: 16 for target class tensor([2]). Step 450, Loss: 0.038112103939056396\n",
      "Generating Image Number: 17 for target class tensor([2]). Step 0, Loss: 0.42530137300491333\n",
      "Generating Image Number: 17 for target class tensor([2]). Step 50, Loss: 0.2009982466697693\n",
      "Generating Image Number: 17 for target class tensor([2]). Step 100, Loss: 0.1496700644493103\n",
      "Generating Image Number: 17 for target class tensor([2]). Step 150, Loss: 0.1267232745885849\n",
      "Generating Image Number: 17 for target class tensor([2]). Step 200, Loss: 0.10492637753486633\n",
      "Generating Image Number: 17 for target class tensor([2]). Step 250, Loss: 0.08897522836923599\n",
      "Generating Image Number: 17 for target class tensor([2]). Step 300, Loss: 0.08003581315279007\n",
      "Generating Image Number: 17 for target class tensor([2]). Step 350, Loss: 0.07440076768398285\n",
      "Generating Image Number: 17 for target class tensor([2]). Step 400, Loss: 0.06920499354600906\n",
      "Generating Image Number: 17 for target class tensor([2]). Step 450, Loss: 0.06456193327903748\n",
      "Generating Image Number: 18 for target class tensor([2]). Step 0, Loss: 22.93972396850586\n",
      "Generating Image Number: 18 for target class tensor([2]). Step 50, Loss: 0.10503982752561569\n",
      "Generating Image Number: 18 for target class tensor([2]). Step 100, Loss: 0.09772474318742752\n",
      "Generating Image Number: 18 for target class tensor([2]). Step 150, Loss: 0.09116026759147644\n",
      "Generating Image Number: 18 for target class tensor([2]). Step 200, Loss: 0.07548698782920837\n",
      "Generating Image Number: 18 for target class tensor([2]). Step 250, Loss: 0.05887281522154808\n",
      "Generating Image Number: 18 for target class tensor([2]). Step 300, Loss: 0.05744326859712601\n",
      "Generating Image Number: 18 for target class tensor([2]). Step 350, Loss: 0.056783370673656464\n",
      "Generating Image Number: 18 for target class tensor([2]). Step 400, Loss: 0.05606251209974289\n",
      "Generating Image Number: 18 for target class tensor([2]). Step 450, Loss: 0.05533391609787941\n",
      "Generating Image Number: 19 for target class tensor([2]). Step 0, Loss: 2.4124083518981934\n",
      "Generating Image Number: 19 for target class tensor([2]). Step 50, Loss: 1.6905691623687744\n",
      "Generating Image Number: 19 for target class tensor([2]). Step 100, Loss: 1.3364465236663818\n",
      "Generating Image Number: 19 for target class tensor([2]). Step 150, Loss: 1.0541088581085205\n",
      "Generating Image Number: 19 for target class tensor([2]). Step 200, Loss: 0.8703817129135132\n",
      "Generating Image Number: 19 for target class tensor([2]). Step 250, Loss: 0.753293514251709\n",
      "Generating Image Number: 19 for target class tensor([2]). Step 300, Loss: 0.6659653782844543\n",
      "Generating Image Number: 19 for target class tensor([2]). Step 350, Loss: 0.6140339374542236\n",
      "Generating Image Number: 19 for target class tensor([2]). Step 400, Loss: 0.5840803384780884\n",
      "Generating Image Number: 19 for target class tensor([2]). Step 450, Loss: 0.561242938041687\n",
      "Generating Image Number: 20 for target class tensor([2]). Step 0, Loss: 0.3746127486228943\n",
      "Generating Image Number: 20 for target class tensor([2]). Step 50, Loss: 0.11363305151462555\n",
      "Generating Image Number: 20 for target class tensor([2]). Step 100, Loss: 0.08160287141799927\n",
      "Generating Image Number: 20 for target class tensor([2]). Step 150, Loss: 0.06322118639945984\n",
      "Generating Image Number: 20 for target class tensor([2]). Step 200, Loss: 0.05186914652585983\n",
      "Generating Image Number: 20 for target class tensor([2]). Step 250, Loss: 0.043080754578113556\n",
      "Generating Image Number: 20 for target class tensor([2]). Step 300, Loss: 0.037075474858284\n",
      "Generating Image Number: 20 for target class tensor([2]). Step 350, Loss: 0.032928332686424255\n",
      "Generating Image Number: 20 for target class tensor([2]). Step 400, Loss: 0.029372766613960266\n",
      "Generating Image Number: 20 for target class tensor([2]). Step 450, Loss: 0.026840699836611748\n"
     ]
    }
   ],
   "source": [
    "torch.manual_seed(200)\n",
    "latent_vectors = torch.randn(img_count, z_dim, 1, 1, requires_grad=True) # Start with 20 random noises\n",
    "class2_optimized_latent_vectors = recover_images(img_count, 2, latent_vectors)"
   ]
  },
  {
   "cell_type": "code",
   "execution_count": 23,
   "id": "0381b36d-6c92-43bc-b776-1eefd3eab451",
   "metadata": {
    "scrolled": true
   },
   "outputs": [
    {
     "name": "stdout",
     "output_type": "stream",
     "text": [
      "Generating Image Number: 1 for target class tensor([3]). Step 0, Loss: 0.1949106901884079\n",
      "Generating Image Number: 1 for target class tensor([3]). Step 50, Loss: 0.016277508810162544\n",
      "Generating Image Number: 1 for target class tensor([3]). Step 100, Loss: 0.016483791172504425\n",
      "Generating Image Number: 1 for target class tensor([3]). Step 150, Loss: 0.015019308775663376\n",
      "Generating Image Number: 1 for target class tensor([3]). Step 200, Loss: 0.00890604592859745\n",
      "Generating Image Number: 1 for target class tensor([3]). Step 250, Loss: 0.009785539470613003\n",
      "Generating Image Number: 1 for target class tensor([3]). Step 300, Loss: 0.009183547459542751\n",
      "Generating Image Number: 1 for target class tensor([3]). Step 350, Loss: 0.006545650772750378\n",
      "Generating Image Number: 1 for target class tensor([3]). Step 400, Loss: 0.0050386590883135796\n",
      "Generating Image Number: 1 for target class tensor([3]). Step 450, Loss: 0.004967964719980955\n",
      "Generating Image Number: 2 for target class tensor([3]). Step 0, Loss: 0.9303984045982361\n",
      "Generating Image Number: 2 for target class tensor([3]). Step 50, Loss: 0.5859102606773376\n",
      "Generating Image Number: 2 for target class tensor([3]). Step 100, Loss: 0.38488250970840454\n",
      "Generating Image Number: 2 for target class tensor([3]). Step 150, Loss: 0.31612473726272583\n",
      "Generating Image Number: 2 for target class tensor([3]). Step 200, Loss: 0.27115049958229065\n",
      "Generating Image Number: 2 for target class tensor([3]). Step 250, Loss: 0.23683033883571625\n",
      "Generating Image Number: 2 for target class tensor([3]). Step 300, Loss: 0.2118884176015854\n",
      "Generating Image Number: 2 for target class tensor([3]). Step 350, Loss: 0.19153739511966705\n",
      "Generating Image Number: 2 for target class tensor([3]). Step 400, Loss: 0.17288921773433685\n",
      "Generating Image Number: 2 for target class tensor([3]). Step 450, Loss: 0.15796059370040894\n",
      "Generating Image Number: 3 for target class tensor([3]). Step 0, Loss: 0.43327611684799194\n",
      "Generating Image Number: 3 for target class tensor([3]). Step 50, Loss: 0.20971667766571045\n",
      "Generating Image Number: 3 for target class tensor([3]). Step 100, Loss: 0.18222671747207642\n",
      "Generating Image Number: 3 for target class tensor([3]). Step 150, Loss: 0.1641775518655777\n",
      "Generating Image Number: 3 for target class tensor([3]). Step 200, Loss: 0.1485089659690857\n",
      "Generating Image Number: 3 for target class tensor([3]). Step 250, Loss: 0.1374165564775467\n",
      "Generating Image Number: 3 for target class tensor([3]). Step 300, Loss: 0.12827564775943756\n",
      "Generating Image Number: 3 for target class tensor([3]). Step 350, Loss: 0.11918660253286362\n",
      "Generating Image Number: 3 for target class tensor([3]). Step 400, Loss: 0.10909932106733322\n",
      "Generating Image Number: 3 for target class tensor([3]). Step 450, Loss: 0.10085213929414749\n",
      "Generating Image Number: 4 for target class tensor([3]). Step 0, Loss: 1.7953879833221436\n",
      "Generating Image Number: 4 for target class tensor([3]). Step 50, Loss: 1.0170972347259521\n",
      "Generating Image Number: 4 for target class tensor([3]). Step 100, Loss: 0.9268302321434021\n",
      "Generating Image Number: 4 for target class tensor([3]). Step 150, Loss: 0.8302395939826965\n",
      "Generating Image Number: 4 for target class tensor([3]). Step 200, Loss: 0.7523119449615479\n",
      "Generating Image Number: 4 for target class tensor([3]). Step 250, Loss: 0.6863759160041809\n",
      "Generating Image Number: 4 for target class tensor([3]). Step 300, Loss: 0.6370036005973816\n",
      "Generating Image Number: 4 for target class tensor([3]). Step 350, Loss: 0.5715611577033997\n",
      "Generating Image Number: 4 for target class tensor([3]). Step 400, Loss: 0.5280622839927673\n",
      "Generating Image Number: 4 for target class tensor([3]). Step 450, Loss: 0.49761006236076355\n",
      "Generating Image Number: 5 for target class tensor([3]). Step 0, Loss: 2.471480369567871\n",
      "Generating Image Number: 5 for target class tensor([3]). Step 50, Loss: 0.005872733425348997\n",
      "Generating Image Number: 5 for target class tensor([3]). Step 100, Loss: 0.005311069544404745\n",
      "Generating Image Number: 5 for target class tensor([3]). Step 150, Loss: 0.005029288586229086\n",
      "Generating Image Number: 5 for target class tensor([3]). Step 200, Loss: 0.004800105467438698\n",
      "Generating Image Number: 5 for target class tensor([3]). Step 250, Loss: 0.0046686455607414246\n",
      "Generating Image Number: 5 for target class tensor([3]). Step 300, Loss: 0.004588550888001919\n",
      "Generating Image Number: 5 for target class tensor([3]). Step 350, Loss: 0.004495751578360796\n",
      "Generating Image Number: 5 for target class tensor([3]). Step 400, Loss: 0.004412676207721233\n",
      "Generating Image Number: 5 for target class tensor([3]). Step 450, Loss: 0.0043281689286231995\n",
      "Generating Image Number: 6 for target class tensor([3]). Step 0, Loss: 1.5773260593414307\n",
      "Generating Image Number: 6 for target class tensor([3]). Step 50, Loss: 0.4003292918205261\n",
      "Generating Image Number: 6 for target class tensor([3]). Step 100, Loss: 0.31521397829055786\n",
      "Generating Image Number: 6 for target class tensor([3]). Step 150, Loss: 0.2595374584197998\n",
      "Generating Image Number: 6 for target class tensor([3]). Step 200, Loss: 0.2171315848827362\n",
      "Generating Image Number: 6 for target class tensor([3]). Step 250, Loss: 0.18891897797584534\n",
      "Generating Image Number: 6 for target class tensor([3]). Step 300, Loss: 0.17108863592147827\n",
      "Generating Image Number: 6 for target class tensor([3]). Step 350, Loss: 0.15887172520160675\n",
      "Generating Image Number: 6 for target class tensor([3]). Step 400, Loss: 0.14872309565544128\n",
      "Generating Image Number: 6 for target class tensor([3]). Step 450, Loss: 0.13980130851268768\n",
      "Generating Image Number: 7 for target class tensor([3]). Step 0, Loss: 1.2486406564712524\n",
      "Generating Image Number: 7 for target class tensor([3]). Step 50, Loss: 0.682906448841095\n",
      "Generating Image Number: 7 for target class tensor([3]). Step 100, Loss: 0.5261228084564209\n",
      "Generating Image Number: 7 for target class tensor([3]). Step 150, Loss: 0.45198169350624084\n",
      "Generating Image Number: 7 for target class tensor([3]). Step 200, Loss: 0.39423492550849915\n",
      "Generating Image Number: 7 for target class tensor([3]). Step 250, Loss: 0.3522709012031555\n",
      "Generating Image Number: 7 for target class tensor([3]). Step 300, Loss: 0.3262160122394562\n",
      "Generating Image Number: 7 for target class tensor([3]). Step 350, Loss: 0.300651490688324\n",
      "Generating Image Number: 7 for target class tensor([3]). Step 400, Loss: 0.27056020498275757\n",
      "Generating Image Number: 7 for target class tensor([3]). Step 450, Loss: 0.24617473781108856\n",
      "Generating Image Number: 8 for target class tensor([3]). Step 0, Loss: 0.2462700754404068\n",
      "Generating Image Number: 8 for target class tensor([3]). Step 50, Loss: 0.00523553229868412\n",
      "Generating Image Number: 8 for target class tensor([3]). Step 100, Loss: 0.004031745251268148\n",
      "Generating Image Number: 8 for target class tensor([3]). Step 150, Loss: 0.0036471060011535883\n",
      "Generating Image Number: 8 for target class tensor([3]). Step 200, Loss: 0.003485677298158407\n",
      "Generating Image Number: 8 for target class tensor([3]). Step 250, Loss: 0.0033629550598561764\n",
      "Generating Image Number: 8 for target class tensor([3]). Step 300, Loss: 0.003224414074793458\n",
      "Generating Image Number: 8 for target class tensor([3]). Step 350, Loss: 0.0030838334932923317\n",
      "Generating Image Number: 8 for target class tensor([3]). Step 400, Loss: 0.0029487009160220623\n",
      "Generating Image Number: 8 for target class tensor([3]). Step 450, Loss: 0.0028161650989204645\n",
      "Generating Image Number: 9 for target class tensor([3]). Step 0, Loss: 1.0663118362426758\n",
      "Generating Image Number: 9 for target class tensor([3]). Step 50, Loss: 0.01606050878763199\n",
      "Generating Image Number: 9 for target class tensor([3]). Step 100, Loss: 0.009292211383581161\n",
      "Generating Image Number: 9 for target class tensor([3]). Step 150, Loss: 0.00776132196187973\n",
      "Generating Image Number: 9 for target class tensor([3]). Step 200, Loss: 0.0068908194079995155\n",
      "Generating Image Number: 9 for target class tensor([3]). Step 250, Loss: 0.006138044875115156\n",
      "Generating Image Number: 9 for target class tensor([3]). Step 300, Loss: 0.005536460317671299\n",
      "Generating Image Number: 9 for target class tensor([3]). Step 350, Loss: 0.004370423499494791\n",
      "Generating Image Number: 9 for target class tensor([3]). Step 400, Loss: 0.00304758595302701\n",
      "Generating Image Number: 9 for target class tensor([3]). Step 450, Loss: 0.0024749382864683867\n",
      "Generating Image Number: 10 for target class tensor([3]). Step 0, Loss: 2.3174080848693848\n",
      "Generating Image Number: 10 for target class tensor([3]). Step 50, Loss: 0.02068728767335415\n",
      "Generating Image Number: 10 for target class tensor([3]). Step 100, Loss: 0.005995029583573341\n",
      "Generating Image Number: 10 for target class tensor([3]). Step 150, Loss: 0.005851638037711382\n",
      "Generating Image Number: 10 for target class tensor([3]). Step 200, Loss: 0.005758719053119421\n",
      "Generating Image Number: 10 for target class tensor([3]). Step 250, Loss: 0.005678356159478426\n",
      "Generating Image Number: 10 for target class tensor([3]). Step 300, Loss: 0.005588740110397339\n",
      "Generating Image Number: 10 for target class tensor([3]). Step 350, Loss: 0.005504332482814789\n",
      "Generating Image Number: 10 for target class tensor([3]). Step 400, Loss: 0.0054106698371469975\n",
      "Generating Image Number: 10 for target class tensor([3]). Step 450, Loss: 0.005288183689117432\n",
      "Generating Image Number: 11 for target class tensor([3]). Step 0, Loss: 1.0469136238098145\n",
      "Generating Image Number: 11 for target class tensor([3]). Step 50, Loss: 0.01250721700489521\n",
      "Generating Image Number: 11 for target class tensor([3]). Step 100, Loss: 0.007877237163484097\n",
      "Generating Image Number: 11 for target class tensor([3]). Step 150, Loss: 0.0066162338480353355\n",
      "Generating Image Number: 11 for target class tensor([3]). Step 200, Loss: 0.005339172203093767\n",
      "Generating Image Number: 11 for target class tensor([3]). Step 250, Loss: 0.004218489397317171\n",
      "Generating Image Number: 11 for target class tensor([3]). Step 300, Loss: 0.003958605229854584\n",
      "Generating Image Number: 11 for target class tensor([3]). Step 350, Loss: 0.0037421216256916523\n",
      "Generating Image Number: 11 for target class tensor([3]). Step 400, Loss: 0.0035584955476224422\n",
      "Generating Image Number: 11 for target class tensor([3]). Step 450, Loss: 0.003391349921002984\n",
      "Generating Image Number: 12 for target class tensor([3]). Step 0, Loss: 2.930640459060669\n",
      "Generating Image Number: 12 for target class tensor([3]). Step 50, Loss: 0.5122379660606384\n",
      "Generating Image Number: 12 for target class tensor([3]). Step 100, Loss: 0.37127581238746643\n",
      "Generating Image Number: 12 for target class tensor([3]). Step 150, Loss: 0.29331448674201965\n",
      "Generating Image Number: 12 for target class tensor([3]). Step 200, Loss: 0.2518138587474823\n",
      "Generating Image Number: 12 for target class tensor([3]). Step 250, Loss: 0.22415556013584137\n",
      "Generating Image Number: 12 for target class tensor([3]). Step 300, Loss: 0.20207078754901886\n",
      "Generating Image Number: 12 for target class tensor([3]). Step 350, Loss: 0.18511968851089478\n",
      "Generating Image Number: 12 for target class tensor([3]). Step 400, Loss: 0.17257197201251984\n",
      "Generating Image Number: 12 for target class tensor([3]). Step 450, Loss: 0.16429701447486877\n",
      "Generating Image Number: 13 for target class tensor([3]). Step 0, Loss: 2.461679697036743\n",
      "Generating Image Number: 13 for target class tensor([3]). Step 50, Loss: 0.37228459119796753\n",
      "Generating Image Number: 13 for target class tensor([3]). Step 100, Loss: 0.2979348599910736\n",
      "Generating Image Number: 13 for target class tensor([3]). Step 150, Loss: 0.2451934665441513\n",
      "Generating Image Number: 13 for target class tensor([3]). Step 200, Loss: 0.20950613915920258\n",
      "Generating Image Number: 13 for target class tensor([3]). Step 250, Loss: 0.18252672255039215\n",
      "Generating Image Number: 13 for target class tensor([3]). Step 300, Loss: 0.16044872999191284\n",
      "Generating Image Number: 13 for target class tensor([3]). Step 350, Loss: 0.14326168596744537\n",
      "Generating Image Number: 13 for target class tensor([3]). Step 400, Loss: 0.1279960572719574\n",
      "Generating Image Number: 13 for target class tensor([3]). Step 450, Loss: 0.11619380116462708\n",
      "Generating Image Number: 14 for target class tensor([3]). Step 0, Loss: 0.961976170539856\n",
      "Generating Image Number: 14 for target class tensor([3]). Step 50, Loss: 0.012381711043417454\n",
      "Generating Image Number: 14 for target class tensor([3]). Step 100, Loss: 0.0065181744284927845\n",
      "Generating Image Number: 14 for target class tensor([3]). Step 150, Loss: 0.006174891721457243\n",
      "Generating Image Number: 14 for target class tensor([3]). Step 200, Loss: 0.005939808674156666\n",
      "Generating Image Number: 14 for target class tensor([3]). Step 250, Loss: 0.005718893837183714\n",
      "Generating Image Number: 14 for target class tensor([3]). Step 300, Loss: 0.0054896315559744835\n",
      "Generating Image Number: 14 for target class tensor([3]). Step 350, Loss: 0.005222843494266272\n",
      "Generating Image Number: 14 for target class tensor([3]). Step 400, Loss: 0.004995839670300484\n",
      "Generating Image Number: 14 for target class tensor([3]). Step 450, Loss: 0.0048049697652459145\n",
      "Generating Image Number: 15 for target class tensor([3]). Step 0, Loss: 2.1192004680633545\n",
      "Generating Image Number: 15 for target class tensor([3]). Step 50, Loss: 1.3727988004684448\n",
      "Generating Image Number: 15 for target class tensor([3]). Step 100, Loss: 1.1727283000946045\n",
      "Generating Image Number: 15 for target class tensor([3]). Step 150, Loss: 1.0233230590820312\n",
      "Generating Image Number: 15 for target class tensor([3]). Step 200, Loss: 0.9275928735733032\n",
      "Generating Image Number: 15 for target class tensor([3]). Step 250, Loss: 0.8393846750259399\n",
      "Generating Image Number: 15 for target class tensor([3]). Step 300, Loss: 0.7941912412643433\n",
      "Generating Image Number: 15 for target class tensor([3]). Step 350, Loss: 0.7557566165924072\n",
      "Generating Image Number: 15 for target class tensor([3]). Step 400, Loss: 0.7088762521743774\n",
      "Generating Image Number: 15 for target class tensor([3]). Step 450, Loss: 0.6584842205047607\n",
      "Generating Image Number: 16 for target class tensor([3]). Step 0, Loss: 3.82560396194458\n",
      "Generating Image Number: 16 for target class tensor([3]). Step 50, Loss: 2.1102256774902344\n",
      "Generating Image Number: 16 for target class tensor([3]). Step 100, Loss: 1.8015273809432983\n",
      "Generating Image Number: 16 for target class tensor([3]). Step 150, Loss: 1.7090861797332764\n",
      "Generating Image Number: 16 for target class tensor([3]). Step 200, Loss: 1.5373167991638184\n",
      "Generating Image Number: 16 for target class tensor([3]). Step 250, Loss: 1.4239169359207153\n",
      "Generating Image Number: 16 for target class tensor([3]). Step 300, Loss: 1.3189432621002197\n",
      "Generating Image Number: 16 for target class tensor([3]). Step 350, Loss: 1.2302662134170532\n",
      "Generating Image Number: 16 for target class tensor([3]). Step 400, Loss: 1.16129732131958\n",
      "Generating Image Number: 16 for target class tensor([3]). Step 450, Loss: 1.141618251800537\n",
      "Generating Image Number: 17 for target class tensor([3]). Step 0, Loss: 1.8774194717407227\n",
      "Generating Image Number: 17 for target class tensor([3]). Step 50, Loss: 0.6498717069625854\n",
      "Generating Image Number: 17 for target class tensor([3]). Step 100, Loss: 0.5164663791656494\n",
      "Generating Image Number: 17 for target class tensor([3]). Step 150, Loss: 0.4571036398410797\n",
      "Generating Image Number: 17 for target class tensor([3]). Step 200, Loss: 0.41132262349128723\n",
      "Generating Image Number: 17 for target class tensor([3]). Step 250, Loss: 0.3783760368824005\n",
      "Generating Image Number: 17 for target class tensor([3]). Step 300, Loss: 0.32345500588417053\n",
      "Generating Image Number: 17 for target class tensor([3]). Step 350, Loss: 0.2755306661128998\n",
      "Generating Image Number: 17 for target class tensor([3]). Step 400, Loss: 0.25165343284606934\n",
      "Generating Image Number: 17 for target class tensor([3]). Step 450, Loss: 0.23325593769550323\n",
      "Generating Image Number: 18 for target class tensor([3]). Step 0, Loss: 3.58280348777771\n",
      "Generating Image Number: 18 for target class tensor([3]). Step 50, Loss: 0.8293526768684387\n",
      "Generating Image Number: 18 for target class tensor([3]). Step 100, Loss: 0.5313025116920471\n",
      "Generating Image Number: 18 for target class tensor([3]). Step 150, Loss: 0.40428200364112854\n",
      "Generating Image Number: 18 for target class tensor([3]). Step 200, Loss: 0.3297160863876343\n",
      "Generating Image Number: 18 for target class tensor([3]). Step 250, Loss: 0.2513517737388611\n",
      "Generating Image Number: 18 for target class tensor([3]). Step 300, Loss: 0.21317745745182037\n",
      "Generating Image Number: 18 for target class tensor([3]). Step 350, Loss: 0.19053418934345245\n",
      "Generating Image Number: 18 for target class tensor([3]). Step 400, Loss: 0.17332716286182404\n",
      "Generating Image Number: 18 for target class tensor([3]). Step 450, Loss: 0.1572716385126114\n",
      "Generating Image Number: 19 for target class tensor([3]). Step 0, Loss: 3.2266194820404053\n",
      "Generating Image Number: 19 for target class tensor([3]). Step 50, Loss: 1.0155161619186401\n",
      "Generating Image Number: 19 for target class tensor([3]). Step 100, Loss: 0.9555754065513611\n",
      "Generating Image Number: 19 for target class tensor([3]). Step 150, Loss: 0.9155351519584656\n",
      "Generating Image Number: 19 for target class tensor([3]). Step 200, Loss: 0.8691724538803101\n",
      "Generating Image Number: 19 for target class tensor([3]). Step 250, Loss: 0.8193579316139221\n",
      "Generating Image Number: 19 for target class tensor([3]). Step 300, Loss: 0.7579187154769897\n",
      "Generating Image Number: 19 for target class tensor([3]). Step 350, Loss: 0.7009977102279663\n",
      "Generating Image Number: 19 for target class tensor([3]). Step 400, Loss: 0.6532278656959534\n",
      "Generating Image Number: 19 for target class tensor([3]). Step 450, Loss: 0.6127318143844604\n",
      "Generating Image Number: 20 for target class tensor([3]). Step 0, Loss: 3.130232810974121\n",
      "Generating Image Number: 20 for target class tensor([3]). Step 50, Loss: 0.7750139236450195\n",
      "Generating Image Number: 20 for target class tensor([3]). Step 100, Loss: 0.5443339347839355\n",
      "Generating Image Number: 20 for target class tensor([3]). Step 150, Loss: 0.575361967086792\n",
      "Generating Image Number: 20 for target class tensor([3]). Step 200, Loss: 1.6502618789672852\n",
      "Generating Image Number: 20 for target class tensor([3]). Step 250, Loss: 0.47813504934310913\n",
      "Generating Image Number: 20 for target class tensor([3]). Step 300, Loss: 0.43781381845474243\n",
      "Generating Image Number: 20 for target class tensor([3]). Step 350, Loss: 0.43039241433143616\n",
      "Generating Image Number: 20 for target class tensor([3]). Step 400, Loss: 0.42362236976623535\n",
      "Generating Image Number: 20 for target class tensor([3]). Step 450, Loss: 0.418811172246933\n"
     ]
    }
   ],
   "source": [
    "torch.manual_seed(300)\n",
    "latent_vectors = torch.randn(img_count, z_dim, 1, 1, requires_grad=True) # Start with 20 random noises\n",
    "class3_optimized_latent_vectors = recover_images(img_count, 3, latent_vectors)"
   ]
  },
  {
   "cell_type": "code",
   "execution_count": 24,
   "id": "ae6425a5-dd86-4e87-8112-883336345ac9",
   "metadata": {},
   "outputs": [],
   "source": [
    "z0_1 = class0_optimized_latent_vectors[0]\n",
    "z0_2 = class0_optimized_latent_vectors[1]\n",
    "z0_3 = class0_optimized_latent_vectors[2]"
   ]
  },
  {
   "cell_type": "code",
   "execution_count": 25,
   "id": "3a6ed4fb-b693-4963-afcf-17a512e50b5f",
   "metadata": {},
   "outputs": [
    {
     "name": "stdout",
     "output_type": "stream",
     "text": [
      "torch.Size([64, 64])\n"
     ]
    }
   ],
   "source": [
    "# Display the generated image\n",
    "img = gen(z0_1.to(device)).squeeze(dim=0).squeeze(dim=0)\n",
    "print(img.shape)"
   ]
  },
  {
   "cell_type": "code",
   "execution_count": 26,
   "id": "88fc9416-c6ca-486b-bd72-63885de78d1c",
   "metadata": {},
   "outputs": [
    {
     "data": {
      "text/plain": [
       "<matplotlib.image.AxesImage at 0x1cb4bc4ae20>"
      ]
     },
     "execution_count": 26,
     "metadata": {},
     "output_type": "execute_result"
    },
    {
     "data": {
      "image/png": "[encoded data removed]",
      "text/plain": [
       "<Figure size 640x480 with 1 Axes>"
      ]
     },
     "metadata": {},
     "output_type": "display_data"
    }
   ],
   "source": [
    "plt.axis(False)\n",
    "plt.title('Recovered Image:')\n",
    "plt.imshow(img.cpu().detach(), cmap='gray')"
   ]
  },
  {
   "cell_type": "code",
   "execution_count": 27,
   "id": "bb0fc370-78c5-495f-b1e7-1239873b4ff8",
   "metadata": {},
   "outputs": [],
   "source": [
    "z1 = class1_optimized_latent_vectors[0]\n",
    "z2 = class1_optimized_latent_vectors[1]\n",
    "z3 = class1_optimized_latent_vectors[2]"
   ]
  },
  {
   "cell_type": "code",
   "execution_count": 28,
   "id": "07f38b7d-14f6-4d63-9efa-cb96ec2e1d35",
   "metadata": {},
   "outputs": [
    {
     "name": "stdout",
     "output_type": "stream",
     "text": [
      "torch.Size([64, 64])\n"
     ]
    }
   ],
   "source": [
    "# Display the generated image\n",
    "img = gen(z1.to(device)).squeeze(dim=0).squeeze(dim=0)\n",
    "print(img.shape)"
   ]
  },
  {
   "cell_type": "code",
   "execution_count": 29,
   "id": "8cad57ff-7961-4078-9dd4-1e0b4879ff56",
   "metadata": {},
   "outputs": [
    {
     "data": {
      "text/plain": [
       "<matplotlib.image.AxesImage at 0x1cb4bdc3dc0>"
      ]
     },
     "execution_count": 29,
     "metadata": {},
     "output_type": "execute_result"
    },
    {
     "data": {
      "image/png": "[encoded data removed]",
      "text/plain": [
       "<Figure size 640x480 with 1 Axes>"
      ]
     },
     "metadata": {},
     "output_type": "display_data"
    }
   ],
   "source": [
    "plt.axis(False)\n",
    "plt.title('Recovered Image:')\n",
    "plt.imshow(img.cpu().detach(), cmap='gray')"
   ]
  },
  {
   "cell_type": "code",
   "execution_count": 30,
   "id": "52ecd67d-cb2d-44a3-b375-759d63db75b1",
   "metadata": {},
   "outputs": [],
   "source": [
    "                                                            # Dataset Loading\n",
    "# Load the .pkl files in as numpy arrays of pixels\n",
    "def load_tumor_data(file_path):\n",
    "    train_xs = []\n",
    "    train_ys = []\n",
    "    \"\"\" Load Digits Data from pickle data\n",
    "    return:\n",
    "    @xs: numpy.array, (n, c, w, h) \n",
    "    @ys: numpy.array, (n, ), 0-9\n",
    "    \"\"\"\n",
    "    with open(file_path, 'rb') as file:\n",
    "        data = pickle.load(file)\n",
    "        train_xs.append(data[\"data\"])\n",
    "        train_ys.append(data[\"labels\"])\n",
    "    train_xs = np.concatenate(train_xs, axis=0)\n",
    "    train_ys = np.concatenate(train_ys, axis=0)\n",
    "    \n",
    "    return train_xs, train_ys"
   ]
  },
  {
   "cell_type": "code",
   "execution_count": 31,
   "id": "ca72f62f-1eec-4b17-a8ce-fd66781f64f6",
   "metadata": {},
   "outputs": [],
   "source": [
    "# Custom Tumor Dataset\n",
    "class TumorDataset(data.Dataset):\n",
    "    def __init__(self, xs, ys, is_train=True):\n",
    "        self.xs = xs\n",
    "        self.ys = ys\n",
    "\n",
    "        if is_train is True:\n",
    "            self.transform = transforms.Compose([\n",
    "                transforms.ToPILImage(),\n",
    "                transforms.Resize((64, 64)),\n",
    "                transforms.ToTensor(),\n",
    "                transforms.Normalize(\n",
    "                    [0.5],\n",
    "                    [0.5]\n",
    "                )\n",
    "            ])\n",
    "        else:\n",
    "            self.transform = transforms.Compose([\n",
    "                transforms.ToPILImage(),\n",
    "                transforms.Resize((64, 64)),\n",
    "                transforms.ToTensor(),\n",
    "                transforms.Normalize(\n",
    "                    (0.4914, 0.4822, 0.4465),\n",
    "                    (0.2023, 0.1994, 0.2010)\n",
    "                )\n",
    "            ])\n",
    "\n",
    "    def __len__(self):\n",
    "        return len(self.xs)\n",
    "\n",
    "    def __getitem__(self, index):\n",
    "        img = self.xs[index]\n",
    "        #print(img.shape)\n",
    "        label = self.ys[index]\n",
    "\n",
    "        img = img.transpose((1, 2, 0)).astype(np.uint8)\n",
    "        img = self.transform(img)\n",
    "\n",
    "        img = torch.FloatTensor(img)\n",
    "        label = torch.LongTensor([label])[0]\n",
    "        return img, label"
   ]
  },
  {
   "cell_type": "code",
   "execution_count": 32,
   "id": "ceb91588-ef69-4373-b33f-74aed6c246bb",
   "metadata": {},
   "outputs": [],
   "source": [
    "def create_dataset(train_xs, train_ys):\n",
    "    tumor_dataset = TumorDataset(train_xs, train_ys, is_train=True)\n",
    "\n",
    "    return tumor_dataset"
   ]
  },
  {
   "cell_type": "code",
   "execution_count": 33,
   "id": "0415fba0-830c-42c6-bbde-c6958e779fbb",
   "metadata": {},
   "outputs": [],
   "source": [
    "def create_dataloader(dataset):\n",
    "    dataloader = DataLoader(dataset=dataset, batch_size=128, shuffle=True)\n",
    "\n",
    "    return dataloader"
   ]
  },
  {
   "cell_type": "code",
   "execution_count": 34,
   "id": "726d4995-5133-4037-ab0e-f2705470cdc9",
   "metadata": {},
   "outputs": [
    {
     "name": "stdout",
     "output_type": "stream",
     "text": [
      "(13927, 1, 32, 32)\n",
      "<class 'numpy.ndarray'>\n"
     ]
    }
   ],
   "source": [
    "# Load in the pickle dataset file\n",
    "train_xs, train_ys = load_tumor_data('datasets/Tumor/tumor4train.pkl')\n",
    "#train_xs = train_xs[:, 1, :, :]\n",
    "#train_xs = np.expand_dims(train_xs, axis=1)\n",
    "train_xs = train_xs.mean(axis=1, keepdims=True)\n",
    "print(train_xs.shape)\n",
    "print(type(train_xs))"
   ]
  },
  {
   "cell_type": "code",
   "execution_count": 35,
   "id": "a684b01a-eb4a-4210-9f59-d613085a404a",
   "metadata": {},
   "outputs": [],
   "source": [
    "# Create the dataset\n",
    "tumor_dataset = create_dataset(train_xs, train_ys)"
   ]
  },
  {
   "cell_type": "code",
   "execution_count": 36,
   "id": "193f07cc-d34f-425e-aa08-62b6d6adbad6",
   "metadata": {},
   "outputs": [],
   "source": [
    "def visualize_image(image_x):\n",
    "    # We have to visualize by reverting the normalization (just for visualization).\n",
    "    mean = torch.tensor([0.5])\n",
    "    std = torch.tensor([0.5])\n",
    "\n",
    "    image = image_x * std + mean  # Denormalize the image\n",
    "\n",
    "    image = torch.clamp(image, 0, 1) # Clip values to [0, 1] to ensure valid range for display\n",
    "\n",
    "    # Permute the image to (H, W, C) for matplotlib\n",
    "    \n",
    "    image = image.permute(1, 2, 0)\n",
    "\n",
    "    plt.imshow(image, cmap='gray')"
   ]
  },
  {
   "cell_type": "code",
   "execution_count": 37,
   "id": "16e93c17-a89b-46a2-8198-71e66e370f4f",
   "metadata": {},
   "outputs": [
    {
     "name": "stdout",
     "output_type": "stream",
     "text": [
      "torch.Size([1, 64, 64])\n"
     ]
    },
    {
     "data": {
      "image/png": "[encoded data removed]",
      "text/plain": [
       "<Figure size 640x480 with 1 Axes>"
      ]
     },
     "metadata": {},
     "output_type": "display_data"
    }
   ],
   "source": [
    "# Visualize the first tumor sample. \n",
    "image_x, image_y = tumor_dataset[7000]\n",
    "print(image_x.shape)\n",
    "visualize_image(image_x)"
   ]
  },
  {
   "cell_type": "code",
   "execution_count": 38,
   "id": "60e2da47-7cb6-493e-aeda-aa80d7965de7",
   "metadata": {},
   "outputs": [],
   "source": [
    "from scipy.spatial.distance import cosine"
   ]
  },
  {
   "cell_type": "code",
   "execution_count": 39,
   "id": "5a7937e5-b808-4b3e-8288-75dcd9862340",
   "metadata": {},
   "outputs": [],
   "source": [
    "# Get the feature embeddings\n",
    "tfcnn_model = target_model = load_target_model(base_net='TFCNN', n_classes=4, path='saved models/fedavg_global_model.pth').to(device)\n",
    "model_embeddings = tfcnn_model.encoder.to(device)"
   ]
  },
  {
   "cell_type": "code",
   "execution_count": 40,
   "id": "737e3d92-45b6-45f6-9bf2-d51f379d6ac8",
   "metadata": {},
   "outputs": [],
   "source": [
    "# Preprocessing\n",
    "preprocess = transforms.Compose([\n",
    "    transforms.Resize(256),\n",
    "    transforms.CenterCrop(224),\n",
    "    transforms.ToTensor(),\n",
    "])"
   ]
  },
  {
   "cell_type": "code",
   "execution_count": 41,
   "id": "babb1015-bdfb-439b-bea1-81f9f50dd74e",
   "metadata": {},
   "outputs": [],
   "source": [
    "def get_feature(img):\n",
    "    with torch.no_grad():\n",
    "        features = model_embeddings(img).squeeze()\n",
    "    return features.cpu().numpy()"
   ]
  },
  {
   "cell_type": "code",
   "execution_count": 42,
   "id": "79f38654-6670-440d-a322-b2cae18a71d8",
   "metadata": {},
   "outputs": [
    {
     "data": {
      "text/plain": [
       "torch.Size([1, 64, 64])"
      ]
     },
     "execution_count": 42,
     "metadata": {},
     "output_type": "execute_result"
    }
   ],
   "source": [
    "# Send an original image through the model\n",
    "image_x, image_y = tumor_dataset[10]\n",
    "image_x.shape"
   ]
  },
  {
   "cell_type": "code",
   "execution_count": 43,
   "id": "a4a2659e-dcaa-4d4a-b5a5-06b363ce6534",
   "metadata": {},
   "outputs": [],
   "source": [
    "image_x = image_x.unsqueeze(dim=0)"
   ]
  },
  {
   "cell_type": "code",
   "execution_count": 44,
   "id": "14348bfc-5988-48f0-88cf-4761d7a99d89",
   "metadata": {},
   "outputs": [
    {
     "data": {
      "text/plain": [
       "torch.Size([1, 1, 64, 64])"
      ]
     },
     "execution_count": 44,
     "metadata": {},
     "output_type": "execute_result"
    }
   ],
   "source": [
    "image_x.shape"
   ]
  },
  {
   "cell_type": "code",
   "execution_count": 45,
   "id": "66160253-9543-4aba-bb81-031d51ef9623",
   "metadata": {},
   "outputs": [
    {
     "data": {
      "text/plain": [
       "torch.Size([1, 3, 64, 64])"
      ]
     },
     "execution_count": 45,
     "metadata": {},
     "output_type": "execute_result"
    }
   ],
   "source": [
    "image_x = image_x.repeat(1, 3, 1, 1)\n",
    "image_x = image_x.to(device)\n",
    "image_x.shape"
   ]
  },
  {
   "cell_type": "code",
   "execution_count": 46,
   "id": "f615c7d3-2dab-425d-81e1-2595ec59e230",
   "metadata": {},
   "outputs": [
    {
     "data": {
      "text/plain": [
       "(4096,)"
      ]
     },
     "execution_count": 46,
     "metadata": {},
     "output_type": "execute_result"
    }
   ],
   "source": [
    "features = get_feature(image_x)\n",
    "features.shape"
   ]
  },
  {
   "cell_type": "code",
   "execution_count": 47,
   "id": "31b9ddc9-3fc8-4a47-bfc7-74a6df27d672",
   "metadata": {},
   "outputs": [],
   "source": [
    "class0_original_images = []\n",
    "class1_original_images = []\n",
    "class2_original_images = []\n",
    "class3_original_images = []\n",
    "target_num = 1200 # 20 images for each class"
   ]
  },
  {
   "cell_type": "code",
   "execution_count": 48,
   "id": "e804c948-2dc8-41df-a633-113300baf12a",
   "metadata": {},
   "outputs": [],
   "source": [
    "for i in range(len(tumor_dataset)):\n",
    "    img_x, img_y = tumor_dataset[i]\n",
    "\n",
    "    if img_y == 0:\n",
    "        if len(class0_original_images) < target_num:\n",
    "            class0_original_images.append(img_x)\n",
    "    elif img_y == 1:\n",
    "        if len(class1_original_images) < target_num:\n",
    "            class1_original_images.append(img_x)\n",
    "    elif img_y == 2:\n",
    "        if len(class2_original_images) < target_num:\n",
    "            class2_original_images.append(img_x)\n",
    "    elif img_y == 3:\n",
    "        if len(class3_original_images) < target_num:\n",
    "            class3_original_images.append(img_x)"
   ]
  },
  {
   "cell_type": "code",
   "execution_count": 49,
   "id": "ef07c896-c4cd-48da-9e59-c9d7bd90a4e8",
   "metadata": {},
   "outputs": [
    {
     "data": {
      "text/plain": [
       "1200"
      ]
     },
     "execution_count": 49,
     "metadata": {},
     "output_type": "execute_result"
    }
   ],
   "source": [
    "len(class3_original_images)"
   ]
  },
  {
   "cell_type": "code",
   "execution_count": 50,
   "id": "e102404a-68a3-40c5-99a7-45813eb87f20",
   "metadata": {},
   "outputs": [
    {
     "data": {
      "text/plain": [
       "torch.Size([1, 3, 64, 64])"
      ]
     },
     "execution_count": 50,
     "metadata": {},
     "output_type": "execute_result"
    }
   ],
   "source": [
    "# Testing the cosine similarity\n",
    "class1_original_image = class1_original_images[8]\n",
    "class1_original_image = class1_original_image.unsqueeze(dim=0).to(device)\n",
    "class1_original_image = class1_original_image.repeat(1, 3, 1, 1)\n",
    "class1_original_image.shape"
   ]
  },
  {
   "cell_type": "code",
   "execution_count": 51,
   "id": "cb5d6c11-d86e-4f1d-9777-760a500837a9",
   "metadata": {},
   "outputs": [
    {
     "name": "stdout",
     "output_type": "stream",
     "text": [
      "torch.Size([1, 64, 64])\n"
     ]
    },
    {
     "data": {
      "image/png": "[encoded data removed]",
      "text/plain": [
       "<Figure size 640x480 with 1 Axes>"
      ]
     },
     "metadata": {},
     "output_type": "display_data"
    }
   ],
   "source": [
    "original = class3_original_images[217]\n",
    "print(original.shape)\n",
    "visualize_image(original)"
   ]
  },
  {
   "cell_type": "code",
   "execution_count": 52,
   "id": "9d014fe7-6e9a-48dd-8fd7-8f78f4410d8c",
   "metadata": {},
   "outputs": [
    {
     "name": "stdout",
     "output_type": "stream",
     "text": [
      "torch.Size([1, 64, 64])\n"
     ]
    },
    {
     "data": {
      "image/png": "[encoded data removed]",
      "text/plain": [
       "<Figure size 640x480 with 1 Axes>"
      ]
     },
     "metadata": {},
     "output_type": "display_data"
    }
   ],
   "source": [
    "fake = class0_optimized_latent_vectors[6]\n",
    "fake_img = gen(fake.to(device)).squeeze(dim=0)\n",
    "print(fake_img.shape)\n",
    "visualize_image(fake_img.detach().cpu())"
   ]
  },
  {
   "cell_type": "code",
   "execution_count": 53,
   "id": "d7fe9c85-2c83-4580-be7d-32833b706948",
   "metadata": {},
   "outputs": [],
   "source": [
    "fake1 = class1_optimized_latent_vectors[8]\n",
    "fake1_image = gen(fake1.to(device))\n",
    "fake1_image = fake1_image.repeat(1, 3, 1, 1)"
   ]
  },
  {
   "cell_type": "code",
   "execution_count": 54,
   "id": "74647152-cdcb-4593-a88f-d3ac43fd97d3",
   "metadata": {},
   "outputs": [
    {
     "data": {
      "text/plain": [
       "torch.Size([1, 3, 64, 64])"
      ]
     },
     "execution_count": 54,
     "metadata": {},
     "output_type": "execute_result"
    }
   ],
   "source": [
    "fake1_image.shape"
   ]
  },
  {
   "cell_type": "code",
   "execution_count": 55,
   "id": "e88f6396-0ef2-45f5-96e0-6048be01af25",
   "metadata": {},
   "outputs": [],
   "source": [
    "# Get the features of the images\n",
    "features_original = get_feature(class1_original_image)\n",
    "features_fake = get_feature(fake1_image)"
   ]
  },
  {
   "cell_type": "code",
   "execution_count": 56,
   "id": "b54e2bca-5f2b-41ea-b810-15d1f9d30f86",
   "metadata": {},
   "outputs": [],
   "source": [
    "# Compute cosine similarity\n",
    "similarity = 1 - cosine(features_original, features_fake)"
   ]
  },
  {
   "cell_type": "code",
   "execution_count": 57,
   "id": "983c7e35-27ee-453c-9356-cb9a84fdd4a3",
   "metadata": {},
   "outputs": [
    {
     "data": {
      "text/plain": [
       "np.float32(0.5529357)"
      ]
     },
     "execution_count": 57,
     "metadata": {},
     "output_type": "execute_result"
    }
   ],
   "source": [
    "similarity"
   ]
  },
  {
   "cell_type": "code",
   "execution_count": 58,
   "id": "e65e04e8-52b7-4cf2-876c-d9b07a435ec9",
   "metadata": {},
   "outputs": [],
   "source": [
    "def calculate_class0_sim():\n",
    "    similarities = []\n",
    "    for i in range(0, 20):\n",
    "        class0_original = class0_original_images[i].unsqueeze(dim=0).to(device)\n",
    "        class0_original = class0_original.repeat(1, 3, 1, 1)\n",
    "\n",
    "        class0_fake = class0_optimized_latent_vectors[i]\n",
    "        class0_fake_img = gen(class0_fake.to(device))\n",
    "        class0_fake_img = class0_fake_img.repeat(1, 3, 1, 1)\n",
    "\n",
    "        features_original = get_feature(class0_original)\n",
    "        features_fake = get_feature(class0_fake_img)\n",
    "\n",
    "        cosine_similarity = 1 - cosine(features_original, features_fake)\n",
    "\n",
    "        similarities.append(cosine_similarity)\n",
    "        \n",
    "    return similarities"
   ]
  },
  {
   "cell_type": "code",
   "execution_count": 59,
   "id": "10d8f579-0b80-4157-b59b-7b92be9e52f2",
   "metadata": {},
   "outputs": [],
   "source": [
    "def calculate_class1_sim():\n",
    "    similarities = []\n",
    "    for i in range(0, 20):\n",
    "        class1_original = class1_original_images[i].unsqueeze(dim=0).to(device)\n",
    "        class1_original = class1_original.repeat(1, 3, 1, 1)\n",
    "\n",
    "        class1_fake = class1_optimized_latent_vectors[i]\n",
    "        class1_fake_img = gen(class1_fake.to(device))\n",
    "        class1_fake_img = class1_fake_img.repeat(1, 3, 1, 1)\n",
    "\n",
    "        features_original = get_feature(class1_original)\n",
    "        features_fake = get_feature(class1_fake_img)\n",
    "\n",
    "        cosine_similarity = 1 - cosine(features_original, features_fake)\n",
    "        similarities.append(cosine_similarity)\n",
    "\n",
    "    return similarities"
   ]
  },
  {
   "cell_type": "code",
   "execution_count": 60,
   "id": "1bbdc999-fa6d-4005-b785-3c54a7bd89ee",
   "metadata": {},
   "outputs": [],
   "source": [
    "def calculate_class2_sim():\n",
    "    similarities = []\n",
    "    for i in range(0, 20):\n",
    "        class2_original = class2_original_images[i].unsqueeze(dim=0).to(device)\n",
    "        class2_original = class2_original.repeat(1, 3, 1, 1)\n",
    "\n",
    "        class2_fake = class2_optimized_latent_vectors[i]\n",
    "        class2_fake_img = gen(class2_fake.to(device))\n",
    "        class2_fake_img = class2_fake_img.repeat(1, 3, 1, 1)\n",
    "\n",
    "        features_original = get_feature(class2_original)\n",
    "        features_fake = get_feature(class2_fake_img)\n",
    "\n",
    "        cosine_similarity = 1 - cosine(features_original, features_fake)\n",
    "        similarities.append(cosine_similarity)\n",
    "\n",
    "    return similarities"
   ]
  },
  {
   "cell_type": "code",
   "execution_count": 61,
   "id": "33cb8de1-5a87-4dd4-8fc2-d3f27d6ddc9a",
   "metadata": {},
   "outputs": [],
   "source": [
    "def calculate_class3_sim():\n",
    "    similarities = []\n",
    "    for i in range(0, 20):\n",
    "        class3_original = class3_original_images[i].unsqueeze(dim=0).to(device)\n",
    "        class3_original = class3_original.repeat(1, 3, 1, 1)\n",
    "\n",
    "        class3_fake = class3_optimized_latent_vectors[i]\n",
    "        class3_fake_img = gen(class3_fake.to(device))\n",
    "        class3_fake_img = class3_fake_img.repeat(1, 3, 1, 1)\n",
    "\n",
    "        features_original = get_feature(class3_original)\n",
    "        features_fake = get_feature(class3_fake_img)\n",
    "\n",
    "        cosine_similarity = 1 - cosine(features_original, features_fake)\n",
    "        similarities.append(cosine_similarity)\n",
    "\n",
    "    return similarities"
   ]
  },
  {
   "cell_type": "code",
   "execution_count": 62,
   "id": "7868f175-5845-4ee4-b4cf-1c89513375ec",
   "metadata": {},
   "outputs": [],
   "source": [
    "class0_sims = calculate_class0_sim()\n",
    "class1_sims = calculate_class0_sim()\n",
    "class2_sims = calculate_class0_sim()\n",
    "class3_sims = calculate_class0_sim()"
   ]
  },
  {
   "cell_type": "code",
   "execution_count": 63,
   "id": "bbf4597d-a583-4204-a3ce-9085936e0189",
   "metadata": {},
   "outputs": [
    {
     "data": {
      "text/plain": [
       "[np.float32(0.7953137),\n",
       " np.float32(0.6511182),\n",
       " np.float32(0.67917293),\n",
       " np.float32(0.6910813),\n",
       " np.float32(0.73951185),\n",
       " np.float32(0.4467891),\n",
       " np.float32(0.7195373),\n",
       " np.float32(0.6811269),\n",
       " np.float32(0.7627879),\n",
       " np.float32(0.81538403),\n",
       " np.float32(0.73391044),\n",
       " np.float32(0.7943482),\n",
       " np.float32(0.6005994),\n",
       " np.float32(0.44134295),\n",
       " np.float32(0.7325358),\n",
       " np.float32(0.63228506),\n",
       " np.float32(0.7495041),\n",
       " np.float32(0.64623964),\n",
       " np.float32(0.8399524),\n",
       " np.float32(0.8045906)]"
      ]
     },
     "execution_count": 63,
     "metadata": {},
     "output_type": "execute_result"
    }
   ],
   "source": [
    "class0_sims"
   ]
  },
  {
   "cell_type": "code",
   "execution_count": 64,
   "id": "acb9d480-a58f-4ce6-8973-eb9c8d6e7253",
   "metadata": {},
   "outputs": [
    {
     "data": {
      "text/plain": [
       "[np.float32(0.79531384),\n",
       " np.float32(0.65111786),\n",
       " np.float32(0.67917293),\n",
       " np.float32(0.69108117),\n",
       " np.float32(0.73951185),\n",
       " np.float32(0.4467891),\n",
       " np.float32(0.71953696),\n",
       " np.float32(0.6811269),\n",
       " np.float32(0.762788),\n",
       " np.float32(0.81538403),\n",
       " np.float32(0.73390734),\n",
       " np.float32(0.7943482),\n",
       " np.float32(0.6005994),\n",
       " np.float32(0.44134295),\n",
       " np.float32(0.7325353),\n",
       " np.float32(0.6322851),\n",
       " np.float32(0.7495039),\n",
       " np.float32(0.64623964),\n",
       " np.float32(0.8399524),\n",
       " np.float32(0.8045907)]"
      ]
     },
     "execution_count": 64,
     "metadata": {},
     "output_type": "execute_result"
    }
   ],
   "source": [
    "class3_sims"
   ]
  },
  {
   "cell_type": "code",
   "execution_count": 65,
   "id": "58dc103d-1c30-473a-adc3-fcd5ca5100a0",
   "metadata": {},
   "outputs": [
    {
     "ename": "FileNotFoundError",
     "evalue": "[Errno 2] No such file or directory: 'output/fedvg.png'",
     "output_type": "error",
     "traceback": [
      "\u001b[1;31m---------------------------------------------------------------------------\u001b[0m",
      "\u001b[1;31mFileNotFoundError\u001b[0m                         Traceback (most recent call last)",
      "Cell \u001b[1;32mIn[65], line 43\u001b[0m\n\u001b[0;32m     41\u001b[0m plt\u001b[38;5;241m.\u001b[39mtight_layout()\n\u001b[0;32m     42\u001b[0m \u001b[38;5;66;03m# Save the plot to a file\u001b[39;00m\n\u001b[1;32m---> 43\u001b[0m \u001b[43mplt\u001b[49m\u001b[38;5;241;43m.\u001b[39;49m\u001b[43msavefig\u001b[49m\u001b[43m(\u001b[49m\u001b[38;5;124;43m'\u001b[39;49m\u001b[38;5;124;43moutput/fedvg.png\u001b[39;49m\u001b[38;5;124;43m'\u001b[39;49m\u001b[43m,\u001b[49m\u001b[43m \u001b[49m\u001b[43mdpi\u001b[49m\u001b[38;5;241;43m=\u001b[39;49m\u001b[38;5;241;43m300\u001b[39;49m\u001b[43m,\u001b[49m\u001b[43m \u001b[49m\u001b[43mbbox_inches\u001b[49m\u001b[38;5;241;43m=\u001b[39;49m\u001b[38;5;124;43m'\u001b[39;49m\u001b[38;5;124;43mtight\u001b[39;49m\u001b[38;5;124;43m'\u001b[39;49m\u001b[43m)\u001b[49m  \u001b[38;5;66;03m# Save as a PNG file with high resolution\u001b[39;00m\n\u001b[0;32m     45\u001b[0m \u001b[38;5;66;03m# Show the plot\u001b[39;00m\n\u001b[0;32m     46\u001b[0m plt\u001b[38;5;241m.\u001b[39mshow()\n",
      "File \u001b[1;32m~\\AppData\\Local\\Programs\\Python\\Python39\\lib\\site-packages\\matplotlib\\pyplot.py:1228\u001b[0m, in \u001b[0;36msavefig\u001b[1;34m(*args, **kwargs)\u001b[0m\n\u001b[0;32m   1225\u001b[0m fig \u001b[38;5;241m=\u001b[39m gcf()\n\u001b[0;32m   1226\u001b[0m \u001b[38;5;66;03m# savefig default implementation has no return, so mypy is unhappy\u001b[39;00m\n\u001b[0;32m   1227\u001b[0m \u001b[38;5;66;03m# presumably this is here because subclasses can return?\u001b[39;00m\n\u001b[1;32m-> 1228\u001b[0m res \u001b[38;5;241m=\u001b[39m fig\u001b[38;5;241m.\u001b[39msavefig(\u001b[38;5;241m*\u001b[39margs, \u001b[38;5;241m*\u001b[39m\u001b[38;5;241m*\u001b[39mkwargs)  \u001b[38;5;66;03m# type: ignore[func-returns-value]\u001b[39;00m\n\u001b[0;32m   1229\u001b[0m fig\u001b[38;5;241m.\u001b[39mcanvas\u001b[38;5;241m.\u001b[39mdraw_idle()  \u001b[38;5;66;03m# Need this if 'transparent=True', to reset colors.\u001b[39;00m\n\u001b[0;32m   1230\u001b[0m \u001b[38;5;28;01mreturn\u001b[39;00m res\n",
      "File \u001b[1;32m~\\AppData\\Local\\Programs\\Python\\Python39\\lib\\site-packages\\matplotlib\\figure.py:3395\u001b[0m, in \u001b[0;36mFigure.savefig\u001b[1;34m(self, fname, transparent, **kwargs)\u001b[0m\n\u001b[0;32m   3393\u001b[0m     \u001b[38;5;28;01mfor\u001b[39;00m ax \u001b[38;5;129;01min\u001b[39;00m \u001b[38;5;28mself\u001b[39m\u001b[38;5;241m.\u001b[39maxes:\n\u001b[0;32m   3394\u001b[0m         _recursively_make_axes_transparent(stack, ax)\n\u001b[1;32m-> 3395\u001b[0m \u001b[38;5;28mself\u001b[39m\u001b[38;5;241m.\u001b[39mcanvas\u001b[38;5;241m.\u001b[39mprint_figure(fname, \u001b[38;5;241m*\u001b[39m\u001b[38;5;241m*\u001b[39mkwargs)\n",
      "File \u001b[1;32m~\\AppData\\Local\\Programs\\Python\\Python39\\lib\\site-packages\\matplotlib\\backend_bases.py:2204\u001b[0m, in \u001b[0;36mFigureCanvasBase.print_figure\u001b[1;34m(self, filename, dpi, facecolor, edgecolor, orientation, format, bbox_inches, pad_inches, bbox_extra_artists, backend, **kwargs)\u001b[0m\n\u001b[0;32m   2200\u001b[0m \u001b[38;5;28;01mtry\u001b[39;00m:\n\u001b[0;32m   2201\u001b[0m     \u001b[38;5;66;03m# _get_renderer may change the figure dpi (as vector formats\u001b[39;00m\n\u001b[0;32m   2202\u001b[0m     \u001b[38;5;66;03m# force the figure dpi to 72), so we need to set it again here.\u001b[39;00m\n\u001b[0;32m   2203\u001b[0m     \u001b[38;5;28;01mwith\u001b[39;00m cbook\u001b[38;5;241m.\u001b[39m_setattr_cm(\u001b[38;5;28mself\u001b[39m\u001b[38;5;241m.\u001b[39mfigure, dpi\u001b[38;5;241m=\u001b[39mdpi):\n\u001b[1;32m-> 2204\u001b[0m         result \u001b[38;5;241m=\u001b[39m print_method(\n\u001b[0;32m   2205\u001b[0m             filename,\n\u001b[0;32m   2206\u001b[0m             facecolor\u001b[38;5;241m=\u001b[39mfacecolor,\n\u001b[0;32m   2207\u001b[0m             edgecolor\u001b[38;5;241m=\u001b[39medgecolor,\n\u001b[0;32m   2208\u001b[0m             orientation\u001b[38;5;241m=\u001b[39morientation,\n\u001b[0;32m   2209\u001b[0m             bbox_inches_restore\u001b[38;5;241m=\u001b[39m_bbox_inches_restore,\n\u001b[0;32m   2210\u001b[0m             \u001b[38;5;241m*\u001b[39m\u001b[38;5;241m*\u001b[39mkwargs)\n\u001b[0;32m   2211\u001b[0m \u001b[38;5;28;01mfinally\u001b[39;00m:\n\u001b[0;32m   2212\u001b[0m     \u001b[38;5;28;01mif\u001b[39;00m bbox_inches \u001b[38;5;129;01mand\u001b[39;00m restore_bbox:\n",
      "File \u001b[1;32m~\\AppData\\Local\\Programs\\Python\\Python39\\lib\\site-packages\\matplotlib\\backend_bases.py:2054\u001b[0m, in \u001b[0;36mFigureCanvasBase._switch_canvas_and_return_print_method.<locals>.<lambda>\u001b[1;34m(*args, **kwargs)\u001b[0m\n\u001b[0;32m   2050\u001b[0m     optional_kws \u001b[38;5;241m=\u001b[39m {  \u001b[38;5;66;03m# Passed by print_figure for other renderers.\u001b[39;00m\n\u001b[0;32m   2051\u001b[0m         \u001b[38;5;124m\"\u001b[39m\u001b[38;5;124mdpi\u001b[39m\u001b[38;5;124m\"\u001b[39m, \u001b[38;5;124m\"\u001b[39m\u001b[38;5;124mfacecolor\u001b[39m\u001b[38;5;124m\"\u001b[39m, \u001b[38;5;124m\"\u001b[39m\u001b[38;5;124medgecolor\u001b[39m\u001b[38;5;124m\"\u001b[39m, \u001b[38;5;124m\"\u001b[39m\u001b[38;5;124morientation\u001b[39m\u001b[38;5;124m\"\u001b[39m,\n\u001b[0;32m   2052\u001b[0m         \u001b[38;5;124m\"\u001b[39m\u001b[38;5;124mbbox_inches_restore\u001b[39m\u001b[38;5;124m\"\u001b[39m}\n\u001b[0;32m   2053\u001b[0m     skip \u001b[38;5;241m=\u001b[39m optional_kws \u001b[38;5;241m-\u001b[39m {\u001b[38;5;241m*\u001b[39minspect\u001b[38;5;241m.\u001b[39msignature(meth)\u001b[38;5;241m.\u001b[39mparameters}\n\u001b[1;32m-> 2054\u001b[0m     print_method \u001b[38;5;241m=\u001b[39m functools\u001b[38;5;241m.\u001b[39mwraps(meth)(\u001b[38;5;28;01mlambda\u001b[39;00m \u001b[38;5;241m*\u001b[39margs, \u001b[38;5;241m*\u001b[39m\u001b[38;5;241m*\u001b[39mkwargs: meth(\n\u001b[0;32m   2055\u001b[0m         \u001b[38;5;241m*\u001b[39margs, \u001b[38;5;241m*\u001b[39m\u001b[38;5;241m*\u001b[39m{k: v \u001b[38;5;28;01mfor\u001b[39;00m k, v \u001b[38;5;129;01min\u001b[39;00m kwargs\u001b[38;5;241m.\u001b[39mitems() \u001b[38;5;28;01mif\u001b[39;00m k \u001b[38;5;129;01mnot\u001b[39;00m \u001b[38;5;129;01min\u001b[39;00m skip}))\n\u001b[0;32m   2056\u001b[0m \u001b[38;5;28;01melse\u001b[39;00m:  \u001b[38;5;66;03m# Let third-parties do as they see fit.\u001b[39;00m\n\u001b[0;32m   2057\u001b[0m     print_method \u001b[38;5;241m=\u001b[39m meth\n",
      "File \u001b[1;32m~\\AppData\\Local\\Programs\\Python\\Python39\\lib\\site-packages\\matplotlib\\backends\\backend_agg.py:496\u001b[0m, in \u001b[0;36mFigureCanvasAgg.print_png\u001b[1;34m(self, filename_or_obj, metadata, pil_kwargs)\u001b[0m\n\u001b[0;32m    449\u001b[0m \u001b[38;5;28;01mdef\u001b[39;00m\u001b[38;5;250m \u001b[39m\u001b[38;5;21mprint_png\u001b[39m(\u001b[38;5;28mself\u001b[39m, filename_or_obj, \u001b[38;5;241m*\u001b[39m, metadata\u001b[38;5;241m=\u001b[39m\u001b[38;5;28;01mNone\u001b[39;00m, pil_kwargs\u001b[38;5;241m=\u001b[39m\u001b[38;5;28;01mNone\u001b[39;00m):\n\u001b[0;32m    450\u001b[0m \u001b[38;5;250m    \u001b[39m\u001b[38;5;124;03m\"\"\"\u001b[39;00m\n\u001b[0;32m    451\u001b[0m \u001b[38;5;124;03m    Write the figure to a PNG file.\u001b[39;00m\n\u001b[0;32m    452\u001b[0m \n\u001b[1;32m   (...)\u001b[0m\n\u001b[0;32m    494\u001b[0m \u001b[38;5;124;03m        *metadata*, including the default 'Software' key.\u001b[39;00m\n\u001b[0;32m    495\u001b[0m \u001b[38;5;124;03m    \"\"\"\u001b[39;00m\n\u001b[1;32m--> 496\u001b[0m     \u001b[38;5;28;43mself\u001b[39;49m\u001b[38;5;241;43m.\u001b[39;49m\u001b[43m_print_pil\u001b[49m\u001b[43m(\u001b[49m\u001b[43mfilename_or_obj\u001b[49m\u001b[43m,\u001b[49m\u001b[43m \u001b[49m\u001b[38;5;124;43m\"\u001b[39;49m\u001b[38;5;124;43mpng\u001b[39;49m\u001b[38;5;124;43m\"\u001b[39;49m\u001b[43m,\u001b[49m\u001b[43m \u001b[49m\u001b[43mpil_kwargs\u001b[49m\u001b[43m,\u001b[49m\u001b[43m \u001b[49m\u001b[43mmetadata\u001b[49m\u001b[43m)\u001b[49m\n",
      "File \u001b[1;32m~\\AppData\\Local\\Programs\\Python\\Python39\\lib\\site-packages\\matplotlib\\backends\\backend_agg.py:445\u001b[0m, in \u001b[0;36mFigureCanvasAgg._print_pil\u001b[1;34m(self, filename_or_obj, fmt, pil_kwargs, metadata)\u001b[0m\n\u001b[0;32m    440\u001b[0m \u001b[38;5;250m\u001b[39m\u001b[38;5;124;03m\"\"\"\u001b[39;00m\n\u001b[0;32m    441\u001b[0m \u001b[38;5;124;03mDraw the canvas, then save it using `.image.imsave` (to which\u001b[39;00m\n\u001b[0;32m    442\u001b[0m \u001b[38;5;124;03m*pil_kwargs* and *metadata* are forwarded).\u001b[39;00m\n\u001b[0;32m    443\u001b[0m \u001b[38;5;124;03m\"\"\"\u001b[39;00m\n\u001b[0;32m    444\u001b[0m FigureCanvasAgg\u001b[38;5;241m.\u001b[39mdraw(\u001b[38;5;28mself\u001b[39m)\n\u001b[1;32m--> 445\u001b[0m \u001b[43mmpl\u001b[49m\u001b[38;5;241;43m.\u001b[39;49m\u001b[43mimage\u001b[49m\u001b[38;5;241;43m.\u001b[39;49m\u001b[43mimsave\u001b[49m\u001b[43m(\u001b[49m\n\u001b[0;32m    446\u001b[0m \u001b[43m    \u001b[49m\u001b[43mfilename_or_obj\u001b[49m\u001b[43m,\u001b[49m\u001b[43m \u001b[49m\u001b[38;5;28;43mself\u001b[39;49m\u001b[38;5;241;43m.\u001b[39;49m\u001b[43mbuffer_rgba\u001b[49m\u001b[43m(\u001b[49m\u001b[43m)\u001b[49m\u001b[43m,\u001b[49m\u001b[43m \u001b[49m\u001b[38;5;28;43mformat\u001b[39;49m\u001b[38;5;241;43m=\u001b[39;49m\u001b[43mfmt\u001b[49m\u001b[43m,\u001b[49m\u001b[43m \u001b[49m\u001b[43morigin\u001b[49m\u001b[38;5;241;43m=\u001b[39;49m\u001b[38;5;124;43m\"\u001b[39;49m\u001b[38;5;124;43mupper\u001b[39;49m\u001b[38;5;124;43m\"\u001b[39;49m\u001b[43m,\u001b[49m\n\u001b[0;32m    447\u001b[0m \u001b[43m    \u001b[49m\u001b[43mdpi\u001b[49m\u001b[38;5;241;43m=\u001b[39;49m\u001b[38;5;28;43mself\u001b[39;49m\u001b[38;5;241;43m.\u001b[39;49m\u001b[43mfigure\u001b[49m\u001b[38;5;241;43m.\u001b[39;49m\u001b[43mdpi\u001b[49m\u001b[43m,\u001b[49m\u001b[43m \u001b[49m\u001b[43mmetadata\u001b[49m\u001b[38;5;241;43m=\u001b[39;49m\u001b[43mmetadata\u001b[49m\u001b[43m,\u001b[49m\u001b[43m \u001b[49m\u001b[43mpil_kwargs\u001b[49m\u001b[38;5;241;43m=\u001b[39;49m\u001b[43mpil_kwargs\u001b[49m\u001b[43m)\u001b[49m\n",
      "File \u001b[1;32m~\\AppData\\Local\\Programs\\Python\\Python39\\lib\\site-packages\\matplotlib\\image.py:1676\u001b[0m, in \u001b[0;36mimsave\u001b[1;34m(fname, arr, vmin, vmax, cmap, format, origin, dpi, metadata, pil_kwargs)\u001b[0m\n\u001b[0;32m   1674\u001b[0m pil_kwargs\u001b[38;5;241m.\u001b[39msetdefault(\u001b[38;5;124m\"\u001b[39m\u001b[38;5;124mformat\u001b[39m\u001b[38;5;124m\"\u001b[39m, \u001b[38;5;28mformat\u001b[39m)\n\u001b[0;32m   1675\u001b[0m pil_kwargs\u001b[38;5;241m.\u001b[39msetdefault(\u001b[38;5;124m\"\u001b[39m\u001b[38;5;124mdpi\u001b[39m\u001b[38;5;124m\"\u001b[39m, (dpi, dpi))\n\u001b[1;32m-> 1676\u001b[0m image\u001b[38;5;241m.\u001b[39msave(fname, \u001b[38;5;241m*\u001b[39m\u001b[38;5;241m*\u001b[39mpil_kwargs)\n",
      "File \u001b[1;32m~\\AppData\\Local\\Programs\\Python\\Python39\\lib\\site-packages\\PIL\\Image.py:2436\u001b[0m, in \u001b[0;36mImage.save\u001b[1;34m(self, fp, format, **params)\u001b[0m\n\u001b[0;32m   2434\u001b[0m         fp \u001b[38;5;241m=\u001b[39m builtins\u001b[38;5;241m.\u001b[39mopen(filename, \u001b[38;5;124m\"\u001b[39m\u001b[38;5;124mr+b\u001b[39m\u001b[38;5;124m\"\u001b[39m)\n\u001b[0;32m   2435\u001b[0m     \u001b[38;5;28;01melse\u001b[39;00m:\n\u001b[1;32m-> 2436\u001b[0m         fp \u001b[38;5;241m=\u001b[39m \u001b[43mbuiltins\u001b[49m\u001b[38;5;241;43m.\u001b[39;49m\u001b[43mopen\u001b[49m\u001b[43m(\u001b[49m\u001b[43mfilename\u001b[49m\u001b[43m,\u001b[49m\u001b[43m \u001b[49m\u001b[38;5;124;43m\"\u001b[39;49m\u001b[38;5;124;43mw+b\u001b[39;49m\u001b[38;5;124;43m\"\u001b[39;49m\u001b[43m)\u001b[49m\n\u001b[0;32m   2438\u001b[0m \u001b[38;5;28;01mtry\u001b[39;00m:\n\u001b[0;32m   2439\u001b[0m     save_handler(\u001b[38;5;28mself\u001b[39m, fp, filename)\n",
      "\u001b[1;31mFileNotFoundError\u001b[0m: [Errno 2] No such file or directory: 'output/fedvg.png'"
     ]
    },
    {
     "data": {
      "image/png": "[encoded data removed]",
      "text/plain": [
       "<Figure size 650x420 with 1 Axes>"
      ]
     },
     "metadata": {},
     "output_type": "display_data"
    }
   ],
   "source": [
    "                                                        # VISUALIZE\n",
    "# NOTE: Class indexes now start from 1 so, previous class 0 = now class 1 and so on\n",
    "# FIG 1: Raw similarity plot\n",
    "\n",
    "import pandas as pd\n",
    "import numpy as np\n",
    "import matplotlib.pyplot as plt\n",
    "import seaborn as sns\n",
    "\n",
    "# Generate sample similarity data for four classes (each with 20 values in the range 0 to 1)\n",
    "class1_sim = class0_sims\n",
    "class2_sim = class1_sims\n",
    "class3_sim = class2_sims\n",
    "class4_sim = class3_sims\n",
    "\n",
    "# Set figure size\n",
    "plt.figure(figsize=(6.5, 4.2))  # Set the size of the figure (width, height)\n",
    "\n",
    "# Sample DataFrame with four columns\n",
    "data=pd.DataFrame({'Class 1':class1_sim,'Class 2':class2_sim,'Class 3':class3_sim,'Class 4':class4_sim})\n",
    "df = pd.DataFrame(data)\n",
    "\n",
    "# Plot the probability distributions\n",
    "#plt.figure(figsize=(10, 6))\n",
    "\n",
    "# Define colors and line styles for each column\n",
    "colors = ['#1f77b4', '#ff7f0e', '#2ca02c', '#d62728']\n",
    "linestyles = ['-.', '--', '-', '-']\n",
    "\n",
    "# Plot the probability distributions with unique colors and line styles\n",
    "for column, color, linestyle in zip(df.columns, colors, linestyles):\n",
    "    sns.kdeplot(df[column], label=column, color=color, linestyle=linestyle)\n",
    "\n",
    "#plt.title('Probability Distributions of Four Columns')\n",
    "plt.xlabel('Similarity',fontsize=12)\n",
    "plt.ylabel('Density',fontsize=12)\n",
    "plt.yticks(fontsize=12)  # Set y-tick labels font size\n",
    "plt.legend(loc='upper right',fontsize=12)  # Increase legend font size\n",
    "\n",
    "# Optimize layout\n",
    "plt.tight_layout()\n",
    "# Save the plot to a file\n",
    "plt.savefig('output/fedvg.png', dpi=300, bbox_inches='tight')  # Save as a PNG file with high resolution\n",
    "\n",
    "# Show the plot\n",
    "plt.show()\n"
   ]
  },
  {
   "cell_type": "code",
   "execution_count": 66,
   "id": "c71af78e-28e9-4564-9609-3039455bb875",
   "metadata": {},
   "outputs": [
    {
     "data": {
      "image/png": "[encoded data removed]",
      "text/plain": [
       "<Figure size 750x500 with 1 Axes>"
      ]
     },
     "metadata": {},
     "output_type": "display_data"
    }
   ],
   "source": [
    "# FIG 2: DIFFERENCES IN COSINE SIMILARITY\n",
    "\n",
    "# For each class, we have 20 similarity values — one per image — showing how similar fake and real versions are.These values are very close across classes\n",
    "# So, to highlight subtle differences, compute and plot the difference between each pair of classes, value by value.\n",
    "# This gives you 20 values showing how much the similarity differs for each image between class 0 and class 1.\n",
    "# It's a magnified view of the gap between classes.\n",
    "# If the differences are tiny (e.g., 0.003), the plot helps make that visible and comparable.\n",
    "\n",
    "import numpy as np\n",
    "import matplotlib.pyplot as plt\n",
    "import seaborn as sns\n",
    "import pandas as pd\n",
    "\n",
    "# Differences between class distributions (pairwise)\n",
    "diff_12 = np.array(class2_sim) - np.array(class1_sim)\n",
    "diff_13 = np.array(class3_sim) - np.array(class1_sim)\n",
    "diff_14 = np.array(class4_sim) - np.array(class1_sim)\n",
    "diff_23 = np.array(class3_sim) - np.array(class2_sim)\n",
    "diff_24 = np.array(class4_sim) - np.array(class2_sim)\n",
    "diff_34 = np.array(class4_sim) - np.array(class3_sim)\n",
    "\n",
    "# Create a DataFrame\n",
    "diff_df = pd.DataFrame({\n",
    "    'Class 2 - Class 1': diff_12,\n",
    "    'Class 3 - Class 1': diff_13,\n",
    "    'Class 4 - Class 1': diff_14,\n",
    "    'Class 3 - Class 2': diff_23,\n",
    "    'Class 4 - Class 2': diff_24,\n",
    "    'Class 4 - Class 3': diff_34,\n",
    "})\n",
    "\n",
    "# Plot\n",
    "plt.figure(figsize=(7.5, 5))\n",
    "\n",
    "colors = sns.color_palette(\"tab10\", n_colors=6)\n",
    "\n",
    "for column, color in zip(diff_df.columns, colors):\n",
    "    sns.kdeplot(diff_df[column], label=column, color=color, linestyle='-')\n",
    "\n",
    "plt.axvline(0, color='black', linestyle='--', linewidth=1)  # reference line at 0\n",
    "plt.xlabel('Difference in Similarity', fontsize=12)\n",
    "plt.ylabel('Density', fontsize=12)\n",
    "plt.legend(fontsize=10)\n",
    "plt.title(\"Pairwise Differences in Cosine Similarity\", fontsize=13)\n",
    "plt.tight_layout()\n",
    "plt.show()"
   ]
  },
  {
   "cell_type": "code",
   "execution_count": 67,
   "id": "362bf182-7927-4ce2-bf5a-97299d426bc4",
   "metadata": {},
   "outputs": [],
   "source": [
    "def calculate_interclass_similarity(first, second):\n",
    "    similarities = []\n",
    "\n",
    "    first_images = []\n",
    "    second_images = []\n",
    "    if first == 'class1':\n",
    "        first_images = class0_original_images.copy()\n",
    "    elif first == 'class2':\n",
    "        first_images = class1_original_images.copy()\n",
    "    elif first == 'class3':\n",
    "        first_images = class2_original_images.copy()\n",
    "    elif first == 'class4':\n",
    "        first_images = class3_original_images.copy()\n",
    "\n",
    "    if second == 'class1':\n",
    "        second_images = class0_original_images.copy()\n",
    "    elif second == 'class2':\n",
    "        second_images = class1_original_images.copy()\n",
    "    elif second == 'class3':\n",
    "        second_images = class2_original_images.copy()\n",
    "    elif second == 'class4':\n",
    "        second_images = class3_original_images.copy()\n",
    "    \n",
    "    for i in range(0, 20):\n",
    "        first_image = first_images[i].unsqueeze(dim=0).to(device)\n",
    "        first_image = first_image.repeat(1, 3, 1, 1)\n",
    "        \n",
    "        second_image = second_images[i].unsqueeze(dim=0).to(device)\n",
    "        second_image = second_image.repeat(1, 3, 1, 1)\n",
    "        \n",
    "        features_first = get_feature(first_image)\n",
    "        features_second = get_feature(second_image)\n",
    "\n",
    "        cosine_similarity = 1 - cosine(features_first, features_second)\n",
    "        similarities.append(cosine_similarity)\n",
    "\n",
    "    return similarities"
   ]
  },
  {
   "cell_type": "code",
   "execution_count": 68,
   "id": "5954dfe3-cb08-4551-a5f9-d2082ac3d604",
   "metadata": {},
   "outputs": [],
   "source": [
    "class1class2 = calculate_interclass_similarity('class1', 'class2')"
   ]
  },
  {
   "cell_type": "code",
   "execution_count": 69,
   "id": "cd5ab50d-9d9d-443b-bea5-2d6e302e2bf4",
   "metadata": {},
   "outputs": [
    {
     "data": {
      "text/plain": [
       "[np.float32(0.92668736),\n",
       " np.float32(0.9234537),\n",
       " np.float32(0.8914366),\n",
       " np.float32(0.85996324),\n",
       " np.float32(0.9045878),\n",
       " np.float32(0.8661933),\n",
       " np.float32(0.8529511),\n",
       " np.float32(0.8320824),\n",
       " np.float32(0.81313324),\n",
       " np.float32(0.9028811),\n",
       " np.float32(0.9157124),\n",
       " np.float32(0.83247995),\n",
       " np.float32(0.9164997),\n",
       " np.float32(0.84919524),\n",
       " np.float32(0.90398437),\n",
       " np.float32(0.8242637),\n",
       " np.float32(0.78115076),\n",
       " np.float32(0.80533254),\n",
       " np.float32(0.92938054),\n",
       " np.float32(0.89034694)]"
      ]
     },
     "execution_count": 69,
     "metadata": {},
     "output_type": "execute_result"
    }
   ],
   "source": [
    "class1class2"
   ]
  },
  {
   "cell_type": "code",
   "execution_count": 70,
   "id": "29441f40-36a7-4854-98be-5d128bae49cd",
   "metadata": {},
   "outputs": [
    {
     "ename": "FileNotFoundError",
     "evalue": "[Errno 2] No such file or directory: 'output/VoiceDivergenceD3.png'",
     "output_type": "error",
     "traceback": [
      "\u001b[1;31m---------------------------------------------------------------------------\u001b[0m",
      "\u001b[1;31mFileNotFoundError\u001b[0m                         Traceback (most recent call last)",
      "Cell \u001b[1;32mIn[70], line 44\u001b[0m\n\u001b[0;32m     42\u001b[0m plt\u001b[38;5;241m.\u001b[39mtight_layout()\n\u001b[0;32m     43\u001b[0m \u001b[38;5;66;03m# Save the plot to a file\u001b[39;00m\n\u001b[1;32m---> 44\u001b[0m \u001b[43mplt\u001b[49m\u001b[38;5;241;43m.\u001b[39;49m\u001b[43msavefig\u001b[49m\u001b[43m(\u001b[49m\u001b[38;5;124;43m'\u001b[39;49m\u001b[38;5;124;43moutput/VoiceDivergenceD3.png\u001b[39;49m\u001b[38;5;124;43m'\u001b[39;49m\u001b[43m,\u001b[49m\u001b[43m \u001b[49m\u001b[43mdpi\u001b[49m\u001b[38;5;241;43m=\u001b[39;49m\u001b[38;5;241;43m300\u001b[39;49m\u001b[43m,\u001b[49m\u001b[43m \u001b[49m\u001b[43mbbox_inches\u001b[49m\u001b[38;5;241;43m=\u001b[39;49m\u001b[38;5;124;43m'\u001b[39;49m\u001b[38;5;124;43mtight\u001b[39;49m\u001b[38;5;124;43m'\u001b[39;49m\u001b[43m)\u001b[49m  \u001b[38;5;66;03m# Save as a PNG file with high resolution\u001b[39;00m\n\u001b[0;32m     46\u001b[0m \u001b[38;5;66;03m# Show the plot\u001b[39;00m\n\u001b[0;32m     47\u001b[0m plt\u001b[38;5;241m.\u001b[39mshow()\n",
      "File \u001b[1;32m~\\AppData\\Local\\Programs\\Python\\Python39\\lib\\site-packages\\matplotlib\\pyplot.py:1228\u001b[0m, in \u001b[0;36msavefig\u001b[1;34m(*args, **kwargs)\u001b[0m\n\u001b[0;32m   1225\u001b[0m fig \u001b[38;5;241m=\u001b[39m gcf()\n\u001b[0;32m   1226\u001b[0m \u001b[38;5;66;03m# savefig default implementation has no return, so mypy is unhappy\u001b[39;00m\n\u001b[0;32m   1227\u001b[0m \u001b[38;5;66;03m# presumably this is here because subclasses can return?\u001b[39;00m\n\u001b[1;32m-> 1228\u001b[0m res \u001b[38;5;241m=\u001b[39m fig\u001b[38;5;241m.\u001b[39msavefig(\u001b[38;5;241m*\u001b[39margs, \u001b[38;5;241m*\u001b[39m\u001b[38;5;241m*\u001b[39mkwargs)  \u001b[38;5;66;03m# type: ignore[func-returns-value]\u001b[39;00m\n\u001b[0;32m   1229\u001b[0m fig\u001b[38;5;241m.\u001b[39mcanvas\u001b[38;5;241m.\u001b[39mdraw_idle()  \u001b[38;5;66;03m# Need this if 'transparent=True', to reset colors.\u001b[39;00m\n\u001b[0;32m   1230\u001b[0m \u001b[38;5;28;01mreturn\u001b[39;00m res\n",
      "File \u001b[1;32m~\\AppData\\Local\\Programs\\Python\\Python39\\lib\\site-packages\\matplotlib\\figure.py:3395\u001b[0m, in \u001b[0;36mFigure.savefig\u001b[1;34m(self, fname, transparent, **kwargs)\u001b[0m\n\u001b[0;32m   3393\u001b[0m     \u001b[38;5;28;01mfor\u001b[39;00m ax \u001b[38;5;129;01min\u001b[39;00m \u001b[38;5;28mself\u001b[39m\u001b[38;5;241m.\u001b[39maxes:\n\u001b[0;32m   3394\u001b[0m         _recursively_make_axes_transparent(stack, ax)\n\u001b[1;32m-> 3395\u001b[0m \u001b[38;5;28mself\u001b[39m\u001b[38;5;241m.\u001b[39mcanvas\u001b[38;5;241m.\u001b[39mprint_figure(fname, \u001b[38;5;241m*\u001b[39m\u001b[38;5;241m*\u001b[39mkwargs)\n",
      "File \u001b[1;32m~\\AppData\\Local\\Programs\\Python\\Python39\\lib\\site-packages\\matplotlib\\backend_bases.py:2204\u001b[0m, in \u001b[0;36mFigureCanvasBase.print_figure\u001b[1;34m(self, filename, dpi, facecolor, edgecolor, orientation, format, bbox_inches, pad_inches, bbox_extra_artists, backend, **kwargs)\u001b[0m\n\u001b[0;32m   2200\u001b[0m \u001b[38;5;28;01mtry\u001b[39;00m:\n\u001b[0;32m   2201\u001b[0m     \u001b[38;5;66;03m# _get_renderer may change the figure dpi (as vector formats\u001b[39;00m\n\u001b[0;32m   2202\u001b[0m     \u001b[38;5;66;03m# force the figure dpi to 72), so we need to set it again here.\u001b[39;00m\n\u001b[0;32m   2203\u001b[0m     \u001b[38;5;28;01mwith\u001b[39;00m cbook\u001b[38;5;241m.\u001b[39m_setattr_cm(\u001b[38;5;28mself\u001b[39m\u001b[38;5;241m.\u001b[39mfigure, dpi\u001b[38;5;241m=\u001b[39mdpi):\n\u001b[1;32m-> 2204\u001b[0m         result \u001b[38;5;241m=\u001b[39m print_method(\n\u001b[0;32m   2205\u001b[0m             filename,\n\u001b[0;32m   2206\u001b[0m             facecolor\u001b[38;5;241m=\u001b[39mfacecolor,\n\u001b[0;32m   2207\u001b[0m             edgecolor\u001b[38;5;241m=\u001b[39medgecolor,\n\u001b[0;32m   2208\u001b[0m             orientation\u001b[38;5;241m=\u001b[39morientation,\n\u001b[0;32m   2209\u001b[0m             bbox_inches_restore\u001b[38;5;241m=\u001b[39m_bbox_inches_restore,\n\u001b[0;32m   2210\u001b[0m             \u001b[38;5;241m*\u001b[39m\u001b[38;5;241m*\u001b[39mkwargs)\n\u001b[0;32m   2211\u001b[0m \u001b[38;5;28;01mfinally\u001b[39;00m:\n\u001b[0;32m   2212\u001b[0m     \u001b[38;5;28;01mif\u001b[39;00m bbox_inches \u001b[38;5;129;01mand\u001b[39;00m restore_bbox:\n",
      "File \u001b[1;32m~\\AppData\\Local\\Programs\\Python\\Python39\\lib\\site-packages\\matplotlib\\backend_bases.py:2054\u001b[0m, in \u001b[0;36mFigureCanvasBase._switch_canvas_and_return_print_method.<locals>.<lambda>\u001b[1;34m(*args, **kwargs)\u001b[0m\n\u001b[0;32m   2050\u001b[0m     optional_kws \u001b[38;5;241m=\u001b[39m {  \u001b[38;5;66;03m# Passed by print_figure for other renderers.\u001b[39;00m\n\u001b[0;32m   2051\u001b[0m         \u001b[38;5;124m\"\u001b[39m\u001b[38;5;124mdpi\u001b[39m\u001b[38;5;124m\"\u001b[39m, \u001b[38;5;124m\"\u001b[39m\u001b[38;5;124mfacecolor\u001b[39m\u001b[38;5;124m\"\u001b[39m, \u001b[38;5;124m\"\u001b[39m\u001b[38;5;124medgecolor\u001b[39m\u001b[38;5;124m\"\u001b[39m, \u001b[38;5;124m\"\u001b[39m\u001b[38;5;124morientation\u001b[39m\u001b[38;5;124m\"\u001b[39m,\n\u001b[0;32m   2052\u001b[0m         \u001b[38;5;124m\"\u001b[39m\u001b[38;5;124mbbox_inches_restore\u001b[39m\u001b[38;5;124m\"\u001b[39m}\n\u001b[0;32m   2053\u001b[0m     skip \u001b[38;5;241m=\u001b[39m optional_kws \u001b[38;5;241m-\u001b[39m {\u001b[38;5;241m*\u001b[39minspect\u001b[38;5;241m.\u001b[39msignature(meth)\u001b[38;5;241m.\u001b[39mparameters}\n\u001b[1;32m-> 2054\u001b[0m     print_method \u001b[38;5;241m=\u001b[39m functools\u001b[38;5;241m.\u001b[39mwraps(meth)(\u001b[38;5;28;01mlambda\u001b[39;00m \u001b[38;5;241m*\u001b[39margs, \u001b[38;5;241m*\u001b[39m\u001b[38;5;241m*\u001b[39mkwargs: meth(\n\u001b[0;32m   2055\u001b[0m         \u001b[38;5;241m*\u001b[39margs, \u001b[38;5;241m*\u001b[39m\u001b[38;5;241m*\u001b[39m{k: v \u001b[38;5;28;01mfor\u001b[39;00m k, v \u001b[38;5;129;01min\u001b[39;00m kwargs\u001b[38;5;241m.\u001b[39mitems() \u001b[38;5;28;01mif\u001b[39;00m k \u001b[38;5;129;01mnot\u001b[39;00m \u001b[38;5;129;01min\u001b[39;00m skip}))\n\u001b[0;32m   2056\u001b[0m \u001b[38;5;28;01melse\u001b[39;00m:  \u001b[38;5;66;03m# Let third-parties do as they see fit.\u001b[39;00m\n\u001b[0;32m   2057\u001b[0m     print_method \u001b[38;5;241m=\u001b[39m meth\n",
      "File \u001b[1;32m~\\AppData\\Local\\Programs\\Python\\Python39\\lib\\site-packages\\matplotlib\\backends\\backend_agg.py:496\u001b[0m, in \u001b[0;36mFigureCanvasAgg.print_png\u001b[1;34m(self, filename_or_obj, metadata, pil_kwargs)\u001b[0m\n\u001b[0;32m    449\u001b[0m \u001b[38;5;28;01mdef\u001b[39;00m\u001b[38;5;250m \u001b[39m\u001b[38;5;21mprint_png\u001b[39m(\u001b[38;5;28mself\u001b[39m, filename_or_obj, \u001b[38;5;241m*\u001b[39m, metadata\u001b[38;5;241m=\u001b[39m\u001b[38;5;28;01mNone\u001b[39;00m, pil_kwargs\u001b[38;5;241m=\u001b[39m\u001b[38;5;28;01mNone\u001b[39;00m):\n\u001b[0;32m    450\u001b[0m \u001b[38;5;250m    \u001b[39m\u001b[38;5;124;03m\"\"\"\u001b[39;00m\n\u001b[0;32m    451\u001b[0m \u001b[38;5;124;03m    Write the figure to a PNG file.\u001b[39;00m\n\u001b[0;32m    452\u001b[0m \n\u001b[1;32m   (...)\u001b[0m\n\u001b[0;32m    494\u001b[0m \u001b[38;5;124;03m        *metadata*, including the default 'Software' key.\u001b[39;00m\n\u001b[0;32m    495\u001b[0m \u001b[38;5;124;03m    \"\"\"\u001b[39;00m\n\u001b[1;32m--> 496\u001b[0m     \u001b[38;5;28;43mself\u001b[39;49m\u001b[38;5;241;43m.\u001b[39;49m\u001b[43m_print_pil\u001b[49m\u001b[43m(\u001b[49m\u001b[43mfilename_or_obj\u001b[49m\u001b[43m,\u001b[49m\u001b[43m \u001b[49m\u001b[38;5;124;43m\"\u001b[39;49m\u001b[38;5;124;43mpng\u001b[39;49m\u001b[38;5;124;43m\"\u001b[39;49m\u001b[43m,\u001b[49m\u001b[43m \u001b[49m\u001b[43mpil_kwargs\u001b[49m\u001b[43m,\u001b[49m\u001b[43m \u001b[49m\u001b[43mmetadata\u001b[49m\u001b[43m)\u001b[49m\n",
      "File \u001b[1;32m~\\AppData\\Local\\Programs\\Python\\Python39\\lib\\site-packages\\matplotlib\\backends\\backend_agg.py:445\u001b[0m, in \u001b[0;36mFigureCanvasAgg._print_pil\u001b[1;34m(self, filename_or_obj, fmt, pil_kwargs, metadata)\u001b[0m\n\u001b[0;32m    440\u001b[0m \u001b[38;5;250m\u001b[39m\u001b[38;5;124;03m\"\"\"\u001b[39;00m\n\u001b[0;32m    441\u001b[0m \u001b[38;5;124;03mDraw the canvas, then save it using `.image.imsave` (to which\u001b[39;00m\n\u001b[0;32m    442\u001b[0m \u001b[38;5;124;03m*pil_kwargs* and *metadata* are forwarded).\u001b[39;00m\n\u001b[0;32m    443\u001b[0m \u001b[38;5;124;03m\"\"\"\u001b[39;00m\n\u001b[0;32m    444\u001b[0m FigureCanvasAgg\u001b[38;5;241m.\u001b[39mdraw(\u001b[38;5;28mself\u001b[39m)\n\u001b[1;32m--> 445\u001b[0m \u001b[43mmpl\u001b[49m\u001b[38;5;241;43m.\u001b[39;49m\u001b[43mimage\u001b[49m\u001b[38;5;241;43m.\u001b[39;49m\u001b[43mimsave\u001b[49m\u001b[43m(\u001b[49m\n\u001b[0;32m    446\u001b[0m \u001b[43m    \u001b[49m\u001b[43mfilename_or_obj\u001b[49m\u001b[43m,\u001b[49m\u001b[43m \u001b[49m\u001b[38;5;28;43mself\u001b[39;49m\u001b[38;5;241;43m.\u001b[39;49m\u001b[43mbuffer_rgba\u001b[49m\u001b[43m(\u001b[49m\u001b[43m)\u001b[49m\u001b[43m,\u001b[49m\u001b[43m \u001b[49m\u001b[38;5;28;43mformat\u001b[39;49m\u001b[38;5;241;43m=\u001b[39;49m\u001b[43mfmt\u001b[49m\u001b[43m,\u001b[49m\u001b[43m \u001b[49m\u001b[43morigin\u001b[49m\u001b[38;5;241;43m=\u001b[39;49m\u001b[38;5;124;43m\"\u001b[39;49m\u001b[38;5;124;43mupper\u001b[39;49m\u001b[38;5;124;43m\"\u001b[39;49m\u001b[43m,\u001b[49m\n\u001b[0;32m    447\u001b[0m \u001b[43m    \u001b[49m\u001b[43mdpi\u001b[49m\u001b[38;5;241;43m=\u001b[39;49m\u001b[38;5;28;43mself\u001b[39;49m\u001b[38;5;241;43m.\u001b[39;49m\u001b[43mfigure\u001b[49m\u001b[38;5;241;43m.\u001b[39;49m\u001b[43mdpi\u001b[49m\u001b[43m,\u001b[49m\u001b[43m \u001b[49m\u001b[43mmetadata\u001b[49m\u001b[38;5;241;43m=\u001b[39;49m\u001b[43mmetadata\u001b[49m\u001b[43m,\u001b[49m\u001b[43m \u001b[49m\u001b[43mpil_kwargs\u001b[49m\u001b[38;5;241;43m=\u001b[39;49m\u001b[43mpil_kwargs\u001b[49m\u001b[43m)\u001b[49m\n",
      "File \u001b[1;32m~\\AppData\\Local\\Programs\\Python\\Python39\\lib\\site-packages\\matplotlib\\image.py:1676\u001b[0m, in \u001b[0;36mimsave\u001b[1;34m(fname, arr, vmin, vmax, cmap, format, origin, dpi, metadata, pil_kwargs)\u001b[0m\n\u001b[0;32m   1674\u001b[0m pil_kwargs\u001b[38;5;241m.\u001b[39msetdefault(\u001b[38;5;124m\"\u001b[39m\u001b[38;5;124mformat\u001b[39m\u001b[38;5;124m\"\u001b[39m, \u001b[38;5;28mformat\u001b[39m)\n\u001b[0;32m   1675\u001b[0m pil_kwargs\u001b[38;5;241m.\u001b[39msetdefault(\u001b[38;5;124m\"\u001b[39m\u001b[38;5;124mdpi\u001b[39m\u001b[38;5;124m\"\u001b[39m, (dpi, dpi))\n\u001b[1;32m-> 1676\u001b[0m image\u001b[38;5;241m.\u001b[39msave(fname, \u001b[38;5;241m*\u001b[39m\u001b[38;5;241m*\u001b[39mpil_kwargs)\n",
      "File \u001b[1;32m~\\AppData\\Local\\Programs\\Python\\Python39\\lib\\site-packages\\PIL\\Image.py:2436\u001b[0m, in \u001b[0;36mImage.save\u001b[1;34m(self, fp, format, **params)\u001b[0m\n\u001b[0;32m   2434\u001b[0m         fp \u001b[38;5;241m=\u001b[39m builtins\u001b[38;5;241m.\u001b[39mopen(filename, \u001b[38;5;124m\"\u001b[39m\u001b[38;5;124mr+b\u001b[39m\u001b[38;5;124m\"\u001b[39m)\n\u001b[0;32m   2435\u001b[0m     \u001b[38;5;28;01melse\u001b[39;00m:\n\u001b[1;32m-> 2436\u001b[0m         fp \u001b[38;5;241m=\u001b[39m \u001b[43mbuiltins\u001b[49m\u001b[38;5;241;43m.\u001b[39;49m\u001b[43mopen\u001b[49m\u001b[43m(\u001b[49m\u001b[43mfilename\u001b[49m\u001b[43m,\u001b[49m\u001b[43m \u001b[49m\u001b[38;5;124;43m\"\u001b[39;49m\u001b[38;5;124;43mw+b\u001b[39;49m\u001b[38;5;124;43m\"\u001b[39;49m\u001b[43m)\u001b[49m\n\u001b[0;32m   2438\u001b[0m \u001b[38;5;28;01mtry\u001b[39;00m:\n\u001b[0;32m   2439\u001b[0m     save_handler(\u001b[38;5;28mself\u001b[39m, fp, filename)\n",
      "\u001b[1;31mFileNotFoundError\u001b[0m: [Errno 2] No such file or directory: 'output/VoiceDivergenceD3.png'"
     ]
    },
    {
     "data": {
      "image/png": "[encoded data removed]",
      "text/plain": [
       "<Figure size 650x420 with 1 Axes>"
      ]
     },
     "metadata": {},
     "output_type": "display_data"
    }
   ],
   "source": [
    "                                                # FIG: 3 -> INTERCLASS SIMILARITIES\n",
    "\n",
    "import pandas as pd\n",
    "import numpy as np\n",
    "import matplotlib.pyplot as plt\n",
    "import seaborn as sns\n",
    "\n",
    "# Set figure size\n",
    "plt.figure(figsize=(6.5, 4.2))  # Set the size of the figure (width, height)\n",
    "\n",
    "# Generate sample similarity data for four classes (each with 20 values in the range 0 to 1)\n",
    "np.random.seed(42)  # For reproducibility\n",
    "class1class2 = calculate_interclass_similarity('class1', 'class2')\n",
    "class1class3 = calculate_interclass_similarity('class1', 'class3')\n",
    "class1class4 = calculate_interclass_similarity('class1', 'class4')\n",
    "class2class3 = calculate_interclass_similarity('class2', 'class3')\n",
    "class2class4 = calculate_interclass_similarity('class2', 'class4')\n",
    "class3class4 = calculate_interclass_similarity('class3', 'class4')\n",
    "\n",
    "# Sample DataFrame with four columns\n",
    "data=pd.DataFrame({'Class1 vs Class2':class1class2,'Class1 vs Class3':class1class3,'Class1 vs Class4':class1class4,'Class2 vs Class3':class2class3,'Class2 vs Class4':class2class4,'Class3 vs Class4':class3class4})\n",
    "df = pd.DataFrame(data)\n",
    "\n",
    "# Plot the probability distributions\n",
    "#plt.figure(figsize=(10, 6))\n",
    "\n",
    "# Define colors and line styles for each column\n",
    "colors = ['#1f77b4', '#ff7f0e', '#2ca02c', '#d62728', '#9467bd', '#8c564b']\n",
    "linestyles = ['-.', '--', '-', '-', '-.', '--']\n",
    "\n",
    "# Plot the probability distributions with unique colors and line styles\n",
    "for column, color, linestyle in zip(df.columns, colors, linestyles):\n",
    "    sns.kdeplot(df[column], label=column, color=color, linestyle=linestyle)\n",
    "\n",
    "#plt.title('Probability Distributions of Four Columns')\n",
    "plt.xlabel('Similarity',fontsize=12)\n",
    "plt.ylabel('Density',fontsize=12)\n",
    "plt.yticks(fontsize=12)  # Set y-tick labels font size\n",
    "plt.legend(loc='upper right',fontsize=12)  # Increase legend font size\n",
    "\n",
    "# Optimize layout\n",
    "plt.tight_layout()\n",
    "# Save the plot to a file\n",
    "plt.savefig('output/VoiceDivergenceD3.png', dpi=300, bbox_inches='tight')  # Save as a PNG file with high resolution\n",
    "\n",
    "# Show the plot\n",
    "plt.show()"
   ]
  },
  {
   "cell_type": "code",
   "execution_count": 112,
   "id": "19754eee-5c1e-47e6-bbaa-b2cef05a1641",
   "metadata": {},
   "outputs": [
    {
     "data": {
      "text/plain": [
       "<torch._C.Generator at 0x1cb2fe423d0>"
      ]
     },
     "execution_count": 112,
     "metadata": {},
     "output_type": "execute_result"
    }
   ],
   "source": [
    "# EXTRAS\n",
    "torch.manual_seed(42)"
   ]
  },
  {
   "cell_type": "code",
   "execution_count": 113,
   "id": "918e9d1f-b03d-4d8b-a55c-7e3a8369b0dc",
   "metadata": {},
   "outputs": [],
   "source": [
    "# 20 Random Images From the GAN \n",
    "SAMPLE_SIZE = 20\n",
    "\n",
    "latent_vecs = []\n",
    "for x in range(0, SAMPLE_SIZE):\n",
    "    torch.manual_seed(100 + 10*x)\n",
    "    latent_vector = torch.randn(1, z_dim, 1, 1).to(device)\n",
    "    latent_vecs.append(latent_vector)"
   ]
  },
  {
   "cell_type": "code",
   "execution_count": 114,
   "id": "c2c64876-8945-4b6b-8978-4e63ee3e51d1",
   "metadata": {},
   "outputs": [
    {
     "name": "stdout",
     "output_type": "stream",
     "text": [
      "torch.Size([20, 100, 1, 1])\n"
     ]
    }
   ],
   "source": [
    "latent_vectors = torch.cat(latent_vecs, dim=0)\n",
    "print(latent_vectors.shape)"
   ]
  },
  {
   "cell_type": "code",
   "execution_count": 115,
   "id": "6c9827be-12a7-49d8-91b5-7590cafade3b",
   "metadata": {},
   "outputs": [
    {
     "data": {
      "text/plain": [
       "20"
      ]
     },
     "execution_count": 115,
     "metadata": {},
     "output_type": "execute_result"
    }
   ],
   "source": [
    "len(latent_vecs)"
   ]
  },
  {
   "cell_type": "code",
   "execution_count": 116,
   "id": "96295383-f857-40c9-9caa-d47996964c26",
   "metadata": {},
   "outputs": [],
   "source": [
    "fake_images = gen(latent_vectors)"
   ]
  },
  {
   "cell_type": "code",
   "execution_count": 117,
   "id": "35620de6-d6e4-4e53-ac92-2ec492b04b94",
   "metadata": {},
   "outputs": [
    {
     "data": {
      "text/plain": [
       "torch.Size([20, 1, 64, 64])"
      ]
     },
     "execution_count": 117,
     "metadata": {},
     "output_type": "execute_result"
    }
   ],
   "source": [
    "fake_images.shape"
   ]
  },
  {
   "cell_type": "code",
   "execution_count": 118,
   "id": "26fd2bc4-738c-4bee-bf1d-851c55afe450",
   "metadata": {},
   "outputs": [],
   "source": [
    "fake_img = fake_images[18]"
   ]
  },
  {
   "cell_type": "code",
   "execution_count": 119,
   "id": "bdcb623d-5c4f-452c-99e7-596a2b330fd2",
   "metadata": {},
   "outputs": [
    {
     "name": "stdout",
     "output_type": "stream",
     "text": [
      "torch.Size([64, 64])\n"
     ]
    },
    {
     "data": {
      "text/plain": [
       "<matplotlib.image.AxesImage at 0x1cb875f0f10>"
      ]
     },
     "execution_count": 119,
     "metadata": {},
     "output_type": "execute_result"
    },
    {
     "data": {
      "image/png": "[encoded data removed]",
      "text/plain": [
       "<Figure size 640x480 with 1 Axes>"
      ]
     },
     "metadata": {},
     "output_type": "display_data"
    }
   ],
   "source": [
    "fake_img = fake_img.squeeze()\n",
    "print(fake_img.shape)\n",
    "plt.axis(False)\n",
    "plt.title('Fake Generated Image:')\n",
    "plt.imshow(fake_img.cpu().detach(), cmap='gray')"
   ]
  },
  {
   "cell_type": "code",
   "execution_count": 120,
   "id": "86e232c5-2da7-4812-bcdd-81f75c07b070",
   "metadata": {},
   "outputs": [],
   "source": [
    "# CALCULATE Cosine similarity between 20 fake images and 20 real images from each class.\n",
    "def e_calculate_class0_sim():\n",
    "    similarities = []\n",
    "    for i in range(0, 20):\n",
    "        class0_original = class0_original_images[i].unsqueeze(dim=0).to(device)\n",
    "        class0_original = class0_original.repeat(1, 3, 1, 1)\n",
    "\n",
    "        latent_vector = latent_vectors[i]\n",
    "        fake_img = gen(latent_vector.to(device))\n",
    "        fake_img = fake_img.repeat(1, 3, 1, 1)\n",
    "\n",
    "        features_original = get_feature(class0_original)\n",
    "        features_fake = get_feature(fake_img)\n",
    "\n",
    "        cosine_similarity = 1 - cosine(features_original, features_fake)\n",
    "\n",
    "        similarities.append(cosine_similarity)\n",
    "        \n",
    "    return similarities"
   ]
  },
  {
   "cell_type": "code",
   "execution_count": 121,
   "id": "e79f19f6-dff0-4cde-a9e1-bcf5bb631853",
   "metadata": {},
   "outputs": [],
   "source": [
    "def e_calculate_class1_sim():\n",
    "    similarities = []\n",
    "    for i in range(0, 20):\n",
    "        class1_original = class1_original_images[i].unsqueeze(dim=0).to(device)\n",
    "        class1_original = class1_original.repeat(1, 3, 1, 1)\n",
    "\n",
    "        latent_vector = latent_vectors[i]\n",
    "        fake_img = gen(latent_vector.to(device))\n",
    "        fake_img = fake_img.repeat(1, 3, 1, 1)\n",
    "\n",
    "        features_original = get_feature(class1_original)\n",
    "        features_fake = get_feature(fake_img)\n",
    "\n",
    "        cosine_similarity = 1 - cosine(features_original, features_fake)\n",
    "\n",
    "        similarities.append(cosine_similarity)\n",
    "        \n",
    "    return similarities"
   ]
  },
  {
   "cell_type": "code",
   "execution_count": 122,
   "id": "43c60143-ed53-4e13-b1e9-7c8b1c012309",
   "metadata": {},
   "outputs": [],
   "source": [
    "def e_calculate_class2_sim():\n",
    "    similarities = []\n",
    "    for i in range(0, 20):\n",
    "        class2_original = class2_original_images[i].unsqueeze(dim=0).to(device)\n",
    "        class2_original = class2_original.repeat(1, 3, 1, 1)\n",
    "\n",
    "        latent_vector = latent_vectors[i]\n",
    "        fake_img = gen(latent_vector.to(device))\n",
    "        fake_img = fake_img.repeat(1, 3, 1, 1)\n",
    "\n",
    "        features_original = get_feature(class2_original)\n",
    "        features_fake = get_feature(fake_img)\n",
    "\n",
    "        cosine_similarity = 1 - cosine(features_original, features_fake)\n",
    "\n",
    "        similarities.append(cosine_similarity)\n",
    "        \n",
    "    return similarities"
   ]
  },
  {
   "cell_type": "code",
   "execution_count": 123,
   "id": "33fec413-252c-49be-b8a9-b480949d1a18",
   "metadata": {},
   "outputs": [],
   "source": [
    "def e_calculate_class3_sim():\n",
    "    similarities = []\n",
    "    for i in range(0, 20):\n",
    "        class3_original = class3_original_images[i].unsqueeze(dim=0).to(device)\n",
    "        class3_original = class3_original.repeat(1, 3, 1, 1)\n",
    "\n",
    "        latent_vector = latent_vectors[i]\n",
    "        fake_img = gen(latent_vector.to(device))\n",
    "        fake_img = fake_img.repeat(1, 3, 1, 1)\n",
    "\n",
    "        features_original = get_feature(class3_original)\n",
    "        features_fake = get_feature(fake_img)\n",
    "\n",
    "        cosine_similarity = 1 - cosine(features_original, features_fake)\n",
    "\n",
    "        similarities.append(cosine_similarity)\n",
    "        \n",
    "    return similarities"
   ]
  },
  {
   "cell_type": "code",
   "execution_count": 124,
   "id": "dd143a2a-49a4-4764-a2de-63f6d6b49aef",
   "metadata": {},
   "outputs": [],
   "source": [
    "e_class0_sims = e_calculate_class0_sim()\n",
    "e_class1_sims = e_calculate_class1_sim()\n",
    "e_class2_sims = e_calculate_class2_sim()\n",
    "e_class3_sims = e_calculate_class3_sim()"
   ]
  },
  {
   "cell_type": "code",
   "execution_count": 125,
   "id": "da304a3a-6e5b-4681-a038-5872a000440b",
   "metadata": {},
   "outputs": [
    {
     "data": {
      "text/plain": [
       "[np.float32(0.44546592),\n",
       " np.float32(0.77860945),\n",
       " np.float32(0.5841694),\n",
       " np.float32(0.47331047),\n",
       " np.float32(0.70188415),\n",
       " np.float32(0.5139269),\n",
       " np.float32(0.6229402),\n",
       " np.float32(0.7159574),\n",
       " np.float32(0.48291206),\n",
       " np.float32(0.39342844),\n",
       " np.float32(0.68750244),\n",
       " np.float32(0.514284),\n",
       " np.float32(0.65534914),\n",
       " np.float32(0.4687252),\n",
       " np.float32(0.41980845),\n",
       " np.float32(0.436427),\n",
       " np.float32(0.59305805),\n",
       " np.float32(0.70823264),\n",
       " np.float32(0.4752692),\n",
       " np.float32(0.63184047)]"
      ]
     },
     "execution_count": 125,
     "metadata": {},
     "output_type": "execute_result"
    }
   ],
   "source": [
    "e_class0_sims"
   ]
  },
  {
   "cell_type": "code",
   "execution_count": 126,
   "id": "a2a15c5b-afc5-4e49-9599-b83697cad95c",
   "metadata": {},
   "outputs": [
    {
     "data": {
      "text/plain": [
       "[np.float32(0.47283196),\n",
       " np.float32(0.7897128),\n",
       " np.float32(0.59397167),\n",
       " np.float32(0.4613123),\n",
       " np.float32(0.6622919),\n",
       " np.float32(0.5824914),\n",
       " np.float32(0.54009664),\n",
       " np.float32(0.6538569),\n",
       " np.float32(0.61141014),\n",
       " np.float32(0.38636577),\n",
       " np.float32(0.67243075),\n",
       " np.float32(0.43694848),\n",
       " np.float32(0.6495088),\n",
       " np.float32(0.4629997),\n",
       " np.float32(0.48953843),\n",
       " np.float32(0.4632802),\n",
       " np.float32(0.4602772),\n",
       " np.float32(0.65295345),\n",
       " np.float32(0.4841559),\n",
       " np.float32(0.57712376)]"
      ]
     },
     "execution_count": 126,
     "metadata": {},
     "output_type": "execute_result"
    }
   ],
   "source": [
    "e_class1_sims"
   ]
  },
  {
   "cell_type": "code",
   "execution_count": 127,
   "id": "41437f6b-7291-4ed8-8448-7246cab3ef5d",
   "metadata": {},
   "outputs": [
    {
     "data": {
      "text/plain": [
       "[np.float32(0.37033737),\n",
       " np.float32(0.7766252),\n",
       " np.float32(0.6571929),\n",
       " np.float32(0.47748363),\n",
       " np.float32(0.57538956),\n",
       " np.float32(0.6133968),\n",
       " np.float32(0.5115655),\n",
       " np.float32(0.55887675),\n",
       " np.float32(0.42175448),\n",
       " np.float32(0.3243562),\n",
       " np.float32(0.71000254),\n",
       " np.float32(0.4855795),\n",
       " np.float32(0.60291755),\n",
       " np.float32(0.5639217),\n",
       " np.float32(0.47765708),\n",
       " np.float32(0.53435796),\n",
       " np.float32(0.65871036),\n",
       " np.float32(0.55649483),\n",
       " np.float32(0.64762115),\n",
       " np.float32(0.48375273)]"
      ]
     },
     "execution_count": 127,
     "metadata": {},
     "output_type": "execute_result"
    }
   ],
   "source": [
    "e_class2_sims"
   ]
  },
  {
   "cell_type": "code",
   "execution_count": 128,
   "id": "470e9ad9-09ec-4343-9c44-c562e503e1a8",
   "metadata": {},
   "outputs": [
    {
     "data": {
      "text/plain": [
       "[np.float32(0.28150576),\n",
       " np.float32(0.18288511),\n",
       " np.float32(0.5676346),\n",
       " np.float32(0.29828525),\n",
       " np.float32(0.36079764),\n",
       " np.float32(0.2761758),\n",
       " np.float32(0.6007578),\n",
       " np.float32(0.15821928),\n",
       " np.float32(0.42719424),\n",
       " np.float32(0.38106734),\n",
       " np.float32(0.5272447),\n",
       " np.float32(0.48157537),\n",
       " np.float32(0.58701736),\n",
       " np.float32(0.28214312),\n",
       " np.float32(0.34982097),\n",
       " np.float32(0.484995),\n",
       " np.float32(0.6656268),\n",
       " np.float32(0.5872488),\n",
       " np.float32(0.5315416),\n",
       " np.float32(0.543595)]"
      ]
     },
     "execution_count": 128,
     "metadata": {},
     "output_type": "execute_result"
    }
   ],
   "source": [
    "e_class3_sims"
   ]
  },
  {
   "cell_type": "code",
   "execution_count": 129,
   "id": "64ba1358-6cca-4e2a-86c4-085ce4d95d0a",
   "metadata": {},
   "outputs": [
    {
     "ename": "FileNotFoundError",
     "evalue": "[Errno 2] No such file or directory: 'output/fedvg.png'",
     "output_type": "error",
     "traceback": [
      "\u001b[1;31m---------------------------------------------------------------------------\u001b[0m",
      "\u001b[1;31mFileNotFoundError\u001b[0m                         Traceback (most recent call last)",
      "Cell \u001b[1;32mIn[129], line 35\u001b[0m\n\u001b[0;32m     33\u001b[0m plt\u001b[38;5;241m.\u001b[39mtight_layout()\n\u001b[0;32m     34\u001b[0m \u001b[38;5;66;03m# Save the plot to a file\u001b[39;00m\n\u001b[1;32m---> 35\u001b[0m \u001b[43mplt\u001b[49m\u001b[38;5;241;43m.\u001b[39;49m\u001b[43msavefig\u001b[49m\u001b[43m(\u001b[49m\u001b[38;5;124;43m'\u001b[39;49m\u001b[38;5;124;43moutput/fedvg.png\u001b[39;49m\u001b[38;5;124;43m'\u001b[39;49m\u001b[43m,\u001b[49m\u001b[43m \u001b[49m\u001b[43mdpi\u001b[49m\u001b[38;5;241;43m=\u001b[39;49m\u001b[38;5;241;43m300\u001b[39;49m\u001b[43m,\u001b[49m\u001b[43m \u001b[49m\u001b[43mbbox_inches\u001b[49m\u001b[38;5;241;43m=\u001b[39;49m\u001b[38;5;124;43m'\u001b[39;49m\u001b[38;5;124;43mtight\u001b[39;49m\u001b[38;5;124;43m'\u001b[39;49m\u001b[43m)\u001b[49m  \u001b[38;5;66;03m# Save as a PNG file with high resolution\u001b[39;00m\n\u001b[0;32m     37\u001b[0m \u001b[38;5;66;03m# Show the plot\u001b[39;00m\n\u001b[0;32m     38\u001b[0m plt\u001b[38;5;241m.\u001b[39mshow()\n",
      "File \u001b[1;32m~\\AppData\\Local\\Programs\\Python\\Python39\\lib\\site-packages\\matplotlib\\pyplot.py:1228\u001b[0m, in \u001b[0;36msavefig\u001b[1;34m(*args, **kwargs)\u001b[0m\n\u001b[0;32m   1225\u001b[0m fig \u001b[38;5;241m=\u001b[39m gcf()\n\u001b[0;32m   1226\u001b[0m \u001b[38;5;66;03m# savefig default implementation has no return, so mypy is unhappy\u001b[39;00m\n\u001b[0;32m   1227\u001b[0m \u001b[38;5;66;03m# presumably this is here because subclasses can return?\u001b[39;00m\n\u001b[1;32m-> 1228\u001b[0m res \u001b[38;5;241m=\u001b[39m fig\u001b[38;5;241m.\u001b[39msavefig(\u001b[38;5;241m*\u001b[39margs, \u001b[38;5;241m*\u001b[39m\u001b[38;5;241m*\u001b[39mkwargs)  \u001b[38;5;66;03m# type: ignore[func-returns-value]\u001b[39;00m\n\u001b[0;32m   1229\u001b[0m fig\u001b[38;5;241m.\u001b[39mcanvas\u001b[38;5;241m.\u001b[39mdraw_idle()  \u001b[38;5;66;03m# Need this if 'transparent=True', to reset colors.\u001b[39;00m\n\u001b[0;32m   1230\u001b[0m \u001b[38;5;28;01mreturn\u001b[39;00m res\n",
      "File \u001b[1;32m~\\AppData\\Local\\Programs\\Python\\Python39\\lib\\site-packages\\matplotlib\\figure.py:3395\u001b[0m, in \u001b[0;36mFigure.savefig\u001b[1;34m(self, fname, transparent, **kwargs)\u001b[0m\n\u001b[0;32m   3393\u001b[0m     \u001b[38;5;28;01mfor\u001b[39;00m ax \u001b[38;5;129;01min\u001b[39;00m \u001b[38;5;28mself\u001b[39m\u001b[38;5;241m.\u001b[39maxes:\n\u001b[0;32m   3394\u001b[0m         _recursively_make_axes_transparent(stack, ax)\n\u001b[1;32m-> 3395\u001b[0m \u001b[38;5;28mself\u001b[39m\u001b[38;5;241m.\u001b[39mcanvas\u001b[38;5;241m.\u001b[39mprint_figure(fname, \u001b[38;5;241m*\u001b[39m\u001b[38;5;241m*\u001b[39mkwargs)\n",
      "File \u001b[1;32m~\\AppData\\Local\\Programs\\Python\\Python39\\lib\\site-packages\\matplotlib\\backend_bases.py:2204\u001b[0m, in \u001b[0;36mFigureCanvasBase.print_figure\u001b[1;34m(self, filename, dpi, facecolor, edgecolor, orientation, format, bbox_inches, pad_inches, bbox_extra_artists, backend, **kwargs)\u001b[0m\n\u001b[0;32m   2200\u001b[0m \u001b[38;5;28;01mtry\u001b[39;00m:\n\u001b[0;32m   2201\u001b[0m     \u001b[38;5;66;03m# _get_renderer may change the figure dpi (as vector formats\u001b[39;00m\n\u001b[0;32m   2202\u001b[0m     \u001b[38;5;66;03m# force the figure dpi to 72), so we need to set it again here.\u001b[39;00m\n\u001b[0;32m   2203\u001b[0m     \u001b[38;5;28;01mwith\u001b[39;00m cbook\u001b[38;5;241m.\u001b[39m_setattr_cm(\u001b[38;5;28mself\u001b[39m\u001b[38;5;241m.\u001b[39mfigure, dpi\u001b[38;5;241m=\u001b[39mdpi):\n\u001b[1;32m-> 2204\u001b[0m         result \u001b[38;5;241m=\u001b[39m print_method(\n\u001b[0;32m   2205\u001b[0m             filename,\n\u001b[0;32m   2206\u001b[0m             facecolor\u001b[38;5;241m=\u001b[39mfacecolor,\n\u001b[0;32m   2207\u001b[0m             edgecolor\u001b[38;5;241m=\u001b[39medgecolor,\n\u001b[0;32m   2208\u001b[0m             orientation\u001b[38;5;241m=\u001b[39morientation,\n\u001b[0;32m   2209\u001b[0m             bbox_inches_restore\u001b[38;5;241m=\u001b[39m_bbox_inches_restore,\n\u001b[0;32m   2210\u001b[0m             \u001b[38;5;241m*\u001b[39m\u001b[38;5;241m*\u001b[39mkwargs)\n\u001b[0;32m   2211\u001b[0m \u001b[38;5;28;01mfinally\u001b[39;00m:\n\u001b[0;32m   2212\u001b[0m     \u001b[38;5;28;01mif\u001b[39;00m bbox_inches \u001b[38;5;129;01mand\u001b[39;00m restore_bbox:\n",
      "File \u001b[1;32m~\\AppData\\Local\\Programs\\Python\\Python39\\lib\\site-packages\\matplotlib\\backend_bases.py:2054\u001b[0m, in \u001b[0;36mFigureCanvasBase._switch_canvas_and_return_print_method.<locals>.<lambda>\u001b[1;34m(*args, **kwargs)\u001b[0m\n\u001b[0;32m   2050\u001b[0m     optional_kws \u001b[38;5;241m=\u001b[39m {  \u001b[38;5;66;03m# Passed by print_figure for other renderers.\u001b[39;00m\n\u001b[0;32m   2051\u001b[0m         \u001b[38;5;124m\"\u001b[39m\u001b[38;5;124mdpi\u001b[39m\u001b[38;5;124m\"\u001b[39m, \u001b[38;5;124m\"\u001b[39m\u001b[38;5;124mfacecolor\u001b[39m\u001b[38;5;124m\"\u001b[39m, \u001b[38;5;124m\"\u001b[39m\u001b[38;5;124medgecolor\u001b[39m\u001b[38;5;124m\"\u001b[39m, \u001b[38;5;124m\"\u001b[39m\u001b[38;5;124morientation\u001b[39m\u001b[38;5;124m\"\u001b[39m,\n\u001b[0;32m   2052\u001b[0m         \u001b[38;5;124m\"\u001b[39m\u001b[38;5;124mbbox_inches_restore\u001b[39m\u001b[38;5;124m\"\u001b[39m}\n\u001b[0;32m   2053\u001b[0m     skip \u001b[38;5;241m=\u001b[39m optional_kws \u001b[38;5;241m-\u001b[39m {\u001b[38;5;241m*\u001b[39minspect\u001b[38;5;241m.\u001b[39msignature(meth)\u001b[38;5;241m.\u001b[39mparameters}\n\u001b[1;32m-> 2054\u001b[0m     print_method \u001b[38;5;241m=\u001b[39m functools\u001b[38;5;241m.\u001b[39mwraps(meth)(\u001b[38;5;28;01mlambda\u001b[39;00m \u001b[38;5;241m*\u001b[39margs, \u001b[38;5;241m*\u001b[39m\u001b[38;5;241m*\u001b[39mkwargs: meth(\n\u001b[0;32m   2055\u001b[0m         \u001b[38;5;241m*\u001b[39margs, \u001b[38;5;241m*\u001b[39m\u001b[38;5;241m*\u001b[39m{k: v \u001b[38;5;28;01mfor\u001b[39;00m k, v \u001b[38;5;129;01min\u001b[39;00m kwargs\u001b[38;5;241m.\u001b[39mitems() \u001b[38;5;28;01mif\u001b[39;00m k \u001b[38;5;129;01mnot\u001b[39;00m \u001b[38;5;129;01min\u001b[39;00m skip}))\n\u001b[0;32m   2056\u001b[0m \u001b[38;5;28;01melse\u001b[39;00m:  \u001b[38;5;66;03m# Let third-parties do as they see fit.\u001b[39;00m\n\u001b[0;32m   2057\u001b[0m     print_method \u001b[38;5;241m=\u001b[39m meth\n",
      "File \u001b[1;32m~\\AppData\\Local\\Programs\\Python\\Python39\\lib\\site-packages\\matplotlib\\backends\\backend_agg.py:496\u001b[0m, in \u001b[0;36mFigureCanvasAgg.print_png\u001b[1;34m(self, filename_or_obj, metadata, pil_kwargs)\u001b[0m\n\u001b[0;32m    449\u001b[0m \u001b[38;5;28;01mdef\u001b[39;00m\u001b[38;5;250m \u001b[39m\u001b[38;5;21mprint_png\u001b[39m(\u001b[38;5;28mself\u001b[39m, filename_or_obj, \u001b[38;5;241m*\u001b[39m, metadata\u001b[38;5;241m=\u001b[39m\u001b[38;5;28;01mNone\u001b[39;00m, pil_kwargs\u001b[38;5;241m=\u001b[39m\u001b[38;5;28;01mNone\u001b[39;00m):\n\u001b[0;32m    450\u001b[0m \u001b[38;5;250m    \u001b[39m\u001b[38;5;124;03m\"\"\"\u001b[39;00m\n\u001b[0;32m    451\u001b[0m \u001b[38;5;124;03m    Write the figure to a PNG file.\u001b[39;00m\n\u001b[0;32m    452\u001b[0m \n\u001b[1;32m   (...)\u001b[0m\n\u001b[0;32m    494\u001b[0m \u001b[38;5;124;03m        *metadata*, including the default 'Software' key.\u001b[39;00m\n\u001b[0;32m    495\u001b[0m \u001b[38;5;124;03m    \"\"\"\u001b[39;00m\n\u001b[1;32m--> 496\u001b[0m     \u001b[38;5;28;43mself\u001b[39;49m\u001b[38;5;241;43m.\u001b[39;49m\u001b[43m_print_pil\u001b[49m\u001b[43m(\u001b[49m\u001b[43mfilename_or_obj\u001b[49m\u001b[43m,\u001b[49m\u001b[43m \u001b[49m\u001b[38;5;124;43m\"\u001b[39;49m\u001b[38;5;124;43mpng\u001b[39;49m\u001b[38;5;124;43m\"\u001b[39;49m\u001b[43m,\u001b[49m\u001b[43m \u001b[49m\u001b[43mpil_kwargs\u001b[49m\u001b[43m,\u001b[49m\u001b[43m \u001b[49m\u001b[43mmetadata\u001b[49m\u001b[43m)\u001b[49m\n",
      "File \u001b[1;32m~\\AppData\\Local\\Programs\\Python\\Python39\\lib\\site-packages\\matplotlib\\backends\\backend_agg.py:445\u001b[0m, in \u001b[0;36mFigureCanvasAgg._print_pil\u001b[1;34m(self, filename_or_obj, fmt, pil_kwargs, metadata)\u001b[0m\n\u001b[0;32m    440\u001b[0m \u001b[38;5;250m\u001b[39m\u001b[38;5;124;03m\"\"\"\u001b[39;00m\n\u001b[0;32m    441\u001b[0m \u001b[38;5;124;03mDraw the canvas, then save it using `.image.imsave` (to which\u001b[39;00m\n\u001b[0;32m    442\u001b[0m \u001b[38;5;124;03m*pil_kwargs* and *metadata* are forwarded).\u001b[39;00m\n\u001b[0;32m    443\u001b[0m \u001b[38;5;124;03m\"\"\"\u001b[39;00m\n\u001b[0;32m    444\u001b[0m FigureCanvasAgg\u001b[38;5;241m.\u001b[39mdraw(\u001b[38;5;28mself\u001b[39m)\n\u001b[1;32m--> 445\u001b[0m \u001b[43mmpl\u001b[49m\u001b[38;5;241;43m.\u001b[39;49m\u001b[43mimage\u001b[49m\u001b[38;5;241;43m.\u001b[39;49m\u001b[43mimsave\u001b[49m\u001b[43m(\u001b[49m\n\u001b[0;32m    446\u001b[0m \u001b[43m    \u001b[49m\u001b[43mfilename_or_obj\u001b[49m\u001b[43m,\u001b[49m\u001b[43m \u001b[49m\u001b[38;5;28;43mself\u001b[39;49m\u001b[38;5;241;43m.\u001b[39;49m\u001b[43mbuffer_rgba\u001b[49m\u001b[43m(\u001b[49m\u001b[43m)\u001b[49m\u001b[43m,\u001b[49m\u001b[43m \u001b[49m\u001b[38;5;28;43mformat\u001b[39;49m\u001b[38;5;241;43m=\u001b[39;49m\u001b[43mfmt\u001b[49m\u001b[43m,\u001b[49m\u001b[43m \u001b[49m\u001b[43morigin\u001b[49m\u001b[38;5;241;43m=\u001b[39;49m\u001b[38;5;124;43m\"\u001b[39;49m\u001b[38;5;124;43mupper\u001b[39;49m\u001b[38;5;124;43m\"\u001b[39;49m\u001b[43m,\u001b[49m\n\u001b[0;32m    447\u001b[0m \u001b[43m    \u001b[49m\u001b[43mdpi\u001b[49m\u001b[38;5;241;43m=\u001b[39;49m\u001b[38;5;28;43mself\u001b[39;49m\u001b[38;5;241;43m.\u001b[39;49m\u001b[43mfigure\u001b[49m\u001b[38;5;241;43m.\u001b[39;49m\u001b[43mdpi\u001b[49m\u001b[43m,\u001b[49m\u001b[43m \u001b[49m\u001b[43mmetadata\u001b[49m\u001b[38;5;241;43m=\u001b[39;49m\u001b[43mmetadata\u001b[49m\u001b[43m,\u001b[49m\u001b[43m \u001b[49m\u001b[43mpil_kwargs\u001b[49m\u001b[38;5;241;43m=\u001b[39;49m\u001b[43mpil_kwargs\u001b[49m\u001b[43m)\u001b[49m\n",
      "File \u001b[1;32m~\\AppData\\Local\\Programs\\Python\\Python39\\lib\\site-packages\\matplotlib\\image.py:1676\u001b[0m, in \u001b[0;36mimsave\u001b[1;34m(fname, arr, vmin, vmax, cmap, format, origin, dpi, metadata, pil_kwargs)\u001b[0m\n\u001b[0;32m   1674\u001b[0m pil_kwargs\u001b[38;5;241m.\u001b[39msetdefault(\u001b[38;5;124m\"\u001b[39m\u001b[38;5;124mformat\u001b[39m\u001b[38;5;124m\"\u001b[39m, \u001b[38;5;28mformat\u001b[39m)\n\u001b[0;32m   1675\u001b[0m pil_kwargs\u001b[38;5;241m.\u001b[39msetdefault(\u001b[38;5;124m\"\u001b[39m\u001b[38;5;124mdpi\u001b[39m\u001b[38;5;124m\"\u001b[39m, (dpi, dpi))\n\u001b[1;32m-> 1676\u001b[0m image\u001b[38;5;241m.\u001b[39msave(fname, \u001b[38;5;241m*\u001b[39m\u001b[38;5;241m*\u001b[39mpil_kwargs)\n",
      "File \u001b[1;32m~\\AppData\\Local\\Programs\\Python\\Python39\\lib\\site-packages\\PIL\\Image.py:2436\u001b[0m, in \u001b[0;36mImage.save\u001b[1;34m(self, fp, format, **params)\u001b[0m\n\u001b[0;32m   2434\u001b[0m         fp \u001b[38;5;241m=\u001b[39m builtins\u001b[38;5;241m.\u001b[39mopen(filename, \u001b[38;5;124m\"\u001b[39m\u001b[38;5;124mr+b\u001b[39m\u001b[38;5;124m\"\u001b[39m)\n\u001b[0;32m   2435\u001b[0m     \u001b[38;5;28;01melse\u001b[39;00m:\n\u001b[1;32m-> 2436\u001b[0m         fp \u001b[38;5;241m=\u001b[39m \u001b[43mbuiltins\u001b[49m\u001b[38;5;241;43m.\u001b[39;49m\u001b[43mopen\u001b[49m\u001b[43m(\u001b[49m\u001b[43mfilename\u001b[49m\u001b[43m,\u001b[49m\u001b[43m \u001b[49m\u001b[38;5;124;43m\"\u001b[39;49m\u001b[38;5;124;43mw+b\u001b[39;49m\u001b[38;5;124;43m\"\u001b[39;49m\u001b[43m)\u001b[49m\n\u001b[0;32m   2438\u001b[0m \u001b[38;5;28;01mtry\u001b[39;00m:\n\u001b[0;32m   2439\u001b[0m     save_handler(\u001b[38;5;28mself\u001b[39m, fp, filename)\n",
      "\u001b[1;31mFileNotFoundError\u001b[0m: [Errno 2] No such file or directory: 'output/fedvg.png'"
     ]
    },
    {
     "data": {
      "image/png": "[encoded data removed]",
      "text/plain": [
       "<Figure size 650x420 with 1 Axes>"
      ]
     },
     "metadata": {},
     "output_type": "display_data"
    }
   ],
   "source": [
    "# Similarity visulization\n",
    "# Generate sample similarity data for four classes (each with 20 values in the range 0 to 1)\n",
    "e_class1_sims = e_class0_sims\n",
    "e_class2_sims = e_class1_sims\n",
    "e_class3_sims = e_class2_sims\n",
    "e_class4_sims = e_class3_sims\n",
    "\n",
    "# Set figure size\n",
    "plt.figure(figsize=(6.5, 4.2))  # Set the size of the figure (width, height)\n",
    "\n",
    "# Sample DataFrame with four columns\n",
    "data=pd.DataFrame({'Class 1':e_class1_sims,'Class 2':e_class2_sims,'Class 3':e_class3_sims,'Class 4':class4_sim})\n",
    "df = pd.DataFrame(data)\n",
    "\n",
    "# Plot the probability distributions\n",
    "#plt.figure(figsize=(10, 6))\n",
    "\n",
    "# Define colors and line styles for each column\n",
    "colors = ['#1f77b4', '#ff7f0e', '#2ca02c', '#d62728']\n",
    "linestyles = ['-.', '--', '-', '-']\n",
    "\n",
    "# Plot the probability distributions with unique colors and line styles\n",
    "for column, color, linestyle in zip(df.columns, colors, linestyles):\n",
    "    sns.kdeplot(df[column], label=column, color=color, linestyle=linestyle)\n",
    "\n",
    "#plt.title('Probability Distributions of Four Columns')\n",
    "plt.xlabel('Similarity',fontsize=12)\n",
    "plt.ylabel('Density',fontsize=12)\n",
    "plt.yticks(fontsize=12)  # Set y-tick labels font size\n",
    "plt.legend(loc='upper right',fontsize=12)  # Increase legend font size\n",
    "\n",
    "# Optimize layout\n",
    "plt.tight_layout()\n",
    "# Save the plot to a file\n",
    "plt.savefig('output/fedvg.png', dpi=300, bbox_inches='tight')  # Save as a PNG file with high resolution\n",
    "\n",
    "# Show the plot\n",
    "plt.show()\n"
   ]
  },
  {
   "cell_type": "code",
   "execution_count": null,
   "id": "c8dcd070-0dd7-427b-bb30-077081ccd4e6",
   "metadata": {},
   "outputs": [],
   "source": []
  }
 ],
 "metadata": {
  "kernelspec": {
   "display_name": "Python 3 (ipykernel)",
   "language": "python",
   "name": "python3"
  },
  "language_info": {
   "codemirror_mode": {
    "name": "ipython",
    "version": 3
   },
   "file_extension": ".py",
   "mimetype": "text/x-python",
   "name": "python",
   "nbconvert_exporter": "python",
   "pygments_lexer": "ipython3",
   "version": "3.13.2"
  }
 },
 "nbformat": 4,
 "nbformat_minor": 5
}
