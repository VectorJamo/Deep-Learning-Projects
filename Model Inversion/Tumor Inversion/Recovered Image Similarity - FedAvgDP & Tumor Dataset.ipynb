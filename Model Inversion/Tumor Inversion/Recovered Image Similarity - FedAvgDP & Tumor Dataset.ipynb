{
 "cells": [
  {
   "cell_type": "code",
   "execution_count": 1,
   "id": "646b38c2-386a-4f83-a983-ea764ad8267f",
   "metadata": {},
   "outputs": [],
   "source": [
    "# Attempting to recover training data using model's parameters and a DCGAN that was trained on similar data\n",
    "# Author: Suraj Neupane\n",
    "# Written from scratch as a part of a Research Project 2025, Concordia University of Edmonton.\n",
    "import numpy as np\n",
    "\n",
    "import torch\n",
    "from torch import nn\n",
    "from torch.nn import functional\n",
    "\n",
    "from torch.utils import data\n",
    "from torch.utils.data import DataLoader\n",
    "\n",
    "import torchvision\n",
    "from torchvision import datasets\n",
    "from torchvision import transforms\n",
    "\n",
    "import pickle\n",
    "\n",
    "import matplotlib.pyplot as plt\n",
    "%matplotlib inline"
   ]
  },
  {
   "cell_type": "code",
   "execution_count": 2,
   "id": "8b80ddb2-ed75-4870-85b4-9300fce0df7e",
   "metadata": {},
   "outputs": [
    {
     "data": {
      "text/plain": [
       "'2.5.1+cu118'"
      ]
     },
     "execution_count": 2,
     "metadata": {},
     "output_type": "execute_result"
    }
   ],
   "source": [
    "torch.__version__"
   ]
  },
  {
   "cell_type": "code",
   "execution_count": 3,
   "id": "d6950585-eb31-4f61-bd60-5bf8716fcdef",
   "metadata": {},
   "outputs": [],
   "source": [
    "device = 'cuda' if torch.cuda.is_available() else 'cpu'"
   ]
  },
  {
   "cell_type": "code",
   "execution_count": 4,
   "id": "36c47e07-6b7d-4123-a59d-5d465f9ef280",
   "metadata": {},
   "outputs": [
    {
     "data": {
      "text/plain": [
       "'cuda'"
      ]
     },
     "execution_count": 4,
     "metadata": {},
     "output_type": "execute_result"
    }
   ],
   "source": [
    "device"
   ]
  },
  {
   "cell_type": "code",
   "execution_count": 5,
   "id": "b852ca55-f33e-469f-b7b9-e00d21124927",
   "metadata": {},
   "outputs": [],
   "source": [
    "# DCGAN Implementation Class\n",
    "# Discriminator\n",
    "class Discriminator(nn.Module):\n",
    "    def __init__(self, img_channels, features_d):\n",
    "        super().__init__()\n",
    "        self.disc = nn.Sequential(\n",
    "            # Input shape: img_channels x 64 x 64\n",
    "            nn.Conv2d(\n",
    "              in_channels=img_channels, out_channels=features_d, kernel_size=4, stride=2, padding=1\n",
    "            ), # Output shape: features_d x 32 x 32\n",
    "            nn.LeakyReLU(0.2),\n",
    "            self._block(features_d, features_d*2, 4, 2, 1), # Output shape: features_d*2 x 16 x 16\n",
    "            self._block(features_d*2, features_d*4, 4, 2, 1), # Output shape: features_d*4 x 8 x 8\n",
    "            self._block(features_d*4, features_d*8, 4, 2, 1), # Output shape: features_d*8 x 4 x 4\n",
    "           \n",
    "            nn.Conv2d(in_channels=features_d*8, out_channels=1, kernel_size=4, stride=2, padding=0), # Output shape: 1 x 1\n",
    "            nn.Sigmoid(),\n",
    "        )\n",
    "\n",
    "    def _block(self, in_channels, out_channels, kernel_size, stride, padding):\n",
    "        return nn.Sequential(\n",
    "            nn.Conv2d(in_channels, out_channels, kernel_size, stride, padding, bias=False),\n",
    "            nn.BatchNorm2d(out_channels),\n",
    "            nn.LeakyReLU(0.2),\n",
    "        )\n",
    "\n",
    "    def forward(self, X):\n",
    "        return self.disc(X)\n"
   ]
  },
  {
   "cell_type": "code",
   "execution_count": 6,
   "id": "5afe02e5-61d3-4f25-8933-8484e519cd4a",
   "metadata": {},
   "outputs": [],
   "source": [
    "# Generator\n",
    "class Generator(nn.Module):\n",
    "    def __init__(self, z_dim, img_channels, features_g):\n",
    "        super().__init__()\n",
    "        self.gen = nn.Sequential(\n",
    "            self._block(z_dim, features_g*16, 4, 1, 0), # z_dim: (batch_size, 100, 1, 1) -> (batch_size, 1024, 4, 4)\n",
    "            self._block(features_g*16, features_g*8, 4, 2, 1), # z_dim: (batch_size, 1024, 4, 4) -> (batch_size, 512, 8, 8)\n",
    "            self._block(features_g*8, features_g*4, 4, 2, 1), # z_dim: (batch_size, 512, 8, 8) -> (batch_size, 256, 16, 16)\n",
    "            self._block(features_g*4, features_g*2, 4, 2, 1), # z_dim: (batch_size, 128, 16, 16) -> (batch_size, 64, 32, 32)\n",
    "            nn.ConvTranspose2d(\n",
    "                in_channels=features_g*2, out_channels=img_channels, kernel_size=4, stride=2, padding=1 # z_dim: (batch_size, 64, 32, 32) -> (batch_size, 1, 64, 64)\n",
    "            ),\n",
    "            nn.Tanh(),\n",
    "        )\n",
    "        \n",
    "    def _block(self, in_channels, out_channels, kernel_size, stride, padding):\n",
    "        return nn.Sequential(\n",
    "            nn.ConvTranspose2d(\n",
    "                in_channels, out_channels, kernel_size, stride, padding, bias=False,\n",
    "            ),\n",
    "            nn.InstanceNorm2d(out_channels, affine=True),\n",
    "            nn.ReLU(),\n",
    "        )\n",
    "\n",
    "    def forward(self, X):\n",
    "        return self.gen(X)"
   ]
  },
  {
   "cell_type": "code",
   "execution_count": 7,
   "id": "48c1be35-d58a-4d0c-990d-9250fbdbf1b3",
   "metadata": {},
   "outputs": [],
   "source": [
    "# Hyperparams\n",
    "z_dim = 100\n",
    "img_channels = 1\n",
    "features_disc = 64\n",
    "features_gen = 64"
   ]
  },
  {
   "cell_type": "code",
   "execution_count": 8,
   "id": "f2dc1f40-5c2e-4903-b2e7-7abe5cae9772",
   "metadata": {},
   "outputs": [],
   "source": [
    "# Create the model instances\n",
    "gen = Generator(z_dim, img_channels, features_gen).to(device)\n",
    "disc = Discriminator(img_channels, features_disc).to(device)"
   ]
  },
  {
   "cell_type": "code",
   "execution_count": 9,
   "id": "bc7a5deb-f8d8-41d4-aed3-d012d39a84b9",
   "metadata": {},
   "outputs": [
    {
     "data": {
      "text/plain": [
       "<All keys matched successfully>"
      ]
     },
     "execution_count": 9,
     "metadata": {},
     "output_type": "execute_result"
    }
   ],
   "source": [
    "# Load the trained GAN\n",
    "gen.load_state_dict(torch.load('saved models/Generator2.pth', weights_only=True))\n",
    "disc.load_state_dict(torch.load('saved models/Discriminator2.pth', weights_only=True))"
   ]
  },
  {
   "cell_type": "code",
   "execution_count": 10,
   "id": "a504e932-e168-4bb8-88cc-eea0810aafb0",
   "metadata": {},
   "outputs": [],
   "source": [
    "# Generate a random fake image\n",
    "noise = torch.randn(1, z_dim, 1, 1).to(device)\n",
    "fake_img = gen(noise)"
   ]
  },
  {
   "cell_type": "code",
   "execution_count": 11,
   "id": "98b5d73f-b130-4bc1-a868-c225bd2abe62",
   "metadata": {},
   "outputs": [
    {
     "data": {
      "text/plain": [
       "torch.Size([1, 1, 64, 64])"
      ]
     },
     "execution_count": 11,
     "metadata": {},
     "output_type": "execute_result"
    }
   ],
   "source": [
    "fake_img.shape"
   ]
  },
  {
   "cell_type": "code",
   "execution_count": 12,
   "id": "9d19338c-18e4-4b6e-842f-a225718fa8bb",
   "metadata": {},
   "outputs": [
    {
     "name": "stdout",
     "output_type": "stream",
     "text": [
      "torch.Size([64, 64])\n"
     ]
    },
    {
     "data": {
      "text/plain": [
       "<matplotlib.image.AxesImage at 0x1850de0a970>"
      ]
     },
     "execution_count": 12,
     "metadata": {},
     "output_type": "execute_result"
    },
    {
     "data": {
      "image/png": "[encoded data removed]",
      "text/plain": [
       "<Figure size 640x480 with 1 Axes>"
      ]
     },
     "metadata": {},
     "output_type": "display_data"
    }
   ],
   "source": [
    "fake_img = fake_img.squeeze()\n",
    "print(fake_img.shape)\n",
    "plt.axis(False)\n",
    "plt.title('Fake Generated Image:')\n",
    "plt.imshow(fake_img.cpu().detach(), cmap='gray')"
   ]
  },
  {
   "cell_type": "code",
   "execution_count": 13,
   "id": "cf2aefac-a759-4335-a3de-2065d6a6a9a5",
   "metadata": {},
   "outputs": [],
   "source": [
    "# Target Model\n",
    "class TFCNN(nn.Module):\n",
    "    def __init__(self, n_classes):\n",
    "        super().__init__()\n",
    "        self.n_classes = n_classes\n",
    "\n",
    "        self.encoder = nn.Sequential(\n",
    "            nn.Conv2d(3, 32, 3, stride=1, padding=1),\n",
    "            nn.ReLU(True),\n",
    "            nn.MaxPool2d(2),\n",
    "            nn.Conv2d(32, 64, 3, stride=1, padding=1),\n",
    "            nn.ReLU(True),\n",
    "            nn.MaxPool2d(2),\n",
    "            nn.Conv2d(64, 64, 3, stride=1, padding=1),\n",
    "            nn.ReLU(True),\n",
    "            nn.MaxPool2d(2),\n",
    "            Reshape(),\n",
    "        )\n",
    "\n",
    "        self.h_size = 64 * 4 * 4\n",
    "\n",
    "        self.classifier = nn.Sequential(\n",
    "            nn.Linear(64 * 4 * 4, 128),\n",
    "            nn.ReLU(True),\n",
    "            nn.Linear(128, n_classes)\n",
    "        )\n",
    "\n",
    "    def forward(self, xs):\n",
    "        code = self.encoder(xs)\n",
    "        logits = self.classifier(code)\n",
    "        return code, logits\n"
   ]
  },
  {
   "cell_type": "code",
   "execution_count": 14,
   "id": "d28876e2-91ee-4ebf-bc52-b71dc82edfa2",
   "metadata": {},
   "outputs": [],
   "source": [
    "class Reshape(nn.Module):\n",
    "    def __init__(self,):\n",
    "        super().__init__()\n",
    "\n",
    "    def forward(self, xs):\n",
    "        return xs.reshape((xs.shape[0], -1))"
   ]
  },
  {
   "cell_type": "code",
   "execution_count": 15,
   "id": "dd57210c-2c18-4651-8f29-be94a7a7a88f",
   "metadata": {},
   "outputs": [],
   "source": [
    "class ClassifyNet(nn.Module):\n",
    "    def __init__(self, net, init_way, n_classes, input_size=None):\n",
    "        super().__init__()\n",
    "        self.net = net\n",
    "        self.init_way = init_way\n",
    "        self.n_classes = n_classes\n",
    "\n",
    "        model = TFCNN(n_classes)\n",
    "\n",
    "        self.h_size = model.h_size\n",
    "\n",
    "        # Convo and pool layers\n",
    "        self.encoder = model.encoder\n",
    "\n",
    "        # Classifier layer\n",
    "        self.classifier = nn.Linear(\n",
    "            self.h_size, self.n_classes, bias=False\n",
    "        )\n",
    "\n",
    "        if self.init_way == \"orth\":\n",
    "            ws = get_orth_weights(self.h_size, self.n_classes)\n",
    "            self.classifier.load_state_dict({\"weight\": ws})\n",
    "\n",
    "    def forward(self, xs):\n",
    "        hs = self.encoder(xs)\n",
    "        logits = self.classifier(hs)\n",
    "        return hs, logits"
   ]
  },
  {
   "cell_type": "code",
   "execution_count": 16,
   "id": "83ea3c08-0470-4c9a-ba15-8328a316b3ab",
   "metadata": {},
   "outputs": [],
   "source": [
    "def load_target_model(base_net, n_classes, path):\n",
    "    # Create the base model\n",
    "    model = ClassifyNet(net=base_net, init_way='none', n_classes=n_classes)\n",
    "    # Load the model\n",
    "    model.load_state_dict(torch.load(path, weights_only=True))\n",
    "\n",
    "    return model"
   ]
  },
  {
   "cell_type": "code",
   "execution_count": 17,
   "id": "0880f1aa-9d08-445a-85ac-f1ff3cebde04",
   "metadata": {},
   "outputs": [
    {
     "name": "stdout",
     "output_type": "stream",
     "text": [
      "Model loaded successfully!\n",
      "Number of parameters in the loaded model: 60416\n"
     ]
    }
   ],
   "source": [
    "# Target Model Loading\n",
    "BASE_NET = 'TFCNN'\n",
    "DATASET = 'tumor4'\n",
    "N_CLASSES = 4\n",
    "\n",
    "target_model = load_target_model(base_net=BASE_NET, n_classes=N_CLASSES, path='saved models/fedavgDP_global_model1.path').to(device)\n",
    "print('Model loaded successfully!')\n",
    "target_model.eval()\n",
    "\n",
    "num_params = sum(p.numel() for p in target_model.parameters())\n",
    "print('Number of parameters in the loaded model:', num_params)\n"
   ]
  },
  {
   "cell_type": "code",
   "execution_count": 18,
   "id": "f843f19e-b2a5-4ffe-b22b-de4ff93c5643",
   "metadata": {},
   "outputs": [],
   "source": [
    "# BEGIN BATCH MODEL INVERSION\n",
    "img_count = 20\n",
    "latent_vectors = torch.randn(img_count, z_dim, 1, 1, requires_grad=True) # Start with 20 random noises"
   ]
  },
  {
   "cell_type": "code",
   "execution_count": 19,
   "id": "c21320ed-d5ac-4919-aaad-8cfa093998a6",
   "metadata": {},
   "outputs": [],
   "source": [
    "def recover_images(count, target_image_class, latent_vectors):\n",
    "    optimized_latent_vectors = []\n",
    "    \n",
    "    for x in range(0, count):\n",
    "        z = latent_vectors[x].unsqueeze(dim=0).clone().detach().requires_grad_(True)\n",
    "        \n",
    "        learning_rate = 0.01\n",
    "        target_class = 1 # The second class\n",
    "        \n",
    "        # Create the optimizer\n",
    "        optimizer = torch.optim.Adam([z], lr=learning_rate)\n",
    "        \n",
    "        # Loss function (e.g., Cross-Entropy with classifier outputs)\n",
    "        loss_fn = nn.CrossEntropyLoss()\n",
    "        target_class = torch.tensor([target_image_class])  # Set the target class\n",
    "    \n",
    "        # Optimization loop to find the best z\n",
    "        rounds = 500\n",
    "        for i in range(rounds):\n",
    "            optimizer.zero_grad()\n",
    "            \n",
    "            generated_image = gen(z.to(device))  # Generate an image from the latent vector\n",
    "            generated_image = generated_image.repeat(1, 3, 1, 1)\n",
    "            generated_image = functional.interpolate(generated_image, size=(32, 32), mode='nearest')\n",
    "            #print(generated_image.shape)\n",
    "            hs, prediction_logits = target_model(generated_image)  # Classifier output\n",
    "            #print(prediction_logits)\n",
    "            #print(type(prediction_logits))\n",
    "            loss = loss_fn(prediction_logits, target_class.to(device))  # Minimize difference with true class\n",
    "            loss.backward()\n",
    "            optimizer.step()\n",
    "            \n",
    "            if i % 50 == 0:\n",
    "                print(f\"Generating Image Number: {x+1} for target class {target_class}. Step {i}, Loss: {loss.item()}\")\n",
    "    \n",
    "        optimized_latent_vectors.append(z)\n",
    "        \n",
    "    return optimized_latent_vectors"
   ]
  },
  {
   "cell_type": "code",
   "execution_count": 20,
   "id": "9ebc9533-23ca-4d44-8aea-9d134281b3a4",
   "metadata": {
    "scrolled": true
   },
   "outputs": [
    {
     "name": "stdout",
     "output_type": "stream",
     "text": [
      "Generating Image Number: 1 for target class tensor([0]). Step 0, Loss: 56.865509033203125\n",
      "Generating Image Number: 1 for target class tensor([0]). Step 50, Loss: 46.76747512817383\n",
      "Generating Image Number: 1 for target class tensor([0]). Step 100, Loss: 44.191688537597656\n",
      "Generating Image Number: 1 for target class tensor([0]). Step 150, Loss: 43.1302490234375\n",
      "Generating Image Number: 1 for target class tensor([0]). Step 200, Loss: 42.287044525146484\n",
      "Generating Image Number: 1 for target class tensor([0]). Step 250, Loss: 41.93238830566406\n",
      "Generating Image Number: 1 for target class tensor([0]). Step 300, Loss: 41.63344955444336\n",
      "Generating Image Number: 1 for target class tensor([0]). Step 350, Loss: 41.3903923034668\n",
      "Generating Image Number: 1 for target class tensor([0]). Step 400, Loss: 41.185546875\n",
      "Generating Image Number: 1 for target class tensor([0]). Step 450, Loss: 41.01349639892578\n",
      "Generating Image Number: 2 for target class tensor([0]). Step 0, Loss: 55.07233810424805\n",
      "Generating Image Number: 2 for target class tensor([0]). Step 50, Loss: 37.332401275634766\n",
      "Generating Image Number: 2 for target class tensor([0]). Step 100, Loss: 36.443458557128906\n",
      "Generating Image Number: 2 for target class tensor([0]). Step 150, Loss: 35.29371643066406\n",
      "Generating Image Number: 2 for target class tensor([0]). Step 200, Loss: 34.177181243896484\n",
      "Generating Image Number: 2 for target class tensor([0]). Step 250, Loss: 33.34648132324219\n",
      "Generating Image Number: 2 for target class tensor([0]). Step 300, Loss: 32.52956008911133\n",
      "Generating Image Number: 2 for target class tensor([0]). Step 350, Loss: 31.836109161376953\n",
      "Generating Image Number: 2 for target class tensor([0]). Step 400, Loss: 30.713661193847656\n",
      "Generating Image Number: 2 for target class tensor([0]). Step 450, Loss: 29.47711944580078\n",
      "Generating Image Number: 3 for target class tensor([0]). Step 0, Loss: 36.264244079589844\n",
      "Generating Image Number: 3 for target class tensor([0]). Step 50, Loss: 34.27070236206055\n",
      "Generating Image Number: 3 for target class tensor([0]). Step 100, Loss: 33.30317687988281\n",
      "Generating Image Number: 3 for target class tensor([0]). Step 150, Loss: 32.28779602050781\n",
      "Generating Image Number: 3 for target class tensor([0]). Step 200, Loss: 31.293115615844727\n",
      "Generating Image Number: 3 for target class tensor([0]). Step 250, Loss: 30.477718353271484\n",
      "Generating Image Number: 3 for target class tensor([0]). Step 300, Loss: 30.091609954833984\n",
      "Generating Image Number: 3 for target class tensor([0]). Step 350, Loss: 29.639432907104492\n",
      "Generating Image Number: 3 for target class tensor([0]). Step 400, Loss: 29.325088500976562\n",
      "Generating Image Number: 3 for target class tensor([0]). Step 450, Loss: 28.998130798339844\n",
      "Generating Image Number: 4 for target class tensor([0]). Step 0, Loss: 37.33384704589844\n",
      "Generating Image Number: 4 for target class tensor([0]). Step 50, Loss: 33.74295425415039\n",
      "Generating Image Number: 4 for target class tensor([0]). Step 100, Loss: 30.81380271911621\n",
      "Generating Image Number: 4 for target class tensor([0]). Step 150, Loss: 27.756587982177734\n",
      "Generating Image Number: 4 for target class tensor([0]). Step 200, Loss: 25.064579010009766\n",
      "Generating Image Number: 4 for target class tensor([0]). Step 250, Loss: 23.64544105529785\n",
      "Generating Image Number: 4 for target class tensor([0]). Step 300, Loss: 22.858551025390625\n",
      "Generating Image Number: 4 for target class tensor([0]). Step 350, Loss: 22.251781463623047\n",
      "Generating Image Number: 4 for target class tensor([0]). Step 400, Loss: 21.471782684326172\n",
      "Generating Image Number: 4 for target class tensor([0]). Step 450, Loss: 20.727279663085938\n",
      "Generating Image Number: 5 for target class tensor([0]). Step 0, Loss: 62.06667709350586\n",
      "Generating Image Number: 5 for target class tensor([0]). Step 50, Loss: 36.2757453918457\n",
      "Generating Image Number: 5 for target class tensor([0]). Step 100, Loss: 35.242469787597656\n",
      "Generating Image Number: 5 for target class tensor([0]). Step 150, Loss: 34.226009368896484\n",
      "Generating Image Number: 5 for target class tensor([0]). Step 200, Loss: 33.081634521484375\n",
      "Generating Image Number: 5 for target class tensor([0]). Step 250, Loss: 32.146881103515625\n",
      "Generating Image Number: 5 for target class tensor([0]). Step 300, Loss: 31.29844856262207\n",
      "Generating Image Number: 5 for target class tensor([0]). Step 350, Loss: 30.386062622070312\n",
      "Generating Image Number: 5 for target class tensor([0]). Step 400, Loss: 29.02337074279785\n",
      "Generating Image Number: 5 for target class tensor([0]). Step 450, Loss: 28.13849639892578\n",
      "Generating Image Number: 6 for target class tensor([0]). Step 0, Loss: 69.59447479248047\n",
      "Generating Image Number: 6 for target class tensor([0]). Step 50, Loss: 61.98698425292969\n",
      "Generating Image Number: 6 for target class tensor([0]). Step 100, Loss: 56.095794677734375\n",
      "Generating Image Number: 6 for target class tensor([0]). Step 150, Loss: 51.32033157348633\n",
      "Generating Image Number: 6 for target class tensor([0]). Step 200, Loss: 48.280799865722656\n",
      "Generating Image Number: 6 for target class tensor([0]). Step 250, Loss: 46.192596435546875\n",
      "Generating Image Number: 6 for target class tensor([0]). Step 300, Loss: 44.84481430053711\n",
      "Generating Image Number: 6 for target class tensor([0]). Step 350, Loss: 44.12052536010742\n",
      "Generating Image Number: 6 for target class tensor([0]). Step 400, Loss: 43.79092025756836\n",
      "Generating Image Number: 6 for target class tensor([0]). Step 450, Loss: 43.49419021606445\n",
      "Generating Image Number: 7 for target class tensor([0]). Step 0, Loss: 58.0096435546875\n",
      "Generating Image Number: 7 for target class tensor([0]). Step 50, Loss: 34.959407806396484\n",
      "Generating Image Number: 7 for target class tensor([0]). Step 100, Loss: 33.267215728759766\n",
      "Generating Image Number: 7 for target class tensor([0]). Step 150, Loss: 30.740461349487305\n",
      "Generating Image Number: 7 for target class tensor([0]). Step 200, Loss: 27.14661407470703\n",
      "Generating Image Number: 7 for target class tensor([0]). Step 250, Loss: 26.338680267333984\n",
      "Generating Image Number: 7 for target class tensor([0]). Step 300, Loss: 25.79004669189453\n",
      "Generating Image Number: 7 for target class tensor([0]). Step 350, Loss: 25.40447235107422\n",
      "Generating Image Number: 7 for target class tensor([0]). Step 400, Loss: 25.05325698852539\n",
      "Generating Image Number: 7 for target class tensor([0]). Step 450, Loss: 24.655908584594727\n",
      "Generating Image Number: 8 for target class tensor([0]). Step 0, Loss: 43.425384521484375\n",
      "Generating Image Number: 8 for target class tensor([0]). Step 50, Loss: 39.817352294921875\n",
      "Generating Image Number: 8 for target class tensor([0]). Step 100, Loss: 38.660545349121094\n",
      "Generating Image Number: 8 for target class tensor([0]). Step 150, Loss: 37.88239669799805\n",
      "Generating Image Number: 8 for target class tensor([0]). Step 200, Loss: 37.247013092041016\n",
      "Generating Image Number: 8 for target class tensor([0]). Step 250, Loss: 36.739540100097656\n",
      "Generating Image Number: 8 for target class tensor([0]). Step 300, Loss: 36.3614501953125\n",
      "Generating Image Number: 8 for target class tensor([0]). Step 350, Loss: 36.09962463378906\n",
      "Generating Image Number: 8 for target class tensor([0]). Step 400, Loss: 35.750999450683594\n",
      "Generating Image Number: 8 for target class tensor([0]). Step 450, Loss: 35.319007873535156\n",
      "Generating Image Number: 9 for target class tensor([0]). Step 0, Loss: 42.432533264160156\n",
      "Generating Image Number: 9 for target class tensor([0]). Step 50, Loss: 39.56633758544922\n",
      "Generating Image Number: 9 for target class tensor([0]). Step 100, Loss: 38.84569549560547\n",
      "Generating Image Number: 9 for target class tensor([0]). Step 150, Loss: 60.45089340209961\n",
      "Generating Image Number: 9 for target class tensor([0]). Step 200, Loss: 40.32957458496094\n",
      "Generating Image Number: 9 for target class tensor([0]). Step 250, Loss: 39.04194259643555\n",
      "Generating Image Number: 9 for target class tensor([0]). Step 300, Loss: 38.83836364746094\n",
      "Generating Image Number: 9 for target class tensor([0]). Step 350, Loss: 38.5600471496582\n",
      "Generating Image Number: 9 for target class tensor([0]). Step 400, Loss: 38.395721435546875\n",
      "Generating Image Number: 9 for target class tensor([0]). Step 450, Loss: 38.12824249267578\n",
      "Generating Image Number: 10 for target class tensor([0]). Step 0, Loss: 66.34988403320312\n",
      "Generating Image Number: 10 for target class tensor([0]). Step 50, Loss: 37.241798400878906\n",
      "Generating Image Number: 10 for target class tensor([0]). Step 100, Loss: 36.1582145690918\n",
      "Generating Image Number: 10 for target class tensor([0]). Step 150, Loss: 34.972293853759766\n",
      "Generating Image Number: 10 for target class tensor([0]). Step 200, Loss: 33.406192779541016\n",
      "Generating Image Number: 10 for target class tensor([0]). Step 250, Loss: 31.643815994262695\n",
      "Generating Image Number: 10 for target class tensor([0]). Step 300, Loss: 30.210254669189453\n",
      "Generating Image Number: 10 for target class tensor([0]). Step 350, Loss: 29.003509521484375\n",
      "Generating Image Number: 10 for target class tensor([0]). Step 400, Loss: 28.238937377929688\n",
      "Generating Image Number: 10 for target class tensor([0]). Step 450, Loss: 27.70688247680664\n",
      "Generating Image Number: 11 for target class tensor([0]). Step 0, Loss: 41.244140625\n",
      "Generating Image Number: 11 for target class tensor([0]). Step 50, Loss: 33.432464599609375\n",
      "Generating Image Number: 11 for target class tensor([0]). Step 100, Loss: 32.52354431152344\n",
      "Generating Image Number: 11 for target class tensor([0]). Step 150, Loss: 31.765371322631836\n",
      "Generating Image Number: 11 for target class tensor([0]). Step 200, Loss: 31.165307998657227\n",
      "Generating Image Number: 11 for target class tensor([0]). Step 250, Loss: 30.707395553588867\n",
      "Generating Image Number: 11 for target class tensor([0]). Step 300, Loss: 30.29111671447754\n",
      "Generating Image Number: 11 for target class tensor([0]). Step 350, Loss: 29.665966033935547\n",
      "Generating Image Number: 11 for target class tensor([0]). Step 400, Loss: 29.066287994384766\n",
      "Generating Image Number: 11 for target class tensor([0]). Step 450, Loss: 28.552261352539062\n",
      "Generating Image Number: 12 for target class tensor([0]). Step 0, Loss: 38.98583221435547\n",
      "Generating Image Number: 12 for target class tensor([0]). Step 50, Loss: 34.58728790283203\n",
      "Generating Image Number: 12 for target class tensor([0]). Step 100, Loss: 33.91180419921875\n",
      "Generating Image Number: 12 for target class tensor([0]). Step 150, Loss: 33.371986389160156\n",
      "Generating Image Number: 12 for target class tensor([0]). Step 200, Loss: 32.71664047241211\n",
      "Generating Image Number: 12 for target class tensor([0]). Step 250, Loss: 32.23877716064453\n",
      "Generating Image Number: 12 for target class tensor([0]). Step 300, Loss: 31.44183349609375\n",
      "Generating Image Number: 12 for target class tensor([0]). Step 350, Loss: 30.999147415161133\n",
      "Generating Image Number: 12 for target class tensor([0]). Step 400, Loss: 30.56646728515625\n",
      "Generating Image Number: 12 for target class tensor([0]). Step 450, Loss: 30.38199234008789\n",
      "Generating Image Number: 13 for target class tensor([0]). Step 0, Loss: 51.073543548583984\n",
      "Generating Image Number: 13 for target class tensor([0]). Step 50, Loss: 35.77466583251953\n",
      "Generating Image Number: 13 for target class tensor([0]). Step 100, Loss: 34.60069274902344\n",
      "Generating Image Number: 13 for target class tensor([0]). Step 150, Loss: 33.382545471191406\n",
      "Generating Image Number: 13 for target class tensor([0]). Step 200, Loss: 32.02702331542969\n",
      "Generating Image Number: 13 for target class tensor([0]). Step 250, Loss: 30.254289627075195\n",
      "Generating Image Number: 13 for target class tensor([0]). Step 300, Loss: 28.041488647460938\n",
      "Generating Image Number: 13 for target class tensor([0]). Step 350, Loss: 26.895580291748047\n",
      "Generating Image Number: 13 for target class tensor([0]). Step 400, Loss: 26.022220611572266\n",
      "Generating Image Number: 13 for target class tensor([0]). Step 450, Loss: 25.40605354309082\n",
      "Generating Image Number: 14 for target class tensor([0]). Step 0, Loss: 37.449398040771484\n",
      "Generating Image Number: 14 for target class tensor([0]). Step 50, Loss: 34.67665100097656\n",
      "Generating Image Number: 14 for target class tensor([0]). Step 100, Loss: 32.10363006591797\n",
      "Generating Image Number: 14 for target class tensor([0]). Step 150, Loss: 27.546175003051758\n",
      "Generating Image Number: 14 for target class tensor([0]). Step 200, Loss: 24.025535583496094\n",
      "Generating Image Number: 14 for target class tensor([0]). Step 250, Loss: 22.529129028320312\n",
      "Generating Image Number: 14 for target class tensor([0]). Step 300, Loss: 21.89104461669922\n",
      "Generating Image Number: 14 for target class tensor([0]). Step 350, Loss: 21.50403594970703\n",
      "Generating Image Number: 14 for target class tensor([0]). Step 400, Loss: 21.33302116394043\n",
      "Generating Image Number: 14 for target class tensor([0]). Step 450, Loss: 20.940784454345703\n",
      "Generating Image Number: 15 for target class tensor([0]). Step 0, Loss: 47.36724853515625\n",
      "Generating Image Number: 15 for target class tensor([0]). Step 50, Loss: 34.391510009765625\n",
      "Generating Image Number: 15 for target class tensor([0]). Step 100, Loss: 32.00773239135742\n",
      "Generating Image Number: 15 for target class tensor([0]). Step 150, Loss: 29.488677978515625\n",
      "Generating Image Number: 15 for target class tensor([0]). Step 200, Loss: 27.709508895874023\n",
      "Generating Image Number: 15 for target class tensor([0]). Step 250, Loss: 26.4090518951416\n",
      "Generating Image Number: 15 for target class tensor([0]). Step 300, Loss: 25.1798038482666\n",
      "Generating Image Number: 15 for target class tensor([0]). Step 350, Loss: 24.106285095214844\n",
      "Generating Image Number: 15 for target class tensor([0]). Step 400, Loss: 23.41856575012207\n",
      "Generating Image Number: 15 for target class tensor([0]). Step 450, Loss: 22.924760818481445\n",
      "Generating Image Number: 16 for target class tensor([0]). Step 0, Loss: 41.62052536010742\n",
      "Generating Image Number: 16 for target class tensor([0]). Step 50, Loss: 39.38972473144531\n",
      "Generating Image Number: 16 for target class tensor([0]). Step 100, Loss: 38.2083740234375\n",
      "Generating Image Number: 16 for target class tensor([0]). Step 150, Loss: 37.20716857910156\n",
      "Generating Image Number: 16 for target class tensor([0]). Step 200, Loss: 36.59573745727539\n",
      "Generating Image Number: 16 for target class tensor([0]). Step 250, Loss: 36.260353088378906\n",
      "Generating Image Number: 16 for target class tensor([0]). Step 300, Loss: 35.999874114990234\n",
      "Generating Image Number: 16 for target class tensor([0]). Step 350, Loss: 35.6443977355957\n",
      "Generating Image Number: 16 for target class tensor([0]). Step 400, Loss: 35.47418975830078\n",
      "Generating Image Number: 16 for target class tensor([0]). Step 450, Loss: 35.24060821533203\n",
      "Generating Image Number: 17 for target class tensor([0]). Step 0, Loss: 48.47952651977539\n",
      "Generating Image Number: 17 for target class tensor([0]). Step 50, Loss: 36.69211196899414\n",
      "Generating Image Number: 17 for target class tensor([0]). Step 100, Loss: 35.436607360839844\n",
      "Generating Image Number: 17 for target class tensor([0]). Step 150, Loss: 33.7940559387207\n",
      "Generating Image Number: 17 for target class tensor([0]). Step 200, Loss: 30.826528549194336\n",
      "Generating Image Number: 17 for target class tensor([0]). Step 250, Loss: 28.89905548095703\n",
      "Generating Image Number: 17 for target class tensor([0]). Step 300, Loss: 28.30536460876465\n",
      "Generating Image Number: 17 for target class tensor([0]). Step 350, Loss: 27.584524154663086\n",
      "Generating Image Number: 17 for target class tensor([0]). Step 400, Loss: 26.865341186523438\n",
      "Generating Image Number: 17 for target class tensor([0]). Step 450, Loss: 26.379878997802734\n",
      "Generating Image Number: 18 for target class tensor([0]). Step 0, Loss: 52.60205078125\n",
      "Generating Image Number: 18 for target class tensor([0]). Step 50, Loss: 34.07999038696289\n",
      "Generating Image Number: 18 for target class tensor([0]). Step 100, Loss: 31.72551155090332\n",
      "Generating Image Number: 18 for target class tensor([0]). Step 150, Loss: 29.345582962036133\n",
      "Generating Image Number: 18 for target class tensor([0]). Step 200, Loss: 27.03839683532715\n",
      "Generating Image Number: 18 for target class tensor([0]). Step 250, Loss: 24.512311935424805\n",
      "Generating Image Number: 18 for target class tensor([0]). Step 300, Loss: 22.73811149597168\n",
      "Generating Image Number: 18 for target class tensor([0]). Step 350, Loss: 21.607065200805664\n",
      "Generating Image Number: 18 for target class tensor([0]). Step 400, Loss: 20.950841903686523\n",
      "Generating Image Number: 18 for target class tensor([0]). Step 450, Loss: 20.600486755371094\n",
      "Generating Image Number: 19 for target class tensor([0]). Step 0, Loss: 56.69379425048828\n",
      "Generating Image Number: 19 for target class tensor([0]). Step 50, Loss: 56.91822814941406\n",
      "Generating Image Number: 19 for target class tensor([0]). Step 100, Loss: 55.487152099609375\n",
      "Generating Image Number: 19 for target class tensor([0]). Step 150, Loss: 54.999610900878906\n",
      "Generating Image Number: 19 for target class tensor([0]). Step 200, Loss: 54.56597900390625\n",
      "Generating Image Number: 19 for target class tensor([0]). Step 250, Loss: 54.116661071777344\n",
      "Generating Image Number: 19 for target class tensor([0]). Step 300, Loss: 53.72632598876953\n",
      "Generating Image Number: 19 for target class tensor([0]). Step 350, Loss: 53.41077423095703\n",
      "Generating Image Number: 19 for target class tensor([0]). Step 400, Loss: 53.15583419799805\n",
      "Generating Image Number: 19 for target class tensor([0]). Step 450, Loss: 52.89187240600586\n",
      "Generating Image Number: 20 for target class tensor([0]). Step 0, Loss: 40.09708023071289\n",
      "Generating Image Number: 20 for target class tensor([0]). Step 50, Loss: 35.75453567504883\n",
      "Generating Image Number: 20 for target class tensor([0]). Step 100, Loss: 34.18179702758789\n",
      "Generating Image Number: 20 for target class tensor([0]). Step 150, Loss: 32.607322692871094\n",
      "Generating Image Number: 20 for target class tensor([0]). Step 200, Loss: 28.920427322387695\n",
      "Generating Image Number: 20 for target class tensor([0]). Step 250, Loss: 26.410974502563477\n",
      "Generating Image Number: 20 for target class tensor([0]). Step 300, Loss: 25.5355224609375\n",
      "Generating Image Number: 20 for target class tensor([0]). Step 350, Loss: 24.896987915039062\n",
      "Generating Image Number: 20 for target class tensor([0]). Step 400, Loss: 24.538421630859375\n",
      "Generating Image Number: 20 for target class tensor([0]). Step 450, Loss: 24.251943588256836\n"
     ]
    }
   ],
   "source": [
    "class0_optimized_latent_vectors = recover_images(img_count, 0, latent_vectors)"
   ]
  },
  {
   "cell_type": "code",
   "execution_count": 21,
   "id": "6718334c-2bb1-42a3-bd8c-6aea38e6b59c",
   "metadata": {
    "scrolled": true
   },
   "outputs": [
    {
     "name": "stdout",
     "output_type": "stream",
     "text": [
      "Generating Image Number: 1 for target class tensor([1]). Step 0, Loss: 48.06354522705078\n",
      "Generating Image Number: 1 for target class tensor([1]). Step 50, Loss: 21.85206413269043\n",
      "Generating Image Number: 1 for target class tensor([1]). Step 100, Loss: 19.904834747314453\n",
      "Generating Image Number: 1 for target class tensor([1]). Step 150, Loss: 18.249887466430664\n",
      "Generating Image Number: 1 for target class tensor([1]). Step 200, Loss: 17.35036849975586\n",
      "Generating Image Number: 1 for target class tensor([1]). Step 250, Loss: 15.691794395446777\n",
      "Generating Image Number: 1 for target class tensor([1]). Step 300, Loss: 15.354893684387207\n",
      "Generating Image Number: 1 for target class tensor([1]). Step 350, Loss: 14.91852855682373\n",
      "Generating Image Number: 1 for target class tensor([1]). Step 400, Loss: 14.625995635986328\n",
      "Generating Image Number: 1 for target class tensor([1]). Step 450, Loss: 14.348952293395996\n",
      "Generating Image Number: 2 for target class tensor([1]). Step 0, Loss: 46.58146667480469\n",
      "Generating Image Number: 2 for target class tensor([1]). Step 50, Loss: 38.45774841308594\n",
      "Generating Image Number: 2 for target class tensor([1]). Step 100, Loss: 34.98365020751953\n",
      "Generating Image Number: 2 for target class tensor([1]). Step 150, Loss: 31.520069122314453\n",
      "Generating Image Number: 2 for target class tensor([1]). Step 200, Loss: 29.951005935668945\n",
      "Generating Image Number: 2 for target class tensor([1]). Step 250, Loss: 28.700950622558594\n",
      "Generating Image Number: 2 for target class tensor([1]). Step 300, Loss: 27.882606506347656\n",
      "Generating Image Number: 2 for target class tensor([1]). Step 350, Loss: 27.45530891418457\n",
      "Generating Image Number: 2 for target class tensor([1]). Step 400, Loss: 27.14201545715332\n",
      "Generating Image Number: 2 for target class tensor([1]). Step 450, Loss: 26.880762100219727\n",
      "Generating Image Number: 3 for target class tensor([1]). Step 0, Loss: 56.68595886230469\n",
      "Generating Image Number: 3 for target class tensor([1]). Step 50, Loss: 40.17255401611328\n",
      "Generating Image Number: 3 for target class tensor([1]). Step 100, Loss: 37.50959014892578\n",
      "Generating Image Number: 3 for target class tensor([1]). Step 150, Loss: 32.589054107666016\n",
      "Generating Image Number: 3 for target class tensor([1]). Step 200, Loss: 30.495590209960938\n",
      "Generating Image Number: 3 for target class tensor([1]). Step 250, Loss: 29.353910446166992\n",
      "Generating Image Number: 3 for target class tensor([1]). Step 300, Loss: 27.624008178710938\n",
      "Generating Image Number: 3 for target class tensor([1]). Step 350, Loss: 26.695798873901367\n",
      "Generating Image Number: 3 for target class tensor([1]). Step 400, Loss: 26.316497802734375\n",
      "Generating Image Number: 3 for target class tensor([1]). Step 450, Loss: 25.995084762573242\n",
      "Generating Image Number: 4 for target class tensor([1]). Step 0, Loss: 65.99687957763672\n",
      "Generating Image Number: 4 for target class tensor([1]). Step 50, Loss: 39.49964141845703\n",
      "Generating Image Number: 4 for target class tensor([1]). Step 100, Loss: 38.57466506958008\n",
      "Generating Image Number: 4 for target class tensor([1]). Step 150, Loss: 37.36354064941406\n",
      "Generating Image Number: 4 for target class tensor([1]). Step 200, Loss: 35.500789642333984\n",
      "Generating Image Number: 4 for target class tensor([1]). Step 250, Loss: 33.373172760009766\n",
      "Generating Image Number: 4 for target class tensor([1]). Step 300, Loss: 31.395769119262695\n",
      "Generating Image Number: 4 for target class tensor([1]). Step 350, Loss: 30.577577590942383\n",
      "Generating Image Number: 4 for target class tensor([1]). Step 400, Loss: 30.073013305664062\n",
      "Generating Image Number: 4 for target class tensor([1]). Step 450, Loss: 29.447998046875\n",
      "Generating Image Number: 5 for target class tensor([1]). Step 0, Loss: 64.20265197753906\n",
      "Generating Image Number: 5 for target class tensor([1]). Step 50, Loss: 54.37236404418945\n",
      "Generating Image Number: 5 for target class tensor([1]). Step 100, Loss: 53.48981475830078\n",
      "Generating Image Number: 5 for target class tensor([1]). Step 150, Loss: 52.868988037109375\n",
      "Generating Image Number: 5 for target class tensor([1]). Step 200, Loss: 52.230438232421875\n",
      "Generating Image Number: 5 for target class tensor([1]). Step 250, Loss: 51.9287109375\n",
      "Generating Image Number: 5 for target class tensor([1]). Step 300, Loss: 51.56454086303711\n",
      "Generating Image Number: 5 for target class tensor([1]). Step 350, Loss: 51.30534744262695\n",
      "Generating Image Number: 5 for target class tensor([1]). Step 400, Loss: 51.009071350097656\n",
      "Generating Image Number: 5 for target class tensor([1]). Step 450, Loss: 50.676937103271484\n",
      "Generating Image Number: 6 for target class tensor([1]). Step 0, Loss: 66.57489013671875\n",
      "Generating Image Number: 6 for target class tensor([1]). Step 50, Loss: 54.238006591796875\n",
      "Generating Image Number: 6 for target class tensor([1]). Step 100, Loss: 53.42240905761719\n",
      "Generating Image Number: 6 for target class tensor([1]). Step 150, Loss: 53.677703857421875\n",
      "Generating Image Number: 6 for target class tensor([1]). Step 200, Loss: 52.783775329589844\n",
      "Generating Image Number: 6 for target class tensor([1]). Step 250, Loss: 52.51982498168945\n",
      "Generating Image Number: 6 for target class tensor([1]). Step 300, Loss: 52.18251037597656\n",
      "Generating Image Number: 6 for target class tensor([1]). Step 350, Loss: 52.264930725097656\n",
      "Generating Image Number: 6 for target class tensor([1]). Step 400, Loss: 51.76573181152344\n",
      "Generating Image Number: 6 for target class tensor([1]). Step 450, Loss: 52.00654220581055\n",
      "Generating Image Number: 7 for target class tensor([1]). Step 0, Loss: 72.73695373535156\n",
      "Generating Image Number: 7 for target class tensor([1]). Step 50, Loss: 61.378822326660156\n",
      "Generating Image Number: 7 for target class tensor([1]). Step 100, Loss: 58.279510498046875\n",
      "Generating Image Number: 7 for target class tensor([1]). Step 150, Loss: 57.56173324584961\n",
      "Generating Image Number: 7 for target class tensor([1]). Step 200, Loss: 56.36585998535156\n",
      "Generating Image Number: 7 for target class tensor([1]). Step 250, Loss: 56.236541748046875\n",
      "Generating Image Number: 7 for target class tensor([1]). Step 300, Loss: 55.59163284301758\n",
      "Generating Image Number: 7 for target class tensor([1]). Step 350, Loss: 55.659324645996094\n",
      "Generating Image Number: 7 for target class tensor([1]). Step 400, Loss: 55.28252410888672\n",
      "Generating Image Number: 7 for target class tensor([1]). Step 450, Loss: 54.36512756347656\n",
      "Generating Image Number: 8 for target class tensor([1]). Step 0, Loss: 75.95909118652344\n",
      "Generating Image Number: 8 for target class tensor([1]). Step 50, Loss: 70.7361831665039\n",
      "Generating Image Number: 8 for target class tensor([1]). Step 100, Loss: 69.35359191894531\n",
      "Generating Image Number: 8 for target class tensor([1]). Step 150, Loss: 68.5181884765625\n",
      "Generating Image Number: 8 for target class tensor([1]). Step 200, Loss: 67.9378890991211\n",
      "Generating Image Number: 8 for target class tensor([1]). Step 250, Loss: 67.44131469726562\n",
      "Generating Image Number: 8 for target class tensor([1]). Step 300, Loss: 66.94293212890625\n",
      "Generating Image Number: 8 for target class tensor([1]). Step 350, Loss: 66.17155456542969\n",
      "Generating Image Number: 8 for target class tensor([1]). Step 400, Loss: 57.98295211791992\n",
      "Generating Image Number: 8 for target class tensor([1]). Step 450, Loss: 51.29640197753906\n",
      "Generating Image Number: 9 for target class tensor([1]). Step 0, Loss: 59.19451904296875\n",
      "Generating Image Number: 9 for target class tensor([1]). Step 50, Loss: 38.14369201660156\n",
      "Generating Image Number: 9 for target class tensor([1]). Step 100, Loss: 36.68172073364258\n",
      "Generating Image Number: 9 for target class tensor([1]). Step 150, Loss: 35.24357604980469\n",
      "Generating Image Number: 9 for target class tensor([1]). Step 200, Loss: 34.469505310058594\n",
      "Generating Image Number: 9 for target class tensor([1]). Step 250, Loss: 33.60363006591797\n",
      "Generating Image Number: 9 for target class tensor([1]). Step 300, Loss: 32.98625183105469\n",
      "Generating Image Number: 9 for target class tensor([1]). Step 350, Loss: 32.6940803527832\n",
      "Generating Image Number: 9 for target class tensor([1]). Step 400, Loss: 32.016998291015625\n",
      "Generating Image Number: 9 for target class tensor([1]). Step 450, Loss: 31.49401092529297\n",
      "Generating Image Number: 10 for target class tensor([1]). Step 0, Loss: 45.47489929199219\n",
      "Generating Image Number: 10 for target class tensor([1]). Step 50, Loss: 38.04151153564453\n",
      "Generating Image Number: 10 for target class tensor([1]). Step 100, Loss: 35.126075744628906\n",
      "Generating Image Number: 10 for target class tensor([1]). Step 150, Loss: 31.907939910888672\n",
      "Generating Image Number: 10 for target class tensor([1]). Step 200, Loss: 28.490102767944336\n",
      "Generating Image Number: 10 for target class tensor([1]). Step 250, Loss: 26.317148208618164\n",
      "Generating Image Number: 10 for target class tensor([1]). Step 300, Loss: 24.784404754638672\n",
      "Generating Image Number: 10 for target class tensor([1]). Step 350, Loss: 23.83514976501465\n",
      "Generating Image Number: 10 for target class tensor([1]). Step 400, Loss: 23.128704071044922\n",
      "Generating Image Number: 10 for target class tensor([1]). Step 450, Loss: 22.506643295288086\n",
      "Generating Image Number: 11 for target class tensor([1]). Step 0, Loss: 57.77589416503906\n",
      "Generating Image Number: 11 for target class tensor([1]). Step 50, Loss: 52.719329833984375\n",
      "Generating Image Number: 11 for target class tensor([1]). Step 100, Loss: 51.99372863769531\n",
      "Generating Image Number: 11 for target class tensor([1]). Step 150, Loss: 51.6579704284668\n",
      "Generating Image Number: 11 for target class tensor([1]). Step 200, Loss: 51.23366928100586\n",
      "Generating Image Number: 11 for target class tensor([1]). Step 250, Loss: 51.135772705078125\n",
      "Generating Image Number: 11 for target class tensor([1]). Step 300, Loss: 50.83409881591797\n",
      "Generating Image Number: 11 for target class tensor([1]). Step 350, Loss: 50.66663360595703\n",
      "Generating Image Number: 11 for target class tensor([1]). Step 400, Loss: 50.695159912109375\n",
      "Generating Image Number: 11 for target class tensor([1]). Step 450, Loss: 50.53978729248047\n",
      "Generating Image Number: 12 for target class tensor([1]). Step 0, Loss: 58.34202575683594\n",
      "Generating Image Number: 12 for target class tensor([1]). Step 50, Loss: 41.30339813232422\n",
      "Generating Image Number: 12 for target class tensor([1]). Step 100, Loss: 39.42974090576172\n",
      "Generating Image Number: 12 for target class tensor([1]). Step 150, Loss: 37.95703887939453\n",
      "Generating Image Number: 12 for target class tensor([1]). Step 200, Loss: 36.62162399291992\n",
      "Generating Image Number: 12 for target class tensor([1]). Step 250, Loss: 35.45010757446289\n",
      "Generating Image Number: 12 for target class tensor([1]). Step 300, Loss: 33.82204055786133\n",
      "Generating Image Number: 12 for target class tensor([1]). Step 350, Loss: 32.54212188720703\n",
      "Generating Image Number: 12 for target class tensor([1]). Step 400, Loss: 31.236637115478516\n",
      "Generating Image Number: 12 for target class tensor([1]). Step 450, Loss: 30.693675994873047\n",
      "Generating Image Number: 13 for target class tensor([1]). Step 0, Loss: 67.68399047851562\n",
      "Generating Image Number: 13 for target class tensor([1]). Step 50, Loss: 40.34381103515625\n",
      "Generating Image Number: 13 for target class tensor([1]). Step 100, Loss: 39.03290557861328\n",
      "Generating Image Number: 13 for target class tensor([1]). Step 150, Loss: 37.927520751953125\n",
      "Generating Image Number: 13 for target class tensor([1]). Step 200, Loss: 36.350502014160156\n",
      "Generating Image Number: 13 for target class tensor([1]). Step 250, Loss: 33.71711349487305\n",
      "Generating Image Number: 13 for target class tensor([1]). Step 300, Loss: 31.495038986206055\n",
      "Generating Image Number: 13 for target class tensor([1]). Step 350, Loss: 30.101404190063477\n",
      "Generating Image Number: 13 for target class tensor([1]). Step 400, Loss: 28.93100929260254\n",
      "Generating Image Number: 13 for target class tensor([1]). Step 450, Loss: 27.819223403930664\n",
      "Generating Image Number: 14 for target class tensor([1]). Step 0, Loss: 43.565616607666016\n",
      "Generating Image Number: 14 for target class tensor([1]). Step 50, Loss: 37.205047607421875\n",
      "Generating Image Number: 14 for target class tensor([1]). Step 100, Loss: 33.460391998291016\n",
      "Generating Image Number: 14 for target class tensor([1]). Step 150, Loss: 31.26518440246582\n",
      "Generating Image Number: 14 for target class tensor([1]). Step 200, Loss: 30.35052490234375\n",
      "Generating Image Number: 14 for target class tensor([1]). Step 250, Loss: 28.835285186767578\n",
      "Generating Image Number: 14 for target class tensor([1]). Step 300, Loss: 27.894893646240234\n",
      "Generating Image Number: 14 for target class tensor([1]). Step 350, Loss: 27.469236373901367\n",
      "Generating Image Number: 14 for target class tensor([1]). Step 400, Loss: 27.22545623779297\n",
      "Generating Image Number: 14 for target class tensor([1]). Step 450, Loss: 26.932546615600586\n",
      "Generating Image Number: 15 for target class tensor([1]). Step 0, Loss: 41.590965270996094\n",
      "Generating Image Number: 15 for target class tensor([1]). Step 50, Loss: 24.801557540893555\n",
      "Generating Image Number: 15 for target class tensor([1]). Step 100, Loss: 23.870851516723633\n",
      "Generating Image Number: 15 for target class tensor([1]). Step 150, Loss: 23.395626068115234\n",
      "Generating Image Number: 15 for target class tensor([1]). Step 200, Loss: 22.694713592529297\n",
      "Generating Image Number: 15 for target class tensor([1]). Step 250, Loss: 22.107290267944336\n",
      "Generating Image Number: 15 for target class tensor([1]). Step 300, Loss: 21.801008224487305\n",
      "Generating Image Number: 15 for target class tensor([1]). Step 350, Loss: 21.394203186035156\n",
      "Generating Image Number: 15 for target class tensor([1]). Step 400, Loss: 21.170820236206055\n",
      "Generating Image Number: 15 for target class tensor([1]). Step 450, Loss: 20.916078567504883\n",
      "Generating Image Number: 16 for target class tensor([1]). Step 0, Loss: 65.08733367919922\n",
      "Generating Image Number: 16 for target class tensor([1]). Step 50, Loss: 38.94336700439453\n",
      "Generating Image Number: 16 for target class tensor([1]). Step 100, Loss: 34.33061218261719\n",
      "Generating Image Number: 16 for target class tensor([1]). Step 150, Loss: 32.78318786621094\n",
      "Generating Image Number: 16 for target class tensor([1]). Step 200, Loss: 32.07978439331055\n",
      "Generating Image Number: 16 for target class tensor([1]). Step 250, Loss: 26.636302947998047\n",
      "Generating Image Number: 16 for target class tensor([1]). Step 300, Loss: 21.46308708190918\n",
      "Generating Image Number: 16 for target class tensor([1]). Step 350, Loss: 18.941551208496094\n",
      "Generating Image Number: 16 for target class tensor([1]). Step 400, Loss: 17.62689781188965\n",
      "Generating Image Number: 16 for target class tensor([1]). Step 450, Loss: 16.59905433654785\n",
      "Generating Image Number: 17 for target class tensor([1]). Step 0, Loss: 45.35806655883789\n",
      "Generating Image Number: 17 for target class tensor([1]). Step 50, Loss: 39.036041259765625\n",
      "Generating Image Number: 17 for target class tensor([1]). Step 100, Loss: 37.46870422363281\n",
      "Generating Image Number: 17 for target class tensor([1]). Step 150, Loss: 34.51936340332031\n",
      "Generating Image Number: 17 for target class tensor([1]). Step 200, Loss: 31.661327362060547\n",
      "Generating Image Number: 17 for target class tensor([1]). Step 250, Loss: 30.296165466308594\n",
      "Generating Image Number: 17 for target class tensor([1]). Step 300, Loss: 29.140033721923828\n",
      "Generating Image Number: 17 for target class tensor([1]). Step 350, Loss: 27.937206268310547\n",
      "Generating Image Number: 17 for target class tensor([1]). Step 400, Loss: 27.119802474975586\n",
      "Generating Image Number: 17 for target class tensor([1]). Step 450, Loss: 26.63996696472168\n",
      "Generating Image Number: 18 for target class tensor([1]). Step 0, Loss: 58.54255676269531\n",
      "Generating Image Number: 18 for target class tensor([1]). Step 50, Loss: 40.503238677978516\n",
      "Generating Image Number: 18 for target class tensor([1]). Step 100, Loss: 38.828582763671875\n",
      "Generating Image Number: 18 for target class tensor([1]). Step 150, Loss: 35.91729736328125\n",
      "Generating Image Number: 18 for target class tensor([1]). Step 200, Loss: 33.28519058227539\n",
      "Generating Image Number: 18 for target class tensor([1]). Step 250, Loss: 31.11464500427246\n",
      "Generating Image Number: 18 for target class tensor([1]). Step 300, Loss: 29.870384216308594\n",
      "Generating Image Number: 18 for target class tensor([1]). Step 350, Loss: 29.345943450927734\n",
      "Generating Image Number: 18 for target class tensor([1]). Step 400, Loss: 29.03053092956543\n",
      "Generating Image Number: 18 for target class tensor([1]). Step 450, Loss: 28.527040481567383\n",
      "Generating Image Number: 19 for target class tensor([1]). Step 0, Loss: 58.76369094848633\n",
      "Generating Image Number: 19 for target class tensor([1]). Step 50, Loss: 28.59128189086914\n",
      "Generating Image Number: 19 for target class tensor([1]). Step 100, Loss: 21.281274795532227\n",
      "Generating Image Number: 19 for target class tensor([1]). Step 150, Loss: 20.3730411529541\n",
      "Generating Image Number: 19 for target class tensor([1]). Step 200, Loss: 20.027095794677734\n",
      "Generating Image Number: 19 for target class tensor([1]). Step 250, Loss: 17.66253089904785\n",
      "Generating Image Number: 19 for target class tensor([1]). Step 300, Loss: 16.876211166381836\n",
      "Generating Image Number: 19 for target class tensor([1]). Step 350, Loss: 15.940985679626465\n",
      "Generating Image Number: 19 for target class tensor([1]). Step 400, Loss: 15.129398345947266\n",
      "Generating Image Number: 19 for target class tensor([1]). Step 450, Loss: 15.025994300842285\n",
      "Generating Image Number: 20 for target class tensor([1]). Step 0, Loss: 45.698360443115234\n",
      "Generating Image Number: 20 for target class tensor([1]). Step 50, Loss: 38.91685485839844\n",
      "Generating Image Number: 20 for target class tensor([1]). Step 100, Loss: 34.49272918701172\n",
      "Generating Image Number: 20 for target class tensor([1]). Step 150, Loss: 33.17597579956055\n",
      "Generating Image Number: 20 for target class tensor([1]). Step 200, Loss: 32.318721771240234\n",
      "Generating Image Number: 20 for target class tensor([1]). Step 250, Loss: 31.6069278717041\n",
      "Generating Image Number: 20 for target class tensor([1]). Step 300, Loss: 30.928775787353516\n",
      "Generating Image Number: 20 for target class tensor([1]). Step 350, Loss: 30.24167823791504\n",
      "Generating Image Number: 20 for target class tensor([1]). Step 400, Loss: 29.811363220214844\n",
      "Generating Image Number: 20 for target class tensor([1]). Step 450, Loss: 29.49807357788086\n"
     ]
    }
   ],
   "source": [
    "torch.manual_seed(100)\n",
    "latent_vectors = torch.randn(img_count, z_dim, 1, 1, requires_grad=True) # Start with 20 random noises\n",
    "class1_optimized_latent_vectors = recover_images(img_count, 1, latent_vectors)"
   ]
  },
  {
   "cell_type": "code",
   "execution_count": 22,
   "id": "1c8af686-b1ff-419d-946d-2447773e47c9",
   "metadata": {
    "scrolled": true
   },
   "outputs": [
    {
     "name": "stdout",
     "output_type": "stream",
     "text": [
      "Generating Image Number: 1 for target class tensor([2]). Step 0, Loss: 0.0\n",
      "Generating Image Number: 1 for target class tensor([2]). Step 50, Loss: 0.0\n",
      "Generating Image Number: 1 for target class tensor([2]). Step 100, Loss: 0.0\n",
      "Generating Image Number: 1 for target class tensor([2]). Step 150, Loss: 0.0\n",
      "Generating Image Number: 1 for target class tensor([2]). Step 200, Loss: 0.0\n",
      "Generating Image Number: 1 for target class tensor([2]). Step 250, Loss: 0.0\n",
      "Generating Image Number: 1 for target class tensor([2]). Step 300, Loss: 0.0\n",
      "Generating Image Number: 1 for target class tensor([2]). Step 350, Loss: 0.0\n",
      "Generating Image Number: 1 for target class tensor([2]). Step 400, Loss: 0.0\n",
      "Generating Image Number: 1 for target class tensor([2]). Step 450, Loss: 0.0\n",
      "Generating Image Number: 2 for target class tensor([2]). Step 0, Loss: 0.0\n",
      "Generating Image Number: 2 for target class tensor([2]). Step 50, Loss: 0.0\n",
      "Generating Image Number: 2 for target class tensor([2]). Step 100, Loss: 0.0\n",
      "Generating Image Number: 2 for target class tensor([2]). Step 150, Loss: 0.0\n",
      "Generating Image Number: 2 for target class tensor([2]). Step 200, Loss: 0.0\n",
      "Generating Image Number: 2 for target class tensor([2]). Step 250, Loss: 0.0\n",
      "Generating Image Number: 2 for target class tensor([2]). Step 300, Loss: 0.0\n",
      "Generating Image Number: 2 for target class tensor([2]). Step 350, Loss: 0.0\n",
      "Generating Image Number: 2 for target class tensor([2]). Step 400, Loss: 0.0\n",
      "Generating Image Number: 2 for target class tensor([2]). Step 450, Loss: 0.0\n",
      "Generating Image Number: 3 for target class tensor([2]). Step 0, Loss: 0.0\n",
      "Generating Image Number: 3 for target class tensor([2]). Step 50, Loss: 0.0\n",
      "Generating Image Number: 3 for target class tensor([2]). Step 100, Loss: 0.0\n",
      "Generating Image Number: 3 for target class tensor([2]). Step 150, Loss: 0.0\n",
      "Generating Image Number: 3 for target class tensor([2]). Step 200, Loss: 0.0\n",
      "Generating Image Number: 3 for target class tensor([2]). Step 250, Loss: 0.0\n",
      "Generating Image Number: 3 for target class tensor([2]). Step 300, Loss: 0.0\n",
      "Generating Image Number: 3 for target class tensor([2]). Step 350, Loss: 0.0\n",
      "Generating Image Number: 3 for target class tensor([2]). Step 400, Loss: 0.0\n",
      "Generating Image Number: 3 for target class tensor([2]). Step 450, Loss: 0.0\n",
      "Generating Image Number: 4 for target class tensor([2]). Step 0, Loss: 0.0\n",
      "Generating Image Number: 4 for target class tensor([2]). Step 50, Loss: 0.0\n",
      "Generating Image Number: 4 for target class tensor([2]). Step 100, Loss: 0.0\n",
      "Generating Image Number: 4 for target class tensor([2]). Step 150, Loss: 0.0\n",
      "Generating Image Number: 4 for target class tensor([2]). Step 200, Loss: 0.0\n",
      "Generating Image Number: 4 for target class tensor([2]). Step 250, Loss: 0.0\n",
      "Generating Image Number: 4 for target class tensor([2]). Step 300, Loss: 0.0\n",
      "Generating Image Number: 4 for target class tensor([2]). Step 350, Loss: 0.0\n",
      "Generating Image Number: 4 for target class tensor([2]). Step 400, Loss: 0.0\n",
      "Generating Image Number: 4 for target class tensor([2]). Step 450, Loss: 0.0\n",
      "Generating Image Number: 5 for target class tensor([2]). Step 0, Loss: 0.0\n",
      "Generating Image Number: 5 for target class tensor([2]). Step 50, Loss: 0.0\n",
      "Generating Image Number: 5 for target class tensor([2]). Step 100, Loss: 0.0\n",
      "Generating Image Number: 5 for target class tensor([2]). Step 150, Loss: 0.0\n",
      "Generating Image Number: 5 for target class tensor([2]). Step 200, Loss: 0.0\n",
      "Generating Image Number: 5 for target class tensor([2]). Step 250, Loss: 0.0\n",
      "Generating Image Number: 5 for target class tensor([2]). Step 300, Loss: 0.0\n",
      "Generating Image Number: 5 for target class tensor([2]). Step 350, Loss: 0.0\n",
      "Generating Image Number: 5 for target class tensor([2]). Step 400, Loss: 0.0\n",
      "Generating Image Number: 5 for target class tensor([2]). Step 450, Loss: 0.0\n",
      "Generating Image Number: 6 for target class tensor([2]). Step 0, Loss: 0.0\n",
      "Generating Image Number: 6 for target class tensor([2]). Step 50, Loss: 0.0\n",
      "Generating Image Number: 6 for target class tensor([2]). Step 100, Loss: 0.0\n",
      "Generating Image Number: 6 for target class tensor([2]). Step 150, Loss: 0.0\n",
      "Generating Image Number: 6 for target class tensor([2]). Step 200, Loss: 0.0\n",
      "Generating Image Number: 6 for target class tensor([2]). Step 250, Loss: 0.0\n",
      "Generating Image Number: 6 for target class tensor([2]). Step 300, Loss: 0.0\n",
      "Generating Image Number: 6 for target class tensor([2]). Step 350, Loss: 0.0\n",
      "Generating Image Number: 6 for target class tensor([2]). Step 400, Loss: 0.0\n",
      "Generating Image Number: 6 for target class tensor([2]). Step 450, Loss: 0.0\n",
      "Generating Image Number: 7 for target class tensor([2]). Step 0, Loss: 0.0\n",
      "Generating Image Number: 7 for target class tensor([2]). Step 50, Loss: 0.0\n",
      "Generating Image Number: 7 for target class tensor([2]). Step 100, Loss: 0.0\n",
      "Generating Image Number: 7 for target class tensor([2]). Step 150, Loss: 0.0\n",
      "Generating Image Number: 7 for target class tensor([2]). Step 200, Loss: 0.0\n",
      "Generating Image Number: 7 for target class tensor([2]). Step 250, Loss: 0.0\n",
      "Generating Image Number: 7 for target class tensor([2]). Step 300, Loss: 0.0\n",
      "Generating Image Number: 7 for target class tensor([2]). Step 350, Loss: 0.0\n",
      "Generating Image Number: 7 for target class tensor([2]). Step 400, Loss: 0.0\n",
      "Generating Image Number: 7 for target class tensor([2]). Step 450, Loss: 0.0\n",
      "Generating Image Number: 8 for target class tensor([2]). Step 0, Loss: 0.0\n",
      "Generating Image Number: 8 for target class tensor([2]). Step 50, Loss: 0.0\n",
      "Generating Image Number: 8 for target class tensor([2]). Step 100, Loss: 0.0\n",
      "Generating Image Number: 8 for target class tensor([2]). Step 150, Loss: 0.0\n",
      "Generating Image Number: 8 for target class tensor([2]). Step 200, Loss: 0.0\n",
      "Generating Image Number: 8 for target class tensor([2]). Step 250, Loss: 0.0\n",
      "Generating Image Number: 8 for target class tensor([2]). Step 300, Loss: 0.0\n",
      "Generating Image Number: 8 for target class tensor([2]). Step 350, Loss: 0.0\n",
      "Generating Image Number: 8 for target class tensor([2]). Step 400, Loss: 0.0\n",
      "Generating Image Number: 8 for target class tensor([2]). Step 450, Loss: 0.0\n",
      "Generating Image Number: 9 for target class tensor([2]). Step 0, Loss: 0.0\n",
      "Generating Image Number: 9 for target class tensor([2]). Step 50, Loss: 0.0\n",
      "Generating Image Number: 9 for target class tensor([2]). Step 100, Loss: 0.0\n",
      "Generating Image Number: 9 for target class tensor([2]). Step 150, Loss: 0.0\n",
      "Generating Image Number: 9 for target class tensor([2]). Step 200, Loss: 0.0\n",
      "Generating Image Number: 9 for target class tensor([2]). Step 250, Loss: 0.0\n",
      "Generating Image Number: 9 for target class tensor([2]). Step 300, Loss: 0.0\n",
      "Generating Image Number: 9 for target class tensor([2]). Step 350, Loss: 0.0\n",
      "Generating Image Number: 9 for target class tensor([2]). Step 400, Loss: 0.0\n",
      "Generating Image Number: 9 for target class tensor([2]). Step 450, Loss: 0.0\n",
      "Generating Image Number: 10 for target class tensor([2]). Step 0, Loss: 0.0\n",
      "Generating Image Number: 10 for target class tensor([2]). Step 50, Loss: 0.0\n",
      "Generating Image Number: 10 for target class tensor([2]). Step 100, Loss: 0.0\n",
      "Generating Image Number: 10 for target class tensor([2]). Step 150, Loss: 0.0\n",
      "Generating Image Number: 10 for target class tensor([2]). Step 200, Loss: 0.0\n",
      "Generating Image Number: 10 for target class tensor([2]). Step 250, Loss: 0.0\n",
      "Generating Image Number: 10 for target class tensor([2]). Step 300, Loss: 0.0\n",
      "Generating Image Number: 10 for target class tensor([2]). Step 350, Loss: 0.0\n",
      "Generating Image Number: 10 for target class tensor([2]). Step 400, Loss: 0.0\n",
      "Generating Image Number: 10 for target class tensor([2]). Step 450, Loss: 0.0\n",
      "Generating Image Number: 11 for target class tensor([2]). Step 0, Loss: 0.0\n",
      "Generating Image Number: 11 for target class tensor([2]). Step 50, Loss: 0.0\n",
      "Generating Image Number: 11 for target class tensor([2]). Step 100, Loss: 0.0\n",
      "Generating Image Number: 11 for target class tensor([2]). Step 150, Loss: 0.0\n",
      "Generating Image Number: 11 for target class tensor([2]). Step 200, Loss: 0.0\n",
      "Generating Image Number: 11 for target class tensor([2]). Step 250, Loss: 0.0\n",
      "Generating Image Number: 11 for target class tensor([2]). Step 300, Loss: 0.0\n",
      "Generating Image Number: 11 for target class tensor([2]). Step 350, Loss: 0.0\n",
      "Generating Image Number: 11 for target class tensor([2]). Step 400, Loss: 0.0\n",
      "Generating Image Number: 11 for target class tensor([2]). Step 450, Loss: 0.0\n",
      "Generating Image Number: 12 for target class tensor([2]). Step 0, Loss: 0.0\n",
      "Generating Image Number: 12 for target class tensor([2]). Step 50, Loss: 0.0\n",
      "Generating Image Number: 12 for target class tensor([2]). Step 100, Loss: 0.0\n",
      "Generating Image Number: 12 for target class tensor([2]). Step 150, Loss: 0.0\n",
      "Generating Image Number: 12 for target class tensor([2]). Step 200, Loss: 0.0\n",
      "Generating Image Number: 12 for target class tensor([2]). Step 250, Loss: 0.0\n",
      "Generating Image Number: 12 for target class tensor([2]). Step 300, Loss: 0.0\n",
      "Generating Image Number: 12 for target class tensor([2]). Step 350, Loss: 0.0\n",
      "Generating Image Number: 12 for target class tensor([2]). Step 400, Loss: 0.0\n",
      "Generating Image Number: 12 for target class tensor([2]). Step 450, Loss: 0.0\n",
      "Generating Image Number: 13 for target class tensor([2]). Step 0, Loss: 0.0\n",
      "Generating Image Number: 13 for target class tensor([2]). Step 50, Loss: 0.0\n",
      "Generating Image Number: 13 for target class tensor([2]). Step 100, Loss: 0.0\n",
      "Generating Image Number: 13 for target class tensor([2]). Step 150, Loss: 0.0\n",
      "Generating Image Number: 13 for target class tensor([2]). Step 200, Loss: 0.0\n",
      "Generating Image Number: 13 for target class tensor([2]). Step 250, Loss: 0.0\n",
      "Generating Image Number: 13 for target class tensor([2]). Step 300, Loss: 0.0\n",
      "Generating Image Number: 13 for target class tensor([2]). Step 350, Loss: 0.0\n",
      "Generating Image Number: 13 for target class tensor([2]). Step 400, Loss: 0.0\n",
      "Generating Image Number: 13 for target class tensor([2]). Step 450, Loss: 0.0\n",
      "Generating Image Number: 14 for target class tensor([2]). Step 0, Loss: 0.0\n",
      "Generating Image Number: 14 for target class tensor([2]). Step 50, Loss: 0.0\n",
      "Generating Image Number: 14 for target class tensor([2]). Step 100, Loss: 0.0\n",
      "Generating Image Number: 14 for target class tensor([2]). Step 150, Loss: 0.0\n",
      "Generating Image Number: 14 for target class tensor([2]). Step 200, Loss: 0.0\n",
      "Generating Image Number: 14 for target class tensor([2]). Step 250, Loss: 0.0\n",
      "Generating Image Number: 14 for target class tensor([2]). Step 300, Loss: 0.0\n",
      "Generating Image Number: 14 for target class tensor([2]). Step 350, Loss: 0.0\n",
      "Generating Image Number: 14 for target class tensor([2]). Step 400, Loss: 0.0\n",
      "Generating Image Number: 14 for target class tensor([2]). Step 450, Loss: 0.0\n",
      "Generating Image Number: 15 for target class tensor([2]). Step 0, Loss: 0.0\n",
      "Generating Image Number: 15 for target class tensor([2]). Step 50, Loss: 0.0\n",
      "Generating Image Number: 15 for target class tensor([2]). Step 100, Loss: 0.0\n",
      "Generating Image Number: 15 for target class tensor([2]). Step 150, Loss: 0.0\n",
      "Generating Image Number: 15 for target class tensor([2]). Step 200, Loss: 0.0\n",
      "Generating Image Number: 15 for target class tensor([2]). Step 250, Loss: 0.0\n",
      "Generating Image Number: 15 for target class tensor([2]). Step 300, Loss: 0.0\n",
      "Generating Image Number: 15 for target class tensor([2]). Step 350, Loss: 0.0\n",
      "Generating Image Number: 15 for target class tensor([2]). Step 400, Loss: 0.0\n",
      "Generating Image Number: 15 for target class tensor([2]). Step 450, Loss: 0.0\n",
      "Generating Image Number: 16 for target class tensor([2]). Step 0, Loss: 0.0\n",
      "Generating Image Number: 16 for target class tensor([2]). Step 50, Loss: 0.0\n",
      "Generating Image Number: 16 for target class tensor([2]). Step 100, Loss: 0.0\n",
      "Generating Image Number: 16 for target class tensor([2]). Step 150, Loss: 0.0\n",
      "Generating Image Number: 16 for target class tensor([2]). Step 200, Loss: 0.0\n",
      "Generating Image Number: 16 for target class tensor([2]). Step 250, Loss: 0.0\n",
      "Generating Image Number: 16 for target class tensor([2]). Step 300, Loss: 0.0\n",
      "Generating Image Number: 16 for target class tensor([2]). Step 350, Loss: 0.0\n",
      "Generating Image Number: 16 for target class tensor([2]). Step 400, Loss: 0.0\n",
      "Generating Image Number: 16 for target class tensor([2]). Step 450, Loss: 0.0\n",
      "Generating Image Number: 17 for target class tensor([2]). Step 0, Loss: 0.0\n",
      "Generating Image Number: 17 for target class tensor([2]). Step 50, Loss: 0.0\n",
      "Generating Image Number: 17 for target class tensor([2]). Step 100, Loss: 0.0\n",
      "Generating Image Number: 17 for target class tensor([2]). Step 150, Loss: 0.0\n",
      "Generating Image Number: 17 for target class tensor([2]). Step 200, Loss: 0.0\n",
      "Generating Image Number: 17 for target class tensor([2]). Step 250, Loss: 0.0\n",
      "Generating Image Number: 17 for target class tensor([2]). Step 300, Loss: 0.0\n",
      "Generating Image Number: 17 for target class tensor([2]). Step 350, Loss: 0.0\n",
      "Generating Image Number: 17 for target class tensor([2]). Step 400, Loss: 0.0\n",
      "Generating Image Number: 17 for target class tensor([2]). Step 450, Loss: 0.0\n",
      "Generating Image Number: 18 for target class tensor([2]). Step 0, Loss: 0.0\n",
      "Generating Image Number: 18 for target class tensor([2]). Step 50, Loss: 0.0\n",
      "Generating Image Number: 18 for target class tensor([2]). Step 100, Loss: 0.0\n",
      "Generating Image Number: 18 for target class tensor([2]). Step 150, Loss: 0.0\n",
      "Generating Image Number: 18 for target class tensor([2]). Step 200, Loss: 0.0\n",
      "Generating Image Number: 18 for target class tensor([2]). Step 250, Loss: 0.0\n",
      "Generating Image Number: 18 for target class tensor([2]). Step 300, Loss: 0.0\n",
      "Generating Image Number: 18 for target class tensor([2]). Step 350, Loss: 0.0\n",
      "Generating Image Number: 18 for target class tensor([2]). Step 400, Loss: 0.0\n",
      "Generating Image Number: 18 for target class tensor([2]). Step 450, Loss: 0.0\n",
      "Generating Image Number: 19 for target class tensor([2]). Step 0, Loss: 0.0\n",
      "Generating Image Number: 19 for target class tensor([2]). Step 50, Loss: 0.0\n",
      "Generating Image Number: 19 for target class tensor([2]). Step 100, Loss: 0.0\n",
      "Generating Image Number: 19 for target class tensor([2]). Step 150, Loss: 0.0\n",
      "Generating Image Number: 19 for target class tensor([2]). Step 200, Loss: 0.0\n",
      "Generating Image Number: 19 for target class tensor([2]). Step 250, Loss: 0.0\n",
      "Generating Image Number: 19 for target class tensor([2]). Step 300, Loss: 0.0\n",
      "Generating Image Number: 19 for target class tensor([2]). Step 350, Loss: 0.0\n",
      "Generating Image Number: 19 for target class tensor([2]). Step 400, Loss: 0.0\n",
      "Generating Image Number: 19 for target class tensor([2]). Step 450, Loss: 0.0\n",
      "Generating Image Number: 20 for target class tensor([2]). Step 0, Loss: 0.0\n",
      "Generating Image Number: 20 for target class tensor([2]). Step 50, Loss: 0.0\n",
      "Generating Image Number: 20 for target class tensor([2]). Step 100, Loss: 0.0\n",
      "Generating Image Number: 20 for target class tensor([2]). Step 150, Loss: 0.0\n",
      "Generating Image Number: 20 for target class tensor([2]). Step 200, Loss: 0.0\n",
      "Generating Image Number: 20 for target class tensor([2]). Step 250, Loss: 0.0\n",
      "Generating Image Number: 20 for target class tensor([2]). Step 300, Loss: 0.0\n",
      "Generating Image Number: 20 for target class tensor([2]). Step 350, Loss: 0.0\n",
      "Generating Image Number: 20 for target class tensor([2]). Step 400, Loss: 0.0\n",
      "Generating Image Number: 20 for target class tensor([2]). Step 450, Loss: 0.0\n"
     ]
    }
   ],
   "source": [
    "torch.manual_seed(200)\n",
    "latent_vectors = torch.randn(img_count, z_dim, 1, 1, requires_grad=True) # Start with 20 random noises\n",
    "class2_optimized_latent_vectors = recover_images(img_count, 2, latent_vectors)"
   ]
  },
  {
   "cell_type": "code",
   "execution_count": 23,
   "id": "0381b36d-6c92-43bc-b776-1eefd3eab451",
   "metadata": {
    "scrolled": true
   },
   "outputs": [
    {
     "name": "stdout",
     "output_type": "stream",
     "text": [
      "Generating Image Number: 1 for target class tensor([3]). Step 0, Loss: 0.04557812213897705\n",
      "Generating Image Number: 1 for target class tensor([3]). Step 50, Loss: 0.04831328243017197\n",
      "Generating Image Number: 1 for target class tensor([3]). Step 100, Loss: 0.039422739297151566\n",
      "Generating Image Number: 1 for target class tensor([3]). Step 150, Loss: 0.033016569912433624\n",
      "Generating Image Number: 1 for target class tensor([3]). Step 200, Loss: 0.024848071858286858\n",
      "Generating Image Number: 1 for target class tensor([3]). Step 250, Loss: 0.019240297377109528\n",
      "Generating Image Number: 1 for target class tensor([3]). Step 300, Loss: 0.016025666147470474\n",
      "Generating Image Number: 1 for target class tensor([3]). Step 350, Loss: 0.01485453825443983\n",
      "Generating Image Number: 1 for target class tensor([3]). Step 400, Loss: 0.013261095620691776\n",
      "Generating Image Number: 1 for target class tensor([3]). Step 450, Loss: 0.012368288822472095\n",
      "Generating Image Number: 2 for target class tensor([3]). Step 0, Loss: 25.418519973754883\n",
      "Generating Image Number: 2 for target class tensor([3]). Step 50, Loss: 16.509876251220703\n",
      "Generating Image Number: 2 for target class tensor([3]). Step 100, Loss: 14.639290809631348\n",
      "Generating Image Number: 2 for target class tensor([3]). Step 150, Loss: 12.6846284866333\n",
      "Generating Image Number: 2 for target class tensor([3]). Step 200, Loss: 11.514172554016113\n",
      "Generating Image Number: 2 for target class tensor([3]). Step 250, Loss: 10.319878578186035\n",
      "Generating Image Number: 2 for target class tensor([3]). Step 300, Loss: 9.349482536315918\n",
      "Generating Image Number: 2 for target class tensor([3]). Step 350, Loss: 8.051527976989746\n",
      "Generating Image Number: 2 for target class tensor([3]). Step 400, Loss: 7.459451675415039\n",
      "Generating Image Number: 2 for target class tensor([3]). Step 450, Loss: 6.833707809448242\n",
      "Generating Image Number: 3 for target class tensor([3]). Step 0, Loss: 26.14988899230957\n",
      "Generating Image Number: 3 for target class tensor([3]). Step 50, Loss: 19.889568328857422\n",
      "Generating Image Number: 3 for target class tensor([3]). Step 100, Loss: 16.171445846557617\n",
      "Generating Image Number: 3 for target class tensor([3]). Step 150, Loss: 13.038646697998047\n",
      "Generating Image Number: 3 for target class tensor([3]). Step 200, Loss: 10.88299560546875\n",
      "Generating Image Number: 3 for target class tensor([3]). Step 250, Loss: 9.06493091583252\n",
      "Generating Image Number: 3 for target class tensor([3]). Step 300, Loss: 7.027959823608398\n",
      "Generating Image Number: 3 for target class tensor([3]). Step 350, Loss: 5.508505344390869\n",
      "Generating Image Number: 3 for target class tensor([3]). Step 400, Loss: 4.062841892242432\n",
      "Generating Image Number: 3 for target class tensor([3]). Step 450, Loss: 2.9480772018432617\n",
      "Generating Image Number: 4 for target class tensor([3]). Step 0, Loss: 41.43012237548828\n",
      "Generating Image Number: 4 for target class tensor([3]). Step 50, Loss: 39.142723083496094\n",
      "Generating Image Number: 4 for target class tensor([3]). Step 100, Loss: 38.08380889892578\n",
      "Generating Image Number: 4 for target class tensor([3]). Step 150, Loss: 37.39300537109375\n",
      "Generating Image Number: 4 for target class tensor([3]). Step 200, Loss: 36.819183349609375\n",
      "Generating Image Number: 4 for target class tensor([3]). Step 250, Loss: 36.3551025390625\n",
      "Generating Image Number: 4 for target class tensor([3]). Step 300, Loss: 36.02373123168945\n",
      "Generating Image Number: 4 for target class tensor([3]). Step 350, Loss: 35.712364196777344\n",
      "Generating Image Number: 4 for target class tensor([3]). Step 400, Loss: 35.38817596435547\n",
      "Generating Image Number: 4 for target class tensor([3]). Step 450, Loss: 35.060752868652344\n",
      "Generating Image Number: 5 for target class tensor([3]). Step 0, Loss: 36.51728820800781\n",
      "Generating Image Number: 5 for target class tensor([3]). Step 50, Loss: 15.49182415008545\n",
      "Generating Image Number: 5 for target class tensor([3]). Step 100, Loss: 9.585336685180664\n",
      "Generating Image Number: 5 for target class tensor([3]). Step 150, Loss: 5.141521453857422\n",
      "Generating Image Number: 5 for target class tensor([3]). Step 200, Loss: 0.18503697216510773\n",
      "Generating Image Number: 5 for target class tensor([3]). Step 250, Loss: 0.02329145185649395\n",
      "Generating Image Number: 5 for target class tensor([3]). Step 300, Loss: 0.014765740372240543\n",
      "Generating Image Number: 5 for target class tensor([3]). Step 350, Loss: 0.01094834879040718\n",
      "Generating Image Number: 5 for target class tensor([3]). Step 400, Loss: 0.008797340095043182\n",
      "Generating Image Number: 5 for target class tensor([3]). Step 450, Loss: 0.007456330116838217\n",
      "Generating Image Number: 6 for target class tensor([3]). Step 0, Loss: 22.28377914428711\n",
      "Generating Image Number: 6 for target class tensor([3]). Step 50, Loss: 4.3169474601745605\n",
      "Generating Image Number: 6 for target class tensor([3]). Step 100, Loss: 1.261631727218628\n",
      "Generating Image Number: 6 for target class tensor([3]). Step 150, Loss: 0.21924170851707458\n",
      "Generating Image Number: 6 for target class tensor([3]). Step 200, Loss: 0.11259155720472336\n",
      "Generating Image Number: 6 for target class tensor([3]). Step 250, Loss: 0.08821478486061096\n",
      "Generating Image Number: 6 for target class tensor([3]). Step 300, Loss: 0.06077921763062477\n",
      "Generating Image Number: 6 for target class tensor([3]). Step 350, Loss: 0.04941730201244354\n",
      "Generating Image Number: 6 for target class tensor([3]). Step 400, Loss: 0.045831285417079926\n",
      "Generating Image Number: 6 for target class tensor([3]). Step 450, Loss: 0.03681227192282677\n",
      "Generating Image Number: 7 for target class tensor([3]). Step 0, Loss: 24.04245948791504\n",
      "Generating Image Number: 7 for target class tensor([3]). Step 50, Loss: 0.5634136199951172\n",
      "Generating Image Number: 7 for target class tensor([3]). Step 100, Loss: 0.0767011046409607\n",
      "Generating Image Number: 7 for target class tensor([3]). Step 150, Loss: 0.05297456681728363\n",
      "Generating Image Number: 7 for target class tensor([3]). Step 200, Loss: 0.03914972022175789\n",
      "Generating Image Number: 7 for target class tensor([3]). Step 250, Loss: 0.031058991327881813\n",
      "Generating Image Number: 7 for target class tensor([3]). Step 300, Loss: 0.025281833484768867\n",
      "Generating Image Number: 7 for target class tensor([3]). Step 350, Loss: 0.02098056674003601\n",
      "Generating Image Number: 7 for target class tensor([3]). Step 400, Loss: 0.018094120547175407\n",
      "Generating Image Number: 7 for target class tensor([3]). Step 450, Loss: 0.016021912917494774\n",
      "Generating Image Number: 8 for target class tensor([3]). Step 0, Loss: 29.191082000732422\n",
      "Generating Image Number: 8 for target class tensor([3]). Step 50, Loss: 16.13935661315918\n",
      "Generating Image Number: 8 for target class tensor([3]). Step 100, Loss: 13.805027961730957\n",
      "Generating Image Number: 8 for target class tensor([3]). Step 150, Loss: 8.117415428161621\n",
      "Generating Image Number: 8 for target class tensor([3]). Step 200, Loss: 6.286074161529541\n",
      "Generating Image Number: 8 for target class tensor([3]). Step 250, Loss: 2.4268550872802734\n",
      "Generating Image Number: 8 for target class tensor([3]). Step 300, Loss: 0.08119386434555054\n",
      "Generating Image Number: 8 for target class tensor([3]). Step 350, Loss: 0.03252880647778511\n",
      "Generating Image Number: 8 for target class tensor([3]). Step 400, Loss: 0.018988264724612236\n",
      "Generating Image Number: 8 for target class tensor([3]). Step 450, Loss: 0.013729071244597435\n",
      "Generating Image Number: 9 for target class tensor([3]). Step 0, Loss: 33.785057067871094\n",
      "Generating Image Number: 9 for target class tensor([3]). Step 50, Loss: 17.990947723388672\n",
      "Generating Image Number: 9 for target class tensor([3]). Step 100, Loss: 16.372873306274414\n",
      "Generating Image Number: 9 for target class tensor([3]). Step 150, Loss: 14.420499801635742\n",
      "Generating Image Number: 9 for target class tensor([3]). Step 200, Loss: 12.414617538452148\n",
      "Generating Image Number: 9 for target class tensor([3]). Step 250, Loss: 10.578707695007324\n",
      "Generating Image Number: 9 for target class tensor([3]). Step 300, Loss: 9.140741348266602\n",
      "Generating Image Number: 9 for target class tensor([3]). Step 350, Loss: 7.992977619171143\n",
      "Generating Image Number: 9 for target class tensor([3]). Step 400, Loss: 5.756392955780029\n",
      "Generating Image Number: 9 for target class tensor([3]). Step 450, Loss: 3.9300758838653564\n",
      "Generating Image Number: 10 for target class tensor([3]). Step 0, Loss: 20.218860626220703\n",
      "Generating Image Number: 10 for target class tensor([3]). Step 50, Loss: 16.288867950439453\n",
      "Generating Image Number: 10 for target class tensor([3]). Step 100, Loss: 14.352221488952637\n",
      "Generating Image Number: 10 for target class tensor([3]). Step 150, Loss: 9.710585594177246\n",
      "Generating Image Number: 10 for target class tensor([3]). Step 200, Loss: 5.895269393920898\n",
      "Generating Image Number: 10 for target class tensor([3]). Step 250, Loss: 0.0635656863451004\n",
      "Generating Image Number: 10 for target class tensor([3]). Step 300, Loss: 0.015142605639994144\n",
      "Generating Image Number: 10 for target class tensor([3]). Step 350, Loss: 0.008835860528051853\n",
      "Generating Image Number: 10 for target class tensor([3]). Step 400, Loss: 0.00635164137929678\n",
      "Generating Image Number: 10 for target class tensor([3]). Step 450, Loss: 0.004916127305477858\n",
      "Generating Image Number: 11 for target class tensor([3]). Step 0, Loss: 33.529075622558594\n",
      "Generating Image Number: 11 for target class tensor([3]). Step 50, Loss: 20.48143768310547\n",
      "Generating Image Number: 11 for target class tensor([3]). Step 100, Loss: 19.19832992553711\n",
      "Generating Image Number: 11 for target class tensor([3]). Step 150, Loss: 18.009319305419922\n",
      "Generating Image Number: 11 for target class tensor([3]). Step 200, Loss: 16.6350154876709\n",
      "Generating Image Number: 11 for target class tensor([3]). Step 250, Loss: 15.552696228027344\n",
      "Generating Image Number: 11 for target class tensor([3]). Step 300, Loss: 12.022372245788574\n",
      "Generating Image Number: 11 for target class tensor([3]). Step 350, Loss: 9.25885009765625\n",
      "Generating Image Number: 11 for target class tensor([3]). Step 400, Loss: 8.270181655883789\n",
      "Generating Image Number: 11 for target class tensor([3]). Step 450, Loss: 5.590878963470459\n",
      "Generating Image Number: 12 for target class tensor([3]). Step 0, Loss: 48.378326416015625\n",
      "Generating Image Number: 12 for target class tensor([3]). Step 50, Loss: 38.692405700683594\n",
      "Generating Image Number: 12 for target class tensor([3]). Step 100, Loss: 37.95808410644531\n",
      "Generating Image Number: 12 for target class tensor([3]). Step 150, Loss: 37.06105041503906\n",
      "Generating Image Number: 12 for target class tensor([3]). Step 200, Loss: 35.943092346191406\n",
      "Generating Image Number: 12 for target class tensor([3]). Step 250, Loss: 34.94552993774414\n",
      "Generating Image Number: 12 for target class tensor([3]). Step 300, Loss: 34.17477035522461\n",
      "Generating Image Number: 12 for target class tensor([3]). Step 350, Loss: 33.721824645996094\n",
      "Generating Image Number: 12 for target class tensor([3]). Step 400, Loss: 33.26683044433594\n",
      "Generating Image Number: 12 for target class tensor([3]). Step 450, Loss: 32.83111572265625\n",
      "Generating Image Number: 13 for target class tensor([3]). Step 0, Loss: 42.19529342651367\n",
      "Generating Image Number: 13 for target class tensor([3]). Step 50, Loss: 15.716525077819824\n",
      "Generating Image Number: 13 for target class tensor([3]). Step 100, Loss: 14.269408226013184\n",
      "Generating Image Number: 13 for target class tensor([3]). Step 150, Loss: 12.683231353759766\n",
      "Generating Image Number: 13 for target class tensor([3]). Step 200, Loss: 10.913382530212402\n",
      "Generating Image Number: 13 for target class tensor([3]). Step 250, Loss: 9.36010456085205\n",
      "Generating Image Number: 13 for target class tensor([3]). Step 300, Loss: 8.014674186706543\n",
      "Generating Image Number: 13 for target class tensor([3]). Step 350, Loss: 1.1114882230758667\n",
      "Generating Image Number: 13 for target class tensor([3]). Step 400, Loss: 0.030332641676068306\n",
      "Generating Image Number: 13 for target class tensor([3]). Step 450, Loss: 0.01740538328886032\n",
      "Generating Image Number: 14 for target class tensor([3]). Step 0, Loss: 28.15170669555664\n",
      "Generating Image Number: 14 for target class tensor([3]). Step 50, Loss: 16.68132209777832\n",
      "Generating Image Number: 14 for target class tensor([3]). Step 100, Loss: 15.406015396118164\n",
      "Generating Image Number: 14 for target class tensor([3]). Step 150, Loss: 14.466219902038574\n",
      "Generating Image Number: 14 for target class tensor([3]). Step 200, Loss: 13.548136711120605\n",
      "Generating Image Number: 14 for target class tensor([3]). Step 250, Loss: 11.994338989257812\n",
      "Generating Image Number: 14 for target class tensor([3]). Step 300, Loss: 9.792000770568848\n",
      "Generating Image Number: 14 for target class tensor([3]). Step 350, Loss: 6.773784160614014\n",
      "Generating Image Number: 14 for target class tensor([3]). Step 400, Loss: 5.59780740737915\n",
      "Generating Image Number: 14 for target class tensor([3]). Step 450, Loss: 4.938699722290039\n",
      "Generating Image Number: 15 for target class tensor([3]). Step 0, Loss: 27.46803855895996\n",
      "Generating Image Number: 15 for target class tensor([3]). Step 50, Loss: 2.0926380157470703\n",
      "Generating Image Number: 15 for target class tensor([3]). Step 100, Loss: 0.10733465105295181\n",
      "Generating Image Number: 15 for target class tensor([3]). Step 150, Loss: 0.08889081329107285\n",
      "Generating Image Number: 15 for target class tensor([3]). Step 200, Loss: 0.07742290943861008\n",
      "Generating Image Number: 15 for target class tensor([3]). Step 250, Loss: 0.0750657320022583\n",
      "Generating Image Number: 15 for target class tensor([3]). Step 300, Loss: 0.06273114681243896\n",
      "Generating Image Number: 15 for target class tensor([3]). Step 350, Loss: 0.05896800756454468\n",
      "Generating Image Number: 15 for target class tensor([3]). Step 400, Loss: 0.054059453308582306\n",
      "Generating Image Number: 15 for target class tensor([3]). Step 450, Loss: 0.049637846648693085\n",
      "Generating Image Number: 16 for target class tensor([3]). Step 0, Loss: 44.709102630615234\n",
      "Generating Image Number: 16 for target class tensor([3]). Step 50, Loss: 43.46597671508789\n",
      "Generating Image Number: 16 for target class tensor([3]). Step 100, Loss: 36.0359001159668\n",
      "Generating Image Number: 16 for target class tensor([3]). Step 150, Loss: 35.62240982055664\n",
      "Generating Image Number: 16 for target class tensor([3]). Step 200, Loss: 34.958431243896484\n",
      "Generating Image Number: 16 for target class tensor([3]). Step 250, Loss: 29.953922271728516\n",
      "Generating Image Number: 16 for target class tensor([3]). Step 300, Loss: 46.50532531738281\n",
      "Generating Image Number: 16 for target class tensor([3]). Step 350, Loss: 44.91926193237305\n",
      "Generating Image Number: 16 for target class tensor([3]). Step 400, Loss: 35.54011535644531\n",
      "Generating Image Number: 16 for target class tensor([3]). Step 450, Loss: 34.582279205322266\n",
      "Generating Image Number: 17 for target class tensor([3]). Step 0, Loss: 25.576976776123047\n",
      "Generating Image Number: 17 for target class tensor([3]). Step 50, Loss: 3.2506067752838135\n",
      "Generating Image Number: 17 for target class tensor([3]). Step 100, Loss: 1.9395500421524048\n",
      "Generating Image Number: 17 for target class tensor([3]). Step 150, Loss: 0.7391155362129211\n",
      "Generating Image Number: 17 for target class tensor([3]). Step 200, Loss: 0.42556172609329224\n",
      "Generating Image Number: 17 for target class tensor([3]). Step 250, Loss: 0.277390718460083\n",
      "Generating Image Number: 17 for target class tensor([3]). Step 300, Loss: 0.19477854669094086\n",
      "Generating Image Number: 17 for target class tensor([3]). Step 350, Loss: 0.14271673560142517\n",
      "Generating Image Number: 17 for target class tensor([3]). Step 400, Loss: 0.10810230672359467\n",
      "Generating Image Number: 17 for target class tensor([3]). Step 450, Loss: 0.08491396903991699\n",
      "Generating Image Number: 18 for target class tensor([3]). Step 0, Loss: 47.750511169433594\n",
      "Generating Image Number: 18 for target class tensor([3]). Step 50, Loss: 39.966163635253906\n",
      "Generating Image Number: 18 for target class tensor([3]). Step 100, Loss: 38.55137634277344\n",
      "Generating Image Number: 18 for target class tensor([3]). Step 150, Loss: 37.41516876220703\n",
      "Generating Image Number: 18 for target class tensor([3]). Step 200, Loss: 36.40095520019531\n",
      "Generating Image Number: 18 for target class tensor([3]). Step 250, Loss: 35.77788543701172\n",
      "Generating Image Number: 18 for target class tensor([3]). Step 300, Loss: 35.23805236816406\n",
      "Generating Image Number: 18 for target class tensor([3]). Step 350, Loss: 34.73338317871094\n",
      "Generating Image Number: 18 for target class tensor([3]). Step 400, Loss: 34.138397216796875\n",
      "Generating Image Number: 18 for target class tensor([3]). Step 450, Loss: 33.57765197753906\n",
      "Generating Image Number: 19 for target class tensor([3]). Step 0, Loss: 50.55621337890625\n",
      "Generating Image Number: 19 for target class tensor([3]). Step 50, Loss: 41.176326751708984\n",
      "Generating Image Number: 19 for target class tensor([3]). Step 100, Loss: 40.87982177734375\n",
      "Generating Image Number: 19 for target class tensor([3]). Step 150, Loss: 40.690650939941406\n",
      "Generating Image Number: 19 for target class tensor([3]). Step 200, Loss: 40.492401123046875\n",
      "Generating Image Number: 19 for target class tensor([3]). Step 250, Loss: 40.29896545410156\n",
      "Generating Image Number: 19 for target class tensor([3]). Step 300, Loss: 40.0887451171875\n",
      "Generating Image Number: 19 for target class tensor([3]). Step 350, Loss: 39.85569381713867\n",
      "Generating Image Number: 19 for target class tensor([3]). Step 400, Loss: 39.632205963134766\n",
      "Generating Image Number: 19 for target class tensor([3]). Step 450, Loss: 39.51270294189453\n",
      "Generating Image Number: 20 for target class tensor([3]). Step 0, Loss: 32.99726486206055\n",
      "Generating Image Number: 20 for target class tensor([3]). Step 50, Loss: 3.683788776397705\n",
      "Generating Image Number: 20 for target class tensor([3]). Step 100, Loss: 1.3716825246810913\n",
      "Generating Image Number: 20 for target class tensor([3]). Step 150, Loss: 0.6991716623306274\n",
      "Generating Image Number: 20 for target class tensor([3]). Step 200, Loss: 0.4054984748363495\n",
      "Generating Image Number: 20 for target class tensor([3]). Step 250, Loss: 0.24673068523406982\n",
      "Generating Image Number: 20 for target class tensor([3]). Step 300, Loss: 0.16169068217277527\n",
      "Generating Image Number: 20 for target class tensor([3]). Step 350, Loss: 0.11725679039955139\n",
      "Generating Image Number: 20 for target class tensor([3]). Step 400, Loss: 0.09382754564285278\n",
      "Generating Image Number: 20 for target class tensor([3]). Step 450, Loss: 0.07355550676584244\n"
     ]
    }
   ],
   "source": [
    "torch.manual_seed(300)\n",
    "latent_vectors = torch.randn(img_count, z_dim, 1, 1, requires_grad=True) # Start with 20 random noises\n",
    "class3_optimized_latent_vectors = recover_images(img_count, 3, latent_vectors)"
   ]
  },
  {
   "cell_type": "code",
   "execution_count": 24,
   "id": "ae6425a5-dd86-4e87-8112-883336345ac9",
   "metadata": {},
   "outputs": [],
   "source": [
    "z0_1 = class0_optimized_latent_vectors[0]\n",
    "z0_2 = class0_optimized_latent_vectors[1]\n",
    "z0_3 = class0_optimized_latent_vectors[2]"
   ]
  },
  {
   "cell_type": "code",
   "execution_count": 25,
   "id": "3a6ed4fb-b693-4963-afcf-17a512e50b5f",
   "metadata": {},
   "outputs": [
    {
     "name": "stdout",
     "output_type": "stream",
     "text": [
      "torch.Size([64, 64])\n"
     ]
    }
   ],
   "source": [
    "# Display the generated image\n",
    "img = gen(z0_1.to(device)).squeeze(dim=0).squeeze(dim=0)\n",
    "print(img.shape)"
   ]
  },
  {
   "cell_type": "code",
   "execution_count": 26,
   "id": "88fc9416-c6ca-486b-bd72-63885de78d1c",
   "metadata": {},
   "outputs": [
    {
     "data": {
      "text/plain": [
       "<matplotlib.image.AxesImage at 0x18528243820>"
      ]
     },
     "execution_count": 26,
     "metadata": {},
     "output_type": "execute_result"
    },
    {
     "data": {
      "image/png": "[encoded data removed]",
      "text/plain": [
       "<Figure size 640x480 with 1 Axes>"
      ]
     },
     "metadata": {},
     "output_type": "display_data"
    }
   ],
   "source": [
    "plt.axis(False)\n",
    "plt.title('Recovered Image:')\n",
    "plt.imshow(img.cpu().detach(), cmap='gray')"
   ]
  },
  {
   "cell_type": "code",
   "execution_count": 27,
   "id": "bb0fc370-78c5-495f-b1e7-1239873b4ff8",
   "metadata": {},
   "outputs": [],
   "source": [
    "z1 = class1_optimized_latent_vectors[0]\n",
    "z2 = class1_optimized_latent_vectors[1]\n",
    "z3 = class1_optimized_latent_vectors[2]"
   ]
  },
  {
   "cell_type": "code",
   "execution_count": 28,
   "id": "07f38b7d-14f6-4d63-9efa-cb96ec2e1d35",
   "metadata": {},
   "outputs": [
    {
     "name": "stdout",
     "output_type": "stream",
     "text": [
      "torch.Size([64, 64])\n"
     ]
    }
   ],
   "source": [
    "# Display the generated image\n",
    "img = gen(z1.to(device)).squeeze(dim=0).squeeze(dim=0)\n",
    "print(img.shape)"
   ]
  },
  {
   "cell_type": "code",
   "execution_count": 29,
   "id": "8cad57ff-7961-4078-9dd4-1e0b4879ff56",
   "metadata": {},
   "outputs": [
    {
     "data": {
      "text/plain": [
       "<matplotlib.image.AxesImage at 0x1851c9f0f40>"
      ]
     },
     "execution_count": 29,
     "metadata": {},
     "output_type": "execute_result"
    },
    {
     "data": {
      "image/png": "[encoded data removed]",
      "text/plain": [
       "<Figure size 640x480 with 1 Axes>"
      ]
     },
     "metadata": {},
     "output_type": "display_data"
    }
   ],
   "source": [
    "plt.axis(False)\n",
    "plt.title('Recovered Image:')\n",
    "plt.imshow(img.cpu().detach(), cmap='gray')"
   ]
  },
  {
   "cell_type": "code",
   "execution_count": 30,
   "id": "52ecd67d-cb2d-44a3-b375-759d63db75b1",
   "metadata": {},
   "outputs": [],
   "source": [
    "                                                            # Dataset Loading\n",
    "# Load the .pkl files in as numpy arrays of pixels\n",
    "def load_tumor_data(file_path):\n",
    "    train_xs = []\n",
    "    train_ys = []\n",
    "    \"\"\" Load Digits Data from pickle data\n",
    "    return:\n",
    "    @xs: numpy.array, (n, c, w, h) \n",
    "    @ys: numpy.array, (n, ), 0-9\n",
    "    \"\"\"\n",
    "    with open(file_path, 'rb') as file:\n",
    "        data = pickle.load(file)\n",
    "        train_xs.append(data[\"data\"])\n",
    "        train_ys.append(data[\"labels\"])\n",
    "    train_xs = np.concatenate(train_xs, axis=0)\n",
    "    train_ys = np.concatenate(train_ys, axis=0)\n",
    "    \n",
    "    return train_xs, train_ys"
   ]
  },
  {
   "cell_type": "code",
   "execution_count": 31,
   "id": "ca72f62f-1eec-4b17-a8ce-fd66781f64f6",
   "metadata": {},
   "outputs": [],
   "source": [
    "# Custom Tumor Dataset\n",
    "class TumorDataset(data.Dataset):\n",
    "    def __init__(self, xs, ys, is_train=True):\n",
    "        self.xs = xs\n",
    "        self.ys = ys\n",
    "\n",
    "        if is_train is True:\n",
    "            self.transform = transforms.Compose([\n",
    "                transforms.ToPILImage(),\n",
    "                transforms.Resize((64, 64)),\n",
    "                transforms.ToTensor(),\n",
    "                transforms.Normalize(\n",
    "                    [0.5],\n",
    "                    [0.5]\n",
    "                )\n",
    "            ])\n",
    "        else:\n",
    "            self.transform = transforms.Compose([\n",
    "                transforms.ToPILImage(),\n",
    "                transforms.Resize((64, 64)),\n",
    "                transforms.ToTensor(),\n",
    "                transforms.Normalize(\n",
    "                    (0.4914, 0.4822, 0.4465),\n",
    "                    (0.2023, 0.1994, 0.2010)\n",
    "                )\n",
    "            ])\n",
    "\n",
    "    def __len__(self):\n",
    "        return len(self.xs)\n",
    "\n",
    "    def __getitem__(self, index):\n",
    "        img = self.xs[index]\n",
    "        #print(img.shape)\n",
    "        label = self.ys[index]\n",
    "\n",
    "        img = img.transpose((1, 2, 0)).astype(np.uint8)\n",
    "        img = self.transform(img)\n",
    "\n",
    "        img = torch.FloatTensor(img)\n",
    "        label = torch.LongTensor([label])[0]\n",
    "        return img, label"
   ]
  },
  {
   "cell_type": "code",
   "execution_count": 32,
   "id": "ceb91588-ef69-4373-b33f-74aed6c246bb",
   "metadata": {},
   "outputs": [],
   "source": [
    "def create_dataset(train_xs, train_ys):\n",
    "    tumor_dataset = TumorDataset(train_xs, train_ys, is_train=True)\n",
    "\n",
    "    return tumor_dataset"
   ]
  },
  {
   "cell_type": "code",
   "execution_count": 33,
   "id": "0415fba0-830c-42c6-bbde-c6958e779fbb",
   "metadata": {},
   "outputs": [],
   "source": [
    "def create_dataloader(dataset):\n",
    "    dataloader = DataLoader(dataset=dataset, batch_size=128, shuffle=True)\n",
    "\n",
    "    return dataloader"
   ]
  },
  {
   "cell_type": "code",
   "execution_count": 34,
   "id": "726d4995-5133-4037-ab0e-f2705470cdc9",
   "metadata": {},
   "outputs": [
    {
     "name": "stdout",
     "output_type": "stream",
     "text": [
      "(13927, 1, 32, 32)\n",
      "<class 'numpy.ndarray'>\n"
     ]
    }
   ],
   "source": [
    "# Load in the pickle dataset file\n",
    "train_xs, train_ys = load_tumor_data('datasets/Tumor/tumor4train.pkl')\n",
    "#train_xs = train_xs[:, 1, :, :]\n",
    "#train_xs = np.expand_dims(train_xs, axis=1)\n",
    "train_xs = train_xs.mean(axis=1, keepdims=True)\n",
    "print(train_xs.shape)\n",
    "print(type(train_xs))"
   ]
  },
  {
   "cell_type": "code",
   "execution_count": 35,
   "id": "a684b01a-eb4a-4210-9f59-d613085a404a",
   "metadata": {},
   "outputs": [],
   "source": [
    "# Create the dataset\n",
    "tumor_dataset = create_dataset(train_xs, train_ys)"
   ]
  },
  {
   "cell_type": "code",
   "execution_count": 36,
   "id": "193f07cc-d34f-425e-aa08-62b6d6adbad6",
   "metadata": {},
   "outputs": [],
   "source": [
    "def visualize_image(image_x):\n",
    "    # We have to visualize by reverting the normalization (just for visualization).\n",
    "    mean = torch.tensor([0.5])\n",
    "    std = torch.tensor([0.5])\n",
    "\n",
    "    image = image_x * std + mean  # Denormalize the image\n",
    "\n",
    "    image = torch.clamp(image, 0, 1) # Clip values to [0, 1] to ensure valid range for display\n",
    "\n",
    "    # Permute the image to (H, W, C) for matplotlib\n",
    "    \n",
    "    image = image.permute(1, 2, 0)\n",
    "\n",
    "    plt.imshow(image, cmap='gray')"
   ]
  },
  {
   "cell_type": "code",
   "execution_count": 37,
   "id": "16e93c17-a89b-46a2-8198-71e66e370f4f",
   "metadata": {},
   "outputs": [
    {
     "name": "stdout",
     "output_type": "stream",
     "text": [
      "torch.Size([1, 64, 64])\n"
     ]
    },
    {
     "data": {
      "image/png": "[encoded data removed]",
      "text/plain": [
       "<Figure size 640x480 with 1 Axes>"
      ]
     },
     "metadata": {},
     "output_type": "display_data"
    }
   ],
   "source": [
    "# Visualize the first tumor sample. \n",
    "image_x, image_y = tumor_dataset[7000]\n",
    "print(image_x.shape)\n",
    "visualize_image(image_x)"
   ]
  },
  {
   "cell_type": "code",
   "execution_count": 38,
   "id": "60e2da47-7cb6-493e-aeda-aa80d7965de7",
   "metadata": {},
   "outputs": [],
   "source": [
    "from scipy.spatial.distance import cosine"
   ]
  },
  {
   "cell_type": "code",
   "execution_count": 39,
   "id": "5a7937e5-b808-4b3e-8288-75dcd9862340",
   "metadata": {},
   "outputs": [],
   "source": [
    "# Get the feature embeddings\n",
    "tfcnn_model = target_model = load_target_model(base_net='TFCNN', n_classes=4, path='saved models/fedavg_global_model.pth').to(device)\n",
    "model_embeddings = tfcnn_model.encoder.to(device)"
   ]
  },
  {
   "cell_type": "code",
   "execution_count": 40,
   "id": "737e3d92-45b6-45f6-9bf2-d51f379d6ac8",
   "metadata": {},
   "outputs": [],
   "source": [
    "# Preprocessing\n",
    "preprocess = transforms.Compose([\n",
    "    transforms.Resize(256),\n",
    "    transforms.CenterCrop(224),\n",
    "    transforms.ToTensor(),\n",
    "])"
   ]
  },
  {
   "cell_type": "code",
   "execution_count": 41,
   "id": "babb1015-bdfb-439b-bea1-81f9f50dd74e",
   "metadata": {},
   "outputs": [],
   "source": [
    "def get_feature(img):\n",
    "    with torch.no_grad():\n",
    "        features = model_embeddings(img).squeeze()\n",
    "    return features.cpu().numpy()"
   ]
  },
  {
   "cell_type": "code",
   "execution_count": 42,
   "id": "79f38654-6670-440d-a322-b2cae18a71d8",
   "metadata": {},
   "outputs": [
    {
     "data": {
      "text/plain": [
       "torch.Size([1, 64, 64])"
      ]
     },
     "execution_count": 42,
     "metadata": {},
     "output_type": "execute_result"
    }
   ],
   "source": [
    "# Send an original image through the model\n",
    "image_x, image_y = tumor_dataset[10]\n",
    "image_x.shape"
   ]
  },
  {
   "cell_type": "code",
   "execution_count": 43,
   "id": "a4a2659e-dcaa-4d4a-b5a5-06b363ce6534",
   "metadata": {},
   "outputs": [],
   "source": [
    "image_x = image_x.unsqueeze(dim=0)"
   ]
  },
  {
   "cell_type": "code",
   "execution_count": 44,
   "id": "14348bfc-5988-48f0-88cf-4761d7a99d89",
   "metadata": {},
   "outputs": [
    {
     "data": {
      "text/plain": [
       "torch.Size([1, 1, 64, 64])"
      ]
     },
     "execution_count": 44,
     "metadata": {},
     "output_type": "execute_result"
    }
   ],
   "source": [
    "image_x.shape"
   ]
  },
  {
   "cell_type": "code",
   "execution_count": 45,
   "id": "66160253-9543-4aba-bb81-031d51ef9623",
   "metadata": {},
   "outputs": [
    {
     "data": {
      "text/plain": [
       "torch.Size([1, 3, 64, 64])"
      ]
     },
     "execution_count": 45,
     "metadata": {},
     "output_type": "execute_result"
    }
   ],
   "source": [
    "image_x = image_x.repeat(1, 3, 1, 1)\n",
    "image_x = image_x.to(device)\n",
    "image_x.shape"
   ]
  },
  {
   "cell_type": "code",
   "execution_count": 46,
   "id": "f615c7d3-2dab-425d-81e1-2595ec59e230",
   "metadata": {},
   "outputs": [
    {
     "data": {
      "text/plain": [
       "(4096,)"
      ]
     },
     "execution_count": 46,
     "metadata": {},
     "output_type": "execute_result"
    }
   ],
   "source": [
    "features = get_feature(image_x)\n",
    "features.shape"
   ]
  },
  {
   "cell_type": "code",
   "execution_count": 47,
   "id": "31b9ddc9-3fc8-4a47-bfc7-74a6df27d672",
   "metadata": {},
   "outputs": [],
   "source": [
    "class0_original_images = []\n",
    "class1_original_images = []\n",
    "class2_original_images = []\n",
    "class3_original_images = []\n",
    "target_num = 20 # 20 images for each class"
   ]
  },
  {
   "cell_type": "code",
   "execution_count": 48,
   "id": "e804c948-2dc8-41df-a633-113300baf12a",
   "metadata": {},
   "outputs": [],
   "source": [
    "for i in range(len(tumor_dataset)):\n",
    "    img_x, img_y = tumor_dataset[i]\n",
    "\n",
    "    if img_y == 0:\n",
    "        if len(class0_original_images) < target_num:\n",
    "            class0_original_images.append(img_x)\n",
    "    elif img_y == 1:\n",
    "        if len(class1_original_images) < target_num:\n",
    "            class1_original_images.append(img_x)\n",
    "    elif img_y == 2:\n",
    "        if len(class2_original_images) < target_num:\n",
    "            class2_original_images.append(img_x)\n",
    "    elif img_y == 3:\n",
    "        if len(class3_original_images) < target_num:\n",
    "            class3_original_images.append(img_x)"
   ]
  },
  {
   "cell_type": "code",
   "execution_count": 49,
   "id": "ef07c896-c4cd-48da-9e59-c9d7bd90a4e8",
   "metadata": {},
   "outputs": [
    {
     "data": {
      "text/plain": [
       "20"
      ]
     },
     "execution_count": 49,
     "metadata": {},
     "output_type": "execute_result"
    }
   ],
   "source": [
    "len(class3_original_images)"
   ]
  },
  {
   "cell_type": "code",
   "execution_count": 50,
   "id": "e102404a-68a3-40c5-99a7-45813eb87f20",
   "metadata": {},
   "outputs": [
    {
     "data": {
      "text/plain": [
       "torch.Size([1, 3, 64, 64])"
      ]
     },
     "execution_count": 50,
     "metadata": {},
     "output_type": "execute_result"
    }
   ],
   "source": [
    "# Testing the cosine similarity\n",
    "class1_original_image = class1_original_images[8]\n",
    "class1_original_image = class1_original_image.unsqueeze(dim=0).to(device)\n",
    "class1_original_image = class1_original_image.repeat(1, 3, 1, 1)\n",
    "class1_original_image.shape"
   ]
  },
  {
   "cell_type": "code",
   "execution_count": 51,
   "id": "d7fe9c85-2c83-4580-be7d-32833b706948",
   "metadata": {},
   "outputs": [],
   "source": [
    "fake1 = class1_optimized_latent_vectors[8]\n",
    "fake1_image = gen(fake1.to(device))\n",
    "fake1_image = fake1_image.repeat(1, 3, 1, 1)"
   ]
  },
  {
   "cell_type": "code",
   "execution_count": 52,
   "id": "74647152-cdcb-4593-a88f-d3ac43fd97d3",
   "metadata": {},
   "outputs": [
    {
     "data": {
      "text/plain": [
       "torch.Size([1, 3, 64, 64])"
      ]
     },
     "execution_count": 52,
     "metadata": {},
     "output_type": "execute_result"
    }
   ],
   "source": [
    "fake1_image.shape"
   ]
  },
  {
   "cell_type": "code",
   "execution_count": 53,
   "id": "e88f6396-0ef2-45f5-96e0-6048be01af25",
   "metadata": {},
   "outputs": [],
   "source": [
    "# Get the features of the images\n",
    "features_original = get_feature(class1_original_image)\n",
    "features_fake = get_feature(fake1_image)"
   ]
  },
  {
   "cell_type": "code",
   "execution_count": 54,
   "id": "b54e2bca-5f2b-41ea-b810-15d1f9d30f86",
   "metadata": {},
   "outputs": [],
   "source": [
    "# Compute cosine similarity\n",
    "similarity = 1 - cosine(features_original, features_fake)"
   ]
  },
  {
   "cell_type": "code",
   "execution_count": 55,
   "id": "983c7e35-27ee-453c-9356-cb9a84fdd4a3",
   "metadata": {},
   "outputs": [
    {
     "data": {
      "text/plain": [
       "np.float32(0.53453207)"
      ]
     },
     "execution_count": 55,
     "metadata": {},
     "output_type": "execute_result"
    }
   ],
   "source": [
    "similarity"
   ]
  },
  {
   "cell_type": "code",
   "execution_count": 119,
   "id": "fd6a49fe-5eec-43dd-b65e-677f4245ce9a",
   "metadata": {},
   "outputs": [
    {
     "name": "stdout",
     "output_type": "stream",
     "text": [
      "torch.Size([1, 64, 64])\n"
     ]
    },
    {
     "data": {
      "image/png": "[encoded data removed]",
      "text/plain": [
       "<Figure size 640x480 with 1 Axes>"
      ]
     },
     "metadata": {},
     "output_type": "display_data"
    }
   ],
   "source": [
    "fake = class3_optimized_latent_vectors[11]\n",
    "fake_img = gen(fake.to(device)).squeeze(dim=0)\n",
    "print(fake_img.shape)\n",
    "visualize_image(fake_img.detach().cpu())"
   ]
  },
  {
   "cell_type": "code",
   "execution_count": 56,
   "id": "e65e04e8-52b7-4cf2-876c-d9b07a435ec9",
   "metadata": {},
   "outputs": [],
   "source": [
    "def calculate_class0_sim():\n",
    "    similarities = []\n",
    "    for i in range(0, 20):\n",
    "        class0_original = class0_original_images[i].unsqueeze(dim=0).to(device)\n",
    "        class0_original = class0_original.repeat(1, 3, 1, 1)\n",
    "\n",
    "        class0_fake = class0_optimized_latent_vectors[i]\n",
    "        class0_fake_img = gen(class0_fake.to(device))\n",
    "        class0_fake_img = class0_fake_img.repeat(1, 3, 1, 1)\n",
    "\n",
    "        features_original = get_feature(class0_original)\n",
    "        features_fake = get_feature(class0_fake_img)\n",
    "\n",
    "        cosine_similarity = 1 - cosine(features_original, features_fake)\n",
    "\n",
    "        similarities.append(cosine_similarity)\n",
    "        \n",
    "    return similarities"
   ]
  },
  {
   "cell_type": "code",
   "execution_count": 57,
   "id": "10d8f579-0b80-4157-b59b-7b92be9e52f2",
   "metadata": {},
   "outputs": [],
   "source": [
    "def calculate_class1_sim():\n",
    "    similarities = []\n",
    "    for i in range(0, 20):\n",
    "        class1_original = class1_original_images[i].unsqueeze(dim=0).to(device)\n",
    "        class1_original = class1_original.repeat(1, 3, 1, 1)\n",
    "\n",
    "        class1_fake = class1_optimized_latent_vectors[i]\n",
    "        class1_fake_img = gen(class1_fake.to(device))\n",
    "        class1_fake_img = class1_fake_img.repeat(1, 3, 1, 1)\n",
    "\n",
    "        features_original = get_feature(class1_original)\n",
    "        features_fake = get_feature(class1_fake_img)\n",
    "\n",
    "        cosine_similarity = 1 - cosine(features_original, features_fake)\n",
    "        similarities.append(cosine_similarity)\n",
    "\n",
    "    return similarities"
   ]
  },
  {
   "cell_type": "code",
   "execution_count": 58,
   "id": "1bbdc999-fa6d-4005-b785-3c54a7bd89ee",
   "metadata": {},
   "outputs": [],
   "source": [
    "def calculate_class2_sim():\n",
    "    similarities = []\n",
    "    for i in range(0, 20):\n",
    "        class2_original = class2_original_images[i].unsqueeze(dim=0).to(device)\n",
    "        class2_original = class2_original.repeat(1, 3, 1, 1)\n",
    "\n",
    "        class2_fake = class2_optimized_latent_vectors[i]\n",
    "        class2_fake_img = gen(class2_fake.to(device))\n",
    "        class2_fake_img = class2_fake_img.repeat(1, 3, 1, 1)\n",
    "\n",
    "        features_original = get_feature(class2_original)\n",
    "        features_fake = get_feature(class2_fake_img)\n",
    "\n",
    "        cosine_similarity = 1 - cosine(features_original, features_fake)\n",
    "        similarities.append(cosine_similarity)\n",
    "\n",
    "    return similarities"
   ]
  },
  {
   "cell_type": "code",
   "execution_count": 59,
   "id": "33cb8de1-5a87-4dd4-8fc2-d3f27d6ddc9a",
   "metadata": {},
   "outputs": [],
   "source": [
    "def calculate_class3_sim():\n",
    "    similarities = []\n",
    "    for i in range(0, 20):\n",
    "        class3_original = class3_original_images[i].unsqueeze(dim=0).to(device)\n",
    "        class3_original = class3_original.repeat(1, 3, 1, 1)\n",
    "\n",
    "        class3_fake = class3_optimized_latent_vectors[i]\n",
    "        class3_fake_img = gen(class3_fake.to(device))\n",
    "        class3_fake_img = class3_fake_img.repeat(1, 3, 1, 1)\n",
    "\n",
    "        features_original = get_feature(class3_original)\n",
    "        features_fake = get_feature(class3_fake_img)\n",
    "\n",
    "        cosine_similarity = 1 - cosine(features_original, features_fake)\n",
    "        similarities.append(cosine_similarity)\n",
    "\n",
    "    return similarities"
   ]
  },
  {
   "cell_type": "code",
   "execution_count": 60,
   "id": "7868f175-5845-4ee4-b4cf-1c89513375ec",
   "metadata": {},
   "outputs": [],
   "source": [
    "class0_sims = calculate_class0_sim()\n",
    "class1_sims = calculate_class0_sim()\n",
    "class2_sims = calculate_class0_sim()\n",
    "class3_sims = calculate_class0_sim()"
   ]
  },
  {
   "cell_type": "code",
   "execution_count": 61,
   "id": "bbf4597d-a583-4204-a3ce-9085936e0189",
   "metadata": {},
   "outputs": [
    {
     "data": {
      "text/plain": [
       "[np.float32(0.025479198),\n",
       " np.float32(0.50753146),\n",
       " np.float32(0.50655335),\n",
       " np.float32(0.4899112),\n",
       " np.float32(0.6378356),\n",
       " np.float32(0.17851037),\n",
       " np.float32(0.6274115),\n",
       " np.float32(0.46929544),\n",
       " np.float32(0.024633348),\n",
       " np.float32(0.48080695),\n",
       " np.float32(0.4734156),\n",
       " np.float32(0.5429889),\n",
       " np.float32(0.58556634),\n",
       " np.float32(0.55402327),\n",
       " np.float32(0.5625538),\n",
       " np.float32(0.59492886),\n",
       " np.float32(0.579768),\n",
       " np.float32(0.56817544),\n",
       " np.float32(0.35565138),\n",
       " np.float32(0.5823546)]"
      ]
     },
     "execution_count": 61,
     "metadata": {},
     "output_type": "execute_result"
    }
   ],
   "source": [
    "class0_sims"
   ]
  },
  {
   "cell_type": "code",
   "execution_count": 62,
   "id": "acb9d480-a58f-4ce6-8973-eb9c8d6e7253",
   "metadata": {},
   "outputs": [
    {
     "data": {
      "text/plain": [
       "[np.float32(0.025479198),\n",
       " np.float32(0.5075312),\n",
       " np.float32(0.5065536),\n",
       " np.float32(0.4899112),\n",
       " np.float32(0.6378356),\n",
       " np.float32(0.17851037),\n",
       " np.float32(0.6274116),\n",
       " np.float32(0.46929544),\n",
       " np.float32(0.024633348),\n",
       " np.float32(0.48080695),\n",
       " np.float32(0.4734156),\n",
       " np.float32(0.5429889),\n",
       " np.float32(0.58556634),\n",
       " np.float32(0.5540246),\n",
       " np.float32(0.56255406),\n",
       " np.float32(0.59492886),\n",
       " np.float32(0.579768),\n",
       " np.float32(0.56817544),\n",
       " np.float32(0.3556515),\n",
       " np.float32(0.5823546)]"
      ]
     },
     "execution_count": 62,
     "metadata": {},
     "output_type": "execute_result"
    }
   ],
   "source": [
    "class3_sims"
   ]
  },
  {
   "cell_type": "code",
   "execution_count": 63,
   "id": "58dc103d-1c30-473a-adc3-fcd5ca5100a0",
   "metadata": {},
   "outputs": [
    {
     "ename": "FileNotFoundError",
     "evalue": "[Errno 2] No such file or directory: 'output/fedvg.png'",
     "output_type": "error",
     "traceback": [
      "\u001b[1;31m---------------------------------------------------------------------------\u001b[0m",
      "\u001b[1;31mFileNotFoundError\u001b[0m                         Traceback (most recent call last)",
      "Cell \u001b[1;32mIn[63], line 43\u001b[0m\n\u001b[0;32m     41\u001b[0m plt\u001b[38;5;241m.\u001b[39mtight_layout()\n\u001b[0;32m     42\u001b[0m \u001b[38;5;66;03m# Save the plot to a file\u001b[39;00m\n\u001b[1;32m---> 43\u001b[0m \u001b[43mplt\u001b[49m\u001b[38;5;241;43m.\u001b[39;49m\u001b[43msavefig\u001b[49m\u001b[43m(\u001b[49m\u001b[38;5;124;43m'\u001b[39;49m\u001b[38;5;124;43moutput/fedvg.png\u001b[39;49m\u001b[38;5;124;43m'\u001b[39;49m\u001b[43m,\u001b[49m\u001b[43m \u001b[49m\u001b[43mdpi\u001b[49m\u001b[38;5;241;43m=\u001b[39;49m\u001b[38;5;241;43m300\u001b[39;49m\u001b[43m,\u001b[49m\u001b[43m \u001b[49m\u001b[43mbbox_inches\u001b[49m\u001b[38;5;241;43m=\u001b[39;49m\u001b[38;5;124;43m'\u001b[39;49m\u001b[38;5;124;43mtight\u001b[39;49m\u001b[38;5;124;43m'\u001b[39;49m\u001b[43m)\u001b[49m  \u001b[38;5;66;03m# Save as a PNG file with high resolution\u001b[39;00m\n\u001b[0;32m     45\u001b[0m \u001b[38;5;66;03m# Show the plot\u001b[39;00m\n\u001b[0;32m     46\u001b[0m plt\u001b[38;5;241m.\u001b[39mshow()\n",
      "File \u001b[1;32m~\\AppData\\Local\\Programs\\Python\\Python39\\lib\\site-packages\\matplotlib\\pyplot.py:1228\u001b[0m, in \u001b[0;36msavefig\u001b[1;34m(*args, **kwargs)\u001b[0m\n\u001b[0;32m   1225\u001b[0m fig \u001b[38;5;241m=\u001b[39m gcf()\n\u001b[0;32m   1226\u001b[0m \u001b[38;5;66;03m# savefig default implementation has no return, so mypy is unhappy\u001b[39;00m\n\u001b[0;32m   1227\u001b[0m \u001b[38;5;66;03m# presumably this is here because subclasses can return?\u001b[39;00m\n\u001b[1;32m-> 1228\u001b[0m res \u001b[38;5;241m=\u001b[39m fig\u001b[38;5;241m.\u001b[39msavefig(\u001b[38;5;241m*\u001b[39margs, \u001b[38;5;241m*\u001b[39m\u001b[38;5;241m*\u001b[39mkwargs)  \u001b[38;5;66;03m# type: ignore[func-returns-value]\u001b[39;00m\n\u001b[0;32m   1229\u001b[0m fig\u001b[38;5;241m.\u001b[39mcanvas\u001b[38;5;241m.\u001b[39mdraw_idle()  \u001b[38;5;66;03m# Need this if 'transparent=True', to reset colors.\u001b[39;00m\n\u001b[0;32m   1230\u001b[0m \u001b[38;5;28;01mreturn\u001b[39;00m res\n",
      "File \u001b[1;32m~\\AppData\\Local\\Programs\\Python\\Python39\\lib\\site-packages\\matplotlib\\figure.py:3395\u001b[0m, in \u001b[0;36mFigure.savefig\u001b[1;34m(self, fname, transparent, **kwargs)\u001b[0m\n\u001b[0;32m   3393\u001b[0m     \u001b[38;5;28;01mfor\u001b[39;00m ax \u001b[38;5;129;01min\u001b[39;00m \u001b[38;5;28mself\u001b[39m\u001b[38;5;241m.\u001b[39maxes:\n\u001b[0;32m   3394\u001b[0m         _recursively_make_axes_transparent(stack, ax)\n\u001b[1;32m-> 3395\u001b[0m \u001b[38;5;28mself\u001b[39m\u001b[38;5;241m.\u001b[39mcanvas\u001b[38;5;241m.\u001b[39mprint_figure(fname, \u001b[38;5;241m*\u001b[39m\u001b[38;5;241m*\u001b[39mkwargs)\n",
      "File \u001b[1;32m~\\AppData\\Local\\Programs\\Python\\Python39\\lib\\site-packages\\matplotlib\\backend_bases.py:2204\u001b[0m, in \u001b[0;36mFigureCanvasBase.print_figure\u001b[1;34m(self, filename, dpi, facecolor, edgecolor, orientation, format, bbox_inches, pad_inches, bbox_extra_artists, backend, **kwargs)\u001b[0m\n\u001b[0;32m   2200\u001b[0m \u001b[38;5;28;01mtry\u001b[39;00m:\n\u001b[0;32m   2201\u001b[0m     \u001b[38;5;66;03m# _get_renderer may change the figure dpi (as vector formats\u001b[39;00m\n\u001b[0;32m   2202\u001b[0m     \u001b[38;5;66;03m# force the figure dpi to 72), so we need to set it again here.\u001b[39;00m\n\u001b[0;32m   2203\u001b[0m     \u001b[38;5;28;01mwith\u001b[39;00m cbook\u001b[38;5;241m.\u001b[39m_setattr_cm(\u001b[38;5;28mself\u001b[39m\u001b[38;5;241m.\u001b[39mfigure, dpi\u001b[38;5;241m=\u001b[39mdpi):\n\u001b[1;32m-> 2204\u001b[0m         result \u001b[38;5;241m=\u001b[39m print_method(\n\u001b[0;32m   2205\u001b[0m             filename,\n\u001b[0;32m   2206\u001b[0m             facecolor\u001b[38;5;241m=\u001b[39mfacecolor,\n\u001b[0;32m   2207\u001b[0m             edgecolor\u001b[38;5;241m=\u001b[39medgecolor,\n\u001b[0;32m   2208\u001b[0m             orientation\u001b[38;5;241m=\u001b[39morientation,\n\u001b[0;32m   2209\u001b[0m             bbox_inches_restore\u001b[38;5;241m=\u001b[39m_bbox_inches_restore,\n\u001b[0;32m   2210\u001b[0m             \u001b[38;5;241m*\u001b[39m\u001b[38;5;241m*\u001b[39mkwargs)\n\u001b[0;32m   2211\u001b[0m \u001b[38;5;28;01mfinally\u001b[39;00m:\n\u001b[0;32m   2212\u001b[0m     \u001b[38;5;28;01mif\u001b[39;00m bbox_inches \u001b[38;5;129;01mand\u001b[39;00m restore_bbox:\n",
      "File \u001b[1;32m~\\AppData\\Local\\Programs\\Python\\Python39\\lib\\site-packages\\matplotlib\\backend_bases.py:2054\u001b[0m, in \u001b[0;36mFigureCanvasBase._switch_canvas_and_return_print_method.<locals>.<lambda>\u001b[1;34m(*args, **kwargs)\u001b[0m\n\u001b[0;32m   2050\u001b[0m     optional_kws \u001b[38;5;241m=\u001b[39m {  \u001b[38;5;66;03m# Passed by print_figure for other renderers.\u001b[39;00m\n\u001b[0;32m   2051\u001b[0m         \u001b[38;5;124m\"\u001b[39m\u001b[38;5;124mdpi\u001b[39m\u001b[38;5;124m\"\u001b[39m, \u001b[38;5;124m\"\u001b[39m\u001b[38;5;124mfacecolor\u001b[39m\u001b[38;5;124m\"\u001b[39m, \u001b[38;5;124m\"\u001b[39m\u001b[38;5;124medgecolor\u001b[39m\u001b[38;5;124m\"\u001b[39m, \u001b[38;5;124m\"\u001b[39m\u001b[38;5;124morientation\u001b[39m\u001b[38;5;124m\"\u001b[39m,\n\u001b[0;32m   2052\u001b[0m         \u001b[38;5;124m\"\u001b[39m\u001b[38;5;124mbbox_inches_restore\u001b[39m\u001b[38;5;124m\"\u001b[39m}\n\u001b[0;32m   2053\u001b[0m     skip \u001b[38;5;241m=\u001b[39m optional_kws \u001b[38;5;241m-\u001b[39m {\u001b[38;5;241m*\u001b[39minspect\u001b[38;5;241m.\u001b[39msignature(meth)\u001b[38;5;241m.\u001b[39mparameters}\n\u001b[1;32m-> 2054\u001b[0m     print_method \u001b[38;5;241m=\u001b[39m functools\u001b[38;5;241m.\u001b[39mwraps(meth)(\u001b[38;5;28;01mlambda\u001b[39;00m \u001b[38;5;241m*\u001b[39margs, \u001b[38;5;241m*\u001b[39m\u001b[38;5;241m*\u001b[39mkwargs: meth(\n\u001b[0;32m   2055\u001b[0m         \u001b[38;5;241m*\u001b[39margs, \u001b[38;5;241m*\u001b[39m\u001b[38;5;241m*\u001b[39m{k: v \u001b[38;5;28;01mfor\u001b[39;00m k, v \u001b[38;5;129;01min\u001b[39;00m kwargs\u001b[38;5;241m.\u001b[39mitems() \u001b[38;5;28;01mif\u001b[39;00m k \u001b[38;5;129;01mnot\u001b[39;00m \u001b[38;5;129;01min\u001b[39;00m skip}))\n\u001b[0;32m   2056\u001b[0m \u001b[38;5;28;01melse\u001b[39;00m:  \u001b[38;5;66;03m# Let third-parties do as they see fit.\u001b[39;00m\n\u001b[0;32m   2057\u001b[0m     print_method \u001b[38;5;241m=\u001b[39m meth\n",
      "File \u001b[1;32m~\\AppData\\Local\\Programs\\Python\\Python39\\lib\\site-packages\\matplotlib\\backends\\backend_agg.py:496\u001b[0m, in \u001b[0;36mFigureCanvasAgg.print_png\u001b[1;34m(self, filename_or_obj, metadata, pil_kwargs)\u001b[0m\n\u001b[0;32m    449\u001b[0m \u001b[38;5;28;01mdef\u001b[39;00m\u001b[38;5;250m \u001b[39m\u001b[38;5;21mprint_png\u001b[39m(\u001b[38;5;28mself\u001b[39m, filename_or_obj, \u001b[38;5;241m*\u001b[39m, metadata\u001b[38;5;241m=\u001b[39m\u001b[38;5;28;01mNone\u001b[39;00m, pil_kwargs\u001b[38;5;241m=\u001b[39m\u001b[38;5;28;01mNone\u001b[39;00m):\n\u001b[0;32m    450\u001b[0m \u001b[38;5;250m    \u001b[39m\u001b[38;5;124;03m\"\"\"\u001b[39;00m\n\u001b[0;32m    451\u001b[0m \u001b[38;5;124;03m    Write the figure to a PNG file.\u001b[39;00m\n\u001b[0;32m    452\u001b[0m \n\u001b[1;32m   (...)\u001b[0m\n\u001b[0;32m    494\u001b[0m \u001b[38;5;124;03m        *metadata*, including the default 'Software' key.\u001b[39;00m\n\u001b[0;32m    495\u001b[0m \u001b[38;5;124;03m    \"\"\"\u001b[39;00m\n\u001b[1;32m--> 496\u001b[0m     \u001b[38;5;28;43mself\u001b[39;49m\u001b[38;5;241;43m.\u001b[39;49m\u001b[43m_print_pil\u001b[49m\u001b[43m(\u001b[49m\u001b[43mfilename_or_obj\u001b[49m\u001b[43m,\u001b[49m\u001b[43m \u001b[49m\u001b[38;5;124;43m\"\u001b[39;49m\u001b[38;5;124;43mpng\u001b[39;49m\u001b[38;5;124;43m\"\u001b[39;49m\u001b[43m,\u001b[49m\u001b[43m \u001b[49m\u001b[43mpil_kwargs\u001b[49m\u001b[43m,\u001b[49m\u001b[43m \u001b[49m\u001b[43mmetadata\u001b[49m\u001b[43m)\u001b[49m\n",
      "File \u001b[1;32m~\\AppData\\Local\\Programs\\Python\\Python39\\lib\\site-packages\\matplotlib\\backends\\backend_agg.py:445\u001b[0m, in \u001b[0;36mFigureCanvasAgg._print_pil\u001b[1;34m(self, filename_or_obj, fmt, pil_kwargs, metadata)\u001b[0m\n\u001b[0;32m    440\u001b[0m \u001b[38;5;250m\u001b[39m\u001b[38;5;124;03m\"\"\"\u001b[39;00m\n\u001b[0;32m    441\u001b[0m \u001b[38;5;124;03mDraw the canvas, then save it using `.image.imsave` (to which\u001b[39;00m\n\u001b[0;32m    442\u001b[0m \u001b[38;5;124;03m*pil_kwargs* and *metadata* are forwarded).\u001b[39;00m\n\u001b[0;32m    443\u001b[0m \u001b[38;5;124;03m\"\"\"\u001b[39;00m\n\u001b[0;32m    444\u001b[0m FigureCanvasAgg\u001b[38;5;241m.\u001b[39mdraw(\u001b[38;5;28mself\u001b[39m)\n\u001b[1;32m--> 445\u001b[0m \u001b[43mmpl\u001b[49m\u001b[38;5;241;43m.\u001b[39;49m\u001b[43mimage\u001b[49m\u001b[38;5;241;43m.\u001b[39;49m\u001b[43mimsave\u001b[49m\u001b[43m(\u001b[49m\n\u001b[0;32m    446\u001b[0m \u001b[43m    \u001b[49m\u001b[43mfilename_or_obj\u001b[49m\u001b[43m,\u001b[49m\u001b[43m \u001b[49m\u001b[38;5;28;43mself\u001b[39;49m\u001b[38;5;241;43m.\u001b[39;49m\u001b[43mbuffer_rgba\u001b[49m\u001b[43m(\u001b[49m\u001b[43m)\u001b[49m\u001b[43m,\u001b[49m\u001b[43m \u001b[49m\u001b[38;5;28;43mformat\u001b[39;49m\u001b[38;5;241;43m=\u001b[39;49m\u001b[43mfmt\u001b[49m\u001b[43m,\u001b[49m\u001b[43m \u001b[49m\u001b[43morigin\u001b[49m\u001b[38;5;241;43m=\u001b[39;49m\u001b[38;5;124;43m\"\u001b[39;49m\u001b[38;5;124;43mupper\u001b[39;49m\u001b[38;5;124;43m\"\u001b[39;49m\u001b[43m,\u001b[49m\n\u001b[0;32m    447\u001b[0m \u001b[43m    \u001b[49m\u001b[43mdpi\u001b[49m\u001b[38;5;241;43m=\u001b[39;49m\u001b[38;5;28;43mself\u001b[39;49m\u001b[38;5;241;43m.\u001b[39;49m\u001b[43mfigure\u001b[49m\u001b[38;5;241;43m.\u001b[39;49m\u001b[43mdpi\u001b[49m\u001b[43m,\u001b[49m\u001b[43m \u001b[49m\u001b[43mmetadata\u001b[49m\u001b[38;5;241;43m=\u001b[39;49m\u001b[43mmetadata\u001b[49m\u001b[43m,\u001b[49m\u001b[43m \u001b[49m\u001b[43mpil_kwargs\u001b[49m\u001b[38;5;241;43m=\u001b[39;49m\u001b[43mpil_kwargs\u001b[49m\u001b[43m)\u001b[49m\n",
      "File \u001b[1;32m~\\AppData\\Local\\Programs\\Python\\Python39\\lib\\site-packages\\matplotlib\\image.py:1676\u001b[0m, in \u001b[0;36mimsave\u001b[1;34m(fname, arr, vmin, vmax, cmap, format, origin, dpi, metadata, pil_kwargs)\u001b[0m\n\u001b[0;32m   1674\u001b[0m pil_kwargs\u001b[38;5;241m.\u001b[39msetdefault(\u001b[38;5;124m\"\u001b[39m\u001b[38;5;124mformat\u001b[39m\u001b[38;5;124m\"\u001b[39m, \u001b[38;5;28mformat\u001b[39m)\n\u001b[0;32m   1675\u001b[0m pil_kwargs\u001b[38;5;241m.\u001b[39msetdefault(\u001b[38;5;124m\"\u001b[39m\u001b[38;5;124mdpi\u001b[39m\u001b[38;5;124m\"\u001b[39m, (dpi, dpi))\n\u001b[1;32m-> 1676\u001b[0m image\u001b[38;5;241m.\u001b[39msave(fname, \u001b[38;5;241m*\u001b[39m\u001b[38;5;241m*\u001b[39mpil_kwargs)\n",
      "File \u001b[1;32m~\\AppData\\Local\\Programs\\Python\\Python39\\lib\\site-packages\\PIL\\Image.py:2436\u001b[0m, in \u001b[0;36mImage.save\u001b[1;34m(self, fp, format, **params)\u001b[0m\n\u001b[0;32m   2434\u001b[0m         fp \u001b[38;5;241m=\u001b[39m builtins\u001b[38;5;241m.\u001b[39mopen(filename, \u001b[38;5;124m\"\u001b[39m\u001b[38;5;124mr+b\u001b[39m\u001b[38;5;124m\"\u001b[39m)\n\u001b[0;32m   2435\u001b[0m     \u001b[38;5;28;01melse\u001b[39;00m:\n\u001b[1;32m-> 2436\u001b[0m         fp \u001b[38;5;241m=\u001b[39m \u001b[43mbuiltins\u001b[49m\u001b[38;5;241;43m.\u001b[39;49m\u001b[43mopen\u001b[49m\u001b[43m(\u001b[49m\u001b[43mfilename\u001b[49m\u001b[43m,\u001b[49m\u001b[43m \u001b[49m\u001b[38;5;124;43m\"\u001b[39;49m\u001b[38;5;124;43mw+b\u001b[39;49m\u001b[38;5;124;43m\"\u001b[39;49m\u001b[43m)\u001b[49m\n\u001b[0;32m   2438\u001b[0m \u001b[38;5;28;01mtry\u001b[39;00m:\n\u001b[0;32m   2439\u001b[0m     save_handler(\u001b[38;5;28mself\u001b[39m, fp, filename)\n",
      "\u001b[1;31mFileNotFoundError\u001b[0m: [Errno 2] No such file or directory: 'output/fedvg.png'"
     ]
    },
    {
     "data": {
      "image/png": "[encoded data removed]",
      "text/plain": [
       "<Figure size 650x420 with 1 Axes>"
      ]
     },
     "metadata": {},
     "output_type": "display_data"
    }
   ],
   "source": [
    "                                                        # VISUALIZE\n",
    "# NOTE: Class indexes now start from 1 so, previous class 0 = now class 1 and so on\n",
    "# FIG 1: Raw similarity plot\n",
    "\n",
    "import pandas as pd\n",
    "import numpy as np\n",
    "import matplotlib.pyplot as plt\n",
    "import seaborn as sns\n",
    "\n",
    "# Generate sample similarity data for four classes (each with 20 values in the range 0 to 1)\n",
    "class1_sim = class0_sims\n",
    "class2_sim = class1_sims\n",
    "class3_sim = class2_sims\n",
    "class4_sim = class3_sims\n",
    "\n",
    "# Set figure size\n",
    "plt.figure(figsize=(6.5, 4.2))  # Set the size of the figure (width, height)\n",
    "\n",
    "# Sample DataFrame with four columns\n",
    "data=pd.DataFrame({'Class 1':class1_sim,'Class 2':class2_sim,'Class 3':class3_sim,'Class 4':class4_sim})\n",
    "df = pd.DataFrame(data)\n",
    "\n",
    "# Plot the probability distributions\n",
    "#plt.figure(figsize=(10, 6))\n",
    "\n",
    "# Define colors and line styles for each column\n",
    "colors = ['#1f77b4', '#ff7f0e', '#2ca02c', '#d62728']\n",
    "linestyles = ['-.', '--', '-', '-']\n",
    "\n",
    "# Plot the probability distributions with unique colors and line styles\n",
    "for column, color, linestyle in zip(df.columns, colors, linestyles):\n",
    "    sns.kdeplot(df[column], label=column, color=color, linestyle=linestyle)\n",
    "\n",
    "#plt.title('Probability Distributions of Four Columns')\n",
    "plt.xlabel('Similarity',fontsize=12)\n",
    "plt.ylabel('Density',fontsize=12)\n",
    "plt.yticks(fontsize=12)  # Set y-tick labels font size\n",
    "plt.legend(loc='upper right',fontsize=12)  # Increase legend font size\n",
    "\n",
    "# Optimize layout\n",
    "plt.tight_layout()\n",
    "# Save the plot to a file\n",
    "plt.savefig('output/fedvg.png', dpi=300, bbox_inches='tight')  # Save as a PNG file with high resolution\n",
    "\n",
    "# Show the plot\n",
    "plt.show()\n"
   ]
  },
  {
   "cell_type": "code",
   "execution_count": null,
   "id": "c71af78e-28e9-4564-9609-3039455bb875",
   "metadata": {},
   "outputs": [],
   "source": [
    "# FIG 2: DIFFERENCES IN COSINE SIMILARITY\n",
    "\n",
    "# For each class, we have 20 similarity values — one per image — showing how similar fake and real versions are.These values are very close across classes\n",
    "# So, to highlight subtle differences, compute and plot the difference between each pair of classes, value by value.\n",
    "# This gives you 20 values showing how much the similarity differs for each image between class 0 and class 1.\n",
    "# It's a magnified view of the gap between classes.\n",
    "# If the differences are tiny (e.g., 0.003), the plot helps make that visible and comparable.\n",
    "\n",
    "import numpy as np\n",
    "import matplotlib.pyplot as plt\n",
    "import seaborn as sns\n",
    "import pandas as pd\n",
    "\n",
    "# Differences between class distributions (pairwise)\n",
    "diff_12 = np.array(class2_sim) - np.array(class1_sim)\n",
    "diff_13 = np.array(class3_sim) - np.array(class1_sim)\n",
    "diff_14 = np.array(class4_sim) - np.array(class1_sim)\n",
    "diff_23 = np.array(class3_sim) - np.array(class2_sim)\n",
    "diff_24 = np.array(class4_sim) - np.array(class2_sim)\n",
    "diff_34 = np.array(class4_sim) - np.array(class3_sim)\n",
    "\n",
    "# Create a DataFrame\n",
    "diff_df = pd.DataFrame({\n",
    "    'Class 2 - Class 1': diff_12,\n",
    "    'Class 3 - Class 1': diff_13,\n",
    "    'Class 4 - Class 1': diff_14,\n",
    "    'Class 3 - Class 2': diff_23,\n",
    "    'Class 4 - Class 2': diff_24,\n",
    "    'Class 4 - Class 3': diff_34,\n",
    "})\n",
    "\n",
    "# Plot\n",
    "plt.figure(figsize=(7.5, 5))\n",
    "\n",
    "colors = sns.color_palette(\"tab10\", n_colors=6)\n",
    "\n",
    "for column, color in zip(diff_df.columns, colors):\n",
    "    sns.kdeplot(diff_df[column], label=column, color=color, linestyle='-')\n",
    "\n",
    "plt.axvline(0, color='black', linestyle='--', linewidth=1)  # reference line at 0\n",
    "plt.xlabel('Difference in Similarity', fontsize=12)\n",
    "plt.ylabel('Density', fontsize=12)\n",
    "plt.legend(fontsize=10)\n",
    "plt.title(\"Pairwise Differences in Cosine Similarity\", fontsize=13)\n",
    "plt.tight_layout()\n",
    "plt.show()"
   ]
  },
  {
   "cell_type": "code",
   "execution_count": null,
   "id": "362bf182-7927-4ce2-bf5a-97299d426bc4",
   "metadata": {},
   "outputs": [],
   "source": [
    "def calculate_interclass_similarity(first, second):\n",
    "    similarities = []\n",
    "\n",
    "    first_images = []\n",
    "    second_images = []\n",
    "    if first == 'class1':\n",
    "        first_images = class0_original_images.copy()\n",
    "    elif first == 'class2':\n",
    "        first_images = class1_original_images.copy()\n",
    "    elif first == 'class3':\n",
    "        first_images = class2_original_images.copy()\n",
    "    elif first == 'class4':\n",
    "        first_images = class3_original_images.copy()\n",
    "\n",
    "    if second == 'class1':\n",
    "        second_images = class0_original_images.copy()\n",
    "    elif second == 'class2':\n",
    "        second_images = class1_original_images.copy()\n",
    "    elif second == 'class3':\n",
    "        second_images = class2_original_images.copy()\n",
    "    elif second == 'class4':\n",
    "        second_images = class3_original_images.copy()\n",
    "    \n",
    "    for i in range(0, 20):\n",
    "        first_image = first_images[i].unsqueeze(dim=0).to(device)\n",
    "        first_image = first_image.repeat(1, 3, 1, 1)\n",
    "        \n",
    "        second_image = second_images[i].unsqueeze(dim=0).to(device)\n",
    "        second_image = second_image.repeat(1, 3, 1, 1)\n",
    "        \n",
    "        features_first = get_feature(first_image)\n",
    "        features_second = get_feature(second_image)\n",
    "\n",
    "        cosine_similarity = 1 - cosine(features_first, features_second)\n",
    "        similarities.append(cosine_similarity)\n",
    "\n",
    "    return similarities"
   ]
  },
  {
   "cell_type": "code",
   "execution_count": null,
   "id": "5954dfe3-cb08-4551-a5f9-d2082ac3d604",
   "metadata": {},
   "outputs": [],
   "source": [
    "class1class2 = calculate_interclass_similarity('class1', 'class2')"
   ]
  },
  {
   "cell_type": "code",
   "execution_count": null,
   "id": "cd5ab50d-9d9d-443b-bea5-2d6e302e2bf4",
   "metadata": {},
   "outputs": [],
   "source": [
    "class1class2"
   ]
  },
  {
   "cell_type": "code",
   "execution_count": null,
   "id": "29441f40-36a7-4854-98be-5d128bae49cd",
   "metadata": {},
   "outputs": [],
   "source": [
    "                                                # FIG: 3 -> INTERCLASS SIMILARITIES\n",
    "\n",
    "import pandas as pd\n",
    "import numpy as np\n",
    "import matplotlib.pyplot as plt\n",
    "import seaborn as sns\n",
    "\n",
    "# Set figure size\n",
    "plt.figure(figsize=(6.5, 4.2))  # Set the size of the figure (width, height)\n",
    "\n",
    "# Generate sample similarity data for four classes (each with 20 values in the range 0 to 1)\n",
    "np.random.seed(42)  # For reproducibility\n",
    "class1class2 = calculate_interclass_similarity('class1', 'class2')\n",
    "class1class3 = calculate_interclass_similarity('class1', 'class3')\n",
    "class1class4 = calculate_interclass_similarity('class1', 'class4')\n",
    "class2class3 = calculate_interclass_similarity('class2', 'class3')\n",
    "class2class4 = calculate_interclass_similarity('class2', 'class4')\n",
    "class3class4 = calculate_interclass_similarity('class3', 'class4')\n",
    "\n",
    "# Sample DataFrame with four columns\n",
    "data=pd.DataFrame({'Class1 vs Class2':class1class2,'Class1 vs Class3':class1class3,'Class1 vs Class4':class1class4,'Class2 vs Class3':class2class3,'Class2 vs Class4':class2class4,'Class3 vs Class4':class3class4})\n",
    "df = pd.DataFrame(data)\n",
    "\n",
    "# Plot the probability distributions\n",
    "#plt.figure(figsize=(10, 6))\n",
    "\n",
    "# Define colors and line styles for each column\n",
    "colors = ['#1f77b4', '#ff7f0e', '#2ca02c', '#d62728', '#9467bd', '#8c564b']\n",
    "linestyles = ['-.', '--', '-', '-', '-.', '--']\n",
    "\n",
    "# Plot the probability distributions with unique colors and line styles\n",
    "for column, color, linestyle in zip(df.columns, colors, linestyles):\n",
    "    sns.kdeplot(df[column], label=column, color=color, linestyle=linestyle)\n",
    "\n",
    "#plt.title('Probability Distributions of Four Columns')\n",
    "plt.xlabel('Similarity',fontsize=12)\n",
    "plt.ylabel('Density',fontsize=12)\n",
    "plt.yticks(fontsize=12)  # Set y-tick labels font size\n",
    "plt.legend(loc='upper right',fontsize=12)  # Increase legend font size\n",
    "\n",
    "# Optimize layout\n",
    "plt.tight_layout()\n",
    "# Save the plot to a file\n",
    "plt.savefig('output/VoiceDivergenceD3.png', dpi=300, bbox_inches='tight')  # Save as a PNG file with high resolution\n",
    "\n",
    "# Show the plot\n",
    "plt.show()"
   ]
  },
  {
   "cell_type": "code",
   "execution_count": null,
   "id": "19754eee-5c1e-47e6-bbaa-b2cef05a1641",
   "metadata": {},
   "outputs": [],
   "source": []
  },
  {
   "cell_type": "code",
   "execution_count": null,
   "id": "918e9d1f-b03d-4d8b-a55c-7e3a8369b0dc",
   "metadata": {},
   "outputs": [],
   "source": []
  }
 ],
 "metadata": {
  "kernelspec": {
   "display_name": "Python 3 (ipykernel)",
   "language": "python",
   "name": "python3"
  },
  "language_info": {
   "codemirror_mode": {
    "name": "ipython",
    "version": 3
   },
   "file_extension": ".py",
   "mimetype": "text/x-python",
   "name": "python",
   "nbconvert_exporter": "python",
   "pygments_lexer": "ipython3",
   "version": "3.9.7"
  }
 },
 "nbformat": 4,
 "nbformat_minor": 5
}
