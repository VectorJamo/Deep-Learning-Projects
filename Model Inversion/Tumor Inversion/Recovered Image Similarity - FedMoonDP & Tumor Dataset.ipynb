{
 "cells": [
  {
   "cell_type": "code",
   "execution_count": 1,
   "id": "646b38c2-386a-4f83-a983-ea764ad8267f",
   "metadata": {},
   "outputs": [],
   "source": [
    "# Attempting to recover training data using model's parameters and a DCGAN that was trained on similar data\n",
    "# Author: Suraj Neupane\n",
    "# Written from scratch as a part of a Research Project 2025, Concordia University of Edmonton.\n",
    "import numpy as np\n",
    "\n",
    "import torch\n",
    "from torch import nn\n",
    "from torch.nn import functional\n",
    "\n",
    "from torch.utils import data\n",
    "from torch.utils.data import DataLoader\n",
    "\n",
    "import torchvision\n",
    "from torchvision import datasets\n",
    "from torchvision import transforms\n",
    "\n",
    "import pickle\n",
    "\n",
    "import matplotlib.pyplot as plt\n",
    "%matplotlib inline"
   ]
  },
  {
   "cell_type": "code",
   "execution_count": 2,
   "id": "8b80ddb2-ed75-4870-85b4-9300fce0df7e",
   "metadata": {},
   "outputs": [
    {
     "data": {
      "text/plain": [
       "'2.5.1+cu118'"
      ]
     },
     "execution_count": 2,
     "metadata": {},
     "output_type": "execute_result"
    }
   ],
   "source": [
    "torch.__version__"
   ]
  },
  {
   "cell_type": "code",
   "execution_count": 3,
   "id": "d6950585-eb31-4f61-bd60-5bf8716fcdef",
   "metadata": {},
   "outputs": [],
   "source": [
    "device = 'cuda' if torch.cuda.is_available() else 'cpu'"
   ]
  },
  {
   "cell_type": "code",
   "execution_count": 4,
   "id": "36c47e07-6b7d-4123-a59d-5d465f9ef280",
   "metadata": {},
   "outputs": [
    {
     "data": {
      "text/plain": [
       "'cuda'"
      ]
     },
     "execution_count": 4,
     "metadata": {},
     "output_type": "execute_result"
    }
   ],
   "source": [
    "device"
   ]
  },
  {
   "cell_type": "code",
   "execution_count": 5,
   "id": "b852ca55-f33e-469f-b7b9-e00d21124927",
   "metadata": {},
   "outputs": [],
   "source": [
    "# DCGAN Implementation Class\n",
    "# Discriminator\n",
    "class Discriminator(nn.Module):\n",
    "    def __init__(self, img_channels, features_d):\n",
    "        super().__init__()\n",
    "        self.disc = nn.Sequential(\n",
    "            # Input shape: img_channels x 64 x 64\n",
    "            nn.Conv2d(\n",
    "              in_channels=img_channels, out_channels=features_d, kernel_size=4, stride=2, padding=1\n",
    "            ), # Output shape: features_d x 32 x 32\n",
    "            nn.LeakyReLU(0.2),\n",
    "            self._block(features_d, features_d*2, 4, 2, 1), # Output shape: features_d*2 x 16 x 16\n",
    "            self._block(features_d*2, features_d*4, 4, 2, 1), # Output shape: features_d*4 x 8 x 8\n",
    "            self._block(features_d*4, features_d*8, 4, 2, 1), # Output shape: features_d*8 x 4 x 4\n",
    "           \n",
    "            nn.Conv2d(in_channels=features_d*8, out_channels=1, kernel_size=4, stride=2, padding=0), # Output shape: 1 x 1\n",
    "            nn.Sigmoid(),\n",
    "        )\n",
    "\n",
    "    def _block(self, in_channels, out_channels, kernel_size, stride, padding):\n",
    "        return nn.Sequential(\n",
    "            nn.Conv2d(in_channels, out_channels, kernel_size, stride, padding, bias=False),\n",
    "            nn.BatchNorm2d(out_channels),\n",
    "            nn.LeakyReLU(0.2),\n",
    "        )\n",
    "\n",
    "    def forward(self, X):\n",
    "        return self.disc(X)\n"
   ]
  },
  {
   "cell_type": "code",
   "execution_count": 6,
   "id": "5afe02e5-61d3-4f25-8933-8484e519cd4a",
   "metadata": {},
   "outputs": [],
   "source": [
    "# Generator\n",
    "class Generator(nn.Module):\n",
    "    def __init__(self, z_dim, img_channels, features_g):\n",
    "        super().__init__()\n",
    "        self.gen = nn.Sequential(\n",
    "            self._block(z_dim, features_g*16, 4, 1, 0), # z_dim: (batch_size, 100, 1, 1) -> (batch_size, 1024, 4, 4)\n",
    "            self._block(features_g*16, features_g*8, 4, 2, 1), # z_dim: (batch_size, 1024, 4, 4) -> (batch_size, 512, 8, 8)\n",
    "            self._block(features_g*8, features_g*4, 4, 2, 1), # z_dim: (batch_size, 512, 8, 8) -> (batch_size, 256, 16, 16)\n",
    "            self._block(features_g*4, features_g*2, 4, 2, 1), # z_dim: (batch_size, 128, 16, 16) -> (batch_size, 64, 32, 32)\n",
    "            nn.ConvTranspose2d(\n",
    "                in_channels=features_g*2, out_channels=img_channels, kernel_size=4, stride=2, padding=1 # z_dim: (batch_size, 64, 32, 32) -> (batch_size, 1, 64, 64)\n",
    "            ),\n",
    "            nn.Tanh(),\n",
    "        )\n",
    "        \n",
    "    def _block(self, in_channels, out_channels, kernel_size, stride, padding):\n",
    "        return nn.Sequential(\n",
    "            nn.ConvTranspose2d(\n",
    "                in_channels, out_channels, kernel_size, stride, padding, bias=False,\n",
    "            ),\n",
    "            nn.InstanceNorm2d(out_channels, affine=True),\n",
    "            nn.ReLU(),\n",
    "        )\n",
    "\n",
    "    def forward(self, X):\n",
    "        return self.gen(X)"
   ]
  },
  {
   "cell_type": "code",
   "execution_count": 7,
   "id": "48c1be35-d58a-4d0c-990d-9250fbdbf1b3",
   "metadata": {},
   "outputs": [],
   "source": [
    "# Hyperparams\n",
    "z_dim = 100\n",
    "img_channels = 1\n",
    "features_disc = 64\n",
    "features_gen = 64"
   ]
  },
  {
   "cell_type": "code",
   "execution_count": 8,
   "id": "f2dc1f40-5c2e-4903-b2e7-7abe5cae9772",
   "metadata": {},
   "outputs": [],
   "source": [
    "# Create the model instances\n",
    "gen = Generator(z_dim, img_channels, features_gen).to(device)\n",
    "disc = Discriminator(img_channels, features_disc).to(device)"
   ]
  },
  {
   "cell_type": "code",
   "execution_count": 9,
   "id": "bc7a5deb-f8d8-41d4-aed3-d012d39a84b9",
   "metadata": {},
   "outputs": [
    {
     "data": {
      "text/plain": [
       "<All keys matched successfully>"
      ]
     },
     "execution_count": 9,
     "metadata": {},
     "output_type": "execute_result"
    }
   ],
   "source": [
    "# Load the trained GAN\n",
    "gen.load_state_dict(torch.load('saved models/Generator2.pth', weights_only=True))\n",
    "disc.load_state_dict(torch.load('saved models/Discriminator2.pth', weights_only=True))"
   ]
  },
  {
   "cell_type": "code",
   "execution_count": 10,
   "id": "a504e932-e168-4bb8-88cc-eea0810aafb0",
   "metadata": {},
   "outputs": [],
   "source": [
    "# Generate a random fake image\n",
    "noise = torch.randn(1, z_dim, 1, 1).to(device)\n",
    "fake_img = gen(noise)"
   ]
  },
  {
   "cell_type": "code",
   "execution_count": 11,
   "id": "98b5d73f-b130-4bc1-a868-c225bd2abe62",
   "metadata": {},
   "outputs": [
    {
     "data": {
      "text/plain": [
       "torch.Size([1, 1, 64, 64])"
      ]
     },
     "execution_count": 11,
     "metadata": {},
     "output_type": "execute_result"
    }
   ],
   "source": [
    "fake_img.shape"
   ]
  },
  {
   "cell_type": "code",
   "execution_count": 12,
   "id": "9d19338c-18e4-4b6e-842f-a225718fa8bb",
   "metadata": {},
   "outputs": [
    {
     "name": "stdout",
     "output_type": "stream",
     "text": [
      "torch.Size([64, 64])\n"
     ]
    },
    {
     "data": {
      "text/plain": [
       "<matplotlib.image.AxesImage at 0x148c53a6400>"
      ]
     },
     "execution_count": 12,
     "metadata": {},
     "output_type": "execute_result"
    },
    {
     "data": {
      "image/png": "[encoded data removed]",
      "text/plain": [
       "<Figure size 640x480 with 1 Axes>"
      ]
     },
     "metadata": {},
     "output_type": "display_data"
    }
   ],
   "source": [
    "fake_img = fake_img.squeeze()\n",
    "print(fake_img.shape)\n",
    "plt.axis(False)\n",
    "plt.title('Fake Generated Image:')\n",
    "plt.imshow(fake_img.cpu().detach(), cmap='gray')"
   ]
  },
  {
   "cell_type": "code",
   "execution_count": 13,
   "id": "cf2aefac-a759-4335-a3de-2065d6a6a9a5",
   "metadata": {},
   "outputs": [],
   "source": [
    "# Target Model\n",
    "class TFCNN(nn.Module):\n",
    "    def __init__(self, n_classes):\n",
    "        super().__init__()\n",
    "        self.n_classes = n_classes\n",
    "\n",
    "        self.encoder = nn.Sequential(\n",
    "            nn.Conv2d(3, 32, 3, stride=1, padding=1),\n",
    "            nn.ReLU(True),\n",
    "            nn.MaxPool2d(2),\n",
    "            nn.Conv2d(32, 64, 3, stride=1, padding=1),\n",
    "            nn.ReLU(True),\n",
    "            nn.MaxPool2d(2),\n",
    "            nn.Conv2d(64, 64, 3, stride=1, padding=1),\n",
    "            nn.ReLU(True),\n",
    "            nn.MaxPool2d(2),\n",
    "            Reshape(),\n",
    "        )\n",
    "\n",
    "        self.h_size = 64 * 4 * 4\n",
    "\n",
    "        self.classifier = nn.Sequential(\n",
    "            nn.Linear(64 * 4 * 4, 128),\n",
    "            nn.ReLU(True),\n",
    "            nn.Linear(128, n_classes)\n",
    "        )\n",
    "\n",
    "    def forward(self, xs):\n",
    "        code = self.encoder(xs)\n",
    "        logits = self.classifier(code)\n",
    "        return code, logits\n"
   ]
  },
  {
   "cell_type": "code",
   "execution_count": 14,
   "id": "d28876e2-91ee-4ebf-bc52-b71dc82edfa2",
   "metadata": {},
   "outputs": [],
   "source": [
    "class Reshape(nn.Module):\n",
    "    def __init__(self,):\n",
    "        super().__init__()\n",
    "\n",
    "    def forward(self, xs):\n",
    "        return xs.reshape((xs.shape[0], -1))"
   ]
  },
  {
   "cell_type": "code",
   "execution_count": 15,
   "id": "dd57210c-2c18-4651-8f29-be94a7a7a88f",
   "metadata": {},
   "outputs": [],
   "source": [
    "class ClassifyNet(nn.Module):\n",
    "    def __init__(self, net, init_way, n_classes, input_size=None):\n",
    "        super().__init__()\n",
    "        self.net = net\n",
    "        self.init_way = init_way\n",
    "        self.n_classes = n_classes\n",
    "\n",
    "        model = TFCNN(n_classes)\n",
    "\n",
    "        self.h_size = model.h_size\n",
    "\n",
    "        # Convo and pool layers\n",
    "        self.encoder = model.encoder\n",
    "\n",
    "        # Classifier layer\n",
    "        self.classifier = nn.Linear(\n",
    "            self.h_size, self.n_classes, bias=False\n",
    "        )\n",
    "\n",
    "        if self.init_way == \"orth\":\n",
    "            ws = get_orth_weights(self.h_size, self.n_classes)\n",
    "            self.classifier.load_state_dict({\"weight\": ws})\n",
    "\n",
    "    def forward(self, xs):\n",
    "        hs = self.encoder(xs)\n",
    "        logits = self.classifier(hs)\n",
    "        return hs, logits"
   ]
  },
  {
   "cell_type": "code",
   "execution_count": 16,
   "id": "83ea3c08-0470-4c9a-ba15-8328a316b3ab",
   "metadata": {},
   "outputs": [],
   "source": [
    "def load_target_model(base_net, n_classes, path):\n",
    "    # Create the base model\n",
    "    model = ClassifyNet(net=base_net, init_way='none', n_classes=n_classes)\n",
    "    # Load the model\n",
    "    model.load_state_dict(torch.load(path, weights_only=True))\n",
    "\n",
    "    return model"
   ]
  },
  {
   "cell_type": "code",
   "execution_count": 17,
   "id": "0880f1aa-9d08-445a-85ac-f1ff3cebde04",
   "metadata": {},
   "outputs": [
    {
     "name": "stdout",
     "output_type": "stream",
     "text": [
      "Model loaded successfully!\n",
      "Number of parameters in the loaded model: 60416\n"
     ]
    }
   ],
   "source": [
    "# Target Model Loading\n",
    "BASE_NET = 'TFCNN'\n",
    "DATASET = 'tumor4'\n",
    "N_CLASSES = 4\n",
    "\n",
    "target_model = load_target_model(base_net=BASE_NET, n_classes=N_CLASSES, path='saved models/MoonDP_global_model1.path').to(device)\n",
    "print('Model loaded successfully!')\n",
    "target_model.eval()\n",
    "\n",
    "num_params = sum(p.numel() for p in target_model.parameters())\n",
    "print('Number of parameters in the loaded model:', num_params)\n"
   ]
  },
  {
   "cell_type": "code",
   "execution_count": 18,
   "id": "f843f19e-b2a5-4ffe-b22b-de4ff93c5643",
   "metadata": {},
   "outputs": [],
   "source": [
    "# BEGIN BATCH MODEL INVERSION\n",
    "img_count = 20\n",
    "latent_vectors = torch.randn(img_count, z_dim, 1, 1, requires_grad=True) # Start with 20 random noises"
   ]
  },
  {
   "cell_type": "code",
   "execution_count": 19,
   "id": "c21320ed-d5ac-4919-aaad-8cfa093998a6",
   "metadata": {},
   "outputs": [],
   "source": [
    "def recover_images(count, target_image_class, latent_vectors):\n",
    "    optimized_latent_vectors = []\n",
    "    \n",
    "    for x in range(0, count):\n",
    "        z = latent_vectors[x].unsqueeze(dim=0).clone().detach().requires_grad_(True)\n",
    "        \n",
    "        learning_rate = 0.01\n",
    "        target_class = 1 # The second class\n",
    "        \n",
    "        # Create the optimizer\n",
    "        optimizer = torch.optim.Adam([z], lr=learning_rate)\n",
    "        \n",
    "        # Loss function (e.g., Cross-Entropy with classifier outputs)\n",
    "        loss_fn = nn.CrossEntropyLoss()\n",
    "        target_class = torch.tensor([target_image_class])  # Set the target class\n",
    "    \n",
    "        # Optimization loop to find the best z\n",
    "        rounds = 500\n",
    "        for i in range(rounds):\n",
    "            optimizer.zero_grad()\n",
    "            \n",
    "            generated_image = gen(z.to(device))  # Generate an image from the latent vector\n",
    "            generated_image = generated_image.repeat(1, 3, 1, 1)\n",
    "            generated_image = functional.interpolate(generated_image, size=(32, 32), mode='nearest')\n",
    "            #print(generated_image.shape)\n",
    "            hs, prediction_logits = target_model(generated_image)  # Classifier output\n",
    "            #print(prediction_logits)\n",
    "            #print(type(prediction_logits))\n",
    "            loss = loss_fn(prediction_logits, target_class.to(device))  # Minimize difference with true class\n",
    "            loss.backward()\n",
    "            optimizer.step()\n",
    "            \n",
    "            if i % 50 == 0:\n",
    "                print(f\"Generating Image Number: {x+1} for target class {target_class}. Step {i}, Loss: {loss.item()}\")\n",
    "    \n",
    "        optimized_latent_vectors.append(z)\n",
    "        \n",
    "    return optimized_latent_vectors"
   ]
  },
  {
   "cell_type": "code",
   "execution_count": 20,
   "id": "9ebc9533-23ca-4d44-8aea-9d134281b3a4",
   "metadata": {
    "scrolled": true
   },
   "outputs": [
    {
     "name": "stdout",
     "output_type": "stream",
     "text": [
      "Generating Image Number: 1 for target class tensor([0]). Step 0, Loss: 39.6444206237793\n",
      "Generating Image Number: 1 for target class tensor([0]). Step 50, Loss: 24.30557632446289\n",
      "Generating Image Number: 1 for target class tensor([0]). Step 100, Loss: 23.30354118347168\n",
      "Generating Image Number: 1 for target class tensor([0]). Step 150, Loss: 22.354036331176758\n",
      "Generating Image Number: 1 for target class tensor([0]). Step 200, Loss: 21.74762725830078\n",
      "Generating Image Number: 1 for target class tensor([0]). Step 250, Loss: 21.325393676757812\n",
      "Generating Image Number: 1 for target class tensor([0]). Step 300, Loss: 20.815462112426758\n",
      "Generating Image Number: 1 for target class tensor([0]). Step 350, Loss: 20.632583618164062\n",
      "Generating Image Number: 1 for target class tensor([0]). Step 400, Loss: 19.80743980407715\n",
      "Generating Image Number: 1 for target class tensor([0]). Step 450, Loss: 19.457090377807617\n",
      "Generating Image Number: 2 for target class tensor([0]). Step 0, Loss: 58.62840270996094\n",
      "Generating Image Number: 2 for target class tensor([0]). Step 50, Loss: 26.858034133911133\n",
      "Generating Image Number: 2 for target class tensor([0]). Step 100, Loss: 25.561342239379883\n",
      "Generating Image Number: 2 for target class tensor([0]). Step 150, Loss: 24.612096786499023\n",
      "Generating Image Number: 2 for target class tensor([0]). Step 200, Loss: 23.594823837280273\n",
      "Generating Image Number: 2 for target class tensor([0]). Step 250, Loss: 22.24704933166504\n",
      "Generating Image Number: 2 for target class tensor([0]). Step 300, Loss: 20.976131439208984\n",
      "Generating Image Number: 2 for target class tensor([0]). Step 350, Loss: 20.29043960571289\n",
      "Generating Image Number: 2 for target class tensor([0]). Step 400, Loss: 19.9887638092041\n",
      "Generating Image Number: 2 for target class tensor([0]). Step 450, Loss: 19.787582397460938\n",
      "Generating Image Number: 3 for target class tensor([0]). Step 0, Loss: 45.2877197265625\n",
      "Generating Image Number: 3 for target class tensor([0]). Step 50, Loss: 24.240259170532227\n",
      "Generating Image Number: 3 for target class tensor([0]). Step 100, Loss: 22.995603561401367\n",
      "Generating Image Number: 3 for target class tensor([0]). Step 150, Loss: 22.21697425842285\n",
      "Generating Image Number: 3 for target class tensor([0]). Step 200, Loss: 21.728567123413086\n",
      "Generating Image Number: 3 for target class tensor([0]). Step 250, Loss: 21.24287223815918\n",
      "Generating Image Number: 3 for target class tensor([0]). Step 300, Loss: 20.704912185668945\n",
      "Generating Image Number: 3 for target class tensor([0]). Step 350, Loss: 20.366653442382812\n",
      "Generating Image Number: 3 for target class tensor([0]). Step 400, Loss: 19.961528778076172\n",
      "Generating Image Number: 3 for target class tensor([0]). Step 450, Loss: 19.73784828186035\n",
      "Generating Image Number: 4 for target class tensor([0]). Step 0, Loss: 28.425939559936523\n",
      "Generating Image Number: 4 for target class tensor([0]). Step 50, Loss: 24.80683135986328\n",
      "Generating Image Number: 4 for target class tensor([0]). Step 100, Loss: 22.48105812072754\n",
      "Generating Image Number: 4 for target class tensor([0]). Step 150, Loss: 21.160446166992188\n",
      "Generating Image Number: 4 for target class tensor([0]). Step 200, Loss: 20.266956329345703\n",
      "Generating Image Number: 4 for target class tensor([0]). Step 250, Loss: 19.352041244506836\n",
      "Generating Image Number: 4 for target class tensor([0]). Step 300, Loss: 18.3572940826416\n",
      "Generating Image Number: 4 for target class tensor([0]). Step 350, Loss: 17.238178253173828\n",
      "Generating Image Number: 4 for target class tensor([0]). Step 400, Loss: 16.729286193847656\n",
      "Generating Image Number: 4 for target class tensor([0]). Step 450, Loss: 16.31049156188965\n",
      "Generating Image Number: 5 for target class tensor([0]). Step 0, Loss: 28.022977828979492\n",
      "Generating Image Number: 5 for target class tensor([0]). Step 50, Loss: 20.26004981994629\n",
      "Generating Image Number: 5 for target class tensor([0]). Step 100, Loss: 19.394668579101562\n",
      "Generating Image Number: 5 for target class tensor([0]). Step 150, Loss: 18.667583465576172\n",
      "Generating Image Number: 5 for target class tensor([0]). Step 200, Loss: 17.994932174682617\n",
      "Generating Image Number: 5 for target class tensor([0]). Step 250, Loss: 17.60293960571289\n",
      "Generating Image Number: 5 for target class tensor([0]). Step 300, Loss: 17.20860481262207\n",
      "Generating Image Number: 5 for target class tensor([0]). Step 350, Loss: 17.170818328857422\n",
      "Generating Image Number: 5 for target class tensor([0]). Step 400, Loss: 16.979496002197266\n",
      "Generating Image Number: 5 for target class tensor([0]). Step 450, Loss: 16.749357223510742\n",
      "Generating Image Number: 6 for target class tensor([0]). Step 0, Loss: 54.46031188964844\n",
      "Generating Image Number: 6 for target class tensor([0]). Step 50, Loss: 27.417163848876953\n",
      "Generating Image Number: 6 for target class tensor([0]). Step 100, Loss: 26.665868759155273\n",
      "Generating Image Number: 6 for target class tensor([0]). Step 150, Loss: 25.966524124145508\n",
      "Generating Image Number: 6 for target class tensor([0]). Step 200, Loss: 25.490489959716797\n",
      "Generating Image Number: 6 for target class tensor([0]). Step 250, Loss: 25.08293914794922\n",
      "Generating Image Number: 6 for target class tensor([0]). Step 300, Loss: 24.691444396972656\n",
      "Generating Image Number: 6 for target class tensor([0]). Step 350, Loss: 24.280052185058594\n",
      "Generating Image Number: 6 for target class tensor([0]). Step 400, Loss: 23.7791748046875\n",
      "Generating Image Number: 6 for target class tensor([0]). Step 450, Loss: 23.406057357788086\n",
      "Generating Image Number: 7 for target class tensor([0]). Step 0, Loss: 43.97285461425781\n",
      "Generating Image Number: 7 for target class tensor([0]). Step 50, Loss: 27.031211853027344\n",
      "Generating Image Number: 7 for target class tensor([0]). Step 100, Loss: 26.211345672607422\n",
      "Generating Image Number: 7 for target class tensor([0]). Step 150, Loss: 25.126413345336914\n",
      "Generating Image Number: 7 for target class tensor([0]). Step 200, Loss: 24.313966751098633\n",
      "Generating Image Number: 7 for target class tensor([0]). Step 250, Loss: 23.616901397705078\n",
      "Generating Image Number: 7 for target class tensor([0]). Step 300, Loss: 22.904211044311523\n",
      "Generating Image Number: 7 for target class tensor([0]). Step 350, Loss: 22.306175231933594\n",
      "Generating Image Number: 7 for target class tensor([0]). Step 400, Loss: 21.905508041381836\n",
      "Generating Image Number: 7 for target class tensor([0]). Step 450, Loss: 21.580949783325195\n",
      "Generating Image Number: 8 for target class tensor([0]). Step 0, Loss: 28.699485778808594\n",
      "Generating Image Number: 8 for target class tensor([0]). Step 50, Loss: 26.290584564208984\n",
      "Generating Image Number: 8 for target class tensor([0]). Step 100, Loss: 24.31403160095215\n",
      "Generating Image Number: 8 for target class tensor([0]). Step 150, Loss: 22.04681968688965\n",
      "Generating Image Number: 8 for target class tensor([0]). Step 200, Loss: 21.567073822021484\n",
      "Generating Image Number: 8 for target class tensor([0]). Step 250, Loss: 21.279735565185547\n",
      "Generating Image Number: 8 for target class tensor([0]). Step 300, Loss: 21.076791763305664\n",
      "Generating Image Number: 8 for target class tensor([0]). Step 350, Loss: 20.843257904052734\n",
      "Generating Image Number: 8 for target class tensor([0]). Step 400, Loss: 20.58868980407715\n",
      "Generating Image Number: 8 for target class tensor([0]). Step 450, Loss: 20.32777214050293\n",
      "Generating Image Number: 9 for target class tensor([0]). Step 0, Loss: 39.34608459472656\n",
      "Generating Image Number: 9 for target class tensor([0]). Step 50, Loss: 25.248743057250977\n",
      "Generating Image Number: 9 for target class tensor([0]). Step 100, Loss: 24.69198989868164\n",
      "Generating Image Number: 9 for target class tensor([0]). Step 150, Loss: 23.615570068359375\n",
      "Generating Image Number: 9 for target class tensor([0]). Step 200, Loss: 22.71400260925293\n",
      "Generating Image Number: 9 for target class tensor([0]). Step 250, Loss: 22.362064361572266\n",
      "Generating Image Number: 9 for target class tensor([0]). Step 300, Loss: 21.66236686706543\n",
      "Generating Image Number: 9 for target class tensor([0]). Step 350, Loss: 21.17653465270996\n",
      "Generating Image Number: 9 for target class tensor([0]). Step 400, Loss: 20.89492416381836\n",
      "Generating Image Number: 9 for target class tensor([0]). Step 450, Loss: 20.633716583251953\n",
      "Generating Image Number: 10 for target class tensor([0]). Step 0, Loss: 58.645790100097656\n",
      "Generating Image Number: 10 for target class tensor([0]). Step 50, Loss: 27.400094985961914\n",
      "Generating Image Number: 10 for target class tensor([0]). Step 100, Loss: 26.414281845092773\n",
      "Generating Image Number: 10 for target class tensor([0]). Step 150, Loss: 25.218048095703125\n",
      "Generating Image Number: 10 for target class tensor([0]). Step 200, Loss: 23.961620330810547\n",
      "Generating Image Number: 10 for target class tensor([0]). Step 250, Loss: 22.941923141479492\n",
      "Generating Image Number: 10 for target class tensor([0]). Step 300, Loss: 21.894691467285156\n",
      "Generating Image Number: 10 for target class tensor([0]). Step 350, Loss: 20.702651977539062\n",
      "Generating Image Number: 10 for target class tensor([0]). Step 400, Loss: 19.722900390625\n",
      "Generating Image Number: 10 for target class tensor([0]). Step 450, Loss: 18.835174560546875\n",
      "Generating Image Number: 11 for target class tensor([0]). Step 0, Loss: 29.887954711914062\n",
      "Generating Image Number: 11 for target class tensor([0]). Step 50, Loss: 24.231185913085938\n",
      "Generating Image Number: 11 for target class tensor([0]). Step 100, Loss: 23.34735107421875\n",
      "Generating Image Number: 11 for target class tensor([0]). Step 150, Loss: 22.10226058959961\n",
      "Generating Image Number: 11 for target class tensor([0]). Step 200, Loss: 21.2930850982666\n",
      "Generating Image Number: 11 for target class tensor([0]). Step 250, Loss: 20.913341522216797\n",
      "Generating Image Number: 11 for target class tensor([0]). Step 300, Loss: 20.460784912109375\n",
      "Generating Image Number: 11 for target class tensor([0]). Step 350, Loss: 20.163963317871094\n",
      "Generating Image Number: 11 for target class tensor([0]). Step 400, Loss: 19.85460090637207\n",
      "Generating Image Number: 11 for target class tensor([0]). Step 450, Loss: 19.597089767456055\n",
      "Generating Image Number: 12 for target class tensor([0]). Step 0, Loss: 8.22275447845459\n",
      "Generating Image Number: 12 for target class tensor([0]). Step 50, Loss: 3.1825618743896484\n",
      "Generating Image Number: 12 for target class tensor([0]). Step 100, Loss: 1.7016021013259888\n",
      "Generating Image Number: 12 for target class tensor([0]). Step 150, Loss: 1.1965949535369873\n",
      "Generating Image Number: 12 for target class tensor([0]). Step 200, Loss: 0.814620316028595\n",
      "Generating Image Number: 12 for target class tensor([0]). Step 250, Loss: 0.6357545852661133\n",
      "Generating Image Number: 12 for target class tensor([0]). Step 300, Loss: 0.5258261561393738\n",
      "Generating Image Number: 12 for target class tensor([0]). Step 350, Loss: 0.4048125743865967\n",
      "Generating Image Number: 12 for target class tensor([0]). Step 400, Loss: 0.35358142852783203\n",
      "Generating Image Number: 12 for target class tensor([0]). Step 450, Loss: 0.29892057180404663\n",
      "Generating Image Number: 13 for target class tensor([0]). Step 0, Loss: 3.8646347522735596\n",
      "Generating Image Number: 13 for target class tensor([0]). Step 50, Loss: 1.1793372631072998\n",
      "Generating Image Number: 13 for target class tensor([0]). Step 100, Loss: 0.5075222253799438\n",
      "Generating Image Number: 13 for target class tensor([0]). Step 150, Loss: 0.3163470923900604\n",
      "Generating Image Number: 13 for target class tensor([0]). Step 200, Loss: 0.22404102981090546\n",
      "Generating Image Number: 13 for target class tensor([0]). Step 250, Loss: 0.1703842431306839\n",
      "Generating Image Number: 13 for target class tensor([0]). Step 300, Loss: 0.13967463374137878\n",
      "Generating Image Number: 13 for target class tensor([0]). Step 350, Loss: 0.1158822551369667\n",
      "Generating Image Number: 13 for target class tensor([0]). Step 400, Loss: 0.1000651940703392\n",
      "Generating Image Number: 13 for target class tensor([0]). Step 450, Loss: 0.09030270576477051\n",
      "Generating Image Number: 14 for target class tensor([0]). Step 0, Loss: 59.24607467651367\n",
      "Generating Image Number: 14 for target class tensor([0]). Step 50, Loss: 37.88151550292969\n",
      "Generating Image Number: 14 for target class tensor([0]). Step 100, Loss: 26.268463134765625\n",
      "Generating Image Number: 14 for target class tensor([0]). Step 150, Loss: 24.868558883666992\n",
      "Generating Image Number: 14 for target class tensor([0]). Step 200, Loss: 22.982852935791016\n",
      "Generating Image Number: 14 for target class tensor([0]). Step 250, Loss: 21.469722747802734\n",
      "Generating Image Number: 14 for target class tensor([0]). Step 300, Loss: 21.00172996520996\n",
      "Generating Image Number: 14 for target class tensor([0]). Step 350, Loss: 20.626752853393555\n",
      "Generating Image Number: 14 for target class tensor([0]). Step 400, Loss: 20.2606201171875\n",
      "Generating Image Number: 14 for target class tensor([0]). Step 450, Loss: 19.98870277404785\n",
      "Generating Image Number: 15 for target class tensor([0]). Step 0, Loss: 55.948577880859375\n",
      "Generating Image Number: 15 for target class tensor([0]). Step 50, Loss: 27.694297790527344\n",
      "Generating Image Number: 15 for target class tensor([0]). Step 100, Loss: 27.222110748291016\n",
      "Generating Image Number: 15 for target class tensor([0]). Step 150, Loss: 26.767372131347656\n",
      "Generating Image Number: 15 for target class tensor([0]). Step 200, Loss: 26.128877639770508\n",
      "Generating Image Number: 15 for target class tensor([0]). Step 250, Loss: 25.550573348999023\n",
      "Generating Image Number: 15 for target class tensor([0]). Step 300, Loss: 24.813718795776367\n",
      "Generating Image Number: 15 for target class tensor([0]). Step 350, Loss: 24.244232177734375\n",
      "Generating Image Number: 15 for target class tensor([0]). Step 400, Loss: 23.60739517211914\n",
      "Generating Image Number: 15 for target class tensor([0]). Step 450, Loss: 23.270668029785156\n",
      "Generating Image Number: 16 for target class tensor([0]). Step 0, Loss: 58.25553512573242\n",
      "Generating Image Number: 16 for target class tensor([0]). Step 50, Loss: 26.317222595214844\n",
      "Generating Image Number: 16 for target class tensor([0]). Step 100, Loss: 25.65560531616211\n",
      "Generating Image Number: 16 for target class tensor([0]). Step 150, Loss: 24.99767303466797\n",
      "Generating Image Number: 16 for target class tensor([0]). Step 200, Loss: 24.398725509643555\n",
      "Generating Image Number: 16 for target class tensor([0]). Step 250, Loss: 23.529037475585938\n",
      "Generating Image Number: 16 for target class tensor([0]). Step 300, Loss: 22.612661361694336\n",
      "Generating Image Number: 16 for target class tensor([0]). Step 350, Loss: 21.951568603515625\n",
      "Generating Image Number: 16 for target class tensor([0]). Step 400, Loss: 21.413360595703125\n",
      "Generating Image Number: 16 for target class tensor([0]). Step 450, Loss: 20.961339950561523\n",
      "Generating Image Number: 17 for target class tensor([0]). Step 0, Loss: 58.049522399902344\n",
      "Generating Image Number: 17 for target class tensor([0]). Step 50, Loss: 26.88313102722168\n",
      "Generating Image Number: 17 for target class tensor([0]). Step 100, Loss: 25.976232528686523\n",
      "Generating Image Number: 17 for target class tensor([0]). Step 150, Loss: 25.391891479492188\n",
      "Generating Image Number: 17 for target class tensor([0]). Step 200, Loss: 24.800745010375977\n",
      "Generating Image Number: 17 for target class tensor([0]). Step 250, Loss: 24.060802459716797\n",
      "Generating Image Number: 17 for target class tensor([0]). Step 300, Loss: 22.431549072265625\n",
      "Generating Image Number: 17 for target class tensor([0]). Step 350, Loss: 21.901065826416016\n",
      "Generating Image Number: 17 for target class tensor([0]). Step 400, Loss: 21.432476043701172\n",
      "Generating Image Number: 17 for target class tensor([0]). Step 450, Loss: 21.04656410217285\n",
      "Generating Image Number: 18 for target class tensor([0]). Step 0, Loss: 28.435163497924805\n",
      "Generating Image Number: 18 for target class tensor([0]). Step 50, Loss: 24.745941162109375\n",
      "Generating Image Number: 18 for target class tensor([0]). Step 100, Loss: 22.227022171020508\n",
      "Generating Image Number: 18 for target class tensor([0]). Step 150, Loss: 21.25495147705078\n",
      "Generating Image Number: 18 for target class tensor([0]). Step 200, Loss: 20.5989990234375\n",
      "Generating Image Number: 18 for target class tensor([0]). Step 250, Loss: 19.987873077392578\n",
      "Generating Image Number: 18 for target class tensor([0]). Step 300, Loss: 19.680639266967773\n",
      "Generating Image Number: 18 for target class tensor([0]). Step 350, Loss: 19.48283576965332\n",
      "Generating Image Number: 18 for target class tensor([0]). Step 400, Loss: 19.314668655395508\n",
      "Generating Image Number: 18 for target class tensor([0]). Step 450, Loss: 19.115468978881836\n",
      "Generating Image Number: 19 for target class tensor([0]). Step 0, Loss: 47.73973083496094\n",
      "Generating Image Number: 19 for target class tensor([0]). Step 50, Loss: 22.813234329223633\n",
      "Generating Image Number: 19 for target class tensor([0]). Step 100, Loss: 22.170808792114258\n",
      "Generating Image Number: 19 for target class tensor([0]). Step 150, Loss: 21.499277114868164\n",
      "Generating Image Number: 19 for target class tensor([0]). Step 200, Loss: 21.646421432495117\n",
      "Generating Image Number: 19 for target class tensor([0]). Step 250, Loss: 20.856508255004883\n",
      "Generating Image Number: 19 for target class tensor([0]). Step 300, Loss: 20.463960647583008\n",
      "Generating Image Number: 19 for target class tensor([0]). Step 350, Loss: 20.155847549438477\n",
      "Generating Image Number: 19 for target class tensor([0]). Step 400, Loss: 19.934791564941406\n",
      "Generating Image Number: 19 for target class tensor([0]). Step 450, Loss: 19.7994384765625\n",
      "Generating Image Number: 20 for target class tensor([0]). Step 0, Loss: 26.943477630615234\n",
      "Generating Image Number: 20 for target class tensor([0]). Step 50, Loss: 24.711149215698242\n",
      "Generating Image Number: 20 for target class tensor([0]). Step 100, Loss: 22.739028930664062\n",
      "Generating Image Number: 20 for target class tensor([0]). Step 150, Loss: 21.805423736572266\n",
      "Generating Image Number: 20 for target class tensor([0]). Step 200, Loss: 21.278377532958984\n",
      "Generating Image Number: 20 for target class tensor([0]). Step 250, Loss: 20.926658630371094\n",
      "Generating Image Number: 20 for target class tensor([0]). Step 300, Loss: 20.634323120117188\n",
      "Generating Image Number: 20 for target class tensor([0]). Step 350, Loss: 20.349498748779297\n",
      "Generating Image Number: 20 for target class tensor([0]). Step 400, Loss: 20.05685043334961\n",
      "Generating Image Number: 20 for target class tensor([0]). Step 450, Loss: 19.80095672607422\n"
     ]
    }
   ],
   "source": [
    "class0_optimized_latent_vectors = recover_images(img_count, 0, latent_vectors)"
   ]
  },
  {
   "cell_type": "code",
   "execution_count": 21,
   "id": "6718334c-2bb1-42a3-bd8c-6aea38e6b59c",
   "metadata": {
    "scrolled": true
   },
   "outputs": [
    {
     "name": "stdout",
     "output_type": "stream",
     "text": [
      "Generating Image Number: 1 for target class tensor([1]). Step 0, Loss: 35.93427276611328\n",
      "Generating Image Number: 1 for target class tensor([1]). Step 50, Loss: 20.951984405517578\n",
      "Generating Image Number: 1 for target class tensor([1]). Step 100, Loss: 14.72535514831543\n",
      "Generating Image Number: 1 for target class tensor([1]). Step 150, Loss: 11.9368257522583\n",
      "Generating Image Number: 1 for target class tensor([1]). Step 200, Loss: 10.8171968460083\n",
      "Generating Image Number: 1 for target class tensor([1]). Step 250, Loss: 10.012206077575684\n",
      "Generating Image Number: 1 for target class tensor([1]). Step 300, Loss: 9.458048820495605\n",
      "Generating Image Number: 1 for target class tensor([1]). Step 350, Loss: 9.049751281738281\n",
      "Generating Image Number: 1 for target class tensor([1]). Step 400, Loss: 8.696084022521973\n",
      "Generating Image Number: 1 for target class tensor([1]). Step 450, Loss: 8.531410217285156\n",
      "Generating Image Number: 2 for target class tensor([1]). Step 0, Loss: 37.15407943725586\n",
      "Generating Image Number: 2 for target class tensor([1]). Step 50, Loss: 24.39214324951172\n",
      "Generating Image Number: 2 for target class tensor([1]). Step 100, Loss: 22.644224166870117\n",
      "Generating Image Number: 2 for target class tensor([1]). Step 150, Loss: 21.3277530670166\n",
      "Generating Image Number: 2 for target class tensor([1]). Step 200, Loss: 20.38393783569336\n",
      "Generating Image Number: 2 for target class tensor([1]). Step 250, Loss: 19.6374454498291\n",
      "Generating Image Number: 2 for target class tensor([1]). Step 300, Loss: 18.93796730041504\n",
      "Generating Image Number: 2 for target class tensor([1]). Step 350, Loss: 18.293399810791016\n",
      "Generating Image Number: 2 for target class tensor([1]). Step 400, Loss: 17.659334182739258\n",
      "Generating Image Number: 2 for target class tensor([1]). Step 450, Loss: 17.281286239624023\n",
      "Generating Image Number: 3 for target class tensor([1]). Step 0, Loss: 49.85681915283203\n",
      "Generating Image Number: 3 for target class tensor([1]). Step 50, Loss: 28.12185287475586\n",
      "Generating Image Number: 3 for target class tensor([1]). Step 100, Loss: 27.289783477783203\n",
      "Generating Image Number: 3 for target class tensor([1]). Step 150, Loss: 25.777565002441406\n",
      "Generating Image Number: 3 for target class tensor([1]). Step 200, Loss: 24.56874656677246\n",
      "Generating Image Number: 3 for target class tensor([1]). Step 250, Loss: 23.657398223876953\n",
      "Generating Image Number: 3 for target class tensor([1]). Step 300, Loss: 23.0675048828125\n",
      "Generating Image Number: 3 for target class tensor([1]). Step 350, Loss: 22.492963790893555\n",
      "Generating Image Number: 3 for target class tensor([1]). Step 400, Loss: 21.96016502380371\n",
      "Generating Image Number: 3 for target class tensor([1]). Step 450, Loss: 21.359886169433594\n",
      "Generating Image Number: 4 for target class tensor([1]). Step 0, Loss: 56.20933151245117\n",
      "Generating Image Number: 4 for target class tensor([1]). Step 50, Loss: 30.53803062438965\n",
      "Generating Image Number: 4 for target class tensor([1]). Step 100, Loss: 29.0596866607666\n",
      "Generating Image Number: 4 for target class tensor([1]). Step 150, Loss: 27.87201690673828\n",
      "Generating Image Number: 4 for target class tensor([1]). Step 200, Loss: 26.51641273498535\n",
      "Generating Image Number: 4 for target class tensor([1]). Step 250, Loss: 25.054656982421875\n",
      "Generating Image Number: 4 for target class tensor([1]). Step 300, Loss: 23.510711669921875\n",
      "Generating Image Number: 4 for target class tensor([1]). Step 350, Loss: 22.562196731567383\n",
      "Generating Image Number: 4 for target class tensor([1]). Step 400, Loss: 22.24138069152832\n",
      "Generating Image Number: 4 for target class tensor([1]). Step 450, Loss: 21.937490463256836\n",
      "Generating Image Number: 5 for target class tensor([1]). Step 0, Loss: 55.35243225097656\n",
      "Generating Image Number: 5 for target class tensor([1]). Step 50, Loss: 52.21085739135742\n",
      "Generating Image Number: 5 for target class tensor([1]). Step 100, Loss: 50.90546417236328\n",
      "Generating Image Number: 5 for target class tensor([1]). Step 150, Loss: 50.331851959228516\n",
      "Generating Image Number: 5 for target class tensor([1]). Step 200, Loss: 49.9678955078125\n",
      "Generating Image Number: 5 for target class tensor([1]). Step 250, Loss: 49.706512451171875\n",
      "Generating Image Number: 5 for target class tensor([1]). Step 300, Loss: 49.48090362548828\n",
      "Generating Image Number: 5 for target class tensor([1]). Step 350, Loss: 49.35844039916992\n",
      "Generating Image Number: 5 for target class tensor([1]). Step 400, Loss: 49.19093322753906\n",
      "Generating Image Number: 5 for target class tensor([1]). Step 450, Loss: 48.959590911865234\n",
      "Generating Image Number: 6 for target class tensor([1]). Step 0, Loss: 60.87560272216797\n",
      "Generating Image Number: 6 for target class tensor([1]). Step 50, Loss: 52.2396354675293\n",
      "Generating Image Number: 6 for target class tensor([1]). Step 100, Loss: 50.9481315612793\n",
      "Generating Image Number: 6 for target class tensor([1]). Step 150, Loss: 50.1137580871582\n",
      "Generating Image Number: 6 for target class tensor([1]). Step 200, Loss: 49.42919158935547\n",
      "Generating Image Number: 6 for target class tensor([1]). Step 250, Loss: 48.706966400146484\n",
      "Generating Image Number: 6 for target class tensor([1]). Step 300, Loss: 47.59722900390625\n",
      "Generating Image Number: 6 for target class tensor([1]). Step 350, Loss: 46.68695068359375\n",
      "Generating Image Number: 6 for target class tensor([1]). Step 400, Loss: 46.18262481689453\n",
      "Generating Image Number: 6 for target class tensor([1]). Step 450, Loss: 45.81550979614258\n",
      "Generating Image Number: 7 for target class tensor([1]). Step 0, Loss: 19.080881118774414\n",
      "Generating Image Number: 7 for target class tensor([1]). Step 50, Loss: 10.625462532043457\n",
      "Generating Image Number: 7 for target class tensor([1]). Step 100, Loss: 9.141456604003906\n",
      "Generating Image Number: 7 for target class tensor([1]). Step 150, Loss: 8.43540096282959\n",
      "Generating Image Number: 7 for target class tensor([1]). Step 200, Loss: 7.71026611328125\n",
      "Generating Image Number: 7 for target class tensor([1]). Step 250, Loss: 7.150792121887207\n",
      "Generating Image Number: 7 for target class tensor([1]). Step 300, Loss: 6.78631067276001\n",
      "Generating Image Number: 7 for target class tensor([1]). Step 350, Loss: 6.595144271850586\n",
      "Generating Image Number: 7 for target class tensor([1]). Step 400, Loss: 6.243231773376465\n",
      "Generating Image Number: 7 for target class tensor([1]). Step 450, Loss: 6.039715766906738\n",
      "Generating Image Number: 8 for target class tensor([1]). Step 0, Loss: 18.28969383239746\n",
      "Generating Image Number: 8 for target class tensor([1]). Step 50, Loss: 13.6972074508667\n",
      "Generating Image Number: 8 for target class tensor([1]). Step 100, Loss: 12.947611808776855\n",
      "Generating Image Number: 8 for target class tensor([1]). Step 150, Loss: 12.330902099609375\n",
      "Generating Image Number: 8 for target class tensor([1]). Step 200, Loss: 11.673541069030762\n",
      "Generating Image Number: 8 for target class tensor([1]). Step 250, Loss: 11.235191345214844\n",
      "Generating Image Number: 8 for target class tensor([1]). Step 300, Loss: 10.886515617370605\n",
      "Generating Image Number: 8 for target class tensor([1]). Step 350, Loss: 10.627973556518555\n",
      "Generating Image Number: 8 for target class tensor([1]). Step 400, Loss: 10.30870532989502\n",
      "Generating Image Number: 8 for target class tensor([1]). Step 450, Loss: 10.114498138427734\n",
      "Generating Image Number: 9 for target class tensor([1]). Step 0, Loss: 49.706504821777344\n",
      "Generating Image Number: 9 for target class tensor([1]). Step 50, Loss: 25.78295135498047\n",
      "Generating Image Number: 9 for target class tensor([1]). Step 100, Loss: 22.99256706237793\n",
      "Generating Image Number: 9 for target class tensor([1]). Step 150, Loss: 21.25604820251465\n",
      "Generating Image Number: 9 for target class tensor([1]). Step 200, Loss: 20.011930465698242\n",
      "Generating Image Number: 9 for target class tensor([1]). Step 250, Loss: 18.988496780395508\n",
      "Generating Image Number: 9 for target class tensor([1]). Step 300, Loss: 18.465986251831055\n",
      "Generating Image Number: 9 for target class tensor([1]). Step 350, Loss: 18.053834915161133\n",
      "Generating Image Number: 9 for target class tensor([1]). Step 400, Loss: 17.599401473999023\n",
      "Generating Image Number: 9 for target class tensor([1]). Step 450, Loss: 17.258880615234375\n",
      "Generating Image Number: 10 for target class tensor([1]). Step 0, Loss: 32.04631042480469\n",
      "Generating Image Number: 10 for target class tensor([1]). Step 50, Loss: 22.93338394165039\n",
      "Generating Image Number: 10 for target class tensor([1]). Step 100, Loss: 19.93802261352539\n",
      "Generating Image Number: 10 for target class tensor([1]). Step 150, Loss: 17.40066146850586\n",
      "Generating Image Number: 10 for target class tensor([1]). Step 200, Loss: 15.4413480758667\n",
      "Generating Image Number: 10 for target class tensor([1]). Step 250, Loss: 13.151683807373047\n",
      "Generating Image Number: 10 for target class tensor([1]). Step 300, Loss: 11.721029281616211\n",
      "Generating Image Number: 10 for target class tensor([1]). Step 350, Loss: 10.919123649597168\n",
      "Generating Image Number: 10 for target class tensor([1]). Step 400, Loss: 10.3357515335083\n",
      "Generating Image Number: 10 for target class tensor([1]). Step 450, Loss: 9.757434844970703\n",
      "Generating Image Number: 11 for target class tensor([1]). Step 0, Loss: 51.66027069091797\n",
      "Generating Image Number: 11 for target class tensor([1]). Step 50, Loss: 41.66720962524414\n",
      "Generating Image Number: 11 for target class tensor([1]). Step 100, Loss: 15.388749122619629\n",
      "Generating Image Number: 11 for target class tensor([1]). Step 150, Loss: 13.916900634765625\n",
      "Generating Image Number: 11 for target class tensor([1]). Step 200, Loss: 13.325303077697754\n",
      "Generating Image Number: 11 for target class tensor([1]). Step 250, Loss: 12.608214378356934\n",
      "Generating Image Number: 11 for target class tensor([1]). Step 300, Loss: 11.820463180541992\n",
      "Generating Image Number: 11 for target class tensor([1]). Step 350, Loss: 11.143566131591797\n",
      "Generating Image Number: 11 for target class tensor([1]). Step 400, Loss: 10.684521675109863\n",
      "Generating Image Number: 11 for target class tensor([1]). Step 450, Loss: 10.018418312072754\n",
      "Generating Image Number: 12 for target class tensor([1]). Step 0, Loss: 47.96266174316406\n",
      "Generating Image Number: 12 for target class tensor([1]). Step 50, Loss: 9.931157112121582\n",
      "Generating Image Number: 12 for target class tensor([1]). Step 100, Loss: 6.793237209320068\n",
      "Generating Image Number: 12 for target class tensor([1]). Step 150, Loss: 3.9653642177581787\n",
      "Generating Image Number: 12 for target class tensor([1]). Step 200, Loss: 2.113314390182495\n",
      "Generating Image Number: 12 for target class tensor([1]). Step 250, Loss: 0.9675148129463196\n",
      "Generating Image Number: 12 for target class tensor([1]). Step 300, Loss: 0.5966946482658386\n",
      "Generating Image Number: 12 for target class tensor([1]). Step 350, Loss: 0.4384262263774872\n",
      "Generating Image Number: 12 for target class tensor([1]). Step 400, Loss: 0.34642013907432556\n",
      "Generating Image Number: 12 for target class tensor([1]). Step 450, Loss: 0.288343220949173\n",
      "Generating Image Number: 13 for target class tensor([1]). Step 0, Loss: 57.572654724121094\n",
      "Generating Image Number: 13 for target class tensor([1]). Step 50, Loss: 31.451969146728516\n",
      "Generating Image Number: 13 for target class tensor([1]). Step 100, Loss: 29.77713966369629\n",
      "Generating Image Number: 13 for target class tensor([1]). Step 150, Loss: 27.77962875366211\n",
      "Generating Image Number: 13 for target class tensor([1]). Step 200, Loss: 24.981342315673828\n",
      "Generating Image Number: 13 for target class tensor([1]). Step 250, Loss: 23.830589294433594\n",
      "Generating Image Number: 13 for target class tensor([1]). Step 300, Loss: 22.65224838256836\n",
      "Generating Image Number: 13 for target class tensor([1]). Step 350, Loss: 21.242773056030273\n",
      "Generating Image Number: 13 for target class tensor([1]). Step 400, Loss: 20.666475296020508\n",
      "Generating Image Number: 13 for target class tensor([1]). Step 450, Loss: 20.382343292236328\n",
      "Generating Image Number: 14 for target class tensor([1]). Step 0, Loss: 35.42499542236328\n",
      "Generating Image Number: 14 for target class tensor([1]). Step 50, Loss: 27.05257797241211\n",
      "Generating Image Number: 14 for target class tensor([1]). Step 100, Loss: 24.708620071411133\n",
      "Generating Image Number: 14 for target class tensor([1]). Step 150, Loss: 22.66590118408203\n",
      "Generating Image Number: 14 for target class tensor([1]). Step 200, Loss: 21.49714469909668\n",
      "Generating Image Number: 14 for target class tensor([1]). Step 250, Loss: 20.92734718322754\n",
      "Generating Image Number: 14 for target class tensor([1]). Step 300, Loss: 20.381521224975586\n",
      "Generating Image Number: 14 for target class tensor([1]). Step 350, Loss: 20.034076690673828\n",
      "Generating Image Number: 14 for target class tensor([1]). Step 400, Loss: 19.72153663635254\n",
      "Generating Image Number: 14 for target class tensor([1]). Step 450, Loss: 19.387237548828125\n",
      "Generating Image Number: 15 for target class tensor([1]). Step 0, Loss: 28.945842742919922\n",
      "Generating Image Number: 15 for target class tensor([1]). Step 50, Loss: 16.697620391845703\n",
      "Generating Image Number: 15 for target class tensor([1]). Step 100, Loss: 15.084183692932129\n",
      "Generating Image Number: 15 for target class tensor([1]). Step 150, Loss: 13.30046558380127\n",
      "Generating Image Number: 15 for target class tensor([1]). Step 200, Loss: 12.202346801757812\n",
      "Generating Image Number: 15 for target class tensor([1]). Step 250, Loss: 11.705354690551758\n",
      "Generating Image Number: 15 for target class tensor([1]). Step 300, Loss: 10.82756519317627\n",
      "Generating Image Number: 15 for target class tensor([1]). Step 350, Loss: 10.099193572998047\n",
      "Generating Image Number: 15 for target class tensor([1]). Step 400, Loss: 9.442529678344727\n",
      "Generating Image Number: 15 for target class tensor([1]). Step 450, Loss: 8.71658706665039\n",
      "Generating Image Number: 16 for target class tensor([1]). Step 0, Loss: 11.57783317565918\n",
      "Generating Image Number: 16 for target class tensor([1]). Step 50, Loss: 7.8581132888793945\n",
      "Generating Image Number: 16 for target class tensor([1]). Step 100, Loss: 6.9942426681518555\n",
      "Generating Image Number: 16 for target class tensor([1]). Step 150, Loss: 6.874327182769775\n",
      "Generating Image Number: 16 for target class tensor([1]). Step 200, Loss: 6.113390922546387\n",
      "Generating Image Number: 16 for target class tensor([1]). Step 250, Loss: 5.887181282043457\n",
      "Generating Image Number: 16 for target class tensor([1]). Step 300, Loss: 5.205294609069824\n",
      "Generating Image Number: 16 for target class tensor([1]). Step 350, Loss: 4.488254547119141\n",
      "Generating Image Number: 16 for target class tensor([1]). Step 400, Loss: 4.023205280303955\n",
      "Generating Image Number: 16 for target class tensor([1]). Step 450, Loss: 3.4672696590423584\n",
      "Generating Image Number: 17 for target class tensor([1]). Step 0, Loss: 36.33669662475586\n",
      "Generating Image Number: 17 for target class tensor([1]). Step 50, Loss: 29.013227462768555\n",
      "Generating Image Number: 17 for target class tensor([1]). Step 100, Loss: 25.29400062561035\n",
      "Generating Image Number: 17 for target class tensor([1]). Step 150, Loss: 23.542997360229492\n",
      "Generating Image Number: 17 for target class tensor([1]). Step 200, Loss: 22.74617576599121\n",
      "Generating Image Number: 17 for target class tensor([1]). Step 250, Loss: 21.7506103515625\n",
      "Generating Image Number: 17 for target class tensor([1]). Step 300, Loss: 21.135221481323242\n",
      "Generating Image Number: 17 for target class tensor([1]). Step 350, Loss: 20.771686553955078\n",
      "Generating Image Number: 17 for target class tensor([1]). Step 400, Loss: 20.513397216796875\n",
      "Generating Image Number: 17 for target class tensor([1]). Step 450, Loss: 20.304622650146484\n",
      "Generating Image Number: 18 for target class tensor([1]). Step 0, Loss: 50.813331604003906\n",
      "Generating Image Number: 18 for target class tensor([1]). Step 50, Loss: 30.010099411010742\n",
      "Generating Image Number: 18 for target class tensor([1]). Step 100, Loss: 27.567272186279297\n",
      "Generating Image Number: 18 for target class tensor([1]). Step 150, Loss: 24.556522369384766\n",
      "Generating Image Number: 18 for target class tensor([1]). Step 200, Loss: 22.837987899780273\n",
      "Generating Image Number: 18 for target class tensor([1]). Step 250, Loss: 21.97391700744629\n",
      "Generating Image Number: 18 for target class tensor([1]). Step 300, Loss: 21.54452896118164\n",
      "Generating Image Number: 18 for target class tensor([1]). Step 350, Loss: 20.917503356933594\n",
      "Generating Image Number: 18 for target class tensor([1]). Step 400, Loss: 20.20381736755371\n",
      "Generating Image Number: 18 for target class tensor([1]). Step 450, Loss: 19.954620361328125\n",
      "Generating Image Number: 19 for target class tensor([1]). Step 0, Loss: 45.411922454833984\n",
      "Generating Image Number: 19 for target class tensor([1]). Step 50, Loss: 18.326276779174805\n",
      "Generating Image Number: 19 for target class tensor([1]). Step 100, Loss: 14.543082237243652\n",
      "Generating Image Number: 19 for target class tensor([1]). Step 150, Loss: 13.365543365478516\n",
      "Generating Image Number: 19 for target class tensor([1]). Step 200, Loss: 12.277506828308105\n",
      "Generating Image Number: 19 for target class tensor([1]). Step 250, Loss: 11.316222190856934\n",
      "Generating Image Number: 19 for target class tensor([1]). Step 300, Loss: 10.265030860900879\n",
      "Generating Image Number: 19 for target class tensor([1]). Step 350, Loss: 9.461921691894531\n",
      "Generating Image Number: 19 for target class tensor([1]). Step 400, Loss: 8.55842113494873\n",
      "Generating Image Number: 19 for target class tensor([1]). Step 450, Loss: 8.024940490722656\n",
      "Generating Image Number: 20 for target class tensor([1]). Step 0, Loss: 37.11648941040039\n",
      "Generating Image Number: 20 for target class tensor([1]). Step 50, Loss: 29.24348258972168\n",
      "Generating Image Number: 20 for target class tensor([1]). Step 100, Loss: 25.370498657226562\n",
      "Generating Image Number: 20 for target class tensor([1]). Step 150, Loss: 24.69631576538086\n",
      "Generating Image Number: 20 for target class tensor([1]). Step 200, Loss: 24.045835494995117\n",
      "Generating Image Number: 20 for target class tensor([1]). Step 250, Loss: 23.488128662109375\n",
      "Generating Image Number: 20 for target class tensor([1]). Step 300, Loss: 22.765235900878906\n",
      "Generating Image Number: 20 for target class tensor([1]). Step 350, Loss: 22.18702507019043\n",
      "Generating Image Number: 20 for target class tensor([1]). Step 400, Loss: 21.655458450317383\n",
      "Generating Image Number: 20 for target class tensor([1]). Step 450, Loss: 21.02004623413086\n"
     ]
    }
   ],
   "source": [
    "torch.manual_seed(100)\n",
    "latent_vectors = torch.randn(img_count, z_dim, 1, 1, requires_grad=True) # Start with 20 random noises\n",
    "class1_optimized_latent_vectors = recover_images(img_count, 1, latent_vectors)"
   ]
  },
  {
   "cell_type": "code",
   "execution_count": 22,
   "id": "1c8af686-b1ff-419d-946d-2447773e47c9",
   "metadata": {
    "scrolled": true
   },
   "outputs": [
    {
     "name": "stdout",
     "output_type": "stream",
     "text": [
      "Generating Image Number: 1 for target class tensor([2]). Step 0, Loss: 2.3841855067985307e-07\n",
      "Generating Image Number: 1 for target class tensor([2]). Step 50, Loss: 0.0\n",
      "Generating Image Number: 1 for target class tensor([2]). Step 100, Loss: 0.0\n",
      "Generating Image Number: 1 for target class tensor([2]). Step 150, Loss: 0.0\n",
      "Generating Image Number: 1 for target class tensor([2]). Step 200, Loss: 0.0\n",
      "Generating Image Number: 1 for target class tensor([2]). Step 250, Loss: 0.0\n",
      "Generating Image Number: 1 for target class tensor([2]). Step 300, Loss: 0.0\n",
      "Generating Image Number: 1 for target class tensor([2]). Step 350, Loss: 0.0\n",
      "Generating Image Number: 1 for target class tensor([2]). Step 400, Loss: 0.0\n",
      "Generating Image Number: 1 for target class tensor([2]). Step 450, Loss: 0.0\n",
      "Generating Image Number: 2 for target class tensor([2]). Step 0, Loss: 1.645074735279195e-05\n",
      "Generating Image Number: 2 for target class tensor([2]). Step 50, Loss: 0.0\n",
      "Generating Image Number: 2 for target class tensor([2]). Step 100, Loss: 0.0\n",
      "Generating Image Number: 2 for target class tensor([2]). Step 150, Loss: 0.0\n",
      "Generating Image Number: 2 for target class tensor([2]). Step 200, Loss: 0.0\n",
      "Generating Image Number: 2 for target class tensor([2]). Step 250, Loss: 0.0\n",
      "Generating Image Number: 2 for target class tensor([2]). Step 300, Loss: 0.0\n",
      "Generating Image Number: 2 for target class tensor([2]). Step 350, Loss: 0.0\n",
      "Generating Image Number: 2 for target class tensor([2]). Step 400, Loss: 0.0\n",
      "Generating Image Number: 2 for target class tensor([2]). Step 450, Loss: 0.0\n",
      "Generating Image Number: 3 for target class tensor([2]). Step 0, Loss: 0.0\n",
      "Generating Image Number: 3 for target class tensor([2]). Step 50, Loss: 0.0\n",
      "Generating Image Number: 3 for target class tensor([2]). Step 100, Loss: 0.0\n",
      "Generating Image Number: 3 for target class tensor([2]). Step 150, Loss: 0.0\n",
      "Generating Image Number: 3 for target class tensor([2]). Step 200, Loss: 0.0\n",
      "Generating Image Number: 3 for target class tensor([2]). Step 250, Loss: 0.0\n",
      "Generating Image Number: 3 for target class tensor([2]). Step 300, Loss: 0.0\n",
      "Generating Image Number: 3 for target class tensor([2]). Step 350, Loss: 0.0\n",
      "Generating Image Number: 3 for target class tensor([2]). Step 400, Loss: 0.0\n",
      "Generating Image Number: 3 for target class tensor([2]). Step 450, Loss: 0.0\n",
      "Generating Image Number: 4 for target class tensor([2]). Step 0, Loss: 0.0\n",
      "Generating Image Number: 4 for target class tensor([2]). Step 50, Loss: 0.0\n",
      "Generating Image Number: 4 for target class tensor([2]). Step 100, Loss: 0.0\n",
      "Generating Image Number: 4 for target class tensor([2]). Step 150, Loss: 0.0\n",
      "Generating Image Number: 4 for target class tensor([2]). Step 200, Loss: 0.0\n",
      "Generating Image Number: 4 for target class tensor([2]). Step 250, Loss: 0.0\n",
      "Generating Image Number: 4 for target class tensor([2]). Step 300, Loss: 0.0\n",
      "Generating Image Number: 4 for target class tensor([2]). Step 350, Loss: 0.0\n",
      "Generating Image Number: 4 for target class tensor([2]). Step 400, Loss: 0.0\n",
      "Generating Image Number: 4 for target class tensor([2]). Step 450, Loss: 0.0\n",
      "Generating Image Number: 5 for target class tensor([2]). Step 0, Loss: 0.0\n",
      "Generating Image Number: 5 for target class tensor([2]). Step 50, Loss: 0.0\n",
      "Generating Image Number: 5 for target class tensor([2]). Step 100, Loss: 0.0\n",
      "Generating Image Number: 5 for target class tensor([2]). Step 150, Loss: 0.0\n",
      "Generating Image Number: 5 for target class tensor([2]). Step 200, Loss: 0.0\n",
      "Generating Image Number: 5 for target class tensor([2]). Step 250, Loss: 0.0\n",
      "Generating Image Number: 5 for target class tensor([2]). Step 300, Loss: 0.0\n",
      "Generating Image Number: 5 for target class tensor([2]). Step 350, Loss: 0.0\n",
      "Generating Image Number: 5 for target class tensor([2]). Step 400, Loss: 0.0\n",
      "Generating Image Number: 5 for target class tensor([2]). Step 450, Loss: 0.0\n",
      "Generating Image Number: 6 for target class tensor([2]). Step 0, Loss: 1.1920928244535389e-07\n",
      "Generating Image Number: 6 for target class tensor([2]). Step 50, Loss: 0.0\n",
      "Generating Image Number: 6 for target class tensor([2]). Step 100, Loss: 0.0\n",
      "Generating Image Number: 6 for target class tensor([2]). Step 150, Loss: 0.0\n",
      "Generating Image Number: 6 for target class tensor([2]). Step 200, Loss: 0.0\n",
      "Generating Image Number: 6 for target class tensor([2]). Step 250, Loss: 0.0\n",
      "Generating Image Number: 6 for target class tensor([2]). Step 300, Loss: 0.0\n",
      "Generating Image Number: 6 for target class tensor([2]). Step 350, Loss: 0.0\n",
      "Generating Image Number: 6 for target class tensor([2]). Step 400, Loss: 0.0\n",
      "Generating Image Number: 6 for target class tensor([2]). Step 450, Loss: 0.0\n",
      "Generating Image Number: 7 for target class tensor([2]). Step 0, Loss: 6.9141146923357155e-06\n",
      "Generating Image Number: 7 for target class tensor([2]). Step 50, Loss: 0.0\n",
      "Generating Image Number: 7 for target class tensor([2]). Step 100, Loss: 0.0\n",
      "Generating Image Number: 7 for target class tensor([2]). Step 150, Loss: 0.0\n",
      "Generating Image Number: 7 for target class tensor([2]). Step 200, Loss: 0.0\n",
      "Generating Image Number: 7 for target class tensor([2]). Step 250, Loss: 0.0\n",
      "Generating Image Number: 7 for target class tensor([2]). Step 300, Loss: 0.0\n",
      "Generating Image Number: 7 for target class tensor([2]). Step 350, Loss: 0.0\n",
      "Generating Image Number: 7 for target class tensor([2]). Step 400, Loss: 0.0\n",
      "Generating Image Number: 7 for target class tensor([2]). Step 450, Loss: 0.0\n",
      "Generating Image Number: 8 for target class tensor([2]). Step 0, Loss: 4.768370445162873e-07\n",
      "Generating Image Number: 8 for target class tensor([2]). Step 50, Loss: 0.0\n",
      "Generating Image Number: 8 for target class tensor([2]). Step 100, Loss: 0.0\n",
      "Generating Image Number: 8 for target class tensor([2]). Step 150, Loss: 0.0\n",
      "Generating Image Number: 8 for target class tensor([2]). Step 200, Loss: 0.0\n",
      "Generating Image Number: 8 for target class tensor([2]). Step 250, Loss: 0.0\n",
      "Generating Image Number: 8 for target class tensor([2]). Step 300, Loss: 0.0\n",
      "Generating Image Number: 8 for target class tensor([2]). Step 350, Loss: 0.0\n",
      "Generating Image Number: 8 for target class tensor([2]). Step 400, Loss: 0.0\n",
      "Generating Image Number: 8 for target class tensor([2]). Step 450, Loss: 0.0\n",
      "Generating Image Number: 9 for target class tensor([2]). Step 0, Loss: 0.0\n",
      "Generating Image Number: 9 for target class tensor([2]). Step 50, Loss: 0.0\n",
      "Generating Image Number: 9 for target class tensor([2]). Step 100, Loss: 0.0\n",
      "Generating Image Number: 9 for target class tensor([2]). Step 150, Loss: 0.0\n",
      "Generating Image Number: 9 for target class tensor([2]). Step 200, Loss: 0.0\n",
      "Generating Image Number: 9 for target class tensor([2]). Step 250, Loss: 0.0\n",
      "Generating Image Number: 9 for target class tensor([2]). Step 300, Loss: 0.0\n",
      "Generating Image Number: 9 for target class tensor([2]). Step 350, Loss: 0.0\n",
      "Generating Image Number: 9 for target class tensor([2]). Step 400, Loss: 0.0\n",
      "Generating Image Number: 9 for target class tensor([2]). Step 450, Loss: 0.0\n",
      "Generating Image Number: 10 for target class tensor([2]). Step 0, Loss: 2.3841855067985307e-07\n",
      "Generating Image Number: 10 for target class tensor([2]). Step 50, Loss: 0.0\n",
      "Generating Image Number: 10 for target class tensor([2]). Step 100, Loss: 0.0\n",
      "Generating Image Number: 10 for target class tensor([2]). Step 150, Loss: 0.0\n",
      "Generating Image Number: 10 for target class tensor([2]). Step 200, Loss: 0.0\n",
      "Generating Image Number: 10 for target class tensor([2]). Step 250, Loss: 0.0\n",
      "Generating Image Number: 10 for target class tensor([2]). Step 300, Loss: 0.0\n",
      "Generating Image Number: 10 for target class tensor([2]). Step 350, Loss: 0.0\n",
      "Generating Image Number: 10 for target class tensor([2]). Step 400, Loss: 0.0\n",
      "Generating Image Number: 10 for target class tensor([2]). Step 450, Loss: 0.0\n",
      "Generating Image Number: 11 for target class tensor([2]). Step 0, Loss: 0.0\n",
      "Generating Image Number: 11 for target class tensor([2]). Step 50, Loss: 0.0\n",
      "Generating Image Number: 11 for target class tensor([2]). Step 100, Loss: 0.0\n",
      "Generating Image Number: 11 for target class tensor([2]). Step 150, Loss: 0.0\n",
      "Generating Image Number: 11 for target class tensor([2]). Step 200, Loss: 0.0\n",
      "Generating Image Number: 11 for target class tensor([2]). Step 250, Loss: 0.0\n",
      "Generating Image Number: 11 for target class tensor([2]). Step 300, Loss: 0.0\n",
      "Generating Image Number: 11 for target class tensor([2]). Step 350, Loss: 0.0\n",
      "Generating Image Number: 11 for target class tensor([2]). Step 400, Loss: 0.0\n",
      "Generating Image Number: 11 for target class tensor([2]). Step 450, Loss: 0.0\n",
      "Generating Image Number: 12 for target class tensor([2]). Step 0, Loss: 0.028133844956755638\n",
      "Generating Image Number: 12 for target class tensor([2]). Step 50, Loss: 0.001277702976949513\n",
      "Generating Image Number: 12 for target class tensor([2]). Step 100, Loss: 0.000516757951118052\n",
      "Generating Image Number: 12 for target class tensor([2]). Step 150, Loss: 0.0003083468764089048\n",
      "Generating Image Number: 12 for target class tensor([2]). Step 200, Loss: 0.00021050144277978688\n",
      "Generating Image Number: 12 for target class tensor([2]). Step 250, Loss: 0.00016151554882526398\n",
      "Generating Image Number: 12 for target class tensor([2]). Step 300, Loss: 0.0001284993631998077\n",
      "Generating Image Number: 12 for target class tensor([2]). Step 350, Loss: 0.00010406429646536708\n",
      "Generating Image Number: 12 for target class tensor([2]). Step 400, Loss: 8.904537389753386e-05\n",
      "Generating Image Number: 12 for target class tensor([2]). Step 450, Loss: 7.4741430580616e-05\n",
      "Generating Image Number: 13 for target class tensor([2]). Step 0, Loss: 4.482168878894299e-05\n",
      "Generating Image Number: 13 for target class tensor([2]). Step 50, Loss: 0.0\n",
      "Generating Image Number: 13 for target class tensor([2]). Step 100, Loss: 0.0\n",
      "Generating Image Number: 13 for target class tensor([2]). Step 150, Loss: 0.0\n",
      "Generating Image Number: 13 for target class tensor([2]). Step 200, Loss: 0.0\n",
      "Generating Image Number: 13 for target class tensor([2]). Step 250, Loss: 0.0\n",
      "Generating Image Number: 13 for target class tensor([2]). Step 300, Loss: 0.0\n",
      "Generating Image Number: 13 for target class tensor([2]). Step 350, Loss: 0.0\n",
      "Generating Image Number: 13 for target class tensor([2]). Step 400, Loss: 0.0\n",
      "Generating Image Number: 13 for target class tensor([2]). Step 450, Loss: 0.0\n",
      "Generating Image Number: 14 for target class tensor([2]). Step 0, Loss: 0.0\n",
      "Generating Image Number: 14 for target class tensor([2]). Step 50, Loss: 0.0\n",
      "Generating Image Number: 14 for target class tensor([2]). Step 100, Loss: 0.0\n",
      "Generating Image Number: 14 for target class tensor([2]). Step 150, Loss: 0.0\n",
      "Generating Image Number: 14 for target class tensor([2]). Step 200, Loss: 0.0\n",
      "Generating Image Number: 14 for target class tensor([2]). Step 250, Loss: 0.0\n",
      "Generating Image Number: 14 for target class tensor([2]). Step 300, Loss: 0.0\n",
      "Generating Image Number: 14 for target class tensor([2]). Step 350, Loss: 0.0\n",
      "Generating Image Number: 14 for target class tensor([2]). Step 400, Loss: 0.0\n",
      "Generating Image Number: 14 for target class tensor([2]). Step 450, Loss: 0.0\n",
      "Generating Image Number: 15 for target class tensor([2]). Step 0, Loss: 0.0\n",
      "Generating Image Number: 15 for target class tensor([2]). Step 50, Loss: 0.0\n",
      "Generating Image Number: 15 for target class tensor([2]). Step 100, Loss: 0.0\n",
      "Generating Image Number: 15 for target class tensor([2]). Step 150, Loss: 0.0\n",
      "Generating Image Number: 15 for target class tensor([2]). Step 200, Loss: 0.0\n",
      "Generating Image Number: 15 for target class tensor([2]). Step 250, Loss: 0.0\n",
      "Generating Image Number: 15 for target class tensor([2]). Step 300, Loss: 0.0\n",
      "Generating Image Number: 15 for target class tensor([2]). Step 350, Loss: 0.0\n",
      "Generating Image Number: 15 for target class tensor([2]). Step 400, Loss: 0.0\n",
      "Generating Image Number: 15 for target class tensor([2]). Step 450, Loss: 0.0\n",
      "Generating Image Number: 16 for target class tensor([2]). Step 0, Loss: 0.0\n",
      "Generating Image Number: 16 for target class tensor([2]). Step 50, Loss: 0.0\n",
      "Generating Image Number: 16 for target class tensor([2]). Step 100, Loss: 0.0\n",
      "Generating Image Number: 16 for target class tensor([2]). Step 150, Loss: 0.0\n",
      "Generating Image Number: 16 for target class tensor([2]). Step 200, Loss: 0.0\n",
      "Generating Image Number: 16 for target class tensor([2]). Step 250, Loss: 0.0\n",
      "Generating Image Number: 16 for target class tensor([2]). Step 300, Loss: 0.0\n",
      "Generating Image Number: 16 for target class tensor([2]). Step 350, Loss: 0.0\n",
      "Generating Image Number: 16 for target class tensor([2]). Step 400, Loss: 0.0\n",
      "Generating Image Number: 16 for target class tensor([2]). Step 450, Loss: 0.0\n",
      "Generating Image Number: 17 for target class tensor([2]). Step 0, Loss: 0.0\n",
      "Generating Image Number: 17 for target class tensor([2]). Step 50, Loss: 0.0\n",
      "Generating Image Number: 17 for target class tensor([2]). Step 100, Loss: 0.0\n",
      "Generating Image Number: 17 for target class tensor([2]). Step 150, Loss: 0.0\n",
      "Generating Image Number: 17 for target class tensor([2]). Step 200, Loss: 0.0\n",
      "Generating Image Number: 17 for target class tensor([2]). Step 250, Loss: 0.0\n",
      "Generating Image Number: 17 for target class tensor([2]). Step 300, Loss: 0.0\n",
      "Generating Image Number: 17 for target class tensor([2]). Step 350, Loss: 0.0\n",
      "Generating Image Number: 17 for target class tensor([2]). Step 400, Loss: 0.0\n",
      "Generating Image Number: 17 for target class tensor([2]). Step 450, Loss: 0.0\n",
      "Generating Image Number: 18 for target class tensor([2]). Step 0, Loss: 1.168244216387393e-05\n",
      "Generating Image Number: 18 for target class tensor([2]). Step 50, Loss: 2.3841855067985307e-07\n",
      "Generating Image Number: 18 for target class tensor([2]). Step 100, Loss: 0.0\n",
      "Generating Image Number: 18 for target class tensor([2]). Step 150, Loss: 0.0\n",
      "Generating Image Number: 18 for target class tensor([2]). Step 200, Loss: 0.0\n",
      "Generating Image Number: 18 for target class tensor([2]). Step 250, Loss: 0.0\n",
      "Generating Image Number: 18 for target class tensor([2]). Step 300, Loss: 0.0\n",
      "Generating Image Number: 18 for target class tensor([2]). Step 350, Loss: 0.0\n",
      "Generating Image Number: 18 for target class tensor([2]). Step 400, Loss: 0.0\n",
      "Generating Image Number: 18 for target class tensor([2]). Step 450, Loss: 0.0\n",
      "Generating Image Number: 19 for target class tensor([2]). Step 0, Loss: 0.00011419598013162613\n",
      "Generating Image Number: 19 for target class tensor([2]). Step 50, Loss: 0.0\n",
      "Generating Image Number: 19 for target class tensor([2]). Step 100, Loss: 0.0\n",
      "Generating Image Number: 19 for target class tensor([2]). Step 150, Loss: 0.0\n",
      "Generating Image Number: 19 for target class tensor([2]). Step 200, Loss: 0.0\n",
      "Generating Image Number: 19 for target class tensor([2]). Step 250, Loss: 0.0\n",
      "Generating Image Number: 19 for target class tensor([2]). Step 300, Loss: 0.0\n",
      "Generating Image Number: 19 for target class tensor([2]). Step 350, Loss: 0.0\n",
      "Generating Image Number: 19 for target class tensor([2]). Step 400, Loss: 0.0\n",
      "Generating Image Number: 19 for target class tensor([2]). Step 450, Loss: 0.0\n",
      "Generating Image Number: 20 for target class tensor([2]). Step 0, Loss: 0.0\n",
      "Generating Image Number: 20 for target class tensor([2]). Step 50, Loss: 0.0\n",
      "Generating Image Number: 20 for target class tensor([2]). Step 100, Loss: 0.0\n",
      "Generating Image Number: 20 for target class tensor([2]). Step 150, Loss: 0.0\n",
      "Generating Image Number: 20 for target class tensor([2]). Step 200, Loss: 0.0\n",
      "Generating Image Number: 20 for target class tensor([2]). Step 250, Loss: 0.0\n",
      "Generating Image Number: 20 for target class tensor([2]). Step 300, Loss: 0.0\n",
      "Generating Image Number: 20 for target class tensor([2]). Step 350, Loss: 0.0\n",
      "Generating Image Number: 20 for target class tensor([2]). Step 400, Loss: 0.0\n",
      "Generating Image Number: 20 for target class tensor([2]). Step 450, Loss: 0.0\n"
     ]
    }
   ],
   "source": [
    "torch.manual_seed(200)\n",
    "latent_vectors = torch.randn(img_count, z_dim, 1, 1, requires_grad=True) # Start with 20 random noises\n",
    "class2_optimized_latent_vectors = recover_images(img_count, 2, latent_vectors)"
   ]
  },
  {
   "cell_type": "code",
   "execution_count": 23,
   "id": "0381b36d-6c92-43bc-b776-1eefd3eab451",
   "metadata": {
    "scrolled": true
   },
   "outputs": [
    {
     "name": "stdout",
     "output_type": "stream",
     "text": [
      "Generating Image Number: 1 for target class tensor([3]). Step 0, Loss: 0.0\n",
      "Generating Image Number: 1 for target class tensor([3]). Step 50, Loss: 0.0\n",
      "Generating Image Number: 1 for target class tensor([3]). Step 100, Loss: 0.0\n",
      "Generating Image Number: 1 for target class tensor([3]). Step 150, Loss: 0.0\n",
      "Generating Image Number: 1 for target class tensor([3]). Step 200, Loss: 0.0\n",
      "Generating Image Number: 1 for target class tensor([3]). Step 250, Loss: 0.0\n",
      "Generating Image Number: 1 for target class tensor([3]). Step 300, Loss: 0.0\n",
      "Generating Image Number: 1 for target class tensor([3]). Step 350, Loss: 0.0\n",
      "Generating Image Number: 1 for target class tensor([3]). Step 400, Loss: 0.0\n",
      "Generating Image Number: 1 for target class tensor([3]). Step 450, Loss: 0.0\n",
      "Generating Image Number: 2 for target class tensor([3]). Step 0, Loss: 12.598223686218262\n",
      "Generating Image Number: 2 for target class tensor([3]). Step 50, Loss: 5.1962890625\n",
      "Generating Image Number: 2 for target class tensor([3]). Step 100, Loss: 4.04293966293335\n",
      "Generating Image Number: 2 for target class tensor([3]). Step 150, Loss: 3.015808582305908\n",
      "Generating Image Number: 2 for target class tensor([3]). Step 200, Loss: 2.107980251312256\n",
      "Generating Image Number: 2 for target class tensor([3]). Step 250, Loss: 1.5386749505996704\n",
      "Generating Image Number: 2 for target class tensor([3]). Step 300, Loss: 0.866411030292511\n",
      "Generating Image Number: 2 for target class tensor([3]). Step 350, Loss: 0.6017414927482605\n",
      "Generating Image Number: 2 for target class tensor([3]). Step 400, Loss: 0.4851820468902588\n",
      "Generating Image Number: 2 for target class tensor([3]). Step 450, Loss: 0.3867030739784241\n",
      "Generating Image Number: 3 for target class tensor([3]). Step 0, Loss: 16.472557067871094\n",
      "Generating Image Number: 3 for target class tensor([3]). Step 50, Loss: 7.083739280700684\n",
      "Generating Image Number: 3 for target class tensor([3]). Step 100, Loss: 4.295873165130615\n",
      "Generating Image Number: 3 for target class tensor([3]). Step 150, Loss: 2.4981539249420166\n",
      "Generating Image Number: 3 for target class tensor([3]). Step 200, Loss: 1.1968317031860352\n",
      "Generating Image Number: 3 for target class tensor([3]). Step 250, Loss: 0.5945476293563843\n",
      "Generating Image Number: 3 for target class tensor([3]). Step 300, Loss: 0.3406991958618164\n",
      "Generating Image Number: 3 for target class tensor([3]). Step 350, Loss: 0.20212455093860626\n",
      "Generating Image Number: 3 for target class tensor([3]). Step 400, Loss: 0.13246577978134155\n",
      "Generating Image Number: 3 for target class tensor([3]). Step 450, Loss: 0.09345412254333496\n",
      "Generating Image Number: 4 for target class tensor([3]). Step 0, Loss: 31.345056533813477\n",
      "Generating Image Number: 4 for target class tensor([3]). Step 50, Loss: 29.829252243041992\n",
      "Generating Image Number: 4 for target class tensor([3]). Step 100, Loss: 28.775415420532227\n",
      "Generating Image Number: 4 for target class tensor([3]). Step 150, Loss: 28.085668563842773\n",
      "Generating Image Number: 4 for target class tensor([3]). Step 200, Loss: 27.568626403808594\n",
      "Generating Image Number: 4 for target class tensor([3]). Step 250, Loss: 27.09665298461914\n",
      "Generating Image Number: 4 for target class tensor([3]). Step 300, Loss: 26.73973846435547\n",
      "Generating Image Number: 4 for target class tensor([3]). Step 350, Loss: 26.39720344543457\n",
      "Generating Image Number: 4 for target class tensor([3]). Step 400, Loss: 26.12409782409668\n",
      "Generating Image Number: 4 for target class tensor([3]). Step 450, Loss: 25.8627872467041\n",
      "Generating Image Number: 5 for target class tensor([3]). Step 0, Loss: 29.510353088378906\n",
      "Generating Image Number: 5 for target class tensor([3]). Step 50, Loss: 4.649927139282227\n",
      "Generating Image Number: 5 for target class tensor([3]). Step 100, Loss: 0.47046777606010437\n",
      "Generating Image Number: 5 for target class tensor([3]). Step 150, Loss: 0.12070072442293167\n",
      "Generating Image Number: 5 for target class tensor([3]). Step 200, Loss: 0.09460444748401642\n",
      "Generating Image Number: 5 for target class tensor([3]). Step 250, Loss: 0.07608561217784882\n",
      "Generating Image Number: 5 for target class tensor([3]). Step 300, Loss: 0.0621948204934597\n",
      "Generating Image Number: 5 for target class tensor([3]). Step 350, Loss: 0.053831636905670166\n",
      "Generating Image Number: 5 for target class tensor([3]). Step 400, Loss: 0.047394055873155594\n",
      "Generating Image Number: 5 for target class tensor([3]). Step 450, Loss: 0.043216168880462646\n",
      "Generating Image Number: 6 for target class tensor([3]). Step 0, Loss: 7.5219292640686035\n",
      "Generating Image Number: 6 for target class tensor([3]). Step 50, Loss: 3.429461717605591\n",
      "Generating Image Number: 6 for target class tensor([3]). Step 100, Loss: 1.9643805027008057\n",
      "Generating Image Number: 6 for target class tensor([3]). Step 150, Loss: 0.0\n",
      "Generating Image Number: 6 for target class tensor([3]). Step 200, Loss: 0.0\n",
      "Generating Image Number: 6 for target class tensor([3]). Step 250, Loss: 0.0\n",
      "Generating Image Number: 6 for target class tensor([3]). Step 300, Loss: 0.0\n",
      "Generating Image Number: 6 for target class tensor([3]). Step 350, Loss: 0.0\n",
      "Generating Image Number: 6 for target class tensor([3]). Step 400, Loss: 0.0\n",
      "Generating Image Number: 6 for target class tensor([3]). Step 450, Loss: 0.0\n",
      "Generating Image Number: 7 for target class tensor([3]). Step 0, Loss: 12.886923789978027\n",
      "Generating Image Number: 7 for target class tensor([3]). Step 50, Loss: 0.07878188788890839\n",
      "Generating Image Number: 7 for target class tensor([3]). Step 100, Loss: 0.03737030550837517\n",
      "Generating Image Number: 7 for target class tensor([3]). Step 150, Loss: 0.02888217754662037\n",
      "Generating Image Number: 7 for target class tensor([3]). Step 200, Loss: 0.0235763993114233\n",
      "Generating Image Number: 7 for target class tensor([3]). Step 250, Loss: 0.02010105550289154\n",
      "Generating Image Number: 7 for target class tensor([3]). Step 300, Loss: 0.018034879118204117\n",
      "Generating Image Number: 7 for target class tensor([3]). Step 350, Loss: 0.016548868268728256\n",
      "Generating Image Number: 7 for target class tensor([3]). Step 400, Loss: 0.014965053647756577\n",
      "Generating Image Number: 7 for target class tensor([3]). Step 450, Loss: 0.01386275514960289\n",
      "Generating Image Number: 8 for target class tensor([3]). Step 0, Loss: 20.640853881835938\n",
      "Generating Image Number: 8 for target class tensor([3]). Step 50, Loss: 5.1441240310668945\n",
      "Generating Image Number: 8 for target class tensor([3]). Step 100, Loss: 4.1548261642456055\n",
      "Generating Image Number: 8 for target class tensor([3]). Step 150, Loss: 2.666297435760498\n",
      "Generating Image Number: 8 for target class tensor([3]). Step 200, Loss: 0.1369439959526062\n",
      "Generating Image Number: 8 for target class tensor([3]). Step 250, Loss: 0.03224581852555275\n",
      "Generating Image Number: 8 for target class tensor([3]). Step 300, Loss: 0.026718953624367714\n",
      "Generating Image Number: 8 for target class tensor([3]). Step 350, Loss: 0.02366919256746769\n",
      "Generating Image Number: 8 for target class tensor([3]). Step 400, Loss: 0.02078898809850216\n",
      "Generating Image Number: 8 for target class tensor([3]). Step 450, Loss: 0.01844855025410652\n",
      "Generating Image Number: 9 for target class tensor([3]). Step 0, Loss: 22.324508666992188\n",
      "Generating Image Number: 9 for target class tensor([3]). Step 50, Loss: 4.180933475494385\n",
      "Generating Image Number: 9 for target class tensor([3]). Step 100, Loss: 3.022786855697632\n",
      "Generating Image Number: 9 for target class tensor([3]). Step 150, Loss: 2.0646815299987793\n",
      "Generating Image Number: 9 for target class tensor([3]). Step 200, Loss: 1.0614808797836304\n",
      "Generating Image Number: 9 for target class tensor([3]). Step 250, Loss: 0.6712731719017029\n",
      "Generating Image Number: 9 for target class tensor([3]). Step 300, Loss: 0.47481483221054077\n",
      "Generating Image Number: 9 for target class tensor([3]). Step 350, Loss: 0.36261454224586487\n",
      "Generating Image Number: 9 for target class tensor([3]). Step 400, Loss: 0.2975451350212097\n",
      "Generating Image Number: 9 for target class tensor([3]). Step 450, Loss: 0.2574237585067749\n",
      "Generating Image Number: 10 for target class tensor([3]). Step 0, Loss: 9.788451194763184\n",
      "Generating Image Number: 10 for target class tensor([3]). Step 50, Loss: 4.525951385498047\n",
      "Generating Image Number: 10 for target class tensor([3]). Step 100, Loss: 2.9783127307891846\n",
      "Generating Image Number: 10 for target class tensor([3]). Step 150, Loss: 1.4509621858596802\n",
      "Generating Image Number: 10 for target class tensor([3]). Step 200, Loss: 0.07593623548746109\n",
      "Generating Image Number: 10 for target class tensor([3]). Step 250, Loss: 0.03738201782107353\n",
      "Generating Image Number: 10 for target class tensor([3]). Step 300, Loss: 0.0280479583889246\n",
      "Generating Image Number: 10 for target class tensor([3]). Step 350, Loss: 0.022335633635520935\n",
      "Generating Image Number: 10 for target class tensor([3]). Step 400, Loss: 0.018266668543219566\n",
      "Generating Image Number: 10 for target class tensor([3]). Step 450, Loss: 0.015399951487779617\n",
      "Generating Image Number: 11 for target class tensor([3]). Step 0, Loss: 22.59269142150879\n",
      "Generating Image Number: 11 for target class tensor([3]). Step 50, Loss: 5.903284072875977\n",
      "Generating Image Number: 11 for target class tensor([3]). Step 100, Loss: 4.725017547607422\n",
      "Generating Image Number: 11 for target class tensor([3]). Step 150, Loss: 3.71920108795166\n",
      "Generating Image Number: 11 for target class tensor([3]). Step 200, Loss: 3.018374443054199\n",
      "Generating Image Number: 11 for target class tensor([3]). Step 250, Loss: 2.2043116092681885\n",
      "Generating Image Number: 11 for target class tensor([3]). Step 300, Loss: 1.2191555500030518\n",
      "Generating Image Number: 11 for target class tensor([3]). Step 350, Loss: 0.7490995526313782\n",
      "Generating Image Number: 11 for target class tensor([3]). Step 400, Loss: 0.5613034963607788\n",
      "Generating Image Number: 11 for target class tensor([3]). Step 450, Loss: 0.4674151539802551\n",
      "Generating Image Number: 12 for target class tensor([3]). Step 0, Loss: 37.357120513916016\n",
      "Generating Image Number: 12 for target class tensor([3]). Step 50, Loss: 5.200141429901123\n",
      "Generating Image Number: 12 for target class tensor([3]). Step 100, Loss: 4.176339626312256\n",
      "Generating Image Number: 12 for target class tensor([3]). Step 150, Loss: 3.4002370834350586\n",
      "Generating Image Number: 12 for target class tensor([3]). Step 200, Loss: 2.4836413860321045\n",
      "Generating Image Number: 12 for target class tensor([3]). Step 250, Loss: 1.7974696159362793\n",
      "Generating Image Number: 12 for target class tensor([3]). Step 300, Loss: 1.1155892610549927\n",
      "Generating Image Number: 12 for target class tensor([3]). Step 350, Loss: 0.5236066579818726\n",
      "Generating Image Number: 12 for target class tensor([3]). Step 400, Loss: 0.21324719488620758\n",
      "Generating Image Number: 12 for target class tensor([3]). Step 450, Loss: 0.13443757593631744\n",
      "Generating Image Number: 13 for target class tensor([3]). Step 0, Loss: 33.25971984863281\n",
      "Generating Image Number: 13 for target class tensor([3]). Step 50, Loss: 4.488929748535156\n",
      "Generating Image Number: 13 for target class tensor([3]). Step 100, Loss: 3.049173355102539\n",
      "Generating Image Number: 13 for target class tensor([3]). Step 150, Loss: 1.291473627090454\n",
      "Generating Image Number: 13 for target class tensor([3]). Step 200, Loss: 0.3821251392364502\n",
      "Generating Image Number: 13 for target class tensor([3]). Step 250, Loss: 0.11422193050384521\n",
      "Generating Image Number: 13 for target class tensor([3]). Step 300, Loss: 0.06683859974145889\n",
      "Generating Image Number: 13 for target class tensor([3]). Step 350, Loss: 0.05205328017473221\n",
      "Generating Image Number: 13 for target class tensor([3]). Step 400, Loss: 0.04141904413700104\n",
      "Generating Image Number: 13 for target class tensor([3]). Step 450, Loss: 0.03378695994615555\n",
      "Generating Image Number: 14 for target class tensor([3]). Step 0, Loss: 16.59133529663086\n",
      "Generating Image Number: 14 for target class tensor([3]). Step 50, Loss: 2.081033229827881\n",
      "Generating Image Number: 14 for target class tensor([3]). Step 100, Loss: 1.1643933057785034\n",
      "Generating Image Number: 14 for target class tensor([3]). Step 150, Loss: 0.5798431038856506\n",
      "Generating Image Number: 14 for target class tensor([3]). Step 200, Loss: 0.3545648157596588\n",
      "Generating Image Number: 14 for target class tensor([3]). Step 250, Loss: 0.23979322612285614\n",
      "Generating Image Number: 14 for target class tensor([3]). Step 300, Loss: 0.1770772635936737\n",
      "Generating Image Number: 14 for target class tensor([3]). Step 350, Loss: 0.1440923660993576\n",
      "Generating Image Number: 14 for target class tensor([3]). Step 400, Loss: 0.12275339663028717\n",
      "Generating Image Number: 14 for target class tensor([3]). Step 450, Loss: 0.10507341474294662\n",
      "Generating Image Number: 15 for target class tensor([3]). Step 0, Loss: 17.5263671875\n",
      "Generating Image Number: 15 for target class tensor([3]). Step 50, Loss: 4.88124418258667\n",
      "Generating Image Number: 15 for target class tensor([3]). Step 100, Loss: 4.172983646392822\n",
      "Generating Image Number: 15 for target class tensor([3]). Step 150, Loss: 3.5082225799560547\n",
      "Generating Image Number: 15 for target class tensor([3]). Step 200, Loss: 2.671741008758545\n",
      "Generating Image Number: 15 for target class tensor([3]). Step 250, Loss: 1.8051589727401733\n",
      "Generating Image Number: 15 for target class tensor([3]). Step 300, Loss: 1.0626914501190186\n",
      "Generating Image Number: 15 for target class tensor([3]). Step 350, Loss: 0.7606117725372314\n",
      "Generating Image Number: 15 for target class tensor([3]). Step 400, Loss: 0.5925650596618652\n",
      "Generating Image Number: 15 for target class tensor([3]). Step 450, Loss: 0.48073887825012207\n",
      "Generating Image Number: 16 for target class tensor([3]). Step 0, Loss: 35.72074890136719\n",
      "Generating Image Number: 16 for target class tensor([3]). Step 50, Loss: 11.292376518249512\n",
      "Generating Image Number: 16 for target class tensor([3]). Step 100, Loss: 0.000514017534442246\n",
      "Generating Image Number: 16 for target class tensor([3]). Step 150, Loss: 2.098061486321967e-05\n",
      "Generating Image Number: 16 for target class tensor([3]). Step 200, Loss: 1.5020257706055418e-05\n",
      "Generating Image Number: 16 for target class tensor([3]). Step 250, Loss: 1.3470558769768104e-05\n",
      "Generating Image Number: 16 for target class tensor([3]). Step 300, Loss: 1.3470558769768104e-05\n",
      "Generating Image Number: 16 for target class tensor([3]). Step 350, Loss: 1.3232143828645349e-05\n",
      "Generating Image Number: 16 for target class tensor([3]). Step 400, Loss: 1.3351351299206726e-05\n",
      "Generating Image Number: 16 for target class tensor([3]). Step 450, Loss: 1.3351351299206726e-05\n",
      "Generating Image Number: 17 for target class tensor([3]). Step 0, Loss: 15.194278717041016\n",
      "Generating Image Number: 17 for target class tensor([3]). Step 50, Loss: 0.0002674698771443218\n",
      "Generating Image Number: 17 for target class tensor([3]). Step 100, Loss: 3.6954811548639555e-06\n",
      "Generating Image Number: 17 for target class tensor([3]). Step 150, Loss: 3.576272320060525e-06\n",
      "Generating Image Number: 17 for target class tensor([3]). Step 200, Loss: 3.4570634852570947e-06\n",
      "Generating Image Number: 17 for target class tensor([3]). Step 250, Loss: 3.3378546504536644e-06\n",
      "Generating Image Number: 17 for target class tensor([3]). Step 300, Loss: 3.099436753473128e-06\n",
      "Generating Image Number: 17 for target class tensor([3]). Step 350, Loss: 2.9802276912960224e-06\n",
      "Generating Image Number: 17 for target class tensor([3]). Step 400, Loss: 2.861018856492592e-06\n",
      "Generating Image Number: 17 for target class tensor([3]). Step 450, Loss: 2.622600959512056e-06\n",
      "Generating Image Number: 18 for target class tensor([3]). Step 0, Loss: 38.15671157836914\n",
      "Generating Image Number: 18 for target class tensor([3]). Step 50, Loss: 30.281761169433594\n",
      "Generating Image Number: 18 for target class tensor([3]). Step 100, Loss: 29.511295318603516\n",
      "Generating Image Number: 18 for target class tensor([3]). Step 150, Loss: 28.810163497924805\n",
      "Generating Image Number: 18 for target class tensor([3]). Step 200, Loss: 28.100418090820312\n",
      "Generating Image Number: 18 for target class tensor([3]). Step 250, Loss: 27.6003360748291\n",
      "Generating Image Number: 18 for target class tensor([3]). Step 300, Loss: 27.21025276184082\n",
      "Generating Image Number: 18 for target class tensor([3]). Step 350, Loss: 26.699071884155273\n",
      "Generating Image Number: 18 for target class tensor([3]). Step 400, Loss: 26.317197799682617\n",
      "Generating Image Number: 18 for target class tensor([3]). Step 450, Loss: 25.912425994873047\n",
      "Generating Image Number: 19 for target class tensor([3]). Step 0, Loss: 39.56532287597656\n",
      "Generating Image Number: 19 for target class tensor([3]). Step 50, Loss: 30.763357162475586\n",
      "Generating Image Number: 19 for target class tensor([3]). Step 100, Loss: 30.549537658691406\n",
      "Generating Image Number: 19 for target class tensor([3]). Step 150, Loss: 30.38008689880371\n",
      "Generating Image Number: 19 for target class tensor([3]). Step 200, Loss: 30.24772071838379\n",
      "Generating Image Number: 19 for target class tensor([3]). Step 250, Loss: 30.143714904785156\n",
      "Generating Image Number: 19 for target class tensor([3]). Step 300, Loss: 30.05315399169922\n",
      "Generating Image Number: 19 for target class tensor([3]). Step 350, Loss: 29.96262550354004\n",
      "Generating Image Number: 19 for target class tensor([3]). Step 400, Loss: 29.84657859802246\n",
      "Generating Image Number: 19 for target class tensor([3]). Step 450, Loss: 29.727933883666992\n",
      "Generating Image Number: 20 for target class tensor([3]). Step 0, Loss: 22.203699111938477\n",
      "Generating Image Number: 20 for target class tensor([3]). Step 50, Loss: 0.00021884430316276848\n",
      "Generating Image Number: 20 for target class tensor([3]). Step 100, Loss: 0.0001802282058633864\n",
      "Generating Image Number: 20 for target class tensor([3]). Step 150, Loss: 0.00016139635408762842\n",
      "Generating Image Number: 20 for target class tensor([3]). Step 200, Loss: 0.00013290952483657748\n",
      "Generating Image Number: 20 for target class tensor([3]). Step 250, Loss: 9.30981186684221e-05\n",
      "Generating Image Number: 20 for target class tensor([3]). Step 300, Loss: 5.709961988031864e-05\n",
      "Generating Image Number: 20 for target class tensor([3]). Step 350, Loss: 3.5523738915799186e-05\n",
      "Generating Image Number: 20 for target class tensor([3]). Step 400, Loss: 2.539125671319198e-05\n",
      "Generating Image Number: 20 for target class tensor([3]). Step 450, Loss: 1.3828182090946939e-05\n"
     ]
    }
   ],
   "source": [
    "torch.manual_seed(300)\n",
    "latent_vectors = torch.randn(img_count, z_dim, 1, 1, requires_grad=True) # Start with 20 random noises\n",
    "class3_optimized_latent_vectors = recover_images(img_count, 3, latent_vectors)"
   ]
  },
  {
   "cell_type": "code",
   "execution_count": 24,
   "id": "ae6425a5-dd86-4e87-8112-883336345ac9",
   "metadata": {},
   "outputs": [],
   "source": [
    "z0_1 = class0_optimized_latent_vectors[0]\n",
    "z0_2 = class0_optimized_latent_vectors[1]\n",
    "z0_3 = class0_optimized_latent_vectors[2]"
   ]
  },
  {
   "cell_type": "code",
   "execution_count": 28,
   "id": "07f38b7d-14f6-4d63-9efa-cb96ec2e1d35",
   "metadata": {},
   "outputs": [
    {
     "name": "stdout",
     "output_type": "stream",
     "text": [
      "torch.Size([64, 64])\n"
     ]
    }
   ],
   "source": [
    "# Display the generated image\n",
    "img = gen(z1.to(device)).squeeze(dim=0).squeeze(dim=0)\n",
    "print(img.shape)"
   ]
  },
  {
   "cell_type": "code",
   "execution_count": 29,
   "id": "8cad57ff-7961-4078-9dd4-1e0b4879ff56",
   "metadata": {},
   "outputs": [
    {
     "data": {
      "text/plain": [
       "<matplotlib.image.AxesImage at 0x148b9bd6580>"
      ]
     },
     "execution_count": 29,
     "metadata": {},
     "output_type": "execute_result"
    },
    {
     "data": {
      "image/png": "[encoded data removed]",
      "text/plain": [
       "<Figure size 640x480 with 1 Axes>"
      ]
     },
     "metadata": {},
     "output_type": "display_data"
    }
   ],
   "source": [
    "plt.axis(False)\n",
    "plt.title('Recovered Image:')\n",
    "plt.imshow(img.cpu().detach(), cmap='gray')"
   ]
  },
  {
   "cell_type": "code",
   "execution_count": 30,
   "id": "52ecd67d-cb2d-44a3-b375-759d63db75b1",
   "metadata": {},
   "outputs": [],
   "source": [
    "                                                            # Dataset Loading\n",
    "# Load the .pkl files in as numpy arrays of pixels\n",
    "def load_tumor_data(file_path):\n",
    "    train_xs = []\n",
    "    train_ys = []\n",
    "    \"\"\" Load Digits Data from pickle data\n",
    "    return:\n",
    "    @xs: numpy.array, (n, c, w, h) \n",
    "    @ys: numpy.array, (n, ), 0-9\n",
    "    \"\"\"\n",
    "    with open(file_path, 'rb') as file:\n",
    "        data = pickle.load(file)\n",
    "        train_xs.append(data[\"data\"])\n",
    "        train_ys.append(data[\"labels\"])\n",
    "    train_xs = np.concatenate(train_xs, axis=0)\n",
    "    train_ys = np.concatenate(train_ys, axis=0)\n",
    "    \n",
    "    return train_xs, train_ys"
   ]
  },
  {
   "cell_type": "code",
   "execution_count": 31,
   "id": "ca72f62f-1eec-4b17-a8ce-fd66781f64f6",
   "metadata": {},
   "outputs": [],
   "source": [
    "# Custom Tumor Dataset\n",
    "class TumorDataset(data.Dataset):\n",
    "    def __init__(self, xs, ys, is_train=True):\n",
    "        self.xs = xs\n",
    "        self.ys = ys\n",
    "\n",
    "        if is_train is True:\n",
    "            self.transform = transforms.Compose([\n",
    "                transforms.ToPILImage(),\n",
    "                transforms.Resize((64, 64)),\n",
    "                transforms.ToTensor(),\n",
    "                transforms.Normalize(\n",
    "                    [0.5],\n",
    "                    [0.5]\n",
    "                )\n",
    "            ])\n",
    "        else:\n",
    "            self.transform = transforms.Compose([\n",
    "                transforms.ToPILImage(),\n",
    "                transforms.Resize((64, 64)),\n",
    "                transforms.ToTensor(),\n",
    "                transforms.Normalize(\n",
    "                    (0.4914, 0.4822, 0.4465),\n",
    "                    (0.2023, 0.1994, 0.2010)\n",
    "                )\n",
    "            ])\n",
    "\n",
    "    def __len__(self):\n",
    "        return len(self.xs)\n",
    "\n",
    "    def __getitem__(self, index):\n",
    "        img = self.xs[index]\n",
    "        #print(img.shape)\n",
    "        label = self.ys[index]\n",
    "\n",
    "        img = img.transpose((1, 2, 0)).astype(np.uint8)\n",
    "        img = self.transform(img)\n",
    "\n",
    "        img = torch.FloatTensor(img)\n",
    "        label = torch.LongTensor([label])[0]\n",
    "        return img, label"
   ]
  },
  {
   "cell_type": "code",
   "execution_count": 32,
   "id": "ceb91588-ef69-4373-b33f-74aed6c246bb",
   "metadata": {},
   "outputs": [],
   "source": [
    "def create_dataset(train_xs, train_ys):\n",
    "    tumor_dataset = TumorDataset(train_xs, train_ys, is_train=True)\n",
    "\n",
    "    return tumor_dataset"
   ]
  },
  {
   "cell_type": "code",
   "execution_count": 33,
   "id": "0415fba0-830c-42c6-bbde-c6958e779fbb",
   "metadata": {},
   "outputs": [],
   "source": [
    "def create_dataloader(dataset):\n",
    "    dataloader = DataLoader(dataset=dataset, batch_size=128, shuffle=True)\n",
    "\n",
    "    return dataloader"
   ]
  },
  {
   "cell_type": "code",
   "execution_count": 34,
   "id": "726d4995-5133-4037-ab0e-f2705470cdc9",
   "metadata": {},
   "outputs": [
    {
     "name": "stdout",
     "output_type": "stream",
     "text": [
      "(13927, 1, 32, 32)\n",
      "<class 'numpy.ndarray'>\n"
     ]
    }
   ],
   "source": [
    "# Load in the pickle dataset file\n",
    "train_xs, train_ys = load_tumor_data('datasets/Tumor/tumor4train.pkl')\n",
    "#train_xs = train_xs[:, 1, :, :]\n",
    "#train_xs = np.expand_dims(train_xs, axis=1)\n",
    "train_xs = train_xs.mean(axis=1, keepdims=True)\n",
    "print(train_xs.shape)\n",
    "print(type(train_xs))"
   ]
  },
  {
   "cell_type": "code",
   "execution_count": 35,
   "id": "a684b01a-eb4a-4210-9f59-d613085a404a",
   "metadata": {},
   "outputs": [],
   "source": [
    "# Create the dataset\n",
    "tumor_dataset = create_dataset(train_xs, train_ys)"
   ]
  },
  {
   "cell_type": "code",
   "execution_count": 36,
   "id": "193f07cc-d34f-425e-aa08-62b6d6adbad6",
   "metadata": {},
   "outputs": [],
   "source": [
    "def visualize_image(image_x):\n",
    "    # We have to visualize by reverting the normalization (just for visualization).\n",
    "    mean = torch.tensor([0.5])\n",
    "    std = torch.tensor([0.5])\n",
    "\n",
    "    image = image_x * std + mean  # Denormalize the image\n",
    "\n",
    "    image = torch.clamp(image, 0, 1) # Clip values to [0, 1] to ensure valid range for display\n",
    "\n",
    "    # Permute the image to (H, W, C) for matplotlib\n",
    "    \n",
    "    image = image.permute(1, 2, 0)\n",
    "\n",
    "    plt.imshow(image, cmap='gray')"
   ]
  },
  {
   "cell_type": "code",
   "execution_count": 37,
   "id": "16e93c17-a89b-46a2-8198-71e66e370f4f",
   "metadata": {},
   "outputs": [
    {
     "name": "stdout",
     "output_type": "stream",
     "text": [
      "torch.Size([1, 64, 64])\n"
     ]
    },
    {
     "data": {
      "image/png": "[encoded data removed]",
      "text/plain": [
       "<Figure size 640x480 with 1 Axes>"
      ]
     },
     "metadata": {},
     "output_type": "display_data"
    }
   ],
   "source": [
    "# Visualize the first tumor sample. \n",
    "image_x, image_y = tumor_dataset[7000]\n",
    "print(image_x.shape)\n",
    "visualize_image(image_x)"
   ]
  },
  {
   "cell_type": "code",
   "execution_count": 38,
   "id": "60e2da47-7cb6-493e-aeda-aa80d7965de7",
   "metadata": {},
   "outputs": [],
   "source": [
    "from scipy.spatial.distance import cosine"
   ]
  },
  {
   "cell_type": "code",
   "execution_count": 39,
   "id": "5a7937e5-b808-4b3e-8288-75dcd9862340",
   "metadata": {},
   "outputs": [],
   "source": [
    "# Get the feature embeddings\n",
    "tfcnn_model = target_model = load_target_model(base_net='TFCNN', n_classes=4, path='saved models/fedavg_global_model.pth').to(device)\n",
    "model_embeddings = tfcnn_model.encoder.to(device)"
   ]
  },
  {
   "cell_type": "code",
   "execution_count": 40,
   "id": "737e3d92-45b6-45f6-9bf2-d51f379d6ac8",
   "metadata": {},
   "outputs": [],
   "source": [
    "# Preprocessing\n",
    "preprocess = transforms.Compose([\n",
    "    transforms.Resize(256),\n",
    "    transforms.CenterCrop(224),\n",
    "    transforms.ToTensor(),\n",
    "])"
   ]
  },
  {
   "cell_type": "code",
   "execution_count": 41,
   "id": "babb1015-bdfb-439b-bea1-81f9f50dd74e",
   "metadata": {},
   "outputs": [],
   "source": [
    "def get_feature(img):\n",
    "    with torch.no_grad():\n",
    "        features = model_embeddings(img).squeeze()\n",
    "    return features.cpu().numpy()"
   ]
  },
  {
   "cell_type": "code",
   "execution_count": 42,
   "id": "79f38654-6670-440d-a322-b2cae18a71d8",
   "metadata": {},
   "outputs": [
    {
     "data": {
      "text/plain": [
       "torch.Size([1, 64, 64])"
      ]
     },
     "execution_count": 42,
     "metadata": {},
     "output_type": "execute_result"
    }
   ],
   "source": [
    "# Send an original image through the model\n",
    "image_x, image_y = tumor_dataset[10]\n",
    "image_x.shape"
   ]
  },
  {
   "cell_type": "code",
   "execution_count": 43,
   "id": "a4a2659e-dcaa-4d4a-b5a5-06b363ce6534",
   "metadata": {},
   "outputs": [],
   "source": [
    "image_x = image_x.unsqueeze(dim=0)"
   ]
  },
  {
   "cell_type": "code",
   "execution_count": 44,
   "id": "14348bfc-5988-48f0-88cf-4761d7a99d89",
   "metadata": {},
   "outputs": [
    {
     "data": {
      "text/plain": [
       "torch.Size([1, 1, 64, 64])"
      ]
     },
     "execution_count": 44,
     "metadata": {},
     "output_type": "execute_result"
    }
   ],
   "source": [
    "image_x.shape"
   ]
  },
  {
   "cell_type": "code",
   "execution_count": 45,
   "id": "66160253-9543-4aba-bb81-031d51ef9623",
   "metadata": {},
   "outputs": [
    {
     "data": {
      "text/plain": [
       "torch.Size([1, 3, 64, 64])"
      ]
     },
     "execution_count": 45,
     "metadata": {},
     "output_type": "execute_result"
    }
   ],
   "source": [
    "image_x = image_x.repeat(1, 3, 1, 1)\n",
    "image_x = image_x.to(device)\n",
    "image_x.shape"
   ]
  },
  {
   "cell_type": "code",
   "execution_count": 46,
   "id": "f615c7d3-2dab-425d-81e1-2595ec59e230",
   "metadata": {},
   "outputs": [
    {
     "data": {
      "text/plain": [
       "(4096,)"
      ]
     },
     "execution_count": 46,
     "metadata": {},
     "output_type": "execute_result"
    }
   ],
   "source": [
    "features = get_feature(image_x)\n",
    "features.shape"
   ]
  },
  {
   "cell_type": "code",
   "execution_count": 47,
   "id": "31b9ddc9-3fc8-4a47-bfc7-74a6df27d672",
   "metadata": {},
   "outputs": [],
   "source": [
    "class0_original_images = []\n",
    "class1_original_images = []\n",
    "class2_original_images = []\n",
    "class3_original_images = []\n",
    "target_num = 20 # 20 images for each class"
   ]
  },
  {
   "cell_type": "code",
   "execution_count": 48,
   "id": "e804c948-2dc8-41df-a633-113300baf12a",
   "metadata": {},
   "outputs": [],
   "source": [
    "for i in range(len(tumor_dataset)):\n",
    "    img_x, img_y = tumor_dataset[i]\n",
    "\n",
    "    if img_y == 0:\n",
    "        if len(class0_original_images) < target_num:\n",
    "            class0_original_images.append(img_x)\n",
    "    elif img_y == 1:\n",
    "        if len(class1_original_images) < target_num:\n",
    "            class1_original_images.append(img_x)\n",
    "    elif img_y == 2:\n",
    "        if len(class2_original_images) < target_num:\n",
    "            class2_original_images.append(img_x)\n",
    "    elif img_y == 3:\n",
    "        if len(class3_original_images) < target_num:\n",
    "            class3_original_images.append(img_x)"
   ]
  },
  {
   "cell_type": "code",
   "execution_count": 49,
   "id": "ef07c896-c4cd-48da-9e59-c9d7bd90a4e8",
   "metadata": {},
   "outputs": [
    {
     "data": {
      "text/plain": [
       "20"
      ]
     },
     "execution_count": 49,
     "metadata": {},
     "output_type": "execute_result"
    }
   ],
   "source": [
    "len(class3_original_images)"
   ]
  },
  {
   "cell_type": "code",
   "execution_count": 50,
   "id": "e102404a-68a3-40c5-99a7-45813eb87f20",
   "metadata": {},
   "outputs": [
    {
     "data": {
      "text/plain": [
       "torch.Size([1, 3, 64, 64])"
      ]
     },
     "execution_count": 50,
     "metadata": {},
     "output_type": "execute_result"
    }
   ],
   "source": [
    "# Testing the cosine similarity\n",
    "class1_original_image = class1_original_images[8]\n",
    "class1_original_image = class1_original_image.unsqueeze(dim=0).to(device)\n",
    "class1_original_image = class1_original_image.repeat(1, 3, 1, 1)\n",
    "class1_original_image.shape"
   ]
  },
  {
   "cell_type": "code",
   "execution_count": 51,
   "id": "d7fe9c85-2c83-4580-be7d-32833b706948",
   "metadata": {},
   "outputs": [],
   "source": [
    "fake1 = class1_optimized_latent_vectors[8]\n",
    "fake1_image = gen(fake1.to(device))\n",
    "fake1_image = fake1_image.repeat(1, 3, 1, 1)"
   ]
  },
  {
   "cell_type": "code",
   "execution_count": 52,
   "id": "74647152-cdcb-4593-a88f-d3ac43fd97d3",
   "metadata": {},
   "outputs": [
    {
     "data": {
      "text/plain": [
       "torch.Size([1, 3, 64, 64])"
      ]
     },
     "execution_count": 52,
     "metadata": {},
     "output_type": "execute_result"
    }
   ],
   "source": [
    "fake1_image.shape"
   ]
  },
  {
   "cell_type": "code",
   "execution_count": 53,
   "id": "9224af80-28e3-4c0c-801b-12f4a722b66a",
   "metadata": {},
   "outputs": [
    {
     "name": "stdout",
     "output_type": "stream",
     "text": [
      "torch.Size([1, 64, 64])\n"
     ]
    },
    {
     "data": {
      "image/png": "[encoded data removed]",
      "text/plain": [
       "<Figure size 640x480 with 1 Axes>"
      ]
     },
     "metadata": {},
     "output_type": "display_data"
    }
   ],
   "source": [
    "fake = class3_optimized_latent_vectors[3]\n",
    "fake_img = gen(fake.to(device)).squeeze(dim=0)\n",
    "print(fake_img.shape)\n",
    "visualize_image(fake_img.detach().cpu())"
   ]
  },
  {
   "cell_type": "code",
   "execution_count": 54,
   "id": "e88f6396-0ef2-45f5-96e0-6048be01af25",
   "metadata": {},
   "outputs": [],
   "source": [
    "# Get the features of the images\n",
    "features_original = get_feature(class1_original_image)\n",
    "features_fake = get_feature(fake1_image)"
   ]
  },
  {
   "cell_type": "code",
   "execution_count": 55,
   "id": "b54e2bca-5f2b-41ea-b810-15d1f9d30f86",
   "metadata": {},
   "outputs": [],
   "source": [
    "# Compute cosine similarity\n",
    "similarity = 1 - cosine(features_original, features_fake)"
   ]
  },
  {
   "cell_type": "code",
   "execution_count": 56,
   "id": "983c7e35-27ee-453c-9356-cb9a84fdd4a3",
   "metadata": {},
   "outputs": [
    {
     "data": {
      "text/plain": [
       "np.float32(0.48753256)"
      ]
     },
     "execution_count": 56,
     "metadata": {},
     "output_type": "execute_result"
    }
   ],
   "source": [
    "similarity"
   ]
  },
  {
   "cell_type": "code",
   "execution_count": 57,
   "id": "e65e04e8-52b7-4cf2-876c-d9b07a435ec9",
   "metadata": {},
   "outputs": [],
   "source": [
    "def calculate_class0_sim():\n",
    "    similarities = []\n",
    "    for i in range(0, 20):\n",
    "        class0_original = class0_original_images[i].unsqueeze(dim=0).to(device)\n",
    "        class0_original = class0_original.repeat(1, 3, 1, 1)\n",
    "\n",
    "        class0_fake = class0_optimized_latent_vectors[i]\n",
    "        class0_fake_img = gen(class0_fake.to(device))\n",
    "        class0_fake_img = class0_fake_img.repeat(1, 3, 1, 1)\n",
    "\n",
    "        features_original = get_feature(class0_original)\n",
    "        features_fake = get_feature(class0_fake_img)\n",
    "\n",
    "        cosine_similarity = 1 - cosine(features_original, features_fake)\n",
    "\n",
    "        similarities.append(cosine_similarity)\n",
    "        \n",
    "    return similarities"
   ]
  },
  {
   "cell_type": "code",
   "execution_count": 58,
   "id": "10d8f579-0b80-4157-b59b-7b92be9e52f2",
   "metadata": {},
   "outputs": [],
   "source": [
    "def calculate_class1_sim():\n",
    "    similarities = []\n",
    "    for i in range(0, 20):\n",
    "        class1_original = class1_original_images[i].unsqueeze(dim=0).to(device)\n",
    "        class1_original = class1_original.repeat(1, 3, 1, 1)\n",
    "\n",
    "        class1_fake = class1_optimized_latent_vectors[i]\n",
    "        class1_fake_img = gen(class1_fake.to(device))\n",
    "        class1_fake_img = class1_fake_img.repeat(1, 3, 1, 1)\n",
    "\n",
    "        features_original = get_feature(class1_original)\n",
    "        features_fake = get_feature(class1_fake_img)\n",
    "\n",
    "        cosine_similarity = 1 - cosine(features_original, features_fake)\n",
    "        similarities.append(cosine_similarity)\n",
    "\n",
    "    return similarities"
   ]
  },
  {
   "cell_type": "code",
   "execution_count": 59,
   "id": "1bbdc999-fa6d-4005-b785-3c54a7bd89ee",
   "metadata": {},
   "outputs": [],
   "source": [
    "def calculate_class2_sim():\n",
    "    similarities = []\n",
    "    for i in range(0, 20):\n",
    "        class2_original = class2_original_images[i].unsqueeze(dim=0).to(device)\n",
    "        class2_original = class2_original.repeat(1, 3, 1, 1)\n",
    "\n",
    "        class2_fake = class2_optimized_latent_vectors[i]\n",
    "        class2_fake_img = gen(class2_fake.to(device))\n",
    "        class2_fake_img = class2_fake_img.repeat(1, 3, 1, 1)\n",
    "\n",
    "        features_original = get_feature(class2_original)\n",
    "        features_fake = get_feature(class2_fake_img)\n",
    "\n",
    "        cosine_similarity = 1 - cosine(features_original, features_fake)\n",
    "        similarities.append(cosine_similarity)\n",
    "\n",
    "    return similarities"
   ]
  },
  {
   "cell_type": "code",
   "execution_count": 60,
   "id": "33cb8de1-5a87-4dd4-8fc2-d3f27d6ddc9a",
   "metadata": {},
   "outputs": [],
   "source": [
    "def calculate_class3_sim():\n",
    "    similarities = []\n",
    "    for i in range(0, 20):\n",
    "        class3_original = class3_original_images[i].unsqueeze(dim=0).to(device)\n",
    "        class3_original = class3_original.repeat(1, 3, 1, 1)\n",
    "\n",
    "        class3_fake = class3_optimized_latent_vectors[i]\n",
    "        class3_fake_img = gen(class3_fake.to(device))\n",
    "        class3_fake_img = class3_fake_img.repeat(1, 3, 1, 1)\n",
    "\n",
    "        features_original = get_feature(class3_original)\n",
    "        features_fake = get_feature(class3_fake_img)\n",
    "\n",
    "        cosine_similarity = 1 - cosine(features_original, features_fake)\n",
    "        similarities.append(cosine_similarity)\n",
    "\n",
    "    return similarities"
   ]
  },
  {
   "cell_type": "code",
   "execution_count": 61,
   "id": "7868f175-5845-4ee4-b4cf-1c89513375ec",
   "metadata": {},
   "outputs": [],
   "source": [
    "class0_sims = calculate_class0_sim()\n",
    "class1_sims = calculate_class0_sim()\n",
    "class2_sims = calculate_class0_sim()\n",
    "class3_sims = calculate_class0_sim()"
   ]
  },
  {
   "cell_type": "code",
   "execution_count": 62,
   "id": "bbf4597d-a583-4204-a3ce-9085936e0189",
   "metadata": {},
   "outputs": [
    {
     "data": {
      "text/plain": [
       "[np.float32(0.465899),\n",
       " np.float32(0.5544728),\n",
       " np.float32(0.47647882),\n",
       " np.float32(0.5032325),\n",
       " np.float32(0.4995451),\n",
       " np.float32(0.5994923),\n",
       " np.float32(0.63826674),\n",
       " np.float32(0.6478325),\n",
       " np.float32(0.4235463),\n",
       " np.float32(0.51379204),\n",
       " np.float32(0.54354894),\n",
       " np.float32(0.021183789),\n",
       " np.float32(0.022586107),\n",
       " np.float32(0.5859164),\n",
       " np.float32(0.6084799),\n",
       " np.float32(0.5897165),\n",
       " np.float32(0.5768143),\n",
       " np.float32(0.6063779),\n",
       " np.float32(0.5106938),\n",
       " np.float32(0.5888723)]"
      ]
     },
     "execution_count": 62,
     "metadata": {},
     "output_type": "execute_result"
    }
   ],
   "source": [
    "class0_sims"
   ]
  },
  {
   "cell_type": "code",
   "execution_count": 63,
   "id": "acb9d480-a58f-4ce6-8973-eb9c8d6e7253",
   "metadata": {},
   "outputs": [
    {
     "data": {
      "text/plain": [
       "[np.float32(0.465899),\n",
       " np.float32(0.55447316),\n",
       " np.float32(0.47647882),\n",
       " np.float32(0.5032325),\n",
       " np.float32(0.4995451),\n",
       " np.float32(0.5994923),\n",
       " np.float32(0.63826674),\n",
       " np.float32(0.6478325),\n",
       " np.float32(0.42354655),\n",
       " np.float32(0.5137923),\n",
       " np.float32(0.543549),\n",
       " np.float32(0.021183789),\n",
       " np.float32(0.022586107),\n",
       " np.float32(0.5859164),\n",
       " np.float32(0.60847986),\n",
       " np.float32(0.58971673),\n",
       " np.float32(0.57681406),\n",
       " np.float32(0.6063778),\n",
       " np.float32(0.5106933),\n",
       " np.float32(0.5888723)]"
      ]
     },
     "execution_count": 63,
     "metadata": {},
     "output_type": "execute_result"
    }
   ],
   "source": [
    "class3_sims"
   ]
  },
  {
   "cell_type": "code",
   "execution_count": 65,
   "id": "58dc103d-1c30-473a-adc3-fcd5ca5100a0",
   "metadata": {},
   "outputs": [
    {
     "ename": "FileNotFoundError",
     "evalue": "[Errno 2] No such file or directory: 'output/fedvg.png'",
     "output_type": "error",
     "traceback": [
      "\u001b[1;31m---------------------------------------------------------------------------\u001b[0m",
      "\u001b[1;31mFileNotFoundError\u001b[0m                         Traceback (most recent call last)",
      "Cell \u001b[1;32mIn[65], line 43\u001b[0m\n\u001b[0;32m     41\u001b[0m plt\u001b[38;5;241m.\u001b[39mtight_layout()\n\u001b[0;32m     42\u001b[0m \u001b[38;5;66;03m# Save the plot to a file\u001b[39;00m\n\u001b[1;32m---> 43\u001b[0m \u001b[43mplt\u001b[49m\u001b[38;5;241;43m.\u001b[39;49m\u001b[43msavefig\u001b[49m\u001b[43m(\u001b[49m\u001b[38;5;124;43m'\u001b[39;49m\u001b[38;5;124;43moutput/fedvg.png\u001b[39;49m\u001b[38;5;124;43m'\u001b[39;49m\u001b[43m,\u001b[49m\u001b[43m \u001b[49m\u001b[43mdpi\u001b[49m\u001b[38;5;241;43m=\u001b[39;49m\u001b[38;5;241;43m300\u001b[39;49m\u001b[43m,\u001b[49m\u001b[43m \u001b[49m\u001b[43mbbox_inches\u001b[49m\u001b[38;5;241;43m=\u001b[39;49m\u001b[38;5;124;43m'\u001b[39;49m\u001b[38;5;124;43mtight\u001b[39;49m\u001b[38;5;124;43m'\u001b[39;49m\u001b[43m)\u001b[49m  \u001b[38;5;66;03m# Save as a PNG file with high resolution\u001b[39;00m\n\u001b[0;32m     45\u001b[0m \u001b[38;5;66;03m# Show the plot\u001b[39;00m\n\u001b[0;32m     46\u001b[0m plt\u001b[38;5;241m.\u001b[39mshow()\n",
      "File \u001b[1;32m~\\AppData\\Local\\Programs\\Python\\Python39\\lib\\site-packages\\matplotlib\\pyplot.py:1228\u001b[0m, in \u001b[0;36msavefig\u001b[1;34m(*args, **kwargs)\u001b[0m\n\u001b[0;32m   1225\u001b[0m fig \u001b[38;5;241m=\u001b[39m gcf()\n\u001b[0;32m   1226\u001b[0m \u001b[38;5;66;03m# savefig default implementation has no return, so mypy is unhappy\u001b[39;00m\n\u001b[0;32m   1227\u001b[0m \u001b[38;5;66;03m# presumably this is here because subclasses can return?\u001b[39;00m\n\u001b[1;32m-> 1228\u001b[0m res \u001b[38;5;241m=\u001b[39m fig\u001b[38;5;241m.\u001b[39msavefig(\u001b[38;5;241m*\u001b[39margs, \u001b[38;5;241m*\u001b[39m\u001b[38;5;241m*\u001b[39mkwargs)  \u001b[38;5;66;03m# type: ignore[func-returns-value]\u001b[39;00m\n\u001b[0;32m   1229\u001b[0m fig\u001b[38;5;241m.\u001b[39mcanvas\u001b[38;5;241m.\u001b[39mdraw_idle()  \u001b[38;5;66;03m# Need this if 'transparent=True', to reset colors.\u001b[39;00m\n\u001b[0;32m   1230\u001b[0m \u001b[38;5;28;01mreturn\u001b[39;00m res\n",
      "File \u001b[1;32m~\\AppData\\Local\\Programs\\Python\\Python39\\lib\\site-packages\\matplotlib\\figure.py:3395\u001b[0m, in \u001b[0;36mFigure.savefig\u001b[1;34m(self, fname, transparent, **kwargs)\u001b[0m\n\u001b[0;32m   3393\u001b[0m     \u001b[38;5;28;01mfor\u001b[39;00m ax \u001b[38;5;129;01min\u001b[39;00m \u001b[38;5;28mself\u001b[39m\u001b[38;5;241m.\u001b[39maxes:\n\u001b[0;32m   3394\u001b[0m         _recursively_make_axes_transparent(stack, ax)\n\u001b[1;32m-> 3395\u001b[0m \u001b[38;5;28mself\u001b[39m\u001b[38;5;241m.\u001b[39mcanvas\u001b[38;5;241m.\u001b[39mprint_figure(fname, \u001b[38;5;241m*\u001b[39m\u001b[38;5;241m*\u001b[39mkwargs)\n",
      "File \u001b[1;32m~\\AppData\\Local\\Programs\\Python\\Python39\\lib\\site-packages\\matplotlib\\backend_bases.py:2204\u001b[0m, in \u001b[0;36mFigureCanvasBase.print_figure\u001b[1;34m(self, filename, dpi, facecolor, edgecolor, orientation, format, bbox_inches, pad_inches, bbox_extra_artists, backend, **kwargs)\u001b[0m\n\u001b[0;32m   2200\u001b[0m \u001b[38;5;28;01mtry\u001b[39;00m:\n\u001b[0;32m   2201\u001b[0m     \u001b[38;5;66;03m# _get_renderer may change the figure dpi (as vector formats\u001b[39;00m\n\u001b[0;32m   2202\u001b[0m     \u001b[38;5;66;03m# force the figure dpi to 72), so we need to set it again here.\u001b[39;00m\n\u001b[0;32m   2203\u001b[0m     \u001b[38;5;28;01mwith\u001b[39;00m cbook\u001b[38;5;241m.\u001b[39m_setattr_cm(\u001b[38;5;28mself\u001b[39m\u001b[38;5;241m.\u001b[39mfigure, dpi\u001b[38;5;241m=\u001b[39mdpi):\n\u001b[1;32m-> 2204\u001b[0m         result \u001b[38;5;241m=\u001b[39m print_method(\n\u001b[0;32m   2205\u001b[0m             filename,\n\u001b[0;32m   2206\u001b[0m             facecolor\u001b[38;5;241m=\u001b[39mfacecolor,\n\u001b[0;32m   2207\u001b[0m             edgecolor\u001b[38;5;241m=\u001b[39medgecolor,\n\u001b[0;32m   2208\u001b[0m             orientation\u001b[38;5;241m=\u001b[39morientation,\n\u001b[0;32m   2209\u001b[0m             bbox_inches_restore\u001b[38;5;241m=\u001b[39m_bbox_inches_restore,\n\u001b[0;32m   2210\u001b[0m             \u001b[38;5;241m*\u001b[39m\u001b[38;5;241m*\u001b[39mkwargs)\n\u001b[0;32m   2211\u001b[0m \u001b[38;5;28;01mfinally\u001b[39;00m:\n\u001b[0;32m   2212\u001b[0m     \u001b[38;5;28;01mif\u001b[39;00m bbox_inches \u001b[38;5;129;01mand\u001b[39;00m restore_bbox:\n",
      "File \u001b[1;32m~\\AppData\\Local\\Programs\\Python\\Python39\\lib\\site-packages\\matplotlib\\backend_bases.py:2054\u001b[0m, in \u001b[0;36mFigureCanvasBase._switch_canvas_and_return_print_method.<locals>.<lambda>\u001b[1;34m(*args, **kwargs)\u001b[0m\n\u001b[0;32m   2050\u001b[0m     optional_kws \u001b[38;5;241m=\u001b[39m {  \u001b[38;5;66;03m# Passed by print_figure for other renderers.\u001b[39;00m\n\u001b[0;32m   2051\u001b[0m         \u001b[38;5;124m\"\u001b[39m\u001b[38;5;124mdpi\u001b[39m\u001b[38;5;124m\"\u001b[39m, \u001b[38;5;124m\"\u001b[39m\u001b[38;5;124mfacecolor\u001b[39m\u001b[38;5;124m\"\u001b[39m, \u001b[38;5;124m\"\u001b[39m\u001b[38;5;124medgecolor\u001b[39m\u001b[38;5;124m\"\u001b[39m, \u001b[38;5;124m\"\u001b[39m\u001b[38;5;124morientation\u001b[39m\u001b[38;5;124m\"\u001b[39m,\n\u001b[0;32m   2052\u001b[0m         \u001b[38;5;124m\"\u001b[39m\u001b[38;5;124mbbox_inches_restore\u001b[39m\u001b[38;5;124m\"\u001b[39m}\n\u001b[0;32m   2053\u001b[0m     skip \u001b[38;5;241m=\u001b[39m optional_kws \u001b[38;5;241m-\u001b[39m {\u001b[38;5;241m*\u001b[39minspect\u001b[38;5;241m.\u001b[39msignature(meth)\u001b[38;5;241m.\u001b[39mparameters}\n\u001b[1;32m-> 2054\u001b[0m     print_method \u001b[38;5;241m=\u001b[39m functools\u001b[38;5;241m.\u001b[39mwraps(meth)(\u001b[38;5;28;01mlambda\u001b[39;00m \u001b[38;5;241m*\u001b[39margs, \u001b[38;5;241m*\u001b[39m\u001b[38;5;241m*\u001b[39mkwargs: meth(\n\u001b[0;32m   2055\u001b[0m         \u001b[38;5;241m*\u001b[39margs, \u001b[38;5;241m*\u001b[39m\u001b[38;5;241m*\u001b[39m{k: v \u001b[38;5;28;01mfor\u001b[39;00m k, v \u001b[38;5;129;01min\u001b[39;00m kwargs\u001b[38;5;241m.\u001b[39mitems() \u001b[38;5;28;01mif\u001b[39;00m k \u001b[38;5;129;01mnot\u001b[39;00m \u001b[38;5;129;01min\u001b[39;00m skip}))\n\u001b[0;32m   2056\u001b[0m \u001b[38;5;28;01melse\u001b[39;00m:  \u001b[38;5;66;03m# Let third-parties do as they see fit.\u001b[39;00m\n\u001b[0;32m   2057\u001b[0m     print_method \u001b[38;5;241m=\u001b[39m meth\n",
      "File \u001b[1;32m~\\AppData\\Local\\Programs\\Python\\Python39\\lib\\site-packages\\matplotlib\\backends\\backend_agg.py:496\u001b[0m, in \u001b[0;36mFigureCanvasAgg.print_png\u001b[1;34m(self, filename_or_obj, metadata, pil_kwargs)\u001b[0m\n\u001b[0;32m    449\u001b[0m \u001b[38;5;28;01mdef\u001b[39;00m\u001b[38;5;250m \u001b[39m\u001b[38;5;21mprint_png\u001b[39m(\u001b[38;5;28mself\u001b[39m, filename_or_obj, \u001b[38;5;241m*\u001b[39m, metadata\u001b[38;5;241m=\u001b[39m\u001b[38;5;28;01mNone\u001b[39;00m, pil_kwargs\u001b[38;5;241m=\u001b[39m\u001b[38;5;28;01mNone\u001b[39;00m):\n\u001b[0;32m    450\u001b[0m \u001b[38;5;250m    \u001b[39m\u001b[38;5;124;03m\"\"\"\u001b[39;00m\n\u001b[0;32m    451\u001b[0m \u001b[38;5;124;03m    Write the figure to a PNG file.\u001b[39;00m\n\u001b[0;32m    452\u001b[0m \n\u001b[1;32m   (...)\u001b[0m\n\u001b[0;32m    494\u001b[0m \u001b[38;5;124;03m        *metadata*, including the default 'Software' key.\u001b[39;00m\n\u001b[0;32m    495\u001b[0m \u001b[38;5;124;03m    \"\"\"\u001b[39;00m\n\u001b[1;32m--> 496\u001b[0m     \u001b[38;5;28;43mself\u001b[39;49m\u001b[38;5;241;43m.\u001b[39;49m\u001b[43m_print_pil\u001b[49m\u001b[43m(\u001b[49m\u001b[43mfilename_or_obj\u001b[49m\u001b[43m,\u001b[49m\u001b[43m \u001b[49m\u001b[38;5;124;43m\"\u001b[39;49m\u001b[38;5;124;43mpng\u001b[39;49m\u001b[38;5;124;43m\"\u001b[39;49m\u001b[43m,\u001b[49m\u001b[43m \u001b[49m\u001b[43mpil_kwargs\u001b[49m\u001b[43m,\u001b[49m\u001b[43m \u001b[49m\u001b[43mmetadata\u001b[49m\u001b[43m)\u001b[49m\n",
      "File \u001b[1;32m~\\AppData\\Local\\Programs\\Python\\Python39\\lib\\site-packages\\matplotlib\\backends\\backend_agg.py:445\u001b[0m, in \u001b[0;36mFigureCanvasAgg._print_pil\u001b[1;34m(self, filename_or_obj, fmt, pil_kwargs, metadata)\u001b[0m\n\u001b[0;32m    440\u001b[0m \u001b[38;5;250m\u001b[39m\u001b[38;5;124;03m\"\"\"\u001b[39;00m\n\u001b[0;32m    441\u001b[0m \u001b[38;5;124;03mDraw the canvas, then save it using `.image.imsave` (to which\u001b[39;00m\n\u001b[0;32m    442\u001b[0m \u001b[38;5;124;03m*pil_kwargs* and *metadata* are forwarded).\u001b[39;00m\n\u001b[0;32m    443\u001b[0m \u001b[38;5;124;03m\"\"\"\u001b[39;00m\n\u001b[0;32m    444\u001b[0m FigureCanvasAgg\u001b[38;5;241m.\u001b[39mdraw(\u001b[38;5;28mself\u001b[39m)\n\u001b[1;32m--> 445\u001b[0m \u001b[43mmpl\u001b[49m\u001b[38;5;241;43m.\u001b[39;49m\u001b[43mimage\u001b[49m\u001b[38;5;241;43m.\u001b[39;49m\u001b[43mimsave\u001b[49m\u001b[43m(\u001b[49m\n\u001b[0;32m    446\u001b[0m \u001b[43m    \u001b[49m\u001b[43mfilename_or_obj\u001b[49m\u001b[43m,\u001b[49m\u001b[43m \u001b[49m\u001b[38;5;28;43mself\u001b[39;49m\u001b[38;5;241;43m.\u001b[39;49m\u001b[43mbuffer_rgba\u001b[49m\u001b[43m(\u001b[49m\u001b[43m)\u001b[49m\u001b[43m,\u001b[49m\u001b[43m \u001b[49m\u001b[38;5;28;43mformat\u001b[39;49m\u001b[38;5;241;43m=\u001b[39;49m\u001b[43mfmt\u001b[49m\u001b[43m,\u001b[49m\u001b[43m \u001b[49m\u001b[43morigin\u001b[49m\u001b[38;5;241;43m=\u001b[39;49m\u001b[38;5;124;43m\"\u001b[39;49m\u001b[38;5;124;43mupper\u001b[39;49m\u001b[38;5;124;43m\"\u001b[39;49m\u001b[43m,\u001b[49m\n\u001b[0;32m    447\u001b[0m \u001b[43m    \u001b[49m\u001b[43mdpi\u001b[49m\u001b[38;5;241;43m=\u001b[39;49m\u001b[38;5;28;43mself\u001b[39;49m\u001b[38;5;241;43m.\u001b[39;49m\u001b[43mfigure\u001b[49m\u001b[38;5;241;43m.\u001b[39;49m\u001b[43mdpi\u001b[49m\u001b[43m,\u001b[49m\u001b[43m \u001b[49m\u001b[43mmetadata\u001b[49m\u001b[38;5;241;43m=\u001b[39;49m\u001b[43mmetadata\u001b[49m\u001b[43m,\u001b[49m\u001b[43m \u001b[49m\u001b[43mpil_kwargs\u001b[49m\u001b[38;5;241;43m=\u001b[39;49m\u001b[43mpil_kwargs\u001b[49m\u001b[43m)\u001b[49m\n",
      "File \u001b[1;32m~\\AppData\\Local\\Programs\\Python\\Python39\\lib\\site-packages\\matplotlib\\image.py:1676\u001b[0m, in \u001b[0;36mimsave\u001b[1;34m(fname, arr, vmin, vmax, cmap, format, origin, dpi, metadata, pil_kwargs)\u001b[0m\n\u001b[0;32m   1674\u001b[0m pil_kwargs\u001b[38;5;241m.\u001b[39msetdefault(\u001b[38;5;124m\"\u001b[39m\u001b[38;5;124mformat\u001b[39m\u001b[38;5;124m\"\u001b[39m, \u001b[38;5;28mformat\u001b[39m)\n\u001b[0;32m   1675\u001b[0m pil_kwargs\u001b[38;5;241m.\u001b[39msetdefault(\u001b[38;5;124m\"\u001b[39m\u001b[38;5;124mdpi\u001b[39m\u001b[38;5;124m\"\u001b[39m, (dpi, dpi))\n\u001b[1;32m-> 1676\u001b[0m image\u001b[38;5;241m.\u001b[39msave(fname, \u001b[38;5;241m*\u001b[39m\u001b[38;5;241m*\u001b[39mpil_kwargs)\n",
      "File \u001b[1;32m~\\AppData\\Local\\Programs\\Python\\Python39\\lib\\site-packages\\PIL\\Image.py:2436\u001b[0m, in \u001b[0;36mImage.save\u001b[1;34m(self, fp, format, **params)\u001b[0m\n\u001b[0;32m   2434\u001b[0m         fp \u001b[38;5;241m=\u001b[39m builtins\u001b[38;5;241m.\u001b[39mopen(filename, \u001b[38;5;124m\"\u001b[39m\u001b[38;5;124mr+b\u001b[39m\u001b[38;5;124m\"\u001b[39m)\n\u001b[0;32m   2435\u001b[0m     \u001b[38;5;28;01melse\u001b[39;00m:\n\u001b[1;32m-> 2436\u001b[0m         fp \u001b[38;5;241m=\u001b[39m \u001b[43mbuiltins\u001b[49m\u001b[38;5;241;43m.\u001b[39;49m\u001b[43mopen\u001b[49m\u001b[43m(\u001b[49m\u001b[43mfilename\u001b[49m\u001b[43m,\u001b[49m\u001b[43m \u001b[49m\u001b[38;5;124;43m\"\u001b[39;49m\u001b[38;5;124;43mw+b\u001b[39;49m\u001b[38;5;124;43m\"\u001b[39;49m\u001b[43m)\u001b[49m\n\u001b[0;32m   2438\u001b[0m \u001b[38;5;28;01mtry\u001b[39;00m:\n\u001b[0;32m   2439\u001b[0m     save_handler(\u001b[38;5;28mself\u001b[39m, fp, filename)\n",
      "\u001b[1;31mFileNotFoundError\u001b[0m: [Errno 2] No such file or directory: 'output/fedvg.png'"
     ]
    },
    {
     "data": {
      "image/png": "[encoded data removed]",
      "text/plain": [
       "<Figure size 650x420 with 1 Axes>"
      ]
     },
     "metadata": {},
     "output_type": "display_data"
    }
   ],
   "source": [
    "                                                        # VISUALIZE\n",
    "# NOTE: Class indexes now start from 1 so, previous class 0 = now class 1 and so on\n",
    "# FIG 1: Raw similarity plot\n",
    "\n",
    "import pandas as pd\n",
    "import numpy as np\n",
    "import matplotlib.pyplot as plt\n",
    "import seaborn as sns\n",
    "\n",
    "# Generate sample similarity data for four classes (each with 20 values in the range 0 to 1)\n",
    "class1_sim = class0_sims\n",
    "class2_sim = class1_sims\n",
    "class3_sim = class2_sims\n",
    "class4_sim = class3_sims\n",
    "\n",
    "# Set figure size\n",
    "plt.figure(figsize=(6.5, 4.2))  # Set the size of the figure (width, height)\n",
    "\n",
    "# Sample DataFrame with four columns\n",
    "data=pd.DataFrame({'Class 1':class1_sim,'Class 2':class2_sim,'Class 3':class3_sim,'Class 4':class4_sim})\n",
    "df = pd.DataFrame(data)\n",
    "\n",
    "# Plot the probability distributions\n",
    "#plt.figure(figsize=(10, 6))\n",
    "\n",
    "# Define colors and line styles for each column\n",
    "colors = ['#1f77b4', '#ff7f0e', '#2ca02c', '#d62728']\n",
    "linestyles = ['-.', '--', '-', '-']\n",
    "\n",
    "# Plot the probability distributions with unique colors and line styles\n",
    "for column, color, linestyle in zip(df.columns, colors, linestyles):\n",
    "    sns.kdeplot(df[column], label=column, color=color, linestyle=linestyle)\n",
    "\n",
    "#plt.title('Probability Distributions of Four Columns')\n",
    "plt.xlabel('Similarity',fontsize=12)\n",
    "plt.ylabel('Density',fontsize=12)\n",
    "plt.yticks(fontsize=12)  # Set y-tick labels font size\n",
    "plt.legend(loc='upper right',fontsize=12)  # Increase legend font size\n",
    "\n",
    "# Optimize layout\n",
    "plt.tight_layout()\n",
    "# Save the plot to a file\n",
    "plt.savefig('output/fedvg.png', dpi=300, bbox_inches='tight')  # Save as a PNG file with high resolution\n",
    "\n",
    "# Show the plot\n",
    "plt.show()\n"
   ]
  },
  {
   "cell_type": "code",
   "execution_count": 66,
   "id": "c71af78e-28e9-4564-9609-3039455bb875",
   "metadata": {},
   "outputs": [
    {
     "data": {
      "image/png": "[encoded data removed]",
      "text/plain": [
       "<Figure size 750x500 with 1 Axes>"
      ]
     },
     "metadata": {},
     "output_type": "display_data"
    }
   ],
   "source": [
    "# FIG 2: DIFFERENCES IN COSINE SIMILARITY\n",
    "\n",
    "# For each class, we have 20 similarity values — one per image — showing how similar fake and real versions are.These values are very close across classes\n",
    "# So, to highlight subtle differences, compute and plot the difference between each pair of classes, value by value.\n",
    "# This gives you 20 values showing how much the similarity differs for each image between class 0 and class 1.\n",
    "# It's a magnified view of the gap between classes.\n",
    "# If the differences are tiny (e.g., 0.003), the plot helps make that visible and comparable.\n",
    "\n",
    "import numpy as np\n",
    "import matplotlib.pyplot as plt\n",
    "import seaborn as sns\n",
    "import pandas as pd\n",
    "\n",
    "# Differences between class distributions (pairwise)\n",
    "diff_12 = np.array(class2_sim) - np.array(class1_sim)\n",
    "diff_13 = np.array(class3_sim) - np.array(class1_sim)\n",
    "diff_14 = np.array(class4_sim) - np.array(class1_sim)\n",
    "diff_23 = np.array(class3_sim) - np.array(class2_sim)\n",
    "diff_24 = np.array(class4_sim) - np.array(class2_sim)\n",
    "diff_34 = np.array(class4_sim) - np.array(class3_sim)\n",
    "\n",
    "# Create a DataFrame\n",
    "diff_df = pd.DataFrame({\n",
    "    'Class 2 - Class 1': diff_12,\n",
    "    'Class 3 - Class 1': diff_13,\n",
    "    'Class 4 - Class 1': diff_14,\n",
    "    'Class 3 - Class 2': diff_23,\n",
    "    'Class 4 - Class 2': diff_24,\n",
    "    'Class 4 - Class 3': diff_34,\n",
    "})\n",
    "\n",
    "# Plot\n",
    "plt.figure(figsize=(7.5, 5))\n",
    "\n",
    "colors = sns.color_palette(\"tab10\", n_colors=6)\n",
    "\n",
    "for column, color in zip(diff_df.columns, colors):\n",
    "    sns.kdeplot(diff_df[column], label=column, color=color, linestyle='-')\n",
    "\n",
    "plt.axvline(0, color='black', linestyle='--', linewidth=1)  # reference line at 0\n",
    "plt.xlabel('Difference in Similarity', fontsize=12)\n",
    "plt.ylabel('Density', fontsize=12)\n",
    "plt.legend(fontsize=10)\n",
    "plt.title(\"Pairwise Differences in Cosine Similarity\", fontsize=13)\n",
    "plt.tight_layout()\n",
    "plt.show()"
   ]
  },
  {
   "cell_type": "code",
   "execution_count": 67,
   "id": "362bf182-7927-4ce2-bf5a-97299d426bc4",
   "metadata": {},
   "outputs": [],
   "source": [
    "def calculate_interclass_similarity(first, second):\n",
    "    similarities = []\n",
    "\n",
    "    first_images = []\n",
    "    second_images = []\n",
    "    if first == 'class1':\n",
    "        first_images = class0_original_images.copy()\n",
    "    elif first == 'class2':\n",
    "        first_images = class1_original_images.copy()\n",
    "    elif first == 'class3':\n",
    "        first_images = class2_original_images.copy()\n",
    "    elif first == 'class4':\n",
    "        first_images = class3_original_images.copy()\n",
    "\n",
    "    if second == 'class1':\n",
    "        second_images = class0_original_images.copy()\n",
    "    elif second == 'class2':\n",
    "        second_images = class1_original_images.copy()\n",
    "    elif second == 'class3':\n",
    "        second_images = class2_original_images.copy()\n",
    "    elif second == 'class4':\n",
    "        second_images = class3_original_images.copy()\n",
    "    \n",
    "    for i in range(0, 20):\n",
    "        first_image = first_images[i].unsqueeze(dim=0).to(device)\n",
    "        first_image = first_image.repeat(1, 3, 1, 1)\n",
    "        \n",
    "        second_image = second_images[i].unsqueeze(dim=0).to(device)\n",
    "        second_image = second_image.repeat(1, 3, 1, 1)\n",
    "        \n",
    "        features_first = get_feature(first_image)\n",
    "        features_second = get_feature(second_image)\n",
    "\n",
    "        cosine_similarity = 1 - cosine(features_first, features_second)\n",
    "        similarities.append(cosine_similarity)\n",
    "\n",
    "    return similarities"
   ]
  },
  {
   "cell_type": "code",
   "execution_count": 68,
   "id": "5954dfe3-cb08-4551-a5f9-d2082ac3d604",
   "metadata": {},
   "outputs": [],
   "source": [
    "class1class2 = calculate_interclass_similarity('class1', 'class2')"
   ]
  },
  {
   "cell_type": "code",
   "execution_count": 69,
   "id": "cd5ab50d-9d9d-443b-bea5-2d6e302e2bf4",
   "metadata": {},
   "outputs": [
    {
     "data": {
      "text/plain": [
       "[np.float32(0.92668736),\n",
       " np.float32(0.9234537),\n",
       " np.float32(0.8914366),\n",
       " np.float32(0.85996324),\n",
       " np.float32(0.9045878),\n",
       " np.float32(0.8661933),\n",
       " np.float32(0.8529511),\n",
       " np.float32(0.8320824),\n",
       " np.float32(0.81313324),\n",
       " np.float32(0.9028811),\n",
       " np.float32(0.9157124),\n",
       " np.float32(0.83247995),\n",
       " np.float32(0.9164997),\n",
       " np.float32(0.84919524),\n",
       " np.float32(0.90398437),\n",
       " np.float32(0.8242637),\n",
       " np.float32(0.78115076),\n",
       " np.float32(0.80533254),\n",
       " np.float32(0.92938054),\n",
       " np.float32(0.89034694)]"
      ]
     },
     "execution_count": 69,
     "metadata": {},
     "output_type": "execute_result"
    }
   ],
   "source": [
    "class1class2"
   ]
  },
  {
   "cell_type": "code",
   "execution_count": 70,
   "id": "29441f40-36a7-4854-98be-5d128bae49cd",
   "metadata": {},
   "outputs": [
    {
     "ename": "FileNotFoundError",
     "evalue": "[Errno 2] No such file or directory: 'output/VoiceDivergenceD3.png'",
     "output_type": "error",
     "traceback": [
      "\u001b[1;31m---------------------------------------------------------------------------\u001b[0m",
      "\u001b[1;31mFileNotFoundError\u001b[0m                         Traceback (most recent call last)",
      "Cell \u001b[1;32mIn[70], line 44\u001b[0m\n\u001b[0;32m     42\u001b[0m plt\u001b[38;5;241m.\u001b[39mtight_layout()\n\u001b[0;32m     43\u001b[0m \u001b[38;5;66;03m# Save the plot to a file\u001b[39;00m\n\u001b[1;32m---> 44\u001b[0m \u001b[43mplt\u001b[49m\u001b[38;5;241;43m.\u001b[39;49m\u001b[43msavefig\u001b[49m\u001b[43m(\u001b[49m\u001b[38;5;124;43m'\u001b[39;49m\u001b[38;5;124;43moutput/VoiceDivergenceD3.png\u001b[39;49m\u001b[38;5;124;43m'\u001b[39;49m\u001b[43m,\u001b[49m\u001b[43m \u001b[49m\u001b[43mdpi\u001b[49m\u001b[38;5;241;43m=\u001b[39;49m\u001b[38;5;241;43m300\u001b[39;49m\u001b[43m,\u001b[49m\u001b[43m \u001b[49m\u001b[43mbbox_inches\u001b[49m\u001b[38;5;241;43m=\u001b[39;49m\u001b[38;5;124;43m'\u001b[39;49m\u001b[38;5;124;43mtight\u001b[39;49m\u001b[38;5;124;43m'\u001b[39;49m\u001b[43m)\u001b[49m  \u001b[38;5;66;03m# Save as a PNG file with high resolution\u001b[39;00m\n\u001b[0;32m     46\u001b[0m \u001b[38;5;66;03m# Show the plot\u001b[39;00m\n\u001b[0;32m     47\u001b[0m plt\u001b[38;5;241m.\u001b[39mshow()\n",
      "File \u001b[1;32m~\\AppData\\Local\\Programs\\Python\\Python39\\lib\\site-packages\\matplotlib\\pyplot.py:1228\u001b[0m, in \u001b[0;36msavefig\u001b[1;34m(*args, **kwargs)\u001b[0m\n\u001b[0;32m   1225\u001b[0m fig \u001b[38;5;241m=\u001b[39m gcf()\n\u001b[0;32m   1226\u001b[0m \u001b[38;5;66;03m# savefig default implementation has no return, so mypy is unhappy\u001b[39;00m\n\u001b[0;32m   1227\u001b[0m \u001b[38;5;66;03m# presumably this is here because subclasses can return?\u001b[39;00m\n\u001b[1;32m-> 1228\u001b[0m res \u001b[38;5;241m=\u001b[39m fig\u001b[38;5;241m.\u001b[39msavefig(\u001b[38;5;241m*\u001b[39margs, \u001b[38;5;241m*\u001b[39m\u001b[38;5;241m*\u001b[39mkwargs)  \u001b[38;5;66;03m# type: ignore[func-returns-value]\u001b[39;00m\n\u001b[0;32m   1229\u001b[0m fig\u001b[38;5;241m.\u001b[39mcanvas\u001b[38;5;241m.\u001b[39mdraw_idle()  \u001b[38;5;66;03m# Need this if 'transparent=True', to reset colors.\u001b[39;00m\n\u001b[0;32m   1230\u001b[0m \u001b[38;5;28;01mreturn\u001b[39;00m res\n",
      "File \u001b[1;32m~\\AppData\\Local\\Programs\\Python\\Python39\\lib\\site-packages\\matplotlib\\figure.py:3395\u001b[0m, in \u001b[0;36mFigure.savefig\u001b[1;34m(self, fname, transparent, **kwargs)\u001b[0m\n\u001b[0;32m   3393\u001b[0m     \u001b[38;5;28;01mfor\u001b[39;00m ax \u001b[38;5;129;01min\u001b[39;00m \u001b[38;5;28mself\u001b[39m\u001b[38;5;241m.\u001b[39maxes:\n\u001b[0;32m   3394\u001b[0m         _recursively_make_axes_transparent(stack, ax)\n\u001b[1;32m-> 3395\u001b[0m \u001b[38;5;28mself\u001b[39m\u001b[38;5;241m.\u001b[39mcanvas\u001b[38;5;241m.\u001b[39mprint_figure(fname, \u001b[38;5;241m*\u001b[39m\u001b[38;5;241m*\u001b[39mkwargs)\n",
      "File \u001b[1;32m~\\AppData\\Local\\Programs\\Python\\Python39\\lib\\site-packages\\matplotlib\\backend_bases.py:2204\u001b[0m, in \u001b[0;36mFigureCanvasBase.print_figure\u001b[1;34m(self, filename, dpi, facecolor, edgecolor, orientation, format, bbox_inches, pad_inches, bbox_extra_artists, backend, **kwargs)\u001b[0m\n\u001b[0;32m   2200\u001b[0m \u001b[38;5;28;01mtry\u001b[39;00m:\n\u001b[0;32m   2201\u001b[0m     \u001b[38;5;66;03m# _get_renderer may change the figure dpi (as vector formats\u001b[39;00m\n\u001b[0;32m   2202\u001b[0m     \u001b[38;5;66;03m# force the figure dpi to 72), so we need to set it again here.\u001b[39;00m\n\u001b[0;32m   2203\u001b[0m     \u001b[38;5;28;01mwith\u001b[39;00m cbook\u001b[38;5;241m.\u001b[39m_setattr_cm(\u001b[38;5;28mself\u001b[39m\u001b[38;5;241m.\u001b[39mfigure, dpi\u001b[38;5;241m=\u001b[39mdpi):\n\u001b[1;32m-> 2204\u001b[0m         result \u001b[38;5;241m=\u001b[39m print_method(\n\u001b[0;32m   2205\u001b[0m             filename,\n\u001b[0;32m   2206\u001b[0m             facecolor\u001b[38;5;241m=\u001b[39mfacecolor,\n\u001b[0;32m   2207\u001b[0m             edgecolor\u001b[38;5;241m=\u001b[39medgecolor,\n\u001b[0;32m   2208\u001b[0m             orientation\u001b[38;5;241m=\u001b[39morientation,\n\u001b[0;32m   2209\u001b[0m             bbox_inches_restore\u001b[38;5;241m=\u001b[39m_bbox_inches_restore,\n\u001b[0;32m   2210\u001b[0m             \u001b[38;5;241m*\u001b[39m\u001b[38;5;241m*\u001b[39mkwargs)\n\u001b[0;32m   2211\u001b[0m \u001b[38;5;28;01mfinally\u001b[39;00m:\n\u001b[0;32m   2212\u001b[0m     \u001b[38;5;28;01mif\u001b[39;00m bbox_inches \u001b[38;5;129;01mand\u001b[39;00m restore_bbox:\n",
      "File \u001b[1;32m~\\AppData\\Local\\Programs\\Python\\Python39\\lib\\site-packages\\matplotlib\\backend_bases.py:2054\u001b[0m, in \u001b[0;36mFigureCanvasBase._switch_canvas_and_return_print_method.<locals>.<lambda>\u001b[1;34m(*args, **kwargs)\u001b[0m\n\u001b[0;32m   2050\u001b[0m     optional_kws \u001b[38;5;241m=\u001b[39m {  \u001b[38;5;66;03m# Passed by print_figure for other renderers.\u001b[39;00m\n\u001b[0;32m   2051\u001b[0m         \u001b[38;5;124m\"\u001b[39m\u001b[38;5;124mdpi\u001b[39m\u001b[38;5;124m\"\u001b[39m, \u001b[38;5;124m\"\u001b[39m\u001b[38;5;124mfacecolor\u001b[39m\u001b[38;5;124m\"\u001b[39m, \u001b[38;5;124m\"\u001b[39m\u001b[38;5;124medgecolor\u001b[39m\u001b[38;5;124m\"\u001b[39m, \u001b[38;5;124m\"\u001b[39m\u001b[38;5;124morientation\u001b[39m\u001b[38;5;124m\"\u001b[39m,\n\u001b[0;32m   2052\u001b[0m         \u001b[38;5;124m\"\u001b[39m\u001b[38;5;124mbbox_inches_restore\u001b[39m\u001b[38;5;124m\"\u001b[39m}\n\u001b[0;32m   2053\u001b[0m     skip \u001b[38;5;241m=\u001b[39m optional_kws \u001b[38;5;241m-\u001b[39m {\u001b[38;5;241m*\u001b[39minspect\u001b[38;5;241m.\u001b[39msignature(meth)\u001b[38;5;241m.\u001b[39mparameters}\n\u001b[1;32m-> 2054\u001b[0m     print_method \u001b[38;5;241m=\u001b[39m functools\u001b[38;5;241m.\u001b[39mwraps(meth)(\u001b[38;5;28;01mlambda\u001b[39;00m \u001b[38;5;241m*\u001b[39margs, \u001b[38;5;241m*\u001b[39m\u001b[38;5;241m*\u001b[39mkwargs: meth(\n\u001b[0;32m   2055\u001b[0m         \u001b[38;5;241m*\u001b[39margs, \u001b[38;5;241m*\u001b[39m\u001b[38;5;241m*\u001b[39m{k: v \u001b[38;5;28;01mfor\u001b[39;00m k, v \u001b[38;5;129;01min\u001b[39;00m kwargs\u001b[38;5;241m.\u001b[39mitems() \u001b[38;5;28;01mif\u001b[39;00m k \u001b[38;5;129;01mnot\u001b[39;00m \u001b[38;5;129;01min\u001b[39;00m skip}))\n\u001b[0;32m   2056\u001b[0m \u001b[38;5;28;01melse\u001b[39;00m:  \u001b[38;5;66;03m# Let third-parties do as they see fit.\u001b[39;00m\n\u001b[0;32m   2057\u001b[0m     print_method \u001b[38;5;241m=\u001b[39m meth\n",
      "File \u001b[1;32m~\\AppData\\Local\\Programs\\Python\\Python39\\lib\\site-packages\\matplotlib\\backends\\backend_agg.py:496\u001b[0m, in \u001b[0;36mFigureCanvasAgg.print_png\u001b[1;34m(self, filename_or_obj, metadata, pil_kwargs)\u001b[0m\n\u001b[0;32m    449\u001b[0m \u001b[38;5;28;01mdef\u001b[39;00m\u001b[38;5;250m \u001b[39m\u001b[38;5;21mprint_png\u001b[39m(\u001b[38;5;28mself\u001b[39m, filename_or_obj, \u001b[38;5;241m*\u001b[39m, metadata\u001b[38;5;241m=\u001b[39m\u001b[38;5;28;01mNone\u001b[39;00m, pil_kwargs\u001b[38;5;241m=\u001b[39m\u001b[38;5;28;01mNone\u001b[39;00m):\n\u001b[0;32m    450\u001b[0m \u001b[38;5;250m    \u001b[39m\u001b[38;5;124;03m\"\"\"\u001b[39;00m\n\u001b[0;32m    451\u001b[0m \u001b[38;5;124;03m    Write the figure to a PNG file.\u001b[39;00m\n\u001b[0;32m    452\u001b[0m \n\u001b[1;32m   (...)\u001b[0m\n\u001b[0;32m    494\u001b[0m \u001b[38;5;124;03m        *metadata*, including the default 'Software' key.\u001b[39;00m\n\u001b[0;32m    495\u001b[0m \u001b[38;5;124;03m    \"\"\"\u001b[39;00m\n\u001b[1;32m--> 496\u001b[0m     \u001b[38;5;28;43mself\u001b[39;49m\u001b[38;5;241;43m.\u001b[39;49m\u001b[43m_print_pil\u001b[49m\u001b[43m(\u001b[49m\u001b[43mfilename_or_obj\u001b[49m\u001b[43m,\u001b[49m\u001b[43m \u001b[49m\u001b[38;5;124;43m\"\u001b[39;49m\u001b[38;5;124;43mpng\u001b[39;49m\u001b[38;5;124;43m\"\u001b[39;49m\u001b[43m,\u001b[49m\u001b[43m \u001b[49m\u001b[43mpil_kwargs\u001b[49m\u001b[43m,\u001b[49m\u001b[43m \u001b[49m\u001b[43mmetadata\u001b[49m\u001b[43m)\u001b[49m\n",
      "File \u001b[1;32m~\\AppData\\Local\\Programs\\Python\\Python39\\lib\\site-packages\\matplotlib\\backends\\backend_agg.py:445\u001b[0m, in \u001b[0;36mFigureCanvasAgg._print_pil\u001b[1;34m(self, filename_or_obj, fmt, pil_kwargs, metadata)\u001b[0m\n\u001b[0;32m    440\u001b[0m \u001b[38;5;250m\u001b[39m\u001b[38;5;124;03m\"\"\"\u001b[39;00m\n\u001b[0;32m    441\u001b[0m \u001b[38;5;124;03mDraw the canvas, then save it using `.image.imsave` (to which\u001b[39;00m\n\u001b[0;32m    442\u001b[0m \u001b[38;5;124;03m*pil_kwargs* and *metadata* are forwarded).\u001b[39;00m\n\u001b[0;32m    443\u001b[0m \u001b[38;5;124;03m\"\"\"\u001b[39;00m\n\u001b[0;32m    444\u001b[0m FigureCanvasAgg\u001b[38;5;241m.\u001b[39mdraw(\u001b[38;5;28mself\u001b[39m)\n\u001b[1;32m--> 445\u001b[0m \u001b[43mmpl\u001b[49m\u001b[38;5;241;43m.\u001b[39;49m\u001b[43mimage\u001b[49m\u001b[38;5;241;43m.\u001b[39;49m\u001b[43mimsave\u001b[49m\u001b[43m(\u001b[49m\n\u001b[0;32m    446\u001b[0m \u001b[43m    \u001b[49m\u001b[43mfilename_or_obj\u001b[49m\u001b[43m,\u001b[49m\u001b[43m \u001b[49m\u001b[38;5;28;43mself\u001b[39;49m\u001b[38;5;241;43m.\u001b[39;49m\u001b[43mbuffer_rgba\u001b[49m\u001b[43m(\u001b[49m\u001b[43m)\u001b[49m\u001b[43m,\u001b[49m\u001b[43m \u001b[49m\u001b[38;5;28;43mformat\u001b[39;49m\u001b[38;5;241;43m=\u001b[39;49m\u001b[43mfmt\u001b[49m\u001b[43m,\u001b[49m\u001b[43m \u001b[49m\u001b[43morigin\u001b[49m\u001b[38;5;241;43m=\u001b[39;49m\u001b[38;5;124;43m\"\u001b[39;49m\u001b[38;5;124;43mupper\u001b[39;49m\u001b[38;5;124;43m\"\u001b[39;49m\u001b[43m,\u001b[49m\n\u001b[0;32m    447\u001b[0m \u001b[43m    \u001b[49m\u001b[43mdpi\u001b[49m\u001b[38;5;241;43m=\u001b[39;49m\u001b[38;5;28;43mself\u001b[39;49m\u001b[38;5;241;43m.\u001b[39;49m\u001b[43mfigure\u001b[49m\u001b[38;5;241;43m.\u001b[39;49m\u001b[43mdpi\u001b[49m\u001b[43m,\u001b[49m\u001b[43m \u001b[49m\u001b[43mmetadata\u001b[49m\u001b[38;5;241;43m=\u001b[39;49m\u001b[43mmetadata\u001b[49m\u001b[43m,\u001b[49m\u001b[43m \u001b[49m\u001b[43mpil_kwargs\u001b[49m\u001b[38;5;241;43m=\u001b[39;49m\u001b[43mpil_kwargs\u001b[49m\u001b[43m)\u001b[49m\n",
      "File \u001b[1;32m~\\AppData\\Local\\Programs\\Python\\Python39\\lib\\site-packages\\matplotlib\\image.py:1676\u001b[0m, in \u001b[0;36mimsave\u001b[1;34m(fname, arr, vmin, vmax, cmap, format, origin, dpi, metadata, pil_kwargs)\u001b[0m\n\u001b[0;32m   1674\u001b[0m pil_kwargs\u001b[38;5;241m.\u001b[39msetdefault(\u001b[38;5;124m\"\u001b[39m\u001b[38;5;124mformat\u001b[39m\u001b[38;5;124m\"\u001b[39m, \u001b[38;5;28mformat\u001b[39m)\n\u001b[0;32m   1675\u001b[0m pil_kwargs\u001b[38;5;241m.\u001b[39msetdefault(\u001b[38;5;124m\"\u001b[39m\u001b[38;5;124mdpi\u001b[39m\u001b[38;5;124m\"\u001b[39m, (dpi, dpi))\n\u001b[1;32m-> 1676\u001b[0m image\u001b[38;5;241m.\u001b[39msave(fname, \u001b[38;5;241m*\u001b[39m\u001b[38;5;241m*\u001b[39mpil_kwargs)\n",
      "File \u001b[1;32m~\\AppData\\Local\\Programs\\Python\\Python39\\lib\\site-packages\\PIL\\Image.py:2436\u001b[0m, in \u001b[0;36mImage.save\u001b[1;34m(self, fp, format, **params)\u001b[0m\n\u001b[0;32m   2434\u001b[0m         fp \u001b[38;5;241m=\u001b[39m builtins\u001b[38;5;241m.\u001b[39mopen(filename, \u001b[38;5;124m\"\u001b[39m\u001b[38;5;124mr+b\u001b[39m\u001b[38;5;124m\"\u001b[39m)\n\u001b[0;32m   2435\u001b[0m     \u001b[38;5;28;01melse\u001b[39;00m:\n\u001b[1;32m-> 2436\u001b[0m         fp \u001b[38;5;241m=\u001b[39m \u001b[43mbuiltins\u001b[49m\u001b[38;5;241;43m.\u001b[39;49m\u001b[43mopen\u001b[49m\u001b[43m(\u001b[49m\u001b[43mfilename\u001b[49m\u001b[43m,\u001b[49m\u001b[43m \u001b[49m\u001b[38;5;124;43m\"\u001b[39;49m\u001b[38;5;124;43mw+b\u001b[39;49m\u001b[38;5;124;43m\"\u001b[39;49m\u001b[43m)\u001b[49m\n\u001b[0;32m   2438\u001b[0m \u001b[38;5;28;01mtry\u001b[39;00m:\n\u001b[0;32m   2439\u001b[0m     save_handler(\u001b[38;5;28mself\u001b[39m, fp, filename)\n",
      "\u001b[1;31mFileNotFoundError\u001b[0m: [Errno 2] No such file or directory: 'output/VoiceDivergenceD3.png'"
     ]
    },
    {
     "data": {
      "image/png": "[encoded data removed]",
      "text/plain": [
       "<Figure size 650x420 with 1 Axes>"
      ]
     },
     "metadata": {},
     "output_type": "display_data"
    }
   ],
   "source": [
    "                                                # FIG: 3 -> INTERCLASS SIMILARITIES\n",
    "\n",
    "import pandas as pd\n",
    "import numpy as np\n",
    "import matplotlib.pyplot as plt\n",
    "import seaborn as sns\n",
    "\n",
    "# Set figure size\n",
    "plt.figure(figsize=(6.5, 4.2))  # Set the size of the figure (width, height)\n",
    "\n",
    "# Generate sample similarity data for four classes (each with 20 values in the range 0 to 1)\n",
    "np.random.seed(42)  # For reproducibility\n",
    "class1class2 = calculate_interclass_similarity('class1', 'class2')\n",
    "class1class3 = calculate_interclass_similarity('class1', 'class3')\n",
    "class1class4 = calculate_interclass_similarity('class1', 'class4')\n",
    "class2class3 = calculate_interclass_similarity('class2', 'class3')\n",
    "class2class4 = calculate_interclass_similarity('class2', 'class4')\n",
    "class3class4 = calculate_interclass_similarity('class3', 'class4')\n",
    "\n",
    "# Sample DataFrame with four columns\n",
    "data=pd.DataFrame({'Class1 vs Class2':class1class2,'Class1 vs Class3':class1class3,'Class1 vs Class4':class1class4,'Class2 vs Class3':class2class3,'Class2 vs Class4':class2class4,'Class3 vs Class4':class3class4})\n",
    "df = pd.DataFrame(data)\n",
    "\n",
    "# Plot the probability distributions\n",
    "#plt.figure(figsize=(10, 6))\n",
    "\n",
    "# Define colors and line styles for each column\n",
    "colors = ['#1f77b4', '#ff7f0e', '#2ca02c', '#d62728', '#9467bd', '#8c564b']\n",
    "linestyles = ['-.', '--', '-', '-', '-.', '--']\n",
    "\n",
    "# Plot the probability distributions with unique colors and line styles\n",
    "for column, color, linestyle in zip(df.columns, colors, linestyles):\n",
    "    sns.kdeplot(df[column], label=column, color=color, linestyle=linestyle)\n",
    "\n",
    "#plt.title('Probability Distributions of Four Columns')\n",
    "plt.xlabel('Similarity',fontsize=12)\n",
    "plt.ylabel('Density',fontsize=12)\n",
    "plt.yticks(fontsize=12)  # Set y-tick labels font size\n",
    "plt.legend(loc='upper right',fontsize=12)  # Increase legend font size\n",
    "\n",
    "# Optimize layout\n",
    "plt.tight_layout()\n",
    "# Save the plot to a file\n",
    "plt.savefig('output/VoiceDivergenceD3.png', dpi=300, bbox_inches='tight')  # Save as a PNG file with high resolution\n",
    "\n",
    "# Show the plot\n",
    "plt.show()"
   ]
  },
  {
   "cell_type": "code",
   "execution_count": null,
   "id": "19754eee-5c1e-47e6-bbaa-b2cef05a1641",
   "metadata": {},
   "outputs": [],
   "source": []
  },
  {
   "cell_type": "code",
   "execution_count": null,
   "id": "e2eebd80-009b-498c-968a-bea206f03d9c",
   "metadata": {},
   "outputs": [],
   "source": []
  }
 ],
 "metadata": {
  "kernelspec": {
   "display_name": "Python 3 (ipykernel)",
   "language": "python",
   "name": "python3"
  },
  "language_info": {
   "codemirror_mode": {
    "name": "ipython",
    "version": 3
   },
   "file_extension": ".py",
   "mimetype": "text/x-python",
   "name": "python",
   "nbconvert_exporter": "python",
   "pygments_lexer": "ipython3",
   "version": "3.9.7"
  }
 },
 "nbformat": 4,
 "nbformat_minor": 5
}
