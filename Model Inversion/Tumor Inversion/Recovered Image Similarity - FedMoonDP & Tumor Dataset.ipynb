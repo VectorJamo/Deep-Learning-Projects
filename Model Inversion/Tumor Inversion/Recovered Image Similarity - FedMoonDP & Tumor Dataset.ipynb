{
 "cells": [
  {
   "cell_type": "code",
   "execution_count": 1,
   "id": "646b38c2-386a-4f83-a983-ea764ad8267f",
   "metadata": {},
   "outputs": [],
   "source": [
    "# Attempting to recover training data using model's parameters and a DCGAN that was trained on similar data\n",
    "# Author: Suraj Neupane\n",
    "# Written from scratch as a part of a Research Project 2025, Concordia University of Edmonton.\n",
    "import numpy as np\n",
    "\n",
    "import torch\n",
    "from torch import nn\n",
    "from torch.nn import functional\n",
    "\n",
    "from torch.utils import data\n",
    "from torch.utils.data import DataLoader\n",
    "\n",
    "import torchvision\n",
    "from torchvision import datasets\n",
    "from torchvision import transforms\n",
    "\n",
    "import pickle\n",
    "\n",
    "import matplotlib.pyplot as plt\n",
    "%matplotlib inline"
   ]
  },
  {
   "cell_type": "code",
   "execution_count": 2,
   "id": "8b80ddb2-ed75-4870-85b4-9300fce0df7e",
   "metadata": {},
   "outputs": [
    {
     "data": {
      "text/plain": [
       "'2.5.1+cu118'"
      ]
     },
     "execution_count": 2,
     "metadata": {},
     "output_type": "execute_result"
    }
   ],
   "source": [
    "torch.__version__"
   ]
  },
  {
   "cell_type": "code",
   "execution_count": 3,
   "id": "d6950585-eb31-4f61-bd60-5bf8716fcdef",
   "metadata": {},
   "outputs": [],
   "source": [
    "device = 'cuda' if torch.cuda.is_available() else 'cpu'"
   ]
  },
  {
   "cell_type": "code",
   "execution_count": 4,
   "id": "36c47e07-6b7d-4123-a59d-5d465f9ef280",
   "metadata": {},
   "outputs": [
    {
     "data": {
      "text/plain": [
       "'cuda'"
      ]
     },
     "execution_count": 4,
     "metadata": {},
     "output_type": "execute_result"
    }
   ],
   "source": [
    "device"
   ]
  },
  {
   "cell_type": "code",
   "execution_count": 5,
   "id": "b852ca55-f33e-469f-b7b9-e00d21124927",
   "metadata": {},
   "outputs": [],
   "source": [
    "# DCGAN Implementation Class\n",
    "# Discriminator\n",
    "class Discriminator(nn.Module):\n",
    "    def __init__(self, img_channels, features_d):\n",
    "        super().__init__()\n",
    "        self.disc = nn.Sequential(\n",
    "            # Input shape: img_channels x 64 x 64\n",
    "            nn.Conv2d(\n",
    "              in_channels=img_channels, out_channels=features_d, kernel_size=4, stride=2, padding=1\n",
    "            ), # Output shape: features_d x 32 x 32\n",
    "            nn.LeakyReLU(0.2),\n",
    "            self._block(features_d, features_d*2, 4, 2, 1), # Output shape: features_d*2 x 16 x 16\n",
    "            self._block(features_d*2, features_d*4, 4, 2, 1), # Output shape: features_d*4 x 8 x 8\n",
    "            self._block(features_d*4, features_d*8, 4, 2, 1), # Output shape: features_d*8 x 4 x 4\n",
    "           \n",
    "            nn.Conv2d(in_channels=features_d*8, out_channels=1, kernel_size=4, stride=2, padding=0), # Output shape: 1 x 1\n",
    "            nn.Sigmoid(),\n",
    "        )\n",
    "\n",
    "    def _block(self, in_channels, out_channels, kernel_size, stride, padding):\n",
    "        return nn.Sequential(\n",
    "            nn.Conv2d(in_channels, out_channels, kernel_size, stride, padding, bias=False),\n",
    "            nn.BatchNorm2d(out_channels),\n",
    "            nn.LeakyReLU(0.2),\n",
    "        )\n",
    "\n",
    "    def forward(self, X):\n",
    "        return self.disc(X)\n"
   ]
  },
  {
   "cell_type": "code",
   "execution_count": 6,
   "id": "5afe02e5-61d3-4f25-8933-8484e519cd4a",
   "metadata": {},
   "outputs": [],
   "source": [
    "# Generator\n",
    "class Generator(nn.Module):\n",
    "    def __init__(self, z_dim, img_channels, features_g):\n",
    "        super().__init__()\n",
    "        self.gen = nn.Sequential(\n",
    "            self._block(z_dim, features_g*16, 4, 1, 0), # z_dim: (batch_size, 100, 1, 1) -> (batch_size, 1024, 4, 4)\n",
    "            self._block(features_g*16, features_g*8, 4, 2, 1), # z_dim: (batch_size, 1024, 4, 4) -> (batch_size, 512, 8, 8)\n",
    "            self._block(features_g*8, features_g*4, 4, 2, 1), # z_dim: (batch_size, 512, 8, 8) -> (batch_size, 256, 16, 16)\n",
    "            self._block(features_g*4, features_g*2, 4, 2, 1), # z_dim: (batch_size, 128, 16, 16) -> (batch_size, 64, 32, 32)\n",
    "            nn.ConvTranspose2d(\n",
    "                in_channels=features_g*2, out_channels=img_channels, kernel_size=4, stride=2, padding=1 # z_dim: (batch_size, 64, 32, 32) -> (batch_size, 1, 64, 64)\n",
    "            ),\n",
    "            nn.Tanh(),\n",
    "        )\n",
    "        \n",
    "    def _block(self, in_channels, out_channels, kernel_size, stride, padding):\n",
    "        return nn.Sequential(\n",
    "            nn.ConvTranspose2d(\n",
    "                in_channels, out_channels, kernel_size, stride, padding, bias=False,\n",
    "            ),\n",
    "            nn.InstanceNorm2d(out_channels, affine=True),\n",
    "            nn.ReLU(),\n",
    "        )\n",
    "\n",
    "    def forward(self, X):\n",
    "        return self.gen(X)"
   ]
  },
  {
   "cell_type": "code",
   "execution_count": 7,
   "id": "48c1be35-d58a-4d0c-990d-9250fbdbf1b3",
   "metadata": {},
   "outputs": [],
   "source": [
    "# Hyperparams\n",
    "z_dim = 100\n",
    "img_channels = 1\n",
    "features_disc = 64\n",
    "features_gen = 64"
   ]
  },
  {
   "cell_type": "code",
   "execution_count": 8,
   "id": "f2dc1f40-5c2e-4903-b2e7-7abe5cae9772",
   "metadata": {},
   "outputs": [],
   "source": [
    "# Create the model instances\n",
    "gen = Generator(z_dim, img_channels, features_gen).to(device)\n",
    "disc = Discriminator(img_channels, features_disc).to(device)"
   ]
  },
  {
   "cell_type": "code",
   "execution_count": 9,
   "id": "bc7a5deb-f8d8-41d4-aed3-d012d39a84b9",
   "metadata": {},
   "outputs": [
    {
     "data": {
      "text/plain": [
       "<All keys matched successfully>"
      ]
     },
     "execution_count": 9,
     "metadata": {},
     "output_type": "execute_result"
    }
   ],
   "source": [
    "# Load the trained GAN\n",
    "gen.load_state_dict(torch.load('saved models/Generator2.pth', weights_only=True))\n",
    "disc.load_state_dict(torch.load('saved models/Discriminator2.pth', weights_only=True))"
   ]
  },
  {
   "cell_type": "code",
   "execution_count": 10,
   "id": "a504e932-e168-4bb8-88cc-eea0810aafb0",
   "metadata": {},
   "outputs": [],
   "source": [
    "# Generate a random fake image\n",
    "noise = torch.randn(1, z_dim, 1, 1).to(device)\n",
    "fake_img = gen(noise)"
   ]
  },
  {
   "cell_type": "code",
   "execution_count": 11,
   "id": "98b5d73f-b130-4bc1-a868-c225bd2abe62",
   "metadata": {},
   "outputs": [
    {
     "data": {
      "text/plain": [
       "torch.Size([1, 1, 64, 64])"
      ]
     },
     "execution_count": 11,
     "metadata": {},
     "output_type": "execute_result"
    }
   ],
   "source": [
    "fake_img.shape"
   ]
  },
  {
   "cell_type": "code",
   "execution_count": 12,
   "id": "9d19338c-18e4-4b6e-842f-a225718fa8bb",
   "metadata": {},
   "outputs": [
    {
     "name": "stdout",
     "output_type": "stream",
     "text": [
      "torch.Size([64, 64])\n"
     ]
    },
    {
     "data": {
      "text/plain": [
       "<matplotlib.image.AxesImage at 0x25ed3a7cf70>"
      ]
     },
     "execution_count": 12,
     "metadata": {},
     "output_type": "execute_result"
    },
    {
     "data": {
      "image/png": "[encoded data removed]",
      "text/plain": [
       "<Figure size 640x480 with 1 Axes>"
      ]
     },
     "metadata": {},
     "output_type": "display_data"
    }
   ],
   "source": [
    "fake_img = fake_img.squeeze()\n",
    "print(fake_img.shape)\n",
    "plt.axis(False)\n",
    "plt.title('Fake Generated Image:')\n",
    "plt.imshow(fake_img.cpu().detach(), cmap='gray')"
   ]
  },
  {
   "cell_type": "code",
   "execution_count": 13,
   "id": "cf2aefac-a759-4335-a3de-2065d6a6a9a5",
   "metadata": {},
   "outputs": [],
   "source": [
    "# Target Model\n",
    "class TFCNN(nn.Module):\n",
    "    def __init__(self, n_classes):\n",
    "        super().__init__()\n",
    "        self.n_classes = n_classes\n",
    "\n",
    "        self.encoder = nn.Sequential(\n",
    "            nn.Conv2d(3, 32, 3, stride=1, padding=1),\n",
    "            nn.ReLU(True),\n",
    "            nn.MaxPool2d(2),\n",
    "            nn.Conv2d(32, 64, 3, stride=1, padding=1),\n",
    "            nn.ReLU(True),\n",
    "            nn.MaxPool2d(2),\n",
    "            nn.Conv2d(64, 64, 3, stride=1, padding=1),\n",
    "            nn.ReLU(True),\n",
    "            nn.MaxPool2d(2),\n",
    "            Reshape(),\n",
    "        )\n",
    "\n",
    "        self.h_size = 64 * 4 * 4\n",
    "\n",
    "        self.classifier = nn.Sequential(\n",
    "            nn.Linear(64 * 4 * 4, 128),\n",
    "            nn.ReLU(True),\n",
    "            nn.Linear(128, n_classes)\n",
    "        )\n",
    "\n",
    "    def forward(self, xs):\n",
    "        code = self.encoder(xs)\n",
    "        logits = self.classifier(code)\n",
    "        return code, logits\n"
   ]
  },
  {
   "cell_type": "code",
   "execution_count": 14,
   "id": "d28876e2-91ee-4ebf-bc52-b71dc82edfa2",
   "metadata": {},
   "outputs": [],
   "source": [
    "class Reshape(nn.Module):\n",
    "    def __init__(self,):\n",
    "        super().__init__()\n",
    "\n",
    "    def forward(self, xs):\n",
    "        return xs.reshape((xs.shape[0], -1))"
   ]
  },
  {
   "cell_type": "code",
   "execution_count": 15,
   "id": "dd57210c-2c18-4651-8f29-be94a7a7a88f",
   "metadata": {},
   "outputs": [],
   "source": [
    "class ClassifyNet(nn.Module):\n",
    "    def __init__(self, net, init_way, n_classes, input_size=None):\n",
    "        super().__init__()\n",
    "        self.net = net\n",
    "        self.init_way = init_way\n",
    "        self.n_classes = n_classes\n",
    "\n",
    "        model = TFCNN(n_classes)\n",
    "\n",
    "        self.h_size = model.h_size\n",
    "\n",
    "        # Convo and pool layers\n",
    "        self.encoder = model.encoder\n",
    "\n",
    "        # Classifier layer\n",
    "        self.classifier = nn.Linear(\n",
    "            self.h_size, self.n_classes, bias=False\n",
    "        )\n",
    "\n",
    "        if self.init_way == \"orth\":\n",
    "            ws = get_orth_weights(self.h_size, self.n_classes)\n",
    "            self.classifier.load_state_dict({\"weight\": ws})\n",
    "\n",
    "    def forward(self, xs):\n",
    "        hs = self.encoder(xs)\n",
    "        logits = self.classifier(hs)\n",
    "        return hs, logits"
   ]
  },
  {
   "cell_type": "code",
   "execution_count": 16,
   "id": "83ea3c08-0470-4c9a-ba15-8328a316b3ab",
   "metadata": {},
   "outputs": [],
   "source": [
    "def load_target_model(base_net, n_classes, path):\n",
    "    # Create the base model\n",
    "    model = ClassifyNet(net=base_net, init_way='none', n_classes=n_classes)\n",
    "    # Load the model\n",
    "    model.load_state_dict(torch.load(path, weights_only=True))\n",
    "\n",
    "    return model"
   ]
  },
  {
   "cell_type": "code",
   "execution_count": 17,
   "id": "0880f1aa-9d08-445a-85ac-f1ff3cebde04",
   "metadata": {},
   "outputs": [
    {
     "name": "stdout",
     "output_type": "stream",
     "text": [
      "Model loaded successfully!\n",
      "Number of parameters in the loaded model: 60416\n"
     ]
    }
   ],
   "source": [
    "# Target Model Loading\n",
    "BASE_NET = 'TFCNN'\n",
    "DATASET = 'tumor4'\n",
    "N_CLASSES = 4\n",
    "\n",
    "target_model = load_target_model(base_net=BASE_NET, n_classes=N_CLASSES, path='saved models/MoonDP_global_model1.path').to(device)\n",
    "print('Model loaded successfully!')\n",
    "target_model.eval()\n",
    "\n",
    "num_params = sum(p.numel() for p in target_model.parameters())\n",
    "print('Number of parameters in the loaded model:', num_params)\n"
   ]
  },
  {
   "cell_type": "code",
   "execution_count": 18,
   "id": "f843f19e-b2a5-4ffe-b22b-de4ff93c5643",
   "metadata": {},
   "outputs": [],
   "source": [
    "# BEGIN BATCH MODEL INVERSION\n",
    "img_count = 20\n",
    "latent_vectors = torch.randn(img_count, z_dim, 1, 1, requires_grad=True) # Start with 20 random noises"
   ]
  },
  {
   "cell_type": "code",
   "execution_count": 19,
   "id": "c21320ed-d5ac-4919-aaad-8cfa093998a6",
   "metadata": {},
   "outputs": [],
   "source": [
    "def recover_images(count, target_image_class, latent_vectors):\n",
    "    optimized_latent_vectors = []\n",
    "    \n",
    "    for x in range(0, count):\n",
    "        z = latent_vectors[x].unsqueeze(dim=0).clone().detach().requires_grad_(True)\n",
    "        \n",
    "        learning_rate = 0.01\n",
    "        target_class = 1 # The second class\n",
    "        \n",
    "        # Create the optimizer\n",
    "        optimizer = torch.optim.Adam([z], lr=learning_rate)\n",
    "        \n",
    "        # Loss function (e.g., Cross-Entropy with classifier outputs)\n",
    "        loss_fn = nn.CrossEntropyLoss()\n",
    "        target_class = torch.tensor([target_image_class])  # Set the target class\n",
    "    \n",
    "        # Optimization loop to find the best z\n",
    "        rounds = 500\n",
    "        for i in range(rounds):\n",
    "            optimizer.zero_grad()\n",
    "            \n",
    "            generated_image = gen(z.to(device))  # Generate an image from the latent vector\n",
    "            generated_image = generated_image.repeat(1, 3, 1, 1)\n",
    "            generated_image = functional.interpolate(generated_image, size=(32, 32), mode='nearest')\n",
    "            #print(generated_image.shape)\n",
    "            hs, prediction_logits = target_model(generated_image)  # Classifier output\n",
    "            #print(prediction_logits)\n",
    "            #print(type(prediction_logits))\n",
    "            loss = loss_fn(prediction_logits, target_class.to(device))  # Minimize difference with true class\n",
    "            loss.backward()\n",
    "            optimizer.step()\n",
    "            \n",
    "            if i % 50 == 0:\n",
    "                print(f\"Generating Image Number: {x+1} for target class {target_class}. Step {i}, Loss: {loss.item()}\")\n",
    "    \n",
    "        optimized_latent_vectors.append(z)\n",
    "        \n",
    "    return optimized_latent_vectors"
   ]
  },
  {
   "cell_type": "code",
   "execution_count": 20,
   "id": "9ebc9533-23ca-4d44-8aea-9d134281b3a4",
   "metadata": {
    "scrolled": true
   },
   "outputs": [
    {
     "name": "stdout",
     "output_type": "stream",
     "text": [
      "Generating Image Number: 1 for target class tensor([0]). Step 0, Loss: 48.68917465209961\n",
      "Generating Image Number: 1 for target class tensor([0]). Step 50, Loss: 27.53343391418457\n",
      "Generating Image Number: 1 for target class tensor([0]). Step 100, Loss: 26.308067321777344\n",
      "Generating Image Number: 1 for target class tensor([0]). Step 150, Loss: 24.866605758666992\n",
      "Generating Image Number: 1 for target class tensor([0]). Step 200, Loss: 24.0860538482666\n",
      "Generating Image Number: 1 for target class tensor([0]). Step 250, Loss: 23.611406326293945\n",
      "Generating Image Number: 1 for target class tensor([0]). Step 300, Loss: 23.149263381958008\n",
      "Generating Image Number: 1 for target class tensor([0]). Step 350, Loss: 22.722803115844727\n",
      "Generating Image Number: 1 for target class tensor([0]). Step 400, Loss: 22.24547576904297\n",
      "Generating Image Number: 1 for target class tensor([0]). Step 450, Loss: 21.913122177124023\n",
      "Generating Image Number: 2 for target class tensor([0]). Step 0, Loss: 58.47883987426758\n",
      "Generating Image Number: 2 for target class tensor([0]). Step 50, Loss: 27.168331146240234\n",
      "Generating Image Number: 2 for target class tensor([0]). Step 100, Loss: 26.11968421936035\n",
      "Generating Image Number: 2 for target class tensor([0]). Step 150, Loss: 25.29228973388672\n",
      "Generating Image Number: 2 for target class tensor([0]). Step 200, Loss: 24.188913345336914\n",
      "Generating Image Number: 2 for target class tensor([0]). Step 250, Loss: 23.279953002929688\n",
      "Generating Image Number: 2 for target class tensor([0]). Step 300, Loss: 22.127809524536133\n",
      "Generating Image Number: 2 for target class tensor([0]). Step 350, Loss: 21.664613723754883\n",
      "Generating Image Number: 2 for target class tensor([0]). Step 400, Loss: 21.397048950195312\n",
      "Generating Image Number: 2 for target class tensor([0]). Step 450, Loss: 21.166606903076172\n",
      "Generating Image Number: 3 for target class tensor([0]). Step 0, Loss: 36.84550857543945\n",
      "Generating Image Number: 3 for target class tensor([0]). Step 50, Loss: 26.61356544494629\n",
      "Generating Image Number: 3 for target class tensor([0]). Step 100, Loss: 25.761123657226562\n",
      "Generating Image Number: 3 for target class tensor([0]). Step 150, Loss: 24.9840030670166\n",
      "Generating Image Number: 3 for target class tensor([0]). Step 200, Loss: 23.935470581054688\n",
      "Generating Image Number: 3 for target class tensor([0]). Step 250, Loss: 22.78321647644043\n",
      "Generating Image Number: 3 for target class tensor([0]). Step 300, Loss: 21.680002212524414\n",
      "Generating Image Number: 3 for target class tensor([0]). Step 350, Loss: 20.58660316467285\n",
      "Generating Image Number: 3 for target class tensor([0]). Step 400, Loss: 20.000530242919922\n",
      "Generating Image Number: 3 for target class tensor([0]). Step 450, Loss: 19.49103355407715\n",
      "Generating Image Number: 4 for target class tensor([0]). Step 0, Loss: 53.665584564208984\n",
      "Generating Image Number: 4 for target class tensor([0]). Step 50, Loss: 46.79656982421875\n",
      "Generating Image Number: 4 for target class tensor([0]). Step 100, Loss: 42.34080505371094\n",
      "Generating Image Number: 4 for target class tensor([0]). Step 150, Loss: 39.893089294433594\n",
      "Generating Image Number: 4 for target class tensor([0]). Step 200, Loss: 38.7347412109375\n",
      "Generating Image Number: 4 for target class tensor([0]). Step 250, Loss: 38.02862548828125\n",
      "Generating Image Number: 4 for target class tensor([0]). Step 300, Loss: 37.570045471191406\n",
      "Generating Image Number: 4 for target class tensor([0]). Step 350, Loss: 37.01454544067383\n",
      "Generating Image Number: 4 for target class tensor([0]). Step 400, Loss: 36.086395263671875\n",
      "Generating Image Number: 4 for target class tensor([0]). Step 450, Loss: 35.216270446777344\n",
      "Generating Image Number: 5 for target class tensor([0]). Step 0, Loss: 41.540958404541016\n",
      "Generating Image Number: 5 for target class tensor([0]). Step 50, Loss: 24.04369354248047\n",
      "Generating Image Number: 5 for target class tensor([0]). Step 100, Loss: 23.26056671142578\n",
      "Generating Image Number: 5 for target class tensor([0]). Step 150, Loss: 22.519733428955078\n",
      "Generating Image Number: 5 for target class tensor([0]). Step 200, Loss: 21.66322898864746\n",
      "Generating Image Number: 5 for target class tensor([0]). Step 250, Loss: 20.9139461517334\n",
      "Generating Image Number: 5 for target class tensor([0]). Step 300, Loss: 20.478574752807617\n",
      "Generating Image Number: 5 for target class tensor([0]). Step 350, Loss: 20.149978637695312\n",
      "Generating Image Number: 5 for target class tensor([0]). Step 400, Loss: 19.672378540039062\n",
      "Generating Image Number: 5 for target class tensor([0]). Step 450, Loss: 19.325359344482422\n",
      "Generating Image Number: 6 for target class tensor([0]). Step 0, Loss: 32.026763916015625\n",
      "Generating Image Number: 6 for target class tensor([0]). Step 50, Loss: 26.043556213378906\n",
      "Generating Image Number: 6 for target class tensor([0]). Step 100, Loss: 25.100963592529297\n",
      "Generating Image Number: 6 for target class tensor([0]). Step 150, Loss: 23.90260887145996\n",
      "Generating Image Number: 6 for target class tensor([0]). Step 200, Loss: 23.00177764892578\n",
      "Generating Image Number: 6 for target class tensor([0]). Step 250, Loss: 22.386518478393555\n",
      "Generating Image Number: 6 for target class tensor([0]). Step 300, Loss: 21.91151237487793\n",
      "Generating Image Number: 6 for target class tensor([0]). Step 350, Loss: 21.464550018310547\n",
      "Generating Image Number: 6 for target class tensor([0]). Step 400, Loss: 20.87786293029785\n",
      "Generating Image Number: 6 for target class tensor([0]). Step 450, Loss: 20.071487426757812\n",
      "Generating Image Number: 7 for target class tensor([0]). Step 0, Loss: 33.211708068847656\n",
      "Generating Image Number: 7 for target class tensor([0]). Step 50, Loss: 25.086925506591797\n",
      "Generating Image Number: 7 for target class tensor([0]). Step 100, Loss: 23.740299224853516\n",
      "Generating Image Number: 7 for target class tensor([0]). Step 150, Loss: 22.654550552368164\n",
      "Generating Image Number: 7 for target class tensor([0]). Step 200, Loss: 21.262191772460938\n",
      "Generating Image Number: 7 for target class tensor([0]). Step 250, Loss: 20.297622680664062\n",
      "Generating Image Number: 7 for target class tensor([0]). Step 300, Loss: 19.48847007751465\n",
      "Generating Image Number: 7 for target class tensor([0]). Step 350, Loss: 19.223289489746094\n",
      "Generating Image Number: 7 for target class tensor([0]). Step 400, Loss: 19.081953048706055\n",
      "Generating Image Number: 7 for target class tensor([0]). Step 450, Loss: 18.961116790771484\n",
      "Generating Image Number: 8 for target class tensor([0]). Step 0, Loss: 45.728912353515625\n",
      "Generating Image Number: 8 for target class tensor([0]). Step 50, Loss: 26.900846481323242\n",
      "Generating Image Number: 8 for target class tensor([0]). Step 100, Loss: 26.17620277404785\n",
      "Generating Image Number: 8 for target class tensor([0]). Step 150, Loss: 25.3170166015625\n",
      "Generating Image Number: 8 for target class tensor([0]). Step 200, Loss: 24.656957626342773\n",
      "Generating Image Number: 8 for target class tensor([0]). Step 250, Loss: 23.903587341308594\n",
      "Generating Image Number: 8 for target class tensor([0]). Step 300, Loss: 23.27373695373535\n",
      "Generating Image Number: 8 for target class tensor([0]). Step 350, Loss: 22.698463439941406\n",
      "Generating Image Number: 8 for target class tensor([0]). Step 400, Loss: 22.199296951293945\n",
      "Generating Image Number: 8 for target class tensor([0]). Step 450, Loss: 21.75114631652832\n",
      "Generating Image Number: 9 for target class tensor([0]). Step 0, Loss: 29.463350296020508\n",
      "Generating Image Number: 9 for target class tensor([0]). Step 50, Loss: 24.043716430664062\n",
      "Generating Image Number: 9 for target class tensor([0]). Step 100, Loss: 23.272056579589844\n",
      "Generating Image Number: 9 for target class tensor([0]). Step 150, Loss: 22.670785903930664\n",
      "Generating Image Number: 9 for target class tensor([0]). Step 200, Loss: 22.076223373413086\n",
      "Generating Image Number: 9 for target class tensor([0]). Step 250, Loss: 21.413410186767578\n",
      "Generating Image Number: 9 for target class tensor([0]). Step 300, Loss: 20.970521926879883\n",
      "Generating Image Number: 9 for target class tensor([0]). Step 350, Loss: 20.48187255859375\n",
      "Generating Image Number: 9 for target class tensor([0]). Step 400, Loss: 20.01184844970703\n",
      "Generating Image Number: 9 for target class tensor([0]). Step 450, Loss: 19.619903564453125\n",
      "Generating Image Number: 10 for target class tensor([0]). Step 0, Loss: 12.493398666381836\n",
      "Generating Image Number: 10 for target class tensor([0]). Step 50, Loss: 6.181080341339111\n",
      "Generating Image Number: 10 for target class tensor([0]). Step 100, Loss: 3.122410535812378\n",
      "Generating Image Number: 10 for target class tensor([0]). Step 150, Loss: 1.7647496461868286\n",
      "Generating Image Number: 10 for target class tensor([0]). Step 200, Loss: 0.98039311170578\n",
      "Generating Image Number: 10 for target class tensor([0]). Step 250, Loss: 0.733635663986206\n",
      "Generating Image Number: 10 for target class tensor([0]). Step 300, Loss: 0.5408123135566711\n",
      "Generating Image Number: 10 for target class tensor([0]). Step 350, Loss: 0.44866394996643066\n",
      "Generating Image Number: 10 for target class tensor([0]). Step 400, Loss: 0.3789234757423401\n",
      "Generating Image Number: 10 for target class tensor([0]). Step 450, Loss: 0.3125811219215393\n",
      "Generating Image Number: 11 for target class tensor([0]). Step 0, Loss: 25.999074935913086\n",
      "Generating Image Number: 11 for target class tensor([0]). Step 50, Loss: 21.357196807861328\n",
      "Generating Image Number: 11 for target class tensor([0]). Step 100, Loss: 20.55653953552246\n",
      "Generating Image Number: 11 for target class tensor([0]). Step 150, Loss: 20.006328582763672\n",
      "Generating Image Number: 11 for target class tensor([0]). Step 200, Loss: 19.70336151123047\n",
      "Generating Image Number: 11 for target class tensor([0]). Step 250, Loss: 19.74163246154785\n",
      "Generating Image Number: 11 for target class tensor([0]). Step 300, Loss: 19.301000595092773\n",
      "Generating Image Number: 11 for target class tensor([0]). Step 350, Loss: 19.04576873779297\n",
      "Generating Image Number: 11 for target class tensor([0]). Step 400, Loss: 18.87989616394043\n",
      "Generating Image Number: 11 for target class tensor([0]). Step 450, Loss: 18.63803482055664\n",
      "Generating Image Number: 12 for target class tensor([0]). Step 0, Loss: 34.651344299316406\n",
      "Generating Image Number: 12 for target class tensor([0]). Step 50, Loss: 26.725496292114258\n",
      "Generating Image Number: 12 for target class tensor([0]). Step 100, Loss: 23.54058074951172\n",
      "Generating Image Number: 12 for target class tensor([0]). Step 150, Loss: 22.077159881591797\n",
      "Generating Image Number: 12 for target class tensor([0]). Step 200, Loss: 21.613540649414062\n",
      "Generating Image Number: 12 for target class tensor([0]). Step 250, Loss: 21.33671760559082\n",
      "Generating Image Number: 12 for target class tensor([0]). Step 300, Loss: 21.080080032348633\n",
      "Generating Image Number: 12 for target class tensor([0]). Step 350, Loss: 20.843652725219727\n",
      "Generating Image Number: 12 for target class tensor([0]). Step 400, Loss: 20.64842414855957\n",
      "Generating Image Number: 12 for target class tensor([0]). Step 450, Loss: 20.421310424804688\n",
      "Generating Image Number: 13 for target class tensor([0]). Step 0, Loss: 52.29092025756836\n",
      "Generating Image Number: 13 for target class tensor([0]). Step 50, Loss: 27.19326400756836\n",
      "Generating Image Number: 13 for target class tensor([0]). Step 100, Loss: 26.276670455932617\n",
      "Generating Image Number: 13 for target class tensor([0]). Step 150, Loss: 25.500757217407227\n",
      "Generating Image Number: 13 for target class tensor([0]). Step 200, Loss: 24.755901336669922\n",
      "Generating Image Number: 13 for target class tensor([0]). Step 250, Loss: 23.546600341796875\n",
      "Generating Image Number: 13 for target class tensor([0]). Step 300, Loss: 22.20900535583496\n",
      "Generating Image Number: 13 for target class tensor([0]). Step 350, Loss: 21.41255760192871\n",
      "Generating Image Number: 13 for target class tensor([0]). Step 400, Loss: 21.082992553710938\n",
      "Generating Image Number: 13 for target class tensor([0]). Step 450, Loss: 20.696107864379883\n",
      "Generating Image Number: 14 for target class tensor([0]). Step 0, Loss: 54.043113708496094\n",
      "Generating Image Number: 14 for target class tensor([0]). Step 50, Loss: 30.528711318969727\n",
      "Generating Image Number: 14 for target class tensor([0]). Step 100, Loss: 27.66582679748535\n",
      "Generating Image Number: 14 for target class tensor([0]). Step 150, Loss: 26.608684539794922\n",
      "Generating Image Number: 14 for target class tensor([0]). Step 200, Loss: 26.132686614990234\n",
      "Generating Image Number: 14 for target class tensor([0]). Step 250, Loss: 25.57980728149414\n",
      "Generating Image Number: 14 for target class tensor([0]). Step 300, Loss: 24.897031784057617\n",
      "Generating Image Number: 14 for target class tensor([0]). Step 350, Loss: 24.292741775512695\n",
      "Generating Image Number: 14 for target class tensor([0]). Step 400, Loss: 23.288944244384766\n",
      "Generating Image Number: 14 for target class tensor([0]). Step 450, Loss: 22.36493492126465\n",
      "Generating Image Number: 15 for target class tensor([0]). Step 0, Loss: 31.41834259033203\n",
      "Generating Image Number: 15 for target class tensor([0]). Step 50, Loss: 26.795076370239258\n",
      "Generating Image Number: 15 for target class tensor([0]). Step 100, Loss: 26.04547882080078\n",
      "Generating Image Number: 15 for target class tensor([0]). Step 150, Loss: 24.90126609802246\n",
      "Generating Image Number: 15 for target class tensor([0]). Step 200, Loss: 23.27206039428711\n",
      "Generating Image Number: 15 for target class tensor([0]). Step 250, Loss: 22.23697853088379\n",
      "Generating Image Number: 15 for target class tensor([0]). Step 300, Loss: 21.551328659057617\n",
      "Generating Image Number: 15 for target class tensor([0]). Step 350, Loss: 20.901817321777344\n",
      "Generating Image Number: 15 for target class tensor([0]). Step 400, Loss: 20.303173065185547\n",
      "Generating Image Number: 15 for target class tensor([0]). Step 450, Loss: 19.888540267944336\n",
      "Generating Image Number: 16 for target class tensor([0]). Step 0, Loss: 30.121871948242188\n",
      "Generating Image Number: 16 for target class tensor([0]). Step 50, Loss: 25.337337493896484\n",
      "Generating Image Number: 16 for target class tensor([0]). Step 100, Loss: 24.348644256591797\n",
      "Generating Image Number: 16 for target class tensor([0]). Step 150, Loss: 22.88917350769043\n",
      "Generating Image Number: 16 for target class tensor([0]). Step 200, Loss: 21.990386962890625\n",
      "Generating Image Number: 16 for target class tensor([0]). Step 250, Loss: 21.47765350341797\n",
      "Generating Image Number: 16 for target class tensor([0]). Step 300, Loss: 21.060415267944336\n",
      "Generating Image Number: 16 for target class tensor([0]). Step 350, Loss: 20.616228103637695\n",
      "Generating Image Number: 16 for target class tensor([0]). Step 400, Loss: 20.098236083984375\n",
      "Generating Image Number: 16 for target class tensor([0]). Step 450, Loss: 19.69450569152832\n",
      "Generating Image Number: 17 for target class tensor([0]). Step 0, Loss: 26.979576110839844\n",
      "Generating Image Number: 17 for target class tensor([0]). Step 50, Loss: 23.100936889648438\n",
      "Generating Image Number: 17 for target class tensor([0]). Step 100, Loss: 21.16778564453125\n",
      "Generating Image Number: 17 for target class tensor([0]). Step 150, Loss: 20.369722366333008\n",
      "Generating Image Number: 17 for target class tensor([0]). Step 200, Loss: 19.598678588867188\n",
      "Generating Image Number: 17 for target class tensor([0]). Step 250, Loss: 19.121723175048828\n",
      "Generating Image Number: 17 for target class tensor([0]). Step 300, Loss: 18.905147552490234\n",
      "Generating Image Number: 17 for target class tensor([0]). Step 350, Loss: 18.638534545898438\n",
      "Generating Image Number: 17 for target class tensor([0]). Step 400, Loss: 18.464807510375977\n",
      "Generating Image Number: 17 for target class tensor([0]). Step 450, Loss: 18.35283851623535\n",
      "Generating Image Number: 18 for target class tensor([0]). Step 0, Loss: 32.89624786376953\n",
      "Generating Image Number: 18 for target class tensor([0]). Step 50, Loss: 24.752389907836914\n",
      "Generating Image Number: 18 for target class tensor([0]). Step 100, Loss: 23.85730743408203\n",
      "Generating Image Number: 18 for target class tensor([0]). Step 150, Loss: 23.334068298339844\n",
      "Generating Image Number: 18 for target class tensor([0]). Step 200, Loss: 22.89171600341797\n",
      "Generating Image Number: 18 for target class tensor([0]). Step 250, Loss: 22.417909622192383\n",
      "Generating Image Number: 18 for target class tensor([0]). Step 300, Loss: 21.981731414794922\n",
      "Generating Image Number: 18 for target class tensor([0]). Step 350, Loss: 21.592092514038086\n",
      "Generating Image Number: 18 for target class tensor([0]). Step 400, Loss: 21.28449058532715\n",
      "Generating Image Number: 18 for target class tensor([0]). Step 450, Loss: 21.034915924072266\n",
      "Generating Image Number: 19 for target class tensor([0]). Step 0, Loss: 30.332387924194336\n",
      "Generating Image Number: 19 for target class tensor([0]). Step 50, Loss: 27.207033157348633\n",
      "Generating Image Number: 19 for target class tensor([0]). Step 100, Loss: 26.6513729095459\n",
      "Generating Image Number: 19 for target class tensor([0]). Step 150, Loss: 25.544532775878906\n",
      "Generating Image Number: 19 for target class tensor([0]). Step 200, Loss: 25.17265510559082\n",
      "Generating Image Number: 19 for target class tensor([0]). Step 250, Loss: 24.952293395996094\n",
      "Generating Image Number: 19 for target class tensor([0]). Step 300, Loss: 24.722354888916016\n",
      "Generating Image Number: 19 for target class tensor([0]). Step 350, Loss: 24.589109420776367\n",
      "Generating Image Number: 19 for target class tensor([0]). Step 400, Loss: 24.461414337158203\n",
      "Generating Image Number: 19 for target class tensor([0]). Step 450, Loss: 24.295263290405273\n",
      "Generating Image Number: 20 for target class tensor([0]). Step 0, Loss: 58.78599548339844\n",
      "Generating Image Number: 20 for target class tensor([0]). Step 50, Loss: 33.97476577758789\n",
      "Generating Image Number: 20 for target class tensor([0]). Step 100, Loss: 25.38421058654785\n",
      "Generating Image Number: 20 for target class tensor([0]). Step 150, Loss: 24.400548934936523\n",
      "Generating Image Number: 20 for target class tensor([0]). Step 200, Loss: 23.47381591796875\n",
      "Generating Image Number: 20 for target class tensor([0]). Step 250, Loss: 22.467226028442383\n",
      "Generating Image Number: 20 for target class tensor([0]). Step 300, Loss: 21.80961036682129\n",
      "Generating Image Number: 20 for target class tensor([0]). Step 350, Loss: 21.330820083618164\n",
      "Generating Image Number: 20 for target class tensor([0]). Step 400, Loss: 20.88833999633789\n",
      "Generating Image Number: 20 for target class tensor([0]). Step 450, Loss: 20.63907241821289\n"
     ]
    }
   ],
   "source": [
    "class0_optimized_latent_vectors = recover_images(img_count, 0, latent_vectors)"
   ]
  },
  {
   "cell_type": "code",
   "execution_count": 21,
   "id": "6718334c-2bb1-42a3-bd8c-6aea38e6b59c",
   "metadata": {
    "scrolled": true
   },
   "outputs": [
    {
     "name": "stdout",
     "output_type": "stream",
     "text": [
      "Generating Image Number: 1 for target class tensor([1]). Step 0, Loss: 35.9345703125\n",
      "Generating Image Number: 1 for target class tensor([1]). Step 50, Loss: 22.853111267089844\n",
      "Generating Image Number: 1 for target class tensor([1]). Step 100, Loss: 17.524261474609375\n",
      "Generating Image Number: 1 for target class tensor([1]). Step 150, Loss: 12.066444396972656\n",
      "Generating Image Number: 1 for target class tensor([1]). Step 200, Loss: 11.08877182006836\n",
      "Generating Image Number: 1 for target class tensor([1]). Step 250, Loss: 10.245566368103027\n",
      "Generating Image Number: 1 for target class tensor([1]). Step 300, Loss: 9.684473991394043\n",
      "Generating Image Number: 1 for target class tensor([1]). Step 350, Loss: 9.297783851623535\n",
      "Generating Image Number: 1 for target class tensor([1]). Step 400, Loss: 9.001657485961914\n",
      "Generating Image Number: 1 for target class tensor([1]). Step 450, Loss: 8.494391441345215\n",
      "Generating Image Number: 2 for target class tensor([1]). Step 0, Loss: 37.15407943725586\n",
      "Generating Image Number: 2 for target class tensor([1]). Step 50, Loss: 24.211942672729492\n",
      "Generating Image Number: 2 for target class tensor([1]). Step 100, Loss: 22.458879470825195\n",
      "Generating Image Number: 2 for target class tensor([1]). Step 150, Loss: 21.100406646728516\n",
      "Generating Image Number: 2 for target class tensor([1]). Step 200, Loss: 20.214818954467773\n",
      "Generating Image Number: 2 for target class tensor([1]). Step 250, Loss: 19.289731979370117\n",
      "Generating Image Number: 2 for target class tensor([1]). Step 300, Loss: 18.58547019958496\n",
      "Generating Image Number: 2 for target class tensor([1]). Step 350, Loss: 18.059185028076172\n",
      "Generating Image Number: 2 for target class tensor([1]). Step 400, Loss: 17.307109832763672\n",
      "Generating Image Number: 2 for target class tensor([1]). Step 450, Loss: 16.960275650024414\n",
      "Generating Image Number: 3 for target class tensor([1]). Step 0, Loss: 49.85681915283203\n",
      "Generating Image Number: 3 for target class tensor([1]). Step 50, Loss: 21.936899185180664\n",
      "Generating Image Number: 3 for target class tensor([1]). Step 100, Loss: 17.470720291137695\n",
      "Generating Image Number: 3 for target class tensor([1]). Step 150, Loss: 15.772028923034668\n",
      "Generating Image Number: 3 for target class tensor([1]). Step 200, Loss: 14.414046287536621\n",
      "Generating Image Number: 3 for target class tensor([1]). Step 250, Loss: 16.36581802368164\n",
      "Generating Image Number: 3 for target class tensor([1]). Step 300, Loss: 12.567490577697754\n",
      "Generating Image Number: 3 for target class tensor([1]). Step 350, Loss: 11.927249908447266\n",
      "Generating Image Number: 3 for target class tensor([1]). Step 400, Loss: 10.980250358581543\n",
      "Generating Image Number: 3 for target class tensor([1]). Step 450, Loss: 10.288005828857422\n",
      "Generating Image Number: 4 for target class tensor([1]). Step 0, Loss: 56.20933151245117\n",
      "Generating Image Number: 4 for target class tensor([1]). Step 50, Loss: 43.26787185668945\n",
      "Generating Image Number: 4 for target class tensor([1]). Step 100, Loss: 23.297714233398438\n",
      "Generating Image Number: 4 for target class tensor([1]). Step 150, Loss: 19.97412109375\n",
      "Generating Image Number: 4 for target class tensor([1]). Step 200, Loss: 14.651144981384277\n",
      "Generating Image Number: 4 for target class tensor([1]). Step 250, Loss: 12.68500804901123\n",
      "Generating Image Number: 4 for target class tensor([1]). Step 300, Loss: 11.725347518920898\n",
      "Generating Image Number: 4 for target class tensor([1]). Step 350, Loss: 10.98298454284668\n",
      "Generating Image Number: 4 for target class tensor([1]). Step 400, Loss: 10.666133880615234\n",
      "Generating Image Number: 4 for target class tensor([1]). Step 450, Loss: 10.101787567138672\n",
      "Generating Image Number: 5 for target class tensor([1]). Step 0, Loss: 55.35243225097656\n",
      "Generating Image Number: 5 for target class tensor([1]). Step 50, Loss: 52.19164276123047\n",
      "Generating Image Number: 5 for target class tensor([1]). Step 100, Loss: 50.81980895996094\n",
      "Generating Image Number: 5 for target class tensor([1]). Step 150, Loss: 50.225929260253906\n",
      "Generating Image Number: 5 for target class tensor([1]). Step 200, Loss: 49.88157653808594\n",
      "Generating Image Number: 5 for target class tensor([1]). Step 250, Loss: 49.65684127807617\n",
      "Generating Image Number: 5 for target class tensor([1]). Step 300, Loss: 49.36656951904297\n",
      "Generating Image Number: 5 for target class tensor([1]). Step 350, Loss: 49.18743133544922\n",
      "Generating Image Number: 5 for target class tensor([1]). Step 400, Loss: 49.00507354736328\n",
      "Generating Image Number: 5 for target class tensor([1]). Step 450, Loss: 48.8233642578125\n",
      "Generating Image Number: 6 for target class tensor([1]). Step 0, Loss: 60.87560272216797\n",
      "Generating Image Number: 6 for target class tensor([1]). Step 50, Loss: 52.23539352416992\n",
      "Generating Image Number: 6 for target class tensor([1]). Step 100, Loss: 50.98951721191406\n",
      "Generating Image Number: 6 for target class tensor([1]). Step 150, Loss: 50.12303161621094\n",
      "Generating Image Number: 6 for target class tensor([1]). Step 200, Loss: 49.46184158325195\n",
      "Generating Image Number: 6 for target class tensor([1]). Step 250, Loss: 48.6744270324707\n",
      "Generating Image Number: 6 for target class tensor([1]). Step 300, Loss: 47.59440612792969\n",
      "Generating Image Number: 6 for target class tensor([1]). Step 350, Loss: 46.633155822753906\n",
      "Generating Image Number: 6 for target class tensor([1]). Step 400, Loss: 46.18012237548828\n",
      "Generating Image Number: 6 for target class tensor([1]). Step 450, Loss: 45.739925384521484\n",
      "Generating Image Number: 7 for target class tensor([1]). Step 0, Loss: 19.080881118774414\n",
      "Generating Image Number: 7 for target class tensor([1]). Step 50, Loss: 10.699519157409668\n",
      "Generating Image Number: 7 for target class tensor([1]). Step 100, Loss: 9.187609672546387\n",
      "Generating Image Number: 7 for target class tensor([1]). Step 150, Loss: 8.361871719360352\n",
      "Generating Image Number: 7 for target class tensor([1]). Step 200, Loss: 7.741967678070068\n",
      "Generating Image Number: 7 for target class tensor([1]). Step 250, Loss: 7.2342119216918945\n",
      "Generating Image Number: 7 for target class tensor([1]). Step 300, Loss: 7.047485828399658\n",
      "Generating Image Number: 7 for target class tensor([1]). Step 350, Loss: 6.564629077911377\n",
      "Generating Image Number: 7 for target class tensor([1]). Step 400, Loss: 6.301410675048828\n",
      "Generating Image Number: 7 for target class tensor([1]). Step 450, Loss: 5.969519138336182\n",
      "Generating Image Number: 8 for target class tensor([1]). Step 0, Loss: 18.28990364074707\n",
      "Generating Image Number: 8 for target class tensor([1]). Step 50, Loss: 13.712164878845215\n",
      "Generating Image Number: 8 for target class tensor([1]). Step 100, Loss: 12.927122116088867\n",
      "Generating Image Number: 8 for target class tensor([1]). Step 150, Loss: 12.293712615966797\n",
      "Generating Image Number: 8 for target class tensor([1]). Step 200, Loss: 11.618022918701172\n",
      "Generating Image Number: 8 for target class tensor([1]). Step 250, Loss: 11.181300163269043\n",
      "Generating Image Number: 8 for target class tensor([1]). Step 300, Loss: 10.864130973815918\n",
      "Generating Image Number: 8 for target class tensor([1]). Step 350, Loss: 10.60593032836914\n",
      "Generating Image Number: 8 for target class tensor([1]). Step 400, Loss: 10.34972858428955\n",
      "Generating Image Number: 8 for target class tensor([1]). Step 450, Loss: 10.105236053466797\n",
      "Generating Image Number: 9 for target class tensor([1]). Step 0, Loss: 49.706504821777344\n",
      "Generating Image Number: 9 for target class tensor([1]). Step 50, Loss: 25.606714248657227\n",
      "Generating Image Number: 9 for target class tensor([1]). Step 100, Loss: 22.92575454711914\n",
      "Generating Image Number: 9 for target class tensor([1]). Step 150, Loss: 21.15500259399414\n",
      "Generating Image Number: 9 for target class tensor([1]). Step 200, Loss: 19.914968490600586\n",
      "Generating Image Number: 9 for target class tensor([1]). Step 250, Loss: 18.906705856323242\n",
      "Generating Image Number: 9 for target class tensor([1]). Step 300, Loss: 18.336198806762695\n",
      "Generating Image Number: 9 for target class tensor([1]). Step 350, Loss: 17.87171745300293\n",
      "Generating Image Number: 9 for target class tensor([1]). Step 400, Loss: 17.50806999206543\n",
      "Generating Image Number: 9 for target class tensor([1]). Step 450, Loss: 17.1583309173584\n",
      "Generating Image Number: 10 for target class tensor([1]). Step 0, Loss: 32.04631042480469\n",
      "Generating Image Number: 10 for target class tensor([1]). Step 50, Loss: 22.987716674804688\n",
      "Generating Image Number: 10 for target class tensor([1]). Step 100, Loss: 19.950519561767578\n",
      "Generating Image Number: 10 for target class tensor([1]). Step 150, Loss: 17.28855323791504\n",
      "Generating Image Number: 10 for target class tensor([1]). Step 200, Loss: 15.244797706604004\n",
      "Generating Image Number: 10 for target class tensor([1]). Step 250, Loss: 12.910089492797852\n",
      "Generating Image Number: 10 for target class tensor([1]). Step 300, Loss: 11.4320068359375\n",
      "Generating Image Number: 10 for target class tensor([1]). Step 350, Loss: 10.692630767822266\n",
      "Generating Image Number: 10 for target class tensor([1]). Step 400, Loss: 10.156296730041504\n",
      "Generating Image Number: 10 for target class tensor([1]). Step 450, Loss: 9.457313537597656\n",
      "Generating Image Number: 11 for target class tensor([1]). Step 0, Loss: 51.66027069091797\n",
      "Generating Image Number: 11 for target class tensor([1]). Step 50, Loss: 44.09584045410156\n",
      "Generating Image Number: 11 for target class tensor([1]). Step 100, Loss: 41.35818099975586\n",
      "Generating Image Number: 11 for target class tensor([1]). Step 150, Loss: 42.05425262451172\n",
      "Generating Image Number: 11 for target class tensor([1]). Step 200, Loss: 24.053958892822266\n",
      "Generating Image Number: 11 for target class tensor([1]). Step 250, Loss: 21.85586929321289\n",
      "Generating Image Number: 11 for target class tensor([1]). Step 300, Loss: 21.15250015258789\n",
      "Generating Image Number: 11 for target class tensor([1]). Step 350, Loss: 20.505062103271484\n",
      "Generating Image Number: 11 for target class tensor([1]). Step 400, Loss: 19.883617401123047\n",
      "Generating Image Number: 11 for target class tensor([1]). Step 450, Loss: 19.269554138183594\n",
      "Generating Image Number: 12 for target class tensor([1]). Step 0, Loss: 47.96266174316406\n",
      "Generating Image Number: 12 for target class tensor([1]). Step 50, Loss: 9.963942527770996\n",
      "Generating Image Number: 12 for target class tensor([1]). Step 100, Loss: 6.8832573890686035\n",
      "Generating Image Number: 12 for target class tensor([1]). Step 150, Loss: 4.025171756744385\n",
      "Generating Image Number: 12 for target class tensor([1]). Step 200, Loss: 2.1775171756744385\n",
      "Generating Image Number: 12 for target class tensor([1]). Step 250, Loss: 1.0037578344345093\n",
      "Generating Image Number: 12 for target class tensor([1]). Step 300, Loss: 0.6006133556365967\n",
      "Generating Image Number: 12 for target class tensor([1]). Step 350, Loss: 0.44774019718170166\n",
      "Generating Image Number: 12 for target class tensor([1]). Step 400, Loss: 0.35266098380088806\n",
      "Generating Image Number: 12 for target class tensor([1]). Step 450, Loss: 0.2906811237335205\n",
      "Generating Image Number: 13 for target class tensor([1]). Step 0, Loss: 57.572654724121094\n",
      "Generating Image Number: 13 for target class tensor([1]). Step 50, Loss: 31.358510971069336\n",
      "Generating Image Number: 13 for target class tensor([1]). Step 100, Loss: 29.75995635986328\n",
      "Generating Image Number: 13 for target class tensor([1]). Step 150, Loss: 27.750572204589844\n",
      "Generating Image Number: 13 for target class tensor([1]). Step 200, Loss: 24.98194122314453\n",
      "Generating Image Number: 13 for target class tensor([1]). Step 250, Loss: 23.8126220703125\n",
      "Generating Image Number: 13 for target class tensor([1]). Step 300, Loss: 22.62674903869629\n",
      "Generating Image Number: 13 for target class tensor([1]). Step 350, Loss: 21.209510803222656\n",
      "Generating Image Number: 13 for target class tensor([1]). Step 400, Loss: 20.669933319091797\n",
      "Generating Image Number: 13 for target class tensor([1]). Step 450, Loss: 20.392927169799805\n",
      "Generating Image Number: 14 for target class tensor([1]). Step 0, Loss: 35.42499542236328\n",
      "Generating Image Number: 14 for target class tensor([1]). Step 50, Loss: 27.019210815429688\n",
      "Generating Image Number: 14 for target class tensor([1]). Step 100, Loss: 25.06424331665039\n",
      "Generating Image Number: 14 for target class tensor([1]). Step 150, Loss: 23.958158493041992\n",
      "Generating Image Number: 14 for target class tensor([1]). Step 200, Loss: 21.60293960571289\n",
      "Generating Image Number: 14 for target class tensor([1]). Step 250, Loss: 21.009065628051758\n",
      "Generating Image Number: 14 for target class tensor([1]). Step 300, Loss: 20.535261154174805\n",
      "Generating Image Number: 14 for target class tensor([1]). Step 350, Loss: 20.174360275268555\n",
      "Generating Image Number: 14 for target class tensor([1]). Step 400, Loss: 19.745540618896484\n",
      "Generating Image Number: 14 for target class tensor([1]). Step 450, Loss: 19.22307586669922\n",
      "Generating Image Number: 15 for target class tensor([1]). Step 0, Loss: 28.946651458740234\n",
      "Generating Image Number: 15 for target class tensor([1]). Step 50, Loss: 16.560001373291016\n",
      "Generating Image Number: 15 for target class tensor([1]). Step 100, Loss: 14.845998764038086\n",
      "Generating Image Number: 15 for target class tensor([1]). Step 150, Loss: 12.886408805847168\n",
      "Generating Image Number: 15 for target class tensor([1]). Step 200, Loss: 11.801728248596191\n",
      "Generating Image Number: 15 for target class tensor([1]). Step 250, Loss: 11.19129467010498\n",
      "Generating Image Number: 15 for target class tensor([1]). Step 300, Loss: 10.549128532409668\n",
      "Generating Image Number: 15 for target class tensor([1]). Step 350, Loss: 9.887442588806152\n",
      "Generating Image Number: 15 for target class tensor([1]). Step 400, Loss: 9.211584091186523\n",
      "Generating Image Number: 15 for target class tensor([1]). Step 450, Loss: 8.518828392028809\n",
      "Generating Image Number: 16 for target class tensor([1]). Step 0, Loss: 11.577463150024414\n",
      "Generating Image Number: 16 for target class tensor([1]). Step 50, Loss: 8.01519775390625\n",
      "Generating Image Number: 16 for target class tensor([1]). Step 100, Loss: 7.014139652252197\n",
      "Generating Image Number: 16 for target class tensor([1]). Step 150, Loss: 6.525594711303711\n",
      "Generating Image Number: 16 for target class tensor([1]). Step 200, Loss: 6.048598289489746\n",
      "Generating Image Number: 16 for target class tensor([1]). Step 250, Loss: 5.689759731292725\n",
      "Generating Image Number: 16 for target class tensor([1]). Step 300, Loss: 6.006934642791748\n",
      "Generating Image Number: 16 for target class tensor([1]). Step 350, Loss: 4.625732421875\n",
      "Generating Image Number: 16 for target class tensor([1]). Step 400, Loss: 4.04689884185791\n",
      "Generating Image Number: 16 for target class tensor([1]). Step 450, Loss: 3.6353323459625244\n",
      "Generating Image Number: 17 for target class tensor([1]). Step 0, Loss: 36.33669662475586\n",
      "Generating Image Number: 17 for target class tensor([1]). Step 50, Loss: 29.018400192260742\n",
      "Generating Image Number: 17 for target class tensor([1]). Step 100, Loss: 25.30510902404785\n",
      "Generating Image Number: 17 for target class tensor([1]). Step 150, Loss: 23.54503631591797\n",
      "Generating Image Number: 17 for target class tensor([1]). Step 200, Loss: 22.745527267456055\n",
      "Generating Image Number: 17 for target class tensor([1]). Step 250, Loss: 21.789714813232422\n",
      "Generating Image Number: 17 for target class tensor([1]). Step 300, Loss: 21.163175582885742\n",
      "Generating Image Number: 17 for target class tensor([1]). Step 350, Loss: 20.7703800201416\n",
      "Generating Image Number: 17 for target class tensor([1]). Step 400, Loss: 20.509775161743164\n",
      "Generating Image Number: 17 for target class tensor([1]). Step 450, Loss: 20.306568145751953\n",
      "Generating Image Number: 18 for target class tensor([1]). Step 0, Loss: 50.813377380371094\n",
      "Generating Image Number: 18 for target class tensor([1]). Step 50, Loss: 30.059696197509766\n",
      "Generating Image Number: 18 for target class tensor([1]). Step 100, Loss: 27.58121681213379\n",
      "Generating Image Number: 18 for target class tensor([1]). Step 150, Loss: 24.567527770996094\n",
      "Generating Image Number: 18 for target class tensor([1]). Step 200, Loss: 22.855941772460938\n",
      "Generating Image Number: 18 for target class tensor([1]). Step 250, Loss: 21.985315322875977\n",
      "Generating Image Number: 18 for target class tensor([1]). Step 300, Loss: 21.55962371826172\n",
      "Generating Image Number: 18 for target class tensor([1]). Step 350, Loss: 20.922639846801758\n",
      "Generating Image Number: 18 for target class tensor([1]). Step 400, Loss: 20.22414207458496\n",
      "Generating Image Number: 18 for target class tensor([1]). Step 450, Loss: 19.96019744873047\n",
      "Generating Image Number: 19 for target class tensor([1]). Step 0, Loss: 45.41191864013672\n",
      "Generating Image Number: 19 for target class tensor([1]). Step 50, Loss: 18.090486526489258\n",
      "Generating Image Number: 19 for target class tensor([1]). Step 100, Loss: 14.968599319458008\n",
      "Generating Image Number: 19 for target class tensor([1]). Step 150, Loss: 13.43138313293457\n",
      "Generating Image Number: 19 for target class tensor([1]). Step 200, Loss: 12.60690689086914\n",
      "Generating Image Number: 19 for target class tensor([1]). Step 250, Loss: 11.637571334838867\n",
      "Generating Image Number: 19 for target class tensor([1]). Step 300, Loss: 10.699341773986816\n",
      "Generating Image Number: 19 for target class tensor([1]). Step 350, Loss: 9.789798736572266\n",
      "Generating Image Number: 19 for target class tensor([1]). Step 400, Loss: 11.035322189331055\n",
      "Generating Image Number: 19 for target class tensor([1]). Step 450, Loss: 8.575899124145508\n",
      "Generating Image Number: 20 for target class tensor([1]). Step 0, Loss: 37.11648941040039\n",
      "Generating Image Number: 20 for target class tensor([1]). Step 50, Loss: 29.25723648071289\n",
      "Generating Image Number: 20 for target class tensor([1]). Step 100, Loss: 25.384944915771484\n",
      "Generating Image Number: 20 for target class tensor([1]). Step 150, Loss: 24.64244270324707\n",
      "Generating Image Number: 20 for target class tensor([1]). Step 200, Loss: 23.992197036743164\n",
      "Generating Image Number: 20 for target class tensor([1]). Step 250, Loss: 23.396442413330078\n",
      "Generating Image Number: 20 for target class tensor([1]). Step 300, Loss: 22.810728073120117\n",
      "Generating Image Number: 20 for target class tensor([1]). Step 350, Loss: 22.14784049987793\n",
      "Generating Image Number: 20 for target class tensor([1]). Step 400, Loss: 21.459491729736328\n",
      "Generating Image Number: 20 for target class tensor([1]). Step 450, Loss: 20.692216873168945\n"
     ]
    }
   ],
   "source": [
    "torch.manual_seed(100)\n",
    "latent_vectors = torch.randn(img_count, z_dim, 1, 1, requires_grad=True) # Start with 20 random noises\n",
    "class1_optimized_latent_vectors = recover_images(img_count, 1, latent_vectors)"
   ]
  },
  {
   "cell_type": "code",
   "execution_count": 22,
   "id": "1c8af686-b1ff-419d-946d-2447773e47c9",
   "metadata": {
    "scrolled": true
   },
   "outputs": [
    {
     "name": "stdout",
     "output_type": "stream",
     "text": [
      "Generating Image Number: 1 for target class tensor([2]). Step 0, Loss: 2.3841855067985307e-07\n",
      "Generating Image Number: 1 for target class tensor([2]). Step 50, Loss: 0.0\n",
      "Generating Image Number: 1 for target class tensor([2]). Step 100, Loss: 0.0\n",
      "Generating Image Number: 1 for target class tensor([2]). Step 150, Loss: 0.0\n",
      "Generating Image Number: 1 for target class tensor([2]). Step 200, Loss: 0.0\n",
      "Generating Image Number: 1 for target class tensor([2]). Step 250, Loss: 0.0\n",
      "Generating Image Number: 1 for target class tensor([2]). Step 300, Loss: 0.0\n",
      "Generating Image Number: 1 for target class tensor([2]). Step 350, Loss: 0.0\n",
      "Generating Image Number: 1 for target class tensor([2]). Step 400, Loss: 0.0\n",
      "Generating Image Number: 1 for target class tensor([2]). Step 450, Loss: 0.0\n",
      "Generating Image Number: 2 for target class tensor([2]). Step 0, Loss: 1.645074735279195e-05\n",
      "Generating Image Number: 2 for target class tensor([2]). Step 50, Loss: 0.0\n",
      "Generating Image Number: 2 for target class tensor([2]). Step 100, Loss: 0.0\n",
      "Generating Image Number: 2 for target class tensor([2]). Step 150, Loss: 0.0\n",
      "Generating Image Number: 2 for target class tensor([2]). Step 200, Loss: 0.0\n",
      "Generating Image Number: 2 for target class tensor([2]). Step 250, Loss: 0.0\n",
      "Generating Image Number: 2 for target class tensor([2]). Step 300, Loss: 0.0\n",
      "Generating Image Number: 2 for target class tensor([2]). Step 350, Loss: 0.0\n",
      "Generating Image Number: 2 for target class tensor([2]). Step 400, Loss: 0.0\n",
      "Generating Image Number: 2 for target class tensor([2]). Step 450, Loss: 0.0\n",
      "Generating Image Number: 3 for target class tensor([2]). Step 0, Loss: 0.0\n",
      "Generating Image Number: 3 for target class tensor([2]). Step 50, Loss: 0.0\n",
      "Generating Image Number: 3 for target class tensor([2]). Step 100, Loss: 0.0\n",
      "Generating Image Number: 3 for target class tensor([2]). Step 150, Loss: 0.0\n",
      "Generating Image Number: 3 for target class tensor([2]). Step 200, Loss: 0.0\n",
      "Generating Image Number: 3 for target class tensor([2]). Step 250, Loss: 0.0\n",
      "Generating Image Number: 3 for target class tensor([2]). Step 300, Loss: 0.0\n",
      "Generating Image Number: 3 for target class tensor([2]). Step 350, Loss: 0.0\n",
      "Generating Image Number: 3 for target class tensor([2]). Step 400, Loss: 0.0\n",
      "Generating Image Number: 3 for target class tensor([2]). Step 450, Loss: 0.0\n",
      "Generating Image Number: 4 for target class tensor([2]). Step 0, Loss: 0.0\n",
      "Generating Image Number: 4 for target class tensor([2]). Step 50, Loss: 0.0\n",
      "Generating Image Number: 4 for target class tensor([2]). Step 100, Loss: 0.0\n",
      "Generating Image Number: 4 for target class tensor([2]). Step 150, Loss: 0.0\n",
      "Generating Image Number: 4 for target class tensor([2]). Step 200, Loss: 0.0\n",
      "Generating Image Number: 4 for target class tensor([2]). Step 250, Loss: 0.0\n",
      "Generating Image Number: 4 for target class tensor([2]). Step 300, Loss: 0.0\n",
      "Generating Image Number: 4 for target class tensor([2]). Step 350, Loss: 0.0\n",
      "Generating Image Number: 4 for target class tensor([2]). Step 400, Loss: 0.0\n",
      "Generating Image Number: 4 for target class tensor([2]). Step 450, Loss: 0.0\n",
      "Generating Image Number: 5 for target class tensor([2]). Step 0, Loss: 0.0\n",
      "Generating Image Number: 5 for target class tensor([2]). Step 50, Loss: 0.0\n",
      "Generating Image Number: 5 for target class tensor([2]). Step 100, Loss: 0.0\n",
      "Generating Image Number: 5 for target class tensor([2]). Step 150, Loss: 0.0\n",
      "Generating Image Number: 5 for target class tensor([2]). Step 200, Loss: 0.0\n",
      "Generating Image Number: 5 for target class tensor([2]). Step 250, Loss: 0.0\n",
      "Generating Image Number: 5 for target class tensor([2]). Step 300, Loss: 0.0\n",
      "Generating Image Number: 5 for target class tensor([2]). Step 350, Loss: 0.0\n",
      "Generating Image Number: 5 for target class tensor([2]). Step 400, Loss: 0.0\n",
      "Generating Image Number: 5 for target class tensor([2]). Step 450, Loss: 0.0\n",
      "Generating Image Number: 6 for target class tensor([2]). Step 0, Loss: 1.1920928244535389e-07\n",
      "Generating Image Number: 6 for target class tensor([2]). Step 50, Loss: 0.0\n",
      "Generating Image Number: 6 for target class tensor([2]). Step 100, Loss: 0.0\n",
      "Generating Image Number: 6 for target class tensor([2]). Step 150, Loss: 0.0\n",
      "Generating Image Number: 6 for target class tensor([2]). Step 200, Loss: 0.0\n",
      "Generating Image Number: 6 for target class tensor([2]). Step 250, Loss: 0.0\n",
      "Generating Image Number: 6 for target class tensor([2]). Step 300, Loss: 0.0\n",
      "Generating Image Number: 6 for target class tensor([2]). Step 350, Loss: 0.0\n",
      "Generating Image Number: 6 for target class tensor([2]). Step 400, Loss: 0.0\n",
      "Generating Image Number: 6 for target class tensor([2]). Step 450, Loss: 0.0\n",
      "Generating Image Number: 7 for target class tensor([2]). Step 0, Loss: 6.9141146923357155e-06\n",
      "Generating Image Number: 7 for target class tensor([2]). Step 50, Loss: 0.0\n",
      "Generating Image Number: 7 for target class tensor([2]). Step 100, Loss: 0.0\n",
      "Generating Image Number: 7 for target class tensor([2]). Step 150, Loss: 0.0\n",
      "Generating Image Number: 7 for target class tensor([2]). Step 200, Loss: 0.0\n",
      "Generating Image Number: 7 for target class tensor([2]). Step 250, Loss: 0.0\n",
      "Generating Image Number: 7 for target class tensor([2]). Step 300, Loss: 0.0\n",
      "Generating Image Number: 7 for target class tensor([2]). Step 350, Loss: 0.0\n",
      "Generating Image Number: 7 for target class tensor([2]). Step 400, Loss: 0.0\n",
      "Generating Image Number: 7 for target class tensor([2]). Step 450, Loss: 0.0\n",
      "Generating Image Number: 8 for target class tensor([2]). Step 0, Loss: 4.768370445162873e-07\n",
      "Generating Image Number: 8 for target class tensor([2]). Step 50, Loss: 0.0\n",
      "Generating Image Number: 8 for target class tensor([2]). Step 100, Loss: 0.0\n",
      "Generating Image Number: 8 for target class tensor([2]). Step 150, Loss: 0.0\n",
      "Generating Image Number: 8 for target class tensor([2]). Step 200, Loss: 0.0\n",
      "Generating Image Number: 8 for target class tensor([2]). Step 250, Loss: 0.0\n",
      "Generating Image Number: 8 for target class tensor([2]). Step 300, Loss: 0.0\n",
      "Generating Image Number: 8 for target class tensor([2]). Step 350, Loss: 0.0\n",
      "Generating Image Number: 8 for target class tensor([2]). Step 400, Loss: 0.0\n",
      "Generating Image Number: 8 for target class tensor([2]). Step 450, Loss: 0.0\n",
      "Generating Image Number: 9 for target class tensor([2]). Step 0, Loss: 0.0\n",
      "Generating Image Number: 9 for target class tensor([2]). Step 50, Loss: 0.0\n",
      "Generating Image Number: 9 for target class tensor([2]). Step 100, Loss: 0.0\n",
      "Generating Image Number: 9 for target class tensor([2]). Step 150, Loss: 0.0\n",
      "Generating Image Number: 9 for target class tensor([2]). Step 200, Loss: 0.0\n",
      "Generating Image Number: 9 for target class tensor([2]). Step 250, Loss: 0.0\n",
      "Generating Image Number: 9 for target class tensor([2]). Step 300, Loss: 0.0\n",
      "Generating Image Number: 9 for target class tensor([2]). Step 350, Loss: 0.0\n",
      "Generating Image Number: 9 for target class tensor([2]). Step 400, Loss: 0.0\n",
      "Generating Image Number: 9 for target class tensor([2]). Step 450, Loss: 0.0\n",
      "Generating Image Number: 10 for target class tensor([2]). Step 0, Loss: 2.3841855067985307e-07\n",
      "Generating Image Number: 10 for target class tensor([2]). Step 50, Loss: 0.0\n",
      "Generating Image Number: 10 for target class tensor([2]). Step 100, Loss: 0.0\n",
      "Generating Image Number: 10 for target class tensor([2]). Step 150, Loss: 0.0\n",
      "Generating Image Number: 10 for target class tensor([2]). Step 200, Loss: 0.0\n",
      "Generating Image Number: 10 for target class tensor([2]). Step 250, Loss: 0.0\n",
      "Generating Image Number: 10 for target class tensor([2]). Step 300, Loss: 0.0\n",
      "Generating Image Number: 10 for target class tensor([2]). Step 350, Loss: 0.0\n",
      "Generating Image Number: 10 for target class tensor([2]). Step 400, Loss: 0.0\n",
      "Generating Image Number: 10 for target class tensor([2]). Step 450, Loss: 0.0\n",
      "Generating Image Number: 11 for target class tensor([2]). Step 0, Loss: 0.0\n",
      "Generating Image Number: 11 for target class tensor([2]). Step 50, Loss: 0.0\n",
      "Generating Image Number: 11 for target class tensor([2]). Step 100, Loss: 0.0\n",
      "Generating Image Number: 11 for target class tensor([2]). Step 150, Loss: 0.0\n",
      "Generating Image Number: 11 for target class tensor([2]). Step 200, Loss: 0.0\n",
      "Generating Image Number: 11 for target class tensor([2]). Step 250, Loss: 0.0\n",
      "Generating Image Number: 11 for target class tensor([2]). Step 300, Loss: 0.0\n",
      "Generating Image Number: 11 for target class tensor([2]). Step 350, Loss: 0.0\n",
      "Generating Image Number: 11 for target class tensor([2]). Step 400, Loss: 0.0\n",
      "Generating Image Number: 11 for target class tensor([2]). Step 450, Loss: 0.0\n",
      "Generating Image Number: 12 for target class tensor([2]). Step 0, Loss: 0.028133844956755638\n",
      "Generating Image Number: 12 for target class tensor([2]). Step 50, Loss: 0.0012171011185273528\n",
      "Generating Image Number: 12 for target class tensor([2]). Step 100, Loss: 0.0005413020844571292\n",
      "Generating Image Number: 12 for target class tensor([2]). Step 150, Loss: 0.0003090619284193963\n",
      "Generating Image Number: 12 for target class tensor([2]). Step 200, Loss: 0.0002138386043952778\n",
      "Generating Image Number: 12 for target class tensor([2]). Step 250, Loss: 0.00016544880054425448\n",
      "Generating Image Number: 12 for target class tensor([2]). Step 300, Loss: 0.00012540031457319856\n",
      "Generating Image Number: 12 for target class tensor([2]). Step 350, Loss: 0.00010048838157672435\n",
      "Generating Image Number: 12 for target class tensor([2]). Step 400, Loss: 8.177422569133341e-05\n",
      "Generating Image Number: 12 for target class tensor([2]). Step 450, Loss: 7.295342220459133e-05\n",
      "Generating Image Number: 13 for target class tensor([2]). Step 0, Loss: 4.482168878894299e-05\n",
      "Generating Image Number: 13 for target class tensor([2]). Step 50, Loss: 0.0\n",
      "Generating Image Number: 13 for target class tensor([2]). Step 100, Loss: 0.0\n",
      "Generating Image Number: 13 for target class tensor([2]). Step 150, Loss: 0.0\n",
      "Generating Image Number: 13 for target class tensor([2]). Step 200, Loss: 0.0\n",
      "Generating Image Number: 13 for target class tensor([2]). Step 250, Loss: 0.0\n",
      "Generating Image Number: 13 for target class tensor([2]). Step 300, Loss: 0.0\n",
      "Generating Image Number: 13 for target class tensor([2]). Step 350, Loss: 0.0\n",
      "Generating Image Number: 13 for target class tensor([2]). Step 400, Loss: 0.0\n",
      "Generating Image Number: 13 for target class tensor([2]). Step 450, Loss: 0.0\n",
      "Generating Image Number: 14 for target class tensor([2]). Step 0, Loss: 0.0\n",
      "Generating Image Number: 14 for target class tensor([2]). Step 50, Loss: 0.0\n",
      "Generating Image Number: 14 for target class tensor([2]). Step 100, Loss: 0.0\n",
      "Generating Image Number: 14 for target class tensor([2]). Step 150, Loss: 0.0\n",
      "Generating Image Number: 14 for target class tensor([2]). Step 200, Loss: 0.0\n",
      "Generating Image Number: 14 for target class tensor([2]). Step 250, Loss: 0.0\n",
      "Generating Image Number: 14 for target class tensor([2]). Step 300, Loss: 0.0\n",
      "Generating Image Number: 14 for target class tensor([2]). Step 350, Loss: 0.0\n",
      "Generating Image Number: 14 for target class tensor([2]). Step 400, Loss: 0.0\n",
      "Generating Image Number: 14 for target class tensor([2]). Step 450, Loss: 0.0\n",
      "Generating Image Number: 15 for target class tensor([2]). Step 0, Loss: 0.0\n",
      "Generating Image Number: 15 for target class tensor([2]). Step 50, Loss: 0.0\n",
      "Generating Image Number: 15 for target class tensor([2]). Step 100, Loss: 0.0\n",
      "Generating Image Number: 15 for target class tensor([2]). Step 150, Loss: 0.0\n",
      "Generating Image Number: 15 for target class tensor([2]). Step 200, Loss: 0.0\n",
      "Generating Image Number: 15 for target class tensor([2]). Step 250, Loss: 0.0\n",
      "Generating Image Number: 15 for target class tensor([2]). Step 300, Loss: 0.0\n",
      "Generating Image Number: 15 for target class tensor([2]). Step 350, Loss: 0.0\n",
      "Generating Image Number: 15 for target class tensor([2]). Step 400, Loss: 0.0\n",
      "Generating Image Number: 15 for target class tensor([2]). Step 450, Loss: 0.0\n",
      "Generating Image Number: 16 for target class tensor([2]). Step 0, Loss: 0.0\n",
      "Generating Image Number: 16 for target class tensor([2]). Step 50, Loss: 0.0\n",
      "Generating Image Number: 16 for target class tensor([2]). Step 100, Loss: 0.0\n",
      "Generating Image Number: 16 for target class tensor([2]). Step 150, Loss: 0.0\n",
      "Generating Image Number: 16 for target class tensor([2]). Step 200, Loss: 0.0\n",
      "Generating Image Number: 16 for target class tensor([2]). Step 250, Loss: 0.0\n",
      "Generating Image Number: 16 for target class tensor([2]). Step 300, Loss: 0.0\n",
      "Generating Image Number: 16 for target class tensor([2]). Step 350, Loss: 0.0\n",
      "Generating Image Number: 16 for target class tensor([2]). Step 400, Loss: 0.0\n",
      "Generating Image Number: 16 for target class tensor([2]). Step 450, Loss: 0.0\n",
      "Generating Image Number: 17 for target class tensor([2]). Step 0, Loss: 0.0\n",
      "Generating Image Number: 17 for target class tensor([2]). Step 50, Loss: 0.0\n",
      "Generating Image Number: 17 for target class tensor([2]). Step 100, Loss: 0.0\n",
      "Generating Image Number: 17 for target class tensor([2]). Step 150, Loss: 0.0\n",
      "Generating Image Number: 17 for target class tensor([2]). Step 200, Loss: 0.0\n",
      "Generating Image Number: 17 for target class tensor([2]). Step 250, Loss: 0.0\n",
      "Generating Image Number: 17 for target class tensor([2]). Step 300, Loss: 0.0\n",
      "Generating Image Number: 17 for target class tensor([2]). Step 350, Loss: 0.0\n",
      "Generating Image Number: 17 for target class tensor([2]). Step 400, Loss: 0.0\n",
      "Generating Image Number: 17 for target class tensor([2]). Step 450, Loss: 0.0\n",
      "Generating Image Number: 18 for target class tensor([2]). Step 0, Loss: 1.1801649634435307e-05\n",
      "Generating Image Number: 18 for target class tensor([2]). Step 50, Loss: 2.3841855067985307e-07\n",
      "Generating Image Number: 18 for target class tensor([2]). Step 100, Loss: 0.0\n",
      "Generating Image Number: 18 for target class tensor([2]). Step 150, Loss: 0.0\n",
      "Generating Image Number: 18 for target class tensor([2]). Step 200, Loss: 0.0\n",
      "Generating Image Number: 18 for target class tensor([2]). Step 250, Loss: 0.0\n",
      "Generating Image Number: 18 for target class tensor([2]). Step 300, Loss: 0.0\n",
      "Generating Image Number: 18 for target class tensor([2]). Step 350, Loss: 0.0\n",
      "Generating Image Number: 18 for target class tensor([2]). Step 400, Loss: 0.0\n",
      "Generating Image Number: 18 for target class tensor([2]). Step 450, Loss: 0.0\n",
      "Generating Image Number: 19 for target class tensor([2]). Step 0, Loss: 0.00011419598013162613\n",
      "Generating Image Number: 19 for target class tensor([2]). Step 50, Loss: 0.0\n",
      "Generating Image Number: 19 for target class tensor([2]). Step 100, Loss: 0.0\n",
      "Generating Image Number: 19 for target class tensor([2]). Step 150, Loss: 0.0\n",
      "Generating Image Number: 19 for target class tensor([2]). Step 200, Loss: 0.0\n",
      "Generating Image Number: 19 for target class tensor([2]). Step 250, Loss: 0.0\n",
      "Generating Image Number: 19 for target class tensor([2]). Step 300, Loss: 0.0\n",
      "Generating Image Number: 19 for target class tensor([2]). Step 350, Loss: 0.0\n",
      "Generating Image Number: 19 for target class tensor([2]). Step 400, Loss: 0.0\n",
      "Generating Image Number: 19 for target class tensor([2]). Step 450, Loss: 0.0\n",
      "Generating Image Number: 20 for target class tensor([2]). Step 0, Loss: 0.0\n",
      "Generating Image Number: 20 for target class tensor([2]). Step 50, Loss: 0.0\n",
      "Generating Image Number: 20 for target class tensor([2]). Step 100, Loss: 0.0\n",
      "Generating Image Number: 20 for target class tensor([2]). Step 150, Loss: 0.0\n",
      "Generating Image Number: 20 for target class tensor([2]). Step 200, Loss: 0.0\n",
      "Generating Image Number: 20 for target class tensor([2]). Step 250, Loss: 0.0\n",
      "Generating Image Number: 20 for target class tensor([2]). Step 300, Loss: 0.0\n",
      "Generating Image Number: 20 for target class tensor([2]). Step 350, Loss: 0.0\n",
      "Generating Image Number: 20 for target class tensor([2]). Step 400, Loss: 0.0\n",
      "Generating Image Number: 20 for target class tensor([2]). Step 450, Loss: 0.0\n"
     ]
    }
   ],
   "source": [
    "torch.manual_seed(200)\n",
    "latent_vectors = torch.randn(img_count, z_dim, 1, 1, requires_grad=True) # Start with 20 random noises\n",
    "class2_optimized_latent_vectors = recover_images(img_count, 2, latent_vectors)"
   ]
  },
  {
   "cell_type": "code",
   "execution_count": 23,
   "id": "0381b36d-6c92-43bc-b776-1eefd3eab451",
   "metadata": {
    "scrolled": true
   },
   "outputs": [
    {
     "name": "stdout",
     "output_type": "stream",
     "text": [
      "Generating Image Number: 1 for target class tensor([3]). Step 0, Loss: 0.0\n",
      "Generating Image Number: 1 for target class tensor([3]). Step 50, Loss: 0.0\n",
      "Generating Image Number: 1 for target class tensor([3]). Step 100, Loss: 0.0\n",
      "Generating Image Number: 1 for target class tensor([3]). Step 150, Loss: 2.3841855067985307e-07\n",
      "Generating Image Number: 1 for target class tensor([3]). Step 200, Loss: 2.3841855067985307e-07\n",
      "Generating Image Number: 1 for target class tensor([3]). Step 250, Loss: 2.3841855067985307e-07\n",
      "Generating Image Number: 1 for target class tensor([3]). Step 300, Loss: 2.3841855067985307e-07\n",
      "Generating Image Number: 1 for target class tensor([3]). Step 350, Loss: 2.3841855067985307e-07\n",
      "Generating Image Number: 1 for target class tensor([3]). Step 400, Loss: 2.3841855067985307e-07\n",
      "Generating Image Number: 1 for target class tensor([3]). Step 450, Loss: 2.3841855067985307e-07\n",
      "Generating Image Number: 2 for target class tensor([3]). Step 0, Loss: 12.598223686218262\n",
      "Generating Image Number: 2 for target class tensor([3]). Step 50, Loss: 5.191394805908203\n",
      "Generating Image Number: 2 for target class tensor([3]). Step 100, Loss: 4.049129486083984\n",
      "Generating Image Number: 2 for target class tensor([3]). Step 150, Loss: 3.0001883506774902\n",
      "Generating Image Number: 2 for target class tensor([3]). Step 200, Loss: 2.099864959716797\n",
      "Generating Image Number: 2 for target class tensor([3]). Step 250, Loss: 1.530485987663269\n",
      "Generating Image Number: 2 for target class tensor([3]). Step 300, Loss: 0.8570681810379028\n",
      "Generating Image Number: 2 for target class tensor([3]). Step 350, Loss: 0.5947454571723938\n",
      "Generating Image Number: 2 for target class tensor([3]). Step 400, Loss: 0.4835907220840454\n",
      "Generating Image Number: 2 for target class tensor([3]). Step 450, Loss: 0.38041436672210693\n",
      "Generating Image Number: 3 for target class tensor([3]). Step 0, Loss: 16.472557067871094\n",
      "Generating Image Number: 3 for target class tensor([3]). Step 50, Loss: 6.993194580078125\n",
      "Generating Image Number: 3 for target class tensor([3]). Step 100, Loss: 4.113942623138428\n",
      "Generating Image Number: 3 for target class tensor([3]). Step 150, Loss: 2.3745226860046387\n",
      "Generating Image Number: 3 for target class tensor([3]). Step 200, Loss: 1.0732351541519165\n",
      "Generating Image Number: 3 for target class tensor([3]). Step 250, Loss: 0.49030667543411255\n",
      "Generating Image Number: 3 for target class tensor([3]). Step 300, Loss: 0.2604502737522125\n",
      "Generating Image Number: 3 for target class tensor([3]). Step 350, Loss: 0.17107617855072021\n",
      "Generating Image Number: 3 for target class tensor([3]). Step 400, Loss: 0.12073654681444168\n",
      "Generating Image Number: 3 for target class tensor([3]). Step 450, Loss: 0.0925685316324234\n",
      "Generating Image Number: 4 for target class tensor([3]). Step 0, Loss: 31.345056533813477\n",
      "Generating Image Number: 4 for target class tensor([3]). Step 50, Loss: 29.919267654418945\n",
      "Generating Image Number: 4 for target class tensor([3]). Step 100, Loss: 28.943180084228516\n",
      "Generating Image Number: 4 for target class tensor([3]). Step 150, Loss: 28.225894927978516\n",
      "Generating Image Number: 4 for target class tensor([3]). Step 200, Loss: 27.680118560791016\n",
      "Generating Image Number: 4 for target class tensor([3]). Step 250, Loss: 27.253036499023438\n",
      "Generating Image Number: 4 for target class tensor([3]). Step 300, Loss: 26.84966468811035\n",
      "Generating Image Number: 4 for target class tensor([3]). Step 350, Loss: 26.468666076660156\n",
      "Generating Image Number: 4 for target class tensor([3]). Step 400, Loss: 26.185300827026367\n",
      "Generating Image Number: 4 for target class tensor([3]). Step 450, Loss: 25.882892608642578\n",
      "Generating Image Number: 5 for target class tensor([3]). Step 0, Loss: 29.510276794433594\n",
      "Generating Image Number: 5 for target class tensor([3]). Step 50, Loss: 4.626972198486328\n",
      "Generating Image Number: 5 for target class tensor([3]). Step 100, Loss: 0.5176515579223633\n",
      "Generating Image Number: 5 for target class tensor([3]). Step 150, Loss: 0.12172051519155502\n",
      "Generating Image Number: 5 for target class tensor([3]). Step 200, Loss: 0.09338507056236267\n",
      "Generating Image Number: 5 for target class tensor([3]). Step 250, Loss: 0.07905112951993942\n",
      "Generating Image Number: 5 for target class tensor([3]). Step 300, Loss: 0.06632935255765915\n",
      "Generating Image Number: 5 for target class tensor([3]). Step 350, Loss: 0.05425165221095085\n",
      "Generating Image Number: 5 for target class tensor([3]). Step 400, Loss: 0.048533275723457336\n",
      "Generating Image Number: 5 for target class tensor([3]). Step 450, Loss: 0.04358280450105667\n",
      "Generating Image Number: 6 for target class tensor([3]). Step 0, Loss: 7.5219292640686035\n",
      "Generating Image Number: 6 for target class tensor([3]). Step 50, Loss: 3.526573419570923\n",
      "Generating Image Number: 6 for target class tensor([3]). Step 100, Loss: 2.3880810737609863\n",
      "Generating Image Number: 6 for target class tensor([3]). Step 150, Loss: 4.053901195526123\n",
      "Generating Image Number: 6 for target class tensor([3]). Step 200, Loss: 3.271251678466797\n",
      "Generating Image Number: 6 for target class tensor([3]). Step 250, Loss: 2.845919132232666\n",
      "Generating Image Number: 6 for target class tensor([3]). Step 300, Loss: 2.503662347793579\n",
      "Generating Image Number: 6 for target class tensor([3]). Step 350, Loss: 2.2068634033203125\n",
      "Generating Image Number: 6 for target class tensor([3]). Step 400, Loss: 1.9281924962997437\n",
      "Generating Image Number: 6 for target class tensor([3]). Step 450, Loss: 1.634164810180664\n",
      "Generating Image Number: 7 for target class tensor([3]). Step 0, Loss: 12.886923789978027\n",
      "Generating Image Number: 7 for target class tensor([3]). Step 50, Loss: 0.004534201696515083\n",
      "Generating Image Number: 7 for target class tensor([3]). Step 100, Loss: 0.000536655425094068\n",
      "Generating Image Number: 7 for target class tensor([3]). Step 150, Loss: 0.000528076896443963\n",
      "Generating Image Number: 7 for target class tensor([3]). Step 200, Loss: 0.0005270045949146152\n",
      "Generating Image Number: 7 for target class tensor([3]). Step 250, Loss: 0.0005184260080568492\n",
      "Generating Image Number: 7 for target class tensor([3]). Step 300, Loss: 0.000526289688423276\n",
      "Generating Image Number: 7 for target class tensor([3]). Step 350, Loss: 0.0005092516075819731\n",
      "Generating Image Number: 7 for target class tensor([3]). Step 400, Loss: 0.0005035324720665812\n",
      "Generating Image Number: 7 for target class tensor([3]). Step 450, Loss: 0.0004928089329041541\n",
      "Generating Image Number: 8 for target class tensor([3]). Step 0, Loss: 20.640853881835938\n",
      "Generating Image Number: 8 for target class tensor([3]). Step 50, Loss: 5.159051418304443\n",
      "Generating Image Number: 8 for target class tensor([3]). Step 100, Loss: 4.186357021331787\n",
      "Generating Image Number: 8 for target class tensor([3]). Step 150, Loss: 2.810957431793213\n",
      "Generating Image Number: 8 for target class tensor([3]). Step 200, Loss: 0.1875329464673996\n",
      "Generating Image Number: 8 for target class tensor([3]). Step 250, Loss: 0.03438814729452133\n",
      "Generating Image Number: 8 for target class tensor([3]). Step 300, Loss: 0.028737397864460945\n",
      "Generating Image Number: 8 for target class tensor([3]). Step 350, Loss: 0.024993184953927994\n",
      "Generating Image Number: 8 for target class tensor([3]). Step 400, Loss: 0.0224238783121109\n",
      "Generating Image Number: 8 for target class tensor([3]). Step 450, Loss: 0.020072780549526215\n",
      "Generating Image Number: 9 for target class tensor([3]). Step 0, Loss: 22.324508666992188\n",
      "Generating Image Number: 9 for target class tensor([3]). Step 50, Loss: 4.1575727462768555\n",
      "Generating Image Number: 9 for target class tensor([3]). Step 100, Loss: 2.9094197750091553\n",
      "Generating Image Number: 9 for target class tensor([3]). Step 150, Loss: 1.8137834072113037\n",
      "Generating Image Number: 9 for target class tensor([3]). Step 200, Loss: 0.9082370400428772\n",
      "Generating Image Number: 9 for target class tensor([3]). Step 250, Loss: 0.5657813549041748\n",
      "Generating Image Number: 9 for target class tensor([3]). Step 300, Loss: 0.39596492052078247\n",
      "Generating Image Number: 9 for target class tensor([3]). Step 350, Loss: 0.30401355028152466\n",
      "Generating Image Number: 9 for target class tensor([3]). Step 400, Loss: 0.2604149878025055\n",
      "Generating Image Number: 9 for target class tensor([3]). Step 450, Loss: 0.22283078730106354\n",
      "Generating Image Number: 10 for target class tensor([3]). Step 0, Loss: 9.788443565368652\n",
      "Generating Image Number: 10 for target class tensor([3]). Step 50, Loss: 4.589787006378174\n",
      "Generating Image Number: 10 for target class tensor([3]). Step 100, Loss: 2.9844868183135986\n",
      "Generating Image Number: 10 for target class tensor([3]). Step 150, Loss: 1.4297651052474976\n",
      "Generating Image Number: 10 for target class tensor([3]). Step 200, Loss: 0.0721428170800209\n",
      "Generating Image Number: 10 for target class tensor([3]). Step 250, Loss: 0.03715496137738228\n",
      "Generating Image Number: 10 for target class tensor([3]). Step 300, Loss: 0.02682085521519184\n",
      "Generating Image Number: 10 for target class tensor([3]). Step 350, Loss: 0.02113429456949234\n",
      "Generating Image Number: 10 for target class tensor([3]). Step 400, Loss: 0.01712394505739212\n",
      "Generating Image Number: 10 for target class tensor([3]). Step 450, Loss: 0.014124897308647633\n",
      "Generating Image Number: 11 for target class tensor([3]). Step 0, Loss: 22.592653274536133\n",
      "Generating Image Number: 11 for target class tensor([3]). Step 50, Loss: 5.8811259269714355\n",
      "Generating Image Number: 11 for target class tensor([3]). Step 100, Loss: 4.67582893371582\n",
      "Generating Image Number: 11 for target class tensor([3]). Step 150, Loss: 3.7283754348754883\n",
      "Generating Image Number: 11 for target class tensor([3]). Step 200, Loss: 3.082688093185425\n",
      "Generating Image Number: 11 for target class tensor([3]). Step 250, Loss: 2.227865695953369\n",
      "Generating Image Number: 11 for target class tensor([3]). Step 300, Loss: 1.0778863430023193\n",
      "Generating Image Number: 11 for target class tensor([3]). Step 350, Loss: 0.720067024230957\n",
      "Generating Image Number: 11 for target class tensor([3]). Step 400, Loss: 0.5745522975921631\n",
      "Generating Image Number: 11 for target class tensor([3]). Step 450, Loss: 0.5004934072494507\n",
      "Generating Image Number: 12 for target class tensor([3]). Step 0, Loss: 37.357120513916016\n",
      "Generating Image Number: 12 for target class tensor([3]). Step 50, Loss: 5.22361946105957\n",
      "Generating Image Number: 12 for target class tensor([3]). Step 100, Loss: 4.182204723358154\n",
      "Generating Image Number: 12 for target class tensor([3]). Step 150, Loss: 3.3812577724456787\n",
      "Generating Image Number: 12 for target class tensor([3]). Step 200, Loss: 2.4672608375549316\n",
      "Generating Image Number: 12 for target class tensor([3]). Step 250, Loss: 1.76849365234375\n",
      "Generating Image Number: 12 for target class tensor([3]). Step 300, Loss: 1.085074782371521\n",
      "Generating Image Number: 12 for target class tensor([3]). Step 350, Loss: 0.48010367155075073\n",
      "Generating Image Number: 12 for target class tensor([3]). Step 400, Loss: 0.212325319647789\n",
      "Generating Image Number: 12 for target class tensor([3]). Step 450, Loss: 0.13162077963352203\n",
      "Generating Image Number: 13 for target class tensor([3]). Step 0, Loss: 33.25971984863281\n",
      "Generating Image Number: 13 for target class tensor([3]). Step 50, Loss: 4.488304615020752\n",
      "Generating Image Number: 13 for target class tensor([3]). Step 100, Loss: 3.052795648574829\n",
      "Generating Image Number: 13 for target class tensor([3]). Step 150, Loss: 1.2972445487976074\n",
      "Generating Image Number: 13 for target class tensor([3]). Step 200, Loss: 0.4428060054779053\n",
      "Generating Image Number: 13 for target class tensor([3]). Step 250, Loss: 0.14452660083770752\n",
      "Generating Image Number: 13 for target class tensor([3]). Step 300, Loss: 0.0674441009759903\n",
      "Generating Image Number: 13 for target class tensor([3]). Step 350, Loss: 0.04954119399189949\n",
      "Generating Image Number: 13 for target class tensor([3]). Step 400, Loss: 0.03952575847506523\n",
      "Generating Image Number: 13 for target class tensor([3]). Step 450, Loss: 0.03203687444329262\n",
      "Generating Image Number: 14 for target class tensor([3]). Step 0, Loss: 16.591270446777344\n",
      "Generating Image Number: 14 for target class tensor([3]). Step 50, Loss: 2.180079936981201\n",
      "Generating Image Number: 14 for target class tensor([3]). Step 100, Loss: 1.1143580675125122\n",
      "Generating Image Number: 14 for target class tensor([3]). Step 150, Loss: 0.6290572881698608\n",
      "Generating Image Number: 14 for target class tensor([3]). Step 200, Loss: 0.35313886404037476\n",
      "Generating Image Number: 14 for target class tensor([3]). Step 250, Loss: 0.22444027662277222\n",
      "Generating Image Number: 14 for target class tensor([3]). Step 300, Loss: 0.16619497537612915\n",
      "Generating Image Number: 14 for target class tensor([3]). Step 350, Loss: 0.1313188076019287\n",
      "Generating Image Number: 14 for target class tensor([3]). Step 400, Loss: 0.112228162586689\n",
      "Generating Image Number: 14 for target class tensor([3]). Step 450, Loss: 0.09441063553094864\n",
      "Generating Image Number: 15 for target class tensor([3]). Step 0, Loss: 17.5263671875\n",
      "Generating Image Number: 15 for target class tensor([3]). Step 50, Loss: 4.942718982696533\n",
      "Generating Image Number: 15 for target class tensor([3]). Step 100, Loss: 4.206620216369629\n",
      "Generating Image Number: 15 for target class tensor([3]). Step 150, Loss: 3.632877826690674\n",
      "Generating Image Number: 15 for target class tensor([3]). Step 200, Loss: 2.8140554428100586\n",
      "Generating Image Number: 15 for target class tensor([3]). Step 250, Loss: 1.9744393825531006\n",
      "Generating Image Number: 15 for target class tensor([3]). Step 300, Loss: 1.181971788406372\n",
      "Generating Image Number: 15 for target class tensor([3]). Step 350, Loss: 0.6973617076873779\n",
      "Generating Image Number: 15 for target class tensor([3]). Step 400, Loss: 0.4760066270828247\n",
      "Generating Image Number: 15 for target class tensor([3]). Step 450, Loss: 0.3478904664516449\n",
      "Generating Image Number: 16 for target class tensor([3]). Step 0, Loss: 35.72074890136719\n",
      "Generating Image Number: 16 for target class tensor([3]). Step 50, Loss: 5.635040760040283\n",
      "Generating Image Number: 16 for target class tensor([3]). Step 100, Loss: 5.088595390319824\n",
      "Generating Image Number: 16 for target class tensor([3]). Step 150, Loss: 0.010742572136223316\n",
      "Generating Image Number: 16 for target class tensor([3]). Step 200, Loss: 2.7179348762729205e-05\n",
      "Generating Image Number: 16 for target class tensor([3]). Step 250, Loss: 6.067568756407127e-05\n",
      "Generating Image Number: 16 for target class tensor([3]). Step 300, Loss: 4.732496745418757e-05\n",
      "Generating Image Number: 16 for target class tensor([3]). Step 350, Loss: 4.1126360883936286e-05\n",
      "Generating Image Number: 16 for target class tensor([3]). Step 400, Loss: 3.766942609217949e-05\n",
      "Generating Image Number: 16 for target class tensor([3]). Step 450, Loss: 3.516612196108326e-05\n",
      "Generating Image Number: 17 for target class tensor([3]). Step 0, Loss: 15.194278717041016\n",
      "Generating Image Number: 17 for target class tensor([3]). Step 50, Loss: 0.0021144431084394455\n",
      "Generating Image Number: 17 for target class tensor([3]). Step 100, Loss: 9.035655966727063e-05\n",
      "Generating Image Number: 17 for target class tensor([3]). Step 150, Loss: 3.123234637314454e-05\n",
      "Generating Image Number: 17 for target class tensor([3]). Step 200, Loss: 1.8954096958623268e-05\n",
      "Generating Image Number: 17 for target class tensor([3]). Step 250, Loss: 1.3351351299206726e-05\n",
      "Generating Image Number: 17 for target class tensor([3]). Step 300, Loss: 9.059865078597795e-06\n",
      "Generating Image Number: 17 for target class tensor([3]). Step 350, Loss: 6.556489552167477e-06\n",
      "Generating Image Number: 17 for target class tensor([3]). Step 400, Loss: 5.006777428206988e-06\n",
      "Generating Image Number: 17 for target class tensor([3]). Step 450, Loss: 4.172316494077677e-06\n",
      "Generating Image Number: 18 for target class tensor([3]). Step 0, Loss: 38.15671157836914\n",
      "Generating Image Number: 18 for target class tensor([3]). Step 50, Loss: 30.313631057739258\n",
      "Generating Image Number: 18 for target class tensor([3]). Step 100, Loss: 29.521638870239258\n",
      "Generating Image Number: 18 for target class tensor([3]). Step 150, Loss: 28.66072654724121\n",
      "Generating Image Number: 18 for target class tensor([3]). Step 200, Loss: 27.894481658935547\n",
      "Generating Image Number: 18 for target class tensor([3]). Step 250, Loss: 27.47072982788086\n",
      "Generating Image Number: 18 for target class tensor([3]). Step 300, Loss: 27.058147430419922\n",
      "Generating Image Number: 18 for target class tensor([3]). Step 350, Loss: 26.710180282592773\n",
      "Generating Image Number: 18 for target class tensor([3]). Step 400, Loss: 26.36366081237793\n",
      "Generating Image Number: 18 for target class tensor([3]). Step 450, Loss: 25.91900062561035\n",
      "Generating Image Number: 19 for target class tensor([3]). Step 0, Loss: 39.56532287597656\n",
      "Generating Image Number: 19 for target class tensor([3]). Step 50, Loss: 30.76312828063965\n",
      "Generating Image Number: 19 for target class tensor([3]). Step 100, Loss: 30.544771194458008\n",
      "Generating Image Number: 19 for target class tensor([3]). Step 150, Loss: 30.388957977294922\n",
      "Generating Image Number: 19 for target class tensor([3]). Step 200, Loss: 30.260278701782227\n",
      "Generating Image Number: 19 for target class tensor([3]). Step 250, Loss: 30.143646240234375\n",
      "Generating Image Number: 19 for target class tensor([3]). Step 300, Loss: 30.05068588256836\n",
      "Generating Image Number: 19 for target class tensor([3]). Step 350, Loss: 29.960926055908203\n",
      "Generating Image Number: 19 for target class tensor([3]). Step 400, Loss: 29.843034744262695\n",
      "Generating Image Number: 19 for target class tensor([3]). Step 450, Loss: 29.742483139038086\n",
      "Generating Image Number: 20 for target class tensor([3]). Step 0, Loss: 22.204118728637695\n",
      "Generating Image Number: 20 for target class tensor([3]). Step 50, Loss: 0.00023874769976828247\n",
      "Generating Image Number: 20 for target class tensor([3]). Step 100, Loss: 0.0001864259538706392\n",
      "Generating Image Number: 20 for target class tensor([3]). Step 150, Loss: 0.0001691436773398891\n",
      "Generating Image Number: 20 for target class tensor([3]). Step 200, Loss: 0.00013410145766101778\n",
      "Generating Image Number: 20 for target class tensor([3]). Step 250, Loss: 9.762764238985255e-05\n",
      "Generating Image Number: 20 for target class tensor([3]). Step 300, Loss: 5.900685573578812e-05\n",
      "Generating Image Number: 20 for target class tensor([3]). Step 350, Loss: 3.6477376852417365e-05\n",
      "Generating Image Number: 20 for target class tensor([3]). Step 400, Loss: 2.539125671319198e-05\n",
      "Generating Image Number: 20 for target class tensor([3]). Step 450, Loss: 1.3470558769768104e-05\n"
     ]
    }
   ],
   "source": [
    "torch.manual_seed(300)\n",
    "latent_vectors = torch.randn(img_count, z_dim, 1, 1, requires_grad=True) # Start with 20 random noises\n",
    "class3_optimized_latent_vectors = recover_images(img_count, 3, latent_vectors)"
   ]
  },
  {
   "cell_type": "code",
   "execution_count": 24,
   "id": "ae6425a5-dd86-4e87-8112-883336345ac9",
   "metadata": {},
   "outputs": [],
   "source": [
    "z0_1 = class0_optimized_latent_vectors[0]\n",
    "z0_2 = class0_optimized_latent_vectors[1]\n",
    "z0_3 = class0_optimized_latent_vectors[2]"
   ]
  },
  {
   "cell_type": "code",
   "execution_count": 26,
   "id": "07f38b7d-14f6-4d63-9efa-cb96ec2e1d35",
   "metadata": {},
   "outputs": [
    {
     "name": "stdout",
     "output_type": "stream",
     "text": [
      "torch.Size([64, 64])\n"
     ]
    }
   ],
   "source": [
    "# Display the generated image\n",
    "img = gen(z0_1.to(device)).squeeze(dim=0).squeeze(dim=0)\n",
    "print(img.shape)"
   ]
  },
  {
   "cell_type": "code",
   "execution_count": 27,
   "id": "8cad57ff-7961-4078-9dd4-1e0b4879ff56",
   "metadata": {},
   "outputs": [
    {
     "data": {
      "text/plain": [
       "<matplotlib.image.AxesImage at 0x25e8021e6d0>"
      ]
     },
     "execution_count": 27,
     "metadata": {},
     "output_type": "execute_result"
    },
    {
     "data": {
      "image/png": "[encoded data removed]",
      "text/plain": [
       "<Figure size 640x480 with 1 Axes>"
      ]
     },
     "metadata": {},
     "output_type": "display_data"
    }
   ],
   "source": [
    "plt.axis(False)\n",
    "plt.title('Recovered Image:')\n",
    "plt.imshow(img.cpu().detach(), cmap='gray')"
   ]
  },
  {
   "cell_type": "code",
   "execution_count": 28,
   "id": "52ecd67d-cb2d-44a3-b375-759d63db75b1",
   "metadata": {},
   "outputs": [],
   "source": [
    "                                                            # Dataset Loading\n",
    "# Load the .pkl files in as numpy arrays of pixels\n",
    "def load_tumor_data(file_path):\n",
    "    train_xs = []\n",
    "    train_ys = []\n",
    "    \"\"\" Load Digits Data from pickle data\n",
    "    return:\n",
    "    @xs: numpy.array, (n, c, w, h) \n",
    "    @ys: numpy.array, (n, ), 0-9\n",
    "    \"\"\"\n",
    "    with open(file_path, 'rb') as file:\n",
    "        data = pickle.load(file)\n",
    "        train_xs.append(data[\"data\"])\n",
    "        train_ys.append(data[\"labels\"])\n",
    "    train_xs = np.concatenate(train_xs, axis=0)\n",
    "    train_ys = np.concatenate(train_ys, axis=0)\n",
    "    \n",
    "    return train_xs, train_ys"
   ]
  },
  {
   "cell_type": "code",
   "execution_count": 29,
   "id": "ca72f62f-1eec-4b17-a8ce-fd66781f64f6",
   "metadata": {},
   "outputs": [],
   "source": [
    "# Custom Tumor Dataset\n",
    "class TumorDataset(data.Dataset):\n",
    "    def __init__(self, xs, ys, is_train=True):\n",
    "        self.xs = xs\n",
    "        self.ys = ys\n",
    "\n",
    "        if is_train is True:\n",
    "            self.transform = transforms.Compose([\n",
    "                transforms.ToPILImage(),\n",
    "                transforms.Resize((64, 64)),\n",
    "                transforms.ToTensor(),\n",
    "                transforms.Normalize(\n",
    "                    [0.5],\n",
    "                    [0.5]\n",
    "                )\n",
    "            ])\n",
    "        else:\n",
    "            self.transform = transforms.Compose([\n",
    "                transforms.ToPILImage(),\n",
    "                transforms.Resize((64, 64)),\n",
    "                transforms.ToTensor(),\n",
    "                transforms.Normalize(\n",
    "                    (0.4914, 0.4822, 0.4465),\n",
    "                    (0.2023, 0.1994, 0.2010)\n",
    "                )\n",
    "            ])\n",
    "\n",
    "    def __len__(self):\n",
    "        return len(self.xs)\n",
    "\n",
    "    def __getitem__(self, index):\n",
    "        img = self.xs[index]\n",
    "        #print(img.shape)\n",
    "        label = self.ys[index]\n",
    "\n",
    "        img = img.transpose((1, 2, 0)).astype(np.uint8)\n",
    "        img = self.transform(img)\n",
    "\n",
    "        img = torch.FloatTensor(img)\n",
    "        label = torch.LongTensor([label])[0]\n",
    "        return img, label"
   ]
  },
  {
   "cell_type": "code",
   "execution_count": 30,
   "id": "ceb91588-ef69-4373-b33f-74aed6c246bb",
   "metadata": {},
   "outputs": [],
   "source": [
    "def create_dataset(train_xs, train_ys):\n",
    "    tumor_dataset = TumorDataset(train_xs, train_ys, is_train=True)\n",
    "\n",
    "    return tumor_dataset"
   ]
  },
  {
   "cell_type": "code",
   "execution_count": 31,
   "id": "0415fba0-830c-42c6-bbde-c6958e779fbb",
   "metadata": {},
   "outputs": [],
   "source": [
    "def create_dataloader(dataset):\n",
    "    dataloader = DataLoader(dataset=dataset, batch_size=128, shuffle=True)\n",
    "\n",
    "    return dataloader"
   ]
  },
  {
   "cell_type": "code",
   "execution_count": 32,
   "id": "726d4995-5133-4037-ab0e-f2705470cdc9",
   "metadata": {},
   "outputs": [
    {
     "name": "stdout",
     "output_type": "stream",
     "text": [
      "(13927, 1, 32, 32)\n",
      "<class 'numpy.ndarray'>\n"
     ]
    }
   ],
   "source": [
    "# Load in the pickle dataset file\n",
    "train_xs, train_ys = load_tumor_data('datasets/Tumor/tumor4train.pkl')\n",
    "#train_xs = train_xs[:, 1, :, :]\n",
    "#train_xs = np.expand_dims(train_xs, axis=1)\n",
    "train_xs = train_xs.mean(axis=1, keepdims=True)\n",
    "print(train_xs.shape)\n",
    "print(type(train_xs))"
   ]
  },
  {
   "cell_type": "code",
   "execution_count": 33,
   "id": "a684b01a-eb4a-4210-9f59-d613085a404a",
   "metadata": {},
   "outputs": [],
   "source": [
    "# Create the dataset\n",
    "tumor_dataset = create_dataset(train_xs, train_ys)"
   ]
  },
  {
   "cell_type": "code",
   "execution_count": 34,
   "id": "193f07cc-d34f-425e-aa08-62b6d6adbad6",
   "metadata": {},
   "outputs": [],
   "source": [
    "def visualize_image(image_x):\n",
    "    # We have to visualize by reverting the normalization (just for visualization).\n",
    "    mean = torch.tensor([0.5])\n",
    "    std = torch.tensor([0.5])\n",
    "\n",
    "    image = image_x * std + mean  # Denormalize the image\n",
    "\n",
    "    image = torch.clamp(image, 0, 1) # Clip values to [0, 1] to ensure valid range for display\n",
    "\n",
    "    # Permute the image to (H, W, C) for matplotlib\n",
    "    \n",
    "    image = image.permute(1, 2, 0)\n",
    "\n",
    "    plt.imshow(image, cmap='gray')"
   ]
  },
  {
   "cell_type": "code",
   "execution_count": 35,
   "id": "16e93c17-a89b-46a2-8198-71e66e370f4f",
   "metadata": {},
   "outputs": [
    {
     "name": "stdout",
     "output_type": "stream",
     "text": [
      "torch.Size([1, 64, 64])\n"
     ]
    },
    {
     "data": {
      "image/png": "[encoded data removed]",
      "text/plain": [
       "<Figure size 640x480 with 1 Axes>"
      ]
     },
     "metadata": {},
     "output_type": "display_data"
    }
   ],
   "source": [
    "# Visualize the first tumor sample. \n",
    "image_x, image_y = tumor_dataset[7000]\n",
    "print(image_x.shape)\n",
    "visualize_image(image_x)"
   ]
  },
  {
   "cell_type": "code",
   "execution_count": 36,
   "id": "60e2da47-7cb6-493e-aeda-aa80d7965de7",
   "metadata": {},
   "outputs": [],
   "source": [
    "from scipy.spatial.distance import cosine"
   ]
  },
  {
   "cell_type": "code",
   "execution_count": 37,
   "id": "5a7937e5-b808-4b3e-8288-75dcd9862340",
   "metadata": {},
   "outputs": [],
   "source": [
    "# Get the feature embeddings\n",
    "tfcnn_model = target_model = load_target_model(base_net='TFCNN', n_classes=4, path='saved models/fedavg_global_model.pth').to(device)\n",
    "model_embeddings = tfcnn_model.encoder.to(device)"
   ]
  },
  {
   "cell_type": "code",
   "execution_count": 38,
   "id": "737e3d92-45b6-45f6-9bf2-d51f379d6ac8",
   "metadata": {},
   "outputs": [],
   "source": [
    "# Preprocessing\n",
    "preprocess = transforms.Compose([\n",
    "    transforms.Resize(256),\n",
    "    transforms.CenterCrop(224),\n",
    "    transforms.ToTensor(),\n",
    "])"
   ]
  },
  {
   "cell_type": "code",
   "execution_count": 39,
   "id": "babb1015-bdfb-439b-bea1-81f9f50dd74e",
   "metadata": {},
   "outputs": [],
   "source": [
    "def get_feature(img):\n",
    "    with torch.no_grad():\n",
    "        features = model_embeddings(img).squeeze()\n",
    "    return features.cpu().numpy()"
   ]
  },
  {
   "cell_type": "code",
   "execution_count": 40,
   "id": "79f38654-6670-440d-a322-b2cae18a71d8",
   "metadata": {},
   "outputs": [
    {
     "data": {
      "text/plain": [
       "torch.Size([1, 64, 64])"
      ]
     },
     "execution_count": 40,
     "metadata": {},
     "output_type": "execute_result"
    }
   ],
   "source": [
    "# Send an original image through the model\n",
    "image_x, image_y = tumor_dataset[10]\n",
    "image_x.shape"
   ]
  },
  {
   "cell_type": "code",
   "execution_count": 41,
   "id": "a4a2659e-dcaa-4d4a-b5a5-06b363ce6534",
   "metadata": {},
   "outputs": [],
   "source": [
    "image_x = image_x.unsqueeze(dim=0)"
   ]
  },
  {
   "cell_type": "code",
   "execution_count": 42,
   "id": "14348bfc-5988-48f0-88cf-4761d7a99d89",
   "metadata": {},
   "outputs": [
    {
     "data": {
      "text/plain": [
       "torch.Size([1, 1, 64, 64])"
      ]
     },
     "execution_count": 42,
     "metadata": {},
     "output_type": "execute_result"
    }
   ],
   "source": [
    "image_x.shape"
   ]
  },
  {
   "cell_type": "code",
   "execution_count": 43,
   "id": "66160253-9543-4aba-bb81-031d51ef9623",
   "metadata": {},
   "outputs": [
    {
     "data": {
      "text/plain": [
       "torch.Size([1, 3, 64, 64])"
      ]
     },
     "execution_count": 43,
     "metadata": {},
     "output_type": "execute_result"
    }
   ],
   "source": [
    "image_x = image_x.repeat(1, 3, 1, 1)\n",
    "image_x = image_x.to(device)\n",
    "image_x.shape"
   ]
  },
  {
   "cell_type": "code",
   "execution_count": 44,
   "id": "f615c7d3-2dab-425d-81e1-2595ec59e230",
   "metadata": {},
   "outputs": [
    {
     "data": {
      "text/plain": [
       "(4096,)"
      ]
     },
     "execution_count": 44,
     "metadata": {},
     "output_type": "execute_result"
    }
   ],
   "source": [
    "features = get_feature(image_x)\n",
    "features.shape"
   ]
  },
  {
   "cell_type": "code",
   "execution_count": 45,
   "id": "31b9ddc9-3fc8-4a47-bfc7-74a6df27d672",
   "metadata": {},
   "outputs": [],
   "source": [
    "class0_original_images = []\n",
    "class1_original_images = []\n",
    "class2_original_images = []\n",
    "class3_original_images = []\n",
    "target_num = 20 # 20 images for each class"
   ]
  },
  {
   "cell_type": "code",
   "execution_count": 46,
   "id": "e804c948-2dc8-41df-a633-113300baf12a",
   "metadata": {},
   "outputs": [],
   "source": [
    "for i in range(len(tumor_dataset)):\n",
    "    img_x, img_y = tumor_dataset[i]\n",
    "\n",
    "    if img_y == 0:\n",
    "        if len(class0_original_images) < target_num:\n",
    "            class0_original_images.append(img_x)\n",
    "    elif img_y == 1:\n",
    "        if len(class1_original_images) < target_num:\n",
    "            class1_original_images.append(img_x)\n",
    "    elif img_y == 2:\n",
    "        if len(class2_original_images) < target_num:\n",
    "            class2_original_images.append(img_x)\n",
    "    elif img_y == 3:\n",
    "        if len(class3_original_images) < target_num:\n",
    "            class3_original_images.append(img_x)"
   ]
  },
  {
   "cell_type": "code",
   "execution_count": 47,
   "id": "ef07c896-c4cd-48da-9e59-c9d7bd90a4e8",
   "metadata": {},
   "outputs": [
    {
     "data": {
      "text/plain": [
       "20"
      ]
     },
     "execution_count": 47,
     "metadata": {},
     "output_type": "execute_result"
    }
   ],
   "source": [
    "len(class3_original_images)"
   ]
  },
  {
   "cell_type": "code",
   "execution_count": 48,
   "id": "e102404a-68a3-40c5-99a7-45813eb87f20",
   "metadata": {},
   "outputs": [
    {
     "data": {
      "text/plain": [
       "torch.Size([1, 3, 64, 64])"
      ]
     },
     "execution_count": 48,
     "metadata": {},
     "output_type": "execute_result"
    }
   ],
   "source": [
    "# Testing the cosine similarity\n",
    "class1_original_image = class1_original_images[8]\n",
    "class1_original_image = class1_original_image.unsqueeze(dim=0).to(device)\n",
    "class1_original_image = class1_original_image.repeat(1, 3, 1, 1)\n",
    "class1_original_image.shape"
   ]
  },
  {
   "cell_type": "code",
   "execution_count": 49,
   "id": "d7fe9c85-2c83-4580-be7d-32833b706948",
   "metadata": {},
   "outputs": [],
   "source": [
    "fake1 = class1_optimized_latent_vectors[8]\n",
    "fake1_image = gen(fake1.to(device))\n",
    "fake1_image = fake1_image.repeat(1, 3, 1, 1)"
   ]
  },
  {
   "cell_type": "code",
   "execution_count": 50,
   "id": "74647152-cdcb-4593-a88f-d3ac43fd97d3",
   "metadata": {},
   "outputs": [
    {
     "data": {
      "text/plain": [
       "torch.Size([1, 3, 64, 64])"
      ]
     },
     "execution_count": 50,
     "metadata": {},
     "output_type": "execute_result"
    }
   ],
   "source": [
    "fake1_image.shape"
   ]
  },
  {
   "cell_type": "code",
   "execution_count": 101,
   "id": "9224af80-28e3-4c0c-801b-12f4a722b66a",
   "metadata": {},
   "outputs": [
    {
     "name": "stdout",
     "output_type": "stream",
     "text": [
      "torch.Size([1, 64, 64])\n"
     ]
    },
    {
     "data": {
      "image/png": "[encoded data removed]",
      "text/plain": [
       "<Figure size 640x480 with 1 Axes>"
      ]
     },
     "metadata": {},
     "output_type": "display_data"
    }
   ],
   "source": [
    "fake = class2_optimized_latent_vectors[0]\n",
    "fake_img = gen(fake.to(device)).squeeze(dim=0)\n",
    "print(fake_img.shape)\n",
    "visualize_image(fake_img.detach().cpu())"
   ]
  },
  {
   "cell_type": "code",
   "execution_count": 52,
   "id": "e88f6396-0ef2-45f5-96e0-6048be01af25",
   "metadata": {},
   "outputs": [],
   "source": [
    "# Get the features of the images\n",
    "features_original = get_feature(class1_original_image)\n",
    "features_fake = get_feature(fake1_image)"
   ]
  },
  {
   "cell_type": "code",
   "execution_count": 53,
   "id": "b54e2bca-5f2b-41ea-b810-15d1f9d30f86",
   "metadata": {},
   "outputs": [],
   "source": [
    "# Compute cosine similarity\n",
    "similarity = 1 - cosine(features_original, features_fake)"
   ]
  },
  {
   "cell_type": "code",
   "execution_count": 54,
   "id": "983c7e35-27ee-453c-9356-cb9a84fdd4a3",
   "metadata": {},
   "outputs": [
    {
     "data": {
      "text/plain": [
       "np.float32(0.48801684)"
      ]
     },
     "execution_count": 54,
     "metadata": {},
     "output_type": "execute_result"
    }
   ],
   "source": [
    "similarity"
   ]
  },
  {
   "cell_type": "code",
   "execution_count": 55,
   "id": "e65e04e8-52b7-4cf2-876c-d9b07a435ec9",
   "metadata": {},
   "outputs": [],
   "source": [
    "def calculate_class0_sim():\n",
    "    similarities = []\n",
    "    for i in range(0, 20):\n",
    "        class0_original = class0_original_images[i].unsqueeze(dim=0).to(device)\n",
    "        class0_original = class0_original.repeat(1, 3, 1, 1)\n",
    "\n",
    "        class0_fake = class0_optimized_latent_vectors[i]\n",
    "        class0_fake_img = gen(class0_fake.to(device))\n",
    "        class0_fake_img = class0_fake_img.repeat(1, 3, 1, 1)\n",
    "\n",
    "        features_original = get_feature(class0_original)\n",
    "        features_fake = get_feature(class0_fake_img)\n",
    "\n",
    "        cosine_similarity = 1 - cosine(features_original, features_fake)\n",
    "\n",
    "        similarities.append(cosine_similarity)\n",
    "        \n",
    "    return similarities"
   ]
  },
  {
   "cell_type": "code",
   "execution_count": 56,
   "id": "10d8f579-0b80-4157-b59b-7b92be9e52f2",
   "metadata": {},
   "outputs": [],
   "source": [
    "def calculate_class1_sim():\n",
    "    similarities = []\n",
    "    for i in range(0, 20):\n",
    "        class1_original = class1_original_images[i].unsqueeze(dim=0).to(device)\n",
    "        class1_original = class1_original.repeat(1, 3, 1, 1)\n",
    "\n",
    "        class1_fake = class1_optimized_latent_vectors[i]\n",
    "        class1_fake_img = gen(class1_fake.to(device))\n",
    "        class1_fake_img = class1_fake_img.repeat(1, 3, 1, 1)\n",
    "\n",
    "        features_original = get_feature(class1_original)\n",
    "        features_fake = get_feature(class1_fake_img)\n",
    "\n",
    "        cosine_similarity = 1 - cosine(features_original, features_fake)\n",
    "        similarities.append(cosine_similarity)\n",
    "\n",
    "    return similarities"
   ]
  },
  {
   "cell_type": "code",
   "execution_count": 57,
   "id": "1bbdc999-fa6d-4005-b785-3c54a7bd89ee",
   "metadata": {},
   "outputs": [],
   "source": [
    "def calculate_class2_sim():\n",
    "    similarities = []\n",
    "    for i in range(0, 20):\n",
    "        class2_original = class2_original_images[i].unsqueeze(dim=0).to(device)\n",
    "        class2_original = class2_original.repeat(1, 3, 1, 1)\n",
    "\n",
    "        class2_fake = class2_optimized_latent_vectors[i]\n",
    "        class2_fake_img = gen(class2_fake.to(device))\n",
    "        class2_fake_img = class2_fake_img.repeat(1, 3, 1, 1)\n",
    "\n",
    "        features_original = get_feature(class2_original)\n",
    "        features_fake = get_feature(class2_fake_img)\n",
    "\n",
    "        cosine_similarity = 1 - cosine(features_original, features_fake)\n",
    "        similarities.append(cosine_similarity)\n",
    "\n",
    "    return similarities"
   ]
  },
  {
   "cell_type": "code",
   "execution_count": 58,
   "id": "33cb8de1-5a87-4dd4-8fc2-d3f27d6ddc9a",
   "metadata": {},
   "outputs": [],
   "source": [
    "def calculate_class3_sim():\n",
    "    similarities = []\n",
    "    for i in range(0, 20):\n",
    "        class3_original = class3_original_images[i].unsqueeze(dim=0).to(device)\n",
    "        class3_original = class3_original.repeat(1, 3, 1, 1)\n",
    "\n",
    "        class3_fake = class3_optimized_latent_vectors[i]\n",
    "        class3_fake_img = gen(class3_fake.to(device))\n",
    "        class3_fake_img = class3_fake_img.repeat(1, 3, 1, 1)\n",
    "\n",
    "        features_original = get_feature(class3_original)\n",
    "        features_fake = get_feature(class3_fake_img)\n",
    "\n",
    "        cosine_similarity = 1 - cosine(features_original, features_fake)\n",
    "        similarities.append(cosine_similarity)\n",
    "\n",
    "    return similarities"
   ]
  },
  {
   "cell_type": "code",
   "execution_count": 59,
   "id": "7868f175-5845-4ee4-b4cf-1c89513375ec",
   "metadata": {},
   "outputs": [],
   "source": [
    "class0_sims = calculate_class0_sim()\n",
    "class1_sims = calculate_class0_sim()\n",
    "class2_sims = calculate_class0_sim()\n",
    "class3_sims = calculate_class0_sim()"
   ]
  },
  {
   "cell_type": "code",
   "execution_count": null,
   "id": "bbf4597d-a583-4204-a3ce-9085936e0189",
   "metadata": {},
   "outputs": [],
   "source": [
    "class0_sims"
   ]
  },
  {
   "cell_type": "code",
   "execution_count": null,
   "id": "acb9d480-a58f-4ce6-8973-eb9c8d6e7253",
   "metadata": {},
   "outputs": [],
   "source": [
    "class3_sims"
   ]
  },
  {
   "cell_type": "code",
   "execution_count": null,
   "id": "58dc103d-1c30-473a-adc3-fcd5ca5100a0",
   "metadata": {},
   "outputs": [],
   "source": [
    "                                                        # VISUALIZE\n",
    "# NOTE: Class indexes now start from 1 so, previous class 0 = now class 1 and so on\n",
    "# FIG 1: Raw similarity plot\n",
    "\n",
    "import pandas as pd\n",
    "import numpy as np\n",
    "import matplotlib.pyplot as plt\n",
    "import seaborn as sns\n",
    "\n",
    "# Generate sample similarity data for four classes (each with 20 values in the range 0 to 1)\n",
    "class1_sim = class0_sims\n",
    "class2_sim = class1_sims\n",
    "class3_sim = class2_sims\n",
    "class4_sim = class3_sims\n",
    "\n",
    "# Set figure size\n",
    "plt.figure(figsize=(6.5, 4.2))  # Set the size of the figure (width, height)\n",
    "\n",
    "# Sample DataFrame with four columns\n",
    "data=pd.DataFrame({'Class 1':class1_sim,'Class 2':class2_sim,'Class 3':class3_sim,'Class 4':class4_sim})\n",
    "df = pd.DataFrame(data)\n",
    "\n",
    "# Plot the probability distributions\n",
    "#plt.figure(figsize=(10, 6))\n",
    "\n",
    "# Define colors and line styles for each column\n",
    "colors = ['#1f77b4', '#ff7f0e', '#2ca02c', '#d62728']\n",
    "linestyles = ['-.', '--', '-', '-']\n",
    "\n",
    "# Plot the probability distributions with unique colors and line styles\n",
    "for column, color, linestyle in zip(df.columns, colors, linestyles):\n",
    "    sns.kdeplot(df[column], label=column, color=color, linestyle=linestyle)\n",
    "\n",
    "#plt.title('Probability Distributions of Four Columns')\n",
    "plt.xlabel('Similarity',fontsize=12)\n",
    "plt.ylabel('Density',fontsize=12)\n",
    "plt.yticks(fontsize=12)  # Set y-tick labels font size\n",
    "plt.legend(loc='upper right',fontsize=12)  # Increase legend font size\n",
    "\n",
    "# Optimize layout\n",
    "plt.tight_layout()\n",
    "# Save the plot to a file\n",
    "plt.savefig('output/fedvg.png', dpi=300, bbox_inches='tight')  # Save as a PNG file with high resolution\n",
    "\n",
    "# Show the plot\n",
    "plt.show()\n"
   ]
  },
  {
   "cell_type": "code",
   "execution_count": null,
   "id": "c71af78e-28e9-4564-9609-3039455bb875",
   "metadata": {},
   "outputs": [],
   "source": [
    "# FIG 2: DIFFERENCES IN COSINE SIMILARITY\n",
    "\n",
    "# For each class, we have 20 similarity values — one per image — showing how similar fake and real versions are.These values are very close across classes\n",
    "# So, to highlight subtle differences, compute and plot the difference between each pair of classes, value by value.\n",
    "# This gives you 20 values showing how much the similarity differs for each image between class 0 and class 1.\n",
    "# It's a magnified view of the gap between classes.\n",
    "# If the differences are tiny (e.g., 0.003), the plot helps make that visible and comparable.\n",
    "\n",
    "import numpy as np\n",
    "import matplotlib.pyplot as plt\n",
    "import seaborn as sns\n",
    "import pandas as pd\n",
    "\n",
    "# Differences between class distributions (pairwise)\n",
    "diff_12 = np.array(class2_sim) - np.array(class1_sim)\n",
    "diff_13 = np.array(class3_sim) - np.array(class1_sim)\n",
    "diff_14 = np.array(class4_sim) - np.array(class1_sim)\n",
    "diff_23 = np.array(class3_sim) - np.array(class2_sim)\n",
    "diff_24 = np.array(class4_sim) - np.array(class2_sim)\n",
    "diff_34 = np.array(class4_sim) - np.array(class3_sim)\n",
    "\n",
    "# Create a DataFrame\n",
    "diff_df = pd.DataFrame({\n",
    "    'Class 2 - Class 1': diff_12,\n",
    "    'Class 3 - Class 1': diff_13,\n",
    "    'Class 4 - Class 1': diff_14,\n",
    "    'Class 3 - Class 2': diff_23,\n",
    "    'Class 4 - Class 2': diff_24,\n",
    "    'Class 4 - Class 3': diff_34,\n",
    "})\n",
    "\n",
    "# Plot\n",
    "plt.figure(figsize=(7.5, 5))\n",
    "\n",
    "colors = sns.color_palette(\"tab10\", n_colors=6)\n",
    "\n",
    "for column, color in zip(diff_df.columns, colors):\n",
    "    sns.kdeplot(diff_df[column], label=column, color=color, linestyle='-')\n",
    "\n",
    "plt.axvline(0, color='black', linestyle='--', linewidth=1)  # reference line at 0\n",
    "plt.xlabel('Difference in Similarity', fontsize=12)\n",
    "plt.ylabel('Density', fontsize=12)\n",
    "plt.legend(fontsize=10)\n",
    "plt.title(\"Pairwise Differences in Cosine Similarity\", fontsize=13)\n",
    "plt.tight_layout()\n",
    "plt.show()"
   ]
  },
  {
   "cell_type": "code",
   "execution_count": null,
   "id": "362bf182-7927-4ce2-bf5a-97299d426bc4",
   "metadata": {},
   "outputs": [],
   "source": [
    "def calculate_interclass_similarity(first, second):\n",
    "    similarities = []\n",
    "\n",
    "    first_images = []\n",
    "    second_images = []\n",
    "    if first == 'class1':\n",
    "        first_images = class0_original_images.copy()\n",
    "    elif first == 'class2':\n",
    "        first_images = class1_original_images.copy()\n",
    "    elif first == 'class3':\n",
    "        first_images = class2_original_images.copy()\n",
    "    elif first == 'class4':\n",
    "        first_images = class3_original_images.copy()\n",
    "\n",
    "    if second == 'class1':\n",
    "        second_images = class0_original_images.copy()\n",
    "    elif second == 'class2':\n",
    "        second_images = class1_original_images.copy()\n",
    "    elif second == 'class3':\n",
    "        second_images = class2_original_images.copy()\n",
    "    elif second == 'class4':\n",
    "        second_images = class3_original_images.copy()\n",
    "    \n",
    "    for i in range(0, 20):\n",
    "        first_image = first_images[i].unsqueeze(dim=0).to(device)\n",
    "        first_image = first_image.repeat(1, 3, 1, 1)\n",
    "        \n",
    "        second_image = second_images[i].unsqueeze(dim=0).to(device)\n",
    "        second_image = second_image.repeat(1, 3, 1, 1)\n",
    "        \n",
    "        features_first = get_feature(first_image)\n",
    "        features_second = get_feature(second_image)\n",
    "\n",
    "        cosine_similarity = 1 - cosine(features_first, features_second)\n",
    "        similarities.append(cosine_similarity)\n",
    "\n",
    "    return similarities"
   ]
  },
  {
   "cell_type": "code",
   "execution_count": null,
   "id": "5954dfe3-cb08-4551-a5f9-d2082ac3d604",
   "metadata": {},
   "outputs": [],
   "source": [
    "class1class2 = calculate_interclass_similarity('class1', 'class2')"
   ]
  },
  {
   "cell_type": "code",
   "execution_count": null,
   "id": "cd5ab50d-9d9d-443b-bea5-2d6e302e2bf4",
   "metadata": {},
   "outputs": [],
   "source": [
    "class1class2"
   ]
  },
  {
   "cell_type": "code",
   "execution_count": null,
   "id": "29441f40-36a7-4854-98be-5d128bae49cd",
   "metadata": {},
   "outputs": [],
   "source": [
    "                                                # FIG: 3 -> INTERCLASS SIMILARITIES\n",
    "\n",
    "import pandas as pd\n",
    "import numpy as np\n",
    "import matplotlib.pyplot as plt\n",
    "import seaborn as sns\n",
    "\n",
    "# Set figure size\n",
    "plt.figure(figsize=(6.5, 4.2))  # Set the size of the figure (width, height)\n",
    "\n",
    "# Generate sample similarity data for four classes (each with 20 values in the range 0 to 1)\n",
    "np.random.seed(42)  # For reproducibility\n",
    "class1class2 = calculate_interclass_similarity('class1', 'class2')\n",
    "class1class3 = calculate_interclass_similarity('class1', 'class3')\n",
    "class1class4 = calculate_interclass_similarity('class1', 'class4')\n",
    "class2class3 = calculate_interclass_similarity('class2', 'class3')\n",
    "class2class4 = calculate_interclass_similarity('class2', 'class4')\n",
    "class3class4 = calculate_interclass_similarity('class3', 'class4')\n",
    "\n",
    "# Sample DataFrame with four columns\n",
    "data=pd.DataFrame({'Class1 vs Class2':class1class2,'Class1 vs Class3':class1class3,'Class1 vs Class4':class1class4,'Class2 vs Class3':class2class3,'Class2 vs Class4':class2class4,'Class3 vs Class4':class3class4})\n",
    "df = pd.DataFrame(data)\n",
    "\n",
    "# Plot the probability distributions\n",
    "#plt.figure(figsize=(10, 6))\n",
    "\n",
    "# Define colors and line styles for each column\n",
    "colors = ['#1f77b4', '#ff7f0e', '#2ca02c', '#d62728', '#9467bd', '#8c564b']\n",
    "linestyles = ['-.', '--', '-', '-', '-.', '--']\n",
    "\n",
    "# Plot the probability distributions with unique colors and line styles\n",
    "for column, color, linestyle in zip(df.columns, colors, linestyles):\n",
    "    sns.kdeplot(df[column], label=column, color=color, linestyle=linestyle)\n",
    "\n",
    "#plt.title('Probability Distributions of Four Columns')\n",
    "plt.xlabel('Similarity',fontsize=12)\n",
    "plt.ylabel('Density',fontsize=12)\n",
    "plt.yticks(fontsize=12)  # Set y-tick labels font size\n",
    "plt.legend(loc='upper right',fontsize=12)  # Increase legend font size\n",
    "\n",
    "# Optimize layout\n",
    "plt.tight_layout()\n",
    "# Save the plot to a file\n",
    "plt.savefig('output/VoiceDivergenceD3.png', dpi=300, bbox_inches='tight')  # Save as a PNG file with high resolution\n",
    "\n",
    "# Show the plot\n",
    "plt.show()"
   ]
  },
  {
   "cell_type": "code",
   "execution_count": null,
   "id": "19754eee-5c1e-47e6-bbaa-b2cef05a1641",
   "metadata": {},
   "outputs": [],
   "source": []
  },
  {
   "cell_type": "code",
   "execution_count": null,
   "id": "e2eebd80-009b-498c-968a-bea206f03d9c",
   "metadata": {},
   "outputs": [],
   "source": []
  }
 ],
 "metadata": {
  "kernelspec": {
   "display_name": "Python 3 (ipykernel)",
   "language": "python",
   "name": "python3"
  },
  "language_info": {
   "codemirror_mode": {
    "name": "ipython",
    "version": 3
   },
   "file_extension": ".py",
   "mimetype": "text/x-python",
   "name": "python",
   "nbconvert_exporter": "python",
   "pygments_lexer": "ipython3",
   "version": "3.9.7"
  }
 },
 "nbformat": 4,
 "nbformat_minor": 5
}
