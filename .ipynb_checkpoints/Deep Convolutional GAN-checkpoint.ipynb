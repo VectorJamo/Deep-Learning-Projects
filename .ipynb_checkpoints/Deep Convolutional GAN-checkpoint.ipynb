{
 "cells": [
  {
   "cell_type": "code",
   "execution_count": 1,
   "id": "ad3a6720-f4d4-487b-b9b4-b4c5b0dff652",
   "metadata": {},
   "outputs": [],
   "source": [
    "# Creating a Deep Convolutional Generative Adverserial Network that creates realistic MNIST digit images\n",
    "# Author: Suraj Neupane\n",
    "# Written from scratch as a part of a Research Project 2025, Concordia University of Edmonton.\n",
    "import numpy as np\n",
    "\n",
    "import torch\n",
    "from torch import nn\n",
    "\n",
    "from torch.utils.data import DataLoader\n",
    "\n",
    "import torchvision\n",
    "from torchvision import datasets\n",
    "from torchvision import transforms"
   ]
  },
  {
   "cell_type": "code",
   "execution_count": 2,
   "id": "39fb5668-79ac-461c-93fb-601c6828aae2",
   "metadata": {},
   "outputs": [
    {
     "data": {
      "text/plain": [
       "'2.5.1+cu118'"
      ]
     },
     "execution_count": 2,
     "metadata": {},
     "output_type": "execute_result"
    }
   ],
   "source": [
    "torch.__version__"
   ]
  },
  {
   "cell_type": "code",
   "execution_count": 3,
   "id": "4ba3a436-a29d-4c49-a3da-43cc447768dd",
   "metadata": {},
   "outputs": [],
   "source": [
    "device = 'cuda' if torch.cuda.is_available() else 'cpu'"
   ]
  },
  {
   "cell_type": "code",
   "execution_count": 4,
   "id": "9beae6ba-c5e2-40c3-b2bc-bf8fef7508c6",
   "metadata": {},
   "outputs": [],
   "source": [
    "img_size = 64\n",
    "img_channels = 1\n",
    "# Transform the images to 64x64\n",
    "transformations = transforms.Compose(\n",
    "    [\n",
    "        transforms.Resize(img_size),\n",
    "        transforms.ToTensor(),\n",
    "        transforms.Normalize(\n",
    "            [0.5 for _ in range(img_channels)], [0.5 for _ in range(img_channels)]\n",
    "        )\n",
    "    ]\n",
    ")"
   ]
  },
  {
   "cell_type": "code",
   "execution_count": 5,
   "id": "ebdb890e-234a-463e-811b-74baf1324f53",
   "metadata": {},
   "outputs": [],
   "source": [
    "# Load the MNIST dataset\n",
    "MNIST_TRAIN = datasets.MNIST(root='/datasets/', train=True, transform=transformations, download=True)\n",
    "MNIST_TEST = datasets.MNIST(root='/datasets/', train=False, transform=transformations, download=True)"
   ]
  },
  {
   "cell_type": "code",
   "execution_count": 6,
   "id": "8aee7a6e-d30c-48c8-9f17-7d429ea874a8",
   "metadata": {},
   "outputs": [
    {
     "data": {
      "text/plain": [
       "(60000, 10000)"
      ]
     },
     "execution_count": 6,
     "metadata": {},
     "output_type": "execute_result"
    }
   ],
   "source": [
    "# Dataset sizes\n",
    "len(MNIST_TRAIN), len(MNIST_TEST)"
   ]
  },
  {
   "cell_type": "code",
   "execution_count": 7,
   "id": "6b68ebca-11db-45a8-8bef-1ee9fa8b2575",
   "metadata": {},
   "outputs": [
    {
     "data": {
      "text/plain": [
       "torch.Size([1, 64, 64])"
      ]
     },
     "execution_count": 7,
     "metadata": {},
     "output_type": "execute_result"
    }
   ],
   "source": [
    "# Single training example\n",
    "data_sample, label = MNIST_TRAIN[0]\n",
    "data_sample.shape"
   ]
  },
  {
   "cell_type": "code",
   "execution_count": 8,
   "id": "9ae00b4e-f4e9-46e1-9f4c-aebaae18661a",
   "metadata": {},
   "outputs": [],
   "source": [
    "# Create the Dataloader\n",
    "BATCH_SIZE = 128\n",
    "\n",
    "train_dataloader = DataLoader(dataset=MNIST_TRAIN, batch_size=BATCH_SIZE, shuffle=True, num_workers=4, pin_memory=True)\n",
    "test_dataloader = DataLoader(dataset=MNIST_TEST, batch_size=BATCH_SIZE, shuffle=True, num_workers=4, pin_memory=True)"
   ]
  },
  {
   "cell_type": "code",
   "execution_count": 9,
   "id": "65717445-5cfc-4527-be35-41454d878dc5",
   "metadata": {},
   "outputs": [
    {
     "data": {
      "text/plain": [
       "(torch.Size([128, 1, 64, 64]), torch.Size([128]))"
      ]
     },
     "execution_count": 9,
     "metadata": {},
     "output_type": "execute_result"
    }
   ],
   "source": [
    "train_iter = iter(train_dataloader)\n",
    "first_batch_samples, first_batch_labels = next(train_iter)\n",
    "first_batch_samples.shape, first_batch_labels.shape"
   ]
  },
  {
   "cell_type": "code",
   "execution_count": 10,
   "id": "cb11c2ef-b3b0-430a-9660-d6b30b010caa",
   "metadata": {},
   "outputs": [],
   "source": [
    "import matplotlib.pyplot as plt\n",
    "%matplotlib inline"
   ]
  },
  {
   "cell_type": "code",
   "execution_count": 11,
   "id": "2bcf9fef-a6f2-4a0c-a927-870911eadab1",
   "metadata": {},
   "outputs": [
    {
     "data": {
      "text/plain": [
       "(torch.Size([1, 64, 64]), 9)"
      ]
     },
     "execution_count": 11,
     "metadata": {},
     "output_type": "execute_result"
    }
   ],
   "source": [
    "# Visualize a data sample\n",
    "data_sample, data_label = first_batch_samples[0], first_batch_labels[0]\n",
    "data_sample.shape, data_label.item()"
   ]
  },
  {
   "cell_type": "code",
   "execution_count": 12,
   "id": "cbe61bcb-0017-407f-8908-141493ea9845",
   "metadata": {},
   "outputs": [
    {
     "data": {
      "text/plain": [
       "<matplotlib.image.AxesImage at 0x218e2cffca0>"
      ]
     },
     "execution_count": 12,
     "metadata": {},
     "output_type": "execute_result"
    },
    {
     "data": {
      "image/png": "[encoded data removed]",
      "text/plain": [
       "<Figure size 640x480 with 1 Axes>"
      ]
     },
     "metadata": {},
     "output_type": "display_data"
    }
   ],
   "source": [
    "# Plot the data sample\n",
    "plt.title(f'Digit: {data_label.item()}')\n",
    "plt.axis(False)\n",
    "plt.imshow(data_sample.squeeze(dim=0), cmap='gray')"
   ]
  },
  {
   "cell_type": "code",
   "execution_count": 13,
   "id": "979c5c00-402c-4cc2-a54b-09807366602b",
   "metadata": {},
   "outputs": [],
   "source": [
    "# Creating the DC-GAN\n",
    "# Creating the Discriminator\n",
    "class Discriminator(nn.Module):\n",
    "    def __init__(self, img_channels, features_d):\n",
    "        super().__init__()\n",
    "        self.disc = nn.Sequential(\n",
    "            # Input shape: img_channels x 64 x 64\n",
    "            nn.Conv2d(\n",
    "              in_channels=img_channels, out_channels=features_d, kernel_size=4, stride=2, padding=1\n",
    "            ), # Output shape: features_d x 32 x 32\n",
    "            nn.LeakyReLU(0.2),\n",
    "            self._block(features_d, features_d*2, 4, 2, 1), # Output shape: features_d*2 x 16 x 16\n",
    "            self._block(features_d*2, features_d*4, 4, 2, 1), # Output shape: features_d*4 x 8 x 8\n",
    "            self._block(features_d*4, features_d*8, 4, 2, 1), # Output shape: features_d*8 x 4 x 4\n",
    "           \n",
    "            nn.Conv2d(in_channels=features_d*8, out_channels=1, kernel_size=4, stride=2, padding=0), # Output shape: 1 x 1\n",
    "            nn.Sigmoid(),\n",
    "        )\n",
    "\n",
    "    def _block(self, in_channels, out_channels, kernel_size, stride, padding):\n",
    "        return nn.Sequential(\n",
    "            nn.Conv2d(in_channels, out_channels, kernel_size, stride, padding, bias=False),\n",
    "            nn.BatchNorm2d(out_channels),\n",
    "            nn.LeakyReLU(0.2),\n",
    "        )\n",
    "\n",
    "    def forward(self, X):\n",
    "        return self.disc(X)"
   ]
  },
  {
   "cell_type": "code",
   "execution_count": 14,
   "id": "3d74e527-2960-456a-a09a-bda128387337",
   "metadata": {},
   "outputs": [],
   "source": [
    "# Creating the Generator\n",
    "class Generator(nn.Module):\n",
    "    def __init__(self, z_dim, img_channels, features_g):\n",
    "        super().__init__()\n",
    "        self.gen = nn.Sequential(\n",
    "            self._block(z_dim, features_g*16, 4, 1, 0),\n",
    "            self._block(features_g*16, features_g*8, 4, 2, 1),\n",
    "            self._block(features_g*8, features_g*4, 4, 2, 1),\n",
    "            self._block(features_g*4, features_g*2, 4, 2, 1),\n",
    "            nn.ConvTranspose2d(\n",
    "                in_channels=features_g*2, out_channels=img_channels, kernel_size=4, stride=2, padding=1\n",
    "            ),\n",
    "            nn.Tanh(),\n",
    "        )\n",
    "        \n",
    "    def _block(self, in_channels, out_channels, kernel_size, stride, padding):\n",
    "        return nn.Sequential(\n",
    "            nn.ConvTranspose2d(\n",
    "                in_channels, out_channels, kernel_size, stride, padding, bias=False,\n",
    "            ),\n",
    "            nn.BatchNorm2d(out_channels),\n",
    "            nn.ReLU(),\n",
    "        )\n",
    "\n",
    "    def forward(self, X):\n",
    "        return self.gen(X)"
   ]
  },
  {
   "cell_type": "code",
   "execution_count": 15,
   "id": "19e70627-f849-49a5-a720-3b528ea4ed91",
   "metadata": {},
   "outputs": [],
   "source": [
    "def initialize_weights(model):\n",
    "    for m in model.modules():\n",
    "        if isinstance(m, (nn.Conv2d, nn.ConvTranspose2d, nn.BatchNorm2d)):\n",
    "            nn.init.normal_(m.weight.data, 0.0, 0.02)"
   ]
  },
  {
   "cell_type": "code",
   "execution_count": 16,
   "id": "9b8e5466-2f2d-4cdd-9a1d-b2035bf0c960",
   "metadata": {},
   "outputs": [],
   "source": [
    "# Testing the output shapes of the Discriminator and the Generator\n",
    "def test():\n",
    "    N, in_channels, H, W = 8, 3, 64, 64\n",
    "    z_dim = 100\n",
    "    x = torch.randn((N, in_channels, H, W))\n",
    "    disc = Discriminator(in_channels, 8)\n",
    "    initialize_weights(disc)\n",
    "\n",
    "    print(disc(x).shape)\n",
    "    assert disc(x).shape == (N, 1, 1, 1)\n",
    "\n",
    "    gen = Generator(z_dim, in_channels, 8)\n",
    "    initialize_weights(gen)\n",
    "    z = torch.randn((N, z_dim, 1, 1))\n",
    "\n",
    "    print(gen(z).shape)\n",
    "    assert(gen(z).shape) == (N, in_channels, H, W)"
   ]
  },
  {
   "cell_type": "code",
   "execution_count": 17,
   "id": "796beb13-12fb-49e8-a4b4-b172798dbb8e",
   "metadata": {},
   "outputs": [
    {
     "name": "stdout",
     "output_type": "stream",
     "text": [
      "torch.Size([8, 1, 1, 1])\n",
      "torch.Size([8, 3, 64, 64])\n"
     ]
    }
   ],
   "source": [
    "test()"
   ]
  },
  {
   "cell_type": "code",
   "execution_count": 18,
   "id": "a403cf18-b222-4b8d-8e63-63da7286b8f1",
   "metadata": {},
   "outputs": [],
   "source": [
    "# Setup the hyperparameters\n",
    "learning_rate = 2e-4\n",
    "batch_size = 128\n",
    "image_size = 64\n",
    "img_channels = 1\n",
    "z_dim = 100\n",
    "epochs = 5\n",
    "features_disc = 64\n",
    "features_gen = 64"
   ]
  },
  {
   "cell_type": "code",
   "execution_count": 19,
   "id": "e29c242b-0645-426f-9b73-f94df06f510e",
   "metadata": {},
   "outputs": [],
   "source": [
    "# Create the model instances\n",
    "gen = Generator(z_dim, img_channels, features_gen).to(device)\n",
    "disc = Discriminator(img_channels, features_disc).to(device)"
   ]
  },
  {
   "cell_type": "code",
   "execution_count": 20,
   "id": "b89e4cba-fa56-4686-adf0-f648351ff389",
   "metadata": {},
   "outputs": [],
   "source": [
    "initialize_weights(gen)\n",
    "initialize_weights(disc)"
   ]
  },
  {
   "cell_type": "code",
   "execution_count": 21,
   "id": "61b63f9d-e4af-4604-b3bc-cc338ae38fb5",
   "metadata": {},
   "outputs": [],
   "source": [
    "# Create the optimizer and the loss function\n",
    "opt_gen = torch.optim.Adam(gen.parameters(), lr=learning_rate, betas=(0.5, 0.999))\n",
    "opt_disc = torch.optim.Adam(disc.parameters(), lr=learning_rate, betas=(0.5, 0.999))\n",
    "loss_function = nn.BCELoss()"
   ]
  },
  {
   "cell_type": "code",
   "execution_count": 22,
   "id": "cc085220-ae42-4936-a3b2-ac52c41f5fda",
   "metadata": {},
   "outputs": [],
   "source": [
    "fixed_noise = torch.randn(32, z_dim, 1, 1).to(device)"
   ]
  },
  {
   "cell_type": "code",
   "execution_count": 23,
   "id": "1fbc5de3-c51c-4378-b922-19596f757098",
   "metadata": {},
   "outputs": [
    {
     "data": {
      "text/plain": [
       "Discriminator(\n",
       "  (disc): Sequential(\n",
       "    (0): Conv2d(1, 64, kernel_size=(4, 4), stride=(2, 2), padding=(1, 1))\n",
       "    (1): LeakyReLU(negative_slope=0.2)\n",
       "    (2): Sequential(\n",
       "      (0): Conv2d(64, 128, kernel_size=(4, 4), stride=(2, 2), padding=(1, 1), bias=False)\n",
       "      (1): BatchNorm2d(128, eps=1e-05, momentum=0.1, affine=True, track_running_stats=True)\n",
       "      (2): LeakyReLU(negative_slope=0.2)\n",
       "    )\n",
       "    (3): Sequential(\n",
       "      (0): Conv2d(128, 256, kernel_size=(4, 4), stride=(2, 2), padding=(1, 1), bias=False)\n",
       "      (1): BatchNorm2d(256, eps=1e-05, momentum=0.1, affine=True, track_running_stats=True)\n",
       "      (2): LeakyReLU(negative_slope=0.2)\n",
       "    )\n",
       "    (4): Sequential(\n",
       "      (0): Conv2d(256, 512, kernel_size=(4, 4), stride=(2, 2), padding=(1, 1), bias=False)\n",
       "      (1): BatchNorm2d(512, eps=1e-05, momentum=0.1, affine=True, track_running_stats=True)\n",
       "      (2): LeakyReLU(negative_slope=0.2)\n",
       "    )\n",
       "    (5): Conv2d(512, 1, kernel_size=(4, 4), stride=(2, 2))\n",
       "    (6): Sigmoid()\n",
       "  )\n",
       ")"
      ]
     },
     "execution_count": 23,
     "metadata": {},
     "output_type": "execute_result"
    }
   ],
   "source": [
    "# Set the models to training mode\n",
    "gen.train()\n",
    "disc.train()"
   ]
  },
  {
   "cell_type": "code",
   "execution_count": 24,
   "id": "5d2b1f68-953b-4e64-a681-2a95f6b71a79",
   "metadata": {},
   "outputs": [
    {
     "name": "stdout",
     "output_type": "stream",
     "text": [
      "Epoch: 0. Batches seen: 0.\n",
      "Epoch: 0. Batches seen: 50.\n",
      "Epoch: 0. Batches seen: 100.\n",
      "Epoch: 0. Batches seen: 150.\n",
      "Epoch: 0. Batches seen: 200.\n",
      "Epoch: 0. Batches seen: 250.\n",
      "Epoch: 0. Batches seen: 300.\n",
      "Epoch: 0. Batches seen: 350.\n",
      "Epoch: 0. Batches seen: 400.\n",
      "Epoch: 0. Batches seen: 450.\n",
      "Epoch: 1. Batches seen: 0.\n",
      "Epoch: 1. Batches seen: 50.\n",
      "Epoch: 1. Batches seen: 100.\n",
      "Epoch: 1. Batches seen: 150.\n",
      "Epoch: 1. Batches seen: 200.\n",
      "Epoch: 1. Batches seen: 250.\n",
      "Epoch: 1. Batches seen: 300.\n",
      "Epoch: 1. Batches seen: 350.\n",
      "Epoch: 1. Batches seen: 400.\n",
      "Epoch: 1. Batches seen: 450.\n",
      "Epoch: 2. Batches seen: 0.\n",
      "Epoch: 2. Batches seen: 50.\n",
      "Epoch: 2. Batches seen: 100.\n",
      "Epoch: 2. Batches seen: 150.\n",
      "Epoch: 2. Batches seen: 200.\n",
      "Epoch: 2. Batches seen: 250.\n",
      "Epoch: 2. Batches seen: 300.\n",
      "Epoch: 2. Batches seen: 350.\n",
      "Epoch: 2. Batches seen: 400.\n",
      "Epoch: 2. Batches seen: 450.\n",
      "Epoch: 3. Batches seen: 0.\n",
      "Epoch: 3. Batches seen: 50.\n",
      "Epoch: 3. Batches seen: 100.\n",
      "Epoch: 3. Batches seen: 150.\n",
      "Epoch: 3. Batches seen: 200.\n",
      "Epoch: 3. Batches seen: 250.\n",
      "Epoch: 3. Batches seen: 300.\n",
      "Epoch: 3. Batches seen: 350.\n",
      "Epoch: 3. Batches seen: 400.\n",
      "Epoch: 3. Batches seen: 450.\n",
      "Epoch: 4. Batches seen: 0.\n",
      "Epoch: 4. Batches seen: 50.\n",
      "Epoch: 4. Batches seen: 100.\n",
      "Epoch: 4. Batches seen: 150.\n",
      "Epoch: 4. Batches seen: 200.\n",
      "Epoch: 4. Batches seen: 250.\n",
      "Epoch: 4. Batches seen: 300.\n",
      "Epoch: 4. Batches seen: 350.\n",
      "Epoch: 4. Batches seen: 400.\n",
      "Epoch: 4. Batches seen: 450.\n"
     ]
    }
   ],
   "source": [
    "fake_images = []\n",
    "\n",
    "for epoch in range(epochs):\n",
    "    for batch_index, (real_images, labels) in enumerate(train_dataloader):\n",
    "        real_images = real_images.to(device)\n",
    "        noise = torch.randn((batch_size, z_dim, 1, 1)).to(device)\n",
    "        fake = gen(noise)\n",
    "        \n",
    "        # Train the discriminator max log(D(X)) + log(1 - (D(G(X))))\n",
    "        disc_real = disc(real_images).reshape(-1) # Flatten the output\n",
    "        loss_disc_real = loss_function(disc_real, torch.ones_like(disc_real))\n",
    "\n",
    "        disc_fake = disc(fake).reshape(-1)\n",
    "        loss_disc_fake = loss_function(disc_fake, torch.zeros_like(disc_fake))\n",
    "        \n",
    "        loss_disc = (loss_disc_real + loss_disc_fake) / 2\n",
    "        disc.zero_grad()\n",
    "        loss_disc.backward(retain_graph=True)\n",
    "        opt_disc.step()\n",
    "\n",
    "        # Train the Generator max log(D(G(z)))\n",
    "        output = disc(fake).reshape(-1)\n",
    "        loss_gen = loss_function(output, torch.ones_like(output))\n",
    "        gen.zero_grad()\n",
    "        loss_gen.backward()\n",
    "        opt_gen.step()\n",
    "\n",
    "        if batch_index % 50 == 0:\n",
    "            print(f'Epoch: {epoch}. Batches seen: {batch_index}.')\n",
    "            fake_images.append(fake)"
   ]
  },
  {
   "cell_type": "code",
   "execution_count": 25,
   "id": "7e6a787d-eeb3-4085-b669-a744ecff7919",
   "metadata": {},
   "outputs": [
    {
     "data": {
      "text/plain": [
       "50"
      ]
     },
     "execution_count": 25,
     "metadata": {},
     "output_type": "execute_result"
    }
   ],
   "source": [
    "len(fake_images)"
   ]
  },
  {
   "cell_type": "code",
   "execution_count": 26,
   "id": "2795b4d7-408c-40e5-9347-f2e36538bb03",
   "metadata": {},
   "outputs": [
    {
     "data": {
      "text/plain": [
       "torch.Size([64, 64])"
      ]
     },
     "execution_count": 26,
     "metadata": {},
     "output_type": "execute_result"
    }
   ],
   "source": [
    "fake_image = fake_images[-1]\n",
    "fake_image[10][0].shape"
   ]
  },
  {
   "cell_type": "code",
   "execution_count": 27,
   "id": "c754a1be-efa1-4673-8fed-5d9b4768b6de",
   "metadata": {},
   "outputs": [
    {
     "name": "stdout",
     "output_type": "stream",
     "text": [
      "Fake Generated Images:\n"
     ]
    },
    {
     "data": {
      "image/png": "[encoded data removed]",
      "text/plain": [
       "<Figure size 640x480 with 16 Axes>"
      ]
     },
     "metadata": {},
     "output_type": "display_data"
    }
   ],
   "source": [
    "print('Fake Generated Images:')\n",
    "\n",
    "for i in range(1, 17):\n",
    "    grid = plt.subplot(4, 4, i)\n",
    "    plt.axis(False)\n",
    "    plt.imshow(fake_image[i][0].squeeze(dim=0).cpu().detach().numpy(), cmap='gray')\n",
    "\n"
   ]
  },
  {
   "cell_type": "code",
   "execution_count": null,
   "id": "c18b27ba-8a4f-4ff3-a140-ff2685aacb23",
   "metadata": {},
   "outputs": [],
   "source": []
  }
 ],
 "metadata": {
  "kernelspec": {
   "display_name": "Python 3 (ipykernel)",
   "language": "python",
   "name": "python3"
  },
  "language_info": {
   "codemirror_mode": {
    "name": "ipython",
    "version": 3
   },
   "file_extension": ".py",
   "mimetype": "text/x-python",
   "name": "python",
   "nbconvert_exporter": "python",
   "pygments_lexer": "ipython3",
   "version": "3.9.7"
  }
 },
 "nbformat": 4,
 "nbformat_minor": 5
}
