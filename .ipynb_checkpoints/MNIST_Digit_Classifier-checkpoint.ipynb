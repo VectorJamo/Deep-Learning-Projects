{
 "cells": [
  {
   "cell_type": "code",
   "execution_count": 1,
   "id": "ff2c6d3b-2600-4c76-9bca-7a2226200f1d",
   "metadata": {},
   "outputs": [],
   "source": [
    "import torch\n",
    "from torch import nn\n",
    "\n",
    "from torch.utils.data import Dataset # Base dataset class\n",
    "from torch.utils.data import DataLoader # For batching and shuffling data\n",
    "\n",
    "from torchvision import datasets # For built-in datasets\n",
    "from torchvision import transforms # For transforming data from one format to another\n",
    "\n",
    "import matplotlib.pyplot as plt\n",
    "%matplotlib inline"
   ]
  },
  {
   "cell_type": "code",
   "execution_count": 2,
   "id": "773adaa4-f3e6-4bc3-8432-39c7b74dc09f",
   "metadata": {},
   "outputs": [
    {
     "data": {
      "text/plain": [
       "'2.5.1+cu118'"
      ]
     },
     "execution_count": 2,
     "metadata": {},
     "output_type": "execute_result"
    }
   ],
   "source": [
    "torch.__version__"
   ]
  },
  {
   "cell_type": "code",
   "execution_count": 3,
   "id": "23d5cdcb-a31b-4b8a-8275-081256dbb7c2",
   "metadata": {},
   "outputs": [
    {
     "data": {
      "text/plain": [
       "'cuda'"
      ]
     },
     "execution_count": 3,
     "metadata": {},
     "output_type": "execute_result"
    }
   ],
   "source": [
    "device = 'cuda' if torch.cuda.is_available() else 'cpu'\n",
    "device"
   ]
  },
  {
   "cell_type": "code",
   "execution_count": 4,
   "id": "edc21c91-fcab-4db8-a7f4-f6f914a109bf",
   "metadata": {},
   "outputs": [
    {
     "data": {
      "text/plain": [
       "(60000, 10000)"
      ]
     },
     "execution_count": 4,
     "metadata": {},
     "output_type": "execute_result"
    }
   ],
   "source": [
    "# Get the MNIST handwritten digits dataset\n",
    "# Get the training dataset\n",
    "MNIST_DIGITS_TRAIN = datasets.MNIST(root='./datasets/', \n",
    "                              train=True, download=True, \n",
    "                              transform=transforms.ToTensor())\n",
    "# Get the testing dataset\n",
    "MNIST_DIGITS_TEST = datasets.MNIST(root='./datasets/', \n",
    "                              train=False, download=True, \n",
    "                              transform=transforms.ToTensor())\n",
    "\n",
    "len(MNIST_DIGITS_TRAIN), len(MNIST_DIGITS_TEST)"
   ]
  },
  {
   "cell_type": "code",
   "execution_count": 5,
   "id": "11aaaa03-37c2-4364-b43e-5397a7990d02",
   "metadata": {},
   "outputs": [],
   "source": [
    "LABELS = MNIST_DIGITS_TRAIN.classes"
   ]
  },
  {
   "cell_type": "code",
   "execution_count": 6,
   "id": "67e348ae-c7e4-479a-aa23-6b68d887074c",
   "metadata": {
    "scrolled": true
   },
   "outputs": [
    {
     "data": {
      "text/plain": [
       "(tensor([[[0.0000, 0.0000, 0.0000, 0.0000, 0.0000, 0.0000, 0.0000, 0.0000,\n",
       "           0.0000, 0.0000, 0.0000, 0.0000, 0.0000, 0.0000, 0.0000, 0.0000,\n",
       "           0.0000, 0.0000, 0.0000, 0.0000, 0.0000, 0.0000, 0.0000, 0.0000,\n",
       "           0.0000, 0.0000, 0.0000, 0.0000],\n",
       "          [0.0000, 0.0000, 0.0000, 0.0000, 0.0000, 0.0000, 0.0000, 0.0000,\n",
       "           0.0000, 0.0000, 0.0000, 0.0000, 0.0000, 0.0000, 0.0000, 0.0000,\n",
       "           0.0000, 0.0000, 0.0000, 0.0000, 0.0000, 0.0000, 0.0000, 0.0000,\n",
       "           0.0000, 0.0000, 0.0000, 0.0000],\n",
       "          [0.0000, 0.0000, 0.0000, 0.0000, 0.0000, 0.0000, 0.0000, 0.0000,\n",
       "           0.0000, 0.0000, 0.0000, 0.0000, 0.0000, 0.0000, 0.0000, 0.0000,\n",
       "           0.0000, 0.0000, 0.0000, 0.0000, 0.0000, 0.0000, 0.0000, 0.0000,\n",
       "           0.0000, 0.0000, 0.0000, 0.0000],\n",
       "          [0.0000, 0.0000, 0.0000, 0.0000, 0.0000, 0.0000, 0.0000, 0.0000,\n",
       "           0.0000, 0.0000, 0.0000, 0.0000, 0.0000, 0.0000, 0.0000, 0.0000,\n",
       "           0.0000, 0.0000, 0.0000, 0.0000, 0.0000, 0.0000, 0.0000, 0.0000,\n",
       "           0.0000, 0.0000, 0.0000, 0.0000],\n",
       "          [0.0000, 0.0000, 0.0000, 0.0000, 0.0000, 0.0000, 0.0000, 0.0000,\n",
       "           0.0000, 0.0000, 0.0000, 0.0000, 0.0000, 0.0000, 0.0000, 0.0000,\n",
       "           0.0000, 0.0000, 0.0000, 0.0000, 0.0000, 0.0000, 0.0000, 0.0000,\n",
       "           0.0000, 0.0000, 0.0000, 0.0000],\n",
       "          [0.0000, 0.0000, 0.0000, 0.0000, 0.0000, 0.0000, 0.0000, 0.0000,\n",
       "           0.0000, 0.0000, 0.0000, 0.0000, 0.0118, 0.0706, 0.0706, 0.0706,\n",
       "           0.4941, 0.5333, 0.6863, 0.1020, 0.6510, 1.0000, 0.9686, 0.4980,\n",
       "           0.0000, 0.0000, 0.0000, 0.0000],\n",
       "          [0.0000, 0.0000, 0.0000, 0.0000, 0.0000, 0.0000, 0.0000, 0.0000,\n",
       "           0.1176, 0.1412, 0.3686, 0.6039, 0.6667, 0.9922, 0.9922, 0.9922,\n",
       "           0.9922, 0.9922, 0.8824, 0.6745, 0.9922, 0.9490, 0.7647, 0.2510,\n",
       "           0.0000, 0.0000, 0.0000, 0.0000],\n",
       "          [0.0000, 0.0000, 0.0000, 0.0000, 0.0000, 0.0000, 0.0000, 0.1922,\n",
       "           0.9333, 0.9922, 0.9922, 0.9922, 0.9922, 0.9922, 0.9922, 0.9922,\n",
       "           0.9922, 0.9843, 0.3647, 0.3216, 0.3216, 0.2196, 0.1529, 0.0000,\n",
       "           0.0000, 0.0000, 0.0000, 0.0000],\n",
       "          [0.0000, 0.0000, 0.0000, 0.0000, 0.0000, 0.0000, 0.0000, 0.0706,\n",
       "           0.8588, 0.9922, 0.9922, 0.9922, 0.9922, 0.9922, 0.7765, 0.7137,\n",
       "           0.9686, 0.9451, 0.0000, 0.0000, 0.0000, 0.0000, 0.0000, 0.0000,\n",
       "           0.0000, 0.0000, 0.0000, 0.0000],\n",
       "          [0.0000, 0.0000, 0.0000, 0.0000, 0.0000, 0.0000, 0.0000, 0.0000,\n",
       "           0.3137, 0.6118, 0.4196, 0.9922, 0.9922, 0.8039, 0.0431, 0.0000,\n",
       "           0.1686, 0.6039, 0.0000, 0.0000, 0.0000, 0.0000, 0.0000, 0.0000,\n",
       "           0.0000, 0.0000, 0.0000, 0.0000],\n",
       "          [0.0000, 0.0000, 0.0000, 0.0000, 0.0000, 0.0000, 0.0000, 0.0000,\n",
       "           0.0000, 0.0549, 0.0039, 0.6039, 0.9922, 0.3529, 0.0000, 0.0000,\n",
       "           0.0000, 0.0000, 0.0000, 0.0000, 0.0000, 0.0000, 0.0000, 0.0000,\n",
       "           0.0000, 0.0000, 0.0000, 0.0000],\n",
       "          [0.0000, 0.0000, 0.0000, 0.0000, 0.0000, 0.0000, 0.0000, 0.0000,\n",
       "           0.0000, 0.0000, 0.0000, 0.5451, 0.9922, 0.7451, 0.0078, 0.0000,\n",
       "           0.0000, 0.0000, 0.0000, 0.0000, 0.0000, 0.0000, 0.0000, 0.0000,\n",
       "           0.0000, 0.0000, 0.0000, 0.0000],\n",
       "          [0.0000, 0.0000, 0.0000, 0.0000, 0.0000, 0.0000, 0.0000, 0.0000,\n",
       "           0.0000, 0.0000, 0.0000, 0.0431, 0.7451, 0.9922, 0.2745, 0.0000,\n",
       "           0.0000, 0.0000, 0.0000, 0.0000, 0.0000, 0.0000, 0.0000, 0.0000,\n",
       "           0.0000, 0.0000, 0.0000, 0.0000],\n",
       "          [0.0000, 0.0000, 0.0000, 0.0000, 0.0000, 0.0000, 0.0000, 0.0000,\n",
       "           0.0000, 0.0000, 0.0000, 0.0000, 0.1373, 0.9451, 0.8824, 0.6275,\n",
       "           0.4235, 0.0039, 0.0000, 0.0000, 0.0000, 0.0000, 0.0000, 0.0000,\n",
       "           0.0000, 0.0000, 0.0000, 0.0000],\n",
       "          [0.0000, 0.0000, 0.0000, 0.0000, 0.0000, 0.0000, 0.0000, 0.0000,\n",
       "           0.0000, 0.0000, 0.0000, 0.0000, 0.0000, 0.3176, 0.9412, 0.9922,\n",
       "           0.9922, 0.4667, 0.0980, 0.0000, 0.0000, 0.0000, 0.0000, 0.0000,\n",
       "           0.0000, 0.0000, 0.0000, 0.0000],\n",
       "          [0.0000, 0.0000, 0.0000, 0.0000, 0.0000, 0.0000, 0.0000, 0.0000,\n",
       "           0.0000, 0.0000, 0.0000, 0.0000, 0.0000, 0.0000, 0.1765, 0.7294,\n",
       "           0.9922, 0.9922, 0.5882, 0.1059, 0.0000, 0.0000, 0.0000, 0.0000,\n",
       "           0.0000, 0.0000, 0.0000, 0.0000],\n",
       "          [0.0000, 0.0000, 0.0000, 0.0000, 0.0000, 0.0000, 0.0000, 0.0000,\n",
       "           0.0000, 0.0000, 0.0000, 0.0000, 0.0000, 0.0000, 0.0000, 0.0627,\n",
       "           0.3647, 0.9882, 0.9922, 0.7333, 0.0000, 0.0000, 0.0000, 0.0000,\n",
       "           0.0000, 0.0000, 0.0000, 0.0000],\n",
       "          [0.0000, 0.0000, 0.0000, 0.0000, 0.0000, 0.0000, 0.0000, 0.0000,\n",
       "           0.0000, 0.0000, 0.0000, 0.0000, 0.0000, 0.0000, 0.0000, 0.0000,\n",
       "           0.0000, 0.9765, 0.9922, 0.9765, 0.2510, 0.0000, 0.0000, 0.0000,\n",
       "           0.0000, 0.0000, 0.0000, 0.0000],\n",
       "          [0.0000, 0.0000, 0.0000, 0.0000, 0.0000, 0.0000, 0.0000, 0.0000,\n",
       "           0.0000, 0.0000, 0.0000, 0.0000, 0.0000, 0.0000, 0.1804, 0.5098,\n",
       "           0.7176, 0.9922, 0.9922, 0.8118, 0.0078, 0.0000, 0.0000, 0.0000,\n",
       "           0.0000, 0.0000, 0.0000, 0.0000],\n",
       "          [0.0000, 0.0000, 0.0000, 0.0000, 0.0000, 0.0000, 0.0000, 0.0000,\n",
       "           0.0000, 0.0000, 0.0000, 0.0000, 0.1529, 0.5804, 0.8980, 0.9922,\n",
       "           0.9922, 0.9922, 0.9804, 0.7137, 0.0000, 0.0000, 0.0000, 0.0000,\n",
       "           0.0000, 0.0000, 0.0000, 0.0000],\n",
       "          [0.0000, 0.0000, 0.0000, 0.0000, 0.0000, 0.0000, 0.0000, 0.0000,\n",
       "           0.0000, 0.0000, 0.0941, 0.4471, 0.8667, 0.9922, 0.9922, 0.9922,\n",
       "           0.9922, 0.7882, 0.3059, 0.0000, 0.0000, 0.0000, 0.0000, 0.0000,\n",
       "           0.0000, 0.0000, 0.0000, 0.0000],\n",
       "          [0.0000, 0.0000, 0.0000, 0.0000, 0.0000, 0.0000, 0.0000, 0.0000,\n",
       "           0.0902, 0.2588, 0.8353, 0.9922, 0.9922, 0.9922, 0.9922, 0.7765,\n",
       "           0.3176, 0.0078, 0.0000, 0.0000, 0.0000, 0.0000, 0.0000, 0.0000,\n",
       "           0.0000, 0.0000, 0.0000, 0.0000],\n",
       "          [0.0000, 0.0000, 0.0000, 0.0000, 0.0000, 0.0000, 0.0706, 0.6706,\n",
       "           0.8588, 0.9922, 0.9922, 0.9922, 0.9922, 0.7647, 0.3137, 0.0353,\n",
       "           0.0000, 0.0000, 0.0000, 0.0000, 0.0000, 0.0000, 0.0000, 0.0000,\n",
       "           0.0000, 0.0000, 0.0000, 0.0000],\n",
       "          [0.0000, 0.0000, 0.0000, 0.0000, 0.2157, 0.6745, 0.8863, 0.9922,\n",
       "           0.9922, 0.9922, 0.9922, 0.9569, 0.5216, 0.0431, 0.0000, 0.0000,\n",
       "           0.0000, 0.0000, 0.0000, 0.0000, 0.0000, 0.0000, 0.0000, 0.0000,\n",
       "           0.0000, 0.0000, 0.0000, 0.0000],\n",
       "          [0.0000, 0.0000, 0.0000, 0.0000, 0.5333, 0.9922, 0.9922, 0.9922,\n",
       "           0.8314, 0.5294, 0.5176, 0.0627, 0.0000, 0.0000, 0.0000, 0.0000,\n",
       "           0.0000, 0.0000, 0.0000, 0.0000, 0.0000, 0.0000, 0.0000, 0.0000,\n",
       "           0.0000, 0.0000, 0.0000, 0.0000],\n",
       "          [0.0000, 0.0000, 0.0000, 0.0000, 0.0000, 0.0000, 0.0000, 0.0000,\n",
       "           0.0000, 0.0000, 0.0000, 0.0000, 0.0000, 0.0000, 0.0000, 0.0000,\n",
       "           0.0000, 0.0000, 0.0000, 0.0000, 0.0000, 0.0000, 0.0000, 0.0000,\n",
       "           0.0000, 0.0000, 0.0000, 0.0000],\n",
       "          [0.0000, 0.0000, 0.0000, 0.0000, 0.0000, 0.0000, 0.0000, 0.0000,\n",
       "           0.0000, 0.0000, 0.0000, 0.0000, 0.0000, 0.0000, 0.0000, 0.0000,\n",
       "           0.0000, 0.0000, 0.0000, 0.0000, 0.0000, 0.0000, 0.0000, 0.0000,\n",
       "           0.0000, 0.0000, 0.0000, 0.0000],\n",
       "          [0.0000, 0.0000, 0.0000, 0.0000, 0.0000, 0.0000, 0.0000, 0.0000,\n",
       "           0.0000, 0.0000, 0.0000, 0.0000, 0.0000, 0.0000, 0.0000, 0.0000,\n",
       "           0.0000, 0.0000, 0.0000, 0.0000, 0.0000, 0.0000, 0.0000, 0.0000,\n",
       "           0.0000, 0.0000, 0.0000, 0.0000]]]),\n",
       " 5)"
      ]
     },
     "execution_count": 6,
     "metadata": {},
     "output_type": "execute_result"
    }
   ],
   "source": [
    "# Visualize our data\n",
    "sample_X, sample_label = MNIST_DIGITS_TRAIN[0]\n",
    "sample_X, sample_label"
   ]
  },
  {
   "cell_type": "code",
   "execution_count": 7,
   "id": "1efe50f8-b6b9-411c-906f-cafbf8a2822a",
   "metadata": {},
   "outputs": [
    {
     "data": {
      "text/plain": [
       "torch.Size([1, 28, 28])"
      ]
     },
     "execution_count": 7,
     "metadata": {},
     "output_type": "execute_result"
    }
   ],
   "source": [
    "sample_X.shape # (C, H, W) format"
   ]
  },
  {
   "cell_type": "code",
   "execution_count": 8,
   "id": "322d6f2e-8553-4074-aaf1-ab4fb8cd437d",
   "metadata": {},
   "outputs": [
    {
     "data": {
      "text/plain": [
       "torch.Size([28, 28])"
      ]
     },
     "execution_count": 8,
     "metadata": {},
     "output_type": "execute_result"
    }
   ],
   "source": [
    "sample_X = sample_X.squeeze(dim=0) # Get rid of the outer dimension\n",
    "sample_X.shape"
   ]
  },
  {
   "cell_type": "code",
   "execution_count": 9,
   "id": "b36c9be7-d0af-4baf-bcad-e739215100e8",
   "metadata": {},
   "outputs": [
    {
     "data": {
      "text/plain": [
       "Text(0.5, 1.0, 'Label: 5 - five')"
      ]
     },
     "execution_count": 9,
     "metadata": {},
     "output_type": "execute_result"
    },
    {
     "data": {
      "image/png": "[encoded data removed]",
      "text/plain": [
       "<Figure size 640x480 with 1 Axes>"
      ]
     },
     "metadata": {},
     "output_type": "display_data"
    }
   ],
   "source": [
    "# Plot the image data using matplotlib\n",
    "plt.imshow(sample_X, cmap='gray')\n",
    "plt.axis(False)\n",
    "plt.title(f'Label: {LABELS[sample_label]}')"
   ]
  },
  {
   "cell_type": "code",
   "execution_count": 10,
   "id": "0fd3bf2e-6321-49b3-ba38-0f9979e4c022",
   "metadata": {},
   "outputs": [],
   "source": [
    "# Let's create a function to plot random images\n",
    "def plot_sample(index):\n",
    "    # Get the image onto the correct format\n",
    "    sample_X, sample_label = MNIST_DIGITS_TRAIN[index]\n",
    "    sample_X = sample_X.squeeze(dim=0)\n",
    "\n",
    "    # Show the image\n",
    "    plt.imshow(sample_X, cmap='gray')\n",
    "    plt.axis(False)\n",
    "    plt.title(f'Label: {LABELS[sample_label]}')"
   ]
  },
  {
   "cell_type": "code",
   "execution_count": 11,
   "id": "cb14630d-bcb7-4a12-a1f4-f476e6445cfa",
   "metadata": {},
   "outputs": [
    {
     "data": {
      "image/png": "[encoded data removed]",
      "text/plain": [
       "<Figure size 640x480 with 1 Axes>"
      ]
     },
     "metadata": {},
     "output_type": "display_data"
    }
   ],
   "source": [
    "plot_sample(5) # Plot the 6th image in our training dataset"
   ]
  },
  {
   "cell_type": "code",
   "execution_count": 12,
   "id": "33b04a1a-eef3-4f96-b7cf-abc258c7fb8a",
   "metadata": {},
   "outputs": [
    {
     "data": {
      "image/png": "[encoded data removed]",
      "text/plain": [
       "<Figure size 640x480 with 1 Axes>"
      ]
     },
     "metadata": {},
     "output_type": "display_data"
    }
   ],
   "source": [
    "plot_sample(20) "
   ]
  },
  {
   "cell_type": "code",
   "execution_count": 13,
   "id": "636359ba-f6ea-4619-95af-ced176cfa326",
   "metadata": {},
   "outputs": [
    {
     "name": "stdout",
     "output_type": "stream",
     "text": [
      "No. of training batches of size 32: 1875\n",
      "No. of testing batches of size 32: 313\n"
     ]
    }
   ],
   "source": [
    "# Turn the image data into batches\n",
    "batch_size = 32\n",
    "train_dataloader = DataLoader(dataset=MNIST_DIGITS_TRAIN, batch_size=batch_size, shuffle=True)\n",
    "test_dataloader = DataLoader(dataset=MNIST_DIGITS_TEST, batch_size=batch_size, shuffle=False)\n",
    "\n",
    "print(f'No. of training batches of size {batch_size}: {len(train_dataloader)}')\n",
    "print(f'No. of testing batches of size {batch_size}: {len(test_dataloader)}')"
   ]
  },
  {
   "cell_type": "code",
   "execution_count": 14,
   "id": "a6c8da1e-6850-4e2e-9b91-2fb4a042eb12",
   "metadata": {},
   "outputs": [],
   "source": [
    "# Create the CNN Model\n",
    "class MNISTDigitClassifier(nn.Module):\n",
    "    def __init__(self, in_features, hidden_units, out_features):\n",
    "        super().__init__()\n",
    "        self.conv_layer_1 = nn.Sequential(\n",
    "            nn.Conv2d(in_channels=in_features, out_channels=hidden_units, kernel_size=(2, 2), stride=1, padding=0),\n",
    "            nn.ReLU(),\n",
    "            nn.MaxPool2d(kernel_size=(2, 2))\n",
    "        )\n",
    "        self.conv_layer_2 = nn.Sequential(\n",
    "            nn.Conv2d(in_channels=hidden_units, out_channels=hidden_units, kernel_size=(2, 2), stride=1, padding=0),\n",
    "            nn.ReLU(),\n",
    "            nn.MaxPool2d(kernel_size=(2, 2))\n",
    "        )\n",
    "\n",
    "        self.classifier = nn.Sequential(\n",
    "            nn.Flatten(), # (B, C, H, W) -> (B, C*H*W)\n",
    "            nn.Linear(in_features=360, out_features=len(LABELS)) # The value 360 is found by the computations\n",
    "            # done in the cells below.\n",
    "        )\n",
    "\n",
    "    def forward(self, X):\n",
    "        conv1_output = self.conv_layer_1(X)\n",
    "        conv2_output = self.conv_layer_2(conv1_output)\n",
    "        classifier_output = self.classifier(conv2_output)\n",
    "        \n",
    "        return classifier_output"
   ]
  },
  {
   "cell_type": "code",
   "execution_count": 15,
   "id": "c701e1ed-fe0a-4074-ba54-45a585c034e2",
   "metadata": {},
   "outputs": [
    {
     "name": "stdout",
     "output_type": "stream",
     "text": [
      "Shape of the original image: torch.Size([1, 1, 28, 28])\n",
      "Shape after first conv. layer: torch.Size([1, 10, 13, 13])\n",
      "Shape after second conv. layer: torch.Size([1, 10, 6, 6])\n"
     ]
    }
   ],
   "source": [
    "# First, we will send a single image through our convolutional layers to see the transformed output shape of our image\n",
    "# after going through the two convolutional layers\n",
    "\n",
    "single_image, single_image_label =  MNIST_DIGITS_TRAIN[0]# (C, H, W)\n",
    "single_image = single_image.unsqueeze(dim=0) # (B, C, H, W)\n",
    "\n",
    "# Just the convolution layers\n",
    "conv_layer_1 = nn.Sequential(\n",
    "            nn.Conv2d(in_channels=1, out_channels=10, kernel_size=(2, 2), stride=1, padding=0),\n",
    "            nn.ReLU(),\n",
    "            nn.MaxPool2d(kernel_size=(2, 2))\n",
    "        )\n",
    "conv_layer_2 = nn.Sequential(\n",
    "    nn.Conv2d(in_channels=10, out_channels=len(LABELS), kernel_size=(2, 2), stride=1, padding=0),\n",
    "    nn.ReLU(),\n",
    "    nn.MaxPool2d(kernel_size=(2, 2))\n",
    ")\n",
    "\n",
    "\n",
    "# Pass it through the model\n",
    "output1 = conv_layer_1(single_image)\n",
    "output2 = conv_layer_2(output1)\n",
    "print(f'Shape of the original image: {single_image.shape}')\n",
    "print(f'Shape after first conv. layer: {output1.shape}')\n",
    "print(f'Shape after second conv. layer: {output2.shape}')"
   ]
  },
  {
   "cell_type": "code",
   "execution_count": 16,
   "id": "0c113ccc-faf9-4e81-8213-8ef35863faa0",
   "metadata": {},
   "outputs": [
    {
     "data": {
      "text/plain": [
       "torch.Size([1, 10])"
      ]
     },
     "execution_count": 16,
     "metadata": {},
     "output_type": "execute_result"
    }
   ],
   "source": [
    "# Here, we can see that the original image (1, 1, 28, 28) gets transformed into a shape of (1, 10, 6, 6). \n",
    "# After flattening the image, we will end up with a shape of (1, 360).\n",
    "# Therefore, the in_features for the linear layer should be 360.\n",
    "# We will update this in the model above.\n",
    "cnn_model = MNISTDigitClassifier(in_features=1, hidden_units=10, out_features=len(LABELS))\n",
    "logits = cnn_model(single_image)\n",
    "logits.shape"
   ]
  },
  {
   "cell_type": "code",
   "execution_count": 17,
   "id": "2853150f-9943-4cc3-85d7-5b0a71b7b151",
   "metadata": {},
   "outputs": [],
   "source": [
    "# Create the loss function and the optimizer\n",
    "learning_rate = 0.01\n",
    "\n",
    "loss_function = nn.CrossEntropyLoss()\n",
    "optimizer = torch.optim.SGD(cnn_model.parameters(), lr=learning_rate)"
   ]
  },
  {
   "cell_type": "code",
   "execution_count": 18,
   "id": "a74694af-3473-4918-9547-2b40d9ccbe47",
   "metadata": {},
   "outputs": [],
   "source": [
    "# Create the training and testing loops\n",
    "def train_step(model, X, y): # X -> batch of images, y -> vector of labels\n",
    "    # Put the model in training mode\n",
    "    model.train()\n",
    "    \n",
    "    # Forward pass\n",
    "    logits = model(X) \n",
    "\n",
    "    # Calculate the loss\n",
    "    # The loss function expects the shape of the logits to be in [batch_size, no. of classes] and the shape of the truth labels to be in \n",
    "    # [batch_size, ]\n",
    "    loss = loss_function(logits, y)\n",
    "\n",
    "    # Clear the gradients stored in the model parameters from previous backpropagation\n",
    "    optimizer.zero_grad()\n",
    "\n",
    "    # Backpropagate (Calculate gradients)\n",
    "    loss.backward()\n",
    "\n",
    "    # Update the model parameters\n",
    "    optimizer.step()\n",
    "\n",
    "    return {'loss': loss.item()}"
   ]
  },
  {
   "cell_type": "code",
   "execution_count": 19,
   "id": "55cf65d8-012e-4d0b-8137-9cd989bb4fc6",
   "metadata": {},
   "outputs": [],
   "source": [
    "def test_step(model, X, y):\n",
    "    # Put the model in testing mode\n",
    "    model.eval()\n",
    "\n",
    "    with torch.no_grad():\n",
    "        # Forward pass\n",
    "        logits = model(X)\n",
    "\n",
    "        # Calculate loss\n",
    "        loss = loss_function(logits, y)\n",
    "        \n",
    "        predicted_labels = logits.argmax(dim=1)\n",
    "\n",
    "        # Calculate the current batch's accuracy\n",
    "        total_accurate = (predicted_labels == y).sum().item()\n",
    "        accuracy_percentage = (float(total_accurate) / len(y)) * 100\n",
    "\n",
    "    return {'loss': loss.item(), 'accuracy': accuracy_percentage}"
   ]
  },
  {
   "cell_type": "code",
   "execution_count": 20,
   "id": "a17adbba-3a35-47ef-b639-8acd3d2d380e",
   "metadata": {},
   "outputs": [
    {
     "data": {
      "text/plain": [
       "True"
      ]
     },
     "execution_count": 20,
     "metadata": {},
     "output_type": "execute_result"
    }
   ],
   "source": [
    "# Send the model to GPU\n",
    "cnn_model = cnn_model.to(device)\n",
    "next(cnn_model.parameters()).is_cuda"
   ]
  },
  {
   "cell_type": "code",
   "execution_count": 21,
   "id": "ccae2ae4-c5ef-4399-b84f-ac7990b371d6",
   "metadata": {},
   "outputs": [
    {
     "name": "stdout",
     "output_type": "stream",
     "text": [
      "2.283294439315796\n"
     ]
    }
   ],
   "source": [
    "# Run through a single train and test step\n",
    "train_dict = train_step(cnn_model, single_image.to(device), torch.tensor(single_image_label).unsqueeze(dim=0).to(device))\n",
    "print(train_dict['loss'])"
   ]
  },
  {
   "cell_type": "code",
   "execution_count": 22,
   "id": "76eb3604-0e0e-4475-a2e1-748fd899f502",
   "metadata": {
    "scrolled": true
   },
   "outputs": [
    {
     "name": "stdout",
     "output_type": "stream",
     "text": [
      "---------- EPOCH: 1. ----------\n",
      "Batch: 200. Training Loss: 2.0840911865234375\n",
      "Average test loss: 2.1035626700130132. Average test accuracy: 49.171325878594246%\n",
      "Batch: 400. Training Loss: 0.7681263089179993\n",
      "Average test loss: 0.7200004486039805. Average test accuracy: 79.28314696485623%\n",
      "Batch: 600. Training Loss: 0.3066518306732178\n",
      "Average test loss: 0.5417288582022197. Average test accuracy: 83.11701277955271%\n",
      "Batch: 800. Training Loss: 0.4912102520465851\n",
      "Average test loss: 0.47706651844726966. Average test accuracy: 85.1238019169329%\n",
      "Batch: 1000. Training Loss: 0.23039640486240387\n",
      "Average test loss: 0.43743037744261587. Average test accuracy: 86.42172523961662%\n",
      "Batch: 1200. Training Loss: 0.4992910623550415\n",
      "Average test loss: 0.4286290103206619. Average test accuracy: 86.66134185303514%\n",
      "Batch: 1400. Training Loss: 0.470729798078537\n",
      "Average test loss: 0.38511359096525577. Average test accuracy: 88.39856230031948%\n",
      "Batch: 1600. Training Loss: 0.34692806005477905\n",
      "Average test loss: 0.3758327936093076. Average test accuracy: 88.67811501597444%\n",
      "Batch: 1800. Training Loss: 0.7205681204795837\n",
      "Average test loss: 0.3605370324985764. Average test accuracy: 88.87779552715655%\n",
      "---------- EPOCH: 2. ----------\n",
      "Batch: 200. Training Loss: 0.3248065114021301\n",
      "Average test loss: 0.3592052742505607. Average test accuracy: 88.99760383386581%\n",
      "Batch: 400. Training Loss: 0.5159369707107544\n",
      "Average test loss: 0.3354275013965825. Average test accuracy: 90.05591054313099%\n",
      "Batch: 600. Training Loss: 0.16717848181724548\n",
      "Average test loss: 0.3191498116956066. Average test accuracy: 90.51517571884985%\n",
      "Batch: 800. Training Loss: 0.4855785369873047\n",
      "Average test loss: 0.3103918556135874. Average test accuracy: 91.12420127795527%\n",
      "Batch: 1000. Training Loss: 0.24929586052894592\n",
      "Average test loss: 0.28963093228709585. Average test accuracy: 91.80311501597444%\n",
      "Batch: 1200. Training Loss: 0.4141464829444885\n",
      "Average test loss: 0.29487395042571396. Average test accuracy: 91.34384984025559%\n",
      "Batch: 1400. Training Loss: 0.14179585874080658\n",
      "Average test loss: 0.2838875688433933. Average test accuracy: 91.75319488817891%\n",
      "Batch: 1600. Training Loss: 0.20381700992584229\n",
      "Average test loss: 0.29285944943515635. Average test accuracy: 91.32388178913737%\n",
      "Batch: 1800. Training Loss: 0.365612268447876\n",
      "Average test loss: 0.26139045040161846. Average test accuracy: 92.61182108626198%\n",
      "---------- EPOCH: 3. ----------\n",
      "Batch: 200. Training Loss: 0.39208900928497314\n",
      "Average test loss: 0.25928030092531024. Average test accuracy: 92.6417731629393%\n",
      "Batch: 400. Training Loss: 0.20760968327522278\n",
      "Average test loss: 0.25293973477753684. Average test accuracy: 92.92132587859425%\n",
      "Batch: 600. Training Loss: 0.19268666207790375\n",
      "Average test loss: 0.22812411097137217. Average test accuracy: 93.51038338658147%\n",
      "Batch: 800. Training Loss: 0.061855193227529526\n",
      "Average test loss: 0.22368902746980754. Average test accuracy: 93.78993610223642%\n",
      "Batch: 1000. Training Loss: 0.12194718420505524\n",
      "Average test loss: 0.21511572204268398. Average test accuracy: 93.85982428115015%\n",
      "Batch: 1200. Training Loss: 0.37851881980895996\n",
      "Average test loss: 0.20625062126475877. Average test accuracy: 94.00958466453675%\n",
      "Batch: 1400. Training Loss: 0.08117611706256866\n",
      "Average test loss: 0.19971442733483669. Average test accuracy: 94.34904153354633%\n",
      "Batch: 1600. Training Loss: 0.07846762984991074\n",
      "Average test loss: 0.20346038771150543. Average test accuracy: 94.06948881789137%\n",
      "Batch: 1800. Training Loss: 0.36813339591026306\n",
      "Average test loss: 0.1936185446154243. Average test accuracy: 94.3091054313099%\n",
      "---------- EPOCH: 4. ----------\n",
      "Batch: 200. Training Loss: 0.1848270148038864\n",
      "Average test loss: 0.18735281616366042. Average test accuracy: 94.4888178913738%\n",
      "Batch: 400. Training Loss: 0.09273136407136917\n",
      "Average test loss: 0.1802334997047203. Average test accuracy: 94.81829073482429%\n",
      "Batch: 600. Training Loss: 0.2809869647026062\n",
      "Average test loss: 0.17965304191572407. Average test accuracy: 94.64856230031948%\n",
      "Batch: 800. Training Loss: 0.14768023788928986\n",
      "Average test loss: 0.17353525409510676. Average test accuracy: 94.92811501597444%\n",
      "Batch: 1000. Training Loss: 0.15740454196929932\n",
      "Average test loss: 0.17046991846979426. Average test accuracy: 94.96805111821087%\n",
      "Batch: 1200. Training Loss: 0.15199153125286102\n",
      "Average test loss: 0.17676410869287607. Average test accuracy: 94.69848242811501%\n",
      "Batch: 1400. Training Loss: 0.10665356367826462\n",
      "Average test loss: 0.18241152490010135. Average test accuracy: 94.72843450479233%\n",
      "Batch: 1600. Training Loss: 0.041571810841560364\n",
      "Average test loss: 0.16196430812830837. Average test accuracy: 95.32747603833866%\n",
      "Batch: 1800. Training Loss: 0.24930478632450104\n",
      "Average test loss: 0.15774946429055578. Average test accuracy: 95.2276357827476%\n",
      "---------- EPOCH: 5. ----------\n",
      "Batch: 200. Training Loss: 0.0408681258559227\n",
      "Average test loss: 0.15510538799134782. Average test accuracy: 95.51717252396166%\n",
      "Batch: 400. Training Loss: 0.1824180632829666\n",
      "Average test loss: 0.1612369947093792. Average test accuracy: 95.17771565495208%\n",
      "Batch: 600. Training Loss: 0.12671639025211334\n",
      "Average test loss: 0.1444244442073206. Average test accuracy: 95.67691693290735%\n",
      "Batch: 800. Training Loss: 0.2495030164718628\n",
      "Average test loss: 0.14498865645462142. Average test accuracy: 95.78674121405751%\n",
      "Batch: 1000. Training Loss: 0.19311167299747467\n",
      "Average test loss: 0.14970785801182873. Average test accuracy: 95.51717252396166%\n",
      "Batch: 1200. Training Loss: 0.07015777379274368\n",
      "Average test loss: 0.14365768705319149. Average test accuracy: 95.62699680511182%\n",
      "Batch: 1400. Training Loss: 0.09342538565397263\n",
      "Average test loss: 0.14170152735866653. Average test accuracy: 95.56709265175719%\n",
      "Batch: 1600. Training Loss: 0.3541080355644226\n",
      "Average test loss: 0.1469310097963201. Average test accuracy: 95.43730031948881%\n",
      "Batch: 1800. Training Loss: 0.05940956994891167\n",
      "Average test loss: 0.14310859882246002. Average test accuracy: 95.46725239616613%\n",
      "---------- EPOCH: 6. ----------\n",
      "Batch: 200. Training Loss: 0.4147796630859375\n",
      "Average test loss: 0.13355865768683603. Average test accuracy: 95.96645367412141%\n",
      "Batch: 400. Training Loss: 0.20941200852394104\n",
      "Average test loss: 0.14610223448314605. Average test accuracy: 95.40734824281151%\n",
      "Batch: 600. Training Loss: 0.0640554279088974\n",
      "Average test loss: 0.12914870258498068. Average test accuracy: 95.86661341853035%\n",
      "Batch: 800. Training Loss: 0.08326997607946396\n",
      "Average test loss: 0.13472333041721948. Average test accuracy: 95.87659744408946%\n",
      "Batch: 1000. Training Loss: 0.16061286628246307\n",
      "Average test loss: 0.13914871729981784. Average test accuracy: 95.82667731629392%\n",
      "Batch: 1200. Training Loss: 0.035589125007390976\n",
      "Average test loss: 0.12982834576474378. Average test accuracy: 96.15615015974441%\n",
      "Batch: 1400. Training Loss: 0.14747494459152222\n",
      "Average test loss: 0.13149191861222395. Average test accuracy: 95.91653354632588%\n",
      "Batch: 1600. Training Loss: 0.11607107520103455\n",
      "Average test loss: 0.1305183051399494. Average test accuracy: 96.01637380191693%\n",
      "Batch: 1800. Training Loss: 0.15626224875450134\n",
      "Average test loss: 0.13095163818435393. Average test accuracy: 96.01637380191693%\n",
      "---------- EPOCH: 7. ----------\n",
      "Batch: 200. Training Loss: 0.1168808564543724\n",
      "Average test loss: 0.1304130820247282. Average test accuracy: 96.14616613418531%\n",
      "Batch: 400. Training Loss: 0.02474229410290718\n",
      "Average test loss: 0.12976212193519948. Average test accuracy: 96.01637380191693%\n",
      "Batch: 600. Training Loss: 0.06903942674398422\n",
      "Average test loss: 0.1232551274231275. Average test accuracy: 96.28594249201278%\n",
      "Batch: 800. Training Loss: 0.02077370136976242\n",
      "Average test loss: 0.11846740085061806. Average test accuracy: 96.29592651757189%\n",
      "Batch: 1000. Training Loss: 0.18115916848182678\n",
      "Average test loss: 0.13081487334488084. Average test accuracy: 96.01637380191693%\n",
      "Batch: 1200. Training Loss: 0.10941077768802643\n",
      "Average test loss: 0.1288260415229149. Average test accuracy: 95.9564696485623%\n",
      "Batch: 1400. Training Loss: 0.02166604809463024\n",
      "Average test loss: 0.12101101506904613. Average test accuracy: 96.24600638977635%\n",
      "Batch: 1600. Training Loss: 0.22362393140792847\n",
      "Average test loss: 0.12268800337980397. Average test accuracy: 96.27595846645367%\n",
      "Batch: 1800. Training Loss: 0.12877094745635986\n",
      "Average test loss: 0.11728741873290759. Average test accuracy: 96.18610223642173%\n",
      "---------- EPOCH: 8. ----------\n",
      "Batch: 200. Training Loss: 0.053146544843912125\n",
      "Average test loss: 0.1159875777210838. Average test accuracy: 96.5055910543131%\n",
      "Batch: 400. Training Loss: 0.13937070965766907\n",
      "Average test loss: 0.11163607694040507. Average test accuracy: 96.52555910543131%\n",
      "Batch: 600. Training Loss: 0.08383579552173615\n",
      "Average test loss: 0.11438013946997544. Average test accuracy: 96.38578274760384%\n",
      "Batch: 800. Training Loss: 0.15904946625232697\n",
      "Average test loss: 0.11327194153166081. Average test accuracy: 96.46565495207668%\n",
      "Batch: 1000. Training Loss: 0.07088026404380798\n",
      "Average test loss: 0.11872787817237013. Average test accuracy: 96.24600638977635%\n",
      "Batch: 1200. Training Loss: 0.024321870878338814\n",
      "Average test loss: 0.11141367765651576. Average test accuracy: 96.495607028754%\n",
      "Batch: 1400. Training Loss: 0.12636250257492065\n",
      "Average test loss: 0.11269104350045824. Average test accuracy: 96.55551118210863%\n",
      "Batch: 1600. Training Loss: 0.03563591465353966\n",
      "Average test loss: 0.10647800687820273. Average test accuracy: 96.44568690095846%\n",
      "Batch: 1800. Training Loss: 0.16878220438957214\n",
      "Average test loss: 0.11056829670097489. Average test accuracy: 96.37579872204473%\n",
      "---------- EPOCH: 9. ----------\n",
      "Batch: 200. Training Loss: 0.054911576211452484\n",
      "Average test loss: 0.10801000133254968. Average test accuracy: 96.47563897763578%\n",
      "Batch: 400. Training Loss: 0.0927470400929451\n",
      "Average test loss: 0.11050854141179758. Average test accuracy: 96.37579872204473%\n",
      "Batch: 600. Training Loss: 0.03916420787572861\n",
      "Average test loss: 0.10669838673358534. Average test accuracy: 96.61541533546325%\n",
      "Batch: 800. Training Loss: 0.1454572081565857\n",
      "Average test loss: 0.10682956393106659. Average test accuracy: 96.64536741214057%\n",
      "Batch: 1000. Training Loss: 0.09933310747146606\n",
      "Average test loss: 0.10436279907675323. Average test accuracy: 96.57547923322684%\n",
      "Batch: 1200. Training Loss: 0.13163650035858154\n",
      "Average test loss: 0.11573081210771867. Average test accuracy: 96.40575079872204%\n",
      "Batch: 1400. Training Loss: 0.0955604538321495\n",
      "Average test loss: 0.10368369651151993. Average test accuracy: 96.79512779552715%\n",
      "Batch: 1600. Training Loss: 0.07252059876918793\n",
      "Average test loss: 0.10377910908106298. Average test accuracy: 96.57547923322684%\n",
      "Batch: 1800. Training Loss: 0.13067948818206787\n",
      "Average test loss: 0.10270176925577414. Average test accuracy: 96.70527156549521%\n",
      "---------- EPOCH: 10. ----------\n",
      "Batch: 200. Training Loss: 0.12200932204723358\n",
      "Average test loss: 0.1016992733589918. Average test accuracy: 96.62539936102236%\n",
      "Batch: 400. Training Loss: 0.08299700170755386\n",
      "Average test loss: 0.10030287921096916. Average test accuracy: 96.90495207667732%\n",
      "Batch: 600. Training Loss: 0.01778418943285942\n",
      "Average test loss: 0.09850261695872689. Average test accuracy: 96.75519169329074%\n",
      "Batch: 800. Training Loss: 0.18031726777553558\n",
      "Average test loss: 0.10016646313655098. Average test accuracy: 96.64536741214057%\n",
      "Batch: 1000. Training Loss: 0.021541453897953033\n",
      "Average test loss: 0.09722600775244929. Average test accuracy: 96.85503194888179%\n",
      "Batch: 1200. Training Loss: 0.18721647560596466\n",
      "Average test loss: 0.10081742026743824. Average test accuracy: 96.80511182108626%\n",
      "Batch: 1400. Training Loss: 0.08111761510372162\n",
      "Average test loss: 0.10034654753676173. Average test accuracy: 96.81509584664536%\n",
      "Batch: 1600. Training Loss: 0.02519945055246353\n",
      "Average test loss: 0.10382174386121422. Average test accuracy: 96.57547923322684%\n",
      "Batch: 1800. Training Loss: 0.041278112679719925\n",
      "Average test loss: 0.10040693071588261. Average test accuracy: 96.80511182108626%\n"
     ]
    }
   ],
   "source": [
    "# Create the training and testing loop\n",
    "epochs = 10\n",
    "for i in range(0, epochs):\n",
    "    batch = 1\n",
    "    print(f'---------- EPOCH: {i + 1}. ----------')\n",
    "    for [X, y] in train_dataloader:\n",
    "        train_dict = train_step(cnn_model, X.to(device), y.to(device))\n",
    "        loss = train_dict['loss']\n",
    "        batch += 1\n",
    "\n",
    "        if batch%200 == 0:\n",
    "            print(f'Batch: {batch}. Training Loss: {loss}')\n",
    "\n",
    "            # Test the model\n",
    "            average_test_loss = 0\n",
    "            average_test_accuracy = 0\n",
    "            for [test_X, test_y] in test_dataloader:\n",
    "                test_dict = test_step(cnn_model, test_X.to(device), test_y.to(device))\n",
    "                \n",
    "                test_loss = test_dict['loss']\n",
    "                accuracy = test_dict['accuracy']\n",
    "\n",
    "                average_test_loss += test_loss\n",
    "                average_test_accuracy += accuracy\n",
    "                \n",
    "            average_test_loss = average_test_loss / len(test_dataloader)\n",
    "            average_test_accuracy = average_test_accuracy / len(test_dataloader)\n",
    "            \n",
    "            print(f'Average test loss: {average_test_loss}. Average test accuracy: {average_test_accuracy}%')"
   ]
  },
  {
   "cell_type": "code",
   "execution_count": 23,
   "id": "6d3dff10-5cd1-4e1e-8313-81ad28c2e88c",
   "metadata": {},
   "outputs": [],
   "source": [
    "# Make some predictions using the model\n",
    "def predict(model, X, y):\n",
    "    logits = model(X)\n",
    "\n",
    "    prediction_class = logits.argmax(dim=1).unsqueeze(dim=1)\n",
    "\n",
    "    print(f'Actual Label: {y}. Prediceted Label: {prediction_class}')"
   ]
  },
  {
   "cell_type": "code",
   "execution_count": 33,
   "id": "a7d5c28c-bb6f-4217-93c1-1fd901ed7663",
   "metadata": {},
   "outputs": [
    {
     "name": "stdout",
     "output_type": "stream",
     "text": [
      "Actual Label: 7. Prediceted Label: tensor([[7]], device='cuda:0')\n",
      "Actual Label: 2. Prediceted Label: tensor([[2]], device='cuda:0')\n",
      "Actual Label: 1. Prediceted Label: tensor([[1]], device='cuda:0')\n",
      "Actual Label: 0. Prediceted Label: tensor([[0]], device='cuda:0')\n",
      "Actual Label: 4. Prediceted Label: tensor([[4]], device='cuda:0')\n",
      "Actual Label: 1. Prediceted Label: tensor([[1]], device='cuda:0')\n",
      "Actual Label: 4. Prediceted Label: tensor([[4]], device='cuda:0')\n",
      "Actual Label: 9. Prediceted Label: tensor([[9]], device='cuda:0')\n",
      "Actual Label: 5. Prediceted Label: tensor([[5]], device='cuda:0')\n",
      "Actual Label: 9. Prediceted Label: tensor([[9]], device='cuda:0')\n"
     ]
    }
   ],
   "source": [
    "for i in range(0, 10):\n",
    "    X, y = MNIST_DIGITS_TEST[i]\n",
    "\n",
    "    X = X.unsqueeze(dim=0)\n",
    "    predict(cnn_model, X.to(device), y)"
   ]
  },
  {
   "cell_type": "code",
   "execution_count": 34,
   "id": "d0c59ddc-c000-4d91-9b90-c0c35be5aba7",
   "metadata": {},
   "outputs": [],
   "source": [
    "# Testing the model on our own data\n",
    "# I have created a 28x28 image on paint.net of a handwritten 5\n",
    "# First we load it \n",
    "from PIL import Image"
   ]
  },
  {
   "cell_type": "code",
   "execution_count": 36,
   "id": "74d74e3e-4be6-45ca-9dee-c1311cff6d35",
   "metadata": {},
   "outputs": [
    {
     "data": {
      "image/png": "[encoded data removed]",
      "text/plain": [
       "<PIL.PngImagePlugin.PngImageFile image mode=P size=28x28>"
      ]
     },
     "execution_count": 36,
     "metadata": {},
     "output_type": "execute_result"
    }
   ],
   "source": [
    "img = Image.open('./datasets/images/five.png')\n",
    "img"
   ]
  },
  {
   "cell_type": "code",
   "execution_count": 41,
   "id": "7b5a9dbb-47bc-4a9f-a2eb-9730f9fcdf79",
   "metadata": {},
   "outputs": [
    {
     "data": {
      "text/plain": [
       "torch.Size([1, 28, 28])"
      ]
     },
     "execution_count": 41,
     "metadata": {},
     "output_type": "execute_result"
    }
   ],
   "source": [
    "convert_tensor = transforms.ToTensor() # Convert the raw image to tensor of format (C, H, W)\n",
    "img_tensor = convert_tensor(img)\n",
    "img_tensor.shape"
   ]
  },
  {
   "cell_type": "code",
   "execution_count": 43,
   "id": "6a4327e9-e4df-4ba7-894e-30204e159188",
   "metadata": {},
   "outputs": [
    {
     "data": {
      "text/plain": [
       "torch.Size([1, 1, 28, 28])"
      ]
     },
     "execution_count": 43,
     "metadata": {},
     "output_type": "execute_result"
    }
   ],
   "source": [
    "img_tensor = img_tensor.unsqueeze(dim=0) # Add the batch dimension\n",
    "img_tensor.shape"
   ]
  },
  {
   "cell_type": "code",
   "execution_count": 45,
   "id": "555abd8d-4347-4e8e-b279-bed409d5f02e",
   "metadata": {},
   "outputs": [
    {
     "name": "stdout",
     "output_type": "stream",
     "text": [
      "Actual Label: 5. Prediceted Label: tensor([[5]], device='cuda:0')\n"
     ]
    }
   ],
   "source": [
    "predict(cnn_model, img_tensor.to(device), 5)"
   ]
  },
  {
   "cell_type": "code",
   "execution_count": null,
   "id": "f3d1d44b-2416-401e-871b-28c20f1b13b3",
   "metadata": {},
   "outputs": [],
   "source": []
  }
 ],
 "metadata": {
  "kernelspec": {
   "display_name": "Python 3 (ipykernel)",
   "language": "python",
   "name": "python3"
  },
  "language_info": {
   "codemirror_mode": {
    "name": "ipython",
    "version": 3
   },
   "file_extension": ".py",
   "mimetype": "text/x-python",
   "name": "python",
   "nbconvert_exporter": "python",
   "pygments_lexer": "ipython3",
   "version": "3.9.7"
  }
 },
 "nbformat": 4,
 "nbformat_minor": 5
}
