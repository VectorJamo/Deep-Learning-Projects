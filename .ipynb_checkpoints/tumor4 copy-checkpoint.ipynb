{
 "cells": [
  {
   "cell_type": "markdown",
   "metadata": {},
   "source": [
    "# All link:https://ieee-dataport.org/documents/brain-mri-nd-5-dataset\n",
    "## Brain MRI data that has four classes. Classify the data based on TFCNN and ResNet-18\n",
    "## Steps1: Transformed that image of size 256 by 256 and then normalized the image\n",
    "## Step 2: Balance the class data by augmentation (not done yet)\n",
    "## Step 3: Train the classifier using data"
   ]
  },
  {
   "cell_type": "code",
   "execution_count": 35,
   "metadata": {},
   "outputs": [],
   "source": [
    "#import all necessary packages\n",
    "import torch\n",
    "from torch import nn\n",
    "from natsort import natsorted\n",
    "\n",
    "import os\n",
    "from PIL import Image\n",
    "import shutil\n",
    "import random\n",
    "from torchvision import datasets, transforms\n",
    "\n",
    "from torch.utils.data import Dataset # Base dataset class\n",
    "from torch.utils.data import DataLoader # For batching and shuffling data\n",
    "\n",
    "from torchvision import datasets # For built-in datasets\n",
    "from torchvision import transforms # For transforming data from one format to another\n",
    "import torchvision.models as models # For ResNet50 pre-trained model\n",
    "\n",
    "import matplotlib.pyplot as plt\n",
    "%matplotlib inline"
   ]
  },
  {
   "cell_type": "code",
   "execution_count": 36,
   "metadata": {},
   "outputs": [
    {
     "data": {
      "text/plain": [
       "'cuda'"
      ]
     },
     "execution_count": 36,
     "metadata": {},
     "output_type": "execute_result"
    }
   ],
   "source": [
    "#set the device\n",
    "device = 'cuda' if torch.cuda.is_available() else 'cpu'\n",
    "device"
   ]
  },
  {
   "cell_type": "code",
   "execution_count": 37,
   "metadata": {},
   "outputs": [],
   "source": [
    "class SortedImageFolder(datasets.ImageFolder):\n",
    "    def find_classes(self, directory):\n",
    "        classes = natsorted(entry.name for entry in os.scandir(directory) if entry.is_dir())\n",
    "        class_to_idx = {cls_name: i for i, cls_name in enumerate(classes)}\n",
    "        return classes, class_to_idx"
   ]
  },
  {
   "cell_type": "code",
   "execution_count": 41,
   "metadata": {
    "scrolled": true
   },
   "outputs": [
    {
     "name": "stdout",
     "output_type": "stream",
     "text": [
      "\n",
      "Total Training Images: 400\n",
      "Total Testing Images: 400\n"
     ]
    }
   ],
   "source": [
    "# Load the datasets without transforms to inspect original image sizes\n",
    "train_dataset_raw = SortedImageFolder(root='datasets/Face Dataset/', transform=None)\n",
    "test_dataset_raw  = SortedImageFolder(root='datasets/Face Dataset/', transform=None)\n",
    "\n",
    "# Optionally, print the total number of images in each dataset\n",
    "print(\"\\nTotal Training Images:\", len(train_dataset_raw))\n",
    "print(\"Total Testing Images:\", len(test_dataset_raw))"
   ]
  },
  {
   "cell_type": "code",
   "execution_count": 42,
   "metadata": {},
   "outputs": [
    {
     "data": {
      "text/plain": [
       "(400, 400)"
      ]
     },
     "execution_count": 42,
     "metadata": {},
     "output_type": "execute_result"
    }
   ],
   "source": [
    "#Number of images in train and test data\n",
    "len(train_dataset_raw), len(test_dataset_raw)"
   ]
  },
  {
   "cell_type": "code",
   "execution_count": 43,
   "metadata": {},
   "outputs": [
    {
     "data": {
      "text/plain": [
       "['s1',\n",
       " 's2',\n",
       " 's3',\n",
       " 's4',\n",
       " 's5',\n",
       " 's6',\n",
       " 's7',\n",
       " 's8',\n",
       " 's9',\n",
       " 's10',\n",
       " 's11',\n",
       " 's12',\n",
       " 's13',\n",
       " 's14',\n",
       " 's15',\n",
       " 's16',\n",
       " 's17',\n",
       " 's18',\n",
       " 's19',\n",
       " 's20',\n",
       " 's21',\n",
       " 's22',\n",
       " 's23',\n",
       " 's24',\n",
       " 's25',\n",
       " 's26',\n",
       " 's27',\n",
       " 's28',\n",
       " 's29',\n",
       " 's30',\n",
       " 's31',\n",
       " 's32',\n",
       " 's33',\n",
       " 's34',\n",
       " 's35',\n",
       " 's36',\n",
       " 's37',\n",
       " 's38',\n",
       " 's39',\n",
       " 's40']"
      ]
     },
     "execution_count": 43,
     "metadata": {},
     "output_type": "execute_result"
    }
   ],
   "source": [
    "# All the classes of the train dataset\n",
    "data_classes = train_dataset_raw.classes\n",
    "data_classes"
   ]
  },
  {
   "cell_type": "code",
   "execution_count": 44,
   "metadata": {},
   "outputs": [
    {
     "data": {
      "image/png": "[encoded data removed]",
      "text/plain": [
       "<Figure size 800x600 with 1 Axes>"
      ]
     },
     "metadata": {},
     "output_type": "display_data"
    }
   ],
   "source": [
    "#Number of images in each classes in Training data\n",
    "import matplotlib.pyplot as plt\n",
    "from collections import Counter\n",
    "\n",
    "# For an ImageFolder dataset, 'targets' is a list of labels.\n",
    "counter = Counter(train_dataset_raw.targets)\n",
    "\n",
    "# Get the class names\n",
    "class_names = train_dataset_raw.classes  # e.g., ['no', 'yes']\n",
    "\n",
    "# Build counts in the order of the class indices\n",
    "counts = [counter[i] for i in range(len(class_names))]\n",
    "\n",
    "# Plot the bar graph\n",
    "plt.figure(figsize=(8, 6))\n",
    "plt.bar(class_names, counts, color='skyblue')\n",
    "plt.xlabel('Class')\n",
    "plt.ylabel('Number of Samples')\n",
    "plt.title('Number of Samples per Class in Training Dataset')\n",
    "plt.show()"
   ]
  },
  {
   "cell_type": "code",
   "execution_count": 45,
   "metadata": {},
   "outputs": [
    {
     "data": {
      "image/png": "[encoded data removed]",
      "text/plain": [
       "<Figure size 800x600 with 1 Axes>"
      ]
     },
     "metadata": {},
     "output_type": "display_data"
    }
   ],
   "source": [
    "#Number of images in each classes in Test data\n",
    "import matplotlib.pyplot as plt\n",
    "from collections import Counter\n",
    "\n",
    "# For an ImageFolder dataset, 'targets' is a list of labels.\n",
    "counter = Counter(test_dataset_raw.targets)\n",
    "\n",
    "# Get the class names\n",
    "class_names = test_dataset_raw.classes  # e.g., ['no', 'yes']\n",
    "\n",
    "# Build counts in the order of the class indices\n",
    "counts = [counter[i] for i in range(len(class_names))]\n",
    "\n",
    "# Plot the bar graph\n",
    "plt.figure(figsize=(8, 6))\n",
    "plt.bar(class_names, counts, color='skyblue')\n",
    "plt.xlabel('Class')\n",
    "plt.ylabel('Number of Samples')\n",
    "plt.title('Number of Samples per Class in Training Dataset')\n",
    "plt.show()"
   ]
  },
  {
   "cell_type": "code",
   "execution_count": 46,
   "metadata": {},
   "outputs": [],
   "source": [
    "## Balance the dataset of both classes\n",
    "import os\n",
    "import random\n",
    "import pickle\n",
    "from torchvision import transforms\n",
    "from PIL import Image, ImageEnhance\n",
    "\n",
    "def balanced_data(src_dir, train_file, target_count, class_mapping):\n",
    "    # Get list of class folders from the source training folder\n",
    "    class_folders = [d for d in os.listdir(src_dir) if os.path.isdir(os.path.join(src_dir, d))]\n",
    "\n",
    "    # Dictionary to hold list of image paths for each class\n",
    "    class_images = {}\n",
    "    for cls in class_folders:\n",
    "        cls_path = os.path.join(src_dir, cls)\n",
    "        image_files = [os.path.join(cls_path, f) for f in os.listdir(cls_path)\n",
    "                    if f.lower().endswith(('.png', '.jpg', '.jpeg', '.bmp', '.pgm'))]\n",
    "        class_images[cls] = image_files\n",
    "\n",
    "    # ---------------------------\n",
    "    # Image Transformation Pipeline\n",
    "    # ---------------------------\n",
    "    image_transforms = transforms.Compose([\n",
    "        transforms.Resize([224, 224]),  # Resize images to 224x224\n",
    "        transforms.ToTensor(),          \n",
    "        #transforms.Normalize(mean=[0.485, 0.456, 0.406],\n",
    "        #                    std=[0.229, 0.224, 0.225])\n",
    "    ])\n",
    "\n",
    "    # ---------------------------\n",
    "    # Augmentation Function\n",
    "    # ---------------------------\n",
    "    def augment_image(img):\n",
    "        \"\"\"Apply random transformations to augment an image.\"\"\"\n",
    "        # Random horizontal flip\n",
    "        if random.random() > 0.5:\n",
    "            img = img.transpose(Image.FLIP_LEFT_RIGHT)\n",
    "        \n",
    "        # Random rotation between -20 to 20 degrees\n",
    "        angle = random.uniform(-20, 20)\n",
    "        img = img.rotate(angle)\n",
    "        \n",
    "        # Random brightness enhancement\n",
    "        enhancer = ImageEnhance.Brightness(img)\n",
    "        img = enhancer.enhance(random.uniform(0.8, 1.2))\n",
    "        \n",
    "        return img\n",
    "\n",
    "    # ---------------------------\n",
    "    # Processing Each Class\n",
    "    # ---------------------------\n",
    "    images_train, labels_train = [], []\n",
    "\n",
    "    for cls, images in class_images.items():\n",
    "        if cls not in class_mapping:\n",
    "            print(f\"Warning: Class '{cls}' is not in the provided class mapping. Skipping...\")\n",
    "            continue\n",
    "        cls_int = class_mapping[cls]  # Convert class label using provided mapping\n",
    "          # Convert class label to integer\n",
    "        current_count = len(images)\n",
    "\n",
    "        # ---------------------------\n",
    "        # Case 1: Up-sampling (Augment images)\n",
    "        # ---------------------------\n",
    "        if current_count < target_count:\n",
    "            print(f\"Up-sampling class '{cls}': {current_count} → {target_count}\")\n",
    "            images_train.extend(images)\n",
    "            labels_train.extend([cls_int] * len(images))\n",
    "            \n",
    "            aug_index = 0\n",
    "            while current_count < target_count:\n",
    "                src_img_path = random.choice(images)\n",
    "                try:\n",
    "                    with Image.open(src_img_path) as img:\n",
    "                        img_aug = augment_image(img)\n",
    "                        # Apply transformation\n",
    "                        img_aug = image_transforms(img_aug)\n",
    "                        # Convert back to PIL image for saving\n",
    "                        img_aug = transforms.ToPILImage()(img_aug)\n",
    "                        images_train.append(img_aug)\n",
    "                        labels_train.append(cls_int)\n",
    "                        current_count += 1\n",
    "                        aug_index += 1\n",
    "                except Exception as e:\n",
    "                    print(f\"Error processing {src_img_path}: {e}\")\n",
    "\n",
    "        # ---------------------------\n",
    "        # Case 2: Down-sampling (Random selection)\n",
    "        # ---------------------------\n",
    "        elif current_count > target_count:\n",
    "            print(f\"Down-sampling class '{cls}': {current_count} → {target_count}\")\n",
    "            selected_images = random.sample(images, target_count)\n",
    "            images_train.extend(selected_images)\n",
    "            labels_train.extend([cls_int] * target_count)\n",
    "        \n",
    "        else:\n",
    "            # Just copy images without modification\n",
    "            print(f\"Class '{cls}' already has {target_count} images. Copying without modification.\")\n",
    "            images_train.extend(images)\n",
    "            labels_train.extend([cls_int] * len(images))\n",
    "\n",
    "        print(f\"Class '{cls}' balanced to {target_count} images.\")\n",
    "\n",
    "    # Save training data\n",
    "    with open(train_file, \"wb\") as f:\n",
    "        pickle.dump({\"images\": images_train, \"labels\": labels_train}, f, protocol=pickle.HIGHEST_PROTOCOL)\n",
    "\n",
    "    print(\"Balanced training dataset stored at:\", train_file)"
   ]
  },
  {
   "cell_type": "code",
   "execution_count": 47,
   "metadata": {},
   "outputs": [],
   "source": [
    "class_mapping = {\n",
    "    's1': 0, 's2': 1, 's3': 2, 's4': 3, 's5': 4, 's6': 5, 's7': 6, 's8': 7, \n",
    "    's9': 8, 's10': 9, 's11': 10, 's12': 11, 's13': 12, 's14': 13, 's15': 14, \n",
    "    's16': 15, 's17': 16, 's18': 17, 's19': 18, 's20': 19, 's21': 20, 's22': 21, \n",
    "    's23': 22, 's24': 23, 's25': 24, 's26': 25, 's27': 26, 's28': 27, 's29': 28, \n",
    "    's30': 29, 's31': 30, 's32': 31, 's33': 32, 's34': 33, 's35': 34, 's36': 35, \n",
    "    's37': 36, 's38': 37, 's39': 38, 's40': 39\n",
    "}"
   ]
  },
  {
   "cell_type": "code",
   "execution_count": 51,
   "metadata": {},
   "outputs": [
    {
     "name": "stdout",
     "output_type": "stream",
     "text": [
      "Up-sampling class 's1': 0 → 100\n"
     ]
    },
    {
     "ename": "IndexError",
     "evalue": "list index out of range",
     "output_type": "error",
     "traceback": [
      "\u001b[1;31m---------------------------------------------------------------------------\u001b[0m",
      "\u001b[1;31mIndexError\u001b[0m                                Traceback (most recent call last)",
      "Cell \u001b[1;32mIn[51], line 5\u001b[0m\n\u001b[0;32m      3\u001b[0m train_file \u001b[38;5;241m=\u001b[39m os\u001b[38;5;241m.\u001b[39mpath\u001b[38;5;241m.\u001b[39mjoin(\u001b[38;5;124m\"\u001b[39m\u001b[38;5;124mdatasets\u001b[39m\u001b[38;5;124m\"\u001b[39m, \u001b[38;5;124m\"\u001b[39m\u001b[38;5;124mtrain.pkl\u001b[39m\u001b[38;5;124m\"\u001b[39m)\n\u001b[0;32m      4\u001b[0m target_count \u001b[38;5;241m=\u001b[39m \u001b[38;5;241m100\u001b[39m  \u001b[38;5;66;03m# Target number of images per class\u001b[39;00m\n\u001b[1;32m----> 5\u001b[0m \u001b[43mbalanced_data\u001b[49m\u001b[43m(\u001b[49m\u001b[43msrc_dir\u001b[49m\u001b[43m,\u001b[49m\u001b[43m \u001b[49m\u001b[43mtrain_file\u001b[49m\u001b[43m,\u001b[49m\u001b[43m \u001b[49m\u001b[43mtarget_count\u001b[49m\u001b[43m,\u001b[49m\u001b[43m \u001b[49m\u001b[43mclass_mapping\u001b[49m\u001b[43m)\u001b[49m\n",
      "Cell \u001b[1;32mIn[46], line 72\u001b[0m, in \u001b[0;36mbalanced_data\u001b[1;34m(src_dir, train_file, target_count, class_mapping)\u001b[0m\n\u001b[0;32m     70\u001b[0m aug_index \u001b[38;5;241m=\u001b[39m \u001b[38;5;241m0\u001b[39m\n\u001b[0;32m     71\u001b[0m \u001b[38;5;28;01mwhile\u001b[39;00m current_count \u001b[38;5;241m<\u001b[39m target_count:\n\u001b[1;32m---> 72\u001b[0m     src_img_path \u001b[38;5;241m=\u001b[39m \u001b[43mrandom\u001b[49m\u001b[38;5;241;43m.\u001b[39;49m\u001b[43mchoice\u001b[49m\u001b[43m(\u001b[49m\u001b[43mimages\u001b[49m\u001b[43m)\u001b[49m\n\u001b[0;32m     73\u001b[0m     \u001b[38;5;28;01mtry\u001b[39;00m:\n\u001b[0;32m     74\u001b[0m         \u001b[38;5;28;01mwith\u001b[39;00m Image\u001b[38;5;241m.\u001b[39mopen(src_img_path) \u001b[38;5;28;01mas\u001b[39;00m img:\n",
      "File \u001b[1;32m~\\AppData\\Local\\Programs\\Python\\Python39\\lib\\random.py:346\u001b[0m, in \u001b[0;36mRandom.choice\u001b[1;34m(self, seq)\u001b[0m\n\u001b[0;32m    344\u001b[0m \u001b[38;5;250m\u001b[39m\u001b[38;5;124;03m\"\"\"Choose a random element from a non-empty sequence.\"\"\"\u001b[39;00m\n\u001b[0;32m    345\u001b[0m \u001b[38;5;66;03m# raises IndexError if seq is empty\u001b[39;00m\n\u001b[1;32m--> 346\u001b[0m \u001b[38;5;28;01mreturn\u001b[39;00m \u001b[43mseq\u001b[49m\u001b[43m[\u001b[49m\u001b[38;5;28;43mself\u001b[39;49m\u001b[38;5;241;43m.\u001b[39;49m\u001b[43m_randbelow\u001b[49m\u001b[43m(\u001b[49m\u001b[38;5;28;43mlen\u001b[39;49m\u001b[43m(\u001b[49m\u001b[43mseq\u001b[49m\u001b[43m)\u001b[49m\u001b[43m)\u001b[49m\u001b[43m]\u001b[49m\n",
      "\u001b[1;31mIndexError\u001b[0m: list index out of range"
     ]
    }
   ],
   "source": [
    "#Balance the training data and store it as pkl file\n",
    "src_dir = 'datasets/Face Dataset/'\n",
    "train_file = os.path.join(\"datasets\", \"train.pkl\")\n",
    "target_count = 100  # Target number of images per class\n",
    "balanced_data(src_dir, train_file, target_count, class_mapping)"
   ]
  },
  {
   "cell_type": "code",
   "execution_count": 50,
   "metadata": {},
   "outputs": [
    {
     "ename": "FileNotFoundError",
     "evalue": "[WinError 3] The system cannot find the path specified: 'Dataset/Testing'",
     "output_type": "error",
     "traceback": [
      "\u001b[1;31m---------------------------------------------------------------------------\u001b[0m",
      "\u001b[1;31mFileNotFoundError\u001b[0m                         Traceback (most recent call last)",
      "Cell \u001b[1;32mIn[50], line 5\u001b[0m\n\u001b[0;32m      3\u001b[0m test_file \u001b[38;5;241m=\u001b[39m os\u001b[38;5;241m.\u001b[39mpath\u001b[38;5;241m.\u001b[39mjoin(\u001b[38;5;124m\"\u001b[39m\u001b[38;5;124mDataset\u001b[39m\u001b[38;5;124m\"\u001b[39m, \u001b[38;5;124m\"\u001b[39m\u001b[38;5;124mtest.pkl\u001b[39m\u001b[38;5;124m\"\u001b[39m)\n\u001b[0;32m      4\u001b[0m target_count \u001b[38;5;241m=\u001b[39m \u001b[38;5;241m100\u001b[39m  \u001b[38;5;66;03m# Target number of images per class\u001b[39;00m\n\u001b[1;32m----> 5\u001b[0m \u001b[43mbalanced_data\u001b[49m\u001b[43m(\u001b[49m\u001b[43msrc_dir\u001b[49m\u001b[43m,\u001b[49m\u001b[43m \u001b[49m\u001b[43mtest_file\u001b[49m\u001b[43m,\u001b[49m\u001b[43m \u001b[49m\u001b[43mtarget_count\u001b[49m\u001b[43m,\u001b[49m\u001b[43m \u001b[49m\u001b[43mclass_mapping\u001b[49m\u001b[43m)\u001b[49m\n",
      "Cell \u001b[1;32mIn[46], line 10\u001b[0m, in \u001b[0;36mbalanced_data\u001b[1;34m(src_dir, train_file, target_count, class_mapping)\u001b[0m\n\u001b[0;32m      8\u001b[0m \u001b[38;5;28;01mdef\u001b[39;00m\u001b[38;5;250m \u001b[39m\u001b[38;5;21mbalanced_data\u001b[39m(src_dir, train_file, target_count, class_mapping):\n\u001b[0;32m      9\u001b[0m     \u001b[38;5;66;03m# Get list of class folders from the source training folder\u001b[39;00m\n\u001b[1;32m---> 10\u001b[0m     class_folders \u001b[38;5;241m=\u001b[39m [d \u001b[38;5;28;01mfor\u001b[39;00m d \u001b[38;5;129;01min\u001b[39;00m \u001b[43mos\u001b[49m\u001b[38;5;241;43m.\u001b[39;49m\u001b[43mlistdir\u001b[49m\u001b[43m(\u001b[49m\u001b[43msrc_dir\u001b[49m\u001b[43m)\u001b[49m \u001b[38;5;28;01mif\u001b[39;00m os\u001b[38;5;241m.\u001b[39mpath\u001b[38;5;241m.\u001b[39misdir(os\u001b[38;5;241m.\u001b[39mpath\u001b[38;5;241m.\u001b[39mjoin(src_dir, d))]\n\u001b[0;32m     12\u001b[0m     \u001b[38;5;66;03m# Dictionary to hold list of image paths for each class\u001b[39;00m\n\u001b[0;32m     13\u001b[0m     class_images \u001b[38;5;241m=\u001b[39m {}\n",
      "\u001b[1;31mFileNotFoundError\u001b[0m: [WinError 3] The system cannot find the path specified: 'Dataset/Testing'"
     ]
    }
   ],
   "source": [
    "#Balance the test data and store it as pkl file\n",
    "src_dir = 'Dataset/Testing'\n",
    "test_file = os.path.join(\"datasets\", \"test.pkl\")\n",
    "target_count = 100  # Target number of images per class\n",
    "balanced_data(src_dir, test_file, target_count, class_mapping)"
   ]
  },
  {
   "cell_type": "markdown",
   "metadata": {},
   "source": [
    "## Block 2: Run this block of code to train model"
   ]
  },
  {
   "cell_type": "code",
   "execution_count": 13,
   "metadata": {},
   "outputs": [
    {
     "data": {
      "text/plain": [
       "'cpu'"
      ]
     },
     "execution_count": 13,
     "metadata": {},
     "output_type": "execute_result"
    }
   ],
   "source": [
    "#import all necessary packages\n",
    "import torch\n",
    "from torch import nn\n",
    "\n",
    "import os\n",
    "from PIL import Image\n",
    "import shutil\n",
    "import random\n",
    "from torchvision import datasets, transforms\n",
    "\n",
    "from torch.utils.data import Dataset # Base dataset class\n",
    "from torch.utils.data import DataLoader # For batching and shuffling data\n",
    "\n",
    "from torchvision import datasets # For built-in datasets\n",
    "from torchvision import transforms # For transforming data from one format to another\n",
    "import torchvision.models as models # For ResNet50 pre-trained model\n",
    "\n",
    "import matplotlib.pyplot as plt\n",
    "%matplotlib inline\n",
    "\n",
    "#set the device\n",
    "device = 'cuda' if torch.cuda.is_available() else 'cpu'\n",
    "device"
   ]
  },
  {
   "cell_type": "code",
   "execution_count": 14,
   "metadata": {},
   "outputs": [
    {
     "name": "stdout",
     "output_type": "stream",
     "text": [
      "Loaded 10000 images from Dataset\\train.pkl\n",
      "Loaded 2000 images from Dataset\\test.pkl\n",
      "Training and testing datasets created.\n"
     ]
    }
   ],
   "source": [
    "#Load training and test data\n",
    "import pickle\n",
    "import os\n",
    "from PIL import Image\n",
    "import torch\n",
    "from torch.utils.data import Dataset\n",
    "\n",
    "# ---------------------------\n",
    "# Configuration\n",
    "# ---------------------------\n",
    "src_dir = 'Dataset'\n",
    "train_file = os.path.join(src_dir, \"train.pkl\")\n",
    "test_file = os.path.join(src_dir, \"test.pkl\")\n",
    "\n",
    "# ---------------------------\n",
    "# Custom Dataset Class\n",
    "# ---------------------------\n",
    "class ImageDataset(Dataset):\n",
    "    def __init__(self, image_paths, labels):\n",
    "        self.image_paths = image_paths\n",
    "        self.labels = labels\n",
    "    \n",
    "    def __len__(self):\n",
    "        return len(self.image_paths)\n",
    "    \n",
    "    def __getitem__(self, idx):\n",
    "        img_path = self.image_paths[idx]\n",
    "        label = self.labels[idx]\n",
    "        \n",
    "        if isinstance(img_path, str):\n",
    "            img = Image.open(img_path).convert(\"RGB\")\n",
    "        else:\n",
    "            #img = img_path  # Already processed and transformed\n",
    "            img = transforms.ToPILImage()(img_path).convert(\"RGB\")  # Convert tensor to RGB image\n",
    "        \n",
    "        return img, label\n",
    "\n",
    "# ---------------------------\n",
    "# Load the training data\n",
    "# ---------------------------\n",
    "def load_pickle_file(file_path):\n",
    "    try:\n",
    "        with open(file_path, \"rb\") as f:\n",
    "            data = pickle.load(f)\n",
    "        images = data[\"images\"]\n",
    "        labels = data[\"labels\"]\n",
    "        print(f\"Loaded {len(images)} images from {file_path}\")\n",
    "        return images, labels\n",
    "    except Exception as e:\n",
    "        print(f\"Error loading pickle file {file_path}: {e}\")\n",
    "        return [], []\n",
    "\n",
    "# Load train and test datasets\n",
    "train_images, train_labels = load_pickle_file(train_file)\n",
    "test_images, test_labels = load_pickle_file(test_file)\n",
    "\n",
    "image_transforms = transforms.Compose([\n",
    "        #transforms.Resize([224, 224]),  # Resize images to 224x224\n",
    "        transforms.ToTensor(),          \n",
    "        transforms.Normalize(mean=[0.485, 0.456, 0.406],\n",
    "                            std=[0.229, 0.224, 0.225])\n",
    "    ])\n",
    "\n",
    "# Create PyTorch datasets\n",
    "train_dataset = ImageDataset(train_images, train_labels)\n",
    "test_dataset = ImageDataset(test_images, test_labels )\n",
    "\n",
    "print(\"Training and testing datasets created.\")"
   ]
  },
  {
   "cell_type": "code",
   "execution_count": 15,
   "metadata": {},
   "outputs": [
    {
     "ename": "TypeError",
     "evalue": "pic should be Tensor or ndarray. Got <class 'PIL.Image.Image'>.",
     "output_type": "error",
     "traceback": [
      "\u001b[1;31m---------------------------------------------------------------------------\u001b[0m",
      "\u001b[1;31mTypeError\u001b[0m                                 Traceback (most recent call last)",
      "Cell \u001b[1;32mIn[15], line 26\u001b[0m\n\u001b[0;32m     23\u001b[0m     plt\u001b[38;5;241m.\u001b[39mshow()\n\u001b[0;32m     25\u001b[0m \u001b[38;5;66;03m# Show sample images from train and test datasets\u001b[39;00m\n\u001b[1;32m---> 26\u001b[0m \u001b[43mshow_sample_images\u001b[49m\u001b[43m(\u001b[49m\u001b[43mtrain_dataset\u001b[49m\u001b[43m,\u001b[49m\u001b[43m \u001b[49m\u001b[38;5;124;43m\"\u001b[39;49m\u001b[38;5;124;43mSample Images from Train Dataset\u001b[39;49m\u001b[38;5;124;43m\"\u001b[39;49m\u001b[43m)\u001b[49m\n\u001b[0;32m     27\u001b[0m show_sample_images(test_dataset, \u001b[38;5;124m\"\u001b[39m\u001b[38;5;124mSample Images from Test Dataset\u001b[39m\u001b[38;5;124m\"\u001b[39m)\n",
      "Cell \u001b[1;32mIn[15], line 7\u001b[0m, in \u001b[0;36mshow_sample_images\u001b[1;34m(dataset, title)\u001b[0m\n\u001b[0;32m      4\u001b[0m class_samples \u001b[38;5;241m=\u001b[39m {}\n\u001b[0;32m      6\u001b[0m \u001b[38;5;66;03m# Collect one image per class\u001b[39;00m\n\u001b[1;32m----> 7\u001b[0m \u001b[38;5;28;01mfor\u001b[39;00m img, label \u001b[38;5;129;01min\u001b[39;00m dataset:\n\u001b[0;32m      8\u001b[0m     \u001b[38;5;28;01mif\u001b[39;00m label \u001b[38;5;129;01mnot\u001b[39;00m \u001b[38;5;129;01min\u001b[39;00m class_samples:\n\u001b[0;32m      9\u001b[0m         class_samples[label] \u001b[38;5;241m=\u001b[39m img\n",
      "Cell \u001b[1;32mIn[14], line 34\u001b[0m, in \u001b[0;36mImageDataset.__getitem__\u001b[1;34m(self, idx)\u001b[0m\n\u001b[0;32m     31\u001b[0m     img \u001b[38;5;241m=\u001b[39m Image\u001b[38;5;241m.\u001b[39mopen(img_path)\u001b[38;5;241m.\u001b[39mconvert(\u001b[38;5;124m\"\u001b[39m\u001b[38;5;124mRGB\u001b[39m\u001b[38;5;124m\"\u001b[39m)\n\u001b[0;32m     32\u001b[0m \u001b[38;5;28;01melse\u001b[39;00m:\n\u001b[0;32m     33\u001b[0m     \u001b[38;5;66;03m#img = img_path  # Already processed and transformed\u001b[39;00m\n\u001b[1;32m---> 34\u001b[0m     img \u001b[38;5;241m=\u001b[39m \u001b[43mtransforms\u001b[49m\u001b[38;5;241;43m.\u001b[39;49m\u001b[43mToPILImage\u001b[49m\u001b[43m(\u001b[49m\u001b[43m)\u001b[49m\u001b[43m(\u001b[49m\u001b[43mimg_path\u001b[49m\u001b[43m)\u001b[49m\u001b[38;5;241m.\u001b[39mconvert(\u001b[38;5;124m\"\u001b[39m\u001b[38;5;124mRGB\u001b[39m\u001b[38;5;124m\"\u001b[39m)  \u001b[38;5;66;03m# Convert tensor to RGB image\u001b[39;00m\n\u001b[0;32m     36\u001b[0m \u001b[38;5;28;01mreturn\u001b[39;00m img, label\n",
      "File \u001b[1;32m~\\AppData\\Local\\Packages\\PythonSoftwareFoundation.Python.3.11_qbz5n2kfra8p0\\LocalCache\\local-packages\\Python311\\site-packages\\torchvision\\transforms\\transforms.py:234\u001b[0m, in \u001b[0;36mToPILImage.__call__\u001b[1;34m(self, pic)\u001b[0m\n\u001b[0;32m    225\u001b[0m \u001b[38;5;28;01mdef\u001b[39;00m \u001b[38;5;21m__call__\u001b[39m(\u001b[38;5;28mself\u001b[39m, pic):\n\u001b[0;32m    226\u001b[0m \u001b[38;5;250m    \u001b[39m\u001b[38;5;124;03m\"\"\"\u001b[39;00m\n\u001b[0;32m    227\u001b[0m \u001b[38;5;124;03m    Args:\u001b[39;00m\n\u001b[0;32m    228\u001b[0m \u001b[38;5;124;03m        pic (Tensor or numpy.ndarray): Image to be converted to PIL Image.\u001b[39;00m\n\u001b[1;32m   (...)\u001b[0m\n\u001b[0;32m    232\u001b[0m \n\u001b[0;32m    233\u001b[0m \u001b[38;5;124;03m    \"\"\"\u001b[39;00m\n\u001b[1;32m--> 234\u001b[0m     \u001b[38;5;28;01mreturn\u001b[39;00m \u001b[43mF\u001b[49m\u001b[38;5;241;43m.\u001b[39;49m\u001b[43mto_pil_image\u001b[49m\u001b[43m(\u001b[49m\u001b[43mpic\u001b[49m\u001b[43m,\u001b[49m\u001b[43m \u001b[49m\u001b[38;5;28;43mself\u001b[39;49m\u001b[38;5;241;43m.\u001b[39;49m\u001b[43mmode\u001b[49m\u001b[43m)\u001b[49m\n",
      "File \u001b[1;32m~\\AppData\\Local\\Packages\\PythonSoftwareFoundation.Python.3.11_qbz5n2kfra8p0\\LocalCache\\local-packages\\Python311\\site-packages\\torchvision\\transforms\\functional.py:268\u001b[0m, in \u001b[0;36mto_pil_image\u001b[1;34m(pic, mode)\u001b[0m\n\u001b[0;32m    266\u001b[0m     pic \u001b[38;5;241m=\u001b[39m pic\u001b[38;5;241m.\u001b[39mnumpy(force\u001b[38;5;241m=\u001b[39m\u001b[38;5;28;01mTrue\u001b[39;00m)\n\u001b[0;32m    267\u001b[0m \u001b[38;5;28;01melif\u001b[39;00m \u001b[38;5;129;01mnot\u001b[39;00m \u001b[38;5;28misinstance\u001b[39m(pic, np\u001b[38;5;241m.\u001b[39mndarray):\n\u001b[1;32m--> 268\u001b[0m     \u001b[38;5;28;01mraise\u001b[39;00m \u001b[38;5;167;01mTypeError\u001b[39;00m(\u001b[38;5;124mf\u001b[39m\u001b[38;5;124m\"\u001b[39m\u001b[38;5;124mpic should be Tensor or ndarray. Got \u001b[39m\u001b[38;5;132;01m{\u001b[39;00m\u001b[38;5;28mtype\u001b[39m(pic)\u001b[38;5;132;01m}\u001b[39;00m\u001b[38;5;124m.\u001b[39m\u001b[38;5;124m\"\u001b[39m)\n\u001b[0;32m    270\u001b[0m \u001b[38;5;28;01mif\u001b[39;00m pic\u001b[38;5;241m.\u001b[39mndim \u001b[38;5;241m==\u001b[39m \u001b[38;5;241m2\u001b[39m:\n\u001b[0;32m    271\u001b[0m     \u001b[38;5;66;03m# if 2D image, add channel dimension (HWC)\u001b[39;00m\n\u001b[0;32m    272\u001b[0m     pic \u001b[38;5;241m=\u001b[39m np\u001b[38;5;241m.\u001b[39mexpand_dims(pic, \u001b[38;5;241m2\u001b[39m)\n",
      "\u001b[1;31mTypeError\u001b[0m: pic should be Tensor or ndarray. Got <class 'PIL.Image.Image'>."
     ]
    }
   ],
   "source": [
    "# Display Sample Images\n",
    "\n",
    "def show_sample_images(dataset, title):\n",
    "    class_samples = {}\n",
    "    \n",
    "    # Collect one image per class\n",
    "    for img, label in dataset:\n",
    "        if label not in class_samples:\n",
    "            class_samples[label] = img\n",
    "        if len(class_samples) == len(set(dataset.labels)):\n",
    "            break\n",
    "    \n",
    "    # Plot images\n",
    "    fig, axes = plt.subplots(1, len(class_samples), figsize=(15, 5))\n",
    "    fig.suptitle(title, fontsize=14)\n",
    "    \n",
    "    for ax, (label, img) in zip(axes, class_samples.items()):\n",
    "        ax.imshow(img)\n",
    "        #ax.imshow(transforms.ToPILImage()(img))\n",
    "        ax.set_title(f\"Class: {label}\")\n",
    "        ax.axis(\"off\")\n",
    "    \n",
    "    plt.show()\n",
    "\n",
    "# Show sample images from train and test datasets\n",
    "show_sample_images(train_dataset, \"Sample Images from Train Dataset\")\n",
    "show_sample_images(test_dataset, \"Sample Images from Test Dataset\")"
   ]
  },
  {
   "cell_type": "code",
   "execution_count": 18,
   "metadata": {},
   "outputs": [
    {
     "name": "stdout",
     "output_type": "stream",
     "text": [
      "Image is not a tensor, converting...\n",
      "torch.Size([3, 224, 224]) 0\n"
     ]
    }
   ],
   "source": [
    "# Convert data to tensor\n",
    "transform = transforms.Compose([\n",
    "    transforms.Resize([224, 224]),\n",
    "    transforms.ToTensor(),\n",
    "    transforms.Normalize(mean=[0.485, 0.456, 0.406], std=[0.229, 0.224, 0.225])\n",
    "])\n",
    "\n",
    "# Get the first image from the training dataset \n",
    "image_tensor, label = train_dataset[0]\n",
    "\n",
    "# Ensure image is a tensor before checking shape\n",
    "if isinstance(image_tensor, torch.Tensor):\n",
    "    print(image_tensor.shape, label)\n",
    "else:\n",
    "    print(\"Image is not a tensor, converting...\")\n",
    "    image_tensor = transform(image_tensor)\n",
    "    print(image_tensor.shape, label)"
   ]
  },
  {
   "cell_type": "code",
   "execution_count": 19,
   "metadata": {},
   "outputs": [],
   "source": [
    "# Convert the entire dataset into batches of data\n",
    "batch_size = 64\n",
    "\n",
    "train_dataloader = DataLoader(dataset=train_dataset, batch_size=batch_size, shuffle=True, num_workers=4, pin_memory=True)\n",
    "test_dataloader = DataLoader(dataset=test_dataset, batch_size=batch_size, shuffle=True, num_workers=4, pin_memory=True)"
   ]
  },
  {
   "cell_type": "code",
   "execution_count": 20,
   "metadata": {},
   "outputs": [
    {
     "data": {
      "text/plain": [
       "157"
      ]
     },
     "execution_count": 20,
     "metadata": {},
     "output_type": "execute_result"
    }
   ],
   "source": [
    "len(train_dataloader) # Total number of batches of data"
   ]
  },
  {
   "cell_type": "code",
   "execution_count": 21,
   "metadata": {},
   "outputs": [],
   "source": [
    "#Define TFCNN1 network\n",
    "import torch\n",
    "import torch.nn as nn\n",
    "import torch.nn.functional as F\n",
    "\n",
    "class TFCNN(nn.Module):\n",
    "    def __init__(self, num_classes, image_size):\n",
    "        super(TFCNN, self).__init__()\n",
    "        \n",
    "        # Convolutional feature extractor\n",
    "        self.features = nn.Sequential(\n",
    "            # First convolution block: 3 -> 32 channels\n",
    "            nn.Conv2d(3, 32, kernel_size=3, stride=1, padding=1),\n",
    "            nn.ReLU(inplace=True),\n",
    "            nn.MaxPool2d(kernel_size=2),  # Reduces spatial dims by 2\n",
    "            \n",
    "            # Second block: 32 -> 64 channels\n",
    "            nn.Conv2d(32, 64, kernel_size=3, stride=1, padding=1),\n",
    "            nn.ReLU(inplace=True),\n",
    "            nn.MaxPool2d(kernel_size=2),\n",
    "            \n",
    "            # Third block: 64 -> 64 channels\n",
    "            nn.Conv2d(64, 64, kernel_size=3, stride=1, padding=1),\n",
    "            nn.ReLU(inplace=True),\n",
    "            nn.MaxPool2d(kernel_size=2)\n",
    "        )\n",
    "        \n",
    "        # Compute the flattened size after convolution and pooling\n",
    "        reduced_size = image_size // (2 ** 3)  # Three pooling layers\n",
    "        flattened_dim = 64 * reduced_size * reduced_size\n",
    "        \n",
    "        # Fully connected classifier\n",
    "        self.classifier = nn.Sequential(\n",
    "            nn.Flatten(),\n",
    "            nn.Linear(flattened_dim, 128),\n",
    "            nn.ReLU(inplace=True),\n",
    "            nn.Linear(128, num_classes)\n",
    "        )\n",
    "\n",
    "    def forward(self, x):\n",
    "        x = self.features(x)\n",
    "        logits = self.classifier(x)\n",
    "        return logits\n",
    "\n",
    "# # Example usage:\n",
    "# if __name__ == \"__main__\":\n",
    "#     for img_size in [32, 64, 128, 256]:\n",
    "#         print(f\"Testing for image size: {img_size}x{img_size}\")\n",
    "#         x = torch.randn(8, 3, img_size, img_size)  # Batch of 8 images\n",
    "#         model = TFCNN(num_classes=4, image_size=img_size)\n",
    "#         logits = model(x)\n",
    "#         print(\"Output shape:\", logits.shape)  # Expected: [8, 4]\n",
    "#         print(\"-\")\n"
   ]
  },
  {
   "cell_type": "code",
   "execution_count": 22,
   "metadata": {},
   "outputs": [],
   "source": [
    "#Define ResNet-18 network\n",
    "import torch\n",
    "import torch.nn as nn\n",
    "import torch.optim as optim\n",
    "import torchvision.models as models\n",
    "# Define ResNet18-based classifier if needed\n",
    "class ResNetClassifier(nn.Module):\n",
    "    def __init__(self, num_classes):\n",
    "        super(ResNetClassifier, self).__init__()\n",
    "        self.model = models.resnet18(pretrained=True)\n",
    "        # Replace the final fully connected layer to match num_classes\n",
    "        num_ftrs = self.model.fc.in_features\n",
    "        self.model.fc = nn.Linear(num_ftrs, num_classes)\n",
    "    \n",
    "    def forward(self, x):\n",
    "        return self.model(x)"
   ]
  },
  {
   "cell_type": "code",
   "execution_count": 23,
   "metadata": {},
   "outputs": [],
   "source": [
    "#Define ResNet14 Network\n",
    "class ResNetClassifier(nn.Module):\n",
    "    \"\"\" 6n + 2: 8, 14, 20, 26, 32, 38, 44, 50, 56\n",
    "    \"\"\"\n",
    "\n",
    "    def __init__(self, n_layer=14, n_classes=10):\n",
    "        super().__init__()\n",
    "        self.n_layer = n_layer\n",
    "        self.n_classes = n_classes\n",
    "\n",
    "        conv1 = nn.Conv2d(\n",
    "            3, 16, kernel_size=3,\n",
    "            stride=1, padding=1, bias=False\n",
    "        )\n",
    "        bn1 = nn.BatchNorm2d(16)\n",
    "\n",
    "        assert ((n_layer - 2) % 6 == 0), \"SmallResNet depth is 6n+2\"\n",
    "        n = int((n_layer - 2) / 6)\n",
    "\n",
    "        self.cfg = (BasicBlock, (n, n, n))\n",
    "        self.in_planes = 16\n",
    "\n",
    "        layer1 = self._make_layer(\n",
    "            block=self.cfg[0], planes=16, stride=1, num_blocks=self.cfg[1][0],\n",
    "        )\n",
    "        layer2 = self._make_layer(\n",
    "            block=self.cfg[0], planes=32, stride=2, num_blocks=self.cfg[1][1],\n",
    "        )\n",
    "        layer3 = self._make_layer(\n",
    "            block=self.cfg[0], planes=64, stride=2, num_blocks=self.cfg[1][2],\n",
    "        )\n",
    "\n",
    "        avgpool = nn.AdaptiveAvgPool2d((1, 1))\n",
    "\n",
    "        self.encoder = nn.Sequential(\n",
    "            conv1,\n",
    "            bn1,\n",
    "            nn.ReLU(True),\n",
    "            layer1,\n",
    "            layer2,\n",
    "            layer3,\n",
    "            avgpool,\n",
    "            Reshape(),\n",
    "        )\n",
    "\n",
    "        self.h_size = 64 * self.cfg[0].expansion\n",
    "\n",
    "        self.classifier = nn.Linear(\n",
    "            64 * self.cfg[0].expansion, n_classes\n",
    "        )\n",
    "\n",
    "    def _make_layer(self, block, planes, stride, num_blocks):\n",
    "        strides = [stride] + [1] * (num_blocks - 1)\n",
    "        layers = []\n",
    "\n",
    "        for stride in strides:\n",
    "            layers.append(block(self.in_planes, planes, stride))\n",
    "            self.in_planes = block.expansion * planes\n",
    "        return nn.Sequential(*layers)\n",
    "\n",
    "    def forward(self, xs):\n",
    "        hs = self.encoder(xs)\n",
    "        logits = self.classifier(hs)\n",
    "        return logits"
   ]
  },
  {
   "cell_type": "code",
   "execution_count": 24,
   "metadata": {},
   "outputs": [],
   "source": [
    "#Define ResNet-18 network\n",
    "import torch\n",
    "import torch.nn as nn\n",
    "import torch.optim as optim\n",
    "import torchvision.models as models\n",
    "# Define ResNet18-based classifier if needed\n",
    "class ResNetClassifier(nn.Module):\n",
    "    def __init__(self, num_classes):\n",
    "        super(ResNetClassifier, self).__init__()\n",
    "        self.model = models.resnet18(pretrained=True)\n",
    "        # Replace the final fully connected layer to match num_classes\n",
    "        num_ftrs = self.model.fc.in_features\n",
    "        self.model.fc = nn.Linear(num_ftrs, num_classes)\n",
    "    \n",
    "    def forward(self, x):\n",
    "        return self.model(x)"
   ]
  },
  {
   "cell_type": "code",
   "execution_count": 25,
   "metadata": {},
   "outputs": [],
   "source": [
    "#define the model evaluation funcation\n",
    "def evaluate_model(model, data_loader, device):\n",
    "    model.eval()\n",
    "    correct = 0\n",
    "    total = 0\n",
    "    with torch.no_grad():\n",
    "        for images, labels in data_loader:\n",
    "            images, labels = images.to(device), labels.to(device)\n",
    "            outputs = model(images)\n",
    "            _, predicted = torch.max(outputs, 1)\n",
    "            total += labels.size(0)\n",
    "            correct += (predicted == labels).sum().item()\n",
    "    return 100 * correct / total"
   ]
  },
  {
   "cell_type": "code",
   "execution_count": 26,
   "metadata": {},
   "outputs": [],
   "source": [
    "#define the model training funcation\n",
    "def train_model(model, train_loader, test_loader, num_epochs=5, lr=1e-3):\n",
    "    device = torch.device(\"cuda\" if torch.cuda.is_available() else \"cpu\")\n",
    "    model.to(device)\n",
    "    criterion = nn.CrossEntropyLoss()\n",
    "    optimizer = optim.Adam(model.parameters(), lr=lr)\n",
    "    \n",
    "    # Lists to store epoch numbers and test accuracies\n",
    "    epoch_list = []\n",
    "    test_acc_list = []\n",
    "    \n",
    "    for epoch in range(num_epochs):\n",
    "        model.train()\n",
    "        running_loss = 0.0\n",
    "        for images, labels in train_loader:\n",
    "            images, labels = images.to(device), labels.to(device)\n",
    "            optimizer.zero_grad()\n",
    "            outputs = model(images)\n",
    "            loss = criterion(outputs, labels)\n",
    "            loss.backward()\n",
    "            optimizer.step()\n",
    "            running_loss += loss.item() * images.size(0)\n",
    "        \n",
    "        epoch_loss = running_loss / len(train_loader.dataset)\n",
    "        test_acc = evaluate_model(model, test_loader, device)\n",
    "        \n",
    "        # Store epoch number and test accuracy\n",
    "        epoch_list.append(epoch + 1)\n",
    "        test_acc_list.append(test_acc)\n",
    "        \n",
    "        print(f\"Epoch {epoch+1}/{num_epochs} - Loss: {epoch_loss:.4f} - Test Accuracy: {test_acc:.2f}%\")\n",
    "    \n",
    "    return model, epoch_list, test_acc_list"
   ]
  },
  {
   "cell_type": "code",
   "execution_count": null,
   "metadata": {},
   "outputs": [
    {
     "name": "stdout",
     "output_type": "stream",
     "text": [
      "Training TFCNN...\n"
     ]
    }
   ],
   "source": [
    "#Train the TFNN model\n",
    "import torch.optim as optim\n",
    "num_classes = 4  # Adjust this number based on your dataset's classes\n",
    "img_size=224\n",
    "# Train the SimpleCNN model\n",
    "print(\"Training TFCNN...\")\n",
    "model1 = TFCNN(num_classes, image_size=img_size)\n",
    "model1,epoch_list, test_acc_list= train_model(model1, train_dataloader, test_dataloader, num_epochs=10, lr=1e-3)"
   ]
  },
  {
   "cell_type": "code",
   "execution_count": null,
   "metadata": {},
   "outputs": [
    {
     "name": "stdout",
     "output_type": "stream",
     "text": [
      "\n",
      "Training ResNetClassifier...\n"
     ]
    },
    {
     "name": "stderr",
     "output_type": "stream",
     "text": [
      "C:\\Users\\mdmor\\AppData\\Local\\Packages\\PythonSoftwareFoundation.Python.3.11_qbz5n2kfra8p0\\LocalCache\\local-packages\\Python311\\site-packages\\torchvision\\models\\_utils.py:208: UserWarning: The parameter 'pretrained' is deprecated since 0.13 and may be removed in the future, please use 'weights' instead.\n",
      "  warnings.warn(\n",
      "C:\\Users\\mdmor\\AppData\\Local\\Packages\\PythonSoftwareFoundation.Python.3.11_qbz5n2kfra8p0\\LocalCache\\local-packages\\Python311\\site-packages\\torchvision\\models\\_utils.py:223: UserWarning: Arguments other than a weight enum or `None` for 'weights' are deprecated since 0.13 and may be removed in the future. The current behavior is equivalent to passing `weights=ResNet18_Weights.IMAGENET1K_V1`. You can also use `weights=ResNet18_Weights.DEFAULT` to get the most up-to-date weights.\n",
      "  warnings.warn(msg)\n"
     ]
    },
    {
     "name": "stdout",
     "output_type": "stream",
     "text": [
      "Epoch 1/5 - Loss: 0.5396 - Test Accuracy: 82.30%\n",
      "Epoch 2/5 - Loss: 0.3058 - Test Accuracy: 83.97%\n",
      "Epoch 3/5 - Loss: 0.2144 - Test Accuracy: 85.56%\n",
      "Epoch 4/5 - Loss: 0.1615 - Test Accuracy: 88.74%\n",
      "Epoch 5/5 - Loss: 0.1198 - Test Accuracy: 89.22%\n"
     ]
    }
   ],
   "source": [
    "# Train the ResNetClassifier model\n",
    "num_classes = 4  # Adjust this number based on your dataset's classes\n",
    "print(\"\\nTraining ResNetClassifier...\")\n",
    "model2 = ResNetClassifier(num_classes)\n",
    "model2, epoch_list, test_acc_list = train_model(model2, train_dataloader, test_dataloader, num_epochs=10, lr=1e-3)"
   ]
  }
 ],
 "metadata": {
  "kernelspec": {
   "display_name": "Python 3 (ipykernel)",
   "language": "python",
   "name": "python3"
  },
  "language_info": {
   "codemirror_mode": {
    "name": "ipython",
    "version": 3
   },
   "file_extension": ".py",
   "mimetype": "text/x-python",
   "name": "python",
   "nbconvert_exporter": "python",
   "pygments_lexer": "ipython3",
   "version": "3.9.7"
  }
 },
 "nbformat": 4,
 "nbformat_minor": 4
}
