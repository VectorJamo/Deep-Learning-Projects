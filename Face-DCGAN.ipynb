{
 "cells": [
  {
   "cell_type": "code",
   "execution_count": 1,
   "id": "ad3a6720-f4d4-487b-b9b4-b4c5b0dff652",
   "metadata": {},
   "outputs": [],
   "source": [
    "# Creating a Deep Convolutional Generative Adverserial Network that creates realistic Face Images.\n",
    "# Author: Suraj Neupane\n",
    "# Written from scratch as a part of a Research Project 2025, Concordia University of Edmonton.\n",
    "from PIL import Image\n",
    "import numpy as np\n",
    "\n",
    "import torch\n",
    "from torch import nn\n",
    "\n",
    "from torch.utils.data import DataLoader\n",
    "\n",
    "import torchvision\n",
    "from torchvision import datasets\n",
    "from torchvision import transforms\n",
    "from torchvision.datasets import ImageFolder\n",
    "\n",
    "import matplotlib.pyplot as plt"
   ]
  },
  {
   "cell_type": "code",
   "execution_count": 2,
   "id": "39fb5668-79ac-461c-93fb-601c6828aae2",
   "metadata": {},
   "outputs": [
    {
     "data": {
      "text/plain": [
       "'2.5.1+cu118'"
      ]
     },
     "execution_count": 2,
     "metadata": {},
     "output_type": "execute_result"
    }
   ],
   "source": [
    "torch.__version__"
   ]
  },
  {
   "cell_type": "code",
   "execution_count": 3,
   "id": "4ba3a436-a29d-4c49-a3da-43cc447768dd",
   "metadata": {},
   "outputs": [],
   "source": [
    "device = 'cuda' if torch.cuda.is_available() else 'cpu'"
   ]
  },
  {
   "cell_type": "code",
   "execution_count": 4,
   "id": "9beae6ba-c5e2-40c3-b2bc-bf8fef7508c6",
   "metadata": {},
   "outputs": [],
   "source": [
    "img_size = 64\n",
    "img_channels = 1\n",
    "# Transform the images to 64x64\n",
    "transformations = transforms.Compose(\n",
    "    [\n",
    "        transforms.Resize((img_size, img_size)),\n",
    "        transforms.Grayscale(num_output_channels=img_channels),\n",
    "        transforms.ToTensor(),\n",
    "    ]\n",
    ")"
   ]
  },
  {
   "cell_type": "code",
   "execution_count": 5,
   "id": "ebdb890e-234a-463e-811b-74baf1324f53",
   "metadata": {},
   "outputs": [],
   "source": [
    "# Visualize a data sample\n",
    "image_path = \"datasets/Face Dataset/s1/1.pgm\"\n",
    "image = Image.open(image_path)  # Load as PIL Image\n",
    "image = transformations(image)  # Convert to tensor"
   ]
  },
  {
   "cell_type": "code",
   "execution_count": 6,
   "id": "81ea807c-b916-413f-ba07-b58d4fff1d4c",
   "metadata": {},
   "outputs": [
    {
     "data": {
      "image/png": "[encoded data removed]",
      "text/plain": [
       "<Figure size 640x480 with 1 Axes>"
      ]
     },
     "metadata": {},
     "output_type": "display_data"
    }
   ],
   "source": [
    "# Display the image\n",
    "plt.imshow(image.squeeze(), cmap=\"gray\")\n",
    "plt.title(\"Loaded PGM Image\")\n",
    "plt.show()"
   ]
  },
  {
   "cell_type": "code",
   "execution_count": 7,
   "id": "8aee7a6e-d30c-48c8-9f17-7d429ea874a8",
   "metadata": {},
   "outputs": [
    {
     "name": "stdout",
     "output_type": "stream",
     "text": [
      "400\n",
      "Number of classes: 40\n"
     ]
    }
   ],
   "source": [
    "# Load the entire dataset\n",
    "data_dir = \"datasets/Face Dataset\"\n",
    "dataset = ImageFolder(root=data_dir, transform=transformations)\n",
    "print(len(dataset))\n",
    "print(f\"Number of classes: {len(dataset.classes)}\")"
   ]
  },
  {
   "cell_type": "code",
   "execution_count": 8,
   "id": "9ae00b4e-f4e9-46e1-9f4c-aebaae18661a",
   "metadata": {},
   "outputs": [],
   "source": [
    "# Create the Dataloader\n",
    "BATCH_SIZE = 16\n",
    "\n",
    "dataloader = DataLoader(dataset, batch_size=BATCH_SIZE, shuffle=True)"
   ]
  },
  {
   "cell_type": "code",
   "execution_count": 9,
   "id": "65717445-5cfc-4527-be35-41454d878dc5",
   "metadata": {},
   "outputs": [
    {
     "data": {
      "text/plain": [
       "(torch.Size([16, 1, 64, 64]), torch.Size([16]))"
      ]
     },
     "execution_count": 9,
     "metadata": {},
     "output_type": "execute_result"
    }
   ],
   "source": [
    "data_iter = iter(dataloader)\n",
    "first_batch_samples, first_batch_labels = next(data_iter)\n",
    "first_batch_samples.shape, first_batch_labels.shape"
   ]
  },
  {
   "cell_type": "code",
   "execution_count": 10,
   "id": "979c5c00-402c-4cc2-a54b-09807366602b",
   "metadata": {},
   "outputs": [],
   "source": [
    "# Creating the DC-GAN\n",
    "# Creating the Discriminator\n",
    "class Discriminator(nn.Module):\n",
    "    def __init__(self, img_channels, features_d):\n",
    "        super().__init__()\n",
    "        self.disc = nn.Sequential(\n",
    "            # Input shape: img_channels x 64 x 64\n",
    "            nn.Conv2d(\n",
    "              in_channels=img_channels, out_channels=features_d, kernel_size=4, stride=2, padding=1\n",
    "            ), # Output shape: features_d x 32 x 32\n",
    "            nn.LeakyReLU(0.2),\n",
    "            self._block(features_d, features_d*2, 4, 2, 1), # Output shape: features_d*2 x 16 x 16\n",
    "            self._block(features_d*2, features_d*4, 4, 2, 1), # Output shape: features_d*4 x 8 x 8\n",
    "            self._block(features_d*4, features_d*8, 4, 2, 1), # Output shape: features_d*8 x 4 x 4\n",
    "           \n",
    "            nn.Conv2d(in_channels=features_d*8, out_channels=1, kernel_size=4, stride=2, padding=0), # Output shape: 1 x 1\n",
    "            nn.Sigmoid(),\n",
    "        )\n",
    "\n",
    "    def _block(self, in_channels, out_channels, kernel_size, stride, padding):\n",
    "        return nn.Sequential(\n",
    "            nn.Conv2d(in_channels, out_channels, kernel_size, stride, padding, bias=False),\n",
    "            nn.BatchNorm2d(out_channels),\n",
    "            nn.LeakyReLU(0.2),\n",
    "        )\n",
    "\n",
    "    def forward(self, X):\n",
    "        return self.disc(X)"
   ]
  },
  {
   "cell_type": "code",
   "execution_count": 11,
   "id": "3d74e527-2960-456a-a09a-bda128387337",
   "metadata": {},
   "outputs": [],
   "source": [
    "# Creating the Generator\n",
    "class Generator(nn.Module):\n",
    "    def __init__(self, z_dim, img_channels, features_g):\n",
    "        super().__init__()\n",
    "        self.gen = nn.Sequential(\n",
    "            self._block(z_dim, features_g*16, 4, 1, 0),\n",
    "            self._block(features_g*16, features_g*8, 4, 2, 1),\n",
    "            self._block(features_g*8, features_g*4, 4, 2, 1),\n",
    "            self._block(features_g*4, features_g*2, 4, 2, 1),\n",
    "            nn.ConvTranspose2d(\n",
    "                in_channels=features_g*2, out_channels=img_channels, kernel_size=4, stride=2, padding=1\n",
    "            ),\n",
    "            nn.Tanh(),\n",
    "        )\n",
    "        \n",
    "    def _block(self, in_channels, out_channels, kernel_size, stride, padding):\n",
    "        return nn.Sequential(\n",
    "            nn.ConvTranspose2d(\n",
    "                in_channels, out_channels, kernel_size, stride, padding, bias=False,\n",
    "            ),\n",
    "            nn.BatchNorm2d(out_channels),\n",
    "            nn.ReLU(),\n",
    "        )\n",
    "\n",
    "    def forward(self, X):\n",
    "        return self.gen(X)"
   ]
  },
  {
   "cell_type": "code",
   "execution_count": 12,
   "id": "19e70627-f849-49a5-a720-3b528ea4ed91",
   "metadata": {},
   "outputs": [],
   "source": [
    "def initialize_weights(model):\n",
    "    for m in model.modules():\n",
    "        if isinstance(m, (nn.Conv2d, nn.ConvTranspose2d, nn.BatchNorm2d)):\n",
    "            nn.init.normal_(m.weight.data, 0.0, 0.02)"
   ]
  },
  {
   "cell_type": "code",
   "execution_count": 13,
   "id": "9b8e5466-2f2d-4cdd-9a1d-b2035bf0c960",
   "metadata": {},
   "outputs": [],
   "source": [
    "# Testing the output shapes of the Discriminator and the Generator\n",
    "def test():\n",
    "    N, in_channels, H, W = 8, 1, 64, 64\n",
    "    z_dim = 100\n",
    "    x = torch.randn((N, in_channels, H, W))\n",
    "    disc = Discriminator(in_channels, 8)\n",
    "    initialize_weights(disc)\n",
    "\n",
    "    print(disc(x).shape)\n",
    "    assert disc(x).shape == (N, 1, 1, 1)\n",
    "\n",
    "    gen = Generator(z_dim, in_channels, 8)\n",
    "    initialize_weights(gen)\n",
    "    z = torch.randn((N, z_dim, 1, 1))\n",
    "\n",
    "    print(gen(z).shape)\n",
    "    assert(gen(z).shape) == (N, in_channels, H, W)"
   ]
  },
  {
   "cell_type": "code",
   "execution_count": 14,
   "id": "796beb13-12fb-49e8-a4b4-b172798dbb8e",
   "metadata": {},
   "outputs": [
    {
     "name": "stdout",
     "output_type": "stream",
     "text": [
      "torch.Size([8, 1, 1, 1])\n",
      "torch.Size([8, 1, 64, 64])\n"
     ]
    }
   ],
   "source": [
    "test()"
   ]
  },
  {
   "cell_type": "code",
   "execution_count": 15,
   "id": "a403cf18-b222-4b8d-8e63-63da7286b8f1",
   "metadata": {},
   "outputs": [],
   "source": [
    "# Setup the hyperparameters\n",
    "learning_rate = 2e-4\n",
    "batch_size = 16\n",
    "image_size = 64\n",
    "img_channels = 1\n",
    "z_dim = 100\n",
    "epochs = 200\n",
    "features_disc = 64\n",
    "features_gen = 64"
   ]
  },
  {
   "cell_type": "code",
   "execution_count": 16,
   "id": "e29c242b-0645-426f-9b73-f94df06f510e",
   "metadata": {},
   "outputs": [],
   "source": [
    "# Create the model instances\n",
    "gen = Generator(z_dim, img_channels, features_gen).to(device)\n",
    "disc = Discriminator(img_channels, features_disc).to(device)"
   ]
  },
  {
   "cell_type": "code",
   "execution_count": 17,
   "id": "b89e4cba-fa56-4686-adf0-f648351ff389",
   "metadata": {},
   "outputs": [],
   "source": [
    "initialize_weights(gen)\n",
    "initialize_weights(disc)"
   ]
  },
  {
   "cell_type": "code",
   "execution_count": 18,
   "id": "61b63f9d-e4af-4604-b3bc-cc338ae38fb5",
   "metadata": {},
   "outputs": [],
   "source": [
    "# Create the optimizer and the loss function\n",
    "opt_gen = torch.optim.Adam(gen.parameters(), lr=learning_rate, betas=(0.5, 0.999))\n",
    "opt_disc = torch.optim.Adam(disc.parameters(), lr=learning_rate, betas=(0.5, 0.999))\n",
    "loss_function = nn.BCELoss()"
   ]
  },
  {
   "cell_type": "code",
   "execution_count": 19,
   "id": "cc085220-ae42-4936-a3b2-ac52c41f5fda",
   "metadata": {},
   "outputs": [],
   "source": [
    "fixed_noise = torch.randn(32, z_dim, 1, 1).to(device)"
   ]
  },
  {
   "cell_type": "code",
   "execution_count": 20,
   "id": "1fbc5de3-c51c-4378-b922-19596f757098",
   "metadata": {},
   "outputs": [
    {
     "data": {
      "text/plain": [
       "Discriminator(\n",
       "  (disc): Sequential(\n",
       "    (0): Conv2d(1, 64, kernel_size=(4, 4), stride=(2, 2), padding=(1, 1))\n",
       "    (1): LeakyReLU(negative_slope=0.2)\n",
       "    (2): Sequential(\n",
       "      (0): Conv2d(64, 128, kernel_size=(4, 4), stride=(2, 2), padding=(1, 1), bias=False)\n",
       "      (1): BatchNorm2d(128, eps=1e-05, momentum=0.1, affine=True, track_running_stats=True)\n",
       "      (2): LeakyReLU(negative_slope=0.2)\n",
       "    )\n",
       "    (3): Sequential(\n",
       "      (0): Conv2d(128, 256, kernel_size=(4, 4), stride=(2, 2), padding=(1, 1), bias=False)\n",
       "      (1): BatchNorm2d(256, eps=1e-05, momentum=0.1, affine=True, track_running_stats=True)\n",
       "      (2): LeakyReLU(negative_slope=0.2)\n",
       "    )\n",
       "    (4): Sequential(\n",
       "      (0): Conv2d(256, 512, kernel_size=(4, 4), stride=(2, 2), padding=(1, 1), bias=False)\n",
       "      (1): BatchNorm2d(512, eps=1e-05, momentum=0.1, affine=True, track_running_stats=True)\n",
       "      (2): LeakyReLU(negative_slope=0.2)\n",
       "    )\n",
       "    (5): Conv2d(512, 1, kernel_size=(4, 4), stride=(2, 2))\n",
       "    (6): Sigmoid()\n",
       "  )\n",
       ")"
      ]
     },
     "execution_count": 20,
     "metadata": {},
     "output_type": "execute_result"
    }
   ],
   "source": [
    "# Set the models to training mode\n",
    "gen.train()\n",
    "disc.train()"
   ]
  },
  {
   "cell_type": "code",
   "execution_count": null,
   "id": "5d2b1f68-953b-4e64-a681-2a95f6b71a79",
   "metadata": {},
   "outputs": [
    {
     "name": "stdout",
     "output_type": "stream",
     "text": [
      "Epoch: 0. Batches seen: 0.\n",
      "Epoch: 0. Batches seen: 5.\n",
      "Epoch: 0. Batches seen: 10.\n",
      "Epoch: 0. Batches seen: 15.\n",
      "Epoch: 0. Batches seen: 20.\n",
      "Epoch: 1. Batches seen: 0.\n",
      "Epoch: 1. Batches seen: 5.\n",
      "Epoch: 1. Batches seen: 10.\n",
      "Epoch: 1. Batches seen: 15.\n",
      "Epoch: 1. Batches seen: 20.\n",
      "Epoch: 2. Batches seen: 0.\n",
      "Epoch: 2. Batches seen: 5.\n",
      "Epoch: 2. Batches seen: 10.\n",
      "Epoch: 2. Batches seen: 15.\n",
      "Epoch: 2. Batches seen: 20.\n",
      "Epoch: 3. Batches seen: 0.\n",
      "Epoch: 3. Batches seen: 5.\n",
      "Epoch: 3. Batches seen: 10.\n",
      "Epoch: 3. Batches seen: 15.\n",
      "Epoch: 3. Batches seen: 20.\n",
      "Epoch: 4. Batches seen: 0.\n",
      "Epoch: 4. Batches seen: 5.\n",
      "Epoch: 4. Batches seen: 10.\n",
      "Epoch: 4. Batches seen: 15.\n",
      "Epoch: 4. Batches seen: 20.\n",
      "Epoch: 5. Batches seen: 0.\n",
      "Epoch: 5. Batches seen: 5.\n",
      "Epoch: 5. Batches seen: 10.\n",
      "Epoch: 5. Batches seen: 15.\n",
      "Epoch: 5. Batches seen: 20.\n",
      "Epoch: 6. Batches seen: 0.\n",
      "Epoch: 6. Batches seen: 5.\n",
      "Epoch: 6. Batches seen: 10.\n",
      "Epoch: 6. Batches seen: 15.\n",
      "Epoch: 6. Batches seen: 20.\n",
      "Epoch: 7. Batches seen: 0.\n",
      "Epoch: 7. Batches seen: 5.\n",
      "Epoch: 7. Batches seen: 10.\n",
      "Epoch: 7. Batches seen: 15.\n",
      "Epoch: 7. Batches seen: 20.\n",
      "Epoch: 8. Batches seen: 0.\n",
      "Epoch: 8. Batches seen: 5.\n",
      "Epoch: 8. Batches seen: 10.\n",
      "Epoch: 8. Batches seen: 15.\n",
      "Epoch: 8. Batches seen: 20.\n",
      "Epoch: 9. Batches seen: 0.\n",
      "Epoch: 9. Batches seen: 5.\n",
      "Epoch: 9. Batches seen: 10.\n",
      "Epoch: 9. Batches seen: 15.\n",
      "Epoch: 9. Batches seen: 20.\n",
      "Epoch: 10. Batches seen: 0.\n",
      "Epoch: 10. Batches seen: 5.\n",
      "Epoch: 10. Batches seen: 10.\n",
      "Epoch: 10. Batches seen: 15.\n",
      "Epoch: 10. Batches seen: 20.\n",
      "Epoch: 11. Batches seen: 0.\n",
      "Epoch: 11. Batches seen: 5.\n",
      "Epoch: 11. Batches seen: 10.\n",
      "Epoch: 11. Batches seen: 15.\n",
      "Epoch: 11. Batches seen: 20.\n",
      "Epoch: 12. Batches seen: 0.\n",
      "Epoch: 12. Batches seen: 5.\n",
      "Epoch: 12. Batches seen: 10.\n",
      "Epoch: 12. Batches seen: 15.\n",
      "Epoch: 12. Batches seen: 20.\n",
      "Epoch: 13. Batches seen: 0.\n",
      "Epoch: 13. Batches seen: 5.\n",
      "Epoch: 13. Batches seen: 10.\n",
      "Epoch: 13. Batches seen: 15.\n",
      "Epoch: 13. Batches seen: 20.\n",
      "Epoch: 14. Batches seen: 0.\n",
      "Epoch: 14. Batches seen: 5.\n",
      "Epoch: 14. Batches seen: 10.\n",
      "Epoch: 14. Batches seen: 15.\n",
      "Epoch: 14. Batches seen: 20.\n",
      "Epoch: 15. Batches seen: 0.\n",
      "Epoch: 15. Batches seen: 5.\n",
      "Epoch: 15. Batches seen: 10.\n",
      "Epoch: 15. Batches seen: 15.\n",
      "Epoch: 15. Batches seen: 20.\n",
      "Epoch: 16. Batches seen: 0.\n",
      "Epoch: 16. Batches seen: 5.\n",
      "Epoch: 16. Batches seen: 10.\n",
      "Epoch: 16. Batches seen: 15.\n",
      "Epoch: 16. Batches seen: 20.\n",
      "Epoch: 17. Batches seen: 0.\n",
      "Epoch: 17. Batches seen: 5.\n",
      "Epoch: 17. Batches seen: 10.\n",
      "Epoch: 17. Batches seen: 15.\n",
      "Epoch: 17. Batches seen: 20.\n",
      "Epoch: 18. Batches seen: 0.\n",
      "Epoch: 18. Batches seen: 5.\n",
      "Epoch: 18. Batches seen: 10.\n",
      "Epoch: 18. Batches seen: 15.\n",
      "Epoch: 18. Batches seen: 20.\n",
      "Epoch: 19. Batches seen: 0.\n",
      "Epoch: 19. Batches seen: 5.\n",
      "Epoch: 19. Batches seen: 10.\n",
      "Epoch: 19. Batches seen: 15.\n",
      "Epoch: 19. Batches seen: 20.\n",
      "Epoch: 20. Batches seen: 0.\n",
      "Epoch: 20. Batches seen: 5.\n",
      "Epoch: 20. Batches seen: 10.\n",
      "Epoch: 20. Batches seen: 15.\n",
      "Epoch: 20. Batches seen: 20.\n",
      "Epoch: 21. Batches seen: 0.\n",
      "Epoch: 21. Batches seen: 5.\n",
      "Epoch: 21. Batches seen: 10.\n",
      "Epoch: 21. Batches seen: 15.\n",
      "Epoch: 21. Batches seen: 20.\n",
      "Epoch: 22. Batches seen: 0.\n",
      "Epoch: 22. Batches seen: 5.\n",
      "Epoch: 22. Batches seen: 10.\n",
      "Epoch: 22. Batches seen: 15.\n",
      "Epoch: 22. Batches seen: 20.\n",
      "Epoch: 23. Batches seen: 0.\n",
      "Epoch: 23. Batches seen: 5.\n",
      "Epoch: 23. Batches seen: 10.\n",
      "Epoch: 23. Batches seen: 15.\n",
      "Epoch: 23. Batches seen: 20.\n",
      "Epoch: 24. Batches seen: 0.\n",
      "Epoch: 24. Batches seen: 5.\n",
      "Epoch: 24. Batches seen: 10.\n",
      "Epoch: 24. Batches seen: 15.\n",
      "Epoch: 24. Batches seen: 20.\n",
      "Epoch: 25. Batches seen: 0.\n",
      "Epoch: 25. Batches seen: 5.\n",
      "Epoch: 25. Batches seen: 10.\n",
      "Epoch: 25. Batches seen: 15.\n",
      "Epoch: 25. Batches seen: 20.\n",
      "Epoch: 26. Batches seen: 0.\n",
      "Epoch: 26. Batches seen: 5.\n",
      "Epoch: 26. Batches seen: 10.\n",
      "Epoch: 26. Batches seen: 15.\n",
      "Epoch: 26. Batches seen: 20.\n",
      "Epoch: 27. Batches seen: 0.\n",
      "Epoch: 27. Batches seen: 5.\n",
      "Epoch: 27. Batches seen: 10.\n",
      "Epoch: 27. Batches seen: 15.\n",
      "Epoch: 27. Batches seen: 20.\n",
      "Epoch: 28. Batches seen: 0.\n",
      "Epoch: 28. Batches seen: 5.\n",
      "Epoch: 28. Batches seen: 10.\n",
      "Epoch: 28. Batches seen: 15.\n",
      "Epoch: 28. Batches seen: 20.\n",
      "Epoch: 29. Batches seen: 0.\n",
      "Epoch: 29. Batches seen: 5.\n",
      "Epoch: 29. Batches seen: 10.\n",
      "Epoch: 29. Batches seen: 15.\n",
      "Epoch: 29. Batches seen: 20.\n",
      "Epoch: 30. Batches seen: 0.\n",
      "Epoch: 30. Batches seen: 5.\n",
      "Epoch: 30. Batches seen: 10.\n",
      "Epoch: 30. Batches seen: 15.\n",
      "Epoch: 30. Batches seen: 20.\n",
      "Epoch: 31. Batches seen: 0.\n",
      "Epoch: 31. Batches seen: 5.\n",
      "Epoch: 31. Batches seen: 10.\n",
      "Epoch: 31. Batches seen: 15.\n",
      "Epoch: 31. Batches seen: 20.\n",
      "Epoch: 32. Batches seen: 0.\n",
      "Epoch: 32. Batches seen: 5.\n",
      "Epoch: 32. Batches seen: 10.\n",
      "Epoch: 32. Batches seen: 15.\n",
      "Epoch: 32. Batches seen: 20.\n",
      "Epoch: 33. Batches seen: 0.\n",
      "Epoch: 33. Batches seen: 5.\n",
      "Epoch: 33. Batches seen: 10.\n",
      "Epoch: 33. Batches seen: 15.\n",
      "Epoch: 33. Batches seen: 20.\n",
      "Epoch: 34. Batches seen: 0.\n",
      "Epoch: 34. Batches seen: 5.\n",
      "Epoch: 34. Batches seen: 10.\n",
      "Epoch: 34. Batches seen: 15.\n",
      "Epoch: 34. Batches seen: 20.\n",
      "Epoch: 35. Batches seen: 0.\n",
      "Epoch: 35. Batches seen: 5.\n",
      "Epoch: 35. Batches seen: 10.\n",
      "Epoch: 35. Batches seen: 15.\n",
      "Epoch: 35. Batches seen: 20.\n",
      "Epoch: 36. Batches seen: 0.\n",
      "Epoch: 36. Batches seen: 5.\n",
      "Epoch: 36. Batches seen: 10.\n",
      "Epoch: 36. Batches seen: 15.\n",
      "Epoch: 36. Batches seen: 20.\n",
      "Epoch: 37. Batches seen: 0.\n",
      "Epoch: 37. Batches seen: 5.\n",
      "Epoch: 37. Batches seen: 10.\n",
      "Epoch: 37. Batches seen: 15.\n",
      "Epoch: 37. Batches seen: 20.\n",
      "Epoch: 38. Batches seen: 0.\n",
      "Epoch: 38. Batches seen: 5.\n",
      "Epoch: 38. Batches seen: 10.\n",
      "Epoch: 38. Batches seen: 15.\n",
      "Epoch: 38. Batches seen: 20.\n",
      "Epoch: 39. Batches seen: 0.\n",
      "Epoch: 39. Batches seen: 5.\n",
      "Epoch: 39. Batches seen: 10.\n",
      "Epoch: 39. Batches seen: 15.\n",
      "Epoch: 39. Batches seen: 20.\n",
      "Epoch: 40. Batches seen: 0.\n",
      "Epoch: 40. Batches seen: 5.\n",
      "Epoch: 40. Batches seen: 10.\n",
      "Epoch: 40. Batches seen: 15.\n",
      "Epoch: 40. Batches seen: 20.\n",
      "Epoch: 41. Batches seen: 0.\n",
      "Epoch: 41. Batches seen: 5.\n",
      "Epoch: 41. Batches seen: 10.\n",
      "Epoch: 41. Batches seen: 15.\n",
      "Epoch: 41. Batches seen: 20.\n",
      "Epoch: 42. Batches seen: 0.\n",
      "Epoch: 42. Batches seen: 5.\n",
      "Epoch: 42. Batches seen: 10.\n",
      "Epoch: 42. Batches seen: 15.\n",
      "Epoch: 42. Batches seen: 20.\n",
      "Epoch: 43. Batches seen: 0.\n",
      "Epoch: 43. Batches seen: 5.\n",
      "Epoch: 43. Batches seen: 10.\n",
      "Epoch: 43. Batches seen: 15.\n",
      "Epoch: 43. Batches seen: 20.\n",
      "Epoch: 44. Batches seen: 0.\n",
      "Epoch: 44. Batches seen: 5.\n",
      "Epoch: 44. Batches seen: 10.\n",
      "Epoch: 44. Batches seen: 15.\n",
      "Epoch: 44. Batches seen: 20.\n",
      "Epoch: 45. Batches seen: 0.\n",
      "Epoch: 45. Batches seen: 5.\n",
      "Epoch: 45. Batches seen: 10.\n",
      "Epoch: 45. Batches seen: 15.\n",
      "Epoch: 45. Batches seen: 20.\n",
      "Epoch: 46. Batches seen: 0.\n",
      "Epoch: 46. Batches seen: 5.\n",
      "Epoch: 46. Batches seen: 10.\n",
      "Epoch: 46. Batches seen: 15.\n",
      "Epoch: 46. Batches seen: 20.\n",
      "Epoch: 47. Batches seen: 0.\n",
      "Epoch: 47. Batches seen: 5.\n",
      "Epoch: 47. Batches seen: 10.\n",
      "Epoch: 47. Batches seen: 15.\n",
      "Epoch: 47. Batches seen: 20.\n",
      "Epoch: 48. Batches seen: 0.\n",
      "Epoch: 48. Batches seen: 5.\n",
      "Epoch: 48. Batches seen: 10.\n",
      "Epoch: 48. Batches seen: 15.\n",
      "Epoch: 48. Batches seen: 20.\n",
      "Epoch: 49. Batches seen: 0.\n",
      "Epoch: 49. Batches seen: 5.\n",
      "Epoch: 49. Batches seen: 10.\n",
      "Epoch: 49. Batches seen: 15.\n",
      "Epoch: 49. Batches seen: 20.\n",
      "Epoch: 50. Batches seen: 0.\n",
      "Epoch: 50. Batches seen: 5.\n",
      "Epoch: 50. Batches seen: 10.\n",
      "Epoch: 50. Batches seen: 15.\n",
      "Epoch: 50. Batches seen: 20.\n",
      "Epoch: 51. Batches seen: 0.\n",
      "Epoch: 51. Batches seen: 5.\n",
      "Epoch: 51. Batches seen: 10.\n",
      "Epoch: 51. Batches seen: 15.\n",
      "Epoch: 51. Batches seen: 20.\n",
      "Epoch: 52. Batches seen: 0.\n",
      "Epoch: 52. Batches seen: 5.\n",
      "Epoch: 52. Batches seen: 10.\n",
      "Epoch: 52. Batches seen: 15.\n",
      "Epoch: 52. Batches seen: 20.\n",
      "Epoch: 53. Batches seen: 0.\n",
      "Epoch: 53. Batches seen: 5.\n",
      "Epoch: 53. Batches seen: 10.\n"
     ]
    }
   ],
   "source": [
    "fake_images = []\n",
    "\n",
    "for epoch in range(epochs):\n",
    "    for batch_index, (real_images, labels) in enumerate(dataloader):\n",
    "        real_images = real_images.to(device)\n",
    "        noise = torch.randn((batch_size, z_dim, 1, 1)).to(device)\n",
    "        fake = gen(noise)\n",
    "        \n",
    "        # Train the discriminator max log(D(X)) + log(1 - (D(G(X))))\n",
    "        disc_real = disc(real_images).reshape(-1) # Flatten the output\n",
    "        loss_disc_real = loss_function(disc_real, torch.ones_like(disc_real))\n",
    "\n",
    "        disc_fake = disc(fake).reshape(-1)\n",
    "        loss_disc_fake = loss_function(disc_fake, torch.zeros_like(disc_fake))\n",
    "        \n",
    "        loss_disc = (loss_disc_real + loss_disc_fake) / 2\n",
    "        disc.zero_grad()\n",
    "        loss_disc.backward(retain_graph=True)\n",
    "        opt_disc.step()\n",
    "\n",
    "        # Train the Generator max log(D(G(z)))\n",
    "        output = disc(fake).reshape(-1)\n",
    "        loss_gen = loss_function(output, torch.ones_like(output))\n",
    "        gen.zero_grad()\n",
    "        loss_gen.backward()\n",
    "        opt_gen.step()\n",
    "\n",
    "        if batch_index % 5 == 0:\n",
    "            print(f'Epoch: {epoch}. Batches seen: {batch_index}.')\n",
    "            fake_images.append(fake)"
   ]
  },
  {
   "cell_type": "code",
   "execution_count": null,
   "id": "2795b4d7-408c-40e5-9347-f2e36538bb03",
   "metadata": {},
   "outputs": [],
   "source": [
    "fake_image = fake_images[-1]\n",
    "fake_image[10][0].shape"
   ]
  },
  {
   "cell_type": "code",
   "execution_count": null,
   "id": "c754a1be-efa1-4673-8fed-5d9b4768b6de",
   "metadata": {},
   "outputs": [],
   "source": [
    "print('Fake Generated Images:')\n",
    "\n",
    "for i in range(1, 16):\n",
    "    grid = plt.subplot(4, 4, i)\n",
    "    plt.axis(False)\n",
    "    plt.imshow(fake_image[i][0].squeeze(dim=0).cpu().detach().numpy(), cmap='gray')\n",
    "\n"
   ]
  },
  {
   "cell_type": "code",
   "execution_count": null,
   "id": "c18b27ba-8a4f-4ff3-a140-ff2685aacb23",
   "metadata": {},
   "outputs": [],
   "source": []
  }
 ],
 "metadata": {
  "kernelspec": {
   "display_name": "Python 3 (ipykernel)",
   "language": "python",
   "name": "python3"
  },
  "language_info": {
   "codemirror_mode": {
    "name": "ipython",
    "version": 3
   },
   "file_extension": ".py",
   "mimetype": "text/x-python",
   "name": "python",
   "nbconvert_exporter": "python",
   "pygments_lexer": "ipython3",
   "version": "3.9.7"
  }
 },
 "nbformat": 4,
 "nbformat_minor": 5
}
