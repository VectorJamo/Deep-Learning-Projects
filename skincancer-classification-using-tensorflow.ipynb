{
 "cells": [
  {
   "cell_type": "markdown",
   "id": "e822bdaa",
   "metadata": {
    "papermill": {
     "duration": 0.006586,
     "end_time": "2025-01-17T13:02:09.791001",
     "exception": false,
     "start_time": "2025-01-17T13:02:09.784415",
     "status": "completed"
    },
    "tags": []
   },
   "source": [
    "# Task Understanding"
   ]
  },
  {
   "cell_type": "markdown",
   "id": "fd978fd9",
   "metadata": {
    "papermill": {
     "duration": 0.004483,
     "end_time": "2025-01-17T13:02:09.800380",
     "exception": false,
     "start_time": "2025-01-17T13:02:09.795897",
     "status": "completed"
    },
    "tags": []
   },
   "source": [
    "Skin Cancer Detection"
   ]
  },
  {
   "cell_type": "markdown",
   "id": "63ad92c1",
   "metadata": {
    "papermill": {
     "duration": 0.004382,
     "end_time": "2025-01-17T13:02:09.809380",
     "exception": false,
     "start_time": "2025-01-17T13:02:09.804998",
     "status": "completed"
    },
    "tags": []
   },
   "source": [
    "# Importing Dependancies"
   ]
  },
  {
   "cell_type": "code",
   "execution_count": 1,
   "id": "7dd7f7d5",
   "metadata": {
    "execution": {
     "iopub.execute_input": "2025-01-17T13:02:09.819935Z",
     "iopub.status.busy": "2025-01-17T13:02:09.819548Z",
     "iopub.status.idle": "2025-01-17T13:02:26.799606Z",
     "shell.execute_reply": "2025-01-17T13:02:26.798905Z"
    },
    "papermill": {
     "duration": 16.987207,
     "end_time": "2025-01-17T13:02:26.801246",
     "exception": false,
     "start_time": "2025-01-17T13:02:09.814039",
     "status": "completed"
    },
    "tags": []
   },
   "outputs": [
    {
     "name": "stdout",
     "output_type": "stream",
     "text": [
      "Collecting Augmentor\r\n",
      "  Downloading Augmentor-0.2.12-py2.py3-none-any.whl.metadata (1.3 kB)\r\n",
      "Requirement already satisfied: Pillow>=5.2.0 in /usr/local/lib/python3.10/dist-packages (from Augmentor) (11.0.0)\r\n",
      "Requirement already satisfied: tqdm>=4.9.0 in /usr/local/lib/python3.10/dist-packages (from Augmentor) (4.67.1)\r\n",
      "Requirement already satisfied: numpy>=1.11.0 in /usr/local/lib/python3.10/dist-packages (from Augmentor) (1.26.4)\r\n",
      "Requirement already satisfied: mkl_fft in /usr/local/lib/python3.10/dist-packages (from numpy>=1.11.0->Augmentor) (1.3.8)\r\n",
      "Requirement already satisfied: mkl_random in /usr/local/lib/python3.10/dist-packages (from numpy>=1.11.0->Augmentor) (1.2.4)\r\n",
      "Requirement already satisfied: mkl_umath in /usr/local/lib/python3.10/dist-packages (from numpy>=1.11.0->Augmentor) (0.1.1)\r\n",
      "Requirement already satisfied: mkl in /usr/local/lib/python3.10/dist-packages (from numpy>=1.11.0->Augmentor) (2025.0.1)\r\n",
      "Requirement already satisfied: tbb4py in /usr/local/lib/python3.10/dist-packages (from numpy>=1.11.0->Augmentor) (2022.0.0)\r\n",
      "Requirement already satisfied: mkl-service in /usr/local/lib/python3.10/dist-packages (from numpy>=1.11.0->Augmentor) (2.4.1)\r\n",
      "Requirement already satisfied: intel-openmp>=2024 in /usr/local/lib/python3.10/dist-packages (from mkl->numpy>=1.11.0->Augmentor) (2024.2.0)\r\n",
      "Requirement already satisfied: tbb==2022.* in /usr/local/lib/python3.10/dist-packages (from mkl->numpy>=1.11.0->Augmentor) (2022.0.0)\r\n",
      "Requirement already satisfied: tcmlib==1.* in /usr/local/lib/python3.10/dist-packages (from tbb==2022.*->mkl->numpy>=1.11.0->Augmentor) (1.2.0)\r\n",
      "Requirement already satisfied: intel-cmplr-lib-rt in /usr/local/lib/python3.10/dist-packages (from mkl_umath->numpy>=1.11.0->Augmentor) (2024.2.0)\r\n",
      "Requirement already satisfied: intel-cmplr-lib-ur==2024.2.0 in /usr/local/lib/python3.10/dist-packages (from intel-openmp>=2024->mkl->numpy>=1.11.0->Augmentor) (2024.2.0)\r\n",
      "Downloading Augmentor-0.2.12-py2.py3-none-any.whl (38 kB)\r\n",
      "Installing collected packages: Augmentor\r\n",
      "Successfully installed Augmentor-0.2.12\r\n"
     ]
    }
   ],
   "source": [
    "!pip install Augmentor\n",
    "import Augmentor\n",
    "import os \n",
    "import pathlib\n",
    "import random\n",
    "import PIL\n",
    "import pandas as pd\n",
    "import matplotlib.pyplot as plt\n",
    "import matplotlib.image as img\n",
    "import tensorflow as tf\n",
    "\n",
    "from pathlib import Path\n",
    "from tensorflow import keras\n",
    "from tensorflow.keras import models, layers, optimizers, losses\n",
    "from tensorflow.keras.losses import SparseCategoricalCrossentropy\n",
    "from tensorflow.keras.metrics import Accuracy, Precision, Recall, F1Score, AUC\n",
    "from tensorflow.keras.metrics import TruePositives, TrueNegatives, FalsePositives, FalseNegatives\n",
    "from tensorflow.keras.callbacks import ModelCheckpoint, LearningRateScheduler"
   ]
  },
  {
   "cell_type": "markdown",
   "id": "1aa2fa39",
   "metadata": {
    "papermill": {
     "duration": 0.004767,
     "end_time": "2025-01-17T13:02:26.811391",
     "exception": false,
     "start_time": "2025-01-17T13:02:26.806624",
     "status": "completed"
    },
    "tags": []
   },
   "source": [
    "# Importing and Understanding the Data"
   ]
  },
  {
   "cell_type": "code",
   "execution_count": 2,
   "id": "a9360624",
   "metadata": {
    "execution": {
     "iopub.execute_input": "2025-01-17T13:02:26.822482Z",
     "iopub.status.busy": "2025-01-17T13:02:26.821830Z",
     "iopub.status.idle": "2025-01-17T13:02:26.826153Z",
     "shell.execute_reply": "2025-01-17T13:02:26.825370Z"
    },
    "papermill": {
     "duration": 0.011173,
     "end_time": "2025-01-17T13:02:26.827450",
     "exception": false,
     "start_time": "2025-01-17T13:02:26.816277",
     "status": "completed"
    },
    "tags": []
   },
   "outputs": [],
   "source": [
    "train_set_path = Path(\"datasets/Skin cancer ISIC The International Skin Imaging Collaboration/Train/\")\n",
    "test_set_path = Path(\"datasets/Skin cancer ISIC The International Skin Imaging Collaboration/Test/\")"
   ]
  },
  {
   "cell_type": "code",
   "execution_count": 3,
   "id": "9e62ff40",
   "metadata": {
    "execution": {
     "iopub.execute_input": "2025-01-17T13:02:26.837826Z",
     "iopub.status.busy": "2025-01-17T13:02:26.837595Z",
     "iopub.status.idle": "2025-01-17T13:02:26.977313Z",
     "shell.execute_reply": "2025-01-17T13:02:26.976387Z"
    },
    "papermill": {
     "duration": 0.146444,
     "end_time": "2025-01-17T13:02:26.978739",
     "exception": false,
     "start_time": "2025-01-17T13:02:26.832295",
     "status": "completed"
    },
    "tags": []
   },
   "outputs": [
    {
     "name": "stdout",
     "output_type": "stream",
     "text": [
      "2239\n",
      "118\n"
     ]
    }
   ],
   "source": [
    "# Finding total images in train and test sets\n",
    "total_train_img = len(list(train_set_path.glob('*/*.jpg')))\n",
    "print(total_train_img)\n",
    "\n",
    "total_test_img = len(list(test_set_path.glob('*/*.jpg')))\n",
    "print(total_test_img)"
   ]
  },
  {
   "cell_type": "code",
   "execution_count": 4,
   "id": "cd1518b0",
   "metadata": {
    "execution": {
     "iopub.execute_input": "2025-01-17T13:02:26.990028Z",
     "iopub.status.busy": "2025-01-17T13:02:26.989738Z",
     "iopub.status.idle": "2025-01-17T13:02:26.994503Z",
     "shell.execute_reply": "2025-01-17T13:02:26.993688Z"
    },
    "papermill": {
     "duration": 0.011472,
     "end_time": "2025-01-17T13:02:26.995653",
     "exception": false,
     "start_time": "2025-01-17T13:02:26.984181",
     "status": "completed"
    },
    "tags": []
   },
   "outputs": [
    {
     "name": "stdout",
     "output_type": "stream",
     "text": [
      "['pigmented benign keratosis', 'melanoma', 'vascular lesion', 'actinic keratosis', 'squamous cell carcinoma', 'basal cell carcinoma', 'seborrheic keratosis', 'dermatofibroma', 'nevus']\n"
     ]
    }
   ],
   "source": [
    "# Getting Class Names\n",
    "class_names = [folder.name for folder in train_set_path.iterdir() if folder.is_dir()]\n",
    "print(class_names)"
   ]
  },
  {
   "cell_type": "code",
   "execution_count": 5,
   "id": "c24052d8",
   "metadata": {
    "execution": {
     "iopub.execute_input": "2025-01-17T13:02:27.006772Z",
     "iopub.status.busy": "2025-01-17T13:02:27.006545Z",
     "iopub.status.idle": "2025-01-17T13:02:27.270721Z",
     "shell.execute_reply": "2025-01-17T13:02:27.269932Z"
    },
    "papermill": {
     "duration": 0.271535,
     "end_time": "2025-01-17T13:02:27.272358",
     "exception": false,
     "start_time": "2025-01-17T13:02:27.000823",
     "status": "completed"
    },
    "tags": []
   },
   "outputs": [
    {
     "name": "stdout",
     "output_type": "stream",
     "text": [
      "Class Name = pigmented benign keratosis\n",
      "Count = 462\n",
      "\n",
      "\n",
      "Class Name = melanoma\n",
      "Count = 438\n",
      "\n",
      "\n",
      "Class Name = vascular lesion\n",
      "Count = 139\n",
      "\n",
      "\n",
      "Class Name = actinic keratosis\n",
      "Count = 114\n",
      "\n",
      "\n",
      "Class Name = squamous cell carcinoma\n",
      "Count = 181\n",
      "\n",
      "\n",
      "Class Name = basal cell carcinoma\n",
      "Count = 376\n",
      "\n",
      "\n",
      "Class Name = seborrheic keratosis\n",
      "Count = 77\n",
      "\n",
      "\n",
      "Class Name = dermatofibroma\n",
      "Count = 95\n",
      "\n",
      "\n",
      "Class Name = nevus\n",
      "Count = 357\n",
      "\n",
      "\n"
     ]
    },
    {
     "data": {
      "image/png": "[encoded data removed]",
      "text/plain": [
       "<Figure size 1000x500 with 1 Axes>"
      ]
     },
     "metadata": {},
     "output_type": "display_data"
    }
   ],
   "source": [
    "all_count = []\n",
    "\n",
    "# Looping in all classes and counting number of images in all class directory\n",
    "for class_name in class_names:\n",
    "    count = len(list(train_set_path.glob(class_name + '/*.jpg')))\n",
    "    print(\"Class Name =\", class_name)\n",
    "    print(\"Count =\", count)\n",
    "    print(\"\\n\")\n",
    "    all_count.append(count)\n",
    "\n",
    "# Creating DataFrame for storing the counts and class names\n",
    "dataFrame = pd.DataFrame(list(zip(all_count, class_names)), columns=['count', 'class_name'])\n",
    "\n",
    "# Creating bar plot\n",
    "plt.figure(figsize=(10, 5))\n",
    "plt.bar(dataFrame['class_name'], dataFrame['count'])\n",
    "\n",
    "# Rotating x-axis labels for better readability\n",
    "plt.xticks(rotation=90)\n",
    "\n",
    "# Setting labels and title\n",
    "plt.xlabel('Class Name')\n",
    "plt.ylabel('Count')\n",
    "plt.title('Class Distribution')\n",
    "plt.show()"
   ]
  },
  {
   "cell_type": "markdown",
   "id": "ce705f44",
   "metadata": {
    "papermill": {
     "duration": 0.005488,
     "end_time": "2025-01-17T13:02:27.283752",
     "exception": false,
     "start_time": "2025-01-17T13:02:27.278264",
     "status": "completed"
    },
    "tags": []
   },
   "source": [
    "Every class has different number of images due to which class imbalance is there in data which may introduce biasness to the model"
   ]
  },
  {
   "cell_type": "markdown",
   "id": "0361947e",
   "metadata": {
    "papermill": {
     "duration": 0.005362,
     "end_time": "2025-01-17T13:02:27.294797",
     "exception": false,
     "start_time": "2025-01-17T13:02:27.289435",
     "status": "completed"
    },
    "tags": []
   },
   "source": [
    "# Fixing Class Imbalance"
   ]
  },
  {
   "cell_type": "code",
   "execution_count": 6,
   "id": "989104a4",
   "metadata": {
    "execution": {
     "iopub.execute_input": "2025-01-17T13:02:27.306906Z",
     "iopub.status.busy": "2025-01-17T13:02:27.306611Z",
     "iopub.status.idle": "2025-01-17T13:07:03.263468Z",
     "shell.execute_reply": "2025-01-17T13:07:03.262330Z"
    },
    "papermill": {
     "duration": 275.965037,
     "end_time": "2025-01-17T13:07:03.265410",
     "exception": false,
     "start_time": "2025-01-17T13:02:27.300373",
     "status": "completed"
    },
    "tags": []
   },
   "outputs": [
    {
     "name": "stdout",
     "output_type": "stream",
     "text": [
      "Initialised with 462 image(s) found.\n",
      "Output directory set to /kaggle/working/data/pigmented benign keratosis/output/."
     ]
    },
    {
     "name": "stderr",
     "output_type": "stream",
     "text": [
      "Processing <PIL.Image.Image image mode=RGB size=600x450 at 0x7A8CFADB7F70>: 100%|██████████| 1000/1000 [00:13<00:00, 72.20 Samples/s]\n"
     ]
    },
    {
     "name": "stdout",
     "output_type": "stream",
     "text": [
      "Initialised with 438 image(s) found.\n",
      "Output directory set to /kaggle/working/data/melanoma/output/."
     ]
    },
    {
     "name": "stderr",
     "output_type": "stream",
     "text": [
      "Processing <PIL.Image.Image image mode=RGB size=1024x768 at 0x7A8CFB4B26E0>: 100%|██████████| 1000/1000 [01:12<00:00, 13.74 Samples/s]\n"
     ]
    },
    {
     "name": "stdout",
     "output_type": "stream",
     "text": [
      "Initialised with 139 image(s) found.\n",
      "Output directory set to /kaggle/working/data/vascular lesion/output/."
     ]
    },
    {
     "name": "stderr",
     "output_type": "stream",
     "text": [
      "Processing <PIL.Image.Image image mode=RGB size=450x600 at 0x7A8CFBA1D180>: 100%|██████████| 1000/1000 [00:14<00:00, 71.12 Samples/s]\n"
     ]
    },
    {
     "name": "stdout",
     "output_type": "stream",
     "text": [
      "Initialised with 114 image(s) found.\n",
      "Output directory set to /kaggle/working/data/actinic keratosis/output/."
     ]
    },
    {
     "name": "stderr",
     "output_type": "stream",
     "text": [
      "Processing <PIL.Image.Image image mode=RGB size=600x450 at 0x7A8CFAD8A980>: 100%|██████████| 1000/1000 [00:13<00:00, 75.65 Samples/s]\n"
     ]
    },
    {
     "name": "stdout",
     "output_type": "stream",
     "text": [
      "Initialised with 181 image(s) found.\n",
      "Output directory set to /kaggle/working/data/squamous cell carcinoma/output/."
     ]
    },
    {
     "name": "stderr",
     "output_type": "stream",
     "text": [
      "Processing <PIL.Image.Image image mode=RGB size=600x450 at 0x7A8CFADB54E0>: 100%|██████████| 1000/1000 [00:14<00:00, 71.13 Samples/s]\n"
     ]
    },
    {
     "name": "stdout",
     "output_type": "stream",
     "text": [
      "Initialised with 376 image(s) found.\n",
      "Output directory set to /kaggle/working/data/basal cell carcinoma/output/."
     ]
    },
    {
     "name": "stderr",
     "output_type": "stream",
     "text": [
      "Processing <PIL.Image.Image image mode=RGB size=600x450 at 0x7A8CFA7A6BF0>: 100%|██████████| 1000/1000 [00:13<00:00, 76.08 Samples/s]\n"
     ]
    },
    {
     "name": "stdout",
     "output_type": "stream",
     "text": [
      "Initialised with 77 image(s) found.\n",
      "Output directory set to /kaggle/working/data/seborrheic keratosis/output/."
     ]
    },
    {
     "name": "stderr",
     "output_type": "stream",
     "text": [
      "Processing <PIL.Image.Image image mode=RGB size=768x1024 at 0x7A8CFAAB0220>: 100%|██████████| 1000/1000 [00:33<00:00, 30.03 Samples/s]\n"
     ]
    },
    {
     "name": "stdout",
     "output_type": "stream",
     "text": [
      "Initialised with 95 image(s) found.\n",
      "Output directory set to /kaggle/working/data/dermatofibroma/output/."
     ]
    },
    {
     "name": "stderr",
     "output_type": "stream",
     "text": [
      "Processing <PIL.JpegImagePlugin.JpegImageFile image mode=RGB size=600x450 at 0x7A8CFADB5CF0>: 100%|██████████| 1000/1000 [00:13<00:00, 71.61 Samples/s]\n"
     ]
    },
    {
     "name": "stdout",
     "output_type": "stream",
     "text": [
      "Initialised with 357 image(s) found.\n",
      "Output directory set to /kaggle/working/data/nevus/output/."
     ]
    },
    {
     "name": "stderr",
     "output_type": "stream",
     "text": [
      "Processing <PIL.Image.Image image mode=RGB size=600x450 at 0x7A8D57857F70>: 100%|██████████| 1000/1000 [01:10<00:00, 14.18 Samples/s]\n"
     ]
    }
   ],
   "source": [
    "for i in class_names:\n",
    "    p = Augmentor.Pipeline(train_set_path / i, output_directory='/kaggle/working/data/' + i + '/output/')\n",
    "    p.rotate(probability=0.8, max_left_rotation=10, max_right_rotation=10)\n",
    "    p.rotate90(probability=0.1)\n",
    "    p.flip_left_right(probability=0.4)\n",
    "    p.flip_top_bottom(probability=0.4)\n",
    "    p.sample(1000)"
   ]
  },
  {
   "cell_type": "code",
   "execution_count": 7,
   "id": "3d59d8c1",
   "metadata": {
    "execution": {
     "iopub.execute_input": "2025-01-17T13:07:04.244313Z",
     "iopub.status.busy": "2025-01-17T13:07:04.243803Z",
     "iopub.status.idle": "2025-01-17T13:07:04.271652Z",
     "shell.execute_reply": "2025-01-17T13:07:04.270897Z"
    },
    "papermill": {
     "duration": 0.487737,
     "end_time": "2025-01-17T13:07:04.272830",
     "exception": false,
     "start_time": "2025-01-17T13:07:03.785093",
     "status": "completed"
    },
    "tags": []
   },
   "outputs": [
    {
     "name": "stdout",
     "output_type": "stream",
     "text": [
      "9000\n"
     ]
    }
   ],
   "source": [
    "output_dir = pathlib.Path('/kaggle/working/data/')\n",
    "image_count_train = len(list(output_dir.glob('*/output/*.jpg')))\n",
    "print(image_count_train)"
   ]
  },
  {
   "cell_type": "code",
   "execution_count": 8,
   "id": "5725f7bc",
   "metadata": {
    "execution": {
     "iopub.execute_input": "2025-01-17T13:07:05.273602Z",
     "iopub.status.busy": "2025-01-17T13:07:05.273271Z",
     "iopub.status.idle": "2025-01-17T13:07:05.484710Z",
     "shell.execute_reply": "2025-01-17T13:07:05.483830Z"
    },
    "papermill": {
     "duration": 0.754267,
     "end_time": "2025-01-17T13:07:05.486022",
     "exception": false,
     "start_time": "2025-01-17T13:07:04.731755",
     "status": "completed"
    },
    "tags": []
   },
   "outputs": [
    {
     "name": "stdout",
     "output_type": "stream",
     "text": [
      "Class Name = pigmented benign keratosis\n",
      "Count = 1000\n",
      "\n",
      "\n",
      "Class Name = melanoma\n",
      "Count = 1000\n",
      "\n",
      "\n",
      "Class Name = vascular lesion\n",
      "Count = 1000\n",
      "\n",
      "\n",
      "Class Name = actinic keratosis\n",
      "Count = 1000\n",
      "\n",
      "\n",
      "Class Name = squamous cell carcinoma\n",
      "Count = 1000\n",
      "\n",
      "\n",
      "Class Name = basal cell carcinoma\n",
      "Count = 1000\n",
      "\n",
      "\n",
      "Class Name = seborrheic keratosis\n",
      "Count = 1000\n",
      "\n",
      "\n",
      "Class Name = dermatofibroma\n",
      "Count = 1000\n",
      "\n",
      "\n",
      "Class Name = nevus\n",
      "Count = 1000\n",
      "\n",
      "\n"
     ]
    },
    {
     "data": {
      "image/png": "[encoded data removed]",
      "text/plain": [
       "<Figure size 1000x500 with 1 Axes>"
      ]
     },
     "metadata": {},
     "output_type": "display_data"
    }
   ],
   "source": [
    "# Counting the total number of images in the output directories after augmentation\n",
    "all_count = []\n",
    "\n",
    "# Looping through each class and counting the augmented images inside the output subdirectories\n",
    "for class_name in class_names:\n",
    "    count = len(list(output_dir.glob(f'{class_name}/output/*.jpg')))\n",
    "    print(\"Class Name =\", class_name)\n",
    "    print(\"Count =\", count)\n",
    "    print(\"\\n\")\n",
    "    all_count.append(count)\n",
    "\n",
    "# Creating DataFrame for storing the counts and class names\n",
    "dataFrame = pd.DataFrame(list(zip(all_count, class_names)), columns=['count', 'class_name'])\n",
    "\n",
    "# Creating bar plot for class distribution of augmented images\n",
    "plt.figure(figsize=(10, 5))\n",
    "plt.bar(dataFrame['class_name'], dataFrame['count'])\n",
    "\n",
    "# Rotating x-axis labels for better readability\n",
    "plt.xticks(rotation=90)\n",
    "\n",
    "# Setting labels and title for the plot\n",
    "plt.xlabel('Class Name')\n",
    "plt.ylabel('Count')\n",
    "plt.title('Augmented Image Distribution')\n",
    "plt.show()\n"
   ]
  },
  {
   "cell_type": "markdown",
   "id": "80c587f1",
   "metadata": {
    "papermill": {
     "duration": 0.501076,
     "end_time": "2025-01-17T13:07:06.447675",
     "exception": false,
     "start_time": "2025-01-17T13:07:05.946599",
     "status": "completed"
    },
    "tags": []
   },
   "source": [
    "# Preparing the Data"
   ]
  },
  {
   "cell_type": "code",
   "execution_count": 9,
   "id": "507128b9",
   "metadata": {
    "execution": {
     "iopub.execute_input": "2025-01-17T13:07:07.419255Z",
     "iopub.status.busy": "2025-01-17T13:07:07.418941Z",
     "iopub.status.idle": "2025-01-17T13:07:07.422728Z",
     "shell.execute_reply": "2025-01-17T13:07:07.422049Z"
    },
    "papermill": {
     "duration": 0.5193,
     "end_time": "2025-01-17T13:07:07.423944",
     "exception": false,
     "start_time": "2025-01-17T13:07:06.904644",
     "status": "completed"
    },
    "tags": []
   },
   "outputs": [],
   "source": [
    "batch_size = 32\n",
    "img_width = 224\n",
    "img_height = 224\n",
    "random_seed = 123\n",
    "random.seed(random_seed)\n",
    "num_classes = len(class_names)"
   ]
  },
  {
   "cell_type": "code",
   "execution_count": 10,
   "id": "01066993",
   "metadata": {
    "execution": {
     "iopub.execute_input": "2025-01-17T13:07:08.335579Z",
     "iopub.status.busy": "2025-01-17T13:07:08.335296Z",
     "iopub.status.idle": "2025-01-17T13:07:11.190656Z",
     "shell.execute_reply": "2025-01-17T13:07:11.189983Z"
    },
    "papermill": {
     "duration": 3.311067,
     "end_time": "2025-01-17T13:07:11.192158",
     "exception": false,
     "start_time": "2025-01-17T13:07:07.881091",
     "status": "completed"
    },
    "tags": []
   },
   "outputs": [
    {
     "name": "stdout",
     "output_type": "stream",
     "text": [
      "Found 9000 files belonging to 9 classes.\n",
      "Using 7200 files for training.\n"
     ]
    }
   ],
   "source": [
    "train_set = tf.keras.preprocessing.image_dataset_from_directory(\n",
    "    output_dir,\n",
    "    seed = 123,\n",
    "    validation_split = 0.2,\n",
    "    subset = 'training',\n",
    "    image_size = (img_height, img_width),\n",
    "    batch_size = batch_size\n",
    ")"
   ]
  },
  {
   "cell_type": "code",
   "execution_count": 11,
   "id": "5eac93e1",
   "metadata": {
    "execution": {
     "iopub.execute_input": "2025-01-17T13:07:12.156093Z",
     "iopub.status.busy": "2025-01-17T13:07:12.155754Z",
     "iopub.status.idle": "2025-01-17T13:07:12.598914Z",
     "shell.execute_reply": "2025-01-17T13:07:12.598174Z"
    },
    "papermill": {
     "duration": 0.901765,
     "end_time": "2025-01-17T13:07:12.600430",
     "exception": false,
     "start_time": "2025-01-17T13:07:11.698665",
     "status": "completed"
    },
    "tags": []
   },
   "outputs": [
    {
     "name": "stdout",
     "output_type": "stream",
     "text": [
      "Found 9000 files belonging to 9 classes.\n",
      "Using 1800 files for validation.\n"
     ]
    }
   ],
   "source": [
    "validation_set = tf.keras.preprocessing.image_dataset_from_directory(\n",
    "    output_dir,\n",
    "    seed = 123,\n",
    "    validation_split = 0.2,\n",
    "    subset = 'validation',\n",
    "    image_size = (img_height, img_width),\n",
    "    batch_size = batch_size\n",
    ")"
   ]
  },
  {
   "cell_type": "code",
   "execution_count": 12,
   "id": "01b8761a",
   "metadata": {
    "execution": {
     "iopub.execute_input": "2025-01-17T13:07:13.565167Z",
     "iopub.status.busy": "2025-01-17T13:07:13.564792Z",
     "iopub.status.idle": "2025-01-17T13:07:13.623049Z",
     "shell.execute_reply": "2025-01-17T13:07:13.622156Z"
    },
    "papermill": {
     "duration": 0.515498,
     "end_time": "2025-01-17T13:07:13.624597",
     "exception": false,
     "start_time": "2025-01-17T13:07:13.109099",
     "status": "completed"
    },
    "tags": []
   },
   "outputs": [
    {
     "name": "stdout",
     "output_type": "stream",
     "text": [
      "Found 118 files belonging to 9 classes.\n",
      "Using 106 files for validation.\n"
     ]
    }
   ],
   "source": [
    "test_set = tf.keras.preprocessing.image_dataset_from_directory(\n",
    "    test_set_path,\n",
    "    seed = 123,\n",
    "    validation_split = 0.9,\n",
    "    subset = 'validation',\n",
    "    image_size = (img_height, img_width),\n",
    "    batch_size = batch_size\n",
    ")"
   ]
  },
  {
   "cell_type": "markdown",
   "id": "40981576",
   "metadata": {
    "papermill": {
     "duration": 0.45375,
     "end_time": "2025-01-17T13:07:14.587165",
     "exception": false,
     "start_time": "2025-01-17T13:07:14.133415",
     "status": "completed"
    },
    "tags": []
   },
   "source": [
    "# Model Building"
   ]
  },
  {
   "cell_type": "code",
   "execution_count": 13,
   "id": "18138de9",
   "metadata": {
    "execution": {
     "iopub.execute_input": "2025-01-17T13:07:15.578213Z",
     "iopub.status.busy": "2025-01-17T13:07:15.577706Z",
     "iopub.status.idle": "2025-01-17T13:07:17.147121Z",
     "shell.execute_reply": "2025-01-17T13:07:17.146277Z"
    },
    "papermill": {
     "duration": 2.025106,
     "end_time": "2025-01-17T13:07:17.148407",
     "exception": false,
     "start_time": "2025-01-17T13:07:15.123301",
     "status": "completed"
    },
    "tags": []
   },
   "outputs": [
    {
     "name": "stderr",
     "output_type": "stream",
     "text": [
      "/usr/local/lib/python3.10/dist-packages/keras/src/layers/preprocessing/tf_data_layer.py:19: UserWarning: Do not pass an `input_shape`/`input_dim` argument to a layer. When using Sequential models, prefer using an `Input(shape)` object as the first layer in the model instead.\n",
      "  super().__init__(**kwargs)\n"
     ]
    },
    {
     "data": {
      "text/html": [
       "<pre style=\"white-space:pre;overflow-x:auto;line-height:normal;font-family:Menlo,'DejaVu Sans Mono',consolas,'Courier New',monospace\"><span style=\"font-weight: bold\">Model: \"sequential\"</span>\n",
       "</pre>\n"
      ],
      "text/plain": [
       "\u001b[1mModel: \"sequential\"\u001b[0m\n"
      ]
     },
     "metadata": {},
     "output_type": "display_data"
    },
    {
     "data": {
      "text/html": [
       "<pre style=\"white-space:pre;overflow-x:auto;line-height:normal;font-family:Menlo,'DejaVu Sans Mono',consolas,'Courier New',monospace\">┏━━━━━━━━━━━━━━━━━━━━━━━━━━━━━━━━━━━━━━┳━━━━━━━━━━━━━━━━━━━━━━━━━━━━━┳━━━━━━━━━━━━━━━━━┓\n",
       "┃<span style=\"font-weight: bold\"> Layer (type)                         </span>┃<span style=\"font-weight: bold\"> Output Shape                </span>┃<span style=\"font-weight: bold\">         Param # </span>┃\n",
       "┡━━━━━━━━━━━━━━━━━━━━━━━━━━━━━━━━━━━━━━╇━━━━━━━━━━━━━━━━━━━━━━━━━━━━━╇━━━━━━━━━━━━━━━━━┩\n",
       "│ rescaling (<span style=\"color: #0087ff; text-decoration-color: #0087ff\">Rescaling</span>)                │ (<span style=\"color: #00d7ff; text-decoration-color: #00d7ff\">None</span>, <span style=\"color: #00af00; text-decoration-color: #00af00\">224</span>, <span style=\"color: #00af00; text-decoration-color: #00af00\">224</span>, <span style=\"color: #00af00; text-decoration-color: #00af00\">3</span>)         │               <span style=\"color: #00af00; text-decoration-color: #00af00\">0</span> │\n",
       "├──────────────────────────────────────┼─────────────────────────────┼─────────────────┤\n",
       "│ conv2d (<span style=\"color: #0087ff; text-decoration-color: #0087ff\">Conv2D</span>)                      │ (<span style=\"color: #00d7ff; text-decoration-color: #00d7ff\">None</span>, <span style=\"color: #00af00; text-decoration-color: #00af00\">224</span>, <span style=\"color: #00af00; text-decoration-color: #00af00\">224</span>, <span style=\"color: #00af00; text-decoration-color: #00af00\">64</span>)        │           <span style=\"color: #00af00; text-decoration-color: #00af00\">1,792</span> │\n",
       "├──────────────────────────────────────┼─────────────────────────────┼─────────────────┤\n",
       "│ batch_normalization                  │ (<span style=\"color: #00d7ff; text-decoration-color: #00d7ff\">None</span>, <span style=\"color: #00af00; text-decoration-color: #00af00\">224</span>, <span style=\"color: #00af00; text-decoration-color: #00af00\">224</span>, <span style=\"color: #00af00; text-decoration-color: #00af00\">64</span>)        │             <span style=\"color: #00af00; text-decoration-color: #00af00\">256</span> │\n",
       "│ (<span style=\"color: #0087ff; text-decoration-color: #0087ff\">BatchNormalization</span>)                 │                             │                 │\n",
       "├──────────────────────────────────────┼─────────────────────────────┼─────────────────┤\n",
       "│ activation (<span style=\"color: #0087ff; text-decoration-color: #0087ff\">Activation</span>)              │ (<span style=\"color: #00d7ff; text-decoration-color: #00d7ff\">None</span>, <span style=\"color: #00af00; text-decoration-color: #00af00\">224</span>, <span style=\"color: #00af00; text-decoration-color: #00af00\">224</span>, <span style=\"color: #00af00; text-decoration-color: #00af00\">64</span>)        │               <span style=\"color: #00af00; text-decoration-color: #00af00\">0</span> │\n",
       "├──────────────────────────────────────┼─────────────────────────────┼─────────────────┤\n",
       "│ conv2d_1 (<span style=\"color: #0087ff; text-decoration-color: #0087ff\">Conv2D</span>)                    │ (<span style=\"color: #00d7ff; text-decoration-color: #00d7ff\">None</span>, <span style=\"color: #00af00; text-decoration-color: #00af00\">224</span>, <span style=\"color: #00af00; text-decoration-color: #00af00\">224</span>, <span style=\"color: #00af00; text-decoration-color: #00af00\">64</span>)        │          <span style=\"color: #00af00; text-decoration-color: #00af00\">36,928</span> │\n",
       "├──────────────────────────────────────┼─────────────────────────────┼─────────────────┤\n",
       "│ batch_normalization_1                │ (<span style=\"color: #00d7ff; text-decoration-color: #00d7ff\">None</span>, <span style=\"color: #00af00; text-decoration-color: #00af00\">224</span>, <span style=\"color: #00af00; text-decoration-color: #00af00\">224</span>, <span style=\"color: #00af00; text-decoration-color: #00af00\">64</span>)        │             <span style=\"color: #00af00; text-decoration-color: #00af00\">256</span> │\n",
       "│ (<span style=\"color: #0087ff; text-decoration-color: #0087ff\">BatchNormalization</span>)                 │                             │                 │\n",
       "├──────────────────────────────────────┼─────────────────────────────┼─────────────────┤\n",
       "│ activation_1 (<span style=\"color: #0087ff; text-decoration-color: #0087ff\">Activation</span>)            │ (<span style=\"color: #00d7ff; text-decoration-color: #00d7ff\">None</span>, <span style=\"color: #00af00; text-decoration-color: #00af00\">224</span>, <span style=\"color: #00af00; text-decoration-color: #00af00\">224</span>, <span style=\"color: #00af00; text-decoration-color: #00af00\">64</span>)        │               <span style=\"color: #00af00; text-decoration-color: #00af00\">0</span> │\n",
       "├──────────────────────────────────────┼─────────────────────────────┼─────────────────┤\n",
       "│ conv2d_2 (<span style=\"color: #0087ff; text-decoration-color: #0087ff\">Conv2D</span>)                    │ (<span style=\"color: #00d7ff; text-decoration-color: #00d7ff\">None</span>, <span style=\"color: #00af00; text-decoration-color: #00af00\">224</span>, <span style=\"color: #00af00; text-decoration-color: #00af00\">224</span>, <span style=\"color: #00af00; text-decoration-color: #00af00\">64</span>)        │          <span style=\"color: #00af00; text-decoration-color: #00af00\">36,928</span> │\n",
       "├──────────────────────────────────────┼─────────────────────────────┼─────────────────┤\n",
       "│ batch_normalization_2                │ (<span style=\"color: #00d7ff; text-decoration-color: #00d7ff\">None</span>, <span style=\"color: #00af00; text-decoration-color: #00af00\">224</span>, <span style=\"color: #00af00; text-decoration-color: #00af00\">224</span>, <span style=\"color: #00af00; text-decoration-color: #00af00\">64</span>)        │             <span style=\"color: #00af00; text-decoration-color: #00af00\">256</span> │\n",
       "│ (<span style=\"color: #0087ff; text-decoration-color: #0087ff\">BatchNormalization</span>)                 │                             │                 │\n",
       "├──────────────────────────────────────┼─────────────────────────────┼─────────────────┤\n",
       "│ activation_2 (<span style=\"color: #0087ff; text-decoration-color: #0087ff\">Activation</span>)            │ (<span style=\"color: #00d7ff; text-decoration-color: #00d7ff\">None</span>, <span style=\"color: #00af00; text-decoration-color: #00af00\">224</span>, <span style=\"color: #00af00; text-decoration-color: #00af00\">224</span>, <span style=\"color: #00af00; text-decoration-color: #00af00\">64</span>)        │               <span style=\"color: #00af00; text-decoration-color: #00af00\">0</span> │\n",
       "├──────────────────────────────────────┼─────────────────────────────┼─────────────────┤\n",
       "│ max_pooling2d (<span style=\"color: #0087ff; text-decoration-color: #0087ff\">MaxPooling2D</span>)         │ (<span style=\"color: #00d7ff; text-decoration-color: #00d7ff\">None</span>, <span style=\"color: #00af00; text-decoration-color: #00af00\">112</span>, <span style=\"color: #00af00; text-decoration-color: #00af00\">112</span>, <span style=\"color: #00af00; text-decoration-color: #00af00\">64</span>)        │               <span style=\"color: #00af00; text-decoration-color: #00af00\">0</span> │\n",
       "├──────────────────────────────────────┼─────────────────────────────┼─────────────────┤\n",
       "│ conv2d_3 (<span style=\"color: #0087ff; text-decoration-color: #0087ff\">Conv2D</span>)                    │ (<span style=\"color: #00d7ff; text-decoration-color: #00d7ff\">None</span>, <span style=\"color: #00af00; text-decoration-color: #00af00\">112</span>, <span style=\"color: #00af00; text-decoration-color: #00af00\">112</span>, <span style=\"color: #00af00; text-decoration-color: #00af00\">128</span>)       │          <span style=\"color: #00af00; text-decoration-color: #00af00\">73,856</span> │\n",
       "├──────────────────────────────────────┼─────────────────────────────┼─────────────────┤\n",
       "│ batch_normalization_3                │ (<span style=\"color: #00d7ff; text-decoration-color: #00d7ff\">None</span>, <span style=\"color: #00af00; text-decoration-color: #00af00\">112</span>, <span style=\"color: #00af00; text-decoration-color: #00af00\">112</span>, <span style=\"color: #00af00; text-decoration-color: #00af00\">128</span>)       │             <span style=\"color: #00af00; text-decoration-color: #00af00\">512</span> │\n",
       "│ (<span style=\"color: #0087ff; text-decoration-color: #0087ff\">BatchNormalization</span>)                 │                             │                 │\n",
       "├──────────────────────────────────────┼─────────────────────────────┼─────────────────┤\n",
       "│ activation_3 (<span style=\"color: #0087ff; text-decoration-color: #0087ff\">Activation</span>)            │ (<span style=\"color: #00d7ff; text-decoration-color: #00d7ff\">None</span>, <span style=\"color: #00af00; text-decoration-color: #00af00\">112</span>, <span style=\"color: #00af00; text-decoration-color: #00af00\">112</span>, <span style=\"color: #00af00; text-decoration-color: #00af00\">128</span>)       │               <span style=\"color: #00af00; text-decoration-color: #00af00\">0</span> │\n",
       "├──────────────────────────────────────┼─────────────────────────────┼─────────────────┤\n",
       "│ conv2d_4 (<span style=\"color: #0087ff; text-decoration-color: #0087ff\">Conv2D</span>)                    │ (<span style=\"color: #00d7ff; text-decoration-color: #00d7ff\">None</span>, <span style=\"color: #00af00; text-decoration-color: #00af00\">112</span>, <span style=\"color: #00af00; text-decoration-color: #00af00\">112</span>, <span style=\"color: #00af00; text-decoration-color: #00af00\">128</span>)       │         <span style=\"color: #00af00; text-decoration-color: #00af00\">147,584</span> │\n",
       "├──────────────────────────────────────┼─────────────────────────────┼─────────────────┤\n",
       "│ batch_normalization_4                │ (<span style=\"color: #00d7ff; text-decoration-color: #00d7ff\">None</span>, <span style=\"color: #00af00; text-decoration-color: #00af00\">112</span>, <span style=\"color: #00af00; text-decoration-color: #00af00\">112</span>, <span style=\"color: #00af00; text-decoration-color: #00af00\">128</span>)       │             <span style=\"color: #00af00; text-decoration-color: #00af00\">512</span> │\n",
       "│ (<span style=\"color: #0087ff; text-decoration-color: #0087ff\">BatchNormalization</span>)                 │                             │                 │\n",
       "├──────────────────────────────────────┼─────────────────────────────┼─────────────────┤\n",
       "│ activation_4 (<span style=\"color: #0087ff; text-decoration-color: #0087ff\">Activation</span>)            │ (<span style=\"color: #00d7ff; text-decoration-color: #00d7ff\">None</span>, <span style=\"color: #00af00; text-decoration-color: #00af00\">112</span>, <span style=\"color: #00af00; text-decoration-color: #00af00\">112</span>, <span style=\"color: #00af00; text-decoration-color: #00af00\">128</span>)       │               <span style=\"color: #00af00; text-decoration-color: #00af00\">0</span> │\n",
       "├──────────────────────────────────────┼─────────────────────────────┼─────────────────┤\n",
       "│ conv2d_5 (<span style=\"color: #0087ff; text-decoration-color: #0087ff\">Conv2D</span>)                    │ (<span style=\"color: #00d7ff; text-decoration-color: #00d7ff\">None</span>, <span style=\"color: #00af00; text-decoration-color: #00af00\">112</span>, <span style=\"color: #00af00; text-decoration-color: #00af00\">112</span>, <span style=\"color: #00af00; text-decoration-color: #00af00\">128</span>)       │         <span style=\"color: #00af00; text-decoration-color: #00af00\">147,584</span> │\n",
       "├──────────────────────────────────────┼─────────────────────────────┼─────────────────┤\n",
       "│ batch_normalization_5                │ (<span style=\"color: #00d7ff; text-decoration-color: #00d7ff\">None</span>, <span style=\"color: #00af00; text-decoration-color: #00af00\">112</span>, <span style=\"color: #00af00; text-decoration-color: #00af00\">112</span>, <span style=\"color: #00af00; text-decoration-color: #00af00\">128</span>)       │             <span style=\"color: #00af00; text-decoration-color: #00af00\">512</span> │\n",
       "│ (<span style=\"color: #0087ff; text-decoration-color: #0087ff\">BatchNormalization</span>)                 │                             │                 │\n",
       "├──────────────────────────────────────┼─────────────────────────────┼─────────────────┤\n",
       "│ activation_5 (<span style=\"color: #0087ff; text-decoration-color: #0087ff\">Activation</span>)            │ (<span style=\"color: #00d7ff; text-decoration-color: #00d7ff\">None</span>, <span style=\"color: #00af00; text-decoration-color: #00af00\">112</span>, <span style=\"color: #00af00; text-decoration-color: #00af00\">112</span>, <span style=\"color: #00af00; text-decoration-color: #00af00\">128</span>)       │               <span style=\"color: #00af00; text-decoration-color: #00af00\">0</span> │\n",
       "├──────────────────────────────────────┼─────────────────────────────┼─────────────────┤\n",
       "│ conv2d_6 (<span style=\"color: #0087ff; text-decoration-color: #0087ff\">Conv2D</span>)                    │ (<span style=\"color: #00d7ff; text-decoration-color: #00d7ff\">None</span>, <span style=\"color: #00af00; text-decoration-color: #00af00\">112</span>, <span style=\"color: #00af00; text-decoration-color: #00af00\">112</span>, <span style=\"color: #00af00; text-decoration-color: #00af00\">128</span>)       │         <span style=\"color: #00af00; text-decoration-color: #00af00\">147,584</span> │\n",
       "├──────────────────────────────────────┼─────────────────────────────┼─────────────────┤\n",
       "│ batch_normalization_6                │ (<span style=\"color: #00d7ff; text-decoration-color: #00d7ff\">None</span>, <span style=\"color: #00af00; text-decoration-color: #00af00\">112</span>, <span style=\"color: #00af00; text-decoration-color: #00af00\">112</span>, <span style=\"color: #00af00; text-decoration-color: #00af00\">128</span>)       │             <span style=\"color: #00af00; text-decoration-color: #00af00\">512</span> │\n",
       "│ (<span style=\"color: #0087ff; text-decoration-color: #0087ff\">BatchNormalization</span>)                 │                             │                 │\n",
       "├──────────────────────────────────────┼─────────────────────────────┼─────────────────┤\n",
       "│ activation_6 (<span style=\"color: #0087ff; text-decoration-color: #0087ff\">Activation</span>)            │ (<span style=\"color: #00d7ff; text-decoration-color: #00d7ff\">None</span>, <span style=\"color: #00af00; text-decoration-color: #00af00\">112</span>, <span style=\"color: #00af00; text-decoration-color: #00af00\">112</span>, <span style=\"color: #00af00; text-decoration-color: #00af00\">128</span>)       │               <span style=\"color: #00af00; text-decoration-color: #00af00\">0</span> │\n",
       "├──────────────────────────────────────┼─────────────────────────────┼─────────────────┤\n",
       "│ conv2d_7 (<span style=\"color: #0087ff; text-decoration-color: #0087ff\">Conv2D</span>)                    │ (<span style=\"color: #00d7ff; text-decoration-color: #00d7ff\">None</span>, <span style=\"color: #00af00; text-decoration-color: #00af00\">112</span>, <span style=\"color: #00af00; text-decoration-color: #00af00\">112</span>, <span style=\"color: #00af00; text-decoration-color: #00af00\">128</span>)       │         <span style=\"color: #00af00; text-decoration-color: #00af00\">147,584</span> │\n",
       "├──────────────────────────────────────┼─────────────────────────────┼─────────────────┤\n",
       "│ batch_normalization_7                │ (<span style=\"color: #00d7ff; text-decoration-color: #00d7ff\">None</span>, <span style=\"color: #00af00; text-decoration-color: #00af00\">112</span>, <span style=\"color: #00af00; text-decoration-color: #00af00\">112</span>, <span style=\"color: #00af00; text-decoration-color: #00af00\">128</span>)       │             <span style=\"color: #00af00; text-decoration-color: #00af00\">512</span> │\n",
       "│ (<span style=\"color: #0087ff; text-decoration-color: #0087ff\">BatchNormalization</span>)                 │                             │                 │\n",
       "├──────────────────────────────────────┼─────────────────────────────┼─────────────────┤\n",
       "│ activation_7 (<span style=\"color: #0087ff; text-decoration-color: #0087ff\">Activation</span>)            │ (<span style=\"color: #00d7ff; text-decoration-color: #00d7ff\">None</span>, <span style=\"color: #00af00; text-decoration-color: #00af00\">112</span>, <span style=\"color: #00af00; text-decoration-color: #00af00\">112</span>, <span style=\"color: #00af00; text-decoration-color: #00af00\">128</span>)       │               <span style=\"color: #00af00; text-decoration-color: #00af00\">0</span> │\n",
       "├──────────────────────────────────────┼─────────────────────────────┼─────────────────┤\n",
       "│ conv2d_8 (<span style=\"color: #0087ff; text-decoration-color: #0087ff\">Conv2D</span>)                    │ (<span style=\"color: #00d7ff; text-decoration-color: #00d7ff\">None</span>, <span style=\"color: #00af00; text-decoration-color: #00af00\">112</span>, <span style=\"color: #00af00; text-decoration-color: #00af00\">112</span>, <span style=\"color: #00af00; text-decoration-color: #00af00\">128</span>)       │         <span style=\"color: #00af00; text-decoration-color: #00af00\">147,584</span> │\n",
       "├──────────────────────────────────────┼─────────────────────────────┼─────────────────┤\n",
       "│ batch_normalization_8                │ (<span style=\"color: #00d7ff; text-decoration-color: #00d7ff\">None</span>, <span style=\"color: #00af00; text-decoration-color: #00af00\">112</span>, <span style=\"color: #00af00; text-decoration-color: #00af00\">112</span>, <span style=\"color: #00af00; text-decoration-color: #00af00\">128</span>)       │             <span style=\"color: #00af00; text-decoration-color: #00af00\">512</span> │\n",
       "│ (<span style=\"color: #0087ff; text-decoration-color: #0087ff\">BatchNormalization</span>)                 │                             │                 │\n",
       "├──────────────────────────────────────┼─────────────────────────────┼─────────────────┤\n",
       "│ activation_8 (<span style=\"color: #0087ff; text-decoration-color: #0087ff\">Activation</span>)            │ (<span style=\"color: #00d7ff; text-decoration-color: #00d7ff\">None</span>, <span style=\"color: #00af00; text-decoration-color: #00af00\">112</span>, <span style=\"color: #00af00; text-decoration-color: #00af00\">112</span>, <span style=\"color: #00af00; text-decoration-color: #00af00\">128</span>)       │               <span style=\"color: #00af00; text-decoration-color: #00af00\">0</span> │\n",
       "├──────────────────────────────────────┼─────────────────────────────┼─────────────────┤\n",
       "│ max_pooling2d_1 (<span style=\"color: #0087ff; text-decoration-color: #0087ff\">MaxPooling2D</span>)       │ (<span style=\"color: #00d7ff; text-decoration-color: #00d7ff\">None</span>, <span style=\"color: #00af00; text-decoration-color: #00af00\">56</span>, <span style=\"color: #00af00; text-decoration-color: #00af00\">56</span>, <span style=\"color: #00af00; text-decoration-color: #00af00\">128</span>)         │               <span style=\"color: #00af00; text-decoration-color: #00af00\">0</span> │\n",
       "├──────────────────────────────────────┼─────────────────────────────┼─────────────────┤\n",
       "│ conv2d_9 (<span style=\"color: #0087ff; text-decoration-color: #0087ff\">Conv2D</span>)                    │ (<span style=\"color: #00d7ff; text-decoration-color: #00d7ff\">None</span>, <span style=\"color: #00af00; text-decoration-color: #00af00\">56</span>, <span style=\"color: #00af00; text-decoration-color: #00af00\">56</span>, <span style=\"color: #00af00; text-decoration-color: #00af00\">256</span>)         │         <span style=\"color: #00af00; text-decoration-color: #00af00\">295,168</span> │\n",
       "├──────────────────────────────────────┼─────────────────────────────┼─────────────────┤\n",
       "│ batch_normalization_9                │ (<span style=\"color: #00d7ff; text-decoration-color: #00d7ff\">None</span>, <span style=\"color: #00af00; text-decoration-color: #00af00\">56</span>, <span style=\"color: #00af00; text-decoration-color: #00af00\">56</span>, <span style=\"color: #00af00; text-decoration-color: #00af00\">256</span>)         │           <span style=\"color: #00af00; text-decoration-color: #00af00\">1,024</span> │\n",
       "│ (<span style=\"color: #0087ff; text-decoration-color: #0087ff\">BatchNormalization</span>)                 │                             │                 │\n",
       "├──────────────────────────────────────┼─────────────────────────────┼─────────────────┤\n",
       "│ activation_9 (<span style=\"color: #0087ff; text-decoration-color: #0087ff\">Activation</span>)            │ (<span style=\"color: #00d7ff; text-decoration-color: #00d7ff\">None</span>, <span style=\"color: #00af00; text-decoration-color: #00af00\">56</span>, <span style=\"color: #00af00; text-decoration-color: #00af00\">56</span>, <span style=\"color: #00af00; text-decoration-color: #00af00\">256</span>)         │               <span style=\"color: #00af00; text-decoration-color: #00af00\">0</span> │\n",
       "├──────────────────────────────────────┼─────────────────────────────┼─────────────────┤\n",
       "│ conv2d_10 (<span style=\"color: #0087ff; text-decoration-color: #0087ff\">Conv2D</span>)                   │ (<span style=\"color: #00d7ff; text-decoration-color: #00d7ff\">None</span>, <span style=\"color: #00af00; text-decoration-color: #00af00\">56</span>, <span style=\"color: #00af00; text-decoration-color: #00af00\">56</span>, <span style=\"color: #00af00; text-decoration-color: #00af00\">256</span>)         │         <span style=\"color: #00af00; text-decoration-color: #00af00\">590,080</span> │\n",
       "├──────────────────────────────────────┼─────────────────────────────┼─────────────────┤\n",
       "│ batch_normalization_10               │ (<span style=\"color: #00d7ff; text-decoration-color: #00d7ff\">None</span>, <span style=\"color: #00af00; text-decoration-color: #00af00\">56</span>, <span style=\"color: #00af00; text-decoration-color: #00af00\">56</span>, <span style=\"color: #00af00; text-decoration-color: #00af00\">256</span>)         │           <span style=\"color: #00af00; text-decoration-color: #00af00\">1,024</span> │\n",
       "│ (<span style=\"color: #0087ff; text-decoration-color: #0087ff\">BatchNormalization</span>)                 │                             │                 │\n",
       "├──────────────────────────────────────┼─────────────────────────────┼─────────────────┤\n",
       "│ activation_10 (<span style=\"color: #0087ff; text-decoration-color: #0087ff\">Activation</span>)           │ (<span style=\"color: #00d7ff; text-decoration-color: #00d7ff\">None</span>, <span style=\"color: #00af00; text-decoration-color: #00af00\">56</span>, <span style=\"color: #00af00; text-decoration-color: #00af00\">56</span>, <span style=\"color: #00af00; text-decoration-color: #00af00\">256</span>)         │               <span style=\"color: #00af00; text-decoration-color: #00af00\">0</span> │\n",
       "├──────────────────────────────────────┼─────────────────────────────┼─────────────────┤\n",
       "│ conv2d_11 (<span style=\"color: #0087ff; text-decoration-color: #0087ff\">Conv2D</span>)                   │ (<span style=\"color: #00d7ff; text-decoration-color: #00d7ff\">None</span>, <span style=\"color: #00af00; text-decoration-color: #00af00\">56</span>, <span style=\"color: #00af00; text-decoration-color: #00af00\">56</span>, <span style=\"color: #00af00; text-decoration-color: #00af00\">256</span>)         │         <span style=\"color: #00af00; text-decoration-color: #00af00\">590,080</span> │\n",
       "├──────────────────────────────────────┼─────────────────────────────┼─────────────────┤\n",
       "│ batch_normalization_11               │ (<span style=\"color: #00d7ff; text-decoration-color: #00d7ff\">None</span>, <span style=\"color: #00af00; text-decoration-color: #00af00\">56</span>, <span style=\"color: #00af00; text-decoration-color: #00af00\">56</span>, <span style=\"color: #00af00; text-decoration-color: #00af00\">256</span>)         │           <span style=\"color: #00af00; text-decoration-color: #00af00\">1,024</span> │\n",
       "│ (<span style=\"color: #0087ff; text-decoration-color: #0087ff\">BatchNormalization</span>)                 │                             │                 │\n",
       "├──────────────────────────────────────┼─────────────────────────────┼─────────────────┤\n",
       "│ activation_11 (<span style=\"color: #0087ff; text-decoration-color: #0087ff\">Activation</span>)           │ (<span style=\"color: #00d7ff; text-decoration-color: #00d7ff\">None</span>, <span style=\"color: #00af00; text-decoration-color: #00af00\">56</span>, <span style=\"color: #00af00; text-decoration-color: #00af00\">56</span>, <span style=\"color: #00af00; text-decoration-color: #00af00\">256</span>)         │               <span style=\"color: #00af00; text-decoration-color: #00af00\">0</span> │\n",
       "├──────────────────────────────────────┼─────────────────────────────┼─────────────────┤\n",
       "│ flatten (<span style=\"color: #0087ff; text-decoration-color: #0087ff\">Flatten</span>)                    │ (<span style=\"color: #00d7ff; text-decoration-color: #00d7ff\">None</span>, <span style=\"color: #00af00; text-decoration-color: #00af00\">802816</span>)              │               <span style=\"color: #00af00; text-decoration-color: #00af00\">0</span> │\n",
       "├──────────────────────────────────────┼─────────────────────────────┼─────────────────┤\n",
       "│ dropout (<span style=\"color: #0087ff; text-decoration-color: #0087ff\">Dropout</span>)                    │ (<span style=\"color: #00d7ff; text-decoration-color: #00d7ff\">None</span>, <span style=\"color: #00af00; text-decoration-color: #00af00\">802816</span>)              │               <span style=\"color: #00af00; text-decoration-color: #00af00\">0</span> │\n",
       "├──────────────────────────────────────┼─────────────────────────────┼─────────────────┤\n",
       "│ dense (<span style=\"color: #0087ff; text-decoration-color: #0087ff\">Dense</span>)                        │ (<span style=\"color: #00d7ff; text-decoration-color: #00d7ff\">None</span>, <span style=\"color: #00af00; text-decoration-color: #00af00\">9</span>)                   │       <span style=\"color: #00af00; text-decoration-color: #00af00\">7,225,353</span> │\n",
       "└──────────────────────────────────────┴─────────────────────────────┴─────────────────┘\n",
       "</pre>\n"
      ],
      "text/plain": [
       "┏━━━━━━━━━━━━━━━━━━━━━━━━━━━━━━━━━━━━━━┳━━━━━━━━━━━━━━━━━━━━━━━━━━━━━┳━━━━━━━━━━━━━━━━━┓\n",
       "┃\u001b[1m \u001b[0m\u001b[1mLayer (type)                        \u001b[0m\u001b[1m \u001b[0m┃\u001b[1m \u001b[0m\u001b[1mOutput Shape               \u001b[0m\u001b[1m \u001b[0m┃\u001b[1m \u001b[0m\u001b[1m        Param #\u001b[0m\u001b[1m \u001b[0m┃\n",
       "┡━━━━━━━━━━━━━━━━━━━━━━━━━━━━━━━━━━━━━━╇━━━━━━━━━━━━━━━━━━━━━━━━━━━━━╇━━━━━━━━━━━━━━━━━┩\n",
       "│ rescaling (\u001b[38;5;33mRescaling\u001b[0m)                │ (\u001b[38;5;45mNone\u001b[0m, \u001b[38;5;34m224\u001b[0m, \u001b[38;5;34m224\u001b[0m, \u001b[38;5;34m3\u001b[0m)         │               \u001b[38;5;34m0\u001b[0m │\n",
       "├──────────────────────────────────────┼─────────────────────────────┼─────────────────┤\n",
       "│ conv2d (\u001b[38;5;33mConv2D\u001b[0m)                      │ (\u001b[38;5;45mNone\u001b[0m, \u001b[38;5;34m224\u001b[0m, \u001b[38;5;34m224\u001b[0m, \u001b[38;5;34m64\u001b[0m)        │           \u001b[38;5;34m1,792\u001b[0m │\n",
       "├──────────────────────────────────────┼─────────────────────────────┼─────────────────┤\n",
       "│ batch_normalization                  │ (\u001b[38;5;45mNone\u001b[0m, \u001b[38;5;34m224\u001b[0m, \u001b[38;5;34m224\u001b[0m, \u001b[38;5;34m64\u001b[0m)        │             \u001b[38;5;34m256\u001b[0m │\n",
       "│ (\u001b[38;5;33mBatchNormalization\u001b[0m)                 │                             │                 │\n",
       "├──────────────────────────────────────┼─────────────────────────────┼─────────────────┤\n",
       "│ activation (\u001b[38;5;33mActivation\u001b[0m)              │ (\u001b[38;5;45mNone\u001b[0m, \u001b[38;5;34m224\u001b[0m, \u001b[38;5;34m224\u001b[0m, \u001b[38;5;34m64\u001b[0m)        │               \u001b[38;5;34m0\u001b[0m │\n",
       "├──────────────────────────────────────┼─────────────────────────────┼─────────────────┤\n",
       "│ conv2d_1 (\u001b[38;5;33mConv2D\u001b[0m)                    │ (\u001b[38;5;45mNone\u001b[0m, \u001b[38;5;34m224\u001b[0m, \u001b[38;5;34m224\u001b[0m, \u001b[38;5;34m64\u001b[0m)        │          \u001b[38;5;34m36,928\u001b[0m │\n",
       "├──────────────────────────────────────┼─────────────────────────────┼─────────────────┤\n",
       "│ batch_normalization_1                │ (\u001b[38;5;45mNone\u001b[0m, \u001b[38;5;34m224\u001b[0m, \u001b[38;5;34m224\u001b[0m, \u001b[38;5;34m64\u001b[0m)        │             \u001b[38;5;34m256\u001b[0m │\n",
       "│ (\u001b[38;5;33mBatchNormalization\u001b[0m)                 │                             │                 │\n",
       "├──────────────────────────────────────┼─────────────────────────────┼─────────────────┤\n",
       "│ activation_1 (\u001b[38;5;33mActivation\u001b[0m)            │ (\u001b[38;5;45mNone\u001b[0m, \u001b[38;5;34m224\u001b[0m, \u001b[38;5;34m224\u001b[0m, \u001b[38;5;34m64\u001b[0m)        │               \u001b[38;5;34m0\u001b[0m │\n",
       "├──────────────────────────────────────┼─────────────────────────────┼─────────────────┤\n",
       "│ conv2d_2 (\u001b[38;5;33mConv2D\u001b[0m)                    │ (\u001b[38;5;45mNone\u001b[0m, \u001b[38;5;34m224\u001b[0m, \u001b[38;5;34m224\u001b[0m, \u001b[38;5;34m64\u001b[0m)        │          \u001b[38;5;34m36,928\u001b[0m │\n",
       "├──────────────────────────────────────┼─────────────────────────────┼─────────────────┤\n",
       "│ batch_normalization_2                │ (\u001b[38;5;45mNone\u001b[0m, \u001b[38;5;34m224\u001b[0m, \u001b[38;5;34m224\u001b[0m, \u001b[38;5;34m64\u001b[0m)        │             \u001b[38;5;34m256\u001b[0m │\n",
       "│ (\u001b[38;5;33mBatchNormalization\u001b[0m)                 │                             │                 │\n",
       "├──────────────────────────────────────┼─────────────────────────────┼─────────────────┤\n",
       "│ activation_2 (\u001b[38;5;33mActivation\u001b[0m)            │ (\u001b[38;5;45mNone\u001b[0m, \u001b[38;5;34m224\u001b[0m, \u001b[38;5;34m224\u001b[0m, \u001b[38;5;34m64\u001b[0m)        │               \u001b[38;5;34m0\u001b[0m │\n",
       "├──────────────────────────────────────┼─────────────────────────────┼─────────────────┤\n",
       "│ max_pooling2d (\u001b[38;5;33mMaxPooling2D\u001b[0m)         │ (\u001b[38;5;45mNone\u001b[0m, \u001b[38;5;34m112\u001b[0m, \u001b[38;5;34m112\u001b[0m, \u001b[38;5;34m64\u001b[0m)        │               \u001b[38;5;34m0\u001b[0m │\n",
       "├──────────────────────────────────────┼─────────────────────────────┼─────────────────┤\n",
       "│ conv2d_3 (\u001b[38;5;33mConv2D\u001b[0m)                    │ (\u001b[38;5;45mNone\u001b[0m, \u001b[38;5;34m112\u001b[0m, \u001b[38;5;34m112\u001b[0m, \u001b[38;5;34m128\u001b[0m)       │          \u001b[38;5;34m73,856\u001b[0m │\n",
       "├──────────────────────────────────────┼─────────────────────────────┼─────────────────┤\n",
       "│ batch_normalization_3                │ (\u001b[38;5;45mNone\u001b[0m, \u001b[38;5;34m112\u001b[0m, \u001b[38;5;34m112\u001b[0m, \u001b[38;5;34m128\u001b[0m)       │             \u001b[38;5;34m512\u001b[0m │\n",
       "│ (\u001b[38;5;33mBatchNormalization\u001b[0m)                 │                             │                 │\n",
       "├──────────────────────────────────────┼─────────────────────────────┼─────────────────┤\n",
       "│ activation_3 (\u001b[38;5;33mActivation\u001b[0m)            │ (\u001b[38;5;45mNone\u001b[0m, \u001b[38;5;34m112\u001b[0m, \u001b[38;5;34m112\u001b[0m, \u001b[38;5;34m128\u001b[0m)       │               \u001b[38;5;34m0\u001b[0m │\n",
       "├──────────────────────────────────────┼─────────────────────────────┼─────────────────┤\n",
       "│ conv2d_4 (\u001b[38;5;33mConv2D\u001b[0m)                    │ (\u001b[38;5;45mNone\u001b[0m, \u001b[38;5;34m112\u001b[0m, \u001b[38;5;34m112\u001b[0m, \u001b[38;5;34m128\u001b[0m)       │         \u001b[38;5;34m147,584\u001b[0m │\n",
       "├──────────────────────────────────────┼─────────────────────────────┼─────────────────┤\n",
       "│ batch_normalization_4                │ (\u001b[38;5;45mNone\u001b[0m, \u001b[38;5;34m112\u001b[0m, \u001b[38;5;34m112\u001b[0m, \u001b[38;5;34m128\u001b[0m)       │             \u001b[38;5;34m512\u001b[0m │\n",
       "│ (\u001b[38;5;33mBatchNormalization\u001b[0m)                 │                             │                 │\n",
       "├──────────────────────────────────────┼─────────────────────────────┼─────────────────┤\n",
       "│ activation_4 (\u001b[38;5;33mActivation\u001b[0m)            │ (\u001b[38;5;45mNone\u001b[0m, \u001b[38;5;34m112\u001b[0m, \u001b[38;5;34m112\u001b[0m, \u001b[38;5;34m128\u001b[0m)       │               \u001b[38;5;34m0\u001b[0m │\n",
       "├──────────────────────────────────────┼─────────────────────────────┼─────────────────┤\n",
       "│ conv2d_5 (\u001b[38;5;33mConv2D\u001b[0m)                    │ (\u001b[38;5;45mNone\u001b[0m, \u001b[38;5;34m112\u001b[0m, \u001b[38;5;34m112\u001b[0m, \u001b[38;5;34m128\u001b[0m)       │         \u001b[38;5;34m147,584\u001b[0m │\n",
       "├──────────────────────────────────────┼─────────────────────────────┼─────────────────┤\n",
       "│ batch_normalization_5                │ (\u001b[38;5;45mNone\u001b[0m, \u001b[38;5;34m112\u001b[0m, \u001b[38;5;34m112\u001b[0m, \u001b[38;5;34m128\u001b[0m)       │             \u001b[38;5;34m512\u001b[0m │\n",
       "│ (\u001b[38;5;33mBatchNormalization\u001b[0m)                 │                             │                 │\n",
       "├──────────────────────────────────────┼─────────────────────────────┼─────────────────┤\n",
       "│ activation_5 (\u001b[38;5;33mActivation\u001b[0m)            │ (\u001b[38;5;45mNone\u001b[0m, \u001b[38;5;34m112\u001b[0m, \u001b[38;5;34m112\u001b[0m, \u001b[38;5;34m128\u001b[0m)       │               \u001b[38;5;34m0\u001b[0m │\n",
       "├──────────────────────────────────────┼─────────────────────────────┼─────────────────┤\n",
       "│ conv2d_6 (\u001b[38;5;33mConv2D\u001b[0m)                    │ (\u001b[38;5;45mNone\u001b[0m, \u001b[38;5;34m112\u001b[0m, \u001b[38;5;34m112\u001b[0m, \u001b[38;5;34m128\u001b[0m)       │         \u001b[38;5;34m147,584\u001b[0m │\n",
       "├──────────────────────────────────────┼─────────────────────────────┼─────────────────┤\n",
       "│ batch_normalization_6                │ (\u001b[38;5;45mNone\u001b[0m, \u001b[38;5;34m112\u001b[0m, \u001b[38;5;34m112\u001b[0m, \u001b[38;5;34m128\u001b[0m)       │             \u001b[38;5;34m512\u001b[0m │\n",
       "│ (\u001b[38;5;33mBatchNormalization\u001b[0m)                 │                             │                 │\n",
       "├──────────────────────────────────────┼─────────────────────────────┼─────────────────┤\n",
       "│ activation_6 (\u001b[38;5;33mActivation\u001b[0m)            │ (\u001b[38;5;45mNone\u001b[0m, \u001b[38;5;34m112\u001b[0m, \u001b[38;5;34m112\u001b[0m, \u001b[38;5;34m128\u001b[0m)       │               \u001b[38;5;34m0\u001b[0m │\n",
       "├──────────────────────────────────────┼─────────────────────────────┼─────────────────┤\n",
       "│ conv2d_7 (\u001b[38;5;33mConv2D\u001b[0m)                    │ (\u001b[38;5;45mNone\u001b[0m, \u001b[38;5;34m112\u001b[0m, \u001b[38;5;34m112\u001b[0m, \u001b[38;5;34m128\u001b[0m)       │         \u001b[38;5;34m147,584\u001b[0m │\n",
       "├──────────────────────────────────────┼─────────────────────────────┼─────────────────┤\n",
       "│ batch_normalization_7                │ (\u001b[38;5;45mNone\u001b[0m, \u001b[38;5;34m112\u001b[0m, \u001b[38;5;34m112\u001b[0m, \u001b[38;5;34m128\u001b[0m)       │             \u001b[38;5;34m512\u001b[0m │\n",
       "│ (\u001b[38;5;33mBatchNormalization\u001b[0m)                 │                             │                 │\n",
       "├──────────────────────────────────────┼─────────────────────────────┼─────────────────┤\n",
       "│ activation_7 (\u001b[38;5;33mActivation\u001b[0m)            │ (\u001b[38;5;45mNone\u001b[0m, \u001b[38;5;34m112\u001b[0m, \u001b[38;5;34m112\u001b[0m, \u001b[38;5;34m128\u001b[0m)       │               \u001b[38;5;34m0\u001b[0m │\n",
       "├──────────────────────────────────────┼─────────────────────────────┼─────────────────┤\n",
       "│ conv2d_8 (\u001b[38;5;33mConv2D\u001b[0m)                    │ (\u001b[38;5;45mNone\u001b[0m, \u001b[38;5;34m112\u001b[0m, \u001b[38;5;34m112\u001b[0m, \u001b[38;5;34m128\u001b[0m)       │         \u001b[38;5;34m147,584\u001b[0m │\n",
       "├──────────────────────────────────────┼─────────────────────────────┼─────────────────┤\n",
       "│ batch_normalization_8                │ (\u001b[38;5;45mNone\u001b[0m, \u001b[38;5;34m112\u001b[0m, \u001b[38;5;34m112\u001b[0m, \u001b[38;5;34m128\u001b[0m)       │             \u001b[38;5;34m512\u001b[0m │\n",
       "│ (\u001b[38;5;33mBatchNormalization\u001b[0m)                 │                             │                 │\n",
       "├──────────────────────────────────────┼─────────────────────────────┼─────────────────┤\n",
       "│ activation_8 (\u001b[38;5;33mActivation\u001b[0m)            │ (\u001b[38;5;45mNone\u001b[0m, \u001b[38;5;34m112\u001b[0m, \u001b[38;5;34m112\u001b[0m, \u001b[38;5;34m128\u001b[0m)       │               \u001b[38;5;34m0\u001b[0m │\n",
       "├──────────────────────────────────────┼─────────────────────────────┼─────────────────┤\n",
       "│ max_pooling2d_1 (\u001b[38;5;33mMaxPooling2D\u001b[0m)       │ (\u001b[38;5;45mNone\u001b[0m, \u001b[38;5;34m56\u001b[0m, \u001b[38;5;34m56\u001b[0m, \u001b[38;5;34m128\u001b[0m)         │               \u001b[38;5;34m0\u001b[0m │\n",
       "├──────────────────────────────────────┼─────────────────────────────┼─────────────────┤\n",
       "│ conv2d_9 (\u001b[38;5;33mConv2D\u001b[0m)                    │ (\u001b[38;5;45mNone\u001b[0m, \u001b[38;5;34m56\u001b[0m, \u001b[38;5;34m56\u001b[0m, \u001b[38;5;34m256\u001b[0m)         │         \u001b[38;5;34m295,168\u001b[0m │\n",
       "├──────────────────────────────────────┼─────────────────────────────┼─────────────────┤\n",
       "│ batch_normalization_9                │ (\u001b[38;5;45mNone\u001b[0m, \u001b[38;5;34m56\u001b[0m, \u001b[38;5;34m56\u001b[0m, \u001b[38;5;34m256\u001b[0m)         │           \u001b[38;5;34m1,024\u001b[0m │\n",
       "│ (\u001b[38;5;33mBatchNormalization\u001b[0m)                 │                             │                 │\n",
       "├──────────────────────────────────────┼─────────────────────────────┼─────────────────┤\n",
       "│ activation_9 (\u001b[38;5;33mActivation\u001b[0m)            │ (\u001b[38;5;45mNone\u001b[0m, \u001b[38;5;34m56\u001b[0m, \u001b[38;5;34m56\u001b[0m, \u001b[38;5;34m256\u001b[0m)         │               \u001b[38;5;34m0\u001b[0m │\n",
       "├──────────────────────────────────────┼─────────────────────────────┼─────────────────┤\n",
       "│ conv2d_10 (\u001b[38;5;33mConv2D\u001b[0m)                   │ (\u001b[38;5;45mNone\u001b[0m, \u001b[38;5;34m56\u001b[0m, \u001b[38;5;34m56\u001b[0m, \u001b[38;5;34m256\u001b[0m)         │         \u001b[38;5;34m590,080\u001b[0m │\n",
       "├──────────────────────────────────────┼─────────────────────────────┼─────────────────┤\n",
       "│ batch_normalization_10               │ (\u001b[38;5;45mNone\u001b[0m, \u001b[38;5;34m56\u001b[0m, \u001b[38;5;34m56\u001b[0m, \u001b[38;5;34m256\u001b[0m)         │           \u001b[38;5;34m1,024\u001b[0m │\n",
       "│ (\u001b[38;5;33mBatchNormalization\u001b[0m)                 │                             │                 │\n",
       "├──────────────────────────────────────┼─────────────────────────────┼─────────────────┤\n",
       "│ activation_10 (\u001b[38;5;33mActivation\u001b[0m)           │ (\u001b[38;5;45mNone\u001b[0m, \u001b[38;5;34m56\u001b[0m, \u001b[38;5;34m56\u001b[0m, \u001b[38;5;34m256\u001b[0m)         │               \u001b[38;5;34m0\u001b[0m │\n",
       "├──────────────────────────────────────┼─────────────────────────────┼─────────────────┤\n",
       "│ conv2d_11 (\u001b[38;5;33mConv2D\u001b[0m)                   │ (\u001b[38;5;45mNone\u001b[0m, \u001b[38;5;34m56\u001b[0m, \u001b[38;5;34m56\u001b[0m, \u001b[38;5;34m256\u001b[0m)         │         \u001b[38;5;34m590,080\u001b[0m │\n",
       "├──────────────────────────────────────┼─────────────────────────────┼─────────────────┤\n",
       "│ batch_normalization_11               │ (\u001b[38;5;45mNone\u001b[0m, \u001b[38;5;34m56\u001b[0m, \u001b[38;5;34m56\u001b[0m, \u001b[38;5;34m256\u001b[0m)         │           \u001b[38;5;34m1,024\u001b[0m │\n",
       "│ (\u001b[38;5;33mBatchNormalization\u001b[0m)                 │                             │                 │\n",
       "├──────────────────────────────────────┼─────────────────────────────┼─────────────────┤\n",
       "│ activation_11 (\u001b[38;5;33mActivation\u001b[0m)           │ (\u001b[38;5;45mNone\u001b[0m, \u001b[38;5;34m56\u001b[0m, \u001b[38;5;34m56\u001b[0m, \u001b[38;5;34m256\u001b[0m)         │               \u001b[38;5;34m0\u001b[0m │\n",
       "├──────────────────────────────────────┼─────────────────────────────┼─────────────────┤\n",
       "│ flatten (\u001b[38;5;33mFlatten\u001b[0m)                    │ (\u001b[38;5;45mNone\u001b[0m, \u001b[38;5;34m802816\u001b[0m)              │               \u001b[38;5;34m0\u001b[0m │\n",
       "├──────────────────────────────────────┼─────────────────────────────┼─────────────────┤\n",
       "│ dropout (\u001b[38;5;33mDropout\u001b[0m)                    │ (\u001b[38;5;45mNone\u001b[0m, \u001b[38;5;34m802816\u001b[0m)              │               \u001b[38;5;34m0\u001b[0m │\n",
       "├──────────────────────────────────────┼─────────────────────────────┼─────────────────┤\n",
       "│ dense (\u001b[38;5;33mDense\u001b[0m)                        │ (\u001b[38;5;45mNone\u001b[0m, \u001b[38;5;34m9\u001b[0m)                   │       \u001b[38;5;34m7,225,353\u001b[0m │\n",
       "└──────────────────────────────────────┴─────────────────────────────┴─────────────────┘\n"
      ]
     },
     "metadata": {},
     "output_type": "display_data"
    },
    {
     "data": {
      "text/html": [
       "<pre style=\"white-space:pre;overflow-x:auto;line-height:normal;font-family:Menlo,'DejaVu Sans Mono',consolas,'Courier New',monospace\"><span style=\"font-weight: bold\"> Total params: </span><span style=\"color: #00af00; text-decoration-color: #00af00\">9,595,017</span> (36.60 MB)\n",
       "</pre>\n"
      ],
      "text/plain": [
       "\u001b[1m Total params: \u001b[0m\u001b[38;5;34m9,595,017\u001b[0m (36.60 MB)\n"
      ]
     },
     "metadata": {},
     "output_type": "display_data"
    },
    {
     "data": {
      "text/html": [
       "<pre style=\"white-space:pre;overflow-x:auto;line-height:normal;font-family:Menlo,'DejaVu Sans Mono',consolas,'Courier New',monospace\"><span style=\"font-weight: bold\"> Trainable params: </span><span style=\"color: #00af00; text-decoration-color: #00af00\">9,591,561</span> (36.59 MB)\n",
       "</pre>\n"
      ],
      "text/plain": [
       "\u001b[1m Trainable params: \u001b[0m\u001b[38;5;34m9,591,561\u001b[0m (36.59 MB)\n"
      ]
     },
     "metadata": {},
     "output_type": "display_data"
    },
    {
     "data": {
      "text/html": [
       "<pre style=\"white-space:pre;overflow-x:auto;line-height:normal;font-family:Menlo,'DejaVu Sans Mono',consolas,'Courier New',monospace\"><span style=\"font-weight: bold\"> Non-trainable params: </span><span style=\"color: #00af00; text-decoration-color: #00af00\">3,456</span> (13.50 KB)\n",
       "</pre>\n"
      ],
      "text/plain": [
       "\u001b[1m Non-trainable params: \u001b[0m\u001b[38;5;34m3,456\u001b[0m (13.50 KB)\n"
      ]
     },
     "metadata": {},
     "output_type": "display_data"
    }
   ],
   "source": [
    "# # Function for Convolution Layer\n",
    "# def conv_layer(channel):\n",
    "\n",
    "#   layer = models.Sequential()\n",
    "#   layer.add(layers.Conv2D(channel, (3, 3), padding='same'))\n",
    "#   layer.add(layers.BatchNormalization())\n",
    "#   layer.add(layers.Activation('relu'))\n",
    "\n",
    "#   return layer\n",
    "\n",
    "# # Function for Convolution Block\n",
    "# def conv_block(num_layers, hidden_channels, out_channels = None):\n",
    "\n",
    "#   assert num_layers > 2\n",
    "#   block = models.Sequential()\n",
    "\n",
    "#   for _ in range(num_layers-1):\n",
    "#     block.add(conv_layer(hidden_channels))\n",
    "#   block.add(conv_layer(out_channels if out_channels is not None else hidden_channels))\n",
    "\n",
    "#   return block\n",
    "\n",
    "\n",
    "# model = models.Sequential([\n",
    "#     layers.Rescaling(1.0 / 255, input_shape=(img_height, img_width, 3))\n",
    "# ])\n",
    "\n",
    "# model.add(conv_block(3, 64))\n",
    "# model.add(layers.MaxPool2D(2,2))\n",
    "\n",
    "# model.add(conv_block(6, 128))\n",
    "# model.add(layers.MaxPool2D(2,2))\n",
    "\n",
    "# model.add(conv_block(3, 256))\n",
    "\n",
    "# model.add(layers.Flatten())\n",
    "# model.add(layers.Dropout(0.20))\n",
    "\n",
    "# model.add(layers.Dense(num_classes, activation='softmax'))\n",
    "\n",
    "# model.summary()\n",
    "\n",
    "\n",
    "\n",
    "\n",
    "model = models.Sequential([\n",
    "    layers.Rescaling(1.0 / 255, input_shape=(img_height, img_width, 3))  # Input rescaling layer\n",
    "])\n",
    "\n",
    "# First convolution block with 3 layers and MaxPooling\n",
    "model.add(layers.Conv2D(64, (3, 3), padding='same'))\n",
    "model.add(layers.BatchNormalization())\n",
    "model.add(layers.Activation('relu'))\n",
    "\n",
    "model.add(layers.Conv2D(64, (3, 3), padding='same'))\n",
    "model.add(layers.BatchNormalization())\n",
    "model.add(layers.Activation('relu'))\n",
    "\n",
    "model.add(layers.Conv2D(64, (3, 3), padding='same'))\n",
    "model.add(layers.BatchNormalization())\n",
    "model.add(layers.Activation('relu'))\n",
    "\n",
    "model.add(layers.MaxPool2D(2, 2))  # MaxPooling layer\n",
    "\n",
    "# Second convolution block with 6 layers and MaxPooling\n",
    "model.add(layers.Conv2D(128, (3, 3), padding='same'))\n",
    "model.add(layers.BatchNormalization())\n",
    "model.add(layers.Activation('relu'))\n",
    "\n",
    "model.add(layers.Conv2D(128, (3, 3), padding='same'))\n",
    "model.add(layers.BatchNormalization())\n",
    "model.add(layers.Activation('relu'))\n",
    "\n",
    "model.add(layers.Conv2D(128, (3, 3), padding='same'))\n",
    "model.add(layers.BatchNormalization())\n",
    "model.add(layers.Activation('relu'))\n",
    "\n",
    "model.add(layers.Conv2D(128, (3, 3), padding='same'))\n",
    "model.add(layers.BatchNormalization())\n",
    "model.add(layers.Activation('relu'))\n",
    "\n",
    "model.add(layers.Conv2D(128, (3, 3), padding='same'))\n",
    "model.add(layers.BatchNormalization())\n",
    "model.add(layers.Activation('relu'))\n",
    "\n",
    "model.add(layers.Conv2D(128, (3, 3), padding='same'))\n",
    "model.add(layers.BatchNormalization())\n",
    "model.add(layers.Activation('relu'))\n",
    "\n",
    "model.add(layers.MaxPool2D(2, 2))  # MaxPooling layer\n",
    "\n",
    "# Third convolution block with 3 layers\n",
    "model.add(layers.Conv2D(256, (3, 3), padding='same'))\n",
    "model.add(layers.BatchNormalization())\n",
    "model.add(layers.Activation('relu'))\n",
    "\n",
    "model.add(layers.Conv2D(256, (3, 3), padding='same'))\n",
    "model.add(layers.BatchNormalization())\n",
    "model.add(layers.Activation('relu'))\n",
    "\n",
    "model.add(layers.Conv2D(256, (3, 3), padding='same'))\n",
    "model.add(layers.BatchNormalization())\n",
    "model.add(layers.Activation('relu'))\n",
    "\n",
    "# Flatten, Dropout, and Dense layers\n",
    "model.add(layers.Flatten())\n",
    "model.add(layers.Dropout(0.20))  # Dropout layer\n",
    "\n",
    "model.add(layers.Dense(num_classes, activation='softmax'))  # Fully connected layer with softmax activation\n",
    "\n",
    "# Model summary\n",
    "model.summary()"
   ]
  },
  {
   "cell_type": "markdown",
   "id": "8b5e1765",
   "metadata": {
    "papermill": {
     "duration": 0.502051,
     "end_time": "2025-01-17T13:07:18.106268",
     "exception": false,
     "start_time": "2025-01-17T13:07:17.604217",
     "status": "completed"
    },
    "tags": []
   },
   "source": [
    "# Callbacks"
   ]
  },
  {
   "cell_type": "code",
   "execution_count": 14,
   "id": "61b4acf3",
   "metadata": {
    "execution": {
     "iopub.execute_input": "2025-01-17T13:07:19.078574Z",
     "iopub.status.busy": "2025-01-17T13:07:19.078278Z",
     "iopub.status.idle": "2025-01-17T13:07:19.082261Z",
     "shell.execute_reply": "2025-01-17T13:07:19.081588Z"
    },
    "papermill": {
     "duration": 0.518768,
     "end_time": "2025-01-17T13:07:19.083574",
     "exception": false,
     "start_time": "2025-01-17T13:07:18.564806",
     "status": "completed"
    },
    "tags": []
   },
   "outputs": [],
   "source": [
    "initial_lr = 0.001024\n",
    "decay_factor = 0.75\n",
    "drop_epoch = 10\n",
    "\n",
    "\n",
    "def step_decay_schedule(epoch):\n",
    "    return initial_lr * (decay_factor ** (epoch // drop_epoch))\n",
    "\n",
    "\n",
    "lr_schedule = tf.keras.callbacks.LearningRateScheduler(step_decay_schedule)"
   ]
  },
  {
   "cell_type": "code",
   "execution_count": 15,
   "id": "7c0368da",
   "metadata": {
    "execution": {
     "iopub.execute_input": "2025-01-17T13:07:20.044871Z",
     "iopub.status.busy": "2025-01-17T13:07:20.044531Z",
     "iopub.status.idle": "2025-01-17T13:07:20.048167Z",
     "shell.execute_reply": "2025-01-17T13:07:20.047494Z"
    },
    "papermill": {
     "duration": 0.514774,
     "end_time": "2025-01-17T13:07:20.049409",
     "exception": false,
     "start_time": "2025-01-17T13:07:19.534635",
     "status": "completed"
    },
    "tags": []
   },
   "outputs": [],
   "source": [
    "ckpt_path = '/kaggle/working/training_checkpoints/cktps'\n",
    "\n",
    "checkpoint_prefix = os.path.join(ckpt_path, 'ckpt.keras')\n",
    "\n",
    "checkpoint_callback = ModelCheckpoint(filepath=checkpoint_prefix,\n",
    "                                      save_weights_only=False,\n",
    "                                      verbose=1)"
   ]
  },
  {
   "cell_type": "markdown",
   "id": "1ac88d6b",
   "metadata": {
    "papermill": {
     "duration": 0.457192,
     "end_time": "2025-01-17T13:07:20.959385",
     "exception": false,
     "start_time": "2025-01-17T13:07:20.502193",
     "status": "completed"
    },
    "tags": []
   },
   "source": [
    "# Model Training and Saving"
   ]
  },
  {
   "cell_type": "code",
   "execution_count": 16,
   "id": "99be5fa5",
   "metadata": {
    "execution": {
     "iopub.execute_input": "2025-01-17T13:07:21.931729Z",
     "iopub.status.busy": "2025-01-17T13:07:21.931171Z",
     "iopub.status.idle": "2025-01-17T13:07:21.943307Z",
     "shell.execute_reply": "2025-01-17T13:07:21.942609Z"
    },
    "papermill": {
     "duration": 0.47812,
     "end_time": "2025-01-17T13:07:21.944734",
     "exception": false,
     "start_time": "2025-01-17T13:07:21.466614",
     "status": "completed"
    },
    "tags": []
   },
   "outputs": [],
   "source": [
    "model.compile(\n",
    "    optimizer = 'adam',\n",
    "    loss = SparseCategoricalCrossentropy(from_logits = False),\n",
    "    metrics = ['accuracy']\n",
    ")"
   ]
  },
  {
   "cell_type": "code",
   "execution_count": 17,
   "id": "051b9ce5",
   "metadata": {
    "execution": {
     "iopub.execute_input": "2025-01-17T13:07:22.923561Z",
     "iopub.status.busy": "2025-01-17T13:07:22.923171Z",
     "iopub.status.idle": "2025-01-17T14:12:00.503060Z",
     "shell.execute_reply": "2025-01-17T14:12:00.502295Z"
    },
    "papermill": {
     "duration": 3878.052095,
     "end_time": "2025-01-17T14:12:00.504559",
     "exception": false,
     "start_time": "2025-01-17T13:07:22.452464",
     "status": "completed"
    },
    "tags": []
   },
   "outputs": [
    {
     "name": "stdout",
     "output_type": "stream",
     "text": [
      "Epoch 1/50\n",
      "\u001b[1m225/225\u001b[0m \u001b[32m━━━━━━━━━━━━━━━━━━━━\u001b[0m\u001b[37m\u001b[0m \u001b[1m0s\u001b[0m 313ms/step - accuracy: 0.1674 - loss: 36.0486\n",
      "Epoch 1: saving model to /kaggle/working/training_checkpoints/cktps/ckpt.keras\n",
      "\u001b[1m225/225\u001b[0m \u001b[32m━━━━━━━━━━━━━━━━━━━━\u001b[0m\u001b[37m\u001b[0m \u001b[1m107s\u001b[0m 360ms/step - accuracy: 0.1675 - loss: 35.9768 - val_accuracy: 0.1544 - val_loss: 2.3680 - learning_rate: 0.0010\n",
      "Epoch 2/50\n",
      "\u001b[1m225/225\u001b[0m \u001b[32m━━━━━━━━━━━━━━━━━━━━\u001b[0m\u001b[37m\u001b[0m \u001b[1m0s\u001b[0m 313ms/step - accuracy: 0.2279 - loss: 3.4452\n",
      "Epoch 2: saving model to /kaggle/working/training_checkpoints/cktps/ckpt.keras\n",
      "\u001b[1m225/225\u001b[0m \u001b[32m━━━━━━━━━━━━━━━━━━━━\u001b[0m\u001b[37m\u001b[0m \u001b[1m77s\u001b[0m 341ms/step - accuracy: 0.2280 - loss: 3.4435 - val_accuracy: 0.1189 - val_loss: 2.7046 - learning_rate: 0.0010\n",
      "Epoch 3/50\n",
      "\u001b[1m225/225\u001b[0m \u001b[32m━━━━━━━━━━━━━━━━━━━━\u001b[0m\u001b[37m\u001b[0m \u001b[1m0s\u001b[0m 314ms/step - accuracy: 0.3022 - loss: 2.4015\n",
      "Epoch 3: saving model to /kaggle/working/training_checkpoints/cktps/ckpt.keras\n",
      "\u001b[1m225/225\u001b[0m \u001b[32m━━━━━━━━━━━━━━━━━━━━\u001b[0m\u001b[37m\u001b[0m \u001b[1m77s\u001b[0m 341ms/step - accuracy: 0.3023 - loss: 2.4003 - val_accuracy: 0.2472 - val_loss: 2.1187 - learning_rate: 0.0010\n",
      "Epoch 4/50\n",
      "\u001b[1m225/225\u001b[0m \u001b[32m━━━━━━━━━━━━━━━━━━━━\u001b[0m\u001b[37m\u001b[0m \u001b[1m0s\u001b[0m 314ms/step - accuracy: 0.3961 - loss: 1.6312\n",
      "Epoch 4: saving model to /kaggle/working/training_checkpoints/cktps/ckpt.keras\n",
      "\u001b[1m225/225\u001b[0m \u001b[32m━━━━━━━━━━━━━━━━━━━━\u001b[0m\u001b[37m\u001b[0m \u001b[1m77s\u001b[0m 341ms/step - accuracy: 0.3961 - loss: 1.6312 - val_accuracy: 0.4217 - val_loss: 1.4830 - learning_rate: 0.0010\n",
      "Epoch 5/50\n",
      "\u001b[1m225/225\u001b[0m \u001b[32m━━━━━━━━━━━━━━━━━━━━\u001b[0m\u001b[37m\u001b[0m \u001b[1m0s\u001b[0m 314ms/step - accuracy: 0.4396 - loss: 1.4845\n",
      "Epoch 5: saving model to /kaggle/working/training_checkpoints/cktps/ckpt.keras\n",
      "\u001b[1m225/225\u001b[0m \u001b[32m━━━━━━━━━━━━━━━━━━━━\u001b[0m\u001b[37m\u001b[0m \u001b[1m77s\u001b[0m 341ms/step - accuracy: 0.4397 - loss: 1.4845 - val_accuracy: 0.4328 - val_loss: 1.5281 - learning_rate: 0.0010\n",
      "Epoch 6/50\n",
      "\u001b[1m225/225\u001b[0m \u001b[32m━━━━━━━━━━━━━━━━━━━━\u001b[0m\u001b[37m\u001b[0m \u001b[1m0s\u001b[0m 314ms/step - accuracy: 0.4680 - loss: 1.4313\n",
      "Epoch 6: saving model to /kaggle/working/training_checkpoints/cktps/ckpt.keras\n",
      "\u001b[1m225/225\u001b[0m \u001b[32m━━━━━━━━━━━━━━━━━━━━\u001b[0m\u001b[37m\u001b[0m \u001b[1m77s\u001b[0m 341ms/step - accuracy: 0.4680 - loss: 1.4312 - val_accuracy: 0.4472 - val_loss: 1.4142 - learning_rate: 0.0010\n",
      "Epoch 7/50\n",
      "\u001b[1m225/225\u001b[0m \u001b[32m━━━━━━━━━━━━━━━━━━━━\u001b[0m\u001b[37m\u001b[0m \u001b[1m0s\u001b[0m 314ms/step - accuracy: 0.4830 - loss: 1.3961\n",
      "Epoch 7: saving model to /kaggle/working/training_checkpoints/cktps/ckpt.keras\n",
      "\u001b[1m225/225\u001b[0m \u001b[32m━━━━━━━━━━━━━━━━━━━━\u001b[0m\u001b[37m\u001b[0m \u001b[1m77s\u001b[0m 342ms/step - accuracy: 0.4830 - loss: 1.3962 - val_accuracy: 0.4356 - val_loss: 1.5189 - learning_rate: 0.0010\n",
      "Epoch 8/50\n",
      "\u001b[1m225/225\u001b[0m \u001b[32m━━━━━━━━━━━━━━━━━━━━\u001b[0m\u001b[37m\u001b[0m \u001b[1m0s\u001b[0m 314ms/step - accuracy: 0.4907 - loss: 1.3669\n",
      "Epoch 8: saving model to /kaggle/working/training_checkpoints/cktps/ckpt.keras\n",
      "\u001b[1m225/225\u001b[0m \u001b[32m━━━━━━━━━━━━━━━━━━━━\u001b[0m\u001b[37m\u001b[0m \u001b[1m77s\u001b[0m 341ms/step - accuracy: 0.4907 - loss: 1.3669 - val_accuracy: 0.4478 - val_loss: 1.4759 - learning_rate: 0.0010\n",
      "Epoch 9/50\n",
      "\u001b[1m225/225\u001b[0m \u001b[32m━━━━━━━━━━━━━━━━━━━━\u001b[0m\u001b[37m\u001b[0m \u001b[1m0s\u001b[0m 314ms/step - accuracy: 0.5304 - loss: 1.2820\n",
      "Epoch 9: saving model to /kaggle/working/training_checkpoints/cktps/ckpt.keras\n",
      "\u001b[1m225/225\u001b[0m \u001b[32m━━━━━━━━━━━━━━━━━━━━\u001b[0m\u001b[37m\u001b[0m \u001b[1m77s\u001b[0m 341ms/step - accuracy: 0.5304 - loss: 1.2820 - val_accuracy: 0.4722 - val_loss: 1.5048 - learning_rate: 0.0010\n",
      "Epoch 10/50\n",
      "\u001b[1m225/225\u001b[0m \u001b[32m━━━━━━━━━━━━━━━━━━━━\u001b[0m\u001b[37m\u001b[0m \u001b[1m0s\u001b[0m 314ms/step - accuracy: 0.5409 - loss: 1.2724\n",
      "Epoch 10: saving model to /kaggle/working/training_checkpoints/cktps/ckpt.keras\n",
      "\u001b[1m225/225\u001b[0m \u001b[32m━━━━━━━━━━━━━━━━━━━━\u001b[0m\u001b[37m\u001b[0m \u001b[1m77s\u001b[0m 341ms/step - accuracy: 0.5409 - loss: 1.2724 - val_accuracy: 0.3989 - val_loss: 1.7267 - learning_rate: 0.0010\n",
      "Epoch 11/50\n",
      "\u001b[1m225/225\u001b[0m \u001b[32m━━━━━━━━━━━━━━━━━━━━\u001b[0m\u001b[37m\u001b[0m \u001b[1m0s\u001b[0m 314ms/step - accuracy: 0.5729 - loss: 1.1831\n",
      "Epoch 11: saving model to /kaggle/working/training_checkpoints/cktps/ckpt.keras\n",
      "\u001b[1m225/225\u001b[0m \u001b[32m━━━━━━━━━━━━━━━━━━━━\u001b[0m\u001b[37m\u001b[0m \u001b[1m77s\u001b[0m 341ms/step - accuracy: 0.5729 - loss: 1.1830 - val_accuracy: 0.4861 - val_loss: 1.4448 - learning_rate: 7.6800e-04\n",
      "Epoch 12/50\n",
      "\u001b[1m225/225\u001b[0m \u001b[32m━━━━━━━━━━━━━━━━━━━━\u001b[0m\u001b[37m\u001b[0m \u001b[1m0s\u001b[0m 314ms/step - accuracy: 0.6078 - loss: 1.0713\n",
      "Epoch 12: saving model to /kaggle/working/training_checkpoints/cktps/ckpt.keras\n",
      "\u001b[1m225/225\u001b[0m \u001b[32m━━━━━━━━━━━━━━━━━━━━\u001b[0m\u001b[37m\u001b[0m \u001b[1m77s\u001b[0m 341ms/step - accuracy: 0.6078 - loss: 1.0714 - val_accuracy: 0.4933 - val_loss: 1.3704 - learning_rate: 7.6800e-04\n",
      "Epoch 13/50\n",
      "\u001b[1m225/225\u001b[0m \u001b[32m━━━━━━━━━━━━━━━━━━━━\u001b[0m\u001b[37m\u001b[0m \u001b[1m0s\u001b[0m 314ms/step - accuracy: 0.6169 - loss: 1.0841\n",
      "Epoch 13: saving model to /kaggle/working/training_checkpoints/cktps/ckpt.keras\n",
      "\u001b[1m225/225\u001b[0m \u001b[32m━━━━━━━━━━━━━━━━━━━━\u001b[0m\u001b[37m\u001b[0m \u001b[1m77s\u001b[0m 341ms/step - accuracy: 0.6169 - loss: 1.0842 - val_accuracy: 0.4961 - val_loss: 1.3959 - learning_rate: 7.6800e-04\n",
      "Epoch 14/50\n",
      "\u001b[1m225/225\u001b[0m \u001b[32m━━━━━━━━━━━━━━━━━━━━\u001b[0m\u001b[37m\u001b[0m \u001b[1m0s\u001b[0m 314ms/step - accuracy: 0.6344 - loss: 0.9895\n",
      "Epoch 14: saving model to /kaggle/working/training_checkpoints/cktps/ckpt.keras\n",
      "\u001b[1m225/225\u001b[0m \u001b[32m━━━━━━━━━━━━━━━━━━━━\u001b[0m\u001b[37m\u001b[0m \u001b[1m77s\u001b[0m 341ms/step - accuracy: 0.6344 - loss: 0.9896 - val_accuracy: 0.4956 - val_loss: 1.4866 - learning_rate: 7.6800e-04\n",
      "Epoch 15/50\n",
      "\u001b[1m225/225\u001b[0m \u001b[32m━━━━━━━━━━━━━━━━━━━━\u001b[0m\u001b[37m\u001b[0m \u001b[1m0s\u001b[0m 314ms/step - accuracy: 0.6654 - loss: 0.9242\n",
      "Epoch 15: saving model to /kaggle/working/training_checkpoints/cktps/ckpt.keras\n",
      "\u001b[1m225/225\u001b[0m \u001b[32m━━━━━━━━━━━━━━━━━━━━\u001b[0m\u001b[37m\u001b[0m \u001b[1m77s\u001b[0m 341ms/step - accuracy: 0.6653 - loss: 0.9243 - val_accuracy: 0.5033 - val_loss: 1.3414 - learning_rate: 7.6800e-04\n",
      "Epoch 16/50\n",
      "\u001b[1m225/225\u001b[0m \u001b[32m━━━━━━━━━━━━━━━━━━━━\u001b[0m\u001b[37m\u001b[0m \u001b[1m0s\u001b[0m 314ms/step - accuracy: 0.6872 - loss: 0.9044\n",
      "Epoch 16: saving model to /kaggle/working/training_checkpoints/cktps/ckpt.keras\n",
      "\u001b[1m225/225\u001b[0m \u001b[32m━━━━━━━━━━━━━━━━━━━━\u001b[0m\u001b[37m\u001b[0m \u001b[1m77s\u001b[0m 341ms/step - accuracy: 0.6871 - loss: 0.9046 - val_accuracy: 0.4844 - val_loss: 1.5643 - learning_rate: 7.6800e-04\n",
      "Epoch 17/50\n",
      "\u001b[1m225/225\u001b[0m \u001b[32m━━━━━━━━━━━━━━━━━━━━\u001b[0m\u001b[37m\u001b[0m \u001b[1m0s\u001b[0m 314ms/step - accuracy: 0.7052 - loss: 0.8312\n",
      "Epoch 17: saving model to /kaggle/working/training_checkpoints/cktps/ckpt.keras\n",
      "\u001b[1m225/225\u001b[0m \u001b[32m━━━━━━━━━━━━━━━━━━━━\u001b[0m\u001b[37m\u001b[0m \u001b[1m77s\u001b[0m 342ms/step - accuracy: 0.7052 - loss: 0.8311 - val_accuracy: 0.4389 - val_loss: 2.0628 - learning_rate: 7.6800e-04\n",
      "Epoch 18/50\n",
      "\u001b[1m225/225\u001b[0m \u001b[32m━━━━━━━━━━━━━━━━━━━━\u001b[0m\u001b[37m\u001b[0m \u001b[1m0s\u001b[0m 314ms/step - accuracy: 0.7335 - loss: 0.7525\n",
      "Epoch 18: saving model to /kaggle/working/training_checkpoints/cktps/ckpt.keras\n",
      "\u001b[1m225/225\u001b[0m \u001b[32m━━━━━━━━━━━━━━━━━━━━\u001b[0m\u001b[37m\u001b[0m \u001b[1m77s\u001b[0m 342ms/step - accuracy: 0.7335 - loss: 0.7525 - val_accuracy: 0.5217 - val_loss: 1.4538 - learning_rate: 7.6800e-04\n",
      "Epoch 19/50\n",
      "\u001b[1m225/225\u001b[0m \u001b[32m━━━━━━━━━━━━━━━━━━━━\u001b[0m\u001b[37m\u001b[0m \u001b[1m0s\u001b[0m 314ms/step - accuracy: 0.7739 - loss: 0.6283\n",
      "Epoch 19: saving model to /kaggle/working/training_checkpoints/cktps/ckpt.keras\n",
      "\u001b[1m225/225\u001b[0m \u001b[32m━━━━━━━━━━━━━━━━━━━━\u001b[0m\u001b[37m\u001b[0m \u001b[1m77s\u001b[0m 341ms/step - accuracy: 0.7739 - loss: 0.6284 - val_accuracy: 0.5522 - val_loss: 1.5076 - learning_rate: 7.6800e-04\n",
      "Epoch 20/50\n",
      "\u001b[1m225/225\u001b[0m \u001b[32m━━━━━━━━━━━━━━━━━━━━\u001b[0m\u001b[37m\u001b[0m \u001b[1m0s\u001b[0m 314ms/step - accuracy: 0.8036 - loss: 0.5629\n",
      "Epoch 20: saving model to /kaggle/working/training_checkpoints/cktps/ckpt.keras\n",
      "\u001b[1m225/225\u001b[0m \u001b[32m━━━━━━━━━━━━━━━━━━━━\u001b[0m\u001b[37m\u001b[0m \u001b[1m77s\u001b[0m 341ms/step - accuracy: 0.8036 - loss: 0.5630 - val_accuracy: 0.4833 - val_loss: 1.8940 - learning_rate: 7.6800e-04\n",
      "Epoch 21/50\n",
      "\u001b[1m225/225\u001b[0m \u001b[32m━━━━━━━━━━━━━━━━━━━━\u001b[0m\u001b[37m\u001b[0m \u001b[1m0s\u001b[0m 314ms/step - accuracy: 0.8352 - loss: 0.4779\n",
      "Epoch 21: saving model to /kaggle/working/training_checkpoints/cktps/ckpt.keras\n",
      "\u001b[1m225/225\u001b[0m \u001b[32m━━━━━━━━━━━━━━━━━━━━\u001b[0m\u001b[37m\u001b[0m \u001b[1m77s\u001b[0m 341ms/step - accuracy: 0.8352 - loss: 0.4779 - val_accuracy: 0.5772 - val_loss: 1.4764 - learning_rate: 5.7600e-04\n",
      "Epoch 22/50\n",
      "\u001b[1m225/225\u001b[0m \u001b[32m━━━━━━━━━━━━━━━━━━━━\u001b[0m\u001b[37m\u001b[0m \u001b[1m0s\u001b[0m 314ms/step - accuracy: 0.8682 - loss: 0.3991\n",
      "Epoch 22: saving model to /kaggle/working/training_checkpoints/cktps/ckpt.keras\n",
      "\u001b[1m225/225\u001b[0m \u001b[32m━━━━━━━━━━━━━━━━━━━━\u001b[0m\u001b[37m\u001b[0m \u001b[1m77s\u001b[0m 341ms/step - accuracy: 0.8682 - loss: 0.3992 - val_accuracy: 0.4578 - val_loss: 2.6055 - learning_rate: 5.7600e-04\n",
      "Epoch 23/50\n",
      "\u001b[1m225/225\u001b[0m \u001b[32m━━━━━━━━━━━━━━━━━━━━\u001b[0m\u001b[37m\u001b[0m \u001b[1m0s\u001b[0m 314ms/step - accuracy: 0.8788 - loss: 0.3531\n",
      "Epoch 23: saving model to /kaggle/working/training_checkpoints/cktps/ckpt.keras\n",
      "\u001b[1m225/225\u001b[0m \u001b[32m━━━━━━━━━━━━━━━━━━━━\u001b[0m\u001b[37m\u001b[0m \u001b[1m77s\u001b[0m 342ms/step - accuracy: 0.8788 - loss: 0.3532 - val_accuracy: 0.5867 - val_loss: 1.7643 - learning_rate: 5.7600e-04\n",
      "Epoch 24/50\n",
      "\u001b[1m225/225\u001b[0m \u001b[32m━━━━━━━━━━━━━━━━━━━━\u001b[0m\u001b[37m\u001b[0m \u001b[1m0s\u001b[0m 314ms/step - accuracy: 0.8691 - loss: 0.3944\n",
      "Epoch 24: saving model to /kaggle/working/training_checkpoints/cktps/ckpt.keras\n",
      "\u001b[1m225/225\u001b[0m \u001b[32m━━━━━━━━━━━━━━━━━━━━\u001b[0m\u001b[37m\u001b[0m \u001b[1m77s\u001b[0m 342ms/step - accuracy: 0.8691 - loss: 0.3944 - val_accuracy: 0.3811 - val_loss: 3.2393 - learning_rate: 5.7600e-04\n",
      "Epoch 25/50\n",
      "\u001b[1m225/225\u001b[0m \u001b[32m━━━━━━━━━━━━━━━━━━━━\u001b[0m\u001b[37m\u001b[0m \u001b[1m0s\u001b[0m 314ms/step - accuracy: 0.9020 - loss: 0.2987\n",
      "Epoch 25: saving model to /kaggle/working/training_checkpoints/cktps/ckpt.keras\n",
      "\u001b[1m225/225\u001b[0m \u001b[32m━━━━━━━━━━━━━━━━━━━━\u001b[0m\u001b[37m\u001b[0m \u001b[1m77s\u001b[0m 341ms/step - accuracy: 0.9021 - loss: 0.2987 - val_accuracy: 0.5761 - val_loss: 1.8544 - learning_rate: 5.7600e-04\n",
      "Epoch 26/50\n",
      "\u001b[1m225/225\u001b[0m \u001b[32m━━━━━━━━━━━━━━━━━━━━\u001b[0m\u001b[37m\u001b[0m \u001b[1m0s\u001b[0m 314ms/step - accuracy: 0.9196 - loss: 0.2515\n",
      "Epoch 26: saving model to /kaggle/working/training_checkpoints/cktps/ckpt.keras\n",
      "\u001b[1m225/225\u001b[0m \u001b[32m━━━━━━━━━━━━━━━━━━━━\u001b[0m\u001b[37m\u001b[0m \u001b[1m77s\u001b[0m 341ms/step - accuracy: 0.9196 - loss: 0.2516 - val_accuracy: 0.4939 - val_loss: 2.6031 - learning_rate: 5.7600e-04\n",
      "Epoch 27/50\n",
      "\u001b[1m225/225\u001b[0m \u001b[32m━━━━━━━━━━━━━━━━━━━━\u001b[0m\u001b[37m\u001b[0m \u001b[1m0s\u001b[0m 314ms/step - accuracy: 0.9332 - loss: 0.2167\n",
      "Epoch 27: saving model to /kaggle/working/training_checkpoints/cktps/ckpt.keras\n",
      "\u001b[1m225/225\u001b[0m \u001b[32m━━━━━━━━━━━━━━━━━━━━\u001b[0m\u001b[37m\u001b[0m \u001b[1m77s\u001b[0m 341ms/step - accuracy: 0.9332 - loss: 0.2168 - val_accuracy: 0.5622 - val_loss: 2.1301 - learning_rate: 5.7600e-04\n",
      "Epoch 28/50\n",
      "\u001b[1m225/225\u001b[0m \u001b[32m━━━━━━━━━━━━━━━━━━━━\u001b[0m\u001b[37m\u001b[0m \u001b[1m0s\u001b[0m 314ms/step - accuracy: 0.9276 - loss: 0.2048\n",
      "Epoch 28: saving model to /kaggle/working/training_checkpoints/cktps/ckpt.keras\n",
      "\u001b[1m225/225\u001b[0m \u001b[32m━━━━━━━━━━━━━━━━━━━━\u001b[0m\u001b[37m\u001b[0m \u001b[1m77s\u001b[0m 341ms/step - accuracy: 0.9276 - loss: 0.2049 - val_accuracy: 0.5617 - val_loss: 2.0456 - learning_rate: 5.7600e-04\n",
      "Epoch 29/50\n",
      "\u001b[1m225/225\u001b[0m \u001b[32m━━━━━━━━━━━━━━━━━━━━\u001b[0m\u001b[37m\u001b[0m \u001b[1m0s\u001b[0m 314ms/step - accuracy: 0.9322 - loss: 0.2242\n",
      "Epoch 29: saving model to /kaggle/working/training_checkpoints/cktps/ckpt.keras\n",
      "\u001b[1m225/225\u001b[0m \u001b[32m━━━━━━━━━━━━━━━━━━━━\u001b[0m\u001b[37m\u001b[0m \u001b[1m77s\u001b[0m 341ms/step - accuracy: 0.9322 - loss: 0.2242 - val_accuracy: 0.5461 - val_loss: 2.2470 - learning_rate: 5.7600e-04\n",
      "Epoch 30/50\n",
      "\u001b[1m225/225\u001b[0m \u001b[32m━━━━━━━━━━━━━━━━━━━━\u001b[0m\u001b[37m\u001b[0m \u001b[1m0s\u001b[0m 314ms/step - accuracy: 0.9461 - loss: 0.1747\n",
      "Epoch 30: saving model to /kaggle/working/training_checkpoints/cktps/ckpt.keras\n",
      "\u001b[1m225/225\u001b[0m \u001b[32m━━━━━━━━━━━━━━━━━━━━\u001b[0m\u001b[37m\u001b[0m \u001b[1m77s\u001b[0m 342ms/step - accuracy: 0.9461 - loss: 0.1747 - val_accuracy: 0.5572 - val_loss: 2.5457 - learning_rate: 5.7600e-04\n",
      "Epoch 31/50\n",
      "\u001b[1m225/225\u001b[0m \u001b[32m━━━━━━━━━━━━━━━━━━━━\u001b[0m\u001b[37m\u001b[0m \u001b[1m0s\u001b[0m 314ms/step - accuracy: 0.9514 - loss: 0.1475\n",
      "Epoch 31: saving model to /kaggle/working/training_checkpoints/cktps/ckpt.keras\n",
      "\u001b[1m225/225\u001b[0m \u001b[32m━━━━━━━━━━━━━━━━━━━━\u001b[0m\u001b[37m\u001b[0m \u001b[1m77s\u001b[0m 342ms/step - accuracy: 0.9514 - loss: 0.1475 - val_accuracy: 0.6022 - val_loss: 2.1298 - learning_rate: 4.3200e-04\n",
      "Epoch 32/50\n",
      "\u001b[1m225/225\u001b[0m \u001b[32m━━━━━━━━━━━━━━━━━━━━\u001b[0m\u001b[37m\u001b[0m \u001b[1m0s\u001b[0m 314ms/step - accuracy: 0.9680 - loss: 0.1156\n",
      "Epoch 32: saving model to /kaggle/working/training_checkpoints/cktps/ckpt.keras\n",
      "\u001b[1m225/225\u001b[0m \u001b[32m━━━━━━━━━━━━━━━━━━━━\u001b[0m\u001b[37m\u001b[0m \u001b[1m77s\u001b[0m 342ms/step - accuracy: 0.9680 - loss: 0.1157 - val_accuracy: 0.5767 - val_loss: 2.5378 - learning_rate: 4.3200e-04\n",
      "Epoch 33/50\n",
      "\u001b[1m225/225\u001b[0m \u001b[32m━━━━━━━━━━━━━━━━━━━━\u001b[0m\u001b[37m\u001b[0m \u001b[1m0s\u001b[0m 314ms/step - accuracy: 0.9646 - loss: 0.1174\n",
      "Epoch 33: saving model to /kaggle/working/training_checkpoints/cktps/ckpt.keras\n",
      "\u001b[1m225/225\u001b[0m \u001b[32m━━━━━━━━━━━━━━━━━━━━\u001b[0m\u001b[37m\u001b[0m \u001b[1m77s\u001b[0m 341ms/step - accuracy: 0.9646 - loss: 0.1175 - val_accuracy: 0.5839 - val_loss: 2.4570 - learning_rate: 4.3200e-04\n",
      "Epoch 34/50\n",
      "\u001b[1m225/225\u001b[0m \u001b[32m━━━━━━━━━━━━━━━━━━━━\u001b[0m\u001b[37m\u001b[0m \u001b[1m0s\u001b[0m 314ms/step - accuracy: 0.9683 - loss: 0.1197\n",
      "Epoch 34: saving model to /kaggle/working/training_checkpoints/cktps/ckpt.keras\n",
      "\u001b[1m225/225\u001b[0m \u001b[32m━━━━━━━━━━━━━━━━━━━━\u001b[0m\u001b[37m\u001b[0m \u001b[1m77s\u001b[0m 341ms/step - accuracy: 0.9683 - loss: 0.1198 - val_accuracy: 0.6061 - val_loss: 2.2578 - learning_rate: 4.3200e-04\n",
      "Epoch 35/50\n",
      "\u001b[1m225/225\u001b[0m \u001b[32m━━━━━━━━━━━━━━━━━━━━\u001b[0m\u001b[37m\u001b[0m \u001b[1m0s\u001b[0m 314ms/step - accuracy: 0.9753 - loss: 0.0837\n",
      "Epoch 35: saving model to /kaggle/working/training_checkpoints/cktps/ckpt.keras\n",
      "\u001b[1m225/225\u001b[0m \u001b[32m━━━━━━━━━━━━━━━━━━━━\u001b[0m\u001b[37m\u001b[0m \u001b[1m77s\u001b[0m 342ms/step - accuracy: 0.9753 - loss: 0.0838 - val_accuracy: 0.5783 - val_loss: 2.5982 - learning_rate: 4.3200e-04\n",
      "Epoch 36/50\n",
      "\u001b[1m225/225\u001b[0m \u001b[32m━━━━━━━━━━━━━━━━━━━━\u001b[0m\u001b[37m\u001b[0m \u001b[1m0s\u001b[0m 314ms/step - accuracy: 0.9729 - loss: 0.1031\n",
      "Epoch 36: saving model to /kaggle/working/training_checkpoints/cktps/ckpt.keras\n",
      "\u001b[1m225/225\u001b[0m \u001b[32m━━━━━━━━━━━━━━━━━━━━\u001b[0m\u001b[37m\u001b[0m \u001b[1m77s\u001b[0m 342ms/step - accuracy: 0.9729 - loss: 0.1032 - val_accuracy: 0.5217 - val_loss: 2.9058 - learning_rate: 4.3200e-04\n",
      "Epoch 37/50\n",
      "\u001b[1m225/225\u001b[0m \u001b[32m━━━━━━━━━━━━━━━━━━━━\u001b[0m\u001b[37m\u001b[0m \u001b[1m0s\u001b[0m 314ms/step - accuracy: 0.9786 - loss: 0.0848\n",
      "Epoch 37: saving model to /kaggle/working/training_checkpoints/cktps/ckpt.keras\n",
      "\u001b[1m225/225\u001b[0m \u001b[32m━━━━━━━━━━━━━━━━━━━━\u001b[0m\u001b[37m\u001b[0m \u001b[1m77s\u001b[0m 342ms/step - accuracy: 0.9785 - loss: 0.0848 - val_accuracy: 0.5811 - val_loss: 2.7439 - learning_rate: 4.3200e-04\n",
      "Epoch 38/50\n",
      "\u001b[1m225/225\u001b[0m \u001b[32m━━━━━━━━━━━━━━━━━━━━\u001b[0m\u001b[37m\u001b[0m \u001b[1m0s\u001b[0m 314ms/step - accuracy: 0.9739 - loss: 0.1028\n",
      "Epoch 38: saving model to /kaggle/working/training_checkpoints/cktps/ckpt.keras\n",
      "\u001b[1m225/225\u001b[0m \u001b[32m━━━━━━━━━━━━━━━━━━━━\u001b[0m\u001b[37m\u001b[0m \u001b[1m77s\u001b[0m 341ms/step - accuracy: 0.9739 - loss: 0.1029 - val_accuracy: 0.5761 - val_loss: 2.5093 - learning_rate: 4.3200e-04\n",
      "Epoch 39/50\n",
      "\u001b[1m225/225\u001b[0m \u001b[32m━━━━━━━━━━━━━━━━━━━━\u001b[0m\u001b[37m\u001b[0m \u001b[1m0s\u001b[0m 314ms/step - accuracy: 0.9709 - loss: 0.0991\n",
      "Epoch 39: saving model to /kaggle/working/training_checkpoints/cktps/ckpt.keras\n",
      "\u001b[1m225/225\u001b[0m \u001b[32m━━━━━━━━━━━━━━━━━━━━\u001b[0m\u001b[37m\u001b[0m \u001b[1m77s\u001b[0m 341ms/step - accuracy: 0.9709 - loss: 0.0992 - val_accuracy: 0.5200 - val_loss: 3.4228 - learning_rate: 4.3200e-04\n",
      "Epoch 40/50\n",
      "\u001b[1m225/225\u001b[0m \u001b[32m━━━━━━━━━━━━━━━━━━━━\u001b[0m\u001b[37m\u001b[0m \u001b[1m0s\u001b[0m 314ms/step - accuracy: 0.9756 - loss: 0.0883\n",
      "Epoch 40: saving model to /kaggle/working/training_checkpoints/cktps/ckpt.keras\n",
      "\u001b[1m225/225\u001b[0m \u001b[32m━━━━━━━━━━━━━━━━━━━━\u001b[0m\u001b[37m\u001b[0m \u001b[1m77s\u001b[0m 341ms/step - accuracy: 0.9756 - loss: 0.0883 - val_accuracy: 0.5683 - val_loss: 2.7374 - learning_rate: 4.3200e-04\n",
      "Epoch 41/50\n",
      "\u001b[1m225/225\u001b[0m \u001b[32m━━━━━━━━━━━━━━━━━━━━\u001b[0m\u001b[37m\u001b[0m \u001b[1m0s\u001b[0m 314ms/step - accuracy: 0.9856 - loss: 0.0562\n",
      "Epoch 41: saving model to /kaggle/working/training_checkpoints/cktps/ckpt.keras\n",
      "\u001b[1m225/225\u001b[0m \u001b[32m━━━━━━━━━━━━━━━━━━━━\u001b[0m\u001b[37m\u001b[0m \u001b[1m82s\u001b[0m 362ms/step - accuracy: 0.9856 - loss: 0.0563 - val_accuracy: 0.5633 - val_loss: 2.7978 - learning_rate: 3.2400e-04\n",
      "Epoch 42/50\n",
      "\u001b[1m225/225\u001b[0m \u001b[32m━━━━━━━━━━━━━━━━━━━━\u001b[0m\u001b[37m\u001b[0m \u001b[1m0s\u001b[0m 314ms/step - accuracy: 0.9865 - loss: 0.0755\n",
      "Epoch 42: saving model to /kaggle/working/training_checkpoints/cktps/ckpt.keras\n",
      "\u001b[1m225/225\u001b[0m \u001b[32m━━━━━━━━━━━━━━━━━━━━\u001b[0m\u001b[37m\u001b[0m \u001b[1m77s\u001b[0m 342ms/step - accuracy: 0.9865 - loss: 0.0755 - val_accuracy: 0.5728 - val_loss: 2.6270 - learning_rate: 3.2400e-04\n",
      "Epoch 43/50\n",
      "\u001b[1m225/225\u001b[0m \u001b[32m━━━━━━━━━━━━━━━━━━━━\u001b[0m\u001b[37m\u001b[0m \u001b[1m0s\u001b[0m 314ms/step - accuracy: 0.9824 - loss: 0.0876\n",
      "Epoch 43: saving model to /kaggle/working/training_checkpoints/cktps/ckpt.keras\n",
      "\u001b[1m225/225\u001b[0m \u001b[32m━━━━━━━━━━━━━━━━━━━━\u001b[0m\u001b[37m\u001b[0m \u001b[1m77s\u001b[0m 342ms/step - accuracy: 0.9824 - loss: 0.0875 - val_accuracy: 0.5861 - val_loss: 2.8434 - learning_rate: 3.2400e-04\n",
      "Epoch 44/50\n",
      "\u001b[1m225/225\u001b[0m \u001b[32m━━━━━━━━━━━━━━━━━━━━\u001b[0m\u001b[37m\u001b[0m \u001b[1m0s\u001b[0m 314ms/step - accuracy: 0.9851 - loss: 0.0612\n",
      "Epoch 44: saving model to /kaggle/working/training_checkpoints/cktps/ckpt.keras\n",
      "\u001b[1m225/225\u001b[0m \u001b[32m━━━━━━━━━━━━━━━━━━━━\u001b[0m\u001b[37m\u001b[0m \u001b[1m77s\u001b[0m 341ms/step - accuracy: 0.9851 - loss: 0.0612 - val_accuracy: 0.5756 - val_loss: 3.0504 - learning_rate: 3.2400e-04\n",
      "Epoch 45/50\n",
      "\u001b[1m225/225\u001b[0m \u001b[32m━━━━━━━━━━━━━━━━━━━━\u001b[0m\u001b[37m\u001b[0m \u001b[1m0s\u001b[0m 314ms/step - accuracy: 0.9879 - loss: 0.0581\n",
      "Epoch 45: saving model to /kaggle/working/training_checkpoints/cktps/ckpt.keras\n",
      "\u001b[1m225/225\u001b[0m \u001b[32m━━━━━━━━━━━━━━━━━━━━\u001b[0m\u001b[37m\u001b[0m \u001b[1m77s\u001b[0m 341ms/step - accuracy: 0.9879 - loss: 0.0581 - val_accuracy: 0.5806 - val_loss: 2.7262 - learning_rate: 3.2400e-04\n",
      "Epoch 46/50\n",
      "\u001b[1m225/225\u001b[0m \u001b[32m━━━━━━━━━━━━━━━━━━━━\u001b[0m\u001b[37m\u001b[0m \u001b[1m0s\u001b[0m 314ms/step - accuracy: 0.9890 - loss: 0.0456\n",
      "Epoch 46: saving model to /kaggle/working/training_checkpoints/cktps/ckpt.keras\n",
      "\u001b[1m225/225\u001b[0m \u001b[32m━━━━━━━━━━━━━━━━━━━━\u001b[0m\u001b[37m\u001b[0m \u001b[1m77s\u001b[0m 341ms/step - accuracy: 0.9890 - loss: 0.0456 - val_accuracy: 0.5839 - val_loss: 2.8676 - learning_rate: 3.2400e-04\n",
      "Epoch 47/50\n",
      "\u001b[1m225/225\u001b[0m \u001b[32m━━━━━━━━━━━━━━━━━━━━\u001b[0m\u001b[37m\u001b[0m \u001b[1m0s\u001b[0m 314ms/step - accuracy: 0.9874 - loss: 0.0580\n",
      "Epoch 47: saving model to /kaggle/working/training_checkpoints/cktps/ckpt.keras\n",
      "\u001b[1m225/225\u001b[0m \u001b[32m━━━━━━━━━━━━━━━━━━━━\u001b[0m\u001b[37m\u001b[0m \u001b[1m77s\u001b[0m 341ms/step - accuracy: 0.9874 - loss: 0.0580 - val_accuracy: 0.5611 - val_loss: 2.8978 - learning_rate: 3.2400e-04\n",
      "Epoch 48/50\n",
      "\u001b[1m225/225\u001b[0m \u001b[32m━━━━━━━━━━━━━━━━━━━━\u001b[0m\u001b[37m\u001b[0m \u001b[1m0s\u001b[0m 314ms/step - accuracy: 0.9882 - loss: 0.0444\n",
      "Epoch 48: saving model to /kaggle/working/training_checkpoints/cktps/ckpt.keras\n",
      "\u001b[1m225/225\u001b[0m \u001b[32m━━━━━━━━━━━━━━━━━━━━\u001b[0m\u001b[37m\u001b[0m \u001b[1m77s\u001b[0m 341ms/step - accuracy: 0.9882 - loss: 0.0445 - val_accuracy: 0.5372 - val_loss: 3.2922 - learning_rate: 3.2400e-04\n",
      "Epoch 49/50\n",
      "\u001b[1m225/225\u001b[0m \u001b[32m━━━━━━━━━━━━━━━━━━━━\u001b[0m\u001b[37m\u001b[0m \u001b[1m0s\u001b[0m 314ms/step - accuracy: 0.9866 - loss: 0.0568\n",
      "Epoch 49: saving model to /kaggle/working/training_checkpoints/cktps/ckpt.keras\n",
      "\u001b[1m225/225\u001b[0m \u001b[32m━━━━━━━━━━━━━━━━━━━━\u001b[0m\u001b[37m\u001b[0m \u001b[1m77s\u001b[0m 342ms/step - accuracy: 0.9866 - loss: 0.0568 - val_accuracy: 0.5761 - val_loss: 3.0771 - learning_rate: 3.2400e-04\n",
      "Epoch 50/50\n",
      "\u001b[1m225/225\u001b[0m \u001b[32m━━━━━━━━━━━━━━━━━━━━\u001b[0m\u001b[37m\u001b[0m \u001b[1m0s\u001b[0m 314ms/step - accuracy: 0.9818 - loss: 0.0654\n",
      "Epoch 50: saving model to /kaggle/working/training_checkpoints/cktps/ckpt.keras\n",
      "\u001b[1m225/225\u001b[0m \u001b[32m━━━━━━━━━━━━━━━━━━━━\u001b[0m\u001b[37m\u001b[0m \u001b[1m77s\u001b[0m 341ms/step - accuracy: 0.9818 - loss: 0.0654 - val_accuracy: 0.5333 - val_loss: 3.2029 - learning_rate: 3.2400e-04\n"
     ]
    }
   ],
   "source": [
    "epochs = 50\n",
    "\n",
    "history = model.fit(\n",
    "    train_set,\n",
    "    validation_data = validation_set,\n",
    "    epochs = epochs,\n",
    "    callbacks = [lr_schedule, checkpoint_callback]\n",
    ")"
   ]
  },
  {
   "cell_type": "code",
   "execution_count": 18,
   "id": "1f82fa89",
   "metadata": {
    "execution": {
     "iopub.execute_input": "2025-01-17T14:12:02.719090Z",
     "iopub.status.busy": "2025-01-17T14:12:02.718722Z",
     "iopub.status.idle": "2025-01-17T14:12:03.014921Z",
     "shell.execute_reply": "2025-01-17T14:12:03.014196Z"
    },
    "papermill": {
     "duration": 1.407215,
     "end_time": "2025-01-17T14:12:03.016659",
     "exception": false,
     "start_time": "2025-01-17T14:12:01.609444",
     "status": "completed"
    },
    "tags": []
   },
   "outputs": [],
   "source": [
    "model.save('/kaggle/working/model/model.h5')"
   ]
  },
  {
   "cell_type": "markdown",
   "id": "53d761af",
   "metadata": {
    "papermill": {
     "duration": 1.034977,
     "end_time": "2025-01-17T14:12:05.117424",
     "exception": false,
     "start_time": "2025-01-17T14:12:04.082447",
     "status": "completed"
    },
    "tags": []
   },
   "source": [
    "# Visualization For Identifying Issues"
   ]
  },
  {
   "cell_type": "code",
   "execution_count": 19,
   "id": "140138e2",
   "metadata": {
    "execution": {
     "iopub.execute_input": "2025-01-17T14:12:07.251659Z",
     "iopub.status.busy": "2025-01-17T14:12:07.251320Z",
     "iopub.status.idle": "2025-01-17T14:12:07.585455Z",
     "shell.execute_reply": "2025-01-17T14:12:07.584517Z"
    },
    "papermill": {
     "duration": 1.411771,
     "end_time": "2025-01-17T14:12:07.586903",
     "exception": false,
     "start_time": "2025-01-17T14:12:06.175132",
     "status": "completed"
    },
    "tags": []
   },
   "outputs": [
    {
     "data": {
      "image/png": "[encoded data removed]",
      "text/plain": [
       "<Figure size 800x800 with 2 Axes>"
      ]
     },
     "metadata": {},
     "output_type": "display_data"
    }
   ],
   "source": [
    "acc = history.history['accuracy']\n",
    "val_acc = history.history['val_accuracy']\n",
    "\n",
    "loss = history.history['loss']\n",
    "val_loss = history.history['val_loss']\n",
    "\n",
    "epochs_range = range(epochs)\n",
    "\n",
    "plt.figure(figsize=(8, 8))\n",
    "plt.subplot(1, 2, 1)\n",
    "plt.plot(epochs_range, acc, label='Training Accuracy')\n",
    "plt.plot(epochs_range, val_acc, label='Validation Accuracy')\n",
    "plt.legend(loc='lower right')\n",
    "plt.title('Training and Validation Accuracy')\n",
    "\n",
    "plt.subplot(1, 2, 2)\n",
    "plt.plot(epochs_range, loss, label='Training Loss')\n",
    "plt.plot(epochs_range, val_loss, label='Validation Loss')\n",
    "plt.legend(loc='upper right')\n",
    "plt.title('Training and Validation Loss')\n",
    "plt.show()"
   ]
  },
  {
   "cell_type": "markdown",
   "id": "b132b39f",
   "metadata": {
    "papermill": {
     "duration": 1.063265,
     "end_time": "2025-01-17T14:12:09.726133",
     "exception": false,
     "start_time": "2025-01-17T14:12:08.662868",
     "status": "completed"
    },
    "tags": []
   },
   "source": [
    "# Model Evaluation"
   ]
  },
  {
   "cell_type": "code",
   "execution_count": 20,
   "id": "2feadec8",
   "metadata": {
    "execution": {
     "iopub.execute_input": "2025-01-17T14:12:11.764747Z",
     "iopub.status.busy": "2025-01-17T14:12:11.764258Z",
     "iopub.status.idle": "2025-01-17T14:12:17.419077Z",
     "shell.execute_reply": "2025-01-17T14:12:17.418371Z"
    },
    "papermill": {
     "duration": 6.707809,
     "end_time": "2025-01-17T14:12:17.420378",
     "exception": false,
     "start_time": "2025-01-17T14:12:10.712569",
     "status": "completed"
    },
    "tags": []
   },
   "outputs": [
    {
     "name": "stdout",
     "output_type": "stream",
     "text": [
      "\u001b[1m4/4\u001b[0m \u001b[32m━━━━━━━━━━━━━━━━━━━━\u001b[0m\u001b[37m\u001b[0m \u001b[1m6s\u001b[0m 2s/step - accuracy: 0.2367 - loss: 6.1381\n"
     ]
    }
   ],
   "source": [
    "(eval_loss, eval_accuracy) = model.evaluate(test_set, batch_size=batch_size, \\\n",
    "                                            verbose=1)"
   ]
  },
  {
   "cell_type": "code",
   "execution_count": null,
   "id": "58fffcaa",
   "metadata": {
    "papermill": {
     "duration": 1.065078,
     "end_time": "2025-01-17T14:12:19.548508",
     "exception": false,
     "start_time": "2025-01-17T14:12:18.483430",
     "status": "completed"
    },
    "tags": []
   },
   "outputs": [],
   "source": []
  }
 ],
 "metadata": {
  "kaggle": {
   "accelerator": "none",
   "dataSources": [
    {
     "datasetId": 319080,
     "sourceId": 643971,
     "sourceType": "datasetVersion"
    }
   ],
   "dockerImageVersionId": 30840,
   "isGpuEnabled": false,
   "isInternetEnabled": true,
   "language": "python",
   "sourceType": "notebook"
  },
  "kernelspec": {
   "display_name": "Python 3 (ipykernel)",
   "language": "python",
   "name": "python3"
  },
  "language_info": {
   "codemirror_mode": {
    "name": "ipython",
    "version": 3
   },
   "file_extension": ".py",
   "mimetype": "text/x-python",
   "name": "python",
   "nbconvert_exporter": "python",
   "pygments_lexer": "ipython3",
   "version": "3.9.7"
  },
  "papermill": {
   "default_parameters": {},
   "duration": 4216.678974,
   "end_time": "2025-01-17T14:12:23.939074",
   "environment_variables": {},
   "exception": null,
   "input_path": "__notebook__.ipynb",
   "output_path": "__notebook__.ipynb",
   "parameters": {},
   "start_time": "2025-01-17T13:02:07.260100",
   "version": "2.6.0"
  }
 },
 "nbformat": 4,
 "nbformat_minor": 5
}
