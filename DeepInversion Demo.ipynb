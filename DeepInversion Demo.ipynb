{
 "cells": [
  {
   "cell_type": "code",
   "execution_count": 1,
   "id": "ed0aeba3-2159-4464-b78f-17884f02eb99",
   "metadata": {},
   "outputs": [],
   "source": [
    "import torch\n",
    "from torch import nn\n",
    "\n",
    "import matplotlib.pyplot as plt\n",
    "%matplotlib inline"
   ]
  },
  {
   "cell_type": "code",
   "execution_count": 2,
   "id": "6b45f116-91d6-4eae-ae7a-ab6f1965bc81",
   "metadata": {},
   "outputs": [],
   "source": [
    "# Model Class\n",
    "class MNISTDigitClassifier(nn.Module):\n",
    "    def __init__(self, in_features, hidden_units, out_features):\n",
    "        super().__init__()\n",
    "        self.conv_layer_1 = nn.Sequential(\n",
    "            nn.Conv2d(in_channels=in_features, out_channels=hidden_units, kernel_size=(2, 2), stride=1, padding=0),\n",
    "            nn.ReLU(),\n",
    "            nn.MaxPool2d(kernel_size=(2, 2))\n",
    "        )\n",
    "        self.conv_layer_2 = nn.Sequential(\n",
    "            nn.Conv2d(in_channels=hidden_units, out_channels=hidden_units, kernel_size=(2, 2), stride=1, padding=0),\n",
    "            nn.ReLU(),\n",
    "            nn.MaxPool2d(kernel_size=(2, 2))\n",
    "        )\n",
    "\n",
    "        self.classifier = nn.Sequential(\n",
    "            nn.Flatten(), # (B, C, H, W) -> (B, C*H*W)\n",
    "            nn.Linear(in_features=360, out_features=out_features) # The value 360 is found by the computations\n",
    "            # done in the cells below.\n",
    "        )\n",
    "\n",
    "    def forward(self, X):\n",
    "        conv1_output = self.conv_layer_1(X)\n",
    "        conv2_output = self.conv_layer_2(conv1_output)\n",
    "        classifier_output = self.classifier(conv2_output)\n",
    "        \n",
    "        return classifier_output"
   ]
  },
  {
   "cell_type": "code",
   "execution_count": 3,
   "id": "81e8fa02-b247-462e-a4b5-babc7a075949",
   "metadata": {},
   "outputs": [],
   "source": [
    "cnn_model = MNISTDigitClassifier(in_features=1, hidden_units=10, out_features=10)"
   ]
  },
  {
   "cell_type": "code",
   "execution_count": 4,
   "id": "eafdee20-2209-40a5-9721-cd6a0a681f6f",
   "metadata": {},
   "outputs": [
    {
     "data": {
      "text/plain": [
       "<All keys matched successfully>"
      ]
     },
     "execution_count": 4,
     "metadata": {},
     "output_type": "execute_result"
    }
   ],
   "source": [
    "cnn_model.load_state_dict(torch.load('./saved models/MNIST_model.pth', weights_only=True))"
   ]
  },
  {
   "cell_type": "code",
   "execution_count": 5,
   "id": "485d6f4f-8c1f-4883-95de-b499856ce880",
   "metadata": {
    "scrolled": true
   },
   "outputs": [
    {
     "data": {
      "text/plain": [
       "tensor([[[[0.8823, 0.9150, 0.3829, 0.9593, 0.3904, 0.6009, 0.2566, 0.7936,\n",
       "           0.9408, 0.1332, 0.9346, 0.5936, 0.8694, 0.5677, 0.7411, 0.4294,\n",
       "           0.8854, 0.5739, 0.2666, 0.6274, 0.2696, 0.4414, 0.2969, 0.8317,\n",
       "           0.1053, 0.2695, 0.3588, 0.1994],\n",
       "          [0.5472, 0.0062, 0.9516, 0.0753, 0.8860, 0.5832, 0.3376, 0.8090,\n",
       "           0.5779, 0.9040, 0.5547, 0.3423, 0.6343, 0.3644, 0.7104, 0.9464,\n",
       "           0.7890, 0.2814, 0.7886, 0.5895, 0.7539, 0.1952, 0.0050, 0.3068,\n",
       "           0.1165, 0.9103, 0.6440, 0.7071],\n",
       "          [0.6581, 0.4913, 0.8913, 0.1447, 0.5315, 0.1587, 0.6542, 0.3278,\n",
       "           0.6532, 0.3958, 0.9147, 0.2036, 0.2018, 0.2018, 0.9497, 0.6666,\n",
       "           0.9811, 0.0874, 0.0041, 0.1088, 0.1637, 0.7025, 0.6790, 0.9155,\n",
       "           0.2418, 0.1591, 0.7653, 0.2979],\n",
       "          [0.8035, 0.3813, 0.7860, 0.1115, 0.2477, 0.6524, 0.6057, 0.3725,\n",
       "           0.7980, 0.8399, 0.1374, 0.2331, 0.9578, 0.3313, 0.3227, 0.0162,\n",
       "           0.2137, 0.6249, 0.4340, 0.1371, 0.5117, 0.1585, 0.0758, 0.2247,\n",
       "           0.0624, 0.1816, 0.9998, 0.5944],\n",
       "          [0.6541, 0.0337, 0.1716, 0.3336, 0.5782, 0.0600, 0.2846, 0.2007,\n",
       "           0.5014, 0.3139, 0.4654, 0.1612, 0.1568, 0.2083, 0.3289, 0.1054,\n",
       "           0.9192, 0.4008, 0.9302, 0.6558, 0.0766, 0.8460, 0.3624, 0.3083,\n",
       "           0.0850, 0.0029, 0.6431, 0.3908],\n",
       "          [0.6947, 0.0897, 0.8712, 0.1330, 0.4137, 0.6044, 0.7581, 0.9037,\n",
       "           0.9555, 0.1035, 0.6258, 0.2849, 0.4452, 0.1258, 0.9554, 0.1330,\n",
       "           0.7672, 0.6757, 0.6625, 0.2297, 0.9545, 0.6099, 0.5643, 0.0594,\n",
       "           0.7099, 0.4250, 0.2709, 0.9295],\n",
       "          [0.6115, 0.2234, 0.2469, 0.4761, 0.7792, 0.3722, 0.2147, 0.3288,\n",
       "           0.1265, 0.6783, 0.8870, 0.0293, 0.6161, 0.7583, 0.5907, 0.3219,\n",
       "           0.7610, 0.7628, 0.6870, 0.4121, 0.3676, 0.5535, 0.4117, 0.3510,\n",
       "           0.8196, 0.9297, 0.4505, 0.3881],\n",
       "          [0.5073, 0.4701, 0.6202, 0.6401, 0.0459, 0.3155, 0.9211, 0.6948,\n",
       "           0.4751, 0.1985, 0.1941, 0.0521, 0.3370, 0.6689, 0.8188, 0.7308,\n",
       "           0.0580, 0.1993, 0.4211, 0.9837, 0.5723, 0.3705, 0.7069, 0.3096,\n",
       "           0.1764, 0.8649, 0.2726, 0.3998],\n",
       "          [0.0026, 0.8346, 0.8788, 0.6822, 0.1514, 0.0065, 0.0939, 0.8729,\n",
       "           0.7401, 0.9208, 0.7619, 0.6265, 0.4951, 0.1197, 0.0716, 0.0323,\n",
       "           0.7047, 0.2545, 0.3994, 0.2122, 0.4089, 0.1481, 0.1733, 0.6659,\n",
       "           0.3514, 0.8087, 0.3396, 0.1332],\n",
       "          [0.4118, 0.2576, 0.3470, 0.0240, 0.7797, 0.1519, 0.7513, 0.7269,\n",
       "           0.8572, 0.1165, 0.8596, 0.2636, 0.6855, 0.9696, 0.4295, 0.4961,\n",
       "           0.3849, 0.0825, 0.7400, 0.0036, 0.8104, 0.8741, 0.9729, 0.3821,\n",
       "           0.0892, 0.6124, 0.7762, 0.0023],\n",
       "          [0.3865, 0.2003, 0.4563, 0.2539, 0.2956, 0.3413, 0.0248, 0.9103,\n",
       "           0.9192, 0.4216, 0.4431, 0.2959, 0.0485, 0.0134, 0.6858, 0.2255,\n",
       "           0.1786, 0.4610, 0.3335, 0.3382, 0.5161, 0.3939, 0.3278, 0.2606,\n",
       "           0.0931, 0.9193, 0.2999, 0.6325],\n",
       "          [0.3265, 0.5406, 0.9662, 0.7304, 0.0667, 0.6985, 0.9746, 0.6315,\n",
       "           0.8352, 0.9929, 0.4234, 0.6038, 0.1525, 0.3970, 0.8703, 0.7563,\n",
       "           0.1836, 0.0991, 0.1583, 0.0066, 0.1142, 0.3764, 0.8374, 0.5837,\n",
       "           0.1197, 0.0989, 0.7487, 0.1281],\n",
       "          [0.4384, 0.7399, 0.2686, 0.4455, 0.4565, 0.3817, 0.2465, 0.0543,\n",
       "           0.0958, 0.2323, 0.9829, 0.2585, 0.1642, 0.6212, 0.6378, 0.7740,\n",
       "           0.8801, 0.7784, 0.0042, 0.5443, 0.8029, 0.4538, 0.2054, 0.9767,\n",
       "           0.3130, 0.2153, 0.0492, 0.5223],\n",
       "          [0.7216, 0.6107, 0.5989, 0.1208, 0.0331, 0.5088, 0.9559, 0.7885,\n",
       "           0.2089, 0.4351, 0.1314, 0.2588, 0.5905, 0.7723, 0.9142, 0.0409,\n",
       "           0.8343, 0.1474, 0.6872, 0.9231, 0.5070, 0.9549, 0.0740, 0.3090,\n",
       "           0.7916, 0.3911, 0.3976, 0.2916],\n",
       "          [0.8447, 0.7453, 0.6602, 0.2190, 0.0941, 0.5541, 0.6481, 0.2691,\n",
       "           0.3601, 0.8377, 0.5398, 0.5226, 0.3769, 0.0472, 0.0299, 0.2610,\n",
       "           0.2458, 0.6558, 0.3544, 0.3044, 0.9767, 0.6742, 0.8565, 0.2579,\n",
       "           0.2958, 0.6838, 0.1669, 0.1731],\n",
       "          [0.4759, 0.3171, 0.1252, 0.7966, 0.9021, 0.5811, 0.4129, 0.0369,\n",
       "           0.3179, 0.6273, 0.7358, 0.4368, 0.3023, 0.7786, 0.1018, 0.8160,\n",
       "           0.3060, 0.5077, 0.4012, 0.5606, 0.3489, 0.8636, 0.4870, 0.8903,\n",
       "           0.9807, 0.2564, 0.1352, 0.9012],\n",
       "          [0.8918, 0.1182, 0.4613, 0.0069, 0.0907, 0.5966, 0.6330, 0.6060,\n",
       "           0.3639, 0.9613, 0.5715, 0.2050, 0.4717, 0.6201, 0.6751, 0.1465,\n",
       "           0.6874, 0.2446, 0.0845, 0.2269, 0.9822, 0.9274, 0.9477, 0.7935,\n",
       "           0.8777, 0.4331, 0.2249, 0.7498],\n",
       "          [0.2409, 0.1626, 0.3403, 0.6049, 0.7574, 0.3058, 0.2057, 0.5674,\n",
       "           0.2053, 0.1745, 0.7606, 0.4160, 0.9569, 0.9864, 0.6496, 0.6721,\n",
       "           0.6151, 0.5078, 0.4636, 0.5069, 0.6867, 0.9649, 0.3704, 0.2886,\n",
       "           0.3789, 0.2584, 0.5850, 0.8732],\n",
       "          [0.8910, 0.7296, 0.1320, 0.2316, 0.3901, 0.4078, 0.5411, 0.0410,\n",
       "           0.6556, 0.1186, 0.1836, 0.0843, 0.9357, 0.0265, 0.8772, 0.4832,\n",
       "           0.4419, 0.8127, 0.4538, 0.8136, 0.8615, 0.0659, 0.6924, 0.5944,\n",
       "           0.6075, 0.5730, 0.6368, 0.2595],\n",
       "          [0.4360, 0.9751, 0.8359, 0.4812, 0.0297, 0.5219, 0.1595, 0.9066,\n",
       "           0.1965, 0.4639, 0.3890, 0.5890, 0.9705, 0.5475, 0.7896, 0.8881,\n",
       "           0.9037, 0.3273, 0.3882, 0.7410, 0.3636, 0.7341, 0.3908, 0.1609,\n",
       "           0.7035, 0.5767, 0.7229, 0.9967],\n",
       "          [0.8414, 0.9740, 0.5268, 0.0699, 0.1492, 0.1894, 0.0594, 0.2494,\n",
       "           0.0397, 0.0387, 0.2012, 0.0071, 0.1931, 0.6907, 0.9170, 0.3513,\n",
       "           0.3546, 0.7670, 0.2533, 0.2636, 0.8081, 0.0643, 0.5611, 0.9417,\n",
       "           0.5857, 0.6360, 0.2088, 0.4931],\n",
       "          [0.5275, 0.6227, 0.6943, 0.9345, 0.1184, 0.5150, 0.2502, 0.1045,\n",
       "           0.4600, 0.0599, 0.8489, 0.5579, 0.2305, 0.7613, 0.0268, 0.3066,\n",
       "           0.4026, 0.0751, 0.1821, 0.4184, 0.8794, 0.9828, 0.8181, 0.2014,\n",
       "           0.1729, 0.9363, 0.6769, 0.5133],\n",
       "          [0.5677, 0.0982, 0.3331, 0.9813, 0.3767, 0.4749, 0.0848, 0.2203,\n",
       "           0.4898, 0.1894, 0.4380, 0.7035, 0.0109, 0.6485, 0.1694, 0.2560,\n",
       "           0.6920, 0.8976, 0.3633, 0.2947, 0.0479, 0.2422, 0.0622, 0.3856,\n",
       "           0.6020, 0.0316, 0.9366, 0.8137],\n",
       "          [0.0105, 0.2612, 0.6631, 0.3973, 0.4455, 0.2742, 0.9016, 0.2205,\n",
       "           0.9146, 0.5323, 0.6005, 0.8901, 0.4176, 0.2153, 0.4191, 0.9055,\n",
       "           0.1290, 0.6135, 0.0086, 0.7622, 0.6847, 0.5212, 0.7146, 0.5006,\n",
       "           0.7767, 0.1042, 0.4266, 0.7218],\n",
       "          [0.9979, 0.7547, 0.1364, 0.8845, 0.3885, 0.3932, 0.0455, 0.4213,\n",
       "           0.8537, 0.5697, 0.2088, 0.6539, 0.3397, 0.9565, 0.0660, 0.3421,\n",
       "           0.0172, 0.3031, 0.6576, 0.9813, 0.5840, 0.9902, 0.5978, 0.7888,\n",
       "           0.9008, 0.9180, 0.2201, 0.9597],\n",
       "          [0.8029, 0.2662, 0.2614, 0.0806, 0.6256, 0.0947, 0.7112, 0.6579,\n",
       "           0.0656, 0.6363, 0.4593, 0.7284, 0.7869, 0.0029, 0.9585, 0.9193,\n",
       "           0.6989, 0.0430, 0.3214, 0.3551, 0.3715, 0.7820, 0.6818, 0.8961,\n",
       "           0.3127, 0.6683, 0.6779, 0.0837],\n",
       "          [0.0150, 0.2406, 0.8423, 0.0293, 0.0648, 0.7801, 0.7698, 0.9112,\n",
       "           0.1225, 0.1341, 0.7565, 0.9348, 0.7992, 0.5783, 0.6648, 0.9746,\n",
       "           0.1774, 0.2730, 0.8497, 0.1579, 0.2243, 0.8650, 0.6578, 0.6615,\n",
       "           0.2881, 0.4931, 0.9576, 0.1999],\n",
       "          [0.5039, 0.7378, 0.1548, 0.9856, 0.2502, 0.3799, 0.3647, 0.1742,\n",
       "           0.0094, 0.7819, 0.6328, 0.0317, 0.1782, 0.9942, 0.6911, 0.7006,\n",
       "           0.2009, 0.2808, 0.4245, 0.4086, 0.1574, 0.5412, 0.5497, 0.4367,\n",
       "           0.5693, 0.3018, 0.6301, 0.6886]]]], requires_grad=True)"
      ]
     },
     "execution_count": 5,
     "metadata": {},
     "output_type": "execute_result"
    }
   ],
   "source": [
    "# Deep inversion attack\n",
    "# Create a random image\n",
    "torch.manual_seed(42)\n",
    "random_image = torch.rand(size=(1, 1, 28, 28), requires_grad=True) # requires_grad = True is very important here for our purpose.\n",
    "random_image"
   ]
  },
  {
   "cell_type": "code",
   "execution_count": 6,
   "id": "e72d76fc-7fca-4590-9f11-69f877fb9bc0",
   "metadata": {},
   "outputs": [
    {
     "data": {
      "text/plain": [
       "<matplotlib.image.AxesImage at 0x1c451c24df0>"
      ]
     },
     "execution_count": 6,
     "metadata": {},
     "output_type": "execute_result"
    },
    {
     "data": {
      "image/png": "[encoded data removed]",
      "text/plain": [
       "<Figure size 640x480 with 1 Axes>"
      ]
     },
     "metadata": {},
     "output_type": "display_data"
    }
   ],
   "source": [
    "# Visualize this random image\n",
    "plt.imshow(random_image.detach().squeeze(dim=0).squeeze(dim=0), cmap='gray')"
   ]
  },
  {
   "cell_type": "code",
   "execution_count": 7,
   "id": "90caf635-7ac3-4b69-8ee0-7bf28bd00d8a",
   "metadata": {},
   "outputs": [],
   "source": [
    "label = 5 # We want to see what needs to be fed to the model to get the label 5 (digit 6)"
   ]
  },
  {
   "cell_type": "code",
   "execution_count": 8,
   "id": "ee0a9b65-3c28-4d47-8064-cf51f0527963",
   "metadata": {},
   "outputs": [],
   "source": [
    "loss_function = nn.CrossEntropyLoss()\n",
    "optimizer = torch.optim.SGD([random_image], lr=0.0001, momentum=0.9)"
   ]
  },
  {
   "cell_type": "code",
   "execution_count": 9,
   "id": "1dc9226d-ab25-4f29-8b34-02fda8491f6e",
   "metadata": {
    "scrolled": true
   },
   "outputs": [
    {
     "name": "stdout",
     "output_type": "stream",
     "text": [
      "Round: 0. Loss: 6.957412242889404\n",
      "Round: 1000. Loss: 0.0008755664457567036\n",
      "Round: 2000. Loss: 0.0005220004240982234\n",
      "Round: 3000. Loss: 0.00037377048283815384\n",
      "Round: 4000. Loss: 0.00029213930247351527\n",
      "Round: 5000. Loss: 0.00024053541710600257\n",
      "Round: 6000. Loss: 0.0002047805901383981\n",
      "Round: 7000. Loss: 0.00017855956684798002\n",
      "Round: 8000. Loss: 0.00015829740732442588\n",
      "Round: 9000. Loss: 0.00014232576359063387\n",
      "Round: 10000. Loss: 0.0001294529065489769\n",
      "Round: 11000. Loss: 0.00011860620725201443\n",
      "Round: 12000. Loss: 0.00010954733443213627\n",
      "Round: 13000. Loss: 0.00010179955279454589\n",
      "Round: 14000. Loss: 9.512448741588742e-05\n",
      "Round: 15000. Loss: 8.940297266235575e-05\n",
      "Round: 16000. Loss: 8.427741704508662e-05\n",
      "Round: 17000. Loss: 7.986703712958843e-05\n",
      "Round: 18000. Loss: 7.581423415103927e-05\n",
      "Round: 19000. Loss: 7.211902266135439e-05\n",
      "Round: 20000. Loss: 6.878139538457617e-05\n",
      "Round: 21000. Loss: 6.568216485902667e-05\n",
      "Round: 22000. Loss: 6.294052582234144e-05\n",
      "Round: 23000. Loss: 6.0437283536884934e-05\n",
      "Round: 24000. Loss: 5.8053239627042785e-05\n",
      "Round: 25000. Loss: 5.590759246842936e-05\n",
      "Round: 26000. Loss: 5.3881147323409095e-05\n",
      "Round: 27000. Loss: 5.209310256759636e-05\n",
      "Round: 28000. Loss: 5.030505417380482e-05\n",
      "Round: 29000. Loss: 4.875540980719961e-05\n",
      "Round: 30000. Loss: 4.7205765440594405e-05\n",
      "Round: 31000. Loss: 4.589452510117553e-05\n",
      "Round: 32000. Loss: 4.458328112377785e-05\n",
      "Round: 33000. Loss: 4.327203714638017e-05\n",
      "Round: 34000. Loss: 4.207999518257566e-05\n",
      "Round: 35000. Loss: 4.100715523236431e-05\n",
      "Round: 36000. Loss: 3.9934315282152966e-05\n",
      "Round: 37000. Loss: 3.8980677345534787e-05\n",
      "Round: 38000. Loss: 3.802703940891661e-05\n",
      "Round: 39000. Loss: 3.707340147229843e-05\n",
      "Round: 40000. Loss: 3.6238969187252223e-05\n",
      "Round: 41000. Loss: 3.540453326422721e-05\n",
      "Round: 42000. Loss: 3.4689302992774174e-05\n",
      "Round: 43000. Loss: 3.3854863431770355e-05\n",
      "Round: 44000. Loss: 3.313963316031732e-05\n",
      "Round: 45000. Loss: 3.2543604902457446e-05\n",
      "Round: 46000. Loss: 3.182837463100441e-05\n",
      "Round: 47000. Loss: 3.123234637314454e-05\n",
      "Round: 48000. Loss: 3.0636318115284666e-05\n",
      "Round: 49000. Loss: 3.0040289857424796e-05\n",
      "Round: 50000. Loss: 2.9444261599564925e-05\n",
      "Round: 51000. Loss: 2.8967437174287625e-05\n",
      "Round: 52000. Loss: 2.8490614567999728e-05\n",
      "Round: 53000. Loss: 2.8013790142722428e-05\n",
      "Round: 54000. Loss: 2.753696753643453e-05\n",
      "Round: 55000. Loss: 2.706014311115723e-05\n",
      "Round: 56000. Loss: 2.658331868587993e-05\n",
      "Round: 57000. Loss: 2.6225699912174605e-05\n",
      "Round: 58000. Loss: 2.5748875486897305e-05\n",
      "Round: 59000. Loss: 2.539125671319198e-05\n",
      "Round: 60000. Loss: 2.5033637939486653e-05\n",
      "Round: 61000. Loss: 2.4676019165781327e-05\n",
      "Round: 62000. Loss: 2.4318398573086597e-05\n",
      "Round: 63000. Loss: 2.396077979938127e-05\n",
      "Round: 64000. Loss: 2.3603161025675945e-05\n",
      "Round: 65000. Loss: 2.3245540432981215e-05\n",
      "Round: 66000. Loss: 2.3007127310847864e-05\n",
      "Round: 67000. Loss: 2.2649508537142538e-05\n",
      "Round: 68000. Loss: 2.2411095415009186e-05\n",
      "Round: 69000. Loss: 2.2053474822314456e-05\n",
      "Round: 70000. Loss: 2.1815061700181104e-05\n",
      "Round: 71000. Loss: 2.1576648578047752e-05\n",
      "Round: 72000. Loss: 2.13382354559144e-05\n",
      "Round: 73000. Loss: 2.098061486321967e-05\n",
      "Round: 74000. Loss: 2.074220174108632e-05\n",
      "Round: 75000. Loss: 2.0503786799963564e-05\n",
      "Round: 76000. Loss: 2.0265373677830212e-05\n",
      "Round: 77000. Loss: 2.002696055569686e-05\n",
      "Round: 78000. Loss: 1.9788545614574105e-05\n",
      "Round: 79000. Loss: 1.966933996300213e-05\n",
      "Round: 80000. Loss: 1.9430925021879375e-05\n",
      "Round: 81000. Loss: 1.9192511899746023e-05\n",
      "Round: 82000. Loss: 1.9073304429184645e-05\n",
      "Round: 83000. Loss: 1.883488948806189e-05\n",
      "Round: 84000. Loss: 1.8596476365928538e-05\n",
      "Round: 85000. Loss: 1.847726889536716e-05\n",
      "Round: 86000. Loss: 1.823885577323381e-05\n",
      "Round: 87000. Loss: 1.811964830267243e-05\n",
      "Round: 88000. Loss: 1.7881233361549675e-05\n",
      "Round: 89000. Loss: 1.7762025890988298e-05\n",
      "Round: 90000. Loss: 1.764281842042692e-05\n",
      "Round: 91000. Loss: 1.7404405298293568e-05\n",
      "Round: 92000. Loss: 1.728519782773219e-05\n",
      "Round: 93000. Loss: 1.7165990357170813e-05\n",
      "Round: 94000. Loss: 1.7046782886609435e-05\n",
      "Round: 95000. Loss: 1.680836794548668e-05\n",
      "Round: 96000. Loss: 1.6689160474925302e-05\n",
      "Round: 97000. Loss: 1.6569954823353328e-05\n",
      "Round: 98000. Loss: 1.645074735279195e-05\n",
      "Round: 99000. Loss: 1.6331539882230572e-05\n",
      "Round: 100000. Loss: 1.6212332411669195e-05\n",
      "Round: 101000. Loss: 1.6093124941107817e-05\n",
      "Round: 102000. Loss: 1.597391747054644e-05\n",
      "Round: 103000. Loss: 1.585470999998506e-05\n",
      "Round: 104000. Loss: 1.5735502529423684e-05\n",
      "Round: 105000. Loss: 1.5616295058862306e-05\n",
      "Round: 106000. Loss: 1.549708758830093e-05\n",
      "Round: 107000. Loss: 1.537788011773955e-05\n",
      "Round: 108000. Loss: 1.5258672647178173e-05\n",
      "Round: 109000. Loss: 1.5139465176616795e-05\n",
      "Round: 110000. Loss: 1.5020257706055418e-05\n",
      "Round: 111000. Loss: 1.490105023549404e-05\n",
      "Round: 112000. Loss: 1.4781842764932662e-05\n",
      "Round: 113000. Loss: 1.4662635294371285e-05\n",
      "Round: 114000. Loss: 1.4543427823809907e-05\n",
      "Round: 115000. Loss: 1.4424220353248529e-05\n",
      "Round: 116000. Loss: 1.4424220353248529e-05\n",
      "Round: 117000. Loss: 1.4305012882687151e-05\n",
      "Round: 118000. Loss: 1.4185804502631072e-05\n",
      "Round: 119000. Loss: 1.4066597032069694e-05\n",
      "Round: 120000. Loss: 1.4066597032069694e-05\n",
      "Round: 121000. Loss: 1.3947389561508317e-05\n",
      "Round: 122000. Loss: 1.3828182090946939e-05\n",
      "Round: 123000. Loss: 1.3708974620385561e-05\n",
      "Round: 124000. Loss: 1.3708974620385561e-05\n",
      "Round: 125000. Loss: 1.3589766240329482e-05\n",
      "Round: 126000. Loss: 1.3470558769768104e-05\n",
      "Round: 127000. Loss: 1.3470558769768104e-05\n",
      "Round: 128000. Loss: 1.3351351299206726e-05\n",
      "Round: 129000. Loss: 1.3232143828645349e-05\n",
      "Round: 130000. Loss: 1.3232143828645349e-05\n",
      "Round: 131000. Loss: 1.3112935448589269e-05\n",
      "Round: 132000. Loss: 1.2993727978027891e-05\n",
      "Round: 133000. Loss: 1.2993727978027891e-05\n",
      "Round: 134000. Loss: 1.2874520507466514e-05\n",
      "Round: 135000. Loss: 1.2755313036905136e-05\n",
      "Round: 136000. Loss: 1.2755313036905136e-05\n",
      "Round: 137000. Loss: 1.2636104656849056e-05\n",
      "Round: 138000. Loss: 1.2636104656849056e-05\n",
      "Round: 139000. Loss: 1.2516897186287679e-05\n",
      "Round: 140000. Loss: 1.2397689715726301e-05\n",
      "Round: 141000. Loss: 1.2397689715726301e-05\n",
      "Round: 142000. Loss: 1.2278481335670222e-05\n",
      "Round: 143000. Loss: 1.2278481335670222e-05\n",
      "Round: 144000. Loss: 1.2159273865108844e-05\n",
      "Round: 145000. Loss: 1.2159273865108844e-05\n",
      "Round: 146000. Loss: 1.2040065485052764e-05\n",
      "Round: 147000. Loss: 1.2040065485052764e-05\n",
      "Round: 148000. Loss: 1.1920858014491387e-05\n",
      "Round: 149000. Loss: 1.1920858014491387e-05\n",
      "Round: 150000. Loss: 1.1801649634435307e-05\n",
      "Round: 151000. Loss: 1.1801649634435307e-05\n",
      "Round: 152000. Loss: 1.168244216387393e-05\n",
      "Round: 153000. Loss: 1.168244216387393e-05\n",
      "Round: 154000. Loss: 1.156323378381785e-05\n",
      "Round: 155000. Loss: 1.156323378381785e-05\n",
      "Round: 156000. Loss: 1.1444026313256472e-05\n",
      "Round: 157000. Loss: 1.1444026313256472e-05\n",
      "Round: 158000. Loss: 1.1324817933200393e-05\n",
      "Round: 159000. Loss: 1.1324817933200393e-05\n",
      "Round: 160000. Loss: 1.1324817933200393e-05\n",
      "Round: 161000. Loss: 1.1205610462639015e-05\n",
      "Round: 162000. Loss: 1.1205610462639015e-05\n",
      "Round: 163000. Loss: 1.1086402082582936e-05\n",
      "Round: 164000. Loss: 1.1086402082582936e-05\n",
      "Round: 165000. Loss: 1.0967194612021558e-05\n",
      "Round: 166000. Loss: 1.0967194612021558e-05\n",
      "Round: 167000. Loss: 1.0847986231965479e-05\n",
      "Round: 168000. Loss: 1.0847986231965479e-05\n",
      "Round: 169000. Loss: 1.0847986231965479e-05\n",
      "Round: 170000. Loss: 1.07287787614041e-05\n",
      "Round: 171000. Loss: 1.07287787614041e-05\n",
      "Round: 172000. Loss: 1.0609570381348021e-05\n",
      "Round: 173000. Loss: 1.0609570381348021e-05\n",
      "Round: 174000. Loss: 1.0609570381348021e-05\n",
      "Round: 175000. Loss: 1.0490362910786644e-05\n",
      "Round: 176000. Loss: 1.0490362910786644e-05\n",
      "Round: 177000. Loss: 1.0490362910786644e-05\n",
      "Round: 178000. Loss: 1.0371154530730564e-05\n",
      "Round: 179000. Loss: 1.0371154530730564e-05\n",
      "Round: 180000. Loss: 1.0371154530730564e-05\n",
      "Round: 181000. Loss: 1.0251946150674485e-05\n",
      "Round: 182000. Loss: 1.0251946150674485e-05\n",
      "Round: 183000. Loss: 1.0132738680113107e-05\n",
      "Round: 184000. Loss: 1.0132738680113107e-05\n",
      "Round: 185000. Loss: 1.0132738680113107e-05\n",
      "Round: 186000. Loss: 1.0013530300057027e-05\n",
      "Round: 187000. Loss: 1.0013530300057027e-05\n",
      "Round: 188000. Loss: 1.0013530300057027e-05\n",
      "Round: 189000. Loss: 9.894321920000948e-06\n",
      "Round: 190000. Loss: 9.894321920000948e-06\n",
      "Round: 191000. Loss: 9.894321920000948e-06\n",
      "Round: 192000. Loss: 9.894321920000948e-06\n",
      "Round: 193000. Loss: 9.775113539944869e-06\n",
      "Round: 194000. Loss: 9.775113539944869e-06\n",
      "Round: 195000. Loss: 9.775113539944869e-06\n",
      "Round: 196000. Loss: 9.65590606938349e-06\n",
      "Round: 197000. Loss: 9.65590606938349e-06\n",
      "Round: 198000. Loss: 9.65590606938349e-06\n",
      "Round: 199000. Loss: 9.536697689327411e-06\n"
     ]
    }
   ],
   "source": [
    "rounds = 200000\n",
    "for i in range(0, rounds):\n",
    "    logits = cnn_model(random_image)\n",
    "\n",
    "    loss = loss_function(logits, torch.tensor(label).unsqueeze(dim=0))\n",
    "\n",
    "    optimizer.zero_grad()\n",
    "\n",
    "    loss.backward()\n",
    "\n",
    "    optimizer.step()\n",
    "\n",
    "    if i % 1000 == 0:\n",
    "        print(f'Round: {i}. Loss: {loss.item()}')"
   ]
  },
  {
   "cell_type": "code",
   "execution_count": 10,
   "id": "a00dada8-52f5-4bdb-a347-e506c8d0cc69",
   "metadata": {},
   "outputs": [
    {
     "data": {
      "text/plain": [
       "<matplotlib.image.AxesImage at 0x1c468e7c400>"
      ]
     },
     "execution_count": 10,
     "metadata": {},
     "output_type": "execute_result"
    },
    {
     "data": {
      "image/png": "[encoded data removed]",
      "text/plain": [
       "<Figure size 640x480 with 1 Axes>"
      ]
     },
     "metadata": {},
     "output_type": "display_data"
    }
   ],
   "source": [
    "# Visualize this random image after training\n",
    "plt.imshow(random_image.detach().squeeze(dim=0).squeeze(dim=0), cmap='gray')"
   ]
  },
  {
   "cell_type": "code",
   "execution_count": 11,
   "id": "e7c12e6a-b77b-4ba7-a6e8-2494e6f39dca",
   "metadata": {},
   "outputs": [
    {
     "data": {
      "text/plain": [
       "torch.Size([1, 1, 28, 28])"
      ]
     },
     "execution_count": 11,
     "metadata": {},
     "output_type": "execute_result"
    }
   ],
   "source": [
    "random_image.shape"
   ]
  },
  {
   "cell_type": "code",
   "execution_count": 12,
   "id": "90e686a5-0c14-4568-bb90-653f148b4a9a",
   "metadata": {},
   "outputs": [],
   "source": [
    "def func(x):\n",
    "    min_value = 0.1\n",
    "    if x > min_value:\n",
    "        return x\n",
    "    return 0"
   ]
  },
  {
   "cell_type": "code",
   "execution_count": 13,
   "id": "e2c05441-dd17-4715-9715-0807e5f9f837",
   "metadata": {},
   "outputs": [],
   "source": [
    "random_image = random_image.detach().apply_(func)"
   ]
  },
  {
   "cell_type": "code",
   "execution_count": 14,
   "id": "21c5de88-3ac8-4e46-83c1-54a1a818b327",
   "metadata": {},
   "outputs": [
    {
     "data": {
      "text/plain": [
       "<matplotlib.image.AxesImage at 0x1c468fc1100>"
      ]
     },
     "execution_count": 14,
     "metadata": {},
     "output_type": "execute_result"
    },
    {
     "data": {
      "image/png": "[encoded data removed]",
      "text/plain": [
       "<Figure size 640x480 with 1 Axes>"
      ]
     },
     "metadata": {},
     "output_type": "display_data"
    }
   ],
   "source": [
    "# Visualize this random image after training and cutting off some pixels\n",
    "plt.imshow(random_image.detach().squeeze(dim=0).squeeze(dim=0), cmap='gray')"
   ]
  },
  {
   "cell_type": "code",
   "execution_count": 15,
   "id": "412114f2-e8d6-4300-b0ce-39e093a83641",
   "metadata": {},
   "outputs": [
    {
     "data": {
      "text/plain": [
       "tensor([[  1.7012, -11.9649,   6.6852,   5.3327, -11.6066,  19.8479,  -5.8164,\n",
       "         -17.1510,   8.4514,   4.5206]], grad_fn=<AddmmBackward0>)"
      ]
     },
     "execution_count": 15,
     "metadata": {},
     "output_type": "execute_result"
    }
   ],
   "source": [
    "# Predict\n",
    "logits = cnn_model(random_image)\n",
    "logits"
   ]
  },
  {
   "cell_type": "code",
   "execution_count": null,
   "id": "0f765a8b-2b31-422c-a377-7bede11e208b",
   "metadata": {},
   "outputs": [],
   "source": []
  }
 ],
 "metadata": {
  "kernelspec": {
   "display_name": "Python 3 (ipykernel)",
   "language": "python",
   "name": "python3"
  },
  "language_info": {
   "codemirror_mode": {
    "name": "ipython",
    "version": 3
   },
   "file_extension": ".py",
   "mimetype": "text/x-python",
   "name": "python",
   "nbconvert_exporter": "python",
   "pygments_lexer": "ipython3",
   "version": "3.9.7"
  }
 },
 "nbformat": 4,
 "nbformat_minor": 5
}
